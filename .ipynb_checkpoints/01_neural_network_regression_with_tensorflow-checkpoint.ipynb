{
 "cells": [
  {
   "cell_type": "code",
   "execution_count": null,
   "id": "d1d332c5",
   "metadata": {},
   "outputs": [],
   "source": []
  },
  {
   "cell_type": "markdown",
   "id": "ae1f3f01",
   "metadata": {},
   "source": [
    "# Introduction to Regression with Neural Networks in TensorFlow\n",
    "\n",
    "There are many definitions for a regression problem, but to make it simple : predicting a continuous (numerical) variable based on some other combination of variables."
   ]
  },
  {
   "cell_type": "code",
   "execution_count": 1,
   "id": "3ebcab60",
   "metadata": {},
   "outputs": [
    {
     "name": "stdout",
     "output_type": "stream",
     "text": [
      "2.10.0\n"
     ]
    }
   ],
   "source": [
    "# Import TensorFlow\n",
    "import tensorflow as tf\n",
    "print(tf.__version__)"
   ]
  },
  {
   "cell_type": "code",
   "execution_count": 2,
   "id": "46175302",
   "metadata": {},
   "outputs": [],
   "source": [
    "import numpy as np\n",
    "import matplotlib.pyplot as plt"
   ]
  },
  {
   "cell_type": "code",
   "execution_count": null,
   "id": "741b092f",
   "metadata": {},
   "outputs": [],
   "source": []
  },
  {
   "cell_type": "markdown",
   "id": "3ea9cdd1",
   "metadata": {},
   "source": [
    "### Creating data to view and fit"
   ]
  },
  {
   "cell_type": "code",
   "execution_count": 3,
   "id": "dc6c9d96",
   "metadata": {},
   "outputs": [
    {
     "data": {
      "text/plain": [
       "<matplotlib.collections.PathCollection at 0x1765bad9310>"
      ]
     },
     "execution_count": 3,
     "metadata": {},
     "output_type": "execute_result"
    },
    {
     "data": {
      "image/png": "[encoded data removed]",
      "text/plain": [
       "<Figure size 432x288 with 1 Axes>"
      ]
     },
     "metadata": {
      "needs_background": "light"
     },
     "output_type": "display_data"
    }
   ],
   "source": [
    "# Create features\n",
    "X = np.array([-7., -4, -1, 2, 5, 8, 11, 14])\n",
    "\n",
    "# Create labels\n",
    "y = np.array([3., 6, 9, 12, 15, 18, 21, 24])\n",
    "\n",
    "# Visualize it\n",
    "plt.scatter(X,y)"
   ]
  },
  {
   "cell_type": "code",
   "execution_count": 4,
   "id": "2e244a47",
   "metadata": {},
   "outputs": [
    {
     "data": {
      "text/plain": [
       "array([ 3.,  6.,  9., 12., 15., 18., 21., 24.])"
      ]
     },
     "execution_count": 4,
     "metadata": {},
     "output_type": "execute_result"
    }
   ],
   "source": [
    "X+10"
   ]
  },
  {
   "cell_type": "code",
   "execution_count": 5,
   "id": "fb87b2bc",
   "metadata": {},
   "outputs": [
    {
     "data": {
      "text/plain": [
       "array([ True,  True,  True,  True,  True,  True,  True,  True])"
      ]
     },
     "execution_count": 5,
     "metadata": {},
     "output_type": "execute_result"
    }
   ],
   "source": [
    "y == X+10"
   ]
  },
  {
   "cell_type": "code",
   "execution_count": 6,
   "id": "e18c377b",
   "metadata": {},
   "outputs": [
    {
     "data": {
      "text/plain": [
       "(TensorShape([8]), TensorShape([8]))"
      ]
     },
     "execution_count": 6,
     "metadata": {},
     "output_type": "execute_result"
    }
   ],
   "source": [
    "# Turning the NumPy arrays into tensors\n",
    "X = tf.constant(X)\n",
    "y = tf.constant(y)\n",
    "X.shape, y.shape"
   ]
  },
  {
   "cell_type": "code",
   "execution_count": 7,
   "id": "f4485d20",
   "metadata": {},
   "outputs": [
    {
     "data": {
      "text/plain": [
       "<tf.Tensor: shape=(8,), dtype=float64, numpy=array([-7., -4., -1.,  2.,  5.,  8., 11., 14.])>"
      ]
     },
     "execution_count": 7,
     "metadata": {},
     "output_type": "execute_result"
    }
   ],
   "source": [
    "X"
   ]
  },
  {
   "cell_type": "code",
   "execution_count": 8,
   "id": "5e0fe4a9",
   "metadata": {},
   "outputs": [
    {
     "data": {
      "text/plain": [
       "<tf.Tensor: shape=(8, 1), dtype=float64, numpy=\n",
       "array([[-7.],\n",
       "       [-4.],\n",
       "       [-1.],\n",
       "       [ 2.],\n",
       "       [ 5.],\n",
       "       [ 8.],\n",
       "       [11.],\n",
       "       [14.]])>"
      ]
     },
     "execution_count": 8,
     "metadata": {},
     "output_type": "execute_result"
    }
   ],
   "source": [
    "# Expand the dimension of a tensor : https://www.geeksforgeeks.org/python-tensorflow-expand_dims/\n",
    "tf.expand_dims(X, axis=-1)"
   ]
  },
  {
   "cell_type": "code",
   "execution_count": null,
   "id": "f5304102",
   "metadata": {},
   "outputs": [],
   "source": []
  },
  {
   "cell_type": "markdown",
   "id": "612e394c",
   "metadata": {},
   "source": [
    "### Steps in modeling in TensorFlow\n",
    "\n",
    "1. **Creating the model** - define the input and output layers, as well as the hidden layers of a deep learning model.\n",
    "2. **Compiling the model** - define the loss function (the function which will tells our model how far its from performing well), the optimizer (tells the model how to update its internal patterns to better its predictions) and the evaluation metrics (human interpretable values for how well the model is doing).\n",
    "3. **Fitting the model** - letting the model try to find patterns between features and labels.\n",
    "4. **Evaluation** - Evaluate the model on the test data (in order to know how reliable are the model's predictions ?)\n",
    "\n",
    "\n",
    "In TensorFlow, there are two main way of creating a model :\n",
    "* Sequential API\n",
    "* Functional API"
   ]
  },
  {
   "cell_type": "code",
   "execution_count": 9,
   "id": "6f72d001",
   "metadata": {},
   "outputs": [
    {
     "name": "stdout",
     "output_type": "stream",
     "text": [
      "Epoch 1/5\n",
      "1/1 [==============================] - 0s 318ms/step - loss: 18.4300 - mae: 18.4300\n",
      "Epoch 2/5\n",
      "1/1 [==============================] - 0s 3ms/step - loss: 18.1488 - mae: 18.1488\n",
      "Epoch 3/5\n",
      "1/1 [==============================] - 0s 5ms/step - loss: 17.8675 - mae: 17.8675\n",
      "Epoch 4/5\n",
      "1/1 [==============================] - 0s 4ms/step - loss: 17.5863 - mae: 17.5863\n",
      "Epoch 5/5\n",
      "1/1 [==============================] - 0s 4ms/step - loss: 17.3050 - mae: 17.3050\n"
     ]
    },
    {
     "data": {
      "text/plain": [
       "<keras.callbacks.History at 0x1765c4a0c40>"
      ]
     },
     "execution_count": 9,
     "metadata": {},
     "output_type": "execute_result"
    }
   ],
   "source": [
    "# Set a random seed (in order to have some reproducibility)\n",
    "tf.random.set_seed(42)\n",
    "\n",
    "# 1. Create a model using the Sequential API\n",
    "model = tf.keras.Sequential([\n",
    "    tf.keras.layers.Dense(1)\n",
    "])\n",
    "\n",
    "# 2. Compile the model\n",
    "model.compile(loss=tf.keras.losses.mae, # MAE : Mean Absolute Error\n",
    "              optimizer=tf.keras.optimizers.SGD(), # SGD : Stochastic Gradient Descent\n",
    "              metrics=[\"mae\"]\n",
    "             )\n",
    "\n",
    "# 3. Fit the model \n",
    "model.fit(tf.expand_dims(X, axis=-1),y, epochs=5)\n"
   ]
  },
  {
   "cell_type": "markdown",
   "id": "2f2af8b2",
   "metadata": {},
   "source": [
    "**Note**  \n",
    "A lot of function in TensorFlow, if they have a shortcut name (e.g. mae or SGD), can be replaced by a string variable to define the fact it is wished to used that specific function. For e.g., the step 2 in the above cell( Compile the model), can also be written as such : \n",
    "\n",
    "model.compile(loss=\"mae\",  \n",
    "              optimizer=\"sgd\",  \n",
    "              metrics=[\"mae\"]  \n",
    "             )"
   ]
  },
  {
   "cell_type": "code",
   "execution_count": 10,
   "id": "9949ba02",
   "metadata": {},
   "outputs": [
    {
     "data": {
      "text/plain": [
       "(<tf.Tensor: shape=(8,), dtype=float64, numpy=array([-7., -4., -1.,  2.,  5.,  8., 11., 14.])>,\n",
       " <tf.Tensor: shape=(8,), dtype=float64, numpy=array([ 3.,  6.,  9., 12., 15., 18., 21., 24.])>)"
      ]
     },
     "execution_count": 10,
     "metadata": {},
     "output_type": "execute_result"
    }
   ],
   "source": [
    "# Check out X and y\n",
    "X, y"
   ]
  },
  {
   "cell_type": "code",
   "execution_count": 11,
   "id": "d35d1023",
   "metadata": {},
   "outputs": [
    {
     "name": "stdout",
     "output_type": "stream",
     "text": [
      "1/1 [==============================] - 0s 85ms/step\n"
     ]
    },
    {
     "data": {
      "text/plain": [
       "array([[-13.892423]], dtype=float32)"
      ]
     },
     "execution_count": 11,
     "metadata": {},
     "output_type": "execute_result"
    }
   ],
   "source": [
    "# Trying to make a prediction using our model\n",
    "model.predict([17.])"
   ]
  },
  {
   "cell_type": "markdown",
   "id": "9eefcc9e",
   "metadata": {},
   "source": [
    "The predicted value (y) should be 27 when X is 17. But we got -13.89, which is pretty far off. This is no surprising because the current MAE of our model is 17.3050, which means : on average, our model predict something that is 17.3050 points off where is should be (MAE)."
   ]
  },
  {
   "cell_type": "code",
   "execution_count": 12,
   "id": "27107469",
   "metadata": {},
   "outputs": [
    {
     "name": "stdout",
     "output_type": "stream",
     "text": [
      "1/1 [==============================] - 0s 34ms/step\n"
     ]
    },
    {
     "data": {
      "text/plain": [
       "array([[-13.892423]], dtype=float32)"
      ]
     },
     "execution_count": 12,
     "metadata": {},
     "output_type": "execute_result"
    }
   ],
   "source": [
    "y_pred = model.predict([17.])\n",
    "y_pred"
   ]
  },
  {
   "cell_type": "code",
   "execution_count": 13,
   "id": "65c6bb1b",
   "metadata": {},
   "outputs": [
    {
     "data": {
      "text/plain": [
       "array([[3.4125776]], dtype=float32)"
      ]
     },
     "execution_count": 13,
     "metadata": {},
     "output_type": "execute_result"
    }
   ],
   "source": [
    "y_pred + 17.3050"
   ]
  },
  {
   "cell_type": "markdown",
   "id": "a759cf25",
   "metadata": {},
   "source": [
    "The value is still off, our model is performing poorly.   \n",
    "Now, we need to improve our model."
   ]
  },
  {
   "cell_type": "code",
   "execution_count": null,
   "id": "7eecc354",
   "metadata": {},
   "outputs": [],
   "source": []
  },
  {
   "cell_type": "markdown",
   "id": "f47b7fed",
   "metadata": {},
   "source": [
    "### Improving our model\n",
    "\n",
    "We can improve our model by altering the steps we took to create a model.  \n",
    "\n",
    "1. **Creating a model** - Here, we might :\n",
    "* add more layers, \n",
    "* increase the number of hidden units (also called neurons) within each of th hidden layers, \n",
    "* change the activation function of each layer\n",
    "\n",
    "2. **Compiling the model** - Here, we might :\n",
    "* change the optimization function, or perhaps ,\n",
    "* or perhaps changes the **learning rate** of the optimization funciton\n",
    "\n",
    "3. **Fitting the model** - Here, we might :\n",
    "* fit the model for more epochs (make it training for longer)\n",
    "* fit the model on more data (give the model more examples to learn from)"
   ]
  },
  {
   "cell_type": "code",
   "execution_count": null,
   "id": "ddc275e5",
   "metadata": {},
   "outputs": [],
   "source": []
  },
  {
   "cell_type": "code",
   "execution_count": 19,
   "id": "ab3f76fa",
   "metadata": {},
   "outputs": [
    {
     "name": "stdout",
     "output_type": "stream",
     "text": [
      "Epoch 1/300\n",
      "1/1 [==============================] - 1s 516ms/step - loss: 13.1127 - mae: 13.1127\n",
      "Epoch 2/300\n",
      "1/1 [==============================] - 0s 4ms/step - loss: 13.0752 - mae: 13.0752\n",
      "Epoch 3/300\n",
      "1/1 [==============================] - 0s 4ms/step - loss: 13.0366 - mae: 13.0366\n",
      "Epoch 4/300\n",
      "1/1 [==============================] - 0s 2ms/step - loss: 12.9988 - mae: 12.9988\n",
      "Epoch 5/300\n",
      "1/1 [==============================] - 0s 2ms/step - loss: 12.9609 - mae: 12.9609\n",
      "Epoch 6/300\n",
      "1/1 [==============================] - 0s 4ms/step - loss: 12.9230 - mae: 12.9230\n",
      "Epoch 7/300\n",
      "1/1 [==============================] - 0s 2ms/step - loss: 12.8854 - mae: 12.8854\n",
      "Epoch 8/300\n",
      "1/1 [==============================] - 0s 2ms/step - loss: 12.8477 - mae: 12.8477\n",
      "Epoch 9/300\n",
      "1/1 [==============================] - 0s 4ms/step - loss: 12.8102 - mae: 12.8102\n",
      "Epoch 10/300\n",
      "1/1 [==============================] - 0s 2ms/step - loss: 12.7726 - mae: 12.7726\n",
      "Epoch 11/300\n",
      "1/1 [==============================] - 0s 2ms/step - loss: 12.7350 - mae: 12.7350\n",
      "Epoch 12/300\n",
      "1/1 [==============================] - 0s 3ms/step - loss: 12.6977 - mae: 12.6977\n",
      "Epoch 13/300\n",
      "1/1 [==============================] - 0s 4ms/step - loss: 12.6603 - mae: 12.6603\n",
      "Epoch 14/300\n",
      "1/1 [==============================] - 0s 3ms/step - loss: 12.6228 - mae: 12.6228\n",
      "Epoch 15/300\n",
      "1/1 [==============================] - 0s 3ms/step - loss: 12.5852 - mae: 12.5852\n",
      "Epoch 16/300\n",
      "1/1 [==============================] - 0s 4ms/step - loss: 12.5476 - mae: 12.5476\n",
      "Epoch 17/300\n",
      "1/1 [==============================] - 0s 2ms/step - loss: 12.5099 - mae: 12.5099\n",
      "Epoch 18/300\n",
      "1/1 [==============================] - 0s 3ms/step - loss: 12.4724 - mae: 12.4724\n",
      "Epoch 19/300\n",
      "1/1 [==============================] - 0s 2ms/step - loss: 12.4350 - mae: 12.4350\n",
      "Epoch 20/300\n",
      "1/1 [==============================] - 0s 4ms/step - loss: 12.3975 - mae: 12.3975\n",
      "Epoch 21/300\n",
      "1/1 [==============================] - 0s 2ms/step - loss: 12.3600 - mae: 12.3600\n",
      "Epoch 22/300\n",
      "1/1 [==============================] - 0s 2ms/step - loss: 12.3230 - mae: 12.3230\n",
      "Epoch 23/300\n",
      "1/1 [==============================] - 0s 3ms/step - loss: 12.2860 - mae: 12.2860\n",
      "Epoch 24/300\n",
      "1/1 [==============================] - 0s 2ms/step - loss: 12.2490 - mae: 12.2490\n",
      "Epoch 25/300\n",
      "1/1 [==============================] - 0s 2ms/step - loss: 12.2130 - mae: 12.2130\n",
      "Epoch 26/300\n",
      "1/1 [==============================] - 0s 2ms/step - loss: 12.1777 - mae: 12.1777\n",
      "Epoch 27/300\n",
      "1/1 [==============================] - 0s 3ms/step - loss: 12.1424 - mae: 12.1424\n",
      "Epoch 28/300\n",
      "1/1 [==============================] - 0s 3ms/step - loss: 12.1079 - mae: 12.1079\n",
      "Epoch 29/300\n",
      "1/1 [==============================] - 0s 3ms/step - loss: 12.0735 - mae: 12.0735\n",
      "Epoch 30/300\n",
      "1/1 [==============================] - 0s 4ms/step - loss: 12.0389 - mae: 12.0389\n",
      "Epoch 31/300\n",
      "1/1 [==============================] - 0s 3ms/step - loss: 12.0044 - mae: 12.0044\n",
      "Epoch 32/300\n",
      "1/1 [==============================] - 0s 2ms/step - loss: 11.9702 - mae: 11.9702\n",
      "Epoch 33/300\n",
      "1/1 [==============================] - 0s 2ms/step - loss: 11.9368 - mae: 11.9368\n",
      "Epoch 34/300\n",
      "1/1 [==============================] - 0s 4ms/step - loss: 11.9033 - mae: 11.9033\n",
      "Epoch 35/300\n",
      "1/1 [==============================] - 0s 2ms/step - loss: 11.8699 - mae: 11.8699\n",
      "Epoch 36/300\n",
      "1/1 [==============================] - 0s 3ms/step - loss: 11.8364 - mae: 11.8364\n",
      "Epoch 37/300\n",
      "1/1 [==============================] - 0s 3ms/step - loss: 11.8027 - mae: 11.8027\n",
      "Epoch 38/300\n",
      "1/1 [==============================] - 0s 4ms/step - loss: 11.7688 - mae: 11.7688\n",
      "Epoch 39/300\n",
      "1/1 [==============================] - 0s 3ms/step - loss: 11.7349 - mae: 11.7349\n",
      "Epoch 40/300\n",
      "1/1 [==============================] - 0s 2ms/step - loss: 11.7009 - mae: 11.7009\n",
      "Epoch 41/300\n",
      "1/1 [==============================] - 0s 4ms/step - loss: 11.6669 - mae: 11.6669\n",
      "Epoch 42/300\n",
      "1/1 [==============================] - 0s 3ms/step - loss: 11.6328 - mae: 11.6328\n",
      "Epoch 43/300\n",
      "1/1 [==============================] - 0s 2ms/step - loss: 11.5986 - mae: 11.5986\n",
      "Epoch 44/300\n",
      "1/1 [==============================] - 0s 2ms/step - loss: 11.5643 - mae: 11.5643\n",
      "Epoch 45/300\n",
      "1/1 [==============================] - 0s 3ms/step - loss: 11.5298 - mae: 11.5298\n",
      "Epoch 46/300\n",
      "1/1 [==============================] - 0s 2ms/step - loss: 11.4951 - mae: 11.4951\n",
      "Epoch 47/300\n",
      "1/1 [==============================] - 0s 2ms/step - loss: 11.4601 - mae: 11.4601\n",
      "Epoch 48/300\n",
      "1/1 [==============================] - 0s 2ms/step - loss: 11.4249 - mae: 11.4249\n",
      "Epoch 49/300\n",
      "1/1 [==============================] - 0s 3ms/step - loss: 11.3895 - mae: 11.3895\n",
      "Epoch 50/300\n",
      "1/1 [==============================] - 0s 3ms/step - loss: 11.3539 - mae: 11.3539\n",
      "Epoch 51/300\n",
      "1/1 [==============================] - 0s 2ms/step - loss: 11.3179 - mae: 11.3179\n",
      "Epoch 52/300\n",
      "1/1 [==============================] - 0s 4ms/step - loss: 11.2817 - mae: 11.2817\n",
      "Epoch 53/300\n",
      "1/1 [==============================] - 0s 2ms/step - loss: 11.2452 - mae: 11.2452\n",
      "Epoch 54/300\n",
      "1/1 [==============================] - 0s 3ms/step - loss: 11.2084 - mae: 11.2084\n",
      "Epoch 55/300\n",
      "1/1 [==============================] - 0s 3ms/step - loss: 11.1718 - mae: 11.1718\n",
      "Epoch 56/300\n",
      "1/1 [==============================] - 0s 3ms/step - loss: 11.1353 - mae: 11.1353\n",
      "Epoch 57/300\n",
      "1/1 [==============================] - 0s 3ms/step - loss: 11.0989 - mae: 11.0989\n",
      "Epoch 58/300\n",
      "1/1 [==============================] - 0s 3ms/step - loss: 11.0628 - mae: 11.0628\n",
      "Epoch 59/300\n",
      "1/1 [==============================] - 0s 3ms/step - loss: 11.0269 - mae: 11.0269\n",
      "Epoch 60/300\n",
      "1/1 [==============================] - 0s 2ms/step - loss: 11.0023 - mae: 11.0023\n",
      "Epoch 61/300\n",
      "1/1 [==============================] - 0s 3ms/step - loss: 10.9776 - mae: 10.9776\n",
      "Epoch 62/300\n",
      "1/1 [==============================] - 0s 2ms/step - loss: 10.9528 - mae: 10.9528\n",
      "Epoch 63/300\n",
      "1/1 [==============================] - 0s 4ms/step - loss: 10.9278 - mae: 10.9278\n",
      "Epoch 64/300\n",
      "1/1 [==============================] - 0s 2ms/step - loss: 10.9025 - mae: 10.9025\n",
      "Epoch 65/300\n",
      "1/1 [==============================] - 0s 2ms/step - loss: 10.8769 - mae: 10.8769\n",
      "Epoch 66/300\n",
      "1/1 [==============================] - 0s 3ms/step - loss: 10.8511 - mae: 10.8511\n",
      "Epoch 67/300\n",
      "1/1 [==============================] - 0s 3ms/step - loss: 10.8251 - mae: 10.8251\n",
      "Epoch 68/300\n",
      "1/1 [==============================] - 0s 3ms/step - loss: 10.7988 - mae: 10.7988\n",
      "Epoch 69/300\n",
      "1/1 [==============================] - 0s 4ms/step - loss: 10.7722 - mae: 10.7722\n",
      "Epoch 70/300\n",
      "1/1 [==============================] - 0s 3ms/step - loss: 10.7453 - mae: 10.7453\n",
      "Epoch 71/300\n",
      "1/1 [==============================] - 0s 2ms/step - loss: 10.7183 - mae: 10.7183\n",
      "Epoch 72/300\n",
      "1/1 [==============================] - 0s 3ms/step - loss: 10.6910 - mae: 10.6910\n",
      "Epoch 73/300\n",
      "1/1 [==============================] - 0s 3ms/step - loss: 10.6635 - mae: 10.6635\n",
      "Epoch 74/300\n",
      "1/1 [==============================] - 0s 3ms/step - loss: 10.6357 - mae: 10.6357\n",
      "Epoch 75/300\n",
      "1/1 [==============================] - 0s 2ms/step - loss: 10.6076 - mae: 10.6076\n",
      "Epoch 76/300\n",
      "1/1 [==============================] - 0s 3ms/step - loss: 10.5793 - mae: 10.5793\n",
      "Epoch 77/300\n",
      "1/1 [==============================] - 0s 2ms/step - loss: 10.5507 - mae: 10.5507\n",
      "Epoch 78/300\n",
      "1/1 [==============================] - 0s 2ms/step - loss: 10.5219 - mae: 10.5219\n",
      "Epoch 79/300\n",
      "1/1 [==============================] - 0s 3ms/step - loss: 10.4928 - mae: 10.4928\n",
      "Epoch 80/300\n",
      "1/1 [==============================] - 0s 2ms/step - loss: 10.4634 - mae: 10.4634\n",
      "Epoch 81/300\n",
      "1/1 [==============================] - 0s 2ms/step - loss: 10.4337 - mae: 10.4337\n",
      "Epoch 82/300\n",
      "1/1 [==============================] - 0s 3ms/step - loss: 10.4039 - mae: 10.4039\n",
      "Epoch 83/300\n",
      "1/1 [==============================] - 0s 2ms/step - loss: 10.3740 - mae: 10.3740\n",
      "Epoch 84/300\n",
      "1/1 [==============================] - 0s 4ms/step - loss: 10.3438 - mae: 10.3438\n",
      "Epoch 85/300\n",
      "1/1 [==============================] - 0s 2ms/step - loss: 10.3133 - mae: 10.3133\n",
      "Epoch 86/300\n",
      "1/1 [==============================] - 0s 2ms/step - loss: 10.2826 - mae: 10.2826\n",
      "Epoch 87/300\n"
     ]
    },
    {
     "name": "stdout",
     "output_type": "stream",
     "text": [
      "1/1 [==============================] - 0s 3ms/step - loss: 10.2515 - mae: 10.2515\n",
      "Epoch 88/300\n",
      "1/1 [==============================] - 0s 2ms/step - loss: 10.2203 - mae: 10.2203\n",
      "Epoch 89/300\n",
      "1/1 [==============================] - 0s 3ms/step - loss: 10.1892 - mae: 10.1892\n",
      "Epoch 90/300\n",
      "1/1 [==============================] - 0s 2ms/step - loss: 10.1580 - mae: 10.1580\n",
      "Epoch 91/300\n",
      "1/1 [==============================] - 0s 3ms/step - loss: 10.1265 - mae: 10.1265\n",
      "Epoch 92/300\n",
      "1/1 [==============================] - 0s 4ms/step - loss: 10.0947 - mae: 10.0947\n",
      "Epoch 93/300\n",
      "1/1 [==============================] - 0s 4ms/step - loss: 10.0626 - mae: 10.0626\n",
      "Epoch 94/300\n",
      "1/1 [==============================] - 0s 4ms/step - loss: 10.0302 - mae: 10.0302\n",
      "Epoch 95/300\n",
      "1/1 [==============================] - 0s 4ms/step - loss: 9.9975 - mae: 9.9975\n",
      "Epoch 96/300\n",
      "1/1 [==============================] - 0s 3ms/step - loss: 9.9645 - mae: 9.9645\n",
      "Epoch 97/300\n",
      "1/1 [==============================] - 0s 3ms/step - loss: 9.9313 - mae: 9.9313\n",
      "Epoch 98/300\n",
      "1/1 [==============================] - 0s 2ms/step - loss: 9.8977 - mae: 9.8977\n",
      "Epoch 99/300\n",
      "1/1 [==============================] - 0s 2ms/step - loss: 9.8638 - mae: 9.8638\n",
      "Epoch 100/300\n",
      "1/1 [==============================] - 0s 3ms/step - loss: 9.8295 - mae: 9.8295\n",
      "Epoch 101/300\n",
      "1/1 [==============================] - 0s 3ms/step - loss: 9.7950 - mae: 9.7950\n",
      "Epoch 102/300\n",
      "1/1 [==============================] - 0s 3ms/step - loss: 9.7601 - mae: 9.7601\n",
      "Epoch 103/300\n",
      "1/1 [==============================] - 0s 2ms/step - loss: 9.7249 - mae: 9.7249\n",
      "Epoch 104/300\n",
      "1/1 [==============================] - 0s 2ms/step - loss: 9.6894 - mae: 9.6894\n",
      "Epoch 105/300\n",
      "1/1 [==============================] - 0s 2ms/step - loss: 9.6535 - mae: 9.6535\n",
      "Epoch 106/300\n",
      "1/1 [==============================] - 0s 3ms/step - loss: 9.6173 - mae: 9.6173\n",
      "Epoch 107/300\n",
      "1/1 [==============================] - 0s 2ms/step - loss: 9.5809 - mae: 9.5809\n",
      "Epoch 108/300\n",
      "1/1 [==============================] - 0s 2ms/step - loss: 9.5441 - mae: 9.5441\n",
      "Epoch 109/300\n",
      "1/1 [==============================] - 0s 2ms/step - loss: 9.5070 - mae: 9.5070\n",
      "Epoch 110/300\n",
      "1/1 [==============================] - 0s 3ms/step - loss: 9.4697 - mae: 9.4697\n",
      "Epoch 111/300\n",
      "1/1 [==============================] - 0s 2ms/step - loss: 9.4321 - mae: 9.4321\n",
      "Epoch 112/300\n",
      "1/1 [==============================] - 0s 3ms/step - loss: 9.3940 - mae: 9.3940\n",
      "Epoch 113/300\n",
      "1/1 [==============================] - 0s 2ms/step - loss: 9.3556 - mae: 9.3556\n",
      "Epoch 114/300\n",
      "1/1 [==============================] - 0s 4ms/step - loss: 9.3169 - mae: 9.3169\n",
      "Epoch 115/300\n",
      "1/1 [==============================] - 0s 3ms/step - loss: 9.2780 - mae: 9.2780\n",
      "Epoch 116/300\n",
      "1/1 [==============================] - 0s 2ms/step - loss: 9.2386 - mae: 9.2386\n",
      "Epoch 117/300\n",
      "1/1 [==============================] - 0s 3ms/step - loss: 9.1990 - mae: 9.1990\n",
      "Epoch 118/300\n",
      "1/1 [==============================] - 0s 2ms/step - loss: 9.1593 - mae: 9.1593\n",
      "Epoch 119/300\n",
      "1/1 [==============================] - 0s 4ms/step - loss: 9.1193 - mae: 9.1193\n",
      "Epoch 120/300\n",
      "1/1 [==============================] - 0s 3ms/step - loss: 9.0789 - mae: 9.0789\n",
      "Epoch 121/300\n",
      "1/1 [==============================] - 0s 2ms/step - loss: 9.0381 - mae: 9.0381\n",
      "Epoch 122/300\n",
      "1/1 [==============================] - 0s 3ms/step - loss: 8.9970 - mae: 8.9970\n",
      "Epoch 123/300\n",
      "1/1 [==============================] - 0s 2ms/step - loss: 8.9554 - mae: 8.9554\n",
      "Epoch 124/300\n",
      "1/1 [==============================] - 0s 2ms/step - loss: 8.9134 - mae: 8.9134\n",
      "Epoch 125/300\n",
      "1/1 [==============================] - 0s 2ms/step - loss: 8.8709 - mae: 8.8709\n",
      "Epoch 126/300\n",
      "1/1 [==============================] - 0s 2ms/step - loss: 8.8282 - mae: 8.8282\n",
      "Epoch 127/300\n",
      "1/1 [==============================] - 0s 2ms/step - loss: 8.7850 - mae: 8.7850\n",
      "Epoch 128/300\n",
      "1/1 [==============================] - 0s 3ms/step - loss: 8.7414 - mae: 8.7414\n",
      "Epoch 129/300\n",
      "1/1 [==============================] - 0s 3ms/step - loss: 8.6974 - mae: 8.6974\n",
      "Epoch 130/300\n",
      "1/1 [==============================] - 0s 2ms/step - loss: 8.6531 - mae: 8.6531\n",
      "Epoch 131/300\n",
      "1/1 [==============================] - 0s 3ms/step - loss: 8.6083 - mae: 8.6083\n",
      "Epoch 132/300\n",
      "1/1 [==============================] - 0s 3ms/step - loss: 8.5631 - mae: 8.5631\n",
      "Epoch 133/300\n",
      "1/1 [==============================] - 0s 2ms/step - loss: 8.5174 - mae: 8.5174\n",
      "Epoch 134/300\n",
      "1/1 [==============================] - 0s 3ms/step - loss: 8.4713 - mae: 8.4713\n",
      "Epoch 135/300\n",
      "1/1 [==============================] - 0s 3ms/step - loss: 8.4248 - mae: 8.4248\n",
      "Epoch 136/300\n",
      "1/1 [==============================] - 0s 3ms/step - loss: 8.3779 - mae: 8.3779\n",
      "Epoch 137/300\n",
      "1/1 [==============================] - 0s 2ms/step - loss: 8.3304 - mae: 8.3304\n",
      "Epoch 138/300\n",
      "1/1 [==============================] - 0s 3ms/step - loss: 8.2826 - mae: 8.2826\n",
      "Epoch 139/300\n",
      "1/1 [==============================] - 0s 3ms/step - loss: 8.2343 - mae: 8.2343\n",
      "Epoch 140/300\n",
      "1/1 [==============================] - 0s 2ms/step - loss: 8.1855 - mae: 8.1855\n",
      "Epoch 141/300\n",
      "1/1 [==============================] - 0s 3ms/step - loss: 8.1363 - mae: 8.1363\n",
      "Epoch 142/300\n",
      "1/1 [==============================] - 0s 3ms/step - loss: 8.0866 - mae: 8.0866\n",
      "Epoch 143/300\n",
      "1/1 [==============================] - 0s 3ms/step - loss: 8.0364 - mae: 8.0364\n",
      "Epoch 144/300\n",
      "1/1 [==============================] - 0s 2ms/step - loss: 7.9858 - mae: 7.9858\n",
      "Epoch 145/300\n",
      "1/1 [==============================] - 0s 2ms/step - loss: 7.9346 - mae: 7.9346\n",
      "Epoch 146/300\n",
      "1/1 [==============================] - 0s 4ms/step - loss: 7.8830 - mae: 7.8830\n",
      "Epoch 147/300\n",
      "1/1 [==============================] - 0s 3ms/step - loss: 7.8310 - mae: 7.8310\n",
      "Epoch 148/300\n",
      "1/1 [==============================] - 0s 3ms/step - loss: 7.7784 - mae: 7.7784\n",
      "Epoch 149/300\n",
      "1/1 [==============================] - 0s 3ms/step - loss: 7.7253 - mae: 7.7253\n",
      "Epoch 150/300\n",
      "1/1 [==============================] - 0s 3ms/step - loss: 7.6717 - mae: 7.6717\n",
      "Epoch 151/300\n",
      "1/1 [==============================] - 0s 3ms/step - loss: 7.6176 - mae: 7.6176\n",
      "Epoch 152/300\n",
      "1/1 [==============================] - 0s 2ms/step - loss: 7.5630 - mae: 7.5630\n",
      "Epoch 153/300\n",
      "1/1 [==============================] - 0s 3ms/step - loss: 7.5078 - mae: 7.5078\n",
      "Epoch 154/300\n",
      "1/1 [==============================] - 0s 2ms/step - loss: 7.4522 - mae: 7.4522\n",
      "Epoch 155/300\n",
      "1/1 [==============================] - 0s 3ms/step - loss: 7.3960 - mae: 7.3960\n",
      "Epoch 156/300\n",
      "1/1 [==============================] - 0s 3ms/step - loss: 7.3392 - mae: 7.3392\n",
      "Epoch 157/300\n",
      "1/1 [==============================] - 0s 3ms/step - loss: 7.2820 - mae: 7.2820\n",
      "Epoch 158/300\n",
      "1/1 [==============================] - 0s 3ms/step - loss: 7.2241 - mae: 7.2241\n",
      "Epoch 159/300\n",
      "1/1 [==============================] - 0s 2ms/step - loss: 7.1655 - mae: 7.1655\n",
      "Epoch 160/300\n",
      "1/1 [==============================] - 0s 2ms/step - loss: 7.1056 - mae: 7.1056\n",
      "Epoch 161/300\n",
      "1/1 [==============================] - 0s 3ms/step - loss: 7.0450 - mae: 7.0450\n",
      "Epoch 162/300\n",
      "1/1 [==============================] - 0s 3ms/step - loss: 6.9835 - mae: 6.9835\n",
      "Epoch 163/300\n",
      "1/1 [==============================] - 0s 2ms/step - loss: 6.9213 - mae: 6.9213\n",
      "Epoch 164/300\n",
      "1/1 [==============================] - 0s 3ms/step - loss: 6.8584 - mae: 6.8584\n",
      "Epoch 165/300\n",
      "1/1 [==============================] - 0s 2ms/step - loss: 6.7949 - mae: 6.7949\n",
      "Epoch 166/300\n",
      "1/1 [==============================] - 0s 3ms/step - loss: 6.7306 - mae: 6.7306\n",
      "Epoch 167/300\n",
      "1/1 [==============================] - 0s 3ms/step - loss: 6.6657 - mae: 6.6657\n",
      "Epoch 168/300\n",
      "1/1 [==============================] - 0s 3ms/step - loss: 6.6002 - mae: 6.6002\n",
      "Epoch 169/300\n",
      "1/1 [==============================] - 0s 3ms/step - loss: 6.5340 - mae: 6.5340\n",
      "Epoch 170/300\n",
      "1/1 [==============================] - 0s 3ms/step - loss: 6.4672 - mae: 6.4672\n",
      "Epoch 171/300\n",
      "1/1 [==============================] - 0s 3ms/step - loss: 6.3997 - mae: 6.3997\n",
      "Epoch 172/300\n",
      "1/1 [==============================] - 0s 2ms/step - loss: 6.3316 - mae: 6.3316\n",
      "Epoch 173/300\n",
      "1/1 [==============================] - 0s 3ms/step - loss: 6.2628 - mae: 6.2628\n",
      "Epoch 174/300\n"
     ]
    },
    {
     "name": "stdout",
     "output_type": "stream",
     "text": [
      "1/1 [==============================] - 0s 2ms/step - loss: 6.1934 - mae: 6.1934\n",
      "Epoch 175/300\n",
      "1/1 [==============================] - 0s 3ms/step - loss: 6.1234 - mae: 6.1234\n",
      "Epoch 176/300\n",
      "1/1 [==============================] - 0s 2ms/step - loss: 6.0529 - mae: 6.0529\n",
      "Epoch 177/300\n",
      "1/1 [==============================] - 0s 2ms/step - loss: 5.9816 - mae: 5.9816\n",
      "Epoch 178/300\n",
      "1/1 [==============================] - 0s 3ms/step - loss: 5.9097 - mae: 5.9097\n",
      "Epoch 179/300\n",
      "1/1 [==============================] - 0s 3ms/step - loss: 5.8371 - mae: 5.8371\n",
      "Epoch 180/300\n",
      "1/1 [==============================] - 0s 3ms/step - loss: 5.7639 - mae: 5.7639\n",
      "Epoch 181/300\n",
      "1/1 [==============================] - 0s 3ms/step - loss: 5.6900 - mae: 5.6900\n",
      "Epoch 182/300\n",
      "1/1 [==============================] - 0s 2ms/step - loss: 5.6155 - mae: 5.6155\n",
      "Epoch 183/300\n",
      "1/1 [==============================] - 0s 2ms/step - loss: 5.5403 - mae: 5.5403\n",
      "Epoch 184/300\n",
      "1/1 [==============================] - 0s 3ms/step - loss: 5.4644 - mae: 5.4644\n",
      "Epoch 185/300\n",
      "1/1 [==============================] - 0s 2ms/step - loss: 5.3878 - mae: 5.3878\n",
      "Epoch 186/300\n",
      "1/1 [==============================] - 0s 3ms/step - loss: 5.3106 - mae: 5.3106\n",
      "Epoch 187/300\n",
      "1/1 [==============================] - 0s 2ms/step - loss: 5.2329 - mae: 5.2329\n",
      "Epoch 188/300\n",
      "1/1 [==============================] - 0s 3ms/step - loss: 5.1545 - mae: 5.1545\n",
      "Epoch 189/300\n",
      "1/1 [==============================] - 0s 2ms/step - loss: 5.0755 - mae: 5.0755\n",
      "Epoch 190/300\n",
      "1/1 [==============================] - 0s 3ms/step - loss: 4.9955 - mae: 4.9955\n",
      "Epoch 191/300\n",
      "1/1 [==============================] - 0s 2ms/step - loss: 4.9149 - mae: 4.9149\n",
      "Epoch 192/300\n",
      "1/1 [==============================] - 0s 3ms/step - loss: 4.8335 - mae: 4.8335\n",
      "Epoch 193/300\n",
      "1/1 [==============================] - 0s 2ms/step - loss: 4.7514 - mae: 4.7514\n",
      "Epoch 194/300\n",
      "1/1 [==============================] - 0s 2ms/step - loss: 4.6685 - mae: 4.6685\n",
      "Epoch 195/300\n",
      "1/1 [==============================] - 0s 3ms/step - loss: 4.5848 - mae: 4.5848\n",
      "Epoch 196/300\n",
      "1/1 [==============================] - 0s 5ms/step - loss: 4.5004 - mae: 4.5004\n",
      "Epoch 197/300\n",
      "1/1 [==============================] - 0s 3ms/step - loss: 4.4153 - mae: 4.4153\n",
      "Epoch 198/300\n",
      "1/1 [==============================] - 0s 3ms/step - loss: 4.3294 - mae: 4.3294\n",
      "Epoch 199/300\n",
      "1/1 [==============================] - 0s 3ms/step - loss: 4.2426 - mae: 4.2426\n",
      "Epoch 200/300\n",
      "1/1 [==============================] - 0s 3ms/step - loss: 4.1551 - mae: 4.1551\n",
      "Epoch 201/300\n",
      "1/1 [==============================] - 0s 2ms/step - loss: 4.0940 - mae: 4.0940\n",
      "Epoch 202/300\n",
      "1/1 [==============================] - 0s 2ms/step - loss: 4.0676 - mae: 4.0676\n",
      "Epoch 203/300\n",
      "1/1 [==============================] - 0s 3ms/step - loss: 4.0427 - mae: 4.0427\n",
      "Epoch 204/300\n",
      "1/1 [==============================] - 0s 2ms/step - loss: 4.0199 - mae: 4.0199\n",
      "Epoch 205/300\n",
      "1/1 [==============================] - 0s 2ms/step - loss: 3.9967 - mae: 3.9967\n",
      "Epoch 206/300\n",
      "1/1 [==============================] - 0s 3ms/step - loss: 3.9756 - mae: 3.9756\n",
      "Epoch 207/300\n",
      "1/1 [==============================] - 0s 2ms/step - loss: 3.9553 - mae: 3.9553\n",
      "Epoch 208/300\n",
      "1/1 [==============================] - 0s 2ms/step - loss: 3.9359 - mae: 3.9359\n",
      "Epoch 209/300\n",
      "1/1 [==============================] - 0s 2ms/step - loss: 3.9171 - mae: 3.9171\n",
      "Epoch 210/300\n",
      "1/1 [==============================] - 0s 3ms/step - loss: 3.8989 - mae: 3.8989\n",
      "Epoch 211/300\n",
      "1/1 [==============================] - 0s 3ms/step - loss: 3.8813 - mae: 3.8813\n",
      "Epoch 212/300\n",
      "1/1 [==============================] - 0s 2ms/step - loss: 3.8643 - mae: 3.8643\n",
      "Epoch 213/300\n",
      "1/1 [==============================] - 0s 2ms/step - loss: 3.8476 - mae: 3.8476\n",
      "Epoch 214/300\n",
      "1/1 [==============================] - 0s 9ms/step - loss: 3.8327 - mae: 3.8327\n",
      "Epoch 215/300\n",
      "1/1 [==============================] - 0s 3ms/step - loss: 3.8161 - mae: 3.8161\n",
      "Epoch 216/300\n",
      "1/1 [==============================] - 0s 3ms/step - loss: 3.8087 - mae: 3.8087\n",
      "Epoch 217/300\n",
      "1/1 [==============================] - 0s 3ms/step - loss: 3.8174 - mae: 3.8174\n",
      "Epoch 218/300\n",
      "1/1 [==============================] - 0s 4ms/step - loss: 3.8244 - mae: 3.8244\n",
      "Epoch 219/300\n",
      "1/1 [==============================] - 0s 3ms/step - loss: 3.8299 - mae: 3.8299\n",
      "Epoch 220/300\n",
      "1/1 [==============================] - 0s 3ms/step - loss: 3.8341 - mae: 3.8341\n",
      "Epoch 221/300\n",
      "1/1 [==============================] - 0s 3ms/step - loss: 3.8374 - mae: 3.8374\n",
      "Epoch 222/300\n",
      "1/1 [==============================] - 0s 3ms/step - loss: 3.8398 - mae: 3.8398\n",
      "Epoch 223/300\n",
      "1/1 [==============================] - 0s 4ms/step - loss: 3.8414 - mae: 3.8414\n",
      "Epoch 224/300\n",
      "1/1 [==============================] - 0s 3ms/step - loss: 3.8420 - mae: 3.8420\n",
      "Epoch 225/300\n",
      "1/1 [==============================] - 0s 2ms/step - loss: 3.8418 - mae: 3.8418\n",
      "Epoch 226/300\n",
      "1/1 [==============================] - 0s 3ms/step - loss: 3.8407 - mae: 3.8407\n",
      "Epoch 227/300\n",
      "1/1 [==============================] - 0s 2ms/step - loss: 3.8390 - mae: 3.8390\n",
      "Epoch 228/300\n",
      "1/1 [==============================] - 0s 2ms/step - loss: 3.8366 - mae: 3.8366\n",
      "Epoch 229/300\n",
      "1/1 [==============================] - 0s 2ms/step - loss: 3.8353 - mae: 3.8353\n",
      "Epoch 230/300\n",
      "1/1 [==============================] - 0s 3ms/step - loss: 3.8308 - mae: 3.8308\n",
      "Epoch 231/300\n",
      "1/1 [==============================] - 0s 2ms/step - loss: 3.8275 - mae: 3.8275\n",
      "Epoch 232/300\n",
      "1/1 [==============================] - 0s 3ms/step - loss: 3.8237 - mae: 3.8237\n",
      "Epoch 233/300\n",
      "1/1 [==============================] - 0s 3ms/step - loss: 3.8195 - mae: 3.8195\n",
      "Epoch 234/300\n",
      "1/1 [==============================] - 0s 3ms/step - loss: 3.8155 - mae: 3.8155\n",
      "Epoch 235/300\n",
      "1/1 [==============================] - 0s 2ms/step - loss: 3.8106 - mae: 3.8106\n",
      "Epoch 236/300\n",
      "1/1 [==============================] - 0s 2ms/step - loss: 3.8060 - mae: 3.8060\n",
      "Epoch 237/300\n",
      "1/1 [==============================] - 0s 2ms/step - loss: 3.8010 - mae: 3.8010\n",
      "Epoch 238/300\n",
      "1/1 [==============================] - 0s 3ms/step - loss: 3.7957 - mae: 3.7957\n",
      "Epoch 239/300\n",
      "1/1 [==============================] - 0s 3ms/step - loss: 3.7901 - mae: 3.7901\n",
      "Epoch 240/300\n",
      "1/1 [==============================] - 0s 3ms/step - loss: 3.7941 - mae: 3.7941\n",
      "Epoch 241/300\n",
      "1/1 [==============================] - 0s 3ms/step - loss: 3.7964 - mae: 3.7964\n",
      "Epoch 242/300\n",
      "1/1 [==============================] - 0s 2ms/step - loss: 3.7972 - mae: 3.7972\n",
      "Epoch 243/300\n",
      "1/1 [==============================] - 0s 3ms/step - loss: 3.7975 - mae: 3.7975\n",
      "Epoch 244/300\n",
      "1/1 [==============================] - 0s 3ms/step - loss: 3.7953 - mae: 3.7953\n",
      "Epoch 245/300\n",
      "1/1 [==============================] - 0s 3ms/step - loss: 3.7927 - mae: 3.7927\n",
      "Epoch 246/300\n",
      "1/1 [==============================] - 0s 2ms/step - loss: 3.7892 - mae: 3.7892\n",
      "Epoch 247/300\n",
      "1/1 [==============================] - 0s 2ms/step - loss: 3.7847 - mae: 3.7847\n",
      "Epoch 248/300\n",
      "1/1 [==============================] - 0s 3ms/step - loss: 3.7874 - mae: 3.7874\n",
      "Epoch 249/300\n",
      "1/1 [==============================] - 0s 3ms/step - loss: 3.7890 - mae: 3.7890\n",
      "Epoch 250/300\n",
      "1/1 [==============================] - 0s 2ms/step - loss: 3.7898 - mae: 3.7898\n",
      "Epoch 251/300\n",
      "1/1 [==============================] - 0s 2ms/step - loss: 3.7897 - mae: 3.7897\n",
      "Epoch 252/300\n",
      "1/1 [==============================] - 0s 2ms/step - loss: 3.7897 - mae: 3.7897\n",
      "Epoch 253/300\n",
      "1/1 [==============================] - 0s 3ms/step - loss: 3.7875 - mae: 3.7875\n",
      "Epoch 254/300\n",
      "1/1 [==============================] - 0s 2ms/step - loss: 3.7858 - mae: 3.7858\n",
      "Epoch 255/300\n",
      "1/1 [==============================] - 0s 3ms/step - loss: 3.7833 - mae: 3.7833\n",
      "Epoch 256/300\n",
      "1/1 [==============================] - 0s 2ms/step - loss: 3.7803 - mae: 3.7803\n",
      "Epoch 257/300\n",
      "1/1 [==============================] - 0s 3ms/step - loss: 3.7774 - mae: 3.7774\n",
      "Epoch 258/300\n",
      "1/1 [==============================] - 0s 3ms/step - loss: 3.7787 - mae: 3.7787\n",
      "Epoch 259/300\n",
      "1/1 [==============================] - 0s 2ms/step - loss: 3.7798 - mae: 3.7798\n",
      "Epoch 260/300\n",
      "1/1 [==============================] - 0s 2ms/step - loss: 3.7774 - mae: 3.7774\n",
      "Epoch 261/300\n"
     ]
    },
    {
     "name": "stdout",
     "output_type": "stream",
     "text": [
      "1/1 [==============================] - 0s 4ms/step - loss: 3.7752 - mae: 3.7752\n",
      "Epoch 262/300\n",
      "1/1 [==============================] - 0s 3ms/step - loss: 3.7760 - mae: 3.7760\n",
      "Epoch 263/300\n",
      "1/1 [==============================] - 0s 3ms/step - loss: 3.7766 - mae: 3.7766\n",
      "Epoch 264/300\n",
      "1/1 [==============================] - 0s 4ms/step - loss: 3.7763 - mae: 3.7763\n",
      "Epoch 265/300\n",
      "1/1 [==============================] - 0s 3ms/step - loss: 3.7752 - mae: 3.7752\n",
      "Epoch 266/300\n",
      "1/1 [==============================] - 0s 3ms/step - loss: 3.7734 - mae: 3.7734\n",
      "Epoch 267/300\n",
      "1/1 [==============================] - 0s 3ms/step - loss: 3.7709 - mae: 3.7709\n",
      "Epoch 268/300\n",
      "1/1 [==============================] - 0s 2ms/step - loss: 3.7734 - mae: 3.7734\n",
      "Epoch 269/300\n",
      "1/1 [==============================] - 0s 3ms/step - loss: 3.7723 - mae: 3.7723\n",
      "Epoch 270/300\n",
      "1/1 [==============================] - 0s 2ms/step - loss: 3.7714 - mae: 3.7714\n",
      "Epoch 271/300\n",
      "1/1 [==============================] - 0s 3ms/step - loss: 3.7699 - mae: 3.7699\n",
      "Epoch 272/300\n",
      "1/1 [==============================] - 0s 3ms/step - loss: 3.7693 - mae: 3.7693\n",
      "Epoch 273/300\n",
      "1/1 [==============================] - 0s 3ms/step - loss: 3.7699 - mae: 3.7699\n",
      "Epoch 274/300\n",
      "1/1 [==============================] - 0s 2ms/step - loss: 3.7697 - mae: 3.7697\n",
      "Epoch 275/300\n",
      "1/1 [==============================] - 0s 2ms/step - loss: 3.7686 - mae: 3.7686\n",
      "Epoch 276/300\n",
      "1/1 [==============================] - 0s 2ms/step - loss: 3.7668 - mae: 3.7668\n",
      "Epoch 277/300\n",
      "1/1 [==============================] - 0s 3ms/step - loss: 3.7667 - mae: 3.7667\n",
      "Epoch 278/300\n",
      "1/1 [==============================] - 0s 2ms/step - loss: 3.7666 - mae: 3.7666\n",
      "Epoch 279/300\n",
      "1/1 [==============================] - 0s 2ms/step - loss: 3.7651 - mae: 3.7651\n",
      "Epoch 280/300\n",
      "1/1 [==============================] - 0s 3ms/step - loss: 3.7627 - mae: 3.7627\n",
      "Epoch 281/300\n",
      "1/1 [==============================] - 0s 2ms/step - loss: 3.7623 - mae: 3.7623\n",
      "Epoch 282/300\n",
      "1/1 [==============================] - 0s 2ms/step - loss: 3.7610 - mae: 3.7610\n",
      "Epoch 283/300\n",
      "1/1 [==============================] - 0s 3ms/step - loss: 3.7604 - mae: 3.7604\n",
      "Epoch 284/300\n",
      "1/1 [==============================] - 0s 3ms/step - loss: 3.7591 - mae: 3.7591\n",
      "Epoch 285/300\n",
      "1/1 [==============================] - 0s 3ms/step - loss: 3.7589 - mae: 3.7589\n",
      "Epoch 286/300\n",
      "1/1 [==============================] - 0s 3ms/step - loss: 3.7577 - mae: 3.7577\n",
      "Epoch 287/300\n",
      "1/1 [==============================] - 0s 2ms/step - loss: 3.7566 - mae: 3.7566\n",
      "Epoch 288/300\n",
      "1/1 [==============================] - 0s 3ms/step - loss: 3.7564 - mae: 3.7564\n",
      "Epoch 289/300\n",
      "1/1 [==============================] - 0s 3ms/step - loss: 3.7557 - mae: 3.7557\n",
      "Epoch 290/300\n",
      "1/1 [==============================] - 0s 2ms/step - loss: 3.7543 - mae: 3.7543\n",
      "Epoch 291/300\n",
      "1/1 [==============================] - 0s 2ms/step - loss: 3.7540 - mae: 3.7540\n",
      "Epoch 292/300\n",
      "1/1 [==============================] - 0s 2ms/step - loss: 3.7534 - mae: 3.7534\n",
      "Epoch 293/300\n",
      "1/1 [==============================] - 0s 3ms/step - loss: 3.7531 - mae: 3.7531\n",
      "Epoch 294/300\n",
      "1/1 [==============================] - 0s 2ms/step - loss: 3.7522 - mae: 3.7522\n",
      "Epoch 295/300\n",
      "1/1 [==============================] - 0s 3ms/step - loss: 3.7527 - mae: 3.7527\n",
      "Epoch 296/300\n",
      "1/1 [==============================] - 0s 3ms/step - loss: 3.7518 - mae: 3.7518\n",
      "Epoch 297/300\n",
      "1/1 [==============================] - 0s 3ms/step - loss: 3.7500 - mae: 3.7500\n",
      "Epoch 298/300\n",
      "1/1 [==============================] - 0s 3ms/step - loss: 3.7493 - mae: 3.7493\n",
      "Epoch 299/300\n",
      "1/1 [==============================] - 0s 3ms/step - loss: 3.7481 - mae: 3.7481\n",
      "Epoch 300/300\n",
      "1/1 [==============================] - 0s 3ms/step - loss: 3.7472 - mae: 3.7472\n"
     ]
    },
    {
     "data": {
      "text/plain": [
       "<keras.callbacks.History at 0x1765ea494c0>"
      ]
     },
     "execution_count": 19,
     "metadata": {},
     "output_type": "execute_result"
    }
   ],
   "source": [
    "# Set a random seed (in order to have some reproducibility)\n",
    "tf.random.set_seed(42)\n",
    "\n",
    "# 1. Create a model using the Sequential API\n",
    "model = tf.keras.Sequential([\n",
    "    \n",
    "    # Adding more hidden layers, more neurons, and activation function \n",
    "    tf.keras.layers.Dense(100, activation=\"relu\"),\n",
    "    tf.keras.layers.Dense(100, activation=\"relu\"),\n",
    "    tf.keras.layers.Dense(100, activation=\"relu\"),\n",
    "    \n",
    "    tf.keras.layers.Dense(1)\n",
    "])\n",
    "\n",
    "# 2. Compile the model\n",
    "model.compile(loss=tf.keras.losses.mae, # MAE : Mean Absolute Error\n",
    "              optimizer=tf.keras.optimizers.Adam(lr=0.0001), # lr = Learning Rate\n",
    "              metrics=[\"mae\"]\n",
    "             )\n",
    "\n",
    "# 3. Fit the model \n",
    "model.fit(tf.expand_dims(X, axis=-1),y, epochs=300) # Increasing the number of epochs\n"
   ]
  },
  {
   "cell_type": "code",
   "execution_count": null,
   "id": "4fc7afc1",
   "metadata": {},
   "outputs": [],
   "source": []
  },
  {
   "cell_type": "code",
   "execution_count": 16,
   "id": "533e0fa1",
   "metadata": {},
   "outputs": [
    {
     "data": {
      "text/plain": [
       "(<tf.Tensor: shape=(8,), dtype=float64, numpy=array([-7., -4., -1.,  2.,  5.,  8., 11., 14.])>,\n",
       " <tf.Tensor: shape=(8,), dtype=float64, numpy=array([ 3.,  6.,  9., 12., 15., 18., 21., 24.])>)"
      ]
     },
     "execution_count": 16,
     "metadata": {},
     "output_type": "execute_result"
    }
   ],
   "source": [
    "# Remind ourselves of the data\n",
    "X, y"
   ]
  },
  {
   "cell_type": "code",
   "execution_count": 20,
   "id": "9e130a20",
   "metadata": {},
   "outputs": [
    {
     "name": "stdout",
     "output_type": "stream",
     "text": [
      "1/1 [==============================] - 0s 98ms/step\n"
     ]
    },
    {
     "data": {
      "text/plain": [
       "array([[32.057537]], dtype=float32)"
      ]
     },
     "execution_count": 20,
     "metadata": {},
     "output_type": "execute_result"
    }
   ],
   "source": [
    "# Check if the model's prediction has improved...\n",
    "model.predict([17.])"
   ]
  },
  {
   "cell_type": "markdown",
   "id": "93827ad7",
   "metadata": {},
   "source": [
    "The model prediction has indeed improved, it is much better than before."
   ]
  },
  {
   "cell_type": "code",
   "execution_count": null,
   "id": "fe87eb6f",
   "metadata": {},
   "outputs": [],
   "source": []
  },
  {
   "cell_type": "code",
   "execution_count": null,
   "id": "e2c5c066",
   "metadata": {},
   "outputs": [],
   "source": []
  }
 ],
 "metadata": {
  "kernelspec": {
   "display_name": "Python 3",
   "language": "python",
   "name": "python3"
  },
  "language_info": {
   "codemirror_mode": {
    "name": "ipython",
    "version": 3
   },
   "file_extension": ".py",
   "mimetype": "text/x-python",
   "name": "python",
   "nbconvert_exporter": "python",
   "pygments_lexer": "ipython3",
   "version": "3.8.8"
  }
 },
 "nbformat": 4,
 "nbformat_minor": 5
}
