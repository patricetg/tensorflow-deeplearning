{
 "cells": [
  {
   "cell_type": "code",
   "execution_count": null,
   "id": "d1d332c5",
   "metadata": {},
   "outputs": [],
   "source": []
  },
  {
   "cell_type": "markdown",
   "id": "ae1f3f01",
   "metadata": {},
   "source": [
    "# Introduction to Regression with Neural Networks in TensorFlow\n",
    "\n",
    "There are many definitions for a regression problem, but to make it simple : predicting a continuous (numerical) variable based on some other combination of variables."
   ]
  },
  {
   "cell_type": "code",
   "execution_count": 1,
   "id": "3ebcab60",
   "metadata": {},
   "outputs": [
    {
     "name": "stdout",
     "output_type": "stream",
     "text": [
      "2.10.0\n"
     ]
    }
   ],
   "source": [
    "# Import TensorFlow\n",
    "import tensorflow as tf\n",
    "print(tf.__version__)"
   ]
  },
  {
   "cell_type": "code",
   "execution_count": 2,
   "id": "46175302",
   "metadata": {},
   "outputs": [],
   "source": [
    "import numpy as np\n",
    "import matplotlib.pyplot as plt"
   ]
  },
  {
   "cell_type": "code",
   "execution_count": 3,
   "id": "b73583b4",
   "metadata": {},
   "outputs": [],
   "source": [
    "from tensorflow.keras.utils import plot_model"
   ]
  },
  {
   "cell_type": "markdown",
   "id": "5b304915",
   "metadata": {},
   "source": [
    "Note : in order to use plot_model, one must install pydot (`pip install pydot`) and install graphviz (see instructions at https://graphviz.gitlab.io/download/) for plot_model to work."
   ]
  },
  {
   "cell_type": "code",
   "execution_count": null,
   "id": "99283640",
   "metadata": {},
   "outputs": [],
   "source": []
  },
  {
   "cell_type": "markdown",
   "id": "3ea9cdd1",
   "metadata": {},
   "source": [
    "### Creating data to view and fit"
   ]
  },
  {
   "cell_type": "code",
   "execution_count": 4,
   "id": "dc6c9d96",
   "metadata": {},
   "outputs": [
    {
     "data": {
      "text/plain": [
       "<matplotlib.collections.PathCollection at 0x23a51367c70>"
      ]
     },
     "execution_count": 4,
     "metadata": {},
     "output_type": "execute_result"
    },
    {
     "data": {
      "image/png": "[encoded data removed]",
      "text/plain": [
       "<Figure size 432x288 with 1 Axes>"
      ]
     },
     "metadata": {
      "needs_background": "light"
     },
     "output_type": "display_data"
    }
   ],
   "source": [
    "# Create features\n",
    "X = np.array([-7., -4, -1, 2, 5, 8, 11, 14])\n",
    "\n",
    "# Create labels\n",
    "y = np.array([3., 6, 9, 12, 15, 18, 21, 24])\n",
    "\n",
    "# Visualize it\n",
    "plt.scatter(X,y)"
   ]
  },
  {
   "cell_type": "code",
   "execution_count": 5,
   "id": "2e244a47",
   "metadata": {},
   "outputs": [
    {
     "data": {
      "text/plain": [
       "array([ 3.,  6.,  9., 12., 15., 18., 21., 24.])"
      ]
     },
     "execution_count": 5,
     "metadata": {},
     "output_type": "execute_result"
    }
   ],
   "source": [
    "X+10"
   ]
  },
  {
   "cell_type": "code",
   "execution_count": 6,
   "id": "fb87b2bc",
   "metadata": {},
   "outputs": [
    {
     "data": {
      "text/plain": [
       "array([ True,  True,  True,  True,  True,  True,  True,  True])"
      ]
     },
     "execution_count": 6,
     "metadata": {},
     "output_type": "execute_result"
    }
   ],
   "source": [
    "y == X+10"
   ]
  },
  {
   "cell_type": "code",
   "execution_count": 7,
   "id": "e18c377b",
   "metadata": {},
   "outputs": [
    {
     "data": {
      "text/plain": [
       "(TensorShape([8]), TensorShape([8]))"
      ]
     },
     "execution_count": 7,
     "metadata": {},
     "output_type": "execute_result"
    }
   ],
   "source": [
    "# Turning the NumPy arrays into tensors\n",
    "X = tf.constant(X)\n",
    "y = tf.constant(y)\n",
    "X.shape, y.shape"
   ]
  },
  {
   "cell_type": "code",
   "execution_count": 8,
   "id": "f4485d20",
   "metadata": {},
   "outputs": [
    {
     "data": {
      "text/plain": [
       "<tf.Tensor: shape=(8,), dtype=float64, numpy=array([-7., -4., -1.,  2.,  5.,  8., 11., 14.])>"
      ]
     },
     "execution_count": 8,
     "metadata": {},
     "output_type": "execute_result"
    }
   ],
   "source": [
    "X"
   ]
  },
  {
   "cell_type": "code",
   "execution_count": 9,
   "id": "5e0fe4a9",
   "metadata": {},
   "outputs": [
    {
     "data": {
      "text/plain": [
       "<tf.Tensor: shape=(8, 1), dtype=float64, numpy=\n",
       "array([[-7.],\n",
       "       [-4.],\n",
       "       [-1.],\n",
       "       [ 2.],\n",
       "       [ 5.],\n",
       "       [ 8.],\n",
       "       [11.],\n",
       "       [14.]])>"
      ]
     },
     "execution_count": 9,
     "metadata": {},
     "output_type": "execute_result"
    }
   ],
   "source": [
    "# Expand the dimension of a tensor : https://www.geeksforgeeks.org/python-tensorflow-expand_dims/\n",
    "tf.expand_dims(X, axis=-1)"
   ]
  },
  {
   "cell_type": "code",
   "execution_count": null,
   "id": "f5304102",
   "metadata": {},
   "outputs": [],
   "source": []
  },
  {
   "cell_type": "markdown",
   "id": "612e394c",
   "metadata": {},
   "source": [
    "### Steps in modeling in TensorFlow\n",
    "\n",
    "1. **Creating the model** - define the input and output layers, as well as the hidden layers of a deep learning model.\n",
    "2. **Compiling the model** - define the loss function (the function which will tells our model how far its from performing well), the optimizer (tells the model how to update its internal patterns to better its predictions) and the evaluation metrics (human interpretable values for how well the model is doing).\n",
    "3. **Fitting the model** - letting the model try to find patterns between features and labels.\n",
    "4. **Evaluation** - Evaluate the model on the test data (in order to know how reliable are the model's predictions ?)\n",
    "\n",
    "\n",
    "In TensorFlow, there are two main way of creating a model :\n",
    "* Sequential API\n",
    "* Functional API"
   ]
  },
  {
   "cell_type": "code",
   "execution_count": 10,
   "id": "6f72d001",
   "metadata": {},
   "outputs": [
    {
     "name": "stdout",
     "output_type": "stream",
     "text": [
      "Epoch 1/5\n",
      "1/1 [==============================] - 1s 764ms/step - loss: 8.1317 - mae: 8.1317\n",
      "Epoch 2/5\n",
      "1/1 [==============================] - 0s 5ms/step - loss: 7.9992 - mae: 7.9992\n",
      "Epoch 3/5\n",
      "1/1 [==============================] - 0s 5ms/step - loss: 7.8667 - mae: 7.8667\n",
      "Epoch 4/5\n",
      "1/1 [==============================] - 0s 5ms/step - loss: 7.7342 - mae: 7.7342\n",
      "Epoch 5/5\n",
      "1/1 [==============================] - 0s 6ms/step - loss: 7.6017 - mae: 7.6017\n"
     ]
    },
    {
     "data": {
      "text/plain": [
       "<keras.callbacks.History at 0x23a51692b20>"
      ]
     },
     "execution_count": 10,
     "metadata": {},
     "output_type": "execute_result"
    }
   ],
   "source": [
    "# Set a random seed (in order to have some reproducibility)\n",
    "tf.random.set_seed(42)\n",
    "\n",
    "# 1. Create a model using the Sequential API\n",
    "model = tf.keras.Sequential([\n",
    "    tf.keras.layers.Dense(1)\n",
    "])\n",
    "\n",
    "# 2. Compile the model\n",
    "model.compile(loss=tf.keras.losses.mae, # MAE : Mean Absolute Error\n",
    "              optimizer=tf.keras.optimizers.SGD(), # SGD : Stochastic Gradient Descent\n",
    "              metrics=[\"mae\"]\n",
    "             )\n",
    "\n",
    "# 3. Fit the model \n",
    "model.fit(tf.expand_dims(X, axis=-1),y, epochs=5)\n"
   ]
  },
  {
   "cell_type": "markdown",
   "id": "2f2af8b2",
   "metadata": {},
   "source": [
    "**Note**  \n",
    "A lot of function in TensorFlow, if they have a shortcut name (e.g. mae or SGD), can be replaced by a string variable to define the fact it is wished to used that specific function. For e.g., the step 2 in the above cell( Compile the model), can also be written as such : \n",
    "\n",
    "model.compile(loss=\"mae\",  \n",
    "              optimizer=\"sgd\",  \n",
    "              metrics=[\"mae\"]  \n",
    "             )"
   ]
  },
  {
   "cell_type": "code",
   "execution_count": 11,
   "id": "9949ba02",
   "metadata": {},
   "outputs": [
    {
     "data": {
      "text/plain": [
       "(<tf.Tensor: shape=(8,), dtype=float64, numpy=array([-7., -4., -1.,  2.,  5.,  8., 11., 14.])>,\n",
       " <tf.Tensor: shape=(8,), dtype=float64, numpy=array([ 3.,  6.,  9., 12., 15., 18., 21., 24.])>)"
      ]
     },
     "execution_count": 11,
     "metadata": {},
     "output_type": "execute_result"
    }
   ],
   "source": [
    "# Check out X and y\n",
    "X, y"
   ]
  },
  {
   "cell_type": "code",
   "execution_count": 12,
   "id": "d35d1023",
   "metadata": {},
   "outputs": [
    {
     "name": "stdout",
     "output_type": "stream",
     "text": [
      "1/1 [==============================] - 0s 185ms/step\n"
     ]
    },
    {
     "data": {
      "text/plain": [
       "array([[29.099735]], dtype=float32)"
      ]
     },
     "execution_count": 12,
     "metadata": {},
     "output_type": "execute_result"
    }
   ],
   "source": [
    "# Trying to make a prediction using our model\n",
    "model.predict([17.])"
   ]
  },
  {
   "cell_type": "markdown",
   "id": "9eefcc9e",
   "metadata": {},
   "source": [
    "The predicted value (y) should be 27 when X is 17. But we got -13.89, which is pretty far off. This is no surprising because the current MAE of our model is 17.3050, which means : on average, our model predict something that is 17.3050 points off where is should be (MAE)."
   ]
  },
  {
   "cell_type": "code",
   "execution_count": 13,
   "id": "27107469",
   "metadata": {},
   "outputs": [
    {
     "name": "stdout",
     "output_type": "stream",
     "text": [
      "1/1 [==============================] - 0s 94ms/step\n"
     ]
    },
    {
     "data": {
      "text/plain": [
       "array([[29.099735]], dtype=float32)"
      ]
     },
     "execution_count": 13,
     "metadata": {},
     "output_type": "execute_result"
    }
   ],
   "source": [
    "y_pred = model.predict([17.])\n",
    "y_pred"
   ]
  },
  {
   "cell_type": "code",
   "execution_count": 14,
   "id": "65c6bb1b",
   "metadata": {},
   "outputs": [
    {
     "data": {
      "text/plain": [
       "array([[46.404736]], dtype=float32)"
      ]
     },
     "execution_count": 14,
     "metadata": {},
     "output_type": "execute_result"
    }
   ],
   "source": [
    "y_pred + 17.3050"
   ]
  },
  {
   "cell_type": "markdown",
   "id": "a759cf25",
   "metadata": {},
   "source": [
    "The value is still off, our model is performing poorly.   \n",
    "Now, we need to improve our model."
   ]
  },
  {
   "cell_type": "code",
   "execution_count": null,
   "id": "7eecc354",
   "metadata": {},
   "outputs": [],
   "source": []
  },
  {
   "cell_type": "markdown",
   "id": "f47b7fed",
   "metadata": {},
   "source": [
    "### Improving our model\n",
    "\n",
    "We can improve our model by altering the steps we took to create a model.  \n",
    "\n",
    "1. **Creating a model** - Here, we might :\n",
    "* add more layers, \n",
    "* increase the number of hidden units (also called neurons) within each of th hidden layers, \n",
    "* change the activation function of each layer\n",
    "\n",
    "2. **Compiling the model** - Here, we might :\n",
    "* change the optimization function, or perhaps ,\n",
    "* or perhaps changes the **learning rate** of the optimization funciton\n",
    "\n",
    "3. **Fitting the model** - Here, we might :\n",
    "* fit the model for more epochs (make it training for longer)\n",
    "* fit the model on more data (give the model more examples to learn from)"
   ]
  },
  {
   "cell_type": "code",
   "execution_count": 15,
   "id": "0900b32c",
   "metadata": {},
   "outputs": [
    {
     "name": "stdout",
     "output_type": "stream",
     "text": [
      "Epoch 1/100\n",
      "1/1 [==============================] - 1s 675ms/step - loss: 14.2497 - mae: 14.2497\n",
      "Epoch 2/100\n",
      "1/1 [==============================] - 0s 8ms/step - loss: 13.7877 - mae: 13.7877\n",
      "Epoch 3/100\n",
      "1/1 [==============================] - 0s 8ms/step - loss: 13.3326 - mae: 13.3326\n",
      "Epoch 4/100\n",
      "1/1 [==============================] - 0s 6ms/step - loss: 12.8792 - mae: 12.8792\n",
      "Epoch 5/100\n",
      "1/1 [==============================] - 0s 7ms/step - loss: 12.4239 - mae: 12.4239\n",
      "Epoch 6/100\n",
      "1/1 [==============================] - 0s 5ms/step - loss: 11.9690 - mae: 11.9690\n",
      "Epoch 7/100\n",
      "1/1 [==============================] - 0s 5ms/step - loss: 11.5222 - mae: 11.5222\n",
      "Epoch 8/100\n",
      "1/1 [==============================] - 0s 4ms/step - loss: 11.0678 - mae: 11.0678\n",
      "Epoch 9/100\n",
      "1/1 [==============================] - 0s 6ms/step - loss: 10.5972 - mae: 10.5972\n",
      "Epoch 10/100\n",
      "1/1 [==============================] - 0s 6ms/step - loss: 10.1109 - mae: 10.1109\n",
      "Epoch 11/100\n",
      "1/1 [==============================] - 0s 5ms/step - loss: 9.6056 - mae: 9.6056\n",
      "Epoch 12/100\n",
      "1/1 [==============================] - 0s 6ms/step - loss: 9.0757 - mae: 9.0757\n",
      "Epoch 13/100\n",
      "1/1 [==============================] - 0s 5ms/step - loss: 8.5124 - mae: 8.5124\n",
      "Epoch 14/100\n",
      "1/1 [==============================] - 0s 6ms/step - loss: 7.9609 - mae: 7.9609\n",
      "Epoch 15/100\n",
      "1/1 [==============================] - 0s 6ms/step - loss: 7.3670 - mae: 7.3670\n",
      "Epoch 16/100\n",
      "1/1 [==============================] - 0s 5ms/step - loss: 6.7216 - mae: 6.7216\n",
      "Epoch 17/100\n",
      "1/1 [==============================] - 0s 7ms/step - loss: 6.0186 - mae: 6.0186\n",
      "Epoch 18/100\n",
      "1/1 [==============================] - 0s 4ms/step - loss: 5.2544 - mae: 5.2544\n",
      "Epoch 19/100\n",
      "1/1 [==============================] - 0s 5ms/step - loss: 4.4190 - mae: 4.4190\n",
      "Epoch 20/100\n",
      "1/1 [==============================] - 0s 5ms/step - loss: 3.9666 - mae: 3.9666\n",
      "Epoch 21/100\n",
      "1/1 [==============================] - 0s 5ms/step - loss: 3.8829 - mae: 3.8829\n",
      "Epoch 22/100\n",
      "1/1 [==============================] - 0s 6ms/step - loss: 3.9502 - mae: 3.9502\n",
      "Epoch 23/100\n",
      "1/1 [==============================] - 0s 4ms/step - loss: 3.8950 - mae: 3.8950\n",
      "Epoch 24/100\n",
      "1/1 [==============================] - 0s 6ms/step - loss: 3.9251 - mae: 3.9251\n",
      "Epoch 25/100\n",
      "1/1 [==============================] - 0s 6ms/step - loss: 3.9011 - mae: 3.9011\n",
      "Epoch 26/100\n",
      "1/1 [==============================] - 0s 4ms/step - loss: 3.9000 - mae: 3.9000\n",
      "Epoch 27/100\n",
      "1/1 [==============================] - 0s 6ms/step - loss: 3.9072 - mae: 3.9072\n",
      "Epoch 28/100\n",
      "1/1 [==============================] - 0s 5ms/step - loss: 3.8747 - mae: 3.8747\n",
      "Epoch 29/100\n",
      "1/1 [==============================] - 0s 4ms/step - loss: 3.9149 - mae: 3.9149\n",
      "Epoch 30/100\n",
      "1/1 [==============================] - 0s 5ms/step - loss: 3.8580 - mae: 3.8580\n",
      "Epoch 31/100\n",
      "1/1 [==============================] - 0s 4ms/step - loss: 3.9275 - mae: 3.9275\n",
      "Epoch 32/100\n",
      "1/1 [==============================] - 0s 6ms/step - loss: 3.8642 - mae: 3.8642\n",
      "Epoch 33/100\n",
      "1/1 [==============================] - 0s 5ms/step - loss: 3.9023 - mae: 3.9023\n",
      "Epoch 34/100\n",
      "1/1 [==============================] - 0s 6ms/step - loss: 3.8704 - mae: 3.8704\n",
      "Epoch 35/100\n",
      "1/1 [==============================] - 0s 5ms/step - loss: 3.8769 - mae: 3.8769\n",
      "Epoch 36/100\n",
      "1/1 [==============================] - 0s 6ms/step - loss: 3.8768 - mae: 3.8768\n",
      "Epoch 37/100\n",
      "1/1 [==============================] - 0s 6ms/step - loss: 3.8516 - mae: 3.8516\n",
      "Epoch 38/100\n",
      "1/1 [==============================] - 0s 9ms/step - loss: 3.8923 - mae: 3.8923\n",
      "Epoch 39/100\n",
      "1/1 [==============================] - 0s 6ms/step - loss: 3.8339 - mae: 3.8339\n",
      "Epoch 40/100\n",
      "1/1 [==============================] - 0s 22ms/step - loss: 3.8988 - mae: 3.8988\n",
      "Epoch 41/100\n",
      "1/1 [==============================] - 0s 9ms/step - loss: 3.8344 - mae: 3.8344\n",
      "Epoch 42/100\n",
      "1/1 [==============================] - 0s 7ms/step - loss: 3.8781 - mae: 3.8781\n",
      "Epoch 43/100\n",
      "1/1 [==============================] - 0s 8ms/step - loss: 3.8409 - mae: 3.8409\n",
      "Epoch 44/100\n",
      "1/1 [==============================] - 0s 8ms/step - loss: 3.8525 - mae: 3.8525\n",
      "Epoch 45/100\n",
      "1/1 [==============================] - 0s 7ms/step - loss: 3.8474 - mae: 3.8474\n",
      "Epoch 46/100\n",
      "1/1 [==============================] - 0s 7ms/step - loss: 3.8340 - mae: 3.8340\n",
      "Epoch 47/100\n",
      "1/1 [==============================] - 0s 6ms/step - loss: 3.8631 - mae: 3.8631\n",
      "Epoch 48/100\n",
      "1/1 [==============================] - 0s 7ms/step - loss: 3.8090 - mae: 3.8090\n",
      "Epoch 49/100\n",
      "1/1 [==============================] - 0s 10ms/step - loss: 3.8698 - mae: 3.8698\n",
      "Epoch 50/100\n",
      "1/1 [==============================] - 0s 8ms/step - loss: 3.8058 - mae: 3.8058\n",
      "Epoch 51/100\n",
      "1/1 [==============================] - 0s 6ms/step - loss: 3.8528 - mae: 3.8528\n",
      "Epoch 52/100\n",
      "1/1 [==============================] - 0s 7ms/step - loss: 3.8125 - mae: 3.8125\n",
      "Epoch 53/100\n",
      "1/1 [==============================] - 0s 9ms/step - loss: 3.8269 - mae: 3.8269\n",
      "Epoch 54/100\n",
      "1/1 [==============================] - 0s 9ms/step - loss: 3.8245 - mae: 3.8245\n",
      "Epoch 55/100\n",
      "1/1 [==============================] - 0s 119ms/step - loss: 3.8091 - mae: 3.8091\n",
      "Epoch 56/100\n",
      "1/1 [==============================] - 0s 17ms/step - loss: 3.8351 - mae: 3.8351\n",
      "Epoch 57/100\n",
      "1/1 [==============================] - 0s 8ms/step - loss: 3.7828 - mae: 3.7828\n",
      "Epoch 58/100\n",
      "1/1 [==============================] - 0s 7ms/step - loss: 3.8420 - mae: 3.8420\n",
      "Epoch 59/100\n",
      "1/1 [==============================] - 0s 6ms/step - loss: 3.7783 - mae: 3.7783\n",
      "Epoch 60/100\n",
      "1/1 [==============================] - 0s 9ms/step - loss: 3.8261 - mae: 3.8261\n",
      "Epoch 61/100\n",
      "1/1 [==============================] - 0s 6ms/step - loss: 3.7852 - mae: 3.7852\n",
      "Epoch 62/100\n",
      "1/1 [==============================] - 0s 13ms/step - loss: 3.8037 - mae: 3.8037\n",
      "Epoch 63/100\n",
      "1/1 [==============================] - 0s 7ms/step - loss: 3.8011 - mae: 3.8011\n",
      "Epoch 64/100\n",
      "1/1 [==============================] - 0s 8ms/step - loss: 3.7818 - mae: 3.7818\n",
      "Epoch 65/100\n",
      "1/1 [==============================] - 0s 9ms/step - loss: 3.8081 - mae: 3.8081\n",
      "Epoch 66/100\n",
      "1/1 [==============================] - 0s 5ms/step - loss: 3.7552 - mae: 3.7552\n",
      "Epoch 67/100\n",
      "1/1 [==============================] - 0s 11ms/step - loss: 3.8152 - mae: 3.8152\n",
      "Epoch 68/100\n",
      "1/1 [==============================] - 0s 6ms/step - loss: 3.7519 - mae: 3.7519\n",
      "Epoch 69/100\n",
      "1/1 [==============================] - 0s 14ms/step - loss: 3.7982 - mae: 3.7982\n",
      "Epoch 70/100\n",
      "1/1 [==============================] - 0s 7ms/step - loss: 3.7604 - mae: 3.7604\n",
      "Epoch 71/100\n",
      "1/1 [==============================] - 0s 5ms/step - loss: 3.7800 - mae: 3.7800\n",
      "Epoch 72/100\n",
      "1/1 [==============================] - 0s 8ms/step - loss: 3.7750 - mae: 3.7750\n",
      "Epoch 73/100\n",
      "1/1 [==============================] - 0s 7ms/step - loss: 3.7533 - mae: 3.7533\n",
      "Epoch 74/100\n",
      "1/1 [==============================] - 0s 6ms/step - loss: 3.7822 - mae: 3.7822\n",
      "Epoch 75/100\n",
      "1/1 [==============================] - 0s 8ms/step - loss: 3.7263 - mae: 3.7263\n",
      "Epoch 76/100\n",
      "1/1 [==============================] - 0s 5ms/step - loss: 3.7896 - mae: 3.7896\n",
      "Epoch 77/100\n",
      "1/1 [==============================] - 0s 7ms/step - loss: 3.7265 - mae: 3.7265\n",
      "Epoch 78/100\n",
      "1/1 [==============================] - 0s 7ms/step - loss: 3.7690 - mae: 3.7690\n",
      "Epoch 79/100\n",
      "1/1 [==============================] - 0s 6ms/step - loss: 3.7416 - mae: 3.7416\n",
      "Epoch 80/100\n",
      "1/1 [==============================] - 0s 8ms/step - loss: 3.7504 - mae: 3.7504\n",
      "Epoch 81/100\n",
      "1/1 [==============================] - 0s 6ms/step - loss: 3.7500 - mae: 3.7500\n",
      "Epoch 82/100\n",
      "1/1 [==============================] - 0s 6ms/step - loss: 3.7234 - mae: 3.7234\n",
      "Epoch 83/100\n",
      "1/1 [==============================] - 0s 7ms/step - loss: 3.7574 - mae: 3.7574\n",
      "Epoch 84/100\n",
      "1/1 [==============================] - 0s 5ms/step - loss: 3.6962 - mae: 3.6962\n",
      "Epoch 85/100\n",
      "1/1 [==============================] - 0s 5ms/step - loss: 3.7650 - mae: 3.7650\n",
      "Epoch 86/100\n",
      "1/1 [==============================] - 0s 6ms/step - loss: 3.7021 - mae: 3.7021\n",
      "Epoch 87/100\n",
      "1/1 [==============================] - 0s 6ms/step - loss: 3.7444 - mae: 3.7444\n",
      "Epoch 88/100\n"
     ]
    },
    {
     "name": "stdout",
     "output_type": "stream",
     "text": [
      "1/1 [==============================] - 0s 5ms/step - loss: 3.7185 - mae: 3.7185\n",
      "Epoch 89/100\n",
      "1/1 [==============================] - 0s 5ms/step - loss: 3.7195 - mae: 3.7195\n",
      "Epoch 90/100\n",
      "1/1 [==============================] - 0s 6ms/step - loss: 3.7259 - mae: 3.7259\n",
      "Epoch 91/100\n",
      "1/1 [==============================] - 0s 5ms/step - loss: 3.6922 - mae: 3.6922\n",
      "Epoch 92/100\n",
      "1/1 [==============================] - 0s 9ms/step - loss: 3.7336 - mae: 3.7336\n",
      "Epoch 93/100\n",
      "1/1 [==============================] - 0s 8ms/step - loss: 3.6713 - mae: 3.6713\n",
      "Epoch 94/100\n",
      "1/1 [==============================] - 0s 10ms/step - loss: 3.7338 - mae: 3.7338\n",
      "Epoch 95/100\n",
      "1/1 [==============================] - 0s 8ms/step - loss: 3.6821 - mae: 3.6821\n",
      "Epoch 96/100\n",
      "1/1 [==============================] - 0s 6ms/step - loss: 3.7149 - mae: 3.7149\n",
      "Epoch 97/100\n",
      "1/1 [==============================] - 0s 7ms/step - loss: 3.6953 - mae: 3.6953\n",
      "Epoch 98/100\n",
      "1/1 [==============================] - 0s 6ms/step - loss: 3.6873 - mae: 3.6873\n",
      "Epoch 99/100\n",
      "1/1 [==============================] - 0s 5ms/step - loss: 3.7030 - mae: 3.7030\n",
      "Epoch 100/100\n",
      "1/1 [==============================] - 0s 5ms/step - loss: 3.6596 - mae: 3.6596\n"
     ]
    },
    {
     "data": {
      "text/plain": [
       "<keras.callbacks.History at 0x23a52a926d0>"
      ]
     },
     "execution_count": 15,
     "metadata": {},
     "output_type": "execute_result"
    }
   ],
   "source": [
    "# 1st experiment : add a hidden layer, and more epochs, as an improvement to the model\n",
    "\n",
    "# Set a random seed (in order to have some reproducibility)\n",
    "tf.random.set_seed(42)\n",
    "\n",
    "# 1. Create a model using the Sequential API\n",
    "model = tf.keras.Sequential([\n",
    "    \n",
    "    # Adding more hidden layers, more neurons, and activation function \n",
    "    tf.keras.layers.Dense(100, activation=\"relu\"),\n",
    "    \n",
    "    tf.keras.layers.Dense(1)\n",
    "])\n",
    "\n",
    "# 2. Compile the model\n",
    "model.compile(loss=tf.keras.losses.mae, # MAE : Mean Absolute Error\n",
    "              optimizer=tf.keras.optimizers.SGD(),\n",
    "              metrics=[\"mae\"]\n",
    "             )\n",
    "\n",
    "# 3. Fit the model \n",
    "model.fit(tf.expand_dims(X, axis=-1),y, epochs=100) # Increasing the number of epochs\n"
   ]
  },
  {
   "cell_type": "markdown",
   "id": "ac7a663c",
   "metadata": {},
   "source": [
    "The 1st experiment has resulted in a good improvement of the model"
   ]
  },
  {
   "cell_type": "code",
   "execution_count": 16,
   "id": "debaf8ee",
   "metadata": {},
   "outputs": [
    {
     "name": "stdout",
     "output_type": "stream",
     "text": [
      "1/1 [==============================] - 0s 140ms/step\n"
     ]
    },
    {
     "data": {
      "text/plain": [
       "array([[32.84072]], dtype=float32)"
      ]
     },
     "execution_count": 16,
     "metadata": {},
     "output_type": "execute_result"
    }
   ],
   "source": [
    "# Check how the model's prediction has improved...\n",
    "model.predict([17.])"
   ]
  },
  {
   "cell_type": "code",
   "execution_count": null,
   "id": "edec4f02",
   "metadata": {},
   "outputs": [],
   "source": []
  },
  {
   "cell_type": "code",
   "execution_count": null,
   "id": "af2206a9",
   "metadata": {},
   "outputs": [],
   "source": []
  },
  {
   "cell_type": "code",
   "execution_count": 17,
   "id": "ab3f76fa",
   "metadata": {},
   "outputs": [
    {
     "name": "stdout",
     "output_type": "stream",
     "text": [
      "Epoch 1/300\n"
     ]
    },
    {
     "name": "stderr",
     "output_type": "stream",
     "text": [
      "C:\\ProgramData\\Anaconda3\\lib\\site-packages\\keras\\optimizers\\optimizer_v2\\adam.py:114: UserWarning: The `lr` argument is deprecated, use `learning_rate` instead.\n",
      "  super().__init__(name, **kwargs)\n"
     ]
    },
    {
     "name": "stdout",
     "output_type": "stream",
     "text": [
      "1/1 [==============================] - 1s 688ms/step - loss: 13.7068 - mae: 13.7068\n",
      "Epoch 2/300\n",
      "1/1 [==============================] - 0s 8ms/step - loss: 13.6806 - mae: 13.6806\n",
      "Epoch 3/300\n",
      "1/1 [==============================] - 0s 5ms/step - loss: 13.6544 - mae: 13.6544\n",
      "Epoch 4/300\n",
      "1/1 [==============================] - 0s 5ms/step - loss: 13.6284 - mae: 13.6284\n",
      "Epoch 5/300\n",
      "1/1 [==============================] - 0s 4ms/step - loss: 13.6028 - mae: 13.6028\n",
      "Epoch 6/300\n",
      "1/1 [==============================] - 0s 5ms/step - loss: 13.5782 - mae: 13.5782\n",
      "Epoch 7/300\n",
      "1/1 [==============================] - 0s 5ms/step - loss: 13.5536 - mae: 13.5536\n",
      "Epoch 8/300\n",
      "1/1 [==============================] - 0s 4ms/step - loss: 13.5292 - mae: 13.5292\n",
      "Epoch 9/300\n",
      "1/1 [==============================] - 0s 5ms/step - loss: 13.5051 - mae: 13.5051\n",
      "Epoch 10/300\n",
      "1/1 [==============================] - 0s 5ms/step - loss: 13.4806 - mae: 13.4806\n",
      "Epoch 11/300\n",
      "1/1 [==============================] - 0s 4ms/step - loss: 13.4557 - mae: 13.4557\n",
      "Epoch 12/300\n",
      "1/1 [==============================] - 0s 6ms/step - loss: 13.4306 - mae: 13.4306\n",
      "Epoch 13/300\n",
      "1/1 [==============================] - 0s 3ms/step - loss: 13.4054 - mae: 13.4054\n",
      "Epoch 14/300\n",
      "1/1 [==============================] - 0s 7ms/step - loss: 13.3803 - mae: 13.3803\n",
      "Epoch 15/300\n",
      "1/1 [==============================] - 0s 4ms/step - loss: 13.3555 - mae: 13.3555\n",
      "Epoch 16/300\n",
      "1/1 [==============================] - 0s 7ms/step - loss: 13.3305 - mae: 13.3305\n",
      "Epoch 17/300\n",
      "1/1 [==============================] - 0s 5ms/step - loss: 13.3060 - mae: 13.3060\n",
      "Epoch 18/300\n",
      "1/1 [==============================] - 0s 5ms/step - loss: 13.2824 - mae: 13.2824\n",
      "Epoch 19/300\n",
      "1/1 [==============================] - 0s 4ms/step - loss: 13.2592 - mae: 13.2592\n",
      "Epoch 20/300\n",
      "1/1 [==============================] - 0s 4ms/step - loss: 13.2359 - mae: 13.2359\n",
      "Epoch 21/300\n",
      "1/1 [==============================] - 0s 5ms/step - loss: 13.2127 - mae: 13.2127\n",
      "Epoch 22/300\n",
      "1/1 [==============================] - 0s 3ms/step - loss: 13.1894 - mae: 13.1894\n",
      "Epoch 23/300\n",
      "1/1 [==============================] - 0s 4ms/step - loss: 13.1660 - mae: 13.1660\n",
      "Epoch 24/300\n",
      "1/1 [==============================] - 0s 3ms/step - loss: 13.1426 - mae: 13.1426\n",
      "Epoch 25/300\n",
      "1/1 [==============================] - 0s 3ms/step - loss: 13.1190 - mae: 13.1190\n",
      "Epoch 26/300\n",
      "1/1 [==============================] - 0s 3ms/step - loss: 13.0954 - mae: 13.0954\n",
      "Epoch 27/300\n",
      "1/1 [==============================] - 0s 5ms/step - loss: 13.0718 - mae: 13.0718\n",
      "Epoch 28/300\n",
      "1/1 [==============================] - 0s 4ms/step - loss: 13.0482 - mae: 13.0482\n",
      "Epoch 29/300\n",
      "1/1 [==============================] - 0s 4ms/step - loss: 13.0247 - mae: 13.0247\n",
      "Epoch 30/300\n",
      "1/1 [==============================] - 0s 6ms/step - loss: 13.0016 - mae: 13.0016\n",
      "Epoch 31/300\n",
      "1/1 [==============================] - 0s 3ms/step - loss: 12.9792 - mae: 12.9792\n",
      "Epoch 32/300\n",
      "1/1 [==============================] - 0s 5ms/step - loss: 12.9567 - mae: 12.9567\n",
      "Epoch 33/300\n",
      "1/1 [==============================] - 0s 4ms/step - loss: 12.9341 - mae: 12.9341\n",
      "Epoch 34/300\n",
      "1/1 [==============================] - 0s 4ms/step - loss: 12.9113 - mae: 12.9113\n",
      "Epoch 35/300\n",
      "1/1 [==============================] - 0s 5ms/step - loss: 12.8884 - mae: 12.8884\n",
      "Epoch 36/300\n",
      "1/1 [==============================] - 0s 2ms/step - loss: 12.8654 - mae: 12.8654\n",
      "Epoch 37/300\n",
      "1/1 [==============================] - 0s 4ms/step - loss: 12.8423 - mae: 12.8423\n",
      "Epoch 38/300\n",
      "1/1 [==============================] - 0s 57ms/step - loss: 12.8194 - mae: 12.8194\n",
      "Epoch 39/300\n",
      "1/1 [==============================] - 0s 4ms/step - loss: 12.7970 - mae: 12.7970\n",
      "Epoch 40/300\n",
      "1/1 [==============================] - 0s 4ms/step - loss: 12.7745 - mae: 12.7745\n",
      "Epoch 41/300\n",
      "1/1 [==============================] - 0s 3ms/step - loss: 12.7519 - mae: 12.7519\n",
      "Epoch 42/300\n",
      "1/1 [==============================] - 0s 4ms/step - loss: 12.7293 - mae: 12.7293\n",
      "Epoch 43/300\n",
      "1/1 [==============================] - 0s 4ms/step - loss: 12.7068 - mae: 12.7068\n",
      "Epoch 44/300\n",
      "1/1 [==============================] - 0s 4ms/step - loss: 12.6841 - mae: 12.6841\n",
      "Epoch 45/300\n",
      "1/1 [==============================] - 0s 3ms/step - loss: 12.6613 - mae: 12.6613\n",
      "Epoch 46/300\n",
      "1/1 [==============================] - 0s 3ms/step - loss: 12.6384 - mae: 12.6384\n",
      "Epoch 47/300\n",
      "1/1 [==============================] - 0s 4ms/step - loss: 12.6153 - mae: 12.6153\n",
      "Epoch 48/300\n",
      "1/1 [==============================] - 0s 3ms/step - loss: 12.5920 - mae: 12.5920\n",
      "Epoch 49/300\n",
      "1/1 [==============================] - 0s 4ms/step - loss: 12.5685 - mae: 12.5685\n",
      "Epoch 50/300\n",
      "1/1 [==============================] - 0s 4ms/step - loss: 12.5447 - mae: 12.5447\n",
      "Epoch 51/300\n",
      "1/1 [==============================] - 0s 4ms/step - loss: 12.5203 - mae: 12.5203\n",
      "Epoch 52/300\n",
      "1/1 [==============================] - 0s 4ms/step - loss: 12.4956 - mae: 12.4956\n",
      "Epoch 53/300\n",
      "1/1 [==============================] - 0s 3ms/step - loss: 12.4709 - mae: 12.4709\n",
      "Epoch 54/300\n",
      "1/1 [==============================] - 0s 4ms/step - loss: 12.4463 - mae: 12.4463\n",
      "Epoch 55/300\n",
      "1/1 [==============================] - 0s 4ms/step - loss: 12.4215 - mae: 12.4215\n",
      "Epoch 56/300\n",
      "1/1 [==============================] - 0s 3ms/step - loss: 12.3964 - mae: 12.3964\n",
      "Epoch 57/300\n",
      "1/1 [==============================] - 0s 4ms/step - loss: 12.3710 - mae: 12.3710\n",
      "Epoch 58/300\n",
      "1/1 [==============================] - 0s 3ms/step - loss: 12.3453 - mae: 12.3453\n",
      "Epoch 59/300\n",
      "1/1 [==============================] - 0s 3ms/step - loss: 12.3195 - mae: 12.3195\n",
      "Epoch 60/300\n",
      "1/1 [==============================] - 0s 4ms/step - loss: 12.2934 - mae: 12.2934\n",
      "Epoch 61/300\n",
      "1/1 [==============================] - 0s 3ms/step - loss: 12.2673 - mae: 12.2673\n",
      "Epoch 62/300\n",
      "1/1 [==============================] - 0s 4ms/step - loss: 12.2411 - mae: 12.2411\n",
      "Epoch 63/300\n",
      "1/1 [==============================] - 0s 4ms/step - loss: 12.2145 - mae: 12.2145\n",
      "Epoch 64/300\n",
      "1/1 [==============================] - 0s 3ms/step - loss: 12.1876 - mae: 12.1876\n",
      "Epoch 65/300\n",
      "1/1 [==============================] - 0s 3ms/step - loss: 12.1607 - mae: 12.1607\n",
      "Epoch 66/300\n",
      "1/1 [==============================] - 0s 3ms/step - loss: 12.1334 - mae: 12.1334\n",
      "Epoch 67/300\n",
      "1/1 [==============================] - 0s 3ms/step - loss: 12.1058 - mae: 12.1058\n",
      "Epoch 68/300\n",
      "1/1 [==============================] - 0s 3ms/step - loss: 12.0780 - mae: 12.0780\n",
      "Epoch 69/300\n",
      "1/1 [==============================] - 0s 4ms/step - loss: 12.0499 - mae: 12.0499\n",
      "Epoch 70/300\n",
      "1/1 [==============================] - 0s 3ms/step - loss: 12.0215 - mae: 12.0215\n",
      "Epoch 71/300\n",
      "1/1 [==============================] - 0s 2ms/step - loss: 11.9930 - mae: 11.9930\n",
      "Epoch 72/300\n",
      "1/1 [==============================] - 0s 2ms/step - loss: 11.9643 - mae: 11.9643\n",
      "Epoch 73/300\n",
      "1/1 [==============================] - 0s 3ms/step - loss: 11.9370 - mae: 11.9370\n",
      "Epoch 74/300\n",
      "1/1 [==============================] - 0s 3ms/step - loss: 11.9196 - mae: 11.9196\n",
      "Epoch 75/300\n",
      "1/1 [==============================] - 0s 2ms/step - loss: 11.9020 - mae: 11.9020\n",
      "Epoch 76/300\n",
      "1/1 [==============================] - 0s 2ms/step - loss: 11.8841 - mae: 11.8841\n",
      "Epoch 77/300\n",
      "1/1 [==============================] - 0s 3ms/step - loss: 11.8662 - mae: 11.8662\n",
      "Epoch 78/300\n",
      "1/1 [==============================] - 0s 4ms/step - loss: 11.8481 - mae: 11.8481\n",
      "Epoch 79/300\n",
      "1/1 [==============================] - 0s 3ms/step - loss: 11.8299 - mae: 11.8299\n",
      "Epoch 80/300\n",
      "1/1 [==============================] - 0s 2ms/step - loss: 11.8114 - mae: 11.8114\n",
      "Epoch 81/300\n",
      "1/1 [==============================] - 0s 3ms/step - loss: 11.7928 - mae: 11.7928\n",
      "Epoch 82/300\n",
      "1/1 [==============================] - 0s 2ms/step - loss: 11.7739 - mae: 11.7739\n",
      "Epoch 83/300\n",
      "1/1 [==============================] - 0s 3ms/step - loss: 11.7549 - mae: 11.7549\n",
      "Epoch 84/300\n",
      "1/1 [==============================] - 0s 3ms/step - loss: 11.7355 - mae: 11.7355\n",
      "Epoch 85/300\n",
      "1/1 [==============================] - 0s 2ms/step - loss: 11.7160 - mae: 11.7160\n",
      "Epoch 86/300\n",
      "1/1 [==============================] - 0s 3ms/step - loss: 11.6963 - mae: 11.6963\n",
      "Epoch 87/300\n"
     ]
    },
    {
     "name": "stdout",
     "output_type": "stream",
     "text": [
      "1/1 [==============================] - 0s 3ms/step - loss: 11.6764 - mae: 11.6764\n",
      "Epoch 88/300\n",
      "1/1 [==============================] - 0s 2ms/step - loss: 11.6562 - mae: 11.6562\n",
      "Epoch 89/300\n",
      "1/1 [==============================] - 0s 2ms/step - loss: 11.6359 - mae: 11.6359\n",
      "Epoch 90/300\n",
      "1/1 [==============================] - 0s 3ms/step - loss: 11.6154 - mae: 11.6154\n",
      "Epoch 91/300\n",
      "1/1 [==============================] - 0s 4ms/step - loss: 11.5946 - mae: 11.5946\n",
      "Epoch 92/300\n",
      "1/1 [==============================] - 0s 4ms/step - loss: 11.5737 - mae: 11.5737\n",
      "Epoch 93/300\n",
      "1/1 [==============================] - 0s 2ms/step - loss: 11.5527 - mae: 11.5527\n",
      "Epoch 94/300\n",
      "1/1 [==============================] - 0s 3ms/step - loss: 11.5315 - mae: 11.5315\n",
      "Epoch 95/300\n",
      "1/1 [==============================] - 0s 3ms/step - loss: 11.5101 - mae: 11.5101\n",
      "Epoch 96/300\n",
      "1/1 [==============================] - 0s 3ms/step - loss: 11.4888 - mae: 11.4888\n",
      "Epoch 97/300\n",
      "1/1 [==============================] - 0s 3ms/step - loss: 11.4674 - mae: 11.4674\n",
      "Epoch 98/300\n",
      "1/1 [==============================] - 0s 3ms/step - loss: 11.4457 - mae: 11.4457\n",
      "Epoch 99/300\n",
      "1/1 [==============================] - 0s 3ms/step - loss: 11.4239 - mae: 11.4239\n",
      "Epoch 100/300\n",
      "1/1 [==============================] - 0s 4ms/step - loss: 11.4018 - mae: 11.4018\n",
      "Epoch 101/300\n",
      "1/1 [==============================] - 0s 5ms/step - loss: 11.3796 - mae: 11.3796\n",
      "Epoch 102/300\n",
      "1/1 [==============================] - 0s 4ms/step - loss: 11.3571 - mae: 11.3571\n",
      "Epoch 103/300\n",
      "1/1 [==============================] - 0s 5ms/step - loss: 11.3344 - mae: 11.3344\n",
      "Epoch 104/300\n",
      "1/1 [==============================] - 0s 5ms/step - loss: 11.3115 - mae: 11.3115\n",
      "Epoch 105/300\n",
      "1/1 [==============================] - 0s 3ms/step - loss: 11.2885 - mae: 11.2885\n",
      "Epoch 106/300\n",
      "1/1 [==============================] - 0s 4ms/step - loss: 11.2652 - mae: 11.2652\n",
      "Epoch 107/300\n",
      "1/1 [==============================] - 0s 2ms/step - loss: 11.2417 - mae: 11.2417\n",
      "Epoch 108/300\n",
      "1/1 [==============================] - 0s 3ms/step - loss: 11.2181 - mae: 11.2181\n",
      "Epoch 109/300\n",
      "1/1 [==============================] - 0s 3ms/step - loss: 11.1941 - mae: 11.1941\n",
      "Epoch 110/300\n",
      "1/1 [==============================] - 0s 3ms/step - loss: 11.1698 - mae: 11.1698\n",
      "Epoch 111/300\n",
      "1/1 [==============================] - 0s 3ms/step - loss: 11.1454 - mae: 11.1454\n",
      "Epoch 112/300\n",
      "1/1 [==============================] - 0s 2ms/step - loss: 11.1207 - mae: 11.1207\n",
      "Epoch 113/300\n",
      "1/1 [==============================] - 0s 3ms/step - loss: 11.0957 - mae: 11.0957\n",
      "Epoch 114/300\n",
      "1/1 [==============================] - 0s 3ms/step - loss: 11.0704 - mae: 11.0704\n",
      "Epoch 115/300\n",
      "1/1 [==============================] - 0s 2ms/step - loss: 11.0449 - mae: 11.0449\n",
      "Epoch 116/300\n",
      "1/1 [==============================] - 0s 3ms/step - loss: 11.0191 - mae: 11.0191\n",
      "Epoch 117/300\n",
      "1/1 [==============================] - 0s 2ms/step - loss: 10.9930 - mae: 10.9930\n",
      "Epoch 118/300\n",
      "1/1 [==============================] - 0s 3ms/step - loss: 10.9667 - mae: 10.9667\n",
      "Epoch 119/300\n",
      "1/1 [==============================] - 0s 2ms/step - loss: 10.9402 - mae: 10.9402\n",
      "Epoch 120/300\n",
      "1/1 [==============================] - 0s 3ms/step - loss: 10.9134 - mae: 10.9134\n",
      "Epoch 121/300\n",
      "1/1 [==============================] - 0s 3ms/step - loss: 10.8863 - mae: 10.8863\n",
      "Epoch 122/300\n",
      "1/1 [==============================] - 0s 2ms/step - loss: 10.8590 - mae: 10.8590\n",
      "Epoch 123/300\n",
      "1/1 [==============================] - 0s 2ms/step - loss: 10.8315 - mae: 10.8315\n",
      "Epoch 124/300\n",
      "1/1 [==============================] - 0s 4ms/step - loss: 10.8037 - mae: 10.8037\n",
      "Epoch 125/300\n",
      "1/1 [==============================] - 0s 4ms/step - loss: 10.7756 - mae: 10.7756\n",
      "Epoch 126/300\n",
      "1/1 [==============================] - 0s 4ms/step - loss: 10.7472 - mae: 10.7472\n",
      "Epoch 127/300\n",
      "1/1 [==============================] - 0s 3ms/step - loss: 10.7184 - mae: 10.7184\n",
      "Epoch 128/300\n",
      "1/1 [==============================] - 0s 2ms/step - loss: 10.6894 - mae: 10.6894\n",
      "Epoch 129/300\n",
      "1/1 [==============================] - 0s 3ms/step - loss: 10.6602 - mae: 10.6602\n",
      "Epoch 130/300\n",
      "1/1 [==============================] - 0s 5ms/step - loss: 10.6307 - mae: 10.6307\n",
      "Epoch 131/300\n",
      "1/1 [==============================] - 0s 4ms/step - loss: 10.6009 - mae: 10.6009\n",
      "Epoch 132/300\n",
      "1/1 [==============================] - 0s 3ms/step - loss: 10.5709 - mae: 10.5709\n",
      "Epoch 133/300\n",
      "1/1 [==============================] - 0s 4ms/step - loss: 10.5405 - mae: 10.5405\n",
      "Epoch 134/300\n",
      "1/1 [==============================] - 0s 5ms/step - loss: 10.5098 - mae: 10.5098\n",
      "Epoch 135/300\n",
      "1/1 [==============================] - 0s 2ms/step - loss: 10.4788 - mae: 10.4788\n",
      "Epoch 136/300\n",
      "1/1 [==============================] - 0s 3ms/step - loss: 10.4476 - mae: 10.4476\n",
      "Epoch 137/300\n",
      "1/1 [==============================] - 0s 3ms/step - loss: 10.4160 - mae: 10.4160\n",
      "Epoch 138/300\n",
      "1/1 [==============================] - 0s 3ms/step - loss: 10.3840 - mae: 10.3840\n",
      "Epoch 139/300\n",
      "1/1 [==============================] - 0s 3ms/step - loss: 10.3519 - mae: 10.3519\n",
      "Epoch 140/300\n",
      "1/1 [==============================] - 0s 3ms/step - loss: 10.3194 - mae: 10.3194\n",
      "Epoch 141/300\n",
      "1/1 [==============================] - 0s 2ms/step - loss: 10.2865 - mae: 10.2865\n",
      "Epoch 142/300\n",
      "1/1 [==============================] - 0s 3ms/step - loss: 10.2534 - mae: 10.2534\n",
      "Epoch 143/300\n",
      "1/1 [==============================] - 0s 3ms/step - loss: 10.2199 - mae: 10.2199\n",
      "Epoch 144/300\n",
      "1/1 [==============================] - 0s 4ms/step - loss: 10.1861 - mae: 10.1861\n",
      "Epoch 145/300\n",
      "1/1 [==============================] - 0s 3ms/step - loss: 10.1521 - mae: 10.1521\n",
      "Epoch 146/300\n",
      "1/1 [==============================] - 0s 4ms/step - loss: 10.1176 - mae: 10.1176\n",
      "Epoch 147/300\n",
      "1/1 [==============================] - 0s 4ms/step - loss: 10.0827 - mae: 10.0827\n",
      "Epoch 148/300\n",
      "1/1 [==============================] - 0s 3ms/step - loss: 10.0476 - mae: 10.0476\n",
      "Epoch 149/300\n",
      "1/1 [==============================] - 0s 2ms/step - loss: 10.0122 - mae: 10.0122\n",
      "Epoch 150/300\n",
      "1/1 [==============================] - 0s 4ms/step - loss: 9.9764 - mae: 9.9764\n",
      "Epoch 151/300\n",
      "1/1 [==============================] - 0s 4ms/step - loss: 9.9403 - mae: 9.9403\n",
      "Epoch 152/300\n",
      "1/1 [==============================] - 0s 7ms/step - loss: 9.9037 - mae: 9.9037\n",
      "Epoch 153/300\n",
      "1/1 [==============================] - 0s 5ms/step - loss: 9.8668 - mae: 9.8668\n",
      "Epoch 154/300\n",
      "1/1 [==============================] - 0s 6ms/step - loss: 9.8296 - mae: 9.8296\n",
      "Epoch 155/300\n",
      "1/1 [==============================] - 0s 5ms/step - loss: 9.7920 - mae: 9.7920\n",
      "Epoch 156/300\n",
      "1/1 [==============================] - 0s 5ms/step - loss: 9.7541 - mae: 9.7541\n",
      "Epoch 157/300\n",
      "1/1 [==============================] - 0s 9ms/step - loss: 9.7159 - mae: 9.7159\n",
      "Epoch 158/300\n",
      "1/1 [==============================] - 0s 4ms/step - loss: 9.6772 - mae: 9.6772\n",
      "Epoch 159/300\n",
      "1/1 [==============================] - 0s 4ms/step - loss: 9.6381 - mae: 9.6381\n",
      "Epoch 160/300\n",
      "1/1 [==============================] - 0s 7ms/step - loss: 9.5986 - mae: 9.5986\n",
      "Epoch 161/300\n",
      "1/1 [==============================] - 0s 5ms/step - loss: 9.5586 - mae: 9.5586\n",
      "Epoch 162/300\n",
      "1/1 [==============================] - 0s 5ms/step - loss: 9.5181 - mae: 9.5181\n",
      "Epoch 163/300\n",
      "1/1 [==============================] - 0s 5ms/step - loss: 9.4772 - mae: 9.4772\n",
      "Epoch 164/300\n",
      "1/1 [==============================] - 0s 4ms/step - loss: 9.4359 - mae: 9.4359\n",
      "Epoch 165/300\n",
      "1/1 [==============================] - 0s 4ms/step - loss: 9.3942 - mae: 9.3942\n",
      "Epoch 166/300\n",
      "1/1 [==============================] - 0s 4ms/step - loss: 9.3519 - mae: 9.3519\n",
      "Epoch 167/300\n",
      "1/1 [==============================] - 0s 4ms/step - loss: 9.3093 - mae: 9.3093\n",
      "Epoch 168/300\n",
      "1/1 [==============================] - 0s 4ms/step - loss: 9.2663 - mae: 9.2663\n",
      "Epoch 169/300\n",
      "1/1 [==============================] - 0s 4ms/step - loss: 9.2228 - mae: 9.2228\n",
      "Epoch 170/300\n",
      "1/1 [==============================] - 0s 4ms/step - loss: 9.1789 - mae: 9.1789\n",
      "Epoch 171/300\n",
      "1/1 [==============================] - 0s 5ms/step - loss: 9.1346 - mae: 9.1346\n",
      "Epoch 172/300\n",
      "1/1 [==============================] - 0s 4ms/step - loss: 9.0899 - mae: 9.0899\n",
      "Epoch 173/300\n"
     ]
    },
    {
     "name": "stdout",
     "output_type": "stream",
     "text": [
      "1/1 [==============================] - 0s 3ms/step - loss: 9.0447 - mae: 9.0447\n",
      "Epoch 174/300\n",
      "1/1 [==============================] - 0s 2ms/step - loss: 8.9992 - mae: 8.9992\n",
      "Epoch 175/300\n",
      "1/1 [==============================] - 0s 3ms/step - loss: 8.9534 - mae: 8.9534\n",
      "Epoch 176/300\n",
      "1/1 [==============================] - 0s 4ms/step - loss: 8.9072 - mae: 8.9072\n",
      "Epoch 177/300\n",
      "1/1 [==============================] - 0s 4ms/step - loss: 8.8606 - mae: 8.8606\n",
      "Epoch 178/300\n",
      "1/1 [==============================] - 0s 4ms/step - loss: 8.8134 - mae: 8.8134\n",
      "Epoch 179/300\n",
      "1/1 [==============================] - 0s 5ms/step - loss: 8.7659 - mae: 8.7659\n",
      "Epoch 180/300\n",
      "1/1 [==============================] - 0s 6ms/step - loss: 8.7179 - mae: 8.7179\n",
      "Epoch 181/300\n",
      "1/1 [==============================] - 0s 6ms/step - loss: 8.6694 - mae: 8.6694\n",
      "Epoch 182/300\n",
      "1/1 [==============================] - 0s 4ms/step - loss: 8.6205 - mae: 8.6205\n",
      "Epoch 183/300\n",
      "1/1 [==============================] - 0s 5ms/step - loss: 8.5710 - mae: 8.5710\n",
      "Epoch 184/300\n",
      "1/1 [==============================] - 0s 7ms/step - loss: 8.5212 - mae: 8.5212\n",
      "Epoch 185/300\n",
      "1/1 [==============================] - 0s 4ms/step - loss: 8.4708 - mae: 8.4708\n",
      "Epoch 186/300\n",
      "1/1 [==============================] - 0s 4ms/step - loss: 8.4200 - mae: 8.4200\n",
      "Epoch 187/300\n",
      "1/1 [==============================] - 0s 7ms/step - loss: 8.3687 - mae: 8.3687\n",
      "Epoch 188/300\n",
      "1/1 [==============================] - 0s 6ms/step - loss: 8.3170 - mae: 8.3170\n",
      "Epoch 189/300\n",
      "1/1 [==============================] - 0s 4ms/step - loss: 8.2649 - mae: 8.2649\n",
      "Epoch 190/300\n",
      "1/1 [==============================] - 0s 7ms/step - loss: 8.2124 - mae: 8.2124\n",
      "Epoch 191/300\n",
      "1/1 [==============================] - 0s 6ms/step - loss: 8.1593 - mae: 8.1593\n",
      "Epoch 192/300\n",
      "1/1 [==============================] - 0s 5ms/step - loss: 8.1056 - mae: 8.1056\n",
      "Epoch 193/300\n",
      "1/1 [==============================] - 0s 3ms/step - loss: 8.0515 - mae: 8.0515\n",
      "Epoch 194/300\n",
      "1/1 [==============================] - 0s 4ms/step - loss: 7.9969 - mae: 7.9969\n",
      "Epoch 195/300\n",
      "1/1 [==============================] - 0s 6ms/step - loss: 7.9418 - mae: 7.9418\n",
      "Epoch 196/300\n",
      "1/1 [==============================] - 0s 4ms/step - loss: 7.8862 - mae: 7.8862\n",
      "Epoch 197/300\n",
      "1/1 [==============================] - 0s 4ms/step - loss: 7.8301 - mae: 7.8301\n",
      "Epoch 198/300\n",
      "1/1 [==============================] - 0s 4ms/step - loss: 7.7734 - mae: 7.7734\n",
      "Epoch 199/300\n",
      "1/1 [==============================] - 0s 5ms/step - loss: 7.7163 - mae: 7.7163\n",
      "Epoch 200/300\n",
      "1/1 [==============================] - 0s 4ms/step - loss: 7.6587 - mae: 7.6587\n",
      "Epoch 201/300\n",
      "1/1 [==============================] - 0s 4ms/step - loss: 7.6006 - mae: 7.6006\n",
      "Epoch 202/300\n",
      "1/1 [==============================] - 0s 5ms/step - loss: 7.5420 - mae: 7.5420\n",
      "Epoch 203/300\n",
      "1/1 [==============================] - 0s 5ms/step - loss: 7.4829 - mae: 7.4829\n",
      "Epoch 204/300\n",
      "1/1 [==============================] - 0s 3ms/step - loss: 7.4231 - mae: 7.4231\n",
      "Epoch 205/300\n",
      "1/1 [==============================] - 0s 5ms/step - loss: 7.3628 - mae: 7.3628\n",
      "Epoch 206/300\n",
      "1/1 [==============================] - 0s 3ms/step - loss: 7.3020 - mae: 7.3020\n",
      "Epoch 207/300\n",
      "1/1 [==============================] - 0s 75ms/step - loss: 7.2406 - mae: 7.2406\n",
      "Epoch 208/300\n",
      "1/1 [==============================] - 0s 74ms/step - loss: 7.1787 - mae: 7.1787\n",
      "Epoch 209/300\n",
      "1/1 [==============================] - 0s 68ms/step - loss: 7.1162 - mae: 7.1162\n",
      "Epoch 210/300\n",
      "1/1 [==============================] - 0s 104ms/step - loss: 7.0532 - mae: 7.0532\n",
      "Epoch 211/300\n",
      "1/1 [==============================] - 0s 62ms/step - loss: 6.9897 - mae: 6.9897\n",
      "Epoch 212/300\n",
      "1/1 [==============================] - 0s 115ms/step - loss: 6.9257 - mae: 6.9257\n",
      "Epoch 213/300\n",
      "1/1 [==============================] - 0s 81ms/step - loss: 6.8613 - mae: 6.8613\n",
      "Epoch 214/300\n",
      "1/1 [==============================] - 0s 78ms/step - loss: 6.7964 - mae: 6.7964\n",
      "Epoch 215/300\n",
      "1/1 [==============================] - 0s 261ms/step - loss: 6.7309 - mae: 6.7309\n",
      "Epoch 216/300\n",
      "1/1 [==============================] - 0s 124ms/step - loss: 6.6648 - mae: 6.6648\n",
      "Epoch 217/300\n",
      "1/1 [==============================] - 0s 95ms/step - loss: 6.5980 - mae: 6.5980\n",
      "Epoch 218/300\n",
      "1/1 [==============================] - 0s 68ms/step - loss: 6.5306 - mae: 6.5306\n",
      "Epoch 219/300\n",
      "1/1 [==============================] - 0s 82ms/step - loss: 6.4625 - mae: 6.4625\n",
      "Epoch 220/300\n",
      "1/1 [==============================] - 0s 77ms/step - loss: 6.3938 - mae: 6.3938\n",
      "Epoch 221/300\n",
      "1/1 [==============================] - 0s 3ms/step - loss: 6.3245 - mae: 6.3245\n",
      "Epoch 222/300\n",
      "1/1 [==============================] - 0s 6ms/step - loss: 6.2545 - mae: 6.2545\n",
      "Epoch 223/300\n",
      "1/1 [==============================] - 0s 5ms/step - loss: 6.1838 - mae: 6.1838\n",
      "Epoch 224/300\n",
      "1/1 [==============================] - 0s 4ms/step - loss: 6.1124 - mae: 6.1124\n",
      "Epoch 225/300\n",
      "1/1 [==============================] - 0s 4ms/step - loss: 6.0404 - mae: 6.0404\n",
      "Epoch 226/300\n",
      "1/1 [==============================] - 0s 4ms/step - loss: 5.9677 - mae: 5.9677\n",
      "Epoch 227/300\n",
      "1/1 [==============================] - 0s 3ms/step - loss: 5.8945 - mae: 5.8945\n",
      "Epoch 228/300\n",
      "1/1 [==============================] - 0s 4ms/step - loss: 5.8209 - mae: 5.8209\n",
      "Epoch 229/300\n",
      "1/1 [==============================] - 0s 3ms/step - loss: 5.7476 - mae: 5.7476\n",
      "Epoch 230/300\n",
      "1/1 [==============================] - 0s 4ms/step - loss: 5.6722 - mae: 5.6722\n",
      "Epoch 231/300\n",
      "1/1 [==============================] - 0s 3ms/step - loss: 5.5969 - mae: 5.5969\n",
      "Epoch 232/300\n",
      "1/1 [==============================] - 0s 5ms/step - loss: 5.5210 - mae: 5.5210\n",
      "Epoch 233/300\n",
      "1/1 [==============================] - 0s 6ms/step - loss: 5.4443 - mae: 5.4443\n",
      "Epoch 234/300\n",
      "1/1 [==============================] - 0s 4ms/step - loss: 5.3669 - mae: 5.3669\n",
      "Epoch 235/300\n",
      "1/1 [==============================] - 0s 4ms/step - loss: 5.2887 - mae: 5.2887\n",
      "Epoch 236/300\n",
      "1/1 [==============================] - 0s 4ms/step - loss: 5.2097 - mae: 5.2097\n",
      "Epoch 237/300\n",
      "1/1 [==============================] - 0s 3ms/step - loss: 5.1300 - mae: 5.1300\n",
      "Epoch 238/300\n",
      "1/1 [==============================] - 0s 3ms/step - loss: 5.0495 - mae: 5.0495\n",
      "Epoch 239/300\n",
      "1/1 [==============================] - 0s 4ms/step - loss: 4.9683 - mae: 4.9683\n",
      "Epoch 240/300\n",
      "1/1 [==============================] - 0s 3ms/step - loss: 4.8864 - mae: 4.8864\n",
      "Epoch 241/300\n",
      "1/1 [==============================] - 0s 4ms/step - loss: 4.8037 - mae: 4.8037\n",
      "Epoch 242/300\n",
      "1/1 [==============================] - 0s 5ms/step - loss: 4.7203 - mae: 4.7203\n",
      "Epoch 243/300\n",
      "1/1 [==============================] - 0s 4ms/step - loss: 4.6361 - mae: 4.6361\n",
      "Epoch 244/300\n",
      "1/1 [==============================] - 0s 5ms/step - loss: 4.5510 - mae: 4.5510\n",
      "Epoch 245/300\n",
      "1/1 [==============================] - 0s 4ms/step - loss: 4.4649 - mae: 4.4649\n",
      "Epoch 246/300\n",
      "1/1 [==============================] - 0s 4ms/step - loss: 4.3786 - mae: 4.3786\n",
      "Epoch 247/300\n",
      "1/1 [==============================] - 0s 3ms/step - loss: 4.2918 - mae: 4.2918\n",
      "Epoch 248/300\n",
      "1/1 [==============================] - 0s 3ms/step - loss: 4.2042 - mae: 4.2042\n",
      "Epoch 249/300\n",
      "1/1 [==============================] - 0s 3ms/step - loss: 4.1158 - mae: 4.1158\n",
      "Epoch 250/300\n",
      "1/1 [==============================] - 0s 2ms/step - loss: 4.0266 - mae: 4.0266\n",
      "Epoch 251/300\n",
      "1/1 [==============================] - 0s 3ms/step - loss: 3.9966 - mae: 3.9966\n",
      "Epoch 252/300\n",
      "1/1 [==============================] - 0s 13ms/step - loss: 3.9692 - mae: 3.9692\n",
      "Epoch 253/300\n",
      "1/1 [==============================] - 0s 3ms/step - loss: 3.9433 - mae: 3.9433\n",
      "Epoch 254/300\n",
      "1/1 [==============================] - 0s 3ms/step - loss: 3.9186 - mae: 3.9186\n",
      "Epoch 255/300\n",
      "1/1 [==============================] - 0s 3ms/step - loss: 3.8951 - mae: 3.8951\n",
      "Epoch 256/300\n",
      "1/1 [==============================] - 0s 3ms/step - loss: 3.8726 - mae: 3.8726\n",
      "Epoch 257/300\n",
      "1/1 [==============================] - 0s 4ms/step - loss: 3.8510 - mae: 3.8510\n",
      "Epoch 258/300\n",
      "1/1 [==============================] - 0s 3ms/step - loss: 3.8304 - mae: 3.8304\n",
      "Epoch 259/300\n",
      "1/1 [==============================] - 0s 3ms/step - loss: 3.8104 - mae: 3.8104\n",
      "Epoch 260/300\n"
     ]
    },
    {
     "name": "stdout",
     "output_type": "stream",
     "text": [
      "1/1 [==============================] - 0s 4ms/step - loss: 3.7911 - mae: 3.7911\n",
      "Epoch 261/300\n",
      "1/1 [==============================] - 0s 2ms/step - loss: 3.7741 - mae: 3.7741\n",
      "Epoch 262/300\n",
      "1/1 [==============================] - 0s 3ms/step - loss: 3.7546 - mae: 3.7546\n",
      "Epoch 263/300\n",
      "1/1 [==============================] - 0s 2ms/step - loss: 3.7374 - mae: 3.7374\n",
      "Epoch 264/300\n",
      "1/1 [==============================] - 0s 3ms/step - loss: 3.7240 - mae: 3.7240\n",
      "Epoch 265/300\n",
      "1/1 [==============================] - 0s 3ms/step - loss: 3.7324 - mae: 3.7324\n",
      "Epoch 266/300\n",
      "1/1 [==============================] - 0s 3ms/step - loss: 3.7392 - mae: 3.7392\n",
      "Epoch 267/300\n",
      "1/1 [==============================] - 0s 3ms/step - loss: 3.7443 - mae: 3.7443\n",
      "Epoch 268/300\n",
      "1/1 [==============================] - 0s 2ms/step - loss: 3.7496 - mae: 3.7496\n",
      "Epoch 269/300\n",
      "1/1 [==============================] - 0s 3ms/step - loss: 3.7511 - mae: 3.7511\n",
      "Epoch 270/300\n",
      "1/1 [==============================] - 0s 3ms/step - loss: 3.7536 - mae: 3.7536\n",
      "Epoch 271/300\n",
      "1/1 [==============================] - 0s 3ms/step - loss: 3.7551 - mae: 3.7551\n",
      "Epoch 272/300\n",
      "1/1 [==============================] - 0s 3ms/step - loss: 3.7555 - mae: 3.7555\n",
      "Epoch 273/300\n",
      "1/1 [==============================] - 0s 3ms/step - loss: 3.7550 - mae: 3.7550\n",
      "Epoch 274/300\n",
      "1/1 [==============================] - 0s 3ms/step - loss: 3.7536 - mae: 3.7536\n",
      "Epoch 275/300\n",
      "1/1 [==============================] - 0s 3ms/step - loss: 3.7521 - mae: 3.7521\n",
      "Epoch 276/300\n",
      "1/1 [==============================] - 0s 3ms/step - loss: 3.7495 - mae: 3.7495\n",
      "Epoch 277/300\n",
      "1/1 [==============================] - 0s 2ms/step - loss: 3.7470 - mae: 3.7470\n",
      "Epoch 278/300\n",
      "1/1 [==============================] - 0s 2ms/step - loss: 3.7441 - mae: 3.7441\n",
      "Epoch 279/300\n",
      "1/1 [==============================] - 0s 2ms/step - loss: 3.7405 - mae: 3.7405\n",
      "Epoch 280/300\n",
      "1/1 [==============================] - 0s 3ms/step - loss: 3.7364 - mae: 3.7364\n",
      "Epoch 281/300\n",
      "1/1 [==============================] - 0s 3ms/step - loss: 3.7316 - mae: 3.7316\n",
      "Epoch 282/300\n",
      "1/1 [==============================] - 0s 3ms/step - loss: 3.7266 - mae: 3.7266\n",
      "Epoch 283/300\n",
      "1/1 [==============================] - 0s 3ms/step - loss: 3.7232 - mae: 3.7232\n",
      "Epoch 284/300\n",
      "1/1 [==============================] - 0s 3ms/step - loss: 3.7165 - mae: 3.7165\n",
      "Epoch 285/300\n",
      "1/1 [==============================] - 0s 3ms/step - loss: 3.7114 - mae: 3.7114\n",
      "Epoch 286/300\n",
      "1/1 [==============================] - 0s 3ms/step - loss: 3.7059 - mae: 3.7059\n",
      "Epoch 287/300\n",
      "1/1 [==============================] - 0s 3ms/step - loss: 3.7022 - mae: 3.7022\n",
      "Epoch 288/300\n",
      "1/1 [==============================] - 0s 2ms/step - loss: 3.7061 - mae: 3.7061\n",
      "Epoch 289/300\n",
      "1/1 [==============================] - 0s 3ms/step - loss: 3.7095 - mae: 3.7095\n",
      "Epoch 290/300\n",
      "1/1 [==============================] - 0s 3ms/step - loss: 3.7090 - mae: 3.7090\n",
      "Epoch 291/300\n",
      "1/1 [==============================] - 0s 2ms/step - loss: 3.7083 - mae: 3.7083\n",
      "Epoch 292/300\n",
      "1/1 [==============================] - 0s 2ms/step - loss: 3.7062 - mae: 3.7062\n",
      "Epoch 293/300\n",
      "1/1 [==============================] - 0s 2ms/step - loss: 3.7028 - mae: 3.7028\n",
      "Epoch 294/300\n",
      "1/1 [==============================] - 0s 3ms/step - loss: 3.6983 - mae: 3.6983\n",
      "Epoch 295/300\n",
      "1/1 [==============================] - 0s 3ms/step - loss: 3.6961 - mae: 3.6961\n",
      "Epoch 296/300\n",
      "1/1 [==============================] - 0s 3ms/step - loss: 3.6974 - mae: 3.6974\n",
      "Epoch 297/300\n",
      "1/1 [==============================] - 0s 3ms/step - loss: 3.6976 - mae: 3.6976\n",
      "Epoch 298/300\n",
      "1/1 [==============================] - 0s 3ms/step - loss: 3.6970 - mae: 3.6970\n",
      "Epoch 299/300\n",
      "1/1 [==============================] - 0s 3ms/step - loss: 3.6969 - mae: 3.6969\n",
      "Epoch 300/300\n",
      "1/1 [==============================] - 0s 2ms/step - loss: 3.6941 - mae: 3.6941\n"
     ]
    },
    {
     "data": {
      "text/plain": [
       "<keras.callbacks.History at 0x23a53b4c610>"
      ]
     },
     "execution_count": 17,
     "metadata": {},
     "output_type": "execute_result"
    }
   ],
   "source": [
    "# 2nd experiment : buil a larger model, as an improvement to the model\n",
    "\n",
    "# Set a random seed (in order to have some reproducibility)\n",
    "tf.random.set_seed(42)\n",
    "\n",
    "# 1. Create a model using the Sequential API\n",
    "model = tf.keras.Sequential([\n",
    "    \n",
    "    # Adding more hidden layers, more neurons, and activation function \n",
    "    tf.keras.layers.Dense(100, activation=\"relu\"),\n",
    "    tf.keras.layers.Dense(100, activation=\"relu\"),\n",
    "    tf.keras.layers.Dense(100, activation=\"relu\"),\n",
    "    \n",
    "    tf.keras.layers.Dense(1)\n",
    "])\n",
    "\n",
    "# 2. Compile the model\n",
    "model.compile(loss=tf.keras.losses.mae, # MAE : Mean Absolute Error\n",
    "              optimizer=tf.keras.optimizers.Adam(lr=0.0001), # lr = Learning Rate\n",
    "              metrics=[\"mae\"]\n",
    "             )\n",
    "\n",
    "# 3. Fit the model \n",
    "model.fit(tf.expand_dims(X, axis=-1),y, epochs=300) # Increasing the number of epochs\n"
   ]
  },
  {
   "cell_type": "markdown",
   "id": "673624a9",
   "metadata": {},
   "source": [
    "The 2nd model, although more larger, don't provide a better training result compared to the previously built one."
   ]
  },
  {
   "cell_type": "code",
   "execution_count": 18,
   "id": "533e0fa1",
   "metadata": {},
   "outputs": [
    {
     "data": {
      "text/plain": [
       "(<tf.Tensor: shape=(8,), dtype=float64, numpy=array([-7., -4., -1.,  2.,  5.,  8., 11., 14.])>,\n",
       " <tf.Tensor: shape=(8,), dtype=float64, numpy=array([ 3.,  6.,  9., 12., 15., 18., 21., 24.])>)"
      ]
     },
     "execution_count": 18,
     "metadata": {},
     "output_type": "execute_result"
    }
   ],
   "source": [
    "# Remind ourselves of the data\n",
    "X, y"
   ]
  },
  {
   "cell_type": "code",
   "execution_count": 19,
   "id": "9e130a20",
   "metadata": {},
   "outputs": [
    {
     "name": "stdout",
     "output_type": "stream",
     "text": [
      "1/1 [==============================] - 0s 112ms/step\n"
     ]
    },
    {
     "data": {
      "text/plain": [
       "array([[32.00875]], dtype=float32)"
      ]
     },
     "execution_count": 19,
     "metadata": {},
     "output_type": "execute_result"
    }
   ],
   "source": [
    "# Check if the model's prediction has improved...\n",
    "model.predict([17.])"
   ]
  },
  {
   "cell_type": "code",
   "execution_count": null,
   "id": "883941b4",
   "metadata": {},
   "outputs": [],
   "source": []
  },
  {
   "cell_type": "code",
   "execution_count": 20,
   "id": "0cc87495",
   "metadata": {},
   "outputs": [
    {
     "name": "stdout",
     "output_type": "stream",
     "text": [
      "Epoch 1/100\n",
      "1/1 [==============================] - 0s 442ms/step - loss: 13.3359 - mae: 13.3359\n",
      "Epoch 2/100\n",
      "1/1 [==============================] - 0s 4ms/step - loss: 12.4751 - mae: 12.4751\n",
      "Epoch 3/100\n",
      "1/1 [==============================] - 0s 3ms/step - loss: 11.6027 - mae: 11.6027\n",
      "Epoch 4/100\n",
      "1/1 [==============================] - 0s 4ms/step - loss: 10.7218 - mae: 10.7218\n",
      "Epoch 5/100\n",
      "1/1 [==============================] - 0s 7ms/step - loss: 10.0587 - mae: 10.0587\n",
      "Epoch 6/100\n",
      "1/1 [==============================] - 0s 4ms/step - loss: 9.3903 - mae: 9.3903\n",
      "Epoch 7/100\n",
      "1/1 [==============================] - 0s 5ms/step - loss: 8.7031 - mae: 8.7031\n",
      "Epoch 8/100\n",
      "1/1 [==============================] - 0s 6ms/step - loss: 7.9922 - mae: 7.9922\n",
      "Epoch 9/100\n",
      "1/1 [==============================] - 0s 5ms/step - loss: 7.2572 - mae: 7.2572\n",
      "Epoch 10/100\n",
      "1/1 [==============================] - 0s 3ms/step - loss: 6.5040 - mae: 6.5040\n",
      "Epoch 11/100\n",
      "1/1 [==============================] - 0s 4ms/step - loss: 5.7184 - mae: 5.7184\n",
      "Epoch 12/100\n",
      "1/1 [==============================] - 0s 2ms/step - loss: 4.8965 - mae: 4.8965\n",
      "Epoch 13/100\n",
      "1/1 [==============================] - 0s 4ms/step - loss: 4.0456 - mae: 4.0456\n",
      "Epoch 14/100\n",
      "1/1 [==============================] - 0s 8ms/step - loss: 3.7655 - mae: 3.7655\n",
      "Epoch 15/100\n",
      "1/1 [==============================] - 0s 6ms/step - loss: 3.9052 - mae: 3.9052\n",
      "Epoch 16/100\n",
      "1/1 [==============================] - 0s 4ms/step - loss: 4.0471 - mae: 4.0471\n",
      "Epoch 17/100\n",
      "1/1 [==============================] - 0s 4ms/step - loss: 4.4199 - mae: 4.4199\n",
      "Epoch 18/100\n",
      "1/1 [==============================] - 0s 4ms/step - loss: 4.6695 - mae: 4.6695\n",
      "Epoch 19/100\n",
      "1/1 [==============================] - 0s 4ms/step - loss: 4.8078 - mae: 4.8078\n",
      "Epoch 20/100\n",
      "1/1 [==============================] - 0s 3ms/step - loss: 4.8483 - mae: 4.8483\n",
      "Epoch 21/100\n",
      "1/1 [==============================] - 0s 4ms/step - loss: 4.8043 - mae: 4.8043\n",
      "Epoch 22/100\n",
      "1/1 [==============================] - 0s 3ms/step - loss: 4.6870 - mae: 4.6870\n",
      "Epoch 23/100\n",
      "1/1 [==============================] - 0s 4ms/step - loss: 4.5072 - mae: 4.5072\n",
      "Epoch 24/100\n",
      "1/1 [==============================] - 0s 4ms/step - loss: 4.2776 - mae: 4.2776\n",
      "Epoch 25/100\n",
      "1/1 [==============================] - 0s 5ms/step - loss: 4.0094 - mae: 4.0094\n",
      "Epoch 26/100\n",
      "1/1 [==============================] - 0s 4ms/step - loss: 3.7263 - mae: 3.7263\n",
      "Epoch 27/100\n",
      "1/1 [==============================] - 0s 5ms/step - loss: 3.5912 - mae: 3.5912\n",
      "Epoch 28/100\n",
      "1/1 [==============================] - 0s 5ms/step - loss: 3.4611 - mae: 3.4611\n",
      "Epoch 29/100\n",
      "1/1 [==============================] - 0s 3ms/step - loss: 3.3332 - mae: 3.3332\n",
      "Epoch 30/100\n",
      "1/1 [==============================] - 0s 4ms/step - loss: 3.2929 - mae: 3.2929\n",
      "Epoch 31/100\n",
      "1/1 [==============================] - 0s 4ms/step - loss: 3.3191 - mae: 3.3191\n",
      "Epoch 32/100\n",
      "1/1 [==============================] - 0s 4ms/step - loss: 3.3104 - mae: 3.3104\n",
      "Epoch 33/100\n",
      "1/1 [==============================] - 0s 3ms/step - loss: 3.2680 - mae: 3.2680\n",
      "Epoch 34/100\n",
      "1/1 [==============================] - 0s 4ms/step - loss: 3.1848 - mae: 3.1848\n",
      "Epoch 35/100\n",
      "1/1 [==============================] - 0s 5ms/step - loss: 3.0697 - mae: 3.0697\n",
      "Epoch 36/100\n",
      "1/1 [==============================] - 0s 3ms/step - loss: 2.9967 - mae: 2.9967\n",
      "Epoch 37/100\n",
      "1/1 [==============================] - 0s 4ms/step - loss: 2.8684 - mae: 2.8684\n",
      "Epoch 38/100\n",
      "1/1 [==============================] - 0s 4ms/step - loss: 2.8097 - mae: 2.8097\n",
      "Epoch 39/100\n",
      "1/1 [==============================] - 0s 4ms/step - loss: 2.7171 - mae: 2.7171\n",
      "Epoch 40/100\n",
      "1/1 [==============================] - 0s 4ms/step - loss: 2.6733 - mae: 2.6733\n",
      "Epoch 41/100\n",
      "1/1 [==============================] - 0s 4ms/step - loss: 2.6207 - mae: 2.6207\n",
      "Epoch 42/100\n",
      "1/1 [==============================] - 0s 3ms/step - loss: 2.5494 - mae: 2.5494\n",
      "Epoch 43/100\n",
      "1/1 [==============================] - 0s 4ms/step - loss: 2.4584 - mae: 2.4584\n",
      "Epoch 44/100\n",
      "1/1 [==============================] - 0s 4ms/step - loss: 2.3495 - mae: 2.3495\n",
      "Epoch 45/100\n",
      "1/1 [==============================] - 0s 3ms/step - loss: 2.2305 - mae: 2.2305\n",
      "Epoch 46/100\n",
      "1/1 [==============================] - 0s 4ms/step - loss: 2.1045 - mae: 2.1045\n",
      "Epoch 47/100\n",
      "1/1 [==============================] - 0s 3ms/step - loss: 2.0442 - mae: 2.0442\n",
      "Epoch 48/100\n",
      "1/1 [==============================] - 0s 4ms/step - loss: 1.9543 - mae: 1.9543\n",
      "Epoch 49/100\n",
      "1/1 [==============================] - 0s 4ms/step - loss: 1.8096 - mae: 1.8096\n",
      "Epoch 50/100\n",
      "1/1 [==============================] - 0s 3ms/step - loss: 1.6652 - mae: 1.6652\n",
      "Epoch 51/100\n",
      "1/1 [==============================] - 0s 5ms/step - loss: 1.5784 - mae: 1.5784\n",
      "Epoch 52/100\n",
      "1/1 [==============================] - 0s 4ms/step - loss: 1.5119 - mae: 1.5119\n",
      "Epoch 53/100\n",
      "1/1 [==============================] - 0s 4ms/step - loss: 1.3942 - mae: 1.3942\n",
      "Epoch 54/100\n",
      "1/1 [==============================] - 0s 6ms/step - loss: 1.2067 - mae: 1.2067\n",
      "Epoch 55/100\n",
      "1/1 [==============================] - 0s 4ms/step - loss: 1.0338 - mae: 1.0338\n",
      "Epoch 56/100\n",
      "1/1 [==============================] - 0s 4ms/step - loss: 0.9864 - mae: 0.9864\n",
      "Epoch 57/100\n",
      "1/1 [==============================] - 0s 4ms/step - loss: 0.9201 - mae: 0.9201\n",
      "Epoch 58/100\n",
      "1/1 [==============================] - 0s 4ms/step - loss: 0.6050 - mae: 0.6050\n",
      "Epoch 59/100\n",
      "1/1 [==============================] - 0s 3ms/step - loss: 0.5367 - mae: 0.5367\n",
      "Epoch 60/100\n",
      "1/1 [==============================] - 0s 3ms/step - loss: 0.4474 - mae: 0.4474\n",
      "Epoch 61/100\n",
      "1/1 [==============================] - 0s 6ms/step - loss: 0.1911 - mae: 0.1911\n",
      "Epoch 62/100\n",
      "1/1 [==============================] - 0s 3ms/step - loss: 0.2954 - mae: 0.2954\n",
      "Epoch 63/100\n",
      "1/1 [==============================] - 0s 3ms/step - loss: 0.2302 - mae: 0.2302\n",
      "Epoch 64/100\n",
      "1/1 [==============================] - 0s 3ms/step - loss: 0.4232 - mae: 0.4232\n",
      "Epoch 65/100\n",
      "1/1 [==============================] - 0s 4ms/step - loss: 0.3046 - mae: 0.3046\n",
      "Epoch 66/100\n",
      "1/1 [==============================] - 0s 3ms/step - loss: 0.4504 - mae: 0.4504\n",
      "Epoch 67/100\n",
      "1/1 [==============================] - 0s 3ms/step - loss: 0.4141 - mae: 0.4141\n",
      "Epoch 68/100\n",
      "1/1 [==============================] - 0s 3ms/step - loss: 0.4595 - mae: 0.4595\n",
      "Epoch 69/100\n",
      "1/1 [==============================] - 0s 4ms/step - loss: 0.3926 - mae: 0.3926\n",
      "Epoch 70/100\n",
      "1/1 [==============================] - 0s 3ms/step - loss: 0.4450 - mae: 0.4450\n",
      "Epoch 71/100\n",
      "1/1 [==============================] - 0s 2ms/step - loss: 0.4057 - mae: 0.4057\n",
      "Epoch 72/100\n",
      "1/1 [==============================] - 0s 2ms/step - loss: 0.3080 - mae: 0.3080\n",
      "Epoch 73/100\n",
      "1/1 [==============================] - 0s 3ms/step - loss: 0.4106 - mae: 0.4106\n",
      "Epoch 74/100\n",
      "1/1 [==============================] - 0s 4ms/step - loss: 0.3517 - mae: 0.3517\n",
      "Epoch 75/100\n",
      "1/1 [==============================] - 0s 3ms/step - loss: 0.2541 - mae: 0.2541\n",
      "Epoch 76/100\n",
      "1/1 [==============================] - 0s 3ms/step - loss: 0.2521 - mae: 0.2521\n",
      "Epoch 77/100\n",
      "1/1 [==============================] - 0s 3ms/step - loss: 0.1524 - mae: 0.1524\n",
      "Epoch 78/100\n",
      "1/1 [==============================] - 0s 2ms/step - loss: 0.2237 - mae: 0.2237\n",
      "Epoch 79/100\n",
      "1/1 [==============================] - 0s 2ms/step - loss: 0.1529 - mae: 0.1529\n",
      "Epoch 80/100\n",
      "1/1 [==============================] - 0s 3ms/step - loss: 0.1030 - mae: 0.1030\n",
      "Epoch 81/100\n",
      "1/1 [==============================] - 0s 2ms/step - loss: 0.1226 - mae: 0.1226\n",
      "Epoch 82/100\n",
      "1/1 [==============================] - 0s 3ms/step - loss: 0.2414 - mae: 0.2414\n",
      "Epoch 83/100\n",
      "1/1 [==============================] - 0s 2ms/step - loss: 0.2431 - mae: 0.2431\n",
      "Epoch 84/100\n",
      "1/1 [==============================] - 0s 3ms/step - loss: 0.1484 - mae: 0.1484\n",
      "Epoch 85/100\n",
      "1/1 [==============================] - 0s 2ms/step - loss: 0.2497 - mae: 0.2497\n",
      "Epoch 86/100\n",
      "1/1 [==============================] - 0s 3ms/step - loss: 0.1858 - mae: 0.1858\n",
      "Epoch 87/100\n",
      "1/1 [==============================] - 0s 3ms/step - loss: 0.1932 - mae: 0.1932\n",
      "Epoch 88/100\n",
      "1/1 [==============================] - 0s 2ms/step - loss: 0.1541 - mae: 0.1541\n",
      "Epoch 89/100\n"
     ]
    },
    {
     "name": "stdout",
     "output_type": "stream",
     "text": [
      "1/1 [==============================] - 0s 2ms/step - loss: 0.1319 - mae: 0.1319\n",
      "Epoch 90/100\n",
      "1/1 [==============================] - 0s 2ms/step - loss: 0.2524 - mae: 0.2524\n",
      "Epoch 91/100\n",
      "1/1 [==============================] - 0s 2ms/step - loss: 0.2353 - mae: 0.2353\n",
      "Epoch 92/100\n",
      "1/1 [==============================] - 0s 3ms/step - loss: 0.1484 - mae: 0.1484\n",
      "Epoch 93/100\n",
      "1/1 [==============================] - 0s 4ms/step - loss: 0.1783 - mae: 0.1783\n",
      "Epoch 94/100\n",
      "1/1 [==============================] - 0s 3ms/step - loss: 0.1173 - mae: 0.1173\n",
      "Epoch 95/100\n",
      "1/1 [==============================] - 0s 3ms/step - loss: 0.1508 - mae: 0.1508\n",
      "Epoch 96/100\n",
      "1/1 [==============================] - 0s 3ms/step - loss: 0.0730 - mae: 0.0730\n",
      "Epoch 97/100\n",
      "1/1 [==============================] - 0s 3ms/step - loss: 0.3627 - mae: 0.3627\n",
      "Epoch 98/100\n",
      "1/1 [==============================] - 0s 2ms/step - loss: 0.3354 - mae: 0.3354\n",
      "Epoch 99/100\n",
      "1/1 [==============================] - 0s 3ms/step - loss: 0.0856 - mae: 0.0856\n",
      "Epoch 100/100\n",
      "1/1 [==============================] - 0s 999us/step - loss: 0.4553 - mae: 0.4553\n"
     ]
    },
    {
     "data": {
      "text/plain": [
       "<keras.callbacks.History at 0x23a53c1b5b0>"
      ]
     },
     "execution_count": 20,
     "metadata": {},
     "output_type": "execute_result"
    }
   ],
   "source": [
    "# 3rd experiment : add a hidden layer, more epochs, and review the learning rate, as an improvement to the model\n",
    "\n",
    "# Set a random seed (in order to have some reproducibility)\n",
    "tf.random.set_seed(42)\n",
    "\n",
    "# 1. Create a model using the Sequential API\n",
    "model = tf.keras.Sequential([\n",
    "    \n",
    "    # Adding more hidden layers, more neurons, and activation function \n",
    "    tf.keras.layers.Dense(100, activation=\"relu\"),\n",
    "    \n",
    "    tf.keras.layers.Dense(1)\n",
    "])\n",
    "\n",
    "# 2. Compile the model\n",
    "model.compile(loss=tf.keras.losses.mae, # MAE : Mean Absolute Error\n",
    "              optimizer=tf.keras.optimizers.Adam(lr=0.01),\n",
    "              metrics=[\"mae\"]\n",
    "             )\n",
    "\n",
    "# 3. Fit the model \n",
    "model.fit(tf.expand_dims(X, axis=-1),y, epochs=100) # Increasing the number of epochs\n"
   ]
  },
  {
   "cell_type": "markdown",
   "id": "94b6ecb8",
   "metadata": {},
   "source": [
    "The loss is 0.1750; this model should perform really well."
   ]
  },
  {
   "cell_type": "code",
   "execution_count": 21,
   "id": "57f0d41b",
   "metadata": {},
   "outputs": [
    {
     "data": {
      "text/plain": [
       "(<tf.Tensor: shape=(8,), dtype=float64, numpy=array([-7., -4., -1.,  2.,  5.,  8., 11., 14.])>,\n",
       " <tf.Tensor: shape=(8,), dtype=float64, numpy=array([ 3.,  6.,  9., 12., 15., 18., 21., 24.])>)"
      ]
     },
     "execution_count": 21,
     "metadata": {},
     "output_type": "execute_result"
    }
   ],
   "source": [
    "# Remind ourselves of the data\n",
    "X, y"
   ]
  },
  {
   "cell_type": "code",
   "execution_count": 22,
   "id": "c898e1c6",
   "metadata": {},
   "outputs": [
    {
     "name": "stdout",
     "output_type": "stream",
     "text": [
      "1/1 [==============================] - 0s 92ms/step\n"
     ]
    },
    {
     "data": {
      "text/plain": [
       "array([[25.575869]], dtype=float32)"
      ]
     },
     "execution_count": 22,
     "metadata": {},
     "output_type": "execute_result"
    }
   ],
   "source": [
    "# Check if the model's prediction has improved...\n",
    "model.predict([17.])"
   ]
  },
  {
   "cell_type": "markdown",
   "id": "a39358dc",
   "metadata": {},
   "source": [
    "The model as predicted 26.918, while the real value is 27. We can conclude that the prediction is pretty well.  \n",
    "**Observation** : adjusting the learning rate of our model has result in the best improvement so far."
   ]
  },
  {
   "cell_type": "code",
   "execution_count": null,
   "id": "b2408c94",
   "metadata": {},
   "outputs": [],
   "source": []
  },
  {
   "cell_type": "markdown",
   "id": "93827ad7",
   "metadata": {},
   "source": [
    "**Model improvement rules** - When improving a model :\n",
    "* **make many small changes** (experiments) and **test each one**, rather than always doing extremely large changes, because otherwise, if one does too big of a change, he might not be sure what caused the improvement or know improvement of the model.\n",
    "* **the learning rate is potentially the most important hyper-parameter that can be changed** on a neural networks in order to improve it"
   ]
  },
  {
   "cell_type": "code",
   "execution_count": null,
   "id": "fe87eb6f",
   "metadata": {},
   "outputs": [],
   "source": []
  },
  {
   "cell_type": "code",
   "execution_count": null,
   "id": "e2c5c066",
   "metadata": {},
   "outputs": [],
   "source": []
  },
  {
   "cell_type": "markdown",
   "id": "a2f52266",
   "metadata": {},
   "source": [
    "## Evaluating a model\n",
    "\n",
    "\n",
    "In practice, a typical workflow one goes through when buidling neural networks is :    \n",
    "``` Build a model -> fit it -> evaluate it -> tweak a model -> fit it evaluate it -> tweak a model -> fit it -> evaluate it -> ... ```\n",
    "\n"
   ]
  },
  {
   "cell_type": "markdown",
   "id": "5be2462e",
   "metadata": {},
   "source": [
    "When it comes to evaluation, there is one words one should memorize, and remember : **visualize**.\n",
    "\n",
    "It's a good idea to visualize : \n",
    "* The data - what data wre we working with ? What does it look like ?\n",
    "* The model itself - what does our model look like ?\n",
    "* The training of the model - how does the model perform while it learns ?\n",
    "* The predictions of the model - how do the predictions of the model line up agains the real values ?\n",
    "\n",
    "\n",
    "Let us dig into these steps here a bit further by working on a little bit of a larger problem."
   ]
  },
  {
   "cell_type": "code",
   "execution_count": 23,
   "id": "2e38f664",
   "metadata": {},
   "outputs": [
    {
     "data": {
      "text/plain": [
       "<tf.Tensor: shape=(50,), dtype=int32, numpy=\n",
       "array([-100,  -96,  -92,  -88,  -84,  -80,  -76,  -72,  -68,  -64,  -60,\n",
       "        -56,  -52,  -48,  -44,  -40,  -36,  -32,  -28,  -24,  -20,  -16,\n",
       "        -12,   -8,   -4,    0,    4,    8,   12,   16,   20,   24,   28,\n",
       "         32,   36,   40,   44,   48,   52,   56,   60,   64,   68,   72,\n",
       "         76,   80,   84,   88,   92,   96])>"
      ]
     },
     "execution_count": 23,
     "metadata": {},
     "output_type": "execute_result"
    }
   ],
   "source": [
    "# Make a bigger dataset\n",
    "X = tf.range(-100, 100, 4)\n",
    "X"
   ]
  },
  {
   "cell_type": "code",
   "execution_count": 24,
   "id": "fe6189cb",
   "metadata": {},
   "outputs": [
    {
     "data": {
      "text/plain": [
       "<tf.Tensor: shape=(50,), dtype=int32, numpy=\n",
       "array([-90, -86, -82, -78, -74, -70, -66, -62, -58, -54, -50, -46, -42,\n",
       "       -38, -34, -30, -26, -22, -18, -14, -10,  -6,  -2,   2,   6,  10,\n",
       "        14,  18,  22,  26,  30,  34,  38,  42,  46,  50,  54,  58,  62,\n",
       "        66,  70,  74,  78,  82,  86,  90,  94,  98, 102, 106])>"
      ]
     },
     "execution_count": 24,
     "metadata": {},
     "output_type": "execute_result"
    }
   ],
   "source": [
    "# Make labels for the dataset\n",
    "\n",
    "y = X + 10   # y = X + 10 is the formula(pattern) we want the model to learn\n",
    "y"
   ]
  },
  {
   "cell_type": "code",
   "execution_count": 25,
   "id": "49a40371",
   "metadata": {},
   "outputs": [
    {
     "data": {
      "text/plain": [
       "<matplotlib.collections.PathCollection at 0x23a53ce5cd0>"
      ]
     },
     "execution_count": 25,
     "metadata": {},
     "output_type": "execute_result"
    },
    {
     "data": {
      "image/png": "[encoded data removed]",
      "text/plain": [
       "<Figure size 432x288 with 1 Axes>"
      ]
     },
     "metadata": {
      "needs_background": "light"
     },
     "output_type": "display_data"
    }
   ],
   "source": [
    "# Visualize the data\n",
    "\n",
    "plt.scatter(X, y)"
   ]
  },
  {
   "cell_type": "code",
   "execution_count": null,
   "id": "56654807",
   "metadata": {},
   "outputs": [],
   "source": []
  },
  {
   "cell_type": "markdown",
   "id": "0dc0cfa7",
   "metadata": {},
   "source": [
    "### The 03 set of data\n",
    "\n",
    "* **Training set** - the model learns from this data, which is typically 70-80% of the total data available.\n",
    "* **Validation set** - the model gets tuned on this data (it is the above mentionned *tweak the model*), which is typically 10-15% of the total data available.\n",
    "* **Test set** - the model gets evaluated on this data to test what is has learned (to check how it performs on data is hasn't see before); this set is typically 10-15% of the available data."
   ]
  },
  {
   "cell_type": "code",
   "execution_count": 26,
   "id": "e1f8ed25",
   "metadata": {},
   "outputs": [
    {
     "data": {
      "text/plain": [
       "50"
      ]
     },
     "execution_count": 26,
     "metadata": {},
     "output_type": "execute_result"
    }
   ],
   "source": [
    "# Check how many samples we have\n",
    "nb_data = len(X)\n",
    "nb_data"
   ]
  },
  {
   "cell_type": "code",
   "execution_count": 27,
   "id": "9dc7d4f2",
   "metadata": {},
   "outputs": [
    {
     "data": {
      "text/plain": [
       "(40, 10, 40, 10)"
      ]
     },
     "execution_count": 27,
     "metadata": {},
     "output_type": "execute_result"
    }
   ],
   "source": [
    "# Split the data into train and test sets\n",
    "\n",
    "X_train = X[: int(nb_data*.8)] # 80% of the data\n",
    "y_train = y[: int(nb_data*.8)] # 80% of the data\n",
    "\n",
    "X_test = X[int(nb_data*.8):] # 20% of the data\n",
    "y_test = y[int(nb_data*.8):] # 20% of the data\n",
    "\n",
    "\n",
    "len(X_train), len(X_test), len(y_train), len(y_test)"
   ]
  },
  {
   "cell_type": "markdown",
   "id": "e9603622",
   "metadata": {},
   "source": [
    "### Visualizing the data\n",
    "\n",
    "Now that data was divided in training and testing sets, let's visualize it again."
   ]
  },
  {
   "cell_type": "code",
   "execution_count": 28,
   "id": "a805227d",
   "metadata": {},
   "outputs": [
    {
     "data": {
      "text/plain": [
       "<matplotlib.legend.Legend at 0x23a53d46490>"
      ]
     },
     "execution_count": 28,
     "metadata": {},
     "output_type": "execute_result"
    },
    {
     "data": {
      "image/png": "[encoded data removed]",
      "text/plain": [
       "<Figure size 720x504 with 1 Axes>"
      ]
     },
     "metadata": {
      "needs_background": "light"
     },
     "output_type": "display_data"
    }
   ],
   "source": [
    "plt.figure( figsize=(10,7) )\n",
    "\n",
    "# Plot training data in blue\n",
    "plt.scatter(X_train, y_train, c=\"b\", label=\"Training data\")\n",
    "\n",
    "# Plot test data in green\n",
    "plt.scatter(X_test, y_test, c=\"g\", label=\"Test data\")\n",
    "\n",
    "#Show a legend\n",
    "plt.legend()"
   ]
  },
  {
   "cell_type": "code",
   "execution_count": null,
   "id": "82c45ed8",
   "metadata": {},
   "outputs": [],
   "source": []
  },
  {
   "cell_type": "markdown",
   "id": "6e2f8628",
   "metadata": {},
   "source": [
    "### Building a neural network"
   ]
  },
  {
   "cell_type": "code",
   "execution_count": 29,
   "id": "8a1f31b0",
   "metadata": {},
   "outputs": [],
   "source": [
    "# 1. Create a model\n",
    "model = tf.keras.Sequential([\n",
    "    tf.keras.layers.Dense(1)\n",
    "])\n",
    "\n",
    "# 2. Compile the model\n",
    "model.compile(loss=tf.keras.losses.mae,\n",
    "             optimizer= tf.keras.optimizers.SGD(),\n",
    "             metrics=[\"mae\"])\n",
    "\n"
   ]
  },
  {
   "cell_type": "markdown",
   "id": "c43d95e1",
   "metadata": {},
   "source": [
    "#### Visualizing the model"
   ]
  },
  {
   "cell_type": "code",
   "execution_count": null,
   "id": "86569e88",
   "metadata": {},
   "outputs": [],
   "source": []
  },
  {
   "cell_type": "code",
   "execution_count": 30,
   "id": "fe7036b7",
   "metadata": {},
   "outputs": [
    {
     "ename": "ValueError",
     "evalue": "This model has not yet been built. Build the model first by calling `build()` or by calling the model on a batch of data.",
     "output_type": "error",
     "traceback": [
      "\u001b[1;31m---------------------------------------------------------------------------\u001b[0m",
      "\u001b[1;31mValueError\u001b[0m                                Traceback (most recent call last)",
      "\u001b[1;32m<ipython-input-30-cdfdfbb4254b>\u001b[0m in \u001b[0;36m<module>\u001b[1;34m\u001b[0m\n\u001b[0;32m      1\u001b[0m \u001b[1;31m# Get an idea of what the model looks like before running it\u001b[0m\u001b[1;33m\u001b[0m\u001b[1;33m\u001b[0m\u001b[1;33m\u001b[0m\u001b[0m\n\u001b[1;32m----> 2\u001b[1;33m \u001b[0mmodel\u001b[0m\u001b[1;33m.\u001b[0m\u001b[0msummary\u001b[0m\u001b[1;33m(\u001b[0m\u001b[1;33m)\u001b[0m\u001b[1;33m\u001b[0m\u001b[1;33m\u001b[0m\u001b[0m\n\u001b[0m",
      "\u001b[1;32mC:\\ProgramData\\Anaconda3\\lib\\site-packages\\keras\\engine\\training.py\u001b[0m in \u001b[0;36msummary\u001b[1;34m(self, line_length, positions, print_fn, expand_nested, show_trainable, layer_range)\u001b[0m\n\u001b[0;32m   3212\u001b[0m         \"\"\"\n\u001b[0;32m   3213\u001b[0m         \u001b[1;32mif\u001b[0m \u001b[1;32mnot\u001b[0m \u001b[0mself\u001b[0m\u001b[1;33m.\u001b[0m\u001b[0mbuilt\u001b[0m\u001b[1;33m:\u001b[0m\u001b[1;33m\u001b[0m\u001b[1;33m\u001b[0m\u001b[0m\n\u001b[1;32m-> 3214\u001b[1;33m             raise ValueError(\n\u001b[0m\u001b[0;32m   3215\u001b[0m                 \u001b[1;34m\"This model has not yet been built. \"\u001b[0m\u001b[1;33m\u001b[0m\u001b[1;33m\u001b[0m\u001b[0m\n\u001b[0;32m   3216\u001b[0m                 \u001b[1;34m\"Build the model first by calling `build()` or by calling \"\u001b[0m\u001b[1;33m\u001b[0m\u001b[1;33m\u001b[0m\u001b[0m\n",
      "\u001b[1;31mValueError\u001b[0m: This model has not yet been built. Build the model first by calling `build()` or by calling the model on a batch of data."
     ]
    }
   ],
   "source": [
    "# Get an idea of what the model looks like before running it\n",
    "model.summary()"
   ]
  },
  {
   "cell_type": "code",
   "execution_count": 31,
   "id": "afbc8917",
   "metadata": {},
   "outputs": [
    {
     "data": {
      "text/plain": [
       "<tf.Tensor: shape=(50,), dtype=int32, numpy=\n",
       "array([-100,  -96,  -92,  -88,  -84,  -80,  -76,  -72,  -68,  -64,  -60,\n",
       "        -56,  -52,  -48,  -44,  -40,  -36,  -32,  -28,  -24,  -20,  -16,\n",
       "        -12,   -8,   -4,    0,    4,    8,   12,   16,   20,   24,   28,\n",
       "         32,   36,   40,   44,   48,   52,   56,   60,   64,   68,   72,\n",
       "         76,   80,   84,   88,   92,   96])>"
      ]
     },
     "execution_count": 31,
     "metadata": {},
     "output_type": "execute_result"
    }
   ],
   "source": [
    "X"
   ]
  },
  {
   "cell_type": "code",
   "execution_count": 32,
   "id": "c7634b89",
   "metadata": {},
   "outputs": [
    {
     "data": {
      "text/plain": [
       "1"
      ]
     },
     "execution_count": 32,
     "metadata": {},
     "output_type": "execute_result"
    }
   ],
   "source": [
    "X.ndim"
   ]
  },
  {
   "cell_type": "code",
   "execution_count": 33,
   "id": "987713a6",
   "metadata": {},
   "outputs": [
    {
     "data": {
      "text/plain": [
       "(<tf.Tensor: shape=(), dtype=int32, numpy=-100>,\n",
       " <tf.Tensor: shape=(), dtype=int32, numpy=-90>)"
      ]
     },
     "execution_count": 33,
     "metadata": {},
     "output_type": "execute_result"
    }
   ],
   "source": [
    "X[0],y[0]"
   ]
  },
  {
   "cell_type": "markdown",
   "id": "f296c106",
   "metadata": {},
   "source": [
    "* The explanation of the Prof : X[0] contains a scalar, so the input_shape of our model is 1; X[0] could contain 3 different numbers, so input_shape would be 3.    \n",
    "* My own deduction : Another way to analyze it is based on the number of dimensions of X : X.ndim return 1, which means X is represented on one dimension, so the input shape is 1."
   ]
  },
  {
   "cell_type": "code",
   "execution_count": 34,
   "id": "b1a53531",
   "metadata": {},
   "outputs": [],
   "source": [
    "# Let's create a model which builds automatically by \n",
    "#    defining the input_shape argument in the first layer (that is what is usually done in practice)\n",
    "\n",
    "tf.random.set_seed(42)\n",
    "\n",
    "# 1. Create a model (same as above)\n",
    "model = tf.keras.Sequential([\n",
    "    tf.keras.layers.Dense(1, input_shape= [X.ndim] ) # tf.keras.layers.Dense(1, input_shape= [1] )\n",
    "                                                     #     refer to the previous cell to get \n",
    "                                                     #      explanations on why input_shape= [1]   \n",
    "]) \n",
    "\n",
    "# 2. COmpile the model \n",
    "model.compile(loss=tf.keras.losses.mae,\n",
    "             optimizer = tf.keras.optimizers.SGD(),\n",
    "             metrics=[\"mae\"])\n",
    "\n",
    "\n"
   ]
  },
  {
   "cell_type": "code",
   "execution_count": 35,
   "id": "a6e064a1",
   "metadata": {},
   "outputs": [
    {
     "name": "stdout",
     "output_type": "stream",
     "text": [
      "Model: \"sequential_5\"\n",
      "_________________________________________________________________\n",
      " Layer (type)                Output Shape              Param #   \n",
      "=================================================================\n",
      " dense_10 (Dense)            (None, 1)                 2         \n",
      "                                                                 \n",
      "=================================================================\n",
      "Total params: 2\n",
      "Trainable params: 2\n",
      "Non-trainable params: 0\n",
      "_________________________________________________________________\n"
     ]
    }
   ],
   "source": [
    "model.summary()"
   ]
  },
  {
   "cell_type": "markdown",
   "id": "b7c23bc7",
   "metadata": {},
   "source": [
    ".summary() on a model show the layers it contains, the output shape, and the number of parameters of each layer.   \n",
    "   \n",
    "* The **Ouput Shape** here (None, 1) : the representation here is something I personnally need to do more research on\n",
    "* The **Layer Type** `Dense` : it is another word for `fully connected`. A fully connected layer means each neuron in the said layer connects to all neurons in the next layer.\n",
    "* There are 2 **Params** :  \n",
    " - **Total params** : total number of parameters in the model; these are the patterns that the model is going to learn\n",
    " - **Trainable parameters** : these are the parameters (patterns) the model can update as it trains\n",
    " - **Non-trainable params** : these are the patterns the model cannot update as it trains; when we import a model that has already learned patterns in data (**transfer learning**), we might freeze those learned patterns so that the model retains what it already knows"
   ]
  },
  {
   "cell_type": "markdown",
   "id": "dd0bebde",
   "metadata": {},
   "source": [
    "📖 **Resource**: For a more in-depth overview of the trainable parameters within a layer, check out MIT's introduction to deep learning video at http://introtodeeplearning.com/ "
   ]
  },
  {
   "cell_type": "markdown",
   "id": "4a3aa920",
   "metadata": {},
   "source": [
    "🛠️**Exercise**: Try playing around with the number of hdden units in the dense layer, see how that effects the number of parameters (total and trainable) by calling `model.summary()`"
   ]
  },
  {
   "cell_type": "code",
   "execution_count": 36,
   "id": "f9bb768b",
   "metadata": {},
   "outputs": [
    {
     "name": "stdout",
     "output_type": "stream",
     "text": [
      "Model: \"sequential_6\"\n",
      "_________________________________________________________________\n",
      " Layer (type)                Output Shape              Param #   \n",
      "=================================================================\n",
      " dense_11 (Dense)            (None, 3)                 6         \n",
      "                                                                 \n",
      "=================================================================\n",
      "Total params: 6\n",
      "Trainable params: 6\n",
      "Non-trainable params: 0\n",
      "_________________________________________________________________\n"
     ]
    }
   ],
   "source": [
    "tf.random.set_seed(42)\n",
    "\n",
    "# 1. Create a model (same as above)\n",
    "model = tf.keras.Sequential([\n",
    "    tf.keras.layers.Dense(3, input_shape= [X.ndim] )  \n",
    "]) \n",
    "\n",
    "# 2. COmpile the model \n",
    "model.compile(loss=tf.keras.losses.mae,\n",
    "             optimizer = tf.keras.optimizers.SGD(),\n",
    "             metrics=[\"mae\"])\n",
    "\n",
    "\n",
    "model.summary()"
   ]
  },
  {
   "cell_type": "code",
   "execution_count": null,
   "id": "257f63ee",
   "metadata": {},
   "outputs": [],
   "source": []
  },
  {
   "cell_type": "code",
   "execution_count": null,
   "id": "5f285645",
   "metadata": {},
   "outputs": [],
   "source": []
  },
  {
   "cell_type": "code",
   "execution_count": 37,
   "id": "7dec1a2f",
   "metadata": {},
   "outputs": [
    {
     "name": "stdout",
     "output_type": "stream",
     "text": [
      "Model: \"sequential_7\"\n",
      "_________________________________________________________________\n",
      " Layer (type)                Output Shape              Param #   \n",
      "=================================================================\n",
      " dense_12 (Dense)            (None, 1)                 2         \n",
      "                                                                 \n",
      "=================================================================\n",
      "Total params: 2\n",
      "Trainable params: 2\n",
      "Non-trainable params: 0\n",
      "_________________________________________________________________\n"
     ]
    }
   ],
   "source": [
    "# Let us change the number of neuro from 3 to 1\n",
    "\n",
    "tf.random.set_seed(42)\n",
    "\n",
    "# 1. Create a model (same as above)\n",
    "model = tf.keras.Sequential([\n",
    "    tf.keras.layers.Dense(1, input_shape= [X.ndim] )  \n",
    "]) \n",
    "\n",
    "# 2. COmpile the model \n",
    "model.compile(loss=tf.keras.losses.mae,\n",
    "             optimizer = tf.keras.optimizers.SGD(),\n",
    "             metrics=[\"mae\"])\n",
    "\n",
    "\n",
    "model.summary()"
   ]
  },
  {
   "cell_type": "code",
   "execution_count": 38,
   "id": "5d2f8b23",
   "metadata": {},
   "outputs": [
    {
     "name": "stdout",
     "output_type": "stream",
     "text": [
      "Epoch 1/100\n",
      "2/2 [==============================] - 0s 5ms/step - loss: 91.3523 - mae: 91.3523\n",
      "Epoch 2/100\n",
      "2/2 [==============================] - 0s 3ms/step - loss: 55.8969 - mae: 55.8969\n",
      "Epoch 3/100\n",
      "2/2 [==============================] - 0s 4ms/step - loss: 19.4665 - mae: 19.4665\n",
      "Epoch 4/100\n",
      "2/2 [==============================] - 0s 4ms/step - loss: 9.8705 - mae: 9.8705\n",
      "Epoch 5/100\n",
      "2/2 [==============================] - 0s 2ms/step - loss: 10.8212 - mae: 10.8212\n",
      "Epoch 6/100\n",
      "2/2 [==============================] - 0s 2ms/step - loss: 10.0093 - mae: 10.0093\n",
      "Epoch 7/100\n",
      "2/2 [==============================] - 0s 3ms/step - loss: 9.0579 - mae: 9.0579\n",
      "Epoch 8/100\n",
      "2/2 [==============================] - 0s 2ms/step - loss: 9.1101 - mae: 9.1101\n",
      "Epoch 9/100\n",
      "2/2 [==============================] - 0s 2ms/step - loss: 19.9237 - mae: 19.9237\n",
      "Epoch 10/100\n",
      "2/2 [==============================] - 0s 2ms/step - loss: 10.7846 - mae: 10.7846\n",
      "Epoch 11/100\n",
      "2/2 [==============================] - 0s 4ms/step - loss: 8.6860 - mae: 8.6860\n",
      "Epoch 12/100\n",
      "2/2 [==============================] - 0s 3ms/step - loss: 9.6699 - mae: 9.6699\n",
      "Epoch 13/100\n",
      "2/2 [==============================] - 0s 3ms/step - loss: 13.0130 - mae: 13.0130\n",
      "Epoch 14/100\n",
      "2/2 [==============================] - 0s 4ms/step - loss: 14.2098 - mae: 14.2098\n",
      "Epoch 15/100\n",
      "2/2 [==============================] - 0s 5ms/step - loss: 11.6153 - mae: 11.6153\n",
      "Epoch 16/100\n",
      "2/2 [==============================] - 0s 3ms/step - loss: 8.5094 - mae: 8.5094\n",
      "Epoch 17/100\n",
      "2/2 [==============================] - 0s 4ms/step - loss: 13.5356 - mae: 13.5356\n",
      "Epoch 18/100\n",
      "2/2 [==============================] - 0s 2ms/step - loss: 11.3318 - mae: 11.3318\n",
      "Epoch 19/100\n",
      "2/2 [==============================] - 0s 3ms/step - loss: 18.1271 - mae: 18.1271\n",
      "Epoch 20/100\n",
      "2/2 [==============================] - 0s 2ms/step - loss: 15.2602 - mae: 15.2602\n",
      "Epoch 21/100\n",
      "2/2 [==============================] - 0s 3ms/step - loss: 11.2042 - mae: 11.2042\n",
      "Epoch 22/100\n",
      "2/2 [==============================] - 0s 3ms/step - loss: 8.3269 - mae: 8.3269\n",
      "Epoch 23/100\n",
      "2/2 [==============================] - 0s 2ms/step - loss: 9.4357 - mae: 9.4357\n",
      "Epoch 24/100\n",
      "2/2 [==============================] - 0s 3ms/step - loss: 7.7253 - mae: 7.7253\n",
      "Epoch 25/100\n",
      "2/2 [==============================] - 0s 3ms/step - loss: 12.9529 - mae: 12.9529\n",
      "Epoch 26/100\n",
      "2/2 [==============================] - 0s 2ms/step - loss: 16.6288 - mae: 16.6288\n",
      "Epoch 27/100\n",
      "2/2 [==============================] - 0s 3ms/step - loss: 13.3436 - mae: 13.3436\n",
      "Epoch 28/100\n",
      "2/2 [==============================] - 0s 3ms/step - loss: 14.4779 - mae: 14.4779\n",
      "Epoch 29/100\n",
      "2/2 [==============================] - 0s 2ms/step - loss: 10.1499 - mae: 10.1499\n",
      "Epoch 30/100\n",
      "2/2 [==============================] - 0s 3ms/step - loss: 16.6546 - mae: 16.6546\n",
      "Epoch 31/100\n",
      "2/2 [==============================] - 0s 3ms/step - loss: 23.3809 - mae: 23.3809\n",
      "Epoch 32/100\n",
      "2/2 [==============================] - 0s 3ms/step - loss: 7.3914 - mae: 7.3914\n",
      "Epoch 33/100\n",
      "2/2 [==============================] - 0s 2ms/step - loss: 9.8018 - mae: 9.8018\n",
      "Epoch 34/100\n",
      "2/2 [==============================] - 0s 2ms/step - loss: 12.2199 - mae: 12.2199\n",
      "Epoch 35/100\n",
      "2/2 [==============================] - 0s 2ms/step - loss: 11.2304 - mae: 11.2304\n",
      "Epoch 36/100\n",
      "2/2 [==============================] - 0s 2ms/step - loss: 13.4937 - mae: 13.4937\n",
      "Epoch 37/100\n",
      "2/2 [==============================] - 0s 2ms/step - loss: 9.4436 - mae: 9.4436\n",
      "Epoch 38/100\n",
      "2/2 [==============================] - 0s 2ms/step - loss: 10.0929 - mae: 10.0929\n",
      "Epoch 39/100\n",
      "2/2 [==============================] - 0s 2ms/step - loss: 8.9729 - mae: 8.9729\n",
      "Epoch 40/100\n",
      "2/2 [==============================] - 0s 3ms/step - loss: 9.5983 - mae: 9.5983\n",
      "Epoch 41/100\n",
      "2/2 [==============================] - 0s 2ms/step - loss: 10.5531 - mae: 10.5531\n",
      "Epoch 42/100\n",
      "2/2 [==============================] - 0s 4ms/step - loss: 10.6011 - mae: 10.6011\n",
      "Epoch 43/100\n",
      "2/2 [==============================] - 0s 3ms/step - loss: 7.5791 - mae: 7.5791\n",
      "Epoch 44/100\n",
      "2/2 [==============================] - 0s 2ms/step - loss: 18.6590 - mae: 18.6590\n",
      "Epoch 45/100\n",
      "2/2 [==============================] - 0s 2ms/step - loss: 14.4956 - mae: 14.4956\n",
      "Epoch 46/100\n",
      "2/2 [==============================] - 0s 2ms/step - loss: 9.2019 - mae: 9.2019\n",
      "Epoch 47/100\n",
      "2/2 [==============================] - 0s 4ms/step - loss: 9.6868 - mae: 9.6868\n",
      "Epoch 48/100\n",
      "2/2 [==============================] - 0s 2ms/step - loss: 11.4385 - mae: 11.4385\n",
      "Epoch 49/100\n",
      "2/2 [==============================] - 0s 2ms/step - loss: 8.2347 - mae: 8.2347\n",
      "Epoch 50/100\n",
      "2/2 [==============================] - 0s 2ms/step - loss: 10.2908 - mae: 10.2908\n",
      "Epoch 51/100\n",
      "2/2 [==============================] - 0s 2ms/step - loss: 9.3708 - mae: 9.3708\n",
      "Epoch 52/100\n",
      "2/2 [==============================] - 0s 3ms/step - loss: 14.0251 - mae: 14.0251\n",
      "Epoch 53/100\n",
      "2/2 [==============================] - 0s 2ms/step - loss: 15.0053 - mae: 15.0053\n",
      "Epoch 54/100\n",
      "2/2 [==============================] - 0s 3ms/step - loss: 10.8961 - mae: 10.8961\n",
      "Epoch 55/100\n",
      "2/2 [==============================] - 0s 3ms/step - loss: 15.3935 - mae: 15.3935\n",
      "Epoch 56/100\n",
      "2/2 [==============================] - 0s 998us/step - loss: 9.0992 - mae: 9.0992\n",
      "Epoch 57/100\n",
      "2/2 [==============================] - 0s 4ms/step - loss: 9.7480 - mae: 9.7480\n",
      "Epoch 58/100\n",
      "2/2 [==============================] - 0s 2ms/step - loss: 9.0450 - mae: 9.0450\n",
      "Epoch 59/100\n",
      "2/2 [==============================] - 0s 2ms/step - loss: 10.2950 - mae: 10.2950\n",
      "Epoch 60/100\n",
      "2/2 [==============================] - 0s 2ms/step - loss: 8.1725 - mae: 8.1725\n",
      "Epoch 61/100\n",
      "2/2 [==============================] - 0s 2ms/step - loss: 10.0177 - mae: 10.0177\n",
      "Epoch 62/100\n",
      "2/2 [==============================] - 0s 2ms/step - loss: 7.0912 - mae: 7.0912\n",
      "Epoch 63/100\n",
      "2/2 [==============================] - 0s 1ms/step - loss: 8.5835 - mae: 8.5835\n",
      "Epoch 64/100\n",
      "2/2 [==============================] - 0s 3ms/step - loss: 11.1108 - mae: 11.1108\n",
      "Epoch 65/100\n",
      "2/2 [==============================] - 0s 2ms/step - loss: 12.4192 - mae: 12.4192\n",
      "Epoch 66/100\n",
      "2/2 [==============================] - 0s 2ms/step - loss: 12.9610 - mae: 12.9610\n",
      "Epoch 67/100\n",
      "2/2 [==============================] - 0s 2ms/step - loss: 7.8384 - mae: 7.8384\n",
      "Epoch 68/100\n",
      "2/2 [==============================] - 0s 2ms/step - loss: 11.0774 - mae: 11.0774\n",
      "Epoch 69/100\n",
      "2/2 [==============================] - 0s 2ms/step - loss: 12.7338 - mae: 12.7338\n",
      "Epoch 70/100\n",
      "2/2 [==============================] - 0s 2ms/step - loss: 8.9065 - mae: 8.9065\n",
      "Epoch 71/100\n",
      "2/2 [==============================] - 0s 4ms/step - loss: 9.8724 - mae: 9.8724\n",
      "Epoch 72/100\n",
      "2/2 [==============================] - 0s 2ms/step - loss: 9.9309 - mae: 9.9309\n",
      "Epoch 73/100\n",
      "2/2 [==============================] - 0s 4ms/step - loss: 12.3212 - mae: 12.3212\n",
      "Epoch 74/100\n",
      "2/2 [==============================] - 0s 3ms/step - loss: 10.7458 - mae: 10.7458\n",
      "Epoch 75/100\n",
      "2/2 [==============================] - 0s 3ms/step - loss: 9.5794 - mae: 9.5794\n",
      "Epoch 76/100\n",
      "2/2 [==============================] - 0s 2ms/step - loss: 11.0290 - mae: 11.0290\n",
      "Epoch 77/100\n",
      "2/2 [==============================] - 0s 2ms/step - loss: 11.1014 - mae: 11.1014\n",
      "Epoch 78/100\n",
      "2/2 [==============================] - 0s 2ms/step - loss: 11.5916 - mae: 11.5916\n",
      "Epoch 79/100\n",
      "2/2 [==============================] - 0s 2ms/step - loss: 15.6325 - mae: 15.6325\n",
      "Epoch 80/100\n",
      "2/2 [==============================] - 0s 3ms/step - loss: 11.5993 - mae: 11.5993\n",
      "Epoch 81/100\n",
      "2/2 [==============================] - 0s 2ms/step - loss: 9.4924 - mae: 9.4924\n",
      "Epoch 82/100\n",
      "2/2 [==============================] - 0s 2ms/step - loss: 12.5852 - mae: 12.5852\n",
      "Epoch 83/100\n",
      "2/2 [==============================] - 0s 2ms/step - loss: 8.1876 - mae: 8.1876\n",
      "Epoch 84/100\n",
      "2/2 [==============================] - 0s 2ms/step - loss: 7.5630 - mae: 7.5630\n",
      "Epoch 85/100\n",
      "2/2 [==============================] - 0s 3ms/step - loss: 9.7467 - mae: 9.7467\n",
      "Epoch 86/100\n",
      "2/2 [==============================] - 0s 2ms/step - loss: 9.0559 - mae: 9.0559\n",
      "Epoch 87/100\n",
      "2/2 [==============================] - 0s 2ms/step - loss: 11.6859 - mae: 11.6859\n",
      "Epoch 88/100\n"
     ]
    },
    {
     "name": "stdout",
     "output_type": "stream",
     "text": [
      "2/2 [==============================] - 0s 2ms/step - loss: 10.2866 - mae: 10.2866\n",
      "Epoch 89/100\n",
      "2/2 [==============================] - 0s 2ms/step - loss: 6.7668 - mae: 6.7668\n",
      "Epoch 90/100\n",
      "2/2 [==============================] - 0s 2ms/step - loss: 8.1265 - mae: 8.1265\n",
      "Epoch 91/100\n",
      "2/2 [==============================] - 0s 2ms/step - loss: 6.7688 - mae: 6.7688\n",
      "Epoch 92/100\n",
      "2/2 [==============================] - 0s 2ms/step - loss: 10.2162 - mae: 10.2162\n",
      "Epoch 93/100\n",
      "2/2 [==============================] - 0s 2ms/step - loss: 7.5935 - mae: 7.5935\n",
      "Epoch 94/100\n",
      "2/2 [==============================] - 0s 2ms/step - loss: 9.2230 - mae: 9.2230\n",
      "Epoch 95/100\n",
      "2/2 [==============================] - 0s 2ms/step - loss: 10.7776 - mae: 10.7776\n",
      "Epoch 96/100\n",
      "2/2 [==============================] - 0s 2ms/step - loss: 10.3885 - mae: 10.3885\n",
      "Epoch 97/100\n",
      "2/2 [==============================] - 0s 2ms/step - loss: 7.6519 - mae: 7.6519\n",
      "Epoch 98/100\n",
      "2/2 [==============================] - 0s 3ms/step - loss: 8.5950 - mae: 8.5950\n",
      "Epoch 99/100\n",
      "2/2 [==============================] - 0s 3ms/step - loss: 9.3670 - mae: 9.3670\n",
      "Epoch 100/100\n",
      "2/2 [==============================] - 0s 2ms/step - loss: 8.8300 - mae: 8.8300\n"
     ]
    },
    {
     "data": {
      "text/plain": [
       "<keras.callbacks.History at 0x23a54f91af0>"
      ]
     },
     "execution_count": 38,
     "metadata": {},
     "output_type": "execute_result"
    }
   ],
   "source": [
    "# 3. Fit the model to the training data for 100 epochs\n",
    "model.fit(X_train, y_train, epochs=100, verbose=1)"
   ]
  },
  {
   "cell_type": "code",
   "execution_count": 39,
   "id": "2f299920",
   "metadata": {},
   "outputs": [
    {
     "name": "stdout",
     "output_type": "stream",
     "text": [
      "Epoch 1/100\n",
      "2/2 [==============================] - 0s 3ms/step - loss: 12.7164 - mae: 12.7164\n",
      "Epoch 2/100\n",
      "2/2 [==============================] - 0s 2ms/step - loss: 8.5000 - mae: 8.5000\n",
      "Epoch 3/100\n",
      "2/2 [==============================] - 0s 3ms/step - loss: 6.6445 - mae: 6.6445\n",
      "Epoch 4/100\n",
      "2/2 [==============================] - 0s 4ms/step - loss: 9.0594 - mae: 9.0594\n",
      "Epoch 5/100\n",
      "2/2 [==============================] - 0s 3ms/step - loss: 10.0679 - mae: 10.0679\n",
      "Epoch 6/100\n",
      "2/2 [==============================] - 0s 2ms/step - loss: 9.2034 - mae: 9.2034\n",
      "Epoch 7/100\n",
      "2/2 [==============================] - 0s 3ms/step - loss: 8.2551 - mae: 8.2551\n",
      "Epoch 8/100\n",
      "2/2 [==============================] - 0s 2ms/step - loss: 8.1549 - mae: 8.1549\n",
      "Epoch 9/100\n",
      "2/2 [==============================] - 0s 5ms/step - loss: 14.5586 - mae: 14.5586\n",
      "Epoch 10/100\n",
      "2/2 [==============================] - 0s 4ms/step - loss: 11.6751 - mae: 11.6751\n",
      "Epoch 11/100\n",
      "2/2 [==============================] - 0s 4ms/step - loss: 9.4505 - mae: 9.4505\n",
      "Epoch 12/100\n",
      "2/2 [==============================] - 0s 3ms/step - loss: 17.8082 - mae: 17.8082\n",
      "Epoch 13/100\n",
      "2/2 [==============================] - 0s 3ms/step - loss: 8.8039 - mae: 8.8039\n",
      "Epoch 14/100\n",
      "2/2 [==============================] - 0s 4ms/step - loss: 15.1819 - mae: 15.1819\n",
      "Epoch 15/100\n",
      "2/2 [==============================] - 0s 5ms/step - loss: 11.4289 - mae: 11.4289\n",
      "Epoch 16/100\n",
      "2/2 [==============================] - 0s 3ms/step - loss: 7.6429 - mae: 7.6429\n",
      "Epoch 17/100\n",
      "2/2 [==============================] - 0s 3ms/step - loss: 12.5676 - mae: 12.5676\n",
      "Epoch 18/100\n",
      "2/2 [==============================] - 0s 3ms/step - loss: 10.0457 - mae: 10.0457\n",
      "Epoch 19/100\n",
      "2/2 [==============================] - 0s 2ms/step - loss: 18.5384 - mae: 18.5384\n",
      "Epoch 20/100\n",
      "2/2 [==============================] - 0s 2ms/step - loss: 15.2384 - mae: 15.2384\n",
      "Epoch 21/100\n",
      "2/2 [==============================] - 0s 3ms/step - loss: 10.7168 - mae: 10.7168\n",
      "Epoch 22/100\n",
      "2/2 [==============================] - 0s 3ms/step - loss: 7.2090 - mae: 7.2090\n",
      "Epoch 23/100\n",
      "2/2 [==============================] - 0s 2ms/step - loss: 8.6332 - mae: 8.6332\n",
      "Epoch 24/100\n",
      "2/2 [==============================] - 0s 2ms/step - loss: 7.1303 - mae: 7.1303\n",
      "Epoch 25/100\n",
      "2/2 [==============================] - 0s 2ms/step - loss: 11.1267 - mae: 11.1267\n",
      "Epoch 26/100\n",
      "2/2 [==============================] - 0s 3ms/step - loss: 8.0210 - mae: 8.0210\n",
      "Epoch 27/100\n",
      "2/2 [==============================] - 0s 3ms/step - loss: 10.3810 - mae: 10.3810\n",
      "Epoch 28/100\n",
      "2/2 [==============================] - 0s 3ms/step - loss: 15.9331 - mae: 15.9331\n",
      "Epoch 29/100\n",
      "2/2 [==============================] - 0s 2ms/step - loss: 10.3413 - mae: 10.3413\n",
      "Epoch 30/100\n",
      "2/2 [==============================] - 0s 3ms/step - loss: 16.4297 - mae: 16.4297\n",
      "Epoch 31/100\n",
      "2/2 [==============================] - 0s 3ms/step - loss: 23.0678 - mae: 23.0678\n",
      "Epoch 32/100\n",
      "2/2 [==============================] - 0s 3ms/step - loss: 6.9548 - mae: 6.9548\n",
      "Epoch 33/100\n",
      "2/2 [==============================] - 0s 3ms/step - loss: 13.5291 - mae: 13.5291\n",
      "Epoch 34/100\n",
      "2/2 [==============================] - 0s 2ms/step - loss: 11.1095 - mae: 11.1095\n",
      "Epoch 35/100\n",
      "2/2 [==============================] - 0s 2ms/step - loss: 7.5240 - mae: 7.5240\n",
      "Epoch 36/100\n",
      "2/2 [==============================] - 0s 2ms/step - loss: 7.6839 - mae: 7.6839\n",
      "Epoch 37/100\n",
      "2/2 [==============================] - 0s 2ms/step - loss: 7.7593 - mae: 7.7593\n",
      "Epoch 38/100\n",
      "2/2 [==============================] - 0s 3ms/step - loss: 9.2027 - mae: 9.2027\n",
      "Epoch 39/100\n",
      "2/2 [==============================] - 0s 4ms/step - loss: 9.4723 - mae: 9.4723\n",
      "Epoch 40/100\n",
      "2/2 [==============================] - 0s 3ms/step - loss: 9.4907 - mae: 9.4907\n",
      "Epoch 41/100\n",
      "2/2 [==============================] - 0s 3ms/step - loss: 6.5278 - mae: 6.5278\n",
      "Epoch 42/100\n",
      "2/2 [==============================] - 0s 2ms/step - loss: 9.0851 - mae: 9.0851\n",
      "Epoch 43/100\n",
      "2/2 [==============================] - 0s 2ms/step - loss: 9.7930 - mae: 9.7930\n",
      "Epoch 44/100\n",
      "2/2 [==============================] - 0s 2ms/step - loss: 17.2584 - mae: 17.2584\n",
      "Epoch 45/100\n",
      "2/2 [==============================] - 0s 2ms/step - loss: 13.1040 - mae: 13.1040\n",
      "Epoch 46/100\n",
      "2/2 [==============================] - 0s 2ms/step - loss: 7.1621 - mae: 7.1621\n",
      "Epoch 47/100\n",
      "2/2 [==============================] - 0s 3ms/step - loss: 7.9672 - mae: 7.9672\n",
      "Epoch 48/100\n",
      "2/2 [==============================] - 0s 2ms/step - loss: 9.3151 - mae: 9.3151\n",
      "Epoch 49/100\n",
      "2/2 [==============================] - 0s 2ms/step - loss: 7.7628 - mae: 7.7628\n",
      "Epoch 50/100\n",
      "2/2 [==============================] - 0s 4ms/step - loss: 8.3373 - mae: 8.3373\n",
      "Epoch 51/100\n",
      "2/2 [==============================] - 0s 3ms/step - loss: 8.5046 - mae: 8.5046\n",
      "Epoch 52/100\n",
      "2/2 [==============================] - 0s 2ms/step - loss: 14.1696 - mae: 14.1696\n",
      "Epoch 53/100\n",
      "2/2 [==============================] - 0s 2ms/step - loss: 14.5027 - mae: 14.5027\n",
      "Epoch 54/100\n",
      "2/2 [==============================] - 0s 2ms/step - loss: 14.2081 - mae: 14.2081\n",
      "Epoch 55/100\n",
      "2/2 [==============================] - 0s 3ms/step - loss: 18.5529 - mae: 18.5529\n",
      "Epoch 56/100\n",
      "2/2 [==============================] - 0s 4ms/step - loss: 7.0127 - mae: 7.0127\n",
      "Epoch 57/100\n",
      "2/2 [==============================] - 0s 3ms/step - loss: 10.8424 - mae: 10.8424\n",
      "Epoch 58/100\n",
      "2/2 [==============================] - 0s 2ms/step - loss: 8.2763 - mae: 8.2763\n",
      "Epoch 59/100\n",
      "2/2 [==============================] - 0s 3ms/step - loss: 7.6078 - mae: 7.6078\n",
      "Epoch 60/100\n",
      "2/2 [==============================] - 0s 3ms/step - loss: 8.5584 - mae: 8.5584\n",
      "Epoch 61/100\n",
      "2/2 [==============================] - 0s 3ms/step - loss: 10.4176 - mae: 10.4176\n",
      "Epoch 62/100\n",
      "2/2 [==============================] - 0s 2ms/step - loss: 6.4703 - mae: 6.4703\n",
      "Epoch 63/100\n",
      "2/2 [==============================] - 0s 2ms/step - loss: 9.8404 - mae: 9.8404\n",
      "Epoch 64/100\n",
      "2/2 [==============================] - 0s 2ms/step - loss: 10.7496 - mae: 10.7496\n",
      "Epoch 65/100\n",
      "2/2 [==============================] - 0s 2ms/step - loss: 7.9809 - mae: 7.9809\n",
      "Epoch 66/100\n",
      "2/2 [==============================] - 0s 2ms/step - loss: 10.9809 - mae: 10.9809\n",
      "Epoch 67/100\n",
      "2/2 [==============================] - 0s 2ms/step - loss: 6.6802 - mae: 6.6802\n",
      "Epoch 68/100\n",
      "2/2 [==============================] - 0s 2ms/step - loss: 8.1260 - mae: 8.1260\n",
      "Epoch 69/100\n",
      "2/2 [==============================] - 0s 2ms/step - loss: 9.8483 - mae: 9.8483\n",
      "Epoch 70/100\n",
      "2/2 [==============================] - 0s 2ms/step - loss: 7.9046 - mae: 7.9046\n",
      "Epoch 71/100\n",
      "2/2 [==============================] - 0s 2ms/step - loss: 8.8925 - mae: 8.8925\n",
      "Epoch 72/100\n",
      "2/2 [==============================] - 0s 1000us/step - loss: 8.9670 - mae: 8.9670\n",
      "Epoch 73/100\n",
      "2/2 [==============================] - 0s 2ms/step - loss: 11.4031 - mae: 11.4031\n",
      "Epoch 74/100\n",
      "2/2 [==============================] - 0s 2ms/step - loss: 11.6418 - mae: 11.6418\n",
      "Epoch 75/100\n",
      "2/2 [==============================] - 0s 3ms/step - loss: 6.3855 - mae: 6.3855\n",
      "Epoch 76/100\n",
      "2/2 [==============================] - 0s 2ms/step - loss: 10.1196 - mae: 10.1196\n",
      "Epoch 77/100\n",
      "2/2 [==============================] - 0s 3ms/step - loss: 10.0934 - mae: 10.0934\n",
      "Epoch 78/100\n",
      "2/2 [==============================] - 0s 2ms/step - loss: 11.7101 - mae: 11.7101\n",
      "Epoch 79/100\n",
      "2/2 [==============================] - 0s 3ms/step - loss: 14.6851 - mae: 14.6851\n",
      "Epoch 80/100\n",
      "2/2 [==============================] - 0s 2ms/step - loss: 11.0186 - mae: 11.0186\n",
      "Epoch 81/100\n",
      "2/2 [==============================] - 0s 2ms/step - loss: 10.1630 - mae: 10.1630\n",
      "Epoch 82/100\n",
      "2/2 [==============================] - 0s 2ms/step - loss: 7.1433 - mae: 7.1433\n",
      "Epoch 83/100\n",
      "2/2 [==============================] - 0s 2ms/step - loss: 8.0847 - mae: 8.0847\n",
      "Epoch 84/100\n",
      "2/2 [==============================] - 0s 2ms/step - loss: 6.7140 - mae: 6.7140\n",
      "Epoch 85/100\n",
      "2/2 [==============================] - 0s 2ms/step - loss: 16.1775 - mae: 16.1775\n",
      "Epoch 86/100\n",
      "2/2 [==============================] - 0s 2ms/step - loss: 11.6034 - mae: 11.6034\n",
      "Epoch 87/100\n",
      "2/2 [==============================] - 0s 1ms/step - loss: 11.4896 - mae: 11.4896\n",
      "Epoch 88/100\n"
     ]
    },
    {
     "name": "stdout",
     "output_type": "stream",
     "text": [
      "2/2 [==============================] - 0s 2ms/step - loss: 9.5673 - mae: 9.5673\n",
      "Epoch 89/100\n",
      "2/2 [==============================] - 0s 2ms/step - loss: 6.0367 - mae: 6.0367\n",
      "Epoch 90/100\n",
      "2/2 [==============================] - 0s 2ms/step - loss: 12.9336 - mae: 12.9336\n",
      "Epoch 91/100\n",
      "2/2 [==============================] - 0s 2ms/step - loss: 6.8901 - mae: 6.8901\n",
      "Epoch 92/100\n",
      "2/2 [==============================] - 0s 2ms/step - loss: 7.1283 - mae: 7.1283\n",
      "Epoch 93/100\n",
      "2/2 [==============================] - 0s 2ms/step - loss: 8.5590 - mae: 8.5590\n",
      "Epoch 94/100\n",
      "2/2 [==============================] - 0s 999us/step - loss: 7.9057 - mae: 7.9057\n",
      "Epoch 95/100\n",
      "2/2 [==============================] - 0s 2ms/step - loss: 11.3327 - mae: 11.3327\n",
      "Epoch 96/100\n",
      "2/2 [==============================] - 0s 2ms/step - loss: 8.6312 - mae: 8.6312\n",
      "Epoch 97/100\n",
      "2/2 [==============================] - 0s 2ms/step - loss: 12.8247 - mae: 12.8247\n",
      "Epoch 98/100\n",
      "2/2 [==============================] - 0s 3ms/step - loss: 7.5143 - mae: 7.5143\n",
      "Epoch 99/100\n",
      "2/2 [==============================] - 0s 2ms/step - loss: 8.2566 - mae: 8.2566\n",
      "Epoch 100/100\n",
      "2/2 [==============================] - 0s 2ms/step - loss: 9.7409 - mae: 9.7409\n"
     ]
    },
    {
     "data": {
      "text/plain": [
       "<keras.callbacks.History at 0x23a550174c0>"
      ]
     },
     "execution_count": 39,
     "metadata": {},
     "output_type": "execute_result"
    }
   ],
   "source": [
    "# Fit the model again, for another 100 epochs (so for a total of 200 epochs)\n",
    "model.fit(X_train, y_train, epochs=100, verbose=1)"
   ]
  },
  {
   "cell_type": "markdown",
   "id": "7798ca6b",
   "metadata": {},
   "source": [
    "🔑 Every time model.fit() is called, it's going to fit for the extra epochs provided as parameters : the epochs are cumulative."
   ]
  },
  {
   "cell_type": "code",
   "execution_count": null,
   "id": "378fe5b7",
   "metadata": {},
   "outputs": [],
   "source": []
  },
  {
   "cell_type": "markdown",
   "id": "8cd35a1b",
   "metadata": {},
   "source": [
    "### Visualizing a model's layers"
   ]
  },
  {
   "cell_type": "code",
   "execution_count": 40,
   "id": "64f49ee8",
   "metadata": {},
   "outputs": [
    {
     "name": "stdout",
     "output_type": "stream",
     "text": [
      "Model: \"sequential_8\"\n",
      "_________________________________________________________________\n",
      " Layer (type)                Output Shape              Param #   \n",
      "=================================================================\n",
      " dense_13 (Dense)            (None, 10)                20        \n",
      "                                                                 \n",
      "=================================================================\n",
      "Total params: 20\n",
      "Trainable params: 20\n",
      "Non-trainable params: 0\n",
      "_________________________________________________________________\n"
     ]
    }
   ],
   "source": [
    "# Creating a new model, with 10 units in the hidden layers\n",
    "\n",
    "tf.random.set_seed(42)\n",
    "\n",
    "# 1. Create a model (same as above)\n",
    "model = tf.keras.Sequential([\n",
    "    tf.keras.layers.Dense(10, input_shape= [X.ndim] )  \n",
    "]) \n",
    "\n",
    "# 2. Compile the model \n",
    "model.compile(loss=tf.keras.losses.mae,\n",
    "             optimizer = tf.keras.optimizers.SGD(),\n",
    "             metrics=[\"mae\"])\n",
    "\n",
    "\n",
    "model.summary()\n"
   ]
  },
  {
   "cell_type": "code",
   "execution_count": 41,
   "id": "967d66d9",
   "metadata": {},
   "outputs": [
    {
     "data": {
      "text/plain": [
       "<keras.callbacks.History at 0x23a55030130>"
      ]
     },
     "execution_count": 41,
     "metadata": {},
     "output_type": "execute_result"
    }
   ],
   "source": [
    "# Fit the model to the training data\n",
    "model.fit(X_train, y_train, epochs=100, verbose=0)"
   ]
  },
  {
   "cell_type": "code",
   "execution_count": 42,
   "id": "8641da1e",
   "metadata": {},
   "outputs": [
    {
     "data": {
      "image/png": "[encoded data removed]",
      "text/plain": [
       "<IPython.core.display.Image object>"
      ]
     },
     "execution_count": 42,
     "metadata": {},
     "output_type": "execute_result"
    }
   ],
   "source": [
    "# Looking at the layers of the model\n",
    "plot_model(model=model)"
   ]
  },
  {
   "cell_type": "code",
   "execution_count": 43,
   "id": "51112f96",
   "metadata": {},
   "outputs": [
    {
     "data": {
      "image/png": "[encoded data removed]",
      "text/plain": [
       "<IPython.core.display.Image object>"
      ]
     },
     "execution_count": 43,
     "metadata": {},
     "output_type": "execute_result"
    }
   ],
   "source": [
    "# Looking at the layers of the model, with it's shape\n",
    "plot_model(model=model, show_shapes=True)"
   ]
  },
  {
   "cell_type": "markdown",
   "id": "8720dbcb",
   "metadata": {},
   "source": [
    "The plot_model() above will be very handy later on when we start creating more complex models with more hidden layers. \n",
    "   \n",
    "Let's observe the plot of a little more complex model"
   ]
  },
  {
   "cell_type": "code",
   "execution_count": 50,
   "id": "d6a9f617",
   "metadata": {},
   "outputs": [
    {
     "name": "stdout",
     "output_type": "stream",
     "text": [
      "Model: \"amazing_model\"\n",
      "_________________________________________________________________\n",
      " Layer (type)                Output Shape              Param #   \n",
      "=================================================================\n",
      " input_layer (Dense)         (None, 10)                20        \n",
      "                                                                 \n",
      " output_layer (Dense)        (None, 1)                 11        \n",
      "                                                                 \n",
      "=================================================================\n",
      "Total params: 31\n",
      "Trainable params: 31\n",
      "Non-trainable params: 0\n",
      "_________________________________________________________________\n"
     ]
    }
   ],
   "source": [
    "# Creating a model, with 10 units in the hidden layers, and an output layer\n",
    "\n",
    "tf.random.set_seed(42)\n",
    "\n",
    "# 1. Create a model (same as above)\n",
    "model = tf.keras.Sequential([\n",
    "    tf.keras.layers.Dense(10, input_shape= [X.ndim], name=\"input_layer\" ), \n",
    "    tf.keras.layers.Dense(1, name=\"output_layer\")\n",
    "], name=\"amazing_model\") \n",
    "\n",
    "# 2. Compile the model \n",
    "model.compile(loss=tf.keras.losses.mae,\n",
    "             optimizer = tf.keras.optimizers.SGD(),\n",
    "             metrics=[\"mae\"])\n",
    "\n",
    "\n",
    "model.summary()\n"
   ]
  },
  {
   "cell_type": "code",
   "execution_count": 51,
   "id": "69b4b0ca",
   "metadata": {},
   "outputs": [
    {
     "data": {
      "text/plain": [
       "<keras.callbacks.History at 0x23a56121ca0>"
      ]
     },
     "execution_count": 51,
     "metadata": {},
     "output_type": "execute_result"
    }
   ],
   "source": [
    "# Fit the model to the training data\n",
    "model.fit(X_train, y_train, epochs=100, verbose=0)"
   ]
  },
  {
   "cell_type": "code",
   "execution_count": 47,
   "id": "bc62aa47",
   "metadata": {},
   "outputs": [
    {
     "name": "stdout",
     "output_type": "stream",
     "text": [
      "Model: \"amazing_model\"\n",
      "_________________________________________________________________\n",
      " Layer (type)                Output Shape              Param #   \n",
      "=================================================================\n",
      " input_layer (Dense)         (None, 10)                20        \n",
      "                                                                 \n",
      " output_layer (Dense)        (None, 1)                 11        \n",
      "                                                                 \n",
      "=================================================================\n",
      "Total params: 31\n",
      "Trainable params: 31\n",
      "Non-trainable params: 0\n",
      "_________________________________________________________________\n"
     ]
    }
   ],
   "source": [
    "model.summary()"
   ]
  },
  {
   "cell_type": "code",
   "execution_count": 48,
   "id": "06d885f8",
   "metadata": {},
   "outputs": [
    {
     "data": {
      "image/png": "[encoded data removed]",
      "text/plain": [
       "<IPython.core.display.Image object>"
      ]
     },
     "execution_count": 48,
     "metadata": {},
     "output_type": "execute_result"
    }
   ],
   "source": [
    "# Looking at the layers of the model, with it's shape\n",
    "plot_model(model=model, show_shapes=True)"
   ]
  },
  {
   "cell_type": "code",
   "execution_count": null,
   "id": "955333a7",
   "metadata": {},
   "outputs": [],
   "source": []
  },
  {
   "cell_type": "markdown",
   "id": "ab607c02",
   "metadata": {},
   "source": [
    "### Visualizing the model's predictions  \n",
    "  \n",
    "To visualize predictions, it's a good idea to plot them against the ground truth labels.  \n",
    "  \n",
    "Often, one will see this in the form of `y_test` or `y_true` versus `y_pred` (ground truth versus the model's predictions)."
   ]
  },
  {
   "cell_type": "code",
   "execution_count": 52,
   "id": "6274fe28",
   "metadata": {},
   "outputs": [
    {
     "name": "stdout",
     "output_type": "stream",
     "text": [
      "WARNING:tensorflow:6 out of the last 7 calls to <function Model.make_predict_function.<locals>.predict_function at 0x0000023A560EB5E0> triggered tf.function retracing. Tracing is expensive and the excessive number of tracings could be due to (1) creating @tf.function repeatedly in a loop, (2) passing tensors with different shapes, (3) passing Python objects instead of tensors. For (1), please define your @tf.function outside of the loop. For (2), @tf.function has reduce_retracing=True option that can avoid unnecessary retracing. For (3), please refer to https://www.tensorflow.org/guide/function#controlling_retracing and https://www.tensorflow.org/api_docs/python/tf/function for  more details.\n",
      "1/1 [==============================] - 0s 66ms/step\n"
     ]
    },
    {
     "data": {
      "text/plain": [
       "array([[ 91.17728],\n",
       "       [ 97.13086],\n",
       "       [103.08446],\n",
       "       [109.03805],\n",
       "       [114.99163],\n",
       "       [120.94523],\n",
       "       [126.89882],\n",
       "       [132.8524 ],\n",
       "       [138.80598],\n",
       "       [144.75958]], dtype=float32)"
      ]
     },
     "execution_count": 52,
     "metadata": {},
     "output_type": "execute_result"
    }
   ],
   "source": [
    "# Make some predictions\n",
    "y_pred = model.predict(X_test)\n",
    "y_pred"
   ]
  },
  {
   "cell_type": "code",
   "execution_count": 53,
   "id": "2693f03d",
   "metadata": {},
   "outputs": [
    {
     "data": {
      "text/plain": [
       "<tf.Tensor: shape=(10,), dtype=int32, numpy=array([ 70,  74,  78,  82,  86,  90,  94,  98, 102, 106])>"
      ]
     },
     "execution_count": 53,
     "metadata": {},
     "output_type": "execute_result"
    }
   ],
   "source": [
    "# Looking at the content of y_test (the real value)\n",
    "y_test"
   ]
  },
  {
   "cell_type": "code",
   "execution_count": null,
   "id": "ceb2b008",
   "metadata": {},
   "outputs": [],
   "source": []
  },
  {
   "cell_type": "code",
   "execution_count": null,
   "id": "eeba611f",
   "metadata": {},
   "outputs": [],
   "source": [
    "# Creating a plotting function\n",
    "def plot_predictions(train_data=X_train, train_labels=y_train,\n",
    "                    test_data=X_test, test_labels=y_test,\n",
    "                    predictions=y_pred):\n",
    "    \"\"\"\n",
    "        Plots training data, test data, and compares predictions to ground truth labels.\n",
    "    \"\"\"\n",
    "    plt.figure( figsize=(10,7) )\n",
    "\n",
    "    # Plot training data in blue\n",
    "    plt.scatter(train_data, train_labels, c=\"b\", label=\"Training data\")\n",
    "\n",
    "    # Plot test data in green\n",
    "    plt.scatter(test_data, test_labels, c=\"g\", label=\"Test data\")\n",
    "\n",
    "    #Show a legend\n",
    "    plt.legend() "
   ]
  },
  {
   "cell_type": "code",
   "execution_count": null,
   "id": "e17e0774",
   "metadata": {},
   "outputs": [],
   "source": []
  },
  {
   "cell_type": "code",
   "execution_count": null,
   "id": "7a6c14a3",
   "metadata": {},
   "outputs": [],
   "source": []
  },
  {
   "cell_type": "code",
   "execution_count": null,
   "id": "42f63d4e",
   "metadata": {},
   "outputs": [],
   "source": []
  },
  {
   "cell_type": "code",
   "execution_count": null,
   "id": "07b20a95",
   "metadata": {},
   "outputs": [],
   "source": []
  },
  {
   "cell_type": "code",
   "execution_count": null,
   "id": "77cb3ab7",
   "metadata": {},
   "outputs": [],
   "source": []
  },
  {
   "cell_type": "code",
   "execution_count": null,
   "id": "96cfe7ab",
   "metadata": {},
   "outputs": [],
   "source": []
  }
 ],
 "metadata": {
  "kernelspec": {
   "display_name": "Python 3",
   "language": "python",
   "name": "python3"
  },
  "language_info": {
   "codemirror_mode": {
    "name": "ipython",
    "version": 3
   },
   "file_extension": ".py",
   "mimetype": "text/x-python",
   "name": "python",
   "nbconvert_exporter": "python",
   "pygments_lexer": "ipython3",
   "version": "3.8.8"
  }
 },
 "nbformat": 4,
 "nbformat_minor": 5
}
