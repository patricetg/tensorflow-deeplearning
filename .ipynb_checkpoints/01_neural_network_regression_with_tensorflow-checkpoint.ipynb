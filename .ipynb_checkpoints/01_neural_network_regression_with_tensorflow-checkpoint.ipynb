{
 "cells": [
  {
   "cell_type": "code",
   "execution_count": null,
   "id": "d1d332c5",
   "metadata": {},
   "outputs": [],
   "source": []
  },
  {
   "cell_type": "markdown",
   "id": "ae1f3f01",
   "metadata": {},
   "source": [
    "# Introduction to Regression with Neural Networks in TensorFlow\n",
    "\n",
    "There are many definitions for a regression problem, but to make it simple : predicting a continuous (numerical) variable based on some other combination of variables."
   ]
  },
  {
   "cell_type": "code",
   "execution_count": 1,
   "id": "3ebcab60",
   "metadata": {},
   "outputs": [
    {
     "name": "stdout",
     "output_type": "stream",
     "text": [
      "2.10.0\n"
     ]
    }
   ],
   "source": [
    "# Import TensorFlow\n",
    "import tensorflow as tf\n",
    "print(tf.__version__)"
   ]
  },
  {
   "cell_type": "code",
   "execution_count": 74,
   "id": "46175302",
   "metadata": {},
   "outputs": [],
   "source": [
    "import pandas as pd\n",
    "import numpy as np\n",
    "import matplotlib.pyplot as plt\n",
    "\n",
    "%matplotlib inline"
   ]
  },
  {
   "cell_type": "code",
   "execution_count": 3,
   "id": "b73583b4",
   "metadata": {},
   "outputs": [],
   "source": [
    "from tensorflow.keras.utils import plot_model"
   ]
  },
  {
   "cell_type": "markdown",
   "id": "5b304915",
   "metadata": {},
   "source": [
    "Note : in order to use plot_model, one must install pydot (`pip install pydot`) and install graphviz (see instructions at https://graphviz.gitlab.io/download/) for plot_model to work."
   ]
  },
  {
   "cell_type": "code",
   "execution_count": null,
   "id": "99283640",
   "metadata": {},
   "outputs": [],
   "source": []
  },
  {
   "cell_type": "markdown",
   "id": "3ea9cdd1",
   "metadata": {},
   "source": [
    "### Creating data to view and fit"
   ]
  },
  {
   "cell_type": "code",
   "execution_count": 4,
   "id": "dc6c9d96",
   "metadata": {},
   "outputs": [
    {
     "data": {
      "text/plain": [
       "<matplotlib.collections.PathCollection at 0x240e9a19cd0>"
      ]
     },
     "execution_count": 4,
     "metadata": {},
     "output_type": "execute_result"
    },
    {
     "data": {
      "image/png": "[encoded data removed]",
      "text/plain": [
       "<Figure size 432x288 with 1 Axes>"
      ]
     },
     "metadata": {
      "needs_background": "light"
     },
     "output_type": "display_data"
    }
   ],
   "source": [
    "# Create features\n",
    "X = np.array([-7., -4, -1, 2, 5, 8, 11, 14])\n",
    "\n",
    "# Create labels\n",
    "y = np.array([3., 6, 9, 12, 15, 18, 21, 24])\n",
    "\n",
    "# Visualize it\n",
    "plt.scatter(X,y)"
   ]
  },
  {
   "cell_type": "code",
   "execution_count": 5,
   "id": "2e244a47",
   "metadata": {},
   "outputs": [
    {
     "data": {
      "text/plain": [
       "array([ 3.,  6.,  9., 12., 15., 18., 21., 24.])"
      ]
     },
     "execution_count": 5,
     "metadata": {},
     "output_type": "execute_result"
    }
   ],
   "source": [
    "X+10"
   ]
  },
  {
   "cell_type": "code",
   "execution_count": 6,
   "id": "fb87b2bc",
   "metadata": {},
   "outputs": [
    {
     "data": {
      "text/plain": [
       "array([ True,  True,  True,  True,  True,  True,  True,  True])"
      ]
     },
     "execution_count": 6,
     "metadata": {},
     "output_type": "execute_result"
    }
   ],
   "source": [
    "y == X+10"
   ]
  },
  {
   "cell_type": "code",
   "execution_count": 7,
   "id": "e18c377b",
   "metadata": {},
   "outputs": [
    {
     "data": {
      "text/plain": [
       "(TensorShape([8]), TensorShape([8]))"
      ]
     },
     "execution_count": 7,
     "metadata": {},
     "output_type": "execute_result"
    }
   ],
   "source": [
    "# Turning the NumPy arrays into tensors\n",
    "X = tf.constant(X)\n",
    "y = tf.constant(y)\n",
    "X.shape, y.shape"
   ]
  },
  {
   "cell_type": "code",
   "execution_count": 8,
   "id": "f4485d20",
   "metadata": {},
   "outputs": [
    {
     "data": {
      "text/plain": [
       "<tf.Tensor: shape=(8,), dtype=float64, numpy=array([-7., -4., -1.,  2.,  5.,  8., 11., 14.])>"
      ]
     },
     "execution_count": 8,
     "metadata": {},
     "output_type": "execute_result"
    }
   ],
   "source": [
    "X"
   ]
  },
  {
   "cell_type": "code",
   "execution_count": 9,
   "id": "5e0fe4a9",
   "metadata": {},
   "outputs": [
    {
     "data": {
      "text/plain": [
       "<tf.Tensor: shape=(8, 1), dtype=float64, numpy=\n",
       "array([[-7.],\n",
       "       [-4.],\n",
       "       [-1.],\n",
       "       [ 2.],\n",
       "       [ 5.],\n",
       "       [ 8.],\n",
       "       [11.],\n",
       "       [14.]])>"
      ]
     },
     "execution_count": 9,
     "metadata": {},
     "output_type": "execute_result"
    }
   ],
   "source": [
    "# Expand the dimension of a tensor : https://www.geeksforgeeks.org/python-tensorflow-expand_dims/\n",
    "tf.expand_dims(X, axis=-1)"
   ]
  },
  {
   "cell_type": "code",
   "execution_count": null,
   "id": "f5304102",
   "metadata": {},
   "outputs": [],
   "source": []
  },
  {
   "cell_type": "markdown",
   "id": "612e394c",
   "metadata": {},
   "source": [
    "### Steps in modeling in TensorFlow\n",
    "\n",
    "1. **Creating the model** - define the input and output layers, as well as the hidden layers of a deep learning model.\n",
    "2. **Compiling the model** - define the `loss function` (the function which will tells our model how far it's from performing well), the `optimizer` (tells the model how to update its internal patterns to better its predictions) and the `evaluation metrics` (human interpretable values for how well the model is doing).\n",
    "3. **Fitting the model** - letting the model try to find patterns between features and labels.\n",
    "4. **Evaluation** - Evaluate the model on the test data (in order to know how reliable are the model's predictions)\n",
    "\n",
    "\n",
    "In TensorFlow, there are two main way of creating a model :\n",
    "* Sequential API\n",
    "* Functional API"
   ]
  },
  {
   "cell_type": "code",
   "execution_count": 10,
   "id": "6f72d001",
   "metadata": {},
   "outputs": [
    {
     "name": "stdout",
     "output_type": "stream",
     "text": [
      "Epoch 1/5\n",
      "1/1 [==============================] - 1s 577ms/step - loss: 13.9152 - mae: 13.9152\n",
      "Epoch 2/5\n",
      "1/1 [==============================] - 0s 2ms/step - loss: 13.7827 - mae: 13.7827\n",
      "Epoch 3/5\n",
      "1/1 [==============================] - 0s 3ms/step - loss: 13.6502 - mae: 13.6502\n",
      "Epoch 4/5\n",
      "1/1 [==============================] - 0s 5ms/step - loss: 13.5177 - mae: 13.5177\n",
      "Epoch 5/5\n",
      "1/1 [==============================] - 0s 4ms/step - loss: 13.3852 - mae: 13.3852\n"
     ]
    },
    {
     "data": {
      "text/plain": [
       "<keras.callbacks.History at 0x240ea3d9a30>"
      ]
     },
     "execution_count": 10,
     "metadata": {},
     "output_type": "execute_result"
    }
   ],
   "source": [
    "# Set a random seed (in order to have some reproducibility)\n",
    "tf.random.set_seed(42)\n",
    "\n",
    "# 1. Create a model using the Sequential API\n",
    "model = tf.keras.Sequential([\n",
    "    tf.keras.layers.Dense(1)\n",
    "])\n",
    "\n",
    "# 2. Compile the model\n",
    "model.compile(loss=tf.keras.losses.mae, # MAE : Mean Absolute Error\n",
    "              optimizer=tf.keras.optimizers.SGD(), # SGD : Stochastic Gradient Descent\n",
    "              metrics=[\"mae\"]\n",
    "             )\n",
    "\n",
    "# 3. Fit the model \n",
    "model.fit(tf.expand_dims(X, axis=-1),y, epochs=5)\n"
   ]
  },
  {
   "cell_type": "markdown",
   "id": "2f2af8b2",
   "metadata": {},
   "source": [
    "**Note**  \n",
    "A lot of function in TensorFlow, if they have a shortcut name (e.g. mae or SGD), can be replaced by a string variable to define the fact it is wished to used that specific function. For e.g., the step 2 in the above cell( Compile the model), can also be written as such : \n",
    "\n",
    "model.compile(loss=\"mae\",  \n",
    "              optimizer=\"sgd\",  \n",
    "              metrics=[\"mae\"]  \n",
    "             )"
   ]
  },
  {
   "cell_type": "code",
   "execution_count": 11,
   "id": "9949ba02",
   "metadata": {},
   "outputs": [
    {
     "data": {
      "text/plain": [
       "(<tf.Tensor: shape=(8,), dtype=float64, numpy=array([-7., -4., -1.,  2.,  5.,  8., 11., 14.])>,\n",
       " <tf.Tensor: shape=(8,), dtype=float64, numpy=array([ 3.,  6.,  9., 12., 15., 18., 21., 24.])>)"
      ]
     },
     "execution_count": 11,
     "metadata": {},
     "output_type": "execute_result"
    }
   ],
   "source": [
    "# Check out X and y\n",
    "X, y"
   ]
  },
  {
   "cell_type": "code",
   "execution_count": 12,
   "id": "d35d1023",
   "metadata": {},
   "outputs": [
    {
     "name": "stdout",
     "output_type": "stream",
     "text": [
      "1/1 [==============================] - 0s 155ms/step\n"
     ]
    },
    {
     "data": {
      "text/plain": [
       "array([[1.0084472]], dtype=float32)"
      ]
     },
     "execution_count": 12,
     "metadata": {},
     "output_type": "execute_result"
    }
   ],
   "source": [
    "# Trying to make a prediction using our model\n",
    "model.predict([17.])"
   ]
  },
  {
   "cell_type": "markdown",
   "id": "9eefcc9e",
   "metadata": {},
   "source": [
    "The predicted value (y) should be 27 when X is 17. But we got -13.89, which is pretty far off. This is no surprising because the current MAE of our model is 17.3050, which means : on average, our model predict something that is 17.3050 points off where is should be (MAE)."
   ]
  },
  {
   "cell_type": "code",
   "execution_count": 13,
   "id": "27107469",
   "metadata": {},
   "outputs": [
    {
     "name": "stdout",
     "output_type": "stream",
     "text": [
      "1/1 [==============================] - 0s 42ms/step\n"
     ]
    },
    {
     "data": {
      "text/plain": [
       "array([[1.0084472]], dtype=float32)"
      ]
     },
     "execution_count": 13,
     "metadata": {},
     "output_type": "execute_result"
    }
   ],
   "source": [
    "y_pred = model.predict([17.])\n",
    "y_pred"
   ]
  },
  {
   "cell_type": "code",
   "execution_count": 14,
   "id": "65c6bb1b",
   "metadata": {},
   "outputs": [
    {
     "data": {
      "text/plain": [
       "array([[18.313448]], dtype=float32)"
      ]
     },
     "execution_count": 14,
     "metadata": {},
     "output_type": "execute_result"
    }
   ],
   "source": [
    "y_pred + 17.3050"
   ]
  },
  {
   "cell_type": "markdown",
   "id": "a759cf25",
   "metadata": {},
   "source": [
    "The value is still off, our model is performing poorly.   \n",
    "Now, we need to improve our model."
   ]
  },
  {
   "cell_type": "code",
   "execution_count": null,
   "id": "7eecc354",
   "metadata": {},
   "outputs": [],
   "source": []
  },
  {
   "cell_type": "markdown",
   "id": "f47b7fed",
   "metadata": {},
   "source": [
    "### Improving our model\n",
    "\n",
    "We can improve our model by altering the steps we took to create a model.  \n",
    "\n",
    "1. **Creating a model** - Here, we might :\n",
    "* add more layers, \n",
    "* increase the number of hidden units (also called neurons) within each of th hidden layers, \n",
    "* change the activation function of each layer\n",
    "\n",
    "2. **Compiling the model** - Here, we might :\n",
    "* change the optimization function,\n",
    "* or perhaps changes the **learning rate** of the optimization function\n",
    "\n",
    "3. **Fitting the model** - Here, we might :\n",
    "* fit the model for more epochs (make it train for longer)\n",
    "* fit the model on more data (give the model more examples to learn from)"
   ]
  },
  {
   "cell_type": "code",
   "execution_count": 15,
   "id": "0900b32c",
   "metadata": {},
   "outputs": [
    {
     "name": "stdout",
     "output_type": "stream",
     "text": [
      "Epoch 1/100\n",
      "1/1 [==============================] - 0s 399ms/step - loss: 13.3813 - mae: 13.3813\n",
      "Epoch 2/100\n",
      "1/1 [==============================] - 0s 4ms/step - loss: 12.8662 - mae: 12.8662\n",
      "Epoch 3/100\n",
      "1/1 [==============================] - 0s 5ms/step - loss: 12.3553 - mae: 12.3553\n",
      "Epoch 4/100\n",
      "1/1 [==============================] - 0s 5ms/step - loss: 11.8366 - mae: 11.8366\n",
      "Epoch 5/100\n",
      "1/1 [==============================] - 0s 4ms/step - loss: 11.3074 - mae: 11.3074\n",
      "Epoch 6/100\n",
      "1/1 [==============================] - 0s 3ms/step - loss: 10.7648 - mae: 10.7648\n",
      "Epoch 7/100\n",
      "1/1 [==============================] - 0s 4ms/step - loss: 10.2678 - mae: 10.2678\n",
      "Epoch 8/100\n",
      "1/1 [==============================] - 0s 4ms/step - loss: 9.7451 - mae: 9.7451\n",
      "Epoch 9/100\n",
      "1/1 [==============================] - 0s 4ms/step - loss: 9.1983 - mae: 9.1983\n",
      "Epoch 10/100\n",
      "1/1 [==============================] - 0s 5ms/step - loss: 8.6200 - mae: 8.6200\n",
      "Epoch 11/100\n",
      "1/1 [==============================] - 0s 4ms/step - loss: 8.0022 - mae: 8.0022\n",
      "Epoch 12/100\n",
      "1/1 [==============================] - 0s 4ms/step - loss: 7.3390 - mae: 7.3390\n",
      "Epoch 13/100\n",
      "1/1 [==============================] - 0s 5ms/step - loss: 6.6239 - mae: 6.6239\n",
      "Epoch 14/100\n",
      "1/1 [==============================] - 0s 4ms/step - loss: 5.8501 - mae: 5.8501\n",
      "Epoch 15/100\n",
      "1/1 [==============================] - 0s 3ms/step - loss: 5.0112 - mae: 5.0112\n",
      "Epoch 16/100\n",
      "1/1 [==============================] - 0s 4ms/step - loss: 4.1722 - mae: 4.1722\n",
      "Epoch 17/100\n",
      "1/1 [==============================] - 0s 4ms/step - loss: 4.0779 - mae: 4.0779\n",
      "Epoch 18/100\n",
      "1/1 [==============================] - 0s 4ms/step - loss: 3.9811 - mae: 3.9811\n",
      "Epoch 19/100\n",
      "1/1 [==============================] - 0s 5ms/step - loss: 3.9156 - mae: 3.9156\n",
      "Epoch 20/100\n",
      "1/1 [==============================] - 0s 4ms/step - loss: 3.9558 - mae: 3.9558\n",
      "Epoch 21/100\n",
      "1/1 [==============================] - 0s 3ms/step - loss: 3.9219 - mae: 3.9219\n",
      "Epoch 22/100\n",
      "1/1 [==============================] - 0s 4ms/step - loss: 3.9302 - mae: 3.9302\n",
      "Epoch 23/100\n",
      "1/1 [==============================] - 0s 4ms/step - loss: 3.9285 - mae: 3.9285\n",
      "Epoch 24/100\n",
      "1/1 [==============================] - 0s 4ms/step - loss: 3.9113 - mae: 3.9113\n",
      "Epoch 25/100\n",
      "1/1 [==============================] - 0s 4ms/step - loss: 3.9442 - mae: 3.9442\n",
      "Epoch 26/100\n",
      "1/1 [==============================] - 0s 3ms/step - loss: 3.8869 - mae: 3.8869\n",
      "Epoch 27/100\n",
      "1/1 [==============================] - 0s 4ms/step - loss: 3.9509 - mae: 3.9509\n",
      "Epoch 28/100\n",
      "1/1 [==============================] - 0s 5ms/step - loss: 3.8832 - mae: 3.8832\n",
      "Epoch 29/100\n",
      "1/1 [==============================] - 0s 3ms/step - loss: 3.9344 - mae: 3.9344\n",
      "Epoch 30/100\n",
      "1/1 [==============================] - 0s 4ms/step - loss: 3.8899 - mae: 3.8899\n",
      "Epoch 31/100\n",
      "1/1 [==============================] - 0s 5ms/step - loss: 3.9086 - mae: 3.9086\n",
      "Epoch 32/100\n",
      "1/1 [==============================] - 0s 3ms/step - loss: 3.9018 - mae: 3.9018\n",
      "Epoch 33/100\n",
      "1/1 [==============================] - 0s 3ms/step - loss: 3.8909 - mae: 3.8909\n",
      "Epoch 34/100\n",
      "1/1 [==============================] - 0s 3ms/step - loss: 3.9125 - mae: 3.9125\n",
      "Epoch 35/100\n",
      "1/1 [==============================] - 0s 5ms/step - loss: 3.8646 - mae: 3.8646\n",
      "Epoch 36/100\n",
      "1/1 [==============================] - 0s 3ms/step - loss: 3.9195 - mae: 3.9195\n",
      "Epoch 37/100\n",
      "1/1 [==============================] - 0s 3ms/step - loss: 3.8521 - mae: 3.8521\n",
      "Epoch 38/100\n",
      "1/1 [==============================] - 0s 5ms/step - loss: 3.9117 - mae: 3.9117\n",
      "Epoch 39/100\n",
      "1/1 [==============================] - 0s 4ms/step - loss: 3.8590 - mae: 3.8590\n",
      "Epoch 40/100\n",
      "1/1 [==============================] - 0s 3ms/step - loss: 3.8897 - mae: 3.8897\n",
      "Epoch 41/100\n",
      "1/1 [==============================] - 0s 5ms/step - loss: 3.8750 - mae: 3.8750\n",
      "Epoch 42/100\n",
      "1/1 [==============================] - 0s 3ms/step - loss: 3.8676 - mae: 3.8676\n",
      "Epoch 43/100\n",
      "1/1 [==============================] - 0s 3ms/step - loss: 3.8820 - mae: 3.8820\n",
      "Epoch 44/100\n",
      "1/1 [==============================] - 0s 3ms/step - loss: 3.8410 - mae: 3.8410\n",
      "Epoch 45/100\n",
      "1/1 [==============================] - 0s 5ms/step - loss: 3.8892 - mae: 3.8892\n",
      "Epoch 46/100\n",
      "1/1 [==============================] - 0s 3ms/step - loss: 3.8223 - mae: 3.8223\n",
      "Epoch 47/100\n",
      "1/1 [==============================] - 0s 4ms/step - loss: 3.8876 - mae: 3.8876\n",
      "Epoch 48/100\n",
      "1/1 [==============================] - 0s 4ms/step - loss: 3.8318 - mae: 3.8318\n",
      "Epoch 49/100\n",
      "1/1 [==============================] - 0s 3ms/step - loss: 3.8695 - mae: 3.8695\n",
      "Epoch 50/100\n",
      "1/1 [==============================] - 0s 2ms/step - loss: 3.8456 - mae: 3.8456\n",
      "Epoch 51/100\n",
      "1/1 [==============================] - 0s 4ms/step - loss: 3.8428 - mae: 3.8428\n",
      "Epoch 52/100\n",
      "1/1 [==============================] - 0s 3ms/step - loss: 3.8528 - mae: 3.8528\n",
      "Epoch 53/100\n",
      "1/1 [==============================] - 0s 3ms/step - loss: 3.8160 - mae: 3.8160\n",
      "Epoch 54/100\n",
      "1/1 [==============================] - 0s 3ms/step - loss: 3.8602 - mae: 3.8602\n",
      "Epoch 55/100\n",
      "1/1 [==============================] - 0s 3ms/step - loss: 3.7936 - mae: 3.7936\n",
      "Epoch 56/100\n",
      "1/1 [==============================] - 0s 4ms/step - loss: 3.8633 - mae: 3.8633\n",
      "Epoch 57/100\n",
      "1/1 [==============================] - 0s 4ms/step - loss: 3.8099 - mae: 3.8099\n",
      "Epoch 58/100\n",
      "1/1 [==============================] - 0s 5ms/step - loss: 3.8437 - mae: 3.8437\n",
      "Epoch 59/100\n",
      "1/1 [==============================] - 0s 5ms/step - loss: 3.8172 - mae: 3.8172\n",
      "Epoch 60/100\n",
      "1/1 [==============================] - 0s 5ms/step - loss: 3.8167 - mae: 3.8167\n",
      "Epoch 61/100\n",
      "1/1 [==============================] - 0s 5ms/step - loss: 3.8247 - mae: 3.8247\n",
      "Epoch 62/100\n",
      "1/1 [==============================] - 0s 3ms/step - loss: 3.7897 - mae: 3.7897\n",
      "Epoch 63/100\n",
      "1/1 [==============================] - 0s 4ms/step - loss: 3.8323 - mae: 3.8323\n",
      "Epoch 64/100\n",
      "1/1 [==============================] - 0s 5ms/step - loss: 3.7661 - mae: 3.7661\n",
      "Epoch 65/100\n",
      "1/1 [==============================] - 0s 3ms/step - loss: 3.8433 - mae: 3.8433\n",
      "Epoch 66/100\n",
      "1/1 [==============================] - 0s 5ms/step - loss: 3.7825 - mae: 3.7825\n",
      "Epoch 67/100\n",
      "1/1 [==============================] - 0s 3ms/step - loss: 3.8167 - mae: 3.8167\n",
      "Epoch 68/100\n",
      "1/1 [==============================] - 0s 4ms/step - loss: 3.7900 - mae: 3.7900\n",
      "Epoch 69/100\n",
      "1/1 [==============================] - 0s 4ms/step - loss: 3.7894 - mae: 3.7894\n",
      "Epoch 70/100\n",
      "1/1 [==============================] - 0s 4ms/step - loss: 3.7977 - mae: 3.7977\n",
      "Epoch 71/100\n",
      "1/1 [==============================] - 0s 6ms/step - loss: 3.7621 - mae: 3.7621\n",
      "Epoch 72/100\n",
      "1/1 [==============================] - 0s 3ms/step - loss: 3.8055 - mae: 3.8055\n",
      "Epoch 73/100\n",
      "1/1 [==============================] - 0s 4ms/step - loss: 3.7453 - mae: 3.7453\n",
      "Epoch 74/100\n",
      "1/1 [==============================] - 0s 4ms/step - loss: 3.8157 - mae: 3.8157\n",
      "Epoch 75/100\n",
      "1/1 [==============================] - 0s 4ms/step - loss: 3.7561 - mae: 3.7561\n",
      "Epoch 76/100\n",
      "1/1 [==============================] - 0s 5ms/step - loss: 3.7883 - mae: 3.7883\n",
      "Epoch 77/100\n",
      "1/1 [==============================] - 0s 4ms/step - loss: 3.7638 - mae: 3.7638\n",
      "Epoch 78/100\n",
      "1/1 [==============================] - 0s 5ms/step - loss: 3.7608 - mae: 3.7608\n",
      "Epoch 79/100\n",
      "1/1 [==============================] - 0s 4ms/step - loss: 3.7717 - mae: 3.7717\n",
      "Epoch 80/100\n",
      "1/1 [==============================] - 0s 3ms/step - loss: 3.7331 - mae: 3.7331\n",
      "Epoch 81/100\n",
      "1/1 [==============================] - 0s 4ms/step - loss: 3.7832 - mae: 3.7832\n",
      "Epoch 82/100\n",
      "1/1 [==============================] - 0s 3ms/step - loss: 3.7229 - mae: 3.7229\n",
      "Epoch 83/100\n",
      "1/1 [==============================] - 0s 4ms/step - loss: 3.7864 - mae: 3.7864\n",
      "Epoch 84/100\n",
      "1/1 [==============================] - 0s 4ms/step - loss: 3.7307 - mae: 3.7307\n",
      "Epoch 85/100\n",
      "1/1 [==============================] - 0s 3ms/step - loss: 3.7586 - mae: 3.7586\n",
      "Epoch 86/100\n",
      "1/1 [==============================] - 0s 3ms/step - loss: 3.7386 - mae: 3.7386\n",
      "Epoch 87/100\n",
      "1/1 [==============================] - 0s 3ms/step - loss: 3.7308 - mae: 3.7308\n",
      "Epoch 88/100\n",
      "1/1 [==============================] - 0s 5ms/step - loss: 3.7468 - mae: 3.7468\n",
      "Epoch 89/100\n"
     ]
    },
    {
     "name": "stdout",
     "output_type": "stream",
     "text": [
      "1/1 [==============================] - 0s 5ms/step - loss: 3.7046 - mae: 3.7046\n",
      "Epoch 90/100\n",
      "1/1 [==============================] - 0s 2ms/step - loss: 3.7639 - mae: 3.7639\n",
      "Epoch 91/100\n",
      "1/1 [==============================] - 0s 3ms/step - loss: 3.6983 - mae: 3.6983\n",
      "Epoch 92/100\n",
      "1/1 [==============================] - 0s 6ms/step - loss: 3.7556 - mae: 3.7556\n",
      "Epoch 93/100\n",
      "1/1 [==============================] - 0s 6ms/step - loss: 3.7063 - mae: 3.7063\n",
      "Epoch 94/100\n",
      "1/1 [==============================] - 0s 5ms/step - loss: 3.7275 - mae: 3.7275\n",
      "Epoch 95/100\n",
      "1/1 [==============================] - 0s 5ms/step - loss: 3.7145 - mae: 3.7145\n",
      "Epoch 96/100\n",
      "1/1 [==============================] - 0s 5ms/step - loss: 3.6994 - mae: 3.6994\n",
      "Epoch 97/100\n",
      "1/1 [==============================] - 0s 6ms/step - loss: 3.7228 - mae: 3.7228\n",
      "Epoch 98/100\n",
      "1/1 [==============================] - 0s 5ms/step - loss: 3.6793 - mae: 3.6793\n",
      "Epoch 99/100\n",
      "1/1 [==============================] - 0s 5ms/step - loss: 3.7401 - mae: 3.7401\n",
      "Epoch 100/100\n",
      "1/1 [==============================] - 0s 6ms/step - loss: 3.6747 - mae: 3.6747\n"
     ]
    },
    {
     "data": {
      "text/plain": [
       "<keras.callbacks.History at 0x240ea47f730>"
      ]
     },
     "execution_count": 15,
     "metadata": {},
     "output_type": "execute_result"
    }
   ],
   "source": [
    "# 1st experiment : add a hidden layer, and more epochs, as an improvement to the model\n",
    "\n",
    "# Set a random seed (in order to have some reproducibility)\n",
    "tf.random.set_seed(42)\n",
    "\n",
    "# 1. Create a model using the Sequential API\n",
    "model = tf.keras.Sequential([\n",
    "    \n",
    "    # Adding more hidden layers, more neurons, and activation function \n",
    "    tf.keras.layers.Dense(100, activation=\"relu\"),\n",
    "    \n",
    "    tf.keras.layers.Dense(1)\n",
    "])\n",
    "\n",
    "# 2. Compile the model\n",
    "model.compile(loss=tf.keras.losses.mae, # MAE : Mean Absolute Error\n",
    "              optimizer=tf.keras.optimizers.SGD(),\n",
    "              metrics=[\"mae\"]\n",
    "             )\n",
    "\n",
    "# 3. Fit the model \n",
    "model.fit(tf.expand_dims(X, axis=-1),y, epochs=100) # Increasing the number of epochs\n"
   ]
  },
  {
   "cell_type": "markdown",
   "id": "ac7a663c",
   "metadata": {},
   "source": [
    "The 1st experiment has resulted in a good improvement of the model"
   ]
  },
  {
   "cell_type": "code",
   "execution_count": 16,
   "id": "debaf8ee",
   "metadata": {},
   "outputs": [
    {
     "name": "stdout",
     "output_type": "stream",
     "text": [
      "1/1 [==============================] - 0s 87ms/step\n"
     ]
    },
    {
     "data": {
      "text/plain": [
       "array([[31.234009]], dtype=float32)"
      ]
     },
     "execution_count": 16,
     "metadata": {},
     "output_type": "execute_result"
    }
   ],
   "source": [
    "# Check how the model's prediction has improved...\n",
    "model.predict([17.])"
   ]
  },
  {
   "cell_type": "code",
   "execution_count": null,
   "id": "edec4f02",
   "metadata": {},
   "outputs": [],
   "source": []
  },
  {
   "cell_type": "code",
   "execution_count": null,
   "id": "af2206a9",
   "metadata": {},
   "outputs": [],
   "source": []
  },
  {
   "cell_type": "code",
   "execution_count": 17,
   "id": "ab3f76fa",
   "metadata": {},
   "outputs": [
    {
     "name": "stdout",
     "output_type": "stream",
     "text": [
      "Epoch 1/300\n"
     ]
    },
    {
     "name": "stderr",
     "output_type": "stream",
     "text": [
      "C:\\ProgramData\\Anaconda3\\lib\\site-packages\\keras\\optimizers\\optimizer_v2\\adam.py:114: UserWarning: The `lr` argument is deprecated, use `learning_rate` instead.\n",
      "  super().__init__(name, **kwargs)\n"
     ]
    },
    {
     "name": "stdout",
     "output_type": "stream",
     "text": [
      "1/1 [==============================] - 1s 596ms/step - loss: 13.4769 - mae: 13.4769\n",
      "Epoch 2/300\n",
      "1/1 [==============================] - 0s 4ms/step - loss: 13.4484 - mae: 13.4484\n",
      "Epoch 3/300\n",
      "1/1 [==============================] - 0s 3ms/step - loss: 13.4201 - mae: 13.4201\n",
      "Epoch 4/300\n",
      "1/1 [==============================] - 0s 5ms/step - loss: 13.3929 - mae: 13.3929\n",
      "Epoch 5/300\n",
      "1/1 [==============================] - 0s 4ms/step - loss: 13.3659 - mae: 13.3659\n",
      "Epoch 6/300\n",
      "1/1 [==============================] - 0s 4ms/step - loss: 13.3388 - mae: 13.3388\n",
      "Epoch 7/300\n",
      "1/1 [==============================] - 0s 3ms/step - loss: 13.3117 - mae: 13.3117\n",
      "Epoch 8/300\n",
      "1/1 [==============================] - 0s 4ms/step - loss: 13.2845 - mae: 13.2845\n",
      "Epoch 9/300\n",
      "1/1 [==============================] - 0s 4ms/step - loss: 13.2574 - mae: 13.2574\n",
      "Epoch 10/300\n",
      "1/1 [==============================] - 0s 3ms/step - loss: 13.2302 - mae: 13.2302\n",
      "Epoch 11/300\n",
      "1/1 [==============================] - 0s 3ms/step - loss: 13.2030 - mae: 13.2030\n",
      "Epoch 12/300\n",
      "1/1 [==============================] - 0s 6ms/step - loss: 13.1756 - mae: 13.1756\n",
      "Epoch 13/300\n",
      "1/1 [==============================] - 0s 4ms/step - loss: 13.1483 - mae: 13.1483\n",
      "Epoch 14/300\n",
      "1/1 [==============================] - 0s 4ms/step - loss: 13.1208 - mae: 13.1208\n",
      "Epoch 15/300\n",
      "1/1 [==============================] - 0s 5ms/step - loss: 13.0934 - mae: 13.0934\n",
      "Epoch 16/300\n",
      "1/1 [==============================] - 0s 3ms/step - loss: 13.0657 - mae: 13.0657\n",
      "Epoch 17/300\n",
      "1/1 [==============================] - 0s 3ms/step - loss: 13.0379 - mae: 13.0379\n",
      "Epoch 18/300\n",
      "1/1 [==============================] - 0s 4ms/step - loss: 13.0101 - mae: 13.0101\n",
      "Epoch 19/300\n",
      "1/1 [==============================] - 0s 4ms/step - loss: 12.9822 - mae: 12.9822\n",
      "Epoch 20/300\n",
      "1/1 [==============================] - 0s 4ms/step - loss: 12.9543 - mae: 12.9543\n",
      "Epoch 21/300\n",
      "1/1 [==============================] - 0s 4ms/step - loss: 12.9267 - mae: 12.9267\n",
      "Epoch 22/300\n",
      "1/1 [==============================] - 0s 4ms/step - loss: 12.8992 - mae: 12.8992\n",
      "Epoch 23/300\n",
      "1/1 [==============================] - 0s 5ms/step - loss: 12.8712 - mae: 12.8712\n",
      "Epoch 24/300\n",
      "1/1 [==============================] - 0s 4ms/step - loss: 12.8430 - mae: 12.8430\n",
      "Epoch 25/300\n",
      "1/1 [==============================] - 0s 4ms/step - loss: 12.8148 - mae: 12.8148\n",
      "Epoch 26/300\n",
      "1/1 [==============================] - 0s 4ms/step - loss: 12.7864 - mae: 12.7864\n",
      "Epoch 27/300\n",
      "1/1 [==============================] - 0s 3ms/step - loss: 12.7581 - mae: 12.7581\n",
      "Epoch 28/300\n",
      "1/1 [==============================] - 0s 5ms/step - loss: 12.7300 - mae: 12.7300\n",
      "Epoch 29/300\n",
      "1/1 [==============================] - 0s 4ms/step - loss: 12.7022 - mae: 12.7022\n",
      "Epoch 30/300\n",
      "1/1 [==============================] - 0s 4ms/step - loss: 12.6743 - mae: 12.6743\n",
      "Epoch 31/300\n",
      "1/1 [==============================] - 0s 6ms/step - loss: 12.6465 - mae: 12.6465\n",
      "Epoch 32/300\n",
      "1/1 [==============================] - 0s 4ms/step - loss: 12.6188 - mae: 12.6188\n",
      "Epoch 33/300\n",
      "1/1 [==============================] - 0s 5ms/step - loss: 12.5915 - mae: 12.5915\n",
      "Epoch 34/300\n",
      "1/1 [==============================] - 0s 2ms/step - loss: 12.5640 - mae: 12.5640\n",
      "Epoch 35/300\n",
      "1/1 [==============================] - 0s 3ms/step - loss: 12.5364 - mae: 12.5364\n",
      "Epoch 36/300\n",
      "1/1 [==============================] - 0s 4ms/step - loss: 12.5087 - mae: 12.5087\n",
      "Epoch 37/300\n",
      "1/1 [==============================] - 0s 3ms/step - loss: 12.4809 - mae: 12.4809\n",
      "Epoch 38/300\n",
      "1/1 [==============================] - 0s 2ms/step - loss: 12.4529 - mae: 12.4529\n",
      "Epoch 39/300\n",
      "1/1 [==============================] - 0s 3ms/step - loss: 12.4248 - mae: 12.4248\n",
      "Epoch 40/300\n",
      "1/1 [==============================] - 0s 3ms/step - loss: 12.3965 - mae: 12.3965\n",
      "Epoch 41/300\n",
      "1/1 [==============================] - 0s 4ms/step - loss: 12.3680 - mae: 12.3680\n",
      "Epoch 42/300\n",
      "1/1 [==============================] - 0s 3ms/step - loss: 12.3395 - mae: 12.3395\n",
      "Epoch 43/300\n",
      "1/1 [==============================] - 0s 3ms/step - loss: 12.3107 - mae: 12.3107\n",
      "Epoch 44/300\n",
      "1/1 [==============================] - 0s 4ms/step - loss: 12.2821 - mae: 12.2821\n",
      "Epoch 45/300\n",
      "1/1 [==============================] - 0s 3ms/step - loss: 12.2533 - mae: 12.2533\n",
      "Epoch 46/300\n",
      "1/1 [==============================] - 0s 3ms/step - loss: 12.2248 - mae: 12.2248\n",
      "Epoch 47/300\n",
      "1/1 [==============================] - 0s 2ms/step - loss: 12.1961 - mae: 12.1961\n",
      "Epoch 48/300\n",
      "1/1 [==============================] - 0s 6ms/step - loss: 12.1673 - mae: 12.1673\n",
      "Epoch 49/300\n",
      "1/1 [==============================] - 0s 4ms/step - loss: 12.1382 - mae: 12.1382\n",
      "Epoch 50/300\n",
      "1/1 [==============================] - 0s 4ms/step - loss: 12.1089 - mae: 12.1089\n",
      "Epoch 51/300\n",
      "1/1 [==============================] - 0s 4ms/step - loss: 12.0795 - mae: 12.0795\n",
      "Epoch 52/300\n",
      "1/1 [==============================] - 0s 4ms/step - loss: 12.0500 - mae: 12.0500\n",
      "Epoch 53/300\n",
      "1/1 [==============================] - 0s 3ms/step - loss: 12.0204 - mae: 12.0204\n",
      "Epoch 54/300\n",
      "1/1 [==============================] - 0s 4ms/step - loss: 11.9906 - mae: 11.9906\n",
      "Epoch 55/300\n",
      "1/1 [==============================] - 0s 3ms/step - loss: 11.9608 - mae: 11.9608\n",
      "Epoch 56/300\n",
      "1/1 [==============================] - 0s 3ms/step - loss: 11.9313 - mae: 11.9313\n",
      "Epoch 57/300\n",
      "1/1 [==============================] - 0s 3ms/step - loss: 11.9022 - mae: 11.9022\n",
      "Epoch 58/300\n",
      "1/1 [==============================] - 0s 5ms/step - loss: 11.8733 - mae: 11.8733\n",
      "Epoch 59/300\n",
      "1/1 [==============================] - 0s 3ms/step - loss: 11.8443 - mae: 11.8443\n",
      "Epoch 60/300\n",
      "1/1 [==============================] - 0s 4ms/step - loss: 11.8150 - mae: 11.8150\n",
      "Epoch 61/300\n",
      "1/1 [==============================] - 0s 3ms/step - loss: 11.7854 - mae: 11.7854\n",
      "Epoch 62/300\n",
      "1/1 [==============================] - 0s 4ms/step - loss: 11.7561 - mae: 11.7561\n",
      "Epoch 63/300\n",
      "1/1 [==============================] - 0s 4ms/step - loss: 11.7274 - mae: 11.7274\n",
      "Epoch 64/300\n",
      "1/1 [==============================] - 0s 4ms/step - loss: 11.6984 - mae: 11.6984\n",
      "Epoch 65/300\n",
      "1/1 [==============================] - 0s 4ms/step - loss: 11.6691 - mae: 11.6691\n",
      "Epoch 66/300\n",
      "1/1 [==============================] - 0s 3ms/step - loss: 11.6396 - mae: 11.6396\n",
      "Epoch 67/300\n",
      "1/1 [==============================] - 0s 3ms/step - loss: 11.6099 - mae: 11.6099\n",
      "Epoch 68/300\n",
      "1/1 [==============================] - 0s 3ms/step - loss: 11.5909 - mae: 11.5909\n",
      "Epoch 69/300\n",
      "1/1 [==============================] - 0s 3ms/step - loss: 11.5717 - mae: 11.5717\n",
      "Epoch 70/300\n",
      "1/1 [==============================] - 0s 4ms/step - loss: 11.5522 - mae: 11.5522\n",
      "Epoch 71/300\n",
      "1/1 [==============================] - 0s 4ms/step - loss: 11.5325 - mae: 11.5325\n",
      "Epoch 72/300\n",
      "1/1 [==============================] - 0s 4ms/step - loss: 11.5126 - mae: 11.5126\n",
      "Epoch 73/300\n",
      "1/1 [==============================] - 0s 3ms/step - loss: 11.4925 - mae: 11.4925\n",
      "Epoch 74/300\n",
      "1/1 [==============================] - 0s 4ms/step - loss: 11.4721 - mae: 11.4721\n",
      "Epoch 75/300\n",
      "1/1 [==============================] - 0s 3ms/step - loss: 11.4516 - mae: 11.4516\n",
      "Epoch 76/300\n",
      "1/1 [==============================] - 0s 2ms/step - loss: 11.4307 - mae: 11.4307\n",
      "Epoch 77/300\n",
      "1/1 [==============================] - 0s 3ms/step - loss: 11.4097 - mae: 11.4097\n",
      "Epoch 78/300\n",
      "1/1 [==============================] - 0s 3ms/step - loss: 11.3884 - mae: 11.3884\n",
      "Epoch 79/300\n",
      "1/1 [==============================] - 0s 3ms/step - loss: 11.3669 - mae: 11.3669\n",
      "Epoch 80/300\n",
      "1/1 [==============================] - 0s 3ms/step - loss: 11.3452 - mae: 11.3452\n",
      "Epoch 81/300\n",
      "1/1 [==============================] - 0s 4ms/step - loss: 11.3232 - mae: 11.3232\n",
      "Epoch 82/300\n",
      "1/1 [==============================] - 0s 4ms/step - loss: 11.3011 - mae: 11.3011\n",
      "Epoch 83/300\n",
      "1/1 [==============================] - 0s 6ms/step - loss: 11.2788 - mae: 11.2788\n",
      "Epoch 84/300\n",
      "1/1 [==============================] - 0s 5ms/step - loss: 11.2562 - mae: 11.2562\n",
      "Epoch 85/300\n",
      "1/1 [==============================] - 0s 5ms/step - loss: 11.2333 - mae: 11.2333\n",
      "Epoch 86/300\n",
      "1/1 [==============================] - 0s 5ms/step - loss: 11.2101 - mae: 11.2101\n",
      "Epoch 87/300\n"
     ]
    },
    {
     "name": "stdout",
     "output_type": "stream",
     "text": [
      "1/1 [==============================] - 0s 3ms/step - loss: 11.1867 - mae: 11.1867\n",
      "Epoch 88/300\n",
      "1/1 [==============================] - 0s 3ms/step - loss: 11.1631 - mae: 11.1631\n",
      "Epoch 89/300\n",
      "1/1 [==============================] - 0s 5ms/step - loss: 11.1391 - mae: 11.1391\n",
      "Epoch 90/300\n",
      "1/1 [==============================] - 0s 4ms/step - loss: 11.1149 - mae: 11.1149\n",
      "Epoch 91/300\n",
      "1/1 [==============================] - 0s 3ms/step - loss: 11.0904 - mae: 11.0904\n",
      "Epoch 92/300\n",
      "1/1 [==============================] - 0s 3ms/step - loss: 11.0657 - mae: 11.0657\n",
      "Epoch 93/300\n",
      "1/1 [==============================] - 0s 4ms/step - loss: 11.0406 - mae: 11.0406\n",
      "Epoch 94/300\n",
      "1/1 [==============================] - 0s 4ms/step - loss: 11.0152 - mae: 11.0152\n",
      "Epoch 95/300\n",
      "1/1 [==============================] - 0s 3ms/step - loss: 10.9896 - mae: 10.9896\n",
      "Epoch 96/300\n",
      "1/1 [==============================] - 0s 5ms/step - loss: 10.9637 - mae: 10.9637\n",
      "Epoch 97/300\n",
      "1/1 [==============================] - 0s 5ms/step - loss: 10.9375 - mae: 10.9375\n",
      "Epoch 98/300\n",
      "1/1 [==============================] - 0s 5ms/step - loss: 10.9110 - mae: 10.9110\n",
      "Epoch 99/300\n",
      "1/1 [==============================] - 0s 4ms/step - loss: 10.8842 - mae: 10.8842\n",
      "Epoch 100/300\n",
      "1/1 [==============================] - 0s 4ms/step - loss: 10.8571 - mae: 10.8571\n",
      "Epoch 101/300\n",
      "1/1 [==============================] - 0s 5ms/step - loss: 10.8297 - mae: 10.8297\n",
      "Epoch 102/300\n",
      "1/1 [==============================] - 0s 4ms/step - loss: 10.8018 - mae: 10.8018\n",
      "Epoch 103/300\n",
      "1/1 [==============================] - 0s 5ms/step - loss: 10.7734 - mae: 10.7734\n",
      "Epoch 104/300\n",
      "1/1 [==============================] - 0s 6ms/step - loss: 10.7446 - mae: 10.7446\n",
      "Epoch 105/300\n",
      "1/1 [==============================] - 0s 4ms/step - loss: 10.7153 - mae: 10.7153\n",
      "Epoch 106/300\n",
      "1/1 [==============================] - 0s 5ms/step - loss: 10.6858 - mae: 10.6858\n",
      "Epoch 107/300\n",
      "1/1 [==============================] - 0s 5ms/step - loss: 10.6558 - mae: 10.6558\n",
      "Epoch 108/300\n",
      "1/1 [==============================] - 0s 6ms/step - loss: 10.6255 - mae: 10.6255\n",
      "Epoch 109/300\n",
      "1/1 [==============================] - 0s 6ms/step - loss: 10.5949 - mae: 10.5949\n",
      "Epoch 110/300\n",
      "1/1 [==============================] - 0s 5ms/step - loss: 10.5638 - mae: 10.5638\n",
      "Epoch 111/300\n",
      "1/1 [==============================] - 0s 4ms/step - loss: 10.5324 - mae: 10.5324\n",
      "Epoch 112/300\n",
      "1/1 [==============================] - 0s 5ms/step - loss: 10.5006 - mae: 10.5006\n",
      "Epoch 113/300\n",
      "1/1 [==============================] - 0s 7ms/step - loss: 10.4685 - mae: 10.4685\n",
      "Epoch 114/300\n",
      "1/1 [==============================] - 0s 4ms/step - loss: 10.4360 - mae: 10.4360\n",
      "Epoch 115/300\n",
      "1/1 [==============================] - 0s 6ms/step - loss: 10.4031 - mae: 10.4031\n",
      "Epoch 116/300\n",
      "1/1 [==============================] - 0s 5ms/step - loss: 10.3698 - mae: 10.3698\n",
      "Epoch 117/300\n",
      "1/1 [==============================] - 0s 7ms/step - loss: 10.3363 - mae: 10.3363\n",
      "Epoch 118/300\n",
      "1/1 [==============================] - 0s 4ms/step - loss: 10.3024 - mae: 10.3024\n",
      "Epoch 119/300\n",
      "1/1 [==============================] - 0s 12ms/step - loss: 10.2682 - mae: 10.2682\n",
      "Epoch 120/300\n",
      "1/1 [==============================] - 0s 5ms/step - loss: 10.2337 - mae: 10.2337\n",
      "Epoch 121/300\n",
      "1/1 [==============================] - 0s 4ms/step - loss: 10.1987 - mae: 10.1987\n",
      "Epoch 122/300\n",
      "1/1 [==============================] - 0s 5ms/step - loss: 10.1633 - mae: 10.1633\n",
      "Epoch 123/300\n",
      "1/1 [==============================] - 0s 4ms/step - loss: 10.1276 - mae: 10.1276\n",
      "Epoch 124/300\n",
      "1/1 [==============================] - 0s 4ms/step - loss: 10.0915 - mae: 10.0915\n",
      "Epoch 125/300\n",
      "1/1 [==============================] - 0s 4ms/step - loss: 10.0553 - mae: 10.0553\n",
      "Epoch 126/300\n",
      "1/1 [==============================] - 0s 5ms/step - loss: 10.0188 - mae: 10.0188\n",
      "Epoch 127/300\n",
      "1/1 [==============================] - 0s 4ms/step - loss: 9.9819 - mae: 9.9819\n",
      "Epoch 128/300\n",
      "1/1 [==============================] - 0s 5ms/step - loss: 9.9446 - mae: 9.9446\n",
      "Epoch 129/300\n",
      "1/1 [==============================] - 0s 6ms/step - loss: 9.9070 - mae: 9.9070\n",
      "Epoch 130/300\n",
      "1/1 [==============================] - 0s 5ms/step - loss: 9.8689 - mae: 9.8689\n",
      "Epoch 131/300\n",
      "1/1 [==============================] - 0s 4ms/step - loss: 9.8304 - mae: 9.8304\n",
      "Epoch 132/300\n",
      "1/1 [==============================] - 0s 4ms/step - loss: 9.7914 - mae: 9.7914\n",
      "Epoch 133/300\n",
      "1/1 [==============================] - 0s 5ms/step - loss: 9.7521 - mae: 9.7521\n",
      "Epoch 134/300\n",
      "1/1 [==============================] - 0s 5ms/step - loss: 9.7122 - mae: 9.7122\n",
      "Epoch 135/300\n",
      "1/1 [==============================] - 0s 5ms/step - loss: 9.6721 - mae: 9.6721\n",
      "Epoch 136/300\n",
      "1/1 [==============================] - 0s 5ms/step - loss: 9.6315 - mae: 9.6315\n",
      "Epoch 137/300\n",
      "1/1 [==============================] - 0s 5ms/step - loss: 9.5905 - mae: 9.5905\n",
      "Epoch 138/300\n",
      "1/1 [==============================] - 0s 6ms/step - loss: 9.5490 - mae: 9.5490\n",
      "Epoch 139/300\n",
      "1/1 [==============================] - 0s 6ms/step - loss: 9.5071 - mae: 9.5071\n",
      "Epoch 140/300\n",
      "1/1 [==============================] - 0s 6ms/step - loss: 9.4648 - mae: 9.4648\n",
      "Epoch 141/300\n",
      "1/1 [==============================] - 0s 3ms/step - loss: 9.4220 - mae: 9.4220\n",
      "Epoch 142/300\n",
      "1/1 [==============================] - 0s 5ms/step - loss: 9.3787 - mae: 9.3787\n",
      "Epoch 143/300\n",
      "1/1 [==============================] - 0s 4ms/step - loss: 9.3350 - mae: 9.3350\n",
      "Epoch 144/300\n",
      "1/1 [==============================] - 0s 5ms/step - loss: 9.2909 - mae: 9.2909\n",
      "Epoch 145/300\n",
      "1/1 [==============================] - 0s 6ms/step - loss: 9.2463 - mae: 9.2463\n",
      "Epoch 146/300\n",
      "1/1 [==============================] - 0s 5ms/step - loss: 9.2012 - mae: 9.2012\n",
      "Epoch 147/300\n",
      "1/1 [==============================] - 0s 8ms/step - loss: 9.1559 - mae: 9.1559\n",
      "Epoch 148/300\n",
      "1/1 [==============================] - 0s 5ms/step - loss: 9.1102 - mae: 9.1102\n",
      "Epoch 149/300\n",
      "1/1 [==============================] - 0s 6ms/step - loss: 9.0643 - mae: 9.0643\n",
      "Epoch 150/300\n",
      "1/1 [==============================] - 0s 4ms/step - loss: 9.0179 - mae: 9.0179\n",
      "Epoch 151/300\n",
      "1/1 [==============================] - 0s 4ms/step - loss: 8.9710 - mae: 8.9710\n",
      "Epoch 152/300\n",
      "1/1 [==============================] - 0s 4ms/step - loss: 8.9235 - mae: 8.9235\n",
      "Epoch 153/300\n",
      "1/1 [==============================] - 0s 3ms/step - loss: 8.8756 - mae: 8.8756\n",
      "Epoch 154/300\n",
      "1/1 [==============================] - 0s 6ms/step - loss: 8.8271 - mae: 8.8271\n",
      "Epoch 155/300\n",
      "1/1 [==============================] - 0s 7ms/step - loss: 8.7782 - mae: 8.7782\n",
      "Epoch 156/300\n",
      "1/1 [==============================] - 0s 3ms/step - loss: 8.7288 - mae: 8.7288\n",
      "Epoch 157/300\n",
      "1/1 [==============================] - 0s 6ms/step - loss: 8.6788 - mae: 8.6788\n",
      "Epoch 158/300\n",
      "1/1 [==============================] - 0s 4ms/step - loss: 8.6284 - mae: 8.6284\n",
      "Epoch 159/300\n",
      "1/1 [==============================] - 0s 8ms/step - loss: 8.5774 - mae: 8.5774\n",
      "Epoch 160/300\n",
      "1/1 [==============================] - 0s 5ms/step - loss: 8.5259 - mae: 8.5259\n",
      "Epoch 161/300\n",
      "1/1 [==============================] - 0s 6ms/step - loss: 8.4738 - mae: 8.4738\n",
      "Epoch 162/300\n",
      "1/1 [==============================] - 0s 4ms/step - loss: 8.4213 - mae: 8.4213\n",
      "Epoch 163/300\n",
      "1/1 [==============================] - 0s 5ms/step - loss: 8.3682 - mae: 8.3682\n",
      "Epoch 164/300\n",
      "1/1 [==============================] - 0s 5ms/step - loss: 8.3145 - mae: 8.3145\n",
      "Epoch 165/300\n",
      "1/1 [==============================] - 0s 4ms/step - loss: 8.2604 - mae: 8.2604\n",
      "Epoch 166/300\n",
      "1/1 [==============================] - 0s 5ms/step - loss: 8.2056 - mae: 8.2056\n",
      "Epoch 167/300\n",
      "1/1 [==============================] - 0s 5ms/step - loss: 8.1502 - mae: 8.1502\n",
      "Epoch 168/300\n",
      "1/1 [==============================] - 0s 5ms/step - loss: 8.0944 - mae: 8.0944\n",
      "Epoch 169/300\n",
      "1/1 [==============================] - 0s 4ms/step - loss: 8.0380 - mae: 8.0380\n",
      "Epoch 170/300\n",
      "1/1 [==============================] - 0s 5ms/step - loss: 7.9809 - mae: 7.9809\n",
      "Epoch 171/300\n",
      "1/1 [==============================] - 0s 5ms/step - loss: 7.9230 - mae: 7.9230\n",
      "Epoch 172/300\n",
      "1/1 [==============================] - 0s 4ms/step - loss: 7.8643 - mae: 7.8643\n",
      "Epoch 173/300\n"
     ]
    },
    {
     "name": "stdout",
     "output_type": "stream",
     "text": [
      "1/1 [==============================] - 0s 4ms/step - loss: 7.8049 - mae: 7.8049\n",
      "Epoch 174/300\n",
      "1/1 [==============================] - 0s 4ms/step - loss: 7.7449 - mae: 7.7449\n",
      "Epoch 175/300\n",
      "1/1 [==============================] - 0s 5ms/step - loss: 7.6842 - mae: 7.6842\n",
      "Epoch 176/300\n",
      "1/1 [==============================] - 0s 4ms/step - loss: 7.6229 - mae: 7.6229\n",
      "Epoch 177/300\n",
      "1/1 [==============================] - 0s 4ms/step - loss: 7.5610 - mae: 7.5610\n",
      "Epoch 178/300\n",
      "1/1 [==============================] - 0s 4ms/step - loss: 7.4985 - mae: 7.4985\n",
      "Epoch 179/300\n",
      "1/1 [==============================] - 0s 5ms/step - loss: 7.4355 - mae: 7.4355\n",
      "Epoch 180/300\n",
      "1/1 [==============================] - 0s 4ms/step - loss: 7.3721 - mae: 7.3721\n",
      "Epoch 181/300\n",
      "1/1 [==============================] - 0s 3ms/step - loss: 7.3080 - mae: 7.3080\n",
      "Epoch 182/300\n",
      "1/1 [==============================] - 0s 3ms/step - loss: 7.2434 - mae: 7.2434\n",
      "Epoch 183/300\n",
      "1/1 [==============================] - 0s 4ms/step - loss: 7.1781 - mae: 7.1781\n",
      "Epoch 184/300\n",
      "1/1 [==============================] - 0s 4ms/step - loss: 7.1122 - mae: 7.1122\n",
      "Epoch 185/300\n",
      "1/1 [==============================] - 0s 4ms/step - loss: 7.0457 - mae: 7.0457\n",
      "Epoch 186/300\n",
      "1/1 [==============================] - 0s 5ms/step - loss: 6.9786 - mae: 6.9786\n",
      "Epoch 187/300\n",
      "1/1 [==============================] - 0s 5ms/step - loss: 6.9108 - mae: 6.9108\n",
      "Epoch 188/300\n",
      "1/1 [==============================] - 0s 6ms/step - loss: 6.8424 - mae: 6.8424\n",
      "Epoch 189/300\n",
      "1/1 [==============================] - 0s 4ms/step - loss: 6.7734 - mae: 6.7734\n",
      "Epoch 190/300\n",
      "1/1 [==============================] - 0s 4ms/step - loss: 6.7039 - mae: 6.7039\n",
      "Epoch 191/300\n",
      "1/1 [==============================] - 0s 4ms/step - loss: 6.6339 - mae: 6.6339\n",
      "Epoch 192/300\n",
      "1/1 [==============================] - 0s 5ms/step - loss: 6.5637 - mae: 6.5637\n",
      "Epoch 193/300\n",
      "1/1 [==============================] - 0s 4ms/step - loss: 6.4930 - mae: 6.4930\n",
      "Epoch 194/300\n",
      "1/1 [==============================] - 0s 5ms/step - loss: 6.4215 - mae: 6.4215\n",
      "Epoch 195/300\n",
      "1/1 [==============================] - 0s 4ms/step - loss: 6.3494 - mae: 6.3494\n",
      "Epoch 196/300\n",
      "1/1 [==============================] - 0s 5ms/step - loss: 6.2766 - mae: 6.2766\n",
      "Epoch 197/300\n",
      "1/1 [==============================] - 0s 3ms/step - loss: 6.2031 - mae: 6.2031\n",
      "Epoch 198/300\n",
      "1/1 [==============================] - 0s 6ms/step - loss: 6.1290 - mae: 6.1290\n",
      "Epoch 199/300\n",
      "1/1 [==============================] - 0s 5ms/step - loss: 6.0541 - mae: 6.0541\n",
      "Epoch 200/300\n",
      "1/1 [==============================] - 0s 3ms/step - loss: 5.9786 - mae: 5.9786\n",
      "Epoch 201/300\n",
      "1/1 [==============================] - 0s 4ms/step - loss: 5.9024 - mae: 5.9024\n",
      "Epoch 202/300\n",
      "1/1 [==============================] - 0s 5ms/step - loss: 5.8258 - mae: 5.8258\n",
      "Epoch 203/300\n",
      "1/1 [==============================] - 0s 4ms/step - loss: 5.7488 - mae: 5.7488\n",
      "Epoch 204/300\n",
      "1/1 [==============================] - 0s 3ms/step - loss: 5.6722 - mae: 5.6722\n",
      "Epoch 205/300\n",
      "1/1 [==============================] - 0s 5ms/step - loss: 5.5949 - mae: 5.5949\n",
      "Epoch 206/300\n",
      "1/1 [==============================] - 0s 6ms/step - loss: 5.5171 - mae: 5.5171\n",
      "Epoch 207/300\n",
      "1/1 [==============================] - 0s 5ms/step - loss: 5.4390 - mae: 5.4390\n",
      "Epoch 208/300\n",
      "1/1 [==============================] - 0s 4ms/step - loss: 5.3610 - mae: 5.3610\n",
      "Epoch 209/300\n",
      "1/1 [==============================] - 0s 5ms/step - loss: 5.2823 - mae: 5.2823\n",
      "Epoch 210/300\n",
      "1/1 [==============================] - 0s 4ms/step - loss: 5.2030 - mae: 5.2030\n",
      "Epoch 211/300\n",
      "1/1 [==============================] - 0s 4ms/step - loss: 5.1229 - mae: 5.1229\n",
      "Epoch 212/300\n",
      "1/1 [==============================] - 0s 5ms/step - loss: 5.0422 - mae: 5.0422\n",
      "Epoch 213/300\n",
      "1/1 [==============================] - 0s 4ms/step - loss: 4.9608 - mae: 4.9608\n",
      "Epoch 214/300\n",
      "1/1 [==============================] - 0s 4ms/step - loss: 4.8788 - mae: 4.8788\n",
      "Epoch 215/300\n",
      "1/1 [==============================] - 0s 5ms/step - loss: 4.7962 - mae: 4.7962\n",
      "Epoch 216/300\n",
      "1/1 [==============================] - 0s 4ms/step - loss: 4.7129 - mae: 4.7129\n",
      "Epoch 217/300\n",
      "1/1 [==============================] - 0s 5ms/step - loss: 4.6289 - mae: 4.6289\n",
      "Epoch 218/300\n",
      "1/1 [==============================] - 0s 5ms/step - loss: 4.5442 - mae: 4.5442\n",
      "Epoch 219/300\n",
      "1/1 [==============================] - 0s 4ms/step - loss: 4.4588 - mae: 4.4588\n",
      "Epoch 220/300\n",
      "1/1 [==============================] - 0s 3ms/step - loss: 4.3727 - mae: 4.3727\n",
      "Epoch 221/300\n",
      "1/1 [==============================] - 0s 5ms/step - loss: 4.2860 - mae: 4.2860\n",
      "Epoch 222/300\n",
      "1/1 [==============================] - 0s 5ms/step - loss: 4.1988 - mae: 4.1988\n",
      "Epoch 223/300\n",
      "1/1 [==============================] - 0s 5ms/step - loss: 4.1108 - mae: 4.1108\n",
      "Epoch 224/300\n",
      "1/1 [==============================] - 0s 5ms/step - loss: 4.0776 - mae: 4.0776\n",
      "Epoch 225/300\n",
      "1/1 [==============================] - 0s 3ms/step - loss: 4.0510 - mae: 4.0510\n",
      "Epoch 226/300\n",
      "1/1 [==============================] - 0s 5ms/step - loss: 4.0257 - mae: 4.0257\n",
      "Epoch 227/300\n",
      "1/1 [==============================] - 0s 4ms/step - loss: 4.0018 - mae: 4.0018\n",
      "Epoch 228/300\n",
      "1/1 [==============================] - 0s 6ms/step - loss: 3.9790 - mae: 3.9790\n",
      "Epoch 229/300\n",
      "1/1 [==============================] - 0s 5ms/step - loss: 3.9573 - mae: 3.9573\n",
      "Epoch 230/300\n",
      "1/1 [==============================] - 0s 4ms/step - loss: 3.9365 - mae: 3.9365\n",
      "Epoch 231/300\n",
      "1/1 [==============================] - 0s 4ms/step - loss: 3.9166 - mae: 3.9166\n",
      "Epoch 232/300\n",
      "1/1 [==============================] - 0s 4ms/step - loss: 3.8975 - mae: 3.8975\n",
      "Epoch 233/300\n",
      "1/1 [==============================] - 0s 4ms/step - loss: 3.8791 - mae: 3.8791\n",
      "Epoch 234/300\n",
      "1/1 [==============================] - 0s 4ms/step - loss: 3.8613 - mae: 3.8613\n",
      "Epoch 235/300\n",
      "1/1 [==============================] - 0s 5ms/step - loss: 3.8441 - mae: 3.8441\n",
      "Epoch 236/300\n",
      "1/1 [==============================] - 0s 4ms/step - loss: 3.8273 - mae: 3.8273\n",
      "Epoch 237/300\n",
      "1/1 [==============================] - 0s 6ms/step - loss: 3.8110 - mae: 3.8110\n",
      "Epoch 238/300\n",
      "1/1 [==============================] - 0s 5ms/step - loss: 3.8016 - mae: 3.8016\n",
      "Epoch 239/300\n",
      "1/1 [==============================] - 0s 4ms/step - loss: 3.8097 - mae: 3.8097\n",
      "Epoch 240/300\n",
      "1/1 [==============================] - 0s 4ms/step - loss: 3.8162 - mae: 3.8162\n",
      "Epoch 241/300\n",
      "1/1 [==============================] - 0s 5ms/step - loss: 3.8210 - mae: 3.8210\n",
      "Epoch 242/300\n",
      "1/1 [==============================] - 0s 2ms/step - loss: 3.8246 - mae: 3.8246\n",
      "Epoch 243/300\n",
      "1/1 [==============================] - 0s 6ms/step - loss: 3.8269 - mae: 3.8269\n",
      "Epoch 244/300\n",
      "1/1 [==============================] - 0s 4ms/step - loss: 3.8282 - mae: 3.8282\n",
      "Epoch 245/300\n",
      "1/1 [==============================] - 0s 5ms/step - loss: 3.8285 - mae: 3.8285\n",
      "Epoch 246/300\n",
      "1/1 [==============================] - 0s 5ms/step - loss: 3.8280 - mae: 3.8280\n",
      "Epoch 247/300\n",
      "1/1 [==============================] - 0s 4ms/step - loss: 3.8266 - mae: 3.8266\n",
      "Epoch 248/300\n",
      "1/1 [==============================] - 0s 8ms/step - loss: 3.8245 - mae: 3.8245\n",
      "Epoch 249/300\n",
      "1/1 [==============================] - 0s 5ms/step - loss: 3.8218 - mae: 3.8218\n",
      "Epoch 250/300\n",
      "1/1 [==============================] - 0s 5ms/step - loss: 3.8184 - mae: 3.8184\n",
      "Epoch 251/300\n",
      "1/1 [==============================] - 0s 5ms/step - loss: 3.8145 - mae: 3.8145\n",
      "Epoch 252/300\n",
      "1/1 [==============================] - 0s 4ms/step - loss: 3.8138 - mae: 3.8138\n",
      "Epoch 253/300\n",
      "1/1 [==============================] - 0s 4ms/step - loss: 3.8101 - mae: 3.8101\n",
      "Epoch 254/300\n",
      "1/1 [==============================] - 0s 4ms/step - loss: 3.8036 - mae: 3.8036\n",
      "Epoch 255/300\n",
      "1/1 [==============================] - 0s 4ms/step - loss: 3.7976 - mae: 3.7976\n",
      "Epoch 256/300\n",
      "1/1 [==============================] - 0s 4ms/step - loss: 3.7930 - mae: 3.7930\n",
      "Epoch 257/300\n",
      "1/1 [==============================] - 0s 4ms/step - loss: 3.7880 - mae: 3.7880\n",
      "Epoch 258/300\n",
      "1/1 [==============================] - 0s 3ms/step - loss: 3.7826 - mae: 3.7826\n",
      "Epoch 259/300\n",
      "1/1 [==============================] - 0s 5ms/step - loss: 3.7851 - mae: 3.7851\n",
      "Epoch 260/300\n"
     ]
    },
    {
     "name": "stdout",
     "output_type": "stream",
     "text": [
      "1/1 [==============================] - 0s 4ms/step - loss: 3.7896 - mae: 3.7896\n",
      "Epoch 261/300\n",
      "1/1 [==============================] - 0s 4ms/step - loss: 3.7922 - mae: 3.7922\n",
      "Epoch 262/300\n",
      "1/1 [==============================] - 0s 4ms/step - loss: 3.7931 - mae: 3.7931\n",
      "Epoch 263/300\n",
      "1/1 [==============================] - 0s 3ms/step - loss: 3.7925 - mae: 3.7925\n",
      "Epoch 264/300\n",
      "1/1 [==============================] - 0s 5ms/step - loss: 3.7905 - mae: 3.7905\n",
      "Epoch 265/300\n",
      "1/1 [==============================] - 0s 4ms/step - loss: 3.7873 - mae: 3.7873\n",
      "Epoch 266/300\n",
      "1/1 [==============================] - 0s 3ms/step - loss: 3.7830 - mae: 3.7830\n",
      "Epoch 267/300\n",
      "1/1 [==============================] - 0s 3ms/step - loss: 3.7776 - mae: 3.7776\n",
      "Epoch 268/300\n",
      "1/1 [==============================] - 0s 3ms/step - loss: 3.7760 - mae: 3.7760\n",
      "Epoch 269/300\n",
      "1/1 [==============================] - 0s 3ms/step - loss: 3.7780 - mae: 3.7780\n",
      "Epoch 270/300\n",
      "1/1 [==============================] - 0s 3ms/step - loss: 3.7789 - mae: 3.7789\n",
      "Epoch 271/300\n",
      "1/1 [==============================] - 0s 4ms/step - loss: 3.7788 - mae: 3.7788\n",
      "Epoch 272/300\n",
      "1/1 [==============================] - 0s 3ms/step - loss: 3.7779 - mae: 3.7779\n",
      "Epoch 273/300\n",
      "1/1 [==============================] - 0s 3ms/step - loss: 3.7762 - mae: 3.7762\n",
      "Epoch 274/300\n",
      "1/1 [==============================] - 0s 5ms/step - loss: 3.7765 - mae: 3.7765\n",
      "Epoch 275/300\n",
      "1/1 [==============================] - 0s 3ms/step - loss: 3.7737 - mae: 3.7737\n",
      "Epoch 276/300\n",
      "1/1 [==============================] - 0s 3ms/step - loss: 3.7686 - mae: 3.7686\n",
      "Epoch 277/300\n",
      "1/1 [==============================] - 0s 3ms/step - loss: 3.7684 - mae: 3.7684\n",
      "Epoch 278/300\n",
      "1/1 [==============================] - 0s 3ms/step - loss: 3.7700 - mae: 3.7700\n",
      "Epoch 279/300\n",
      "1/1 [==============================] - 0s 3ms/step - loss: 3.7700 - mae: 3.7700\n",
      "Epoch 280/300\n",
      "1/1 [==============================] - 0s 4ms/step - loss: 3.7686 - mae: 3.7686\n",
      "Epoch 281/300\n",
      "1/1 [==============================] - 0s 4ms/step - loss: 3.7658 - mae: 3.7658\n",
      "Epoch 282/300\n",
      "1/1 [==============================] - 0s 4ms/step - loss: 3.7648 - mae: 3.7648\n",
      "Epoch 283/300\n",
      "1/1 [==============================] - 0s 5ms/step - loss: 3.7653 - mae: 3.7653\n",
      "Epoch 284/300\n",
      "1/1 [==============================] - 0s 5ms/step - loss: 3.7649 - mae: 3.7649\n",
      "Epoch 285/300\n",
      "1/1 [==============================] - 0s 4ms/step - loss: 3.7637 - mae: 3.7637\n",
      "Epoch 286/300\n",
      "1/1 [==============================] - 0s 3ms/step - loss: 3.7619 - mae: 3.7619\n",
      "Epoch 287/300\n",
      "1/1 [==============================] - 0s 3ms/step - loss: 3.7594 - mae: 3.7594\n",
      "Epoch 288/300\n",
      "1/1 [==============================] - 0s 5ms/step - loss: 3.7608 - mae: 3.7608\n",
      "Epoch 289/300\n",
      "1/1 [==============================] - 0s 5ms/step - loss: 3.7614 - mae: 3.7614\n",
      "Epoch 290/300\n",
      "1/1 [==============================] - 0s 4ms/step - loss: 3.7605 - mae: 3.7605\n",
      "Epoch 291/300\n",
      "1/1 [==============================] - 0s 5ms/step - loss: 3.7583 - mae: 3.7583\n",
      "Epoch 292/300\n",
      "1/1 [==============================] - 0s 6ms/step - loss: 3.7563 - mae: 3.7563\n",
      "Epoch 293/300\n",
      "1/1 [==============================] - 0s 5ms/step - loss: 3.7566 - mae: 3.7566\n",
      "Epoch 294/300\n",
      "1/1 [==============================] - 0s 5ms/step - loss: 3.7560 - mae: 3.7560\n",
      "Epoch 295/300\n",
      "1/1 [==============================] - 0s 7ms/step - loss: 3.7547 - mae: 3.7547\n",
      "Epoch 296/300\n",
      "1/1 [==============================] - 0s 4ms/step - loss: 3.7540 - mae: 3.7540\n",
      "Epoch 297/300\n",
      "1/1 [==============================] - 0s 5ms/step - loss: 3.7540 - mae: 3.7540\n",
      "Epoch 298/300\n",
      "1/1 [==============================] - 0s 4ms/step - loss: 3.7542 - mae: 3.7542\n",
      "Epoch 299/300\n",
      "1/1 [==============================] - 0s 5ms/step - loss: 3.7529 - mae: 3.7529\n",
      "Epoch 300/300\n",
      "1/1 [==============================] - 0s 6ms/step - loss: 3.7503 - mae: 3.7503\n"
     ]
    },
    {
     "data": {
      "text/plain": [
       "<keras.callbacks.History at 0x240ec8945b0>"
      ]
     },
     "execution_count": 17,
     "metadata": {},
     "output_type": "execute_result"
    }
   ],
   "source": [
    "# 2nd experiment : buil a larger model, as an improvement to the model\n",
    "\n",
    "# Set a random seed (in order to have some reproducibility)\n",
    "tf.random.set_seed(42)\n",
    "\n",
    "# 1. Create a model using the Sequential API\n",
    "model = tf.keras.Sequential([\n",
    "    \n",
    "    # Adding more hidden layers, more neurons, and activation function \n",
    "    tf.keras.layers.Dense(100, activation=\"relu\"),\n",
    "    tf.keras.layers.Dense(100, activation=\"relu\"),\n",
    "    tf.keras.layers.Dense(100, activation=\"relu\"),\n",
    "    \n",
    "    tf.keras.layers.Dense(1)\n",
    "])\n",
    "\n",
    "# 2. Compile the model\n",
    "model.compile(loss=tf.keras.losses.mae, # MAE : Mean Absolute Error\n",
    "              optimizer=tf.keras.optimizers.Adam(lr=0.0001), # lr = Learning Rate\n",
    "              metrics=[\"mae\"]\n",
    "             )\n",
    "\n",
    "# 3. Fit the model \n",
    "model.fit(tf.expand_dims(X, axis=-1),y, epochs=300) # Increasing the number of epochs\n"
   ]
  },
  {
   "cell_type": "markdown",
   "id": "673624a9",
   "metadata": {},
   "source": [
    "The 2nd model, although more larger, don't provide a better training result compared to the previously built one."
   ]
  },
  {
   "cell_type": "code",
   "execution_count": 18,
   "id": "533e0fa1",
   "metadata": {},
   "outputs": [
    {
     "data": {
      "text/plain": [
       "(<tf.Tensor: shape=(8,), dtype=float64, numpy=array([-7., -4., -1.,  2.,  5.,  8., 11., 14.])>,\n",
       " <tf.Tensor: shape=(8,), dtype=float64, numpy=array([ 3.,  6.,  9., 12., 15., 18., 21., 24.])>)"
      ]
     },
     "execution_count": 18,
     "metadata": {},
     "output_type": "execute_result"
    }
   ],
   "source": [
    "# Remind ourselves of the data\n",
    "X, y"
   ]
  },
  {
   "cell_type": "code",
   "execution_count": 19,
   "id": "9e130a20",
   "metadata": {},
   "outputs": [
    {
     "name": "stdout",
     "output_type": "stream",
     "text": [
      "1/1 [==============================] - 0s 94ms/step\n"
     ]
    },
    {
     "data": {
      "text/plain": [
       "array([[32.084057]], dtype=float32)"
      ]
     },
     "execution_count": 19,
     "metadata": {},
     "output_type": "execute_result"
    }
   ],
   "source": [
    "# Check if the model's prediction has improved...\n",
    "model.predict([17.])"
   ]
  },
  {
   "cell_type": "code",
   "execution_count": null,
   "id": "883941b4",
   "metadata": {},
   "outputs": [],
   "source": []
  },
  {
   "cell_type": "code",
   "execution_count": 20,
   "id": "0cc87495",
   "metadata": {},
   "outputs": [
    {
     "name": "stdout",
     "output_type": "stream",
     "text": [
      "Epoch 1/100\n",
      "1/1 [==============================] - 0s 435ms/step - loss: 14.5749 - mae: 14.5749\n",
      "Epoch 2/100\n",
      "1/1 [==============================] - 0s 5ms/step - loss: 13.7421 - mae: 13.7421\n",
      "Epoch 3/100\n",
      "1/1 [==============================] - 0s 4ms/step - loss: 12.9289 - mae: 12.9289\n",
      "Epoch 4/100\n",
      "1/1 [==============================] - 0s 5ms/step - loss: 12.1375 - mae: 12.1375\n",
      "Epoch 5/100\n",
      "1/1 [==============================] - 0s 4ms/step - loss: 11.3572 - mae: 11.3572\n",
      "Epoch 6/100\n",
      "1/1 [==============================] - 0s 4ms/step - loss: 10.6169 - mae: 10.6169\n",
      "Epoch 7/100\n",
      "1/1 [==============================] - 0s 3ms/step - loss: 10.0421 - mae: 10.0421\n",
      "Epoch 8/100\n",
      "1/1 [==============================] - 0s 3ms/step - loss: 9.4469 - mae: 9.4469\n",
      "Epoch 9/100\n",
      "1/1 [==============================] - 0s 3ms/step - loss: 8.8280 - mae: 8.8280\n",
      "Epoch 10/100\n",
      "1/1 [==============================] - 0s 5ms/step - loss: 8.1860 - mae: 8.1860\n",
      "Epoch 11/100\n",
      "1/1 [==============================] - 0s 3ms/step - loss: 7.5161 - mae: 7.5161\n",
      "Epoch 12/100\n",
      "1/1 [==============================] - 0s 5ms/step - loss: 6.8152 - mae: 6.8152\n",
      "Epoch 13/100\n",
      "1/1 [==============================] - 0s 4ms/step - loss: 6.0814 - mae: 6.0814\n",
      "Epoch 14/100\n",
      "1/1 [==============================] - 0s 3ms/step - loss: 5.3144 - mae: 5.3144\n",
      "Epoch 15/100\n",
      "1/1 [==============================] - 0s 4ms/step - loss: 4.5125 - mae: 4.5125\n",
      "Epoch 16/100\n",
      "1/1 [==============================] - 0s 5ms/step - loss: 3.8629 - mae: 3.8629\n",
      "Epoch 17/100\n",
      "1/1 [==============================] - 0s 4ms/step - loss: 3.7088 - mae: 3.7088\n",
      "Epoch 18/100\n",
      "1/1 [==============================] - 0s 5ms/step - loss: 3.8530 - mae: 3.8530\n",
      "Epoch 19/100\n",
      "1/1 [==============================] - 0s 4ms/step - loss: 4.0346 - mae: 4.0346\n",
      "Epoch 20/100\n",
      "1/1 [==============================] - 0s 4ms/step - loss: 4.3062 - mae: 4.3062\n",
      "Epoch 21/100\n",
      "1/1 [==============================] - 0s 4ms/step - loss: 4.4733 - mae: 4.4733\n",
      "Epoch 22/100\n",
      "1/1 [==============================] - 0s 4ms/step - loss: 4.5474 - mae: 4.5474\n",
      "Epoch 23/100\n",
      "1/1 [==============================] - 0s 4ms/step - loss: 4.5410 - mae: 4.5410\n",
      "Epoch 24/100\n",
      "1/1 [==============================] - 0s 4ms/step - loss: 4.4629 - mae: 4.4629\n",
      "Epoch 25/100\n",
      "1/1 [==============================] - 0s 5ms/step - loss: 4.3234 - mae: 4.3234\n",
      "Epoch 26/100\n",
      "1/1 [==============================] - 0s 6ms/step - loss: 4.1320 - mae: 4.1320\n",
      "Epoch 27/100\n",
      "1/1 [==============================] - 0s 3ms/step - loss: 3.8980 - mae: 3.8980\n",
      "Epoch 28/100\n",
      "1/1 [==============================] - 0s 4ms/step - loss: 3.6531 - mae: 3.6531\n",
      "Epoch 29/100\n",
      "1/1 [==============================] - 0s 4ms/step - loss: 3.5312 - mae: 3.5312\n",
      "Epoch 30/100\n",
      "1/1 [==============================] - 0s 4ms/step - loss: 3.4063 - mae: 3.4063\n",
      "Epoch 31/100\n",
      "1/1 [==============================] - 0s 3ms/step - loss: 3.2743 - mae: 3.2743\n",
      "Epoch 32/100\n",
      "1/1 [==============================] - 0s 3ms/step - loss: 3.1463 - mae: 3.1463\n",
      "Epoch 33/100\n",
      "1/1 [==============================] - 0s 2ms/step - loss: 3.1559 - mae: 3.1559\n",
      "Epoch 34/100\n",
      "1/1 [==============================] - 0s 4ms/step - loss: 3.1332 - mae: 3.1332\n",
      "Epoch 35/100\n",
      "1/1 [==============================] - 0s 3ms/step - loss: 3.0739 - mae: 3.0739\n",
      "Epoch 36/100\n",
      "1/1 [==============================] - 0s 3ms/step - loss: 3.0605 - mae: 3.0605\n",
      "Epoch 37/100\n",
      "1/1 [==============================] - 0s 4ms/step - loss: 2.9910 - mae: 2.9910\n",
      "Epoch 38/100\n",
      "1/1 [==============================] - 0s 2ms/step - loss: 2.8597 - mae: 2.8597\n",
      "Epoch 39/100\n",
      "1/1 [==============================] - 0s 3ms/step - loss: 2.7686 - mae: 2.7686\n",
      "Epoch 40/100\n",
      "1/1 [==============================] - 0s 4ms/step - loss: 2.6907 - mae: 2.6907\n",
      "Epoch 41/100\n",
      "1/1 [==============================] - 0s 3ms/step - loss: 2.6453 - mae: 2.6453\n",
      "Epoch 42/100\n",
      "1/1 [==============================] - 0s 3ms/step - loss: 2.5849 - mae: 2.5849\n",
      "Epoch 43/100\n",
      "1/1 [==============================] - 0s 3ms/step - loss: 2.5106 - mae: 2.5106\n",
      "Epoch 44/100\n",
      "1/1 [==============================] - 0s 3ms/step - loss: 2.4227 - mae: 2.4227\n",
      "Epoch 45/100\n",
      "1/1 [==============================] - 0s 3ms/step - loss: 2.3230 - mae: 2.3230\n",
      "Epoch 46/100\n",
      "1/1 [==============================] - 0s 3ms/step - loss: 2.2861 - mae: 2.2861\n",
      "Epoch 47/100\n",
      "1/1 [==============================] - 0s 2ms/step - loss: 2.2110 - mae: 2.2110\n",
      "Epoch 48/100\n",
      "1/1 [==============================] - 0s 3ms/step - loss: 2.0850 - mae: 2.0850\n",
      "Epoch 49/100\n",
      "1/1 [==============================] - 0s 3ms/step - loss: 1.9710 - mae: 1.9710\n",
      "Epoch 50/100\n",
      "1/1 [==============================] - 0s 3ms/step - loss: 1.8835 - mae: 1.8835\n",
      "Epoch 51/100\n",
      "1/1 [==============================] - 0s 3ms/step - loss: 1.7801 - mae: 1.7801\n",
      "Epoch 52/100\n",
      "1/1 [==============================] - 0s 5ms/step - loss: 1.6909 - mae: 1.6909\n",
      "Epoch 53/100\n",
      "1/1 [==============================] - 0s 4ms/step - loss: 1.5786 - mae: 1.5786\n",
      "Epoch 54/100\n",
      "1/1 [==============================] - 0s 3ms/step - loss: 1.4338 - mae: 1.4338\n",
      "Epoch 55/100\n",
      "1/1 [==============================] - 0s 5ms/step - loss: 1.2831 - mae: 1.2831\n",
      "Epoch 56/100\n",
      "1/1 [==============================] - 0s 9ms/step - loss: 1.1438 - mae: 1.1438\n",
      "Epoch 57/100\n",
      "1/1 [==============================] - 0s 4ms/step - loss: 0.9947 - mae: 0.9947\n",
      "Epoch 58/100\n",
      "1/1 [==============================] - 0s 4ms/step - loss: 0.8276 - mae: 0.8276\n",
      "Epoch 59/100\n",
      "1/1 [==============================] - 0s 3ms/step - loss: 0.7530 - mae: 0.7530\n",
      "Epoch 60/100\n",
      "1/1 [==============================] - 0s 3ms/step - loss: 0.5433 - mae: 0.5433\n",
      "Epoch 61/100\n",
      "1/1 [==============================] - 0s 3ms/step - loss: 0.5153 - mae: 0.5153\n",
      "Epoch 62/100\n",
      "1/1 [==============================] - 0s 4ms/step - loss: 0.4458 - mae: 0.4458\n",
      "Epoch 63/100\n",
      "1/1 [==============================] - 0s 3ms/step - loss: 0.2045 - mae: 0.2045\n",
      "Epoch 64/100\n",
      "1/1 [==============================] - 0s 3ms/step - loss: 0.3762 - mae: 0.3762\n",
      "Epoch 65/100\n",
      "1/1 [==============================] - 0s 5ms/step - loss: 0.3781 - mae: 0.3781\n",
      "Epoch 66/100\n",
      "1/1 [==============================] - 0s 4ms/step - loss: 0.5731 - mae: 0.5731\n",
      "Epoch 67/100\n",
      "1/1 [==============================] - 0s 5ms/step - loss: 0.5039 - mae: 0.5039\n",
      "Epoch 68/100\n",
      "1/1 [==============================] - 0s 3ms/step - loss: 0.5208 - mae: 0.5208\n",
      "Epoch 69/100\n",
      "1/1 [==============================] - 0s 4ms/step - loss: 0.7239 - mae: 0.7239\n",
      "Epoch 70/100\n",
      "1/1 [==============================] - 0s 4ms/step - loss: 0.6759 - mae: 0.6759\n",
      "Epoch 71/100\n",
      "1/1 [==============================] - 0s 3ms/step - loss: 0.4344 - mae: 0.4344\n",
      "Epoch 72/100\n",
      "1/1 [==============================] - 0s 3ms/step - loss: 0.6602 - mae: 0.6602\n",
      "Epoch 73/100\n",
      "1/1 [==============================] - 0s 4ms/step - loss: 0.6928 - mae: 0.6928\n",
      "Epoch 74/100\n",
      "1/1 [==============================] - 0s 2ms/step - loss: 0.4138 - mae: 0.4138\n",
      "Epoch 75/100\n",
      "1/1 [==============================] - 0s 3ms/step - loss: 0.4746 - mae: 0.4746\n",
      "Epoch 76/100\n",
      "1/1 [==============================] - 0s 5ms/step - loss: 0.5370 - mae: 0.5370\n",
      "Epoch 77/100\n",
      "1/1 [==============================] - 0s 3ms/step - loss: 0.4259 - mae: 0.4259\n",
      "Epoch 78/100\n",
      "1/1 [==============================] - 0s 5ms/step - loss: 0.2470 - mae: 0.2470\n",
      "Epoch 79/100\n",
      "1/1 [==============================] - 0s 4ms/step - loss: 0.4555 - mae: 0.4555\n",
      "Epoch 80/100\n",
      "1/1 [==============================] - 0s 3ms/step - loss: 0.3193 - mae: 0.3193\n",
      "Epoch 81/100\n",
      "1/1 [==============================] - 0s 3ms/step - loss: 0.3683 - mae: 0.3683\n",
      "Epoch 82/100\n",
      "1/1 [==============================] - 0s 4ms/step - loss: 0.4437 - mae: 0.4437\n",
      "Epoch 83/100\n",
      "1/1 [==============================] - 0s 3ms/step - loss: 0.3134 - mae: 0.3134\n",
      "Epoch 84/100\n",
      "1/1 [==============================] - 0s 3ms/step - loss: 0.2421 - mae: 0.2421\n",
      "Epoch 85/100\n",
      "1/1 [==============================] - 0s 3ms/step - loss: 0.3412 - mae: 0.3412\n",
      "Epoch 86/100\n",
      "1/1 [==============================] - 0s 3ms/step - loss: 0.2135 - mae: 0.2135\n",
      "Epoch 87/100\n",
      "1/1 [==============================] - 0s 2ms/step - loss: 0.3081 - mae: 0.3081\n",
      "Epoch 88/100\n",
      "1/1 [==============================] - 0s 3ms/step - loss: 0.3392 - mae: 0.3392\n",
      "Epoch 89/100\n"
     ]
    },
    {
     "name": "stdout",
     "output_type": "stream",
     "text": [
      "1/1 [==============================] - 0s 3ms/step - loss: 0.1740 - mae: 0.1740\n",
      "Epoch 90/100\n",
      "1/1 [==============================] - 0s 4ms/step - loss: 0.2424 - mae: 0.2424\n",
      "Epoch 91/100\n",
      "1/1 [==============================] - 0s 4ms/step - loss: 0.1791 - mae: 0.1791\n",
      "Epoch 92/100\n",
      "1/1 [==============================] - 0s 4ms/step - loss: 0.1949 - mae: 0.1949\n",
      "Epoch 93/100\n",
      "1/1 [==============================] - 0s 5ms/step - loss: 0.1245 - mae: 0.1245\n",
      "Epoch 94/100\n",
      "1/1 [==============================] - 0s 4ms/step - loss: 0.1842 - mae: 0.1842\n",
      "Epoch 95/100\n",
      "1/1 [==============================] - 0s 3ms/step - loss: 0.0997 - mae: 0.0997\n",
      "Epoch 96/100\n",
      "1/1 [==============================] - 0s 3ms/step - loss: 0.2421 - mae: 0.2421\n",
      "Epoch 97/100\n",
      "1/1 [==============================] - 0s 4ms/step - loss: 0.1890 - mae: 0.1890\n",
      "Epoch 98/100\n",
      "1/1 [==============================] - 0s 3ms/step - loss: 0.2510 - mae: 0.2510\n",
      "Epoch 99/100\n",
      "1/1 [==============================] - 0s 4ms/step - loss: 0.2386 - mae: 0.2386\n",
      "Epoch 100/100\n",
      "1/1 [==============================] - 0s 5ms/step - loss: 0.1804 - mae: 0.1804\n"
     ]
    },
    {
     "data": {
      "text/plain": [
       "<keras.callbacks.History at 0x240eb881970>"
      ]
     },
     "execution_count": 20,
     "metadata": {},
     "output_type": "execute_result"
    }
   ],
   "source": [
    "# 3rd experiment : add a hidden layer, more epochs, and review the learning rate, as an improvement to the model\n",
    "\n",
    "# Set a random seed (in order to have some reproducibility)\n",
    "tf.random.set_seed(42)\n",
    "\n",
    "# 1. Create a model using the Sequential API\n",
    "model = tf.keras.Sequential([\n",
    "    \n",
    "    # Adding more hidden layers, more neurons, and activation function \n",
    "    tf.keras.layers.Dense(100, activation=\"relu\"),\n",
    "    \n",
    "    tf.keras.layers.Dense(1)\n",
    "])\n",
    "\n",
    "# 2. Compile the model\n",
    "model.compile(loss=tf.keras.losses.mae, # MAE : Mean Absolute Error\n",
    "              optimizer=tf.keras.optimizers.Adam(lr=0.01),\n",
    "              metrics=[\"mae\"]\n",
    "             )\n",
    "\n",
    "# 3. Fit the model \n",
    "model.fit(tf.expand_dims(X, axis=-1),y, epochs=100) # Increasing the number of epochs\n"
   ]
  },
  {
   "cell_type": "markdown",
   "id": "94b6ecb8",
   "metadata": {},
   "source": [
    "The loss is 0.1750; this model should perform really well."
   ]
  },
  {
   "cell_type": "code",
   "execution_count": 21,
   "id": "57f0d41b",
   "metadata": {},
   "outputs": [
    {
     "data": {
      "text/plain": [
       "(<tf.Tensor: shape=(8,), dtype=float64, numpy=array([-7., -4., -1.,  2.,  5.,  8., 11., 14.])>,\n",
       " <tf.Tensor: shape=(8,), dtype=float64, numpy=array([ 3.,  6.,  9., 12., 15., 18., 21., 24.])>)"
      ]
     },
     "execution_count": 21,
     "metadata": {},
     "output_type": "execute_result"
    }
   ],
   "source": [
    "# Remind ourselves of the data\n",
    "X, y"
   ]
  },
  {
   "cell_type": "code",
   "execution_count": 22,
   "id": "c898e1c6",
   "metadata": {},
   "outputs": [
    {
     "name": "stdout",
     "output_type": "stream",
     "text": [
      "1/1 [==============================] - 0s 130ms/step\n"
     ]
    },
    {
     "data": {
      "text/plain": [
       "array([[26.748314]], dtype=float32)"
      ]
     },
     "execution_count": 22,
     "metadata": {},
     "output_type": "execute_result"
    }
   ],
   "source": [
    "# Check if the model's prediction has improved...\n",
    "model.predict([17.])"
   ]
  },
  {
   "cell_type": "markdown",
   "id": "a39358dc",
   "metadata": {},
   "source": [
    "The model has predicted 26.918, while the real value is 27. We can conclude that the prediction is pretty well.  \n",
    "**Observation** : adjusting the learning rate of our model has result in the best improvement so far."
   ]
  },
  {
   "cell_type": "code",
   "execution_count": null,
   "id": "b2408c94",
   "metadata": {},
   "outputs": [],
   "source": []
  },
  {
   "cell_type": "markdown",
   "id": "93827ad7",
   "metadata": {},
   "source": [
    "**Model improvement rules** - When improving a model :\n",
    "* **make many small changes** (experiments) and **test each one**, rather than always doing extremely large changes, because otherwise, if one does too big of a change, he might not be sure what caused the improvement or know improvement of the model.\n",
    "* **the learning rate is potentially the most important hyper-parameter that can be changed** on a neural networks in order to improve it"
   ]
  },
  {
   "cell_type": "code",
   "execution_count": null,
   "id": "fe87eb6f",
   "metadata": {},
   "outputs": [],
   "source": []
  },
  {
   "cell_type": "code",
   "execution_count": null,
   "id": "e2c5c066",
   "metadata": {},
   "outputs": [],
   "source": []
  },
  {
   "cell_type": "markdown",
   "id": "a2f52266",
   "metadata": {},
   "source": [
    "## Evaluating a model\n",
    "\n",
    "\n",
    "In practice, a typical workflow one goes through when buidling neural networks is :    \n",
    "``` Build a model -> fit it -> evaluate it -> tweak a model -> fit it evaluate it -> tweak a model -> fit it -> evaluate it -> ... ```\n",
    "\n"
   ]
  },
  {
   "cell_type": "markdown",
   "id": "5be2462e",
   "metadata": {},
   "source": [
    "When it comes to evaluation, there is one words one should memorize, and remember : **visualize**.\n",
    "\n",
    "It's a good idea to visualize : \n",
    "* `The data` - what data are we working with ? What does it look like ?\n",
    "* `The model` itself - what does our model look like ?\n",
    "* `The training` of the model - how does the model perform while it learns ?\n",
    "* `The predictions` of the model - how do the predictions of the model line up agains the real values ?\n",
    "\n",
    "\n",
    "Let us dig into these steps here a bit further by working on a little bit of a larger problem."
   ]
  },
  {
   "cell_type": "code",
   "execution_count": 23,
   "id": "2e38f664",
   "metadata": {},
   "outputs": [
    {
     "data": {
      "text/plain": [
       "<tf.Tensor: shape=(50,), dtype=int32, numpy=\n",
       "array([-100,  -96,  -92,  -88,  -84,  -80,  -76,  -72,  -68,  -64,  -60,\n",
       "        -56,  -52,  -48,  -44,  -40,  -36,  -32,  -28,  -24,  -20,  -16,\n",
       "        -12,   -8,   -4,    0,    4,    8,   12,   16,   20,   24,   28,\n",
       "         32,   36,   40,   44,   48,   52,   56,   60,   64,   68,   72,\n",
       "         76,   80,   84,   88,   92,   96])>"
      ]
     },
     "execution_count": 23,
     "metadata": {},
     "output_type": "execute_result"
    }
   ],
   "source": [
    "# Make a bigger dataset\n",
    "X = tf.range(-100, 100, 4)\n",
    "X"
   ]
  },
  {
   "cell_type": "code",
   "execution_count": 24,
   "id": "fe6189cb",
   "metadata": {},
   "outputs": [
    {
     "data": {
      "text/plain": [
       "<tf.Tensor: shape=(50,), dtype=int32, numpy=\n",
       "array([-90, -86, -82, -78, -74, -70, -66, -62, -58, -54, -50, -46, -42,\n",
       "       -38, -34, -30, -26, -22, -18, -14, -10,  -6,  -2,   2,   6,  10,\n",
       "        14,  18,  22,  26,  30,  34,  38,  42,  46,  50,  54,  58,  62,\n",
       "        66,  70,  74,  78,  82,  86,  90,  94,  98, 102, 106])>"
      ]
     },
     "execution_count": 24,
     "metadata": {},
     "output_type": "execute_result"
    }
   ],
   "source": [
    "# Make labels for the dataset\n",
    "\n",
    "y = X + 10   # y = X + 10 is the formula(pattern) we want the model to learn\n",
    "y"
   ]
  },
  {
   "cell_type": "code",
   "execution_count": 25,
   "id": "49a40371",
   "metadata": {},
   "outputs": [
    {
     "data": {
      "text/plain": [
       "<matplotlib.collections.PathCollection at 0x240eca562b0>"
      ]
     },
     "execution_count": 25,
     "metadata": {},
     "output_type": "execute_result"
    },
    {
     "data": {
      "image/png": "[encoded data removed]",
      "text/plain": [
       "<Figure size 432x288 with 1 Axes>"
      ]
     },
     "metadata": {
      "needs_background": "light"
     },
     "output_type": "display_data"
    }
   ],
   "source": [
    "# Visualize the data\n",
    "\n",
    "plt.scatter(X, y)"
   ]
  },
  {
   "cell_type": "code",
   "execution_count": null,
   "id": "56654807",
   "metadata": {},
   "outputs": [],
   "source": []
  },
  {
   "cell_type": "markdown",
   "id": "0dc0cfa7",
   "metadata": {},
   "source": [
    "### The 03 set of data\n",
    "\n",
    "* **Training set** - the model learns from this data, which is typically 70-80% of the total data available.\n",
    "* **Validation set** - the model gets tuned on this data (it is the above mentionned *tweak the model*), which is typically 10-15% of the total data available.\n",
    "* **Test set** - the model gets evaluated on this data to test what is has learned (to check how it performs on data is hasn't see before); this set is typically 10-15% of the available data."
   ]
  },
  {
   "cell_type": "code",
   "execution_count": 26,
   "id": "e1f8ed25",
   "metadata": {},
   "outputs": [
    {
     "data": {
      "text/plain": [
       "50"
      ]
     },
     "execution_count": 26,
     "metadata": {},
     "output_type": "execute_result"
    }
   ],
   "source": [
    "# Check how many samples we have\n",
    "nb_data = len(X)\n",
    "nb_data"
   ]
  },
  {
   "cell_type": "code",
   "execution_count": 27,
   "id": "9dc7d4f2",
   "metadata": {},
   "outputs": [
    {
     "data": {
      "text/plain": [
       "(40, 10, 40, 10)"
      ]
     },
     "execution_count": 27,
     "metadata": {},
     "output_type": "execute_result"
    }
   ],
   "source": [
    "# Split the data into train and test sets\n",
    "\n",
    "X_train = X[: int(nb_data*.8)] # 80% of the data\n",
    "y_train = y[: int(nb_data*.8)] # 80% of the data\n",
    "\n",
    "X_test = X[int(nb_data*.8):] # 20% of the data\n",
    "y_test = y[int(nb_data*.8):] # 20% of the data\n",
    "\n",
    "\n",
    "len(X_train), len(X_test), len(y_train), len(y_test)"
   ]
  },
  {
   "cell_type": "markdown",
   "id": "e9603622",
   "metadata": {},
   "source": [
    "### Visualizing the data\n",
    "\n",
    "Now that data was divided in training and testing sets, let's visualize it again."
   ]
  },
  {
   "cell_type": "code",
   "execution_count": 28,
   "id": "a805227d",
   "metadata": {},
   "outputs": [
    {
     "data": {
      "image/png": "[encoded data removed]",
      "text/plain": [
       "<Figure size 720x504 with 1 Axes>"
      ]
     },
     "metadata": {
      "needs_background": "light"
     },
     "output_type": "display_data"
    }
   ],
   "source": [
    "plt.figure( figsize=(10,7) )\n",
    "\n",
    "# Plot training data in blue\n",
    "plt.scatter(X_train, y_train, c=\"b\", label=\"Training data\")\n",
    "\n",
    "# Plot test data in green\n",
    "plt.scatter(X_test, y_test, c=\"g\", label=\"Test data\")\n",
    "\n",
    "#Show a legend\n",
    "plt.legend();"
   ]
  },
  {
   "cell_type": "code",
   "execution_count": null,
   "id": "82c45ed8",
   "metadata": {},
   "outputs": [],
   "source": []
  },
  {
   "cell_type": "markdown",
   "id": "6e2f8628",
   "metadata": {},
   "source": [
    "### Building a neural network"
   ]
  },
  {
   "cell_type": "code",
   "execution_count": 29,
   "id": "8a1f31b0",
   "metadata": {},
   "outputs": [],
   "source": [
    "# 1. Create a model\n",
    "model = tf.keras.Sequential([\n",
    "    tf.keras.layers.Dense(1)\n",
    "])\n",
    "\n",
    "# 2. Compile the model\n",
    "model.compile(loss=tf.keras.losses.mae,\n",
    "             optimizer= tf.keras.optimizers.SGD(),\n",
    "             metrics=[\"mae\"])\n",
    "\n"
   ]
  },
  {
   "cell_type": "markdown",
   "id": "c43d95e1",
   "metadata": {},
   "source": [
    "#### Visualizing the model"
   ]
  },
  {
   "cell_type": "code",
   "execution_count": null,
   "id": "86569e88",
   "metadata": {},
   "outputs": [],
   "source": []
  },
  {
   "cell_type": "code",
   "execution_count": 30,
   "id": "fe7036b7",
   "metadata": {},
   "outputs": [
    {
     "ename": "ValueError",
     "evalue": "This model has not yet been built. Build the model first by calling `build()` or by calling the model on a batch of data.",
     "output_type": "error",
     "traceback": [
      "\u001b[1;31m---------------------------------------------------------------------------\u001b[0m",
      "\u001b[1;31mValueError\u001b[0m                                Traceback (most recent call last)",
      "\u001b[1;32m<ipython-input-30-cdfdfbb4254b>\u001b[0m in \u001b[0;36m<module>\u001b[1;34m\u001b[0m\n\u001b[0;32m      1\u001b[0m \u001b[1;31m# Get an idea of what the model looks like before running it\u001b[0m\u001b[1;33m\u001b[0m\u001b[1;33m\u001b[0m\u001b[1;33m\u001b[0m\u001b[0m\n\u001b[1;32m----> 2\u001b[1;33m \u001b[0mmodel\u001b[0m\u001b[1;33m.\u001b[0m\u001b[0msummary\u001b[0m\u001b[1;33m(\u001b[0m\u001b[1;33m)\u001b[0m\u001b[1;33m\u001b[0m\u001b[1;33m\u001b[0m\u001b[0m\n\u001b[0m",
      "\u001b[1;32mC:\\ProgramData\\Anaconda3\\lib\\site-packages\\keras\\engine\\training.py\u001b[0m in \u001b[0;36msummary\u001b[1;34m(self, line_length, positions, print_fn, expand_nested, show_trainable, layer_range)\u001b[0m\n\u001b[0;32m   3212\u001b[0m         \"\"\"\n\u001b[0;32m   3213\u001b[0m         \u001b[1;32mif\u001b[0m \u001b[1;32mnot\u001b[0m \u001b[0mself\u001b[0m\u001b[1;33m.\u001b[0m\u001b[0mbuilt\u001b[0m\u001b[1;33m:\u001b[0m\u001b[1;33m\u001b[0m\u001b[1;33m\u001b[0m\u001b[0m\n\u001b[1;32m-> 3214\u001b[1;33m             raise ValueError(\n\u001b[0m\u001b[0;32m   3215\u001b[0m                 \u001b[1;34m\"This model has not yet been built. \"\u001b[0m\u001b[1;33m\u001b[0m\u001b[1;33m\u001b[0m\u001b[0m\n\u001b[0;32m   3216\u001b[0m                 \u001b[1;34m\"Build the model first by calling `build()` or by calling \"\u001b[0m\u001b[1;33m\u001b[0m\u001b[1;33m\u001b[0m\u001b[0m\n",
      "\u001b[1;31mValueError\u001b[0m: This model has not yet been built. Build the model first by calling `build()` or by calling the model on a batch of data."
     ]
    }
   ],
   "source": [
    "# Get an idea of what the model looks like before running it\n",
    "model.summary()"
   ]
  },
  {
   "cell_type": "code",
   "execution_count": 31,
   "id": "afbc8917",
   "metadata": {},
   "outputs": [
    {
     "data": {
      "text/plain": [
       "<tf.Tensor: shape=(50,), dtype=int32, numpy=\n",
       "array([-100,  -96,  -92,  -88,  -84,  -80,  -76,  -72,  -68,  -64,  -60,\n",
       "        -56,  -52,  -48,  -44,  -40,  -36,  -32,  -28,  -24,  -20,  -16,\n",
       "        -12,   -8,   -4,    0,    4,    8,   12,   16,   20,   24,   28,\n",
       "         32,   36,   40,   44,   48,   52,   56,   60,   64,   68,   72,\n",
       "         76,   80,   84,   88,   92,   96])>"
      ]
     },
     "execution_count": 31,
     "metadata": {},
     "output_type": "execute_result"
    }
   ],
   "source": [
    "X"
   ]
  },
  {
   "cell_type": "code",
   "execution_count": 32,
   "id": "c7634b89",
   "metadata": {},
   "outputs": [
    {
     "data": {
      "text/plain": [
       "1"
      ]
     },
     "execution_count": 32,
     "metadata": {},
     "output_type": "execute_result"
    }
   ],
   "source": [
    "X.ndim"
   ]
  },
  {
   "cell_type": "code",
   "execution_count": 33,
   "id": "987713a6",
   "metadata": {},
   "outputs": [
    {
     "data": {
      "text/plain": [
       "(<tf.Tensor: shape=(), dtype=int32, numpy=-100>,\n",
       " <tf.Tensor: shape=(), dtype=int32, numpy=-90>)"
      ]
     },
     "execution_count": 33,
     "metadata": {},
     "output_type": "execute_result"
    }
   ],
   "source": [
    "X[0],y[0]"
   ]
  },
  {
   "cell_type": "markdown",
   "id": "f296c106",
   "metadata": {},
   "source": [
    "* The explanation of the Prof : X[0] contains a scalar, so the input_shape of our model is 1; in case X[0] contain for example 3 different numbers, then input_shape would be 3.    \n",
    "* My own deduction : Another way to analyze it is based on the number of dimensions of X : X.ndim return 1, which means X is represented on one dimension, so the input shape is 1."
   ]
  },
  {
   "cell_type": "code",
   "execution_count": 34,
   "id": "b1a53531",
   "metadata": {},
   "outputs": [],
   "source": [
    "# Let's create a model which builds automatically by \n",
    "#    defining the input_shape argument in the first layer (that is what is usually done in practice)\n",
    "\n",
    "tf.random.set_seed(42)\n",
    "\n",
    "# 1. Create a model (same as above)\n",
    "model = tf.keras.Sequential([\n",
    "    tf.keras.layers.Dense(1, input_shape= [X.ndim] ) # tf.keras.layers.Dense(1, input_shape= [1] )\n",
    "                                                     #     refer to the previous cell to get \n",
    "                                                     #      explanations on why input_shape= [1]   \n",
    "]) \n",
    "\n",
    "# 2. COmpile the model \n",
    "model.compile(loss=tf.keras.losses.mae,\n",
    "             optimizer = tf.keras.optimizers.SGD(),\n",
    "             metrics=[\"mae\"])\n",
    "\n",
    "\n"
   ]
  },
  {
   "cell_type": "code",
   "execution_count": 35,
   "id": "a6e064a1",
   "metadata": {},
   "outputs": [
    {
     "name": "stdout",
     "output_type": "stream",
     "text": [
      "Model: \"sequential_5\"\n",
      "_________________________________________________________________\n",
      " Layer (type)                Output Shape              Param #   \n",
      "=================================================================\n",
      " dense_10 (Dense)            (None, 1)                 2         \n",
      "                                                                 \n",
      "=================================================================\n",
      "Total params: 2\n",
      "Trainable params: 2\n",
      "Non-trainable params: 0\n",
      "_________________________________________________________________\n"
     ]
    }
   ],
   "source": [
    "model.summary()"
   ]
  },
  {
   "cell_type": "markdown",
   "id": "b7c23bc7",
   "metadata": {},
   "source": [
    ".summary() on a model show the layers it contains, the output shape, and the number of parameters of each layer.   \n",
    "   \n",
    "* The **Ouput Shape** here (None, 1) : the representation here is something I personnally need to do more research on\n",
    "* The **Layer Type** `Dense` : it is another word for `fully connected`. A fully connected layer means each neuron in the said layer connects to all neurons in the next layer.\n",
    "* There are 2 **Params** :  \n",
    " - **Total params** : total number of parameters in the model; these are the patterns that the model is going to learn\n",
    " - **Trainable parameters** : these are the parameters (patterns) the model can update as it trains\n",
    " - **Non-trainable params** : these are the patterns the model cannot update as it trains; when we import a model that has already learned patterns in data (**transfer learning**), we might freeze those learned patterns so that the model retains what it already knows"
   ]
  },
  {
   "cell_type": "markdown",
   "id": "dd0bebde",
   "metadata": {},
   "source": [
    "📖 **Resource**: For a more in-depth overview of the trainable parameters within a layer, check out MIT's introduction to deep learning video at http://introtodeeplearning.com/ "
   ]
  },
  {
   "cell_type": "markdown",
   "id": "4a3aa920",
   "metadata": {},
   "source": [
    "🛠️**Exercise**: Try playing around with the number of hdden units in the dense layer, see how that effects the number of parameters (total and trainable) by calling `model.summary()`"
   ]
  },
  {
   "cell_type": "code",
   "execution_count": 36,
   "id": "f9bb768b",
   "metadata": {},
   "outputs": [
    {
     "name": "stdout",
     "output_type": "stream",
     "text": [
      "Model: \"sequential_6\"\n",
      "_________________________________________________________________\n",
      " Layer (type)                Output Shape              Param #   \n",
      "=================================================================\n",
      " dense_11 (Dense)            (None, 3)                 6         \n",
      "                                                                 \n",
      "=================================================================\n",
      "Total params: 6\n",
      "Trainable params: 6\n",
      "Non-trainable params: 0\n",
      "_________________________________________________________________\n"
     ]
    }
   ],
   "source": [
    "tf.random.set_seed(42)\n",
    "\n",
    "# 1. Create a model (same as above)\n",
    "model = tf.keras.Sequential([\n",
    "    tf.keras.layers.Dense(3, input_shape= [1] )  \n",
    "]) \n",
    "\n",
    "# 2. COmpile the model \n",
    "model.compile(loss=tf.keras.losses.mae,\n",
    "             optimizer = tf.keras.optimizers.SGD(),\n",
    "             metrics=[\"mae\"])\n",
    "\n",
    "\n",
    "model.summary()"
   ]
  },
  {
   "cell_type": "code",
   "execution_count": null,
   "id": "257f63ee",
   "metadata": {},
   "outputs": [],
   "source": []
  },
  {
   "cell_type": "code",
   "execution_count": null,
   "id": "5f285645",
   "metadata": {},
   "outputs": [],
   "source": []
  },
  {
   "cell_type": "code",
   "execution_count": 37,
   "id": "7dec1a2f",
   "metadata": {},
   "outputs": [
    {
     "name": "stdout",
     "output_type": "stream",
     "text": [
      "Model: \"sequential_7\"\n",
      "_________________________________________________________________\n",
      " Layer (type)                Output Shape              Param #   \n",
      "=================================================================\n",
      " dense_12 (Dense)            (None, 1)                 2         \n",
      "                                                                 \n",
      "=================================================================\n",
      "Total params: 2\n",
      "Trainable params: 2\n",
      "Non-trainable params: 0\n",
      "_________________________________________________________________\n"
     ]
    }
   ],
   "source": [
    "# Let us change the number of neuro from 3 to 1\n",
    "\n",
    "tf.random.set_seed(42)\n",
    "\n",
    "# 1. Create a model (same as above)\n",
    "model = tf.keras.Sequential([\n",
    "    tf.keras.layers.Dense(1, input_shape= [1] )  \n",
    "]) \n",
    "\n",
    "# 2. COmpile the model \n",
    "model.compile(loss=tf.keras.losses.mae,\n",
    "             optimizer = tf.keras.optimizers.SGD(),\n",
    "             metrics=[\"mae\"])\n",
    "\n",
    "\n",
    "model.summary()"
   ]
  },
  {
   "cell_type": "code",
   "execution_count": 38,
   "id": "5d2f8b23",
   "metadata": {},
   "outputs": [
    {
     "name": "stdout",
     "output_type": "stream",
     "text": [
      "Epoch 1/100\n",
      "2/2 [==============================] - 0s 3ms/step - loss: 9.2051 - mae: 9.2051\n",
      "Epoch 2/100\n",
      "2/2 [==============================] - 0s 3ms/step - loss: 8.9323 - mae: 8.9323\n",
      "Epoch 3/100\n",
      "2/2 [==============================] - 0s 3ms/step - loss: 12.6436 - mae: 12.6436\n",
      "Epoch 4/100\n",
      "2/2 [==============================] - 0s 2ms/step - loss: 8.7528 - mae: 8.7528\n",
      "Epoch 5/100\n",
      "2/2 [==============================] - 0s 3ms/step - loss: 10.9708 - mae: 10.9708\n",
      "Epoch 6/100\n",
      "2/2 [==============================] - 0s 3ms/step - loss: 10.1362 - mae: 10.1362\n",
      "Epoch 7/100\n",
      "2/2 [==============================] - 0s 2ms/step - loss: 9.1597 - mae: 9.1597\n",
      "Epoch 8/100\n",
      "2/2 [==============================] - 0s 3ms/step - loss: 9.1118 - mae: 9.1118\n",
      "Epoch 9/100\n",
      "2/2 [==============================] - 0s 2ms/step - loss: 15.1847 - mae: 15.1847\n",
      "Epoch 10/100\n",
      "2/2 [==============================] - 0s 4ms/step - loss: 7.8242 - mae: 7.8242\n",
      "Epoch 11/100\n",
      "2/2 [==============================] - 0s 3ms/step - loss: 10.4002 - mae: 10.4002\n",
      "Epoch 12/100\n",
      "2/2 [==============================] - 0s 3ms/step - loss: 18.3996 - mae: 18.3996\n",
      "Epoch 13/100\n",
      "2/2 [==============================] - 0s 3ms/step - loss: 9.7454 - mae: 9.7454\n",
      "Epoch 14/100\n",
      "2/2 [==============================] - 0s 4ms/step - loss: 15.7177 - mae: 15.7177\n",
      "Epoch 15/100\n",
      "2/2 [==============================] - 0s 3ms/step - loss: 11.6316 - mae: 11.6316\n",
      "Epoch 16/100\n",
      "2/2 [==============================] - 0s 5ms/step - loss: 8.4679 - mae: 8.4679\n",
      "Epoch 17/100\n",
      "2/2 [==============================] - 0s 2ms/step - loss: 13.4738 - mae: 13.4738\n",
      "Epoch 18/100\n",
      "2/2 [==============================] - 0s 4ms/step - loss: 11.2627 - mae: 11.2627\n",
      "Epoch 19/100\n",
      "2/2 [==============================] - 0s 2ms/step - loss: 18.2440 - mae: 18.2440\n",
      "Epoch 20/100\n",
      "2/2 [==============================] - 0s 2ms/step - loss: 14.9520 - mae: 14.9520\n",
      "Epoch 21/100\n",
      "2/2 [==============================] - 0s 2ms/step - loss: 10.8341 - mae: 10.8341\n",
      "Epoch 22/100\n",
      "2/2 [==============================] - 0s 3ms/step - loss: 8.5839 - mae: 8.5839\n",
      "Epoch 23/100\n",
      "2/2 [==============================] - 0s 2ms/step - loss: 9.7118 - mae: 9.7118\n",
      "Epoch 24/100\n",
      "2/2 [==============================] - 0s 3ms/step - loss: 10.9462 - mae: 10.9462\n",
      "Epoch 25/100\n",
      "2/2 [==============================] - 0s 3ms/step - loss: 9.1530 - mae: 9.1530\n",
      "Epoch 26/100\n",
      "2/2 [==============================] - 0s 2ms/step - loss: 13.1838 - mae: 13.1838\n",
      "Epoch 27/100\n",
      "2/2 [==============================] - 0s 4ms/step - loss: 10.6564 - mae: 10.6564\n",
      "Epoch 28/100\n",
      "2/2 [==============================] - 0s 2ms/step - loss: 12.8747 - mae: 12.8747\n",
      "Epoch 29/100\n",
      "2/2 [==============================] - 0s 2ms/step - loss: 9.5034 - mae: 9.5034\n",
      "Epoch 30/100\n",
      "2/2 [==============================] - 0s 2ms/step - loss: 16.3966 - mae: 16.3966\n",
      "Epoch 31/100\n",
      "2/2 [==============================] - 0s 2ms/step - loss: 23.5883 - mae: 23.5883\n",
      "Epoch 32/100\n",
      "2/2 [==============================] - 0s 2ms/step - loss: 7.6060 - mae: 7.6060\n",
      "Epoch 33/100\n",
      "2/2 [==============================] - 0s 1ms/step - loss: 9.3039 - mae: 9.3039\n",
      "Epoch 34/100\n",
      "2/2 [==============================] - 0s 4ms/step - loss: 13.6856 - mae: 13.6856\n",
      "Epoch 35/100\n",
      "2/2 [==============================] - 0s 3ms/step - loss: 11.1447 - mae: 11.1447\n",
      "Epoch 36/100\n",
      "2/2 [==============================] - 0s 3ms/step - loss: 13.3638 - mae: 13.3638\n",
      "Epoch 37/100\n",
      "2/2 [==============================] - 0s 3ms/step - loss: 9.4516 - mae: 9.4516\n",
      "Epoch 38/100\n",
      "2/2 [==============================] - 0s 2ms/step - loss: 10.1052 - mae: 10.1052\n",
      "Epoch 39/100\n",
      "2/2 [==============================] - 0s 4ms/step - loss: 10.1967 - mae: 10.1967\n",
      "Epoch 40/100\n",
      "2/2 [==============================] - 0s 1ms/step - loss: 10.9403 - mae: 10.9403\n",
      "Epoch 41/100\n",
      "2/2 [==============================] - 0s 2ms/step - loss: 7.9160 - mae: 7.9160\n",
      "Epoch 42/100\n",
      "2/2 [==============================] - 0s 3ms/step - loss: 10.5833 - mae: 10.5833\n",
      "Epoch 43/100\n",
      "2/2 [==============================] - 0s 3ms/step - loss: 7.2045 - mae: 7.2045\n",
      "Epoch 44/100\n",
      "2/2 [==============================] - 0s 3ms/step - loss: 7.9950 - mae: 7.9950\n",
      "Epoch 45/100\n",
      "2/2 [==============================] - 0s 3ms/step - loss: 9.7892 - mae: 9.7892\n",
      "Epoch 46/100\n",
      "2/2 [==============================] - 0s 2ms/step - loss: 8.8661 - mae: 8.8661\n",
      "Epoch 47/100\n",
      "2/2 [==============================] - 0s 2ms/step - loss: 7.5659 - mae: 7.5659\n",
      "Epoch 48/100\n",
      "2/2 [==============================] - 0s 3ms/step - loss: 8.5624 - mae: 8.5624\n",
      "Epoch 49/100\n",
      "2/2 [==============================] - 0s 2ms/step - loss: 9.9954 - mae: 9.9954\n",
      "Epoch 50/100\n",
      "2/2 [==============================] - 0s 2ms/step - loss: 9.0135 - mae: 9.0135\n",
      "Epoch 51/100\n",
      "2/2 [==============================] - 0s 2ms/step - loss: 10.6660 - mae: 10.6660\n",
      "Epoch 52/100\n",
      "2/2 [==============================] - 0s 2ms/step - loss: 15.2873 - mae: 15.2873\n",
      "Epoch 53/100\n",
      "2/2 [==============================] - 0s 3ms/step - loss: 14.3099 - mae: 14.3099\n",
      "Epoch 54/100\n",
      "2/2 [==============================] - 0s 3ms/step - loss: 21.6013 - mae: 21.6013\n",
      "Epoch 55/100\n",
      "2/2 [==============================] - 0s 2ms/step - loss: 15.9948 - mae: 15.9948\n",
      "Epoch 56/100\n",
      "2/2 [==============================] - 0s 3ms/step - loss: 10.2787 - mae: 10.2787\n",
      "Epoch 57/100\n",
      "2/2 [==============================] - 0s 2ms/step - loss: 9.7645 - mae: 9.7645\n",
      "Epoch 58/100\n",
      "2/2 [==============================] - 0s 3ms/step - loss: 9.0497 - mae: 9.0497\n",
      "Epoch 59/100\n",
      "2/2 [==============================] - 0s 3ms/step - loss: 8.2551 - mae: 8.2551\n",
      "Epoch 60/100\n",
      "2/2 [==============================] - 0s 2ms/step - loss: 9.3510 - mae: 9.3510\n",
      "Epoch 61/100\n",
      "2/2 [==============================] - 0s 3ms/step - loss: 11.1621 - mae: 11.1621\n",
      "Epoch 62/100\n",
      "2/2 [==============================] - 0s 4ms/step - loss: 12.0671 - mae: 12.0671\n",
      "Epoch 63/100\n",
      "2/2 [==============================] - 0s 3ms/step - loss: 7.2637 - mae: 7.2637\n",
      "Epoch 64/100\n",
      "2/2 [==============================] - 0s 2ms/step - loss: 12.4296 - mae: 12.4296\n",
      "Epoch 65/100\n",
      "2/2 [==============================] - 0s 4ms/step - loss: 10.4980 - mae: 10.4980\n",
      "Epoch 66/100\n",
      "2/2 [==============================] - 0s 2ms/step - loss: 15.6003 - mae: 15.6003\n",
      "Epoch 67/100\n",
      "2/2 [==============================] - 0s 4ms/step - loss: 10.0022 - mae: 10.0022\n",
      "Epoch 68/100\n",
      "2/2 [==============================] - 0s 2ms/step - loss: 8.7140 - mae: 8.7140\n",
      "Epoch 69/100\n",
      "2/2 [==============================] - 0s 2ms/step - loss: 13.4765 - mae: 13.4765\n",
      "Epoch 70/100\n",
      "2/2 [==============================] - 0s 3ms/step - loss: 7.4622 - mae: 7.4622\n",
      "Epoch 71/100\n",
      "2/2 [==============================] - 0s 3ms/step - loss: 12.2248 - mae: 12.2248\n",
      "Epoch 72/100\n",
      "2/2 [==============================] - 0s 3ms/step - loss: 8.5236 - mae: 8.5236\n",
      "Epoch 73/100\n",
      "2/2 [==============================] - 0s 2ms/step - loss: 7.0324 - mae: 7.0324\n",
      "Epoch 74/100\n",
      "2/2 [==============================] - 0s 3ms/step - loss: 9.9193 - mae: 9.9193\n",
      "Epoch 75/100\n",
      "2/2 [==============================] - 0s 2ms/step - loss: 9.9337 - mae: 9.9337\n",
      "Epoch 76/100\n",
      "2/2 [==============================] - 0s 4ms/step - loss: 10.0994 - mae: 10.0994\n",
      "Epoch 77/100\n",
      "2/2 [==============================] - 0s 3ms/step - loss: 12.9527 - mae: 12.9527\n",
      "Epoch 78/100\n",
      "2/2 [==============================] - 0s 3ms/step - loss: 11.1400 - mae: 11.1400\n",
      "Epoch 79/100\n",
      "2/2 [==============================] - 0s 2ms/step - loss: 14.6906 - mae: 14.6906\n",
      "Epoch 80/100\n",
      "2/2 [==============================] - 0s 4ms/step - loss: 8.9215 - mae: 8.9215\n",
      "Epoch 81/100\n",
      "2/2 [==============================] - 0s 3ms/step - loss: 10.7665 - mae: 10.7665\n",
      "Epoch 82/100\n",
      "2/2 [==============================] - 0s 3ms/step - loss: 8.3783 - mae: 8.3783\n",
      "Epoch 83/100\n",
      "2/2 [==============================] - 0s 2ms/step - loss: 9.2220 - mae: 9.2220\n",
      "Epoch 84/100\n",
      "2/2 [==============================] - 0s 3ms/step - loss: 8.9373 - mae: 8.9373\n",
      "Epoch 85/100\n",
      "2/2 [==============================] - 0s 4ms/step - loss: 13.2026 - mae: 13.2026\n",
      "Epoch 86/100\n",
      "2/2 [==============================] - 0s 3ms/step - loss: 13.6952 - mae: 13.6952\n",
      "Epoch 87/100\n",
      "2/2 [==============================] - 0s 3ms/step - loss: 13.1792 - mae: 13.1792\n",
      "Epoch 88/100\n"
     ]
    },
    {
     "name": "stdout",
     "output_type": "stream",
     "text": [
      "2/2 [==============================] - 0s 4ms/step - loss: 11.5041 - mae: 11.5041\n",
      "Epoch 89/100\n",
      "2/2 [==============================] - 0s 4ms/step - loss: 7.7957 - mae: 7.7957\n",
      "Epoch 90/100\n",
      "2/2 [==============================] - 0s 4ms/step - loss: 10.9185 - mae: 10.9185\n",
      "Epoch 91/100\n",
      "2/2 [==============================] - 0s 2ms/step - loss: 6.7430 - mae: 6.7430\n",
      "Epoch 92/100\n",
      "2/2 [==============================] - 0s 4ms/step - loss: 10.1110 - mae: 10.1110\n",
      "Epoch 93/100\n",
      "2/2 [==============================] - 0s 3ms/step - loss: 7.6038 - mae: 7.6038\n",
      "Epoch 94/100\n",
      "2/2 [==============================] - 0s 3ms/step - loss: 9.2361 - mae: 9.2361\n",
      "Epoch 95/100\n",
      "2/2 [==============================] - 0s 3ms/step - loss: 10.8280 - mae: 10.8280\n",
      "Epoch 96/100\n",
      "2/2 [==============================] - 0s 3ms/step - loss: 10.2844 - mae: 10.2844\n",
      "Epoch 97/100\n",
      "2/2 [==============================] - 0s 3ms/step - loss: 7.6766 - mae: 7.6766\n",
      "Epoch 98/100\n",
      "2/2 [==============================] - 0s 2ms/step - loss: 8.6112 - mae: 8.6112\n",
      "Epoch 99/100\n",
      "2/2 [==============================] - 0s 5ms/step - loss: 9.3900 - mae: 9.3900\n",
      "Epoch 100/100\n",
      "2/2 [==============================] - 0s 2ms/step - loss: 8.8348 - mae: 8.8348\n"
     ]
    },
    {
     "data": {
      "text/plain": [
       "<keras.callbacks.History at 0x240eccf75b0>"
      ]
     },
     "execution_count": 38,
     "metadata": {},
     "output_type": "execute_result"
    }
   ],
   "source": [
    "# 3. Fit the model to the training data for 100 epochs\n",
    "model.fit(X_train, y_train, epochs=100, verbose=1)"
   ]
  },
  {
   "cell_type": "code",
   "execution_count": 39,
   "id": "2f299920",
   "metadata": {},
   "outputs": [
    {
     "name": "stdout",
     "output_type": "stream",
     "text": [
      "Epoch 1/100\n",
      "2/2 [==============================] - 0s 3ms/step - loss: 12.7934 - mae: 12.7934\n",
      "Epoch 2/100\n",
      "2/2 [==============================] - 0s 3ms/step - loss: 8.5222 - mae: 8.5222\n",
      "Epoch 3/100\n",
      "2/2 [==============================] - 0s 4ms/step - loss: 6.6149 - mae: 6.6149\n",
      "Epoch 4/100\n",
      "2/2 [==============================] - 0s 3ms/step - loss: 9.0839 - mae: 9.0839\n",
      "Epoch 5/100\n",
      "2/2 [==============================] - 0s 3ms/step - loss: 10.1008 - mae: 10.1008\n",
      "Epoch 6/100\n",
      "2/2 [==============================] - 0s 14ms/step - loss: 9.2287 - mae: 9.2287\n",
      "Epoch 7/100\n",
      "2/2 [==============================] - 0s 5ms/step - loss: 8.2728 - mae: 8.2728\n",
      "Epoch 8/100\n",
      "2/2 [==============================] - 0s 2ms/step - loss: 8.1443 - mae: 8.1443\n",
      "Epoch 9/100\n",
      "2/2 [==============================] - 0s 3ms/step - loss: 14.6235 - mae: 14.6235\n",
      "Epoch 10/100\n",
      "2/2 [==============================] - 0s 4ms/step - loss: 11.7079 - mae: 11.7079\n",
      "Epoch 11/100\n",
      "2/2 [==============================] - 0s 4ms/step - loss: 9.5008 - mae: 9.5008\n",
      "Epoch 12/100\n",
      "2/2 [==============================] - 0s 3ms/step - loss: 17.6702 - mae: 17.6702\n",
      "Epoch 13/100\n",
      "2/2 [==============================] - 0s 3ms/step - loss: 8.7972 - mae: 8.7972\n",
      "Epoch 14/100\n",
      "2/2 [==============================] - 0s 3ms/step - loss: 15.2887 - mae: 15.2887\n",
      "Epoch 15/100\n",
      "2/2 [==============================] - 0s 4ms/step - loss: 11.3156 - mae: 11.3156\n",
      "Epoch 16/100\n",
      "2/2 [==============================] - 0s 4ms/step - loss: 7.6464 - mae: 7.6464\n",
      "Epoch 17/100\n",
      "2/2 [==============================] - 0s 3ms/step - loss: 12.6027 - mae: 12.6027\n",
      "Epoch 18/100\n",
      "2/2 [==============================] - 0s 4ms/step - loss: 10.1086 - mae: 10.1086\n",
      "Epoch 19/100\n",
      "2/2 [==============================] - 0s 2ms/step - loss: 18.4270 - mae: 18.4270\n",
      "Epoch 20/100\n",
      "2/2 [==============================] - 0s 2ms/step - loss: 15.1277 - mae: 15.1277\n",
      "Epoch 21/100\n",
      "2/2 [==============================] - 0s 3ms/step - loss: 10.6157 - mae: 10.6157\n",
      "Epoch 22/100\n",
      "2/2 [==============================] - 0s 3ms/step - loss: 7.1166 - mae: 7.1166\n",
      "Epoch 23/100\n",
      "2/2 [==============================] - 0s 2ms/step - loss: 8.6585 - mae: 8.6585\n",
      "Epoch 24/100\n",
      "2/2 [==============================] - 0s 3ms/step - loss: 7.5738 - mae: 7.5738\n",
      "Epoch 25/100\n",
      "2/2 [==============================] - 0s 3ms/step - loss: 9.9961 - mae: 9.9961\n",
      "Epoch 26/100\n",
      "2/2 [==============================] - 0s 3ms/step - loss: 16.4889 - mae: 16.4889\n",
      "Epoch 27/100\n",
      "2/2 [==============================] - 0s 2ms/step - loss: 12.6651 - mae: 12.6651\n",
      "Epoch 28/100\n",
      "2/2 [==============================] - 0s 2ms/step - loss: 13.8715 - mae: 13.8715\n",
      "Epoch 29/100\n",
      "2/2 [==============================] - 0s 2ms/step - loss: 9.1224 - mae: 9.1224\n",
      "Epoch 30/100\n",
      "2/2 [==============================] - 0s 3ms/step - loss: 15.5907 - mae: 15.5907\n",
      "Epoch 31/100\n",
      "2/2 [==============================] - 0s 2ms/step - loss: 23.5748 - mae: 23.5748\n",
      "Epoch 32/100\n",
      "2/2 [==============================] - 0s 3ms/step - loss: 6.3942 - mae: 6.3942\n",
      "Epoch 33/100\n",
      "2/2 [==============================] - 0s 4ms/step - loss: 8.8277 - mae: 8.8277\n",
      "Epoch 34/100\n",
      "2/2 [==============================] - 0s 4ms/step - loss: 11.2112 - mae: 11.2112\n",
      "Epoch 35/100\n",
      "2/2 [==============================] - 0s 4ms/step - loss: 11.4042 - mae: 11.4042\n",
      "Epoch 36/100\n",
      "2/2 [==============================] - 0s 3ms/step - loss: 12.2478 - mae: 12.2478\n",
      "Epoch 37/100\n",
      "2/2 [==============================] - 0s 3ms/step - loss: 8.6863 - mae: 8.6863\n",
      "Epoch 38/100\n",
      "2/2 [==============================] - 0s 2ms/step - loss: 9.4127 - mae: 9.4127\n",
      "Epoch 39/100\n",
      "2/2 [==============================] - 0s 3ms/step - loss: 15.2868 - mae: 15.2868\n",
      "Epoch 40/100\n",
      "2/2 [==============================] - 0s 4ms/step - loss: 12.6325 - mae: 12.6325\n",
      "Epoch 41/100\n",
      "2/2 [==============================] - 0s 2ms/step - loss: 8.3962 - mae: 8.3962\n",
      "Epoch 42/100\n",
      "2/2 [==============================] - 0s 3ms/step - loss: 10.0725 - mae: 10.0725\n",
      "Epoch 43/100\n",
      "2/2 [==============================] - 0s 3ms/step - loss: 7.4250 - mae: 7.4250\n",
      "Epoch 44/100\n",
      "2/2 [==============================] - 0s 3ms/step - loss: 15.3071 - mae: 15.3071\n",
      "Epoch 45/100\n",
      "2/2 [==============================] - 0s 2ms/step - loss: 12.7197 - mae: 12.7197\n",
      "Epoch 46/100\n",
      "2/2 [==============================] - 0s 3ms/step - loss: 7.2040 - mae: 7.2040\n",
      "Epoch 47/100\n",
      "2/2 [==============================] - 0s 3ms/step - loss: 7.8975 - mae: 7.8975\n",
      "Epoch 48/100\n",
      "2/2 [==============================] - 0s 3ms/step - loss: 9.2286 - mae: 9.2286\n",
      "Epoch 49/100\n",
      "2/2 [==============================] - 0s 3ms/step - loss: 7.6916 - mae: 7.6916\n",
      "Epoch 50/100\n",
      "2/2 [==============================] - 0s 3ms/step - loss: 8.2567 - mae: 8.2567\n",
      "Epoch 51/100\n",
      "2/2 [==============================] - 0s 4ms/step - loss: 8.4604 - mae: 8.4604\n",
      "Epoch 52/100\n",
      "2/2 [==============================] - 0s 2ms/step - loss: 14.0144 - mae: 14.0144\n",
      "Epoch 53/100\n",
      "2/2 [==============================] - 0s 4ms/step - loss: 14.5758 - mae: 14.5758\n",
      "Epoch 54/100\n",
      "2/2 [==============================] - 0s 2ms/step - loss: 14.2746 - mae: 14.2746\n",
      "Epoch 55/100\n",
      "2/2 [==============================] - 0s 2ms/step - loss: 18.6770 - mae: 18.6770\n",
      "Epoch 56/100\n",
      "2/2 [==============================] - 0s 3ms/step - loss: 6.6253 - mae: 6.6253\n",
      "Epoch 57/100\n",
      "2/2 [==============================] - 0s 3ms/step - loss: 12.0780 - mae: 12.0780\n",
      "Epoch 58/100\n",
      "2/2 [==============================] - 0s 4ms/step - loss: 8.0433 - mae: 8.0433\n",
      "Epoch 59/100\n",
      "2/2 [==============================] - 0s 2ms/step - loss: 9.2681 - mae: 9.2681\n",
      "Epoch 60/100\n",
      "2/2 [==============================] - 0s 3ms/step - loss: 7.4744 - mae: 7.4744\n",
      "Epoch 61/100\n",
      "2/2 [==============================] - 0s 4ms/step - loss: 8.3303 - mae: 8.3303\n",
      "Epoch 62/100\n",
      "2/2 [==============================] - 0s 4ms/step - loss: 6.3011 - mae: 6.3011\n",
      "Epoch 63/100\n",
      "2/2 [==============================] - 0s 3ms/step - loss: 7.2948 - mae: 7.2948\n",
      "Epoch 64/100\n",
      "2/2 [==============================] - 0s 3ms/step - loss: 12.0569 - mae: 12.0569\n",
      "Epoch 65/100\n",
      "2/2 [==============================] - 0s 2ms/step - loss: 9.1242 - mae: 9.1242\n",
      "Epoch 66/100\n",
      "2/2 [==============================] - 0s 3ms/step - loss: 15.5410 - mae: 15.5410\n",
      "Epoch 67/100\n",
      "2/2 [==============================] - 0s 3ms/step - loss: 9.4690 - mae: 9.4690\n",
      "Epoch 68/100\n",
      "2/2 [==============================] - 0s 2ms/step - loss: 7.3320 - mae: 7.3320\n",
      "Epoch 69/100\n",
      "2/2 [==============================] - 0s 3ms/step - loss: 13.3357 - mae: 13.3357\n",
      "Epoch 70/100\n",
      "2/2 [==============================] - 0s 4ms/step - loss: 6.4834 - mae: 6.4834\n",
      "Epoch 71/100\n",
      "2/2 [==============================] - 0s 2ms/step - loss: 11.5474 - mae: 11.5474\n",
      "Epoch 72/100\n",
      "2/2 [==============================] - 0s 3ms/step - loss: 9.5818 - mae: 9.5818\n",
      "Epoch 73/100\n",
      "2/2 [==============================] - 0s 4ms/step - loss: 8.5314 - mae: 8.5314\n",
      "Epoch 74/100\n",
      "2/2 [==============================] - 0s 3ms/step - loss: 14.7494 - mae: 14.7494\n",
      "Epoch 75/100\n",
      "2/2 [==============================] - 0s 2ms/step - loss: 8.2464 - mae: 8.2464\n",
      "Epoch 76/100\n",
      "2/2 [==============================] - 0s 2ms/step - loss: 8.5633 - mae: 8.5633\n",
      "Epoch 77/100\n",
      "2/2 [==============================] - 0s 2ms/step - loss: 10.6924 - mae: 10.6924\n",
      "Epoch 78/100\n",
      "2/2 [==============================] - 0s 3ms/step - loss: 11.6790 - mae: 11.6790\n",
      "Epoch 79/100\n",
      "2/2 [==============================] - 0s 2ms/step - loss: 14.6367 - mae: 14.6367\n",
      "Epoch 80/100\n",
      "2/2 [==============================] - 0s 2ms/step - loss: 11.0295 - mae: 11.0295\n",
      "Epoch 81/100\n",
      "2/2 [==============================] - 0s 3ms/step - loss: 10.1733 - mae: 10.1733\n",
      "Epoch 82/100\n",
      "2/2 [==============================] - 0s 4ms/step - loss: 7.1068 - mae: 7.1068\n",
      "Epoch 83/100\n",
      "2/2 [==============================] - 0s 4ms/step - loss: 8.0899 - mae: 8.0899\n",
      "Epoch 84/100\n",
      "2/2 [==============================] - 0s 3ms/step - loss: 7.3030 - mae: 7.3030\n",
      "Epoch 85/100\n",
      "2/2 [==============================] - 0s 3ms/step - loss: 14.1902 - mae: 14.1902\n",
      "Epoch 86/100\n",
      "2/2 [==============================] - 0s 3ms/step - loss: 12.9463 - mae: 12.9463\n",
      "Epoch 87/100\n",
      "2/2 [==============================] - 0s 3ms/step - loss: 12.4134 - mae: 12.4134\n",
      "Epoch 88/100\n"
     ]
    },
    {
     "name": "stdout",
     "output_type": "stream",
     "text": [
      "2/2 [==============================] - 0s 2ms/step - loss: 10.7252 - mae: 10.7252\n",
      "Epoch 89/100\n",
      "2/2 [==============================] - 0s 3ms/step - loss: 6.0222 - mae: 6.0222\n",
      "Epoch 90/100\n",
      "2/2 [==============================] - 0s 3ms/step - loss: 12.9621 - mae: 12.9621\n",
      "Epoch 91/100\n",
      "2/2 [==============================] - 0s 3ms/step - loss: 6.8994 - mae: 6.8994\n",
      "Epoch 92/100\n",
      "2/2 [==============================] - 0s 4ms/step - loss: 7.1016 - mae: 7.1016\n",
      "Epoch 93/100\n",
      "2/2 [==============================] - 0s 3ms/step - loss: 8.5271 - mae: 8.5271\n",
      "Epoch 94/100\n",
      "2/2 [==============================] - 0s 2ms/step - loss: 7.8808 - mae: 7.8808\n",
      "Epoch 95/100\n",
      "2/2 [==============================] - 0s 2ms/step - loss: 11.2913 - mae: 11.2913\n",
      "Epoch 96/100\n",
      "2/2 [==============================] - 0s 3ms/step - loss: 8.6050 - mae: 8.6050\n",
      "Epoch 97/100\n",
      "2/2 [==============================] - 0s 4ms/step - loss: 12.7791 - mae: 12.7791\n",
      "Epoch 98/100\n",
      "2/2 [==============================] - 0s 3ms/step - loss: 7.4853 - mae: 7.4853\n",
      "Epoch 99/100\n",
      "2/2 [==============================] - 0s 4ms/step - loss: 8.2287 - mae: 8.2287\n",
      "Epoch 100/100\n",
      "2/2 [==============================] - 0s 3ms/step - loss: 9.7074 - mae: 9.7074\n"
     ]
    },
    {
     "data": {
      "text/plain": [
       "<keras.callbacks.History at 0x240ecd93700>"
      ]
     },
     "execution_count": 39,
     "metadata": {},
     "output_type": "execute_result"
    }
   ],
   "source": [
    "# Fit the model again, for another 100 epochs (so for a total of 200 epochs)\n",
    "model.fit(X_train, y_train, epochs=100, verbose=1)"
   ]
  },
  {
   "cell_type": "markdown",
   "id": "7798ca6b",
   "metadata": {},
   "source": [
    "🔑 Every time model.fit() is called, it's going to fit for the extra epochs provided as parameters : the epochs are cumulative."
   ]
  },
  {
   "cell_type": "code",
   "execution_count": null,
   "id": "378fe5b7",
   "metadata": {},
   "outputs": [],
   "source": []
  },
  {
   "cell_type": "markdown",
   "id": "8cd35a1b",
   "metadata": {},
   "source": [
    "### Visualizing a model's layers"
   ]
  },
  {
   "cell_type": "code",
   "execution_count": 40,
   "id": "64f49ee8",
   "metadata": {},
   "outputs": [
    {
     "name": "stdout",
     "output_type": "stream",
     "text": [
      "Model: \"sequential_8\"\n",
      "_________________________________________________________________\n",
      " Layer (type)                Output Shape              Param #   \n",
      "=================================================================\n",
      " dense_13 (Dense)            (None, 10)                20        \n",
      "                                                                 \n",
      "=================================================================\n",
      "Total params: 20\n",
      "Trainable params: 20\n",
      "Non-trainable params: 0\n",
      "_________________________________________________________________\n"
     ]
    }
   ],
   "source": [
    "# Creating a new model, with 10 units in the hidden layers\n",
    "\n",
    "tf.random.set_seed(42)\n",
    "\n",
    "# 1. Create a model (same as above)\n",
    "model = tf.keras.Sequential([\n",
    "    tf.keras.layers.Dense(10, input_shape= [1] )  \n",
    "]) \n",
    "\n",
    "# 2. Compile the model \n",
    "model.compile(loss=tf.keras.losses.mae,\n",
    "             optimizer = tf.keras.optimizers.SGD(),\n",
    "             metrics=[\"mae\"])\n",
    "\n",
    "\n",
    "model.summary()\n"
   ]
  },
  {
   "cell_type": "code",
   "execution_count": 41,
   "id": "967d66d9",
   "metadata": {},
   "outputs": [
    {
     "data": {
      "text/plain": [
       "<keras.callbacks.History at 0x240ecd9c9d0>"
      ]
     },
     "execution_count": 41,
     "metadata": {},
     "output_type": "execute_result"
    }
   ],
   "source": [
    "# Fit the model to the training data\n",
    "model.fit(X_train, y_train, epochs=100, verbose=0)"
   ]
  },
  {
   "cell_type": "code",
   "execution_count": 42,
   "id": "8641da1e",
   "metadata": {},
   "outputs": [
    {
     "data": {
      "image/png": "[encoded data removed]",
      "text/plain": [
       "<IPython.core.display.Image object>"
      ]
     },
     "execution_count": 42,
     "metadata": {},
     "output_type": "execute_result"
    }
   ],
   "source": [
    "# Looking at the layers of the model\n",
    "plot_model(model=model)"
   ]
  },
  {
   "cell_type": "code",
   "execution_count": 43,
   "id": "51112f96",
   "metadata": {},
   "outputs": [
    {
     "data": {
      "image/png": "[encoded data removed]",
      "text/plain": [
       "<IPython.core.display.Image object>"
      ]
     },
     "execution_count": 43,
     "metadata": {},
     "output_type": "execute_result"
    }
   ],
   "source": [
    "# Looking at the layers of the model, with it's shape\n",
    "plot_model(model=model, show_shapes=True)"
   ]
  },
  {
   "cell_type": "markdown",
   "id": "8720dbcb",
   "metadata": {},
   "source": [
    "The plot_model() above will be very handy later on when we start creating more complex models with more hidden layers. \n",
    "   \n",
    "Let's observe the plot of a little more complex model"
   ]
  },
  {
   "cell_type": "code",
   "execution_count": 44,
   "id": "d6a9f617",
   "metadata": {},
   "outputs": [
    {
     "name": "stdout",
     "output_type": "stream",
     "text": [
      "Model: \"amazing_model\"\n",
      "_________________________________________________________________\n",
      " Layer (type)                Output Shape              Param #   \n",
      "=================================================================\n",
      " input_layer (Dense)         (None, 10)                20        \n",
      "                                                                 \n",
      " output_layer (Dense)        (None, 1)                 11        \n",
      "                                                                 \n",
      "=================================================================\n",
      "Total params: 31\n",
      "Trainable params: 31\n",
      "Non-trainable params: 0\n",
      "_________________________________________________________________\n"
     ]
    }
   ],
   "source": [
    "# Creating a model, with 10 units in the hidden layers, and an output layer\n",
    "\n",
    "tf.random.set_seed(42)\n",
    "\n",
    "# 1. Create a model (same as above)\n",
    "model = tf.keras.Sequential([\n",
    "    tf.keras.layers.Dense(10, input_shape= [1], name=\"input_layer\" ), \n",
    "    tf.keras.layers.Dense(1, name=\"output_layer\")\n",
    "], name=\"amazing_model\") \n",
    "\n",
    "# 2. Compile the model \n",
    "model.compile(loss=tf.keras.losses.mae,\n",
    "             optimizer = tf.keras.optimizers.SGD(),\n",
    "             metrics=[\"mae\"])\n",
    "\n",
    "\n",
    "model.summary()\n"
   ]
  },
  {
   "cell_type": "code",
   "execution_count": 45,
   "id": "69b4b0ca",
   "metadata": {},
   "outputs": [
    {
     "data": {
      "text/plain": [
       "<keras.callbacks.History at 0x240edd80a00>"
      ]
     },
     "execution_count": 45,
     "metadata": {},
     "output_type": "execute_result"
    }
   ],
   "source": [
    "# Fit the model to the training data\n",
    "model.fit(X_train, y_train, epochs=100, verbose=0)"
   ]
  },
  {
   "cell_type": "code",
   "execution_count": 46,
   "id": "bc62aa47",
   "metadata": {},
   "outputs": [
    {
     "name": "stdout",
     "output_type": "stream",
     "text": [
      "Model: \"amazing_model\"\n",
      "_________________________________________________________________\n",
      " Layer (type)                Output Shape              Param #   \n",
      "=================================================================\n",
      " input_layer (Dense)         (None, 10)                20        \n",
      "                                                                 \n",
      " output_layer (Dense)        (None, 1)                 11        \n",
      "                                                                 \n",
      "=================================================================\n",
      "Total params: 31\n",
      "Trainable params: 31\n",
      "Non-trainable params: 0\n",
      "_________________________________________________________________\n"
     ]
    }
   ],
   "source": [
    "model.summary()"
   ]
  },
  {
   "cell_type": "code",
   "execution_count": 47,
   "id": "06d885f8",
   "metadata": {},
   "outputs": [
    {
     "data": {
      "image/png": "[encoded data removed]",
      "text/plain": [
       "<IPython.core.display.Image object>"
      ]
     },
     "execution_count": 47,
     "metadata": {},
     "output_type": "execute_result"
    }
   ],
   "source": [
    "# Looking at the layers of the model, with it's shape\n",
    "plot_model(model=model, show_shapes=True)"
   ]
  },
  {
   "cell_type": "code",
   "execution_count": null,
   "id": "955333a7",
   "metadata": {},
   "outputs": [],
   "source": []
  },
  {
   "cell_type": "markdown",
   "id": "ab607c02",
   "metadata": {},
   "source": [
    "### Visualizing the model's predictions  \n",
    "  \n",
    "To visualize predictions, it's a good idea to plot them against the ground truth labels.  \n",
    "  \n",
    "Often, one will see this in the form of `y_test` or `y_true` versus `y_pred` (ground truth versus the model's predictions)."
   ]
  },
  {
   "cell_type": "code",
   "execution_count": 48,
   "id": "6274fe28",
   "metadata": {},
   "outputs": [
    {
     "name": "stdout",
     "output_type": "stream",
     "text": [
      "WARNING:tensorflow:5 out of the last 6 calls to <function Model.make_predict_function.<locals>.predict_function at 0x00000240EDE3ED30> triggered tf.function retracing. Tracing is expensive and the excessive number of tracings could be due to (1) creating @tf.function repeatedly in a loop, (2) passing tensors with different shapes, (3) passing Python objects instead of tensors. For (1), please define your @tf.function outside of the loop. For (2), @tf.function has reduce_retracing=True option that can avoid unnecessary retracing. For (3), please refer to https://www.tensorflow.org/guide/function#controlling_retracing and https://www.tensorflow.org/api_docs/python/tf/function for  more details.\n",
      "1/1 [==============================] - 0s 72ms/step\n"
     ]
    },
    {
     "data": {
      "text/plain": [
       "array([[ 91.18324 ],\n",
       "       [ 97.13762 ],\n",
       "       [103.091995],\n",
       "       [109.04638 ],\n",
       "       [115.00076 ],\n",
       "       [120.95515 ],\n",
       "       [126.909515],\n",
       "       [132.86389 ],\n",
       "       [138.81827 ],\n",
       "       [144.77266 ]], dtype=float32)"
      ]
     },
     "execution_count": 48,
     "metadata": {},
     "output_type": "execute_result"
    }
   ],
   "source": [
    "# Make some predictions\n",
    "y_pred = model.predict(X_test)\n",
    "y_pred"
   ]
  },
  {
   "cell_type": "code",
   "execution_count": 49,
   "id": "2693f03d",
   "metadata": {},
   "outputs": [
    {
     "data": {
      "text/plain": [
       "<tf.Tensor: shape=(10,), dtype=int32, numpy=array([ 70,  74,  78,  82,  86,  90,  94,  98, 102, 106])>"
      ]
     },
     "execution_count": 49,
     "metadata": {},
     "output_type": "execute_result"
    }
   ],
   "source": [
    "# Looking at the content of y_test (the real value)\n",
    "y_test"
   ]
  },
  {
   "cell_type": "code",
   "execution_count": null,
   "id": "ceb2b008",
   "metadata": {},
   "outputs": [],
   "source": []
  },
  {
   "cell_type": "code",
   "execution_count": 50,
   "id": "eeba611f",
   "metadata": {},
   "outputs": [],
   "source": [
    "# Creating a plotting function\n",
    "def plot_predictions(train_data=X_train, train_labels=y_train,\n",
    "                    test_data=X_test, test_labels=y_test,\n",
    "                    predictions=y_pred):\n",
    "    \"\"\"\n",
    "        Plots training data, test data, and compares predictions to ground truth labels.\n",
    "    \"\"\"\n",
    "    plt.figure( figsize=(10,7) )\n",
    "\n",
    "    # Plot training data in blue \n",
    "    plt.scatter(train_data, train_labels, c=\"b\", label=\"Training data\")\n",
    "\n",
    "    # Plot test data in green\n",
    "    plt.scatter(test_data, test_labels, c=\"g\", label=\"Test data\")\n",
    "    \n",
    "    # Plot prediction data\n",
    "    plt.scatter(test_data,predictions,c=\"r\", label=\"Predictions\")\n",
    "\n",
    "    #Show a legend\n",
    "    plt.legend() "
   ]
  },
  {
   "cell_type": "code",
   "execution_count": 51,
   "id": "e17e0774",
   "metadata": {},
   "outputs": [
    {
     "data": {
      "image/png": "[encoded data removed]",
      "text/plain": [
       "<Figure size 720x504 with 1 Axes>"
      ]
     },
     "metadata": {
      "needs_background": "light"
     },
     "output_type": "display_data"
    }
   ],
   "source": [
    "plot_predictions()"
   ]
  },
  {
   "cell_type": "markdown",
   "id": "bf87ee45",
   "metadata": {},
   "source": [
    "Looking at the plots, the model appear to be good since the distance between test data and the predictions is small. But depending on the scale of the plot, that seemingly short distance can in fact represent a fairly large error.   \n",
    "So the way that can be figured out is by some evaluation metrics.\n"
   ]
  },
  {
   "cell_type": "markdown",
   "id": "cef52248",
   "metadata": {},
   "source": [
    "🛠️ **Exercise** : Try to improve the ploted model performance."
   ]
  },
  {
   "cell_type": "code",
   "execution_count": null,
   "id": "42f63d4e",
   "metadata": {},
   "outputs": [],
   "source": []
  },
  {
   "cell_type": "markdown",
   "id": "3465cb74",
   "metadata": {},
   "source": [
    "### Evaluation a model's predictions with regression evaluation metrics  \n",
    "  \n",
    "The best way to evaluate a model's predictions is by using evaluation metrics. Depending on the problem one is working on, there will be different evaluation metrics to evaluate a model's performance.\n",
    "   \n",
    "   \n",
    "Since the current work is a regression, three of the main metrics are :\n",
    "* **MAE** - Mean Absolute Error : \"On evareage, how wrong is each of the model's predictions ?\" . It is a great starter metric for any regression problem.\n",
    "* **MSE** - Mean Square Error : \"Square the average errors\" (take the errors from the model predictions, square them, and find the average). It is great to use it when larger errors are more significant than smaller errors.   \n",
    "* **Huber** : It is a combination of MSE and MAE; it's less sensitive to outliers than MSE."
   ]
  },
  {
   "cell_type": "code",
   "execution_count": 52,
   "id": "00c2f28d",
   "metadata": {},
   "outputs": [
    {
     "name": "stdout",
     "output_type": "stream",
     "text": [
      "1/1 [==============================] - 0s 164ms/step - loss: 29.9779 - mae: 29.9779\n"
     ]
    },
    {
     "data": {
      "text/plain": [
       "[29.977947235107422, 29.977947235107422]"
      ]
     },
     "execution_count": 52,
     "metadata": {},
     "output_type": "execute_result"
    }
   ],
   "source": [
    "# Evaluate the model on the test \n",
    "model.evaluate(X_test, y_test)"
   ]
  },
  {
   "cell_type": "markdown",
   "id": "777142f7",
   "metadata": {},
   "source": [
    "In the evaluation's result above, there are values for `loss` and `mae`. They came from the hyper-parameters (loss and metrics) provided when building the model."
   ]
  },
  {
   "cell_type": "markdown",
   "id": "9805df4d",
   "metadata": {},
   "source": [
    "#### Manually calculate the MAE (as an exercise)"
   ]
  },
  {
   "cell_type": "code",
   "execution_count": 53,
   "id": "5ec1db76",
   "metadata": {},
   "outputs": [
    {
     "data": {
      "text/plain": [
       "<tf.Tensor: shape=(10,), dtype=float32, numpy=\n",
       "array([10.236649, 12.055048, 15.673596, 21.04638 , 27.000763, 32.955147,\n",
       "       38.909515, 44.86389 , 50.818268, 56.772655], dtype=float32)>"
      ]
     },
     "execution_count": 53,
     "metadata": {},
     "output_type": "execute_result"
    }
   ],
   "source": [
    "mae = tf.metrics.mean_absolute_error(y_true = y_test, y_pred=y_pred)\n",
    "mae"
   ]
  },
  {
   "cell_type": "markdown",
   "id": "1cd1446f",
   "metadata": {},
   "source": [
    "The result above does not make sense, because the result should be scalar, not an array . Let us observe y_test and y_pred to understand what is going on in the data."
   ]
  },
  {
   "cell_type": "code",
   "execution_count": 54,
   "id": "75792e15",
   "metadata": {},
   "outputs": [
    {
     "data": {
      "text/plain": [
       "<tf.Tensor: shape=(10,), dtype=int32, numpy=array([ 70,  74,  78,  82,  86,  90,  94,  98, 102, 106])>"
      ]
     },
     "execution_count": 54,
     "metadata": {},
     "output_type": "execute_result"
    }
   ],
   "source": [
    "y_test"
   ]
  },
  {
   "cell_type": "code",
   "execution_count": 55,
   "id": "12019b8c",
   "metadata": {},
   "outputs": [
    {
     "data": {
      "text/plain": [
       "array([[ 91.18324 ],\n",
       "       [ 97.13762 ],\n",
       "       [103.091995],\n",
       "       [109.04638 ],\n",
       "       [115.00076 ],\n",
       "       [120.95515 ],\n",
       "       [126.909515],\n",
       "       [132.86389 ],\n",
       "       [138.81827 ],\n",
       "       [144.77266 ]], dtype=float32)"
      ]
     },
     "execution_count": 55,
     "metadata": {},
     "output_type": "execute_result"
    }
   ],
   "source": [
    "y_pred"
   ]
  },
  {
   "cell_type": "code",
   "execution_count": 56,
   "id": "af13faf2",
   "metadata": {},
   "outputs": [
    {
     "data": {
      "text/plain": [
       "(10, 1)"
      ]
     },
     "execution_count": 56,
     "metadata": {},
     "output_type": "execute_result"
    }
   ],
   "source": [
    "y_pred.shape"
   ]
  },
  {
   "cell_type": "markdown",
   "id": "12d65db9",
   "metadata": {},
   "source": [
    "y_pred has one more dimension than y_test, so we need to remove its last dimension in order to have the same dimension for the two of them."
   ]
  },
  {
   "cell_type": "code",
   "execution_count": 57,
   "id": "17da45da",
   "metadata": {},
   "outputs": [
    {
     "data": {
      "text/plain": [
       "<tf.Tensor: shape=(10,), dtype=float32, numpy=\n",
       "array([ 91.18324 ,  97.13762 , 103.091995, 109.04638 , 115.00076 ,\n",
       "       120.95515 , 126.909515, 132.86389 , 138.81827 , 144.77266 ],\n",
       "      dtype=float32)>"
      ]
     },
     "execution_count": 57,
     "metadata": {},
     "output_type": "execute_result"
    }
   ],
   "source": [
    "# remove the last dimension from y_pred\n",
    "tf.squeeze(y_pred)"
   ]
  },
  {
   "cell_type": "code",
   "execution_count": 58,
   "id": "1e73ed10",
   "metadata": {},
   "outputs": [
    {
     "data": {
      "text/plain": [
       "<tf.Tensor: shape=(), dtype=float32, numpy=29.977947>"
      ]
     },
     "execution_count": 58,
     "metadata": {},
     "output_type": "execute_result"
    }
   ],
   "source": [
    "mae = tf.metrics.mean_absolute_error(y_true=y_test, y_pred = tf.squeeze(y_pred))\n",
    "mae"
   ]
  },
  {
   "cell_type": "markdown",
   "id": "b0ad45e6",
   "metadata": {},
   "source": [
    "The MAE manually computed here is the same as the one computed automatically before."
   ]
  },
  {
   "cell_type": "markdown",
   "id": "3cf402e6",
   "metadata": {},
   "source": [
    "#### Manually calculate the MSE (as an exercise)"
   ]
  },
  {
   "cell_type": "code",
   "execution_count": 59,
   "id": "c90b3e84",
   "metadata": {},
   "outputs": [
    {
     "data": {
      "text/plain": [
       "<tf.Tensor: shape=(10,), dtype=float32, numpy=\n",
       "array([ 142.13303,  215.4961 ,  359.76834,  574.95   ,  861.0412 ,\n",
       "       1218.0417 , 1645.9504 , 2144.7688 , 2714.4963 , 3355.1348 ],\n",
       "      dtype=float32)>"
      ]
     },
     "execution_count": 59,
     "metadata": {},
     "output_type": "execute_result"
    }
   ],
   "source": [
    "mse = tf.metrics.mean_squared_error(y_true=y_test, y_pred=y_pred)\n",
    "mse"
   ]
  },
  {
   "cell_type": "markdown",
   "id": "422c2ed0",
   "metadata": {},
   "source": [
    "We have the same situation as when manually calculing MAE. We will use `tf.squeeze()` to solve the issue."
   ]
  },
  {
   "cell_type": "code",
   "execution_count": 60,
   "id": "98097d29",
   "metadata": {},
   "outputs": [
    {
     "data": {
      "text/plain": [
       "<tf.Tensor: shape=(), dtype=float32, numpy=930.1891>"
      ]
     },
     "execution_count": 60,
     "metadata": {},
     "output_type": "execute_result"
    }
   ],
   "source": [
    "mse = tf.metrics.mean_squared_error(y_true=y_test, y_pred= tf.squeeze(y_pred) )\n",
    "mse"
   ]
  },
  {
   "cell_type": "markdown",
   "id": "cc16b67b",
   "metadata": {},
   "source": [
    "MSE will typically be higher than MAE because, if we look at their formula, there is a square operation in MSE."
   ]
  },
  {
   "cell_type": "code",
   "execution_count": null,
   "id": "804b9b8b",
   "metadata": {},
   "outputs": [],
   "source": []
  },
  {
   "cell_type": "markdown",
   "id": "dcfe3cf7",
   "metadata": {},
   "source": [
    "#### Define a function for MAE and MSE\n",
    "It is so that the two of them can be used later"
   ]
  },
  {
   "cell_type": "code",
   "execution_count": 61,
   "id": "12fde13f",
   "metadata": {},
   "outputs": [],
   "source": [
    "def mae(y_true, y_pred):\n",
    "    return tf.metrics.mean_absolute_error(y_true=y_true, y_pred = y_pred)\n",
    "\n",
    "def mse(y_true, y_pred):\n",
    "    return tf.metrics.mean_squared_error(y_true=y_test, y_pred=y_pred)"
   ]
  },
  {
   "cell_type": "code",
   "execution_count": null,
   "id": "84618df1",
   "metadata": {},
   "outputs": [],
   "source": []
  },
  {
   "cell_type": "markdown",
   "id": "970c90c1",
   "metadata": {},
   "source": [
    "### Running experiments to improve a model\n",
    "\n",
    "So far :\n",
    "* some predictions where made with a trained model, \n",
    "* the predictions where compared to test data set, and the comparaison was visualized,\n",
    "* the predictions where where evaluated with regression evaluation metrics, such as MAE and MSE.\n",
    "\n",
    "The next question is : \"**How do we get the error values lower ?** (How do we minimize the difference between the model's predictions and the test labels)\". \n",
    "\n",
    "Remembering the workflow discussed before : `Build a model -> fit it -> evaluate it -> tweak it -> fit it -> tweak it -> ... `\n",
    "\n",
    "If the Machine Learning explorer's motto is `visualize, visualize, visualize`, in other words :\n",
    "* Visualizing our data\n",
    "* Visualizing our model\n",
    "* Visualizing our training\n",
    "* Visualizing our prediction\n",
    "\n",
    "Then, the Machine Learning practitioner's motto is `experiment, experiment, experiment, ...`. That is what we are going to do : try to run a few series of experiments to see if we can improve our model following the above mentioned workflow.\n",
    "\n",
    "Recalling some ways that we can improve our model :\n",
    "1. **Get more data** - get more examples for your model to train on (in other words, more opportunities to learn patterns/relationships between features and labels).\n",
    "1. **Make the model larger** (using a more complex model) -  this might come in the form of more layers, or more hidden units in each layer, or both.\n",
    "1. **Train for longer** - give the model more of a chance to find patterns in the data\n",
    "1. **Review how the model is compiled** - change the optimization function, or learning rate of the optimization function"
   ]
  },
  {
   "cell_type": "code",
   "execution_count": 62,
   "id": "5dab5076",
   "metadata": {},
   "outputs": [
    {
     "data": {
      "text/plain": [
       "(<tf.Tensor: shape=(40,), dtype=int32, numpy=\n",
       " array([-100,  -96,  -92,  -88,  -84,  -80,  -76,  -72,  -68,  -64,  -60,\n",
       "         -56,  -52,  -48,  -44,  -40,  -36,  -32,  -28,  -24,  -20,  -16,\n",
       "         -12,   -8,   -4,    0,    4,    8,   12,   16,   20,   24,   28,\n",
       "          32,   36,   40,   44,   48,   52,   56])>,\n",
       " <tf.Tensor: shape=(40,), dtype=int32, numpy=\n",
       " array([-90, -86, -82, -78, -74, -70, -66, -62, -58, -54, -50, -46, -42,\n",
       "        -38, -34, -30, -26, -22, -18, -14, -10,  -6,  -2,   2,   6,  10,\n",
       "         14,  18,  22,  26,  30,  34,  38,  42,  46,  50,  54,  58,  62,\n",
       "         66])>)"
      ]
     },
     "execution_count": 62,
     "metadata": {},
     "output_type": "execute_result"
    }
   ],
   "source": [
    "# Recalling our dataset\n",
    "X_train, y_train"
   ]
  },
  {
   "cell_type": "markdown",
   "id": "3676c1da",
   "metadata": {},
   "source": [
    "The question now is `Looking at our datas, how can we improve our model ?`. Let us review our options :   \n",
    "\n",
    "1. Get more data ? We can't really get more data unless we just artificially make our datasest bigger, so this option is ruled out.\n",
    "1. Make the model larger ? Yes we can\n",
    "1. Train for longer ? Yes, we can\n",
    "1. Review how the model is compiled ? Yes we can\n",
    "\n",
    "In regard for this, let's design 03 experiments that we could do: \n",
    "1. `model_1` - same as the original model, 1 layer, trained for 100 epochs.\n",
    "1. `model_2` - 2 layers, trained for 100 epochs.\n",
    "1. `model_3` - 2 layers, trained for 500 epochs.\n",
    "\n",
    "The mindset of a Machine Learning practitioner is to start with a baseline model, and then change one of the parameters for his next experiment, then do the same for the next experiment, and so on."
   ]
  },
  {
   "cell_type": "code",
   "execution_count": null,
   "id": "603a60ba",
   "metadata": {},
   "outputs": [],
   "source": []
  },
  {
   "cell_type": "markdown",
   "id": "3c6d23e7",
   "metadata": {},
   "source": [
    "**Creating model_1**: 1 layer, trained for 100 epochs"
   ]
  },
  {
   "cell_type": "code",
   "execution_count": 63,
   "id": "99dd78e1",
   "metadata": {},
   "outputs": [
    {
     "name": "stdout",
     "output_type": "stream",
     "text": [
      "Epoch 1/100\n",
      "2/2 [==============================] - 0s 2ms/step - loss: 47.6476 - mae: 47.6476\n",
      "Epoch 2/100\n",
      "2/2 [==============================] - 0s 3ms/step - loss: 16.1210 - mae: 16.1210\n",
      "Epoch 3/100\n",
      "2/2 [==============================] - 0s 2ms/step - loss: 15.0025 - mae: 15.0025\n",
      "Epoch 4/100\n",
      "2/2 [==============================] - 0s 2ms/step - loss: 8.1369 - mae: 8.1369\n",
      "Epoch 5/100\n",
      "2/2 [==============================] - 0s 3ms/step - loss: 10.7126 - mae: 10.7126\n",
      "Epoch 6/100\n",
      "2/2 [==============================] - 0s 4ms/step - loss: 9.9113 - mae: 9.9113\n",
      "Epoch 7/100\n",
      "2/2 [==============================] - 0s 3ms/step - loss: 8.9739 - mae: 8.9739\n",
      "Epoch 8/100\n",
      "2/2 [==============================] - 0s 3ms/step - loss: 9.0883 - mae: 9.0883\n",
      "Epoch 9/100\n",
      "2/2 [==============================] - 0s 3ms/step - loss: 19.7422 - mae: 19.7422\n",
      "Epoch 10/100\n",
      "2/2 [==============================] - 0s 4ms/step - loss: 10.6727 - mae: 10.6727\n",
      "Epoch 11/100\n",
      "2/2 [==============================] - 0s 3ms/step - loss: 8.6218 - mae: 8.6218\n",
      "Epoch 12/100\n",
      "2/2 [==============================] - 0s 2ms/step - loss: 11.1919 - mae: 11.1919\n",
      "Epoch 13/100\n",
      "2/2 [==============================] - 0s 2ms/step - loss: 12.1082 - mae: 12.1082\n",
      "Epoch 14/100\n",
      "2/2 [==============================] - 0s 3ms/step - loss: 14.0910 - mae: 14.0910\n",
      "Epoch 15/100\n",
      "2/2 [==============================] - 0s 2ms/step - loss: 11.4898 - mae: 11.4898\n",
      "Epoch 16/100\n",
      "2/2 [==============================] - 0s 2ms/step - loss: 8.5278 - mae: 8.5278\n",
      "Epoch 17/100\n",
      "2/2 [==============================] - 0s 5ms/step - loss: 13.5959 - mae: 13.5959\n",
      "Epoch 18/100\n",
      "2/2 [==============================] - 0s 2ms/step - loss: 11.4113 - mae: 11.4113\n",
      "Epoch 19/100\n",
      "2/2 [==============================] - 0s 4ms/step - loss: 17.9992 - mae: 17.9992\n",
      "Epoch 20/100\n",
      "2/2 [==============================] - 0s 3ms/step - loss: 15.1332 - mae: 15.1332\n",
      "Epoch 21/100\n",
      "2/2 [==============================] - 0s 5ms/step - loss: 11.0943 - mae: 11.0943\n",
      "Epoch 22/100\n",
      "2/2 [==============================] - 0s 4ms/step - loss: 8.2240 - mae: 8.2240\n",
      "Epoch 23/100\n",
      "2/2 [==============================] - 0s 3ms/step - loss: 9.4832 - mae: 9.4832\n",
      "Epoch 24/100\n",
      "2/2 [==============================] - 0s 3ms/step - loss: 7.6873 - mae: 7.6873\n",
      "Epoch 25/100\n",
      "2/2 [==============================] - 0s 3ms/step - loss: 13.0937 - mae: 13.0937\n",
      "Epoch 26/100\n",
      "2/2 [==============================] - 0s 3ms/step - loss: 16.5037 - mae: 16.5037\n",
      "Epoch 27/100\n",
      "2/2 [==============================] - 0s 2ms/step - loss: 13.2367 - mae: 13.2367\n",
      "Epoch 28/100\n",
      "2/2 [==============================] - 0s 3ms/step - loss: 14.3442 - mae: 14.3442\n",
      "Epoch 29/100\n",
      "2/2 [==============================] - 0s 3ms/step - loss: 10.1002 - mae: 10.1002\n",
      "Epoch 30/100\n",
      "2/2 [==============================] - 0s 2ms/step - loss: 16.4655 - mae: 16.4655\n",
      "Epoch 31/100\n",
      "2/2 [==============================] - 0s 2ms/step - loss: 23.5400 - mae: 23.5400\n",
      "Epoch 32/100\n",
      "2/2 [==============================] - 0s 2ms/step - loss: 7.6169 - mae: 7.6169\n",
      "Epoch 33/100\n",
      "2/2 [==============================] - 0s 4ms/step - loss: 9.3114 - mae: 9.3114\n",
      "Epoch 34/100\n",
      "2/2 [==============================] - 0s 4ms/step - loss: 13.6622 - mae: 13.6622\n",
      "Epoch 35/100\n",
      "2/2 [==============================] - 0s 4ms/step - loss: 11.1856 - mae: 11.1856\n",
      "Epoch 36/100\n",
      "2/2 [==============================] - 0s 3ms/step - loss: 13.4224 - mae: 13.4224\n",
      "Epoch 37/100\n",
      "2/2 [==============================] - 0s 2ms/step - loss: 9.4529 - mae: 9.4529\n",
      "Epoch 38/100\n",
      "2/2 [==============================] - 0s 3ms/step - loss: 10.1033 - mae: 10.1033\n",
      "Epoch 39/100\n",
      "2/2 [==============================] - 0s 4ms/step - loss: 8.9804 - mae: 8.9804\n",
      "Epoch 40/100\n",
      "2/2 [==============================] - 0s 2ms/step - loss: 9.6083 - mae: 9.6083\n",
      "Epoch 41/100\n",
      "2/2 [==============================] - 0s 3ms/step - loss: 10.5678 - mae: 10.5678\n",
      "Epoch 42/100\n",
      "2/2 [==============================] - 0s 2ms/step - loss: 10.6203 - mae: 10.6203\n",
      "Epoch 43/100\n",
      "2/2 [==============================] - 0s 3ms/step - loss: 7.2220 - mae: 7.2220\n",
      "Epoch 44/100\n",
      "2/2 [==============================] - 0s 2ms/step - loss: 8.0223 - mae: 8.0223\n",
      "Epoch 45/100\n",
      "2/2 [==============================] - 0s 4ms/step - loss: 9.8227 - mae: 9.8227\n",
      "Epoch 46/100\n",
      "2/2 [==============================] - 0s 2ms/step - loss: 8.9013 - mae: 8.9013\n",
      "Epoch 47/100\n",
      "2/2 [==============================] - 0s 3ms/step - loss: 7.5790 - mae: 7.5790\n",
      "Epoch 48/100\n",
      "2/2 [==============================] - 0s 3ms/step - loss: 8.5532 - mae: 8.5532\n",
      "Epoch 49/100\n",
      "2/2 [==============================] - 0s 3ms/step - loss: 10.0327 - mae: 10.0327\n",
      "Epoch 50/100\n",
      "2/2 [==============================] - 0s 3ms/step - loss: 9.0007 - mae: 9.0007\n",
      "Epoch 51/100\n",
      "2/2 [==============================] - 0s 4ms/step - loss: 10.7077 - mae: 10.7077\n",
      "Epoch 52/100\n",
      "2/2 [==============================] - 0s 3ms/step - loss: 15.2783 - mae: 15.2783\n",
      "Epoch 53/100\n",
      "2/2 [==============================] - 0s 3ms/step - loss: 14.3053 - mae: 14.3053\n",
      "Epoch 54/100\n",
      "2/2 [==============================] - 0s 2ms/step - loss: 21.5659 - mae: 21.5659\n",
      "Epoch 55/100\n",
      "2/2 [==============================] - 0s 3ms/step - loss: 16.0398 - mae: 16.0398\n",
      "Epoch 56/100\n",
      "2/2 [==============================] - 0s 2ms/step - loss: 10.2637 - mae: 10.2637\n",
      "Epoch 57/100\n",
      "2/2 [==============================] - 0s 3ms/step - loss: 9.7986 - mae: 9.7986\n",
      "Epoch 58/100\n",
      "2/2 [==============================] - 0s 3ms/step - loss: 9.0821 - mae: 9.0821\n",
      "Epoch 59/100\n",
      "2/2 [==============================] - 0s 2ms/step - loss: 8.2851 - mae: 8.2851\n",
      "Epoch 60/100\n",
      "2/2 [==============================] - 0s 3ms/step - loss: 9.3797 - mae: 9.3797\n",
      "Epoch 61/100\n",
      "2/2 [==============================] - 0s 4ms/step - loss: 11.2038 - mae: 11.2038\n",
      "Epoch 62/100\n",
      "2/2 [==============================] - 0s 2ms/step - loss: 12.0511 - mae: 12.0511\n",
      "Epoch 63/100\n",
      "2/2 [==============================] - 0s 3ms/step - loss: 7.2815 - mae: 7.2815\n",
      "Epoch 64/100\n",
      "2/2 [==============================] - 0s 4ms/step - loss: 12.4640 - mae: 12.4640\n",
      "Epoch 65/100\n",
      "2/2 [==============================] - 0s 5ms/step - loss: 10.5397 - mae: 10.5397\n",
      "Epoch 66/100\n",
      "2/2 [==============================] - 0s 5ms/step - loss: 15.5829 - mae: 15.5829\n",
      "Epoch 67/100\n",
      "2/2 [==============================] - 0s 5ms/step - loss: 9.9956 - mae: 9.9956\n",
      "Epoch 68/100\n",
      "2/2 [==============================] - 0s 5ms/step - loss: 8.7212 - mae: 8.7212\n",
      "Epoch 69/100\n",
      "2/2 [==============================] - 0s 3ms/step - loss: 13.4598 - mae: 13.4598\n",
      "Epoch 70/100\n",
      "2/2 [==============================] - 0s 4ms/step - loss: 7.4797 - mae: 7.4797\n",
      "Epoch 71/100\n",
      "2/2 [==============================] - 0s 3ms/step - loss: 12.2666 - mae: 12.2666\n",
      "Epoch 72/100\n",
      "2/2 [==============================] - 0s 5ms/step - loss: 8.5230 - mae: 8.5230\n",
      "Epoch 73/100\n",
      "2/2 [==============================] - 0s 3ms/step - loss: 7.0471 - mae: 7.0471\n",
      "Epoch 74/100\n",
      "2/2 [==============================] - 0s 4ms/step - loss: 9.9043 - mae: 9.9043\n",
      "Epoch 75/100\n",
      "2/2 [==============================] - 0s 3ms/step - loss: 9.9673 - mae: 9.9673\n",
      "Epoch 76/100\n",
      "2/2 [==============================] - 0s 4ms/step - loss: 10.1287 - mae: 10.1287\n",
      "Epoch 77/100\n",
      "2/2 [==============================] - 0s 3ms/step - loss: 12.9958 - mae: 12.9958\n",
      "Epoch 78/100\n",
      "2/2 [==============================] - 0s 3ms/step - loss: 10.9046 - mae: 10.9046\n",
      "Epoch 79/100\n",
      "2/2 [==============================] - 0s 4ms/step - loss: 15.3851 - mae: 15.3851\n",
      "Epoch 80/100\n",
      "2/2 [==============================] - 0s 3ms/step - loss: 11.7382 - mae: 11.7382\n",
      "Epoch 81/100\n",
      "2/2 [==============================] - 0s 3ms/step - loss: 9.2594 - mae: 9.2594\n",
      "Epoch 82/100\n",
      "2/2 [==============================] - 0s 2ms/step - loss: 12.7369 - mae: 12.7369\n",
      "Epoch 83/100\n",
      "2/2 [==============================] - 0s 3ms/step - loss: 8.2912 - mae: 8.2912\n",
      "Epoch 84/100\n",
      "2/2 [==============================] - 0s 2ms/step - loss: 7.3154 - mae: 7.3154\n",
      "Epoch 85/100\n",
      "2/2 [==============================] - 0s 2ms/step - loss: 10.4768 - mae: 10.4768\n",
      "Epoch 86/100\n",
      "2/2 [==============================] - 0s 2ms/step - loss: 9.1490 - mae: 9.1490\n",
      "Epoch 87/100\n",
      "2/2 [==============================] - 0s 3ms/step - loss: 11.8605 - mae: 11.8605\n",
      "Epoch 88/100\n"
     ]
    },
    {
     "name": "stdout",
     "output_type": "stream",
     "text": [
      "2/2 [==============================] - 0s 3ms/step - loss: 10.4698 - mae: 10.4698\n",
      "Epoch 89/100\n",
      "2/2 [==============================] - 0s 3ms/step - loss: 6.9790 - mae: 6.9790\n",
      "Epoch 90/100\n",
      "2/2 [==============================] - 0s 3ms/step - loss: 13.7945 - mae: 13.7945\n",
      "Epoch 91/100\n",
      "2/2 [==============================] - 0s 3ms/step - loss: 7.8755 - mae: 7.8755\n",
      "Epoch 92/100\n",
      "2/2 [==============================] - 0s 2ms/step - loss: 7.9227 - mae: 7.9227\n",
      "Epoch 93/100\n",
      "2/2 [==============================] - 0s 2ms/step - loss: 9.4166 - mae: 9.4166\n",
      "Epoch 94/100\n",
      "2/2 [==============================] - 0s 3ms/step - loss: 8.7383 - mae: 8.7383\n",
      "Epoch 95/100\n",
      "2/2 [==============================] - 0s 4ms/step - loss: 9.8535 - mae: 9.8535\n",
      "Epoch 96/100\n",
      "2/2 [==============================] - 0s 3ms/step - loss: 7.3525 - mae: 7.3525\n",
      "Epoch 97/100\n",
      "2/2 [==============================] - 0s 3ms/step - loss: 6.8644 - mae: 6.8644\n",
      "Epoch 98/100\n",
      "2/2 [==============================] - 0s 3ms/step - loss: 7.2594 - mae: 7.2594\n",
      "Epoch 99/100\n",
      "2/2 [==============================] - 0s 5ms/step - loss: 7.4098 - mae: 7.4098\n",
      "Epoch 100/100\n",
      "2/2 [==============================] - 0s 4ms/step - loss: 11.1184 - mae: 11.1184\n"
     ]
    }
   ],
   "source": [
    "# Set random seed\n",
    "tf.random.set_seed(42)\n",
    "\n",
    "# 1. Create the model\n",
    "model_1 = tf.keras.Sequential([\n",
    "    tf.keras.layers.Dense(1)\n",
    "])\n",
    "\n",
    "# 2. Compile the model\n",
    "model_1.compile(loss=tf.keras.losses.mae,\n",
    "               optimizer=tf.keras.optimizers.SGD(),\n",
    "               metrics=[\"mae\"])\n",
    "\n",
    "# 3. Fit the model\n",
    "model_1.fit(tf.expand_dims(X_train,axis=-1), y_train, epochs=100);"
   ]
  },
  {
   "cell_type": "code",
   "execution_count": 64,
   "id": "a4bc8d7f",
   "metadata": {},
   "outputs": [
    {
     "name": "stdout",
     "output_type": "stream",
     "text": [
      "WARNING:tensorflow:6 out of the last 7 calls to <function Model.make_predict_function.<locals>.predict_function at 0x00000240EDF72940> triggered tf.function retracing. Tracing is expensive and the excessive number of tracings could be due to (1) creating @tf.function repeatedly in a loop, (2) passing tensors with different shapes, (3) passing Python objects instead of tensors. For (1), please define your @tf.function outside of the loop. For (2), @tf.function has reduce_retracing=True option that can avoid unnecessary retracing. For (3), please refer to https://www.tensorflow.org/guide/function#controlling_retracing and https://www.tensorflow.org/api_docs/python/tf/function for  more details.\n",
      "1/1 [==============================] - 0s 52ms/step\n"
     ]
    },
    {
     "data": {
      "image/png": "[encoded data removed]",
      "text/plain": [
       "<Figure size 720x504 with 1 Axes>"
      ]
     },
     "metadata": {
      "needs_background": "light"
     },
     "output_type": "display_data"
    }
   ],
   "source": [
    "# Make and plot predictions for model_1\n",
    "y_preds_1 = model_1.predict(tf.expand_dims(X_test,axis=-1))\n",
    "plot_predictions(train_data=X_train,train_labels=y_train,test_data=X_test, test_labels=y_test,predictions=y_preds_1)"
   ]
  },
  {
   "cell_type": "code",
   "execution_count": 65,
   "id": "3ca03c4b",
   "metadata": {},
   "outputs": [
    {
     "data": {
      "text/plain": [
       "(<tf.Tensor: shape=(), dtype=float32, numpy=21.314987>,\n",
       " <tf.Tensor: shape=(), dtype=float32, numpy=457.78214>)"
      ]
     },
     "execution_count": 65,
     "metadata": {},
     "output_type": "execute_result"
    }
   ],
   "source": [
    "# Calculate model_1 evaluation metrics\n",
    "mae_1 = mae(y_test, tf.squeeze(y_preds_1))\n",
    "mse_1 = mse(y_test, tf.squeeze(y_preds_1))\n",
    "mae_1, mse_1"
   ]
  },
  {
   "cell_type": "code",
   "execution_count": null,
   "id": "9a1be0e4",
   "metadata": {},
   "outputs": [],
   "source": []
  },
  {
   "cell_type": "markdown",
   "id": "a70ad7e6",
   "metadata": {},
   "source": [
    "**Creating model_2**: 2 dense layers, trained for 100 epochs"
   ]
  },
  {
   "cell_type": "code",
   "execution_count": 66,
   "id": "cbb34ae4",
   "metadata": {},
   "outputs": [
    {
     "name": "stdout",
     "output_type": "stream",
     "text": [
      "Epoch 1/100\n",
      "2/2 [==============================] - 0s 3ms/step - loss: 70.4958 - mse: 7449.8853\n",
      "Epoch 2/100\n",
      "2/2 [==============================] - 0s 4ms/step - loss: 20.1537 - mse: 640.2356\n",
      "Epoch 3/100\n",
      "2/2 [==============================] - 0s 3ms/step - loss: 17.4540 - mse: 439.1239\n",
      "Epoch 4/100\n",
      "2/2 [==============================] - 0s 3ms/step - loss: 14.6078 - mse: 277.4076\n",
      "Epoch 5/100\n",
      "2/2 [==============================] - 0s 2ms/step - loss: 17.0903 - mse: 390.7853\n",
      "Epoch 6/100\n",
      "2/2 [==============================] - 0s 2ms/step - loss: 10.0517 - mse: 118.3468\n",
      "Epoch 7/100\n",
      "2/2 [==============================] - 0s 4ms/step - loss: 10.9999 - mse: 146.6654\n",
      "Epoch 8/100\n",
      "2/2 [==============================] - 0s 3ms/step - loss: 11.0467 - mse: 151.0903\n",
      "Epoch 9/100\n",
      "2/2 [==============================] - 0s 3ms/step - loss: 39.6562 - mse: 2464.7388\n",
      "Epoch 10/100\n",
      "2/2 [==============================] - 0s 2ms/step - loss: 27.1507 - mse: 1037.1887\n",
      "Epoch 11/100\n",
      "2/2 [==============================] - 0s 3ms/step - loss: 11.0441 - mse: 181.0424\n",
      "Epoch 12/100\n",
      "2/2 [==============================] - 0s 4ms/step - loss: 24.4329 - mse: 838.0848\n",
      "Epoch 13/100\n",
      "2/2 [==============================] - 0s 3ms/step - loss: 19.2520 - mse: 521.2821\n",
      "Epoch 14/100\n",
      "2/2 [==============================] - 0s 4ms/step - loss: 23.4625 - mse: 843.2067\n",
      "Epoch 15/100\n",
      "2/2 [==============================] - 0s 3ms/step - loss: 15.2663 - mse: 313.9980\n",
      "Epoch 16/100\n",
      "2/2 [==============================] - 0s 3ms/step - loss: 11.3669 - mse: 149.9687\n",
      "Epoch 17/100\n",
      "2/2 [==============================] - 0s 2ms/step - loss: 23.1855 - mse: 752.3427\n",
      "Epoch 18/100\n",
      "2/2 [==============================] - 0s 3ms/step - loss: 11.7826 - mse: 212.5694\n",
      "Epoch 19/100\n",
      "2/2 [==============================] - 0s 4ms/step - loss: 16.4600 - mse: 434.5614\n",
      "Epoch 20/100\n",
      "2/2 [==============================] - 0s 2ms/step - loss: 8.2571 - mse: 93.6356\n",
      "Epoch 21/100\n",
      "2/2 [==============================] - 0s 2ms/step - loss: 14.4419 - mse: 289.1241\n",
      "Epoch 22/100\n",
      "2/2 [==============================] - 0s 2ms/step - loss: 12.8556 - mse: 246.3057\n",
      "Epoch 23/100\n",
      "2/2 [==============================] - 0s 4ms/step - loss: 15.4964 - mse: 315.4908\n",
      "Epoch 24/100\n",
      "2/2 [==============================] - 0s 3ms/step - loss: 15.2862 - mse: 316.5432\n",
      "Epoch 25/100\n",
      "2/2 [==============================] - 0s 2ms/step - loss: 14.3590 - mse: 273.1427\n",
      "Epoch 26/100\n",
      "2/2 [==============================] - 0s 3ms/step - loss: 19.3718 - mse: 569.3468\n",
      "Epoch 27/100\n",
      "2/2 [==============================] - 0s 3ms/step - loss: 11.4547 - mse: 168.3279\n",
      "Epoch 28/100\n",
      "2/2 [==============================] - 0s 3ms/step - loss: 29.0113 - mse: 1367.8470\n",
      "Epoch 29/100\n",
      "2/2 [==============================] - 0s 3ms/step - loss: 9.2643 - mse: 95.0084\n",
      "Epoch 30/100\n",
      "2/2 [==============================] - 0s 4ms/step - loss: 29.7574 - mse: 1601.9858\n",
      "Epoch 31/100\n",
      "2/2 [==============================] - 0s 2ms/step - loss: 53.9872 - mse: 5221.0591\n",
      "Epoch 32/100\n",
      "2/2 [==============================] - 0s 3ms/step - loss: 9.5655 - mse: 101.2566\n",
      "Epoch 33/100\n",
      "2/2 [==============================] - 0s 3ms/step - loss: 12.1531 - mse: 179.8084\n",
      "Epoch 34/100\n",
      "2/2 [==============================] - 0s 2ms/step - loss: 23.7927 - mse: 857.3789\n",
      "Epoch 35/100\n",
      "2/2 [==============================] - 0s 3ms/step - loss: 12.6503 - mse: 242.2793\n",
      "Epoch 36/100\n",
      "2/2 [==============================] - 0s 3ms/step - loss: 21.5803 - mse: 664.0947\n",
      "Epoch 37/100\n",
      "2/2 [==============================] - 0s 3ms/step - loss: 11.3515 - mse: 149.4702\n",
      "Epoch 38/100\n",
      "2/2 [==============================] - 0s 3ms/step - loss: 13.4001 - mse: 265.7222\n",
      "Epoch 39/100\n",
      "2/2 [==============================] - 0s 3ms/step - loss: 10.7666 - mse: 137.5633\n",
      "Epoch 40/100\n",
      "2/2 [==============================] - 0s 4ms/step - loss: 16.2061 - mse: 379.2002\n",
      "Epoch 41/100\n",
      "2/2 [==============================] - 0s 3ms/step - loss: 12.2065 - mse: 188.4865\n",
      "Epoch 42/100\n",
      "2/2 [==============================] - 0s 2ms/step - loss: 10.2345 - mse: 115.5546\n",
      "Epoch 43/100\n",
      "2/2 [==============================] - 0s 3ms/step - loss: 9.9089 - mse: 107.3337\n",
      "Epoch 44/100\n",
      "2/2 [==============================] - 0s 4ms/step - loss: 31.5681 - mse: 1632.3580\n",
      "Epoch 45/100\n",
      "2/2 [==============================] - 0s 3ms/step - loss: 12.2854 - mse: 190.5495\n",
      "Epoch 46/100\n",
      "2/2 [==============================] - 0s 2ms/step - loss: 16.9704 - mse: 430.7365\n",
      "Epoch 47/100\n",
      "2/2 [==============================] - 0s 3ms/step - loss: 15.9619 - mse: 347.1924\n",
      "Epoch 48/100\n",
      "2/2 [==============================] - 0s 2ms/step - loss: 8.9002 - mse: 128.4898\n",
      "Epoch 49/100\n",
      "2/2 [==============================] - 0s 3ms/step - loss: 13.4250 - mse: 263.6387\n",
      "Epoch 50/100\n",
      "2/2 [==============================] - 0s 2ms/step - loss: 14.9688 - mse: 298.6365\n",
      "Epoch 51/100\n",
      "2/2 [==============================] - 0s 2ms/step - loss: 13.5464 - mse: 252.1762\n",
      "Epoch 52/100\n",
      "2/2 [==============================] - 0s 2ms/step - loss: 17.9877 - mse: 450.7751\n",
      "Epoch 53/100\n",
      "2/2 [==============================] - 0s 3ms/step - loss: 22.4898 - mse: 734.1244\n",
      "Epoch 54/100\n",
      "2/2 [==============================] - 0s 3ms/step - loss: 27.4906 - mse: 1172.8745\n",
      "Epoch 55/100\n",
      "2/2 [==============================] - 0s 3ms/step - loss: 27.2097 - mse: 1130.2865\n",
      "Epoch 56/100\n",
      "2/2 [==============================] - 0s 3ms/step - loss: 11.6019 - mse: 174.1539\n",
      "Epoch 57/100\n",
      "2/2 [==============================] - 0s 3ms/step - loss: 13.7047 - mse: 242.2166\n",
      "Epoch 58/100\n",
      "2/2 [==============================] - 0s 3ms/step - loss: 10.1452 - mse: 115.1814\n",
      "Epoch 59/100\n",
      "2/2 [==============================] - 0s 3ms/step - loss: 14.6475 - mse: 308.6169\n",
      "Epoch 60/100\n",
      "2/2 [==============================] - 0s 3ms/step - loss: 10.0852 - mse: 119.8913\n",
      "Epoch 61/100\n",
      "2/2 [==============================] - 0s 3ms/step - loss: 15.1529 - mse: 316.8300\n",
      "Epoch 62/100\n",
      "2/2 [==============================] - 0s 4ms/step - loss: 12.0499 - mse: 203.2800\n",
      "Epoch 63/100\n",
      "2/2 [==============================] - 0s 2ms/step - loss: 10.3624 - mse: 139.8847\n",
      "Epoch 64/100\n",
      "2/2 [==============================] - 0s 2ms/step - loss: 24.1536 - mse: 858.5285\n",
      "Epoch 65/100\n",
      "2/2 [==============================] - 0s 4ms/step - loss: 10.5404 - mse: 133.6861\n",
      "Epoch 66/100\n",
      "2/2 [==============================] - 0s 3ms/step - loss: 21.1630 - mse: 660.1869\n",
      "Epoch 67/100\n",
      "2/2 [==============================] - 0s 2ms/step - loss: 10.5292 - mse: 128.9339\n",
      "Epoch 68/100\n",
      "2/2 [==============================] - 0s 3ms/step - loss: 14.3367 - mse: 309.6322\n",
      "Epoch 69/100\n",
      "2/2 [==============================] - 0s 2ms/step - loss: 10.6099 - mse: 128.8157\n",
      "Epoch 70/100\n",
      "2/2 [==============================] - 0s 2ms/step - loss: 12.6904 - mse: 204.3636\n",
      "Epoch 71/100\n",
      "2/2 [==============================] - 0s 3ms/step - loss: 13.1132 - mse: 230.8330\n",
      "Epoch 72/100\n",
      "2/2 [==============================] - 0s 3ms/step - loss: 19.5460 - mse: 542.2421\n",
      "Epoch 73/100\n",
      "2/2 [==============================] - 0s 3ms/step - loss: 11.1922 - mse: 192.4623\n",
      "Epoch 74/100\n",
      "2/2 [==============================] - 0s 4ms/step - loss: 21.7911 - mse: 738.9254\n",
      "Epoch 75/100\n",
      "2/2 [==============================] - 0s 3ms/step - loss: 7.2279 - mse: 71.8426\n",
      "Epoch 76/100\n",
      "2/2 [==============================] - 0s 3ms/step - loss: 9.4450 - mse: 149.6930\n",
      "Epoch 77/100\n",
      "2/2 [==============================] - 0s 3ms/step - loss: 22.1086 - mse: 730.0547\n",
      "Epoch 78/100\n",
      "2/2 [==============================] - 0s 3ms/step - loss: 17.5901 - mse: 470.2564\n",
      "Epoch 79/100\n",
      "2/2 [==============================] - 0s 4ms/step - loss: 14.7975 - mse: 320.3848\n",
      "Epoch 80/100\n",
      "2/2 [==============================] - 0s 2ms/step - loss: 25.0340 - mse: 955.5843\n",
      "Epoch 81/100\n",
      "2/2 [==============================] - 0s 2ms/step - loss: 10.8782 - mse: 139.3721\n",
      "Epoch 82/100\n",
      "2/2 [==============================] - 0s 2ms/step - loss: 12.7937 - mse: 233.3788\n",
      "Epoch 83/100\n",
      "2/2 [==============================] - 0s 4ms/step - loss: 17.5846 - mse: 403.2191\n",
      "Epoch 84/100\n",
      "2/2 [==============================] - 0s 3ms/step - loss: 7.3131 - mse: 73.4895\n",
      "Epoch 85/100\n",
      "2/2 [==============================] - 0s 3ms/step - loss: 15.0954 - mse: 317.9312\n",
      "Epoch 86/100\n"
     ]
    },
    {
     "name": "stdout",
     "output_type": "stream",
     "text": [
      "2/2 [==============================] - 0s 4ms/step - loss: 15.3932 - mse: 318.3103\n",
      "Epoch 87/100\n",
      "2/2 [==============================] - 0s 4ms/step - loss: 19.3153 - mse: 530.7104\n",
      "Epoch 88/100\n",
      "2/2 [==============================] - 0s 2ms/step - loss: 29.2900 - mse: 1238.4730\n",
      "Epoch 89/100\n",
      "2/2 [==============================] - 0s 4ms/step - loss: 10.1174 - mse: 124.5082\n",
      "Epoch 90/100\n",
      "2/2 [==============================] - 0s 3ms/step - loss: 21.0775 - mse: 636.1093\n",
      "Epoch 91/100\n",
      "2/2 [==============================] - 0s 4ms/step - loss: 10.4834 - mse: 164.1729\n",
      "Epoch 92/100\n",
      "2/2 [==============================] - 0s 3ms/step - loss: 17.9909 - mse: 442.7770\n",
      "Epoch 93/100\n",
      "2/2 [==============================] - 0s 3ms/step - loss: 6.5706 - mse: 61.6766\n",
      "Epoch 94/100\n",
      "2/2 [==============================] - 0s 6ms/step - loss: 11.1351 - mse: 152.9965\n",
      "Epoch 95/100\n",
      "2/2 [==============================] - 0s 3ms/step - loss: 24.3582 - mse: 890.0319\n",
      "Epoch 96/100\n",
      "2/2 [==============================] - 0s 4ms/step - loss: 10.7402 - mse: 172.9231\n",
      "Epoch 97/100\n",
      "2/2 [==============================] - 0s 3ms/step - loss: 15.3515 - mse: 357.0276\n",
      "Epoch 98/100\n",
      "2/2 [==============================] - 0s 3ms/step - loss: 8.2549 - mse: 111.4680\n",
      "Epoch 99/100\n",
      "2/2 [==============================] - 0s 3ms/step - loss: 16.5170 - mse: 383.1447\n",
      "Epoch 100/100\n",
      "2/2 [==============================] - 0s 3ms/step - loss: 14.3007 - mse: 295.1734\n"
     ]
    },
    {
     "data": {
      "text/plain": [
       "<keras.callbacks.History at 0x240ef0413a0>"
      ]
     },
     "execution_count": 66,
     "metadata": {},
     "output_type": "execute_result"
    }
   ],
   "source": [
    "# Set the random seed\n",
    "tf.random.set_seed(42)\n",
    "\n",
    "# 1. Create the model\n",
    "model_2 = tf.keras.Sequential([\n",
    "    tf.keras.layers.Dense(10, input_shape=[1], name=\"input_layer\"), # the number of unit (10) here is arbitrary, can be \n",
    "                                                                    #   set to anything\n",
    "    tf.keras.layers.Dense(1)\n",
    "])\n",
    "\n",
    "# 2. Compiling the model\n",
    "model_2.compile(loss=tf.keras.losses.mae,\n",
    "               optimizer= tf.keras.optimizers.SGD(),\n",
    "               metrics=[\"mse\"])\n",
    "\n",
    "# 3. Fit the model\n",
    "model_2.fit(X_train, y_train, epochs=100)"
   ]
  },
  {
   "cell_type": "code",
   "execution_count": 67,
   "id": "66520bba",
   "metadata": {},
   "outputs": [
    {
     "data": {
      "text/plain": [
       "<tf.Tensor: shape=(10,), dtype=int32, numpy=array([60, 64, 68, 72, 76, 80, 84, 88, 92, 96])>"
      ]
     },
     "execution_count": 67,
     "metadata": {},
     "output_type": "execute_result"
    }
   ],
   "source": [
    "X_test"
   ]
  },
  {
   "cell_type": "code",
   "execution_count": 68,
   "id": "dd823c5a",
   "metadata": {},
   "outputs": [
    {
     "name": "stdout",
     "output_type": "stream",
     "text": [
      "1/1 [==============================] - 0s 65ms/step\n"
     ]
    },
    {
     "data": {
      "image/png": "[encoded data removed]",
      "text/plain": [
       "<Figure size 720x504 with 1 Axes>"
      ]
     },
     "metadata": {
      "needs_background": "light"
     },
     "output_type": "display_data"
    }
   ],
   "source": [
    "# Make and plot predictions of model_2\n",
    "y_preds_2 = model_2.predict(X_test)\n",
    "plot_predictions(predictions=y_preds_2) #train_data=X_train,train_labels=y_train,test_data=X_test, test_labels=y_test,"
   ]
  },
  {
   "cell_type": "markdown",
   "id": "da9172b2",
   "metadata": {},
   "source": [
    "Our red dots (predictions) are a lot closer to the green dots (test label). This model is much better than the previous one."
   ]
  },
  {
   "cell_type": "code",
   "execution_count": 69,
   "id": "e546497e",
   "metadata": {},
   "outputs": [
    {
     "data": {
      "text/plain": [
       "(<tf.Tensor: shape=(), dtype=float32, numpy=10.718703>,\n",
       " <tf.Tensor: shape=(), dtype=float32, numpy=122.72459>)"
      ]
     },
     "execution_count": 69,
     "metadata": {},
     "output_type": "execute_result"
    }
   ],
   "source": [
    "# Calculate model_2 evaluation metrics\n",
    "mae_2 = mae(y_test, tf.squeeze(y_preds_2))\n",
    "mse_2 = mse(y_test, tf.squeeze(y_preds_2))\n",
    "\n",
    "mae_2, mse_2"
   ]
  },
  {
   "cell_type": "code",
   "execution_count": 70,
   "id": "c8bdb12d",
   "metadata": {},
   "outputs": [
    {
     "data": {
      "text/plain": [
       "(<tf.Tensor: shape=(), dtype=float32, numpy=21.314987>,\n",
       " <tf.Tensor: shape=(), dtype=float32, numpy=457.78214>)"
      ]
     },
     "execution_count": 70,
     "metadata": {},
     "output_type": "execute_result"
    }
   ],
   "source": [
    "# Let's compare the above metrics with mae_1 & mse_1\n",
    "mae_1, mse_1"
   ]
  },
  {
   "cell_type": "markdown",
   "id": "87641eb8",
   "metadata": {},
   "source": [
    "We can confirm that model_2 is doing much better than model_1"
   ]
  },
  {
   "cell_type": "code",
   "execution_count": null,
   "id": "598ee01d",
   "metadata": {},
   "outputs": [],
   "source": []
  },
  {
   "cell_type": "markdown",
   "id": "3ea78437",
   "metadata": {},
   "source": [
    "**Build `model_3`** - 2 layers, trained for 500 epochs   \n",
    "\n",
    "The only thing we will change here, compared to model_2, is the number of epochs."
   ]
  },
  {
   "cell_type": "code",
   "execution_count": 71,
   "id": "53aed91f",
   "metadata": {},
   "outputs": [
    {
     "name": "stdout",
     "output_type": "stream",
     "text": [
      "Epoch 1/500\n",
      "2/2 [==============================] - 0s 4ms/step - loss: 63.4069 - mae: 63.4069\n",
      "Epoch 2/500\n",
      "2/2 [==============================] - 0s 4ms/step - loss: 42.8346 - mae: 42.8346\n",
      "Epoch 3/500\n",
      "2/2 [==============================] - 0s 3ms/step - loss: 35.7808 - mae: 35.7808\n",
      "Epoch 4/500\n",
      "2/2 [==============================] - 0s 4ms/step - loss: 17.5929 - mae: 17.5929\n",
      "Epoch 5/500\n",
      "2/2 [==============================] - 0s 3ms/step - loss: 22.4030 - mae: 22.4030\n",
      "Epoch 6/500\n",
      "2/2 [==============================] - 0s 4ms/step - loss: 13.7410 - mae: 13.7410\n",
      "Epoch 7/500\n",
      "2/2 [==============================] - 0s 3ms/step - loss: 12.9186 - mae: 12.9186\n",
      "Epoch 8/500\n",
      "2/2 [==============================] - 0s 4ms/step - loss: 11.2606 - mae: 11.2606\n",
      "Epoch 9/500\n",
      "2/2 [==============================] - 0s 3ms/step - loss: 41.5399 - mae: 41.5399\n",
      "Epoch 10/500\n",
      "2/2 [==============================] - 0s 3ms/step - loss: 28.7973 - mae: 28.7973\n",
      "Epoch 11/500\n",
      "2/2 [==============================] - 0s 2ms/step - loss: 9.4253 - mae: 9.4253\n",
      "Epoch 12/500\n",
      "2/2 [==============================] - 0s 3ms/step - loss: 26.4128 - mae: 26.4128\n",
      "Epoch 13/500\n",
      "2/2 [==============================] - 0s 4ms/step - loss: 14.5546 - mae: 14.5546\n",
      "Epoch 14/500\n",
      "2/2 [==============================] - 0s 2ms/step - loss: 30.1489 - mae: 30.1489\n",
      "Epoch 15/500\n",
      "2/2 [==============================] - 0s 3ms/step - loss: 19.9403 - mae: 19.9403\n",
      "Epoch 16/500\n",
      "2/2 [==============================] - 0s 3ms/step - loss: 9.9077 - mae: 9.9077\n",
      "Epoch 17/500\n",
      "2/2 [==============================] - 0s 2ms/step - loss: 17.8039 - mae: 17.8039\n",
      "Epoch 18/500\n",
      "2/2 [==============================] - 0s 3ms/step - loss: 14.2719 - mae: 14.2719\n",
      "Epoch 19/500\n",
      "2/2 [==============================] - 0s 2ms/step - loss: 14.1175 - mae: 14.1175\n",
      "Epoch 20/500\n",
      "2/2 [==============================] - 0s 4ms/step - loss: 11.2862 - mae: 11.2862\n",
      "Epoch 21/500\n",
      "2/2 [==============================] - 0s 4ms/step - loss: 17.4470 - mae: 17.4470\n",
      "Epoch 22/500\n",
      "2/2 [==============================] - 0s 3ms/step - loss: 15.9723 - mae: 15.9723\n",
      "Epoch 23/500\n",
      "2/2 [==============================] - 0s 5ms/step - loss: 9.8527 - mae: 9.8527\n",
      "Epoch 24/500\n",
      "2/2 [==============================] - 0s 3ms/step - loss: 16.4411 - mae: 16.4411\n",
      "Epoch 25/500\n",
      "2/2 [==============================] - 0s 3ms/step - loss: 15.3784 - mae: 15.3784\n",
      "Epoch 26/500\n",
      "2/2 [==============================] - 0s 3ms/step - loss: 20.5913 - mae: 20.5913\n",
      "Epoch 27/500\n",
      "2/2 [==============================] - 0s 2ms/step - loss: 26.3190 - mae: 26.3190\n",
      "Epoch 28/500\n",
      "2/2 [==============================] - 0s 4ms/step - loss: 18.7709 - mae: 18.7709\n",
      "Epoch 29/500\n",
      "2/2 [==============================] - 0s 3ms/step - loss: 9.2613 - mae: 9.2613\n",
      "Epoch 30/500\n",
      "2/2 [==============================] - 0s 3ms/step - loss: 29.4009 - mae: 29.4009\n",
      "Epoch 31/500\n",
      "2/2 [==============================] - 0s 2ms/step - loss: 53.2885 - mae: 53.2885\n",
      "Epoch 32/500\n",
      "2/2 [==============================] - 0s 3ms/step - loss: 9.4817 - mae: 9.4817\n",
      "Epoch 33/500\n",
      "2/2 [==============================] - 0s 3ms/step - loss: 12.0558 - mae: 12.0558\n",
      "Epoch 34/500\n",
      "2/2 [==============================] - 0s 2ms/step - loss: 23.2592 - mae: 23.2592\n",
      "Epoch 35/500\n",
      "2/2 [==============================] - 0s 3ms/step - loss: 11.8558 - mae: 11.8558\n",
      "Epoch 36/500\n",
      "2/2 [==============================] - 0s 4ms/step - loss: 21.8306 - mae: 21.8306\n",
      "Epoch 37/500\n",
      "2/2 [==============================] - 0s 3ms/step - loss: 11.1364 - mae: 11.1364\n",
      "Epoch 38/500\n",
      "2/2 [==============================] - 0s 2ms/step - loss: 12.7234 - mae: 12.7234\n",
      "Epoch 39/500\n",
      "2/2 [==============================] - 0s 2ms/step - loss: 11.6009 - mae: 11.6009\n",
      "Epoch 40/500\n",
      "2/2 [==============================] - 0s 2ms/step - loss: 19.2133 - mae: 19.2133\n",
      "Epoch 41/500\n",
      "2/2 [==============================] - 0s 3ms/step - loss: 10.9605 - mae: 10.9605\n",
      "Epoch 42/500\n",
      "2/2 [==============================] - 0s 2ms/step - loss: 9.2919 - mae: 9.2919\n",
      "Epoch 43/500\n",
      "2/2 [==============================] - 0s 2ms/step - loss: 9.6001 - mae: 9.6001\n",
      "Epoch 44/500\n",
      "2/2 [==============================] - 0s 996us/step - loss: 27.8778 - mae: 27.8778\n",
      "Epoch 45/500\n",
      "2/2 [==============================] - 0s 3ms/step - loss: 11.2698 - mae: 11.2698\n",
      "Epoch 46/500\n",
      "2/2 [==============================] - 0s 3ms/step - loss: 13.8448 - mae: 13.8448\n",
      "Epoch 47/500\n",
      "2/2 [==============================] - 0s 3ms/step - loss: 11.9383 - mae: 11.9383\n",
      "Epoch 48/500\n",
      "2/2 [==============================] - 0s 2ms/step - loss: 16.9801 - mae: 16.9801\n",
      "Epoch 49/500\n",
      "2/2 [==============================] - 0s 3ms/step - loss: 9.7756 - mae: 9.7756\n",
      "Epoch 50/500\n",
      "2/2 [==============================] - 0s 3ms/step - loss: 14.1559 - mae: 14.1559\n",
      "Epoch 51/500\n",
      "2/2 [==============================] - 0s 2ms/step - loss: 11.7409 - mae: 11.7409\n",
      "Epoch 52/500\n",
      "2/2 [==============================] - 0s 2ms/step - loss: 31.2987 - mae: 31.2987\n",
      "Epoch 53/500\n",
      "2/2 [==============================] - 0s 2ms/step - loss: 14.6934 - mae: 14.6934\n",
      "Epoch 54/500\n",
      "2/2 [==============================] - 0s 2ms/step - loss: 24.5482 - mae: 24.5482\n",
      "Epoch 55/500\n",
      "2/2 [==============================] - 0s 2ms/step - loss: 23.8286 - mae: 23.8286\n",
      "Epoch 56/500\n",
      "2/2 [==============================] - 0s 3ms/step - loss: 11.1132 - mae: 11.1132\n",
      "Epoch 57/500\n",
      "2/2 [==============================] - 0s 4ms/step - loss: 13.0410 - mae: 13.0410\n",
      "Epoch 58/500\n",
      "2/2 [==============================] - 0s 3ms/step - loss: 9.7743 - mae: 9.7743\n",
      "Epoch 59/500\n",
      "2/2 [==============================] - 0s 3ms/step - loss: 13.2062 - mae: 13.2062\n",
      "Epoch 60/500\n",
      "2/2 [==============================] - 0s 3ms/step - loss: 10.8214 - mae: 10.8214\n",
      "Epoch 61/500\n",
      "2/2 [==============================] - 0s 3ms/step - loss: 13.3860 - mae: 13.3860\n",
      "Epoch 62/500\n",
      "2/2 [==============================] - 0s 3ms/step - loss: 17.3038 - mae: 17.3038\n",
      "Epoch 63/500\n",
      "2/2 [==============================] - 0s 3ms/step - loss: 9.1322 - mae: 9.1322\n",
      "Epoch 64/500\n",
      "2/2 [==============================] - 0s 3ms/step - loss: 17.9266 - mae: 17.9266\n",
      "Epoch 65/500\n",
      "2/2 [==============================] - 0s 2ms/step - loss: 10.6144 - mae: 10.6144\n",
      "Epoch 66/500\n",
      "2/2 [==============================] - 0s 2ms/step - loss: 21.4306 - mae: 21.4306\n",
      "Epoch 67/500\n",
      "2/2 [==============================] - 0s 2ms/step - loss: 10.6197 - mae: 10.6197\n",
      "Epoch 68/500\n",
      "2/2 [==============================] - 0s 3ms/step - loss: 14.8221 - mae: 14.8221\n",
      "Epoch 69/500\n",
      "2/2 [==============================] - 0s 3ms/step - loss: 10.7588 - mae: 10.7588\n",
      "Epoch 70/500\n",
      "2/2 [==============================] - 0s 3ms/step - loss: 12.8570 - mae: 12.8570\n",
      "Epoch 71/500\n",
      "2/2 [==============================] - 0s 3ms/step - loss: 13.2745 - mae: 13.2745\n",
      "Epoch 72/500\n",
      "2/2 [==============================] - 0s 2ms/step - loss: 19.8891 - mae: 19.8891\n",
      "Epoch 73/500\n",
      "2/2 [==============================] - 0s 3ms/step - loss: 11.2925 - mae: 11.2925\n",
      "Epoch 74/500\n",
      "2/2 [==============================] - 0s 4ms/step - loss: 22.1789 - mae: 22.1789\n",
      "Epoch 75/500\n",
      "2/2 [==============================] - 0s 2ms/step - loss: 6.9644 - mae: 6.9644\n",
      "Epoch 76/500\n",
      "2/2 [==============================] - 0s 3ms/step - loss: 11.4253 - mae: 11.4253\n",
      "Epoch 77/500\n",
      "2/2 [==============================] - 0s 3ms/step - loss: 21.5635 - mae: 21.5635\n",
      "Epoch 78/500\n",
      "2/2 [==============================] - 0s 4ms/step - loss: 18.6459 - mae: 18.6459\n",
      "Epoch 79/500\n",
      "2/2 [==============================] - 0s 3ms/step - loss: 15.9681 - mae: 15.9681\n",
      "Epoch 80/500\n",
      "2/2 [==============================] - 0s 2ms/step - loss: 23.6017 - mae: 23.6017\n",
      "Epoch 81/500\n",
      "2/2 [==============================] - 0s 3ms/step - loss: 11.0056 - mae: 11.0056\n",
      "Epoch 82/500\n",
      "2/2 [==============================] - 0s 3ms/step - loss: 12.7328 - mae: 12.7328\n",
      "Epoch 83/500\n",
      "2/2 [==============================] - 0s 4ms/step - loss: 17.5050 - mae: 17.5050\n",
      "Epoch 84/500\n",
      "2/2 [==============================] - 0s 3ms/step - loss: 7.3164 - mae: 7.3164\n",
      "Epoch 85/500\n",
      "2/2 [==============================] - 0s 5ms/step - loss: 15.0413 - mae: 15.0413\n",
      "Epoch 86/500\n",
      "2/2 [==============================] - 0s 3ms/step - loss: 15.3525 - mae: 15.3525\n",
      "Epoch 87/500\n"
     ]
    },
    {
     "name": "stdout",
     "output_type": "stream",
     "text": [
      "2/2 [==============================] - 0s 3ms/step - loss: 19.2249 - mae: 19.2249\n",
      "Epoch 88/500\n",
      "2/2 [==============================] - 0s 3ms/step - loss: 29.5335 - mae: 29.5335\n",
      "Epoch 89/500\n",
      "2/2 [==============================] - 0s 3ms/step - loss: 10.1721 - mae: 10.1721\n",
      "Epoch 90/500\n",
      "2/2 [==============================] - 0s 2ms/step - loss: 21.2697 - mae: 21.2697\n",
      "Epoch 91/500\n",
      "2/2 [==============================] - 0s 3ms/step - loss: 10.5470 - mae: 10.5470\n",
      "Epoch 92/500\n",
      "2/2 [==============================] - 0s 3ms/step - loss: 18.1589 - mae: 18.1589\n",
      "Epoch 93/500\n",
      "2/2 [==============================] - 0s 3ms/step - loss: 6.5788 - mae: 6.5788\n",
      "Epoch 94/500\n",
      "2/2 [==============================] - 0s 2ms/step - loss: 11.1962 - mae: 11.1962\n",
      "Epoch 95/500\n",
      "2/2 [==============================] - 0s 2ms/step - loss: 24.5567 - mae: 24.5567\n",
      "Epoch 96/500\n",
      "2/2 [==============================] - 0s 3ms/step - loss: 10.8042 - mae: 10.8042\n",
      "Epoch 97/500\n",
      "2/2 [==============================] - 0s 2ms/step - loss: 15.4867 - mae: 15.4867\n",
      "Epoch 98/500\n",
      "2/2 [==============================] - 0s 2ms/step - loss: 9.0644 - mae: 9.0644\n",
      "Epoch 99/500\n",
      "2/2 [==============================] - 0s 3ms/step - loss: 10.8833 - mae: 10.8833\n",
      "Epoch 100/500\n",
      "2/2 [==============================] - 0s 2ms/step - loss: 27.0290 - mae: 27.0290\n",
      "Epoch 101/500\n",
      "2/2 [==============================] - 0s 2ms/step - loss: 15.0304 - mae: 15.0304\n",
      "Epoch 102/500\n",
      "2/2 [==============================] - 0s 3ms/step - loss: 10.6383 - mae: 10.6383\n",
      "Epoch 103/500\n",
      "2/2 [==============================] - 0s 2ms/step - loss: 9.1437 - mae: 9.1437\n",
      "Epoch 104/500\n",
      "2/2 [==============================] - 0s 2ms/step - loss: 23.4381 - mae: 23.4381\n",
      "Epoch 105/500\n",
      "2/2 [==============================] - 0s 4ms/step - loss: 10.7367 - mae: 10.7367\n",
      "Epoch 106/500\n",
      "2/2 [==============================] - 0s 3ms/step - loss: 11.1963 - mae: 11.1963\n",
      "Epoch 107/500\n",
      "2/2 [==============================] - 0s 3ms/step - loss: 20.9732 - mae: 20.9732\n",
      "Epoch 108/500\n",
      "2/2 [==============================] - 0s 3ms/step - loss: 6.3498 - mae: 6.3498\n",
      "Epoch 109/500\n",
      "2/2 [==============================] - 0s 2ms/step - loss: 10.5022 - mae: 10.5022\n",
      "Epoch 110/500\n",
      "2/2 [==============================] - 0s 3ms/step - loss: 10.4630 - mae: 10.4630\n",
      "Epoch 111/500\n",
      "2/2 [==============================] - 0s 2ms/step - loss: 16.5065 - mae: 16.5065\n",
      "Epoch 112/500\n",
      "2/2 [==============================] - 0s 3ms/step - loss: 9.4688 - mae: 9.4688\n",
      "Epoch 113/500\n",
      "2/2 [==============================] - 0s 3ms/step - loss: 17.0629 - mae: 17.0629\n",
      "Epoch 114/500\n",
      "2/2 [==============================] - 0s 3ms/step - loss: 18.6192 - mae: 18.6192\n",
      "Epoch 115/500\n",
      "2/2 [==============================] - 0s 3ms/step - loss: 10.9726 - mae: 10.9726\n",
      "Epoch 116/500\n",
      "2/2 [==============================] - 0s 3ms/step - loss: 22.6331 - mae: 22.6331\n",
      "Epoch 117/500\n",
      "2/2 [==============================] - 0s 3ms/step - loss: 9.4288 - mae: 9.4288\n",
      "Epoch 118/500\n",
      "2/2 [==============================] - 0s 3ms/step - loss: 10.4640 - mae: 10.4640\n",
      "Epoch 119/500\n",
      "2/2 [==============================] - 0s 2ms/step - loss: 8.0397 - mae: 8.0397\n",
      "Epoch 120/500\n",
      "2/2 [==============================] - 0s 3ms/step - loss: 38.0976 - mae: 38.0976\n",
      "Epoch 121/500\n",
      "2/2 [==============================] - 0s 4ms/step - loss: 11.3359 - mae: 11.3359\n",
      "Epoch 122/500\n",
      "2/2 [==============================] - 0s 4ms/step - loss: 25.4047 - mae: 25.4047\n",
      "Epoch 123/500\n",
      "2/2 [==============================] - 0s 3ms/step - loss: 29.3136 - mae: 29.3136\n",
      "Epoch 124/500\n",
      "2/2 [==============================] - 0s 3ms/step - loss: 16.8128 - mae: 16.8128\n",
      "Epoch 125/500\n",
      "2/2 [==============================] - 0s 5ms/step - loss: 9.3998 - mae: 9.3998\n",
      "Epoch 126/500\n",
      "2/2 [==============================] - 0s 5ms/step - loss: 9.4953 - mae: 9.4953\n",
      "Epoch 127/500\n",
      "2/2 [==============================] - 0s 3ms/step - loss: 12.1150 - mae: 12.1150\n",
      "Epoch 128/500\n",
      "2/2 [==============================] - 0s 3ms/step - loss: 15.0964 - mae: 15.0964\n",
      "Epoch 129/500\n",
      "2/2 [==============================] - 0s 3ms/step - loss: 9.0865 - mae: 9.0865\n",
      "Epoch 130/500\n",
      "2/2 [==============================] - 0s 4ms/step - loss: 24.1790 - mae: 24.1790\n",
      "Epoch 131/500\n",
      "2/2 [==============================] - 0s 3ms/step - loss: 9.8341 - mae: 9.8341\n",
      "Epoch 132/500\n",
      "2/2 [==============================] - 0s 4ms/step - loss: 18.4053 - mae: 18.4053\n",
      "Epoch 133/500\n",
      "2/2 [==============================] - 0s 3ms/step - loss: 7.6414 - mae: 7.6414\n",
      "Epoch 134/500\n",
      "2/2 [==============================] - 0s 3ms/step - loss: 18.6569 - mae: 18.6569\n",
      "Epoch 135/500\n",
      "2/2 [==============================] - 0s 3ms/step - loss: 10.6039 - mae: 10.6039\n",
      "Epoch 136/500\n",
      "2/2 [==============================] - 0s 2ms/step - loss: 18.3195 - mae: 18.3195\n",
      "Epoch 137/500\n",
      "2/2 [==============================] - 0s 4ms/step - loss: 23.2220 - mae: 23.2220\n",
      "Epoch 138/500\n",
      "2/2 [==============================] - 0s 4ms/step - loss: 9.1911 - mae: 9.1911\n",
      "Epoch 139/500\n",
      "2/2 [==============================] - 0s 3ms/step - loss: 8.9629 - mae: 8.9629\n",
      "Epoch 140/500\n",
      "2/2 [==============================] - 0s 3ms/step - loss: 16.4811 - mae: 16.4811\n",
      "Epoch 141/500\n",
      "2/2 [==============================] - 0s 4ms/step - loss: 8.4689 - mae: 8.4689\n",
      "Epoch 142/500\n",
      "2/2 [==============================] - 0s 3ms/step - loss: 36.8728 - mae: 36.8728\n",
      "Epoch 143/500\n",
      "2/2 [==============================] - 0s 3ms/step - loss: 25.5479 - mae: 25.5479\n",
      "Epoch 144/500\n",
      "2/2 [==============================] - 0s 3ms/step - loss: 9.5793 - mae: 9.5793\n",
      "Epoch 145/500\n",
      "2/2 [==============================] - 0s 3ms/step - loss: 26.6368 - mae: 26.6368\n",
      "Epoch 146/500\n",
      "2/2 [==============================] - 0s 4ms/step - loss: 8.7350 - mae: 8.7350\n",
      "Epoch 147/500\n",
      "2/2 [==============================] - 0s 3ms/step - loss: 15.6741 - mae: 15.6741\n",
      "Epoch 148/500\n",
      "2/2 [==============================] - 0s 3ms/step - loss: 18.3703 - mae: 18.3703\n",
      "Epoch 149/500\n",
      "2/2 [==============================] - 0s 4ms/step - loss: 8.1966 - mae: 8.1966\n",
      "Epoch 150/500\n",
      "2/2 [==============================] - 0s 5ms/step - loss: 7.5232 - mae: 7.5232\n",
      "Epoch 151/500\n",
      "2/2 [==============================] - 0s 5ms/step - loss: 18.2056 - mae: 18.2056\n",
      "Epoch 152/500\n",
      "2/2 [==============================] - 0s 4ms/step - loss: 10.2963 - mae: 10.2963\n",
      "Epoch 153/500\n",
      "2/2 [==============================] - 0s 3ms/step - loss: 29.3978 - mae: 29.3978\n",
      "Epoch 154/500\n",
      "2/2 [==============================] - 0s 4ms/step - loss: 10.6297 - mae: 10.6297\n",
      "Epoch 155/500\n",
      "2/2 [==============================] - 0s 3ms/step - loss: 15.5202 - mae: 15.5202\n",
      "Epoch 156/500\n",
      "2/2 [==============================] - 0s 4ms/step - loss: 17.1482 - mae: 17.1482\n",
      "Epoch 157/500\n",
      "2/2 [==============================] - 0s 4ms/step - loss: 32.4935 - mae: 32.4935\n",
      "Epoch 158/500\n",
      "2/2 [==============================] - 0s 4ms/step - loss: 10.6549 - mae: 10.6549\n",
      "Epoch 159/500\n",
      "2/2 [==============================] - 0s 3ms/step - loss: 8.9016 - mae: 8.9016\n",
      "Epoch 160/500\n",
      "2/2 [==============================] - 0s 4ms/step - loss: 21.8721 - mae: 21.8721\n",
      "Epoch 161/500\n",
      "2/2 [==============================] - 0s 3ms/step - loss: 11.1145 - mae: 11.1145\n",
      "Epoch 162/500\n",
      "2/2 [==============================] - 0s 3ms/step - loss: 21.3944 - mae: 21.3944\n",
      "Epoch 163/500\n",
      "2/2 [==============================] - 0s 5ms/step - loss: 18.8786 - mae: 18.8786\n",
      "Epoch 164/500\n",
      "2/2 [==============================] - 0s 4ms/step - loss: 12.7196 - mae: 12.7196\n",
      "Epoch 165/500\n",
      "2/2 [==============================] - 0s 4ms/step - loss: 12.7357 - mae: 12.7357\n",
      "Epoch 166/500\n",
      "2/2 [==============================] - 0s 3ms/step - loss: 18.9127 - mae: 18.9127\n",
      "Epoch 167/500\n",
      "2/2 [==============================] - 0s 2ms/step - loss: 26.8069 - mae: 26.8069\n",
      "Epoch 168/500\n",
      "2/2 [==============================] - 0s 3ms/step - loss: 10.0040 - mae: 10.0040\n",
      "Epoch 169/500\n",
      "2/2 [==============================] - 0s 3ms/step - loss: 23.0442 - mae: 23.0442\n",
      "Epoch 170/500\n",
      "2/2 [==============================] - 0s 3ms/step - loss: 10.0996 - mae: 10.0996\n",
      "Epoch 171/500\n",
      "2/2 [==============================] - 0s 2ms/step - loss: 17.8560 - mae: 17.8560\n",
      "Epoch 172/500\n",
      "2/2 [==============================] - 0s 2ms/step - loss: 29.3046 - mae: 29.3046\n",
      "Epoch 173/500\n"
     ]
    },
    {
     "name": "stdout",
     "output_type": "stream",
     "text": [
      "2/2 [==============================] - 0s 2ms/step - loss: 16.9136 - mae: 16.9136\n",
      "Epoch 174/500\n",
      "2/2 [==============================] - 0s 3ms/step - loss: 11.1951 - mae: 11.1951\n",
      "Epoch 175/500\n",
      "2/2 [==============================] - 0s 3ms/step - loss: 27.4690 - mae: 27.4690\n",
      "Epoch 176/500\n",
      "2/2 [==============================] - 0s 3ms/step - loss: 8.4431 - mae: 8.4431\n",
      "Epoch 177/500\n",
      "2/2 [==============================] - 0s 3ms/step - loss: 9.4039 - mae: 9.4039\n",
      "Epoch 178/500\n",
      "2/2 [==============================] - 0s 2ms/step - loss: 18.5034 - mae: 18.5034\n",
      "Epoch 179/500\n",
      "2/2 [==============================] - 0s 4ms/step - loss: 10.4524 - mae: 10.4524\n",
      "Epoch 180/500\n",
      "2/2 [==============================] - 0s 2ms/step - loss: 8.0063 - mae: 8.0063\n",
      "Epoch 181/500\n",
      "2/2 [==============================] - 0s 3ms/step - loss: 17.6805 - mae: 17.6805\n",
      "Epoch 182/500\n",
      "2/2 [==============================] - 0s 2ms/step - loss: 11.1809 - mae: 11.1809\n",
      "Epoch 183/500\n",
      "2/2 [==============================] - 0s 3ms/step - loss: 12.3495 - mae: 12.3495\n",
      "Epoch 184/500\n",
      "2/2 [==============================] - 0s 3ms/step - loss: 27.2110 - mae: 27.2110\n",
      "Epoch 185/500\n",
      "2/2 [==============================] - 0s 2ms/step - loss: 7.6032 - mae: 7.6032\n",
      "Epoch 186/500\n",
      "2/2 [==============================] - 0s 4ms/step - loss: 16.0149 - mae: 16.0149\n",
      "Epoch 187/500\n",
      "2/2 [==============================] - 0s 3ms/step - loss: 8.6041 - mae: 8.6041\n",
      "Epoch 188/500\n",
      "2/2 [==============================] - 0s 3ms/step - loss: 28.6676 - mae: 28.6676\n",
      "Epoch 189/500\n",
      "2/2 [==============================] - 0s 3ms/step - loss: 13.2006 - mae: 13.2006\n",
      "Epoch 190/500\n",
      "2/2 [==============================] - 0s 2ms/step - loss: 18.3475 - mae: 18.3475\n",
      "Epoch 191/500\n",
      "2/2 [==============================] - 0s 3ms/step - loss: 13.7826 - mae: 13.7826\n",
      "Epoch 192/500\n",
      "2/2 [==============================] - 0s 2ms/step - loss: 13.7465 - mae: 13.7465\n",
      "Epoch 193/500\n",
      "2/2 [==============================] - 0s 3ms/step - loss: 28.6174 - mae: 28.6174\n",
      "Epoch 194/500\n",
      "2/2 [==============================] - 0s 3ms/step - loss: 7.0752 - mae: 7.0752\n",
      "Epoch 195/500\n",
      "2/2 [==============================] - 0s 3ms/step - loss: 7.8119 - mae: 7.8119\n",
      "Epoch 196/500\n",
      "2/2 [==============================] - 0s 3ms/step - loss: 26.0494 - mae: 26.0494\n",
      "Epoch 197/500\n",
      "2/2 [==============================] - 0s 4ms/step - loss: 11.5899 - mae: 11.5899\n",
      "Epoch 198/500\n",
      "2/2 [==============================] - 0s 3ms/step - loss: 18.8812 - mae: 18.8812\n",
      "Epoch 199/500\n",
      "2/2 [==============================] - 0s 4ms/step - loss: 16.6831 - mae: 16.6831\n",
      "Epoch 200/500\n",
      "2/2 [==============================] - 0s 3ms/step - loss: 12.3781 - mae: 12.3781\n",
      "Epoch 201/500\n",
      "2/2 [==============================] - 0s 4ms/step - loss: 7.1311 - mae: 7.1311\n",
      "Epoch 202/500\n",
      "2/2 [==============================] - 0s 3ms/step - loss: 22.8947 - mae: 22.8947\n",
      "Epoch 203/500\n",
      "2/2 [==============================] - 0s 2ms/step - loss: 9.0116 - mae: 9.0116\n",
      "Epoch 204/500\n",
      "2/2 [==============================] - 0s 3ms/step - loss: 18.8461 - mae: 18.8461\n",
      "Epoch 205/500\n",
      "2/2 [==============================] - 0s 3ms/step - loss: 9.4089 - mae: 9.4089\n",
      "Epoch 206/500\n",
      "2/2 [==============================] - 0s 3ms/step - loss: 10.4710 - mae: 10.4710\n",
      "Epoch 207/500\n",
      "2/2 [==============================] - 0s 2ms/step - loss: 21.0649 - mae: 21.0649\n",
      "Epoch 208/500\n",
      "2/2 [==============================] - 0s 3ms/step - loss: 16.4686 - mae: 16.4686\n",
      "Epoch 209/500\n",
      "2/2 [==============================] - 0s 2ms/step - loss: 14.3455 - mae: 14.3455\n",
      "Epoch 210/500\n",
      "2/2 [==============================] - 0s 2ms/step - loss: 17.3097 - mae: 17.3097\n",
      "Epoch 211/500\n",
      "2/2 [==============================] - 0s 2ms/step - loss: 10.2835 - mae: 10.2835\n",
      "Epoch 212/500\n",
      "2/2 [==============================] - 0s 2ms/step - loss: 19.7972 - mae: 19.7972\n",
      "Epoch 213/500\n",
      "2/2 [==============================] - 0s 3ms/step - loss: 14.6665 - mae: 14.6665\n",
      "Epoch 214/500\n",
      "2/2 [==============================] - 0s 3ms/step - loss: 14.3529 - mae: 14.3529\n",
      "Epoch 215/500\n",
      "2/2 [==============================] - 0s 3ms/step - loss: 22.8064 - mae: 22.8064\n",
      "Epoch 216/500\n",
      "2/2 [==============================] - 0s 2ms/step - loss: 14.5168 - mae: 14.5168\n",
      "Epoch 217/500\n",
      "2/2 [==============================] - 0s 3ms/step - loss: 9.2578 - mae: 9.2578\n",
      "Epoch 218/500\n",
      "2/2 [==============================] - 0s 3ms/step - loss: 11.8524 - mae: 11.8524\n",
      "Epoch 219/500\n",
      "2/2 [==============================] - 0s 4ms/step - loss: 6.8336 - mae: 6.8336\n",
      "Epoch 220/500\n",
      "2/2 [==============================] - 0s 4ms/step - loss: 7.1358 - mae: 7.1358\n",
      "Epoch 221/500\n",
      "2/2 [==============================] - 0s 3ms/step - loss: 38.6078 - mae: 38.6078\n",
      "Epoch 222/500\n",
      "2/2 [==============================] - 0s 3ms/step - loss: 38.6550 - mae: 38.6550\n",
      "Epoch 223/500\n",
      "2/2 [==============================] - 0s 3ms/step - loss: 5.0863 - mae: 5.0863\n",
      "Epoch 224/500\n",
      "2/2 [==============================] - 0s 2ms/step - loss: 11.2549 - mae: 11.2549\n",
      "Epoch 225/500\n",
      "2/2 [==============================] - 0s 2ms/step - loss: 31.0980 - mae: 31.0980\n",
      "Epoch 226/500\n",
      "2/2 [==============================] - 0s 2ms/step - loss: 12.2832 - mae: 12.2832\n",
      "Epoch 227/500\n",
      "2/2 [==============================] - 0s 3ms/step - loss: 19.2457 - mae: 19.2457\n",
      "Epoch 228/500\n",
      "2/2 [==============================] - 0s 4ms/step - loss: 11.3014 - mae: 11.3014\n",
      "Epoch 229/500\n",
      "2/2 [==============================] - 0s 2ms/step - loss: 13.7250 - mae: 13.7250\n",
      "Epoch 230/500\n",
      "2/2 [==============================] - 0s 2ms/step - loss: 9.6131 - mae: 9.6131\n",
      "Epoch 231/500\n",
      "2/2 [==============================] - 0s 3ms/step - loss: 19.2537 - mae: 19.2537\n",
      "Epoch 232/500\n",
      "2/2 [==============================] - 0s 3ms/step - loss: 15.8088 - mae: 15.8088\n",
      "Epoch 233/500\n",
      "2/2 [==============================] - 0s 2ms/step - loss: 11.3112 - mae: 11.3112\n",
      "Epoch 234/500\n",
      "2/2 [==============================] - 0s 2ms/step - loss: 11.5255 - mae: 11.5255\n",
      "Epoch 235/500\n",
      "2/2 [==============================] - 0s 2ms/step - loss: 8.5959 - mae: 8.5959\n",
      "Epoch 236/500\n",
      "2/2 [==============================] - 0s 2ms/step - loss: 10.0778 - mae: 10.0778\n",
      "Epoch 237/500\n",
      "2/2 [==============================] - 0s 2ms/step - loss: 7.9471 - mae: 7.9471\n",
      "Epoch 238/500\n",
      "2/2 [==============================] - 0s 2ms/step - loss: 7.4274 - mae: 7.4274\n",
      "Epoch 239/500\n",
      "2/2 [==============================] - 0s 4ms/step - loss: 14.0621 - mae: 14.0621\n",
      "Epoch 240/500\n",
      "2/2 [==============================] - 0s 2ms/step - loss: 9.1814 - mae: 9.1814\n",
      "Epoch 241/500\n",
      "2/2 [==============================] - 0s 1000us/step - loss: 13.6554 - mae: 13.6554\n",
      "Epoch 242/500\n",
      "2/2 [==============================] - 0s 2ms/step - loss: 9.0341 - mae: 9.0341\n",
      "Epoch 243/500\n",
      "2/2 [==============================] - 0s 2ms/step - loss: 19.5953 - mae: 19.5953\n",
      "Epoch 244/500\n",
      "2/2 [==============================] - 0s 3ms/step - loss: 14.3969 - mae: 14.3969\n",
      "Epoch 245/500\n",
      "2/2 [==============================] - 0s 3ms/step - loss: 14.9821 - mae: 14.9821\n",
      "Epoch 246/500\n",
      "2/2 [==============================] - 0s 3ms/step - loss: 16.0934 - mae: 16.0934\n",
      "Epoch 247/500\n",
      "2/2 [==============================] - 0s 3ms/step - loss: 18.0614 - mae: 18.0614\n",
      "Epoch 248/500\n",
      "2/2 [==============================] - 0s 2ms/step - loss: 13.5977 - mae: 13.5977\n",
      "Epoch 249/500\n",
      "2/2 [==============================] - 0s 4ms/step - loss: 14.7393 - mae: 14.7393\n",
      "Epoch 250/500\n",
      "2/2 [==============================] - 0s 4ms/step - loss: 23.6586 - mae: 23.6586\n",
      "Epoch 251/500\n",
      "2/2 [==============================] - 0s 3ms/step - loss: 13.7910 - mae: 13.7910\n",
      "Epoch 252/500\n",
      "2/2 [==============================] - 0s 3ms/step - loss: 22.9029 - mae: 22.9029\n",
      "Epoch 253/500\n",
      "2/2 [==============================] - 0s 2ms/step - loss: 10.4152 - mae: 10.4152\n",
      "Epoch 254/500\n",
      "2/2 [==============================] - 0s 3ms/step - loss: 12.3372 - mae: 12.3372\n",
      "Epoch 255/500\n",
      "2/2 [==============================] - 0s 3ms/step - loss: 16.7319 - mae: 16.7319\n",
      "Epoch 256/500\n",
      "2/2 [==============================] - 0s 3ms/step - loss: 9.4093 - mae: 9.4093\n",
      "Epoch 257/500\n",
      "2/2 [==============================] - 0s 3ms/step - loss: 13.2407 - mae: 13.2407\n",
      "Epoch 258/500\n"
     ]
    },
    {
     "name": "stdout",
     "output_type": "stream",
     "text": [
      "2/2 [==============================] - 0s 2ms/step - loss: 7.4947 - mae: 7.4947\n",
      "Epoch 259/500\n",
      "2/2 [==============================] - 0s 3ms/step - loss: 18.3747 - mae: 18.3747\n",
      "Epoch 260/500\n",
      "2/2 [==============================] - 0s 2ms/step - loss: 25.8890 - mae: 25.8890\n",
      "Epoch 261/500\n",
      "2/2 [==============================] - 0s 2ms/step - loss: 9.4970 - mae: 9.4970\n",
      "Epoch 262/500\n",
      "2/2 [==============================] - 0s 3ms/step - loss: 8.5879 - mae: 8.5879\n",
      "Epoch 263/500\n",
      "2/2 [==============================] - 0s 3ms/step - loss: 8.0895 - mae: 8.0895\n",
      "Epoch 264/500\n",
      "2/2 [==============================] - 0s 3ms/step - loss: 17.8871 - mae: 17.8871\n",
      "Epoch 265/500\n",
      "2/2 [==============================] - 0s 5ms/step - loss: 12.2524 - mae: 12.2524\n",
      "Epoch 266/500\n",
      "2/2 [==============================] - 0s 4ms/step - loss: 13.6335 - mae: 13.6335\n",
      "Epoch 267/500\n",
      "2/2 [==============================] - 0s 3ms/step - loss: 11.2695 - mae: 11.2695\n",
      "Epoch 268/500\n",
      "2/2 [==============================] - 0s 2ms/step - loss: 19.5893 - mae: 19.5893\n",
      "Epoch 269/500\n",
      "2/2 [==============================] - 0s 2ms/step - loss: 39.3743 - mae: 39.3743\n",
      "Epoch 270/500\n",
      "2/2 [==============================] - 0s 3ms/step - loss: 12.0748 - mae: 12.0748\n",
      "Epoch 271/500\n",
      "2/2 [==============================] - 0s 3ms/step - loss: 14.1538 - mae: 14.1538\n",
      "Epoch 272/500\n",
      "2/2 [==============================] - 0s 3ms/step - loss: 28.0134 - mae: 28.0134\n",
      "Epoch 273/500\n",
      "2/2 [==============================] - 0s 4ms/step - loss: 7.9922 - mae: 7.9922\n",
      "Epoch 274/500\n",
      "2/2 [==============================] - 0s 3ms/step - loss: 6.4583 - mae: 6.4583\n",
      "Epoch 275/500\n",
      "2/2 [==============================] - 0s 3ms/step - loss: 33.7209 - mae: 33.7209\n",
      "Epoch 276/500\n",
      "2/2 [==============================] - 0s 3ms/step - loss: 7.9714 - mae: 7.9714\n",
      "Epoch 277/500\n",
      "2/2 [==============================] - 0s 3ms/step - loss: 25.0810 - mae: 25.0810\n",
      "Epoch 278/500\n",
      "2/2 [==============================] - 0s 3ms/step - loss: 11.5759 - mae: 11.5759\n",
      "Epoch 279/500\n",
      "2/2 [==============================] - 0s 3ms/step - loss: 16.3019 - mae: 16.3019\n",
      "Epoch 280/500\n",
      "2/2 [==============================] - 0s 2ms/step - loss: 21.6449 - mae: 21.6449\n",
      "Epoch 281/500\n",
      "2/2 [==============================] - 0s 3ms/step - loss: 22.8188 - mae: 22.8188\n",
      "Epoch 282/500\n",
      "2/2 [==============================] - 0s 2ms/step - loss: 7.9998 - mae: 7.9998\n",
      "Epoch 283/500\n",
      "2/2 [==============================] - 0s 3ms/step - loss: 8.3063 - mae: 8.3063\n",
      "Epoch 284/500\n",
      "2/2 [==============================] - 0s 3ms/step - loss: 25.5581 - mae: 25.5581\n",
      "Epoch 285/500\n",
      "2/2 [==============================] - 0s 3ms/step - loss: 14.1690 - mae: 14.1690\n",
      "Epoch 286/500\n",
      "2/2 [==============================] - 0s 3ms/step - loss: 6.0381 - mae: 6.0381\n",
      "Epoch 287/500\n",
      "2/2 [==============================] - 0s 2ms/step - loss: 18.9988 - mae: 18.9988\n",
      "Epoch 288/500\n",
      "2/2 [==============================] - 0s 3ms/step - loss: 32.8786 - mae: 32.8786\n",
      "Epoch 289/500\n",
      "2/2 [==============================] - 0s 4ms/step - loss: 8.3958 - mae: 8.3958\n",
      "Epoch 290/500\n",
      "2/2 [==============================] - 0s 3ms/step - loss: 16.8830 - mae: 16.8830\n",
      "Epoch 291/500\n",
      "2/2 [==============================] - 0s 3ms/step - loss: 17.2560 - mae: 17.2560\n",
      "Epoch 292/500\n",
      "2/2 [==============================] - 0s 2ms/step - loss: 10.9041 - mae: 10.9041\n",
      "Epoch 293/500\n",
      "2/2 [==============================] - 0s 2ms/step - loss: 14.5884 - mae: 14.5884\n",
      "Epoch 294/500\n",
      "2/2 [==============================] - 0s 2ms/step - loss: 21.8221 - mae: 21.8221\n",
      "Epoch 295/500\n",
      "2/2 [==============================] - 0s 3ms/step - loss: 19.9450 - mae: 19.9450\n",
      "Epoch 296/500\n",
      "2/2 [==============================] - 0s 3ms/step - loss: 7.0189 - mae: 7.0189\n",
      "Epoch 297/500\n",
      "2/2 [==============================] - 0s 3ms/step - loss: 9.0302 - mae: 9.0302\n",
      "Epoch 298/500\n",
      "2/2 [==============================] - 0s 3ms/step - loss: 24.2796 - mae: 24.2796\n",
      "Epoch 299/500\n",
      "2/2 [==============================] - 0s 2ms/step - loss: 17.8249 - mae: 17.8249\n",
      "Epoch 300/500\n",
      "2/2 [==============================] - 0s 3ms/step - loss: 7.0364 - mae: 7.0364\n",
      "Epoch 301/500\n",
      "2/2 [==============================] - 0s 3ms/step - loss: 25.2993 - mae: 25.2993\n",
      "Epoch 302/500\n",
      "2/2 [==============================] - 0s 2ms/step - loss: 9.4528 - mae: 9.4528\n",
      "Epoch 303/500\n",
      "2/2 [==============================] - 0s 3ms/step - loss: 14.3954 - mae: 14.3954\n",
      "Epoch 304/500\n",
      "2/2 [==============================] - 0s 4ms/step - loss: 10.8391 - mae: 10.8391\n",
      "Epoch 305/500\n",
      "2/2 [==============================] - 0s 4ms/step - loss: 12.6204 - mae: 12.6204\n",
      "Epoch 306/500\n",
      "2/2 [==============================] - 0s 3ms/step - loss: 8.2815 - mae: 8.2815\n",
      "Epoch 307/500\n",
      "2/2 [==============================] - 0s 5ms/step - loss: 13.0620 - mae: 13.0620\n",
      "Epoch 308/500\n",
      "2/2 [==============================] - 0s 4ms/step - loss: 8.1404 - mae: 8.1404\n",
      "Epoch 309/500\n",
      "2/2 [==============================] - 0s 3ms/step - loss: 11.6991 - mae: 11.6991\n",
      "Epoch 310/500\n",
      "2/2 [==============================] - 0s 4ms/step - loss: 6.3413 - mae: 6.3413\n",
      "Epoch 311/500\n",
      "2/2 [==============================] - 0s 3ms/step - loss: 4.9937 - mae: 4.9937\n",
      "Epoch 312/500\n",
      "2/2 [==============================] - 0s 5ms/step - loss: 29.3134 - mae: 29.3134\n",
      "Epoch 313/500\n",
      "2/2 [==============================] - 0s 3ms/step - loss: 8.9341 - mae: 8.9341\n",
      "Epoch 314/500\n",
      "2/2 [==============================] - 0s 2ms/step - loss: 6.5252 - mae: 6.5252\n",
      "Epoch 315/500\n",
      "2/2 [==============================] - 0s 4ms/step - loss: 23.9506 - mae: 23.9506\n",
      "Epoch 316/500\n",
      "2/2 [==============================] - 0s 4ms/step - loss: 16.1696 - mae: 16.1696\n",
      "Epoch 317/500\n",
      "2/2 [==============================] - 0s 3ms/step - loss: 20.6577 - mae: 20.6577\n",
      "Epoch 318/500\n",
      "2/2 [==============================] - 0s 2ms/step - loss: 8.7129 - mae: 8.7129\n",
      "Epoch 319/500\n",
      "2/2 [==============================] - 0s 3ms/step - loss: 15.2676 - mae: 15.2676\n",
      "Epoch 320/500\n",
      "2/2 [==============================] - 0s 2ms/step - loss: 8.3407 - mae: 8.3407\n",
      "Epoch 321/500\n",
      "2/2 [==============================] - 0s 3ms/step - loss: 14.6895 - mae: 14.6895\n",
      "Epoch 322/500\n",
      "2/2 [==============================] - 0s 4ms/step - loss: 12.8073 - mae: 12.8073\n",
      "Epoch 323/500\n",
      "2/2 [==============================] - 0s 2ms/step - loss: 19.0769 - mae: 19.0769\n",
      "Epoch 324/500\n",
      "2/2 [==============================] - 0s 4ms/step - loss: 17.0540 - mae: 17.0540\n",
      "Epoch 325/500\n",
      "2/2 [==============================] - 0s 3ms/step - loss: 9.2861 - mae: 9.2861\n",
      "Epoch 326/500\n",
      "2/2 [==============================] - 0s 3ms/step - loss: 19.9098 - mae: 19.9098\n",
      "Epoch 327/500\n",
      "2/2 [==============================] - 0s 3ms/step - loss: 28.1562 - mae: 28.1562\n",
      "Epoch 328/500\n",
      "2/2 [==============================] - 0s 3ms/step - loss: 11.6962 - mae: 11.6962\n",
      "Epoch 329/500\n",
      "2/2 [==============================] - 0s 5ms/step - loss: 16.3668 - mae: 16.3668\n",
      "Epoch 330/500\n",
      "2/2 [==============================] - 0s 3ms/step - loss: 7.3162 - mae: 7.3162\n",
      "Epoch 331/500\n",
      "2/2 [==============================] - 0s 3ms/step - loss: 22.6095 - mae: 22.6095\n",
      "Epoch 332/500\n",
      "2/2 [==============================] - 0s 4ms/step - loss: 13.3677 - mae: 13.3677\n",
      "Epoch 333/500\n",
      "2/2 [==============================] - 0s 3ms/step - loss: 10.1839 - mae: 10.1839\n",
      "Epoch 334/500\n",
      "2/2 [==============================] - 0s 3ms/step - loss: 6.6264 - mae: 6.6264\n",
      "Epoch 335/500\n",
      "2/2 [==============================] - 0s 3ms/step - loss: 6.2558 - mae: 6.2558\n",
      "Epoch 336/500\n",
      "2/2 [==============================] - 0s 4ms/step - loss: 34.5888 - mae: 34.5888\n",
      "Epoch 337/500\n",
      "2/2 [==============================] - 0s 3ms/step - loss: 27.0087 - mae: 27.0087\n",
      "Epoch 338/500\n",
      "2/2 [==============================] - 0s 2ms/step - loss: 14.0294 - mae: 14.0294\n",
      "Epoch 339/500\n",
      "2/2 [==============================] - 0s 3ms/step - loss: 11.5800 - mae: 11.5800\n",
      "Epoch 340/500\n",
      "2/2 [==============================] - 0s 3ms/step - loss: 8.8133 - mae: 8.8133\n",
      "Epoch 341/500\n",
      "2/2 [==============================] - 0s 2ms/step - loss: 23.4344 - mae: 23.4344\n",
      "Epoch 342/500\n",
      "2/2 [==============================] - 0s 2ms/step - loss: 13.9572 - mae: 13.9572\n",
      "Epoch 343/500\n",
      "2/2 [==============================] - 0s 2ms/step - loss: 14.8017 - mae: 14.8017\n",
      "Epoch 344/500\n"
     ]
    },
    {
     "name": "stdout",
     "output_type": "stream",
     "text": [
      "2/2 [==============================] - 0s 2ms/step - loss: 13.3778 - mae: 13.3778\n",
      "Epoch 345/500\n",
      "2/2 [==============================] - 0s 3ms/step - loss: 31.0081 - mae: 31.0081\n",
      "Epoch 346/500\n",
      "2/2 [==============================] - 0s 2ms/step - loss: 10.6901 - mae: 10.6901\n",
      "Epoch 347/500\n",
      "2/2 [==============================] - 0s 3ms/step - loss: 25.7008 - mae: 25.7008\n",
      "Epoch 348/500\n",
      "2/2 [==============================] - 0s 3ms/step - loss: 12.9500 - mae: 12.9500\n",
      "Epoch 349/500\n",
      "2/2 [==============================] - 0s 4ms/step - loss: 13.1358 - mae: 13.1358\n",
      "Epoch 350/500\n",
      "2/2 [==============================] - 0s 3ms/step - loss: 15.4286 - mae: 15.4286\n",
      "Epoch 351/500\n",
      "2/2 [==============================] - 0s 4ms/step - loss: 32.9446 - mae: 32.9446\n",
      "Epoch 352/500\n",
      "2/2 [==============================] - 0s 3ms/step - loss: 14.1776 - mae: 14.1776\n",
      "Epoch 353/500\n",
      "2/2 [==============================] - 0s 4ms/step - loss: 15.8988 - mae: 15.8988\n",
      "Epoch 354/500\n",
      "2/2 [==============================] - 0s 3ms/step - loss: 19.0431 - mae: 19.0431\n",
      "Epoch 355/500\n",
      "2/2 [==============================] - 0s 2ms/step - loss: 34.2456 - mae: 34.2456\n",
      "Epoch 356/500\n",
      "2/2 [==============================] - 0s 4ms/step - loss: 8.2773 - mae: 8.2773\n",
      "Epoch 357/500\n",
      "2/2 [==============================] - 0s 4ms/step - loss: 21.7913 - mae: 21.7913\n",
      "Epoch 358/500\n",
      "2/2 [==============================] - 0s 3ms/step - loss: 19.9200 - mae: 19.9200\n",
      "Epoch 359/500\n",
      "2/2 [==============================] - 0s 4ms/step - loss: 11.0652 - mae: 11.0652\n",
      "Epoch 360/500\n",
      "2/2 [==============================] - 0s 4ms/step - loss: 20.3097 - mae: 20.3097\n",
      "Epoch 361/500\n",
      "2/2 [==============================] - 0s 3ms/step - loss: 10.9510 - mae: 10.9510\n",
      "Epoch 362/500\n",
      "2/2 [==============================] - 0s 4ms/step - loss: 6.8040 - mae: 6.8040\n",
      "Epoch 363/500\n",
      "2/2 [==============================] - 0s 4ms/step - loss: 23.9170 - mae: 23.9170\n",
      "Epoch 364/500\n",
      "2/2 [==============================] - 0s 4ms/step - loss: 29.6514 - mae: 29.6514\n",
      "Epoch 365/500\n",
      "2/2 [==============================] - 0s 4ms/step - loss: 8.3096 - mae: 8.3096\n",
      "Epoch 366/500\n",
      "2/2 [==============================] - 0s 4ms/step - loss: 6.0860 - mae: 6.0860\n",
      "Epoch 367/500\n",
      "2/2 [==============================] - 0s 2ms/step - loss: 34.7992 - mae: 34.7992\n",
      "Epoch 368/500\n",
      "2/2 [==============================] - 0s 4ms/step - loss: 7.3767 - mae: 7.3767\n",
      "Epoch 369/500\n",
      "2/2 [==============================] - 0s 4ms/step - loss: 9.1903 - mae: 9.1903\n",
      "Epoch 370/500\n",
      "2/2 [==============================] - 0s 3ms/step - loss: 10.8919 - mae: 10.8919\n",
      "Epoch 371/500\n",
      "2/2 [==============================] - 0s 5ms/step - loss: 8.9573 - mae: 8.9573\n",
      "Epoch 372/500\n",
      "2/2 [==============================] - 0s 3ms/step - loss: 7.6965 - mae: 7.6965\n",
      "Epoch 373/500\n",
      "2/2 [==============================] - 0s 3ms/step - loss: 25.0722 - mae: 25.0722\n",
      "Epoch 374/500\n",
      "2/2 [==============================] - 0s 2ms/step - loss: 13.1892 - mae: 13.1892\n",
      "Epoch 375/500\n",
      "2/2 [==============================] - 0s 2ms/step - loss: 11.8637 - mae: 11.8637\n",
      "Epoch 376/500\n",
      "2/2 [==============================] - 0s 3ms/step - loss: 14.1421 - mae: 14.1421\n",
      "Epoch 377/500\n",
      "2/2 [==============================] - 0s 2ms/step - loss: 15.7233 - mae: 15.7233\n",
      "Epoch 378/500\n",
      "2/2 [==============================] - 0s 4ms/step - loss: 17.0513 - mae: 17.0513\n",
      "Epoch 379/500\n",
      "2/2 [==============================] - 0s 3ms/step - loss: 19.3725 - mae: 19.3725\n",
      "Epoch 380/500\n",
      "2/2 [==============================] - 0s 3ms/step - loss: 15.7286 - mae: 15.7286\n",
      "Epoch 381/500\n",
      "2/2 [==============================] - 0s 3ms/step - loss: 11.4656 - mae: 11.4656\n",
      "Epoch 382/500\n",
      "2/2 [==============================] - 0s 3ms/step - loss: 16.3414 - mae: 16.3414\n",
      "Epoch 383/500\n",
      "2/2 [==============================] - 0s 5ms/step - loss: 22.1017 - mae: 22.1017\n",
      "Epoch 384/500\n",
      "2/2 [==============================] - 0s 2ms/step - loss: 7.7396 - mae: 7.7396\n",
      "Epoch 385/500\n",
      "2/2 [==============================] - 0s 3ms/step - loss: 10.6125 - mae: 10.6125\n",
      "Epoch 386/500\n",
      "2/2 [==============================] - 0s 3ms/step - loss: 19.0959 - mae: 19.0959\n",
      "Epoch 387/500\n",
      "2/2 [==============================] - 0s 5ms/step - loss: 26.4880 - mae: 26.4880\n",
      "Epoch 388/500\n",
      "2/2 [==============================] - 0s 4ms/step - loss: 10.0998 - mae: 10.0998\n",
      "Epoch 389/500\n",
      "2/2 [==============================] - 0s 3ms/step - loss: 5.1676 - mae: 5.1676\n",
      "Epoch 390/500\n",
      "2/2 [==============================] - 0s 4ms/step - loss: 18.8240 - mae: 18.8240\n",
      "Epoch 391/500\n",
      "2/2 [==============================] - 0s 4ms/step - loss: 9.3290 - mae: 9.3290\n",
      "Epoch 392/500\n",
      "2/2 [==============================] - 0s 2ms/step - loss: 14.4010 - mae: 14.4010\n",
      "Epoch 393/500\n",
      "2/2 [==============================] - 0s 3ms/step - loss: 15.4067 - mae: 15.4067\n",
      "Epoch 394/500\n",
      "2/2 [==============================] - 0s 3ms/step - loss: 14.7443 - mae: 14.7443\n",
      "Epoch 395/500\n",
      "2/2 [==============================] - 0s 3ms/step - loss: 24.9738 - mae: 24.9738\n",
      "Epoch 396/500\n",
      "2/2 [==============================] - 0s 3ms/step - loss: 19.1506 - mae: 19.1506\n",
      "Epoch 397/500\n",
      "2/2 [==============================] - 0s 3ms/step - loss: 11.5763 - mae: 11.5763\n",
      "Epoch 398/500\n",
      "2/2 [==============================] - 0s 2ms/step - loss: 19.2228 - mae: 19.2228\n",
      "Epoch 399/500\n",
      "2/2 [==============================] - 0s 2ms/step - loss: 25.9372 - mae: 25.9372\n",
      "Epoch 400/500\n",
      "2/2 [==============================] - 0s 3ms/step - loss: 15.5987 - mae: 15.5987\n",
      "Epoch 401/500\n",
      "2/2 [==============================] - 0s 3ms/step - loss: 14.6595 - mae: 14.6595\n",
      "Epoch 402/500\n",
      "2/2 [==============================] - 0s 3ms/step - loss: 24.2775 - mae: 24.2775\n",
      "Epoch 403/500\n",
      "2/2 [==============================] - 0s 4ms/step - loss: 16.2781 - mae: 16.2781\n",
      "Epoch 404/500\n",
      "2/2 [==============================] - 0s 3ms/step - loss: 10.4412 - mae: 10.4412\n",
      "Epoch 405/500\n",
      "2/2 [==============================] - 0s 3ms/step - loss: 6.3955 - mae: 6.3955\n",
      "Epoch 406/500\n",
      "2/2 [==============================] - 0s 2ms/step - loss: 17.7586 - mae: 17.7586\n",
      "Epoch 407/500\n",
      "2/2 [==============================] - 0s 3ms/step - loss: 11.0298 - mae: 11.0298\n",
      "Epoch 408/500\n",
      "2/2 [==============================] - 0s 4ms/step - loss: 21.0831 - mae: 21.0831\n",
      "Epoch 409/500\n",
      "2/2 [==============================] - 0s 3ms/step - loss: 30.2834 - mae: 30.2834\n",
      "Epoch 410/500\n",
      "2/2 [==============================] - 0s 5ms/step - loss: 9.8423 - mae: 9.8423\n",
      "Epoch 411/500\n",
      "2/2 [==============================] - 0s 5ms/step - loss: 14.7160 - mae: 14.7160\n",
      "Epoch 412/500\n",
      "2/2 [==============================] - 0s 4ms/step - loss: 21.4648 - mae: 21.4648\n",
      "Epoch 413/500\n",
      "2/2 [==============================] - 0s 4ms/step - loss: 13.3064 - mae: 13.3064\n",
      "Epoch 414/500\n",
      "2/2 [==============================] - 0s 3ms/step - loss: 7.8103 - mae: 7.8103\n",
      "Epoch 415/500\n",
      "2/2 [==============================] - 0s 4ms/step - loss: 12.2057 - mae: 12.2057\n",
      "Epoch 416/500\n",
      "2/2 [==============================] - 0s 4ms/step - loss: 25.8929 - mae: 25.8929\n",
      "Epoch 417/500\n",
      "2/2 [==============================] - 0s 3ms/step - loss: 14.9927 - mae: 14.9927\n",
      "Epoch 418/500\n",
      "2/2 [==============================] - 0s 4ms/step - loss: 12.8000 - mae: 12.8000\n",
      "Epoch 419/500\n",
      "2/2 [==============================] - 0s 3ms/step - loss: 15.8689 - mae: 15.8689\n",
      "Epoch 420/500\n",
      "2/2 [==============================] - 0s 4ms/step - loss: 24.7195 - mae: 24.7195\n",
      "Epoch 421/500\n",
      "2/2 [==============================] - 0s 3ms/step - loss: 17.4450 - mae: 17.4450\n",
      "Epoch 422/500\n",
      "2/2 [==============================] - 0s 4ms/step - loss: 7.8190 - mae: 7.8190\n",
      "Epoch 423/500\n",
      "2/2 [==============================] - 0s 3ms/step - loss: 25.3508 - mae: 25.3508\n",
      "Epoch 424/500\n",
      "2/2 [==============================] - 0s 2ms/step - loss: 15.1625 - mae: 15.1625\n",
      "Epoch 425/500\n",
      "2/2 [==============================] - 0s 3ms/step - loss: 7.1808 - mae: 7.1808\n",
      "Epoch 426/500\n",
      "2/2 [==============================] - 0s 5ms/step - loss: 20.4020 - mae: 20.4020\n",
      "Epoch 427/500\n",
      "2/2 [==============================] - 0s 4ms/step - loss: 6.3460 - mae: 6.3460\n",
      "Epoch 428/500\n",
      "2/2 [==============================] - 0s 4ms/step - loss: 13.0435 - mae: 13.0435\n",
      "Epoch 429/500\n"
     ]
    },
    {
     "name": "stdout",
     "output_type": "stream",
     "text": [
      "2/2 [==============================] - 0s 4ms/step - loss: 10.8276 - mae: 10.8276\n",
      "Epoch 430/500\n",
      "2/2 [==============================] - 0s 3ms/step - loss: 11.4433 - mae: 11.4433\n",
      "Epoch 431/500\n",
      "2/2 [==============================] - 0s 11ms/step - loss: 10.6545 - mae: 10.6545\n",
      "Epoch 432/500\n",
      "2/2 [==============================] - 0s 3ms/step - loss: 11.5065 - mae: 11.5065\n",
      "Epoch 433/500\n",
      "2/2 [==============================] - 0s 3ms/step - loss: 11.3783 - mae: 11.3783\n",
      "Epoch 434/500\n",
      "2/2 [==============================] - 0s 2ms/step - loss: 30.3826 - mae: 30.3826\n",
      "Epoch 435/500\n",
      "2/2 [==============================] - 0s 2ms/step - loss: 10.4978 - mae: 10.4978\n",
      "Epoch 436/500\n",
      "2/2 [==============================] - 0s 3ms/step - loss: 28.8631 - mae: 28.8631\n",
      "Epoch 437/500\n",
      "2/2 [==============================] - 0s 4ms/step - loss: 8.5683 - mae: 8.5683\n",
      "Epoch 438/500\n",
      "2/2 [==============================] - 0s 3ms/step - loss: 12.7331 - mae: 12.7331\n",
      "Epoch 439/500\n",
      "2/2 [==============================] - 0s 1ms/step - loss: 33.6649 - mae: 33.6649\n",
      "Epoch 440/500\n",
      "2/2 [==============================] - 0s 2ms/step - loss: 15.0790 - mae: 15.0790\n",
      "Epoch 441/500\n",
      "2/2 [==============================] - 0s 2ms/step - loss: 17.4686 - mae: 17.4686\n",
      "Epoch 442/500\n",
      "2/2 [==============================] - 0s 3ms/step - loss: 22.2791 - mae: 22.2791\n",
      "Epoch 443/500\n",
      "2/2 [==============================] - 0s 4ms/step - loss: 23.6463 - mae: 23.6463\n",
      "Epoch 444/500\n",
      "2/2 [==============================] - 0s 5ms/step - loss: 11.0500 - mae: 11.0500\n",
      "Epoch 445/500\n",
      "2/2 [==============================] - 0s 4ms/step - loss: 14.9024 - mae: 14.9024\n",
      "Epoch 446/500\n",
      "2/2 [==============================] - 0s 3ms/step - loss: 17.9763 - mae: 17.9763\n",
      "Epoch 447/500\n",
      "2/2 [==============================] - 0s 4ms/step - loss: 5.4687 - mae: 5.4687\n",
      "Epoch 448/500\n",
      "2/2 [==============================] - 0s 2ms/step - loss: 9.6915 - mae: 9.6915\n",
      "Epoch 449/500\n",
      "2/2 [==============================] - 0s 4ms/step - loss: 14.3220 - mae: 14.3220\n",
      "Epoch 450/500\n",
      "2/2 [==============================] - 0s 3ms/step - loss: 17.0833 - mae: 17.0833\n",
      "Epoch 451/500\n",
      "2/2 [==============================] - 0s 2ms/step - loss: 14.4200 - mae: 14.4200\n",
      "Epoch 452/500\n",
      "2/2 [==============================] - 0s 3ms/step - loss: 30.8896 - mae: 30.8896\n",
      "Epoch 453/500\n",
      "2/2 [==============================] - 0s 2ms/step - loss: 9.1450 - mae: 9.1450\n",
      "Epoch 454/500\n",
      "2/2 [==============================] - 0s 2ms/step - loss: 27.2658 - mae: 27.2658\n",
      "Epoch 455/500\n",
      "2/2 [==============================] - 0s 3ms/step - loss: 11.0850 - mae: 11.0850\n",
      "Epoch 456/500\n",
      "2/2 [==============================] - 0s 3ms/step - loss: 15.0072 - mae: 15.0072\n",
      "Epoch 457/500\n",
      "2/2 [==============================] - 0s 3ms/step - loss: 18.4134 - mae: 18.4134\n",
      "Epoch 458/500\n",
      "2/2 [==============================] - 0s 3ms/step - loss: 24.8659 - mae: 24.8659\n",
      "Epoch 459/500\n",
      "2/2 [==============================] - 0s 2ms/step - loss: 18.1351 - mae: 18.1351\n",
      "Epoch 460/500\n",
      "2/2 [==============================] - 0s 2ms/step - loss: 4.6600 - mae: 4.6600\n",
      "Epoch 461/500\n",
      "2/2 [==============================] - 0s 2ms/step - loss: 15.9848 - mae: 15.9848\n",
      "Epoch 462/500\n",
      "2/2 [==============================] - 0s 3ms/step - loss: 12.1694 - mae: 12.1694\n",
      "Epoch 463/500\n",
      "2/2 [==============================] - 0s 3ms/step - loss: 27.2048 - mae: 27.2048\n",
      "Epoch 464/500\n",
      "2/2 [==============================] - 0s 2ms/step - loss: 11.5743 - mae: 11.5743\n",
      "Epoch 465/500\n",
      "2/2 [==============================] - 0s 2ms/step - loss: 7.3281 - mae: 7.3281\n",
      "Epoch 466/500\n",
      "2/2 [==============================] - 0s 4ms/step - loss: 12.1284 - mae: 12.1284\n",
      "Epoch 467/500\n",
      "2/2 [==============================] - 0s 3ms/step - loss: 5.9116 - mae: 5.9116\n",
      "Epoch 468/500\n",
      "2/2 [==============================] - 0s 2ms/step - loss: 13.4152 - mae: 13.4152\n",
      "Epoch 469/500\n",
      "2/2 [==============================] - 0s 4ms/step - loss: 13.3770 - mae: 13.3770\n",
      "Epoch 470/500\n",
      "2/2 [==============================] - 0s 2ms/step - loss: 6.6725 - mae: 6.6725\n",
      "Epoch 471/500\n",
      "2/2 [==============================] - 0s 3ms/step - loss: 22.5067 - mae: 22.5067\n",
      "Epoch 472/500\n",
      "2/2 [==============================] - 0s 3ms/step - loss: 13.4344 - mae: 13.4344\n",
      "Epoch 473/500\n",
      "2/2 [==============================] - 0s 3ms/step - loss: 15.3518 - mae: 15.3518\n",
      "Epoch 474/500\n",
      "2/2 [==============================] - 0s 2ms/step - loss: 11.8187 - mae: 11.8187\n",
      "Epoch 475/500\n",
      "2/2 [==============================] - 0s 3ms/step - loss: 16.4726 - mae: 16.4726\n",
      "Epoch 476/500\n",
      "2/2 [==============================] - 0s 2ms/step - loss: 13.9090 - mae: 13.9090\n",
      "Epoch 477/500\n",
      "2/2 [==============================] - 0s 4ms/step - loss: 30.7213 - mae: 30.7213\n",
      "Epoch 478/500\n",
      "2/2 [==============================] - 0s 2ms/step - loss: 8.7040 - mae: 8.7040\n",
      "Epoch 479/500\n",
      "2/2 [==============================] - 0s 2ms/step - loss: 10.8149 - mae: 10.8149\n",
      "Epoch 480/500\n",
      "2/2 [==============================] - 0s 4ms/step - loss: 17.9824 - mae: 17.9824\n",
      "Epoch 481/500\n",
      "2/2 [==============================] - 0s 4ms/step - loss: 15.8700 - mae: 15.8700\n",
      "Epoch 482/500\n",
      "2/2 [==============================] - 0s 3ms/step - loss: 21.4319 - mae: 21.4319\n",
      "Epoch 483/500\n",
      "2/2 [==============================] - 0s 3ms/step - loss: 25.0998 - mae: 25.0998\n",
      "Epoch 484/500\n",
      "2/2 [==============================] - 0s 2ms/step - loss: 23.6820 - mae: 23.6820\n",
      "Epoch 485/500\n",
      "2/2 [==============================] - 0s 2ms/step - loss: 5.7307 - mae: 5.7307\n",
      "Epoch 486/500\n",
      "2/2 [==============================] - 0s 3ms/step - loss: 19.6763 - mae: 19.6763\n",
      "Epoch 487/500\n",
      "2/2 [==============================] - 0s 3ms/step - loss: 14.0788 - mae: 14.0788\n",
      "Epoch 488/500\n",
      "2/2 [==============================] - 0s 4ms/step - loss: 30.6770 - mae: 30.6770\n",
      "Epoch 489/500\n",
      "2/2 [==============================] - 0s 3ms/step - loss: 12.0496 - mae: 12.0496\n",
      "Epoch 490/500\n",
      "2/2 [==============================] - 0s 2ms/step - loss: 12.7922 - mae: 12.7922\n",
      "Epoch 491/500\n",
      "2/2 [==============================] - 0s 4ms/step - loss: 23.7275 - mae: 23.7275\n",
      "Epoch 492/500\n",
      "2/2 [==============================] - 0s 3ms/step - loss: 20.2555 - mae: 20.2555\n",
      "Epoch 493/500\n",
      "2/2 [==============================] - 0s 3ms/step - loss: 4.9434 - mae: 4.9434\n",
      "Epoch 494/500\n",
      "2/2 [==============================] - 0s 3ms/step - loss: 12.5619 - mae: 12.5619\n",
      "Epoch 495/500\n",
      "2/2 [==============================] - 0s 3ms/step - loss: 13.4803 - mae: 13.4803\n",
      "Epoch 496/500\n",
      "2/2 [==============================] - 0s 2ms/step - loss: 12.7455 - mae: 12.7455\n",
      "Epoch 497/500\n",
      "2/2 [==============================] - 0s 2ms/step - loss: 17.7512 - mae: 17.7512\n",
      "Epoch 498/500\n",
      "2/2 [==============================] - 0s 3ms/step - loss: 23.2699 - mae: 23.2699\n",
      "Epoch 499/500\n",
      "2/2 [==============================] - 0s 3ms/step - loss: 9.0380 - mae: 9.0380\n",
      "Epoch 500/500\n",
      "2/2 [==============================] - 0s 4ms/step - loss: 14.3963 - mae: 14.3963\n"
     ]
    },
    {
     "data": {
      "text/plain": [
       "<keras.callbacks.History at 0x240ef150bb0>"
      ]
     },
     "execution_count": 71,
     "metadata": {},
     "output_type": "execute_result"
    }
   ],
   "source": [
    "# Set random seed\n",
    "tf.random.set_seed(42)\n",
    "\n",
    "# 1. Create the model\n",
    "model_3 = tf.keras.Sequential([\n",
    "    tf.keras.layers.Dense(10, input_shape=[1], name=\"input_layer\"),\n",
    "    tf.keras.layers.Dense(1, name=\"output_layer\")\n",
    "])\n",
    "\n",
    "# 2. Compile the model\n",
    "model_3.compile(loss=tf.keras.losses.mae,\n",
    "               optimizer=tf.keras.optimizers.SGD(),\n",
    "               metrics=[\"mae\"])\n",
    "\n",
    "# 3. Fit the model\n",
    "model_3.fit(X_train, y_train, epochs=500)"
   ]
  },
  {
   "cell_type": "code",
   "execution_count": 72,
   "id": "1c49346c",
   "metadata": {},
   "outputs": [
    {
     "name": "stdout",
     "output_type": "stream",
     "text": [
      "1/1 [==============================] - 0s 53ms/step\n"
     ]
    },
    {
     "data": {
      "image/png": "[encoded data removed]",
      "text/plain": [
       "<Figure size 720x504 with 1 Axes>"
      ]
     },
     "metadata": {
      "needs_background": "light"
     },
     "output_type": "display_data"
    }
   ],
   "source": [
    "# Make and plot predictions\n",
    "y_preds_3 = model_3.predict(X_test)\n",
    "plot_predictions(predictions=y_preds_3)"
   ]
  },
  {
   "cell_type": "markdown",
   "id": "6577b4b6",
   "metadata": {},
   "source": [
    "This model is even worse than the first model.\n",
    "The reason for such a bad result should be that our model was trained for too long (500 epochs), so it is overfitting (this is a very important concept in Machine Learning, but we will not be cover it in this lesson).    \n",
    "This is a prime example of tweaking some hyper-parameters, even ones that you intuitively think should result in a better result, actually lead to a poor result."
   ]
  },
  {
   "cell_type": "code",
   "execution_count": 73,
   "id": "db92c5b8",
   "metadata": {},
   "outputs": [
    {
     "data": {
      "text/plain": [
       "(<tf.Tensor: shape=(), dtype=float32, numpy=57.95522>,\n",
       " <tf.Tensor: shape=(), dtype=float32, numpy=4702.3936>)"
      ]
     },
     "execution_count": 73,
     "metadata": {},
     "output_type": "execute_result"
    }
   ],
   "source": [
    "# model_3 evaluation metrics\n",
    "mae_3 = mae(X_test, tf.squeeze(y_preds_3))\n",
    "mse_3 = mse(y_test, tf.squeeze(y_preds_3))\n",
    "mae_3, mse_3"
   ]
  },
  {
   "cell_type": "code",
   "execution_count": null,
   "id": "7e03cda5",
   "metadata": {},
   "outputs": [],
   "source": []
  },
  {
   "cell_type": "markdown",
   "id": "82a2ff3f",
   "metadata": {},
   "source": [
    "🔑**Note** : It is good practice to start by small experiments (small models) and make sure they work, and then increase their scale when necessary."
   ]
  },
  {
   "cell_type": "code",
   "execution_count": null,
   "id": "7e7b02aa",
   "metadata": {},
   "outputs": [],
   "source": []
  },
  {
   "cell_type": "markdown",
   "id": "74304c21",
   "metadata": {},
   "source": [
    "### Comparing the results of our modelling experiments"
   ]
  },
  {
   "cell_type": "code",
   "execution_count": null,
   "id": "55749623",
   "metadata": {},
   "outputs": [],
   "source": [
    "# Let's compare the result of our models using a dataframe\n",
    "\n",
    "model_results="
   ]
  },
  {
   "cell_type": "code",
   "execution_count": null,
   "id": "6744f80a",
   "metadata": {},
   "outputs": [],
   "source": []
  },
  {
   "cell_type": "code",
   "execution_count": null,
   "id": "d1fd8e9c",
   "metadata": {},
   "outputs": [],
   "source": []
  },
  {
   "cell_type": "code",
   "execution_count": null,
   "id": "26c82165",
   "metadata": {},
   "outputs": [],
   "source": []
  },
  {
   "cell_type": "code",
   "execution_count": null,
   "id": "acf97647",
   "metadata": {},
   "outputs": [],
   "source": []
  },
  {
   "cell_type": "code",
   "execution_count": null,
   "id": "ef7afab4",
   "metadata": {},
   "outputs": [],
   "source": []
  },
  {
   "cell_type": "code",
   "execution_count": null,
   "id": "619e2796",
   "metadata": {},
   "outputs": [],
   "source": []
  },
  {
   "cell_type": "code",
   "execution_count": null,
   "id": "bd63fc3f",
   "metadata": {},
   "outputs": [],
   "source": []
  },
  {
   "cell_type": "code",
   "execution_count": null,
   "id": "c90e472f",
   "metadata": {},
   "outputs": [],
   "source": []
  }
 ],
 "metadata": {
  "kernelspec": {
   "display_name": "Python 3",
   "language": "python",
   "name": "python3"
  },
  "language_info": {
   "codemirror_mode": {
    "name": "ipython",
    "version": 3
   },
   "file_extension": ".py",
   "mimetype": "text/x-python",
   "name": "python",
   "nbconvert_exporter": "python",
   "pygments_lexer": "ipython3",
   "version": "3.8.8"
  }
 },
 "nbformat": 4,
 "nbformat_minor": 5
}
