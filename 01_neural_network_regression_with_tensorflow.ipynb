{
 "cells": [
  {
   "cell_type": "code",
   "execution_count": null,
   "id": "d1d332c5",
   "metadata": {},
   "outputs": [],
   "source": []
  },
  {
   "cell_type": "markdown",
   "id": "ae1f3f01",
   "metadata": {},
   "source": [
    "# Introduction to Regression with Neural Networks in TensorFlow\n",
    "\n",
    "There are many definitions for a regression problem, but to make it simple : predicting a continuous (numerical) variable based on some other combination of variables."
   ]
  },
  {
   "cell_type": "code",
   "execution_count": 1,
   "id": "3ebcab60",
   "metadata": {},
   "outputs": [
    {
     "name": "stdout",
     "output_type": "stream",
     "text": [
      "2.10.0\n"
     ]
    }
   ],
   "source": [
    "# Import TensorFlow\n",
    "import tensorflow as tf\n",
    "print(tf.__version__)"
   ]
  },
  {
   "cell_type": "code",
   "execution_count": 2,
   "id": "46175302",
   "metadata": {},
   "outputs": [],
   "source": [
    "import pandas as pd\n",
    "import numpy as np\n",
    "import matplotlib.pyplot as plt\n",
    "\n",
    "from sklearn.model_selection import train_test_split\n",
    "\n",
    "%matplotlib inline"
   ]
  },
  {
   "cell_type": "code",
   "execution_count": 3,
   "id": "b73583b4",
   "metadata": {},
   "outputs": [],
   "source": [
    "from tensorflow.keras.utils import plot_model"
   ]
  },
  {
   "cell_type": "markdown",
   "id": "5b304915",
   "metadata": {},
   "source": [
    "Note : in order to use plot_model, one must install pydot (`pip install pydot`) and install graphviz (see instructions at https://graphviz.gitlab.io/download/) for plot_model to work."
   ]
  },
  {
   "cell_type": "code",
   "execution_count": null,
   "id": "d2218843",
   "metadata": {},
   "outputs": [],
   "source": []
  },
  {
   "cell_type": "code",
   "execution_count": 4,
   "id": "d42d2039",
   "metadata": {},
   "outputs": [],
   "source": [
    "from sklearn.compose import make_column_transformer\n",
    "from sklearn.preprocessing import MinMaxScaler, OneHotEncoder"
   ]
  },
  {
   "cell_type": "code",
   "execution_count": null,
   "id": "99283640",
   "metadata": {},
   "outputs": [],
   "source": []
  },
  {
   "cell_type": "markdown",
   "id": "3ea9cdd1",
   "metadata": {},
   "source": [
    "### Creating data to view and fit"
   ]
  },
  {
   "cell_type": "code",
   "execution_count": 5,
   "id": "dc6c9d96",
   "metadata": {},
   "outputs": [
    {
     "data": {
      "text/plain": [
       "<matplotlib.collections.PathCollection at 0x1888786b130>"
      ]
     },
     "execution_count": 5,
     "metadata": {},
     "output_type": "execute_result"
    },
    {
     "data": {
      "image/png": "[encoded data removed]",
      "text/plain": [
       "<Figure size 432x288 with 1 Axes>"
      ]
     },
     "metadata": {
      "needs_background": "light"
     },
     "output_type": "display_data"
    }
   ],
   "source": [
    "# Create features\n",
    "X = np.array([-7., -4, -1, 2, 5, 8, 11, 14])\n",
    "\n",
    "# Create labels\n",
    "y = np.array([3., 6, 9, 12, 15, 18, 21, 24])\n",
    "\n",
    "# Visualize it\n",
    "plt.scatter(X,y)"
   ]
  },
  {
   "cell_type": "code",
   "execution_count": 6,
   "id": "2e244a47",
   "metadata": {},
   "outputs": [
    {
     "data": {
      "text/plain": [
       "array([ 3.,  6.,  9., 12., 15., 18., 21., 24.])"
      ]
     },
     "execution_count": 6,
     "metadata": {},
     "output_type": "execute_result"
    }
   ],
   "source": [
    "X+10"
   ]
  },
  {
   "cell_type": "code",
   "execution_count": 7,
   "id": "fb87b2bc",
   "metadata": {},
   "outputs": [
    {
     "data": {
      "text/plain": [
       "array([ True,  True,  True,  True,  True,  True,  True,  True])"
      ]
     },
     "execution_count": 7,
     "metadata": {},
     "output_type": "execute_result"
    }
   ],
   "source": [
    "y == X+10"
   ]
  },
  {
   "cell_type": "code",
   "execution_count": 8,
   "id": "e18c377b",
   "metadata": {},
   "outputs": [
    {
     "data": {
      "text/plain": [
       "(TensorShape([8]), TensorShape([8]))"
      ]
     },
     "execution_count": 8,
     "metadata": {},
     "output_type": "execute_result"
    }
   ],
   "source": [
    "# Turning the NumPy arrays into tensors\n",
    "X = tf.constant(X)\n",
    "y = tf.constant(y)\n",
    "X.shape, y.shape"
   ]
  },
  {
   "cell_type": "code",
   "execution_count": 9,
   "id": "f4485d20",
   "metadata": {},
   "outputs": [
    {
     "data": {
      "text/plain": [
       "<tf.Tensor: shape=(8,), dtype=float64, numpy=array([-7., -4., -1.,  2.,  5.,  8., 11., 14.])>"
      ]
     },
     "execution_count": 9,
     "metadata": {},
     "output_type": "execute_result"
    }
   ],
   "source": [
    "X"
   ]
  },
  {
   "cell_type": "code",
   "execution_count": 10,
   "id": "5e0fe4a9",
   "metadata": {},
   "outputs": [
    {
     "data": {
      "text/plain": [
       "<tf.Tensor: shape=(8, 1), dtype=float64, numpy=\n",
       "array([[-7.],\n",
       "       [-4.],\n",
       "       [-1.],\n",
       "       [ 2.],\n",
       "       [ 5.],\n",
       "       [ 8.],\n",
       "       [11.],\n",
       "       [14.]])>"
      ]
     },
     "execution_count": 10,
     "metadata": {},
     "output_type": "execute_result"
    }
   ],
   "source": [
    "# Expand the dimension of a tensor : https://www.geeksforgeeks.org/python-tensorflow-expand_dims/\n",
    "tf.expand_dims(X, axis=-1)"
   ]
  },
  {
   "cell_type": "code",
   "execution_count": null,
   "id": "f5304102",
   "metadata": {},
   "outputs": [],
   "source": []
  },
  {
   "cell_type": "markdown",
   "id": "612e394c",
   "metadata": {},
   "source": [
    "### Steps in modeling in TensorFlow\n",
    "\n",
    "1. **Creating the model** - define the input and output layers, as well as the hidden layers of a deep learning model.\n",
    "2. **Compiling the model** - define the `loss function` (the function which will tells our model how far it's from performing well), the `optimizer` (tells the model how to update its internal patterns to better its predictions) and the `evaluation metrics` (human interpretable values for how well the model is doing).\n",
    "3. **Fitting the model** - letting the model try to find patterns between features and labels.\n",
    "4. **Evaluation** - Evaluate the model on the test data (in order to know how reliable are the model's predictions)\n",
    "\n",
    "\n",
    "In TensorFlow, there are two main way of creating a model :\n",
    "* Sequential API\n",
    "* Functional API"
   ]
  },
  {
   "cell_type": "code",
   "execution_count": 11,
   "id": "6f72d001",
   "metadata": {},
   "outputs": [
    {
     "name": "stdout",
     "output_type": "stream",
     "text": [
      "Epoch 1/5\n",
      "1/1 [==============================] - 0s 251ms/step - loss: 12.2702 - mae: 12.2702\n",
      "Epoch 2/5\n",
      "1/1 [==============================] - 0s 3ms/step - loss: 12.1377 - mae: 12.1377\n",
      "Epoch 3/5\n",
      "1/1 [==============================] - 0s 4ms/step - loss: 12.0052 - mae: 12.0052\n",
      "Epoch 4/5\n",
      "1/1 [==============================] - 0s 3ms/step - loss: 11.8727 - mae: 11.8727\n",
      "Epoch 5/5\n",
      "1/1 [==============================] - 0s 5ms/step - loss: 11.7402 - mae: 11.7402\n"
     ]
    },
    {
     "data": {
      "text/plain": [
       "<keras.callbacks.History at 0x18889196a30>"
      ]
     },
     "execution_count": 11,
     "metadata": {},
     "output_type": "execute_result"
    }
   ],
   "source": [
    "# Set a random seed (in order to have some reproducibility)\n",
    "tf.random.set_seed(42)\n",
    "\n",
    "# 1. Create a model using the Sequential API\n",
    "model = tf.keras.Sequential([\n",
    "    tf.keras.layers.Dense(1)\n",
    "])\n",
    "\n",
    "# 2. Compile the model\n",
    "model.compile(loss=tf.keras.losses.mae, # MAE : Mean Absolute Error\n",
    "              optimizer=tf.keras.optimizers.SGD(), # SGD : Stochastic Gradient Descent\n",
    "              metrics=[\"mae\"]\n",
    "             )\n",
    "\n",
    "# 3. Fit the model \n",
    "model.fit(tf.expand_dims(X, axis=-1),y, epochs=5)\n"
   ]
  },
  {
   "cell_type": "markdown",
   "id": "2f2af8b2",
   "metadata": {},
   "source": [
    "**Note**  \n",
    "A lot of function in TensorFlow, if they have a shortcut name (e.g. mae or SGD), can be replaced by a string variable to define the fact it is wished to used that specific function. For e.g., the step 2 in the above cell( Compile the model), can also be written as such : \n",
    "\n",
    "model.compile(loss=\"mae\",  \n",
    "              optimizer=\"sgd\",  \n",
    "              metrics=[\"mae\"]  \n",
    "             )"
   ]
  },
  {
   "cell_type": "code",
   "execution_count": 12,
   "id": "9949ba02",
   "metadata": {},
   "outputs": [
    {
     "data": {
      "text/plain": [
       "(<tf.Tensor: shape=(8,), dtype=float64, numpy=array([-7., -4., -1.,  2.,  5.,  8., 11., 14.])>,\n",
       " <tf.Tensor: shape=(8,), dtype=float64, numpy=array([ 3.,  6.,  9., 12., 15., 18., 21., 24.])>)"
      ]
     },
     "execution_count": 12,
     "metadata": {},
     "output_type": "execute_result"
    }
   ],
   "source": [
    "# Check out X and y\n",
    "X, y"
   ]
  },
  {
   "cell_type": "code",
   "execution_count": 13,
   "id": "d35d1023",
   "metadata": {},
   "outputs": [
    {
     "name": "stdout",
     "output_type": "stream",
     "text": [
      "1/1 [==============================] - 0s 146ms/step\n"
     ]
    },
    {
     "data": {
      "text/plain": [
       "array([[8.99842]], dtype=float32)"
      ]
     },
     "execution_count": 13,
     "metadata": {},
     "output_type": "execute_result"
    }
   ],
   "source": [
    "# Trying to make a prediction using our model\n",
    "model.predict([17.])"
   ]
  },
  {
   "cell_type": "markdown",
   "id": "9eefcc9e",
   "metadata": {},
   "source": [
    "The predicted value (y) should be 27 when X is 17. But we got -13.89, which is pretty far off. This is no surprising because the current MAE of our model is 17.3050, which means : on average, our model predict something that is 17.3050 points off where is should be (MAE)."
   ]
  },
  {
   "cell_type": "code",
   "execution_count": 14,
   "id": "27107469",
   "metadata": {},
   "outputs": [
    {
     "name": "stdout",
     "output_type": "stream",
     "text": [
      "1/1 [==============================] - 0s 76ms/step\n"
     ]
    },
    {
     "data": {
      "text/plain": [
       "array([[8.99842]], dtype=float32)"
      ]
     },
     "execution_count": 14,
     "metadata": {},
     "output_type": "execute_result"
    }
   ],
   "source": [
    "y_pred = model.predict([17.])\n",
    "y_pred"
   ]
  },
  {
   "cell_type": "code",
   "execution_count": 15,
   "id": "65c6bb1b",
   "metadata": {},
   "outputs": [
    {
     "data": {
      "text/plain": [
       "array([[26.303421]], dtype=float32)"
      ]
     },
     "execution_count": 15,
     "metadata": {},
     "output_type": "execute_result"
    }
   ],
   "source": [
    "y_pred + 17.3050"
   ]
  },
  {
   "cell_type": "markdown",
   "id": "a759cf25",
   "metadata": {},
   "source": [
    "The value is still off, our model is performing poorly.   \n",
    "Now, we need to improve our model."
   ]
  },
  {
   "cell_type": "code",
   "execution_count": null,
   "id": "7eecc354",
   "metadata": {},
   "outputs": [],
   "source": []
  },
  {
   "cell_type": "markdown",
   "id": "f47b7fed",
   "metadata": {},
   "source": [
    "### Improving our model\n",
    "\n",
    "We can improve our model by altering the steps we took to create a model.  \n",
    "\n",
    "1. **Creating a model** - Here, we might :\n",
    "* add more layers, \n",
    "* increase the number of hidden units (also called neurons) within each of th hidden layers, \n",
    "* change the activation function of each layer\n",
    "\n",
    "2. **Compiling the model** - Here, we might :\n",
    "* change the optimization function,\n",
    "* or perhaps changes the **learning rate** of the optimization function\n",
    "\n",
    "3. **Fitting the model** - Here, we might :\n",
    "* fit the model for more epochs (make it train for longer)\n",
    "* fit the model on more data (give the model more examples to learn from)"
   ]
  },
  {
   "cell_type": "code",
   "execution_count": 16,
   "id": "0900b32c",
   "metadata": {},
   "outputs": [
    {
     "name": "stdout",
     "output_type": "stream",
     "text": [
      "Epoch 1/100\n",
      "1/1 [==============================] - 1s 657ms/step - loss: 13.9906 - mae: 13.9906\n",
      "Epoch 2/100\n",
      "1/1 [==============================] - 0s 6ms/step - loss: 13.4238 - mae: 13.4238\n",
      "Epoch 3/100\n",
      "1/1 [==============================] - 0s 6ms/step - loss: 12.8666 - mae: 12.8666\n",
      "Epoch 4/100\n",
      "1/1 [==============================] - 0s 8ms/step - loss: 12.3223 - mae: 12.3223\n",
      "Epoch 5/100\n",
      "1/1 [==============================] - 0s 6ms/step - loss: 11.7697 - mae: 11.7697\n",
      "Epoch 6/100\n",
      "1/1 [==============================] - 0s 6ms/step - loss: 11.2091 - mae: 11.2091\n",
      "Epoch 7/100\n",
      "1/1 [==============================] - 0s 6ms/step - loss: 10.6438 - mae: 10.6438\n",
      "Epoch 8/100\n",
      "1/1 [==============================] - 0s 7ms/step - loss: 10.0621 - mae: 10.0621\n",
      "Epoch 9/100\n",
      "1/1 [==============================] - 0s 7ms/step - loss: 9.4483 - mae: 9.4483\n",
      "Epoch 10/100\n",
      "1/1 [==============================] - 0s 6ms/step - loss: 8.8032 - mae: 8.8032\n",
      "Epoch 11/100\n",
      "1/1 [==============================] - 0s 5ms/step - loss: 8.1418 - mae: 8.1418\n",
      "Epoch 12/100\n",
      "1/1 [==============================] - 0s 6ms/step - loss: 7.4773 - mae: 7.4773\n",
      "Epoch 13/100\n",
      "1/1 [==============================] - 0s 7ms/step - loss: 6.7789 - mae: 6.7789\n",
      "Epoch 14/100\n",
      "1/1 [==============================] - 0s 8ms/step - loss: 6.0271 - mae: 6.0271\n",
      "Epoch 15/100\n",
      "1/1 [==============================] - 0s 6ms/step - loss: 5.2129 - mae: 5.2129\n",
      "Epoch 16/100\n",
      "1/1 [==============================] - 0s 6ms/step - loss: 4.3213 - mae: 4.3213\n",
      "Epoch 17/100\n",
      "1/1 [==============================] - 0s 7ms/step - loss: 3.9343 - mae: 3.9343\n",
      "Epoch 18/100\n",
      "1/1 [==============================] - 0s 5ms/step - loss: 3.9452 - mae: 3.9452\n",
      "Epoch 19/100\n",
      "1/1 [==============================] - 0s 7ms/step - loss: 3.9086 - mae: 3.9086\n",
      "Epoch 20/100\n",
      "1/1 [==============================] - 0s 7ms/step - loss: 3.9518 - mae: 3.9518\n",
      "Epoch 21/100\n",
      "1/1 [==============================] - 0s 8ms/step - loss: 3.8846 - mae: 3.8846\n",
      "Epoch 22/100\n",
      "1/1 [==============================] - 0s 7ms/step - loss: 3.9559 - mae: 3.9559\n",
      "Epoch 23/100\n",
      "1/1 [==============================] - 0s 7ms/step - loss: 3.8997 - mae: 3.8997\n",
      "Epoch 24/100\n",
      "1/1 [==============================] - 0s 9ms/step - loss: 3.9381 - mae: 3.9381\n",
      "Epoch 25/100\n",
      "1/1 [==============================] - 0s 7ms/step - loss: 3.9063 - mae: 3.9063\n",
      "Epoch 26/100\n",
      "1/1 [==============================] - 0s 6ms/step - loss: 3.9123 - mae: 3.9123\n",
      "Epoch 27/100\n",
      "1/1 [==============================] - 0s 6ms/step - loss: 3.9130 - mae: 3.9130\n",
      "Epoch 28/100\n",
      "1/1 [==============================] - 0s 6ms/step - loss: 3.8864 - mae: 3.8864\n",
      "Epoch 29/100\n",
      "1/1 [==============================] - 0s 6ms/step - loss: 3.9199 - mae: 3.9199\n",
      "Epoch 30/100\n",
      "1/1 [==============================] - 0s 5ms/step - loss: 3.8603 - mae: 3.8603\n",
      "Epoch 31/100\n",
      "1/1 [==============================] - 0s 8ms/step - loss: 3.9339 - mae: 3.9339\n",
      "Epoch 32/100\n",
      "1/1 [==============================] - 0s 38ms/step - loss: 3.8683 - mae: 3.8683\n",
      "Epoch 33/100\n",
      "1/1 [==============================] - 0s 7ms/step - loss: 3.9151 - mae: 3.9151\n",
      "Epoch 34/100\n",
      "1/1 [==============================] - 0s 5ms/step - loss: 3.8751 - mae: 3.8751\n",
      "Epoch 35/100\n",
      "1/1 [==============================] - 0s 7ms/step - loss: 3.8891 - mae: 3.8891\n",
      "Epoch 36/100\n",
      "1/1 [==============================] - 0s 6ms/step - loss: 3.8820 - mae: 3.8820\n",
      "Epoch 37/100\n",
      "1/1 [==============================] - 0s 8ms/step - loss: 3.8629 - mae: 3.8629\n",
      "Epoch 38/100\n",
      "1/1 [==============================] - 0s 7ms/step - loss: 3.8891 - mae: 3.8891\n",
      "Epoch 39/100\n",
      "1/1 [==============================] - 0s 6ms/step - loss: 3.8433 - mae: 3.8433\n",
      "Epoch 40/100\n",
      "1/1 [==============================] - 0s 7ms/step - loss: 3.9047 - mae: 3.9047\n",
      "Epoch 41/100\n",
      "1/1 [==============================] - 0s 6ms/step - loss: 3.8380 - mae: 3.8380\n",
      "Epoch 42/100\n",
      "1/1 [==============================] - 0s 5ms/step - loss: 3.8909 - mae: 3.8909\n",
      "Epoch 43/100\n",
      "1/1 [==============================] - 0s 5ms/step - loss: 3.8450 - mae: 3.8450\n",
      "Epoch 44/100\n",
      "1/1 [==============================] - 0s 5ms/step - loss: 3.8646 - mae: 3.8646\n",
      "Epoch 45/100\n",
      "1/1 [==============================] - 0s 6ms/step - loss: 3.8522 - mae: 3.8522\n",
      "Epoch 46/100\n",
      "1/1 [==============================] - 0s 6ms/step - loss: 3.8383 - mae: 3.8383\n",
      "Epoch 47/100\n",
      "1/1 [==============================] - 0s 5ms/step - loss: 3.8647 - mae: 3.8647\n",
      "Epoch 48/100\n",
      "1/1 [==============================] - 0s 6ms/step - loss: 3.8195 - mae: 3.8195\n",
      "Epoch 49/100\n",
      "1/1 [==============================] - 0s 6ms/step - loss: 3.8753 - mae: 3.8753\n",
      "Epoch 50/100\n",
      "1/1 [==============================] - 0s 6ms/step - loss: 3.8090 - mae: 3.8090\n",
      "Epoch 51/100\n",
      "1/1 [==============================] - 0s 6ms/step - loss: 3.8655 - mae: 3.8655\n",
      "Epoch 52/100\n",
      "1/1 [==============================] - 0s 6ms/step - loss: 3.8162 - mae: 3.8162\n",
      "Epoch 53/100\n",
      "1/1 [==============================] - 0s 6ms/step - loss: 3.8390 - mae: 3.8390\n",
      "Epoch 54/100\n",
      "1/1 [==============================] - 0s 7ms/step - loss: 3.8236 - mae: 3.8236\n",
      "Epoch 55/100\n",
      "1/1 [==============================] - 0s 6ms/step - loss: 3.8164 - mae: 3.8164\n",
      "Epoch 56/100\n",
      "1/1 [==============================] - 0s 5ms/step - loss: 3.8395 - mae: 3.8395\n",
      "Epoch 57/100\n",
      "1/1 [==============================] - 0s 6ms/step - loss: 3.7933 - mae: 3.7933\n",
      "Epoch 58/100\n",
      "1/1 [==============================] - 0s 7ms/step - loss: 3.8470 - mae: 3.8470\n",
      "Epoch 59/100\n",
      "1/1 [==============================] - 0s 5ms/step - loss: 3.7810 - mae: 3.7810\n",
      "Epoch 60/100\n",
      "1/1 [==============================] - 0s 6ms/step - loss: 3.8389 - mae: 3.8389\n",
      "Epoch 61/100\n",
      "1/1 [==============================] - 0s 7ms/step - loss: 3.7885 - mae: 3.7885\n",
      "Epoch 62/100\n",
      "1/1 [==============================] - 0s 6ms/step - loss: 3.8122 - mae: 3.8122\n",
      "Epoch 63/100\n",
      "1/1 [==============================] - 0s 6ms/step - loss: 3.7980 - mae: 3.7980\n",
      "Epoch 64/100\n",
      "1/1 [==============================] - 0s 6ms/step - loss: 3.7930 - mae: 3.7930\n",
      "Epoch 65/100\n",
      "1/1 [==============================] - 0s 6ms/step - loss: 3.8122 - mae: 3.8122\n",
      "Epoch 66/100\n",
      "1/1 [==============================] - 0s 8ms/step - loss: 3.7658 - mae: 3.7658\n",
      "Epoch 67/100\n",
      "1/1 [==============================] - 0s 6ms/step - loss: 3.8199 - mae: 3.8199\n",
      "Epoch 68/100\n",
      "1/1 [==============================] - 0s 6ms/step - loss: 3.7542 - mae: 3.7542\n",
      "Epoch 69/100\n",
      "1/1 [==============================] - 0s 7ms/step - loss: 3.8110 - mae: 3.8110\n",
      "Epoch 70/100\n",
      "1/1 [==============================] - 0s 6ms/step - loss: 3.7619 - mae: 3.7619\n",
      "Epoch 71/100\n",
      "1/1 [==============================] - 0s 6ms/step - loss: 3.7843 - mae: 3.7843\n",
      "Epoch 72/100\n",
      "1/1 [==============================] - 0s 7ms/step - loss: 3.7781 - mae: 3.7781\n",
      "Epoch 73/100\n",
      "1/1 [==============================] - 0s 7ms/step - loss: 3.7645 - mae: 3.7645\n",
      "Epoch 74/100\n",
      "1/1 [==============================] - 0s 6ms/step - loss: 3.7859 - mae: 3.7859\n",
      "Epoch 75/100\n",
      "1/1 [==============================] - 0s 7ms/step - loss: 3.7369 - mae: 3.7369\n",
      "Epoch 76/100\n",
      "1/1 [==============================] - 0s 6ms/step - loss: 3.7938 - mae: 3.7938\n",
      "Epoch 77/100\n",
      "1/1 [==============================] - 0s 5ms/step - loss: 3.7284 - mae: 3.7284\n",
      "Epoch 78/100\n",
      "1/1 [==============================] - 0s 5ms/step - loss: 3.7819 - mae: 3.7819\n",
      "Epoch 79/100\n",
      "1/1 [==============================] - 0s 6ms/step - loss: 3.7363 - mae: 3.7363\n",
      "Epoch 80/100\n",
      "1/1 [==============================] - 0s 5ms/step - loss: 3.7606 - mae: 3.7606\n",
      "Epoch 81/100\n",
      "1/1 [==============================] - 0s 6ms/step - loss: 3.7527 - mae: 3.7527\n",
      "Epoch 82/100\n",
      "1/1 [==============================] - 0s 6ms/step - loss: 3.7346 - mae: 3.7346\n",
      "Epoch 83/100\n",
      "1/1 [==============================] - 0s 6ms/step - loss: 3.7607 - mae: 3.7607\n",
      "Epoch 84/100\n",
      "1/1 [==============================] - 0s 6ms/step - loss: 3.7068 - mae: 3.7068\n",
      "Epoch 85/100\n",
      "1/1 [==============================] - 0s 5ms/step - loss: 3.7688 - mae: 3.7688\n",
      "Epoch 86/100\n",
      "1/1 [==============================] - 0s 5ms/step - loss: 3.7037 - mae: 3.7037\n",
      "Epoch 87/100\n",
      "1/1 [==============================] - 0s 5ms/step - loss: 3.7514 - mae: 3.7514\n",
      "Epoch 88/100\n",
      "1/1 [==============================] - 0s 5ms/step - loss: 3.7153 - mae: 3.7153\n"
     ]
    },
    {
     "name": "stdout",
     "output_type": "stream",
     "text": [
      "Epoch 89/100\n",
      "1/1 [==============================] - 0s 5ms/step - loss: 3.7314 - mae: 3.7314\n",
      "Epoch 90/100\n",
      "1/1 [==============================] - 0s 7ms/step - loss: 3.7283 - mae: 3.7283\n",
      "Epoch 91/100\n",
      "1/1 [==============================] - 0s 5ms/step - loss: 3.7034 - mae: 3.7034\n",
      "Epoch 92/100\n",
      "1/1 [==============================] - 0s 6ms/step - loss: 3.7365 - mae: 3.7365\n",
      "Epoch 93/100\n",
      "1/1 [==============================] - 0s 6ms/step - loss: 3.6753 - mae: 3.6753\n",
      "Epoch 94/100\n",
      "1/1 [==============================] - 0s 7ms/step - loss: 3.7449 - mae: 3.7449\n",
      "Epoch 95/100\n",
      "1/1 [==============================] - 0s 6ms/step - loss: 3.6799 - mae: 3.6799\n",
      "Epoch 96/100\n",
      "1/1 [==============================] - 0s 9ms/step - loss: 3.7212 - mae: 3.7212\n",
      "Epoch 97/100\n",
      "1/1 [==============================] - 0s 5ms/step - loss: 3.6965 - mae: 3.6965\n",
      "Epoch 98/100\n",
      "1/1 [==============================] - 0s 4ms/step - loss: 3.6992 - mae: 3.6992\n",
      "Epoch 99/100\n",
      "1/1 [==============================] - 0s 7ms/step - loss: 3.7048 - mae: 3.7048\n",
      "Epoch 100/100\n",
      "1/1 [==============================] - 0s 7ms/step - loss: 3.6709 - mae: 3.6709\n"
     ]
    },
    {
     "data": {
      "text/plain": [
       "<keras.callbacks.History at 0x188895cb3a0>"
      ]
     },
     "execution_count": 16,
     "metadata": {},
     "output_type": "execute_result"
    }
   ],
   "source": [
    "# 1st experiment : add a hidden layer, and more epochs, as an improvement to the model\n",
    "\n",
    "# Set a random seed (in order to have some reproducibility)\n",
    "tf.random.set_seed(42)\n",
    "\n",
    "# 1. Create a model using the Sequential API\n",
    "model = tf.keras.Sequential([\n",
    "    \n",
    "    # Adding more hidden layers, more neurons, and activation function \n",
    "    tf.keras.layers.Dense(100, activation=\"relu\"),\n",
    "    \n",
    "    tf.keras.layers.Dense(1)\n",
    "])\n",
    "\n",
    "# 2. Compile the model\n",
    "model.compile(loss=tf.keras.losses.mae, # MAE : Mean Absolute Error\n",
    "              optimizer=tf.keras.optimizers.SGD(),\n",
    "              metrics=[\"mae\"]\n",
    "             )\n",
    "\n",
    "# 3. Fit the model \n",
    "model.fit(tf.expand_dims(X, axis=-1),y, epochs=100) # Increasing the number of epochs\n"
   ]
  },
  {
   "cell_type": "markdown",
   "id": "ac7a663c",
   "metadata": {},
   "source": [
    "The 1st experiment has resulted in a good improvement of the model"
   ]
  },
  {
   "cell_type": "code",
   "execution_count": 17,
   "id": "debaf8ee",
   "metadata": {},
   "outputs": [
    {
     "name": "stdout",
     "output_type": "stream",
     "text": [
      "1/1 [==============================] - 0s 146ms/step\n"
     ]
    },
    {
     "data": {
      "text/plain": [
       "array([[32.79997]], dtype=float32)"
      ]
     },
     "execution_count": 17,
     "metadata": {},
     "output_type": "execute_result"
    }
   ],
   "source": [
    "# Check how the model's prediction has improved...\n",
    "model.predict([17.])"
   ]
  },
  {
   "cell_type": "code",
   "execution_count": null,
   "id": "edec4f02",
   "metadata": {},
   "outputs": [],
   "source": []
  },
  {
   "cell_type": "code",
   "execution_count": null,
   "id": "af2206a9",
   "metadata": {},
   "outputs": [],
   "source": []
  },
  {
   "cell_type": "code",
   "execution_count": 18,
   "id": "ab3f76fa",
   "metadata": {},
   "outputs": [
    {
     "name": "stdout",
     "output_type": "stream",
     "text": [
      "Epoch 1/300\n"
     ]
    },
    {
     "name": "stderr",
     "output_type": "stream",
     "text": [
      "C:\\ProgramData\\Anaconda3\\lib\\site-packages\\keras\\optimizers\\optimizer_v2\\adam.py:114: UserWarning: The `lr` argument is deprecated, use `learning_rate` instead.\n",
      "  super().__init__(name, **kwargs)\n"
     ]
    },
    {
     "name": "stdout",
     "output_type": "stream",
     "text": [
      "1/1 [==============================] - 1s 936ms/step - loss: 13.5860 - mae: 13.5860\n",
      "Epoch 2/300\n",
      "1/1 [==============================] - 0s 7ms/step - loss: 13.5507 - mae: 13.5507\n",
      "Epoch 3/300\n",
      "1/1 [==============================] - 0s 4ms/step - loss: 13.5165 - mae: 13.5165\n",
      "Epoch 4/300\n",
      "1/1 [==============================] - 0s 7ms/step - loss: 13.4836 - mae: 13.4836\n",
      "Epoch 5/300\n",
      "1/1 [==============================] - 0s 7ms/step - loss: 13.4511 - mae: 13.4511\n",
      "Epoch 6/300\n",
      "1/1 [==============================] - 0s 7ms/step - loss: 13.4186 - mae: 13.4186\n",
      "Epoch 7/300\n",
      "1/1 [==============================] - 0s 6ms/step - loss: 13.3861 - mae: 13.3861\n",
      "Epoch 8/300\n",
      "1/1 [==============================] - 0s 5ms/step - loss: 13.3538 - mae: 13.3538\n",
      "Epoch 9/300\n",
      "1/1 [==============================] - 0s 6ms/step - loss: 13.3222 - mae: 13.3222\n",
      "Epoch 10/300\n",
      "1/1 [==============================] - 0s 7ms/step - loss: 13.2905 - mae: 13.2905\n",
      "Epoch 11/300\n",
      "1/1 [==============================] - 0s 6ms/step - loss: 13.2588 - mae: 13.2588\n",
      "Epoch 12/300\n",
      "1/1 [==============================] - 0s 7ms/step - loss: 13.2271 - mae: 13.2271\n",
      "Epoch 13/300\n",
      "1/1 [==============================] - 0s 7ms/step - loss: 13.1965 - mae: 13.1965\n",
      "Epoch 14/300\n",
      "1/1 [==============================] - 0s 7ms/step - loss: 13.1664 - mae: 13.1664\n",
      "Epoch 15/300\n",
      "1/1 [==============================] - 0s 7ms/step - loss: 13.1362 - mae: 13.1362\n",
      "Epoch 16/300\n",
      "1/1 [==============================] - 0s 7ms/step - loss: 13.1060 - mae: 13.1060\n",
      "Epoch 17/300\n",
      "1/1 [==============================] - 0s 6ms/step - loss: 13.0762 - mae: 13.0762\n",
      "Epoch 18/300\n",
      "1/1 [==============================] - 0s 7ms/step - loss: 13.0468 - mae: 13.0468\n",
      "Epoch 19/300\n",
      "1/1 [==============================] - 0s 8ms/step - loss: 13.0183 - mae: 13.0183\n",
      "Epoch 20/300\n",
      "1/1 [==============================] - 0s 8ms/step - loss: 12.9903 - mae: 12.9903\n",
      "Epoch 21/300\n",
      "1/1 [==============================] - 0s 7ms/step - loss: 12.9625 - mae: 12.9625\n",
      "Epoch 22/300\n",
      "1/1 [==============================] - 0s 7ms/step - loss: 12.9347 - mae: 12.9347\n",
      "Epoch 23/300\n",
      "1/1 [==============================] - 0s 8ms/step - loss: 12.9068 - mae: 12.9068\n",
      "Epoch 24/300\n",
      "1/1 [==============================] - 0s 8ms/step - loss: 12.8788 - mae: 12.8788\n",
      "Epoch 25/300\n",
      "1/1 [==============================] - 0s 6ms/step - loss: 12.8507 - mae: 12.8507\n",
      "Epoch 26/300\n",
      "1/1 [==============================] - 0s 5ms/step - loss: 12.8223 - mae: 12.8223\n",
      "Epoch 27/300\n",
      "1/1 [==============================] - 0s 7ms/step - loss: 12.7939 - mae: 12.7939\n",
      "Epoch 28/300\n",
      "1/1 [==============================] - 0s 7ms/step - loss: 12.7653 - mae: 12.7653\n",
      "Epoch 29/300\n",
      "1/1 [==============================] - 0s 7ms/step - loss: 12.7366 - mae: 12.7366\n",
      "Epoch 30/300\n",
      "1/1 [==============================] - 0s 7ms/step - loss: 12.7079 - mae: 12.7079\n",
      "Epoch 31/300\n",
      "1/1 [==============================] - 0s 8ms/step - loss: 12.6789 - mae: 12.6789\n",
      "Epoch 32/300\n",
      "1/1 [==============================] - 0s 6ms/step - loss: 12.6498 - mae: 12.6498\n",
      "Epoch 33/300\n",
      "1/1 [==============================] - 0s 7ms/step - loss: 12.6206 - mae: 12.6206\n",
      "Epoch 34/300\n",
      "1/1 [==============================] - 0s 6ms/step - loss: 12.5913 - mae: 12.5913\n",
      "Epoch 35/300\n",
      "1/1 [==============================] - 0s 6ms/step - loss: 12.5619 - mae: 12.5619\n",
      "Epoch 36/300\n",
      "1/1 [==============================] - 0s 6ms/step - loss: 12.5323 - mae: 12.5323\n",
      "Epoch 37/300\n",
      "1/1 [==============================] - 0s 6ms/step - loss: 12.5026 - mae: 12.5026\n",
      "Epoch 38/300\n",
      "1/1 [==============================] - 0s 7ms/step - loss: 12.4727 - mae: 12.4727\n",
      "Epoch 39/300\n",
      "1/1 [==============================] - 0s 7ms/step - loss: 12.4426 - mae: 12.4426\n",
      "Epoch 40/300\n",
      "1/1 [==============================] - 0s 6ms/step - loss: 12.4123 - mae: 12.4123\n",
      "Epoch 41/300\n",
      "1/1 [==============================] - 0s 6ms/step - loss: 12.3818 - mae: 12.3818\n",
      "Epoch 42/300\n",
      "1/1 [==============================] - 0s 6ms/step - loss: 12.3515 - mae: 12.3515\n",
      "Epoch 43/300\n",
      "1/1 [==============================] - 0s 7ms/step - loss: 12.3215 - mae: 12.3215\n",
      "Epoch 44/300\n",
      "1/1 [==============================] - 0s 6ms/step - loss: 12.2911 - mae: 12.2911\n",
      "Epoch 45/300\n",
      "1/1 [==============================] - 0s 6ms/step - loss: 12.2606 - mae: 12.2606\n",
      "Epoch 46/300\n",
      "1/1 [==============================] - 0s 6ms/step - loss: 12.2297 - mae: 12.2297\n",
      "Epoch 47/300\n",
      "1/1 [==============================] - 0s 6ms/step - loss: 12.1984 - mae: 12.1984\n",
      "Epoch 48/300\n",
      "1/1 [==============================] - 0s 7ms/step - loss: 12.1672 - mae: 12.1672\n",
      "Epoch 49/300\n",
      "1/1 [==============================] - 0s 7ms/step - loss: 12.1361 - mae: 12.1361\n",
      "Epoch 50/300\n",
      "1/1 [==============================] - 0s 5ms/step - loss: 12.1049 - mae: 12.1049\n",
      "Epoch 51/300\n",
      "1/1 [==============================] - 0s 6ms/step - loss: 12.0733 - mae: 12.0733\n",
      "Epoch 52/300\n",
      "1/1 [==============================] - 0s 6ms/step - loss: 12.0413 - mae: 12.0413\n",
      "Epoch 53/300\n",
      "1/1 [==============================] - 0s 6ms/step - loss: 12.0091 - mae: 12.0091\n",
      "Epoch 54/300\n",
      "1/1 [==============================] - 0s 7ms/step - loss: 11.9768 - mae: 11.9768\n",
      "Epoch 55/300\n",
      "1/1 [==============================] - 0s 6ms/step - loss: 11.9441 - mae: 11.9441\n",
      "Epoch 56/300\n",
      "1/1 [==============================] - 0s 6ms/step - loss: 11.9111 - mae: 11.9111\n",
      "Epoch 57/300\n",
      "1/1 [==============================] - 0s 6ms/step - loss: 11.8778 - mae: 11.8778\n",
      "Epoch 58/300\n",
      "1/1 [==============================] - 0s 7ms/step - loss: 11.8440 - mae: 11.8440\n",
      "Epoch 59/300\n",
      "1/1 [==============================] - 0s 6ms/step - loss: 11.8100 - mae: 11.8100\n",
      "Epoch 60/300\n",
      "1/1 [==============================] - 0s 6ms/step - loss: 11.7755 - mae: 11.7755\n",
      "Epoch 61/300\n",
      "1/1 [==============================] - 0s 7ms/step - loss: 11.7409 - mae: 11.7409\n",
      "Epoch 62/300\n",
      "1/1 [==============================] - 0s 5ms/step - loss: 11.7060 - mae: 11.7060\n",
      "Epoch 63/300\n",
      "1/1 [==============================] - 0s 7ms/step - loss: 11.6708 - mae: 11.6708\n",
      "Epoch 64/300\n",
      "1/1 [==============================] - 0s 6ms/step - loss: 11.6353 - mae: 11.6353\n",
      "Epoch 65/300\n",
      "1/1 [==============================] - 0s 6ms/step - loss: 11.5997 - mae: 11.5997\n",
      "Epoch 66/300\n",
      "1/1 [==============================] - 0s 6ms/step - loss: 11.5641 - mae: 11.5641\n",
      "Epoch 67/300\n",
      "1/1 [==============================] - 0s 6ms/step - loss: 11.5285 - mae: 11.5285\n",
      "Epoch 68/300\n",
      "1/1 [==============================] - 0s 7ms/step - loss: 11.4923 - mae: 11.4923\n",
      "Epoch 69/300\n",
      "1/1 [==============================] - 0s 8ms/step - loss: 11.4559 - mae: 11.4559\n",
      "Epoch 70/300\n",
      "1/1 [==============================] - 0s 7ms/step - loss: 11.4190 - mae: 11.4190\n",
      "Epoch 71/300\n",
      "1/1 [==============================] - 0s 7ms/step - loss: 11.3817 - mae: 11.3817\n",
      "Epoch 72/300\n",
      "1/1 [==============================] - 0s 7ms/step - loss: 11.3441 - mae: 11.3441\n",
      "Epoch 73/300\n",
      "1/1 [==============================] - 0s 6ms/step - loss: 11.3060 - mae: 11.3060\n",
      "Epoch 74/300\n",
      "1/1 [==============================] - 0s 7ms/step - loss: 11.2676 - mae: 11.2676\n",
      "Epoch 75/300\n",
      "1/1 [==============================] - 0s 6ms/step - loss: 11.2286 - mae: 11.2286\n",
      "Epoch 76/300\n",
      "1/1 [==============================] - 0s 7ms/step - loss: 11.1881 - mae: 11.1881\n",
      "Epoch 77/300\n",
      "1/1 [==============================] - 0s 7ms/step - loss: 11.1468 - mae: 11.1468\n",
      "Epoch 78/300\n",
      "1/1 [==============================] - 0s 8ms/step - loss: 11.1050 - mae: 11.1050\n",
      "Epoch 79/300\n",
      "1/1 [==============================] - 0s 6ms/step - loss: 11.0626 - mae: 11.0626\n",
      "Epoch 80/300\n",
      "1/1 [==============================] - 0s 7ms/step - loss: 11.0197 - mae: 11.0197\n",
      "Epoch 81/300\n",
      "1/1 [==============================] - 0s 7ms/step - loss: 10.9762 - mae: 10.9762\n",
      "Epoch 82/300\n",
      "1/1 [==============================] - 0s 7ms/step - loss: 10.9414 - mae: 10.9414\n",
      "Epoch 83/300\n",
      "1/1 [==============================] - 0s 7ms/step - loss: 10.9109 - mae: 10.9109\n",
      "Epoch 84/300\n",
      "1/1 [==============================] - 0s 8ms/step - loss: 10.8801 - mae: 10.8801\n",
      "Epoch 85/300\n",
      "1/1 [==============================] - 0s 7ms/step - loss: 10.8491 - mae: 10.8491\n",
      "Epoch 86/300\n",
      "1/1 [==============================] - 0s 7ms/step - loss: 10.8177 - mae: 10.8177\n",
      "Epoch 87/300\n"
     ]
    },
    {
     "name": "stdout",
     "output_type": "stream",
     "text": [
      "1/1 [==============================] - 0s 7ms/step - loss: 10.7862 - mae: 10.7862\n",
      "Epoch 88/300\n",
      "1/1 [==============================] - 0s 8ms/step - loss: 10.7547 - mae: 10.7547\n",
      "Epoch 89/300\n",
      "1/1 [==============================] - 0s 7ms/step - loss: 10.7231 - mae: 10.7231\n",
      "Epoch 90/300\n",
      "1/1 [==============================] - 0s 8ms/step - loss: 10.6915 - mae: 10.6915\n",
      "Epoch 91/300\n",
      "1/1 [==============================] - 0s 8ms/step - loss: 10.6597 - mae: 10.6597\n",
      "Epoch 92/300\n",
      "1/1 [==============================] - 0s 6ms/step - loss: 10.6276 - mae: 10.6276\n",
      "Epoch 93/300\n",
      "1/1 [==============================] - 0s 6ms/step - loss: 10.5952 - mae: 10.5952\n",
      "Epoch 94/300\n",
      "1/1 [==============================] - 0s 7ms/step - loss: 10.5625 - mae: 10.5625\n",
      "Epoch 95/300\n",
      "1/1 [==============================] - 0s 7ms/step - loss: 10.5294 - mae: 10.5294\n",
      "Epoch 96/300\n",
      "1/1 [==============================] - 0s 6ms/step - loss: 10.4959 - mae: 10.4959\n",
      "Epoch 97/300\n",
      "1/1 [==============================] - 0s 6ms/step - loss: 10.4620 - mae: 10.4620\n",
      "Epoch 98/300\n",
      "1/1 [==============================] - 0s 7ms/step - loss: 10.4276 - mae: 10.4276\n",
      "Epoch 99/300\n",
      "1/1 [==============================] - 0s 7ms/step - loss: 10.3928 - mae: 10.3928\n",
      "Epoch 100/300\n",
      "1/1 [==============================] - 0s 8ms/step - loss: 10.3576 - mae: 10.3576\n",
      "Epoch 101/300\n",
      "1/1 [==============================] - 0s 8ms/step - loss: 10.3220 - mae: 10.3220\n",
      "Epoch 102/300\n",
      "1/1 [==============================] - 0s 7ms/step - loss: 10.2860 - mae: 10.2860\n",
      "Epoch 103/300\n",
      "1/1 [==============================] - 0s 6ms/step - loss: 10.2498 - mae: 10.2498\n",
      "Epoch 104/300\n",
      "1/1 [==============================] - 0s 9ms/step - loss: 10.2132 - mae: 10.2132\n",
      "Epoch 105/300\n",
      "1/1 [==============================] - 0s 8ms/step - loss: 10.1762 - mae: 10.1762\n",
      "Epoch 106/300\n",
      "1/1 [==============================] - 0s 6ms/step - loss: 10.1390 - mae: 10.1390\n",
      "Epoch 107/300\n",
      "1/1 [==============================] - 0s 6ms/step - loss: 10.1019 - mae: 10.1019\n",
      "Epoch 108/300\n",
      "1/1 [==============================] - 0s 6ms/step - loss: 10.0644 - mae: 10.0644\n",
      "Epoch 109/300\n",
      "1/1 [==============================] - 0s 8ms/step - loss: 10.0264 - mae: 10.0264\n",
      "Epoch 110/300\n",
      "1/1 [==============================] - 0s 6ms/step - loss: 9.9879 - mae: 9.9879\n",
      "Epoch 111/300\n",
      "1/1 [==============================] - 0s 7ms/step - loss: 9.9489 - mae: 9.9489\n",
      "Epoch 112/300\n",
      "1/1 [==============================] - 0s 7ms/step - loss: 9.9095 - mae: 9.9095\n",
      "Epoch 113/300\n",
      "1/1 [==============================] - 0s 8ms/step - loss: 9.8699 - mae: 9.8699\n",
      "Epoch 114/300\n",
      "1/1 [==============================] - 0s 7ms/step - loss: 9.8298 - mae: 9.8298\n",
      "Epoch 115/300\n",
      "1/1 [==============================] - 0s 8ms/step - loss: 9.7893 - mae: 9.7893\n",
      "Epoch 116/300\n",
      "1/1 [==============================] - 0s 8ms/step - loss: 9.7483 - mae: 9.7483\n",
      "Epoch 117/300\n",
      "1/1 [==============================] - 0s 7ms/step - loss: 9.7068 - mae: 9.7068\n",
      "Epoch 118/300\n",
      "1/1 [==============================] - 0s 7ms/step - loss: 9.6650 - mae: 9.6650\n",
      "Epoch 119/300\n",
      "1/1 [==============================] - 0s 7ms/step - loss: 9.6226 - mae: 9.6226\n",
      "Epoch 120/300\n",
      "1/1 [==============================] - 0s 7ms/step - loss: 9.5798 - mae: 9.5798\n",
      "Epoch 121/300\n",
      "1/1 [==============================] - 0s 5ms/step - loss: 9.5366 - mae: 9.5366\n",
      "Epoch 122/300\n",
      "1/1 [==============================] - 0s 6ms/step - loss: 9.4931 - mae: 9.4931\n",
      "Epoch 123/300\n",
      "1/1 [==============================] - 0s 7ms/step - loss: 9.4492 - mae: 9.4492\n",
      "Epoch 124/300\n",
      "1/1 [==============================] - 0s 6ms/step - loss: 9.4049 - mae: 9.4049\n",
      "Epoch 125/300\n",
      "1/1 [==============================] - 0s 6ms/step - loss: 9.3602 - mae: 9.3602\n",
      "Epoch 126/300\n",
      "1/1 [==============================] - 0s 8ms/step - loss: 9.3152 - mae: 9.3152\n",
      "Epoch 127/300\n",
      "1/1 [==============================] - 0s 7ms/step - loss: 9.2703 - mae: 9.2703\n",
      "Epoch 128/300\n",
      "1/1 [==============================] - 0s 7ms/step - loss: 9.2252 - mae: 9.2252\n",
      "Epoch 129/300\n",
      "1/1 [==============================] - 0s 6ms/step - loss: 9.1797 - mae: 9.1797\n",
      "Epoch 130/300\n",
      "1/1 [==============================] - 0s 8ms/step - loss: 9.1338 - mae: 9.1338\n",
      "Epoch 131/300\n",
      "1/1 [==============================] - 0s 8ms/step - loss: 9.0875 - mae: 9.0875\n",
      "Epoch 132/300\n",
      "1/1 [==============================] - 0s 9ms/step - loss: 9.0408 - mae: 9.0408\n",
      "Epoch 133/300\n",
      "1/1 [==============================] - 0s 7ms/step - loss: 8.9935 - mae: 8.9935\n",
      "Epoch 134/300\n",
      "1/1 [==============================] - 0s 7ms/step - loss: 8.9458 - mae: 8.9458\n",
      "Epoch 135/300\n",
      "1/1 [==============================] - 0s 9ms/step - loss: 8.8976 - mae: 8.8976\n",
      "Epoch 136/300\n",
      "1/1 [==============================] - 0s 7ms/step - loss: 8.8488 - mae: 8.8488\n",
      "Epoch 137/300\n",
      "1/1 [==============================] - 0s 7ms/step - loss: 8.7994 - mae: 8.7994\n",
      "Epoch 138/300\n",
      "1/1 [==============================] - 0s 6ms/step - loss: 8.7496 - mae: 8.7496\n",
      "Epoch 139/300\n",
      "1/1 [==============================] - 0s 7ms/step - loss: 8.6993 - mae: 8.6993\n",
      "Epoch 140/300\n",
      "1/1 [==============================] - 0s 6ms/step - loss: 8.6483 - mae: 8.6483\n",
      "Epoch 141/300\n",
      "1/1 [==============================] - 0s 7ms/step - loss: 8.5966 - mae: 8.5966\n",
      "Epoch 142/300\n",
      "1/1 [==============================] - 0s 8ms/step - loss: 8.5440 - mae: 8.5440\n",
      "Epoch 143/300\n",
      "1/1 [==============================] - 0s 7ms/step - loss: 8.4907 - mae: 8.4907\n",
      "Epoch 144/300\n",
      "1/1 [==============================] - 0s 7ms/step - loss: 8.4368 - mae: 8.4368\n",
      "Epoch 145/300\n",
      "1/1 [==============================] - 0s 7ms/step - loss: 8.3823 - mae: 8.3823\n",
      "Epoch 146/300\n",
      "1/1 [==============================] - 0s 7ms/step - loss: 8.3274 - mae: 8.3274\n",
      "Epoch 147/300\n",
      "1/1 [==============================] - 0s 7ms/step - loss: 8.2720 - mae: 8.2720\n",
      "Epoch 148/300\n",
      "1/1 [==============================] - 0s 8ms/step - loss: 8.2161 - mae: 8.2161\n",
      "Epoch 149/300\n",
      "1/1 [==============================] - 0s 7ms/step - loss: 8.1596 - mae: 8.1596\n",
      "Epoch 150/300\n",
      "1/1 [==============================] - 0s 7ms/step - loss: 8.1024 - mae: 8.1024\n",
      "Epoch 151/300\n",
      "1/1 [==============================] - 0s 8ms/step - loss: 8.0446 - mae: 8.0446\n",
      "Epoch 152/300\n",
      "1/1 [==============================] - 0s 7ms/step - loss: 7.9862 - mae: 7.9862\n",
      "Epoch 153/300\n",
      "1/1 [==============================] - 0s 7ms/step - loss: 7.9274 - mae: 7.9274\n",
      "Epoch 154/300\n",
      "1/1 [==============================] - 0s 6ms/step - loss: 7.8679 - mae: 7.8679\n",
      "Epoch 155/300\n",
      "1/1 [==============================] - 0s 7ms/step - loss: 7.8081 - mae: 7.8081\n",
      "Epoch 156/300\n",
      "1/1 [==============================] - 0s 6ms/step - loss: 7.7480 - mae: 7.7480\n",
      "Epoch 157/300\n",
      "1/1 [==============================] - 0s 7ms/step - loss: 7.6871 - mae: 7.6871\n",
      "Epoch 158/300\n",
      "1/1 [==============================] - 0s 7ms/step - loss: 7.6255 - mae: 7.6255\n",
      "Epoch 159/300\n",
      "1/1 [==============================] - 0s 7ms/step - loss: 7.5635 - mae: 7.5635\n",
      "Epoch 160/300\n",
      "1/1 [==============================] - 0s 7ms/step - loss: 7.5007 - mae: 7.5007\n",
      "Epoch 161/300\n",
      "1/1 [==============================] - 0s 6ms/step - loss: 7.4372 - mae: 7.4372\n",
      "Epoch 162/300\n",
      "1/1 [==============================] - 0s 6ms/step - loss: 7.3733 - mae: 7.3733\n",
      "Epoch 163/300\n",
      "1/1 [==============================] - 0s 6ms/step - loss: 7.3086 - mae: 7.3086\n",
      "Epoch 164/300\n",
      "1/1 [==============================] - 0s 7ms/step - loss: 7.2433 - mae: 7.2433\n",
      "Epoch 165/300\n",
      "1/1 [==============================] - 0s 7ms/step - loss: 7.1773 - mae: 7.1773\n",
      "Epoch 166/300\n",
      "1/1 [==============================] - 0s 7ms/step - loss: 7.1106 - mae: 7.1106\n",
      "Epoch 167/300\n",
      "1/1 [==============================] - 0s 6ms/step - loss: 7.0432 - mae: 7.0432\n",
      "Epoch 168/300\n",
      "1/1 [==============================] - 0s 7ms/step - loss: 6.9750 - mae: 6.9750\n",
      "Epoch 169/300\n",
      "1/1 [==============================] - 0s 8ms/step - loss: 6.9065 - mae: 6.9065\n",
      "Epoch 170/300\n",
      "1/1 [==============================] - 0s 7ms/step - loss: 6.8373 - mae: 6.8373\n",
      "Epoch 171/300\n",
      "1/1 [==============================] - 0s 8ms/step - loss: 6.7674 - mae: 6.7674\n",
      "Epoch 172/300\n",
      "1/1 [==============================] - 0s 7ms/step - loss: 6.6968 - mae: 6.6968\n",
      "Epoch 173/300\n"
     ]
    },
    {
     "name": "stdout",
     "output_type": "stream",
     "text": [
      "1/1 [==============================] - 0s 7ms/step - loss: 6.6255 - mae: 6.6255\n",
      "Epoch 174/300\n",
      "1/1 [==============================] - 0s 8ms/step - loss: 6.5534 - mae: 6.5534\n",
      "Epoch 175/300\n",
      "1/1 [==============================] - 0s 8ms/step - loss: 6.4805 - mae: 6.4805\n",
      "Epoch 176/300\n",
      "1/1 [==============================] - 0s 7ms/step - loss: 6.4069 - mae: 6.4069\n",
      "Epoch 177/300\n",
      "1/1 [==============================] - 0s 7ms/step - loss: 6.3326 - mae: 6.3326\n",
      "Epoch 178/300\n",
      "1/1 [==============================] - 0s 8ms/step - loss: 6.2577 - mae: 6.2577\n",
      "Epoch 179/300\n",
      "1/1 [==============================] - 0s 7ms/step - loss: 6.1820 - mae: 6.1820\n",
      "Epoch 180/300\n",
      "1/1 [==============================] - 0s 6ms/step - loss: 6.1057 - mae: 6.1057\n",
      "Epoch 181/300\n",
      "1/1 [==============================] - 0s 7ms/step - loss: 6.0285 - mae: 6.0285\n",
      "Epoch 182/300\n",
      "1/1 [==============================] - 0s 7ms/step - loss: 5.9506 - mae: 5.9506\n",
      "Epoch 183/300\n",
      "1/1 [==============================] - 0s 7ms/step - loss: 5.8719 - mae: 5.8719\n",
      "Epoch 184/300\n",
      "1/1 [==============================] - 0s 7ms/step - loss: 5.7923 - mae: 5.7923\n",
      "Epoch 185/300\n",
      "1/1 [==============================] - 0s 9ms/step - loss: 5.7120 - mae: 5.7120\n",
      "Epoch 186/300\n",
      "1/1 [==============================] - 0s 8ms/step - loss: 5.6309 - mae: 5.6309\n",
      "Epoch 187/300\n",
      "1/1 [==============================] - 0s 7ms/step - loss: 5.5490 - mae: 5.5490\n",
      "Epoch 188/300\n",
      "1/1 [==============================] - 0s 7ms/step - loss: 5.4666 - mae: 5.4666\n",
      "Epoch 189/300\n",
      "1/1 [==============================] - 0s 7ms/step - loss: 5.3829 - mae: 5.3829\n",
      "Epoch 190/300\n",
      "1/1 [==============================] - 0s 7ms/step - loss: 5.2986 - mae: 5.2986\n",
      "Epoch 191/300\n",
      "1/1 [==============================] - 0s 7ms/step - loss: 5.2133 - mae: 5.2133\n",
      "Epoch 192/300\n",
      "1/1 [==============================] - 0s 7ms/step - loss: 5.1271 - mae: 5.1271\n",
      "Epoch 193/300\n",
      "1/1 [==============================] - 0s 7ms/step - loss: 5.0398 - mae: 5.0398\n",
      "Epoch 194/300\n",
      "1/1 [==============================] - 0s 6ms/step - loss: 4.9516 - mae: 4.9516\n",
      "Epoch 195/300\n",
      "1/1 [==============================] - 0s 8ms/step - loss: 4.8624 - mae: 4.8624\n",
      "Epoch 196/300\n",
      "1/1 [==============================] - 0s 7ms/step - loss: 4.7723 - mae: 4.7723\n",
      "Epoch 197/300\n",
      "1/1 [==============================] - 0s 9ms/step - loss: 4.6813 - mae: 4.6813\n",
      "Epoch 198/300\n",
      "1/1 [==============================] - 0s 7ms/step - loss: 4.5893 - mae: 4.5893\n",
      "Epoch 199/300\n",
      "1/1 [==============================] - 0s 9ms/step - loss: 4.4964 - mae: 4.4964\n",
      "Epoch 200/300\n",
      "1/1 [==============================] - 0s 7ms/step - loss: 4.4026 - mae: 4.4026\n",
      "Epoch 201/300\n",
      "1/1 [==============================] - 0s 7ms/step - loss: 4.3077 - mae: 4.3077\n",
      "Epoch 202/300\n",
      "1/1 [==============================] - 0s 7ms/step - loss: 4.2120 - mae: 4.2120\n",
      "Epoch 203/300\n",
      "1/1 [==============================] - 0s 7ms/step - loss: 4.1245 - mae: 4.1245\n",
      "Epoch 204/300\n",
      "1/1 [==============================] - 0s 7ms/step - loss: 4.0956 - mae: 4.0956\n",
      "Epoch 205/300\n",
      "1/1 [==============================] - 0s 7ms/step - loss: 4.0683 - mae: 4.0683\n",
      "Epoch 206/300\n",
      "1/1 [==============================] - 0s 6ms/step - loss: 4.0424 - mae: 4.0424\n",
      "Epoch 207/300\n",
      "1/1 [==============================] - 0s 6ms/step - loss: 4.0177 - mae: 4.0177\n",
      "Epoch 208/300\n",
      "1/1 [==============================] - 0s 6ms/step - loss: 3.9945 - mae: 3.9945\n",
      "Epoch 209/300\n",
      "1/1 [==============================] - 0s 7ms/step - loss: 3.9722 - mae: 3.9722\n",
      "Epoch 210/300\n",
      "1/1 [==============================] - 0s 8ms/step - loss: 3.9507 - mae: 3.9507\n",
      "Epoch 211/300\n",
      "1/1 [==============================] - 0s 7ms/step - loss: 3.9301 - mae: 3.9301\n",
      "Epoch 212/300\n",
      "1/1 [==============================] - 0s 7ms/step - loss: 3.9102 - mae: 3.9102\n",
      "Epoch 213/300\n",
      "1/1 [==============================] - 0s 6ms/step - loss: 3.8909 - mae: 3.8909\n",
      "Epoch 214/300\n",
      "1/1 [==============================] - 0s 7ms/step - loss: 3.8722 - mae: 3.8722\n",
      "Epoch 215/300\n",
      "1/1 [==============================] - 0s 7ms/step - loss: 3.8540 - mae: 3.8540\n",
      "Epoch 216/300\n",
      "1/1 [==============================] - 0s 8ms/step - loss: 3.8361 - mae: 3.8361\n",
      "Epoch 217/300\n",
      "1/1 [==============================] - 0s 8ms/step - loss: 3.8301 - mae: 3.8301\n",
      "Epoch 218/300\n",
      "1/1 [==============================] - 0s 8ms/step - loss: 3.8388 - mae: 3.8388\n",
      "Epoch 219/300\n",
      "1/1 [==============================] - 0s 7ms/step - loss: 3.8455 - mae: 3.8455\n",
      "Epoch 220/300\n",
      "1/1 [==============================] - 0s 7ms/step - loss: 3.8505 - mae: 3.8505\n",
      "Epoch 221/300\n",
      "1/1 [==============================] - 0s 7ms/step - loss: 3.8540 - mae: 3.8540\n",
      "Epoch 222/300\n",
      "1/1 [==============================] - 0s 7ms/step - loss: 3.8561 - mae: 3.8561\n",
      "Epoch 223/300\n",
      "1/1 [==============================] - 0s 8ms/step - loss: 3.8571 - mae: 3.8571\n",
      "Epoch 224/300\n",
      "1/1 [==============================] - 0s 10ms/step - loss: 3.8570 - mae: 3.8570\n",
      "Epoch 225/300\n",
      "1/1 [==============================] - 0s 7ms/step - loss: 3.8558 - mae: 3.8558\n",
      "Epoch 226/300\n",
      "1/1 [==============================] - 0s 6ms/step - loss: 3.8537 - mae: 3.8537\n",
      "Epoch 227/300\n",
      "1/1 [==============================] - 0s 6ms/step - loss: 3.8508 - mae: 3.8508\n",
      "Epoch 228/300\n",
      "1/1 [==============================] - 0s 8ms/step - loss: 3.8473 - mae: 3.8473\n",
      "Epoch 229/300\n",
      "1/1 [==============================] - 0s 7ms/step - loss: 3.8431 - mae: 3.8431\n",
      "Epoch 230/300\n",
      "1/1 [==============================] - 0s 7ms/step - loss: 3.8384 - mae: 3.8384\n",
      "Epoch 231/300\n",
      "1/1 [==============================] - 0s 6ms/step - loss: 3.8330 - mae: 3.8330\n",
      "Epoch 232/300\n",
      "1/1 [==============================] - 0s 6ms/step - loss: 3.8271 - mae: 3.8271\n",
      "Epoch 233/300\n",
      "1/1 [==============================] - 0s 7ms/step - loss: 3.8209 - mae: 3.8209\n",
      "Epoch 234/300\n",
      "1/1 [==============================] - 0s 7ms/step - loss: 3.8142 - mae: 3.8142\n",
      "Epoch 235/300\n",
      "1/1 [==============================] - 0s 7ms/step - loss: 3.8072 - mae: 3.8072\n",
      "Epoch 236/300\n",
      "1/1 [==============================] - 0s 8ms/step - loss: 3.7999 - mae: 3.7999\n",
      "Epoch 237/300\n",
      "1/1 [==============================] - 0s 7ms/step - loss: 3.8059 - mae: 3.8059\n",
      "Epoch 238/300\n",
      "1/1 [==============================] - 0s 6ms/step - loss: 3.8104 - mae: 3.8104\n",
      "Epoch 239/300\n",
      "1/1 [==============================] - 0s 8ms/step - loss: 3.8127 - mae: 3.8127\n",
      "Epoch 240/300\n",
      "1/1 [==============================] - 0s 8ms/step - loss: 3.8132 - mae: 3.8132\n",
      "Epoch 241/300\n",
      "1/1 [==============================] - 0s 6ms/step - loss: 3.8119 - mae: 3.8119\n",
      "Epoch 242/300\n",
      "1/1 [==============================] - 0s 7ms/step - loss: 3.8090 - mae: 3.8090\n",
      "Epoch 243/300\n",
      "1/1 [==============================] - 0s 7ms/step - loss: 3.8048 - mae: 3.8048\n",
      "Epoch 244/300\n",
      "1/1 [==============================] - 0s 5ms/step - loss: 3.7994 - mae: 3.7994\n",
      "Epoch 245/300\n",
      "1/1 [==============================] - 0s 6ms/step - loss: 3.7929 - mae: 3.7929\n",
      "Epoch 246/300\n",
      "1/1 [==============================] - 0s 7ms/step - loss: 3.7853 - mae: 3.7853\n",
      "Epoch 247/300\n",
      "1/1 [==============================] - 0s 7ms/step - loss: 3.7885 - mae: 3.7885\n",
      "Epoch 248/300\n",
      "1/1 [==============================] - 0s 8ms/step - loss: 3.7909 - mae: 3.7909\n",
      "Epoch 249/300\n",
      "1/1 [==============================] - 0s 8ms/step - loss: 3.7920 - mae: 3.7920\n",
      "Epoch 250/300\n",
      "1/1 [==============================] - 0s 6ms/step - loss: 3.7919 - mae: 3.7919\n",
      "Epoch 251/300\n",
      "1/1 [==============================] - 0s 7ms/step - loss: 3.7907 - mae: 3.7907\n",
      "Epoch 252/300\n",
      "1/1 [==============================] - 0s 8ms/step - loss: 3.7887 - mae: 3.7887\n",
      "Epoch 253/300\n",
      "1/1 [==============================] - 0s 7ms/step - loss: 3.7858 - mae: 3.7858\n",
      "Epoch 254/300\n",
      "1/1 [==============================] - 0s 8ms/step - loss: 3.7823 - mae: 3.7823\n",
      "Epoch 255/300\n",
      "1/1 [==============================] - 0s 8ms/step - loss: 3.7781 - mae: 3.7781\n",
      "Epoch 256/300\n",
      "1/1 [==============================] - 0s 6ms/step - loss: 3.7732 - mae: 3.7732\n",
      "Epoch 257/300\n",
      "1/1 [==============================] - 0s 8ms/step - loss: 3.7677 - mae: 3.7677\n",
      "Epoch 258/300\n",
      "1/1 [==============================] - 0s 8ms/step - loss: 3.7718 - mae: 3.7718\n",
      "Epoch 259/300\n",
      "1/1 [==============================] - 0s 8ms/step - loss: 3.7739 - mae: 3.7739\n",
      "Epoch 260/300\n"
     ]
    },
    {
     "name": "stdout",
     "output_type": "stream",
     "text": [
      "1/1 [==============================] - 0s 8ms/step - loss: 3.7742 - mae: 3.7742\n",
      "Epoch 261/300\n",
      "1/1 [==============================] - 0s 7ms/step - loss: 3.7728 - mae: 3.7728\n",
      "Epoch 262/300\n",
      "1/1 [==============================] - 0s 8ms/step - loss: 3.7699 - mae: 3.7699\n",
      "Epoch 263/300\n",
      "1/1 [==============================] - 0s 6ms/step - loss: 3.7655 - mae: 3.7655\n",
      "Epoch 264/300\n",
      "1/1 [==============================] - 0s 7ms/step - loss: 3.7598 - mae: 3.7598\n",
      "Epoch 265/300\n",
      "1/1 [==============================] - 0s 7ms/step - loss: 3.7614 - mae: 3.7614\n",
      "Epoch 266/300\n",
      "1/1 [==============================] - 0s 7ms/step - loss: 3.7630 - mae: 3.7630\n",
      "Epoch 267/300\n",
      "1/1 [==============================] - 0s 8ms/step - loss: 3.7613 - mae: 3.7613\n",
      "Epoch 268/300\n",
      "1/1 [==============================] - 0s 9ms/step - loss: 3.7616 - mae: 3.7616\n",
      "Epoch 269/300\n",
      "1/1 [==============================] - 0s 6ms/step - loss: 3.7607 - mae: 3.7607\n",
      "Epoch 270/300\n",
      "1/1 [==============================] - 0s 8ms/step - loss: 3.7587 - mae: 3.7587\n",
      "Epoch 271/300\n",
      "1/1 [==============================] - 0s 9ms/step - loss: 3.7559 - mae: 3.7559\n",
      "Epoch 272/300\n",
      "1/1 [==============================] - 0s 7ms/step - loss: 3.7522 - mae: 3.7522\n",
      "Epoch 273/300\n",
      "1/1 [==============================] - 0s 7ms/step - loss: 3.7524 - mae: 3.7524\n",
      "Epoch 274/300\n",
      "1/1 [==============================] - 0s 8ms/step - loss: 3.7535 - mae: 3.7535\n",
      "Epoch 275/300\n",
      "1/1 [==============================] - 0s 8ms/step - loss: 3.7528 - mae: 3.7528\n",
      "Epoch 276/300\n",
      "1/1 [==============================] - 0s 7ms/step - loss: 3.7505 - mae: 3.7505\n",
      "Epoch 277/300\n",
      "1/1 [==============================] - 0s 9ms/step - loss: 3.7482 - mae: 3.7482\n",
      "Epoch 278/300\n",
      "1/1 [==============================] - 0s 8ms/step - loss: 3.7465 - mae: 3.7465\n",
      "Epoch 279/300\n",
      "1/1 [==============================] - 0s 13ms/step - loss: 3.7477 - mae: 3.7477\n",
      "Epoch 280/300\n",
      "1/1 [==============================] - 0s 7ms/step - loss: 3.7478 - mae: 3.7478\n",
      "Epoch 281/300\n",
      "1/1 [==============================] - 0s 7ms/step - loss: 3.7467 - mae: 3.7467\n",
      "Epoch 282/300\n",
      "1/1 [==============================] - 0s 7ms/step - loss: 3.7446 - mae: 3.7446\n",
      "Epoch 283/300\n",
      "1/1 [==============================] - 0s 8ms/step - loss: 3.7424 - mae: 3.7424\n",
      "Epoch 284/300\n",
      "1/1 [==============================] - 0s 6ms/step - loss: 3.7405 - mae: 3.7405\n",
      "Epoch 285/300\n",
      "1/1 [==============================] - 0s 6ms/step - loss: 3.7412 - mae: 3.7412\n",
      "Epoch 286/300\n",
      "1/1 [==============================] - 0s 7ms/step - loss: 3.7401 - mae: 3.7401\n",
      "Epoch 287/300\n",
      "1/1 [==============================] - 0s 7ms/step - loss: 3.7376 - mae: 3.7376\n",
      "Epoch 288/300\n",
      "1/1 [==============================] - 0s 6ms/step - loss: 3.7372 - mae: 3.7372\n",
      "Epoch 289/300\n",
      "1/1 [==============================] - 0s 6ms/step - loss: 3.7357 - mae: 3.7357\n",
      "Epoch 290/300\n",
      "1/1 [==============================] - 0s 6ms/step - loss: 3.7363 - mae: 3.7363\n",
      "Epoch 291/300\n",
      "1/1 [==============================] - 0s 6ms/step - loss: 3.7351 - mae: 3.7351\n",
      "Epoch 292/300\n",
      "1/1 [==============================] - 0s 7ms/step - loss: 3.7340 - mae: 3.7340\n",
      "Epoch 293/300\n",
      "1/1 [==============================] - 0s 7ms/step - loss: 3.7339 - mae: 3.7339\n",
      "Epoch 294/300\n",
      "1/1 [==============================] - 0s 7ms/step - loss: 3.7345 - mae: 3.7345\n",
      "Epoch 295/300\n",
      "1/1 [==============================] - 0s 6ms/step - loss: 3.7340 - mae: 3.7340\n",
      "Epoch 296/300\n",
      "1/1 [==============================] - 0s 8ms/step - loss: 3.7324 - mae: 3.7324\n",
      "Epoch 297/300\n",
      "1/1 [==============================] - 0s 6ms/step - loss: 3.7298 - mae: 3.7298\n",
      "Epoch 298/300\n",
      "1/1 [==============================] - 0s 6ms/step - loss: 3.7288 - mae: 3.7288\n",
      "Epoch 299/300\n",
      "1/1 [==============================] - 0s 6ms/step - loss: 3.7286 - mae: 3.7286\n",
      "Epoch 300/300\n",
      "1/1 [==============================] - 0s 7ms/step - loss: 3.7272 - mae: 3.7272\n"
     ]
    },
    {
     "data": {
      "text/plain": [
       "<keras.callbacks.History at 0x1888a677460>"
      ]
     },
     "execution_count": 18,
     "metadata": {},
     "output_type": "execute_result"
    }
   ],
   "source": [
    "# 2nd experiment : buil a larger model, as an improvement to the model\n",
    "\n",
    "# Set a random seed (in order to have some reproducibility)\n",
    "tf.random.set_seed(42)\n",
    "\n",
    "# 1. Create a model using the Sequential API\n",
    "model = tf.keras.Sequential([\n",
    "    \n",
    "    # Adding more hidden layers, more neurons, and activation function \n",
    "    tf.keras.layers.Dense(100, activation=\"relu\"),\n",
    "    tf.keras.layers.Dense(100, activation=\"relu\"),\n",
    "    tf.keras.layers.Dense(100, activation=\"relu\"),\n",
    "    \n",
    "    tf.keras.layers.Dense(1)\n",
    "])\n",
    "\n",
    "# 2. Compile the model\n",
    "model.compile(loss=tf.keras.losses.mae, # MAE : Mean Absolute Error\n",
    "              optimizer=tf.keras.optimizers.Adam(lr=0.0001), # lr = Learning Rate\n",
    "              metrics=[\"mae\"]\n",
    "             )\n",
    "\n",
    "# 3. Fit the model \n",
    "model.fit(tf.expand_dims(X, axis=-1),y, epochs=300) # Increasing the number of epochs\n"
   ]
  },
  {
   "cell_type": "markdown",
   "id": "673624a9",
   "metadata": {},
   "source": [
    "The 2nd model, although more larger, don't provide a better training result compared to the previously built one."
   ]
  },
  {
   "cell_type": "code",
   "execution_count": 19,
   "id": "533e0fa1",
   "metadata": {},
   "outputs": [
    {
     "data": {
      "text/plain": [
       "(<tf.Tensor: shape=(8,), dtype=float64, numpy=array([-7., -4., -1.,  2.,  5.,  8., 11., 14.])>,\n",
       " <tf.Tensor: shape=(8,), dtype=float64, numpy=array([ 3.,  6.,  9., 12., 15., 18., 21., 24.])>)"
      ]
     },
     "execution_count": 19,
     "metadata": {},
     "output_type": "execute_result"
    }
   ],
   "source": [
    "# Remind ourselves of the data\n",
    "X, y"
   ]
  },
  {
   "cell_type": "code",
   "execution_count": 20,
   "id": "9e130a20",
   "metadata": {},
   "outputs": [
    {
     "name": "stdout",
     "output_type": "stream",
     "text": [
      "1/1 [==============================] - 0s 167ms/step\n"
     ]
    },
    {
     "data": {
      "text/plain": [
       "array([[32.047325]], dtype=float32)"
      ]
     },
     "execution_count": 20,
     "metadata": {},
     "output_type": "execute_result"
    }
   ],
   "source": [
    "# Check if the model's prediction has improved...\n",
    "model.predict([17.])"
   ]
  },
  {
   "cell_type": "code",
   "execution_count": null,
   "id": "883941b4",
   "metadata": {},
   "outputs": [],
   "source": []
  },
  {
   "cell_type": "code",
   "execution_count": 21,
   "id": "0cc87495",
   "metadata": {},
   "outputs": [
    {
     "name": "stdout",
     "output_type": "stream",
     "text": [
      "Epoch 1/100\n",
      "1/1 [==============================] - 1s 683ms/step - loss: 12.9510 - mae: 12.9510\n",
      "Epoch 2/100\n",
      "1/1 [==============================] - 0s 7ms/step - loss: 12.0711 - mae: 12.0711\n",
      "Epoch 3/100\n",
      "1/1 [==============================] - 0s 5ms/step - loss: 11.1863 - mae: 11.1863\n",
      "Epoch 4/100\n",
      "1/1 [==============================] - 0s 6ms/step - loss: 10.2921 - mae: 10.2921\n",
      "Epoch 5/100\n",
      "1/1 [==============================] - 0s 5ms/step - loss: 9.4252 - mae: 9.4252\n",
      "Epoch 6/100\n",
      "1/1 [==============================] - 0s 6ms/step - loss: 8.7050 - mae: 8.7050\n",
      "Epoch 7/100\n",
      "1/1 [==============================] - 0s 6ms/step - loss: 7.9530 - mae: 7.9530\n",
      "Epoch 8/100\n",
      "1/1 [==============================] - 0s 6ms/step - loss: 7.1765 - mae: 7.1765\n",
      "Epoch 9/100\n",
      "1/1 [==============================] - 0s 6ms/step - loss: 6.3764 - mae: 6.3764\n",
      "Epoch 10/100\n",
      "1/1 [==============================] - 0s 5ms/step - loss: 5.5421 - mae: 5.5421\n",
      "Epoch 11/100\n",
      "1/1 [==============================] - 0s 6ms/step - loss: 4.6718 - mae: 4.6718\n",
      "Epoch 12/100\n",
      "1/1 [==============================] - 0s 6ms/step - loss: 3.9303 - mae: 3.9303\n",
      "Epoch 13/100\n",
      "1/1 [==============================] - 0s 5ms/step - loss: 3.7635 - mae: 3.7635\n",
      "Epoch 14/100\n",
      "1/1 [==============================] - 0s 6ms/step - loss: 3.9197 - mae: 3.9197\n",
      "Epoch 15/100\n",
      "1/1 [==============================] - 0s 6ms/step - loss: 4.1350 - mae: 4.1350\n",
      "Epoch 16/100\n",
      "1/1 [==============================] - 0s 8ms/step - loss: 4.4118 - mae: 4.4118\n",
      "Epoch 17/100\n",
      "1/1 [==============================] - 0s 6ms/step - loss: 4.5746 - mae: 4.5746\n",
      "Epoch 18/100\n",
      "1/1 [==============================] - 0s 6ms/step - loss: 4.6375 - mae: 4.6375\n",
      "Epoch 19/100\n",
      "1/1 [==============================] - 0s 8ms/step - loss: 4.6139 - mae: 4.6139\n",
      "Epoch 20/100\n",
      "1/1 [==============================] - 0s 6ms/step - loss: 4.5165 - mae: 4.5165\n",
      "Epoch 21/100\n",
      "1/1 [==============================] - 0s 7ms/step - loss: 4.3567 - mae: 4.3567\n",
      "Epoch 22/100\n",
      "1/1 [==============================] - 0s 5ms/step - loss: 4.1444 - mae: 4.1444\n",
      "Epoch 23/100\n",
      "1/1 [==============================] - 0s 5ms/step - loss: 3.8893 - mae: 3.8893\n",
      "Epoch 24/100\n",
      "1/1 [==============================] - 0s 6ms/step - loss: 3.7021 - mae: 3.7021\n",
      "Epoch 25/100\n",
      "1/1 [==============================] - 0s 6ms/step - loss: 3.5788 - mae: 3.5788\n",
      "Epoch 26/100\n",
      "1/1 [==============================] - 0s 6ms/step - loss: 3.4595 - mae: 3.4595\n",
      "Epoch 27/100\n",
      "1/1 [==============================] - 0s 6ms/step - loss: 3.3400 - mae: 3.3400\n",
      "Epoch 28/100\n",
      "1/1 [==============================] - 0s 7ms/step - loss: 3.3973 - mae: 3.3973\n",
      "Epoch 29/100\n",
      "1/1 [==============================] - 0s 6ms/step - loss: 3.4285 - mae: 3.4285\n",
      "Epoch 30/100\n",
      "1/1 [==============================] - 0s 5ms/step - loss: 3.4269 - mae: 3.4269\n",
      "Epoch 31/100\n",
      "1/1 [==============================] - 0s 7ms/step - loss: 3.4264 - mae: 3.4264\n",
      "Epoch 32/100\n",
      "1/1 [==============================] - 0s 5ms/step - loss: 3.2986 - mae: 3.2986\n",
      "Epoch 33/100\n",
      "1/1 [==============================] - 0s 5ms/step - loss: 3.2625 - mae: 3.2625\n",
      "Epoch 34/100\n",
      "1/1 [==============================] - 0s 5ms/step - loss: 3.1545 - mae: 3.1545\n",
      "Epoch 35/100\n",
      "1/1 [==============================] - 0s 5ms/step - loss: 2.9870 - mae: 2.9870\n",
      "Epoch 36/100\n",
      "1/1 [==============================] - 0s 4ms/step - loss: 2.8715 - mae: 2.8715\n",
      "Epoch 37/100\n",
      "1/1 [==============================] - 0s 6ms/step - loss: 2.8715 - mae: 2.8715\n",
      "Epoch 38/100\n",
      "1/1 [==============================] - 0s 6ms/step - loss: 2.8522 - mae: 2.8522\n",
      "Epoch 39/100\n",
      "1/1 [==============================] - 0s 6ms/step - loss: 2.8141 - mae: 2.8141\n",
      "Epoch 40/100\n",
      "1/1 [==============================] - 0s 5ms/step - loss: 2.7582 - mae: 2.7582\n",
      "Epoch 41/100\n",
      "1/1 [==============================] - 0s 5ms/step - loss: 2.6868 - mae: 2.6868\n",
      "Epoch 42/100\n",
      "1/1 [==============================] - 0s 5ms/step - loss: 2.6017 - mae: 2.6017\n",
      "Epoch 43/100\n",
      "1/1 [==============================] - 0s 5ms/step - loss: 2.5022 - mae: 2.5022\n",
      "Epoch 44/100\n",
      "1/1 [==============================] - 0s 7ms/step - loss: 2.3888 - mae: 2.3888\n",
      "Epoch 45/100\n",
      "1/1 [==============================] - 0s 5ms/step - loss: 2.2625 - mae: 2.2625\n",
      "Epoch 46/100\n",
      "1/1 [==============================] - 0s 4ms/step - loss: 2.1310 - mae: 2.1310\n",
      "Epoch 47/100\n",
      "1/1 [==============================] - 0s 4ms/step - loss: 2.0380 - mae: 2.0380\n",
      "Epoch 48/100\n",
      "1/1 [==============================] - 0s 4ms/step - loss: 1.9347 - mae: 1.9347\n",
      "Epoch 49/100\n",
      "1/1 [==============================] - 0s 5ms/step - loss: 1.7655 - mae: 1.7655\n",
      "Epoch 50/100\n",
      "1/1 [==============================] - 0s 4ms/step - loss: 1.6792 - mae: 1.6792\n",
      "Epoch 51/100\n",
      "1/1 [==============================] - 0s 4ms/step - loss: 1.5801 - mae: 1.5801\n",
      "Epoch 52/100\n",
      "1/1 [==============================] - 0s 4ms/step - loss: 1.4535 - mae: 1.4535\n",
      "Epoch 53/100\n",
      "1/1 [==============================] - 0s 5ms/step - loss: 1.3062 - mae: 1.3062\n",
      "Epoch 54/100\n",
      "1/1 [==============================] - 0s 5ms/step - loss: 1.1732 - mae: 1.1732\n",
      "Epoch 55/100\n",
      "1/1 [==============================] - 0s 5ms/step - loss: 0.9562 - mae: 0.9562\n",
      "Epoch 56/100\n",
      "1/1 [==============================] - 0s 4ms/step - loss: 0.7522 - mae: 0.7522\n",
      "Epoch 57/100\n",
      "1/1 [==============================] - 0s 4ms/step - loss: 0.6177 - mae: 0.6177\n",
      "Epoch 58/100\n",
      "1/1 [==============================] - 0s 4ms/step - loss: 0.4580 - mae: 0.4580\n",
      "Epoch 59/100\n",
      "1/1 [==============================] - 0s 5ms/step - loss: 0.3221 - mae: 0.3221\n",
      "Epoch 60/100\n",
      "1/1 [==============================] - 0s 6ms/step - loss: 0.4988 - mae: 0.4988\n",
      "Epoch 61/100\n",
      "1/1 [==============================] - 0s 7ms/step - loss: 0.2857 - mae: 0.2857\n",
      "Epoch 62/100\n",
      "1/1 [==============================] - 0s 6ms/step - loss: 0.5587 - mae: 0.5587\n",
      "Epoch 63/100\n",
      "1/1 [==============================] - 0s 6ms/step - loss: 0.7940 - mae: 0.7940\n",
      "Epoch 64/100\n",
      "1/1 [==============================] - 0s 5ms/step - loss: 0.7813 - mae: 0.7813\n",
      "Epoch 65/100\n",
      "1/1 [==============================] - 0s 7ms/step - loss: 0.5686 - mae: 0.5686\n",
      "Epoch 66/100\n",
      "1/1 [==============================] - 0s 6ms/step - loss: 0.5763 - mae: 0.5763\n",
      "Epoch 67/100\n",
      "1/1 [==============================] - 0s 6ms/step - loss: 0.5127 - mae: 0.5127\n",
      "Epoch 68/100\n",
      "1/1 [==============================] - 0s 6ms/step - loss: 0.4867 - mae: 0.4867\n",
      "Epoch 69/100\n",
      "1/1 [==============================] - 0s 6ms/step - loss: 0.4406 - mae: 0.4406\n",
      "Epoch 70/100\n",
      "1/1 [==============================] - 0s 6ms/step - loss: 0.3222 - mae: 0.3222\n",
      "Epoch 71/100\n",
      "1/1 [==============================] - 0s 6ms/step - loss: 0.5968 - mae: 0.5968\n",
      "Epoch 72/100\n",
      "1/1 [==============================] - 0s 7ms/step - loss: 0.4705 - mae: 0.4705\n",
      "Epoch 73/100\n",
      "1/1 [==============================] - 0s 6ms/step - loss: 0.3544 - mae: 0.3544\n",
      "Epoch 74/100\n",
      "1/1 [==============================] - 0s 8ms/step - loss: 0.4044 - mae: 0.4044\n",
      "Epoch 75/100\n",
      "1/1 [==============================] - 0s 5ms/step - loss: 0.3246 - mae: 0.3246\n",
      "Epoch 76/100\n",
      "1/1 [==============================] - 0s 6ms/step - loss: 0.2114 - mae: 0.2114\n",
      "Epoch 77/100\n",
      "1/1 [==============================] - 0s 6ms/step - loss: 0.3181 - mae: 0.3181\n",
      "Epoch 78/100\n",
      "1/1 [==============================] - 0s 6ms/step - loss: 0.2956 - mae: 0.2956\n",
      "Epoch 79/100\n",
      "1/1 [==============================] - 0s 7ms/step - loss: 0.2315 - mae: 0.2315\n",
      "Epoch 80/100\n",
      "1/1 [==============================] - 0s 7ms/step - loss: 0.2770 - mae: 0.2770\n",
      "Epoch 81/100\n",
      "1/1 [==============================] - 0s 7ms/step - loss: 0.3370 - mae: 0.3370\n",
      "Epoch 82/100\n",
      "1/1 [==============================] - 0s 6ms/step - loss: 0.2876 - mae: 0.2876\n",
      "Epoch 83/100\n",
      "1/1 [==============================] - 0s 7ms/step - loss: 0.2455 - mae: 0.2455\n",
      "Epoch 84/100\n",
      "1/1 [==============================] - 0s 6ms/step - loss: 0.2319 - mae: 0.2319\n",
      "Epoch 85/100\n",
      "1/1 [==============================] - 0s 7ms/step - loss: 0.2628 - mae: 0.2628\n",
      "Epoch 86/100\n",
      "1/1 [==============================] - 0s 6ms/step - loss: 0.2829 - mae: 0.2829\n",
      "Epoch 87/100\n",
      "1/1 [==============================] - 0s 7ms/step - loss: 0.2478 - mae: 0.2478\n",
      "Epoch 88/100\n",
      "1/1 [==============================] - 0s 7ms/step - loss: 0.1778 - mae: 0.1778\n",
      "Epoch 89/100\n"
     ]
    },
    {
     "name": "stdout",
     "output_type": "stream",
     "text": [
      "1/1 [==============================] - 0s 9ms/step - loss: 0.1814 - mae: 0.1814\n",
      "Epoch 90/100\n",
      "1/1 [==============================] - 0s 7ms/step - loss: 0.1862 - mae: 0.1862\n",
      "Epoch 91/100\n",
      "1/1 [==============================] - 0s 7ms/step - loss: 0.1806 - mae: 0.1806\n",
      "Epoch 92/100\n",
      "1/1 [==============================] - 0s 7ms/step - loss: 0.1536 - mae: 0.1536\n",
      "Epoch 93/100\n",
      "1/1 [==============================] - 0s 6ms/step - loss: 0.1027 - mae: 0.1027\n",
      "Epoch 94/100\n",
      "1/1 [==============================] - 0s 6ms/step - loss: 0.2740 - mae: 0.2740\n",
      "Epoch 95/100\n",
      "1/1 [==============================] - 0s 8ms/step - loss: 0.2362 - mae: 0.2362\n",
      "Epoch 96/100\n",
      "1/1 [==============================] - 0s 6ms/step - loss: 0.3203 - mae: 0.3203\n",
      "Epoch 97/100\n",
      "1/1 [==============================] - 0s 7ms/step - loss: 0.2914 - mae: 0.2914\n",
      "Epoch 98/100\n",
      "1/1 [==============================] - 0s 7ms/step - loss: 0.1134 - mae: 0.1134\n",
      "Epoch 99/100\n",
      "1/1 [==============================] - 0s 6ms/step - loss: 0.4667 - mae: 0.4667\n",
      "Epoch 100/100\n",
      "1/1 [==============================] - 0s 6ms/step - loss: 0.5622 - mae: 0.5622\n"
     ]
    },
    {
     "data": {
      "text/plain": [
       "<keras.callbacks.History at 0x1888b762400>"
      ]
     },
     "execution_count": 21,
     "metadata": {},
     "output_type": "execute_result"
    }
   ],
   "source": [
    "# 3rd experiment : add a hidden layer, more epochs, and review the learning rate, as an improvement to the model\n",
    "\n",
    "# Set a random seed (in order to have some reproducibility)\n",
    "tf.random.set_seed(42)\n",
    "\n",
    "# 1. Create a model using the Sequential API\n",
    "model = tf.keras.Sequential([\n",
    "    \n",
    "    # Adding more hidden layers, more neurons, and activation function \n",
    "    tf.keras.layers.Dense(100, activation=\"relu\"),\n",
    "    \n",
    "    tf.keras.layers.Dense(1)\n",
    "])\n",
    "\n",
    "# 2. Compile the model\n",
    "model.compile(loss=tf.keras.losses.mae, # MAE : Mean Absolute Error\n",
    "              optimizer=tf.keras.optimizers.Adam(lr=0.01),\n",
    "              metrics=[\"mae\"]\n",
    "             )\n",
    "\n",
    "# 3. Fit the model \n",
    "model.fit(tf.expand_dims(X, axis=-1),y, epochs=100) # Increasing the number of epochs\n"
   ]
  },
  {
   "cell_type": "markdown",
   "id": "94b6ecb8",
   "metadata": {},
   "source": [
    "The loss is 0.1750; this model should perform really well."
   ]
  },
  {
   "cell_type": "code",
   "execution_count": 22,
   "id": "57f0d41b",
   "metadata": {},
   "outputs": [
    {
     "data": {
      "text/plain": [
       "(<tf.Tensor: shape=(8,), dtype=float64, numpy=array([-7., -4., -1.,  2.,  5.,  8., 11., 14.])>,\n",
       " <tf.Tensor: shape=(8,), dtype=float64, numpy=array([ 3.,  6.,  9., 12., 15., 18., 21., 24.])>)"
      ]
     },
     "execution_count": 22,
     "metadata": {},
     "output_type": "execute_result"
    }
   ],
   "source": [
    "# Remind ourselves of the data\n",
    "X, y"
   ]
  },
  {
   "cell_type": "code",
   "execution_count": 23,
   "id": "c898e1c6",
   "metadata": {},
   "outputs": [
    {
     "name": "stdout",
     "output_type": "stream",
     "text": [
      "1/1 [==============================] - 0s 164ms/step\n"
     ]
    },
    {
     "data": {
      "text/plain": [
       "array([[28.107271]], dtype=float32)"
      ]
     },
     "execution_count": 23,
     "metadata": {},
     "output_type": "execute_result"
    }
   ],
   "source": [
    "# Check if the model's prediction has improved...\n",
    "model.predict([17.])"
   ]
  },
  {
   "cell_type": "markdown",
   "id": "a39358dc",
   "metadata": {},
   "source": [
    "The model has predicted 26.918, while the real value is 27. We can conclude that the prediction is pretty well.  \n",
    "**Observation** : adjusting the learning rate of our model has result in the best improvement so far."
   ]
  },
  {
   "cell_type": "code",
   "execution_count": null,
   "id": "b2408c94",
   "metadata": {},
   "outputs": [],
   "source": []
  },
  {
   "cell_type": "markdown",
   "id": "93827ad7",
   "metadata": {},
   "source": [
    "**Model improvement rules** - When improving a model :\n",
    "* **make many small changes** (experiments) and **test each one**, rather than always doing extremely large changes, because otherwise, if one does too big of a change, he might not be sure what caused the improvement or know improvement of the model.\n",
    "* **the learning rate is potentially the most important hyper-parameter that can be changed** on a neural networks in order to improve it"
   ]
  },
  {
   "cell_type": "code",
   "execution_count": null,
   "id": "fe87eb6f",
   "metadata": {},
   "outputs": [],
   "source": []
  },
  {
   "cell_type": "code",
   "execution_count": null,
   "id": "e2c5c066",
   "metadata": {},
   "outputs": [],
   "source": []
  },
  {
   "cell_type": "markdown",
   "id": "a2f52266",
   "metadata": {},
   "source": [
    "## Evaluating a model\n",
    "\n",
    "\n",
    "In practice, a typical workflow one goes through when buidling neural networks is :    \n",
    "``` Build a model -> fit it -> evaluate it -> tweak a model -> fit it evaluate it -> tweak a model -> fit it -> evaluate it -> ... ```\n",
    "\n"
   ]
  },
  {
   "cell_type": "markdown",
   "id": "5be2462e",
   "metadata": {},
   "source": [
    "When it comes to evaluation, there is one words one should memorize, and remember : **visualize**.\n",
    "\n",
    "It's a good idea to visualize : \n",
    "* `The data` - what data are we working with ? What does it look like ?\n",
    "* `The model` itself - what does our model look like ?\n",
    "* `The training` of the model - how does the model perform while it learns ?\n",
    "* `The predictions` of the model - how do the predictions of the model line up agains the real values ?\n",
    "\n",
    "\n",
    "Let us dig into these steps here a bit further by working on a little bit of a larger problem."
   ]
  },
  {
   "cell_type": "code",
   "execution_count": 24,
   "id": "2e38f664",
   "metadata": {},
   "outputs": [
    {
     "data": {
      "text/plain": [
       "<tf.Tensor: shape=(50,), dtype=int32, numpy=\n",
       "array([-100,  -96,  -92,  -88,  -84,  -80,  -76,  -72,  -68,  -64,  -60,\n",
       "        -56,  -52,  -48,  -44,  -40,  -36,  -32,  -28,  -24,  -20,  -16,\n",
       "        -12,   -8,   -4,    0,    4,    8,   12,   16,   20,   24,   28,\n",
       "         32,   36,   40,   44,   48,   52,   56,   60,   64,   68,   72,\n",
       "         76,   80,   84,   88,   92,   96])>"
      ]
     },
     "execution_count": 24,
     "metadata": {},
     "output_type": "execute_result"
    }
   ],
   "source": [
    "# Make a bigger dataset\n",
    "X = tf.range(-100, 100, 4)\n",
    "X"
   ]
  },
  {
   "cell_type": "code",
   "execution_count": 25,
   "id": "fe6189cb",
   "metadata": {},
   "outputs": [
    {
     "data": {
      "text/plain": [
       "<tf.Tensor: shape=(50,), dtype=int32, numpy=\n",
       "array([-90, -86, -82, -78, -74, -70, -66, -62, -58, -54, -50, -46, -42,\n",
       "       -38, -34, -30, -26, -22, -18, -14, -10,  -6,  -2,   2,   6,  10,\n",
       "        14,  18,  22,  26,  30,  34,  38,  42,  46,  50,  54,  58,  62,\n",
       "        66,  70,  74,  78,  82,  86,  90,  94,  98, 102, 106])>"
      ]
     },
     "execution_count": 25,
     "metadata": {},
     "output_type": "execute_result"
    }
   ],
   "source": [
    "# Make labels for the dataset\n",
    "\n",
    "y = X + 10   # y = X + 10 is the formula(pattern) we want the model to learn\n",
    "y"
   ]
  },
  {
   "cell_type": "code",
   "execution_count": 26,
   "id": "49a40371",
   "metadata": {},
   "outputs": [
    {
     "data": {
      "text/plain": [
       "<matplotlib.collections.PathCollection at 0x1888b850f40>"
      ]
     },
     "execution_count": 26,
     "metadata": {},
     "output_type": "execute_result"
    },
    {
     "data": {
      "image/png": "[encoded data removed]",
      "text/plain": [
       "<Figure size 432x288 with 1 Axes>"
      ]
     },
     "metadata": {
      "needs_background": "light"
     },
     "output_type": "display_data"
    }
   ],
   "source": [
    "# Visualize the data\n",
    "\n",
    "plt.scatter(X, y)"
   ]
  },
  {
   "cell_type": "code",
   "execution_count": null,
   "id": "56654807",
   "metadata": {},
   "outputs": [],
   "source": []
  },
  {
   "cell_type": "markdown",
   "id": "0dc0cfa7",
   "metadata": {},
   "source": [
    "### The 03 set of data\n",
    "\n",
    "* **Training set** - the model learns from this data, which is typically 70-80% of the total data available.\n",
    "* **Validation set** - the model gets tuned on this data (it is the above mentionned *tweak the model*), which is typically 10-15% of the total data available.\n",
    "* **Test set** - the model gets evaluated on this data to test what is has learned (to check how it performs on data is hasn't see before); this set is typically 10-15% of the available data."
   ]
  },
  {
   "cell_type": "code",
   "execution_count": 27,
   "id": "e1f8ed25",
   "metadata": {},
   "outputs": [
    {
     "data": {
      "text/plain": [
       "50"
      ]
     },
     "execution_count": 27,
     "metadata": {},
     "output_type": "execute_result"
    }
   ],
   "source": [
    "# Check how many samples we have\n",
    "nb_data = len(X)\n",
    "nb_data"
   ]
  },
  {
   "cell_type": "code",
   "execution_count": 28,
   "id": "9dc7d4f2",
   "metadata": {},
   "outputs": [
    {
     "data": {
      "text/plain": [
       "(40, 10, 40, 10)"
      ]
     },
     "execution_count": 28,
     "metadata": {},
     "output_type": "execute_result"
    }
   ],
   "source": [
    "# Split the data into train and test sets\n",
    "\n",
    "X_train = X[: int(nb_data*.8)] # 80% of the data\n",
    "y_train = y[: int(nb_data*.8)] # 80% of the data\n",
    "\n",
    "X_test = X[int(nb_data*.8):] # 20% of the data\n",
    "y_test = y[int(nb_data*.8):] # 20% of the data\n",
    "\n",
    "\n",
    "len(X_train), len(X_test), len(y_train), len(y_test)"
   ]
  },
  {
   "cell_type": "markdown",
   "id": "e9603622",
   "metadata": {},
   "source": [
    "### Visualizing the data\n",
    "\n",
    "Now that data was divided in training and testing sets, let's visualize it again."
   ]
  },
  {
   "cell_type": "code",
   "execution_count": 29,
   "id": "a805227d",
   "metadata": {},
   "outputs": [
    {
     "data": {
      "image/png": "[encoded data removed]",
      "text/plain": [
       "<Figure size 720x504 with 1 Axes>"
      ]
     },
     "metadata": {
      "needs_background": "light"
     },
     "output_type": "display_data"
    }
   ],
   "source": [
    "plt.figure( figsize=(10,7) )\n",
    "\n",
    "# Plot training data in blue\n",
    "plt.scatter(X_train, y_train, c=\"b\", label=\"Training data\")\n",
    "\n",
    "# Plot test data in green\n",
    "plt.scatter(X_test, y_test, c=\"g\", label=\"Test data\")\n",
    "\n",
    "#Show a legend\n",
    "plt.legend();"
   ]
  },
  {
   "cell_type": "code",
   "execution_count": null,
   "id": "82c45ed8",
   "metadata": {},
   "outputs": [],
   "source": []
  },
  {
   "cell_type": "markdown",
   "id": "6e2f8628",
   "metadata": {},
   "source": [
    "### Building a neural network"
   ]
  },
  {
   "cell_type": "code",
   "execution_count": 30,
   "id": "8a1f31b0",
   "metadata": {},
   "outputs": [],
   "source": [
    "# 1. Create a model\n",
    "model = tf.keras.Sequential([\n",
    "    tf.keras.layers.Dense(1)\n",
    "])\n",
    "\n",
    "# 2. Compile the model\n",
    "model.compile(loss=tf.keras.losses.mae,\n",
    "             optimizer= tf.keras.optimizers.SGD(),\n",
    "             metrics=[\"mae\"])\n",
    "\n"
   ]
  },
  {
   "cell_type": "markdown",
   "id": "c43d95e1",
   "metadata": {},
   "source": [
    "#### Visualizing the model"
   ]
  },
  {
   "cell_type": "code",
   "execution_count": null,
   "id": "86569e88",
   "metadata": {},
   "outputs": [],
   "source": []
  },
  {
   "cell_type": "code",
   "execution_count": 31,
   "id": "fe7036b7",
   "metadata": {},
   "outputs": [],
   "source": [
    "# TODO: uncomment the code in this cell to let it generate its error\n",
    "\n",
    "# # Get an idea of what the model looks like before running it\n",
    "# model.summary()"
   ]
  },
  {
   "cell_type": "code",
   "execution_count": 32,
   "id": "afbc8917",
   "metadata": {},
   "outputs": [
    {
     "data": {
      "text/plain": [
       "<tf.Tensor: shape=(50,), dtype=int32, numpy=\n",
       "array([-100,  -96,  -92,  -88,  -84,  -80,  -76,  -72,  -68,  -64,  -60,\n",
       "        -56,  -52,  -48,  -44,  -40,  -36,  -32,  -28,  -24,  -20,  -16,\n",
       "        -12,   -8,   -4,    0,    4,    8,   12,   16,   20,   24,   28,\n",
       "         32,   36,   40,   44,   48,   52,   56,   60,   64,   68,   72,\n",
       "         76,   80,   84,   88,   92,   96])>"
      ]
     },
     "execution_count": 32,
     "metadata": {},
     "output_type": "execute_result"
    }
   ],
   "source": [
    "X"
   ]
  },
  {
   "cell_type": "code",
   "execution_count": 33,
   "id": "c7634b89",
   "metadata": {},
   "outputs": [
    {
     "data": {
      "text/plain": [
       "1"
      ]
     },
     "execution_count": 33,
     "metadata": {},
     "output_type": "execute_result"
    }
   ],
   "source": [
    "X.ndim"
   ]
  },
  {
   "cell_type": "code",
   "execution_count": 34,
   "id": "987713a6",
   "metadata": {},
   "outputs": [
    {
     "data": {
      "text/plain": [
       "(<tf.Tensor: shape=(), dtype=int32, numpy=-100>,\n",
       " <tf.Tensor: shape=(), dtype=int32, numpy=-90>)"
      ]
     },
     "execution_count": 34,
     "metadata": {},
     "output_type": "execute_result"
    }
   ],
   "source": [
    "X[0],y[0]"
   ]
  },
  {
   "cell_type": "markdown",
   "id": "f296c106",
   "metadata": {},
   "source": [
    "* The explanation of the Prof : X[0] contains a scalar, so the input_shape of our model is 1; in case X[0] contain for example 3 different numbers, then input_shape would be 3.    \n",
    "* My own deduction : Another way to analyze it is based on the number of dimensions of X : X.ndim return 1, which means X is represented on one dimension, so the input shape is 1."
   ]
  },
  {
   "cell_type": "code",
   "execution_count": 35,
   "id": "b1a53531",
   "metadata": {},
   "outputs": [],
   "source": [
    "# Let's create a model which builds automatically by \n",
    "#    defining the input_shape argument in the first layer (that is what is usually done in practice)\n",
    "\n",
    "tf.random.set_seed(42)\n",
    "\n",
    "# 1. Create a model (same as above)\n",
    "model = tf.keras.Sequential([\n",
    "    tf.keras.layers.Dense(1, input_shape= [X.ndim] ) # tf.keras.layers.Dense(1, input_shape= [1] )\n",
    "                                                     #     refer to the previous cell to get \n",
    "                                                     #      explanations on why input_shape= [1]   \n",
    "]) \n",
    "\n",
    "# 2. COmpile the model \n",
    "model.compile(loss=tf.keras.losses.mae,\n",
    "             optimizer = tf.keras.optimizers.SGD(),\n",
    "             metrics=[\"mae\"])\n",
    "\n",
    "\n"
   ]
  },
  {
   "cell_type": "code",
   "execution_count": 36,
   "id": "a6e064a1",
   "metadata": {},
   "outputs": [
    {
     "name": "stdout",
     "output_type": "stream",
     "text": [
      "Model: \"sequential_5\"\n",
      "_________________________________________________________________\n",
      " Layer (type)                Output Shape              Param #   \n",
      "=================================================================\n",
      " dense_10 (Dense)            (None, 1)                 2         \n",
      "                                                                 \n",
      "=================================================================\n",
      "Total params: 2\n",
      "Trainable params: 2\n",
      "Non-trainable params: 0\n",
      "_________________________________________________________________\n"
     ]
    }
   ],
   "source": [
    "model.summary()"
   ]
  },
  {
   "cell_type": "markdown",
   "id": "b7c23bc7",
   "metadata": {},
   "source": [
    ".summary() on a model show the layers it contains, the output shape, and the number of parameters of each layer.   \n",
    "   \n",
    "* The **Ouput Shape** here (None, 1) : the representation here is something I personnally need to do more research on\n",
    "* The **Layer Type** `Dense` : it is another word for `fully connected`. A fully connected layer means each neuron in the said layer connects to all neurons in the next layer.\n",
    "* There are 2 **Params** :  \n",
    " - **Total params** : total number of parameters in the model; these are the patterns that the model is going to learn\n",
    " - **Trainable parameters** : these are the parameters (patterns) the model can update as it trains\n",
    " - **Non-trainable params** : these are the patterns the model cannot update as it trains; when we import a model that has already learned patterns in data (**transfer learning**), we might freeze those learned patterns so that the model retains what it already knows"
   ]
  },
  {
   "cell_type": "markdown",
   "id": "dd0bebde",
   "metadata": {},
   "source": [
    "📖 **Resource**: For a more in-depth overview of the trainable parameters within a layer, check out MIT's introduction to deep learning video at http://introtodeeplearning.com/ "
   ]
  },
  {
   "cell_type": "markdown",
   "id": "4a3aa920",
   "metadata": {},
   "source": [
    "🛠️**Exercise**: Try playing around with the number of hdden units in the dense layer, see how that effects the number of parameters (total and trainable) by calling `model.summary()`"
   ]
  },
  {
   "cell_type": "code",
   "execution_count": 37,
   "id": "f9bb768b",
   "metadata": {},
   "outputs": [
    {
     "name": "stdout",
     "output_type": "stream",
     "text": [
      "Model: \"sequential_6\"\n",
      "_________________________________________________________________\n",
      " Layer (type)                Output Shape              Param #   \n",
      "=================================================================\n",
      " dense_11 (Dense)            (None, 3)                 6         \n",
      "                                                                 \n",
      "=================================================================\n",
      "Total params: 6\n",
      "Trainable params: 6\n",
      "Non-trainable params: 0\n",
      "_________________________________________________________________\n"
     ]
    }
   ],
   "source": [
    "tf.random.set_seed(42)\n",
    "\n",
    "# 1. Create a model (same as above)\n",
    "model = tf.keras.Sequential([\n",
    "    tf.keras.layers.Dense(3, input_shape= [1] )  \n",
    "]) \n",
    "\n",
    "# 2. COmpile the model \n",
    "model.compile(loss=tf.keras.losses.mae,\n",
    "             optimizer = tf.keras.optimizers.SGD(),\n",
    "             metrics=[\"mae\"])\n",
    "\n",
    "\n",
    "model.summary()"
   ]
  },
  {
   "cell_type": "code",
   "execution_count": null,
   "id": "257f63ee",
   "metadata": {},
   "outputs": [],
   "source": []
  },
  {
   "cell_type": "code",
   "execution_count": null,
   "id": "5f285645",
   "metadata": {},
   "outputs": [],
   "source": []
  },
  {
   "cell_type": "code",
   "execution_count": 38,
   "id": "7dec1a2f",
   "metadata": {},
   "outputs": [
    {
     "name": "stdout",
     "output_type": "stream",
     "text": [
      "Model: \"sequential_7\"\n",
      "_________________________________________________________________\n",
      " Layer (type)                Output Shape              Param #   \n",
      "=================================================================\n",
      " dense_12 (Dense)            (None, 1)                 2         \n",
      "                                                                 \n",
      "=================================================================\n",
      "Total params: 2\n",
      "Trainable params: 2\n",
      "Non-trainable params: 0\n",
      "_________________________________________________________________\n"
     ]
    }
   ],
   "source": [
    "# Let us change the number of neuro from 3 to 1\n",
    "\n",
    "tf.random.set_seed(42)\n",
    "\n",
    "# 1. Create a model (same as above)\n",
    "model = tf.keras.Sequential([\n",
    "    tf.keras.layers.Dense(1, input_shape= [1] )  \n",
    "]) \n",
    "\n",
    "# 2. COmpile the model \n",
    "model.compile(loss=tf.keras.losses.mae,\n",
    "             optimizer = tf.keras.optimizers.SGD(),\n",
    "             metrics=[\"mae\"])\n",
    "\n",
    "\n",
    "model.summary()"
   ]
  },
  {
   "cell_type": "code",
   "execution_count": 39,
   "id": "5d2f8b23",
   "metadata": {},
   "outputs": [
    {
     "name": "stdout",
     "output_type": "stream",
     "text": [
      "Epoch 1/100\n",
      "2/2 [==============================] - 1s 5ms/step - loss: 17.9717 - mae: 17.9717\n",
      "Epoch 2/100\n",
      "2/2 [==============================] - 0s 5ms/step - loss: 13.1164 - mae: 13.1164\n",
      "Epoch 3/100\n",
      "2/2 [==============================] - 0s 5ms/step - loss: 11.7741 - mae: 11.7741\n",
      "Epoch 4/100\n",
      "2/2 [==============================] - 0s 4ms/step - loss: 9.2883 - mae: 9.2883\n",
      "Epoch 5/100\n",
      "2/2 [==============================] - 0s 4ms/step - loss: 10.1550 - mae: 10.1550\n",
      "Epoch 6/100\n",
      "2/2 [==============================] - 0s 5ms/step - loss: 9.4194 - mae: 9.4194\n",
      "Epoch 7/100\n",
      "2/2 [==============================] - 0s 4ms/step - loss: 8.5614 - mae: 8.5614\n",
      "Epoch 8/100\n",
      "2/2 [==============================] - 0s 5ms/step - loss: 9.0447 - mae: 9.0447\n",
      "Epoch 9/100\n",
      "2/2 [==============================] - 0s 4ms/step - loss: 18.7267 - mae: 18.7267\n",
      "Epoch 10/100\n",
      "2/2 [==============================] - 0s 4ms/step - loss: 10.1013 - mae: 10.1013\n",
      "Epoch 11/100\n",
      "2/2 [==============================] - 0s 4ms/step - loss: 8.3938 - mae: 8.3938\n",
      "Epoch 12/100\n",
      "2/2 [==============================] - 0s 5ms/step - loss: 10.6538 - mae: 10.6538\n",
      "Epoch 13/100\n",
      "2/2 [==============================] - 0s 4ms/step - loss: 9.7945 - mae: 9.7945\n",
      "Epoch 14/100\n",
      "2/2 [==============================] - 0s 5ms/step - loss: 15.9835 - mae: 15.9835\n",
      "Epoch 15/100\n",
      "2/2 [==============================] - 0s 4ms/step - loss: 11.4296 - mae: 11.4296\n",
      "Epoch 16/100\n",
      "2/2 [==============================] - 0s 5ms/step - loss: 8.5342 - mae: 8.5342\n",
      "Epoch 17/100\n",
      "2/2 [==============================] - 0s 4ms/step - loss: 13.6213 - mae: 13.6213\n",
      "Epoch 18/100\n",
      "2/2 [==============================] - 0s 5ms/step - loss: 11.4458 - mae: 11.4458\n",
      "Epoch 19/100\n",
      "2/2 [==============================] - 0s 4ms/step - loss: 17.9382 - mae: 17.9382\n",
      "Epoch 20/100\n",
      "2/2 [==============================] - 0s 5ms/step - loss: 15.0726 - mae: 15.0726\n",
      "Epoch 21/100\n",
      "2/2 [==============================] - 0s 5ms/step - loss: 11.0413 - mae: 11.0413\n",
      "Epoch 22/100\n",
      "2/2 [==============================] - 0s 5ms/step - loss: 8.1740 - mae: 8.1740\n",
      "Epoch 23/100\n",
      "2/2 [==============================] - 0s 4ms/step - loss: 9.5028 - mae: 9.5028\n",
      "Epoch 24/100\n",
      "2/2 [==============================] - 0s 4ms/step - loss: 7.6671 - mae: 7.6671\n",
      "Epoch 25/100\n",
      "2/2 [==============================] - 0s 3ms/step - loss: 13.1579 - mae: 13.1579\n",
      "Epoch 26/100\n",
      "2/2 [==============================] - 0s 4ms/step - loss: 16.4439 - mae: 16.4439\n",
      "Epoch 27/100\n",
      "2/2 [==============================] - 0s 5ms/step - loss: 13.1852 - mae: 13.1852\n",
      "Epoch 28/100\n",
      "2/2 [==============================] - 0s 5ms/step - loss: 14.2803 - mae: 14.2803\n",
      "Epoch 29/100\n",
      "2/2 [==============================] - 0s 5ms/step - loss: 10.0749 - mae: 10.0749\n",
      "Epoch 30/100\n",
      "2/2 [==============================] - 0s 4ms/step - loss: 16.3763 - mae: 16.3763\n",
      "Epoch 31/100\n",
      "2/2 [==============================] - 0s 4ms/step - loss: 23.6133 - mae: 23.6133\n",
      "Epoch 32/100\n",
      "2/2 [==============================] - 0s 5ms/step - loss: 7.6181 - mae: 7.6181\n",
      "Epoch 33/100\n",
      "2/2 [==============================] - 0s 4ms/step - loss: 9.3170 - mae: 9.3170\n",
      "Epoch 34/100\n",
      "2/2 [==============================] - 0s 6ms/step - loss: 13.7094 - mae: 13.7094\n",
      "Epoch 35/100\n",
      "2/2 [==============================] - 0s 5ms/step - loss: 11.1428 - mae: 11.1428\n",
      "Epoch 36/100\n",
      "2/2 [==============================] - 0s 6ms/step - loss: 13.3502 - mae: 13.3502\n",
      "Epoch 37/100\n",
      "2/2 [==============================] - 0s 4ms/step - loss: 9.4675 - mae: 9.4675\n",
      "Epoch 38/100\n",
      "2/2 [==============================] - 0s 5ms/step - loss: 10.1249 - mae: 10.1249\n",
      "Epoch 39/100\n",
      "2/2 [==============================] - 0s 4ms/step - loss: 10.1946 - mae: 10.1946\n",
      "Epoch 40/100\n",
      "2/2 [==============================] - 0s 5ms/step - loss: 10.9337 - mae: 10.9337\n",
      "Epoch 41/100\n",
      "2/2 [==============================] - 0s 5ms/step - loss: 7.9227 - mae: 7.9227\n",
      "Epoch 42/100\n",
      "2/2 [==============================] - 0s 4ms/step - loss: 10.0804 - mae: 10.0804\n",
      "Epoch 43/100\n",
      "2/2 [==============================] - 0s 5ms/step - loss: 8.6971 - mae: 8.6971\n",
      "Epoch 44/100\n",
      "2/2 [==============================] - 0s 4ms/step - loss: 12.1826 - mae: 12.1826\n",
      "Epoch 45/100\n",
      "2/2 [==============================] - 0s 5ms/step - loss: 13.8212 - mae: 13.8212\n",
      "Epoch 46/100\n",
      "2/2 [==============================] - 0s 4ms/step - loss: 8.4859 - mae: 8.4859\n",
      "Epoch 47/100\n",
      "2/2 [==============================] - 0s 5ms/step - loss: 9.1239 - mae: 9.1239\n",
      "Epoch 48/100\n",
      "2/2 [==============================] - 0s 5ms/step - loss: 10.6046 - mae: 10.6046\n",
      "Epoch 49/100\n",
      "2/2 [==============================] - 0s 5ms/step - loss: 7.7424 - mae: 7.7424\n",
      "Epoch 50/100\n",
      "2/2 [==============================] - 0s 4ms/step - loss: 9.5277 - mae: 9.5277\n",
      "Epoch 51/100\n",
      "2/2 [==============================] - 0s 5ms/step - loss: 9.1567 - mae: 9.1567\n",
      "Epoch 52/100\n",
      "2/2 [==============================] - 0s 5ms/step - loss: 16.3319 - mae: 16.3319\n",
      "Epoch 53/100\n",
      "2/2 [==============================] - 0s 5ms/step - loss: 14.1449 - mae: 14.1449\n",
      "Epoch 54/100\n",
      "2/2 [==============================] - 0s 5ms/step - loss: 21.1607 - mae: 21.1607\n",
      "Epoch 55/100\n",
      "2/2 [==============================] - 0s 5ms/step - loss: 16.3683 - mae: 16.3683\n",
      "Epoch 56/100\n",
      "2/2 [==============================] - 0s 4ms/step - loss: 10.0042 - mae: 10.0042\n",
      "Epoch 57/100\n",
      "2/2 [==============================] - 0s 5ms/step - loss: 9.9490 - mae: 9.9490\n",
      "Epoch 58/100\n",
      "2/2 [==============================] - 0s 5ms/step - loss: 9.2111 - mae: 9.2111\n",
      "Epoch 59/100\n",
      "2/2 [==============================] - 0s 6ms/step - loss: 8.4140 - mae: 8.4140\n",
      "Epoch 60/100\n",
      "2/2 [==============================] - 0s 5ms/step - loss: 9.4797 - mae: 9.4797\n",
      "Epoch 61/100\n",
      "2/2 [==============================] - 0s 5ms/step - loss: 11.4183 - mae: 11.4183\n",
      "Epoch 62/100\n",
      "2/2 [==============================] - 0s 6ms/step - loss: 11.7121 - mae: 11.7121\n",
      "Epoch 63/100\n",
      "2/2 [==============================] - 0s 6ms/step - loss: 7.0788 - mae: 7.0788\n",
      "Epoch 64/100\n",
      "2/2 [==============================] - 0s 4ms/step - loss: 16.9919 - mae: 16.9919\n",
      "Epoch 65/100\n",
      "2/2 [==============================] - 0s 4ms/step - loss: 12.4784 - mae: 12.4784\n",
      "Epoch 66/100\n",
      "2/2 [==============================] - 0s 4ms/step - loss: 13.0422 - mae: 13.0422\n",
      "Epoch 67/100\n",
      "2/2 [==============================] - 0s 5ms/step - loss: 8.0701 - mae: 8.0701\n",
      "Epoch 68/100\n",
      "2/2 [==============================] - 0s 5ms/step - loss: 10.2042 - mae: 10.2042\n",
      "Epoch 69/100\n",
      "2/2 [==============================] - 0s 6ms/step - loss: 12.3887 - mae: 12.3887\n",
      "Epoch 70/100\n",
      "2/2 [==============================] - 0s 5ms/step - loss: 9.0422 - mae: 9.0422\n",
      "Epoch 71/100\n",
      "2/2 [==============================] - 0s 5ms/step - loss: 10.0270 - mae: 10.0270\n",
      "Epoch 72/100\n",
      "2/2 [==============================] - 0s 4ms/step - loss: 10.0438 - mae: 10.0438\n",
      "Epoch 73/100\n",
      "2/2 [==============================] - 0s 5ms/step - loss: 12.5956 - mae: 12.5956\n",
      "Epoch 74/100\n",
      "2/2 [==============================] - 0s 4ms/step - loss: 10.4069 - mae: 10.4069\n",
      "Epoch 75/100\n",
      "2/2 [==============================] - 0s 4ms/step - loss: 9.7136 - mae: 9.7136\n",
      "Epoch 76/100\n",
      "2/2 [==============================] - 0s 4ms/step - loss: 11.2116 - mae: 11.2116\n",
      "Epoch 77/100\n",
      "2/2 [==============================] - 0s 5ms/step - loss: 8.3557 - mae: 8.3557\n",
      "Epoch 78/100\n",
      "2/2 [==============================] - 0s 5ms/step - loss: 9.1103 - mae: 9.1103\n",
      "Epoch 79/100\n",
      "2/2 [==============================] - 0s 9ms/step - loss: 19.5382 - mae: 19.5382\n",
      "Epoch 80/100\n",
      "2/2 [==============================] - 0s 4ms/step - loss: 14.8690 - mae: 14.8690\n",
      "Epoch 81/100\n",
      "2/2 [==============================] - 0s 5ms/step - loss: 9.0316 - mae: 9.0316\n",
      "Epoch 82/100\n",
      "2/2 [==============================] - 0s 4ms/step - loss: 12.9998 - mae: 12.9998\n",
      "Epoch 83/100\n",
      "2/2 [==============================] - 0s 5ms/step - loss: 7.9170 - mae: 7.9170\n",
      "Epoch 84/100\n",
      "2/2 [==============================] - 0s 5ms/step - loss: 7.6960 - mae: 7.6960\n",
      "Epoch 85/100\n",
      "2/2 [==============================] - 0s 6ms/step - loss: 10.0505 - mae: 10.0505\n",
      "Epoch 86/100\n",
      "2/2 [==============================] - 0s 5ms/step - loss: 9.2555 - mae: 9.2555\n",
      "Epoch 87/100\n",
      "2/2 [==============================] - 0s 5ms/step - loss: 12.0411 - mae: 12.0411\n",
      "Epoch 88/100\n"
     ]
    },
    {
     "name": "stdout",
     "output_type": "stream",
     "text": [
      "2/2 [==============================] - 0s 5ms/step - loss: 10.6602 - mae: 10.6602\n",
      "Epoch 89/100\n",
      "2/2 [==============================] - 0s 5ms/step - loss: 7.2702 - mae: 7.2702\n",
      "Epoch 90/100\n",
      "2/2 [==============================] - 0s 5ms/step - loss: 12.8023 - mae: 12.8023\n",
      "Epoch 91/100\n",
      "2/2 [==============================] - 0s 5ms/step - loss: 7.4806 - mae: 7.4806\n",
      "Epoch 92/100\n",
      "2/2 [==============================] - 0s 5ms/step - loss: 6.7549 - mae: 6.7549\n",
      "Epoch 93/100\n",
      "2/2 [==============================] - 0s 4ms/step - loss: 11.9523 - mae: 11.9523\n",
      "Epoch 94/100\n",
      "2/2 [==============================] - 0s 5ms/step - loss: 8.8840 - mae: 8.8840\n",
      "Epoch 95/100\n",
      "2/2 [==============================] - 0s 4ms/step - loss: 7.7232 - mae: 7.7232\n",
      "Epoch 96/100\n",
      "2/2 [==============================] - 0s 4ms/step - loss: 6.7529 - mae: 6.7529\n",
      "Epoch 97/100\n",
      "2/2 [==============================] - 0s 5ms/step - loss: 8.6356 - mae: 8.6356\n",
      "Epoch 98/100\n",
      "2/2 [==============================] - 0s 5ms/step - loss: 9.3948 - mae: 9.3948\n",
      "Epoch 99/100\n",
      "2/2 [==============================] - 0s 5ms/step - loss: 9.1306 - mae: 9.1306\n",
      "Epoch 100/100\n",
      "2/2 [==============================] - 0s 4ms/step - loss: 10.4872 - mae: 10.4872\n"
     ]
    },
    {
     "data": {
      "text/plain": [
       "<keras.callbacks.History at 0x1888b941550>"
      ]
     },
     "execution_count": 39,
     "metadata": {},
     "output_type": "execute_result"
    }
   ],
   "source": [
    "# 3. Fit the model to the training data for 100 epochs\n",
    "model.fit(X_train, y_train, epochs=100, verbose=1)"
   ]
  },
  {
   "cell_type": "code",
   "execution_count": 40,
   "id": "2f299920",
   "metadata": {},
   "outputs": [
    {
     "name": "stdout",
     "output_type": "stream",
     "text": [
      "Epoch 1/100\n",
      "2/2 [==============================] - 0s 4ms/step - loss: 7.9163 - mae: 7.9163\n",
      "Epoch 2/100\n",
      "2/2 [==============================] - 0s 4ms/step - loss: 8.2318 - mae: 8.2318\n",
      "Epoch 3/100\n",
      "2/2 [==============================] - 0s 5ms/step - loss: 7.0104 - mae: 7.0104\n",
      "Epoch 4/100\n",
      "2/2 [==============================] - 0s 5ms/step - loss: 7.0793 - mae: 7.0793\n",
      "Epoch 5/100\n",
      "2/2 [==============================] - 0s 5ms/step - loss: 9.9154 - mae: 9.9154\n",
      "Epoch 6/100\n",
      "2/2 [==============================] - 0s 6ms/step - loss: 9.0672 - mae: 9.0672\n",
      "Epoch 7/100\n",
      "2/2 [==============================] - 0s 4ms/step - loss: 8.1395 - mae: 8.1395\n",
      "Epoch 8/100\n",
      "2/2 [==============================] - 0s 5ms/step - loss: 8.1231 - mae: 8.1231\n",
      "Epoch 9/100\n",
      "2/2 [==============================] - 0s 4ms/step - loss: 19.4662 - mae: 19.4662\n",
      "Epoch 10/100\n",
      "2/2 [==============================] - 0s 5ms/step - loss: 9.5646 - mae: 9.5646\n",
      "Epoch 11/100\n",
      "2/2 [==============================] - 0s 4ms/step - loss: 7.6236 - mae: 7.6236\n",
      "Epoch 12/100\n",
      "2/2 [==============================] - 0s 5ms/step - loss: 10.0710 - mae: 10.0710\n",
      "Epoch 13/100\n",
      "2/2 [==============================] - 0s 4ms/step - loss: 6.6087 - mae: 6.6087\n",
      "Epoch 14/100\n",
      "2/2 [==============================] - 0s 4ms/step - loss: 15.2965 - mae: 15.2965\n",
      "Epoch 15/100\n",
      "2/2 [==============================] - 0s 5ms/step - loss: 11.9190 - mae: 11.9190\n",
      "Epoch 16/100\n",
      "2/2 [==============================] - 0s 4ms/step - loss: 7.6414 - mae: 7.6414\n",
      "Epoch 17/100\n",
      "2/2 [==============================] - 0s 5ms/step - loss: 12.5802 - mae: 12.5802\n",
      "Epoch 18/100\n",
      "2/2 [==============================] - 0s 5ms/step - loss: 10.0715 - mae: 10.0715\n",
      "Epoch 19/100\n",
      "2/2 [==============================] - 0s 4ms/step - loss: 18.4848 - mae: 18.4848\n",
      "Epoch 20/100\n",
      "2/2 [==============================] - 0s 5ms/step - loss: 15.1851 - mae: 15.1851\n",
      "Epoch 21/100\n",
      "2/2 [==============================] - 0s 5ms/step - loss: 10.6674 - mae: 10.6674\n",
      "Epoch 22/100\n",
      "2/2 [==============================] - 0s 5ms/step - loss: 7.1631 - mae: 7.1631\n",
      "Epoch 23/100\n",
      "2/2 [==============================] - 0s 5ms/step - loss: 8.6414 - mae: 8.6414\n",
      "Epoch 24/100\n",
      "2/2 [==============================] - 0s 5ms/step - loss: 7.1141 - mae: 7.1141\n",
      "Epoch 25/100\n",
      "2/2 [==============================] - 0s 4ms/step - loss: 11.1591 - mae: 11.1591\n",
      "Epoch 26/100\n",
      "2/2 [==============================] - 0s 4ms/step - loss: 8.0192 - mae: 8.0192\n",
      "Epoch 27/100\n",
      "2/2 [==============================] - 0s 5ms/step - loss: 10.4068 - mae: 10.4068\n",
      "Epoch 28/100\n",
      "2/2 [==============================] - 0s 4ms/step - loss: 15.8762 - mae: 15.8762\n",
      "Epoch 29/100\n",
      "2/2 [==============================] - 0s 4ms/step - loss: 10.3097 - mae: 10.3097\n",
      "Epoch 30/100\n",
      "2/2 [==============================] - 0s 5ms/step - loss: 16.3553 - mae: 16.3553\n",
      "Epoch 31/100\n",
      "2/2 [==============================] - 0s 4ms/step - loss: 23.1260 - mae: 23.1260\n",
      "Epoch 32/100\n",
      "2/2 [==============================] - 0s 5ms/step - loss: 6.5763 - mae: 6.5763\n",
      "Epoch 33/100\n",
      "2/2 [==============================] - 0s 4ms/step - loss: 14.8391 - mae: 14.8391\n",
      "Epoch 34/100\n",
      "2/2 [==============================] - 0s 5ms/step - loss: 12.2285 - mae: 12.2285\n",
      "Epoch 35/100\n",
      "2/2 [==============================] - 0s 5ms/step - loss: 7.3403 - mae: 7.3403\n",
      "Epoch 36/100\n",
      "2/2 [==============================] - 0s 4ms/step - loss: 9.5199 - mae: 9.5199\n",
      "Epoch 37/100\n",
      "2/2 [==============================] - 0s 5ms/step - loss: 9.1869 - mae: 9.1869\n",
      "Epoch 38/100\n",
      "2/2 [==============================] - 0s 5ms/step - loss: 10.1027 - mae: 10.1027\n",
      "Epoch 39/100\n",
      "2/2 [==============================] - 0s 4ms/step - loss: 15.0658 - mae: 15.0658\n",
      "Epoch 40/100\n",
      "2/2 [==============================] - 0s 4ms/step - loss: 12.8152 - mae: 12.8152\n",
      "Epoch 41/100\n",
      "2/2 [==============================] - 0s 5ms/step - loss: 8.5899 - mae: 8.5899\n",
      "Epoch 42/100\n",
      "2/2 [==============================] - 0s 5ms/step - loss: 10.3935 - mae: 10.3935\n",
      "Epoch 43/100\n",
      "2/2 [==============================] - 0s 4ms/step - loss: 10.9743 - mae: 10.9743\n",
      "Epoch 44/100\n",
      "2/2 [==============================] - 0s 3ms/step - loss: 15.4800 - mae: 15.4800\n",
      "Epoch 45/100\n",
      "2/2 [==============================] - 0s 5ms/step - loss: 11.2155 - mae: 11.2155\n",
      "Epoch 46/100\n",
      "2/2 [==============================] - 0s 4ms/step - loss: 6.3226 - mae: 6.3226\n",
      "Epoch 47/100\n",
      "2/2 [==============================] - 0s 4ms/step - loss: 8.4967 - mae: 8.4967\n",
      "Epoch 48/100\n",
      "2/2 [==============================] - 0s 5ms/step - loss: 8.0011 - mae: 8.0011\n",
      "Epoch 49/100\n",
      "2/2 [==============================] - 0s 4ms/step - loss: 6.8819 - mae: 6.8819\n",
      "Epoch 50/100\n",
      "2/2 [==============================] - 0s 4ms/step - loss: 8.6602 - mae: 8.6602\n",
      "Epoch 51/100\n",
      "2/2 [==============================] - 0s 36ms/step - loss: 8.6187 - mae: 8.6187\n",
      "Epoch 52/100\n",
      "2/2 [==============================] - 0s 6ms/step - loss: 14.8587 - mae: 14.8587\n",
      "Epoch 53/100\n",
      "2/2 [==============================] - 0s 5ms/step - loss: 14.3567 - mae: 14.3567\n",
      "Epoch 54/100\n",
      "2/2 [==============================] - 0s 4ms/step - loss: 21.9693 - mae: 21.9693\n",
      "Epoch 55/100\n",
      "2/2 [==============================] - 0s 5ms/step - loss: 14.8029 - mae: 14.8029\n",
      "Epoch 56/100\n",
      "2/2 [==============================] - 0s 5ms/step - loss: 10.6939 - mae: 10.6939\n",
      "Epoch 57/100\n",
      "2/2 [==============================] - 0s 4ms/step - loss: 8.5740 - mae: 8.5740\n",
      "Epoch 58/100\n",
      "2/2 [==============================] - 0s 4ms/step - loss: 7.9340 - mae: 7.9340\n",
      "Epoch 59/100\n",
      "2/2 [==============================] - 0s 4ms/step - loss: 9.0575 - mae: 9.0575\n",
      "Epoch 60/100\n",
      "2/2 [==============================] - 0s 5ms/step - loss: 7.6423 - mae: 7.6423\n",
      "Epoch 61/100\n",
      "2/2 [==============================] - 0s 4ms/step - loss: 8.5754 - mae: 8.5754\n",
      "Epoch 62/100\n",
      "2/2 [==============================] - 0s 5ms/step - loss: 6.0586 - mae: 6.0586\n",
      "Epoch 63/100\n",
      "2/2 [==============================] - 0s 4ms/step - loss: 12.0662 - mae: 12.0662\n",
      "Epoch 64/100\n",
      "2/2 [==============================] - 0s 5ms/step - loss: 11.4782 - mae: 11.4782\n",
      "Epoch 65/100\n",
      "2/2 [==============================] - 0s 4ms/step - loss: 8.3321 - mae: 8.3321\n",
      "Epoch 66/100\n",
      "2/2 [==============================] - 0s 5ms/step - loss: 10.3222 - mae: 10.3222\n",
      "Epoch 67/100\n",
      "2/2 [==============================] - 0s 5ms/step - loss: 7.2930 - mae: 7.2930\n",
      "Epoch 68/100\n",
      "2/2 [==============================] - 0s 5ms/step - loss: 7.7609 - mae: 7.7609\n",
      "Epoch 69/100\n",
      "2/2 [==============================] - 0s 5ms/step - loss: 9.1815 - mae: 9.1815\n",
      "Epoch 70/100\n",
      "2/2 [==============================] - 0s 5ms/step - loss: 9.2036 - mae: 9.2036\n",
      "Epoch 71/100\n",
      "2/2 [==============================] - 0s 6ms/step - loss: 10.4503 - mae: 10.4503\n",
      "Epoch 72/100\n",
      "2/2 [==============================] - 0s 5ms/step - loss: 8.6564 - mae: 8.6564\n",
      "Epoch 73/100\n",
      "2/2 [==============================] - 0s 5ms/step - loss: 10.7564 - mae: 10.7564\n",
      "Epoch 74/100\n",
      "2/2 [==============================] - 0s 4ms/step - loss: 11.6182 - mae: 11.6182\n",
      "Epoch 75/100\n",
      "2/2 [==============================] - 0s 5ms/step - loss: 6.0601 - mae: 6.0601\n",
      "Epoch 76/100\n",
      "2/2 [==============================] - 0s 6ms/step - loss: 9.5241 - mae: 9.5241\n",
      "Epoch 77/100\n",
      "2/2 [==============================] - 0s 5ms/step - loss: 13.0990 - mae: 13.0990\n",
      "Epoch 78/100\n",
      "2/2 [==============================] - 0s 4ms/step - loss: 11.1382 - mae: 11.1382\n",
      "Epoch 79/100\n",
      "2/2 [==============================] - 0s 6ms/step - loss: 14.5355 - mae: 14.5355\n",
      "Epoch 80/100\n",
      "2/2 [==============================] - 0s 4ms/step - loss: 11.2347 - mae: 11.2347\n",
      "Epoch 81/100\n",
      "2/2 [==============================] - 0s 4ms/step - loss: 9.6483 - mae: 9.6483\n",
      "Epoch 82/100\n",
      "2/2 [==============================] - 0s 5ms/step - loss: 7.7755 - mae: 7.7755\n",
      "Epoch 83/100\n",
      "2/2 [==============================] - 0s 4ms/step - loss: 8.6580 - mae: 8.6580\n",
      "Epoch 84/100\n",
      "2/2 [==============================] - 0s 4ms/step - loss: 8.1302 - mae: 8.1302\n",
      "Epoch 85/100\n",
      "2/2 [==============================] - 0s 6ms/step - loss: 13.3886 - mae: 13.3886\n",
      "Epoch 86/100\n",
      "2/2 [==============================] - 0s 5ms/step - loss: 10.2630 - mae: 10.2630\n",
      "Epoch 87/100\n",
      "2/2 [==============================] - 0s 5ms/step - loss: 13.6645 - mae: 13.6645\n",
      "Epoch 88/100\n"
     ]
    },
    {
     "name": "stdout",
     "output_type": "stream",
     "text": [
      "2/2 [==============================] - 0s 5ms/step - loss: 12.4252 - mae: 12.4252\n",
      "Epoch 89/100\n",
      "2/2 [==============================] - 0s 4ms/step - loss: 7.5856 - mae: 7.5856\n",
      "Epoch 90/100\n",
      "2/2 [==============================] - 0s 5ms/step - loss: 9.0092 - mae: 9.0092\n",
      "Epoch 91/100\n",
      "2/2 [==============================] - 0s 5ms/step - loss: 8.0162 - mae: 8.0162\n",
      "Epoch 92/100\n",
      "2/2 [==============================] - 0s 6ms/step - loss: 12.5767 - mae: 12.5767\n",
      "Epoch 93/100\n",
      "2/2 [==============================] - 0s 5ms/step - loss: 9.2248 - mae: 9.2248\n",
      "Epoch 94/100\n",
      "2/2 [==============================] - 0s 5ms/step - loss: 7.9741 - mae: 7.9741\n",
      "Epoch 95/100\n",
      "2/2 [==============================] - 0s 5ms/step - loss: 11.5777 - mae: 11.5777\n",
      "Epoch 96/100\n",
      "2/2 [==============================] - 0s 4ms/step - loss: 8.4919 - mae: 8.4919\n",
      "Epoch 97/100\n",
      "2/2 [==============================] - 0s 5ms/step - loss: 12.3612 - mae: 12.3612\n",
      "Epoch 98/100\n",
      "2/2 [==============================] - 0s 4ms/step - loss: 7.5728 - mae: 7.5728\n",
      "Epoch 99/100\n",
      "2/2 [==============================] - 0s 4ms/step - loss: 8.3108 - mae: 8.3108\n",
      "Epoch 100/100\n",
      "2/2 [==============================] - 0s 5ms/step - loss: 9.8168 - mae: 9.8168\n"
     ]
    },
    {
     "data": {
      "text/plain": [
       "<keras.callbacks.History at 0x1888b944400>"
      ]
     },
     "execution_count": 40,
     "metadata": {},
     "output_type": "execute_result"
    }
   ],
   "source": [
    "# Fit the model again, for another 100 epochs (so for a total of 200 epochs)\n",
    "model.fit(X_train, y_train, epochs=100, verbose=1)"
   ]
  },
  {
   "cell_type": "markdown",
   "id": "7798ca6b",
   "metadata": {},
   "source": [
    "🔑 Every time model.fit() is called, it's going to fit for the extra epochs provided as parameters : the epochs are cumulative."
   ]
  },
  {
   "cell_type": "code",
   "execution_count": null,
   "id": "378fe5b7",
   "metadata": {},
   "outputs": [],
   "source": []
  },
  {
   "cell_type": "markdown",
   "id": "8cd35a1b",
   "metadata": {},
   "source": [
    "### Visualizing a model's layers"
   ]
  },
  {
   "cell_type": "code",
   "execution_count": 41,
   "id": "64f49ee8",
   "metadata": {},
   "outputs": [
    {
     "name": "stdout",
     "output_type": "stream",
     "text": [
      "Model: \"sequential_8\"\n",
      "_________________________________________________________________\n",
      " Layer (type)                Output Shape              Param #   \n",
      "=================================================================\n",
      " dense_13 (Dense)            (None, 10)                20        \n",
      "                                                                 \n",
      "=================================================================\n",
      "Total params: 20\n",
      "Trainable params: 20\n",
      "Non-trainable params: 0\n",
      "_________________________________________________________________\n"
     ]
    }
   ],
   "source": [
    "# Creating a new model, with 10 units in the hidden layers\n",
    "\n",
    "tf.random.set_seed(42)\n",
    "\n",
    "# 1. Create a model (same as above)\n",
    "model = tf.keras.Sequential([\n",
    "    tf.keras.layers.Dense(10, input_shape= [1] )  \n",
    "]) \n",
    "\n",
    "# 2. Compile the model \n",
    "model.compile(loss=tf.keras.losses.mae,\n",
    "             optimizer = tf.keras.optimizers.SGD(),\n",
    "             metrics=[\"mae\"])\n",
    "\n",
    "\n",
    "model.summary()\n"
   ]
  },
  {
   "cell_type": "code",
   "execution_count": 42,
   "id": "967d66d9",
   "metadata": {},
   "outputs": [
    {
     "data": {
      "text/plain": [
       "<keras.callbacks.History at 0x1888b94cb50>"
      ]
     },
     "execution_count": 42,
     "metadata": {},
     "output_type": "execute_result"
    }
   ],
   "source": [
    "# Fit the model to the training data\n",
    "model.fit(X_train, y_train, epochs=100, verbose=0)"
   ]
  },
  {
   "cell_type": "code",
   "execution_count": 43,
   "id": "8641da1e",
   "metadata": {},
   "outputs": [
    {
     "data": {
      "image/png": "[encoded data removed]",
      "text/plain": [
       "<IPython.core.display.Image object>"
      ]
     },
     "execution_count": 43,
     "metadata": {},
     "output_type": "execute_result"
    }
   ],
   "source": [
    "# Looking at the layers of the model\n",
    "plot_model(model=model)"
   ]
  },
  {
   "cell_type": "code",
   "execution_count": 44,
   "id": "51112f96",
   "metadata": {},
   "outputs": [
    {
     "data": {
      "image/png": "[encoded data removed]",
      "text/plain": [
       "<IPython.core.display.Image object>"
      ]
     },
     "execution_count": 44,
     "metadata": {},
     "output_type": "execute_result"
    }
   ],
   "source": [
    "# Looking at the layers of the model, with it's shape\n",
    "plot_model(model=model, show_shapes=True)"
   ]
  },
  {
   "cell_type": "markdown",
   "id": "8720dbcb",
   "metadata": {},
   "source": [
    "The plot_model() above will be very handy later on when we start creating more complex models with more hidden layers. \n",
    "   \n",
    "Let's observe the plot of a little more complex model"
   ]
  },
  {
   "cell_type": "code",
   "execution_count": 45,
   "id": "d6a9f617",
   "metadata": {},
   "outputs": [
    {
     "name": "stdout",
     "output_type": "stream",
     "text": [
      "Model: \"amazing_model\"\n",
      "_________________________________________________________________\n",
      " Layer (type)                Output Shape              Param #   \n",
      "=================================================================\n",
      " input_layer (Dense)         (None, 10)                20        \n",
      "                                                                 \n",
      " output_layer (Dense)        (None, 1)                 11        \n",
      "                                                                 \n",
      "=================================================================\n",
      "Total params: 31\n",
      "Trainable params: 31\n",
      "Non-trainable params: 0\n",
      "_________________________________________________________________\n"
     ]
    }
   ],
   "source": [
    "# Creating a model, with 10 units in the hidden layers, and an output layer\n",
    "\n",
    "tf.random.set_seed(42)\n",
    "\n",
    "# 1. Create a model (same as above)\n",
    "model = tf.keras.Sequential([\n",
    "    tf.keras.layers.Dense(10, input_shape= [1], name=\"input_layer\" ), \n",
    "    tf.keras.layers.Dense(1, name=\"output_layer\")\n",
    "], name=\"amazing_model\") \n",
    "\n",
    "# 2. Compile the model \n",
    "model.compile(loss=tf.keras.losses.mae,\n",
    "             optimizer = tf.keras.optimizers.SGD(),\n",
    "             metrics=[\"mae\"])\n",
    "\n",
    "\n",
    "model.summary()\n"
   ]
  },
  {
   "cell_type": "code",
   "execution_count": 46,
   "id": "69b4b0ca",
   "metadata": {},
   "outputs": [
    {
     "data": {
      "text/plain": [
       "<keras.callbacks.History at 0x1888ba8ed90>"
      ]
     },
     "execution_count": 46,
     "metadata": {},
     "output_type": "execute_result"
    }
   ],
   "source": [
    "# Fit the model to the training data\n",
    "model.fit(X_train, y_train, epochs=100, verbose=0)"
   ]
  },
  {
   "cell_type": "code",
   "execution_count": 47,
   "id": "bc62aa47",
   "metadata": {},
   "outputs": [
    {
     "name": "stdout",
     "output_type": "stream",
     "text": [
      "Model: \"amazing_model\"\n",
      "_________________________________________________________________\n",
      " Layer (type)                Output Shape              Param #   \n",
      "=================================================================\n",
      " input_layer (Dense)         (None, 10)                20        \n",
      "                                                                 \n",
      " output_layer (Dense)        (None, 1)                 11        \n",
      "                                                                 \n",
      "=================================================================\n",
      "Total params: 31\n",
      "Trainable params: 31\n",
      "Non-trainable params: 0\n",
      "_________________________________________________________________\n"
     ]
    }
   ],
   "source": [
    "model.summary()"
   ]
  },
  {
   "cell_type": "code",
   "execution_count": 48,
   "id": "06d885f8",
   "metadata": {},
   "outputs": [
    {
     "data": {
      "image/png": "[encoded data removed]",
      "text/plain": [
       "<IPython.core.display.Image object>"
      ]
     },
     "execution_count": 48,
     "metadata": {},
     "output_type": "execute_result"
    }
   ],
   "source": [
    "# Looking at the layers of the model, with it's shape\n",
    "plot_model(model=model, show_shapes=True)"
   ]
  },
  {
   "cell_type": "code",
   "execution_count": null,
   "id": "955333a7",
   "metadata": {},
   "outputs": [],
   "source": []
  },
  {
   "cell_type": "markdown",
   "id": "ab607c02",
   "metadata": {},
   "source": [
    "### Visualizing the model's predictions  \n",
    "  \n",
    "To visualize predictions, it's a good idea to plot them against the ground truth labels.  \n",
    "  \n",
    "Often, one will see this in the form of `y_test` or `y_true` versus `y_pred` (ground truth versus the model's predictions)."
   ]
  },
  {
   "cell_type": "code",
   "execution_count": 49,
   "id": "6274fe28",
   "metadata": {},
   "outputs": [
    {
     "name": "stdout",
     "output_type": "stream",
     "text": [
      "WARNING:tensorflow:5 out of the last 6 calls to <function Model.make_predict_function.<locals>.predict_function at 0x000001888CB1CAF0> triggered tf.function retracing. Tracing is expensive and the excessive number of tracings could be due to (1) creating @tf.function repeatedly in a loop, (2) passing tensors with different shapes, (3) passing Python objects instead of tensors. For (1), please define your @tf.function outside of the loop. For (2), @tf.function has reduce_retracing=True option that can avoid unnecessary retracing. For (3), please refer to https://www.tensorflow.org/guide/function#controlling_retracing and https://www.tensorflow.org/api_docs/python/tf/function for  more details.\n",
      "1/1 [==============================] - 0s 105ms/step\n"
     ]
    },
    {
     "data": {
      "text/plain": [
       "array([[ 75.87214 ],\n",
       "       [ 80.814835],\n",
       "       [ 85.75753 ],\n",
       "       [ 90.70022 ],\n",
       "       [ 95.642914],\n",
       "       [100.58562 ],\n",
       "       [105.52831 ],\n",
       "       [110.47101 ],\n",
       "       [115.4137  ],\n",
       "       [120.356384]], dtype=float32)"
      ]
     },
     "execution_count": 49,
     "metadata": {},
     "output_type": "execute_result"
    }
   ],
   "source": [
    "# Make some predictions\n",
    "y_pred = model.predict(X_test)\n",
    "y_pred"
   ]
  },
  {
   "cell_type": "code",
   "execution_count": 50,
   "id": "2693f03d",
   "metadata": {},
   "outputs": [
    {
     "data": {
      "text/plain": [
       "<tf.Tensor: shape=(10,), dtype=int32, numpy=array([ 70,  74,  78,  82,  86,  90,  94,  98, 102, 106])>"
      ]
     },
     "execution_count": 50,
     "metadata": {},
     "output_type": "execute_result"
    }
   ],
   "source": [
    "# Looking at the content of y_test (the real value)\n",
    "y_test"
   ]
  },
  {
   "cell_type": "code",
   "execution_count": null,
   "id": "ceb2b008",
   "metadata": {},
   "outputs": [],
   "source": []
  },
  {
   "cell_type": "code",
   "execution_count": 51,
   "id": "eeba611f",
   "metadata": {},
   "outputs": [],
   "source": [
    "# Creating a plotting function\n",
    "def plot_predictions(train_data=X_train, train_labels=y_train,\n",
    "                    test_data=X_test, test_labels=y_test,\n",
    "                    predictions=y_pred):\n",
    "    \"\"\"\n",
    "        Plots training data, test data, and compares predictions to ground truth labels.\n",
    "    \"\"\"\n",
    "    plt.figure( figsize=(10,7) )\n",
    "\n",
    "    # Plot training data in blue \n",
    "    plt.scatter(train_data, train_labels, c=\"b\", label=\"Training data\")\n",
    "\n",
    "    # Plot test data in green\n",
    "    plt.scatter(test_data, test_labels, c=\"g\", label=\"Test data\")\n",
    "    \n",
    "    # Plot prediction data\n",
    "    plt.scatter(test_data,predictions,c=\"r\", label=\"Predictions\")\n",
    "\n",
    "    #Show a legend\n",
    "    plt.legend() "
   ]
  },
  {
   "cell_type": "code",
   "execution_count": 52,
   "id": "e17e0774",
   "metadata": {},
   "outputs": [
    {
     "data": {
      "image/png": "[encoded data removed]",
      "text/plain": [
       "<Figure size 720x504 with 1 Axes>"
      ]
     },
     "metadata": {
      "needs_background": "light"
     },
     "output_type": "display_data"
    }
   ],
   "source": [
    "plot_predictions()"
   ]
  },
  {
   "cell_type": "markdown",
   "id": "bf87ee45",
   "metadata": {},
   "source": [
    "Looking at the plots, the model appear to be good since the distance between test data and the predictions is small. But depending on the scale of the plot, that seemingly short distance can in fact represent a fairly large error.   \n",
    "So the way that can be figured out is by some evaluation metrics.\n"
   ]
  },
  {
   "cell_type": "markdown",
   "id": "cef52248",
   "metadata": {},
   "source": [
    "🛠️ **Exercise** : Try to improve the ploted model performance."
   ]
  },
  {
   "cell_type": "code",
   "execution_count": null,
   "id": "42f63d4e",
   "metadata": {},
   "outputs": [],
   "source": []
  },
  {
   "cell_type": "markdown",
   "id": "3465cb74",
   "metadata": {},
   "source": [
    "### Evaluation a model's predictions with regression evaluation metrics  \n",
    "  \n",
    "The best way to evaluate a model's predictions is by using evaluation metrics. Depending on the problem one is working on, there will be different evaluation metrics to evaluate a model's performance.\n",
    "   \n",
    "   \n",
    "Since the current work is a regression, three of the main metrics are :\n",
    "* **MAE** - Mean Absolute Error : \"On evareage, how wrong is each of the model's predictions ?\" . It is a great starter metric for any regression problem.\n",
    "* **MSE** - Mean Square Error : \"Square the average errors\" (take the errors from the model predictions, square them, and find the average). It is great to use it when larger errors are more significant than smaller errors.   \n",
    "* **Huber** : It is a combination of MSE and MAE; it's less sensitive to outliers than MSE."
   ]
  },
  {
   "cell_type": "code",
   "execution_count": 53,
   "id": "00c2f28d",
   "metadata": {},
   "outputs": [
    {
     "name": "stdout",
     "output_type": "stream",
     "text": [
      "1/1 [==============================] - 0s 268ms/step - loss: 10.1143 - mae: 10.1143\n"
     ]
    },
    {
     "data": {
      "text/plain": [
       "[10.114265441894531, 10.114265441894531]"
      ]
     },
     "execution_count": 53,
     "metadata": {},
     "output_type": "execute_result"
    }
   ],
   "source": [
    "# Evaluate the model on the test \n",
    "model.evaluate(X_test, y_test)"
   ]
  },
  {
   "cell_type": "markdown",
   "id": "777142f7",
   "metadata": {},
   "source": [
    "In the evaluation's result above, there are values for `loss` and `mae`. They came from the hyper-parameters (loss and metrics) provided when building the model."
   ]
  },
  {
   "cell_type": "markdown",
   "id": "9805df4d",
   "metadata": {},
   "source": [
    "#### Manually calculate the MAE (as an exercise)"
   ]
  },
  {
   "cell_type": "code",
   "execution_count": 54,
   "id": "5ec1db76",
   "metadata": {},
   "outputs": [
    {
     "data": {
      "text/plain": [
       "<tf.Tensor: shape=(10,), dtype=float32, numpy=\n",
       "array([13.676717, 11.274066, 10.048494, 10.140043, 11.457166, 13.95137 ,\n",
       "       17.62265 , 22.471008, 27.413696, 32.356384], dtype=float32)>"
      ]
     },
     "execution_count": 54,
     "metadata": {},
     "output_type": "execute_result"
    }
   ],
   "source": [
    "mae = tf.metrics.mean_absolute_error(y_true = y_test, y_pred=y_pred)\n",
    "mae"
   ]
  },
  {
   "cell_type": "markdown",
   "id": "1cd1446f",
   "metadata": {},
   "source": [
    "The result above does not make sense, because the result should be scalar, not an array . Let us observe y_test and y_pred to understand what is going on in the data."
   ]
  },
  {
   "cell_type": "code",
   "execution_count": 55,
   "id": "75792e15",
   "metadata": {},
   "outputs": [
    {
     "data": {
      "text/plain": [
       "<tf.Tensor: shape=(10,), dtype=int32, numpy=array([ 70,  74,  78,  82,  86,  90,  94,  98, 102, 106])>"
      ]
     },
     "execution_count": 55,
     "metadata": {},
     "output_type": "execute_result"
    }
   ],
   "source": [
    "y_test"
   ]
  },
  {
   "cell_type": "code",
   "execution_count": 56,
   "id": "12019b8c",
   "metadata": {},
   "outputs": [
    {
     "data": {
      "text/plain": [
       "array([[ 75.87214 ],\n",
       "       [ 80.814835],\n",
       "       [ 85.75753 ],\n",
       "       [ 90.70022 ],\n",
       "       [ 95.642914],\n",
       "       [100.58562 ],\n",
       "       [105.52831 ],\n",
       "       [110.47101 ],\n",
       "       [115.4137  ],\n",
       "       [120.356384]], dtype=float32)"
      ]
     },
     "execution_count": 56,
     "metadata": {},
     "output_type": "execute_result"
    }
   ],
   "source": [
    "y_pred"
   ]
  },
  {
   "cell_type": "code",
   "execution_count": 57,
   "id": "af13faf2",
   "metadata": {},
   "outputs": [
    {
     "data": {
      "text/plain": [
       "(10, 1)"
      ]
     },
     "execution_count": 57,
     "metadata": {},
     "output_type": "execute_result"
    }
   ],
   "source": [
    "y_pred.shape"
   ]
  },
  {
   "cell_type": "markdown",
   "id": "12d65db9",
   "metadata": {},
   "source": [
    "y_pred has one more dimension than y_test, so we need to remove its last dimension in order to have the same dimension for the two of them."
   ]
  },
  {
   "cell_type": "code",
   "execution_count": 58,
   "id": "17da45da",
   "metadata": {},
   "outputs": [
    {
     "data": {
      "text/plain": [
       "<tf.Tensor: shape=(10,), dtype=float32, numpy=\n",
       "array([ 75.87214 ,  80.814835,  85.75753 ,  90.70022 ,  95.642914,\n",
       "       100.58562 , 105.52831 , 110.47101 , 115.4137  , 120.356384],\n",
       "      dtype=float32)>"
      ]
     },
     "execution_count": 58,
     "metadata": {},
     "output_type": "execute_result"
    }
   ],
   "source": [
    "# remove the last dimension from y_pred\n",
    "tf.squeeze(y_pred)"
   ]
  },
  {
   "cell_type": "code",
   "execution_count": 59,
   "id": "1e73ed10",
   "metadata": {},
   "outputs": [
    {
     "data": {
      "text/plain": [
       "<tf.Tensor: shape=(), dtype=float32, numpy=10.114265>"
      ]
     },
     "execution_count": 59,
     "metadata": {},
     "output_type": "execute_result"
    }
   ],
   "source": [
    "mae = tf.metrics.mean_absolute_error(y_true=y_test, y_pred = tf.squeeze(y_pred))\n",
    "mae"
   ]
  },
  {
   "cell_type": "markdown",
   "id": "b0ad45e6",
   "metadata": {},
   "source": [
    "The MAE manually computed here is the same as the one computed automatically before."
   ]
  },
  {
   "cell_type": "markdown",
   "id": "3cf402e6",
   "metadata": {},
   "source": [
    "#### Manually calculate the MSE (as an exercise)"
   ]
  },
  {
   "cell_type": "code",
   "execution_count": 60,
   "id": "c90b3e84",
   "metadata": {},
   "outputs": [
    {
     "data": {
      "text/plain": [
       "<tf.Tensor: shape=(10,), dtype=float32, numpy=\n",
       "array([ 279.08502,  183.6266 ,  137.02866,  139.29117,  190.41412,\n",
       "        290.39777,  439.24176,  636.94617,  883.51074, 1178.9355 ],\n",
       "      dtype=float32)>"
      ]
     },
     "execution_count": 60,
     "metadata": {},
     "output_type": "execute_result"
    }
   ],
   "source": [
    "mse = tf.metrics.mean_squared_error(y_true=y_test, y_pred=y_pred)\n",
    "mse"
   ]
  },
  {
   "cell_type": "markdown",
   "id": "422c2ed0",
   "metadata": {},
   "source": [
    "We have the same situation as when manually calculing MAE. We will use `tf.squeeze()` to solve the issue."
   ]
  },
  {
   "cell_type": "code",
   "execution_count": 61,
   "id": "98097d29",
   "metadata": {},
   "outputs": [
    {
     "data": {
      "text/plain": [
       "<tf.Tensor: shape=(), dtype=float32, numpy=109.62992>"
      ]
     },
     "execution_count": 61,
     "metadata": {},
     "output_type": "execute_result"
    }
   ],
   "source": [
    "mse = tf.metrics.mean_squared_error(y_true=y_test, y_pred= tf.squeeze(y_pred) )\n",
    "mse"
   ]
  },
  {
   "cell_type": "markdown",
   "id": "cc16b67b",
   "metadata": {},
   "source": [
    "MSE will typically be higher than MAE because, if we look at their formula, there is a square operation in MSE."
   ]
  },
  {
   "cell_type": "code",
   "execution_count": null,
   "id": "804b9b8b",
   "metadata": {},
   "outputs": [],
   "source": []
  },
  {
   "cell_type": "markdown",
   "id": "dcfe3cf7",
   "metadata": {},
   "source": [
    "#### Define a function for MAE and MSE\n",
    "It is so that the two of them can be used later"
   ]
  },
  {
   "cell_type": "code",
   "execution_count": 62,
   "id": "12fde13f",
   "metadata": {},
   "outputs": [],
   "source": [
    "def mae(y_true, y_pred):\n",
    "    return tf.metrics.mean_absolute_error(y_true=y_true, y_pred = y_pred)\n",
    "\n",
    "def mse(y_true, y_pred):\n",
    "    return tf.metrics.mean_squared_error(y_true=y_test, y_pred=y_pred)"
   ]
  },
  {
   "cell_type": "code",
   "execution_count": null,
   "id": "84618df1",
   "metadata": {},
   "outputs": [],
   "source": []
  },
  {
   "cell_type": "markdown",
   "id": "970c90c1",
   "metadata": {},
   "source": [
    "### Running experiments to improve a model\n",
    "\n",
    "So far :\n",
    "* some predictions where made with a trained model, \n",
    "* the predictions where compared to test data set, and the comparaison was visualized,\n",
    "* the predictions where where evaluated with regression evaluation metrics, such as MAE and MSE.\n",
    "\n",
    "The next question is : \"**How do we get the error values lower ?** (How do we minimize the difference between the model's predictions and the test labels)\". \n",
    "\n",
    "Remembering the workflow discussed before : `Build a model -> fit it -> evaluate it -> tweak it -> fit it -> tweak it -> ... `\n",
    "\n",
    "If the Machine Learning explorer's motto is `visualize, visualize, visualize`, in other words :\n",
    "* Visualizing our data\n",
    "* Visualizing our model\n",
    "* Visualizing our training\n",
    "* Visualizing our prediction\n",
    "\n",
    "Then, the Machine Learning practitioner's motto is `experiment, experiment, experiment, ...`. That is what we are going to do : try to run a few series of experiments to see if we can improve our model following the above mentioned workflow.\n",
    "\n",
    "Recalling some ways that we can improve our model :\n",
    "1. **Get more data** - get more examples for your model to train on (in other words, more opportunities to learn patterns/relationships between features and labels).\n",
    "1. **Make the model larger** (using a more complex model) -  this might come in the form of more layers, or more hidden units in each layer, or both.\n",
    "1. **Train for longer** - give the model more of a chance to find patterns in the data\n",
    "1. **Review how the model is compiled** - change the optimization function, or learning rate of the optimization function"
   ]
  },
  {
   "cell_type": "code",
   "execution_count": 63,
   "id": "5dab5076",
   "metadata": {},
   "outputs": [
    {
     "data": {
      "text/plain": [
       "(<tf.Tensor: shape=(40,), dtype=int32, numpy=\n",
       " array([-100,  -96,  -92,  -88,  -84,  -80,  -76,  -72,  -68,  -64,  -60,\n",
       "         -56,  -52,  -48,  -44,  -40,  -36,  -32,  -28,  -24,  -20,  -16,\n",
       "         -12,   -8,   -4,    0,    4,    8,   12,   16,   20,   24,   28,\n",
       "          32,   36,   40,   44,   48,   52,   56])>,\n",
       " <tf.Tensor: shape=(40,), dtype=int32, numpy=\n",
       " array([-90, -86, -82, -78, -74, -70, -66, -62, -58, -54, -50, -46, -42,\n",
       "        -38, -34, -30, -26, -22, -18, -14, -10,  -6,  -2,   2,   6,  10,\n",
       "         14,  18,  22,  26,  30,  34,  38,  42,  46,  50,  54,  58,  62,\n",
       "         66])>)"
      ]
     },
     "execution_count": 63,
     "metadata": {},
     "output_type": "execute_result"
    }
   ],
   "source": [
    "# Recalling our dataset\n",
    "X_train, y_train"
   ]
  },
  {
   "cell_type": "markdown",
   "id": "3676c1da",
   "metadata": {},
   "source": [
    "The question now is `Looking at our datas, how can we improve our model ?`. Let us review our options :   \n",
    "\n",
    "1. Get more data ? We can't really get more data unless we just artificially make our datasest bigger, so this option is ruled out.\n",
    "1. Make the model larger ? Yes we can\n",
    "1. Train for longer ? Yes, we can\n",
    "1. Review how the model is compiled ? Yes we can\n",
    "\n",
    "In regard for this, let's design 03 experiments that we could do: \n",
    "1. `model_1` - same as the original model, 1 layer, trained for 100 epochs.\n",
    "1. `model_2` - 2 layers, trained for 100 epochs.\n",
    "1. `model_3` - 2 layers, trained for 500 epochs.\n",
    "\n",
    "The mindset of a Machine Learning practitioner is to start with a baseline model, and then change one of the parameters for his next experiment, then do the same for the next experiment, and so on."
   ]
  },
  {
   "cell_type": "code",
   "execution_count": null,
   "id": "603a60ba",
   "metadata": {},
   "outputs": [],
   "source": []
  },
  {
   "cell_type": "markdown",
   "id": "3c6d23e7",
   "metadata": {},
   "source": [
    "**Creating model_1**: 1 layer, trained for 100 epochs"
   ]
  },
  {
   "cell_type": "code",
   "execution_count": 64,
   "id": "99dd78e1",
   "metadata": {},
   "outputs": [
    {
     "name": "stdout",
     "output_type": "stream",
     "text": [
      "Epoch 1/100\n",
      "2/2 [==============================] - 1s 5ms/step - loss: 91.4855 - mae: 91.4855\n",
      "Epoch 2/100\n",
      "2/2 [==============================] - 0s 3ms/step - loss: 56.0301 - mae: 56.0301\n",
      "Epoch 3/100\n",
      "2/2 [==============================] - 0s 5ms/step - loss: 19.5742 - mae: 19.5742\n",
      "Epoch 4/100\n",
      "2/2 [==============================] - 0s 5ms/step - loss: 9.8257 - mae: 9.8257\n",
      "Epoch 5/100\n",
      "2/2 [==============================] - 0s 6ms/step - loss: 10.7696 - mae: 10.7696\n",
      "Epoch 6/100\n",
      "2/2 [==============================] - 0s 4ms/step - loss: 9.9638 - mae: 9.9638\n",
      "Epoch 7/100\n",
      "2/2 [==============================] - 0s 4ms/step - loss: 9.0199 - mae: 9.0199\n",
      "Epoch 8/100\n",
      "2/2 [==============================] - 0s 4ms/step - loss: 9.1069 - mae: 9.1069\n",
      "Epoch 9/100\n",
      "2/2 [==============================] - 0s 4ms/step - loss: 19.8285 - mae: 19.8285\n",
      "Epoch 10/100\n",
      "2/2 [==============================] - 0s 4ms/step - loss: 10.7317 - mae: 10.7317\n",
      "Epoch 11/100\n",
      "2/2 [==============================] - 0s 5ms/step - loss: 8.6568 - mae: 8.6568\n",
      "Epoch 12/100\n",
      "2/2 [==============================] - 0s 4ms/step - loss: 9.6450 - mae: 9.6450\n",
      "Epoch 13/100\n",
      "2/2 [==============================] - 0s 6ms/step - loss: 12.9277 - mae: 12.9277\n",
      "Epoch 14/100\n",
      "2/2 [==============================] - 0s 5ms/step - loss: 14.2858 - mae: 14.2858\n",
      "Epoch 15/100\n",
      "2/2 [==============================] - 0s 4ms/step - loss: 11.6950 - mae: 11.6950\n",
      "Epoch 16/100\n",
      "2/2 [==============================] - 0s 5ms/step - loss: 8.4858 - mae: 8.4858\n",
      "Epoch 17/100\n",
      "2/2 [==============================] - 0s 5ms/step - loss: 13.4808 - mae: 13.4808\n",
      "Epoch 18/100\n",
      "2/2 [==============================] - 0s 5ms/step - loss: 11.2633 - mae: 11.2633\n",
      "Epoch 19/100\n",
      "2/2 [==============================] - 0s 5ms/step - loss: 18.3048 - mae: 18.3048\n",
      "Epoch 20/100\n",
      "2/2 [==============================] - 0s 4ms/step - loss: 15.0125 - mae: 15.0125\n",
      "Epoch 21/100\n",
      "2/2 [==============================] - 0s 5ms/step - loss: 10.8912 - mae: 10.8912\n",
      "Epoch 22/100\n",
      "2/2 [==============================] - 0s 4ms/step - loss: 8.6458 - mae: 8.6458\n",
      "Epoch 23/100\n",
      "2/2 [==============================] - 0s 5ms/step - loss: 9.7193 - mae: 9.7193\n",
      "Epoch 24/100\n",
      "2/2 [==============================] - 0s 4ms/step - loss: 8.6108 - mae: 8.6108\n",
      "Epoch 25/100\n",
      "2/2 [==============================] - 0s 5ms/step - loss: 11.6260 - mae: 11.6260\n",
      "Epoch 26/100\n",
      "2/2 [==============================] - 0s 4ms/step - loss: 15.1490 - mae: 15.1490\n",
      "Epoch 27/100\n",
      "2/2 [==============================] - 0s 5ms/step - loss: 11.8994 - mae: 11.8994\n",
      "Epoch 28/100\n",
      "2/2 [==============================] - 0s 4ms/step - loss: 13.9415 - mae: 13.9415\n",
      "Epoch 29/100\n",
      "2/2 [==============================] - 0s 5ms/step - loss: 9.6322 - mae: 9.6322\n",
      "Epoch 30/100\n",
      "2/2 [==============================] - 0s 5ms/step - loss: 17.1925 - mae: 17.1925\n",
      "Epoch 31/100\n",
      "2/2 [==============================] - 0s 5ms/step - loss: 22.8898 - mae: 22.8898\n",
      "Epoch 32/100\n",
      "2/2 [==============================] - 0s 6ms/step - loss: 7.9426 - mae: 7.9426\n",
      "Epoch 33/100\n",
      "2/2 [==============================] - 0s 5ms/step - loss: 14.1473 - mae: 14.1473\n",
      "Epoch 34/100\n",
      "2/2 [==============================] - 0s 4ms/step - loss: 12.3933 - mae: 12.3933\n",
      "Epoch 35/100\n",
      "2/2 [==============================] - 0s 3ms/step - loss: 8.2881 - mae: 8.2881\n",
      "Epoch 36/100\n",
      "2/2 [==============================] - 0s 5ms/step - loss: 10.5105 - mae: 10.5105\n",
      "Epoch 37/100\n",
      "2/2 [==============================] - 0s 4ms/step - loss: 10.1547 - mae: 10.1547\n",
      "Epoch 38/100\n",
      "2/2 [==============================] - 0s 5ms/step - loss: 11.3514 - mae: 11.3514\n",
      "Epoch 39/100\n",
      "2/2 [==============================] - 0s 4ms/step - loss: 14.7715 - mae: 14.7715\n",
      "Epoch 40/100\n",
      "2/2 [==============================] - 0s 5ms/step - loss: 12.9017 - mae: 12.9017\n",
      "Epoch 41/100\n",
      "2/2 [==============================] - 0s 5ms/step - loss: 9.2922 - mae: 9.2922\n",
      "Epoch 42/100\n",
      "2/2 [==============================] - 0s 4ms/step - loss: 11.0321 - mae: 11.0321\n",
      "Epoch 43/100\n",
      "2/2 [==============================] - 0s 5ms/step - loss: 8.3591 - mae: 8.3591\n",
      "Epoch 44/100\n",
      "2/2 [==============================] - 0s 5ms/step - loss: 13.0698 - mae: 13.0698\n",
      "Epoch 45/100\n",
      "2/2 [==============================] - 0s 5ms/step - loss: 13.6913 - mae: 13.6913\n",
      "Epoch 46/100\n",
      "2/2 [==============================] - 0s 5ms/step - loss: 8.3091 - mae: 8.3091\n",
      "Epoch 47/100\n",
      "2/2 [==============================] - 0s 5ms/step - loss: 8.7508 - mae: 8.7508\n",
      "Epoch 48/100\n",
      "2/2 [==============================] - 0s 4ms/step - loss: 10.0515 - mae: 10.0515\n",
      "Epoch 49/100\n",
      "2/2 [==============================] - 0s 5ms/step - loss: 8.5356 - mae: 8.5356\n",
      "Epoch 50/100\n",
      "2/2 [==============================] - 0s 5ms/step - loss: 9.0403 - mae: 9.0403\n",
      "Epoch 51/100\n",
      "2/2 [==============================] - 0s 4ms/step - loss: 9.3998 - mae: 9.3998\n",
      "Epoch 52/100\n",
      "2/2 [==============================] - 0s 5ms/step - loss: 14.1853 - mae: 14.1853\n",
      "Epoch 53/100\n",
      "2/2 [==============================] - 0s 5ms/step - loss: 14.9021 - mae: 14.9021\n",
      "Epoch 54/100\n",
      "2/2 [==============================] - 0s 6ms/step - loss: 14.8401 - mae: 14.8401\n",
      "Epoch 55/100\n",
      "2/2 [==============================] - 0s 5ms/step - loss: 12.6238 - mae: 12.6238\n",
      "Epoch 56/100\n",
      "2/2 [==============================] - 0s 4ms/step - loss: 7.6178 - mae: 7.6178\n",
      "Epoch 57/100\n",
      "2/2 [==============================] - 0s 5ms/step - loss: 8.8168 - mae: 8.8168\n",
      "Epoch 58/100\n",
      "2/2 [==============================] - 0s 5ms/step - loss: 8.4047 - mae: 8.4047\n",
      "Epoch 59/100\n",
      "2/2 [==============================] - 0s 5ms/step - loss: 9.2001 - mae: 9.2001\n",
      "Epoch 60/100\n",
      "2/2 [==============================] - 0s 4ms/step - loss: 9.1440 - mae: 9.1440\n",
      "Epoch 61/100\n",
      "2/2 [==============================] - 0s 6ms/step - loss: 10.6838 - mae: 10.6838\n",
      "Epoch 62/100\n",
      "2/2 [==============================] - 0s 5ms/step - loss: 7.4620 - mae: 7.4620\n",
      "Epoch 63/100\n",
      "2/2 [==============================] - 0s 6ms/step - loss: 10.5517 - mae: 10.5517\n",
      "Epoch 64/100\n",
      "2/2 [==============================] - 0s 6ms/step - loss: 12.1557 - mae: 12.1557\n",
      "Epoch 65/100\n",
      "2/2 [==============================] - 0s 5ms/step - loss: 9.4827 - mae: 9.4827\n",
      "Epoch 66/100\n",
      "2/2 [==============================] - 0s 5ms/step - loss: 11.5613 - mae: 11.5613\n",
      "Epoch 67/100\n",
      "2/2 [==============================] - 0s 5ms/step - loss: 8.0490 - mae: 8.0490\n",
      "Epoch 68/100\n",
      "2/2 [==============================] - 0s 5ms/step - loss: 8.5820 - mae: 8.5820\n",
      "Epoch 69/100\n",
      "2/2 [==============================] - 0s 5ms/step - loss: 12.2488 - mae: 12.2488\n",
      "Epoch 70/100\n",
      "2/2 [==============================] - 0s 5ms/step - loss: 8.9672 - mae: 8.9672\n",
      "Epoch 71/100\n",
      "2/2 [==============================] - 0s 5ms/step - loss: 9.9401 - mae: 9.9401\n",
      "Epoch 72/100\n",
      "2/2 [==============================] - 0s 6ms/step - loss: 9.9825 - mae: 9.9825\n",
      "Epoch 73/100\n",
      "2/2 [==============================] - 0s 5ms/step - loss: 12.4338 - mae: 12.4338\n",
      "Epoch 74/100\n",
      "2/2 [==============================] - 0s 4ms/step - loss: 10.6235 - mae: 10.6235\n",
      "Epoch 75/100\n",
      "2/2 [==============================] - 0s 4ms/step - loss: 9.6389 - mae: 9.6389\n",
      "Epoch 76/100\n",
      "2/2 [==============================] - 0s 4ms/step - loss: 11.1005 - mae: 11.1005\n",
      "Epoch 77/100\n",
      "2/2 [==============================] - 0s 5ms/step - loss: 8.2873 - mae: 8.2873\n",
      "Epoch 78/100\n",
      "2/2 [==============================] - 0s 4ms/step - loss: 8.9690 - mae: 8.9690\n",
      "Epoch 79/100\n",
      "2/2 [==============================] - 0s 5ms/step - loss: 19.8438 - mae: 19.8438\n",
      "Epoch 80/100\n",
      "2/2 [==============================] - 0s 5ms/step - loss: 17.7954 - mae: 17.7954\n",
      "Epoch 81/100\n",
      "2/2 [==============================] - 0s 5ms/step - loss: 7.1183 - mae: 7.1183\n",
      "Epoch 82/100\n",
      "2/2 [==============================] - 0s 3ms/step - loss: 10.4144 - mae: 10.4144\n",
      "Epoch 83/100\n",
      "2/2 [==============================] - 0s 4ms/step - loss: 9.8339 - mae: 9.8339\n",
      "Epoch 84/100\n",
      "2/2 [==============================] - 0s 5ms/step - loss: 7.9703 - mae: 7.9703\n",
      "Epoch 85/100\n",
      "2/2 [==============================] - 0s 5ms/step - loss: 9.4849 - mae: 9.4849\n",
      "Epoch 86/100\n",
      "2/2 [==============================] - 0s 4ms/step - loss: 9.5262 - mae: 9.5262\n",
      "Epoch 87/100\n",
      "2/2 [==============================] - 0s 4ms/step - loss: 11.4749 - mae: 11.4749\n",
      "Epoch 88/100\n"
     ]
    },
    {
     "name": "stdout",
     "output_type": "stream",
     "text": [
      "2/2 [==============================] - 0s 5ms/step - loss: 9.9758 - mae: 9.9758\n",
      "Epoch 89/100\n",
      "2/2 [==============================] - 0s 5ms/step - loss: 7.2776 - mae: 7.2776\n",
      "Epoch 90/100\n",
      "2/2 [==============================] - 0s 5ms/step - loss: 12.7387 - mae: 12.7387\n",
      "Epoch 91/100\n",
      "2/2 [==============================] - 0s 5ms/step - loss: 7.3440 - mae: 7.3440\n",
      "Epoch 92/100\n",
      "2/2 [==============================] - 0s 5ms/step - loss: 7.7100 - mae: 7.7100\n",
      "Epoch 93/100\n",
      "2/2 [==============================] - 0s 3ms/step - loss: 7.1420 - mae: 7.1420\n",
      "Epoch 94/100\n",
      "2/2 [==============================] - 0s 4ms/step - loss: 12.5846 - mae: 12.5846\n",
      "Epoch 95/100\n",
      "2/2 [==============================] - 0s 4ms/step - loss: 9.9624 - mae: 9.9624\n",
      "Epoch 96/100\n",
      "2/2 [==============================] - 0s 5ms/step - loss: 9.1547 - mae: 9.1547\n",
      "Epoch 97/100\n",
      "2/2 [==============================] - 0s 4ms/step - loss: 12.0840 - mae: 12.0840\n",
      "Epoch 98/100\n",
      "2/2 [==============================] - 0s 5ms/step - loss: 9.1070 - mae: 9.1070\n",
      "Epoch 99/100\n",
      "2/2 [==============================] - 0s 4ms/step - loss: 8.5140 - mae: 8.5140\n",
      "Epoch 100/100\n",
      "2/2 [==============================] - 0s 4ms/step - loss: 14.4436 - mae: 14.4436\n"
     ]
    }
   ],
   "source": [
    "# Set random seed\n",
    "tf.random.set_seed(42)\n",
    "\n",
    "# 1. Create the model\n",
    "model_1 = tf.keras.Sequential([\n",
    "    tf.keras.layers.Dense(1)\n",
    "])\n",
    "\n",
    "# 2. Compile the model\n",
    "model_1.compile(loss=tf.keras.losses.mae,\n",
    "               optimizer=tf.keras.optimizers.SGD(),\n",
    "               metrics=[\"mae\"])\n",
    "\n",
    "# 3. Fit the model\n",
    "model_1.fit(tf.expand_dims(X_train,axis=-1), y_train, epochs=100);"
   ]
  },
  {
   "cell_type": "code",
   "execution_count": 65,
   "id": "a4bc8d7f",
   "metadata": {},
   "outputs": [
    {
     "name": "stdout",
     "output_type": "stream",
     "text": [
      "WARNING:tensorflow:6 out of the last 7 calls to <function Model.make_predict_function.<locals>.predict_function at 0x000001888920F310> triggered tf.function retracing. Tracing is expensive and the excessive number of tracings could be due to (1) creating @tf.function repeatedly in a loop, (2) passing tensors with different shapes, (3) passing Python objects instead of tensors. For (1), please define your @tf.function outside of the loop. For (2), @tf.function has reduce_retracing=True option that can avoid unnecessary retracing. For (3), please refer to https://www.tensorflow.org/guide/function#controlling_retracing and https://www.tensorflow.org/api_docs/python/tf/function for  more details.\n",
      "1/1 [==============================] - 0s 80ms/step\n"
     ]
    },
    {
     "data": {
      "image/png": "[encoded data removed]",
      "text/plain": [
       "<Figure size 720x504 with 1 Axes>"
      ]
     },
     "metadata": {
      "needs_background": "light"
     },
     "output_type": "display_data"
    }
   ],
   "source": [
    "# Make and plot predictions for model_1\n",
    "y_preds_1 = model_1.predict(tf.expand_dims(X_test,axis=-1))\n",
    "plot_predictions(train_data=X_train,train_labels=y_train,test_data=X_test, test_labels=y_test,predictions=y_preds_1)"
   ]
  },
  {
   "cell_type": "code",
   "execution_count": 66,
   "id": "3ca03c4b",
   "metadata": {},
   "outputs": [
    {
     "data": {
      "text/plain": [
       "(<tf.Tensor: shape=(), dtype=float32, numpy=30.727758>,\n",
       " <tf.Tensor: shape=(), dtype=float32, numpy=954.6922>)"
      ]
     },
     "execution_count": 66,
     "metadata": {},
     "output_type": "execute_result"
    }
   ],
   "source": [
    "# Calculate model_1 evaluation metrics\n",
    "mae_1 = mae(y_test, tf.squeeze(y_preds_1))\n",
    "mse_1 = mse(y_test, tf.squeeze(y_preds_1))\n",
    "mae_1, mse_1"
   ]
  },
  {
   "cell_type": "code",
   "execution_count": null,
   "id": "9a1be0e4",
   "metadata": {},
   "outputs": [],
   "source": []
  },
  {
   "cell_type": "markdown",
   "id": "a70ad7e6",
   "metadata": {},
   "source": [
    "**Creating model_2**: 2 dense layers, trained for 100 epochs"
   ]
  },
  {
   "cell_type": "code",
   "execution_count": 67,
   "id": "cbb34ae4",
   "metadata": {},
   "outputs": [
    {
     "name": "stdout",
     "output_type": "stream",
     "text": [
      "Epoch 1/100\n",
      "2/2 [==============================] - 1s 5ms/step - loss: 69.4991 - mse: 7188.4399\n",
      "Epoch 2/100\n",
      "2/2 [==============================] - 0s 4ms/step - loss: 16.4984 - mse: 422.7939\n",
      "Epoch 3/100\n",
      "2/2 [==============================] - 0s 5ms/step - loss: 19.9982 - mse: 584.5443\n",
      "Epoch 4/100\n",
      "2/2 [==============================] - 0s 5ms/step - loss: 12.9518 - mse: 226.7474\n",
      "Epoch 5/100\n",
      "2/2 [==============================] - 0s 5ms/step - loss: 14.2790 - mse: 250.4793\n",
      "Epoch 6/100\n",
      "2/2 [==============================] - 0s 5ms/step - loss: 11.4245 - mse: 147.9255\n",
      "Epoch 7/100\n",
      "2/2 [==============================] - 0s 4ms/step - loss: 12.4663 - mse: 203.7537\n",
      "Epoch 8/100\n",
      "2/2 [==============================] - 0s 5ms/step - loss: 10.9917 - mse: 144.3755\n",
      "Epoch 9/100\n",
      "2/2 [==============================] - 0s 4ms/step - loss: 39.0607 - mse: 2378.8447\n",
      "Epoch 10/100\n",
      "2/2 [==============================] - 0s 5ms/step - loss: 26.6343 - mse: 997.2891\n",
      "Epoch 11/100\n",
      "2/2 [==============================] - 0s 3ms/step - loss: 11.8017 - mse: 218.8600\n",
      "Epoch 12/100\n",
      "2/2 [==============================] - 0s 6ms/step - loss: 23.5696 - mse: 787.4085\n",
      "Epoch 13/100\n",
      "2/2 [==============================] - 0s 5ms/step - loss: 21.2199 - mse: 642.4618\n",
      "Epoch 14/100\n",
      "2/2 [==============================] - 0s 4ms/step - loss: 23.6882 - mse: 860.7693\n",
      "Epoch 15/100\n",
      "2/2 [==============================] - 0s 4ms/step - loss: 15.7633 - mse: 338.1945\n",
      "Epoch 16/100\n",
      "2/2 [==============================] - 0s 4ms/step - loss: 10.4384 - mse: 124.9381\n",
      "Epoch 17/100\n",
      "2/2 [==============================] - 0s 4ms/step - loss: 19.6807 - mse: 526.9935\n",
      "Epoch 18/100\n",
      "2/2 [==============================] - 0s 5ms/step - loss: 13.3095 - mse: 277.2303\n",
      "Epoch 19/100\n",
      "2/2 [==============================] - 0s 4ms/step - loss: 16.0902 - mse: 413.7539\n",
      "Epoch 20/100\n",
      "2/2 [==============================] - 0s 4ms/step - loss: 10.2161 - mse: 153.8746\n",
      "Epoch 21/100\n",
      "2/2 [==============================] - 0s 4ms/step - loss: 13.7689 - mse: 250.4179\n",
      "Epoch 22/100\n",
      "2/2 [==============================] - 0s 4ms/step - loss: 22.0085 - mse: 687.1647\n",
      "Epoch 23/100\n",
      "2/2 [==============================] - 0s 4ms/step - loss: 10.4497 - mse: 166.9296\n",
      "Epoch 24/100\n",
      "2/2 [==============================] - 0s 5ms/step - loss: 15.7334 - mse: 332.4110\n",
      "Epoch 25/100\n",
      "2/2 [==============================] - 0s 4ms/step - loss: 14.8915 - mse: 292.1415\n",
      "Epoch 26/100\n",
      "2/2 [==============================] - 0s 4ms/step - loss: 19.5043 - mse: 576.8256\n",
      "Epoch 27/100\n",
      "2/2 [==============================] - 0s 5ms/step - loss: 20.5743 - mse: 640.0923\n",
      "Epoch 28/100\n",
      "2/2 [==============================] - 0s 5ms/step - loss: 14.9398 - mse: 344.1800\n",
      "Epoch 29/100\n",
      "2/2 [==============================] - 0s 5ms/step - loss: 9.2692 - mse: 93.3770\n",
      "Epoch 30/100\n",
      "2/2 [==============================] - 0s 6ms/step - loss: 30.3176 - mse: 1679.7305\n",
      "Epoch 31/100\n",
      "2/2 [==============================] - 0s 5ms/step - loss: 55.0856 - mse: 5441.5645\n",
      "Epoch 32/100\n",
      "2/2 [==============================] - 0s 5ms/step - loss: 9.6984 - mse: 102.8922\n",
      "Epoch 33/100\n",
      "2/2 [==============================] - 0s 5ms/step - loss: 12.3075 - mse: 190.5577\n",
      "Epoch 34/100\n",
      "2/2 [==============================] - 0s 4ms/step - loss: 24.4407 - mse: 907.4206\n",
      "Epoch 35/100\n",
      "2/2 [==============================] - 0s 3ms/step - loss: 11.9657 - mse: 210.5354\n",
      "Epoch 36/100\n",
      "2/2 [==============================] - 0s 5ms/step - loss: 22.2095 - mse: 701.5216\n",
      "Epoch 37/100\n",
      "2/2 [==============================] - 0s 4ms/step - loss: 17.3926 - mse: 430.6522\n",
      "Epoch 38/100\n",
      "2/2 [==============================] - 0s 4ms/step - loss: 10.6795 - mse: 131.0968\n",
      "Epoch 39/100\n",
      "2/2 [==============================] - 0s 5ms/step - loss: 11.1947 - mse: 162.3456\n",
      "Epoch 40/100\n",
      "2/2 [==============================] - 0s 5ms/step - loss: 17.9992 - mse: 468.6889\n",
      "Epoch 41/100\n",
      "2/2 [==============================] - 0s 4ms/step - loss: 10.4134 - mse: 183.2889\n",
      "Epoch 42/100\n",
      "2/2 [==============================] - 0s 4ms/step - loss: 7.2764 - mse: 75.6889\n",
      "Epoch 43/100\n",
      "2/2 [==============================] - 0s 4ms/step - loss: 18.9533 - mse: 532.5112\n",
      "Epoch 44/100\n",
      "2/2 [==============================] - 0s 4ms/step - loss: 20.1082 - mse: 625.3080\n",
      "Epoch 45/100\n",
      "2/2 [==============================] - 0s 4ms/step - loss: 10.1277 - mse: 127.8614\n",
      "Epoch 46/100\n",
      "2/2 [==============================] - 0s 5ms/step - loss: 11.3882 - mse: 160.4747\n",
      "Epoch 47/100\n",
      "2/2 [==============================] - 0s 4ms/step - loss: 9.8231 - mse: 152.9456\n",
      "Epoch 48/100\n",
      "2/2 [==============================] - 0s 4ms/step - loss: 17.6133 - mse: 421.7385\n",
      "Epoch 49/100\n",
      "2/2 [==============================] - 0s 4ms/step - loss: 9.3371 - mse: 95.6511\n",
      "Epoch 50/100\n",
      "2/2 [==============================] - 0s 5ms/step - loss: 13.3836 - mse: 236.2386\n",
      "Epoch 51/100\n",
      "2/2 [==============================] - 0s 5ms/step - loss: 11.4397 - mse: 148.7525\n",
      "Epoch 52/100\n",
      "2/2 [==============================] - 0s 4ms/step - loss: 29.3956 - mse: 1482.0088\n",
      "Epoch 53/100\n",
      "2/2 [==============================] - 0s 6ms/step - loss: 16.7495 - mse: 415.3828\n",
      "Epoch 54/100\n",
      "2/2 [==============================] - 0s 4ms/step - loss: 21.7270 - mse: 696.1686\n",
      "Epoch 55/100\n",
      "2/2 [==============================] - 0s 4ms/step - loss: 22.1744 - mse: 735.7902\n",
      "Epoch 56/100\n",
      "2/2 [==============================] - 0s 4ms/step - loss: 11.2470 - mse: 171.6214\n",
      "Epoch 57/100\n",
      "2/2 [==============================] - 0s 5ms/step - loss: 13.2243 - mse: 218.5251\n",
      "Epoch 58/100\n",
      "2/2 [==============================] - 0s 5ms/step - loss: 9.8759 - mse: 107.6193\n",
      "Epoch 59/100\n",
      "2/2 [==============================] - 0s 5ms/step - loss: 13.4112 - mse: 254.9470\n",
      "Epoch 60/100\n",
      "2/2 [==============================] - 0s 5ms/step - loss: 10.9398 - mse: 141.5547\n",
      "Epoch 61/100\n",
      "2/2 [==============================] - 0s 5ms/step - loss: 13.5591 - mse: 246.0744\n",
      "Epoch 62/100\n",
      "2/2 [==============================] - 0s 5ms/step - loss: 17.6389 - mse: 475.1502\n",
      "Epoch 63/100\n",
      "2/2 [==============================] - 0s 6ms/step - loss: 9.2047 - mse: 88.1125\n",
      "Epoch 64/100\n",
      "2/2 [==============================] - 0s 6ms/step - loss: 18.5034 - mse: 497.5862\n",
      "Epoch 65/100\n",
      "2/2 [==============================] - 0s 6ms/step - loss: 10.1594 - mse: 116.2273\n",
      "Epoch 66/100\n",
      "2/2 [==============================] - 0s 6ms/step - loss: 24.3847 - mse: 898.4894\n",
      "Epoch 67/100\n",
      "2/2 [==============================] - 0s 7ms/step - loss: 10.9441 - mse: 144.7322\n",
      "Epoch 68/100\n",
      "2/2 [==============================] - 0s 5ms/step - loss: 10.8143 - mse: 161.7583\n",
      "Epoch 69/100\n",
      "2/2 [==============================] - 0s 5ms/step - loss: 23.3647 - mse: 789.5917\n",
      "Epoch 70/100\n",
      "2/2 [==============================] - 0s 5ms/step - loss: 8.8057 - mse: 144.1386\n",
      "Epoch 71/100\n",
      "2/2 [==============================] - 0s 7ms/step - loss: 15.9547 - mse: 346.3297\n",
      "Epoch 72/100\n",
      "2/2 [==============================] - 0s 6ms/step - loss: 8.1393 - mse: 110.1617\n",
      "Epoch 73/100\n",
      "2/2 [==============================] - 0s 6ms/step - loss: 9.4664 - mse: 153.8797\n",
      "Epoch 74/100\n",
      "2/2 [==============================] - 0s 5ms/step - loss: 28.1336 - mse: 1108.7815\n",
      "Epoch 75/100\n",
      "2/2 [==============================] - 0s 5ms/step - loss: 10.2373 - mse: 145.8171\n",
      "Epoch 76/100\n",
      "2/2 [==============================] - 0s 4ms/step - loss: 13.1909 - mse: 220.5166\n",
      "Epoch 77/100\n",
      "2/2 [==============================] - 0s 6ms/step - loss: 18.4473 - mse: 534.0734\n",
      "Epoch 78/100\n",
      "2/2 [==============================] - 0s 6ms/step - loss: 9.0394 - mse: 92.1547\n",
      "Epoch 79/100\n",
      "2/2 [==============================] - 0s 4ms/step - loss: 23.4904 - mse: 825.9208\n",
      "Epoch 80/100\n",
      "2/2 [==============================] - 0s 5ms/step - loss: 26.1727 - mse: 1052.9927\n",
      "Epoch 81/100\n",
      "2/2 [==============================] - 0s 5ms/step - loss: 11.4329 - mse: 159.7387\n",
      "Epoch 82/100\n",
      "2/2 [==============================] - 0s 5ms/step - loss: 12.4855 - mse: 227.6158\n",
      "Epoch 83/100\n",
      "2/2 [==============================] - 0s 5ms/step - loss: 17.1726 - mse: 383.5334\n",
      "Epoch 84/100\n",
      "2/2 [==============================] - 0s 5ms/step - loss: 6.6057 - mse: 64.6789\n",
      "Epoch 85/100\n",
      "2/2 [==============================] - 0s 5ms/step - loss: 20.3263 - mse: 577.7821\n",
      "Epoch 86/100\n"
     ]
    },
    {
     "name": "stdout",
     "output_type": "stream",
     "text": [
      "2/2 [==============================] - 0s 6ms/step - loss: 10.1895 - mse: 116.2980\n",
      "Epoch 87/100\n",
      "2/2 [==============================] - 0s 5ms/step - loss: 24.3621 - mse: 830.5446\n",
      "Epoch 88/100\n",
      "2/2 [==============================] - 0s 4ms/step - loss: 19.0255 - mse: 513.9933\n",
      "Epoch 89/100\n",
      "2/2 [==============================] - 0s 4ms/step - loss: 7.1791 - mse: 70.4470\n",
      "Epoch 90/100\n",
      "2/2 [==============================] - 0s 4ms/step - loss: 18.2618 - mse: 494.7866\n",
      "Epoch 91/100\n",
      "2/2 [==============================] - 0s 5ms/step - loss: 13.3136 - mse: 256.0700\n",
      "Epoch 92/100\n",
      "2/2 [==============================] - 0s 5ms/step - loss: 8.7288 - mse: 127.4238\n",
      "Epoch 93/100\n",
      "2/2 [==============================] - 0s 4ms/step - loss: 14.1791 - mse: 276.3941\n",
      "Epoch 94/100\n",
      "2/2 [==============================] - 0s 5ms/step - loss: 17.1799 - mse: 436.5522\n",
      "Epoch 95/100\n",
      "2/2 [==============================] - 0s 4ms/step - loss: 16.7571 - mse: 384.1591\n",
      "Epoch 96/100\n",
      "2/2 [==============================] - 0s 5ms/step - loss: 11.1239 - mse: 210.0186\n",
      "Epoch 97/100\n",
      "2/2 [==============================] - 0s 5ms/step - loss: 21.1745 - mse: 639.8753\n",
      "Epoch 98/100\n",
      "2/2 [==============================] - 0s 5ms/step - loss: 10.5112 - mse: 140.1391\n",
      "Epoch 99/100\n",
      "2/2 [==============================] - 0s 5ms/step - loss: 14.6028 - mse: 296.2216\n",
      "Epoch 100/100\n",
      "2/2 [==============================] - 0s 5ms/step - loss: 17.7722 - mse: 468.4653\n"
     ]
    },
    {
     "data": {
      "text/plain": [
       "<keras.callbacks.History at 0x1888cc31b50>"
      ]
     },
     "execution_count": 67,
     "metadata": {},
     "output_type": "execute_result"
    }
   ],
   "source": [
    "# Set the random seed\n",
    "tf.random.set_seed(42)\n",
    "\n",
    "# 1. Create the model\n",
    "model_2 = tf.keras.Sequential([\n",
    "    tf.keras.layers.Dense(10, input_shape=[1], name=\"input_layer\"), # the number of unit (10) here is arbitrary, can be \n",
    "                                                                    #   set to anything\n",
    "    tf.keras.layers.Dense(1)\n",
    "])\n",
    "\n",
    "# 2. Compiling the model\n",
    "model_2.compile(loss=tf.keras.losses.mae,\n",
    "               optimizer= tf.keras.optimizers.SGD(),\n",
    "               metrics=[\"mse\"])\n",
    "\n",
    "# 3. Fit the model\n",
    "model_2.fit(X_train, y_train, epochs=100)"
   ]
  },
  {
   "cell_type": "code",
   "execution_count": 68,
   "id": "66520bba",
   "metadata": {},
   "outputs": [
    {
     "data": {
      "text/plain": [
       "<tf.Tensor: shape=(10,), dtype=int32, numpy=array([60, 64, 68, 72, 76, 80, 84, 88, 92, 96])>"
      ]
     },
     "execution_count": 68,
     "metadata": {},
     "output_type": "execute_result"
    }
   ],
   "source": [
    "X_test"
   ]
  },
  {
   "cell_type": "code",
   "execution_count": 69,
   "id": "dd823c5a",
   "metadata": {},
   "outputs": [
    {
     "name": "stdout",
     "output_type": "stream",
     "text": [
      "1/1 [==============================] - 0s 101ms/step\n"
     ]
    },
    {
     "data": {
      "image/png": "[encoded data removed]",
      "text/plain": [
       "<Figure size 720x504 with 1 Axes>"
      ]
     },
     "metadata": {
      "needs_background": "light"
     },
     "output_type": "display_data"
    }
   ],
   "source": [
    "# Make and plot predictions of model_2\n",
    "y_preds_2 = model_2.predict(X_test)\n",
    "plot_predictions(predictions=y_preds_2) #train_data=X_train,train_labels=y_train,test_data=X_test, test_labels=y_test,"
   ]
  },
  {
   "cell_type": "markdown",
   "id": "da9172b2",
   "metadata": {},
   "source": [
    "Our red dots (predictions) are a lot closer to the green dots (test label). This model is much better than the previous one."
   ]
  },
  {
   "cell_type": "code",
   "execution_count": 70,
   "id": "e546497e",
   "metadata": {},
   "outputs": [
    {
     "data": {
      "text/plain": [
       "(<tf.Tensor: shape=(), dtype=float32, numpy=2.0217354>,\n",
       " <tf.Tensor: shape=(), dtype=float32, numpy=6.0264754>)"
      ]
     },
     "execution_count": 70,
     "metadata": {},
     "output_type": "execute_result"
    }
   ],
   "source": [
    "# Calculate model_2 evaluation metrics\n",
    "mae_2 = mae(y_test, tf.squeeze(y_preds_2))\n",
    "mse_2 = mse(y_test, tf.squeeze(y_preds_2))\n",
    "\n",
    "mae_2, mse_2"
   ]
  },
  {
   "cell_type": "code",
   "execution_count": 71,
   "id": "c8bdb12d",
   "metadata": {},
   "outputs": [
    {
     "data": {
      "text/plain": [
       "(<tf.Tensor: shape=(), dtype=float32, numpy=30.727758>,\n",
       " <tf.Tensor: shape=(), dtype=float32, numpy=954.6922>)"
      ]
     },
     "execution_count": 71,
     "metadata": {},
     "output_type": "execute_result"
    }
   ],
   "source": [
    "# Let's compare the above metrics with mae_1 & mse_1\n",
    "mae_1, mse_1"
   ]
  },
  {
   "cell_type": "markdown",
   "id": "87641eb8",
   "metadata": {},
   "source": [
    "We can confirm that model_2 is doing much better than model_1"
   ]
  },
  {
   "cell_type": "code",
   "execution_count": null,
   "id": "598ee01d",
   "metadata": {},
   "outputs": [],
   "source": []
  },
  {
   "cell_type": "markdown",
   "id": "3ea78437",
   "metadata": {},
   "source": [
    "**Build `model_3`** - 2 layers, trained for 500 epochs   \n",
    "\n",
    "The only thing we will change here, compared to model_2, is the number of epochs."
   ]
  },
  {
   "cell_type": "code",
   "execution_count": 72,
   "id": "53aed91f",
   "metadata": {},
   "outputs": [
    {
     "name": "stdout",
     "output_type": "stream",
     "text": [
      "Epoch 1/500\n",
      "2/2 [==============================] - 1s 6ms/step - loss: 67.2493 - mae: 67.2493\n",
      "Epoch 2/500\n",
      "2/2 [==============================] - 0s 5ms/step - loss: 20.7444 - mae: 20.7444\n",
      "Epoch 3/500\n",
      "2/2 [==============================] - 0s 4ms/step - loss: 18.3264 - mae: 18.3264\n",
      "Epoch 4/500\n",
      "2/2 [==============================] - 0s 3ms/step - loss: 13.3989 - mae: 13.3989\n",
      "Epoch 5/500\n",
      "2/2 [==============================] - 0s 5ms/step - loss: 14.7853 - mae: 14.7853\n",
      "Epoch 6/500\n",
      "2/2 [==============================] - 0s 5ms/step - loss: 11.7705 - mae: 11.7705\n",
      "Epoch 7/500\n",
      "2/2 [==============================] - 0s 5ms/step - loss: 11.1116 - mae: 11.1116\n",
      "Epoch 8/500\n",
      "2/2 [==============================] - 0s 5ms/step - loss: 11.0806 - mae: 11.0806\n",
      "Epoch 9/500\n",
      "2/2 [==============================] - 0s 5ms/step - loss: 40.2035 - mae: 40.2035\n",
      "Epoch 10/500\n",
      "2/2 [==============================] - 0s 3ms/step - loss: 27.6302 - mae: 27.6302\n",
      "Epoch 11/500\n",
      "2/2 [==============================] - 0s 5ms/step - loss: 10.2520 - mae: 10.2520\n",
      "Epoch 12/500\n",
      "2/2 [==============================] - 0s 5ms/step - loss: 25.3719 - mae: 25.3719\n",
      "Epoch 13/500\n",
      "2/2 [==============================] - 0s 5ms/step - loss: 16.8808 - mae: 16.8808\n",
      "Epoch 14/500\n",
      "2/2 [==============================] - 0s 4ms/step - loss: 25.7187 - mae: 25.7187\n",
      "Epoch 15/500\n",
      "2/2 [==============================] - 0s 4ms/step - loss: 17.5802 - mae: 17.5802\n",
      "Epoch 16/500\n",
      "2/2 [==============================] - 0s 5ms/step - loss: 10.0518 - mae: 10.0518\n",
      "Epoch 17/500\n",
      "2/2 [==============================] - 0s 5ms/step - loss: 18.5935 - mae: 18.5935\n",
      "Epoch 18/500\n",
      "2/2 [==============================] - 0s 5ms/step - loss: 11.7500 - mae: 11.7500\n",
      "Epoch 19/500\n",
      "2/2 [==============================] - 0s 5ms/step - loss: 16.4094 - mae: 16.4094\n",
      "Epoch 20/500\n",
      "2/2 [==============================] - 0s 3ms/step - loss: 8.2494 - mae: 8.2494\n",
      "Epoch 21/500\n",
      "2/2 [==============================] - 0s 5ms/step - loss: 14.4497 - mae: 14.4497\n",
      "Epoch 22/500\n",
      "2/2 [==============================] - 0s 4ms/step - loss: 12.8666 - mae: 12.8666\n",
      "Epoch 23/500\n",
      "2/2 [==============================] - 0s 5ms/step - loss: 15.5011 - mae: 15.5011\n",
      "Epoch 24/500\n",
      "2/2 [==============================] - 0s 5ms/step - loss: 15.2914 - mae: 15.2914\n",
      "Epoch 25/500\n",
      "2/2 [==============================] - 0s 5ms/step - loss: 14.3569 - mae: 14.3569\n",
      "Epoch 26/500\n",
      "2/2 [==============================] - 0s 5ms/step - loss: 19.3754 - mae: 19.3754\n",
      "Epoch 27/500\n",
      "2/2 [==============================] - 0s 5ms/step - loss: 11.4393 - mae: 11.4393\n",
      "Epoch 28/500\n",
      "2/2 [==============================] - 0s 5ms/step - loss: 28.9995 - mae: 28.9995\n",
      "Epoch 29/500\n",
      "2/2 [==============================] - 0s 5ms/step - loss: 9.2527 - mae: 9.2527\n",
      "Epoch 30/500\n",
      "2/2 [==============================] - 0s 5ms/step - loss: 29.7547 - mae: 29.7547\n",
      "Epoch 31/500\n",
      "2/2 [==============================] - 0s 5ms/step - loss: 53.9801 - mae: 53.9801\n",
      "Epoch 32/500\n",
      "2/2 [==============================] - 0s 6ms/step - loss: 9.5533 - mae: 9.5533\n",
      "Epoch 33/500\n",
      "2/2 [==============================] - 0s 5ms/step - loss: 12.1418 - mae: 12.1418\n",
      "Epoch 34/500\n",
      "2/2 [==============================] - 0s 4ms/step - loss: 23.8023 - mae: 23.8023\n",
      "Epoch 35/500\n",
      "2/2 [==============================] - 0s 5ms/step - loss: 12.6392 - mae: 12.6392\n",
      "Epoch 36/500\n",
      "2/2 [==============================] - 0s 5ms/step - loss: 21.5695 - mae: 21.5695\n",
      "Epoch 37/500\n",
      "2/2 [==============================] - 0s 6ms/step - loss: 11.3480 - mae: 11.3480\n",
      "Epoch 38/500\n",
      "2/2 [==============================] - 0s 4ms/step - loss: 13.4083 - mae: 13.4083\n",
      "Epoch 39/500\n",
      "2/2 [==============================] - 0s 5ms/step - loss: 10.7642 - mae: 10.7642\n",
      "Epoch 40/500\n",
      "2/2 [==============================] - 0s 4ms/step - loss: 16.5149 - mae: 16.5149\n",
      "Epoch 41/500\n",
      "2/2 [==============================] - 0s 4ms/step - loss: 10.9334 - mae: 10.9334\n",
      "Epoch 42/500\n",
      "2/2 [==============================] - 0s 5ms/step - loss: 9.2708 - mae: 9.2708\n",
      "Epoch 43/500\n",
      "2/2 [==============================] - 0s 5ms/step - loss: 9.5851 - mae: 9.5851\n",
      "Epoch 44/500\n",
      "2/2 [==============================] - 0s 5ms/step - loss: 27.8640 - mae: 27.8640\n",
      "Epoch 45/500\n",
      "2/2 [==============================] - 0s 5ms/step - loss: 11.2523 - mae: 11.2523\n",
      "Epoch 46/500\n",
      "2/2 [==============================] - 0s 4ms/step - loss: 13.8309 - mae: 13.8309\n",
      "Epoch 47/500\n",
      "2/2 [==============================] - 0s 4ms/step - loss: 11.9324 - mae: 11.9324\n",
      "Epoch 48/500\n",
      "2/2 [==============================] - 0s 5ms/step - loss: 16.9733 - mae: 16.9733\n",
      "Epoch 49/500\n",
      "2/2 [==============================] - 0s 5ms/step - loss: 9.7645 - mae: 9.7645\n",
      "Epoch 50/500\n",
      "2/2 [==============================] - 0s 4ms/step - loss: 14.1477 - mae: 14.1477\n",
      "Epoch 51/500\n",
      "2/2 [==============================] - 0s 5ms/step - loss: 11.7300 - mae: 11.7300\n",
      "Epoch 52/500\n",
      "2/2 [==============================] - 0s 6ms/step - loss: 31.3299 - mae: 31.3299\n",
      "Epoch 53/500\n",
      "2/2 [==============================] - 0s 4ms/step - loss: 14.7007 - mae: 14.7007\n",
      "Epoch 54/500\n",
      "2/2 [==============================] - 0s 4ms/step - loss: 24.5710 - mae: 24.5710\n",
      "Epoch 55/500\n",
      "2/2 [==============================] - 0s 5ms/step - loss: 23.8507 - mae: 23.8507\n",
      "Epoch 56/500\n",
      "2/2 [==============================] - 0s 4ms/step - loss: 11.1079 - mae: 11.1079\n",
      "Epoch 57/500\n",
      "2/2 [==============================] - 0s 3ms/step - loss: 13.0414 - mae: 13.0414\n",
      "Epoch 58/500\n",
      "2/2 [==============================] - 0s 5ms/step - loss: 9.7708 - mae: 9.7708\n",
      "Epoch 59/500\n",
      "2/2 [==============================] - 0s 5ms/step - loss: 13.2173 - mae: 13.2173\n",
      "Epoch 60/500\n",
      "2/2 [==============================] - 0s 5ms/step - loss: 10.8218 - mae: 10.8218\n",
      "Epoch 61/500\n",
      "2/2 [==============================] - 0s 4ms/step - loss: 13.3978 - mae: 13.3978\n",
      "Epoch 62/500\n",
      "2/2 [==============================] - 0s 4ms/step - loss: 17.3495 - mae: 17.3495\n",
      "Epoch 63/500\n",
      "2/2 [==============================] - 0s 5ms/step - loss: 9.1307 - mae: 9.1307\n",
      "Epoch 64/500\n",
      "2/2 [==============================] - 0s 4ms/step - loss: 17.9714 - mae: 17.9714\n",
      "Epoch 65/500\n",
      "2/2 [==============================] - 0s 6ms/step - loss: 10.6164 - mae: 10.6164\n",
      "Epoch 66/500\n",
      "2/2 [==============================] - 0s 5ms/step - loss: 21.4952 - mae: 21.4952\n",
      "Epoch 67/500\n",
      "2/2 [==============================] - 0s 5ms/step - loss: 10.6289 - mae: 10.6289\n",
      "Epoch 68/500\n",
      "2/2 [==============================] - 0s 5ms/step - loss: 14.8760 - mae: 14.8760\n",
      "Epoch 69/500\n",
      "2/2 [==============================] - 0s 4ms/step - loss: 10.7762 - mae: 10.7762\n",
      "Epoch 70/500\n",
      "2/2 [==============================] - 0s 5ms/step - loss: 12.8788 - mae: 12.8788\n",
      "Epoch 71/500\n",
      "2/2 [==============================] - 0s 4ms/step - loss: 13.2998 - mae: 13.2998\n",
      "Epoch 72/500\n",
      "2/2 [==============================] - 0s 5ms/step - loss: 20.1653 - mae: 20.1653\n",
      "Epoch 73/500\n",
      "2/2 [==============================] - 0s 5ms/step - loss: 9.7360 - mae: 9.7360\n",
      "Epoch 74/500\n",
      "2/2 [==============================] - 0s 3ms/step - loss: 27.4811 - mae: 27.4811\n",
      "Epoch 75/500\n",
      "2/2 [==============================] - 0s 4ms/step - loss: 10.0268 - mae: 10.0268\n",
      "Epoch 76/500\n",
      "2/2 [==============================] - 0s 5ms/step - loss: 12.9480 - mae: 12.9480\n",
      "Epoch 77/500\n",
      "2/2 [==============================] - 0s 4ms/step - loss: 17.9629 - mae: 17.9629\n",
      "Epoch 78/500\n",
      "2/2 [==============================] - 0s 5ms/step - loss: 8.9620 - mae: 8.9620\n",
      "Epoch 79/500\n",
      "2/2 [==============================] - 0s 4ms/step - loss: 28.8191 - mae: 28.8191\n",
      "Epoch 80/500\n",
      "2/2 [==============================] - 0s 5ms/step - loss: 31.1731 - mae: 31.1731\n",
      "Epoch 81/500\n",
      "2/2 [==============================] - 0s 3ms/step - loss: 13.5859 - mae: 13.5859\n",
      "Epoch 82/500\n",
      "2/2 [==============================] - 0s 4ms/step - loss: 15.8579 - mae: 15.8579\n",
      "Epoch 83/500\n",
      "2/2 [==============================] - 0s 4ms/step - loss: 9.1373 - mae: 9.1373\n",
      "Epoch 84/500\n",
      "2/2 [==============================] - 0s 5ms/step - loss: 8.2011 - mae: 8.2011\n",
      "Epoch 85/500\n",
      "2/2 [==============================] - 0s 5ms/step - loss: 18.8683 - mae: 18.8683\n",
      "Epoch 86/500\n",
      "2/2 [==============================] - 0s 4ms/step - loss: 21.9920 - mae: 21.9920\n",
      "Epoch 87/500\n"
     ]
    },
    {
     "name": "stdout",
     "output_type": "stream",
     "text": [
      "2/2 [==============================] - 0s 5ms/step - loss: 11.2146 - mae: 11.2146\n",
      "Epoch 88/500\n",
      "2/2 [==============================] - 0s 5ms/step - loss: 25.9543 - mae: 25.9543\n",
      "Epoch 89/500\n",
      "2/2 [==============================] - 0s 3ms/step - loss: 9.5219 - mae: 9.5219\n",
      "Epoch 90/500\n",
      "2/2 [==============================] - 0s 5ms/step - loss: 18.2612 - mae: 18.2612\n",
      "Epoch 91/500\n",
      "2/2 [==============================] - 0s 7ms/step - loss: 10.3268 - mae: 10.3268\n",
      "Epoch 92/500\n",
      "2/2 [==============================] - 0s 4ms/step - loss: 17.5128 - mae: 17.5128\n",
      "Epoch 93/500\n",
      "2/2 [==============================] - 0s 4ms/step - loss: 6.8243 - mae: 6.8243\n",
      "Epoch 94/500\n",
      "2/2 [==============================] - 0s 5ms/step - loss: 17.6507 - mae: 17.6507\n",
      "Epoch 95/500\n",
      "2/2 [==============================] - 0s 6ms/step - loss: 17.3641 - mae: 17.3641\n",
      "Epoch 96/500\n",
      "2/2 [==============================] - 0s 5ms/step - loss: 11.5332 - mae: 11.5332\n",
      "Epoch 97/500\n",
      "2/2 [==============================] - 0s 4ms/step - loss: 18.3029 - mae: 18.3029\n",
      "Epoch 98/500\n",
      "2/2 [==============================] - 0s 4ms/step - loss: 9.7498 - mae: 9.7498\n",
      "Epoch 99/500\n",
      "2/2 [==============================] - 0s 4ms/step - loss: 16.9366 - mae: 16.9366\n",
      "Epoch 100/500\n",
      "2/2 [==============================] - 0s 5ms/step - loss: 17.8075 - mae: 17.8075\n",
      "Epoch 101/500\n",
      "2/2 [==============================] - 0s 4ms/step - loss: 16.4763 - mae: 16.4763\n",
      "Epoch 102/500\n",
      "2/2 [==============================] - 0s 5ms/step - loss: 12.9188 - mae: 12.9188\n",
      "Epoch 103/500\n",
      "2/2 [==============================] - 0s 5ms/step - loss: 16.0742 - mae: 16.0742\n",
      "Epoch 104/500\n",
      "2/2 [==============================] - 0s 5ms/step - loss: 22.2500 - mae: 22.2500\n",
      "Epoch 105/500\n",
      "2/2 [==============================] - 0s 4ms/step - loss: 20.3350 - mae: 20.3350\n",
      "Epoch 106/500\n",
      "2/2 [==============================] - 0s 4ms/step - loss: 10.1018 - mae: 10.1018\n",
      "Epoch 107/500\n",
      "2/2 [==============================] - 0s 5ms/step - loss: 24.7734 - mae: 24.7734\n",
      "Epoch 108/500\n",
      "2/2 [==============================] - 0s 5ms/step - loss: 15.1796 - mae: 15.1796\n",
      "Epoch 109/500\n",
      "2/2 [==============================] - 0s 5ms/step - loss: 7.0709 - mae: 7.0709\n",
      "Epoch 110/500\n",
      "2/2 [==============================] - 0s 4ms/step - loss: 10.9528 - mae: 10.9528\n",
      "Epoch 111/500\n",
      "2/2 [==============================] - 0s 4ms/step - loss: 17.5534 - mae: 17.5534\n",
      "Epoch 112/500\n",
      "2/2 [==============================] - 0s 3ms/step - loss: 9.8206 - mae: 9.8206\n",
      "Epoch 113/500\n",
      "2/2 [==============================] - 0s 4ms/step - loss: 18.4658 - mae: 18.4658\n",
      "Epoch 114/500\n",
      "2/2 [==============================] - 0s 5ms/step - loss: 18.0893 - mae: 18.0893\n",
      "Epoch 115/500\n",
      "2/2 [==============================] - 0s 5ms/step - loss: 10.8086 - mae: 10.8086\n",
      "Epoch 116/500\n",
      "2/2 [==============================] - 0s 5ms/step - loss: 21.9991 - mae: 21.9991\n",
      "Epoch 117/500\n",
      "2/2 [==============================] - 0s 5ms/step - loss: 9.2322 - mae: 9.2322\n",
      "Epoch 118/500\n",
      "2/2 [==============================] - 0s 4ms/step - loss: 10.2342 - mae: 10.2342\n",
      "Epoch 119/500\n",
      "2/2 [==============================] - 0s 4ms/step - loss: 8.0373 - mae: 8.0373\n",
      "Epoch 120/500\n",
      "2/2 [==============================] - 0s 4ms/step - loss: 46.4551 - mae: 46.4551\n",
      "Epoch 121/500\n",
      "2/2 [==============================] - 0s 5ms/step - loss: 12.1431 - mae: 12.1431\n",
      "Epoch 122/500\n",
      "2/2 [==============================] - 0s 4ms/step - loss: 23.1506 - mae: 23.1506\n",
      "Epoch 123/500\n",
      "2/2 [==============================] - 0s 5ms/step - loss: 27.9047 - mae: 27.9047\n",
      "Epoch 124/500\n",
      "2/2 [==============================] - 0s 4ms/step - loss: 15.6432 - mae: 15.6432\n",
      "Epoch 125/500\n",
      "2/2 [==============================] - 0s 4ms/step - loss: 8.4062 - mae: 8.4062\n",
      "Epoch 126/500\n",
      "2/2 [==============================] - 0s 5ms/step - loss: 11.2614 - mae: 11.2614\n",
      "Epoch 127/500\n",
      "2/2 [==============================] - 0s 4ms/step - loss: 17.5318 - mae: 17.5318\n",
      "Epoch 128/500\n",
      "2/2 [==============================] - 0s 4ms/step - loss: 11.0455 - mae: 11.0455\n",
      "Epoch 129/500\n",
      "2/2 [==============================] - 0s 4ms/step - loss: 19.6844 - mae: 19.6844\n",
      "Epoch 130/500\n",
      "2/2 [==============================] - 0s 5ms/step - loss: 10.1965 - mae: 10.1965\n",
      "Epoch 131/500\n",
      "2/2 [==============================] - 0s 3ms/step - loss: 21.3320 - mae: 21.3320\n",
      "Epoch 132/500\n",
      "2/2 [==============================] - 0s 5ms/step - loss: 8.2309 - mae: 8.2309\n",
      "Epoch 133/500\n",
      "2/2 [==============================] - 0s 4ms/step - loss: 9.0154 - mae: 9.0154\n",
      "Epoch 134/500\n",
      "2/2 [==============================] - 0s 5ms/step - loss: 16.3881 - mae: 16.3881\n",
      "Epoch 135/500\n",
      "2/2 [==============================] - 0s 4ms/step - loss: 11.3161 - mae: 11.3161\n",
      "Epoch 136/500\n",
      "2/2 [==============================] - 0s 5ms/step - loss: 20.3196 - mae: 20.3196\n",
      "Epoch 137/500\n",
      "2/2 [==============================] - 0s 5ms/step - loss: 23.7848 - mae: 23.7848\n",
      "Epoch 138/500\n",
      "2/2 [==============================] - 0s 5ms/step - loss: 9.4159 - mae: 9.4159\n",
      "Epoch 139/500\n",
      "2/2 [==============================] - 0s 5ms/step - loss: 9.1056 - mae: 9.1056\n",
      "Epoch 140/500\n",
      "2/2 [==============================] - 0s 6ms/step - loss: 17.1462 - mae: 17.1462\n",
      "Epoch 141/500\n",
      "2/2 [==============================] - 0s 4ms/step - loss: 8.3705 - mae: 8.3705\n",
      "Epoch 142/500\n",
      "2/2 [==============================] - 0s 4ms/step - loss: 34.2659 - mae: 34.2659\n",
      "Epoch 143/500\n",
      "2/2 [==============================] - 0s 7ms/step - loss: 23.3078 - mae: 23.3078\n",
      "Epoch 144/500\n",
      "2/2 [==============================] - 0s 5ms/step - loss: 10.4979 - mae: 10.4979\n",
      "Epoch 145/500\n",
      "2/2 [==============================] - 0s 4ms/step - loss: 25.8566 - mae: 25.8566\n",
      "Epoch 146/500\n",
      "2/2 [==============================] - 0s 6ms/step - loss: 9.9411 - mae: 9.9411\n",
      "Epoch 147/500\n",
      "2/2 [==============================] - 0s 5ms/step - loss: 14.7563 - mae: 14.7563\n",
      "Epoch 148/500\n",
      "2/2 [==============================] - 0s 6ms/step - loss: 17.8734 - mae: 17.8734\n",
      "Epoch 149/500\n",
      "2/2 [==============================] - 0s 5ms/step - loss: 8.4462 - mae: 8.4462\n",
      "Epoch 150/500\n",
      "2/2 [==============================] - 0s 5ms/step - loss: 7.6278 - mae: 7.6278\n",
      "Epoch 151/500\n",
      "2/2 [==============================] - 0s 6ms/step - loss: 18.7886 - mae: 18.7886\n",
      "Epoch 152/500\n",
      "2/2 [==============================] - 0s 5ms/step - loss: 10.4634 - mae: 10.4634\n",
      "Epoch 153/500\n",
      "2/2 [==============================] - 0s 6ms/step - loss: 30.2771 - mae: 30.2771\n",
      "Epoch 154/500\n",
      "2/2 [==============================] - 0s 5ms/step - loss: 10.0168 - mae: 10.0168\n",
      "Epoch 155/500\n",
      "2/2 [==============================] - 0s 6ms/step - loss: 15.7655 - mae: 15.7655\n",
      "Epoch 156/500\n",
      "2/2 [==============================] - 0s 4ms/step - loss: 17.7027 - mae: 17.7027\n",
      "Epoch 157/500\n",
      "2/2 [==============================] - 0s 5ms/step - loss: 31.0313 - mae: 31.0313\n",
      "Epoch 158/500\n",
      "2/2 [==============================] - 0s 5ms/step - loss: 10.2061 - mae: 10.2061\n",
      "Epoch 159/500\n",
      "2/2 [==============================] - 0s 4ms/step - loss: 8.6930 - mae: 8.6930\n",
      "Epoch 160/500\n",
      "2/2 [==============================] - 0s 4ms/step - loss: 20.6869 - mae: 20.6869\n",
      "Epoch 161/500\n",
      "2/2 [==============================] - 0s 5ms/step - loss: 11.7994 - mae: 11.7994\n",
      "Epoch 162/500\n",
      "2/2 [==============================] - 0s 4ms/step - loss: 21.6641 - mae: 21.6641\n",
      "Epoch 163/500\n",
      "2/2 [==============================] - 0s 5ms/step - loss: 19.3421 - mae: 19.3421\n",
      "Epoch 164/500\n",
      "2/2 [==============================] - 0s 5ms/step - loss: 11.1107 - mae: 11.1107\n",
      "Epoch 165/500\n",
      "2/2 [==============================] - 0s 4ms/step - loss: 9.6332 - mae: 9.6332\n",
      "Epoch 166/500\n",
      "2/2 [==============================] - 0s 6ms/step - loss: 21.5781 - mae: 21.5781\n",
      "Epoch 167/500\n",
      "2/2 [==============================] - 0s 5ms/step - loss: 26.3346 - mae: 26.3346\n",
      "Epoch 168/500\n",
      "2/2 [==============================] - 0s 4ms/step - loss: 9.9187 - mae: 9.9187\n",
      "Epoch 169/500\n",
      "2/2 [==============================] - 0s 5ms/step - loss: 22.5705 - mae: 22.5705\n",
      "Epoch 170/500\n",
      "2/2 [==============================] - 0s 6ms/step - loss: 10.1784 - mae: 10.1784\n",
      "Epoch 171/500\n",
      "2/2 [==============================] - 0s 5ms/step - loss: 18.0597 - mae: 18.0597\n",
      "Epoch 172/500\n",
      "2/2 [==============================] - 0s 5ms/step - loss: 28.8124 - mae: 28.8124\n",
      "Epoch 173/500\n"
     ]
    },
    {
     "name": "stdout",
     "output_type": "stream",
     "text": [
      "2/2 [==============================] - 0s 5ms/step - loss: 16.5259 - mae: 16.5259\n",
      "Epoch 174/500\n",
      "2/2 [==============================] - 0s 4ms/step - loss: 11.2404 - mae: 11.2404\n",
      "Epoch 175/500\n",
      "2/2 [==============================] - 0s 6ms/step - loss: 27.5958 - mae: 27.5958\n",
      "Epoch 176/500\n",
      "2/2 [==============================] - 0s 4ms/step - loss: 8.3091 - mae: 8.3091\n",
      "Epoch 177/500\n",
      "2/2 [==============================] - 0s 6ms/step - loss: 9.3034 - mae: 9.3034\n",
      "Epoch 178/500\n",
      "2/2 [==============================] - 0s 6ms/step - loss: 18.0919 - mae: 18.0919\n",
      "Epoch 179/500\n",
      "2/2 [==============================] - 0s 6ms/step - loss: 10.6399 - mae: 10.6399\n",
      "Epoch 180/500\n",
      "2/2 [==============================] - 0s 5ms/step - loss: 7.9394 - mae: 7.9394\n",
      "Epoch 181/500\n",
      "2/2 [==============================] - 0s 4ms/step - loss: 17.3306 - mae: 17.3306\n",
      "Epoch 182/500\n",
      "2/2 [==============================] - 0s 5ms/step - loss: 11.0263 - mae: 11.0263\n",
      "Epoch 183/500\n",
      "2/2 [==============================] - 0s 4ms/step - loss: 11.6773 - mae: 11.6773\n",
      "Epoch 184/500\n",
      "2/2 [==============================] - 0s 5ms/step - loss: 30.2299 - mae: 30.2299\n",
      "Epoch 185/500\n",
      "2/2 [==============================] - 0s 5ms/step - loss: 8.2230 - mae: 8.2230\n",
      "Epoch 186/500\n",
      "2/2 [==============================] - 0s 5ms/step - loss: 18.7127 - mae: 18.7127\n",
      "Epoch 187/500\n",
      "2/2 [==============================] - 0s 5ms/step - loss: 8.8095 - mae: 8.8095\n",
      "Epoch 188/500\n",
      "2/2 [==============================] - 0s 6ms/step - loss: 23.7015 - mae: 23.7015\n",
      "Epoch 189/500\n",
      "2/2 [==============================] - 0s 7ms/step - loss: 9.4184 - mae: 9.4184\n",
      "Epoch 190/500\n",
      "2/2 [==============================] - 0s 5ms/step - loss: 17.0928 - mae: 17.0928\n",
      "Epoch 191/500\n",
      "2/2 [==============================] - 0s 5ms/step - loss: 8.6105 - mae: 8.6105\n",
      "Epoch 192/500\n",
      "2/2 [==============================] - 0s 5ms/step - loss: 15.1900 - mae: 15.1900\n",
      "Epoch 193/500\n",
      "2/2 [==============================] - 0s 5ms/step - loss: 30.0278 - mae: 30.0278\n",
      "Epoch 194/500\n",
      "2/2 [==============================] - 0s 5ms/step - loss: 9.6674 - mae: 9.6674\n",
      "Epoch 195/500\n",
      "2/2 [==============================] - 0s 5ms/step - loss: 12.0351 - mae: 12.0351\n",
      "Epoch 196/500\n",
      "2/2 [==============================] - 0s 5ms/step - loss: 23.3997 - mae: 23.3997\n",
      "Epoch 197/500\n",
      "2/2 [==============================] - 0s 4ms/step - loss: 17.8414 - mae: 17.8414\n",
      "Epoch 198/500\n",
      "2/2 [==============================] - 0s 5ms/step - loss: 12.6279 - mae: 12.6279\n",
      "Epoch 199/500\n",
      "2/2 [==============================] - 0s 6ms/step - loss: 18.0982 - mae: 18.0982\n",
      "Epoch 200/500\n",
      "2/2 [==============================] - 0s 4ms/step - loss: 13.9278 - mae: 13.9278\n",
      "Epoch 201/500\n",
      "2/2 [==============================] - 0s 5ms/step - loss: 6.1096 - mae: 6.1096\n",
      "Epoch 202/500\n",
      "2/2 [==============================] - 0s 5ms/step - loss: 22.9047 - mae: 22.9047\n",
      "Epoch 203/500\n",
      "2/2 [==============================] - 0s 5ms/step - loss: 9.0337 - mae: 9.0337\n",
      "Epoch 204/500\n",
      "2/2 [==============================] - 0s 4ms/step - loss: 18.8450 - mae: 18.8450\n",
      "Epoch 205/500\n",
      "2/2 [==============================] - 0s 5ms/step - loss: 9.4273 - mae: 9.4273\n",
      "Epoch 206/500\n",
      "2/2 [==============================] - 0s 5ms/step - loss: 10.4875 - mae: 10.4875\n",
      "Epoch 207/500\n",
      "2/2 [==============================] - 0s 5ms/step - loss: 21.0358 - mae: 21.0358\n",
      "Epoch 208/500\n",
      "2/2 [==============================] - 0s 6ms/step - loss: 16.4593 - mae: 16.4593\n",
      "Epoch 209/500\n",
      "2/2 [==============================] - 0s 4ms/step - loss: 14.3260 - mae: 14.3260\n",
      "Epoch 210/500\n",
      "2/2 [==============================] - 0s 4ms/step - loss: 17.2830 - mae: 17.2830\n",
      "Epoch 211/500\n",
      "2/2 [==============================] - 0s 4ms/step - loss: 10.2956 - mae: 10.2956\n",
      "Epoch 212/500\n",
      "2/2 [==============================] - 0s 5ms/step - loss: 19.7419 - mae: 19.7419\n",
      "Epoch 213/500\n",
      "2/2 [==============================] - 0s 4ms/step - loss: 14.6940 - mae: 14.6940\n",
      "Epoch 214/500\n",
      "2/2 [==============================] - 0s 4ms/step - loss: 14.3730 - mae: 14.3730\n",
      "Epoch 215/500\n",
      "2/2 [==============================] - 0s 5ms/step - loss: 22.8744 - mae: 22.8744\n",
      "Epoch 216/500\n",
      "2/2 [==============================] - 0s 5ms/step - loss: 13.9092 - mae: 13.9092\n",
      "Epoch 217/500\n",
      "2/2 [==============================] - 0s 5ms/step - loss: 10.3523 - mae: 10.3523\n",
      "Epoch 218/500\n",
      "2/2 [==============================] - 0s 4ms/step - loss: 12.2638 - mae: 12.2638\n",
      "Epoch 219/500\n",
      "2/2 [==============================] - 0s 5ms/step - loss: 6.5968 - mae: 6.5968\n",
      "Epoch 220/500\n",
      "2/2 [==============================] - 0s 5ms/step - loss: 7.1743 - mae: 7.1743\n",
      "Epoch 221/500\n",
      "2/2 [==============================] - 0s 4ms/step - loss: 37.4660 - mae: 37.4660\n",
      "Epoch 222/500\n",
      "2/2 [==============================] - 0s 5ms/step - loss: 37.2697 - mae: 37.2697\n",
      "Epoch 223/500\n",
      "2/2 [==============================] - 0s 4ms/step - loss: 6.1537 - mae: 6.1537\n",
      "Epoch 224/500\n",
      "2/2 [==============================] - 0s 5ms/step - loss: 14.5343 - mae: 14.5343\n",
      "Epoch 225/500\n",
      "2/2 [==============================] - 0s 5ms/step - loss: 16.5484 - mae: 16.5484\n",
      "Epoch 226/500\n",
      "2/2 [==============================] - 0s 4ms/step - loss: 15.7016 - mae: 15.7016\n",
      "Epoch 227/500\n",
      "2/2 [==============================] - 0s 4ms/step - loss: 16.1655 - mae: 16.1655\n",
      "Epoch 228/500\n",
      "2/2 [==============================] - 0s 4ms/step - loss: 9.3314 - mae: 9.3314\n",
      "Epoch 229/500\n",
      "2/2 [==============================] - 0s 4ms/step - loss: 17.9986 - mae: 17.9986\n",
      "Epoch 230/500\n",
      "2/2 [==============================] - 0s 4ms/step - loss: 15.5963 - mae: 15.5963\n",
      "Epoch 231/500\n",
      "2/2 [==============================] - 0s 5ms/step - loss: 21.1180 - mae: 21.1180\n",
      "Epoch 232/500\n",
      "2/2 [==============================] - 0s 5ms/step - loss: 25.4922 - mae: 25.4922\n",
      "Epoch 233/500\n",
      "2/2 [==============================] - 0s 5ms/step - loss: 16.5021 - mae: 16.5021\n",
      "Epoch 234/500\n",
      "2/2 [==============================] - 0s 5ms/step - loss: 7.3866 - mae: 7.3866\n",
      "Epoch 235/500\n",
      "2/2 [==============================] - 0s 4ms/step - loss: 17.1322 - mae: 17.1322\n",
      "Epoch 236/500\n",
      "2/2 [==============================] - 0s 4ms/step - loss: 7.2391 - mae: 7.2391\n",
      "Epoch 237/500\n",
      "2/2 [==============================] - 0s 5ms/step - loss: 9.3279 - mae: 9.3279\n",
      "Epoch 238/500\n",
      "2/2 [==============================] - 0s 4ms/step - loss: 8.1936 - mae: 8.1936\n",
      "Epoch 239/500\n",
      "2/2 [==============================] - 0s 5ms/step - loss: 17.0982 - mae: 17.0982\n",
      "Epoch 240/500\n",
      "2/2 [==============================] - 0s 4ms/step - loss: 8.9495 - mae: 8.9495\n",
      "Epoch 241/500\n",
      "2/2 [==============================] - 0s 3ms/step - loss: 12.8420 - mae: 12.8420\n",
      "Epoch 242/500\n",
      "2/2 [==============================] - 0s 5ms/step - loss: 10.9577 - mae: 10.9577\n",
      "Epoch 243/500\n",
      "2/2 [==============================] - 0s 5ms/step - loss: 17.3882 - mae: 17.3882\n",
      "Epoch 244/500\n",
      "2/2 [==============================] - 0s 5ms/step - loss: 14.5082 - mae: 14.5082\n",
      "Epoch 245/500\n",
      "2/2 [==============================] - 0s 4ms/step - loss: 15.0791 - mae: 15.0791\n",
      "Epoch 246/500\n",
      "2/2 [==============================] - 0s 5ms/step - loss: 16.1868 - mae: 16.1868\n",
      "Epoch 247/500\n",
      "2/2 [==============================] - 0s 6ms/step - loss: 18.1852 - mae: 18.1852\n",
      "Epoch 248/500\n",
      "2/2 [==============================] - 0s 5ms/step - loss: 13.7161 - mae: 13.7161\n",
      "Epoch 249/500\n",
      "2/2 [==============================] - 0s 4ms/step - loss: 14.8143 - mae: 14.8143\n",
      "Epoch 250/500\n",
      "2/2 [==============================] - 0s 4ms/step - loss: 23.8029 - mae: 23.8029\n",
      "Epoch 251/500\n",
      "2/2 [==============================] - 0s 4ms/step - loss: 13.5856 - mae: 13.5856\n",
      "Epoch 252/500\n",
      "2/2 [==============================] - 0s 5ms/step - loss: 22.5173 - mae: 22.5173\n",
      "Epoch 253/500\n",
      "2/2 [==============================] - 0s 3ms/step - loss: 9.8356 - mae: 9.8356\n",
      "Epoch 254/500\n",
      "2/2 [==============================] - 0s 5ms/step - loss: 15.7925 - mae: 15.7925\n",
      "Epoch 255/500\n",
      "2/2 [==============================] - 0s 5ms/step - loss: 13.5461 - mae: 13.5461\n",
      "Epoch 256/500\n",
      "2/2 [==============================] - 0s 5ms/step - loss: 9.9603 - mae: 9.9603\n",
      "Epoch 257/500\n",
      "2/2 [==============================] - 0s 4ms/step - loss: 14.5997 - mae: 14.5997\n",
      "Epoch 258/500\n",
      "2/2 [==============================] - 0s 5ms/step - loss: 5.2967 - mae: 5.2967\n"
     ]
    },
    {
     "name": "stdout",
     "output_type": "stream",
     "text": [
      "Epoch 259/500\n",
      "2/2 [==============================] - 0s 5ms/step - loss: 16.6544 - mae: 16.6544\n",
      "Epoch 260/500\n",
      "2/2 [==============================] - 0s 5ms/step - loss: 49.5173 - mae: 49.5173\n",
      "Epoch 261/500\n",
      "2/2 [==============================] - 0s 4ms/step - loss: 22.5086 - mae: 22.5086\n",
      "Epoch 262/500\n",
      "2/2 [==============================] - 0s 5ms/step - loss: 4.7558 - mae: 4.7558\n",
      "Epoch 263/500\n",
      "2/2 [==============================] - 0s 5ms/step - loss: 9.3419 - mae: 9.3419\n",
      "Epoch 264/500\n",
      "2/2 [==============================] - 0s 4ms/step - loss: 22.8521 - mae: 22.8521\n",
      "Epoch 265/500\n",
      "2/2 [==============================] - 0s 5ms/step - loss: 10.8043 - mae: 10.8043\n",
      "Epoch 266/500\n",
      "2/2 [==============================] - 0s 5ms/step - loss: 13.2497 - mae: 13.2497\n",
      "Epoch 267/500\n",
      "2/2 [==============================] - 0s 5ms/step - loss: 11.0761 - mae: 11.0761\n",
      "Epoch 268/500\n",
      "2/2 [==============================] - 0s 5ms/step - loss: 19.0989 - mae: 19.0989\n",
      "Epoch 269/500\n",
      "2/2 [==============================] - 0s 4ms/step - loss: 40.9000 - mae: 40.9000\n",
      "Epoch 270/500\n",
      "2/2 [==============================] - 0s 4ms/step - loss: 13.0620 - mae: 13.0620\n",
      "Epoch 271/500\n",
      "2/2 [==============================] - 0s 5ms/step - loss: 14.7620 - mae: 14.7620\n",
      "Epoch 272/500\n",
      "2/2 [==============================] - 0s 5ms/step - loss: 28.4873 - mae: 28.4873\n",
      "Epoch 273/500\n",
      "2/2 [==============================] - 0s 4ms/step - loss: 7.4488 - mae: 7.4488\n",
      "Epoch 274/500\n",
      "2/2 [==============================] - 0s 5ms/step - loss: 6.4034 - mae: 6.4034\n",
      "Epoch 275/500\n",
      "2/2 [==============================] - 0s 4ms/step - loss: 36.9852 - mae: 36.9852\n",
      "Epoch 276/500\n",
      "2/2 [==============================] - 0s 3ms/step - loss: 8.3500 - mae: 8.3500\n",
      "Epoch 277/500\n",
      "2/2 [==============================] - 0s 5ms/step - loss: 27.7776 - mae: 27.7776\n",
      "Epoch 278/500\n",
      "2/2 [==============================] - 0s 4ms/step - loss: 10.6956 - mae: 10.6956\n",
      "Epoch 279/500\n",
      "2/2 [==============================] - 0s 4ms/step - loss: 16.1203 - mae: 16.1203\n",
      "Epoch 280/500\n",
      "2/2 [==============================] - 0s 5ms/step - loss: 21.2381 - mae: 21.2381\n",
      "Epoch 281/500\n",
      "2/2 [==============================] - 0s 5ms/step - loss: 23.7853 - mae: 23.7853\n",
      "Epoch 282/500\n",
      "2/2 [==============================] - 0s 5ms/step - loss: 8.3116 - mae: 8.3116\n",
      "Epoch 283/500\n",
      "2/2 [==============================] - 0s 5ms/step - loss: 8.4881 - mae: 8.4881\n",
      "Epoch 284/500\n",
      "2/2 [==============================] - 0s 7ms/step - loss: 26.5882 - mae: 26.5882\n",
      "Epoch 285/500\n",
      "2/2 [==============================] - 0s 7ms/step - loss: 14.2073 - mae: 14.2073\n",
      "Epoch 286/500\n",
      "2/2 [==============================] - 0s 8ms/step - loss: 5.3041 - mae: 5.3041\n",
      "Epoch 287/500\n",
      "2/2 [==============================] - 0s 5ms/step - loss: 20.8478 - mae: 20.8478\n",
      "Epoch 288/500\n",
      "2/2 [==============================] - 0s 5ms/step - loss: 27.5393 - mae: 27.5393\n",
      "Epoch 289/500\n",
      "2/2 [==============================] - 0s 4ms/step - loss: 10.4689 - mae: 10.4689\n",
      "Epoch 290/500\n",
      "2/2 [==============================] - 0s 5ms/step - loss: 16.3391 - mae: 16.3391\n",
      "Epoch 291/500\n",
      "2/2 [==============================] - 0s 3ms/step - loss: 16.5370 - mae: 16.5370\n",
      "Epoch 292/500\n",
      "2/2 [==============================] - 0s 5ms/step - loss: 7.4778 - mae: 7.4778\n",
      "Epoch 293/500\n",
      "2/2 [==============================] - 0s 5ms/step - loss: 16.5786 - mae: 16.5786\n",
      "Epoch 294/500\n",
      "2/2 [==============================] - 0s 5ms/step - loss: 25.3769 - mae: 25.3769\n",
      "Epoch 295/500\n",
      "2/2 [==============================] - 0s 4ms/step - loss: 14.4947 - mae: 14.4947\n",
      "Epoch 296/500\n",
      "2/2 [==============================] - 0s 4ms/step - loss: 4.7275 - mae: 4.7275\n",
      "Epoch 297/500\n",
      "2/2 [==============================] - 0s 4ms/step - loss: 6.3029 - mae: 6.3029\n",
      "Epoch 298/500\n",
      "2/2 [==============================] - 0s 4ms/step - loss: 26.5923 - mae: 26.5923\n",
      "Epoch 299/500\n",
      "2/2 [==============================] - 0s 5ms/step - loss: 7.2713 - mae: 7.2713\n",
      "Epoch 300/500\n",
      "2/2 [==============================] - 0s 6ms/step - loss: 26.7379 - mae: 26.7379\n",
      "Epoch 301/500\n",
      "2/2 [==============================] - 0s 5ms/step - loss: 11.7715 - mae: 11.7715\n",
      "Epoch 302/500\n",
      "2/2 [==============================] - 0s 4ms/step - loss: 7.9076 - mae: 7.9076\n",
      "Epoch 303/500\n",
      "2/2 [==============================] - 0s 4ms/step - loss: 19.7827 - mae: 19.7827\n",
      "Epoch 304/500\n",
      "2/2 [==============================] - 0s 4ms/step - loss: 13.6376 - mae: 13.6376\n",
      "Epoch 305/500\n",
      "2/2 [==============================] - 0s 5ms/step - loss: 7.0846 - mae: 7.0846\n",
      "Epoch 306/500\n",
      "2/2 [==============================] - 0s 5ms/step - loss: 19.1101 - mae: 19.1101\n",
      "Epoch 307/500\n",
      "2/2 [==============================] - 0s 5ms/step - loss: 9.5511 - mae: 9.5511\n",
      "Epoch 308/500\n",
      "2/2 [==============================] - 0s 5ms/step - loss: 20.0195 - mae: 20.0195\n",
      "Epoch 309/500\n",
      "2/2 [==============================] - 0s 5ms/step - loss: 14.7060 - mae: 14.7060\n",
      "Epoch 310/500\n",
      "2/2 [==============================] - 0s 6ms/step - loss: 4.3325 - mae: 4.3325\n",
      "Epoch 311/500\n",
      "2/2 [==============================] - 0s 5ms/step - loss: 10.2978 - mae: 10.2978\n",
      "Epoch 312/500\n",
      "2/2 [==============================] - 0s 5ms/step - loss: 21.2703 - mae: 21.2703\n",
      "Epoch 313/500\n",
      "2/2 [==============================] - 0s 6ms/step - loss: 14.5622 - mae: 14.5622\n",
      "Epoch 314/500\n",
      "2/2 [==============================] - 0s 6ms/step - loss: 13.1062 - mae: 13.1062\n",
      "Epoch 315/500\n",
      "2/2 [==============================] - 0s 5ms/step - loss: 22.5808 - mae: 22.5808\n",
      "Epoch 316/500\n",
      "2/2 [==============================] - 0s 6ms/step - loss: 16.3813 - mae: 16.3813\n",
      "Epoch 317/500\n",
      "2/2 [==============================] - 0s 5ms/step - loss: 20.9464 - mae: 20.9464\n",
      "Epoch 318/500\n",
      "2/2 [==============================] - 0s 5ms/step - loss: 9.3151 - mae: 9.3151\n",
      "Epoch 319/500\n",
      "2/2 [==============================] - 0s 5ms/step - loss: 11.9056 - mae: 11.9056\n",
      "Epoch 320/500\n",
      "2/2 [==============================] - 0s 5ms/step - loss: 12.5396 - mae: 12.5396\n",
      "Epoch 321/500\n",
      "2/2 [==============================] - 0s 5ms/step - loss: 4.9405 - mae: 4.9405\n",
      "Epoch 322/500\n",
      "2/2 [==============================] - 0s 5ms/step - loss: 13.5405 - mae: 13.5405\n",
      "Epoch 323/500\n",
      "2/2 [==============================] - 0s 5ms/step - loss: 17.8303 - mae: 17.8303\n",
      "Epoch 324/500\n",
      "2/2 [==============================] - 0s 7ms/step - loss: 15.9330 - mae: 15.9330\n",
      "Epoch 325/500\n",
      "2/2 [==============================] - 0s 9ms/step - loss: 17.5893 - mae: 17.5893\n",
      "Epoch 326/500\n",
      "2/2 [==============================] - 0s 6ms/step - loss: 23.9597 - mae: 23.9597\n",
      "Epoch 327/500\n",
      "2/2 [==============================] - 0s 4ms/step - loss: 10.1648 - mae: 10.1648\n",
      "Epoch 328/500\n",
      "2/2 [==============================] - 0s 5ms/step - loss: 11.8478 - mae: 11.8478\n",
      "Epoch 329/500\n",
      "2/2 [==============================] - 0s 5ms/step - loss: 16.5732 - mae: 16.5732\n",
      "Epoch 330/500\n",
      "2/2 [==============================] - 0s 5ms/step - loss: 7.2579 - mae: 7.2579\n",
      "Epoch 331/500\n",
      "2/2 [==============================] - 0s 5ms/step - loss: 22.1155 - mae: 22.1155\n",
      "Epoch 332/500\n",
      "2/2 [==============================] - 0s 5ms/step - loss: 13.0723 - mae: 13.0723\n",
      "Epoch 333/500\n",
      "2/2 [==============================] - 0s 6ms/step - loss: 9.6260 - mae: 9.6260\n",
      "Epoch 334/500\n",
      "2/2 [==============================] - 0s 8ms/step - loss: 7.7613 - mae: 7.7613\n",
      "Epoch 335/500\n",
      "2/2 [==============================] - 0s 8ms/step - loss: 6.2599 - mae: 6.2599\n",
      "Epoch 336/500\n",
      "2/2 [==============================] - 0s 6ms/step - loss: 38.5699 - mae: 38.5699\n",
      "Epoch 337/500\n",
      "2/2 [==============================] - 0s 5ms/step - loss: 29.9027 - mae: 29.9027\n",
      "Epoch 338/500\n",
      "2/2 [==============================] - 0s 4ms/step - loss: 16.3075 - mae: 16.3075\n",
      "Epoch 339/500\n",
      "2/2 [==============================] - 0s 5ms/step - loss: 9.7545 - mae: 9.7545\n",
      "Epoch 340/500\n",
      "2/2 [==============================] - 0s 4ms/step - loss: 8.6630 - mae: 8.6630\n",
      "Epoch 341/500\n",
      "2/2 [==============================] - 0s 5ms/step - loss: 21.7731 - mae: 21.7731\n",
      "Epoch 342/500\n",
      "2/2 [==============================] - 0s 4ms/step - loss: 14.0094 - mae: 14.0094\n",
      "Epoch 343/500\n",
      "2/2 [==============================] - 0s 6ms/step - loss: 11.5262 - mae: 11.5262\n",
      "Epoch 344/500\n"
     ]
    },
    {
     "name": "stdout",
     "output_type": "stream",
     "text": [
      "2/2 [==============================] - 0s 4ms/step - loss: 10.6793 - mae: 10.6793\n",
      "Epoch 345/500\n",
      "2/2 [==============================] - 0s 5ms/step - loss: 30.8264 - mae: 30.8264\n",
      "Epoch 346/500\n",
      "2/2 [==============================] - 0s 5ms/step - loss: 10.0581 - mae: 10.0581\n",
      "Epoch 347/500\n",
      "2/2 [==============================] - 0s 5ms/step - loss: 25.9349 - mae: 25.9349\n",
      "Epoch 348/500\n",
      "2/2 [==============================] - 0s 4ms/step - loss: 12.2751 - mae: 12.2751\n",
      "Epoch 349/500\n",
      "2/2 [==============================] - 0s 4ms/step - loss: 12.6661 - mae: 12.6661\n",
      "Epoch 350/500\n",
      "2/2 [==============================] - 0s 5ms/step - loss: 15.2807 - mae: 15.2807\n",
      "Epoch 351/500\n",
      "2/2 [==============================] - 0s 5ms/step - loss: 32.6374 - mae: 32.6374\n",
      "Epoch 352/500\n",
      "2/2 [==============================] - 0s 5ms/step - loss: 13.6408 - mae: 13.6408\n",
      "Epoch 353/500\n",
      "2/2 [==============================] - 0s 5ms/step - loss: 17.5643 - mae: 17.5643\n",
      "Epoch 354/500\n",
      "2/2 [==============================] - 0s 5ms/step - loss: 11.2443 - mae: 11.2443\n",
      "Epoch 355/500\n",
      "2/2 [==============================] - 0s 6ms/step - loss: 26.5532 - mae: 26.5532\n",
      "Epoch 356/500\n",
      "2/2 [==============================] - 0s 5ms/step - loss: 10.8283 - mae: 10.8283\n",
      "Epoch 357/500\n",
      "2/2 [==============================] - 0s 5ms/step - loss: 13.0599 - mae: 13.0599\n",
      "Epoch 358/500\n",
      "2/2 [==============================] - 0s 6ms/step - loss: 14.4039 - mae: 14.4039\n",
      "Epoch 359/500\n",
      "2/2 [==============================] - 0s 6ms/step - loss: 12.3993 - mae: 12.3993\n",
      "Epoch 360/500\n",
      "2/2 [==============================] - 0s 5ms/step - loss: 20.4471 - mae: 20.4471\n",
      "Epoch 361/500\n",
      "2/2 [==============================] - 0s 8ms/step - loss: 10.7468 - mae: 10.7468\n",
      "Epoch 362/500\n",
      "2/2 [==============================] - 0s 4ms/step - loss: 6.7983 - mae: 6.7983\n",
      "Epoch 363/500\n",
      "2/2 [==============================] - 0s 5ms/step - loss: 23.5983 - mae: 23.5983\n",
      "Epoch 364/500\n",
      "2/2 [==============================] - 0s 5ms/step - loss: 29.2234 - mae: 29.2234\n",
      "Epoch 365/500\n",
      "2/2 [==============================] - 0s 4ms/step - loss: 8.1918 - mae: 8.1918\n",
      "Epoch 366/500\n",
      "2/2 [==============================] - 0s 5ms/step - loss: 6.1072 - mae: 6.1072\n",
      "Epoch 367/500\n",
      "2/2 [==============================] - 0s 5ms/step - loss: 34.2693 - mae: 34.2693\n",
      "Epoch 368/500\n",
      "2/2 [==============================] - 0s 5ms/step - loss: 7.2881 - mae: 7.2881\n",
      "Epoch 369/500\n",
      "2/2 [==============================] - 0s 5ms/step - loss: 8.1365 - mae: 8.1365\n",
      "Epoch 370/500\n",
      "2/2 [==============================] - 0s 4ms/step - loss: 17.8802 - mae: 17.8802\n",
      "Epoch 371/500\n",
      "2/2 [==============================] - 0s 5ms/step - loss: 6.9996 - mae: 6.9996\n",
      "Epoch 372/500\n",
      "2/2 [==============================] - 0s 5ms/step - loss: 6.6139 - mae: 6.6139\n",
      "Epoch 373/500\n",
      "2/2 [==============================] - 0s 6ms/step - loss: 24.6225 - mae: 24.6225\n",
      "Epoch 374/500\n",
      "2/2 [==============================] - 0s 6ms/step - loss: 9.7818 - mae: 9.7818\n",
      "Epoch 375/500\n",
      "2/2 [==============================] - 0s 6ms/step - loss: 13.1146 - mae: 13.1146\n",
      "Epoch 376/500\n",
      "2/2 [==============================] - 0s 6ms/step - loss: 15.0019 - mae: 15.0019\n",
      "Epoch 377/500\n",
      "2/2 [==============================] - 0s 5ms/step - loss: 14.8814 - mae: 14.8814\n",
      "Epoch 378/500\n",
      "2/2 [==============================] - 0s 6ms/step - loss: 16.3400 - mae: 16.3400\n",
      "Epoch 379/500\n",
      "2/2 [==============================] - 0s 6ms/step - loss: 20.9833 - mae: 20.9833\n",
      "Epoch 380/500\n",
      "2/2 [==============================] - 0s 5ms/step - loss: 33.1052 - mae: 33.1052\n",
      "Epoch 381/500\n",
      "2/2 [==============================] - 0s 6ms/step - loss: 8.1064 - mae: 8.1064\n",
      "Epoch 382/500\n",
      "2/2 [==============================] - 0s 4ms/step - loss: 12.6886 - mae: 12.6886\n",
      "Epoch 383/500\n",
      "2/2 [==============================] - 0s 5ms/step - loss: 7.1386 - mae: 7.1386\n",
      "Epoch 384/500\n",
      "2/2 [==============================] - 0s 7ms/step - loss: 6.5632 - mae: 6.5632\n",
      "Epoch 385/500\n",
      "2/2 [==============================] - 0s 5ms/step - loss: 11.5632 - mae: 11.5632\n",
      "Epoch 386/500\n",
      "2/2 [==============================] - 0s 4ms/step - loss: 19.8334 - mae: 19.8334\n",
      "Epoch 387/500\n",
      "2/2 [==============================] - 0s 5ms/step - loss: 24.7102 - mae: 24.7102\n",
      "Epoch 388/500\n",
      "2/2 [==============================] - 0s 5ms/step - loss: 8.6745 - mae: 8.6745\n",
      "Epoch 389/500\n",
      "2/2 [==============================] - 0s 4ms/step - loss: 5.9252 - mae: 5.9252\n",
      "Epoch 390/500\n",
      "2/2 [==============================] - 0s 5ms/step - loss: 24.2848 - mae: 24.2848\n",
      "Epoch 391/500\n",
      "2/2 [==============================] - 0s 5ms/step - loss: 5.9459 - mae: 5.9459\n",
      "Epoch 392/500\n",
      "2/2 [==============================] - 0s 6ms/step - loss: 16.0615 - mae: 16.0615\n",
      "Epoch 393/500\n",
      "2/2 [==============================] - 0s 5ms/step - loss: 6.4629 - mae: 6.4629\n",
      "Epoch 394/500\n",
      "2/2 [==============================] - 0s 5ms/step - loss: 12.5105 - mae: 12.5105\n",
      "Epoch 395/500\n",
      "2/2 [==============================] - 0s 5ms/step - loss: 12.3821 - mae: 12.3821\n",
      "Epoch 396/500\n",
      "2/2 [==============================] - 0s 5ms/step - loss: 7.3219 - mae: 7.3219\n",
      "Epoch 397/500\n",
      "2/2 [==============================] - 0s 5ms/step - loss: 7.5830 - mae: 7.5830\n",
      "Epoch 398/500\n",
      "2/2 [==============================] - 0s 5ms/step - loss: 20.3169 - mae: 20.3169\n",
      "Epoch 399/500\n",
      "2/2 [==============================] - 0s 4ms/step - loss: 5.8910 - mae: 5.8910\n",
      "Epoch 400/500\n",
      "2/2 [==============================] - 0s 4ms/step - loss: 24.6214 - mae: 24.6214\n",
      "Epoch 401/500\n",
      "2/2 [==============================] - 0s 6ms/step - loss: 13.1692 - mae: 13.1692\n",
      "Epoch 402/500\n",
      "2/2 [==============================] - 0s 5ms/step - loss: 8.3413 - mae: 8.3413\n",
      "Epoch 403/500\n",
      "2/2 [==============================] - 0s 5ms/step - loss: 9.8650 - mae: 9.8650\n",
      "Epoch 404/500\n",
      "2/2 [==============================] - 0s 4ms/step - loss: 12.6233 - mae: 12.6233\n",
      "Epoch 405/500\n",
      "2/2 [==============================] - 0s 4ms/step - loss: 8.7437 - mae: 8.7437\n",
      "Epoch 406/500\n",
      "2/2 [==============================] - 0s 5ms/step - loss: 21.5965 - mae: 21.5965\n",
      "Epoch 407/500\n",
      "2/2 [==============================] - 0s 5ms/step - loss: 20.4471 - mae: 20.4471\n",
      "Epoch 408/500\n",
      "2/2 [==============================] - 0s 4ms/step - loss: 10.6885 - mae: 10.6885\n",
      "Epoch 409/500\n",
      "2/2 [==============================] - 0s 5ms/step - loss: 6.5565 - mae: 6.5565\n",
      "Epoch 410/500\n",
      "2/2 [==============================] - 0s 4ms/step - loss: 6.3073 - mae: 6.3073\n",
      "Epoch 411/500\n",
      "2/2 [==============================] - 0s 6ms/step - loss: 16.0606 - mae: 16.0606\n",
      "Epoch 412/500\n",
      "2/2 [==============================] - 0s 5ms/step - loss: 5.1187 - mae: 5.1187\n",
      "Epoch 413/500\n",
      "2/2 [==============================] - 0s 4ms/step - loss: 7.1723 - mae: 7.1723\n",
      "Epoch 414/500\n",
      "2/2 [==============================] - 0s 5ms/step - loss: 17.9440 - mae: 17.9440\n",
      "Epoch 415/500\n",
      "2/2 [==============================] - 0s 5ms/step - loss: 12.3737 - mae: 12.3737\n",
      "Epoch 416/500\n",
      "2/2 [==============================] - 0s 4ms/step - loss: 26.2489 - mae: 26.2489\n",
      "Epoch 417/500\n",
      "2/2 [==============================] - 0s 5ms/step - loss: 13.9837 - mae: 13.9837\n",
      "Epoch 418/500\n",
      "2/2 [==============================] - 0s 5ms/step - loss: 13.0919 - mae: 13.0919\n",
      "Epoch 419/500\n",
      "2/2 [==============================] - 0s 5ms/step - loss: 16.0507 - mae: 16.0507\n",
      "Epoch 420/500\n",
      "2/2 [==============================] - 0s 4ms/step - loss: 25.1012 - mae: 25.1012\n",
      "Epoch 421/500\n",
      "2/2 [==============================] - 0s 4ms/step - loss: 16.5131 - mae: 16.5131\n",
      "Epoch 422/500\n",
      "2/2 [==============================] - 0s 6ms/step - loss: 8.7017 - mae: 8.7017\n",
      "Epoch 423/500\n",
      "2/2 [==============================] - 0s 5ms/step - loss: 24.8297 - mae: 24.8297\n",
      "Epoch 424/500\n",
      "2/2 [==============================] - 0s 5ms/step - loss: 16.4360 - mae: 16.4360\n",
      "Epoch 425/500\n",
      "2/2 [==============================] - 0s 6ms/step - loss: 7.2202 - mae: 7.2202\n",
      "Epoch 426/500\n",
      "2/2 [==============================] - 0s 4ms/step - loss: 20.5665 - mae: 20.5665\n",
      "Epoch 427/500\n",
      "2/2 [==============================] - 0s 5ms/step - loss: 6.3880 - mae: 6.3880\n",
      "Epoch 428/500\n",
      "2/2 [==============================] - 0s 5ms/step - loss: 13.1547 - mae: 13.1547\n",
      "Epoch 429/500\n",
      "2/2 [==============================] - 0s 5ms/step - loss: 10.9234 - mae: 10.9234\n",
      "Epoch 430/500\n"
     ]
    },
    {
     "name": "stdout",
     "output_type": "stream",
     "text": [
      "2/2 [==============================] - 0s 6ms/step - loss: 11.7925 - mae: 11.7925\n",
      "Epoch 431/500\n",
      "2/2 [==============================] - 0s 5ms/step - loss: 7.9496 - mae: 7.9496\n",
      "Epoch 432/500\n",
      "2/2 [==============================] - 0s 5ms/step - loss: 22.2353 - mae: 22.2353\n",
      "Epoch 433/500\n",
      "2/2 [==============================] - 0s 5ms/step - loss: 5.9330 - mae: 5.9330\n",
      "Epoch 434/500\n",
      "2/2 [==============================] - 0s 4ms/step - loss: 32.6460 - mae: 32.6460\n",
      "Epoch 435/500\n",
      "2/2 [==============================] - 0s 6ms/step - loss: 13.4939 - mae: 13.4939\n",
      "Epoch 436/500\n",
      "2/2 [==============================] - 0s 4ms/step - loss: 29.0609 - mae: 29.0609\n",
      "Epoch 437/500\n",
      "2/2 [==============================] - 0s 5ms/step - loss: 9.1855 - mae: 9.1855\n",
      "Epoch 438/500\n",
      "2/2 [==============================] - 0s 4ms/step - loss: 12.3627 - mae: 12.3627\n",
      "Epoch 439/500\n",
      "2/2 [==============================] - 0s 5ms/step - loss: 33.6522 - mae: 33.6522\n",
      "Epoch 440/500\n",
      "2/2 [==============================] - 0s 5ms/step - loss: 15.0506 - mae: 15.0506\n",
      "Epoch 441/500\n",
      "2/2 [==============================] - 0s 6ms/step - loss: 17.4473 - mae: 17.4473\n",
      "Epoch 442/500\n",
      "2/2 [==============================] - 0s 5ms/step - loss: 22.2392 - mae: 22.2392\n",
      "Epoch 443/500\n",
      "2/2 [==============================] - 0s 4ms/step - loss: 23.7422 - mae: 23.7422\n",
      "Epoch 444/500\n",
      "2/2 [==============================] - 0s 5ms/step - loss: 11.1241 - mae: 11.1241\n",
      "Epoch 445/500\n",
      "2/2 [==============================] - 0s 4ms/step - loss: 14.8770 - mae: 14.8770\n",
      "Epoch 446/500\n",
      "2/2 [==============================] - 0s 4ms/step - loss: 17.9400 - mae: 17.9400\n",
      "Epoch 447/500\n",
      "2/2 [==============================] - 0s 5ms/step - loss: 5.4960 - mae: 5.4960\n",
      "Epoch 448/500\n",
      "2/2 [==============================] - 0s 4ms/step - loss: 9.6575 - mae: 9.6575\n",
      "Epoch 449/500\n",
      "2/2 [==============================] - 0s 5ms/step - loss: 14.2946 - mae: 14.2946\n",
      "Epoch 450/500\n",
      "2/2 [==============================] - 0s 5ms/step - loss: 17.0558 - mae: 17.0558\n",
      "Epoch 451/500\n",
      "2/2 [==============================] - 0s 5ms/step - loss: 14.4062 - mae: 14.4062\n",
      "Epoch 452/500\n",
      "2/2 [==============================] - 0s 6ms/step - loss: 30.8682 - mae: 30.8682\n",
      "Epoch 453/500\n",
      "2/2 [==============================] - 0s 4ms/step - loss: 9.1319 - mae: 9.1319\n",
      "Epoch 454/500\n",
      "2/2 [==============================] - 0s 5ms/step - loss: 27.2356 - mae: 27.2356\n",
      "Epoch 455/500\n",
      "2/2 [==============================] - 0s 4ms/step - loss: 11.2898 - mae: 11.2898\n",
      "Epoch 456/500\n",
      "2/2 [==============================] - 0s 5ms/step - loss: 15.6773 - mae: 15.6773\n",
      "Epoch 457/500\n",
      "2/2 [==============================] - 0s 4ms/step - loss: 19.3592 - mae: 19.3592\n",
      "Epoch 458/500\n",
      "2/2 [==============================] - 0s 5ms/step - loss: 22.8506 - mae: 22.8506\n",
      "Epoch 459/500\n",
      "2/2 [==============================] - 0s 6ms/step - loss: 16.2335 - mae: 16.2335\n",
      "Epoch 460/500\n",
      "2/2 [==============================] - 0s 6ms/step - loss: 4.0841 - mae: 4.0841\n",
      "Epoch 461/500\n",
      "2/2 [==============================] - 0s 5ms/step - loss: 16.1440 - mae: 16.1440\n",
      "Epoch 462/500\n",
      "2/2 [==============================] - 0s 5ms/step - loss: 15.5704 - mae: 15.5704\n",
      "Epoch 463/500\n",
      "2/2 [==============================] - 0s 5ms/step - loss: 17.3569 - mae: 17.3569\n",
      "Epoch 464/500\n",
      "2/2 [==============================] - 0s 5ms/step - loss: 11.5652 - mae: 11.5652\n",
      "Epoch 465/500\n",
      "2/2 [==============================] - 0s 4ms/step - loss: 22.2520 - mae: 22.2520\n",
      "Epoch 466/500\n",
      "2/2 [==============================] - 0s 7ms/step - loss: 23.3791 - mae: 23.3791\n",
      "Epoch 467/500\n",
      "2/2 [==============================] - 0s 8ms/step - loss: 13.3605 - mae: 13.3605\n",
      "Epoch 468/500\n",
      "2/2 [==============================] - 0s 5ms/step - loss: 10.3646 - mae: 10.3646\n",
      "Epoch 469/500\n",
      "2/2 [==============================] - 0s 6ms/step - loss: 27.3448 - mae: 27.3448\n",
      "Epoch 470/500\n",
      "2/2 [==============================] - 0s 4ms/step - loss: 12.4829 - mae: 12.4829\n",
      "Epoch 471/500\n",
      "2/2 [==============================] - 0s 5ms/step - loss: 12.1419 - mae: 12.1419\n",
      "Epoch 472/500\n",
      "2/2 [==============================] - 0s 4ms/step - loss: 15.4973 - mae: 15.4973\n",
      "Epoch 473/500\n",
      "2/2 [==============================] - 0s 5ms/step - loss: 15.5051 - mae: 15.5051\n",
      "Epoch 474/500\n",
      "2/2 [==============================] - 0s 5ms/step - loss: 9.1362 - mae: 9.1362\n",
      "Epoch 475/500\n",
      "2/2 [==============================] - 0s 5ms/step - loss: 7.1747 - mae: 7.1747\n",
      "Epoch 476/500\n",
      "2/2 [==============================] - 0s 5ms/step - loss: 11.9130 - mae: 11.9130\n",
      "Epoch 477/500\n",
      "2/2 [==============================] - 0s 5ms/step - loss: 27.9532 - mae: 27.9532\n",
      "Epoch 478/500\n",
      "2/2 [==============================] - 0s 6ms/step - loss: 8.3705 - mae: 8.3705\n",
      "Epoch 479/500\n",
      "2/2 [==============================] - 0s 5ms/step - loss: 10.6468 - mae: 10.6468\n",
      "Epoch 480/500\n",
      "2/2 [==============================] - 0s 5ms/step - loss: 17.8323 - mae: 17.8323\n",
      "Epoch 481/500\n",
      "2/2 [==============================] - 0s 5ms/step - loss: 15.7560 - mae: 15.7560\n",
      "Epoch 482/500\n",
      "2/2 [==============================] - 0s 5ms/step - loss: 21.1866 - mae: 21.1866\n",
      "Epoch 483/500\n",
      "2/2 [==============================] - 0s 6ms/step - loss: 25.7079 - mae: 25.7079\n",
      "Epoch 484/500\n",
      "2/2 [==============================] - 0s 7ms/step - loss: 24.3220 - mae: 24.3220\n",
      "Epoch 485/500\n",
      "2/2 [==============================] - 0s 5ms/step - loss: 5.8233 - mae: 5.8233\n",
      "Epoch 486/500\n",
      "2/2 [==============================] - 0s 6ms/step - loss: 20.3566 - mae: 20.3566\n",
      "Epoch 487/500\n",
      "2/2 [==============================] - 0s 5ms/step - loss: 14.0048 - mae: 14.0048\n",
      "Epoch 488/500\n",
      "2/2 [==============================] - 0s 4ms/step - loss: 30.5402 - mae: 30.5402\n",
      "Epoch 489/500\n",
      "2/2 [==============================] - 0s 5ms/step - loss: 11.8267 - mae: 11.8267\n",
      "Epoch 490/500\n",
      "2/2 [==============================] - 0s 4ms/step - loss: 12.4969 - mae: 12.4969\n",
      "Epoch 491/500\n",
      "2/2 [==============================] - 0s 5ms/step - loss: 23.7244 - mae: 23.7244\n",
      "Epoch 492/500\n",
      "2/2 [==============================] - 0s 5ms/step - loss: 20.2708 - mae: 20.2708\n",
      "Epoch 493/500\n",
      "2/2 [==============================] - 0s 5ms/step - loss: 4.9290 - mae: 4.9290\n",
      "Epoch 494/500\n",
      "2/2 [==============================] - 0s 5ms/step - loss: 12.5717 - mae: 12.5717\n",
      "Epoch 495/500\n",
      "2/2 [==============================] - 0s 4ms/step - loss: 13.4702 - mae: 13.4702\n",
      "Epoch 496/500\n",
      "2/2 [==============================] - 0s 4ms/step - loss: 12.7376 - mae: 12.7376\n",
      "Epoch 497/500\n",
      "2/2 [==============================] - 0s 5ms/step - loss: 17.7344 - mae: 17.7344\n",
      "Epoch 498/500\n",
      "2/2 [==============================] - 0s 4ms/step - loss: 23.3011 - mae: 23.3011\n",
      "Epoch 499/500\n",
      "2/2 [==============================] - 0s 4ms/step - loss: 9.0612 - mae: 9.0612\n",
      "Epoch 500/500\n",
      "2/2 [==============================] - 0s 4ms/step - loss: 14.3871 - mae: 14.3871\n"
     ]
    },
    {
     "data": {
      "text/plain": [
       "<keras.callbacks.History at 0x1888965d430>"
      ]
     },
     "execution_count": 72,
     "metadata": {},
     "output_type": "execute_result"
    }
   ],
   "source": [
    "# Set random seed\n",
    "tf.random.set_seed(42)\n",
    "\n",
    "# 1. Create the model\n",
    "model_3 = tf.keras.Sequential([\n",
    "    tf.keras.layers.Dense(10, input_shape=[1], name=\"input_layer\"),\n",
    "    tf.keras.layers.Dense(1, name=\"output_layer\")\n",
    "])\n",
    "\n",
    "# 2. Compile the model\n",
    "model_3.compile(loss=tf.keras.losses.mae,\n",
    "               optimizer=tf.keras.optimizers.SGD(),\n",
    "               metrics=[\"mae\"])\n",
    "\n",
    "# 3. Fit the model\n",
    "model_3.fit(X_train, y_train, epochs=500)"
   ]
  },
  {
   "cell_type": "code",
   "execution_count": 73,
   "id": "1c49346c",
   "metadata": {},
   "outputs": [
    {
     "name": "stdout",
     "output_type": "stream",
     "text": [
      "1/1 [==============================] - 0s 97ms/step\n"
     ]
    },
    {
     "data": {
      "image/png": "[encoded data removed]",
      "text/plain": [
       "<Figure size 720x504 with 1 Axes>"
      ]
     },
     "metadata": {
      "needs_background": "light"
     },
     "output_type": "display_data"
    }
   ],
   "source": [
    "# Make and plot predictions\n",
    "y_preds_3 = model_3.predict(X_test)\n",
    "plot_predictions(predictions=y_preds_3)"
   ]
  },
  {
   "cell_type": "markdown",
   "id": "6577b4b6",
   "metadata": {},
   "source": [
    "This model is even worse than the first model.\n",
    "The reason for such a bad result should be that our model was trained for too long (500 epochs), so it is overfitting (this is a very important concept in Machine Learning, but we will not be cover it in this lesson).    \n",
    "This is a prime example of tweaking some hyper-parameters, even ones that you intuitively think should result in a better result, actually lead to a poor result."
   ]
  },
  {
   "cell_type": "code",
   "execution_count": 74,
   "id": "db92c5b8",
   "metadata": {},
   "outputs": [
    {
     "data": {
      "text/plain": [
       "(<tf.Tensor: shape=(), dtype=float32, numpy=57.91874>,\n",
       " <tf.Tensor: shape=(), dtype=float32, numpy=4697.3936>)"
      ]
     },
     "execution_count": 74,
     "metadata": {},
     "output_type": "execute_result"
    }
   ],
   "source": [
    "# model_3 evaluation metrics\n",
    "mae_3 = mae(X_test, tf.squeeze(y_preds_3))\n",
    "mse_3 = mse(y_test, tf.squeeze(y_preds_3))\n",
    "mae_3, mse_3"
   ]
  },
  {
   "cell_type": "code",
   "execution_count": null,
   "id": "7e03cda5",
   "metadata": {},
   "outputs": [],
   "source": []
  },
  {
   "cell_type": "markdown",
   "id": "deb2a077",
   "metadata": {},
   "source": [
    "🔑**Note** : It is good practice to start by small experiments (small models) and make sure they work, and then increase their scale when necessary."
   ]
  },
  {
   "cell_type": "code",
   "execution_count": null,
   "id": "37a7691e",
   "metadata": {},
   "outputs": [],
   "source": []
  },
  {
   "cell_type": "markdown",
   "id": "74304c21",
   "metadata": {},
   "source": [
    "### Comparing the results of our modelling experiments"
   ]
  },
  {
   "cell_type": "code",
   "execution_count": 75,
   "id": "55749623",
   "metadata": {},
   "outputs": [
    {
     "data": {
      "text/html": [
       "<div>\n",
       "<style scoped>\n",
       "    .dataframe tbody tr th:only-of-type {\n",
       "        vertical-align: middle;\n",
       "    }\n",
       "\n",
       "    .dataframe tbody tr th {\n",
       "        vertical-align: top;\n",
       "    }\n",
       "\n",
       "    .dataframe thead th {\n",
       "        text-align: right;\n",
       "    }\n",
       "</style>\n",
       "<table border=\"1\" class=\"dataframe\">\n",
       "  <thead>\n",
       "    <tr style=\"text-align: right;\">\n",
       "      <th></th>\n",
       "      <th>model</th>\n",
       "      <th>MAE</th>\n",
       "      <th>MSE</th>\n",
       "    </tr>\n",
       "  </thead>\n",
       "  <tbody>\n",
       "    <tr>\n",
       "      <th>0</th>\n",
       "      <td>model_1</td>\n",
       "      <td>tf.Tensor(30.727758, shape=(), dtype=float32)</td>\n",
       "      <td>tf.Tensor(954.6922, shape=(), dtype=float32)</td>\n",
       "    </tr>\n",
       "    <tr>\n",
       "      <th>1</th>\n",
       "      <td>model_2</td>\n",
       "      <td>tf.Tensor(2.0217354, shape=(), dtype=float32)</td>\n",
       "      <td>tf.Tensor(6.0264754, shape=(), dtype=float32)</td>\n",
       "    </tr>\n",
       "    <tr>\n",
       "      <th>2</th>\n",
       "      <td>model_3</td>\n",
       "      <td>tf.Tensor(57.91874, shape=(), dtype=float32)</td>\n",
       "      <td>tf.Tensor(4697.3936, shape=(), dtype=float32)</td>\n",
       "    </tr>\n",
       "  </tbody>\n",
       "</table>\n",
       "</div>"
      ],
      "text/plain": [
       "     model                                            MAE  \\\n",
       "0  model_1  tf.Tensor(30.727758, shape=(), dtype=float32)   \n",
       "1  model_2  tf.Tensor(2.0217354, shape=(), dtype=float32)   \n",
       "2  model_3   tf.Tensor(57.91874, shape=(), dtype=float32)   \n",
       "\n",
       "                                             MSE  \n",
       "0   tf.Tensor(954.6922, shape=(), dtype=float32)  \n",
       "1  tf.Tensor(6.0264754, shape=(), dtype=float32)  \n",
       "2  tf.Tensor(4697.3936, shape=(), dtype=float32)  "
      ]
     },
     "execution_count": 75,
     "metadata": {},
     "output_type": "execute_result"
    }
   ],
   "source": [
    "# Let's compare the result of our models using a dataframe\n",
    "\n",
    "model_results = [[\"model_1\", mae_1, mse_1], \n",
    "                 [\"model_2\", mae_2, mse_2],\n",
    "                 [\"model_3\", mae_3, mse_3]]\n",
    "# model_results = {\n",
    "#     \"model_1\": [ mae_1, mse_1],\n",
    "#     \"model_2\": [mae_2, mse_2],\n",
    "#     \"model_3\": [mae_3, mse_3],\n",
    "# }\n",
    "\n",
    "results_df = pd.DataFrame(model_results, columns=[\"model\",\"MAE\",\"MSE\"])\n",
    "results_df"
   ]
  },
  {
   "cell_type": "markdown",
   "id": "2b2be887",
   "metadata": {},
   "source": [
    "This result is not easily readable. So we will get the numpy value of the MAEs and MSEs"
   ]
  },
  {
   "cell_type": "code",
   "execution_count": 76,
   "id": "30be1716",
   "metadata": {},
   "outputs": [
    {
     "data": {
      "text/html": [
       "<div>\n",
       "<style scoped>\n",
       "    .dataframe tbody tr th:only-of-type {\n",
       "        vertical-align: middle;\n",
       "    }\n",
       "\n",
       "    .dataframe tbody tr th {\n",
       "        vertical-align: top;\n",
       "    }\n",
       "\n",
       "    .dataframe thead th {\n",
       "        text-align: right;\n",
       "    }\n",
       "</style>\n",
       "<table border=\"1\" class=\"dataframe\">\n",
       "  <thead>\n",
       "    <tr style=\"text-align: right;\">\n",
       "      <th></th>\n",
       "      <th>model</th>\n",
       "      <th>MAE</th>\n",
       "      <th>MSE</th>\n",
       "    </tr>\n",
       "  </thead>\n",
       "  <tbody>\n",
       "    <tr>\n",
       "      <th>0</th>\n",
       "      <td>model_1</td>\n",
       "      <td>30.727758</td>\n",
       "      <td>954.692200</td>\n",
       "    </tr>\n",
       "    <tr>\n",
       "      <th>1</th>\n",
       "      <td>model_2</td>\n",
       "      <td>2.021735</td>\n",
       "      <td>6.026475</td>\n",
       "    </tr>\n",
       "    <tr>\n",
       "      <th>2</th>\n",
       "      <td>model_3</td>\n",
       "      <td>57.918739</td>\n",
       "      <td>4697.393555</td>\n",
       "    </tr>\n",
       "  </tbody>\n",
       "</table>\n",
       "</div>"
      ],
      "text/plain": [
       "     model        MAE          MSE\n",
       "0  model_1  30.727758   954.692200\n",
       "1  model_2   2.021735     6.026475\n",
       "2  model_3  57.918739  4697.393555"
      ]
     },
     "execution_count": 76,
     "metadata": {},
     "output_type": "execute_result"
    }
   ],
   "source": [
    "model_results = [[\"model_1\", mae_1.numpy(), mse_1.numpy()], \n",
    "                 [\"model_2\", mae_2.numpy(), mse_2.numpy()],\n",
    "                 [\"model_3\", mae_3.numpy(), mse_3.numpy()]]\n",
    "\n",
    "results_df = pd.DataFrame(model_results, columns=[\"model\",\"MAE\",\"MSE\"])\n",
    "results_df"
   ]
  },
  {
   "cell_type": "markdown",
   "id": "63410c67",
   "metadata": {},
   "source": [
    "From the content of our dataframe, we can observe that model_2 perform the best. So we will look at its content."
   ]
  },
  {
   "cell_type": "code",
   "execution_count": 77,
   "id": "846ebbff",
   "metadata": {},
   "outputs": [
    {
     "name": "stdout",
     "output_type": "stream",
     "text": [
      "Model: \"sequential_10\"\n",
      "_________________________________________________________________\n",
      " Layer (type)                Output Shape              Param #   \n",
      "=================================================================\n",
      " input_layer (Dense)         (None, 10)                20        \n",
      "                                                                 \n",
      " dense_15 (Dense)            (None, 1)                 11        \n",
      "                                                                 \n",
      "=================================================================\n",
      "Total params: 31\n",
      "Trainable params: 31\n",
      "Non-trainable params: 0\n",
      "_________________________________________________________________\n"
     ]
    }
   ],
   "source": [
    "model_2.summary()"
   ]
  },
  {
   "cell_type": "markdown",
   "id": "317ff74b",
   "metadata": {},
   "source": [
    "> 🔑 **Notes** :\n",
    "> * One of our main goal should be to minimize the time between each experiment (so that we don't have to wait, say, 10min before runing the next modelling experiment). \n",
    "> * The more experiments ones does, the more things one will figure out which don't work, and in turn get closer to figure out what does work : it is a lot of trials and errors. Remember the ML practionner motto : experiment, experiment, experiment."
   ]
  },
  {
   "cell_type": "code",
   "execution_count": null,
   "id": "be5903ec",
   "metadata": {},
   "outputs": [],
   "source": []
  },
  {
   "cell_type": "markdown",
   "id": "72c6a165",
   "metadata": {},
   "source": [
    "### Tracking modelling experiments\n",
    "\n",
    "One good habit in ML modelling is to tracks experiments results.    \n",
    "\n",
    "Introducing tools that can help track results of experiments :\n",
    "* [**TensorBoard**](https://www.tensorflow.org/tensorboard) - a component of the TensorFlow library to help track modelling experiments.\n",
    "* [**Weights & Biases**](https://wandb.ai/site) - a tool for tracking all kind of ML experiments; it can be plugged into TensorBoard. \n",
    "\n",
    "TensorBoard's usage will be covered later."
   ]
  },
  {
   "cell_type": "code",
   "execution_count": null,
   "id": "3eedb62e",
   "metadata": {},
   "outputs": [],
   "source": []
  },
  {
   "cell_type": "markdown",
   "id": "2f3c0d83",
   "metadata": {},
   "source": [
    "### Save a model      \n",
    "Saving a model allow us to use it outside our notebook in place such as a web/mobile application.                  \n",
    "There are two main format we can save our model to :\n",
    "* SaveModel format : it is used when the saved model will only be used in the TensorFlow environement      \n",
    "* HDF5 format : it used when the saved model will be used outside of TensorFlow environement"
   ]
  },
  {
   "cell_type": "code",
   "execution_count": 78,
   "id": "4c736d88",
   "metadata": {},
   "outputs": [
    {
     "name": "stdout",
     "output_type": "stream",
     "text": [
      "INFO:tensorflow:Assets written to: ./saved-models/model_2_SaveModel_format\\assets\n"
     ]
    }
   ],
   "source": [
    "# Save a model using SaveModel format\n",
    "model_2.save(\"./saved-models/model_2_SaveModel_format\")"
   ]
  },
  {
   "cell_type": "code",
   "execution_count": 79,
   "id": "26dd5350",
   "metadata": {},
   "outputs": [],
   "source": [
    "# Save model using HDF5 format\n",
    "model_2.save(\"./saved-models/model_2_HDF5_format.h5\")"
   ]
  },
  {
   "cell_type": "code",
   "execution_count": null,
   "id": "1949574d",
   "metadata": {},
   "outputs": [],
   "source": []
  },
  {
   "cell_type": "markdown",
   "id": "e364a2f2",
   "metadata": {},
   "source": [
    "### Load a saved model   \n",
    "\n"
   ]
  },
  {
   "cell_type": "code",
   "execution_count": 80,
   "id": "dab2ffb8",
   "metadata": {},
   "outputs": [
    {
     "name": "stdout",
     "output_type": "stream",
     "text": [
      "Model: \"sequential_10\"\n",
      "_________________________________________________________________\n",
      " Layer (type)                Output Shape              Param #   \n",
      "=================================================================\n",
      " input_layer (Dense)         (None, 10)                20        \n",
      "                                                                 \n",
      " dense_15 (Dense)            (None, 1)                 11        \n",
      "                                                                 \n",
      "=================================================================\n",
      "Total params: 31\n",
      "Trainable params: 31\n",
      "Non-trainable params: 0\n",
      "_________________________________________________________________\n"
     ]
    }
   ],
   "source": [
    "# Recall the structure of our saved model\n",
    "model_2.summary()"
   ]
  },
  {
   "cell_type": "code",
   "execution_count": null,
   "id": "a6b13391",
   "metadata": {},
   "outputs": [],
   "source": []
  },
  {
   "cell_type": "code",
   "execution_count": 81,
   "id": "98a5dade",
   "metadata": {},
   "outputs": [
    {
     "name": "stdout",
     "output_type": "stream",
     "text": [
      "Model: \"sequential_10\"\n",
      "_________________________________________________________________\n",
      " Layer (type)                Output Shape              Param #   \n",
      "=================================================================\n",
      " input_layer (Dense)         (None, 10)                20        \n",
      "                                                                 \n",
      " dense_15 (Dense)            (None, 1)                 11        \n",
      "                                                                 \n",
      "=================================================================\n",
      "Total params: 31\n",
      "Trainable params: 31\n",
      "Non-trainable params: 0\n",
      "_________________________________________________________________\n"
     ]
    }
   ],
   "source": [
    "# Load the SaveModel format model\n",
    "loaded_SaveModel_format = tf.keras.models.load_model(\"./saved-models/model_2_SaveModel_format\")\n",
    "loaded_SaveModel_format.summary()"
   ]
  },
  {
   "cell_type": "markdown",
   "id": "9bedb2a3",
   "metadata": {},
   "source": [
    "We can confirm that loaded_SaveModel_format has the same structure as model_2, by looking at their .summary().      \n",
    "Now we will also confirm that their patterns (weights and biases) are the same, by checking that they are doing the same predictions."
   ]
  },
  {
   "cell_type": "code",
   "execution_count": 82,
   "id": "bb989a74",
   "metadata": {},
   "outputs": [
    {
     "name": "stdout",
     "output_type": "stream",
     "text": [
      "1/1 [==============================] - 0s 59ms/step\n",
      "1/1 [==============================] - 0s 96ms/step\n"
     ]
    },
    {
     "data": {
      "text/plain": [
       "array([[ True],\n",
       "       [ True],\n",
       "       [ True],\n",
       "       [ True],\n",
       "       [ True],\n",
       "       [ True],\n",
       "       [ True],\n",
       "       [ True],\n",
       "       [ True],\n",
       "       [ True]])"
      ]
     },
     "execution_count": 82,
     "metadata": {},
     "output_type": "execute_result"
    }
   ],
   "source": [
    "# Compare model_2 predictions with loaded_SaveModel_format predictions\n",
    "model_2_preds = model_2.predict(X_test)\n",
    "loaded_SaveModel_format_preds = loaded_SaveModel_format.predict(X_test)\n",
    "\n",
    "model_2_preds == loaded_SaveModel_format_preds"
   ]
  },
  {
   "cell_type": "code",
   "execution_count": null,
   "id": "d9dc7545",
   "metadata": {},
   "outputs": [],
   "source": []
  },
  {
   "cell_type": "code",
   "execution_count": 83,
   "id": "12d76241",
   "metadata": {},
   "outputs": [
    {
     "name": "stdout",
     "output_type": "stream",
     "text": [
      "Model: \"sequential_10\"\n",
      "_________________________________________________________________\n",
      " Layer (type)                Output Shape              Param #   \n",
      "=================================================================\n",
      " input_layer (Dense)         (None, 10)                20        \n",
      "                                                                 \n",
      " dense_15 (Dense)            (None, 1)                 11        \n",
      "                                                                 \n",
      "=================================================================\n",
      "Total params: 31\n",
      "Trainable params: 31\n",
      "Non-trainable params: 0\n",
      "_________________________________________________________________\n"
     ]
    }
   ],
   "source": [
    "# Load the HDF5 format model\n",
    "loaded_h5_model = tf.keras.models.load_model(\"./saved-models/model_2_HDF5_format.h5\")\n",
    "loaded_h5_model.summary()"
   ]
  },
  {
   "cell_type": "markdown",
   "id": "b14033c2",
   "metadata": {},
   "source": [
    "We can confirm through .summary() that the architecture of loaded_h5_model is the same as model_2. \n",
    "\n",
    "Now we will make sure that model_2 predictions match loaded_h5_model predictions."
   ]
  },
  {
   "cell_type": "code",
   "execution_count": 84,
   "id": "a7936835",
   "metadata": {},
   "outputs": [
    {
     "name": "stdout",
     "output_type": "stream",
     "text": [
      "1/1 [==============================] - 0s 43ms/step\n",
      "1/1 [==============================] - 0s 101ms/step\n"
     ]
    },
    {
     "data": {
      "text/plain": [
       "array([[ True],\n",
       "       [ True],\n",
       "       [ True],\n",
       "       [ True],\n",
       "       [ True],\n",
       "       [ True],\n",
       "       [ True],\n",
       "       [ True],\n",
       "       [ True],\n",
       "       [ True]])"
      ]
     },
     "execution_count": 84,
     "metadata": {},
     "output_type": "execute_result"
    }
   ],
   "source": [
    "# Compare model_2 predictions with loaded_h5_model predictions\n",
    "model_2_preds = model_2.predict(X_test)\n",
    "loaded_h5_model_preds = loaded_h5_model.predict(X_test)\n",
    "model_2_preds == loaded_h5_model_preds"
   ]
  },
  {
   "cell_type": "code",
   "execution_count": null,
   "id": "9b7eadbe",
   "metadata": {},
   "outputs": [],
   "source": []
  },
  {
   "cell_type": "markdown",
   "id": "2c9c6f28",
   "metadata": {},
   "source": [
    "## Puttting together what was learned so far\n",
    "\n",
    "Now it is time to build a model for a more feature rich dataset."
   ]
  },
  {
   "cell_type": "code",
   "execution_count": null,
   "id": "016cb7d8",
   "metadata": {},
   "outputs": [],
   "source": []
  },
  {
   "cell_type": "markdown",
   "id": "b85f0a42",
   "metadata": {},
   "source": [
    "### Preparing the dataset\n",
    "\n",
    "We are going to have a look at the publicly available [Medical Cost Personal Datasets - Insurance Forecast by using Linear Regression](https://www.kaggle.com/datasets/mirichoi0218/insurance) from Kaggle\n",
    "\n",
    "**Columns**\n",
    "\n",
    "* **age**: age of primary beneficiary\n",
    "* **sex**: insurance contractor gender, female, male\n",
    "* **bmi**: Body mass index, providing an understanding of body, weights that are relatively high or low relative to height,\n",
    "objective index of body weight (kg / m ^ 2) using the ratio of height to weight, ideally 18.5 to 24.9\n",
    "* **children**: Number of children covered by health insurance / Number of dependents\n",
    "* **smoker**: Smoking\n",
    "* **region**: the beneficiary's residential area in the US, northeast, southeast, southwest, northwest.\n",
    "* **charges**: Individual medical costs billed by health insurance     \n",
    "\n",
    "The dataset can be downloaded from [here](https://github.com/stedy/Machine-Learning-with-R-datasets/blob/master/insurance.csv)          \n",
    "\n",
    "\n",
    "The goal is to use the above columns from age to region to predict what someone's medical costs billed by health insurance will be."
   ]
  },
  {
   "cell_type": "code",
   "execution_count": 85,
   "id": "70030320",
   "metadata": {},
   "outputs": [
    {
     "data": {
      "text/html": [
       "<div>\n",
       "<style scoped>\n",
       "    .dataframe tbody tr th:only-of-type {\n",
       "        vertical-align: middle;\n",
       "    }\n",
       "\n",
       "    .dataframe tbody tr th {\n",
       "        vertical-align: top;\n",
       "    }\n",
       "\n",
       "    .dataframe thead th {\n",
       "        text-align: right;\n",
       "    }\n",
       "</style>\n",
       "<table border=\"1\" class=\"dataframe\">\n",
       "  <thead>\n",
       "    <tr style=\"text-align: right;\">\n",
       "      <th></th>\n",
       "      <th>age</th>\n",
       "      <th>sex</th>\n",
       "      <th>bmi</th>\n",
       "      <th>children</th>\n",
       "      <th>smoker</th>\n",
       "      <th>region</th>\n",
       "      <th>charges</th>\n",
       "    </tr>\n",
       "  </thead>\n",
       "  <tbody>\n",
       "    <tr>\n",
       "      <th>0</th>\n",
       "      <td>19</td>\n",
       "      <td>female</td>\n",
       "      <td>27.900</td>\n",
       "      <td>0</td>\n",
       "      <td>yes</td>\n",
       "      <td>southwest</td>\n",
       "      <td>16884.92400</td>\n",
       "    </tr>\n",
       "    <tr>\n",
       "      <th>1</th>\n",
       "      <td>18</td>\n",
       "      <td>male</td>\n",
       "      <td>33.770</td>\n",
       "      <td>1</td>\n",
       "      <td>no</td>\n",
       "      <td>southeast</td>\n",
       "      <td>1725.55230</td>\n",
       "    </tr>\n",
       "    <tr>\n",
       "      <th>2</th>\n",
       "      <td>28</td>\n",
       "      <td>male</td>\n",
       "      <td>33.000</td>\n",
       "      <td>3</td>\n",
       "      <td>no</td>\n",
       "      <td>southeast</td>\n",
       "      <td>4449.46200</td>\n",
       "    </tr>\n",
       "    <tr>\n",
       "      <th>3</th>\n",
       "      <td>33</td>\n",
       "      <td>male</td>\n",
       "      <td>22.705</td>\n",
       "      <td>0</td>\n",
       "      <td>no</td>\n",
       "      <td>northwest</td>\n",
       "      <td>21984.47061</td>\n",
       "    </tr>\n",
       "    <tr>\n",
       "      <th>4</th>\n",
       "      <td>32</td>\n",
       "      <td>male</td>\n",
       "      <td>28.880</td>\n",
       "      <td>0</td>\n",
       "      <td>no</td>\n",
       "      <td>northwest</td>\n",
       "      <td>3866.85520</td>\n",
       "    </tr>\n",
       "  </tbody>\n",
       "</table>\n",
       "</div>"
      ],
      "text/plain": [
       "   age     sex     bmi  children smoker     region      charges\n",
       "0   19  female  27.900         0    yes  southwest  16884.92400\n",
       "1   18    male  33.770         1     no  southeast   1725.55230\n",
       "2   28    male  33.000         3     no  southeast   4449.46200\n",
       "3   33    male  22.705         0     no  northwest  21984.47061\n",
       "4   32    male  28.880         0     no  northwest   3866.85520"
      ]
     },
     "execution_count": 85,
     "metadata": {},
     "output_type": "execute_result"
    }
   ],
   "source": [
    "insurance_df = pd.read_csv(\"data/insurance.csv\")\n",
    "insurance_df.head()"
   ]
  },
  {
   "cell_type": "markdown",
   "id": "2ce70add",
   "metadata": {},
   "source": [
    "Looking at the above dataset:\n",
    "* `charges`, the variable to be predicted, is called : `label`, or `output feature`, or `output variable`\n",
    "* all variables other than `charges`, are the variables used to predict; they are called: `features`, or `input features`, or `input variables`"
   ]
  },
  {
   "cell_type": "code",
   "execution_count": null,
   "id": "b24f07b5",
   "metadata": {},
   "outputs": [],
   "source": []
  },
  {
   "cell_type": "code",
   "execution_count": 86,
   "id": "bb8d4147",
   "metadata": {},
   "outputs": [
    {
     "data": {
      "text/plain": [
       "(1338, 7)"
      ]
     },
     "execution_count": 86,
     "metadata": {},
     "output_type": "execute_result"
    }
   ],
   "source": [
    "insurance_df.shape"
   ]
  },
  {
   "cell_type": "code",
   "execution_count": 87,
   "id": "795031f7",
   "metadata": {},
   "outputs": [
    {
     "name": "stdout",
     "output_type": "stream",
     "text": [
      "<class 'pandas.core.frame.DataFrame'>\n",
      "RangeIndex: 1338 entries, 0 to 1337\n",
      "Data columns (total 7 columns):\n",
      " #   Column    Non-Null Count  Dtype  \n",
      "---  ------    --------------  -----  \n",
      " 0   age       1338 non-null   int64  \n",
      " 1   sex       1338 non-null   object \n",
      " 2   bmi       1338 non-null   float64\n",
      " 3   children  1338 non-null   int64  \n",
      " 4   smoker    1338 non-null   object \n",
      " 5   region    1338 non-null   object \n",
      " 6   charges   1338 non-null   float64\n",
      "dtypes: float64(2), int64(2), object(3)\n",
      "memory usage: 73.3+ KB\n"
     ]
    }
   ],
   "source": [
    "insurance_df.info()"
   ]
  },
  {
   "cell_type": "markdown",
   "id": "c594b415",
   "metadata": {},
   "source": [
    "Now we will work on our first step in getting our data ready to pass into our machine/deep learning models : all our categorical features should be encoded to numerical values. Here, it is the one-hot encoding technique that will be used.  \n",
    "\n",
    "We can one-hot encode our variables manually, but it will take a lot of work. So we will use the `pandas.get_dummies()` function. Here is [an example](https://queirozf.com/entries/one-hot-encoding-a-feature-on-a-pandas-dataframe-an-example) on how to proceed."
   ]
  },
  {
   "cell_type": "code",
   "execution_count": 88,
   "id": "1aa8b000",
   "metadata": {},
   "outputs": [
    {
     "data": {
      "text/html": [
       "<div>\n",
       "<style scoped>\n",
       "    .dataframe tbody tr th:only-of-type {\n",
       "        vertical-align: middle;\n",
       "    }\n",
       "\n",
       "    .dataframe tbody tr th {\n",
       "        vertical-align: top;\n",
       "    }\n",
       "\n",
       "    .dataframe thead th {\n",
       "        text-align: right;\n",
       "    }\n",
       "</style>\n",
       "<table border=\"1\" class=\"dataframe\">\n",
       "  <thead>\n",
       "    <tr style=\"text-align: right;\">\n",
       "      <th></th>\n",
       "      <th>0</th>\n",
       "      <th>1</th>\n",
       "      <th>2</th>\n",
       "      <th>3</th>\n",
       "      <th>4</th>\n",
       "    </tr>\n",
       "  </thead>\n",
       "  <tbody>\n",
       "    <tr>\n",
       "      <th>age</th>\n",
       "      <td>19.000</td>\n",
       "      <td>18.0000</td>\n",
       "      <td>28.000</td>\n",
       "      <td>33.00000</td>\n",
       "      <td>32.0000</td>\n",
       "    </tr>\n",
       "    <tr>\n",
       "      <th>bmi</th>\n",
       "      <td>27.900</td>\n",
       "      <td>33.7700</td>\n",
       "      <td>33.000</td>\n",
       "      <td>22.70500</td>\n",
       "      <td>28.8800</td>\n",
       "    </tr>\n",
       "    <tr>\n",
       "      <th>children</th>\n",
       "      <td>0.000</td>\n",
       "      <td>1.0000</td>\n",
       "      <td>3.000</td>\n",
       "      <td>0.00000</td>\n",
       "      <td>0.0000</td>\n",
       "    </tr>\n",
       "    <tr>\n",
       "      <th>charges</th>\n",
       "      <td>16884.924</td>\n",
       "      <td>1725.5523</td>\n",
       "      <td>4449.462</td>\n",
       "      <td>21984.47061</td>\n",
       "      <td>3866.8552</td>\n",
       "    </tr>\n",
       "    <tr>\n",
       "      <th>sex_female</th>\n",
       "      <td>1.000</td>\n",
       "      <td>0.0000</td>\n",
       "      <td>0.000</td>\n",
       "      <td>0.00000</td>\n",
       "      <td>0.0000</td>\n",
       "    </tr>\n",
       "    <tr>\n",
       "      <th>sex_male</th>\n",
       "      <td>0.000</td>\n",
       "      <td>1.0000</td>\n",
       "      <td>1.000</td>\n",
       "      <td>1.00000</td>\n",
       "      <td>1.0000</td>\n",
       "    </tr>\n",
       "    <tr>\n",
       "      <th>smoker_no</th>\n",
       "      <td>0.000</td>\n",
       "      <td>1.0000</td>\n",
       "      <td>1.000</td>\n",
       "      <td>1.00000</td>\n",
       "      <td>1.0000</td>\n",
       "    </tr>\n",
       "    <tr>\n",
       "      <th>smoker_yes</th>\n",
       "      <td>1.000</td>\n",
       "      <td>0.0000</td>\n",
       "      <td>0.000</td>\n",
       "      <td>0.00000</td>\n",
       "      <td>0.0000</td>\n",
       "    </tr>\n",
       "    <tr>\n",
       "      <th>region_northeast</th>\n",
       "      <td>0.000</td>\n",
       "      <td>0.0000</td>\n",
       "      <td>0.000</td>\n",
       "      <td>0.00000</td>\n",
       "      <td>0.0000</td>\n",
       "    </tr>\n",
       "    <tr>\n",
       "      <th>region_northwest</th>\n",
       "      <td>0.000</td>\n",
       "      <td>0.0000</td>\n",
       "      <td>0.000</td>\n",
       "      <td>1.00000</td>\n",
       "      <td>1.0000</td>\n",
       "    </tr>\n",
       "    <tr>\n",
       "      <th>region_southeast</th>\n",
       "      <td>0.000</td>\n",
       "      <td>1.0000</td>\n",
       "      <td>1.000</td>\n",
       "      <td>0.00000</td>\n",
       "      <td>0.0000</td>\n",
       "    </tr>\n",
       "    <tr>\n",
       "      <th>region_southwest</th>\n",
       "      <td>1.000</td>\n",
       "      <td>0.0000</td>\n",
       "      <td>0.000</td>\n",
       "      <td>0.00000</td>\n",
       "      <td>0.0000</td>\n",
       "    </tr>\n",
       "  </tbody>\n",
       "</table>\n",
       "</div>"
      ],
      "text/plain": [
       "                          0          1         2            3          4\n",
       "age                  19.000    18.0000    28.000     33.00000    32.0000\n",
       "bmi                  27.900    33.7700    33.000     22.70500    28.8800\n",
       "children              0.000     1.0000     3.000      0.00000     0.0000\n",
       "charges           16884.924  1725.5523  4449.462  21984.47061  3866.8552\n",
       "sex_female            1.000     0.0000     0.000      0.00000     0.0000\n",
       "sex_male              0.000     1.0000     1.000      1.00000     1.0000\n",
       "smoker_no             0.000     1.0000     1.000      1.00000     1.0000\n",
       "smoker_yes            1.000     0.0000     0.000      0.00000     0.0000\n",
       "region_northeast      0.000     0.0000     0.000      0.00000     0.0000\n",
       "region_northwest      0.000     0.0000     0.000      1.00000     1.0000\n",
       "region_southeast      0.000     1.0000     1.000      0.00000     0.0000\n",
       "region_southwest      1.000     0.0000     0.000      0.00000     0.0000"
      ]
     },
     "execution_count": 88,
     "metadata": {},
     "output_type": "execute_result"
    }
   ],
   "source": [
    "# One-hot encode dataframe so that it is all numbers\n",
    "insurance_onehot_df = pd.get_dummies(insurance_df)\n",
    "insurance_onehot_df.head().T"
   ]
  },
  {
   "cell_type": "code",
   "execution_count": 89,
   "id": "4011de41",
   "metadata": {},
   "outputs": [],
   "source": [
    "# insurance_onehot_df.isnull().sum()"
   ]
  },
  {
   "cell_type": "markdown",
   "id": "73760872",
   "metadata": {},
   "source": [
    "### Building the regression model"
   ]
  },
  {
   "cell_type": "code",
   "execution_count": 90,
   "id": "62cf3b62",
   "metadata": {},
   "outputs": [
    {
     "data": {
      "text/html": [
       "<div>\n",
       "<style scoped>\n",
       "    .dataframe tbody tr th:only-of-type {\n",
       "        vertical-align: middle;\n",
       "    }\n",
       "\n",
       "    .dataframe tbody tr th {\n",
       "        vertical-align: top;\n",
       "    }\n",
       "\n",
       "    .dataframe thead th {\n",
       "        text-align: right;\n",
       "    }\n",
       "</style>\n",
       "<table border=\"1\" class=\"dataframe\">\n",
       "  <thead>\n",
       "    <tr style=\"text-align: right;\">\n",
       "      <th></th>\n",
       "      <th>age</th>\n",
       "      <th>bmi</th>\n",
       "      <th>children</th>\n",
       "      <th>sex_female</th>\n",
       "      <th>sex_male</th>\n",
       "      <th>smoker_no</th>\n",
       "      <th>smoker_yes</th>\n",
       "      <th>region_northeast</th>\n",
       "      <th>region_northwest</th>\n",
       "      <th>region_southeast</th>\n",
       "      <th>region_southwest</th>\n",
       "    </tr>\n",
       "  </thead>\n",
       "  <tbody>\n",
       "    <tr>\n",
       "      <th>0</th>\n",
       "      <td>19</td>\n",
       "      <td>27.900</td>\n",
       "      <td>0</td>\n",
       "      <td>1</td>\n",
       "      <td>0</td>\n",
       "      <td>0</td>\n",
       "      <td>1</td>\n",
       "      <td>0</td>\n",
       "      <td>0</td>\n",
       "      <td>0</td>\n",
       "      <td>1</td>\n",
       "    </tr>\n",
       "    <tr>\n",
       "      <th>1</th>\n",
       "      <td>18</td>\n",
       "      <td>33.770</td>\n",
       "      <td>1</td>\n",
       "      <td>0</td>\n",
       "      <td>1</td>\n",
       "      <td>1</td>\n",
       "      <td>0</td>\n",
       "      <td>0</td>\n",
       "      <td>0</td>\n",
       "      <td>1</td>\n",
       "      <td>0</td>\n",
       "    </tr>\n",
       "    <tr>\n",
       "      <th>2</th>\n",
       "      <td>28</td>\n",
       "      <td>33.000</td>\n",
       "      <td>3</td>\n",
       "      <td>0</td>\n",
       "      <td>1</td>\n",
       "      <td>1</td>\n",
       "      <td>0</td>\n",
       "      <td>0</td>\n",
       "      <td>0</td>\n",
       "      <td>1</td>\n",
       "      <td>0</td>\n",
       "    </tr>\n",
       "    <tr>\n",
       "      <th>3</th>\n",
       "      <td>33</td>\n",
       "      <td>22.705</td>\n",
       "      <td>0</td>\n",
       "      <td>0</td>\n",
       "      <td>1</td>\n",
       "      <td>1</td>\n",
       "      <td>0</td>\n",
       "      <td>0</td>\n",
       "      <td>1</td>\n",
       "      <td>0</td>\n",
       "      <td>0</td>\n",
       "    </tr>\n",
       "    <tr>\n",
       "      <th>4</th>\n",
       "      <td>32</td>\n",
       "      <td>28.880</td>\n",
       "      <td>0</td>\n",
       "      <td>0</td>\n",
       "      <td>1</td>\n",
       "      <td>1</td>\n",
       "      <td>0</td>\n",
       "      <td>0</td>\n",
       "      <td>1</td>\n",
       "      <td>0</td>\n",
       "      <td>0</td>\n",
       "    </tr>\n",
       "  </tbody>\n",
       "</table>\n",
       "</div>"
      ],
      "text/plain": [
       "   age     bmi  children  sex_female  sex_male  smoker_no  smoker_yes  \\\n",
       "0   19  27.900         0           1         0          0           1   \n",
       "1   18  33.770         1           0         1          1           0   \n",
       "2   28  33.000         3           0         1          1           0   \n",
       "3   33  22.705         0           0         1          1           0   \n",
       "4   32  28.880         0           0         1          1           0   \n",
       "\n",
       "   region_northeast  region_northwest  region_southeast  region_southwest  \n",
       "0                 0                 0                 0                 1  \n",
       "1                 0                 0                 1                 0  \n",
       "2                 0                 0                 1                 0  \n",
       "3                 0                 1                 0                 0  \n",
       "4                 0                 1                 0                 0  "
      ]
     },
     "execution_count": 90,
     "metadata": {},
     "output_type": "execute_result"
    }
   ],
   "source": [
    "# Create features (X)\n",
    "X = insurance_onehot_df.drop(\"charges\",axis=1)\n",
    "X.head()"
   ]
  },
  {
   "cell_type": "code",
   "execution_count": 91,
   "id": "0e221709",
   "metadata": {},
   "outputs": [
    {
     "data": {
      "text/plain": [
       "0    16884.92400\n",
       "1     1725.55230\n",
       "2     4449.46200\n",
       "3    21984.47061\n",
       "4     3866.85520\n",
       "Name: charges, dtype: float64"
      ]
     },
     "execution_count": 91,
     "metadata": {},
     "output_type": "execute_result"
    }
   ],
   "source": [
    "# Create labels (y)\n",
    "y = insurance_onehot_df[\"charges\"]\n",
    "y.head()"
   ]
  },
  {
   "cell_type": "code",
   "execution_count": 92,
   "id": "016a5066",
   "metadata": {},
   "outputs": [
    {
     "data": {
      "text/plain": [
       "(1070, 268, 1070, 268)"
      ]
     },
     "execution_count": 92,
     "metadata": {},
     "output_type": "execute_result"
    }
   ],
   "source": [
    "# Create training and testing sets\n",
    "\n",
    "random_seed=42\n",
    "X_train, X_test, y_train, y_test = train_test_split(X,y, test_size=.2, random_state=random_seed)\n",
    "\n",
    "len(X_train), len(X_test), len(y_train), len(y_test)"
   ]
  },
  {
   "cell_type": "code",
   "execution_count": 93,
   "id": "e0420518",
   "metadata": {},
   "outputs": [
    {
     "name": "stdout",
     "output_type": "stream",
     "text": [
      "Epoch 1/100\n",
      "34/34 [==============================] - 1s 2ms/step - loss: 8584.3281 - mae: 8584.3281\n",
      "Epoch 2/100\n",
      "34/34 [==============================] - 0s 2ms/step - loss: 7834.9746 - mae: 7834.9746\n",
      "Epoch 3/100\n",
      "34/34 [==============================] - 0s 2ms/step - loss: 7600.0630 - mae: 7600.0630\n",
      "Epoch 4/100\n",
      "34/34 [==============================] - 0s 2ms/step - loss: 7781.9766 - mae: 7781.9766\n",
      "Epoch 5/100\n",
      "34/34 [==============================] - 0s 3ms/step - loss: 7654.1919 - mae: 7654.1919\n",
      "Epoch 6/100\n",
      "34/34 [==============================] - 0s 2ms/step - loss: 7645.5044 - mae: 7645.5044\n",
      "Epoch 7/100\n",
      "34/34 [==============================] - 0s 2ms/step - loss: 7525.1553 - mae: 7525.1553\n",
      "Epoch 8/100\n",
      "34/34 [==============================] - 0s 2ms/step - loss: 7693.3784 - mae: 7693.3784\n",
      "Epoch 9/100\n",
      "34/34 [==============================] - 0s 2ms/step - loss: 7495.4404 - mae: 7495.4404\n",
      "Epoch 10/100\n",
      "34/34 [==============================] - 0s 2ms/step - loss: 7492.2061 - mae: 7492.2061\n",
      "Epoch 11/100\n",
      "34/34 [==============================] - 0s 3ms/step - loss: 7780.1250 - mae: 7780.1250\n",
      "Epoch 12/100\n",
      "34/34 [==============================] - 0s 2ms/step - loss: 7722.3691 - mae: 7722.3691\n",
      "Epoch 13/100\n",
      "34/34 [==============================] - 0s 2ms/step - loss: 7684.4761 - mae: 7684.4761\n",
      "Epoch 14/100\n",
      "34/34 [==============================] - 0s 2ms/step - loss: 7812.6460 - mae: 7812.6460\n",
      "Epoch 15/100\n",
      "34/34 [==============================] - 0s 2ms/step - loss: 7429.6978 - mae: 7429.6978\n",
      "Epoch 16/100\n",
      "34/34 [==============================] - 0s 3ms/step - loss: 7766.9756 - mae: 7766.9756\n",
      "Epoch 17/100\n",
      "34/34 [==============================] - 0s 3ms/step - loss: 7685.1255 - mae: 7685.1255\n",
      "Epoch 18/100\n",
      "34/34 [==============================] - 0s 3ms/step - loss: 7858.2485 - mae: 7858.2485\n",
      "Epoch 19/100\n",
      "34/34 [==============================] - 0s 3ms/step - loss: 7735.6582 - mae: 7735.6582\n",
      "Epoch 20/100\n",
      "34/34 [==============================] - 0s 3ms/step - loss: 7935.6699 - mae: 7935.6699\n",
      "Epoch 21/100\n",
      "34/34 [==============================] - 0s 3ms/step - loss: 7482.8350 - mae: 7482.8350\n",
      "Epoch 22/100\n",
      "34/34 [==============================] - 0s 2ms/step - loss: 7884.1216 - mae: 7884.1216\n",
      "Epoch 23/100\n",
      "34/34 [==============================] - 0s 2ms/step - loss: 7697.7012 - mae: 7697.7012\n",
      "Epoch 24/100\n",
      "34/34 [==============================] - 0s 2ms/step - loss: 7582.8735 - mae: 7582.8735\n",
      "Epoch 25/100\n",
      "34/34 [==============================] - 0s 2ms/step - loss: 7596.1050 - mae: 7596.1050\n",
      "Epoch 26/100\n",
      "34/34 [==============================] - 0s 2ms/step - loss: 7723.3418 - mae: 7723.3418\n",
      "Epoch 27/100\n",
      "34/34 [==============================] - 0s 2ms/step - loss: 7697.3848 - mae: 7697.3848\n",
      "Epoch 28/100\n",
      "34/34 [==============================] - 0s 2ms/step - loss: 7317.0557 - mae: 7317.0557\n",
      "Epoch 29/100\n",
      "34/34 [==============================] - 0s 2ms/step - loss: 7691.0034 - mae: 7691.0034\n",
      "Epoch 30/100\n",
      "34/34 [==============================] - 0s 2ms/step - loss: 7599.9434 - mae: 7599.9434\n",
      "Epoch 31/100\n",
      "34/34 [==============================] - 0s 2ms/step - loss: 7689.8164 - mae: 7689.8164\n",
      "Epoch 32/100\n",
      "34/34 [==============================] - 0s 2ms/step - loss: 7446.1309 - mae: 7446.1309\n",
      "Epoch 33/100\n",
      "34/34 [==============================] - 0s 2ms/step - loss: 7412.8955 - mae: 7412.8955\n",
      "Epoch 34/100\n",
      "34/34 [==============================] - 0s 2ms/step - loss: 7434.3135 - mae: 7434.3135\n",
      "Epoch 35/100\n",
      "34/34 [==============================] - 0s 2ms/step - loss: 7618.2114 - mae: 7618.2114\n",
      "Epoch 36/100\n",
      "34/34 [==============================] - 0s 2ms/step - loss: 7576.4839 - mae: 7576.4839\n",
      "Epoch 37/100\n",
      "34/34 [==============================] - 0s 2ms/step - loss: 7622.1367 - mae: 7622.1367\n",
      "Epoch 38/100\n",
      "34/34 [==============================] - 0s 2ms/step - loss: 7557.9526 - mae: 7557.9526\n",
      "Epoch 39/100\n",
      "34/34 [==============================] - 0s 2ms/step - loss: 7544.7480 - mae: 7544.7480\n",
      "Epoch 40/100\n",
      "34/34 [==============================] - 0s 2ms/step - loss: 7594.9995 - mae: 7594.9995\n",
      "Epoch 41/100\n",
      "34/34 [==============================] - 0s 2ms/step - loss: 7739.4116 - mae: 7739.4116\n",
      "Epoch 42/100\n",
      "34/34 [==============================] - 0s 2ms/step - loss: 7495.0625 - mae: 7495.0625\n",
      "Epoch 43/100\n",
      "34/34 [==============================] - 0s 3ms/step - loss: 7701.6577 - mae: 7701.6577\n",
      "Epoch 44/100\n",
      "34/34 [==============================] - 0s 2ms/step - loss: 7332.0352 - mae: 7332.0352\n",
      "Epoch 45/100\n",
      "34/34 [==============================] - 0s 2ms/step - loss: 7499.6118 - mae: 7499.6118\n",
      "Epoch 46/100\n",
      "34/34 [==============================] - 0s 3ms/step - loss: 7353.1655 - mae: 7353.1655\n",
      "Epoch 47/100\n",
      "34/34 [==============================] - 0s 2ms/step - loss: 7531.8975 - mae: 7531.8975\n",
      "Epoch 48/100\n",
      "34/34 [==============================] - 0s 2ms/step - loss: 7517.9297 - mae: 7517.9297\n",
      "Epoch 49/100\n",
      "34/34 [==============================] - 0s 2ms/step - loss: 7533.1030 - mae: 7533.1030\n",
      "Epoch 50/100\n",
      "34/34 [==============================] - 0s 3ms/step - loss: 7508.3169 - mae: 7508.3169\n",
      "Epoch 51/100\n",
      "34/34 [==============================] - 0s 2ms/step - loss: 7397.9995 - mae: 7397.9995\n",
      "Epoch 52/100\n",
      "34/34 [==============================] - 0s 2ms/step - loss: 7548.4434 - mae: 7548.4434\n",
      "Epoch 53/100\n",
      "34/34 [==============================] - 0s 3ms/step - loss: 7529.8623 - mae: 7529.8623\n",
      "Epoch 54/100\n",
      "34/34 [==============================] - 0s 2ms/step - loss: 7177.3701 - mae: 7177.3701\n",
      "Epoch 55/100\n",
      "34/34 [==============================] - 0s 2ms/step - loss: 7303.4902 - mae: 7303.4902\n",
      "Epoch 56/100\n",
      "34/34 [==============================] - 0s 2ms/step - loss: 7296.0703 - mae: 7296.0703\n",
      "Epoch 57/100\n",
      "34/34 [==============================] - 0s 3ms/step - loss: 7522.2017 - mae: 7522.2017\n",
      "Epoch 58/100\n",
      "34/34 [==============================] - 0s 2ms/step - loss: 7478.7905 - mae: 7478.7905\n",
      "Epoch 59/100\n",
      "34/34 [==============================] - 0s 2ms/step - loss: 7620.8320 - mae: 7620.8320\n",
      "Epoch 60/100\n",
      "34/34 [==============================] - 0s 2ms/step - loss: 7392.0381 - mae: 7392.0381\n",
      "Epoch 61/100\n",
      "34/34 [==============================] - 0s 2ms/step - loss: 7457.6436 - mae: 7457.6436\n",
      "Epoch 62/100\n",
      "34/34 [==============================] - 0s 2ms/step - loss: 7439.7222 - mae: 7439.7222\n",
      "Epoch 63/100\n",
      "34/34 [==============================] - 0s 2ms/step - loss: 7381.8853 - mae: 7381.8853\n",
      "Epoch 64/100\n",
      "34/34 [==============================] - 0s 2ms/step - loss: 7311.6729 - mae: 7311.6729\n",
      "Epoch 65/100\n",
      "34/34 [==============================] - 0s 2ms/step - loss: 7513.5381 - mae: 7513.5381\n",
      "Epoch 66/100\n",
      "34/34 [==============================] - 0s 2ms/step - loss: 7326.7563 - mae: 7326.7563\n",
      "Epoch 67/100\n",
      "34/34 [==============================] - 0s 2ms/step - loss: 7512.1680 - mae: 7512.1680\n",
      "Epoch 68/100\n",
      "34/34 [==============================] - 0s 2ms/step - loss: 7554.6606 - mae: 7554.6606\n",
      "Epoch 69/100\n",
      "34/34 [==============================] - 0s 2ms/step - loss: 7413.1851 - mae: 7413.1851\n",
      "Epoch 70/100\n",
      "34/34 [==============================] - 0s 2ms/step - loss: 7586.6646 - mae: 7586.6646\n",
      "Epoch 71/100\n",
      "34/34 [==============================] - 0s 2ms/step - loss: 7230.1870 - mae: 7230.1870\n",
      "Epoch 72/100\n",
      "34/34 [==============================] - 0s 2ms/step - loss: 7370.0093 - mae: 7370.0093\n",
      "Epoch 73/100\n",
      "34/34 [==============================] - 0s 2ms/step - loss: 7328.0566 - mae: 7328.0566\n",
      "Epoch 74/100\n",
      "34/34 [==============================] - 0s 2ms/step - loss: 7441.6113 - mae: 7441.6113\n",
      "Epoch 75/100\n",
      "34/34 [==============================] - 0s 2ms/step - loss: 7280.3848 - mae: 7280.3848\n",
      "Epoch 76/100\n",
      "34/34 [==============================] - 0s 2ms/step - loss: 7104.9990 - mae: 7104.9990\n",
      "Epoch 77/100\n",
      "34/34 [==============================] - 0s 2ms/step - loss: 7419.3218 - mae: 7419.3218\n",
      "Epoch 78/100\n",
      "34/34 [==============================] - 0s 2ms/step - loss: 7364.6421 - mae: 7364.6421\n",
      "Epoch 79/100\n",
      "34/34 [==============================] - 0s 2ms/step - loss: 7507.3853 - mae: 7507.3853\n",
      "Epoch 80/100\n",
      "34/34 [==============================] - 0s 2ms/step - loss: 7455.1465 - mae: 7455.1465\n",
      "Epoch 81/100\n",
      "34/34 [==============================] - 0s 2ms/step - loss: 7221.6929 - mae: 7221.6929\n",
      "Epoch 82/100\n"
     ]
    },
    {
     "name": "stdout",
     "output_type": "stream",
     "text": [
      "34/34 [==============================] - 0s 2ms/step - loss: 7262.6426 - mae: 7262.6426\n",
      "Epoch 83/100\n",
      "34/34 [==============================] - 0s 2ms/step - loss: 7469.3955 - mae: 7469.3955\n",
      "Epoch 84/100\n",
      "34/34 [==============================] - 0s 2ms/step - loss: 7255.7769 - mae: 7255.7769\n",
      "Epoch 85/100\n",
      "34/34 [==============================] - 0s 2ms/step - loss: 7399.6055 - mae: 7399.6055\n",
      "Epoch 86/100\n",
      "34/34 [==============================] - 0s 2ms/step - loss: 7494.9253 - mae: 7494.9253\n",
      "Epoch 87/100\n",
      "34/34 [==============================] - 0s 2ms/step - loss: 7241.5786 - mae: 7241.5786\n",
      "Epoch 88/100\n",
      "34/34 [==============================] - 0s 2ms/step - loss: 7381.6587 - mae: 7381.6587\n",
      "Epoch 89/100\n",
      "34/34 [==============================] - 0s 2ms/step - loss: 7229.2231 - mae: 7229.2231\n",
      "Epoch 90/100\n",
      "34/34 [==============================] - 0s 2ms/step - loss: 7058.6362 - mae: 7058.6362\n",
      "Epoch 91/100\n",
      "34/34 [==============================] - 0s 2ms/step - loss: 7005.4146 - mae: 7005.4146\n",
      "Epoch 92/100\n",
      "34/34 [==============================] - 0s 2ms/step - loss: 7443.0903 - mae: 7443.0903\n",
      "Epoch 93/100\n",
      "34/34 [==============================] - 0s 2ms/step - loss: 7458.8965 - mae: 7458.8965\n",
      "Epoch 94/100\n",
      "34/34 [==============================] - 0s 2ms/step - loss: 7263.2695 - mae: 7263.2695\n",
      "Epoch 95/100\n",
      "34/34 [==============================] - 0s 3ms/step - loss: 7207.3037 - mae: 7207.3037\n",
      "Epoch 96/100\n",
      "34/34 [==============================] - 0s 2ms/step - loss: 7373.0039 - mae: 7373.0039\n",
      "Epoch 97/100\n",
      "34/34 [==============================] - 0s 2ms/step - loss: 7232.5835 - mae: 7232.5835\n",
      "Epoch 98/100\n",
      "34/34 [==============================] - 0s 2ms/step - loss: 7409.8208 - mae: 7409.8208\n",
      "Epoch 99/100\n",
      "34/34 [==============================] - 0s 2ms/step - loss: 7338.2510 - mae: 7338.2510\n",
      "Epoch 100/100\n",
      "34/34 [==============================] - 0s 2ms/step - loss: 7153.0166 - mae: 7153.0166\n"
     ]
    },
    {
     "data": {
      "text/plain": [
       "<keras.callbacks.History at 0x1888de56640>"
      ]
     },
     "execution_count": 93,
     "metadata": {},
     "output_type": "execute_result"
    }
   ],
   "source": [
    "# Build neural network (sort of like model_2 above)\n",
    "\n",
    "# Set a random seed (in order to have some reproducibility)\n",
    "tf.random.set_seed(42)\n",
    "\n",
    "# 1. Create a model\n",
    "insurance_model = tf.keras.Sequential([\n",
    "    tf.keras.layers.Dense(10),\n",
    "    tf.keras.layers.Dense(1)\n",
    "])\n",
    "\n",
    "# 2. Compile the model\n",
    "insurance_model.compile(\n",
    "    loss=tf.keras.losses.mae,\n",
    "    optimizer= tf.keras.optimizers.SGD(),\n",
    "    metrics=[\"mae\"]\n",
    ")\n",
    "\n",
    "# 3. Fit the model\n",
    "insurance_model.fit(X_train, y_train,  epochs=100)"
   ]
  },
  {
   "cell_type": "markdown",
   "id": "ff8bdd4e",
   "metadata": {},
   "source": [
    "**Note**: We didn't have to reformat the input variable into tensors. The reason being, pandas is built on top of numpy: it is a big numpy matrix, and when we pass that to TensorFlow, it automatically knows how to deal with numpy arrays (we have seen that TensorFlow works with numpy arrays)."
   ]
  },
  {
   "cell_type": "code",
   "execution_count": 94,
   "id": "42b1faf8",
   "metadata": {},
   "outputs": [
    {
     "name": "stdout",
     "output_type": "stream",
     "text": [
      "9/9 [==============================] - 0s 2ms/step - loss: 8741.7197 - mae: 8741.7197\n"
     ]
    },
    {
     "data": {
      "text/plain": [
       "[8741.7197265625, 8741.7197265625]"
      ]
     },
     "execution_count": 94,
     "metadata": {},
     "output_type": "execute_result"
    }
   ],
   "source": [
    "# Evaluate the model\n",
    "insurance_model.evaluate(X_test, y_test)"
   ]
  },
  {
   "cell_type": "markdown",
   "id": "083d3525",
   "metadata": {},
   "source": [
    "The MAE of the model is 7021.52; this tell that on average, the model is wrong by about 7021.52            \n",
    "That amount is to high, so the model need to be improved. "
   ]
  },
  {
   "cell_type": "markdown",
   "id": "963e4a81",
   "metadata": {},
   "source": [
    "To (try) improve the model, we will run 02 experiments. \n",
    "<br/><br/>\n",
    "**Experiments**:\n",
    "1. Add an extra layer with more hidden units\n",
    "1. Train for longer\n",
    "1. *Insert your own experiment here, up to your imagination/experience*"
   ]
  },
  {
   "cell_type": "code",
   "execution_count": null,
   "id": "b5ce936c",
   "metadata": {},
   "outputs": [],
   "source": []
  },
  {
   "cell_type": "code",
   "execution_count": 95,
   "id": "efe3dcec",
   "metadata": {},
   "outputs": [
    {
     "name": "stdout",
     "output_type": "stream",
     "text": [
      "Epoch 1/100\n",
      "34/34 [==============================] - 1s 2ms/step - loss: nan - mae: nan          \n",
      "Epoch 2/100\n",
      "34/34 [==============================] - 0s 2ms/step - loss: nan - mae: nan\n",
      "Epoch 3/100\n",
      "34/34 [==============================] - 0s 2ms/step - loss: nan - mae: nan\n",
      "Epoch 4/100\n",
      "34/34 [==============================] - 0s 2ms/step - loss: nan - mae: nan\n",
      "Epoch 5/100\n",
      "34/34 [==============================] - 0s 2ms/step - loss: nan - mae: nan\n",
      "Epoch 6/100\n",
      "34/34 [==============================] - 0s 2ms/step - loss: nan - mae: nan\n",
      "Epoch 7/100\n",
      "34/34 [==============================] - 0s 2ms/step - loss: nan - mae: nan\n",
      "Epoch 8/100\n",
      "34/34 [==============================] - 0s 2ms/step - loss: nan - mae: nan\n",
      "Epoch 9/100\n",
      "34/34 [==============================] - 0s 2ms/step - loss: nan - mae: nan\n",
      "Epoch 10/100\n",
      "34/34 [==============================] - 0s 2ms/step - loss: nan - mae: nan\n",
      "Epoch 11/100\n",
      "34/34 [==============================] - 0s 2ms/step - loss: nan - mae: nan\n",
      "Epoch 12/100\n",
      "34/34 [==============================] - 0s 2ms/step - loss: nan - mae: nan\n",
      "Epoch 13/100\n",
      "34/34 [==============================] - 0s 3ms/step - loss: nan - mae: nan\n",
      "Epoch 14/100\n",
      "34/34 [==============================] - 0s 2ms/step - loss: nan - mae: nan\n",
      "Epoch 15/100\n",
      "34/34 [==============================] - 0s 2ms/step - loss: nan - mae: nan\n",
      "Epoch 16/100\n",
      "34/34 [==============================] - 0s 2ms/step - loss: nan - mae: nan\n",
      "Epoch 17/100\n",
      "34/34 [==============================] - 0s 2ms/step - loss: nan - mae: nan\n",
      "Epoch 18/100\n",
      "34/34 [==============================] - 0s 2ms/step - loss: nan - mae: nan\n",
      "Epoch 19/100\n",
      "34/34 [==============================] - 0s 2ms/step - loss: nan - mae: nan\n",
      "Epoch 20/100\n",
      "34/34 [==============================] - 0s 2ms/step - loss: nan - mae: nan\n",
      "Epoch 21/100\n",
      "34/34 [==============================] - 0s 3ms/step - loss: nan - mae: nan\n",
      "Epoch 22/100\n",
      "34/34 [==============================] - 0s 3ms/step - loss: nan - mae: nan\n",
      "Epoch 23/100\n",
      "34/34 [==============================] - 0s 2ms/step - loss: nan - mae: nan\n",
      "Epoch 24/100\n",
      "34/34 [==============================] - 0s 2ms/step - loss: nan - mae: nan\n",
      "Epoch 25/100\n",
      "34/34 [==============================] - 0s 2ms/step - loss: nan - mae: nan\n",
      "Epoch 26/100\n",
      "34/34 [==============================] - 0s 2ms/step - loss: nan - mae: nan\n",
      "Epoch 27/100\n",
      "34/34 [==============================] - 0s 2ms/step - loss: nan - mae: nan\n",
      "Epoch 28/100\n",
      "34/34 [==============================] - 0s 2ms/step - loss: nan - mae: nan\n",
      "Epoch 29/100\n",
      "34/34 [==============================] - 0s 2ms/step - loss: nan - mae: nan\n",
      "Epoch 30/100\n",
      "34/34 [==============================] - 0s 2ms/step - loss: nan - mae: nan\n",
      "Epoch 31/100\n",
      "34/34 [==============================] - 0s 2ms/step - loss: nan - mae: nan\n",
      "Epoch 32/100\n",
      "34/34 [==============================] - 0s 2ms/step - loss: nan - mae: nan\n",
      "Epoch 33/100\n",
      "34/34 [==============================] - 0s 2ms/step - loss: nan - mae: nan\n",
      "Epoch 34/100\n",
      "34/34 [==============================] - 0s 2ms/step - loss: nan - mae: nan\n",
      "Epoch 35/100\n",
      "34/34 [==============================] - 0s 2ms/step - loss: nan - mae: nan\n",
      "Epoch 36/100\n",
      "34/34 [==============================] - 0s 2ms/step - loss: nan - mae: nan\n",
      "Epoch 37/100\n",
      "34/34 [==============================] - 0s 2ms/step - loss: nan - mae: nan\n",
      "Epoch 38/100\n",
      "34/34 [==============================] - 0s 3ms/step - loss: nan - mae: nan\n",
      "Epoch 39/100\n",
      "34/34 [==============================] - 0s 2ms/step - loss: nan - mae: nan\n",
      "Epoch 40/100\n",
      "34/34 [==============================] - 0s 2ms/step - loss: nan - mae: nan\n",
      "Epoch 41/100\n",
      "34/34 [==============================] - 0s 2ms/step - loss: nan - mae: nan\n",
      "Epoch 42/100\n",
      "34/34 [==============================] - 0s 2ms/step - loss: nan - mae: nan\n",
      "Epoch 43/100\n",
      "34/34 [==============================] - 0s 2ms/step - loss: nan - mae: nan\n",
      "Epoch 44/100\n",
      "34/34 [==============================] - 0s 2ms/step - loss: nan - mae: nan\n",
      "Epoch 45/100\n",
      "34/34 [==============================] - 0s 2ms/step - loss: nan - mae: nan\n",
      "Epoch 46/100\n",
      "34/34 [==============================] - 0s 2ms/step - loss: nan - mae: nan\n",
      "Epoch 47/100\n",
      "34/34 [==============================] - 0s 2ms/step - loss: nan - mae: nan\n",
      "Epoch 48/100\n",
      "34/34 [==============================] - 0s 2ms/step - loss: nan - mae: nan\n",
      "Epoch 49/100\n",
      "34/34 [==============================] - 0s 2ms/step - loss: nan - mae: nan\n",
      "Epoch 50/100\n",
      "34/34 [==============================] - 0s 3ms/step - loss: nan - mae: nan\n",
      "Epoch 51/100\n",
      "34/34 [==============================] - 0s 3ms/step - loss: nan - mae: nan\n",
      "Epoch 52/100\n",
      "34/34 [==============================] - 0s 2ms/step - loss: nan - mae: nan\n",
      "Epoch 53/100\n",
      "34/34 [==============================] - 0s 2ms/step - loss: nan - mae: nan\n",
      "Epoch 54/100\n",
      "34/34 [==============================] - 0s 2ms/step - loss: nan - mae: nan\n",
      "Epoch 55/100\n",
      "34/34 [==============================] - 0s 2ms/step - loss: nan - mae: nan\n",
      "Epoch 56/100\n",
      "34/34 [==============================] - 0s 2ms/step - loss: nan - mae: nan\n",
      "Epoch 57/100\n",
      "34/34 [==============================] - 0s 2ms/step - loss: nan - mae: nan\n",
      "Epoch 58/100\n",
      "34/34 [==============================] - 0s 2ms/step - loss: nan - mae: nan\n",
      "Epoch 59/100\n",
      "34/34 [==============================] - 0s 3ms/step - loss: nan - mae: nan\n",
      "Epoch 60/100\n",
      "34/34 [==============================] - 0s 2ms/step - loss: nan - mae: nan\n",
      "Epoch 61/100\n",
      "34/34 [==============================] - 0s 2ms/step - loss: nan - mae: nan\n",
      "Epoch 62/100\n",
      "34/34 [==============================] - 0s 2ms/step - loss: nan - mae: nan\n",
      "Epoch 63/100\n",
      "34/34 [==============================] - 0s 2ms/step - loss: nan - mae: nan\n",
      "Epoch 64/100\n",
      "34/34 [==============================] - 0s 2ms/step - loss: nan - mae: nan\n",
      "Epoch 65/100\n",
      "34/34 [==============================] - 0s 2ms/step - loss: nan - mae: nan\n",
      "Epoch 66/100\n",
      "34/34 [==============================] - 0s 2ms/step - loss: nan - mae: nan\n",
      "Epoch 67/100\n",
      "34/34 [==============================] - 0s 2ms/step - loss: nan - mae: nan\n",
      "Epoch 68/100\n",
      "34/34 [==============================] - 0s 2ms/step - loss: nan - mae: nan\n",
      "Epoch 69/100\n",
      "34/34 [==============================] - 0s 2ms/step - loss: nan - mae: nan\n",
      "Epoch 70/100\n",
      "34/34 [==============================] - 0s 2ms/step - loss: nan - mae: nan\n",
      "Epoch 71/100\n",
      "34/34 [==============================] - 0s 3ms/step - loss: nan - mae: nan\n",
      "Epoch 72/100\n",
      "34/34 [==============================] - 0s 2ms/step - loss: nan - mae: nan\n",
      "Epoch 73/100\n",
      "34/34 [==============================] - 0s 2ms/step - loss: nan - mae: nan\n",
      "Epoch 74/100\n",
      "34/34 [==============================] - 0s 2ms/step - loss: nan - mae: nan\n",
      "Epoch 75/100\n",
      "34/34 [==============================] - 0s 2ms/step - loss: nan - mae: nan\n",
      "Epoch 76/100\n",
      "34/34 [==============================] - 0s 2ms/step - loss: nan - mae: nan\n",
      "Epoch 77/100\n",
      "34/34 [==============================] - 0s 2ms/step - loss: nan - mae: nan\n",
      "Epoch 78/100\n",
      "34/34 [==============================] - 0s 2ms/step - loss: nan - mae: nan\n",
      "Epoch 79/100\n",
      "34/34 [==============================] - 0s 2ms/step - loss: nan - mae: nan\n",
      "Epoch 80/100\n",
      "34/34 [==============================] - 0s 2ms/step - loss: nan - mae: nan\n",
      "Epoch 81/100\n",
      "34/34 [==============================] - 0s 2ms/step - loss: nan - mae: nan\n",
      "Epoch 82/100\n",
      "34/34 [==============================] - 0s 3ms/step - loss: nan - mae: nan\n",
      "Epoch 83/100\n",
      "34/34 [==============================] - 0s 2ms/step - loss: nan - mae: nan\n",
      "Epoch 84/100\n",
      "34/34 [==============================] - 0s 2ms/step - loss: nan - mae: nan\n",
      "Epoch 85/100\n",
      "34/34 [==============================] - 0s 3ms/step - loss: nan - mae: nan\n",
      "Epoch 86/100\n",
      "34/34 [==============================] - 0s 2ms/step - loss: nan - mae: nan\n",
      "Epoch 87/100\n",
      "34/34 [==============================] - 0s 2ms/step - loss: nan - mae: nan\n",
      "Epoch 88/100\n",
      "34/34 [==============================] - 0s 2ms/step - loss: nan - mae: nan\n",
      "Epoch 89/100\n",
      "34/34 [==============================] - 0s 2ms/step - loss: nan - mae: nan\n",
      "Epoch 90/100\n",
      "34/34 [==============================] - 0s 2ms/step - loss: nan - mae: nan\n",
      "Epoch 91/100\n",
      "34/34 [==============================] - 0s 2ms/step - loss: nan - mae: nan\n",
      "Epoch 92/100\n",
      "34/34 [==============================] - 0s 2ms/step - loss: nan - mae: nan\n",
      "Epoch 93/100\n"
     ]
    },
    {
     "name": "stdout",
     "output_type": "stream",
     "text": [
      "34/34 [==============================] - 0s 2ms/step - loss: nan - mae: nan\n",
      "Epoch 94/100\n",
      "34/34 [==============================] - 0s 2ms/step - loss: nan - mae: nan\n",
      "Epoch 95/100\n",
      "34/34 [==============================] - 0s 2ms/step - loss: nan - mae: nan\n",
      "Epoch 96/100\n",
      "34/34 [==============================] - 0s 3ms/step - loss: nan - mae: nan\n",
      "Epoch 97/100\n",
      "34/34 [==============================] - 0s 2ms/step - loss: nan - mae: nan\n",
      "Epoch 98/100\n",
      "34/34 [==============================] - 0s 2ms/step - loss: nan - mae: nan\n",
      "Epoch 99/100\n",
      "34/34 [==============================] - 0s 2ms/step - loss: nan - mae: nan\n",
      "Epoch 100/100\n",
      "34/34 [==============================] - 0s 2ms/step - loss: nan - mae: nan\n"
     ]
    },
    {
     "data": {
      "text/plain": [
       "<keras.callbacks.History at 0x1888ddee760>"
      ]
     },
     "execution_count": 95,
     "metadata": {},
     "output_type": "execute_result"
    }
   ],
   "source": [
    "# 1st experiment: add extra layer with more hidden units\n",
    "\n",
    "# Set random seed\n",
    "tf.random.set_seed(42)\n",
    "\n",
    "# 1. Create the model\n",
    "insurance_model_2 = tf.keras.Sequential([\n",
    "    tf.keras.layers.Dense(100),\n",
    "    tf.keras.layers.Dense(10),\n",
    "    tf.keras.layers.Dense(1)\n",
    "])\n",
    "\n",
    "# 2. Compile the model\n",
    "insurance_model_2.compile(loss=tf.keras.losses.mae,\n",
    "                         optimizer=tf.keras.optimizers.SGD(),\n",
    "                         metrics=[\"mae\"])\n",
    "\n",
    "# 3. Fit the model\n",
    "insurance_model_2.fit(X_train, y_train, epochs=100, verbose=1)"
   ]
  },
  {
   "cell_type": "markdown",
   "id": "7c30ff6b",
   "metadata": {},
   "source": [
    "**💡 Personal note**                \n",
    "\n",
    "Our model is outputing NAN as value. If we remove the first layer of 100 units, we would remark that the model we be trained fine. So we can theorize that the model is too large, and the dataset too small, for the model to learn anything.\n",
    "There are a few workaround such a case:\n",
    "1. Make the model a little smaller (the unit in the first layer can be reduced)\n",
    "1. The learning rate of the model can be reduced (so that the model learn better)\n",
    "1. The optimizer of the model can be chandeg."
   ]
  },
  {
   "cell_type": "code",
   "execution_count": null,
   "id": "e3be9852",
   "metadata": {},
   "outputs": [],
   "source": []
  },
  {
   "cell_type": "code",
   "execution_count": 96,
   "id": "2c78396e",
   "metadata": {},
   "outputs": [
    {
     "name": "stdout",
     "output_type": "stream",
     "text": [
      "Epoch 1/100\n",
      "34/34 [==============================] - 1s 3ms/step - loss: 13321.8232 - mae: 13321.8232\n",
      "Epoch 2/100\n",
      "34/34 [==============================] - 0s 3ms/step - loss: 13165.0752 - mae: 13165.0752\n",
      "Epoch 3/100\n",
      "34/34 [==============================] - 0s 3ms/step - loss: 12854.2549 - mae: 12854.2549\n",
      "Epoch 4/100\n",
      "34/34 [==============================] - 0s 3ms/step - loss: 12243.3379 - mae: 12243.3379\n",
      "Epoch 5/100\n",
      "34/34 [==============================] - 0s 3ms/step - loss: 11187.2451 - mae: 11187.2451\n",
      "Epoch 6/100\n",
      "34/34 [==============================] - 0s 3ms/step - loss: 9747.7129 - mae: 9747.7129\n",
      "Epoch 7/100\n",
      "34/34 [==============================] - 0s 3ms/step - loss: 8339.5361 - mae: 8339.5361\n",
      "Epoch 8/100\n",
      "34/34 [==============================] - 0s 3ms/step - loss: 7579.0371 - mae: 7579.0371\n",
      "Epoch 9/100\n",
      "34/34 [==============================] - 0s 3ms/step - loss: 7430.9307 - mae: 7430.9307\n",
      "Epoch 10/100\n",
      "34/34 [==============================] - 0s 3ms/step - loss: 7408.4893 - mae: 7408.4893\n",
      "Epoch 11/100\n",
      "34/34 [==============================] - 0s 3ms/step - loss: 7389.1377 - mae: 7389.1377\n",
      "Epoch 12/100\n",
      "34/34 [==============================] - 0s 3ms/step - loss: 7367.1899 - mae: 7367.1899\n",
      "Epoch 13/100\n",
      "34/34 [==============================] - 0s 3ms/step - loss: 7346.7227 - mae: 7346.7227\n",
      "Epoch 14/100\n",
      "34/34 [==============================] - 0s 3ms/step - loss: 7324.3096 - mae: 7324.3096\n",
      "Epoch 15/100\n",
      "34/34 [==============================] - 0s 3ms/step - loss: 7305.2515 - mae: 7305.2515\n",
      "Epoch 16/100\n",
      "34/34 [==============================] - 0s 3ms/step - loss: 7282.8638 - mae: 7282.8638\n",
      "Epoch 17/100\n",
      "34/34 [==============================] - 0s 3ms/step - loss: 7262.8208 - mae: 7262.8208\n",
      "Epoch 18/100\n",
      "34/34 [==============================] - 0s 3ms/step - loss: 7239.1792 - mae: 7239.1792\n",
      "Epoch 19/100\n",
      "34/34 [==============================] - 0s 3ms/step - loss: 7216.8291 - mae: 7216.8291\n",
      "Epoch 20/100\n",
      "34/34 [==============================] - 0s 3ms/step - loss: 7193.2134 - mae: 7193.2134\n",
      "Epoch 21/100\n",
      "34/34 [==============================] - 0s 3ms/step - loss: 7174.4917 - mae: 7174.4917\n",
      "Epoch 22/100\n",
      "34/34 [==============================] - 0s 2ms/step - loss: 7146.1094 - mae: 7146.1094\n",
      "Epoch 23/100\n",
      "34/34 [==============================] - 0s 3ms/step - loss: 7120.5732 - mae: 7120.5732\n",
      "Epoch 24/100\n",
      "34/34 [==============================] - 0s 3ms/step - loss: 7095.5303 - mae: 7095.5303\n",
      "Epoch 25/100\n",
      "34/34 [==============================] - 0s 3ms/step - loss: 7077.1489 - mae: 7077.1489\n",
      "Epoch 26/100\n",
      "34/34 [==============================] - 0s 3ms/step - loss: 7043.9307 - mae: 7043.9307\n",
      "Epoch 27/100\n",
      "34/34 [==============================] - 0s 3ms/step - loss: 7015.1328 - mae: 7015.1328\n",
      "Epoch 28/100\n",
      "34/34 [==============================] - 0s 2ms/step - loss: 6986.1123 - mae: 6986.1123\n",
      "Epoch 29/100\n",
      "34/34 [==============================] - 0s 3ms/step - loss: 6957.1138 - mae: 6957.1138\n",
      "Epoch 30/100\n",
      "34/34 [==============================] - 0s 3ms/step - loss: 6928.3970 - mae: 6928.3970\n",
      "Epoch 31/100\n",
      "34/34 [==============================] - 0s 3ms/step - loss: 6896.3291 - mae: 6896.3291\n",
      "Epoch 32/100\n",
      "34/34 [==============================] - 0s 3ms/step - loss: 6866.9404 - mae: 6866.9404\n",
      "Epoch 33/100\n",
      "34/34 [==============================] - 0s 3ms/step - loss: 6834.5254 - mae: 6834.5254\n",
      "Epoch 34/100\n",
      "34/34 [==============================] - 0s 3ms/step - loss: 6800.6924 - mae: 6800.6924\n",
      "Epoch 35/100\n",
      "34/34 [==============================] - 0s 3ms/step - loss: 6764.8379 - mae: 6764.8379\n",
      "Epoch 36/100\n",
      "34/34 [==============================] - 0s 3ms/step - loss: 6729.4307 - mae: 6729.4307\n",
      "Epoch 37/100\n",
      "34/34 [==============================] - 0s 3ms/step - loss: 6691.1309 - mae: 6691.1309\n",
      "Epoch 38/100\n",
      "34/34 [==============================] - 0s 3ms/step - loss: 6659.7466 - mae: 6659.7466\n",
      "Epoch 39/100\n",
      "34/34 [==============================] - 0s 3ms/step - loss: 6620.0103 - mae: 6620.0103\n",
      "Epoch 40/100\n",
      "34/34 [==============================] - 0s 4ms/step - loss: 6584.7930 - mae: 6584.7930\n",
      "Epoch 41/100\n",
      "34/34 [==============================] - 0s 3ms/step - loss: 6555.0649 - mae: 6555.0649\n",
      "Epoch 42/100\n",
      "34/34 [==============================] - 0s 3ms/step - loss: 6531.3301 - mae: 6531.3301\n",
      "Epoch 43/100\n",
      "34/34 [==============================] - 0s 3ms/step - loss: 6505.4819 - mae: 6505.4819\n",
      "Epoch 44/100\n",
      "34/34 [==============================] - 0s 3ms/step - loss: 6483.4600 - mae: 6483.4600\n",
      "Epoch 45/100\n",
      "34/34 [==============================] - 0s 3ms/step - loss: 6473.6128 - mae: 6473.6128\n",
      "Epoch 46/100\n",
      "34/34 [==============================] - 0s 3ms/step - loss: 6455.8960 - mae: 6455.8960\n",
      "Epoch 47/100\n",
      "34/34 [==============================] - 0s 3ms/step - loss: 6439.4697 - mae: 6439.4697\n",
      "Epoch 48/100\n",
      "34/34 [==============================] - 0s 3ms/step - loss: 6425.3745 - mae: 6425.3745\n",
      "Epoch 49/100\n",
      "34/34 [==============================] - 0s 3ms/step - loss: 6412.1289 - mae: 6412.1289\n",
      "Epoch 50/100\n",
      "34/34 [==============================] - 0s 3ms/step - loss: 6397.9150 - mae: 6397.9150\n",
      "Epoch 51/100\n",
      "34/34 [==============================] - 0s 3ms/step - loss: 6384.4087 - mae: 6384.4087\n",
      "Epoch 52/100\n",
      "34/34 [==============================] - 0s 3ms/step - loss: 6371.4019 - mae: 6371.4019\n",
      "Epoch 53/100\n",
      "34/34 [==============================] - 0s 3ms/step - loss: 6356.3521 - mae: 6356.3521\n",
      "Epoch 54/100\n",
      "34/34 [==============================] - 0s 3ms/step - loss: 6342.2373 - mae: 6342.2373\n",
      "Epoch 55/100\n",
      "34/34 [==============================] - 0s 3ms/step - loss: 6328.0200 - mae: 6328.0200\n",
      "Epoch 56/100\n",
      "34/34 [==============================] - 0s 3ms/step - loss: 6313.1333 - mae: 6313.1333\n",
      "Epoch 57/100\n",
      "34/34 [==============================] - 0s 2ms/step - loss: 6299.2319 - mae: 6299.2319\n",
      "Epoch 58/100\n",
      "34/34 [==============================] - 0s 3ms/step - loss: 6285.0752 - mae: 6285.0752\n",
      "Epoch 59/100\n",
      "34/34 [==============================] - 0s 3ms/step - loss: 6268.6948 - mae: 6268.6948\n",
      "Epoch 60/100\n",
      "34/34 [==============================] - 0s 3ms/step - loss: 6256.5410 - mae: 6256.5410\n",
      "Epoch 61/100\n",
      "34/34 [==============================] - 0s 3ms/step - loss: 6235.8521 - mae: 6235.8521\n",
      "Epoch 62/100\n",
      "34/34 [==============================] - 0s 3ms/step - loss: 6223.1250 - mae: 6223.1250\n",
      "Epoch 63/100\n",
      "34/34 [==============================] - 0s 3ms/step - loss: 6203.4604 - mae: 6203.4604\n",
      "Epoch 64/100\n",
      "34/34 [==============================] - 0s 3ms/step - loss: 6185.2417 - mae: 6185.2417\n",
      "Epoch 65/100\n",
      "34/34 [==============================] - 0s 3ms/step - loss: 6167.1113 - mae: 6167.1113\n",
      "Epoch 66/100\n",
      "34/34 [==============================] - 0s 2ms/step - loss: 6148.1226 - mae: 6148.1226\n",
      "Epoch 67/100\n",
      "34/34 [==============================] - 0s 2ms/step - loss: 6135.1602 - mae: 6135.1602\n",
      "Epoch 68/100\n",
      "34/34 [==============================] - 0s 2ms/step - loss: 6111.2227 - mae: 6111.2227\n",
      "Epoch 69/100\n",
      "34/34 [==============================] - 0s 3ms/step - loss: 6092.5386 - mae: 6092.5386\n",
      "Epoch 70/100\n",
      "34/34 [==============================] - 0s 3ms/step - loss: 6070.7583 - mae: 6070.7583\n",
      "Epoch 71/100\n",
      "34/34 [==============================] - 0s 3ms/step - loss: 6049.7178 - mae: 6049.7178\n",
      "Epoch 72/100\n",
      "34/34 [==============================] - 0s 3ms/step - loss: 6028.5386 - mae: 6028.5386\n",
      "Epoch 73/100\n",
      "34/34 [==============================] - 0s 3ms/step - loss: 6012.2881 - mae: 6012.2881\n",
      "Epoch 74/100\n",
      "34/34 [==============================] - 0s 3ms/step - loss: 5981.8398 - mae: 5981.8398\n",
      "Epoch 75/100\n",
      "34/34 [==============================] - 0s 3ms/step - loss: 5958.9185 - mae: 5958.9185\n",
      "Epoch 76/100\n",
      "34/34 [==============================] - 0s 3ms/step - loss: 5940.8276 - mae: 5940.8276\n",
      "Epoch 77/100\n",
      "34/34 [==============================] - 0s 3ms/step - loss: 5908.6445 - mae: 5908.6445\n",
      "Epoch 78/100\n",
      "34/34 [==============================] - 0s 3ms/step - loss: 5881.3779 - mae: 5881.3779\n",
      "Epoch 79/100\n",
      "34/34 [==============================] - 0s 3ms/step - loss: 5854.0859 - mae: 5854.0859\n",
      "Epoch 80/100\n",
      "34/34 [==============================] - 0s 3ms/step - loss: 5822.9946 - mae: 5822.9946\n",
      "Epoch 81/100\n",
      "34/34 [==============================] - 0s 3ms/step - loss: 5795.7646 - mae: 5795.7646\n",
      "Epoch 82/100\n"
     ]
    },
    {
     "name": "stdout",
     "output_type": "stream",
     "text": [
      "34/34 [==============================] - 0s 3ms/step - loss: 5763.1733 - mae: 5763.1733\n",
      "Epoch 83/100\n",
      "34/34 [==============================] - 0s 2ms/step - loss: 5732.5049 - mae: 5732.5049\n",
      "Epoch 84/100\n",
      "34/34 [==============================] - 0s 2ms/step - loss: 5696.1270 - mae: 5696.1270\n",
      "Epoch 85/100\n",
      "34/34 [==============================] - 0s 3ms/step - loss: 5667.1733 - mae: 5667.1733\n",
      "Epoch 86/100\n",
      "34/34 [==============================] - 0s 3ms/step - loss: 5628.9980 - mae: 5628.9980\n",
      "Epoch 87/100\n",
      "34/34 [==============================] - 0s 3ms/step - loss: 5587.4497 - mae: 5587.4497\n",
      "Epoch 88/100\n",
      "34/34 [==============================] - 0s 3ms/step - loss: 5548.4160 - mae: 5548.4160\n",
      "Epoch 89/100\n",
      "34/34 [==============================] - 0s 3ms/step - loss: 5504.1362 - mae: 5504.1362\n",
      "Epoch 90/100\n",
      "34/34 [==============================] - 0s 3ms/step - loss: 5457.8462 - mae: 5457.8462\n",
      "Epoch 91/100\n",
      "34/34 [==============================] - 0s 3ms/step - loss: 5414.9658 - mae: 5414.9658\n",
      "Epoch 92/100\n",
      "34/34 [==============================] - 0s 2ms/step - loss: 5365.2603 - mae: 5365.2603\n",
      "Epoch 93/100\n",
      "34/34 [==============================] - 0s 2ms/step - loss: 5315.8584 - mae: 5315.8584\n",
      "Epoch 94/100\n",
      "34/34 [==============================] - 0s 2ms/step - loss: 5263.2197 - mae: 5263.2197\n",
      "Epoch 95/100\n",
      "34/34 [==============================] - 0s 2ms/step - loss: 5207.2412 - mae: 5207.2412\n",
      "Epoch 96/100\n",
      "34/34 [==============================] - 0s 3ms/step - loss: 5155.8325 - mae: 5155.8325\n",
      "Epoch 97/100\n",
      "34/34 [==============================] - 0s 3ms/step - loss: 5096.7598 - mae: 5096.7598\n",
      "Epoch 98/100\n",
      "34/34 [==============================] - 0s 3ms/step - loss: 5028.5342 - mae: 5028.5342\n",
      "Epoch 99/100\n",
      "34/34 [==============================] - 0s 3ms/step - loss: 4962.1025 - mae: 4962.1025\n",
      "Epoch 100/100\n",
      "34/34 [==============================] - 0s 3ms/step - loss: 4904.0400 - mae: 4904.0400\n"
     ]
    },
    {
     "data": {
      "text/plain": [
       "<keras.callbacks.History at 0x1888f10e730>"
      ]
     },
     "execution_count": 96,
     "metadata": {},
     "output_type": "execute_result"
    }
   ],
   "source": [
    "# 1st experiment (updated): add extra layer with more hidden units, while using Adam optimizer\n",
    "\n",
    "# Set random seed\n",
    "tf.random.set_seed(42)\n",
    "\n",
    "# 1. Create the model\n",
    "insurance_model_2 = tf.keras.Sequential([\n",
    "    tf.keras.layers.Dense(100),\n",
    "    tf.keras.layers.Dense(10),\n",
    "    tf.keras.layers.Dense(1)\n",
    "])\n",
    "\n",
    "# 2. Compile the model\n",
    "insurance_model_2.compile(loss=tf.keras.losses.mae,\n",
    "                         optimizer=tf.keras.optimizers.Adam(),\n",
    "                         metrics=[\"mae\"])\n",
    "\n",
    "# 3. Fit the model\n",
    "insurance_model_2.fit(X_train, y_train, epochs=100, verbose=1)"
   ]
  },
  {
   "cell_type": "markdown",
   "id": "d26894a7",
   "metadata": {},
   "source": [
    "Two remarks:\n",
    "1. Now the model is not outputing NAN when we updated its optimizer\n",
    "1. This model is performing better (the loss now is 4943) in training compared to the first one"
   ]
  },
  {
   "cell_type": "code",
   "execution_count": 97,
   "id": "e791e747",
   "metadata": {},
   "outputs": [
    {
     "name": "stdout",
     "output_type": "stream",
     "text": [
      "9/9 [==============================] - 0s 3ms/step - loss: 4776.6196 - mae: 4776.6196\n"
     ]
    },
    {
     "data": {
      "text/plain": [
       "[4776.61962890625, 4776.61962890625]"
      ]
     },
     "execution_count": 97,
     "metadata": {},
     "output_type": "execute_result"
    }
   ],
   "source": [
    "# Evaluate the 2nd model\n",
    "insurance_model_2.evaluate(X_test, y_test)"
   ]
  },
  {
   "cell_type": "code",
   "execution_count": 98,
   "id": "ad4f9156",
   "metadata": {},
   "outputs": [
    {
     "name": "stdout",
     "output_type": "stream",
     "text": [
      "9/9 [==============================] - 0s 3ms/step - loss: 8741.7197 - mae: 8741.7197\n"
     ]
    },
    {
     "data": {
      "text/plain": [
       "[8741.7197265625, 8741.7197265625]"
      ]
     },
     "execution_count": 98,
     "metadata": {},
     "output_type": "execute_result"
    }
   ],
   "source": [
    "# Evaluate the 1st model\n",
    "insurance_model.evaluate(X_test, y_test)"
   ]
  },
  {
   "cell_type": "markdown",
   "id": "9629f9fe",
   "metadata": {},
   "source": [
    "The 2nd model is indeed better than the 1st one, by a distance of 3000. Recall that only two things were tweaked: an extra layer was added, and the optimizer was changed; this might not always work, but it is good to remember they are one of the levers than can be turned to try to improve a model."
   ]
  },
  {
   "cell_type": "code",
   "execution_count": null,
   "id": "171d6ae0",
   "metadata": {},
   "outputs": [],
   "source": []
  },
  {
   "cell_type": "markdown",
   "id": "5d7497bd",
   "metadata": {},
   "source": [
    "We will update our experiments (the experiments can be updated according to how each of them proceed).\n",
    " \n",
    "<br/><br/>\n",
    "**Experiments (update)**:\n",
    "1. Add an extra layer with more hidden units, and use Adam optimizer\n",
    "1. Same as above, but train for longer\n",
    "1. *Insert your own experiment here, up to your imagination/experience*\n",
    "\n",
    "The second experiment was updated to \"Same as above,...\" because we saw that the 1st experiment give us a better result than the original model; thus we choose to try to improve the model of the 1st experiment during the 2nd experiment."
   ]
  },
  {
   "cell_type": "code",
   "execution_count": 99,
   "id": "58b2e547",
   "metadata": {},
   "outputs": [
    {
     "name": "stdout",
     "output_type": "stream",
     "text": [
      "Epoch 1/200\n",
      "34/34 [==============================] - 1s 3ms/step - loss: 13269.3008 - mae: 13269.3008\n",
      "Epoch 2/200\n",
      "34/34 [==============================] - 0s 3ms/step - loss: 13071.3721 - mae: 13071.3721\n",
      "Epoch 3/200\n",
      "34/34 [==============================] - 0s 3ms/step - loss: 12655.7314 - mae: 12655.7314\n",
      "Epoch 4/200\n",
      "34/34 [==============================] - 0s 3ms/step - loss: 11873.3096 - mae: 11873.3096\n",
      "Epoch 5/200\n",
      "34/34 [==============================] - 0s 3ms/step - loss: 10644.0859 - mae: 10644.0859\n",
      "Epoch 6/200\n",
      "34/34 [==============================] - 0s 3ms/step - loss: 9194.1729 - mae: 9194.1729\n",
      "Epoch 7/200\n",
      "34/34 [==============================] - 0s 2ms/step - loss: 7983.5273 - mae: 7983.5273\n",
      "Epoch 8/200\n",
      "34/34 [==============================] - 0s 3ms/step - loss: 7502.6587 - mae: 7502.6587\n",
      "Epoch 9/200\n",
      "34/34 [==============================] - 0s 3ms/step - loss: 7434.7954 - mae: 7434.7954\n",
      "Epoch 10/200\n",
      "34/34 [==============================] - 0s 3ms/step - loss: 7415.5571 - mae: 7415.5571\n",
      "Epoch 11/200\n",
      "34/34 [==============================] - 0s 2ms/step - loss: 7397.3423 - mae: 7397.3423\n",
      "Epoch 12/200\n",
      "34/34 [==============================] - 0s 3ms/step - loss: 7375.7300 - mae: 7375.7300\n",
      "Epoch 13/200\n",
      "34/34 [==============================] - 0s 3ms/step - loss: 7355.8638 - mae: 7355.8638\n",
      "Epoch 14/200\n",
      "34/34 [==============================] - 0s 3ms/step - loss: 7333.8394 - mae: 7333.8394\n",
      "Epoch 15/200\n",
      "34/34 [==============================] - 0s 3ms/step - loss: 7315.2119 - mae: 7315.2119\n",
      "Epoch 16/200\n",
      "34/34 [==============================] - 0s 3ms/step - loss: 7293.3032 - mae: 7293.3032\n",
      "Epoch 17/200\n",
      "34/34 [==============================] - 0s 2ms/step - loss: 7273.3398 - mae: 7273.3398\n",
      "Epoch 18/200\n",
      "34/34 [==============================] - 0s 3ms/step - loss: 7250.5278 - mae: 7250.5278\n",
      "Epoch 19/200\n",
      "34/34 [==============================] - 0s 3ms/step - loss: 7228.7891 - mae: 7228.7891\n",
      "Epoch 20/200\n",
      "34/34 [==============================] - 0s 2ms/step - loss: 7206.0459 - mae: 7206.0459\n",
      "Epoch 21/200\n",
      "34/34 [==============================] - 0s 3ms/step - loss: 7187.9121 - mae: 7187.9121\n",
      "Epoch 22/200\n",
      "34/34 [==============================] - 0s 3ms/step - loss: 7161.0713 - mae: 7161.0713\n",
      "Epoch 23/200\n",
      "34/34 [==============================] - 0s 3ms/step - loss: 7136.6904 - mae: 7136.6904\n",
      "Epoch 24/200\n",
      "34/34 [==============================] - 0s 3ms/step - loss: 7112.8315 - mae: 7112.8315\n",
      "Epoch 25/200\n",
      "34/34 [==============================] - 0s 3ms/step - loss: 7095.0850 - mae: 7095.0850\n",
      "Epoch 26/200\n",
      "34/34 [==============================] - 0s 3ms/step - loss: 7064.7847 - mae: 7064.7847\n",
      "Epoch 27/200\n",
      "34/34 [==============================] - 0s 3ms/step - loss: 7036.8301 - mae: 7036.8301\n",
      "Epoch 28/200\n",
      "34/34 [==============================] - 0s 3ms/step - loss: 7009.6494 - mae: 7009.6494\n",
      "Epoch 29/200\n",
      "34/34 [==============================] - 0s 2ms/step - loss: 6983.1118 - mae: 6983.1118\n",
      "Epoch 30/200\n",
      "34/34 [==============================] - 0s 2ms/step - loss: 6956.4326 - mae: 6956.4326\n",
      "Epoch 31/200\n",
      "34/34 [==============================] - 0s 2ms/step - loss: 6926.3032 - mae: 6926.3032\n",
      "Epoch 32/200\n",
      "34/34 [==============================] - 0s 2ms/step - loss: 6899.9365 - mae: 6899.9365\n",
      "Epoch 33/200\n",
      "34/34 [==============================] - 0s 3ms/step - loss: 6869.9751 - mae: 6869.9751\n",
      "Epoch 34/200\n",
      "34/34 [==============================] - 0s 3ms/step - loss: 6838.7734 - mae: 6838.7734\n",
      "Epoch 35/200\n",
      "34/34 [==============================] - 0s 3ms/step - loss: 6807.0688 - mae: 6807.0688\n",
      "Epoch 36/200\n",
      "34/34 [==============================] - 0s 3ms/step - loss: 6774.0913 - mae: 6774.0913\n",
      "Epoch 37/200\n",
      "34/34 [==============================] - 0s 3ms/step - loss: 6739.7065 - mae: 6739.7065\n",
      "Epoch 38/200\n",
      "34/34 [==============================] - 0s 3ms/step - loss: 6708.6323 - mae: 6708.6323\n",
      "Epoch 39/200\n",
      "34/34 [==============================] - 0s 3ms/step - loss: 6670.2500 - mae: 6670.2500\n",
      "Epoch 40/200\n",
      "34/34 [==============================] - 0s 3ms/step - loss: 6635.6865 - mae: 6635.6865\n",
      "Epoch 41/200\n",
      "34/34 [==============================] - 0s 2ms/step - loss: 6602.5029 - mae: 6602.5029\n",
      "Epoch 42/200\n",
      "34/34 [==============================] - 0s 3ms/step - loss: 6572.9434 - mae: 6572.9434\n",
      "Epoch 43/200\n",
      "34/34 [==============================] - 0s 3ms/step - loss: 6541.6431 - mae: 6541.6431\n",
      "Epoch 44/200\n",
      "34/34 [==============================] - 0s 3ms/step - loss: 6516.5835 - mae: 6516.5835\n",
      "Epoch 45/200\n",
      "34/34 [==============================] - 0s 3ms/step - loss: 6499.4048 - mae: 6499.4048\n",
      "Epoch 46/200\n",
      "34/34 [==============================] - 0s 3ms/step - loss: 6480.4023 - mae: 6480.4023\n",
      "Epoch 47/200\n",
      "34/34 [==============================] - 0s 3ms/step - loss: 6463.6299 - mae: 6463.6299\n",
      "Epoch 48/200\n",
      "34/34 [==============================] - 0s 3ms/step - loss: 6447.8359 - mae: 6447.8359\n",
      "Epoch 49/200\n",
      "34/34 [==============================] - 0s 4ms/step - loss: 6434.5049 - mae: 6434.5049\n",
      "Epoch 50/200\n",
      "34/34 [==============================] - 0s 3ms/step - loss: 6420.4072 - mae: 6420.4072\n",
      "Epoch 51/200\n",
      "34/34 [==============================] - 0s 3ms/step - loss: 6406.9214 - mae: 6406.9214\n",
      "Epoch 52/200\n",
      "34/34 [==============================] - 0s 3ms/step - loss: 6395.0059 - mae: 6395.0059\n",
      "Epoch 53/200\n",
      "34/34 [==============================] - 0s 3ms/step - loss: 6380.9272 - mae: 6380.9272\n",
      "Epoch 54/200\n",
      "34/34 [==============================] - 0s 3ms/step - loss: 6367.1094 - mae: 6367.1094\n",
      "Epoch 55/200\n",
      "34/34 [==============================] - 0s 3ms/step - loss: 6353.8364 - mae: 6353.8364\n",
      "Epoch 56/200\n",
      "34/34 [==============================] - 0s 3ms/step - loss: 6340.3369 - mae: 6340.3369\n",
      "Epoch 57/200\n",
      "34/34 [==============================] - 0s 3ms/step - loss: 6327.1846 - mae: 6327.1846\n",
      "Epoch 58/200\n",
      "34/34 [==============================] - 0s 3ms/step - loss: 6313.9648 - mae: 6313.9648\n",
      "Epoch 59/200\n",
      "34/34 [==============================] - 0s 3ms/step - loss: 6297.6362 - mae: 6297.6362\n",
      "Epoch 60/200\n",
      "34/34 [==============================] - 0s 3ms/step - loss: 6287.2915 - mae: 6287.2915\n",
      "Epoch 61/200\n",
      "34/34 [==============================] - 0s 2ms/step - loss: 6267.7803 - mae: 6267.7803\n",
      "Epoch 62/200\n",
      "34/34 [==============================] - 0s 3ms/step - loss: 6255.0640 - mae: 6255.0640\n",
      "Epoch 63/200\n",
      "34/34 [==============================] - 0s 3ms/step - loss: 6236.7822 - mae: 6236.7822\n",
      "Epoch 64/200\n",
      "34/34 [==============================] - 0s 3ms/step - loss: 6220.3828 - mae: 6220.3828\n",
      "Epoch 65/200\n",
      "34/34 [==============================] - 0s 3ms/step - loss: 6202.9502 - mae: 6202.9502\n",
      "Epoch 66/200\n",
      "34/34 [==============================] - 0s 3ms/step - loss: 6185.8667 - mae: 6185.8667\n",
      "Epoch 67/200\n",
      "34/34 [==============================] - 0s 3ms/step - loss: 6172.8838 - mae: 6172.8838\n",
      "Epoch 68/200\n",
      "34/34 [==============================] - 0s 3ms/step - loss: 6150.4629 - mae: 6150.4629\n",
      "Epoch 69/200\n",
      "34/34 [==============================] - 0s 3ms/step - loss: 6134.2700 - mae: 6134.2700\n",
      "Epoch 70/200\n",
      "34/34 [==============================] - 0s 3ms/step - loss: 6113.9839 - mae: 6113.9839\n",
      "Epoch 71/200\n",
      "34/34 [==============================] - 0s 3ms/step - loss: 6094.1875 - mae: 6094.1875\n",
      "Epoch 72/200\n",
      "34/34 [==============================] - 0s 2ms/step - loss: 6074.8315 - mae: 6074.8315\n",
      "Epoch 73/200\n",
      "34/34 [==============================] - 0s 2ms/step - loss: 6060.7275 - mae: 6060.7275\n",
      "Epoch 74/200\n",
      "34/34 [==============================] - 0s 2ms/step - loss: 6032.4707 - mae: 6032.4707\n",
      "Epoch 75/200\n",
      "34/34 [==============================] - 0s 3ms/step - loss: 6011.4541 - mae: 6011.4541\n",
      "Epoch 76/200\n",
      "34/34 [==============================] - 0s 3ms/step - loss: 5996.3369 - mae: 5996.3369\n",
      "Epoch 77/200\n",
      "34/34 [==============================] - 0s 3ms/step - loss: 5963.8447 - mae: 5963.8447\n",
      "Epoch 78/200\n",
      "34/34 [==============================] - 0s 3ms/step - loss: 5940.5884 - mae: 5940.5884\n",
      "Epoch 79/200\n",
      "34/34 [==============================] - 0s 3ms/step - loss: 5916.1074 - mae: 5916.1074\n",
      "Epoch 80/200\n",
      "34/34 [==============================] - 0s 3ms/step - loss: 5888.7637 - mae: 5888.7637\n",
      "Epoch 81/200\n",
      "34/34 [==============================] - 0s 3ms/step - loss: 5862.8354 - mae: 5862.8354\n",
      "Epoch 82/200\n"
     ]
    },
    {
     "name": "stdout",
     "output_type": "stream",
     "text": [
      "34/34 [==============================] - 0s 3ms/step - loss: 5834.0566 - mae: 5834.0566\n",
      "Epoch 83/200\n",
      "34/34 [==============================] - 0s 3ms/step - loss: 5805.9502 - mae: 5805.9502\n",
      "Epoch 84/200\n",
      "34/34 [==============================] - 0s 3ms/step - loss: 5773.0620 - mae: 5773.0620\n",
      "Epoch 85/200\n",
      "34/34 [==============================] - 0s 3ms/step - loss: 5746.6475 - mae: 5746.6475\n",
      "Epoch 86/200\n",
      "34/34 [==============================] - 0s 3ms/step - loss: 5712.4897 - mae: 5712.4897\n",
      "Epoch 87/200\n",
      "34/34 [==============================] - 0s 3ms/step - loss: 5675.8672 - mae: 5675.8672\n",
      "Epoch 88/200\n",
      "34/34 [==============================] - 0s 3ms/step - loss: 5640.8735 - mae: 5640.8735\n",
      "Epoch 89/200\n",
      "34/34 [==============================] - 0s 3ms/step - loss: 5602.5024 - mae: 5602.5024\n",
      "Epoch 90/200\n",
      "34/34 [==============================] - 0s 3ms/step - loss: 5561.6377 - mae: 5561.6377\n",
      "Epoch 91/200\n",
      "34/34 [==============================] - 0s 3ms/step - loss: 5525.3955 - mae: 5525.3955\n",
      "Epoch 92/200\n",
      "34/34 [==============================] - 0s 3ms/step - loss: 5476.6875 - mae: 5476.6875\n",
      "Epoch 93/200\n",
      "34/34 [==============================] - 0s 3ms/step - loss: 5436.7456 - mae: 5436.7456\n",
      "Epoch 94/200\n",
      "34/34 [==============================] - 0s 3ms/step - loss: 5391.0747 - mae: 5391.0747\n",
      "Epoch 95/200\n",
      "34/34 [==============================] - 0s 3ms/step - loss: 5338.9517 - mae: 5338.9517\n",
      "Epoch 96/200\n",
      "34/34 [==============================] - 0s 3ms/step - loss: 5292.4878 - mae: 5292.4878\n",
      "Epoch 97/200\n",
      "34/34 [==============================] - 0s 3ms/step - loss: 5241.2949 - mae: 5241.2949\n",
      "Epoch 98/200\n",
      "34/34 [==============================] - 0s 2ms/step - loss: 5179.4629 - mae: 5179.4629\n",
      "Epoch 99/200\n",
      "34/34 [==============================] - 0s 2ms/step - loss: 5121.5430 - mae: 5121.5430\n",
      "Epoch 100/200\n",
      "34/34 [==============================] - 0s 2ms/step - loss: 5067.6479 - mae: 5067.6479\n",
      "Epoch 101/200\n",
      "34/34 [==============================] - 0s 2ms/step - loss: 4998.1475 - mae: 4998.1475\n",
      "Epoch 102/200\n",
      "34/34 [==============================] - 0s 3ms/step - loss: 4927.3599 - mae: 4927.3599\n",
      "Epoch 103/200\n",
      "34/34 [==============================] - 0s 3ms/step - loss: 4860.9199 - mae: 4860.9199\n",
      "Epoch 104/200\n",
      "34/34 [==============================] - 0s 3ms/step - loss: 4783.6675 - mae: 4783.6675\n",
      "Epoch 105/200\n",
      "34/34 [==============================] - 0s 3ms/step - loss: 4700.6128 - mae: 4700.6128\n",
      "Epoch 106/200\n",
      "34/34 [==============================] - 0s 2ms/step - loss: 4619.9229 - mae: 4619.9229\n",
      "Epoch 107/200\n",
      "34/34 [==============================] - 0s 2ms/step - loss: 4535.9019 - mae: 4535.9019\n",
      "Epoch 108/200\n",
      "34/34 [==============================] - 0s 3ms/step - loss: 4446.4351 - mae: 4446.4351\n",
      "Epoch 109/200\n",
      "34/34 [==============================] - 0s 3ms/step - loss: 4363.5698 - mae: 4363.5698\n",
      "Epoch 110/200\n",
      "34/34 [==============================] - 0s 3ms/step - loss: 4281.7573 - mae: 4281.7573\n",
      "Epoch 111/200\n",
      "34/34 [==============================] - 0s 3ms/step - loss: 4198.2671 - mae: 4198.2671\n",
      "Epoch 112/200\n",
      "34/34 [==============================] - 0s 3ms/step - loss: 4127.0552 - mae: 4127.0552\n",
      "Epoch 113/200\n",
      "34/34 [==============================] - 0s 3ms/step - loss: 4054.0398 - mae: 4054.0398\n",
      "Epoch 114/200\n",
      "34/34 [==============================] - 0s 3ms/step - loss: 4002.5239 - mae: 4002.5239\n",
      "Epoch 115/200\n",
      "34/34 [==============================] - 0s 3ms/step - loss: 3951.1758 - mae: 3951.1758\n",
      "Epoch 116/200\n",
      "34/34 [==============================] - 0s 3ms/step - loss: 3928.5996 - mae: 3928.5996\n",
      "Epoch 117/200\n",
      "34/34 [==============================] - 0s 3ms/step - loss: 3909.1746 - mae: 3909.1746\n",
      "Epoch 118/200\n",
      "34/34 [==============================] - 0s 3ms/step - loss: 3879.6758 - mae: 3879.6758\n",
      "Epoch 119/200\n",
      "34/34 [==============================] - 0s 3ms/step - loss: 3857.7971 - mae: 3857.7971\n",
      "Epoch 120/200\n",
      "34/34 [==============================] - 0s 3ms/step - loss: 3839.5322 - mae: 3839.5322\n",
      "Epoch 121/200\n",
      "34/34 [==============================] - 0s 2ms/step - loss: 3832.6477 - mae: 3832.6477\n",
      "Epoch 122/200\n",
      "34/34 [==============================] - 0s 2ms/step - loss: 3826.6902 - mae: 3826.6902\n",
      "Epoch 123/200\n",
      "34/34 [==============================] - 0s 3ms/step - loss: 3820.0469 - mae: 3820.0469\n",
      "Epoch 124/200\n",
      "34/34 [==============================] - 0s 3ms/step - loss: 3810.7830 - mae: 3810.7830\n",
      "Epoch 125/200\n",
      "34/34 [==============================] - 0s 3ms/step - loss: 3799.8977 - mae: 3799.8977\n",
      "Epoch 126/200\n",
      "34/34 [==============================] - 0s 3ms/step - loss: 3813.0527 - mae: 3813.0527\n",
      "Epoch 127/200\n",
      "34/34 [==============================] - 0s 3ms/step - loss: 3797.7383 - mae: 3797.7383\n",
      "Epoch 128/200\n",
      "34/34 [==============================] - 0s 3ms/step - loss: 3794.2090 - mae: 3794.2090\n",
      "Epoch 129/200\n",
      "34/34 [==============================] - 0s 3ms/step - loss: 3806.2751 - mae: 3806.2751\n",
      "Epoch 130/200\n",
      "34/34 [==============================] - 0s 3ms/step - loss: 3794.1960 - mae: 3794.1960\n",
      "Epoch 131/200\n",
      "34/34 [==============================] - 0s 3ms/step - loss: 3783.6123 - mae: 3783.6123\n",
      "Epoch 132/200\n",
      "34/34 [==============================] - 0s 3ms/step - loss: 3777.0576 - mae: 3777.0576\n",
      "Epoch 133/200\n",
      "34/34 [==============================] - 0s 3ms/step - loss: 3773.1653 - mae: 3773.1653\n",
      "Epoch 134/200\n",
      "34/34 [==============================] - 0s 3ms/step - loss: 3774.1565 - mae: 3774.1565\n",
      "Epoch 135/200\n",
      "34/34 [==============================] - 0s 3ms/step - loss: 3769.8523 - mae: 3769.8523\n",
      "Epoch 136/200\n",
      "34/34 [==============================] - 0s 3ms/step - loss: 3768.4529 - mae: 3768.4529\n",
      "Epoch 137/200\n",
      "34/34 [==============================] - 0s 3ms/step - loss: 3776.9724 - mae: 3776.9724\n",
      "Epoch 138/200\n",
      "34/34 [==============================] - 0s 3ms/step - loss: 3784.4465 - mae: 3784.4465\n",
      "Epoch 139/200\n",
      "34/34 [==============================] - 0s 3ms/step - loss: 3763.6926 - mae: 3763.6926\n",
      "Epoch 140/200\n",
      "34/34 [==============================] - 0s 3ms/step - loss: 3764.7529 - mae: 3764.7529\n",
      "Epoch 141/200\n",
      "34/34 [==============================] - 0s 3ms/step - loss: 3765.8950 - mae: 3765.8950\n",
      "Epoch 142/200\n",
      "34/34 [==============================] - 0s 3ms/step - loss: 3765.9304 - mae: 3765.9304\n",
      "Epoch 143/200\n",
      "34/34 [==============================] - 0s 3ms/step - loss: 3756.7756 - mae: 3756.7756\n",
      "Epoch 144/200\n",
      "34/34 [==============================] - 0s 3ms/step - loss: 3752.5972 - mae: 3752.5972\n",
      "Epoch 145/200\n",
      "34/34 [==============================] - 0s 3ms/step - loss: 3752.7495 - mae: 3752.7495\n",
      "Epoch 146/200\n",
      "34/34 [==============================] - 0s 3ms/step - loss: 3757.0576 - mae: 3757.0576\n",
      "Epoch 147/200\n",
      "34/34 [==============================] - 0s 3ms/step - loss: 3753.9280 - mae: 3753.9280\n",
      "Epoch 148/200\n",
      "34/34 [==============================] - 0s 3ms/step - loss: 3758.6260 - mae: 3758.6260\n",
      "Epoch 149/200\n",
      "34/34 [==============================] - 0s 3ms/step - loss: 3746.0115 - mae: 3746.0115\n",
      "Epoch 150/200\n",
      "34/34 [==============================] - 0s 3ms/step - loss: 3740.6858 - mae: 3740.6858\n",
      "Epoch 151/200\n",
      "34/34 [==============================] - 0s 3ms/step - loss: 3742.9893 - mae: 3742.9893\n",
      "Epoch 152/200\n",
      "34/34 [==============================] - 0s 3ms/step - loss: 3744.9429 - mae: 3744.9429\n",
      "Epoch 153/200\n",
      "34/34 [==============================] - 0s 3ms/step - loss: 3744.6570 - mae: 3744.6570\n",
      "Epoch 154/200\n",
      "34/34 [==============================] - 0s 2ms/step - loss: 3739.1038 - mae: 3739.1038\n",
      "Epoch 155/200\n",
      "34/34 [==============================] - 0s 3ms/step - loss: 3741.1262 - mae: 3741.1262\n",
      "Epoch 156/200\n",
      "34/34 [==============================] - 0s 3ms/step - loss: 3737.4128 - mae: 3737.4128\n",
      "Epoch 157/200\n",
      "34/34 [==============================] - 0s 3ms/step - loss: 3735.9856 - mae: 3735.9856\n",
      "Epoch 158/200\n",
      "34/34 [==============================] - 0s 2ms/step - loss: 3731.3118 - mae: 3731.3118\n",
      "Epoch 159/200\n",
      "34/34 [==============================] - 0s 3ms/step - loss: 3728.5522 - mae: 3728.5522\n",
      "Epoch 160/200\n",
      "34/34 [==============================] - 0s 3ms/step - loss: 3735.0593 - mae: 3735.0593\n",
      "Epoch 161/200\n",
      "34/34 [==============================] - 0s 3ms/step - loss: 3730.3835 - mae: 3730.3835\n",
      "Epoch 162/200\n"
     ]
    },
    {
     "name": "stdout",
     "output_type": "stream",
     "text": [
      "34/34 [==============================] - 0s 3ms/step - loss: 3726.6218 - mae: 3726.6218\n",
      "Epoch 163/200\n",
      "34/34 [==============================] - 0s 3ms/step - loss: 3723.7144 - mae: 3723.7144\n",
      "Epoch 164/200\n",
      "34/34 [==============================] - 0s 3ms/step - loss: 3728.3245 - mae: 3728.3245\n",
      "Epoch 165/200\n",
      "34/34 [==============================] - 0s 3ms/step - loss: 3717.9895 - mae: 3717.9895\n",
      "Epoch 166/200\n",
      "34/34 [==============================] - 0s 3ms/step - loss: 3722.6387 - mae: 3722.6387\n",
      "Epoch 167/200\n",
      "34/34 [==============================] - 0s 3ms/step - loss: 3723.2510 - mae: 3723.2510\n",
      "Epoch 168/200\n",
      "34/34 [==============================] - 0s 3ms/step - loss: 3716.9199 - mae: 3716.9199\n",
      "Epoch 169/200\n",
      "34/34 [==============================] - 0s 3ms/step - loss: 3716.0640 - mae: 3716.0640\n",
      "Epoch 170/200\n",
      "34/34 [==============================] - 0s 3ms/step - loss: 3710.5149 - mae: 3710.5149\n",
      "Epoch 171/200\n",
      "34/34 [==============================] - 0s 3ms/step - loss: 3710.0471 - mae: 3710.0471\n",
      "Epoch 172/200\n",
      "34/34 [==============================] - 0s 3ms/step - loss: 3711.8979 - mae: 3711.8979\n",
      "Epoch 173/200\n",
      "34/34 [==============================] - 0s 3ms/step - loss: 3705.6455 - mae: 3705.6455\n",
      "Epoch 174/200\n",
      "34/34 [==============================] - 0s 3ms/step - loss: 3710.2568 - mae: 3710.2568\n",
      "Epoch 175/200\n",
      "34/34 [==============================] - 0s 3ms/step - loss: 3711.8740 - mae: 3711.8740\n",
      "Epoch 176/200\n",
      "34/34 [==============================] - 0s 2ms/step - loss: 3708.9460 - mae: 3708.9460\n",
      "Epoch 177/200\n",
      "34/34 [==============================] - 0s 2ms/step - loss: 3701.3601 - mae: 3701.3601\n",
      "Epoch 178/200\n",
      "34/34 [==============================] - 0s 3ms/step - loss: 3698.8782 - mae: 3698.8782\n",
      "Epoch 179/200\n",
      "34/34 [==============================] - 0s 3ms/step - loss: 3708.9932 - mae: 3708.9932\n",
      "Epoch 180/200\n",
      "34/34 [==============================] - 0s 3ms/step - loss: 3713.8738 - mae: 3713.8738\n",
      "Epoch 181/200\n",
      "34/34 [==============================] - 0s 3ms/step - loss: 3698.5154 - mae: 3698.5154\n",
      "Epoch 182/200\n",
      "34/34 [==============================] - 0s 3ms/step - loss: 3695.6113 - mae: 3695.6113\n",
      "Epoch 183/200\n",
      "34/34 [==============================] - 0s 3ms/step - loss: 3693.6182 - mae: 3693.6182\n",
      "Epoch 184/200\n",
      "34/34 [==============================] - 0s 3ms/step - loss: 3700.0852 - mae: 3700.0852\n",
      "Epoch 185/200\n",
      "34/34 [==============================] - 0s 3ms/step - loss: 3695.1038 - mae: 3695.1038\n",
      "Epoch 186/200\n",
      "34/34 [==============================] - 0s 3ms/step - loss: 3696.7893 - mae: 3696.7893\n",
      "Epoch 187/200\n",
      "34/34 [==============================] - 0s 3ms/step - loss: 3690.1628 - mae: 3690.1628\n",
      "Epoch 188/200\n",
      "34/34 [==============================] - 0s 3ms/step - loss: 3696.2556 - mae: 3696.2556\n",
      "Epoch 189/200\n",
      "34/34 [==============================] - 0s 3ms/step - loss: 3685.9951 - mae: 3685.9951\n",
      "Epoch 190/200\n",
      "34/34 [==============================] - 0s 3ms/step - loss: 3685.3364 - mae: 3685.3364\n",
      "Epoch 191/200\n",
      "34/34 [==============================] - 0s 3ms/step - loss: 3701.2024 - mae: 3701.2024\n",
      "Epoch 192/200\n",
      "34/34 [==============================] - 0s 2ms/step - loss: 3685.2185 - mae: 3685.2185\n",
      "Epoch 193/200\n",
      "34/34 [==============================] - 0s 2ms/step - loss: 3676.3672 - mae: 3676.3672\n",
      "Epoch 194/200\n",
      "34/34 [==============================] - 0s 2ms/step - loss: 3677.2217 - mae: 3677.2217\n",
      "Epoch 195/200\n",
      "34/34 [==============================] - 0s 3ms/step - loss: 3675.1570 - mae: 3675.1570\n",
      "Epoch 196/200\n",
      "34/34 [==============================] - 0s 3ms/step - loss: 3683.2861 - mae: 3683.2861\n",
      "Epoch 197/200\n",
      "34/34 [==============================] - 0s 3ms/step - loss: 3669.3167 - mae: 3669.3167\n",
      "Epoch 198/200\n",
      "34/34 [==============================] - 0s 3ms/step - loss: 3676.8364 - mae: 3676.8364\n",
      "Epoch 199/200\n",
      "34/34 [==============================] - 0s 3ms/step - loss: 3682.8279 - mae: 3682.8279\n",
      "Epoch 200/200\n",
      "34/34 [==============================] - 0s 3ms/step - loss: 3667.3015 - mae: 3667.3015\n"
     ]
    }
   ],
   "source": [
    "# 2nd experiment : train longer on the model of the 1st experiment\n",
    "\n",
    "# Set random seed\n",
    "tf.random.set_seed(42)\n",
    "\n",
    "# 1. Create the model\n",
    "insurance_model_3 = tf.keras.Sequential([\n",
    "    tf.keras.layers.Dense(100),\n",
    "    tf.keras.layers.Dense(10),\n",
    "    tf.keras.layers.Dense(1),\n",
    "])\n",
    "\n",
    "# 2. Compile the model\n",
    "insurance_model_3.compile(loss=tf.keras.losses.mae,\n",
    "                         optimizer=tf.keras.optimizers.Adam(),\n",
    "                         metrics=[\"mae\"])\n",
    "\n",
    "# 3. Fit the model\n",
    "history = insurance_model_3.fit(X_train, y_train, epochs=200, verbose=1)"
   ]
  },
  {
   "cell_type": "markdown",
   "id": "8b0af912",
   "metadata": {},
   "source": [
    "The loss in training is now 3658.0659, an improvement"
   ]
  },
  {
   "cell_type": "code",
   "execution_count": 100,
   "id": "a5861cc6",
   "metadata": {},
   "outputs": [
    {
     "name": "stdout",
     "output_type": "stream",
     "text": [
      "9/9 [==============================] - 0s 2ms/step - loss: 3492.0759 - mae: 3492.0759\n"
     ]
    },
    {
     "data": {
      "text/plain": [
       "[3492.075927734375, 3492.075927734375]"
      ]
     },
     "execution_count": 100,
     "metadata": {},
     "output_type": "execute_result"
    }
   ],
   "source": [
    "# Evaluate the third model\n",
    "insurance_model_3.evaluate(X_test, y_test)"
   ]
  },
  {
   "cell_type": "code",
   "execution_count": 101,
   "id": "4ce164c3",
   "metadata": {},
   "outputs": [
    {
     "name": "stdout",
     "output_type": "stream",
     "text": [
      "9/9 [==============================] - 0s 2ms/step - loss: 4776.6196 - mae: 4776.6196\n"
     ]
    },
    {
     "data": {
      "text/plain": [
       "[4776.61962890625, 4776.61962890625]"
      ]
     },
     "execution_count": 101,
     "metadata": {},
     "output_type": "execute_result"
    }
   ],
   "source": [
    "# Evaluate the 2nd model\n",
    "insurance_model_2.evaluate(X_test, y_test)"
   ]
  },
  {
   "cell_type": "code",
   "execution_count": 102,
   "id": "eb2403ff",
   "metadata": {},
   "outputs": [
    {
     "name": "stdout",
     "output_type": "stream",
     "text": [
      "9/9 [==============================] - 0s 2ms/step - loss: 8741.7197 - mae: 8741.7197\n"
     ]
    },
    {
     "data": {
      "text/plain": [
       "[8741.7197265625, 8741.7197265625]"
      ]
     },
     "execution_count": 102,
     "metadata": {},
     "output_type": "execute_result"
    }
   ],
   "source": [
    "# Evaluate the 1st model\n",
    "insurance_model.evaluate(X_test, y_test)"
   ]
  },
  {
   "cell_type": "markdown",
   "id": "785e742c",
   "metadata": {},
   "source": [
    "The 3rd model is performing better than the previous ones."
   ]
  },
  {
   "cell_type": "code",
   "execution_count": null,
   "id": "4921f492",
   "metadata": {},
   "outputs": [],
   "source": []
  },
  {
   "cell_type": "markdown",
   "id": "8202c718",
   "metadata": {},
   "source": [
    "Now we will plot the **`history`** (also known as a **`loss curve`** or a **`training curve`**)"
   ]
  },
  {
   "cell_type": "code",
   "execution_count": 103,
   "id": "8a0a5afc",
   "metadata": {},
   "outputs": [
    {
     "data": {
      "image/png": "[encoded data removed]",
      "text/plain": [
       "<Figure size 432x288 with 1 Axes>"
      ]
     },
     "metadata": {
      "needs_background": "light"
     },
     "output_type": "display_data"
    }
   ],
   "source": [
    "# Plot history\n",
    "history_df = pd.DataFrame(history.history)\n",
    "history_df.plot(kind=\"line\",y=\"loss\")\n",
    "plt.ylabel(\"Loss\")\n",
    "plt.xlabel(\"Epochs\");"
   ]
  },
  {
   "cell_type": "markdown",
   "id": "e3fc474f",
   "metadata": {},
   "source": [
    "Looking at the plot, the decrease in the loss is originally steep until the models to train to around 110 epochs; from here, the decrease in the loss is small."
   ]
  },
  {
   "cell_type": "markdown",
   "id": "ddaa91ac",
   "metadata": {},
   "source": [
    "> 🤔 **Question:** How long should we train for ? <br/>\n",
    "> 🫢 **Answer:** It depends.\n",
    "\n",
    "The duration of the training depends on the problem we are working on.         \n",
    "However, many people have asked this question before, so TensorFlow has a solution: the [**EarlyStopping Callback**](https://www.tensorflow.org/api_docs/python/tf/keras/callbacks/EarlyStopping). It is a TensorFlow component we can add to a model to stop training once it stops improving a certain metric. For example, in our insurance_model_3, if we wanted to train it for 1000 epochs, we could want our model to stop training once its loss stops decreasing for say, 03, 05, or 10 epochs in a row, which means our model stopped improving."
   ]
  },
  {
   "cell_type": "code",
   "execution_count": 104,
   "id": "3dd6f9ba",
   "metadata": {},
   "outputs": [],
   "source": [
    "# dir(history)"
   ]
  },
  {
   "cell_type": "code",
   "execution_count": 105,
   "id": "11f52b8e",
   "metadata": {},
   "outputs": [
    {
     "data": {
      "text/html": [
       "<div>\n",
       "<style scoped>\n",
       "    .dataframe tbody tr th:only-of-type {\n",
       "        vertical-align: middle;\n",
       "    }\n",
       "\n",
       "    .dataframe tbody tr th {\n",
       "        vertical-align: top;\n",
       "    }\n",
       "\n",
       "    .dataframe thead th {\n",
       "        text-align: right;\n",
       "    }\n",
       "</style>\n",
       "<table border=\"1\" class=\"dataframe\">\n",
       "  <thead>\n",
       "    <tr style=\"text-align: right;\">\n",
       "      <th></th>\n",
       "      <th>loss</th>\n",
       "      <th>mae</th>\n",
       "    </tr>\n",
       "  </thead>\n",
       "  <tbody>\n",
       "    <tr>\n",
       "      <th>0</th>\n",
       "      <td>13269.300781</td>\n",
       "      <td>13269.300781</td>\n",
       "    </tr>\n",
       "    <tr>\n",
       "      <th>1</th>\n",
       "      <td>13071.372070</td>\n",
       "      <td>13071.372070</td>\n",
       "    </tr>\n",
       "    <tr>\n",
       "      <th>2</th>\n",
       "      <td>12655.731445</td>\n",
       "      <td>12655.731445</td>\n",
       "    </tr>\n",
       "    <tr>\n",
       "      <th>3</th>\n",
       "      <td>11873.309570</td>\n",
       "      <td>11873.309570</td>\n",
       "    </tr>\n",
       "    <tr>\n",
       "      <th>4</th>\n",
       "      <td>10644.085938</td>\n",
       "      <td>10644.085938</td>\n",
       "    </tr>\n",
       "    <tr>\n",
       "      <th>...</th>\n",
       "      <td>...</td>\n",
       "      <td>...</td>\n",
       "    </tr>\n",
       "    <tr>\n",
       "      <th>195</th>\n",
       "      <td>3683.286133</td>\n",
       "      <td>3683.286133</td>\n",
       "    </tr>\n",
       "    <tr>\n",
       "      <th>196</th>\n",
       "      <td>3669.316650</td>\n",
       "      <td>3669.316650</td>\n",
       "    </tr>\n",
       "    <tr>\n",
       "      <th>197</th>\n",
       "      <td>3676.836426</td>\n",
       "      <td>3676.836426</td>\n",
       "    </tr>\n",
       "    <tr>\n",
       "      <th>198</th>\n",
       "      <td>3682.827881</td>\n",
       "      <td>3682.827881</td>\n",
       "    </tr>\n",
       "    <tr>\n",
       "      <th>199</th>\n",
       "      <td>3667.301514</td>\n",
       "      <td>3667.301514</td>\n",
       "    </tr>\n",
       "  </tbody>\n",
       "</table>\n",
       "<p>200 rows × 2 columns</p>\n",
       "</div>"
      ],
      "text/plain": [
       "             loss           mae\n",
       "0    13269.300781  13269.300781\n",
       "1    13071.372070  13071.372070\n",
       "2    12655.731445  12655.731445\n",
       "3    11873.309570  11873.309570\n",
       "4    10644.085938  10644.085938\n",
       "..            ...           ...\n",
       "195   3683.286133   3683.286133\n",
       "196   3669.316650   3669.316650\n",
       "197   3676.836426   3676.836426\n",
       "198   3682.827881   3682.827881\n",
       "199   3667.301514   3667.301514\n",
       "\n",
       "[200 rows x 2 columns]"
      ]
     },
     "execution_count": 105,
     "metadata": {},
     "output_type": "execute_result"
    }
   ],
   "source": [
    "# Taking a look at history_df\n",
    "history_df"
   ]
  },
  {
   "cell_type": "code",
   "execution_count": null,
   "id": "d5a9bf6e",
   "metadata": {},
   "outputs": [],
   "source": []
  },
  {
   "cell_type": "markdown",
   "id": "265edbb2",
   "metadata": {},
   "source": [
    "## Preprocessing data: normalization and standardization\n",
    "\n",
    "**Normalization**: Normalization is a technique often applied as part of data preparation for machine learning. The goal of normalization is to change the values of numeric columns in the dataset to use a common scale, without distorting differences in the ranges of values or losing information. [Read more about Normalization...](https://learn.microsoft.com/en-us/azure/machine-learning/component-reference/normalize-data)   \n",
    "\n",
    "\n",
    "Note: `Normalize` can be used to mean either Standardize or Rescale; in the above definition, it stands for Rescale.\n",
    "\n",
    "\n",
    "In terms of scaling values, neural networks tend to prefer normalization to standardization. If one is not sure on which to use, it is okay to try both and see which performs better.\n",
    "\n",
    "📖 : [Scale, Standardize, or Normalize with Scikit-Learn: When to use MinMaxScaler, RobustScaler, StandardScaler, and Normalizer, by Jeff Hale](https://towardsdatascience.com/scale-standardize-or-normalize-with-scikit-learn-6ccc7d176a02)"
   ]
  },
  {
   "cell_type": "markdown",
   "id": "6389b900",
   "metadata": {},
   "source": []
  },
  {
   "cell_type": "markdown",
   "id": "0cfb2726",
   "metadata": {},
   "source": [
    "Based on what we learned so far, we will restart our model building process."
   ]
  },
  {
   "cell_type": "code",
   "execution_count": 106,
   "id": "78fc8818",
   "metadata": {},
   "outputs": [
    {
     "data": {
      "text/html": [
       "<div>\n",
       "<style scoped>\n",
       "    .dataframe tbody tr th:only-of-type {\n",
       "        vertical-align: middle;\n",
       "    }\n",
       "\n",
       "    .dataframe tbody tr th {\n",
       "        vertical-align: top;\n",
       "    }\n",
       "\n",
       "    .dataframe thead th {\n",
       "        text-align: right;\n",
       "    }\n",
       "</style>\n",
       "<table border=\"1\" class=\"dataframe\">\n",
       "  <thead>\n",
       "    <tr style=\"text-align: right;\">\n",
       "      <th></th>\n",
       "      <th>age</th>\n",
       "      <th>sex</th>\n",
       "      <th>bmi</th>\n",
       "      <th>children</th>\n",
       "      <th>smoker</th>\n",
       "      <th>region</th>\n",
       "      <th>charges</th>\n",
       "    </tr>\n",
       "  </thead>\n",
       "  <tbody>\n",
       "    <tr>\n",
       "      <th>0</th>\n",
       "      <td>19</td>\n",
       "      <td>female</td>\n",
       "      <td>27.900</td>\n",
       "      <td>0</td>\n",
       "      <td>yes</td>\n",
       "      <td>southwest</td>\n",
       "      <td>16884.92400</td>\n",
       "    </tr>\n",
       "    <tr>\n",
       "      <th>1</th>\n",
       "      <td>18</td>\n",
       "      <td>male</td>\n",
       "      <td>33.770</td>\n",
       "      <td>1</td>\n",
       "      <td>no</td>\n",
       "      <td>southeast</td>\n",
       "      <td>1725.55230</td>\n",
       "    </tr>\n",
       "    <tr>\n",
       "      <th>2</th>\n",
       "      <td>28</td>\n",
       "      <td>male</td>\n",
       "      <td>33.000</td>\n",
       "      <td>3</td>\n",
       "      <td>no</td>\n",
       "      <td>southeast</td>\n",
       "      <td>4449.46200</td>\n",
       "    </tr>\n",
       "    <tr>\n",
       "      <th>3</th>\n",
       "      <td>33</td>\n",
       "      <td>male</td>\n",
       "      <td>22.705</td>\n",
       "      <td>0</td>\n",
       "      <td>no</td>\n",
       "      <td>northwest</td>\n",
       "      <td>21984.47061</td>\n",
       "    </tr>\n",
       "    <tr>\n",
       "      <th>4</th>\n",
       "      <td>32</td>\n",
       "      <td>male</td>\n",
       "      <td>28.880</td>\n",
       "      <td>0</td>\n",
       "      <td>no</td>\n",
       "      <td>northwest</td>\n",
       "      <td>3866.85520</td>\n",
       "    </tr>\n",
       "  </tbody>\n",
       "</table>\n",
       "</div>"
      ],
      "text/plain": [
       "   age     sex     bmi  children smoker     region      charges\n",
       "0   19  female  27.900         0    yes  southwest  16884.92400\n",
       "1   18    male  33.770         1     no  southeast   1725.55230\n",
       "2   28    male  33.000         3     no  southeast   4449.46200\n",
       "3   33    male  22.705         0     no  northwest  21984.47061\n",
       "4   32    male  28.880         0     no  northwest   3866.85520"
      ]
     },
     "execution_count": 106,
     "metadata": {},
     "output_type": "execute_result"
    }
   ],
   "source": [
    "insurance_df = pd.read_csv(\"data/insurance.csv\")\n",
    "insurance_df.head()"
   ]
  },
  {
   "cell_type": "code",
   "execution_count": 107,
   "id": "9aeaf6bb",
   "metadata": {},
   "outputs": [
    {
     "data": {
      "text/plain": [
       "(1338, 7)"
      ]
     },
     "execution_count": 107,
     "metadata": {},
     "output_type": "execute_result"
    }
   ],
   "source": [
    "insurance_df.shape"
   ]
  },
  {
   "cell_type": "code",
   "execution_count": 108,
   "id": "16487fee",
   "metadata": {},
   "outputs": [
    {
     "name": "stdout",
     "output_type": "stream",
     "text": [
      "<class 'pandas.core.frame.DataFrame'>\n",
      "RangeIndex: 1338 entries, 0 to 1337\n",
      "Data columns (total 7 columns):\n",
      " #   Column    Non-Null Count  Dtype  \n",
      "---  ------    --------------  -----  \n",
      " 0   age       1338 non-null   int64  \n",
      " 1   sex       1338 non-null   object \n",
      " 2   bmi       1338 non-null   float64\n",
      " 3   children  1338 non-null   int64  \n",
      " 4   smoker    1338 non-null   object \n",
      " 5   region    1338 non-null   object \n",
      " 6   charges   1338 non-null   float64\n",
      "dtypes: float64(2), int64(2), object(3)\n",
      "memory usage: 73.3+ KB\n"
     ]
    }
   ],
   "source": [
    "insurance_df.info()"
   ]
  },
  {
   "cell_type": "code",
   "execution_count": null,
   "id": "a5c5ff5e",
   "metadata": {},
   "outputs": [],
   "source": []
  },
  {
   "cell_type": "markdown",
   "id": "e7c97b25",
   "metadata": {},
   "source": [
    "We are going to build a neural network to learn on the features once they have been normalized."
   ]
  },
  {
   "cell_type": "markdown",
   "id": "468cac0f",
   "metadata": {},
   "source": [
    "**Note**: `Column transformer` is a tool in Scikit-Learn that allows to build a pipeline to preprocess data before passing it to the model"
   ]
  },
  {
   "cell_type": "code",
   "execution_count": 109,
   "id": "2e681ff7",
   "metadata": {},
   "outputs": [],
   "source": [
    "# Create a column transformer\n",
    "column_transformer = make_column_transformer(\n",
    "    (MinMaxScaler(),[\"age\",\"bmi\",\"children\"]), # The features indicated in the list are those that will be rescaled at this stage of the preprocessing\n",
    "    (OneHotEncoder(handle_unknown=\"ignore\"), [\"sex\",\"smoker\",\"region\"]), # handle_unknown=\"ignore\" will make the OneHotEncoder() ignore any column it doesn't know about\n",
    ")\n",
    "\n",
    "# Create X and y values\n",
    "X = insurance_df.drop(\"charges\",axis=1)\n",
    "y = insurance_df.loc[:,\"charges\"]\n",
    "\n",
    "# Build train and test sets\n",
    "X_train, X_test, y_train, y_test = train_test_split(X, y, test_size=.2, random_state=42)"
   ]
  },
  {
   "cell_type": "markdown",
   "id": "73516483",
   "metadata": {},
   "source": [
    "Now we will fit the column transformer to the training data. Whenever we have a column transformer, we need to fit it the training data and then use that fit column transformer to transform the test data."
   ]
  },
  {
   "cell_type": "code",
   "execution_count": 110,
   "id": "32ee3a63",
   "metadata": {},
   "outputs": [
    {
     "data": {
      "text/plain": [
       "ColumnTransformer(transformers=[('minmaxscaler', MinMaxScaler(),\n",
       "                                 ['age', 'bmi', 'children']),\n",
       "                                ('onehotencoder',\n",
       "                                 OneHotEncoder(handle_unknown='ignore'),\n",
       "                                 ['sex', 'smoker', 'region'])])"
      ]
     },
     "execution_count": 110,
     "metadata": {},
     "output_type": "execute_result"
    }
   ],
   "source": [
    "# Fit the column transformer to the training data\n",
    "column_transformer.fit(X_train)"
   ]
  },
  {
   "cell_type": "markdown",
   "id": "7115b7ae",
   "metadata": {},
   "source": [
    "Now will take what we have learned from the training data to transform the training and test data"
   ]
  },
  {
   "cell_type": "code",
   "execution_count": 111,
   "id": "3dbd4f6b",
   "metadata": {},
   "outputs": [],
   "source": [
    "# Tranform training and test data with normalization (MinMaxScaler) and OneHotEncoder\n",
    "X_train_normal = column_transformer.transform(X_train)\n",
    "X_test_normal = column_transformer.transform(X_test)"
   ]
  },
  {
   "cell_type": "code",
   "execution_count": 112,
   "id": "5fc808d2",
   "metadata": {},
   "outputs": [
    {
     "data": {
      "text/plain": [
       "age                19\n",
       "sex            female\n",
       "bmi              27.9\n",
       "children            0\n",
       "smoker            yes\n",
       "region      southwest\n",
       "Name: 0, dtype: object"
      ]
     },
     "execution_count": 112,
     "metadata": {},
     "output_type": "execute_result"
    }
   ],
   "source": [
    "# Check how the data that we started with look like\n",
    "X_train.loc[0,:]"
   ]
  },
  {
   "cell_type": "code",
   "execution_count": 113,
   "id": "d2b78592",
   "metadata": {},
   "outputs": [
    {
     "data": {
      "text/plain": [
       "array([0.60869565, 0.10734463, 0.4       , 1.        , 0.        ,\n",
       "       1.        , 0.        , 0.        , 1.        , 0.        ,\n",
       "       0.        ])"
      ]
     },
     "execution_count": 113,
     "metadata": {},
     "output_type": "execute_result"
    }
   ],
   "source": [
    "# Check how the data look like now\n",
    "X_train_normal[0]"
   ]
  },
  {
   "cell_type": "code",
   "execution_count": 114,
   "id": "40ac551f",
   "metadata": {},
   "outputs": [
    {
     "data": {
      "text/plain": [
       "array([[0.60869565, 0.10734463, 0.4       , ..., 1.        , 0.        ,\n",
       "        0.        ],\n",
       "       [0.63043478, 0.22491256, 0.        , ..., 0.        , 0.        ,\n",
       "        0.        ],\n",
       "       [0.73913043, 0.23944041, 0.        , ..., 0.        , 1.        ,\n",
       "        0.        ],\n",
       "       ...,\n",
       "       [0.86956522, 0.24791499, 0.        , ..., 0.        , 0.        ,\n",
       "        0.        ],\n",
       "       [0.41304348, 0.85122411, 0.4       , ..., 0.        , 0.        ,\n",
       "        1.        ],\n",
       "       [0.80434783, 0.37503363, 0.        , ..., 0.        , 0.        ,\n",
       "        1.        ]])"
      ]
     },
     "execution_count": 114,
     "metadata": {},
     "output_type": "execute_result"
    }
   ],
   "source": [
    "# Check how the data look like now\n",
    "X_train_normal"
   ]
  },
  {
   "cell_type": "code",
   "execution_count": 115,
   "id": "e16285d2",
   "metadata": {},
   "outputs": [
    {
     "data": {
      "text/plain": [
       "((1070, 6), (1070, 11))"
      ]
     },
     "execution_count": 115,
     "metadata": {},
     "output_type": "execute_result"
    }
   ],
   "source": [
    "# Comparing the shape of the original data against the preprocessed data\n",
    "X_train.shape, X_train_normal.shape"
   ]
  },
  {
   "cell_type": "code",
   "execution_count": null,
   "id": "ec71c175",
   "metadata": {},
   "outputs": [],
   "source": []
  },
  {
   "cell_type": "markdown",
   "id": "688f02eb",
   "metadata": {},
   "source": [
    "Our data has been rescaled and one hot encoded. Now let's build a neural network model on it and see how it goes."
   ]
  },
  {
   "cell_type": "code",
   "execution_count": 116,
   "id": "2665dfe7",
   "metadata": {},
   "outputs": [
    {
     "name": "stdout",
     "output_type": "stream",
     "text": [
      "Epoch 1/100\n",
      "34/34 [==============================] - 1s 2ms/step - loss: 13344.3730 - mae: 13344.3730\n",
      "Epoch 2/100\n",
      "34/34 [==============================] - 0s 2ms/step - loss: 13336.6816 - mae: 13336.6816\n",
      "Epoch 3/100\n",
      "34/34 [==============================] - 0s 2ms/step - loss: 13315.9180 - mae: 13315.9180\n",
      "Epoch 4/100\n",
      "34/34 [==============================] - 0s 3ms/step - loss: 13270.7744 - mae: 13270.7744\n",
      "Epoch 5/100\n",
      "34/34 [==============================] - 0s 3ms/step - loss: 13190.1758 - mae: 13190.1758\n",
      "Epoch 6/100\n",
      "34/34 [==============================] - 0s 3ms/step - loss: 13063.6162 - mae: 13063.6162\n",
      "Epoch 7/100\n",
      "34/34 [==============================] - 0s 3ms/step - loss: 12881.1230 - mae: 12881.1230\n",
      "Epoch 8/100\n",
      "34/34 [==============================] - 0s 3ms/step - loss: 12632.7061 - mae: 12632.7061\n",
      "Epoch 9/100\n",
      "34/34 [==============================] - 0s 3ms/step - loss: 12308.2051 - mae: 12308.2051\n",
      "Epoch 10/100\n",
      "34/34 [==============================] - 0s 3ms/step - loss: 11903.6445 - mae: 11903.6445\n",
      "Epoch 11/100\n",
      "34/34 [==============================] - 0s 2ms/step - loss: 11428.7197 - mae: 11428.7197\n",
      "Epoch 12/100\n",
      "34/34 [==============================] - 0s 3ms/step - loss: 10922.2949 - mae: 10922.2949\n",
      "Epoch 13/100\n",
      "34/34 [==============================] - 0s 3ms/step - loss: 10420.1543 - mae: 10420.1543\n",
      "Epoch 14/100\n",
      "34/34 [==============================] - 0s 3ms/step - loss: 9927.4531 - mae: 9927.4531\n",
      "Epoch 15/100\n",
      "34/34 [==============================] - 0s 3ms/step - loss: 9461.9922 - mae: 9461.9922\n",
      "Epoch 16/100\n",
      "34/34 [==============================] - 0s 3ms/step - loss: 9048.8887 - mae: 9048.8887\n",
      "Epoch 17/100\n",
      "34/34 [==============================] - 0s 3ms/step - loss: 8706.2979 - mae: 8706.2979\n",
      "Epoch 18/100\n",
      "34/34 [==============================] - 0s 3ms/step - loss: 8426.3301 - mae: 8426.3301\n",
      "Epoch 19/100\n",
      "34/34 [==============================] - 0s 3ms/step - loss: 8216.7139 - mae: 8216.7139\n",
      "Epoch 20/100\n",
      "34/34 [==============================] - 0s 3ms/step - loss: 8072.7495 - mae: 8072.7495\n",
      "Epoch 21/100\n",
      "34/34 [==============================] - 0s 3ms/step - loss: 7965.5889 - mae: 7965.5889\n",
      "Epoch 22/100\n",
      "34/34 [==============================] - 0s 2ms/step - loss: 7891.8242 - mae: 7891.8242\n",
      "Epoch 23/100\n",
      "34/34 [==============================] - 0s 3ms/step - loss: 7833.8662 - mae: 7833.8662\n",
      "Epoch 24/100\n",
      "34/34 [==============================] - 0s 3ms/step - loss: 7781.0820 - mae: 7781.0820\n",
      "Epoch 25/100\n",
      "34/34 [==============================] - 0s 3ms/step - loss: 7742.1763 - mae: 7742.1763\n",
      "Epoch 26/100\n",
      "34/34 [==============================] - 0s 3ms/step - loss: 7690.4937 - mae: 7690.4937\n",
      "Epoch 27/100\n",
      "34/34 [==============================] - 0s 3ms/step - loss: 7648.3208 - mae: 7648.3208\n",
      "Epoch 28/100\n",
      "34/34 [==============================] - 0s 3ms/step - loss: 7605.7173 - mae: 7605.7173\n",
      "Epoch 29/100\n",
      "34/34 [==============================] - 0s 3ms/step - loss: 7563.0225 - mae: 7563.0225\n",
      "Epoch 30/100\n",
      "34/34 [==============================] - 0s 3ms/step - loss: 7519.1753 - mae: 7519.1753\n",
      "Epoch 31/100\n",
      "34/34 [==============================] - 0s 3ms/step - loss: 7474.8384 - mae: 7474.8384\n",
      "Epoch 32/100\n",
      "34/34 [==============================] - 0s 3ms/step - loss: 7430.3276 - mae: 7430.3276\n",
      "Epoch 33/100\n",
      "34/34 [==============================] - 0s 3ms/step - loss: 7385.6357 - mae: 7385.6357\n",
      "Epoch 34/100\n",
      "34/34 [==============================] - 0s 3ms/step - loss: 7336.9712 - mae: 7336.9712\n",
      "Epoch 35/100\n",
      "34/34 [==============================] - 0s 3ms/step - loss: 7289.6538 - mae: 7289.6538\n",
      "Epoch 36/100\n",
      "34/34 [==============================] - 0s 3ms/step - loss: 7239.0054 - mae: 7239.0054\n",
      "Epoch 37/100\n",
      "34/34 [==============================] - 0s 3ms/step - loss: 7188.2520 - mae: 7188.2520\n",
      "Epoch 38/100\n",
      "34/34 [==============================] - 0s 2ms/step - loss: 7136.5947 - mae: 7136.5947\n",
      "Epoch 39/100\n",
      "34/34 [==============================] - 0s 2ms/step - loss: 7081.0020 - mae: 7081.0020\n",
      "Epoch 40/100\n",
      "34/34 [==============================] - 0s 2ms/step - loss: 7025.0103 - mae: 7025.0103\n",
      "Epoch 41/100\n",
      "34/34 [==============================] - 0s 3ms/step - loss: 6967.8989 - mae: 6967.8989\n",
      "Epoch 42/100\n",
      "34/34 [==============================] - 0s 2ms/step - loss: 6907.9497 - mae: 6907.9497\n",
      "Epoch 43/100\n",
      "34/34 [==============================] - 0s 2ms/step - loss: 6844.6299 - mae: 6844.6299\n",
      "Epoch 44/100\n",
      "34/34 [==============================] - 0s 3ms/step - loss: 6777.3726 - mae: 6777.3726\n",
      "Epoch 45/100\n",
      "34/34 [==============================] - 0s 3ms/step - loss: 6709.2378 - mae: 6709.2378\n",
      "Epoch 46/100\n",
      "34/34 [==============================] - 0s 3ms/step - loss: 6639.1685 - mae: 6639.1685\n",
      "Epoch 47/100\n",
      "34/34 [==============================] - 0s 3ms/step - loss: 6566.7236 - mae: 6566.7236\n",
      "Epoch 48/100\n",
      "34/34 [==============================] - 0s 3ms/step - loss: 6486.7388 - mae: 6486.7388\n",
      "Epoch 49/100\n",
      "34/34 [==============================] - 0s 3ms/step - loss: 6406.4766 - mae: 6406.4766\n",
      "Epoch 50/100\n",
      "34/34 [==============================] - 0s 3ms/step - loss: 6319.3862 - mae: 6319.3862\n",
      "Epoch 51/100\n",
      "34/34 [==============================] - 0s 3ms/step - loss: 6233.5376 - mae: 6233.5376\n",
      "Epoch 52/100\n",
      "34/34 [==============================] - 0s 3ms/step - loss: 6138.8926 - mae: 6138.8926\n",
      "Epoch 53/100\n",
      "34/34 [==============================] - 0s 3ms/step - loss: 6041.2725 - mae: 6041.2725\n",
      "Epoch 54/100\n",
      "34/34 [==============================] - 0s 3ms/step - loss: 5940.8916 - mae: 5940.8916\n",
      "Epoch 55/100\n",
      "34/34 [==============================] - 0s 3ms/step - loss: 5832.0317 - mae: 5832.0317\n",
      "Epoch 56/100\n",
      "34/34 [==============================] - 0s 2ms/step - loss: 5722.1201 - mae: 5722.1201\n",
      "Epoch 57/100\n",
      "34/34 [==============================] - 0s 2ms/step - loss: 5605.1104 - mae: 5605.1104\n",
      "Epoch 58/100\n",
      "34/34 [==============================] - 0s 2ms/step - loss: 5487.6426 - mae: 5487.6426\n",
      "Epoch 59/100\n",
      "34/34 [==============================] - 0s 2ms/step - loss: 5367.2095 - mae: 5367.2095\n",
      "Epoch 60/100\n",
      "34/34 [==============================] - 0s 2ms/step - loss: 5243.4360 - mae: 5243.4360\n",
      "Epoch 61/100\n",
      "34/34 [==============================] - 0s 3ms/step - loss: 5117.5342 - mae: 5117.5342\n",
      "Epoch 62/100\n",
      "34/34 [==============================] - 0s 3ms/step - loss: 4986.3730 - mae: 4986.3730\n",
      "Epoch 63/100\n",
      "34/34 [==============================] - 0s 3ms/step - loss: 4858.1206 - mae: 4858.1206\n",
      "Epoch 64/100\n",
      "34/34 [==============================] - 0s 3ms/step - loss: 4725.7617 - mae: 4725.7617\n",
      "Epoch 65/100\n",
      "34/34 [==============================] - 0s 3ms/step - loss: 4599.9468 - mae: 4599.9468\n",
      "Epoch 66/100\n",
      "34/34 [==============================] - 0s 3ms/step - loss: 4478.9854 - mae: 4478.9854\n",
      "Epoch 67/100\n",
      "34/34 [==============================] - 0s 3ms/step - loss: 4372.4873 - mae: 4372.4873\n",
      "Epoch 68/100\n",
      "34/34 [==============================] - 0s 3ms/step - loss: 4267.8169 - mae: 4267.8169\n",
      "Epoch 69/100\n",
      "34/34 [==============================] - 0s 3ms/step - loss: 4168.0210 - mae: 4168.0210\n",
      "Epoch 70/100\n",
      "34/34 [==============================] - 0s 3ms/step - loss: 4076.7407 - mae: 4076.7407\n",
      "Epoch 71/100\n",
      "34/34 [==============================] - 0s 3ms/step - loss: 3993.2598 - mae: 3993.2598\n",
      "Epoch 72/100\n",
      "34/34 [==============================] - 0s 3ms/step - loss: 3920.9534 - mae: 3920.9534\n",
      "Epoch 73/100\n",
      "34/34 [==============================] - 0s 3ms/step - loss: 3859.8535 - mae: 3859.8535\n",
      "Epoch 74/100\n",
      "34/34 [==============================] - 0s 3ms/step - loss: 3807.9563 - mae: 3807.9563\n",
      "Epoch 75/100\n",
      "34/34 [==============================] - 0s 3ms/step - loss: 3769.0537 - mae: 3769.0537\n",
      "Epoch 76/100\n",
      "34/34 [==============================] - 0s 3ms/step - loss: 3740.6370 - mae: 3740.6370\n",
      "Epoch 77/100\n",
      "34/34 [==============================] - 0s 3ms/step - loss: 3717.1021 - mae: 3717.1021\n",
      "Epoch 78/100\n",
      "34/34 [==============================] - 0s 2ms/step - loss: 3701.0598 - mae: 3701.0598\n",
      "Epoch 79/100\n",
      "34/34 [==============================] - 0s 2ms/step - loss: 3689.5364 - mae: 3689.5364\n",
      "Epoch 80/100\n",
      "34/34 [==============================] - 0s 3ms/step - loss: 3680.8162 - mae: 3680.8162\n",
      "Epoch 81/100\n"
     ]
    },
    {
     "name": "stdout",
     "output_type": "stream",
     "text": [
      "34/34 [==============================] - 0s 3ms/step - loss: 3674.9160 - mae: 3674.9160\n",
      "Epoch 82/100\n",
      "34/34 [==============================] - 0s 3ms/step - loss: 3671.9875 - mae: 3671.9875\n",
      "Epoch 83/100\n",
      "34/34 [==============================] - 0s 2ms/step - loss: 3665.7092 - mae: 3665.7092\n",
      "Epoch 84/100\n",
      "34/34 [==============================] - 0s 2ms/step - loss: 3663.0708 - mae: 3663.0708\n",
      "Epoch 85/100\n",
      "34/34 [==============================] - 0s 2ms/step - loss: 3660.6169 - mae: 3660.6169\n",
      "Epoch 86/100\n",
      "34/34 [==============================] - 0s 2ms/step - loss: 3659.3616 - mae: 3659.3616\n",
      "Epoch 87/100\n",
      "34/34 [==============================] - 0s 3ms/step - loss: 3656.1733 - mae: 3656.1733\n",
      "Epoch 88/100\n",
      "34/34 [==============================] - 0s 3ms/step - loss: 3653.9045 - mae: 3653.9045\n",
      "Epoch 89/100\n",
      "34/34 [==============================] - 0s 3ms/step - loss: 3652.3101 - mae: 3652.3101\n",
      "Epoch 90/100\n",
      "34/34 [==============================] - 0s 3ms/step - loss: 3650.6448 - mae: 3650.6448\n",
      "Epoch 91/100\n",
      "34/34 [==============================] - 0s 3ms/step - loss: 3647.5693 - mae: 3647.5693\n",
      "Epoch 92/100\n",
      "34/34 [==============================] - 0s 3ms/step - loss: 3646.9011 - mae: 3646.9011\n",
      "Epoch 93/100\n",
      "34/34 [==============================] - 0s 2ms/step - loss: 3644.6963 - mae: 3644.6963\n",
      "Epoch 94/100\n",
      "34/34 [==============================] - 0s 2ms/step - loss: 3642.9419 - mae: 3642.9419\n",
      "Epoch 95/100\n",
      "34/34 [==============================] - 0s 3ms/step - loss: 3643.9907 - mae: 3643.9907\n",
      "Epoch 96/100\n",
      "34/34 [==============================] - 0s 3ms/step - loss: 3640.8196 - mae: 3640.8196\n",
      "Epoch 97/100\n",
      "34/34 [==============================] - 0s 3ms/step - loss: 3638.5237 - mae: 3638.5237\n",
      "Epoch 98/100\n",
      "34/34 [==============================] - 0s 2ms/step - loss: 3636.3132 - mae: 3636.3132\n",
      "Epoch 99/100\n",
      "34/34 [==============================] - 0s 3ms/step - loss: 3635.9683 - mae: 3635.9683\n",
      "Epoch 100/100\n",
      "34/34 [==============================] - 0s 3ms/step - loss: 3634.2644 - mae: 3634.2644\n"
     ]
    }
   ],
   "source": [
    "# Build a neural network to fit on the preprocessed data\n",
    "\n",
    "\n",
    "# Set the seed\n",
    "tf.random.set_seed(42)\n",
    "\n",
    "# 1. Create the model\n",
    "insurance_model_4 = tf.keras.Sequential([\n",
    "    tf.keras.layers.Dense(100),\n",
    "    tf.keras.layers.Dense(10),\n",
    "    tf.keras.layers.Dense(1)\n",
    "])\n",
    "\n",
    "# 2. Compile the model\n",
    "insurance_model_4.compile(loss=tf.keras.losses.mae,\n",
    "                       optimizer=tf.keras.optimizers.Adam(),\n",
    "                       metrics=[\"mae\"])\n",
    "\n",
    "# 3. Fit the model\n",
    "history_4 = insurance_model_4.fit(X_train_normal,y_train, epochs=100, verbose=1)"
   ]
  },
  {
   "cell_type": "markdown",
   "id": "5f3129c4",
   "metadata": {},
   "source": [
    "Now we have to test the model on the same type of data it was trained on. Since it was trained on preprocessed data, it has to be evaluated on preprocessed data."
   ]
  },
  {
   "cell_type": "code",
   "execution_count": 117,
   "id": "9e3c2a5c",
   "metadata": {
    "scrolled": true
   },
   "outputs": [
    {
     "name": "stdout",
     "output_type": "stream",
     "text": [
      "9/9 [==============================] - 0s 2ms/step - loss: 3436.7422 - mae: 3436.7422\n"
     ]
    },
    {
     "data": {
      "text/plain": [
       "[3436.7421875, 3436.7421875]"
      ]
     },
     "execution_count": 117,
     "metadata": {},
     "output_type": "execute_result"
    }
   ],
   "source": [
    "# Evaluate the 4th model on normalized data (recall that it was trained 100 epochs)\n",
    "insurance_model_4.evaluate(X_test_normal,y_test)"
   ]
  },
  {
   "cell_type": "code",
   "execution_count": 118,
   "id": "f12a82ad",
   "metadata": {},
   "outputs": [],
   "source": [
    "# Third model evaluation result (recall that 3rd model was trained 200 epochs)\n",
    "\n",
    "# 9/9 [==============================] - 0s 2ms/step - loss: 3491.5759 - mae: 3491.5759"
   ]
  },
  {
   "cell_type": "markdown",
   "id": "6e17e61d",
   "metadata": {},
   "source": [
    "When the data is normalized, the model has a faster convergence time."
   ]
  },
  {
   "cell_type": "code",
   "execution_count": null,
   "id": "223cb4c2",
   "metadata": {},
   "outputs": [],
   "source": []
  },
  {
   "cell_type": "code",
   "execution_count": 119,
   "id": "ffeec8ab",
   "metadata": {},
   "outputs": [
    {
     "name": "stdout",
     "output_type": "stream",
     "text": [
      "Model: \"sequential_16\"\n",
      "_________________________________________________________________\n",
      " Layer (type)                Output Shape              Param #   \n",
      "=================================================================\n",
      " dense_27 (Dense)            (None, 100)               1200      \n",
      "                                                                 \n",
      " dense_28 (Dense)            (None, 10)                1010      \n",
      "                                                                 \n",
      " dense_29 (Dense)            (None, 1)                 11        \n",
      "                                                                 \n",
      "=================================================================\n",
      "Total params: 2,221\n",
      "Trainable params: 2,221\n",
      "Non-trainable params: 0\n",
      "_________________________________________________________________\n"
     ]
    }
   ],
   "source": [
    "insurance_model_4.summary()"
   ]
  },
  {
   "cell_type": "code",
   "execution_count": null,
   "id": "cfe004e6",
   "metadata": {},
   "outputs": [],
   "source": []
  },
  {
   "cell_type": "code",
   "execution_count": null,
   "id": "ad5a1f8c",
   "metadata": {},
   "outputs": [],
   "source": []
  },
  {
   "cell_type": "code",
   "execution_count": null,
   "id": "d2eaf80e",
   "metadata": {},
   "outputs": [],
   "source": []
  },
  {
   "cell_type": "code",
   "execution_count": null,
   "id": "e9a8c847",
   "metadata": {},
   "outputs": [],
   "source": []
  }
 ],
 "metadata": {
  "kernelspec": {
   "display_name": "Python 3",
   "language": "python",
   "name": "python3"
  },
  "language_info": {
   "codemirror_mode": {
    "name": "ipython",
    "version": 3
   },
   "file_extension": ".py",
   "mimetype": "text/x-python",
   "name": "python",
   "nbconvert_exporter": "python",
   "pygments_lexer": "ipython3",
   "version": "3.8.8"
  }
 },
 "nbformat": 4,
 "nbformat_minor": 5
}
