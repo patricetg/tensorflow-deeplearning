{
 "cells": [
  {
   "cell_type": "code",
   "execution_count": null,
   "id": "d1d332c5",
   "metadata": {},
   "outputs": [],
   "source": []
  },
  {
   "cell_type": "markdown",
   "id": "ae1f3f01",
   "metadata": {},
   "source": [
    "# Introduction to Regression with Neural Networks in TensorFlow\n",
    "\n",
    "There are many definitions for a regression problem, but to make it simple : predicting a continuous (numerical) variable based on some other combination of variables."
   ]
  },
  {
   "cell_type": "code",
   "execution_count": 1,
   "id": "3ebcab60",
   "metadata": {},
   "outputs": [
    {
     "name": "stdout",
     "output_type": "stream",
     "text": [
      "2.10.0\n"
     ]
    }
   ],
   "source": [
    "# Import TensorFlow\n",
    "import tensorflow as tf\n",
    "print(tf.__version__)"
   ]
  },
  {
   "cell_type": "code",
   "execution_count": 2,
   "id": "46175302",
   "metadata": {},
   "outputs": [],
   "source": [
    "import pandas as pd\n",
    "import numpy as np\n",
    "import matplotlib.pyplot as plt\n",
    "\n",
    "from sklearn.model_selection import train_test_split\n",
    "\n",
    "%matplotlib inline"
   ]
  },
  {
   "cell_type": "code",
   "execution_count": 3,
   "id": "b73583b4",
   "metadata": {},
   "outputs": [],
   "source": [
    "from tensorflow.keras.utils import plot_model"
   ]
  },
  {
   "cell_type": "markdown",
   "id": "5b304915",
   "metadata": {},
   "source": [
    "Note : in order to use plot_model, one must install pydot (`pip install pydot`) and install graphviz (see instructions at https://graphviz.gitlab.io/download/) for plot_model to work."
   ]
  },
  {
   "cell_type": "code",
   "execution_count": null,
   "id": "d2218843",
   "metadata": {},
   "outputs": [],
   "source": []
  },
  {
   "cell_type": "code",
   "execution_count": 4,
   "id": "d42d2039",
   "metadata": {},
   "outputs": [],
   "source": [
    "from sklearn.compose import make_column_transformer\n",
    "from sklearn.preprocessing import MinMaxScaler, OneHotEncoder"
   ]
  },
  {
   "cell_type": "code",
   "execution_count": null,
   "id": "99283640",
   "metadata": {},
   "outputs": [],
   "source": []
  },
  {
   "cell_type": "markdown",
   "id": "3ea9cdd1",
   "metadata": {},
   "source": [
    "### Creating data to view and fit"
   ]
  },
  {
   "cell_type": "code",
   "execution_count": 5,
   "id": "dc6c9d96",
   "metadata": {},
   "outputs": [
    {
     "data": {
      "text/plain": [
       "<matplotlib.collections.PathCollection at 0x1bb17ae3160>"
      ]
     },
     "execution_count": 5,
     "metadata": {},
     "output_type": "execute_result"
    },
    {
     "data": {
      "image/png": "[encoded data removed]",
      "text/plain": [
       "<Figure size 432x288 with 1 Axes>"
      ]
     },
     "metadata": {
      "needs_background": "light"
     },
     "output_type": "display_data"
    }
   ],
   "source": [
    "# Create features\n",
    "X = np.array([-7., -4, -1, 2, 5, 8, 11, 14])\n",
    "\n",
    "# Create labels\n",
    "y = np.array([3., 6, 9, 12, 15, 18, 21, 24])\n",
    "\n",
    "# Visualize it\n",
    "plt.scatter(X,y)"
   ]
  },
  {
   "cell_type": "code",
   "execution_count": 6,
   "id": "2e244a47",
   "metadata": {},
   "outputs": [
    {
     "data": {
      "text/plain": [
       "array([ 3.,  6.,  9., 12., 15., 18., 21., 24.])"
      ]
     },
     "execution_count": 6,
     "metadata": {},
     "output_type": "execute_result"
    }
   ],
   "source": [
    "X+10"
   ]
  },
  {
   "cell_type": "code",
   "execution_count": 7,
   "id": "fb87b2bc",
   "metadata": {},
   "outputs": [
    {
     "data": {
      "text/plain": [
       "array([ True,  True,  True,  True,  True,  True,  True,  True])"
      ]
     },
     "execution_count": 7,
     "metadata": {},
     "output_type": "execute_result"
    }
   ],
   "source": [
    "y == X+10"
   ]
  },
  {
   "cell_type": "code",
   "execution_count": 8,
   "id": "e18c377b",
   "metadata": {},
   "outputs": [
    {
     "data": {
      "text/plain": [
       "(TensorShape([8]), TensorShape([8]))"
      ]
     },
     "execution_count": 8,
     "metadata": {},
     "output_type": "execute_result"
    }
   ],
   "source": [
    "# Turning the NumPy arrays into tensors\n",
    "X = tf.constant(X)\n",
    "y = tf.constant(y)\n",
    "X.shape, y.shape"
   ]
  },
  {
   "cell_type": "code",
   "execution_count": 9,
   "id": "f4485d20",
   "metadata": {},
   "outputs": [
    {
     "data": {
      "text/plain": [
       "<tf.Tensor: shape=(8,), dtype=float64, numpy=array([-7., -4., -1.,  2.,  5.,  8., 11., 14.])>"
      ]
     },
     "execution_count": 9,
     "metadata": {},
     "output_type": "execute_result"
    }
   ],
   "source": [
    "X"
   ]
  },
  {
   "cell_type": "code",
   "execution_count": 10,
   "id": "5e0fe4a9",
   "metadata": {},
   "outputs": [
    {
     "data": {
      "text/plain": [
       "<tf.Tensor: shape=(8, 1), dtype=float64, numpy=\n",
       "array([[-7.],\n",
       "       [-4.],\n",
       "       [-1.],\n",
       "       [ 2.],\n",
       "       [ 5.],\n",
       "       [ 8.],\n",
       "       [11.],\n",
       "       [14.]])>"
      ]
     },
     "execution_count": 10,
     "metadata": {},
     "output_type": "execute_result"
    }
   ],
   "source": [
    "# Expand the dimension of a tensor : https://www.geeksforgeeks.org/python-tensorflow-expand_dims/\n",
    "tf.expand_dims(X, axis=-1)"
   ]
  },
  {
   "cell_type": "code",
   "execution_count": null,
   "id": "f5304102",
   "metadata": {},
   "outputs": [],
   "source": []
  },
  {
   "cell_type": "markdown",
   "id": "612e394c",
   "metadata": {},
   "source": [
    "### Steps in modeling in TensorFlow\n",
    "\n",
    "1. **Creating the model** - define the input and output layers, as well as the hidden layers of a deep learning model.\n",
    "2. **Compiling the model** - define the `loss function` (the function which will tells our model how far it's from performing well), the `optimizer` (tells the model how to update its internal patterns to better its predictions) and the `evaluation metrics` (human interpretable values for how well the model is doing).\n",
    "3. **Fitting the model** - letting the model try to find patterns between features and labels.\n",
    "4. **Evaluation** - Evaluate the model on the test data (in order to know how reliable are the model's predictions)\n",
    "\n",
    "\n",
    "In TensorFlow, there are two main way of creating a model :\n",
    "* Sequential API\n",
    "* Functional API"
   ]
  },
  {
   "cell_type": "code",
   "execution_count": 11,
   "id": "6f72d001",
   "metadata": {},
   "outputs": [
    {
     "name": "stdout",
     "output_type": "stream",
     "text": [
      "Epoch 1/5\n",
      "1/1 [==============================] - 0s 487ms/step - loss: 21.6604 - mae: 21.6604\n",
      "Epoch 2/5\n",
      "1/1 [==============================] - 0s 0s/step - loss: 21.2673 - mae: 21.2673\n",
      "Epoch 3/5\n",
      "1/1 [==============================] - 0s 0s/step - loss: 20.8741 - mae: 20.8741\n",
      "Epoch 4/5\n",
      "1/1 [==============================] - 0s 0s/step - loss: 20.4991 - mae: 20.4991\n",
      "Epoch 5/5\n",
      "1/1 [==============================] - 0s 3ms/step - loss: 20.2178 - mae: 20.2178\n"
     ]
    },
    {
     "data": {
      "text/plain": [
       "<keras.callbacks.History at 0x1bb19417a00>"
      ]
     },
     "execution_count": 11,
     "metadata": {},
     "output_type": "execute_result"
    }
   ],
   "source": [
    "# Set a random seed (in order to have some reproducibility)\n",
    "tf.random.set_seed(42)\n",
    "\n",
    "# 1. Create a model using the Sequential API\n",
    "model = tf.keras.Sequential([\n",
    "    tf.keras.layers.Dense(1)\n",
    "])\n",
    "\n",
    "# 2. Compile the model\n",
    "model.compile(loss=tf.keras.losses.mae, # MAE : Mean Absolute Error\n",
    "              optimizer=tf.keras.optimizers.SGD(), # SGD : Stochastic Gradient Descent\n",
    "              metrics=[\"mae\"]\n",
    "             )\n",
    "\n",
    "# 3. Fit the model \n",
    "model.fit(tf.expand_dims(X, axis=-1),y, epochs=5)\n"
   ]
  },
  {
   "cell_type": "markdown",
   "id": "2f2af8b2",
   "metadata": {},
   "source": [
    "**Note**  \n",
    "A lot of function in TensorFlow, if they have a shortcut name (e.g. mae or SGD), can be replaced by a string variable to define the fact it is wished to used that specific function. For e.g., the step 2 in the above cell( Compile the model), can also be written as such : \n",
    "\n",
    "model.compile(loss=\"mae\",  \n",
    "              optimizer=\"sgd\",  \n",
    "              metrics=[\"mae\"]  \n",
    "             )"
   ]
  },
  {
   "cell_type": "code",
   "execution_count": 12,
   "id": "9949ba02",
   "metadata": {},
   "outputs": [
    {
     "data": {
      "text/plain": [
       "(<tf.Tensor: shape=(8,), dtype=float64, numpy=array([-7., -4., -1.,  2.,  5.,  8., 11., 14.])>,\n",
       " <tf.Tensor: shape=(8,), dtype=float64, numpy=array([ 3.,  6.,  9., 12., 15., 18., 21., 24.])>)"
      ]
     },
     "execution_count": 12,
     "metadata": {},
     "output_type": "execute_result"
    }
   ],
   "source": [
    "# Check out X and y\n",
    "X, y"
   ]
  },
  {
   "cell_type": "code",
   "execution_count": 13,
   "id": "d35d1023",
   "metadata": {},
   "outputs": [
    {
     "name": "stdout",
     "output_type": "stream",
     "text": [
      "1/1 [==============================] - 0s 95ms/step\n"
     ]
    },
    {
     "data": {
      "text/plain": [
       "array([[-23.313732]], dtype=float32)"
      ]
     },
     "execution_count": 13,
     "metadata": {},
     "output_type": "execute_result"
    }
   ],
   "source": [
    "# Trying to make a prediction using our model\n",
    "model.predict([17.])"
   ]
  },
  {
   "cell_type": "markdown",
   "id": "9eefcc9e",
   "metadata": {},
   "source": [
    "The predicted value (y) should be 27 when X is 17. But we got -13.89, which is pretty far off. This is no surprising because the current MAE of our model is 17.3050, which means : on average, our model predict something that is 17.3050 points off where is should be (MAE)."
   ]
  },
  {
   "cell_type": "code",
   "execution_count": 14,
   "id": "27107469",
   "metadata": {},
   "outputs": [
    {
     "name": "stdout",
     "output_type": "stream",
     "text": [
      "1/1 [==============================] - 0s 31ms/step\n"
     ]
    },
    {
     "data": {
      "text/plain": [
       "array([[-23.313732]], dtype=float32)"
      ]
     },
     "execution_count": 14,
     "metadata": {},
     "output_type": "execute_result"
    }
   ],
   "source": [
    "y_pred = model.predict([17.])\n",
    "y_pred"
   ]
  },
  {
   "cell_type": "code",
   "execution_count": 15,
   "id": "65c6bb1b",
   "metadata": {},
   "outputs": [
    {
     "data": {
      "text/plain": [
       "array([[-6.008732]], dtype=float32)"
      ]
     },
     "execution_count": 15,
     "metadata": {},
     "output_type": "execute_result"
    }
   ],
   "source": [
    "y_pred + 17.3050"
   ]
  },
  {
   "cell_type": "markdown",
   "id": "a759cf25",
   "metadata": {},
   "source": [
    "The value is still off, our model is performing poorly.   \n",
    "Now, we need to improve our model."
   ]
  },
  {
   "cell_type": "code",
   "execution_count": null,
   "id": "7eecc354",
   "metadata": {},
   "outputs": [],
   "source": []
  },
  {
   "cell_type": "markdown",
   "id": "f47b7fed",
   "metadata": {},
   "source": [
    "### Improving our model\n",
    "\n",
    "We can improve our model by altering the steps we took to create a model.  \n",
    "\n",
    "1. **Creating a model** - Here, we might :\n",
    "* add more layers, \n",
    "* increase the number of hidden units (also called neurons) within each of th hidden layers, \n",
    "* change the activation function of each layer\n",
    "\n",
    "2. **Compiling the model** - Here, we might :\n",
    "* change the optimization function,\n",
    "* or perhaps changes the **learning rate** of the optimization function\n",
    "\n",
    "3. **Fitting the model** - Here, we might :\n",
    "* fit the model for more epochs (make it train for longer)\n",
    "* fit the model on more data (give the model more examples to learn from)"
   ]
  },
  {
   "cell_type": "code",
   "execution_count": 16,
   "id": "0900b32c",
   "metadata": {},
   "outputs": [
    {
     "name": "stdout",
     "output_type": "stream",
     "text": [
      "Epoch 1/100\n",
      "1/1 [==============================] - 0s 469ms/step - loss: 14.3739 - mae: 14.3739\n",
      "Epoch 2/100\n",
      "1/1 [==============================] - 0s 0s/step - loss: 13.8227 - mae: 13.8227\n",
      "Epoch 3/100\n",
      "1/1 [==============================] - 0s 16ms/step - loss: 13.2869 - mae: 13.2869\n",
      "Epoch 4/100\n",
      "1/1 [==============================] - 0s 0s/step - loss: 12.7685 - mae: 12.7685\n",
      "Epoch 5/100\n",
      "1/1 [==============================] - 0s 16ms/step - loss: 12.2610 - mae: 12.2610\n",
      "Epoch 6/100\n",
      "1/1 [==============================] - 0s 4ms/step - loss: 11.7500 - mae: 11.7500\n",
      "Epoch 7/100\n",
      "1/1 [==============================] - 0s 4ms/step - loss: 11.2253 - mae: 11.2253\n",
      "Epoch 8/100\n",
      "1/1 [==============================] - 0s 8ms/step - loss: 10.6877 - mae: 10.6877\n",
      "Epoch 9/100\n",
      "1/1 [==============================] - 0s 4ms/step - loss: 10.1329 - mae: 10.1329\n",
      "Epoch 10/100\n",
      "1/1 [==============================] - 0s 4ms/step - loss: 9.6039 - mae: 9.6039\n",
      "Epoch 11/100\n",
      "1/1 [==============================] - 0s 5ms/step - loss: 9.0524 - mae: 9.0524\n",
      "Epoch 12/100\n",
      "1/1 [==============================] - 0s 5ms/step - loss: 8.4659 - mae: 8.4659\n",
      "Epoch 13/100\n",
      "1/1 [==============================] - 0s 4ms/step - loss: 7.8387 - mae: 7.8387\n",
      "Epoch 14/100\n",
      "1/1 [==============================] - 0s 3ms/step - loss: 7.1646 - mae: 7.1646\n",
      "Epoch 15/100\n",
      "1/1 [==============================] - 0s 5ms/step - loss: 6.4371 - mae: 6.4371\n",
      "Epoch 16/100\n",
      "1/1 [==============================] - 0s 0s/step - loss: 5.6521 - mae: 5.6521\n",
      "Epoch 17/100\n",
      "1/1 [==============================] - 0s 4ms/step - loss: 4.8061 - mae: 4.8061\n",
      "Epoch 18/100\n",
      "1/1 [==============================] - 0s 3ms/step - loss: 4.0941 - mae: 4.0941\n",
      "Epoch 19/100\n",
      "1/1 [==============================] - 0s 3ms/step - loss: 3.9991 - mae: 3.9991\n",
      "Epoch 20/100\n",
      "1/1 [==============================] - 0s 4ms/step - loss: 3.9016 - mae: 3.9016\n",
      "Epoch 21/100\n",
      "1/1 [==============================] - 0s 5ms/step - loss: 3.9517 - mae: 3.9517\n",
      "Epoch 22/100\n",
      "1/1 [==============================] - 0s 6ms/step - loss: 3.8845 - mae: 3.8845\n",
      "Epoch 23/100\n",
      "1/1 [==============================] - 0s 3ms/step - loss: 3.9482 - mae: 3.9482\n",
      "Epoch 24/100\n",
      "1/1 [==============================] - 0s 4ms/step - loss: 3.8907 - mae: 3.8907\n",
      "Epoch 25/100\n",
      "1/1 [==============================] - 0s 3ms/step - loss: 3.9316 - mae: 3.9316\n",
      "Epoch 26/100\n",
      "1/1 [==============================] - 0s 3ms/step - loss: 3.9065 - mae: 3.9065\n",
      "Epoch 27/100\n",
      "1/1 [==============================] - 0s 3ms/step - loss: 3.9057 - mae: 3.9057\n",
      "Epoch 28/100\n",
      "1/1 [==============================] - 0s 0s/step - loss: 3.9127 - mae: 3.9127\n",
      "Epoch 29/100\n",
      "1/1 [==============================] - 0s 0s/step - loss: 3.8795 - mae: 3.8795\n",
      "Epoch 30/100\n",
      "1/1 [==============================] - 0s 15ms/step - loss: 3.9190 - mae: 3.9190\n",
      "Epoch 31/100\n",
      "1/1 [==============================] - 0s 0s/step - loss: 3.8534 - mae: 3.8534\n",
      "Epoch 32/100\n",
      "1/1 [==============================] - 0s 16ms/step - loss: 3.9255 - mae: 3.9255\n",
      "Epoch 33/100\n",
      "1/1 [==============================] - 0s 4ms/step - loss: 3.8667 - mae: 3.8667\n",
      "Epoch 34/100\n",
      "1/1 [==============================] - 0s 4ms/step - loss: 3.9088 - mae: 3.9088\n",
      "Epoch 35/100\n",
      "1/1 [==============================] - 0s 5ms/step - loss: 3.8746 - mae: 3.8746\n",
      "Epoch 36/100\n",
      "1/1 [==============================] - 0s 5ms/step - loss: 3.8825 - mae: 3.8825\n",
      "Epoch 37/100\n",
      "1/1 [==============================] - 0s 7ms/step - loss: 3.8810 - mae: 3.8810\n",
      "Epoch 38/100\n",
      "1/1 [==============================] - 0s 2ms/step - loss: 3.8561 - mae: 3.8561\n",
      "Epoch 39/100\n",
      "1/1 [==============================] - 0s 3ms/step - loss: 3.8876 - mae: 3.8876\n",
      "Epoch 40/100\n",
      "1/1 [==============================] - 0s 3ms/step - loss: 3.8297 - mae: 3.8297\n",
      "Epoch 41/100\n",
      "1/1 [==============================] - 0s 3ms/step - loss: 3.9016 - mae: 3.9016\n",
      "Epoch 42/100\n",
      "1/1 [==============================] - 0s 3ms/step - loss: 3.8374 - mae: 3.8374\n",
      "Epoch 43/100\n",
      "1/1 [==============================] - 0s 2ms/step - loss: 3.8844 - mae: 3.8844\n",
      "Epoch 44/100\n",
      "1/1 [==============================] - 0s 3ms/step - loss: 3.8440 - mae: 3.8440\n",
      "Epoch 45/100\n",
      "1/1 [==============================] - 0s 2ms/step - loss: 3.8578 - mae: 3.8578\n",
      "Epoch 46/100\n",
      "1/1 [==============================] - 0s 4ms/step - loss: 3.8507 - mae: 3.8507\n",
      "Epoch 47/100\n",
      "1/1 [==============================] - 0s 3ms/step - loss: 3.8312 - mae: 3.8312\n",
      "Epoch 48/100\n",
      "1/1 [==============================] - 0s 3ms/step - loss: 3.8576 - mae: 3.8576\n",
      "Epoch 49/100\n",
      "1/1 [==============================] - 0s 4ms/step - loss: 3.8113 - mae: 3.8113\n",
      "Epoch 50/100\n",
      "1/1 [==============================] - 0s 3ms/step - loss: 3.8742 - mae: 3.8742\n",
      "Epoch 51/100\n",
      "1/1 [==============================] - 0s 3ms/step - loss: 3.8078 - mae: 3.8078\n",
      "Epoch 52/100\n",
      "1/1 [==============================] - 0s 3ms/step - loss: 3.8587 - mae: 3.8587\n",
      "Epoch 53/100\n",
      "1/1 [==============================] - 0s 3ms/step - loss: 3.8146 - mae: 3.8146\n",
      "Epoch 54/100\n",
      "1/1 [==============================] - 0s 4ms/step - loss: 3.8318 - mae: 3.8318\n",
      "Epoch 55/100\n",
      "1/1 [==============================] - 0s 3ms/step - loss: 3.8215 - mae: 3.8215\n",
      "Epoch 56/100\n",
      "1/1 [==============================] - 0s 4ms/step - loss: 3.8050 - mae: 3.8050\n",
      "Epoch 57/100\n",
      "1/1 [==============================] - 0s 3ms/step - loss: 3.8342 - mae: 3.8342\n",
      "Epoch 58/100\n",
      "1/1 [==============================] - 0s 3ms/step - loss: 3.7870 - mae: 3.7870\n",
      "Epoch 59/100\n",
      "1/1 [==============================] - 0s 4ms/step - loss: 3.8453 - mae: 3.8453\n",
      "Epoch 60/100\n",
      "1/1 [==============================] - 0s 3ms/step - loss: 3.7793 - mae: 3.7793\n",
      "Epoch 61/100\n",
      "1/1 [==============================] - 0s 3ms/step - loss: 3.8317 - mae: 3.8317\n",
      "Epoch 62/100\n",
      "1/1 [==============================] - 0s 4ms/step - loss: 3.7863 - mae: 3.7863\n",
      "Epoch 63/100\n",
      "1/1 [==============================] - 0s 3ms/step - loss: 3.8046 - mae: 3.8046\n",
      "Epoch 64/100\n",
      "1/1 [==============================] - 0s 5ms/step - loss: 3.7935 - mae: 3.7935\n",
      "Epoch 65/100\n",
      "1/1 [==============================] - 0s 5ms/step - loss: 3.7825 - mae: 3.7825\n",
      "Epoch 66/100\n",
      "1/1 [==============================] - 0s 4ms/step - loss: 3.8104 - mae: 3.8104\n",
      "Epoch 67/100\n",
      "1/1 [==============================] - 0s 5ms/step - loss: 3.7590 - mae: 3.7590\n",
      "Epoch 68/100\n",
      "1/1 [==============================] - 0s 4ms/step - loss: 3.8175 - mae: 3.8175\n",
      "Epoch 69/100\n",
      "1/1 [==============================] - 0s 5ms/step - loss: 3.7518 - mae: 3.7518\n",
      "Epoch 70/100\n",
      "1/1 [==============================] - 0s 4ms/step - loss: 3.8034 - mae: 3.8034\n",
      "Epoch 71/100\n",
      "1/1 [==============================] - 0s 4ms/step - loss: 3.7590 - mae: 3.7590\n",
      "Epoch 72/100\n",
      "1/1 [==============================] - 0s 5ms/step - loss: 3.7760 - mae: 3.7760\n",
      "Epoch 73/100\n",
      "1/1 [==============================] - 0s 3ms/step - loss: 3.7704 - mae: 3.7704\n",
      "Epoch 74/100\n",
      "1/1 [==============================] - 0s 4ms/step - loss: 3.7576 - mae: 3.7576\n",
      "Epoch 75/100\n",
      "1/1 [==============================] - 0s 6ms/step - loss: 3.7834 - mae: 3.7834\n",
      "Epoch 76/100\n",
      "1/1 [==============================] - 0s 4ms/step - loss: 3.7298 - mae: 3.7298\n",
      "Epoch 77/100\n",
      "1/1 [==============================] - 0s 5ms/step - loss: 3.7908 - mae: 3.7908\n",
      "Epoch 78/100\n",
      "1/1 [==============================] - 0s 4ms/step - loss: 3.7254 - mae: 3.7254\n",
      "Epoch 79/100\n",
      "1/1 [==============================] - 0s 4ms/step - loss: 3.7738 - mae: 3.7738\n",
      "Epoch 80/100\n",
      "1/1 [==============================] - 0s 5ms/step - loss: 3.7328 - mae: 3.7328\n",
      "Epoch 81/100\n",
      "1/1 [==============================] - 0s 6ms/step - loss: 3.7497 - mae: 3.7497\n",
      "Epoch 82/100\n",
      "1/1 [==============================] - 0s 5ms/step - loss: 3.7501 - mae: 3.7501\n",
      "Epoch 83/100\n",
      "1/1 [==============================] - 0s 4ms/step - loss: 3.7273 - mae: 3.7273\n",
      "Epoch 84/100\n",
      "1/1 [==============================] - 0s 6ms/step - loss: 3.7575 - mae: 3.7575\n",
      "Epoch 85/100\n",
      "1/1 [==============================] - 0s 4ms/step - loss: 3.6991 - mae: 3.6991\n",
      "Epoch 86/100\n",
      "1/1 [==============================] - 0s 6ms/step - loss: 3.7651 - mae: 3.7651\n",
      "Epoch 87/100\n",
      "1/1 [==============================] - 0s 5ms/step - loss: 3.7000 - mae: 3.7000\n",
      "Epoch 88/100\n",
      "1/1 [==============================] - 0s 4ms/step - loss: 3.7429 - mae: 3.7429\n"
     ]
    },
    {
     "name": "stdout",
     "output_type": "stream",
     "text": [
      "Epoch 89/100\n",
      "1/1 [==============================] - 0s 5ms/step - loss: 3.7100 - mae: 3.7100\n",
      "Epoch 90/100\n",
      "1/1 [==============================] - 0s 5ms/step - loss: 3.7239 - mae: 3.7239\n",
      "Epoch 91/100\n",
      "1/1 [==============================] - 0s 4ms/step - loss: 3.7249 - mae: 3.7249\n",
      "Epoch 92/100\n",
      "1/1 [==============================] - 0s 5ms/step - loss: 3.6955 - mae: 3.6955\n",
      "Epoch 93/100\n",
      "1/1 [==============================] - 0s 4ms/step - loss: 3.7326 - mae: 3.7326\n",
      "Epoch 94/100\n",
      "1/1 [==============================] - 0s 5ms/step - loss: 3.6680 - mae: 3.6680\n",
      "Epoch 95/100\n",
      "1/1 [==============================] - 0s 6ms/step - loss: 3.7386 - mae: 3.7386\n",
      "Epoch 96/100\n",
      "1/1 [==============================] - 0s 5ms/step - loss: 3.6757 - mae: 3.6757\n",
      "Epoch 97/100\n",
      "1/1 [==============================] - 0s 7ms/step - loss: 3.7123 - mae: 3.7123\n",
      "Epoch 98/100\n",
      "1/1 [==============================] - 0s 7ms/step - loss: 3.6932 - mae: 3.6932\n",
      "Epoch 99/100\n",
      "1/1 [==============================] - 0s 5ms/step - loss: 3.6911 - mae: 3.6911\n",
      "Epoch 100/100\n",
      "1/1 [==============================] - 0s 7ms/step - loss: 3.7010 - mae: 3.7010\n"
     ]
    },
    {
     "data": {
      "text/plain": [
       "<keras.callbacks.History at 0x1bb1984d310>"
      ]
     },
     "execution_count": 16,
     "metadata": {},
     "output_type": "execute_result"
    }
   ],
   "source": [
    "# 1st experiment : add a hidden layer, and more epochs, as an improvement to the model\n",
    "\n",
    "# Set a random seed (in order to have some reproducibility)\n",
    "tf.random.set_seed(42)\n",
    "\n",
    "# 1. Create a model using the Sequential API\n",
    "model = tf.keras.Sequential([\n",
    "    \n",
    "    # Adding more hidden layers, more neurons, and activation function \n",
    "    tf.keras.layers.Dense(100, activation=\"relu\"),\n",
    "    \n",
    "    tf.keras.layers.Dense(1)\n",
    "])\n",
    "\n",
    "# 2. Compile the model\n",
    "model.compile(loss=tf.keras.losses.mae, # MAE : Mean Absolute Error\n",
    "              optimizer=tf.keras.optimizers.SGD(),\n",
    "              metrics=[\"mae\"]\n",
    "             )\n",
    "\n",
    "# 3. Fit the model \n",
    "model.fit(tf.expand_dims(X, axis=-1),y, epochs=100) # Increasing the number of epochs\n"
   ]
  },
  {
   "cell_type": "markdown",
   "id": "ac7a663c",
   "metadata": {},
   "source": [
    "The 1st experiment has resulted in a good improvement of the model"
   ]
  },
  {
   "cell_type": "code",
   "execution_count": 17,
   "id": "debaf8ee",
   "metadata": {},
   "outputs": [
    {
     "name": "stdout",
     "output_type": "stream",
     "text": [
      "1/1 [==============================] - 0s 110ms/step\n"
     ]
    },
    {
     "data": {
      "text/plain": [
       "array([[31.754354]], dtype=float32)"
      ]
     },
     "execution_count": 17,
     "metadata": {},
     "output_type": "execute_result"
    }
   ],
   "source": [
    "# Check how the model's prediction has improved...\n",
    "model.predict([17.])"
   ]
  },
  {
   "cell_type": "code",
   "execution_count": null,
   "id": "edec4f02",
   "metadata": {},
   "outputs": [],
   "source": []
  },
  {
   "cell_type": "code",
   "execution_count": null,
   "id": "af2206a9",
   "metadata": {},
   "outputs": [],
   "source": []
  },
  {
   "cell_type": "code",
   "execution_count": 18,
   "id": "ab3f76fa",
   "metadata": {},
   "outputs": [
    {
     "name": "stdout",
     "output_type": "stream",
     "text": [
      "Epoch 1/300\n"
     ]
    },
    {
     "name": "stderr",
     "output_type": "stream",
     "text": [
      "C:\\ProgramData\\Anaconda3\\lib\\site-packages\\keras\\optimizers\\optimizer_v2\\adam.py:114: UserWarning: The `lr` argument is deprecated, use `learning_rate` instead.\n",
      "  super().__init__(name, **kwargs)\n"
     ]
    },
    {
     "name": "stdout",
     "output_type": "stream",
     "text": [
      "1/1 [==============================] - 1s 607ms/step - loss: 12.8361 - mae: 12.8361\n",
      "Epoch 2/300\n",
      "1/1 [==============================] - 0s 7ms/step - loss: 12.7982 - mae: 12.7982\n",
      "Epoch 3/300\n",
      "1/1 [==============================] - 0s 4ms/step - loss: 12.7601 - mae: 12.7601\n",
      "Epoch 4/300\n",
      "1/1 [==============================] - 0s 4ms/step - loss: 12.7219 - mae: 12.7219\n",
      "Epoch 5/300\n",
      "1/1 [==============================] - 0s 7ms/step - loss: 12.6837 - mae: 12.6837\n",
      "Epoch 6/300\n",
      "1/1 [==============================] - 0s 5ms/step - loss: 12.6454 - mae: 12.6454\n",
      "Epoch 7/300\n",
      "1/1 [==============================] - 0s 6ms/step - loss: 12.6071 - mae: 12.6071\n",
      "Epoch 8/300\n",
      "1/1 [==============================] - 0s 5ms/step - loss: 12.5686 - mae: 12.5686\n",
      "Epoch 9/300\n",
      "1/1 [==============================] - 0s 4ms/step - loss: 12.5301 - mae: 12.5301\n",
      "Epoch 10/300\n",
      "1/1 [==============================] - 0s 5ms/step - loss: 12.4914 - mae: 12.4914\n",
      "Epoch 11/300\n",
      "1/1 [==============================] - 0s 4ms/step - loss: 12.4525 - mae: 12.4525\n",
      "Epoch 12/300\n",
      "1/1 [==============================] - 0s 5ms/step - loss: 12.4135 - mae: 12.4135\n",
      "Epoch 13/300\n",
      "1/1 [==============================] - 0s 6ms/step - loss: 12.3746 - mae: 12.3746\n",
      "Epoch 14/300\n",
      "1/1 [==============================] - 0s 3ms/step - loss: 12.3357 - mae: 12.3357\n",
      "Epoch 15/300\n",
      "1/1 [==============================] - 0s 4ms/step - loss: 12.2967 - mae: 12.2967\n",
      "Epoch 16/300\n",
      "1/1 [==============================] - 0s 4ms/step - loss: 12.2574 - mae: 12.2574\n",
      "Epoch 17/300\n",
      "1/1 [==============================] - 0s 5ms/step - loss: 12.2178 - mae: 12.2178\n",
      "Epoch 18/300\n",
      "1/1 [==============================] - 0s 5ms/step - loss: 12.1781 - mae: 12.1781\n",
      "Epoch 19/300\n",
      "1/1 [==============================] - 0s 5ms/step - loss: 12.1392 - mae: 12.1392\n",
      "Epoch 20/300\n",
      "1/1 [==============================] - 0s 7ms/step - loss: 12.1011 - mae: 12.1011\n",
      "Epoch 21/300\n",
      "1/1 [==============================] - 0s 5ms/step - loss: 12.0638 - mae: 12.0638\n",
      "Epoch 22/300\n",
      "1/1 [==============================] - 0s 5ms/step - loss: 12.0264 - mae: 12.0264\n",
      "Epoch 23/300\n",
      "1/1 [==============================] - 0s 5ms/step - loss: 11.9888 - mae: 11.9888\n",
      "Epoch 24/300\n",
      "1/1 [==============================] - 0s 5ms/step - loss: 11.9516 - mae: 11.9516\n",
      "Epoch 25/300\n",
      "1/1 [==============================] - 0s 7ms/step - loss: 11.9142 - mae: 11.9142\n",
      "Epoch 26/300\n",
      "1/1 [==============================] - 0s 5ms/step - loss: 11.8763 - mae: 11.8763\n",
      "Epoch 27/300\n",
      "1/1 [==============================] - 0s 3ms/step - loss: 11.8379 - mae: 11.8379\n",
      "Epoch 28/300\n",
      "1/1 [==============================] - 0s 4ms/step - loss: 11.7992 - mae: 11.7992\n",
      "Epoch 29/300\n",
      "1/1 [==============================] - 0s 5ms/step - loss: 11.7602 - mae: 11.7602\n",
      "Epoch 30/300\n",
      "1/1 [==============================] - 0s 6ms/step - loss: 11.7209 - mae: 11.7209\n",
      "Epoch 31/300\n",
      "1/1 [==============================] - 0s 4ms/step - loss: 11.6812 - mae: 11.6812\n",
      "Epoch 32/300\n",
      "1/1 [==============================] - 0s 7ms/step - loss: 11.6413 - mae: 11.6413\n",
      "Epoch 33/300\n",
      "1/1 [==============================] - 0s 5ms/step - loss: 11.6011 - mae: 11.6011\n",
      "Epoch 34/300\n",
      "1/1 [==============================] - 0s 5ms/step - loss: 11.5605 - mae: 11.5605\n",
      "Epoch 35/300\n",
      "1/1 [==============================] - 0s 5ms/step - loss: 11.5194 - mae: 11.5194\n",
      "Epoch 36/300\n",
      "1/1 [==============================] - 0s 5ms/step - loss: 11.4781 - mae: 11.4781\n",
      "Epoch 37/300\n",
      "1/1 [==============================] - 0s 3ms/step - loss: 11.4366 - mae: 11.4366\n",
      "Epoch 38/300\n",
      "1/1 [==============================] - 0s 5ms/step - loss: 11.3948 - mae: 11.3948\n",
      "Epoch 39/300\n",
      "1/1 [==============================] - 0s 5ms/step - loss: 11.3528 - mae: 11.3528\n",
      "Epoch 40/300\n",
      "1/1 [==============================] - 0s 6ms/step - loss: 11.3106 - mae: 11.3106\n",
      "Epoch 41/300\n",
      "1/1 [==============================] - 0s 4ms/step - loss: 11.2685 - mae: 11.2685\n",
      "Epoch 42/300\n",
      "1/1 [==============================] - 0s 3ms/step - loss: 11.2260 - mae: 11.2260\n",
      "Epoch 43/300\n",
      "1/1 [==============================] - 0s 4ms/step - loss: 11.1829 - mae: 11.1829\n",
      "Epoch 44/300\n",
      "1/1 [==============================] - 0s 3ms/step - loss: 11.1392 - mae: 11.1392\n",
      "Epoch 45/300\n",
      "1/1 [==============================] - 0s 5ms/step - loss: 11.0950 - mae: 11.0950\n",
      "Epoch 46/300\n",
      "1/1 [==============================] - 0s 4ms/step - loss: 11.0503 - mae: 11.0503\n",
      "Epoch 47/300\n",
      "1/1 [==============================] - 0s 5ms/step - loss: 11.0053 - mae: 11.0053\n",
      "Epoch 48/300\n",
      "1/1 [==============================] - 0s 5ms/step - loss: 10.9602 - mae: 10.9602\n",
      "Epoch 49/300\n",
      "1/1 [==============================] - 0s 4ms/step - loss: 10.9147 - mae: 10.9147\n",
      "Epoch 50/300\n",
      "1/1 [==============================] - 0s 3ms/step - loss: 10.8688 - mae: 10.8688\n",
      "Epoch 51/300\n",
      "1/1 [==============================] - 0s 3ms/step - loss: 10.8225 - mae: 10.8225\n",
      "Epoch 52/300\n",
      "1/1 [==============================] - 0s 2ms/step - loss: 10.7759 - mae: 10.7759\n",
      "Epoch 53/300\n",
      "1/1 [==============================] - 0s 3ms/step - loss: 10.7287 - mae: 10.7287\n",
      "Epoch 54/300\n",
      "1/1 [==============================] - 0s 3ms/step - loss: 10.6828 - mae: 10.6828\n",
      "Epoch 55/300\n",
      "1/1 [==============================] - 0s 3ms/step - loss: 10.6486 - mae: 10.6486\n",
      "Epoch 56/300\n",
      "1/1 [==============================] - 0s 3ms/step - loss: 10.6138 - mae: 10.6138\n",
      "Epoch 57/300\n",
      "1/1 [==============================] - 0s 4ms/step - loss: 10.5784 - mae: 10.5784\n",
      "Epoch 58/300\n",
      "1/1 [==============================] - 0s 3ms/step - loss: 10.5424 - mae: 10.5424\n",
      "Epoch 59/300\n",
      "1/1 [==============================] - 0s 4ms/step - loss: 10.5061 - mae: 10.5061\n",
      "Epoch 60/300\n",
      "1/1 [==============================] - 0s 3ms/step - loss: 10.4696 - mae: 10.4696\n",
      "Epoch 61/300\n",
      "1/1 [==============================] - 0s 3ms/step - loss: 10.4326 - mae: 10.4326\n",
      "Epoch 62/300\n",
      "1/1 [==============================] - 0s 3ms/step - loss: 10.3951 - mae: 10.3951\n",
      "Epoch 63/300\n",
      "1/1 [==============================] - 0s 4ms/step - loss: 10.3572 - mae: 10.3572\n",
      "Epoch 64/300\n",
      "1/1 [==============================] - 0s 4ms/step - loss: 10.3188 - mae: 10.3188\n",
      "Epoch 65/300\n",
      "1/1 [==============================] - 0s 3ms/step - loss: 10.2799 - mae: 10.2799\n",
      "Epoch 66/300\n",
      "1/1 [==============================] - 0s 4ms/step - loss: 10.2406 - mae: 10.2406\n",
      "Epoch 67/300\n",
      "1/1 [==============================] - 0s 3ms/step - loss: 10.2008 - mae: 10.2008\n",
      "Epoch 68/300\n",
      "1/1 [==============================] - 0s 4ms/step - loss: 10.1605 - mae: 10.1605\n",
      "Epoch 69/300\n",
      "1/1 [==============================] - 0s 3ms/step - loss: 10.1197 - mae: 10.1197\n",
      "Epoch 70/300\n",
      "1/1 [==============================] - 0s 4ms/step - loss: 10.0784 - mae: 10.0784\n",
      "Epoch 71/300\n",
      "1/1 [==============================] - 0s 4ms/step - loss: 10.0367 - mae: 10.0367\n",
      "Epoch 72/300\n",
      "1/1 [==============================] - 0s 3ms/step - loss: 9.9945 - mae: 9.9945\n",
      "Epoch 73/300\n",
      "1/1 [==============================] - 0s 4ms/step - loss: 9.9516 - mae: 9.9516\n",
      "Epoch 74/300\n",
      "1/1 [==============================] - 0s 3ms/step - loss: 9.9081 - mae: 9.9081\n",
      "Epoch 75/300\n",
      "1/1 [==============================] - 0s 4ms/step - loss: 9.8639 - mae: 9.8639\n",
      "Epoch 76/300\n",
      "1/1 [==============================] - 0s 4ms/step - loss: 9.8192 - mae: 9.8192\n",
      "Epoch 77/300\n",
      "1/1 [==============================] - 0s 4ms/step - loss: 9.7741 - mae: 9.7741\n",
      "Epoch 78/300\n",
      "1/1 [==============================] - 0s 3ms/step - loss: 9.7283 - mae: 9.7283\n",
      "Epoch 79/300\n",
      "1/1 [==============================] - 0s 4ms/step - loss: 9.6822 - mae: 9.6822\n",
      "Epoch 80/300\n",
      "1/1 [==============================] - 0s 4ms/step - loss: 9.6358 - mae: 9.6358\n",
      "Epoch 81/300\n",
      "1/1 [==============================] - 0s 5ms/step - loss: 9.5892 - mae: 9.5892\n",
      "Epoch 82/300\n",
      "1/1 [==============================] - 0s 5ms/step - loss: 9.5420 - mae: 9.5420\n",
      "Epoch 83/300\n",
      "1/1 [==============================] - 0s 3ms/step - loss: 9.4942 - mae: 9.4942\n",
      "Epoch 84/300\n",
      "1/1 [==============================] - 0s 3ms/step - loss: 9.4457 - mae: 9.4457\n",
      "Epoch 85/300\n",
      "1/1 [==============================] - 0s 3ms/step - loss: 9.3968 - mae: 9.3968\n",
      "Epoch 86/300\n",
      "1/1 [==============================] - 0s 4ms/step - loss: 9.3474 - mae: 9.3474\n",
      "Epoch 87/300\n"
     ]
    },
    {
     "name": "stdout",
     "output_type": "stream",
     "text": [
      "1/1 [==============================] - 0s 4ms/step - loss: 9.2974 - mae: 9.2974\n",
      "Epoch 88/300\n",
      "1/1 [==============================] - 0s 5ms/step - loss: 9.2468 - mae: 9.2468\n",
      "Epoch 89/300\n",
      "1/1 [==============================] - 0s 4ms/step - loss: 9.1956 - mae: 9.1956\n",
      "Epoch 90/300\n",
      "1/1 [==============================] - 0s 4ms/step - loss: 9.1442 - mae: 9.1442\n",
      "Epoch 91/300\n",
      "1/1 [==============================] - 0s 5ms/step - loss: 9.0925 - mae: 9.0925\n",
      "Epoch 92/300\n",
      "1/1 [==============================] - 0s 3ms/step - loss: 9.0401 - mae: 9.0401\n",
      "Epoch 93/300\n",
      "1/1 [==============================] - 0s 4ms/step - loss: 8.9871 - mae: 8.9871\n",
      "Epoch 94/300\n",
      "1/1 [==============================] - 0s 6ms/step - loss: 8.9336 - mae: 8.9336\n",
      "Epoch 95/300\n",
      "1/1 [==============================] - 0s 5ms/step - loss: 8.8794 - mae: 8.8794\n",
      "Epoch 96/300\n",
      "1/1 [==============================] - 0s 6ms/step - loss: 8.8245 - mae: 8.8245\n",
      "Epoch 97/300\n",
      "1/1 [==============================] - 0s 5ms/step - loss: 8.7691 - mae: 8.7691\n",
      "Epoch 98/300\n",
      "1/1 [==============================] - 0s 7ms/step - loss: 8.7130 - mae: 8.7130\n",
      "Epoch 99/300\n",
      "1/1 [==============================] - 0s 6ms/step - loss: 8.6562 - mae: 8.6562\n",
      "Epoch 100/300\n",
      "1/1 [==============================] - 0s 3ms/step - loss: 8.5986 - mae: 8.5986\n",
      "Epoch 101/300\n",
      "1/1 [==============================] - 0s 6ms/step - loss: 8.5401 - mae: 8.5401\n",
      "Epoch 102/300\n",
      "1/1 [==============================] - 0s 5ms/step - loss: 8.4807 - mae: 8.4807\n",
      "Epoch 103/300\n",
      "1/1 [==============================] - 0s 7ms/step - loss: 8.4205 - mae: 8.4205\n",
      "Epoch 104/300\n",
      "1/1 [==============================] - 0s 4ms/step - loss: 8.3594 - mae: 8.3594\n",
      "Epoch 105/300\n",
      "1/1 [==============================] - 0s 6ms/step - loss: 8.2976 - mae: 8.2976\n",
      "Epoch 106/300\n",
      "1/1 [==============================] - 0s 4ms/step - loss: 8.2350 - mae: 8.2350\n",
      "Epoch 107/300\n",
      "1/1 [==============================] - 0s 6ms/step - loss: 8.1717 - mae: 8.1717\n",
      "Epoch 108/300\n",
      "1/1 [==============================] - 0s 6ms/step - loss: 8.1076 - mae: 8.1076\n",
      "Epoch 109/300\n",
      "1/1 [==============================] - 0s 5ms/step - loss: 8.0427 - mae: 8.0427\n",
      "Epoch 110/300\n",
      "1/1 [==============================] - 0s 5ms/step - loss: 7.9770 - mae: 7.9770\n",
      "Epoch 111/300\n",
      "1/1 [==============================] - 0s 5ms/step - loss: 7.9107 - mae: 7.9107\n",
      "Epoch 112/300\n",
      "1/1 [==============================] - 0s 6ms/step - loss: 7.8437 - mae: 7.8437\n",
      "Epoch 113/300\n",
      "1/1 [==============================] - 0s 5ms/step - loss: 7.7761 - mae: 7.7761\n",
      "Epoch 114/300\n",
      "1/1 [==============================] - 0s 6ms/step - loss: 7.7084 - mae: 7.7084\n",
      "Epoch 115/300\n",
      "1/1 [==============================] - 0s 6ms/step - loss: 7.6401 - mae: 7.6401\n",
      "Epoch 116/300\n",
      "1/1 [==============================] - 0s 5ms/step - loss: 7.5710 - mae: 7.5710\n",
      "Epoch 117/300\n",
      "1/1 [==============================] - 0s 5ms/step - loss: 7.5011 - mae: 7.5011\n",
      "Epoch 118/300\n",
      "1/1 [==============================] - 0s 5ms/step - loss: 7.4304 - mae: 7.4304\n",
      "Epoch 119/300\n",
      "1/1 [==============================] - 0s 6ms/step - loss: 7.3589 - mae: 7.3589\n",
      "Epoch 120/300\n",
      "1/1 [==============================] - 0s 6ms/step - loss: 7.2866 - mae: 7.2866\n",
      "Epoch 121/300\n",
      "1/1 [==============================] - 0s 5ms/step - loss: 7.2132 - mae: 7.2132\n",
      "Epoch 122/300\n",
      "1/1 [==============================] - 0s 6ms/step - loss: 7.1388 - mae: 7.1388\n",
      "Epoch 123/300\n",
      "1/1 [==============================] - 0s 4ms/step - loss: 7.0635 - mae: 7.0635\n",
      "Epoch 124/300\n",
      "1/1 [==============================] - 0s 8ms/step - loss: 6.9874 - mae: 6.9874\n",
      "Epoch 125/300\n",
      "1/1 [==============================] - 0s 6ms/step - loss: 6.9105 - mae: 6.9105\n",
      "Epoch 126/300\n",
      "1/1 [==============================] - 0s 4ms/step - loss: 6.8327 - mae: 6.8327\n",
      "Epoch 127/300\n",
      "1/1 [==============================] - 0s 5ms/step - loss: 6.7540 - mae: 6.7540\n",
      "Epoch 128/300\n",
      "1/1 [==============================] - 0s 5ms/step - loss: 6.6744 - mae: 6.6744\n",
      "Epoch 129/300\n",
      "1/1 [==============================] - 0s 4ms/step - loss: 6.5941 - mae: 6.5941\n",
      "Epoch 130/300\n",
      "1/1 [==============================] - 0s 4ms/step - loss: 6.5130 - mae: 6.5130\n",
      "Epoch 131/300\n",
      "1/1 [==============================] - 0s 3ms/step - loss: 6.4309 - mae: 6.4309\n",
      "Epoch 132/300\n",
      "1/1 [==============================] - 0s 5ms/step - loss: 6.3479 - mae: 6.3479\n",
      "Epoch 133/300\n",
      "1/1 [==============================] - 0s 3ms/step - loss: 6.2639 - mae: 6.2639\n",
      "Epoch 134/300\n",
      "1/1 [==============================] - 0s 4ms/step - loss: 6.1790 - mae: 6.1790\n",
      "Epoch 135/300\n",
      "1/1 [==============================] - 0s 5ms/step - loss: 6.0931 - mae: 6.0931\n",
      "Epoch 136/300\n",
      "1/1 [==============================] - 0s 3ms/step - loss: 6.0061 - mae: 6.0061\n",
      "Epoch 137/300\n",
      "1/1 [==============================] - 0s 4ms/step - loss: 5.9178 - mae: 5.9178\n",
      "Epoch 138/300\n",
      "1/1 [==============================] - 0s 5ms/step - loss: 5.8283 - mae: 5.8283\n",
      "Epoch 139/300\n",
      "1/1 [==============================] - 0s 4ms/step - loss: 5.7376 - mae: 5.7376\n",
      "Epoch 140/300\n",
      "1/1 [==============================] - 0s 4ms/step - loss: 5.6459 - mae: 5.6459\n",
      "Epoch 141/300\n",
      "1/1 [==============================] - 0s 4ms/step - loss: 5.5530 - mae: 5.5530\n",
      "Epoch 142/300\n",
      "1/1 [==============================] - 0s 4ms/step - loss: 5.4590 - mae: 5.4590\n",
      "Epoch 143/300\n",
      "1/1 [==============================] - 0s 5ms/step - loss: 5.3640 - mae: 5.3640\n",
      "Epoch 144/300\n",
      "1/1 [==============================] - 0s 4ms/step - loss: 5.2679 - mae: 5.2679\n",
      "Epoch 145/300\n",
      "1/1 [==============================] - 0s 5ms/step - loss: 5.1707 - mae: 5.1707\n",
      "Epoch 146/300\n",
      "1/1 [==============================] - 0s 3ms/step - loss: 5.0723 - mae: 5.0723\n",
      "Epoch 147/300\n",
      "1/1 [==============================] - 0s 4ms/step - loss: 4.9727 - mae: 4.9727\n",
      "Epoch 148/300\n",
      "1/1 [==============================] - 0s 4ms/step - loss: 4.8720 - mae: 4.8720\n",
      "Epoch 149/300\n",
      "1/1 [==============================] - 0s 4ms/step - loss: 4.7702 - mae: 4.7702\n",
      "Epoch 150/300\n",
      "1/1 [==============================] - 0s 4ms/step - loss: 4.6673 - mae: 4.6673\n",
      "Epoch 151/300\n",
      "1/1 [==============================] - 0s 3ms/step - loss: 4.5634 - mae: 4.5634\n",
      "Epoch 152/300\n",
      "1/1 [==============================] - 0s 4ms/step - loss: 4.4590 - mae: 4.4590\n",
      "Epoch 153/300\n",
      "1/1 [==============================] - 0s 3ms/step - loss: 4.3541 - mae: 4.3541\n",
      "Epoch 154/300\n",
      "1/1 [==============================] - 0s 4ms/step - loss: 4.2487 - mae: 4.2487\n",
      "Epoch 155/300\n",
      "1/1 [==============================] - 0s 4ms/step - loss: 4.1480 - mae: 4.1480\n",
      "Epoch 156/300\n",
      "1/1 [==============================] - 0s 4ms/step - loss: 4.1163 - mae: 4.1163\n",
      "Epoch 157/300\n",
      "1/1 [==============================] - 0s 3ms/step - loss: 4.0863 - mae: 4.0863\n",
      "Epoch 158/300\n",
      "1/1 [==============================] - 0s 3ms/step - loss: 4.0576 - mae: 4.0576\n",
      "Epoch 159/300\n",
      "1/1 [==============================] - 0s 4ms/step - loss: 4.0302 - mae: 4.0302\n",
      "Epoch 160/300\n",
      "1/1 [==============================] - 0s 4ms/step - loss: 4.0040 - mae: 4.0040\n",
      "Epoch 161/300\n",
      "1/1 [==============================] - 0s 9ms/step - loss: 3.9788 - mae: 3.9788\n",
      "Epoch 162/300\n",
      "1/1 [==============================] - 0s 6ms/step - loss: 3.9544 - mae: 3.9544\n",
      "Epoch 163/300\n",
      "1/1 [==============================] - 0s 4ms/step - loss: 3.9311 - mae: 3.9311\n",
      "Epoch 164/300\n",
      "1/1 [==============================] - 0s 4ms/step - loss: 3.9086 - mae: 3.9086\n",
      "Epoch 165/300\n",
      "1/1 [==============================] - 0s 4ms/step - loss: 3.8866 - mae: 3.8866\n",
      "Epoch 166/300\n",
      "1/1 [==============================] - 0s 3ms/step - loss: 3.8654 - mae: 3.8654\n",
      "Epoch 167/300\n",
      "1/1 [==============================] - 0s 4ms/step - loss: 3.8491 - mae: 3.8491\n",
      "Epoch 168/300\n",
      "1/1 [==============================] - 0s 4ms/step - loss: 3.8604 - mae: 3.8604\n",
      "Epoch 169/300\n",
      "1/1 [==============================] - 0s 3ms/step - loss: 3.8696 - mae: 3.8696\n",
      "Epoch 170/300\n",
      "1/1 [==============================] - 0s 3ms/step - loss: 3.8769 - mae: 3.8769\n",
      "Epoch 171/300\n",
      "1/1 [==============================] - 0s 3ms/step - loss: 3.8825 - mae: 3.8825\n",
      "Epoch 172/300\n",
      "1/1 [==============================] - 0s 4ms/step - loss: 3.8866 - mae: 3.8866\n",
      "Epoch 173/300\n",
      "1/1 [==============================] - 0s 3ms/step - loss: 3.8893 - mae: 3.8893\n",
      "Epoch 174/300\n"
     ]
    },
    {
     "name": "stdout",
     "output_type": "stream",
     "text": [
      "1/1 [==============================] - 0s 4ms/step - loss: 3.8907 - mae: 3.8907\n",
      "Epoch 175/300\n",
      "1/1 [==============================] - 0s 3ms/step - loss: 3.8911 - mae: 3.8911\n",
      "Epoch 176/300\n",
      "1/1 [==============================] - 0s 3ms/step - loss: 3.8906 - mae: 3.8906\n",
      "Epoch 177/300\n",
      "1/1 [==============================] - 0s 3ms/step - loss: 3.8891 - mae: 3.8891\n",
      "Epoch 178/300\n",
      "1/1 [==============================] - 0s 5ms/step - loss: 3.8866 - mae: 3.8866\n",
      "Epoch 179/300\n",
      "1/1 [==============================] - 0s 6ms/step - loss: 3.8835 - mae: 3.8835\n",
      "Epoch 180/300\n",
      "1/1 [==============================] - 0s 4ms/step - loss: 3.8796 - mae: 3.8796\n",
      "Epoch 181/300\n",
      "1/1 [==============================] - 0s 3ms/step - loss: 3.8751 - mae: 3.8751\n",
      "Epoch 182/300\n",
      "1/1 [==============================] - 0s 5ms/step - loss: 3.8702 - mae: 3.8702\n",
      "Epoch 183/300\n",
      "1/1 [==============================] - 0s 3ms/step - loss: 3.8647 - mae: 3.8647\n",
      "Epoch 184/300\n",
      "1/1 [==============================] - 0s 4ms/step - loss: 3.8588 - mae: 3.8588\n",
      "Epoch 185/300\n",
      "1/1 [==============================] - 0s 3ms/step - loss: 3.8524 - mae: 3.8524\n",
      "Epoch 186/300\n",
      "1/1 [==============================] - 0s 4ms/step - loss: 3.8457 - mae: 3.8457\n",
      "Epoch 187/300\n",
      "1/1 [==============================] - 0s 5ms/step - loss: 3.8387 - mae: 3.8387\n",
      "Epoch 188/300\n",
      "1/1 [==============================] - 0s 5ms/step - loss: 3.8313 - mae: 3.8313\n",
      "Epoch 189/300\n",
      "1/1 [==============================] - 0s 4ms/step - loss: 3.8238 - mae: 3.8238\n",
      "Epoch 190/300\n",
      "1/1 [==============================] - 0s 3ms/step - loss: 3.8160 - mae: 3.8160\n",
      "Epoch 191/300\n",
      "1/1 [==============================] - 0s 4ms/step - loss: 3.8186 - mae: 3.8186\n",
      "Epoch 192/300\n",
      "1/1 [==============================] - 0s 4ms/step - loss: 3.8234 - mae: 3.8234\n",
      "Epoch 193/300\n",
      "1/1 [==============================] - 0s 4ms/step - loss: 3.8260 - mae: 3.8260\n",
      "Epoch 194/300\n",
      "1/1 [==============================] - 0s 3ms/step - loss: 3.8269 - mae: 3.8269\n",
      "Epoch 195/300\n",
      "1/1 [==============================] - 0s 3ms/step - loss: 3.8262 - mae: 3.8262\n",
      "Epoch 196/300\n",
      "1/1 [==============================] - 0s 4ms/step - loss: 3.8240 - mae: 3.8240\n",
      "Epoch 197/300\n",
      "1/1 [==============================] - 0s 3ms/step - loss: 3.8204 - mae: 3.8204\n",
      "Epoch 198/300\n",
      "1/1 [==============================] - 0s 3ms/step - loss: 3.8156 - mae: 3.8156\n",
      "Epoch 199/300\n",
      "1/1 [==============================] - 0s 4ms/step - loss: 3.8096 - mae: 3.8096\n",
      "Epoch 200/300\n",
      "1/1 [==============================] - 0s 3ms/step - loss: 3.8028 - mae: 3.8028\n",
      "Epoch 201/300\n",
      "1/1 [==============================] - 0s 4ms/step - loss: 3.8001 - mae: 3.8001\n",
      "Epoch 202/300\n",
      "1/1 [==============================] - 0s 4ms/step - loss: 3.8020 - mae: 3.8020\n",
      "Epoch 203/300\n",
      "1/1 [==============================] - 0s 3ms/step - loss: 3.8029 - mae: 3.8029\n",
      "Epoch 204/300\n",
      "1/1 [==============================] - 0s 4ms/step - loss: 3.8026 - mae: 3.8026\n",
      "Epoch 205/300\n",
      "1/1 [==============================] - 0s 3ms/step - loss: 3.8014 - mae: 3.8014\n",
      "Epoch 206/300\n",
      "1/1 [==============================] - 0s 3ms/step - loss: 3.7993 - mae: 3.7993\n",
      "Epoch 207/300\n",
      "1/1 [==============================] - 0s 4ms/step - loss: 3.7964 - mae: 3.7964\n",
      "Epoch 208/300\n",
      "1/1 [==============================] - 0s 5ms/step - loss: 3.7928 - mae: 3.7928\n",
      "Epoch 209/300\n",
      "1/1 [==============================] - 0s 5ms/step - loss: 3.7885 - mae: 3.7885\n",
      "Epoch 210/300\n",
      "1/1 [==============================] - 0s 2ms/step - loss: 3.7849 - mae: 3.7849\n",
      "Epoch 211/300\n",
      "1/1 [==============================] - 0s 5ms/step - loss: 3.7881 - mae: 3.7881\n",
      "Epoch 212/300\n",
      "1/1 [==============================] - 0s 6ms/step - loss: 3.7877 - mae: 3.7877\n",
      "Epoch 213/300\n",
      "1/1 [==============================] - 0s 5ms/step - loss: 3.7842 - mae: 3.7842\n",
      "Epoch 214/300\n",
      "1/1 [==============================] - 0s 4ms/step - loss: 3.7813 - mae: 3.7813\n",
      "Epoch 215/300\n",
      "1/1 [==============================] - 0s 4ms/step - loss: 3.7834 - mae: 3.7834\n",
      "Epoch 216/300\n",
      "1/1 [==============================] - 0s 4ms/step - loss: 3.7844 - mae: 3.7844\n",
      "Epoch 217/300\n",
      "1/1 [==============================] - 0s 4ms/step - loss: 3.7843 - mae: 3.7843\n",
      "Epoch 218/300\n",
      "1/1 [==============================] - 0s 4ms/step - loss: 3.7831 - mae: 3.7831\n",
      "Epoch 219/300\n",
      "1/1 [==============================] - 0s 4ms/step - loss: 3.7810 - mae: 3.7810\n",
      "Epoch 220/300\n",
      "1/1 [==============================] - 0s 5ms/step - loss: 3.7781 - mae: 3.7781\n",
      "Epoch 221/300\n",
      "1/1 [==============================] - 0s 3ms/step - loss: 3.7759 - mae: 3.7759\n",
      "Epoch 222/300\n",
      "1/1 [==============================] - 0s 4ms/step - loss: 3.7762 - mae: 3.7762\n",
      "Epoch 223/300\n",
      "1/1 [==============================] - 0s 4ms/step - loss: 3.7748 - mae: 3.7748\n",
      "Epoch 224/300\n",
      "1/1 [==============================] - 0s 5ms/step - loss: 3.7727 - mae: 3.7727\n",
      "Epoch 225/300\n",
      "1/1 [==============================] - 0s 3ms/step - loss: 3.7726 - mae: 3.7726\n",
      "Epoch 226/300\n",
      "1/1 [==============================] - 0s 3ms/step - loss: 3.7731 - mae: 3.7731\n",
      "Epoch 227/300\n",
      "1/1 [==============================] - 0s 5ms/step - loss: 3.7725 - mae: 3.7725\n",
      "Epoch 228/300\n",
      "1/1 [==============================] - 0s 3ms/step - loss: 3.7709 - mae: 3.7709\n",
      "Epoch 229/300\n",
      "1/1 [==============================] - 0s 5ms/step - loss: 3.7684 - mae: 3.7684\n",
      "Epoch 230/300\n",
      "1/1 [==============================] - 0s 4ms/step - loss: 3.7682 - mae: 3.7682\n",
      "Epoch 231/300\n",
      "1/1 [==============================] - 0s 4ms/step - loss: 3.7672 - mae: 3.7672\n",
      "Epoch 232/300\n",
      "1/1 [==============================] - 0s 3ms/step - loss: 3.7658 - mae: 3.7658\n",
      "Epoch 233/300\n",
      "1/1 [==============================] - 0s 4ms/step - loss: 3.7647 - mae: 3.7647\n",
      "Epoch 234/300\n",
      "1/1 [==============================] - 0s 4ms/step - loss: 3.7645 - mae: 3.7645\n",
      "Epoch 235/300\n",
      "1/1 [==============================] - 0s 4ms/step - loss: 3.7632 - mae: 3.7632\n",
      "Epoch 236/300\n",
      "1/1 [==============================] - 0s 4ms/step - loss: 3.7611 - mae: 3.7611\n",
      "Epoch 237/300\n",
      "1/1 [==============================] - 0s 5ms/step - loss: 3.7600 - mae: 3.7600\n",
      "Epoch 238/300\n",
      "1/1 [==============================] - 0s 3ms/step - loss: 3.7600 - mae: 3.7600\n",
      "Epoch 239/300\n",
      "1/1 [==============================] - 0s 5ms/step - loss: 3.7584 - mae: 3.7584\n",
      "Epoch 240/300\n",
      "1/1 [==============================] - 0s 4ms/step - loss: 3.7590 - mae: 3.7590\n",
      "Epoch 241/300\n",
      "1/1 [==============================] - 0s 4ms/step - loss: 3.7588 - mae: 3.7588\n",
      "Epoch 242/300\n",
      "1/1 [==============================] - 0s 3ms/step - loss: 3.7576 - mae: 3.7576\n",
      "Epoch 243/300\n",
      "1/1 [==============================] - 0s 4ms/step - loss: 3.7555 - mae: 3.7555\n",
      "Epoch 244/300\n",
      "1/1 [==============================] - 0s 5ms/step - loss: 3.7553 - mae: 3.7553\n",
      "Epoch 245/300\n",
      "1/1 [==============================] - 0s 4ms/step - loss: 3.7549 - mae: 3.7549\n",
      "Epoch 246/300\n",
      "1/1 [==============================] - 0s 4ms/step - loss: 3.7537 - mae: 3.7537\n",
      "Epoch 247/300\n",
      "1/1 [==============================] - 0s 6ms/step - loss: 3.7515 - mae: 3.7515\n",
      "Epoch 248/300\n",
      "1/1 [==============================] - 0s 6ms/step - loss: 3.7516 - mae: 3.7516\n",
      "Epoch 249/300\n",
      "1/1 [==============================] - 0s 3ms/step - loss: 3.7506 - mae: 3.7506\n",
      "Epoch 250/300\n",
      "1/1 [==============================] - 0s 4ms/step - loss: 3.7487 - mae: 3.7487\n",
      "Epoch 251/300\n",
      "1/1 [==============================] - 0s 5ms/step - loss: 3.7490 - mae: 3.7490\n",
      "Epoch 252/300\n",
      "1/1 [==============================] - 0s 7ms/step - loss: 3.7485 - mae: 3.7485\n",
      "Epoch 253/300\n",
      "1/1 [==============================] - 0s 5ms/step - loss: 3.7463 - mae: 3.7463\n",
      "Epoch 254/300\n",
      "1/1 [==============================] - 0s 6ms/step - loss: 3.7464 - mae: 3.7464\n",
      "Epoch 255/300\n",
      "1/1 [==============================] - 0s 6ms/step - loss: 3.7449 - mae: 3.7449\n",
      "Epoch 256/300\n",
      "1/1 [==============================] - 0s 5ms/step - loss: 3.7441 - mae: 3.7441\n",
      "Epoch 257/300\n",
      "1/1 [==============================] - 0s 5ms/step - loss: 3.7423 - mae: 3.7423\n",
      "Epoch 258/300\n",
      "1/1 [==============================] - 0s 4ms/step - loss: 3.7418 - mae: 3.7418\n",
      "Epoch 259/300\n",
      "1/1 [==============================] - 0s 6ms/step - loss: 3.7413 - mae: 3.7413\n",
      "Epoch 260/300\n",
      "1/1 [==============================] - 0s 7ms/step - loss: 3.7390 - mae: 3.7390\n",
      "Epoch 261/300\n"
     ]
    },
    {
     "name": "stdout",
     "output_type": "stream",
     "text": [
      "1/1 [==============================] - 0s 4ms/step - loss: 3.7395 - mae: 3.7395\n",
      "Epoch 262/300\n",
      "1/1 [==============================] - 0s 7ms/step - loss: 3.7392 - mae: 3.7392\n",
      "Epoch 263/300\n",
      "1/1 [==============================] - 0s 6ms/step - loss: 3.7385 - mae: 3.7385\n",
      "Epoch 264/300\n",
      "1/1 [==============================] - 0s 4ms/step - loss: 3.7368 - mae: 3.7368\n",
      "Epoch 265/300\n",
      "1/1 [==============================] - 0s 6ms/step - loss: 3.7344 - mae: 3.7344\n",
      "Epoch 266/300\n",
      "1/1 [==============================] - 0s 5ms/step - loss: 3.7338 - mae: 3.7338\n",
      "Epoch 267/300\n",
      "1/1 [==============================] - 0s 5ms/step - loss: 3.7327 - mae: 3.7327\n",
      "Epoch 268/300\n",
      "1/1 [==============================] - 0s 8ms/step - loss: 3.7314 - mae: 3.7314\n",
      "Epoch 269/300\n",
      "1/1 [==============================] - 0s 5ms/step - loss: 3.7306 - mae: 3.7306\n",
      "Epoch 270/300\n",
      "1/1 [==============================] - 0s 6ms/step - loss: 3.7293 - mae: 3.7293\n",
      "Epoch 271/300\n",
      "1/1 [==============================] - 0s 4ms/step - loss: 3.7299 - mae: 3.7299\n",
      "Epoch 272/300\n",
      "1/1 [==============================] - 0s 6ms/step - loss: 3.7296 - mae: 3.7296\n",
      "Epoch 273/300\n",
      "1/1 [==============================] - 0s 7ms/step - loss: 3.7282 - mae: 3.7282\n",
      "Epoch 274/300\n",
      "1/1 [==============================] - 0s 6ms/step - loss: 3.7259 - mae: 3.7259\n",
      "Epoch 275/300\n",
      "1/1 [==============================] - 0s 5ms/step - loss: 3.7268 - mae: 3.7268\n",
      "Epoch 276/300\n",
      "1/1 [==============================] - 0s 5ms/step - loss: 3.7265 - mae: 3.7265\n",
      "Epoch 277/300\n",
      "1/1 [==============================] - 0s 4ms/step - loss: 3.7252 - mae: 3.7252\n",
      "Epoch 278/300\n",
      "1/1 [==============================] - 0s 4ms/step - loss: 3.7215 - mae: 3.7215\n",
      "Epoch 279/300\n",
      "1/1 [==============================] - 0s 4ms/step - loss: 3.7215 - mae: 3.7215\n",
      "Epoch 280/300\n",
      "1/1 [==============================] - 0s 4ms/step - loss: 3.7205 - mae: 3.7205\n",
      "Epoch 281/300\n",
      "1/1 [==============================] - 0s 6ms/step - loss: 3.7190 - mae: 3.7190\n",
      "Epoch 282/300\n",
      "1/1 [==============================] - 0s 3ms/step - loss: 3.7176 - mae: 3.7176\n",
      "Epoch 283/300\n",
      "1/1 [==============================] - 0s 5ms/step - loss: 3.7173 - mae: 3.7173\n",
      "Epoch 284/300\n",
      "1/1 [==============================] - 0s 4ms/step - loss: 3.7152 - mae: 3.7152\n",
      "Epoch 285/300\n",
      "1/1 [==============================] - 0s 5ms/step - loss: 3.7172 - mae: 3.7172\n",
      "Epoch 286/300\n",
      "1/1 [==============================] - 0s 5ms/step - loss: 3.7157 - mae: 3.7157\n",
      "Epoch 287/300\n",
      "1/1 [==============================] - 0s 4ms/step - loss: 3.7146 - mae: 3.7146\n",
      "Epoch 288/300\n",
      "1/1 [==============================] - 0s 4ms/step - loss: 3.7125 - mae: 3.7125\n",
      "Epoch 289/300\n",
      "1/1 [==============================] - 0s 4ms/step - loss: 3.7108 - mae: 3.7108\n",
      "Epoch 290/300\n",
      "1/1 [==============================] - 0s 5ms/step - loss: 3.7102 - mae: 3.7102\n",
      "Epoch 291/300\n",
      "1/1 [==============================] - 0s 4ms/step - loss: 3.7077 - mae: 3.7077\n",
      "Epoch 292/300\n",
      "1/1 [==============================] - 0s 5ms/step - loss: 3.7080 - mae: 3.7080\n",
      "Epoch 293/300\n",
      "1/1 [==============================] - 0s 4ms/step - loss: 3.7079 - mae: 3.7079\n",
      "Epoch 294/300\n",
      "1/1 [==============================] - 0s 4ms/step - loss: 3.7073 - mae: 3.7073\n",
      "Epoch 295/300\n",
      "1/1 [==============================] - 0s 4ms/step - loss: 3.7055 - mae: 3.7055\n",
      "Epoch 296/300\n",
      "1/1 [==============================] - 0s 4ms/step - loss: 3.7027 - mae: 3.7027\n",
      "Epoch 297/300\n",
      "1/1 [==============================] - 0s 4ms/step - loss: 3.7032 - mae: 3.7032\n",
      "Epoch 298/300\n",
      "1/1 [==============================] - 0s 5ms/step - loss: 3.7034 - mae: 3.7034\n",
      "Epoch 299/300\n",
      "1/1 [==============================] - 0s 3ms/step - loss: 3.7014 - mae: 3.7014\n",
      "Epoch 300/300\n",
      "1/1 [==============================] - 0s 3ms/step - loss: 3.6977 - mae: 3.6977\n"
     ]
    },
    {
     "data": {
      "text/plain": [
       "<keras.callbacks.History at 0x1bb1a8f9790>"
      ]
     },
     "execution_count": 18,
     "metadata": {},
     "output_type": "execute_result"
    }
   ],
   "source": [
    "# 2nd experiment : buil a larger model, as an improvement to the model\n",
    "\n",
    "# Set a random seed (in order to have some reproducibility)\n",
    "tf.random.set_seed(42)\n",
    "\n",
    "# 1. Create a model using the Sequential API\n",
    "model = tf.keras.Sequential([\n",
    "    \n",
    "    # Adding more hidden layers, more neurons, and activation function \n",
    "    tf.keras.layers.Dense(100, activation=\"relu\"),\n",
    "    tf.keras.layers.Dense(100, activation=\"relu\"),\n",
    "    tf.keras.layers.Dense(100, activation=\"relu\"),\n",
    "    \n",
    "    tf.keras.layers.Dense(1)\n",
    "])\n",
    "\n",
    "# 2. Compile the model\n",
    "model.compile(loss=tf.keras.losses.mae, # MAE : Mean Absolute Error\n",
    "              optimizer=tf.keras.optimizers.Adam(lr=0.0001), # lr = Learning Rate\n",
    "              metrics=[\"mae\"]\n",
    "             )\n",
    "\n",
    "# 3. Fit the model \n",
    "model.fit(tf.expand_dims(X, axis=-1),y, epochs=300) # Increasing the number of epochs\n"
   ]
  },
  {
   "cell_type": "markdown",
   "id": "673624a9",
   "metadata": {},
   "source": [
    "The 2nd model, although more larger, don't provide a better training result compared to the previously built one."
   ]
  },
  {
   "cell_type": "code",
   "execution_count": 19,
   "id": "533e0fa1",
   "metadata": {},
   "outputs": [
    {
     "data": {
      "text/plain": [
       "(<tf.Tensor: shape=(8,), dtype=float64, numpy=array([-7., -4., -1.,  2.,  5.,  8., 11., 14.])>,\n",
       " <tf.Tensor: shape=(8,), dtype=float64, numpy=array([ 3.,  6.,  9., 12., 15., 18., 21., 24.])>)"
      ]
     },
     "execution_count": 19,
     "metadata": {},
     "output_type": "execute_result"
    }
   ],
   "source": [
    "# Remind ourselves of the data\n",
    "X, y"
   ]
  },
  {
   "cell_type": "code",
   "execution_count": 20,
   "id": "9e130a20",
   "metadata": {},
   "outputs": [
    {
     "name": "stdout",
     "output_type": "stream",
     "text": [
      "1/1 [==============================] - 0s 124ms/step\n"
     ]
    },
    {
     "data": {
      "text/plain": [
       "array([[32.037937]], dtype=float32)"
      ]
     },
     "execution_count": 20,
     "metadata": {},
     "output_type": "execute_result"
    }
   ],
   "source": [
    "# Check if the model's prediction has improved...\n",
    "model.predict([17.])"
   ]
  },
  {
   "cell_type": "code",
   "execution_count": null,
   "id": "883941b4",
   "metadata": {},
   "outputs": [],
   "source": []
  },
  {
   "cell_type": "code",
   "execution_count": 21,
   "id": "0cc87495",
   "metadata": {},
   "outputs": [
    {
     "name": "stdout",
     "output_type": "stream",
     "text": [
      "Epoch 1/100\n",
      "1/1 [==============================] - 0s 466ms/step - loss: 12.3674 - mae: 12.3674\n",
      "Epoch 2/100\n",
      "1/1 [==============================] - 0s 3ms/step - loss: 11.4013 - mae: 11.4013\n",
      "Epoch 3/100\n",
      "1/1 [==============================] - 0s 3ms/step - loss: 10.5622 - mae: 10.5622\n",
      "Epoch 4/100\n",
      "1/1 [==============================] - 0s 3ms/step - loss: 9.7813 - mae: 9.7813\n",
      "Epoch 5/100\n",
      "1/1 [==============================] - 0s 3ms/step - loss: 8.9794 - mae: 8.9794\n",
      "Epoch 6/100\n",
      "1/1 [==============================] - 0s 3ms/step - loss: 8.1558 - mae: 8.1558\n",
      "Epoch 7/100\n",
      "1/1 [==============================] - 0s 5ms/step - loss: 7.3142 - mae: 7.3142\n",
      "Epoch 8/100\n",
      "1/1 [==============================] - 0s 3ms/step - loss: 6.4569 - mae: 6.4569\n",
      "Epoch 9/100\n",
      "1/1 [==============================] - 0s 3ms/step - loss: 5.5649 - mae: 5.5649\n",
      "Epoch 10/100\n",
      "1/1 [==============================] - 0s 3ms/step - loss: 4.6373 - mae: 4.6373\n",
      "Epoch 11/100\n",
      "1/1 [==============================] - 0s 4ms/step - loss: 3.9426 - mae: 3.9426\n",
      "Epoch 12/100\n",
      "1/1 [==============================] - 0s 4ms/step - loss: 3.8523 - mae: 3.8523\n",
      "Epoch 13/100\n",
      "1/1 [==============================] - 0s 3ms/step - loss: 4.0153 - mae: 4.0153\n",
      "Epoch 14/100\n",
      "1/1 [==============================] - 0s 3ms/step - loss: 4.3065 - mae: 4.3065\n",
      "Epoch 15/100\n",
      "1/1 [==============================] - 0s 9ms/step - loss: 4.5847 - mae: 4.5847\n",
      "Epoch 16/100\n",
      "1/1 [==============================] - 0s 3ms/step - loss: 4.7401 - mae: 4.7401\n",
      "Epoch 17/100\n",
      "1/1 [==============================] - 0s 3ms/step - loss: 4.7893 - mae: 4.7893\n",
      "Epoch 18/100\n",
      "1/1 [==============================] - 0s 4ms/step - loss: 4.7471 - mae: 4.7471\n",
      "Epoch 19/100\n",
      "1/1 [==============================] - 0s 3ms/step - loss: 4.6297 - mae: 4.6297\n",
      "Epoch 20/100\n",
      "1/1 [==============================] - 0s 8ms/step - loss: 4.4492 - mae: 4.4492\n",
      "Epoch 21/100\n",
      "1/1 [==============================] - 0s 3ms/step - loss: 4.2158 - mae: 4.2158\n",
      "Epoch 22/100\n",
      "1/1 [==============================] - 0s 3ms/step - loss: 3.9429 - mae: 3.9429\n",
      "Epoch 23/100\n",
      "1/1 [==============================] - 0s 3ms/step - loss: 3.7423 - mae: 3.7423\n",
      "Epoch 24/100\n",
      "1/1 [==============================] - 0s 3ms/step - loss: 3.6152 - mae: 3.6152\n",
      "Epoch 25/100\n",
      "1/1 [==============================] - 0s 0s/step - loss: 3.5504 - mae: 3.5504\n",
      "Epoch 26/100\n",
      "1/1 [==============================] - 0s 13ms/step - loss: 3.4576 - mae: 3.4576\n",
      "Epoch 27/100\n",
      "1/1 [==============================] - 0s 3ms/step - loss: 3.4808 - mae: 3.4808\n",
      "Epoch 28/100\n",
      "1/1 [==============================] - 0s 4ms/step - loss: 3.5175 - mae: 3.5175\n",
      "Epoch 29/100\n",
      "1/1 [==============================] - 0s 4ms/step - loss: 3.5274 - mae: 3.5274\n",
      "Epoch 30/100\n",
      "1/1 [==============================] - 0s 4ms/step - loss: 3.5095 - mae: 3.5095\n",
      "Epoch 31/100\n",
      "1/1 [==============================] - 0s 3ms/step - loss: 3.4658 - mae: 3.4658\n",
      "Epoch 32/100\n",
      "1/1 [==============================] - 0s 4ms/step - loss: 3.3987 - mae: 3.3987\n",
      "Epoch 33/100\n",
      "1/1 [==============================] - 0s 2ms/step - loss: 3.3078 - mae: 3.3078\n",
      "Epoch 34/100\n",
      "1/1 [==============================] - 0s 0s/step - loss: 3.1946 - mae: 3.1946\n",
      "Epoch 35/100\n",
      "1/1 [==============================] - 0s 3ms/step - loss: 3.0579 - mae: 3.0579\n",
      "Epoch 36/100\n",
      "1/1 [==============================] - 0s 3ms/step - loss: 3.0654 - mae: 3.0654\n",
      "Epoch 37/100\n",
      "1/1 [==============================] - 0s 3ms/step - loss: 3.0378 - mae: 3.0378\n",
      "Epoch 38/100\n",
      "1/1 [==============================] - 0s 5ms/step - loss: 3.0074 - mae: 3.0074\n",
      "Epoch 39/100\n",
      "1/1 [==============================] - 0s 3ms/step - loss: 2.9746 - mae: 2.9746\n",
      "Epoch 40/100\n",
      "1/1 [==============================] - 0s 4ms/step - loss: 2.9206 - mae: 2.9206\n",
      "Epoch 41/100\n",
      "1/1 [==============================] - 0s 4ms/step - loss: 2.8507 - mae: 2.8507\n",
      "Epoch 42/100\n",
      "1/1 [==============================] - 0s 6ms/step - loss: 2.7738 - mae: 2.7738\n",
      "Epoch 43/100\n",
      "1/1 [==============================] - 0s 4ms/step - loss: 2.6896 - mae: 2.6896\n",
      "Epoch 44/100\n",
      "1/1 [==============================] - 0s 4ms/step - loss: 2.5934 - mae: 2.5934\n",
      "Epoch 45/100\n",
      "1/1 [==============================] - 0s 4ms/step - loss: 2.4868 - mae: 2.4868\n",
      "Epoch 46/100\n",
      "1/1 [==============================] - 0s 2ms/step - loss: 2.3690 - mae: 2.3690\n",
      "Epoch 47/100\n",
      "1/1 [==============================] - 0s 4ms/step - loss: 2.2694 - mae: 2.2694\n",
      "Epoch 48/100\n",
      "1/1 [==============================] - 0s 3ms/step - loss: 2.1976 - mae: 2.1976\n",
      "Epoch 49/100\n",
      "1/1 [==============================] - 0s 3ms/step - loss: 2.0761 - mae: 2.0761\n",
      "Epoch 50/100\n",
      "1/1 [==============================] - 0s 4ms/step - loss: 1.9198 - mae: 1.9198\n",
      "Epoch 51/100\n",
      "1/1 [==============================] - 0s 3ms/step - loss: 1.8069 - mae: 1.8069\n",
      "Epoch 52/100\n",
      "1/1 [==============================] - 0s 2ms/step - loss: 1.6761 - mae: 1.6761\n",
      "Epoch 53/100\n",
      "1/1 [==============================] - 0s 9ms/step - loss: 1.5295 - mae: 1.5295\n",
      "Epoch 54/100\n",
      "1/1 [==============================] - 0s 3ms/step - loss: 1.3747 - mae: 1.3747\n",
      "Epoch 55/100\n",
      "1/1 [==============================] - 0s 3ms/step - loss: 1.2148 - mae: 1.2148\n",
      "Epoch 56/100\n",
      "1/1 [==============================] - 0s 3ms/step - loss: 1.0381 - mae: 1.0381\n",
      "Epoch 57/100\n",
      "1/1 [==============================] - 0s 3ms/step - loss: 0.9281 - mae: 0.9281\n",
      "Epoch 58/100\n",
      "1/1 [==============================] - 0s 3ms/step - loss: 0.7391 - mae: 0.7391\n",
      "Epoch 59/100\n",
      "1/1 [==============================] - 0s 3ms/step - loss: 0.5790 - mae: 0.5790\n",
      "Epoch 60/100\n",
      "1/1 [==============================] - 0s 5ms/step - loss: 0.4058 - mae: 0.4058\n",
      "Epoch 61/100\n",
      "1/1 [==============================] - 0s 4ms/step - loss: 0.2111 - mae: 0.2111\n",
      "Epoch 62/100\n",
      "1/1 [==============================] - 0s 4ms/step - loss: 0.2059 - mae: 0.2059\n",
      "Epoch 63/100\n",
      "1/1 [==============================] - 0s 5ms/step - loss: 0.3912 - mae: 0.3912\n",
      "Epoch 64/100\n",
      "1/1 [==============================] - 0s 4ms/step - loss: 0.3256 - mae: 0.3256\n",
      "Epoch 65/100\n",
      "1/1 [==============================] - 0s 4ms/step - loss: 0.3666 - mae: 0.3666\n",
      "Epoch 66/100\n",
      "1/1 [==============================] - 0s 3ms/step - loss: 0.5155 - mae: 0.5155\n",
      "Epoch 67/100\n",
      "1/1 [==============================] - 0s 3ms/step - loss: 0.4291 - mae: 0.4291\n",
      "Epoch 68/100\n",
      "1/1 [==============================] - 0s 5ms/step - loss: 0.4909 - mae: 0.4909\n",
      "Epoch 69/100\n",
      "1/1 [==============================] - 0s 5ms/step - loss: 0.3978 - mae: 0.3978\n",
      "Epoch 70/100\n",
      "1/1 [==============================] - 0s 3ms/step - loss: 0.4722 - mae: 0.4722\n",
      "Epoch 71/100\n",
      "1/1 [==============================] - 0s 4ms/step - loss: 0.4596 - mae: 0.4596\n",
      "Epoch 72/100\n",
      "1/1 [==============================] - 0s 2ms/step - loss: 0.5025 - mae: 0.5025\n",
      "Epoch 73/100\n",
      "1/1 [==============================] - 0s 3ms/step - loss: 0.3497 - mae: 0.3497\n",
      "Epoch 74/100\n",
      "1/1 [==============================] - 0s 3ms/step - loss: 0.3018 - mae: 0.3018\n",
      "Epoch 75/100\n",
      "1/1 [==============================] - 0s 3ms/step - loss: 0.2299 - mae: 0.2299\n",
      "Epoch 76/100\n",
      "1/1 [==============================] - 0s 3ms/step - loss: 0.3827 - mae: 0.3827\n",
      "Epoch 77/100\n",
      "1/1 [==============================] - 0s 4ms/step - loss: 0.3665 - mae: 0.3665\n",
      "Epoch 78/100\n",
      "1/1 [==============================] - 0s 4ms/step - loss: 0.1957 - mae: 0.1957\n",
      "Epoch 79/100\n",
      "1/1 [==============================] - 0s 4ms/step - loss: 0.5612 - mae: 0.5612\n",
      "Epoch 80/100\n",
      "1/1 [==============================] - 0s 3ms/step - loss: 0.6291 - mae: 0.6291\n",
      "Epoch 81/100\n",
      "1/1 [==============================] - 0s 3ms/step - loss: 0.3718 - mae: 0.3718\n",
      "Epoch 82/100\n",
      "1/1 [==============================] - 0s 4ms/step - loss: 0.3108 - mae: 0.3108\n",
      "Epoch 83/100\n",
      "1/1 [==============================] - 0s 3ms/step - loss: 0.4384 - mae: 0.4384\n",
      "Epoch 84/100\n",
      "1/1 [==============================] - 0s 3ms/step - loss: 0.3159 - mae: 0.3159\n",
      "Epoch 85/100\n",
      "1/1 [==============================] - 0s 3ms/step - loss: 0.4141 - mae: 0.4141\n",
      "Epoch 86/100\n",
      "1/1 [==============================] - 0s 3ms/step - loss: 0.5498 - mae: 0.5498\n",
      "Epoch 87/100\n",
      "1/1 [==============================] - 0s 3ms/step - loss: 0.4471 - mae: 0.4471\n",
      "Epoch 88/100\n",
      "1/1 [==============================] - 0s 3ms/step - loss: 0.2777 - mae: 0.2777\n",
      "Epoch 89/100\n"
     ]
    },
    {
     "name": "stdout",
     "output_type": "stream",
     "text": [
      "1/1 [==============================] - 0s 6ms/step - loss: 0.4057 - mae: 0.4057\n",
      "Epoch 90/100\n",
      "1/1 [==============================] - 0s 3ms/step - loss: 0.4707 - mae: 0.4707\n",
      "Epoch 91/100\n",
      "1/1 [==============================] - 0s 3ms/step - loss: 0.2772 - mae: 0.2772\n",
      "Epoch 92/100\n",
      "1/1 [==============================] - 0s 3ms/step - loss: 0.3142 - mae: 0.3142\n",
      "Epoch 93/100\n",
      "1/1 [==============================] - 0s 2ms/step - loss: 0.4248 - mae: 0.4248\n",
      "Epoch 94/100\n",
      "1/1 [==============================] - 0s 0s/step - loss: 0.3034 - mae: 0.3034\n",
      "Epoch 95/100\n",
      "1/1 [==============================] - 0s 15ms/step - loss: 0.1425 - mae: 0.1425\n",
      "Epoch 96/100\n",
      "1/1 [==============================] - 0s 4ms/step - loss: 0.2116 - mae: 0.2116\n",
      "Epoch 97/100\n",
      "1/1 [==============================] - 0s 0s/step - loss: 0.1185 - mae: 0.1185\n",
      "Epoch 98/100\n",
      "1/1 [==============================] - 0s 11ms/step - loss: 0.1729 - mae: 0.1729\n",
      "Epoch 99/100\n",
      "1/1 [==============================] - 0s 4ms/step - loss: 0.1003 - mae: 0.1003\n",
      "Epoch 100/100\n",
      "1/1 [==============================] - 0s 0s/step - loss: 0.1199 - mae: 0.1199\n"
     ]
    },
    {
     "data": {
      "text/plain": [
       "<keras.callbacks.History at 0x1bb1b9e5370>"
      ]
     },
     "execution_count": 21,
     "metadata": {},
     "output_type": "execute_result"
    }
   ],
   "source": [
    "# 3rd experiment : add a hidden layer, more epochs, and review the learning rate, as an improvement to the model\n",
    "\n",
    "# Set a random seed (in order to have some reproducibility)\n",
    "tf.random.set_seed(42)\n",
    "\n",
    "# 1. Create a model using the Sequential API\n",
    "model = tf.keras.Sequential([\n",
    "    \n",
    "    # Adding more hidden layers, more neurons, and activation function \n",
    "    tf.keras.layers.Dense(100, activation=\"relu\"),\n",
    "    \n",
    "    tf.keras.layers.Dense(1)\n",
    "])\n",
    "\n",
    "# 2. Compile the model\n",
    "model.compile(loss=tf.keras.losses.mae, # MAE : Mean Absolute Error\n",
    "              optimizer=tf.keras.optimizers.Adam(lr=0.01),\n",
    "              metrics=[\"mae\"]\n",
    "             )\n",
    "\n",
    "# 3. Fit the model \n",
    "model.fit(tf.expand_dims(X, axis=-1),y, epochs=100) # Increasing the number of epochs\n"
   ]
  },
  {
   "cell_type": "markdown",
   "id": "94b6ecb8",
   "metadata": {},
   "source": [
    "The loss is 0.1750; this model should perform really well."
   ]
  },
  {
   "cell_type": "code",
   "execution_count": 22,
   "id": "57f0d41b",
   "metadata": {},
   "outputs": [
    {
     "data": {
      "text/plain": [
       "(<tf.Tensor: shape=(8,), dtype=float64, numpy=array([-7., -4., -1.,  2.,  5.,  8., 11., 14.])>,\n",
       " <tf.Tensor: shape=(8,), dtype=float64, numpy=array([ 3.,  6.,  9., 12., 15., 18., 21., 24.])>)"
      ]
     },
     "execution_count": 22,
     "metadata": {},
     "output_type": "execute_result"
    }
   ],
   "source": [
    "# Remind ourselves of the data\n",
    "X, y"
   ]
  },
  {
   "cell_type": "code",
   "execution_count": 23,
   "id": "c898e1c6",
   "metadata": {},
   "outputs": [
    {
     "name": "stdout",
     "output_type": "stream",
     "text": [
      "1/1 [==============================] - 0s 113ms/step\n"
     ]
    },
    {
     "data": {
      "text/plain": [
       "array([[27.045288]], dtype=float32)"
      ]
     },
     "execution_count": 23,
     "metadata": {},
     "output_type": "execute_result"
    }
   ],
   "source": [
    "# Check if the model's prediction has improved...\n",
    "model.predict([17.])"
   ]
  },
  {
   "cell_type": "markdown",
   "id": "a39358dc",
   "metadata": {},
   "source": [
    "The model has predicted 26.918, while the real value is 27. We can conclude that the prediction is pretty well.  \n",
    "**Observation** : adjusting the learning rate of our model has result in the best improvement so far."
   ]
  },
  {
   "cell_type": "code",
   "execution_count": null,
   "id": "b2408c94",
   "metadata": {},
   "outputs": [],
   "source": []
  },
  {
   "cell_type": "markdown",
   "id": "93827ad7",
   "metadata": {},
   "source": [
    "**Model improvement rules** - When improving a model :\n",
    "* **make many small changes** (experiments) and **test each one**, rather than always doing extremely large changes, because otherwise, if one does too big of a change, he might not be sure what caused the improvement or know improvement of the model.\n",
    "* **the learning rate is potentially the most important hyper-parameter that can be changed** on a neural networks in order to improve it"
   ]
  },
  {
   "cell_type": "code",
   "execution_count": null,
   "id": "fe87eb6f",
   "metadata": {},
   "outputs": [],
   "source": []
  },
  {
   "cell_type": "code",
   "execution_count": null,
   "id": "e2c5c066",
   "metadata": {},
   "outputs": [],
   "source": []
  },
  {
   "cell_type": "markdown",
   "id": "a2f52266",
   "metadata": {},
   "source": [
    "## Evaluating a model\n",
    "\n",
    "\n",
    "In practice, a typical workflow one goes through when buidling neural networks is :    \n",
    "``` Build a model -> fit it -> evaluate it -> tweak a model -> fit it evaluate it -> tweak a model -> fit it -> evaluate it -> ... ```\n",
    "\n"
   ]
  },
  {
   "cell_type": "markdown",
   "id": "5be2462e",
   "metadata": {},
   "source": [
    "When it comes to evaluation, there is one words one should memorize, and remember : **visualize**.\n",
    "\n",
    "It's a good idea to visualize : \n",
    "* `The data` - what data are we working with ? What does it look like ?\n",
    "* `The model` itself - what does our model look like ?\n",
    "* `The training` of the model - how does the model perform while it learns ?\n",
    "* `The predictions` of the model - how do the predictions of the model line up agains the real values ?\n",
    "\n",
    "\n",
    "Let us dig into these steps here a bit further by working on a little bit of a larger problem."
   ]
  },
  {
   "cell_type": "code",
   "execution_count": 24,
   "id": "2e38f664",
   "metadata": {},
   "outputs": [
    {
     "data": {
      "text/plain": [
       "<tf.Tensor: shape=(50,), dtype=int32, numpy=\n",
       "array([-100,  -96,  -92,  -88,  -84,  -80,  -76,  -72,  -68,  -64,  -60,\n",
       "        -56,  -52,  -48,  -44,  -40,  -36,  -32,  -28,  -24,  -20,  -16,\n",
       "        -12,   -8,   -4,    0,    4,    8,   12,   16,   20,   24,   28,\n",
       "         32,   36,   40,   44,   48,   52,   56,   60,   64,   68,   72,\n",
       "         76,   80,   84,   88,   92,   96])>"
      ]
     },
     "execution_count": 24,
     "metadata": {},
     "output_type": "execute_result"
    }
   ],
   "source": [
    "# Make a bigger dataset\n",
    "X = tf.range(-100, 100, 4)\n",
    "X"
   ]
  },
  {
   "cell_type": "code",
   "execution_count": 25,
   "id": "fe6189cb",
   "metadata": {},
   "outputs": [
    {
     "data": {
      "text/plain": [
       "<tf.Tensor: shape=(50,), dtype=int32, numpy=\n",
       "array([-90, -86, -82, -78, -74, -70, -66, -62, -58, -54, -50, -46, -42,\n",
       "       -38, -34, -30, -26, -22, -18, -14, -10,  -6,  -2,   2,   6,  10,\n",
       "        14,  18,  22,  26,  30,  34,  38,  42,  46,  50,  54,  58,  62,\n",
       "        66,  70,  74,  78,  82,  86,  90,  94,  98, 102, 106])>"
      ]
     },
     "execution_count": 25,
     "metadata": {},
     "output_type": "execute_result"
    }
   ],
   "source": [
    "# Make labels for the dataset\n",
    "\n",
    "y = X + 10   # y = X + 10 is the formula(pattern) we want the model to learn\n",
    "y"
   ]
  },
  {
   "cell_type": "code",
   "execution_count": 26,
   "id": "49a40371",
   "metadata": {},
   "outputs": [
    {
     "data": {
      "text/plain": [
       "<matplotlib.collections.PathCollection at 0x1bb1bad1eb0>"
      ]
     },
     "execution_count": 26,
     "metadata": {},
     "output_type": "execute_result"
    },
    {
     "data": {
      "image/png": "[encoded data removed]",
      "text/plain": [
       "<Figure size 432x288 with 1 Axes>"
      ]
     },
     "metadata": {
      "needs_background": "light"
     },
     "output_type": "display_data"
    }
   ],
   "source": [
    "# Visualize the data\n",
    "\n",
    "plt.scatter(X, y)"
   ]
  },
  {
   "cell_type": "code",
   "execution_count": null,
   "id": "56654807",
   "metadata": {},
   "outputs": [],
   "source": []
  },
  {
   "cell_type": "markdown",
   "id": "0dc0cfa7",
   "metadata": {},
   "source": [
    "### The 03 set of data\n",
    "\n",
    "* **Training set** - the model learns from this data, which is typically 70-80% of the total data available.\n",
    "* **Validation set** - the model gets tuned on this data (it is the above mentionned *tweak the model*), which is typically 10-15% of the total data available.\n",
    "* **Test set** - the model gets evaluated on this data to test what is has learned (to check how it performs on data is hasn't see before); this set is typically 10-15% of the available data."
   ]
  },
  {
   "cell_type": "code",
   "execution_count": 27,
   "id": "e1f8ed25",
   "metadata": {},
   "outputs": [
    {
     "data": {
      "text/plain": [
       "50"
      ]
     },
     "execution_count": 27,
     "metadata": {},
     "output_type": "execute_result"
    }
   ],
   "source": [
    "# Check how many samples we have\n",
    "nb_data = len(X)\n",
    "nb_data"
   ]
  },
  {
   "cell_type": "code",
   "execution_count": 28,
   "id": "9dc7d4f2",
   "metadata": {},
   "outputs": [
    {
     "data": {
      "text/plain": [
       "(40, 10, 40, 10)"
      ]
     },
     "execution_count": 28,
     "metadata": {},
     "output_type": "execute_result"
    }
   ],
   "source": [
    "# Split the data into train and test sets\n",
    "\n",
    "X_train = X[: int(nb_data*.8)] # 80% of the data\n",
    "y_train = y[: int(nb_data*.8)] # 80% of the data\n",
    "\n",
    "X_test = X[int(nb_data*.8):] # 20% of the data\n",
    "y_test = y[int(nb_data*.8):] # 20% of the data\n",
    "\n",
    "\n",
    "len(X_train), len(X_test), len(y_train), len(y_test)"
   ]
  },
  {
   "cell_type": "markdown",
   "id": "e9603622",
   "metadata": {},
   "source": [
    "### Visualizing the data\n",
    "\n",
    "Now that data was divided in training and testing sets, let's visualize it again."
   ]
  },
  {
   "cell_type": "code",
   "execution_count": 29,
   "id": "a805227d",
   "metadata": {},
   "outputs": [
    {
     "data": {
      "image/png": "[encoded data removed]",
      "text/plain": [
       "<Figure size 720x504 with 1 Axes>"
      ]
     },
     "metadata": {
      "needs_background": "light"
     },
     "output_type": "display_data"
    }
   ],
   "source": [
    "plt.figure( figsize=(10,7) )\n",
    "\n",
    "# Plot training data in blue\n",
    "plt.scatter(X_train, y_train, c=\"b\", label=\"Training data\")\n",
    "\n",
    "# Plot test data in green\n",
    "plt.scatter(X_test, y_test, c=\"g\", label=\"Test data\")\n",
    "\n",
    "#Show a legend\n",
    "plt.legend();"
   ]
  },
  {
   "cell_type": "code",
   "execution_count": null,
   "id": "82c45ed8",
   "metadata": {},
   "outputs": [],
   "source": []
  },
  {
   "cell_type": "markdown",
   "id": "6e2f8628",
   "metadata": {},
   "source": [
    "### Building a neural network"
   ]
  },
  {
   "cell_type": "code",
   "execution_count": 30,
   "id": "8a1f31b0",
   "metadata": {},
   "outputs": [],
   "source": [
    "# 1. Create a model\n",
    "model = tf.keras.Sequential([\n",
    "    tf.keras.layers.Dense(1)\n",
    "])\n",
    "\n",
    "# 2. Compile the model\n",
    "model.compile(loss=tf.keras.losses.mae,\n",
    "             optimizer= tf.keras.optimizers.SGD(),\n",
    "             metrics=[\"mae\"])\n",
    "\n"
   ]
  },
  {
   "cell_type": "markdown",
   "id": "c43d95e1",
   "metadata": {},
   "source": [
    "#### Visualizing the model"
   ]
  },
  {
   "cell_type": "code",
   "execution_count": null,
   "id": "86569e88",
   "metadata": {},
   "outputs": [],
   "source": []
  },
  {
   "cell_type": "code",
   "execution_count": 31,
   "id": "fe7036b7",
   "metadata": {},
   "outputs": [],
   "source": [
    "# TODO: uncomment the code in this cell to let it generate its error\n",
    "\n",
    "# # Get an idea of what the model looks like before running it\n",
    "# model.summary()"
   ]
  },
  {
   "cell_type": "code",
   "execution_count": 32,
   "id": "afbc8917",
   "metadata": {},
   "outputs": [
    {
     "data": {
      "text/plain": [
       "<tf.Tensor: shape=(50,), dtype=int32, numpy=\n",
       "array([-100,  -96,  -92,  -88,  -84,  -80,  -76,  -72,  -68,  -64,  -60,\n",
       "        -56,  -52,  -48,  -44,  -40,  -36,  -32,  -28,  -24,  -20,  -16,\n",
       "        -12,   -8,   -4,    0,    4,    8,   12,   16,   20,   24,   28,\n",
       "         32,   36,   40,   44,   48,   52,   56,   60,   64,   68,   72,\n",
       "         76,   80,   84,   88,   92,   96])>"
      ]
     },
     "execution_count": 32,
     "metadata": {},
     "output_type": "execute_result"
    }
   ],
   "source": [
    "X"
   ]
  },
  {
   "cell_type": "code",
   "execution_count": 33,
   "id": "c7634b89",
   "metadata": {},
   "outputs": [
    {
     "data": {
      "text/plain": [
       "1"
      ]
     },
     "execution_count": 33,
     "metadata": {},
     "output_type": "execute_result"
    }
   ],
   "source": [
    "X.ndim"
   ]
  },
  {
   "cell_type": "code",
   "execution_count": 34,
   "id": "987713a6",
   "metadata": {},
   "outputs": [
    {
     "data": {
      "text/plain": [
       "(<tf.Tensor: shape=(), dtype=int32, numpy=-100>,\n",
       " <tf.Tensor: shape=(), dtype=int32, numpy=-90>)"
      ]
     },
     "execution_count": 34,
     "metadata": {},
     "output_type": "execute_result"
    }
   ],
   "source": [
    "X[0],y[0]"
   ]
  },
  {
   "cell_type": "markdown",
   "id": "f296c106",
   "metadata": {},
   "source": [
    "* The explanation of the Prof : X[0] contains a scalar, so the input_shape of our model is 1; in case X[0] contain for example 3 different numbers, then input_shape would be 3.    \n",
    "* My own deduction : Another way to analyze it is based on the number of dimensions of X : X.ndim return 1, which means X is represented on one dimension, so the input shape is 1."
   ]
  },
  {
   "cell_type": "code",
   "execution_count": 35,
   "id": "b1a53531",
   "metadata": {},
   "outputs": [],
   "source": [
    "# Let's create a model which builds automatically by \n",
    "#    defining the input_shape argument in the first layer (that is what is usually done in practice)\n",
    "\n",
    "tf.random.set_seed(42)\n",
    "\n",
    "# 1. Create a model (same as above)\n",
    "model = tf.keras.Sequential([\n",
    "    tf.keras.layers.Dense(1, input_shape= [X.ndim] ) # tf.keras.layers.Dense(1, input_shape= [1] )\n",
    "                                                     #     refer to the previous cell to get \n",
    "                                                     #      explanations on why input_shape= [1]   \n",
    "]) \n",
    "\n",
    "# 2. COmpile the model \n",
    "model.compile(loss=tf.keras.losses.mae,\n",
    "             optimizer = tf.keras.optimizers.SGD(),\n",
    "             metrics=[\"mae\"])\n",
    "\n",
    "\n"
   ]
  },
  {
   "cell_type": "code",
   "execution_count": 36,
   "id": "a6e064a1",
   "metadata": {},
   "outputs": [
    {
     "name": "stdout",
     "output_type": "stream",
     "text": [
      "Model: \"sequential_5\"\n",
      "_________________________________________________________________\n",
      " Layer (type)                Output Shape              Param #   \n",
      "=================================================================\n",
      " dense_10 (Dense)            (None, 1)                 2         \n",
      "                                                                 \n",
      "=================================================================\n",
      "Total params: 2\n",
      "Trainable params: 2\n",
      "Non-trainable params: 0\n",
      "_________________________________________________________________\n"
     ]
    }
   ],
   "source": [
    "model.summary()"
   ]
  },
  {
   "cell_type": "markdown",
   "id": "b7c23bc7",
   "metadata": {},
   "source": [
    ".summary() on a model show the layers it contains, the output shape, and the number of parameters of each layer.   \n",
    "   \n",
    "* The **Ouput Shape** here (None, 1) : the representation here is something I personnally need to do more research on\n",
    "* The **Layer Type** `Dense` : it is another word for `fully connected`. A fully connected layer means each neuron in the said layer connects to all neurons in the next layer.\n",
    "* There are 2 **Params** :  \n",
    " - **Total params** : total number of parameters in the model; these are the patterns that the model is going to learn\n",
    " - **Trainable parameters** : these are the parameters (patterns) the model can update as it trains\n",
    " - **Non-trainable params** : these are the patterns the model cannot update as it trains; when we import a model that has already learned patterns in data (**transfer learning**), we might freeze those learned patterns so that the model retains what it already knows"
   ]
  },
  {
   "cell_type": "markdown",
   "id": "dd0bebde",
   "metadata": {},
   "source": [
    "📖 **Resource**: For a more in-depth overview of the trainable parameters within a layer, check out MIT's introduction to deep learning video at http://introtodeeplearning.com/ "
   ]
  },
  {
   "cell_type": "markdown",
   "id": "4a3aa920",
   "metadata": {},
   "source": [
    "🛠️**Exercise**: Try playing around with the number of hdden units in the dense layer, see how that effects the number of parameters (total and trainable) by calling `model.summary()`"
   ]
  },
  {
   "cell_type": "code",
   "execution_count": 37,
   "id": "f9bb768b",
   "metadata": {},
   "outputs": [
    {
     "name": "stdout",
     "output_type": "stream",
     "text": [
      "Model: \"sequential_6\"\n",
      "_________________________________________________________________\n",
      " Layer (type)                Output Shape              Param #   \n",
      "=================================================================\n",
      " dense_11 (Dense)            (None, 3)                 6         \n",
      "                                                                 \n",
      "=================================================================\n",
      "Total params: 6\n",
      "Trainable params: 6\n",
      "Non-trainable params: 0\n",
      "_________________________________________________________________\n"
     ]
    }
   ],
   "source": [
    "tf.random.set_seed(42)\n",
    "\n",
    "# 1. Create a model (same as above)\n",
    "model = tf.keras.Sequential([\n",
    "    tf.keras.layers.Dense(3, input_shape= [1] )  \n",
    "]) \n",
    "\n",
    "# 2. COmpile the model \n",
    "model.compile(loss=tf.keras.losses.mae,\n",
    "             optimizer = tf.keras.optimizers.SGD(),\n",
    "             metrics=[\"mae\"])\n",
    "\n",
    "\n",
    "model.summary()"
   ]
  },
  {
   "cell_type": "code",
   "execution_count": null,
   "id": "257f63ee",
   "metadata": {},
   "outputs": [],
   "source": []
  },
  {
   "cell_type": "code",
   "execution_count": null,
   "id": "5f285645",
   "metadata": {},
   "outputs": [],
   "source": []
  },
  {
   "cell_type": "code",
   "execution_count": 38,
   "id": "7dec1a2f",
   "metadata": {},
   "outputs": [
    {
     "name": "stdout",
     "output_type": "stream",
     "text": [
      "Model: \"sequential_7\"\n",
      "_________________________________________________________________\n",
      " Layer (type)                Output Shape              Param #   \n",
      "=================================================================\n",
      " dense_12 (Dense)            (None, 1)                 2         \n",
      "                                                                 \n",
      "=================================================================\n",
      "Total params: 2\n",
      "Trainable params: 2\n",
      "Non-trainable params: 0\n",
      "_________________________________________________________________\n"
     ]
    }
   ],
   "source": [
    "# Let us change the number of neuro from 3 to 1\n",
    "\n",
    "tf.random.set_seed(42)\n",
    "\n",
    "# 1. Create a model (same as above)\n",
    "model = tf.keras.Sequential([\n",
    "    tf.keras.layers.Dense(1, input_shape= [1] )  \n",
    "]) \n",
    "\n",
    "# 2. COmpile the model \n",
    "model.compile(loss=tf.keras.losses.mae,\n",
    "             optimizer = tf.keras.optimizers.SGD(),\n",
    "             metrics=[\"mae\"])\n",
    "\n",
    "\n",
    "model.summary()"
   ]
  },
  {
   "cell_type": "code",
   "execution_count": 39,
   "id": "5d2f8b23",
   "metadata": {},
   "outputs": [
    {
     "name": "stdout",
     "output_type": "stream",
     "text": [
      "Epoch 1/100\n",
      "2/2 [==============================] - 0s 3ms/step - loss: 23.5293 - mae: 23.5293\n",
      "Epoch 2/100\n",
      "2/2 [==============================] - 0s 3ms/step - loss: 10.6965 - mae: 10.6965\n",
      "Epoch 3/100\n",
      "2/2 [==============================] - 0s 3ms/step - loss: 16.5589 - mae: 16.5589\n",
      "Epoch 4/100\n",
      "2/2 [==============================] - 0s 0s/step - loss: 8.8597 - mae: 8.8597\n",
      "Epoch 5/100\n",
      "2/2 [==============================] - 0s 16ms/step - loss: 10.6880 - mae: 10.6880\n",
      "Epoch 6/100\n",
      "2/2 [==============================] - 0s 0s/step - loss: 9.8885 - mae: 9.8885\n",
      "Epoch 7/100\n",
      "2/2 [==============================] - 0s 7ms/step - loss: 8.9538 - mae: 8.9538\n",
      "Epoch 8/100\n",
      "2/2 [==============================] - 0s 3ms/step - loss: 9.0794 - mae: 9.0794\n",
      "Epoch 9/100\n",
      "2/2 [==============================] - 0s 9ms/step - loss: 19.7060 - mae: 19.7060\n",
      "Epoch 10/100\n",
      "2/2 [==============================] - 0s 6ms/step - loss: 10.6472 - mae: 10.6472\n",
      "Epoch 11/100\n",
      "2/2 [==============================] - 0s 7ms/step - loss: 8.6074 - mae: 8.6074\n",
      "Epoch 12/100\n",
      "2/2 [==============================] - 0s 3ms/step - loss: 11.1614 - mae: 11.1614\n",
      "Epoch 13/100\n",
      "2/2 [==============================] - 0s 0s/step - loss: 12.1210 - mae: 12.1210\n",
      "Epoch 14/100\n",
      "2/2 [==============================] - 0s 3ms/step - loss: 14.1104 - mae: 14.1104\n",
      "Epoch 15/100\n",
      "2/2 [==============================] - 0s 0s/step - loss: 11.5098 - mae: 11.5098\n",
      "Epoch 16/100\n",
      "2/2 [==============================] - 0s 3ms/step - loss: 8.5130 - mae: 8.5130\n",
      "Epoch 17/100\n",
      "2/2 [==============================] - 0s 4ms/step - loss: 13.5698 - mae: 13.5698\n",
      "Epoch 18/100\n",
      "2/2 [==============================] - 0s 4ms/step - loss: 11.3808 - mae: 11.3808\n",
      "Epoch 19/100\n",
      "2/2 [==============================] - 0s 5ms/step - loss: 18.0212 - mae: 18.0212\n",
      "Epoch 20/100\n",
      "2/2 [==============================] - 0s 0s/step - loss: 15.1550 - mae: 15.1550\n",
      "Epoch 21/100\n",
      "2/2 [==============================] - 0s 3ms/step - loss: 11.1105 - mae: 11.1105\n",
      "Epoch 22/100\n",
      "2/2 [==============================] - 0s 0s/step - loss: 8.2373 - mae: 8.2373\n",
      "Epoch 23/100\n",
      "2/2 [==============================] - 0s 4ms/step - loss: 9.4604 - mae: 9.4604\n",
      "Epoch 24/100\n",
      "2/2 [==============================] - 0s 3ms/step - loss: 7.6842 - mae: 7.6842\n",
      "Epoch 25/100\n",
      "2/2 [==============================] - 0s 0s/step - loss: 13.0550 - mae: 13.0550\n",
      "Epoch 26/100\n",
      "2/2 [==============================] - 0s 17ms/step - loss: 16.5251 - mae: 16.5251\n",
      "Epoch 27/100\n",
      "2/2 [==============================] - 0s 2ms/step - loss: 13.2530 - mae: 13.2530\n",
      "Epoch 28/100\n",
      "2/2 [==============================] - 0s 6ms/step - loss: 14.3665 - mae: 14.3665\n",
      "Epoch 29/100\n",
      "2/2 [==============================] - 0s 4ms/step - loss: 10.1009 - mae: 10.1009\n",
      "Epoch 30/100\n",
      "2/2 [==============================] - 0s 2ms/step - loss: 16.5032 - mae: 16.5032\n",
      "Epoch 31/100\n",
      "2/2 [==============================] - 0s 4ms/step - loss: 23.5000 - mae: 23.5000\n",
      "Epoch 32/100\n",
      "2/2 [==============================] - 0s 2ms/step - loss: 7.3703 - mae: 7.3703\n",
      "Epoch 33/100\n",
      "2/2 [==============================] - 0s 3ms/step - loss: 9.8110 - mae: 9.8110\n",
      "Epoch 34/100\n",
      "2/2 [==============================] - 0s 0s/step - loss: 12.2689 - mae: 12.2689\n",
      "Epoch 35/100\n",
      "2/2 [==============================] - 0s 2ms/step - loss: 11.1526 - mae: 11.1526\n",
      "Epoch 36/100\n",
      "2/2 [==============================] - 0s 2ms/step - loss: 13.3693 - mae: 13.3693\n",
      "Epoch 37/100\n",
      "2/2 [==============================] - 0s 4ms/step - loss: 9.4603 - mae: 9.4603\n",
      "Epoch 38/100\n",
      "2/2 [==============================] - 0s 3ms/step - loss: 10.1145 - mae: 10.1145\n",
      "Epoch 39/100\n",
      "2/2 [==============================] - 0s 3ms/step - loss: 10.2045 - mae: 10.2045\n",
      "Epoch 40/100\n",
      "2/2 [==============================] - 0s 2ms/step - loss: 10.9471 - mae: 10.9471\n",
      "Epoch 41/100\n",
      "2/2 [==============================] - 0s 6ms/step - loss: 7.9237 - mae: 7.9237\n",
      "Epoch 42/100\n",
      "2/2 [==============================] - 0s 4ms/step - loss: 10.5925 - mae: 10.5925\n",
      "Epoch 43/100\n",
      "2/2 [==============================] - 0s 3ms/step - loss: 7.2135 - mae: 7.2135\n",
      "Epoch 44/100\n",
      "2/2 [==============================] - 0s 3ms/step - loss: 8.0034 - mae: 8.0034\n",
      "Epoch 45/100\n",
      "2/2 [==============================] - 0s 6ms/step - loss: 9.7982 - mae: 9.7982\n",
      "Epoch 46/100\n",
      "2/2 [==============================] - 0s 4ms/step - loss: 8.8749 - mae: 8.8749\n",
      "Epoch 47/100\n",
      "2/2 [==============================] - 0s 3ms/step - loss: 7.5748 - mae: 7.5748\n",
      "Epoch 48/100\n",
      "2/2 [==============================] - 0s 0s/step - loss: 8.5699 - mae: 8.5699\n",
      "Epoch 49/100\n",
      "2/2 [==============================] - 0s 15ms/step - loss: 10.0045 - mae: 10.0045\n",
      "Epoch 50/100\n",
      "2/2 [==============================] - 0s 3ms/step - loss: 9.0208 - mae: 9.0208\n",
      "Epoch 51/100\n",
      "2/2 [==============================] - 0s 3ms/step - loss: 10.6753 - mae: 10.6753\n",
      "Epoch 52/100\n",
      "2/2 [==============================] - 0s 3ms/step - loss: 15.2940 - mae: 15.2940\n",
      "Epoch 53/100\n",
      "2/2 [==============================] - 0s 0s/step - loss: 14.3160 - mae: 14.3160\n",
      "Epoch 54/100\n",
      "2/2 [==============================] - 0s 1ms/step - loss: 21.6050 - mae: 21.6050\n",
      "Epoch 55/100\n",
      "2/2 [==============================] - 0s 3ms/step - loss: 15.9998 - mae: 15.9998\n",
      "Epoch 56/100\n",
      "2/2 [==============================] - 0s 8ms/step - loss: 10.2848 - mae: 10.2848\n",
      "Epoch 57/100\n",
      "2/2 [==============================] - 0s 2ms/step - loss: 9.7734 - mae: 9.7734\n",
      "Epoch 58/100\n",
      "2/2 [==============================] - 0s 2ms/step - loss: 9.0589 - mae: 9.0589\n",
      "Epoch 59/100\n",
      "2/2 [==============================] - 0s 3ms/step - loss: 8.2631 - mae: 8.2631\n",
      "Epoch 60/100\n",
      "2/2 [==============================] - 0s 2ms/step - loss: 9.3599 - mae: 9.3599\n",
      "Epoch 61/100\n",
      "2/2 [==============================] - 0s 3ms/step - loss: 11.1714 - mae: 11.1714\n",
      "Epoch 62/100\n",
      "2/2 [==============================] - 0s 3ms/step - loss: 12.0733 - mae: 12.0733\n",
      "Epoch 63/100\n",
      "2/2 [==============================] - 0s 4ms/step - loss: 7.2719 - mae: 7.2719\n",
      "Epoch 64/100\n",
      "2/2 [==============================] - 0s 3ms/step - loss: 12.4361 - mae: 12.4361\n",
      "Epoch 65/100\n",
      "2/2 [==============================] - 0s 4ms/step - loss: 10.5073 - mae: 10.5073\n",
      "Epoch 66/100\n",
      "2/2 [==============================] - 0s 4ms/step - loss: 15.6059 - mae: 15.6059\n",
      "Epoch 67/100\n",
      "2/2 [==============================] - 0s 2ms/step - loss: 10.0094 - mae: 10.0094\n",
      "Epoch 68/100\n",
      "2/2 [==============================] - 0s 549us/step - loss: 8.7222 - mae: 8.7222\n",
      "Epoch 69/100\n",
      "2/2 [==============================] - 0s 0s/step - loss: 13.4828 - mae: 13.4828\n",
      "Epoch 70/100\n",
      "2/2 [==============================] - 0s 2ms/step - loss: 7.4712 - mae: 7.4712\n",
      "Epoch 71/100\n",
      "2/2 [==============================] - 0s 0s/step - loss: 12.2341 - mae: 12.2341\n",
      "Epoch 72/100\n",
      "2/2 [==============================] - 0s 2ms/step - loss: 8.5314 - mae: 8.5314\n",
      "Epoch 73/100\n",
      "2/2 [==============================] - 0s 121us/step - loss: 7.0410 - mae: 7.0410\n",
      "Epoch 74/100\n",
      "2/2 [==============================] - 0s 9ms/step - loss: 9.9261 - mae: 9.9261\n",
      "Epoch 75/100\n",
      "2/2 [==============================] - 0s 3ms/step - loss: 9.9427 - mae: 9.9427\n",
      "Epoch 76/100\n",
      "2/2 [==============================] - 0s 0s/step - loss: 10.1083 - mae: 10.1083\n",
      "Epoch 77/100\n",
      "2/2 [==============================] - 0s 3ms/step - loss: 12.9602 - mae: 12.9602\n",
      "Epoch 78/100\n",
      "2/2 [==============================] - 0s 0s/step - loss: 11.1471 - mae: 11.1471\n",
      "Epoch 79/100\n",
      "2/2 [==============================] - 0s 5ms/step - loss: 14.6959 - mae: 14.6959\n",
      "Epoch 80/100\n",
      "2/2 [==============================] - 0s 0s/step - loss: 8.9302 - mae: 8.9302\n",
      "Epoch 81/100\n",
      "2/2 [==============================] - 0s 2ms/step - loss: 10.7758 - mae: 10.7758\n",
      "Epoch 82/100\n",
      "2/2 [==============================] - 0s 0s/step - loss: 8.3858 - mae: 8.3858\n",
      "Epoch 83/100\n",
      "2/2 [==============================] - 0s 3ms/step - loss: 9.2307 - mae: 9.2307\n",
      "Epoch 84/100\n",
      "2/2 [==============================] - 0s 0s/step - loss: 8.9461 - mae: 8.9461\n",
      "Epoch 85/100\n",
      "2/2 [==============================] - 0s 3ms/step - loss: 13.2076 - mae: 13.2076\n",
      "Epoch 86/100\n",
      "2/2 [==============================] - 0s 0s/step - loss: 13.7003 - mae: 13.7003\n",
      "Epoch 87/100\n",
      "2/2 [==============================] - 0s 4ms/step - loss: 13.1844 - mae: 13.1844\n",
      "Epoch 88/100\n"
     ]
    },
    {
     "name": "stdout",
     "output_type": "stream",
     "text": [
      "2/2 [==============================] - 0s 0s/step - loss: 11.5101 - mae: 11.5101\n",
      "Epoch 89/100\n",
      "2/2 [==============================] - 0s 3ms/step - loss: 7.5675 - mae: 7.5675\n",
      "Epoch 90/100\n",
      "2/2 [==============================] - 0s 4ms/step - loss: 11.9499 - mae: 11.9499\n",
      "Epoch 91/100\n",
      "2/2 [==============================] - 0s 0s/step - loss: 7.1036 - mae: 7.1036\n",
      "Epoch 92/100\n",
      "2/2 [==============================] - 0s 3ms/step - loss: 8.2196 - mae: 8.2196\n",
      "Epoch 93/100\n",
      "2/2 [==============================] - 0s 10ms/step - loss: 7.1126 - mae: 7.1126\n",
      "Epoch 94/100\n",
      "2/2 [==============================] - 0s 0s/step - loss: 12.4684 - mae: 12.4684\n",
      "Epoch 95/100\n",
      "2/2 [==============================] - 0s 11ms/step - loss: 9.8459 - mae: 9.8459\n",
      "Epoch 96/100\n",
      "2/2 [==============================] - 0s 0s/step - loss: 9.1642 - mae: 9.1642\n",
      "Epoch 97/100\n",
      "2/2 [==============================] - 0s 3ms/step - loss: 12.1809 - mae: 12.1809\n",
      "Epoch 98/100\n",
      "2/2 [==============================] - 0s 0s/step - loss: 8.7691 - mae: 8.7691\n",
      "Epoch 99/100\n",
      "2/2 [==============================] - 0s 5ms/step - loss: 8.7487 - mae: 8.7487\n",
      "Epoch 100/100\n",
      "2/2 [==============================] - 0s 0s/step - loss: 15.8935 - mae: 15.8935\n"
     ]
    },
    {
     "data": {
      "text/plain": [
       "<keras.callbacks.History at 0x1bb1bbbc790>"
      ]
     },
     "execution_count": 39,
     "metadata": {},
     "output_type": "execute_result"
    }
   ],
   "source": [
    "# 3. Fit the model to the training data for 100 epochs\n",
    "model.fit(X_train, y_train, epochs=100, verbose=1)"
   ]
  },
  {
   "cell_type": "code",
   "execution_count": 40,
   "id": "2f299920",
   "metadata": {},
   "outputs": [
    {
     "name": "stdout",
     "output_type": "stream",
     "text": [
      "Epoch 1/100\n",
      "2/2 [==============================] - 0s 4ms/step - loss: 10.5418 - mae: 10.5418\n",
      "Epoch 2/100\n",
      "2/2 [==============================] - 0s 3ms/step - loss: 6.8535 - mae: 6.8535\n",
      "Epoch 3/100\n",
      "2/2 [==============================] - 0s 3ms/step - loss: 15.5798 - mae: 15.5798\n",
      "Epoch 4/100\n",
      "2/2 [==============================] - 0s 2ms/step - loss: 7.7497 - mae: 7.7497\n",
      "Epoch 5/100\n",
      "2/2 [==============================] - 0s 4ms/step - loss: 9.9430 - mae: 9.9430\n",
      "Epoch 6/100\n",
      "2/2 [==============================] - 0s 3ms/step - loss: 9.0911 - mae: 9.0911\n",
      "Epoch 7/100\n",
      "2/2 [==============================] - 0s 5ms/step - loss: 8.1590 - mae: 8.1590\n",
      "Epoch 8/100\n",
      "2/2 [==============================] - 0s 3ms/step - loss: 8.1218 - mae: 8.1218\n",
      "Epoch 9/100\n",
      "2/2 [==============================] - 0s 4ms/step - loss: 19.5234 - mae: 19.5234\n",
      "Epoch 10/100\n",
      "2/2 [==============================] - 0s 5ms/step - loss: 9.5928 - mae: 9.5928\n",
      "Epoch 11/100\n",
      "2/2 [==============================] - 0s 4ms/step - loss: 7.6326 - mae: 7.6326\n",
      "Epoch 12/100\n",
      "2/2 [==============================] - 0s 3ms/step - loss: 10.1003 - mae: 10.1003\n",
      "Epoch 13/100\n",
      "2/2 [==============================] - 0s 10ms/step - loss: 6.6132 - mae: 6.6132\n",
      "Epoch 14/100\n",
      "2/2 [==============================] - 0s 3ms/step - loss: 15.2452 - mae: 15.2452\n",
      "Epoch 15/100\n",
      "2/2 [==============================] - 0s 3ms/step - loss: 11.8637 - mae: 11.8637\n",
      "Epoch 16/100\n",
      "2/2 [==============================] - 0s 2ms/step - loss: 7.6526 - mae: 7.6526\n",
      "Epoch 17/100\n",
      "2/2 [==============================] - 0s 2ms/step - loss: 12.6095 - mae: 12.6095\n",
      "Epoch 18/100\n",
      "2/2 [==============================] - 0s 2ms/step - loss: 10.1146 - mae: 10.1146\n",
      "Epoch 19/100\n",
      "2/2 [==============================] - 0s 12ms/step - loss: 18.4317 - mae: 18.4317\n",
      "Epoch 20/100\n",
      "2/2 [==============================] - 0s 4ms/step - loss: 15.1323 - mae: 15.1323\n",
      "Epoch 21/100\n",
      "2/2 [==============================] - 0s 3ms/step - loss: 10.6212 - mae: 10.6212\n",
      "Epoch 22/100\n",
      "2/2 [==============================] - 0s 0s/step - loss: 7.1231 - mae: 7.1231\n",
      "Epoch 23/100\n",
      "2/2 [==============================] - 0s 3ms/step - loss: 8.6652 - mae: 8.6652\n",
      "Epoch 24/100\n",
      "2/2 [==============================] - 0s 4ms/step - loss: 7.5808 - mae: 7.5808\n",
      "Epoch 25/100\n",
      "2/2 [==============================] - 0s 4ms/step - loss: 10.2647 - mae: 10.2647\n",
      "Epoch 26/100\n",
      "2/2 [==============================] - 0s 3ms/step - loss: 15.6159 - mae: 15.6159\n",
      "Epoch 27/100\n",
      "2/2 [==============================] - 0s 4ms/step - loss: 11.9683 - mae: 11.9683\n",
      "Epoch 28/100\n",
      "2/2 [==============================] - 0s 4ms/step - loss: 12.8999 - mae: 12.8999\n",
      "Epoch 29/100\n",
      "2/2 [==============================] - 0s 3ms/step - loss: 8.6277 - mae: 8.6277\n",
      "Epoch 30/100\n",
      "2/2 [==============================] - 0s 3ms/step - loss: 16.0674 - mae: 16.0674\n",
      "Epoch 31/100\n",
      "2/2 [==============================] - 0s 3ms/step - loss: 23.3848 - mae: 23.3848\n",
      "Epoch 32/100\n",
      "2/2 [==============================] - 0s 2ms/step - loss: 6.3144 - mae: 6.3144\n",
      "Epoch 33/100\n",
      "2/2 [==============================] - 0s 3ms/step - loss: 9.6299 - mae: 9.6299\n",
      "Epoch 34/100\n",
      "2/2 [==============================] - 0s 2ms/step - loss: 8.9280 - mae: 8.9280\n",
      "Epoch 35/100\n",
      "2/2 [==============================] - 0s 3ms/step - loss: 7.8221 - mae: 7.8221\n",
      "Epoch 36/100\n",
      "2/2 [==============================] - 0s 2ms/step - loss: 8.3599 - mae: 8.3599\n",
      "Epoch 37/100\n",
      "2/2 [==============================] - 0s 5ms/step - loss: 9.2002 - mae: 9.2002\n",
      "Epoch 38/100\n",
      "2/2 [==============================] - 0s 3ms/step - loss: 10.1392 - mae: 10.1392\n",
      "Epoch 39/100\n",
      "2/2 [==============================] - 0s 4ms/step - loss: 15.0147 - mae: 15.0147\n",
      "Epoch 40/100\n",
      "2/2 [==============================] - 0s 3ms/step - loss: 12.7640 - mae: 12.7640\n",
      "Epoch 41/100\n",
      "2/2 [==============================] - 0s 4ms/step - loss: 8.5323 - mae: 8.5323\n",
      "Epoch 42/100\n",
      "2/2 [==============================] - 0s 3ms/step - loss: 10.4241 - mae: 10.4241\n",
      "Epoch 43/100\n",
      "2/2 [==============================] - 0s 3ms/step - loss: 10.9378 - mae: 10.9378\n",
      "Epoch 44/100\n",
      "2/2 [==============================] - 0s 3ms/step - loss: 15.4252 - mae: 15.4252\n",
      "Epoch 45/100\n",
      "2/2 [==============================] - 0s 3ms/step - loss: 11.1627 - mae: 11.1627\n",
      "Epoch 46/100\n",
      "2/2 [==============================] - 0s 2ms/step - loss: 6.1716 - mae: 6.1716\n",
      "Epoch 47/100\n",
      "2/2 [==============================] - 0s 3ms/step - loss: 9.8748 - mae: 9.8748\n",
      "Epoch 48/100\n",
      "2/2 [==============================] - 0s 3ms/step - loss: 7.9402 - mae: 7.9402\n",
      "Epoch 49/100\n",
      "2/2 [==============================] - 0s 3ms/step - loss: 6.8400 - mae: 6.8400\n",
      "Epoch 50/100\n",
      "2/2 [==============================] - 0s 3ms/step - loss: 8.6035 - mae: 8.6035\n",
      "Epoch 51/100\n",
      "2/2 [==============================] - 0s 2ms/step - loss: 8.5922 - mae: 8.5922\n",
      "Epoch 52/100\n",
      "2/2 [==============================] - 0s 5ms/step - loss: 14.7327 - mae: 14.7327\n",
      "Epoch 53/100\n",
      "2/2 [==============================] - 0s 3ms/step - loss: 14.4141 - mae: 14.4141\n",
      "Epoch 54/100\n",
      "2/2 [==============================] - 0s 3ms/step - loss: 14.1262 - mae: 14.1262\n",
      "Epoch 55/100\n",
      "2/2 [==============================] - 0s 2ms/step - loss: 18.4232 - mae: 18.4232\n",
      "Epoch 56/100\n",
      "2/2 [==============================] - 0s 4ms/step - loss: 7.0041 - mae: 7.0041\n",
      "Epoch 57/100\n",
      "2/2 [==============================] - 0s 3ms/step - loss: 10.8838 - mae: 10.8838\n",
      "Epoch 58/100\n",
      "2/2 [==============================] - 0s 3ms/step - loss: 8.3025 - mae: 8.3025\n",
      "Epoch 59/100\n",
      "2/2 [==============================] - 0s 2ms/step - loss: 7.6366 - mae: 7.6366\n",
      "Epoch 60/100\n",
      "2/2 [==============================] - 0s 4ms/step - loss: 8.5747 - mae: 8.5747\n",
      "Epoch 61/100\n",
      "2/2 [==============================] - 0s 2ms/step - loss: 10.4745 - mae: 10.4745\n",
      "Epoch 62/100\n",
      "2/2 [==============================] - 0s 2ms/step - loss: 11.8538 - mae: 11.8538\n",
      "Epoch 63/100\n",
      "2/2 [==============================] - 0s 2ms/step - loss: 6.9058 - mae: 6.9058\n",
      "Epoch 64/100\n",
      "2/2 [==============================] - 0s 5ms/step - loss: 13.6052 - mae: 13.6052\n",
      "Epoch 65/100\n",
      "2/2 [==============================] - 0s 2ms/step - loss: 9.7751 - mae: 9.7751\n",
      "Epoch 66/100\n",
      "2/2 [==============================] - 0s 3ms/step - loss: 10.6043 - mae: 10.6043\n",
      "Epoch 67/100\n",
      "2/2 [==============================] - 0s 3ms/step - loss: 7.1647 - mae: 7.1647\n",
      "Epoch 68/100\n",
      "2/2 [==============================] - 0s 2ms/step - loss: 7.6721 - mae: 7.6721\n",
      "Epoch 69/100\n",
      "2/2 [==============================] - 0s 2ms/step - loss: 11.9999 - mae: 11.9999\n",
      "Epoch 70/100\n",
      "2/2 [==============================] - 0s 3ms/step - loss: 8.8024 - mae: 8.8024\n",
      "Epoch 71/100\n",
      "2/2 [==============================] - 0s 3ms/step - loss: 9.9200 - mae: 9.9200\n",
      "Epoch 72/100\n",
      "2/2 [==============================] - 0s 3ms/step - loss: 8.3169 - mae: 8.3169\n",
      "Epoch 73/100\n",
      "2/2 [==============================] - 0s 3ms/step - loss: 10.1125 - mae: 10.1125\n",
      "Epoch 74/100\n",
      "2/2 [==============================] - 0s 3ms/step - loss: 11.6579 - mae: 11.6579\n",
      "Epoch 75/100\n",
      "2/2 [==============================] - 0s 3ms/step - loss: 6.3744 - mae: 6.3744\n",
      "Epoch 76/100\n",
      "2/2 [==============================] - 0s 3ms/step - loss: 10.1197 - mae: 10.1197\n",
      "Epoch 77/100\n",
      "2/2 [==============================] - 0s 4ms/step - loss: 10.1053 - mae: 10.1053\n",
      "Epoch 78/100\n",
      "2/2 [==============================] - 0s 3ms/step - loss: 11.6812 - mae: 11.6812\n",
      "Epoch 79/100\n",
      "2/2 [==============================] - 0s 3ms/step - loss: 14.6407 - mae: 14.6407\n",
      "Epoch 80/100\n",
      "2/2 [==============================] - 0s 3ms/step - loss: 11.0273 - mae: 11.0273\n",
      "Epoch 81/100\n",
      "2/2 [==============================] - 0s 2ms/step - loss: 10.1708 - mae: 10.1708\n",
      "Epoch 82/100\n",
      "2/2 [==============================] - 0s 3ms/step - loss: 7.1092 - mae: 7.1092\n",
      "Epoch 83/100\n",
      "2/2 [==============================] - 0s 3ms/step - loss: 8.0879 - mae: 8.0879\n",
      "Epoch 84/100\n",
      "2/2 [==============================] - 0s 3ms/step - loss: 7.3028 - mae: 7.3028\n",
      "Epoch 85/100\n",
      "2/2 [==============================] - 0s 3ms/step - loss: 14.1859 - mae: 14.1859\n",
      "Epoch 86/100\n",
      "2/2 [==============================] - 0s 3ms/step - loss: 12.9490 - mae: 12.9490\n",
      "Epoch 87/100\n",
      "2/2 [==============================] - 0s 3ms/step - loss: 12.4162 - mae: 12.4162\n",
      "Epoch 88/100\n"
     ]
    },
    {
     "name": "stdout",
     "output_type": "stream",
     "text": [
      "2/2 [==============================] - 0s 4ms/step - loss: 10.7284 - mae: 10.7284\n",
      "Epoch 89/100\n",
      "2/2 [==============================] - 0s 2ms/step - loss: 6.0221 - mae: 6.0221\n",
      "Epoch 90/100\n",
      "2/2 [==============================] - 0s 3ms/step - loss: 12.9654 - mae: 12.9654\n",
      "Epoch 91/100\n",
      "2/2 [==============================] - 0s 3ms/step - loss: 6.9013 - mae: 6.9013\n",
      "Epoch 92/100\n",
      "2/2 [==============================] - 0s 4ms/step - loss: 7.1004 - mae: 7.1004\n",
      "Epoch 93/100\n",
      "2/2 [==============================] - 0s 3ms/step - loss: 8.5255 - mae: 8.5255\n",
      "Epoch 94/100\n",
      "2/2 [==============================] - 0s 4ms/step - loss: 7.8797 - mae: 7.8797\n",
      "Epoch 95/100\n",
      "2/2 [==============================] - 0s 2ms/step - loss: 11.2884 - mae: 11.2884\n",
      "Epoch 96/100\n",
      "2/2 [==============================] - 0s 3ms/step - loss: 8.6039 - mae: 8.6039\n",
      "Epoch 97/100\n",
      "2/2 [==============================] - 0s 3ms/step - loss: 12.7758 - mae: 12.7758\n",
      "Epoch 98/100\n",
      "2/2 [==============================] - 0s 2ms/step - loss: 7.4839 - mae: 7.4839\n",
      "Epoch 99/100\n",
      "2/2 [==============================] - 0s 3ms/step - loss: 8.2275 - mae: 8.2275\n",
      "Epoch 100/100\n",
      "2/2 [==============================] - 0s 2ms/step - loss: 9.7055 - mae: 9.7055\n"
     ]
    },
    {
     "data": {
      "text/plain": [
       "<keras.callbacks.History at 0x1bb1bc52070>"
      ]
     },
     "execution_count": 40,
     "metadata": {},
     "output_type": "execute_result"
    }
   ],
   "source": [
    "# Fit the model again, for another 100 epochs (so for a total of 200 epochs)\n",
    "model.fit(X_train, y_train, epochs=100, verbose=1)"
   ]
  },
  {
   "cell_type": "markdown",
   "id": "7798ca6b",
   "metadata": {},
   "source": [
    "🔑 Every time model.fit() is called, it's going to fit for the extra epochs provided as parameters : the epochs are cumulative."
   ]
  },
  {
   "cell_type": "code",
   "execution_count": null,
   "id": "378fe5b7",
   "metadata": {},
   "outputs": [],
   "source": []
  },
  {
   "cell_type": "markdown",
   "id": "8cd35a1b",
   "metadata": {},
   "source": [
    "### Visualizing a model's layers"
   ]
  },
  {
   "cell_type": "code",
   "execution_count": 41,
   "id": "64f49ee8",
   "metadata": {},
   "outputs": [
    {
     "name": "stdout",
     "output_type": "stream",
     "text": [
      "Model: \"sequential_8\"\n",
      "_________________________________________________________________\n",
      " Layer (type)                Output Shape              Param #   \n",
      "=================================================================\n",
      " dense_13 (Dense)            (None, 10)                20        \n",
      "                                                                 \n",
      "=================================================================\n",
      "Total params: 20\n",
      "Trainable params: 20\n",
      "Non-trainable params: 0\n",
      "_________________________________________________________________\n"
     ]
    }
   ],
   "source": [
    "# Creating a new model, with 10 units in the hidden layers\n",
    "\n",
    "tf.random.set_seed(42)\n",
    "\n",
    "# 1. Create a model (same as above)\n",
    "model = tf.keras.Sequential([\n",
    "    tf.keras.layers.Dense(10, input_shape= [1] )  \n",
    "]) \n",
    "\n",
    "# 2. Compile the model \n",
    "model.compile(loss=tf.keras.losses.mae,\n",
    "             optimizer = tf.keras.optimizers.SGD(),\n",
    "             metrics=[\"mae\"])\n",
    "\n",
    "\n",
    "model.summary()\n"
   ]
  },
  {
   "cell_type": "code",
   "execution_count": 42,
   "id": "967d66d9",
   "metadata": {},
   "outputs": [
    {
     "data": {
      "text/plain": [
       "<keras.callbacks.History at 0x1bb1bbb28e0>"
      ]
     },
     "execution_count": 42,
     "metadata": {},
     "output_type": "execute_result"
    }
   ],
   "source": [
    "# Fit the model to the training data\n",
    "model.fit(X_train, y_train, epochs=100, verbose=0)"
   ]
  },
  {
   "cell_type": "code",
   "execution_count": 43,
   "id": "8641da1e",
   "metadata": {},
   "outputs": [
    {
     "data": {
      "image/png": "[encoded data removed]",
      "text/plain": [
       "<IPython.core.display.Image object>"
      ]
     },
     "execution_count": 43,
     "metadata": {},
     "output_type": "execute_result"
    }
   ],
   "source": [
    "# Looking at the layers of the model\n",
    "plot_model(model=model)"
   ]
  },
  {
   "cell_type": "code",
   "execution_count": 44,
   "id": "51112f96",
   "metadata": {},
   "outputs": [
    {
     "data": {
      "image/png": "[encoded data removed]",
      "text/plain": [
       "<IPython.core.display.Image object>"
      ]
     },
     "execution_count": 44,
     "metadata": {},
     "output_type": "execute_result"
    }
   ],
   "source": [
    "# Looking at the layers of the model, with it's shape\n",
    "plot_model(model=model, show_shapes=True)"
   ]
  },
  {
   "cell_type": "markdown",
   "id": "8720dbcb",
   "metadata": {},
   "source": [
    "The plot_model() above will be very handy later on when we start creating more complex models with more hidden layers. \n",
    "   \n",
    "Let's observe the plot of a little more complex model"
   ]
  },
  {
   "cell_type": "code",
   "execution_count": 45,
   "id": "d6a9f617",
   "metadata": {},
   "outputs": [
    {
     "name": "stdout",
     "output_type": "stream",
     "text": [
      "Model: \"amazing_model\"\n",
      "_________________________________________________________________\n",
      " Layer (type)                Output Shape              Param #   \n",
      "=================================================================\n",
      " input_layer (Dense)         (None, 10)                20        \n",
      "                                                                 \n",
      " output_layer (Dense)        (None, 1)                 11        \n",
      "                                                                 \n",
      "=================================================================\n",
      "Total params: 31\n",
      "Trainable params: 31\n",
      "Non-trainable params: 0\n",
      "_________________________________________________________________\n"
     ]
    }
   ],
   "source": [
    "# Creating a model, with 10 units in the hidden layers, and an output layer\n",
    "\n",
    "tf.random.set_seed(42)\n",
    "\n",
    "# 1. Create a model (same as above)\n",
    "model = tf.keras.Sequential([\n",
    "    tf.keras.layers.Dense(10, input_shape= [1], name=\"input_layer\" ), \n",
    "    tf.keras.layers.Dense(1, name=\"output_layer\")\n",
    "], name=\"amazing_model\") \n",
    "\n",
    "# 2. Compile the model \n",
    "model.compile(loss=tf.keras.losses.mae,\n",
    "             optimizer = tf.keras.optimizers.SGD(),\n",
    "             metrics=[\"mae\"])\n",
    "\n",
    "\n",
    "model.summary()\n"
   ]
  },
  {
   "cell_type": "code",
   "execution_count": 46,
   "id": "69b4b0ca",
   "metadata": {},
   "outputs": [
    {
     "data": {
      "text/plain": [
       "<keras.callbacks.History at 0x1bb1bcf6280>"
      ]
     },
     "execution_count": 46,
     "metadata": {},
     "output_type": "execute_result"
    }
   ],
   "source": [
    "# Fit the model to the training data\n",
    "model.fit(X_train, y_train, epochs=100, verbose=0)"
   ]
  },
  {
   "cell_type": "code",
   "execution_count": 47,
   "id": "bc62aa47",
   "metadata": {},
   "outputs": [
    {
     "name": "stdout",
     "output_type": "stream",
     "text": [
      "Model: \"amazing_model\"\n",
      "_________________________________________________________________\n",
      " Layer (type)                Output Shape              Param #   \n",
      "=================================================================\n",
      " input_layer (Dense)         (None, 10)                20        \n",
      "                                                                 \n",
      " output_layer (Dense)        (None, 1)                 11        \n",
      "                                                                 \n",
      "=================================================================\n",
      "Total params: 31\n",
      "Trainable params: 31\n",
      "Non-trainable params: 0\n",
      "_________________________________________________________________\n"
     ]
    }
   ],
   "source": [
    "model.summary()"
   ]
  },
  {
   "cell_type": "code",
   "execution_count": 48,
   "id": "06d885f8",
   "metadata": {},
   "outputs": [
    {
     "data": {
      "image/png": "[encoded data removed]",
      "text/plain": [
       "<IPython.core.display.Image object>"
      ]
     },
     "execution_count": 48,
     "metadata": {},
     "output_type": "execute_result"
    }
   ],
   "source": [
    "# Looking at the layers of the model, with it's shape\n",
    "plot_model(model=model, show_shapes=True)"
   ]
  },
  {
   "cell_type": "code",
   "execution_count": null,
   "id": "955333a7",
   "metadata": {},
   "outputs": [],
   "source": []
  },
  {
   "cell_type": "markdown",
   "id": "ab607c02",
   "metadata": {},
   "source": [
    "### Visualizing the model's predictions  \n",
    "  \n",
    "To visualize predictions, it's a good idea to plot them against the ground truth labels.  \n",
    "  \n",
    "Often, one will see this in the form of `y_test` or `y_true` versus `y_pred` (ground truth versus the model's predictions)."
   ]
  },
  {
   "cell_type": "code",
   "execution_count": 49,
   "id": "6274fe28",
   "metadata": {},
   "outputs": [
    {
     "name": "stdout",
     "output_type": "stream",
     "text": [
      "WARNING:tensorflow:5 out of the last 6 calls to <function Model.make_predict_function.<locals>.predict_function at 0x000001BB1CD9EC10> triggered tf.function retracing. Tracing is expensive and the excessive number of tracings could be due to (1) creating @tf.function repeatedly in a loop, (2) passing tensors with different shapes, (3) passing Python objects instead of tensors. For (1), please define your @tf.function outside of the loop. For (2), @tf.function has reduce_retracing=True option that can avoid unnecessary retracing. For (3), please refer to https://www.tensorflow.org/guide/function#controlling_retracing and https://www.tensorflow.org/api_docs/python/tf/function for  more details.\n",
      "1/1 [==============================] - 0s 79ms/step\n"
     ]
    },
    {
     "data": {
      "text/plain": [
       "array([[ 70.53047 ],\n",
       "       [ 75.11641 ],\n",
       "       [ 79.70234 ],\n",
       "       [ 84.288284],\n",
       "       [ 88.874214],\n",
       "       [ 93.46015 ],\n",
       "       [ 98.046074],\n",
       "       [102.63202 ],\n",
       "       [107.21795 ],\n",
       "       [111.80389 ]], dtype=float32)"
      ]
     },
     "execution_count": 49,
     "metadata": {},
     "output_type": "execute_result"
    }
   ],
   "source": [
    "# Make some predictions\n",
    "y_pred = model.predict(X_test)\n",
    "y_pred"
   ]
  },
  {
   "cell_type": "code",
   "execution_count": 50,
   "id": "2693f03d",
   "metadata": {},
   "outputs": [
    {
     "data": {
      "text/plain": [
       "<tf.Tensor: shape=(10,), dtype=int32, numpy=array([ 70,  74,  78,  82,  86,  90,  94,  98, 102, 106])>"
      ]
     },
     "execution_count": 50,
     "metadata": {},
     "output_type": "execute_result"
    }
   ],
   "source": [
    "# Looking at the content of y_test (the real value)\n",
    "y_test"
   ]
  },
  {
   "cell_type": "code",
   "execution_count": null,
   "id": "ceb2b008",
   "metadata": {},
   "outputs": [],
   "source": []
  },
  {
   "cell_type": "code",
   "execution_count": 51,
   "id": "eeba611f",
   "metadata": {},
   "outputs": [],
   "source": [
    "# Creating a plotting function\n",
    "def plot_predictions(train_data=X_train, train_labels=y_train,\n",
    "                    test_data=X_test, test_labels=y_test,\n",
    "                    predictions=y_pred):\n",
    "    \"\"\"\n",
    "        Plots training data, test data, and compares predictions to ground truth labels.\n",
    "    \"\"\"\n",
    "    plt.figure( figsize=(10,7) )\n",
    "\n",
    "    # Plot training data in blue \n",
    "    plt.scatter(train_data, train_labels, c=\"b\", label=\"Training data\")\n",
    "\n",
    "    # Plot test data in green\n",
    "    plt.scatter(test_data, test_labels, c=\"g\", label=\"Test data\")\n",
    "    \n",
    "    # Plot prediction data\n",
    "    plt.scatter(test_data,predictions,c=\"r\", label=\"Predictions\")\n",
    "\n",
    "    #Show a legend\n",
    "    plt.legend() "
   ]
  },
  {
   "cell_type": "code",
   "execution_count": 52,
   "id": "e17e0774",
   "metadata": {},
   "outputs": [
    {
     "data": {
      "image/png": "[encoded data removed]",
      "text/plain": [
       "<Figure size 720x504 with 1 Axes>"
      ]
     },
     "metadata": {
      "needs_background": "light"
     },
     "output_type": "display_data"
    }
   ],
   "source": [
    "plot_predictions()"
   ]
  },
  {
   "cell_type": "markdown",
   "id": "bf87ee45",
   "metadata": {},
   "source": [
    "Looking at the plots, the model appear to be good since the distance between test data and the predictions is small. But depending on the scale of the plot, that seemingly short distance can in fact represent a fairly large error.   \n",
    "So the way that can be figured out is by some evaluation metrics.\n"
   ]
  },
  {
   "cell_type": "markdown",
   "id": "cef52248",
   "metadata": {},
   "source": [
    "🛠️ **Exercise** : Try to improve the ploted model performance."
   ]
  },
  {
   "cell_type": "code",
   "execution_count": null,
   "id": "42f63d4e",
   "metadata": {},
   "outputs": [],
   "source": []
  },
  {
   "cell_type": "markdown",
   "id": "3465cb74",
   "metadata": {},
   "source": [
    "### Evaluation a model's predictions with regression evaluation metrics  \n",
    "  \n",
    "The best way to evaluate a model's predictions is by using evaluation metrics. Depending on the problem one is working on, there will be different evaluation metrics to evaluate a model's performance.\n",
    "   \n",
    "   \n",
    "Since the current work is a regression, three of the main metrics are :\n",
    "* **MAE** - Mean Absolute Error : \"On evareage, how wrong is each of the model's predictions ?\" . It is a great starter metric for any regression problem.\n",
    "* **MSE** - Mean Square Error : \"Square the average errors\" (take the errors from the model predictions, square them, and find the average). It is great to use it when larger errors are more significant than smaller errors.   \n",
    "* **Huber** : It is a combination of MSE and MAE; it's less sensitive to outliers than MSE."
   ]
  },
  {
   "cell_type": "code",
   "execution_count": 53,
   "id": "00c2f28d",
   "metadata": {},
   "outputs": [
    {
     "name": "stdout",
     "output_type": "stream",
     "text": [
      "1/1 [==============================] - 0s 205ms/step - loss: 3.1672 - mae: 3.1672\n"
     ]
    },
    {
     "data": {
      "text/plain": [
       "[3.1671760082244873, 3.1671760082244873]"
      ]
     },
     "execution_count": 53,
     "metadata": {},
     "output_type": "execute_result"
    }
   ],
   "source": [
    "# Evaluate the model on the test \n",
    "model.evaluate(X_test, y_test)"
   ]
  },
  {
   "cell_type": "markdown",
   "id": "777142f7",
   "metadata": {},
   "source": [
    "In the evaluation's result above, there are values for `loss` and `mae`. They came from the hyper-parameters (loss and metrics) provided when building the model."
   ]
  },
  {
   "cell_type": "markdown",
   "id": "9805df4d",
   "metadata": {},
   "source": [
    "#### Manually calculate the MAE (as an exercise)"
   ]
  },
  {
   "cell_type": "code",
   "execution_count": 54,
   "id": "5ec1db76",
   "metadata": {},
   "outputs": [
    {
     "data": {
      "text/plain": [
       "<tf.Tensor: shape=(10,), dtype=float32, numpy=\n",
       "array([17.575623, 14.130155, 11.719065, 10.342343, 10.      , 10.69203 ,\n",
       "       12.427645, 15.305615, 19.217949, 23.803886], dtype=float32)>"
      ]
     },
     "execution_count": 54,
     "metadata": {},
     "output_type": "execute_result"
    }
   ],
   "source": [
    "mae = tf.metrics.mean_absolute_error(y_true = y_test, y_pred=y_pred)\n",
    "mae"
   ]
  },
  {
   "cell_type": "markdown",
   "id": "1cd1446f",
   "metadata": {},
   "source": [
    "The result above does not make sense, because the result should be scalar, not an array . Let us observe y_test and y_pred to understand what is going on in the data."
   ]
  },
  {
   "cell_type": "code",
   "execution_count": 55,
   "id": "75792e15",
   "metadata": {},
   "outputs": [
    {
     "data": {
      "text/plain": [
       "<tf.Tensor: shape=(10,), dtype=int32, numpy=array([ 70,  74,  78,  82,  86,  90,  94,  98, 102, 106])>"
      ]
     },
     "execution_count": 55,
     "metadata": {},
     "output_type": "execute_result"
    }
   ],
   "source": [
    "y_test"
   ]
  },
  {
   "cell_type": "code",
   "execution_count": 56,
   "id": "12019b8c",
   "metadata": {},
   "outputs": [
    {
     "data": {
      "text/plain": [
       "array([[ 70.53047 ],\n",
       "       [ 75.11641 ],\n",
       "       [ 79.70234 ],\n",
       "       [ 84.288284],\n",
       "       [ 88.874214],\n",
       "       [ 93.46015 ],\n",
       "       [ 98.046074],\n",
       "       [102.63202 ],\n",
       "       [107.21795 ],\n",
       "       [111.80389 ]], dtype=float32)"
      ]
     },
     "execution_count": 56,
     "metadata": {},
     "output_type": "execute_result"
    }
   ],
   "source": [
    "y_pred"
   ]
  },
  {
   "cell_type": "code",
   "execution_count": 57,
   "id": "af13faf2",
   "metadata": {},
   "outputs": [
    {
     "data": {
      "text/plain": [
       "(10, 1)"
      ]
     },
     "execution_count": 57,
     "metadata": {},
     "output_type": "execute_result"
    }
   ],
   "source": [
    "y_pred.shape"
   ]
  },
  {
   "cell_type": "markdown",
   "id": "12d65db9",
   "metadata": {},
   "source": [
    "y_pred has one more dimension than y_test, so we need to remove its last dimension in order to have the same dimension for the two of them."
   ]
  },
  {
   "cell_type": "code",
   "execution_count": 58,
   "id": "17da45da",
   "metadata": {},
   "outputs": [
    {
     "data": {
      "text/plain": [
       "<tf.Tensor: shape=(10,), dtype=float32, numpy=\n",
       "array([ 70.53047 ,  75.11641 ,  79.70234 ,  84.288284,  88.874214,\n",
       "        93.46015 ,  98.046074, 102.63202 , 107.21795 , 111.80389 ],\n",
       "      dtype=float32)>"
      ]
     },
     "execution_count": 58,
     "metadata": {},
     "output_type": "execute_result"
    }
   ],
   "source": [
    "# remove the last dimension from y_pred\n",
    "tf.squeeze(y_pred)"
   ]
  },
  {
   "cell_type": "code",
   "execution_count": 59,
   "id": "1e73ed10",
   "metadata": {},
   "outputs": [
    {
     "data": {
      "text/plain": [
       "<tf.Tensor: shape=(), dtype=float32, numpy=3.1671798>"
      ]
     },
     "execution_count": 59,
     "metadata": {},
     "output_type": "execute_result"
    }
   ],
   "source": [
    "mae = tf.metrics.mean_absolute_error(y_true=y_test, y_pred = tf.squeeze(y_pred))\n",
    "mae"
   ]
  },
  {
   "cell_type": "markdown",
   "id": "b0ad45e6",
   "metadata": {},
   "source": [
    "The MAE manually computed here is the same as the one computed automatically before."
   ]
  },
  {
   "cell_type": "markdown",
   "id": "3cf402e6",
   "metadata": {},
   "source": [
    "#### Manually calculate the MSE (as an exercise)"
   ]
  },
  {
   "cell_type": "code",
   "execution_count": 60,
   "id": "c90b3e84",
   "metadata": {},
   "outputs": [
    {
     "data": {
      "text/plain": [
       "<tf.Tensor: shape=(10,), dtype=float32, numpy=\n",
       "array([437.1844 , 297.9869 , 200.85117, 145.77682, 132.76425, 161.81326,\n",
       "       232.92361, 346.096  , 501.32953, 698.62506], dtype=float32)>"
      ]
     },
     "execution_count": 60,
     "metadata": {},
     "output_type": "execute_result"
    }
   ],
   "source": [
    "mse = tf.metrics.mean_squared_error(y_true=y_test, y_pred=y_pred)\n",
    "mse"
   ]
  },
  {
   "cell_type": "markdown",
   "id": "422c2ed0",
   "metadata": {},
   "source": [
    "We have the same situation as when manually calculing MAE. We will use `tf.squeeze()` to solve the issue."
   ]
  },
  {
   "cell_type": "code",
   "execution_count": 61,
   "id": "98097d29",
   "metadata": {},
   "outputs": [
    {
     "data": {
      "text/plain": [
       "<tf.Tensor: shape=(), dtype=float32, numpy=12.863413>"
      ]
     },
     "execution_count": 61,
     "metadata": {},
     "output_type": "execute_result"
    }
   ],
   "source": [
    "mse = tf.metrics.mean_squared_error(y_true=y_test, y_pred= tf.squeeze(y_pred) )\n",
    "mse"
   ]
  },
  {
   "cell_type": "markdown",
   "id": "cc16b67b",
   "metadata": {},
   "source": [
    "MSE will typically be higher than MAE because, if we look at their formula, there is a square operation in MSE."
   ]
  },
  {
   "cell_type": "code",
   "execution_count": null,
   "id": "804b9b8b",
   "metadata": {},
   "outputs": [],
   "source": []
  },
  {
   "cell_type": "markdown",
   "id": "dcfe3cf7",
   "metadata": {},
   "source": [
    "#### Define a function for MAE and MSE\n",
    "It is so that the two of them can be used later"
   ]
  },
  {
   "cell_type": "code",
   "execution_count": 62,
   "id": "12fde13f",
   "metadata": {},
   "outputs": [],
   "source": [
    "def mae(y_true, y_pred):\n",
    "    return tf.metrics.mean_absolute_error(y_true=y_true, y_pred = y_pred)\n",
    "\n",
    "def mse(y_true, y_pred):\n",
    "    return tf.metrics.mean_squared_error(y_true=y_test, y_pred=y_pred)"
   ]
  },
  {
   "cell_type": "code",
   "execution_count": null,
   "id": "84618df1",
   "metadata": {},
   "outputs": [],
   "source": []
  },
  {
   "cell_type": "markdown",
   "id": "970c90c1",
   "metadata": {},
   "source": [
    "### Running experiments to improve a model\n",
    "\n",
    "So far :\n",
    "* some predictions where made with a trained model, \n",
    "* the predictions where compared to test data set, and the comparaison was visualized,\n",
    "* the predictions where where evaluated with regression evaluation metrics, such as MAE and MSE.\n",
    "\n",
    "The next question is : \"**How do we get the error values lower ?** (How do we minimize the difference between the model's predictions and the test labels)\". \n",
    "\n",
    "Remembering the workflow discussed before : `Build a model -> fit it -> evaluate it -> tweak it -> fit it -> tweak it -> ... `\n",
    "\n",
    "If the Machine Learning explorer's motto is `visualize, visualize, visualize`, in other words :\n",
    "* Visualizing our data\n",
    "* Visualizing our model\n",
    "* Visualizing our training\n",
    "* Visualizing our prediction\n",
    "\n",
    "Then, the Machine Learning practitioner's motto is `experiment, experiment, experiment, ...`. That is what we are going to do : try to run a few series of experiments to see if we can improve our model following the above mentioned workflow.\n",
    "\n",
    "Recalling some ways that we can improve our model :\n",
    "1. **Get more data** - get more examples for your model to train on (in other words, more opportunities to learn patterns/relationships between features and labels).\n",
    "1. **Make the model larger** (using a more complex model) -  this might come in the form of more layers, or more hidden units in each layer, or both.\n",
    "1. **Train for longer** - give the model more of a chance to find patterns in the data\n",
    "1. **Review how the model is compiled** - change the optimization function, or learning rate of the optimization function"
   ]
  },
  {
   "cell_type": "code",
   "execution_count": 63,
   "id": "5dab5076",
   "metadata": {},
   "outputs": [
    {
     "data": {
      "text/plain": [
       "(<tf.Tensor: shape=(40,), dtype=int32, numpy=\n",
       " array([-100,  -96,  -92,  -88,  -84,  -80,  -76,  -72,  -68,  -64,  -60,\n",
       "         -56,  -52,  -48,  -44,  -40,  -36,  -32,  -28,  -24,  -20,  -16,\n",
       "         -12,   -8,   -4,    0,    4,    8,   12,   16,   20,   24,   28,\n",
       "          32,   36,   40,   44,   48,   52,   56])>,\n",
       " <tf.Tensor: shape=(40,), dtype=int32, numpy=\n",
       " array([-90, -86, -82, -78, -74, -70, -66, -62, -58, -54, -50, -46, -42,\n",
       "        -38, -34, -30, -26, -22, -18, -14, -10,  -6,  -2,   2,   6,  10,\n",
       "         14,  18,  22,  26,  30,  34,  38,  42,  46,  50,  54,  58,  62,\n",
       "         66])>)"
      ]
     },
     "execution_count": 63,
     "metadata": {},
     "output_type": "execute_result"
    }
   ],
   "source": [
    "# Recalling our dataset\n",
    "X_train, y_train"
   ]
  },
  {
   "cell_type": "markdown",
   "id": "3676c1da",
   "metadata": {},
   "source": [
    "The question now is `Looking at our datas, how can we improve our model ?`. Let us review our options :   \n",
    "\n",
    "1. Get more data ? We can't really get more data unless we just artificially make our datasest bigger, so this option is ruled out.\n",
    "1. Make the model larger ? Yes we can\n",
    "1. Train for longer ? Yes, we can\n",
    "1. Review how the model is compiled ? Yes we can\n",
    "\n",
    "In regard for this, let's design 03 experiments that we could do: \n",
    "1. `model_1` - same as the original model, 1 layer, trained for 100 epochs.\n",
    "1. `model_2` - 2 layers, trained for 100 epochs.\n",
    "1. `model_3` - 2 layers, trained for 500 epochs.\n",
    "\n",
    "The mindset of a Machine Learning practitioner is to start with a baseline model, and then change one of the parameters for his next experiment, then do the same for the next experiment, and so on."
   ]
  },
  {
   "cell_type": "code",
   "execution_count": null,
   "id": "603a60ba",
   "metadata": {},
   "outputs": [],
   "source": []
  },
  {
   "cell_type": "markdown",
   "id": "3c6d23e7",
   "metadata": {},
   "source": [
    "**Creating model_1**: 1 layer, trained for 100 epochs"
   ]
  },
  {
   "cell_type": "code",
   "execution_count": 64,
   "id": "99dd78e1",
   "metadata": {},
   "outputs": [
    {
     "name": "stdout",
     "output_type": "stream",
     "text": [
      "Epoch 1/100\n",
      "2/2 [==============================] - 0s 4ms/step - loss: 9.9089 - mae: 9.9089\n",
      "Epoch 2/100\n",
      "2/2 [==============================] - 0s 4ms/step - loss: 10.8289 - mae: 10.8289\n",
      "Epoch 3/100\n",
      "2/2 [==============================] - 0s 6ms/step - loss: 16.3626 - mae: 16.3626\n",
      "Epoch 4/100\n",
      "2/2 [==============================] - 0s 5ms/step - loss: 8.7254 - mae: 8.7254\n",
      "Epoch 5/100\n",
      "2/2 [==============================] - 0s 3ms/step - loss: 10.7862 - mae: 10.7862\n",
      "Epoch 6/100\n",
      "2/2 [==============================] - 0s 4ms/step - loss: 9.9737 - mae: 9.9737\n",
      "Epoch 7/100\n",
      "2/2 [==============================] - 0s 3ms/step - loss: 9.0239 - mae: 9.0239\n",
      "Epoch 8/100\n",
      "2/2 [==============================] - 0s 2ms/step - loss: 9.0775 - mae: 9.0775\n",
      "Epoch 9/100\n",
      "2/2 [==============================] - 0s 4ms/step - loss: 19.8968 - mae: 19.8968\n",
      "Epoch 10/100\n",
      "2/2 [==============================] - 0s 3ms/step - loss: 10.7475 - mae: 10.7475\n",
      "Epoch 11/100\n",
      "2/2 [==============================] - 0s 3ms/step - loss: 8.6513 - mae: 8.6513\n",
      "Epoch 12/100\n",
      "2/2 [==============================] - 0s 2ms/step - loss: 9.6370 - mae: 9.6370\n",
      "Epoch 13/100\n",
      "2/2 [==============================] - 0s 2ms/step - loss: 12.9809 - mae: 12.9809\n",
      "Epoch 14/100\n",
      "2/2 [==============================] - 0s 3ms/step - loss: 14.1925 - mae: 14.1925\n",
      "Epoch 15/100\n",
      "2/2 [==============================] - 0s 5ms/step - loss: 11.5954 - mae: 11.5954\n",
      "Epoch 16/100\n",
      "2/2 [==============================] - 0s 3ms/step - loss: 8.4786 - mae: 8.4786\n",
      "Epoch 17/100\n",
      "2/2 [==============================] - 0s 3ms/step - loss: 13.4986 - mae: 13.4986\n",
      "Epoch 18/100\n",
      "2/2 [==============================] - 0s 3ms/step - loss: 11.2938 - mae: 11.2938\n",
      "Epoch 19/100\n",
      "2/2 [==============================] - 0s 3ms/step - loss: 18.1114 - mae: 18.1114\n",
      "Epoch 20/100\n",
      "2/2 [==============================] - 0s 4ms/step - loss: 15.2445 - mae: 15.2445\n",
      "Epoch 21/100\n",
      "2/2 [==============================] - 0s 5ms/step - loss: 11.1831 - mae: 11.1831\n",
      "Epoch 22/100\n",
      "2/2 [==============================] - 0s 2ms/step - loss: 8.3260 - mae: 8.3260\n",
      "Epoch 23/100\n",
      "2/2 [==============================] - 0s 3ms/step - loss: 9.9394 - mae: 9.9394\n",
      "Epoch 24/100\n",
      "2/2 [==============================] - 0s 4ms/step - loss: 15.7679 - mae: 15.7679\n",
      "Epoch 25/100\n",
      "2/2 [==============================] - 0s 2ms/step - loss: 12.1935 - mae: 12.1935\n",
      "Epoch 26/100\n",
      "2/2 [==============================] - 0s 2ms/step - loss: 13.3352 - mae: 13.3352\n",
      "Epoch 27/100\n",
      "2/2 [==============================] - 0s 4ms/step - loss: 10.7595 - mae: 10.7595\n",
      "Epoch 28/100\n",
      "2/2 [==============================] - 0s 2ms/step - loss: 13.0347 - mae: 13.0347\n",
      "Epoch 29/100\n",
      "2/2 [==============================] - 0s 4ms/step - loss: 9.5362 - mae: 9.5362\n",
      "Epoch 30/100\n",
      "2/2 [==============================] - 0s 3ms/step - loss: 16.6461 - mae: 16.6461\n",
      "Epoch 31/100\n",
      "2/2 [==============================] - 0s 4ms/step - loss: 23.3630 - mae: 23.3630\n",
      "Epoch 32/100\n",
      "2/2 [==============================] - 0s 3ms/step - loss: 7.3570 - mae: 7.3570\n",
      "Epoch 33/100\n",
      "2/2 [==============================] - 0s 3ms/step - loss: 9.7651 - mae: 9.7651\n",
      "Epoch 34/100\n",
      "2/2 [==============================] - 0s 4ms/step - loss: 12.1794 - mae: 12.1794\n",
      "Epoch 35/100\n",
      "2/2 [==============================] - 0s 3ms/step - loss: 11.4506 - mae: 11.4506\n",
      "Epoch 36/100\n",
      "2/2 [==============================] - 0s 2ms/step - loss: 12.5895 - mae: 12.5895\n",
      "Epoch 37/100\n",
      "2/2 [==============================] - 0s 4ms/step - loss: 9.5275 - mae: 9.5275\n",
      "Epoch 38/100\n",
      "2/2 [==============================] - 0s 3ms/step - loss: 10.2263 - mae: 10.2263\n",
      "Epoch 39/100\n",
      "2/2 [==============================] - 0s 3ms/step - loss: 16.0941 - mae: 16.0941\n",
      "Epoch 40/100\n",
      "2/2 [==============================] - 0s 4ms/step - loss: 13.8435 - mae: 13.8435\n",
      "Epoch 41/100\n",
      "2/2 [==============================] - 0s 2ms/step - loss: 9.7281 - mae: 9.7281\n",
      "Epoch 42/100\n",
      "2/2 [==============================] - 0s 3ms/step - loss: 10.6985 - mae: 10.6985\n",
      "Epoch 43/100\n",
      "2/2 [==============================] - 0s 2ms/step - loss: 7.3167 - mae: 7.3167\n",
      "Epoch 44/100\n",
      "2/2 [==============================] - 0s 4ms/step - loss: 9.3990 - mae: 9.3990\n",
      "Epoch 45/100\n",
      "2/2 [==============================] - 0s 3ms/step - loss: 9.9940 - mae: 9.9940\n",
      "Epoch 46/100\n",
      "2/2 [==============================] - 0s 3ms/step - loss: 9.1016 - mae: 9.1016\n",
      "Epoch 47/100\n",
      "2/2 [==============================] - 0s 3ms/step - loss: 7.3432 - mae: 7.3432\n",
      "Epoch 48/100\n",
      "2/2 [==============================] - 0s 3ms/step - loss: 9.5767 - mae: 9.5767\n",
      "Epoch 49/100\n",
      "2/2 [==============================] - 0s 3ms/step - loss: 10.4419 - mae: 10.4419\n",
      "Epoch 50/100\n",
      "2/2 [==============================] - 0s 2ms/step - loss: 14.4663 - mae: 14.4663\n",
      "Epoch 51/100\n",
      "2/2 [==============================] - 0s 3ms/step - loss: 9.3779 - mae: 9.3779\n",
      "Epoch 52/100\n",
      "2/2 [==============================] - 0s 3ms/step - loss: 14.1114 - mae: 14.1114\n",
      "Epoch 53/100\n",
      "2/2 [==============================] - 0s 3ms/step - loss: 15.3484 - mae: 15.3484\n",
      "Epoch 54/100\n",
      "2/2 [==============================] - 0s 3ms/step - loss: 10.8714 - mae: 10.8714\n",
      "Epoch 55/100\n",
      "2/2 [==============================] - 0s 2ms/step - loss: 15.3768 - mae: 15.3768\n",
      "Epoch 56/100\n",
      "2/2 [==============================] - 0s 2ms/step - loss: 9.0769 - mae: 9.0769\n",
      "Epoch 57/100\n",
      "2/2 [==============================] - 0s 4ms/step - loss: 9.7104 - mae: 9.7104\n",
      "Epoch 58/100\n",
      "2/2 [==============================] - 0s 2ms/step - loss: 9.0085 - mae: 9.0085\n",
      "Epoch 59/100\n",
      "2/2 [==============================] - 0s 3ms/step - loss: 10.2562 - mae: 10.2562\n",
      "Epoch 60/100\n",
      "2/2 [==============================] - 0s 2ms/step - loss: 8.1421 - mae: 8.1421\n",
      "Epoch 61/100\n",
      "2/2 [==============================] - 0s 4ms/step - loss: 9.9935 - mae: 9.9935\n",
      "Epoch 62/100\n",
      "2/2 [==============================] - 0s 3ms/step - loss: 7.0565 - mae: 7.0565\n",
      "Epoch 63/100\n",
      "2/2 [==============================] - 0s 3ms/step - loss: 8.5487 - mae: 8.5487\n",
      "Epoch 64/100\n",
      "2/2 [==============================] - 0s 3ms/step - loss: 11.0703 - mae: 11.0703\n",
      "Epoch 65/100\n",
      "2/2 [==============================] - 0s 3ms/step - loss: 12.3976 - mae: 12.3976\n",
      "Epoch 66/100\n",
      "2/2 [==============================] - 0s 3ms/step - loss: 12.9423 - mae: 12.9423\n",
      "Epoch 67/100\n",
      "2/2 [==============================] - 0s 3ms/step - loss: 7.8065 - mae: 7.8065\n",
      "Epoch 68/100\n",
      "2/2 [==============================] - 0s 4ms/step - loss: 11.2322 - mae: 11.2322\n",
      "Epoch 69/100\n",
      "2/2 [==============================] - 0s 3ms/step - loss: 12.0668 - mae: 12.0668\n",
      "Epoch 70/100\n",
      "2/2 [==============================] - 0s 4ms/step - loss: 9.1568 - mae: 9.1568\n",
      "Epoch 71/100\n",
      "2/2 [==============================] - 0s 3ms/step - loss: 10.1591 - mae: 10.1591\n",
      "Epoch 72/100\n",
      "2/2 [==============================] - 0s 2ms/step - loss: 10.1380 - mae: 10.1380\n",
      "Epoch 73/100\n",
      "2/2 [==============================] - 0s 4ms/step - loss: 12.7482 - mae: 12.7482\n",
      "Epoch 74/100\n",
      "2/2 [==============================] - 0s 3ms/step - loss: 10.8658 - mae: 10.8658\n",
      "Epoch 75/100\n",
      "2/2 [==============================] - 0s 2ms/step - loss: 9.4815 - mae: 9.4815\n",
      "Epoch 76/100\n",
      "2/2 [==============================] - 0s 3ms/step - loss: 10.9252 - mae: 10.9252\n",
      "Epoch 77/100\n",
      "2/2 [==============================] - 0s 2ms/step - loss: 15.0083 - mae: 15.0083\n",
      "Epoch 78/100\n",
      "2/2 [==============================] - 0s 3ms/step - loss: 10.7864 - mae: 10.7864\n",
      "Epoch 79/100\n",
      "2/2 [==============================] - 0s 3ms/step - loss: 15.1035 - mae: 15.1035\n",
      "Epoch 80/100\n",
      "2/2 [==============================] - 0s 3ms/step - loss: 11.8139 - mae: 11.8139\n",
      "Epoch 81/100\n",
      "2/2 [==============================] - 0s 3ms/step - loss: 8.1426 - mae: 8.1426\n",
      "Epoch 82/100\n",
      "2/2 [==============================] - 0s 3ms/step - loss: 9.1096 - mae: 9.1096\n",
      "Epoch 83/100\n",
      "2/2 [==============================] - 0s 3ms/step - loss: 9.2066 - mae: 9.2066\n",
      "Epoch 84/100\n",
      "2/2 [==============================] - 0s 3ms/step - loss: 8.9333 - mae: 8.9333\n",
      "Epoch 85/100\n",
      "2/2 [==============================] - 0s 3ms/step - loss: 13.1682 - mae: 13.1682\n",
      "Epoch 86/100\n",
      "2/2 [==============================] - 0s 3ms/step - loss: 13.7210 - mae: 13.7210\n",
      "Epoch 87/100\n",
      "2/2 [==============================] - 0s 2ms/step - loss: 13.2059 - mae: 13.2059\n",
      "Epoch 88/100\n"
     ]
    },
    {
     "name": "stdout",
     "output_type": "stream",
     "text": [
      "2/2 [==============================] - 0s 2ms/step - loss: 11.5327 - mae: 11.5327\n",
      "Epoch 89/100\n",
      "2/2 [==============================] - 0s 3ms/step - loss: 7.8071 - mae: 7.8071\n",
      "Epoch 90/100\n",
      "2/2 [==============================] - 0s 3ms/step - loss: 10.9455 - mae: 10.9455\n",
      "Epoch 91/100\n",
      "2/2 [==============================] - 0s 3ms/step - loss: 6.7454 - mae: 6.7454\n",
      "Epoch 92/100\n",
      "2/2 [==============================] - 0s 4ms/step - loss: 10.1384 - mae: 10.1384\n",
      "Epoch 93/100\n",
      "2/2 [==============================] - 0s 3ms/step - loss: 7.5956 - mae: 7.5956\n",
      "Epoch 94/100\n",
      "2/2 [==============================] - 0s 3ms/step - loss: 9.2268 - mae: 9.2268\n",
      "Epoch 95/100\n",
      "2/2 [==============================] - 0s 3ms/step - loss: 10.8072 - mae: 10.8072\n",
      "Epoch 96/100\n",
      "2/2 [==============================] - 0s 3ms/step - loss: 10.3121 - mae: 10.3121\n",
      "Epoch 97/100\n",
      "2/2 [==============================] - 0s 4ms/step - loss: 7.6641 - mae: 7.6641\n",
      "Epoch 98/100\n",
      "2/2 [==============================] - 0s 3ms/step - loss: 8.6010 - mae: 8.6010\n",
      "Epoch 99/100\n",
      "2/2 [==============================] - 0s 3ms/step - loss: 9.3776 - mae: 9.3776\n",
      "Epoch 100/100\n",
      "2/2 [==============================] - 0s 2ms/step - loss: 8.8282 - mae: 8.8282\n"
     ]
    }
   ],
   "source": [
    "# Set random seed\n",
    "tf.random.set_seed(42)\n",
    "\n",
    "# 1. Create the model\n",
    "model_1 = tf.keras.Sequential([\n",
    "    tf.keras.layers.Dense(1)\n",
    "])\n",
    "\n",
    "# 2. Compile the model\n",
    "model_1.compile(loss=tf.keras.losses.mae,\n",
    "               optimizer=tf.keras.optimizers.SGD(),\n",
    "               metrics=[\"mae\"])\n",
    "\n",
    "# 3. Fit the model\n",
    "model_1.fit(tf.expand_dims(X_train,axis=-1), y_train, epochs=100);"
   ]
  },
  {
   "cell_type": "code",
   "execution_count": 65,
   "id": "a4bc8d7f",
   "metadata": {},
   "outputs": [
    {
     "name": "stdout",
     "output_type": "stream",
     "text": [
      "WARNING:tensorflow:6 out of the last 7 calls to <function Model.make_predict_function.<locals>.predict_function at 0x000001BB1CE60550> triggered tf.function retracing. Tracing is expensive and the excessive number of tracings could be due to (1) creating @tf.function repeatedly in a loop, (2) passing tensors with different shapes, (3) passing Python objects instead of tensors. For (1), please define your @tf.function outside of the loop. For (2), @tf.function has reduce_retracing=True option that can avoid unnecessary retracing. For (3), please refer to https://www.tensorflow.org/guide/function#controlling_retracing and https://www.tensorflow.org/api_docs/python/tf/function for  more details.\n",
      "1/1 [==============================] - 0s 58ms/step\n"
     ]
    },
    {
     "data": {
      "image/png": "[encoded data removed]",
      "text/plain": [
       "<Figure size 720x504 with 1 Axes>"
      ]
     },
     "metadata": {
      "needs_background": "light"
     },
     "output_type": "display_data"
    }
   ],
   "source": [
    "# Make and plot predictions for model_1\n",
    "y_preds_1 = model_1.predict(tf.expand_dims(X_test,axis=-1))\n",
    "plot_predictions(train_data=X_train,train_labels=y_train,test_data=X_test, test_labels=y_test,predictions=y_preds_1)"
   ]
  },
  {
   "cell_type": "code",
   "execution_count": 66,
   "id": "3ca03c4b",
   "metadata": {},
   "outputs": [
    {
     "data": {
      "text/plain": [
       "(<tf.Tensor: shape=(), dtype=float32, numpy=8.574349>,\n",
       " <tf.Tensor: shape=(), dtype=float32, numpy=79.98854>)"
      ]
     },
     "execution_count": 66,
     "metadata": {},
     "output_type": "execute_result"
    }
   ],
   "source": [
    "# Calculate model_1 evaluation metrics\n",
    "mae_1 = mae(y_test, tf.squeeze(y_preds_1))\n",
    "mse_1 = mse(y_test, tf.squeeze(y_preds_1))\n",
    "mae_1, mse_1"
   ]
  },
  {
   "cell_type": "code",
   "execution_count": null,
   "id": "9a1be0e4",
   "metadata": {},
   "outputs": [],
   "source": []
  },
  {
   "cell_type": "markdown",
   "id": "a70ad7e6",
   "metadata": {},
   "source": [
    "**Creating model_2**: 2 dense layers, trained for 100 epochs"
   ]
  },
  {
   "cell_type": "code",
   "execution_count": 67,
   "id": "cbb34ae4",
   "metadata": {},
   "outputs": [
    {
     "name": "stdout",
     "output_type": "stream",
     "text": [
      "Epoch 1/100\n",
      "2/2 [==============================] - 0s 3ms/step - loss: 32.7739 - mse: 1501.6462\n",
      "Epoch 2/100\n",
      "2/2 [==============================] - 0s 3ms/step - loss: 27.5801 - mse: 983.6060\n",
      "Epoch 3/100\n",
      "2/2 [==============================] - 0s 4ms/step - loss: 32.4363 - mse: 1586.9381\n",
      "Epoch 4/100\n",
      "2/2 [==============================] - 0s 4ms/step - loss: 28.7658 - mse: 1225.9581\n",
      "Epoch 5/100\n",
      "2/2 [==============================] - 0s 4ms/step - loss: 15.5975 - mse: 315.7090\n",
      "Epoch 6/100\n",
      "2/2 [==============================] - 0s 3ms/step - loss: 12.3654 - mse: 194.2758\n",
      "Epoch 7/100\n",
      "2/2 [==============================] - 0s 4ms/step - loss: 11.6341 - mse: 165.7941\n",
      "Epoch 8/100\n",
      "2/2 [==============================] - 0s 4ms/step - loss: 12.0263 - mse: 196.3838\n",
      "Epoch 9/100\n",
      "2/2 [==============================] - 0s 3ms/step - loss: 37.5215 - mse: 2166.8442\n",
      "Epoch 10/100\n",
      "2/2 [==============================] - 0s 2ms/step - loss: 25.1853 - mse: 889.6721\n",
      "Epoch 11/100\n",
      "2/2 [==============================] - 0s 3ms/step - loss: 10.2480 - mse: 146.5827\n",
      "Epoch 12/100\n",
      "2/2 [==============================] - 0s 2ms/step - loss: 25.4173 - mse: 899.2952\n",
      "Epoch 13/100\n",
      "2/2 [==============================] - 0s 4ms/step - loss: 16.8157 - mse: 389.9117\n",
      "Epoch 14/100\n",
      "2/2 [==============================] - 0s 3ms/step - loss: 25.6059 - mse: 1021.2109\n",
      "Epoch 15/100\n",
      "2/2 [==============================] - 0s 2ms/step - loss: 17.4933 - mse: 423.2643\n",
      "Epoch 16/100\n",
      "2/2 [==============================] - 0s 3ms/step - loss: 10.0213 - mse: 124.4980\n",
      "Epoch 17/100\n",
      "2/2 [==============================] - 0s 4ms/step - loss: 18.5184 - mse: 458.0884\n",
      "Epoch 18/100\n",
      "2/2 [==============================] - 0s 3ms/step - loss: 11.3532 - mse: 199.2898\n",
      "Epoch 19/100\n",
      "2/2 [==============================] - 0s 2ms/step - loss: 13.9401 - mse: 302.6829\n",
      "Epoch 20/100\n",
      "2/2 [==============================] - 0s 3ms/step - loss: 11.1970 - mse: 146.2631\n",
      "Epoch 21/100\n",
      "2/2 [==============================] - 0s 2ms/step - loss: 17.2618 - mse: 421.8928\n",
      "Epoch 22/100\n",
      "2/2 [==============================] - 0s 3ms/step - loss: 15.4990 - mse: 330.9263\n",
      "Epoch 23/100\n",
      "2/2 [==============================] - 0s 4ms/step - loss: 9.2355 - mse: 118.5195\n",
      "Epoch 24/100\n",
      "2/2 [==============================] - 0s 3ms/step - loss: 17.2666 - mse: 408.6254\n",
      "Epoch 25/100\n",
      "2/2 [==============================] - 0s 3ms/step - loss: 15.9382 - mse: 333.8068\n",
      "Epoch 26/100\n",
      "2/2 [==============================] - 0s 4ms/step - loss: 20.9332 - mse: 649.4471\n",
      "Epoch 27/100\n",
      "2/2 [==============================] - 0s 2ms/step - loss: 25.9565 - mse: 1051.0980\n",
      "Epoch 28/100\n",
      "2/2 [==============================] - 0s 3ms/step - loss: 18.4548 - mse: 539.0270\n",
      "Epoch 29/100\n",
      "2/2 [==============================] - 0s 4ms/step - loss: 9.2376 - mse: 97.5884\n",
      "Epoch 30/100\n",
      "2/2 [==============================] - 0s 3ms/step - loss: 29.0740 - mse: 1509.8234\n",
      "Epoch 31/100\n",
      "2/2 [==============================] - 0s 3ms/step - loss: 52.6566 - mse: 4957.6987\n",
      "Epoch 32/100\n",
      "2/2 [==============================] - 0s 4ms/step - loss: 11.9169 - mse: 206.5975\n",
      "Epoch 33/100\n",
      "2/2 [==============================] - 0s 3ms/step - loss: 15.5095 - mse: 331.4709\n",
      "Epoch 34/100\n",
      "2/2 [==============================] - 0s 3ms/step - loss: 12.6029 - mse: 209.6224\n",
      "Epoch 35/100\n",
      "2/2 [==============================] - 0s 3ms/step - loss: 9.1975 - mse: 91.6475\n",
      "Epoch 36/100\n",
      "2/2 [==============================] - 0s 2ms/step - loss: 16.4986 - mse: 395.7421\n",
      "Epoch 37/100\n",
      "2/2 [==============================] - 0s 2ms/step - loss: 11.0754 - mse: 192.1603\n",
      "Epoch 38/100\n",
      "2/2 [==============================] - 0s 4ms/step - loss: 18.2043 - mse: 436.5304\n",
      "Epoch 39/100\n",
      "2/2 [==============================] - 0s 3ms/step - loss: 19.1369 - mse: 533.1068\n",
      "Epoch 40/100\n",
      "2/2 [==============================] - 0s 2ms/step - loss: 20.4979 - mse: 613.8282\n",
      "Epoch 41/100\n",
      "2/2 [==============================] - 0s 3ms/step - loss: 14.8209 - mse: 275.1445\n",
      "Epoch 42/100\n",
      "2/2 [==============================] - 0s 2ms/step - loss: 12.2136 - mse: 182.9247\n",
      "Epoch 43/100\n",
      "2/2 [==============================] - 0s 3ms/step - loss: 10.6966 - mse: 163.8542\n",
      "Epoch 44/100\n",
      "2/2 [==============================] - 0s 4ms/step - loss: 32.3350 - mse: 1720.1775\n",
      "Epoch 45/100\n",
      "2/2 [==============================] - 0s 3ms/step - loss: 12.4815 - mse: 202.7054\n",
      "Epoch 46/100\n",
      "2/2 [==============================] - 0s 3ms/step - loss: 17.5693 - mse: 462.6080\n",
      "Epoch 47/100\n",
      "2/2 [==============================] - 0s 3ms/step - loss: 15.7331 - mse: 338.4649\n",
      "Epoch 48/100\n",
      "2/2 [==============================] - 0s 3ms/step - loss: 8.3595 - mse: 112.5742\n",
      "Epoch 49/100\n",
      "2/2 [==============================] - 0s 2ms/step - loss: 13.9636 - mse: 268.4776\n",
      "Epoch 50/100\n",
      "2/2 [==============================] - 0s 2ms/step - loss: 12.8086 - mse: 214.7976\n",
      "Epoch 51/100\n",
      "2/2 [==============================] - 0s 4ms/step - loss: 14.8222 - mse: 308.6552\n",
      "Epoch 52/100\n",
      "2/2 [==============================] - 0s 3ms/step - loss: 18.7099 - mse: 528.3344\n",
      "Epoch 53/100\n",
      "2/2 [==============================] - 0s 3ms/step - loss: 24.1457 - mse: 827.0724\n",
      "Epoch 54/100\n",
      "2/2 [==============================] - 0s 3ms/step - loss: 23.2316 - mse: 808.8813\n",
      "Epoch 55/100\n",
      "2/2 [==============================] - 0s 3ms/step - loss: 24.0921 - mse: 873.6906\n",
      "Epoch 56/100\n",
      "2/2 [==============================] - 0s 3ms/step - loss: 11.1753 - mse: 170.9927\n",
      "Epoch 57/100\n",
      "2/2 [==============================] - 0s 3ms/step - loss: 13.1380 - mse: 215.1241\n",
      "Epoch 58/100\n",
      "2/2 [==============================] - 0s 3ms/step - loss: 9.8216 - mse: 106.4868\n",
      "Epoch 59/100\n",
      "2/2 [==============================] - 0s 3ms/step - loss: 13.3311 - mse: 250.9359\n",
      "Epoch 60/100\n",
      "2/2 [==============================] - 0s 3ms/step - loss: 10.8834 - mse: 139.8559\n",
      "Epoch 61/100\n",
      "2/2 [==============================] - 0s 3ms/step - loss: 13.4944 - mse: 243.0090\n",
      "Epoch 62/100\n",
      "2/2 [==============================] - 0s 3ms/step - loss: 17.5502 - mse: 470.1392\n",
      "Epoch 63/100\n",
      "2/2 [==============================] - 0s 3ms/step - loss: 9.1667 - mse: 87.6530\n",
      "Epoch 64/100\n",
      "2/2 [==============================] - 0s 3ms/step - loss: 18.4224 - mse: 493.3168\n",
      "Epoch 65/100\n",
      "2/2 [==============================] - 0s 2ms/step - loss: 10.1228 - mse: 115.2103\n",
      "Epoch 66/100\n",
      "2/2 [==============================] - 0s 4ms/step - loss: 24.2999 - mse: 891.6115\n",
      "Epoch 67/100\n",
      "2/2 [==============================] - 0s 2ms/step - loss: 10.8989 - mse: 143.3129\n",
      "Epoch 68/100\n",
      "2/2 [==============================] - 0s 3ms/step - loss: 10.7773 - mse: 160.0473\n",
      "Epoch 69/100\n",
      "2/2 [==============================] - 0s 4ms/step - loss: 23.2963 - mse: 784.6224\n",
      "Epoch 70/100\n",
      "2/2 [==============================] - 0s 3ms/step - loss: 8.8049 - mse: 143.6108\n",
      "Epoch 71/100\n",
      "2/2 [==============================] - 0s 4ms/step - loss: 15.9636 - mse: 346.9988\n",
      "Epoch 72/100\n",
      "2/2 [==============================] - 0s 3ms/step - loss: 8.1298 - mse: 109.7116\n",
      "Epoch 73/100\n",
      "2/2 [==============================] - 0s 3ms/step - loss: 9.4605 - mse: 153.4116\n",
      "Epoch 74/100\n",
      "2/2 [==============================] - 0s 3ms/step - loss: 28.1427 - mse: 1109.5776\n",
      "Epoch 75/100\n",
      "2/2 [==============================] - 0s 3ms/step - loss: 10.2076 - mse: 145.3996\n",
      "Epoch 76/100\n",
      "2/2 [==============================] - 0s 3ms/step - loss: 13.1605 - mse: 219.5890\n",
      "Epoch 77/100\n",
      "2/2 [==============================] - 0s 3ms/step - loss: 18.4276 - mse: 532.8779\n",
      "Epoch 78/100\n",
      "2/2 [==============================] - 0s 2ms/step - loss: 9.0171 - mse: 91.7148\n",
      "Epoch 79/100\n",
      "2/2 [==============================] - 0s 3ms/step - loss: 23.4833 - mse: 825.2213\n",
      "Epoch 80/100\n",
      "2/2 [==============================] - 0s 3ms/step - loss: 26.1630 - mse: 1052.1075\n",
      "Epoch 81/100\n",
      "2/2 [==============================] - 0s 3ms/step - loss: 11.4101 - mse: 159.2641\n",
      "Epoch 82/100\n",
      "2/2 [==============================] - 0s 4ms/step - loss: 12.4785 - mse: 227.3259\n",
      "Epoch 83/100\n",
      "2/2 [==============================] - 0s 3ms/step - loss: 17.1599 - mse: 383.0643\n",
      "Epoch 84/100\n",
      "2/2 [==============================] - 0s 3ms/step - loss: 6.5837 - mse: 64.2358\n",
      "Epoch 85/100\n",
      "2/2 [==============================] - 0s 3ms/step - loss: 20.3416 - mse: 578.7443\n",
      "Epoch 86/100\n"
     ]
    },
    {
     "name": "stdout",
     "output_type": "stream",
     "text": [
      "2/2 [==============================] - 0s 3ms/step - loss: 10.1732 - mse: 116.2026\n",
      "Epoch 87/100\n",
      "2/2 [==============================] - 0s 3ms/step - loss: 24.3908 - mse: 832.5892\n",
      "Epoch 88/100\n",
      "2/2 [==============================] - 0s 3ms/step - loss: 19.0539 - mse: 515.4528\n",
      "Epoch 89/100\n",
      "2/2 [==============================] - 0s 3ms/step - loss: 7.1610 - mse: 70.0186\n",
      "Epoch 90/100\n",
      "2/2 [==============================] - 0s 3ms/step - loss: 18.2399 - mse: 493.5051\n",
      "Epoch 91/100\n",
      "2/2 [==============================] - 0s 2ms/step - loss: 13.2893 - mse: 255.3381\n",
      "Epoch 92/100\n",
      "2/2 [==============================] - 0s 3ms/step - loss: 14.8338 - mse: 310.1400\n",
      "Epoch 93/100\n",
      "2/2 [==============================] - 0s 2ms/step - loss: 11.6320 - mse: 250.6325\n",
      "Epoch 94/100\n",
      "2/2 [==============================] - 0s 2ms/step - loss: 16.1875 - mse: 370.1980\n",
      "Epoch 95/100\n",
      "2/2 [==============================] - 0s 3ms/step - loss: 15.5298 - mse: 321.2390\n",
      "Epoch 96/100\n",
      "2/2 [==============================] - 0s 3ms/step - loss: 15.0611 - mse: 323.5590\n",
      "Epoch 97/100\n",
      "2/2 [==============================] - 0s 3ms/step - loss: 10.8921 - mse: 188.1767\n",
      "Epoch 98/100\n",
      "2/2 [==============================] - 0s 3ms/step - loss: 14.3512 - mse: 285.9747\n",
      "Epoch 99/100\n",
      "2/2 [==============================] - 0s 4ms/step - loss: 13.3732 - mse: 251.4387\n",
      "Epoch 100/100\n",
      "2/2 [==============================] - 0s 3ms/step - loss: 19.9830 - mse: 583.7805\n"
     ]
    },
    {
     "data": {
      "text/plain": [
       "<keras.callbacks.History at 0x1bb1bcaf130>"
      ]
     },
     "execution_count": 67,
     "metadata": {},
     "output_type": "execute_result"
    }
   ],
   "source": [
    "# Set the random seed\n",
    "tf.random.set_seed(42)\n",
    "\n",
    "# 1. Create the model\n",
    "model_2 = tf.keras.Sequential([\n",
    "    tf.keras.layers.Dense(10, input_shape=[1], name=\"input_layer\"), # the number of unit (10) here is arbitrary, can be \n",
    "                                                                    #   set to anything\n",
    "    tf.keras.layers.Dense(1)\n",
    "])\n",
    "\n",
    "# 2. Compiling the model\n",
    "model_2.compile(loss=tf.keras.losses.mae,\n",
    "               optimizer= tf.keras.optimizers.SGD(),\n",
    "               metrics=[\"mse\"])\n",
    "\n",
    "# 3. Fit the model\n",
    "model_2.fit(X_train, y_train, epochs=100)"
   ]
  },
  {
   "cell_type": "code",
   "execution_count": 68,
   "id": "66520bba",
   "metadata": {},
   "outputs": [
    {
     "data": {
      "text/plain": [
       "<tf.Tensor: shape=(10,), dtype=int32, numpy=array([60, 64, 68, 72, 76, 80, 84, 88, 92, 96])>"
      ]
     },
     "execution_count": 68,
     "metadata": {},
     "output_type": "execute_result"
    }
   ],
   "source": [
    "X_test"
   ]
  },
  {
   "cell_type": "code",
   "execution_count": 69,
   "id": "dd823c5a",
   "metadata": {},
   "outputs": [
    {
     "name": "stdout",
     "output_type": "stream",
     "text": [
      "1/1 [==============================] - 0s 56ms/step\n"
     ]
    },
    {
     "data": {
      "image/png": "[encoded data removed]",
      "text/plain": [
       "<Figure size 720x504 with 1 Axes>"
      ]
     },
     "metadata": {
      "needs_background": "light"
     },
     "output_type": "display_data"
    }
   ],
   "source": [
    "# Make and plot predictions of model_2\n",
    "y_preds_2 = model_2.predict(X_test)\n",
    "plot_predictions(predictions=y_preds_2) #train_data=X_train,train_labels=y_train,test_data=X_test, test_labels=y_test,"
   ]
  },
  {
   "cell_type": "markdown",
   "id": "da9172b2",
   "metadata": {},
   "source": [
    "Our red dots (predictions) are a lot closer to the green dots (test label). This model is much better than the previous one."
   ]
  },
  {
   "cell_type": "code",
   "execution_count": 70,
   "id": "e546497e",
   "metadata": {},
   "outputs": [
    {
     "data": {
      "text/plain": [
       "(<tf.Tensor: shape=(), dtype=float32, numpy=29.754639>,\n",
       " <tf.Tensor: shape=(), dtype=float32, numpy=916.5187>)"
      ]
     },
     "execution_count": 70,
     "metadata": {},
     "output_type": "execute_result"
    }
   ],
   "source": [
    "# Calculate model_2 evaluation metrics\n",
    "mae_2 = mae(y_test, tf.squeeze(y_preds_2))\n",
    "mse_2 = mse(y_test, tf.squeeze(y_preds_2))\n",
    "\n",
    "mae_2, mse_2"
   ]
  },
  {
   "cell_type": "code",
   "execution_count": 71,
   "id": "c8bdb12d",
   "metadata": {},
   "outputs": [
    {
     "data": {
      "text/plain": [
       "(<tf.Tensor: shape=(), dtype=float32, numpy=8.574349>,\n",
       " <tf.Tensor: shape=(), dtype=float32, numpy=79.98854>)"
      ]
     },
     "execution_count": 71,
     "metadata": {},
     "output_type": "execute_result"
    }
   ],
   "source": [
    "# Let's compare the above metrics with mae_1 & mse_1\n",
    "mae_1, mse_1"
   ]
  },
  {
   "cell_type": "markdown",
   "id": "87641eb8",
   "metadata": {},
   "source": [
    "We can confirm that model_2 is doing much better than model_1"
   ]
  },
  {
   "cell_type": "code",
   "execution_count": null,
   "id": "598ee01d",
   "metadata": {},
   "outputs": [],
   "source": []
  },
  {
   "cell_type": "markdown",
   "id": "3ea78437",
   "metadata": {},
   "source": [
    "**Build `model_3`** - 2 layers, trained for 500 epochs   \n",
    "\n",
    "The only thing we will change here, compared to model_2, is the number of epochs."
   ]
  },
  {
   "cell_type": "code",
   "execution_count": 72,
   "id": "53aed91f",
   "metadata": {},
   "outputs": [
    {
     "name": "stdout",
     "output_type": "stream",
     "text": [
      "Epoch 1/500\n",
      "2/2 [==============================] - 0s 4ms/step - loss: 54.8998 - mae: 54.8998\n",
      "Epoch 2/500\n",
      "2/2 [==============================] - 0s 4ms/step - loss: 28.6890 - mae: 28.6890\n",
      "Epoch 3/500\n",
      "2/2 [==============================] - 0s 3ms/step - loss: 32.0201 - mae: 32.0201\n",
      "Epoch 4/500\n",
      "2/2 [==============================] - 0s 3ms/step - loss: 16.9467 - mae: 16.9467\n",
      "Epoch 5/500\n",
      "2/2 [==============================] - 0s 4ms/step - loss: 22.7885 - mae: 22.7885\n",
      "Epoch 6/500\n",
      "2/2 [==============================] - 0s 3ms/step - loss: 11.4912 - mae: 11.4912\n",
      "Epoch 7/500\n",
      "2/2 [==============================] - 0s 2ms/step - loss: 12.5921 - mae: 12.5921\n",
      "Epoch 8/500\n",
      "2/2 [==============================] - 0s 3ms/step - loss: 11.0972 - mae: 11.0972\n",
      "Epoch 9/500\n",
      "2/2 [==============================] - 0s 5ms/step - loss: 40.0173 - mae: 40.0173\n",
      "Epoch 10/500\n",
      "2/2 [==============================] - 0s 3ms/step - loss: 27.4717 - mae: 27.4717\n",
      "Epoch 11/500\n",
      "2/2 [==============================] - 0s 3ms/step - loss: 10.2569 - mae: 10.2569\n",
      "Epoch 12/500\n",
      "2/2 [==============================] - 0s 4ms/step - loss: 25.5059 - mae: 25.5059\n",
      "Epoch 13/500\n",
      "2/2 [==============================] - 0s 3ms/step - loss: 16.8273 - mae: 16.8273\n",
      "Epoch 14/500\n",
      "2/2 [==============================] - 0s 3ms/step - loss: 25.6305 - mae: 25.6305\n",
      "Epoch 15/500\n",
      "2/2 [==============================] - 0s 3ms/step - loss: 17.5117 - mae: 17.5117\n",
      "Epoch 16/500\n",
      "2/2 [==============================] - 0s 3ms/step - loss: 10.0262 - mae: 10.0262\n",
      "Epoch 17/500\n",
      "2/2 [==============================] - 0s 4ms/step - loss: 18.5360 - mae: 18.5360\n",
      "Epoch 18/500\n",
      "2/2 [==============================] - 0s 3ms/step - loss: 11.3613 - mae: 11.3613\n",
      "Epoch 19/500\n",
      "2/2 [==============================] - 0s 4ms/step - loss: 13.9580 - mae: 13.9580\n",
      "Epoch 20/500\n",
      "2/2 [==============================] - 0s 4ms/step - loss: 11.2040 - mae: 11.2040\n",
      "Epoch 21/500\n",
      "2/2 [==============================] - 0s 3ms/step - loss: 17.2829 - mae: 17.2829\n",
      "Epoch 22/500\n",
      "2/2 [==============================] - 0s 3ms/step - loss: 15.5202 - mae: 15.5202\n",
      "Epoch 23/500\n",
      "2/2 [==============================] - 0s 4ms/step - loss: 9.2320 - mae: 9.2320\n",
      "Epoch 24/500\n",
      "2/2 [==============================] - 0s 3ms/step - loss: 17.2560 - mae: 17.2560\n",
      "Epoch 25/500\n",
      "2/2 [==============================] - 0s 2ms/step - loss: 15.9299 - mae: 15.9299\n",
      "Epoch 26/500\n",
      "2/2 [==============================] - 0s 4ms/step - loss: 20.9148 - mae: 20.9148\n",
      "Epoch 27/500\n",
      "2/2 [==============================] - 0s 3ms/step - loss: 25.9967 - mae: 25.9967\n",
      "Epoch 28/500\n",
      "2/2 [==============================] - 0s 2ms/step - loss: 18.4897 - mae: 18.4897\n",
      "Epoch 29/500\n",
      "2/2 [==============================] - 0s 3ms/step - loss: 9.2367 - mae: 9.2367\n",
      "Epoch 30/500\n",
      "2/2 [==============================] - 0s 2ms/step - loss: 29.1134 - mae: 29.1134\n",
      "Epoch 31/500\n",
      "2/2 [==============================] - 0s 3ms/step - loss: 52.7322 - mae: 52.7322\n",
      "Epoch 32/500\n",
      "2/2 [==============================] - 0s 3ms/step - loss: 11.9306 - mae: 11.9306\n",
      "Epoch 33/500\n",
      "2/2 [==============================] - 0s 3ms/step - loss: 15.5351 - mae: 15.5351\n",
      "Epoch 34/500\n",
      "2/2 [==============================] - 0s 3ms/step - loss: 12.6202 - mae: 12.6202\n",
      "Epoch 35/500\n",
      "2/2 [==============================] - 0s 3ms/step - loss: 9.2047 - mae: 9.2047\n",
      "Epoch 36/500\n",
      "2/2 [==============================] - 0s 3ms/step - loss: 16.5335 - mae: 16.5335\n",
      "Epoch 37/500\n",
      "2/2 [==============================] - 0s 4ms/step - loss: 11.0645 - mae: 11.0645\n",
      "Epoch 38/500\n",
      "2/2 [==============================] - 0s 3ms/step - loss: 18.1924 - mae: 18.1924\n",
      "Epoch 39/500\n",
      "2/2 [==============================] - 0s 3ms/step - loss: 19.1260 - mae: 19.1260\n",
      "Epoch 40/500\n",
      "2/2 [==============================] - 0s 4ms/step - loss: 20.4781 - mae: 20.4781\n",
      "Epoch 41/500\n",
      "2/2 [==============================] - 0s 2ms/step - loss: 14.8439 - mae: 14.8439\n",
      "Epoch 42/500\n",
      "2/2 [==============================] - 0s 3ms/step - loss: 12.2312 - mae: 12.2312\n",
      "Epoch 43/500\n",
      "2/2 [==============================] - 0s 3ms/step - loss: 10.7034 - mae: 10.7034\n",
      "Epoch 44/500\n",
      "2/2 [==============================] - 0s 2ms/step - loss: 22.9144 - mae: 22.9144\n",
      "Epoch 45/500\n",
      "2/2 [==============================] - 0s 2ms/step - loss: 10.3509 - mae: 10.3509\n",
      "Epoch 46/500\n",
      "2/2 [==============================] - 0s 3ms/step - loss: 11.7372 - mae: 11.7372\n",
      "Epoch 47/500\n",
      "2/2 [==============================] - 0s 3ms/step - loss: 9.6574 - mae: 9.6574\n",
      "Epoch 48/500\n",
      "2/2 [==============================] - 0s 3ms/step - loss: 17.2678 - mae: 17.2678\n",
      "Epoch 49/500\n",
      "2/2 [==============================] - 0s 3ms/step - loss: 9.5426 - mae: 9.5426\n",
      "Epoch 50/500\n",
      "2/2 [==============================] - 0s 3ms/step - loss: 13.7704 - mae: 13.7704\n",
      "Epoch 51/500\n",
      "2/2 [==============================] - 0s 3ms/step - loss: 11.5739 - mae: 11.5739\n",
      "Epoch 52/500\n",
      "2/2 [==============================] - 0s 3ms/step - loss: 30.4612 - mae: 30.4612\n",
      "Epoch 53/500\n",
      "2/2 [==============================] - 0s 3ms/step - loss: 14.3103 - mae: 14.3103\n",
      "Epoch 54/500\n",
      "2/2 [==============================] - 0s 3ms/step - loss: 23.8994 - mae: 23.8994\n",
      "Epoch 55/500\n",
      "2/2 [==============================] - 0s 3ms/step - loss: 23.1143 - mae: 23.1143\n",
      "Epoch 56/500\n",
      "2/2 [==============================] - 0s 4ms/step - loss: 10.8527 - mae: 10.8527\n",
      "Epoch 57/500\n",
      "2/2 [==============================] - 0s 2ms/step - loss: 12.7068 - mae: 12.7068\n",
      "Epoch 58/500\n",
      "2/2 [==============================] - 0s 3ms/step - loss: 9.5771 - mae: 9.5771\n",
      "Epoch 59/500\n",
      "2/2 [==============================] - 0s 4ms/step - loss: 12.4863 - mae: 12.4863\n",
      "Epoch 60/500\n",
      "2/2 [==============================] - 0s 3ms/step - loss: 11.8961 - mae: 11.8961\n",
      "Epoch 61/500\n",
      "2/2 [==============================] - 0s 3ms/step - loss: 16.9931 - mae: 16.9931\n",
      "Epoch 62/500\n",
      "2/2 [==============================] - 0s 3ms/step - loss: 10.3955 - mae: 10.3955\n",
      "Epoch 63/500\n",
      "2/2 [==============================] - 0s 2ms/step - loss: 10.3475 - mae: 10.3475\n",
      "Epoch 64/500\n",
      "2/2 [==============================] - 0s 3ms/step - loss: 24.2366 - mae: 24.2366\n",
      "Epoch 65/500\n",
      "2/2 [==============================] - 0s 2ms/step - loss: 10.5289 - mae: 10.5289\n",
      "Epoch 66/500\n",
      "2/2 [==============================] - 0s 3ms/step - loss: 21.2474 - mae: 21.2474\n",
      "Epoch 67/500\n",
      "2/2 [==============================] - 0s 3ms/step - loss: 10.5306 - mae: 10.5306\n",
      "Epoch 68/500\n",
      "2/2 [==============================] - 0s 2ms/step - loss: 14.6952 - mae: 14.6952\n",
      "Epoch 69/500\n",
      "2/2 [==============================] - 0s 3ms/step - loss: 10.6675 - mae: 10.6675\n",
      "Epoch 70/500\n",
      "2/2 [==============================] - 0s 2ms/step - loss: 12.7599 - mae: 12.7599\n",
      "Epoch 71/500\n",
      "2/2 [==============================] - 0s 2ms/step - loss: 13.1896 - mae: 13.1896\n",
      "Epoch 72/500\n",
      "2/2 [==============================] - 0s 3ms/step - loss: 19.7784 - mae: 19.7784\n",
      "Epoch 73/500\n",
      "2/2 [==============================] - 0s 3ms/step - loss: 11.2319 - mae: 11.2319\n",
      "Epoch 74/500\n",
      "2/2 [==============================] - 0s 3ms/step - loss: 22.0920 - mae: 22.0920\n",
      "Epoch 75/500\n",
      "2/2 [==============================] - 0s 3ms/step - loss: 6.9289 - mae: 6.9289\n",
      "Epoch 76/500\n",
      "2/2 [==============================] - 0s 4ms/step - loss: 11.4244 - mae: 11.4244\n",
      "Epoch 77/500\n",
      "2/2 [==============================] - 0s 3ms/step - loss: 21.5775 - mae: 21.5775\n",
      "Epoch 78/500\n",
      "2/2 [==============================] - 0s 3ms/step - loss: 18.6076 - mae: 18.6076\n",
      "Epoch 79/500\n",
      "2/2 [==============================] - 0s 3ms/step - loss: 15.9285 - mae: 15.9285\n",
      "Epoch 80/500\n",
      "2/2 [==============================] - 0s 3ms/step - loss: 23.5545 - mae: 23.5545\n",
      "Epoch 81/500\n",
      "2/2 [==============================] - 0s 3ms/step - loss: 10.9511 - mae: 10.9511\n",
      "Epoch 82/500\n",
      "2/2 [==============================] - 0s 3ms/step - loss: 12.7266 - mae: 12.7266\n",
      "Epoch 83/500\n",
      "2/2 [==============================] - 0s 3ms/step - loss: 17.4905 - mae: 17.4905\n",
      "Epoch 84/500\n",
      "2/2 [==============================] - 0s 2ms/step - loss: 7.2816 - mae: 7.2816\n",
      "Epoch 85/500\n",
      "2/2 [==============================] - 0s 3ms/step - loss: 15.0176 - mae: 15.0176\n",
      "Epoch 86/500\n",
      "2/2 [==============================] - 0s 3ms/step - loss: 15.3286 - mae: 15.3286\n",
      "Epoch 87/500\n"
     ]
    },
    {
     "name": "stdout",
     "output_type": "stream",
     "text": [
      "2/2 [==============================] - 0s 4ms/step - loss: 19.1909 - mae: 19.1909\n",
      "Epoch 88/500\n",
      "2/2 [==============================] - 0s 3ms/step - loss: 29.6080 - mae: 29.6080\n",
      "Epoch 89/500\n",
      "2/2 [==============================] - 0s 3ms/step - loss: 10.1490 - mae: 10.1490\n",
      "Epoch 90/500\n",
      "2/2 [==============================] - 0s 2ms/step - loss: 21.3479 - mae: 21.3479\n",
      "Epoch 91/500\n",
      "2/2 [==============================] - 0s 2ms/step - loss: 10.5351 - mae: 10.5351\n",
      "Epoch 92/500\n",
      "2/2 [==============================] - 0s 3ms/step - loss: 18.2403 - mae: 18.2403\n",
      "Epoch 93/500\n",
      "2/2 [==============================] - 0s 2ms/step - loss: 6.8145 - mae: 6.8145\n",
      "Epoch 94/500\n",
      "2/2 [==============================] - 0s 3ms/step - loss: 13.0274 - mae: 13.0274\n",
      "Epoch 95/500\n",
      "2/2 [==============================] - 0s 2ms/step - loss: 18.4321 - mae: 18.4321\n",
      "Epoch 96/500\n",
      "2/2 [==============================] - 0s 3ms/step - loss: 10.3609 - mae: 10.3609\n",
      "Epoch 97/500\n",
      "2/2 [==============================] - 0s 2ms/step - loss: 14.4442 - mae: 14.4442\n",
      "Epoch 98/500\n",
      "2/2 [==============================] - 0s 2ms/step - loss: 6.5764 - mae: 6.5764\n",
      "Epoch 99/500\n",
      "2/2 [==============================] - 0s 4ms/step - loss: 12.5906 - mae: 12.5906\n",
      "Epoch 100/500\n",
      "2/2 [==============================] - 0s 3ms/step - loss: 19.3988 - mae: 19.3988\n",
      "Epoch 101/500\n",
      "2/2 [==============================] - 0s 2ms/step - loss: 16.0832 - mae: 16.0832\n",
      "Epoch 102/500\n",
      "2/2 [==============================] - 0s 3ms/step - loss: 11.1910 - mae: 11.1910\n",
      "Epoch 103/500\n",
      "2/2 [==============================] - 0s 2ms/step - loss: 9.3205 - mae: 9.3205\n",
      "Epoch 104/500\n",
      "2/2 [==============================] - 0s 3ms/step - loss: 24.9831 - mae: 24.9831\n",
      "Epoch 105/500\n",
      "2/2 [==============================] - 0s 4ms/step - loss: 11.9900 - mae: 11.9900\n",
      "Epoch 106/500\n",
      "2/2 [==============================] - 0s 3ms/step - loss: 10.0837 - mae: 10.0837\n",
      "Epoch 107/500\n",
      "2/2 [==============================] - 0s 3ms/step - loss: 22.5500 - mae: 22.5500\n",
      "Epoch 108/500\n",
      "2/2 [==============================] - 0s 3ms/step - loss: 8.1290 - mae: 8.1290\n",
      "Epoch 109/500\n",
      "2/2 [==============================] - 0s 2ms/step - loss: 13.3528 - mae: 13.3528\n",
      "Epoch 110/500\n",
      "2/2 [==============================] - 0s 2ms/step - loss: 7.9785 - mae: 7.9785\n",
      "Epoch 111/500\n",
      "2/2 [==============================] - 0s 4ms/step - loss: 15.7409 - mae: 15.7409\n",
      "Epoch 112/500\n",
      "2/2 [==============================] - 0s 3ms/step - loss: 8.7516 - mae: 8.7516\n",
      "Epoch 113/500\n",
      "2/2 [==============================] - 0s 3ms/step - loss: 22.7093 - mae: 22.7093\n",
      "Epoch 114/500\n",
      "2/2 [==============================] - 0s 2ms/step - loss: 19.0554 - mae: 19.0554\n",
      "Epoch 115/500\n",
      "2/2 [==============================] - 0s 3ms/step - loss: 11.0969 - mae: 11.0969\n",
      "Epoch 116/500\n",
      "2/2 [==============================] - 0s 6ms/step - loss: 23.1610 - mae: 23.1610\n",
      "Epoch 117/500\n",
      "2/2 [==============================] - 0s 3ms/step - loss: 9.5827 - mae: 9.5827\n",
      "Epoch 118/500\n",
      "2/2 [==============================] - 0s 4ms/step - loss: 10.6480 - mae: 10.6480\n",
      "Epoch 119/500\n",
      "2/2 [==============================] - 0s 4ms/step - loss: 8.0433 - mae: 8.0433\n",
      "Epoch 120/500\n",
      "2/2 [==============================] - 0s 3ms/step - loss: 29.4804 - mae: 29.4804\n",
      "Epoch 121/500\n",
      "2/2 [==============================] - 0s 4ms/step - loss: 8.0795 - mae: 8.0795\n",
      "Epoch 122/500\n",
      "2/2 [==============================] - 0s 2ms/step - loss: 28.1341 - mae: 28.1341\n",
      "Epoch 123/500\n",
      "2/2 [==============================] - 0s 4ms/step - loss: 32.6848 - mae: 32.6848\n",
      "Epoch 124/500\n",
      "2/2 [==============================] - 0s 2ms/step - loss: 19.4706 - mae: 19.4706\n",
      "Epoch 125/500\n",
      "2/2 [==============================] - 0s 3ms/step - loss: 9.5616 - mae: 9.5616\n",
      "Epoch 126/500\n",
      "2/2 [==============================] - 0s 3ms/step - loss: 9.6285 - mae: 9.6285\n",
      "Epoch 127/500\n",
      "2/2 [==============================] - 0s 3ms/step - loss: 12.7934 - mae: 12.7934\n",
      "Epoch 128/500\n",
      "2/2 [==============================] - 0s 3ms/step - loss: 13.3367 - mae: 13.3367\n",
      "Epoch 129/500\n",
      "2/2 [==============================] - 0s 3ms/step - loss: 10.1901 - mae: 10.1901\n",
      "Epoch 130/500\n",
      "2/2 [==============================] - 0s 4ms/step - loss: 17.4866 - mae: 17.4866\n",
      "Epoch 131/500\n",
      "2/2 [==============================] - 0s 2ms/step - loss: 9.5079 - mae: 9.5079\n",
      "Epoch 132/500\n",
      "2/2 [==============================] - 0s 2ms/step - loss: 17.3832 - mae: 17.3832\n",
      "Epoch 133/500\n",
      "2/2 [==============================] - 0s 3ms/step - loss: 7.1026 - mae: 7.1026\n",
      "Epoch 134/500\n",
      "2/2 [==============================] - 0s 2ms/step - loss: 23.8447 - mae: 23.8447\n",
      "Epoch 135/500\n",
      "2/2 [==============================] - 0s 2ms/step - loss: 16.6430 - mae: 16.6430\n",
      "Epoch 136/500\n",
      "2/2 [==============================] - 0s 2ms/step - loss: 14.8605 - mae: 14.8605\n",
      "Epoch 137/500\n",
      "2/2 [==============================] - 0s 3ms/step - loss: 23.1315 - mae: 23.1315\n",
      "Epoch 138/500\n",
      "2/2 [==============================] - 0s 4ms/step - loss: 9.1285 - mae: 9.1285\n",
      "Epoch 139/500\n",
      "2/2 [==============================] - 0s 3ms/step - loss: 8.9153 - mae: 8.9153\n",
      "Epoch 140/500\n",
      "2/2 [==============================] - 0s 3ms/step - loss: 16.4452 - mae: 16.4452\n",
      "Epoch 141/500\n",
      "2/2 [==============================] - 0s 4ms/step - loss: 8.4267 - mae: 8.4267\n",
      "Epoch 142/500\n",
      "2/2 [==============================] - 0s 4ms/step - loss: 36.8875 - mae: 36.8875\n",
      "Epoch 143/500\n",
      "2/2 [==============================] - 0s 3ms/step - loss: 25.5329 - mae: 25.5329\n",
      "Epoch 144/500\n",
      "2/2 [==============================] - 0s 3ms/step - loss: 9.5474 - mae: 9.5474\n",
      "Epoch 145/500\n",
      "2/2 [==============================] - 0s 2ms/step - loss: 26.6226 - mae: 26.6226\n",
      "Epoch 146/500\n",
      "2/2 [==============================] - 0s 2ms/step - loss: 8.7094 - mae: 8.7094\n",
      "Epoch 147/500\n",
      "2/2 [==============================] - 0s 3ms/step - loss: 15.6363 - mae: 15.6363\n",
      "Epoch 148/500\n",
      "2/2 [==============================] - 0s 2ms/step - loss: 18.3301 - mae: 18.3301\n",
      "Epoch 149/500\n",
      "2/2 [==============================] - 0s 2ms/step - loss: 8.1880 - mae: 8.1880\n",
      "Epoch 150/500\n",
      "2/2 [==============================] - 0s 3ms/step - loss: 7.4968 - mae: 7.4968\n",
      "Epoch 151/500\n",
      "2/2 [==============================] - 0s 2ms/step - loss: 18.2887 - mae: 18.2887\n",
      "Epoch 152/500\n",
      "2/2 [==============================] - 0s 3ms/step - loss: 10.2837 - mae: 10.2837\n",
      "Epoch 153/500\n",
      "2/2 [==============================] - 0s 4ms/step - loss: 29.5619 - mae: 29.5619\n",
      "Epoch 154/500\n",
      "2/2 [==============================] - 0s 3ms/step - loss: 10.5753 - mae: 10.5753\n",
      "Epoch 155/500\n",
      "2/2 [==============================] - 0s 4ms/step - loss: 15.4715 - mae: 15.4715\n",
      "Epoch 156/500\n",
      "2/2 [==============================] - 0s 3ms/step - loss: 17.0538 - mae: 17.0538\n",
      "Epoch 157/500\n",
      "2/2 [==============================] - 0s 3ms/step - loss: 32.7285 - mae: 32.7285\n",
      "Epoch 158/500\n",
      "2/2 [==============================] - 0s 3ms/step - loss: 10.6842 - mae: 10.6842\n",
      "Epoch 159/500\n",
      "2/2 [==============================] - 0s 3ms/step - loss: 8.8997 - mae: 8.8997\n",
      "Epoch 160/500\n",
      "2/2 [==============================] - 0s 5ms/step - loss: 22.0629 - mae: 22.0629\n",
      "Epoch 161/500\n",
      "2/2 [==============================] - 0s 2ms/step - loss: 11.6895 - mae: 11.6895\n",
      "Epoch 162/500\n",
      "2/2 [==============================] - 0s 3ms/step - loss: 21.5075 - mae: 21.5075\n",
      "Epoch 163/500\n",
      "2/2 [==============================] - 0s 3ms/step - loss: 19.1870 - mae: 19.1870\n",
      "Epoch 164/500\n",
      "2/2 [==============================] - 0s 4ms/step - loss: 10.9822 - mae: 10.9822\n",
      "Epoch 165/500\n",
      "2/2 [==============================] - 0s 2ms/step - loss: 9.6336 - mae: 9.6336\n",
      "Epoch 166/500\n",
      "2/2 [==============================] - 0s 3ms/step - loss: 21.6267 - mae: 21.6267\n",
      "Epoch 167/500\n",
      "2/2 [==============================] - 0s 3ms/step - loss: 26.1954 - mae: 26.1954\n",
      "Epoch 168/500\n",
      "2/2 [==============================] - 0s 2ms/step - loss: 9.8430 - mae: 9.8430\n",
      "Epoch 169/500\n",
      "2/2 [==============================] - 0s 4ms/step - loss: 22.4696 - mae: 22.4696\n",
      "Epoch 170/500\n",
      "2/2 [==============================] - 0s 2ms/step - loss: 10.1690 - mae: 10.1690\n",
      "Epoch 171/500\n",
      "2/2 [==============================] - 0s 2ms/step - loss: 18.0881 - mae: 18.0881\n",
      "Epoch 172/500\n",
      "2/2 [==============================] - 0s 3ms/step - loss: 28.7378 - mae: 28.7378\n",
      "Epoch 173/500\n"
     ]
    },
    {
     "name": "stdout",
     "output_type": "stream",
     "text": [
      "2/2 [==============================] - 0s 3ms/step - loss: 16.4514 - mae: 16.4514\n",
      "Epoch 174/500\n",
      "2/2 [==============================] - 0s 3ms/step - loss: 11.7289 - mae: 11.7289\n",
      "Epoch 175/500\n",
      "2/2 [==============================] - 0s 3ms/step - loss: 27.1620 - mae: 27.1620\n",
      "Epoch 176/500\n",
      "2/2 [==============================] - 0s 2ms/step - loss: 8.7616 - mae: 8.7616\n",
      "Epoch 177/500\n",
      "2/2 [==============================] - 0s 3ms/step - loss: 8.7752 - mae: 8.7752\n",
      "Epoch 178/500\n",
      "2/2 [==============================] - 0s 3ms/step - loss: 16.2335 - mae: 16.2335\n",
      "Epoch 179/500\n",
      "2/2 [==============================] - 0s 3ms/step - loss: 10.3830 - mae: 10.3830\n",
      "Epoch 180/500\n",
      "2/2 [==============================] - 0s 3ms/step - loss: 7.9934 - mae: 7.9934\n",
      "Epoch 181/500\n",
      "2/2 [==============================] - 0s 3ms/step - loss: 17.8091 - mae: 17.8091\n",
      "Epoch 182/500\n",
      "2/2 [==============================] - 0s 2ms/step - loss: 11.2040 - mae: 11.2040\n",
      "Epoch 183/500\n",
      "2/2 [==============================] - 0s 3ms/step - loss: 12.4202 - mae: 12.4202\n",
      "Epoch 184/500\n",
      "2/2 [==============================] - 0s 3ms/step - loss: 27.4420 - mae: 27.4420\n",
      "Epoch 185/500\n",
      "2/2 [==============================] - 0s 3ms/step - loss: 7.5492 - mae: 7.5492\n",
      "Epoch 186/500\n",
      "2/2 [==============================] - 0s 3ms/step - loss: 15.9199 - mae: 15.9199\n",
      "Epoch 187/500\n",
      "2/2 [==============================] - 0s 2ms/step - loss: 8.5937 - mae: 8.5937\n",
      "Epoch 188/500\n",
      "2/2 [==============================] - 0s 4ms/step - loss: 28.9579 - mae: 28.9579\n",
      "Epoch 189/500\n",
      "2/2 [==============================] - 0s 3ms/step - loss: 13.1274 - mae: 13.1274\n",
      "Epoch 190/500\n",
      "2/2 [==============================] - 0s 4ms/step - loss: 18.2646 - mae: 18.2646\n",
      "Epoch 191/500\n",
      "2/2 [==============================] - 0s 3ms/step - loss: 13.6843 - mae: 13.6843\n",
      "Epoch 192/500\n",
      "2/2 [==============================] - 0s 4ms/step - loss: 13.6941 - mae: 13.6941\n",
      "Epoch 193/500\n",
      "2/2 [==============================] - 0s 3ms/step - loss: 28.5389 - mae: 28.5389\n",
      "Epoch 194/500\n",
      "2/2 [==============================] - 0s 4ms/step - loss: 7.1323 - mae: 7.1323\n",
      "Epoch 195/500\n",
      "2/2 [==============================] - 0s 2ms/step - loss: 7.0624 - mae: 7.0624\n",
      "Epoch 196/500\n",
      "2/2 [==============================] - 0s 5ms/step - loss: 21.9447 - mae: 21.9447\n",
      "Epoch 197/500\n",
      "2/2 [==============================] - 0s 3ms/step - loss: 20.9750 - mae: 20.9750\n",
      "Epoch 198/500\n",
      "2/2 [==============================] - 0s 2ms/step - loss: 12.5509 - mae: 12.5509\n",
      "Epoch 199/500\n",
      "2/2 [==============================] - 0s 3ms/step - loss: 18.0220 - mae: 18.0220\n",
      "Epoch 200/500\n",
      "2/2 [==============================] - 0s 3ms/step - loss: 13.8542 - mae: 13.8542\n",
      "Epoch 201/500\n",
      "2/2 [==============================] - 0s 3ms/step - loss: 6.0422 - mae: 6.0422\n",
      "Epoch 202/500\n",
      "2/2 [==============================] - 0s 3ms/step - loss: 22.8723 - mae: 22.8723\n",
      "Epoch 203/500\n",
      "2/2 [==============================] - 0s 2ms/step - loss: 8.9608 - mae: 8.9608\n",
      "Epoch 204/500\n",
      "2/2 [==============================] - 0s 3ms/step - loss: 18.8453 - mae: 18.8453\n",
      "Epoch 205/500\n",
      "2/2 [==============================] - 0s 2ms/step - loss: 9.3671 - mae: 9.3671\n",
      "Epoch 206/500\n",
      "2/2 [==============================] - 0s 3ms/step - loss: 10.4340 - mae: 10.4340\n",
      "Epoch 207/500\n",
      "2/2 [==============================] - 0s 3ms/step - loss: 21.1194 - mae: 21.1194\n",
      "Epoch 208/500\n",
      "2/2 [==============================] - 0s 3ms/step - loss: 16.4835 - mae: 16.4835\n",
      "Epoch 209/500\n",
      "2/2 [==============================] - 0s 2ms/step - loss: 14.3823 - mae: 14.3823\n",
      "Epoch 210/500\n",
      "2/2 [==============================] - 0s 3ms/step - loss: 19.3978 - mae: 19.3978\n",
      "Epoch 211/500\n",
      "2/2 [==============================] - 0s 3ms/step - loss: 10.3159 - mae: 10.3159\n",
      "Epoch 212/500\n",
      "2/2 [==============================] - 0s 3ms/step - loss: 20.1835 - mae: 20.1835\n",
      "Epoch 213/500\n",
      "2/2 [==============================] - 0s 4ms/step - loss: 15.0636 - mae: 15.0636\n",
      "Epoch 214/500\n",
      "2/2 [==============================] - 0s 3ms/step - loss: 14.6054 - mae: 14.6054\n",
      "Epoch 215/500\n",
      "2/2 [==============================] - 0s 3ms/step - loss: 23.3289 - mae: 23.3289\n",
      "Epoch 216/500\n",
      "2/2 [==============================] - 0s 2ms/step - loss: 13.3221 - mae: 13.3221\n",
      "Epoch 217/500\n",
      "2/2 [==============================] - 0s 2ms/step - loss: 9.8364 - mae: 9.8364\n",
      "Epoch 218/500\n",
      "2/2 [==============================] - 0s 3ms/step - loss: 12.5861 - mae: 12.5861\n",
      "Epoch 219/500\n",
      "2/2 [==============================] - 0s 3ms/step - loss: 4.9661 - mae: 4.9661\n",
      "Epoch 220/500\n",
      "2/2 [==============================] - 0s 4ms/step - loss: 7.1370 - mae: 7.1370\n",
      "Epoch 221/500\n",
      "2/2 [==============================] - 0s 4ms/step - loss: 35.3411 - mae: 35.3411\n",
      "Epoch 222/500\n",
      "2/2 [==============================] - 0s 4ms/step - loss: 34.7188 - mae: 34.7188\n",
      "Epoch 223/500\n",
      "2/2 [==============================] - 0s 3ms/step - loss: 8.0100 - mae: 8.0100\n",
      "Epoch 224/500\n",
      "2/2 [==============================] - 0s 4ms/step - loss: 14.7316 - mae: 14.7316\n",
      "Epoch 225/500\n",
      "2/2 [==============================] - 0s 3ms/step - loss: 16.7571 - mae: 16.7571\n",
      "Epoch 226/500\n",
      "2/2 [==============================] - 0s 4ms/step - loss: 15.9680 - mae: 15.9680\n",
      "Epoch 227/500\n",
      "2/2 [==============================] - 0s 3ms/step - loss: 16.2097 - mae: 16.2097\n",
      "Epoch 228/500\n",
      "2/2 [==============================] - 0s 3ms/step - loss: 9.3530 - mae: 9.3530\n",
      "Epoch 229/500\n",
      "2/2 [==============================] - 0s 3ms/step - loss: 18.0259 - mae: 18.0259\n",
      "Epoch 230/500\n",
      "2/2 [==============================] - 0s 2ms/step - loss: 15.5979 - mae: 15.5979\n",
      "Epoch 231/500\n",
      "2/2 [==============================] - 0s 2ms/step - loss: 21.1630 - mae: 21.1630\n",
      "Epoch 232/500\n",
      "2/2 [==============================] - 0s 3ms/step - loss: 25.3814 - mae: 25.3814\n",
      "Epoch 233/500\n",
      "2/2 [==============================] - 0s 3ms/step - loss: 16.4049 - mae: 16.4049\n",
      "Epoch 234/500\n",
      "2/2 [==============================] - 0s 3ms/step - loss: 7.3097 - mae: 7.3097\n",
      "Epoch 235/500\n",
      "2/2 [==============================] - 0s 4ms/step - loss: 17.0523 - mae: 17.0523\n",
      "Epoch 236/500\n",
      "2/2 [==============================] - 0s 3ms/step - loss: 7.1652 - mae: 7.1652\n",
      "Epoch 237/500\n",
      "2/2 [==============================] - 0s 3ms/step - loss: 9.2566 - mae: 9.2566\n",
      "Epoch 238/500\n",
      "2/2 [==============================] - 0s 3ms/step - loss: 8.1310 - mae: 8.1310\n",
      "Epoch 239/500\n",
      "2/2 [==============================] - 0s 2ms/step - loss: 17.1136 - mae: 17.1136\n",
      "Epoch 240/500\n",
      "2/2 [==============================] - 0s 4ms/step - loss: 8.9020 - mae: 8.9020\n",
      "Epoch 241/500\n",
      "2/2 [==============================] - 0s 4ms/step - loss: 13.2181 - mae: 13.2181\n",
      "Epoch 242/500\n",
      "2/2 [==============================] - 0s 3ms/step - loss: 8.8205 - mae: 8.8205\n",
      "Epoch 243/500\n",
      "2/2 [==============================] - 0s 3ms/step - loss: 18.8681 - mae: 18.8681\n",
      "Epoch 244/500\n",
      "2/2 [==============================] - 0s 3ms/step - loss: 14.0465 - mae: 14.0465\n",
      "Epoch 245/500\n",
      "2/2 [==============================] - 0s 2ms/step - loss: 14.6765 - mae: 14.6765\n",
      "Epoch 246/500\n",
      "2/2 [==============================] - 0s 2ms/step - loss: 15.8028 - mae: 15.8028\n",
      "Epoch 247/500\n",
      "2/2 [==============================] - 0s 2ms/step - loss: 17.6782 - mae: 17.6782\n",
      "Epoch 248/500\n",
      "2/2 [==============================] - 0s 3ms/step - loss: 13.2346 - mae: 13.2346\n",
      "Epoch 249/500\n",
      "2/2 [==============================] - 0s 2ms/step - loss: 14.5094 - mae: 14.5094\n",
      "Epoch 250/500\n",
      "2/2 [==============================] - 0s 3ms/step - loss: 23.2300 - mae: 23.2300\n",
      "Epoch 251/500\n",
      "2/2 [==============================] - 0s 3ms/step - loss: 9.3178 - mae: 9.3178\n",
      "Epoch 252/500\n",
      "2/2 [==============================] - 0s 2ms/step - loss: 36.6663 - mae: 36.6663\n",
      "Epoch 253/500\n",
      "2/2 [==============================] - 0s 4ms/step - loss: 21.8325 - mae: 21.8325\n",
      "Epoch 254/500\n",
      "2/2 [==============================] - 0s 4ms/step - loss: 7.2964 - mae: 7.2964\n",
      "Epoch 255/500\n",
      "2/2 [==============================] - 0s 3ms/step - loss: 24.7154 - mae: 24.7154\n",
      "Epoch 256/500\n",
      "2/2 [==============================] - 0s 2ms/step - loss: 12.4351 - mae: 12.4351\n",
      "Epoch 257/500\n",
      "2/2 [==============================] - 0s 3ms/step - loss: 10.5944 - mae: 10.5944\n",
      "Epoch 258/500\n",
      "2/2 [==============================] - 0s 4ms/step - loss: 14.2408 - mae: 14.2408\n"
     ]
    },
    {
     "name": "stdout",
     "output_type": "stream",
     "text": [
      "Epoch 259/500\n",
      "2/2 [==============================] - 0s 2ms/step - loss: 11.2748 - mae: 11.2748\n",
      "Epoch 260/500\n",
      "2/2 [==============================] - 0s 3ms/step - loss: 31.7129 - mae: 31.7129\n",
      "Epoch 261/500\n",
      "2/2 [==============================] - 0s 3ms/step - loss: 11.2037 - mae: 11.2037\n",
      "Epoch 262/500\n",
      "2/2 [==============================] - 0s 4ms/step - loss: 10.0552 - mae: 10.0552\n",
      "Epoch 263/500\n",
      "2/2 [==============================] - 0s 3ms/step - loss: 8.9572 - mae: 8.9572\n",
      "Epoch 264/500\n",
      "2/2 [==============================] - 0s 2ms/step - loss: 21.5906 - mae: 21.5906\n",
      "Epoch 265/500\n",
      "2/2 [==============================] - 0s 3ms/step - loss: 11.4108 - mae: 11.4108\n",
      "Epoch 266/500\n",
      "2/2 [==============================] - 0s 4ms/step - loss: 13.2417 - mae: 13.2417\n",
      "Epoch 267/500\n",
      "2/2 [==============================] - 0s 3ms/step - loss: 11.0537 - mae: 11.0537\n",
      "Epoch 268/500\n",
      "2/2 [==============================] - 0s 2ms/step - loss: 21.6885 - mae: 21.6885\n",
      "Epoch 269/500\n",
      "2/2 [==============================] - 0s 2ms/step - loss: 33.0020 - mae: 33.0020\n",
      "Epoch 270/500\n",
      "2/2 [==============================] - 0s 3ms/step - loss: 9.7621 - mae: 9.7621\n",
      "Epoch 271/500\n",
      "2/2 [==============================] - 0s 3ms/step - loss: 7.7098 - mae: 7.7098\n",
      "Epoch 272/500\n",
      "2/2 [==============================] - 0s 3ms/step - loss: 28.4891 - mae: 28.4891\n",
      "Epoch 273/500\n",
      "2/2 [==============================] - 0s 2ms/step - loss: 7.3983 - mae: 7.3983\n",
      "Epoch 274/500\n",
      "2/2 [==============================] - 0s 3ms/step - loss: 6.3261 - mae: 6.3261\n",
      "Epoch 275/500\n",
      "2/2 [==============================] - 0s 2ms/step - loss: 37.2489 - mae: 37.2489\n",
      "Epoch 276/500\n",
      "2/2 [==============================] - 0s 4ms/step - loss: 8.2918 - mae: 8.2918\n",
      "Epoch 277/500\n",
      "2/2 [==============================] - 0s 3ms/step - loss: 28.0198 - mae: 28.0198\n",
      "Epoch 278/500\n",
      "2/2 [==============================] - 0s 4ms/step - loss: 10.5995 - mae: 10.5995\n",
      "Epoch 279/500\n",
      "2/2 [==============================] - 0s 3ms/step - loss: 16.0469 - mae: 16.0469\n",
      "Epoch 280/500\n",
      "2/2 [==============================] - 0s 2ms/step - loss: 21.1101 - mae: 21.1101\n",
      "Epoch 281/500\n",
      "2/2 [==============================] - 0s 3ms/step - loss: 18.1057 - mae: 18.1057\n",
      "Epoch 282/500\n",
      "2/2 [==============================] - 0s 5ms/step - loss: 6.8763 - mae: 6.8763\n",
      "Epoch 283/500\n",
      "2/2 [==============================] - 0s 4ms/step - loss: 8.0682 - mae: 8.0682\n",
      "Epoch 284/500\n",
      "2/2 [==============================] - 0s 3ms/step - loss: 24.6489 - mae: 24.6489\n",
      "Epoch 285/500\n",
      "2/2 [==============================] - 0s 3ms/step - loss: 13.4694 - mae: 13.4694\n",
      "Epoch 286/500\n",
      "2/2 [==============================] - 0s 2ms/step - loss: 8.5887 - mae: 8.5887\n",
      "Epoch 287/500\n",
      "2/2 [==============================] - 0s 4ms/step - loss: 22.2669 - mae: 22.2669\n",
      "Epoch 288/500\n",
      "2/2 [==============================] - 0s 3ms/step - loss: 23.4951 - mae: 23.4951\n",
      "Epoch 289/500\n",
      "2/2 [==============================] - 0s 3ms/step - loss: 12.0186 - mae: 12.0186\n",
      "Epoch 290/500\n",
      "2/2 [==============================] - 0s 3ms/step - loss: 16.5876 - mae: 16.5876\n",
      "Epoch 291/500\n",
      "2/2 [==============================] - 0s 2ms/step - loss: 16.8663 - mae: 16.8663\n",
      "Epoch 292/500\n",
      "2/2 [==============================] - 0s 3ms/step - loss: 9.4861 - mae: 9.4861\n",
      "Epoch 293/500\n",
      "2/2 [==============================] - 0s 2ms/step - loss: 15.2975 - mae: 15.2975\n",
      "Epoch 294/500\n",
      "2/2 [==============================] - 0s 2ms/step - loss: 22.7817 - mae: 22.7817\n",
      "Epoch 295/500\n",
      "2/2 [==============================] - 0s 3ms/step - loss: 17.7879 - mae: 17.7879\n",
      "Epoch 296/500\n",
      "2/2 [==============================] - 0s 3ms/step - loss: 6.0989 - mae: 6.0989\n",
      "Epoch 297/500\n",
      "2/2 [==============================] - 0s 3ms/step - loss: 10.9565 - mae: 10.9565\n",
      "Epoch 298/500\n",
      "2/2 [==============================] - 0s 3ms/step - loss: 23.2012 - mae: 23.2012\n",
      "Epoch 299/500\n",
      "2/2 [==============================] - 0s 2ms/step - loss: 17.6276 - mae: 17.6276\n",
      "Epoch 300/500\n",
      "2/2 [==============================] - 0s 2ms/step - loss: 6.9408 - mae: 6.9408\n",
      "Epoch 301/500\n",
      "2/2 [==============================] - 0s 3ms/step - loss: 25.0577 - mae: 25.0577\n",
      "Epoch 302/500\n",
      "2/2 [==============================] - 0s 2ms/step - loss: 8.8469 - mae: 8.8469\n",
      "Epoch 303/500\n",
      "2/2 [==============================] - 0s 3ms/step - loss: 17.6773 - mae: 17.6773\n",
      "Epoch 304/500\n",
      "2/2 [==============================] - 0s 3ms/step - loss: 10.9333 - mae: 10.9333\n",
      "Epoch 305/500\n",
      "2/2 [==============================] - 0s 3ms/step - loss: 12.8542 - mae: 12.8542\n",
      "Epoch 306/500\n",
      "2/2 [==============================] - 0s 2ms/step - loss: 8.3544 - mae: 8.3544\n",
      "Epoch 307/500\n",
      "2/2 [==============================] - 0s 2ms/step - loss: 13.5499 - mae: 13.5499\n",
      "Epoch 308/500\n",
      "2/2 [==============================] - 0s 2ms/step - loss: 7.3984 - mae: 7.3984\n",
      "Epoch 309/500\n",
      "2/2 [==============================] - 0s 3ms/step - loss: 9.4228 - mae: 9.4228\n",
      "Epoch 310/500\n",
      "2/2 [==============================] - 0s 3ms/step - loss: 10.6668 - mae: 10.6668\n",
      "Epoch 311/500\n",
      "2/2 [==============================] - 0s 2ms/step - loss: 13.2756 - mae: 13.2756\n",
      "Epoch 312/500\n",
      "2/2 [==============================] - 0s 3ms/step - loss: 29.9846 - mae: 29.9846\n",
      "Epoch 313/500\n",
      "2/2 [==============================] - 0s 4ms/step - loss: 7.5951 - mae: 7.5951\n",
      "Epoch 314/500\n",
      "2/2 [==============================] - 0s 4ms/step - loss: 9.9024 - mae: 9.9024\n",
      "Epoch 315/500\n",
      "2/2 [==============================] - 0s 3ms/step - loss: 23.7688 - mae: 23.7688\n",
      "Epoch 316/500\n",
      "2/2 [==============================] - 0s 3ms/step - loss: 16.3890 - mae: 16.3890\n",
      "Epoch 317/500\n",
      "2/2 [==============================] - 0s 3ms/step - loss: 21.0639 - mae: 21.0639\n",
      "Epoch 318/500\n",
      "2/2 [==============================] - 0s 2ms/step - loss: 7.9143 - mae: 7.9143\n",
      "Epoch 319/500\n",
      "2/2 [==============================] - 0s 3ms/step - loss: 17.9725 - mae: 17.9725\n",
      "Epoch 320/500\n",
      "2/2 [==============================] - 0s 2ms/step - loss: 10.5277 - mae: 10.5277\n",
      "Epoch 321/500\n",
      "2/2 [==============================] - 0s 2ms/step - loss: 6.9299 - mae: 6.9299\n",
      "Epoch 322/500\n",
      "2/2 [==============================] - 0s 5ms/step - loss: 9.2114 - mae: 9.2114\n",
      "Epoch 323/500\n",
      "2/2 [==============================] - 0s 3ms/step - loss: 17.8604 - mae: 17.8604\n",
      "Epoch 324/500\n",
      "2/2 [==============================] - 0s 5ms/step - loss: 15.9477 - mae: 15.9477\n",
      "Epoch 325/500\n",
      "2/2 [==============================] - 0s 3ms/step - loss: 17.6251 - mae: 17.6251\n",
      "Epoch 326/500\n",
      "2/2 [==============================] - 0s 3ms/step - loss: 23.8887 - mae: 23.8887\n",
      "Epoch 327/500\n",
      "2/2 [==============================] - 0s 4ms/step - loss: 10.2580 - mae: 10.2580\n",
      "Epoch 328/500\n",
      "2/2 [==============================] - 0s 3ms/step - loss: 13.1368 - mae: 13.1368\n",
      "Epoch 329/500\n",
      "2/2 [==============================] - 0s 3ms/step - loss: 15.9995 - mae: 15.9995\n",
      "Epoch 330/500\n",
      "2/2 [==============================] - 0s 3ms/step - loss: 14.3332 - mae: 14.3332\n",
      "Epoch 331/500\n",
      "2/2 [==============================] - 0s 2ms/step - loss: 25.7817 - mae: 25.7817\n",
      "Epoch 332/500\n",
      "2/2 [==============================] - 0s 3ms/step - loss: 17.1114 - mae: 17.1114\n",
      "Epoch 333/500\n",
      "2/2 [==============================] - 0s 3ms/step - loss: 8.4488 - mae: 8.4488\n",
      "Epoch 334/500\n",
      "2/2 [==============================] - 0s 3ms/step - loss: 13.3287 - mae: 13.3287\n",
      "Epoch 335/500\n",
      "2/2 [==============================] - 0s 2ms/step - loss: 13.0694 - mae: 13.0694\n",
      "Epoch 336/500\n",
      "2/2 [==============================] - 0s 3ms/step - loss: 32.5747 - mae: 32.5747\n",
      "Epoch 337/500\n",
      "2/2 [==============================] - 0s 3ms/step - loss: 11.1082 - mae: 11.1082\n",
      "Epoch 338/500\n",
      "2/2 [==============================] - 0s 3ms/step - loss: 20.1040 - mae: 20.1040\n",
      "Epoch 339/500\n",
      "2/2 [==============================] - 0s 2ms/step - loss: 33.8908 - mae: 33.8908\n",
      "Epoch 340/500\n",
      "2/2 [==============================] - 0s 3ms/step - loss: 8.5991 - mae: 8.5991\n",
      "Epoch 341/500\n",
      "2/2 [==============================] - 0s 3ms/step - loss: 21.6208 - mae: 21.6208\n",
      "Epoch 342/500\n",
      "2/2 [==============================] - 0s 3ms/step - loss: 14.0386 - mae: 14.0386\n",
      "Epoch 343/500\n",
      "2/2 [==============================] - 0s 4ms/step - loss: 11.5690 - mae: 11.5690\n",
      "Epoch 344/500\n"
     ]
    },
    {
     "name": "stdout",
     "output_type": "stream",
     "text": [
      "2/2 [==============================] - 0s 3ms/step - loss: 10.6553 - mae: 10.6553\n",
      "Epoch 345/500\n",
      "2/2 [==============================] - 0s 3ms/step - loss: 30.8358 - mae: 30.8358\n",
      "Epoch 346/500\n",
      "2/2 [==============================] - 0s 3ms/step - loss: 10.5880 - mae: 10.5880\n",
      "Epoch 347/500\n",
      "2/2 [==============================] - 0s 2ms/step - loss: 25.4582 - mae: 25.4582\n",
      "Epoch 348/500\n",
      "2/2 [==============================] - 0s 3ms/step - loss: 13.5253 - mae: 13.5253\n",
      "Epoch 349/500\n",
      "2/2 [==============================] - 0s 3ms/step - loss: 12.9350 - mae: 12.9350\n",
      "Epoch 350/500\n",
      "2/2 [==============================] - 0s 2ms/step - loss: 15.3580 - mae: 15.3580\n",
      "Epoch 351/500\n",
      "2/2 [==============================] - 0s 3ms/step - loss: 32.8168 - mae: 32.8168\n",
      "Epoch 352/500\n",
      "2/2 [==============================] - 0s 3ms/step - loss: 13.8691 - mae: 13.8691\n",
      "Epoch 353/500\n",
      "2/2 [==============================] - 0s 3ms/step - loss: 15.8729 - mae: 15.8729\n",
      "Epoch 354/500\n",
      "2/2 [==============================] - 0s 3ms/step - loss: 18.9886 - mae: 18.9886\n",
      "Epoch 355/500\n",
      "2/2 [==============================] - 0s 3ms/step - loss: 34.3983 - mae: 34.3983\n",
      "Epoch 356/500\n",
      "2/2 [==============================] - 0s 4ms/step - loss: 8.2986 - mae: 8.2986\n",
      "Epoch 357/500\n",
      "2/2 [==============================] - 0s 4ms/step - loss: 21.9000 - mae: 21.9000\n",
      "Epoch 358/500\n",
      "2/2 [==============================] - 0s 3ms/step - loss: 20.0376 - mae: 20.0376\n",
      "Epoch 359/500\n",
      "2/2 [==============================] - 0s 2ms/step - loss: 11.0313 - mae: 11.0313\n",
      "Epoch 360/500\n",
      "2/2 [==============================] - 0s 3ms/step - loss: 20.2582 - mae: 20.2582\n",
      "Epoch 361/500\n",
      "2/2 [==============================] - 0s 3ms/step - loss: 11.0236 - mae: 11.0236\n",
      "Epoch 362/500\n",
      "2/2 [==============================] - 0s 3ms/step - loss: 6.8012 - mae: 6.8012\n",
      "Epoch 363/500\n",
      "2/2 [==============================] - 0s 5ms/step - loss: 24.0354 - mae: 24.0354\n",
      "Epoch 364/500\n",
      "2/2 [==============================] - 0s 4ms/step - loss: 29.8096 - mae: 29.8096\n",
      "Epoch 365/500\n",
      "2/2 [==============================] - 0s 3ms/step - loss: 8.3485 - mae: 8.3485\n",
      "Epoch 366/500\n",
      "2/2 [==============================] - 0s 2ms/step - loss: 6.0732 - mae: 6.0732\n",
      "Epoch 367/500\n",
      "2/2 [==============================] - 0s 4ms/step - loss: 35.0019 - mae: 35.0019\n",
      "Epoch 368/500\n",
      "2/2 [==============================] - 0s 4ms/step - loss: 7.4054 - mae: 7.4054\n",
      "Epoch 369/500\n",
      "2/2 [==============================] - 0s 3ms/step - loss: 9.2411 - mae: 9.2411\n",
      "Epoch 370/500\n",
      "2/2 [==============================] - 0s 3ms/step - loss: 10.9629 - mae: 10.9629\n",
      "Epoch 371/500\n",
      "2/2 [==============================] - 0s 4ms/step - loss: 9.0251 - mae: 9.0251\n",
      "Epoch 372/500\n",
      "2/2 [==============================] - 0s 3ms/step - loss: 7.6756 - mae: 7.6756\n",
      "Epoch 373/500\n",
      "2/2 [==============================] - 0s 3ms/step - loss: 25.0150 - mae: 25.0150\n",
      "Epoch 374/500\n",
      "2/2 [==============================] - 0s 3ms/step - loss: 13.3158 - mae: 13.3158\n",
      "Epoch 375/500\n",
      "2/2 [==============================] - 0s 4ms/step - loss: 11.8098 - mae: 11.8098\n",
      "Epoch 376/500\n",
      "2/2 [==============================] - 0s 4ms/step - loss: 14.0922 - mae: 14.0922\n",
      "Epoch 377/500\n",
      "2/2 [==============================] - 0s 3ms/step - loss: 15.6760 - mae: 15.6760\n",
      "Epoch 378/500\n",
      "2/2 [==============================] - 0s 4ms/step - loss: 16.9770 - mae: 16.9770\n",
      "Epoch 379/500\n",
      "2/2 [==============================] - 0s 3ms/step - loss: 19.5148 - mae: 19.5148\n",
      "Epoch 380/500\n",
      "2/2 [==============================] - 0s 3ms/step - loss: 15.8790 - mae: 15.8790\n",
      "Epoch 381/500\n",
      "2/2 [==============================] - 0s 3ms/step - loss: 11.4127 - mae: 11.4127\n",
      "Epoch 382/500\n",
      "2/2 [==============================] - 0s 3ms/step - loss: 16.2987 - mae: 16.2987\n",
      "Epoch 383/500\n",
      "2/2 [==============================] - 0s 3ms/step - loss: 22.0348 - mae: 22.0348\n",
      "Epoch 384/500\n",
      "2/2 [==============================] - 0s 3ms/step - loss: 7.8011 - mae: 7.8011\n",
      "Epoch 385/500\n",
      "2/2 [==============================] - 0s 3ms/step - loss: 10.5666 - mae: 10.5666\n",
      "Epoch 386/500\n",
      "2/2 [==============================] - 0s 4ms/step - loss: 19.0107 - mae: 19.0107\n",
      "Epoch 387/500\n",
      "2/2 [==============================] - 0s 3ms/step - loss: 15.4291 - mae: 15.4291\n",
      "Epoch 388/500\n",
      "2/2 [==============================] - 0s 4ms/step - loss: 5.8748 - mae: 5.8748\n",
      "Epoch 389/500\n",
      "2/2 [==============================] - 0s 2ms/step - loss: 18.0315 - mae: 18.0315\n",
      "Epoch 390/500\n",
      "2/2 [==============================] - 0s 3ms/step - loss: 24.7754 - mae: 24.7754\n",
      "Epoch 391/500\n",
      "2/2 [==============================] - 0s 2ms/step - loss: 16.4874 - mae: 16.4874\n",
      "Epoch 392/500\n",
      "2/2 [==============================] - 0s 3ms/step - loss: 8.3654 - mae: 8.3654\n",
      "Epoch 393/500\n",
      "2/2 [==============================] - 0s 3ms/step - loss: 18.1398 - mae: 18.1398\n",
      "Epoch 394/500\n",
      "2/2 [==============================] - 0s 4ms/step - loss: 14.1921 - mae: 14.1921\n",
      "Epoch 395/500\n",
      "2/2 [==============================] - 0s 3ms/step - loss: 28.6720 - mae: 28.6720\n",
      "Epoch 396/500\n",
      "2/2 [==============================] - 0s 3ms/step - loss: 8.1695 - mae: 8.1695\n",
      "Epoch 397/500\n",
      "2/2 [==============================] - 0s 4ms/step - loss: 10.5067 - mae: 10.5067\n",
      "Epoch 398/500\n",
      "2/2 [==============================] - 0s 3ms/step - loss: 7.3526 - mae: 7.3526\n",
      "Epoch 399/500\n",
      "2/2 [==============================] - 0s 3ms/step - loss: 15.6330 - mae: 15.6330\n",
      "Epoch 400/500\n",
      "2/2 [==============================] - 0s 3ms/step - loss: 6.7074 - mae: 6.7074\n",
      "Epoch 401/500\n",
      "2/2 [==============================] - 0s 2ms/step - loss: 8.0088 - mae: 8.0088\n",
      "Epoch 402/500\n",
      "2/2 [==============================] - 0s 4ms/step - loss: 16.4829 - mae: 16.4829\n",
      "Epoch 403/500\n",
      "2/2 [==============================] - 0s 3ms/step - loss: 12.3263 - mae: 12.3263\n",
      "Epoch 404/500\n",
      "2/2 [==============================] - 0s 4ms/step - loss: 22.9000 - mae: 22.9000\n",
      "Epoch 405/500\n",
      "2/2 [==============================] - 0s 3ms/step - loss: 18.1728 - mae: 18.1728\n",
      "Epoch 406/500\n",
      "2/2 [==============================] - 0s 4ms/step - loss: 7.0481 - mae: 7.0481\n",
      "Epoch 407/500\n",
      "2/2 [==============================] - 0s 4ms/step - loss: 12.6939 - mae: 12.6939\n",
      "Epoch 408/500\n",
      "2/2 [==============================] - 0s 3ms/step - loss: 5.6434 - mae: 5.6434\n",
      "Epoch 409/500\n",
      "2/2 [==============================] - 0s 3ms/step - loss: 31.3636 - mae: 31.3636\n",
      "Epoch 410/500\n",
      "2/2 [==============================] - 0s 2ms/step - loss: 9.2083 - mae: 9.2083\n",
      "Epoch 411/500\n",
      "2/2 [==============================] - 0s 3ms/step - loss: 14.8395 - mae: 14.8395\n",
      "Epoch 412/500\n",
      "2/2 [==============================] - 0s 3ms/step - loss: 21.7031 - mae: 21.7031\n",
      "Epoch 413/500\n",
      "2/2 [==============================] - 0s 2ms/step - loss: 12.6706 - mae: 12.6706\n",
      "Epoch 414/500\n",
      "2/2 [==============================] - 0s 5ms/step - loss: 6.0138 - mae: 6.0138\n",
      "Epoch 415/500\n",
      "2/2 [==============================] - 0s 3ms/step - loss: 13.2120 - mae: 13.2120\n",
      "Epoch 416/500\n",
      "2/2 [==============================] - 0s 2ms/step - loss: 27.4085 - mae: 27.4085\n",
      "Epoch 417/500\n",
      "2/2 [==============================] - 0s 2ms/step - loss: 10.6816 - mae: 10.6816\n",
      "Epoch 418/500\n",
      "2/2 [==============================] - 0s 4ms/step - loss: 12.7942 - mae: 12.7942\n",
      "Epoch 419/500\n",
      "2/2 [==============================] - 0s 2ms/step - loss: 15.8513 - mae: 15.8513\n",
      "Epoch 420/500\n",
      "2/2 [==============================] - 0s 3ms/step - loss: 24.7133 - mae: 24.7133\n",
      "Epoch 421/500\n",
      "2/2 [==============================] - 0s 3ms/step - loss: 17.5701 - mae: 17.5701\n",
      "Epoch 422/500\n",
      "2/2 [==============================] - 0s 4ms/step - loss: 8.6820 - mae: 8.6820\n",
      "Epoch 423/500\n",
      "2/2 [==============================] - 0s 2ms/step - loss: 24.8988 - mae: 24.8988\n",
      "Epoch 424/500\n",
      "2/2 [==============================] - 0s 2ms/step - loss: 16.2854 - mae: 16.2854\n",
      "Epoch 425/500\n",
      "2/2 [==============================] - 0s 3ms/step - loss: 7.1237 - mae: 7.1237\n",
      "Epoch 426/500\n",
      "2/2 [==============================] - 0s 3ms/step - loss: 20.3989 - mae: 20.3989\n",
      "Epoch 427/500\n",
      "2/2 [==============================] - 0s 2ms/step - loss: 6.2983 - mae: 6.2983\n",
      "Epoch 428/500\n",
      "2/2 [==============================] - 0s 3ms/step - loss: 13.0622 - mae: 13.0622\n",
      "Epoch 429/500\n",
      "2/2 [==============================] - 0s 3ms/step - loss: 10.8422 - mae: 10.8422\n"
     ]
    },
    {
     "name": "stdout",
     "output_type": "stream",
     "text": [
      "Epoch 430/500\n",
      "2/2 [==============================] - 0s 3ms/step - loss: 11.7069 - mae: 11.7069\n",
      "Epoch 431/500\n",
      "2/2 [==============================] - 0s 3ms/step - loss: 7.8755 - mae: 7.8755\n",
      "Epoch 432/500\n",
      "2/2 [==============================] - 0s 3ms/step - loss: 22.1274 - mae: 22.1274\n",
      "Epoch 433/500\n",
      "2/2 [==============================] - 0s 2ms/step - loss: 5.8783 - mae: 5.8783\n",
      "Epoch 434/500\n",
      "2/2 [==============================] - 0s 2ms/step - loss: 32.6625 - mae: 32.6625\n",
      "Epoch 435/500\n",
      "2/2 [==============================] - 0s 2ms/step - loss: 13.6683 - mae: 13.6683\n",
      "Epoch 436/500\n",
      "2/2 [==============================] - 0s 2ms/step - loss: 28.9101 - mae: 28.9101\n",
      "Epoch 437/500\n",
      "2/2 [==============================] - 0s 2ms/step - loss: 8.5866 - mae: 8.5866\n",
      "Epoch 438/500\n",
      "2/2 [==============================] - 0s 2ms/step - loss: 12.7187 - mae: 12.7187\n",
      "Epoch 439/500\n",
      "2/2 [==============================] - 0s 2ms/step - loss: 33.6917 - mae: 33.6917\n",
      "Epoch 440/500\n",
      "2/2 [==============================] - 0s 2ms/step - loss: 15.0859 - mae: 15.0859\n",
      "Epoch 441/500\n",
      "2/2 [==============================] - 0s 4ms/step - loss: 17.4692 - mae: 17.4692\n",
      "Epoch 442/500\n",
      "2/2 [==============================] - 0s 3ms/step - loss: 22.3090 - mae: 22.3090\n",
      "Epoch 443/500\n",
      "2/2 [==============================] - 0s 4ms/step - loss: 23.5691 - mae: 23.5691\n",
      "Epoch 444/500\n",
      "2/2 [==============================] - 0s 3ms/step - loss: 10.9702 - mae: 10.9702\n",
      "Epoch 445/500\n",
      "2/2 [==============================] - 0s 3ms/step - loss: 14.9007 - mae: 14.9007\n",
      "Epoch 446/500\n",
      "2/2 [==============================] - 0s 3ms/step - loss: 17.9753 - mae: 17.9753\n",
      "Epoch 447/500\n",
      "2/2 [==============================] - 0s 4ms/step - loss: 5.4022 - mae: 5.4022\n",
      "Epoch 448/500\n",
      "2/2 [==============================] - 0s 3ms/step - loss: 10.0127 - mae: 10.0127\n",
      "Epoch 449/500\n",
      "2/2 [==============================] - 0s 3ms/step - loss: 13.9736 - mae: 13.9736\n",
      "Epoch 450/500\n",
      "2/2 [==============================] - 0s 3ms/step - loss: 16.7399 - mae: 16.7399\n",
      "Epoch 451/500\n",
      "2/2 [==============================] - 0s 3ms/step - loss: 14.2619 - mae: 14.2619\n",
      "Epoch 452/500\n",
      "2/2 [==============================] - 0s 3ms/step - loss: 30.5974 - mae: 30.5974\n",
      "Epoch 453/500\n",
      "2/2 [==============================] - 0s 2ms/step - loss: 7.6123 - mae: 7.6123\n",
      "Epoch 454/500\n",
      "2/2 [==============================] - 0s 3ms/step - loss: 28.1042 - mae: 28.1042\n",
      "Epoch 455/500\n",
      "2/2 [==============================] - 0s 2ms/step - loss: 8.2855 - mae: 8.2855\n",
      "Epoch 456/500\n",
      "2/2 [==============================] - 0s 3ms/step - loss: 12.0244 - mae: 12.0244\n",
      "Epoch 457/500\n",
      "2/2 [==============================] - 0s 3ms/step - loss: 15.4252 - mae: 15.4252\n",
      "Epoch 458/500\n",
      "2/2 [==============================] - 0s 3ms/step - loss: 16.9839 - mae: 16.9839\n",
      "Epoch 459/500\n",
      "2/2 [==============================] - 0s 3ms/step - loss: 15.2921 - mae: 15.2921\n",
      "Epoch 460/500\n",
      "2/2 [==============================] - 0s 3ms/step - loss: 7.3872 - mae: 7.3872\n",
      "Epoch 461/500\n",
      "2/2 [==============================] - 0s 3ms/step - loss: 15.6744 - mae: 15.6744\n",
      "Epoch 462/500\n",
      "2/2 [==============================] - 0s 3ms/step - loss: 15.1674 - mae: 15.1674\n",
      "Epoch 463/500\n",
      "2/2 [==============================] - 0s 2ms/step - loss: 16.8020 - mae: 16.8020\n",
      "Epoch 464/500\n",
      "2/2 [==============================] - 0s 3ms/step - loss: 11.2249 - mae: 11.2249\n",
      "Epoch 465/500\n",
      "2/2 [==============================] - 0s 3ms/step - loss: 21.5253 - mae: 21.5253\n",
      "Epoch 466/500\n",
      "2/2 [==============================] - 0s 3ms/step - loss: 25.0736 - mae: 25.0736\n",
      "Epoch 467/500\n",
      "2/2 [==============================] - 0s 2ms/step - loss: 14.8919 - mae: 14.8919\n",
      "Epoch 468/500\n",
      "2/2 [==============================] - 0s 2ms/step - loss: 10.3488 - mae: 10.3488\n",
      "Epoch 469/500\n",
      "2/2 [==============================] - 0s 3ms/step - loss: 27.3501 - mae: 27.3501\n",
      "Epoch 470/500\n",
      "2/2 [==============================] - 0s 4ms/step - loss: 12.4520 - mae: 12.4520\n",
      "Epoch 471/500\n",
      "2/2 [==============================] - 0s 2ms/step - loss: 12.1432 - mae: 12.1432\n",
      "Epoch 472/500\n",
      "2/2 [==============================] - 0s 3ms/step - loss: 15.4884 - mae: 15.4884\n",
      "Epoch 473/500\n",
      "2/2 [==============================] - 0s 2ms/step - loss: 19.4991 - mae: 19.4991\n",
      "Epoch 474/500\n",
      "2/2 [==============================] - 0s 3ms/step - loss: 38.4216 - mae: 38.4216\n",
      "Epoch 475/500\n",
      "2/2 [==============================] - 0s 2ms/step - loss: 15.4395 - mae: 15.4395\n",
      "Epoch 476/500\n",
      "2/2 [==============================] - 0s 3ms/step - loss: 13.5131 - mae: 13.5131\n",
      "Epoch 477/500\n",
      "2/2 [==============================] - 0s 2ms/step - loss: 29.9145 - mae: 29.9145\n",
      "Epoch 478/500\n",
      "2/2 [==============================] - 0s 3ms/step - loss: 5.3450 - mae: 5.3450\n",
      "Epoch 479/500\n",
      "2/2 [==============================] - 0s 3ms/step - loss: 13.1905 - mae: 13.1905\n",
      "Epoch 480/500\n",
      "2/2 [==============================] - 0s 4ms/step - loss: 19.4830 - mae: 19.4830\n",
      "Epoch 481/500\n",
      "2/2 [==============================] - 0s 3ms/step - loss: 20.2709 - mae: 20.2709\n",
      "Epoch 482/500\n",
      "2/2 [==============================] - 0s 3ms/step - loss: 9.2000 - mae: 9.2000\n",
      "Epoch 483/500\n",
      "2/2 [==============================] - 0s 2ms/step - loss: 10.0823 - mae: 10.0823\n",
      "Epoch 484/500\n",
      "2/2 [==============================] - 0s 2ms/step - loss: 14.6835 - mae: 14.6835\n",
      "Epoch 485/500\n",
      "2/2 [==============================] - 0s 4ms/step - loss: 10.3831 - mae: 10.3831\n",
      "Epoch 486/500\n",
      "2/2 [==============================] - 0s 2ms/step - loss: 17.8189 - mae: 17.8189\n",
      "Epoch 487/500\n",
      "2/2 [==============================] - 0s 3ms/step - loss: 10.8301 - mae: 10.8301\n",
      "Epoch 488/500\n",
      "2/2 [==============================] - 0s 3ms/step - loss: 26.9194 - mae: 26.9194\n",
      "Epoch 489/500\n",
      "2/2 [==============================] - 0s 3ms/step - loss: 5.4470 - mae: 5.4470\n",
      "Epoch 490/500\n",
      "2/2 [==============================] - 0s 3ms/step - loss: 6.1370 - mae: 6.1370\n",
      "Epoch 491/500\n",
      "2/2 [==============================] - 0s 3ms/step - loss: 19.4193 - mae: 19.4193\n",
      "Epoch 492/500\n",
      "2/2 [==============================] - 0s 2ms/step - loss: 6.7662 - mae: 6.7662\n",
      "Epoch 493/500\n",
      "2/2 [==============================] - 0s 4ms/step - loss: 18.6671 - mae: 18.6671\n",
      "Epoch 494/500\n",
      "2/2 [==============================] - 0s 4ms/step - loss: 19.0895 - mae: 19.0895\n",
      "Epoch 495/500\n",
      "2/2 [==============================] - 0s 3ms/step - loss: 5.7513 - mae: 5.7513\n",
      "Epoch 496/500\n",
      "2/2 [==============================] - 0s 4ms/step - loss: 5.9774 - mae: 5.9774\n",
      "Epoch 497/500\n",
      "2/2 [==============================] - 0s 2ms/step - loss: 12.6209 - mae: 12.6209\n",
      "Epoch 498/500\n",
      "2/2 [==============================] - 0s 3ms/step - loss: 6.3733 - mae: 6.3733\n",
      "Epoch 499/500\n",
      "2/2 [==============================] - 0s 3ms/step - loss: 16.0000 - mae: 16.0000\n",
      "Epoch 500/500\n",
      "2/2 [==============================] - 0s 3ms/step - loss: 14.3159 - mae: 14.3159\n"
     ]
    },
    {
     "data": {
      "text/plain": [
       "<keras.callbacks.History at 0x1bb19355850>"
      ]
     },
     "execution_count": 72,
     "metadata": {},
     "output_type": "execute_result"
    }
   ],
   "source": [
    "# Set random seed\n",
    "tf.random.set_seed(42)\n",
    "\n",
    "# 1. Create the model\n",
    "model_3 = tf.keras.Sequential([\n",
    "    tf.keras.layers.Dense(10, input_shape=[1], name=\"input_layer\"),\n",
    "    tf.keras.layers.Dense(1, name=\"output_layer\")\n",
    "])\n",
    "\n",
    "# 2. Compile the model\n",
    "model_3.compile(loss=tf.keras.losses.mae,\n",
    "               optimizer=tf.keras.optimizers.SGD(),\n",
    "               metrics=[\"mae\"])\n",
    "\n",
    "# 3. Fit the model\n",
    "model_3.fit(X_train, y_train, epochs=500)"
   ]
  },
  {
   "cell_type": "code",
   "execution_count": 73,
   "id": "1c49346c",
   "metadata": {},
   "outputs": [
    {
     "name": "stdout",
     "output_type": "stream",
     "text": [
      "1/1 [==============================] - 0s 46ms/step\n"
     ]
    },
    {
     "data": {
      "image/png": "[encoded data removed]",
      "text/plain": [
       "<Figure size 720x504 with 1 Axes>"
      ]
     },
     "metadata": {
      "needs_background": "light"
     },
     "output_type": "display_data"
    }
   ],
   "source": [
    "# Make and plot predictions\n",
    "y_preds_3 = model_3.predict(X_test)\n",
    "plot_predictions(predictions=y_preds_3)"
   ]
  },
  {
   "cell_type": "markdown",
   "id": "6577b4b6",
   "metadata": {},
   "source": [
    "This model is even worse than the first model.\n",
    "The reason for such a bad result should be that our model was trained for too long (500 epochs), so it is overfitting (this is a very important concept in Machine Learning, but we will not be cover it in this lesson).    \n",
    "This is a prime example of tweaking some hyper-parameters, even ones that you intuitively think should result in a better result, actually lead to a poor result."
   ]
  },
  {
   "cell_type": "code",
   "execution_count": 74,
   "id": "db92c5b8",
   "metadata": {},
   "outputs": [
    {
     "data": {
      "text/plain": [
       "(<tf.Tensor: shape=(), dtype=float32, numpy=57.66806>,\n",
       " <tf.Tensor: shape=(), dtype=float32, numpy=4663.054>)"
      ]
     },
     "execution_count": 74,
     "metadata": {},
     "output_type": "execute_result"
    }
   ],
   "source": [
    "# model_3 evaluation metrics\n",
    "mae_3 = mae(X_test, tf.squeeze(y_preds_3))\n",
    "mse_3 = mse(y_test, tf.squeeze(y_preds_3))\n",
    "mae_3, mse_3"
   ]
  },
  {
   "cell_type": "code",
   "execution_count": null,
   "id": "7e03cda5",
   "metadata": {},
   "outputs": [],
   "source": []
  },
  {
   "cell_type": "markdown",
   "id": "deb2a077",
   "metadata": {},
   "source": [
    "🔑**Note** : It is good practice to start by small experiments (small models) and make sure they work, and then increase their scale when necessary."
   ]
  },
  {
   "cell_type": "code",
   "execution_count": null,
   "id": "37a7691e",
   "metadata": {},
   "outputs": [],
   "source": []
  },
  {
   "cell_type": "markdown",
   "id": "74304c21",
   "metadata": {},
   "source": [
    "### Comparing the results of our modelling experiments"
   ]
  },
  {
   "cell_type": "code",
   "execution_count": 75,
   "id": "55749623",
   "metadata": {},
   "outputs": [
    {
     "data": {
      "text/html": [
       "<div>\n",
       "<style scoped>\n",
       "    .dataframe tbody tr th:only-of-type {\n",
       "        vertical-align: middle;\n",
       "    }\n",
       "\n",
       "    .dataframe tbody tr th {\n",
       "        vertical-align: top;\n",
       "    }\n",
       "\n",
       "    .dataframe thead th {\n",
       "        text-align: right;\n",
       "    }\n",
       "</style>\n",
       "<table border=\"1\" class=\"dataframe\">\n",
       "  <thead>\n",
       "    <tr style=\"text-align: right;\">\n",
       "      <th></th>\n",
       "      <th>model</th>\n",
       "      <th>MAE</th>\n",
       "      <th>MSE</th>\n",
       "    </tr>\n",
       "  </thead>\n",
       "  <tbody>\n",
       "    <tr>\n",
       "      <th>0</th>\n",
       "      <td>model_1</td>\n",
       "      <td>tf.Tensor(8.574349, shape=(), dtype=float32)</td>\n",
       "      <td>tf.Tensor(79.98854, shape=(), dtype=float32)</td>\n",
       "    </tr>\n",
       "    <tr>\n",
       "      <th>1</th>\n",
       "      <td>model_2</td>\n",
       "      <td>tf.Tensor(29.754639, shape=(), dtype=float32)</td>\n",
       "      <td>tf.Tensor(916.5187, shape=(), dtype=float32)</td>\n",
       "    </tr>\n",
       "    <tr>\n",
       "      <th>2</th>\n",
       "      <td>model_3</td>\n",
       "      <td>tf.Tensor(57.66806, shape=(), dtype=float32)</td>\n",
       "      <td>tf.Tensor(4663.054, shape=(), dtype=float32)</td>\n",
       "    </tr>\n",
       "  </tbody>\n",
       "</table>\n",
       "</div>"
      ],
      "text/plain": [
       "     model                                            MAE  \\\n",
       "0  model_1   tf.Tensor(8.574349, shape=(), dtype=float32)   \n",
       "1  model_2  tf.Tensor(29.754639, shape=(), dtype=float32)   \n",
       "2  model_3   tf.Tensor(57.66806, shape=(), dtype=float32)   \n",
       "\n",
       "                                            MSE  \n",
       "0  tf.Tensor(79.98854, shape=(), dtype=float32)  \n",
       "1  tf.Tensor(916.5187, shape=(), dtype=float32)  \n",
       "2  tf.Tensor(4663.054, shape=(), dtype=float32)  "
      ]
     },
     "execution_count": 75,
     "metadata": {},
     "output_type": "execute_result"
    }
   ],
   "source": [
    "# Let's compare the result of our models using a dataframe\n",
    "\n",
    "model_results = [[\"model_1\", mae_1, mse_1], \n",
    "                 [\"model_2\", mae_2, mse_2],\n",
    "                 [\"model_3\", mae_3, mse_3]]\n",
    "# model_results = {\n",
    "#     \"model_1\": [ mae_1, mse_1],\n",
    "#     \"model_2\": [mae_2, mse_2],\n",
    "#     \"model_3\": [mae_3, mse_3],\n",
    "# }\n",
    "\n",
    "results_df = pd.DataFrame(model_results, columns=[\"model\",\"MAE\",\"MSE\"])\n",
    "results_df"
   ]
  },
  {
   "cell_type": "markdown",
   "id": "2b2be887",
   "metadata": {},
   "source": [
    "This result is not easily readable. So we will get the numpy value of the MAEs and MSEs"
   ]
  },
  {
   "cell_type": "code",
   "execution_count": 76,
   "id": "30be1716",
   "metadata": {},
   "outputs": [
    {
     "data": {
      "text/html": [
       "<div>\n",
       "<style scoped>\n",
       "    .dataframe tbody tr th:only-of-type {\n",
       "        vertical-align: middle;\n",
       "    }\n",
       "\n",
       "    .dataframe tbody tr th {\n",
       "        vertical-align: top;\n",
       "    }\n",
       "\n",
       "    .dataframe thead th {\n",
       "        text-align: right;\n",
       "    }\n",
       "</style>\n",
       "<table border=\"1\" class=\"dataframe\">\n",
       "  <thead>\n",
       "    <tr style=\"text-align: right;\">\n",
       "      <th></th>\n",
       "      <th>model</th>\n",
       "      <th>MAE</th>\n",
       "      <th>MSE</th>\n",
       "    </tr>\n",
       "  </thead>\n",
       "  <tbody>\n",
       "    <tr>\n",
       "      <th>0</th>\n",
       "      <td>model_1</td>\n",
       "      <td>8.574349</td>\n",
       "      <td>79.988541</td>\n",
       "    </tr>\n",
       "    <tr>\n",
       "      <th>1</th>\n",
       "      <td>model_2</td>\n",
       "      <td>29.754639</td>\n",
       "      <td>916.518677</td>\n",
       "    </tr>\n",
       "    <tr>\n",
       "      <th>2</th>\n",
       "      <td>model_3</td>\n",
       "      <td>57.668060</td>\n",
       "      <td>4663.054199</td>\n",
       "    </tr>\n",
       "  </tbody>\n",
       "</table>\n",
       "</div>"
      ],
      "text/plain": [
       "     model        MAE          MSE\n",
       "0  model_1   8.574349    79.988541\n",
       "1  model_2  29.754639   916.518677\n",
       "2  model_3  57.668060  4663.054199"
      ]
     },
     "execution_count": 76,
     "metadata": {},
     "output_type": "execute_result"
    }
   ],
   "source": [
    "model_results = [[\"model_1\", mae_1.numpy(), mse_1.numpy()], \n",
    "                 [\"model_2\", mae_2.numpy(), mse_2.numpy()],\n",
    "                 [\"model_3\", mae_3.numpy(), mse_3.numpy()]]\n",
    "\n",
    "results_df = pd.DataFrame(model_results, columns=[\"model\",\"MAE\",\"MSE\"])\n",
    "results_df"
   ]
  },
  {
   "cell_type": "markdown",
   "id": "63410c67",
   "metadata": {},
   "source": [
    "From the content of our dataframe, we can observe that model_2 perform the best. So we will look at its content."
   ]
  },
  {
   "cell_type": "code",
   "execution_count": 77,
   "id": "846ebbff",
   "metadata": {},
   "outputs": [
    {
     "name": "stdout",
     "output_type": "stream",
     "text": [
      "Model: \"sequential_10\"\n",
      "_________________________________________________________________\n",
      " Layer (type)                Output Shape              Param #   \n",
      "=================================================================\n",
      " input_layer (Dense)         (None, 10)                20        \n",
      "                                                                 \n",
      " dense_15 (Dense)            (None, 1)                 11        \n",
      "                                                                 \n",
      "=================================================================\n",
      "Total params: 31\n",
      "Trainable params: 31\n",
      "Non-trainable params: 0\n",
      "_________________________________________________________________\n"
     ]
    }
   ],
   "source": [
    "model_2.summary()"
   ]
  },
  {
   "cell_type": "markdown",
   "id": "317ff74b",
   "metadata": {},
   "source": [
    "> 🔑 **Notes** :\n",
    "> * One of our main goal should be to minimize the time between each experiment (so that we don't have to wait, say, 10min before runing the next modelling experiment). \n",
    "> * The more experiments ones does, the more things one will figure out which don't work, and in turn get closer to figure out what does work : it is a lot of trials and errors. Remember the ML practionner motto : experiment, experiment, experiment."
   ]
  },
  {
   "cell_type": "code",
   "execution_count": null,
   "id": "be5903ec",
   "metadata": {},
   "outputs": [],
   "source": []
  },
  {
   "cell_type": "markdown",
   "id": "72c6a165",
   "metadata": {},
   "source": [
    "### Tracking modelling experiments\n",
    "\n",
    "One good habit in ML modelling is to tracks experiments results.    \n",
    "\n",
    "Introducing tools that can help track results of experiments :\n",
    "* [**TensorBoard**](https://www.tensorflow.org/tensorboard) - a component of the TensorFlow library to help track modelling experiments.\n",
    "* [**Weights & Biases**](https://wandb.ai/site) - a tool for tracking all kind of ML experiments; it can be plugged into TensorBoard. \n",
    "\n",
    "TensorBoard's usage will be covered later."
   ]
  },
  {
   "cell_type": "code",
   "execution_count": null,
   "id": "3eedb62e",
   "metadata": {},
   "outputs": [],
   "source": []
  },
  {
   "cell_type": "markdown",
   "id": "2f3c0d83",
   "metadata": {},
   "source": [
    "### Save a model      \n",
    "Saving a model allow us to use it outside our notebook in place such as a web/mobile application.                  \n",
    "There are two main format we can save our model to :\n",
    "* SaveModel format : it is used when the saved model will only be used in the TensorFlow environement      \n",
    "* HDF5 format : it used when the saved model will be used outside of TensorFlow environement"
   ]
  },
  {
   "cell_type": "code",
   "execution_count": 78,
   "id": "4c736d88",
   "metadata": {},
   "outputs": [
    {
     "name": "stdout",
     "output_type": "stream",
     "text": [
      "INFO:tensorflow:Assets written to: ./saved-models/model_2_SaveModel_format\\assets\n"
     ]
    }
   ],
   "source": [
    "# Save a model using SaveModel format\n",
    "model_2.save(\"./saved-models/model_2_SaveModel_format\")"
   ]
  },
  {
   "cell_type": "code",
   "execution_count": 79,
   "id": "26dd5350",
   "metadata": {},
   "outputs": [],
   "source": [
    "# Save model using HDF5 format\n",
    "model_2.save(\"./saved-models/model_2_HDF5_format.h5\")"
   ]
  },
  {
   "cell_type": "code",
   "execution_count": null,
   "id": "1949574d",
   "metadata": {},
   "outputs": [],
   "source": []
  },
  {
   "cell_type": "markdown",
   "id": "e364a2f2",
   "metadata": {},
   "source": [
    "### Load a saved model   \n",
    "\n"
   ]
  },
  {
   "cell_type": "code",
   "execution_count": 80,
   "id": "dab2ffb8",
   "metadata": {},
   "outputs": [
    {
     "name": "stdout",
     "output_type": "stream",
     "text": [
      "Model: \"sequential_10\"\n",
      "_________________________________________________________________\n",
      " Layer (type)                Output Shape              Param #   \n",
      "=================================================================\n",
      " input_layer (Dense)         (None, 10)                20        \n",
      "                                                                 \n",
      " dense_15 (Dense)            (None, 1)                 11        \n",
      "                                                                 \n",
      "=================================================================\n",
      "Total params: 31\n",
      "Trainable params: 31\n",
      "Non-trainable params: 0\n",
      "_________________________________________________________________\n"
     ]
    }
   ],
   "source": [
    "# Recall the structure of our saved model\n",
    "model_2.summary()"
   ]
  },
  {
   "cell_type": "code",
   "execution_count": null,
   "id": "a6b13391",
   "metadata": {},
   "outputs": [],
   "source": []
  },
  {
   "cell_type": "code",
   "execution_count": 81,
   "id": "98a5dade",
   "metadata": {},
   "outputs": [
    {
     "name": "stdout",
     "output_type": "stream",
     "text": [
      "Model: \"sequential_10\"\n",
      "_________________________________________________________________\n",
      " Layer (type)                Output Shape              Param #   \n",
      "=================================================================\n",
      " input_layer (Dense)         (None, 10)                20        \n",
      "                                                                 \n",
      " dense_15 (Dense)            (None, 1)                 11        \n",
      "                                                                 \n",
      "=================================================================\n",
      "Total params: 31\n",
      "Trainable params: 31\n",
      "Non-trainable params: 0\n",
      "_________________________________________________________________\n"
     ]
    }
   ],
   "source": [
    "# Load the SaveModel format model\n",
    "loaded_SaveModel_format = tf.keras.models.load_model(\"./saved-models/model_2_SaveModel_format\")\n",
    "loaded_SaveModel_format.summary()"
   ]
  },
  {
   "cell_type": "markdown",
   "id": "9bedb2a3",
   "metadata": {},
   "source": [
    "We can confirm that loaded_SaveModel_format has the same structure as model_2, by looking at their .summary().      \n",
    "Now we will also confirm that their patterns (weights and biases) are the same, by checking that they are doing the same predictions."
   ]
  },
  {
   "cell_type": "code",
   "execution_count": 82,
   "id": "bb989a74",
   "metadata": {},
   "outputs": [
    {
     "name": "stdout",
     "output_type": "stream",
     "text": [
      "1/1 [==============================] - 0s 40ms/step\n",
      "1/1 [==============================] - 0s 86ms/step\n"
     ]
    },
    {
     "data": {
      "text/plain": [
       "array([[ True],\n",
       "       [ True],\n",
       "       [ True],\n",
       "       [ True],\n",
       "       [ True],\n",
       "       [ True],\n",
       "       [ True],\n",
       "       [ True],\n",
       "       [ True],\n",
       "       [ True]])"
      ]
     },
     "execution_count": 82,
     "metadata": {},
     "output_type": "execute_result"
    }
   ],
   "source": [
    "# Compare model_2 predictions with loaded_SaveModel_format predictions\n",
    "model_2_preds = model_2.predict(X_test)\n",
    "loaded_SaveModel_format_preds = loaded_SaveModel_format.predict(X_test)\n",
    "\n",
    "model_2_preds == loaded_SaveModel_format_preds"
   ]
  },
  {
   "cell_type": "code",
   "execution_count": null,
   "id": "d9dc7545",
   "metadata": {},
   "outputs": [],
   "source": []
  },
  {
   "cell_type": "code",
   "execution_count": 83,
   "id": "12d76241",
   "metadata": {},
   "outputs": [
    {
     "name": "stdout",
     "output_type": "stream",
     "text": [
      "Model: \"sequential_10\"\n",
      "_________________________________________________________________\n",
      " Layer (type)                Output Shape              Param #   \n",
      "=================================================================\n",
      " input_layer (Dense)         (None, 10)                20        \n",
      "                                                                 \n",
      " dense_15 (Dense)            (None, 1)                 11        \n",
      "                                                                 \n",
      "=================================================================\n",
      "Total params: 31\n",
      "Trainable params: 31\n",
      "Non-trainable params: 0\n",
      "_________________________________________________________________\n"
     ]
    }
   ],
   "source": [
    "# Load the HDF5 format model\n",
    "loaded_h5_model = tf.keras.models.load_model(\"./saved-models/model_2_HDF5_format.h5\")\n",
    "loaded_h5_model.summary()"
   ]
  },
  {
   "cell_type": "markdown",
   "id": "b14033c2",
   "metadata": {},
   "source": [
    "We can confirm through .summary() that the architecture of loaded_h5_model is the same as model_2. \n",
    "\n",
    "Now we will make sure that model_2 predictions match loaded_h5_model predictions."
   ]
  },
  {
   "cell_type": "code",
   "execution_count": 84,
   "id": "a7936835",
   "metadata": {},
   "outputs": [
    {
     "name": "stdout",
     "output_type": "stream",
     "text": [
      "1/1 [==============================] - 0s 23ms/step\n",
      "1/1 [==============================] - 0s 71ms/step\n"
     ]
    },
    {
     "data": {
      "text/plain": [
       "array([[ True],\n",
       "       [ True],\n",
       "       [ True],\n",
       "       [ True],\n",
       "       [ True],\n",
       "       [ True],\n",
       "       [ True],\n",
       "       [ True],\n",
       "       [ True],\n",
       "       [ True]])"
      ]
     },
     "execution_count": 84,
     "metadata": {},
     "output_type": "execute_result"
    }
   ],
   "source": [
    "# Compare model_2 predictions with loaded_h5_model predictions\n",
    "model_2_preds = model_2.predict(X_test)\n",
    "loaded_h5_model_preds = loaded_h5_model.predict(X_test)\n",
    "model_2_preds == loaded_h5_model_preds"
   ]
  },
  {
   "cell_type": "code",
   "execution_count": null,
   "id": "9b7eadbe",
   "metadata": {},
   "outputs": [],
   "source": []
  },
  {
   "cell_type": "markdown",
   "id": "2c9c6f28",
   "metadata": {},
   "source": [
    "## Puttting together what was learned so far\n",
    "\n",
    "Now it is time to build a model for a more feature rich dataset."
   ]
  },
  {
   "cell_type": "code",
   "execution_count": null,
   "id": "016cb7d8",
   "metadata": {},
   "outputs": [],
   "source": []
  },
  {
   "cell_type": "markdown",
   "id": "b85f0a42",
   "metadata": {},
   "source": [
    "### Preparing the dataset\n",
    "\n",
    "We are going to have a look at the publicly available [Medical Cost Personal Datasets - Insurance Forecast by using Linear Regression](https://www.kaggle.com/datasets/mirichoi0218/insurance) from Kaggle\n",
    "\n",
    "**Columns**\n",
    "\n",
    "* **age**: age of primary beneficiary\n",
    "* **sex**: insurance contractor gender, female, male\n",
    "* **bmi**: Body mass index, providing an understanding of body, weights that are relatively high or low relative to height,\n",
    "objective index of body weight (kg / m ^ 2) using the ratio of height to weight, ideally 18.5 to 24.9\n",
    "* **children**: Number of children covered by health insurance / Number of dependents\n",
    "* **smoker**: Smoking\n",
    "* **region**: the beneficiary's residential area in the US, northeast, southeast, southwest, northwest.\n",
    "* **charges**: Individual medical costs billed by health insurance     \n",
    "\n",
    "The dataset can be downloaded from [here](https://github.com/stedy/Machine-Learning-with-R-datasets/blob/master/insurance.csv)          \n",
    "\n",
    "\n",
    "The goal is to use the above columns from age to region to predict what someone's medical costs billed by health insurance will be."
   ]
  },
  {
   "cell_type": "code",
   "execution_count": 85,
   "id": "70030320",
   "metadata": {},
   "outputs": [
    {
     "data": {
      "text/html": [
       "<div>\n",
       "<style scoped>\n",
       "    .dataframe tbody tr th:only-of-type {\n",
       "        vertical-align: middle;\n",
       "    }\n",
       "\n",
       "    .dataframe tbody tr th {\n",
       "        vertical-align: top;\n",
       "    }\n",
       "\n",
       "    .dataframe thead th {\n",
       "        text-align: right;\n",
       "    }\n",
       "</style>\n",
       "<table border=\"1\" class=\"dataframe\">\n",
       "  <thead>\n",
       "    <tr style=\"text-align: right;\">\n",
       "      <th></th>\n",
       "      <th>age</th>\n",
       "      <th>sex</th>\n",
       "      <th>bmi</th>\n",
       "      <th>children</th>\n",
       "      <th>smoker</th>\n",
       "      <th>region</th>\n",
       "      <th>charges</th>\n",
       "    </tr>\n",
       "  </thead>\n",
       "  <tbody>\n",
       "    <tr>\n",
       "      <th>0</th>\n",
       "      <td>19</td>\n",
       "      <td>female</td>\n",
       "      <td>27.900</td>\n",
       "      <td>0</td>\n",
       "      <td>yes</td>\n",
       "      <td>southwest</td>\n",
       "      <td>16884.92400</td>\n",
       "    </tr>\n",
       "    <tr>\n",
       "      <th>1</th>\n",
       "      <td>18</td>\n",
       "      <td>male</td>\n",
       "      <td>33.770</td>\n",
       "      <td>1</td>\n",
       "      <td>no</td>\n",
       "      <td>southeast</td>\n",
       "      <td>1725.55230</td>\n",
       "    </tr>\n",
       "    <tr>\n",
       "      <th>2</th>\n",
       "      <td>28</td>\n",
       "      <td>male</td>\n",
       "      <td>33.000</td>\n",
       "      <td>3</td>\n",
       "      <td>no</td>\n",
       "      <td>southeast</td>\n",
       "      <td>4449.46200</td>\n",
       "    </tr>\n",
       "    <tr>\n",
       "      <th>3</th>\n",
       "      <td>33</td>\n",
       "      <td>male</td>\n",
       "      <td>22.705</td>\n",
       "      <td>0</td>\n",
       "      <td>no</td>\n",
       "      <td>northwest</td>\n",
       "      <td>21984.47061</td>\n",
       "    </tr>\n",
       "    <tr>\n",
       "      <th>4</th>\n",
       "      <td>32</td>\n",
       "      <td>male</td>\n",
       "      <td>28.880</td>\n",
       "      <td>0</td>\n",
       "      <td>no</td>\n",
       "      <td>northwest</td>\n",
       "      <td>3866.85520</td>\n",
       "    </tr>\n",
       "  </tbody>\n",
       "</table>\n",
       "</div>"
      ],
      "text/plain": [
       "   age     sex     bmi  children smoker     region      charges\n",
       "0   19  female  27.900         0    yes  southwest  16884.92400\n",
       "1   18    male  33.770         1     no  southeast   1725.55230\n",
       "2   28    male  33.000         3     no  southeast   4449.46200\n",
       "3   33    male  22.705         0     no  northwest  21984.47061\n",
       "4   32    male  28.880         0     no  northwest   3866.85520"
      ]
     },
     "execution_count": 85,
     "metadata": {},
     "output_type": "execute_result"
    }
   ],
   "source": [
    "insurance_df = pd.read_csv(\"data/insurance.csv\")\n",
    "insurance_df.head()"
   ]
  },
  {
   "cell_type": "markdown",
   "id": "2ce70add",
   "metadata": {},
   "source": [
    "Looking at the above dataset:\n",
    "* `charges`, the variable to be predicted, is called : `label`, or `output feature`, or `output variable`\n",
    "* all variables other than `charges`, are the variables used to predict; they are called: `features`, or `input features`, or `input variables`"
   ]
  },
  {
   "cell_type": "code",
   "execution_count": null,
   "id": "b24f07b5",
   "metadata": {},
   "outputs": [],
   "source": []
  },
  {
   "cell_type": "code",
   "execution_count": 86,
   "id": "bb8d4147",
   "metadata": {},
   "outputs": [
    {
     "data": {
      "text/plain": [
       "(1338, 7)"
      ]
     },
     "execution_count": 86,
     "metadata": {},
     "output_type": "execute_result"
    }
   ],
   "source": [
    "insurance_df.shape"
   ]
  },
  {
   "cell_type": "code",
   "execution_count": 87,
   "id": "795031f7",
   "metadata": {},
   "outputs": [
    {
     "name": "stdout",
     "output_type": "stream",
     "text": [
      "<class 'pandas.core.frame.DataFrame'>\n",
      "RangeIndex: 1338 entries, 0 to 1337\n",
      "Data columns (total 7 columns):\n",
      " #   Column    Non-Null Count  Dtype  \n",
      "---  ------    --------------  -----  \n",
      " 0   age       1338 non-null   int64  \n",
      " 1   sex       1338 non-null   object \n",
      " 2   bmi       1338 non-null   float64\n",
      " 3   children  1338 non-null   int64  \n",
      " 4   smoker    1338 non-null   object \n",
      " 5   region    1338 non-null   object \n",
      " 6   charges   1338 non-null   float64\n",
      "dtypes: float64(2), int64(2), object(3)\n",
      "memory usage: 73.3+ KB\n"
     ]
    }
   ],
   "source": [
    "insurance_df.info()"
   ]
  },
  {
   "cell_type": "markdown",
   "id": "c594b415",
   "metadata": {},
   "source": [
    "Now we will work on our first step in getting our data ready to pass into our machine/deep learning models : all our categorical features should be encoded to numerical values. Here, it is the one-hot encoding technique that will be used.  \n",
    "\n",
    "We can one-hot encode our variables manually, but it will take a lot of work. So we will use the `pandas.get_dummies()` function. Here is [an example](https://queirozf.com/entries/one-hot-encoding-a-feature-on-a-pandas-dataframe-an-example) on how to proceed."
   ]
  },
  {
   "cell_type": "code",
   "execution_count": 88,
   "id": "1aa8b000",
   "metadata": {},
   "outputs": [
    {
     "data": {
      "text/html": [
       "<div>\n",
       "<style scoped>\n",
       "    .dataframe tbody tr th:only-of-type {\n",
       "        vertical-align: middle;\n",
       "    }\n",
       "\n",
       "    .dataframe tbody tr th {\n",
       "        vertical-align: top;\n",
       "    }\n",
       "\n",
       "    .dataframe thead th {\n",
       "        text-align: right;\n",
       "    }\n",
       "</style>\n",
       "<table border=\"1\" class=\"dataframe\">\n",
       "  <thead>\n",
       "    <tr style=\"text-align: right;\">\n",
       "      <th></th>\n",
       "      <th>0</th>\n",
       "      <th>1</th>\n",
       "      <th>2</th>\n",
       "      <th>3</th>\n",
       "      <th>4</th>\n",
       "    </tr>\n",
       "  </thead>\n",
       "  <tbody>\n",
       "    <tr>\n",
       "      <th>age</th>\n",
       "      <td>19.000</td>\n",
       "      <td>18.0000</td>\n",
       "      <td>28.000</td>\n",
       "      <td>33.00000</td>\n",
       "      <td>32.0000</td>\n",
       "    </tr>\n",
       "    <tr>\n",
       "      <th>bmi</th>\n",
       "      <td>27.900</td>\n",
       "      <td>33.7700</td>\n",
       "      <td>33.000</td>\n",
       "      <td>22.70500</td>\n",
       "      <td>28.8800</td>\n",
       "    </tr>\n",
       "    <tr>\n",
       "      <th>children</th>\n",
       "      <td>0.000</td>\n",
       "      <td>1.0000</td>\n",
       "      <td>3.000</td>\n",
       "      <td>0.00000</td>\n",
       "      <td>0.0000</td>\n",
       "    </tr>\n",
       "    <tr>\n",
       "      <th>charges</th>\n",
       "      <td>16884.924</td>\n",
       "      <td>1725.5523</td>\n",
       "      <td>4449.462</td>\n",
       "      <td>21984.47061</td>\n",
       "      <td>3866.8552</td>\n",
       "    </tr>\n",
       "    <tr>\n",
       "      <th>sex_female</th>\n",
       "      <td>1.000</td>\n",
       "      <td>0.0000</td>\n",
       "      <td>0.000</td>\n",
       "      <td>0.00000</td>\n",
       "      <td>0.0000</td>\n",
       "    </tr>\n",
       "    <tr>\n",
       "      <th>sex_male</th>\n",
       "      <td>0.000</td>\n",
       "      <td>1.0000</td>\n",
       "      <td>1.000</td>\n",
       "      <td>1.00000</td>\n",
       "      <td>1.0000</td>\n",
       "    </tr>\n",
       "    <tr>\n",
       "      <th>smoker_no</th>\n",
       "      <td>0.000</td>\n",
       "      <td>1.0000</td>\n",
       "      <td>1.000</td>\n",
       "      <td>1.00000</td>\n",
       "      <td>1.0000</td>\n",
       "    </tr>\n",
       "    <tr>\n",
       "      <th>smoker_yes</th>\n",
       "      <td>1.000</td>\n",
       "      <td>0.0000</td>\n",
       "      <td>0.000</td>\n",
       "      <td>0.00000</td>\n",
       "      <td>0.0000</td>\n",
       "    </tr>\n",
       "    <tr>\n",
       "      <th>region_northeast</th>\n",
       "      <td>0.000</td>\n",
       "      <td>0.0000</td>\n",
       "      <td>0.000</td>\n",
       "      <td>0.00000</td>\n",
       "      <td>0.0000</td>\n",
       "    </tr>\n",
       "    <tr>\n",
       "      <th>region_northwest</th>\n",
       "      <td>0.000</td>\n",
       "      <td>0.0000</td>\n",
       "      <td>0.000</td>\n",
       "      <td>1.00000</td>\n",
       "      <td>1.0000</td>\n",
       "    </tr>\n",
       "    <tr>\n",
       "      <th>region_southeast</th>\n",
       "      <td>0.000</td>\n",
       "      <td>1.0000</td>\n",
       "      <td>1.000</td>\n",
       "      <td>0.00000</td>\n",
       "      <td>0.0000</td>\n",
       "    </tr>\n",
       "    <tr>\n",
       "      <th>region_southwest</th>\n",
       "      <td>1.000</td>\n",
       "      <td>0.0000</td>\n",
       "      <td>0.000</td>\n",
       "      <td>0.00000</td>\n",
       "      <td>0.0000</td>\n",
       "    </tr>\n",
       "  </tbody>\n",
       "</table>\n",
       "</div>"
      ],
      "text/plain": [
       "                          0          1         2            3          4\n",
       "age                  19.000    18.0000    28.000     33.00000    32.0000\n",
       "bmi                  27.900    33.7700    33.000     22.70500    28.8800\n",
       "children              0.000     1.0000     3.000      0.00000     0.0000\n",
       "charges           16884.924  1725.5523  4449.462  21984.47061  3866.8552\n",
       "sex_female            1.000     0.0000     0.000      0.00000     0.0000\n",
       "sex_male              0.000     1.0000     1.000      1.00000     1.0000\n",
       "smoker_no             0.000     1.0000     1.000      1.00000     1.0000\n",
       "smoker_yes            1.000     0.0000     0.000      0.00000     0.0000\n",
       "region_northeast      0.000     0.0000     0.000      0.00000     0.0000\n",
       "region_northwest      0.000     0.0000     0.000      1.00000     1.0000\n",
       "region_southeast      0.000     1.0000     1.000      0.00000     0.0000\n",
       "region_southwest      1.000     0.0000     0.000      0.00000     0.0000"
      ]
     },
     "execution_count": 88,
     "metadata": {},
     "output_type": "execute_result"
    }
   ],
   "source": [
    "# One-hot encode dataframe so that it is all numbers\n",
    "insurance_onehot_df = pd.get_dummies(insurance_df)\n",
    "insurance_onehot_df.head().T"
   ]
  },
  {
   "cell_type": "code",
   "execution_count": 89,
   "id": "4011de41",
   "metadata": {},
   "outputs": [],
   "source": [
    "# insurance_onehot_df.isnull().sum()"
   ]
  },
  {
   "cell_type": "markdown",
   "id": "73760872",
   "metadata": {},
   "source": [
    "### Building the regression model"
   ]
  },
  {
   "cell_type": "code",
   "execution_count": 90,
   "id": "62cf3b62",
   "metadata": {},
   "outputs": [
    {
     "data": {
      "text/html": [
       "<div>\n",
       "<style scoped>\n",
       "    .dataframe tbody tr th:only-of-type {\n",
       "        vertical-align: middle;\n",
       "    }\n",
       "\n",
       "    .dataframe tbody tr th {\n",
       "        vertical-align: top;\n",
       "    }\n",
       "\n",
       "    .dataframe thead th {\n",
       "        text-align: right;\n",
       "    }\n",
       "</style>\n",
       "<table border=\"1\" class=\"dataframe\">\n",
       "  <thead>\n",
       "    <tr style=\"text-align: right;\">\n",
       "      <th></th>\n",
       "      <th>age</th>\n",
       "      <th>bmi</th>\n",
       "      <th>children</th>\n",
       "      <th>sex_female</th>\n",
       "      <th>sex_male</th>\n",
       "      <th>smoker_no</th>\n",
       "      <th>smoker_yes</th>\n",
       "      <th>region_northeast</th>\n",
       "      <th>region_northwest</th>\n",
       "      <th>region_southeast</th>\n",
       "      <th>region_southwest</th>\n",
       "    </tr>\n",
       "  </thead>\n",
       "  <tbody>\n",
       "    <tr>\n",
       "      <th>0</th>\n",
       "      <td>19</td>\n",
       "      <td>27.900</td>\n",
       "      <td>0</td>\n",
       "      <td>1</td>\n",
       "      <td>0</td>\n",
       "      <td>0</td>\n",
       "      <td>1</td>\n",
       "      <td>0</td>\n",
       "      <td>0</td>\n",
       "      <td>0</td>\n",
       "      <td>1</td>\n",
       "    </tr>\n",
       "    <tr>\n",
       "      <th>1</th>\n",
       "      <td>18</td>\n",
       "      <td>33.770</td>\n",
       "      <td>1</td>\n",
       "      <td>0</td>\n",
       "      <td>1</td>\n",
       "      <td>1</td>\n",
       "      <td>0</td>\n",
       "      <td>0</td>\n",
       "      <td>0</td>\n",
       "      <td>1</td>\n",
       "      <td>0</td>\n",
       "    </tr>\n",
       "    <tr>\n",
       "      <th>2</th>\n",
       "      <td>28</td>\n",
       "      <td>33.000</td>\n",
       "      <td>3</td>\n",
       "      <td>0</td>\n",
       "      <td>1</td>\n",
       "      <td>1</td>\n",
       "      <td>0</td>\n",
       "      <td>0</td>\n",
       "      <td>0</td>\n",
       "      <td>1</td>\n",
       "      <td>0</td>\n",
       "    </tr>\n",
       "    <tr>\n",
       "      <th>3</th>\n",
       "      <td>33</td>\n",
       "      <td>22.705</td>\n",
       "      <td>0</td>\n",
       "      <td>0</td>\n",
       "      <td>1</td>\n",
       "      <td>1</td>\n",
       "      <td>0</td>\n",
       "      <td>0</td>\n",
       "      <td>1</td>\n",
       "      <td>0</td>\n",
       "      <td>0</td>\n",
       "    </tr>\n",
       "    <tr>\n",
       "      <th>4</th>\n",
       "      <td>32</td>\n",
       "      <td>28.880</td>\n",
       "      <td>0</td>\n",
       "      <td>0</td>\n",
       "      <td>1</td>\n",
       "      <td>1</td>\n",
       "      <td>0</td>\n",
       "      <td>0</td>\n",
       "      <td>1</td>\n",
       "      <td>0</td>\n",
       "      <td>0</td>\n",
       "    </tr>\n",
       "  </tbody>\n",
       "</table>\n",
       "</div>"
      ],
      "text/plain": [
       "   age     bmi  children  sex_female  sex_male  smoker_no  smoker_yes  \\\n",
       "0   19  27.900         0           1         0          0           1   \n",
       "1   18  33.770         1           0         1          1           0   \n",
       "2   28  33.000         3           0         1          1           0   \n",
       "3   33  22.705         0           0         1          1           0   \n",
       "4   32  28.880         0           0         1          1           0   \n",
       "\n",
       "   region_northeast  region_northwest  region_southeast  region_southwest  \n",
       "0                 0                 0                 0                 1  \n",
       "1                 0                 0                 1                 0  \n",
       "2                 0                 0                 1                 0  \n",
       "3                 0                 1                 0                 0  \n",
       "4                 0                 1                 0                 0  "
      ]
     },
     "execution_count": 90,
     "metadata": {},
     "output_type": "execute_result"
    }
   ],
   "source": [
    "# Create features (X)\n",
    "X = insurance_onehot_df.drop(\"charges\",axis=1)\n",
    "X.head()"
   ]
  },
  {
   "cell_type": "code",
   "execution_count": 91,
   "id": "0e221709",
   "metadata": {},
   "outputs": [
    {
     "data": {
      "text/plain": [
       "0    16884.92400\n",
       "1     1725.55230\n",
       "2     4449.46200\n",
       "3    21984.47061\n",
       "4     3866.85520\n",
       "Name: charges, dtype: float64"
      ]
     },
     "execution_count": 91,
     "metadata": {},
     "output_type": "execute_result"
    }
   ],
   "source": [
    "# Create labels (y)\n",
    "y = insurance_onehot_df[\"charges\"]\n",
    "y.head()"
   ]
  },
  {
   "cell_type": "code",
   "execution_count": 92,
   "id": "016a5066",
   "metadata": {},
   "outputs": [
    {
     "data": {
      "text/plain": [
       "(1070, 268, 1070, 268)"
      ]
     },
     "execution_count": 92,
     "metadata": {},
     "output_type": "execute_result"
    }
   ],
   "source": [
    "# Create training and testing sets\n",
    "\n",
    "random_seed=42\n",
    "X_train, X_test, y_train, y_test = train_test_split(X,y, test_size=.2, random_state=random_seed)\n",
    "\n",
    "len(X_train), len(X_test), len(y_train), len(y_test)"
   ]
  },
  {
   "cell_type": "code",
   "execution_count": 93,
   "id": "e0420518",
   "metadata": {},
   "outputs": [
    {
     "name": "stdout",
     "output_type": "stream",
     "text": [
      "Epoch 1/100\n",
      "34/34 [==============================] - 0s 2ms/step - loss: 8661.4932 - mae: 8661.4932\n",
      "Epoch 2/100\n",
      "34/34 [==============================] - 0s 2ms/step - loss: 7883.1348 - mae: 7883.1348\n",
      "Epoch 3/100\n",
      "34/34 [==============================] - 0s 2ms/step - loss: 7530.2124 - mae: 7530.2124\n",
      "Epoch 4/100\n",
      "34/34 [==============================] - 0s 2ms/step - loss: 7692.7129 - mae: 7692.7129\n",
      "Epoch 5/100\n",
      "34/34 [==============================] - 0s 1ms/step - loss: 7719.5596 - mae: 7719.5596\n",
      "Epoch 6/100\n",
      "34/34 [==============================] - 0s 2ms/step - loss: 7653.2891 - mae: 7653.2891\n",
      "Epoch 7/100\n",
      "34/34 [==============================] - 0s 2ms/step - loss: 7521.6333 - mae: 7521.6333\n",
      "Epoch 8/100\n",
      "34/34 [==============================] - 0s 2ms/step - loss: 7806.5444 - mae: 7806.5444\n",
      "Epoch 9/100\n",
      "34/34 [==============================] - 0s 2ms/step - loss: 7540.9526 - mae: 7540.9526\n",
      "Epoch 10/100\n",
      "34/34 [==============================] - 0s 2ms/step - loss: 7682.7368 - mae: 7682.7368\n",
      "Epoch 11/100\n",
      "34/34 [==============================] - 0s 2ms/step - loss: 7472.7100 - mae: 7472.7100\n",
      "Epoch 12/100\n",
      "34/34 [==============================] - 0s 2ms/step - loss: 7632.8809 - mae: 7632.8809\n",
      "Epoch 13/100\n",
      "34/34 [==============================] - 0s 2ms/step - loss: 7658.1226 - mae: 7658.1226\n",
      "Epoch 14/100\n",
      "34/34 [==============================] - 0s 2ms/step - loss: 7661.7676 - mae: 7661.7676\n",
      "Epoch 15/100\n",
      "34/34 [==============================] - 0s 2ms/step - loss: 7395.3711 - mae: 7395.3711\n",
      "Epoch 16/100\n",
      "34/34 [==============================] - 0s 2ms/step - loss: 7785.0542 - mae: 7785.0542\n",
      "Epoch 17/100\n",
      "34/34 [==============================] - 0s 2ms/step - loss: 7575.2852 - mae: 7575.2852\n",
      "Epoch 18/100\n",
      "34/34 [==============================] - 0s 2ms/step - loss: 7785.8271 - mae: 7785.8271\n",
      "Epoch 19/100\n",
      "34/34 [==============================] - 0s 2ms/step - loss: 7741.2832 - mae: 7741.2832\n",
      "Epoch 20/100\n",
      "34/34 [==============================] - 0s 2ms/step - loss: 7909.7700 - mae: 7909.7700\n",
      "Epoch 21/100\n",
      "34/34 [==============================] - 0s 2ms/step - loss: 7453.6787 - mae: 7453.6787\n",
      "Epoch 22/100\n",
      "34/34 [==============================] - 0s 2ms/step - loss: 7887.7119 - mae: 7887.7119\n",
      "Epoch 23/100\n",
      "34/34 [==============================] - 0s 2ms/step - loss: 7493.4565 - mae: 7493.4565\n",
      "Epoch 24/100\n",
      "34/34 [==============================] - 0s 2ms/step - loss: 7586.5298 - mae: 7586.5298\n",
      "Epoch 25/100\n",
      "34/34 [==============================] - 0s 2ms/step - loss: 7565.6167 - mae: 7565.6167\n",
      "Epoch 26/100\n",
      "34/34 [==============================] - 0s 2ms/step - loss: 7630.3032 - mae: 7630.3032\n",
      "Epoch 27/100\n",
      "34/34 [==============================] - 0s 2ms/step - loss: 7487.4941 - mae: 7487.4941\n",
      "Epoch 28/100\n",
      "34/34 [==============================] - 0s 2ms/step - loss: 7576.6230 - mae: 7576.6230\n",
      "Epoch 29/100\n",
      "34/34 [==============================] - 0s 2ms/step - loss: 7681.6562 - mae: 7681.6562\n",
      "Epoch 30/100\n",
      "34/34 [==============================] - 0s 2ms/step - loss: 7515.4023 - mae: 7515.4023\n",
      "Epoch 31/100\n",
      "34/34 [==============================] - 0s 2ms/step - loss: 7595.8740 - mae: 7595.8740\n",
      "Epoch 32/100\n",
      "34/34 [==============================] - 0s 2ms/step - loss: 7436.0200 - mae: 7436.0200\n",
      "Epoch 33/100\n",
      "34/34 [==============================] - 0s 2ms/step - loss: 7495.6450 - mae: 7495.6450\n",
      "Epoch 34/100\n",
      "34/34 [==============================] - 0s 2ms/step - loss: 7391.1812 - mae: 7391.1812\n",
      "Epoch 35/100\n",
      "34/34 [==============================] - 0s 2ms/step - loss: 7375.5269 - mae: 7375.5269\n",
      "Epoch 36/100\n",
      "34/34 [==============================] - 0s 2ms/step - loss: 7598.5308 - mae: 7598.5308\n",
      "Epoch 37/100\n",
      "34/34 [==============================] - 0s 2ms/step - loss: 7543.2280 - mae: 7543.2280\n",
      "Epoch 38/100\n",
      "34/34 [==============================] - 0s 2ms/step - loss: 7515.8501 - mae: 7515.8501\n",
      "Epoch 39/100\n",
      "34/34 [==============================] - 0s 2ms/step - loss: 7519.5210 - mae: 7519.5210\n",
      "Epoch 40/100\n",
      "34/34 [==============================] - 0s 2ms/step - loss: 7457.6484 - mae: 7457.6484\n",
      "Epoch 41/100\n",
      "34/34 [==============================] - 0s 2ms/step - loss: 7723.2778 - mae: 7723.2778\n",
      "Epoch 42/100\n",
      "34/34 [==============================] - 0s 2ms/step - loss: 7807.4346 - mae: 7807.4346\n",
      "Epoch 43/100\n",
      "34/34 [==============================] - 0s 2ms/step - loss: 7557.2998 - mae: 7557.2998\n",
      "Epoch 44/100\n",
      "34/34 [==============================] - 0s 2ms/step - loss: 7419.0342 - mae: 7419.0342\n",
      "Epoch 45/100\n",
      "34/34 [==============================] - 0s 2ms/step - loss: 7561.0894 - mae: 7561.0894\n",
      "Epoch 46/100\n",
      "34/34 [==============================] - 0s 2ms/step - loss: 7630.2988 - mae: 7630.2988\n",
      "Epoch 47/100\n",
      "34/34 [==============================] - 0s 2ms/step - loss: 7573.8013 - mae: 7573.8013\n",
      "Epoch 48/100\n",
      "34/34 [==============================] - 0s 2ms/step - loss: 7469.1489 - mae: 7469.1489\n",
      "Epoch 49/100\n",
      "34/34 [==============================] - 0s 2ms/step - loss: 7541.3315 - mae: 7541.3315\n",
      "Epoch 50/100\n",
      "34/34 [==============================] - 0s 2ms/step - loss: 7485.2969 - mae: 7485.2969\n",
      "Epoch 51/100\n",
      "34/34 [==============================] - 0s 2ms/step - loss: 7430.3755 - mae: 7430.3755\n",
      "Epoch 52/100\n",
      "34/34 [==============================] - 0s 2ms/step - loss: 7301.5098 - mae: 7301.5098\n",
      "Epoch 53/100\n",
      "34/34 [==============================] - 0s 2ms/step - loss: 7521.6069 - mae: 7521.6069\n",
      "Epoch 54/100\n",
      "34/34 [==============================] - 0s 2ms/step - loss: 7083.4580 - mae: 7083.4580\n",
      "Epoch 55/100\n",
      "34/34 [==============================] - 0s 2ms/step - loss: 7244.5527 - mae: 7244.5527\n",
      "Epoch 56/100\n",
      "34/34 [==============================] - 0s 2ms/step - loss: 7361.7305 - mae: 7361.7305\n",
      "Epoch 57/100\n",
      "34/34 [==============================] - 0s 2ms/step - loss: 7492.2446 - mae: 7492.2446\n",
      "Epoch 58/100\n",
      "34/34 [==============================] - 0s 2ms/step - loss: 7415.5864 - mae: 7415.5864\n",
      "Epoch 59/100\n",
      "34/34 [==============================] - 0s 2ms/step - loss: 7521.6479 - mae: 7521.6479\n",
      "Epoch 60/100\n",
      "34/34 [==============================] - 0s 2ms/step - loss: 7423.0083 - mae: 7423.0083\n",
      "Epoch 61/100\n",
      "34/34 [==============================] - 0s 2ms/step - loss: 7607.3306 - mae: 7607.3306\n",
      "Epoch 62/100\n",
      "34/34 [==============================] - 0s 2ms/step - loss: 7462.8066 - mae: 7462.8066\n",
      "Epoch 63/100\n",
      "34/34 [==============================] - 0s 2ms/step - loss: 7365.5977 - mae: 7365.5977\n",
      "Epoch 64/100\n",
      "34/34 [==============================] - 0s 2ms/step - loss: 7444.3491 - mae: 7444.3491\n",
      "Epoch 65/100\n",
      "34/34 [==============================] - 0s 2ms/step - loss: 7518.4160 - mae: 7518.4160\n",
      "Epoch 66/100\n",
      "34/34 [==============================] - 0s 2ms/step - loss: 7303.9751 - mae: 7303.9751\n",
      "Epoch 67/100\n",
      "34/34 [==============================] - 0s 2ms/step - loss: 7313.4282 - mae: 7313.4282\n",
      "Epoch 68/100\n",
      "34/34 [==============================] - 0s 2ms/step - loss: 7398.8315 - mae: 7398.8315\n",
      "Epoch 69/100\n",
      "34/34 [==============================] - 0s 2ms/step - loss: 7539.3867 - mae: 7539.3867\n",
      "Epoch 70/100\n",
      "34/34 [==============================] - 0s 2ms/step - loss: 7455.4907 - mae: 7455.4907\n",
      "Epoch 71/100\n",
      "34/34 [==============================] - 0s 2ms/step - loss: 7311.1021 - mae: 7311.1021\n",
      "Epoch 72/100\n",
      "34/34 [==============================] - 0s 2ms/step - loss: 7104.8608 - mae: 7104.8608\n",
      "Epoch 73/100\n",
      "34/34 [==============================] - 0s 2ms/step - loss: 7534.6753 - mae: 7534.6753\n",
      "Epoch 74/100\n",
      "34/34 [==============================] - 0s 2ms/step - loss: 7375.2788 - mae: 7375.2788\n",
      "Epoch 75/100\n",
      "34/34 [==============================] - 0s 2ms/step - loss: 7306.0576 - mae: 7306.0576\n",
      "Epoch 76/100\n",
      "34/34 [==============================] - 0s 2ms/step - loss: 7144.3052 - mae: 7144.3052\n",
      "Epoch 77/100\n",
      "34/34 [==============================] - 0s 2ms/step - loss: 7471.4292 - mae: 7471.4292\n",
      "Epoch 78/100\n",
      "34/34 [==============================] - 0s 2ms/step - loss: 7411.2324 - mae: 7411.2324\n",
      "Epoch 79/100\n",
      "34/34 [==============================] - 0s 2ms/step - loss: 7588.7905 - mae: 7588.7905\n",
      "Epoch 80/100\n",
      "34/34 [==============================] - 0s 2ms/step - loss: 7148.0239 - mae: 7148.0239\n",
      "Epoch 81/100\n",
      "34/34 [==============================] - 0s 2ms/step - loss: 7208.1895 - mae: 7208.1895\n",
      "Epoch 82/100\n"
     ]
    },
    {
     "name": "stdout",
     "output_type": "stream",
     "text": [
      "34/34 [==============================] - 0s 2ms/step - loss: 7096.2207 - mae: 7096.2207\n",
      "Epoch 83/100\n",
      "34/34 [==============================] - 0s 2ms/step - loss: 7463.3608 - mae: 7463.3608\n",
      "Epoch 84/100\n",
      "34/34 [==============================] - 0s 2ms/step - loss: 7281.8208 - mae: 7281.8208\n",
      "Epoch 85/100\n",
      "34/34 [==============================] - 0s 2ms/step - loss: 7210.7319 - mae: 7210.7319\n",
      "Epoch 86/100\n",
      "34/34 [==============================] - 0s 2ms/step - loss: 7590.2554 - mae: 7590.2554\n",
      "Epoch 87/100\n",
      "34/34 [==============================] - 0s 2ms/step - loss: 7154.1685 - mae: 7154.1685\n",
      "Epoch 88/100\n",
      "34/34 [==============================] - 0s 2ms/step - loss: 7357.5347 - mae: 7357.5347\n",
      "Epoch 89/100\n",
      "34/34 [==============================] - 0s 2ms/step - loss: 7267.2100 - mae: 7267.2100\n",
      "Epoch 90/100\n",
      "34/34 [==============================] - 0s 2ms/step - loss: 6966.5898 - mae: 6966.5898\n",
      "Epoch 91/100\n",
      "34/34 [==============================] - 0s 2ms/step - loss: 7200.6562 - mae: 7200.6562\n",
      "Epoch 92/100\n",
      "34/34 [==============================] - 0s 2ms/step - loss: 7222.0830 - mae: 7222.0830\n",
      "Epoch 93/100\n",
      "34/34 [==============================] - 0s 2ms/step - loss: 7529.2871 - mae: 7529.2871\n",
      "Epoch 94/100\n",
      "34/34 [==============================] - 0s 2ms/step - loss: 7242.0220 - mae: 7242.0220\n",
      "Epoch 95/100\n",
      "34/34 [==============================] - 0s 2ms/step - loss: 7493.8306 - mae: 7493.8306\n",
      "Epoch 96/100\n",
      "34/34 [==============================] - 0s 2ms/step - loss: 7209.4976 - mae: 7209.4976\n",
      "Epoch 97/100\n",
      "34/34 [==============================] - 0s 2ms/step - loss: 7154.1870 - mae: 7154.1870\n",
      "Epoch 98/100\n",
      "34/34 [==============================] - 0s 2ms/step - loss: 7416.4688 - mae: 7416.4688\n",
      "Epoch 99/100\n",
      "34/34 [==============================] - 0s 2ms/step - loss: 7311.9292 - mae: 7311.9292\n",
      "Epoch 100/100\n",
      "34/34 [==============================] - 0s 2ms/step - loss: 7387.8643 - mae: 7387.8643\n"
     ]
    },
    {
     "data": {
      "text/plain": [
       "<keras.callbacks.History at 0x1bb1e0ae700>"
      ]
     },
     "execution_count": 93,
     "metadata": {},
     "output_type": "execute_result"
    }
   ],
   "source": [
    "# Build neural network (sort of like model_2 above)\n",
    "\n",
    "# Set a random seed (in order to have some reproducibility)\n",
    "tf.random.set_seed(42)\n",
    "\n",
    "# 1. Create a model\n",
    "insurance_model = tf.keras.Sequential([\n",
    "    tf.keras.layers.Dense(10),\n",
    "    tf.keras.layers.Dense(1)\n",
    "])\n",
    "\n",
    "# 2. Compile the model\n",
    "insurance_model.compile(\n",
    "    loss=tf.keras.losses.mae,\n",
    "    optimizer= tf.keras.optimizers.SGD(),\n",
    "    metrics=[\"mae\"]\n",
    ")\n",
    "\n",
    "# 3. Fit the model\n",
    "insurance_model.fit(X_train, y_train,  epochs=100)"
   ]
  },
  {
   "cell_type": "markdown",
   "id": "ff8bdd4e",
   "metadata": {},
   "source": [
    "**Note**: We didn't have to reformat the input variable into tensors. The reason being, pandas is built on top of numpy: it is a big numpy matrix, and when we pass that to TensorFlow, it automatically knows how to deal with numpy arrays (we have seen that TensorFlow works with numpy arrays)."
   ]
  },
  {
   "cell_type": "code",
   "execution_count": 94,
   "id": "42b1faf8",
   "metadata": {},
   "outputs": [
    {
     "name": "stdout",
     "output_type": "stream",
     "text": [
      "9/9 [==============================] - 0s 2ms/step - loss: 7017.2886 - mae: 7017.2886\n"
     ]
    },
    {
     "data": {
      "text/plain": [
       "[7017.28857421875, 7017.28857421875]"
      ]
     },
     "execution_count": 94,
     "metadata": {},
     "output_type": "execute_result"
    }
   ],
   "source": [
    "# Evaluate the model\n",
    "insurance_model.evaluate(X_test, y_test)"
   ]
  },
  {
   "cell_type": "markdown",
   "id": "083d3525",
   "metadata": {},
   "source": [
    "The MAE of the model is 7021.52; this tell that on average, the model is wrong by about 7021.52            \n",
    "That amount is to high, so the model need to be improved. "
   ]
  },
  {
   "cell_type": "markdown",
   "id": "963e4a81",
   "metadata": {},
   "source": [
    "To (try) improve the model, we will run 02 experiments. \n",
    "<br/><br/>\n",
    "**Experiments**:\n",
    "1. Add an extra layer with more hidden units\n",
    "1. Train for longer\n",
    "1. *Insert your own experiment here, up to your imagination/experience*"
   ]
  },
  {
   "cell_type": "code",
   "execution_count": null,
   "id": "b5ce936c",
   "metadata": {},
   "outputs": [],
   "source": []
  },
  {
   "cell_type": "code",
   "execution_count": 95,
   "id": "efe3dcec",
   "metadata": {},
   "outputs": [
    {
     "name": "stdout",
     "output_type": "stream",
     "text": [
      "Epoch 1/100\n",
      "34/34 [==============================] - 1s 2ms/step - loss: nan - mae: nan          \n",
      "Epoch 2/100\n",
      "34/34 [==============================] - 0s 2ms/step - loss: nan - mae: nan\n",
      "Epoch 3/100\n",
      "34/34 [==============================] - 0s 2ms/step - loss: nan - mae: nan\n",
      "Epoch 4/100\n",
      "34/34 [==============================] - 0s 2ms/step - loss: nan - mae: nan\n",
      "Epoch 5/100\n",
      "34/34 [==============================] - 0s 2ms/step - loss: nan - mae: nan\n",
      "Epoch 6/100\n",
      "34/34 [==============================] - 0s 2ms/step - loss: nan - mae: nan\n",
      "Epoch 7/100\n",
      "34/34 [==============================] - 0s 2ms/step - loss: nan - mae: nan\n",
      "Epoch 8/100\n",
      "34/34 [==============================] - 0s 2ms/step - loss: nan - mae: nan\n",
      "Epoch 9/100\n",
      "34/34 [==============================] - 0s 2ms/step - loss: nan - mae: nan\n",
      "Epoch 10/100\n",
      "34/34 [==============================] - 0s 2ms/step - loss: nan - mae: nan\n",
      "Epoch 11/100\n",
      "34/34 [==============================] - 0s 2ms/step - loss: nan - mae: nan\n",
      "Epoch 12/100\n",
      "34/34 [==============================] - 0s 2ms/step - loss: nan - mae: nan\n",
      "Epoch 13/100\n",
      "34/34 [==============================] - 0s 2ms/step - loss: nan - mae: nan\n",
      "Epoch 14/100\n",
      "34/34 [==============================] - 0s 2ms/step - loss: nan - mae: nan\n",
      "Epoch 15/100\n",
      "34/34 [==============================] - 0s 2ms/step - loss: nan - mae: nan\n",
      "Epoch 16/100\n",
      "34/34 [==============================] - 0s 2ms/step - loss: nan - mae: nan\n",
      "Epoch 17/100\n",
      "34/34 [==============================] - 0s 2ms/step - loss: nan - mae: nan\n",
      "Epoch 18/100\n",
      "34/34 [==============================] - 0s 2ms/step - loss: nan - mae: nan\n",
      "Epoch 19/100\n",
      "34/34 [==============================] - 0s 2ms/step - loss: nan - mae: nan\n",
      "Epoch 20/100\n",
      "34/34 [==============================] - 0s 2ms/step - loss: nan - mae: nan\n",
      "Epoch 21/100\n",
      "34/34 [==============================] - 0s 2ms/step - loss: nan - mae: nan\n",
      "Epoch 22/100\n",
      "34/34 [==============================] - 0s 2ms/step - loss: nan - mae: nan\n",
      "Epoch 23/100\n",
      "34/34 [==============================] - 0s 2ms/step - loss: nan - mae: nan\n",
      "Epoch 24/100\n",
      "34/34 [==============================] - 0s 2ms/step - loss: nan - mae: nan\n",
      "Epoch 25/100\n",
      "34/34 [==============================] - 0s 2ms/step - loss: nan - mae: nan\n",
      "Epoch 26/100\n",
      "34/34 [==============================] - 0s 2ms/step - loss: nan - mae: nan\n",
      "Epoch 27/100\n",
      "34/34 [==============================] - 0s 2ms/step - loss: nan - mae: nan\n",
      "Epoch 28/100\n",
      "34/34 [==============================] - 0s 2ms/step - loss: nan - mae: nan\n",
      "Epoch 29/100\n",
      "34/34 [==============================] - 0s 2ms/step - loss: nan - mae: nan\n",
      "Epoch 30/100\n",
      "34/34 [==============================] - 0s 2ms/step - loss: nan - mae: nan\n",
      "Epoch 31/100\n",
      "34/34 [==============================] - 0s 2ms/step - loss: nan - mae: nan\n",
      "Epoch 32/100\n",
      "34/34 [==============================] - 0s 2ms/step - loss: nan - mae: nan\n",
      "Epoch 33/100\n",
      "34/34 [==============================] - 0s 2ms/step - loss: nan - mae: nan\n",
      "Epoch 34/100\n",
      "34/34 [==============================] - 0s 2ms/step - loss: nan - mae: nan\n",
      "Epoch 35/100\n",
      "34/34 [==============================] - 0s 2ms/step - loss: nan - mae: nan\n",
      "Epoch 36/100\n",
      "34/34 [==============================] - 0s 2ms/step - loss: nan - mae: nan\n",
      "Epoch 37/100\n",
      "34/34 [==============================] - 0s 2ms/step - loss: nan - mae: nan\n",
      "Epoch 38/100\n",
      "34/34 [==============================] - 0s 2ms/step - loss: nan - mae: nan\n",
      "Epoch 39/100\n",
      "34/34 [==============================] - 0s 2ms/step - loss: nan - mae: nan\n",
      "Epoch 40/100\n",
      "34/34 [==============================] - 0s 2ms/step - loss: nan - mae: nan\n",
      "Epoch 41/100\n",
      "34/34 [==============================] - 0s 2ms/step - loss: nan - mae: nan\n",
      "Epoch 42/100\n",
      "34/34 [==============================] - 0s 2ms/step - loss: nan - mae: nan\n",
      "Epoch 43/100\n",
      "34/34 [==============================] - 0s 2ms/step - loss: nan - mae: nan\n",
      "Epoch 44/100\n",
      "34/34 [==============================] - 0s 2ms/step - loss: nan - mae: nan\n",
      "Epoch 45/100\n",
      "34/34 [==============================] - 0s 2ms/step - loss: nan - mae: nan\n",
      "Epoch 46/100\n",
      "34/34 [==============================] - 0s 2ms/step - loss: nan - mae: nan\n",
      "Epoch 47/100\n",
      "34/34 [==============================] - 0s 2ms/step - loss: nan - mae: nan\n",
      "Epoch 48/100\n",
      "34/34 [==============================] - 0s 2ms/step - loss: nan - mae: nan\n",
      "Epoch 49/100\n",
      "34/34 [==============================] - 0s 2ms/step - loss: nan - mae: nan\n",
      "Epoch 50/100\n",
      "34/34 [==============================] - 0s 2ms/step - loss: nan - mae: nan\n",
      "Epoch 51/100\n",
      "34/34 [==============================] - 0s 2ms/step - loss: nan - mae: nan\n",
      "Epoch 52/100\n",
      "34/34 [==============================] - 0s 2ms/step - loss: nan - mae: nan\n",
      "Epoch 53/100\n",
      "34/34 [==============================] - 0s 2ms/step - loss: nan - mae: nan\n",
      "Epoch 54/100\n",
      "34/34 [==============================] - 0s 2ms/step - loss: nan - mae: nan\n",
      "Epoch 55/100\n",
      "34/34 [==============================] - 0s 2ms/step - loss: nan - mae: nan\n",
      "Epoch 56/100\n",
      "34/34 [==============================] - 0s 2ms/step - loss: nan - mae: nan\n",
      "Epoch 57/100\n",
      "34/34 [==============================] - 0s 2ms/step - loss: nan - mae: nan\n",
      "Epoch 58/100\n",
      "34/34 [==============================] - 0s 2ms/step - loss: nan - mae: nan\n",
      "Epoch 59/100\n",
      "34/34 [==============================] - 0s 2ms/step - loss: nan - mae: nan\n",
      "Epoch 60/100\n",
      "34/34 [==============================] - 0s 2ms/step - loss: nan - mae: nan\n",
      "Epoch 61/100\n",
      "34/34 [==============================] - 0s 2ms/step - loss: nan - mae: nan\n",
      "Epoch 62/100\n",
      "34/34 [==============================] - 0s 2ms/step - loss: nan - mae: nan\n",
      "Epoch 63/100\n",
      "34/34 [==============================] - 0s 2ms/step - loss: nan - mae: nan\n",
      "Epoch 64/100\n",
      "34/34 [==============================] - 0s 2ms/step - loss: nan - mae: nan\n",
      "Epoch 65/100\n",
      "34/34 [==============================] - 0s 2ms/step - loss: nan - mae: nan\n",
      "Epoch 66/100\n",
      "34/34 [==============================] - 0s 2ms/step - loss: nan - mae: nan\n",
      "Epoch 67/100\n",
      "34/34 [==============================] - 0s 2ms/step - loss: nan - mae: nan\n",
      "Epoch 68/100\n",
      "34/34 [==============================] - 0s 2ms/step - loss: nan - mae: nan\n",
      "Epoch 69/100\n",
      "34/34 [==============================] - 0s 2ms/step - loss: nan - mae: nan\n",
      "Epoch 70/100\n",
      "34/34 [==============================] - 0s 2ms/step - loss: nan - mae: nan\n",
      "Epoch 71/100\n",
      "34/34 [==============================] - 0s 2ms/step - loss: nan - mae: nan\n",
      "Epoch 72/100\n",
      "34/34 [==============================] - 0s 2ms/step - loss: nan - mae: nan\n",
      "Epoch 73/100\n",
      "34/34 [==============================] - 0s 2ms/step - loss: nan - mae: nan\n",
      "Epoch 74/100\n",
      "34/34 [==============================] - 0s 2ms/step - loss: nan - mae: nan\n",
      "Epoch 75/100\n",
      "34/34 [==============================] - 0s 2ms/step - loss: nan - mae: nan\n",
      "Epoch 76/100\n",
      "34/34 [==============================] - 0s 2ms/step - loss: nan - mae: nan\n",
      "Epoch 77/100\n",
      "34/34 [==============================] - 0s 2ms/step - loss: nan - mae: nan\n",
      "Epoch 78/100\n",
      "34/34 [==============================] - 0s 2ms/step - loss: nan - mae: nan\n",
      "Epoch 79/100\n",
      "34/34 [==============================] - 0s 2ms/step - loss: nan - mae: nan\n",
      "Epoch 80/100\n",
      "34/34 [==============================] - 0s 2ms/step - loss: nan - mae: nan\n",
      "Epoch 81/100\n",
      "34/34 [==============================] - 0s 2ms/step - loss: nan - mae: nan\n",
      "Epoch 82/100\n",
      "34/34 [==============================] - 0s 2ms/step - loss: nan - mae: nan\n",
      "Epoch 83/100\n",
      "34/34 [==============================] - 0s 2ms/step - loss: nan - mae: nan\n",
      "Epoch 84/100\n",
      "34/34 [==============================] - 0s 2ms/step - loss: nan - mae: nan\n",
      "Epoch 85/100\n",
      "34/34 [==============================] - 0s 2ms/step - loss: nan - mae: nan\n",
      "Epoch 86/100\n",
      "34/34 [==============================] - 0s 2ms/step - loss: nan - mae: nan\n",
      "Epoch 87/100\n",
      "34/34 [==============================] - 0s 2ms/step - loss: nan - mae: nan\n",
      "Epoch 88/100\n",
      "34/34 [==============================] - 0s 2ms/step - loss: nan - mae: nan\n",
      "Epoch 89/100\n",
      "34/34 [==============================] - 0s 2ms/step - loss: nan - mae: nan\n",
      "Epoch 90/100\n",
      "34/34 [==============================] - 0s 2ms/step - loss: nan - mae: nan\n",
      "Epoch 91/100\n",
      "34/34 [==============================] - 0s 2ms/step - loss: nan - mae: nan\n",
      "Epoch 92/100\n",
      "34/34 [==============================] - 0s 2ms/step - loss: nan - mae: nan\n",
      "Epoch 93/100\n"
     ]
    },
    {
     "name": "stdout",
     "output_type": "stream",
     "text": [
      "34/34 [==============================] - 0s 2ms/step - loss: nan - mae: nan\n",
      "Epoch 94/100\n",
      "34/34 [==============================] - 0s 2ms/step - loss: nan - mae: nan\n",
      "Epoch 95/100\n",
      "34/34 [==============================] - 0s 2ms/step - loss: nan - mae: nan\n",
      "Epoch 96/100\n",
      "34/34 [==============================] - 0s 2ms/step - loss: nan - mae: nan\n",
      "Epoch 97/100\n",
      "34/34 [==============================] - 0s 2ms/step - loss: nan - mae: nan\n",
      "Epoch 98/100\n",
      "34/34 [==============================] - 0s 2ms/step - loss: nan - mae: nan\n",
      "Epoch 99/100\n",
      "34/34 [==============================] - 0s 2ms/step - loss: nan - mae: nan\n",
      "Epoch 100/100\n",
      "34/34 [==============================] - 0s 2ms/step - loss: nan - mae: nan\n"
     ]
    },
    {
     "data": {
      "text/plain": [
       "<keras.callbacks.History at 0x1bb1e0ae820>"
      ]
     },
     "execution_count": 95,
     "metadata": {},
     "output_type": "execute_result"
    }
   ],
   "source": [
    "# 1st experiment: add extra layer with more hidden units\n",
    "\n",
    "# Set random seed\n",
    "tf.random.set_seed(42)\n",
    "\n",
    "# 1. Create the model\n",
    "insurance_model_2 = tf.keras.Sequential([\n",
    "    tf.keras.layers.Dense(100),\n",
    "    tf.keras.layers.Dense(10),\n",
    "    tf.keras.layers.Dense(1)\n",
    "])\n",
    "\n",
    "# 2. Compile the model\n",
    "insurance_model_2.compile(loss=tf.keras.losses.mae,\n",
    "                         optimizer=tf.keras.optimizers.SGD(),\n",
    "                         metrics=[\"mae\"])\n",
    "\n",
    "# 3. Fit the model\n",
    "insurance_model_2.fit(X_train, y_train, epochs=100, verbose=1)"
   ]
  },
  {
   "cell_type": "markdown",
   "id": "7c30ff6b",
   "metadata": {},
   "source": [
    "**💡 Personal note**                \n",
    "\n",
    "Our model is outputing NAN as value. If we remove the first layer of 100 units, we would remark that the model we be trained fine. So we can theorize that the model is too large, and the dataset too small, for the model to learn anything.\n",
    "There are a few workaround such a case:\n",
    "1. Make the model a little smaller (the unit in the first layer can be reduced)\n",
    "1. The learning rate of the model can be reduced (so that the model learn better)\n",
    "1. The optimizer of the model can be chandeg."
   ]
  },
  {
   "cell_type": "code",
   "execution_count": null,
   "id": "e3be9852",
   "metadata": {},
   "outputs": [],
   "source": []
  },
  {
   "cell_type": "code",
   "execution_count": 96,
   "id": "2c78396e",
   "metadata": {},
   "outputs": [
    {
     "name": "stdout",
     "output_type": "stream",
     "text": [
      "Epoch 1/100\n",
      "34/34 [==============================] - 1s 2ms/step - loss: 13286.8340 - mae: 13286.8340\n",
      "Epoch 2/100\n",
      "34/34 [==============================] - 0s 2ms/step - loss: 13096.0049 - mae: 13096.0049\n",
      "Epoch 3/100\n",
      "34/34 [==============================] - 0s 2ms/step - loss: 12703.3008 - mae: 12703.3008\n",
      "Epoch 4/100\n",
      "34/34 [==============================] - 0s 2ms/step - loss: 11955.8242 - mae: 11955.8242\n",
      "Epoch 5/100\n",
      "34/34 [==============================] - 0s 2ms/step - loss: 10755.5000 - mae: 10755.5000\n",
      "Epoch 6/100\n",
      "34/34 [==============================] - 0s 3ms/step - loss: 9298.6719 - mae: 9298.6719\n",
      "Epoch 7/100\n",
      "34/34 [==============================] - 0s 3ms/step - loss: 8037.7627 - mae: 8037.7627\n",
      "Epoch 8/100\n",
      "34/34 [==============================] - 0s 3ms/step - loss: 7506.7856 - mae: 7506.7856\n",
      "Epoch 9/100\n",
      "34/34 [==============================] - 0s 3ms/step - loss: 7428.8433 - mae: 7428.8433\n",
      "Epoch 10/100\n",
      "34/34 [==============================] - 0s 2ms/step - loss: 7409.3550 - mae: 7409.3550\n",
      "Epoch 11/100\n",
      "34/34 [==============================] - 0s 2ms/step - loss: 7390.8647 - mae: 7390.8647\n",
      "Epoch 12/100\n",
      "34/34 [==============================] - 0s 2ms/step - loss: 7368.6074 - mae: 7368.6074\n",
      "Epoch 13/100\n",
      "34/34 [==============================] - 0s 2ms/step - loss: 7348.0186 - mae: 7348.0186\n",
      "Epoch 14/100\n",
      "34/34 [==============================] - 0s 2ms/step - loss: 7325.7036 - mae: 7325.7036\n",
      "Epoch 15/100\n",
      "34/34 [==============================] - 0s 2ms/step - loss: 7306.5522 - mae: 7306.5522\n",
      "Epoch 16/100\n",
      "34/34 [==============================] - 0s 2ms/step - loss: 7284.1836 - mae: 7284.1836\n",
      "Epoch 17/100\n",
      "34/34 [==============================] - 0s 2ms/step - loss: 7263.7759 - mae: 7263.7759\n",
      "Epoch 18/100\n",
      "34/34 [==============================] - 0s 2ms/step - loss: 7240.3594 - mae: 7240.3594\n",
      "Epoch 19/100\n",
      "34/34 [==============================] - 0s 2ms/step - loss: 7217.9160 - mae: 7217.9160\n",
      "Epoch 20/100\n",
      "34/34 [==============================] - 0s 2ms/step - loss: 7194.1226 - mae: 7194.1226\n",
      "Epoch 21/100\n",
      "34/34 [==============================] - 0s 2ms/step - loss: 7175.4609 - mae: 7175.4609\n",
      "Epoch 22/100\n",
      "34/34 [==============================] - 0s 2ms/step - loss: 7147.2910 - mae: 7147.2910\n",
      "Epoch 23/100\n",
      "34/34 [==============================] - 0s 2ms/step - loss: 7121.8896 - mae: 7121.8896\n",
      "Epoch 24/100\n",
      "34/34 [==============================] - 0s 2ms/step - loss: 7096.8970 - mae: 7096.8970\n",
      "Epoch 25/100\n",
      "34/34 [==============================] - 0s 2ms/step - loss: 7078.6577 - mae: 7078.6577\n",
      "Epoch 26/100\n",
      "34/34 [==============================] - 0s 2ms/step - loss: 7045.8711 - mae: 7045.8711\n",
      "Epoch 27/100\n",
      "34/34 [==============================] - 0s 2ms/step - loss: 7017.4531 - mae: 7017.4531\n",
      "Epoch 28/100\n",
      "34/34 [==============================] - 0s 2ms/step - loss: 6989.0469 - mae: 6989.0469\n",
      "Epoch 29/100\n",
      "34/34 [==============================] - 0s 2ms/step - loss: 6960.5757 - mae: 6960.5757\n",
      "Epoch 30/100\n",
      "34/34 [==============================] - 0s 2ms/step - loss: 6932.6582 - mae: 6932.6582\n",
      "Epoch 31/100\n",
      "34/34 [==============================] - 0s 2ms/step - loss: 6901.3770 - mae: 6901.3770\n",
      "Epoch 32/100\n",
      "34/34 [==============================] - 0s 2ms/step - loss: 6872.9219 - mae: 6872.9219\n",
      "Epoch 33/100\n",
      "34/34 [==============================] - 0s 2ms/step - loss: 6841.5820 - mae: 6841.5820\n",
      "Epoch 34/100\n",
      "34/34 [==============================] - 0s 2ms/step - loss: 6809.0049 - mae: 6809.0049\n",
      "Epoch 35/100\n",
      "34/34 [==============================] - 0s 2ms/step - loss: 6774.9131 - mae: 6774.9131\n",
      "Epoch 36/100\n",
      "34/34 [==============================] - 0s 2ms/step - loss: 6740.0146 - mae: 6740.0146\n",
      "Epoch 37/100\n",
      "34/34 [==============================] - 0s 2ms/step - loss: 6703.9365 - mae: 6703.9365\n",
      "Epoch 38/100\n",
      "34/34 [==============================] - 0s 2ms/step - loss: 6672.6392 - mae: 6672.6392\n",
      "Epoch 39/100\n",
      "34/34 [==============================] - 0s 2ms/step - loss: 6635.1250 - mae: 6635.1250\n",
      "Epoch 40/100\n",
      "34/34 [==============================] - 0s 2ms/step - loss: 6600.1763 - mae: 6600.1763\n",
      "Epoch 41/100\n",
      "34/34 [==============================] - 0s 2ms/step - loss: 6568.7749 - mae: 6568.7749\n",
      "Epoch 42/100\n",
      "34/34 [==============================] - 0s 2ms/step - loss: 6544.7124 - mae: 6544.7124\n",
      "Epoch 43/100\n",
      "34/34 [==============================] - 0s 2ms/step - loss: 6516.0200 - mae: 6516.0200\n",
      "Epoch 44/100\n",
      "34/34 [==============================] - 0s 2ms/step - loss: 6494.3945 - mae: 6494.3945\n",
      "Epoch 45/100\n",
      "34/34 [==============================] - 0s 2ms/step - loss: 6483.7241 - mae: 6483.7241\n",
      "Epoch 46/100\n",
      "34/34 [==============================] - 0s 2ms/step - loss: 6465.7744 - mae: 6465.7744\n",
      "Epoch 47/100\n",
      "34/34 [==============================] - 0s 2ms/step - loss: 6448.3662 - mae: 6448.3662\n",
      "Epoch 48/100\n",
      "34/34 [==============================] - 0s 2ms/step - loss: 6434.6577 - mae: 6434.6577\n",
      "Epoch 49/100\n",
      "34/34 [==============================] - 0s 2ms/step - loss: 6421.6387 - mae: 6421.6387\n",
      "Epoch 50/100\n",
      "34/34 [==============================] - 0s 2ms/step - loss: 6407.5557 - mae: 6407.5557\n",
      "Epoch 51/100\n",
      "34/34 [==============================] - 0s 2ms/step - loss: 6393.2217 - mae: 6393.2217\n",
      "Epoch 52/100\n",
      "34/34 [==============================] - 0s 2ms/step - loss: 6381.7427 - mae: 6381.7427\n",
      "Epoch 53/100\n",
      "34/34 [==============================] - 0s 2ms/step - loss: 6367.6934 - mae: 6367.6934\n",
      "Epoch 54/100\n",
      "34/34 [==============================] - 0s 2ms/step - loss: 6353.1802 - mae: 6353.1802\n",
      "Epoch 55/100\n",
      "34/34 [==============================] - 0s 2ms/step - loss: 6339.2075 - mae: 6339.2075\n",
      "Epoch 56/100\n",
      "34/34 [==============================] - 0s 2ms/step - loss: 6325.3735 - mae: 6325.3735\n",
      "Epoch 57/100\n",
      "34/34 [==============================] - 0s 2ms/step - loss: 6311.8472 - mae: 6311.8472\n",
      "Epoch 58/100\n",
      "34/34 [==============================] - 0s 2ms/step - loss: 6297.2773 - mae: 6297.2773\n",
      "Epoch 59/100\n",
      "34/34 [==============================] - 0s 2ms/step - loss: 6282.4121 - mae: 6282.4121\n",
      "Epoch 60/100\n",
      "34/34 [==============================] - 0s 2ms/step - loss: 6270.7061 - mae: 6270.7061\n",
      "Epoch 61/100\n",
      "34/34 [==============================] - 0s 2ms/step - loss: 6250.7329 - mae: 6250.7329\n",
      "Epoch 62/100\n",
      "34/34 [==============================] - 0s 2ms/step - loss: 6237.6836 - mae: 6237.6836\n",
      "Epoch 63/100\n",
      "34/34 [==============================] - 0s 2ms/step - loss: 6218.9692 - mae: 6218.9692\n",
      "Epoch 64/100\n",
      "34/34 [==============================] - 0s 2ms/step - loss: 6201.6040 - mae: 6201.6040\n",
      "Epoch 65/100\n",
      "34/34 [==============================] - 0s 2ms/step - loss: 6183.7510 - mae: 6183.7510\n",
      "Epoch 66/100\n",
      "34/34 [==============================] - 0s 2ms/step - loss: 6166.1265 - mae: 6166.1265\n",
      "Epoch 67/100\n",
      "34/34 [==============================] - 0s 2ms/step - loss: 6152.8193 - mae: 6152.8193\n",
      "Epoch 68/100\n",
      "34/34 [==============================] - 0s 2ms/step - loss: 6130.5435 - mae: 6130.5435\n",
      "Epoch 69/100\n",
      "34/34 [==============================] - 0s 2ms/step - loss: 6112.6558 - mae: 6112.6558\n",
      "Epoch 70/100\n",
      "34/34 [==============================] - 0s 2ms/step - loss: 6091.9028 - mae: 6091.9028\n",
      "Epoch 71/100\n",
      "34/34 [==============================] - 0s 2ms/step - loss: 6071.6357 - mae: 6071.6357\n",
      "Epoch 72/100\n",
      "34/34 [==============================] - 0s 2ms/step - loss: 6050.2744 - mae: 6050.2744\n",
      "Epoch 73/100\n",
      "34/34 [==============================] - 0s 2ms/step - loss: 6036.6567 - mae: 6036.6567\n",
      "Epoch 74/100\n",
      "34/34 [==============================] - 0s 2ms/step - loss: 6006.8359 - mae: 6006.8359\n",
      "Epoch 75/100\n",
      "34/34 [==============================] - 0s 2ms/step - loss: 5984.4546 - mae: 5984.4546\n",
      "Epoch 76/100\n",
      "34/34 [==============================] - 0s 2ms/step - loss: 5968.6519 - mae: 5968.6519\n",
      "Epoch 77/100\n",
      "34/34 [==============================] - 0s 2ms/step - loss: 5935.9277 - mae: 5935.9277\n",
      "Epoch 78/100\n",
      "34/34 [==============================] - 0s 2ms/step - loss: 5911.0557 - mae: 5911.0557\n",
      "Epoch 79/100\n",
      "34/34 [==============================] - 0s 2ms/step - loss: 5885.2588 - mae: 5885.2588\n",
      "Epoch 80/100\n",
      "34/34 [==============================] - 0s 2ms/step - loss: 5855.6572 - mae: 5855.6572\n",
      "Epoch 81/100\n",
      "34/34 [==============================] - 0s 3ms/step - loss: 5829.1377 - mae: 5829.1377\n",
      "Epoch 82/100\n"
     ]
    },
    {
     "name": "stdout",
     "output_type": "stream",
     "text": [
      "34/34 [==============================] - 0s 2ms/step - loss: 5798.8423 - mae: 5798.8423\n",
      "Epoch 83/100\n",
      "34/34 [==============================] - 0s 2ms/step - loss: 5768.8706 - mae: 5768.8706\n",
      "Epoch 84/100\n",
      "34/34 [==============================] - 0s 2ms/step - loss: 5735.4810 - mae: 5735.4810\n",
      "Epoch 85/100\n",
      "34/34 [==============================] - 0s 2ms/step - loss: 5710.7788 - mae: 5710.7788\n",
      "Epoch 86/100\n",
      "34/34 [==============================] - 0s 2ms/step - loss: 5671.3945 - mae: 5671.3945\n",
      "Epoch 87/100\n",
      "34/34 [==============================] - 0s 2ms/step - loss: 5632.9907 - mae: 5632.9907\n",
      "Epoch 88/100\n",
      "34/34 [==============================] - 0s 2ms/step - loss: 5594.9829 - mae: 5594.9829\n",
      "Epoch 89/100\n",
      "34/34 [==============================] - 0s 2ms/step - loss: 5555.0215 - mae: 5555.0215\n",
      "Epoch 90/100\n",
      "34/34 [==============================] - 0s 2ms/step - loss: 5510.7378 - mae: 5510.7378\n",
      "Epoch 91/100\n",
      "34/34 [==============================] - 0s 2ms/step - loss: 5472.5405 - mae: 5472.5405\n",
      "Epoch 92/100\n",
      "34/34 [==============================] - 0s 2ms/step - loss: 5421.6113 - mae: 5421.6113\n",
      "Epoch 93/100\n",
      "34/34 [==============================] - 0s 2ms/step - loss: 5376.6226 - mae: 5376.6226\n",
      "Epoch 94/100\n",
      "34/34 [==============================] - 0s 2ms/step - loss: 5326.4019 - mae: 5326.4019\n",
      "Epoch 95/100\n",
      "34/34 [==============================] - 0s 2ms/step - loss: 5273.6914 - mae: 5273.6914\n",
      "Epoch 96/100\n",
      "34/34 [==============================] - 0s 2ms/step - loss: 5224.4995 - mae: 5224.4995\n",
      "Epoch 97/100\n",
      "34/34 [==============================] - 0s 2ms/step - loss: 5167.7764 - mae: 5167.7764\n",
      "Epoch 98/100\n",
      "34/34 [==============================] - 0s 2ms/step - loss: 5103.9902 - mae: 5103.9902\n",
      "Epoch 99/100\n",
      "34/34 [==============================] - 0s 2ms/step - loss: 5041.8486 - mae: 5041.8486\n",
      "Epoch 100/100\n",
      "34/34 [==============================] - 0s 2ms/step - loss: 4983.9980 - mae: 4983.9980\n"
     ]
    },
    {
     "data": {
      "text/plain": [
       "<keras.callbacks.History at 0x1bb1f389d90>"
      ]
     },
     "execution_count": 96,
     "metadata": {},
     "output_type": "execute_result"
    }
   ],
   "source": [
    "# 1st experiment (updated): add extra layer with more hidden units, while using Adam optimizer\n",
    "\n",
    "# Set random seed\n",
    "tf.random.set_seed(42)\n",
    "\n",
    "# 1. Create the model\n",
    "insurance_model_2 = tf.keras.Sequential([\n",
    "    tf.keras.layers.Dense(100),\n",
    "    tf.keras.layers.Dense(10),\n",
    "    tf.keras.layers.Dense(1)\n",
    "])\n",
    "\n",
    "# 2. Compile the model\n",
    "insurance_model_2.compile(loss=tf.keras.losses.mae,\n",
    "                         optimizer=tf.keras.optimizers.Adam(),\n",
    "                         metrics=[\"mae\"])\n",
    "\n",
    "# 3. Fit the model\n",
    "insurance_model_2.fit(X_train, y_train, epochs=100, verbose=1)"
   ]
  },
  {
   "cell_type": "markdown",
   "id": "d26894a7",
   "metadata": {},
   "source": [
    "Two remarks:\n",
    "1. Now the model is not outputing NAN when we updated its optimizer\n",
    "1. This model is performing better (the loss now is 4943) in training compared to the first one"
   ]
  },
  {
   "cell_type": "code",
   "execution_count": 97,
   "id": "e791e747",
   "metadata": {},
   "outputs": [
    {
     "name": "stdout",
     "output_type": "stream",
     "text": [
      "9/9 [==============================] - 0s 2ms/step - loss: 4853.3525 - mae: 4853.3525\n"
     ]
    },
    {
     "data": {
      "text/plain": [
       "[4853.3525390625, 4853.3525390625]"
      ]
     },
     "execution_count": 97,
     "metadata": {},
     "output_type": "execute_result"
    }
   ],
   "source": [
    "# Evaluate the 2nd model\n",
    "insurance_model_2.evaluate(X_test, y_test)"
   ]
  },
  {
   "cell_type": "code",
   "execution_count": 98,
   "id": "ad4f9156",
   "metadata": {},
   "outputs": [
    {
     "name": "stdout",
     "output_type": "stream",
     "text": [
      "9/9 [==============================] - 0s 2ms/step - loss: 7017.2886 - mae: 7017.2886\n"
     ]
    },
    {
     "data": {
      "text/plain": [
       "[7017.28857421875, 7017.28857421875]"
      ]
     },
     "execution_count": 98,
     "metadata": {},
     "output_type": "execute_result"
    }
   ],
   "source": [
    "# Evaluate the 1st model\n",
    "insurance_model.evaluate(X_test, y_test)"
   ]
  },
  {
   "cell_type": "markdown",
   "id": "9629f9fe",
   "metadata": {},
   "source": [
    "The 2nd model is indeed better than the 1st one, by a distance of 3000. Recall that only two things were tweaked: an extra layer was added, and the optimizer was changed; this might not always work, but it is good to remember they are one of the levers than can be turned to try to improve a model."
   ]
  },
  {
   "cell_type": "code",
   "execution_count": null,
   "id": "171d6ae0",
   "metadata": {},
   "outputs": [],
   "source": []
  },
  {
   "cell_type": "markdown",
   "id": "5d7497bd",
   "metadata": {},
   "source": [
    "We will update our experiments (the experiments can be updated according to how each of them proceed).\n",
    " \n",
    "<br/><br/>\n",
    "**Experiments (update)**:\n",
    "1. Add an extra layer with more hidden units, and use Adam optimizer\n",
    "1. Same as above, but train for longer\n",
    "1. *Insert your own experiment here, up to your imagination/experience*\n",
    "\n",
    "The second experiment was updated to \"Same as above,...\" because we saw that the 1st experiment give us a better result than the original model; thus we choose to try to improve the model of the 1st experiment during the 2nd experiment."
   ]
  },
  {
   "cell_type": "code",
   "execution_count": 99,
   "id": "58b2e547",
   "metadata": {},
   "outputs": [
    {
     "name": "stdout",
     "output_type": "stream",
     "text": [
      "Epoch 1/200\n",
      "34/34 [==============================] - 1s 2ms/step - loss: 13317.0518 - mae: 13317.0518\n",
      "Epoch 2/200\n",
      "34/34 [==============================] - 0s 2ms/step - loss: 13180.9980 - mae: 13180.9980\n",
      "Epoch 3/200\n",
      "34/34 [==============================] - 0s 2ms/step - loss: 12882.5576 - mae: 12882.5576\n",
      "Epoch 4/200\n",
      "34/34 [==============================] - 0s 2ms/step - loss: 12280.2705 - mae: 12280.2705\n",
      "Epoch 5/200\n",
      "34/34 [==============================] - 0s 2ms/step - loss: 11231.0811 - mae: 11231.0811\n",
      "Epoch 6/200\n",
      "34/34 [==============================] - 0s 2ms/step - loss: 9796.1270 - mae: 9796.1270\n",
      "Epoch 7/200\n",
      "34/34 [==============================] - 0s 2ms/step - loss: 8381.1260 - mae: 8381.1260\n",
      "Epoch 8/200\n",
      "34/34 [==============================] - 0s 2ms/step - loss: 7594.2339 - mae: 7594.2339\n",
      "Epoch 9/200\n",
      "34/34 [==============================] - 0s 2ms/step - loss: 7433.7671 - mae: 7433.7671\n",
      "Epoch 10/200\n",
      "34/34 [==============================] - 0s 2ms/step - loss: 7410.7573 - mae: 7410.7573\n",
      "Epoch 11/200\n",
      "34/34 [==============================] - 0s 3ms/step - loss: 7392.7808 - mae: 7392.7808\n",
      "Epoch 12/200\n",
      "34/34 [==============================] - 0s 2ms/step - loss: 7371.9233 - mae: 7371.9233\n",
      "Epoch 13/200\n",
      "34/34 [==============================] - 0s 2ms/step - loss: 7352.3740 - mae: 7352.3740\n",
      "Epoch 14/200\n",
      "34/34 [==============================] - 0s 2ms/step - loss: 7331.2051 - mae: 7331.2051\n",
      "Epoch 15/200\n",
      "34/34 [==============================] - 0s 2ms/step - loss: 7313.2031 - mae: 7313.2031\n",
      "Epoch 16/200\n",
      "34/34 [==============================] - 0s 2ms/step - loss: 7292.1113 - mae: 7292.1113\n",
      "Epoch 17/200\n",
      "34/34 [==============================] - 0s 2ms/step - loss: 7273.0493 - mae: 7273.0493\n",
      "Epoch 18/200\n",
      "34/34 [==============================] - 0s 2ms/step - loss: 7251.0854 - mae: 7251.0854\n",
      "Epoch 19/200\n",
      "34/34 [==============================] - 0s 2ms/step - loss: 7230.1860 - mae: 7230.1860\n",
      "Epoch 20/200\n",
      "34/34 [==============================] - 0s 2ms/step - loss: 7208.1665 - mae: 7208.1665\n",
      "Epoch 21/200\n",
      "34/34 [==============================] - 0s 2ms/step - loss: 7189.9531 - mae: 7189.9531\n",
      "Epoch 22/200\n",
      "34/34 [==============================] - 0s 2ms/step - loss: 7164.5332 - mae: 7164.5332\n",
      "Epoch 23/200\n",
      "34/34 [==============================] - 0s 2ms/step - loss: 7141.0835 - mae: 7141.0835\n",
      "Epoch 24/200\n",
      "34/34 [==============================] - 0s 2ms/step - loss: 7118.1406 - mae: 7118.1406\n",
      "Epoch 25/200\n",
      "34/34 [==============================] - 0s 2ms/step - loss: 7101.3052 - mae: 7101.3052\n",
      "Epoch 26/200\n",
      "34/34 [==============================] - 0s 2ms/step - loss: 7071.8486 - mae: 7071.8486\n",
      "Epoch 27/200\n",
      "34/34 [==============================] - 0s 2ms/step - loss: 7045.3213 - mae: 7045.3213\n",
      "Epoch 28/200\n",
      "34/34 [==============================] - 0s 2ms/step - loss: 7019.1807 - mae: 7019.1807\n",
      "Epoch 29/200\n",
      "34/34 [==============================] - 0s 2ms/step - loss: 6992.9727 - mae: 6992.9727\n",
      "Epoch 30/200\n",
      "34/34 [==============================] - 0s 2ms/step - loss: 6968.5913 - mae: 6968.5913\n",
      "Epoch 31/200\n",
      "34/34 [==============================] - 0s 2ms/step - loss: 6939.2881 - mae: 6939.2881\n",
      "Epoch 32/200\n",
      "34/34 [==============================] - 0s 2ms/step - loss: 6914.8164 - mae: 6914.8164\n",
      "Epoch 33/200\n",
      "34/34 [==============================] - 0s 2ms/step - loss: 6885.3940 - mae: 6885.3940\n",
      "Epoch 34/200\n",
      "34/34 [==============================] - 0s 3ms/step - loss: 6855.7861 - mae: 6855.7861\n",
      "Epoch 35/200\n",
      "34/34 [==============================] - 0s 2ms/step - loss: 6825.7822 - mae: 6825.7822\n",
      "Epoch 36/200\n",
      "34/34 [==============================] - 0s 2ms/step - loss: 6794.4990 - mae: 6794.4990\n",
      "Epoch 37/200\n",
      "34/34 [==============================] - 0s 2ms/step - loss: 6761.7446 - mae: 6761.7446\n",
      "Epoch 38/200\n",
      "34/34 [==============================] - 0s 2ms/step - loss: 6732.1074 - mae: 6732.1074\n",
      "Epoch 39/200\n",
      "34/34 [==============================] - 0s 2ms/step - loss: 6695.5234 - mae: 6695.5234\n",
      "Epoch 40/200\n",
      "34/34 [==============================] - 0s 2ms/step - loss: 6662.5942 - mae: 6662.5942\n",
      "Epoch 41/200\n",
      "34/34 [==============================] - 0s 2ms/step - loss: 6631.2319 - mae: 6631.2319\n",
      "Epoch 42/200\n",
      "34/34 [==============================] - 0s 2ms/step - loss: 6601.3672 - mae: 6601.3672\n",
      "Epoch 43/200\n",
      "34/34 [==============================] - 0s 2ms/step - loss: 6569.5361 - mae: 6569.5361\n",
      "Epoch 44/200\n",
      "34/34 [==============================] - 0s 2ms/step - loss: 6542.7461 - mae: 6542.7461\n",
      "Epoch 45/200\n",
      "34/34 [==============================] - 0s 2ms/step - loss: 6522.1094 - mae: 6522.1094\n",
      "Epoch 46/200\n",
      "34/34 [==============================] - 0s 2ms/step - loss: 6501.7510 - mae: 6501.7510\n",
      "Epoch 47/200\n",
      "34/34 [==============================] - 0s 3ms/step - loss: 6484.9404 - mae: 6484.9404\n",
      "Epoch 48/200\n",
      "34/34 [==============================] - 0s 2ms/step - loss: 6468.3887 - mae: 6468.3887\n",
      "Epoch 49/200\n",
      "34/34 [==============================] - 0s 2ms/step - loss: 6455.0913 - mae: 6455.0913\n",
      "Epoch 50/200\n",
      "34/34 [==============================] - 0s 2ms/step - loss: 6441.5054 - mae: 6441.5054\n",
      "Epoch 51/200\n",
      "34/34 [==============================] - 0s 2ms/step - loss: 6428.5576 - mae: 6428.5576\n",
      "Epoch 52/200\n",
      "34/34 [==============================] - 0s 2ms/step - loss: 6418.2715 - mae: 6418.2715\n",
      "Epoch 53/200\n",
      "34/34 [==============================] - 0s 2ms/step - loss: 6404.0679 - mae: 6404.0679\n",
      "Epoch 54/200\n",
      "34/34 [==============================] - 0s 2ms/step - loss: 6390.9028 - mae: 6390.9028\n",
      "Epoch 55/200\n",
      "34/34 [==============================] - 0s 2ms/step - loss: 6377.8945 - mae: 6377.8945\n",
      "Epoch 56/200\n",
      "34/34 [==============================] - 0s 2ms/step - loss: 6364.9380 - mae: 6364.9380\n",
      "Epoch 57/200\n",
      "34/34 [==============================] - 0s 2ms/step - loss: 6353.7202 - mae: 6353.7202\n",
      "Epoch 58/200\n",
      "34/34 [==============================] - 0s 2ms/step - loss: 6340.0913 - mae: 6340.0913\n",
      "Epoch 59/200\n",
      "34/34 [==============================] - 0s 2ms/step - loss: 6326.0791 - mae: 6326.0791\n",
      "Epoch 60/200\n",
      "34/34 [==============================] - 0s 2ms/step - loss: 6315.9766 - mae: 6315.9766\n",
      "Epoch 61/200\n",
      "34/34 [==============================] - 0s 2ms/step - loss: 6298.2993 - mae: 6298.2993\n",
      "Epoch 62/200\n",
      "34/34 [==============================] - 0s 2ms/step - loss: 6286.0859 - mae: 6286.0859\n",
      "Epoch 63/200\n",
      "34/34 [==============================] - 0s 2ms/step - loss: 6269.8643 - mae: 6269.8643\n",
      "Epoch 64/200\n",
      "34/34 [==============================] - 0s 2ms/step - loss: 6255.2588 - mae: 6255.2588\n",
      "Epoch 65/200\n",
      "34/34 [==============================] - 0s 2ms/step - loss: 6239.3091 - mae: 6239.3091\n",
      "Epoch 66/200\n",
      "34/34 [==============================] - 0s 2ms/step - loss: 6224.0391 - mae: 6224.0391\n",
      "Epoch 67/200\n",
      "34/34 [==============================] - 0s 2ms/step - loss: 6212.0439 - mae: 6212.0439\n",
      "Epoch 68/200\n",
      "34/34 [==============================] - 0s 2ms/step - loss: 6192.8716 - mae: 6192.8716\n",
      "Epoch 69/200\n",
      "34/34 [==============================] - 0s 2ms/step - loss: 6177.6421 - mae: 6177.6421\n",
      "Epoch 70/200\n",
      "34/34 [==============================] - 0s 2ms/step - loss: 6159.1079 - mae: 6159.1079\n",
      "Epoch 71/200\n",
      "34/34 [==============================] - 0s 2ms/step - loss: 6141.2153 - mae: 6141.2153\n",
      "Epoch 72/200\n",
      "34/34 [==============================] - 0s 2ms/step - loss: 6124.7759 - mae: 6124.7759\n",
      "Epoch 73/200\n",
      "34/34 [==============================] - 0s 2ms/step - loss: 6110.6890 - mae: 6110.6890\n",
      "Epoch 74/200\n",
      "34/34 [==============================] - 0s 2ms/step - loss: 6087.1060 - mae: 6087.1060\n",
      "Epoch 75/200\n",
      "34/34 [==============================] - 0s 2ms/step - loss: 6069.4639 - mae: 6069.4639\n",
      "Epoch 76/200\n",
      "34/34 [==============================] - 0s 2ms/step - loss: 6056.2764 - mae: 6056.2764\n",
      "Epoch 77/200\n",
      "34/34 [==============================] - 0s 2ms/step - loss: 6025.5654 - mae: 6025.5654\n",
      "Epoch 78/200\n",
      "34/34 [==============================] - 0s 2ms/step - loss: 6006.1807 - mae: 6006.1807\n",
      "Epoch 79/200\n",
      "34/34 [==============================] - 0s 2ms/step - loss: 5985.0552 - mae: 5985.0552\n",
      "Epoch 80/200\n",
      "34/34 [==============================] - 0s 2ms/step - loss: 5961.4419 - mae: 5961.4419\n",
      "Epoch 81/200\n",
      "34/34 [==============================] - 0s 2ms/step - loss: 5938.4395 - mae: 5938.4395\n",
      "Epoch 82/200\n"
     ]
    },
    {
     "name": "stdout",
     "output_type": "stream",
     "text": [
      "34/34 [==============================] - 0s 2ms/step - loss: 5914.4316 - mae: 5914.4316\n",
      "Epoch 83/200\n",
      "34/34 [==============================] - 0s 2ms/step - loss: 5890.1152 - mae: 5890.1152\n",
      "Epoch 84/200\n",
      "34/34 [==============================] - 0s 2ms/step - loss: 5859.4229 - mae: 5859.4229\n",
      "Epoch 85/200\n",
      "34/34 [==============================] - 0s 2ms/step - loss: 5838.9722 - mae: 5838.9722\n",
      "Epoch 86/200\n",
      "34/34 [==============================] - 0s 2ms/step - loss: 5807.1948 - mae: 5807.1948\n",
      "Epoch 87/200\n",
      "34/34 [==============================] - 0s 2ms/step - loss: 5776.7202 - mae: 5776.7202\n",
      "Epoch 88/200\n",
      "34/34 [==============================] - 0s 3ms/step - loss: 5748.5078 - mae: 5748.5078\n",
      "Epoch 89/200\n",
      "34/34 [==============================] - 0s 2ms/step - loss: 5713.9072 - mae: 5713.9072\n",
      "Epoch 90/200\n",
      "34/34 [==============================] - 0s 2ms/step - loss: 5679.0068 - mae: 5679.0068\n",
      "Epoch 91/200\n",
      "34/34 [==============================] - 0s 2ms/step - loss: 5649.5581 - mae: 5649.5581\n",
      "Epoch 92/200\n",
      "34/34 [==============================] - 0s 2ms/step - loss: 5606.0625 - mae: 5606.0625\n",
      "Epoch 93/200\n",
      "34/34 [==============================] - 0s 2ms/step - loss: 5572.3345 - mae: 5572.3345\n",
      "Epoch 94/200\n",
      "34/34 [==============================] - 0s 2ms/step - loss: 5539.1602 - mae: 5539.1602\n",
      "Epoch 95/200\n",
      "34/34 [==============================] - 0s 2ms/step - loss: 5490.9648 - mae: 5490.9648\n",
      "Epoch 96/200\n",
      "34/34 [==============================] - 0s 2ms/step - loss: 5452.1787 - mae: 5452.1787\n",
      "Epoch 97/200\n",
      "34/34 [==============================] - 0s 2ms/step - loss: 5403.4097 - mae: 5403.4097\n",
      "Epoch 98/200\n",
      "34/34 [==============================] - 0s 2ms/step - loss: 5354.0913 - mae: 5354.0913\n",
      "Epoch 99/200\n",
      "34/34 [==============================] - 0s 2ms/step - loss: 5305.1113 - mae: 5305.1113\n",
      "Epoch 100/200\n",
      "34/34 [==============================] - 0s 2ms/step - loss: 5254.6011 - mae: 5254.6011\n",
      "Epoch 101/200\n",
      "34/34 [==============================] - 0s 2ms/step - loss: 5197.3091 - mae: 5197.3091\n",
      "Epoch 102/200\n",
      "34/34 [==============================] - 0s 2ms/step - loss: 5140.1411 - mae: 5140.1411\n",
      "Epoch 103/200\n",
      "34/34 [==============================] - 0s 2ms/step - loss: 5082.0278 - mae: 5082.0278\n",
      "Epoch 104/200\n",
      "34/34 [==============================] - 0s 2ms/step - loss: 5015.4419 - mae: 5015.4419\n",
      "Epoch 105/200\n",
      "34/34 [==============================] - 0s 2ms/step - loss: 4946.5654 - mae: 4946.5654\n",
      "Epoch 106/200\n",
      "34/34 [==============================] - 0s 2ms/step - loss: 4873.7959 - mae: 4873.7959\n",
      "Epoch 107/200\n",
      "34/34 [==============================] - 0s 2ms/step - loss: 4799.3315 - mae: 4799.3315\n",
      "Epoch 108/200\n",
      "34/34 [==============================] - 0s 2ms/step - loss: 4723.3877 - mae: 4723.3877\n",
      "Epoch 109/200\n",
      "34/34 [==============================] - 0s 2ms/step - loss: 4645.4346 - mae: 4645.4346\n",
      "Epoch 110/200\n",
      "34/34 [==============================] - 0s 2ms/step - loss: 4556.6084 - mae: 4556.6084\n",
      "Epoch 111/200\n",
      "34/34 [==============================] - 0s 2ms/step - loss: 4469.6875 - mae: 4469.6875\n",
      "Epoch 112/200\n",
      "34/34 [==============================] - 0s 2ms/step - loss: 4391.6079 - mae: 4391.6079\n",
      "Epoch 113/200\n",
      "34/34 [==============================] - 0s 2ms/step - loss: 4306.1206 - mae: 4306.1206\n",
      "Epoch 114/200\n",
      "34/34 [==============================] - 0s 2ms/step - loss: 4217.5430 - mae: 4217.5430\n",
      "Epoch 115/200\n",
      "34/34 [==============================] - 0s 2ms/step - loss: 4135.6206 - mae: 4135.6206\n",
      "Epoch 116/200\n",
      "34/34 [==============================] - 0s 2ms/step - loss: 4069.6140 - mae: 4069.6140\n",
      "Epoch 117/200\n",
      "34/34 [==============================] - 0s 2ms/step - loss: 4013.3298 - mae: 4013.3298\n",
      "Epoch 118/200\n",
      "34/34 [==============================] - 0s 2ms/step - loss: 3973.8523 - mae: 3973.8523\n",
      "Epoch 119/200\n",
      "34/34 [==============================] - 0s 2ms/step - loss: 3936.9976 - mae: 3936.9976\n",
      "Epoch 120/200\n",
      "34/34 [==============================] - 0s 2ms/step - loss: 3899.7861 - mae: 3899.7861\n",
      "Epoch 121/200\n",
      "34/34 [==============================] - 0s 2ms/step - loss: 3880.9116 - mae: 3880.9116\n",
      "Epoch 122/200\n",
      "34/34 [==============================] - 0s 2ms/step - loss: 3865.2173 - mae: 3865.2173\n",
      "Epoch 123/200\n",
      "34/34 [==============================] - 0s 2ms/step - loss: 3851.6101 - mae: 3851.6101\n",
      "Epoch 124/200\n",
      "34/34 [==============================] - 0s 2ms/step - loss: 3838.7942 - mae: 3838.7942\n",
      "Epoch 125/200\n",
      "34/34 [==============================] - 0s 2ms/step - loss: 3825.3711 - mae: 3825.3711\n",
      "Epoch 126/200\n",
      "34/34 [==============================] - 0s 2ms/step - loss: 3825.8489 - mae: 3825.8489\n",
      "Epoch 127/200\n",
      "34/34 [==============================] - 0s 2ms/step - loss: 3818.5020 - mae: 3818.5020\n",
      "Epoch 128/200\n",
      "34/34 [==============================] - 0s 2ms/step - loss: 3812.9207 - mae: 3812.9207\n",
      "Epoch 129/200\n",
      "34/34 [==============================] - 0s 2ms/step - loss: 3813.7852 - mae: 3813.7852\n",
      "Epoch 130/200\n",
      "34/34 [==============================] - 0s 2ms/step - loss: 3800.8774 - mae: 3800.8774\n",
      "Epoch 131/200\n",
      "34/34 [==============================] - 0s 2ms/step - loss: 3795.9583 - mae: 3795.9583\n",
      "Epoch 132/200\n",
      "34/34 [==============================] - 0s 2ms/step - loss: 3788.0271 - mae: 3788.0271\n",
      "Epoch 133/200\n",
      "34/34 [==============================] - 0s 2ms/step - loss: 3782.8247 - mae: 3782.8247\n",
      "Epoch 134/200\n",
      "34/34 [==============================] - 0s 2ms/step - loss: 3782.0759 - mae: 3782.0759\n",
      "Epoch 135/200\n",
      "34/34 [==============================] - 0s 2ms/step - loss: 3778.5625 - mae: 3778.5625\n",
      "Epoch 136/200\n",
      "34/34 [==============================] - 0s 2ms/step - loss: 3776.8484 - mae: 3776.8484\n",
      "Epoch 137/200\n",
      "34/34 [==============================] - 0s 2ms/step - loss: 3784.5913 - mae: 3784.5913\n",
      "Epoch 138/200\n",
      "34/34 [==============================] - 0s 2ms/step - loss: 3793.8262 - mae: 3793.8262\n",
      "Epoch 139/200\n",
      "34/34 [==============================] - 0s 2ms/step - loss: 3772.4458 - mae: 3772.4458\n",
      "Epoch 140/200\n",
      "34/34 [==============================] - 0s 2ms/step - loss: 3772.9902 - mae: 3772.9902\n",
      "Epoch 141/200\n",
      "34/34 [==============================] - 0s 2ms/step - loss: 3773.1038 - mae: 3773.1038\n",
      "Epoch 142/200\n",
      "34/34 [==============================] - 0s 2ms/step - loss: 3773.7483 - mae: 3773.7483\n",
      "Epoch 143/200\n",
      "34/34 [==============================] - 0s 2ms/step - loss: 3763.9521 - mae: 3763.9521\n",
      "Epoch 144/200\n",
      "34/34 [==============================] - 0s 2ms/step - loss: 3759.6243 - mae: 3759.6243\n",
      "Epoch 145/200\n",
      "34/34 [==============================] - 0s 2ms/step - loss: 3762.1382 - mae: 3762.1382\n",
      "Epoch 146/200\n",
      "34/34 [==============================] - 0s 2ms/step - loss: 3765.2625 - mae: 3765.2625\n",
      "Epoch 147/200\n",
      "34/34 [==============================] - 0s 2ms/step - loss: 3761.6189 - mae: 3761.6189\n",
      "Epoch 148/200\n",
      "34/34 [==============================] - 0s 2ms/step - loss: 3766.5149 - mae: 3766.5149\n",
      "Epoch 149/200\n",
      "34/34 [==============================] - 0s 2ms/step - loss: 3752.4265 - mae: 3752.4265\n",
      "Epoch 150/200\n",
      "34/34 [==============================] - 0s 2ms/step - loss: 3747.9678 - mae: 3747.9678\n",
      "Epoch 151/200\n",
      "34/34 [==============================] - 0s 2ms/step - loss: 3749.4526 - mae: 3749.4526\n",
      "Epoch 152/200\n",
      "34/34 [==============================] - 0s 2ms/step - loss: 3752.3364 - mae: 3752.3364\n",
      "Epoch 153/200\n",
      "34/34 [==============================] - 0s 2ms/step - loss: 3750.7400 - mae: 3750.7400\n",
      "Epoch 154/200\n",
      "34/34 [==============================] - 0s 2ms/step - loss: 3745.7981 - mae: 3745.7981\n",
      "Epoch 155/200\n",
      "34/34 [==============================] - 0s 2ms/step - loss: 3748.5537 - mae: 3748.5537\n",
      "Epoch 156/200\n",
      "34/34 [==============================] - 0s 2ms/step - loss: 3743.7961 - mae: 3743.7961\n",
      "Epoch 157/200\n",
      "34/34 [==============================] - 0s 2ms/step - loss: 3742.2070 - mae: 3742.2070\n",
      "Epoch 158/200\n",
      "34/34 [==============================] - 0s 3ms/step - loss: 3738.4026 - mae: 3738.4026\n",
      "Epoch 159/200\n",
      "34/34 [==============================] - 0s 2ms/step - loss: 3736.1536 - mae: 3736.1536\n",
      "Epoch 160/200\n",
      "34/34 [==============================] - 0s 2ms/step - loss: 3742.3186 - mae: 3742.3186\n",
      "Epoch 161/200\n",
      "34/34 [==============================] - 0s 2ms/step - loss: 3737.1577 - mae: 3737.1577\n",
      "Epoch 162/200\n"
     ]
    },
    {
     "name": "stdout",
     "output_type": "stream",
     "text": [
      "34/34 [==============================] - 0s 2ms/step - loss: 3731.3708 - mae: 3731.3708\n",
      "Epoch 163/200\n",
      "34/34 [==============================] - 0s 2ms/step - loss: 3732.1711 - mae: 3732.1711\n",
      "Epoch 164/200\n",
      "34/34 [==============================] - 0s 2ms/step - loss: 3735.4385 - mae: 3735.4385\n",
      "Epoch 165/200\n",
      "34/34 [==============================] - 0s 2ms/step - loss: 3724.3032 - mae: 3724.3032\n",
      "Epoch 166/200\n",
      "34/34 [==============================] - 0s 2ms/step - loss: 3729.6064 - mae: 3729.6064\n",
      "Epoch 167/200\n",
      "34/34 [==============================] - 0s 2ms/step - loss: 3729.8894 - mae: 3729.8894\n",
      "Epoch 168/200\n",
      "34/34 [==============================] - 0s 2ms/step - loss: 3724.9663 - mae: 3724.9663\n",
      "Epoch 169/200\n",
      "34/34 [==============================] - 0s 2ms/step - loss: 3723.1782 - mae: 3723.1782\n",
      "Epoch 170/200\n",
      "34/34 [==============================] - 0s 2ms/step - loss: 3717.2744 - mae: 3717.2744\n",
      "Epoch 171/200\n",
      "34/34 [==============================] - 0s 2ms/step - loss: 3716.8662 - mae: 3716.8662\n",
      "Epoch 172/200\n",
      "34/34 [==============================] - 0s 2ms/step - loss: 3720.0684 - mae: 3720.0684\n",
      "Epoch 173/200\n",
      "34/34 [==============================] - 0s 2ms/step - loss: 3713.0698 - mae: 3713.0698\n",
      "Epoch 174/200\n",
      "34/34 [==============================] - 0s 2ms/step - loss: 3717.7585 - mae: 3717.7585\n",
      "Epoch 175/200\n",
      "34/34 [==============================] - 0s 2ms/step - loss: 3720.7478 - mae: 3720.7478\n",
      "Epoch 176/200\n",
      "34/34 [==============================] - 0s 2ms/step - loss: 3715.7107 - mae: 3715.7107\n",
      "Epoch 177/200\n",
      "34/34 [==============================] - 0s 2ms/step - loss: 3708.4390 - mae: 3708.4390\n",
      "Epoch 178/200\n",
      "34/34 [==============================] - 0s 2ms/step - loss: 3709.1699 - mae: 3709.1699\n",
      "Epoch 179/200\n",
      "34/34 [==============================] - 0s 2ms/step - loss: 3715.3994 - mae: 3715.3994\n",
      "Epoch 180/200\n",
      "34/34 [==============================] - 0s 2ms/step - loss: 3720.1990 - mae: 3720.1990\n",
      "Epoch 181/200\n",
      "34/34 [==============================] - 0s 2ms/step - loss: 3706.4514 - mae: 3706.4514\n",
      "Epoch 182/200\n",
      "34/34 [==============================] - 0s 2ms/step - loss: 3703.9971 - mae: 3703.9971\n",
      "Epoch 183/200\n",
      "34/34 [==============================] - 0s 2ms/step - loss: 3701.0269 - mae: 3701.0269\n",
      "Epoch 184/200\n",
      "34/34 [==============================] - 0s 2ms/step - loss: 3708.5720 - mae: 3708.5720\n",
      "Epoch 185/200\n",
      "34/34 [==============================] - 0s 2ms/step - loss: 3705.4961 - mae: 3705.4961\n",
      "Epoch 186/200\n",
      "34/34 [==============================] - 0s 2ms/step - loss: 3706.0168 - mae: 3706.0168\n",
      "Epoch 187/200\n",
      "34/34 [==============================] - 0s 2ms/step - loss: 3697.3140 - mae: 3697.3140\n",
      "Epoch 188/200\n",
      "34/34 [==============================] - 0s 2ms/step - loss: 3703.3562 - mae: 3703.3562\n",
      "Epoch 189/200\n",
      "34/34 [==============================] - 0s 2ms/step - loss: 3694.5112 - mae: 3694.5112\n",
      "Epoch 190/200\n",
      "34/34 [==============================] - 0s 2ms/step - loss: 3692.5962 - mae: 3692.5962\n",
      "Epoch 191/200\n",
      "34/34 [==============================] - 0s 2ms/step - loss: 3708.8906 - mae: 3708.8906\n",
      "Epoch 192/200\n",
      "34/34 [==============================] - 0s 2ms/step - loss: 3694.0249 - mae: 3694.0249\n",
      "Epoch 193/200\n",
      "34/34 [==============================] - 0s 2ms/step - loss: 3684.7781 - mae: 3684.7781\n",
      "Epoch 194/200\n",
      "34/34 [==============================] - 0s 2ms/step - loss: 3685.3130 - mae: 3685.3130\n",
      "Epoch 195/200\n",
      "34/34 [==============================] - 0s 2ms/step - loss: 3683.0283 - mae: 3683.0283\n",
      "Epoch 196/200\n",
      "34/34 [==============================] - 0s 2ms/step - loss: 3691.1711 - mae: 3691.1711\n",
      "Epoch 197/200\n",
      "34/34 [==============================] - 0s 2ms/step - loss: 3676.1597 - mae: 3676.1597\n",
      "Epoch 198/200\n",
      "34/34 [==============================] - 0s 2ms/step - loss: 3682.4185 - mae: 3682.4185\n",
      "Epoch 199/200\n",
      "34/34 [==============================] - 0s 2ms/step - loss: 3688.1106 - mae: 3688.1106\n",
      "Epoch 200/200\n",
      "34/34 [==============================] - 0s 2ms/step - loss: 3675.1660 - mae: 3675.1660\n"
     ]
    }
   ],
   "source": [
    "# 2nd experiment : train longer on the model of the 1st experiment\n",
    "\n",
    "# Set random seed\n",
    "tf.random.set_seed(42)\n",
    "\n",
    "# 1. Create the model\n",
    "insurance_model_3 = tf.keras.Sequential([\n",
    "    tf.keras.layers.Dense(100),\n",
    "    tf.keras.layers.Dense(10),\n",
    "    tf.keras.layers.Dense(1),\n",
    "])\n",
    "\n",
    "# 2. Compile the model\n",
    "insurance_model_3.compile(loss=tf.keras.losses.mae,\n",
    "                         optimizer=tf.keras.optimizers.Adam(),\n",
    "                         metrics=[\"mae\"])\n",
    "\n",
    "# 3. Fit the model\n",
    "history = insurance_model_3.fit(X_train, y_train, epochs=200, verbose=1)"
   ]
  },
  {
   "cell_type": "markdown",
   "id": "8b0af912",
   "metadata": {},
   "source": [
    "The loss in training is now 3658.0659, an improvement"
   ]
  },
  {
   "cell_type": "code",
   "execution_count": 100,
   "id": "a5861cc6",
   "metadata": {},
   "outputs": [
    {
     "name": "stdout",
     "output_type": "stream",
     "text": [
      "9/9 [==============================] - 0s 2ms/step - loss: 3503.3723 - mae: 3503.3723\n"
     ]
    },
    {
     "data": {
      "text/plain": [
       "[3503.372314453125, 3503.372314453125]"
      ]
     },
     "execution_count": 100,
     "metadata": {},
     "output_type": "execute_result"
    }
   ],
   "source": [
    "# Evaluate the third model\n",
    "insurance_model_3.evaluate(X_test, y_test)"
   ]
  },
  {
   "cell_type": "code",
   "execution_count": 101,
   "id": "4ce164c3",
   "metadata": {},
   "outputs": [
    {
     "name": "stdout",
     "output_type": "stream",
     "text": [
      "9/9 [==============================] - 0s 2ms/step - loss: 4853.3525 - mae: 4853.3525\n"
     ]
    },
    {
     "data": {
      "text/plain": [
       "[4853.3525390625, 4853.3525390625]"
      ]
     },
     "execution_count": 101,
     "metadata": {},
     "output_type": "execute_result"
    }
   ],
   "source": [
    "# Evaluate the 2nd model\n",
    "insurance_model_2.evaluate(X_test, y_test)"
   ]
  },
  {
   "cell_type": "code",
   "execution_count": 102,
   "id": "eb2403ff",
   "metadata": {},
   "outputs": [
    {
     "name": "stdout",
     "output_type": "stream",
     "text": [
      "9/9 [==============================] - 0s 2ms/step - loss: 7017.2886 - mae: 7017.2886\n"
     ]
    },
    {
     "data": {
      "text/plain": [
       "[7017.28857421875, 7017.28857421875]"
      ]
     },
     "execution_count": 102,
     "metadata": {},
     "output_type": "execute_result"
    }
   ],
   "source": [
    "# Evaluate the 1st model\n",
    "insurance_model.evaluate(X_test, y_test)"
   ]
  },
  {
   "cell_type": "markdown",
   "id": "785e742c",
   "metadata": {},
   "source": [
    "The 3rd model is performing better than the previous ones."
   ]
  },
  {
   "cell_type": "code",
   "execution_count": null,
   "id": "4921f492",
   "metadata": {},
   "outputs": [],
   "source": []
  },
  {
   "cell_type": "markdown",
   "id": "8202c718",
   "metadata": {},
   "source": [
    "Now we will plot the **`history`** (also known as a **`loss curve`** or a **`training curve`**)"
   ]
  },
  {
   "cell_type": "code",
   "execution_count": 103,
   "id": "8a0a5afc",
   "metadata": {},
   "outputs": [
    {
     "data": {
      "image/png": "[encoded data removed]",
      "text/plain": [
       "<Figure size 432x288 with 1 Axes>"
      ]
     },
     "metadata": {
      "needs_background": "light"
     },
     "output_type": "display_data"
    }
   ],
   "source": [
    "# Plot history\n",
    "history_df = pd.DataFrame(history.history)\n",
    "history_df.plot(kind=\"line\",y=\"loss\")\n",
    "plt.ylabel(\"Loss\")\n",
    "plt.xlabel(\"Epochs\");"
   ]
  },
  {
   "cell_type": "markdown",
   "id": "e3fc474f",
   "metadata": {},
   "source": [
    "Looking at the plot, the decrease in the loss is originally steep until the models to train to around 110 epochs; from here, the decrease in the loss is small."
   ]
  },
  {
   "cell_type": "markdown",
   "id": "ddaa91ac",
   "metadata": {},
   "source": [
    "> 🤔 **Question:** How long should we train for ? <br/>\n",
    "> 🫢 **Answer:** It depends.\n",
    "\n",
    "The duration of the training depends on the problem we are working on.         \n",
    "However, many people have asked this question before, so TensorFlow has a solution: the [**EarlyStopping Callback**](https://www.tensorflow.org/api_docs/python/tf/keras/callbacks/EarlyStopping). It is a TensorFlow component we can add to a model to stop training once it stops improving a certain metric. For example, in our insurance_model_3, if we wanted to train it for 1000 epochs, we could want our model to stop training once its loss stops decreasing for say, 03, 05, or 10 epochs in a row, which means our model stopped improving."
   ]
  },
  {
   "cell_type": "code",
   "execution_count": 104,
   "id": "3dd6f9ba",
   "metadata": {},
   "outputs": [],
   "source": [
    "# dir(history)"
   ]
  },
  {
   "cell_type": "code",
   "execution_count": 105,
   "id": "11f52b8e",
   "metadata": {},
   "outputs": [
    {
     "data": {
      "text/html": [
       "<div>\n",
       "<style scoped>\n",
       "    .dataframe tbody tr th:only-of-type {\n",
       "        vertical-align: middle;\n",
       "    }\n",
       "\n",
       "    .dataframe tbody tr th {\n",
       "        vertical-align: top;\n",
       "    }\n",
       "\n",
       "    .dataframe thead th {\n",
       "        text-align: right;\n",
       "    }\n",
       "</style>\n",
       "<table border=\"1\" class=\"dataframe\">\n",
       "  <thead>\n",
       "    <tr style=\"text-align: right;\">\n",
       "      <th></th>\n",
       "      <th>loss</th>\n",
       "      <th>mae</th>\n",
       "    </tr>\n",
       "  </thead>\n",
       "  <tbody>\n",
       "    <tr>\n",
       "      <th>0</th>\n",
       "      <td>13317.051758</td>\n",
       "      <td>13317.051758</td>\n",
       "    </tr>\n",
       "    <tr>\n",
       "      <th>1</th>\n",
       "      <td>13180.998047</td>\n",
       "      <td>13180.998047</td>\n",
       "    </tr>\n",
       "    <tr>\n",
       "      <th>2</th>\n",
       "      <td>12882.557617</td>\n",
       "      <td>12882.557617</td>\n",
       "    </tr>\n",
       "    <tr>\n",
       "      <th>3</th>\n",
       "      <td>12280.270508</td>\n",
       "      <td>12280.270508</td>\n",
       "    </tr>\n",
       "    <tr>\n",
       "      <th>4</th>\n",
       "      <td>11231.081055</td>\n",
       "      <td>11231.081055</td>\n",
       "    </tr>\n",
       "    <tr>\n",
       "      <th>...</th>\n",
       "      <td>...</td>\n",
       "      <td>...</td>\n",
       "    </tr>\n",
       "    <tr>\n",
       "      <th>195</th>\n",
       "      <td>3691.171143</td>\n",
       "      <td>3691.171143</td>\n",
       "    </tr>\n",
       "    <tr>\n",
       "      <th>196</th>\n",
       "      <td>3676.159668</td>\n",
       "      <td>3676.159668</td>\n",
       "    </tr>\n",
       "    <tr>\n",
       "      <th>197</th>\n",
       "      <td>3682.418457</td>\n",
       "      <td>3682.418457</td>\n",
       "    </tr>\n",
       "    <tr>\n",
       "      <th>198</th>\n",
       "      <td>3688.110596</td>\n",
       "      <td>3688.110596</td>\n",
       "    </tr>\n",
       "    <tr>\n",
       "      <th>199</th>\n",
       "      <td>3675.166016</td>\n",
       "      <td>3675.166016</td>\n",
       "    </tr>\n",
       "  </tbody>\n",
       "</table>\n",
       "<p>200 rows × 2 columns</p>\n",
       "</div>"
      ],
      "text/plain": [
       "             loss           mae\n",
       "0    13317.051758  13317.051758\n",
       "1    13180.998047  13180.998047\n",
       "2    12882.557617  12882.557617\n",
       "3    12280.270508  12280.270508\n",
       "4    11231.081055  11231.081055\n",
       "..            ...           ...\n",
       "195   3691.171143   3691.171143\n",
       "196   3676.159668   3676.159668\n",
       "197   3682.418457   3682.418457\n",
       "198   3688.110596   3688.110596\n",
       "199   3675.166016   3675.166016\n",
       "\n",
       "[200 rows x 2 columns]"
      ]
     },
     "execution_count": 105,
     "metadata": {},
     "output_type": "execute_result"
    }
   ],
   "source": [
    "# Taking a look at history_df\n",
    "history_df"
   ]
  },
  {
   "cell_type": "code",
   "execution_count": null,
   "id": "d5a9bf6e",
   "metadata": {},
   "outputs": [],
   "source": []
  },
  {
   "cell_type": "markdown",
   "id": "265edbb2",
   "metadata": {},
   "source": [
    "## Preprocessing data: normalization and standardization\n",
    "\n",
    "**Normalization**: Normalization is a technique often applied as part of data preparation for machine learning. The goal of normalization is to change the values of numeric columns in the dataset to use a common scale, without distorting differences in the ranges of values or losing information. [Read more about Normalization...](https://learn.microsoft.com/en-us/azure/machine-learning/component-reference/normalize-data)   \n",
    "\n",
    "\n",
    "Note: `Normalize` can be used to mean either Standardize or Rescale; in the above definition, it stands for Rescale.\n",
    "\n",
    "\n",
    "In terms of scaling values, neural networks tend to prefer normalization to standardization. If one is not sure on which to use, it is okay to try both and see which performs better.\n",
    "\n",
    "📖 : [Scale, Standardize, or Normalize with Scikit-Learn: When to use MinMaxScaler, RobustScaler, StandardScaler, and Normalizer, by Jeff Hale](https://towardsdatascience.com/scale-standardize-or-normalize-with-scikit-learn-6ccc7d176a02)"
   ]
  },
  {
   "cell_type": "markdown",
   "id": "6389b900",
   "metadata": {},
   "source": []
  },
  {
   "cell_type": "markdown",
   "id": "0cfb2726",
   "metadata": {},
   "source": [
    "Based on what we learned so far, we will restart our model building process."
   ]
  },
  {
   "cell_type": "code",
   "execution_count": 106,
   "id": "78fc8818",
   "metadata": {},
   "outputs": [
    {
     "data": {
      "text/html": [
       "<div>\n",
       "<style scoped>\n",
       "    .dataframe tbody tr th:only-of-type {\n",
       "        vertical-align: middle;\n",
       "    }\n",
       "\n",
       "    .dataframe tbody tr th {\n",
       "        vertical-align: top;\n",
       "    }\n",
       "\n",
       "    .dataframe thead th {\n",
       "        text-align: right;\n",
       "    }\n",
       "</style>\n",
       "<table border=\"1\" class=\"dataframe\">\n",
       "  <thead>\n",
       "    <tr style=\"text-align: right;\">\n",
       "      <th></th>\n",
       "      <th>age</th>\n",
       "      <th>sex</th>\n",
       "      <th>bmi</th>\n",
       "      <th>children</th>\n",
       "      <th>smoker</th>\n",
       "      <th>region</th>\n",
       "      <th>charges</th>\n",
       "    </tr>\n",
       "  </thead>\n",
       "  <tbody>\n",
       "    <tr>\n",
       "      <th>0</th>\n",
       "      <td>19</td>\n",
       "      <td>female</td>\n",
       "      <td>27.900</td>\n",
       "      <td>0</td>\n",
       "      <td>yes</td>\n",
       "      <td>southwest</td>\n",
       "      <td>16884.92400</td>\n",
       "    </tr>\n",
       "    <tr>\n",
       "      <th>1</th>\n",
       "      <td>18</td>\n",
       "      <td>male</td>\n",
       "      <td>33.770</td>\n",
       "      <td>1</td>\n",
       "      <td>no</td>\n",
       "      <td>southeast</td>\n",
       "      <td>1725.55230</td>\n",
       "    </tr>\n",
       "    <tr>\n",
       "      <th>2</th>\n",
       "      <td>28</td>\n",
       "      <td>male</td>\n",
       "      <td>33.000</td>\n",
       "      <td>3</td>\n",
       "      <td>no</td>\n",
       "      <td>southeast</td>\n",
       "      <td>4449.46200</td>\n",
       "    </tr>\n",
       "    <tr>\n",
       "      <th>3</th>\n",
       "      <td>33</td>\n",
       "      <td>male</td>\n",
       "      <td>22.705</td>\n",
       "      <td>0</td>\n",
       "      <td>no</td>\n",
       "      <td>northwest</td>\n",
       "      <td>21984.47061</td>\n",
       "    </tr>\n",
       "    <tr>\n",
       "      <th>4</th>\n",
       "      <td>32</td>\n",
       "      <td>male</td>\n",
       "      <td>28.880</td>\n",
       "      <td>0</td>\n",
       "      <td>no</td>\n",
       "      <td>northwest</td>\n",
       "      <td>3866.85520</td>\n",
       "    </tr>\n",
       "  </tbody>\n",
       "</table>\n",
       "</div>"
      ],
      "text/plain": [
       "   age     sex     bmi  children smoker     region      charges\n",
       "0   19  female  27.900         0    yes  southwest  16884.92400\n",
       "1   18    male  33.770         1     no  southeast   1725.55230\n",
       "2   28    male  33.000         3     no  southeast   4449.46200\n",
       "3   33    male  22.705         0     no  northwest  21984.47061\n",
       "4   32    male  28.880         0     no  northwest   3866.85520"
      ]
     },
     "execution_count": 106,
     "metadata": {},
     "output_type": "execute_result"
    }
   ],
   "source": [
    "insurance_df = pd.read_csv(\"data/insurance.csv\")\n",
    "insurance_df.head()"
   ]
  },
  {
   "cell_type": "code",
   "execution_count": 107,
   "id": "9aeaf6bb",
   "metadata": {},
   "outputs": [
    {
     "data": {
      "text/plain": [
       "(1338, 7)"
      ]
     },
     "execution_count": 107,
     "metadata": {},
     "output_type": "execute_result"
    }
   ],
   "source": [
    "insurance_df.shape"
   ]
  },
  {
   "cell_type": "code",
   "execution_count": 108,
   "id": "16487fee",
   "metadata": {},
   "outputs": [
    {
     "name": "stdout",
     "output_type": "stream",
     "text": [
      "<class 'pandas.core.frame.DataFrame'>\n",
      "RangeIndex: 1338 entries, 0 to 1337\n",
      "Data columns (total 7 columns):\n",
      " #   Column    Non-Null Count  Dtype  \n",
      "---  ------    --------------  -----  \n",
      " 0   age       1338 non-null   int64  \n",
      " 1   sex       1338 non-null   object \n",
      " 2   bmi       1338 non-null   float64\n",
      " 3   children  1338 non-null   int64  \n",
      " 4   smoker    1338 non-null   object \n",
      " 5   region    1338 non-null   object \n",
      " 6   charges   1338 non-null   float64\n",
      "dtypes: float64(2), int64(2), object(3)\n",
      "memory usage: 73.3+ KB\n"
     ]
    }
   ],
   "source": [
    "insurance_df.info()"
   ]
  },
  {
   "cell_type": "code",
   "execution_count": null,
   "id": "a5c5ff5e",
   "metadata": {},
   "outputs": [],
   "source": []
  },
  {
   "cell_type": "markdown",
   "id": "e7c97b25",
   "metadata": {},
   "source": [
    "We are going to build a neural network to learn on the features once they have been normalized."
   ]
  },
  {
   "cell_type": "markdown",
   "id": "468cac0f",
   "metadata": {},
   "source": [
    "**Note**: `Column transformer` is a tool in Scikit-Learn that allows to build a pipeline to preprocess data before passing it to the model"
   ]
  },
  {
   "cell_type": "code",
   "execution_count": 109,
   "id": "2e681ff7",
   "metadata": {},
   "outputs": [],
   "source": [
    "# Create a column transformer\n",
    "column_transformer = make_column_transformer(\n",
    "    (MinMaxScaler(),[\"age\",\"bmi\",\"children\"]), # The features indicated in the list are those that will be rescaled at this stage of the preprocessing\n",
    "    (OneHotEncoder(handle_unknown=\"ignore\"), [\"sex\",\"smoker\",\"region\"]), # handle_unknown=\"ignore\" will make the OneHotEncoder() ignore any column it doesn't know about\n",
    ")\n",
    "\n",
    "# Create X and y values\n",
    "X = insurance_df.drop(\"charges\",axis=1)\n",
    "y = insurance_df.loc[:,\"charges\"]\n",
    "\n",
    "# Build train and test sets\n",
    "X_train, X_test, y_train, y_test = train_test_split(X, y, test_size=.2, random_state=42)"
   ]
  },
  {
   "cell_type": "markdown",
   "id": "73516483",
   "metadata": {},
   "source": [
    "Now we will fit the column transformer to the training data. Whenever we have a column transformer, we need to fit it the training data and then use that fit column transformer to transform the test data."
   ]
  },
  {
   "cell_type": "code",
   "execution_count": 110,
   "id": "32ee3a63",
   "metadata": {},
   "outputs": [
    {
     "data": {
      "text/plain": [
       "ColumnTransformer(transformers=[('minmaxscaler', MinMaxScaler(),\n",
       "                                 ['age', 'bmi', 'children']),\n",
       "                                ('onehotencoder',\n",
       "                                 OneHotEncoder(handle_unknown='ignore'),\n",
       "                                 ['sex', 'smoker', 'region'])])"
      ]
     },
     "execution_count": 110,
     "metadata": {},
     "output_type": "execute_result"
    }
   ],
   "source": [
    "# Fit the column transformer to the training data\n",
    "column_transformer.fit(X_train)"
   ]
  },
  {
   "cell_type": "markdown",
   "id": "7115b7ae",
   "metadata": {},
   "source": [
    "Now will take what we have learned from the training data to transform the training and test data"
   ]
  },
  {
   "cell_type": "code",
   "execution_count": 111,
   "id": "3dbd4f6b",
   "metadata": {},
   "outputs": [],
   "source": [
    "# Tranform training and test data with normalization (MinMaxScaler) and OneHotEncoder\n",
    "X_train_normal = column_transformer.transform(X_train)\n",
    "X_test_normal = column_transformer.transform(X_test)"
   ]
  },
  {
   "cell_type": "code",
   "execution_count": 112,
   "id": "5fc808d2",
   "metadata": {},
   "outputs": [
    {
     "data": {
      "text/plain": [
       "age                19\n",
       "sex            female\n",
       "bmi              27.9\n",
       "children            0\n",
       "smoker            yes\n",
       "region      southwest\n",
       "Name: 0, dtype: object"
      ]
     },
     "execution_count": 112,
     "metadata": {},
     "output_type": "execute_result"
    }
   ],
   "source": [
    "# Check how the data that we started with look like\n",
    "X_train.loc[0,:]"
   ]
  },
  {
   "cell_type": "code",
   "execution_count": 113,
   "id": "d2b78592",
   "metadata": {},
   "outputs": [
    {
     "data": {
      "text/plain": [
       "array([0.60869565, 0.10734463, 0.4       , 1.        , 0.        ,\n",
       "       1.        , 0.        , 0.        , 1.        , 0.        ,\n",
       "       0.        ])"
      ]
     },
     "execution_count": 113,
     "metadata": {},
     "output_type": "execute_result"
    }
   ],
   "source": [
    "# Check how the data look like now\n",
    "X_train_normal[0]"
   ]
  },
  {
   "cell_type": "code",
   "execution_count": 114,
   "id": "40ac551f",
   "metadata": {},
   "outputs": [
    {
     "data": {
      "text/plain": [
       "array([[0.60869565, 0.10734463, 0.4       , ..., 1.        , 0.        ,\n",
       "        0.        ],\n",
       "       [0.63043478, 0.22491256, 0.        , ..., 0.        , 0.        ,\n",
       "        0.        ],\n",
       "       [0.73913043, 0.23944041, 0.        , ..., 0.        , 1.        ,\n",
       "        0.        ],\n",
       "       ...,\n",
       "       [0.86956522, 0.24791499, 0.        , ..., 0.        , 0.        ,\n",
       "        0.        ],\n",
       "       [0.41304348, 0.85122411, 0.4       , ..., 0.        , 0.        ,\n",
       "        1.        ],\n",
       "       [0.80434783, 0.37503363, 0.        , ..., 0.        , 0.        ,\n",
       "        1.        ]])"
      ]
     },
     "execution_count": 114,
     "metadata": {},
     "output_type": "execute_result"
    }
   ],
   "source": [
    "# Check how the data look like now\n",
    "X_train_normal"
   ]
  },
  {
   "cell_type": "code",
   "execution_count": 115,
   "id": "e16285d2",
   "metadata": {},
   "outputs": [
    {
     "data": {
      "text/plain": [
       "((1070, 6), (1070, 11))"
      ]
     },
     "execution_count": 115,
     "metadata": {},
     "output_type": "execute_result"
    }
   ],
   "source": [
    "# Comparing the shape of the original data against the preprocessed data\n",
    "X_train.shape, X_train_normal.shape"
   ]
  },
  {
   "cell_type": "code",
   "execution_count": null,
   "id": "ec71c175",
   "metadata": {},
   "outputs": [],
   "source": []
  },
  {
   "cell_type": "markdown",
   "id": "688f02eb",
   "metadata": {},
   "source": [
    "Our data has been rescaled and one hot encoded. Now let's build a neural network model on it and see how it goes."
   ]
  },
  {
   "cell_type": "code",
   "execution_count": 116,
   "id": "2665dfe7",
   "metadata": {},
   "outputs": [
    {
     "name": "stdout",
     "output_type": "stream",
     "text": [
      "Epoch 1/100\n",
      "34/34 [==============================] - 1s 2ms/step - loss: 13342.9971 - mae: 13342.9971\n",
      "Epoch 2/100\n",
      "34/34 [==============================] - 0s 2ms/step - loss: 13332.4443 - mae: 13332.4443\n",
      "Epoch 3/100\n",
      "34/34 [==============================] - 0s 2ms/step - loss: 13306.4922 - mae: 13306.4922\n",
      "Epoch 4/100\n",
      "34/34 [==============================] - 0s 2ms/step - loss: 13253.5400 - mae: 13253.5400\n",
      "Epoch 5/100\n",
      "34/34 [==============================] - 0s 2ms/step - loss: 13162.5059 - mae: 13162.5059\n",
      "Epoch 6/100\n",
      "34/34 [==============================] - 0s 2ms/step - loss: 13022.7402 - mae: 13022.7402\n",
      "Epoch 7/100\n",
      "34/34 [==============================] - 0s 2ms/step - loss: 12824.2324 - mae: 12824.2324\n",
      "Epoch 8/100\n",
      "34/34 [==============================] - 0s 2ms/step - loss: 12557.1885 - mae: 12557.1885\n",
      "Epoch 9/100\n",
      "34/34 [==============================] - 0s 2ms/step - loss: 12211.6953 - mae: 12211.6953\n",
      "Epoch 10/100\n",
      "34/34 [==============================] - 0s 2ms/step - loss: 11787.9023 - mae: 11787.9023\n",
      "Epoch 11/100\n",
      "34/34 [==============================] - 0s 2ms/step - loss: 11301.1914 - mae: 11301.1914\n",
      "Epoch 12/100\n",
      "34/34 [==============================] - 0s 2ms/step - loss: 10795.5938 - mae: 10795.5938\n",
      "Epoch 13/100\n",
      "34/34 [==============================] - 0s 2ms/step - loss: 10296.5059 - mae: 10296.5059\n",
      "Epoch 14/100\n",
      "34/34 [==============================] - 0s 2ms/step - loss: 9809.1875 - mae: 9809.1875\n",
      "Epoch 15/100\n",
      "34/34 [==============================] - 0s 2ms/step - loss: 9355.9102 - mae: 9355.9102\n",
      "Epoch 16/100\n",
      "34/34 [==============================] - 0s 2ms/step - loss: 8959.6787 - mae: 8959.6787\n",
      "Epoch 17/100\n",
      "34/34 [==============================] - 0s 2ms/step - loss: 8632.8408 - mae: 8632.8408\n",
      "Epoch 18/100\n",
      "34/34 [==============================] - 0s 2ms/step - loss: 8370.0898 - mae: 8370.0898\n",
      "Epoch 19/100\n",
      "34/34 [==============================] - 0s 2ms/step - loss: 8176.8691 - mae: 8176.8691\n",
      "Epoch 20/100\n",
      "34/34 [==============================] - 0s 2ms/step - loss: 8042.5850 - mae: 8042.5850\n",
      "Epoch 21/100\n",
      "34/34 [==============================] - 0s 2ms/step - loss: 7943.4224 - mae: 7943.4224\n",
      "Epoch 22/100\n",
      "34/34 [==============================] - 0s 2ms/step - loss: 7874.1123 - mae: 7874.1123\n",
      "Epoch 23/100\n",
      "34/34 [==============================] - 0s 2ms/step - loss: 7818.2725 - mae: 7818.2725\n",
      "Epoch 24/100\n",
      "34/34 [==============================] - 0s 3ms/step - loss: 7767.1680 - mae: 7767.1680\n",
      "Epoch 25/100\n",
      "34/34 [==============================] - 0s 2ms/step - loss: 7728.1621 - mae: 7728.1621\n",
      "Epoch 26/100\n",
      "34/34 [==============================] - 0s 2ms/step - loss: 7676.5576 - mae: 7676.5576\n",
      "Epoch 27/100\n",
      "34/34 [==============================] - 0s 2ms/step - loss: 7633.8569 - mae: 7633.8569\n",
      "Epoch 28/100\n",
      "34/34 [==============================] - 0s 2ms/step - loss: 7590.1646 - mae: 7590.1646\n",
      "Epoch 29/100\n",
      "34/34 [==============================] - 0s 2ms/step - loss: 7545.9688 - mae: 7545.9688\n",
      "Epoch 30/100\n",
      "34/34 [==============================] - 0s 2ms/step - loss: 7501.1929 - mae: 7501.1929\n",
      "Epoch 31/100\n",
      "34/34 [==============================] - 0s 2ms/step - loss: 7455.9243 - mae: 7455.9243\n",
      "Epoch 32/100\n",
      "34/34 [==============================] - 0s 2ms/step - loss: 7410.2466 - mae: 7410.2466\n",
      "Epoch 33/100\n",
      "34/34 [==============================] - 0s 2ms/step - loss: 7364.2339 - mae: 7364.2339\n",
      "Epoch 34/100\n",
      "34/34 [==============================] - 0s 2ms/step - loss: 7314.2021 - mae: 7314.2021\n",
      "Epoch 35/100\n",
      "34/34 [==============================] - 0s 2ms/step - loss: 7265.4888 - mae: 7265.4888\n",
      "Epoch 36/100\n",
      "34/34 [==============================] - 0s 2ms/step - loss: 7213.3525 - mae: 7213.3525\n",
      "Epoch 37/100\n",
      "34/34 [==============================] - 0s 2ms/step - loss: 7160.8218 - mae: 7160.8218\n",
      "Epoch 38/100\n",
      "34/34 [==============================] - 0s 2ms/step - loss: 7107.5234 - mae: 7107.5234\n",
      "Epoch 39/100\n",
      "34/34 [==============================] - 0s 2ms/step - loss: 7050.2358 - mae: 7050.2358\n",
      "Epoch 40/100\n",
      "34/34 [==============================] - 0s 2ms/step - loss: 6992.2959 - mae: 6992.2959\n",
      "Epoch 41/100\n",
      "34/34 [==============================] - 0s 2ms/step - loss: 6933.0308 - mae: 6933.0308\n",
      "Epoch 42/100\n",
      "34/34 [==============================] - 0s 2ms/step - loss: 6870.8999 - mae: 6870.8999\n",
      "Epoch 43/100\n",
      "34/34 [==============================] - 0s 2ms/step - loss: 6805.0010 - mae: 6805.0010\n",
      "Epoch 44/100\n",
      "34/34 [==============================] - 0s 2ms/step - loss: 6735.0107 - mae: 6735.0107\n",
      "Epoch 45/100\n",
      "34/34 [==============================] - 0s 2ms/step - loss: 6664.1685 - mae: 6664.1685\n",
      "Epoch 46/100\n",
      "34/34 [==============================] - 0s 2ms/step - loss: 6590.9985 - mae: 6590.9985\n",
      "Epoch 47/100\n",
      "34/34 [==============================] - 0s 2ms/step - loss: 6515.2397 - mae: 6515.2397\n",
      "Epoch 48/100\n",
      "34/34 [==============================] - 0s 2ms/step - loss: 6432.1133 - mae: 6432.1133\n",
      "Epoch 49/100\n",
      "34/34 [==============================] - 0s 2ms/step - loss: 6348.4390 - mae: 6348.4390\n",
      "Epoch 50/100\n",
      "34/34 [==============================] - 0s 2ms/step - loss: 6257.3423 - mae: 6257.3423\n",
      "Epoch 51/100\n",
      "34/34 [==============================] - 0s 2ms/step - loss: 6167.2773 - mae: 6167.2773\n",
      "Epoch 52/100\n",
      "34/34 [==============================] - 0s 2ms/step - loss: 6068.2065 - mae: 6068.2065\n",
      "Epoch 53/100\n",
      "34/34 [==============================] - 0s 2ms/step - loss: 5965.9956 - mae: 5965.9956\n",
      "Epoch 54/100\n",
      "34/34 [==============================] - 0s 2ms/step - loss: 5860.6924 - mae: 5860.6924\n",
      "Epoch 55/100\n",
      "34/34 [==============================] - 0s 2ms/step - loss: 5747.0894 - mae: 5747.0894\n",
      "Epoch 56/100\n",
      "34/34 [==============================] - 0s 2ms/step - loss: 5632.4146 - mae: 5632.4146\n",
      "Epoch 57/100\n",
      "34/34 [==============================] - 0s 2ms/step - loss: 5512.8599 - mae: 5512.8599\n",
      "Epoch 58/100\n",
      "34/34 [==============================] - 0s 2ms/step - loss: 5391.6641 - mae: 5391.6641\n",
      "Epoch 59/100\n",
      "34/34 [==============================] - 0s 2ms/step - loss: 5265.5029 - mae: 5265.5029\n",
      "Epoch 60/100\n",
      "34/34 [==============================] - 0s 2ms/step - loss: 5139.8115 - mae: 5139.8115\n",
      "Epoch 61/100\n",
      "34/34 [==============================] - 0s 2ms/step - loss: 5010.2964 - mae: 5010.2964\n",
      "Epoch 62/100\n",
      "34/34 [==============================] - 0s 2ms/step - loss: 4876.3228 - mae: 4876.3228\n",
      "Epoch 63/100\n",
      "34/34 [==============================] - 0s 2ms/step - loss: 4746.7554 - mae: 4746.7554\n",
      "Epoch 64/100\n",
      "34/34 [==============================] - 0s 2ms/step - loss: 4615.3330 - mae: 4615.3330\n",
      "Epoch 65/100\n",
      "34/34 [==============================] - 0s 2ms/step - loss: 4495.8306 - mae: 4495.8306\n",
      "Epoch 66/100\n",
      "34/34 [==============================] - 0s 2ms/step - loss: 4384.3311 - mae: 4384.3311\n",
      "Epoch 67/100\n",
      "34/34 [==============================] - 0s 2ms/step - loss: 4281.1987 - mae: 4281.1987\n",
      "Epoch 68/100\n",
      "34/34 [==============================] - 0s 2ms/step - loss: 4180.3457 - mae: 4180.3457\n",
      "Epoch 69/100\n",
      "34/34 [==============================] - 0s 2ms/step - loss: 4088.1650 - mae: 4088.1650\n",
      "Epoch 70/100\n",
      "34/34 [==============================] - 0s 3ms/step - loss: 4005.4458 - mae: 4005.4458\n",
      "Epoch 71/100\n",
      "34/34 [==============================] - 0s 2ms/step - loss: 3930.6216 - mae: 3930.6216\n",
      "Epoch 72/100\n",
      "34/34 [==============================] - 0s 2ms/step - loss: 3867.6331 - mae: 3867.6331\n",
      "Epoch 73/100\n",
      "34/34 [==============================] - 0s 2ms/step - loss: 3816.3948 - mae: 3816.3948\n",
      "Epoch 74/100\n",
      "34/34 [==============================] - 0s 2ms/step - loss: 3773.8315 - mae: 3773.8315\n",
      "Epoch 75/100\n",
      "34/34 [==============================] - 0s 2ms/step - loss: 3744.2805 - mae: 3744.2805\n",
      "Epoch 76/100\n",
      "34/34 [==============================] - 0s 2ms/step - loss: 3722.6016 - mae: 3722.6016\n",
      "Epoch 77/100\n",
      "34/34 [==============================] - 0s 2ms/step - loss: 3704.0320 - mae: 3704.0320\n",
      "Epoch 78/100\n",
      "34/34 [==============================] - 0s 2ms/step - loss: 3692.6299 - mae: 3692.6299\n",
      "Epoch 79/100\n",
      "34/34 [==============================] - 0s 2ms/step - loss: 3683.7537 - mae: 3683.7537\n",
      "Epoch 80/100\n",
      "34/34 [==============================] - 0s 2ms/step - loss: 3676.3711 - mae: 3676.3711\n",
      "Epoch 81/100\n"
     ]
    },
    {
     "name": "stdout",
     "output_type": "stream",
     "text": [
      "34/34 [==============================] - 0s 2ms/step - loss: 3671.7378 - mae: 3671.7378\n",
      "Epoch 82/100\n",
      "34/34 [==============================] - 0s 2ms/step - loss: 3669.6282 - mae: 3669.6282\n",
      "Epoch 83/100\n",
      "34/34 [==============================] - 0s 2ms/step - loss: 3664.1011 - mae: 3664.1011\n",
      "Epoch 84/100\n",
      "34/34 [==============================] - 0s 2ms/step - loss: 3661.7651 - mae: 3661.7651\n",
      "Epoch 85/100\n",
      "34/34 [==============================] - 0s 2ms/step - loss: 3659.5981 - mae: 3659.5981\n",
      "Epoch 86/100\n",
      "34/34 [==============================] - 0s 2ms/step - loss: 3658.3562 - mae: 3658.3562\n",
      "Epoch 87/100\n",
      "34/34 [==============================] - 0s 2ms/step - loss: 3655.2202 - mae: 3655.2202\n",
      "Epoch 88/100\n",
      "34/34 [==============================] - 0s 2ms/step - loss: 3652.9858 - mae: 3652.9858\n",
      "Epoch 89/100\n",
      "34/34 [==============================] - 0s 2ms/step - loss: 3651.7493 - mae: 3651.7493\n",
      "Epoch 90/100\n",
      "34/34 [==============================] - 0s 2ms/step - loss: 3649.9402 - mae: 3649.9402\n",
      "Epoch 91/100\n",
      "34/34 [==============================] - 0s 2ms/step - loss: 3646.8955 - mae: 3646.8955\n",
      "Epoch 92/100\n",
      "34/34 [==============================] - 0s 3ms/step - loss: 3646.1506 - mae: 3646.1506\n",
      "Epoch 93/100\n",
      "34/34 [==============================] - 0s 2ms/step - loss: 3643.9070 - mae: 3643.9070\n",
      "Epoch 94/100\n",
      "34/34 [==============================] - 0s 2ms/step - loss: 3642.2156 - mae: 3642.2156\n",
      "Epoch 95/100\n",
      "34/34 [==============================] - 0s 2ms/step - loss: 3643.2385 - mae: 3643.2385\n",
      "Epoch 96/100\n",
      "34/34 [==============================] - 0s 2ms/step - loss: 3640.0693 - mae: 3640.0693\n",
      "Epoch 97/100\n",
      "34/34 [==============================] - 0s 2ms/step - loss: 3637.6577 - mae: 3637.6577\n",
      "Epoch 98/100\n",
      "34/34 [==============================] - 0s 2ms/step - loss: 3635.5967 - mae: 3635.5967\n",
      "Epoch 99/100\n",
      "34/34 [==============================] - 0s 2ms/step - loss: 3634.8560 - mae: 3634.8560\n",
      "Epoch 100/100\n",
      "34/34 [==============================] - 0s 2ms/step - loss: 3633.6428 - mae: 3633.6428\n"
     ]
    }
   ],
   "source": [
    "# Build a neural network to fit on the preprocessed data\n",
    "\n",
    "\n",
    "# Set the seed\n",
    "tf.random.set_seed(42)\n",
    "\n",
    "# 1. Create the model\n",
    "insurance_model_4 = tf.keras.Sequential([\n",
    "    tf.keras.layers.Dense(100),\n",
    "    tf.keras.layers.Dense(10),\n",
    "    tf.keras.layers.Dense(1)\n",
    "])\n",
    "\n",
    "# 2. Compile the model\n",
    "insurance_model_4.compile(loss=tf.keras.losses.mae,\n",
    "                       optimizer=tf.keras.optimizers.Adam(),\n",
    "                       metrics=[\"mae\"])\n",
    "\n",
    "# 3. Fit the model\n",
    "history_4 = insurance_model_4.fit(X_train_normal,y_train, epochs=100, verbose=1)"
   ]
  },
  {
   "cell_type": "markdown",
   "id": "5f3129c4",
   "metadata": {},
   "source": [
    "Now we have to test the model on the same type of data it was trained on. Since it was trained on preprocessed data, it has to be evaluated on preprocessed data."
   ]
  },
  {
   "cell_type": "code",
   "execution_count": 117,
   "id": "9e3c2a5c",
   "metadata": {
    "scrolled": true
   },
   "outputs": [
    {
     "name": "stdout",
     "output_type": "stream",
     "text": [
      "9/9 [==============================] - 0s 2ms/step - loss: 3435.8530 - mae: 3435.8530\n"
     ]
    },
    {
     "data": {
      "text/plain": [
       "[3435.85302734375, 3435.85302734375]"
      ]
     },
     "execution_count": 117,
     "metadata": {},
     "output_type": "execute_result"
    }
   ],
   "source": [
    "# Evaluate the 4th model on normalized data (recall that it was trained 100 epochs)\n",
    "insurance_model_4.evaluate(X_test_normal,y_test)"
   ]
  },
  {
   "cell_type": "code",
   "execution_count": 118,
   "id": "f12a82ad",
   "metadata": {},
   "outputs": [],
   "source": [
    "# Third model evaluation result (recall that 3rd model was trained 200 epochs)\n",
    "\n",
    "# 9/9 [==============================] - 0s 2ms/step - loss: 3491.5759 - mae: 3491.5759"
   ]
  },
  {
   "cell_type": "markdown",
   "id": "6e17e61d",
   "metadata": {},
   "source": [
    "When the data is normalized, the model has a faster convergence time."
   ]
  },
  {
   "cell_type": "code",
   "execution_count": null,
   "id": "223cb4c2",
   "metadata": {},
   "outputs": [],
   "source": []
  },
  {
   "cell_type": "code",
   "execution_count": null,
   "id": "ffeec8ab",
   "metadata": {},
   "outputs": [],
   "source": []
  }
 ],
 "metadata": {
  "kernelspec": {
   "display_name": "Python 3",
   "language": "python",
   "name": "python3"
  },
  "language_info": {
   "codemirror_mode": {
    "name": "ipython",
    "version": 3
   },
   "file_extension": ".py",
   "mimetype": "text/x-python",
   "name": "python",
   "nbconvert_exporter": "python",
   "pygments_lexer": "ipython3",
   "version": "3.8.8"
  }
 },
 "nbformat": 4,
 "nbformat_minor": 5
}
