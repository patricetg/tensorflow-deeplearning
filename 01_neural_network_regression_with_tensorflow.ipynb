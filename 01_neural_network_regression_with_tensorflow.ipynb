{
 "cells": [
  {
   "cell_type": "code",
   "execution_count": null,
   "id": "d1d332c5",
   "metadata": {},
   "outputs": [],
   "source": []
  },
  {
   "cell_type": "markdown",
   "id": "ae1f3f01",
   "metadata": {},
   "source": [
    "# Introduction to Regression with Neural Networks in TensorFlow\n",
    "\n",
    "There are many definitions for a regression problem, but to make it simple : predicting a continuous (numerical) variable based on some other combination of variables."
   ]
  },
  {
   "cell_type": "code",
   "execution_count": 1,
   "id": "3ebcab60",
   "metadata": {},
   "outputs": [
    {
     "name": "stdout",
     "output_type": "stream",
     "text": [
      "2.10.0\n"
     ]
    }
   ],
   "source": [
    "# Import TensorFlow\n",
    "import tensorflow as tf\n",
    "print(tf.__version__)"
   ]
  },
  {
   "cell_type": "code",
   "execution_count": 2,
   "id": "46175302",
   "metadata": {},
   "outputs": [],
   "source": [
    "import pandas as pd\n",
    "import numpy as np\n",
    "import matplotlib.pyplot as plt\n",
    "\n",
    "from sklearn.model_selection import train_test_split\n",
    "\n",
    "%matplotlib inline"
   ]
  },
  {
   "cell_type": "code",
   "execution_count": 3,
   "id": "b73583b4",
   "metadata": {},
   "outputs": [],
   "source": [
    "from tensorflow.keras.utils import plot_model"
   ]
  },
  {
   "cell_type": "markdown",
   "id": "5b304915",
   "metadata": {},
   "source": [
    "Note : in order to use plot_model, one must install pydot (`pip install pydot`) and install graphviz (see instructions at https://graphviz.gitlab.io/download/) for plot_model to work."
   ]
  },
  {
   "cell_type": "code",
   "execution_count": null,
   "id": "99283640",
   "metadata": {},
   "outputs": [],
   "source": []
  },
  {
   "cell_type": "markdown",
   "id": "3ea9cdd1",
   "metadata": {},
   "source": [
    "### Creating data to view and fit"
   ]
  },
  {
   "cell_type": "code",
   "execution_count": 4,
   "id": "dc6c9d96",
   "metadata": {},
   "outputs": [
    {
     "data": {
      "text/plain": [
       "<matplotlib.collections.PathCollection at 0x13d2f260f70>"
      ]
     },
     "execution_count": 4,
     "metadata": {},
     "output_type": "execute_result"
    },
    {
     "data": {
      "image/png": "[encoded data removed]",
      "text/plain": [
       "<Figure size 432x288 with 1 Axes>"
      ]
     },
     "metadata": {
      "needs_background": "light"
     },
     "output_type": "display_data"
    }
   ],
   "source": [
    "# Create features\n",
    "X = np.array([-7., -4, -1, 2, 5, 8, 11, 14])\n",
    "\n",
    "# Create labels\n",
    "y = np.array([3., 6, 9, 12, 15, 18, 21, 24])\n",
    "\n",
    "# Visualize it\n",
    "plt.scatter(X,y)"
   ]
  },
  {
   "cell_type": "code",
   "execution_count": 5,
   "id": "2e244a47",
   "metadata": {},
   "outputs": [
    {
     "data": {
      "text/plain": [
       "array([ 3.,  6.,  9., 12., 15., 18., 21., 24.])"
      ]
     },
     "execution_count": 5,
     "metadata": {},
     "output_type": "execute_result"
    }
   ],
   "source": [
    "X+10"
   ]
  },
  {
   "cell_type": "code",
   "execution_count": 6,
   "id": "fb87b2bc",
   "metadata": {},
   "outputs": [
    {
     "data": {
      "text/plain": [
       "array([ True,  True,  True,  True,  True,  True,  True,  True])"
      ]
     },
     "execution_count": 6,
     "metadata": {},
     "output_type": "execute_result"
    }
   ],
   "source": [
    "y == X+10"
   ]
  },
  {
   "cell_type": "code",
   "execution_count": 7,
   "id": "e18c377b",
   "metadata": {},
   "outputs": [
    {
     "data": {
      "text/plain": [
       "(TensorShape([8]), TensorShape([8]))"
      ]
     },
     "execution_count": 7,
     "metadata": {},
     "output_type": "execute_result"
    }
   ],
   "source": [
    "# Turning the NumPy arrays into tensors\n",
    "X = tf.constant(X)\n",
    "y = tf.constant(y)\n",
    "X.shape, y.shape"
   ]
  },
  {
   "cell_type": "code",
   "execution_count": 8,
   "id": "f4485d20",
   "metadata": {},
   "outputs": [
    {
     "data": {
      "text/plain": [
       "<tf.Tensor: shape=(8,), dtype=float64, numpy=array([-7., -4., -1.,  2.,  5.,  8., 11., 14.])>"
      ]
     },
     "execution_count": 8,
     "metadata": {},
     "output_type": "execute_result"
    }
   ],
   "source": [
    "X"
   ]
  },
  {
   "cell_type": "code",
   "execution_count": 9,
   "id": "5e0fe4a9",
   "metadata": {},
   "outputs": [
    {
     "data": {
      "text/plain": [
       "<tf.Tensor: shape=(8, 1), dtype=float64, numpy=\n",
       "array([[-7.],\n",
       "       [-4.],\n",
       "       [-1.],\n",
       "       [ 2.],\n",
       "       [ 5.],\n",
       "       [ 8.],\n",
       "       [11.],\n",
       "       [14.]])>"
      ]
     },
     "execution_count": 9,
     "metadata": {},
     "output_type": "execute_result"
    }
   ],
   "source": [
    "# Expand the dimension of a tensor : https://www.geeksforgeeks.org/python-tensorflow-expand_dims/\n",
    "tf.expand_dims(X, axis=-1)"
   ]
  },
  {
   "cell_type": "code",
   "execution_count": null,
   "id": "f5304102",
   "metadata": {},
   "outputs": [],
   "source": []
  },
  {
   "cell_type": "markdown",
   "id": "612e394c",
   "metadata": {},
   "source": [
    "### Steps in modeling in TensorFlow\n",
    "\n",
    "1. **Creating the model** - define the input and output layers, as well as the hidden layers of a deep learning model.\n",
    "2. **Compiling the model** - define the `loss function` (the function which will tells our model how far it's from performing well), the `optimizer` (tells the model how to update its internal patterns to better its predictions) and the `evaluation metrics` (human interpretable values for how well the model is doing).\n",
    "3. **Fitting the model** - letting the model try to find patterns between features and labels.\n",
    "4. **Evaluation** - Evaluate the model on the test data (in order to know how reliable are the model's predictions)\n",
    "\n",
    "\n",
    "In TensorFlow, there are two main way of creating a model :\n",
    "* Sequential API\n",
    "* Functional API"
   ]
  },
  {
   "cell_type": "code",
   "execution_count": 10,
   "id": "6f72d001",
   "metadata": {},
   "outputs": [
    {
     "name": "stdout",
     "output_type": "stream",
     "text": [
      "Epoch 1/5\n",
      "1/1 [==============================] - 1s 742ms/step - loss: 9.4774 - mae: 9.4774\n",
      "Epoch 2/5\n",
      "1/1 [==============================] - 0s 6ms/step - loss: 9.3449 - mae: 9.3449\n",
      "Epoch 3/5\n",
      "1/1 [==============================] - 0s 5ms/step - loss: 9.2124 - mae: 9.2124\n",
      "Epoch 4/5\n",
      "1/1 [==============================] - 0s 6ms/step - loss: 9.0799 - mae: 9.0799\n",
      "Epoch 5/5\n",
      "1/1 [==============================] - 0s 5ms/step - loss: 8.9474 - mae: 8.9474\n"
     ]
    },
    {
     "data": {
      "text/plain": [
       "<keras.callbacks.History at 0x13d30ba86d0>"
      ]
     },
     "execution_count": 10,
     "metadata": {},
     "output_type": "execute_result"
    }
   ],
   "source": [
    "# Set a random seed (in order to have some reproducibility)\n",
    "tf.random.set_seed(42)\n",
    "\n",
    "# 1. Create a model using the Sequential API\n",
    "model = tf.keras.Sequential([\n",
    "    tf.keras.layers.Dense(1)\n",
    "])\n",
    "\n",
    "# 2. Compile the model\n",
    "model.compile(loss=tf.keras.losses.mae, # MAE : Mean Absolute Error\n",
    "              optimizer=tf.keras.optimizers.SGD(), # SGD : Stochastic Gradient Descent\n",
    "              metrics=[\"mae\"]\n",
    "             )\n",
    "\n",
    "# 3. Fit the model \n",
    "model.fit(tf.expand_dims(X, axis=-1),y, epochs=5)\n"
   ]
  },
  {
   "cell_type": "markdown",
   "id": "2f2af8b2",
   "metadata": {},
   "source": [
    "**Note**  \n",
    "A lot of function in TensorFlow, if they have a shortcut name (e.g. mae or SGD), can be replaced by a string variable to define the fact it is wished to used that specific function. For e.g., the step 2 in the above cell( Compile the model), can also be written as such : \n",
    "\n",
    "model.compile(loss=\"mae\",  \n",
    "              optimizer=\"sgd\",  \n",
    "              metrics=[\"mae\"]  \n",
    "             )"
   ]
  },
  {
   "cell_type": "code",
   "execution_count": 11,
   "id": "9949ba02",
   "metadata": {},
   "outputs": [
    {
     "data": {
      "text/plain": [
       "(<tf.Tensor: shape=(8,), dtype=float64, numpy=array([-7., -4., -1.,  2.,  5.,  8., 11., 14.])>,\n",
       " <tf.Tensor: shape=(8,), dtype=float64, numpy=array([ 3.,  6.,  9., 12., 15., 18., 21., 24.])>)"
      ]
     },
     "execution_count": 11,
     "metadata": {},
     "output_type": "execute_result"
    }
   ],
   "source": [
    "# Check out X and y\n",
    "X, y"
   ]
  },
  {
   "cell_type": "code",
   "execution_count": 12,
   "id": "d35d1023",
   "metadata": {},
   "outputs": [
    {
     "name": "stdout",
     "output_type": "stream",
     "text": [
      "1/1 [==============================] - 0s 175ms/step\n"
     ]
    },
    {
     "data": {
      "text/plain": [
       "array([[22.563562]], dtype=float32)"
      ]
     },
     "execution_count": 12,
     "metadata": {},
     "output_type": "execute_result"
    }
   ],
   "source": [
    "# Trying to make a prediction using our model\n",
    "model.predict([17.])"
   ]
  },
  {
   "cell_type": "markdown",
   "id": "9eefcc9e",
   "metadata": {},
   "source": [
    "The predicted value (y) should be 27 when X is 17. But we got -13.89, which is pretty far off. This is no surprising because the current MAE of our model is 17.3050, which means : on average, our model predict something that is 17.3050 points off where is should be (MAE)."
   ]
  },
  {
   "cell_type": "code",
   "execution_count": 13,
   "id": "27107469",
   "metadata": {},
   "outputs": [
    {
     "name": "stdout",
     "output_type": "stream",
     "text": [
      "1/1 [==============================] - 0s 73ms/step\n"
     ]
    },
    {
     "data": {
      "text/plain": [
       "array([[22.563562]], dtype=float32)"
      ]
     },
     "execution_count": 13,
     "metadata": {},
     "output_type": "execute_result"
    }
   ],
   "source": [
    "y_pred = model.predict([17.])\n",
    "y_pred"
   ]
  },
  {
   "cell_type": "code",
   "execution_count": 14,
   "id": "65c6bb1b",
   "metadata": {},
   "outputs": [
    {
     "data": {
      "text/plain": [
       "array([[39.86856]], dtype=float32)"
      ]
     },
     "execution_count": 14,
     "metadata": {},
     "output_type": "execute_result"
    }
   ],
   "source": [
    "y_pred + 17.3050"
   ]
  },
  {
   "cell_type": "markdown",
   "id": "a759cf25",
   "metadata": {},
   "source": [
    "The value is still off, our model is performing poorly.   \n",
    "Now, we need to improve our model."
   ]
  },
  {
   "cell_type": "code",
   "execution_count": null,
   "id": "7eecc354",
   "metadata": {},
   "outputs": [],
   "source": []
  },
  {
   "cell_type": "markdown",
   "id": "f47b7fed",
   "metadata": {},
   "source": [
    "### Improving our model\n",
    "\n",
    "We can improve our model by altering the steps we took to create a model.  \n",
    "\n",
    "1. **Creating a model** - Here, we might :\n",
    "* add more layers, \n",
    "* increase the number of hidden units (also called neurons) within each of th hidden layers, \n",
    "* change the activation function of each layer\n",
    "\n",
    "2. **Compiling the model** - Here, we might :\n",
    "* change the optimization function,\n",
    "* or perhaps changes the **learning rate** of the optimization function\n",
    "\n",
    "3. **Fitting the model** - Here, we might :\n",
    "* fit the model for more epochs (make it train for longer)\n",
    "* fit the model on more data (give the model more examples to learn from)"
   ]
  },
  {
   "cell_type": "code",
   "execution_count": 15,
   "id": "0900b32c",
   "metadata": {},
   "outputs": [
    {
     "name": "stdout",
     "output_type": "stream",
     "text": [
      "Epoch 1/100\n",
      "1/1 [==============================] - 1s 633ms/step - loss: 12.5330 - mae: 12.5330\n",
      "Epoch 2/100\n",
      "1/1 [==============================] - 0s 4ms/step - loss: 12.0248 - mae: 12.0248\n",
      "Epoch 3/100\n",
      "1/1 [==============================] - 0s 4ms/step - loss: 11.5226 - mae: 11.5226\n",
      "Epoch 4/100\n",
      "1/1 [==============================] - 0s 5ms/step - loss: 11.0248 - mae: 11.0248\n",
      "Epoch 5/100\n",
      "1/1 [==============================] - 0s 6ms/step - loss: 10.5153 - mae: 10.5153\n",
      "Epoch 6/100\n",
      "1/1 [==============================] - 0s 7ms/step - loss: 9.9869 - mae: 9.9869\n",
      "Epoch 7/100\n",
      "1/1 [==============================] - 0s 6ms/step - loss: 9.4358 - mae: 9.4358\n",
      "Epoch 8/100\n",
      "1/1 [==============================] - 0s 8ms/step - loss: 8.8522 - mae: 8.8522\n",
      "Epoch 9/100\n",
      "1/1 [==============================] - 0s 5ms/step - loss: 8.2287 - mae: 8.2287\n",
      "Epoch 10/100\n",
      "1/1 [==============================] - 0s 6ms/step - loss: 7.5618 - mae: 7.5618\n",
      "Epoch 11/100\n",
      "1/1 [==============================] - 0s 7ms/step - loss: 6.8456 - mae: 6.8456\n",
      "Epoch 12/100\n",
      "1/1 [==============================] - 0s 5ms/step - loss: 6.0728 - mae: 6.0728\n",
      "Epoch 13/100\n",
      "1/1 [==============================] - 0s 5ms/step - loss: 5.2359 - mae: 5.2359\n",
      "Epoch 14/100\n",
      "1/1 [==============================] - 0s 6ms/step - loss: 4.3325 - mae: 4.3325\n",
      "Epoch 15/100\n",
      "1/1 [==============================] - 0s 6ms/step - loss: 3.9476 - mae: 3.9476\n",
      "Epoch 16/100\n",
      "1/1 [==============================] - 0s 6ms/step - loss: 3.9703 - mae: 3.9703\n",
      "Epoch 17/100\n",
      "1/1 [==============================] - 0s 7ms/step - loss: 3.9291 - mae: 3.9291\n",
      "Epoch 18/100\n",
      "1/1 [==============================] - 0s 7ms/step - loss: 3.9835 - mae: 3.9835\n",
      "Epoch 19/100\n",
      "1/1 [==============================] - 0s 5ms/step - loss: 3.9155 - mae: 3.9155\n",
      "Epoch 20/100\n",
      "1/1 [==============================] - 0s 6ms/step - loss: 3.9778 - mae: 3.9778\n",
      "Epoch 21/100\n",
      "1/1 [==============================] - 0s 5ms/step - loss: 3.9226 - mae: 3.9226\n",
      "Epoch 22/100\n",
      "1/1 [==============================] - 0s 6ms/step - loss: 3.9526 - mae: 3.9526\n",
      "Epoch 23/100\n",
      "1/1 [==============================] - 0s 7ms/step - loss: 3.9298 - mae: 3.9298\n",
      "Epoch 24/100\n",
      "1/1 [==============================] - 0s 6ms/step - loss: 3.9278 - mae: 3.9278\n",
      "Epoch 25/100\n",
      "1/1 [==============================] - 0s 9ms/step - loss: 3.9446 - mae: 3.9446\n",
      "Epoch 26/100\n",
      "1/1 [==============================] - 0s 6ms/step - loss: 3.9085 - mae: 3.9085\n",
      "Epoch 27/100\n",
      "1/1 [==============================] - 0s 7ms/step - loss: 3.9519 - mae: 3.9519\n",
      "Epoch 28/100\n",
      "1/1 [==============================] - 0s 6ms/step - loss: 3.8844 - mae: 3.8844\n",
      "Epoch 29/100\n",
      "1/1 [==============================] - 0s 5ms/step - loss: 3.9567 - mae: 3.9567\n",
      "Epoch 30/100\n",
      "1/1 [==============================] - 0s 6ms/step - loss: 3.8917 - mae: 3.8917\n",
      "Epoch 31/100\n",
      "1/1 [==============================] - 0s 6ms/step - loss: 3.9313 - mae: 3.9313\n",
      "Epoch 32/100\n",
      "1/1 [==============================] - 0s 6ms/step - loss: 3.8991 - mae: 3.8991\n",
      "Epoch 33/100\n",
      "1/1 [==============================] - 0s 6ms/step - loss: 3.9119 - mae: 3.9119\n",
      "Epoch 34/100\n",
      "1/1 [==============================] - 0s 5ms/step - loss: 3.9141 - mae: 3.9141\n",
      "Epoch 35/100\n",
      "1/1 [==============================] - 0s 6ms/step - loss: 3.8866 - mae: 3.8866\n",
      "Epoch 36/100\n",
      "1/1 [==============================] - 0s 6ms/step - loss: 3.9216 - mae: 3.9216\n",
      "Epoch 37/100\n",
      "1/1 [==============================] - 0s 6ms/step - loss: 3.8606 - mae: 3.8606\n",
      "Epoch 38/100\n",
      "1/1 [==============================] - 0s 7ms/step - loss: 3.9293 - mae: 3.9293\n",
      "Epoch 39/100\n",
      "1/1 [==============================] - 0s 7ms/step - loss: 3.8619 - mae: 3.8619\n",
      "Epoch 40/100\n",
      "1/1 [==============================] - 0s 6ms/step - loss: 3.9087 - mae: 3.9087\n",
      "Epoch 41/100\n",
      "1/1 [==============================] - 0s 5ms/step - loss: 3.8740 - mae: 3.8740\n",
      "Epoch 42/100\n",
      "1/1 [==============================] - 0s 7ms/step - loss: 3.8897 - mae: 3.8897\n",
      "Epoch 43/100\n",
      "1/1 [==============================] - 0s 6ms/step - loss: 3.8846 - mae: 3.8846\n",
      "Epoch 44/100\n",
      "1/1 [==============================] - 0s 6ms/step - loss: 3.8635 - mae: 3.8635\n",
      "Epoch 45/100\n",
      "1/1 [==============================] - 0s 6ms/step - loss: 3.8923 - mae: 3.8923\n",
      "Epoch 46/100\n",
      "1/1 [==============================] - 0s 5ms/step - loss: 3.8372 - mae: 3.8372\n",
      "Epoch 47/100\n",
      "1/1 [==============================] - 0s 5ms/step - loss: 3.9002 - mae: 3.9002\n",
      "Epoch 48/100\n",
      "1/1 [==============================] - 0s 5ms/step - loss: 3.8331 - mae: 3.8331\n",
      "Epoch 49/100\n",
      "1/1 [==============================] - 0s 7ms/step - loss: 3.8886 - mae: 3.8886\n",
      "Epoch 50/100\n",
      "1/1 [==============================] - 0s 5ms/step - loss: 3.8484 - mae: 3.8484\n",
      "Epoch 51/100\n",
      "1/1 [==============================] - 0s 6ms/step - loss: 3.8656 - mae: 3.8656\n",
      "Epoch 52/100\n",
      "1/1 [==============================] - 0s 6ms/step - loss: 3.8562 - mae: 3.8562\n",
      "Epoch 53/100\n",
      "1/1 [==============================] - 0s 5ms/step - loss: 3.8391 - mae: 3.8391\n",
      "Epoch 54/100\n",
      "1/1 [==============================] - 0s 6ms/step - loss: 3.8640 - mae: 3.8640\n",
      "Epoch 55/100\n",
      "1/1 [==============================] - 0s 7ms/step - loss: 3.8126 - mae: 3.8126\n",
      "Epoch 56/100\n",
      "1/1 [==============================] - 0s 5ms/step - loss: 3.8722 - mae: 3.8722\n",
      "Epoch 57/100\n",
      "1/1 [==============================] - 0s 4ms/step - loss: 3.8073 - mae: 3.8073\n",
      "Epoch 58/100\n",
      "1/1 [==============================] - 0s 6ms/step - loss: 3.8668 - mae: 3.8668\n",
      "Epoch 59/100\n",
      "1/1 [==============================] - 0s 6ms/step - loss: 3.8209 - mae: 3.8209\n",
      "Epoch 60/100\n",
      "1/1 [==============================] - 0s 5ms/step - loss: 3.8402 - mae: 3.8402\n",
      "Epoch 61/100\n",
      "1/1 [==============================] - 0s 5ms/step - loss: 3.8288 - mae: 3.8288\n",
      "Epoch 62/100\n",
      "1/1 [==============================] - 0s 5ms/step - loss: 3.8135 - mae: 3.8135\n",
      "Epoch 63/100\n",
      "1/1 [==============================] - 0s 5ms/step - loss: 3.8370 - mae: 3.8370\n",
      "Epoch 64/100\n",
      "1/1 [==============================] - 0s 6ms/step - loss: 3.7868 - mae: 3.7868\n",
      "Epoch 65/100\n",
      "1/1 [==============================] - 0s 7ms/step - loss: 3.8453 - mae: 3.8453\n",
      "Epoch 66/100\n",
      "1/1 [==============================] - 0s 7ms/step - loss: 3.7859 - mae: 3.7859\n",
      "Epoch 67/100\n",
      "1/1 [==============================] - 0s 5ms/step - loss: 3.8406 - mae: 3.8406\n",
      "Epoch 68/100\n",
      "1/1 [==============================] - 0s 5ms/step - loss: 3.7945 - mae: 3.7945\n",
      "Epoch 69/100\n",
      "1/1 [==============================] - 0s 6ms/step - loss: 3.8137 - mae: 3.8137\n",
      "Epoch 70/100\n",
      "1/1 [==============================] - 0s 6ms/step - loss: 3.8026 - mae: 3.8026\n",
      "Epoch 71/100\n",
      "1/1 [==============================] - 0s 5ms/step - loss: 3.7867 - mae: 3.7867\n",
      "Epoch 72/100\n",
      "1/1 [==============================] - 0s 5ms/step - loss: 3.8111 - mae: 3.8111\n",
      "Epoch 73/100\n",
      "1/1 [==============================] - 0s 6ms/step - loss: 3.7597 - mae: 3.7597\n",
      "Epoch 74/100\n",
      "1/1 [==============================] - 0s 5ms/step - loss: 3.8244 - mae: 3.8244\n",
      "Epoch 75/100\n",
      "1/1 [==============================] - 0s 5ms/step - loss: 3.7609 - mae: 3.7609\n",
      "Epoch 76/100\n",
      "1/1 [==============================] - 0s 6ms/step - loss: 3.8129 - mae: 3.8129\n",
      "Epoch 77/100\n",
      "1/1 [==============================] - 0s 5ms/step - loss: 3.7691 - mae: 3.7691\n",
      "Epoch 78/100\n",
      "1/1 [==============================] - 0s 5ms/step - loss: 3.7857 - mae: 3.7857\n",
      "Epoch 79/100\n",
      "1/1 [==============================] - 0s 6ms/step - loss: 3.7775 - mae: 3.7775\n",
      "Epoch 80/100\n",
      "1/1 [==============================] - 0s 6ms/step - loss: 3.7585 - mae: 3.7585\n",
      "Epoch 81/100\n",
      "1/1 [==============================] - 0s 6ms/step - loss: 3.7861 - mae: 3.7861\n",
      "Epoch 82/100\n",
      "1/1 [==============================] - 0s 6ms/step - loss: 3.7344 - mae: 3.7344\n",
      "Epoch 83/100\n",
      "1/1 [==============================] - 0s 6ms/step - loss: 3.8022 - mae: 3.8022\n",
      "Epoch 84/100\n",
      "1/1 [==============================] - 0s 5ms/step - loss: 3.7363 - mae: 3.7363\n",
      "Epoch 85/100\n",
      "1/1 [==============================] - 0s 6ms/step - loss: 3.7839 - mae: 3.7839\n",
      "Epoch 86/100\n",
      "1/1 [==============================] - 0s 6ms/step - loss: 3.7447 - mae: 3.7447\n",
      "Epoch 87/100\n",
      "1/1 [==============================] - 0s 8ms/step - loss: 3.7565 - mae: 3.7565\n",
      "Epoch 88/100\n",
      "1/1 [==============================] - 0s 7ms/step - loss: 3.7534 - mae: 3.7534\n",
      "Epoch 89/100\n"
     ]
    },
    {
     "name": "stdout",
     "output_type": "stream",
     "text": [
      "1/1 [==============================] - 0s 6ms/step - loss: 3.7290 - mae: 3.7290\n",
      "Epoch 90/100\n",
      "1/1 [==============================] - 0s 5ms/step - loss: 3.7631 - mae: 3.7631\n",
      "Epoch 91/100\n",
      "1/1 [==============================] - 0s 7ms/step - loss: 3.7081 - mae: 3.7081\n",
      "Epoch 92/100\n",
      "1/1 [==============================] - 0s 6ms/step - loss: 3.7785 - mae: 3.7785\n",
      "Epoch 93/100\n",
      "1/1 [==============================] - 0s 6ms/step - loss: 3.7128 - mae: 3.7128\n",
      "Epoch 94/100\n",
      "1/1 [==============================] - 0s 6ms/step - loss: 3.7536 - mae: 3.7536\n",
      "Epoch 95/100\n",
      "1/1 [==============================] - 0s 5ms/step - loss: 3.7214 - mae: 3.7214\n",
      "Epoch 96/100\n",
      "1/1 [==============================] - 0s 6ms/step - loss: 3.7259 - mae: 3.7259\n",
      "Epoch 97/100\n",
      "1/1 [==============================] - 0s 6ms/step - loss: 3.7304 - mae: 3.7304\n",
      "Epoch 98/100\n",
      "1/1 [==============================] - 0s 6ms/step - loss: 3.6981 - mae: 3.6981\n",
      "Epoch 99/100\n",
      "1/1 [==============================] - 0s 6ms/step - loss: 3.7449 - mae: 3.7449\n",
      "Epoch 100/100\n",
      "1/1 [==============================] - 0s 6ms/step - loss: 3.6816 - mae: 3.6816\n"
     ]
    },
    {
     "data": {
      "text/plain": [
       "<keras.callbacks.History at 0x13d30c38580>"
      ]
     },
     "execution_count": 15,
     "metadata": {},
     "output_type": "execute_result"
    }
   ],
   "source": [
    "# 1st experiment : add a hidden layer, and more epochs, as an improvement to the model\n",
    "\n",
    "# Set a random seed (in order to have some reproducibility)\n",
    "tf.random.set_seed(42)\n",
    "\n",
    "# 1. Create a model using the Sequential API\n",
    "model = tf.keras.Sequential([\n",
    "    \n",
    "    # Adding more hidden layers, more neurons, and activation function \n",
    "    tf.keras.layers.Dense(100, activation=\"relu\"),\n",
    "    \n",
    "    tf.keras.layers.Dense(1)\n",
    "])\n",
    "\n",
    "# 2. Compile the model\n",
    "model.compile(loss=tf.keras.losses.mae, # MAE : Mean Absolute Error\n",
    "              optimizer=tf.keras.optimizers.SGD(),\n",
    "              metrics=[\"mae\"]\n",
    "             )\n",
    "\n",
    "# 3. Fit the model \n",
    "model.fit(tf.expand_dims(X, axis=-1),y, epochs=100) # Increasing the number of epochs\n"
   ]
  },
  {
   "cell_type": "markdown",
   "id": "ac7a663c",
   "metadata": {},
   "source": [
    "The 1st experiment has resulted in a good improvement of the model"
   ]
  },
  {
   "cell_type": "code",
   "execution_count": 16,
   "id": "debaf8ee",
   "metadata": {},
   "outputs": [
    {
     "name": "stdout",
     "output_type": "stream",
     "text": [
      "1/1 [==============================] - 0s 138ms/step\n"
     ]
    },
    {
     "data": {
      "text/plain": [
       "array([[31.120651]], dtype=float32)"
      ]
     },
     "execution_count": 16,
     "metadata": {},
     "output_type": "execute_result"
    }
   ],
   "source": [
    "# Check how the model's prediction has improved...\n",
    "model.predict([17.])"
   ]
  },
  {
   "cell_type": "code",
   "execution_count": null,
   "id": "edec4f02",
   "metadata": {},
   "outputs": [],
   "source": []
  },
  {
   "cell_type": "code",
   "execution_count": null,
   "id": "af2206a9",
   "metadata": {},
   "outputs": [],
   "source": []
  },
  {
   "cell_type": "code",
   "execution_count": 17,
   "id": "ab3f76fa",
   "metadata": {},
   "outputs": [
    {
     "name": "stdout",
     "output_type": "stream",
     "text": [
      "Epoch 1/300\n"
     ]
    },
    {
     "name": "stderr",
     "output_type": "stream",
     "text": [
      "C:\\ProgramData\\Anaconda3\\lib\\site-packages\\keras\\optimizers\\optimizer_v2\\adam.py:114: UserWarning: The `lr` argument is deprecated, use `learning_rate` instead.\n",
      "  super().__init__(name, **kwargs)\n"
     ]
    },
    {
     "name": "stdout",
     "output_type": "stream",
     "text": [
      "1/1 [==============================] - 1s 822ms/step - loss: 12.5147 - mae: 12.5147\n",
      "Epoch 2/300\n",
      "1/1 [==============================] - 0s 7ms/step - loss: 12.4719 - mae: 12.4719\n",
      "Epoch 3/300\n",
      "1/1 [==============================] - 0s 7ms/step - loss: 12.4289 - mae: 12.4289\n",
      "Epoch 4/300\n",
      "1/1 [==============================] - 0s 7ms/step - loss: 12.3858 - mae: 12.3858\n",
      "Epoch 5/300\n",
      "1/1 [==============================] - 0s 8ms/step - loss: 12.3428 - mae: 12.3428\n",
      "Epoch 6/300\n",
      "1/1 [==============================] - 0s 6ms/step - loss: 12.2998 - mae: 12.2998\n",
      "Epoch 7/300\n",
      "1/1 [==============================] - 0s 6ms/step - loss: 12.2567 - mae: 12.2567\n",
      "Epoch 8/300\n",
      "1/1 [==============================] - 0s 29ms/step - loss: 12.2135 - mae: 12.2135\n",
      "Epoch 9/300\n",
      "1/1 [==============================] - 0s 7ms/step - loss: 12.1700 - mae: 12.1700\n",
      "Epoch 10/300\n",
      "1/1 [==============================] - 0s 8ms/step - loss: 12.1263 - mae: 12.1263\n",
      "Epoch 11/300\n",
      "1/1 [==============================] - 0s 6ms/step - loss: 12.0825 - mae: 12.0825\n",
      "Epoch 12/300\n",
      "1/1 [==============================] - 0s 6ms/step - loss: 12.0384 - mae: 12.0384\n",
      "Epoch 13/300\n",
      "1/1 [==============================] - 0s 7ms/step - loss: 11.9942 - mae: 11.9942\n",
      "Epoch 14/300\n",
      "1/1 [==============================] - 0s 5ms/step - loss: 11.9497 - mae: 11.9497\n",
      "Epoch 15/300\n",
      "1/1 [==============================] - 0s 7ms/step - loss: 11.9054 - mae: 11.9054\n",
      "Epoch 16/300\n",
      "1/1 [==============================] - 0s 5ms/step - loss: 11.8611 - mae: 11.8611\n",
      "Epoch 17/300\n",
      "1/1 [==============================] - 0s 6ms/step - loss: 11.8173 - mae: 11.8173\n",
      "Epoch 18/300\n",
      "1/1 [==============================] - 0s 8ms/step - loss: 11.7740 - mae: 11.7740\n",
      "Epoch 19/300\n",
      "1/1 [==============================] - 0s 6ms/step - loss: 11.7304 - mae: 11.7304\n",
      "Epoch 20/300\n",
      "1/1 [==============================] - 0s 8ms/step - loss: 11.6865 - mae: 11.6865\n",
      "Epoch 21/300\n",
      "1/1 [==============================] - 0s 8ms/step - loss: 11.6424 - mae: 11.6424\n",
      "Epoch 22/300\n",
      "1/1 [==============================] - 0s 8ms/step - loss: 11.5987 - mae: 11.5987\n",
      "Epoch 23/300\n",
      "1/1 [==============================] - 0s 6ms/step - loss: 11.5549 - mae: 11.5549\n",
      "Epoch 24/300\n",
      "1/1 [==============================] - 0s 6ms/step - loss: 11.5109 - mae: 11.5109\n",
      "Epoch 25/300\n",
      "1/1 [==============================] - 0s 8ms/step - loss: 11.4666 - mae: 11.4666\n",
      "Epoch 26/300\n",
      "1/1 [==============================] - 0s 7ms/step - loss: 11.4220 - mae: 11.4220\n",
      "Epoch 27/300\n",
      "1/1 [==============================] - 0s 5ms/step - loss: 11.3773 - mae: 11.3773\n",
      "Epoch 28/300\n",
      "1/1 [==============================] - 0s 10ms/step - loss: 11.3324 - mae: 11.3324\n",
      "Epoch 29/300\n",
      "1/1 [==============================] - 0s 5ms/step - loss: 11.2877 - mae: 11.2877\n",
      "Epoch 30/300\n",
      "1/1 [==============================] - 0s 6ms/step - loss: 11.2434 - mae: 11.2434\n",
      "Epoch 31/300\n",
      "1/1 [==============================] - 0s 7ms/step - loss: 11.1988 - mae: 11.1988\n",
      "Epoch 32/300\n",
      "1/1 [==============================] - 0s 7ms/step - loss: 11.1537 - mae: 11.1537\n",
      "Epoch 33/300\n",
      "1/1 [==============================] - 0s 6ms/step - loss: 11.1084 - mae: 11.1084\n",
      "Epoch 34/300\n",
      "1/1 [==============================] - 0s 6ms/step - loss: 11.0627 - mae: 11.0627\n",
      "Epoch 35/300\n",
      "1/1 [==============================] - 0s 7ms/step - loss: 11.0261 - mae: 11.0261\n",
      "Epoch 36/300\n",
      "1/1 [==============================] - 0s 6ms/step - loss: 10.9940 - mae: 10.9940\n",
      "Epoch 37/300\n",
      "1/1 [==============================] - 0s 7ms/step - loss: 10.9613 - mae: 10.9613\n",
      "Epoch 38/300\n",
      "1/1 [==============================] - 0s 6ms/step - loss: 10.9282 - mae: 10.9282\n",
      "Epoch 39/300\n",
      "1/1 [==============================] - 0s 5ms/step - loss: 10.8946 - mae: 10.8946\n",
      "Epoch 40/300\n",
      "1/1 [==============================] - 0s 7ms/step - loss: 10.8600 - mae: 10.8600\n",
      "Epoch 41/300\n",
      "1/1 [==============================] - 0s 6ms/step - loss: 10.8247 - mae: 10.8247\n",
      "Epoch 42/300\n",
      "1/1 [==============================] - 0s 8ms/step - loss: 10.7889 - mae: 10.7889\n",
      "Epoch 43/300\n",
      "1/1 [==============================] - 0s 6ms/step - loss: 10.7526 - mae: 10.7526\n",
      "Epoch 44/300\n",
      "1/1 [==============================] - 0s 5ms/step - loss: 10.7157 - mae: 10.7157\n",
      "Epoch 45/300\n",
      "1/1 [==============================] - 0s 6ms/step - loss: 10.6784 - mae: 10.6784\n",
      "Epoch 46/300\n",
      "1/1 [==============================] - 0s 11ms/step - loss: 10.6407 - mae: 10.6407\n",
      "Epoch 47/300\n",
      "1/1 [==============================] - 0s 6ms/step - loss: 10.6027 - mae: 10.6027\n",
      "Epoch 48/300\n",
      "1/1 [==============================] - 0s 6ms/step - loss: 10.5646 - mae: 10.5646\n",
      "Epoch 49/300\n",
      "1/1 [==============================] - 0s 6ms/step - loss: 10.5260 - mae: 10.5260\n",
      "Epoch 50/300\n",
      "1/1 [==============================] - 0s 6ms/step - loss: 10.4870 - mae: 10.4870\n",
      "Epoch 51/300\n",
      "1/1 [==============================] - 0s 5ms/step - loss: 10.4475 - mae: 10.4475\n",
      "Epoch 52/300\n",
      "1/1 [==============================] - 0s 9ms/step - loss: 10.4079 - mae: 10.4079\n",
      "Epoch 53/300\n",
      "1/1 [==============================] - 0s 6ms/step - loss: 10.3679 - mae: 10.3679\n",
      "Epoch 54/300\n",
      "1/1 [==============================] - 0s 7ms/step - loss: 10.3275 - mae: 10.3275\n",
      "Epoch 55/300\n",
      "1/1 [==============================] - 0s 6ms/step - loss: 10.2867 - mae: 10.2867\n",
      "Epoch 56/300\n",
      "1/1 [==============================] - 0s 9ms/step - loss: 10.2455 - mae: 10.2455\n",
      "Epoch 57/300\n",
      "1/1 [==============================] - 0s 7ms/step - loss: 10.2032 - mae: 10.2032\n",
      "Epoch 58/300\n",
      "1/1 [==============================] - 0s 4ms/step - loss: 10.1600 - mae: 10.1600\n",
      "Epoch 59/300\n",
      "1/1 [==============================] - 0s 7ms/step - loss: 10.1162 - mae: 10.1162\n",
      "Epoch 60/300\n",
      "1/1 [==============================] - 0s 7ms/step - loss: 10.0718 - mae: 10.0718\n",
      "Epoch 61/300\n",
      "1/1 [==============================] - 0s 6ms/step - loss: 10.0270 - mae: 10.0270\n",
      "Epoch 62/300\n",
      "1/1 [==============================] - 0s 7ms/step - loss: 9.9816 - mae: 9.9816\n",
      "Epoch 63/300\n",
      "1/1 [==============================] - 0s 7ms/step - loss: 9.9356 - mae: 9.9356\n",
      "Epoch 64/300\n",
      "1/1 [==============================] - 0s 8ms/step - loss: 9.8891 - mae: 9.8891\n",
      "Epoch 65/300\n",
      "1/1 [==============================] - 0s 7ms/step - loss: 9.8422 - mae: 9.8422\n",
      "Epoch 66/300\n",
      "1/1 [==============================] - 0s 5ms/step - loss: 9.7950 - mae: 9.7950\n",
      "Epoch 67/300\n",
      "1/1 [==============================] - 0s 7ms/step - loss: 9.7479 - mae: 9.7479\n",
      "Epoch 68/300\n",
      "1/1 [==============================] - 0s 7ms/step - loss: 9.7003 - mae: 9.7003\n",
      "Epoch 69/300\n",
      "1/1 [==============================] - 0s 8ms/step - loss: 9.6522 - mae: 9.6522\n",
      "Epoch 70/300\n",
      "1/1 [==============================] - 0s 7ms/step - loss: 9.6036 - mae: 9.6036\n",
      "Epoch 71/300\n",
      "1/1 [==============================] - 0s 7ms/step - loss: 9.5545 - mae: 9.5545\n",
      "Epoch 72/300\n",
      "1/1 [==============================] - 0s 6ms/step - loss: 9.5050 - mae: 9.5050\n",
      "Epoch 73/300\n",
      "1/1 [==============================] - 0s 7ms/step - loss: 9.4551 - mae: 9.4551\n",
      "Epoch 74/300\n",
      "1/1 [==============================] - 0s 6ms/step - loss: 9.4048 - mae: 9.4048\n",
      "Epoch 75/300\n",
      "1/1 [==============================] - 0s 7ms/step - loss: 9.3539 - mae: 9.3539\n",
      "Epoch 76/300\n",
      "1/1 [==============================] - 0s 6ms/step - loss: 9.3028 - mae: 9.3028\n",
      "Epoch 77/300\n",
      "1/1 [==============================] - 0s 5ms/step - loss: 9.2516 - mae: 9.2516\n",
      "Epoch 78/300\n",
      "1/1 [==============================] - 0s 7ms/step - loss: 9.2006 - mae: 9.2006\n",
      "Epoch 79/300\n",
      "1/1 [==============================] - 0s 7ms/step - loss: 9.1491 - mae: 9.1491\n",
      "Epoch 80/300\n",
      "1/1 [==============================] - 0s 6ms/step - loss: 9.0971 - mae: 9.0971\n",
      "Epoch 81/300\n",
      "1/1 [==============================] - 0s 6ms/step - loss: 9.0445 - mae: 9.0445\n",
      "Epoch 82/300\n",
      "1/1 [==============================] - 0s 5ms/step - loss: 8.9915 - mae: 8.9915\n",
      "Epoch 83/300\n",
      "1/1 [==============================] - 0s 7ms/step - loss: 8.9380 - mae: 8.9380\n",
      "Epoch 84/300\n",
      "1/1 [==============================] - 0s 7ms/step - loss: 8.8840 - mae: 8.8840\n",
      "Epoch 85/300\n",
      "1/1 [==============================] - 0s 6ms/step - loss: 8.8295 - mae: 8.8295\n",
      "Epoch 86/300\n",
      "1/1 [==============================] - 0s 6ms/step - loss: 8.7745 - mae: 8.7745\n",
      "Epoch 87/300\n",
      "1/1 [==============================] - 0s 7ms/step - loss: 8.7190 - mae: 8.7190\n"
     ]
    },
    {
     "name": "stdout",
     "output_type": "stream",
     "text": [
      "Epoch 88/300\n",
      "1/1 [==============================] - 0s 5ms/step - loss: 8.6630 - mae: 8.6630\n",
      "Epoch 89/300\n",
      "1/1 [==============================] - 0s 6ms/step - loss: 8.6065 - mae: 8.6065\n",
      "Epoch 90/300\n",
      "1/1 [==============================] - 0s 6ms/step - loss: 8.5495 - mae: 8.5495\n",
      "Epoch 91/300\n",
      "1/1 [==============================] - 0s 7ms/step - loss: 8.4919 - mae: 8.4919\n",
      "Epoch 92/300\n",
      "1/1 [==============================] - 0s 8ms/step - loss: 8.4338 - mae: 8.4338\n",
      "Epoch 93/300\n",
      "1/1 [==============================] - 0s 7ms/step - loss: 8.3752 - mae: 8.3752\n",
      "Epoch 94/300\n",
      "1/1 [==============================] - 0s 6ms/step - loss: 8.3160 - mae: 8.3160\n",
      "Epoch 95/300\n",
      "1/1 [==============================] - 0s 6ms/step - loss: 8.2563 - mae: 8.2563\n",
      "Epoch 96/300\n",
      "1/1 [==============================] - 0s 7ms/step - loss: 8.1962 - mae: 8.1962\n",
      "Epoch 97/300\n",
      "1/1 [==============================] - 0s 6ms/step - loss: 8.1357 - mae: 8.1357\n",
      "Epoch 98/300\n",
      "1/1 [==============================] - 0s 6ms/step - loss: 8.0746 - mae: 8.0746\n",
      "Epoch 99/300\n",
      "1/1 [==============================] - 0s 8ms/step - loss: 8.0130 - mae: 8.0130\n",
      "Epoch 100/300\n",
      "1/1 [==============================] - 0s 6ms/step - loss: 7.9507 - mae: 7.9507\n",
      "Epoch 101/300\n",
      "1/1 [==============================] - 0s 5ms/step - loss: 7.8879 - mae: 7.8879\n",
      "Epoch 102/300\n",
      "1/1 [==============================] - 0s 6ms/step - loss: 7.8246 - mae: 7.8246\n",
      "Epoch 103/300\n",
      "1/1 [==============================] - 0s 7ms/step - loss: 7.7607 - mae: 7.7607\n",
      "Epoch 104/300\n",
      "1/1 [==============================] - 0s 7ms/step - loss: 7.6961 - mae: 7.6961\n",
      "Epoch 105/300\n",
      "1/1 [==============================] - 0s 7ms/step - loss: 7.6310 - mae: 7.6310\n",
      "Epoch 106/300\n",
      "1/1 [==============================] - 0s 6ms/step - loss: 7.5653 - mae: 7.5653\n",
      "Epoch 107/300\n",
      "1/1 [==============================] - 0s 6ms/step - loss: 7.4989 - mae: 7.4989\n",
      "Epoch 108/300\n",
      "1/1 [==============================] - 0s 8ms/step - loss: 7.4319 - mae: 7.4319\n",
      "Epoch 109/300\n",
      "1/1 [==============================] - 0s 6ms/step - loss: 7.3644 - mae: 7.3644\n",
      "Epoch 110/300\n",
      "1/1 [==============================] - 0s 6ms/step - loss: 7.2963 - mae: 7.2963\n",
      "Epoch 111/300\n",
      "1/1 [==============================] - 0s 8ms/step - loss: 7.2278 - mae: 7.2278\n",
      "Epoch 112/300\n",
      "1/1 [==============================] - 0s 6ms/step - loss: 7.1590 - mae: 7.1590\n",
      "Epoch 113/300\n",
      "1/1 [==============================] - 0s 6ms/step - loss: 7.0896 - mae: 7.0896\n",
      "Epoch 114/300\n",
      "1/1 [==============================] - 0s 6ms/step - loss: 7.0197 - mae: 7.0197\n",
      "Epoch 115/300\n",
      "1/1 [==============================] - 0s 7ms/step - loss: 6.9495 - mae: 6.9495\n",
      "Epoch 116/300\n",
      "1/1 [==============================] - 0s 7ms/step - loss: 6.8786 - mae: 6.8786\n",
      "Epoch 117/300\n",
      "1/1 [==============================] - 0s 6ms/step - loss: 6.8070 - mae: 6.8070\n",
      "Epoch 118/300\n",
      "1/1 [==============================] - 0s 6ms/step - loss: 6.7347 - mae: 6.7347\n",
      "Epoch 119/300\n",
      "1/1 [==============================] - 0s 7ms/step - loss: 6.6616 - mae: 6.6616\n",
      "Epoch 120/300\n",
      "1/1 [==============================] - 0s 6ms/step - loss: 6.5878 - mae: 6.5878\n",
      "Epoch 121/300\n",
      "1/1 [==============================] - 0s 7ms/step - loss: 6.5133 - mae: 6.5133\n",
      "Epoch 122/300\n",
      "1/1 [==============================] - 0s 6ms/step - loss: 6.4381 - mae: 6.4381\n",
      "Epoch 123/300\n",
      "1/1 [==============================] - 0s 7ms/step - loss: 6.3621 - mae: 6.3621\n",
      "Epoch 124/300\n",
      "1/1 [==============================] - 0s 7ms/step - loss: 6.2853 - mae: 6.2853\n",
      "Epoch 125/300\n",
      "1/1 [==============================] - 0s 6ms/step - loss: 6.2079 - mae: 6.2079\n",
      "Epoch 126/300\n",
      "1/1 [==============================] - 0s 6ms/step - loss: 6.1296 - mae: 6.1296\n",
      "Epoch 127/300\n",
      "1/1 [==============================] - 0s 6ms/step - loss: 6.0506 - mae: 6.0506\n",
      "Epoch 128/300\n",
      "1/1 [==============================] - 0s 6ms/step - loss: 5.9709 - mae: 5.9709\n",
      "Epoch 129/300\n",
      "1/1 [==============================] - 0s 6ms/step - loss: 5.8903 - mae: 5.8903\n",
      "Epoch 130/300\n",
      "1/1 [==============================] - 0s 6ms/step - loss: 5.8090 - mae: 5.8090\n",
      "Epoch 131/300\n",
      "1/1 [==============================] - 0s 6ms/step - loss: 5.7266 - mae: 5.7266\n",
      "Epoch 132/300\n",
      "1/1 [==============================] - 0s 6ms/step - loss: 5.6435 - mae: 5.6435\n",
      "Epoch 133/300\n",
      "1/1 [==============================] - 0s 7ms/step - loss: 5.5600 - mae: 5.5600\n",
      "Epoch 134/300\n",
      "1/1 [==============================] - 0s 6ms/step - loss: 5.4757 - mae: 5.4757\n",
      "Epoch 135/300\n",
      "1/1 [==============================] - 0s 6ms/step - loss: 5.3905 - mae: 5.3905\n",
      "Epoch 136/300\n",
      "1/1 [==============================] - 0s 5ms/step - loss: 5.3044 - mae: 5.3044\n",
      "Epoch 137/300\n",
      "1/1 [==============================] - 0s 6ms/step - loss: 5.2175 - mae: 5.2175\n",
      "Epoch 138/300\n",
      "1/1 [==============================] - 0s 6ms/step - loss: 5.1297 - mae: 5.1297\n",
      "Epoch 139/300\n",
      "1/1 [==============================] - 0s 7ms/step - loss: 5.0411 - mae: 5.0411\n",
      "Epoch 140/300\n",
      "1/1 [==============================] - 0s 8ms/step - loss: 4.9517 - mae: 4.9517\n",
      "Epoch 141/300\n",
      "1/1 [==============================] - 0s 7ms/step - loss: 4.8613 - mae: 4.8613\n",
      "Epoch 142/300\n",
      "1/1 [==============================] - 0s 5ms/step - loss: 4.7701 - mae: 4.7701\n",
      "Epoch 143/300\n",
      "1/1 [==============================] - 0s 7ms/step - loss: 4.6781 - mae: 4.6781\n",
      "Epoch 144/300\n",
      "1/1 [==============================] - 0s 7ms/step - loss: 4.5852 - mae: 4.5852\n",
      "Epoch 145/300\n",
      "1/1 [==============================] - 0s 6ms/step - loss: 4.4913 - mae: 4.4913\n",
      "Epoch 146/300\n",
      "1/1 [==============================] - 0s 6ms/step - loss: 4.3968 - mae: 4.3968\n",
      "Epoch 147/300\n",
      "1/1 [==============================] - 0s 6ms/step - loss: 4.3018 - mae: 4.3018\n",
      "Epoch 148/300\n",
      "1/1 [==============================] - 0s 6ms/step - loss: 4.2055 - mae: 4.2055\n",
      "Epoch 149/300\n",
      "1/1 [==============================] - 0s 7ms/step - loss: 4.1232 - mae: 4.1232\n",
      "Epoch 150/300\n",
      "1/1 [==============================] - 0s 6ms/step - loss: 4.0949 - mae: 4.0949\n",
      "Epoch 151/300\n",
      "1/1 [==============================] - 0s 7ms/step - loss: 4.0681 - mae: 4.0681\n",
      "Epoch 152/300\n",
      "1/1 [==============================] - 0s 6ms/step - loss: 4.0424 - mae: 4.0424\n",
      "Epoch 153/300\n",
      "1/1 [==============================] - 0s 6ms/step - loss: 4.0179 - mae: 4.0179\n",
      "Epoch 154/300\n",
      "1/1 [==============================] - 0s 7ms/step - loss: 3.9945 - mae: 3.9945\n",
      "Epoch 155/300\n",
      "1/1 [==============================] - 0s 7ms/step - loss: 3.9719 - mae: 3.9719\n",
      "Epoch 156/300\n",
      "1/1 [==============================] - 0s 7ms/step - loss: 3.9512 - mae: 3.9512\n",
      "Epoch 157/300\n",
      "1/1 [==============================] - 0s 6ms/step - loss: 3.9300 - mae: 3.9300\n",
      "Epoch 158/300\n",
      "1/1 [==============================] - 0s 6ms/step - loss: 3.9104 - mae: 3.9104\n",
      "Epoch 159/300\n",
      "1/1 [==============================] - 0s 6ms/step - loss: 3.8913 - mae: 3.8913\n",
      "Epoch 160/300\n",
      "1/1 [==============================] - 0s 6ms/step - loss: 3.8726 - mae: 3.8726\n",
      "Epoch 161/300\n",
      "1/1 [==============================] - 0s 6ms/step - loss: 3.8544 - mae: 3.8544\n",
      "Epoch 162/300\n",
      "1/1 [==============================] - 0s 6ms/step - loss: 3.8367 - mae: 3.8367\n",
      "Epoch 163/300\n",
      "1/1 [==============================] - 0s 7ms/step - loss: 3.8347 - mae: 3.8347\n",
      "Epoch 164/300\n",
      "1/1 [==============================] - 0s 6ms/step - loss: 3.8443 - mae: 3.8443\n",
      "Epoch 165/300\n",
      "1/1 [==============================] - 0s 6ms/step - loss: 3.8548 - mae: 3.8548\n",
      "Epoch 166/300\n",
      "1/1 [==============================] - 0s 7ms/step - loss: 3.8595 - mae: 3.8595\n",
      "Epoch 167/300\n",
      "1/1 [==============================] - 0s 6ms/step - loss: 3.8651 - mae: 3.8651\n",
      "Epoch 168/300\n",
      "1/1 [==============================] - 0s 7ms/step - loss: 3.8697 - mae: 3.8697\n",
      "Epoch 169/300\n",
      "1/1 [==============================] - 0s 6ms/step - loss: 3.8730 - mae: 3.8730\n",
      "Epoch 170/300\n",
      "1/1 [==============================] - 0s 6ms/step - loss: 3.8750 - mae: 3.8750\n",
      "Epoch 171/300\n",
      "1/1 [==============================] - 0s 6ms/step - loss: 3.8761 - mae: 3.8761\n",
      "Epoch 172/300\n",
      "1/1 [==============================] - 0s 6ms/step - loss: 3.8761 - mae: 3.8761\n",
      "Epoch 173/300\n",
      "1/1 [==============================] - 0s 7ms/step - loss: 3.8752 - mae: 3.8752\n",
      "Epoch 174/300\n",
      "1/1 [==============================] - 0s 5ms/step - loss: 3.8734 - mae: 3.8734\n",
      "Epoch 175/300\n"
     ]
    },
    {
     "name": "stdout",
     "output_type": "stream",
     "text": [
      "1/1 [==============================] - 0s 6ms/step - loss: 3.8709 - mae: 3.8709\n",
      "Epoch 176/300\n",
      "1/1 [==============================] - 0s 7ms/step - loss: 3.8678 - mae: 3.8678\n",
      "Epoch 177/300\n",
      "1/1 [==============================] - 0s 5ms/step - loss: 3.8640 - mae: 3.8640\n",
      "Epoch 178/300\n",
      "1/1 [==============================] - 0s 6ms/step - loss: 3.8597 - mae: 3.8597\n",
      "Epoch 179/300\n",
      "1/1 [==============================] - 0s 6ms/step - loss: 3.8549 - mae: 3.8549\n",
      "Epoch 180/300\n",
      "1/1 [==============================] - 0s 6ms/step - loss: 3.8497 - mae: 3.8497\n",
      "Epoch 181/300\n",
      "1/1 [==============================] - 0s 5ms/step - loss: 3.8485 - mae: 3.8485\n",
      "Epoch 182/300\n",
      "1/1 [==============================] - 0s 6ms/step - loss: 3.8427 - mae: 3.8427\n",
      "Epoch 183/300\n",
      "1/1 [==============================] - 0s 7ms/step - loss: 3.8342 - mae: 3.8342\n",
      "Epoch 184/300\n",
      "1/1 [==============================] - 0s 6ms/step - loss: 3.8290 - mae: 3.8290\n",
      "Epoch 185/300\n",
      "1/1 [==============================] - 0s 6ms/step - loss: 3.8234 - mae: 3.8234\n",
      "Epoch 186/300\n",
      "1/1 [==============================] - 0s 8ms/step - loss: 3.8175 - mae: 3.8175\n",
      "Epoch 187/300\n",
      "1/1 [==============================] - 0s 7ms/step - loss: 3.8112 - mae: 3.8112\n",
      "Epoch 188/300\n",
      "1/1 [==============================] - 0s 6ms/step - loss: 3.8169 - mae: 3.8169\n",
      "Epoch 189/300\n",
      "1/1 [==============================] - 0s 7ms/step - loss: 3.8216 - mae: 3.8216\n",
      "Epoch 190/300\n",
      "1/1 [==============================] - 0s 6ms/step - loss: 3.8245 - mae: 3.8245\n",
      "Epoch 191/300\n",
      "1/1 [==============================] - 0s 6ms/step - loss: 3.8256 - mae: 3.8256\n",
      "Epoch 192/300\n",
      "1/1 [==============================] - 0s 7ms/step - loss: 3.8252 - mae: 3.8252\n",
      "Epoch 193/300\n",
      "1/1 [==============================] - 0s 7ms/step - loss: 3.8235 - mae: 3.8235\n",
      "Epoch 194/300\n",
      "1/1 [==============================] - 0s 6ms/step - loss: 3.8223 - mae: 3.8223\n",
      "Epoch 195/300\n",
      "1/1 [==============================] - 0s 6ms/step - loss: 3.8169 - mae: 3.8169\n",
      "Epoch 196/300\n",
      "1/1 [==============================] - 0s 5ms/step - loss: 3.8122 - mae: 3.8122\n",
      "Epoch 197/300\n",
      "1/1 [==============================] - 0s 6ms/step - loss: 3.8066 - mae: 3.8066\n",
      "Epoch 198/300\n",
      "1/1 [==============================] - 0s 7ms/step - loss: 3.8013 - mae: 3.8013\n",
      "Epoch 199/300\n",
      "1/1 [==============================] - 0s 6ms/step - loss: 3.8035 - mae: 3.8035\n",
      "Epoch 200/300\n",
      "1/1 [==============================] - 0s 6ms/step - loss: 3.8052 - mae: 3.8052\n",
      "Epoch 201/300\n",
      "1/1 [==============================] - 0s 6ms/step - loss: 3.8053 - mae: 3.8053\n",
      "Epoch 202/300\n",
      "1/1 [==============================] - 0s 8ms/step - loss: 3.8051 - mae: 3.8051\n",
      "Epoch 203/300\n",
      "1/1 [==============================] - 0s 6ms/step - loss: 3.8040 - mae: 3.8040\n",
      "Epoch 204/300\n",
      "1/1 [==============================] - 0s 6ms/step - loss: 3.8020 - mae: 3.8020\n",
      "Epoch 205/300\n",
      "1/1 [==============================] - 0s 5ms/step - loss: 3.7993 - mae: 3.7993\n",
      "Epoch 206/300\n",
      "1/1 [==============================] - 0s 5ms/step - loss: 3.7960 - mae: 3.7960\n",
      "Epoch 207/300\n",
      "1/1 [==============================] - 0s 7ms/step - loss: 3.7952 - mae: 3.7952\n",
      "Epoch 208/300\n",
      "1/1 [==============================] - 0s 7ms/step - loss: 3.7971 - mae: 3.7971\n",
      "Epoch 209/300\n",
      "1/1 [==============================] - 0s 6ms/step - loss: 3.7963 - mae: 3.7963\n",
      "Epoch 210/300\n",
      "1/1 [==============================] - 0s 5ms/step - loss: 3.7948 - mae: 3.7948\n",
      "Epoch 211/300\n",
      "1/1 [==============================] - 0s 7ms/step - loss: 3.7920 - mae: 3.7920\n",
      "Epoch 212/300\n",
      "1/1 [==============================] - 0s 6ms/step - loss: 3.7909 - mae: 3.7909\n",
      "Epoch 213/300\n",
      "1/1 [==============================] - 0s 7ms/step - loss: 3.7914 - mae: 3.7914\n",
      "Epoch 214/300\n",
      "1/1 [==============================] - 0s 7ms/step - loss: 3.7909 - mae: 3.7909\n",
      "Epoch 215/300\n",
      "1/1 [==============================] - 0s 6ms/step - loss: 3.7895 - mae: 3.7895\n",
      "Epoch 216/300\n",
      "1/1 [==============================] - 0s 5ms/step - loss: 3.7894 - mae: 3.7894\n",
      "Epoch 217/300\n",
      "1/1 [==============================] - 0s 6ms/step - loss: 3.7852 - mae: 3.7852\n",
      "Epoch 218/300\n",
      "1/1 [==============================] - 0s 6ms/step - loss: 3.7871 - mae: 3.7871\n",
      "Epoch 219/300\n",
      "1/1 [==============================] - 0s 7ms/step - loss: 3.7877 - mae: 3.7877\n",
      "Epoch 220/300\n",
      "1/1 [==============================] - 0s 6ms/step - loss: 3.7867 - mae: 3.7867\n",
      "Epoch 221/300\n",
      "1/1 [==============================] - 0s 7ms/step - loss: 3.7842 - mae: 3.7842\n",
      "Epoch 222/300\n",
      "1/1 [==============================] - 0s 7ms/step - loss: 3.7810 - mae: 3.7810\n",
      "Epoch 223/300\n",
      "1/1 [==============================] - 0s 6ms/step - loss: 3.7827 - mae: 3.7827\n",
      "Epoch 224/300\n",
      "1/1 [==============================] - 0s 7ms/step - loss: 3.7806 - mae: 3.7806\n",
      "Epoch 225/300\n",
      "1/1 [==============================] - 0s 6ms/step - loss: 3.7795 - mae: 3.7795\n",
      "Epoch 226/300\n",
      "1/1 [==============================] - 0s 6ms/step - loss: 3.7783 - mae: 3.7783\n",
      "Epoch 227/300\n",
      "1/1 [==============================] - 0s 7ms/step - loss: 3.7776 - mae: 3.7776\n",
      "Epoch 228/300\n",
      "1/1 [==============================] - 0s 6ms/step - loss: 3.7762 - mae: 3.7762\n",
      "Epoch 229/300\n",
      "1/1 [==============================] - 0s 7ms/step - loss: 3.7750 - mae: 3.7750\n",
      "Epoch 230/300\n",
      "1/1 [==============================] - 0s 6ms/step - loss: 3.7749 - mae: 3.7749\n",
      "Epoch 231/300\n",
      "1/1 [==============================] - 0s 6ms/step - loss: 3.7728 - mae: 3.7728\n",
      "Epoch 232/300\n",
      "1/1 [==============================] - 0s 6ms/step - loss: 3.7723 - mae: 3.7723\n",
      "Epoch 233/300\n",
      "1/1 [==============================] - 0s 7ms/step - loss: 3.7716 - mae: 3.7716\n",
      "Epoch 234/300\n",
      "1/1 [==============================] - 0s 7ms/step - loss: 3.7705 - mae: 3.7705\n",
      "Epoch 235/300\n",
      "1/1 [==============================] - 0s 7ms/step - loss: 3.7700 - mae: 3.7700\n",
      "Epoch 236/300\n",
      "1/1 [==============================] - 0s 6ms/step - loss: 3.7686 - mae: 3.7686\n",
      "Epoch 237/300\n",
      "1/1 [==============================] - 0s 6ms/step - loss: 3.7680 - mae: 3.7680\n",
      "Epoch 238/300\n",
      "1/1 [==============================] - 0s 6ms/step - loss: 3.7675 - mae: 3.7675\n",
      "Epoch 239/300\n",
      "1/1 [==============================] - 0s 6ms/step - loss: 3.7664 - mae: 3.7664\n",
      "Epoch 240/300\n",
      "1/1 [==============================] - 0s 7ms/step - loss: 3.7655 - mae: 3.7655\n",
      "Epoch 241/300\n",
      "1/1 [==============================] - 0s 6ms/step - loss: 3.7646 - mae: 3.7646\n",
      "Epoch 242/300\n",
      "1/1 [==============================] - 0s 8ms/step - loss: 3.7635 - mae: 3.7635\n",
      "Epoch 243/300\n",
      "1/1 [==============================] - 0s 6ms/step - loss: 3.7626 - mae: 3.7626\n",
      "Epoch 244/300\n",
      "1/1 [==============================] - 0s 5ms/step - loss: 3.7607 - mae: 3.7607\n",
      "Epoch 245/300\n",
      "1/1 [==============================] - 0s 4ms/step - loss: 3.7616 - mae: 3.7616\n",
      "Epoch 246/300\n",
      "1/1 [==============================] - 0s 6ms/step - loss: 3.7609 - mae: 3.7609\n",
      "Epoch 247/300\n",
      "1/1 [==============================] - 0s 5ms/step - loss: 3.7590 - mae: 3.7590\n",
      "Epoch 248/300\n",
      "1/1 [==============================] - 0s 6ms/step - loss: 3.7587 - mae: 3.7587\n",
      "Epoch 249/300\n",
      "1/1 [==============================] - 0s 6ms/step - loss: 3.7586 - mae: 3.7586\n",
      "Epoch 250/300\n",
      "1/1 [==============================] - 0s 7ms/step - loss: 3.7576 - mae: 3.7576\n",
      "Epoch 251/300\n",
      "1/1 [==============================] - 0s 5ms/step - loss: 3.7556 - mae: 3.7556\n",
      "Epoch 252/300\n",
      "1/1 [==============================] - 0s 5ms/step - loss: 3.7530 - mae: 3.7530\n",
      "Epoch 253/300\n",
      "1/1 [==============================] - 0s 6ms/step - loss: 3.7542 - mae: 3.7542\n",
      "Epoch 254/300\n",
      "1/1 [==============================] - 0s 6ms/step - loss: 3.7514 - mae: 3.7514\n",
      "Epoch 255/300\n",
      "1/1 [==============================] - 0s 6ms/step - loss: 3.7503 - mae: 3.7503\n",
      "Epoch 256/300\n",
      "1/1 [==============================] - 0s 7ms/step - loss: 3.7485 - mae: 3.7485\n",
      "Epoch 257/300\n",
      "1/1 [==============================] - 0s 6ms/step - loss: 3.7480 - mae: 3.7480\n",
      "Epoch 258/300\n",
      "1/1 [==============================] - 0s 8ms/step - loss: 3.7465 - mae: 3.7465\n",
      "Epoch 259/300\n",
      "1/1 [==============================] - 0s 7ms/step - loss: 3.7462 - mae: 3.7462\n",
      "Epoch 260/300\n",
      "1/1 [==============================] - 0s 7ms/step - loss: 3.7453 - mae: 3.7453\n",
      "Epoch 261/300\n",
      "1/1 [==============================] - 0s 7ms/step - loss: 3.7446 - mae: 3.7446\n",
      "Epoch 262/300\n"
     ]
    },
    {
     "name": "stdout",
     "output_type": "stream",
     "text": [
      "1/1 [==============================] - 0s 8ms/step - loss: 3.7442 - mae: 3.7442\n",
      "Epoch 263/300\n",
      "1/1 [==============================] - 0s 7ms/step - loss: 3.7428 - mae: 3.7428\n",
      "Epoch 264/300\n",
      "1/1 [==============================] - 0s 7ms/step - loss: 3.7429 - mae: 3.7429\n",
      "Epoch 265/300\n",
      "1/1 [==============================] - 0s 6ms/step - loss: 3.7420 - mae: 3.7420\n",
      "Epoch 266/300\n",
      "1/1 [==============================] - 0s 7ms/step - loss: 3.7395 - mae: 3.7395\n",
      "Epoch 267/300\n",
      "1/1 [==============================] - 0s 7ms/step - loss: 3.7400 - mae: 3.7400\n",
      "Epoch 268/300\n",
      "1/1 [==============================] - 0s 6ms/step - loss: 3.7396 - mae: 3.7396\n",
      "Epoch 269/300\n",
      "1/1 [==============================] - 0s 6ms/step - loss: 3.7394 - mae: 3.7394\n",
      "Epoch 270/300\n",
      "1/1 [==============================] - 0s 7ms/step - loss: 3.7369 - mae: 3.7369\n",
      "Epoch 271/300\n",
      "1/1 [==============================] - 0s 5ms/step - loss: 3.7346 - mae: 3.7346\n",
      "Epoch 272/300\n",
      "1/1 [==============================] - 0s 8ms/step - loss: 3.7352 - mae: 3.7352\n",
      "Epoch 273/300\n",
      "1/1 [==============================] - 0s 8ms/step - loss: 3.7353 - mae: 3.7353\n",
      "Epoch 274/300\n",
      "1/1 [==============================] - 0s 6ms/step - loss: 3.7336 - mae: 3.7336\n",
      "Epoch 275/300\n",
      "1/1 [==============================] - 0s 7ms/step - loss: 3.7320 - mae: 3.7320\n",
      "Epoch 276/300\n",
      "1/1 [==============================] - 0s 9ms/step - loss: 3.7309 - mae: 3.7309\n",
      "Epoch 277/300\n",
      "1/1 [==============================] - 0s 7ms/step - loss: 3.7316 - mae: 3.7316\n",
      "Epoch 278/300\n",
      "1/1 [==============================] - 0s 7ms/step - loss: 3.7312 - mae: 3.7312\n",
      "Epoch 279/300\n",
      "1/1 [==============================] - 0s 6ms/step - loss: 3.7294 - mae: 3.7294\n",
      "Epoch 280/300\n",
      "1/1 [==============================] - 0s 6ms/step - loss: 3.7267 - mae: 3.7267\n",
      "Epoch 281/300\n",
      "1/1 [==============================] - 0s 8ms/step - loss: 3.7237 - mae: 3.7237\n",
      "Epoch 282/300\n",
      "1/1 [==============================] - 0s 8ms/step - loss: 3.7250 - mae: 3.7250\n",
      "Epoch 283/300\n",
      "1/1 [==============================] - 0s 7ms/step - loss: 3.7260 - mae: 3.7260\n",
      "Epoch 284/300\n",
      "1/1 [==============================] - 0s 7ms/step - loss: 3.7239 - mae: 3.7239\n",
      "Epoch 285/300\n",
      "1/1 [==============================] - 0s 7ms/step - loss: 3.7210 - mae: 3.7210\n",
      "Epoch 286/300\n",
      "1/1 [==============================] - 0s 6ms/step - loss: 3.7199 - mae: 3.7199\n",
      "Epoch 287/300\n",
      "1/1 [==============================] - 0s 7ms/step - loss: 3.7204 - mae: 3.7204\n",
      "Epoch 288/300\n",
      "1/1 [==============================] - 0s 6ms/step - loss: 3.7197 - mae: 3.7197\n",
      "Epoch 289/300\n",
      "1/1 [==============================] - 0s 7ms/step - loss: 3.7178 - mae: 3.7178\n",
      "Epoch 290/300\n",
      "1/1 [==============================] - 0s 5ms/step - loss: 3.7155 - mae: 3.7155\n",
      "Epoch 291/300\n",
      "1/1 [==============================] - 0s 7ms/step - loss: 3.7144 - mae: 3.7144\n",
      "Epoch 292/300\n",
      "1/1 [==============================] - 0s 8ms/step - loss: 3.7147 - mae: 3.7147\n",
      "Epoch 293/300\n",
      "1/1 [==============================] - 0s 9ms/step - loss: 3.7130 - mae: 3.7130\n",
      "Epoch 294/300\n",
      "1/1 [==============================] - 0s 7ms/step - loss: 3.7112 - mae: 3.7112\n",
      "Epoch 295/300\n",
      "1/1 [==============================] - 0s 9ms/step - loss: 3.7108 - mae: 3.7108\n",
      "Epoch 296/300\n",
      "1/1 [==============================] - 0s 8ms/step - loss: 3.7092 - mae: 3.7092\n",
      "Epoch 297/300\n",
      "1/1 [==============================] - 0s 5ms/step - loss: 3.7070 - mae: 3.7070\n",
      "Epoch 298/300\n",
      "1/1 [==============================] - 0s 7ms/step - loss: 3.7075 - mae: 3.7075\n",
      "Epoch 299/300\n",
      "1/1 [==============================] - 0s 7ms/step - loss: 3.7060 - mae: 3.7060\n",
      "Epoch 300/300\n",
      "1/1 [==============================] - 0s 6ms/step - loss: 3.7055 - mae: 3.7055\n"
     ]
    },
    {
     "data": {
      "text/plain": [
       "<keras.callbacks.History at 0x13d3207c370>"
      ]
     },
     "execution_count": 17,
     "metadata": {},
     "output_type": "execute_result"
    }
   ],
   "source": [
    "# 2nd experiment : buil a larger model, as an improvement to the model\n",
    "\n",
    "# Set a random seed (in order to have some reproducibility)\n",
    "tf.random.set_seed(42)\n",
    "\n",
    "# 1. Create a model using the Sequential API\n",
    "model = tf.keras.Sequential([\n",
    "    \n",
    "    # Adding more hidden layers, more neurons, and activation function \n",
    "    tf.keras.layers.Dense(100, activation=\"relu\"),\n",
    "    tf.keras.layers.Dense(100, activation=\"relu\"),\n",
    "    tf.keras.layers.Dense(100, activation=\"relu\"),\n",
    "    \n",
    "    tf.keras.layers.Dense(1)\n",
    "])\n",
    "\n",
    "# 2. Compile the model\n",
    "model.compile(loss=tf.keras.losses.mae, # MAE : Mean Absolute Error\n",
    "              optimizer=tf.keras.optimizers.Adam(lr=0.0001), # lr = Learning Rate\n",
    "              metrics=[\"mae\"]\n",
    "             )\n",
    "\n",
    "# 3. Fit the model \n",
    "model.fit(tf.expand_dims(X, axis=-1),y, epochs=300) # Increasing the number of epochs\n"
   ]
  },
  {
   "cell_type": "markdown",
   "id": "673624a9",
   "metadata": {},
   "source": [
    "The 2nd model, although more larger, don't provide a better training result compared to the previously built one."
   ]
  },
  {
   "cell_type": "code",
   "execution_count": 18,
   "id": "533e0fa1",
   "metadata": {},
   "outputs": [
    {
     "data": {
      "text/plain": [
       "(<tf.Tensor: shape=(8,), dtype=float64, numpy=array([-7., -4., -1.,  2.,  5.,  8., 11., 14.])>,\n",
       " <tf.Tensor: shape=(8,), dtype=float64, numpy=array([ 3.,  6.,  9., 12., 15., 18., 21., 24.])>)"
      ]
     },
     "execution_count": 18,
     "metadata": {},
     "output_type": "execute_result"
    }
   ],
   "source": [
    "# Remind ourselves of the data\n",
    "X, y"
   ]
  },
  {
   "cell_type": "code",
   "execution_count": 19,
   "id": "9e130a20",
   "metadata": {},
   "outputs": [
    {
     "name": "stdout",
     "output_type": "stream",
     "text": [
      "1/1 [==============================] - 0s 184ms/step\n"
     ]
    },
    {
     "data": {
      "text/plain": [
       "array([[32.05316]], dtype=float32)"
      ]
     },
     "execution_count": 19,
     "metadata": {},
     "output_type": "execute_result"
    }
   ],
   "source": [
    "# Check if the model's prediction has improved...\n",
    "model.predict([17.])"
   ]
  },
  {
   "cell_type": "code",
   "execution_count": null,
   "id": "883941b4",
   "metadata": {},
   "outputs": [],
   "source": []
  },
  {
   "cell_type": "code",
   "execution_count": 20,
   "id": "0cc87495",
   "metadata": {},
   "outputs": [
    {
     "name": "stdout",
     "output_type": "stream",
     "text": [
      "Epoch 1/100\n",
      "1/1 [==============================] - 1s 771ms/step - loss: 14.1352 - mae: 14.1352\n",
      "Epoch 2/100\n",
      "1/1 [==============================] - 0s 5ms/step - loss: 13.4134 - mae: 13.4134\n",
      "Epoch 3/100\n",
      "1/1 [==============================] - 0s 6ms/step - loss: 12.7214 - mae: 12.7214\n",
      "Epoch 4/100\n",
      "1/1 [==============================] - 0s 8ms/step - loss: 12.0398 - mae: 12.0398\n",
      "Epoch 5/100\n",
      "1/1 [==============================] - 0s 8ms/step - loss: 11.5913 - mae: 11.5913\n",
      "Epoch 6/100\n",
      "1/1 [==============================] - 0s 6ms/step - loss: 11.1321 - mae: 11.1321\n",
      "Epoch 7/100\n",
      "1/1 [==============================] - 0s 8ms/step - loss: 10.6530 - mae: 10.6530\n",
      "Epoch 8/100\n",
      "1/1 [==============================] - 0s 5ms/step - loss: 10.1516 - mae: 10.1516\n",
      "Epoch 9/100\n",
      "1/1 [==============================] - 0s 5ms/step - loss: 9.6288 - mae: 9.6288\n",
      "Epoch 10/100\n",
      "1/1 [==============================] - 0s 7ms/step - loss: 9.0805 - mae: 9.0805\n",
      "Epoch 11/100\n",
      "1/1 [==============================] - 0s 7ms/step - loss: 8.5078 - mae: 8.5078\n",
      "Epoch 12/100\n",
      "1/1 [==============================] - 0s 5ms/step - loss: 7.9096 - mae: 7.9096\n",
      "Epoch 13/100\n",
      "1/1 [==============================] - 0s 6ms/step - loss: 7.2845 - mae: 7.2845\n",
      "Epoch 14/100\n",
      "1/1 [==============================] - 0s 5ms/step - loss: 6.6325 - mae: 6.6325\n",
      "Epoch 15/100\n",
      "1/1 [==============================] - 0s 5ms/step - loss: 5.9485 - mae: 5.9485\n",
      "Epoch 16/100\n",
      "1/1 [==============================] - 0s 6ms/step - loss: 5.2295 - mae: 5.2295\n",
      "Epoch 17/100\n",
      "1/1 [==============================] - 0s 4ms/step - loss: 4.4735 - mae: 4.4735\n",
      "Epoch 18/100\n",
      "1/1 [==============================] - 0s 7ms/step - loss: 3.8001 - mae: 3.8001\n",
      "Epoch 19/100\n",
      "1/1 [==============================] - 0s 4ms/step - loss: 3.5671 - mae: 3.5671\n",
      "Epoch 20/100\n",
      "1/1 [==============================] - 0s 6ms/step - loss: 3.6874 - mae: 3.6874\n",
      "Epoch 21/100\n",
      "1/1 [==============================] - 0s 7ms/step - loss: 3.7863 - mae: 3.7863\n",
      "Epoch 22/100\n",
      "1/1 [==============================] - 0s 6ms/step - loss: 4.0404 - mae: 4.0404\n",
      "Epoch 23/100\n",
      "1/1 [==============================] - 0s 6ms/step - loss: 4.2351 - mae: 4.2351\n",
      "Epoch 24/100\n",
      "1/1 [==============================] - 0s 6ms/step - loss: 4.3403 - mae: 4.3403\n",
      "Epoch 25/100\n",
      "1/1 [==============================] - 0s 6ms/step - loss: 4.3619 - mae: 4.3619\n",
      "Epoch 26/100\n",
      "1/1 [==============================] - 0s 7ms/step - loss: 4.3101 - mae: 4.3101\n",
      "Epoch 27/100\n",
      "1/1 [==============================] - 0s 7ms/step - loss: 4.2208 - mae: 4.2208\n",
      "Epoch 28/100\n",
      "1/1 [==============================] - 0s 6ms/step - loss: 4.0492 - mae: 4.0492\n",
      "Epoch 29/100\n",
      "1/1 [==============================] - 0s 8ms/step - loss: 3.8672 - mae: 3.8672\n",
      "Epoch 30/100\n",
      "1/1 [==============================] - 0s 6ms/step - loss: 3.6476 - mae: 3.6476\n",
      "Epoch 31/100\n",
      "1/1 [==============================] - 0s 7ms/step - loss: 3.4420 - mae: 3.4420\n",
      "Epoch 32/100\n",
      "1/1 [==============================] - 0s 8ms/step - loss: 3.3308 - mae: 3.3308\n",
      "Epoch 33/100\n",
      "1/1 [==============================] - 0s 8ms/step - loss: 3.2183 - mae: 3.2183\n",
      "Epoch 34/100\n",
      "1/1 [==============================] - 0s 6ms/step - loss: 3.0985 - mae: 3.0985\n",
      "Epoch 35/100\n",
      "1/1 [==============================] - 0s 6ms/step - loss: 3.0025 - mae: 3.0025\n",
      "Epoch 36/100\n",
      "1/1 [==============================] - 0s 7ms/step - loss: 3.0075 - mae: 3.0075\n",
      "Epoch 37/100\n",
      "1/1 [==============================] - 0s 8ms/step - loss: 2.9681 - mae: 2.9681\n",
      "Epoch 38/100\n",
      "1/1 [==============================] - 0s 7ms/step - loss: 2.8866 - mae: 2.8866\n",
      "Epoch 39/100\n",
      "1/1 [==============================] - 0s 6ms/step - loss: 2.7736 - mae: 2.7736\n",
      "Epoch 40/100\n",
      "1/1 [==============================] - 0s 7ms/step - loss: 2.6679 - mae: 2.6679\n",
      "Epoch 41/100\n",
      "1/1 [==============================] - 0s 7ms/step - loss: 2.5285 - mae: 2.5285\n",
      "Epoch 42/100\n",
      "1/1 [==============================] - 0s 7ms/step - loss: 2.4659 - mae: 2.4659\n",
      "Epoch 43/100\n",
      "1/1 [==============================] - 0s 7ms/step - loss: 2.4355 - mae: 2.4355\n",
      "Epoch 44/100\n",
      "1/1 [==============================] - 0s 9ms/step - loss: 2.3853 - mae: 2.3853\n",
      "Epoch 45/100\n",
      "1/1 [==============================] - 0s 8ms/step - loss: 2.3145 - mae: 2.3145\n",
      "Epoch 46/100\n",
      "1/1 [==============================] - 0s 7ms/step - loss: 2.2242 - mae: 2.2242\n",
      "Epoch 47/100\n",
      "1/1 [==============================] - 0s 7ms/step - loss: 2.1208 - mae: 2.1208\n",
      "Epoch 48/100\n",
      "1/1 [==============================] - 0s 8ms/step - loss: 2.0000 - mae: 2.0000\n",
      "Epoch 49/100\n",
      "1/1 [==============================] - 0s 6ms/step - loss: 1.8582 - mae: 1.8582\n",
      "Epoch 50/100\n",
      "1/1 [==============================] - 0s 7ms/step - loss: 1.7013 - mae: 1.7013\n",
      "Epoch 51/100\n",
      "1/1 [==============================] - 0s 7ms/step - loss: 1.5411 - mae: 1.5411\n",
      "Epoch 52/100\n",
      "1/1 [==============================] - 0s 7ms/step - loss: 1.3692 - mae: 1.3692\n",
      "Epoch 53/100\n",
      "1/1 [==============================] - 0s 7ms/step - loss: 1.3267 - mae: 1.3267\n",
      "Epoch 54/100\n",
      "1/1 [==============================] - 0s 7ms/step - loss: 1.1958 - mae: 1.1958\n",
      "Epoch 55/100\n",
      "1/1 [==============================] - 0s 7ms/step - loss: 0.9802 - mae: 0.9802\n",
      "Epoch 56/100\n",
      "1/1 [==============================] - 0s 6ms/step - loss: 0.7862 - mae: 0.7862\n",
      "Epoch 57/100\n",
      "1/1 [==============================] - 0s 8ms/step - loss: 0.6841 - mae: 0.6841\n",
      "Epoch 58/100\n",
      "1/1 [==============================] - 0s 6ms/step - loss: 0.5198 - mae: 0.5198\n",
      "Epoch 59/100\n",
      "1/1 [==============================] - 0s 7ms/step - loss: 0.3486 - mae: 0.3486\n",
      "Epoch 60/100\n",
      "1/1 [==============================] - 0s 7ms/step - loss: 0.4430 - mae: 0.4430\n",
      "Epoch 61/100\n",
      "1/1 [==============================] - 0s 9ms/step - loss: 0.2525 - mae: 0.2525\n",
      "Epoch 62/100\n",
      "1/1 [==============================] - 0s 8ms/step - loss: 0.6966 - mae: 0.6966\n",
      "Epoch 63/100\n",
      "1/1 [==============================] - 0s 8ms/step - loss: 0.8071 - mae: 0.8071\n",
      "Epoch 64/100\n",
      "1/1 [==============================] - 0s 7ms/step - loss: 0.4674 - mae: 0.4674\n",
      "Epoch 65/100\n",
      "1/1 [==============================] - 0s 10ms/step - loss: 0.7188 - mae: 0.7188\n",
      "Epoch 66/100\n",
      "1/1 [==============================] - 0s 6ms/step - loss: 0.9500 - mae: 0.9500\n",
      "Epoch 67/100\n",
      "1/1 [==============================] - 0s 6ms/step - loss: 0.8879 - mae: 0.8879\n",
      "Epoch 68/100\n",
      "1/1 [==============================] - 0s 7ms/step - loss: 0.7777 - mae: 0.7777\n",
      "Epoch 69/100\n",
      "1/1 [==============================] - 0s 7ms/step - loss: 0.5031 - mae: 0.5031\n",
      "Epoch 70/100\n",
      "1/1 [==============================] - 0s 9ms/step - loss: 0.7164 - mae: 0.7164\n",
      "Epoch 71/100\n",
      "1/1 [==============================] - 0s 7ms/step - loss: 0.8279 - mae: 0.8279\n",
      "Epoch 72/100\n",
      "1/1 [==============================] - 0s 9ms/step - loss: 0.7711 - mae: 0.7711\n",
      "Epoch 73/100\n",
      "1/1 [==============================] - 0s 7ms/step - loss: 0.4661 - mae: 0.4661\n",
      "Epoch 74/100\n",
      "1/1 [==============================] - 0s 7ms/step - loss: 0.5769 - mae: 0.5769\n",
      "Epoch 75/100\n",
      "1/1 [==============================] - 0s 7ms/step - loss: 0.6801 - mae: 0.6801\n",
      "Epoch 76/100\n",
      "1/1 [==============================] - 0s 6ms/step - loss: 0.7603 - mae: 0.7603\n",
      "Epoch 77/100\n",
      "1/1 [==============================] - 0s 8ms/step - loss: 0.6398 - mae: 0.6398\n",
      "Epoch 78/100\n",
      "1/1 [==============================] - 0s 7ms/step - loss: 0.4119 - mae: 0.4119\n",
      "Epoch 79/100\n",
      "1/1 [==============================] - 0s 8ms/step - loss: 0.5203 - mae: 0.5203\n",
      "Epoch 80/100\n",
      "1/1 [==============================] - 0s 7ms/step - loss: 0.6019 - mae: 0.6019\n",
      "Epoch 81/100\n",
      "1/1 [==============================] - 0s 7ms/step - loss: 0.5776 - mae: 0.5776\n",
      "Epoch 82/100\n",
      "1/1 [==============================] - 0s 6ms/step - loss: 0.5145 - mae: 0.5145\n",
      "Epoch 83/100\n",
      "1/1 [==============================] - 0s 7ms/step - loss: 0.4318 - mae: 0.4318\n",
      "Epoch 84/100\n",
      "1/1 [==============================] - 0s 7ms/step - loss: 0.4603 - mae: 0.4603\n",
      "Epoch 85/100\n",
      "1/1 [==============================] - 0s 6ms/step - loss: 0.4061 - mae: 0.4061\n",
      "Epoch 86/100\n",
      "1/1 [==============================] - 0s 8ms/step - loss: 0.3175 - mae: 0.3175\n",
      "Epoch 87/100\n",
      "1/1 [==============================] - 0s 7ms/step - loss: 0.4151 - mae: 0.4151\n",
      "Epoch 88/100\n",
      "1/1 [==============================] - 0s 7ms/step - loss: 0.5137 - mae: 0.5137\n"
     ]
    },
    {
     "name": "stdout",
     "output_type": "stream",
     "text": [
      "Epoch 89/100\n",
      "1/1 [==============================] - 0s 7ms/step - loss: 0.4700 - mae: 0.4700\n",
      "Epoch 90/100\n",
      "1/1 [==============================] - 0s 7ms/step - loss: 0.3163 - mae: 0.3163\n",
      "Epoch 91/100\n",
      "1/1 [==============================] - 0s 7ms/step - loss: 0.2452 - mae: 0.2452\n",
      "Epoch 92/100\n",
      "1/1 [==============================] - 0s 6ms/step - loss: 0.3006 - mae: 0.3006\n",
      "Epoch 93/100\n",
      "1/1 [==============================] - 0s 5ms/step - loss: 0.2311 - mae: 0.2311\n",
      "Epoch 94/100\n",
      "1/1 [==============================] - 0s 6ms/step - loss: 0.1751 - mae: 0.1751\n",
      "Epoch 95/100\n",
      "1/1 [==============================] - 0s 7ms/step - loss: 0.2621 - mae: 0.2621\n",
      "Epoch 96/100\n",
      "1/1 [==============================] - 0s 7ms/step - loss: 0.2464 - mae: 0.2464\n",
      "Epoch 97/100\n",
      "1/1 [==============================] - 0s 7ms/step - loss: 0.2082 - mae: 0.2082\n",
      "Epoch 98/100\n",
      "1/1 [==============================] - 0s 6ms/step - loss: 0.1382 - mae: 0.1382\n",
      "Epoch 99/100\n",
      "1/1 [==============================] - 0s 6ms/step - loss: 0.2159 - mae: 0.2159\n",
      "Epoch 100/100\n",
      "1/1 [==============================] - 0s 7ms/step - loss: 0.2735 - mae: 0.2735\n"
     ]
    },
    {
     "data": {
      "text/plain": [
       "<keras.callbacks.History at 0x13d3218e670>"
      ]
     },
     "execution_count": 20,
     "metadata": {},
     "output_type": "execute_result"
    }
   ],
   "source": [
    "# 3rd experiment : add a hidden layer, more epochs, and review the learning rate, as an improvement to the model\n",
    "\n",
    "# Set a random seed (in order to have some reproducibility)\n",
    "tf.random.set_seed(42)\n",
    "\n",
    "# 1. Create a model using the Sequential API\n",
    "model = tf.keras.Sequential([\n",
    "    \n",
    "    # Adding more hidden layers, more neurons, and activation function \n",
    "    tf.keras.layers.Dense(100, activation=\"relu\"),\n",
    "    \n",
    "    tf.keras.layers.Dense(1)\n",
    "])\n",
    "\n",
    "# 2. Compile the model\n",
    "model.compile(loss=tf.keras.losses.mae, # MAE : Mean Absolute Error\n",
    "              optimizer=tf.keras.optimizers.Adam(lr=0.01),\n",
    "              metrics=[\"mae\"]\n",
    "             )\n",
    "\n",
    "# 3. Fit the model \n",
    "model.fit(tf.expand_dims(X, axis=-1),y, epochs=100) # Increasing the number of epochs\n"
   ]
  },
  {
   "cell_type": "markdown",
   "id": "94b6ecb8",
   "metadata": {},
   "source": [
    "The loss is 0.1750; this model should perform really well."
   ]
  },
  {
   "cell_type": "code",
   "execution_count": 21,
   "id": "57f0d41b",
   "metadata": {},
   "outputs": [
    {
     "data": {
      "text/plain": [
       "(<tf.Tensor: shape=(8,), dtype=float64, numpy=array([-7., -4., -1.,  2.,  5.,  8., 11., 14.])>,\n",
       " <tf.Tensor: shape=(8,), dtype=float64, numpy=array([ 3.,  6.,  9., 12., 15., 18., 21., 24.])>)"
      ]
     },
     "execution_count": 21,
     "metadata": {},
     "output_type": "execute_result"
    }
   ],
   "source": [
    "# Remind ourselves of the data\n",
    "X, y"
   ]
  },
  {
   "cell_type": "code",
   "execution_count": 22,
   "id": "c898e1c6",
   "metadata": {},
   "outputs": [
    {
     "name": "stdout",
     "output_type": "stream",
     "text": [
      "1/1 [==============================] - 0s 148ms/step\n"
     ]
    },
    {
     "data": {
      "text/plain": [
       "array([[27.400034]], dtype=float32)"
      ]
     },
     "execution_count": 22,
     "metadata": {},
     "output_type": "execute_result"
    }
   ],
   "source": [
    "# Check if the model's prediction has improved...\n",
    "model.predict([17.])"
   ]
  },
  {
   "cell_type": "markdown",
   "id": "a39358dc",
   "metadata": {},
   "source": [
    "The model has predicted 26.918, while the real value is 27. We can conclude that the prediction is pretty well.  \n",
    "**Observation** : adjusting the learning rate of our model has result in the best improvement so far."
   ]
  },
  {
   "cell_type": "code",
   "execution_count": null,
   "id": "b2408c94",
   "metadata": {},
   "outputs": [],
   "source": []
  },
  {
   "cell_type": "markdown",
   "id": "93827ad7",
   "metadata": {},
   "source": [
    "**Model improvement rules** - When improving a model :\n",
    "* **make many small changes** (experiments) and **test each one**, rather than always doing extremely large changes, because otherwise, if one does too big of a change, he might not be sure what caused the improvement or know improvement of the model.\n",
    "* **the learning rate is potentially the most important hyper-parameter that can be changed** on a neural networks in order to improve it"
   ]
  },
  {
   "cell_type": "code",
   "execution_count": null,
   "id": "fe87eb6f",
   "metadata": {},
   "outputs": [],
   "source": []
  },
  {
   "cell_type": "code",
   "execution_count": null,
   "id": "e2c5c066",
   "metadata": {},
   "outputs": [],
   "source": []
  },
  {
   "cell_type": "markdown",
   "id": "a2f52266",
   "metadata": {},
   "source": [
    "## Evaluating a model\n",
    "\n",
    "\n",
    "In practice, a typical workflow one goes through when buidling neural networks is :    \n",
    "``` Build a model -> fit it -> evaluate it -> tweak a model -> fit it evaluate it -> tweak a model -> fit it -> evaluate it -> ... ```\n",
    "\n"
   ]
  },
  {
   "cell_type": "markdown",
   "id": "5be2462e",
   "metadata": {},
   "source": [
    "When it comes to evaluation, there is one words one should memorize, and remember : **visualize**.\n",
    "\n",
    "It's a good idea to visualize : \n",
    "* `The data` - what data are we working with ? What does it look like ?\n",
    "* `The model` itself - what does our model look like ?\n",
    "* `The training` of the model - how does the model perform while it learns ?\n",
    "* `The predictions` of the model - how do the predictions of the model line up agains the real values ?\n",
    "\n",
    "\n",
    "Let us dig into these steps here a bit further by working on a little bit of a larger problem."
   ]
  },
  {
   "cell_type": "code",
   "execution_count": 23,
   "id": "2e38f664",
   "metadata": {},
   "outputs": [
    {
     "data": {
      "text/plain": [
       "<tf.Tensor: shape=(50,), dtype=int32, numpy=\n",
       "array([-100,  -96,  -92,  -88,  -84,  -80,  -76,  -72,  -68,  -64,  -60,\n",
       "        -56,  -52,  -48,  -44,  -40,  -36,  -32,  -28,  -24,  -20,  -16,\n",
       "        -12,   -8,   -4,    0,    4,    8,   12,   16,   20,   24,   28,\n",
       "         32,   36,   40,   44,   48,   52,   56,   60,   64,   68,   72,\n",
       "         76,   80,   84,   88,   92,   96])>"
      ]
     },
     "execution_count": 23,
     "metadata": {},
     "output_type": "execute_result"
    }
   ],
   "source": [
    "# Make a bigger dataset\n",
    "X = tf.range(-100, 100, 4)\n",
    "X"
   ]
  },
  {
   "cell_type": "code",
   "execution_count": 24,
   "id": "fe6189cb",
   "metadata": {},
   "outputs": [
    {
     "data": {
      "text/plain": [
       "<tf.Tensor: shape=(50,), dtype=int32, numpy=\n",
       "array([-90, -86, -82, -78, -74, -70, -66, -62, -58, -54, -50, -46, -42,\n",
       "       -38, -34, -30, -26, -22, -18, -14, -10,  -6,  -2,   2,   6,  10,\n",
       "        14,  18,  22,  26,  30,  34,  38,  42,  46,  50,  54,  58,  62,\n",
       "        66,  70,  74,  78,  82,  86,  90,  94,  98, 102, 106])>"
      ]
     },
     "execution_count": 24,
     "metadata": {},
     "output_type": "execute_result"
    }
   ],
   "source": [
    "# Make labels for the dataset\n",
    "\n",
    "y = X + 10   # y = X + 10 is the formula(pattern) we want the model to learn\n",
    "y"
   ]
  },
  {
   "cell_type": "code",
   "execution_count": 25,
   "id": "49a40371",
   "metadata": {},
   "outputs": [
    {
     "data": {
      "text/plain": [
       "<matplotlib.collections.PathCollection at 0x13d332581c0>"
      ]
     },
     "execution_count": 25,
     "metadata": {},
     "output_type": "execute_result"
    },
    {
     "data": {
      "image/png": "[encoded data removed]",
      "text/plain": [
       "<Figure size 432x288 with 1 Axes>"
      ]
     },
     "metadata": {
      "needs_background": "light"
     },
     "output_type": "display_data"
    }
   ],
   "source": [
    "# Visualize the data\n",
    "\n",
    "plt.scatter(X, y)"
   ]
  },
  {
   "cell_type": "code",
   "execution_count": null,
   "id": "56654807",
   "metadata": {},
   "outputs": [],
   "source": []
  },
  {
   "cell_type": "markdown",
   "id": "0dc0cfa7",
   "metadata": {},
   "source": [
    "### The 03 set of data\n",
    "\n",
    "* **Training set** - the model learns from this data, which is typically 70-80% of the total data available.\n",
    "* **Validation set** - the model gets tuned on this data (it is the above mentionned *tweak the model*), which is typically 10-15% of the total data available.\n",
    "* **Test set** - the model gets evaluated on this data to test what is has learned (to check how it performs on data is hasn't see before); this set is typically 10-15% of the available data."
   ]
  },
  {
   "cell_type": "code",
   "execution_count": 26,
   "id": "e1f8ed25",
   "metadata": {},
   "outputs": [
    {
     "data": {
      "text/plain": [
       "50"
      ]
     },
     "execution_count": 26,
     "metadata": {},
     "output_type": "execute_result"
    }
   ],
   "source": [
    "# Check how many samples we have\n",
    "nb_data = len(X)\n",
    "nb_data"
   ]
  },
  {
   "cell_type": "code",
   "execution_count": 27,
   "id": "9dc7d4f2",
   "metadata": {},
   "outputs": [
    {
     "data": {
      "text/plain": [
       "(40, 10, 40, 10)"
      ]
     },
     "execution_count": 27,
     "metadata": {},
     "output_type": "execute_result"
    }
   ],
   "source": [
    "# Split the data into train and test sets\n",
    "\n",
    "X_train = X[: int(nb_data*.8)] # 80% of the data\n",
    "y_train = y[: int(nb_data*.8)] # 80% of the data\n",
    "\n",
    "X_test = X[int(nb_data*.8):] # 20% of the data\n",
    "y_test = y[int(nb_data*.8):] # 20% of the data\n",
    "\n",
    "\n",
    "len(X_train), len(X_test), len(y_train), len(y_test)"
   ]
  },
  {
   "cell_type": "markdown",
   "id": "e9603622",
   "metadata": {},
   "source": [
    "### Visualizing the data\n",
    "\n",
    "Now that data was divided in training and testing sets, let's visualize it again."
   ]
  },
  {
   "cell_type": "code",
   "execution_count": 28,
   "id": "a805227d",
   "metadata": {},
   "outputs": [
    {
     "data": {
      "image/png": "[encoded data removed]",
      "text/plain": [
       "<Figure size 720x504 with 1 Axes>"
      ]
     },
     "metadata": {
      "needs_background": "light"
     },
     "output_type": "display_data"
    }
   ],
   "source": [
    "plt.figure( figsize=(10,7) )\n",
    "\n",
    "# Plot training data in blue\n",
    "plt.scatter(X_train, y_train, c=\"b\", label=\"Training data\")\n",
    "\n",
    "# Plot test data in green\n",
    "plt.scatter(X_test, y_test, c=\"g\", label=\"Test data\")\n",
    "\n",
    "#Show a legend\n",
    "plt.legend();"
   ]
  },
  {
   "cell_type": "code",
   "execution_count": null,
   "id": "82c45ed8",
   "metadata": {},
   "outputs": [],
   "source": []
  },
  {
   "cell_type": "markdown",
   "id": "6e2f8628",
   "metadata": {},
   "source": [
    "### Building a neural network"
   ]
  },
  {
   "cell_type": "code",
   "execution_count": 29,
   "id": "8a1f31b0",
   "metadata": {},
   "outputs": [],
   "source": [
    "# 1. Create a model\n",
    "model = tf.keras.Sequential([\n",
    "    tf.keras.layers.Dense(1)\n",
    "])\n",
    "\n",
    "# 2. Compile the model\n",
    "model.compile(loss=tf.keras.losses.mae,\n",
    "             optimizer= tf.keras.optimizers.SGD(),\n",
    "             metrics=[\"mae\"])\n",
    "\n"
   ]
  },
  {
   "cell_type": "markdown",
   "id": "c43d95e1",
   "metadata": {},
   "source": [
    "#### Visualizing the model"
   ]
  },
  {
   "cell_type": "code",
   "execution_count": null,
   "id": "86569e88",
   "metadata": {},
   "outputs": [],
   "source": []
  },
  {
   "cell_type": "code",
   "execution_count": 30,
   "id": "fe7036b7",
   "metadata": {},
   "outputs": [
    {
     "ename": "ValueError",
     "evalue": "This model has not yet been built. Build the model first by calling `build()` or by calling the model on a batch of data.",
     "output_type": "error",
     "traceback": [
      "\u001b[1;31m---------------------------------------------------------------------------\u001b[0m",
      "\u001b[1;31mValueError\u001b[0m                                Traceback (most recent call last)",
      "\u001b[1;32m<ipython-input-30-cdfdfbb4254b>\u001b[0m in \u001b[0;36m<module>\u001b[1;34m\u001b[0m\n\u001b[0;32m      1\u001b[0m \u001b[1;31m# Get an idea of what the model looks like before running it\u001b[0m\u001b[1;33m\u001b[0m\u001b[1;33m\u001b[0m\u001b[1;33m\u001b[0m\u001b[0m\n\u001b[1;32m----> 2\u001b[1;33m \u001b[0mmodel\u001b[0m\u001b[1;33m.\u001b[0m\u001b[0msummary\u001b[0m\u001b[1;33m(\u001b[0m\u001b[1;33m)\u001b[0m\u001b[1;33m\u001b[0m\u001b[1;33m\u001b[0m\u001b[0m\n\u001b[0m",
      "\u001b[1;32mC:\\ProgramData\\Anaconda3\\lib\\site-packages\\keras\\engine\\training.py\u001b[0m in \u001b[0;36msummary\u001b[1;34m(self, line_length, positions, print_fn, expand_nested, show_trainable, layer_range)\u001b[0m\n\u001b[0;32m   3212\u001b[0m         \"\"\"\n\u001b[0;32m   3213\u001b[0m         \u001b[1;32mif\u001b[0m \u001b[1;32mnot\u001b[0m \u001b[0mself\u001b[0m\u001b[1;33m.\u001b[0m\u001b[0mbuilt\u001b[0m\u001b[1;33m:\u001b[0m\u001b[1;33m\u001b[0m\u001b[1;33m\u001b[0m\u001b[0m\n\u001b[1;32m-> 3214\u001b[1;33m             raise ValueError(\n\u001b[0m\u001b[0;32m   3215\u001b[0m                 \u001b[1;34m\"This model has not yet been built. \"\u001b[0m\u001b[1;33m\u001b[0m\u001b[1;33m\u001b[0m\u001b[0m\n\u001b[0;32m   3216\u001b[0m                 \u001b[1;34m\"Build the model first by calling `build()` or by calling \"\u001b[0m\u001b[1;33m\u001b[0m\u001b[1;33m\u001b[0m\u001b[0m\n",
      "\u001b[1;31mValueError\u001b[0m: This model has not yet been built. Build the model first by calling `build()` or by calling the model on a batch of data."
     ]
    }
   ],
   "source": [
    "# Get an idea of what the model looks like before running it\n",
    "model.summary()"
   ]
  },
  {
   "cell_type": "code",
   "execution_count": 31,
   "id": "afbc8917",
   "metadata": {},
   "outputs": [
    {
     "data": {
      "text/plain": [
       "<tf.Tensor: shape=(50,), dtype=int32, numpy=\n",
       "array([-100,  -96,  -92,  -88,  -84,  -80,  -76,  -72,  -68,  -64,  -60,\n",
       "        -56,  -52,  -48,  -44,  -40,  -36,  -32,  -28,  -24,  -20,  -16,\n",
       "        -12,   -8,   -4,    0,    4,    8,   12,   16,   20,   24,   28,\n",
       "         32,   36,   40,   44,   48,   52,   56,   60,   64,   68,   72,\n",
       "         76,   80,   84,   88,   92,   96])>"
      ]
     },
     "execution_count": 31,
     "metadata": {},
     "output_type": "execute_result"
    }
   ],
   "source": [
    "X"
   ]
  },
  {
   "cell_type": "code",
   "execution_count": 32,
   "id": "c7634b89",
   "metadata": {},
   "outputs": [
    {
     "data": {
      "text/plain": [
       "1"
      ]
     },
     "execution_count": 32,
     "metadata": {},
     "output_type": "execute_result"
    }
   ],
   "source": [
    "X.ndim"
   ]
  },
  {
   "cell_type": "code",
   "execution_count": 33,
   "id": "987713a6",
   "metadata": {},
   "outputs": [
    {
     "data": {
      "text/plain": [
       "(<tf.Tensor: shape=(), dtype=int32, numpy=-100>,\n",
       " <tf.Tensor: shape=(), dtype=int32, numpy=-90>)"
      ]
     },
     "execution_count": 33,
     "metadata": {},
     "output_type": "execute_result"
    }
   ],
   "source": [
    "X[0],y[0]"
   ]
  },
  {
   "cell_type": "markdown",
   "id": "f296c106",
   "metadata": {},
   "source": [
    "* The explanation of the Prof : X[0] contains a scalar, so the input_shape of our model is 1; in case X[0] contain for example 3 different numbers, then input_shape would be 3.    \n",
    "* My own deduction : Another way to analyze it is based on the number of dimensions of X : X.ndim return 1, which means X is represented on one dimension, so the input shape is 1."
   ]
  },
  {
   "cell_type": "code",
   "execution_count": 34,
   "id": "b1a53531",
   "metadata": {},
   "outputs": [],
   "source": [
    "# Let's create a model which builds automatically by \n",
    "#    defining the input_shape argument in the first layer (that is what is usually done in practice)\n",
    "\n",
    "tf.random.set_seed(42)\n",
    "\n",
    "# 1. Create a model (same as above)\n",
    "model = tf.keras.Sequential([\n",
    "    tf.keras.layers.Dense(1, input_shape= [X.ndim] ) # tf.keras.layers.Dense(1, input_shape= [1] )\n",
    "                                                     #     refer to the previous cell to get \n",
    "                                                     #      explanations on why input_shape= [1]   \n",
    "]) \n",
    "\n",
    "# 2. COmpile the model \n",
    "model.compile(loss=tf.keras.losses.mae,\n",
    "             optimizer = tf.keras.optimizers.SGD(),\n",
    "             metrics=[\"mae\"])\n",
    "\n",
    "\n"
   ]
  },
  {
   "cell_type": "code",
   "execution_count": 35,
   "id": "a6e064a1",
   "metadata": {},
   "outputs": [
    {
     "name": "stdout",
     "output_type": "stream",
     "text": [
      "Model: \"sequential_5\"\n",
      "_________________________________________________________________\n",
      " Layer (type)                Output Shape              Param #   \n",
      "=================================================================\n",
      " dense_10 (Dense)            (None, 1)                 2         \n",
      "                                                                 \n",
      "=================================================================\n",
      "Total params: 2\n",
      "Trainable params: 2\n",
      "Non-trainable params: 0\n",
      "_________________________________________________________________\n"
     ]
    }
   ],
   "source": [
    "model.summary()"
   ]
  },
  {
   "cell_type": "markdown",
   "id": "b7c23bc7",
   "metadata": {},
   "source": [
    ".summary() on a model show the layers it contains, the output shape, and the number of parameters of each layer.   \n",
    "   \n",
    "* The **Ouput Shape** here (None, 1) : the representation here is something I personnally need to do more research on\n",
    "* The **Layer Type** `Dense` : it is another word for `fully connected`. A fully connected layer means each neuron in the said layer connects to all neurons in the next layer.\n",
    "* There are 2 **Params** :  \n",
    " - **Total params** : total number of parameters in the model; these are the patterns that the model is going to learn\n",
    " - **Trainable parameters** : these are the parameters (patterns) the model can update as it trains\n",
    " - **Non-trainable params** : these are the patterns the model cannot update as it trains; when we import a model that has already learned patterns in data (**transfer learning**), we might freeze those learned patterns so that the model retains what it already knows"
   ]
  },
  {
   "cell_type": "markdown",
   "id": "dd0bebde",
   "metadata": {},
   "source": [
    "📖 **Resource**: For a more in-depth overview of the trainable parameters within a layer, check out MIT's introduction to deep learning video at http://introtodeeplearning.com/ "
   ]
  },
  {
   "cell_type": "markdown",
   "id": "4a3aa920",
   "metadata": {},
   "source": [
    "🛠️**Exercise**: Try playing around with the number of hdden units in the dense layer, see how that effects the number of parameters (total and trainable) by calling `model.summary()`"
   ]
  },
  {
   "cell_type": "code",
   "execution_count": 36,
   "id": "f9bb768b",
   "metadata": {},
   "outputs": [
    {
     "name": "stdout",
     "output_type": "stream",
     "text": [
      "Model: \"sequential_6\"\n",
      "_________________________________________________________________\n",
      " Layer (type)                Output Shape              Param #   \n",
      "=================================================================\n",
      " dense_11 (Dense)            (None, 3)                 6         \n",
      "                                                                 \n",
      "=================================================================\n",
      "Total params: 6\n",
      "Trainable params: 6\n",
      "Non-trainable params: 0\n",
      "_________________________________________________________________\n"
     ]
    }
   ],
   "source": [
    "tf.random.set_seed(42)\n",
    "\n",
    "# 1. Create a model (same as above)\n",
    "model = tf.keras.Sequential([\n",
    "    tf.keras.layers.Dense(3, input_shape= [1] )  \n",
    "]) \n",
    "\n",
    "# 2. COmpile the model \n",
    "model.compile(loss=tf.keras.losses.mae,\n",
    "             optimizer = tf.keras.optimizers.SGD(),\n",
    "             metrics=[\"mae\"])\n",
    "\n",
    "\n",
    "model.summary()"
   ]
  },
  {
   "cell_type": "code",
   "execution_count": null,
   "id": "257f63ee",
   "metadata": {},
   "outputs": [],
   "source": []
  },
  {
   "cell_type": "code",
   "execution_count": null,
   "id": "5f285645",
   "metadata": {},
   "outputs": [],
   "source": []
  },
  {
   "cell_type": "code",
   "execution_count": 37,
   "id": "7dec1a2f",
   "metadata": {},
   "outputs": [
    {
     "name": "stdout",
     "output_type": "stream",
     "text": [
      "Model: \"sequential_7\"\n",
      "_________________________________________________________________\n",
      " Layer (type)                Output Shape              Param #   \n",
      "=================================================================\n",
      " dense_12 (Dense)            (None, 1)                 2         \n",
      "                                                                 \n",
      "=================================================================\n",
      "Total params: 2\n",
      "Trainable params: 2\n",
      "Non-trainable params: 0\n",
      "_________________________________________________________________\n"
     ]
    }
   ],
   "source": [
    "# Let us change the number of neuro from 3 to 1\n",
    "\n",
    "tf.random.set_seed(42)\n",
    "\n",
    "# 1. Create a model (same as above)\n",
    "model = tf.keras.Sequential([\n",
    "    tf.keras.layers.Dense(1, input_shape= [1] )  \n",
    "]) \n",
    "\n",
    "# 2. COmpile the model \n",
    "model.compile(loss=tf.keras.losses.mae,\n",
    "             optimizer = tf.keras.optimizers.SGD(),\n",
    "             metrics=[\"mae\"])\n",
    "\n",
    "\n",
    "model.summary()"
   ]
  },
  {
   "cell_type": "code",
   "execution_count": 38,
   "id": "5d2f8b23",
   "metadata": {},
   "outputs": [
    {
     "name": "stdout",
     "output_type": "stream",
     "text": [
      "Epoch 1/100\n",
      "2/2 [==============================] - 1s 5ms/step - loss: 19.9632 - mae: 19.9632\n",
      "Epoch 2/100\n",
      "2/2 [==============================] - 0s 7ms/step - loss: 7.5461 - mae: 7.5461\n",
      "Epoch 3/100\n",
      "2/2 [==============================] - 0s 5ms/step - loss: 7.9686 - mae: 7.9686\n",
      "Epoch 4/100\n",
      "2/2 [==============================] - 0s 6ms/step - loss: 7.9526 - mae: 7.9526\n",
      "Epoch 5/100\n",
      "2/2 [==============================] - 0s 7ms/step - loss: 10.2179 - mae: 10.2179\n",
      "Epoch 6/100\n",
      "2/2 [==============================] - 0s 5ms/step - loss: 9.4744 - mae: 9.4744\n",
      "Epoch 7/100\n",
      "2/2 [==============================] - 0s 6ms/step - loss: 8.6071 - mae: 8.6071\n",
      "Epoch 8/100\n",
      "2/2 [==============================] - 0s 3ms/step - loss: 9.0463 - mae: 9.0463\n",
      "Epoch 9/100\n",
      "2/2 [==============================] - 0s 5ms/step - loss: 18.8454 - mae: 18.8454\n",
      "Epoch 10/100\n",
      "2/2 [==============================] - 0s 7ms/step - loss: 10.1657 - mae: 10.1657\n",
      "Epoch 11/100\n",
      "2/2 [==============================] - 0s 6ms/step - loss: 8.4175 - mae: 8.4175\n",
      "Epoch 12/100\n",
      "2/2 [==============================] - 0s 6ms/step - loss: 10.7049 - mae: 10.7049\n",
      "Epoch 13/100\n",
      "2/2 [==============================] - 0s 6ms/step - loss: 9.8134 - mae: 9.8134\n",
      "Epoch 14/100\n",
      "2/2 [==============================] - 0s 7ms/step - loss: 16.1103 - mae: 16.1103\n",
      "Epoch 15/100\n",
      "2/2 [==============================] - 0s 6ms/step - loss: 11.3272 - mae: 11.3272\n",
      "Epoch 16/100\n",
      "2/2 [==============================] - 0s 6ms/step - loss: 8.5619 - mae: 8.5619\n",
      "Epoch 17/100\n",
      "2/2 [==============================] - 0s 5ms/step - loss: 13.6881 - mae: 13.6881\n",
      "Epoch 18/100\n",
      "2/2 [==============================] - 0s 5ms/step - loss: 11.5298 - mae: 11.5298\n",
      "Epoch 19/100\n",
      "2/2 [==============================] - 0s 5ms/step - loss: 17.8322 - mae: 17.8322\n",
      "Epoch 20/100\n",
      "2/2 [==============================] - 0s 4ms/step - loss: 14.9674 - mae: 14.9674\n",
      "Epoch 21/100\n",
      "2/2 [==============================] - 0s 6ms/step - loss: 10.8469 - mae: 10.8469\n",
      "Epoch 22/100\n",
      "2/2 [==============================] - 0s 6ms/step - loss: 8.5981 - mae: 8.5981\n",
      "Epoch 23/100\n",
      "2/2 [==============================] - 0s 5ms/step - loss: 9.7052 - mae: 9.7052\n",
      "Epoch 24/100\n",
      "2/2 [==============================] - 0s 6ms/step - loss: 10.9602 - mae: 10.9602\n",
      "Epoch 25/100\n",
      "2/2 [==============================] - 0s 4ms/step - loss: 9.1605 - mae: 9.1605\n",
      "Epoch 26/100\n",
      "2/2 [==============================] - 0s 6ms/step - loss: 13.1986 - mae: 13.1986\n",
      "Epoch 27/100\n",
      "2/2 [==============================] - 0s 6ms/step - loss: 10.6675 - mae: 10.6675\n",
      "Epoch 28/100\n",
      "2/2 [==============================] - 0s 5ms/step - loss: 12.8904 - mae: 12.8904\n",
      "Epoch 29/100\n",
      "2/2 [==============================] - 0s 5ms/step - loss: 9.5087 - mae: 9.5087\n",
      "Epoch 30/100\n",
      "2/2 [==============================] - 0s 5ms/step - loss: 16.4193 - mae: 16.4193\n",
      "Epoch 31/100\n",
      "2/2 [==============================] - 0s 6ms/step - loss: 23.5698 - mae: 23.5698\n",
      "Epoch 32/100\n",
      "2/2 [==============================] - 0s 7ms/step - loss: 7.6058 - mae: 7.6058\n",
      "Epoch 33/100\n",
      "2/2 [==============================] - 0s 4ms/step - loss: 9.3026 - mae: 9.3026\n",
      "Epoch 34/100\n",
      "2/2 [==============================] - 0s 5ms/step - loss: 13.6738 - mae: 13.6738\n",
      "Epoch 35/100\n",
      "2/2 [==============================] - 0s 4ms/step - loss: 11.1557 - mae: 11.1557\n",
      "Epoch 36/100\n",
      "2/2 [==============================] - 0s 6ms/step - loss: 13.3822 - mae: 13.3822\n",
      "Epoch 37/100\n",
      "2/2 [==============================] - 0s 5ms/step - loss: 9.4481 - mae: 9.4481\n",
      "Epoch 38/100\n",
      "2/2 [==============================] - 0s 5ms/step - loss: 10.0991 - mae: 10.0991\n",
      "Epoch 39/100\n",
      "2/2 [==============================] - 0s 6ms/step - loss: 10.2078 - mae: 10.2078\n",
      "Epoch 40/100\n",
      "2/2 [==============================] - 0s 5ms/step - loss: 10.9542 - mae: 10.9542\n",
      "Epoch 41/100\n",
      "2/2 [==============================] - 0s 5ms/step - loss: 7.9291 - mae: 7.9291\n",
      "Epoch 42/100\n",
      "2/2 [==============================] - 0s 4ms/step - loss: 10.5770 - mae: 10.5770\n",
      "Epoch 43/100\n",
      "2/2 [==============================] - 0s 7ms/step - loss: 7.2079 - mae: 7.2079\n",
      "Epoch 44/100\n",
      "2/2 [==============================] - 0s 7ms/step - loss: 7.9926 - mae: 7.9926\n",
      "Epoch 45/100\n",
      "2/2 [==============================] - 0s 8ms/step - loss: 9.7844 - mae: 9.7844\n",
      "Epoch 46/100\n",
      "2/2 [==============================] - 0s 7ms/step - loss: 8.8601 - mae: 8.8601\n",
      "Epoch 47/100\n",
      "2/2 [==============================] - 0s 7ms/step - loss: 7.5713 - mae: 7.5713\n",
      "Epoch 48/100\n",
      "2/2 [==============================] - 0s 8ms/step - loss: 8.5773 - mae: 8.5773\n",
      "Epoch 49/100\n",
      "2/2 [==============================] - 0s 7ms/step - loss: 9.9889 - mae: 9.9889\n",
      "Epoch 50/100\n",
      "2/2 [==============================] - 0s 17ms/step - loss: 9.0299 - mae: 9.0299\n",
      "Epoch 51/100\n",
      "2/2 [==============================] - 0s 7ms/step - loss: 10.6574 - mae: 10.6574\n",
      "Epoch 52/100\n",
      "2/2 [==============================] - 0s 6ms/step - loss: 15.3010 - mae: 15.3010\n",
      "Epoch 53/100\n",
      "2/2 [==============================] - 0s 7ms/step - loss: 14.3205 - mae: 14.3205\n",
      "Epoch 54/100\n",
      "2/2 [==============================] - 0s 8ms/step - loss: 21.6243 - mae: 21.6243\n",
      "Epoch 55/100\n",
      "2/2 [==============================] - 0s 5ms/step - loss: 15.9788 - mae: 15.9788\n",
      "Epoch 56/100\n",
      "2/2 [==============================] - 0s 6ms/step - loss: 10.2946 - mae: 10.2946\n",
      "Epoch 57/100\n",
      "2/2 [==============================] - 0s 6ms/step - loss: 9.7593 - mae: 9.7593\n",
      "Epoch 58/100\n",
      "2/2 [==============================] - 0s 6ms/step - loss: 9.0457 - mae: 9.0457\n",
      "Epoch 59/100\n",
      "2/2 [==============================] - 0s 7ms/step - loss: 8.2508 - mae: 8.2508\n",
      "Epoch 60/100\n",
      "2/2 [==============================] - 0s 7ms/step - loss: 9.3485 - mae: 9.3485\n",
      "Epoch 61/100\n",
      "2/2 [==============================] - 0s 6ms/step - loss: 11.1536 - mae: 11.1536\n",
      "Epoch 62/100\n",
      "2/2 [==============================] - 0s 5ms/step - loss: 12.0837 - mae: 12.0837\n",
      "Epoch 63/100\n",
      "2/2 [==============================] - 0s 5ms/step - loss: 7.2657 - mae: 7.2657\n",
      "Epoch 64/100\n",
      "2/2 [==============================] - 0s 7ms/step - loss: 12.4210 - mae: 12.4210\n",
      "Epoch 65/100\n",
      "2/2 [==============================] - 0s 6ms/step - loss: 10.4894 - mae: 10.4894\n",
      "Epoch 66/100\n",
      "2/2 [==============================] - 0s 5ms/step - loss: 15.6168 - mae: 15.6168\n",
      "Epoch 67/100\n",
      "2/2 [==============================] - 0s 6ms/step - loss: 10.0154 - mae: 10.0154\n",
      "Epoch 68/100\n",
      "2/2 [==============================] - 0s 5ms/step - loss: 8.7215 - mae: 8.7215\n",
      "Epoch 69/100\n",
      "2/2 [==============================] - 0s 4ms/step - loss: 13.4935 - mae: 13.4935\n",
      "Epoch 70/100\n",
      "2/2 [==============================] - 0s 5ms/step - loss: 7.4656 - mae: 7.4656\n",
      "Epoch 71/100\n",
      "2/2 [==============================] - 0s 6ms/step - loss: 12.2163 - mae: 12.2163\n",
      "Epoch 72/100\n",
      "2/2 [==============================] - 0s 5ms/step - loss: 8.5345 - mae: 8.5345\n",
      "Epoch 73/100\n",
      "2/2 [==============================] - 0s 6ms/step - loss: 7.0367 - mae: 7.0367\n",
      "Epoch 74/100\n",
      "2/2 [==============================] - 0s 5ms/step - loss: 9.9361 - mae: 9.9361\n",
      "Epoch 75/100\n",
      "2/2 [==============================] - 0s 5ms/step - loss: 9.9288 - mae: 9.9288\n",
      "Epoch 76/100\n",
      "2/2 [==============================] - 0s 6ms/step - loss: 10.0966 - mae: 10.0966\n",
      "Epoch 77/100\n",
      "2/2 [==============================] - 0s 5ms/step - loss: 12.9411 - mae: 12.9411\n",
      "Epoch 78/100\n",
      "2/2 [==============================] - 0s 5ms/step - loss: 11.1501 - mae: 11.1501\n",
      "Epoch 79/100\n",
      "2/2 [==============================] - 0s 6ms/step - loss: 14.7080 - mae: 14.7080\n",
      "Epoch 80/100\n",
      "2/2 [==============================] - 0s 5ms/step - loss: 8.9179 - mae: 8.9179\n",
      "Epoch 81/100\n",
      "2/2 [==============================] - 0s 6ms/step - loss: 10.7579 - mae: 10.7579\n",
      "Epoch 82/100\n",
      "2/2 [==============================] - 0s 5ms/step - loss: 8.3927 - mae: 8.3927\n",
      "Epoch 83/100\n",
      "2/2 [==============================] - 0s 6ms/step - loss: 9.2160 - mae: 9.2160\n",
      "Epoch 84/100\n",
      "2/2 [==============================] - 0s 8ms/step - loss: 8.9369 - mae: 8.9369\n",
      "Epoch 85/100\n",
      "2/2 [==============================] - 0s 6ms/step - loss: 13.1865 - mae: 13.1865\n",
      "Epoch 86/100\n",
      "2/2 [==============================] - 0s 6ms/step - loss: 13.7089 - mae: 13.7089\n",
      "Epoch 87/100\n",
      "2/2 [==============================] - 0s 6ms/step - loss: 13.1934 - mae: 13.1934\n",
      "Epoch 88/100\n"
     ]
    },
    {
     "name": "stdout",
     "output_type": "stream",
     "text": [
      "2/2 [==============================] - 0s 5ms/step - loss: 11.5194 - mae: 11.5194\n",
      "Epoch 89/100\n",
      "2/2 [==============================] - 0s 6ms/step - loss: 7.8029 - mae: 7.8029\n",
      "Epoch 90/100\n",
      "2/2 [==============================] - 0s 5ms/step - loss: 10.9331 - mae: 10.9331\n",
      "Epoch 91/100\n",
      "2/2 [==============================] - 0s 5ms/step - loss: 6.7458 - mae: 6.7458\n",
      "Epoch 92/100\n",
      "2/2 [==============================] - 0s 5ms/step - loss: 10.1258 - mae: 10.1258\n",
      "Epoch 93/100\n",
      "2/2 [==============================] - 0s 8ms/step - loss: 7.6013 - mae: 7.6013\n",
      "Epoch 94/100\n",
      "2/2 [==============================] - 0s 7ms/step - loss: 9.2332 - mae: 9.2332\n",
      "Epoch 95/100\n",
      "2/2 [==============================] - 0s 6ms/step - loss: 10.8194 - mae: 10.8194\n",
      "Epoch 96/100\n",
      "2/2 [==============================] - 0s 6ms/step - loss: 10.2992 - mae: 10.2992\n",
      "Epoch 97/100\n",
      "2/2 [==============================] - 0s 6ms/step - loss: 7.6720 - mae: 7.6720\n",
      "Epoch 98/100\n",
      "2/2 [==============================] - 0s 5ms/step - loss: 8.6078 - mae: 8.6078\n",
      "Epoch 99/100\n",
      "2/2 [==============================] - 0s 6ms/step - loss: 9.3856 - mae: 9.3856\n",
      "Epoch 100/100\n",
      "2/2 [==============================] - 0s 9ms/step - loss: 8.8331 - mae: 8.8331\n"
     ]
    },
    {
     "data": {
      "text/plain": [
       "<keras.callbacks.History at 0x13d2f9568e0>"
      ]
     },
     "execution_count": 38,
     "metadata": {},
     "output_type": "execute_result"
    }
   ],
   "source": [
    "# 3. Fit the model to the training data for 100 epochs\n",
    "model.fit(X_train, y_train, epochs=100, verbose=1)"
   ]
  },
  {
   "cell_type": "code",
   "execution_count": 39,
   "id": "2f299920",
   "metadata": {},
   "outputs": [
    {
     "name": "stdout",
     "output_type": "stream",
     "text": [
      "Epoch 1/100\n",
      "2/2 [==============================] - 0s 6ms/step - loss: 12.7814 - mae: 12.7814\n",
      "Epoch 2/100\n",
      "2/2 [==============================] - 0s 6ms/step - loss: 8.5179 - mae: 8.5179\n",
      "Epoch 3/100\n",
      "2/2 [==============================] - 0s 6ms/step - loss: 6.6183 - mae: 6.6183\n",
      "Epoch 4/100\n",
      "2/2 [==============================] - 0s 5ms/step - loss: 9.0793 - mae: 9.0793\n",
      "Epoch 5/100\n",
      "2/2 [==============================] - 0s 6ms/step - loss: 10.0949 - mae: 10.0949\n",
      "Epoch 6/100\n",
      "2/2 [==============================] - 0s 5ms/step - loss: 9.2239 - mae: 9.2239\n",
      "Epoch 7/100\n",
      "2/2 [==============================] - 0s 6ms/step - loss: 8.2692 - mae: 8.2692\n",
      "Epoch 8/100\n",
      "2/2 [==============================] - 0s 7ms/step - loss: 8.1449 - mae: 8.1449\n",
      "Epoch 9/100\n",
      "2/2 [==============================] - 0s 5ms/step - loss: 14.6131 - mae: 14.6131\n",
      "Epoch 10/100\n",
      "2/2 [==============================] - 0s 6ms/step - loss: 11.7020 - mae: 11.7020\n",
      "Epoch 11/100\n",
      "2/2 [==============================] - 0s 7ms/step - loss: 9.4923 - mae: 9.4923\n",
      "Epoch 12/100\n",
      "2/2 [==============================] - 0s 5ms/step - loss: 17.6902 - mae: 17.6902\n",
      "Epoch 13/100\n",
      "2/2 [==============================] - 0s 5ms/step - loss: 8.7972 - mae: 8.7972\n",
      "Epoch 14/100\n",
      "2/2 [==============================] - 0s 4ms/step - loss: 15.2724 - mae: 15.2724\n",
      "Epoch 15/100\n",
      "2/2 [==============================] - 0s 5ms/step - loss: 11.3317 - mae: 11.3317\n",
      "Epoch 16/100\n",
      "2/2 [==============================] - 0s 5ms/step - loss: 7.6450 - mae: 7.6450\n",
      "Epoch 17/100\n",
      "2/2 [==============================] - 0s 5ms/step - loss: 12.5964 - mae: 12.5964\n",
      "Epoch 18/100\n",
      "2/2 [==============================] - 0s 6ms/step - loss: 10.0983 - mae: 10.0983\n",
      "Epoch 19/100\n",
      "2/2 [==============================] - 0s 5ms/step - loss: 18.4430 - mae: 18.4430\n",
      "Epoch 20/100\n",
      "2/2 [==============================] - 0s 6ms/step - loss: 15.1436 - mae: 15.1436\n",
      "Epoch 21/100\n",
      "2/2 [==============================] - 0s 20ms/step - loss: 10.6300 - mae: 10.6300\n",
      "Epoch 22/100\n",
      "2/2 [==============================] - 0s 7ms/step - loss: 7.1294 - mae: 7.1294\n",
      "Epoch 23/100\n",
      "2/2 [==============================] - 0s 40ms/step - loss: 8.6537 - mae: 8.6537\n",
      "Epoch 24/100\n",
      "2/2 [==============================] - 0s 5ms/step - loss: 7.5744 - mae: 7.5744\n",
      "Epoch 25/100\n",
      "2/2 [==============================] - 0s 6ms/step - loss: 10.2484 - mae: 10.2484\n",
      "Epoch 26/100\n",
      "2/2 [==============================] - 0s 5ms/step - loss: 15.6270 - mae: 15.6270\n",
      "Epoch 27/100\n",
      "2/2 [==============================] - 0s 5ms/step - loss: 11.9761 - mae: 11.9761\n",
      "Epoch 28/100\n",
      "2/2 [==============================] - 0s 6ms/step - loss: 12.9107 - mae: 12.9107\n",
      "Epoch 29/100\n",
      "2/2 [==============================] - 0s 6ms/step - loss: 8.6263 - mae: 8.6263\n",
      "Epoch 30/100\n",
      "2/2 [==============================] - 0s 6ms/step - loss: 16.0864 - mae: 16.0864\n",
      "Epoch 31/100\n",
      "2/2 [==============================] - 0s 7ms/step - loss: 23.3650 - mae: 23.3650\n",
      "Epoch 32/100\n",
      "2/2 [==============================] - 0s 7ms/step - loss: 6.3085 - mae: 6.3085\n",
      "Epoch 33/100\n",
      "2/2 [==============================] - 0s 5ms/step - loss: 9.7654 - mae: 9.7654\n",
      "Epoch 34/100\n",
      "2/2 [==============================] - 0s 6ms/step - loss: 8.3096 - mae: 8.3096\n",
      "Epoch 35/100\n",
      "2/2 [==============================] - 0s 5ms/step - loss: 7.7386 - mae: 7.7386\n",
      "Epoch 36/100\n",
      "2/2 [==============================] - 0s 6ms/step - loss: 8.4950 - mae: 8.4950\n",
      "Epoch 37/100\n",
      "2/2 [==============================] - 0s 5ms/step - loss: 9.1301 - mae: 9.1301\n",
      "Epoch 38/100\n",
      "2/2 [==============================] - 0s 5ms/step - loss: 9.9989 - mae: 9.9989\n",
      "Epoch 39/100\n",
      "2/2 [==============================] - 0s 6ms/step - loss: 15.2358 - mae: 15.2358\n",
      "Epoch 40/100\n",
      "2/2 [==============================] - 0s 5ms/step - loss: 12.5835 - mae: 12.5835\n",
      "Epoch 41/100\n",
      "2/2 [==============================] - 0s 6ms/step - loss: 8.3442 - mae: 8.3442\n",
      "Epoch 42/100\n",
      "2/2 [==============================] - 0s 6ms/step - loss: 10.1079 - mae: 10.1079\n",
      "Epoch 43/100\n",
      "2/2 [==============================] - 0s 6ms/step - loss: 7.4285 - mae: 7.4285\n",
      "Epoch 44/100\n",
      "2/2 [==============================] - 0s 5ms/step - loss: 15.3789 - mae: 15.3789\n",
      "Epoch 45/100\n",
      "2/2 [==============================] - 0s 6ms/step - loss: 12.6668 - mae: 12.6668\n",
      "Epoch 46/100\n",
      "2/2 [==============================] - 0s 6ms/step - loss: 7.1740 - mae: 7.1740\n",
      "Epoch 47/100\n",
      "2/2 [==============================] - 0s 5ms/step - loss: 7.9227 - mae: 7.9227\n",
      "Epoch 48/100\n",
      "2/2 [==============================] - 0s 5ms/step - loss: 9.2619 - mae: 9.2619\n",
      "Epoch 49/100\n",
      "2/2 [==============================] - 0s 6ms/step - loss: 7.7175 - mae: 7.7175\n",
      "Epoch 50/100\n",
      "2/2 [==============================] - 0s 6ms/step - loss: 8.2876 - mae: 8.2876\n",
      "Epoch 51/100\n",
      "2/2 [==============================] - 0s 6ms/step - loss: 8.4727 - mae: 8.4727\n",
      "Epoch 52/100\n",
      "2/2 [==============================] - 0s 8ms/step - loss: 14.0878 - mae: 14.0878\n",
      "Epoch 53/100\n",
      "2/2 [==============================] - 0s 5ms/step - loss: 14.5334 - mae: 14.5334\n",
      "Epoch 54/100\n",
      "2/2 [==============================] - 0s 5ms/step - loss: 14.2357 - mae: 14.2357\n",
      "Epoch 55/100\n",
      "2/2 [==============================] - 0s 6ms/step - loss: 18.6103 - mae: 18.6103\n",
      "Epoch 56/100\n",
      "2/2 [==============================] - 0s 5ms/step - loss: 6.6243 - mae: 6.6243\n",
      "Epoch 57/100\n",
      "2/2 [==============================] - 0s 6ms/step - loss: 12.1237 - mae: 12.1237\n",
      "Epoch 58/100\n",
      "2/2 [==============================] - 0s 7ms/step - loss: 8.0649 - mae: 8.0649\n",
      "Epoch 59/100\n",
      "2/2 [==============================] - 0s 6ms/step - loss: 9.3066 - mae: 9.3066\n",
      "Epoch 60/100\n",
      "2/2 [==============================] - 0s 5ms/step - loss: 7.4499 - mae: 7.4499\n",
      "Epoch 61/100\n",
      "2/2 [==============================] - 0s 4ms/step - loss: 8.2928 - mae: 8.2928\n",
      "Epoch 62/100\n",
      "2/2 [==============================] - 0s 5ms/step - loss: 6.5661 - mae: 6.5661\n",
      "Epoch 63/100\n",
      "2/2 [==============================] - 0s 4ms/step - loss: 7.5131 - mae: 7.5131\n",
      "Epoch 64/100\n",
      "2/2 [==============================] - 0s 6ms/step - loss: 9.7953 - mae: 9.7953\n",
      "Epoch 65/100\n",
      "2/2 [==============================] - 0s 6ms/step - loss: 9.5059 - mae: 9.5059\n",
      "Epoch 66/100\n",
      "2/2 [==============================] - 0s 7ms/step - loss: 8.1999 - mae: 8.1999\n",
      "Epoch 67/100\n",
      "2/2 [==============================] - 0s 6ms/step - loss: 9.1477 - mae: 9.1477\n",
      "Epoch 68/100\n",
      "2/2 [==============================] - 0s 6ms/step - loss: 8.0380 - mae: 8.0380\n",
      "Epoch 69/100\n",
      "2/2 [==============================] - 0s 6ms/step - loss: 9.7010 - mae: 9.7010\n",
      "Epoch 70/100\n",
      "2/2 [==============================] - 0s 6ms/step - loss: 7.7923 - mae: 7.7923\n",
      "Epoch 71/100\n",
      "2/2 [==============================] - 0s 6ms/step - loss: 8.7796 - mae: 8.7796\n",
      "Epoch 72/100\n",
      "2/2 [==============================] - 0s 7ms/step - loss: 10.1450 - mae: 10.1450\n",
      "Epoch 73/100\n",
      "2/2 [==============================] - 0s 5ms/step - loss: 9.6095 - mae: 9.6095\n",
      "Epoch 74/100\n",
      "2/2 [==============================] - 0s 4ms/step - loss: 15.5356 - mae: 15.5356\n",
      "Epoch 75/100\n",
      "2/2 [==============================] - 0s 6ms/step - loss: 8.0306 - mae: 8.0306\n",
      "Epoch 76/100\n",
      "2/2 [==============================] - 0s 6ms/step - loss: 8.6599 - mae: 8.6599\n",
      "Epoch 77/100\n",
      "2/2 [==============================] - 0s 6ms/step - loss: 10.9398 - mae: 10.9398\n",
      "Epoch 78/100\n",
      "2/2 [==============================] - 0s 6ms/step - loss: 11.5069 - mae: 11.5069\n",
      "Epoch 79/100\n",
      "2/2 [==============================] - 0s 6ms/step - loss: 14.3254 - mae: 14.3254\n",
      "Epoch 80/100\n",
      "2/2 [==============================] - 0s 8ms/step - loss: 7.8960 - mae: 7.8960\n",
      "Epoch 81/100\n",
      "2/2 [==============================] - 0s 6ms/step - loss: 9.6045 - mae: 9.6045\n",
      "Epoch 82/100\n",
      "2/2 [==============================] - 0s 6ms/step - loss: 6.3647 - mae: 6.3647\n",
      "Epoch 83/100\n",
      "2/2 [==============================] - 0s 5ms/step - loss: 8.1595 - mae: 8.1595\n",
      "Epoch 84/100\n",
      "2/2 [==============================] - 0s 4ms/step - loss: 7.9419 - mae: 7.9419\n",
      "Epoch 85/100\n",
      "2/2 [==============================] - 0s 5ms/step - loss: 12.5706 - mae: 12.5706\n",
      "Epoch 86/100\n",
      "2/2 [==============================] - 0s 5ms/step - loss: 9.8648 - mae: 9.8648\n",
      "Epoch 87/100\n",
      "2/2 [==============================] - 0s 5ms/step - loss: 14.1290 - mae: 14.1290\n",
      "Epoch 88/100\n"
     ]
    },
    {
     "name": "stdout",
     "output_type": "stream",
     "text": [
      "2/2 [==============================] - 0s 6ms/step - loss: 12.0282 - mae: 12.0282\n",
      "Epoch 89/100\n",
      "2/2 [==============================] - 0s 5ms/step - loss: 7.1873 - mae: 7.1873\n",
      "Epoch 90/100\n",
      "2/2 [==============================] - 0s 5ms/step - loss: 9.4424 - mae: 9.4424\n",
      "Epoch 91/100\n",
      "2/2 [==============================] - 0s 6ms/step - loss: 7.1929 - mae: 7.1929\n",
      "Epoch 92/100\n",
      "2/2 [==============================] - 0s 6ms/step - loss: 13.7073 - mae: 13.7073\n",
      "Epoch 93/100\n",
      "2/2 [==============================] - 0s 5ms/step - loss: 10.3150 - mae: 10.3150\n",
      "Epoch 94/100\n",
      "2/2 [==============================] - 0s 5ms/step - loss: 7.5452 - mae: 7.5452\n",
      "Epoch 95/100\n",
      "2/2 [==============================] - 0s 6ms/step - loss: 12.5500 - mae: 12.5500\n",
      "Epoch 96/100\n",
      "2/2 [==============================] - 0s 6ms/step - loss: 8.6083 - mae: 8.6083\n",
      "Epoch 97/100\n",
      "2/2 [==============================] - 0s 6ms/step - loss: 12.7702 - mae: 12.7702\n",
      "Epoch 98/100\n",
      "2/2 [==============================] - 0s 5ms/step - loss: 7.4872 - mae: 7.4872\n",
      "Epoch 99/100\n",
      "2/2 [==============================] - 0s 4ms/step - loss: 8.2312 - mae: 8.2312\n",
      "Epoch 100/100\n",
      "2/2 [==============================] - 0s 6ms/step - loss: 9.7070 - mae: 9.7070\n"
     ]
    },
    {
     "data": {
      "text/plain": [
       "<keras.callbacks.History at 0x13d3357a220>"
      ]
     },
     "execution_count": 39,
     "metadata": {},
     "output_type": "execute_result"
    }
   ],
   "source": [
    "# Fit the model again, for another 100 epochs (so for a total of 200 epochs)\n",
    "model.fit(X_train, y_train, epochs=100, verbose=1)"
   ]
  },
  {
   "cell_type": "markdown",
   "id": "7798ca6b",
   "metadata": {},
   "source": [
    "🔑 Every time model.fit() is called, it's going to fit for the extra epochs provided as parameters : the epochs are cumulative."
   ]
  },
  {
   "cell_type": "code",
   "execution_count": null,
   "id": "378fe5b7",
   "metadata": {},
   "outputs": [],
   "source": []
  },
  {
   "cell_type": "markdown",
   "id": "8cd35a1b",
   "metadata": {},
   "source": [
    "### Visualizing a model's layers"
   ]
  },
  {
   "cell_type": "code",
   "execution_count": 40,
   "id": "64f49ee8",
   "metadata": {},
   "outputs": [
    {
     "name": "stdout",
     "output_type": "stream",
     "text": [
      "Model: \"sequential_8\"\n",
      "_________________________________________________________________\n",
      " Layer (type)                Output Shape              Param #   \n",
      "=================================================================\n",
      " dense_13 (Dense)            (None, 10)                20        \n",
      "                                                                 \n",
      "=================================================================\n",
      "Total params: 20\n",
      "Trainable params: 20\n",
      "Non-trainable params: 0\n",
      "_________________________________________________________________\n"
     ]
    }
   ],
   "source": [
    "# Creating a new model, with 10 units in the hidden layers\n",
    "\n",
    "tf.random.set_seed(42)\n",
    "\n",
    "# 1. Create a model (same as above)\n",
    "model = tf.keras.Sequential([\n",
    "    tf.keras.layers.Dense(10, input_shape= [1] )  \n",
    "]) \n",
    "\n",
    "# 2. Compile the model \n",
    "model.compile(loss=tf.keras.losses.mae,\n",
    "             optimizer = tf.keras.optimizers.SGD(),\n",
    "             metrics=[\"mae\"])\n",
    "\n",
    "\n",
    "model.summary()\n"
   ]
  },
  {
   "cell_type": "code",
   "execution_count": 41,
   "id": "967d66d9",
   "metadata": {},
   "outputs": [
    {
     "data": {
      "text/plain": [
       "<keras.callbacks.History at 0x13d3356f820>"
      ]
     },
     "execution_count": 41,
     "metadata": {},
     "output_type": "execute_result"
    }
   ],
   "source": [
    "# Fit the model to the training data\n",
    "model.fit(X_train, y_train, epochs=100, verbose=0)"
   ]
  },
  {
   "cell_type": "code",
   "execution_count": 42,
   "id": "8641da1e",
   "metadata": {},
   "outputs": [
    {
     "data": {
      "image/png": "[encoded data removed]",
      "text/plain": [
       "<IPython.core.display.Image object>"
      ]
     },
     "execution_count": 42,
     "metadata": {},
     "output_type": "execute_result"
    }
   ],
   "source": [
    "# Looking at the layers of the model\n",
    "plot_model(model=model)"
   ]
  },
  {
   "cell_type": "code",
   "execution_count": 43,
   "id": "51112f96",
   "metadata": {},
   "outputs": [
    {
     "data": {
      "image/png": "[encoded data removed]",
      "text/plain": [
       "<IPython.core.display.Image object>"
      ]
     },
     "execution_count": 43,
     "metadata": {},
     "output_type": "execute_result"
    }
   ],
   "source": [
    "# Looking at the layers of the model, with it's shape\n",
    "plot_model(model=model, show_shapes=True)"
   ]
  },
  {
   "cell_type": "markdown",
   "id": "8720dbcb",
   "metadata": {},
   "source": [
    "The plot_model() above will be very handy later on when we start creating more complex models with more hidden layers. \n",
    "   \n",
    "Let's observe the plot of a little more complex model"
   ]
  },
  {
   "cell_type": "code",
   "execution_count": 44,
   "id": "d6a9f617",
   "metadata": {},
   "outputs": [
    {
     "name": "stdout",
     "output_type": "stream",
     "text": [
      "Model: \"amazing_model\"\n",
      "_________________________________________________________________\n",
      " Layer (type)                Output Shape              Param #   \n",
      "=================================================================\n",
      " input_layer (Dense)         (None, 10)                20        \n",
      "                                                                 \n",
      " output_layer (Dense)        (None, 1)                 11        \n",
      "                                                                 \n",
      "=================================================================\n",
      "Total params: 31\n",
      "Trainable params: 31\n",
      "Non-trainable params: 0\n",
      "_________________________________________________________________\n"
     ]
    }
   ],
   "source": [
    "# Creating a model, with 10 units in the hidden layers, and an output layer\n",
    "\n",
    "tf.random.set_seed(42)\n",
    "\n",
    "# 1. Create a model (same as above)\n",
    "model = tf.keras.Sequential([\n",
    "    tf.keras.layers.Dense(10, input_shape= [1], name=\"input_layer\" ), \n",
    "    tf.keras.layers.Dense(1, name=\"output_layer\")\n",
    "], name=\"amazing_model\") \n",
    "\n",
    "# 2. Compile the model \n",
    "model.compile(loss=tf.keras.losses.mae,\n",
    "             optimizer = tf.keras.optimizers.SGD(),\n",
    "             metrics=[\"mae\"])\n",
    "\n",
    "\n",
    "model.summary()\n"
   ]
  },
  {
   "cell_type": "code",
   "execution_count": 45,
   "id": "69b4b0ca",
   "metadata": {},
   "outputs": [
    {
     "data": {
      "text/plain": [
       "<keras.callbacks.History at 0x13d3355ca90>"
      ]
     },
     "execution_count": 45,
     "metadata": {},
     "output_type": "execute_result"
    }
   ],
   "source": [
    "# Fit the model to the training data\n",
    "model.fit(X_train, y_train, epochs=100, verbose=0)"
   ]
  },
  {
   "cell_type": "code",
   "execution_count": 46,
   "id": "bc62aa47",
   "metadata": {},
   "outputs": [
    {
     "name": "stdout",
     "output_type": "stream",
     "text": [
      "Model: \"amazing_model\"\n",
      "_________________________________________________________________\n",
      " Layer (type)                Output Shape              Param #   \n",
      "=================================================================\n",
      " input_layer (Dense)         (None, 10)                20        \n",
      "                                                                 \n",
      " output_layer (Dense)        (None, 1)                 11        \n",
      "                                                                 \n",
      "=================================================================\n",
      "Total params: 31\n",
      "Trainable params: 31\n",
      "Non-trainable params: 0\n",
      "_________________________________________________________________\n"
     ]
    }
   ],
   "source": [
    "model.summary()"
   ]
  },
  {
   "cell_type": "code",
   "execution_count": 47,
   "id": "06d885f8",
   "metadata": {},
   "outputs": [
    {
     "data": {
      "image/png": "[encoded data removed]",
      "text/plain": [
       "<IPython.core.display.Image object>"
      ]
     },
     "execution_count": 47,
     "metadata": {},
     "output_type": "execute_result"
    }
   ],
   "source": [
    "# Looking at the layers of the model, with it's shape\n",
    "plot_model(model=model, show_shapes=True)"
   ]
  },
  {
   "cell_type": "code",
   "execution_count": null,
   "id": "955333a7",
   "metadata": {},
   "outputs": [],
   "source": []
  },
  {
   "cell_type": "markdown",
   "id": "ab607c02",
   "metadata": {},
   "source": [
    "### Visualizing the model's predictions  \n",
    "  \n",
    "To visualize predictions, it's a good idea to plot them against the ground truth labels.  \n",
    "  \n",
    "Often, one will see this in the form of `y_test` or `y_true` versus `y_pred` (ground truth versus the model's predictions)."
   ]
  },
  {
   "cell_type": "code",
   "execution_count": 48,
   "id": "6274fe28",
   "metadata": {},
   "outputs": [
    {
     "name": "stdout",
     "output_type": "stream",
     "text": [
      "WARNING:tensorflow:5 out of the last 6 calls to <function Model.make_predict_function.<locals>.predict_function at 0x0000013D336C09D0> triggered tf.function retracing. Tracing is expensive and the excessive number of tracings could be due to (1) creating @tf.function repeatedly in a loop, (2) passing tensors with different shapes, (3) passing Python objects instead of tensors. For (1), please define your @tf.function outside of the loop. For (2), @tf.function has reduce_retracing=True option that can avoid unnecessary retracing. For (3), please refer to https://www.tensorflow.org/guide/function#controlling_retracing and https://www.tensorflow.org/api_docs/python/tf/function for  more details.\n",
      "1/1 [==============================] - 0s 127ms/step\n"
     ]
    },
    {
     "data": {
      "text/plain": [
       "array([[ 76.39861 ],\n",
       "       [ 81.37609 ],\n",
       "       [ 86.353584],\n",
       "       [ 91.33108 ],\n",
       "       [ 96.308556],\n",
       "       [101.28605 ],\n",
       "       [106.263535],\n",
       "       [111.24103 ],\n",
       "       [116.21851 ],\n",
       "       [121.19599 ]], dtype=float32)"
      ]
     },
     "execution_count": 48,
     "metadata": {},
     "output_type": "execute_result"
    }
   ],
   "source": [
    "# Make some predictions\n",
    "y_pred = model.predict(X_test)\n",
    "y_pred"
   ]
  },
  {
   "cell_type": "code",
   "execution_count": 49,
   "id": "2693f03d",
   "metadata": {},
   "outputs": [
    {
     "data": {
      "text/plain": [
       "<tf.Tensor: shape=(10,), dtype=int32, numpy=array([ 70,  74,  78,  82,  86,  90,  94,  98, 102, 106])>"
      ]
     },
     "execution_count": 49,
     "metadata": {},
     "output_type": "execute_result"
    }
   ],
   "source": [
    "# Looking at the content of y_test (the real value)\n",
    "y_test"
   ]
  },
  {
   "cell_type": "code",
   "execution_count": null,
   "id": "ceb2b008",
   "metadata": {},
   "outputs": [],
   "source": []
  },
  {
   "cell_type": "code",
   "execution_count": 50,
   "id": "eeba611f",
   "metadata": {},
   "outputs": [],
   "source": [
    "# Creating a plotting function\n",
    "def plot_predictions(train_data=X_train, train_labels=y_train,\n",
    "                    test_data=X_test, test_labels=y_test,\n",
    "                    predictions=y_pred):\n",
    "    \"\"\"\n",
    "        Plots training data, test data, and compares predictions to ground truth labels.\n",
    "    \"\"\"\n",
    "    plt.figure( figsize=(10,7) )\n",
    "\n",
    "    # Plot training data in blue \n",
    "    plt.scatter(train_data, train_labels, c=\"b\", label=\"Training data\")\n",
    "\n",
    "    # Plot test data in green\n",
    "    plt.scatter(test_data, test_labels, c=\"g\", label=\"Test data\")\n",
    "    \n",
    "    # Plot prediction data\n",
    "    plt.scatter(test_data,predictions,c=\"r\", label=\"Predictions\")\n",
    "\n",
    "    #Show a legend\n",
    "    plt.legend() "
   ]
  },
  {
   "cell_type": "code",
   "execution_count": 51,
   "id": "e17e0774",
   "metadata": {},
   "outputs": [
    {
     "data": {
      "image/png": "[encoded data removed]",
      "text/plain": [
       "<Figure size 720x504 with 1 Axes>"
      ]
     },
     "metadata": {
      "needs_background": "light"
     },
     "output_type": "display_data"
    }
   ],
   "source": [
    "plot_predictions()"
   ]
  },
  {
   "cell_type": "markdown",
   "id": "bf87ee45",
   "metadata": {},
   "source": [
    "Looking at the plots, the model appear to be good since the distance between test data and the predictions is small. But depending on the scale of the plot, that seemingly short distance can in fact represent a fairly large error.   \n",
    "So the way that can be figured out is by some evaluation metrics.\n"
   ]
  },
  {
   "cell_type": "markdown",
   "id": "cef52248",
   "metadata": {},
   "source": [
    "🛠️ **Exercise** : Try to improve the ploted model performance."
   ]
  },
  {
   "cell_type": "code",
   "execution_count": null,
   "id": "42f63d4e",
   "metadata": {},
   "outputs": [],
   "source": []
  },
  {
   "cell_type": "markdown",
   "id": "3465cb74",
   "metadata": {},
   "source": [
    "### Evaluation a model's predictions with regression evaluation metrics  \n",
    "  \n",
    "The best way to evaluate a model's predictions is by using evaluation metrics. Depending on the problem one is working on, there will be different evaluation metrics to evaluate a model's performance.\n",
    "   \n",
    "   \n",
    "Since the current work is a regression, three of the main metrics are :\n",
    "* **MAE** - Mean Absolute Error : \"On evareage, how wrong is each of the model's predictions ?\" . It is a great starter metric for any regression problem.\n",
    "* **MSE** - Mean Square Error : \"Square the average errors\" (take the errors from the model predictions, square them, and find the average). It is great to use it when larger errors are more significant than smaller errors.   \n",
    "* **Huber** : It is a combination of MSE and MAE; it's less sensitive to outliers than MSE."
   ]
  },
  {
   "cell_type": "code",
   "execution_count": 52,
   "id": "00c2f28d",
   "metadata": {},
   "outputs": [
    {
     "name": "stdout",
     "output_type": "stream",
     "text": [
      "1/1 [==============================] - 0s 349ms/step - loss: 10.7973 - mae: 10.7973\n"
     ]
    },
    {
     "data": {
      "text/plain": [
       "[10.797304153442383, 10.797304153442383]"
      ]
     },
     "execution_count": 52,
     "metadata": {},
     "output_type": "execute_result"
    }
   ],
   "source": [
    "# Evaluate the model on the test \n",
    "model.evaluate(X_test, y_test)"
   ]
  },
  {
   "cell_type": "markdown",
   "id": "777142f7",
   "metadata": {},
   "source": [
    "In the evaluation's result above, there are values for `loss` and `mae`. They came from the hyper-parameters (loss and metrics) provided when building the model."
   ]
  },
  {
   "cell_type": "markdown",
   "id": "9805df4d",
   "metadata": {},
   "source": [
    "#### Manually calculate the MAE (as an exercise)"
   ]
  },
  {
   "cell_type": "code",
   "execution_count": 53,
   "id": "5ec1db76",
   "metadata": {},
   "outputs": [
    {
     "data": {
      "text/plain": [
       "<tf.Tensor: shape=(10,), dtype=float32, numpy=\n",
       "array([13.360832, 11.049563, 10.      , 10.266215, 11.723422, 14.37163 ,\n",
       "       18.263535, 23.241028, 28.218512, 33.19599 ], dtype=float32)>"
      ]
     },
     "execution_count": 53,
     "metadata": {},
     "output_type": "execute_result"
    }
   ],
   "source": [
    "mae = tf.metrics.mean_absolute_error(y_true = y_test, y_pred=y_pred)\n",
    "mae"
   ]
  },
  {
   "cell_type": "markdown",
   "id": "1cd1446f",
   "metadata": {},
   "source": [
    "The result above does not make sense, because the result should be scalar, not an array . Let us observe y_test and y_pred to understand what is going on in the data."
   ]
  },
  {
   "cell_type": "code",
   "execution_count": 54,
   "id": "75792e15",
   "metadata": {},
   "outputs": [
    {
     "data": {
      "text/plain": [
       "<tf.Tensor: shape=(10,), dtype=int32, numpy=array([ 70,  74,  78,  82,  86,  90,  94,  98, 102, 106])>"
      ]
     },
     "execution_count": 54,
     "metadata": {},
     "output_type": "execute_result"
    }
   ],
   "source": [
    "y_test"
   ]
  },
  {
   "cell_type": "code",
   "execution_count": 55,
   "id": "12019b8c",
   "metadata": {},
   "outputs": [
    {
     "data": {
      "text/plain": [
       "array([[ 76.39861 ],\n",
       "       [ 81.37609 ],\n",
       "       [ 86.353584],\n",
       "       [ 91.33108 ],\n",
       "       [ 96.308556],\n",
       "       [101.28605 ],\n",
       "       [106.263535],\n",
       "       [111.24103 ],\n",
       "       [116.21851 ],\n",
       "       [121.19599 ]], dtype=float32)"
      ]
     },
     "execution_count": 55,
     "metadata": {},
     "output_type": "execute_result"
    }
   ],
   "source": [
    "y_pred"
   ]
  },
  {
   "cell_type": "code",
   "execution_count": 56,
   "id": "af13faf2",
   "metadata": {},
   "outputs": [
    {
     "data": {
      "text/plain": [
       "(10, 1)"
      ]
     },
     "execution_count": 56,
     "metadata": {},
     "output_type": "execute_result"
    }
   ],
   "source": [
    "y_pred.shape"
   ]
  },
  {
   "cell_type": "markdown",
   "id": "12d65db9",
   "metadata": {},
   "source": [
    "y_pred has one more dimension than y_test, so we need to remove its last dimension in order to have the same dimension for the two of them."
   ]
  },
  {
   "cell_type": "code",
   "execution_count": 57,
   "id": "17da45da",
   "metadata": {},
   "outputs": [
    {
     "data": {
      "text/plain": [
       "<tf.Tensor: shape=(10,), dtype=float32, numpy=\n",
       "array([ 76.39861 ,  81.37609 ,  86.353584,  91.33108 ,  96.308556,\n",
       "       101.28605 , 106.263535, 111.24103 , 116.21851 , 121.19599 ],\n",
       "      dtype=float32)>"
      ]
     },
     "execution_count": 57,
     "metadata": {},
     "output_type": "execute_result"
    }
   ],
   "source": [
    "# remove the last dimension from y_pred\n",
    "tf.squeeze(y_pred)"
   ]
  },
  {
   "cell_type": "code",
   "execution_count": 58,
   "id": "1e73ed10",
   "metadata": {},
   "outputs": [
    {
     "data": {
      "text/plain": [
       "<tf.Tensor: shape=(), dtype=float32, numpy=10.797304>"
      ]
     },
     "execution_count": 58,
     "metadata": {},
     "output_type": "execute_result"
    }
   ],
   "source": [
    "mae = tf.metrics.mean_absolute_error(y_true=y_test, y_pred = tf.squeeze(y_pred))\n",
    "mae"
   ]
  },
  {
   "cell_type": "markdown",
   "id": "b0ad45e6",
   "metadata": {},
   "source": [
    "The MAE manually computed here is the same as the one computed automatically before."
   ]
  },
  {
   "cell_type": "markdown",
   "id": "3cf402e6",
   "metadata": {},
   "source": [
    "#### Manually calculate the MSE (as an exercise)"
   ]
  },
  {
   "cell_type": "code",
   "execution_count": 59,
   "id": "c90b3e84",
   "metadata": {},
   "outputs": [
    {
     "data": {
      "text/plain": [
       "<tf.Tensor: shape=(10,), dtype=float32, numpy=\n",
       "array([ 266.5922 ,  175.87617,  134.7107 ,  143.09607,  201.03209,\n",
       "        308.51907,  465.5567 ,  672.1454 ,  928.2845 , 1233.9739 ],\n",
       "      dtype=float32)>"
      ]
     },
     "execution_count": 59,
     "metadata": {},
     "output_type": "execute_result"
    }
   ],
   "source": [
    "mse = tf.metrics.mean_squared_error(y_true=y_test, y_pred=y_pred)\n",
    "mse"
   ]
  },
  {
   "cell_type": "markdown",
   "id": "422c2ed0",
   "metadata": {},
   "source": [
    "We have the same situation as when manually calculing MAE. We will use `tf.squeeze()` to solve the issue."
   ]
  },
  {
   "cell_type": "code",
   "execution_count": 60,
   "id": "98097d29",
   "metadata": {},
   "outputs": [
    {
     "data": {
      "text/plain": [
       "<tf.Tensor: shape=(), dtype=float32, numpy=124.4645>"
      ]
     },
     "execution_count": 60,
     "metadata": {},
     "output_type": "execute_result"
    }
   ],
   "source": [
    "mse = tf.metrics.mean_squared_error(y_true=y_test, y_pred= tf.squeeze(y_pred) )\n",
    "mse"
   ]
  },
  {
   "cell_type": "markdown",
   "id": "cc16b67b",
   "metadata": {},
   "source": [
    "MSE will typically be higher than MAE because, if we look at their formula, there is a square operation in MSE."
   ]
  },
  {
   "cell_type": "code",
   "execution_count": null,
   "id": "804b9b8b",
   "metadata": {},
   "outputs": [],
   "source": []
  },
  {
   "cell_type": "markdown",
   "id": "dcfe3cf7",
   "metadata": {},
   "source": [
    "#### Define a function for MAE and MSE\n",
    "It is so that the two of them can be used later"
   ]
  },
  {
   "cell_type": "code",
   "execution_count": 61,
   "id": "12fde13f",
   "metadata": {},
   "outputs": [],
   "source": [
    "def mae(y_true, y_pred):\n",
    "    return tf.metrics.mean_absolute_error(y_true=y_true, y_pred = y_pred)\n",
    "\n",
    "def mse(y_true, y_pred):\n",
    "    return tf.metrics.mean_squared_error(y_true=y_test, y_pred=y_pred)"
   ]
  },
  {
   "cell_type": "code",
   "execution_count": null,
   "id": "84618df1",
   "metadata": {},
   "outputs": [],
   "source": []
  },
  {
   "cell_type": "markdown",
   "id": "970c90c1",
   "metadata": {},
   "source": [
    "### Running experiments to improve a model\n",
    "\n",
    "So far :\n",
    "* some predictions where made with a trained model, \n",
    "* the predictions where compared to test data set, and the comparaison was visualized,\n",
    "* the predictions where where evaluated with regression evaluation metrics, such as MAE and MSE.\n",
    "\n",
    "The next question is : \"**How do we get the error values lower ?** (How do we minimize the difference between the model's predictions and the test labels)\". \n",
    "\n",
    "Remembering the workflow discussed before : `Build a model -> fit it -> evaluate it -> tweak it -> fit it -> tweak it -> ... `\n",
    "\n",
    "If the Machine Learning explorer's motto is `visualize, visualize, visualize`, in other words :\n",
    "* Visualizing our data\n",
    "* Visualizing our model\n",
    "* Visualizing our training\n",
    "* Visualizing our prediction\n",
    "\n",
    "Then, the Machine Learning practitioner's motto is `experiment, experiment, experiment, ...`. That is what we are going to do : try to run a few series of experiments to see if we can improve our model following the above mentioned workflow.\n",
    "\n",
    "Recalling some ways that we can improve our model :\n",
    "1. **Get more data** - get more examples for your model to train on (in other words, more opportunities to learn patterns/relationships between features and labels).\n",
    "1. **Make the model larger** (using a more complex model) -  this might come in the form of more layers, or more hidden units in each layer, or both.\n",
    "1. **Train for longer** - give the model more of a chance to find patterns in the data\n",
    "1. **Review how the model is compiled** - change the optimization function, or learning rate of the optimization function"
   ]
  },
  {
   "cell_type": "code",
   "execution_count": 62,
   "id": "5dab5076",
   "metadata": {},
   "outputs": [
    {
     "data": {
      "text/plain": [
       "(<tf.Tensor: shape=(40,), dtype=int32, numpy=\n",
       " array([-100,  -96,  -92,  -88,  -84,  -80,  -76,  -72,  -68,  -64,  -60,\n",
       "         -56,  -52,  -48,  -44,  -40,  -36,  -32,  -28,  -24,  -20,  -16,\n",
       "         -12,   -8,   -4,    0,    4,    8,   12,   16,   20,   24,   28,\n",
       "          32,   36,   40,   44,   48,   52,   56])>,\n",
       " <tf.Tensor: shape=(40,), dtype=int32, numpy=\n",
       " array([-90, -86, -82, -78, -74, -70, -66, -62, -58, -54, -50, -46, -42,\n",
       "        -38, -34, -30, -26, -22, -18, -14, -10,  -6,  -2,   2,   6,  10,\n",
       "         14,  18,  22,  26,  30,  34,  38,  42,  46,  50,  54,  58,  62,\n",
       "         66])>)"
      ]
     },
     "execution_count": 62,
     "metadata": {},
     "output_type": "execute_result"
    }
   ],
   "source": [
    "# Recalling our dataset\n",
    "X_train, y_train"
   ]
  },
  {
   "cell_type": "markdown",
   "id": "3676c1da",
   "metadata": {},
   "source": [
    "The question now is `Looking at our datas, how can we improve our model ?`. Let us review our options :   \n",
    "\n",
    "1. Get more data ? We can't really get more data unless we just artificially make our datasest bigger, so this option is ruled out.\n",
    "1. Make the model larger ? Yes we can\n",
    "1. Train for longer ? Yes, we can\n",
    "1. Review how the model is compiled ? Yes we can\n",
    "\n",
    "In regard for this, let's design 03 experiments that we could do: \n",
    "1. `model_1` - same as the original model, 1 layer, trained for 100 epochs.\n",
    "1. `model_2` - 2 layers, trained for 100 epochs.\n",
    "1. `model_3` - 2 layers, trained for 500 epochs.\n",
    "\n",
    "The mindset of a Machine Learning practitioner is to start with a baseline model, and then change one of the parameters for his next experiment, then do the same for the next experiment, and so on."
   ]
  },
  {
   "cell_type": "code",
   "execution_count": null,
   "id": "603a60ba",
   "metadata": {},
   "outputs": [],
   "source": []
  },
  {
   "cell_type": "markdown",
   "id": "3c6d23e7",
   "metadata": {},
   "source": [
    "**Creating model_1**: 1 layer, trained for 100 epochs"
   ]
  },
  {
   "cell_type": "code",
   "execution_count": 63,
   "id": "99dd78e1",
   "metadata": {},
   "outputs": [
    {
     "name": "stdout",
     "output_type": "stream",
     "text": [
      "Epoch 1/100\n",
      "2/2 [==============================] - 1s 9ms/step - loss: 7.6166 - mae: 7.6166\n",
      "Epoch 2/100\n",
      "2/2 [==============================] - 0s 8ms/step - loss: 8.2671 - mae: 8.2671\n",
      "Epoch 3/100\n",
      "2/2 [==============================] - 0s 7ms/step - loss: 10.3688 - mae: 10.3688\n",
      "Epoch 4/100\n",
      "2/2 [==============================] - 0s 4ms/step - loss: 12.8076 - mae: 12.8076\n",
      "Epoch 5/100\n",
      "2/2 [==============================] - 0s 4ms/step - loss: 11.8517 - mae: 11.8517\n",
      "Epoch 6/100\n",
      "2/2 [==============================] - 0s 7ms/step - loss: 10.9753 - mae: 10.9753\n",
      "Epoch 7/100\n",
      "2/2 [==============================] - 0s 8ms/step - loss: 8.4480 - mae: 8.4480\n",
      "Epoch 8/100\n",
      "2/2 [==============================] - 0s 5ms/step - loss: 8.8629 - mae: 8.8629\n",
      "Epoch 9/100\n",
      "2/2 [==============================] - 0s 13ms/step - loss: 17.0813 - mae: 17.0813\n",
      "Epoch 10/100\n",
      "2/2 [==============================] - 0s 5ms/step - loss: 12.4744 - mae: 12.4744\n",
      "Epoch 11/100\n",
      "2/2 [==============================] - 0s 10ms/step - loss: 10.1922 - mae: 10.1922\n",
      "Epoch 12/100\n",
      "2/2 [==============================] - 0s 6ms/step - loss: 18.7322 - mae: 18.7322\n",
      "Epoch 13/100\n",
      "2/2 [==============================] - 0s 5ms/step - loss: 9.6937 - mae: 9.6937\n",
      "Epoch 14/100\n",
      "2/2 [==============================] - 0s 4ms/step - loss: 15.5245 - mae: 15.5245\n",
      "Epoch 15/100\n",
      "2/2 [==============================] - 0s 6ms/step - loss: 11.3597 - mae: 11.3597\n",
      "Epoch 16/100\n",
      "2/2 [==============================] - 0s 10ms/step - loss: 8.5470 - mae: 8.5470\n",
      "Epoch 17/100\n",
      "2/2 [==============================] - 0s 6ms/step - loss: 13.6586 - mae: 13.6586\n",
      "Epoch 18/100\n",
      "2/2 [==============================] - 0s 7ms/step - loss: 11.4940 - mae: 11.4940\n",
      "Epoch 19/100\n",
      "2/2 [==============================] - 0s 9ms/step - loss: 17.8666 - mae: 17.8666\n",
      "Epoch 20/100\n",
      "2/2 [==============================] - 0s 4ms/step - loss: 15.0016 - mae: 15.0016\n",
      "Epoch 21/100\n",
      "2/2 [==============================] - 0s 7ms/step - loss: 10.8715 - mae: 10.8715\n",
      "Epoch 22/100\n",
      "2/2 [==============================] - 0s 3ms/step - loss: 8.6259 - mae: 8.6259\n",
      "Epoch 23/100\n",
      "2/2 [==============================] - 0s 4ms/step - loss: 9.6786 - mae: 9.6786\n",
      "Epoch 24/100\n",
      "2/2 [==============================] - 0s 6ms/step - loss: 8.5740 - mae: 8.5740\n",
      "Epoch 25/100\n",
      "2/2 [==============================] - 0s 8ms/step - loss: 11.5812 - mae: 11.5812\n",
      "Epoch 26/100\n",
      "2/2 [==============================] - 0s 6ms/step - loss: 15.1381 - mae: 15.1381\n",
      "Epoch 27/100\n",
      "2/2 [==============================] - 0s 5ms/step - loss: 12.0286 - mae: 12.0286\n",
      "Epoch 28/100\n",
      "2/2 [==============================] - 0s 5ms/step - loss: 13.3163 - mae: 13.3163\n",
      "Epoch 29/100\n",
      "2/2 [==============================] - 0s 6ms/step - loss: 9.5888 - mae: 9.5888\n",
      "Epoch 30/100\n",
      "2/2 [==============================] - 0s 9ms/step - loss: 17.0897 - mae: 17.0897\n",
      "Epoch 31/100\n",
      "2/2 [==============================] - 0s 6ms/step - loss: 22.9574 - mae: 22.9574\n",
      "Epoch 32/100\n",
      "2/2 [==============================] - 0s 6ms/step - loss: 7.5445 - mae: 7.5445\n",
      "Epoch 33/100\n",
      "2/2 [==============================] - 0s 4ms/step - loss: 15.4283 - mae: 15.4283\n",
      "Epoch 34/100\n",
      "2/2 [==============================] - 0s 5ms/step - loss: 13.3548 - mae: 13.3548\n",
      "Epoch 35/100\n",
      "2/2 [==============================] - 0s 6ms/step - loss: 7.9721 - mae: 7.9721\n",
      "Epoch 36/100\n",
      "2/2 [==============================] - 0s 6ms/step - loss: 9.9758 - mae: 9.9758\n",
      "Epoch 37/100\n",
      "2/2 [==============================] - 0s 5ms/step - loss: 9.7262 - mae: 9.7262\n",
      "Epoch 38/100\n",
      "2/2 [==============================] - 0s 6ms/step - loss: 10.5916 - mae: 10.5916\n",
      "Epoch 39/100\n",
      "2/2 [==============================] - 0s 5ms/step - loss: 15.6698 - mae: 15.6698\n",
      "Epoch 40/100\n",
      "2/2 [==============================] - 0s 5ms/step - loss: 13.4191 - mae: 13.4191\n",
      "Epoch 41/100\n",
      "2/2 [==============================] - 0s 6ms/step - loss: 9.2770 - mae: 9.2770\n",
      "Epoch 42/100\n",
      "2/2 [==============================] - 0s 5ms/step - loss: 10.9904 - mae: 10.9904\n",
      "Epoch 43/100\n",
      "2/2 [==============================] - 0s 4ms/step - loss: 8.3256 - mae: 8.3256\n",
      "Epoch 44/100\n",
      "2/2 [==============================] - 0s 6ms/step - loss: 13.0335 - mae: 13.0335\n",
      "Epoch 45/100\n",
      "2/2 [==============================] - 0s 6ms/step - loss: 13.6784 - mae: 13.6784\n",
      "Epoch 46/100\n",
      "2/2 [==============================] - 0s 7ms/step - loss: 8.2834 - mae: 8.2834\n",
      "Epoch 47/100\n",
      "2/2 [==============================] - 0s 6ms/step - loss: 8.7133 - mae: 8.7133\n",
      "Epoch 48/100\n",
      "2/2 [==============================] - 0s 9ms/step - loss: 10.0121 - mae: 10.0121\n",
      "Epoch 49/100\n",
      "2/2 [==============================] - 0s 6ms/step - loss: 8.4982 - mae: 8.4982\n",
      "Epoch 50/100\n",
      "2/2 [==============================] - 0s 5ms/step - loss: 9.0030 - mae: 9.0030\n",
      "Epoch 51/100\n",
      "2/2 [==============================] - 0s 35ms/step - loss: 9.3642 - mae: 9.3642\n",
      "Epoch 52/100\n",
      "2/2 [==============================] - 0s 4ms/step - loss: 14.1560 - mae: 14.1560\n",
      "Epoch 53/100\n",
      "2/2 [==============================] - 0s 5ms/step - loss: 14.8873 - mae: 14.8873\n",
      "Epoch 54/100\n",
      "2/2 [==============================] - 0s 5ms/step - loss: 14.8273 - mae: 14.8273\n",
      "Epoch 55/100\n",
      "2/2 [==============================] - 0s 6ms/step - loss: 12.6087 - mae: 12.6087\n",
      "Epoch 56/100\n",
      "2/2 [==============================] - 0s 6ms/step - loss: 7.5922 - mae: 7.5922\n",
      "Epoch 57/100\n",
      "2/2 [==============================] - 0s 7ms/step - loss: 8.7773 - mae: 8.7773\n",
      "Epoch 58/100\n",
      "2/2 [==============================] - 0s 6ms/step - loss: 8.3671 - mae: 8.3671\n",
      "Epoch 59/100\n",
      "2/2 [==============================] - 0s 6ms/step - loss: 9.1628 - mae: 9.1628\n",
      "Epoch 60/100\n",
      "2/2 [==============================] - 0s 5ms/step - loss: 9.1064 - mae: 9.1064\n",
      "Epoch 61/100\n",
      "2/2 [==============================] - 0s 5ms/step - loss: 10.6422 - mae: 10.6422\n",
      "Epoch 62/100\n",
      "2/2 [==============================] - 0s 9ms/step - loss: 7.4302 - mae: 7.4302\n",
      "Epoch 63/100\n",
      "2/2 [==============================] - 0s 6ms/step - loss: 10.5282 - mae: 10.5282\n",
      "Epoch 64/100\n",
      "2/2 [==============================] - 0s 6ms/step - loss: 12.1406 - mae: 12.1406\n",
      "Epoch 65/100\n",
      "2/2 [==============================] - 0s 6ms/step - loss: 9.4593 - mae: 9.4593\n",
      "Epoch 66/100\n",
      "2/2 [==============================] - 0s 7ms/step - loss: 11.5483 - mae: 11.5483\n",
      "Epoch 67/100\n",
      "2/2 [==============================] - 0s 8ms/step - loss: 8.0114 - mae: 8.0114\n",
      "Epoch 68/100\n",
      "2/2 [==============================] - 0s 5ms/step - loss: 8.5465 - mae: 8.5465\n",
      "Epoch 69/100\n",
      "2/2 [==============================] - 0s 4ms/step - loss: 12.2120 - mae: 12.2120\n",
      "Epoch 70/100\n",
      "2/2 [==============================] - 0s 7ms/step - loss: 8.9275 - mae: 8.9275\n",
      "Epoch 71/100\n",
      "2/2 [==============================] - 0s 6ms/step - loss: 9.9005 - mae: 9.9005\n",
      "Epoch 72/100\n",
      "2/2 [==============================] - 0s 6ms/step - loss: 9.9450 - mae: 9.9450\n",
      "Epoch 73/100\n",
      "2/2 [==============================] - 0s 5ms/step - loss: 12.3926 - mae: 12.3926\n",
      "Epoch 74/100\n",
      "2/2 [==============================] - 0s 6ms/step - loss: 10.6083 - mae: 10.6083\n",
      "Epoch 75/100\n",
      "2/2 [==============================] - 0s 6ms/step - loss: 9.6015 - mae: 9.6015\n",
      "Epoch 76/100\n",
      "2/2 [==============================] - 0s 5ms/step - loss: 11.0588 - mae: 11.0588\n",
      "Epoch 77/100\n",
      "2/2 [==============================] - 0s 6ms/step - loss: 8.2521 - mae: 8.2521\n",
      "Epoch 78/100\n",
      "2/2 [==============================] - 0s 5ms/step - loss: 8.9254 - mae: 8.9254\n",
      "Epoch 79/100\n",
      "2/2 [==============================] - 0s 5ms/step - loss: 19.8457 - mae: 19.8457\n",
      "Epoch 80/100\n",
      "2/2 [==============================] - 0s 7ms/step - loss: 17.7637 - mae: 17.7637\n",
      "Epoch 81/100\n",
      "2/2 [==============================] - 0s 5ms/step - loss: 7.0926 - mae: 7.0926\n",
      "Epoch 82/100\n",
      "2/2 [==============================] - 0s 5ms/step - loss: 10.3749 - mae: 10.3749\n",
      "Epoch 83/100\n",
      "2/2 [==============================] - 0s 6ms/step - loss: 9.7923 - mae: 9.7923\n",
      "Epoch 84/100\n",
      "2/2 [==============================] - 0s 6ms/step - loss: 7.9448 - mae: 7.9448\n",
      "Epoch 85/100\n",
      "2/2 [==============================] - 0s 5ms/step - loss: 9.4635 - mae: 9.4635\n",
      "Epoch 86/100\n",
      "2/2 [==============================] - 0s 5ms/step - loss: 9.5049 - mae: 9.5049\n",
      "Epoch 87/100\n",
      "2/2 [==============================] - 0s 6ms/step - loss: 11.4622 - mae: 11.4622\n",
      "Epoch 88/100\n"
     ]
    },
    {
     "name": "stdout",
     "output_type": "stream",
     "text": [
      "2/2 [==============================] - 0s 5ms/step - loss: 9.9586 - mae: 9.9586\n",
      "Epoch 89/100\n",
      "2/2 [==============================] - 0s 7ms/step - loss: 7.2459 - mae: 7.2459\n",
      "Epoch 90/100\n",
      "2/2 [==============================] - 0s 7ms/step - loss: 12.7258 - mae: 12.7258\n",
      "Epoch 91/100\n",
      "2/2 [==============================] - 0s 5ms/step - loss: 7.3164 - mae: 7.3164\n",
      "Epoch 92/100\n",
      "2/2 [==============================] - 0s 6ms/step - loss: 7.6822 - mae: 7.6822\n",
      "Epoch 93/100\n",
      "2/2 [==============================] - 0s 5ms/step - loss: 7.1082 - mae: 7.1082\n",
      "Epoch 94/100\n",
      "2/2 [==============================] - 0s 6ms/step - loss: 12.5696 - mae: 12.5696\n",
      "Epoch 95/100\n",
      "2/2 [==============================] - 0s 6ms/step - loss: 9.9429 - mae: 9.9429\n",
      "Epoch 96/100\n",
      "2/2 [==============================] - 0s 9ms/step - loss: 9.1171 - mae: 9.1171\n",
      "Epoch 97/100\n",
      "2/2 [==============================] - 0s 6ms/step - loss: 12.0428 - mae: 12.0428\n",
      "Epoch 98/100\n",
      "2/2 [==============================] - 0s 6ms/step - loss: 9.0898 - mae: 9.0898\n",
      "Epoch 99/100\n",
      "2/2 [==============================] - 0s 6ms/step - loss: 8.4806 - mae: 8.4806\n",
      "Epoch 100/100\n",
      "2/2 [==============================] - 0s 7ms/step - loss: 14.4119 - mae: 14.4119\n"
     ]
    }
   ],
   "source": [
    "# Set random seed\n",
    "tf.random.set_seed(42)\n",
    "\n",
    "# 1. Create the model\n",
    "model_1 = tf.keras.Sequential([\n",
    "    tf.keras.layers.Dense(1)\n",
    "])\n",
    "\n",
    "# 2. Compile the model\n",
    "model_1.compile(loss=tf.keras.losses.mae,\n",
    "               optimizer=tf.keras.optimizers.SGD(),\n",
    "               metrics=[\"mae\"])\n",
    "\n",
    "# 3. Fit the model\n",
    "model_1.fit(tf.expand_dims(X_train,axis=-1), y_train, epochs=100);"
   ]
  },
  {
   "cell_type": "code",
   "execution_count": 64,
   "id": "a4bc8d7f",
   "metadata": {},
   "outputs": [
    {
     "name": "stdout",
     "output_type": "stream",
     "text": [
      "WARNING:tensorflow:6 out of the last 7 calls to <function Model.make_predict_function.<locals>.predict_function at 0x0000013D3374E700> triggered tf.function retracing. Tracing is expensive and the excessive number of tracings could be due to (1) creating @tf.function repeatedly in a loop, (2) passing tensors with different shapes, (3) passing Python objects instead of tensors. For (1), please define your @tf.function outside of the loop. For (2), @tf.function has reduce_retracing=True option that can avoid unnecessary retracing. For (3), please refer to https://www.tensorflow.org/guide/function#controlling_retracing and https://www.tensorflow.org/api_docs/python/tf/function for  more details.\n",
      "1/1 [==============================] - 0s 168ms/step\n"
     ]
    },
    {
     "data": {
      "image/png": "[encoded data removed]",
      "text/plain": [
       "<Figure size 720x504 with 1 Axes>"
      ]
     },
     "metadata": {
      "needs_background": "light"
     },
     "output_type": "display_data"
    }
   ],
   "source": [
    "# Make and plot predictions for model_1\n",
    "y_preds_1 = model_1.predict(tf.expand_dims(X_test,axis=-1))\n",
    "plot_predictions(train_data=X_train,train_labels=y_train,test_data=X_test, test_labels=y_test,predictions=y_preds_1)"
   ]
  },
  {
   "cell_type": "code",
   "execution_count": 65,
   "id": "3ca03c4b",
   "metadata": {},
   "outputs": [
    {
     "data": {
      "text/plain": [
       "(<tf.Tensor: shape=(), dtype=float32, numpy=30.677832>,\n",
       " <tf.Tensor: shape=(), dtype=float32, numpy=951.6216>)"
      ]
     },
     "execution_count": 65,
     "metadata": {},
     "output_type": "execute_result"
    }
   ],
   "source": [
    "# Calculate model_1 evaluation metrics\n",
    "mae_1 = mae(y_test, tf.squeeze(y_preds_1))\n",
    "mse_1 = mse(y_test, tf.squeeze(y_preds_1))\n",
    "mae_1, mse_1"
   ]
  },
  {
   "cell_type": "code",
   "execution_count": null,
   "id": "9a1be0e4",
   "metadata": {},
   "outputs": [],
   "source": []
  },
  {
   "cell_type": "markdown",
   "id": "a70ad7e6",
   "metadata": {},
   "source": [
    "**Creating model_2**: 2 dense layers, trained for 100 epochs"
   ]
  },
  {
   "cell_type": "code",
   "execution_count": 66,
   "id": "cbb34ae4",
   "metadata": {},
   "outputs": [
    {
     "name": "stdout",
     "output_type": "stream",
     "text": [
      "Epoch 1/100\n",
      "2/2 [==============================] - 1s 6ms/step - loss: 72.0382 - mse: 8104.1392\n",
      "Epoch 2/100\n",
      "2/2 [==============================] - 0s 5ms/step - loss: 33.3782 - mse: 1737.0082\n",
      "Epoch 3/100\n",
      "2/2 [==============================] - 0s 6ms/step - loss: 23.8557 - mse: 835.1375\n",
      "Epoch 4/100\n",
      "2/2 [==============================] - 0s 5ms/step - loss: 12.5428 - mse: 234.5215\n",
      "Epoch 5/100\n",
      "2/2 [==============================] - 0s 5ms/step - loss: 15.4977 - mse: 308.1733\n",
      "Epoch 6/100\n",
      "2/2 [==============================] - 0s 5ms/step - loss: 12.3061 - mse: 189.4636\n",
      "Epoch 7/100\n",
      "2/2 [==============================] - 0s 5ms/step - loss: 11.6017 - mse: 164.5119\n",
      "Epoch 8/100\n",
      "2/2 [==============================] - 0s 5ms/step - loss: 11.2759 - mse: 181.7826\n",
      "Epoch 9/100\n",
      "2/2 [==============================] - 0s 5ms/step - loss: 42.4060 - mse: 2877.8538\n",
      "Epoch 10/100\n",
      "2/2 [==============================] - 0s 5ms/step - loss: 29.5491 - mse: 1236.3424\n",
      "Epoch 11/100\n",
      "2/2 [==============================] - 0s 4ms/step - loss: 7.7357 - mse: 83.8310\n",
      "Epoch 12/100\n",
      "2/2 [==============================] - 0s 5ms/step - loss: 28.5686 - mse: 1116.9545\n",
      "Epoch 13/100\n",
      "2/2 [==============================] - 0s 5ms/step - loss: 11.5268 - mse: 145.7301\n",
      "Epoch 14/100\n",
      "2/2 [==============================] - 0s 5ms/step - loss: 30.3146 - mse: 1473.0525\n",
      "Epoch 15/100\n",
      "2/2 [==============================] - 0s 5ms/step - loss: 20.0669 - mse: 564.8944\n",
      "Epoch 16/100\n",
      "2/2 [==============================] - 0s 6ms/step - loss: 9.9423 - mse: 125.4536\n",
      "Epoch 17/100\n",
      "2/2 [==============================] - 0s 5ms/step - loss: 17.8899 - mse: 424.6878\n",
      "Epoch 18/100\n",
      "2/2 [==============================] - 0s 5ms/step - loss: 14.3574 - mse: 327.0044\n",
      "Epoch 19/100\n",
      "2/2 [==============================] - 0s 5ms/step - loss: 14.4643 - mse: 329.3973\n",
      "Epoch 20/100\n",
      "2/2 [==============================] - 0s 5ms/step - loss: 10.4837 - mse: 148.8200\n",
      "Epoch 21/100\n",
      "2/2 [==============================] - 0s 5ms/step - loss: 15.2390 - mse: 315.0638\n",
      "Epoch 22/100\n",
      "2/2 [==============================] - 0s 7ms/step - loss: 15.5794 - mse: 334.4970\n",
      "Epoch 23/100\n",
      "2/2 [==============================] - 0s 6ms/step - loss: 9.2466 - mse: 118.9184\n",
      "Epoch 24/100\n",
      "2/2 [==============================] - 0s 6ms/step - loss: 17.2503 - mse: 407.5435\n",
      "Epoch 25/100\n",
      "2/2 [==============================] - 0s 5ms/step - loss: 15.9326 - mse: 333.3824\n",
      "Epoch 26/100\n",
      "2/2 [==============================] - 0s 5ms/step - loss: 20.9069 - mse: 648.2188\n",
      "Epoch 27/100\n",
      "2/2 [==============================] - 0s 4ms/step - loss: 26.0197 - mse: 1056.9210\n",
      "Epoch 28/100\n",
      "2/2 [==============================] - 0s 5ms/step - loss: 18.5112 - mse: 542.4891\n",
      "Epoch 29/100\n",
      "2/2 [==============================] - 0s 4ms/step - loss: 9.2553 - mse: 97.6692\n",
      "Epoch 30/100\n",
      "2/2 [==============================] - 0s 6ms/step - loss: 29.1209 - mse: 1516.3744\n",
      "Epoch 31/100\n",
      "2/2 [==============================] - 0s 6ms/step - loss: 52.7487 - mse: 4976.1772\n",
      "Epoch 32/100\n",
      "2/2 [==============================] - 0s 5ms/step - loss: 11.9516 - mse: 208.1623\n",
      "Epoch 33/100\n",
      "2/2 [==============================] - 0s 4ms/step - loss: 15.5476 - mse: 333.0869\n",
      "Epoch 34/100\n",
      "2/2 [==============================] - 0s 5ms/step - loss: 12.6373 - mse: 210.9232\n",
      "Epoch 35/100\n",
      "2/2 [==============================] - 0s 5ms/step - loss: 9.2204 - mse: 92.1415\n",
      "Epoch 36/100\n",
      "2/2 [==============================] - 0s 4ms/step - loss: 16.5287 - mse: 397.0984\n",
      "Epoch 37/100\n",
      "2/2 [==============================] - 0s 4ms/step - loss: 11.0807 - mse: 192.4534\n",
      "Epoch 38/100\n",
      "2/2 [==============================] - 0s 6ms/step - loss: 18.2087 - mse: 436.6140\n",
      "Epoch 39/100\n",
      "2/2 [==============================] - 0s 5ms/step - loss: 19.1429 - mse: 533.2745\n",
      "Epoch 40/100\n",
      "2/2 [==============================] - 0s 5ms/step - loss: 20.5052 - mse: 614.1267\n",
      "Epoch 41/100\n",
      "2/2 [==============================] - 0s 4ms/step - loss: 14.8348 - mse: 275.3594\n",
      "Epoch 42/100\n",
      "2/2 [==============================] - 0s 4ms/step - loss: 12.2247 - mse: 182.8635\n",
      "Epoch 43/100\n",
      "2/2 [==============================] - 0s 5ms/step - loss: 10.7108 - mse: 163.6682\n",
      "Epoch 44/100\n",
      "2/2 [==============================] - 0s 5ms/step - loss: 32.2895 - mse: 1715.1254\n",
      "Epoch 45/100\n",
      "2/2 [==============================] - 0s 4ms/step - loss: 12.4868 - mse: 202.3200\n",
      "Epoch 46/100\n",
      "2/2 [==============================] - 0s 8ms/step - loss: 17.5322 - mse: 460.6047\n",
      "Epoch 47/100\n",
      "2/2 [==============================] - 0s 6ms/step - loss: 15.7577 - mse: 339.3536\n",
      "Epoch 48/100\n",
      "2/2 [==============================] - 0s 5ms/step - loss: 8.3822 - mse: 112.9333\n",
      "Epoch 49/100\n",
      "2/2 [==============================] - 0s 5ms/step - loss: 13.9933 - mse: 269.0937\n",
      "Epoch 50/100\n",
      "2/2 [==============================] - 0s 5ms/step - loss: 12.8316 - mse: 215.5977\n",
      "Epoch 51/100\n",
      "2/2 [==============================] - 0s 6ms/step - loss: 14.8440 - mse: 309.7628\n",
      "Epoch 52/100\n",
      "2/2 [==============================] - 0s 5ms/step - loss: 18.7306 - mse: 530.0800\n",
      "Epoch 53/100\n",
      "2/2 [==============================] - 0s 5ms/step - loss: 24.1800 - mse: 829.1209\n",
      "Epoch 54/100\n",
      "2/2 [==============================] - 0s 6ms/step - loss: 23.1556 - mse: 802.9510\n",
      "Epoch 55/100\n",
      "2/2 [==============================] - 0s 6ms/step - loss: 24.0042 - mse: 866.8770\n",
      "Epoch 56/100\n",
      "2/2 [==============================] - 0s 5ms/step - loss: 11.1629 - mse: 171.3279\n",
      "Epoch 57/100\n",
      "2/2 [==============================] - 0s 5ms/step - loss: 13.1113 - mse: 213.5238\n",
      "Epoch 58/100\n",
      "2/2 [==============================] - 0s 5ms/step - loss: 9.8113 - mse: 106.2227\n",
      "Epoch 59/100\n",
      "2/2 [==============================] - 0s 6ms/step - loss: 13.2875 - mse: 247.9758\n",
      "Epoch 60/100\n",
      "2/2 [==============================] - 0s 5ms/step - loss: 10.8656 - mse: 138.8878\n",
      "Epoch 61/100\n",
      "2/2 [==============================] - 0s 6ms/step - loss: 13.4544 - mse: 240.2349\n",
      "Epoch 62/100\n",
      "2/2 [==============================] - 0s 5ms/step - loss: 17.4442 - mse: 464.1641\n",
      "Epoch 63/100\n",
      "2/2 [==============================] - 0s 5ms/step - loss: 9.1579 - mse: 87.8534\n",
      "Epoch 64/100\n",
      "2/2 [==============================] - 0s 5ms/step - loss: 18.3122 - mse: 487.4644\n",
      "Epoch 65/100\n",
      "2/2 [==============================] - 0s 5ms/step - loss: 10.1119 - mse: 114.4821\n",
      "Epoch 66/100\n",
      "2/2 [==============================] - 0s 6ms/step - loss: 24.1489 - mse: 879.1432\n",
      "Epoch 67/100\n",
      "2/2 [==============================] - 0s 5ms/step - loss: 10.8673 - mse: 141.5367\n",
      "Epoch 68/100\n",
      "2/2 [==============================] - 0s 5ms/step - loss: 10.7573 - mse: 157.0564\n",
      "Epoch 69/100\n",
      "2/2 [==============================] - 0s 6ms/step - loss: 23.1092 - mse: 771.4043\n",
      "Epoch 70/100\n",
      "2/2 [==============================] - 0s 6ms/step - loss: 8.8458 - mse: 143.0993\n",
      "Epoch 71/100\n",
      "2/2 [==============================] - 0s 7ms/step - loss: 16.0726 - mse: 352.2564\n",
      "Epoch 72/100\n",
      "2/2 [==============================] - 0s 5ms/step - loss: 7.7668 - mse: 91.5149\n",
      "Epoch 73/100\n",
      "2/2 [==============================] - 0s 4ms/step - loss: 10.1642 - mse: 165.3725\n",
      "Epoch 74/100\n",
      "2/2 [==============================] - 0s 5ms/step - loss: 28.3451 - mse: 1124.3177\n",
      "Epoch 75/100\n",
      "2/2 [==============================] - 0s 4ms/step - loss: 10.0074 - mse: 146.4803\n",
      "Epoch 76/100\n",
      "2/2 [==============================] - 0s 5ms/step - loss: 12.9198 - mse: 207.3019\n",
      "Epoch 77/100\n",
      "2/2 [==============================] - 0s 6ms/step - loss: 17.8489 - mse: 496.1915\n",
      "Epoch 78/100\n",
      "2/2 [==============================] - 0s 4ms/step - loss: 8.9698 - mse: 87.7363\n",
      "Epoch 79/100\n",
      "2/2 [==============================] - 0s 6ms/step - loss: 28.6532 - mse: 1295.7622\n",
      "Epoch 80/100\n",
      "2/2 [==============================] - 0s 5ms/step - loss: 30.9808 - mse: 1523.4122\n",
      "Epoch 81/100\n",
      "2/2 [==============================] - 0s 5ms/step - loss: 13.3806 - mse: 249.9260\n",
      "Epoch 82/100\n",
      "2/2 [==============================] - 0s 5ms/step - loss: 14.5359 - mse: 291.6607\n",
      "Epoch 83/100\n",
      "2/2 [==============================] - 0s 4ms/step - loss: 18.5642 - mse: 454.8311\n",
      "Epoch 84/100\n",
      "2/2 [==============================] - 0s 4ms/step - loss: 8.8280 - mse: 127.8825\n",
      "Epoch 85/100\n",
      "2/2 [==============================] - 0s 5ms/step - loss: 18.4456 - mse: 532.2540\n",
      "Epoch 86/100\n"
     ]
    },
    {
     "name": "stdout",
     "output_type": "stream",
     "text": [
      "2/2 [==============================] - 0s 5ms/step - loss: 22.4922 - mse: 723.6375\n",
      "Epoch 87/100\n",
      "2/2 [==============================] - 0s 5ms/step - loss: 11.3669 - mse: 153.7466\n",
      "Epoch 88/100\n",
      "2/2 [==============================] - 0s 6ms/step - loss: 26.4998 - mse: 1002.7697\n",
      "Epoch 89/100\n",
      "2/2 [==============================] - 0s 4ms/step - loss: 9.6525 - mse: 130.4024\n",
      "Epoch 90/100\n",
      "2/2 [==============================] - 0s 5ms/step - loss: 18.6643 - mse: 499.4825\n",
      "Epoch 91/100\n",
      "2/2 [==============================] - 0s 5ms/step - loss: 10.4789 - mse: 165.2522\n",
      "Epoch 92/100\n",
      "2/2 [==============================] - 0s 5ms/step - loss: 17.8860 - mse: 437.3913\n",
      "Epoch 93/100\n",
      "2/2 [==============================] - 0s 5ms/step - loss: 6.6022 - mse: 62.7019\n",
      "Epoch 94/100\n",
      "2/2 [==============================] - 0s 5ms/step - loss: 11.1221 - mse: 151.5097\n",
      "Epoch 95/100\n",
      "2/2 [==============================] - 0s 5ms/step - loss: 24.1846 - mse: 876.7552\n",
      "Epoch 96/100\n",
      "2/2 [==============================] - 0s 6ms/step - loss: 10.7238 - mse: 174.1083\n",
      "Epoch 97/100\n",
      "2/2 [==============================] - 0s 6ms/step - loss: 15.2408 - mse: 351.4146\n",
      "Epoch 98/100\n",
      "2/2 [==============================] - 0s 13ms/step - loss: 8.2525 - mse: 113.0660\n",
      "Epoch 99/100\n",
      "2/2 [==============================] - 0s 7ms/step - loss: 16.0472 - mse: 360.8416\n",
      "Epoch 100/100\n",
      "2/2 [==============================] - 0s 7ms/step - loss: 16.5531 - mse: 404.9203\n"
     ]
    },
    {
     "data": {
      "text/plain": [
       "<keras.callbacks.History at 0x13d348bf2e0>"
      ]
     },
     "execution_count": 66,
     "metadata": {},
     "output_type": "execute_result"
    }
   ],
   "source": [
    "# Set the random seed\n",
    "tf.random.set_seed(42)\n",
    "\n",
    "# 1. Create the model\n",
    "model_2 = tf.keras.Sequential([\n",
    "    tf.keras.layers.Dense(10, input_shape=[1], name=\"input_layer\"), # the number of unit (10) here is arbitrary, can be \n",
    "                                                                    #   set to anything\n",
    "    tf.keras.layers.Dense(1)\n",
    "])\n",
    "\n",
    "# 2. Compiling the model\n",
    "model_2.compile(loss=tf.keras.losses.mae,\n",
    "               optimizer= tf.keras.optimizers.SGD(),\n",
    "               metrics=[\"mse\"])\n",
    "\n",
    "# 3. Fit the model\n",
    "model_2.fit(X_train, y_train, epochs=100)"
   ]
  },
  {
   "cell_type": "code",
   "execution_count": 67,
   "id": "66520bba",
   "metadata": {},
   "outputs": [
    {
     "data": {
      "text/plain": [
       "<tf.Tensor: shape=(10,), dtype=int32, numpy=array([60, 64, 68, 72, 76, 80, 84, 88, 92, 96])>"
      ]
     },
     "execution_count": 67,
     "metadata": {},
     "output_type": "execute_result"
    }
   ],
   "source": [
    "X_test"
   ]
  },
  {
   "cell_type": "code",
   "execution_count": 68,
   "id": "dd823c5a",
   "metadata": {},
   "outputs": [
    {
     "name": "stdout",
     "output_type": "stream",
     "text": [
      "1/1 [==============================] - 0s 112ms/step\n"
     ]
    },
    {
     "data": {
      "image/png": "[encoded data removed]",
      "text/plain": [
       "<Figure size 720x504 with 1 Axes>"
      ]
     },
     "metadata": {
      "needs_background": "light"
     },
     "output_type": "display_data"
    }
   ],
   "source": [
    "# Make and plot predictions of model_2\n",
    "y_preds_2 = model_2.predict(X_test)\n",
    "plot_predictions(predictions=y_preds_2) #train_data=X_train,train_labels=y_train,test_data=X_test, test_labels=y_test,"
   ]
  },
  {
   "cell_type": "markdown",
   "id": "da9172b2",
   "metadata": {},
   "source": [
    "Our red dots (predictions) are a lot closer to the green dots (test label). This model is much better than the previous one."
   ]
  },
  {
   "cell_type": "code",
   "execution_count": 69,
   "id": "e546497e",
   "metadata": {},
   "outputs": [
    {
     "data": {
      "text/plain": [
       "(<tf.Tensor: shape=(), dtype=float32, numpy=4.0797415>,\n",
       " <tf.Tensor: shape=(), dtype=float32, numpy=19.999775>)"
      ]
     },
     "execution_count": 69,
     "metadata": {},
     "output_type": "execute_result"
    }
   ],
   "source": [
    "# Calculate model_2 evaluation metrics\n",
    "mae_2 = mae(y_test, tf.squeeze(y_preds_2))\n",
    "mse_2 = mse(y_test, tf.squeeze(y_preds_2))\n",
    "\n",
    "mae_2, mse_2"
   ]
  },
  {
   "cell_type": "code",
   "execution_count": 70,
   "id": "c8bdb12d",
   "metadata": {},
   "outputs": [
    {
     "data": {
      "text/plain": [
       "(<tf.Tensor: shape=(), dtype=float32, numpy=30.677832>,\n",
       " <tf.Tensor: shape=(), dtype=float32, numpy=951.6216>)"
      ]
     },
     "execution_count": 70,
     "metadata": {},
     "output_type": "execute_result"
    }
   ],
   "source": [
    "# Let's compare the above metrics with mae_1 & mse_1\n",
    "mae_1, mse_1"
   ]
  },
  {
   "cell_type": "markdown",
   "id": "87641eb8",
   "metadata": {},
   "source": [
    "We can confirm that model_2 is doing much better than model_1"
   ]
  },
  {
   "cell_type": "code",
   "execution_count": null,
   "id": "598ee01d",
   "metadata": {},
   "outputs": [],
   "source": []
  },
  {
   "cell_type": "markdown",
   "id": "3ea78437",
   "metadata": {},
   "source": [
    "**Build `model_3`** - 2 layers, trained for 500 epochs   \n",
    "\n",
    "The only thing we will change here, compared to model_2, is the number of epochs."
   ]
  },
  {
   "cell_type": "code",
   "execution_count": 71,
   "id": "53aed91f",
   "metadata": {},
   "outputs": [
    {
     "name": "stdout",
     "output_type": "stream",
     "text": [
      "Epoch 1/500\n",
      "2/2 [==============================] - 1s 5ms/step - loss: 34.4149 - mae: 34.4149\n",
      "Epoch 2/500\n",
      "2/2 [==============================] - 0s 5ms/step - loss: 27.9712 - mae: 27.9712\n",
      "Epoch 3/500\n",
      "2/2 [==============================] - 0s 11ms/step - loss: 34.0690 - mae: 34.0690\n",
      "Epoch 4/500\n",
      "2/2 [==============================] - 0s 7ms/step - loss: 23.0713 - mae: 23.0713\n",
      "Epoch 5/500\n",
      "2/2 [==============================] - 0s 5ms/step - loss: 13.8076 - mae: 13.8076\n",
      "Epoch 6/500\n",
      "2/2 [==============================] - 0s 6ms/step - loss: 11.0900 - mae: 11.0900\n",
      "Epoch 7/500\n",
      "2/2 [==============================] - 0s 8ms/step - loss: 12.0901 - mae: 12.0901\n",
      "Epoch 8/500\n",
      "2/2 [==============================] - 0s 6ms/step - loss: 10.8756 - mae: 10.8756\n",
      "Epoch 9/500\n",
      "2/2 [==============================] - 0s 6ms/step - loss: 37.6893 - mae: 37.6893\n",
      "Epoch 10/500\n",
      "2/2 [==============================] - 0s 4ms/step - loss: 25.3259 - mae: 25.3259\n",
      "Epoch 11/500\n",
      "2/2 [==============================] - 0s 5ms/step - loss: 10.2475 - mae: 10.2475\n",
      "Epoch 12/500\n",
      "2/2 [==============================] - 0s 4ms/step - loss: 25.3621 - mae: 25.3621\n",
      "Epoch 13/500\n",
      "2/2 [==============================] - 0s 6ms/step - loss: 16.8837 - mae: 16.8837\n",
      "Epoch 14/500\n",
      "2/2 [==============================] - 0s 5ms/step - loss: 25.7288 - mae: 25.7288\n",
      "Epoch 15/500\n",
      "2/2 [==============================] - 0s 6ms/step - loss: 17.5863 - mae: 17.5863\n",
      "Epoch 16/500\n",
      "2/2 [==============================] - 0s 5ms/step - loss: 10.0506 - mae: 10.0506\n",
      "Epoch 17/500\n",
      "2/2 [==============================] - 0s 5ms/step - loss: 18.5992 - mae: 18.5992\n",
      "Epoch 18/500\n",
      "2/2 [==============================] - 0s 5ms/step - loss: 11.7523 - mae: 11.7523\n",
      "Epoch 19/500\n",
      "2/2 [==============================] - 0s 5ms/step - loss: 16.4215 - mae: 16.4215\n",
      "Epoch 20/500\n",
      "2/2 [==============================] - 0s 6ms/step - loss: 8.2441 - mae: 8.2441\n",
      "Epoch 21/500\n",
      "2/2 [==============================] - 0s 6ms/step - loss: 14.4419 - mae: 14.4419\n",
      "Epoch 22/500\n",
      "2/2 [==============================] - 0s 6ms/step - loss: 12.8591 - mae: 12.8591\n",
      "Epoch 23/500\n",
      "2/2 [==============================] - 0s 6ms/step - loss: 15.4926 - mae: 15.4926\n",
      "Epoch 24/500\n",
      "2/2 [==============================] - 0s 8ms/step - loss: 15.2830 - mae: 15.2830\n",
      "Epoch 25/500\n",
      "2/2 [==============================] - 0s 6ms/step - loss: 14.3496 - mae: 14.3496\n",
      "Epoch 26/500\n",
      "2/2 [==============================] - 0s 6ms/step - loss: 19.3649 - mae: 19.3649\n",
      "Epoch 27/500\n",
      "2/2 [==============================] - 0s 6ms/step - loss: 11.4400 - mae: 11.4400\n",
      "Epoch 28/500\n",
      "2/2 [==============================] - 0s 7ms/step - loss: 29.0324 - mae: 29.0324\n",
      "Epoch 29/500\n",
      "2/2 [==============================] - 0s 6ms/step - loss: 9.2489 - mae: 9.2489\n",
      "Epoch 30/500\n",
      "2/2 [==============================] - 0s 7ms/step - loss: 29.7823 - mae: 29.7823\n",
      "Epoch 31/500\n",
      "2/2 [==============================] - 0s 7ms/step - loss: 54.0333 - mae: 54.0333\n",
      "Epoch 32/500\n",
      "2/2 [==============================] - 0s 8ms/step - loss: 9.5555 - mae: 9.5555\n",
      "Epoch 33/500\n",
      "2/2 [==============================] - 0s 7ms/step - loss: 12.1452 - mae: 12.1452\n",
      "Epoch 34/500\n",
      "2/2 [==============================] - 0s 5ms/step - loss: 23.8358 - mae: 23.8358\n",
      "Epoch 35/500\n",
      "2/2 [==============================] - 0s 7ms/step - loss: 12.6309 - mae: 12.6309\n",
      "Epoch 36/500\n",
      "2/2 [==============================] - 0s 4ms/step - loss: 21.5561 - mae: 21.5561\n",
      "Epoch 37/500\n",
      "2/2 [==============================] - 0s 5ms/step - loss: 11.3546 - mae: 11.3546\n",
      "Epoch 38/500\n",
      "2/2 [==============================] - 0s 5ms/step - loss: 13.4241 - mae: 13.4241\n",
      "Epoch 39/500\n",
      "2/2 [==============================] - 0s 5ms/step - loss: 10.7695 - mae: 10.7695\n",
      "Epoch 40/500\n",
      "2/2 [==============================] - 0s 7ms/step - loss: 16.5424 - mae: 16.5424\n",
      "Epoch 41/500\n",
      "2/2 [==============================] - 0s 5ms/step - loss: 10.9439 - mae: 10.9439\n",
      "Epoch 42/500\n",
      "2/2 [==============================] - 0s 6ms/step - loss: 9.2782 - mae: 9.2782\n",
      "Epoch 43/500\n",
      "2/2 [==============================] - 0s 7ms/step - loss: 9.5849 - mae: 9.5849\n",
      "Epoch 44/500\n",
      "2/2 [==============================] - 0s 6ms/step - loss: 27.9150 - mae: 27.9150\n",
      "Epoch 45/500\n",
      "2/2 [==============================] - 0s 6ms/step - loss: 11.2618 - mae: 11.2618\n",
      "Epoch 46/500\n",
      "2/2 [==============================] - 0s 5ms/step - loss: 13.8588 - mae: 13.8588\n",
      "Epoch 47/500\n",
      "2/2 [==============================] - 0s 7ms/step - loss: 11.9191 - mae: 11.9191\n",
      "Epoch 48/500\n",
      "2/2 [==============================] - 0s 5ms/step - loss: 16.9525 - mae: 16.9525\n",
      "Epoch 49/500\n",
      "2/2 [==============================] - 0s 7ms/step - loss: 9.7733 - mae: 9.7733\n",
      "Epoch 50/500\n",
      "2/2 [==============================] - 0s 6ms/step - loss: 14.1669 - mae: 14.1669\n",
      "Epoch 51/500\n",
      "2/2 [==============================] - 0s 4ms/step - loss: 11.7348 - mae: 11.7348\n",
      "Epoch 52/500\n",
      "2/2 [==============================] - 0s 5ms/step - loss: 31.3943 - mae: 31.3943\n",
      "Epoch 53/500\n",
      "2/2 [==============================] - 0s 7ms/step - loss: 14.7269 - mae: 14.7269\n",
      "Epoch 54/500\n",
      "2/2 [==============================] - 0s 7ms/step - loss: 24.6202 - mae: 24.6202\n",
      "Epoch 55/500\n",
      "2/2 [==============================] - 0s 7ms/step - loss: 23.9034 - mae: 23.9034\n",
      "Epoch 56/500\n",
      "2/2 [==============================] - 0s 6ms/step - loss: 11.1206 - mae: 11.1206\n",
      "Epoch 57/500\n",
      "2/2 [==============================] - 0s 6ms/step - loss: 13.0609 - mae: 13.0609\n",
      "Epoch 58/500\n",
      "2/2 [==============================] - 0s 5ms/step - loss: 9.7803 - mae: 9.7803\n",
      "Epoch 59/500\n",
      "2/2 [==============================] - 0s 4ms/step - loss: 13.2419 - mae: 13.2419\n",
      "Epoch 60/500\n",
      "2/2 [==============================] - 0s 5ms/step - loss: 10.8341 - mae: 10.8341\n",
      "Epoch 61/500\n",
      "2/2 [==============================] - 0s 5ms/step - loss: 13.4189 - mae: 13.4189\n",
      "Epoch 62/500\n",
      "2/2 [==============================] - 0s 7ms/step - loss: 17.3970 - mae: 17.3970\n",
      "Epoch 63/500\n",
      "2/2 [==============================] - 0s 5ms/step - loss: 9.1374 - mae: 9.1374\n",
      "Epoch 64/500\n",
      "2/2 [==============================] - 0s 5ms/step - loss: 18.2710 - mae: 18.2710\n",
      "Epoch 65/500\n",
      "2/2 [==============================] - 0s 6ms/step - loss: 10.0925 - mae: 10.0925\n",
      "Epoch 66/500\n",
      "2/2 [==============================] - 0s 5ms/step - loss: 24.1087 - mae: 24.1087\n",
      "Epoch 67/500\n",
      "2/2 [==============================] - 0s 4ms/step - loss: 10.8447 - mae: 10.8447\n",
      "Epoch 68/500\n",
      "2/2 [==============================] - 0s 4ms/step - loss: 10.7388 - mae: 10.7388\n",
      "Epoch 69/500\n",
      "2/2 [==============================] - 0s 5ms/step - loss: 23.0833 - mae: 23.0833\n",
      "Epoch 70/500\n",
      "2/2 [==============================] - 0s 5ms/step - loss: 8.8433 - mae: 8.8433\n",
      "Epoch 71/500\n",
      "2/2 [==============================] - 0s 5ms/step - loss: 16.0736 - mae: 16.0736\n",
      "Epoch 72/500\n",
      "2/2 [==============================] - 0s 5ms/step - loss: 7.7580 - mae: 7.7580\n",
      "Epoch 73/500\n",
      "2/2 [==============================] - 0s 5ms/step - loss: 10.1608 - mae: 10.1608\n",
      "Epoch 74/500\n",
      "2/2 [==============================] - 0s 5ms/step - loss: 28.3451 - mae: 28.3451\n",
      "Epoch 75/500\n",
      "2/2 [==============================] - 0s 5ms/step - loss: 9.9962 - mae: 9.9962\n",
      "Epoch 76/500\n",
      "2/2 [==============================] - 0s 6ms/step - loss: 12.9096 - mae: 12.9096\n",
      "Epoch 77/500\n",
      "2/2 [==============================] - 0s 5ms/step - loss: 17.8545 - mae: 17.8545\n",
      "Epoch 78/500\n",
      "2/2 [==============================] - 0s 5ms/step - loss: 8.9597 - mae: 8.9597\n",
      "Epoch 79/500\n",
      "2/2 [==============================] - 0s 5ms/step - loss: 28.6722 - mae: 28.6722\n",
      "Epoch 80/500\n",
      "2/2 [==============================] - 0s 5ms/step - loss: 31.0022 - mae: 31.0022\n",
      "Epoch 81/500\n",
      "2/2 [==============================] - 0s 5ms/step - loss: 13.3857 - mae: 13.3857\n",
      "Epoch 82/500\n",
      "2/2 [==============================] - 0s 4ms/step - loss: 14.5263 - mae: 14.5263\n",
      "Epoch 83/500\n",
      "2/2 [==============================] - 0s 5ms/step - loss: 18.5485 - mae: 18.5485\n",
      "Epoch 84/500\n",
      "2/2 [==============================] - 0s 5ms/step - loss: 8.8170 - mae: 8.8170\n",
      "Epoch 85/500\n",
      "2/2 [==============================] - 0s 5ms/step - loss: 18.4247 - mae: 18.4247\n",
      "Epoch 86/500\n",
      "2/2 [==============================] - 0s 5ms/step - loss: 22.5345 - mae: 22.5345\n",
      "Epoch 87/500\n"
     ]
    },
    {
     "name": "stdout",
     "output_type": "stream",
     "text": [
      "2/2 [==============================] - 0s 5ms/step - loss: 11.3652 - mae: 11.3652\n",
      "Epoch 88/500\n",
      "2/2 [==============================] - 0s 5ms/step - loss: 26.5556 - mae: 26.5556\n",
      "Epoch 89/500\n",
      "2/2 [==============================] - 0s 5ms/step - loss: 9.6517 - mae: 9.6517\n",
      "Epoch 90/500\n",
      "2/2 [==============================] - 0s 6ms/step - loss: 18.7130 - mae: 18.7130\n",
      "Epoch 91/500\n",
      "2/2 [==============================] - 0s 6ms/step - loss: 10.4842 - mae: 10.4842\n",
      "Epoch 92/500\n",
      "2/2 [==============================] - 0s 6ms/step - loss: 17.9404 - mae: 17.9404\n",
      "Epoch 93/500\n",
      "2/2 [==============================] - 0s 4ms/step - loss: 6.5894 - mae: 6.5894\n",
      "Epoch 94/500\n",
      "2/2 [==============================] - 0s 4ms/step - loss: 11.1317 - mae: 11.1317\n",
      "Epoch 95/500\n",
      "2/2 [==============================] - 0s 5ms/step - loss: 24.2739 - mae: 24.2739\n",
      "Epoch 96/500\n",
      "2/2 [==============================] - 0s 5ms/step - loss: 10.7357 - mae: 10.7357\n",
      "Epoch 97/500\n",
      "2/2 [==============================] - 0s 5ms/step - loss: 15.2999 - mae: 15.2999\n",
      "Epoch 98/500\n",
      "2/2 [==============================] - 0s 4ms/step - loss: 8.2570 - mae: 8.2570\n",
      "Epoch 99/500\n",
      "2/2 [==============================] - 0s 4ms/step - loss: 16.4594 - mae: 16.4594\n",
      "Epoch 100/500\n",
      "2/2 [==============================] - 0s 4ms/step - loss: 13.8716 - mae: 13.8716\n",
      "Epoch 101/500\n",
      "2/2 [==============================] - 0s 5ms/step - loss: 17.8146 - mae: 17.8146\n",
      "Epoch 102/500\n",
      "2/2 [==============================] - 0s 5ms/step - loss: 11.0176 - mae: 11.0176\n",
      "Epoch 103/500\n",
      "2/2 [==============================] - 0s 6ms/step - loss: 9.2855 - mae: 9.2855\n",
      "Epoch 104/500\n",
      "2/2 [==============================] - 0s 5ms/step - loss: 24.3659 - mae: 24.3659\n",
      "Epoch 105/500\n",
      "2/2 [==============================] - 0s 4ms/step - loss: 11.4036 - mae: 11.4036\n",
      "Epoch 106/500\n",
      "2/2 [==============================] - 0s 5ms/step - loss: 9.9817 - mae: 9.9817\n",
      "Epoch 107/500\n",
      "2/2 [==============================] - 0s 5ms/step - loss: 21.7864 - mae: 21.7864\n",
      "Epoch 108/500\n",
      "2/2 [==============================] - 0s 5ms/step - loss: 8.0173 - mae: 8.0173\n",
      "Epoch 109/500\n",
      "2/2 [==============================] - 0s 5ms/step - loss: 12.3516 - mae: 12.3516\n",
      "Epoch 110/500\n",
      "2/2 [==============================] - 0s 6ms/step - loss: 10.2961 - mae: 10.2961\n",
      "Epoch 111/500\n",
      "2/2 [==============================] - 0s 5ms/step - loss: 16.1098 - mae: 16.1098\n",
      "Epoch 112/500\n",
      "2/2 [==============================] - 0s 5ms/step - loss: 9.3508 - mae: 9.3508\n",
      "Epoch 113/500\n",
      "2/2 [==============================] - 0s 4ms/step - loss: 16.6461 - mae: 16.6461\n",
      "Epoch 114/500\n",
      "2/2 [==============================] - 0s 4ms/step - loss: 18.1244 - mae: 18.1244\n",
      "Epoch 115/500\n",
      "2/2 [==============================] - 0s 5ms/step - loss: 10.8237 - mae: 10.8237\n",
      "Epoch 116/500\n",
      "2/2 [==============================] - 0s 5ms/step - loss: 22.0398 - mae: 22.0398\n",
      "Epoch 117/500\n",
      "2/2 [==============================] - 0s 4ms/step - loss: 9.2489 - mae: 9.2489\n",
      "Epoch 118/500\n",
      "2/2 [==============================] - 0s 5ms/step - loss: 10.2524 - mae: 10.2524\n",
      "Epoch 119/500\n",
      "2/2 [==============================] - 0s 5ms/step - loss: 8.0406 - mae: 8.0406\n",
      "Epoch 120/500\n",
      "2/2 [==============================] - 0s 5ms/step - loss: 46.5143 - mae: 46.5143\n",
      "Epoch 121/500\n",
      "2/2 [==============================] - 0s 4ms/step - loss: 12.1608 - mae: 12.1608\n",
      "Epoch 122/500\n",
      "2/2 [==============================] - 0s 5ms/step - loss: 23.1814 - mae: 23.1814\n",
      "Epoch 123/500\n",
      "2/2 [==============================] - 0s 5ms/step - loss: 27.9441 - mae: 27.9441\n",
      "Epoch 124/500\n",
      "2/2 [==============================] - 0s 4ms/step - loss: 15.6721 - mae: 15.6721\n",
      "Epoch 125/500\n",
      "2/2 [==============================] - 0s 6ms/step - loss: 8.4180 - mae: 8.4180\n",
      "Epoch 126/500\n",
      "2/2 [==============================] - 0s 5ms/step - loss: 11.2762 - mae: 11.2762\n",
      "Epoch 127/500\n",
      "2/2 [==============================] - 0s 4ms/step - loss: 17.5591 - mae: 17.5591\n",
      "Epoch 128/500\n",
      "2/2 [==============================] - 0s 5ms/step - loss: 11.0594 - mae: 11.0594\n",
      "Epoch 129/500\n",
      "2/2 [==============================] - 0s 5ms/step - loss: 19.7138 - mae: 19.7138\n",
      "Epoch 130/500\n",
      "2/2 [==============================] - 0s 5ms/step - loss: 10.2082 - mae: 10.2082\n",
      "Epoch 131/500\n",
      "2/2 [==============================] - 0s 6ms/step - loss: 21.3632 - mae: 21.3632\n",
      "Epoch 132/500\n",
      "2/2 [==============================] - 0s 5ms/step - loss: 8.2424 - mae: 8.2424\n",
      "Epoch 133/500\n",
      "2/2 [==============================] - 0s 4ms/step - loss: 9.0265 - mae: 9.0265\n",
      "Epoch 134/500\n",
      "2/2 [==============================] - 0s 5ms/step - loss: 16.4110 - mae: 16.4110\n",
      "Epoch 135/500\n",
      "2/2 [==============================] - 0s 5ms/step - loss: 11.3289 - mae: 11.3289\n",
      "Epoch 136/500\n",
      "2/2 [==============================] - 0s 4ms/step - loss: 20.3418 - mae: 20.3418\n",
      "Epoch 137/500\n",
      "2/2 [==============================] - 0s 5ms/step - loss: 23.8135 - mae: 23.8135\n",
      "Epoch 138/500\n",
      "2/2 [==============================] - 0s 5ms/step - loss: 9.4302 - mae: 9.4302\n",
      "Epoch 139/500\n",
      "2/2 [==============================] - 0s 5ms/step - loss: 9.1156 - mae: 9.1156\n",
      "Epoch 140/500\n",
      "2/2 [==============================] - 0s 5ms/step - loss: 17.1661 - mae: 17.1661\n",
      "Epoch 141/500\n",
      "2/2 [==============================] - 0s 6ms/step - loss: 8.3759 - mae: 8.3759\n",
      "Epoch 142/500\n",
      "2/2 [==============================] - 0s 4ms/step - loss: 34.2932 - mae: 34.2932\n",
      "Epoch 143/500\n",
      "2/2 [==============================] - 0s 4ms/step - loss: 23.3327 - mae: 23.3327\n",
      "Epoch 144/500\n",
      "2/2 [==============================] - 0s 5ms/step - loss: 10.4995 - mae: 10.4995\n",
      "Epoch 145/500\n",
      "2/2 [==============================] - 0s 4ms/step - loss: 25.8502 - mae: 25.8502\n",
      "Epoch 146/500\n",
      "2/2 [==============================] - 0s 4ms/step - loss: 9.9558 - mae: 9.9558\n",
      "Epoch 147/500\n",
      "2/2 [==============================] - 0s 4ms/step - loss: 14.7539 - mae: 14.7539\n",
      "Epoch 148/500\n",
      "2/2 [==============================] - 0s 5ms/step - loss: 17.8681 - mae: 17.8681\n",
      "Epoch 149/500\n",
      "2/2 [==============================] - 0s 5ms/step - loss: 8.4560 - mae: 8.4560\n",
      "Epoch 150/500\n",
      "2/2 [==============================] - 0s 5ms/step - loss: 7.6342 - mae: 7.6342\n",
      "Epoch 151/500\n",
      "2/2 [==============================] - 0s 5ms/step - loss: 18.8028 - mae: 18.8028\n",
      "Epoch 152/500\n",
      "2/2 [==============================] - 0s 5ms/step - loss: 10.4709 - mae: 10.4709\n",
      "Epoch 153/500\n",
      "2/2 [==============================] - 0s 5ms/step - loss: 30.2962 - mae: 30.2962\n",
      "Epoch 154/500\n",
      "2/2 [==============================] - 0s 6ms/step - loss: 10.0164 - mae: 10.0164\n",
      "Epoch 155/500\n",
      "2/2 [==============================] - 0s 5ms/step - loss: 15.7643 - mae: 15.7643\n",
      "Epoch 156/500\n",
      "2/2 [==============================] - 0s 5ms/step - loss: 17.6978 - mae: 17.6978\n",
      "Epoch 157/500\n",
      "2/2 [==============================] - 0s 5ms/step - loss: 31.0459 - mae: 31.0459\n",
      "Epoch 158/500\n",
      "2/2 [==============================] - 0s 4ms/step - loss: 10.2153 - mae: 10.2153\n",
      "Epoch 159/500\n",
      "2/2 [==============================] - 0s 5ms/step - loss: 8.6990 - mae: 8.6990\n",
      "Epoch 160/500\n",
      "2/2 [==============================] - 0s 5ms/step - loss: 20.6966 - mae: 20.6966\n",
      "Epoch 161/500\n",
      "2/2 [==============================] - 0s 6ms/step - loss: 11.8063 - mae: 11.8063\n",
      "Epoch 162/500\n",
      "2/2 [==============================] - 0s 5ms/step - loss: 21.6723 - mae: 21.6723\n",
      "Epoch 163/500\n",
      "2/2 [==============================] - 0s 4ms/step - loss: 19.3507 - mae: 19.3507\n",
      "Epoch 164/500\n",
      "2/2 [==============================] - 0s 5ms/step - loss: 11.1192 - mae: 11.1192\n",
      "Epoch 165/500\n",
      "2/2 [==============================] - 0s 6ms/step - loss: 9.6338 - mae: 9.6338\n",
      "Epoch 166/500\n",
      "2/2 [==============================] - 0s 5ms/step - loss: 21.5753 - mae: 21.5753\n",
      "Epoch 167/500\n",
      "2/2 [==============================] - 0s 5ms/step - loss: 26.3426 - mae: 26.3426\n",
      "Epoch 168/500\n",
      "2/2 [==============================] - 0s 5ms/step - loss: 9.9245 - mae: 9.9245\n",
      "Epoch 169/500\n",
      "2/2 [==============================] - 0s 6ms/step - loss: 22.5766 - mae: 22.5766\n",
      "Epoch 170/500\n",
      "2/2 [==============================] - 0s 4ms/step - loss: 10.1797 - mae: 10.1797\n",
      "Epoch 171/500\n",
      "2/2 [==============================] - 0s 4ms/step - loss: 18.0578 - mae: 18.0578\n",
      "Epoch 172/500\n",
      "2/2 [==============================] - 0s 4ms/step - loss: 28.8173 - mae: 28.8173\n",
      "Epoch 173/500\n"
     ]
    },
    {
     "name": "stdout",
     "output_type": "stream",
     "text": [
      "2/2 [==============================] - 0s 6ms/step - loss: 16.5310 - mae: 16.5310\n",
      "Epoch 174/500\n",
      "2/2 [==============================] - 0s 4ms/step - loss: 11.2420 - mae: 11.2420\n",
      "Epoch 175/500\n",
      "2/2 [==============================] - 0s 6ms/step - loss: 27.5946 - mae: 27.5946\n",
      "Epoch 176/500\n",
      "2/2 [==============================] - 0s 5ms/step - loss: 8.3143 - mae: 8.3143\n",
      "Epoch 177/500\n",
      "2/2 [==============================] - 0s 6ms/step - loss: 9.3086 - mae: 9.3086\n",
      "Epoch 178/500\n",
      "2/2 [==============================] - 0s 5ms/step - loss: 18.0958 - mae: 18.0958\n",
      "Epoch 179/500\n",
      "2/2 [==============================] - 0s 5ms/step - loss: 10.6391 - mae: 10.6391\n",
      "Epoch 180/500\n",
      "2/2 [==============================] - 0s 4ms/step - loss: 7.9439 - mae: 7.9439\n",
      "Epoch 181/500\n",
      "2/2 [==============================] - 0s 4ms/step - loss: 17.3328 - mae: 17.3328\n",
      "Epoch 182/500\n",
      "2/2 [==============================] - 0s 5ms/step - loss: 11.0312 - mae: 11.0312\n",
      "Epoch 183/500\n",
      "2/2 [==============================] - 0s 5ms/step - loss: 11.6794 - mae: 11.6794\n",
      "Epoch 184/500\n",
      "2/2 [==============================] - 0s 6ms/step - loss: 30.2304 - mae: 30.2304\n",
      "Epoch 185/500\n",
      "2/2 [==============================] - 0s 4ms/step - loss: 8.2262 - mae: 8.2262\n",
      "Epoch 186/500\n",
      "2/2 [==============================] - 0s 5ms/step - loss: 18.7137 - mae: 18.7137\n",
      "Epoch 187/500\n",
      "2/2 [==============================] - 0s 6ms/step - loss: 8.8127 - mae: 8.8127\n",
      "Epoch 188/500\n",
      "2/2 [==============================] - 0s 5ms/step - loss: 23.7026 - mae: 23.7026\n",
      "Epoch 189/500\n",
      "2/2 [==============================] - 0s 5ms/step - loss: 9.4219 - mae: 9.4219\n",
      "Epoch 190/500\n",
      "2/2 [==============================] - 0s 4ms/step - loss: 17.0912 - mae: 17.0912\n",
      "Epoch 191/500\n",
      "2/2 [==============================] - 0s 6ms/step - loss: 8.6129 - mae: 8.6129\n",
      "Epoch 192/500\n",
      "2/2 [==============================] - 0s 5ms/step - loss: 15.1918 - mae: 15.1918\n",
      "Epoch 193/500\n",
      "2/2 [==============================] - 0s 5ms/step - loss: 30.0286 - mae: 30.0286\n",
      "Epoch 194/500\n",
      "2/2 [==============================] - 0s 6ms/step - loss: 9.6710 - mae: 9.6710\n",
      "Epoch 195/500\n",
      "2/2 [==============================] - 0s 4ms/step - loss: 12.0377 - mae: 12.0377\n",
      "Epoch 196/500\n",
      "2/2 [==============================] - 0s 5ms/step - loss: 23.4017 - mae: 23.4017\n",
      "Epoch 197/500\n",
      "2/2 [==============================] - 0s 6ms/step - loss: 17.8386 - mae: 17.8386\n",
      "Epoch 198/500\n",
      "2/2 [==============================] - 0s 5ms/step - loss: 12.6266 - mae: 12.6266\n",
      "Epoch 199/500\n",
      "2/2 [==============================] - 0s 5ms/step - loss: 18.0945 - mae: 18.0945\n",
      "Epoch 200/500\n",
      "2/2 [==============================] - 0s 6ms/step - loss: 13.9249 - mae: 13.9249\n",
      "Epoch 201/500\n",
      "2/2 [==============================] - 0s 6ms/step - loss: 6.1136 - mae: 6.1136\n",
      "Epoch 202/500\n",
      "2/2 [==============================] - 0s 4ms/step - loss: 22.8973 - mae: 22.8973\n",
      "Epoch 203/500\n",
      "2/2 [==============================] - 0s 5ms/step - loss: 9.0362 - mae: 9.0362\n",
      "Epoch 204/500\n",
      "2/2 [==============================] - 0s 6ms/step - loss: 18.8385 - mae: 18.8385\n",
      "Epoch 205/500\n",
      "2/2 [==============================] - 0s 5ms/step - loss: 9.4286 - mae: 9.4286\n",
      "Epoch 206/500\n",
      "2/2 [==============================] - 0s 5ms/step - loss: 10.4890 - mae: 10.4890\n",
      "Epoch 207/500\n",
      "2/2 [==============================] - 0s 5ms/step - loss: 21.0263 - mae: 21.0263\n",
      "Epoch 208/500\n",
      "2/2 [==============================] - 0s 6ms/step - loss: 16.4546 - mae: 16.4546\n",
      "Epoch 209/500\n",
      "2/2 [==============================] - 0s 4ms/step - loss: 14.3200 - mae: 14.3200\n",
      "Epoch 210/500\n",
      "2/2 [==============================] - 0s 4ms/step - loss: 17.2752 - mae: 17.2752\n",
      "Epoch 211/500\n",
      "2/2 [==============================] - 0s 4ms/step - loss: 10.2970 - mae: 10.2970\n",
      "Epoch 212/500\n",
      "2/2 [==============================] - 0s 4ms/step - loss: 19.7298 - mae: 19.7298\n",
      "Epoch 213/500\n",
      "2/2 [==============================] - 0s 5ms/step - loss: 14.6994 - mae: 14.6994\n",
      "Epoch 214/500\n",
      "2/2 [==============================] - 0s 5ms/step - loss: 14.3767 - mae: 14.3767\n",
      "Epoch 215/500\n",
      "2/2 [==============================] - 0s 6ms/step - loss: 22.8800 - mae: 22.8800\n",
      "Epoch 216/500\n",
      "2/2 [==============================] - 0s 6ms/step - loss: 13.9016 - mae: 13.9016\n",
      "Epoch 217/500\n",
      "2/2 [==============================] - 0s 4ms/step - loss: 10.3496 - mae: 10.3496\n",
      "Epoch 218/500\n",
      "2/2 [==============================] - 0s 5ms/step - loss: 12.2713 - mae: 12.2713\n",
      "Epoch 219/500\n",
      "2/2 [==============================] - 0s 5ms/step - loss: 6.5967 - mae: 6.5967\n",
      "Epoch 220/500\n",
      "2/2 [==============================] - 0s 5ms/step - loss: 7.1789 - mae: 7.1789\n",
      "Epoch 221/500\n",
      "2/2 [==============================] - 0s 5ms/step - loss: 37.4461 - mae: 37.4461\n",
      "Epoch 222/500\n",
      "2/2 [==============================] - 0s 6ms/step - loss: 37.2450 - mae: 37.2450\n",
      "Epoch 223/500\n",
      "2/2 [==============================] - 0s 5ms/step - loss: 6.1577 - mae: 6.1577\n",
      "Epoch 224/500\n",
      "2/2 [==============================] - 0s 5ms/step - loss: 14.5397 - mae: 14.5397\n",
      "Epoch 225/500\n",
      "2/2 [==============================] - 0s 5ms/step - loss: 16.5548 - mae: 16.5548\n",
      "Epoch 226/500\n",
      "2/2 [==============================] - 0s 4ms/step - loss: 15.7075 - mae: 15.7075\n",
      "Epoch 227/500\n",
      "2/2 [==============================] - 0s 5ms/step - loss: 16.1727 - mae: 16.1727\n",
      "Epoch 228/500\n",
      "2/2 [==============================] - 0s 4ms/step - loss: 9.3364 - mae: 9.3364\n",
      "Epoch 229/500\n",
      "2/2 [==============================] - 0s 5ms/step - loss: 18.0051 - mae: 18.0051\n",
      "Epoch 230/500\n",
      "2/2 [==============================] - 0s 5ms/step - loss: 15.6021 - mae: 15.6021\n",
      "Epoch 231/500\n",
      "2/2 [==============================] - 0s 6ms/step - loss: 21.1267 - mae: 21.1267\n",
      "Epoch 232/500\n",
      "2/2 [==============================] - 0s 6ms/step - loss: 25.4727 - mae: 25.4727\n",
      "Epoch 233/500\n",
      "2/2 [==============================] - 0s 6ms/step - loss: 16.4880 - mae: 16.4880\n",
      "Epoch 234/500\n",
      "2/2 [==============================] - 0s 7ms/step - loss: 7.3867 - mae: 7.3867\n",
      "Epoch 235/500\n",
      "2/2 [==============================] - 0s 5ms/step - loss: 17.1179 - mae: 17.1179\n",
      "Epoch 236/500\n",
      "2/2 [==============================] - 0s 6ms/step - loss: 7.2373 - mae: 7.2373\n",
      "Epoch 237/500\n",
      "2/2 [==============================] - 0s 4ms/step - loss: 9.3236 - mae: 9.3236\n",
      "Epoch 238/500\n",
      "2/2 [==============================] - 0s 5ms/step - loss: 8.1930 - mae: 8.1930\n",
      "Epoch 239/500\n",
      "2/2 [==============================] - 0s 7ms/step - loss: 17.0802 - mae: 17.0802\n",
      "Epoch 240/500\n",
      "2/2 [==============================] - 0s 7ms/step - loss: 8.9461 - mae: 8.9461\n",
      "Epoch 241/500\n",
      "2/2 [==============================] - 0s 5ms/step - loss: 12.8320 - mae: 12.8320\n",
      "Epoch 242/500\n",
      "2/2 [==============================] - 0s 5ms/step - loss: 10.9510 - mae: 10.9510\n",
      "Epoch 243/500\n",
      "2/2 [==============================] - 0s 5ms/step - loss: 17.3654 - mae: 17.3654\n",
      "Epoch 244/500\n",
      "2/2 [==============================] - 0s 6ms/step - loss: 14.5167 - mae: 14.5167\n",
      "Epoch 245/500\n",
      "2/2 [==============================] - 0s 6ms/step - loss: 15.0862 - mae: 15.0862\n",
      "Epoch 246/500\n",
      "2/2 [==============================] - 0s 5ms/step - loss: 16.1943 - mae: 16.1943\n",
      "Epoch 247/500\n",
      "2/2 [==============================] - 0s 8ms/step - loss: 18.1946 - mae: 18.1946\n",
      "Epoch 248/500\n",
      "2/2 [==============================] - 0s 5ms/step - loss: 13.7250 - mae: 13.7250\n",
      "Epoch 249/500\n",
      "2/2 [==============================] - 0s 5ms/step - loss: 14.8212 - mae: 14.8212\n",
      "Epoch 250/500\n",
      "2/2 [==============================] - 0s 4ms/step - loss: 18.5288 - mae: 18.5288\n",
      "Epoch 251/500\n",
      "2/2 [==============================] - 0s 5ms/step - loss: 13.8485 - mae: 13.8485\n",
      "Epoch 252/500\n",
      "2/2 [==============================] - 0s 7ms/step - loss: 29.4125 - mae: 29.4125\n",
      "Epoch 253/500\n",
      "2/2 [==============================] - 0s 5ms/step - loss: 8.3452 - mae: 8.3452\n",
      "Epoch 254/500\n",
      "2/2 [==============================] - 0s 6ms/step - loss: 11.8639 - mae: 11.8639\n",
      "Epoch 255/500\n",
      "2/2 [==============================] - 0s 5ms/step - loss: 16.0517 - mae: 16.0517\n",
      "Epoch 256/500\n",
      "2/2 [==============================] - 0s 5ms/step - loss: 9.1096 - mae: 9.1096\n",
      "Epoch 257/500\n",
      "2/2 [==============================] - 0s 5ms/step - loss: 12.4019 - mae: 12.4019\n",
      "Epoch 258/500\n",
      "2/2 [==============================] - 0s 5ms/step - loss: 7.9151 - mae: 7.9151\n"
     ]
    },
    {
     "name": "stdout",
     "output_type": "stream",
     "text": [
      "Epoch 259/500\n",
      "2/2 [==============================] - 0s 4ms/step - loss: 20.3207 - mae: 20.3207\n",
      "Epoch 260/500\n",
      "2/2 [==============================] - 0s 5ms/step - loss: 27.3634 - mae: 27.3634\n",
      "Epoch 261/500\n",
      "2/2 [==============================] - 0s 4ms/step - loss: 10.0574 - mae: 10.0574\n",
      "Epoch 262/500\n",
      "2/2 [==============================] - 0s 4ms/step - loss: 9.0698 - mae: 9.0698\n",
      "Epoch 263/500\n",
      "2/2 [==============================] - 0s 3ms/step - loss: 8.3777 - mae: 8.3777\n",
      "Epoch 264/500\n",
      "2/2 [==============================] - 0s 4ms/step - loss: 19.0630 - mae: 19.0630\n",
      "Epoch 265/500\n",
      "2/2 [==============================] - 0s 4ms/step - loss: 11.6523 - mae: 11.6523\n",
      "Epoch 266/500\n",
      "2/2 [==============================] - 0s 5ms/step - loss: 13.5208 - mae: 13.5208\n",
      "Epoch 267/500\n",
      "2/2 [==============================] - 0s 5ms/step - loss: 11.2101 - mae: 11.2101\n",
      "Epoch 268/500\n",
      "2/2 [==============================] - 0s 4ms/step - loss: 19.4470 - mae: 19.4470\n",
      "Epoch 269/500\n",
      "2/2 [==============================] - 0s 5ms/step - loss: 39.8136 - mae: 39.8136\n",
      "Epoch 270/500\n",
      "2/2 [==============================] - 0s 4ms/step - loss: 12.2949 - mae: 12.2949\n",
      "Epoch 271/500\n",
      "2/2 [==============================] - 0s 5ms/step - loss: 14.1090 - mae: 14.1090\n",
      "Epoch 272/500\n",
      "2/2 [==============================] - 0s 5ms/step - loss: 27.9284 - mae: 27.9284\n",
      "Epoch 273/500\n",
      "2/2 [==============================] - 0s 6ms/step - loss: 8.0841 - mae: 8.0841\n",
      "Epoch 274/500\n",
      "2/2 [==============================] - 0s 5ms/step - loss: 6.4629 - mae: 6.4629\n",
      "Epoch 275/500\n",
      "2/2 [==============================] - 0s 5ms/step - loss: 34.1218 - mae: 34.1218\n",
      "Epoch 276/500\n",
      "2/2 [==============================] - 0s 4ms/step - loss: 8.0076 - mae: 8.0076\n",
      "Epoch 277/500\n",
      "2/2 [==============================] - 0s 5ms/step - loss: 25.4142 - mae: 25.4142\n",
      "Epoch 278/500\n",
      "2/2 [==============================] - 0s 4ms/step - loss: 11.5023 - mae: 11.5023\n",
      "Epoch 279/500\n",
      "2/2 [==============================] - 0s 5ms/step - loss: 16.2440 - mae: 16.2440\n",
      "Epoch 280/500\n",
      "2/2 [==============================] - 0s 5ms/step - loss: 21.5201 - mae: 21.5201\n",
      "Epoch 281/500\n",
      "2/2 [==============================] - 0s 4ms/step - loss: 23.1175 - mae: 23.1175\n",
      "Epoch 282/500\n",
      "2/2 [==============================] - 0s 4ms/step - loss: 8.0842 - mae: 8.0842\n",
      "Epoch 283/500\n",
      "2/2 [==============================] - 0s 5ms/step - loss: 8.3518 - mae: 8.3518\n",
      "Epoch 284/500\n",
      "2/2 [==============================] - 0s 5ms/step - loss: 25.8521 - mae: 25.8521\n",
      "Epoch 285/500\n",
      "2/2 [==============================] - 0s 5ms/step - loss: 14.3943 - mae: 14.3943\n",
      "Epoch 286/500\n",
      "2/2 [==============================] - 0s 5ms/step - loss: 4.5694 - mae: 4.5694\n",
      "Epoch 287/500\n",
      "2/2 [==============================] - 0s 7ms/step - loss: 12.9749 - mae: 12.9749\n",
      "Epoch 288/500\n",
      "2/2 [==============================] - 0s 4ms/step - loss: 24.7473 - mae: 24.7473\n",
      "Epoch 289/500\n",
      "2/2 [==============================] - 0s 5ms/step - loss: 9.7221 - mae: 9.7221\n",
      "Epoch 290/500\n",
      "2/2 [==============================] - 0s 6ms/step - loss: 11.7736 - mae: 11.7736\n",
      "Epoch 291/500\n",
      "2/2 [==============================] - 0s 5ms/step - loss: 10.1333 - mae: 10.1333\n",
      "Epoch 292/500\n",
      "2/2 [==============================] - 0s 6ms/step - loss: 16.7466 - mae: 16.7466\n",
      "Epoch 293/500\n",
      "2/2 [==============================] - 0s 7ms/step - loss: 17.5781 - mae: 17.5781\n",
      "Epoch 294/500\n",
      "2/2 [==============================] - 0s 5ms/step - loss: 29.9526 - mae: 29.9526\n",
      "Epoch 295/500\n",
      "2/2 [==============================] - 0s 6ms/step - loss: 8.0658 - mae: 8.0658\n",
      "Epoch 296/500\n",
      "2/2 [==============================] - 0s 5ms/step - loss: 16.1868 - mae: 16.1868\n",
      "Epoch 297/500\n",
      "2/2 [==============================] - 0s 5ms/step - loss: 14.5000 - mae: 14.5000\n",
      "Epoch 298/500\n",
      "2/2 [==============================] - 0s 6ms/step - loss: 21.8807 - mae: 21.8807\n",
      "Epoch 299/500\n",
      "2/2 [==============================] - 0s 5ms/step - loss: 20.6712 - mae: 20.6712\n",
      "Epoch 300/500\n",
      "2/2 [==============================] - 0s 5ms/step - loss: 9.4271 - mae: 9.4271\n",
      "Epoch 301/500\n",
      "2/2 [==============================] - 0s 5ms/step - loss: 12.9846 - mae: 12.9846\n",
      "Epoch 302/500\n",
      "2/2 [==============================] - 0s 5ms/step - loss: 7.5312 - mae: 7.5312\n",
      "Epoch 303/500\n",
      "2/2 [==============================] - 0s 4ms/step - loss: 18.4037 - mae: 18.4037\n",
      "Epoch 304/500\n",
      "2/2 [==============================] - 0s 6ms/step - loss: 11.8633 - mae: 11.8633\n",
      "Epoch 305/500\n",
      "2/2 [==============================] - 0s 5ms/step - loss: 9.0038 - mae: 9.0038\n",
      "Epoch 306/500\n",
      "2/2 [==============================] - 0s 6ms/step - loss: 21.4771 - mae: 21.4771\n",
      "Epoch 307/500\n",
      "2/2 [==============================] - 0s 6ms/step - loss: 8.3283 - mae: 8.3283\n",
      "Epoch 308/500\n",
      "2/2 [==============================] - 0s 5ms/step - loss: 21.0511 - mae: 21.0511\n",
      "Epoch 309/500\n",
      "2/2 [==============================] - 0s 6ms/step - loss: 19.0043 - mae: 19.0043\n",
      "Epoch 310/500\n",
      "2/2 [==============================] - 0s 6ms/step - loss: 5.9672 - mae: 5.9672\n",
      "Epoch 311/500\n",
      "2/2 [==============================] - 0s 5ms/step - loss: 8.8524 - mae: 8.8524\n",
      "Epoch 312/500\n",
      "2/2 [==============================] - 0s 6ms/step - loss: 29.9542 - mae: 29.9542\n",
      "Epoch 313/500\n",
      "2/2 [==============================] - 0s 6ms/step - loss: 7.7364 - mae: 7.7364\n",
      "Epoch 314/500\n",
      "2/2 [==============================] - 0s 6ms/step - loss: 9.9478 - mae: 9.9478\n",
      "Epoch 315/500\n",
      "2/2 [==============================] - 0s 5ms/step - loss: 23.7797 - mae: 23.7797\n",
      "Epoch 316/500\n",
      "2/2 [==============================] - 0s 6ms/step - loss: 16.3717 - mae: 16.3717\n",
      "Epoch 317/500\n",
      "2/2 [==============================] - 0s 8ms/step - loss: 20.9395 - mae: 20.9395\n",
      "Epoch 318/500\n",
      "2/2 [==============================] - 0s 4ms/step - loss: 9.3198 - mae: 9.3198\n",
      "Epoch 319/500\n",
      "2/2 [==============================] - 0s 8ms/step - loss: 11.9028 - mae: 11.9028\n",
      "Epoch 320/500\n",
      "2/2 [==============================] - 0s 5ms/step - loss: 12.5270 - mae: 12.5270\n",
      "Epoch 321/500\n",
      "2/2 [==============================] - 0s 6ms/step - loss: 5.3943 - mae: 5.3943\n",
      "Epoch 322/500\n",
      "2/2 [==============================] - 0s 5ms/step - loss: 14.1981 - mae: 14.1981\n",
      "Epoch 323/500\n",
      "2/2 [==============================] - 0s 5ms/step - loss: 18.6078 - mae: 18.6078\n",
      "Epoch 324/500\n",
      "2/2 [==============================] - 0s 6ms/step - loss: 18.0770 - mae: 18.0770\n",
      "Epoch 325/500\n",
      "2/2 [==============================] - 0s 5ms/step - loss: 7.2659 - mae: 7.2659\n",
      "Epoch 326/500\n",
      "2/2 [==============================] - 0s 6ms/step - loss: 22.1063 - mae: 22.1063\n",
      "Epoch 327/500\n",
      "2/2 [==============================] - 0s 6ms/step - loss: 22.0715 - mae: 22.0715\n",
      "Epoch 328/500\n",
      "2/2 [==============================] - 0s 5ms/step - loss: 13.2873 - mae: 13.2873\n",
      "Epoch 329/500\n",
      "2/2 [==============================] - 0s 4ms/step - loss: 16.2083 - mae: 16.2083\n",
      "Epoch 330/500\n",
      "2/2 [==============================] - 0s 5ms/step - loss: 7.4655 - mae: 7.4655\n",
      "Epoch 331/500\n",
      "2/2 [==============================] - 0s 4ms/step - loss: 23.0099 - mae: 23.0099\n",
      "Epoch 332/500\n",
      "2/2 [==============================] - 0s 6ms/step - loss: 13.6770 - mae: 13.6770\n",
      "Epoch 333/500\n",
      "2/2 [==============================] - 0s 5ms/step - loss: 10.7438 - mae: 10.7438\n",
      "Epoch 334/500\n",
      "2/2 [==============================] - 0s 5ms/step - loss: 7.0658 - mae: 7.0658\n",
      "Epoch 335/500\n",
      "2/2 [==============================] - 0s 5ms/step - loss: 13.0389 - mae: 13.0389\n",
      "Epoch 336/500\n",
      "2/2 [==============================] - 0s 5ms/step - loss: 32.3719 - mae: 32.3719\n",
      "Epoch 337/500\n",
      "2/2 [==============================] - 0s 5ms/step - loss: 10.6177 - mae: 10.6177\n",
      "Epoch 338/500\n",
      "2/2 [==============================] - 0s 6ms/step - loss: 20.0679 - mae: 20.0679\n",
      "Epoch 339/500\n",
      "2/2 [==============================] - 0s 6ms/step - loss: 34.0080 - mae: 34.0080\n",
      "Epoch 340/500\n",
      "2/2 [==============================] - 0s 6ms/step - loss: 8.7568 - mae: 8.7568\n",
      "Epoch 341/500\n",
      "2/2 [==============================] - 0s 6ms/step - loss: 21.6326 - mae: 21.6326\n",
      "Epoch 342/500\n",
      "2/2 [==============================] - 0s 6ms/step - loss: 13.9516 - mae: 13.9516\n",
      "Epoch 343/500\n",
      "2/2 [==============================] - 0s 6ms/step - loss: 11.8268 - mae: 11.8268\n",
      "Epoch 344/500\n"
     ]
    },
    {
     "name": "stdout",
     "output_type": "stream",
     "text": [
      "2/2 [==============================] - 0s 7ms/step - loss: 10.7796 - mae: 10.7796\n",
      "Epoch 345/500\n",
      "2/2 [==============================] - 0s 6ms/step - loss: 30.9845 - mae: 30.9845\n",
      "Epoch 346/500\n",
      "2/2 [==============================] - 0s 5ms/step - loss: 10.7221 - mae: 10.7221\n",
      "Epoch 347/500\n",
      "2/2 [==============================] - 0s 4ms/step - loss: 25.6972 - mae: 25.6972\n",
      "Epoch 348/500\n",
      "2/2 [==============================] - 0s 6ms/step - loss: 12.8617 - mae: 12.8617\n",
      "Epoch 349/500\n",
      "2/2 [==============================] - 0s 9ms/step - loss: 12.5107 - mae: 12.5107\n",
      "Epoch 350/500\n",
      "2/2 [==============================] - 0s 10ms/step - loss: 15.2539 - mae: 15.2539\n",
      "Epoch 351/500\n",
      "2/2 [==============================] - 0s 6ms/step - loss: 32.5285 - mae: 32.5285\n",
      "Epoch 352/500\n",
      "2/2 [==============================] - 0s 7ms/step - loss: 13.5649 - mae: 13.5649\n",
      "Epoch 353/500\n",
      "2/2 [==============================] - 0s 7ms/step - loss: 17.4741 - mae: 17.4741\n",
      "Epoch 354/500\n",
      "2/2 [==============================] - 0s 11ms/step - loss: 11.2023 - mae: 11.2023\n",
      "Epoch 355/500\n",
      "2/2 [==============================] - 0s 10ms/step - loss: 26.4459 - mae: 26.4459\n",
      "Epoch 356/500\n",
      "2/2 [==============================] - 0s 10ms/step - loss: 11.0360 - mae: 11.0360\n",
      "Epoch 357/500\n",
      "2/2 [==============================] - 0s 14ms/step - loss: 13.2780 - mae: 13.2780\n",
      "Epoch 358/500\n",
      "2/2 [==============================] - 0s 7ms/step - loss: 14.6954 - mae: 14.6954\n",
      "Epoch 359/500\n",
      "2/2 [==============================] - 0s 7ms/step - loss: 12.3822 - mae: 12.3822\n",
      "Epoch 360/500\n",
      "2/2 [==============================] - 0s 7ms/step - loss: 20.3706 - mae: 20.3706\n",
      "Epoch 361/500\n",
      "2/2 [==============================] - 0s 7ms/step - loss: 10.9266 - mae: 10.9266\n",
      "Epoch 362/500\n",
      "2/2 [==============================] - 0s 8ms/step - loss: 6.9170 - mae: 6.9170\n",
      "Epoch 363/500\n",
      "2/2 [==============================] - 0s 7ms/step - loss: 23.7441 - mae: 23.7441\n",
      "Epoch 364/500\n",
      "2/2 [==============================] - 0s 8ms/step - loss: 29.4352 - mae: 29.4352\n",
      "Epoch 365/500\n",
      "2/2 [==============================] - 0s 6ms/step - loss: 8.3489 - mae: 8.3489\n",
      "Epoch 366/500\n",
      "2/2 [==============================] - 0s 7ms/step - loss: 6.2043 - mae: 6.2043\n",
      "Epoch 367/500\n",
      "2/2 [==============================] - 0s 5ms/step - loss: 34.3513 - mae: 34.3513\n",
      "Epoch 368/500\n",
      "2/2 [==============================] - 0s 6ms/step - loss: 7.4101 - mae: 7.4101\n",
      "Epoch 369/500\n",
      "2/2 [==============================] - 0s 6ms/step - loss: 8.2422 - mae: 8.2422\n",
      "Epoch 370/500\n",
      "2/2 [==============================] - 0s 6ms/step - loss: 17.8938 - mae: 17.8938\n",
      "Epoch 371/500\n",
      "2/2 [==============================] - 0s 4ms/step - loss: 7.0883 - mae: 7.0883\n",
      "Epoch 372/500\n",
      "2/2 [==============================] - 0s 4ms/step - loss: 6.7014 - mae: 6.7014\n",
      "Epoch 373/500\n",
      "2/2 [==============================] - 0s 6ms/step - loss: 24.5073 - mae: 24.5073\n",
      "Epoch 374/500\n",
      "2/2 [==============================] - 0s 5ms/step - loss: 9.8417 - mae: 9.8417\n",
      "Epoch 375/500\n",
      "2/2 [==============================] - 0s 6ms/step - loss: 13.1560 - mae: 13.1560\n",
      "Epoch 376/500\n",
      "2/2 [==============================] - 0s 7ms/step - loss: 15.0374 - mae: 15.0374\n",
      "Epoch 377/500\n",
      "2/2 [==============================] - 0s 6ms/step - loss: 14.9507 - mae: 14.9507\n",
      "Epoch 378/500\n",
      "2/2 [==============================] - 0s 6ms/step - loss: 16.3967 - mae: 16.3967\n",
      "Epoch 379/500\n",
      "2/2 [==============================] - 0s 5ms/step - loss: 21.0723 - mae: 21.0723\n",
      "Epoch 380/500\n",
      "2/2 [==============================] - 0s 6ms/step - loss: 32.8490 - mae: 32.8490\n",
      "Epoch 381/500\n",
      "2/2 [==============================] - 0s 6ms/step - loss: 8.1317 - mae: 8.1317\n",
      "Epoch 382/500\n",
      "2/2 [==============================] - 0s 5ms/step - loss: 12.5231 - mae: 12.5231\n",
      "Epoch 383/500\n",
      "2/2 [==============================] - 0s 6ms/step - loss: 7.2683 - mae: 7.2683\n",
      "Epoch 384/500\n",
      "2/2 [==============================] - 0s 5ms/step - loss: 6.5558 - mae: 6.5558\n",
      "Epoch 385/500\n",
      "2/2 [==============================] - 0s 5ms/step - loss: 11.6563 - mae: 11.6563\n",
      "Epoch 386/500\n",
      "2/2 [==============================] - 0s 6ms/step - loss: 19.9829 - mae: 19.9829\n",
      "Epoch 387/500\n",
      "2/2 [==============================] - 0s 5ms/step - loss: 24.3645 - mae: 24.3645\n",
      "Epoch 388/500\n",
      "2/2 [==============================] - 0s 5ms/step - loss: 7.7564 - mae: 7.7564\n",
      "Epoch 389/500\n",
      "2/2 [==============================] - 0s 4ms/step - loss: 14.2159 - mae: 14.2159\n",
      "Epoch 390/500\n",
      "2/2 [==============================] - 0s 6ms/step - loss: 5.6231 - mae: 5.6231\n",
      "Epoch 391/500\n",
      "2/2 [==============================] - 0s 5ms/step - loss: 17.7983 - mae: 17.7983\n",
      "Epoch 392/500\n",
      "2/2 [==============================] - 0s 6ms/step - loss: 16.5912 - mae: 16.5912\n",
      "Epoch 393/500\n",
      "2/2 [==============================] - 0s 4ms/step - loss: 9.4005 - mae: 9.4005\n",
      "Epoch 394/500\n",
      "2/2 [==============================] - 0s 5ms/step - loss: 14.1824 - mae: 14.1824\n",
      "Epoch 395/500\n",
      "2/2 [==============================] - 0s 5ms/step - loss: 28.6039 - mae: 28.6039\n",
      "Epoch 396/500\n",
      "2/2 [==============================] - 0s 6ms/step - loss: 8.4194 - mae: 8.4194\n",
      "Epoch 397/500\n",
      "2/2 [==============================] - 0s 5ms/step - loss: 10.7048 - mae: 10.7048\n",
      "Epoch 398/500\n",
      "2/2 [==============================] - 0s 7ms/step - loss: 7.5485 - mae: 7.5485\n",
      "Epoch 399/500\n",
      "2/2 [==============================] - 0s 6ms/step - loss: 15.7608 - mae: 15.7608\n",
      "Epoch 400/500\n",
      "2/2 [==============================] - 0s 6ms/step - loss: 6.8906 - mae: 6.8906\n",
      "Epoch 401/500\n",
      "2/2 [==============================] - 0s 8ms/step - loss: 8.1198 - mae: 8.1198\n",
      "Epoch 402/500\n",
      "2/2 [==============================] - 0s 6ms/step - loss: 16.6163 - mae: 16.6163\n",
      "Epoch 403/500\n",
      "2/2 [==============================] - 0s 6ms/step - loss: 12.3869 - mae: 12.3869\n",
      "Epoch 404/500\n",
      "2/2 [==============================] - 0s 5ms/step - loss: 22.9251 - mae: 22.9251\n",
      "Epoch 405/500\n",
      "2/2 [==============================] - 0s 5ms/step - loss: 18.1298 - mae: 18.1298\n",
      "Epoch 406/500\n",
      "2/2 [==============================] - 0s 4ms/step - loss: 7.1671 - mae: 7.1671\n",
      "Epoch 407/500\n",
      "2/2 [==============================] - 0s 5ms/step - loss: 12.6894 - mae: 12.6894\n",
      "Epoch 408/500\n",
      "2/2 [==============================] - 0s 5ms/step - loss: 5.7616 - mae: 5.7616\n",
      "Epoch 409/500\n",
      "2/2 [==============================] - 0s 5ms/step - loss: 31.1551 - mae: 31.1551\n",
      "Epoch 410/500\n",
      "2/2 [==============================] - 0s 5ms/step - loss: 9.3199 - mae: 9.3199\n",
      "Epoch 411/500\n",
      "2/2 [==============================] - 0s 5ms/step - loss: 14.9155 - mae: 14.9155\n",
      "Epoch 412/500\n",
      "2/2 [==============================] - 0s 6ms/step - loss: 21.7961 - mae: 21.7961\n",
      "Epoch 413/500\n",
      "2/2 [==============================] - 0s 5ms/step - loss: 12.5619 - mae: 12.5619\n",
      "Epoch 414/500\n",
      "2/2 [==============================] - 0s 5ms/step - loss: 6.1485 - mae: 6.1485\n",
      "Epoch 415/500\n",
      "2/2 [==============================] - 0s 5ms/step - loss: 13.2534 - mae: 13.2534\n",
      "Epoch 416/500\n",
      "2/2 [==============================] - 0s 5ms/step - loss: 27.4876 - mae: 27.4876\n",
      "Epoch 417/500\n",
      "2/2 [==============================] - 0s 5ms/step - loss: 10.3376 - mae: 10.3376\n",
      "Epoch 418/500\n",
      "2/2 [==============================] - 0s 5ms/step - loss: 12.1155 - mae: 12.1155\n",
      "Epoch 419/500\n",
      "2/2 [==============================] - 0s 5ms/step - loss: 15.4559 - mae: 15.4559\n",
      "Epoch 420/500\n",
      "2/2 [==============================] - 0s 5ms/step - loss: 23.8265 - mae: 23.8265\n",
      "Epoch 421/500\n",
      "2/2 [==============================] - 0s 5ms/step - loss: 19.7864 - mae: 19.7864\n",
      "Epoch 422/500\n",
      "2/2 [==============================] - 0s 5ms/step - loss: 4.0882 - mae: 4.0882\n",
      "Epoch 423/500\n",
      "2/2 [==============================] - 0s 6ms/step - loss: 34.4624 - mae: 34.4624\n",
      "Epoch 424/500\n",
      "2/2 [==============================] - 0s 5ms/step - loss: 13.0001 - mae: 13.0001\n",
      "Epoch 425/500\n",
      "2/2 [==============================] - 0s 4ms/step - loss: 6.9942 - mae: 6.9942\n",
      "Epoch 426/500\n",
      "2/2 [==============================] - 0s 5ms/step - loss: 19.3970 - mae: 19.3970\n",
      "Epoch 427/500\n",
      "2/2 [==============================] - 0s 5ms/step - loss: 3.8201 - mae: 3.8201\n",
      "Epoch 428/500\n",
      "2/2 [==============================] - 0s 5ms/step - loss: 22.1273 - mae: 22.1273\n",
      "Epoch 429/500\n",
      "2/2 [==============================] - 0s 4ms/step - loss: 16.6621 - mae: 16.6621\n"
     ]
    },
    {
     "name": "stdout",
     "output_type": "stream",
     "text": [
      "Epoch 430/500\n",
      "2/2 [==============================] - 0s 4ms/step - loss: 11.5800 - mae: 11.5800\n",
      "Epoch 431/500\n",
      "2/2 [==============================] - 0s 5ms/step - loss: 10.7847 - mae: 10.7847\n",
      "Epoch 432/500\n",
      "2/2 [==============================] - 0s 4ms/step - loss: 11.6611 - mae: 11.6611\n",
      "Epoch 433/500\n",
      "2/2 [==============================] - 0s 6ms/step - loss: 10.8802 - mae: 10.8802\n",
      "Epoch 434/500\n",
      "2/2 [==============================] - 0s 6ms/step - loss: 30.6684 - mae: 30.6684\n",
      "Epoch 435/500\n",
      "2/2 [==============================] - 0s 4ms/step - loss: 11.2330 - mae: 11.2330\n",
      "Epoch 436/500\n",
      "2/2 [==============================] - 0s 5ms/step - loss: 28.7830 - mae: 28.7830\n",
      "Epoch 437/500\n",
      "2/2 [==============================] - 0s 5ms/step - loss: 8.1173 - mae: 8.1173\n",
      "Epoch 438/500\n",
      "2/2 [==============================] - 0s 5ms/step - loss: 12.8513 - mae: 12.8513\n",
      "Epoch 439/500\n",
      "2/2 [==============================] - 0s 5ms/step - loss: 33.9189 - mae: 33.9189\n",
      "Epoch 440/500\n",
      "2/2 [==============================] - 0s 4ms/step - loss: 15.4960 - mae: 15.4960\n",
      "Epoch 441/500\n",
      "2/2 [==============================] - 0s 5ms/step - loss: 17.8536 - mae: 17.8536\n",
      "Epoch 442/500\n",
      "2/2 [==============================] - 0s 4ms/step - loss: 17.5570 - mae: 17.5570\n",
      "Epoch 443/500\n",
      "2/2 [==============================] - 0s 5ms/step - loss: 7.7049 - mae: 7.7049\n",
      "Epoch 444/500\n",
      "2/2 [==============================] - 0s 5ms/step - loss: 22.8712 - mae: 22.8712\n",
      "Epoch 445/500\n",
      "2/2 [==============================] - 0s 5ms/step - loss: 12.1046 - mae: 12.1046\n",
      "Epoch 446/500\n",
      "2/2 [==============================] - 0s 4ms/step - loss: 10.5042 - mae: 10.5042\n",
      "Epoch 447/500\n",
      "2/2 [==============================] - 0s 5ms/step - loss: 16.9732 - mae: 16.9732\n",
      "Epoch 448/500\n",
      "2/2 [==============================] - 0s 4ms/step - loss: 11.6869 - mae: 11.6869\n",
      "Epoch 449/500\n",
      "2/2 [==============================] - 0s 5ms/step - loss: 14.8742 - mae: 14.8742\n",
      "Epoch 450/500\n",
      "2/2 [==============================] - 0s 5ms/step - loss: 17.6339 - mae: 17.6339\n",
      "Epoch 451/500\n",
      "2/2 [==============================] - 0s 6ms/step - loss: 14.6711 - mae: 14.6711\n",
      "Epoch 452/500\n",
      "2/2 [==============================] - 0s 5ms/step - loss: 31.3335 - mae: 31.3335\n",
      "Epoch 453/500\n",
      "2/2 [==============================] - 0s 6ms/step - loss: 10.6305 - mae: 10.6305\n",
      "Epoch 454/500\n",
      "2/2 [==============================] - 0s 5ms/step - loss: 26.9561 - mae: 26.9561\n",
      "Epoch 455/500\n",
      "2/2 [==============================] - 0s 5ms/step - loss: 12.0536 - mae: 12.0536\n",
      "Epoch 456/500\n",
      "2/2 [==============================] - 0s 5ms/step - loss: 15.4350 - mae: 15.4350\n",
      "Epoch 457/500\n",
      "2/2 [==============================] - 0s 6ms/step - loss: 19.2089 - mae: 19.2089\n",
      "Epoch 458/500\n",
      "2/2 [==============================] - 0s 5ms/step - loss: 23.1513 - mae: 23.1513\n",
      "Epoch 459/500\n",
      "2/2 [==============================] - 0s 5ms/step - loss: 16.5701 - mae: 16.5701\n",
      "Epoch 460/500\n",
      "2/2 [==============================] - 0s 5ms/step - loss: 3.3535 - mae: 3.3535\n",
      "Epoch 461/500\n",
      "2/2 [==============================] - 0s 6ms/step - loss: 14.8580 - mae: 14.8580\n",
      "Epoch 462/500\n",
      "2/2 [==============================] - 0s 4ms/step - loss: 14.6525 - mae: 14.6525\n",
      "Epoch 463/500\n",
      "2/2 [==============================] - 0s 5ms/step - loss: 16.1611 - mae: 16.1611\n",
      "Epoch 464/500\n",
      "2/2 [==============================] - 0s 5ms/step - loss: 13.4722 - mae: 13.4722\n",
      "Epoch 465/500\n",
      "2/2 [==============================] - 0s 5ms/step - loss: 22.7404 - mae: 22.7404\n",
      "Epoch 466/500\n",
      "2/2 [==============================] - 0s 4ms/step - loss: 22.2515 - mae: 22.2515\n",
      "Epoch 467/500\n",
      "2/2 [==============================] - 0s 4ms/step - loss: 12.4674 - mae: 12.4674\n",
      "Epoch 468/500\n",
      "2/2 [==============================] - 0s 6ms/step - loss: 10.9615 - mae: 10.9615\n",
      "Epoch 469/500\n",
      "2/2 [==============================] - 0s 5ms/step - loss: 27.3528 - mae: 27.3528\n",
      "Epoch 470/500\n",
      "2/2 [==============================] - 0s 5ms/step - loss: 12.5011 - mae: 12.5011\n",
      "Epoch 471/500\n",
      "2/2 [==============================] - 0s 4ms/step - loss: 12.0738 - mae: 12.0738\n",
      "Epoch 472/500\n",
      "2/2 [==============================] - 0s 4ms/step - loss: 15.5333 - mae: 15.5333\n",
      "Epoch 473/500\n",
      "2/2 [==============================] - 0s 4ms/step - loss: 15.5683 - mae: 15.5683\n",
      "Epoch 474/500\n",
      "2/2 [==============================] - 0s 4ms/step - loss: 8.8483 - mae: 8.8483\n",
      "Epoch 475/500\n",
      "2/2 [==============================] - 0s 5ms/step - loss: 5.5892 - mae: 5.5892\n",
      "Epoch 476/500\n",
      "2/2 [==============================] - 0s 5ms/step - loss: 8.8830 - mae: 8.8830\n",
      "Epoch 477/500\n",
      "2/2 [==============================] - 0s 4ms/step - loss: 28.4187 - mae: 28.4187\n",
      "Epoch 478/500\n",
      "2/2 [==============================] - 0s 5ms/step - loss: 7.1539 - mae: 7.1539\n",
      "Epoch 479/500\n",
      "2/2 [==============================] - 0s 5ms/step - loss: 5.9517 - mae: 5.9517\n",
      "Epoch 480/500\n",
      "2/2 [==============================] - 0s 5ms/step - loss: 18.5792 - mae: 18.5792\n",
      "Epoch 481/500\n",
      "2/2 [==============================] - 0s 4ms/step - loss: 10.9546 - mae: 10.9546\n",
      "Epoch 482/500\n",
      "2/2 [==============================] - 0s 5ms/step - loss: 18.4384 - mae: 18.4384\n",
      "Epoch 483/500\n",
      "2/2 [==============================] - 0s 4ms/step - loss: 19.8546 - mae: 19.8546\n",
      "Epoch 484/500\n",
      "2/2 [==============================] - 0s 4ms/step - loss: 18.0722 - mae: 18.0722\n",
      "Epoch 485/500\n",
      "2/2 [==============================] - 0s 4ms/step - loss: 7.9617 - mae: 7.9617\n",
      "Epoch 486/500\n",
      "2/2 [==============================] - 0s 4ms/step - loss: 19.5063 - mae: 19.5063\n",
      "Epoch 487/500\n",
      "2/2 [==============================] - 0s 5ms/step - loss: 12.1802 - mae: 12.1802\n",
      "Epoch 488/500\n",
      "2/2 [==============================] - 0s 5ms/step - loss: 12.4828 - mae: 12.4828\n",
      "Epoch 489/500\n",
      "2/2 [==============================] - 0s 5ms/step - loss: 16.1656 - mae: 16.1656\n",
      "Epoch 490/500\n",
      "2/2 [==============================] - 0s 5ms/step - loss: 14.3305 - mae: 14.3305\n",
      "Epoch 491/500\n",
      "2/2 [==============================] - 0s 4ms/step - loss: 26.4610 - mae: 26.4610\n",
      "Epoch 492/500\n",
      "2/2 [==============================] - 0s 5ms/step - loss: 13.4188 - mae: 13.4188\n",
      "Epoch 493/500\n",
      "2/2 [==============================] - 0s 6ms/step - loss: 9.2371 - mae: 9.2371\n",
      "Epoch 494/500\n",
      "2/2 [==============================] - 0s 4ms/step - loss: 13.3492 - mae: 13.3492\n",
      "Epoch 495/500\n",
      "2/2 [==============================] - 0s 5ms/step - loss: 14.3905 - mae: 14.3905\n",
      "Epoch 496/500\n",
      "2/2 [==============================] - 0s 4ms/step - loss: 12.5018 - mae: 12.5018\n",
      "Epoch 497/500\n",
      "2/2 [==============================] - 0s 4ms/step - loss: 17.8632 - mae: 17.8632\n",
      "Epoch 498/500\n",
      "2/2 [==============================] - 0s 5ms/step - loss: 23.0416 - mae: 23.0416\n",
      "Epoch 499/500\n",
      "2/2 [==============================] - 0s 4ms/step - loss: 8.8622 - mae: 8.8622\n",
      "Epoch 500/500\n",
      "2/2 [==============================] - 0s 5ms/step - loss: 14.4438 - mae: 14.4438\n"
     ]
    },
    {
     "data": {
      "text/plain": [
       "<keras.callbacks.History at 0x13d33759b80>"
      ]
     },
     "execution_count": 71,
     "metadata": {},
     "output_type": "execute_result"
    }
   ],
   "source": [
    "# Set random seed\n",
    "tf.random.set_seed(42)\n",
    "\n",
    "# 1. Create the model\n",
    "model_3 = tf.keras.Sequential([\n",
    "    tf.keras.layers.Dense(10, input_shape=[1], name=\"input_layer\"),\n",
    "    tf.keras.layers.Dense(1, name=\"output_layer\")\n",
    "])\n",
    "\n",
    "# 2. Compile the model\n",
    "model_3.compile(loss=tf.keras.losses.mae,\n",
    "               optimizer=tf.keras.optimizers.SGD(),\n",
    "               metrics=[\"mae\"])\n",
    "\n",
    "# 3. Fit the model\n",
    "model_3.fit(X_train, y_train, epochs=500)"
   ]
  },
  {
   "cell_type": "code",
   "execution_count": 72,
   "id": "1c49346c",
   "metadata": {},
   "outputs": [
    {
     "name": "stdout",
     "output_type": "stream",
     "text": [
      "1/1 [==============================] - 0s 99ms/step\n"
     ]
    },
    {
     "data": {
      "image/png": "[encoded data removed]",
      "text/plain": [
       "<Figure size 720x504 with 1 Axes>"
      ]
     },
     "metadata": {
      "needs_background": "light"
     },
     "output_type": "display_data"
    }
   ],
   "source": [
    "# Make and plot predictions\n",
    "y_preds_3 = model_3.predict(X_test)\n",
    "plot_predictions(predictions=y_preds_3)"
   ]
  },
  {
   "cell_type": "markdown",
   "id": "6577b4b6",
   "metadata": {},
   "source": [
    "This model is even worse than the first model.\n",
    "The reason for such a bad result should be that our model was trained for too long (500 epochs), so it is overfitting (this is a very important concept in Machine Learning, but we will not be cover it in this lesson).    \n",
    "This is a prime example of tweaking some hyper-parameters, even ones that you intuitively think should result in a better result, actually lead to a poor result."
   ]
  },
  {
   "cell_type": "code",
   "execution_count": 73,
   "id": "db92c5b8",
   "metadata": {},
   "outputs": [
    {
     "data": {
      "text/plain": [
       "(<tf.Tensor: shape=(), dtype=float32, numpy=58.131004>,\n",
       " <tf.Tensor: shape=(), dtype=float32, numpy=4726.5884>)"
      ]
     },
     "execution_count": 73,
     "metadata": {},
     "output_type": "execute_result"
    }
   ],
   "source": [
    "# model_3 evaluation metrics\n",
    "mae_3 = mae(X_test, tf.squeeze(y_preds_3))\n",
    "mse_3 = mse(y_test, tf.squeeze(y_preds_3))\n",
    "mae_3, mse_3"
   ]
  },
  {
   "cell_type": "code",
   "execution_count": null,
   "id": "7e03cda5",
   "metadata": {},
   "outputs": [],
   "source": []
  },
  {
   "cell_type": "markdown",
   "id": "deb2a077",
   "metadata": {},
   "source": [
    "🔑**Note** : It is good practice to start by small experiments (small models) and make sure they work, and then increase their scale when necessary."
   ]
  },
  {
   "cell_type": "code",
   "execution_count": null,
   "id": "37a7691e",
   "metadata": {},
   "outputs": [],
   "source": []
  },
  {
   "cell_type": "markdown",
   "id": "74304c21",
   "metadata": {},
   "source": [
    "### Comparing the results of our modelling experiments"
   ]
  },
  {
   "cell_type": "code",
   "execution_count": 74,
   "id": "55749623",
   "metadata": {},
   "outputs": [
    {
     "data": {
      "text/html": [
       "<div>\n",
       "<style scoped>\n",
       "    .dataframe tbody tr th:only-of-type {\n",
       "        vertical-align: middle;\n",
       "    }\n",
       "\n",
       "    .dataframe tbody tr th {\n",
       "        vertical-align: top;\n",
       "    }\n",
       "\n",
       "    .dataframe thead th {\n",
       "        text-align: right;\n",
       "    }\n",
       "</style>\n",
       "<table border=\"1\" class=\"dataframe\">\n",
       "  <thead>\n",
       "    <tr style=\"text-align: right;\">\n",
       "      <th></th>\n",
       "      <th>model</th>\n",
       "      <th>MAE</th>\n",
       "      <th>MSE</th>\n",
       "    </tr>\n",
       "  </thead>\n",
       "  <tbody>\n",
       "    <tr>\n",
       "      <th>0</th>\n",
       "      <td>model_1</td>\n",
       "      <td>tf.Tensor(30.677832, shape=(), dtype=float32)</td>\n",
       "      <td>tf.Tensor(951.6216, shape=(), dtype=float32)</td>\n",
       "    </tr>\n",
       "    <tr>\n",
       "      <th>1</th>\n",
       "      <td>model_2</td>\n",
       "      <td>tf.Tensor(4.0797415, shape=(), dtype=float32)</td>\n",
       "      <td>tf.Tensor(19.999775, shape=(), dtype=float32)</td>\n",
       "    </tr>\n",
       "    <tr>\n",
       "      <th>2</th>\n",
       "      <td>model_3</td>\n",
       "      <td>tf.Tensor(58.131004, shape=(), dtype=float32)</td>\n",
       "      <td>tf.Tensor(4726.5884, shape=(), dtype=float32)</td>\n",
       "    </tr>\n",
       "  </tbody>\n",
       "</table>\n",
       "</div>"
      ],
      "text/plain": [
       "     model                                            MAE  \\\n",
       "0  model_1  tf.Tensor(30.677832, shape=(), dtype=float32)   \n",
       "1  model_2  tf.Tensor(4.0797415, shape=(), dtype=float32)   \n",
       "2  model_3  tf.Tensor(58.131004, shape=(), dtype=float32)   \n",
       "\n",
       "                                             MSE  \n",
       "0   tf.Tensor(951.6216, shape=(), dtype=float32)  \n",
       "1  tf.Tensor(19.999775, shape=(), dtype=float32)  \n",
       "2  tf.Tensor(4726.5884, shape=(), dtype=float32)  "
      ]
     },
     "execution_count": 74,
     "metadata": {},
     "output_type": "execute_result"
    }
   ],
   "source": [
    "# Let's compare the result of our models using a dataframe\n",
    "\n",
    "model_results = [[\"model_1\", mae_1, mse_1], \n",
    "                 [\"model_2\", mae_2, mse_2],\n",
    "                 [\"model_3\", mae_3, mse_3]]\n",
    "# model_results = {\n",
    "#     \"model_1\": [ mae_1, mse_1],\n",
    "#     \"model_2\": [mae_2, mse_2],\n",
    "#     \"model_3\": [mae_3, mse_3],\n",
    "# }\n",
    "\n",
    "results_df = pd.DataFrame(model_results, columns=[\"model\",\"MAE\",\"MSE\"])\n",
    "results_df"
   ]
  },
  {
   "cell_type": "markdown",
   "id": "2b2be887",
   "metadata": {},
   "source": [
    "This result is not easily readable. So we will get the numpy value of the MAEs and MSEs"
   ]
  },
  {
   "cell_type": "code",
   "execution_count": 75,
   "id": "30be1716",
   "metadata": {},
   "outputs": [
    {
     "data": {
      "text/html": [
       "<div>\n",
       "<style scoped>\n",
       "    .dataframe tbody tr th:only-of-type {\n",
       "        vertical-align: middle;\n",
       "    }\n",
       "\n",
       "    .dataframe tbody tr th {\n",
       "        vertical-align: top;\n",
       "    }\n",
       "\n",
       "    .dataframe thead th {\n",
       "        text-align: right;\n",
       "    }\n",
       "</style>\n",
       "<table border=\"1\" class=\"dataframe\">\n",
       "  <thead>\n",
       "    <tr style=\"text-align: right;\">\n",
       "      <th></th>\n",
       "      <th>model</th>\n",
       "      <th>MAE</th>\n",
       "      <th>MSE</th>\n",
       "    </tr>\n",
       "  </thead>\n",
       "  <tbody>\n",
       "    <tr>\n",
       "      <th>0</th>\n",
       "      <td>model_1</td>\n",
       "      <td>30.677832</td>\n",
       "      <td>951.621582</td>\n",
       "    </tr>\n",
       "    <tr>\n",
       "      <th>1</th>\n",
       "      <td>model_2</td>\n",
       "      <td>4.079741</td>\n",
       "      <td>19.999775</td>\n",
       "    </tr>\n",
       "    <tr>\n",
       "      <th>2</th>\n",
       "      <td>model_3</td>\n",
       "      <td>58.131004</td>\n",
       "      <td>4726.588379</td>\n",
       "    </tr>\n",
       "  </tbody>\n",
       "</table>\n",
       "</div>"
      ],
      "text/plain": [
       "     model        MAE          MSE\n",
       "0  model_1  30.677832   951.621582\n",
       "1  model_2   4.079741    19.999775\n",
       "2  model_3  58.131004  4726.588379"
      ]
     },
     "execution_count": 75,
     "metadata": {},
     "output_type": "execute_result"
    }
   ],
   "source": [
    "model_results = [[\"model_1\", mae_1.numpy(), mse_1.numpy()], \n",
    "                 [\"model_2\", mae_2.numpy(), mse_2.numpy()],\n",
    "                 [\"model_3\", mae_3.numpy(), mse_3.numpy()]]\n",
    "\n",
    "results_df = pd.DataFrame(model_results, columns=[\"model\",\"MAE\",\"MSE\"])\n",
    "results_df"
   ]
  },
  {
   "cell_type": "markdown",
   "id": "63410c67",
   "metadata": {},
   "source": [
    "From the content of our dataframe, we can observe that model_2 perform the best. So we will look at its content."
   ]
  },
  {
   "cell_type": "code",
   "execution_count": 76,
   "id": "846ebbff",
   "metadata": {},
   "outputs": [
    {
     "name": "stdout",
     "output_type": "stream",
     "text": [
      "Model: \"sequential_10\"\n",
      "_________________________________________________________________\n",
      " Layer (type)                Output Shape              Param #   \n",
      "=================================================================\n",
      " input_layer (Dense)         (None, 10)                20        \n",
      "                                                                 \n",
      " dense_15 (Dense)            (None, 1)                 11        \n",
      "                                                                 \n",
      "=================================================================\n",
      "Total params: 31\n",
      "Trainable params: 31\n",
      "Non-trainable params: 0\n",
      "_________________________________________________________________\n"
     ]
    }
   ],
   "source": [
    "model_2.summary()"
   ]
  },
  {
   "cell_type": "markdown",
   "id": "317ff74b",
   "metadata": {},
   "source": [
    "> 🔑 **Notes** :\n",
    "> * One of our main goal should be to minimize the time between each experiment (so that we don't have to wait, say, 10min before runing the next modelling experiment). \n",
    "> * The more experiments ones does, the more things one will figure out which don't work, and in turn get closer to figure out what does work : it is a lot of trials and errors. Remember the ML practionner motto : experiment, experiment, experiment."
   ]
  },
  {
   "cell_type": "code",
   "execution_count": null,
   "id": "be5903ec",
   "metadata": {},
   "outputs": [],
   "source": []
  },
  {
   "cell_type": "markdown",
   "id": "72c6a165",
   "metadata": {},
   "source": [
    "### Tracking modelling experiments\n",
    "\n",
    "One good habit in ML modelling is to tracks experiments results.    \n",
    "\n",
    "Introducing tools that can help track results of experiments :\n",
    "* [**TensorBoard**](https://www.tensorflow.org/tensorboard) - a component of the TensorFlow library to help track modelling experiments.\n",
    "* [**Weights & Biases**](https://wandb.ai/site) - a tool for tracking all kind of ML experiments; it can be plugged into TensorBoard. \n",
    "\n",
    "TensorBoard's usage will be covered later."
   ]
  },
  {
   "cell_type": "code",
   "execution_count": null,
   "id": "3eedb62e",
   "metadata": {},
   "outputs": [],
   "source": []
  },
  {
   "cell_type": "markdown",
   "id": "2f3c0d83",
   "metadata": {},
   "source": [
    "### Save a model      \n",
    "Saving a model allow us to use it outside our notebook in place such as a web/mobile application.                  \n",
    "There are two main format we can save our model to :\n",
    "* SaveModel format : it is used when the saved model will only be used in the TensorFlow environement      \n",
    "* HDF5 format : it used when the saved model will be used outside of TensorFlow environement"
   ]
  },
  {
   "cell_type": "code",
   "execution_count": 77,
   "id": "4c736d88",
   "metadata": {},
   "outputs": [
    {
     "name": "stdout",
     "output_type": "stream",
     "text": [
      "INFO:tensorflow:Assets written to: ./saved-models/model_2_SaveModel_format\\assets\n"
     ]
    }
   ],
   "source": [
    "# Save a model using SaveModel format\n",
    "model_2.save(\"./saved-models/model_2_SaveModel_format\")"
   ]
  },
  {
   "cell_type": "code",
   "execution_count": 78,
   "id": "26dd5350",
   "metadata": {},
   "outputs": [],
   "source": [
    "# Save model using HDF5 format\n",
    "model_2.save(\"./saved-models/model_2_HDF5_format.h5\")"
   ]
  },
  {
   "cell_type": "code",
   "execution_count": null,
   "id": "1949574d",
   "metadata": {},
   "outputs": [],
   "source": []
  },
  {
   "cell_type": "markdown",
   "id": "e364a2f2",
   "metadata": {},
   "source": [
    "### Load a saved model   \n",
    "\n"
   ]
  },
  {
   "cell_type": "code",
   "execution_count": 79,
   "id": "dab2ffb8",
   "metadata": {},
   "outputs": [
    {
     "name": "stdout",
     "output_type": "stream",
     "text": [
      "Model: \"sequential_10\"\n",
      "_________________________________________________________________\n",
      " Layer (type)                Output Shape              Param #   \n",
      "=================================================================\n",
      " input_layer (Dense)         (None, 10)                20        \n",
      "                                                                 \n",
      " dense_15 (Dense)            (None, 1)                 11        \n",
      "                                                                 \n",
      "=================================================================\n",
      "Total params: 31\n",
      "Trainable params: 31\n",
      "Non-trainable params: 0\n",
      "_________________________________________________________________\n"
     ]
    }
   ],
   "source": [
    "# Recall the structure of our saved model\n",
    "model_2.summary()"
   ]
  },
  {
   "cell_type": "code",
   "execution_count": null,
   "id": "a6b13391",
   "metadata": {},
   "outputs": [],
   "source": []
  },
  {
   "cell_type": "code",
   "execution_count": 80,
   "id": "98a5dade",
   "metadata": {},
   "outputs": [
    {
     "name": "stdout",
     "output_type": "stream",
     "text": [
      "Model: \"sequential_10\"\n",
      "_________________________________________________________________\n",
      " Layer (type)                Output Shape              Param #   \n",
      "=================================================================\n",
      " input_layer (Dense)         (None, 10)                20        \n",
      "                                                                 \n",
      " dense_15 (Dense)            (None, 1)                 11        \n",
      "                                                                 \n",
      "=================================================================\n",
      "Total params: 31\n",
      "Trainable params: 31\n",
      "Non-trainable params: 0\n",
      "_________________________________________________________________\n"
     ]
    }
   ],
   "source": [
    "# Load the SaveModel format model\n",
    "loaded_SaveModel_format = tf.keras.models.load_model(\"./saved-models/model_2_SaveModel_format\")\n",
    "loaded_SaveModel_format.summary()"
   ]
  },
  {
   "cell_type": "markdown",
   "id": "9bedb2a3",
   "metadata": {},
   "source": [
    "We can confirm that loaded_SaveModel_format has the same structure as model_2, by looking at their .summary().      \n",
    "Now we will also confirm that their patterns (weights and biases) are the same, by checking that they are doing the same predictions."
   ]
  },
  {
   "cell_type": "code",
   "execution_count": 81,
   "id": "bb989a74",
   "metadata": {},
   "outputs": [
    {
     "name": "stdout",
     "output_type": "stream",
     "text": [
      "1/1 [==============================] - 0s 94ms/step\n",
      "1/1 [==============================] - 0s 116ms/step\n"
     ]
    },
    {
     "data": {
      "text/plain": [
       "array([[ True],\n",
       "       [ True],\n",
       "       [ True],\n",
       "       [ True],\n",
       "       [ True],\n",
       "       [ True],\n",
       "       [ True],\n",
       "       [ True],\n",
       "       [ True],\n",
       "       [ True]])"
      ]
     },
     "execution_count": 81,
     "metadata": {},
     "output_type": "execute_result"
    }
   ],
   "source": [
    "# Compare model_2 predictions with loaded_SaveModel_format predictions\n",
    "model_2_preds = model_2.predict(X_test)\n",
    "loaded_SaveModel_format_preds = loaded_SaveModel_format.predict(X_test)\n",
    "\n",
    "model_2_preds == loaded_SaveModel_format_preds"
   ]
  },
  {
   "cell_type": "code",
   "execution_count": null,
   "id": "d9dc7545",
   "metadata": {},
   "outputs": [],
   "source": []
  },
  {
   "cell_type": "code",
   "execution_count": 82,
   "id": "12d76241",
   "metadata": {},
   "outputs": [
    {
     "name": "stdout",
     "output_type": "stream",
     "text": [
      "Model: \"sequential_10\"\n",
      "_________________________________________________________________\n",
      " Layer (type)                Output Shape              Param #   \n",
      "=================================================================\n",
      " input_layer (Dense)         (None, 10)                20        \n",
      "                                                                 \n",
      " dense_15 (Dense)            (None, 1)                 11        \n",
      "                                                                 \n",
      "=================================================================\n",
      "Total params: 31\n",
      "Trainable params: 31\n",
      "Non-trainable params: 0\n",
      "_________________________________________________________________\n"
     ]
    }
   ],
   "source": [
    "# Load the HDF5 format model\n",
    "loaded_h5_model = tf.keras.models.load_model(\"./saved-models/model_2_HDF5_format.h5\")\n",
    "loaded_h5_model.summary()"
   ]
  },
  {
   "cell_type": "markdown",
   "id": "b14033c2",
   "metadata": {},
   "source": [
    "We can confirm through .summary() that the architecture of loaded_h5_model is the same as model_2. \n",
    "\n",
    "Now we will make sure that model_2 predictions match loaded_h5_model predictions."
   ]
  },
  {
   "cell_type": "code",
   "execution_count": 83,
   "id": "a7936835",
   "metadata": {},
   "outputs": [
    {
     "name": "stdout",
     "output_type": "stream",
     "text": [
      "1/1 [==============================] - 0s 59ms/step\n",
      "1/1 [==============================] - 0s 157ms/step\n"
     ]
    },
    {
     "data": {
      "text/plain": [
       "array([[ True],\n",
       "       [ True],\n",
       "       [ True],\n",
       "       [ True],\n",
       "       [ True],\n",
       "       [ True],\n",
       "       [ True],\n",
       "       [ True],\n",
       "       [ True],\n",
       "       [ True]])"
      ]
     },
     "execution_count": 83,
     "metadata": {},
     "output_type": "execute_result"
    }
   ],
   "source": [
    "# Compare model_2 predictions with loaded_h5_model predictions\n",
    "model_2_preds = model_2.predict(X_test)\n",
    "loaded_h5_model_preds = loaded_h5_model.predict(X_test)\n",
    "model_2_preds == loaded_h5_model_preds"
   ]
  },
  {
   "cell_type": "code",
   "execution_count": null,
   "id": "9b7eadbe",
   "metadata": {},
   "outputs": [],
   "source": []
  },
  {
   "cell_type": "markdown",
   "id": "2c9c6f28",
   "metadata": {},
   "source": [
    "## Puttting together what was learned so far\n",
    "\n",
    "Now it is time to build a model for a more feature rich dataset."
   ]
  },
  {
   "cell_type": "code",
   "execution_count": null,
   "id": "016cb7d8",
   "metadata": {},
   "outputs": [],
   "source": []
  },
  {
   "cell_type": "markdown",
   "id": "b85f0a42",
   "metadata": {},
   "source": [
    "### Preparing the dataset\n",
    "\n",
    "We are going to have a look at the publicly available [Medical Cost Personal Datasets - Insurance Forecast by using Linear Regression](https://www.kaggle.com/datasets/mirichoi0218/insurance) from Kaggle\n",
    "\n",
    "**Columns**\n",
    "\n",
    "* **age**: age of primary beneficiary\n",
    "* **sex**: insurance contractor gender, female, male\n",
    "* **bmi**: Body mass index, providing an understanding of body, weights that are relatively high or low relative to height,\n",
    "objective index of body weight (kg / m ^ 2) using the ratio of height to weight, ideally 18.5 to 24.9\n",
    "* **children**: Number of children covered by health insurance / Number of dependents\n",
    "* **smoker**: Smoking\n",
    "* **region**: the beneficiary's residential area in the US, northeast, southeast, southwest, northwest.\n",
    "* **charges**: Individual medical costs billed by health insurance     \n",
    "\n",
    "The dataset can be downloaded from [here](https://github.com/stedy/Machine-Learning-with-R-datasets/blob/master/insurance.csv)          \n",
    "\n",
    "\n",
    "The goal is to use the above columns from age to region to predict what someone's medical costs billed by health insurance will be."
   ]
  },
  {
   "cell_type": "code",
   "execution_count": 84,
   "id": "70030320",
   "metadata": {},
   "outputs": [
    {
     "data": {
      "text/html": [
       "<div>\n",
       "<style scoped>\n",
       "    .dataframe tbody tr th:only-of-type {\n",
       "        vertical-align: middle;\n",
       "    }\n",
       "\n",
       "    .dataframe tbody tr th {\n",
       "        vertical-align: top;\n",
       "    }\n",
       "\n",
       "    .dataframe thead th {\n",
       "        text-align: right;\n",
       "    }\n",
       "</style>\n",
       "<table border=\"1\" class=\"dataframe\">\n",
       "  <thead>\n",
       "    <tr style=\"text-align: right;\">\n",
       "      <th></th>\n",
       "      <th>age</th>\n",
       "      <th>sex</th>\n",
       "      <th>bmi</th>\n",
       "      <th>children</th>\n",
       "      <th>smoker</th>\n",
       "      <th>region</th>\n",
       "      <th>charges</th>\n",
       "    </tr>\n",
       "  </thead>\n",
       "  <tbody>\n",
       "    <tr>\n",
       "      <th>0</th>\n",
       "      <td>19</td>\n",
       "      <td>female</td>\n",
       "      <td>27.900</td>\n",
       "      <td>0</td>\n",
       "      <td>yes</td>\n",
       "      <td>southwest</td>\n",
       "      <td>16884.92400</td>\n",
       "    </tr>\n",
       "    <tr>\n",
       "      <th>1</th>\n",
       "      <td>18</td>\n",
       "      <td>male</td>\n",
       "      <td>33.770</td>\n",
       "      <td>1</td>\n",
       "      <td>no</td>\n",
       "      <td>southeast</td>\n",
       "      <td>1725.55230</td>\n",
       "    </tr>\n",
       "    <tr>\n",
       "      <th>2</th>\n",
       "      <td>28</td>\n",
       "      <td>male</td>\n",
       "      <td>33.000</td>\n",
       "      <td>3</td>\n",
       "      <td>no</td>\n",
       "      <td>southeast</td>\n",
       "      <td>4449.46200</td>\n",
       "    </tr>\n",
       "    <tr>\n",
       "      <th>3</th>\n",
       "      <td>33</td>\n",
       "      <td>male</td>\n",
       "      <td>22.705</td>\n",
       "      <td>0</td>\n",
       "      <td>no</td>\n",
       "      <td>northwest</td>\n",
       "      <td>21984.47061</td>\n",
       "    </tr>\n",
       "    <tr>\n",
       "      <th>4</th>\n",
       "      <td>32</td>\n",
       "      <td>male</td>\n",
       "      <td>28.880</td>\n",
       "      <td>0</td>\n",
       "      <td>no</td>\n",
       "      <td>northwest</td>\n",
       "      <td>3866.85520</td>\n",
       "    </tr>\n",
       "  </tbody>\n",
       "</table>\n",
       "</div>"
      ],
      "text/plain": [
       "   age     sex     bmi  children smoker     region      charges\n",
       "0   19  female  27.900         0    yes  southwest  16884.92400\n",
       "1   18    male  33.770         1     no  southeast   1725.55230\n",
       "2   28    male  33.000         3     no  southeast   4449.46200\n",
       "3   33    male  22.705         0     no  northwest  21984.47061\n",
       "4   32    male  28.880         0     no  northwest   3866.85520"
      ]
     },
     "execution_count": 84,
     "metadata": {},
     "output_type": "execute_result"
    }
   ],
   "source": [
    "insurance_df = pd.read_csv(\"data/insurance.csv\")\n",
    "insurance_df.head()"
   ]
  },
  {
   "cell_type": "markdown",
   "id": "2ce70add",
   "metadata": {},
   "source": [
    "Looking at the above dataset:\n",
    "* `charges`, the variable to be predicted, is called : `label`, or `output feature`, or `output variable`\n",
    "* all variables other than `charges`, are the variables used to predict; they are called: `features`, or `input features`, or `input variables`"
   ]
  },
  {
   "cell_type": "code",
   "execution_count": null,
   "id": "b24f07b5",
   "metadata": {},
   "outputs": [],
   "source": []
  },
  {
   "cell_type": "code",
   "execution_count": 85,
   "id": "bb8d4147",
   "metadata": {},
   "outputs": [
    {
     "data": {
      "text/plain": [
       "(1338, 7)"
      ]
     },
     "execution_count": 85,
     "metadata": {},
     "output_type": "execute_result"
    }
   ],
   "source": [
    "insurance_df.shape"
   ]
  },
  {
   "cell_type": "code",
   "execution_count": 86,
   "id": "795031f7",
   "metadata": {},
   "outputs": [
    {
     "name": "stdout",
     "output_type": "stream",
     "text": [
      "<class 'pandas.core.frame.DataFrame'>\n",
      "RangeIndex: 1338 entries, 0 to 1337\n",
      "Data columns (total 7 columns):\n",
      " #   Column    Non-Null Count  Dtype  \n",
      "---  ------    --------------  -----  \n",
      " 0   age       1338 non-null   int64  \n",
      " 1   sex       1338 non-null   object \n",
      " 2   bmi       1338 non-null   float64\n",
      " 3   children  1338 non-null   int64  \n",
      " 4   smoker    1338 non-null   object \n",
      " 5   region    1338 non-null   object \n",
      " 6   charges   1338 non-null   float64\n",
      "dtypes: float64(2), int64(2), object(3)\n",
      "memory usage: 73.3+ KB\n"
     ]
    }
   ],
   "source": [
    "insurance_df.info()"
   ]
  },
  {
   "cell_type": "markdown",
   "id": "c594b415",
   "metadata": {},
   "source": [
    "Now we will work on our first step in getting our data ready to pass into our machine/deep learning models : all our categorical features should be encoded to numerical values. Here, it is the one-hot encoding technique that will be used.  \n",
    "\n",
    "We can one-hot encode our variables manually, but it will take a lot of work. So we will use the `pandas.get_dummies()` function. Here is [an example](https://queirozf.com/entries/one-hot-encoding-a-feature-on-a-pandas-dataframe-an-example) on how to proceed."
   ]
  },
  {
   "cell_type": "code",
   "execution_count": 87,
   "id": "1aa8b000",
   "metadata": {},
   "outputs": [
    {
     "data": {
      "text/html": [
       "<div>\n",
       "<style scoped>\n",
       "    .dataframe tbody tr th:only-of-type {\n",
       "        vertical-align: middle;\n",
       "    }\n",
       "\n",
       "    .dataframe tbody tr th {\n",
       "        vertical-align: top;\n",
       "    }\n",
       "\n",
       "    .dataframe thead th {\n",
       "        text-align: right;\n",
       "    }\n",
       "</style>\n",
       "<table border=\"1\" class=\"dataframe\">\n",
       "  <thead>\n",
       "    <tr style=\"text-align: right;\">\n",
       "      <th></th>\n",
       "      <th>0</th>\n",
       "      <th>1</th>\n",
       "      <th>2</th>\n",
       "      <th>3</th>\n",
       "      <th>4</th>\n",
       "    </tr>\n",
       "  </thead>\n",
       "  <tbody>\n",
       "    <tr>\n",
       "      <th>age</th>\n",
       "      <td>19.000</td>\n",
       "      <td>18.0000</td>\n",
       "      <td>28.000</td>\n",
       "      <td>33.00000</td>\n",
       "      <td>32.0000</td>\n",
       "    </tr>\n",
       "    <tr>\n",
       "      <th>bmi</th>\n",
       "      <td>27.900</td>\n",
       "      <td>33.7700</td>\n",
       "      <td>33.000</td>\n",
       "      <td>22.70500</td>\n",
       "      <td>28.8800</td>\n",
       "    </tr>\n",
       "    <tr>\n",
       "      <th>children</th>\n",
       "      <td>0.000</td>\n",
       "      <td>1.0000</td>\n",
       "      <td>3.000</td>\n",
       "      <td>0.00000</td>\n",
       "      <td>0.0000</td>\n",
       "    </tr>\n",
       "    <tr>\n",
       "      <th>charges</th>\n",
       "      <td>16884.924</td>\n",
       "      <td>1725.5523</td>\n",
       "      <td>4449.462</td>\n",
       "      <td>21984.47061</td>\n",
       "      <td>3866.8552</td>\n",
       "    </tr>\n",
       "    <tr>\n",
       "      <th>sex_female</th>\n",
       "      <td>1.000</td>\n",
       "      <td>0.0000</td>\n",
       "      <td>0.000</td>\n",
       "      <td>0.00000</td>\n",
       "      <td>0.0000</td>\n",
       "    </tr>\n",
       "    <tr>\n",
       "      <th>sex_male</th>\n",
       "      <td>0.000</td>\n",
       "      <td>1.0000</td>\n",
       "      <td>1.000</td>\n",
       "      <td>1.00000</td>\n",
       "      <td>1.0000</td>\n",
       "    </tr>\n",
       "    <tr>\n",
       "      <th>smoker_no</th>\n",
       "      <td>0.000</td>\n",
       "      <td>1.0000</td>\n",
       "      <td>1.000</td>\n",
       "      <td>1.00000</td>\n",
       "      <td>1.0000</td>\n",
       "    </tr>\n",
       "    <tr>\n",
       "      <th>smoker_yes</th>\n",
       "      <td>1.000</td>\n",
       "      <td>0.0000</td>\n",
       "      <td>0.000</td>\n",
       "      <td>0.00000</td>\n",
       "      <td>0.0000</td>\n",
       "    </tr>\n",
       "    <tr>\n",
       "      <th>region_northeast</th>\n",
       "      <td>0.000</td>\n",
       "      <td>0.0000</td>\n",
       "      <td>0.000</td>\n",
       "      <td>0.00000</td>\n",
       "      <td>0.0000</td>\n",
       "    </tr>\n",
       "    <tr>\n",
       "      <th>region_northwest</th>\n",
       "      <td>0.000</td>\n",
       "      <td>0.0000</td>\n",
       "      <td>0.000</td>\n",
       "      <td>1.00000</td>\n",
       "      <td>1.0000</td>\n",
       "    </tr>\n",
       "    <tr>\n",
       "      <th>region_southeast</th>\n",
       "      <td>0.000</td>\n",
       "      <td>1.0000</td>\n",
       "      <td>1.000</td>\n",
       "      <td>0.00000</td>\n",
       "      <td>0.0000</td>\n",
       "    </tr>\n",
       "    <tr>\n",
       "      <th>region_southwest</th>\n",
       "      <td>1.000</td>\n",
       "      <td>0.0000</td>\n",
       "      <td>0.000</td>\n",
       "      <td>0.00000</td>\n",
       "      <td>0.0000</td>\n",
       "    </tr>\n",
       "  </tbody>\n",
       "</table>\n",
       "</div>"
      ],
      "text/plain": [
       "                          0          1         2            3          4\n",
       "age                  19.000    18.0000    28.000     33.00000    32.0000\n",
       "bmi                  27.900    33.7700    33.000     22.70500    28.8800\n",
       "children              0.000     1.0000     3.000      0.00000     0.0000\n",
       "charges           16884.924  1725.5523  4449.462  21984.47061  3866.8552\n",
       "sex_female            1.000     0.0000     0.000      0.00000     0.0000\n",
       "sex_male              0.000     1.0000     1.000      1.00000     1.0000\n",
       "smoker_no             0.000     1.0000     1.000      1.00000     1.0000\n",
       "smoker_yes            1.000     0.0000     0.000      0.00000     0.0000\n",
       "region_northeast      0.000     0.0000     0.000      0.00000     0.0000\n",
       "region_northwest      0.000     0.0000     0.000      1.00000     1.0000\n",
       "region_southeast      0.000     1.0000     1.000      0.00000     0.0000\n",
       "region_southwest      1.000     0.0000     0.000      0.00000     0.0000"
      ]
     },
     "execution_count": 87,
     "metadata": {},
     "output_type": "execute_result"
    }
   ],
   "source": [
    "# One-hot encode dataframe so that it is all numbers\n",
    "insurance_onehot_df = pd.get_dummies(insurance_df)\n",
    "insurance_onehot_df.head().T"
   ]
  },
  {
   "cell_type": "code",
   "execution_count": 96,
   "id": "4011de41",
   "metadata": {},
   "outputs": [
    {
     "data": {
      "text/plain": [
       "age                 0\n",
       "bmi                 0\n",
       "children            0\n",
       "charges             0\n",
       "sex_female          0\n",
       "sex_male            0\n",
       "smoker_no           0\n",
       "smoker_yes          0\n",
       "region_northeast    0\n",
       "region_northwest    0\n",
       "region_southeast    0\n",
       "region_southwest    0\n",
       "dtype: int64"
      ]
     },
     "execution_count": 96,
     "metadata": {},
     "output_type": "execute_result"
    }
   ],
   "source": [
    "# insurance_onehot_df.isnull().sum()"
   ]
  },
  {
   "cell_type": "markdown",
   "id": "73760872",
   "metadata": {},
   "source": [
    "### Building the regression model"
   ]
  },
  {
   "cell_type": "code",
   "execution_count": 88,
   "id": "62cf3b62",
   "metadata": {},
   "outputs": [
    {
     "data": {
      "text/html": [
       "<div>\n",
       "<style scoped>\n",
       "    .dataframe tbody tr th:only-of-type {\n",
       "        vertical-align: middle;\n",
       "    }\n",
       "\n",
       "    .dataframe tbody tr th {\n",
       "        vertical-align: top;\n",
       "    }\n",
       "\n",
       "    .dataframe thead th {\n",
       "        text-align: right;\n",
       "    }\n",
       "</style>\n",
       "<table border=\"1\" class=\"dataframe\">\n",
       "  <thead>\n",
       "    <tr style=\"text-align: right;\">\n",
       "      <th></th>\n",
       "      <th>age</th>\n",
       "      <th>bmi</th>\n",
       "      <th>children</th>\n",
       "      <th>sex_female</th>\n",
       "      <th>sex_male</th>\n",
       "      <th>smoker_no</th>\n",
       "      <th>smoker_yes</th>\n",
       "      <th>region_northeast</th>\n",
       "      <th>region_northwest</th>\n",
       "      <th>region_southeast</th>\n",
       "      <th>region_southwest</th>\n",
       "    </tr>\n",
       "  </thead>\n",
       "  <tbody>\n",
       "    <tr>\n",
       "      <th>0</th>\n",
       "      <td>19</td>\n",
       "      <td>27.900</td>\n",
       "      <td>0</td>\n",
       "      <td>1</td>\n",
       "      <td>0</td>\n",
       "      <td>0</td>\n",
       "      <td>1</td>\n",
       "      <td>0</td>\n",
       "      <td>0</td>\n",
       "      <td>0</td>\n",
       "      <td>1</td>\n",
       "    </tr>\n",
       "    <tr>\n",
       "      <th>1</th>\n",
       "      <td>18</td>\n",
       "      <td>33.770</td>\n",
       "      <td>1</td>\n",
       "      <td>0</td>\n",
       "      <td>1</td>\n",
       "      <td>1</td>\n",
       "      <td>0</td>\n",
       "      <td>0</td>\n",
       "      <td>0</td>\n",
       "      <td>1</td>\n",
       "      <td>0</td>\n",
       "    </tr>\n",
       "    <tr>\n",
       "      <th>2</th>\n",
       "      <td>28</td>\n",
       "      <td>33.000</td>\n",
       "      <td>3</td>\n",
       "      <td>0</td>\n",
       "      <td>1</td>\n",
       "      <td>1</td>\n",
       "      <td>0</td>\n",
       "      <td>0</td>\n",
       "      <td>0</td>\n",
       "      <td>1</td>\n",
       "      <td>0</td>\n",
       "    </tr>\n",
       "    <tr>\n",
       "      <th>3</th>\n",
       "      <td>33</td>\n",
       "      <td>22.705</td>\n",
       "      <td>0</td>\n",
       "      <td>0</td>\n",
       "      <td>1</td>\n",
       "      <td>1</td>\n",
       "      <td>0</td>\n",
       "      <td>0</td>\n",
       "      <td>1</td>\n",
       "      <td>0</td>\n",
       "      <td>0</td>\n",
       "    </tr>\n",
       "    <tr>\n",
       "      <th>4</th>\n",
       "      <td>32</td>\n",
       "      <td>28.880</td>\n",
       "      <td>0</td>\n",
       "      <td>0</td>\n",
       "      <td>1</td>\n",
       "      <td>1</td>\n",
       "      <td>0</td>\n",
       "      <td>0</td>\n",
       "      <td>1</td>\n",
       "      <td>0</td>\n",
       "      <td>0</td>\n",
       "    </tr>\n",
       "  </tbody>\n",
       "</table>\n",
       "</div>"
      ],
      "text/plain": [
       "   age     bmi  children  sex_female  sex_male  smoker_no  smoker_yes  \\\n",
       "0   19  27.900         0           1         0          0           1   \n",
       "1   18  33.770         1           0         1          1           0   \n",
       "2   28  33.000         3           0         1          1           0   \n",
       "3   33  22.705         0           0         1          1           0   \n",
       "4   32  28.880         0           0         1          1           0   \n",
       "\n",
       "   region_northeast  region_northwest  region_southeast  region_southwest  \n",
       "0                 0                 0                 0                 1  \n",
       "1                 0                 0                 1                 0  \n",
       "2                 0                 0                 1                 0  \n",
       "3                 0                 1                 0                 0  \n",
       "4                 0                 1                 0                 0  "
      ]
     },
     "execution_count": 88,
     "metadata": {},
     "output_type": "execute_result"
    }
   ],
   "source": [
    "# Create features (X)\n",
    "X = insurance_onehot_df.drop(\"charges\",axis=1)\n",
    "X.head()"
   ]
  },
  {
   "cell_type": "code",
   "execution_count": 89,
   "id": "0e221709",
   "metadata": {},
   "outputs": [
    {
     "data": {
      "text/plain": [
       "0    16884.92400\n",
       "1     1725.55230\n",
       "2     4449.46200\n",
       "3    21984.47061\n",
       "4     3866.85520\n",
       "Name: charges, dtype: float64"
      ]
     },
     "execution_count": 89,
     "metadata": {},
     "output_type": "execute_result"
    }
   ],
   "source": [
    "# Create labels (y)\n",
    "y = insurance_onehot_df[\"charges\"]\n",
    "y.head()"
   ]
  },
  {
   "cell_type": "code",
   "execution_count": 90,
   "id": "016a5066",
   "metadata": {},
   "outputs": [
    {
     "data": {
      "text/plain": [
       "(1070, 268, 1070, 268)"
      ]
     },
     "execution_count": 90,
     "metadata": {},
     "output_type": "execute_result"
    }
   ],
   "source": [
    "# Create training and testing sets\n",
    "\n",
    "random_seed=42\n",
    "X_train, X_test, y_train, y_test = train_test_split(X,y, test_size=.2, random_state=random_seed)\n",
    "\n",
    "len(X_train), len(X_test), len(y_train), len(y_test)"
   ]
  },
  {
   "cell_type": "code",
   "execution_count": 91,
   "id": "e0420518",
   "metadata": {},
   "outputs": [
    {
     "name": "stdout",
     "output_type": "stream",
     "text": [
      "Epoch 1/100\n",
      "34/34 [==============================] - 1s 4ms/step - loss: 8675.6865 - mae: 8675.6865\n",
      "Epoch 2/100\n",
      "34/34 [==============================] - 0s 3ms/step - loss: 7881.7188 - mae: 7881.7188\n",
      "Epoch 3/100\n",
      "34/34 [==============================] - 0s 3ms/step - loss: 7551.8760 - mae: 7551.8760\n",
      "Epoch 4/100\n",
      "34/34 [==============================] - 0s 3ms/step - loss: 7764.7480 - mae: 7764.7480\n",
      "Epoch 5/100\n",
      "34/34 [==============================] - 0s 3ms/step - loss: 7650.2583 - mae: 7650.2583\n",
      "Epoch 6/100\n",
      "34/34 [==============================] - 0s 3ms/step - loss: 7613.7207 - mae: 7613.7207\n",
      "Epoch 7/100\n",
      "34/34 [==============================] - 0s 3ms/step - loss: 7586.0083 - mae: 7586.0083\n",
      "Epoch 8/100\n",
      "34/34 [==============================] - 0s 3ms/step - loss: 7759.3882 - mae: 7759.3882\n",
      "Epoch 9/100\n",
      "34/34 [==============================] - 0s 3ms/step - loss: 7597.7642 - mae: 7597.7642\n",
      "Epoch 10/100\n",
      "34/34 [==============================] - 0s 3ms/step - loss: 7761.2583 - mae: 7761.2583\n",
      "Epoch 11/100\n",
      "34/34 [==============================] - 0s 3ms/step - loss: 7492.3438 - mae: 7492.3438\n",
      "Epoch 12/100\n",
      "34/34 [==============================] - 0s 3ms/step - loss: 7668.1479 - mae: 7668.1479\n",
      "Epoch 13/100\n",
      "34/34 [==============================] - 0s 3ms/step - loss: 7656.1484 - mae: 7656.1484\n",
      "Epoch 14/100\n",
      "34/34 [==============================] - 0s 3ms/step - loss: 7682.3423 - mae: 7682.3423\n",
      "Epoch 15/100\n",
      "34/34 [==============================] - 0s 3ms/step - loss: 7553.9365 - mae: 7553.9360\n",
      "Epoch 16/100\n",
      "34/34 [==============================] - 0s 3ms/step - loss: 7734.7910 - mae: 7734.7910\n",
      "Epoch 17/100\n",
      "34/34 [==============================] - 0s 3ms/step - loss: 7612.3516 - mae: 7612.3516\n",
      "Epoch 18/100\n",
      "34/34 [==============================] - 0s 3ms/step - loss: 7570.7017 - mae: 7570.7017\n",
      "Epoch 19/100\n",
      "34/34 [==============================] - 0s 3ms/step - loss: 7741.4980 - mae: 7741.4980\n",
      "Epoch 20/100\n",
      "34/34 [==============================] - 0s 3ms/step - loss: 7857.2861 - mae: 7857.2861\n",
      "Epoch 21/100\n",
      "34/34 [==============================] - 0s 3ms/step - loss: 7525.5811 - mae: 7525.5811\n",
      "Epoch 22/100\n",
      "34/34 [==============================] - 0s 3ms/step - loss: 7909.1074 - mae: 7909.1074\n",
      "Epoch 23/100\n",
      "34/34 [==============================] - 0s 3ms/step - loss: 7669.4536 - mae: 7669.4536\n",
      "Epoch 24/100\n",
      "34/34 [==============================] - 0s 3ms/step - loss: 7541.8101 - mae: 7541.8101\n",
      "Epoch 25/100\n",
      "34/34 [==============================] - 0s 3ms/step - loss: 7623.9702 - mae: 7623.9702\n",
      "Epoch 26/100\n",
      "34/34 [==============================] - 0s 3ms/step - loss: 7693.5156 - mae: 7693.5156\n",
      "Epoch 27/100\n",
      "34/34 [==============================] - 0s 3ms/step - loss: 7392.6699 - mae: 7392.6699\n",
      "Epoch 28/100\n",
      "34/34 [==============================] - 0s 3ms/step - loss: 7533.3784 - mae: 7533.3784\n",
      "Epoch 29/100\n",
      "34/34 [==============================] - 0s 3ms/step - loss: 7589.7607 - mae: 7589.7607\n",
      "Epoch 30/100\n",
      "34/34 [==============================] - 0s 3ms/step - loss: 7607.3232 - mae: 7607.3232\n",
      "Epoch 31/100\n",
      "34/34 [==============================] - 0s 3ms/step - loss: 7279.1475 - mae: 7279.1475\n",
      "Epoch 32/100\n",
      "34/34 [==============================] - 0s 3ms/step - loss: 7484.4512 - mae: 7484.4512\n",
      "Epoch 33/100\n",
      "34/34 [==============================] - 0s 3ms/step - loss: 7495.5713 - mae: 7495.5713\n",
      "Epoch 34/100\n",
      "34/34 [==============================] - 0s 3ms/step - loss: 7403.8071 - mae: 7403.8071\n",
      "Epoch 35/100\n",
      "34/34 [==============================] - 0s 3ms/step - loss: 7547.8608 - mae: 7547.8608\n",
      "Epoch 36/100\n",
      "34/34 [==============================] - 0s 4ms/step - loss: 7568.4399 - mae: 7568.4399\n",
      "Epoch 37/100\n",
      "34/34 [==============================] - 0s 4ms/step - loss: 7548.0024 - mae: 7548.0024\n",
      "Epoch 38/100\n",
      "34/34 [==============================] - 0s 2ms/step - loss: 7428.2217 - mae: 7428.2217\n",
      "Epoch 39/100\n",
      "34/34 [==============================] - 0s 3ms/step - loss: 7484.3452 - mae: 7484.3452\n",
      "Epoch 40/100\n",
      "34/34 [==============================] - 0s 3ms/step - loss: 7304.8184 - mae: 7304.8184\n",
      "Epoch 41/100\n",
      "34/34 [==============================] - 0s 3ms/step - loss: 7621.1421 - mae: 7621.1421\n",
      "Epoch 42/100\n",
      "34/34 [==============================] - 0s 3ms/step - loss: 7454.3447 - mae: 7454.3447\n",
      "Epoch 43/100\n",
      "34/34 [==============================] - 0s 3ms/step - loss: 7467.4624 - mae: 7467.4624\n",
      "Epoch 44/100\n",
      "34/34 [==============================] - 0s 3ms/step - loss: 7585.3633 - mae: 7585.3633\n",
      "Epoch 45/100\n",
      "34/34 [==============================] - 0s 3ms/step - loss: 7539.7554 - mae: 7539.7554\n",
      "Epoch 46/100\n",
      "34/34 [==============================] - 0s 3ms/step - loss: 7400.0430 - mae: 7400.0430\n",
      "Epoch 47/100\n",
      "34/34 [==============================] - 0s 3ms/step - loss: 7496.9194 - mae: 7496.9194\n",
      "Epoch 48/100\n",
      "34/34 [==============================] - 0s 3ms/step - loss: 7554.9473 - mae: 7554.9473\n",
      "Epoch 49/100\n",
      "34/34 [==============================] - 0s 3ms/step - loss: 7528.7393 - mae: 7528.7393\n",
      "Epoch 50/100\n",
      "34/34 [==============================] - 0s 3ms/step - loss: 7505.1255 - mae: 7505.1255\n",
      "Epoch 51/100\n",
      "34/34 [==============================] - 0s 3ms/step - loss: 7299.7588 - mae: 7299.7588\n",
      "Epoch 52/100\n",
      "34/34 [==============================] - 0s 3ms/step - loss: 7541.2114 - mae: 7541.2114\n",
      "Epoch 53/100\n",
      "34/34 [==============================] - 0s 3ms/step - loss: 7565.9653 - mae: 7565.9653\n",
      "Epoch 54/100\n",
      "34/34 [==============================] - 0s 3ms/step - loss: 7136.5654 - mae: 7136.5654\n",
      "Epoch 55/100\n",
      "34/34 [==============================] - 0s 3ms/step - loss: 7535.5264 - mae: 7535.5264\n",
      "Epoch 56/100\n",
      "34/34 [==============================] - 0s 3ms/step - loss: 7232.6880 - mae: 7232.6880\n",
      "Epoch 57/100\n",
      "34/34 [==============================] - 0s 3ms/step - loss: 7546.8560 - mae: 7546.8560\n",
      "Epoch 58/100\n",
      "34/34 [==============================] - 0s 3ms/step - loss: 7433.3857 - mae: 7433.3857\n",
      "Epoch 59/100\n",
      "34/34 [==============================] - 0s 3ms/step - loss: 7522.3354 - mae: 7522.3354\n",
      "Epoch 60/100\n",
      "34/34 [==============================] - 0s 3ms/step - loss: 7509.4712 - mae: 7509.4712\n",
      "Epoch 61/100\n",
      "34/34 [==============================] - 0s 3ms/step - loss: 7416.4009 - mae: 7416.4009\n",
      "Epoch 62/100\n",
      "34/34 [==============================] - 0s 3ms/step - loss: 7410.9487 - mae: 7410.9487\n",
      "Epoch 63/100\n",
      "34/34 [==============================] - 0s 3ms/step - loss: 7278.0732 - mae: 7278.0732\n",
      "Epoch 64/100\n",
      "34/34 [==============================] - 0s 2ms/step - loss: 7326.1479 - mae: 7326.1479\n",
      "Epoch 65/100\n",
      "34/34 [==============================] - 0s 3ms/step - loss: 7517.9521 - mae: 7517.9521\n",
      "Epoch 66/100\n",
      "34/34 [==============================] - 0s 3ms/step - loss: 7189.6445 - mae: 7189.6445\n",
      "Epoch 67/100\n",
      "34/34 [==============================] - 0s 3ms/step - loss: 7385.1929 - mae: 7385.1929\n",
      "Epoch 68/100\n",
      "34/34 [==============================] - 0s 3ms/step - loss: 7485.2773 - mae: 7485.2773\n",
      "Epoch 69/100\n",
      "34/34 [==============================] - 0s 2ms/step - loss: 7546.8989 - mae: 7546.8989\n",
      "Epoch 70/100\n",
      "34/34 [==============================] - 0s 3ms/step - loss: 7582.3721 - mae: 7582.3721\n",
      "Epoch 71/100\n",
      "34/34 [==============================] - 0s 3ms/step - loss: 7202.2739 - mae: 7202.2739\n",
      "Epoch 72/100\n",
      "34/34 [==============================] - 0s 3ms/step - loss: 7438.4619 - mae: 7438.4619\n",
      "Epoch 73/100\n",
      "34/34 [==============================] - 0s 2ms/step - loss: 7386.2793 - mae: 7386.2793\n",
      "Epoch 74/100\n",
      "34/34 [==============================] - 0s 3ms/step - loss: 7399.9971 - mae: 7399.9971\n",
      "Epoch 75/100\n",
      "34/34 [==============================] - 0s 2ms/step - loss: 7256.1660 - mae: 7256.1660\n",
      "Epoch 76/100\n",
      "34/34 [==============================] - 0s 3ms/step - loss: 7096.4644 - mae: 7096.4644\n",
      "Epoch 77/100\n",
      "34/34 [==============================] - 0s 3ms/step - loss: 7505.7651 - mae: 7505.7651\n",
      "Epoch 78/100\n",
      "34/34 [==============================] - 0s 3ms/step - loss: 7353.0420 - mae: 7353.0420\n",
      "Epoch 79/100\n",
      "34/34 [==============================] - 0s 3ms/step - loss: 7496.0376 - mae: 7496.0376\n",
      "Epoch 80/100\n",
      "34/34 [==============================] - 0s 3ms/step - loss: 7421.6484 - mae: 7421.6484\n",
      "Epoch 81/100\n",
      "34/34 [==============================] - 0s 2ms/step - loss: 7213.4409 - mae: 7213.4409\n",
      "Epoch 82/100\n"
     ]
    },
    {
     "name": "stdout",
     "output_type": "stream",
     "text": [
      "34/34 [==============================] - 0s 2ms/step - loss: 7171.8696 - mae: 7171.8696\n",
      "Epoch 83/100\n",
      "34/34 [==============================] - 0s 3ms/step - loss: 7533.4268 - mae: 7533.4268\n",
      "Epoch 84/100\n",
      "34/34 [==============================] - 0s 2ms/step - loss: 7239.1860 - mae: 7239.1860\n",
      "Epoch 85/100\n",
      "34/34 [==============================] - 0s 3ms/step - loss: 7506.2290 - mae: 7506.2290\n",
      "Epoch 86/100\n",
      "34/34 [==============================] - 0s 3ms/step - loss: 7530.4141 - mae: 7530.4141\n",
      "Epoch 87/100\n",
      "34/34 [==============================] - 0s 3ms/step - loss: 7099.7944 - mae: 7099.7944\n",
      "Epoch 88/100\n",
      "34/34 [==============================] - 0s 3ms/step - loss: 7225.1831 - mae: 7225.1831\n",
      "Epoch 89/100\n",
      "34/34 [==============================] - 0s 3ms/step - loss: 7364.9385 - mae: 7364.9385\n",
      "Epoch 90/100\n",
      "34/34 [==============================] - 0s 3ms/step - loss: 7185.7798 - mae: 7185.7798\n",
      "Epoch 91/100\n",
      "34/34 [==============================] - 0s 3ms/step - loss: 7081.8765 - mae: 7081.8765\n",
      "Epoch 92/100\n",
      "34/34 [==============================] - 0s 3ms/step - loss: 7317.8530 - mae: 7317.8530\n",
      "Epoch 93/100\n",
      "34/34 [==============================] - 0s 3ms/step - loss: 7482.9321 - mae: 7482.9321\n",
      "Epoch 94/100\n",
      "34/34 [==============================] - 0s 3ms/step - loss: 7235.2070 - mae: 7235.2070\n",
      "Epoch 95/100\n",
      "34/34 [==============================] - 0s 3ms/step - loss: 7336.5234 - mae: 7336.5234\n",
      "Epoch 96/100\n",
      "34/34 [==============================] - 0s 2ms/step - loss: 7298.3970 - mae: 7298.3970\n",
      "Epoch 97/100\n",
      "34/34 [==============================] - 0s 3ms/step - loss: 7188.6123 - mae: 7188.6123\n",
      "Epoch 98/100\n",
      "34/34 [==============================] - 0s 3ms/step - loss: 7460.5542 - mae: 7460.5542\n",
      "Epoch 99/100\n",
      "34/34 [==============================] - 0s 3ms/step - loss: 7404.1694 - mae: 7404.1694\n",
      "Epoch 100/100\n",
      "34/34 [==============================] - 0s 3ms/step - loss: 7223.0781 - mae: 7223.0781\n"
     ]
    },
    {
     "data": {
      "text/plain": [
       "<keras.callbacks.History at 0x13d35b4f040>"
      ]
     },
     "execution_count": 91,
     "metadata": {},
     "output_type": "execute_result"
    }
   ],
   "source": [
    "# Build neural network (sort of like model_2 above)\n",
    "\n",
    "# Set a random seed (in order to have some reproducibility)\n",
    "tf.random.set_seed(42)\n",
    "\n",
    "# 1. Create a model\n",
    "insurance_model = tf.keras.Sequential([\n",
    "    tf.keras.layers.Dense(10),\n",
    "    tf.keras.layers.Dense(1)\n",
    "])\n",
    "\n",
    "# 2. Compile the model\n",
    "insurance_model.compile(\n",
    "    loss=tf.keras.losses.mae,\n",
    "    optimizer= tf.keras.optimizers.SGD(),\n",
    "    metrics=[\"mae\"]\n",
    ")\n",
    "\n",
    "# 3. Fit the model\n",
    "insurance_model.fit(X_train, y_train,  epochs=100)"
   ]
  },
  {
   "cell_type": "markdown",
   "id": "ff8bdd4e",
   "metadata": {},
   "source": [
    "**Note**: We didn't have to reformat the input variable into tensors. The reason being, pandas is built on top of numpy: it is a big numpy matrix, and when we pass that to TensorFlow, it automatically knows how to deal with numpy arrays (we have seen that TensorFlow works with numpy arrays)."
   ]
  },
  {
   "cell_type": "code",
   "execution_count": 92,
   "id": "42b1faf8",
   "metadata": {},
   "outputs": [
    {
     "name": "stdout",
     "output_type": "stream",
     "text": [
      "9/9 [==============================] - 0s 3ms/step - loss: 7021.5205 - mae: 7021.5205\n"
     ]
    },
    {
     "data": {
      "text/plain": [
       "[7021.5205078125, 7021.5205078125]"
      ]
     },
     "execution_count": 92,
     "metadata": {},
     "output_type": "execute_result"
    }
   ],
   "source": [
    "# Evaluate the model\n",
    "insurance_model.evaluate(X_test, y_test)"
   ]
  },
  {
   "cell_type": "markdown",
   "id": "083d3525",
   "metadata": {},
   "source": [
    "The MAE of the model is 7021.52; this tell that on average, the model is wrong by about 7021.52            \n",
    "That amount is to high, so the model need to be improved. "
   ]
  },
  {
   "cell_type": "markdown",
   "id": "66160ea0",
   "metadata": {},
   "source": [
    "To (try) improve the model, we will run 02 experiments. \n",
    "<br/><br/>\n",
    "**Experiments**:\n",
    "1. Add an extra layer with more hidden units\n",
    "1. Train for longer\n",
    "1. *Insert your own experiment here, up to your imagination/experience*"
   ]
  },
  {
   "cell_type": "code",
   "execution_count": null,
   "id": "b5ce936c",
   "metadata": {},
   "outputs": [],
   "source": []
  },
  {
   "cell_type": "code",
   "execution_count": 98,
   "id": "efe3dcec",
   "metadata": {},
   "outputs": [
    {
     "name": "stdout",
     "output_type": "stream",
     "text": [
      "Epoch 1/100\n",
      "34/34 [==============================] - 1s 2ms/step - loss: nan - mae: nan          \n",
      "Epoch 2/100\n",
      "34/34 [==============================] - 0s 1ms/step - loss: nan - mae: nan\n",
      "Epoch 3/100\n",
      "34/34 [==============================] - 0s 1ms/step - loss: nan - mae: nan\n",
      "Epoch 4/100\n",
      "34/34 [==============================] - 0s 2ms/step - loss: nan - mae: nan\n",
      "Epoch 5/100\n",
      "34/34 [==============================] - 0s 1ms/step - loss: nan - mae: nan\n",
      "Epoch 6/100\n",
      "34/34 [==============================] - 0s 2ms/step - loss: nan - mae: nan\n",
      "Epoch 7/100\n",
      "34/34 [==============================] - 0s 2ms/step - loss: nan - mae: nan\n",
      "Epoch 8/100\n",
      "34/34 [==============================] - 0s 3ms/step - loss: nan - mae: nan\n",
      "Epoch 9/100\n",
      "34/34 [==============================] - 0s 2ms/step - loss: nan - mae: nan\n",
      "Epoch 10/100\n",
      "34/34 [==============================] - 0s 3ms/step - loss: nan - mae: nan\n",
      "Epoch 11/100\n",
      "34/34 [==============================] - 0s 3ms/step - loss: nan - mae: nan\n",
      "Epoch 12/100\n",
      "34/34 [==============================] - 0s 2ms/step - loss: nan - mae: nan\n",
      "Epoch 13/100\n",
      "34/34 [==============================] - 0s 2ms/step - loss: nan - mae: nan\n",
      "Epoch 14/100\n",
      "34/34 [==============================] - 0s 2ms/step - loss: nan - mae: nan\n",
      "Epoch 15/100\n",
      "34/34 [==============================] - 0s 3ms/step - loss: nan - mae: nan\n",
      "Epoch 16/100\n",
      "34/34 [==============================] - 0s 2ms/step - loss: nan - mae: nan\n",
      "Epoch 17/100\n",
      "34/34 [==============================] - 0s 2ms/step - loss: nan - mae: nan\n",
      "Epoch 18/100\n",
      "34/34 [==============================] - 0s 2ms/step - loss: nan - mae: nan\n",
      "Epoch 19/100\n",
      "34/34 [==============================] - 0s 2ms/step - loss: nan - mae: nan\n",
      "Epoch 20/100\n",
      "34/34 [==============================] - 0s 2ms/step - loss: nan - mae: nan\n",
      "Epoch 21/100\n",
      "34/34 [==============================] - 0s 3ms/step - loss: nan - mae: nan\n",
      "Epoch 22/100\n",
      "34/34 [==============================] - 0s 3ms/step - loss: nan - mae: nan\n",
      "Epoch 23/100\n",
      "34/34 [==============================] - 0s 2ms/step - loss: nan - mae: nan\n",
      "Epoch 24/100\n",
      "34/34 [==============================] - 0s 2ms/step - loss: nan - mae: nan\n",
      "Epoch 25/100\n",
      "34/34 [==============================] - 0s 3ms/step - loss: nan - mae: nan\n",
      "Epoch 26/100\n",
      "34/34 [==============================] - 0s 3ms/step - loss: nan - mae: nan\n",
      "Epoch 27/100\n",
      "34/34 [==============================] - 0s 2ms/step - loss: nan - mae: nan\n",
      "Epoch 28/100\n",
      "34/34 [==============================] - 0s 2ms/step - loss: nan - mae: nan\n",
      "Epoch 29/100\n",
      "34/34 [==============================] - 0s 2ms/step - loss: nan - mae: nan\n",
      "Epoch 30/100\n",
      "34/34 [==============================] - 0s 2ms/step - loss: nan - mae: nan\n",
      "Epoch 31/100\n",
      "34/34 [==============================] - 0s 2ms/step - loss: nan - mae: nan\n",
      "Epoch 32/100\n",
      "34/34 [==============================] - 0s 2ms/step - loss: nan - mae: nan\n",
      "Epoch 33/100\n",
      "34/34 [==============================] - 0s 2ms/step - loss: nan - mae: nan\n",
      "Epoch 34/100\n",
      "34/34 [==============================] - 0s 2ms/step - loss: nan - mae: nan\n",
      "Epoch 35/100\n",
      "34/34 [==============================] - 0s 2ms/step - loss: nan - mae: nan\n",
      "Epoch 36/100\n",
      "34/34 [==============================] - 0s 2ms/step - loss: nan - mae: nan\n",
      "Epoch 37/100\n",
      "34/34 [==============================] - 0s 2ms/step - loss: nan - mae: nan\n",
      "Epoch 38/100\n",
      "34/34 [==============================] - 0s 2ms/step - loss: nan - mae: nan\n",
      "Epoch 39/100\n",
      "34/34 [==============================] - 0s 1ms/step - loss: nan - mae: nan\n",
      "Epoch 40/100\n",
      "34/34 [==============================] - 0s 1ms/step - loss: nan - mae: nan\n",
      "Epoch 41/100\n",
      "34/34 [==============================] - 0s 1ms/step - loss: nan - mae: nan\n",
      "Epoch 42/100\n",
      "34/34 [==============================] - 0s 2ms/step - loss: nan - mae: nan\n",
      "Epoch 43/100\n",
      "34/34 [==============================] - 0s 2ms/step - loss: nan - mae: nan\n",
      "Epoch 44/100\n",
      "34/34 [==============================] - 0s 2ms/step - loss: nan - mae: nan\n",
      "Epoch 45/100\n",
      "34/34 [==============================] - 0s 2ms/step - loss: nan - mae: nan\n",
      "Epoch 46/100\n",
      "34/34 [==============================] - 0s 2ms/step - loss: nan - mae: nan\n",
      "Epoch 47/100\n",
      "34/34 [==============================] - 0s 2ms/step - loss: nan - mae: nan\n",
      "Epoch 48/100\n",
      "34/34 [==============================] - 0s 2ms/step - loss: nan - mae: nan\n",
      "Epoch 49/100\n",
      "34/34 [==============================] - 0s 2ms/step - loss: nan - mae: nan\n",
      "Epoch 50/100\n",
      "34/34 [==============================] - 0s 2ms/step - loss: nan - mae: nan\n",
      "Epoch 51/100\n",
      "34/34 [==============================] - 0s 2ms/step - loss: nan - mae: nan\n",
      "Epoch 52/100\n",
      "34/34 [==============================] - 0s 2ms/step - loss: nan - mae: nan\n",
      "Epoch 53/100\n",
      "34/34 [==============================] - 0s 3ms/step - loss: nan - mae: nan\n",
      "Epoch 54/100\n",
      "34/34 [==============================] - 0s 1ms/step - loss: nan - mae: nan\n",
      "Epoch 55/100\n",
      "34/34 [==============================] - 0s 2ms/step - loss: nan - mae: nan\n",
      "Epoch 56/100\n",
      "34/34 [==============================] - 0s 3ms/step - loss: nan - mae: nan\n",
      "Epoch 57/100\n",
      "34/34 [==============================] - 0s 2ms/step - loss: nan - mae: nan\n",
      "Epoch 58/100\n",
      "34/34 [==============================] - 0s 2ms/step - loss: nan - mae: nan\n",
      "Epoch 59/100\n",
      "34/34 [==============================] - 0s 2ms/step - loss: nan - mae: nan\n",
      "Epoch 60/100\n",
      "34/34 [==============================] - 0s 2ms/step - loss: nan - mae: nan\n",
      "Epoch 61/100\n",
      "34/34 [==============================] - 0s 3ms/step - loss: nan - mae: nan\n",
      "Epoch 62/100\n",
      "34/34 [==============================] - 0s 3ms/step - loss: nan - mae: nan\n",
      "Epoch 63/100\n",
      "34/34 [==============================] - 0s 2ms/step - loss: nan - mae: nan\n",
      "Epoch 64/100\n",
      "34/34 [==============================] - 0s 2ms/step - loss: nan - mae: nan\n",
      "Epoch 65/100\n",
      "34/34 [==============================] - 0s 2ms/step - loss: nan - mae: nan\n",
      "Epoch 66/100\n",
      "34/34 [==============================] - 0s 2ms/step - loss: nan - mae: nan\n",
      "Epoch 67/100\n",
      "34/34 [==============================] - 0s 2ms/step - loss: nan - mae: nan\n",
      "Epoch 68/100\n",
      "34/34 [==============================] - 0s 3ms/step - loss: nan - mae: nan\n",
      "Epoch 69/100\n",
      "34/34 [==============================] - 0s 2ms/step - loss: nan - mae: nan\n",
      "Epoch 70/100\n",
      "34/34 [==============================] - 0s 2ms/step - loss: nan - mae: nan\n",
      "Epoch 71/100\n",
      "34/34 [==============================] - 0s 3ms/step - loss: nan - mae: nan\n",
      "Epoch 72/100\n",
      "34/34 [==============================] - 0s 2ms/step - loss: nan - mae: nan\n",
      "Epoch 73/100\n",
      "34/34 [==============================] - 0s 1ms/step - loss: nan - mae: nan\n",
      "Epoch 74/100\n",
      "34/34 [==============================] - 0s 2ms/step - loss: nan - mae: nan\n",
      "Epoch 75/100\n",
      "34/34 [==============================] - 0s 2ms/step - loss: nan - mae: nan\n",
      "Epoch 76/100\n",
      "34/34 [==============================] - 0s 2ms/step - loss: nan - mae: nan\n",
      "Epoch 77/100\n",
      "34/34 [==============================] - 0s 2ms/step - loss: nan - mae: nan\n",
      "Epoch 78/100\n",
      "34/34 [==============================] - 0s 2ms/step - loss: nan - mae: nan\n",
      "Epoch 79/100\n",
      "34/34 [==============================] - 0s 3ms/step - loss: nan - mae: nan\n",
      "Epoch 80/100\n",
      "34/34 [==============================] - 0s 3ms/step - loss: nan - mae: nan\n",
      "Epoch 81/100\n",
      "34/34 [==============================] - 0s 2ms/step - loss: nan - mae: nan\n",
      "Epoch 82/100\n",
      "34/34 [==============================] - 0s 2ms/step - loss: nan - mae: nan\n",
      "Epoch 83/100\n",
      "34/34 [==============================] - 0s 3ms/step - loss: nan - mae: nan\n",
      "Epoch 84/100\n",
      "34/34 [==============================] - 0s 3ms/step - loss: nan - mae: nan\n",
      "Epoch 85/100\n",
      "34/34 [==============================] - 0s 2ms/step - loss: nan - mae: nan\n",
      "Epoch 86/100\n",
      "34/34 [==============================] - 0s 2ms/step - loss: nan - mae: nan\n",
      "Epoch 87/100\n",
      "34/34 [==============================] - 0s 2ms/step - loss: nan - mae: nan\n",
      "Epoch 88/100\n",
      "34/34 [==============================] - 0s 2ms/step - loss: nan - mae: nan\n",
      "Epoch 89/100\n",
      "34/34 [==============================] - 0s 2ms/step - loss: nan - mae: nan\n",
      "Epoch 90/100\n",
      "34/34 [==============================] - 0s 2ms/step - loss: nan - mae: nan\n",
      "Epoch 91/100\n",
      "34/34 [==============================] - 0s 2ms/step - loss: nan - mae: nan\n",
      "Epoch 92/100\n",
      "34/34 [==============================] - 0s 2ms/step - loss: nan - mae: nan\n",
      "Epoch 93/100\n"
     ]
    },
    {
     "name": "stdout",
     "output_type": "stream",
     "text": [
      "34/34 [==============================] - 0s 2ms/step - loss: nan - mae: nan\n",
      "Epoch 94/100\n",
      "34/34 [==============================] - 0s 2ms/step - loss: nan - mae: nan\n",
      "Epoch 95/100\n",
      "34/34 [==============================] - 0s 3ms/step - loss: nan - mae: nan\n",
      "Epoch 96/100\n",
      "34/34 [==============================] - 0s 2ms/step - loss: nan - mae: nan\n",
      "Epoch 97/100\n",
      "34/34 [==============================] - 0s 2ms/step - loss: nan - mae: nan\n",
      "Epoch 98/100\n",
      "34/34 [==============================] - 0s 2ms/step - loss: nan - mae: nan\n",
      "Epoch 99/100\n",
      "34/34 [==============================] - 0s 2ms/step - loss: nan - mae: nan\n",
      "Epoch 100/100\n",
      "34/34 [==============================] - 0s 2ms/step - loss: nan - mae: nan\n"
     ]
    },
    {
     "data": {
      "text/plain": [
       "<keras.callbacks.History at 0x13d3a6a0820>"
      ]
     },
     "execution_count": 98,
     "metadata": {},
     "output_type": "execute_result"
    }
   ],
   "source": [
    "# 1st experiment: add extra layer with more hidden units\n",
    "\n",
    "# Set random seed\n",
    "tf.random.set_seed(42)\n",
    "\n",
    "# 1. Create the model\n",
    "insurance_model_2 = tf.keras.Sequential([\n",
    "    tf.keras.layers.Dense(100),\n",
    "    tf.keras.layers.Dense(10),\n",
    "    tf.keras.layers.Dense(1)\n",
    "])\n",
    "\n",
    "# 2. Compile the model\n",
    "insurance_model_2.compile(loss=tf.keras.losses.mae,\n",
    "                         optimizer=tf.keras.optimizers.SGD(),\n",
    "                         metrics=[\"mae\"])\n",
    "\n",
    "# 3. Fit the model\n",
    "insurance_model_2.fit(X_train, y_train, epochs=100, verbose=1)"
   ]
  },
  {
   "cell_type": "markdown",
   "id": "7fbeccf2",
   "metadata": {},
   "source": [
    "**💡 Personal note**                \n",
    "\n",
    "Our model is outputing NAN as value. If we remove the first layer of 100 units, we would remark that the model we be trained fine. So we can theorize that the model is too large, and the dataset too small, for the model to learn anything.\n",
    "There are a few workaround such a case:\n",
    "1. Make the model a little smaller (the unit in the first layer can be reduced)\n",
    "1. The learning rate of the model can be reduced (so that the model learn better)\n",
    "1. The optimizer of the model can be chandeg."
   ]
  },
  {
   "cell_type": "code",
   "execution_count": null,
   "id": "bbf6e832",
   "metadata": {},
   "outputs": [],
   "source": []
  },
  {
   "cell_type": "code",
   "execution_count": 100,
   "id": "2ea11c39",
   "metadata": {},
   "outputs": [
    {
     "name": "stdout",
     "output_type": "stream",
     "text": [
      "Epoch 1/100\n",
      "34/34 [==============================] - 1s 2ms/step - loss: 13271.7812 - mae: 13271.7812\n",
      "Epoch 2/100\n",
      "34/34 [==============================] - 0s 2ms/step - loss: 13065.9629 - mae: 13065.9629\n",
      "Epoch 3/100\n",
      "34/34 [==============================] - 0s 2ms/step - loss: 12642.6484 - mae: 12642.6484\n",
      "Epoch 4/100\n",
      "34/34 [==============================] - 0s 2ms/step - loss: 11850.1230 - mae: 11850.1230\n",
      "Epoch 5/100\n",
      "34/34 [==============================] - 0s 2ms/step - loss: 10598.7979 - mae: 10598.7979\n",
      "Epoch 6/100\n",
      "34/34 [==============================] - 0s 2ms/step - loss: 9116.0918 - mae: 9116.0918\n",
      "Epoch 7/100\n",
      "34/34 [==============================] - 0s 2ms/step - loss: 7900.0728 - mae: 7900.0728\n",
      "Epoch 8/100\n",
      "34/34 [==============================] - 0s 2ms/step - loss: 7455.5249 - mae: 7455.5249\n",
      "Epoch 9/100\n",
      "34/34 [==============================] - 0s 2ms/step - loss: 7397.4336 - mae: 7397.4336\n",
      "Epoch 10/100\n",
      "34/34 [==============================] - 0s 2ms/step - loss: 7378.2378 - mae: 7378.2378\n",
      "Epoch 11/100\n",
      "34/34 [==============================] - 0s 2ms/step - loss: 7359.3638 - mae: 7359.3638\n",
      "Epoch 12/100\n",
      "34/34 [==============================] - 0s 2ms/step - loss: 7337.5244 - mae: 7337.5244\n",
      "Epoch 13/100\n",
      "34/34 [==============================] - 0s 2ms/step - loss: 7317.3315 - mae: 7317.3315\n",
      "Epoch 14/100\n",
      "34/34 [==============================] - 0s 2ms/step - loss: 7294.8418 - mae: 7294.8418\n",
      "Epoch 15/100\n",
      "34/34 [==============================] - 0s 2ms/step - loss: 7276.1011 - mae: 7276.1011\n",
      "Epoch 16/100\n",
      "34/34 [==============================] - 0s 2ms/step - loss: 7254.0859 - mae: 7254.0859\n",
      "Epoch 17/100\n",
      "34/34 [==============================] - 0s 2ms/step - loss: 7232.1040 - mae: 7232.1040\n",
      "Epoch 18/100\n",
      "34/34 [==============================] - 0s 2ms/step - loss: 7209.2593 - mae: 7209.2593\n",
      "Epoch 19/100\n",
      "34/34 [==============================] - 0s 2ms/step - loss: 7185.9585 - mae: 7185.9585\n",
      "Epoch 20/100\n",
      "34/34 [==============================] - 0s 2ms/step - loss: 7161.5283 - mae: 7161.5283\n",
      "Epoch 21/100\n",
      "34/34 [==============================] - 0s 3ms/step - loss: 7141.6992 - mae: 7141.6992\n",
      "Epoch 22/100\n",
      "34/34 [==============================] - 0s 3ms/step - loss: 7113.5298 - mae: 7113.5298\n",
      "Epoch 23/100\n",
      "34/34 [==============================] - 0s 2ms/step - loss: 7088.0117 - mae: 7088.0117\n",
      "Epoch 24/100\n",
      "34/34 [==============================] - 0s 2ms/step - loss: 7061.5503 - mae: 7061.5503\n",
      "Epoch 25/100\n",
      "34/34 [==============================] - 0s 2ms/step - loss: 7041.4658 - mae: 7041.4658\n",
      "Epoch 26/100\n",
      "34/34 [==============================] - 0s 3ms/step - loss: 7009.2427 - mae: 7009.2427\n",
      "Epoch 27/100\n",
      "34/34 [==============================] - 0s 2ms/step - loss: 6980.3491 - mae: 6980.3491\n",
      "Epoch 28/100\n",
      "34/34 [==============================] - 0s 2ms/step - loss: 6950.8022 - mae: 6950.8022\n",
      "Epoch 29/100\n",
      "34/34 [==============================] - 0s 2ms/step - loss: 6921.0835 - mae: 6921.0835\n",
      "Epoch 30/100\n",
      "34/34 [==============================] - 0s 2ms/step - loss: 6894.1924 - mae: 6894.1924\n",
      "Epoch 31/100\n",
      "34/34 [==============================] - 0s 3ms/step - loss: 6861.5776 - mae: 6861.5776\n",
      "Epoch 32/100\n",
      "34/34 [==============================] - 0s 2ms/step - loss: 6832.1694 - mae: 6832.1694\n",
      "Epoch 33/100\n",
      "34/34 [==============================] - 0s 2ms/step - loss: 6798.5859 - mae: 6798.5859\n",
      "Epoch 34/100\n",
      "34/34 [==============================] - 0s 2ms/step - loss: 6765.1255 - mae: 6765.1255\n",
      "Epoch 35/100\n",
      "34/34 [==============================] - 0s 3ms/step - loss: 6730.3096 - mae: 6730.3096\n",
      "Epoch 36/100\n",
      "34/34 [==============================] - 0s 3ms/step - loss: 6695.1240 - mae: 6695.1240\n",
      "Epoch 37/100\n",
      "34/34 [==============================] - 0s 3ms/step - loss: 6659.0161 - mae: 6659.0161\n",
      "Epoch 38/100\n",
      "34/34 [==============================] - 0s 2ms/step - loss: 6629.0298 - mae: 6629.0298\n",
      "Epoch 39/100\n",
      "34/34 [==============================] - 0s 3ms/step - loss: 6591.1470 - mae: 6591.1470\n",
      "Epoch 40/100\n",
      "34/34 [==============================] - 0s 2ms/step - loss: 6561.5781 - mae: 6561.5781\n",
      "Epoch 41/100\n",
      "34/34 [==============================] - 0s 3ms/step - loss: 6537.3477 - mae: 6537.3477\n",
      "Epoch 42/100\n",
      "34/34 [==============================] - 0s 3ms/step - loss: 6516.0073 - mae: 6516.0073\n",
      "Epoch 43/100\n",
      "34/34 [==============================] - 0s 2ms/step - loss: 6495.3784 - mae: 6495.3784\n",
      "Epoch 44/100\n",
      "34/34 [==============================] - 0s 3ms/step - loss: 6477.8037 - mae: 6477.8037\n",
      "Epoch 45/100\n",
      "34/34 [==============================] - 0s 3ms/step - loss: 6467.6470 - mae: 6467.6470\n",
      "Epoch 46/100\n",
      "34/34 [==============================] - 0s 2ms/step - loss: 6451.5112 - mae: 6451.5112\n",
      "Epoch 47/100\n",
      "34/34 [==============================] - 0s 2ms/step - loss: 6435.5488 - mae: 6435.5488\n",
      "Epoch 48/100\n",
      "34/34 [==============================] - 0s 2ms/step - loss: 6422.0249 - mae: 6422.0249\n",
      "Epoch 49/100\n",
      "34/34 [==============================] - 0s 3ms/step - loss: 6410.4043 - mae: 6410.4043\n",
      "Epoch 50/100\n",
      "34/34 [==============================] - 0s 3ms/step - loss: 6396.3545 - mae: 6396.3545\n",
      "Epoch 51/100\n",
      "34/34 [==============================] - 0s 2ms/step - loss: 6382.8066 - mae: 6382.8066\n",
      "Epoch 52/100\n",
      "34/34 [==============================] - 0s 3ms/step - loss: 6371.0596 - mae: 6371.0596\n",
      "Epoch 53/100\n",
      "34/34 [==============================] - 0s 3ms/step - loss: 6356.1685 - mae: 6356.1685\n",
      "Epoch 54/100\n",
      "34/34 [==============================] - 0s 2ms/step - loss: 6342.0005 - mae: 6342.0005\n",
      "Epoch 55/100\n",
      "34/34 [==============================] - 0s 2ms/step - loss: 6328.3262 - mae: 6328.3262\n",
      "Epoch 56/100\n",
      "34/34 [==============================] - 0s 2ms/step - loss: 6314.0718 - mae: 6314.0718\n",
      "Epoch 57/100\n",
      "34/34 [==============================] - 0s 1ms/step - loss: 6300.2368 - mae: 6300.2368\n",
      "Epoch 58/100\n",
      "34/34 [==============================] - 0s 2ms/step - loss: 6286.5269 - mae: 6286.5269\n",
      "Epoch 59/100\n",
      "34/34 [==============================] - 0s 2ms/step - loss: 6270.3057 - mae: 6270.3057\n",
      "Epoch 60/100\n",
      "34/34 [==============================] - 0s 1ms/step - loss: 6259.1143 - mae: 6259.1143\n",
      "Epoch 61/100\n",
      "34/34 [==============================] - 0s 2ms/step - loss: 6238.5791 - mae: 6238.5791\n",
      "Epoch 62/100\n",
      "34/34 [==============================] - 0s 2ms/step - loss: 6226.0923 - mae: 6226.0923\n",
      "Epoch 63/100\n",
      "34/34 [==============================] - 0s 2ms/step - loss: 6207.4321 - mae: 6207.4321\n",
      "Epoch 64/100\n",
      "34/34 [==============================] - 0s 2ms/step - loss: 6189.0874 - mae: 6189.0874\n",
      "Epoch 65/100\n",
      "34/34 [==============================] - 0s 2ms/step - loss: 6171.2881 - mae: 6171.2881\n",
      "Epoch 66/100\n",
      "34/34 [==============================] - 0s 2ms/step - loss: 6153.2622 - mae: 6153.2622\n",
      "Epoch 67/100\n",
      "34/34 [==============================] - 0s 2ms/step - loss: 6140.7104 - mae: 6140.7104\n",
      "Epoch 68/100\n",
      "34/34 [==============================] - 0s 2ms/step - loss: 6117.5674 - mae: 6117.5674\n",
      "Epoch 69/100\n",
      "34/34 [==============================] - 0s 2ms/step - loss: 6099.2061 - mae: 6099.2061\n",
      "Epoch 70/100\n",
      "34/34 [==============================] - 0s 2ms/step - loss: 6077.8442 - mae: 6077.8442\n",
      "Epoch 71/100\n",
      "34/34 [==============================] - 0s 2ms/step - loss: 6057.7603 - mae: 6057.7603\n",
      "Epoch 72/100\n",
      "34/34 [==============================] - 0s 2ms/step - loss: 6036.4053 - mae: 6036.4053\n",
      "Epoch 73/100\n",
      "34/34 [==============================] - 0s 2ms/step - loss: 6021.1641 - mae: 6021.1641\n",
      "Epoch 74/100\n",
      "34/34 [==============================] - 0s 2ms/step - loss: 5991.1743 - mae: 5991.1743\n",
      "Epoch 75/100\n",
      "34/34 [==============================] - 0s 2ms/step - loss: 5969.3667 - mae: 5969.3667\n",
      "Epoch 76/100\n",
      "34/34 [==============================] - 0s 3ms/step - loss: 5951.7734 - mae: 5951.7734\n",
      "Epoch 77/100\n",
      "34/34 [==============================] - 0s 2ms/step - loss: 5919.8291 - mae: 5919.8291\n",
      "Epoch 78/100\n",
      "34/34 [==============================] - 0s 3ms/step - loss: 5894.1006 - mae: 5894.1006\n",
      "Epoch 79/100\n",
      "34/34 [==============================] - 0s 3ms/step - loss: 5867.7681 - mae: 5867.7681\n",
      "Epoch 80/100\n",
      "34/34 [==============================] - 0s 3ms/step - loss: 5837.9536 - mae: 5837.9536\n",
      "Epoch 81/100\n",
      "34/34 [==============================] - 0s 2ms/step - loss: 5810.8955 - mae: 5810.8955\n",
      "Epoch 82/100\n"
     ]
    },
    {
     "name": "stdout",
     "output_type": "stream",
     "text": [
      "34/34 [==============================] - 0s 2ms/step - loss: 5779.3140 - mae: 5779.3140\n",
      "Epoch 83/100\n",
      "34/34 [==============================] - 0s 3ms/step - loss: 5749.5864 - mae: 5749.5864\n",
      "Epoch 84/100\n",
      "34/34 [==============================] - 0s 3ms/step - loss: 5713.3696 - mae: 5713.3696\n",
      "Epoch 85/100\n",
      "34/34 [==============================] - 0s 3ms/step - loss: 5684.3291 - mae: 5684.3291\n",
      "Epoch 86/100\n",
      "34/34 [==============================] - 0s 2ms/step - loss: 5648.0640 - mae: 5648.0640\n",
      "Epoch 87/100\n",
      "34/34 [==============================] - 0s 2ms/step - loss: 5609.4727 - mae: 5609.4727\n",
      "Epoch 88/100\n",
      "34/34 [==============================] - 0s 2ms/step - loss: 5572.6821 - mae: 5572.6821\n",
      "Epoch 89/100\n",
      "34/34 [==============================] - 0s 2ms/step - loss: 5528.5352 - mae: 5528.5352\n",
      "Epoch 90/100\n",
      "34/34 [==============================] - 0s 3ms/step - loss: 5483.7256 - mae: 5483.7256\n",
      "Epoch 91/100\n",
      "34/34 [==============================] - 0s 3ms/step - loss: 5442.8672 - mae: 5442.8672\n",
      "Epoch 92/100\n",
      "34/34 [==============================] - 0s 3ms/step - loss: 5391.9561 - mae: 5391.9561\n",
      "Epoch 93/100\n",
      "34/34 [==============================] - 0s 3ms/step - loss: 5345.5908 - mae: 5345.5908\n",
      "Epoch 94/100\n",
      "34/34 [==============================] - 0s 3ms/step - loss: 5294.1821 - mae: 5294.1821\n",
      "Epoch 95/100\n",
      "34/34 [==============================] - 0s 3ms/step - loss: 5240.3022 - mae: 5240.3022\n",
      "Epoch 96/100\n",
      "34/34 [==============================] - 0s 3ms/step - loss: 5189.1709 - mae: 5189.1709\n",
      "Epoch 97/100\n",
      "34/34 [==============================] - 0s 3ms/step - loss: 5132.8223 - mae: 5132.8223\n",
      "Epoch 98/100\n",
      "34/34 [==============================] - 0s 3ms/step - loss: 5065.1968 - mae: 5065.1968\n",
      "Epoch 99/100\n",
      "34/34 [==============================] - 0s 3ms/step - loss: 4999.7573 - mae: 4999.7573\n",
      "Epoch 100/100\n",
      "34/34 [==============================] - 0s 3ms/step - loss: 4943.6606 - mae: 4943.6606\n"
     ]
    },
    {
     "data": {
      "text/plain": [
       "<keras.callbacks.History at 0x13d39d5b250>"
      ]
     },
     "execution_count": 100,
     "metadata": {},
     "output_type": "execute_result"
    }
   ],
   "source": [
    "# 1st experiment (updated): add extra layer with more hidden units, while using Adam optimizer\n",
    "\n",
    "# Set random seed\n",
    "tf.random.set_seed(42)\n",
    "\n",
    "# 1. Create the model\n",
    "insurance_model_2 = tf.keras.Sequential([\n",
    "    tf.keras.layers.Dense(100),\n",
    "    tf.keras.layers.Dense(10),\n",
    "    tf.keras.layers.Dense(1)\n",
    "])\n",
    "\n",
    "# 2. Compile the model\n",
    "insurance_model_2.compile(loss=tf.keras.losses.mae,\n",
    "                         optimizer=tf.keras.optimizers.Adam(),\n",
    "                         metrics=[\"mae\"])\n",
    "\n",
    "# 3. Fit the model\n",
    "insurance_model_2.fit(X_train, y_train, epochs=100, verbose=1)"
   ]
  },
  {
   "cell_type": "markdown",
   "id": "1bf78ad3",
   "metadata": {},
   "source": [
    "Two remarks:\n",
    "1. Now the model is not outputing NAN when we updated its optimizer\n",
    "1. This model is performing better (the loss now is 4943) in training compared to the first one"
   ]
  },
  {
   "cell_type": "code",
   "execution_count": 101,
   "id": "e791e747",
   "metadata": {},
   "outputs": [
    {
     "name": "stdout",
     "output_type": "stream",
     "text": [
      "9/9 [==============================] - 0s 2ms/step - loss: 4812.6836 - mae: 4812.6836\n"
     ]
    },
    {
     "data": {
      "text/plain": [
       "[4812.68359375, 4812.68359375]"
      ]
     },
     "execution_count": 101,
     "metadata": {},
     "output_type": "execute_result"
    }
   ],
   "source": [
    "# Evaluate the 2nd model\n",
    "insurance_model_2.evaluate(X_test, y_test)"
   ]
  },
  {
   "cell_type": "code",
   "execution_count": 102,
   "id": "bba84015",
   "metadata": {},
   "outputs": [
    {
     "name": "stdout",
     "output_type": "stream",
     "text": [
      "9/9 [==============================] - 0s 1ms/step - loss: 7021.5205 - mae: 7021.5205\n"
     ]
    },
    {
     "data": {
      "text/plain": [
       "[7021.5205078125, 7021.5205078125]"
      ]
     },
     "execution_count": 102,
     "metadata": {},
     "output_type": "execute_result"
    }
   ],
   "source": [
    "# Evaluate the 1st model\n",
    "insurance_model.evaluate(X_test, y_test)"
   ]
  },
  {
   "cell_type": "markdown",
   "id": "87603190",
   "metadata": {},
   "source": [
    "The 2nd model is indeed better than the 1st one, by a distance of 3000. Recall that only two things were tweaked: an extra layer was added, and the optimizer was changed; this might not always work, but it is good to remember they are one of the levers than can be turned to try to improve a model."
   ]
  },
  {
   "cell_type": "code",
   "execution_count": null,
   "id": "f9db9d02",
   "metadata": {},
   "outputs": [],
   "source": []
  },
  {
   "cell_type": "markdown",
   "id": "4b53202c",
   "metadata": {},
   "source": [
    "We will update our experiments (the experiments can be updated according to how each of them proceed).\n",
    " \n",
    "<br/><br/>\n",
    "**Experiments (update)**:\n",
    "1. Add an extra layer with more hidden units, and use Adam optimizer\n",
    "1. Same as above, but train for longer\n",
    "1. *Insert your own experiment here, up to your imagination/experience*\n",
    "\n",
    "The second experiment was updated to \"Same as above,...\" because we saw that the 1st experiment give us a better result than the original model; thus we choose to try to improve the model of the 1st experiment during the 2nd experiment."
   ]
  },
  {
   "cell_type": "code",
   "execution_count": 103,
   "id": "f3a36b57",
   "metadata": {},
   "outputs": [
    {
     "name": "stdout",
     "output_type": "stream",
     "text": [
      "Epoch 1/200\n",
      "34/34 [==============================] - 1s 2ms/step - loss: 13259.9492 - mae: 13259.9492\n",
      "Epoch 2/200\n",
      "34/34 [==============================] - 0s 2ms/step - loss: 13029.4219 - mae: 13029.4219\n",
      "Epoch 3/200\n",
      "34/34 [==============================] - 0s 2ms/step - loss: 12565.9971 - mae: 12565.9971\n",
      "Epoch 4/200\n",
      "34/34 [==============================] - 0s 2ms/step - loss: 11712.5566 - mae: 11712.5566\n",
      "Epoch 5/200\n",
      "34/34 [==============================] - 0s 2ms/step - loss: 10408.6279 - mae: 10408.6279\n",
      "Epoch 6/200\n",
      "34/34 [==============================] - 0s 2ms/step - loss: 8924.2764 - mae: 8924.2764\n",
      "Epoch 7/200\n",
      "34/34 [==============================] - 0s 2ms/step - loss: 7792.2651 - mae: 7792.2651\n",
      "Epoch 8/200\n",
      "34/34 [==============================] - 0s 2ms/step - loss: 7451.6401 - mae: 7451.6401\n",
      "Epoch 9/200\n",
      "34/34 [==============================] - 0s 2ms/step - loss: 7407.3193 - mae: 7407.3193\n",
      "Epoch 10/200\n",
      "34/34 [==============================] - 0s 2ms/step - loss: 7387.0854 - mae: 7387.0854\n",
      "Epoch 11/200\n",
      "34/34 [==============================] - 0s 2ms/step - loss: 7367.2422 - mae: 7367.2422\n",
      "Epoch 12/200\n",
      "34/34 [==============================] - 0s 2ms/step - loss: 7343.6548 - mae: 7343.6548\n",
      "Epoch 13/200\n",
      "34/34 [==============================] - 0s 2ms/step - loss: 7321.9663 - mae: 7321.9663\n",
      "Epoch 14/200\n",
      "34/34 [==============================] - 0s 2ms/step - loss: 7297.7666 - mae: 7297.7666\n",
      "Epoch 15/200\n",
      "34/34 [==============================] - 0s 2ms/step - loss: 7277.4580 - mae: 7277.4580\n",
      "Epoch 16/200\n",
      "34/34 [==============================] - 0s 1ms/step - loss: 7253.4883 - mae: 7253.4883\n",
      "Epoch 17/200\n",
      "34/34 [==============================] - 0s 1ms/step - loss: 7230.0430 - mae: 7230.0430\n",
      "Epoch 18/200\n",
      "34/34 [==============================] - 0s 1ms/step - loss: 7204.9077 - mae: 7204.9077\n",
      "Epoch 19/200\n",
      "34/34 [==============================] - 0s 2ms/step - loss: 7179.9487 - mae: 7179.9487\n",
      "Epoch 20/200\n",
      "34/34 [==============================] - 0s 2ms/step - loss: 7153.0879 - mae: 7153.0879\n",
      "Epoch 21/200\n",
      "34/34 [==============================] - 0s 2ms/step - loss: 7131.0435 - mae: 7131.0435\n",
      "Epoch 22/200\n",
      "34/34 [==============================] - 0s 2ms/step - loss: 7100.2837 - mae: 7100.2837\n",
      "Epoch 23/200\n",
      "34/34 [==============================] - 0s 2ms/step - loss: 7072.0815 - mae: 7072.0815\n",
      "Epoch 24/200\n",
      "34/34 [==============================] - 0s 2ms/step - loss: 7042.8525 - mae: 7042.8525\n",
      "Epoch 25/200\n",
      "34/34 [==============================] - 0s 2ms/step - loss: 7019.0898 - mae: 7019.0898\n",
      "Epoch 26/200\n",
      "34/34 [==============================] - 0s 2ms/step - loss: 6984.8467 - mae: 6984.8467\n",
      "Epoch 27/200\n",
      "34/34 [==============================] - 0s 1ms/step - loss: 6951.6636 - mae: 6951.6636\n",
      "Epoch 28/200\n",
      "34/34 [==============================] - 0s 1ms/step - loss: 6918.0854 - mae: 6918.0854\n",
      "Epoch 29/200\n",
      "34/34 [==============================] - 0s 2ms/step - loss: 6884.8096 - mae: 6884.8096\n",
      "Epoch 30/200\n",
      "34/34 [==============================] - 0s 2ms/step - loss: 6854.3594 - mae: 6854.3594\n",
      "Epoch 31/200\n",
      "34/34 [==============================] - 0s 2ms/step - loss: 6816.6792 - mae: 6816.6792\n",
      "Epoch 32/200\n",
      "34/34 [==============================] - 0s 2ms/step - loss: 6781.1855 - mae: 6781.1855\n",
      "Epoch 33/200\n",
      "34/34 [==============================] - 0s 1ms/step - loss: 6742.9155 - mae: 6742.9155\n",
      "Epoch 34/200\n",
      "34/34 [==============================] - 0s 2ms/step - loss: 6705.3857 - mae: 6705.3857\n",
      "Epoch 35/200\n",
      "34/34 [==============================] - 0s 2ms/step - loss: 6667.1948 - mae: 6667.1948\n",
      "Epoch 36/200\n",
      "34/34 [==============================] - 0s 2ms/step - loss: 6629.4785 - mae: 6629.4785\n",
      "Epoch 37/200\n",
      "34/34 [==============================] - 0s 2ms/step - loss: 6591.2085 - mae: 6591.2085\n",
      "Epoch 38/200\n",
      "34/34 [==============================] - 0s 2ms/step - loss: 6561.3008 - mae: 6561.3008\n",
      "Epoch 39/200\n",
      "34/34 [==============================] - 0s 2ms/step - loss: 6528.6851 - mae: 6528.6851\n",
      "Epoch 40/200\n",
      "34/34 [==============================] - 0s 2ms/step - loss: 6505.0107 - mae: 6505.0107\n",
      "Epoch 41/200\n",
      "34/34 [==============================] - 0s 2ms/step - loss: 6486.5449 - mae: 6486.5449\n",
      "Epoch 42/200\n",
      "34/34 [==============================] - 0s 2ms/step - loss: 6469.8779 - mae: 6469.8779\n",
      "Epoch 43/200\n",
      "34/34 [==============================] - 0s 2ms/step - loss: 6454.4277 - mae: 6454.4277\n",
      "Epoch 44/200\n",
      "34/34 [==============================] - 0s 2ms/step - loss: 6437.8506 - mae: 6437.8506\n",
      "Epoch 45/200\n",
      "34/34 [==============================] - 0s 2ms/step - loss: 6431.4180 - mae: 6431.4180\n",
      "Epoch 46/200\n",
      "34/34 [==============================] - 0s 2ms/step - loss: 6410.2954 - mae: 6410.2954\n",
      "Epoch 47/200\n",
      "34/34 [==============================] - 0s 2ms/step - loss: 6395.9727 - mae: 6395.9727\n",
      "Epoch 48/200\n",
      "34/34 [==============================] - 0s 2ms/step - loss: 6380.4727 - mae: 6380.4727\n",
      "Epoch 49/200\n",
      "34/34 [==============================] - 0s 2ms/step - loss: 6369.0464 - mae: 6369.0464\n",
      "Epoch 50/200\n",
      "34/34 [==============================] - 0s 2ms/step - loss: 6353.1616 - mae: 6353.1616\n",
      "Epoch 51/200\n",
      "34/34 [==============================] - 0s 2ms/step - loss: 6337.8311 - mae: 6337.8311\n",
      "Epoch 52/200\n",
      "34/34 [==============================] - 0s 2ms/step - loss: 6322.6313 - mae: 6322.6313\n",
      "Epoch 53/200\n",
      "34/34 [==============================] - 0s 2ms/step - loss: 6306.8335 - mae: 6306.8335\n",
      "Epoch 54/200\n",
      "34/34 [==============================] - 0s 2ms/step - loss: 6291.1450 - mae: 6291.1450\n",
      "Epoch 55/200\n",
      "34/34 [==============================] - 0s 2ms/step - loss: 6275.5747 - mae: 6275.5747\n",
      "Epoch 56/200\n",
      "34/34 [==============================] - 0s 2ms/step - loss: 6260.5796 - mae: 6260.5796\n",
      "Epoch 57/200\n",
      "34/34 [==============================] - 0s 3ms/step - loss: 6243.8989 - mae: 6243.8989\n",
      "Epoch 58/200\n",
      "34/34 [==============================] - 0s 2ms/step - loss: 6228.4209 - mae: 6228.4209\n",
      "Epoch 59/200\n",
      "34/34 [==============================] - 0s 2ms/step - loss: 6209.5195 - mae: 6209.5195\n",
      "Epoch 60/200\n",
      "34/34 [==============================] - 0s 2ms/step - loss: 6196.3120 - mae: 6196.3120\n",
      "Epoch 61/200\n",
      "34/34 [==============================] - 0s 2ms/step - loss: 6172.7676 - mae: 6172.7676\n",
      "Epoch 62/200\n",
      "34/34 [==============================] - 0s 2ms/step - loss: 6158.9185 - mae: 6158.9185\n",
      "Epoch 63/200\n",
      "34/34 [==============================] - 0s 2ms/step - loss: 6136.1016 - mae: 6136.1016\n",
      "Epoch 64/200\n",
      "34/34 [==============================] - 0s 2ms/step - loss: 6115.0752 - mae: 6115.0752\n",
      "Epoch 65/200\n",
      "34/34 [==============================] - 0s 2ms/step - loss: 6094.9805 - mae: 6094.9805\n",
      "Epoch 66/200\n",
      "34/34 [==============================] - 0s 2ms/step - loss: 6073.5225 - mae: 6073.5225\n",
      "Epoch 67/200\n",
      "34/34 [==============================] - 0s 2ms/step - loss: 6057.0762 - mae: 6057.0762\n",
      "Epoch 68/200\n",
      "34/34 [==============================] - 0s 2ms/step - loss: 6029.5801 - mae: 6029.5801\n",
      "Epoch 69/200\n",
      "34/34 [==============================] - 0s 2ms/step - loss: 6008.9312 - mae: 6008.9312\n",
      "Epoch 70/200\n",
      "34/34 [==============================] - 0s 2ms/step - loss: 5984.4624 - mae: 5984.4624\n",
      "Epoch 71/200\n",
      "34/34 [==============================] - 0s 2ms/step - loss: 5959.6587 - mae: 5959.6587\n",
      "Epoch 72/200\n",
      "34/34 [==============================] - 0s 2ms/step - loss: 5933.4404 - mae: 5933.4404\n",
      "Epoch 73/200\n",
      "34/34 [==============================] - 0s 2ms/step - loss: 5916.7261 - mae: 5916.7261\n",
      "Epoch 74/200\n",
      "34/34 [==============================] - 0s 2ms/step - loss: 5879.9790 - mae: 5879.9790\n",
      "Epoch 75/200\n",
      "34/34 [==============================] - 0s 2ms/step - loss: 5852.7183 - mae: 5852.7183\n",
      "Epoch 76/200\n",
      "34/34 [==============================] - 0s 2ms/step - loss: 5829.2671 - mae: 5829.2671\n",
      "Epoch 77/200\n",
      "34/34 [==============================] - 0s 2ms/step - loss: 5793.2622 - mae: 5793.2622\n",
      "Epoch 78/200\n",
      "34/34 [==============================] - 0s 2ms/step - loss: 5761.7046 - mae: 5761.7046\n",
      "Epoch 79/200\n",
      "34/34 [==============================] - 0s 2ms/step - loss: 5728.2134 - mae: 5728.2134\n",
      "Epoch 80/200\n",
      "34/34 [==============================] - 0s 2ms/step - loss: 5692.8452 - mae: 5692.8452\n",
      "Epoch 81/200\n",
      "34/34 [==============================] - 0s 2ms/step - loss: 5659.5059 - mae: 5659.5059\n",
      "Epoch 82/200\n"
     ]
    },
    {
     "name": "stdout",
     "output_type": "stream",
     "text": [
      "34/34 [==============================] - 0s 2ms/step - loss: 5621.2197 - mae: 5621.2197\n",
      "Epoch 83/200\n",
      "34/34 [==============================] - 0s 2ms/step - loss: 5583.3911 - mae: 5583.3911\n",
      "Epoch 84/200\n",
      "34/34 [==============================] - 0s 2ms/step - loss: 5539.7324 - mae: 5539.7324\n",
      "Epoch 85/200\n",
      "34/34 [==============================] - 0s 2ms/step - loss: 5499.2954 - mae: 5499.2954\n",
      "Epoch 86/200\n",
      "34/34 [==============================] - 0s 2ms/step - loss: 5455.8745 - mae: 5455.8745\n",
      "Epoch 87/200\n",
      "34/34 [==============================] - 0s 2ms/step - loss: 5410.4985 - mae: 5410.4985\n",
      "Epoch 88/200\n",
      "34/34 [==============================] - 0s 2ms/step - loss: 5361.2012 - mae: 5361.2012\n",
      "Epoch 89/200\n",
      "34/34 [==============================] - 0s 2ms/step - loss: 5308.3257 - mae: 5308.3257\n",
      "Epoch 90/200\n",
      "34/34 [==============================] - 0s 2ms/step - loss: 5251.5176 - mae: 5251.5176\n",
      "Epoch 91/200\n",
      "34/34 [==============================] - 0s 2ms/step - loss: 5200.2554 - mae: 5200.2554\n",
      "Epoch 92/200\n",
      "34/34 [==============================] - 0s 2ms/step - loss: 5138.6045 - mae: 5138.6045\n",
      "Epoch 93/200\n",
      "34/34 [==============================] - 0s 2ms/step - loss: 5080.9658 - mae: 5080.9658\n",
      "Epoch 94/200\n",
      "34/34 [==============================] - 0s 2ms/step - loss: 5013.6543 - mae: 5013.6543\n",
      "Epoch 95/200\n",
      "34/34 [==============================] - 0s 1ms/step - loss: 4948.9473 - mae: 4948.9473\n",
      "Epoch 96/200\n",
      "34/34 [==============================] - 0s 2ms/step - loss: 4890.6880 - mae: 4890.6880\n",
      "Epoch 97/200\n",
      "34/34 [==============================] - 0s 1ms/step - loss: 4815.1396 - mae: 4815.1396\n",
      "Epoch 98/200\n",
      "34/34 [==============================] - 0s 1ms/step - loss: 4736.5327 - mae: 4736.5327\n",
      "Epoch 99/200\n",
      "34/34 [==============================] - 0s 2ms/step - loss: 4650.7231 - mae: 4650.7231\n",
      "Epoch 100/200\n",
      "34/34 [==============================] - 0s 2ms/step - loss: 4583.3999 - mae: 4583.3999\n",
      "Epoch 101/200\n",
      "34/34 [==============================] - 0s 2ms/step - loss: 4492.6128 - mae: 4492.6128\n",
      "Epoch 102/200\n",
      "34/34 [==============================] - 0s 1ms/step - loss: 4400.5273 - mae: 4400.5273\n",
      "Epoch 103/200\n",
      "34/34 [==============================] - 0s 2ms/step - loss: 4320.8965 - mae: 4320.8965\n",
      "Epoch 104/200\n",
      "34/34 [==============================] - 0s 2ms/step - loss: 4241.1240 - mae: 4241.1240\n",
      "Epoch 105/200\n",
      "34/34 [==============================] - 0s 2ms/step - loss: 4158.8438 - mae: 4158.8438\n",
      "Epoch 106/200\n",
      "34/34 [==============================] - 0s 2ms/step - loss: 4089.4529 - mae: 4089.4529\n",
      "Epoch 107/200\n",
      "34/34 [==============================] - 0s 2ms/step - loss: 4034.4897 - mae: 4034.4897\n",
      "Epoch 108/200\n",
      "34/34 [==============================] - 0s 2ms/step - loss: 3978.0967 - mae: 3978.0967\n",
      "Epoch 109/200\n",
      "34/34 [==============================] - 0s 2ms/step - loss: 3940.1636 - mae: 3940.1636\n",
      "Epoch 110/200\n",
      "34/34 [==============================] - 0s 3ms/step - loss: 3908.4512 - mae: 3908.4512\n",
      "Epoch 111/200\n",
      "34/34 [==============================] - 0s 2ms/step - loss: 3881.6821 - mae: 3881.6821\n",
      "Epoch 112/200\n",
      "34/34 [==============================] - 0s 2ms/step - loss: 3865.2642 - mae: 3865.2642\n",
      "Epoch 113/200\n",
      "34/34 [==============================] - 0s 2ms/step - loss: 3851.1580 - mae: 3851.1580\n",
      "Epoch 114/200\n",
      "34/34 [==============================] - 0s 2ms/step - loss: 3849.7896 - mae: 3849.7896\n",
      "Epoch 115/200\n",
      "34/34 [==============================] - 0s 2ms/step - loss: 3833.7500 - mae: 3833.7500\n",
      "Epoch 116/200\n",
      "34/34 [==============================] - 0s 2ms/step - loss: 3821.2468 - mae: 3821.2468\n",
      "Epoch 117/200\n",
      "34/34 [==============================] - 0s 2ms/step - loss: 3820.6667 - mae: 3820.6667\n",
      "Epoch 118/200\n",
      "34/34 [==============================] - 0s 3ms/step - loss: 3807.5571 - mae: 3807.5571\n",
      "Epoch 119/200\n",
      "34/34 [==============================] - 0s 2ms/step - loss: 3800.5110 - mae: 3800.5110\n",
      "Epoch 120/200\n",
      "34/34 [==============================] - 0s 1ms/step - loss: 3792.7629 - mae: 3792.7629\n",
      "Epoch 121/200\n",
      "34/34 [==============================] - 0s 1ms/step - loss: 3791.3108 - mae: 3791.3108\n",
      "Epoch 122/200\n",
      "34/34 [==============================] - 0s 2ms/step - loss: 3791.4021 - mae: 3791.4021\n",
      "Epoch 123/200\n",
      "34/34 [==============================] - 0s 2ms/step - loss: 3783.7534 - mae: 3783.7534\n",
      "Epoch 124/200\n",
      "34/34 [==============================] - 0s 2ms/step - loss: 3782.8452 - mae: 3782.8452\n",
      "Epoch 125/200\n",
      "34/34 [==============================] - 0s 2ms/step - loss: 3774.6038 - mae: 3774.6038\n",
      "Epoch 126/200\n",
      "34/34 [==============================] - 0s 2ms/step - loss: 3783.1267 - mae: 3783.1267\n",
      "Epoch 127/200\n",
      "34/34 [==============================] - 0s 2ms/step - loss: 3775.8374 - mae: 3775.8374\n",
      "Epoch 128/200\n",
      "34/34 [==============================] - 0s 2ms/step - loss: 3775.0740 - mae: 3775.0740\n",
      "Epoch 129/200\n",
      "34/34 [==============================] - 0s 2ms/step - loss: 3786.7131 - mae: 3786.7131\n",
      "Epoch 130/200\n",
      "34/34 [==============================] - 0s 2ms/step - loss: 3774.6357 - mae: 3774.6357\n",
      "Epoch 131/200\n",
      "34/34 [==============================] - 0s 2ms/step - loss: 3768.2881 - mae: 3768.2881\n",
      "Epoch 132/200\n",
      "34/34 [==============================] - 0s 2ms/step - loss: 3761.4055 - mae: 3761.4055\n",
      "Epoch 133/200\n",
      "34/34 [==============================] - 0s 2ms/step - loss: 3758.1719 - mae: 3758.1719\n",
      "Epoch 134/200\n",
      "34/34 [==============================] - 0s 2ms/step - loss: 3758.8252 - mae: 3758.8252\n",
      "Epoch 135/200\n",
      "34/34 [==============================] - 0s 2ms/step - loss: 3755.0413 - mae: 3755.0413\n",
      "Epoch 136/200\n",
      "34/34 [==============================] - 0s 2ms/step - loss: 3754.3767 - mae: 3754.3767\n",
      "Epoch 137/200\n",
      "34/34 [==============================] - 0s 2ms/step - loss: 3758.4023 - mae: 3758.4023\n",
      "Epoch 138/200\n",
      "34/34 [==============================] - 0s 2ms/step - loss: 3773.6250 - mae: 3773.6250\n",
      "Epoch 139/200\n",
      "34/34 [==============================] - 0s 2ms/step - loss: 3749.0896 - mae: 3749.0896\n",
      "Epoch 140/200\n",
      "34/34 [==============================] - 0s 2ms/step - loss: 3750.5474 - mae: 3750.5474\n",
      "Epoch 141/200\n",
      "34/34 [==============================] - 0s 2ms/step - loss: 3753.4834 - mae: 3753.4834\n",
      "Epoch 142/200\n",
      "34/34 [==============================] - 0s 2ms/step - loss: 3759.1216 - mae: 3759.1216\n",
      "Epoch 143/200\n",
      "34/34 [==============================] - 0s 2ms/step - loss: 3744.0166 - mae: 3744.0166\n",
      "Epoch 144/200\n",
      "34/34 [==============================] - 0s 2ms/step - loss: 3739.4561 - mae: 3739.4561\n",
      "Epoch 145/200\n",
      "34/34 [==============================] - 0s 2ms/step - loss: 3738.4824 - mae: 3738.4824\n",
      "Epoch 146/200\n",
      "34/34 [==============================] - 0s 2ms/step - loss: 3744.9319 - mae: 3744.9319\n",
      "Epoch 147/200\n",
      "34/34 [==============================] - 0s 2ms/step - loss: 3740.0215 - mae: 3740.0215\n",
      "Epoch 148/200\n",
      "34/34 [==============================] - 0s 3ms/step - loss: 3746.8594 - mae: 3746.8594\n",
      "Epoch 149/200\n",
      "34/34 [==============================] - 0s 2ms/step - loss: 3732.6536 - mae: 3732.6536\n",
      "Epoch 150/200\n",
      "34/34 [==============================] - 0s 2ms/step - loss: 3728.5200 - mae: 3728.5200\n",
      "Epoch 151/200\n",
      "34/34 [==============================] - 0s 2ms/step - loss: 3730.1794 - mae: 3730.1794\n",
      "Epoch 152/200\n",
      "34/34 [==============================] - 0s 2ms/step - loss: 3731.0081 - mae: 3731.0081\n",
      "Epoch 153/200\n",
      "34/34 [==============================] - 0s 2ms/step - loss: 3734.0706 - mae: 3734.0706\n",
      "Epoch 154/200\n",
      "34/34 [==============================] - 0s 3ms/step - loss: 3727.0403 - mae: 3727.0403\n",
      "Epoch 155/200\n",
      "34/34 [==============================] - 0s 2ms/step - loss: 3727.8032 - mae: 3727.8032\n",
      "Epoch 156/200\n",
      "34/34 [==============================] - 0s 2ms/step - loss: 3725.7859 - mae: 3725.7859\n",
      "Epoch 157/200\n",
      "34/34 [==============================] - 0s 2ms/step - loss: 3723.4663 - mae: 3723.4663\n",
      "Epoch 158/200\n",
      "34/34 [==============================] - 0s 2ms/step - loss: 3719.1299 - mae: 3719.1299\n",
      "Epoch 159/200\n",
      "34/34 [==============================] - 0s 3ms/step - loss: 3715.6511 - mae: 3715.6511\n",
      "Epoch 160/200\n",
      "34/34 [==============================] - 0s 2ms/step - loss: 3723.0930 - mae: 3723.0930\n",
      "Epoch 161/200\n",
      "34/34 [==============================] - 0s 2ms/step - loss: 3719.2456 - mae: 3719.2456\n",
      "Epoch 162/200\n"
     ]
    },
    {
     "name": "stdout",
     "output_type": "stream",
     "text": [
      "34/34 [==============================] - 0s 2ms/step - loss: 3713.3174 - mae: 3713.3174\n",
      "Epoch 163/200\n",
      "34/34 [==============================] - 0s 2ms/step - loss: 3710.6409 - mae: 3710.6409\n",
      "Epoch 164/200\n",
      "34/34 [==============================] - 0s 2ms/step - loss: 3715.9534 - mae: 3715.9534\n",
      "Epoch 165/200\n",
      "34/34 [==============================] - 0s 2ms/step - loss: 3706.7815 - mae: 3706.7815\n",
      "Epoch 166/200\n",
      "34/34 [==============================] - 0s 2ms/step - loss: 3710.6497 - mae: 3710.6497\n",
      "Epoch 167/200\n",
      "34/34 [==============================] - 0s 2ms/step - loss: 3709.7908 - mae: 3709.7908\n",
      "Epoch 168/200\n",
      "34/34 [==============================] - 0s 2ms/step - loss: 3705.0557 - mae: 3705.0557\n",
      "Epoch 169/200\n",
      "34/34 [==============================] - 0s 2ms/step - loss: 3703.2700 - mae: 3703.2700\n",
      "Epoch 170/200\n",
      "34/34 [==============================] - 0s 2ms/step - loss: 3697.1086 - mae: 3697.1086\n",
      "Epoch 171/200\n",
      "34/34 [==============================] - 0s 2ms/step - loss: 3698.2390 - mae: 3698.2390\n",
      "Epoch 172/200\n",
      "34/34 [==============================] - 0s 2ms/step - loss: 3700.9741 - mae: 3700.9741\n",
      "Epoch 173/200\n",
      "34/34 [==============================] - 0s 2ms/step - loss: 3693.5032 - mae: 3693.5032\n",
      "Epoch 174/200\n",
      "34/34 [==============================] - 0s 2ms/step - loss: 3699.1079 - mae: 3699.1079\n",
      "Epoch 175/200\n",
      "34/34 [==============================] - 0s 3ms/step - loss: 3700.4214 - mae: 3700.4214\n",
      "Epoch 176/200\n",
      "34/34 [==============================] - 0s 3ms/step - loss: 3696.6980 - mae: 3696.6980\n",
      "Epoch 177/200\n",
      "34/34 [==============================] - 0s 2ms/step - loss: 3692.2458 - mae: 3692.2458\n",
      "Epoch 178/200\n",
      "34/34 [==============================] - 0s 3ms/step - loss: 3685.0513 - mae: 3685.0513\n",
      "Epoch 179/200\n",
      "34/34 [==============================] - 0s 3ms/step - loss: 3698.3401 - mae: 3698.3401\n",
      "Epoch 180/200\n",
      "34/34 [==============================] - 0s 2ms/step - loss: 3701.3071 - mae: 3701.3071\n",
      "Epoch 181/200\n",
      "34/34 [==============================] - 0s 2ms/step - loss: 3685.2141 - mae: 3685.2141\n",
      "Epoch 182/200\n",
      "34/34 [==============================] - 0s 3ms/step - loss: 3681.9626 - mae: 3681.9626\n",
      "Epoch 183/200\n",
      "34/34 [==============================] - 0s 3ms/step - loss: 3680.1121 - mae: 3680.1121\n",
      "Epoch 184/200\n",
      "34/34 [==============================] - 0s 3ms/step - loss: 3688.5476 - mae: 3688.5476\n",
      "Epoch 185/200\n",
      "34/34 [==============================] - 0s 3ms/step - loss: 3681.5630 - mae: 3681.5630\n",
      "Epoch 186/200\n",
      "34/34 [==============================] - 0s 2ms/step - loss: 3679.8213 - mae: 3679.8213\n",
      "Epoch 187/200\n",
      "34/34 [==============================] - 0s 2ms/step - loss: 3675.6013 - mae: 3675.6013\n",
      "Epoch 188/200\n",
      "34/34 [==============================] - 0s 2ms/step - loss: 3683.8931 - mae: 3683.8931\n",
      "Epoch 189/200\n",
      "34/34 [==============================] - 0s 2ms/step - loss: 3673.0244 - mae: 3673.0244\n",
      "Epoch 190/200\n",
      "34/34 [==============================] - 0s 3ms/step - loss: 3673.5083 - mae: 3673.5083\n",
      "Epoch 191/200\n",
      "34/34 [==============================] - 0s 3ms/step - loss: 3690.0774 - mae: 3690.0774\n",
      "Epoch 192/200\n",
      "34/34 [==============================] - 0s 2ms/step - loss: 3676.4182 - mae: 3676.4182\n",
      "Epoch 193/200\n",
      "34/34 [==============================] - 0s 2ms/step - loss: 3665.2532 - mae: 3665.2532\n",
      "Epoch 194/200\n",
      "34/34 [==============================] - 0s 2ms/step - loss: 3665.1848 - mae: 3665.1848\n",
      "Epoch 195/200\n",
      "34/34 [==============================] - 0s 2ms/step - loss: 3663.1577 - mae: 3663.1577\n",
      "Epoch 196/200\n",
      "34/34 [==============================] - 0s 2ms/step - loss: 3673.2078 - mae: 3673.2078\n",
      "Epoch 197/200\n",
      "34/34 [==============================] - 0s 2ms/step - loss: 3656.2954 - mae: 3656.2954\n",
      "Epoch 198/200\n",
      "34/34 [==============================] - 0s 2ms/step - loss: 3661.5410 - mae: 3661.5410\n",
      "Epoch 199/200\n",
      "34/34 [==============================] - 0s 3ms/step - loss: 3669.9944 - mae: 3669.9944\n",
      "Epoch 200/200\n",
      "34/34 [==============================] - 0s 3ms/step - loss: 3658.0659 - mae: 3658.0659\n"
     ]
    }
   ],
   "source": [
    "# 2nd experiment : train longer on the model of the 1st experiment\n",
    "\n",
    "# Set random seed\n",
    "tf.random.set_seed(42)\n",
    "\n",
    "# 1. Create the model\n",
    "insurance_model_3 = tf.keras.Sequential([\n",
    "    tf.keras.layers.Dense(100),\n",
    "    tf.keras.layers.Dense(10),\n",
    "    tf.keras.layers.Dense(1),\n",
    "])\n",
    "\n",
    "# 2. Compile the model\n",
    "insurance_model_3.compile(loss=tf.keras.losses.mae,\n",
    "                         optimizer=tf.keras.optimizers.Adam(),\n",
    "                         metrics=[\"mae\"])\n",
    "\n",
    "# 3. Fit the model\n",
    "history = insurance_model_3.fit(X_train, y_train, epochs=200, verbose=1)"
   ]
  },
  {
   "cell_type": "markdown",
   "id": "e2f7799c",
   "metadata": {},
   "source": [
    "The loss in training is now 3658.0659, an improvement"
   ]
  },
  {
   "cell_type": "code",
   "execution_count": 104,
   "id": "5c4cfe7a",
   "metadata": {},
   "outputs": [
    {
     "name": "stdout",
     "output_type": "stream",
     "text": [
      "9/9 [==============================] - 0s 2ms/step - loss: 3474.2324 - mae: 3474.2324\n"
     ]
    },
    {
     "data": {
      "text/plain": [
       "[3474.232421875, 3474.232421875]"
      ]
     },
     "execution_count": 104,
     "metadata": {},
     "output_type": "execute_result"
    }
   ],
   "source": [
    "# Evaluate the third model\n",
    "insurance_model_3.evaluate(X_test, y_test)"
   ]
  },
  {
   "cell_type": "code",
   "execution_count": 105,
   "id": "97da165a",
   "metadata": {},
   "outputs": [
    {
     "name": "stdout",
     "output_type": "stream",
     "text": [
      "9/9 [==============================] - 0s 1ms/step - loss: 4812.6836 - mae: 4812.6836\n"
     ]
    },
    {
     "data": {
      "text/plain": [
       "[4812.68359375, 4812.68359375]"
      ]
     },
     "execution_count": 105,
     "metadata": {},
     "output_type": "execute_result"
    }
   ],
   "source": [
    "# Evaluate the 2nd model\n",
    "insurance_model_2.evaluate(X_test, y_test)"
   ]
  },
  {
   "cell_type": "code",
   "execution_count": 106,
   "id": "af895bf0",
   "metadata": {},
   "outputs": [
    {
     "name": "stdout",
     "output_type": "stream",
     "text": [
      "9/9 [==============================] - 0s 2ms/step - loss: 7021.5205 - mae: 7021.5205\n"
     ]
    },
    {
     "data": {
      "text/plain": [
       "[7021.5205078125, 7021.5205078125]"
      ]
     },
     "execution_count": 106,
     "metadata": {},
     "output_type": "execute_result"
    }
   ],
   "source": [
    "# Evaluate the 1st model\n",
    "insurance_model.evaluate(X_test, y_test)"
   ]
  },
  {
   "cell_type": "markdown",
   "id": "97b21cf6",
   "metadata": {},
   "source": [
    "The 3rd model is performing better than the previous ones."
   ]
  },
  {
   "cell_type": "code",
   "execution_count": null,
   "id": "7c9108cd",
   "metadata": {},
   "outputs": [],
   "source": []
  },
  {
   "cell_type": "markdown",
   "id": "423b0a40",
   "metadata": {},
   "source": [
    "Now we will plot the **`history`** (also known as a **`loss curve`** or a **`training curve`**)"
   ]
  },
  {
   "cell_type": "code",
   "execution_count": 114,
   "id": "47525c02",
   "metadata": {},
   "outputs": [
    {
     "data": {
      "image/png": "[encoded data removed]",
      "text/plain": [
       "<Figure size 432x288 with 1 Axes>"
      ]
     },
     "metadata": {
      "needs_background": "light"
     },
     "output_type": "display_data"
    }
   ],
   "source": [
    "# Plot history\n",
    "history_df = pd.DataFrame(history.history)\n",
    "history_df.plot(kind=\"line\",y=\"loss\")\n",
    "plt.ylabel(\"Loss\")\n",
    "plt.xlabel(\"Epochs\");"
   ]
  },
  {
   "cell_type": "markdown",
   "id": "d1a4d4e3",
   "metadata": {},
   "source": [
    "Looking at the plot, the decrease in the loss is originally steep until the models to train to around 110 epochs; from here, the decrease in the loss is small."
   ]
  },
  {
   "cell_type": "markdown",
   "id": "b9a7f031",
   "metadata": {},
   "source": [
    "> 🤔 **Question:** How long should we train for ? <br/>\n",
    "> 🫢 **Answer:** It depends.\n",
    "\n",
    "The duration of the training depends on the problem we are working on.         \n",
    "However, many people have asked this question before, so TensorFlow has a solution: the [**EarlyStopping Callback**](https://www.tensorflow.org/api_docs/python/tf/keras/callbacks/EarlyStopping). It is a TensorFlow component we can add to a model to stop training once it stops improving a certain metric. For example, in our insurance_model_3, if we wanted to train it for 1000 epochs, we could want our model to stop training once its loss stops decreasing for say, 03, 05, or 10 epochs in a row, which means our model stopped improving."
   ]
  },
  {
   "cell_type": "code",
   "execution_count": 118,
   "id": "2350da9c",
   "metadata": {},
   "outputs": [],
   "source": [
    "# dir(history)"
   ]
  },
  {
   "cell_type": "code",
   "execution_count": 115,
   "id": "e56f1c18",
   "metadata": {},
   "outputs": [
    {
     "data": {
      "text/html": [
       "<div>\n",
       "<style scoped>\n",
       "    .dataframe tbody tr th:only-of-type {\n",
       "        vertical-align: middle;\n",
       "    }\n",
       "\n",
       "    .dataframe tbody tr th {\n",
       "        vertical-align: top;\n",
       "    }\n",
       "\n",
       "    .dataframe thead th {\n",
       "        text-align: right;\n",
       "    }\n",
       "</style>\n",
       "<table border=\"1\" class=\"dataframe\">\n",
       "  <thead>\n",
       "    <tr style=\"text-align: right;\">\n",
       "      <th></th>\n",
       "      <th>loss</th>\n",
       "      <th>mae</th>\n",
       "    </tr>\n",
       "  </thead>\n",
       "  <tbody>\n",
       "    <tr>\n",
       "      <th>0</th>\n",
       "      <td>13259.949219</td>\n",
       "      <td>13259.949219</td>\n",
       "    </tr>\n",
       "    <tr>\n",
       "      <th>1</th>\n",
       "      <td>13029.421875</td>\n",
       "      <td>13029.421875</td>\n",
       "    </tr>\n",
       "    <tr>\n",
       "      <th>2</th>\n",
       "      <td>12565.997070</td>\n",
       "      <td>12565.997070</td>\n",
       "    </tr>\n",
       "    <tr>\n",
       "      <th>3</th>\n",
       "      <td>11712.556641</td>\n",
       "      <td>11712.556641</td>\n",
       "    </tr>\n",
       "    <tr>\n",
       "      <th>4</th>\n",
       "      <td>10408.627930</td>\n",
       "      <td>10408.627930</td>\n",
       "    </tr>\n",
       "    <tr>\n",
       "      <th>...</th>\n",
       "      <td>...</td>\n",
       "      <td>...</td>\n",
       "    </tr>\n",
       "    <tr>\n",
       "      <th>195</th>\n",
       "      <td>3673.207764</td>\n",
       "      <td>3673.207764</td>\n",
       "    </tr>\n",
       "    <tr>\n",
       "      <th>196</th>\n",
       "      <td>3656.295410</td>\n",
       "      <td>3656.295410</td>\n",
       "    </tr>\n",
       "    <tr>\n",
       "      <th>197</th>\n",
       "      <td>3661.541016</td>\n",
       "      <td>3661.541016</td>\n",
       "    </tr>\n",
       "    <tr>\n",
       "      <th>198</th>\n",
       "      <td>3669.994385</td>\n",
       "      <td>3669.994385</td>\n",
       "    </tr>\n",
       "    <tr>\n",
       "      <th>199</th>\n",
       "      <td>3658.065918</td>\n",
       "      <td>3658.065918</td>\n",
       "    </tr>\n",
       "  </tbody>\n",
       "</table>\n",
       "<p>200 rows × 2 columns</p>\n",
       "</div>"
      ],
      "text/plain": [
       "             loss           mae\n",
       "0    13259.949219  13259.949219\n",
       "1    13029.421875  13029.421875\n",
       "2    12565.997070  12565.997070\n",
       "3    11712.556641  11712.556641\n",
       "4    10408.627930  10408.627930\n",
       "..            ...           ...\n",
       "195   3673.207764   3673.207764\n",
       "196   3656.295410   3656.295410\n",
       "197   3661.541016   3661.541016\n",
       "198   3669.994385   3669.994385\n",
       "199   3658.065918   3658.065918\n",
       "\n",
       "[200 rows x 2 columns]"
      ]
     },
     "execution_count": 115,
     "metadata": {},
     "output_type": "execute_result"
    }
   ],
   "source": [
    "# Taking a look at history_df\n",
    "history_df"
   ]
  },
  {
   "cell_type": "code",
   "execution_count": null,
   "id": "3af95196",
   "metadata": {},
   "outputs": [],
   "source": []
  },
  {
   "cell_type": "markdown",
   "id": "87cc97c3",
   "metadata": {},
   "source": [
    "## Preprocessing data (normalization and standardization)"
   ]
  },
  {
   "cell_type": "code",
   "execution_count": null,
   "id": "44357a8d",
   "metadata": {},
   "outputs": [],
   "source": []
  },
  {
   "cell_type": "code",
   "execution_count": null,
   "id": "0d40867b",
   "metadata": {},
   "outputs": [],
   "source": []
  },
  {
   "cell_type": "code",
   "execution_count": null,
   "id": "bd8d73cb",
   "metadata": {},
   "outputs": [],
   "source": []
  },
  {
   "cell_type": "code",
   "execution_count": null,
   "id": "341de6ac",
   "metadata": {},
   "outputs": [],
   "source": []
  }
 ],
 "metadata": {
  "kernelspec": {
   "display_name": "Python 3",
   "language": "python",
   "name": "python3"
  },
  "language_info": {
   "codemirror_mode": {
    "name": "ipython",
    "version": 3
   },
   "file_extension": ".py",
   "mimetype": "text/x-python",
   "name": "python",
   "nbconvert_exporter": "python",
   "pygments_lexer": "ipython3",
   "version": "3.8.8"
  }
 },
 "nbformat": 4,
 "nbformat_minor": 5
}
