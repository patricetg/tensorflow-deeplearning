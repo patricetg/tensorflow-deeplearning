{
 "cells": [
  {
   "cell_type": "code",
   "execution_count": null,
   "id": "d1d332c5",
   "metadata": {},
   "outputs": [],
   "source": []
  },
  {
   "cell_type": "markdown",
   "id": "ae1f3f01",
   "metadata": {},
   "source": [
    "# Introduction to Regression with Neural Networks in TensorFlow\n",
    "\n",
    "There are many definitions for a regression problem, but to make it simple : predicting a continuous (numerical) variable based on some other combination of variables."
   ]
  },
  {
   "cell_type": "code",
   "execution_count": 1,
   "id": "3ebcab60",
   "metadata": {},
   "outputs": [
    {
     "name": "stdout",
     "output_type": "stream",
     "text": [
      "2.10.0\n"
     ]
    }
   ],
   "source": [
    "# Import TensorFlow\n",
    "import tensorflow as tf\n",
    "print(tf.__version__)"
   ]
  },
  {
   "cell_type": "code",
   "execution_count": 2,
   "id": "46175302",
   "metadata": {},
   "outputs": [],
   "source": [
    "import pandas as pd\n",
    "import numpy as np\n",
    "import matplotlib.pyplot as plt\n",
    "\n",
    "%matplotlib inline"
   ]
  },
  {
   "cell_type": "code",
   "execution_count": 3,
   "id": "b73583b4",
   "metadata": {},
   "outputs": [],
   "source": [
    "from tensorflow.keras.utils import plot_model"
   ]
  },
  {
   "cell_type": "markdown",
   "id": "5b304915",
   "metadata": {},
   "source": [
    "Note : in order to use plot_model, one must install pydot (`pip install pydot`) and install graphviz (see instructions at https://graphviz.gitlab.io/download/) for plot_model to work."
   ]
  },
  {
   "cell_type": "code",
   "execution_count": null,
   "id": "99283640",
   "metadata": {},
   "outputs": [],
   "source": []
  },
  {
   "cell_type": "markdown",
   "id": "3ea9cdd1",
   "metadata": {},
   "source": [
    "### Creating data to view and fit"
   ]
  },
  {
   "cell_type": "code",
   "execution_count": 4,
   "id": "dc6c9d96",
   "metadata": {},
   "outputs": [
    {
     "data": {
      "text/plain": [
       "<matplotlib.collections.PathCollection at 0x13086f29d00>"
      ]
     },
     "execution_count": 4,
     "metadata": {},
     "output_type": "execute_result"
    },
    {
     "data": {
      "image/png": "[encoded data removed]",
      "text/plain": [
       "<Figure size 432x288 with 1 Axes>"
      ]
     },
     "metadata": {
      "needs_background": "light"
     },
     "output_type": "display_data"
    }
   ],
   "source": [
    "# Create features\n",
    "X = np.array([-7., -4, -1, 2, 5, 8, 11, 14])\n",
    "\n",
    "# Create labels\n",
    "y = np.array([3., 6, 9, 12, 15, 18, 21, 24])\n",
    "\n",
    "# Visualize it\n",
    "plt.scatter(X,y)"
   ]
  },
  {
   "cell_type": "code",
   "execution_count": 5,
   "id": "2e244a47",
   "metadata": {},
   "outputs": [
    {
     "data": {
      "text/plain": [
       "array([ 3.,  6.,  9., 12., 15., 18., 21., 24.])"
      ]
     },
     "execution_count": 5,
     "metadata": {},
     "output_type": "execute_result"
    }
   ],
   "source": [
    "X+10"
   ]
  },
  {
   "cell_type": "code",
   "execution_count": 6,
   "id": "fb87b2bc",
   "metadata": {},
   "outputs": [
    {
     "data": {
      "text/plain": [
       "array([ True,  True,  True,  True,  True,  True,  True,  True])"
      ]
     },
     "execution_count": 6,
     "metadata": {},
     "output_type": "execute_result"
    }
   ],
   "source": [
    "y == X+10"
   ]
  },
  {
   "cell_type": "code",
   "execution_count": 7,
   "id": "e18c377b",
   "metadata": {},
   "outputs": [
    {
     "data": {
      "text/plain": [
       "(TensorShape([8]), TensorShape([8]))"
      ]
     },
     "execution_count": 7,
     "metadata": {},
     "output_type": "execute_result"
    }
   ],
   "source": [
    "# Turning the NumPy arrays into tensors\n",
    "X = tf.constant(X)\n",
    "y = tf.constant(y)\n",
    "X.shape, y.shape"
   ]
  },
  {
   "cell_type": "code",
   "execution_count": 8,
   "id": "f4485d20",
   "metadata": {},
   "outputs": [
    {
     "data": {
      "text/plain": [
       "<tf.Tensor: shape=(8,), dtype=float64, numpy=array([-7., -4., -1.,  2.,  5.,  8., 11., 14.])>"
      ]
     },
     "execution_count": 8,
     "metadata": {},
     "output_type": "execute_result"
    }
   ],
   "source": [
    "X"
   ]
  },
  {
   "cell_type": "code",
   "execution_count": 9,
   "id": "5e0fe4a9",
   "metadata": {},
   "outputs": [
    {
     "data": {
      "text/plain": [
       "<tf.Tensor: shape=(8, 1), dtype=float64, numpy=\n",
       "array([[-7.],\n",
       "       [-4.],\n",
       "       [-1.],\n",
       "       [ 2.],\n",
       "       [ 5.],\n",
       "       [ 8.],\n",
       "       [11.],\n",
       "       [14.]])>"
      ]
     },
     "execution_count": 9,
     "metadata": {},
     "output_type": "execute_result"
    }
   ],
   "source": [
    "# Expand the dimension of a tensor : https://www.geeksforgeeks.org/python-tensorflow-expand_dims/\n",
    "tf.expand_dims(X, axis=-1)"
   ]
  },
  {
   "cell_type": "code",
   "execution_count": null,
   "id": "f5304102",
   "metadata": {},
   "outputs": [],
   "source": []
  },
  {
   "cell_type": "markdown",
   "id": "612e394c",
   "metadata": {},
   "source": [
    "### Steps in modeling in TensorFlow\n",
    "\n",
    "1. **Creating the model** - define the input and output layers, as well as the hidden layers of a deep learning model.\n",
    "2. **Compiling the model** - define the `loss function` (the function which will tells our model how far it's from performing well), the `optimizer` (tells the model how to update its internal patterns to better its predictions) and the `evaluation metrics` (human interpretable values for how well the model is doing).\n",
    "3. **Fitting the model** - letting the model try to find patterns between features and labels.\n",
    "4. **Evaluation** - Evaluate the model on the test data (in order to know how reliable are the model's predictions)\n",
    "\n",
    "\n",
    "In TensorFlow, there are two main way of creating a model :\n",
    "* Sequential API\n",
    "* Functional API"
   ]
  },
  {
   "cell_type": "code",
   "execution_count": 10,
   "id": "6f72d001",
   "metadata": {},
   "outputs": [
    {
     "name": "stdout",
     "output_type": "stream",
     "text": [
      "Epoch 1/5\n",
      "1/1 [==============================] - 1s 858ms/step - loss: 13.1145 - mae: 13.1145\n",
      "Epoch 2/5\n",
      "1/1 [==============================] - 0s 9ms/step - loss: 12.9820 - mae: 12.9820\n",
      "Epoch 3/5\n",
      "1/1 [==============================] - 0s 8ms/step - loss: 12.8495 - mae: 12.8495\n",
      "Epoch 4/5\n",
      "1/1 [==============================] - 0s 6ms/step - loss: 12.7170 - mae: 12.7170\n",
      "Epoch 5/5\n",
      "1/1 [==============================] - 0s 8ms/step - loss: 12.5845 - mae: 12.5845\n"
     ]
    },
    {
     "data": {
      "text/plain": [
       "<keras.callbacks.History at 0x130878e83a0>"
      ]
     },
     "execution_count": 10,
     "metadata": {},
     "output_type": "execute_result"
    }
   ],
   "source": [
    "# Set a random seed (in order to have some reproducibility)\n",
    "tf.random.set_seed(42)\n",
    "\n",
    "# 1. Create a model using the Sequential API\n",
    "model = tf.keras.Sequential([\n",
    "    tf.keras.layers.Dense(1)\n",
    "])\n",
    "\n",
    "# 2. Compile the model\n",
    "model.compile(loss=tf.keras.losses.mae, # MAE : Mean Absolute Error\n",
    "              optimizer=tf.keras.optimizers.SGD(), # SGD : Stochastic Gradient Descent\n",
    "              metrics=[\"mae\"]\n",
    "             )\n",
    "\n",
    "# 3. Fit the model \n",
    "model.fit(tf.expand_dims(X, axis=-1),y, epochs=5)\n"
   ]
  },
  {
   "cell_type": "markdown",
   "id": "2f2af8b2",
   "metadata": {},
   "source": [
    "**Note**  \n",
    "A lot of function in TensorFlow, if they have a shortcut name (e.g. mae or SGD), can be replaced by a string variable to define the fact it is wished to used that specific function. For e.g., the step 2 in the above cell( Compile the model), can also be written as such : \n",
    "\n",
    "model.compile(loss=\"mae\",  \n",
    "              optimizer=\"sgd\",  \n",
    "              metrics=[\"mae\"]  \n",
    "             )"
   ]
  },
  {
   "cell_type": "code",
   "execution_count": 11,
   "id": "9949ba02",
   "metadata": {},
   "outputs": [
    {
     "data": {
      "text/plain": [
       "(<tf.Tensor: shape=(8,), dtype=float64, numpy=array([-7., -4., -1.,  2.,  5.,  8., 11., 14.])>,\n",
       " <tf.Tensor: shape=(8,), dtype=float64, numpy=array([ 3.,  6.,  9., 12., 15., 18., 21., 24.])>)"
      ]
     },
     "execution_count": 11,
     "metadata": {},
     "output_type": "execute_result"
    }
   ],
   "source": [
    "# Check out X and y\n",
    "X, y"
   ]
  },
  {
   "cell_type": "code",
   "execution_count": 12,
   "id": "d35d1023",
   "metadata": {},
   "outputs": [
    {
     "name": "stdout",
     "output_type": "stream",
     "text": [
      "1/1 [==============================] - 0s 206ms/step\n"
     ]
    },
    {
     "data": {
      "text/plain": [
       "array([[4.8972597]], dtype=float32)"
      ]
     },
     "execution_count": 12,
     "metadata": {},
     "output_type": "execute_result"
    }
   ],
   "source": [
    "# Trying to make a prediction using our model\n",
    "model.predict([17.])"
   ]
  },
  {
   "cell_type": "markdown",
   "id": "9eefcc9e",
   "metadata": {},
   "source": [
    "The predicted value (y) should be 27 when X is 17. But we got -13.89, which is pretty far off. This is no surprising because the current MAE of our model is 17.3050, which means : on average, our model predict something that is 17.3050 points off where is should be (MAE)."
   ]
  },
  {
   "cell_type": "code",
   "execution_count": 13,
   "id": "27107469",
   "metadata": {},
   "outputs": [
    {
     "name": "stdout",
     "output_type": "stream",
     "text": [
      "1/1 [==============================] - 0s 75ms/step\n"
     ]
    },
    {
     "data": {
      "text/plain": [
       "array([[4.8972597]], dtype=float32)"
      ]
     },
     "execution_count": 13,
     "metadata": {},
     "output_type": "execute_result"
    }
   ],
   "source": [
    "y_pred = model.predict([17.])\n",
    "y_pred"
   ]
  },
  {
   "cell_type": "code",
   "execution_count": 14,
   "id": "65c6bb1b",
   "metadata": {},
   "outputs": [
    {
     "data": {
      "text/plain": [
       "array([[22.20226]], dtype=float32)"
      ]
     },
     "execution_count": 14,
     "metadata": {},
     "output_type": "execute_result"
    }
   ],
   "source": [
    "y_pred + 17.3050"
   ]
  },
  {
   "cell_type": "markdown",
   "id": "a759cf25",
   "metadata": {},
   "source": [
    "The value is still off, our model is performing poorly.   \n",
    "Now, we need to improve our model."
   ]
  },
  {
   "cell_type": "code",
   "execution_count": null,
   "id": "7eecc354",
   "metadata": {},
   "outputs": [],
   "source": []
  },
  {
   "cell_type": "markdown",
   "id": "f47b7fed",
   "metadata": {},
   "source": [
    "### Improving our model\n",
    "\n",
    "We can improve our model by altering the steps we took to create a model.  \n",
    "\n",
    "1. **Creating a model** - Here, we might :\n",
    "* add more layers, \n",
    "* increase the number of hidden units (also called neurons) within each of th hidden layers, \n",
    "* change the activation function of each layer\n",
    "\n",
    "2. **Compiling the model** - Here, we might :\n",
    "* change the optimization function,\n",
    "* or perhaps changes the **learning rate** of the optimization function\n",
    "\n",
    "3. **Fitting the model** - Here, we might :\n",
    "* fit the model for more epochs (make it train for longer)\n",
    "* fit the model on more data (give the model more examples to learn from)"
   ]
  },
  {
   "cell_type": "code",
   "execution_count": 15,
   "id": "0900b32c",
   "metadata": {},
   "outputs": [
    {
     "name": "stdout",
     "output_type": "stream",
     "text": [
      "Epoch 1/100\n",
      "1/1 [==============================] - 1s 720ms/step - loss: 12.5043 - mae: 12.5043\n",
      "Epoch 2/100\n",
      "1/1 [==============================] - 0s 5ms/step - loss: 11.9404 - mae: 11.9404\n",
      "Epoch 3/100\n",
      "1/1 [==============================] - 0s 7ms/step - loss: 11.3700 - mae: 11.3700\n",
      "Epoch 4/100\n",
      "1/1 [==============================] - 0s 9ms/step - loss: 10.7886 - mae: 10.7886\n",
      "Epoch 5/100\n",
      "1/1 [==============================] - 0s 6ms/step - loss: 10.1867 - mae: 10.1867\n",
      "Epoch 6/100\n",
      "1/1 [==============================] - 0s 8ms/step - loss: 9.5583 - mae: 9.5583\n",
      "Epoch 7/100\n",
      "1/1 [==============================] - 0s 8ms/step - loss: 8.9108 - mae: 8.9108\n",
      "Epoch 8/100\n",
      "1/1 [==============================] - 0s 7ms/step - loss: 8.2310 - mae: 8.2310\n",
      "Epoch 9/100\n",
      "1/1 [==============================] - 0s 6ms/step - loss: 7.5073 - mae: 7.5073\n",
      "Epoch 10/100\n",
      "1/1 [==============================] - 0s 7ms/step - loss: 6.7324 - mae: 6.7324\n",
      "Epoch 11/100\n",
      "1/1 [==============================] - 0s 6ms/step - loss: 5.9309 - mae: 5.9309\n",
      "Epoch 12/100\n",
      "1/1 [==============================] - 0s 7ms/step - loss: 5.0802 - mae: 5.0802\n",
      "Epoch 13/100\n",
      "1/1 [==============================] - 0s 8ms/step - loss: 4.1900 - mae: 4.1900\n",
      "Epoch 14/100\n",
      "1/1 [==============================] - 0s 8ms/step - loss: 4.0950 - mae: 4.0950\n",
      "Epoch 15/100\n",
      "1/1 [==============================] - 0s 4ms/step - loss: 3.9975 - mae: 3.9975\n",
      "Epoch 16/100\n",
      "1/1 [==============================] - 0s 8ms/step - loss: 3.9097 - mae: 3.9097\n",
      "Epoch 17/100\n",
      "1/1 [==============================] - 0s 6ms/step - loss: 3.9792 - mae: 3.9792\n",
      "Epoch 18/100\n",
      "1/1 [==============================] - 0s 5ms/step - loss: 3.9226 - mae: 3.9226\n",
      "Epoch 19/100\n",
      "1/1 [==============================] - 0s 7ms/step - loss: 3.9537 - mae: 3.9537\n",
      "Epoch 20/100\n",
      "1/1 [==============================] - 0s 6ms/step - loss: 3.9297 - mae: 3.9297\n",
      "Epoch 21/100\n",
      "1/1 [==============================] - 0s 7ms/step - loss: 3.9280 - mae: 3.9280\n",
      "Epoch 22/100\n",
      "1/1 [==============================] - 0s 7ms/step - loss: 3.9369 - mae: 3.9369\n",
      "Epoch 23/100\n",
      "1/1 [==============================] - 0s 7ms/step - loss: 3.9022 - mae: 3.9022\n",
      "Epoch 24/100\n",
      "1/1 [==============================] - 0s 6ms/step - loss: 3.9442 - mae: 3.9442\n",
      "Epoch 25/100\n",
      "1/1 [==============================] - 0s 8ms/step - loss: 3.8830 - mae: 3.8830\n",
      "Epoch 26/100\n",
      "1/1 [==============================] - 0s 6ms/step - loss: 3.9593 - mae: 3.9593\n",
      "Epoch 27/100\n",
      "1/1 [==============================] - 0s 5ms/step - loss: 3.8909 - mae: 3.8909\n",
      "Epoch 28/100\n",
      "1/1 [==============================] - 0s 6ms/step - loss: 3.9320 - mae: 3.9320\n",
      "Epoch 29/100\n",
      "1/1 [==============================] - 0s 6ms/step - loss: 3.8982 - mae: 3.8982\n",
      "Epoch 30/100\n",
      "1/1 [==============================] - 0s 6ms/step - loss: 3.9061 - mae: 3.9061\n",
      "Epoch 31/100\n",
      "1/1 [==============================] - 0s 5ms/step - loss: 3.9056 - mae: 3.9056\n",
      "Epoch 32/100\n",
      "1/1 [==============================] - 0s 7ms/step - loss: 3.8801 - mae: 3.8801\n",
      "Epoch 33/100\n",
      "1/1 [==============================] - 0s 7ms/step - loss: 3.9171 - mae: 3.9171\n",
      "Epoch 34/100\n",
      "1/1 [==============================] - 0s 6ms/step - loss: 3.8609 - mae: 3.8609\n",
      "Epoch 35/100\n",
      "1/1 [==============================] - 0s 8ms/step - loss: 3.9283 - mae: 3.9283\n",
      "Epoch 36/100\n",
      "1/1 [==============================] - 0s 7ms/step - loss: 3.8604 - mae: 3.8604\n",
      "Epoch 37/100\n",
      "1/1 [==============================] - 0s 6ms/step - loss: 3.9092 - mae: 3.9092\n",
      "Epoch 38/100\n",
      "1/1 [==============================] - 0s 6ms/step - loss: 3.8679 - mae: 3.8679\n",
      "Epoch 39/100\n",
      "1/1 [==============================] - 0s 7ms/step - loss: 3.8830 - mae: 3.8830\n",
      "Epoch 40/100\n",
      "1/1 [==============================] - 0s 7ms/step - loss: 3.8755 - mae: 3.8755\n",
      "Epoch 41/100\n",
      "1/1 [==============================] - 0s 7ms/step - loss: 3.8583 - mae: 3.8583\n",
      "Epoch 42/100\n",
      "1/1 [==============================] - 0s 5ms/step - loss: 3.8908 - mae: 3.8908\n",
      "Epoch 43/100\n",
      "1/1 [==============================] - 0s 7ms/step - loss: 3.8371 - mae: 3.8371\n",
      "Epoch 44/100\n",
      "1/1 [==============================] - 0s 6ms/step - loss: 3.8986 - mae: 3.8986\n",
      "Epoch 45/100\n",
      "1/1 [==============================] - 0s 6ms/step - loss: 3.8310 - mae: 3.8310\n",
      "Epoch 46/100\n",
      "1/1 [==============================] - 0s 7ms/step - loss: 3.8850 - mae: 3.8850\n",
      "Epoch 47/100\n",
      "1/1 [==============================] - 0s 7ms/step - loss: 3.8387 - mae: 3.8387\n",
      "Epoch 48/100\n",
      "1/1 [==============================] - 0s 7ms/step - loss: 3.8586 - mae: 3.8586\n",
      "Epoch 49/100\n",
      "1/1 [==============================] - 0s 6ms/step - loss: 3.8465 - mae: 3.8465\n",
      "Epoch 50/100\n",
      "1/1 [==============================] - 0s 7ms/step - loss: 3.8381 - mae: 3.8381\n",
      "Epoch 51/100\n",
      "1/1 [==============================] - 0s 5ms/step - loss: 3.8620 - mae: 3.8620\n",
      "Epoch 52/100\n",
      "1/1 [==============================] - 0s 6ms/step - loss: 3.8122 - mae: 3.8122\n",
      "Epoch 53/100\n",
      "1/1 [==============================] - 0s 7ms/step - loss: 3.8699 - mae: 3.8699\n",
      "Epoch 54/100\n",
      "1/1 [==============================] - 0s 7ms/step - loss: 3.8027 - mae: 3.8027\n",
      "Epoch 55/100\n",
      "1/1 [==============================] - 0s 5ms/step - loss: 3.8596 - mae: 3.8596\n",
      "Epoch 56/100\n",
      "1/1 [==============================] - 0s 8ms/step - loss: 3.8106 - mae: 3.8106\n",
      "Epoch 57/100\n",
      "1/1 [==============================] - 0s 6ms/step - loss: 3.8329 - mae: 3.8329\n",
      "Epoch 58/100\n",
      "1/1 [==============================] - 0s 5ms/step - loss: 3.8216 - mae: 3.8216\n",
      "Epoch 59/100\n",
      "1/1 [==============================] - 0s 8ms/step - loss: 3.8129 - mae: 3.8129\n",
      "Epoch 60/100\n",
      "1/1 [==============================] - 0s 6ms/step - loss: 3.8343 - mae: 3.8343\n",
      "Epoch 61/100\n",
      "1/1 [==============================] - 0s 6ms/step - loss: 3.7858 - mae: 3.7858\n",
      "Epoch 62/100\n",
      "1/1 [==============================] - 0s 7ms/step - loss: 3.8425 - mae: 3.8425\n",
      "Epoch 63/100\n",
      "1/1 [==============================] - 0s 7ms/step - loss: 3.7755 - mae: 3.7755\n",
      "Epoch 64/100\n",
      "1/1 [==============================] - 0s 6ms/step - loss: 3.8329 - mae: 3.8329\n",
      "Epoch 65/100\n",
      "1/1 [==============================] - 0s 10ms/step - loss: 3.7836 - mae: 3.7836\n",
      "Epoch 66/100\n",
      "1/1 [==============================] - 0s 6ms/step - loss: 3.8061 - mae: 3.8061\n",
      "Epoch 67/100\n",
      "1/1 [==============================] - 0s 6ms/step - loss: 3.7994 - mae: 3.7994\n",
      "Epoch 68/100\n",
      "1/1 [==============================] - 0s 7ms/step - loss: 3.7856 - mae: 3.7856\n",
      "Epoch 69/100\n",
      "1/1 [==============================] - 0s 7ms/step - loss: 3.8076 - mae: 3.8076\n",
      "Epoch 70/100\n",
      "1/1 [==============================] - 0s 6ms/step - loss: 3.7582 - mae: 3.7582\n",
      "Epoch 71/100\n",
      "1/1 [==============================] - 0s 8ms/step - loss: 3.8160 - mae: 3.8160\n",
      "Epoch 72/100\n",
      "1/1 [==============================] - 0s 6ms/step - loss: 3.7493 - mae: 3.7493\n",
      "Epoch 73/100\n",
      "1/1 [==============================] - 0s 5ms/step - loss: 3.8048 - mae: 3.8048\n",
      "Epoch 74/100\n",
      "1/1 [==============================] - 0s 8ms/step - loss: 3.7576 - mae: 3.7576\n",
      "Epoch 75/100\n",
      "1/1 [==============================] - 0s 6ms/step - loss: 3.7823 - mae: 3.7823\n",
      "Epoch 76/100\n",
      "1/1 [==============================] - 0s 23ms/step - loss: 3.7736 - mae: 3.7736\n",
      "Epoch 77/100\n",
      "1/1 [==============================] - 0s 6ms/step - loss: 3.7569 - mae: 3.7569\n",
      "Epoch 78/100\n",
      "1/1 [==============================] - 0s 5ms/step - loss: 3.7820 - mae: 3.7820\n",
      "Epoch 79/100\n",
      "1/1 [==============================] - 0s 8ms/step - loss: 3.7292 - mae: 3.7292\n",
      "Epoch 80/100\n",
      "1/1 [==============================] - 0s 6ms/step - loss: 3.7906 - mae: 3.7906\n",
      "Epoch 81/100\n",
      "1/1 [==============================] - 0s 5ms/step - loss: 3.7241 - mae: 3.7241\n",
      "Epoch 82/100\n",
      "1/1 [==============================] - 0s 8ms/step - loss: 3.7755 - mae: 3.7755\n",
      "Epoch 83/100\n",
      "1/1 [==============================] - 0s 6ms/step - loss: 3.7344 - mae: 3.7344\n",
      "Epoch 84/100\n",
      "1/1 [==============================] - 0s 5ms/step - loss: 3.7548 - mae: 3.7548\n",
      "Epoch 85/100\n",
      "1/1 [==============================] - 0s 6ms/step - loss: 3.7488 - mae: 3.7488\n",
      "Epoch 86/100\n",
      "1/1 [==============================] - 0s 6ms/step - loss: 3.7269 - mae: 3.7269\n",
      "Epoch 87/100\n",
      "1/1 [==============================] - 0s 5ms/step - loss: 3.7574 - mae: 3.7574\n",
      "Epoch 88/100\n",
      "1/1 [==============================] - 0s 6ms/step - loss: 3.6988 - mae: 3.6988\n",
      "Epoch 89/100\n"
     ]
    },
    {
     "name": "stdout",
     "output_type": "stream",
     "text": [
      "1/1 [==============================] - 0s 6ms/step - loss: 3.7662 - mae: 3.7662\n",
      "Epoch 90/100\n",
      "1/1 [==============================] - 0s 7ms/step - loss: 3.7000 - mae: 3.7000\n",
      "Epoch 91/100\n",
      "1/1 [==============================] - 0s 8ms/step - loss: 3.7448 - mae: 3.7448\n",
      "Epoch 92/100\n",
      "1/1 [==============================] - 0s 5ms/step - loss: 3.7148 - mae: 3.7148\n",
      "Epoch 93/100\n",
      "1/1 [==============================] - 0s 6ms/step - loss: 3.7237 - mae: 3.7237\n",
      "Epoch 94/100\n",
      "1/1 [==============================] - 0s 8ms/step - loss: 3.7250 - mae: 3.7250\n",
      "Epoch 95/100\n",
      "1/1 [==============================] - 0s 5ms/step - loss: 3.6955 - mae: 3.6955\n",
      "Epoch 96/100\n",
      "1/1 [==============================] - 0s 7ms/step - loss: 3.7338 - mae: 3.7338\n",
      "Epoch 97/100\n",
      "1/1 [==============================] - 0s 8ms/step - loss: 3.6681 - mae: 3.6681\n",
      "Epoch 98/100\n",
      "1/1 [==============================] - 0s 6ms/step - loss: 3.7409 - mae: 3.7409\n",
      "Epoch 99/100\n",
      "1/1 [==============================] - 0s 5ms/step - loss: 3.6768 - mae: 3.6768\n",
      "Epoch 100/100\n",
      "1/1 [==============================] - 0s 8ms/step - loss: 3.7163 - mae: 3.7163\n"
     ]
    },
    {
     "data": {
      "text/plain": [
       "<keras.callbacks.History at 0x13087985910>"
      ]
     },
     "execution_count": 15,
     "metadata": {},
     "output_type": "execute_result"
    }
   ],
   "source": [
    "# 1st experiment : add a hidden layer, and more epochs, as an improvement to the model\n",
    "\n",
    "# Set a random seed (in order to have some reproducibility)\n",
    "tf.random.set_seed(42)\n",
    "\n",
    "# 1. Create a model using the Sequential API\n",
    "model = tf.keras.Sequential([\n",
    "    \n",
    "    # Adding more hidden layers, more neurons, and activation function \n",
    "    tf.keras.layers.Dense(100, activation=\"relu\"),\n",
    "    \n",
    "    tf.keras.layers.Dense(1)\n",
    "])\n",
    "\n",
    "# 2. Compile the model\n",
    "model.compile(loss=tf.keras.losses.mae, # MAE : Mean Absolute Error\n",
    "              optimizer=tf.keras.optimizers.SGD(),\n",
    "              metrics=[\"mae\"]\n",
    "             )\n",
    "\n",
    "# 3. Fit the model \n",
    "model.fit(tf.expand_dims(X, axis=-1),y, epochs=100) # Increasing the number of epochs\n"
   ]
  },
  {
   "cell_type": "markdown",
   "id": "ac7a663c",
   "metadata": {},
   "source": [
    "The 1st experiment has resulted in a good improvement of the model"
   ]
  },
  {
   "cell_type": "code",
   "execution_count": 16,
   "id": "debaf8ee",
   "metadata": {},
   "outputs": [
    {
     "name": "stdout",
     "output_type": "stream",
     "text": [
      "1/1 [==============================] - 0s 151ms/step\n"
     ]
    },
    {
     "data": {
      "text/plain": [
       "array([[32.378944]], dtype=float32)"
      ]
     },
     "execution_count": 16,
     "metadata": {},
     "output_type": "execute_result"
    }
   ],
   "source": [
    "# Check how the model's prediction has improved...\n",
    "model.predict([17.])"
   ]
  },
  {
   "cell_type": "code",
   "execution_count": null,
   "id": "edec4f02",
   "metadata": {},
   "outputs": [],
   "source": []
  },
  {
   "cell_type": "code",
   "execution_count": null,
   "id": "af2206a9",
   "metadata": {},
   "outputs": [],
   "source": []
  },
  {
   "cell_type": "code",
   "execution_count": 17,
   "id": "ab3f76fa",
   "metadata": {},
   "outputs": [
    {
     "name": "stdout",
     "output_type": "stream",
     "text": [
      "Epoch 1/300\n"
     ]
    },
    {
     "name": "stderr",
     "output_type": "stream",
     "text": [
      "C:\\ProgramData\\Anaconda3\\lib\\site-packages\\keras\\optimizers\\optimizer_v2\\adam.py:114: UserWarning: The `lr` argument is deprecated, use `learning_rate` instead.\n",
      "  super().__init__(name, **kwargs)\n"
     ]
    },
    {
     "name": "stdout",
     "output_type": "stream",
     "text": [
      "1/1 [==============================] - 1s 1s/step - loss: 13.0095 - mae: 13.0095\n",
      "Epoch 2/300\n",
      "1/1 [==============================] - 0s 8ms/step - loss: 12.9782 - mae: 12.9782\n",
      "Epoch 3/300\n",
      "1/1 [==============================] - 0s 9ms/step - loss: 12.9469 - mae: 12.9469\n",
      "Epoch 4/300\n",
      "1/1 [==============================] - 0s 10ms/step - loss: 12.9154 - mae: 12.9154\n",
      "Epoch 5/300\n",
      "1/1 [==============================] - 0s 6ms/step - loss: 12.8839 - mae: 12.8839\n",
      "Epoch 6/300\n",
      "1/1 [==============================] - 0s 6ms/step - loss: 12.8524 - mae: 12.8524\n",
      "Epoch 7/300\n",
      "1/1 [==============================] - 0s 8ms/step - loss: 12.8209 - mae: 12.8209\n",
      "Epoch 8/300\n",
      "1/1 [==============================] - 0s 9ms/step - loss: 12.7892 - mae: 12.7892\n",
      "Epoch 9/300\n",
      "1/1 [==============================] - 0s 6ms/step - loss: 12.7575 - mae: 12.7575\n",
      "Epoch 10/300\n",
      "1/1 [==============================] - 0s 9ms/step - loss: 12.7257 - mae: 12.7257\n",
      "Epoch 11/300\n",
      "1/1 [==============================] - 0s 8ms/step - loss: 12.6932 - mae: 12.6932\n",
      "Epoch 12/300\n",
      "1/1 [==============================] - 0s 7ms/step - loss: 12.6605 - mae: 12.6605\n",
      "Epoch 13/300\n",
      "1/1 [==============================] - 0s 5ms/step - loss: 12.6280 - mae: 12.6280\n",
      "Epoch 14/300\n",
      "1/1 [==============================] - 0s 10ms/step - loss: 12.5966 - mae: 12.5966\n",
      "Epoch 15/300\n",
      "1/1 [==============================] - 0s 8ms/step - loss: 12.5655 - mae: 12.5655\n",
      "Epoch 16/300\n",
      "1/1 [==============================] - 0s 7ms/step - loss: 12.5346 - mae: 12.5346\n",
      "Epoch 17/300\n",
      "1/1 [==============================] - 0s 6ms/step - loss: 12.5036 - mae: 12.5036\n",
      "Epoch 18/300\n",
      "1/1 [==============================] - 0s 11ms/step - loss: 12.4726 - mae: 12.4726\n",
      "Epoch 19/300\n",
      "1/1 [==============================] - 0s 8ms/step - loss: 12.4418 - mae: 12.4418\n",
      "Epoch 20/300\n",
      "1/1 [==============================] - 0s 8ms/step - loss: 12.4112 - mae: 12.4112\n",
      "Epoch 21/300\n",
      "1/1 [==============================] - 0s 7ms/step - loss: 12.3810 - mae: 12.3810\n",
      "Epoch 22/300\n",
      "1/1 [==============================] - 0s 13ms/step - loss: 12.3509 - mae: 12.3509\n",
      "Epoch 23/300\n",
      "1/1 [==============================] - 0s 9ms/step - loss: 12.3206 - mae: 12.3206\n",
      "Epoch 24/300\n",
      "1/1 [==============================] - 0s 6ms/step - loss: 12.2900 - mae: 12.2900\n",
      "Epoch 25/300\n",
      "1/1 [==============================] - 0s 8ms/step - loss: 12.2591 - mae: 12.2591\n",
      "Epoch 26/300\n",
      "1/1 [==============================] - 0s 10ms/step - loss: 12.2284 - mae: 12.2284\n",
      "Epoch 27/300\n",
      "1/1 [==============================] - 0s 11ms/step - loss: 12.1977 - mae: 12.1977\n",
      "Epoch 28/300\n",
      "1/1 [==============================] - 0s 10ms/step - loss: 12.1670 - mae: 12.1670\n",
      "Epoch 29/300\n",
      "1/1 [==============================] - 0s 9ms/step - loss: 12.1361 - mae: 12.1361\n",
      "Epoch 30/300\n",
      "1/1 [==============================] - 0s 10ms/step - loss: 12.1050 - mae: 12.1050\n",
      "Epoch 31/300\n",
      "1/1 [==============================] - 0s 7ms/step - loss: 12.0739 - mae: 12.0739\n",
      "Epoch 32/300\n",
      "1/1 [==============================] - 0s 8ms/step - loss: 12.0427 - mae: 12.0427\n",
      "Epoch 33/300\n",
      "1/1 [==============================] - 0s 38ms/step - loss: 12.0116 - mae: 12.0116\n",
      "Epoch 34/300\n",
      "1/1 [==============================] - 0s 45ms/step - loss: 11.9806 - mae: 11.9806\n",
      "Epoch 35/300\n",
      "1/1 [==============================] - 0s 7ms/step - loss: 11.9497 - mae: 11.9497\n",
      "Epoch 36/300\n",
      "1/1 [==============================] - 0s 9ms/step - loss: 11.9185 - mae: 11.9185\n",
      "Epoch 37/300\n",
      "1/1 [==============================] - 0s 10ms/step - loss: 11.8872 - mae: 11.8872\n",
      "Epoch 38/300\n",
      "1/1 [==============================] - 0s 11ms/step - loss: 11.8559 - mae: 11.8559\n",
      "Epoch 39/300\n",
      "1/1 [==============================] - 0s 10ms/step - loss: 11.8246 - mae: 11.8246\n",
      "Epoch 40/300\n",
      "1/1 [==============================] - 0s 13ms/step - loss: 11.7933 - mae: 11.7933\n",
      "Epoch 41/300\n",
      "1/1 [==============================] - 0s 4ms/step - loss: 11.7617 - mae: 11.7617\n",
      "Epoch 42/300\n",
      "1/1 [==============================] - 0s 7ms/step - loss: 11.7300 - mae: 11.7300\n",
      "Epoch 43/300\n",
      "1/1 [==============================] - 0s 10ms/step - loss: 11.6985 - mae: 11.6985\n",
      "Epoch 44/300\n",
      "1/1 [==============================] - 0s 10ms/step - loss: 11.6669 - mae: 11.6669\n",
      "Epoch 45/300\n",
      "1/1 [==============================] - 0s 5ms/step - loss: 11.6351 - mae: 11.6351\n",
      "Epoch 46/300\n",
      "1/1 [==============================] - 0s 7ms/step - loss: 11.6032 - mae: 11.6032\n",
      "Epoch 47/300\n",
      "1/1 [==============================] - 0s 10ms/step - loss: 11.5711 - mae: 11.5711\n",
      "Epoch 48/300\n",
      "1/1 [==============================] - 0s 9ms/step - loss: 11.5388 - mae: 11.5388\n",
      "Epoch 49/300\n",
      "1/1 [==============================] - 0s 8ms/step - loss: 11.5064 - mae: 11.5064\n",
      "Epoch 50/300\n",
      "1/1 [==============================] - 0s 7ms/step - loss: 11.4738 - mae: 11.4738\n",
      "Epoch 51/300\n",
      "1/1 [==============================] - 0s 7ms/step - loss: 11.4411 - mae: 11.4411\n",
      "Epoch 52/300\n",
      "1/1 [==============================] - 0s 7ms/step - loss: 11.4081 - mae: 11.4081\n",
      "Epoch 53/300\n",
      "1/1 [==============================] - 0s 8ms/step - loss: 11.3750 - mae: 11.3750\n",
      "Epoch 54/300\n",
      "1/1 [==============================] - 0s 5ms/step - loss: 11.3419 - mae: 11.3419\n",
      "Epoch 55/300\n",
      "1/1 [==============================] - 0s 7ms/step - loss: 11.3086 - mae: 11.3086\n",
      "Epoch 56/300\n",
      "1/1 [==============================] - 0s 9ms/step - loss: 11.2749 - mae: 11.2749\n",
      "Epoch 57/300\n",
      "1/1 [==============================] - 0s 7ms/step - loss: 11.2411 - mae: 11.2411\n",
      "Epoch 58/300\n",
      "1/1 [==============================] - 0s 7ms/step - loss: 11.2069 - mae: 11.2069\n",
      "Epoch 59/300\n",
      "1/1 [==============================] - 0s 6ms/step - loss: 11.1725 - mae: 11.1725\n",
      "Epoch 60/300\n",
      "1/1 [==============================] - 0s 7ms/step - loss: 11.1378 - mae: 11.1378\n",
      "Epoch 61/300\n",
      "1/1 [==============================] - 0s 10ms/step - loss: 11.1029 - mae: 11.1029\n",
      "Epoch 62/300\n",
      "1/1 [==============================] - 0s 8ms/step - loss: 11.0679 - mae: 11.0679\n",
      "Epoch 63/300\n",
      "1/1 [==============================] - 0s 7ms/step - loss: 11.0331 - mae: 11.0331\n",
      "Epoch 64/300\n",
      "1/1 [==============================] - 0s 5ms/step - loss: 10.9980 - mae: 10.9980\n",
      "Epoch 65/300\n",
      "1/1 [==============================] - 0s 5ms/step - loss: 10.9626 - mae: 10.9626\n",
      "Epoch 66/300\n",
      "1/1 [==============================] - 0s 7ms/step - loss: 10.9270 - mae: 10.9270\n",
      "Epoch 67/300\n",
      "1/1 [==============================] - 0s 9ms/step - loss: 10.8914 - mae: 10.8914\n",
      "Epoch 68/300\n",
      "1/1 [==============================] - 0s 6ms/step - loss: 10.8557 - mae: 10.8557\n",
      "Epoch 69/300\n",
      "1/1 [==============================] - 0s 8ms/step - loss: 10.8198 - mae: 10.8198\n",
      "Epoch 70/300\n",
      "1/1 [==============================] - 0s 8ms/step - loss: 10.7837 - mae: 10.7837\n",
      "Epoch 71/300\n",
      "1/1 [==============================] - 0s 8ms/step - loss: 10.7473 - mae: 10.7473\n",
      "Epoch 72/300\n",
      "1/1 [==============================] - 0s 6ms/step - loss: 10.7106 - mae: 10.7106\n",
      "Epoch 73/300\n",
      "1/1 [==============================] - 0s 8ms/step - loss: 10.6742 - mae: 10.6742\n",
      "Epoch 74/300\n",
      "1/1 [==============================] - 0s 6ms/step - loss: 10.6378 - mae: 10.6378\n",
      "Epoch 75/300\n",
      "1/1 [==============================] - 0s 5ms/step - loss: 10.6010 - mae: 10.6010\n",
      "Epoch 76/300\n",
      "1/1 [==============================] - 0s 8ms/step - loss: 10.5638 - mae: 10.5638\n",
      "Epoch 77/300\n",
      "1/1 [==============================] - 0s 9ms/step - loss: 10.5263 - mae: 10.5263\n",
      "Epoch 78/300\n",
      "1/1 [==============================] - 0s 8ms/step - loss: 10.4885 - mae: 10.4885\n",
      "Epoch 79/300\n",
      "1/1 [==============================] - 0s 7ms/step - loss: 10.4503 - mae: 10.4503\n",
      "Epoch 80/300\n",
      "1/1 [==============================] - 0s 8ms/step - loss: 10.4119 - mae: 10.4119\n",
      "Epoch 81/300\n",
      "1/1 [==============================] - 0s 7ms/step - loss: 10.3753 - mae: 10.3753\n",
      "Epoch 82/300\n",
      "1/1 [==============================] - 0s 7ms/step - loss: 10.3472 - mae: 10.3472\n",
      "Epoch 83/300\n",
      "1/1 [==============================] - 0s 8ms/step - loss: 10.3188 - mae: 10.3188\n",
      "Epoch 84/300\n",
      "1/1 [==============================] - 0s 6ms/step - loss: 10.2900 - mae: 10.2900\n",
      "Epoch 85/300\n",
      "1/1 [==============================] - 0s 6ms/step - loss: 10.2610 - mae: 10.2610\n",
      "Epoch 86/300\n",
      "1/1 [==============================] - 0s 7ms/step - loss: 10.2318 - mae: 10.2318\n",
      "Epoch 87/300\n"
     ]
    },
    {
     "name": "stdout",
     "output_type": "stream",
     "text": [
      "1/1 [==============================] - 0s 5ms/step - loss: 10.2023 - mae: 10.2023\n",
      "Epoch 88/300\n",
      "1/1 [==============================] - 0s 7ms/step - loss: 10.1724 - mae: 10.1724\n",
      "Epoch 89/300\n",
      "1/1 [==============================] - 0s 7ms/step - loss: 10.1423 - mae: 10.1423\n",
      "Epoch 90/300\n",
      "1/1 [==============================] - 0s 6ms/step - loss: 10.1119 - mae: 10.1119\n",
      "Epoch 91/300\n",
      "1/1 [==============================] - 0s 7ms/step - loss: 10.0812 - mae: 10.0812\n",
      "Epoch 92/300\n",
      "1/1 [==============================] - 0s 7ms/step - loss: 10.0502 - mae: 10.0502\n",
      "Epoch 93/300\n",
      "1/1 [==============================] - 0s 6ms/step - loss: 10.0189 - mae: 10.0189\n",
      "Epoch 94/300\n",
      "1/1 [==============================] - 0s 7ms/step - loss: 9.9873 - mae: 9.9873\n",
      "Epoch 95/300\n",
      "1/1 [==============================] - 0s 7ms/step - loss: 9.9554 - mae: 9.9554\n",
      "Epoch 96/300\n",
      "1/1 [==============================] - 0s 7ms/step - loss: 9.9232 - mae: 9.9232\n",
      "Epoch 97/300\n",
      "1/1 [==============================] - 0s 6ms/step - loss: 9.8908 - mae: 9.8908\n",
      "Epoch 98/300\n",
      "1/1 [==============================] - 0s 8ms/step - loss: 9.8581 - mae: 9.8581\n",
      "Epoch 99/300\n",
      "1/1 [==============================] - 0s 6ms/step - loss: 9.8251 - mae: 9.8251\n",
      "Epoch 100/300\n",
      "1/1 [==============================] - 0s 7ms/step - loss: 9.7918 - mae: 9.7918\n",
      "Epoch 101/300\n",
      "1/1 [==============================] - 0s 8ms/step - loss: 9.7582 - mae: 9.7582\n",
      "Epoch 102/300\n",
      "1/1 [==============================] - 0s 7ms/step - loss: 9.7243 - mae: 9.7243\n",
      "Epoch 103/300\n",
      "1/1 [==============================] - 0s 7ms/step - loss: 9.6901 - mae: 9.6901\n",
      "Epoch 104/300\n",
      "1/1 [==============================] - 0s 8ms/step - loss: 9.6557 - mae: 9.6557\n",
      "Epoch 105/300\n",
      "1/1 [==============================] - 0s 7ms/step - loss: 9.6211 - mae: 9.6211\n",
      "Epoch 106/300\n",
      "1/1 [==============================] - 0s 5ms/step - loss: 9.5861 - mae: 9.5861\n",
      "Epoch 107/300\n",
      "1/1 [==============================] - 0s 7ms/step - loss: 9.5508 - mae: 9.5508\n",
      "Epoch 108/300\n",
      "1/1 [==============================] - 0s 7ms/step - loss: 9.5152 - mae: 9.5152\n",
      "Epoch 109/300\n",
      "1/1 [==============================] - 0s 7ms/step - loss: 9.4792 - mae: 9.4792\n",
      "Epoch 110/300\n",
      "1/1 [==============================] - 0s 8ms/step - loss: 9.4428 - mae: 9.4428\n",
      "Epoch 111/300\n",
      "1/1 [==============================] - 0s 6ms/step - loss: 9.4062 - mae: 9.4062\n",
      "Epoch 112/300\n",
      "1/1 [==============================] - 0s 9ms/step - loss: 9.3692 - mae: 9.3692\n",
      "Epoch 113/300\n",
      "1/1 [==============================] - 0s 6ms/step - loss: 9.3318 - mae: 9.3318\n",
      "Epoch 114/300\n",
      "1/1 [==============================] - 0s 7ms/step - loss: 9.2941 - mae: 9.2941\n",
      "Epoch 115/300\n",
      "1/1 [==============================] - 0s 7ms/step - loss: 9.2560 - mae: 9.2560\n",
      "Epoch 116/300\n",
      "1/1 [==============================] - 0s 6ms/step - loss: 9.2176 - mae: 9.2176\n",
      "Epoch 117/300\n",
      "1/1 [==============================] - 0s 8ms/step - loss: 9.1788 - mae: 9.1788\n",
      "Epoch 118/300\n",
      "1/1 [==============================] - 0s 6ms/step - loss: 9.1396 - mae: 9.1396\n",
      "Epoch 119/300\n",
      "1/1 [==============================] - 0s 7ms/step - loss: 9.1000 - mae: 9.1000\n",
      "Epoch 120/300\n",
      "1/1 [==============================] - 0s 7ms/step - loss: 9.0601 - mae: 9.0601\n",
      "Epoch 121/300\n",
      "1/1 [==============================] - 0s 8ms/step - loss: 9.0198 - mae: 9.0198\n",
      "Epoch 122/300\n",
      "1/1 [==============================] - 0s 8ms/step - loss: 8.9792 - mae: 8.9792\n",
      "Epoch 123/300\n",
      "1/1 [==============================] - 0s 5ms/step - loss: 8.9381 - mae: 8.9381\n",
      "Epoch 124/300\n",
      "1/1 [==============================] - 0s 8ms/step - loss: 8.8969 - mae: 8.8969\n",
      "Epoch 125/300\n",
      "1/1 [==============================] - 0s 8ms/step - loss: 8.8552 - mae: 8.8552\n",
      "Epoch 126/300\n",
      "1/1 [==============================] - 0s 7ms/step - loss: 8.8132 - mae: 8.8132\n",
      "Epoch 127/300\n",
      "1/1 [==============================] - 0s 7ms/step - loss: 8.7708 - mae: 8.7708\n",
      "Epoch 128/300\n",
      "1/1 [==============================] - 0s 8ms/step - loss: 8.7281 - mae: 8.7281\n",
      "Epoch 129/300\n",
      "1/1 [==============================] - 0s 8ms/step - loss: 8.6849 - mae: 8.6849\n",
      "Epoch 130/300\n",
      "1/1 [==============================] - 0s 8ms/step - loss: 8.6415 - mae: 8.6415\n",
      "Epoch 131/300\n",
      "1/1 [==============================] - 0s 7ms/step - loss: 8.5981 - mae: 8.5981\n",
      "Epoch 132/300\n",
      "1/1 [==============================] - 0s 8ms/step - loss: 8.5542 - mae: 8.5542\n",
      "Epoch 133/300\n",
      "1/1 [==============================] - 0s 7ms/step - loss: 8.5098 - mae: 8.5098\n",
      "Epoch 134/300\n",
      "1/1 [==============================] - 0s 7ms/step - loss: 8.4651 - mae: 8.4651\n",
      "Epoch 135/300\n",
      "1/1 [==============================] - 0s 8ms/step - loss: 8.4201 - mae: 8.4201\n",
      "Epoch 136/300\n",
      "1/1 [==============================] - 0s 10ms/step - loss: 8.3748 - mae: 8.3748\n",
      "Epoch 137/300\n",
      "1/1 [==============================] - 0s 8ms/step - loss: 8.3294 - mae: 8.3294\n",
      "Epoch 138/300\n",
      "1/1 [==============================] - 0s 6ms/step - loss: 8.2834 - mae: 8.2834\n",
      "Epoch 139/300\n",
      "1/1 [==============================] - 0s 7ms/step - loss: 8.2371 - mae: 8.2371\n",
      "Epoch 140/300\n",
      "1/1 [==============================] - 0s 7ms/step - loss: 8.1903 - mae: 8.1903\n",
      "Epoch 141/300\n",
      "1/1 [==============================] - 0s 7ms/step - loss: 8.1431 - mae: 8.1431\n",
      "Epoch 142/300\n",
      "1/1 [==============================] - 0s 8ms/step - loss: 8.0955 - mae: 8.0955\n",
      "Epoch 143/300\n",
      "1/1 [==============================] - 0s 6ms/step - loss: 8.0474 - mae: 8.0474\n",
      "Epoch 144/300\n",
      "1/1 [==============================] - 0s 7ms/step - loss: 7.9989 - mae: 7.9989\n",
      "Epoch 145/300\n",
      "1/1 [==============================] - 0s 9ms/step - loss: 7.9501 - mae: 7.9501\n",
      "Epoch 146/300\n",
      "1/1 [==============================] - 0s 11ms/step - loss: 7.9008 - mae: 7.9008\n",
      "Epoch 147/300\n",
      "1/1 [==============================] - 0s 7ms/step - loss: 7.8513 - mae: 7.8513\n",
      "Epoch 148/300\n",
      "1/1 [==============================] - 0s 7ms/step - loss: 7.8017 - mae: 7.8017\n",
      "Epoch 149/300\n",
      "1/1 [==============================] - 0s 7ms/step - loss: 7.7518 - mae: 7.7518\n",
      "Epoch 150/300\n",
      "1/1 [==============================] - 0s 8ms/step - loss: 7.7011 - mae: 7.7011\n",
      "Epoch 151/300\n",
      "1/1 [==============================] - 0s 8ms/step - loss: 7.6501 - mae: 7.6501\n",
      "Epoch 152/300\n",
      "1/1 [==============================] - 0s 6ms/step - loss: 7.5986 - mae: 7.5986\n",
      "Epoch 153/300\n",
      "1/1 [==============================] - 0s 8ms/step - loss: 7.5465 - mae: 7.5465\n",
      "Epoch 154/300\n",
      "1/1 [==============================] - 0s 7ms/step - loss: 7.4940 - mae: 7.4940\n",
      "Epoch 155/300\n",
      "1/1 [==============================] - 0s 7ms/step - loss: 7.4410 - mae: 7.4410\n",
      "Epoch 156/300\n",
      "1/1 [==============================] - 0s 7ms/step - loss: 7.3875 - mae: 7.3875\n",
      "Epoch 157/300\n",
      "1/1 [==============================] - 0s 10ms/step - loss: 7.3335 - mae: 7.3335\n",
      "Epoch 158/300\n",
      "1/1 [==============================] - 0s 8ms/step - loss: 7.2790 - mae: 7.2790\n",
      "Epoch 159/300\n",
      "1/1 [==============================] - 0s 6ms/step - loss: 7.2240 - mae: 7.2240\n",
      "Epoch 160/300\n",
      "1/1 [==============================] - 0s 7ms/step - loss: 7.1686 - mae: 7.1686\n",
      "Epoch 161/300\n",
      "1/1 [==============================] - 0s 8ms/step - loss: 7.1125 - mae: 7.1125\n",
      "Epoch 162/300\n",
      "1/1 [==============================] - 0s 8ms/step - loss: 7.0560 - mae: 7.0560\n",
      "Epoch 163/300\n",
      "1/1 [==============================] - 0s 7ms/step - loss: 6.9990 - mae: 6.9990\n",
      "Epoch 164/300\n",
      "1/1 [==============================] - 0s 8ms/step - loss: 6.9415 - mae: 6.9415\n",
      "Epoch 165/300\n",
      "1/1 [==============================] - 0s 8ms/step - loss: 6.8835 - mae: 6.8835\n",
      "Epoch 166/300\n",
      "1/1 [==============================] - 0s 6ms/step - loss: 6.8250 - mae: 6.8250\n",
      "Epoch 167/300\n",
      "1/1 [==============================] - 0s 7ms/step - loss: 6.7660 - mae: 6.7660\n",
      "Epoch 168/300\n",
      "1/1 [==============================] - 0s 9ms/step - loss: 6.7066 - mae: 6.7066\n",
      "Epoch 169/300\n",
      "1/1 [==============================] - 0s 9ms/step - loss: 6.6464 - mae: 6.6464\n",
      "Epoch 170/300\n",
      "1/1 [==============================] - 0s 8ms/step - loss: 6.5857 - mae: 6.5857\n",
      "Epoch 171/300\n",
      "1/1 [==============================] - 0s 6ms/step - loss: 6.5246 - mae: 6.5246\n",
      "Epoch 172/300\n",
      "1/1 [==============================] - 0s 9ms/step - loss: 6.4629 - mae: 6.4629\n",
      "Epoch 173/300\n",
      "1/1 [==============================] - 0s 10ms/step - loss: 6.4007 - mae: 6.4007\n",
      "Epoch 174/300\n"
     ]
    },
    {
     "name": "stdout",
     "output_type": "stream",
     "text": [
      "1/1 [==============================] - 0s 7ms/step - loss: 6.3379 - mae: 6.3379\n",
      "Epoch 175/300\n",
      "1/1 [==============================] - 0s 6ms/step - loss: 6.2744 - mae: 6.2744\n",
      "Epoch 176/300\n",
      "1/1 [==============================] - 0s 8ms/step - loss: 6.2105 - mae: 6.2105\n",
      "Epoch 177/300\n",
      "1/1 [==============================] - 0s 7ms/step - loss: 6.1461 - mae: 6.1461\n",
      "Epoch 178/300\n",
      "1/1 [==============================] - 0s 47ms/step - loss: 6.0812 - mae: 6.0812\n",
      "Epoch 179/300\n",
      "1/1 [==============================] - 0s 7ms/step - loss: 6.0155 - mae: 6.0155\n",
      "Epoch 180/300\n",
      "1/1 [==============================] - 0s 8ms/step - loss: 5.9492 - mae: 5.9492\n",
      "Epoch 181/300\n",
      "1/1 [==============================] - 0s 8ms/step - loss: 5.8823 - mae: 5.8823\n",
      "Epoch 182/300\n",
      "1/1 [==============================] - 0s 9ms/step - loss: 5.8147 - mae: 5.8147\n",
      "Epoch 183/300\n",
      "1/1 [==============================] - 0s 8ms/step - loss: 5.7464 - mae: 5.7464\n",
      "Epoch 184/300\n",
      "1/1 [==============================] - 0s 7ms/step - loss: 5.6770 - mae: 5.6770\n",
      "Epoch 185/300\n",
      "1/1 [==============================] - 0s 9ms/step - loss: 5.6054 - mae: 5.6054\n",
      "Epoch 186/300\n",
      "1/1 [==============================] - 0s 8ms/step - loss: 5.5328 - mae: 5.5328\n",
      "Epoch 187/300\n",
      "1/1 [==============================] - 0s 7ms/step - loss: 5.4591 - mae: 5.4591\n",
      "Epoch 188/300\n",
      "1/1 [==============================] - 0s 6ms/step - loss: 5.3845 - mae: 5.3845\n",
      "Epoch 189/300\n",
      "1/1 [==============================] - 0s 8ms/step - loss: 5.3088 - mae: 5.3088\n",
      "Epoch 190/300\n",
      "1/1 [==============================] - 0s 11ms/step - loss: 5.2324 - mae: 5.2324\n",
      "Epoch 191/300\n",
      "1/1 [==============================] - 0s 9ms/step - loss: 5.1550 - mae: 5.1550\n",
      "Epoch 192/300\n",
      "1/1 [==============================] - 0s 8ms/step - loss: 5.0768 - mae: 5.0768\n",
      "Epoch 193/300\n",
      "1/1 [==============================] - 0s 8ms/step - loss: 4.9978 - mae: 4.9978\n",
      "Epoch 194/300\n",
      "1/1 [==============================] - 0s 9ms/step - loss: 4.9178 - mae: 4.9178\n",
      "Epoch 195/300\n",
      "1/1 [==============================] - 0s 9ms/step - loss: 4.8369 - mae: 4.8369\n",
      "Epoch 196/300\n",
      "1/1 [==============================] - 0s 6ms/step - loss: 4.7553 - mae: 4.7553\n",
      "Epoch 197/300\n",
      "1/1 [==============================] - 0s 8ms/step - loss: 4.6732 - mae: 4.6732\n",
      "Epoch 198/300\n",
      "1/1 [==============================] - 0s 7ms/step - loss: 4.5902 - mae: 4.5902\n",
      "Epoch 199/300\n",
      "1/1 [==============================] - 0s 8ms/step - loss: 4.5064 - mae: 4.5064\n",
      "Epoch 200/300\n",
      "1/1 [==============================] - 0s 8ms/step - loss: 4.4220 - mae: 4.4220\n",
      "Epoch 201/300\n",
      "1/1 [==============================] - 0s 8ms/step - loss: 4.3368 - mae: 4.3368\n",
      "Epoch 202/300\n",
      "1/1 [==============================] - 0s 10ms/step - loss: 4.2509 - mae: 4.2509\n",
      "Epoch 203/300\n",
      "1/1 [==============================] - 0s 6ms/step - loss: 4.1640 - mae: 4.1640\n",
      "Epoch 204/300\n",
      "1/1 [==============================] - 0s 7ms/step - loss: 4.0962 - mae: 4.0962\n",
      "Epoch 205/300\n",
      "1/1 [==============================] - 0s 8ms/step - loss: 4.0700 - mae: 4.0700\n",
      "Epoch 206/300\n",
      "1/1 [==============================] - 0s 8ms/step - loss: 4.0450 - mae: 4.0450\n",
      "Epoch 207/300\n",
      "1/1 [==============================] - 0s 6ms/step - loss: 4.0213 - mae: 4.0213\n",
      "Epoch 208/300\n",
      "1/1 [==============================] - 0s 9ms/step - loss: 3.9988 - mae: 3.9988\n",
      "Epoch 209/300\n",
      "1/1 [==============================] - 0s 9ms/step - loss: 3.9773 - mae: 3.9773\n",
      "Epoch 210/300\n",
      "1/1 [==============================] - 0s 7ms/step - loss: 3.9566 - mae: 3.9566\n",
      "Epoch 211/300\n",
      "1/1 [==============================] - 0s 7ms/step - loss: 3.9368 - mae: 3.9368\n",
      "Epoch 212/300\n",
      "1/1 [==============================] - 0s 6ms/step - loss: 3.9179 - mae: 3.9179\n",
      "Epoch 213/300\n",
      "1/1 [==============================] - 0s 7ms/step - loss: 3.8996 - mae: 3.8996\n",
      "Epoch 214/300\n",
      "1/1 [==============================] - 0s 7ms/step - loss: 3.8818 - mae: 3.8818\n",
      "Epoch 215/300\n",
      "1/1 [==============================] - 0s 8ms/step - loss: 3.8645 - mae: 3.8645\n",
      "Epoch 216/300\n",
      "1/1 [==============================] - 0s 7ms/step - loss: 3.8477 - mae: 3.8477\n",
      "Epoch 217/300\n",
      "1/1 [==============================] - 0s 7ms/step - loss: 3.8319 - mae: 3.8319\n",
      "Epoch 218/300\n",
      "1/1 [==============================] - 0s 7ms/step - loss: 3.8164 - mae: 3.8164\n",
      "Epoch 219/300\n",
      "1/1 [==============================] - 0s 8ms/step - loss: 3.8012 - mae: 3.8012\n",
      "Epoch 220/300\n",
      "1/1 [==============================] - 0s 8ms/step - loss: 3.8103 - mae: 3.8103\n",
      "Epoch 221/300\n",
      "1/1 [==============================] - 0s 6ms/step - loss: 3.8184 - mae: 3.8184\n",
      "Epoch 222/300\n",
      "1/1 [==============================] - 0s 7ms/step - loss: 3.8249 - mae: 3.8249\n",
      "Epoch 223/300\n",
      "1/1 [==============================] - 0s 8ms/step - loss: 3.8297 - mae: 3.8297\n",
      "Epoch 224/300\n",
      "1/1 [==============================] - 0s 9ms/step - loss: 3.8333 - mae: 3.8333\n",
      "Epoch 225/300\n",
      "1/1 [==============================] - 0s 7ms/step - loss: 3.8357 - mae: 3.8357\n",
      "Epoch 226/300\n",
      "1/1 [==============================] - 0s 6ms/step - loss: 3.8385 - mae: 3.8385\n",
      "Epoch 227/300\n",
      "1/1 [==============================] - 0s 9ms/step - loss: 3.8380 - mae: 3.8380\n",
      "Epoch 228/300\n",
      "1/1 [==============================] - 0s 7ms/step - loss: 3.8384 - mae: 3.8384\n",
      "Epoch 229/300\n",
      "1/1 [==============================] - 0s 6ms/step - loss: 3.8381 - mae: 3.8381\n",
      "Epoch 230/300\n",
      "1/1 [==============================] - 0s 8ms/step - loss: 3.8369 - mae: 3.8369\n",
      "Epoch 231/300\n",
      "1/1 [==============================] - 0s 8ms/step - loss: 3.8350 - mae: 3.8350\n",
      "Epoch 232/300\n",
      "1/1 [==============================] - 0s 7ms/step - loss: 3.8324 - mae: 3.8324\n",
      "Epoch 233/300\n",
      "1/1 [==============================] - 0s 7ms/step - loss: 3.8292 - mae: 3.8292\n",
      "Epoch 234/300\n",
      "1/1 [==============================] - 0s 8ms/step - loss: 3.8254 - mae: 3.8254\n",
      "Epoch 235/300\n",
      "1/1 [==============================] - 0s 8ms/step - loss: 3.8212 - mae: 3.8212\n",
      "Epoch 236/300\n",
      "1/1 [==============================] - 0s 6ms/step - loss: 3.8165 - mae: 3.8165\n",
      "Epoch 237/300\n",
      "1/1 [==============================] - 0s 8ms/step - loss: 3.8115 - mae: 3.8115\n",
      "Epoch 238/300\n",
      "1/1 [==============================] - 0s 7ms/step - loss: 3.8061 - mae: 3.8061\n",
      "Epoch 239/300\n",
      "1/1 [==============================] - 0s 7ms/step - loss: 3.8004 - mae: 3.8004\n",
      "Epoch 240/300\n",
      "1/1 [==============================] - 0s 6ms/step - loss: 3.7944 - mae: 3.7944\n",
      "Epoch 241/300\n",
      "1/1 [==============================] - 0s 7ms/step - loss: 3.7886 - mae: 3.7886\n",
      "Epoch 242/300\n",
      "1/1 [==============================] - 0s 6ms/step - loss: 3.7824 - mae: 3.7824\n",
      "Epoch 243/300\n",
      "1/1 [==============================] - 0s 9ms/step - loss: 3.7868 - mae: 3.7868\n",
      "Epoch 244/300\n",
      "1/1 [==============================] - 0s 8ms/step - loss: 3.7894 - mae: 3.7894\n",
      "Epoch 245/300\n",
      "1/1 [==============================] - 0s 7ms/step - loss: 3.7903 - mae: 3.7903\n",
      "Epoch 246/300\n",
      "1/1 [==============================] - 0s 6ms/step - loss: 3.7899 - mae: 3.7899\n",
      "Epoch 247/300\n",
      "1/1 [==============================] - 0s 9ms/step - loss: 3.7883 - mae: 3.7883\n",
      "Epoch 248/300\n",
      "1/1 [==============================] - 0s 9ms/step - loss: 3.7856 - mae: 3.7856\n",
      "Epoch 249/300\n",
      "1/1 [==============================] - 0s 6ms/step - loss: 3.7818 - mae: 3.7818\n",
      "Epoch 250/300\n",
      "1/1 [==============================] - 0s 6ms/step - loss: 3.7777 - mae: 3.7777\n",
      "Epoch 251/300\n",
      "1/1 [==============================] - 0s 8ms/step - loss: 3.7791 - mae: 3.7791\n",
      "Epoch 252/300\n",
      "1/1 [==============================] - 0s 8ms/step - loss: 3.7795 - mae: 3.7795\n",
      "Epoch 253/300\n",
      "1/1 [==============================] - 0s 6ms/step - loss: 3.7791 - mae: 3.7791\n",
      "Epoch 254/300\n",
      "1/1 [==============================] - 0s 6ms/step - loss: 3.7778 - mae: 3.7778\n",
      "Epoch 255/300\n",
      "1/1 [==============================] - 0s 7ms/step - loss: 3.7757 - mae: 3.7757\n",
      "Epoch 256/300\n",
      "1/1 [==============================] - 0s 7ms/step - loss: 3.7730 - mae: 3.7730\n",
      "Epoch 257/300\n",
      "1/1 [==============================] - 0s 7ms/step - loss: 3.7732 - mae: 3.7732\n",
      "Epoch 258/300\n",
      "1/1 [==============================] - 0s 9ms/step - loss: 3.7734 - mae: 3.7734\n",
      "Epoch 259/300\n",
      "1/1 [==============================] - 0s 9ms/step - loss: 3.7726 - mae: 3.7726\n",
      "Epoch 260/300\n",
      "1/1 [==============================] - 0s 6ms/step - loss: 3.7704 - mae: 3.7704\n",
      "Epoch 261/300\n"
     ]
    },
    {
     "name": "stdout",
     "output_type": "stream",
     "text": [
      "1/1 [==============================] - 0s 6ms/step - loss: 3.7688 - mae: 3.7688\n",
      "Epoch 262/300\n",
      "1/1 [==============================] - 0s 8ms/step - loss: 3.7688 - mae: 3.7688\n",
      "Epoch 263/300\n",
      "1/1 [==============================] - 0s 7ms/step - loss: 3.7680 - mae: 3.7680\n",
      "Epoch 264/300\n",
      "1/1 [==============================] - 0s 7ms/step - loss: 3.7669 - mae: 3.7669\n",
      "Epoch 265/300\n",
      "1/1 [==============================] - 0s 6ms/step - loss: 3.7650 - mae: 3.7650\n",
      "Epoch 266/300\n",
      "1/1 [==============================] - 0s 7ms/step - loss: 3.7660 - mae: 3.7660\n",
      "Epoch 267/300\n",
      "1/1 [==============================] - 0s 8ms/step - loss: 3.7658 - mae: 3.7658\n",
      "Epoch 268/300\n",
      "1/1 [==============================] - 0s 7ms/step - loss: 3.7642 - mae: 3.7642\n",
      "Epoch 269/300\n",
      "1/1 [==============================] - 0s 8ms/step - loss: 3.7615 - mae: 3.7615\n",
      "Epoch 270/300\n",
      "1/1 [==============================] - 0s 7ms/step - loss: 3.7626 - mae: 3.7626\n",
      "Epoch 271/300\n",
      "1/1 [==============================] - 0s 7ms/step - loss: 3.7630 - mae: 3.7630\n",
      "Epoch 272/300\n",
      "1/1 [==============================] - 0s 7ms/step - loss: 3.7624 - mae: 3.7624\n",
      "Epoch 273/300\n",
      "1/1 [==============================] - 0s 9ms/step - loss: 3.7630 - mae: 3.7630\n",
      "Epoch 274/300\n",
      "1/1 [==============================] - 0s 6ms/step - loss: 3.7599 - mae: 3.7599\n",
      "Epoch 275/300\n",
      "1/1 [==============================] - 0s 6ms/step - loss: 3.7577 - mae: 3.7577\n",
      "Epoch 276/300\n",
      "1/1 [==============================] - 0s 5ms/step - loss: 3.7574 - mae: 3.7574\n",
      "Epoch 277/300\n",
      "1/1 [==============================] - 0s 5ms/step - loss: 3.7582 - mae: 3.7582\n",
      "Epoch 278/300\n",
      "1/1 [==============================] - 0s 7ms/step - loss: 3.7574 - mae: 3.7574\n",
      "Epoch 279/300\n",
      "1/1 [==============================] - 0s 7ms/step - loss: 3.7552 - mae: 3.7552\n",
      "Epoch 280/300\n",
      "1/1 [==============================] - 0s 6ms/step - loss: 3.7553 - mae: 3.7553\n",
      "Epoch 281/300\n",
      "1/1 [==============================] - 0s 8ms/step - loss: 3.7556 - mae: 3.7556\n",
      "Epoch 282/300\n",
      "1/1 [==============================] - 0s 6ms/step - loss: 3.7549 - mae: 3.7549\n",
      "Epoch 283/300\n",
      "1/1 [==============================] - 0s 9ms/step - loss: 3.7532 - mae: 3.7532\n",
      "Epoch 284/300\n",
      "1/1 [==============================] - 0s 9ms/step - loss: 3.7510 - mae: 3.7510\n",
      "Epoch 285/300\n",
      "1/1 [==============================] - 0s 9ms/step - loss: 3.7501 - mae: 3.7501\n",
      "Epoch 286/300\n",
      "1/1 [==============================] - 0s 6ms/step - loss: 3.7500 - mae: 3.7500\n",
      "Epoch 287/300\n",
      "1/1 [==============================] - 0s 7ms/step - loss: 3.7484 - mae: 3.7484\n",
      "Epoch 288/300\n",
      "1/1 [==============================] - 0s 8ms/step - loss: 3.7462 - mae: 3.7462\n",
      "Epoch 289/300\n",
      "1/1 [==============================] - 0s 5ms/step - loss: 3.7456 - mae: 3.7456\n",
      "Epoch 290/300\n",
      "1/1 [==============================] - 0s 7ms/step - loss: 3.7441 - mae: 3.7441\n",
      "Epoch 291/300\n",
      "1/1 [==============================] - 0s 11ms/step - loss: 3.7450 - mae: 3.7450\n",
      "Epoch 292/300\n",
      "1/1 [==============================] - 0s 10ms/step - loss: 3.7431 - mae: 3.7431\n",
      "Epoch 293/300\n",
      "1/1 [==============================] - 0s 6ms/step - loss: 3.7424 - mae: 3.7424\n",
      "Epoch 294/300\n",
      "1/1 [==============================] - 0s 7ms/step - loss: 3.7423 - mae: 3.7423\n",
      "Epoch 295/300\n",
      "1/1 [==============================] - 0s 8ms/step - loss: 3.7414 - mae: 3.7414\n",
      "Epoch 296/300\n",
      "1/1 [==============================] - 0s 6ms/step - loss: 3.7405 - mae: 3.7405\n",
      "Epoch 297/300\n",
      "1/1 [==============================] - 0s 6ms/step - loss: 3.7399 - mae: 3.7399\n",
      "Epoch 298/300\n",
      "1/1 [==============================] - 0s 7ms/step - loss: 3.7394 - mae: 3.7394\n",
      "Epoch 299/300\n",
      "1/1 [==============================] - 0s 7ms/step - loss: 3.7387 - mae: 3.7387\n",
      "Epoch 300/300\n",
      "1/1 [==============================] - 0s 7ms/step - loss: 3.7372 - mae: 3.7372\n"
     ]
    },
    {
     "data": {
      "text/plain": [
       "<keras.callbacks.History at 0x13089da0700>"
      ]
     },
     "execution_count": 17,
     "metadata": {},
     "output_type": "execute_result"
    }
   ],
   "source": [
    "# 2nd experiment : buil a larger model, as an improvement to the model\n",
    "\n",
    "# Set a random seed (in order to have some reproducibility)\n",
    "tf.random.set_seed(42)\n",
    "\n",
    "# 1. Create a model using the Sequential API\n",
    "model = tf.keras.Sequential([\n",
    "    \n",
    "    # Adding more hidden layers, more neurons, and activation function \n",
    "    tf.keras.layers.Dense(100, activation=\"relu\"),\n",
    "    tf.keras.layers.Dense(100, activation=\"relu\"),\n",
    "    tf.keras.layers.Dense(100, activation=\"relu\"),\n",
    "    \n",
    "    tf.keras.layers.Dense(1)\n",
    "])\n",
    "\n",
    "# 2. Compile the model\n",
    "model.compile(loss=tf.keras.losses.mae, # MAE : Mean Absolute Error\n",
    "              optimizer=tf.keras.optimizers.Adam(lr=0.0001), # lr = Learning Rate\n",
    "              metrics=[\"mae\"]\n",
    "             )\n",
    "\n",
    "# 3. Fit the model \n",
    "model.fit(tf.expand_dims(X, axis=-1),y, epochs=300) # Increasing the number of epochs\n"
   ]
  },
  {
   "cell_type": "markdown",
   "id": "673624a9",
   "metadata": {},
   "source": [
    "The 2nd model, although more larger, don't provide a better training result compared to the previously built one."
   ]
  },
  {
   "cell_type": "code",
   "execution_count": 18,
   "id": "533e0fa1",
   "metadata": {},
   "outputs": [
    {
     "data": {
      "text/plain": [
       "(<tf.Tensor: shape=(8,), dtype=float64, numpy=array([-7., -4., -1.,  2.,  5.,  8., 11., 14.])>,\n",
       " <tf.Tensor: shape=(8,), dtype=float64, numpy=array([ 3.,  6.,  9., 12., 15., 18., 21., 24.])>)"
      ]
     },
     "execution_count": 18,
     "metadata": {},
     "output_type": "execute_result"
    }
   ],
   "source": [
    "# Remind ourselves of the data\n",
    "X, y"
   ]
  },
  {
   "cell_type": "code",
   "execution_count": 19,
   "id": "9e130a20",
   "metadata": {},
   "outputs": [
    {
     "name": "stdout",
     "output_type": "stream",
     "text": [
      "1/1 [==============================] - 0s 196ms/step\n"
     ]
    },
    {
     "data": {
      "text/plain": [
       "array([[32.041046]], dtype=float32)"
      ]
     },
     "execution_count": 19,
     "metadata": {},
     "output_type": "execute_result"
    }
   ],
   "source": [
    "# Check if the model's prediction has improved...\n",
    "model.predict([17.])"
   ]
  },
  {
   "cell_type": "code",
   "execution_count": null,
   "id": "883941b4",
   "metadata": {},
   "outputs": [],
   "source": []
  },
  {
   "cell_type": "code",
   "execution_count": 20,
   "id": "0cc87495",
   "metadata": {},
   "outputs": [
    {
     "name": "stdout",
     "output_type": "stream",
     "text": [
      "Epoch 1/100\n",
      "1/1 [==============================] - 1s 782ms/step - loss: 13.9305 - mae: 13.9305\n",
      "Epoch 2/100\n",
      "1/1 [==============================] - 0s 6ms/step - loss: 13.0589 - mae: 13.0589\n",
      "Epoch 3/100\n",
      "1/1 [==============================] - 0s 8ms/step - loss: 12.2049 - mae: 12.2049\n",
      "Epoch 4/100\n",
      "1/1 [==============================] - 0s 8ms/step - loss: 11.3547 - mae: 11.3547\n",
      "Epoch 5/100\n",
      "1/1 [==============================] - 0s 8ms/step - loss: 10.5223 - mae: 10.5223\n",
      "Epoch 6/100\n",
      "1/1 [==============================] - 0s 7ms/step - loss: 9.9239 - mae: 9.9239\n",
      "Epoch 7/100\n",
      "1/1 [==============================] - 0s 7ms/step - loss: 9.3233 - mae: 9.3233\n",
      "Epoch 8/100\n",
      "1/1 [==============================] - 0s 5ms/step - loss: 8.7026 - mae: 8.7026\n",
      "Epoch 9/100\n",
      "1/1 [==============================] - 0s 7ms/step - loss: 8.0629 - mae: 8.0629\n",
      "Epoch 10/100\n",
      "1/1 [==============================] - 0s 7ms/step - loss: 7.4021 - mae: 7.4021\n",
      "Epoch 11/100\n",
      "1/1 [==============================] - 0s 7ms/step - loss: 6.7181 - mae: 6.7181\n",
      "Epoch 12/100\n",
      "1/1 [==============================] - 0s 6ms/step - loss: 6.0089 - mae: 6.0089\n",
      "Epoch 13/100\n",
      "1/1 [==============================] - 0s 7ms/step - loss: 5.2720 - mae: 5.2720\n",
      "Epoch 14/100\n",
      "1/1 [==============================] - 0s 7ms/step - loss: 4.5040 - mae: 4.5040\n",
      "Epoch 15/100\n",
      "1/1 [==============================] - 0s 6ms/step - loss: 3.9046 - mae: 3.9046\n",
      "Epoch 16/100\n",
      "1/1 [==============================] - 0s 6ms/step - loss: 3.7399 - mae: 3.7399\n",
      "Epoch 17/100\n",
      "1/1 [==============================] - 0s 5ms/step - loss: 3.8756 - mae: 3.8756\n",
      "Epoch 18/100\n",
      "1/1 [==============================] - 0s 10ms/step - loss: 3.9893 - mae: 3.9893\n",
      "Epoch 19/100\n",
      "1/1 [==============================] - 0s 8ms/step - loss: 4.2744 - mae: 4.2744\n",
      "Epoch 20/100\n",
      "1/1 [==============================] - 0s 5ms/step - loss: 4.4703 - mae: 4.4703\n",
      "Epoch 21/100\n",
      "1/1 [==============================] - 0s 6ms/step - loss: 4.5717 - mae: 4.5717\n",
      "Epoch 22/100\n",
      "1/1 [==============================] - 0s 7ms/step - loss: 4.5898 - mae: 4.5898\n",
      "Epoch 23/100\n",
      "1/1 [==============================] - 0s 7ms/step - loss: 4.5375 - mae: 4.5375\n",
      "Epoch 24/100\n",
      "1/1 [==============================] - 0s 7ms/step - loss: 4.4260 - mae: 4.4260\n",
      "Epoch 25/100\n",
      "1/1 [==============================] - 0s 6ms/step - loss: 4.2661 - mae: 4.2661\n",
      "Epoch 26/100\n",
      "1/1 [==============================] - 0s 6ms/step - loss: 4.0640 - mae: 4.0640\n",
      "Epoch 27/100\n",
      "1/1 [==============================] - 0s 8ms/step - loss: 3.8264 - mae: 3.8264\n",
      "Epoch 28/100\n",
      "1/1 [==============================] - 0s 7ms/step - loss: 3.6537 - mae: 3.6537\n",
      "Epoch 29/100\n",
      "1/1 [==============================] - 0s 6ms/step - loss: 3.5299 - mae: 3.5299\n",
      "Epoch 30/100\n",
      "1/1 [==============================] - 0s 9ms/step - loss: 3.3989 - mae: 3.3989\n",
      "Epoch 31/100\n",
      "1/1 [==============================] - 0s 8ms/step - loss: 3.2666 - mae: 3.2666\n",
      "Epoch 32/100\n",
      "1/1 [==============================] - 0s 8ms/step - loss: 3.2220 - mae: 3.2220\n",
      "Epoch 33/100\n",
      "1/1 [==============================] - 0s 6ms/step - loss: 3.3030 - mae: 3.3030\n",
      "Epoch 34/100\n",
      "1/1 [==============================] - 0s 7ms/step - loss: 3.3141 - mae: 3.3141\n",
      "Epoch 35/100\n",
      "1/1 [==============================] - 0s 6ms/step - loss: 3.2527 - mae: 3.2527\n",
      "Epoch 36/100\n",
      "1/1 [==============================] - 0s 6ms/step - loss: 3.1645 - mae: 3.1645\n",
      "Epoch 37/100\n",
      "1/1 [==============================] - 0s 6ms/step - loss: 3.1038 - mae: 3.1038\n",
      "Epoch 38/100\n",
      "1/1 [==============================] - 0s 9ms/step - loss: 3.0178 - mae: 3.0178\n",
      "Epoch 39/100\n",
      "1/1 [==============================] - 0s 7ms/step - loss: 2.9070 - mae: 2.9070\n",
      "Epoch 40/100\n",
      "1/1 [==============================] - 0s 5ms/step - loss: 2.8801 - mae: 2.8801\n",
      "Epoch 41/100\n",
      "1/1 [==============================] - 0s 8ms/step - loss: 2.8691 - mae: 2.8691\n",
      "Epoch 42/100\n",
      "1/1 [==============================] - 0s 5ms/step - loss: 2.8333 - mae: 2.8333\n",
      "Epoch 43/100\n",
      "1/1 [==============================] - 0s 6ms/step - loss: 2.7692 - mae: 2.7692\n",
      "Epoch 44/100\n",
      "1/1 [==============================] - 0s 7ms/step - loss: 2.6821 - mae: 2.6821\n",
      "Epoch 45/100\n",
      "1/1 [==============================] - 0s 9ms/step - loss: 2.5812 - mae: 2.5812\n",
      "Epoch 46/100\n",
      "1/1 [==============================] - 0s 5ms/step - loss: 2.4776 - mae: 2.4776\n",
      "Epoch 47/100\n",
      "1/1 [==============================] - 0s 7ms/step - loss: 2.3720 - mae: 2.3720\n",
      "Epoch 48/100\n",
      "1/1 [==============================] - 0s 7ms/step - loss: 2.2681 - mae: 2.2681\n",
      "Epoch 49/100\n",
      "1/1 [==============================] - 0s 6ms/step - loss: 2.1494 - mae: 2.1494\n",
      "Epoch 50/100\n",
      "1/1 [==============================] - 0s 7ms/step - loss: 2.0203 - mae: 2.0203\n",
      "Epoch 51/100\n",
      "1/1 [==============================] - 0s 8ms/step - loss: 1.9327 - mae: 1.9327\n",
      "Epoch 52/100\n",
      "1/1 [==============================] - 0s 6ms/step - loss: 1.8310 - mae: 1.8310\n",
      "Epoch 53/100\n",
      "1/1 [==============================] - 0s 9ms/step - loss: 1.6941 - mae: 1.6941\n",
      "Epoch 54/100\n",
      "1/1 [==============================] - 0s 7ms/step - loss: 1.5970 - mae: 1.5970\n",
      "Epoch 55/100\n",
      "1/1 [==============================] - 0s 5ms/step - loss: 1.4931 - mae: 1.4931\n",
      "Epoch 56/100\n",
      "1/1 [==============================] - 0s 11ms/step - loss: 1.3839 - mae: 1.3839\n",
      "Epoch 57/100\n",
      "1/1 [==============================] - 0s 7ms/step - loss: 1.2563 - mae: 1.2563\n",
      "Epoch 58/100\n",
      "1/1 [==============================] - 0s 6ms/step - loss: 1.1425 - mae: 1.1425\n",
      "Epoch 59/100\n",
      "1/1 [==============================] - 0s 7ms/step - loss: 1.0259 - mae: 1.0259\n",
      "Epoch 60/100\n",
      "1/1 [==============================] - 0s 7ms/step - loss: 0.9117 - mae: 0.9117\n",
      "Epoch 61/100\n",
      "1/1 [==============================] - 0s 7ms/step - loss: 0.7805 - mae: 0.7805\n",
      "Epoch 62/100\n",
      "1/1 [==============================] - 0s 6ms/step - loss: 0.7378 - mae: 0.7378\n",
      "Epoch 63/100\n",
      "1/1 [==============================] - 0s 6ms/step - loss: 0.5533 - mae: 0.5533\n",
      "Epoch 64/100\n",
      "1/1 [==============================] - 0s 8ms/step - loss: 0.3247 - mae: 0.3247\n",
      "Epoch 65/100\n",
      "1/1 [==============================] - 0s 7ms/step - loss: 0.4302 - mae: 0.4302\n",
      "Epoch 66/100\n",
      "1/1 [==============================] - 0s 5ms/step - loss: 0.3552 - mae: 0.3552\n",
      "Epoch 67/100\n",
      "1/1 [==============================] - 0s 7ms/step - loss: 0.5649 - mae: 0.5649\n",
      "Epoch 68/100\n",
      "1/1 [==============================] - 0s 8ms/step - loss: 0.5082 - mae: 0.5082\n",
      "Epoch 69/100\n",
      "1/1 [==============================] - 0s 6ms/step - loss: 0.4167 - mae: 0.4167\n",
      "Epoch 70/100\n",
      "1/1 [==============================] - 0s 6ms/step - loss: 0.5704 - mae: 0.5704\n",
      "Epoch 71/100\n",
      "1/1 [==============================] - 0s 6ms/step - loss: 0.3989 - mae: 0.3989\n",
      "Epoch 72/100\n",
      "1/1 [==============================] - 0s 6ms/step - loss: 0.6443 - mae: 0.6443\n",
      "Epoch 73/100\n",
      "1/1 [==============================] - 0s 6ms/step - loss: 0.6706 - mae: 0.6706\n",
      "Epoch 74/100\n",
      "1/1 [==============================] - 0s 8ms/step - loss: 0.4108 - mae: 0.4108\n",
      "Epoch 75/100\n",
      "1/1 [==============================] - 0s 7ms/step - loss: 0.4163 - mae: 0.4163\n",
      "Epoch 76/100\n",
      "1/1 [==============================] - 0s 6ms/step - loss: 0.3637 - mae: 0.3637\n",
      "Epoch 77/100\n",
      "1/1 [==============================] - 0s 7ms/step - loss: 0.3558 - mae: 0.3558\n",
      "Epoch 78/100\n",
      "1/1 [==============================] - 0s 8ms/step - loss: 0.2399 - mae: 0.2399\n",
      "Epoch 79/100\n",
      "1/1 [==============================] - 0s 6ms/step - loss: 0.3536 - mae: 0.3536\n",
      "Epoch 80/100\n",
      "1/1 [==============================] - 0s 5ms/step - loss: 0.3865 - mae: 0.3865\n",
      "Epoch 81/100\n",
      "1/1 [==============================] - 0s 9ms/step - loss: 0.2503 - mae: 0.2503\n",
      "Epoch 82/100\n",
      "1/1 [==============================] - 0s 6ms/step - loss: 0.2329 - mae: 0.2329\n",
      "Epoch 83/100\n",
      "1/1 [==============================] - 0s 6ms/step - loss: 0.2799 - mae: 0.2799\n",
      "Epoch 84/100\n",
      "1/1 [==============================] - 0s 9ms/step - loss: 0.2410 - mae: 0.2410\n",
      "Epoch 85/100\n",
      "1/1 [==============================] - 0s 6ms/step - loss: 0.2510 - mae: 0.2510\n",
      "Epoch 86/100\n",
      "1/1 [==============================] - 0s 7ms/step - loss: 0.3230 - mae: 0.3230\n",
      "Epoch 87/100\n",
      "1/1 [==============================] - 0s 8ms/step - loss: 0.2622 - mae: 0.2622\n",
      "Epoch 88/100\n",
      "1/1 [==============================] - 0s 7ms/step - loss: 0.2919 - mae: 0.2919\n",
      "Epoch 89/100\n"
     ]
    },
    {
     "name": "stdout",
     "output_type": "stream",
     "text": [
      "1/1 [==============================] - 0s 6ms/step - loss: 0.3172 - mae: 0.3172\n",
      "Epoch 90/100\n",
      "1/1 [==============================] - 0s 8ms/step - loss: 0.2724 - mae: 0.2724\n",
      "Epoch 91/100\n",
      "1/1 [==============================] - 0s 7ms/step - loss: 0.1961 - mae: 0.1961\n",
      "Epoch 92/100\n",
      "1/1 [==============================] - 0s 5ms/step - loss: 0.2335 - mae: 0.2335\n",
      "Epoch 93/100\n",
      "1/1 [==============================] - 0s 9ms/step - loss: 0.1629 - mae: 0.1629\n",
      "Epoch 94/100\n",
      "1/1 [==============================] - 0s 7ms/step - loss: 0.1238 - mae: 0.1238\n",
      "Epoch 95/100\n",
      "1/1 [==============================] - 0s 7ms/step - loss: 0.1595 - mae: 0.1595\n",
      "Epoch 96/100\n",
      "1/1 [==============================] - 0s 6ms/step - loss: 0.1285 - mae: 0.1285\n",
      "Epoch 97/100\n",
      "1/1 [==============================] - 0s 7ms/step - loss: 0.1042 - mae: 0.1042\n",
      "Epoch 98/100\n",
      "1/1 [==============================] - 0s 5ms/step - loss: 0.2394 - mae: 0.2394\n",
      "Epoch 99/100\n",
      "1/1 [==============================] - 0s 7ms/step - loss: 0.1706 - mae: 0.1706\n",
      "Epoch 100/100\n",
      "1/1 [==============================] - 0s 8ms/step - loss: 0.2997 - mae: 0.2997\n"
     ]
    },
    {
     "data": {
      "text/plain": [
       "<keras.callbacks.History at 0x13089e70220>"
      ]
     },
     "execution_count": 20,
     "metadata": {},
     "output_type": "execute_result"
    }
   ],
   "source": [
    "# 3rd experiment : add a hidden layer, more epochs, and review the learning rate, as an improvement to the model\n",
    "\n",
    "# Set a random seed (in order to have some reproducibility)\n",
    "tf.random.set_seed(42)\n",
    "\n",
    "# 1. Create a model using the Sequential API\n",
    "model = tf.keras.Sequential([\n",
    "    \n",
    "    # Adding more hidden layers, more neurons, and activation function \n",
    "    tf.keras.layers.Dense(100, activation=\"relu\"),\n",
    "    \n",
    "    tf.keras.layers.Dense(1)\n",
    "])\n",
    "\n",
    "# 2. Compile the model\n",
    "model.compile(loss=tf.keras.losses.mae, # MAE : Mean Absolute Error\n",
    "              optimizer=tf.keras.optimizers.Adam(lr=0.01),\n",
    "              metrics=[\"mae\"]\n",
    "             )\n",
    "\n",
    "# 3. Fit the model \n",
    "model.fit(tf.expand_dims(X, axis=-1),y, epochs=100) # Increasing the number of epochs\n"
   ]
  },
  {
   "cell_type": "markdown",
   "id": "94b6ecb8",
   "metadata": {},
   "source": [
    "The loss is 0.1750; this model should perform really well."
   ]
  },
  {
   "cell_type": "code",
   "execution_count": 21,
   "id": "57f0d41b",
   "metadata": {},
   "outputs": [
    {
     "data": {
      "text/plain": [
       "(<tf.Tensor: shape=(8,), dtype=float64, numpy=array([-7., -4., -1.,  2.,  5.,  8., 11., 14.])>,\n",
       " <tf.Tensor: shape=(8,), dtype=float64, numpy=array([ 3.,  6.,  9., 12., 15., 18., 21., 24.])>)"
      ]
     },
     "execution_count": 21,
     "metadata": {},
     "output_type": "execute_result"
    }
   ],
   "source": [
    "# Remind ourselves of the data\n",
    "X, y"
   ]
  },
  {
   "cell_type": "code",
   "execution_count": 22,
   "id": "c898e1c6",
   "metadata": {},
   "outputs": [
    {
     "name": "stdout",
     "output_type": "stream",
     "text": [
      "1/1 [==============================] - 0s 156ms/step\n"
     ]
    },
    {
     "data": {
      "text/plain": [
       "array([[26.300817]], dtype=float32)"
      ]
     },
     "execution_count": 22,
     "metadata": {},
     "output_type": "execute_result"
    }
   ],
   "source": [
    "# Check if the model's prediction has improved...\n",
    "model.predict([17.])"
   ]
  },
  {
   "cell_type": "markdown",
   "id": "a39358dc",
   "metadata": {},
   "source": [
    "The model has predicted 26.918, while the real value is 27. We can conclude that the prediction is pretty well.  \n",
    "**Observation** : adjusting the learning rate of our model has result in the best improvement so far."
   ]
  },
  {
   "cell_type": "code",
   "execution_count": null,
   "id": "b2408c94",
   "metadata": {},
   "outputs": [],
   "source": []
  },
  {
   "cell_type": "markdown",
   "id": "93827ad7",
   "metadata": {},
   "source": [
    "**Model improvement rules** - When improving a model :\n",
    "* **make many small changes** (experiments) and **test each one**, rather than always doing extremely large changes, because otherwise, if one does too big of a change, he might not be sure what caused the improvement or know improvement of the model.\n",
    "* **the learning rate is potentially the most important hyper-parameter that can be changed** on a neural networks in order to improve it"
   ]
  },
  {
   "cell_type": "code",
   "execution_count": null,
   "id": "fe87eb6f",
   "metadata": {},
   "outputs": [],
   "source": []
  },
  {
   "cell_type": "code",
   "execution_count": null,
   "id": "e2c5c066",
   "metadata": {},
   "outputs": [],
   "source": []
  },
  {
   "cell_type": "markdown",
   "id": "a2f52266",
   "metadata": {},
   "source": [
    "## Evaluating a model\n",
    "\n",
    "\n",
    "In practice, a typical workflow one goes through when buidling neural networks is :    \n",
    "``` Build a model -> fit it -> evaluate it -> tweak a model -> fit it evaluate it -> tweak a model -> fit it -> evaluate it -> ... ```\n",
    "\n"
   ]
  },
  {
   "cell_type": "markdown",
   "id": "5be2462e",
   "metadata": {},
   "source": [
    "When it comes to evaluation, there is one words one should memorize, and remember : **visualize**.\n",
    "\n",
    "It's a good idea to visualize : \n",
    "* `The data` - what data are we working with ? What does it look like ?\n",
    "* `The model` itself - what does our model look like ?\n",
    "* `The training` of the model - how does the model perform while it learns ?\n",
    "* `The predictions` of the model - how do the predictions of the model line up agains the real values ?\n",
    "\n",
    "\n",
    "Let us dig into these steps here a bit further by working on a little bit of a larger problem."
   ]
  },
  {
   "cell_type": "code",
   "execution_count": 23,
   "id": "2e38f664",
   "metadata": {},
   "outputs": [
    {
     "data": {
      "text/plain": [
       "<tf.Tensor: shape=(50,), dtype=int32, numpy=\n",
       "array([-100,  -96,  -92,  -88,  -84,  -80,  -76,  -72,  -68,  -64,  -60,\n",
       "        -56,  -52,  -48,  -44,  -40,  -36,  -32,  -28,  -24,  -20,  -16,\n",
       "        -12,   -8,   -4,    0,    4,    8,   12,   16,   20,   24,   28,\n",
       "         32,   36,   40,   44,   48,   52,   56,   60,   64,   68,   72,\n",
       "         76,   80,   84,   88,   92,   96])>"
      ]
     },
     "execution_count": 23,
     "metadata": {},
     "output_type": "execute_result"
    }
   ],
   "source": [
    "# Make a bigger dataset\n",
    "X = tf.range(-100, 100, 4)\n",
    "X"
   ]
  },
  {
   "cell_type": "code",
   "execution_count": 24,
   "id": "fe6189cb",
   "metadata": {},
   "outputs": [
    {
     "data": {
      "text/plain": [
       "<tf.Tensor: shape=(50,), dtype=int32, numpy=\n",
       "array([-90, -86, -82, -78, -74, -70, -66, -62, -58, -54, -50, -46, -42,\n",
       "       -38, -34, -30, -26, -22, -18, -14, -10,  -6,  -2,   2,   6,  10,\n",
       "        14,  18,  22,  26,  30,  34,  38,  42,  46,  50,  54,  58,  62,\n",
       "        66,  70,  74,  78,  82,  86,  90,  94,  98, 102, 106])>"
      ]
     },
     "execution_count": 24,
     "metadata": {},
     "output_type": "execute_result"
    }
   ],
   "source": [
    "# Make labels for the dataset\n",
    "\n",
    "y = X + 10   # y = X + 10 is the formula(pattern) we want the model to learn\n",
    "y"
   ]
  },
  {
   "cell_type": "code",
   "execution_count": 25,
   "id": "49a40371",
   "metadata": {},
   "outputs": [
    {
     "data": {
      "text/plain": [
       "<matplotlib.collections.PathCollection at 0x13089f613d0>"
      ]
     },
     "execution_count": 25,
     "metadata": {},
     "output_type": "execute_result"
    },
    {
     "data": {
      "image/png": "[encoded data removed]",
      "text/plain": [
       "<Figure size 432x288 with 1 Axes>"
      ]
     },
     "metadata": {
      "needs_background": "light"
     },
     "output_type": "display_data"
    }
   ],
   "source": [
    "# Visualize the data\n",
    "\n",
    "plt.scatter(X, y)"
   ]
  },
  {
   "cell_type": "code",
   "execution_count": null,
   "id": "56654807",
   "metadata": {},
   "outputs": [],
   "source": []
  },
  {
   "cell_type": "markdown",
   "id": "0dc0cfa7",
   "metadata": {},
   "source": [
    "### The 03 set of data\n",
    "\n",
    "* **Training set** - the model learns from this data, which is typically 70-80% of the total data available.\n",
    "* **Validation set** - the model gets tuned on this data (it is the above mentionned *tweak the model*), which is typically 10-15% of the total data available.\n",
    "* **Test set** - the model gets evaluated on this data to test what is has learned (to check how it performs on data is hasn't see before); this set is typically 10-15% of the available data."
   ]
  },
  {
   "cell_type": "code",
   "execution_count": 26,
   "id": "e1f8ed25",
   "metadata": {},
   "outputs": [
    {
     "data": {
      "text/plain": [
       "50"
      ]
     },
     "execution_count": 26,
     "metadata": {},
     "output_type": "execute_result"
    }
   ],
   "source": [
    "# Check how many samples we have\n",
    "nb_data = len(X)\n",
    "nb_data"
   ]
  },
  {
   "cell_type": "code",
   "execution_count": 27,
   "id": "9dc7d4f2",
   "metadata": {},
   "outputs": [
    {
     "data": {
      "text/plain": [
       "(40, 10, 40, 10)"
      ]
     },
     "execution_count": 27,
     "metadata": {},
     "output_type": "execute_result"
    }
   ],
   "source": [
    "# Split the data into train and test sets\n",
    "\n",
    "X_train = X[: int(nb_data*.8)] # 80% of the data\n",
    "y_train = y[: int(nb_data*.8)] # 80% of the data\n",
    "\n",
    "X_test = X[int(nb_data*.8):] # 20% of the data\n",
    "y_test = y[int(nb_data*.8):] # 20% of the data\n",
    "\n",
    "\n",
    "len(X_train), len(X_test), len(y_train), len(y_test)"
   ]
  },
  {
   "cell_type": "markdown",
   "id": "e9603622",
   "metadata": {},
   "source": [
    "### Visualizing the data\n",
    "\n",
    "Now that data was divided in training and testing sets, let's visualize it again."
   ]
  },
  {
   "cell_type": "code",
   "execution_count": 28,
   "id": "a805227d",
   "metadata": {},
   "outputs": [
    {
     "data": {
      "image/png": "[encoded data removed]",
      "text/plain": [
       "<Figure size 720x504 with 1 Axes>"
      ]
     },
     "metadata": {
      "needs_background": "light"
     },
     "output_type": "display_data"
    }
   ],
   "source": [
    "plt.figure( figsize=(10,7) )\n",
    "\n",
    "# Plot training data in blue\n",
    "plt.scatter(X_train, y_train, c=\"b\", label=\"Training data\")\n",
    "\n",
    "# Plot test data in green\n",
    "plt.scatter(X_test, y_test, c=\"g\", label=\"Test data\")\n",
    "\n",
    "#Show a legend\n",
    "plt.legend();"
   ]
  },
  {
   "cell_type": "code",
   "execution_count": null,
   "id": "82c45ed8",
   "metadata": {},
   "outputs": [],
   "source": []
  },
  {
   "cell_type": "markdown",
   "id": "6e2f8628",
   "metadata": {},
   "source": [
    "### Building a neural network"
   ]
  },
  {
   "cell_type": "code",
   "execution_count": 29,
   "id": "8a1f31b0",
   "metadata": {},
   "outputs": [],
   "source": [
    "# 1. Create a model\n",
    "model = tf.keras.Sequential([\n",
    "    tf.keras.layers.Dense(1)\n",
    "])\n",
    "\n",
    "# 2. Compile the model\n",
    "model.compile(loss=tf.keras.losses.mae,\n",
    "             optimizer= tf.keras.optimizers.SGD(),\n",
    "             metrics=[\"mae\"])\n",
    "\n"
   ]
  },
  {
   "cell_type": "markdown",
   "id": "c43d95e1",
   "metadata": {},
   "source": [
    "#### Visualizing the model"
   ]
  },
  {
   "cell_type": "code",
   "execution_count": null,
   "id": "86569e88",
   "metadata": {},
   "outputs": [],
   "source": []
  },
  {
   "cell_type": "code",
   "execution_count": 30,
   "id": "fe7036b7",
   "metadata": {},
   "outputs": [
    {
     "ename": "ValueError",
     "evalue": "This model has not yet been built. Build the model first by calling `build()` or by calling the model on a batch of data.",
     "output_type": "error",
     "traceback": [
      "\u001b[1;31m---------------------------------------------------------------------------\u001b[0m",
      "\u001b[1;31mValueError\u001b[0m                                Traceback (most recent call last)",
      "\u001b[1;32m<ipython-input-30-cdfdfbb4254b>\u001b[0m in \u001b[0;36m<module>\u001b[1;34m\u001b[0m\n\u001b[0;32m      1\u001b[0m \u001b[1;31m# Get an idea of what the model looks like before running it\u001b[0m\u001b[1;33m\u001b[0m\u001b[1;33m\u001b[0m\u001b[1;33m\u001b[0m\u001b[0m\n\u001b[1;32m----> 2\u001b[1;33m \u001b[0mmodel\u001b[0m\u001b[1;33m.\u001b[0m\u001b[0msummary\u001b[0m\u001b[1;33m(\u001b[0m\u001b[1;33m)\u001b[0m\u001b[1;33m\u001b[0m\u001b[1;33m\u001b[0m\u001b[0m\n\u001b[0m",
      "\u001b[1;32mC:\\ProgramData\\Anaconda3\\lib\\site-packages\\keras\\engine\\training.py\u001b[0m in \u001b[0;36msummary\u001b[1;34m(self, line_length, positions, print_fn, expand_nested, show_trainable, layer_range)\u001b[0m\n\u001b[0;32m   3212\u001b[0m         \"\"\"\n\u001b[0;32m   3213\u001b[0m         \u001b[1;32mif\u001b[0m \u001b[1;32mnot\u001b[0m \u001b[0mself\u001b[0m\u001b[1;33m.\u001b[0m\u001b[0mbuilt\u001b[0m\u001b[1;33m:\u001b[0m\u001b[1;33m\u001b[0m\u001b[1;33m\u001b[0m\u001b[0m\n\u001b[1;32m-> 3214\u001b[1;33m             raise ValueError(\n\u001b[0m\u001b[0;32m   3215\u001b[0m                 \u001b[1;34m\"This model has not yet been built. \"\u001b[0m\u001b[1;33m\u001b[0m\u001b[1;33m\u001b[0m\u001b[0m\n\u001b[0;32m   3216\u001b[0m                 \u001b[1;34m\"Build the model first by calling `build()` or by calling \"\u001b[0m\u001b[1;33m\u001b[0m\u001b[1;33m\u001b[0m\u001b[0m\n",
      "\u001b[1;31mValueError\u001b[0m: This model has not yet been built. Build the model first by calling `build()` or by calling the model on a batch of data."
     ]
    }
   ],
   "source": [
    "# Get an idea of what the model looks like before running it\n",
    "model.summary()"
   ]
  },
  {
   "cell_type": "code",
   "execution_count": 31,
   "id": "afbc8917",
   "metadata": {},
   "outputs": [
    {
     "data": {
      "text/plain": [
       "<tf.Tensor: shape=(50,), dtype=int32, numpy=\n",
       "array([-100,  -96,  -92,  -88,  -84,  -80,  -76,  -72,  -68,  -64,  -60,\n",
       "        -56,  -52,  -48,  -44,  -40,  -36,  -32,  -28,  -24,  -20,  -16,\n",
       "        -12,   -8,   -4,    0,    4,    8,   12,   16,   20,   24,   28,\n",
       "         32,   36,   40,   44,   48,   52,   56,   60,   64,   68,   72,\n",
       "         76,   80,   84,   88,   92,   96])>"
      ]
     },
     "execution_count": 31,
     "metadata": {},
     "output_type": "execute_result"
    }
   ],
   "source": [
    "X"
   ]
  },
  {
   "cell_type": "code",
   "execution_count": 32,
   "id": "c7634b89",
   "metadata": {},
   "outputs": [
    {
     "data": {
      "text/plain": [
       "1"
      ]
     },
     "execution_count": 32,
     "metadata": {},
     "output_type": "execute_result"
    }
   ],
   "source": [
    "X.ndim"
   ]
  },
  {
   "cell_type": "code",
   "execution_count": 33,
   "id": "987713a6",
   "metadata": {},
   "outputs": [
    {
     "data": {
      "text/plain": [
       "(<tf.Tensor: shape=(), dtype=int32, numpy=-100>,\n",
       " <tf.Tensor: shape=(), dtype=int32, numpy=-90>)"
      ]
     },
     "execution_count": 33,
     "metadata": {},
     "output_type": "execute_result"
    }
   ],
   "source": [
    "X[0],y[0]"
   ]
  },
  {
   "cell_type": "markdown",
   "id": "f296c106",
   "metadata": {},
   "source": [
    "* The explanation of the Prof : X[0] contains a scalar, so the input_shape of our model is 1; in case X[0] contain for example 3 different numbers, then input_shape would be 3.    \n",
    "* My own deduction : Another way to analyze it is based on the number of dimensions of X : X.ndim return 1, which means X is represented on one dimension, so the input shape is 1."
   ]
  },
  {
   "cell_type": "code",
   "execution_count": 34,
   "id": "b1a53531",
   "metadata": {},
   "outputs": [],
   "source": [
    "# Let's create a model which builds automatically by \n",
    "#    defining the input_shape argument in the first layer (that is what is usually done in practice)\n",
    "\n",
    "tf.random.set_seed(42)\n",
    "\n",
    "# 1. Create a model (same as above)\n",
    "model = tf.keras.Sequential([\n",
    "    tf.keras.layers.Dense(1, input_shape= [X.ndim] ) # tf.keras.layers.Dense(1, input_shape= [1] )\n",
    "                                                     #     refer to the previous cell to get \n",
    "                                                     #      explanations on why input_shape= [1]   \n",
    "]) \n",
    "\n",
    "# 2. COmpile the model \n",
    "model.compile(loss=tf.keras.losses.mae,\n",
    "             optimizer = tf.keras.optimizers.SGD(),\n",
    "             metrics=[\"mae\"])\n",
    "\n",
    "\n"
   ]
  },
  {
   "cell_type": "code",
   "execution_count": 35,
   "id": "a6e064a1",
   "metadata": {},
   "outputs": [
    {
     "name": "stdout",
     "output_type": "stream",
     "text": [
      "Model: \"sequential_5\"\n",
      "_________________________________________________________________\n",
      " Layer (type)                Output Shape              Param #   \n",
      "=================================================================\n",
      " dense_10 (Dense)            (None, 1)                 2         \n",
      "                                                                 \n",
      "=================================================================\n",
      "Total params: 2\n",
      "Trainable params: 2\n",
      "Non-trainable params: 0\n",
      "_________________________________________________________________\n"
     ]
    }
   ],
   "source": [
    "model.summary()"
   ]
  },
  {
   "cell_type": "markdown",
   "id": "b7c23bc7",
   "metadata": {},
   "source": [
    ".summary() on a model show the layers it contains, the output shape, and the number of parameters of each layer.   \n",
    "   \n",
    "* The **Ouput Shape** here (None, 1) : the representation here is something I personnally need to do more research on\n",
    "* The **Layer Type** `Dense` : it is another word for `fully connected`. A fully connected layer means each neuron in the said layer connects to all neurons in the next layer.\n",
    "* There are 2 **Params** :  \n",
    " - **Total params** : total number of parameters in the model; these are the patterns that the model is going to learn\n",
    " - **Trainable parameters** : these are the parameters (patterns) the model can update as it trains\n",
    " - **Non-trainable params** : these are the patterns the model cannot update as it trains; when we import a model that has already learned patterns in data (**transfer learning**), we might freeze those learned patterns so that the model retains what it already knows"
   ]
  },
  {
   "cell_type": "markdown",
   "id": "dd0bebde",
   "metadata": {},
   "source": [
    "📖 **Resource**: For a more in-depth overview of the trainable parameters within a layer, check out MIT's introduction to deep learning video at http://introtodeeplearning.com/ "
   ]
  },
  {
   "cell_type": "markdown",
   "id": "4a3aa920",
   "metadata": {},
   "source": [
    "🛠️**Exercise**: Try playing around with the number of hdden units in the dense layer, see how that effects the number of parameters (total and trainable) by calling `model.summary()`"
   ]
  },
  {
   "cell_type": "code",
   "execution_count": 36,
   "id": "f9bb768b",
   "metadata": {},
   "outputs": [
    {
     "name": "stdout",
     "output_type": "stream",
     "text": [
      "Model: \"sequential_6\"\n",
      "_________________________________________________________________\n",
      " Layer (type)                Output Shape              Param #   \n",
      "=================================================================\n",
      " dense_11 (Dense)            (None, 3)                 6         \n",
      "                                                                 \n",
      "=================================================================\n",
      "Total params: 6\n",
      "Trainable params: 6\n",
      "Non-trainable params: 0\n",
      "_________________________________________________________________\n"
     ]
    }
   ],
   "source": [
    "tf.random.set_seed(42)\n",
    "\n",
    "# 1. Create a model (same as above)\n",
    "model = tf.keras.Sequential([\n",
    "    tf.keras.layers.Dense(3, input_shape= [1] )  \n",
    "]) \n",
    "\n",
    "# 2. COmpile the model \n",
    "model.compile(loss=tf.keras.losses.mae,\n",
    "             optimizer = tf.keras.optimizers.SGD(),\n",
    "             metrics=[\"mae\"])\n",
    "\n",
    "\n",
    "model.summary()"
   ]
  },
  {
   "cell_type": "code",
   "execution_count": null,
   "id": "257f63ee",
   "metadata": {},
   "outputs": [],
   "source": []
  },
  {
   "cell_type": "code",
   "execution_count": null,
   "id": "5f285645",
   "metadata": {},
   "outputs": [],
   "source": []
  },
  {
   "cell_type": "code",
   "execution_count": 37,
   "id": "7dec1a2f",
   "metadata": {},
   "outputs": [
    {
     "name": "stdout",
     "output_type": "stream",
     "text": [
      "Model: \"sequential_7\"\n",
      "_________________________________________________________________\n",
      " Layer (type)                Output Shape              Param #   \n",
      "=================================================================\n",
      " dense_12 (Dense)            (None, 1)                 2         \n",
      "                                                                 \n",
      "=================================================================\n",
      "Total params: 2\n",
      "Trainable params: 2\n",
      "Non-trainable params: 0\n",
      "_________________________________________________________________\n"
     ]
    }
   ],
   "source": [
    "# Let us change the number of neuro from 3 to 1\n",
    "\n",
    "tf.random.set_seed(42)\n",
    "\n",
    "# 1. Create a model (same as above)\n",
    "model = tf.keras.Sequential([\n",
    "    tf.keras.layers.Dense(1, input_shape= [1] )  \n",
    "]) \n",
    "\n",
    "# 2. COmpile the model \n",
    "model.compile(loss=tf.keras.losses.mae,\n",
    "             optimizer = tf.keras.optimizers.SGD(),\n",
    "             metrics=[\"mae\"])\n",
    "\n",
    "\n",
    "model.summary()"
   ]
  },
  {
   "cell_type": "code",
   "execution_count": 38,
   "id": "5d2f8b23",
   "metadata": {},
   "outputs": [
    {
     "name": "stdout",
     "output_type": "stream",
     "text": [
      "Epoch 1/100\n",
      "2/2 [==============================] - 1s 6ms/step - loss: 23.7265 - mae: 23.7265\n",
      "Epoch 2/100\n",
      "2/2 [==============================] - 0s 5ms/step - loss: 10.5902 - mae: 10.5902\n",
      "Epoch 3/100\n",
      "2/2 [==============================] - 0s 5ms/step - loss: 16.7029 - mae: 16.7029\n",
      "Epoch 4/100\n",
      "2/2 [==============================] - 0s 6ms/step - loss: 8.9971 - mae: 8.9971\n",
      "Epoch 5/100\n",
      "2/2 [==============================] - 0s 5ms/step - loss: 11.1063 - mae: 11.1063\n",
      "Epoch 6/100\n",
      "2/2 [==============================] - 0s 4ms/step - loss: 10.2565 - mae: 10.2565\n",
      "Epoch 7/100\n",
      "2/2 [==============================] - 0s 7ms/step - loss: 9.2614 - mae: 9.2614\n",
      "Epoch 8/100\n",
      "2/2 [==============================] - 0s 6ms/step - loss: 9.1768 - mae: 9.1768\n",
      "Epoch 9/100\n",
      "2/2 [==============================] - 0s 5ms/step - loss: 11.8170 - mae: 11.8170\n",
      "Epoch 10/100\n",
      "2/2 [==============================] - 0s 4ms/step - loss: 13.7508 - mae: 13.7508\n",
      "Epoch 11/100\n",
      "2/2 [==============================] - 0s 5ms/step - loss: 11.8413 - mae: 11.8413\n",
      "Epoch 12/100\n",
      "2/2 [==============================] - 0s 5ms/step - loss: 16.3300 - mae: 16.3300\n",
      "Epoch 13/100\n",
      "2/2 [==============================] - 0s 6ms/step - loss: 11.8898 - mae: 11.8898\n",
      "Epoch 14/100\n",
      "2/2 [==============================] - 0s 4ms/step - loss: 13.8009 - mae: 13.8009\n",
      "Epoch 15/100\n",
      "2/2 [==============================] - 0s 6ms/step - loss: 11.1849 - mae: 11.1849\n",
      "Epoch 16/100\n",
      "2/2 [==============================] - 0s 4ms/step - loss: 8.6078 - mae: 8.6078\n",
      "Epoch 17/100\n",
      "2/2 [==============================] - 0s 5ms/step - loss: 13.7910 - mae: 13.7910\n",
      "Epoch 18/100\n",
      "2/2 [==============================] - 0s 5ms/step - loss: 11.6576 - mae: 11.6576\n",
      "Epoch 19/100\n",
      "2/2 [==============================] - 0s 5ms/step - loss: 17.6839 - mae: 17.6839\n",
      "Epoch 20/100\n",
      "2/2 [==============================] - 0s 5ms/step - loss: 14.8202 - mae: 14.8202\n",
      "Epoch 21/100\n",
      "2/2 [==============================] - 0s 6ms/step - loss: 10.7353 - mae: 10.7353\n",
      "Epoch 22/100\n",
      "2/2 [==============================] - 0s 5ms/step - loss: 8.4731 - mae: 8.4731\n",
      "Epoch 23/100\n",
      "2/2 [==============================] - 0s 5ms/step - loss: 9.8115 - mae: 9.8115\n",
      "Epoch 24/100\n",
      "2/2 [==============================] - 0s 5ms/step - loss: 10.8325 - mae: 10.8325\n",
      "Epoch 25/100\n",
      "2/2 [==============================] - 0s 5ms/step - loss: 9.1104 - mae: 9.1104\n",
      "Epoch 26/100\n",
      "2/2 [==============================] - 0s 4ms/step - loss: 13.0606 - mae: 13.0606\n",
      "Epoch 27/100\n",
      "2/2 [==============================] - 0s 5ms/step - loss: 10.3982 - mae: 10.3982\n",
      "Epoch 28/100\n",
      "2/2 [==============================] - 0s 3ms/step - loss: 13.3996 - mae: 13.3996\n",
      "Epoch 29/100\n",
      "2/2 [==============================] - 0s 5ms/step - loss: 9.6120 - mae: 9.6120\n",
      "Epoch 30/100\n",
      "2/2 [==============================] - 0s 4ms/step - loss: 17.2142 - mae: 17.2142\n",
      "Epoch 31/100\n",
      "2/2 [==============================] - 0s 5ms/step - loss: 22.8507 - mae: 22.8507\n",
      "Epoch 32/100\n",
      "2/2 [==============================] - 0s 5ms/step - loss: 7.9164 - mae: 7.9164\n",
      "Epoch 33/100\n",
      "2/2 [==============================] - 0s 4ms/step - loss: 14.1504 - mae: 14.1504\n",
      "Epoch 34/100\n",
      "2/2 [==============================] - 0s 5ms/step - loss: 12.3992 - mae: 12.3992\n",
      "Epoch 35/100\n",
      "2/2 [==============================] - 0s 5ms/step - loss: 8.2559 - mae: 8.2559\n",
      "Epoch 36/100\n",
      "2/2 [==============================] - 0s 6ms/step - loss: 10.4716 - mae: 10.4716\n",
      "Epoch 37/100\n",
      "2/2 [==============================] - 0s 6ms/step - loss: 10.1191 - mae: 10.1191\n",
      "Epoch 38/100\n",
      "2/2 [==============================] - 0s 5ms/step - loss: 11.3057 - mae: 11.3057\n",
      "Epoch 39/100\n",
      "2/2 [==============================] - 0s 4ms/step - loss: 14.7728 - mae: 14.7728\n",
      "Epoch 40/100\n",
      "2/2 [==============================] - 0s 5ms/step - loss: 12.9029 - mae: 12.9029\n",
      "Epoch 41/100\n",
      "2/2 [==============================] - 0s 8ms/step - loss: 9.2949 - mae: 9.2949\n",
      "Epoch 42/100\n",
      "2/2 [==============================] - 0s 6ms/step - loss: 10.9903 - mae: 10.9903\n",
      "Epoch 43/100\n",
      "2/2 [==============================] - 0s 5ms/step - loss: 8.3313 - mae: 8.3313\n",
      "Epoch 44/100\n",
      "2/2 [==============================] - 0s 4ms/step - loss: 13.0256 - mae: 13.0256\n",
      "Epoch 45/100\n",
      "2/2 [==============================] - 0s 5ms/step - loss: 13.6959 - mae: 13.6959\n",
      "Epoch 46/100\n",
      "2/2 [==============================] - 0s 6ms/step - loss: 8.4000 - mae: 8.4000\n",
      "Epoch 47/100\n",
      "2/2 [==============================] - 0s 4ms/step - loss: 9.1806 - mae: 9.1806\n",
      "Epoch 48/100\n",
      "2/2 [==============================] - 0s 4ms/step - loss: 10.6896 - mae: 10.6896\n",
      "Epoch 49/100\n",
      "2/2 [==============================] - 0s 5ms/step - loss: 7.7918 - mae: 7.7918\n",
      "Epoch 50/100\n",
      "2/2 [==============================] - 0s 5ms/step - loss: 9.6054 - mae: 9.6054\n",
      "Epoch 51/100\n",
      "2/2 [==============================] - 0s 6ms/step - loss: 9.1732 - mae: 9.1732\n",
      "Epoch 52/100\n",
      "2/2 [==============================] - 0s 6ms/step - loss: 16.5028 - mae: 16.5028\n",
      "Epoch 53/100\n",
      "2/2 [==============================] - 0s 6ms/step - loss: 14.0690 - mae: 14.0690\n",
      "Epoch 54/100\n",
      "2/2 [==============================] - 0s 8ms/step - loss: 20.9696 - mae: 20.9696\n",
      "Epoch 55/100\n",
      "2/2 [==============================] - 0s 5ms/step - loss: 16.5227 - mae: 16.5227\n",
      "Epoch 56/100\n",
      "2/2 [==============================] - 0s 6ms/step - loss: 9.8433 - mae: 9.8433\n",
      "Epoch 57/100\n",
      "2/2 [==============================] - 0s 5ms/step - loss: 9.6723 - mae: 9.6723\n",
      "Epoch 58/100\n",
      "2/2 [==============================] - 0s 6ms/step - loss: 8.9877 - mae: 8.9877\n",
      "Epoch 59/100\n",
      "2/2 [==============================] - 0s 4ms/step - loss: 10.2046 - mae: 10.2046\n",
      "Epoch 60/100\n",
      "2/2 [==============================] - 0s 5ms/step - loss: 8.4072 - mae: 8.4072\n",
      "Epoch 61/100\n",
      "2/2 [==============================] - 0s 4ms/step - loss: 9.2387 - mae: 9.2387\n",
      "Epoch 62/100\n",
      "2/2 [==============================] - 0s 5ms/step - loss: 7.2771 - mae: 7.2771\n",
      "Epoch 63/100\n",
      "2/2 [==============================] - 0s 5ms/step - loss: 8.1824 - mae: 8.1824\n",
      "Epoch 64/100\n",
      "2/2 [==============================] - 0s 6ms/step - loss: 12.5486 - mae: 12.5486\n",
      "Epoch 65/100\n",
      "2/2 [==============================] - 0s 4ms/step - loss: 10.6303 - mae: 10.6303\n",
      "Epoch 66/100\n",
      "2/2 [==============================] - 0s 6ms/step - loss: 15.4621 - mae: 15.4621\n",
      "Epoch 67/100\n",
      "2/2 [==============================] - 0s 4ms/step - loss: 9.9057 - mae: 9.9057\n",
      "Epoch 68/100\n",
      "2/2 [==============================] - 0s 4ms/step - loss: 8.6792 - mae: 8.6792\n",
      "Epoch 69/100\n",
      "2/2 [==============================] - 0s 4ms/step - loss: 13.3363 - mae: 13.3363\n",
      "Epoch 70/100\n",
      "2/2 [==============================] - 0s 4ms/step - loss: 7.4731 - mae: 7.4731\n",
      "Epoch 71/100\n",
      "2/2 [==============================] - 0s 9ms/step - loss: 12.3572 - mae: 12.3572\n",
      "Epoch 72/100\n",
      "2/2 [==============================] - 0s 5ms/step - loss: 8.4524 - mae: 8.4524\n",
      "Epoch 73/100\n",
      "2/2 [==============================] - 0s 5ms/step - loss: 6.8785 - mae: 6.8785\n",
      "Epoch 74/100\n",
      "2/2 [==============================] - 0s 4ms/step - loss: 11.0520 - mae: 11.0520\n",
      "Epoch 75/100\n",
      "2/2 [==============================] - 0s 4ms/step - loss: 9.4204 - mae: 9.4204\n",
      "Epoch 76/100\n",
      "2/2 [==============================] - 0s 5ms/step - loss: 10.8756 - mae: 10.8756\n",
      "Epoch 77/100\n",
      "2/2 [==============================] - 0s 6ms/step - loss: 14.8203 - mae: 14.8203\n",
      "Epoch 78/100\n",
      "2/2 [==============================] - 0s 4ms/step - loss: 10.8817 - mae: 10.8817\n",
      "Epoch 79/100\n",
      "2/2 [==============================] - 0s 4ms/step - loss: 15.3246 - mae: 15.3246\n",
      "Epoch 80/100\n",
      "2/2 [==============================] - 0s 4ms/step - loss: 11.7776 - mae: 11.7776\n",
      "Epoch 81/100\n",
      "2/2 [==============================] - 0s 5ms/step - loss: 9.2032 - mae: 9.2032\n",
      "Epoch 82/100\n",
      "2/2 [==============================] - 0s 5ms/step - loss: 12.8669 - mae: 12.8669\n",
      "Epoch 83/100\n",
      "2/2 [==============================] - 0s 5ms/step - loss: 10.3252 - mae: 10.3252\n",
      "Epoch 84/100\n",
      "2/2 [==============================] - 0s 5ms/step - loss: 10.5877 - mae: 10.5877\n",
      "Epoch 85/100\n",
      "2/2 [==============================] - 0s 6ms/step - loss: 9.3048 - mae: 9.3048\n",
      "Epoch 86/100\n",
      "2/2 [==============================] - 0s 4ms/step - loss: 9.1596 - mae: 9.1596\n",
      "Epoch 87/100\n",
      "2/2 [==============================] - 0s 5ms/step - loss: 11.8779 - mae: 11.8779\n",
      "Epoch 88/100\n"
     ]
    },
    {
     "name": "stdout",
     "output_type": "stream",
     "text": [
      "2/2 [==============================] - 0s 5ms/step - loss: 10.4881 - mae: 10.4881\n",
      "Epoch 89/100\n",
      "2/2 [==============================] - 0s 5ms/step - loss: 6.9798 - mae: 6.9798\n",
      "Epoch 90/100\n",
      "2/2 [==============================] - 0s 4ms/step - loss: 13.8156 - mae: 13.8156\n",
      "Epoch 91/100\n",
      "2/2 [==============================] - 0s 5ms/step - loss: 7.8883 - mae: 7.8883\n",
      "Epoch 92/100\n",
      "2/2 [==============================] - 0s 5ms/step - loss: 7.4621 - mae: 7.4621\n",
      "Epoch 93/100\n",
      "2/2 [==============================] - 0s 4ms/step - loss: 9.1685 - mae: 9.1685\n",
      "Epoch 94/100\n",
      "2/2 [==============================] - 0s 5ms/step - loss: 8.5705 - mae: 8.5705\n",
      "Epoch 95/100\n",
      "2/2 [==============================] - 0s 5ms/step - loss: 11.5169 - mae: 11.5169\n",
      "Epoch 96/100\n",
      "2/2 [==============================] - 0s 5ms/step - loss: 10.2886 - mae: 10.2886\n",
      "Epoch 97/100\n",
      "2/2 [==============================] - 0s 5ms/step - loss: 7.6959 - mae: 7.6959\n",
      "Epoch 98/100\n",
      "2/2 [==============================] - 0s 5ms/step - loss: 8.6304 - mae: 8.6304\n",
      "Epoch 99/100\n",
      "2/2 [==============================] - 0s 5ms/step - loss: 9.4104 - mae: 9.4104\n",
      "Epoch 100/100\n",
      "2/2 [==============================] - 0s 5ms/step - loss: 8.8527 - mae: 8.8527\n"
     ]
    },
    {
     "data": {
      "text/plain": [
       "<keras.callbacks.History at 0x1308b207490>"
      ]
     },
     "execution_count": 38,
     "metadata": {},
     "output_type": "execute_result"
    }
   ],
   "source": [
    "# 3. Fit the model to the training data for 100 epochs\n",
    "model.fit(X_train, y_train, epochs=100, verbose=1)"
   ]
  },
  {
   "cell_type": "code",
   "execution_count": 39,
   "id": "2f299920",
   "metadata": {},
   "outputs": [
    {
     "name": "stdout",
     "output_type": "stream",
     "text": [
      "Epoch 1/100\n",
      "2/2 [==============================] - 0s 7ms/step - loss: 12.8089 - mae: 12.8089\n",
      "Epoch 2/100\n",
      "2/2 [==============================] - 0s 6ms/step - loss: 8.5426 - mae: 8.5426\n",
      "Epoch 3/100\n",
      "2/2 [==============================] - 0s 7ms/step - loss: 6.6312 - mae: 6.6312\n",
      "Epoch 4/100\n",
      "2/2 [==============================] - 0s 5ms/step - loss: 9.1043 - mae: 9.1043\n",
      "Epoch 5/100\n",
      "2/2 [==============================] - 0s 5ms/step - loss: 10.1214 - mae: 10.1214\n",
      "Epoch 6/100\n",
      "2/2 [==============================] - 0s 5ms/step - loss: 9.2491 - mae: 9.2491\n",
      "Epoch 7/100\n",
      "2/2 [==============================] - 0s 5ms/step - loss: 8.2921 - mae: 8.2921\n",
      "Epoch 8/100\n",
      "2/2 [==============================] - 0s 5ms/step - loss: 8.1621 - mae: 8.1621\n",
      "Epoch 9/100\n",
      "2/2 [==============================] - 0s 6ms/step - loss: 14.6423 - mae: 14.6423\n",
      "Epoch 10/100\n",
      "2/2 [==============================] - 0s 5ms/step - loss: 11.7295 - mae: 11.7295\n",
      "Epoch 11/100\n",
      "2/2 [==============================] - 0s 3ms/step - loss: 9.5238 - mae: 9.5238\n",
      "Epoch 12/100\n",
      "2/2 [==============================] - 0s 5ms/step - loss: 17.6695 - mae: 17.6695\n",
      "Epoch 13/100\n",
      "2/2 [==============================] - 0s 6ms/step - loss: 8.8150 - mae: 8.8150\n",
      "Epoch 14/100\n",
      "2/2 [==============================] - 0s 6ms/step - loss: 15.3057 - mae: 15.3057\n",
      "Epoch 15/100\n",
      "2/2 [==============================] - 0s 4ms/step - loss: 11.3197 - mae: 11.3197\n",
      "Epoch 16/100\n",
      "2/2 [==============================] - 0s 5ms/step - loss: 7.6632 - mae: 7.6632\n",
      "Epoch 17/100\n",
      "2/2 [==============================] - 0s 5ms/step - loss: 12.6244 - mae: 12.6244\n",
      "Epoch 18/100\n",
      "2/2 [==============================] - 0s 6ms/step - loss: 10.1306 - mae: 10.1306\n",
      "Epoch 19/100\n",
      "2/2 [==============================] - 0s 5ms/step - loss: 18.4289 - mae: 18.4289\n",
      "Epoch 20/100\n",
      "2/2 [==============================] - 0s 5ms/step - loss: 15.1296 - mae: 15.1296\n",
      "Epoch 21/100\n",
      "2/2 [==============================] - 0s 4ms/step - loss: 10.6210 - mae: 10.6210\n",
      "Epoch 22/100\n",
      "2/2 [==============================] - 0s 4ms/step - loss: 7.1254 - mae: 7.1254\n",
      "Epoch 23/100\n",
      "2/2 [==============================] - 0s 5ms/step - loss: 8.6789 - mae: 8.6789\n",
      "Epoch 24/100\n",
      "2/2 [==============================] - 0s 6ms/step - loss: 7.5915 - mae: 7.5915\n",
      "Epoch 25/100\n",
      "2/2 [==============================] - 0s 4ms/step - loss: 10.2807 - mae: 10.2807\n",
      "Epoch 26/100\n",
      "2/2 [==============================] - 0s 6ms/step - loss: 15.6133 - mae: 15.6133\n",
      "Epoch 27/100\n",
      "2/2 [==============================] - 0s 4ms/step - loss: 11.9684 - mae: 11.9684\n",
      "Epoch 28/100\n",
      "2/2 [==============================] - 0s 5ms/step - loss: 12.8984 - mae: 12.8984\n",
      "Epoch 29/100\n",
      "2/2 [==============================] - 0s 5ms/step - loss: 8.6350 - mae: 8.6350\n",
      "Epoch 30/100\n",
      "2/2 [==============================] - 0s 4ms/step - loss: 16.0591 - mae: 16.0591\n",
      "Epoch 31/100\n",
      "2/2 [==============================] - 0s 6ms/step - loss: 23.3981 - mae: 23.3981\n",
      "Epoch 32/100\n",
      "2/2 [==============================] - 0s 4ms/step - loss: 6.3250 - mae: 6.3250\n",
      "Epoch 33/100\n",
      "2/2 [==============================] - 0s 5ms/step - loss: 9.6316 - mae: 9.6316\n",
      "Epoch 34/100\n",
      "2/2 [==============================] - 0s 6ms/step - loss: 8.9280 - mae: 8.9280\n",
      "Epoch 35/100\n",
      "2/2 [==============================] - 0s 4ms/step - loss: 7.8357 - mae: 7.8357\n",
      "Epoch 36/100\n",
      "2/2 [==============================] - 0s 5ms/step - loss: 8.3600 - mae: 8.3600\n",
      "Epoch 37/100\n",
      "2/2 [==============================] - 0s 5ms/step - loss: 9.2128 - mae: 9.2128\n",
      "Epoch 38/100\n",
      "2/2 [==============================] - 0s 5ms/step - loss: 10.1552 - mae: 10.1552\n",
      "Epoch 39/100\n",
      "2/2 [==============================] - 0s 6ms/step - loss: 15.0136 - mae: 15.0136\n",
      "Epoch 40/100\n",
      "2/2 [==============================] - 0s 6ms/step - loss: 12.7629 - mae: 12.7629\n",
      "Epoch 41/100\n",
      "2/2 [==============================] - 0s 5ms/step - loss: 8.5306 - mae: 8.5306\n",
      "Epoch 42/100\n",
      "2/2 [==============================] - 0s 6ms/step - loss: 10.4403 - mae: 10.4403\n",
      "Epoch 43/100\n",
      "2/2 [==============================] - 0s 7ms/step - loss: 10.9400 - mae: 10.9400\n",
      "Epoch 44/100\n",
      "2/2 [==============================] - 0s 6ms/step - loss: 15.4231 - mae: 15.4231\n",
      "Epoch 45/100\n",
      "2/2 [==============================] - 0s 6ms/step - loss: 11.1621 - mae: 11.1621\n",
      "Epoch 46/100\n",
      "2/2 [==============================] - 0s 5ms/step - loss: 6.1822 - mae: 6.1822\n",
      "Epoch 47/100\n",
      "2/2 [==============================] - 0s 4ms/step - loss: 9.8742 - mae: 9.8742\n",
      "Epoch 48/100\n",
      "2/2 [==============================] - 0s 5ms/step - loss: 7.9542 - mae: 7.9542\n",
      "Epoch 49/100\n",
      "2/2 [==============================] - 0s 4ms/step - loss: 6.8518 - mae: 6.8518\n",
      "Epoch 50/100\n",
      "2/2 [==============================] - 0s 5ms/step - loss: 8.6167 - mae: 8.6167\n",
      "Epoch 51/100\n",
      "2/2 [==============================] - 0s 4ms/step - loss: 8.6032 - mae: 8.6032\n",
      "Epoch 52/100\n",
      "2/2 [==============================] - 0s 6ms/step - loss: 14.7467 - mae: 14.7467\n",
      "Epoch 53/100\n",
      "2/2 [==============================] - 0s 5ms/step - loss: 14.4136 - mae: 14.4136\n",
      "Epoch 54/100\n",
      "2/2 [==============================] - 0s 5ms/step - loss: 14.1260 - mae: 14.1260\n",
      "Epoch 55/100\n",
      "2/2 [==============================] - 0s 5ms/step - loss: 18.4181 - mae: 18.4181\n",
      "Epoch 56/100\n",
      "2/2 [==============================] - 0s 6ms/step - loss: 7.0147 - mae: 7.0147\n",
      "Epoch 57/100\n",
      "2/2 [==============================] - 0s 4ms/step - loss: 10.8986 - mae: 10.8986\n",
      "Epoch 58/100\n",
      "2/2 [==============================] - 0s 5ms/step - loss: 8.3159 - mae: 8.3159\n",
      "Epoch 59/100\n",
      "2/2 [==============================] - 0s 5ms/step - loss: 7.6488 - mae: 7.6488\n",
      "Epoch 60/100\n",
      "2/2 [==============================] - 0s 5ms/step - loss: 8.5870 - mae: 8.5870\n",
      "Epoch 61/100\n",
      "2/2 [==============================] - 0s 5ms/step - loss: 10.4905 - mae: 10.4905\n",
      "Epoch 62/100\n",
      "2/2 [==============================] - 0s 4ms/step - loss: 11.8522 - mae: 11.8522\n",
      "Epoch 63/100\n",
      "2/2 [==============================] - 0s 5ms/step - loss: 6.9150 - mae: 6.9150\n",
      "Epoch 64/100\n",
      "2/2 [==============================] - 0s 5ms/step - loss: 13.6032 - mae: 13.6032\n",
      "Epoch 65/100\n",
      "2/2 [==============================] - 0s 6ms/step - loss: 9.7770 - mae: 9.7770\n",
      "Epoch 66/100\n",
      "2/2 [==============================] - 0s 4ms/step - loss: 10.6029 - mae: 10.6029\n",
      "Epoch 67/100\n",
      "2/2 [==============================] - 0s 6ms/step - loss: 7.1772 - mae: 7.1772\n",
      "Epoch 68/100\n",
      "2/2 [==============================] - 0s 4ms/step - loss: 7.6832 - mae: 7.6832\n",
      "Epoch 69/100\n",
      "2/2 [==============================] - 0s 5ms/step - loss: 12.0126 - mae: 12.0126\n",
      "Epoch 70/100\n",
      "2/2 [==============================] - 0s 4ms/step - loss: 8.8158 - mae: 8.8158\n",
      "Epoch 71/100\n",
      "2/2 [==============================] - 0s 5ms/step - loss: 9.9347 - mae: 9.9347\n",
      "Epoch 72/100\n",
      "2/2 [==============================] - 0s 5ms/step - loss: 8.3293 - mae: 8.3293\n",
      "Epoch 73/100\n",
      "2/2 [==============================] - 0s 7ms/step - loss: 10.1259 - mae: 10.1259\n",
      "Epoch 74/100\n",
      "2/2 [==============================] - 0s 4ms/step - loss: 11.6722 - mae: 11.6722\n",
      "Epoch 75/100\n",
      "2/2 [==============================] - 0s 6ms/step - loss: 6.3842 - mae: 6.3842\n",
      "Epoch 76/100\n",
      "2/2 [==============================] - 0s 4ms/step - loss: 10.1333 - mae: 10.1333\n",
      "Epoch 77/100\n",
      "2/2 [==============================] - 0s 5ms/step - loss: 10.1213 - mae: 10.1213\n",
      "Epoch 78/100\n",
      "2/2 [==============================] - 0s 4ms/step - loss: 11.6825 - mae: 11.6825\n",
      "Epoch 79/100\n",
      "2/2 [==============================] - 0s 5ms/step - loss: 14.6362 - mae: 14.6362\n",
      "Epoch 80/100\n",
      "2/2 [==============================] - 0s 4ms/step - loss: 11.0405 - mae: 11.0405\n",
      "Epoch 81/100\n",
      "2/2 [==============================] - 0s 6ms/step - loss: 10.1869 - mae: 10.1869\n",
      "Epoch 82/100\n",
      "2/2 [==============================] - 0s 6ms/step - loss: 7.1114 - mae: 7.1114\n",
      "Epoch 83/100\n",
      "2/2 [==============================] - 0s 6ms/step - loss: 8.1020 - mae: 8.1020\n",
      "Epoch 84/100\n",
      "2/2 [==============================] - 0s 5ms/step - loss: 7.3124 - mae: 7.3124\n",
      "Epoch 85/100\n",
      "2/2 [==============================] - 0s 4ms/step - loss: 14.2002 - mae: 14.2002\n",
      "Epoch 86/100\n",
      "2/2 [==============================] - 0s 6ms/step - loss: 12.9477 - mae: 12.9477\n",
      "Epoch 87/100\n",
      "2/2 [==============================] - 0s 6ms/step - loss: 12.4147 - mae: 12.4147\n",
      "Epoch 88/100\n"
     ]
    },
    {
     "name": "stdout",
     "output_type": "stream",
     "text": [
      "2/2 [==============================] - 0s 6ms/step - loss: 10.7264 - mae: 10.7264\n",
      "Epoch 89/100\n",
      "2/2 [==============================] - 0s 4ms/step - loss: 6.0316 - mae: 6.0316\n",
      "Epoch 90/100\n",
      "2/2 [==============================] - 0s 4ms/step - loss: 12.9632 - mae: 12.9632\n",
      "Epoch 91/100\n",
      "2/2 [==============================] - 0s 5ms/step - loss: 6.9048 - mae: 6.9048\n",
      "Epoch 92/100\n",
      "2/2 [==============================] - 0s 5ms/step - loss: 7.1122 - mae: 7.1122\n",
      "Epoch 93/100\n",
      "2/2 [==============================] - 0s 4ms/step - loss: 8.5390 - mae: 8.5390\n",
      "Epoch 94/100\n",
      "2/2 [==============================] - 0s 5ms/step - loss: 7.8913 - mae: 7.8913\n",
      "Epoch 95/100\n",
      "2/2 [==============================] - 0s 4ms/step - loss: 11.3013 - mae: 11.3013\n",
      "Epoch 96/100\n",
      "2/2 [==============================] - 0s 6ms/step - loss: 8.6161 - mae: 8.6161\n",
      "Epoch 97/100\n",
      "2/2 [==============================] - 0s 5ms/step - loss: 12.7893 - mae: 12.7893\n",
      "Epoch 98/100\n",
      "2/2 [==============================] - 0s 4ms/step - loss: 7.4965 - mae: 7.4965\n",
      "Epoch 99/100\n",
      "2/2 [==============================] - 0s 5ms/step - loss: 8.2399 - mae: 8.2399\n",
      "Epoch 100/100\n",
      "2/2 [==============================] - 0s 5ms/step - loss: 9.7188 - mae: 9.7188\n"
     ]
    },
    {
     "data": {
      "text/plain": [
       "<keras.callbacks.History at 0x1308b2a0760>"
      ]
     },
     "execution_count": 39,
     "metadata": {},
     "output_type": "execute_result"
    }
   ],
   "source": [
    "# Fit the model again, for another 100 epochs (so for a total of 200 epochs)\n",
    "model.fit(X_train, y_train, epochs=100, verbose=1)"
   ]
  },
  {
   "cell_type": "markdown",
   "id": "7798ca6b",
   "metadata": {},
   "source": [
    "🔑 Every time model.fit() is called, it's going to fit for the extra epochs provided as parameters : the epochs are cumulative."
   ]
  },
  {
   "cell_type": "code",
   "execution_count": null,
   "id": "378fe5b7",
   "metadata": {},
   "outputs": [],
   "source": []
  },
  {
   "cell_type": "markdown",
   "id": "8cd35a1b",
   "metadata": {},
   "source": [
    "### Visualizing a model's layers"
   ]
  },
  {
   "cell_type": "code",
   "execution_count": 40,
   "id": "64f49ee8",
   "metadata": {},
   "outputs": [
    {
     "name": "stdout",
     "output_type": "stream",
     "text": [
      "Model: \"sequential_8\"\n",
      "_________________________________________________________________\n",
      " Layer (type)                Output Shape              Param #   \n",
      "=================================================================\n",
      " dense_13 (Dense)            (None, 10)                20        \n",
      "                                                                 \n",
      "=================================================================\n",
      "Total params: 20\n",
      "Trainable params: 20\n",
      "Non-trainable params: 0\n",
      "_________________________________________________________________\n"
     ]
    }
   ],
   "source": [
    "# Creating a new model, with 10 units in the hidden layers\n",
    "\n",
    "tf.random.set_seed(42)\n",
    "\n",
    "# 1. Create a model (same as above)\n",
    "model = tf.keras.Sequential([\n",
    "    tf.keras.layers.Dense(10, input_shape= [1] )  \n",
    "]) \n",
    "\n",
    "# 2. Compile the model \n",
    "model.compile(loss=tf.keras.losses.mae,\n",
    "             optimizer = tf.keras.optimizers.SGD(),\n",
    "             metrics=[\"mae\"])\n",
    "\n",
    "\n",
    "model.summary()\n"
   ]
  },
  {
   "cell_type": "code",
   "execution_count": 41,
   "id": "967d66d9",
   "metadata": {},
   "outputs": [
    {
     "data": {
      "text/plain": [
       "<keras.callbacks.History at 0x1308b2c0640>"
      ]
     },
     "execution_count": 41,
     "metadata": {},
     "output_type": "execute_result"
    }
   ],
   "source": [
    "# Fit the model to the training data\n",
    "model.fit(X_train, y_train, epochs=100, verbose=0)"
   ]
  },
  {
   "cell_type": "code",
   "execution_count": 42,
   "id": "8641da1e",
   "metadata": {},
   "outputs": [
    {
     "data": {
      "image/png": "[encoded data removed]",
      "text/plain": [
       "<IPython.core.display.Image object>"
      ]
     },
     "execution_count": 42,
     "metadata": {},
     "output_type": "execute_result"
    }
   ],
   "source": [
    "# Looking at the layers of the model\n",
    "plot_model(model=model)"
   ]
  },
  {
   "cell_type": "code",
   "execution_count": 43,
   "id": "51112f96",
   "metadata": {},
   "outputs": [
    {
     "data": {
      "image/png": "[encoded data removed]",
      "text/plain": [
       "<IPython.core.display.Image object>"
      ]
     },
     "execution_count": 43,
     "metadata": {},
     "output_type": "execute_result"
    }
   ],
   "source": [
    "# Looking at the layers of the model, with it's shape\n",
    "plot_model(model=model, show_shapes=True)"
   ]
  },
  {
   "cell_type": "markdown",
   "id": "8720dbcb",
   "metadata": {},
   "source": [
    "The plot_model() above will be very handy later on when we start creating more complex models with more hidden layers. \n",
    "   \n",
    "Let's observe the plot of a little more complex model"
   ]
  },
  {
   "cell_type": "code",
   "execution_count": 44,
   "id": "d6a9f617",
   "metadata": {},
   "outputs": [
    {
     "name": "stdout",
     "output_type": "stream",
     "text": [
      "Model: \"amazing_model\"\n",
      "_________________________________________________________________\n",
      " Layer (type)                Output Shape              Param #   \n",
      "=================================================================\n",
      " input_layer (Dense)         (None, 10)                20        \n",
      "                                                                 \n",
      " output_layer (Dense)        (None, 1)                 11        \n",
      "                                                                 \n",
      "=================================================================\n",
      "Total params: 31\n",
      "Trainable params: 31\n",
      "Non-trainable params: 0\n",
      "_________________________________________________________________\n"
     ]
    }
   ],
   "source": [
    "# Creating a model, with 10 units in the hidden layers, and an output layer\n",
    "\n",
    "tf.random.set_seed(42)\n",
    "\n",
    "# 1. Create a model (same as above)\n",
    "model = tf.keras.Sequential([\n",
    "    tf.keras.layers.Dense(10, input_shape= [1], name=\"input_layer\" ), \n",
    "    tf.keras.layers.Dense(1, name=\"output_layer\")\n",
    "], name=\"amazing_model\") \n",
    "\n",
    "# 2. Compile the model \n",
    "model.compile(loss=tf.keras.losses.mae,\n",
    "             optimizer = tf.keras.optimizers.SGD(),\n",
    "             metrics=[\"mae\"])\n",
    "\n",
    "\n",
    "model.summary()\n"
   ]
  },
  {
   "cell_type": "code",
   "execution_count": 45,
   "id": "69b4b0ca",
   "metadata": {},
   "outputs": [
    {
     "data": {
      "text/plain": [
       "<keras.callbacks.History at 0x1308b2a1370>"
      ]
     },
     "execution_count": 45,
     "metadata": {},
     "output_type": "execute_result"
    }
   ],
   "source": [
    "# Fit the model to the training data\n",
    "model.fit(X_train, y_train, epochs=100, verbose=0)"
   ]
  },
  {
   "cell_type": "code",
   "execution_count": 46,
   "id": "bc62aa47",
   "metadata": {},
   "outputs": [
    {
     "name": "stdout",
     "output_type": "stream",
     "text": [
      "Model: \"amazing_model\"\n",
      "_________________________________________________________________\n",
      " Layer (type)                Output Shape              Param #   \n",
      "=================================================================\n",
      " input_layer (Dense)         (None, 10)                20        \n",
      "                                                                 \n",
      " output_layer (Dense)        (None, 1)                 11        \n",
      "                                                                 \n",
      "=================================================================\n",
      "Total params: 31\n",
      "Trainable params: 31\n",
      "Non-trainable params: 0\n",
      "_________________________________________________________________\n"
     ]
    }
   ],
   "source": [
    "model.summary()"
   ]
  },
  {
   "cell_type": "code",
   "execution_count": 47,
   "id": "06d885f8",
   "metadata": {},
   "outputs": [
    {
     "data": {
      "image/png": "[encoded data removed]",
      "text/plain": [
       "<IPython.core.display.Image object>"
      ]
     },
     "execution_count": 47,
     "metadata": {},
     "output_type": "execute_result"
    }
   ],
   "source": [
    "# Looking at the layers of the model, with it's shape\n",
    "plot_model(model=model, show_shapes=True)"
   ]
  },
  {
   "cell_type": "code",
   "execution_count": null,
   "id": "955333a7",
   "metadata": {},
   "outputs": [],
   "source": []
  },
  {
   "cell_type": "markdown",
   "id": "ab607c02",
   "metadata": {},
   "source": [
    "### Visualizing the model's predictions  \n",
    "  \n",
    "To visualize predictions, it's a good idea to plot them against the ground truth labels.  \n",
    "  \n",
    "Often, one will see this in the form of `y_test` or `y_true` versus `y_pred` (ground truth versus the model's predictions)."
   ]
  },
  {
   "cell_type": "code",
   "execution_count": 48,
   "id": "6274fe28",
   "metadata": {},
   "outputs": [
    {
     "name": "stdout",
     "output_type": "stream",
     "text": [
      "WARNING:tensorflow:5 out of the last 6 calls to <function Model.make_predict_function.<locals>.predict_function at 0x000001308B383310> triggered tf.function retracing. Tracing is expensive and the excessive number of tracings could be due to (1) creating @tf.function repeatedly in a loop, (2) passing tensors with different shapes, (3) passing Python objects instead of tensors. For (1), please define your @tf.function outside of the loop. For (2), @tf.function has reduce_retracing=True option that can avoid unnecessary retracing. For (3), please refer to https://www.tensorflow.org/guide/function#controlling_retracing and https://www.tensorflow.org/api_docs/python/tf/function for  more details.\n",
      "1/1 [==============================] - 0s 100ms/step\n"
     ]
    },
    {
     "data": {
      "text/plain": [
       "array([[ 88.42558 ],\n",
       "       [ 94.19669 ],\n",
       "       [ 99.96779 ],\n",
       "       [105.73889 ],\n",
       "       [111.509995],\n",
       "       [117.2811  ],\n",
       "       [123.0522  ],\n",
       "       [128.8233  ],\n",
       "       [134.5944  ],\n",
       "       [140.36551 ]], dtype=float32)"
      ]
     },
     "execution_count": 48,
     "metadata": {},
     "output_type": "execute_result"
    }
   ],
   "source": [
    "# Make some predictions\n",
    "y_pred = model.predict(X_test)\n",
    "y_pred"
   ]
  },
  {
   "cell_type": "code",
   "execution_count": 49,
   "id": "2693f03d",
   "metadata": {},
   "outputs": [
    {
     "data": {
      "text/plain": [
       "<tf.Tensor: shape=(10,), dtype=int32, numpy=array([ 70,  74,  78,  82,  86,  90,  94,  98, 102, 106])>"
      ]
     },
     "execution_count": 49,
     "metadata": {},
     "output_type": "execute_result"
    }
   ],
   "source": [
    "# Looking at the content of y_test (the real value)\n",
    "y_test"
   ]
  },
  {
   "cell_type": "code",
   "execution_count": null,
   "id": "ceb2b008",
   "metadata": {},
   "outputs": [],
   "source": []
  },
  {
   "cell_type": "code",
   "execution_count": 50,
   "id": "eeba611f",
   "metadata": {},
   "outputs": [],
   "source": [
    "# Creating a plotting function\n",
    "def plot_predictions(train_data=X_train, train_labels=y_train,\n",
    "                    test_data=X_test, test_labels=y_test,\n",
    "                    predictions=y_pred):\n",
    "    \"\"\"\n",
    "        Plots training data, test data, and compares predictions to ground truth labels.\n",
    "    \"\"\"\n",
    "    plt.figure( figsize=(10,7) )\n",
    "\n",
    "    # Plot training data in blue \n",
    "    plt.scatter(train_data, train_labels, c=\"b\", label=\"Training data\")\n",
    "\n",
    "    # Plot test data in green\n",
    "    plt.scatter(test_data, test_labels, c=\"g\", label=\"Test data\")\n",
    "    \n",
    "    # Plot prediction data\n",
    "    plt.scatter(test_data,predictions,c=\"r\", label=\"Predictions\")\n",
    "\n",
    "    #Show a legend\n",
    "    plt.legend() "
   ]
  },
  {
   "cell_type": "code",
   "execution_count": 51,
   "id": "e17e0774",
   "metadata": {},
   "outputs": [
    {
     "data": {
      "image/png": "[encoded data removed]",
      "text/plain": [
       "<Figure size 720x504 with 1 Axes>"
      ]
     },
     "metadata": {
      "needs_background": "light"
     },
     "output_type": "display_data"
    }
   ],
   "source": [
    "plot_predictions()"
   ]
  },
  {
   "cell_type": "markdown",
   "id": "bf87ee45",
   "metadata": {},
   "source": [
    "Looking at the plots, the model appear to be good since the distance between test data and the predictions is small. But depending on the scale of the plot, that seemingly short distance can in fact represent a fairly large error.   \n",
    "So the way that can be figured out is by some evaluation metrics.\n"
   ]
  },
  {
   "cell_type": "markdown",
   "id": "cef52248",
   "metadata": {},
   "source": [
    "🛠️ **Exercise** : Try to improve the ploted model performance."
   ]
  },
  {
   "cell_type": "code",
   "execution_count": null,
   "id": "42f63d4e",
   "metadata": {},
   "outputs": [],
   "source": []
  },
  {
   "cell_type": "markdown",
   "id": "3465cb74",
   "metadata": {},
   "source": [
    "### Evaluation a model's predictions with regression evaluation metrics  \n",
    "  \n",
    "The best way to evaluate a model's predictions is by using evaluation metrics. Depending on the problem one is working on, there will be different evaluation metrics to evaluate a model's performance.\n",
    "   \n",
    "   \n",
    "Since the current work is a regression, three of the main metrics are :\n",
    "* **MAE** - Mean Absolute Error : \"On evareage, how wrong is each of the model's predictions ?\" . It is a great starter metric for any regression problem.\n",
    "* **MSE** - Mean Square Error : \"Square the average errors\" (take the errors from the model predictions, square them, and find the average). It is great to use it when larger errors are more significant than smaller errors.   \n",
    "* **Huber** : It is a combination of MSE and MAE; it's less sensitive to outliers than MSE."
   ]
  },
  {
   "cell_type": "code",
   "execution_count": 52,
   "id": "00c2f28d",
   "metadata": {},
   "outputs": [
    {
     "name": "stdout",
     "output_type": "stream",
     "text": [
      "1/1 [==============================] - 0s 305ms/step - loss: 26.3955 - mae: 26.3955\n"
     ]
    },
    {
     "data": {
      "text/plain": [
       "[26.395549774169922, 26.395549774169922]"
      ]
     },
     "execution_count": 52,
     "metadata": {},
     "output_type": "execute_result"
    }
   ],
   "source": [
    "# Evaluate the model on the test \n",
    "model.evaluate(X_test, y_test)"
   ]
  },
  {
   "cell_type": "markdown",
   "id": "777142f7",
   "metadata": {},
   "source": [
    "In the evaluation's result above, there are values for `loss` and `mae`. They came from the hyper-parameters (loss and metrics) provided when building the model."
   ]
  },
  {
   "cell_type": "markdown",
   "id": "9805df4d",
   "metadata": {},
   "source": [
    "#### Manually calculate the MAE (as an exercise)"
   ]
  },
  {
   "cell_type": "code",
   "execution_count": 53,
   "id": "5ec1db76",
   "metadata": {},
   "outputs": [
    {
     "data": {
      "text/plain": [
       "<tf.Tensor: shape=(10,), dtype=float32, numpy=\n",
       "array([10.      , 10.878677, 13.580673, 17.791113, 23.509995, 29.281097,\n",
       "       35.0522  , 40.823303, 46.594406, 52.36551 ], dtype=float32)>"
      ]
     },
     "execution_count": 53,
     "metadata": {},
     "output_type": "execute_result"
    }
   ],
   "source": [
    "mae = tf.metrics.mean_absolute_error(y_true = y_test, y_pred=y_pred)\n",
    "mae"
   ]
  },
  {
   "cell_type": "markdown",
   "id": "1cd1446f",
   "metadata": {},
   "source": [
    "The result above does not make sense, because the result should be scalar, not an array . Let us observe y_test and y_pred to understand what is going on in the data."
   ]
  },
  {
   "cell_type": "code",
   "execution_count": 54,
   "id": "75792e15",
   "metadata": {},
   "outputs": [
    {
     "data": {
      "text/plain": [
       "<tf.Tensor: shape=(10,), dtype=int32, numpy=array([ 70,  74,  78,  82,  86,  90,  94,  98, 102, 106])>"
      ]
     },
     "execution_count": 54,
     "metadata": {},
     "output_type": "execute_result"
    }
   ],
   "source": [
    "y_test"
   ]
  },
  {
   "cell_type": "code",
   "execution_count": 55,
   "id": "12019b8c",
   "metadata": {},
   "outputs": [
    {
     "data": {
      "text/plain": [
       "array([[ 88.42558 ],\n",
       "       [ 94.19669 ],\n",
       "       [ 99.96779 ],\n",
       "       [105.73889 ],\n",
       "       [111.509995],\n",
       "       [117.2811  ],\n",
       "       [123.0522  ],\n",
       "       [128.8233  ],\n",
       "       [134.5944  ],\n",
       "       [140.36551 ]], dtype=float32)"
      ]
     },
     "execution_count": 55,
     "metadata": {},
     "output_type": "execute_result"
    }
   ],
   "source": [
    "y_pred"
   ]
  },
  {
   "cell_type": "code",
   "execution_count": 56,
   "id": "af13faf2",
   "metadata": {},
   "outputs": [
    {
     "data": {
      "text/plain": [
       "(10, 1)"
      ]
     },
     "execution_count": 56,
     "metadata": {},
     "output_type": "execute_result"
    }
   ],
   "source": [
    "y_pred.shape"
   ]
  },
  {
   "cell_type": "markdown",
   "id": "12d65db9",
   "metadata": {},
   "source": [
    "y_pred has one more dimension than y_test, so we need to remove its last dimension in order to have the same dimension for the two of them."
   ]
  },
  {
   "cell_type": "code",
   "execution_count": 57,
   "id": "17da45da",
   "metadata": {},
   "outputs": [
    {
     "data": {
      "text/plain": [
       "<tf.Tensor: shape=(10,), dtype=float32, numpy=\n",
       "array([ 88.42558 ,  94.19669 ,  99.96779 , 105.73889 , 111.509995,\n",
       "       117.2811  , 123.0522  , 128.8233  , 134.5944  , 140.36551 ],\n",
       "      dtype=float32)>"
      ]
     },
     "execution_count": 57,
     "metadata": {},
     "output_type": "execute_result"
    }
   ],
   "source": [
    "# remove the last dimension from y_pred\n",
    "tf.squeeze(y_pred)"
   ]
  },
  {
   "cell_type": "code",
   "execution_count": 58,
   "id": "1e73ed10",
   "metadata": {},
   "outputs": [
    {
     "data": {
      "text/plain": [
       "<tf.Tensor: shape=(), dtype=float32, numpy=26.395544>"
      ]
     },
     "execution_count": 58,
     "metadata": {},
     "output_type": "execute_result"
    }
   ],
   "source": [
    "mae = tf.metrics.mean_absolute_error(y_true=y_test, y_pred = tf.squeeze(y_pred))\n",
    "mae"
   ]
  },
  {
   "cell_type": "markdown",
   "id": "b0ad45e6",
   "metadata": {},
   "source": [
    "The MAE manually computed here is the same as the one computed automatically before."
   ]
  },
  {
   "cell_type": "markdown",
   "id": "3cf402e6",
   "metadata": {},
   "source": [
    "#### Manually calculate the MSE (as an exercise)"
   ]
  },
  {
   "cell_type": "code",
   "execution_count": 59,
   "id": "c90b3e84",
   "metadata": {},
   "outputs": [
    {
     "data": {
      "text/plain": [
       "<tf.Tensor: shape=(10,), dtype=float32, numpy=\n",
       "array([ 132.18112,  170.39902,  275.22797,  446.6683 ,  684.7198 ,\n",
       "        989.3827 , 1360.6569 , 1798.542  , 2303.0386 , 2874.1467 ],\n",
       "      dtype=float32)>"
      ]
     },
     "execution_count": 59,
     "metadata": {},
     "output_type": "execute_result"
    }
   ],
   "source": [
    "mse = tf.metrics.mean_squared_error(y_true=y_test, y_pred=y_pred)\n",
    "mse"
   ]
  },
  {
   "cell_type": "markdown",
   "id": "422c2ed0",
   "metadata": {},
   "source": [
    "We have the same situation as when manually calculing MAE. We will use `tf.squeeze()` to solve the issue."
   ]
  },
  {
   "cell_type": "code",
   "execution_count": 60,
   "id": "98097d29",
   "metadata": {},
   "outputs": [
    {
     "data": {
      "text/plain": [
       "<tf.Tensor: shape=(), dtype=float32, numpy=722.6035>"
      ]
     },
     "execution_count": 60,
     "metadata": {},
     "output_type": "execute_result"
    }
   ],
   "source": [
    "mse = tf.metrics.mean_squared_error(y_true=y_test, y_pred= tf.squeeze(y_pred) )\n",
    "mse"
   ]
  },
  {
   "cell_type": "markdown",
   "id": "cc16b67b",
   "metadata": {},
   "source": [
    "MSE will typically be higher than MAE because, if we look at their formula, there is a square operation in MSE."
   ]
  },
  {
   "cell_type": "code",
   "execution_count": null,
   "id": "804b9b8b",
   "metadata": {},
   "outputs": [],
   "source": []
  },
  {
   "cell_type": "markdown",
   "id": "dcfe3cf7",
   "metadata": {},
   "source": [
    "#### Define a function for MAE and MSE\n",
    "It is so that the two of them can be used later"
   ]
  },
  {
   "cell_type": "code",
   "execution_count": 61,
   "id": "12fde13f",
   "metadata": {},
   "outputs": [],
   "source": [
    "def mae(y_true, y_pred):\n",
    "    return tf.metrics.mean_absolute_error(y_true=y_true, y_pred = y_pred)\n",
    "\n",
    "def mse(y_true, y_pred):\n",
    "    return tf.metrics.mean_squared_error(y_true=y_test, y_pred=y_pred)"
   ]
  },
  {
   "cell_type": "code",
   "execution_count": null,
   "id": "84618df1",
   "metadata": {},
   "outputs": [],
   "source": []
  },
  {
   "cell_type": "markdown",
   "id": "970c90c1",
   "metadata": {},
   "source": [
    "### Running experiments to improve a model\n",
    "\n",
    "So far :\n",
    "* some predictions where made with a trained model, \n",
    "* the predictions where compared to test data set, and the comparaison was visualized,\n",
    "* the predictions where where evaluated with regression evaluation metrics, such as MAE and MSE.\n",
    "\n",
    "The next question is : \"**How do we get the error values lower ?** (How do we minimize the difference between the model's predictions and the test labels)\". \n",
    "\n",
    "Remembering the workflow discussed before : `Build a model -> fit it -> evaluate it -> tweak it -> fit it -> tweak it -> ... `\n",
    "\n",
    "If the Machine Learning explorer's motto is `visualize, visualize, visualize`, in other words :\n",
    "* Visualizing our data\n",
    "* Visualizing our model\n",
    "* Visualizing our training\n",
    "* Visualizing our prediction\n",
    "\n",
    "Then, the Machine Learning practitioner's motto is `experiment, experiment, experiment, ...`. That is what we are going to do : try to run a few series of experiments to see if we can improve our model following the above mentioned workflow.\n",
    "\n",
    "Recalling some ways that we can improve our model :\n",
    "1. **Get more data** - get more examples for your model to train on (in other words, more opportunities to learn patterns/relationships between features and labels).\n",
    "1. **Make the model larger** (using a more complex model) -  this might come in the form of more layers, or more hidden units in each layer, or both.\n",
    "1. **Train for longer** - give the model more of a chance to find patterns in the data\n",
    "1. **Review how the model is compiled** - change the optimization function, or learning rate of the optimization function"
   ]
  },
  {
   "cell_type": "code",
   "execution_count": 62,
   "id": "5dab5076",
   "metadata": {},
   "outputs": [
    {
     "data": {
      "text/plain": [
       "(<tf.Tensor: shape=(40,), dtype=int32, numpy=\n",
       " array([-100,  -96,  -92,  -88,  -84,  -80,  -76,  -72,  -68,  -64,  -60,\n",
       "         -56,  -52,  -48,  -44,  -40,  -36,  -32,  -28,  -24,  -20,  -16,\n",
       "         -12,   -8,   -4,    0,    4,    8,   12,   16,   20,   24,   28,\n",
       "          32,   36,   40,   44,   48,   52,   56])>,\n",
       " <tf.Tensor: shape=(40,), dtype=int32, numpy=\n",
       " array([-90, -86, -82, -78, -74, -70, -66, -62, -58, -54, -50, -46, -42,\n",
       "        -38, -34, -30, -26, -22, -18, -14, -10,  -6,  -2,   2,   6,  10,\n",
       "         14,  18,  22,  26,  30,  34,  38,  42,  46,  50,  54,  58,  62,\n",
       "         66])>)"
      ]
     },
     "execution_count": 62,
     "metadata": {},
     "output_type": "execute_result"
    }
   ],
   "source": [
    "# Recalling our dataset\n",
    "X_train, y_train"
   ]
  },
  {
   "cell_type": "markdown",
   "id": "3676c1da",
   "metadata": {},
   "source": [
    "The question now is `Looking at our datas, how can we improve our model ?`. Let us review our options :   \n",
    "\n",
    "1. Get more data ? We can't really get more data unless we just artificially make our datasest bigger, so this option is ruled out.\n",
    "1. Make the model larger ? Yes we can\n",
    "1. Train for longer ? Yes, we can\n",
    "1. Review how the model is compiled ? Yes we can\n",
    "\n",
    "In regard for this, let's design 03 experiments that we could do: \n",
    "1. `model_1` - same as the original model, 1 layer, trained for 100 epochs.\n",
    "1. `model_2` - 2 layers, trained for 100 epochs.\n",
    "1. `model_3` - 2 layers, trained for 500 epochs.\n",
    "\n",
    "The mindset of a Machine Learning practitioner is to start with a baseline model, and then change one of the parameters for his next experiment, then do the same for the next experiment, and so on."
   ]
  },
  {
   "cell_type": "code",
   "execution_count": null,
   "id": "603a60ba",
   "metadata": {},
   "outputs": [],
   "source": []
  },
  {
   "cell_type": "markdown",
   "id": "3c6d23e7",
   "metadata": {},
   "source": [
    "**Creating model_1**: 1 layer, trained for 100 epochs"
   ]
  },
  {
   "cell_type": "code",
   "execution_count": 63,
   "id": "99dd78e1",
   "metadata": {},
   "outputs": [
    {
     "name": "stdout",
     "output_type": "stream",
     "text": [
      "Epoch 1/100\n",
      "2/2 [==============================] - 1s 5ms/step - loss: 18.8412 - mae: 18.8412\n",
      "Epoch 2/100\n",
      "2/2 [==============================] - 0s 4ms/step - loss: 8.3321 - mae: 8.3321\n",
      "Epoch 3/100\n",
      "2/2 [==============================] - 0s 6ms/step - loss: 10.4541 - mae: 10.4541\n",
      "Epoch 4/100\n",
      "2/2 [==============================] - 0s 7ms/step - loss: 12.9283 - mae: 12.9283\n",
      "Epoch 5/100\n",
      "2/2 [==============================] - 0s 5ms/step - loss: 11.9709 - mae: 11.9709\n",
      "Epoch 6/100\n",
      "2/2 [==============================] - 0s 6ms/step - loss: 9.2610 - mae: 9.2610\n",
      "Epoch 7/100\n",
      "2/2 [==============================] - 0s 7ms/step - loss: 8.4289 - mae: 8.4289\n",
      "Epoch 8/100\n",
      "2/2 [==============================] - 0s 4ms/step - loss: 9.0326 - mae: 9.0326\n",
      "Epoch 9/100\n",
      "2/2 [==============================] - 0s 4ms/step - loss: 18.3968 - mae: 18.3968\n",
      "Epoch 10/100\n",
      "2/2 [==============================] - 0s 4ms/step - loss: 9.9171 - mae: 9.9171\n",
      "Epoch 11/100\n",
      "2/2 [==============================] - 0s 6ms/step - loss: 8.3215 - mae: 8.3215\n",
      "Epoch 12/100\n",
      "2/2 [==============================] - 0s 4ms/step - loss: 10.5061 - mae: 10.5061\n",
      "Epoch 13/100\n",
      "2/2 [==============================] - 0s 5ms/step - loss: 9.7351 - mae: 9.7351\n",
      "Epoch 14/100\n",
      "2/2 [==============================] - 0s 5ms/step - loss: 15.6322 - mae: 15.6322\n",
      "Epoch 15/100\n",
      "2/2 [==============================] - 0s 5ms/step - loss: 11.7037 - mae: 11.7037\n",
      "Epoch 16/100\n",
      "2/2 [==============================] - 0s 5ms/step - loss: 8.4512 - mae: 8.4512\n",
      "Epoch 17/100\n",
      "2/2 [==============================] - 0s 6ms/step - loss: 13.4307 - mae: 13.4307\n",
      "Epoch 18/100\n",
      "2/2 [==============================] - 0s 3ms/step - loss: 11.2078 - mae: 11.2078\n",
      "Epoch 19/100\n",
      "2/2 [==============================] - 0s 6ms/step - loss: 18.3208 - mae: 18.3208\n",
      "Epoch 20/100\n",
      "2/2 [==============================] - 0s 5ms/step - loss: 15.0257 - mae: 15.0257\n",
      "Epoch 21/100\n",
      "2/2 [==============================] - 0s 5ms/step - loss: 10.8919 - mae: 10.8919\n",
      "Epoch 22/100\n",
      "2/2 [==============================] - 0s 4ms/step - loss: 8.6484 - mae: 8.6484\n",
      "Epoch 23/100\n",
      "2/2 [==============================] - 0s 3ms/step - loss: 9.6735 - mae: 9.6735\n",
      "Epoch 24/100\n",
      "2/2 [==============================] - 0s 6ms/step - loss: 8.5769 - mae: 8.5769\n",
      "Epoch 25/100\n",
      "2/2 [==============================] - 0s 4ms/step - loss: 11.5705 - mae: 11.5705\n",
      "Epoch 26/100\n",
      "2/2 [==============================] - 0s 6ms/step - loss: 15.1619 - mae: 15.1619\n",
      "Epoch 27/100\n",
      "2/2 [==============================] - 0s 6ms/step - loss: 12.0486 - mae: 12.0486\n",
      "Epoch 28/100\n",
      "2/2 [==============================] - 0s 4ms/step - loss: 13.3411 - mae: 13.3411\n",
      "Epoch 29/100\n",
      "2/2 [==============================] - 0s 5ms/step - loss: 9.5985 - mae: 9.5985\n",
      "Epoch 30/100\n",
      "2/2 [==============================] - 0s 5ms/step - loss: 17.1242 - mae: 17.1242\n",
      "Epoch 31/100\n",
      "2/2 [==============================] - 0s 5ms/step - loss: 22.9306 - mae: 22.9306\n",
      "Epoch 32/100\n",
      "2/2 [==============================] - 0s 4ms/step - loss: 7.9136 - mae: 7.9136\n",
      "Epoch 33/100\n",
      "2/2 [==============================] - 0s 4ms/step - loss: 14.0960 - mae: 14.0960\n",
      "Epoch 34/100\n",
      "2/2 [==============================] - 0s 4ms/step - loss: 12.3324 - mae: 12.3324\n",
      "Epoch 35/100\n",
      "2/2 [==============================] - 0s 6ms/step - loss: 8.2723 - mae: 8.2723\n",
      "Epoch 36/100\n",
      "2/2 [==============================] - 0s 4ms/step - loss: 10.5022 - mae: 10.5022\n",
      "Epoch 37/100\n",
      "2/2 [==============================] - 0s 4ms/step - loss: 10.1428 - mae: 10.1428\n",
      "Epoch 38/100\n",
      "2/2 [==============================] - 0s 5ms/step - loss: 11.3509 - mae: 11.3509\n",
      "Epoch 39/100\n",
      "2/2 [==============================] - 0s 5ms/step - loss: 14.7186 - mae: 14.7186\n",
      "Epoch 40/100\n",
      "2/2 [==============================] - 0s 5ms/step - loss: 12.8492 - mae: 12.8492\n",
      "Epoch 41/100\n",
      "2/2 [==============================] - 0s 5ms/step - loss: 9.2346 - mae: 9.2346\n",
      "Epoch 42/100\n",
      "2/2 [==============================] - 0s 5ms/step - loss: 11.0260 - mae: 11.0260\n",
      "Epoch 43/100\n",
      "2/2 [==============================] - 0s 6ms/step - loss: 8.3360 - mae: 8.3360\n",
      "Epoch 44/100\n",
      "2/2 [==============================] - 0s 4ms/step - loss: 13.0884 - mae: 13.0884\n",
      "Epoch 45/100\n",
      "2/2 [==============================] - 0s 4ms/step - loss: 13.6349 - mae: 13.6349\n",
      "Epoch 46/100\n",
      "2/2 [==============================] - 0s 5ms/step - loss: 8.2611 - mae: 8.2611\n",
      "Epoch 47/100\n",
      "2/2 [==============================] - 0s 5ms/step - loss: 8.7396 - mae: 8.7396\n",
      "Epoch 48/100\n",
      "2/2 [==============================] - 0s 7ms/step - loss: 10.0456 - mae: 10.0456\n",
      "Epoch 49/100\n",
      "2/2 [==============================] - 0s 4ms/step - loss: 8.5251 - mae: 8.5251\n",
      "Epoch 50/100\n",
      "2/2 [==============================] - 0s 6ms/step - loss: 9.0343 - mae: 9.0343\n",
      "Epoch 51/100\n",
      "2/2 [==============================] - 0s 4ms/step - loss: 9.3792 - mae: 9.3792\n",
      "Epoch 52/100\n",
      "2/2 [==============================] - 0s 5ms/step - loss: 14.0581 - mae: 14.0581\n",
      "Epoch 53/100\n",
      "2/2 [==============================] - 0s 6ms/step - loss: 15.3945 - mae: 15.3945\n",
      "Epoch 54/100\n",
      "2/2 [==============================] - 0s 4ms/step - loss: 10.9025 - mae: 10.9025\n",
      "Epoch 55/100\n",
      "2/2 [==============================] - 0s 3ms/step - loss: 15.4265 - mae: 15.4265\n",
      "Epoch 56/100\n",
      "2/2 [==============================] - 0s 6ms/step - loss: 9.1200 - mae: 9.1200\n",
      "Epoch 57/100\n",
      "2/2 [==============================] - 0s 6ms/step - loss: 9.6971 - mae: 9.6971\n",
      "Epoch 58/100\n",
      "2/2 [==============================] - 0s 7ms/step - loss: 9.0025 - mae: 9.0025\n",
      "Epoch 59/100\n",
      "2/2 [==============================] - 0s 3ms/step - loss: 10.2373 - mae: 10.2373\n",
      "Epoch 60/100\n",
      "2/2 [==============================] - 0s 6ms/step - loss: 8.1670 - mae: 8.1670\n",
      "Epoch 61/100\n",
      "2/2 [==============================] - 0s 5ms/step - loss: 10.0350 - mae: 10.0350\n",
      "Epoch 62/100\n",
      "2/2 [==============================] - 0s 6ms/step - loss: 7.0349 - mae: 7.0349\n",
      "Epoch 63/100\n",
      "2/2 [==============================] - 0s 6ms/step - loss: 12.6736 - mae: 12.6736\n",
      "Epoch 64/100\n",
      "2/2 [==============================] - 0s 4ms/step - loss: 12.6172 - mae: 12.6172\n",
      "Epoch 65/100\n",
      "2/2 [==============================] - 0s 4ms/step - loss: 9.4396 - mae: 9.4396\n",
      "Epoch 66/100\n",
      "2/2 [==============================] - 0s 5ms/step - loss: 11.5060 - mae: 11.5060\n",
      "Epoch 67/100\n",
      "2/2 [==============================] - 0s 6ms/step - loss: 8.0366 - mae: 8.0366\n",
      "Epoch 68/100\n",
      "2/2 [==============================] - 0s 4ms/step - loss: 8.5647 - mae: 8.5647\n",
      "Epoch 69/100\n",
      "2/2 [==============================] - 0s 4ms/step - loss: 12.2576 - mae: 12.2576\n",
      "Epoch 70/100\n",
      "2/2 [==============================] - 0s 5ms/step - loss: 8.9564 - mae: 8.9564\n",
      "Epoch 71/100\n",
      "2/2 [==============================] - 0s 4ms/step - loss: 9.9321 - mae: 9.9321\n",
      "Epoch 72/100\n",
      "2/2 [==============================] - 0s 5ms/step - loss: 9.9702 - mae: 9.9702\n",
      "Epoch 73/100\n",
      "2/2 [==============================] - 0s 4ms/step - loss: 12.4415 - mae: 12.4415\n",
      "Epoch 74/100\n",
      "2/2 [==============================] - 0s 4ms/step - loss: 10.5644 - mae: 10.5644\n",
      "Epoch 75/100\n",
      "2/2 [==============================] - 0s 5ms/step - loss: 9.6297 - mae: 9.6297\n",
      "Epoch 76/100\n",
      "2/2 [==============================] - 0s 5ms/step - loss: 11.0965 - mae: 11.0965\n",
      "Epoch 77/100\n",
      "2/2 [==============================] - 0s 5ms/step - loss: 8.2782 - mae: 8.2782\n",
      "Epoch 78/100\n",
      "2/2 [==============================] - 0s 5ms/step - loss: 8.9704 - mae: 8.9704\n",
      "Epoch 79/100\n",
      "2/2 [==============================] - 0s 5ms/step - loss: 19.7759 - mae: 19.7759\n",
      "Epoch 80/100\n",
      "2/2 [==============================] - 0s 5ms/step - loss: 17.8240 - mae: 17.8240\n",
      "Epoch 81/100\n",
      "2/2 [==============================] - 0s 5ms/step - loss: 7.0713 - mae: 7.0713\n",
      "Epoch 82/100\n",
      "2/2 [==============================] - 0s 4ms/step - loss: 10.4078 - mae: 10.4078\n",
      "Epoch 83/100\n",
      "2/2 [==============================] - 0s 5ms/step - loss: 9.8323 - mae: 9.8323\n",
      "Epoch 84/100\n",
      "2/2 [==============================] - 0s 7ms/step - loss: 7.9308 - mae: 7.9308\n",
      "Epoch 85/100\n",
      "2/2 [==============================] - 0s 6ms/step - loss: 9.4384 - mae: 9.4384\n",
      "Epoch 86/100\n",
      "2/2 [==============================] - 0s 5ms/step - loss: 9.4838 - mae: 9.4838\n",
      "Epoch 87/100\n",
      "2/2 [==============================] - 0s 5ms/step - loss: 11.4269 - mae: 11.4269\n",
      "Epoch 88/100\n"
     ]
    },
    {
     "name": "stdout",
     "output_type": "stream",
     "text": [
      "2/2 [==============================] - 0s 5ms/step - loss: 9.9251 - mae: 9.9251\n",
      "Epoch 89/100\n",
      "2/2 [==============================] - 0s 6ms/step - loss: 7.2477 - mae: 7.2477\n",
      "Epoch 90/100\n",
      "2/2 [==============================] - 0s 4ms/step - loss: 12.6838 - mae: 12.6838\n",
      "Epoch 91/100\n",
      "2/2 [==============================] - 0s 6ms/step - loss: 7.3048 - mae: 7.3048\n",
      "Epoch 92/100\n",
      "2/2 [==============================] - 0s 5ms/step - loss: 7.6674 - mae: 7.6674\n",
      "Epoch 93/100\n",
      "2/2 [==============================] - 0s 5ms/step - loss: 7.1141 - mae: 7.1141\n",
      "Epoch 94/100\n",
      "2/2 [==============================] - 0s 4ms/step - loss: 12.5323 - mae: 12.5323\n",
      "Epoch 95/100\n",
      "2/2 [==============================] - 0s 4ms/step - loss: 9.9078 - mae: 9.9078\n",
      "Epoch 96/100\n",
      "2/2 [==============================] - 0s 5ms/step - loss: 9.1400 - mae: 9.1400\n",
      "Epoch 97/100\n",
      "2/2 [==============================] - 0s 4ms/step - loss: 12.0916 - mae: 12.0916\n",
      "Epoch 98/100\n",
      "2/2 [==============================] - 0s 5ms/step - loss: 9.0543 - mae: 9.0543\n",
      "Epoch 99/100\n",
      "2/2 [==============================] - 0s 5ms/step - loss: 8.4964 - mae: 8.4964\n",
      "Epoch 100/100\n",
      "2/2 [==============================] - 0s 5ms/step - loss: 14.4718 - mae: 14.4718\n"
     ]
    }
   ],
   "source": [
    "# Set random seed\n",
    "tf.random.set_seed(42)\n",
    "\n",
    "# 1. Create the model\n",
    "model_1 = tf.keras.Sequential([\n",
    "    tf.keras.layers.Dense(1)\n",
    "])\n",
    "\n",
    "# 2. Compile the model\n",
    "model_1.compile(loss=tf.keras.losses.mae,\n",
    "               optimizer=tf.keras.optimizers.SGD(),\n",
    "               metrics=[\"mae\"])\n",
    "\n",
    "# 3. Fit the model\n",
    "model_1.fit(tf.expand_dims(X_train,axis=-1), y_train, epochs=100);"
   ]
  },
  {
   "cell_type": "code",
   "execution_count": 64,
   "id": "a4bc8d7f",
   "metadata": {},
   "outputs": [
    {
     "name": "stdout",
     "output_type": "stream",
     "text": [
      "WARNING:tensorflow:6 out of the last 7 calls to <function Model.make_predict_function.<locals>.predict_function at 0x000001308B36FCA0> triggered tf.function retracing. Tracing is expensive and the excessive number of tracings could be due to (1) creating @tf.function repeatedly in a loop, (2) passing tensors with different shapes, (3) passing Python objects instead of tensors. For (1), please define your @tf.function outside of the loop. For (2), @tf.function has reduce_retracing=True option that can avoid unnecessary retracing. For (3), please refer to https://www.tensorflow.org/guide/function#controlling_retracing and https://www.tensorflow.org/api_docs/python/tf/function for  more details.\n",
      "1/1 [==============================] - 0s 93ms/step\n"
     ]
    },
    {
     "data": {
      "image/png": "[encoded data removed]",
      "text/plain": [
       "<Figure size 720x504 with 1 Axes>"
      ]
     },
     "metadata": {
      "needs_background": "light"
     },
     "output_type": "display_data"
    }
   ],
   "source": [
    "# Make and plot predictions for model_1\n",
    "y_preds_1 = model_1.predict(tf.expand_dims(X_test,axis=-1))\n",
    "plot_predictions(train_data=X_train,train_labels=y_train,test_data=X_test, test_labels=y_test,predictions=y_preds_1)"
   ]
  },
  {
   "cell_type": "code",
   "execution_count": 65,
   "id": "3ca03c4b",
   "metadata": {},
   "outputs": [
    {
     "data": {
      "text/plain": [
       "(<tf.Tensor: shape=(), dtype=float32, numpy=30.55804>,\n",
       " <tf.Tensor: shape=(), dtype=float32, numpy=944.16394>)"
      ]
     },
     "execution_count": 65,
     "metadata": {},
     "output_type": "execute_result"
    }
   ],
   "source": [
    "# Calculate model_1 evaluation metrics\n",
    "mae_1 = mae(y_test, tf.squeeze(y_preds_1))\n",
    "mse_1 = mse(y_test, tf.squeeze(y_preds_1))\n",
    "mae_1, mse_1"
   ]
  },
  {
   "cell_type": "code",
   "execution_count": null,
   "id": "9a1be0e4",
   "metadata": {},
   "outputs": [],
   "source": []
  },
  {
   "cell_type": "markdown",
   "id": "a70ad7e6",
   "metadata": {},
   "source": [
    "**Creating model_2**: 2 dense layers, trained for 100 epochs"
   ]
  },
  {
   "cell_type": "code",
   "execution_count": 66,
   "id": "cbb34ae4",
   "metadata": {},
   "outputs": [
    {
     "name": "stdout",
     "output_type": "stream",
     "text": [
      "Epoch 1/100\n",
      "2/2 [==============================] - 1s 4ms/step - loss: 43.2921 - mse: 2722.1082\n",
      "Epoch 2/100\n",
      "2/2 [==============================] - 0s 5ms/step - loss: 29.4051 - mse: 1136.2302\n",
      "Epoch 3/100\n",
      "2/2 [==============================] - 0s 6ms/step - loss: 34.3861 - mse: 1778.8135\n",
      "Epoch 4/100\n",
      "2/2 [==============================] - 0s 6ms/step - loss: 27.9410 - mse: 1146.6586\n",
      "Epoch 5/100\n",
      "2/2 [==============================] - 0s 5ms/step - loss: 15.2091 - mse: 293.7454\n",
      "Epoch 6/100\n",
      "2/2 [==============================] - 0s 5ms/step - loss: 12.0863 - mse: 178.4143\n",
      "Epoch 7/100\n",
      "2/2 [==============================] - 0s 6ms/step - loss: 11.3972 - mse: 157.5995\n",
      "Epoch 8/100\n",
      "2/2 [==============================] - 0s 5ms/step - loss: 11.1828 - mse: 170.6565\n",
      "Epoch 9/100\n",
      "2/2 [==============================] - 0s 4ms/step - loss: 41.4764 - mse: 2734.9885\n",
      "Epoch 10/100\n",
      "2/2 [==============================] - 0s 5ms/step - loss: 28.7403 - mse: 1166.6187\n",
      "Epoch 11/100\n",
      "2/2 [==============================] - 0s 6ms/step - loss: 9.4084 - mse: 118.8392\n",
      "Epoch 12/100\n",
      "2/2 [==============================] - 0s 6ms/step - loss: 26.2548 - mse: 953.8652\n",
      "Epoch 13/100\n",
      "2/2 [==============================] - 0s 3ms/step - loss: 14.5124 - mse: 282.8687\n",
      "Epoch 14/100\n",
      "2/2 [==============================] - 0s 6ms/step - loss: 30.0380 - mse: 1443.1434\n",
      "Epoch 15/100\n",
      "2/2 [==============================] - 0s 5ms/step - loss: 19.8533 - mse: 552.0233\n",
      "Epoch 16/100\n",
      "2/2 [==============================] - 0s 4ms/step - loss: 9.8793 - mse: 125.9667\n",
      "Epoch 17/100\n",
      "2/2 [==============================] - 0s 6ms/step - loss: 17.7420 - mse: 416.2726\n",
      "Epoch 18/100\n",
      "2/2 [==============================] - 0s 4ms/step - loss: 14.2140 - mse: 319.1757\n",
      "Epoch 19/100\n",
      "2/2 [==============================] - 0s 5ms/step - loss: 14.0568 - mse: 308.6210\n",
      "Epoch 20/100\n",
      "2/2 [==============================] - 0s 4ms/step - loss: 11.2549 - mse: 146.9424\n",
      "Epoch 21/100\n",
      "2/2 [==============================] - 0s 5ms/step - loss: 17.3831 - mse: 428.8323\n",
      "Epoch 22/100\n",
      "2/2 [==============================] - 0s 6ms/step - loss: 15.6187 - mse: 336.5127\n",
      "Epoch 23/100\n",
      "2/2 [==============================] - 0s 7ms/step - loss: 9.2349 - mse: 118.7754\n",
      "Epoch 24/100\n",
      "2/2 [==============================] - 0s 5ms/step - loss: 17.2273 - mse: 406.2220\n",
      "Epoch 25/100\n",
      "2/2 [==============================] - 0s 5ms/step - loss: 15.9134 - mse: 332.4616\n",
      "Epoch 26/100\n",
      "2/2 [==============================] - 0s 4ms/step - loss: 20.8691 - mse: 646.3825\n",
      "Epoch 27/100\n",
      "2/2 [==============================] - 0s 6ms/step - loss: 26.1018 - mse: 1064.3740\n",
      "Epoch 28/100\n",
      "2/2 [==============================] - 0s 4ms/step - loss: 18.5815 - mse: 546.7661\n",
      "Epoch 29/100\n",
      "2/2 [==============================] - 0s 4ms/step - loss: 9.2494 - mse: 97.1452\n",
      "Epoch 30/100\n",
      "2/2 [==============================] - 0s 4ms/step - loss: 29.2024 - mse: 1527.0150\n",
      "Epoch 31/100\n",
      "2/2 [==============================] - 0s 5ms/step - loss: 52.9044 - mse: 5006.9082\n",
      "Epoch 32/100\n",
      "2/2 [==============================] - 0s 5ms/step - loss: 11.9756 - mse: 210.1508\n",
      "Epoch 33/100\n",
      "2/2 [==============================] - 0s 5ms/step - loss: 15.5972 - mse: 335.4960\n",
      "Epoch 34/100\n",
      "2/2 [==============================] - 0s 3ms/step - loss: 12.6680 - mse: 212.9209\n",
      "Epoch 35/100\n",
      "2/2 [==============================] - 0s 4ms/step - loss: 9.2308 - mse: 92.5591\n",
      "Epoch 36/100\n",
      "2/2 [==============================] - 0s 4ms/step - loss: 16.5971 - mse: 400.8034\n",
      "Epoch 37/100\n",
      "2/2 [==============================] - 0s 5ms/step - loss: 11.0561 - mse: 192.3982\n",
      "Epoch 38/100\n",
      "2/2 [==============================] - 0s 5ms/step - loss: 18.1826 - mse: 434.9238\n",
      "Epoch 39/100\n",
      "2/2 [==============================] - 0s 5ms/step - loss: 19.1189 - mse: 531.1943\n",
      "Epoch 40/100\n",
      "2/2 [==============================] - 0s 4ms/step - loss: 20.4635 - mse: 611.8414\n",
      "Epoch 41/100\n",
      "2/2 [==============================] - 0s 7ms/step - loss: 14.8771 - mse: 277.7566\n",
      "Epoch 42/100\n",
      "2/2 [==============================] - 0s 6ms/step - loss: 12.2560 - mse: 184.9777\n",
      "Epoch 43/100\n",
      "2/2 [==============================] - 0s 4ms/step - loss: 10.7215 - mse: 165.5968\n",
      "Epoch 44/100\n",
      "2/2 [==============================] - 0s 5ms/step - loss: 22.9385 - mse: 823.7318\n",
      "Epoch 45/100\n",
      "2/2 [==============================] - 0s 4ms/step - loss: 10.3685 - mse: 128.8342\n",
      "Epoch 46/100\n",
      "2/2 [==============================] - 0s 4ms/step - loss: 11.7559 - mse: 179.8500\n",
      "Epoch 47/100\n",
      "2/2 [==============================] - 0s 5ms/step - loss: 9.6627 - mse: 153.7480\n",
      "Epoch 48/100\n",
      "2/2 [==============================] - 0s 5ms/step - loss: 17.2714 - mse: 404.6648\n",
      "Epoch 49/100\n",
      "2/2 [==============================] - 0s 5ms/step - loss: 9.5527 - mse: 99.3816\n",
      "Epoch 50/100\n",
      "2/2 [==============================] - 0s 5ms/step - loss: 13.7785 - mse: 257.9236\n",
      "Epoch 51/100\n",
      "2/2 [==============================] - 0s 5ms/step - loss: 11.5831 - mse: 154.1505\n",
      "Epoch 52/100\n",
      "2/2 [==============================] - 0s 3ms/step - loss: 30.4355 - mse: 1599.4932\n",
      "Epoch 53/100\n",
      "2/2 [==============================] - 0s 5ms/step - loss: 14.3044 - mse: 300.1293\n",
      "Epoch 54/100\n",
      "2/2 [==============================] - 0s 4ms/step - loss: 23.6540 - mse: 842.9984\n",
      "Epoch 55/100\n",
      "2/2 [==============================] - 0s 6ms/step - loss: 24.5857 - mse: 912.7614\n",
      "Epoch 56/100\n",
      "2/2 [==============================] - 0s 7ms/step - loss: 11.3355 - mse: 171.6994\n",
      "Epoch 57/100\n",
      "2/2 [==============================] - 0s 4ms/step - loss: 13.3538 - mse: 225.0787\n",
      "Epoch 58/100\n",
      "2/2 [==============================] - 0s 5ms/step - loss: 9.9432 - mse: 109.3883\n",
      "Epoch 59/100\n",
      "2/2 [==============================] - 0s 4ms/step - loss: 13.9093 - mse: 275.4059\n",
      "Epoch 60/100\n",
      "2/2 [==============================] - 0s 7ms/step - loss: 9.9861 - mse: 118.7166\n",
      "Epoch 61/100\n",
      "2/2 [==============================] - 0s 6ms/step - loss: 14.9667 - mse: 307.9473\n",
      "Epoch 62/100\n",
      "2/2 [==============================] - 0s 4ms/step - loss: 11.9205 - mse: 196.4387\n",
      "Epoch 63/100\n",
      "2/2 [==============================] - 0s 5ms/step - loss: 10.2829 - mse: 134.8102\n",
      "Epoch 64/100\n",
      "2/2 [==============================] - 0s 3ms/step - loss: 23.8846 - mse: 838.3991\n",
      "Epoch 65/100\n",
      "2/2 [==============================] - 0s 5ms/step - loss: 10.4595 - mse: 130.1082\n",
      "Epoch 66/100\n",
      "2/2 [==============================] - 0s 4ms/step - loss: 20.9311 - mse: 644.3653\n",
      "Epoch 67/100\n",
      "2/2 [==============================] - 0s 5ms/step - loss: 10.4379 - mse: 126.2296\n",
      "Epoch 68/100\n",
      "2/2 [==============================] - 0s 4ms/step - loss: 14.1751 - mse: 302.5486\n",
      "Epoch 69/100\n",
      "2/2 [==============================] - 0s 5ms/step - loss: 10.5097 - mse: 125.9131\n",
      "Epoch 70/100\n",
      "2/2 [==============================] - 0s 3ms/step - loss: 12.5808 - mse: 200.8149\n",
      "Epoch 71/100\n",
      "2/2 [==============================] - 0s 6ms/step - loss: 13.0115 - mse: 225.9797\n",
      "Epoch 72/100\n",
      "2/2 [==============================] - 0s 6ms/step - loss: 19.3621 - mse: 531.9694\n",
      "Epoch 73/100\n",
      "2/2 [==============================] - 0s 5ms/step - loss: 11.1257 - mse: 193.1573\n",
      "Epoch 74/100\n",
      "2/2 [==============================] - 0s 4ms/step - loss: 21.6021 - mse: 725.5806\n",
      "Epoch 75/100\n",
      "2/2 [==============================] - 0s 4ms/step - loss: 7.2244 - mse: 71.5303\n",
      "Epoch 76/100\n",
      "2/2 [==============================] - 0s 3ms/step - loss: 9.4561 - mse: 148.9957\n",
      "Epoch 77/100\n",
      "2/2 [==============================] - 0s 4ms/step - loss: 22.1716 - mse: 733.7189\n",
      "Epoch 78/100\n",
      "2/2 [==============================] - 0s 6ms/step - loss: 17.4619 - mse: 463.5499\n",
      "Epoch 79/100\n",
      "2/2 [==============================] - 0s 5ms/step - loss: 14.7024 - mse: 316.2645\n",
      "Epoch 80/100\n",
      "2/2 [==============================] - 0s 5ms/step - loss: 24.7124 - mse: 934.2965\n",
      "Epoch 81/100\n",
      "2/2 [==============================] - 0s 6ms/step - loss: 11.5491 - mse: 165.1139\n",
      "Epoch 82/100\n",
      "2/2 [==============================] - 0s 5ms/step - loss: 12.3934 - mse: 226.0293\n",
      "Epoch 83/100\n",
      "2/2 [==============================] - 0s 6ms/step - loss: 17.0450 - mse: 377.8484\n",
      "Epoch 84/100\n",
      "2/2 [==============================] - 0s 5ms/step - loss: 7.2470 - mse: 75.3910\n",
      "Epoch 85/100\n",
      "2/2 [==============================] - 0s 4ms/step - loss: 37.3847 - mse: 2250.4756\n",
      "Epoch 86/100\n"
     ]
    },
    {
     "name": "stdout",
     "output_type": "stream",
     "text": [
      "2/2 [==============================] - 0s 4ms/step - loss: 21.3473 - mse: 654.5048\n",
      "Epoch 87/100\n",
      "2/2 [==============================] - 0s 6ms/step - loss: 11.0675 - mse: 148.6059\n",
      "Epoch 88/100\n",
      "2/2 [==============================] - 0s 5ms/step - loss: 25.2211 - mse: 905.4618\n",
      "Epoch 89/100\n",
      "2/2 [==============================] - 0s 5ms/step - loss: 9.3939 - mse: 136.1537\n",
      "Epoch 90/100\n",
      "2/2 [==============================] - 0s 5ms/step - loss: 17.4774 - mse: 438.3699\n",
      "Epoch 91/100\n",
      "2/2 [==============================] - 0s 4ms/step - loss: 10.8425 - mse: 160.5878\n",
      "Epoch 92/100\n",
      "2/2 [==============================] - 0s 6ms/step - loss: 19.1659 - mse: 506.5380\n",
      "Epoch 93/100\n",
      "2/2 [==============================] - 0s 6ms/step - loss: 8.3514 - mse: 102.2332\n",
      "Epoch 94/100\n",
      "2/2 [==============================] - 0s 5ms/step - loss: 11.5964 - mse: 180.5204\n",
      "Epoch 95/100\n",
      "2/2 [==============================] - 0s 5ms/step - loss: 26.2109 - mse: 1043.2969\n",
      "Epoch 96/100\n",
      "2/2 [==============================] - 0s 5ms/step - loss: 11.2248 - mse: 169.9830\n",
      "Epoch 97/100\n",
      "2/2 [==============================] - 0s 5ms/step - loss: 16.8521 - mse: 433.5666\n",
      "Epoch 98/100\n",
      "2/2 [==============================] - 0s 5ms/step - loss: 6.5999 - mse: 60.7640\n",
      "Epoch 99/100\n",
      "2/2 [==============================] - 0s 4ms/step - loss: 12.5964 - mse: 229.5994\n",
      "Epoch 100/100\n",
      "2/2 [==============================] - 0s 5ms/step - loss: 19.3960 - mse: 552.4417\n"
     ]
    },
    {
     "data": {
      "text/plain": [
       "<keras.callbacks.History at 0x1308c58c040>"
      ]
     },
     "execution_count": 66,
     "metadata": {},
     "output_type": "execute_result"
    }
   ],
   "source": [
    "# Set the random seed\n",
    "tf.random.set_seed(42)\n",
    "\n",
    "# 1. Create the model\n",
    "model_2 = tf.keras.Sequential([\n",
    "    tf.keras.layers.Dense(10, input_shape=[1], name=\"input_layer\"), # the number of unit (10) here is arbitrary, can be \n",
    "                                                                    #   set to anything\n",
    "    tf.keras.layers.Dense(1)\n",
    "])\n",
    "\n",
    "# 2. Compiling the model\n",
    "model_2.compile(loss=tf.keras.losses.mae,\n",
    "               optimizer= tf.keras.optimizers.SGD(),\n",
    "               metrics=[\"mse\"])\n",
    "\n",
    "# 3. Fit the model\n",
    "model_2.fit(X_train, y_train, epochs=100)"
   ]
  },
  {
   "cell_type": "code",
   "execution_count": 67,
   "id": "66520bba",
   "metadata": {},
   "outputs": [
    {
     "data": {
      "text/plain": [
       "<tf.Tensor: shape=(10,), dtype=int32, numpy=array([60, 64, 68, 72, 76, 80, 84, 88, 92, 96])>"
      ]
     },
     "execution_count": 67,
     "metadata": {},
     "output_type": "execute_result"
    }
   ],
   "source": [
    "X_test"
   ]
  },
  {
   "cell_type": "code",
   "execution_count": 68,
   "id": "dd823c5a",
   "metadata": {},
   "outputs": [
    {
     "name": "stdout",
     "output_type": "stream",
     "text": [
      "1/1 [==============================] - 0s 103ms/step\n"
     ]
    },
    {
     "data": {
      "image/png": "[encoded data removed]",
      "text/plain": [
       "<Figure size 720x504 with 1 Axes>"
      ]
     },
     "metadata": {
      "needs_background": "light"
     },
     "output_type": "display_data"
    }
   ],
   "source": [
    "# Make and plot predictions of model_2\n",
    "y_preds_2 = model_2.predict(X_test)\n",
    "plot_predictions(predictions=y_preds_2) #train_data=X_train,train_labels=y_train,test_data=X_test, test_labels=y_test,"
   ]
  },
  {
   "cell_type": "markdown",
   "id": "da9172b2",
   "metadata": {},
   "source": [
    "Our red dots (predictions) are a lot closer to the green dots (test label). This model is much better than the previous one."
   ]
  },
  {
   "cell_type": "code",
   "execution_count": 69,
   "id": "e546497e",
   "metadata": {},
   "outputs": [
    {
     "data": {
      "text/plain": [
       "(<tf.Tensor: shape=(), dtype=float32, numpy=13.310046>,\n",
       " <tf.Tensor: shape=(), dtype=float32, numpy=187.24382>)"
      ]
     },
     "execution_count": 69,
     "metadata": {},
     "output_type": "execute_result"
    }
   ],
   "source": [
    "# Calculate model_2 evaluation metrics\n",
    "mae_2 = mae(y_test, tf.squeeze(y_preds_2))\n",
    "mse_2 = mse(y_test, tf.squeeze(y_preds_2))\n",
    "\n",
    "mae_2, mse_2"
   ]
  },
  {
   "cell_type": "code",
   "execution_count": 70,
   "id": "c8bdb12d",
   "metadata": {},
   "outputs": [
    {
     "data": {
      "text/plain": [
       "(<tf.Tensor: shape=(), dtype=float32, numpy=30.55804>,\n",
       " <tf.Tensor: shape=(), dtype=float32, numpy=944.16394>)"
      ]
     },
     "execution_count": 70,
     "metadata": {},
     "output_type": "execute_result"
    }
   ],
   "source": [
    "# Let's compare the above metrics with mae_1 & mse_1\n",
    "mae_1, mse_1"
   ]
  },
  {
   "cell_type": "markdown",
   "id": "87641eb8",
   "metadata": {},
   "source": [
    "We can confirm that model_2 is doing much better than model_1"
   ]
  },
  {
   "cell_type": "code",
   "execution_count": null,
   "id": "598ee01d",
   "metadata": {},
   "outputs": [],
   "source": []
  },
  {
   "cell_type": "markdown",
   "id": "3ea78437",
   "metadata": {},
   "source": [
    "**Build `model_3`** - 2 layers, trained for 500 epochs   \n",
    "\n",
    "The only thing we will change here, compared to model_2, is the number of epochs."
   ]
  },
  {
   "cell_type": "code",
   "execution_count": 71,
   "id": "53aed91f",
   "metadata": {},
   "outputs": [
    {
     "name": "stdout",
     "output_type": "stream",
     "text": [
      "Epoch 1/500\n",
      "2/2 [==============================] - 1s 6ms/step - loss: 21.6562 - mae: 21.6562\n",
      "Epoch 2/500\n",
      "2/2 [==============================] - 0s 5ms/step - loss: 21.9205 - mae: 21.9205\n",
      "Epoch 3/500\n",
      "2/2 [==============================] - 0s 4ms/step - loss: 28.4635 - mae: 28.4635\n",
      "Epoch 4/500\n",
      "2/2 [==============================] - 0s 4ms/step - loss: 21.9731 - mae: 21.9731\n",
      "Epoch 5/500\n",
      "2/2 [==============================] - 0s 6ms/step - loss: 13.2235 - mae: 13.2235\n",
      "Epoch 6/500\n",
      "2/2 [==============================] - 0s 6ms/step - loss: 10.6622 - mae: 10.6622\n",
      "Epoch 7/500\n",
      "2/2 [==============================] - 0s 6ms/step - loss: 11.5983 - mae: 11.5983\n",
      "Epoch 8/500\n",
      "2/2 [==============================] - 0s 5ms/step - loss: 10.7113 - mae: 10.7113\n",
      "Epoch 9/500\n",
      "2/2 [==============================] - 0s 5ms/step - loss: 35.7704 - mae: 35.7704\n",
      "Epoch 10/500\n",
      "2/2 [==============================] - 0s 5ms/step - loss: 23.7074 - mae: 23.7074\n",
      "Epoch 11/500\n",
      "2/2 [==============================] - 0s 7ms/step - loss: 11.8433 - mae: 11.8433\n",
      "Epoch 12/500\n",
      "2/2 [==============================] - 0s 5ms/step - loss: 23.7941 - mae: 23.7941\n",
      "Epoch 13/500\n",
      "2/2 [==============================] - 0s 5ms/step - loss: 20.6985 - mae: 20.6985\n",
      "Epoch 14/500\n",
      "2/2 [==============================] - 0s 5ms/step - loss: 23.0485 - mae: 23.0485\n",
      "Epoch 15/500\n",
      "2/2 [==============================] - 0s 5ms/step - loss: 15.0084 - mae: 15.0084\n",
      "Epoch 16/500\n",
      "2/2 [==============================] - 0s 4ms/step - loss: 11.2424 - mae: 11.2424\n",
      "Epoch 17/500\n",
      "2/2 [==============================] - 0s 5ms/step - loss: 22.8130 - mae: 22.8130\n",
      "Epoch 18/500\n",
      "2/2 [==============================] - 0s 6ms/step - loss: 11.2755 - mae: 11.2755\n",
      "Epoch 19/500\n",
      "2/2 [==============================] - 0s 5ms/step - loss: 13.7852 - mae: 13.7852\n",
      "Epoch 20/500\n",
      "2/2 [==============================] - 0s 4ms/step - loss: 11.1323 - mae: 11.1323\n",
      "Epoch 21/500\n",
      "2/2 [==============================] - 0s 7ms/step - loss: 17.0875 - mae: 17.0875\n",
      "Epoch 22/500\n",
      "2/2 [==============================] - 0s 4ms/step - loss: 15.3258 - mae: 15.3258\n",
      "Epoch 23/500\n",
      "2/2 [==============================] - 0s 6ms/step - loss: 9.2570 - mae: 9.2570\n",
      "Epoch 24/500\n",
      "2/2 [==============================] - 0s 5ms/step - loss: 17.3446 - mae: 17.3446\n",
      "Epoch 25/500\n",
      "2/2 [==============================] - 0s 5ms/step - loss: 15.9966 - mae: 15.9966\n",
      "Epoch 26/500\n",
      "2/2 [==============================] - 0s 5ms/step - loss: 21.0652 - mae: 21.0652\n",
      "Epoch 27/500\n",
      "2/2 [==============================] - 0s 4ms/step - loss: 25.6648 - mae: 25.6648\n",
      "Epoch 28/500\n",
      "2/2 [==============================] - 0s 4ms/step - loss: 18.2021 - mae: 18.2021\n",
      "Epoch 29/500\n",
      "2/2 [==============================] - 0s 6ms/step - loss: 9.2385 - mae: 9.2385\n",
      "Epoch 30/500\n",
      "2/2 [==============================] - 0s 4ms/step - loss: 28.7949 - mae: 28.7949\n",
      "Epoch 31/500\n",
      "2/2 [==============================] - 0s 5ms/step - loss: 52.1209 - mae: 52.1209\n",
      "Epoch 32/500\n",
      "2/2 [==============================] - 0s 5ms/step - loss: 11.4570 - mae: 11.4570\n",
      "Epoch 33/500\n",
      "2/2 [==============================] - 0s 5ms/step - loss: 12.1993 - mae: 12.1993\n",
      "Epoch 34/500\n",
      "2/2 [==============================] - 0s 5ms/step - loss: 24.0180 - mae: 24.0180\n",
      "Epoch 35/500\n",
      "2/2 [==============================] - 0s 4ms/step - loss: 12.0078 - mae: 12.0078\n",
      "Epoch 36/500\n",
      "2/2 [==============================] - 0s 4ms/step - loss: 22.3656 - mae: 22.3656\n",
      "Epoch 37/500\n",
      "2/2 [==============================] - 0s 4ms/step - loss: 17.1207 - mae: 17.1207\n",
      "Epoch 38/500\n",
      "2/2 [==============================] - 0s 5ms/step - loss: 10.5695 - mae: 10.5695\n",
      "Epoch 39/500\n",
      "2/2 [==============================] - 0s 5ms/step - loss: 11.0867 - mae: 11.0867\n",
      "Epoch 40/500\n",
      "2/2 [==============================] - 0s 5ms/step - loss: 17.6785 - mae: 17.6785\n",
      "Epoch 41/500\n",
      "2/2 [==============================] - 0s 6ms/step - loss: 10.2677 - mae: 10.2677\n",
      "Epoch 42/500\n",
      "2/2 [==============================] - 0s 5ms/step - loss: 7.1497 - mae: 7.1497\n",
      "Epoch 43/500\n",
      "2/2 [==============================] - 0s 5ms/step - loss: 15.3643 - mae: 15.3643\n",
      "Epoch 44/500\n",
      "2/2 [==============================] - 0s 4ms/step - loss: 25.0872 - mae: 25.0872\n",
      "Epoch 45/500\n",
      "2/2 [==============================] - 0s 5ms/step - loss: 12.1233 - mae: 12.1233\n",
      "Epoch 46/500\n",
      "2/2 [==============================] - 0s 4ms/step - loss: 16.4668 - mae: 16.4668\n",
      "Epoch 47/500\n",
      "2/2 [==============================] - 0s 4ms/step - loss: 14.9366 - mae: 14.9366\n",
      "Epoch 48/500\n",
      "2/2 [==============================] - 0s 6ms/step - loss: 14.1415 - mae: 14.1415\n",
      "Epoch 49/500\n",
      "2/2 [==============================] - 0s 6ms/step - loss: 13.7057 - mae: 13.7057\n",
      "Epoch 50/500\n",
      "2/2 [==============================] - 0s 5ms/step - loss: 12.5843 - mae: 12.5843\n",
      "Epoch 51/500\n",
      "2/2 [==============================] - 0s 5ms/step - loss: 14.6550 - mae: 14.6550\n",
      "Epoch 52/500\n",
      "2/2 [==============================] - 0s 5ms/step - loss: 18.5773 - mae: 18.5773\n",
      "Epoch 53/500\n",
      "2/2 [==============================] - 0s 4ms/step - loss: 23.8426 - mae: 23.8426\n",
      "Epoch 54/500\n",
      "2/2 [==============================] - 0s 4ms/step - loss: 24.1834 - mae: 24.1834\n",
      "Epoch 55/500\n",
      "2/2 [==============================] - 0s 6ms/step - loss: 23.4264 - mae: 23.4264\n",
      "Epoch 56/500\n",
      "2/2 [==============================] - 0s 6ms/step - loss: 10.9653 - mae: 10.9653\n",
      "Epoch 57/500\n",
      "2/2 [==============================] - 0s 5ms/step - loss: 12.8497 - mae: 12.8497\n",
      "Epoch 58/500\n",
      "2/2 [==============================] - 0s 3ms/step - loss: 9.6603 - mae: 9.6603\n",
      "Epoch 59/500\n",
      "2/2 [==============================] - 0s 4ms/step - loss: 13.0065 - mae: 13.0065\n",
      "Epoch 60/500\n",
      "2/2 [==============================] - 0s 6ms/step - loss: 10.6945 - mae: 10.6945\n",
      "Epoch 61/500\n",
      "2/2 [==============================] - 0s 5ms/step - loss: 17.4516 - mae: 17.4516\n",
      "Epoch 62/500\n",
      "2/2 [==============================] - 0s 4ms/step - loss: 10.6066 - mae: 10.6066\n",
      "Epoch 63/500\n",
      "2/2 [==============================] - 0s 5ms/step - loss: 10.4923 - mae: 10.4923\n",
      "Epoch 64/500\n",
      "2/2 [==============================] - 0s 5ms/step - loss: 24.8165 - mae: 24.8165\n",
      "Epoch 65/500\n",
      "2/2 [==============================] - 0s 5ms/step - loss: 10.6776 - mae: 10.6776\n",
      "Epoch 66/500\n",
      "2/2 [==============================] - 0s 7ms/step - loss: 21.7510 - mae: 21.7510\n",
      "Epoch 67/500\n",
      "2/2 [==============================] - 0s 4ms/step - loss: 10.7100 - mae: 10.7100\n",
      "Epoch 68/500\n",
      "2/2 [==============================] - 0s 5ms/step - loss: 10.6382 - mae: 10.6382\n",
      "Epoch 69/500\n",
      "2/2 [==============================] - 0s 3ms/step - loss: 22.6390 - mae: 22.6390\n",
      "Epoch 70/500\n",
      "2/2 [==============================] - 0s 5ms/step - loss: 9.3465 - mae: 9.3465\n",
      "Epoch 71/500\n",
      "2/2 [==============================] - 0s 4ms/step - loss: 15.4589 - mae: 15.4589\n",
      "Epoch 72/500\n",
      "2/2 [==============================] - 0s 4ms/step - loss: 7.0235 - mae: 7.0235\n",
      "Epoch 73/500\n",
      "2/2 [==============================] - 0s 6ms/step - loss: 12.2219 - mae: 12.2219\n",
      "Epoch 74/500\n",
      "2/2 [==============================] - 0s 4ms/step - loss: 17.3679 - mae: 17.3679\n",
      "Epoch 75/500\n",
      "2/2 [==============================] - 0s 5ms/step - loss: 7.2276 - mae: 7.2276\n",
      "Epoch 76/500\n",
      "2/2 [==============================] - 0s 5ms/step - loss: 9.4640 - mae: 9.4640\n",
      "Epoch 77/500\n",
      "2/2 [==============================] - 0s 6ms/step - loss: 22.1997 - mae: 22.1997\n",
      "Epoch 78/500\n",
      "2/2 [==============================] - 0s 5ms/step - loss: 17.4298 - mae: 17.4298\n",
      "Epoch 79/500\n",
      "2/2 [==============================] - 0s 4ms/step - loss: 14.6818 - mae: 14.6818\n",
      "Epoch 80/500\n",
      "2/2 [==============================] - 0s 6ms/step - loss: 24.6709 - mae: 24.6709\n",
      "Epoch 81/500\n",
      "2/2 [==============================] - 0s 4ms/step - loss: 11.5285 - mae: 11.5285\n",
      "Epoch 82/500\n",
      "2/2 [==============================] - 0s 6ms/step - loss: 12.4082 - mae: 12.4082\n",
      "Epoch 83/500\n",
      "2/2 [==============================] - 0s 4ms/step - loss: 17.0653 - mae: 17.0653\n",
      "Epoch 84/500\n",
      "2/2 [==============================] - 0s 5ms/step - loss: 7.2557 - mae: 7.2557\n",
      "Epoch 85/500\n",
      "2/2 [==============================] - 0s 4ms/step - loss: 37.3181 - mae: 37.3181\n",
      "Epoch 86/500\n",
      "2/2 [==============================] - 0s 5ms/step - loss: 21.2972 - mae: 21.2972\n",
      "Epoch 87/500\n"
     ]
    },
    {
     "name": "stdout",
     "output_type": "stream",
     "text": [
      "2/2 [==============================] - 0s 4ms/step - loss: 11.0583 - mae: 11.0583\n",
      "Epoch 88/500\n",
      "2/2 [==============================] - 0s 5ms/step - loss: 25.1609 - mae: 25.1609\n",
      "Epoch 89/500\n",
      "2/2 [==============================] - 0s 4ms/step - loss: 9.3852 - mae: 9.3852\n",
      "Epoch 90/500\n",
      "2/2 [==============================] - 0s 6ms/step - loss: 17.4313 - mae: 17.4313\n",
      "Epoch 91/500\n",
      "2/2 [==============================] - 0s 5ms/step - loss: 10.8285 - mae: 10.8285\n",
      "Epoch 92/500\n",
      "2/2 [==============================] - 0s 6ms/step - loss: 19.1118 - mae: 19.1118\n",
      "Epoch 93/500\n",
      "2/2 [==============================] - 0s 3ms/step - loss: 8.3391 - mae: 8.3391\n",
      "Epoch 94/500\n",
      "2/2 [==============================] - 0s 5ms/step - loss: 11.5807 - mae: 11.5807\n",
      "Epoch 95/500\n",
      "2/2 [==============================] - 0s 6ms/step - loss: 26.1349 - mae: 26.1349\n",
      "Epoch 96/500\n",
      "2/2 [==============================] - 0s 5ms/step - loss: 11.2074 - mae: 11.2074\n",
      "Epoch 97/500\n",
      "2/2 [==============================] - 0s 5ms/step - loss: 16.7965 - mae: 16.7965\n",
      "Epoch 98/500\n",
      "2/2 [==============================] - 0s 5ms/step - loss: 6.6025 - mae: 6.6025\n",
      "Epoch 99/500\n",
      "2/2 [==============================] - 0s 5ms/step - loss: 12.6118 - mae: 12.6118\n",
      "Epoch 100/500\n",
      "2/2 [==============================] - 0s 6ms/step - loss: 19.4275 - mae: 19.4275\n",
      "Epoch 101/500\n",
      "2/2 [==============================] - 0s 5ms/step - loss: 16.0481 - mae: 16.0481\n",
      "Epoch 102/500\n",
      "2/2 [==============================] - 0s 5ms/step - loss: 11.1883 - mae: 11.1883\n",
      "Epoch 103/500\n",
      "2/2 [==============================] - 0s 4ms/step - loss: 9.3335 - mae: 9.3335\n",
      "Epoch 104/500\n",
      "2/2 [==============================] - 0s 6ms/step - loss: 24.8795 - mae: 24.8795\n",
      "Epoch 105/500\n",
      "2/2 [==============================] - 0s 5ms/step - loss: 11.9580 - mae: 11.9580\n",
      "Epoch 106/500\n",
      "2/2 [==============================] - 0s 5ms/step - loss: 10.0864 - mae: 10.0864\n",
      "Epoch 107/500\n",
      "2/2 [==============================] - 0s 4ms/step - loss: 22.4130 - mae: 22.4130\n",
      "Epoch 108/500\n",
      "2/2 [==============================] - 0s 4ms/step - loss: 8.1251 - mae: 8.1251\n",
      "Epoch 109/500\n",
      "2/2 [==============================] - 0s 5ms/step - loss: 13.2769 - mae: 13.2769\n",
      "Epoch 110/500\n",
      "2/2 [==============================] - 0s 6ms/step - loss: 8.0169 - mae: 8.0169\n",
      "Epoch 111/500\n",
      "2/2 [==============================] - 0s 4ms/step - loss: 15.8150 - mae: 15.8150\n",
      "Epoch 112/500\n",
      "2/2 [==============================] - 0s 4ms/step - loss: 8.7482 - mae: 8.7482\n",
      "Epoch 113/500\n",
      "2/2 [==============================] - 0s 5ms/step - loss: 22.5376 - mae: 22.5376\n",
      "Epoch 114/500\n",
      "2/2 [==============================] - 0s 5ms/step - loss: 18.9069 - mae: 18.9069\n",
      "Epoch 115/500\n",
      "2/2 [==============================] - 0s 5ms/step - loss: 11.0718 - mae: 11.0718\n",
      "Epoch 116/500\n",
      "2/2 [==============================] - 0s 4ms/step - loss: 22.9674 - mae: 22.9674\n",
      "Epoch 117/500\n",
      "2/2 [==============================] - 0s 6ms/step - loss: 9.5406 - mae: 9.5406\n",
      "Epoch 118/500\n",
      "2/2 [==============================] - 0s 3ms/step - loss: 10.5898 - mae: 10.5898\n",
      "Epoch 119/500\n",
      "2/2 [==============================] - 0s 7ms/step - loss: 8.0549 - mae: 8.0549\n",
      "Epoch 120/500\n",
      "2/2 [==============================] - 0s 5ms/step - loss: 29.1818 - mae: 29.1818\n",
      "Epoch 121/500\n",
      "2/2 [==============================] - 0s 5ms/step - loss: 8.0916 - mae: 8.0916\n",
      "Epoch 122/500\n",
      "2/2 [==============================] - 0s 4ms/step - loss: 27.8762 - mae: 27.8762\n",
      "Epoch 123/500\n",
      "2/2 [==============================] - 0s 7ms/step - loss: 32.3638 - mae: 32.3638\n",
      "Epoch 124/500\n",
      "2/2 [==============================] - 0s 5ms/step - loss: 19.2346 - mae: 19.2346\n",
      "Epoch 125/500\n",
      "2/2 [==============================] - 0s 3ms/step - loss: 9.4980 - mae: 9.4980\n",
      "Epoch 126/500\n",
      "2/2 [==============================] - 0s 4ms/step - loss: 9.5749 - mae: 9.5749\n",
      "Epoch 127/500\n",
      "2/2 [==============================] - 0s 4ms/step - loss: 12.2798 - mae: 12.2798\n",
      "Epoch 128/500\n",
      "2/2 [==============================] - 0s 5ms/step - loss: 15.2907 - mae: 15.2907\n",
      "Epoch 129/500\n",
      "2/2 [==============================] - 0s 4ms/step - loss: 9.6504 - mae: 9.6504\n",
      "Epoch 130/500\n",
      "2/2 [==============================] - 0s 4ms/step - loss: 20.6819 - mae: 20.6819\n",
      "Epoch 131/500\n",
      "2/2 [==============================] - 0s 4ms/step - loss: 9.3501 - mae: 9.3501\n",
      "Epoch 132/500\n",
      "2/2 [==============================] - 0s 5ms/step - loss: 16.7308 - mae: 16.7308\n",
      "Epoch 133/500\n",
      "2/2 [==============================] - 0s 4ms/step - loss: 7.7165 - mae: 7.7165\n",
      "Epoch 134/500\n",
      "2/2 [==============================] - 0s 5ms/step - loss: 19.0946 - mae: 19.0946\n",
      "Epoch 135/500\n",
      "2/2 [==============================] - 0s 4ms/step - loss: 10.7534 - mae: 10.7534\n",
      "Epoch 136/500\n",
      "2/2 [==============================] - 0s 5ms/step - loss: 18.6783 - mae: 18.6783\n",
      "Epoch 137/500\n",
      "2/2 [==============================] - 0s 6ms/step - loss: 23.7249 - mae: 23.7249\n",
      "Epoch 138/500\n",
      "2/2 [==============================] - 0s 4ms/step - loss: 9.3845 - mae: 9.3845\n",
      "Epoch 139/500\n",
      "2/2 [==============================] - 0s 4ms/step - loss: 9.0829 - mae: 9.0829\n",
      "Epoch 140/500\n",
      "2/2 [==============================] - 0s 5ms/step - loss: 17.1056 - mae: 17.1056\n",
      "Epoch 141/500\n",
      "2/2 [==============================] - 0s 6ms/step - loss: 8.3569 - mae: 8.3569\n",
      "Epoch 142/500\n",
      "2/2 [==============================] - 0s 5ms/step - loss: 34.2147 - mae: 34.2147\n",
      "Epoch 143/500\n",
      "2/2 [==============================] - 0s 4ms/step - loss: 23.2583 - mae: 23.2583\n",
      "Epoch 144/500\n",
      "2/2 [==============================] - 0s 5ms/step - loss: 10.4919 - mae: 10.4919\n",
      "Epoch 145/500\n",
      "2/2 [==============================] - 0s 4ms/step - loss: 25.8677 - mae: 25.8677\n",
      "Epoch 146/500\n",
      "2/2 [==============================] - 0s 5ms/step - loss: 9.9100 - mae: 9.9100\n",
      "Epoch 147/500\n",
      "2/2 [==============================] - 0s 6ms/step - loss: 15.0346 - mae: 15.0346\n",
      "Epoch 148/500\n",
      "2/2 [==============================] - 0s 5ms/step - loss: 17.4761 - mae: 17.4761\n",
      "Epoch 149/500\n",
      "2/2 [==============================] - 0s 4ms/step - loss: 8.7922 - mae: 8.7922\n",
      "Epoch 150/500\n",
      "2/2 [==============================] - 0s 5ms/step - loss: 7.7602 - mae: 7.7602\n",
      "Epoch 151/500\n",
      "2/2 [==============================] - 0s 6ms/step - loss: 19.8688 - mae: 19.8688\n",
      "Epoch 152/500\n",
      "2/2 [==============================] - 0s 5ms/step - loss: 10.2620 - mae: 10.2620\n",
      "Epoch 153/500\n",
      "2/2 [==============================] - 0s 6ms/step - loss: 29.2119 - mae: 29.2119\n",
      "Epoch 154/500\n",
      "2/2 [==============================] - 0s 4ms/step - loss: 10.6630 - mae: 10.6630\n",
      "Epoch 155/500\n",
      "2/2 [==============================] - 0s 6ms/step - loss: 15.5515 - mae: 15.5515\n",
      "Epoch 156/500\n",
      "2/2 [==============================] - 0s 4ms/step - loss: 17.2215 - mae: 17.2215\n",
      "Epoch 157/500\n",
      "2/2 [==============================] - 0s 5ms/step - loss: 32.2991 - mae: 32.2991\n",
      "Epoch 158/500\n",
      "2/2 [==============================] - 0s 5ms/step - loss: 10.5922 - mae: 10.5922\n",
      "Epoch 159/500\n",
      "2/2 [==============================] - 0s 6ms/step - loss: 8.8711 - mae: 8.8711\n",
      "Epoch 160/500\n",
      "2/2 [==============================] - 0s 6ms/step - loss: 21.7304 - mae: 21.7304\n",
      "Epoch 161/500\n",
      "2/2 [==============================] - 0s 4ms/step - loss: 11.0648 - mae: 11.0648\n",
      "Epoch 162/500\n",
      "2/2 [==============================] - 0s 5ms/step - loss: 21.2624 - mae: 21.2624\n",
      "Epoch 163/500\n",
      "2/2 [==============================] - 0s 4ms/step - loss: 18.7574 - mae: 18.7574\n",
      "Epoch 164/500\n",
      "2/2 [==============================] - 0s 5ms/step - loss: 12.6037 - mae: 12.6037\n",
      "Epoch 165/500\n",
      "2/2 [==============================] - 0s 5ms/step - loss: 12.7695 - mae: 12.7695\n",
      "Epoch 166/500\n",
      "2/2 [==============================] - 0s 6ms/step - loss: 18.9841 - mae: 18.9841\n",
      "Epoch 167/500\n",
      "2/2 [==============================] - 0s 4ms/step - loss: 26.6340 - mae: 26.6340\n",
      "Epoch 168/500\n",
      "2/2 [==============================] - 0s 4ms/step - loss: 9.9674 - mae: 9.9674\n",
      "Epoch 169/500\n",
      "2/2 [==============================] - 0s 7ms/step - loss: 22.8708 - mae: 22.8708\n",
      "Epoch 170/500\n",
      "2/2 [==============================] - 0s 5ms/step - loss: 10.1257 - mae: 10.1257\n",
      "Epoch 171/500\n",
      "2/2 [==============================] - 0s 5ms/step - loss: 17.9305 - mae: 17.9305\n",
      "Epoch 172/500\n",
      "2/2 [==============================] - 0s 4ms/step - loss: 29.1250 - mae: 29.1250\n",
      "Epoch 173/500\n"
     ]
    },
    {
     "name": "stdout",
     "output_type": "stream",
     "text": [
      "2/2 [==============================] - 0s 5ms/step - loss: 16.7704 - mae: 16.7704\n",
      "Epoch 174/500\n",
      "2/2 [==============================] - 0s 5ms/step - loss: 11.2090 - mae: 11.2090\n",
      "Epoch 175/500\n",
      "2/2 [==============================] - 0s 3ms/step - loss: 27.5160 - mae: 27.5160\n",
      "Epoch 176/500\n",
      "2/2 [==============================] - 0s 5ms/step - loss: 8.3891 - mae: 8.3891\n",
      "Epoch 177/500\n",
      "2/2 [==============================] - 0s 4ms/step - loss: 9.3617 - mae: 9.3617\n",
      "Epoch 178/500\n",
      "2/2 [==============================] - 0s 5ms/step - loss: 18.3499 - mae: 18.3499\n",
      "Epoch 179/500\n",
      "2/2 [==============================] - 0s 6ms/step - loss: 10.5218 - mae: 10.5218\n",
      "Epoch 180/500\n",
      "2/2 [==============================] - 0s 6ms/step - loss: 7.9766 - mae: 7.9766\n",
      "Epoch 181/500\n",
      "2/2 [==============================] - 0s 7ms/step - loss: 17.5498 - mae: 17.5498\n",
      "Epoch 182/500\n",
      "2/2 [==============================] - 0s 5ms/step - loss: 11.1182 - mae: 11.1182\n",
      "Epoch 183/500\n",
      "2/2 [==============================] - 0s 5ms/step - loss: 11.7792 - mae: 11.7792\n",
      "Epoch 184/500\n",
      "2/2 [==============================] - 0s 4ms/step - loss: 30.5787 - mae: 30.5787\n",
      "Epoch 185/500\n",
      "2/2 [==============================] - 0s 5ms/step - loss: 7.5844 - mae: 7.5844\n",
      "Epoch 186/500\n",
      "2/2 [==============================] - 0s 6ms/step - loss: 15.9655 - mae: 15.9655\n",
      "Epoch 187/500\n",
      "2/2 [==============================] - 0s 5ms/step - loss: 8.6158 - mae: 8.6158\n",
      "Epoch 188/500\n",
      "2/2 [==============================] - 0s 5ms/step - loss: 28.8274 - mae: 28.8274\n",
      "Epoch 189/500\n",
      "2/2 [==============================] - 0s 4ms/step - loss: 13.1683 - mae: 13.1683\n",
      "Epoch 190/500\n",
      "2/2 [==============================] - 0s 5ms/step - loss: 18.3120 - mae: 18.3120\n",
      "Epoch 191/500\n",
      "2/2 [==============================] - 0s 5ms/step - loss: 13.7411 - mae: 13.7411\n",
      "Epoch 192/500\n",
      "2/2 [==============================] - 0s 5ms/step - loss: 13.7287 - mae: 13.7287\n",
      "Epoch 193/500\n",
      "2/2 [==============================] - 0s 5ms/step - loss: 28.5852 - mae: 28.5852\n",
      "Epoch 194/500\n",
      "2/2 [==============================] - 0s 5ms/step - loss: 7.1097 - mae: 7.1097\n",
      "Epoch 195/500\n",
      "2/2 [==============================] - 0s 5ms/step - loss: 7.0928 - mae: 7.0928\n",
      "Epoch 196/500\n",
      "2/2 [==============================] - 0s 4ms/step - loss: 22.0329 - mae: 22.0329\n",
      "Epoch 197/500\n",
      "2/2 [==============================] - 0s 5ms/step - loss: 20.7991 - mae: 20.7991\n",
      "Epoch 198/500\n",
      "2/2 [==============================] - 0s 6ms/step - loss: 12.4577 - mae: 12.4577\n",
      "Epoch 199/500\n",
      "2/2 [==============================] - 0s 6ms/step - loss: 17.8666 - mae: 17.8666\n",
      "Epoch 200/500\n",
      "2/2 [==============================] - 0s 6ms/step - loss: 13.7109 - mae: 13.7109\n",
      "Epoch 201/500\n",
      "2/2 [==============================] - 0s 5ms/step - loss: 5.5169 - mae: 5.5169\n",
      "Epoch 202/500\n",
      "2/2 [==============================] - 0s 5ms/step - loss: 13.6551 - mae: 13.6551\n",
      "Epoch 203/500\n",
      "2/2 [==============================] - 0s 5ms/step - loss: 9.4332 - mae: 9.4332\n",
      "Epoch 204/500\n",
      "2/2 [==============================] - 0s 5ms/step - loss: 20.8500 - mae: 20.8500\n",
      "Epoch 205/500\n",
      "2/2 [==============================] - 0s 4ms/step - loss: 9.5423 - mae: 9.5423\n",
      "Epoch 206/500\n",
      "2/2 [==============================] - 0s 6ms/step - loss: 11.1786 - mae: 11.1786\n",
      "Epoch 207/500\n",
      "2/2 [==============================] - 0s 5ms/step - loss: 17.7193 - mae: 17.7193\n",
      "Epoch 208/500\n",
      "2/2 [==============================] - 0s 8ms/step - loss: 14.4214 - mae: 14.4214\n",
      "Epoch 209/500\n",
      "2/2 [==============================] - 0s 5ms/step - loss: 16.7397 - mae: 16.7397\n",
      "Epoch 210/500\n",
      "2/2 [==============================] - 0s 6ms/step - loss: 18.2603 - mae: 18.2603\n",
      "Epoch 211/500\n",
      "2/2 [==============================] - 0s 6ms/step - loss: 9.9828 - mae: 9.9828\n",
      "Epoch 212/500\n",
      "2/2 [==============================] - 0s 5ms/step - loss: 18.7319 - mae: 18.7319\n",
      "Epoch 213/500\n",
      "2/2 [==============================] - 0s 4ms/step - loss: 14.9514 - mae: 14.9514\n",
      "Epoch 214/500\n",
      "2/2 [==============================] - 0s 6ms/step - loss: 14.5358 - mae: 14.5358\n",
      "Epoch 215/500\n",
      "2/2 [==============================] - 0s 6ms/step - loss: 23.1824 - mae: 23.1824\n",
      "Epoch 216/500\n",
      "2/2 [==============================] - 0s 4ms/step - loss: 13.5839 - mae: 13.5839\n",
      "Epoch 217/500\n",
      "2/2 [==============================] - 0s 5ms/step - loss: 10.0601 - mae: 10.0601\n",
      "Epoch 218/500\n",
      "2/2 [==============================] - 0s 6ms/step - loss: 12.4387 - mae: 12.4387\n",
      "Epoch 219/500\n",
      "2/2 [==============================] - 0s 5ms/step - loss: 5.8697 - mae: 5.8697\n",
      "Epoch 220/500\n",
      "2/2 [==============================] - 0s 5ms/step - loss: 10.1960 - mae: 10.1960\n",
      "Epoch 221/500\n",
      "2/2 [==============================] - 0s 5ms/step - loss: 28.8332 - mae: 28.8332\n",
      "Epoch 222/500\n",
      "2/2 [==============================] - 0s 4ms/step - loss: 28.0062 - mae: 28.0062\n",
      "Epoch 223/500\n",
      "2/2 [==============================] - 0s 6ms/step - loss: 10.0914 - mae: 10.0914\n",
      "Epoch 224/500\n",
      "2/2 [==============================] - 0s 5ms/step - loss: 14.6423 - mae: 14.6423\n",
      "Epoch 225/500\n",
      "2/2 [==============================] - 0s 4ms/step - loss: 16.6624 - mae: 16.6624\n",
      "Epoch 226/500\n",
      "2/2 [==============================] - 0s 4ms/step - loss: 15.8836 - mae: 15.8836\n",
      "Epoch 227/500\n",
      "2/2 [==============================] - 0s 6ms/step - loss: 16.1043 - mae: 16.1043\n",
      "Epoch 228/500\n",
      "2/2 [==============================] - 0s 6ms/step - loss: 13.8808 - mae: 13.8808\n",
      "Epoch 229/500\n",
      "2/2 [==============================] - 0s 5ms/step - loss: 18.0047 - mae: 18.0047\n",
      "Epoch 230/500\n",
      "2/2 [==============================] - 0s 5ms/step - loss: 15.5955 - mae: 15.5955\n",
      "Epoch 231/500\n",
      "2/2 [==============================] - 0s 6ms/step - loss: 21.1344 - mae: 21.1344\n",
      "Epoch 232/500\n",
      "2/2 [==============================] - 0s 5ms/step - loss: 25.4329 - mae: 25.4329\n",
      "Epoch 233/500\n",
      "2/2 [==============================] - 0s 5ms/step - loss: 16.4510 - mae: 16.4510\n",
      "Epoch 234/500\n",
      "2/2 [==============================] - 0s 4ms/step - loss: 7.3527 - mae: 7.3527\n",
      "Epoch 235/500\n",
      "2/2 [==============================] - 0s 5ms/step - loss: 17.0860 - mae: 17.0860\n",
      "Epoch 236/500\n",
      "2/2 [==============================] - 0s 5ms/step - loss: 7.2039 - mae: 7.2039\n",
      "Epoch 237/500\n",
      "2/2 [==============================] - 0s 5ms/step - loss: 9.2909 - mae: 9.2909\n",
      "Epoch 238/500\n",
      "2/2 [==============================] - 0s 4ms/step - loss: 8.1633 - mae: 8.1633\n",
      "Epoch 239/500\n",
      "2/2 [==============================] - 0s 5ms/step - loss: 17.0844 - mae: 17.0844\n",
      "Epoch 240/500\n",
      "2/2 [==============================] - 0s 5ms/step - loss: 8.9219 - mae: 8.9219\n",
      "Epoch 241/500\n",
      "2/2 [==============================] - 0s 4ms/step - loss: 13.2004 - mae: 13.2004\n",
      "Epoch 242/500\n",
      "2/2 [==============================] - 0s 6ms/step - loss: 8.8390 - mae: 8.8390\n",
      "Epoch 243/500\n",
      "2/2 [==============================] - 0s 5ms/step - loss: 18.7815 - mae: 18.7815\n",
      "Epoch 244/500\n",
      "2/2 [==============================] - 0s 4ms/step - loss: 14.0906 - mae: 14.0906\n",
      "Epoch 245/500\n",
      "2/2 [==============================] - 0s 5ms/step - loss: 14.7144 - mae: 14.7144\n",
      "Epoch 246/500\n",
      "2/2 [==============================] - 0s 5ms/step - loss: 15.8463 - mae: 15.8463\n",
      "Epoch 247/500\n",
      "2/2 [==============================] - 0s 6ms/step - loss: 17.7362 - mae: 17.7362\n",
      "Epoch 248/500\n",
      "2/2 [==============================] - 0s 5ms/step - loss: 13.2915 - mae: 13.2915\n",
      "Epoch 249/500\n",
      "2/2 [==============================] - 0s 5ms/step - loss: 14.5517 - mae: 14.5517\n",
      "Epoch 250/500\n",
      "2/2 [==============================] - 0s 5ms/step - loss: 23.2976 - mae: 23.2976\n",
      "Epoch 251/500\n",
      "2/2 [==============================] - 0s 5ms/step - loss: 9.3159 - mae: 9.3159\n",
      "Epoch 252/500\n",
      "2/2 [==============================] - 0s 5ms/step - loss: 36.4249 - mae: 36.4249\n",
      "Epoch 253/500\n",
      "2/2 [==============================] - 0s 5ms/step - loss: 21.6592 - mae: 21.6592\n",
      "Epoch 254/500\n",
      "2/2 [==============================] - 0s 3ms/step - loss: 7.3064 - mae: 7.3064\n",
      "Epoch 255/500\n",
      "2/2 [==============================] - 0s 4ms/step - loss: 24.5153 - mae: 24.5153\n",
      "Epoch 256/500\n",
      "2/2 [==============================] - 0s 5ms/step - loss: 11.9550 - mae: 11.9550\n",
      "Epoch 257/500\n",
      "2/2 [==============================] - 0s 5ms/step - loss: 14.4740 - mae: 14.4740\n",
      "Epoch 258/500\n"
     ]
    },
    {
     "name": "stdout",
     "output_type": "stream",
     "text": [
      "2/2 [==============================] - 0s 5ms/step - loss: 5.8488 - mae: 5.8488\n",
      "Epoch 259/500\n",
      "2/2 [==============================] - 0s 5ms/step - loss: 14.8513 - mae: 14.8513\n",
      "Epoch 260/500\n",
      "2/2 [==============================] - 0s 5ms/step - loss: 14.9946 - mae: 14.9946\n",
      "Epoch 261/500\n",
      "2/2 [==============================] - 0s 4ms/step - loss: 17.4908 - mae: 17.4908\n",
      "Epoch 262/500\n",
      "2/2 [==============================] - 0s 5ms/step - loss: 15.5348 - mae: 15.5348\n",
      "Epoch 263/500\n",
      "2/2 [==============================] - 0s 6ms/step - loss: 10.1082 - mae: 10.1082\n",
      "Epoch 264/500\n",
      "2/2 [==============================] - 0s 6ms/step - loss: 20.2374 - mae: 20.2374\n",
      "Epoch 265/500\n",
      "2/2 [==============================] - 0s 5ms/step - loss: 9.7284 - mae: 9.7284\n",
      "Epoch 266/500\n",
      "2/2 [==============================] - 0s 5ms/step - loss: 7.8254 - mae: 7.8254\n",
      "Epoch 267/500\n",
      "2/2 [==============================] - 0s 4ms/step - loss: 7.5998 - mae: 7.5998\n",
      "Epoch 268/500\n",
      "2/2 [==============================] - 0s 5ms/step - loss: 18.3465 - mae: 18.3465\n",
      "Epoch 269/500\n",
      "2/2 [==============================] - 0s 5ms/step - loss: 21.6872 - mae: 21.6872\n",
      "Epoch 270/500\n",
      "2/2 [==============================] - 0s 5ms/step - loss: 5.4934 - mae: 5.4934\n",
      "Epoch 271/500\n",
      "2/2 [==============================] - 0s 5ms/step - loss: 12.1078 - mae: 12.1078\n",
      "Epoch 272/500\n",
      "2/2 [==============================] - 0s 6ms/step - loss: 26.1524 - mae: 26.1524\n",
      "Epoch 273/500\n",
      "2/2 [==============================] - 0s 5ms/step - loss: 12.1374 - mae: 12.1374\n",
      "Epoch 274/500\n",
      "2/2 [==============================] - 0s 4ms/step - loss: 13.3325 - mae: 13.3325\n",
      "Epoch 275/500\n",
      "2/2 [==============================] - 0s 5ms/step - loss: 29.3906 - mae: 29.3906\n",
      "Epoch 276/500\n",
      "2/2 [==============================] - 0s 6ms/step - loss: 7.3302 - mae: 7.3302\n",
      "Epoch 277/500\n",
      "2/2 [==============================] - 0s 5ms/step - loss: 31.1479 - mae: 31.1479\n",
      "Epoch 278/500\n",
      "2/2 [==============================] - 0s 26ms/step - loss: 12.3144 - mae: 12.3144\n",
      "Epoch 279/500\n",
      "2/2 [==============================] - 0s 5ms/step - loss: 16.4202 - mae: 16.4202\n",
      "Epoch 280/500\n",
      "2/2 [==============================] - 0s 4ms/step - loss: 21.9348 - mae: 21.9348\n",
      "Epoch 281/500\n",
      "2/2 [==============================] - 0s 5ms/step - loss: 22.0956 - mae: 22.0956\n",
      "Epoch 282/500\n",
      "2/2 [==============================] - 0s 5ms/step - loss: 7.7251 - mae: 7.7251\n",
      "Epoch 283/500\n",
      "2/2 [==============================] - 0s 4ms/step - loss: 8.1324 - mae: 8.1324\n",
      "Epoch 284/500\n",
      "2/2 [==============================] - 0s 4ms/step - loss: 24.8885 - mae: 24.8885\n",
      "Epoch 285/500\n",
      "2/2 [==============================] - 0s 5ms/step - loss: 13.6535 - mae: 13.6535\n",
      "Epoch 286/500\n",
      "2/2 [==============================] - 0s 5ms/step - loss: 7.7574 - mae: 7.7574\n",
      "Epoch 287/500\n",
      "2/2 [==============================] - 0s 5ms/step - loss: 23.3325 - mae: 23.3325\n",
      "Epoch 288/500\n",
      "2/2 [==============================] - 0s 5ms/step - loss: 23.7206 - mae: 23.7206\n",
      "Epoch 289/500\n",
      "2/2 [==============================] - 0s 5ms/step - loss: 11.9678 - mae: 11.9678\n",
      "Epoch 290/500\n",
      "2/2 [==============================] - 0s 5ms/step - loss: 16.5417 - mae: 16.5417\n",
      "Epoch 291/500\n",
      "2/2 [==============================] - 0s 5ms/step - loss: 16.8059 - mae: 16.8059\n",
      "Epoch 292/500\n",
      "2/2 [==============================] - 0s 5ms/step - loss: 9.4642 - mae: 9.4642\n",
      "Epoch 293/500\n",
      "2/2 [==============================] - 0s 4ms/step - loss: 15.2734 - mae: 15.2734\n",
      "Epoch 294/500\n",
      "2/2 [==============================] - 0s 6ms/step - loss: 22.7243 - mae: 22.7243\n",
      "Epoch 295/500\n",
      "2/2 [==============================] - 0s 5ms/step - loss: 17.9137 - mae: 17.9137\n",
      "Epoch 296/500\n",
      "2/2 [==============================] - 0s 6ms/step - loss: 6.1675 - mae: 6.1675\n",
      "Epoch 297/500\n",
      "2/2 [==============================] - 0s 5ms/step - loss: 10.9449 - mae: 10.9449\n",
      "Epoch 298/500\n",
      "2/2 [==============================] - 0s 5ms/step - loss: 23.1580 - mae: 23.1580\n",
      "Epoch 299/500\n",
      "2/2 [==============================] - 0s 6ms/step - loss: 17.7233 - mae: 17.7233\n",
      "Epoch 300/500\n",
      "2/2 [==============================] - 0s 5ms/step - loss: 6.9785 - mae: 6.9785\n",
      "Epoch 301/500\n",
      "2/2 [==============================] - 0s 5ms/step - loss: 25.1729 - mae: 25.1729\n",
      "Epoch 302/500\n",
      "2/2 [==============================] - 0s 5ms/step - loss: 8.8966 - mae: 8.8966\n",
      "Epoch 303/500\n",
      "2/2 [==============================] - 0s 4ms/step - loss: 17.7562 - mae: 17.7562\n",
      "Epoch 304/500\n",
      "2/2 [==============================] - 0s 5ms/step - loss: 10.9923 - mae: 10.9923\n",
      "Epoch 305/500\n",
      "2/2 [==============================] - 0s 5ms/step - loss: 12.9096 - mae: 12.9096\n",
      "Epoch 306/500\n",
      "2/2 [==============================] - 0s 4ms/step - loss: 8.3966 - mae: 8.3966\n",
      "Epoch 307/500\n",
      "2/2 [==============================] - 0s 5ms/step - loss: 13.5988 - mae: 13.5988\n",
      "Epoch 308/500\n",
      "2/2 [==============================] - 0s 5ms/step - loss: 7.4337 - mae: 7.4337\n",
      "Epoch 309/500\n",
      "2/2 [==============================] - 0s 7ms/step - loss: 9.4562 - mae: 9.4562\n",
      "Epoch 310/500\n",
      "2/2 [==============================] - 0s 6ms/step - loss: 10.6980 - mae: 10.6980\n",
      "Epoch 311/500\n",
      "2/2 [==============================] - 0s 5ms/step - loss: 13.2819 - mae: 13.2819\n",
      "Epoch 312/500\n",
      "2/2 [==============================] - 0s 4ms/step - loss: 29.9806 - mae: 29.9806\n",
      "Epoch 313/500\n",
      "2/2 [==============================] - 0s 5ms/step - loss: 7.6210 - mae: 7.6210\n",
      "Epoch 314/500\n",
      "2/2 [==============================] - 0s 6ms/step - loss: 9.9117 - mae: 9.9117\n",
      "Epoch 315/500\n",
      "2/2 [==============================] - 0s 5ms/step - loss: 23.7733 - mae: 23.7733\n",
      "Epoch 316/500\n",
      "2/2 [==============================] - 0s 4ms/step - loss: 16.3820 - mae: 16.3820\n",
      "Epoch 317/500\n",
      "2/2 [==============================] - 0s 6ms/step - loss: 21.0598 - mae: 21.0598\n",
      "Epoch 318/500\n",
      "2/2 [==============================] - 0s 5ms/step - loss: 7.9301 - mae: 7.9301\n",
      "Epoch 319/500\n",
      "2/2 [==============================] - 0s 5ms/step - loss: 17.9585 - mae: 17.9585\n",
      "Epoch 320/500\n",
      "2/2 [==============================] - 0s 4ms/step - loss: 10.2268 - mae: 10.2268\n",
      "Epoch 321/500\n",
      "2/2 [==============================] - 0s 5ms/step - loss: 8.3238 - mae: 8.3238\n",
      "Epoch 322/500\n",
      "2/2 [==============================] - 0s 5ms/step - loss: 4.3364 - mae: 4.3364\n",
      "Epoch 323/500\n",
      "2/2 [==============================] - 0s 6ms/step - loss: 23.8637 - mae: 23.8637\n",
      "Epoch 324/500\n",
      "2/2 [==============================] - 0s 4ms/step - loss: 6.8986 - mae: 6.8986\n",
      "Epoch 325/500\n",
      "2/2 [==============================] - 0s 5ms/step - loss: 16.6445 - mae: 16.6445\n",
      "Epoch 326/500\n",
      "2/2 [==============================] - 0s 6ms/step - loss: 7.5718 - mae: 7.5718\n",
      "Epoch 327/500\n",
      "2/2 [==============================] - 0s 5ms/step - loss: 20.4147 - mae: 20.4147\n",
      "Epoch 328/500\n",
      "2/2 [==============================] - 0s 4ms/step - loss: 13.6799 - mae: 13.6799\n",
      "Epoch 329/500\n",
      "2/2 [==============================] - 0s 5ms/step - loss: 16.7045 - mae: 16.7045\n",
      "Epoch 330/500\n",
      "2/2 [==============================] - 0s 5ms/step - loss: 7.0973 - mae: 7.0973\n",
      "Epoch 331/500\n",
      "2/2 [==============================] - 0s 4ms/step - loss: 21.7962 - mae: 21.7962\n",
      "Epoch 332/500\n",
      "2/2 [==============================] - 0s 6ms/step - loss: 12.8005 - mae: 12.8005\n",
      "Epoch 333/500\n",
      "2/2 [==============================] - 0s 4ms/step - loss: 9.3924 - mae: 9.3924\n",
      "Epoch 334/500\n",
      "2/2 [==============================] - 0s 5ms/step - loss: 7.5609 - mae: 7.5609\n",
      "Epoch 335/500\n",
      "2/2 [==============================] - 0s 6ms/step - loss: 6.1631 - mae: 6.1631\n",
      "Epoch 336/500\n",
      "2/2 [==============================] - 0s 4ms/step - loss: 38.3157 - mae: 38.3157\n",
      "Epoch 337/500\n",
      "2/2 [==============================] - 0s 4ms/step - loss: 29.6438 - mae: 29.6438\n",
      "Epoch 338/500\n",
      "2/2 [==============================] - 0s 5ms/step - loss: 16.1241 - mae: 16.1241\n",
      "Epoch 339/500\n",
      "2/2 [==============================] - 0s 5ms/step - loss: 9.5972 - mae: 9.5972\n",
      "Epoch 340/500\n",
      "2/2 [==============================] - 0s 5ms/step - loss: 8.5349 - mae: 8.5349\n",
      "Epoch 341/500\n",
      "2/2 [==============================] - 0s 4ms/step - loss: 21.6866 - mae: 21.6866\n",
      "Epoch 342/500\n",
      "2/2 [==============================] - 0s 5ms/step - loss: 14.0362 - mae: 14.0362\n",
      "Epoch 343/500\n",
      "2/2 [==============================] - 0s 5ms/step - loss: 11.5364 - mae: 11.5364\n",
      "Epoch 344/500\n"
     ]
    },
    {
     "name": "stdout",
     "output_type": "stream",
     "text": [
      "2/2 [==============================] - 0s 6ms/step - loss: 10.6064 - mae: 10.6064\n",
      "Epoch 345/500\n",
      "2/2 [==============================] - 0s 5ms/step - loss: 30.8295 - mae: 30.8295\n",
      "Epoch 346/500\n",
      "2/2 [==============================] - 0s 4ms/step - loss: 10.5560 - mae: 10.5560\n",
      "Epoch 347/500\n",
      "2/2 [==============================] - 0s 5ms/step - loss: 25.4178 - mae: 25.4178\n",
      "Epoch 348/500\n",
      "2/2 [==============================] - 0s 5ms/step - loss: 13.6075 - mae: 13.6075\n",
      "Epoch 349/500\n",
      "2/2 [==============================] - 0s 5ms/step - loss: 12.8784 - mae: 12.8784\n",
      "Epoch 350/500\n",
      "2/2 [==============================] - 0s 4ms/step - loss: 15.3261 - mae: 15.3261\n",
      "Epoch 351/500\n",
      "2/2 [==============================] - 0s 4ms/step - loss: 32.7932 - mae: 32.7932\n",
      "Epoch 352/500\n",
      "2/2 [==============================] - 0s 5ms/step - loss: 13.9478 - mae: 13.9478\n",
      "Epoch 353/500\n",
      "2/2 [==============================] - 0s 5ms/step - loss: 17.5997 - mae: 17.5997\n",
      "Epoch 354/500\n",
      "2/2 [==============================] - 0s 5ms/step - loss: 11.2609 - mae: 11.2609\n",
      "Epoch 355/500\n",
      "2/2 [==============================] - 0s 5ms/step - loss: 26.6048 - mae: 26.6048\n",
      "Epoch 356/500\n",
      "2/2 [==============================] - 0s 5ms/step - loss: 10.7126 - mae: 10.7126\n",
      "Epoch 357/500\n",
      "2/2 [==============================] - 0s 5ms/step - loss: 12.9485 - mae: 12.9485\n",
      "Epoch 358/500\n",
      "2/2 [==============================] - 0s 5ms/step - loss: 14.2541 - mae: 14.2541\n",
      "Epoch 359/500\n",
      "2/2 [==============================] - 0s 5ms/step - loss: 12.3818 - mae: 12.3818\n",
      "Epoch 360/500\n",
      "2/2 [==============================] - 0s 5ms/step - loss: 20.4632 - mae: 20.4632\n",
      "Epoch 361/500\n",
      "2/2 [==============================] - 0s 4ms/step - loss: 10.6652 - mae: 10.6652\n",
      "Epoch 362/500\n",
      "2/2 [==============================] - 0s 3ms/step - loss: 6.6989 - mae: 6.6989\n",
      "Epoch 363/500\n",
      "2/2 [==============================] - 0s 6ms/step - loss: 23.5840 - mae: 23.5840\n",
      "Epoch 364/500\n",
      "2/2 [==============================] - 0s 5ms/step - loss: 29.1901 - mae: 29.1901\n",
      "Epoch 365/500\n",
      "2/2 [==============================] - 0s 7ms/step - loss: 8.0973 - mae: 8.0973\n",
      "Epoch 366/500\n",
      "2/2 [==============================] - 0s 4ms/step - loss: 6.0163 - mae: 6.0163\n",
      "Epoch 367/500\n",
      "2/2 [==============================] - 0s 4ms/step - loss: 34.3777 - mae: 34.3777\n",
      "Epoch 368/500\n",
      "2/2 [==============================] - 0s 5ms/step - loss: 7.2124 - mae: 7.2124\n",
      "Epoch 369/500\n",
      "2/2 [==============================] - 0s 5ms/step - loss: 8.5802 - mae: 8.5802\n",
      "Epoch 370/500\n",
      "2/2 [==============================] - 0s 4ms/step - loss: 14.3548 - mae: 14.3548\n",
      "Epoch 371/500\n",
      "2/2 [==============================] - 0s 4ms/step - loss: 6.0486 - mae: 6.0486\n",
      "Epoch 372/500\n",
      "2/2 [==============================] - 0s 5ms/step - loss: 6.8741 - mae: 6.8741\n",
      "Epoch 373/500\n",
      "2/2 [==============================] - 0s 5ms/step - loss: 25.7025 - mae: 25.7025\n",
      "Epoch 374/500\n",
      "2/2 [==============================] - 0s 5ms/step - loss: 11.6812 - mae: 11.6812\n",
      "Epoch 375/500\n",
      "2/2 [==============================] - 0s 5ms/step - loss: 11.6172 - mae: 11.6172\n",
      "Epoch 376/500\n",
      "2/2 [==============================] - 0s 5ms/step - loss: 13.9103 - mae: 13.9103\n",
      "Epoch 377/500\n",
      "2/2 [==============================] - 0s 5ms/step - loss: 15.5076 - mae: 15.5076\n",
      "Epoch 378/500\n",
      "2/2 [==============================] - 0s 4ms/step - loss: 16.7270 - mae: 16.7270\n",
      "Epoch 379/500\n",
      "2/2 [==============================] - 0s 3ms/step - loss: 9.2392 - mae: 9.2392\n",
      "Epoch 380/500\n",
      "2/2 [==============================] - 0s 5ms/step - loss: 22.6069 - mae: 22.6069\n",
      "Epoch 381/500\n",
      "2/2 [==============================] - 0s 4ms/step - loss: 7.3868 - mae: 7.3868\n",
      "Epoch 382/500\n",
      "2/2 [==============================] - 0s 5ms/step - loss: 16.5108 - mae: 16.5108\n",
      "Epoch 383/500\n",
      "2/2 [==============================] - 0s 5ms/step - loss: 22.4109 - mae: 22.4109\n",
      "Epoch 384/500\n",
      "2/2 [==============================] - 0s 4ms/step - loss: 7.2874 - mae: 7.2874\n",
      "Epoch 385/500\n",
      "2/2 [==============================] - 0s 6ms/step - loss: 10.7489 - mae: 10.7489\n",
      "Epoch 386/500\n",
      "2/2 [==============================] - 0s 4ms/step - loss: 19.4379 - mae: 19.4379\n",
      "Epoch 387/500\n",
      "2/2 [==============================] - 0s 4ms/step - loss: 25.7287 - mae: 25.7287\n",
      "Epoch 388/500\n",
      "2/2 [==============================] - 0s 5ms/step - loss: 9.3914 - mae: 9.3914\n",
      "Epoch 389/500\n",
      "2/2 [==============================] - 0s 5ms/step - loss: 5.4304 - mae: 5.4304\n",
      "Epoch 390/500\n",
      "2/2 [==============================] - 0s 4ms/step - loss: 21.3204 - mae: 21.3204\n",
      "Epoch 391/500\n",
      "2/2 [==============================] - 0s 6ms/step - loss: 5.5940 - mae: 5.5940\n",
      "Epoch 392/500\n",
      "2/2 [==============================] - 0s 4ms/step - loss: 16.3777 - mae: 16.3777\n",
      "Epoch 393/500\n",
      "2/2 [==============================] - 0s 5ms/step - loss: 9.1639 - mae: 9.1639\n",
      "Epoch 394/500\n",
      "2/2 [==============================] - 0s 5ms/step - loss: 14.0593 - mae: 14.0593\n",
      "Epoch 395/500\n",
      "2/2 [==============================] - 0s 6ms/step - loss: 28.4297 - mae: 28.4297\n",
      "Epoch 396/500\n",
      "2/2 [==============================] - 0s 5ms/step - loss: 8.8522 - mae: 8.8522\n",
      "Epoch 397/500\n",
      "2/2 [==============================] - 0s 5ms/step - loss: 6.7740 - mae: 6.7740\n",
      "Epoch 398/500\n",
      "2/2 [==============================] - 0s 5ms/step - loss: 23.7607 - mae: 23.7607\n",
      "Epoch 399/500\n",
      "2/2 [==============================] - 0s 5ms/step - loss: 6.2641 - mae: 6.2641\n",
      "Epoch 400/500\n",
      "2/2 [==============================] - 0s 4ms/step - loss: 24.1966 - mae: 24.1966\n",
      "Epoch 401/500\n",
      "2/2 [==============================] - 0s 5ms/step - loss: 12.9464 - mae: 12.9464\n",
      "Epoch 402/500\n",
      "2/2 [==============================] - 0s 4ms/step - loss: 21.7729 - mae: 21.7729\n",
      "Epoch 403/500\n",
      "2/2 [==============================] - 0s 5ms/step - loss: 22.0901 - mae: 22.0901\n",
      "Epoch 404/500\n",
      "2/2 [==============================] - 0s 4ms/step - loss: 14.1004 - mae: 14.1004\n",
      "Epoch 405/500\n",
      "2/2 [==============================] - 0s 4ms/step - loss: 5.5429 - mae: 5.5429\n",
      "Epoch 406/500\n",
      "2/2 [==============================] - 0s 5ms/step - loss: 24.9179 - mae: 24.9179\n",
      "Epoch 407/500\n",
      "2/2 [==============================] - 0s 5ms/step - loss: 15.0989 - mae: 15.0989\n",
      "Epoch 408/500\n",
      "2/2 [==============================] - 0s 5ms/step - loss: 5.5387 - mae: 5.5387\n",
      "Epoch 409/500\n",
      "2/2 [==============================] - 0s 4ms/step - loss: 30.3920 - mae: 30.3920\n",
      "Epoch 410/500\n",
      "2/2 [==============================] - 0s 5ms/step - loss: 9.7651 - mae: 9.7651\n",
      "Epoch 411/500\n",
      "2/2 [==============================] - 0s 4ms/step - loss: 14.6644 - mae: 14.6644\n",
      "Epoch 412/500\n",
      "2/2 [==============================] - 0s 5ms/step - loss: 21.4106 - mae: 21.4106\n",
      "Epoch 413/500\n",
      "2/2 [==============================] - 0s 5ms/step - loss: 13.3733 - mae: 13.3733\n",
      "Epoch 414/500\n",
      "2/2 [==============================] - 0s 6ms/step - loss: 7.7108 - mae: 7.7108\n",
      "Epoch 415/500\n",
      "2/2 [==============================] - 0s 5ms/step - loss: 12.1725 - mae: 12.1725\n",
      "Epoch 416/500\n",
      "2/2 [==============================] - 0s 5ms/step - loss: 25.8408 - mae: 25.8408\n",
      "Epoch 417/500\n",
      "2/2 [==============================] - 0s 6ms/step - loss: 15.1428 - mae: 15.1428\n",
      "Epoch 418/500\n",
      "2/2 [==============================] - 0s 4ms/step - loss: 12.7399 - mae: 12.7399\n",
      "Epoch 419/500\n",
      "2/2 [==============================] - 0s 4ms/step - loss: 15.8065 - mae: 15.8065\n",
      "Epoch 420/500\n",
      "2/2 [==============================] - 0s 5ms/step - loss: 24.6387 - mae: 24.6387\n",
      "Epoch 421/500\n",
      "2/2 [==============================] - 0s 6ms/step - loss: 17.7413 - mae: 17.7413\n",
      "Epoch 422/500\n",
      "2/2 [==============================] - 0s 5ms/step - loss: 8.6315 - mae: 8.6315\n",
      "Epoch 423/500\n",
      "2/2 [==============================] - 0s 5ms/step - loss: 24.8182 - mae: 24.8182\n",
      "Epoch 424/500\n",
      "2/2 [==============================] - 0s 5ms/step - loss: 16.4694 - mae: 16.4694\n",
      "Epoch 425/500\n",
      "2/2 [==============================] - 0s 6ms/step - loss: 7.1301 - mae: 7.1301\n",
      "Epoch 426/500\n",
      "2/2 [==============================] - 0s 6ms/step - loss: 20.6089 - mae: 20.6089\n",
      "Epoch 427/500\n",
      "2/2 [==============================] - 0s 5ms/step - loss: 6.3176 - mae: 6.3176\n",
      "Epoch 428/500\n",
      "2/2 [==============================] - 0s 5ms/step - loss: 13.2228 - mae: 13.2228\n",
      "Epoch 429/500\n",
      "2/2 [==============================] - 0s 5ms/step - loss: 10.9798 - mae: 10.9798\n"
     ]
    },
    {
     "name": "stdout",
     "output_type": "stream",
     "text": [
      "Epoch 430/500\n",
      "2/2 [==============================] - 0s 4ms/step - loss: 11.8646 - mae: 11.8646\n",
      "Epoch 431/500\n",
      "2/2 [==============================] - 0s 5ms/step - loss: 8.4531 - mae: 8.4531\n",
      "Epoch 432/500\n",
      "2/2 [==============================] - 0s 7ms/step - loss: 18.6090 - mae: 18.6090\n",
      "Epoch 433/500\n",
      "2/2 [==============================] - 0s 6ms/step - loss: 10.0823 - mae: 10.0823\n",
      "Epoch 434/500\n",
      "2/2 [==============================] - 0s 9ms/step - loss: 30.6484 - mae: 30.6484\n",
      "Epoch 435/500\n",
      "2/2 [==============================] - 0s 7ms/step - loss: 11.1104 - mae: 11.1104\n",
      "Epoch 436/500\n",
      "2/2 [==============================] - 0s 9ms/step - loss: 28.7335 - mae: 28.7335\n",
      "Epoch 437/500\n",
      "2/2 [==============================] - 0s 6ms/step - loss: 7.9356 - mae: 7.9356\n",
      "Epoch 438/500\n",
      "2/2 [==============================] - 0s 6ms/step - loss: 12.7686 - mae: 12.7686\n",
      "Epoch 439/500\n",
      "2/2 [==============================] - 0s 6ms/step - loss: 33.8835 - mae: 33.8835\n",
      "Epoch 440/500\n",
      "2/2 [==============================] - 0s 6ms/step - loss: 15.3420 - mae: 15.3420\n",
      "Epoch 441/500\n",
      "2/2 [==============================] - 0s 6ms/step - loss: 17.6725 - mae: 17.6725\n",
      "Epoch 442/500\n",
      "2/2 [==============================] - 0s 5ms/step - loss: 13.7279 - mae: 13.7279\n",
      "Epoch 443/500\n",
      "2/2 [==============================] - 0s 5ms/step - loss: 17.4662 - mae: 17.4662\n",
      "Epoch 444/500\n",
      "2/2 [==============================] - 0s 5ms/step - loss: 28.2537 - mae: 28.2537\n",
      "Epoch 445/500\n",
      "2/2 [==============================] - 0s 5ms/step - loss: 12.2152 - mae: 12.2152\n",
      "Epoch 446/500\n",
      "2/2 [==============================] - 0s 7ms/step - loss: 15.9169 - mae: 15.9169\n",
      "Epoch 447/500\n",
      "2/2 [==============================] - 0s 6ms/step - loss: 9.2223 - mae: 9.2223\n",
      "Epoch 448/500\n",
      "2/2 [==============================] - 0s 6ms/step - loss: 3.2213 - mae: 3.2213\n",
      "Epoch 449/500\n",
      "2/2 [==============================] - 0s 6ms/step - loss: 14.2893 - mae: 14.2893\n",
      "Epoch 450/500\n",
      "2/2 [==============================] - 0s 5ms/step - loss: 17.0356 - mae: 17.0356\n",
      "Epoch 451/500\n",
      "2/2 [==============================] - 0s 5ms/step - loss: 14.3778 - mae: 14.3778\n",
      "Epoch 452/500\n",
      "2/2 [==============================] - 0s 5ms/step - loss: 30.8731 - mae: 30.8731\n",
      "Epoch 453/500\n",
      "2/2 [==============================] - 0s 4ms/step - loss: 9.0773 - mae: 9.0773\n",
      "Epoch 454/500\n",
      "2/2 [==============================] - 0s 4ms/step - loss: 27.1958 - mae: 27.1958\n",
      "Epoch 455/500\n",
      "2/2 [==============================] - 0s 5ms/step - loss: 11.3968 - mae: 11.3968\n",
      "Epoch 456/500\n",
      "2/2 [==============================] - 0s 7ms/step - loss: 15.6203 - mae: 15.6203\n",
      "Epoch 457/500\n",
      "2/2 [==============================] - 0s 6ms/step - loss: 19.2645 - mae: 19.2645\n",
      "Epoch 458/500\n",
      "2/2 [==============================] - 0s 5ms/step - loss: 23.0662 - mae: 23.0662\n",
      "Epoch 459/500\n",
      "2/2 [==============================] - 0s 6ms/step - loss: 16.4816 - mae: 16.4816\n",
      "Epoch 460/500\n",
      "2/2 [==============================] - 0s 4ms/step - loss: 7.3953 - mae: 7.3953\n",
      "Epoch 461/500\n",
      "2/2 [==============================] - 0s 6ms/step - loss: 15.6608 - mae: 15.6608\n",
      "Epoch 462/500\n",
      "2/2 [==============================] - 0s 5ms/step - loss: 15.1553 - mae: 15.1553\n",
      "Epoch 463/500\n",
      "2/2 [==============================] - 0s 6ms/step - loss: 16.7858 - mae: 16.7858\n",
      "Epoch 464/500\n",
      "2/2 [==============================] - 0s 6ms/step - loss: 11.2177 - mae: 11.2177\n",
      "Epoch 465/500\n",
      "2/2 [==============================] - 0s 5ms/step - loss: 21.5224 - mae: 21.5224\n",
      "Epoch 466/500\n",
      "2/2 [==============================] - 0s 6ms/step - loss: 25.0555 - mae: 25.0555\n",
      "Epoch 467/500\n",
      "2/2 [==============================] - 0s 6ms/step - loss: 14.8761 - mae: 14.8761\n",
      "Epoch 468/500\n",
      "2/2 [==============================] - 0s 6ms/step - loss: 10.3459 - mae: 10.3459\n",
      "Epoch 469/500\n",
      "2/2 [==============================] - 0s 6ms/step - loss: 27.3539 - mae: 27.3539\n",
      "Epoch 470/500\n",
      "2/2 [==============================] - 0s 5ms/step - loss: 12.4363 - mae: 12.4363\n",
      "Epoch 471/500\n",
      "2/2 [==============================] - 0s 7ms/step - loss: 12.1331 - mae: 12.1331\n",
      "Epoch 472/500\n",
      "2/2 [==============================] - 0s 7ms/step - loss: 15.4896 - mae: 15.4896\n",
      "Epoch 473/500\n",
      "2/2 [==============================] - 0s 8ms/step - loss: 19.5028 - mae: 19.5028\n",
      "Epoch 474/500\n",
      "2/2 [==============================] - 0s 6ms/step - loss: 38.4123 - mae: 38.4123\n",
      "Epoch 475/500\n",
      "2/2 [==============================] - 0s 5ms/step - loss: 15.4261 - mae: 15.4261\n",
      "Epoch 476/500\n",
      "2/2 [==============================] - 0s 4ms/step - loss: 13.5103 - mae: 13.5103\n",
      "Epoch 477/500\n",
      "2/2 [==============================] - 0s 6ms/step - loss: 29.9159 - mae: 29.9159\n",
      "Epoch 478/500\n",
      "2/2 [==============================] - 0s 6ms/step - loss: 5.3397 - mae: 5.3397\n",
      "Epoch 479/500\n",
      "2/2 [==============================] - 0s 6ms/step - loss: 13.1877 - mae: 13.1877\n",
      "Epoch 480/500\n",
      "2/2 [==============================] - 0s 6ms/step - loss: 19.4799 - mae: 19.4799\n",
      "Epoch 481/500\n",
      "2/2 [==============================] - 0s 5ms/step - loss: 20.2751 - mae: 20.2751\n",
      "Epoch 482/500\n",
      "2/2 [==============================] - 0s 5ms/step - loss: 9.1876 - mae: 9.1876\n",
      "Epoch 483/500\n",
      "2/2 [==============================] - 0s 5ms/step - loss: 10.0798 - mae: 10.0798\n",
      "Epoch 484/500\n",
      "2/2 [==============================] - 0s 6ms/step - loss: 14.6832 - mae: 14.6832\n",
      "Epoch 485/500\n",
      "2/2 [==============================] - 0s 5ms/step - loss: 10.3720 - mae: 10.3720\n",
      "Epoch 486/500\n",
      "2/2 [==============================] - 0s 5ms/step - loss: 17.8112 - mae: 17.8112\n",
      "Epoch 487/500\n",
      "2/2 [==============================] - 0s 6ms/step - loss: 10.8214 - mae: 10.8214\n",
      "Epoch 488/500\n",
      "2/2 [==============================] - 0s 5ms/step - loss: 26.9114 - mae: 26.9114\n",
      "Epoch 489/500\n",
      "2/2 [==============================] - 0s 5ms/step - loss: 5.4400 - mae: 5.4400\n",
      "Epoch 490/500\n",
      "2/2 [==============================] - 0s 6ms/step - loss: 6.1271 - mae: 6.1271\n",
      "Epoch 491/500\n",
      "2/2 [==============================] - 0s 4ms/step - loss: 19.4584 - mae: 19.4584\n",
      "Epoch 492/500\n",
      "2/2 [==============================] - 0s 4ms/step - loss: 6.7519 - mae: 6.7519\n",
      "Epoch 493/500\n",
      "2/2 [==============================] - 0s 7ms/step - loss: 18.6522 - mae: 18.6522\n",
      "Epoch 494/500\n",
      "2/2 [==============================] - 0s 5ms/step - loss: 19.0692 - mae: 19.0692\n",
      "Epoch 495/500\n",
      "2/2 [==============================] - 0s 6ms/step - loss: 5.7533 - mae: 5.7533\n",
      "Epoch 496/500\n",
      "2/2 [==============================] - 0s 5ms/step - loss: 5.9752 - mae: 5.9752\n",
      "Epoch 497/500\n",
      "2/2 [==============================] - 0s 4ms/step - loss: 12.6671 - mae: 12.6671\n",
      "Epoch 498/500\n",
      "2/2 [==============================] - 0s 5ms/step - loss: 6.3725 - mae: 6.3725\n",
      "Epoch 499/500\n",
      "2/2 [==============================] - 0s 5ms/step - loss: 16.0713 - mae: 16.0713\n",
      "Epoch 500/500\n",
      "2/2 [==============================] - 0s 6ms/step - loss: 14.3034 - mae: 14.3034\n"
     ]
    },
    {
     "data": {
      "text/plain": [
       "<keras.callbacks.History at 0x1308c695c10>"
      ]
     },
     "execution_count": 71,
     "metadata": {},
     "output_type": "execute_result"
    }
   ],
   "source": [
    "# Set random seed\n",
    "tf.random.set_seed(42)\n",
    "\n",
    "# 1. Create the model\n",
    "model_3 = tf.keras.Sequential([\n",
    "    tf.keras.layers.Dense(10, input_shape=[1], name=\"input_layer\"),\n",
    "    tf.keras.layers.Dense(1, name=\"output_layer\")\n",
    "])\n",
    "\n",
    "# 2. Compile the model\n",
    "model_3.compile(loss=tf.keras.losses.mae,\n",
    "               optimizer=tf.keras.optimizers.SGD(),\n",
    "               metrics=[\"mae\"])\n",
    "\n",
    "# 3. Fit the model\n",
    "model_3.fit(X_train, y_train, epochs=500)"
   ]
  },
  {
   "cell_type": "code",
   "execution_count": 72,
   "id": "1c49346c",
   "metadata": {},
   "outputs": [
    {
     "name": "stdout",
     "output_type": "stream",
     "text": [
      "1/1 [==============================] - 0s 112ms/step\n"
     ]
    },
    {
     "data": {
      "image/png": "[encoded data removed]",
      "text/plain": [
       "<Figure size 720x504 with 1 Axes>"
      ]
     },
     "metadata": {
      "needs_background": "light"
     },
     "output_type": "display_data"
    }
   ],
   "source": [
    "# Make and plot predictions\n",
    "y_preds_3 = model_3.predict(X_test)\n",
    "plot_predictions(predictions=y_preds_3)"
   ]
  },
  {
   "cell_type": "markdown",
   "id": "6577b4b6",
   "metadata": {},
   "source": [
    "This model is even worse than the first model.\n",
    "The reason for such a bad result should be that our model was trained for too long (500 epochs), so it is overfitting (this is a very important concept in Machine Learning, but we will not be cover it in this lesson).    \n",
    "This is a prime example of tweaking some hyper-parameters, even ones that you intuitively think should result in a better result, actually lead to a poor result."
   ]
  },
  {
   "cell_type": "code",
   "execution_count": 73,
   "id": "db92c5b8",
   "metadata": {},
   "outputs": [
    {
     "data": {
      "text/plain": [
       "(<tf.Tensor: shape=(), dtype=float32, numpy=57.62191>,\n",
       " <tf.Tensor: shape=(), dtype=float32, numpy=4656.7354>)"
      ]
     },
     "execution_count": 73,
     "metadata": {},
     "output_type": "execute_result"
    }
   ],
   "source": [
    "# model_3 evaluation metrics\n",
    "mae_3 = mae(X_test, tf.squeeze(y_preds_3))\n",
    "mse_3 = mse(y_test, tf.squeeze(y_preds_3))\n",
    "mae_3, mse_3"
   ]
  },
  {
   "cell_type": "code",
   "execution_count": null,
   "id": "7e03cda5",
   "metadata": {},
   "outputs": [],
   "source": []
  },
  {
   "cell_type": "markdown",
   "id": "deb2a077",
   "metadata": {},
   "source": [
    "🔑**Note** : It is good practice to start by small experiments (small models) and make sure they work, and then increase their scale when necessary."
   ]
  },
  {
   "cell_type": "code",
   "execution_count": null,
   "id": "37a7691e",
   "metadata": {},
   "outputs": [],
   "source": []
  },
  {
   "cell_type": "markdown",
   "id": "74304c21",
   "metadata": {},
   "source": [
    "### Comparing the results of our modelling experiments"
   ]
  },
  {
   "cell_type": "code",
   "execution_count": 74,
   "id": "55749623",
   "metadata": {},
   "outputs": [
    {
     "data": {
      "text/html": [
       "<div>\n",
       "<style scoped>\n",
       "    .dataframe tbody tr th:only-of-type {\n",
       "        vertical-align: middle;\n",
       "    }\n",
       "\n",
       "    .dataframe tbody tr th {\n",
       "        vertical-align: top;\n",
       "    }\n",
       "\n",
       "    .dataframe thead th {\n",
       "        text-align: right;\n",
       "    }\n",
       "</style>\n",
       "<table border=\"1\" class=\"dataframe\">\n",
       "  <thead>\n",
       "    <tr style=\"text-align: right;\">\n",
       "      <th></th>\n",
       "      <th>model</th>\n",
       "      <th>MAE</th>\n",
       "      <th>MSE</th>\n",
       "    </tr>\n",
       "  </thead>\n",
       "  <tbody>\n",
       "    <tr>\n",
       "      <th>0</th>\n",
       "      <td>model_1</td>\n",
       "      <td>tf.Tensor(30.55804, shape=(), dtype=float32)</td>\n",
       "      <td>tf.Tensor(944.16394, shape=(), dtype=float32)</td>\n",
       "    </tr>\n",
       "    <tr>\n",
       "      <th>1</th>\n",
       "      <td>model_2</td>\n",
       "      <td>tf.Tensor(13.310046, shape=(), dtype=float32)</td>\n",
       "      <td>tf.Tensor(187.24382, shape=(), dtype=float32)</td>\n",
       "    </tr>\n",
       "    <tr>\n",
       "      <th>2</th>\n",
       "      <td>model_3</td>\n",
       "      <td>tf.Tensor(57.62191, shape=(), dtype=float32)</td>\n",
       "      <td>tf.Tensor(4656.7354, shape=(), dtype=float32)</td>\n",
       "    </tr>\n",
       "  </tbody>\n",
       "</table>\n",
       "</div>"
      ],
      "text/plain": [
       "     model                                            MAE  \\\n",
       "0  model_1   tf.Tensor(30.55804, shape=(), dtype=float32)   \n",
       "1  model_2  tf.Tensor(13.310046, shape=(), dtype=float32)   \n",
       "2  model_3   tf.Tensor(57.62191, shape=(), dtype=float32)   \n",
       "\n",
       "                                             MSE  \n",
       "0  tf.Tensor(944.16394, shape=(), dtype=float32)  \n",
       "1  tf.Tensor(187.24382, shape=(), dtype=float32)  \n",
       "2  tf.Tensor(4656.7354, shape=(), dtype=float32)  "
      ]
     },
     "execution_count": 74,
     "metadata": {},
     "output_type": "execute_result"
    }
   ],
   "source": [
    "# Let's compare the result of our models using a dataframe\n",
    "\n",
    "model_results = [[\"model_1\", mae_1, mse_1], \n",
    "                 [\"model_2\", mae_2, mse_2],\n",
    "                 [\"model_3\", mae_3, mse_3]]\n",
    "# model_results = {\n",
    "#     \"model_1\": [ mae_1, mse_1],\n",
    "#     \"model_2\": [mae_2, mse_2],\n",
    "#     \"model_3\": [mae_3, mse_3],\n",
    "# }\n",
    "\n",
    "results_df = pd.DataFrame(model_results, columns=[\"model\",\"MAE\",\"MSE\"])\n",
    "results_df"
   ]
  },
  {
   "cell_type": "markdown",
   "id": "2b2be887",
   "metadata": {},
   "source": [
    "This result is not easily readable. So we will get the numpy value of the MAEs and MSEs"
   ]
  },
  {
   "cell_type": "code",
   "execution_count": 75,
   "id": "30be1716",
   "metadata": {},
   "outputs": [
    {
     "data": {
      "text/html": [
       "<div>\n",
       "<style scoped>\n",
       "    .dataframe tbody tr th:only-of-type {\n",
       "        vertical-align: middle;\n",
       "    }\n",
       "\n",
       "    .dataframe tbody tr th {\n",
       "        vertical-align: top;\n",
       "    }\n",
       "\n",
       "    .dataframe thead th {\n",
       "        text-align: right;\n",
       "    }\n",
       "</style>\n",
       "<table border=\"1\" class=\"dataframe\">\n",
       "  <thead>\n",
       "    <tr style=\"text-align: right;\">\n",
       "      <th></th>\n",
       "      <th>model</th>\n",
       "      <th>MAE</th>\n",
       "      <th>MSE</th>\n",
       "    </tr>\n",
       "  </thead>\n",
       "  <tbody>\n",
       "    <tr>\n",
       "      <th>0</th>\n",
       "      <td>model_1</td>\n",
       "      <td>30.558041</td>\n",
       "      <td>944.163940</td>\n",
       "    </tr>\n",
       "    <tr>\n",
       "      <th>1</th>\n",
       "      <td>model_2</td>\n",
       "      <td>13.310046</td>\n",
       "      <td>187.243820</td>\n",
       "    </tr>\n",
       "    <tr>\n",
       "      <th>2</th>\n",
       "      <td>model_3</td>\n",
       "      <td>57.621910</td>\n",
       "      <td>4656.735352</td>\n",
       "    </tr>\n",
       "  </tbody>\n",
       "</table>\n",
       "</div>"
      ],
      "text/plain": [
       "     model        MAE          MSE\n",
       "0  model_1  30.558041   944.163940\n",
       "1  model_2  13.310046   187.243820\n",
       "2  model_3  57.621910  4656.735352"
      ]
     },
     "execution_count": 75,
     "metadata": {},
     "output_type": "execute_result"
    }
   ],
   "source": [
    "model_results = [[\"model_1\", mae_1.numpy(), mse_1.numpy()], \n",
    "                 [\"model_2\", mae_2.numpy(), mse_2.numpy()],\n",
    "                 [\"model_3\", mae_3.numpy(), mse_3.numpy()]]\n",
    "\n",
    "results_df = pd.DataFrame(model_results, columns=[\"model\",\"MAE\",\"MSE\"])\n",
    "results_df"
   ]
  },
  {
   "cell_type": "markdown",
   "id": "63410c67",
   "metadata": {},
   "source": [
    "From the content of our dataframe, we can observe that model_2 perform the best. So we will look at its content."
   ]
  },
  {
   "cell_type": "code",
   "execution_count": 76,
   "id": "846ebbff",
   "metadata": {},
   "outputs": [
    {
     "name": "stdout",
     "output_type": "stream",
     "text": [
      "Model: \"sequential_10\"\n",
      "_________________________________________________________________\n",
      " Layer (type)                Output Shape              Param #   \n",
      "=================================================================\n",
      " input_layer (Dense)         (None, 10)                20        \n",
      "                                                                 \n",
      " dense_15 (Dense)            (None, 1)                 11        \n",
      "                                                                 \n",
      "=================================================================\n",
      "Total params: 31\n",
      "Trainable params: 31\n",
      "Non-trainable params: 0\n",
      "_________________________________________________________________\n"
     ]
    }
   ],
   "source": [
    "model_2.summary()"
   ]
  },
  {
   "cell_type": "markdown",
   "id": "317ff74b",
   "metadata": {},
   "source": [
    "> 🔑 **Notes** :\n",
    "> * One of our main goal should be to minimize the time between each experiment (so that we don't have to wait, say, 10min before runing the next modelling experiment). \n",
    "> * The more experiments ones does, the more things one will figure out which don't work, and in turn get closer to figure out what does work : it is a lot of trials and errors. Remember the ML practionner motto : experiment, experiment, experiment."
   ]
  },
  {
   "cell_type": "code",
   "execution_count": null,
   "id": "be5903ec",
   "metadata": {},
   "outputs": [],
   "source": []
  },
  {
   "cell_type": "markdown",
   "id": "72c6a165",
   "metadata": {},
   "source": [
    "### Tracking modelling experiments\n",
    "\n",
    "One good habit in ML modelling is to tracks experiments results.    \n",
    "\n",
    "Introducing tools that can help track results of experiments :\n",
    "* [**TensorBoard**](https://www.tensorflow.org/tensorboard) - a component of the TensorFlow library to help track modelling experiments.\n",
    "* [**Weights & Biases**](https://wandb.ai/site) - a tool for tracking all kind of ML experiments; it can be plugged into TensorBoard. \n",
    "\n",
    "TensorBoard's usage will be covered later."
   ]
  },
  {
   "cell_type": "code",
   "execution_count": null,
   "id": "3eedb62e",
   "metadata": {},
   "outputs": [],
   "source": []
  },
  {
   "cell_type": "markdown",
   "id": "2f3c0d83",
   "metadata": {},
   "source": [
    "### Save a model      \n",
    "Saving a model allow us to use it outside our notebook in place such as a web/mobile application.                  \n",
    "There are two main format we can save our model to :\n",
    "* SaveModel format : it is used when the saved model will only be used in the TensorFlow environement      \n",
    "* HDF5 format : it used when the saved model will be used outside of TensorFlow environement"
   ]
  },
  {
   "cell_type": "code",
   "execution_count": 77,
   "id": "4c736d88",
   "metadata": {},
   "outputs": [
    {
     "name": "stdout",
     "output_type": "stream",
     "text": [
      "INFO:tensorflow:Assets written to: ./saved-models/model_2_SaveModel_format\\assets\n"
     ]
    }
   ],
   "source": [
    "# Save a model using SaveModel format\n",
    "model_2.save(\"./saved-models/model_2_SaveModel_format\")"
   ]
  },
  {
   "cell_type": "code",
   "execution_count": 78,
   "id": "26dd5350",
   "metadata": {},
   "outputs": [],
   "source": [
    "# Save model using HDF5 format\n",
    "model_2.save(\"./saved-models/model_2_HDF5_format.h5\")"
   ]
  },
  {
   "cell_type": "code",
   "execution_count": null,
   "id": "1949574d",
   "metadata": {},
   "outputs": [],
   "source": []
  },
  {
   "cell_type": "markdown",
   "id": "e364a2f2",
   "metadata": {},
   "source": [
    "### Load a saved model   \n",
    "\n"
   ]
  },
  {
   "cell_type": "code",
   "execution_count": 79,
   "id": "dab2ffb8",
   "metadata": {},
   "outputs": [
    {
     "name": "stdout",
     "output_type": "stream",
     "text": [
      "Model: \"sequential_10\"\n",
      "_________________________________________________________________\n",
      " Layer (type)                Output Shape              Param #   \n",
      "=================================================================\n",
      " input_layer (Dense)         (None, 10)                20        \n",
      "                                                                 \n",
      " dense_15 (Dense)            (None, 1)                 11        \n",
      "                                                                 \n",
      "=================================================================\n",
      "Total params: 31\n",
      "Trainable params: 31\n",
      "Non-trainable params: 0\n",
      "_________________________________________________________________\n"
     ]
    }
   ],
   "source": [
    "# Recall the structure of our saved model\n",
    "model_2.summary()"
   ]
  },
  {
   "cell_type": "code",
   "execution_count": null,
   "id": "a6b13391",
   "metadata": {},
   "outputs": [],
   "source": []
  },
  {
   "cell_type": "code",
   "execution_count": 80,
   "id": "98a5dade",
   "metadata": {},
   "outputs": [
    {
     "name": "stdout",
     "output_type": "stream",
     "text": [
      "Model: \"sequential_10\"\n",
      "_________________________________________________________________\n",
      " Layer (type)                Output Shape              Param #   \n",
      "=================================================================\n",
      " input_layer (Dense)         (None, 10)                20        \n",
      "                                                                 \n",
      " dense_15 (Dense)            (None, 1)                 11        \n",
      "                                                                 \n",
      "=================================================================\n",
      "Total params: 31\n",
      "Trainable params: 31\n",
      "Non-trainable params: 0\n",
      "_________________________________________________________________\n"
     ]
    }
   ],
   "source": [
    "# Load the SaveModel format model\n",
    "loaded_SaveModel_format = tf.keras.models.load_model(\"./saved-models/model_2_SaveModel_format\")\n",
    "loaded_SaveModel_format.summary()"
   ]
  },
  {
   "cell_type": "markdown",
   "id": "9bedb2a3",
   "metadata": {},
   "source": [
    "We can confirm that loaded_SaveModel_format has the same structure as model_2, by looking at their .summary().      \n",
    "Now we will also confirm that their patterns (weights and biases) are the same, by checking that they are doing the same predictions."
   ]
  },
  {
   "cell_type": "code",
   "execution_count": 81,
   "id": "bb989a74",
   "metadata": {},
   "outputs": [
    {
     "name": "stdout",
     "output_type": "stream",
     "text": [
      "1/1 [==============================] - 0s 67ms/step\n",
      "1/1 [==============================] - 0s 113ms/step\n"
     ]
    },
    {
     "data": {
      "text/plain": [
       "array([[ True],\n",
       "       [ True],\n",
       "       [ True],\n",
       "       [ True],\n",
       "       [ True],\n",
       "       [ True],\n",
       "       [ True],\n",
       "       [ True],\n",
       "       [ True],\n",
       "       [ True]])"
      ]
     },
     "execution_count": 81,
     "metadata": {},
     "output_type": "execute_result"
    }
   ],
   "source": [
    "# Compare model_2 predictions with loaded_SaveModel_format predictions\n",
    "model_2_preds = model_2.predict(X_test)\n",
    "loaded_SaveModel_format_preds = loaded_SaveModel_format.predict(X_test)\n",
    "\n",
    "model_2_preds == loaded_SaveModel_format_preds"
   ]
  },
  {
   "cell_type": "code",
   "execution_count": null,
   "id": "d9dc7545",
   "metadata": {},
   "outputs": [],
   "source": []
  },
  {
   "cell_type": "code",
   "execution_count": 82,
   "id": "12d76241",
   "metadata": {},
   "outputs": [
    {
     "name": "stdout",
     "output_type": "stream",
     "text": [
      "Model: \"sequential_10\"\n",
      "_________________________________________________________________\n",
      " Layer (type)                Output Shape              Param #   \n",
      "=================================================================\n",
      " input_layer (Dense)         (None, 10)                20        \n",
      "                                                                 \n",
      " dense_15 (Dense)            (None, 1)                 11        \n",
      "                                                                 \n",
      "=================================================================\n",
      "Total params: 31\n",
      "Trainable params: 31\n",
      "Non-trainable params: 0\n",
      "_________________________________________________________________\n"
     ]
    }
   ],
   "source": [
    "# Load the HDF5 format model\n",
    "loaded_h5_model = tf.keras.models.load_model(\"./saved-models/model_2_HDF5_format.h5\")\n",
    "loaded_h5_model.summary()"
   ]
  },
  {
   "cell_type": "markdown",
   "id": "b14033c2",
   "metadata": {},
   "source": [
    "We can confirm through .summary() that the architecture of loaded_h5_model is the same as model_2. \n",
    "\n",
    "Now we will make sure that model_2 predictions match loaded_h5_model predictions."
   ]
  },
  {
   "cell_type": "code",
   "execution_count": 83,
   "id": "a7936835",
   "metadata": {},
   "outputs": [
    {
     "name": "stdout",
     "output_type": "stream",
     "text": [
      "1/1 [==============================] - 0s 45ms/step\n",
      "1/1 [==============================] - 0s 105ms/step\n"
     ]
    },
    {
     "data": {
      "text/plain": [
       "array([[ True],\n",
       "       [ True],\n",
       "       [ True],\n",
       "       [ True],\n",
       "       [ True],\n",
       "       [ True],\n",
       "       [ True],\n",
       "       [ True],\n",
       "       [ True],\n",
       "       [ True]])"
      ]
     },
     "execution_count": 83,
     "metadata": {},
     "output_type": "execute_result"
    }
   ],
   "source": [
    "# Compare model_2 predictions with loaded_h5_model predictions\n",
    "model_2_preds = model_2.predict(X_test)\n",
    "loaded_h5_model_preds = loaded_h5_model.predict(X_test)\n",
    "model_2_preds == loaded_h5_model_preds"
   ]
  },
  {
   "cell_type": "code",
   "execution_count": null,
   "id": "9b7eadbe",
   "metadata": {},
   "outputs": [],
   "source": []
  },
  {
   "cell_type": "markdown",
   "id": "2c9c6f28",
   "metadata": {},
   "source": [
    "## Puttting together what was learned so far\n",
    "\n",
    "Now it is time to build a model for a more feature rich dataset."
   ]
  },
  {
   "cell_type": "code",
   "execution_count": null,
   "id": "016cb7d8",
   "metadata": {},
   "outputs": [],
   "source": []
  },
  {
   "cell_type": "markdown",
   "id": "b85f0a42",
   "metadata": {},
   "source": [
    "### Preparing the dataset\n",
    "\n",
    "We are going to have a look at the publicly available [Medical Cost Personal Datasets - Insurance Forecast by using Linear Regression](https://www.kaggle.com/datasets/mirichoi0218/insurance) from Kaggle\n",
    "\n",
    "**Columns**\n",
    "\n",
    "* **age**: age of primary beneficiary\n",
    "* **sex**: insurance contractor gender, female, male\n",
    "* **bmi**: Body mass index, providing an understanding of body, weights that are relatively high or low relative to height,\n",
    "objective index of body weight (kg / m ^ 2) using the ratio of height to weight, ideally 18.5 to 24.9\n",
    "* **children**: Number of children covered by health insurance / Number of dependents\n",
    "* **smoker**: Smoking\n",
    "* **region**: the beneficiary's residential area in the US, northeast, southeast, southwest, northwest.\n",
    "* **charges**: Individual medical costs billed by health insurance     \n",
    "\n",
    "The dataset can be download from [here](https://github.com/stedy/Machine-Learning-with-R-datasets/blob/master/insurance.csv)          \n",
    "\n",
    "\n",
    "The goal is to use the above columns from age to region to predict what someone's medical costs billed by health insurance will be."
   ]
  },
  {
   "cell_type": "code",
   "execution_count": 84,
   "id": "70030320",
   "metadata": {},
   "outputs": [
    {
     "data": {
      "text/html": [
       "<div>\n",
       "<style scoped>\n",
       "    .dataframe tbody tr th:only-of-type {\n",
       "        vertical-align: middle;\n",
       "    }\n",
       "\n",
       "    .dataframe tbody tr th {\n",
       "        vertical-align: top;\n",
       "    }\n",
       "\n",
       "    .dataframe thead th {\n",
       "        text-align: right;\n",
       "    }\n",
       "</style>\n",
       "<table border=\"1\" class=\"dataframe\">\n",
       "  <thead>\n",
       "    <tr style=\"text-align: right;\">\n",
       "      <th></th>\n",
       "      <th>age</th>\n",
       "      <th>sex</th>\n",
       "      <th>bmi</th>\n",
       "      <th>children</th>\n",
       "      <th>smoker</th>\n",
       "      <th>region</th>\n",
       "      <th>charges</th>\n",
       "    </tr>\n",
       "  </thead>\n",
       "  <tbody>\n",
       "    <tr>\n",
       "      <th>0</th>\n",
       "      <td>19</td>\n",
       "      <td>female</td>\n",
       "      <td>27.900</td>\n",
       "      <td>0</td>\n",
       "      <td>yes</td>\n",
       "      <td>southwest</td>\n",
       "      <td>16884.92400</td>\n",
       "    </tr>\n",
       "    <tr>\n",
       "      <th>1</th>\n",
       "      <td>18</td>\n",
       "      <td>male</td>\n",
       "      <td>33.770</td>\n",
       "      <td>1</td>\n",
       "      <td>no</td>\n",
       "      <td>southeast</td>\n",
       "      <td>1725.55230</td>\n",
       "    </tr>\n",
       "    <tr>\n",
       "      <th>2</th>\n",
       "      <td>28</td>\n",
       "      <td>male</td>\n",
       "      <td>33.000</td>\n",
       "      <td>3</td>\n",
       "      <td>no</td>\n",
       "      <td>southeast</td>\n",
       "      <td>4449.46200</td>\n",
       "    </tr>\n",
       "    <tr>\n",
       "      <th>3</th>\n",
       "      <td>33</td>\n",
       "      <td>male</td>\n",
       "      <td>22.705</td>\n",
       "      <td>0</td>\n",
       "      <td>no</td>\n",
       "      <td>northwest</td>\n",
       "      <td>21984.47061</td>\n",
       "    </tr>\n",
       "    <tr>\n",
       "      <th>4</th>\n",
       "      <td>32</td>\n",
       "      <td>male</td>\n",
       "      <td>28.880</td>\n",
       "      <td>0</td>\n",
       "      <td>no</td>\n",
       "      <td>northwest</td>\n",
       "      <td>3866.85520</td>\n",
       "    </tr>\n",
       "  </tbody>\n",
       "</table>\n",
       "</div>"
      ],
      "text/plain": [
       "   age     sex     bmi  children smoker     region      charges\n",
       "0   19  female  27.900         0    yes  southwest  16884.92400\n",
       "1   18    male  33.770         1     no  southeast   1725.55230\n",
       "2   28    male  33.000         3     no  southeast   4449.46200\n",
       "3   33    male  22.705         0     no  northwest  21984.47061\n",
       "4   32    male  28.880         0     no  northwest   3866.85520"
      ]
     },
     "execution_count": 84,
     "metadata": {},
     "output_type": "execute_result"
    }
   ],
   "source": [
    "insurance_df = pd.read_csv(\"data/insurance.csv\")\n",
    "insurance_df.head()"
   ]
  },
  {
   "cell_type": "code",
   "execution_count": 85,
   "id": "bb8d4147",
   "metadata": {},
   "outputs": [
    {
     "data": {
      "text/plain": [
       "(1338, 7)"
      ]
     },
     "execution_count": 85,
     "metadata": {},
     "output_type": "execute_result"
    }
   ],
   "source": [
    "insurance_df.shape"
   ]
  },
  {
   "cell_type": "code",
   "execution_count": 86,
   "id": "795031f7",
   "metadata": {},
   "outputs": [
    {
     "name": "stdout",
     "output_type": "stream",
     "text": [
      "<class 'pandas.core.frame.DataFrame'>\n",
      "RangeIndex: 1338 entries, 0 to 1337\n",
      "Data columns (total 7 columns):\n",
      " #   Column    Non-Null Count  Dtype  \n",
      "---  ------    --------------  -----  \n",
      " 0   age       1338 non-null   int64  \n",
      " 1   sex       1338 non-null   object \n",
      " 2   bmi       1338 non-null   float64\n",
      " 3   children  1338 non-null   int64  \n",
      " 4   smoker    1338 non-null   object \n",
      " 5   region    1338 non-null   object \n",
      " 6   charges   1338 non-null   float64\n",
      "dtypes: float64(2), int64(2), object(3)\n",
      "memory usage: 73.3+ KB\n"
     ]
    }
   ],
   "source": [
    "insurance_df.info()"
   ]
  },
  {
   "cell_type": "markdown",
   "id": "c594b415",
   "metadata": {},
   "source": [
    "Now we will work on our first step in getting our data ready to pass into our machine/deep learning models : all our categorical features should be encoded to numerical values. Here, it is the one-hot encoding technique that will be used.  \n",
    "\n",
    "We can one-hot encode our variables manually, but it will take a lot of work. So we will use the `pandas.get_dummies()` function. Here is [an example](https://queirozf.com/entries/one-hot-encoding-a-feature-on-a-pandas-dataframe-an-example) on how to proceed."
   ]
  },
  {
   "cell_type": "code",
   "execution_count": 90,
   "id": "1aa8b000",
   "metadata": {},
   "outputs": [
    {
     "data": {
      "text/html": [
       "<div>\n",
       "<style scoped>\n",
       "    .dataframe tbody tr th:only-of-type {\n",
       "        vertical-align: middle;\n",
       "    }\n",
       "\n",
       "    .dataframe tbody tr th {\n",
       "        vertical-align: top;\n",
       "    }\n",
       "\n",
       "    .dataframe thead th {\n",
       "        text-align: right;\n",
       "    }\n",
       "</style>\n",
       "<table border=\"1\" class=\"dataframe\">\n",
       "  <thead>\n",
       "    <tr style=\"text-align: right;\">\n",
       "      <th></th>\n",
       "      <th>0</th>\n",
       "      <th>1</th>\n",
       "      <th>2</th>\n",
       "      <th>3</th>\n",
       "      <th>4</th>\n",
       "      <th>5</th>\n",
       "      <th>6</th>\n",
       "      <th>7</th>\n",
       "      <th>8</th>\n",
       "      <th>9</th>\n",
       "      <th>...</th>\n",
       "      <th>1328</th>\n",
       "      <th>1329</th>\n",
       "      <th>1330</th>\n",
       "      <th>1331</th>\n",
       "      <th>1332</th>\n",
       "      <th>1333</th>\n",
       "      <th>1334</th>\n",
       "      <th>1335</th>\n",
       "      <th>1336</th>\n",
       "      <th>1337</th>\n",
       "    </tr>\n",
       "  </thead>\n",
       "  <tbody>\n",
       "    <tr>\n",
       "      <th>age</th>\n",
       "      <td>19.000</td>\n",
       "      <td>18.0000</td>\n",
       "      <td>28.000</td>\n",
       "      <td>33.00000</td>\n",
       "      <td>32.0000</td>\n",
       "      <td>31.0000</td>\n",
       "      <td>46.0000</td>\n",
       "      <td>37.0000</td>\n",
       "      <td>37.0000</td>\n",
       "      <td>60.00000</td>\n",
       "      <td>...</td>\n",
       "      <td>23.00000</td>\n",
       "      <td>52.000</td>\n",
       "      <td>57.0000</td>\n",
       "      <td>23.00000</td>\n",
       "      <td>52.000</td>\n",
       "      <td>50.0000</td>\n",
       "      <td>18.0000</td>\n",
       "      <td>18.0000</td>\n",
       "      <td>21.000</td>\n",
       "      <td>61.0000</td>\n",
       "    </tr>\n",
       "    <tr>\n",
       "      <th>bmi</th>\n",
       "      <td>27.900</td>\n",
       "      <td>33.7700</td>\n",
       "      <td>33.000</td>\n",
       "      <td>22.70500</td>\n",
       "      <td>28.8800</td>\n",
       "      <td>25.7400</td>\n",
       "      <td>33.4400</td>\n",
       "      <td>27.7400</td>\n",
       "      <td>29.8300</td>\n",
       "      <td>25.84000</td>\n",
       "      <td>...</td>\n",
       "      <td>24.22500</td>\n",
       "      <td>38.600</td>\n",
       "      <td>25.7400</td>\n",
       "      <td>33.40000</td>\n",
       "      <td>44.700</td>\n",
       "      <td>30.9700</td>\n",
       "      <td>31.9200</td>\n",
       "      <td>36.8500</td>\n",
       "      <td>25.800</td>\n",
       "      <td>29.0700</td>\n",
       "    </tr>\n",
       "    <tr>\n",
       "      <th>children</th>\n",
       "      <td>0.000</td>\n",
       "      <td>1.0000</td>\n",
       "      <td>3.000</td>\n",
       "      <td>0.00000</td>\n",
       "      <td>0.0000</td>\n",
       "      <td>0.0000</td>\n",
       "      <td>1.0000</td>\n",
       "      <td>3.0000</td>\n",
       "      <td>2.0000</td>\n",
       "      <td>0.00000</td>\n",
       "      <td>...</td>\n",
       "      <td>2.00000</td>\n",
       "      <td>2.000</td>\n",
       "      <td>2.0000</td>\n",
       "      <td>0.00000</td>\n",
       "      <td>3.000</td>\n",
       "      <td>3.0000</td>\n",
       "      <td>0.0000</td>\n",
       "      <td>0.0000</td>\n",
       "      <td>0.000</td>\n",
       "      <td>0.0000</td>\n",
       "    </tr>\n",
       "    <tr>\n",
       "      <th>charges</th>\n",
       "      <td>16884.924</td>\n",
       "      <td>1725.5523</td>\n",
       "      <td>4449.462</td>\n",
       "      <td>21984.47061</td>\n",
       "      <td>3866.8552</td>\n",
       "      <td>3756.6216</td>\n",
       "      <td>8240.5896</td>\n",
       "      <td>7281.5056</td>\n",
       "      <td>6406.4107</td>\n",
       "      <td>28923.13692</td>\n",
       "      <td>...</td>\n",
       "      <td>22395.74424</td>\n",
       "      <td>10325.206</td>\n",
       "      <td>12629.1656</td>\n",
       "      <td>10795.93733</td>\n",
       "      <td>11411.685</td>\n",
       "      <td>10600.5483</td>\n",
       "      <td>2205.9808</td>\n",
       "      <td>1629.8335</td>\n",
       "      <td>2007.945</td>\n",
       "      <td>29141.3603</td>\n",
       "    </tr>\n",
       "    <tr>\n",
       "      <th>sex_female</th>\n",
       "      <td>1.000</td>\n",
       "      <td>0.0000</td>\n",
       "      <td>0.000</td>\n",
       "      <td>0.00000</td>\n",
       "      <td>0.0000</td>\n",
       "      <td>1.0000</td>\n",
       "      <td>1.0000</td>\n",
       "      <td>1.0000</td>\n",
       "      <td>0.0000</td>\n",
       "      <td>1.00000</td>\n",
       "      <td>...</td>\n",
       "      <td>1.00000</td>\n",
       "      <td>0.000</td>\n",
       "      <td>1.0000</td>\n",
       "      <td>1.00000</td>\n",
       "      <td>1.000</td>\n",
       "      <td>0.0000</td>\n",
       "      <td>1.0000</td>\n",
       "      <td>1.0000</td>\n",
       "      <td>1.000</td>\n",
       "      <td>1.0000</td>\n",
       "    </tr>\n",
       "    <tr>\n",
       "      <th>sex_male</th>\n",
       "      <td>0.000</td>\n",
       "      <td>1.0000</td>\n",
       "      <td>1.000</td>\n",
       "      <td>1.00000</td>\n",
       "      <td>1.0000</td>\n",
       "      <td>0.0000</td>\n",
       "      <td>0.0000</td>\n",
       "      <td>0.0000</td>\n",
       "      <td>1.0000</td>\n",
       "      <td>0.00000</td>\n",
       "      <td>...</td>\n",
       "      <td>0.00000</td>\n",
       "      <td>1.000</td>\n",
       "      <td>0.0000</td>\n",
       "      <td>0.00000</td>\n",
       "      <td>0.000</td>\n",
       "      <td>1.0000</td>\n",
       "      <td>0.0000</td>\n",
       "      <td>0.0000</td>\n",
       "      <td>0.000</td>\n",
       "      <td>0.0000</td>\n",
       "    </tr>\n",
       "    <tr>\n",
       "      <th>smoker_no</th>\n",
       "      <td>0.000</td>\n",
       "      <td>1.0000</td>\n",
       "      <td>1.000</td>\n",
       "      <td>1.00000</td>\n",
       "      <td>1.0000</td>\n",
       "      <td>1.0000</td>\n",
       "      <td>1.0000</td>\n",
       "      <td>1.0000</td>\n",
       "      <td>1.0000</td>\n",
       "      <td>1.00000</td>\n",
       "      <td>...</td>\n",
       "      <td>1.00000</td>\n",
       "      <td>1.000</td>\n",
       "      <td>1.0000</td>\n",
       "      <td>1.00000</td>\n",
       "      <td>1.000</td>\n",
       "      <td>1.0000</td>\n",
       "      <td>1.0000</td>\n",
       "      <td>1.0000</td>\n",
       "      <td>1.000</td>\n",
       "      <td>0.0000</td>\n",
       "    </tr>\n",
       "    <tr>\n",
       "      <th>smoker_yes</th>\n",
       "      <td>1.000</td>\n",
       "      <td>0.0000</td>\n",
       "      <td>0.000</td>\n",
       "      <td>0.00000</td>\n",
       "      <td>0.0000</td>\n",
       "      <td>0.0000</td>\n",
       "      <td>0.0000</td>\n",
       "      <td>0.0000</td>\n",
       "      <td>0.0000</td>\n",
       "      <td>0.00000</td>\n",
       "      <td>...</td>\n",
       "      <td>0.00000</td>\n",
       "      <td>0.000</td>\n",
       "      <td>0.0000</td>\n",
       "      <td>0.00000</td>\n",
       "      <td>0.000</td>\n",
       "      <td>0.0000</td>\n",
       "      <td>0.0000</td>\n",
       "      <td>0.0000</td>\n",
       "      <td>0.000</td>\n",
       "      <td>1.0000</td>\n",
       "    </tr>\n",
       "    <tr>\n",
       "      <th>region_northeast</th>\n",
       "      <td>0.000</td>\n",
       "      <td>0.0000</td>\n",
       "      <td>0.000</td>\n",
       "      <td>0.00000</td>\n",
       "      <td>0.0000</td>\n",
       "      <td>0.0000</td>\n",
       "      <td>0.0000</td>\n",
       "      <td>0.0000</td>\n",
       "      <td>1.0000</td>\n",
       "      <td>0.00000</td>\n",
       "      <td>...</td>\n",
       "      <td>1.00000</td>\n",
       "      <td>0.000</td>\n",
       "      <td>0.0000</td>\n",
       "      <td>0.00000</td>\n",
       "      <td>0.000</td>\n",
       "      <td>0.0000</td>\n",
       "      <td>1.0000</td>\n",
       "      <td>0.0000</td>\n",
       "      <td>0.000</td>\n",
       "      <td>0.0000</td>\n",
       "    </tr>\n",
       "    <tr>\n",
       "      <th>region_northwest</th>\n",
       "      <td>0.000</td>\n",
       "      <td>0.0000</td>\n",
       "      <td>0.000</td>\n",
       "      <td>1.00000</td>\n",
       "      <td>1.0000</td>\n",
       "      <td>0.0000</td>\n",
       "      <td>0.0000</td>\n",
       "      <td>1.0000</td>\n",
       "      <td>0.0000</td>\n",
       "      <td>1.00000</td>\n",
       "      <td>...</td>\n",
       "      <td>0.00000</td>\n",
       "      <td>0.000</td>\n",
       "      <td>0.0000</td>\n",
       "      <td>0.00000</td>\n",
       "      <td>0.000</td>\n",
       "      <td>1.0000</td>\n",
       "      <td>0.0000</td>\n",
       "      <td>0.0000</td>\n",
       "      <td>0.000</td>\n",
       "      <td>1.0000</td>\n",
       "    </tr>\n",
       "    <tr>\n",
       "      <th>region_southeast</th>\n",
       "      <td>0.000</td>\n",
       "      <td>1.0000</td>\n",
       "      <td>1.000</td>\n",
       "      <td>0.00000</td>\n",
       "      <td>0.0000</td>\n",
       "      <td>1.0000</td>\n",
       "      <td>1.0000</td>\n",
       "      <td>0.0000</td>\n",
       "      <td>0.0000</td>\n",
       "      <td>0.00000</td>\n",
       "      <td>...</td>\n",
       "      <td>0.00000</td>\n",
       "      <td>0.000</td>\n",
       "      <td>1.0000</td>\n",
       "      <td>0.00000</td>\n",
       "      <td>0.000</td>\n",
       "      <td>0.0000</td>\n",
       "      <td>0.0000</td>\n",
       "      <td>1.0000</td>\n",
       "      <td>0.000</td>\n",
       "      <td>0.0000</td>\n",
       "    </tr>\n",
       "    <tr>\n",
       "      <th>region_southwest</th>\n",
       "      <td>1.000</td>\n",
       "      <td>0.0000</td>\n",
       "      <td>0.000</td>\n",
       "      <td>0.00000</td>\n",
       "      <td>0.0000</td>\n",
       "      <td>0.0000</td>\n",
       "      <td>0.0000</td>\n",
       "      <td>0.0000</td>\n",
       "      <td>0.0000</td>\n",
       "      <td>0.00000</td>\n",
       "      <td>...</td>\n",
       "      <td>0.00000</td>\n",
       "      <td>1.000</td>\n",
       "      <td>0.0000</td>\n",
       "      <td>1.00000</td>\n",
       "      <td>1.000</td>\n",
       "      <td>0.0000</td>\n",
       "      <td>0.0000</td>\n",
       "      <td>0.0000</td>\n",
       "      <td>1.000</td>\n",
       "      <td>0.0000</td>\n",
       "    </tr>\n",
       "  </tbody>\n",
       "</table>\n",
       "<p>12 rows × 1338 columns</p>\n",
       "</div>"
      ],
      "text/plain": [
       "                       0          1         2            3          4     \\\n",
       "age                  19.000    18.0000    28.000     33.00000    32.0000   \n",
       "bmi                  27.900    33.7700    33.000     22.70500    28.8800   \n",
       "children              0.000     1.0000     3.000      0.00000     0.0000   \n",
       "charges           16884.924  1725.5523  4449.462  21984.47061  3866.8552   \n",
       "sex_female            1.000     0.0000     0.000      0.00000     0.0000   \n",
       "sex_male              0.000     1.0000     1.000      1.00000     1.0000   \n",
       "smoker_no             0.000     1.0000     1.000      1.00000     1.0000   \n",
       "smoker_yes            1.000     0.0000     0.000      0.00000     0.0000   \n",
       "region_northeast      0.000     0.0000     0.000      0.00000     0.0000   \n",
       "region_northwest      0.000     0.0000     0.000      1.00000     1.0000   \n",
       "region_southeast      0.000     1.0000     1.000      0.00000     0.0000   \n",
       "region_southwest      1.000     0.0000     0.000      0.00000     0.0000   \n",
       "\n",
       "                       5          6          7          8            9     \\\n",
       "age                 31.0000    46.0000    37.0000    37.0000     60.00000   \n",
       "bmi                 25.7400    33.4400    27.7400    29.8300     25.84000   \n",
       "children             0.0000     1.0000     3.0000     2.0000      0.00000   \n",
       "charges           3756.6216  8240.5896  7281.5056  6406.4107  28923.13692   \n",
       "sex_female           1.0000     1.0000     1.0000     0.0000      1.00000   \n",
       "sex_male             0.0000     0.0000     0.0000     1.0000      0.00000   \n",
       "smoker_no            1.0000     1.0000     1.0000     1.0000      1.00000   \n",
       "smoker_yes           0.0000     0.0000     0.0000     0.0000      0.00000   \n",
       "region_northeast     0.0000     0.0000     0.0000     1.0000      0.00000   \n",
       "region_northwest     0.0000     0.0000     1.0000     0.0000      1.00000   \n",
       "region_southeast     1.0000     1.0000     0.0000     0.0000      0.00000   \n",
       "region_southwest     0.0000     0.0000     0.0000     0.0000      0.00000   \n",
       "\n",
       "                  ...         1328       1329        1330         1331  \\\n",
       "age               ...     23.00000     52.000     57.0000     23.00000   \n",
       "bmi               ...     24.22500     38.600     25.7400     33.40000   \n",
       "children          ...      2.00000      2.000      2.0000      0.00000   \n",
       "charges           ...  22395.74424  10325.206  12629.1656  10795.93733   \n",
       "sex_female        ...      1.00000      0.000      1.0000      1.00000   \n",
       "sex_male          ...      0.00000      1.000      0.0000      0.00000   \n",
       "smoker_no         ...      1.00000      1.000      1.0000      1.00000   \n",
       "smoker_yes        ...      0.00000      0.000      0.0000      0.00000   \n",
       "region_northeast  ...      1.00000      0.000      0.0000      0.00000   \n",
       "region_northwest  ...      0.00000      0.000      0.0000      0.00000   \n",
       "region_southeast  ...      0.00000      0.000      1.0000      0.00000   \n",
       "region_southwest  ...      0.00000      1.000      0.0000      1.00000   \n",
       "\n",
       "                       1332        1333       1334       1335      1336  \\\n",
       "age                  52.000     50.0000    18.0000    18.0000    21.000   \n",
       "bmi                  44.700     30.9700    31.9200    36.8500    25.800   \n",
       "children              3.000      3.0000     0.0000     0.0000     0.000   \n",
       "charges           11411.685  10600.5483  2205.9808  1629.8335  2007.945   \n",
       "sex_female            1.000      0.0000     1.0000     1.0000     1.000   \n",
       "sex_male              0.000      1.0000     0.0000     0.0000     0.000   \n",
       "smoker_no             1.000      1.0000     1.0000     1.0000     1.000   \n",
       "smoker_yes            0.000      0.0000     0.0000     0.0000     0.000   \n",
       "region_northeast      0.000      0.0000     1.0000     0.0000     0.000   \n",
       "region_northwest      0.000      1.0000     0.0000     0.0000     0.000   \n",
       "region_southeast      0.000      0.0000     0.0000     1.0000     0.000   \n",
       "region_southwest      1.000      0.0000     0.0000     0.0000     1.000   \n",
       "\n",
       "                        1337  \n",
       "age                  61.0000  \n",
       "bmi                  29.0700  \n",
       "children              0.0000  \n",
       "charges           29141.3603  \n",
       "sex_female            1.0000  \n",
       "sex_male              0.0000  \n",
       "smoker_no             0.0000  \n",
       "smoker_yes            1.0000  \n",
       "region_northeast      0.0000  \n",
       "region_northwest      1.0000  \n",
       "region_southeast      0.0000  \n",
       "region_southwest      0.0000  \n",
       "\n",
       "[12 rows x 1338 columns]"
      ]
     },
     "execution_count": 90,
     "metadata": {},
     "output_type": "execute_result"
    }
   ],
   "source": [
    "# One-hot encode dataframe so that it is all numbers\n",
    "insurance_onehot_df = pd.get_dummies(insurance_df)\n",
    "insurance_onehot_df.T"
   ]
  },
  {
   "cell_type": "code",
   "execution_count": null,
   "id": "4011de41",
   "metadata": {},
   "outputs": [],
   "source": []
  },
  {
   "cell_type": "markdown",
   "id": "73760872",
   "metadata": {},
   "source": [
    "### Building the regression model"
   ]
  },
  {
   "cell_type": "code",
   "execution_count": null,
   "id": "62cf3b62",
   "metadata": {},
   "outputs": [],
   "source": []
  },
  {
   "cell_type": "code",
   "execution_count": null,
   "id": "0e221709",
   "metadata": {},
   "outputs": [],
   "source": []
  },
  {
   "cell_type": "code",
   "execution_count": null,
   "id": "8c4127ce",
   "metadata": {},
   "outputs": [],
   "source": []
  },
  {
   "cell_type": "code",
   "execution_count": null,
   "id": "016a5066",
   "metadata": {},
   "outputs": [],
   "source": []
  }
 ],
 "metadata": {
  "kernelspec": {
   "display_name": "Python 3",
   "language": "python",
   "name": "python3"
  },
  "language_info": {
   "codemirror_mode": {
    "name": "ipython",
    "version": 3
   },
   "file_extension": ".py",
   "mimetype": "text/x-python",
   "name": "python",
   "nbconvert_exporter": "python",
   "pygments_lexer": "ipython3",
   "version": "3.8.8"
  }
 },
 "nbformat": 4,
 "nbformat_minor": 5
}
