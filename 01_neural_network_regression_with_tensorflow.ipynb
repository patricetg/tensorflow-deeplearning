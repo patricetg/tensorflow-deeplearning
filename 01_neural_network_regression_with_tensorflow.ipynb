{
 "cells": [
  {
   "cell_type": "code",
   "execution_count": null,
   "id": "d1d332c5",
   "metadata": {},
   "outputs": [],
   "source": []
  },
  {
   "cell_type": "markdown",
   "id": "ae1f3f01",
   "metadata": {},
   "source": [
    "# Introduction to Regression with Neural Networks in TensorFlow\n",
    "\n",
    "There are many definitions for a regression problem, but to make it simple : predicting a continuous (numerical) variable based on some other combination of variables."
   ]
  },
  {
   "cell_type": "code",
   "execution_count": 1,
   "id": "3ebcab60",
   "metadata": {},
   "outputs": [
    {
     "name": "stdout",
     "output_type": "stream",
     "text": [
      "2.10.0\n"
     ]
    }
   ],
   "source": [
    "# Import TensorFlow\n",
    "import tensorflow as tf\n",
    "print(tf.__version__)"
   ]
  },
  {
   "cell_type": "code",
   "execution_count": 2,
   "id": "46175302",
   "metadata": {},
   "outputs": [],
   "source": [
    "import numpy as np\n",
    "import matplotlib.pyplot as plt"
   ]
  },
  {
   "cell_type": "code",
   "execution_count": 3,
   "id": "b73583b4",
   "metadata": {},
   "outputs": [],
   "source": [
    "from tensorflow.keras.utils import plot_model"
   ]
  },
  {
   "cell_type": "markdown",
   "id": "5b304915",
   "metadata": {},
   "source": [
    "Note : in order to use plot_model, one must install pydot (`pip install pydot`) and install graphviz (see instructions at https://graphviz.gitlab.io/download/) for plot_model to work."
   ]
  },
  {
   "cell_type": "code",
   "execution_count": null,
   "id": "99283640",
   "metadata": {},
   "outputs": [],
   "source": []
  },
  {
   "cell_type": "markdown",
   "id": "3ea9cdd1",
   "metadata": {},
   "source": [
    "### Creating data to view and fit"
   ]
  },
  {
   "cell_type": "code",
   "execution_count": 4,
   "id": "dc6c9d96",
   "metadata": {},
   "outputs": [
    {
     "data": {
      "text/plain": [
       "<matplotlib.collections.PathCollection at 0x29f79645ca0>"
      ]
     },
     "execution_count": 4,
     "metadata": {},
     "output_type": "execute_result"
    },
    {
     "data": {
      "image/png": "[encoded data removed]",
      "text/plain": [
       "<Figure size 432x288 with 1 Axes>"
      ]
     },
     "metadata": {
      "needs_background": "light"
     },
     "output_type": "display_data"
    }
   ],
   "source": [
    "# Create features\n",
    "X = np.array([-7., -4, -1, 2, 5, 8, 11, 14])\n",
    "\n",
    "# Create labels\n",
    "y = np.array([3., 6, 9, 12, 15, 18, 21, 24])\n",
    "\n",
    "# Visualize it\n",
    "plt.scatter(X,y)"
   ]
  },
  {
   "cell_type": "code",
   "execution_count": 5,
   "id": "2e244a47",
   "metadata": {},
   "outputs": [
    {
     "data": {
      "text/plain": [
       "array([ 3.,  6.,  9., 12., 15., 18., 21., 24.])"
      ]
     },
     "execution_count": 5,
     "metadata": {},
     "output_type": "execute_result"
    }
   ],
   "source": [
    "X+10"
   ]
  },
  {
   "cell_type": "code",
   "execution_count": 6,
   "id": "fb87b2bc",
   "metadata": {},
   "outputs": [
    {
     "data": {
      "text/plain": [
       "array([ True,  True,  True,  True,  True,  True,  True,  True])"
      ]
     },
     "execution_count": 6,
     "metadata": {},
     "output_type": "execute_result"
    }
   ],
   "source": [
    "y == X+10"
   ]
  },
  {
   "cell_type": "code",
   "execution_count": 7,
   "id": "e18c377b",
   "metadata": {},
   "outputs": [
    {
     "data": {
      "text/plain": [
       "(TensorShape([8]), TensorShape([8]))"
      ]
     },
     "execution_count": 7,
     "metadata": {},
     "output_type": "execute_result"
    }
   ],
   "source": [
    "# Turning the NumPy arrays into tensors\n",
    "X = tf.constant(X)\n",
    "y = tf.constant(y)\n",
    "X.shape, y.shape"
   ]
  },
  {
   "cell_type": "code",
   "execution_count": 8,
   "id": "f4485d20",
   "metadata": {},
   "outputs": [
    {
     "data": {
      "text/plain": [
       "<tf.Tensor: shape=(8,), dtype=float64, numpy=array([-7., -4., -1.,  2.,  5.,  8., 11., 14.])>"
      ]
     },
     "execution_count": 8,
     "metadata": {},
     "output_type": "execute_result"
    }
   ],
   "source": [
    "X"
   ]
  },
  {
   "cell_type": "code",
   "execution_count": 9,
   "id": "5e0fe4a9",
   "metadata": {},
   "outputs": [
    {
     "data": {
      "text/plain": [
       "<tf.Tensor: shape=(8, 1), dtype=float64, numpy=\n",
       "array([[-7.],\n",
       "       [-4.],\n",
       "       [-1.],\n",
       "       [ 2.],\n",
       "       [ 5.],\n",
       "       [ 8.],\n",
       "       [11.],\n",
       "       [14.]])>"
      ]
     },
     "execution_count": 9,
     "metadata": {},
     "output_type": "execute_result"
    }
   ],
   "source": [
    "# Expand the dimension of a tensor : https://www.geeksforgeeks.org/python-tensorflow-expand_dims/\n",
    "tf.expand_dims(X, axis=-1)"
   ]
  },
  {
   "cell_type": "code",
   "execution_count": null,
   "id": "f5304102",
   "metadata": {},
   "outputs": [],
   "source": []
  },
  {
   "cell_type": "markdown",
   "id": "612e394c",
   "metadata": {},
   "source": [
    "### Steps in modeling in TensorFlow\n",
    "\n",
    "1. **Creating the model** - define the input and output layers, as well as the hidden layers of a deep learning model.\n",
    "2. **Compiling the model** - define the `loss function` (the function which will tells our model how far it's from performing well), the `optimizer` (tells the model how to update its internal patterns to better its predictions) and the `evaluation metrics` (human interpretable values for how well the model is doing).\n",
    "3. **Fitting the model** - letting the model try to find patterns between features and labels.\n",
    "4. **Evaluation** - Evaluate the model on the test data (in order to know how reliable are the model's predictions)\n",
    "\n",
    "\n",
    "In TensorFlow, there are two main way of creating a model :\n",
    "* Sequential API\n",
    "* Functional API"
   ]
  },
  {
   "cell_type": "code",
   "execution_count": 10,
   "id": "6f72d001",
   "metadata": {},
   "outputs": [
    {
     "name": "stdout",
     "output_type": "stream",
     "text": [
      "Epoch 1/5\n",
      "1/1 [==============================] - 0s 336ms/step - loss: 12.2189 - mae: 12.2189\n",
      "Epoch 2/5\n",
      "1/1 [==============================] - 0s 3ms/step - loss: 12.0864 - mae: 12.0864\n",
      "Epoch 3/5\n",
      "1/1 [==============================] - 0s 3ms/step - loss: 11.9539 - mae: 11.9539\n",
      "Epoch 4/5\n",
      "1/1 [==============================] - 0s 3ms/step - loss: 11.8214 - mae: 11.8214\n",
      "Epoch 5/5\n",
      "1/1 [==============================] - 0s 5ms/step - loss: 11.6889 - mae: 11.6889\n"
     ]
    },
    {
     "data": {
      "text/plain": [
       "<keras.callbacks.History at 0x29f79972a00>"
      ]
     },
     "execution_count": 10,
     "metadata": {},
     "output_type": "execute_result"
    }
   ],
   "source": [
    "# Set a random seed (in order to have some reproducibility)\n",
    "tf.random.set_seed(42)\n",
    "\n",
    "# 1. Create a model using the Sequential API\n",
    "model = tf.keras.Sequential([\n",
    "    tf.keras.layers.Dense(1)\n",
    "])\n",
    "\n",
    "# 2. Compile the model\n",
    "model.compile(loss=tf.keras.losses.mae, # MAE : Mean Absolute Error\n",
    "              optimizer=tf.keras.optimizers.SGD(), # SGD : Stochastic Gradient Descent\n",
    "              metrics=[\"mae\"]\n",
    "             )\n",
    "\n",
    "# 3. Fit the model \n",
    "model.fit(tf.expand_dims(X, axis=-1),y, epochs=5)\n"
   ]
  },
  {
   "cell_type": "markdown",
   "id": "2f2af8b2",
   "metadata": {},
   "source": [
    "**Note**  \n",
    "A lot of function in TensorFlow, if they have a shortcut name (e.g. mae or SGD), can be replaced by a string variable to define the fact it is wished to used that specific function. For e.g., the step 2 in the above cell( Compile the model), can also be written as such : \n",
    "\n",
    "model.compile(loss=\"mae\",  \n",
    "              optimizer=\"sgd\",  \n",
    "              metrics=[\"mae\"]  \n",
    "             )"
   ]
  },
  {
   "cell_type": "code",
   "execution_count": 11,
   "id": "9949ba02",
   "metadata": {},
   "outputs": [
    {
     "data": {
      "text/plain": [
       "(<tf.Tensor: shape=(8,), dtype=float64, numpy=array([-7., -4., -1.,  2.,  5.,  8., 11., 14.])>,\n",
       " <tf.Tensor: shape=(8,), dtype=float64, numpy=array([ 3.,  6.,  9., 12., 15., 18., 21., 24.])>)"
      ]
     },
     "execution_count": 11,
     "metadata": {},
     "output_type": "execute_result"
    }
   ],
   "source": [
    "# Check out X and y\n",
    "X, y"
   ]
  },
  {
   "cell_type": "code",
   "execution_count": 12,
   "id": "d35d1023",
   "metadata": {},
   "outputs": [
    {
     "name": "stdout",
     "output_type": "stream",
     "text": [
      "1/1 [==============================] - 0s 104ms/step\n"
     ]
    },
    {
     "data": {
      "text/plain": [
       "array([[9.247703]], dtype=float32)"
      ]
     },
     "execution_count": 12,
     "metadata": {},
     "output_type": "execute_result"
    }
   ],
   "source": [
    "# Trying to make a prediction using our model\n",
    "model.predict([17.])"
   ]
  },
  {
   "cell_type": "markdown",
   "id": "9eefcc9e",
   "metadata": {},
   "source": [
    "The predicted value (y) should be 27 when X is 17. But we got -13.89, which is pretty far off. This is no surprising because the current MAE of our model is 17.3050, which means : on average, our model predict something that is 17.3050 points off where is should be (MAE)."
   ]
  },
  {
   "cell_type": "code",
   "execution_count": 13,
   "id": "27107469",
   "metadata": {},
   "outputs": [
    {
     "name": "stdout",
     "output_type": "stream",
     "text": [
      "1/1 [==============================] - 0s 35ms/step\n"
     ]
    },
    {
     "data": {
      "text/plain": [
       "array([[9.247703]], dtype=float32)"
      ]
     },
     "execution_count": 13,
     "metadata": {},
     "output_type": "execute_result"
    }
   ],
   "source": [
    "y_pred = model.predict([17.])\n",
    "y_pred"
   ]
  },
  {
   "cell_type": "code",
   "execution_count": 14,
   "id": "65c6bb1b",
   "metadata": {},
   "outputs": [
    {
     "data": {
      "text/plain": [
       "array([[26.552704]], dtype=float32)"
      ]
     },
     "execution_count": 14,
     "metadata": {},
     "output_type": "execute_result"
    }
   ],
   "source": [
    "y_pred + 17.3050"
   ]
  },
  {
   "cell_type": "markdown",
   "id": "a759cf25",
   "metadata": {},
   "source": [
    "The value is still off, our model is performing poorly.   \n",
    "Now, we need to improve our model."
   ]
  },
  {
   "cell_type": "code",
   "execution_count": null,
   "id": "7eecc354",
   "metadata": {},
   "outputs": [],
   "source": []
  },
  {
   "cell_type": "markdown",
   "id": "f47b7fed",
   "metadata": {},
   "source": [
    "### Improving our model\n",
    "\n",
    "We can improve our model by altering the steps we took to create a model.  \n",
    "\n",
    "1. **Creating a model** - Here, we might :\n",
    "* add more layers, \n",
    "* increase the number of hidden units (also called neurons) within each of th hidden layers, \n",
    "* change the activation function of each layer\n",
    "\n",
    "2. **Compiling the model** - Here, we might :\n",
    "* change the optimization function,\n",
    "* or perhaps changes the **learning rate** of the optimization function\n",
    "\n",
    "3. **Fitting the model** - Here, we might :\n",
    "* fit the model for more epochs (make it train for longer)\n",
    "* fit the model on more data (give the model more examples to learn from)"
   ]
  },
  {
   "cell_type": "code",
   "execution_count": 15,
   "id": "0900b32c",
   "metadata": {},
   "outputs": [
    {
     "name": "stdout",
     "output_type": "stream",
     "text": [
      "Epoch 1/100\n",
      "1/1 [==============================] - 0s 334ms/step - loss: 13.1669 - mae: 13.1669\n",
      "Epoch 2/100\n",
      "1/1 [==============================] - 0s 4ms/step - loss: 12.5713 - mae: 12.5713\n",
      "Epoch 3/100\n",
      "1/1 [==============================] - 0s 4ms/step - loss: 11.9713 - mae: 11.9713\n",
      "Epoch 4/100\n",
      "1/1 [==============================] - 0s 5ms/step - loss: 11.3582 - mae: 11.3582\n",
      "Epoch 5/100\n",
      "1/1 [==============================] - 0s 7ms/step - loss: 10.7343 - mae: 10.7343\n",
      "Epoch 6/100\n",
      "1/1 [==============================] - 0s 5ms/step - loss: 10.0916 - mae: 10.0916\n",
      "Epoch 7/100\n",
      "1/1 [==============================] - 0s 6ms/step - loss: 9.4250 - mae: 9.4250\n",
      "Epoch 8/100\n",
      "1/1 [==============================] - 0s 4ms/step - loss: 8.7484 - mae: 8.7484\n",
      "Epoch 9/100\n",
      "1/1 [==============================] - 0s 5ms/step - loss: 8.0294 - mae: 8.0294\n",
      "Epoch 10/100\n",
      "1/1 [==============================] - 0s 5ms/step - loss: 7.2821 - mae: 7.2821\n",
      "Epoch 11/100\n",
      "1/1 [==============================] - 0s 5ms/step - loss: 6.4826 - mae: 6.4826\n",
      "Epoch 12/100\n",
      "1/1 [==============================] - 0s 4ms/step - loss: 5.6197 - mae: 5.6197\n",
      "Epoch 13/100\n",
      "1/1 [==============================] - 0s 5ms/step - loss: 4.6869 - mae: 4.6869\n",
      "Epoch 14/100\n",
      "1/1 [==============================] - 0s 3ms/step - loss: 4.2036 - mae: 4.2036\n",
      "Epoch 15/100\n",
      "1/1 [==============================] - 0s 4ms/step - loss: 4.1272 - mae: 4.1272\n",
      "Epoch 16/100\n",
      "1/1 [==============================] - 0s 5ms/step - loss: 4.0983 - mae: 4.0983\n",
      "Epoch 17/100\n",
      "1/1 [==============================] - 0s 6ms/step - loss: 4.0545 - mae: 4.0545\n",
      "Epoch 18/100\n",
      "1/1 [==============================] - 0s 6ms/step - loss: 3.9911 - mae: 3.9911\n",
      "Epoch 19/100\n",
      "1/1 [==============================] - 0s 4ms/step - loss: 3.9801 - mae: 3.9801\n",
      "Epoch 20/100\n",
      "1/1 [==============================] - 0s 5ms/step - loss: 3.8900 - mae: 3.8900\n",
      "Epoch 21/100\n",
      "1/1 [==============================] - 0s 3ms/step - loss: 3.9544 - mae: 3.9544\n",
      "Epoch 22/100\n",
      "1/1 [==============================] - 0s 2ms/step - loss: 3.8921 - mae: 3.8921\n",
      "Epoch 23/100\n",
      "1/1 [==============================] - 0s 6ms/step - loss: 3.9447 - mae: 3.9447\n",
      "Epoch 24/100\n",
      "1/1 [==============================] - 0s 5ms/step - loss: 3.9014 - mae: 3.9014\n",
      "Epoch 25/100\n",
      "1/1 [==============================] - 0s 4ms/step - loss: 3.9195 - mae: 3.9195\n",
      "Epoch 26/100\n",
      "1/1 [==============================] - 0s 3ms/step - loss: 3.9088 - mae: 3.9088\n",
      "Epoch 27/100\n",
      "1/1 [==============================] - 0s 4ms/step - loss: 3.8941 - mae: 3.8941\n",
      "Epoch 28/100\n",
      "1/1 [==============================] - 0s 4ms/step - loss: 3.9163 - mae: 3.9163\n",
      "Epoch 29/100\n",
      "1/1 [==============================] - 0s 3ms/step - loss: 3.8686 - mae: 3.8686\n",
      "Epoch 30/100\n",
      "1/1 [==============================] - 0s 5ms/step - loss: 3.9263 - mae: 3.9263\n",
      "Epoch 31/100\n",
      "1/1 [==============================] - 0s 4ms/step - loss: 3.8641 - mae: 3.8641\n",
      "Epoch 32/100\n",
      "1/1 [==============================] - 0s 5ms/step - loss: 3.9228 - mae: 3.9228\n",
      "Epoch 33/100\n",
      "1/1 [==============================] - 0s 5ms/step - loss: 3.8715 - mae: 3.8715\n",
      "Epoch 34/100\n",
      "1/1 [==============================] - 0s 4ms/step - loss: 3.8973 - mae: 3.8973\n",
      "Epoch 35/100\n",
      "1/1 [==============================] - 0s 4ms/step - loss: 3.8791 - mae: 3.8791\n",
      "Epoch 36/100\n",
      "1/1 [==============================] - 0s 7ms/step - loss: 3.8717 - mae: 3.8717\n",
      "Epoch 37/100\n",
      "1/1 [==============================] - 0s 3ms/step - loss: 3.8869 - mae: 3.8869\n",
      "Epoch 38/100\n",
      "1/1 [==============================] - 0s 3ms/step - loss: 3.8462 - mae: 3.8462\n",
      "Epoch 39/100\n",
      "1/1 [==============================] - 0s 4ms/step - loss: 3.9016 - mae: 3.9016\n",
      "Epoch 40/100\n",
      "1/1 [==============================] - 0s 3ms/step - loss: 3.8351 - mae: 3.8351\n",
      "Epoch 41/100\n",
      "1/1 [==============================] - 0s 5ms/step - loss: 3.8996 - mae: 3.8996\n",
      "Epoch 42/100\n",
      "1/1 [==============================] - 0s 3ms/step - loss: 3.8428 - mae: 3.8428\n",
      "Epoch 43/100\n",
      "1/1 [==============================] - 0s 4ms/step - loss: 3.8739 - mae: 3.8739\n",
      "Epoch 44/100\n",
      "1/1 [==============================] - 0s 4ms/step - loss: 3.8506 - mae: 3.8506\n",
      "Epoch 45/100\n",
      "1/1 [==============================] - 0s 11ms/step - loss: 3.8480 - mae: 3.8480\n",
      "Epoch 46/100\n",
      "1/1 [==============================] - 0s 4ms/step - loss: 3.8585 - mae: 3.8585\n",
      "Epoch 47/100\n",
      "1/1 [==============================] - 0s 6ms/step - loss: 3.8262 - mae: 3.8262\n",
      "Epoch 48/100\n",
      "1/1 [==============================] - 0s 5ms/step - loss: 3.8734 - mae: 3.8734\n",
      "Epoch 49/100\n",
      "1/1 [==============================] - 0s 5ms/step - loss: 3.8073 - mae: 3.8073\n",
      "Epoch 50/100\n",
      "1/1 [==============================] - 0s 3ms/step - loss: 3.8751 - mae: 3.8751\n",
      "Epoch 51/100\n",
      "1/1 [==============================] - 0s 3ms/step - loss: 3.8152 - mae: 3.8152\n",
      "Epoch 52/100\n",
      "1/1 [==============================] - 0s 4ms/step - loss: 3.8491 - mae: 3.8491\n",
      "Epoch 53/100\n",
      "1/1 [==============================] - 0s 4ms/step - loss: 3.8232 - mae: 3.8232\n",
      "Epoch 54/100\n",
      "1/1 [==============================] - 0s 5ms/step - loss: 3.8230 - mae: 3.8230\n",
      "Epoch 55/100\n",
      "1/1 [==============================] - 0s 5ms/step - loss: 3.8327 - mae: 3.8327\n",
      "Epoch 56/100\n",
      "1/1 [==============================] - 0s 5ms/step - loss: 3.8028 - mae: 3.8028\n",
      "Epoch 57/100\n",
      "1/1 [==============================] - 0s 3ms/step - loss: 3.8464 - mae: 3.8464\n",
      "Epoch 58/100\n",
      "1/1 [==============================] - 0s 3ms/step - loss: 3.7806 - mae: 3.7806\n",
      "Epoch 59/100\n",
      "1/1 [==============================] - 0s 6ms/step - loss: 3.8494 - mae: 3.8494\n",
      "Epoch 60/100\n",
      "1/1 [==============================] - 0s 4ms/step - loss: 3.7887 - mae: 3.7887\n",
      "Epoch 61/100\n",
      "1/1 [==============================] - 0s 4ms/step - loss: 3.8231 - mae: 3.8231\n",
      "Epoch 62/100\n",
      "1/1 [==============================] - 0s 4ms/step - loss: 3.7969 - mae: 3.7969\n",
      "Epoch 63/100\n",
      "1/1 [==============================] - 0s 3ms/step - loss: 3.7967 - mae: 3.7967\n",
      "Epoch 64/100\n",
      "1/1 [==============================] - 0s 4ms/step - loss: 3.8103 - mae: 3.8103\n",
      "Epoch 65/100\n",
      "1/1 [==============================] - 0s 4ms/step - loss: 3.7762 - mae: 3.7762\n",
      "Epoch 66/100\n",
      "1/1 [==============================] - 0s 3ms/step - loss: 3.8205 - mae: 3.8205\n",
      "Epoch 67/100\n",
      "1/1 [==============================] - 0s 5ms/step - loss: 3.7549 - mae: 3.7549\n",
      "Epoch 68/100\n",
      "1/1 [==============================] - 0s 4ms/step - loss: 3.8225 - mae: 3.8225\n",
      "Epoch 69/100\n",
      "1/1 [==============================] - 0s 4ms/step - loss: 3.7632 - mae: 3.7632\n",
      "Epoch 70/100\n",
      "1/1 [==============================] - 0s 4ms/step - loss: 3.7959 - mae: 3.7959\n",
      "Epoch 71/100\n",
      "1/1 [==============================] - 0s 5ms/step - loss: 3.7716 - mae: 3.7716\n",
      "Epoch 72/100\n",
      "1/1 [==============================] - 0s 3ms/step - loss: 3.7717 - mae: 3.7717\n",
      "Epoch 73/100\n",
      "1/1 [==============================] - 0s 5ms/step - loss: 3.7869 - mae: 3.7869\n",
      "Epoch 74/100\n",
      "1/1 [==============================] - 0s 3ms/step - loss: 3.7485 - mae: 3.7485\n",
      "Epoch 75/100\n",
      "1/1 [==============================] - 0s 4ms/step - loss: 3.7954 - mae: 3.7954\n",
      "Epoch 76/100\n",
      "1/1 [==============================] - 0s 5ms/step - loss: 3.7301 - mae: 3.7301\n",
      "Epoch 77/100\n",
      "1/1 [==============================] - 0s 4ms/step - loss: 3.7945 - mae: 3.7945\n",
      "Epoch 78/100\n",
      "1/1 [==============================] - 0s 3ms/step - loss: 3.7386 - mae: 3.7386\n",
      "Epoch 79/100\n",
      "1/1 [==============================] - 0s 4ms/step - loss: 3.7676 - mae: 3.7676\n",
      "Epoch 80/100\n",
      "1/1 [==============================] - 0s 4ms/step - loss: 3.7472 - mae: 3.7472\n",
      "Epoch 81/100\n",
      "1/1 [==============================] - 0s 4ms/step - loss: 3.7465 - mae: 3.7465\n",
      "Epoch 82/100\n",
      "1/1 [==============================] - 0s 4ms/step - loss: 3.7627 - mae: 3.7627\n",
      "Epoch 83/100\n",
      "1/1 [==============================] - 0s 4ms/step - loss: 3.7195 - mae: 3.7195\n",
      "Epoch 84/100\n",
      "1/1 [==============================] - 0s 5ms/step - loss: 3.7715 - mae: 3.7715\n",
      "Epoch 85/100\n",
      "1/1 [==============================] - 0s 4ms/step - loss: 3.7063 - mae: 3.7063\n",
      "Epoch 86/100\n",
      "1/1 [==============================] - 0s 4ms/step - loss: 3.7651 - mae: 3.7651\n",
      "Epoch 87/100\n",
      "1/1 [==============================] - 0s 3ms/step - loss: 3.7150 - mae: 3.7150\n",
      "Epoch 88/100\n",
      "1/1 [==============================] - 0s 5ms/step - loss: 3.7379 - mae: 3.7379\n",
      "Epoch 89/100\n"
     ]
    },
    {
     "name": "stdout",
     "output_type": "stream",
     "text": [
      "1/1 [==============================] - 0s 4ms/step - loss: 3.7263 - mae: 3.7263\n",
      "Epoch 90/100\n",
      "1/1 [==============================] - 0s 3ms/step - loss: 3.7166 - mae: 3.7166\n",
      "Epoch 91/100\n",
      "1/1 [==============================] - 0s 4ms/step - loss: 3.7395 - mae: 3.7395\n",
      "Epoch 92/100\n",
      "1/1 [==============================] - 0s 4ms/step - loss: 3.6892 - mae: 3.6892\n",
      "Epoch 93/100\n",
      "1/1 [==============================] - 0s 5ms/step - loss: 3.7484 - mae: 3.7484\n",
      "Epoch 94/100\n",
      "1/1 [==============================] - 0s 5ms/step - loss: 3.6834 - mae: 3.6834\n",
      "Epoch 95/100\n",
      "1/1 [==============================] - 0s 3ms/step - loss: 3.7346 - mae: 3.7346\n",
      "Epoch 96/100\n",
      "1/1 [==============================] - 0s 5ms/step - loss: 3.6923 - mae: 3.6923\n",
      "Epoch 97/100\n",
      "1/1 [==============================] - 0s 3ms/step - loss: 3.7070 - mae: 3.7070\n",
      "Epoch 98/100\n",
      "1/1 [==============================] - 0s 4ms/step - loss: 3.7071 - mae: 3.7071\n",
      "Epoch 99/100\n",
      "1/1 [==============================] - 0s 5ms/step - loss: 3.6855 - mae: 3.6855\n",
      "Epoch 100/100\n",
      "1/1 [==============================] - 0s 3ms/step - loss: 3.7171 - mae: 3.7171\n"
     ]
    },
    {
     "data": {
      "text/plain": [
       "<keras.callbacks.History at 0x29f7ad74700>"
      ]
     },
     "execution_count": 15,
     "metadata": {},
     "output_type": "execute_result"
    }
   ],
   "source": [
    "# 1st experiment : add a hidden layer, and more epochs, as an improvement to the model\n",
    "\n",
    "# Set a random seed (in order to have some reproducibility)\n",
    "tf.random.set_seed(42)\n",
    "\n",
    "# 1. Create a model using the Sequential API\n",
    "model = tf.keras.Sequential([\n",
    "    \n",
    "    # Adding more hidden layers, more neurons, and activation function \n",
    "    tf.keras.layers.Dense(100, activation=\"relu\"),\n",
    "    \n",
    "    tf.keras.layers.Dense(1)\n",
    "])\n",
    "\n",
    "# 2. Compile the model\n",
    "model.compile(loss=tf.keras.losses.mae, # MAE : Mean Absolute Error\n",
    "              optimizer=tf.keras.optimizers.SGD(),\n",
    "              metrics=[\"mae\"]\n",
    "             )\n",
    "\n",
    "# 3. Fit the model \n",
    "model.fit(tf.expand_dims(X, axis=-1),y, epochs=100) # Increasing the number of epochs\n"
   ]
  },
  {
   "cell_type": "markdown",
   "id": "ac7a663c",
   "metadata": {},
   "source": [
    "The 1st experiment has resulted in a good improvement of the model"
   ]
  },
  {
   "cell_type": "code",
   "execution_count": 16,
   "id": "debaf8ee",
   "metadata": {},
   "outputs": [
    {
     "name": "stdout",
     "output_type": "stream",
     "text": [
      "1/1 [==============================] - 0s 80ms/step\n"
     ]
    },
    {
     "data": {
      "text/plain": [
       "array([[31.863174]], dtype=float32)"
      ]
     },
     "execution_count": 16,
     "metadata": {},
     "output_type": "execute_result"
    }
   ],
   "source": [
    "# Check how the model's prediction has improved...\n",
    "model.predict([17.])"
   ]
  },
  {
   "cell_type": "code",
   "execution_count": null,
   "id": "edec4f02",
   "metadata": {},
   "outputs": [],
   "source": []
  },
  {
   "cell_type": "code",
   "execution_count": null,
   "id": "af2206a9",
   "metadata": {},
   "outputs": [],
   "source": []
  },
  {
   "cell_type": "code",
   "execution_count": 17,
   "id": "ab3f76fa",
   "metadata": {},
   "outputs": [
    {
     "name": "stdout",
     "output_type": "stream",
     "text": [
      "Epoch 1/300\n"
     ]
    },
    {
     "name": "stderr",
     "output_type": "stream",
     "text": [
      "C:\\ProgramData\\Anaconda3\\lib\\site-packages\\keras\\optimizers\\optimizer_v2\\adam.py:114: UserWarning: The `lr` argument is deprecated, use `learning_rate` instead.\n",
      "  super().__init__(name, **kwargs)\n"
     ]
    },
    {
     "name": "stdout",
     "output_type": "stream",
     "text": [
      "1/1 [==============================] - 0s 390ms/step - loss: 13.6241 - mae: 13.6241\n",
      "Epoch 2/300\n",
      "1/1 [==============================] - 0s 7ms/step - loss: 13.5938 - mae: 13.5938\n",
      "Epoch 3/300\n",
      "1/1 [==============================] - 0s 5ms/step - loss: 13.5636 - mae: 13.5636\n",
      "Epoch 4/300\n",
      "1/1 [==============================] - 0s 8ms/step - loss: 13.5334 - mae: 13.5334\n",
      "Epoch 5/300\n",
      "1/1 [==============================] - 0s 4ms/step - loss: 13.5032 - mae: 13.5032\n",
      "Epoch 6/300\n",
      "1/1 [==============================] - 0s 6ms/step - loss: 13.4727 - mae: 13.4727\n",
      "Epoch 7/300\n",
      "1/1 [==============================] - 0s 6ms/step - loss: 13.4422 - mae: 13.4422\n",
      "Epoch 8/300\n",
      "1/1 [==============================] - 0s 5ms/step - loss: 13.4116 - mae: 13.4116\n",
      "Epoch 9/300\n",
      "1/1 [==============================] - 0s 5ms/step - loss: 13.3810 - mae: 13.3810\n",
      "Epoch 10/300\n",
      "1/1 [==============================] - 0s 5ms/step - loss: 13.3507 - mae: 13.3507\n",
      "Epoch 11/300\n",
      "1/1 [==============================] - 0s 5ms/step - loss: 13.3206 - mae: 13.3206\n",
      "Epoch 12/300\n",
      "1/1 [==============================] - 0s 6ms/step - loss: 13.2905 - mae: 13.2905\n",
      "Epoch 13/300\n",
      "1/1 [==============================] - 0s 4ms/step - loss: 13.2604 - mae: 13.2604\n",
      "Epoch 14/300\n",
      "1/1 [==============================] - 0s 5ms/step - loss: 13.2302 - mae: 13.2302\n",
      "Epoch 15/300\n",
      "1/1 [==============================] - 0s 4ms/step - loss: 13.2000 - mae: 13.2000\n",
      "Epoch 16/300\n",
      "1/1 [==============================] - 0s 5ms/step - loss: 13.1702 - mae: 13.1702\n",
      "Epoch 17/300\n",
      "1/1 [==============================] - 0s 5ms/step - loss: 13.1404 - mae: 13.1404\n",
      "Epoch 18/300\n",
      "1/1 [==============================] - 0s 7ms/step - loss: 13.1104 - mae: 13.1104\n",
      "Epoch 19/300\n",
      "1/1 [==============================] - 0s 4ms/step - loss: 13.0803 - mae: 13.0803\n",
      "Epoch 20/300\n",
      "1/1 [==============================] - 0s 5ms/step - loss: 13.0500 - mae: 13.0500\n",
      "Epoch 21/300\n",
      "1/1 [==============================] - 0s 5ms/step - loss: 13.0196 - mae: 13.0196\n",
      "Epoch 22/300\n",
      "1/1 [==============================] - 0s 6ms/step - loss: 12.9891 - mae: 12.9891\n",
      "Epoch 23/300\n",
      "1/1 [==============================] - 0s 3ms/step - loss: 12.9587 - mae: 12.9587\n",
      "Epoch 24/300\n",
      "1/1 [==============================] - 0s 3ms/step - loss: 12.9284 - mae: 12.9284\n",
      "Epoch 25/300\n",
      "1/1 [==============================] - 0s 5ms/step - loss: 12.8979 - mae: 12.8979\n",
      "Epoch 26/300\n",
      "1/1 [==============================] - 0s 3ms/step - loss: 12.8674 - mae: 12.8674\n",
      "Epoch 27/300\n",
      "1/1 [==============================] - 0s 4ms/step - loss: 12.8375 - mae: 12.8375\n",
      "Epoch 28/300\n",
      "1/1 [==============================] - 0s 4ms/step - loss: 12.8076 - mae: 12.8076\n",
      "Epoch 29/300\n",
      "1/1 [==============================] - 0s 4ms/step - loss: 12.7775 - mae: 12.7775\n",
      "Epoch 30/300\n",
      "1/1 [==============================] - 0s 4ms/step - loss: 12.7475 - mae: 12.7475\n",
      "Epoch 31/300\n",
      "1/1 [==============================] - 0s 3ms/step - loss: 12.7175 - mae: 12.7175\n",
      "Epoch 32/300\n",
      "1/1 [==============================] - 0s 5ms/step - loss: 12.6875 - mae: 12.6875\n",
      "Epoch 33/300\n",
      "1/1 [==============================] - 0s 4ms/step - loss: 12.6574 - mae: 12.6574\n",
      "Epoch 34/300\n",
      "1/1 [==============================] - 0s 4ms/step - loss: 12.6272 - mae: 12.6272\n",
      "Epoch 35/300\n",
      "1/1 [==============================] - 0s 4ms/step - loss: 12.5975 - mae: 12.5975\n",
      "Epoch 36/300\n",
      "1/1 [==============================] - 0s 3ms/step - loss: 12.5676 - mae: 12.5676\n",
      "Epoch 37/300\n",
      "1/1 [==============================] - 0s 4ms/step - loss: 12.5375 - mae: 12.5375\n",
      "Epoch 38/300\n",
      "1/1 [==============================] - 0s 4ms/step - loss: 12.5072 - mae: 12.5072\n",
      "Epoch 39/300\n",
      "1/1 [==============================] - 0s 5ms/step - loss: 12.4769 - mae: 12.4769\n",
      "Epoch 40/300\n",
      "1/1 [==============================] - 0s 4ms/step - loss: 12.4464 - mae: 12.4464\n",
      "Epoch 41/300\n",
      "1/1 [==============================] - 0s 3ms/step - loss: 12.4157 - mae: 12.4157\n",
      "Epoch 42/300\n",
      "1/1 [==============================] - 0s 5ms/step - loss: 12.3849 - mae: 12.3849\n",
      "Epoch 43/300\n",
      "1/1 [==============================] - 0s 4ms/step - loss: 12.3540 - mae: 12.3540\n",
      "Epoch 44/300\n",
      "1/1 [==============================] - 0s 4ms/step - loss: 12.3229 - mae: 12.3229\n",
      "Epoch 45/300\n",
      "1/1 [==============================] - 0s 4ms/step - loss: 12.2920 - mae: 12.2920\n",
      "Epoch 46/300\n",
      "1/1 [==============================] - 0s 5ms/step - loss: 12.2611 - mae: 12.2611\n",
      "Epoch 47/300\n",
      "1/1 [==============================] - 0s 4ms/step - loss: 12.2303 - mae: 12.2303\n",
      "Epoch 48/300\n",
      "1/1 [==============================] - 0s 4ms/step - loss: 12.1991 - mae: 12.1991\n",
      "Epoch 49/300\n",
      "1/1 [==============================] - 0s 5ms/step - loss: 12.1679 - mae: 12.1679\n",
      "Epoch 50/300\n",
      "1/1 [==============================] - 0s 4ms/step - loss: 12.1370 - mae: 12.1370\n",
      "Epoch 51/300\n",
      "1/1 [==============================] - 0s 4ms/step - loss: 12.1064 - mae: 12.1064\n",
      "Epoch 52/300\n",
      "1/1 [==============================] - 0s 4ms/step - loss: 12.0765 - mae: 12.0765\n",
      "Epoch 53/300\n",
      "1/1 [==============================] - 0s 5ms/step - loss: 12.0467 - mae: 12.0467\n",
      "Epoch 54/300\n",
      "1/1 [==============================] - 0s 4ms/step - loss: 12.0165 - mae: 12.0165\n",
      "Epoch 55/300\n",
      "1/1 [==============================] - 0s 3ms/step - loss: 11.9859 - mae: 11.9859\n",
      "Epoch 56/300\n",
      "1/1 [==============================] - 0s 6ms/step - loss: 11.9554 - mae: 11.9554\n",
      "Epoch 57/300\n",
      "1/1 [==============================] - 0s 4ms/step - loss: 11.9245 - mae: 11.9245\n",
      "Epoch 58/300\n",
      "1/1 [==============================] - 0s 4ms/step - loss: 11.8933 - mae: 11.8933\n",
      "Epoch 59/300\n",
      "1/1 [==============================] - 0s 4ms/step - loss: 11.8618 - mae: 11.8618\n",
      "Epoch 60/300\n",
      "1/1 [==============================] - 0s 5ms/step - loss: 11.8304 - mae: 11.8304\n",
      "Epoch 61/300\n",
      "1/1 [==============================] - 0s 3ms/step - loss: 11.7994 - mae: 11.7994\n",
      "Epoch 62/300\n",
      "1/1 [==============================] - 0s 3ms/step - loss: 11.7685 - mae: 11.7685\n",
      "Epoch 63/300\n",
      "1/1 [==============================] - 0s 3ms/step - loss: 11.7378 - mae: 11.7378\n",
      "Epoch 64/300\n",
      "1/1 [==============================] - 0s 6ms/step - loss: 11.7078 - mae: 11.7078\n",
      "Epoch 65/300\n",
      "1/1 [==============================] - 0s 4ms/step - loss: 11.6784 - mae: 11.6784\n",
      "Epoch 66/300\n",
      "1/1 [==============================] - 0s 6ms/step - loss: 11.6489 - mae: 11.6489\n",
      "Epoch 67/300\n",
      "1/1 [==============================] - 0s 4ms/step - loss: 11.6269 - mae: 11.6269\n",
      "Epoch 68/300\n",
      "1/1 [==============================] - 0s 6ms/step - loss: 11.6081 - mae: 11.6081\n",
      "Epoch 69/300\n",
      "1/1 [==============================] - 0s 4ms/step - loss: 11.5891 - mae: 11.5891\n",
      "Epoch 70/300\n",
      "1/1 [==============================] - 0s 5ms/step - loss: 11.5699 - mae: 11.5699\n",
      "Epoch 71/300\n",
      "1/1 [==============================] - 0s 4ms/step - loss: 11.5505 - mae: 11.5505\n",
      "Epoch 72/300\n",
      "1/1 [==============================] - 0s 4ms/step - loss: 11.5309 - mae: 11.5309\n",
      "Epoch 73/300\n",
      "1/1 [==============================] - 0s 6ms/step - loss: 11.5111 - mae: 11.5111\n",
      "Epoch 74/300\n",
      "1/1 [==============================] - 0s 5ms/step - loss: 11.4911 - mae: 11.4911\n",
      "Epoch 75/300\n",
      "1/1 [==============================] - 0s 5ms/step - loss: 11.4710 - mae: 11.4710\n",
      "Epoch 76/300\n",
      "1/1 [==============================] - 0s 5ms/step - loss: 11.4506 - mae: 11.4506\n",
      "Epoch 77/300\n",
      "1/1 [==============================] - 0s 4ms/step - loss: 11.4301 - mae: 11.4301\n",
      "Epoch 78/300\n",
      "1/1 [==============================] - 0s 4ms/step - loss: 11.4094 - mae: 11.4094\n",
      "Epoch 79/300\n",
      "1/1 [==============================] - 0s 5ms/step - loss: 11.3886 - mae: 11.3886\n",
      "Epoch 80/300\n",
      "1/1 [==============================] - 0s 4ms/step - loss: 11.3674 - mae: 11.3674\n",
      "Epoch 81/300\n",
      "1/1 [==============================] - 0s 3ms/step - loss: 11.3463 - mae: 11.3463\n",
      "Epoch 82/300\n",
      "1/1 [==============================] - 0s 5ms/step - loss: 11.3252 - mae: 11.3252\n",
      "Epoch 83/300\n",
      "1/1 [==============================] - 0s 4ms/step - loss: 11.3041 - mae: 11.3041\n",
      "Epoch 84/300\n",
      "1/1 [==============================] - 0s 4ms/step - loss: 11.2827 - mae: 11.2827\n",
      "Epoch 85/300\n",
      "1/1 [==============================] - 0s 5ms/step - loss: 11.2611 - mae: 11.2611\n",
      "Epoch 86/300\n",
      "1/1 [==============================] - 0s 5ms/step - loss: 11.2393 - mae: 11.2393\n",
      "Epoch 87/300\n"
     ]
    },
    {
     "name": "stdout",
     "output_type": "stream",
     "text": [
      "1/1 [==============================] - 0s 5ms/step - loss: 11.2172 - mae: 11.2172\n",
      "Epoch 88/300\n",
      "1/1 [==============================] - 0s 3ms/step - loss: 11.1950 - mae: 11.1950\n",
      "Epoch 89/300\n",
      "1/1 [==============================] - 0s 5ms/step - loss: 11.1725 - mae: 11.1725\n",
      "Epoch 90/300\n",
      "1/1 [==============================] - 0s 4ms/step - loss: 11.1497 - mae: 11.1497\n",
      "Epoch 91/300\n",
      "1/1 [==============================] - 0s 5ms/step - loss: 11.1269 - mae: 11.1269\n",
      "Epoch 92/300\n",
      "1/1 [==============================] - 0s 3ms/step - loss: 11.1038 - mae: 11.1038\n",
      "Epoch 93/300\n",
      "1/1 [==============================] - 0s 4ms/step - loss: 11.0806 - mae: 11.0806\n",
      "Epoch 94/300\n",
      "1/1 [==============================] - 0s 4ms/step - loss: 11.0574 - mae: 11.0574\n",
      "Epoch 95/300\n",
      "1/1 [==============================] - 0s 4ms/step - loss: 11.0340 - mae: 11.0340\n",
      "Epoch 96/300\n",
      "1/1 [==============================] - 0s 5ms/step - loss: 11.0105 - mae: 11.0105\n",
      "Epoch 97/300\n",
      "1/1 [==============================] - 0s 4ms/step - loss: 10.9868 - mae: 10.9868\n",
      "Epoch 98/300\n",
      "1/1 [==============================] - 0s 4ms/step - loss: 10.9629 - mae: 10.9629\n",
      "Epoch 99/300\n",
      "1/1 [==============================] - 0s 5ms/step - loss: 10.9388 - mae: 10.9388\n",
      "Epoch 100/300\n",
      "1/1 [==============================] - 0s 3ms/step - loss: 10.9145 - mae: 10.9145\n",
      "Epoch 101/300\n",
      "1/1 [==============================] - 0s 6ms/step - loss: 10.8899 - mae: 10.8899\n",
      "Epoch 102/300\n",
      "1/1 [==============================] - 0s 3ms/step - loss: 10.8650 - mae: 10.8650\n",
      "Epoch 103/300\n",
      "1/1 [==============================] - 0s 5ms/step - loss: 10.8398 - mae: 10.8398\n",
      "Epoch 104/300\n",
      "1/1 [==============================] - 0s 6ms/step - loss: 10.8144 - mae: 10.8144\n",
      "Epoch 105/300\n",
      "1/1 [==============================] - 0s 3ms/step - loss: 10.7888 - mae: 10.7888\n",
      "Epoch 106/300\n",
      "1/1 [==============================] - 0s 4ms/step - loss: 10.7628 - mae: 10.7628\n",
      "Epoch 107/300\n",
      "1/1 [==============================] - 0s 3ms/step - loss: 10.7366 - mae: 10.7366\n",
      "Epoch 108/300\n",
      "1/1 [==============================] - 0s 4ms/step - loss: 10.7100 - mae: 10.7100\n",
      "Epoch 109/300\n",
      "1/1 [==============================] - 0s 5ms/step - loss: 10.6833 - mae: 10.6833\n",
      "Epoch 110/300\n",
      "1/1 [==============================] - 0s 3ms/step - loss: 10.6562 - mae: 10.6562\n",
      "Epoch 111/300\n",
      "1/1 [==============================] - 0s 5ms/step - loss: 10.6289 - mae: 10.6289\n",
      "Epoch 112/300\n",
      "1/1 [==============================] - 0s 3ms/step - loss: 10.6014 - mae: 10.6014\n",
      "Epoch 113/300\n",
      "1/1 [==============================] - 0s 6ms/step - loss: 10.5739 - mae: 10.5739\n",
      "Epoch 114/300\n",
      "1/1 [==============================] - 0s 4ms/step - loss: 10.5462 - mae: 10.5462\n",
      "Epoch 115/300\n",
      "1/1 [==============================] - 0s 4ms/step - loss: 10.5182 - mae: 10.5182\n",
      "Epoch 116/300\n",
      "1/1 [==============================] - 0s 5ms/step - loss: 10.4900 - mae: 10.4900\n",
      "Epoch 117/300\n",
      "1/1 [==============================] - 0s 4ms/step - loss: 10.4614 - mae: 10.4614\n",
      "Epoch 118/300\n",
      "1/1 [==============================] - 0s 4ms/step - loss: 10.4325 - mae: 10.4325\n",
      "Epoch 119/300\n",
      "1/1 [==============================] - 0s 4ms/step - loss: 10.4035 - mae: 10.4035\n",
      "Epoch 120/300\n",
      "1/1 [==============================] - 0s 5ms/step - loss: 10.3739 - mae: 10.3739\n",
      "Epoch 121/300\n",
      "1/1 [==============================] - 0s 4ms/step - loss: 10.3442 - mae: 10.3442\n",
      "Epoch 122/300\n",
      "1/1 [==============================] - 0s 4ms/step - loss: 10.3142 - mae: 10.3142\n",
      "Epoch 123/300\n",
      "1/1 [==============================] - 0s 5ms/step - loss: 10.2839 - mae: 10.2839\n",
      "Epoch 124/300\n",
      "1/1 [==============================] - 0s 3ms/step - loss: 10.2532 - mae: 10.2532\n",
      "Epoch 125/300\n",
      "1/1 [==============================] - 0s 5ms/step - loss: 10.2223 - mae: 10.2223\n",
      "Epoch 126/300\n",
      "1/1 [==============================] - 0s 5ms/step - loss: 10.1909 - mae: 10.1909\n",
      "Epoch 127/300\n",
      "1/1 [==============================] - 0s 3ms/step - loss: 10.1593 - mae: 10.1593\n",
      "Epoch 128/300\n",
      "1/1 [==============================] - 0s 5ms/step - loss: 10.1273 - mae: 10.1273\n",
      "Epoch 129/300\n",
      "1/1 [==============================] - 0s 4ms/step - loss: 10.0949 - mae: 10.0949\n",
      "Epoch 130/300\n",
      "1/1 [==============================] - 0s 5ms/step - loss: 10.0623 - mae: 10.0623\n",
      "Epoch 131/300\n",
      "1/1 [==============================] - 0s 5ms/step - loss: 10.0293 - mae: 10.0293\n",
      "Epoch 132/300\n",
      "1/1 [==============================] - 0s 4ms/step - loss: 9.9958 - mae: 9.9958\n",
      "Epoch 133/300\n",
      "1/1 [==============================] - 0s 4ms/step - loss: 9.9618 - mae: 9.9618\n",
      "Epoch 134/300\n",
      "1/1 [==============================] - 0s 4ms/step - loss: 9.9267 - mae: 9.9267\n",
      "Epoch 135/300\n",
      "1/1 [==============================] - 0s 5ms/step - loss: 9.8909 - mae: 9.8909\n",
      "Epoch 136/300\n",
      "1/1 [==============================] - 0s 5ms/step - loss: 9.8546 - mae: 9.8546\n",
      "Epoch 137/300\n",
      "1/1 [==============================] - 0s 3ms/step - loss: 9.8176 - mae: 9.8176\n",
      "Epoch 138/300\n",
      "1/1 [==============================] - 0s 5ms/step - loss: 9.7802 - mae: 9.7802\n",
      "Epoch 139/300\n",
      "1/1 [==============================] - 0s 4ms/step - loss: 9.7423 - mae: 9.7423\n",
      "Epoch 140/300\n",
      "1/1 [==============================] - 0s 5ms/step - loss: 9.7038 - mae: 9.7038\n",
      "Epoch 141/300\n",
      "1/1 [==============================] - 0s 4ms/step - loss: 9.6648 - mae: 9.6648\n",
      "Epoch 142/300\n",
      "1/1 [==============================] - 0s 5ms/step - loss: 9.6253 - mae: 9.6253\n",
      "Epoch 143/300\n",
      "1/1 [==============================] - 0s 4ms/step - loss: 9.5856 - mae: 9.5856\n",
      "Epoch 144/300\n",
      "1/1 [==============================] - 0s 5ms/step - loss: 9.5451 - mae: 9.5451\n",
      "Epoch 145/300\n",
      "1/1 [==============================] - 0s 4ms/step - loss: 9.5044 - mae: 9.5044\n",
      "Epoch 146/300\n",
      "1/1 [==============================] - 0s 3ms/step - loss: 9.4632 - mae: 9.4632\n",
      "Epoch 147/300\n",
      "1/1 [==============================] - 0s 6ms/step - loss: 9.4215 - mae: 9.4215\n",
      "Epoch 148/300\n",
      "1/1 [==============================] - 0s 9ms/step - loss: 9.3795 - mae: 9.3795\n",
      "Epoch 149/300\n",
      "1/1 [==============================] - 0s 4ms/step - loss: 9.3369 - mae: 9.3369\n",
      "Epoch 150/300\n",
      "1/1 [==============================] - 0s 5ms/step - loss: 9.2940 - mae: 9.2940\n",
      "Epoch 151/300\n",
      "1/1 [==============================] - 0s 4ms/step - loss: 9.2504 - mae: 9.2504\n",
      "Epoch 152/300\n",
      "1/1 [==============================] - 0s 4ms/step - loss: 9.2063 - mae: 9.2063\n",
      "Epoch 153/300\n",
      "1/1 [==============================] - 0s 4ms/step - loss: 9.1617 - mae: 9.1617\n",
      "Epoch 154/300\n",
      "1/1 [==============================] - 0s 3ms/step - loss: 9.1167 - mae: 9.1167\n",
      "Epoch 155/300\n",
      "1/1 [==============================] - 0s 4ms/step - loss: 9.0711 - mae: 9.0711\n",
      "Epoch 156/300\n",
      "1/1 [==============================] - 0s 5ms/step - loss: 9.0254 - mae: 9.0254\n",
      "Epoch 157/300\n",
      "1/1 [==============================] - 0s 6ms/step - loss: 8.9788 - mae: 8.9788\n",
      "Epoch 158/300\n",
      "1/1 [==============================] - 0s 5ms/step - loss: 8.9319 - mae: 8.9319\n",
      "Epoch 159/300\n",
      "1/1 [==============================] - 0s 6ms/step - loss: 8.8845 - mae: 8.8845\n",
      "Epoch 160/300\n",
      "1/1 [==============================] - 0s 4ms/step - loss: 8.8367 - mae: 8.8367\n",
      "Epoch 161/300\n",
      "1/1 [==============================] - 0s 5ms/step - loss: 8.7884 - mae: 8.7884\n",
      "Epoch 162/300\n",
      "1/1 [==============================] - 0s 4ms/step - loss: 8.7395 - mae: 8.7395\n",
      "Epoch 163/300\n",
      "1/1 [==============================] - 0s 4ms/step - loss: 8.6902 - mae: 8.6902\n",
      "Epoch 164/300\n",
      "1/1 [==============================] - 0s 4ms/step - loss: 8.6404 - mae: 8.6404\n",
      "Epoch 165/300\n",
      "1/1 [==============================] - 0s 3ms/step - loss: 8.5900 - mae: 8.5900\n",
      "Epoch 166/300\n",
      "1/1 [==============================] - 0s 5ms/step - loss: 8.5392 - mae: 8.5392\n",
      "Epoch 167/300\n",
      "1/1 [==============================] - 0s 3ms/step - loss: 8.4878 - mae: 8.4878\n",
      "Epoch 168/300\n",
      "1/1 [==============================] - 0s 5ms/step - loss: 8.4360 - mae: 8.4360\n",
      "Epoch 169/300\n",
      "1/1 [==============================] - 0s 4ms/step - loss: 8.3837 - mae: 8.3837\n",
      "Epoch 170/300\n",
      "1/1 [==============================] - 0s 11ms/step - loss: 8.3308 - mae: 8.3308\n",
      "Epoch 171/300\n",
      "1/1 [==============================] - 0s 5ms/step - loss: 8.2774 - mae: 8.2774\n",
      "Epoch 172/300\n",
      "1/1 [==============================] - 0s 5ms/step - loss: 8.2232 - mae: 8.2232\n",
      "Epoch 173/300\n"
     ]
    },
    {
     "name": "stdout",
     "output_type": "stream",
     "text": [
      "1/1 [==============================] - 0s 5ms/step - loss: 8.1686 - mae: 8.1686\n",
      "Epoch 174/300\n",
      "1/1 [==============================] - 0s 5ms/step - loss: 8.1135 - mae: 8.1135\n",
      "Epoch 175/300\n",
      "1/1 [==============================] - 0s 3ms/step - loss: 8.0582 - mae: 8.0582\n",
      "Epoch 176/300\n",
      "1/1 [==============================] - 0s 7ms/step - loss: 8.0019 - mae: 8.0019\n",
      "Epoch 177/300\n",
      "1/1 [==============================] - 0s 9ms/step - loss: 7.9456 - mae: 7.9456\n",
      "Epoch 178/300\n",
      "1/1 [==============================] - 0s 5ms/step - loss: 7.8889 - mae: 7.8889\n",
      "Epoch 179/300\n",
      "1/1 [==============================] - 0s 4ms/step - loss: 7.8319 - mae: 7.8319\n",
      "Epoch 180/300\n",
      "1/1 [==============================] - 0s 6ms/step - loss: 7.7745 - mae: 7.7745\n",
      "Epoch 181/300\n",
      "1/1 [==============================] - 0s 3ms/step - loss: 7.7165 - mae: 7.7165\n",
      "Epoch 182/300\n",
      "1/1 [==============================] - 0s 5ms/step - loss: 7.6579 - mae: 7.6579\n",
      "Epoch 183/300\n",
      "1/1 [==============================] - 0s 4ms/step - loss: 7.5987 - mae: 7.5987\n",
      "Epoch 184/300\n",
      "1/1 [==============================] - 0s 5ms/step - loss: 7.5389 - mae: 7.5389\n",
      "Epoch 185/300\n",
      "1/1 [==============================] - 0s 4ms/step - loss: 7.4785 - mae: 7.4785\n",
      "Epoch 186/300\n",
      "1/1 [==============================] - 0s 3ms/step - loss: 7.4174 - mae: 7.4174\n",
      "Epoch 187/300\n",
      "1/1 [==============================] - 0s 4ms/step - loss: 7.3556 - mae: 7.3556\n",
      "Epoch 188/300\n",
      "1/1 [==============================] - 0s 4ms/step - loss: 7.2933 - mae: 7.2933\n",
      "Epoch 189/300\n",
      "1/1 [==============================] - 0s 6ms/step - loss: 7.2303 - mae: 7.2303\n",
      "Epoch 190/300\n",
      "1/1 [==============================] - 0s 3ms/step - loss: 7.1676 - mae: 7.1676\n",
      "Epoch 191/300\n",
      "1/1 [==============================] - 0s 4ms/step - loss: 7.1025 - mae: 7.1025\n",
      "Epoch 192/300\n",
      "1/1 [==============================] - 0s 5ms/step - loss: 7.0378 - mae: 7.0378\n",
      "Epoch 193/300\n",
      "1/1 [==============================] - 0s 3ms/step - loss: 6.9724 - mae: 6.9724\n",
      "Epoch 194/300\n",
      "1/1 [==============================] - 0s 5ms/step - loss: 6.9062 - mae: 6.9062\n",
      "Epoch 195/300\n",
      "1/1 [==============================] - 0s 4ms/step - loss: 6.8394 - mae: 6.8394\n",
      "Epoch 196/300\n",
      "1/1 [==============================] - 0s 3ms/step - loss: 6.7719 - mae: 6.7719\n",
      "Epoch 197/300\n",
      "1/1 [==============================] - 0s 5ms/step - loss: 6.7036 - mae: 6.7036\n",
      "Epoch 198/300\n",
      "1/1 [==============================] - 0s 3ms/step - loss: 6.6347 - mae: 6.6347\n",
      "Epoch 199/300\n",
      "1/1 [==============================] - 0s 4ms/step - loss: 6.5650 - mae: 6.5650\n",
      "Epoch 200/300\n",
      "1/1 [==============================] - 0s 4ms/step - loss: 6.4946 - mae: 6.4946\n",
      "Epoch 201/300\n",
      "1/1 [==============================] - 0s 3ms/step - loss: 6.4233 - mae: 6.4233\n",
      "Epoch 202/300\n",
      "1/1 [==============================] - 0s 5ms/step - loss: 6.3515 - mae: 6.3515\n",
      "Epoch 203/300\n",
      "1/1 [==============================] - 0s 3ms/step - loss: 6.2789 - mae: 6.2789\n",
      "Epoch 204/300\n",
      "1/1 [==============================] - 0s 4ms/step - loss: 6.2055 - mae: 6.2055\n",
      "Epoch 205/300\n",
      "1/1 [==============================] - 0s 4ms/step - loss: 6.1314 - mae: 6.1314\n",
      "Epoch 206/300\n",
      "1/1 [==============================] - 0s 3ms/step - loss: 6.0566 - mae: 6.0566\n",
      "Epoch 207/300\n",
      "1/1 [==============================] - 0s 5ms/step - loss: 5.9814 - mae: 5.9814\n",
      "Epoch 208/300\n",
      "1/1 [==============================] - 0s 4ms/step - loss: 5.9051 - mae: 5.9051\n",
      "Epoch 209/300\n",
      "1/1 [==============================] - 0s 4ms/step - loss: 5.8283 - mae: 5.8283\n",
      "Epoch 210/300\n",
      "1/1 [==============================] - 0s 4ms/step - loss: 5.7506 - mae: 5.7506\n",
      "Epoch 211/300\n",
      "1/1 [==============================] - 0s 3ms/step - loss: 5.6722 - mae: 5.6722\n",
      "Epoch 212/300\n",
      "1/1 [==============================] - 0s 5ms/step - loss: 5.5930 - mae: 5.5930\n",
      "Epoch 213/300\n",
      "1/1 [==============================] - 0s 4ms/step - loss: 5.5131 - mae: 5.5131\n",
      "Epoch 214/300\n",
      "1/1 [==============================] - 0s 5ms/step - loss: 5.4322 - mae: 5.4322\n",
      "Epoch 215/300\n",
      "1/1 [==============================] - 0s 4ms/step - loss: 5.3506 - mae: 5.3506\n",
      "Epoch 216/300\n",
      "1/1 [==============================] - 0s 3ms/step - loss: 5.2681 - mae: 5.2681\n",
      "Epoch 217/300\n",
      "1/1 [==============================] - 0s 4ms/step - loss: 5.1850 - mae: 5.1850\n",
      "Epoch 218/300\n",
      "1/1 [==============================] - 0s 5ms/step - loss: 5.1011 - mae: 5.1011\n",
      "Epoch 219/300\n",
      "1/1 [==============================] - 0s 7ms/step - loss: 5.0164 - mae: 5.0164\n",
      "Epoch 220/300\n",
      "1/1 [==============================] - 0s 4ms/step - loss: 4.9308 - mae: 4.9308\n",
      "Epoch 221/300\n",
      "1/1 [==============================] - 0s 4ms/step - loss: 4.8444 - mae: 4.8444\n",
      "Epoch 222/300\n",
      "1/1 [==============================] - 0s 5ms/step - loss: 4.7572 - mae: 4.7572\n",
      "Epoch 223/300\n",
      "1/1 [==============================] - 0s 4ms/step - loss: 4.6690 - mae: 4.6690\n",
      "Epoch 224/300\n",
      "1/1 [==============================] - 0s 5ms/step - loss: 4.5800 - mae: 4.5800\n",
      "Epoch 225/300\n",
      "1/1 [==============================] - 0s 4ms/step - loss: 4.4902 - mae: 4.4902\n",
      "Epoch 226/300\n",
      "1/1 [==============================] - 0s 4ms/step - loss: 4.3996 - mae: 4.3996\n",
      "Epoch 227/300\n",
      "1/1 [==============================] - 0s 4ms/step - loss: 4.3085 - mae: 4.3085\n",
      "Epoch 228/300\n",
      "1/1 [==============================] - 0s 4ms/step - loss: 4.2159 - mae: 4.2159\n",
      "Epoch 229/300\n",
      "1/1 [==============================] - 0s 5ms/step - loss: 4.1229 - mae: 4.1229\n",
      "Epoch 230/300\n",
      "1/1 [==============================] - 0s 3ms/step - loss: 4.0608 - mae: 4.0608\n",
      "Epoch 231/300\n",
      "1/1 [==============================] - 0s 5ms/step - loss: 4.0327 - mae: 4.0327\n",
      "Epoch 232/300\n",
      "1/1 [==============================] - 0s 4ms/step - loss: 4.0058 - mae: 4.0058\n",
      "Epoch 233/300\n",
      "1/1 [==============================] - 0s 4ms/step - loss: 3.9803 - mae: 3.9803\n",
      "Epoch 234/300\n",
      "1/1 [==============================] - 0s 4ms/step - loss: 3.9559 - mae: 3.9559\n",
      "Epoch 235/300\n",
      "1/1 [==============================] - 0s 3ms/step - loss: 3.9324 - mae: 3.9324\n",
      "Epoch 236/300\n",
      "1/1 [==============================] - 0s 4ms/step - loss: 3.9097 - mae: 3.9097\n",
      "Epoch 237/300\n",
      "1/1 [==============================] - 0s 4ms/step - loss: 3.8881 - mae: 3.8881\n",
      "Epoch 238/300\n",
      "1/1 [==============================] - 0s 3ms/step - loss: 3.8667 - mae: 3.8667\n",
      "Epoch 239/300\n",
      "1/1 [==============================] - 0s 4ms/step - loss: 3.8459 - mae: 3.8459\n",
      "Epoch 240/300\n",
      "1/1 [==============================] - 0s 3ms/step - loss: 3.8259 - mae: 3.8259\n",
      "Epoch 241/300\n",
      "1/1 [==============================] - 0s 5ms/step - loss: 3.8075 - mae: 3.8075\n",
      "Epoch 242/300\n",
      "1/1 [==============================] - 0s 4ms/step - loss: 3.7875 - mae: 3.7875\n",
      "Epoch 243/300\n",
      "1/1 [==============================] - 0s 5ms/step - loss: 3.7706 - mae: 3.7706\n",
      "Epoch 244/300\n",
      "1/1 [==============================] - 0s 4ms/step - loss: 3.7808 - mae: 3.7808\n",
      "Epoch 245/300\n",
      "1/1 [==============================] - 0s 4ms/step - loss: 3.7888 - mae: 3.7888\n",
      "Epoch 246/300\n",
      "1/1 [==============================] - 0s 5ms/step - loss: 3.7951 - mae: 3.7951\n",
      "Epoch 247/300\n",
      "1/1 [==============================] - 0s 5ms/step - loss: 3.7998 - mae: 3.7998\n",
      "Epoch 248/300\n",
      "1/1 [==============================] - 0s 5ms/step - loss: 3.8029 - mae: 3.8029\n",
      "Epoch 249/300\n",
      "1/1 [==============================] - 0s 4ms/step - loss: 3.8070 - mae: 3.8070\n",
      "Epoch 250/300\n",
      "1/1 [==============================] - 0s 4ms/step - loss: 3.8064 - mae: 3.8064\n",
      "Epoch 251/300\n",
      "1/1 [==============================] - 0s 4ms/step - loss: 3.8069 - mae: 3.8069\n",
      "Epoch 252/300\n",
      "1/1 [==============================] - 0s 3ms/step - loss: 3.8066 - mae: 3.8066\n",
      "Epoch 253/300\n",
      "1/1 [==============================] - 0s 5ms/step - loss: 3.8053 - mae: 3.8053\n",
      "Epoch 254/300\n",
      "1/1 [==============================] - 0s 3ms/step - loss: 3.8029 - mae: 3.8029\n",
      "Epoch 255/300\n",
      "1/1 [==============================] - 0s 4ms/step - loss: 3.7996 - mae: 3.7996\n",
      "Epoch 256/300\n",
      "1/1 [==============================] - 0s 4ms/step - loss: 3.7961 - mae: 3.7961\n",
      "Epoch 257/300\n",
      "1/1 [==============================] - 0s 4ms/step - loss: 3.7918 - mae: 3.7918\n",
      "Epoch 258/300\n",
      "1/1 [==============================] - 0s 5ms/step - loss: 3.7869 - mae: 3.7869\n",
      "Epoch 259/300\n",
      "1/1 [==============================] - 0s 4ms/step - loss: 3.7816 - mae: 3.7816\n",
      "Epoch 260/300\n"
     ]
    },
    {
     "name": "stdout",
     "output_type": "stream",
     "text": [
      "1/1 [==============================] - 0s 4ms/step - loss: 3.7757 - mae: 3.7757\n",
      "Epoch 261/300\n",
      "1/1 [==============================] - 0s 4ms/step - loss: 3.7695 - mae: 3.7695\n",
      "Epoch 262/300\n",
      "1/1 [==============================] - 0s 3ms/step - loss: 3.7635 - mae: 3.7635\n",
      "Epoch 263/300\n",
      "1/1 [==============================] - 0s 5ms/step - loss: 3.7576 - mae: 3.7576\n",
      "Epoch 264/300\n",
      "1/1 [==============================] - 0s 4ms/step - loss: 3.7522 - mae: 3.7522\n",
      "Epoch 265/300\n",
      "1/1 [==============================] - 0s 4ms/step - loss: 3.7566 - mae: 3.7566\n",
      "Epoch 266/300\n",
      "1/1 [==============================] - 0s 5ms/step - loss: 3.7610 - mae: 3.7610\n",
      "Epoch 267/300\n",
      "1/1 [==============================] - 0s 3ms/step - loss: 3.7635 - mae: 3.7635\n",
      "Epoch 268/300\n",
      "1/1 [==============================] - 0s 5ms/step - loss: 3.7640 - mae: 3.7640\n",
      "Epoch 269/300\n",
      "1/1 [==============================] - 0s 3ms/step - loss: 3.7627 - mae: 3.7627\n",
      "Epoch 270/300\n",
      "1/1 [==============================] - 0s 4ms/step - loss: 3.7600 - mae: 3.7600\n",
      "Epoch 271/300\n",
      "1/1 [==============================] - 0s 4ms/step - loss: 3.7559 - mae: 3.7559\n",
      "Epoch 272/300\n",
      "1/1 [==============================] - 0s 3ms/step - loss: 3.7505 - mae: 3.7505\n",
      "Epoch 273/300\n",
      "1/1 [==============================] - 0s 5ms/step - loss: 3.7446 - mae: 3.7446\n",
      "Epoch 274/300\n",
      "1/1 [==============================] - 0s 4ms/step - loss: 3.7464 - mae: 3.7464\n",
      "Epoch 275/300\n",
      "1/1 [==============================] - 0s 5ms/step - loss: 3.7469 - mae: 3.7469\n",
      "Epoch 276/300\n",
      "1/1 [==============================] - 0s 4ms/step - loss: 3.7463 - mae: 3.7463\n",
      "Epoch 277/300\n",
      "1/1 [==============================] - 0s 4ms/step - loss: 3.7449 - mae: 3.7449\n",
      "Epoch 278/300\n",
      "1/1 [==============================] - 0s 6ms/step - loss: 3.7426 - mae: 3.7426\n",
      "Epoch 279/300\n",
      "1/1 [==============================] - 0s 4ms/step - loss: 3.7395 - mae: 3.7395\n",
      "Epoch 280/300\n",
      "1/1 [==============================] - 0s 5ms/step - loss: 3.7363 - mae: 3.7363\n",
      "Epoch 281/300\n",
      "1/1 [==============================] - 0s 5ms/step - loss: 3.7373 - mae: 3.7373\n",
      "Epoch 282/300\n",
      "1/1 [==============================] - 0s 4ms/step - loss: 3.7383 - mae: 3.7383\n",
      "Epoch 283/300\n",
      "1/1 [==============================] - 0s 4ms/step - loss: 3.7372 - mae: 3.7372\n",
      "Epoch 284/300\n",
      "1/1 [==============================] - 0s 3ms/step - loss: 3.7347 - mae: 3.7347\n",
      "Epoch 285/300\n",
      "1/1 [==============================] - 0s 4ms/step - loss: 3.7317 - mae: 3.7317\n",
      "Epoch 286/300\n",
      "1/1 [==============================] - 0s 4ms/step - loss: 3.7323 - mae: 3.7323\n",
      "Epoch 287/300\n",
      "1/1 [==============================] - 0s 3ms/step - loss: 3.7317 - mae: 3.7317\n",
      "Epoch 288/300\n",
      "1/1 [==============================] - 0s 4ms/step - loss: 3.7301 - mae: 3.7301\n",
      "Epoch 289/300\n",
      "1/1 [==============================] - 0s 3ms/step - loss: 3.7276 - mae: 3.7276\n",
      "Epoch 290/300\n",
      "1/1 [==============================] - 0s 4ms/step - loss: 3.7291 - mae: 3.7291\n",
      "Epoch 291/300\n",
      "1/1 [==============================] - 0s 5ms/step - loss: 3.7289 - mae: 3.7289\n",
      "Epoch 292/300\n",
      "1/1 [==============================] - 0s 3ms/step - loss: 3.7270 - mae: 3.7270\n",
      "Epoch 293/300\n",
      "1/1 [==============================] - 0s 5ms/step - loss: 3.7234 - mae: 3.7234\n",
      "Epoch 294/300\n",
      "1/1 [==============================] - 0s 3ms/step - loss: 3.7234 - mae: 3.7234\n",
      "Epoch 295/300\n",
      "1/1 [==============================] - 0s 5ms/step - loss: 3.7236 - mae: 3.7236\n",
      "Epoch 296/300\n",
      "1/1 [==============================] - 0s 5ms/step - loss: 3.7258 - mae: 3.7258\n",
      "Epoch 297/300\n",
      "1/1 [==============================] - 0s 4ms/step - loss: 3.7237 - mae: 3.7237\n",
      "Epoch 298/300\n",
      "1/1 [==============================] - 0s 5ms/step - loss: 3.7199 - mae: 3.7199\n",
      "Epoch 299/300\n",
      "1/1 [==============================] - 0s 4ms/step - loss: 3.7176 - mae: 3.7176\n",
      "Epoch 300/300\n",
      "1/1 [==============================] - 0s 5ms/step - loss: 3.7185 - mae: 3.7185\n"
     ]
    },
    {
     "data": {
      "text/plain": [
       "<keras.callbacks.History at 0x29f7ad71d00>"
      ]
     },
     "execution_count": 17,
     "metadata": {},
     "output_type": "execute_result"
    }
   ],
   "source": [
    "# 2nd experiment : buil a larger model, as an improvement to the model\n",
    "\n",
    "# Set a random seed (in order to have some reproducibility)\n",
    "tf.random.set_seed(42)\n",
    "\n",
    "# 1. Create a model using the Sequential API\n",
    "model = tf.keras.Sequential([\n",
    "    \n",
    "    # Adding more hidden layers, more neurons, and activation function \n",
    "    tf.keras.layers.Dense(100, activation=\"relu\"),\n",
    "    tf.keras.layers.Dense(100, activation=\"relu\"),\n",
    "    tf.keras.layers.Dense(100, activation=\"relu\"),\n",
    "    \n",
    "    tf.keras.layers.Dense(1)\n",
    "])\n",
    "\n",
    "# 2. Compile the model\n",
    "model.compile(loss=tf.keras.losses.mae, # MAE : Mean Absolute Error\n",
    "              optimizer=tf.keras.optimizers.Adam(lr=0.0001), # lr = Learning Rate\n",
    "              metrics=[\"mae\"]\n",
    "             )\n",
    "\n",
    "# 3. Fit the model \n",
    "model.fit(tf.expand_dims(X, axis=-1),y, epochs=300) # Increasing the number of epochs\n"
   ]
  },
  {
   "cell_type": "markdown",
   "id": "673624a9",
   "metadata": {},
   "source": [
    "The 2nd model, although more larger, don't provide a better training result compared to the previously built one."
   ]
  },
  {
   "cell_type": "code",
   "execution_count": 18,
   "id": "533e0fa1",
   "metadata": {},
   "outputs": [
    {
     "data": {
      "text/plain": [
       "(<tf.Tensor: shape=(8,), dtype=float64, numpy=array([-7., -4., -1.,  2.,  5.,  8., 11., 14.])>,\n",
       " <tf.Tensor: shape=(8,), dtype=float64, numpy=array([ 3.,  6.,  9., 12., 15., 18., 21., 24.])>)"
      ]
     },
     "execution_count": 18,
     "metadata": {},
     "output_type": "execute_result"
    }
   ],
   "source": [
    "# Remind ourselves of the data\n",
    "X, y"
   ]
  },
  {
   "cell_type": "code",
   "execution_count": 19,
   "id": "9e130a20",
   "metadata": {},
   "outputs": [
    {
     "name": "stdout",
     "output_type": "stream",
     "text": [
      "1/1 [==============================] - 0s 71ms/step\n"
     ]
    },
    {
     "data": {
      "text/plain": [
       "array([[31.983078]], dtype=float32)"
      ]
     },
     "execution_count": 19,
     "metadata": {},
     "output_type": "execute_result"
    }
   ],
   "source": [
    "# Check if the model's prediction has improved...\n",
    "model.predict([17.])"
   ]
  },
  {
   "cell_type": "code",
   "execution_count": null,
   "id": "883941b4",
   "metadata": {},
   "outputs": [],
   "source": []
  },
  {
   "cell_type": "code",
   "execution_count": 20,
   "id": "0cc87495",
   "metadata": {},
   "outputs": [
    {
     "name": "stdout",
     "output_type": "stream",
     "text": [
      "Epoch 1/100\n",
      "1/1 [==============================] - 0s 328ms/step - loss: 14.0668 - mae: 14.0668\n",
      "Epoch 2/100\n",
      "1/1 [==============================] - 0s 5ms/step - loss: 13.2739 - mae: 13.2739\n",
      "Epoch 3/100\n",
      "1/1 [==============================] - 0s 5ms/step - loss: 12.7226 - mae: 12.7226\n",
      "Epoch 4/100\n",
      "1/1 [==============================] - 0s 6ms/step - loss: 12.1859 - mae: 12.1859\n",
      "Epoch 5/100\n",
      "1/1 [==============================] - 0s 5ms/step - loss: 11.6556 - mae: 11.6556\n",
      "Epoch 6/100\n",
      "1/1 [==============================] - 0s 7ms/step - loss: 11.1197 - mae: 11.1197\n",
      "Epoch 7/100\n",
      "1/1 [==============================] - 0s 5ms/step - loss: 10.5789 - mae: 10.5789\n",
      "Epoch 8/100\n",
      "1/1 [==============================] - 0s 5ms/step - loss: 10.0314 - mae: 10.0314\n",
      "Epoch 9/100\n",
      "1/1 [==============================] - 0s 9ms/step - loss: 9.4825 - mae: 9.4825\n",
      "Epoch 10/100\n",
      "1/1 [==============================] - 0s 11ms/step - loss: 8.9217 - mae: 8.9217\n",
      "Epoch 11/100\n",
      "1/1 [==============================] - 0s 4ms/step - loss: 8.3443 - mae: 8.3443\n",
      "Epoch 12/100\n",
      "1/1 [==============================] - 0s 6ms/step - loss: 7.7448 - mae: 7.7448\n",
      "Epoch 13/100\n",
      "1/1 [==============================] - 0s 6ms/step - loss: 7.1224 - mae: 7.1224\n",
      "Epoch 14/100\n",
      "1/1 [==============================] - 0s 5ms/step - loss: 6.4752 - mae: 6.4752\n",
      "Epoch 15/100\n",
      "1/1 [==============================] - 0s 6ms/step - loss: 5.7995 - mae: 5.7995\n",
      "Epoch 16/100\n",
      "1/1 [==============================] - 0s 5ms/step - loss: 5.0906 - mae: 5.0906\n",
      "Epoch 17/100\n",
      "1/1 [==============================] - 0s 4ms/step - loss: 4.3447 - mae: 4.3447\n",
      "Epoch 18/100\n",
      "1/1 [==============================] - 0s 7ms/step - loss: 3.7509 - mae: 3.7509\n",
      "Epoch 19/100\n",
      "1/1 [==============================] - 0s 8ms/step - loss: 3.5672 - mae: 3.5672\n",
      "Epoch 20/100\n",
      "1/1 [==============================] - 0s 4ms/step - loss: 3.6798 - mae: 3.6798\n",
      "Epoch 21/100\n",
      "1/1 [==============================] - 0s 6ms/step - loss: 3.7787 - mae: 3.7787\n",
      "Epoch 22/100\n",
      "1/1 [==============================] - 0s 5ms/step - loss: 4.0162 - mae: 4.0162\n",
      "Epoch 23/100\n",
      "1/1 [==============================] - 0s 6ms/step - loss: 4.1630 - mae: 4.1630\n",
      "Epoch 24/100\n",
      "1/1 [==============================] - 0s 4ms/step - loss: 4.2207 - mae: 4.2207\n",
      "Epoch 25/100\n",
      "1/1 [==============================] - 0s 4ms/step - loss: 4.2194 - mae: 4.2194\n",
      "Epoch 26/100\n",
      "1/1 [==============================] - 0s 4ms/step - loss: 4.1372 - mae: 4.1372\n",
      "Epoch 27/100\n",
      "1/1 [==============================] - 0s 4ms/step - loss: 4.0249 - mae: 4.0249\n",
      "Epoch 28/100\n",
      "1/1 [==============================] - 0s 4ms/step - loss: 3.8659 - mae: 3.8659\n",
      "Epoch 29/100\n",
      "1/1 [==============================] - 0s 7ms/step - loss: 3.6658 - mae: 3.6658\n",
      "Epoch 30/100\n",
      "1/1 [==============================] - 0s 4ms/step - loss: 3.4476 - mae: 3.4476\n",
      "Epoch 31/100\n",
      "1/1 [==============================] - 0s 4ms/step - loss: 3.3532 - mae: 3.3532\n",
      "Epoch 32/100\n",
      "1/1 [==============================] - 0s 3ms/step - loss: 3.2294 - mae: 3.2294\n",
      "Epoch 33/100\n",
      "1/1 [==============================] - 0s 4ms/step - loss: 3.1164 - mae: 3.1164\n",
      "Epoch 34/100\n",
      "1/1 [==============================] - 0s 5ms/step - loss: 2.9947 - mae: 2.9947\n",
      "Epoch 35/100\n",
      "1/1 [==============================] - 0s 5ms/step - loss: 2.9235 - mae: 2.9235\n",
      "Epoch 36/100\n",
      "1/1 [==============================] - 0s 4ms/step - loss: 2.8945 - mae: 2.8945\n",
      "Epoch 37/100\n",
      "1/1 [==============================] - 0s 7ms/step - loss: 2.8208 - mae: 2.8208\n",
      "Epoch 38/100\n",
      "1/1 [==============================] - 0s 4ms/step - loss: 2.7459 - mae: 2.7459\n",
      "Epoch 39/100\n",
      "1/1 [==============================] - 0s 4ms/step - loss: 2.5946 - mae: 2.5946\n",
      "Epoch 40/100\n",
      "1/1 [==============================] - 0s 4ms/step - loss: 2.4010 - mae: 2.4010\n",
      "Epoch 41/100\n",
      "1/1 [==============================] - 0s 5ms/step - loss: 2.3756 - mae: 2.3756\n",
      "Epoch 42/100\n",
      "1/1 [==============================] - 0s 3ms/step - loss: 2.3377 - mae: 2.3377\n",
      "Epoch 43/100\n",
      "1/1 [==============================] - 0s 3ms/step - loss: 2.2856 - mae: 2.2856\n",
      "Epoch 44/100\n",
      "1/1 [==============================] - 0s 7ms/step - loss: 2.2189 - mae: 2.2189\n",
      "Epoch 45/100\n",
      "1/1 [==============================] - 0s 4ms/step - loss: 2.1105 - mae: 2.1105\n",
      "Epoch 46/100\n",
      "1/1 [==============================] - 0s 5ms/step - loss: 1.9873 - mae: 1.9873\n",
      "Epoch 47/100\n",
      "1/1 [==============================] - 0s 3ms/step - loss: 1.8460 - mae: 1.8460\n",
      "Epoch 48/100\n",
      "1/1 [==============================] - 0s 4ms/step - loss: 1.6878 - mae: 1.6878\n",
      "Epoch 49/100\n",
      "1/1 [==============================] - 0s 4ms/step - loss: 1.5256 - mae: 1.5256\n",
      "Epoch 50/100\n",
      "1/1 [==============================] - 0s 4ms/step - loss: 1.4222 - mae: 1.4222\n",
      "Epoch 51/100\n",
      "1/1 [==============================] - 0s 4ms/step - loss: 1.2463 - mae: 1.2463\n",
      "Epoch 52/100\n",
      "1/1 [==============================] - 0s 4ms/step - loss: 1.1208 - mae: 1.1208\n",
      "Epoch 53/100\n",
      "1/1 [==============================] - 0s 5ms/step - loss: 0.9884 - mae: 0.9884\n",
      "Epoch 54/100\n",
      "1/1 [==============================] - 0s 3ms/step - loss: 0.8758 - mae: 0.8758\n",
      "Epoch 55/100\n",
      "1/1 [==============================] - 0s 3ms/step - loss: 0.6818 - mae: 0.6818\n",
      "Epoch 56/100\n",
      "1/1 [==============================] - 0s 5ms/step - loss: 0.4922 - mae: 0.4922\n",
      "Epoch 57/100\n",
      "1/1 [==============================] - 0s 4ms/step - loss: 0.3347 - mae: 0.3347\n",
      "Epoch 58/100\n",
      "1/1 [==============================] - 0s 3ms/step - loss: 0.2051 - mae: 0.2051\n",
      "Epoch 59/100\n",
      "1/1 [==============================] - 0s 3ms/step - loss: 0.2776 - mae: 0.2776\n",
      "Epoch 60/100\n",
      "1/1 [==============================] - 0s 3ms/step - loss: 0.3973 - mae: 0.3973\n",
      "Epoch 61/100\n",
      "1/1 [==============================] - 0s 4ms/step - loss: 0.4633 - mae: 0.4633\n",
      "Epoch 62/100\n",
      "1/1 [==============================] - 0s 5ms/step - loss: 0.3935 - mae: 0.3935\n",
      "Epoch 63/100\n",
      "1/1 [==============================] - 0s 6ms/step - loss: 0.3750 - mae: 0.3750\n",
      "Epoch 64/100\n",
      "1/1 [==============================] - 0s 3ms/step - loss: 0.4686 - mae: 0.4686\n",
      "Epoch 65/100\n",
      "1/1 [==============================] - 0s 3ms/step - loss: 0.4464 - mae: 0.4464\n",
      "Epoch 66/100\n",
      "1/1 [==============================] - 0s 3ms/step - loss: 0.3899 - mae: 0.3899\n",
      "Epoch 67/100\n",
      "1/1 [==============================] - 0s 4ms/step - loss: 0.4934 - mae: 0.4934\n",
      "Epoch 68/100\n",
      "1/1 [==============================] - 0s 5ms/step - loss: 0.3280 - mae: 0.3280\n",
      "Epoch 69/100\n",
      "1/1 [==============================] - 0s 3ms/step - loss: 0.3200 - mae: 0.3200\n",
      "Epoch 70/100\n",
      "1/1 [==============================] - 0s 4ms/step - loss: 0.2293 - mae: 0.2293\n",
      "Epoch 71/100\n",
      "1/1 [==============================] - 0s 4ms/step - loss: 0.4286 - mae: 0.4286\n",
      "Epoch 72/100\n",
      "1/1 [==============================] - 0s 3ms/step - loss: 0.2674 - mae: 0.2674\n",
      "Epoch 73/100\n",
      "1/1 [==============================] - 0s 6ms/step - loss: 0.3081 - mae: 0.3081\n",
      "Epoch 74/100\n",
      "1/1 [==============================] - 0s 3ms/step - loss: 0.3846 - mae: 0.3846\n",
      "Epoch 75/100\n",
      "1/1 [==============================] - 0s 4ms/step - loss: 0.2190 - mae: 0.2190\n",
      "Epoch 76/100\n",
      "1/1 [==============================] - 0s 4ms/step - loss: 0.3105 - mae: 0.3105\n",
      "Epoch 77/100\n",
      "1/1 [==============================] - 0s 5ms/step - loss: 0.3710 - mae: 0.3710\n",
      "Epoch 78/100\n",
      "1/1 [==============================] - 0s 3ms/step - loss: 0.3630 - mae: 0.3630\n",
      "Epoch 79/100\n",
      "1/1 [==============================] - 0s 3ms/step - loss: 0.3100 - mae: 0.3100\n",
      "Epoch 80/100\n",
      "1/1 [==============================] - 0s 4ms/step - loss: 0.3329 - mae: 0.3329\n",
      "Epoch 81/100\n",
      "1/1 [==============================] - 0s 3ms/step - loss: 0.3905 - mae: 0.3905\n",
      "Epoch 82/100\n",
      "1/1 [==============================] - 0s 4ms/step - loss: 0.2535 - mae: 0.2535\n",
      "Epoch 83/100\n",
      "1/1 [==============================] - 0s 4ms/step - loss: 0.2409 - mae: 0.2409\n",
      "Epoch 84/100\n",
      "1/1 [==============================] - 0s 4ms/step - loss: 0.2214 - mae: 0.2214\n",
      "Epoch 85/100\n",
      "1/1 [==============================] - 0s 5ms/step - loss: 0.1610 - mae: 0.1610\n",
      "Epoch 86/100\n",
      "1/1 [==============================] - 0s 5ms/step - loss: 0.2290 - mae: 0.2290\n",
      "Epoch 87/100\n",
      "1/1 [==============================] - 0s 6ms/step - loss: 0.1273 - mae: 0.1273\n",
      "Epoch 88/100\n",
      "1/1 [==============================] - 0s 4ms/step - loss: 0.2699 - mae: 0.2699\n"
     ]
    },
    {
     "name": "stdout",
     "output_type": "stream",
     "text": [
      "Epoch 89/100\n",
      "1/1 [==============================] - 0s 3ms/step - loss: 0.1847 - mae: 0.1847\n",
      "Epoch 90/100\n",
      "1/1 [==============================] - 0s 4ms/step - loss: 0.2696 - mae: 0.2696\n",
      "Epoch 91/100\n",
      "1/1 [==============================] - 0s 5ms/step - loss: 0.2652 - mae: 0.2652\n",
      "Epoch 92/100\n",
      "1/1 [==============================] - 0s 6ms/step - loss: 0.1188 - mae: 0.1188\n",
      "Epoch 93/100\n",
      "1/1 [==============================] - 0s 5ms/step - loss: 0.3329 - mae: 0.3329\n",
      "Epoch 94/100\n",
      "1/1 [==============================] - 0s 4ms/step - loss: 0.2913 - mae: 0.2913\n",
      "Epoch 95/100\n",
      "1/1 [==============================] - 0s 4ms/step - loss: 0.1098 - mae: 0.1098\n",
      "Epoch 96/100\n",
      "1/1 [==============================] - 0s 8ms/step - loss: 0.1637 - mae: 0.1637\n",
      "Epoch 97/100\n",
      "1/1 [==============================] - 0s 5ms/step - loss: 0.1992 - mae: 0.1992\n",
      "Epoch 98/100\n",
      "1/1 [==============================] - 0s 5ms/step - loss: 0.1016 - mae: 0.1016\n",
      "Epoch 99/100\n",
      "1/1 [==============================] - 0s 5ms/step - loss: 0.2503 - mae: 0.2503\n",
      "Epoch 100/100\n",
      "1/1 [==============================] - 0s 4ms/step - loss: 0.2307 - mae: 0.2307\n"
     ]
    },
    {
     "data": {
      "text/plain": [
       "<keras.callbacks.History at 0x29f7befa9d0>"
      ]
     },
     "execution_count": 20,
     "metadata": {},
     "output_type": "execute_result"
    }
   ],
   "source": [
    "# 3rd experiment : add a hidden layer, more epochs, and review the learning rate, as an improvement to the model\n",
    "\n",
    "# Set a random seed (in order to have some reproducibility)\n",
    "tf.random.set_seed(42)\n",
    "\n",
    "# 1. Create a model using the Sequential API\n",
    "model = tf.keras.Sequential([\n",
    "    \n",
    "    # Adding more hidden layers, more neurons, and activation function \n",
    "    tf.keras.layers.Dense(100, activation=\"relu\"),\n",
    "    \n",
    "    tf.keras.layers.Dense(1)\n",
    "])\n",
    "\n",
    "# 2. Compile the model\n",
    "model.compile(loss=tf.keras.losses.mae, # MAE : Mean Absolute Error\n",
    "              optimizer=tf.keras.optimizers.Adam(lr=0.01),\n",
    "              metrics=[\"mae\"]\n",
    "             )\n",
    "\n",
    "# 3. Fit the model \n",
    "model.fit(tf.expand_dims(X, axis=-1),y, epochs=100) # Increasing the number of epochs\n"
   ]
  },
  {
   "cell_type": "markdown",
   "id": "94b6ecb8",
   "metadata": {},
   "source": [
    "The loss is 0.1750; this model should perform really well."
   ]
  },
  {
   "cell_type": "code",
   "execution_count": 21,
   "id": "57f0d41b",
   "metadata": {},
   "outputs": [
    {
     "data": {
      "text/plain": [
       "(<tf.Tensor: shape=(8,), dtype=float64, numpy=array([-7., -4., -1.,  2.,  5.,  8., 11., 14.])>,\n",
       " <tf.Tensor: shape=(8,), dtype=float64, numpy=array([ 3.,  6.,  9., 12., 15., 18., 21., 24.])>)"
      ]
     },
     "execution_count": 21,
     "metadata": {},
     "output_type": "execute_result"
    }
   ],
   "source": [
    "# Remind ourselves of the data\n",
    "X, y"
   ]
  },
  {
   "cell_type": "code",
   "execution_count": 22,
   "id": "c898e1c6",
   "metadata": {},
   "outputs": [
    {
     "name": "stdout",
     "output_type": "stream",
     "text": [
      "1/1 [==============================] - 0s 67ms/step\n"
     ]
    },
    {
     "data": {
      "text/plain": [
       "array([[27.55838]], dtype=float32)"
      ]
     },
     "execution_count": 22,
     "metadata": {},
     "output_type": "execute_result"
    }
   ],
   "source": [
    "# Check if the model's prediction has improved...\n",
    "model.predict([17.])"
   ]
  },
  {
   "cell_type": "markdown",
   "id": "a39358dc",
   "metadata": {},
   "source": [
    "The model has predicted 26.918, while the real value is 27. We can conclude that the prediction is pretty well.  \n",
    "**Observation** : adjusting the learning rate of our model has result in the best improvement so far."
   ]
  },
  {
   "cell_type": "code",
   "execution_count": null,
   "id": "b2408c94",
   "metadata": {},
   "outputs": [],
   "source": []
  },
  {
   "cell_type": "markdown",
   "id": "93827ad7",
   "metadata": {},
   "source": [
    "**Model improvement rules** - When improving a model :\n",
    "* **make many small changes** (experiments) and **test each one**, rather than always doing extremely large changes, because otherwise, if one does too big of a change, he might not be sure what caused the improvement or know improvement of the model.\n",
    "* **the learning rate is potentially the most important hyper-parameter that can be changed** on a neural networks in order to improve it"
   ]
  },
  {
   "cell_type": "code",
   "execution_count": null,
   "id": "fe87eb6f",
   "metadata": {},
   "outputs": [],
   "source": []
  },
  {
   "cell_type": "code",
   "execution_count": null,
   "id": "e2c5c066",
   "metadata": {},
   "outputs": [],
   "source": []
  },
  {
   "cell_type": "markdown",
   "id": "a2f52266",
   "metadata": {},
   "source": [
    "## Evaluating a model\n",
    "\n",
    "\n",
    "In practice, a typical workflow one goes through when buidling neural networks is :    \n",
    "``` Build a model -> fit it -> evaluate it -> tweak a model -> fit it evaluate it -> tweak a model -> fit it -> evaluate it -> ... ```\n",
    "\n"
   ]
  },
  {
   "cell_type": "markdown",
   "id": "5be2462e",
   "metadata": {},
   "source": [
    "When it comes to evaluation, there is one words one should memorize, and remember : **visualize**.\n",
    "\n",
    "It's a good idea to visualize : \n",
    "* `The data` - what data are we working with ? What does it look like ?\n",
    "* `The model` itself - what does our model look like ?\n",
    "* `The training` of the model - how does the model perform while it learns ?\n",
    "* `The predictions` of the model - how do the predictions of the model line up agains the real values ?\n",
    "\n",
    "\n",
    "Let us dig into these steps here a bit further by working on a little bit of a larger problem."
   ]
  },
  {
   "cell_type": "code",
   "execution_count": 23,
   "id": "2e38f664",
   "metadata": {},
   "outputs": [
    {
     "data": {
      "text/plain": [
       "<tf.Tensor: shape=(50,), dtype=int32, numpy=\n",
       "array([-100,  -96,  -92,  -88,  -84,  -80,  -76,  -72,  -68,  -64,  -60,\n",
       "        -56,  -52,  -48,  -44,  -40,  -36,  -32,  -28,  -24,  -20,  -16,\n",
       "        -12,   -8,   -4,    0,    4,    8,   12,   16,   20,   24,   28,\n",
       "         32,   36,   40,   44,   48,   52,   56,   60,   64,   68,   72,\n",
       "         76,   80,   84,   88,   92,   96])>"
      ]
     },
     "execution_count": 23,
     "metadata": {},
     "output_type": "execute_result"
    }
   ],
   "source": [
    "# Make a bigger dataset\n",
    "X = tf.range(-100, 100, 4)\n",
    "X"
   ]
  },
  {
   "cell_type": "code",
   "execution_count": 24,
   "id": "fe6189cb",
   "metadata": {},
   "outputs": [
    {
     "data": {
      "text/plain": [
       "<tf.Tensor: shape=(50,), dtype=int32, numpy=\n",
       "array([-90, -86, -82, -78, -74, -70, -66, -62, -58, -54, -50, -46, -42,\n",
       "       -38, -34, -30, -26, -22, -18, -14, -10,  -6,  -2,   2,   6,  10,\n",
       "        14,  18,  22,  26,  30,  34,  38,  42,  46,  50,  54,  58,  62,\n",
       "        66,  70,  74,  78,  82,  86,  90,  94,  98, 102, 106])>"
      ]
     },
     "execution_count": 24,
     "metadata": {},
     "output_type": "execute_result"
    }
   ],
   "source": [
    "# Make labels for the dataset\n",
    "\n",
    "y = X + 10   # y = X + 10 is the formula(pattern) we want the model to learn\n",
    "y"
   ]
  },
  {
   "cell_type": "code",
   "execution_count": 25,
   "id": "49a40371",
   "metadata": {},
   "outputs": [
    {
     "data": {
      "text/plain": [
       "<matplotlib.collections.PathCollection at 0x29f7bfe2a90>"
      ]
     },
     "execution_count": 25,
     "metadata": {},
     "output_type": "execute_result"
    },
    {
     "data": {
      "image/png": "[encoded data removed]",
      "text/plain": [
       "<Figure size 432x288 with 1 Axes>"
      ]
     },
     "metadata": {
      "needs_background": "light"
     },
     "output_type": "display_data"
    }
   ],
   "source": [
    "# Visualize the data\n",
    "\n",
    "plt.scatter(X, y)"
   ]
  },
  {
   "cell_type": "code",
   "execution_count": null,
   "id": "56654807",
   "metadata": {},
   "outputs": [],
   "source": []
  },
  {
   "cell_type": "markdown",
   "id": "0dc0cfa7",
   "metadata": {},
   "source": [
    "### The 03 set of data\n",
    "\n",
    "* **Training set** - the model learns from this data, which is typically 70-80% of the total data available.\n",
    "* **Validation set** - the model gets tuned on this data (it is the above mentionned *tweak the model*), which is typically 10-15% of the total data available.\n",
    "* **Test set** - the model gets evaluated on this data to test what is has learned (to check how it performs on data is hasn't see before); this set is typically 10-15% of the available data."
   ]
  },
  {
   "cell_type": "code",
   "execution_count": 26,
   "id": "e1f8ed25",
   "metadata": {},
   "outputs": [
    {
     "data": {
      "text/plain": [
       "50"
      ]
     },
     "execution_count": 26,
     "metadata": {},
     "output_type": "execute_result"
    }
   ],
   "source": [
    "# Check how many samples we have\n",
    "nb_data = len(X)\n",
    "nb_data"
   ]
  },
  {
   "cell_type": "code",
   "execution_count": 27,
   "id": "9dc7d4f2",
   "metadata": {},
   "outputs": [
    {
     "data": {
      "text/plain": [
       "(40, 10, 40, 10)"
      ]
     },
     "execution_count": 27,
     "metadata": {},
     "output_type": "execute_result"
    }
   ],
   "source": [
    "# Split the data into train and test sets\n",
    "\n",
    "X_train = X[: int(nb_data*.8)] # 80% of the data\n",
    "y_train = y[: int(nb_data*.8)] # 80% of the data\n",
    "\n",
    "X_test = X[int(nb_data*.8):] # 20% of the data\n",
    "y_test = y[int(nb_data*.8):] # 20% of the data\n",
    "\n",
    "\n",
    "len(X_train), len(X_test), len(y_train), len(y_test)"
   ]
  },
  {
   "cell_type": "markdown",
   "id": "e9603622",
   "metadata": {},
   "source": [
    "### Visualizing the data\n",
    "\n",
    "Now that data was divided in training and testing sets, let's visualize it again."
   ]
  },
  {
   "cell_type": "code",
   "execution_count": 28,
   "id": "a805227d",
   "metadata": {},
   "outputs": [
    {
     "data": {
      "image/png": "[encoded data removed]",
      "text/plain": [
       "<Figure size 720x504 with 1 Axes>"
      ]
     },
     "metadata": {
      "needs_background": "light"
     },
     "output_type": "display_data"
    }
   ],
   "source": [
    "plt.figure( figsize=(10,7) )\n",
    "\n",
    "# Plot training data in blue\n",
    "plt.scatter(X_train, y_train, c=\"b\", label=\"Training data\")\n",
    "\n",
    "# Plot test data in green\n",
    "plt.scatter(X_test, y_test, c=\"g\", label=\"Test data\")\n",
    "\n",
    "#Show a legend\n",
    "plt.legend();"
   ]
  },
  {
   "cell_type": "code",
   "execution_count": null,
   "id": "82c45ed8",
   "metadata": {},
   "outputs": [],
   "source": []
  },
  {
   "cell_type": "markdown",
   "id": "6e2f8628",
   "metadata": {},
   "source": [
    "### Building a neural network"
   ]
  },
  {
   "cell_type": "code",
   "execution_count": 29,
   "id": "8a1f31b0",
   "metadata": {},
   "outputs": [],
   "source": [
    "# 1. Create a model\n",
    "model = tf.keras.Sequential([\n",
    "    tf.keras.layers.Dense(1)\n",
    "])\n",
    "\n",
    "# 2. Compile the model\n",
    "model.compile(loss=tf.keras.losses.mae,\n",
    "             optimizer= tf.keras.optimizers.SGD(),\n",
    "             metrics=[\"mae\"])\n",
    "\n"
   ]
  },
  {
   "cell_type": "markdown",
   "id": "c43d95e1",
   "metadata": {},
   "source": [
    "#### Visualizing the model"
   ]
  },
  {
   "cell_type": "code",
   "execution_count": null,
   "id": "86569e88",
   "metadata": {},
   "outputs": [],
   "source": []
  },
  {
   "cell_type": "code",
   "execution_count": 30,
   "id": "fe7036b7",
   "metadata": {},
   "outputs": [
    {
     "ename": "ValueError",
     "evalue": "This model has not yet been built. Build the model first by calling `build()` or by calling the model on a batch of data.",
     "output_type": "error",
     "traceback": [
      "\u001b[1;31m---------------------------------------------------------------------------\u001b[0m",
      "\u001b[1;31mValueError\u001b[0m                                Traceback (most recent call last)",
      "\u001b[1;32m<ipython-input-30-cdfdfbb4254b>\u001b[0m in \u001b[0;36m<module>\u001b[1;34m\u001b[0m\n\u001b[0;32m      1\u001b[0m \u001b[1;31m# Get an idea of what the model looks like before running it\u001b[0m\u001b[1;33m\u001b[0m\u001b[1;33m\u001b[0m\u001b[1;33m\u001b[0m\u001b[0m\n\u001b[1;32m----> 2\u001b[1;33m \u001b[0mmodel\u001b[0m\u001b[1;33m.\u001b[0m\u001b[0msummary\u001b[0m\u001b[1;33m(\u001b[0m\u001b[1;33m)\u001b[0m\u001b[1;33m\u001b[0m\u001b[1;33m\u001b[0m\u001b[0m\n\u001b[0m",
      "\u001b[1;32mC:\\ProgramData\\Anaconda3\\lib\\site-packages\\keras\\engine\\training.py\u001b[0m in \u001b[0;36msummary\u001b[1;34m(self, line_length, positions, print_fn, expand_nested, show_trainable, layer_range)\u001b[0m\n\u001b[0;32m   3212\u001b[0m         \"\"\"\n\u001b[0;32m   3213\u001b[0m         \u001b[1;32mif\u001b[0m \u001b[1;32mnot\u001b[0m \u001b[0mself\u001b[0m\u001b[1;33m.\u001b[0m\u001b[0mbuilt\u001b[0m\u001b[1;33m:\u001b[0m\u001b[1;33m\u001b[0m\u001b[1;33m\u001b[0m\u001b[0m\n\u001b[1;32m-> 3214\u001b[1;33m             raise ValueError(\n\u001b[0m\u001b[0;32m   3215\u001b[0m                 \u001b[1;34m\"This model has not yet been built. \"\u001b[0m\u001b[1;33m\u001b[0m\u001b[1;33m\u001b[0m\u001b[0m\n\u001b[0;32m   3216\u001b[0m                 \u001b[1;34m\"Build the model first by calling `build()` or by calling \"\u001b[0m\u001b[1;33m\u001b[0m\u001b[1;33m\u001b[0m\u001b[0m\n",
      "\u001b[1;31mValueError\u001b[0m: This model has not yet been built. Build the model first by calling `build()` or by calling the model on a batch of data."
     ]
    }
   ],
   "source": [
    "# Get an idea of what the model looks like before running it\n",
    "model.summary()"
   ]
  },
  {
   "cell_type": "code",
   "execution_count": 31,
   "id": "afbc8917",
   "metadata": {},
   "outputs": [
    {
     "data": {
      "text/plain": [
       "<tf.Tensor: shape=(50,), dtype=int32, numpy=\n",
       "array([-100,  -96,  -92,  -88,  -84,  -80,  -76,  -72,  -68,  -64,  -60,\n",
       "        -56,  -52,  -48,  -44,  -40,  -36,  -32,  -28,  -24,  -20,  -16,\n",
       "        -12,   -8,   -4,    0,    4,    8,   12,   16,   20,   24,   28,\n",
       "         32,   36,   40,   44,   48,   52,   56,   60,   64,   68,   72,\n",
       "         76,   80,   84,   88,   92,   96])>"
      ]
     },
     "execution_count": 31,
     "metadata": {},
     "output_type": "execute_result"
    }
   ],
   "source": [
    "X"
   ]
  },
  {
   "cell_type": "code",
   "execution_count": 32,
   "id": "c7634b89",
   "metadata": {},
   "outputs": [
    {
     "data": {
      "text/plain": [
       "1"
      ]
     },
     "execution_count": 32,
     "metadata": {},
     "output_type": "execute_result"
    }
   ],
   "source": [
    "X.ndim"
   ]
  },
  {
   "cell_type": "code",
   "execution_count": 33,
   "id": "987713a6",
   "metadata": {},
   "outputs": [
    {
     "data": {
      "text/plain": [
       "(<tf.Tensor: shape=(), dtype=int32, numpy=-100>,\n",
       " <tf.Tensor: shape=(), dtype=int32, numpy=-90>)"
      ]
     },
     "execution_count": 33,
     "metadata": {},
     "output_type": "execute_result"
    }
   ],
   "source": [
    "X[0],y[0]"
   ]
  },
  {
   "cell_type": "markdown",
   "id": "f296c106",
   "metadata": {},
   "source": [
    "* The explanation of the Prof : X[0] contains a scalar, so the input_shape of our model is 1; in case X[0] contain for example 3 different numbers, then input_shape would be 3.    \n",
    "* My own deduction : Another way to analyze it is based on the number of dimensions of X : X.ndim return 1, which means X is represented on one dimension, so the input shape is 1."
   ]
  },
  {
   "cell_type": "code",
   "execution_count": 34,
   "id": "b1a53531",
   "metadata": {},
   "outputs": [],
   "source": [
    "# Let's create a model which builds automatically by \n",
    "#    defining the input_shape argument in the first layer (that is what is usually done in practice)\n",
    "\n",
    "tf.random.set_seed(42)\n",
    "\n",
    "# 1. Create a model (same as above)\n",
    "model = tf.keras.Sequential([\n",
    "    tf.keras.layers.Dense(1, input_shape= [X.ndim] ) # tf.keras.layers.Dense(1, input_shape= [1] )\n",
    "                                                     #     refer to the previous cell to get \n",
    "                                                     #      explanations on why input_shape= [1]   \n",
    "]) \n",
    "\n",
    "# 2. COmpile the model \n",
    "model.compile(loss=tf.keras.losses.mae,\n",
    "             optimizer = tf.keras.optimizers.SGD(),\n",
    "             metrics=[\"mae\"])\n",
    "\n",
    "\n"
   ]
  },
  {
   "cell_type": "code",
   "execution_count": 35,
   "id": "a6e064a1",
   "metadata": {},
   "outputs": [
    {
     "name": "stdout",
     "output_type": "stream",
     "text": [
      "Model: \"sequential_5\"\n",
      "_________________________________________________________________\n",
      " Layer (type)                Output Shape              Param #   \n",
      "=================================================================\n",
      " dense_10 (Dense)            (None, 1)                 2         \n",
      "                                                                 \n",
      "=================================================================\n",
      "Total params: 2\n",
      "Trainable params: 2\n",
      "Non-trainable params: 0\n",
      "_________________________________________________________________\n"
     ]
    }
   ],
   "source": [
    "model.summary()"
   ]
  },
  {
   "cell_type": "markdown",
   "id": "b7c23bc7",
   "metadata": {},
   "source": [
    ".summary() on a model show the layers it contains, the output shape, and the number of parameters of each layer.   \n",
    "   \n",
    "* The **Ouput Shape** here (None, 1) : the representation here is something I personnally need to do more research on\n",
    "* The **Layer Type** `Dense` : it is another word for `fully connected`. A fully connected layer means each neuron in the said layer connects to all neurons in the next layer.\n",
    "* There are 2 **Params** :  \n",
    " - **Total params** : total number of parameters in the model; these are the patterns that the model is going to learn\n",
    " - **Trainable parameters** : these are the parameters (patterns) the model can update as it trains\n",
    " - **Non-trainable params** : these are the patterns the model cannot update as it trains; when we import a model that has already learned patterns in data (**transfer learning**), we might freeze those learned patterns so that the model retains what it already knows"
   ]
  },
  {
   "cell_type": "markdown",
   "id": "dd0bebde",
   "metadata": {},
   "source": [
    "📖 **Resource**: For a more in-depth overview of the trainable parameters within a layer, check out MIT's introduction to deep learning video at http://introtodeeplearning.com/ "
   ]
  },
  {
   "cell_type": "markdown",
   "id": "4a3aa920",
   "metadata": {},
   "source": [
    "🛠️**Exercise**: Try playing around with the number of hdden units in the dense layer, see how that effects the number of parameters (total and trainable) by calling `model.summary()`"
   ]
  },
  {
   "cell_type": "code",
   "execution_count": 36,
   "id": "f9bb768b",
   "metadata": {},
   "outputs": [
    {
     "name": "stdout",
     "output_type": "stream",
     "text": [
      "Model: \"sequential_6\"\n",
      "_________________________________________________________________\n",
      " Layer (type)                Output Shape              Param #   \n",
      "=================================================================\n",
      " dense_11 (Dense)            (None, 3)                 6         \n",
      "                                                                 \n",
      "=================================================================\n",
      "Total params: 6\n",
      "Trainable params: 6\n",
      "Non-trainable params: 0\n",
      "_________________________________________________________________\n"
     ]
    }
   ],
   "source": [
    "tf.random.set_seed(42)\n",
    "\n",
    "# 1. Create a model (same as above)\n",
    "model = tf.keras.Sequential([\n",
    "    tf.keras.layers.Dense(3, input_shape= [1] )  \n",
    "]) \n",
    "\n",
    "# 2. COmpile the model \n",
    "model.compile(loss=tf.keras.losses.mae,\n",
    "             optimizer = tf.keras.optimizers.SGD(),\n",
    "             metrics=[\"mae\"])\n",
    "\n",
    "\n",
    "model.summary()"
   ]
  },
  {
   "cell_type": "code",
   "execution_count": null,
   "id": "257f63ee",
   "metadata": {},
   "outputs": [],
   "source": []
  },
  {
   "cell_type": "code",
   "execution_count": null,
   "id": "5f285645",
   "metadata": {},
   "outputs": [],
   "source": []
  },
  {
   "cell_type": "code",
   "execution_count": 37,
   "id": "7dec1a2f",
   "metadata": {},
   "outputs": [
    {
     "name": "stdout",
     "output_type": "stream",
     "text": [
      "Model: \"sequential_7\"\n",
      "_________________________________________________________________\n",
      " Layer (type)                Output Shape              Param #   \n",
      "=================================================================\n",
      " dense_12 (Dense)            (None, 1)                 2         \n",
      "                                                                 \n",
      "=================================================================\n",
      "Total params: 2\n",
      "Trainable params: 2\n",
      "Non-trainable params: 0\n",
      "_________________________________________________________________\n"
     ]
    }
   ],
   "source": [
    "# Let us change the number of neuro from 3 to 1\n",
    "\n",
    "tf.random.set_seed(42)\n",
    "\n",
    "# 1. Create a model (same as above)\n",
    "model = tf.keras.Sequential([\n",
    "    tf.keras.layers.Dense(1, input_shape= [1] )  \n",
    "]) \n",
    "\n",
    "# 2. COmpile the model \n",
    "model.compile(loss=tf.keras.losses.mae,\n",
    "             optimizer = tf.keras.optimizers.SGD(),\n",
    "             metrics=[\"mae\"])\n",
    "\n",
    "\n",
    "model.summary()"
   ]
  },
  {
   "cell_type": "code",
   "execution_count": 38,
   "id": "5d2f8b23",
   "metadata": {},
   "outputs": [
    {
     "name": "stdout",
     "output_type": "stream",
     "text": [
      "Epoch 1/100\n",
      "2/2 [==============================] - 0s 2ms/step - loss: 30.5738 - mae: 30.5738\n",
      "Epoch 2/100\n",
      "2/2 [==============================] - 0s 3ms/step - loss: 9.7970 - mae: 9.7970\n",
      "Epoch 3/100\n",
      "2/2 [==============================] - 0s 5ms/step - loss: 10.7482 - mae: 10.7482\n",
      "Epoch 4/100\n",
      "2/2 [==============================] - 0s 4ms/step - loss: 9.5060 - mae: 9.5060\n",
      "Epoch 5/100\n",
      "2/2 [==============================] - 0s 3ms/step - loss: 10.4075 - mae: 10.4075\n",
      "Epoch 6/100\n",
      "2/2 [==============================] - 0s 4ms/step - loss: 9.6402 - mae: 9.6402\n",
      "Epoch 7/100\n",
      "2/2 [==============================] - 0s 4ms/step - loss: 8.7449 - mae: 8.7449\n",
      "Epoch 8/100\n",
      "2/2 [==============================] - 0s 4ms/step - loss: 9.0521 - mae: 9.0521\n",
      "Epoch 9/100\n",
      "2/2 [==============================] - 0s 5ms/step - loss: 19.2019 - mae: 19.2019\n",
      "Epoch 10/100\n",
      "2/2 [==============================] - 0s 3ms/step - loss: 10.3596 - mae: 10.3596\n",
      "Epoch 11/100\n",
      "2/2 [==============================] - 0s 3ms/step - loss: 8.4892 - mae: 8.4892\n",
      "Epoch 12/100\n",
      "2/2 [==============================] - 0s 2ms/step - loss: 10.8588 - mae: 10.8588\n",
      "Epoch 13/100\n",
      "2/2 [==============================] - 0s 3ms/step - loss: 9.9005 - mae: 9.9005\n",
      "Epoch 14/100\n",
      "2/2 [==============================] - 0s 3ms/step - loss: 9.4641 - mae: 9.4641\n",
      "Epoch 15/100\n",
      "2/2 [==============================] - 0s 3ms/step - loss: 13.6659 - mae: 13.6659\n",
      "Epoch 16/100\n",
      "2/2 [==============================] - 0s 3ms/step - loss: 8.9269 - mae: 8.9269\n",
      "Epoch 17/100\n",
      "2/2 [==============================] - 0s 3ms/step - loss: 12.8284 - mae: 12.8284\n",
      "Epoch 18/100\n",
      "2/2 [==============================] - 0s 2ms/step - loss: 10.4576 - mae: 10.4576\n",
      "Epoch 19/100\n",
      "2/2 [==============================] - 0s 3ms/step - loss: 19.2418 - mae: 19.2418\n",
      "Epoch 20/100\n",
      "2/2 [==============================] - 0s 3ms/step - loss: 15.9058 - mae: 15.9058\n",
      "Epoch 21/100\n",
      "2/2 [==============================] - 0s 3ms/step - loss: 11.7327 - mae: 11.7327\n",
      "Epoch 22/100\n",
      "2/2 [==============================] - 0s 3ms/step - loss: 8.9358 - mae: 8.9358\n",
      "Epoch 23/100\n",
      "2/2 [==============================] - 0s 3ms/step - loss: 10.0395 - mae: 10.0395\n",
      "Epoch 24/100\n",
      "2/2 [==============================] - 0s 3ms/step - loss: 15.6338 - mae: 15.6338\n",
      "Epoch 25/100\n",
      "2/2 [==============================] - 0s 2ms/step - loss: 12.0976 - mae: 12.0976\n",
      "Epoch 26/100\n",
      "2/2 [==============================] - 0s 3ms/step - loss: 13.2121 - mae: 13.2121\n",
      "Epoch 27/100\n",
      "2/2 [==============================] - 0s 3ms/step - loss: 10.6740 - mae: 10.6740\n",
      "Epoch 28/100\n",
      "2/2 [==============================] - 0s 3ms/step - loss: 12.9044 - mae: 12.9044\n",
      "Epoch 29/100\n",
      "2/2 [==============================] - 0s 2ms/step - loss: 9.5059 - mae: 9.5059\n",
      "Epoch 30/100\n",
      "2/2 [==============================] - 0s 3ms/step - loss: 16.4460 - mae: 16.4460\n",
      "Epoch 31/100\n",
      "2/2 [==============================] - 0s 2ms/step - loss: 23.5404 - mae: 23.5404\n",
      "Epoch 32/100\n",
      "2/2 [==============================] - 0s 3ms/step - loss: 7.5947 - mae: 7.5947\n",
      "Epoch 33/100\n",
      "2/2 [==============================] - 0s 4ms/step - loss: 9.2903 - mae: 9.2903\n",
      "Epoch 34/100\n",
      "2/2 [==============================] - 0s 2ms/step - loss: 13.6480 - mae: 13.6480\n",
      "Epoch 35/100\n",
      "2/2 [==============================] - 0s 4ms/step - loss: 11.1615 - mae: 11.1615\n",
      "Epoch 36/100\n",
      "2/2 [==============================] - 0s 3ms/step - loss: 13.4013 - mae: 13.4013\n",
      "Epoch 37/100\n",
      "2/2 [==============================] - 0s 3ms/step - loss: 9.4324 - mae: 9.4324\n",
      "Epoch 38/100\n",
      "2/2 [==============================] - 0s 4ms/step - loss: 10.0818 - mae: 10.0818\n",
      "Epoch 39/100\n",
      "2/2 [==============================] - 0s 3ms/step - loss: 8.9596 - mae: 8.9596\n",
      "Epoch 40/100\n",
      "2/2 [==============================] - 0s 2ms/step - loss: 9.5867 - mae: 9.5867\n",
      "Epoch 41/100\n",
      "2/2 [==============================] - 0s 2ms/step - loss: 10.5474 - mae: 10.5474\n",
      "Epoch 42/100\n",
      "2/2 [==============================] - 0s 2ms/step - loss: 10.5997 - mae: 10.5997\n",
      "Epoch 43/100\n",
      "2/2 [==============================] - 0s 2ms/step - loss: 7.1980 - mae: 7.1980\n",
      "Epoch 44/100\n",
      "2/2 [==============================] - 0s 3ms/step - loss: 8.0023 - mae: 8.0023\n",
      "Epoch 45/100\n",
      "2/2 [==============================] - 0s 3ms/step - loss: 9.8020 - mae: 9.8020\n",
      "Epoch 46/100\n",
      "2/2 [==============================] - 0s 2ms/step - loss: 8.8818 - mae: 8.8818\n",
      "Epoch 47/100\n",
      "2/2 [==============================] - 0s 3ms/step - loss: 7.5546 - mae: 7.5546\n",
      "Epoch 48/100\n",
      "2/2 [==============================] - 0s 3ms/step - loss: 8.5284 - mae: 8.5284\n",
      "Epoch 49/100\n",
      "2/2 [==============================] - 0s 4ms/step - loss: 10.0123 - mae: 10.0123\n",
      "Epoch 50/100\n",
      "2/2 [==============================] - 0s 3ms/step - loss: 8.9759 - mae: 8.9759\n",
      "Epoch 51/100\n",
      "2/2 [==============================] - 0s 3ms/step - loss: 10.6877 - mae: 10.6877\n",
      "Epoch 52/100\n",
      "2/2 [==============================] - 0s 3ms/step - loss: 15.2559 - mae: 15.2559\n",
      "Epoch 53/100\n",
      "2/2 [==============================] - 0s 3ms/step - loss: 14.2859 - mae: 14.2859\n",
      "Epoch 54/100\n",
      "2/2 [==============================] - 0s 2ms/step - loss: 21.5476 - mae: 21.5476\n",
      "Epoch 55/100\n",
      "2/2 [==============================] - 0s 3ms/step - loss: 16.0337 - mae: 16.0337\n",
      "Epoch 56/100\n",
      "2/2 [==============================] - 0s 4ms/step - loss: 10.2421 - mae: 10.2421\n",
      "Epoch 57/100\n",
      "2/2 [==============================] - 0s 2ms/step - loss: 9.7784 - mae: 9.7784\n",
      "Epoch 58/100\n",
      "2/2 [==============================] - 0s 3ms/step - loss: 9.0607 - mae: 9.0607\n",
      "Epoch 59/100\n",
      "2/2 [==============================] - 0s 4ms/step - loss: 8.2668 - mae: 8.2668\n",
      "Epoch 60/100\n",
      "2/2 [==============================] - 0s 3ms/step - loss: 9.3584 - mae: 9.3584\n",
      "Epoch 61/100\n",
      "2/2 [==============================] - 0s 3ms/step - loss: 11.1839 - mae: 11.1839\n",
      "Epoch 62/100\n",
      "2/2 [==============================] - 0s 4ms/step - loss: 12.0289 - mae: 12.0289\n",
      "Epoch 63/100\n",
      "2/2 [==============================] - 0s 3ms/step - loss: 7.2602 - mae: 7.2602\n",
      "Epoch 64/100\n",
      "2/2 [==============================] - 0s 4ms/step - loss: 12.4510 - mae: 12.4510\n",
      "Epoch 65/100\n",
      "2/2 [==============================] - 0s 4ms/step - loss: 10.5197 - mae: 10.5197\n",
      "Epoch 66/100\n",
      "2/2 [==============================] - 0s 2ms/step - loss: 15.5622 - mae: 15.5622\n",
      "Epoch 67/100\n",
      "2/2 [==============================] - 0s 2ms/step - loss: 9.9724 - mae: 9.9724\n",
      "Epoch 68/100\n",
      "2/2 [==============================] - 0s 3ms/step - loss: 8.6976 - mae: 8.6976\n",
      "Epoch 69/100\n",
      "2/2 [==============================] - 0s 2ms/step - loss: 13.4373 - mae: 13.4373\n",
      "Epoch 70/100\n",
      "2/2 [==============================] - 0s 3ms/step - loss: 7.4557 - mae: 7.4557\n",
      "Epoch 71/100\n",
      "2/2 [==============================] - 0s 2ms/step - loss: 12.2466 - mae: 12.2466\n",
      "Epoch 72/100\n",
      "2/2 [==============================] - 0s 2ms/step - loss: 8.4990 - mae: 8.4990\n",
      "Epoch 73/100\n",
      "2/2 [==============================] - 0s 2ms/step - loss: 7.0236 - mae: 7.0236\n",
      "Epoch 74/100\n",
      "2/2 [==============================] - 0s 3ms/step - loss: 9.8805 - mae: 9.8805\n",
      "Epoch 75/100\n",
      "2/2 [==============================] - 0s 3ms/step - loss: 9.9468 - mae: 9.9468\n",
      "Epoch 76/100\n",
      "2/2 [==============================] - 0s 3ms/step - loss: 10.1076 - mae: 10.1076\n",
      "Epoch 77/100\n",
      "2/2 [==============================] - 0s 2ms/step - loss: 12.9814 - mae: 12.9814\n",
      "Epoch 78/100\n",
      "2/2 [==============================] - 0s 3ms/step - loss: 10.8822 - mae: 10.8822\n",
      "Epoch 79/100\n",
      "2/2 [==============================] - 0s 3ms/step - loss: 15.3643 - mae: 15.3643\n",
      "Epoch 80/100\n",
      "2/2 [==============================] - 0s 3ms/step - loss: 11.7182 - mae: 11.7182\n",
      "Epoch 81/100\n",
      "2/2 [==============================] - 0s 2ms/step - loss: 9.2352 - mae: 9.2352\n",
      "Epoch 82/100\n",
      "2/2 [==============================] - 0s 3ms/step - loss: 12.8143 - mae: 12.8143\n",
      "Epoch 83/100\n",
      "2/2 [==============================] - 0s 3ms/step - loss: 10.2659 - mae: 10.2659\n",
      "Epoch 84/100\n",
      "2/2 [==============================] - 0s 2ms/step - loss: 10.6049 - mae: 10.6049\n",
      "Epoch 85/100\n",
      "2/2 [==============================] - 0s 2ms/step - loss: 9.3124 - mae: 9.3124\n",
      "Epoch 86/100\n",
      "2/2 [==============================] - 0s 3ms/step - loss: 9.1598 - mae: 9.1598\n",
      "Epoch 87/100\n",
      "2/2 [==============================] - 0s 2ms/step - loss: 11.8983 - mae: 11.8983\n",
      "Epoch 88/100\n"
     ]
    },
    {
     "name": "stdout",
     "output_type": "stream",
     "text": [
      "2/2 [==============================] - 0s 3ms/step - loss: 10.5085 - mae: 10.5085\n",
      "Epoch 89/100\n",
      "2/2 [==============================] - 0s 3ms/step - loss: 7.2271 - mae: 7.2271\n",
      "Epoch 90/100\n",
      "2/2 [==============================] - 0s 2ms/step - loss: 12.6363 - mae: 12.6363\n",
      "Epoch 91/100\n",
      "2/2 [==============================] - 0s 2ms/step - loss: 7.2747 - mae: 7.2747\n",
      "Epoch 92/100\n",
      "2/2 [==============================] - 0s 2ms/step - loss: 7.6342 - mae: 7.6342\n",
      "Epoch 93/100\n",
      "2/2 [==============================] - 0s 3ms/step - loss: 7.0957 - mae: 7.0957\n",
      "Epoch 94/100\n",
      "2/2 [==============================] - 0s 3ms/step - loss: 12.4876 - mae: 12.4876\n",
      "Epoch 95/100\n",
      "2/2 [==============================] - 0s 3ms/step - loss: 9.8620 - mae: 9.8620\n",
      "Epoch 96/100\n",
      "2/2 [==============================] - 0s 2ms/step - loss: 9.1344 - mae: 9.1344\n",
      "Epoch 97/100\n",
      "2/2 [==============================] - 0s 3ms/step - loss: 12.1073 - mae: 12.1073\n",
      "Epoch 98/100\n",
      "2/2 [==============================] - 0s 2ms/step - loss: 9.0096 - mae: 9.0096\n",
      "Epoch 99/100\n",
      "2/2 [==============================] - 0s 3ms/step - loss: 8.4873 - mae: 8.4873\n",
      "Epoch 100/100\n",
      "2/2 [==============================] - 0s 2ms/step - loss: 14.5043 - mae: 14.5043\n"
     ]
    },
    {
     "data": {
      "text/plain": [
       "<keras.callbacks.History at 0x29f7d28d760>"
      ]
     },
     "execution_count": 38,
     "metadata": {},
     "output_type": "execute_result"
    }
   ],
   "source": [
    "# 3. Fit the model to the training data for 100 epochs\n",
    "model.fit(X_train, y_train, epochs=100, verbose=1)"
   ]
  },
  {
   "cell_type": "code",
   "execution_count": 39,
   "id": "2f299920",
   "metadata": {},
   "outputs": [
    {
     "name": "stdout",
     "output_type": "stream",
     "text": [
      "Epoch 1/100\n",
      "2/2 [==============================] - 0s 3ms/step - loss: 11.2872 - mae: 11.2872\n",
      "Epoch 2/100\n",
      "2/2 [==============================] - 0s 3ms/step - loss: 7.1977 - mae: 7.1977\n",
      "Epoch 3/100\n",
      "2/2 [==============================] - 0s 3ms/step - loss: 14.2677 - mae: 14.2677\n",
      "Epoch 4/100\n",
      "2/2 [==============================] - 0s 4ms/step - loss: 6.8633 - mae: 6.8633\n",
      "Epoch 5/100\n",
      "2/2 [==============================] - 0s 3ms/step - loss: 9.4472 - mae: 9.4472\n",
      "Epoch 6/100\n",
      "2/2 [==============================] - 0s 5ms/step - loss: 8.6524 - mae: 8.6524\n",
      "Epoch 7/100\n",
      "2/2 [==============================] - 0s 3ms/step - loss: 7.7901 - mae: 7.7901\n",
      "Epoch 8/100\n",
      "2/2 [==============================] - 0s 3ms/step - loss: 8.0754 - mae: 8.0754\n",
      "Epoch 9/100\n",
      "2/2 [==============================] - 0s 3ms/step - loss: 18.5967 - mae: 18.5967\n",
      "Epoch 10/100\n",
      "2/2 [==============================] - 0s 3ms/step - loss: 9.0843 - mae: 9.0843\n",
      "Epoch 11/100\n",
      "2/2 [==============================] - 0s 3ms/step - loss: 7.4250 - mae: 7.4250\n",
      "Epoch 12/100\n",
      "2/2 [==============================] - 0s 3ms/step - loss: 9.6538 - mae: 9.6538\n",
      "Epoch 13/100\n",
      "2/2 [==============================] - 0s 2ms/step - loss: 8.8082 - mae: 8.8082\n",
      "Epoch 14/100\n",
      "2/2 [==============================] - 0s 3ms/step - loss: 15.4097 - mae: 15.4097\n",
      "Epoch 15/100\n",
      "2/2 [==============================] - 0s 2ms/step - loss: 11.2092 - mae: 11.2092\n",
      "Epoch 16/100\n",
      "2/2 [==============================] - 0s 3ms/step - loss: 7.6664 - mae: 7.6664\n",
      "Epoch 17/100\n",
      "2/2 [==============================] - 0s 3ms/step - loss: 12.6583 - mae: 12.6583\n",
      "Epoch 18/100\n",
      "2/2 [==============================] - 0s 4ms/step - loss: 10.1916 - mae: 10.1916\n",
      "Epoch 19/100\n",
      "2/2 [==============================] - 0s 3ms/step - loss: 18.3203 - mae: 18.3203\n",
      "Epoch 20/100\n",
      "2/2 [==============================] - 0s 3ms/step - loss: 15.0218 - mae: 15.0218\n",
      "Epoch 21/100\n",
      "2/2 [==============================] - 0s 3ms/step - loss: 10.5224 - mae: 10.5224\n",
      "Epoch 22/100\n",
      "2/2 [==============================] - 0s 4ms/step - loss: 7.0352 - mae: 7.0352\n",
      "Epoch 23/100\n",
      "2/2 [==============================] - 0s 2ms/step - loss: 8.7033 - mae: 8.7033\n",
      "Epoch 24/100\n",
      "2/2 [==============================] - 0s 5ms/step - loss: 7.5802 - mae: 7.5802\n",
      "Epoch 25/100\n",
      "2/2 [==============================] - 0s 3ms/step - loss: 10.0896 - mae: 10.0896\n",
      "Epoch 26/100\n",
      "2/2 [==============================] - 0s 4ms/step - loss: 16.3845 - mae: 16.3845\n",
      "Epoch 27/100\n",
      "2/2 [==============================] - 0s 2ms/step - loss: 12.5795 - mae: 12.5795\n",
      "Epoch 28/100\n",
      "2/2 [==============================] - 0s 4ms/step - loss: 13.7597 - mae: 13.7597\n",
      "Epoch 29/100\n",
      "2/2 [==============================] - 0s 3ms/step - loss: 9.0856 - mae: 9.0856\n",
      "Epoch 30/100\n",
      "2/2 [==============================] - 0s 2ms/step - loss: 15.4354 - mae: 15.4354\n",
      "Epoch 31/100\n",
      "2/2 [==============================] - 0s 3ms/step - loss: 23.7128 - mae: 23.7128\n",
      "Epoch 32/100\n",
      "2/2 [==============================] - 0s 2ms/step - loss: 6.6403 - mae: 6.6403\n",
      "Epoch 33/100\n",
      "2/2 [==============================] - 0s 3ms/step - loss: 9.3302 - mae: 9.3302\n",
      "Epoch 34/100\n",
      "2/2 [==============================] - 0s 3ms/step - loss: 8.9055 - mae: 8.9055\n",
      "Epoch 35/100\n",
      "2/2 [==============================] - 0s 3ms/step - loss: 7.0234 - mae: 7.0234\n",
      "Epoch 36/100\n",
      "2/2 [==============================] - 0s 3ms/step - loss: 8.9746 - mae: 8.9746\n",
      "Epoch 37/100\n",
      "2/2 [==============================] - 0s 2ms/step - loss: 8.7524 - mae: 8.7524\n",
      "Epoch 38/100\n",
      "2/2 [==============================] - 0s 3ms/step - loss: 9.5401 - mae: 9.5401\n",
      "Epoch 39/100\n",
      "2/2 [==============================] - 0s 2ms/step - loss: 15.0376 - mae: 15.0376\n",
      "Epoch 40/100\n",
      "2/2 [==============================] - 0s 2ms/step - loss: 12.7870 - mae: 12.7870\n",
      "Epoch 41/100\n",
      "2/2 [==============================] - 0s 2ms/step - loss: 8.5589 - mae: 8.5589\n",
      "Epoch 42/100\n",
      "2/2 [==============================] - 0s 3ms/step - loss: 10.3822 - mae: 10.3822\n",
      "Epoch 43/100\n",
      "2/2 [==============================] - 0s 4ms/step - loss: 10.9487 - mae: 10.9487\n",
      "Epoch 44/100\n",
      "2/2 [==============================] - 0s 2ms/step - loss: 15.4514 - mae: 15.4514\n",
      "Epoch 45/100\n",
      "2/2 [==============================] - 0s 4ms/step - loss: 11.1853 - mae: 11.1853\n",
      "Epoch 46/100\n",
      "2/2 [==============================] - 0s 3ms/step - loss: 6.2997 - mae: 6.2997\n",
      "Epoch 47/100\n",
      "2/2 [==============================] - 0s 4ms/step - loss: 8.4665 - mae: 8.4665\n",
      "Epoch 48/100\n",
      "2/2 [==============================] - 0s 3ms/step - loss: 7.9883 - mae: 7.9883\n",
      "Epoch 49/100\n",
      "2/2 [==============================] - 0s 4ms/step - loss: 6.8673 - mae: 6.8673\n",
      "Epoch 50/100\n",
      "2/2 [==============================] - 0s 2ms/step - loss: 8.6479 - mae: 8.6479\n",
      "Epoch 51/100\n",
      "2/2 [==============================] - 0s 3ms/step - loss: 8.6000 - mae: 8.6000\n",
      "Epoch 52/100\n",
      "2/2 [==============================] - 0s 4ms/step - loss: 14.8728 - mae: 14.8728\n",
      "Epoch 53/100\n",
      "2/2 [==============================] - 0s 3ms/step - loss: 14.3334 - mae: 14.3334\n",
      "Epoch 54/100\n",
      "2/2 [==============================] - 0s 3ms/step - loss: 21.9379 - mae: 21.9379\n",
      "Epoch 55/100\n",
      "2/2 [==============================] - 0s 3ms/step - loss: 14.8113 - mae: 14.8113\n",
      "Epoch 56/100\n",
      "2/2 [==============================] - 0s 3ms/step - loss: 10.6647 - mae: 10.6647\n",
      "Epoch 57/100\n",
      "2/2 [==============================] - 0s 3ms/step - loss: 8.5602 - mae: 8.5602\n",
      "Epoch 58/100\n",
      "2/2 [==============================] - 0s 3ms/step - loss: 7.9177 - mae: 7.9177\n",
      "Epoch 59/100\n",
      "2/2 [==============================] - 0s 2ms/step - loss: 9.0454 - mae: 9.0454\n",
      "Epoch 60/100\n",
      "2/2 [==============================] - 0s 3ms/step - loss: 7.6155 - mae: 7.6155\n",
      "Epoch 61/100\n",
      "2/2 [==============================] - 0s 3ms/step - loss: 8.5461 - mae: 8.5461\n",
      "Epoch 62/100\n",
      "2/2 [==============================] - 0s 3ms/step - loss: 6.0379 - mae: 6.0379\n",
      "Epoch 63/100\n",
      "2/2 [==============================] - 0s 4ms/step - loss: 12.0387 - mae: 12.0387\n",
      "Epoch 64/100\n",
      "2/2 [==============================] - 0s 3ms/step - loss: 11.4498 - mae: 11.4498\n",
      "Epoch 65/100\n",
      "2/2 [==============================] - 0s 2ms/step - loss: 8.3054 - mae: 8.3054\n",
      "Epoch 66/100\n",
      "2/2 [==============================] - 0s 2ms/step - loss: 10.2927 - mae: 10.2927\n",
      "Epoch 67/100\n",
      "2/2 [==============================] - 0s 3ms/step - loss: 7.2769 - mae: 7.2769\n",
      "Epoch 68/100\n",
      "2/2 [==============================] - 0s 4ms/step - loss: 7.7436 - mae: 7.7436\n",
      "Epoch 69/100\n",
      "2/2 [==============================] - 0s 2ms/step - loss: 9.1674 - mae: 9.1674\n",
      "Epoch 70/100\n",
      "2/2 [==============================] - 0s 4ms/step - loss: 9.1876 - mae: 9.1876\n",
      "Epoch 71/100\n",
      "2/2 [==============================] - 0s 2ms/step - loss: 10.4363 - mae: 10.4363\n",
      "Epoch 72/100\n",
      "2/2 [==============================] - 0s 3ms/step - loss: 8.6403 - mae: 8.6403\n",
      "Epoch 73/100\n",
      "2/2 [==============================] - 0s 2ms/step - loss: 10.7439 - mae: 10.7439\n",
      "Epoch 74/100\n",
      "2/2 [==============================] - 0s 3ms/step - loss: 11.6157 - mae: 11.6157\n",
      "Epoch 75/100\n",
      "2/2 [==============================] - 0s 3ms/step - loss: 6.3578 - mae: 6.3578\n",
      "Epoch 76/100\n",
      "2/2 [==============================] - 0s 3ms/step - loss: 10.0880 - mae: 10.0880\n",
      "Epoch 77/100\n",
      "2/2 [==============================] - 0s 2ms/step - loss: 10.0615 - mae: 10.0615\n",
      "Epoch 78/100\n",
      "2/2 [==============================] - 0s 3ms/step - loss: 11.6943 - mae: 11.6943\n",
      "Epoch 79/100\n",
      "2/2 [==============================] - 0s 3ms/step - loss: 14.6761 - mae: 14.6761\n",
      "Epoch 80/100\n",
      "2/2 [==============================] - 0s 3ms/step - loss: 10.9916 - mae: 10.9916\n",
      "Epoch 81/100\n",
      "2/2 [==============================] - 0s 3ms/step - loss: 10.1289 - mae: 10.1289\n",
      "Epoch 82/100\n",
      "2/2 [==============================] - 0s 3ms/step - loss: 7.1233 - mae: 7.1233\n",
      "Epoch 83/100\n",
      "2/2 [==============================] - 0s 2ms/step - loss: 8.0535 - mae: 8.0535\n",
      "Epoch 84/100\n",
      "2/2 [==============================] - 0s 4ms/step - loss: 6.6873 - mae: 6.6873\n",
      "Epoch 85/100\n",
      "2/2 [==============================] - 0s 2ms/step - loss: 16.1588 - mae: 16.1588\n",
      "Epoch 86/100\n",
      "2/2 [==============================] - 0s 3ms/step - loss: 11.5906 - mae: 11.5906\n",
      "Epoch 87/100\n",
      "2/2 [==============================] - 0s 3ms/step - loss: 11.4785 - mae: 11.4785\n",
      "Epoch 88/100\n"
     ]
    },
    {
     "name": "stdout",
     "output_type": "stream",
     "text": [
      "2/2 [==============================] - 0s 2ms/step - loss: 9.5524 - mae: 9.5524\n",
      "Epoch 89/100\n",
      "2/2 [==============================] - 0s 2ms/step - loss: 6.0087 - mae: 6.0087\n",
      "Epoch 90/100\n",
      "2/2 [==============================] - 0s 2ms/step - loss: 12.9218 - mae: 12.9218\n",
      "Epoch 91/100\n",
      "2/2 [==============================] - 0s 4ms/step - loss: 6.8689 - mae: 6.8689\n",
      "Epoch 92/100\n",
      "2/2 [==============================] - 0s 3ms/step - loss: 7.0999 - mae: 7.0999\n",
      "Epoch 93/100\n",
      "2/2 [==============================] - 0s 3ms/step - loss: 8.5273 - mae: 8.5273\n",
      "Epoch 94/100\n",
      "2/2 [==============================] - 0s 2ms/step - loss: 7.8770 - mae: 7.8770\n",
      "Epoch 95/100\n",
      "2/2 [==============================] - 0s 2ms/step - loss: 11.3686 - mae: 11.3686\n",
      "Epoch 96/100\n",
      "2/2 [==============================] - 0s 3ms/step - loss: 8.3898 - mae: 8.3898\n",
      "Epoch 97/100\n",
      "2/2 [==============================] - 0s 3ms/step - loss: 12.1462 - mae: 12.1462\n",
      "Epoch 98/100\n",
      "2/2 [==============================] - 0s 4ms/step - loss: 7.4547 - mae: 7.4547\n",
      "Epoch 99/100\n",
      "2/2 [==============================] - 0s 2ms/step - loss: 8.1993 - mae: 8.1993\n",
      "Epoch 100/100\n",
      "2/2 [==============================] - 0s 2ms/step - loss: 9.6720 - mae: 9.6720\n"
     ]
    },
    {
     "data": {
      "text/plain": [
       "<keras.callbacks.History at 0x29f7beace80>"
      ]
     },
     "execution_count": 39,
     "metadata": {},
     "output_type": "execute_result"
    }
   ],
   "source": [
    "# Fit the model again, for another 100 epochs (so for a total of 200 epochs)\n",
    "model.fit(X_train, y_train, epochs=100, verbose=1)"
   ]
  },
  {
   "cell_type": "markdown",
   "id": "7798ca6b",
   "metadata": {},
   "source": [
    "🔑 Every time model.fit() is called, it's going to fit for the extra epochs provided as parameters : the epochs are cumulative."
   ]
  },
  {
   "cell_type": "code",
   "execution_count": null,
   "id": "378fe5b7",
   "metadata": {},
   "outputs": [],
   "source": []
  },
  {
   "cell_type": "markdown",
   "id": "8cd35a1b",
   "metadata": {},
   "source": [
    "### Visualizing a model's layers"
   ]
  },
  {
   "cell_type": "code",
   "execution_count": 40,
   "id": "64f49ee8",
   "metadata": {},
   "outputs": [
    {
     "name": "stdout",
     "output_type": "stream",
     "text": [
      "Model: \"sequential_8\"\n",
      "_________________________________________________________________\n",
      " Layer (type)                Output Shape              Param #   \n",
      "=================================================================\n",
      " dense_13 (Dense)            (None, 10)                20        \n",
      "                                                                 \n",
      "=================================================================\n",
      "Total params: 20\n",
      "Trainable params: 20\n",
      "Non-trainable params: 0\n",
      "_________________________________________________________________\n"
     ]
    }
   ],
   "source": [
    "# Creating a new model, with 10 units in the hidden layers\n",
    "\n",
    "tf.random.set_seed(42)\n",
    "\n",
    "# 1. Create a model (same as above)\n",
    "model = tf.keras.Sequential([\n",
    "    tf.keras.layers.Dense(10, input_shape= [1] )  \n",
    "]) \n",
    "\n",
    "# 2. Compile the model \n",
    "model.compile(loss=tf.keras.losses.mae,\n",
    "             optimizer = tf.keras.optimizers.SGD(),\n",
    "             metrics=[\"mae\"])\n",
    "\n",
    "\n",
    "model.summary()\n"
   ]
  },
  {
   "cell_type": "code",
   "execution_count": 41,
   "id": "967d66d9",
   "metadata": {},
   "outputs": [
    {
     "data": {
      "text/plain": [
       "<keras.callbacks.History at 0x29f7d32c9d0>"
      ]
     },
     "execution_count": 41,
     "metadata": {},
     "output_type": "execute_result"
    }
   ],
   "source": [
    "# Fit the model to the training data\n",
    "model.fit(X_train, y_train, epochs=100, verbose=0)"
   ]
  },
  {
   "cell_type": "code",
   "execution_count": 42,
   "id": "8641da1e",
   "metadata": {},
   "outputs": [
    {
     "data": {
      "image/png": "[encoded data removed]",
      "text/plain": [
       "<IPython.core.display.Image object>"
      ]
     },
     "execution_count": 42,
     "metadata": {},
     "output_type": "execute_result"
    }
   ],
   "source": [
    "# Looking at the layers of the model\n",
    "plot_model(model=model)"
   ]
  },
  {
   "cell_type": "code",
   "execution_count": 43,
   "id": "51112f96",
   "metadata": {},
   "outputs": [
    {
     "data": {
      "image/png": "[encoded data removed]",
      "text/plain": [
       "<IPython.core.display.Image object>"
      ]
     },
     "execution_count": 43,
     "metadata": {},
     "output_type": "execute_result"
    }
   ],
   "source": [
    "# Looking at the layers of the model, with it's shape\n",
    "plot_model(model=model, show_shapes=True)"
   ]
  },
  {
   "cell_type": "markdown",
   "id": "8720dbcb",
   "metadata": {},
   "source": [
    "The plot_model() above will be very handy later on when we start creating more complex models with more hidden layers. \n",
    "   \n",
    "Let's observe the plot of a little more complex model"
   ]
  },
  {
   "cell_type": "code",
   "execution_count": 44,
   "id": "d6a9f617",
   "metadata": {},
   "outputs": [
    {
     "name": "stdout",
     "output_type": "stream",
     "text": [
      "Model: \"amazing_model\"\n",
      "_________________________________________________________________\n",
      " Layer (type)                Output Shape              Param #   \n",
      "=================================================================\n",
      " input_layer (Dense)         (None, 10)                20        \n",
      "                                                                 \n",
      " output_layer (Dense)        (None, 1)                 11        \n",
      "                                                                 \n",
      "=================================================================\n",
      "Total params: 31\n",
      "Trainable params: 31\n",
      "Non-trainable params: 0\n",
      "_________________________________________________________________\n"
     ]
    }
   ],
   "source": [
    "# Creating a model, with 10 units in the hidden layers, and an output layer\n",
    "\n",
    "tf.random.set_seed(42)\n",
    "\n",
    "# 1. Create a model (same as above)\n",
    "model = tf.keras.Sequential([\n",
    "    tf.keras.layers.Dense(10, input_shape= [1], name=\"input_layer\" ), \n",
    "    tf.keras.layers.Dense(1, name=\"output_layer\")\n",
    "], name=\"amazing_model\") \n",
    "\n",
    "# 2. Compile the model \n",
    "model.compile(loss=tf.keras.losses.mae,\n",
    "             optimizer = tf.keras.optimizers.SGD(),\n",
    "             metrics=[\"mae\"])\n",
    "\n",
    "\n",
    "model.summary()\n"
   ]
  },
  {
   "cell_type": "code",
   "execution_count": 45,
   "id": "69b4b0ca",
   "metadata": {},
   "outputs": [
    {
     "data": {
      "text/plain": [
       "<keras.callbacks.History at 0x29f7d28d790>"
      ]
     },
     "execution_count": 45,
     "metadata": {},
     "output_type": "execute_result"
    }
   ],
   "source": [
    "# Fit the model to the training data\n",
    "model.fit(X_train, y_train, epochs=100, verbose=0)"
   ]
  },
  {
   "cell_type": "code",
   "execution_count": 46,
   "id": "bc62aa47",
   "metadata": {},
   "outputs": [
    {
     "name": "stdout",
     "output_type": "stream",
     "text": [
      "Model: \"amazing_model\"\n",
      "_________________________________________________________________\n",
      " Layer (type)                Output Shape              Param #   \n",
      "=================================================================\n",
      " input_layer (Dense)         (None, 10)                20        \n",
      "                                                                 \n",
      " output_layer (Dense)        (None, 1)                 11        \n",
      "                                                                 \n",
      "=================================================================\n",
      "Total params: 31\n",
      "Trainable params: 31\n",
      "Non-trainable params: 0\n",
      "_________________________________________________________________\n"
     ]
    }
   ],
   "source": [
    "model.summary()"
   ]
  },
  {
   "cell_type": "code",
   "execution_count": 47,
   "id": "06d885f8",
   "metadata": {},
   "outputs": [
    {
     "data": {
      "image/png": "[encoded data removed]",
      "text/plain": [
       "<IPython.core.display.Image object>"
      ]
     },
     "execution_count": 47,
     "metadata": {},
     "output_type": "execute_result"
    }
   ],
   "source": [
    "# Looking at the layers of the model, with it's shape\n",
    "plot_model(model=model, show_shapes=True)"
   ]
  },
  {
   "cell_type": "code",
   "execution_count": null,
   "id": "955333a7",
   "metadata": {},
   "outputs": [],
   "source": []
  },
  {
   "cell_type": "markdown",
   "id": "ab607c02",
   "metadata": {},
   "source": [
    "### Visualizing the model's predictions  \n",
    "  \n",
    "To visualize predictions, it's a good idea to plot them against the ground truth labels.  \n",
    "  \n",
    "Often, one will see this in the form of `y_test` or `y_true` versus `y_pred` (ground truth versus the model's predictions)."
   ]
  },
  {
   "cell_type": "code",
   "execution_count": 48,
   "id": "6274fe28",
   "metadata": {},
   "outputs": [
    {
     "name": "stdout",
     "output_type": "stream",
     "text": [
      "WARNING:tensorflow:5 out of the last 6 calls to <function Model.make_predict_function.<locals>.predict_function at 0x0000029F7D3F09D0> triggered tf.function retracing. Tracing is expensive and the excessive number of tracings could be due to (1) creating @tf.function repeatedly in a loop, (2) passing tensors with different shapes, (3) passing Python objects instead of tensors. For (1), please define your @tf.function outside of the loop. For (2), @tf.function has reduce_retracing=True option that can avoid unnecessary retracing. For (3), please refer to https://www.tensorflow.org/guide/function#controlling_retracing and https://www.tensorflow.org/api_docs/python/tf/function for  more details.\n",
      "1/1 [==============================] - 0s 48ms/step\n"
     ]
    },
    {
     "data": {
      "text/plain": [
       "array([[ 76.96753 ],\n",
       "       [ 81.98646 ],\n",
       "       [ 87.005394],\n",
       "       [ 92.02433 ],\n",
       "       [ 97.04326 ],\n",
       "       [102.062195],\n",
       "       [107.08113 ],\n",
       "       [112.10006 ],\n",
       "       [117.11899 ],\n",
       "       [122.13794 ]], dtype=float32)"
      ]
     },
     "execution_count": 48,
     "metadata": {},
     "output_type": "execute_result"
    }
   ],
   "source": [
    "# Make some predictions\n",
    "y_pred = model.predict(X_test)\n",
    "y_pred"
   ]
  },
  {
   "cell_type": "code",
   "execution_count": 49,
   "id": "2693f03d",
   "metadata": {},
   "outputs": [
    {
     "data": {
      "text/plain": [
       "<tf.Tensor: shape=(10,), dtype=int32, numpy=array([ 70,  74,  78,  82,  86,  90,  94,  98, 102, 106])>"
      ]
     },
     "execution_count": 49,
     "metadata": {},
     "output_type": "execute_result"
    }
   ],
   "source": [
    "# Looking at the content of y_test (the real value)\n",
    "y_test"
   ]
  },
  {
   "cell_type": "code",
   "execution_count": null,
   "id": "ceb2b008",
   "metadata": {},
   "outputs": [],
   "source": []
  },
  {
   "cell_type": "code",
   "execution_count": 50,
   "id": "eeba611f",
   "metadata": {},
   "outputs": [],
   "source": [
    "# Creating a plotting function\n",
    "def plot_predictions(train_data=X_train, train_labels=y_train,\n",
    "                    test_data=X_test, test_labels=y_test,\n",
    "                    predictions=y_pred):\n",
    "    \"\"\"\n",
    "        Plots training data, test data, and compares predictions to ground truth labels.\n",
    "    \"\"\"\n",
    "    plt.figure( figsize=(10,7) )\n",
    "\n",
    "    # Plot training data in blue \n",
    "    plt.scatter(train_data, train_labels, c=\"b\", label=\"Training data\")\n",
    "\n",
    "    # Plot test data in green\n",
    "    plt.scatter(test_data, test_labels, c=\"g\", label=\"Test data\")\n",
    "    \n",
    "    # Plot prediction data\n",
    "    plt.scatter(test_data,predictions,c=\"r\", label=\"Predictions\")\n",
    "\n",
    "    #Show a legend\n",
    "    plt.legend() "
   ]
  },
  {
   "cell_type": "code",
   "execution_count": 51,
   "id": "e17e0774",
   "metadata": {},
   "outputs": [
    {
     "data": {
      "image/png": "[encoded data removed]",
      "text/plain": [
       "<Figure size 720x504 with 1 Axes>"
      ]
     },
     "metadata": {
      "needs_background": "light"
     },
     "output_type": "display_data"
    }
   ],
   "source": [
    "plot_predictions()"
   ]
  },
  {
   "cell_type": "markdown",
   "id": "bf87ee45",
   "metadata": {},
   "source": [
    "Looking at the plots, the model appear to be good since the distance between test data and the predictions is small. But depending on the scale of the plot, that seemingly short distance can in fact represent a fairly large error.   \n",
    "So the way that can be figured out is by some evaluation metrics.\n"
   ]
  },
  {
   "cell_type": "markdown",
   "id": "cef52248",
   "metadata": {},
   "source": [
    "🛠️ **Exercise** : Try to improve the ploted model performance."
   ]
  },
  {
   "cell_type": "code",
   "execution_count": null,
   "id": "42f63d4e",
   "metadata": {},
   "outputs": [],
   "source": []
  },
  {
   "cell_type": "markdown",
   "id": "3465cb74",
   "metadata": {},
   "source": [
    "### Evaluation a model's predictions with regression evaluation metrics  \n",
    "  \n",
    "The best way to evaluate a model's predictions is by using evaluation metrics. Depending on the problem one is working on, there will be different evaluation metrics to evaluate a model's performance.\n",
    "   \n",
    "   \n",
    "Since the current work is a regression, three of the main metrics are :\n",
    "* **MAE** - Mean Absolute Error : \"On evareage, how wrong is each of the model's predictions ?\" . It is a great starter metric for any regression problem.\n",
    "* **MSE** - Mean Square Error : \"Square the average errors\" (take the errors from the model predictions, square them, and find the average). It is great to use it when larger errors are more significant than smaller errors.   \n",
    "* **Huber** : It is a combination of MSE and MAE; it's less sensitive to outliers than MSE."
   ]
  },
  {
   "cell_type": "code",
   "execution_count": 58,
   "id": "00c2f28d",
   "metadata": {},
   "outputs": [
    {
     "name": "stdout",
     "output_type": "stream",
     "text": [
      "1/1 [==============================] - 0s 119ms/step - loss: 11.5527 - mae: 11.5527\n"
     ]
    },
    {
     "data": {
      "text/plain": [
       "[11.552728652954102, 11.552728652954102]"
      ]
     },
     "execution_count": 58,
     "metadata": {},
     "output_type": "execute_result"
    }
   ],
   "source": [
    "# Evaluate the model on the test \n",
    "model.evaluate(X_test, y_test)"
   ]
  },
  {
   "cell_type": "markdown",
   "id": "777142f7",
   "metadata": {},
   "source": [
    "In the evaluation's result above, there are values for `loss` and `mae`. They came from the hyper-parameters (loss and metrics) provided when building the model."
   ]
  },
  {
   "cell_type": "markdown",
   "id": "9805df4d",
   "metadata": {},
   "source": [
    "#### Manually calculate the MAE (as an exercise)"
   ]
  },
  {
   "cell_type": "code",
   "execution_count": 59,
   "id": "5ec1db76",
   "metadata": {},
   "outputs": [
    {
     "data": {
      "text/plain": [
       "<tf.Tensor: shape=(10,), dtype=float32, numpy=\n",
       "array([13.019483, 10.805417, 10.      , 10.404866, 12.017303, 14.849756,\n",
       "       19.081131, 24.10006 , 29.118988, 34.13794 ], dtype=float32)>"
      ]
     },
     "execution_count": 59,
     "metadata": {},
     "output_type": "execute_result"
    }
   ],
   "source": [
    "mae = tf.metrics.mean_absolute_error(y_true = y_test, y_pred=y_pred)\n",
    "mae"
   ]
  },
  {
   "cell_type": "markdown",
   "id": "1cd1446f",
   "metadata": {},
   "source": [
    "The result above does not make sense, because the result should be scalar, not an array . Let us observe y_test and y_pred to understand what is going on in the data."
   ]
  },
  {
   "cell_type": "code",
   "execution_count": 60,
   "id": "75792e15",
   "metadata": {},
   "outputs": [
    {
     "data": {
      "text/plain": [
       "<tf.Tensor: shape=(10,), dtype=int32, numpy=array([ 70,  74,  78,  82,  86,  90,  94,  98, 102, 106])>"
      ]
     },
     "execution_count": 60,
     "metadata": {},
     "output_type": "execute_result"
    }
   ],
   "source": [
    "y_test"
   ]
  },
  {
   "cell_type": "code",
   "execution_count": 61,
   "id": "12019b8c",
   "metadata": {},
   "outputs": [
    {
     "data": {
      "text/plain": [
       "array([[ 76.96753 ],\n",
       "       [ 81.98646 ],\n",
       "       [ 87.005394],\n",
       "       [ 92.02433 ],\n",
       "       [ 97.04326 ],\n",
       "       [102.062195],\n",
       "       [107.08113 ],\n",
       "       [112.10006 ],\n",
       "       [117.11899 ],\n",
       "       [122.13794 ]], dtype=float32)"
      ]
     },
     "execution_count": 61,
     "metadata": {},
     "output_type": "execute_result"
    }
   ],
   "source": [
    "y_pred"
   ]
  },
  {
   "cell_type": "code",
   "execution_count": 62,
   "id": "af13faf2",
   "metadata": {},
   "outputs": [
    {
     "data": {
      "text/plain": [
       "(10, 1)"
      ]
     },
     "execution_count": 62,
     "metadata": {},
     "output_type": "execute_result"
    }
   ],
   "source": [
    "y_pred.shape"
   ]
  },
  {
   "cell_type": "markdown",
   "id": "12d65db9",
   "metadata": {},
   "source": [
    "y_pred has one more dimension than y_test, so we need to remove its last dimension in order to have the same dimension for the two of them."
   ]
  },
  {
   "cell_type": "code",
   "execution_count": 63,
   "id": "17da45da",
   "metadata": {},
   "outputs": [
    {
     "data": {
      "text/plain": [
       "<tf.Tensor: shape=(10,), dtype=float32, numpy=\n",
       "array([ 76.96753 ,  81.98646 ,  87.005394,  92.02433 ,  97.04326 ,\n",
       "       102.062195, 107.08113 , 112.10006 , 117.11899 , 122.13794 ],\n",
       "      dtype=float32)>"
      ]
     },
     "execution_count": 63,
     "metadata": {},
     "output_type": "execute_result"
    }
   ],
   "source": [
    "# remove the last dimension from y_pred\n",
    "tf.squeeze(y_pred)"
   ]
  },
  {
   "cell_type": "code",
   "execution_count": 64,
   "id": "1e73ed10",
   "metadata": {},
   "outputs": [
    {
     "data": {
      "text/plain": [
       "<tf.Tensor: shape=(), dtype=float32, numpy=11.552729>"
      ]
     },
     "execution_count": 64,
     "metadata": {},
     "output_type": "execute_result"
    }
   ],
   "source": [
    "mae = tf.metrics.mean_absolute_error(y_true=y_test, y_pred = tf.squeeze(y_pred))\n",
    "mae"
   ]
  },
  {
   "cell_type": "markdown",
   "id": "b0ad45e6",
   "metadata": {},
   "source": [
    "The MAE manually computed here is the same as the one computed automatically before."
   ]
  },
  {
   "cell_type": "markdown",
   "id": "3cf402e6",
   "metadata": {},
   "source": [
    "#### Manually calculate the MSE (as an exercise)"
   ]
  },
  {
   "cell_type": "code",
   "execution_count": 65,
   "id": "c90b3e84",
   "metadata": {},
   "outputs": [
    {
     "data": {
      "text/plain": [
       "<tf.Tensor: shape=(10,), dtype=float32, numpy=\n",
       "array([ 253.71542,  168.16269,  132.98923,  148.19522,  213.78052,\n",
       "        329.7453 ,  496.08954,  712.81287,  979.9154 , 1297.3989 ],\n",
       "      dtype=float32)>"
      ]
     },
     "execution_count": 65,
     "metadata": {},
     "output_type": "execute_result"
    }
   ],
   "source": [
    "mse = tf.metrics.mean_squared_error(y_true=y_test, y_pred=y_pred)\n",
    "mse"
   ]
  },
  {
   "cell_type": "markdown",
   "id": "422c2ed0",
   "metadata": {},
   "source": [
    "We have the same situation as when manually calculing MAE. We will use `tf.squeeze()` to solve the issue."
   ]
  },
  {
   "cell_type": "code",
   "execution_count": 66,
   "id": "98097d29",
   "metadata": {},
   "outputs": [
    {
     "data": {
      "text/plain": [
       "<tf.Tensor: shape=(), dtype=float32, numpy=142.0309>"
      ]
     },
     "execution_count": 66,
     "metadata": {},
     "output_type": "execute_result"
    }
   ],
   "source": [
    "mse = tf.metrics.mean_squared_error(y_true=y_test, y_pred= tf.squeeze(y_pred) )\n",
    "mse"
   ]
  },
  {
   "cell_type": "markdown",
   "id": "cc16b67b",
   "metadata": {},
   "source": [
    "MSE will typically be higher than MAE because, if we look at their formula, there is a square operation in MSE."
   ]
  },
  {
   "cell_type": "code",
   "execution_count": null,
   "id": "804b9b8b",
   "metadata": {},
   "outputs": [],
   "source": []
  },
  {
   "cell_type": "markdown",
   "id": "dcfe3cf7",
   "metadata": {},
   "source": [
    "#### Define a function for MAE and MSE\n",
    "It is so that the two of them can be used later"
   ]
  },
  {
   "cell_type": "code",
   "execution_count": 67,
   "id": "12fde13f",
   "metadata": {},
   "outputs": [],
   "source": [
    "def mae(y_true, y_pred):\n",
    "    return tf.metrics.mean_absolute_error(y_true=y_true, y_pred = y_pred)\n",
    "\n",
    "def mse(y_true, y_pred):\n",
    "    return tf.metrics.mean_squared_error(y_true=y_test, y_pred=y_pred)"
   ]
  },
  {
   "cell_type": "code",
   "execution_count": null,
   "id": "84618df1",
   "metadata": {},
   "outputs": [],
   "source": []
  },
  {
   "cell_type": "markdown",
   "id": "970c90c1",
   "metadata": {},
   "source": [
    "### Running experiments to improve a model\n",
    "\n",
    "So far :\n",
    "* some predictions where made with a trained model, \n",
    "* the predictions where compared to test data set, and the comparaison was visualized,\n",
    "* the predictions where where evaluated with regression evaluation metrics, such as MAE and MSE.\n",
    "\n",
    "The next question is : \"**How do we get the error values lower ?** (How do we minimize the difference between the model's predictions and the test labels)\". \n",
    "\n",
    "Remembering the workflow discussed before : `Build a model -> fit it -> evaluate it -> tweak it -> fit it -> tweak it -> ... `\n",
    "\n",
    "If the Machine Learning explorer's motto is `visualize, visualize, visualize`, in other words :\n",
    "* Visualizing our data\n",
    "* Visualizing our model\n",
    "* Visualizing our training\n",
    "* Visualizing our prediction\n",
    "\n",
    "Then, the Machine Learning practitioner's motto is `experiment, experiment, experiment, ...`. That is what we are going to do : try to run a few series of experiments to see if we can improve our model following the above mentioned workflow.\n",
    "\n",
    "Recalling some ways that we can improve our model :\n",
    "1. **Get more data** - get more examples for your model to train on (in other words, more opportunities to learn patterns/relationships between features and labels).\n",
    "1. **Make the model larger** (using a more complex model) -  this might come in the form of more layers, or more hidden units in each layer, or both.\n",
    "1. **Train for longer** - give the model more of a chance to find patterns in the data\n",
    "1. **Review how the model is compiled** - change the optimization function, or learning rate of the optimization function"
   ]
  },
  {
   "cell_type": "code",
   "execution_count": 52,
   "id": "5dab5076",
   "metadata": {},
   "outputs": [
    {
     "data": {
      "text/plain": [
       "(<tf.Tensor: shape=(40,), dtype=int32, numpy=\n",
       " array([-100,  -96,  -92,  -88,  -84,  -80,  -76,  -72,  -68,  -64,  -60,\n",
       "         -56,  -52,  -48,  -44,  -40,  -36,  -32,  -28,  -24,  -20,  -16,\n",
       "         -12,   -8,   -4,    0,    4,    8,   12,   16,   20,   24,   28,\n",
       "          32,   36,   40,   44,   48,   52,   56])>,\n",
       " <tf.Tensor: shape=(40,), dtype=int32, numpy=\n",
       " array([-90, -86, -82, -78, -74, -70, -66, -62, -58, -54, -50, -46, -42,\n",
       "        -38, -34, -30, -26, -22, -18, -14, -10,  -6,  -2,   2,   6,  10,\n",
       "         14,  18,  22,  26,  30,  34,  38,  42,  46,  50,  54,  58,  62,\n",
       "         66])>)"
      ]
     },
     "execution_count": 52,
     "metadata": {},
     "output_type": "execute_result"
    }
   ],
   "source": [
    "# Recalling our dataset\n",
    "X_train, y_train"
   ]
  },
  {
   "cell_type": "markdown",
   "id": "3676c1da",
   "metadata": {},
   "source": [
    "The question now is `Looking at our datas, how can we improve our model ?`. Let us review our options :   \n",
    "\n",
    "1. Get more data ? We can't really get more data unless we just artificially make our datasest bigger, so this option is ruled out.\n",
    "1. Make the model larger ? Yes we can\n",
    "1. Train for longer ? Yes, we can\n",
    "1. Review how the model is compiled ? Yes we can\n",
    "\n",
    "In regard for this, let's design 03 experiments that we could do: \n",
    "1. `model_1` - same as the original model, 1 layer, trained for 100 epochs.\n",
    "1. `model_2` - 2 layers, trained for 100 epochs.\n",
    "1. `model_3` - 2 layers, trained for 500 epochs.\n",
    "\n",
    "The mindset of a Machine Learning practitioner is to start with a baseline model, and then change one of the parameters for his next experiment, then do the same for the next experiment, and so on."
   ]
  },
  {
   "cell_type": "code",
   "execution_count": null,
   "id": "603a60ba",
   "metadata": {},
   "outputs": [],
   "source": []
  },
  {
   "cell_type": "markdown",
   "id": "3c6d23e7",
   "metadata": {},
   "source": [
    "**Creating model_1**: 1 layer, trained for 100 epochs"
   ]
  },
  {
   "cell_type": "code",
   "execution_count": 55,
   "id": "99dd78e1",
   "metadata": {},
   "outputs": [
    {
     "name": "stdout",
     "output_type": "stream",
     "text": [
      "Epoch 1/100\n",
      "2/2 [==============================] - 0s 2ms/step - loss: 26.6221 - mae: 26.6221\n",
      "Epoch 2/100\n",
      "2/2 [==============================] - 0s 2ms/step - loss: 8.5930 - mae: 8.5930\n",
      "Epoch 3/100\n",
      "2/2 [==============================] - 0s 2ms/step - loss: 10.8330 - mae: 10.8330\n",
      "Epoch 4/100\n",
      "2/2 [==============================] - 0s 2ms/step - loss: 11.2925 - mae: 11.2925\n",
      "Epoch 5/100\n",
      "2/2 [==============================] - 0s 3ms/step - loss: 12.5404 - mae: 12.5404\n",
      "Epoch 6/100\n",
      "2/2 [==============================] - 0s 2ms/step - loss: 9.6973 - mae: 9.6973\n",
      "Epoch 7/100\n",
      "2/2 [==============================] - 0s 3ms/step - loss: 8.7927 - mae: 8.7927\n",
      "Epoch 8/100\n",
      "2/2 [==============================] - 0s 4ms/step - loss: 9.0568 - mae: 9.0568\n",
      "Epoch 9/100\n",
      "2/2 [==============================] - 0s 2ms/step - loss: 19.3200 - mae: 19.3200\n",
      "Epoch 10/100\n",
      "2/2 [==============================] - 0s 2ms/step - loss: 10.4259 - mae: 10.4259\n",
      "Epoch 11/100\n",
      "2/2 [==============================] - 0s 3ms/step - loss: 8.5155 - mae: 8.5155\n",
      "Epoch 12/100\n",
      "2/2 [==============================] - 0s 2ms/step - loss: 10.9193 - mae: 10.9193\n",
      "Epoch 13/100\n",
      "2/2 [==============================] - 0s 2ms/step - loss: 7.5529 - mae: 7.5529\n",
      "Epoch 14/100\n",
      "2/2 [==============================] - 0s 3ms/step - loss: 9.9709 - mae: 9.9709\n",
      "Epoch 15/100\n",
      "2/2 [==============================] - 0s 4ms/step - loss: 9.3719 - mae: 9.3719\n",
      "Epoch 16/100\n",
      "2/2 [==============================] - 0s 3ms/step - loss: 8.5578 - mae: 8.5578\n",
      "Epoch 17/100\n",
      "2/2 [==============================] - 0s 4ms/step - loss: 13.6884 - mae: 13.6884\n",
      "Epoch 18/100\n",
      "2/2 [==============================] - 0s 2ms/step - loss: 11.5325 - mae: 11.5325\n",
      "Epoch 19/100\n",
      "2/2 [==============================] - 0s 2ms/step - loss: 17.8113 - mae: 17.8113\n",
      "Epoch 20/100\n",
      "2/2 [==============================] - 0s 3ms/step - loss: 14.9467 - mae: 14.9467\n",
      "Epoch 21/100\n",
      "2/2 [==============================] - 0s 2ms/step - loss: 10.8279 - mae: 10.8279\n",
      "Epoch 22/100\n",
      "2/2 [==============================] - 0s 4ms/step - loss: 8.5775 - mae: 8.5775\n",
      "Epoch 23/100\n",
      "2/2 [==============================] - 0s 2ms/step - loss: 9.7059 - mae: 9.7059\n",
      "Epoch 24/100\n",
      "2/2 [==============================] - 0s 2ms/step - loss: 10.9406 - mae: 10.9406\n",
      "Epoch 25/100\n",
      "2/2 [==============================] - 0s 3ms/step - loss: 9.1465 - mae: 9.1465\n",
      "Epoch 26/100\n",
      "2/2 [==============================] - 0s 2ms/step - loss: 13.1784 - mae: 13.1784\n",
      "Epoch 27/100\n",
      "2/2 [==============================] - 0s 2ms/step - loss: 10.6502 - mae: 10.6502\n",
      "Epoch 28/100\n",
      "2/2 [==============================] - 0s 2ms/step - loss: 12.8686 - mae: 12.8686\n",
      "Epoch 29/100\n",
      "2/2 [==============================] - 0s 2ms/step - loss: 9.4970 - mae: 9.4970\n",
      "Epoch 30/100\n",
      "2/2 [==============================] - 0s 2ms/step - loss: 16.3917 - mae: 16.3917\n",
      "Epoch 31/100\n",
      "2/2 [==============================] - 0s 2ms/step - loss: 23.5879 - mae: 23.5879\n",
      "Epoch 32/100\n",
      "2/2 [==============================] - 0s 2ms/step - loss: 7.5997 - mae: 7.5997\n",
      "Epoch 33/100\n",
      "2/2 [==============================] - 0s 2ms/step - loss: 9.2979 - mae: 9.2979\n",
      "Epoch 34/100\n",
      "2/2 [==============================] - 0s 2ms/step - loss: 13.6813 - mae: 13.6813\n",
      "Epoch 35/100\n",
      "2/2 [==============================] - 0s 2ms/step - loss: 11.1382 - mae: 11.1382\n",
      "Epoch 36/100\n",
      "2/2 [==============================] - 0s 2ms/step - loss: 13.3583 - mae: 13.3583\n",
      "Epoch 37/100\n",
      "2/2 [==============================] - 0s 2ms/step - loss: 9.4457 - mae: 9.4457\n",
      "Epoch 38/100\n",
      "2/2 [==============================] - 0s 1ms/step - loss: 10.0992 - mae: 10.0992\n",
      "Epoch 39/100\n",
      "2/2 [==============================] - 0s 4ms/step - loss: 10.1901 - mae: 10.1901\n",
      "Epoch 40/100\n",
      "2/2 [==============================] - 0s 2ms/step - loss: 10.9343 - mae: 10.9343\n",
      "Epoch 41/100\n",
      "2/2 [==============================] - 0s 1000us/step - loss: 7.9094 - mae: 7.9094\n",
      "Epoch 42/100\n",
      "2/2 [==============================] - 0s 3ms/step - loss: 10.5773 - mae: 10.5773\n",
      "Epoch 43/100\n",
      "2/2 [==============================] - 0s 2ms/step - loss: 7.1978 - mae: 7.1978\n",
      "Epoch 44/100\n",
      "2/2 [==============================] - 0s 2ms/step - loss: 7.9893 - mae: 7.9893\n",
      "Epoch 45/100\n",
      "2/2 [==============================] - 0s 3ms/step - loss: 9.7833 - mae: 9.7833\n",
      "Epoch 46/100\n",
      "2/2 [==============================] - 0s 2ms/step - loss: 8.8605 - mae: 8.8605\n",
      "Epoch 47/100\n",
      "2/2 [==============================] - 0s 2ms/step - loss: 7.5591 - mae: 7.5591\n",
      "Epoch 48/100\n",
      "2/2 [==============================] - 0s 3ms/step - loss: 8.5557 - mae: 8.5557\n",
      "Epoch 49/100\n",
      "2/2 [==============================] - 0s 1ms/step - loss: 9.9894 - mae: 9.9894\n",
      "Epoch 50/100\n",
      "2/2 [==============================] - 0s 2ms/step - loss: 9.0069 - mae: 9.0069\n",
      "Epoch 51/100\n",
      "2/2 [==============================] - 0s 3ms/step - loss: 10.6601 - mae: 10.6601\n",
      "Epoch 52/100\n",
      "2/2 [==============================] - 0s 1ms/step - loss: 15.2813 - mae: 15.2813\n",
      "Epoch 53/100\n",
      "2/2 [==============================] - 0s 2ms/step - loss: 14.3047 - mae: 14.3047\n",
      "Epoch 54/100\n",
      "2/2 [==============================] - 0s 2ms/step - loss: 21.5967 - mae: 21.5967\n",
      "Epoch 55/100\n",
      "2/2 [==============================] - 0s 2ms/step - loss: 15.9927 - mae: 15.9927\n",
      "Epoch 56/100\n",
      "2/2 [==============================] - 0s 2ms/step - loss: 10.2730 - mae: 10.2730\n",
      "Epoch 57/100\n",
      "2/2 [==============================] - 0s 2ms/step - loss: 9.7587 - mae: 9.7587\n",
      "Epoch 58/100\n",
      "2/2 [==============================] - 0s 2ms/step - loss: 9.0436 - mae: 9.0436\n",
      "Epoch 59/100\n",
      "2/2 [==============================] - 0s 2ms/step - loss: 8.2499 - mae: 8.2499\n",
      "Epoch 60/100\n",
      "2/2 [==============================] - 0s 2ms/step - loss: 9.3449 - mae: 9.3449\n",
      "Epoch 61/100\n",
      "2/2 [==============================] - 0s 2ms/step - loss: 11.1562 - mae: 11.1562\n",
      "Epoch 62/100\n",
      "2/2 [==============================] - 0s 4ms/step - loss: 12.0612 - mae: 12.0612\n",
      "Epoch 63/100\n",
      "2/2 [==============================] - 0s 2ms/step - loss: 7.2577 - mae: 7.2577\n",
      "Epoch 64/100\n",
      "2/2 [==============================] - 0s 1ms/step - loss: 12.4257 - mae: 12.4257\n",
      "Epoch 65/100\n",
      "2/2 [==============================] - 0s 3ms/step - loss: 10.4921 - mae: 10.4921\n",
      "Epoch 66/100\n",
      "2/2 [==============================] - 0s 2ms/step - loss: 15.5948 - mae: 15.5948\n",
      "Epoch 67/100\n",
      "2/2 [==============================] - 0s 2ms/step - loss: 9.9960 - mae: 9.9960\n",
      "Epoch 68/100\n",
      "2/2 [==============================] - 0s 3ms/step - loss: 8.7075 - mae: 8.7075\n",
      "Epoch 69/100\n",
      "2/2 [==============================] - 0s 2ms/step - loss: 13.4705 - mae: 13.4705\n",
      "Epoch 70/100\n",
      "2/2 [==============================] - 0s 2ms/step - loss: 7.4555 - mae: 7.4555\n",
      "Epoch 71/100\n",
      "2/2 [==============================] - 0s 3ms/step - loss: 12.2190 - mae: 12.2190\n",
      "Epoch 72/100\n",
      "2/2 [==============================] - 0s 2ms/step - loss: 8.5171 - mae: 8.5171\n",
      "Epoch 73/100\n",
      "2/2 [==============================] - 0s 3ms/step - loss: 7.0258 - mae: 7.0258\n",
      "Epoch 74/100\n",
      "2/2 [==============================] - 0s 2ms/step - loss: 9.9129 - mae: 9.9129\n",
      "Epoch 75/100\n",
      "2/2 [==============================] - 0s 2ms/step - loss: 9.9278 - mae: 9.9278\n",
      "Epoch 76/100\n",
      "2/2 [==============================] - 0s 2ms/step - loss: 10.0934 - mae: 10.0934\n",
      "Epoch 77/100\n",
      "2/2 [==============================] - 0s 1ms/step - loss: 12.9483 - mae: 12.9483\n",
      "Epoch 78/100\n",
      "2/2 [==============================] - 0s 2ms/step - loss: 11.1341 - mae: 11.1341\n",
      "Epoch 79/100\n",
      "2/2 [==============================] - 0s 2ms/step - loss: 14.6853 - mae: 14.6853\n",
      "Epoch 80/100\n",
      "2/2 [==============================] - 0s 2ms/step - loss: 8.9157 - mae: 8.9157\n",
      "Epoch 81/100\n",
      "2/2 [==============================] - 0s 2ms/step - loss: 10.7606 - mae: 10.7606\n",
      "Epoch 82/100\n",
      "2/2 [==============================] - 0s 2ms/step - loss: 8.3718 - mae: 8.3718\n",
      "Epoch 83/100\n",
      "2/2 [==============================] - 0s 3ms/step - loss: 9.2164 - mae: 9.2164\n",
      "Epoch 84/100\n",
      "2/2 [==============================] - 0s 3ms/step - loss: 8.9311 - mae: 8.9311\n",
      "Epoch 85/100\n",
      "2/2 [==============================] - 0s 2ms/step - loss: 13.2005 - mae: 13.2005\n",
      "Epoch 86/100\n",
      "2/2 [==============================] - 0s 2ms/step - loss: 13.6904 - mae: 13.6904\n",
      "Epoch 87/100\n",
      "2/2 [==============================] - 0s 2ms/step - loss: 13.1743 - mae: 13.1743\n",
      "Epoch 88/100\n"
     ]
    },
    {
     "name": "stdout",
     "output_type": "stream",
     "text": [
      "2/2 [==============================] - 0s 2ms/step - loss: 11.4986 - mae: 11.4986\n",
      "Epoch 89/100\n",
      "2/2 [==============================] - 0s 2ms/step - loss: 7.7893 - mae: 7.7893\n",
      "Epoch 90/100\n",
      "2/2 [==============================] - 0s 2ms/step - loss: 10.9124 - mae: 10.9124\n",
      "Epoch 91/100\n",
      "2/2 [==============================] - 0s 2ms/step - loss: 6.7365 - mae: 6.7365\n",
      "Epoch 92/100\n",
      "2/2 [==============================] - 0s 2ms/step - loss: 10.1048 - mae: 10.1048\n",
      "Epoch 93/100\n",
      "2/2 [==============================] - 0s 2ms/step - loss: 7.5981 - mae: 7.5981\n",
      "Epoch 94/100\n",
      "2/2 [==============================] - 0s 2ms/step - loss: 9.2301 - mae: 9.2301\n",
      "Epoch 95/100\n",
      "2/2 [==============================] - 0s 2ms/step - loss: 10.8221 - mae: 10.8221\n",
      "Epoch 96/100\n",
      "2/2 [==============================] - 0s 2ms/step - loss: 10.2790 - mae: 10.2790\n",
      "Epoch 97/100\n",
      "2/2 [==============================] - 0s 2ms/step - loss: 7.6710 - mae: 7.6710\n",
      "Epoch 98/100\n",
      "2/2 [==============================] - 0s 2ms/step - loss: 8.6053 - mae: 8.6053\n",
      "Epoch 99/100\n",
      "2/2 [==============================] - 0s 2ms/step - loss: 9.3840 - mae: 9.3840\n",
      "Epoch 100/100\n",
      "2/2 [==============================] - 0s 1000us/step - loss: 8.8289 - mae: 8.8289\n"
     ]
    }
   ],
   "source": [
    "# Set random seed\n",
    "tf.random.set_seed(42)\n",
    "\n",
    "# 1. Create the model\n",
    "model_1 = tf.keras.Sequential([\n",
    "    tf.keras.layers.Dense(1)\n",
    "])\n",
    "\n",
    "# 2. Compile the model\n",
    "model_1.compile(loss=tf.keras.losses.mae,\n",
    "               optimizer=tf.keras.optimizers.SGD(),\n",
    "               metrics=[\"mae\"])\n",
    "\n",
    "# 3. Fit the model\n",
    "model_1.fit(tf.expand_dims(X_train,axis=-1), y_train, epochs=100);"
   ]
  },
  {
   "cell_type": "code",
   "execution_count": 56,
   "id": "a4bc8d7f",
   "metadata": {},
   "outputs": [
    {
     "name": "stdout",
     "output_type": "stream",
     "text": [
      "WARNING:tensorflow:6 out of the last 7 calls to <function Model.make_predict_function.<locals>.predict_function at 0x0000029F7D3D13A0> triggered tf.function retracing. Tracing is expensive and the excessive number of tracings could be due to (1) creating @tf.function repeatedly in a loop, (2) passing tensors with different shapes, (3) passing Python objects instead of tensors. For (1), please define your @tf.function outside of the loop. For (2), @tf.function has reduce_retracing=True option that can avoid unnecessary retracing. For (3), please refer to https://www.tensorflow.org/guide/function#controlling_retracing and https://www.tensorflow.org/api_docs/python/tf/function for  more details.\n",
      "1/1 [==============================] - 0s 32ms/step\n"
     ]
    },
    {
     "data": {
      "image/png": "[encoded data removed]",
      "text/plain": [
       "<Figure size 720x504 with 1 Axes>"
      ]
     },
     "metadata": {
      "needs_background": "light"
     },
     "output_type": "display_data"
    }
   ],
   "source": [
    "# Make and plot predictions for model_1\n",
    "y_preds_1 = model_1.predict(tf.expand_dims(X_test,axis=-1))\n",
    "plot_predictions(train_data=X_train,train_labels=y_train,test_data=X_test, test_labels=y_test,predictions=y_preds_1)"
   ]
  },
  {
   "cell_type": "code",
   "execution_count": 69,
   "id": "3ca03c4b",
   "metadata": {},
   "outputs": [
    {
     "data": {
      "text/plain": [
       "(<tf.Tensor: shape=(), dtype=float32, numpy=8.681193>,\n",
       " <tf.Tensor: shape=(), dtype=float32, numpy=81.90356>)"
      ]
     },
     "execution_count": 69,
     "metadata": {},
     "output_type": "execute_result"
    }
   ],
   "source": [
    "# Calculate model_1 evaluation metrics\n",
    "mae_1 = mae(y_test, tf.squeeze(y_preds_1))\n",
    "mse_1 = mse(y_test, tf.squeeze(y_preds_1))\n",
    "mae_1, mse_1"
   ]
  },
  {
   "cell_type": "code",
   "execution_count": null,
   "id": "9a1be0e4",
   "metadata": {},
   "outputs": [],
   "source": []
  },
  {
   "cell_type": "markdown",
   "id": "a70ad7e6",
   "metadata": {},
   "source": [
    "**Creating model_2**: 2 dense layers, trained for 100 epochs"
   ]
  },
  {
   "cell_type": "code",
   "execution_count": null,
   "id": "cbb34ae4",
   "metadata": {},
   "outputs": [],
   "source": []
  }
 ],
 "metadata": {
  "kernelspec": {
   "display_name": "Python 3",
   "language": "python",
   "name": "python3"
  },
  "language_info": {
   "codemirror_mode": {
    "name": "ipython",
    "version": 3
   },
   "file_extension": ".py",
   "mimetype": "text/x-python",
   "name": "python",
   "nbconvert_exporter": "python",
   "pygments_lexer": "ipython3",
   "version": "3.8.8"
  }
 },
 "nbformat": 4,
 "nbformat_minor": 5
}
