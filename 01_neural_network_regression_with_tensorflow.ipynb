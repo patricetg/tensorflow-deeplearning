{
 "cells": [
  {
   "cell_type": "code",
   "execution_count": null,
   "id": "d1d332c5",
   "metadata": {},
   "outputs": [],
   "source": []
  },
  {
   "cell_type": "markdown",
   "id": "ae1f3f01",
   "metadata": {},
   "source": [
    "# Introduction to Regression with Neural Networks in TensorFlow\n",
    "\n",
    "There are many definitions for a regression problem, but to make it simple : predicting a continuous (numerical) variable based on some other combination of variables."
   ]
  },
  {
   "cell_type": "code",
   "execution_count": 1,
   "id": "3ebcab60",
   "metadata": {},
   "outputs": [
    {
     "name": "stdout",
     "output_type": "stream",
     "text": [
      "2.10.0\n"
     ]
    }
   ],
   "source": [
    "# Import TensorFlow\n",
    "import tensorflow as tf\n",
    "print(tf.__version__)"
   ]
  },
  {
   "cell_type": "code",
   "execution_count": 2,
   "id": "46175302",
   "metadata": {},
   "outputs": [],
   "source": [
    "import numpy as np\n",
    "import matplotlib.pyplot as plt"
   ]
  },
  {
   "cell_type": "code",
   "execution_count": 3,
   "id": "b73583b4",
   "metadata": {},
   "outputs": [],
   "source": [
    "from tensorflow.keras.utils import plot_model"
   ]
  },
  {
   "cell_type": "markdown",
   "id": "5b304915",
   "metadata": {},
   "source": [
    "Note : in order to use plot_model, one must install pydot (`pip install pydot`) and install graphviz (see instructions at https://graphviz.gitlab.io/download/) for plot_model to work."
   ]
  },
  {
   "cell_type": "code",
   "execution_count": null,
   "id": "99283640",
   "metadata": {},
   "outputs": [],
   "source": []
  },
  {
   "cell_type": "markdown",
   "id": "3ea9cdd1",
   "metadata": {},
   "source": [
    "### Creating data to view and fit"
   ]
  },
  {
   "cell_type": "code",
   "execution_count": 4,
   "id": "dc6c9d96",
   "metadata": {},
   "outputs": [
    {
     "data": {
      "text/plain": [
       "<matplotlib.collections.PathCollection at 0x1d9696a8ca0>"
      ]
     },
     "execution_count": 4,
     "metadata": {},
     "output_type": "execute_result"
    },
    {
     "data": {
      "image/png": "[encoded data removed]",
      "text/plain": [
       "<Figure size 432x288 with 1 Axes>"
      ]
     },
     "metadata": {
      "needs_background": "light"
     },
     "output_type": "display_data"
    }
   ],
   "source": [
    "# Create features\n",
    "X = np.array([-7., -4, -1, 2, 5, 8, 11, 14])\n",
    "\n",
    "# Create labels\n",
    "y = np.array([3., 6, 9, 12, 15, 18, 21, 24])\n",
    "\n",
    "# Visualize it\n",
    "plt.scatter(X,y)"
   ]
  },
  {
   "cell_type": "code",
   "execution_count": 5,
   "id": "2e244a47",
   "metadata": {},
   "outputs": [
    {
     "data": {
      "text/plain": [
       "array([ 3.,  6.,  9., 12., 15., 18., 21., 24.])"
      ]
     },
     "execution_count": 5,
     "metadata": {},
     "output_type": "execute_result"
    }
   ],
   "source": [
    "X+10"
   ]
  },
  {
   "cell_type": "code",
   "execution_count": 6,
   "id": "fb87b2bc",
   "metadata": {},
   "outputs": [
    {
     "data": {
      "text/plain": [
       "array([ True,  True,  True,  True,  True,  True,  True,  True])"
      ]
     },
     "execution_count": 6,
     "metadata": {},
     "output_type": "execute_result"
    }
   ],
   "source": [
    "y == X+10"
   ]
  },
  {
   "cell_type": "code",
   "execution_count": 7,
   "id": "e18c377b",
   "metadata": {},
   "outputs": [
    {
     "data": {
      "text/plain": [
       "(TensorShape([8]), TensorShape([8]))"
      ]
     },
     "execution_count": 7,
     "metadata": {},
     "output_type": "execute_result"
    }
   ],
   "source": [
    "# Turning the NumPy arrays into tensors\n",
    "X = tf.constant(X)\n",
    "y = tf.constant(y)\n",
    "X.shape, y.shape"
   ]
  },
  {
   "cell_type": "code",
   "execution_count": 8,
   "id": "f4485d20",
   "metadata": {},
   "outputs": [
    {
     "data": {
      "text/plain": [
       "<tf.Tensor: shape=(8,), dtype=float64, numpy=array([-7., -4., -1.,  2.,  5.,  8., 11., 14.])>"
      ]
     },
     "execution_count": 8,
     "metadata": {},
     "output_type": "execute_result"
    }
   ],
   "source": [
    "X"
   ]
  },
  {
   "cell_type": "code",
   "execution_count": 9,
   "id": "5e0fe4a9",
   "metadata": {},
   "outputs": [
    {
     "data": {
      "text/plain": [
       "<tf.Tensor: shape=(8, 1), dtype=float64, numpy=\n",
       "array([[-7.],\n",
       "       [-4.],\n",
       "       [-1.],\n",
       "       [ 2.],\n",
       "       [ 5.],\n",
       "       [ 8.],\n",
       "       [11.],\n",
       "       [14.]])>"
      ]
     },
     "execution_count": 9,
     "metadata": {},
     "output_type": "execute_result"
    }
   ],
   "source": [
    "# Expand the dimension of a tensor : https://www.geeksforgeeks.org/python-tensorflow-expand_dims/\n",
    "tf.expand_dims(X, axis=-1)"
   ]
  },
  {
   "cell_type": "code",
   "execution_count": null,
   "id": "f5304102",
   "metadata": {},
   "outputs": [],
   "source": []
  },
  {
   "cell_type": "markdown",
   "id": "612e394c",
   "metadata": {},
   "source": [
    "### Steps in modeling in TensorFlow\n",
    "\n",
    "1. **Creating the model** - define the input and output layers, as well as the hidden layers of a deep learning model.\n",
    "2. **Compiling the model** - define the loss function (the function which will tells our model how far its from performing well), the optimizer (tells the model how to update its internal patterns to better its predictions) and the evaluation metrics (human interpretable values for how well the model is doing).\n",
    "3. **Fitting the model** - letting the model try to find patterns between features and labels.\n",
    "4. **Evaluation** - Evaluate the model on the test data (in order to know how reliable are the model's predictions ?)\n",
    "\n",
    "\n",
    "In TensorFlow, there are two main way of creating a model :\n",
    "* Sequential API\n",
    "* Functional API"
   ]
  },
  {
   "cell_type": "code",
   "execution_count": 10,
   "id": "6f72d001",
   "metadata": {},
   "outputs": [
    {
     "name": "stdout",
     "output_type": "stream",
     "text": [
      "Epoch 1/5\n",
      "1/1 [==============================] - 1s 586ms/step - loss: 9.9794 - mae: 9.9794\n",
      "Epoch 2/5\n",
      "1/1 [==============================] - 0s 5ms/step - loss: 9.8469 - mae: 9.8469\n",
      "Epoch 3/5\n",
      "1/1 [==============================] - 0s 3ms/step - loss: 9.7144 - mae: 9.7144\n",
      "Epoch 4/5\n",
      "1/1 [==============================] - 0s 4ms/step - loss: 9.5819 - mae: 9.5819\n",
      "Epoch 5/5\n",
      "1/1 [==============================] - 0s 6ms/step - loss: 9.4494 - mae: 9.4494\n"
     ]
    },
    {
     "data": {
      "text/plain": [
       "<keras.callbacks.History at 0x1d9699d5a00>"
      ]
     },
     "execution_count": 10,
     "metadata": {},
     "output_type": "execute_result"
    }
   ],
   "source": [
    "# Set a random seed (in order to have some reproducibility)\n",
    "tf.random.set_seed(42)\n",
    "\n",
    "# 1. Create a model using the Sequential API\n",
    "model = tf.keras.Sequential([\n",
    "    tf.keras.layers.Dense(1)\n",
    "])\n",
    "\n",
    "# 2. Compile the model\n",
    "model.compile(loss=tf.keras.losses.mae, # MAE : Mean Absolute Error\n",
    "              optimizer=tf.keras.optimizers.SGD(), # SGD : Stochastic Gradient Descent\n",
    "              metrics=[\"mae\"]\n",
    "             )\n",
    "\n",
    "# 3. Fit the model \n",
    "model.fit(tf.expand_dims(X, axis=-1),y, epochs=5)\n"
   ]
  },
  {
   "cell_type": "markdown",
   "id": "2f2af8b2",
   "metadata": {},
   "source": [
    "**Note**  \n",
    "A lot of function in TensorFlow, if they have a shortcut name (e.g. mae or SGD), can be replaced by a string variable to define the fact it is wished to used that specific function. For e.g., the step 2 in the above cell( Compile the model), can also be written as such : \n",
    "\n",
    "model.compile(loss=\"mae\",  \n",
    "              optimizer=\"sgd\",  \n",
    "              metrics=[\"mae\"]  \n",
    "             )"
   ]
  },
  {
   "cell_type": "code",
   "execution_count": 11,
   "id": "9949ba02",
   "metadata": {},
   "outputs": [
    {
     "data": {
      "text/plain": [
       "(<tf.Tensor: shape=(8,), dtype=float64, numpy=array([-7., -4., -1.,  2.,  5.,  8., 11., 14.])>,\n",
       " <tf.Tensor: shape=(8,), dtype=float64, numpy=array([ 3.,  6.,  9., 12., 15., 18., 21., 24.])>)"
      ]
     },
     "execution_count": 11,
     "metadata": {},
     "output_type": "execute_result"
    }
   ],
   "source": [
    "# Check out X and y\n",
    "X, y"
   ]
  },
  {
   "cell_type": "code",
   "execution_count": 12,
   "id": "d35d1023",
   "metadata": {},
   "outputs": [
    {
     "name": "stdout",
     "output_type": "stream",
     "text": [
      "1/1 [==============================] - 0s 187ms/step\n"
     ]
    },
    {
     "data": {
      "text/plain": [
       "array([[20.125256]], dtype=float32)"
      ]
     },
     "execution_count": 12,
     "metadata": {},
     "output_type": "execute_result"
    }
   ],
   "source": [
    "# Trying to make a prediction using our model\n",
    "model.predict([17.])"
   ]
  },
  {
   "cell_type": "markdown",
   "id": "9eefcc9e",
   "metadata": {},
   "source": [
    "The predicted value (y) should be 27 when X is 17. But we got -13.89, which is pretty far off. This is no surprising because the current MAE of our model is 17.3050, which means : on average, our model predict something that is 17.3050 points off where is should be (MAE)."
   ]
  },
  {
   "cell_type": "code",
   "execution_count": 13,
   "id": "27107469",
   "metadata": {},
   "outputs": [
    {
     "name": "stdout",
     "output_type": "stream",
     "text": [
      "1/1 [==============================] - 0s 78ms/step\n"
     ]
    },
    {
     "data": {
      "text/plain": [
       "array([[20.125256]], dtype=float32)"
      ]
     },
     "execution_count": 13,
     "metadata": {},
     "output_type": "execute_result"
    }
   ],
   "source": [
    "y_pred = model.predict([17.])\n",
    "y_pred"
   ]
  },
  {
   "cell_type": "code",
   "execution_count": 14,
   "id": "65c6bb1b",
   "metadata": {},
   "outputs": [
    {
     "data": {
      "text/plain": [
       "array([[37.430256]], dtype=float32)"
      ]
     },
     "execution_count": 14,
     "metadata": {},
     "output_type": "execute_result"
    }
   ],
   "source": [
    "y_pred + 17.3050"
   ]
  },
  {
   "cell_type": "markdown",
   "id": "a759cf25",
   "metadata": {},
   "source": [
    "The value is still off, our model is performing poorly.   \n",
    "Now, we need to improve our model."
   ]
  },
  {
   "cell_type": "code",
   "execution_count": null,
   "id": "7eecc354",
   "metadata": {},
   "outputs": [],
   "source": []
  },
  {
   "cell_type": "markdown",
   "id": "f47b7fed",
   "metadata": {},
   "source": [
    "### Improving our model\n",
    "\n",
    "We can improve our model by altering the steps we took to create a model.  \n",
    "\n",
    "1. **Creating a model** - Here, we might :\n",
    "* add more layers, \n",
    "* increase the number of hidden units (also called neurons) within each of th hidden layers, \n",
    "* change the activation function of each layer\n",
    "\n",
    "2. **Compiling the model** - Here, we might :\n",
    "* change the optimization function, or perhaps ,\n",
    "* or perhaps changes the **learning rate** of the optimization funciton\n",
    "\n",
    "3. **Fitting the model** - Here, we might :\n",
    "* fit the model for more epochs (make it training for longer)\n",
    "* fit the model on more data (give the model more examples to learn from)"
   ]
  },
  {
   "cell_type": "code",
   "execution_count": 15,
   "id": "0900b32c",
   "metadata": {},
   "outputs": [
    {
     "name": "stdout",
     "output_type": "stream",
     "text": [
      "Epoch 1/100\n",
      "1/1 [==============================] - 1s 619ms/step - loss: 14.6298 - mae: 14.6298\n",
      "Epoch 2/100\n",
      "1/1 [==============================] - 0s 4ms/step - loss: 14.2109 - mae: 14.2109\n",
      "Epoch 3/100\n",
      "1/1 [==============================] - 0s 3ms/step - loss: 13.8004 - mae: 13.8004\n",
      "Epoch 4/100\n",
      "1/1 [==============================] - 0s 6ms/step - loss: 13.3944 - mae: 13.3944\n",
      "Epoch 5/100\n",
      "1/1 [==============================] - 0s 7ms/step - loss: 12.9895 - mae: 12.9895\n",
      "Epoch 6/100\n",
      "1/1 [==============================] - 0s 5ms/step - loss: 12.5863 - mae: 12.5863\n",
      "Epoch 7/100\n",
      "1/1 [==============================] - 0s 4ms/step - loss: 12.1806 - mae: 12.1806\n",
      "Epoch 8/100\n",
      "1/1 [==============================] - 0s 6ms/step - loss: 11.7616 - mae: 11.7616\n",
      "Epoch 9/100\n",
      "1/1 [==============================] - 0s 6ms/step - loss: 11.3298 - mae: 11.3298\n",
      "Epoch 10/100\n",
      "1/1 [==============================] - 0s 4ms/step - loss: 10.8819 - mae: 10.8819\n",
      "Epoch 11/100\n",
      "1/1 [==============================] - 0s 4ms/step - loss: 10.4162 - mae: 10.4162\n",
      "Epoch 12/100\n",
      "1/1 [==============================] - 0s 5ms/step - loss: 9.9246 - mae: 9.9246\n",
      "Epoch 13/100\n",
      "1/1 [==============================] - 0s 4ms/step - loss: 9.4037 - mae: 9.4037\n",
      "Epoch 14/100\n",
      "1/1 [==============================] - 0s 6ms/step - loss: 8.8582 - mae: 8.8582\n",
      "Epoch 15/100\n",
      "1/1 [==============================] - 0s 4ms/step - loss: 8.2726 - mae: 8.2726\n",
      "Epoch 16/100\n",
      "1/1 [==============================] - 0s 5ms/step - loss: 7.6452 - mae: 7.6452\n",
      "Epoch 17/100\n",
      "1/1 [==============================] - 0s 5ms/step - loss: 6.9680 - mae: 6.9680\n",
      "Epoch 18/100\n",
      "1/1 [==============================] - 0s 4ms/step - loss: 6.2382 - mae: 6.2382\n",
      "Epoch 19/100\n",
      "1/1 [==============================] - 0s 8ms/step - loss: 5.5010 - mae: 5.5010\n",
      "Epoch 20/100\n",
      "1/1 [==============================] - 0s 9ms/step - loss: 4.6963 - mae: 4.6963\n",
      "Epoch 21/100\n",
      "1/1 [==============================] - 0s 6ms/step - loss: 4.0583 - mae: 4.0583\n",
      "Epoch 22/100\n",
      "1/1 [==============================] - 0s 5ms/step - loss: 3.9669 - mae: 3.9669\n",
      "Epoch 23/100\n",
      "1/1 [==============================] - 0s 7ms/step - loss: 3.8729 - mae: 3.8729\n",
      "Epoch 24/100\n",
      "1/1 [==============================] - 0s 5ms/step - loss: 3.9365 - mae: 3.9365\n",
      "Epoch 25/100\n",
      "1/1 [==============================] - 0s 5ms/step - loss: 3.8722 - mae: 3.8722\n",
      "Epoch 26/100\n",
      "1/1 [==============================] - 0s 5ms/step - loss: 3.9201 - mae: 3.9201\n",
      "Epoch 27/100\n",
      "1/1 [==============================] - 0s 7ms/step - loss: 3.8867 - mae: 3.8867\n",
      "Epoch 28/100\n",
      "1/1 [==============================] - 0s 4ms/step - loss: 3.9009 - mae: 3.9009\n",
      "Epoch 29/100\n",
      "1/1 [==============================] - 0s 4ms/step - loss: 3.8932 - mae: 3.8932\n",
      "Epoch 30/100\n",
      "1/1 [==============================] - 0s 6ms/step - loss: 3.8760 - mae: 3.8760\n",
      "Epoch 31/100\n",
      "1/1 [==============================] - 0s 5ms/step - loss: 3.8999 - mae: 3.8999\n",
      "Epoch 32/100\n",
      "1/1 [==============================] - 0s 5ms/step - loss: 3.8511 - mae: 3.8511\n",
      "Epoch 33/100\n",
      "1/1 [==============================] - 0s 4ms/step - loss: 3.9067 - mae: 3.9067\n",
      "Epoch 34/100\n",
      "1/1 [==============================] - 0s 5ms/step - loss: 3.8428 - mae: 3.8428\n",
      "Epoch 35/100\n",
      "1/1 [==============================] - 0s 5ms/step - loss: 3.9037 - mae: 3.9037\n",
      "Epoch 36/100\n",
      "1/1 [==============================] - 0s 6ms/step - loss: 3.8574 - mae: 3.8574\n",
      "Epoch 37/100\n",
      "1/1 [==============================] - 0s 5ms/step - loss: 3.8783 - mae: 3.8783\n",
      "Epoch 38/100\n",
      "1/1 [==============================] - 0s 4ms/step - loss: 3.8642 - mae: 3.8642\n",
      "Epoch 39/100\n",
      "1/1 [==============================] - 0s 4ms/step - loss: 3.8532 - mae: 3.8532\n",
      "Epoch 40/100\n",
      "1/1 [==============================] - 0s 7ms/step - loss: 3.8710 - mae: 3.8710\n",
      "Epoch 41/100\n",
      "1/1 [==============================] - 0s 4ms/step - loss: 3.8280 - mae: 3.8280\n",
      "Epoch 42/100\n",
      "1/1 [==============================] - 0s 6ms/step - loss: 3.8780 - mae: 3.8780\n",
      "Epoch 43/100\n",
      "1/1 [==============================] - 0s 5ms/step - loss: 3.8202 - mae: 3.8202\n",
      "Epoch 44/100\n",
      "1/1 [==============================] - 0s 6ms/step - loss: 3.8796 - mae: 3.8796\n",
      "Epoch 45/100\n",
      "1/1 [==============================] - 0s 6ms/step - loss: 3.8293 - mae: 3.8293\n",
      "Epoch 46/100\n",
      "1/1 [==============================] - 0s 9ms/step - loss: 3.8544 - mae: 3.8544\n",
      "Epoch 47/100\n",
      "1/1 [==============================] - 0s 6ms/step - loss: 3.8363 - mae: 3.8363\n",
      "Epoch 48/100\n",
      "1/1 [==============================] - 0s 10ms/step - loss: 3.8291 - mae: 3.8291\n",
      "Epoch 49/100\n",
      "1/1 [==============================] - 0s 6ms/step - loss: 3.8433 - mae: 3.8433\n",
      "Epoch 50/100\n",
      "1/1 [==============================] - 0s 5ms/step - loss: 3.8036 - mae: 3.8036\n",
      "Epoch 51/100\n",
      "1/1 [==============================] - 0s 5ms/step - loss: 3.8539 - mae: 3.8539\n",
      "Epoch 52/100\n",
      "1/1 [==============================] - 0s 7ms/step - loss: 3.7953 - mae: 3.7953\n",
      "Epoch 53/100\n",
      "1/1 [==============================] - 0s 4ms/step - loss: 3.8548 - mae: 3.8548\n",
      "Epoch 54/100\n",
      "1/1 [==============================] - 0s 7ms/step - loss: 3.8023 - mae: 3.8023\n",
      "Epoch 55/100\n",
      "1/1 [==============================] - 0s 17ms/step - loss: 3.8293 - mae: 3.8293\n",
      "Epoch 56/100\n",
      "1/1 [==============================] - 0s 8ms/step - loss: 3.8095 - mae: 3.8095\n",
      "Epoch 57/100\n",
      "1/1 [==============================] - 0s 5ms/step - loss: 3.8037 - mae: 3.8037\n",
      "Epoch 58/100\n",
      "1/1 [==============================] - 0s 8ms/step - loss: 3.8167 - mae: 3.8167\n",
      "Epoch 59/100\n",
      "1/1 [==============================] - 0s 10ms/step - loss: 3.7796 - mae: 3.7796\n",
      "Epoch 60/100\n",
      "1/1 [==============================] - 0s 6ms/step - loss: 3.8321 - mae: 3.8321\n",
      "Epoch 61/100\n",
      "1/1 [==============================] - 0s 5ms/step - loss: 3.7692 - mae: 3.7692\n",
      "Epoch 62/100\n",
      "1/1 [==============================] - 0s 5ms/step - loss: 3.8286 - mae: 3.8286\n",
      "Epoch 63/100\n",
      "1/1 [==============================] - 0s 6ms/step - loss: 3.7764 - mae: 3.7764\n",
      "Epoch 64/100\n",
      "1/1 [==============================] - 0s 6ms/step - loss: 3.8029 - mae: 3.8029\n",
      "Epoch 65/100\n",
      "1/1 [==============================] - 0s 5ms/step - loss: 3.7838 - mae: 3.7838\n",
      "Epoch 66/100\n",
      "1/1 [==============================] - 0s 5ms/step - loss: 3.7770 - mae: 3.7770\n",
      "Epoch 67/100\n",
      "1/1 [==============================] - 0s 5ms/step - loss: 3.7912 - mae: 3.7912\n",
      "Epoch 68/100\n",
      "1/1 [==============================] - 0s 5ms/step - loss: 3.7579 - mae: 3.7579\n",
      "Epoch 69/100\n",
      "1/1 [==============================] - 0s 5ms/step - loss: 3.8067 - mae: 3.8067\n",
      "Epoch 70/100\n",
      "1/1 [==============================] - 0s 5ms/step - loss: 3.7442 - mae: 3.7442\n",
      "Epoch 71/100\n",
      "1/1 [==============================] - 0s 5ms/step - loss: 3.8012 - mae: 3.8012\n",
      "Epoch 72/100\n",
      "1/1 [==============================] - 0s 5ms/step - loss: 3.7516 - mae: 3.7516\n",
      "Epoch 73/100\n",
      "1/1 [==============================] - 0s 5ms/step - loss: 3.7752 - mae: 3.7752\n",
      "Epoch 74/100\n",
      "1/1 [==============================] - 0s 5ms/step - loss: 3.7591 - mae: 3.7591\n",
      "Epoch 75/100\n",
      "1/1 [==============================] - 0s 4ms/step - loss: 3.7490 - mae: 3.7490\n",
      "Epoch 76/100\n",
      "1/1 [==============================] - 0s 4ms/step - loss: 3.7711 - mae: 3.7711\n",
      "Epoch 77/100\n",
      "1/1 [==============================] - 0s 5ms/step - loss: 3.7299 - mae: 3.7299\n",
      "Epoch 78/100\n",
      "1/1 [==============================] - 0s 11ms/step - loss: 3.7824 - mae: 3.7824\n",
      "Epoch 79/100\n",
      "1/1 [==============================] - 0s 27ms/step - loss: 3.7201 - mae: 3.7201\n",
      "Epoch 80/100\n",
      "1/1 [==============================] - 0s 6ms/step - loss: 3.7725 - mae: 3.7725\n",
      "Epoch 81/100\n",
      "1/1 [==============================] - 0s 10ms/step - loss: 3.7278 - mae: 3.7278\n",
      "Epoch 82/100\n",
      "1/1 [==============================] - 0s 5ms/step - loss: 3.7462 - mae: 3.7462\n",
      "Epoch 83/100\n",
      "1/1 [==============================] - 0s 5ms/step - loss: 3.7355 - mae: 3.7355\n",
      "Epoch 84/100\n",
      "1/1 [==============================] - 0s 5ms/step - loss: 3.7219 - mae: 3.7219\n",
      "Epoch 85/100\n",
      "1/1 [==============================] - 0s 4ms/step - loss: 3.7513 - mae: 3.7513\n",
      "Epoch 86/100\n",
      "1/1 [==============================] - 0s 5ms/step - loss: 3.7003 - mae: 3.7003\n",
      "Epoch 87/100\n",
      "1/1 [==============================] - 0s 4ms/step - loss: 3.7592 - mae: 3.7592\n",
      "Epoch 88/100\n"
     ]
    },
    {
     "name": "stdout",
     "output_type": "stream",
     "text": [
      "1/1 [==============================] - 0s 4ms/step - loss: 3.6971 - mae: 3.6971\n",
      "Epoch 89/100\n",
      "1/1 [==============================] - 0s 5ms/step - loss: 3.7425 - mae: 3.7425\n",
      "Epoch 90/100\n",
      "1/1 [==============================] - 0s 5ms/step - loss: 3.7050 - mae: 3.7050\n",
      "Epoch 91/100\n",
      "1/1 [==============================] - 0s 6ms/step - loss: 3.7159 - mae: 3.7159\n",
      "Epoch 92/100\n",
      "1/1 [==============================] - 0s 5ms/step - loss: 3.7129 - mae: 3.7129\n",
      "Epoch 93/100\n",
      "1/1 [==============================] - 0s 5ms/step - loss: 3.6962 - mae: 3.6962\n",
      "Epoch 94/100\n",
      "1/1 [==============================] - 0s 4ms/step - loss: 3.7288 - mae: 3.7288\n",
      "Epoch 95/100\n",
      "1/1 [==============================] - 0s 7ms/step - loss: 3.6693 - mae: 3.6693\n",
      "Epoch 96/100\n",
      "1/1 [==============================] - 0s 4ms/step - loss: 3.7370 - mae: 3.7370\n",
      "Epoch 97/100\n",
      "1/1 [==============================] - 0s 5ms/step - loss: 3.6751 - mae: 3.6751\n",
      "Epoch 98/100\n",
      "1/1 [==============================] - 0s 4ms/step - loss: 3.7112 - mae: 3.7112\n",
      "Epoch 99/100\n",
      "1/1 [==============================] - 0s 5ms/step - loss: 3.6831 - mae: 3.6831\n",
      "Epoch 100/100\n",
      "1/1 [==============================] - 0s 5ms/step - loss: 3.6842 - mae: 3.6842\n"
     ]
    },
    {
     "data": {
      "text/plain": [
       "<keras.callbacks.History at 0x1d96add3700>"
      ]
     },
     "execution_count": 15,
     "metadata": {},
     "output_type": "execute_result"
    }
   ],
   "source": [
    "# 1st experiment : add a hidden layer, and more epochs, as an improvement to the model\n",
    "\n",
    "# Set a random seed (in order to have some reproducibility)\n",
    "tf.random.set_seed(42)\n",
    "\n",
    "# 1. Create a model using the Sequential API\n",
    "model = tf.keras.Sequential([\n",
    "    \n",
    "    # Adding more hidden layers, more neurons, and activation function \n",
    "    tf.keras.layers.Dense(100, activation=\"relu\"),\n",
    "    \n",
    "    tf.keras.layers.Dense(1)\n",
    "])\n",
    "\n",
    "# 2. Compile the model\n",
    "model.compile(loss=tf.keras.losses.mae, # MAE : Mean Absolute Error\n",
    "              optimizer=tf.keras.optimizers.SGD(),\n",
    "              metrics=[\"mae\"]\n",
    "             )\n",
    "\n",
    "# 3. Fit the model \n",
    "model.fit(tf.expand_dims(X, axis=-1),y, epochs=100) # Increasing the number of epochs\n"
   ]
  },
  {
   "cell_type": "markdown",
   "id": "ac7a663c",
   "metadata": {},
   "source": [
    "The 1st experiment has resulted in a good improvement of the model"
   ]
  },
  {
   "cell_type": "code",
   "execution_count": 16,
   "id": "debaf8ee",
   "metadata": {},
   "outputs": [
    {
     "name": "stdout",
     "output_type": "stream",
     "text": [
      "1/1 [==============================] - 0s 130ms/step\n"
     ]
    },
    {
     "data": {
      "text/plain": [
       "array([[32.548733]], dtype=float32)"
      ]
     },
     "execution_count": 16,
     "metadata": {},
     "output_type": "execute_result"
    }
   ],
   "source": [
    "# Check how the model's prediction has improved...\n",
    "model.predict([17.])"
   ]
  },
  {
   "cell_type": "code",
   "execution_count": null,
   "id": "edec4f02",
   "metadata": {},
   "outputs": [],
   "source": []
  },
  {
   "cell_type": "code",
   "execution_count": null,
   "id": "af2206a9",
   "metadata": {},
   "outputs": [],
   "source": []
  },
  {
   "cell_type": "code",
   "execution_count": 17,
   "id": "ab3f76fa",
   "metadata": {},
   "outputs": [
    {
     "name": "stdout",
     "output_type": "stream",
     "text": [
      "Epoch 1/300\n"
     ]
    },
    {
     "name": "stderr",
     "output_type": "stream",
     "text": [
      "C:\\ProgramData\\Anaconda3\\lib\\site-packages\\keras\\optimizers\\optimizer_v2\\adam.py:114: UserWarning: The `lr` argument is deprecated, use `learning_rate` instead.\n",
      "  super().__init__(name, **kwargs)\n"
     ]
    },
    {
     "name": "stdout",
     "output_type": "stream",
     "text": [
      "1/1 [==============================] - 1s 795ms/step - loss: 12.6647 - mae: 12.6647\n",
      "Epoch 2/300\n",
      "1/1 [==============================] - 0s 4ms/step - loss: 12.6278 - mae: 12.6278\n",
      "Epoch 3/300\n",
      "1/1 [==============================] - 0s 5ms/step - loss: 12.5909 - mae: 12.5909\n",
      "Epoch 4/300\n",
      "1/1 [==============================] - 0s 8ms/step - loss: 12.5540 - mae: 12.5540\n",
      "Epoch 5/300\n",
      "1/1 [==============================] - 0s 6ms/step - loss: 12.5171 - mae: 12.5171\n",
      "Epoch 6/300\n",
      "1/1 [==============================] - 0s 5ms/step - loss: 12.4802 - mae: 12.4802\n",
      "Epoch 7/300\n",
      "1/1 [==============================] - 0s 7ms/step - loss: 12.4436 - mae: 12.4436\n",
      "Epoch 8/300\n",
      "1/1 [==============================] - 0s 7ms/step - loss: 12.4080 - mae: 12.4080\n",
      "Epoch 9/300\n",
      "1/1 [==============================] - 0s 7ms/step - loss: 12.3727 - mae: 12.3727\n",
      "Epoch 10/300\n",
      "1/1 [==============================] - 0s 5ms/step - loss: 12.3371 - mae: 12.3371\n",
      "Epoch 11/300\n",
      "1/1 [==============================] - 0s 7ms/step - loss: 12.3011 - mae: 12.3011\n",
      "Epoch 12/300\n",
      "1/1 [==============================] - 0s 5ms/step - loss: 12.2650 - mae: 12.2650\n",
      "Epoch 13/300\n",
      "1/1 [==============================] - 0s 7ms/step - loss: 12.2289 - mae: 12.2289\n",
      "Epoch 14/300\n",
      "1/1 [==============================] - 0s 6ms/step - loss: 12.1931 - mae: 12.1931\n",
      "Epoch 15/300\n",
      "1/1 [==============================] - 0s 7ms/step - loss: 12.1572 - mae: 12.1572\n",
      "Epoch 16/300\n",
      "1/1 [==============================] - 0s 5ms/step - loss: 12.1212 - mae: 12.1212\n",
      "Epoch 17/300\n",
      "1/1 [==============================] - 0s 5ms/step - loss: 12.0849 - mae: 12.0849\n",
      "Epoch 18/300\n",
      "1/1 [==============================] - 0s 4ms/step - loss: 12.0485 - mae: 12.0485\n",
      "Epoch 19/300\n",
      "1/1 [==============================] - 0s 5ms/step - loss: 12.0125 - mae: 12.0125\n",
      "Epoch 20/300\n",
      "1/1 [==============================] - 0s 5ms/step - loss: 11.9767 - mae: 11.9767\n",
      "Epoch 21/300\n",
      "1/1 [==============================] - 0s 5ms/step - loss: 11.9408 - mae: 11.9408\n",
      "Epoch 22/300\n",
      "1/1 [==============================] - 0s 5ms/step - loss: 11.9046 - mae: 11.9046\n",
      "Epoch 23/300\n",
      "1/1 [==============================] - 0s 5ms/step - loss: 11.8683 - mae: 11.8683\n",
      "Epoch 24/300\n",
      "1/1 [==============================] - 0s 7ms/step - loss: 11.8317 - mae: 11.8317\n",
      "Epoch 25/300\n",
      "1/1 [==============================] - 0s 5ms/step - loss: 11.7951 - mae: 11.7951\n",
      "Epoch 26/300\n",
      "1/1 [==============================] - 0s 6ms/step - loss: 11.7583 - mae: 11.7583\n",
      "Epoch 27/300\n",
      "1/1 [==============================] - 0s 5ms/step - loss: 11.7213 - mae: 11.7213\n",
      "Epoch 28/300\n",
      "1/1 [==============================] - 0s 7ms/step - loss: 11.6842 - mae: 11.6842\n",
      "Epoch 29/300\n",
      "1/1 [==============================] - 0s 5ms/step - loss: 11.6469 - mae: 11.6469\n",
      "Epoch 30/300\n",
      "1/1 [==============================] - 0s 6ms/step - loss: 11.6097 - mae: 11.6097\n",
      "Epoch 31/300\n",
      "1/1 [==============================] - 0s 7ms/step - loss: 11.5724 - mae: 11.5724\n",
      "Epoch 32/300\n",
      "1/1 [==============================] - 0s 7ms/step - loss: 11.5351 - mae: 11.5351\n",
      "Epoch 33/300\n",
      "1/1 [==============================] - 0s 6ms/step - loss: 11.4977 - mae: 11.4977\n",
      "Epoch 34/300\n",
      "1/1 [==============================] - 0s 6ms/step - loss: 11.4600 - mae: 11.4600\n",
      "Epoch 35/300\n",
      "1/1 [==============================] - 0s 7ms/step - loss: 11.4221 - mae: 11.4221\n",
      "Epoch 36/300\n",
      "1/1 [==============================] - 0s 4ms/step - loss: 11.3841 - mae: 11.3841\n",
      "Epoch 37/300\n",
      "1/1 [==============================] - 0s 6ms/step - loss: 11.3464 - mae: 11.3464\n",
      "Epoch 38/300\n",
      "1/1 [==============================] - 0s 6ms/step - loss: 11.3085 - mae: 11.3085\n",
      "Epoch 39/300\n",
      "1/1 [==============================] - 0s 7ms/step - loss: 11.2704 - mae: 11.2704\n",
      "Epoch 40/300\n",
      "1/1 [==============================] - 0s 5ms/step - loss: 11.2321 - mae: 11.2321\n",
      "Epoch 41/300\n",
      "1/1 [==============================] - 0s 6ms/step - loss: 11.1935 - mae: 11.1935\n",
      "Epoch 42/300\n",
      "1/1 [==============================] - 0s 5ms/step - loss: 11.1550 - mae: 11.1550\n",
      "Epoch 43/300\n",
      "1/1 [==============================] - 0s 6ms/step - loss: 11.1161 - mae: 11.1161\n",
      "Epoch 44/300\n",
      "1/1 [==============================] - 0s 5ms/step - loss: 11.0770 - mae: 11.0770\n",
      "Epoch 45/300\n",
      "1/1 [==============================] - 0s 5ms/step - loss: 11.0376 - mae: 11.0376\n",
      "Epoch 46/300\n",
      "1/1 [==============================] - 0s 5ms/step - loss: 10.9980 - mae: 10.9980\n",
      "Epoch 47/300\n",
      "1/1 [==============================] - 0s 4ms/step - loss: 10.9581 - mae: 10.9581\n",
      "Epoch 48/300\n",
      "1/1 [==============================] - 0s 6ms/step - loss: 10.9181 - mae: 10.9181\n",
      "Epoch 49/300\n",
      "1/1 [==============================] - 0s 4ms/step - loss: 10.8779 - mae: 10.8779\n",
      "Epoch 50/300\n",
      "1/1 [==============================] - 0s 5ms/step - loss: 10.8368 - mae: 10.8368\n",
      "Epoch 51/300\n",
      "1/1 [==============================] - 0s 6ms/step - loss: 10.7952 - mae: 10.7952\n",
      "Epoch 52/300\n",
      "1/1 [==============================] - 0s 5ms/step - loss: 10.7531 - mae: 10.7531\n",
      "Epoch 53/300\n",
      "1/1 [==============================] - 0s 5ms/step - loss: 10.7106 - mae: 10.7106\n",
      "Epoch 54/300\n",
      "1/1 [==============================] - 0s 4ms/step - loss: 10.6676 - mae: 10.6676\n",
      "Epoch 55/300\n",
      "1/1 [==============================] - 0s 5ms/step - loss: 10.6242 - mae: 10.6242\n",
      "Epoch 56/300\n",
      "1/1 [==============================] - 0s 4ms/step - loss: 10.5805 - mae: 10.5805\n",
      "Epoch 57/300\n",
      "1/1 [==============================] - 0s 5ms/step - loss: 10.5368 - mae: 10.5368\n",
      "Epoch 58/300\n",
      "1/1 [==============================] - 0s 6ms/step - loss: 10.4929 - mae: 10.4929\n",
      "Epoch 59/300\n",
      "1/1 [==============================] - 0s 5ms/step - loss: 10.4484 - mae: 10.4484\n",
      "Epoch 60/300\n",
      "1/1 [==============================] - 0s 7ms/step - loss: 10.4035 - mae: 10.4035\n",
      "Epoch 61/300\n",
      "1/1 [==============================] - 0s 5ms/step - loss: 10.3717 - mae: 10.3717\n",
      "Epoch 62/300\n",
      "1/1 [==============================] - 0s 5ms/step - loss: 10.3404 - mae: 10.3404\n",
      "Epoch 63/300\n",
      "1/1 [==============================] - 0s 7ms/step - loss: 10.3084 - mae: 10.3084\n",
      "Epoch 64/300\n",
      "1/1 [==============================] - 0s 5ms/step - loss: 10.2760 - mae: 10.2760\n",
      "Epoch 65/300\n",
      "1/1 [==============================] - 0s 5ms/step - loss: 10.2432 - mae: 10.2432\n",
      "Epoch 66/300\n",
      "1/1 [==============================] - 0s 5ms/step - loss: 10.2102 - mae: 10.2102\n",
      "Epoch 67/300\n",
      "1/1 [==============================] - 0s 6ms/step - loss: 10.1770 - mae: 10.1770\n",
      "Epoch 68/300\n",
      "1/1 [==============================] - 0s 6ms/step - loss: 10.1434 - mae: 10.1434\n",
      "Epoch 69/300\n",
      "1/1 [==============================] - 0s 5ms/step - loss: 10.1094 - mae: 10.1094\n",
      "Epoch 70/300\n",
      "1/1 [==============================] - 0s 6ms/step - loss: 10.0752 - mae: 10.0752\n",
      "Epoch 71/300\n",
      "1/1 [==============================] - 0s 5ms/step - loss: 10.0407 - mae: 10.0407\n",
      "Epoch 72/300\n",
      "1/1 [==============================] - 0s 5ms/step - loss: 10.0058 - mae: 10.0058\n",
      "Epoch 73/300\n",
      "1/1 [==============================] - 0s 5ms/step - loss: 9.9706 - mae: 9.9706\n",
      "Epoch 74/300\n",
      "1/1 [==============================] - 0s 5ms/step - loss: 9.9351 - mae: 9.9351\n",
      "Epoch 75/300\n",
      "1/1 [==============================] - 0s 5ms/step - loss: 9.8993 - mae: 9.8993\n",
      "Epoch 76/300\n",
      "1/1 [==============================] - 0s 6ms/step - loss: 9.8631 - mae: 9.8631\n",
      "Epoch 77/300\n",
      "1/1 [==============================] - 0s 5ms/step - loss: 9.8266 - mae: 9.8266\n",
      "Epoch 78/300\n",
      "1/1 [==============================] - 0s 5ms/step - loss: 9.7898 - mae: 9.7898\n",
      "Epoch 79/300\n",
      "1/1 [==============================] - 0s 5ms/step - loss: 9.7527 - mae: 9.7527\n",
      "Epoch 80/300\n",
      "1/1 [==============================] - 0s 5ms/step - loss: 9.7153 - mae: 9.7153\n",
      "Epoch 81/300\n",
      "1/1 [==============================] - 0s 5ms/step - loss: 9.6777 - mae: 9.6777\n",
      "Epoch 82/300\n",
      "1/1 [==============================] - 0s 5ms/step - loss: 9.6396 - mae: 9.6396\n",
      "Epoch 83/300\n",
      "1/1 [==============================] - 0s 5ms/step - loss: 9.6013 - mae: 9.6013\n",
      "Epoch 84/300\n",
      "1/1 [==============================] - 0s 5ms/step - loss: 9.5626 - mae: 9.5626\n",
      "Epoch 85/300\n",
      "1/1 [==============================] - 0s 5ms/step - loss: 9.5236 - mae: 9.5236\n",
      "Epoch 86/300\n",
      "1/1 [==============================] - 0s 5ms/step - loss: 9.4845 - mae: 9.4845\n",
      "Epoch 87/300\n"
     ]
    },
    {
     "name": "stdout",
     "output_type": "stream",
     "text": [
      "1/1 [==============================] - 0s 5ms/step - loss: 9.4451 - mae: 9.4451\n",
      "Epoch 88/300\n",
      "1/1 [==============================] - 0s 5ms/step - loss: 9.4053 - mae: 9.4053\n",
      "Epoch 89/300\n",
      "1/1 [==============================] - 0s 5ms/step - loss: 9.3651 - mae: 9.3651\n",
      "Epoch 90/300\n",
      "1/1 [==============================] - 0s 6ms/step - loss: 9.3246 - mae: 9.3246\n",
      "Epoch 91/300\n",
      "1/1 [==============================] - 0s 5ms/step - loss: 9.2838 - mae: 9.2838\n",
      "Epoch 92/300\n",
      "1/1 [==============================] - 0s 5ms/step - loss: 9.2426 - mae: 9.2426\n",
      "Epoch 93/300\n",
      "1/1 [==============================] - 0s 5ms/step - loss: 9.2013 - mae: 9.2013\n",
      "Epoch 94/300\n",
      "1/1 [==============================] - 0s 5ms/step - loss: 9.1596 - mae: 9.1596\n",
      "Epoch 95/300\n",
      "1/1 [==============================] - 0s 5ms/step - loss: 9.1175 - mae: 9.1175\n",
      "Epoch 96/300\n",
      "1/1 [==============================] - 0s 6ms/step - loss: 9.0751 - mae: 9.0751\n",
      "Epoch 97/300\n",
      "1/1 [==============================] - 0s 5ms/step - loss: 9.0322 - mae: 9.0322\n",
      "Epoch 98/300\n",
      "1/1 [==============================] - 0s 5ms/step - loss: 8.9889 - mae: 8.9889\n",
      "Epoch 99/300\n",
      "1/1 [==============================] - 0s 7ms/step - loss: 8.9452 - mae: 8.9452\n",
      "Epoch 100/300\n",
      "1/1 [==============================] - 0s 6ms/step - loss: 8.9011 - mae: 8.9011\n",
      "Epoch 101/300\n",
      "1/1 [==============================] - 0s 5ms/step - loss: 8.8565 - mae: 8.8565\n",
      "Epoch 102/300\n",
      "1/1 [==============================] - 0s 5ms/step - loss: 8.8115 - mae: 8.8115\n",
      "Epoch 103/300\n",
      "1/1 [==============================] - 0s 5ms/step - loss: 8.7661 - mae: 8.7661\n",
      "Epoch 104/300\n",
      "1/1 [==============================] - 0s 7ms/step - loss: 8.7203 - mae: 8.7203\n",
      "Epoch 105/300\n",
      "1/1 [==============================] - 0s 5ms/step - loss: 8.6740 - mae: 8.6740\n",
      "Epoch 106/300\n",
      "1/1 [==============================] - 0s 6ms/step - loss: 8.6273 - mae: 8.6273\n",
      "Epoch 107/300\n",
      "1/1 [==============================] - 0s 6ms/step - loss: 8.5801 - mae: 8.5801\n",
      "Epoch 108/300\n",
      "1/1 [==============================] - 0s 5ms/step - loss: 8.5325 - mae: 8.5325\n",
      "Epoch 109/300\n",
      "1/1 [==============================] - 0s 7ms/step - loss: 8.4845 - mae: 8.4845\n",
      "Epoch 110/300\n",
      "1/1 [==============================] - 0s 5ms/step - loss: 8.4359 - mae: 8.4359\n",
      "Epoch 111/300\n",
      "1/1 [==============================] - 0s 5ms/step - loss: 8.3870 - mae: 8.3870\n",
      "Epoch 112/300\n",
      "1/1 [==============================] - 0s 5ms/step - loss: 8.3375 - mae: 8.3375\n",
      "Epoch 113/300\n",
      "1/1 [==============================] - 0s 8ms/step - loss: 8.2876 - mae: 8.2876\n",
      "Epoch 114/300\n",
      "1/1 [==============================] - 0s 5ms/step - loss: 8.2373 - mae: 8.2373\n",
      "Epoch 115/300\n",
      "1/1 [==============================] - 0s 5ms/step - loss: 8.1866 - mae: 8.1866\n",
      "Epoch 116/300\n",
      "1/1 [==============================] - 0s 5ms/step - loss: 8.1351 - mae: 8.1351\n",
      "Epoch 117/300\n",
      "1/1 [==============================] - 0s 5ms/step - loss: 8.0829 - mae: 8.0829\n",
      "Epoch 118/300\n",
      "1/1 [==============================] - 0s 5ms/step - loss: 8.0299 - mae: 8.0299\n",
      "Epoch 119/300\n",
      "1/1 [==============================] - 0s 6ms/step - loss: 7.9763 - mae: 7.9763\n",
      "Epoch 120/300\n",
      "1/1 [==============================] - 0s 5ms/step - loss: 7.9220 - mae: 7.9220\n",
      "Epoch 121/300\n",
      "1/1 [==============================] - 0s 5ms/step - loss: 7.8671 - mae: 7.8671\n",
      "Epoch 122/300\n",
      "1/1 [==============================] - 0s 5ms/step - loss: 7.8118 - mae: 7.8118\n",
      "Epoch 123/300\n",
      "1/1 [==============================] - 0s 5ms/step - loss: 7.7562 - mae: 7.7562\n",
      "Epoch 124/300\n",
      "1/1 [==============================] - 0s 6ms/step - loss: 7.7002 - mae: 7.7002\n",
      "Epoch 125/300\n",
      "1/1 [==============================] - 0s 5ms/step - loss: 7.6441 - mae: 7.6441\n",
      "Epoch 126/300\n",
      "1/1 [==============================] - 0s 6ms/step - loss: 7.5878 - mae: 7.5878\n",
      "Epoch 127/300\n",
      "1/1 [==============================] - 0s 5ms/step - loss: 7.5310 - mae: 7.5310\n",
      "Epoch 128/300\n",
      "1/1 [==============================] - 0s 5ms/step - loss: 7.4736 - mae: 7.4736\n",
      "Epoch 129/300\n",
      "1/1 [==============================] - 0s 6ms/step - loss: 7.4155 - mae: 7.4155\n",
      "Epoch 130/300\n",
      "1/1 [==============================] - 0s 6ms/step - loss: 7.3568 - mae: 7.3568\n",
      "Epoch 131/300\n",
      "1/1 [==============================] - 0s 6ms/step - loss: 7.2974 - mae: 7.2974\n",
      "Epoch 132/300\n",
      "1/1 [==============================] - 0s 5ms/step - loss: 7.2374 - mae: 7.2374\n",
      "Epoch 133/300\n",
      "1/1 [==============================] - 0s 5ms/step - loss: 7.1769 - mae: 7.1769\n",
      "Epoch 134/300\n",
      "1/1 [==============================] - 0s 5ms/step - loss: 7.1157 - mae: 7.1157\n",
      "Epoch 135/300\n",
      "1/1 [==============================] - 0s 5ms/step - loss: 7.0540 - mae: 7.0540\n",
      "Epoch 136/300\n",
      "1/1 [==============================] - 0s 5ms/step - loss: 6.9917 - mae: 6.9917\n",
      "Epoch 137/300\n",
      "1/1 [==============================] - 0s 5ms/step - loss: 6.9289 - mae: 6.9289\n",
      "Epoch 138/300\n",
      "1/1 [==============================] - 0s 5ms/step - loss: 6.8657 - mae: 6.8657\n",
      "Epoch 139/300\n",
      "1/1 [==============================] - 0s 5ms/step - loss: 6.8022 - mae: 6.8022\n",
      "Epoch 140/300\n",
      "1/1 [==============================] - 0s 5ms/step - loss: 6.7384 - mae: 6.7384\n",
      "Epoch 141/300\n",
      "1/1 [==============================] - 0s 5ms/step - loss: 6.6745 - mae: 6.6745\n",
      "Epoch 142/300\n",
      "1/1 [==============================] - 0s 6ms/step - loss: 6.6101 - mae: 6.6101\n",
      "Epoch 143/300\n",
      "1/1 [==============================] - 0s 5ms/step - loss: 6.5449 - mae: 6.5449\n",
      "Epoch 144/300\n",
      "1/1 [==============================] - 0s 5ms/step - loss: 6.4790 - mae: 6.4790\n",
      "Epoch 145/300\n",
      "1/1 [==============================] - 0s 5ms/step - loss: 6.4125 - mae: 6.4125\n",
      "Epoch 146/300\n",
      "1/1 [==============================] - 0s 5ms/step - loss: 6.3453 - mae: 6.3453\n",
      "Epoch 147/300\n",
      "1/1 [==============================] - 0s 5ms/step - loss: 6.2776 - mae: 6.2776\n",
      "Epoch 148/300\n",
      "1/1 [==============================] - 0s 5ms/step - loss: 6.2093 - mae: 6.2093\n",
      "Epoch 149/300\n",
      "1/1 [==============================] - 0s 6ms/step - loss: 6.1405 - mae: 6.1405\n",
      "Epoch 150/300\n",
      "1/1 [==============================] - 0s 5ms/step - loss: 6.0711 - mae: 6.0711\n",
      "Epoch 151/300\n",
      "1/1 [==============================] - 0s 6ms/step - loss: 6.0009 - mae: 6.0009\n",
      "Epoch 152/300\n",
      "1/1 [==============================] - 0s 5ms/step - loss: 5.9301 - mae: 5.9301\n",
      "Epoch 153/300\n",
      "1/1 [==============================] - 0s 6ms/step - loss: 5.8587 - mae: 5.8587\n",
      "Epoch 154/300\n",
      "1/1 [==============================] - 0s 6ms/step - loss: 5.7867 - mae: 5.7867\n",
      "Epoch 155/300\n",
      "1/1 [==============================] - 0s 5ms/step - loss: 5.7141 - mae: 5.7141\n",
      "Epoch 156/300\n",
      "1/1 [==============================] - 0s 10ms/step - loss: 5.6411 - mae: 5.6411\n",
      "Epoch 157/300\n",
      "1/1 [==============================] - 0s 7ms/step - loss: 5.5677 - mae: 5.5677\n",
      "Epoch 158/300\n",
      "1/1 [==============================] - 0s 6ms/step - loss: 5.4936 - mae: 5.4936\n",
      "Epoch 159/300\n",
      "1/1 [==============================] - 0s 5ms/step - loss: 5.4191 - mae: 5.4191\n",
      "Epoch 160/300\n",
      "1/1 [==============================] - 0s 6ms/step - loss: 5.3440 - mae: 5.3440\n",
      "Epoch 161/300\n",
      "1/1 [==============================] - 0s 5ms/step - loss: 5.2685 - mae: 5.2685\n",
      "Epoch 162/300\n",
      "1/1 [==============================] - 0s 5ms/step - loss: 5.1923 - mae: 5.1923\n",
      "Epoch 163/300\n",
      "1/1 [==============================] - 0s 5ms/step - loss: 5.1154 - mae: 5.1154\n",
      "Epoch 164/300\n",
      "1/1 [==============================] - 0s 5ms/step - loss: 5.0377 - mae: 5.0377\n",
      "Epoch 165/300\n",
      "1/1 [==============================] - 0s 6ms/step - loss: 4.9594 - mae: 4.9594\n",
      "Epoch 166/300\n",
      "1/1 [==============================] - 0s 4ms/step - loss: 4.8803 - mae: 4.8803\n",
      "Epoch 167/300\n",
      "1/1 [==============================] - 0s 5ms/step - loss: 4.8005 - mae: 4.8005\n",
      "Epoch 168/300\n",
      "1/1 [==============================] - 0s 5ms/step - loss: 4.7201 - mae: 4.7201\n",
      "Epoch 169/300\n",
      "1/1 [==============================] - 0s 5ms/step - loss: 4.6389 - mae: 4.6389\n",
      "Epoch 170/300\n",
      "1/1 [==============================] - 0s 5ms/step - loss: 4.5570 - mae: 4.5570\n",
      "Epoch 171/300\n",
      "1/1 [==============================] - 0s 6ms/step - loss: 4.4743 - mae: 4.4743\n",
      "Epoch 172/300\n",
      "1/1 [==============================] - 0s 6ms/step - loss: 4.3909 - mae: 4.3909\n",
      "Epoch 173/300\n",
      "1/1 [==============================] - 0s 5ms/step - loss: 4.3066 - mae: 4.3066\n",
      "Epoch 174/300\n"
     ]
    },
    {
     "name": "stdout",
     "output_type": "stream",
     "text": [
      "1/1 [==============================] - 0s 5ms/step - loss: 4.2216 - mae: 4.2216\n",
      "Epoch 175/300\n",
      "1/1 [==============================] - 0s 6ms/step - loss: 4.1359 - mae: 4.1359\n",
      "Epoch 176/300\n",
      "1/1 [==============================] - 0s 6ms/step - loss: 4.1024 - mae: 4.1024\n",
      "Epoch 177/300\n",
      "1/1 [==============================] - 0s 6ms/step - loss: 4.0764 - mae: 4.0764\n",
      "Epoch 178/300\n",
      "1/1 [==============================] - 0s 5ms/step - loss: 4.0517 - mae: 4.0517\n",
      "Epoch 179/300\n",
      "1/1 [==============================] - 0s 5ms/step - loss: 4.0283 - mae: 4.0283\n",
      "Epoch 180/300\n",
      "1/1 [==============================] - 0s 5ms/step - loss: 4.0061 - mae: 4.0061\n",
      "Epoch 181/300\n",
      "1/1 [==============================] - 0s 6ms/step - loss: 3.9850 - mae: 3.9850\n",
      "Epoch 182/300\n",
      "1/1 [==============================] - 0s 5ms/step - loss: 3.9647 - mae: 3.9647\n",
      "Epoch 183/300\n",
      "1/1 [==============================] - 0s 5ms/step - loss: 3.9452 - mae: 3.9452\n",
      "Epoch 184/300\n",
      "1/1 [==============================] - 0s 5ms/step - loss: 3.9265 - mae: 3.9265\n",
      "Epoch 185/300\n",
      "1/1 [==============================] - 0s 6ms/step - loss: 3.9085 - mae: 3.9085\n",
      "Epoch 186/300\n",
      "1/1 [==============================] - 0s 5ms/step - loss: 3.8910 - mae: 3.8910\n",
      "Epoch 187/300\n",
      "1/1 [==============================] - 0s 5ms/step - loss: 3.8741 - mae: 3.8741\n",
      "Epoch 188/300\n",
      "1/1 [==============================] - 0s 6ms/step - loss: 3.8577 - mae: 3.8577\n",
      "Epoch 189/300\n",
      "1/1 [==============================] - 0s 6ms/step - loss: 3.8417 - mae: 3.8417\n",
      "Epoch 190/300\n",
      "1/1 [==============================] - 0s 7ms/step - loss: 3.8261 - mae: 3.8261\n",
      "Epoch 191/300\n",
      "1/1 [==============================] - 0s 5ms/step - loss: 3.8264 - mae: 3.8264\n",
      "Epoch 192/300\n",
      "1/1 [==============================] - 0s 6ms/step - loss: 3.8343 - mae: 3.8343\n",
      "Epoch 193/300\n",
      "1/1 [==============================] - 0s 5ms/step - loss: 3.8406 - mae: 3.8406\n",
      "Epoch 194/300\n",
      "1/1 [==============================] - 0s 6ms/step - loss: 3.8455 - mae: 3.8455\n",
      "Epoch 195/300\n",
      "1/1 [==============================] - 0s 6ms/step - loss: 3.8492 - mae: 3.8492\n",
      "Epoch 196/300\n",
      "1/1 [==============================] - 0s 5ms/step - loss: 3.8516 - mae: 3.8516\n",
      "Epoch 197/300\n",
      "1/1 [==============================] - 0s 5ms/step - loss: 3.8530 - mae: 3.8530\n",
      "Epoch 198/300\n",
      "1/1 [==============================] - 0s 8ms/step - loss: 3.8535 - mae: 3.8535\n",
      "Epoch 199/300\n",
      "1/1 [==============================] - 0s 6ms/step - loss: 3.8531 - mae: 3.8531\n",
      "Epoch 200/300\n",
      "1/1 [==============================] - 0s 5ms/step - loss: 3.8519 - mae: 3.8519\n",
      "Epoch 201/300\n",
      "1/1 [==============================] - 0s 7ms/step - loss: 3.8500 - mae: 3.8500\n",
      "Epoch 202/300\n",
      "1/1 [==============================] - 0s 5ms/step - loss: 3.8474 - mae: 3.8474\n",
      "Epoch 203/300\n",
      "1/1 [==============================] - 0s 8ms/step - loss: 3.8443 - mae: 3.8443\n",
      "Epoch 204/300\n",
      "1/1 [==============================] - 0s 8ms/step - loss: 3.8419 - mae: 3.8419\n",
      "Epoch 205/300\n",
      "1/1 [==============================] - 0s 6ms/step - loss: 3.8388 - mae: 3.8388\n",
      "Epoch 206/300\n",
      "1/1 [==============================] - 0s 7ms/step - loss: 3.8343 - mae: 3.8343\n",
      "Epoch 207/300\n",
      "1/1 [==============================] - 0s 5ms/step - loss: 3.8306 - mae: 3.8306\n",
      "Epoch 208/300\n",
      "1/1 [==============================] - 0s 7ms/step - loss: 3.8265 - mae: 3.8265\n",
      "Epoch 209/300\n",
      "1/1 [==============================] - 0s 5ms/step - loss: 3.8220 - mae: 3.8220\n",
      "Epoch 210/300\n",
      "1/1 [==============================] - 0s 6ms/step - loss: 3.8171 - mae: 3.8171\n",
      "Epoch 211/300\n",
      "1/1 [==============================] - 0s 7ms/step - loss: 3.8119 - mae: 3.8119\n",
      "Epoch 212/300\n",
      "1/1 [==============================] - 0s 5ms/step - loss: 3.8063 - mae: 3.8063\n",
      "Epoch 213/300\n",
      "1/1 [==============================] - 0s 6ms/step - loss: 3.8005 - mae: 3.8005\n",
      "Epoch 214/300\n",
      "1/1 [==============================] - 0s 5ms/step - loss: 3.8008 - mae: 3.8008\n",
      "Epoch 215/300\n",
      "1/1 [==============================] - 0s 6ms/step - loss: 3.8054 - mae: 3.8054\n",
      "Epoch 216/300\n",
      "1/1 [==============================] - 0s 5ms/step - loss: 3.8074 - mae: 3.8074\n",
      "Epoch 217/300\n",
      "1/1 [==============================] - 0s 6ms/step - loss: 3.8086 - mae: 3.8086\n",
      "Epoch 218/300\n",
      "1/1 [==============================] - 0s 5ms/step - loss: 3.8084 - mae: 3.8084\n",
      "Epoch 219/300\n",
      "1/1 [==============================] - 0s 5ms/step - loss: 3.8069 - mae: 3.8069\n",
      "Epoch 220/300\n",
      "1/1 [==============================] - 0s 5ms/step - loss: 3.8042 - mae: 3.8042\n",
      "Epoch 221/300\n",
      "1/1 [==============================] - 0s 5ms/step - loss: 3.8005 - mae: 3.8005\n",
      "Epoch 222/300\n",
      "1/1 [==============================] - 0s 5ms/step - loss: 3.7959 - mae: 3.7959\n",
      "Epoch 223/300\n",
      "1/1 [==============================] - 0s 5ms/step - loss: 3.7913 - mae: 3.7913\n",
      "Epoch 224/300\n",
      "1/1 [==============================] - 0s 4ms/step - loss: 3.7934 - mae: 3.7934\n",
      "Epoch 225/300\n",
      "1/1 [==============================] - 0s 5ms/step - loss: 3.7944 - mae: 3.7944\n",
      "Epoch 226/300\n",
      "1/1 [==============================] - 0s 5ms/step - loss: 3.7945 - mae: 3.7945\n",
      "Epoch 227/300\n",
      "1/1 [==============================] - 0s 5ms/step - loss: 3.7937 - mae: 3.7937\n",
      "Epoch 228/300\n",
      "1/1 [==============================] - 0s 6ms/step - loss: 3.7922 - mae: 3.7922\n",
      "Epoch 229/300\n",
      "1/1 [==============================] - 0s 5ms/step - loss: 3.7900 - mae: 3.7900\n",
      "Epoch 230/300\n",
      "1/1 [==============================] - 0s 5ms/step - loss: 3.7872 - mae: 3.7872\n",
      "Epoch 231/300\n",
      "1/1 [==============================] - 0s 5ms/step - loss: 3.7885 - mae: 3.7885\n",
      "Epoch 232/300\n",
      "1/1 [==============================] - 0s 5ms/step - loss: 3.7880 - mae: 3.7880\n",
      "Epoch 233/300\n",
      "1/1 [==============================] - 0s 6ms/step - loss: 3.7874 - mae: 3.7874\n",
      "Epoch 234/300\n",
      "1/1 [==============================] - 0s 7ms/step - loss: 3.7861 - mae: 3.7861\n",
      "Epoch 235/300\n",
      "1/1 [==============================] - 0s 5ms/step - loss: 3.7843 - mae: 3.7843\n",
      "Epoch 236/300\n",
      "1/1 [==============================] - 0s 5ms/step - loss: 3.7847 - mae: 3.7847\n",
      "Epoch 237/300\n",
      "1/1 [==============================] - 0s 5ms/step - loss: 3.7843 - mae: 3.7843\n",
      "Epoch 238/300\n",
      "1/1 [==============================] - 0s 5ms/step - loss: 3.7830 - mae: 3.7830\n",
      "Epoch 239/300\n",
      "1/1 [==============================] - 0s 6ms/step - loss: 3.7827 - mae: 3.7827\n",
      "Epoch 240/300\n",
      "1/1 [==============================] - 0s 5ms/step - loss: 3.7823 - mae: 3.7823\n",
      "Epoch 241/300\n",
      "1/1 [==============================] - 0s 6ms/step - loss: 3.7805 - mae: 3.7805\n",
      "Epoch 242/300\n",
      "1/1 [==============================] - 0s 5ms/step - loss: 3.7807 - mae: 3.7807\n",
      "Epoch 243/300\n",
      "1/1 [==============================] - 0s 5ms/step - loss: 3.7804 - mae: 3.7804\n",
      "Epoch 244/300\n",
      "1/1 [==============================] - 0s 5ms/step - loss: 3.7794 - mae: 3.7794\n",
      "Epoch 245/300\n",
      "1/1 [==============================] - 0s 5ms/step - loss: 3.7776 - mae: 3.7776\n",
      "Epoch 246/300\n",
      "1/1 [==============================] - 0s 6ms/step - loss: 3.7755 - mae: 3.7755\n",
      "Epoch 247/300\n",
      "1/1 [==============================] - 0s 6ms/step - loss: 3.7748 - mae: 3.7748\n",
      "Epoch 248/300\n",
      "1/1 [==============================] - 0s 5ms/step - loss: 3.7749 - mae: 3.7749\n",
      "Epoch 249/300\n",
      "1/1 [==============================] - 0s 5ms/step - loss: 3.7736 - mae: 3.7736\n",
      "Epoch 250/300\n",
      "1/1 [==============================] - 0s 5ms/step - loss: 3.7730 - mae: 3.7730\n",
      "Epoch 251/300\n",
      "1/1 [==============================] - 0s 5ms/step - loss: 3.7722 - mae: 3.7722\n",
      "Epoch 252/300\n",
      "1/1 [==============================] - 0s 4ms/step - loss: 3.7727 - mae: 3.7727\n",
      "Epoch 253/300\n",
      "1/1 [==============================] - 0s 6ms/step - loss: 3.7726 - mae: 3.7726\n",
      "Epoch 254/300\n",
      "1/1 [==============================] - 0s 5ms/step - loss: 3.7717 - mae: 3.7717\n",
      "Epoch 255/300\n",
      "1/1 [==============================] - 0s 5ms/step - loss: 3.7700 - mae: 3.7700\n",
      "Epoch 256/300\n",
      "1/1 [==============================] - 0s 4ms/step - loss: 3.7710 - mae: 3.7710\n",
      "Epoch 257/300\n",
      "1/1 [==============================] - 0s 6ms/step - loss: 3.7709 - mae: 3.7709\n",
      "Epoch 258/300\n",
      "1/1 [==============================] - 0s 5ms/step - loss: 3.7694 - mae: 3.7694\n",
      "Epoch 259/300\n",
      "1/1 [==============================] - 0s 5ms/step - loss: 3.7667 - mae: 3.7667\n",
      "Epoch 260/300\n",
      "1/1 [==============================] - 0s 5ms/step - loss: 3.7677 - mae: 3.7677\n",
      "Epoch 261/300\n"
     ]
    },
    {
     "name": "stdout",
     "output_type": "stream",
     "text": [
      "1/1 [==============================] - 0s 5ms/step - loss: 3.7680 - mae: 3.7680\n",
      "Epoch 262/300\n",
      "1/1 [==============================] - 0s 5ms/step - loss: 3.7674 - mae: 3.7674\n",
      "Epoch 263/300\n",
      "1/1 [==============================] - 0s 6ms/step - loss: 3.7671 - mae: 3.7671\n",
      "Epoch 264/300\n",
      "1/1 [==============================] - 0s 5ms/step - loss: 3.7647 - mae: 3.7647\n",
      "Epoch 265/300\n",
      "1/1 [==============================] - 0s 6ms/step - loss: 3.7629 - mae: 3.7629\n",
      "Epoch 266/300\n",
      "1/1 [==============================] - 0s 6ms/step - loss: 3.7628 - mae: 3.7628\n",
      "Epoch 267/300\n",
      "1/1 [==============================] - 0s 5ms/step - loss: 3.7636 - mae: 3.7636\n",
      "Epoch 268/300\n",
      "1/1 [==============================] - 0s 5ms/step - loss: 3.7629 - mae: 3.7629\n",
      "Epoch 269/300\n",
      "1/1 [==============================] - 0s 4ms/step - loss: 3.7608 - mae: 3.7608\n",
      "Epoch 270/300\n",
      "1/1 [==============================] - 0s 5ms/step - loss: 3.7608 - mae: 3.7608\n",
      "Epoch 271/300\n",
      "1/1 [==============================] - 0s 5ms/step - loss: 3.7611 - mae: 3.7611\n",
      "Epoch 272/300\n",
      "1/1 [==============================] - 0s 6ms/step - loss: 3.7605 - mae: 3.7605\n",
      "Epoch 273/300\n",
      "1/1 [==============================] - 0s 5ms/step - loss: 3.7590 - mae: 3.7590\n",
      "Epoch 274/300\n",
      "1/1 [==============================] - 0s 5ms/step - loss: 3.7569 - mae: 3.7569\n",
      "Epoch 275/300\n",
      "1/1 [==============================] - 0s 6ms/step - loss: 3.7558 - mae: 3.7558\n",
      "Epoch 276/300\n",
      "1/1 [==============================] - 0s 6ms/step - loss: 3.7556 - mae: 3.7556\n",
      "Epoch 277/300\n",
      "1/1 [==============================] - 0s 6ms/step - loss: 3.7539 - mae: 3.7539\n",
      "Epoch 278/300\n",
      "1/1 [==============================] - 0s 5ms/step - loss: 3.7523 - mae: 3.7523\n",
      "Epoch 279/300\n",
      "1/1 [==============================] - 0s 6ms/step - loss: 3.7541 - mae: 3.7541\n",
      "Epoch 280/300\n",
      "1/1 [==============================] - 0s 5ms/step - loss: 3.7525 - mae: 3.7525\n",
      "Epoch 281/300\n",
      "1/1 [==============================] - 0s 5ms/step - loss: 3.7499 - mae: 3.7499\n",
      "Epoch 282/300\n",
      "1/1 [==============================] - 0s 4ms/step - loss: 3.7513 - mae: 3.7513\n",
      "Epoch 283/300\n",
      "1/1 [==============================] - 0s 5ms/step - loss: 3.7514 - mae: 3.7514\n",
      "Epoch 284/300\n",
      "1/1 [==============================] - 0s 5ms/step - loss: 3.7500 - mae: 3.7500\n",
      "Epoch 285/300\n",
      "1/1 [==============================] - 0s 6ms/step - loss: 3.7485 - mae: 3.7485\n",
      "Epoch 286/300\n",
      "1/1 [==============================] - 0s 5ms/step - loss: 3.7485 - mae: 3.7485\n",
      "Epoch 287/300\n",
      "1/1 [==============================] - 0s 5ms/step - loss: 3.7476 - mae: 3.7476\n",
      "Epoch 288/300\n",
      "1/1 [==============================] - 0s 5ms/step - loss: 3.7460 - mae: 3.7460\n",
      "Epoch 289/300\n",
      "1/1 [==============================] - 0s 5ms/step - loss: 3.7463 - mae: 3.7463\n",
      "Epoch 290/300\n",
      "1/1 [==============================] - 0s 5ms/step - loss: 3.7459 - mae: 3.7459\n",
      "Epoch 291/300\n",
      "1/1 [==============================] - 0s 4ms/step - loss: 3.7440 - mae: 3.7440\n",
      "Epoch 292/300\n",
      "1/1 [==============================] - 0s 6ms/step - loss: 3.7426 - mae: 3.7426\n",
      "Epoch 293/300\n",
      "1/1 [==============================] - 0s 5ms/step - loss: 3.7422 - mae: 3.7422\n",
      "Epoch 294/300\n",
      "1/1 [==============================] - 0s 5ms/step - loss: 3.7425 - mae: 3.7425\n",
      "Epoch 295/300\n",
      "1/1 [==============================] - 0s 5ms/step - loss: 3.7400 - mae: 3.7400\n",
      "Epoch 296/300\n",
      "1/1 [==============================] - 0s 5ms/step - loss: 3.7399 - mae: 3.7399\n",
      "Epoch 297/300\n",
      "1/1 [==============================] - 0s 4ms/step - loss: 3.7399 - mae: 3.7399\n",
      "Epoch 298/300\n",
      "1/1 [==============================] - 0s 7ms/step - loss: 3.7384 - mae: 3.7384\n",
      "Epoch 299/300\n",
      "1/1 [==============================] - 0s 5ms/step - loss: 3.7394 - mae: 3.7394\n",
      "Epoch 300/300\n",
      "1/1 [==============================] - 0s 5ms/step - loss: 3.7397 - mae: 3.7397\n"
     ]
    },
    {
     "data": {
      "text/plain": [
       "<keras.callbacks.History at 0x1d96be8d640>"
      ]
     },
     "execution_count": 17,
     "metadata": {},
     "output_type": "execute_result"
    }
   ],
   "source": [
    "# 2nd experiment : buil a larger model, as an improvement to the model\n",
    "\n",
    "# Set a random seed (in order to have some reproducibility)\n",
    "tf.random.set_seed(42)\n",
    "\n",
    "# 1. Create a model using the Sequential API\n",
    "model = tf.keras.Sequential([\n",
    "    \n",
    "    # Adding more hidden layers, more neurons, and activation function \n",
    "    tf.keras.layers.Dense(100, activation=\"relu\"),\n",
    "    tf.keras.layers.Dense(100, activation=\"relu\"),\n",
    "    tf.keras.layers.Dense(100, activation=\"relu\"),\n",
    "    \n",
    "    tf.keras.layers.Dense(1)\n",
    "])\n",
    "\n",
    "# 2. Compile the model\n",
    "model.compile(loss=tf.keras.losses.mae, # MAE : Mean Absolute Error\n",
    "              optimizer=tf.keras.optimizers.Adam(lr=0.0001), # lr = Learning Rate\n",
    "              metrics=[\"mae\"]\n",
    "             )\n",
    "\n",
    "# 3. Fit the model \n",
    "model.fit(tf.expand_dims(X, axis=-1),y, epochs=300) # Increasing the number of epochs\n"
   ]
  },
  {
   "cell_type": "markdown",
   "id": "673624a9",
   "metadata": {},
   "source": [
    "The 2nd model, although more larger, don't provide a better training result compared to the previously built one."
   ]
  },
  {
   "cell_type": "code",
   "execution_count": 18,
   "id": "533e0fa1",
   "metadata": {},
   "outputs": [
    {
     "data": {
      "text/plain": [
       "(<tf.Tensor: shape=(8,), dtype=float64, numpy=array([-7., -4., -1.,  2.,  5.,  8., 11., 14.])>,\n",
       " <tf.Tensor: shape=(8,), dtype=float64, numpy=array([ 3.,  6.,  9., 12., 15., 18., 21., 24.])>)"
      ]
     },
     "execution_count": 18,
     "metadata": {},
     "output_type": "execute_result"
    }
   ],
   "source": [
    "# Remind ourselves of the data\n",
    "X, y"
   ]
  },
  {
   "cell_type": "code",
   "execution_count": 19,
   "id": "9e130a20",
   "metadata": {},
   "outputs": [
    {
     "name": "stdout",
     "output_type": "stream",
     "text": [
      "1/1 [==============================] - 0s 146ms/step\n"
     ]
    },
    {
     "data": {
      "text/plain": [
       "array([[32.074795]], dtype=float32)"
      ]
     },
     "execution_count": 19,
     "metadata": {},
     "output_type": "execute_result"
    }
   ],
   "source": [
    "# Check if the model's prediction has improved...\n",
    "model.predict([17.])"
   ]
  },
  {
   "cell_type": "code",
   "execution_count": null,
   "id": "883941b4",
   "metadata": {},
   "outputs": [],
   "source": []
  },
  {
   "cell_type": "code",
   "execution_count": 20,
   "id": "0cc87495",
   "metadata": {},
   "outputs": [
    {
     "name": "stdout",
     "output_type": "stream",
     "text": [
      "Epoch 1/100\n",
      "1/1 [==============================] - 1s 665ms/step - loss: 14.0262 - mae: 14.0262\n",
      "Epoch 2/100\n",
      "1/1 [==============================] - 0s 6ms/step - loss: 13.1732 - mae: 13.1732\n",
      "Epoch 3/100\n",
      "1/1 [==============================] - 0s 4ms/step - loss: 12.3446 - mae: 12.3446\n",
      "Epoch 4/100\n",
      "1/1 [==============================] - 0s 10ms/step - loss: 11.5259 - mae: 11.5259\n",
      "Epoch 5/100\n",
      "1/1 [==============================] - 0s 6ms/step - loss: 10.9078 - mae: 10.9078\n",
      "Epoch 6/100\n",
      "1/1 [==============================] - 0s 5ms/step - loss: 10.3041 - mae: 10.3041\n",
      "Epoch 7/100\n",
      "1/1 [==============================] - 0s 5ms/step - loss: 9.6914 - mae: 9.6914\n",
      "Epoch 8/100\n",
      "1/1 [==============================] - 0s 5ms/step - loss: 9.0710 - mae: 9.0710\n",
      "Epoch 9/100\n",
      "1/1 [==============================] - 0s 5ms/step - loss: 8.4391 - mae: 8.4391\n",
      "Epoch 10/100\n",
      "1/1 [==============================] - 0s 7ms/step - loss: 7.7877 - mae: 7.7877\n",
      "Epoch 11/100\n",
      "1/1 [==============================] - 0s 5ms/step - loss: 7.1133 - mae: 7.1133\n",
      "Epoch 12/100\n",
      "1/1 [==============================] - 0s 5ms/step - loss: 6.4111 - mae: 6.4111\n",
      "Epoch 13/100\n",
      "1/1 [==============================] - 0s 7ms/step - loss: 5.6787 - mae: 5.6787\n",
      "Epoch 14/100\n",
      "1/1 [==============================] - 0s 6ms/step - loss: 4.9143 - mae: 4.9143\n",
      "Epoch 15/100\n",
      "1/1 [==============================] - 0s 5ms/step - loss: 4.1127 - mae: 4.1127\n",
      "Epoch 16/100\n",
      "1/1 [==============================] - 0s 6ms/step - loss: 3.7623 - mae: 3.7623\n",
      "Epoch 17/100\n",
      "1/1 [==============================] - 0s 5ms/step - loss: 3.8382 - mae: 3.8382\n",
      "Epoch 18/100\n",
      "1/1 [==============================] - 0s 5ms/step - loss: 3.9796 - mae: 3.9796\n",
      "Epoch 19/100\n",
      "1/1 [==============================] - 0s 7ms/step - loss: 4.3183 - mae: 4.3183\n",
      "Epoch 20/100\n",
      "1/1 [==============================] - 0s 5ms/step - loss: 4.5872 - mae: 4.5872\n",
      "Epoch 21/100\n",
      "1/1 [==============================] - 0s 6ms/step - loss: 4.7527 - mae: 4.7527\n",
      "Epoch 22/100\n",
      "1/1 [==============================] - 0s 4ms/step - loss: 4.8256 - mae: 4.8256\n",
      "Epoch 23/100\n",
      "1/1 [==============================] - 0s 6ms/step - loss: 4.8186 - mae: 4.8186\n",
      "Epoch 24/100\n",
      "1/1 [==============================] - 0s 5ms/step - loss: 4.7427 - mae: 4.7427\n",
      "Epoch 25/100\n",
      "1/1 [==============================] - 0s 5ms/step - loss: 4.6072 - mae: 4.6072\n",
      "Epoch 26/100\n",
      "1/1 [==============================] - 0s 6ms/step - loss: 4.4205 - mae: 4.4205\n",
      "Epoch 27/100\n",
      "1/1 [==============================] - 0s 5ms/step - loss: 4.1933 - mae: 4.1933\n",
      "Epoch 28/100\n",
      "1/1 [==============================] - 0s 5ms/step - loss: 3.9356 - mae: 3.9356\n",
      "Epoch 29/100\n",
      "1/1 [==============================] - 0s 6ms/step - loss: 3.6573 - mae: 3.6573\n",
      "Epoch 30/100\n",
      "1/1 [==============================] - 0s 5ms/step - loss: 3.5333 - mae: 3.5333\n",
      "Epoch 31/100\n",
      "1/1 [==============================] - 0s 4ms/step - loss: 3.4090 - mae: 3.4090\n",
      "Epoch 32/100\n",
      "1/1 [==============================] - 0s 6ms/step - loss: 3.2908 - mae: 3.2908\n",
      "Epoch 33/100\n",
      "1/1 [==============================] - 0s 7ms/step - loss: 3.1753 - mae: 3.1753\n",
      "Epoch 34/100\n",
      "1/1 [==============================] - 0s 5ms/step - loss: 3.2305 - mae: 3.2305\n",
      "Epoch 35/100\n",
      "1/1 [==============================] - 0s 5ms/step - loss: 3.2860 - mae: 3.2860\n",
      "Epoch 36/100\n",
      "1/1 [==============================] - 0s 8ms/step - loss: 3.2884 - mae: 3.2884\n",
      "Epoch 37/100\n",
      "1/1 [==============================] - 0s 4ms/step - loss: 3.2380 - mae: 3.2380\n",
      "Epoch 38/100\n",
      "1/1 [==============================] - 0s 5ms/step - loss: 3.1945 - mae: 3.1945\n",
      "Epoch 39/100\n",
      "1/1 [==============================] - 0s 5ms/step - loss: 3.1224 - mae: 3.1224\n",
      "Epoch 40/100\n",
      "1/1 [==============================] - 0s 5ms/step - loss: 3.0240 - mae: 3.0240\n",
      "Epoch 41/100\n",
      "1/1 [==============================] - 0s 5ms/step - loss: 2.8998 - mae: 2.8998\n",
      "Epoch 42/100\n",
      "1/1 [==============================] - 0s 6ms/step - loss: 2.7516 - mae: 2.7516\n",
      "Epoch 43/100\n",
      "1/1 [==============================] - 0s 6ms/step - loss: 2.7386 - mae: 2.7386\n",
      "Epoch 44/100\n",
      "1/1 [==============================] - 0s 5ms/step - loss: 2.6993 - mae: 2.6993\n",
      "Epoch 45/100\n",
      "1/1 [==============================] - 0s 5ms/step - loss: 2.6590 - mae: 2.6590\n",
      "Epoch 46/100\n",
      "1/1 [==============================] - 0s 6ms/step - loss: 2.5996 - mae: 2.5996\n",
      "Epoch 47/100\n",
      "1/1 [==============================] - 0s 5ms/step - loss: 2.5306 - mae: 2.5306\n",
      "Epoch 48/100\n",
      "1/1 [==============================] - 0s 6ms/step - loss: 2.4475 - mae: 2.4475\n",
      "Epoch 49/100\n",
      "1/1 [==============================] - 0s 6ms/step - loss: 2.3457 - mae: 2.3457\n",
      "Epoch 50/100\n",
      "1/1 [==============================] - 0s 6ms/step - loss: 2.2312 - mae: 2.2312\n",
      "Epoch 51/100\n",
      "1/1 [==============================] - 0s 5ms/step - loss: 2.1174 - mae: 2.1174\n",
      "Epoch 52/100\n",
      "1/1 [==============================] - 0s 5ms/step - loss: 1.9909 - mae: 1.9909\n",
      "Epoch 53/100\n",
      "1/1 [==============================] - 0s 6ms/step - loss: 1.8458 - mae: 1.8458\n",
      "Epoch 54/100\n",
      "1/1 [==============================] - 0s 5ms/step - loss: 1.6971 - mae: 1.6971\n",
      "Epoch 55/100\n",
      "1/1 [==============================] - 0s 6ms/step - loss: 1.5957 - mae: 1.5957\n",
      "Epoch 56/100\n",
      "1/1 [==============================] - 0s 6ms/step - loss: 1.4885 - mae: 1.4885\n",
      "Epoch 57/100\n",
      "1/1 [==============================] - 0s 5ms/step - loss: 1.3189 - mae: 1.3189\n",
      "Epoch 58/100\n",
      "1/1 [==============================] - 0s 7ms/step - loss: 1.2051 - mae: 1.2051\n",
      "Epoch 59/100\n",
      "1/1 [==============================] - 0s 5ms/step - loss: 1.1363 - mae: 1.1363\n",
      "Epoch 60/100\n",
      "1/1 [==============================] - 0s 5ms/step - loss: 0.9679 - mae: 0.9679\n",
      "Epoch 61/100\n",
      "1/1 [==============================] - 0s 6ms/step - loss: 0.8181 - mae: 0.8181\n",
      "Epoch 62/100\n",
      "1/1 [==============================] - 0s 6ms/step - loss: 0.6479 - mae: 0.6479\n",
      "Epoch 63/100\n",
      "1/1 [==============================] - 0s 5ms/step - loss: 0.4598 - mae: 0.4598\n",
      "Epoch 64/100\n",
      "1/1 [==============================] - 0s 6ms/step - loss: 0.5187 - mae: 0.5187\n",
      "Epoch 65/100\n",
      "1/1 [==============================] - 0s 7ms/step - loss: 0.3038 - mae: 0.3038\n",
      "Epoch 66/100\n",
      "1/1 [==============================] - 0s 5ms/step - loss: 0.3388 - mae: 0.3388\n",
      "Epoch 67/100\n",
      "1/1 [==============================] - 0s 6ms/step - loss: 0.2773 - mae: 0.2773\n",
      "Epoch 68/100\n",
      "1/1 [==============================] - 0s 6ms/step - loss: 0.5756 - mae: 0.5756\n",
      "Epoch 69/100\n",
      "1/1 [==============================] - 0s 5ms/step - loss: 0.6557 - mae: 0.6557\n",
      "Epoch 70/100\n",
      "1/1 [==============================] - 0s 5ms/step - loss: 0.5189 - mae: 0.5189\n",
      "Epoch 71/100\n",
      "1/1 [==============================] - 0s 5ms/step - loss: 0.3673 - mae: 0.3673\n",
      "Epoch 72/100\n",
      "1/1 [==============================] - 0s 5ms/step - loss: 0.7155 - mae: 0.7155\n",
      "Epoch 73/100\n",
      "1/1 [==============================] - 0s 6ms/step - loss: 0.7923 - mae: 0.7923\n",
      "Epoch 74/100\n",
      "1/1 [==============================] - 0s 4ms/step - loss: 0.4846 - mae: 0.4846\n",
      "Epoch 75/100\n",
      "1/1 [==============================] - 0s 5ms/step - loss: 0.5539 - mae: 0.5539\n",
      "Epoch 76/100\n",
      "1/1 [==============================] - 0s 6ms/step - loss: 0.7002 - mae: 0.7002\n",
      "Epoch 77/100\n",
      "1/1 [==============================] - 0s 5ms/step - loss: 0.5928 - mae: 0.5928\n",
      "Epoch 78/100\n",
      "1/1 [==============================] - 0s 4ms/step - loss: 0.4621 - mae: 0.4621\n",
      "Epoch 79/100\n",
      "1/1 [==============================] - 0s 5ms/step - loss: 0.2856 - mae: 0.2856\n",
      "Epoch 80/100\n",
      "1/1 [==============================] - 0s 5ms/step - loss: 0.4113 - mae: 0.4113\n",
      "Epoch 81/100\n",
      "1/1 [==============================] - 0s 6ms/step - loss: 0.3114 - mae: 0.3114\n",
      "Epoch 82/100\n",
      "1/1 [==============================] - 0s 5ms/step - loss: 0.2856 - mae: 0.2856\n",
      "Epoch 83/100\n",
      "1/1 [==============================] - 0s 5ms/step - loss: 0.4250 - mae: 0.4250\n",
      "Epoch 84/100\n",
      "1/1 [==============================] - 0s 6ms/step - loss: 0.3376 - mae: 0.3376\n",
      "Epoch 85/100\n",
      "1/1 [==============================] - 0s 5ms/step - loss: 0.2399 - mae: 0.2399\n",
      "Epoch 86/100\n",
      "1/1 [==============================] - 0s 6ms/step - loss: 0.3898 - mae: 0.3898\n",
      "Epoch 87/100\n",
      "1/1 [==============================] - 0s 5ms/step - loss: 0.4398 - mae: 0.4398\n",
      "Epoch 88/100\n",
      "1/1 [==============================] - 0s 7ms/step - loss: 0.3341 - mae: 0.3341\n",
      "Epoch 89/100\n"
     ]
    },
    {
     "name": "stdout",
     "output_type": "stream",
     "text": [
      "1/1 [==============================] - 0s 5ms/step - loss: 0.2312 - mae: 0.2312\n",
      "Epoch 90/100\n",
      "1/1 [==============================] - 0s 14ms/step - loss: 0.3051 - mae: 0.3051\n",
      "Epoch 91/100\n",
      "1/1 [==============================] - 0s 5ms/step - loss: 0.2890 - mae: 0.2890\n",
      "Epoch 92/100\n",
      "1/1 [==============================] - 0s 5ms/step - loss: 0.2147 - mae: 0.2147\n",
      "Epoch 93/100\n",
      "1/1 [==============================] - 0s 6ms/step - loss: 0.2526 - mae: 0.2526\n",
      "Epoch 94/100\n",
      "1/1 [==============================] - 0s 5ms/step - loss: 0.1509 - mae: 0.1509\n",
      "Epoch 95/100\n",
      "1/1 [==============================] - 0s 5ms/step - loss: 0.1626 - mae: 0.1626\n",
      "Epoch 96/100\n",
      "1/1 [==============================] - 0s 5ms/step - loss: 0.1249 - mae: 0.1249\n",
      "Epoch 97/100\n",
      "1/1 [==============================] - 0s 5ms/step - loss: 0.1453 - mae: 0.1453\n",
      "Epoch 98/100\n",
      "1/1 [==============================] - 0s 6ms/step - loss: 0.1241 - mae: 0.1241\n",
      "Epoch 99/100\n",
      "1/1 [==============================] - 0s 6ms/step - loss: 0.1950 - mae: 0.1950\n",
      "Epoch 100/100\n",
      "1/1 [==============================] - 0s 5ms/step - loss: 0.1715 - mae: 0.1715\n"
     ]
    },
    {
     "data": {
      "text/plain": [
       "<keras.callbacks.History at 0x1d96bf5d550>"
      ]
     },
     "execution_count": 20,
     "metadata": {},
     "output_type": "execute_result"
    }
   ],
   "source": [
    "# 3rd experiment : add a hidden layer, more epochs, and review the learning rate, as an improvement to the model\n",
    "\n",
    "# Set a random seed (in order to have some reproducibility)\n",
    "tf.random.set_seed(42)\n",
    "\n",
    "# 1. Create a model using the Sequential API\n",
    "model = tf.keras.Sequential([\n",
    "    \n",
    "    # Adding more hidden layers, more neurons, and activation function \n",
    "    tf.keras.layers.Dense(100, activation=\"relu\"),\n",
    "    \n",
    "    tf.keras.layers.Dense(1)\n",
    "])\n",
    "\n",
    "# 2. Compile the model\n",
    "model.compile(loss=tf.keras.losses.mae, # MAE : Mean Absolute Error\n",
    "              optimizer=tf.keras.optimizers.Adam(lr=0.01),\n",
    "              metrics=[\"mae\"]\n",
    "             )\n",
    "\n",
    "# 3. Fit the model \n",
    "model.fit(tf.expand_dims(X, axis=-1),y, epochs=100) # Increasing the number of epochs\n"
   ]
  },
  {
   "cell_type": "markdown",
   "id": "94b6ecb8",
   "metadata": {},
   "source": [
    "The loss is 0.1750; this model should perform really well."
   ]
  },
  {
   "cell_type": "code",
   "execution_count": 21,
   "id": "57f0d41b",
   "metadata": {},
   "outputs": [
    {
     "data": {
      "text/plain": [
       "(<tf.Tensor: shape=(8,), dtype=float64, numpy=array([-7., -4., -1.,  2.,  5.,  8., 11., 14.])>,\n",
       " <tf.Tensor: shape=(8,), dtype=float64, numpy=array([ 3.,  6.,  9., 12., 15., 18., 21., 24.])>)"
      ]
     },
     "execution_count": 21,
     "metadata": {},
     "output_type": "execute_result"
    }
   ],
   "source": [
    "# Remind ourselves of the data\n",
    "X, y"
   ]
  },
  {
   "cell_type": "code",
   "execution_count": 22,
   "id": "c898e1c6",
   "metadata": {},
   "outputs": [
    {
     "name": "stdout",
     "output_type": "stream",
     "text": [
      "1/1 [==============================] - 0s 133ms/step\n"
     ]
    },
    {
     "data": {
      "text/plain": [
       "array([[27.381882]], dtype=float32)"
      ]
     },
     "execution_count": 22,
     "metadata": {},
     "output_type": "execute_result"
    }
   ],
   "source": [
    "# Check if the model's prediction has improved...\n",
    "model.predict([17.])"
   ]
  },
  {
   "cell_type": "markdown",
   "id": "a39358dc",
   "metadata": {},
   "source": [
    "The model as predicted 26.918, while the real value is 27. We can conclude that the prediction is pretty well.  \n",
    "**Observation** : adjusting the learning rate of our model has result in the best improvement so far."
   ]
  },
  {
   "cell_type": "code",
   "execution_count": null,
   "id": "b2408c94",
   "metadata": {},
   "outputs": [],
   "source": []
  },
  {
   "cell_type": "markdown",
   "id": "93827ad7",
   "metadata": {},
   "source": [
    "**Model improvement rules** - When improving a model :\n",
    "* **make many small changes** (experiments) and **test each one**, rather than always doing extremely large changes, because otherwise, if one does too big of a change, he might not be sure what caused the improvement or know improvement of the model.\n",
    "* **the learning rate is potentially the most important hyper-parameter that can be changed** on a neural networks in order to improve it"
   ]
  },
  {
   "cell_type": "code",
   "execution_count": null,
   "id": "fe87eb6f",
   "metadata": {},
   "outputs": [],
   "source": []
  },
  {
   "cell_type": "code",
   "execution_count": null,
   "id": "e2c5c066",
   "metadata": {},
   "outputs": [],
   "source": []
  },
  {
   "cell_type": "markdown",
   "id": "a2f52266",
   "metadata": {},
   "source": [
    "## Evaluating a model\n",
    "\n",
    "\n",
    "In practice, a typical workflow one goes through when buidling neural networks is :    \n",
    "``` Build a model -> fit it -> evaluate it -> tweak a model -> fit it evaluate it -> tweak a model -> fit it -> evaluate it -> ... ```\n",
    "\n"
   ]
  },
  {
   "cell_type": "markdown",
   "id": "5be2462e",
   "metadata": {},
   "source": [
    "When it comes to evaluation, there is one words one should memorize, and remember : **visualize**.\n",
    "\n",
    "It's a good idea to visualize : \n",
    "* The data - what data wre we working with ? What does it look like ?\n",
    "* The model itself - what does our model look like ?\n",
    "* The training of the model - how does the model perform while it learns ?\n",
    "* The predictions of the model - how do the predictions of the model line up agains the real values ?\n",
    "\n",
    "\n",
    "Let us dig into these steps here a bit further by working on a little bit of a larger problem."
   ]
  },
  {
   "cell_type": "code",
   "execution_count": 23,
   "id": "2e38f664",
   "metadata": {},
   "outputs": [
    {
     "data": {
      "text/plain": [
       "<tf.Tensor: shape=(50,), dtype=int32, numpy=\n",
       "array([-100,  -96,  -92,  -88,  -84,  -80,  -76,  -72,  -68,  -64,  -60,\n",
       "        -56,  -52,  -48,  -44,  -40,  -36,  -32,  -28,  -24,  -20,  -16,\n",
       "        -12,   -8,   -4,    0,    4,    8,   12,   16,   20,   24,   28,\n",
       "         32,   36,   40,   44,   48,   52,   56,   60,   64,   68,   72,\n",
       "         76,   80,   84,   88,   92,   96])>"
      ]
     },
     "execution_count": 23,
     "metadata": {},
     "output_type": "execute_result"
    }
   ],
   "source": [
    "# Make a bigger dataset\n",
    "X = tf.range(-100, 100, 4)\n",
    "X"
   ]
  },
  {
   "cell_type": "code",
   "execution_count": 24,
   "id": "fe6189cb",
   "metadata": {},
   "outputs": [
    {
     "data": {
      "text/plain": [
       "<tf.Tensor: shape=(50,), dtype=int32, numpy=\n",
       "array([-90, -86, -82, -78, -74, -70, -66, -62, -58, -54, -50, -46, -42,\n",
       "       -38, -34, -30, -26, -22, -18, -14, -10,  -6,  -2,   2,   6,  10,\n",
       "        14,  18,  22,  26,  30,  34,  38,  42,  46,  50,  54,  58,  62,\n",
       "        66,  70,  74,  78,  82,  86,  90,  94,  98, 102, 106])>"
      ]
     },
     "execution_count": 24,
     "metadata": {},
     "output_type": "execute_result"
    }
   ],
   "source": [
    "# Make labels for the dataset\n",
    "\n",
    "y = X + 10   # y = X + 10 is the formula(pattern) we want the model to learn\n",
    "y"
   ]
  },
  {
   "cell_type": "code",
   "execution_count": 25,
   "id": "49a40371",
   "metadata": {},
   "outputs": [
    {
     "data": {
      "text/plain": [
       "<matplotlib.collections.PathCollection at 0x1d96c02d6a0>"
      ]
     },
     "execution_count": 25,
     "metadata": {},
     "output_type": "execute_result"
    },
    {
     "data": {
      "image/png": "[encoded data removed]",
      "text/plain": [
       "<Figure size 432x288 with 1 Axes>"
      ]
     },
     "metadata": {
      "needs_background": "light"
     },
     "output_type": "display_data"
    }
   ],
   "source": [
    "# Visualize the data\n",
    "\n",
    "plt.scatter(X, y)"
   ]
  },
  {
   "cell_type": "code",
   "execution_count": null,
   "id": "56654807",
   "metadata": {},
   "outputs": [],
   "source": []
  },
  {
   "cell_type": "markdown",
   "id": "0dc0cfa7",
   "metadata": {},
   "source": [
    "### The 03 set of data\n",
    "\n",
    "* **Training set** - the model learns from this data, which is typically 70-80% of the total data available.\n",
    "* **Validation set** - the model gets tuned on this data (it is the above mentionned *tweak the model*), which is typically 10-15% of the total data available.\n",
    "* **Test set** - the model gets evaluated on this data to test what is has learned (to check how it performs on data is hasn't see before); this set is typically 10-15% of the available data."
   ]
  },
  {
   "cell_type": "code",
   "execution_count": 26,
   "id": "e1f8ed25",
   "metadata": {},
   "outputs": [
    {
     "data": {
      "text/plain": [
       "50"
      ]
     },
     "execution_count": 26,
     "metadata": {},
     "output_type": "execute_result"
    }
   ],
   "source": [
    "# Check how many samples we have\n",
    "nb_data = len(X)\n",
    "nb_data"
   ]
  },
  {
   "cell_type": "code",
   "execution_count": 27,
   "id": "9dc7d4f2",
   "metadata": {},
   "outputs": [
    {
     "data": {
      "text/plain": [
       "(40, 10, 40, 10)"
      ]
     },
     "execution_count": 27,
     "metadata": {},
     "output_type": "execute_result"
    }
   ],
   "source": [
    "# Split the data into train and test sets\n",
    "\n",
    "X_train = X[: int(nb_data*.8)] # 80% of the data\n",
    "y_train = y[: int(nb_data*.8)] # 80% of the data\n",
    "\n",
    "X_test = X[int(nb_data*.8):] # 20% of the data\n",
    "y_test = y[int(nb_data*.8):] # 20% of the data\n",
    "\n",
    "\n",
    "len(X_train), len(X_test), len(y_train), len(y_test)"
   ]
  },
  {
   "cell_type": "markdown",
   "id": "e9603622",
   "metadata": {},
   "source": [
    "### Visualizing the data\n",
    "\n",
    "Now that data was divided in training and testing sets, let's visualize it again."
   ]
  },
  {
   "cell_type": "code",
   "execution_count": 28,
   "id": "a805227d",
   "metadata": {},
   "outputs": [
    {
     "data": {
      "text/plain": [
       "<matplotlib.legend.Legend at 0x1d96c095e80>"
      ]
     },
     "execution_count": 28,
     "metadata": {},
     "output_type": "execute_result"
    },
    {
     "data": {
      "image/png": "[encoded data removed]",
      "text/plain": [
       "<Figure size 720x504 with 1 Axes>"
      ]
     },
     "metadata": {
      "needs_background": "light"
     },
     "output_type": "display_data"
    }
   ],
   "source": [
    "plt.figure( figsize=(10,7) )\n",
    "\n",
    "# Plot training data in blue\n",
    "plt.scatter(X_train, y_train, c=\"b\", label=\"Training data\")\n",
    "\n",
    "# Plot test data in green\n",
    "plt.scatter(X_test, y_test, c=\"g\", label=\"Test data\")\n",
    "\n",
    "#Show a legend\n",
    "plt.legend()"
   ]
  },
  {
   "cell_type": "code",
   "execution_count": null,
   "id": "82c45ed8",
   "metadata": {},
   "outputs": [],
   "source": []
  },
  {
   "cell_type": "markdown",
   "id": "6e2f8628",
   "metadata": {},
   "source": [
    "### Building a neural network"
   ]
  },
  {
   "cell_type": "code",
   "execution_count": 29,
   "id": "8a1f31b0",
   "metadata": {},
   "outputs": [],
   "source": [
    "# 1. Create a model\n",
    "model = tf.keras.Sequential([\n",
    "    tf.keras.layers.Dense(1)\n",
    "])\n",
    "\n",
    "# 2. Compile the model\n",
    "model.compile(loss=tf.keras.losses.mae,\n",
    "             optimizer= tf.keras.optimizers.SGD(),\n",
    "             metrics=[\"mae\"])\n",
    "\n"
   ]
  },
  {
   "cell_type": "markdown",
   "id": "c43d95e1",
   "metadata": {},
   "source": [
    "#### Visualizing the model"
   ]
  },
  {
   "cell_type": "code",
   "execution_count": null,
   "id": "86569e88",
   "metadata": {},
   "outputs": [],
   "source": []
  },
  {
   "cell_type": "code",
   "execution_count": 30,
   "id": "fe7036b7",
   "metadata": {},
   "outputs": [
    {
     "ename": "ValueError",
     "evalue": "This model has not yet been built. Build the model first by calling `build()` or by calling the model on a batch of data.",
     "output_type": "error",
     "traceback": [
      "\u001b[1;31m---------------------------------------------------------------------------\u001b[0m",
      "\u001b[1;31mValueError\u001b[0m                                Traceback (most recent call last)",
      "\u001b[1;32m<ipython-input-30-cdfdfbb4254b>\u001b[0m in \u001b[0;36m<module>\u001b[1;34m\u001b[0m\n\u001b[0;32m      1\u001b[0m \u001b[1;31m# Get an idea of what the model looks like before running it\u001b[0m\u001b[1;33m\u001b[0m\u001b[1;33m\u001b[0m\u001b[1;33m\u001b[0m\u001b[0m\n\u001b[1;32m----> 2\u001b[1;33m \u001b[0mmodel\u001b[0m\u001b[1;33m.\u001b[0m\u001b[0msummary\u001b[0m\u001b[1;33m(\u001b[0m\u001b[1;33m)\u001b[0m\u001b[1;33m\u001b[0m\u001b[1;33m\u001b[0m\u001b[0m\n\u001b[0m",
      "\u001b[1;32mC:\\ProgramData\\Anaconda3\\lib\\site-packages\\keras\\engine\\training.py\u001b[0m in \u001b[0;36msummary\u001b[1;34m(self, line_length, positions, print_fn, expand_nested, show_trainable, layer_range)\u001b[0m\n\u001b[0;32m   3212\u001b[0m         \"\"\"\n\u001b[0;32m   3213\u001b[0m         \u001b[1;32mif\u001b[0m \u001b[1;32mnot\u001b[0m \u001b[0mself\u001b[0m\u001b[1;33m.\u001b[0m\u001b[0mbuilt\u001b[0m\u001b[1;33m:\u001b[0m\u001b[1;33m\u001b[0m\u001b[1;33m\u001b[0m\u001b[0m\n\u001b[1;32m-> 3214\u001b[1;33m             raise ValueError(\n\u001b[0m\u001b[0;32m   3215\u001b[0m                 \u001b[1;34m\"This model has not yet been built. \"\u001b[0m\u001b[1;33m\u001b[0m\u001b[1;33m\u001b[0m\u001b[0m\n\u001b[0;32m   3216\u001b[0m                 \u001b[1;34m\"Build the model first by calling `build()` or by calling \"\u001b[0m\u001b[1;33m\u001b[0m\u001b[1;33m\u001b[0m\u001b[0m\n",
      "\u001b[1;31mValueError\u001b[0m: This model has not yet been built. Build the model first by calling `build()` or by calling the model on a batch of data."
     ]
    }
   ],
   "source": [
    "# Get an idea of what the model looks like before running it\n",
    "model.summary()"
   ]
  },
  {
   "cell_type": "code",
   "execution_count": 31,
   "id": "afbc8917",
   "metadata": {},
   "outputs": [
    {
     "data": {
      "text/plain": [
       "<tf.Tensor: shape=(50,), dtype=int32, numpy=\n",
       "array([-100,  -96,  -92,  -88,  -84,  -80,  -76,  -72,  -68,  -64,  -60,\n",
       "        -56,  -52,  -48,  -44,  -40,  -36,  -32,  -28,  -24,  -20,  -16,\n",
       "        -12,   -8,   -4,    0,    4,    8,   12,   16,   20,   24,   28,\n",
       "         32,   36,   40,   44,   48,   52,   56,   60,   64,   68,   72,\n",
       "         76,   80,   84,   88,   92,   96])>"
      ]
     },
     "execution_count": 31,
     "metadata": {},
     "output_type": "execute_result"
    }
   ],
   "source": [
    "X"
   ]
  },
  {
   "cell_type": "code",
   "execution_count": 32,
   "id": "c7634b89",
   "metadata": {},
   "outputs": [
    {
     "data": {
      "text/plain": [
       "1"
      ]
     },
     "execution_count": 32,
     "metadata": {},
     "output_type": "execute_result"
    }
   ],
   "source": [
    "X.ndim"
   ]
  },
  {
   "cell_type": "code",
   "execution_count": 33,
   "id": "987713a6",
   "metadata": {},
   "outputs": [
    {
     "data": {
      "text/plain": [
       "(<tf.Tensor: shape=(), dtype=int32, numpy=-100>,\n",
       " <tf.Tensor: shape=(), dtype=int32, numpy=-90>)"
      ]
     },
     "execution_count": 33,
     "metadata": {},
     "output_type": "execute_result"
    }
   ],
   "source": [
    "X[0],y[0]"
   ]
  },
  {
   "cell_type": "markdown",
   "id": "f296c106",
   "metadata": {},
   "source": [
    "* The explanation of the Prof : X[0] contains a scalar, so the input_shape of our model is 1; X[0] could contain 3 different numbers, so input_shape would be 3.    \n",
    "* My own deduction : Another way to analyze it is based on the number of dimensions of X : X.ndim return 1, which means X is represented on one dimension, so the input shape is 1."
   ]
  },
  {
   "cell_type": "code",
   "execution_count": 34,
   "id": "b1a53531",
   "metadata": {},
   "outputs": [],
   "source": [
    "# Let's create a model which builds automatically by \n",
    "#    defining the input_shape argument in the first layer (that is what is usually done in practice)\n",
    "\n",
    "tf.random.set_seed(42)\n",
    "\n",
    "# 1. Create a model (same as above)\n",
    "model = tf.keras.Sequential([\n",
    "    tf.keras.layers.Dense(1, input_shape= [X.ndim] ) # tf.keras.layers.Dense(1, input_shape= [1] )\n",
    "                                                     #     refer to the previous cell to get \n",
    "                                                     #      explanations on why input_shape= [1]   \n",
    "]) \n",
    "\n",
    "# 2. COmpile the model \n",
    "model.compile(loss=tf.keras.losses.mae,\n",
    "             optimizer = tf.keras.optimizers.SGD(),\n",
    "             metrics=[\"mae\"])\n",
    "\n",
    "\n"
   ]
  },
  {
   "cell_type": "code",
   "execution_count": 35,
   "id": "a6e064a1",
   "metadata": {},
   "outputs": [
    {
     "name": "stdout",
     "output_type": "stream",
     "text": [
      "Model: \"sequential_5\"\n",
      "_________________________________________________________________\n",
      " Layer (type)                Output Shape              Param #   \n",
      "=================================================================\n",
      " dense_10 (Dense)            (None, 1)                 2         \n",
      "                                                                 \n",
      "=================================================================\n",
      "Total params: 2\n",
      "Trainable params: 2\n",
      "Non-trainable params: 0\n",
      "_________________________________________________________________\n"
     ]
    }
   ],
   "source": [
    "model.summary()"
   ]
  },
  {
   "cell_type": "markdown",
   "id": "b7c23bc7",
   "metadata": {},
   "source": [
    ".summary() on a model show the layers it contains, the output shape, and the number of parameters of each layer.   \n",
    "   \n",
    "* The **Ouput Shape** here (None, 1) : the representation here is something I personnally need to do more research on\n",
    "* The **Layer Type** `Dense` : it is another word for `fully connected`. A fully connected layer means each neuron in the said layer connects to all neurons in the next layer.\n",
    "* There are 2 **Params** :  \n",
    " - **Total params** : total number of parameters in the model; these are the patterns that the model is going to learn\n",
    " - **Trainable parameters** : these are the parameters (patterns) the model can update as it trains\n",
    " - **Non-trainable params** : these are the patterns the model cannot update as it trains; when we import a model that has already learned patterns in data (**transfer learning**), we might freeze those learned patterns so that the model retains what it already knows"
   ]
  },
  {
   "cell_type": "markdown",
   "id": "dd0bebde",
   "metadata": {},
   "source": [
    "📖 **Resource**: For a more in-depth overview of the trainable parameters within a layer, check out MIT's introduction to deep learning video at http://introtodeeplearning.com/ "
   ]
  },
  {
   "cell_type": "markdown",
   "id": "4a3aa920",
   "metadata": {},
   "source": [
    "🛠️**Exercise**: Try playing around with the number of hdden units in the dense layer, see how that effects the number of parameters (total and trainable) by calling `model.summary()`"
   ]
  },
  {
   "cell_type": "code",
   "execution_count": 36,
   "id": "f9bb768b",
   "metadata": {},
   "outputs": [
    {
     "name": "stdout",
     "output_type": "stream",
     "text": [
      "Model: \"sequential_6\"\n",
      "_________________________________________________________________\n",
      " Layer (type)                Output Shape              Param #   \n",
      "=================================================================\n",
      " dense_11 (Dense)            (None, 3)                 6         \n",
      "                                                                 \n",
      "=================================================================\n",
      "Total params: 6\n",
      "Trainable params: 6\n",
      "Non-trainable params: 0\n",
      "_________________________________________________________________\n"
     ]
    }
   ],
   "source": [
    "tf.random.set_seed(42)\n",
    "\n",
    "# 1. Create a model (same as above)\n",
    "model = tf.keras.Sequential([\n",
    "    tf.keras.layers.Dense(3, input_shape= [X.ndim] )  \n",
    "]) \n",
    "\n",
    "# 2. COmpile the model \n",
    "model.compile(loss=tf.keras.losses.mae,\n",
    "             optimizer = tf.keras.optimizers.SGD(),\n",
    "             metrics=[\"mae\"])\n",
    "\n",
    "\n",
    "model.summary()"
   ]
  },
  {
   "cell_type": "code",
   "execution_count": null,
   "id": "257f63ee",
   "metadata": {},
   "outputs": [],
   "source": []
  },
  {
   "cell_type": "code",
   "execution_count": null,
   "id": "5f285645",
   "metadata": {},
   "outputs": [],
   "source": []
  },
  {
   "cell_type": "code",
   "execution_count": 37,
   "id": "7dec1a2f",
   "metadata": {},
   "outputs": [
    {
     "name": "stdout",
     "output_type": "stream",
     "text": [
      "Model: \"sequential_7\"\n",
      "_________________________________________________________________\n",
      " Layer (type)                Output Shape              Param #   \n",
      "=================================================================\n",
      " dense_12 (Dense)            (None, 1)                 2         \n",
      "                                                                 \n",
      "=================================================================\n",
      "Total params: 2\n",
      "Trainable params: 2\n",
      "Non-trainable params: 0\n",
      "_________________________________________________________________\n"
     ]
    }
   ],
   "source": [
    "# Let us change the number of neuro from 3 to 1\n",
    "\n",
    "tf.random.set_seed(42)\n",
    "\n",
    "# 1. Create a model (same as above)\n",
    "model = tf.keras.Sequential([\n",
    "    tf.keras.layers.Dense(1, input_shape= [X.ndim] )  \n",
    "]) \n",
    "\n",
    "# 2. COmpile the model \n",
    "model.compile(loss=tf.keras.losses.mae,\n",
    "             optimizer = tf.keras.optimizers.SGD(),\n",
    "             metrics=[\"mae\"])\n",
    "\n",
    "\n",
    "model.summary()"
   ]
  },
  {
   "cell_type": "code",
   "execution_count": 38,
   "id": "5d2f8b23",
   "metadata": {},
   "outputs": [
    {
     "name": "stdout",
     "output_type": "stream",
     "text": [
      "Epoch 1/100\n",
      "2/2 [==============================] - 0s 4ms/step - loss: 9.1489 - mae: 9.1489\n",
      "Epoch 2/100\n",
      "2/2 [==============================] - 0s 3ms/step - loss: 8.5725 - mae: 8.5725\n",
      "Epoch 3/100\n",
      "2/2 [==============================] - 0s 5ms/step - loss: 13.8516 - mae: 13.8516\n",
      "Epoch 4/100\n",
      "2/2 [==============================] - 0s 5ms/step - loss: 7.5694 - mae: 7.5694\n",
      "Epoch 5/100\n",
      "2/2 [==============================] - 0s 3ms/step - loss: 11.9853 - mae: 11.9853\n",
      "Epoch 6/100\n",
      "2/2 [==============================] - 0s 4ms/step - loss: 9.2708 - mae: 9.2708\n",
      "Epoch 7/100\n",
      "2/2 [==============================] - 0s 4ms/step - loss: 8.4364 - mae: 8.4364\n",
      "Epoch 8/100\n",
      "2/2 [==============================] - 0s 4ms/step - loss: 9.0281 - mae: 9.0281\n",
      "Epoch 9/100\n",
      "2/2 [==============================] - 0s 3ms/step - loss: 18.4256 - mae: 18.4256\n",
      "Epoch 10/100\n",
      "2/2 [==============================] - 0s 3ms/step - loss: 9.9293 - mae: 9.9293\n",
      "Epoch 11/100\n",
      "2/2 [==============================] - 0s 4ms/step - loss: 8.3230 - mae: 8.3230\n",
      "Epoch 12/100\n",
      "2/2 [==============================] - 0s 3ms/step - loss: 10.5148 - mae: 10.5148\n",
      "Epoch 13/100\n",
      "2/2 [==============================] - 0s 6ms/step - loss: 9.7352 - mae: 9.7352\n",
      "Epoch 14/100\n",
      "2/2 [==============================] - 0s 3ms/step - loss: 15.6636 - mae: 15.6636\n",
      "Epoch 15/100\n",
      "2/2 [==============================] - 0s 2ms/step - loss: 11.6724 - mae: 11.6724\n",
      "Epoch 16/100\n",
      "2/2 [==============================] - 0s 3ms/step - loss: 8.4542 - mae: 8.4542\n",
      "Epoch 17/100\n",
      "2/2 [==============================] - 0s 4ms/step - loss: 13.4435 - mae: 13.4435\n",
      "Epoch 18/100\n",
      "2/2 [==============================] - 0s 5ms/step - loss: 11.2253 - mae: 11.2253\n",
      "Epoch 19/100\n",
      "2/2 [==============================] - 0s 5ms/step - loss: 18.2884 - mae: 18.2884\n",
      "Epoch 20/100\n",
      "2/2 [==============================] - 0s 4ms/step - loss: 14.9943 - mae: 14.9943\n",
      "Epoch 21/100\n",
      "2/2 [==============================] - 0s 3ms/step - loss: 10.8660 - mae: 10.8660\n",
      "Epoch 22/100\n",
      "2/2 [==============================] - 0s 4ms/step - loss: 8.6197 - mae: 8.6197\n",
      "Epoch 23/100\n",
      "2/2 [==============================] - 0s 5ms/step - loss: 9.6833 - mae: 9.6833\n",
      "Epoch 24/100\n",
      "2/2 [==============================] - 0s 3ms/step - loss: 8.5757 - mae: 8.5757\n",
      "Epoch 25/100\n",
      "2/2 [==============================] - 0s 3ms/step - loss: 11.5880 - mae: 11.5880\n",
      "Epoch 26/100\n",
      "2/2 [==============================] - 0s 4ms/step - loss: 15.1308 - mae: 15.1308\n",
      "Epoch 27/100\n",
      "2/2 [==============================] - 0s 4ms/step - loss: 12.0231 - mae: 12.0231\n",
      "Epoch 28/100\n",
      "2/2 [==============================] - 0s 4ms/step - loss: 13.3091 - mae: 13.3091\n",
      "Epoch 29/100\n",
      "2/2 [==============================] - 0s 4ms/step - loss: 9.5877 - mae: 9.5877\n",
      "Epoch 30/100\n",
      "2/2 [==============================] - 0s 4ms/step - loss: 17.0781 - mae: 17.0781\n",
      "Epoch 31/100\n",
      "2/2 [==============================] - 0s 3ms/step - loss: 22.9683 - mae: 22.9683\n",
      "Epoch 32/100\n",
      "2/2 [==============================] - 0s 4ms/step - loss: 7.5461 - mae: 7.5461\n",
      "Epoch 33/100\n",
      "2/2 [==============================] - 0s 4ms/step - loss: 15.4212 - mae: 15.4212\n",
      "Epoch 34/100\n",
      "2/2 [==============================] - 0s 4ms/step - loss: 13.3465 - mae: 13.3465\n",
      "Epoch 35/100\n",
      "2/2 [==============================] - 0s 5ms/step - loss: 7.9750 - mae: 7.9750\n",
      "Epoch 36/100\n",
      "2/2 [==============================] - 0s 4ms/step - loss: 9.9807 - mae: 9.9807\n",
      "Epoch 37/100\n",
      "2/2 [==============================] - 0s 4ms/step - loss: 9.7301 - mae: 9.7301\n",
      "Epoch 38/100\n",
      "2/2 [==============================] - 0s 4ms/step - loss: 10.5984 - mae: 10.5984\n",
      "Epoch 39/100\n",
      "2/2 [==============================] - 0s 4ms/step - loss: 15.6627 - mae: 15.6627\n",
      "Epoch 40/100\n",
      "2/2 [==============================] - 0s 4ms/step - loss: 13.4121 - mae: 13.4121\n",
      "Epoch 41/100\n",
      "2/2 [==============================] - 0s 4ms/step - loss: 9.2695 - mae: 9.2695\n",
      "Epoch 42/100\n",
      "2/2 [==============================] - 0s 4ms/step - loss: 10.9960 - mae: 10.9960\n",
      "Epoch 43/100\n",
      "2/2 [==============================] - 0s 4ms/step - loss: 8.3269 - mae: 8.3269\n",
      "Epoch 44/100\n",
      "2/2 [==============================] - 0s 5ms/step - loss: 13.0424 - mae: 13.0424\n",
      "Epoch 45/100\n",
      "2/2 [==============================] - 0s 5ms/step - loss: 13.6708 - mae: 13.6708\n",
      "Epoch 46/100\n",
      "2/2 [==============================] - 0s 3ms/step - loss: 8.2793 - mae: 8.2793\n",
      "Epoch 47/100\n",
      "2/2 [==============================] - 0s 4ms/step - loss: 8.7174 - mae: 8.7174\n",
      "Epoch 48/100\n",
      "2/2 [==============================] - 0s 5ms/step - loss: 10.0173 - mae: 10.0173\n",
      "Epoch 49/100\n",
      "2/2 [==============================] - 0s 3ms/step - loss: 8.5024 - mae: 8.5024\n",
      "Epoch 50/100\n",
      "2/2 [==============================] - 0s 4ms/step - loss: 9.0079 - mae: 9.0079\n",
      "Epoch 51/100\n",
      "2/2 [==============================] - 0s 3ms/step - loss: 9.3663 - mae: 9.3663\n",
      "Epoch 52/100\n",
      "2/2 [==============================] - 0s 4ms/step - loss: 14.0030 - mae: 14.0030\n",
      "Epoch 53/100\n",
      "2/2 [==============================] - 0s 5ms/step - loss: 15.4294 - mae: 15.4294\n",
      "Epoch 54/100\n",
      "2/2 [==============================] - 0s 4ms/step - loss: 8.2957 - mae: 8.2957\n",
      "Epoch 55/100\n",
      "2/2 [==============================] - 0s 4ms/step - loss: 17.0784 - mae: 17.0784\n",
      "Epoch 56/100\n",
      "2/2 [==============================] - 0s 4ms/step - loss: 9.8191 - mae: 9.8191\n",
      "Epoch 57/100\n",
      "2/2 [==============================] - 0s 4ms/step - loss: 9.6750 - mae: 9.6750\n",
      "Epoch 58/100\n",
      "2/2 [==============================] - 0s 4ms/step - loss: 8.9870 - mae: 8.9870\n",
      "Epoch 59/100\n",
      "2/2 [==============================] - 0s 3ms/step - loss: 10.2099 - mae: 10.2099\n",
      "Epoch 60/100\n",
      "2/2 [==============================] - 0s 4ms/step - loss: 8.3902 - mae: 8.3902\n",
      "Epoch 61/100\n",
      "2/2 [==============================] - 0s 4ms/step - loss: 9.2173 - mae: 9.2173\n",
      "Epoch 62/100\n",
      "2/2 [==============================] - 0s 4ms/step - loss: 7.2719 - mae: 7.2719\n",
      "Epoch 63/100\n",
      "2/2 [==============================] - 0s 4ms/step - loss: 8.1790 - mae: 8.1790\n",
      "Epoch 64/100\n",
      "2/2 [==============================] - 0s 3ms/step - loss: 12.5571 - mae: 12.5571\n",
      "Epoch 65/100\n",
      "2/2 [==============================] - 0s 4ms/step - loss: 10.6374 - mae: 10.6374\n",
      "Epoch 66/100\n",
      "2/2 [==============================] - 0s 4ms/step - loss: 15.4363 - mae: 15.4363\n",
      "Epoch 67/100\n",
      "2/2 [==============================] - 0s 3ms/step - loss: 9.8839 - mae: 9.8839\n",
      "Epoch 68/100\n",
      "2/2 [==============================] - 0s 4ms/step - loss: 8.6647 - mae: 8.6647\n",
      "Epoch 69/100\n",
      "2/2 [==============================] - 0s 3ms/step - loss: 13.3095 - mae: 13.3095\n",
      "Epoch 70/100\n",
      "2/2 [==============================] - 0s 4ms/step - loss: 7.8518 - mae: 7.8518\n",
      "Epoch 71/100\n",
      "2/2 [==============================] - 0s 4ms/step - loss: 11.3573 - mae: 11.3573\n",
      "Epoch 72/100\n",
      "2/2 [==============================] - 0s 4ms/step - loss: 9.5489 - mae: 9.5489\n",
      "Epoch 73/100\n",
      "2/2 [==============================] - 0s 3ms/step - loss: 11.6522 - mae: 11.6522\n",
      "Epoch 74/100\n",
      "2/2 [==============================] - 0s 3ms/step - loss: 10.7431 - mae: 10.7431\n",
      "Epoch 75/100\n",
      "2/2 [==============================] - 0s 4ms/step - loss: 9.5473 - mae: 9.5473\n",
      "Epoch 76/100\n",
      "2/2 [==============================] - 0s 4ms/step - loss: 10.9949 - mae: 10.9949\n",
      "Epoch 77/100\n",
      "2/2 [==============================] - 0s 4ms/step - loss: 11.0618 - mae: 11.0618\n",
      "Epoch 78/100\n",
      "2/2 [==============================] - 0s 4ms/step - loss: 11.5804 - mae: 11.5804\n",
      "Epoch 79/100\n",
      "2/2 [==============================] - 0s 4ms/step - loss: 15.6383 - mae: 15.6383\n",
      "Epoch 80/100\n",
      "2/2 [==============================] - 0s 3ms/step - loss: 11.5597 - mae: 11.5597\n",
      "Epoch 81/100\n",
      "2/2 [==============================] - 0s 4ms/step - loss: 9.4925 - mae: 9.4925\n",
      "Epoch 82/100\n",
      "2/2 [==============================] - 0s 3ms/step - loss: 12.5503 - mae: 12.5503\n",
      "Epoch 83/100\n",
      "2/2 [==============================] - 0s 3ms/step - loss: 8.1527 - mae: 8.1527\n",
      "Epoch 84/100\n",
      "2/2 [==============================] - 0s 4ms/step - loss: 7.5450 - mae: 7.5450\n",
      "Epoch 85/100\n",
      "2/2 [==============================] - 0s 4ms/step - loss: 9.7384 - mae: 9.7384\n",
      "Epoch 86/100\n",
      "2/2 [==============================] - 0s 4ms/step - loss: 9.0425 - mae: 9.0425\n",
      "Epoch 87/100\n",
      "2/2 [==============================] - 0s 3ms/step - loss: 11.6835 - mae: 11.6835\n",
      "Epoch 88/100\n"
     ]
    },
    {
     "name": "stdout",
     "output_type": "stream",
     "text": [
      "2/2 [==============================] - 0s 3ms/step - loss: 10.2828 - mae: 10.2828\n",
      "Epoch 89/100\n",
      "2/2 [==============================] - 0s 4ms/step - loss: 6.7416 - mae: 6.7416\n",
      "Epoch 90/100\n",
      "2/2 [==============================] - 0s 3ms/step - loss: 8.1118 - mae: 8.1118\n",
      "Epoch 91/100\n",
      "2/2 [==============================] - 0s 4ms/step - loss: 6.8889 - mae: 6.8889\n",
      "Epoch 92/100\n",
      "2/2 [==============================] - 0s 4ms/step - loss: 8.9822 - mae: 8.9822\n",
      "Epoch 93/100\n",
      "2/2 [==============================] - 0s 4ms/step - loss: 7.4899 - mae: 7.4899\n",
      "Epoch 94/100\n",
      "2/2 [==============================] - 0s 4ms/step - loss: 9.1084 - mae: 9.1084\n",
      "Epoch 95/100\n",
      "2/2 [==============================] - 0s 4ms/step - loss: 10.5724 - mae: 10.5724\n",
      "Epoch 96/100\n",
      "2/2 [==============================] - 0s 4ms/step - loss: 10.5725 - mae: 10.5725\n",
      "Epoch 97/100\n",
      "2/2 [==============================] - 0s 4ms/step - loss: 6.9960 - mae: 6.9960\n",
      "Epoch 98/100\n",
      "2/2 [==============================] - 0s 3ms/step - loss: 9.1437 - mae: 9.1437\n",
      "Epoch 99/100\n",
      "2/2 [==============================] - 0s 4ms/step - loss: 8.9463 - mae: 8.9463\n",
      "Epoch 100/100\n",
      "2/2 [==============================] - 0s 3ms/step - loss: 13.0907 - mae: 13.0907\n"
     ]
    },
    {
     "data": {
      "text/plain": [
       "<keras.callbacks.History at 0x1d96d2ba7c0>"
      ]
     },
     "execution_count": 38,
     "metadata": {},
     "output_type": "execute_result"
    }
   ],
   "source": [
    "# 3. Fit the model to the training data for 100 epochs\n",
    "model.fit(X_train, y_train, epochs=100, verbose=1)"
   ]
  },
  {
   "cell_type": "code",
   "execution_count": 39,
   "id": "2f299920",
   "metadata": {},
   "outputs": [
    {
     "name": "stdout",
     "output_type": "stream",
     "text": [
      "Epoch 1/100\n",
      "2/2 [==============================] - 0s 3ms/step - loss: 12.0328 - mae: 12.0328\n",
      "Epoch 2/100\n",
      "2/2 [==============================] - 0s 5ms/step - loss: 8.4213 - mae: 8.4213\n",
      "Epoch 3/100\n",
      "2/2 [==============================] - 0s 5ms/step - loss: 11.1015 - mae: 11.1015\n",
      "Epoch 4/100\n",
      "2/2 [==============================] - 0s 4ms/step - loss: 8.5921 - mae: 8.5921\n",
      "Epoch 5/100\n",
      "2/2 [==============================] - 0s 5ms/step - loss: 9.5339 - mae: 9.5339\n",
      "Epoch 6/100\n",
      "2/2 [==============================] - 0s 5ms/step - loss: 8.7300 - mae: 8.7300\n",
      "Epoch 7/100\n",
      "2/2 [==============================] - 0s 4ms/step - loss: 7.8561 - mae: 7.8561\n",
      "Epoch 8/100\n",
      "2/2 [==============================] - 0s 3ms/step - loss: 8.0888 - mae: 8.0888\n",
      "Epoch 9/100\n",
      "2/2 [==============================] - 0s 3ms/step - loss: 18.7513 - mae: 18.7513\n",
      "Epoch 10/100\n",
      "2/2 [==============================] - 0s 4ms/step - loss: 9.1735 - mae: 9.1735\n",
      "Epoch 11/100\n",
      "2/2 [==============================] - 0s 4ms/step - loss: 7.4647 - mae: 7.4647\n",
      "Epoch 12/100\n",
      "2/2 [==============================] - 0s 5ms/step - loss: 9.7268 - mae: 9.7268\n",
      "Epoch 13/100\n",
      "2/2 [==============================] - 0s 4ms/step - loss: 8.8425 - mae: 8.8425\n",
      "Epoch 14/100\n",
      "2/2 [==============================] - 0s 4ms/step - loss: 15.5738 - mae: 15.5738\n",
      "Epoch 15/100\n",
      "2/2 [==============================] - 0s 4ms/step - loss: 11.0875 - mae: 11.0875\n",
      "Epoch 16/100\n",
      "2/2 [==============================] - 0s 6ms/step - loss: 7.7101 - mae: 7.7101\n",
      "Epoch 17/100\n",
      "2/2 [==============================] - 0s 4ms/step - loss: 12.7502 - mae: 12.7502\n",
      "Epoch 18/100\n",
      "2/2 [==============================] - 0s 6ms/step - loss: 10.0192 - mae: 10.0192\n",
      "Epoch 19/100\n",
      "2/2 [==============================] - 0s 5ms/step - loss: 19.1101 - mae: 19.1101\n",
      "Epoch 20/100\n",
      "2/2 [==============================] - 0s 4ms/step - loss: 9.1545 - mae: 9.1545\n",
      "Epoch 21/100\n",
      "2/2 [==============================] - 0s 4ms/step - loss: 7.2689 - mae: 7.2689\n",
      "Epoch 22/100\n",
      "2/2 [==============================] - 0s 4ms/step - loss: 8.6896 - mae: 8.6896\n",
      "Epoch 23/100\n",
      "2/2 [==============================] - 0s 4ms/step - loss: 9.7997 - mae: 9.7997\n",
      "Epoch 24/100\n",
      "2/2 [==============================] - 0s 4ms/step - loss: 14.1237 - mae: 14.1237\n",
      "Epoch 25/100\n",
      "2/2 [==============================] - 0s 4ms/step - loss: 10.6580 - mae: 10.6580\n",
      "Epoch 26/100\n",
      "2/2 [==============================] - 0s 5ms/step - loss: 11.6877 - mae: 11.6877\n",
      "Epoch 27/100\n",
      "2/2 [==============================] - 0s 4ms/step - loss: 9.1169 - mae: 9.1169\n",
      "Epoch 28/100\n",
      "2/2 [==============================] - 0s 4ms/step - loss: 11.9020 - mae: 11.9020\n",
      "Epoch 29/100\n",
      "2/2 [==============================] - 0s 4ms/step - loss: 8.5372 - mae: 8.5372\n",
      "Epoch 30/100\n",
      "2/2 [==============================] - 0s 4ms/step - loss: 15.5546 - mae: 15.5546\n",
      "Epoch 31/100\n",
      "2/2 [==============================] - 0s 4ms/step - loss: 23.6064 - mae: 23.6064\n",
      "Epoch 32/100\n",
      "2/2 [==============================] - 0s 4ms/step - loss: 6.3923 - mae: 6.3923\n",
      "Epoch 33/100\n",
      "2/2 [==============================] - 0s 5ms/step - loss: 8.8333 - mae: 8.8333\n",
      "Epoch 34/100\n",
      "2/2 [==============================] - 0s 4ms/step - loss: 11.2296 - mae: 11.2296\n",
      "Epoch 35/100\n",
      "2/2 [==============================] - 0s 5ms/step - loss: 11.3847 - mae: 11.3847\n",
      "Epoch 36/100\n",
      "2/2 [==============================] - 0s 4ms/step - loss: 12.2190 - mae: 12.2190\n",
      "Epoch 37/100\n",
      "2/2 [==============================] - 0s 4ms/step - loss: 8.6937 - mae: 8.6937\n",
      "Epoch 38/100\n",
      "2/2 [==============================] - 0s 4ms/step - loss: 9.4284 - mae: 9.4284\n",
      "Epoch 39/100\n",
      "2/2 [==============================] - 0s 4ms/step - loss: 15.2627 - mae: 15.2627\n",
      "Epoch 40/100\n",
      "2/2 [==============================] - 0s 5ms/step - loss: 12.6091 - mae: 12.6091\n",
      "Epoch 41/100\n",
      "2/2 [==============================] - 0s 4ms/step - loss: 8.3712 - mae: 8.3712\n",
      "Epoch 42/100\n",
      "2/2 [==============================] - 0s 4ms/step - loss: 10.0845 - mae: 10.0845\n",
      "Epoch 43/100\n",
      "2/2 [==============================] - 0s 4ms/step - loss: 7.4236 - mae: 7.4236\n",
      "Epoch 44/100\n",
      "2/2 [==============================] - 0s 5ms/step - loss: 15.3370 - mae: 15.3370\n",
      "Epoch 45/100\n",
      "2/2 [==============================] - 0s 5ms/step - loss: 12.6945 - mae: 12.6945\n",
      "Epoch 46/100\n",
      "2/2 [==============================] - 0s 5ms/step - loss: 7.1880 - mae: 7.1880\n",
      "Epoch 47/100\n",
      "2/2 [==============================] - 0s 4ms/step - loss: 7.9053 - mae: 7.9053\n",
      "Epoch 48/100\n",
      "2/2 [==============================] - 0s 5ms/step - loss: 9.2399 - mae: 9.2399\n",
      "Epoch 49/100\n",
      "2/2 [==============================] - 0s 4ms/step - loss: 7.6998 - mae: 7.6998\n",
      "Epoch 50/100\n",
      "2/2 [==============================] - 0s 4ms/step - loss: 8.2671 - mae: 8.2671\n",
      "Epoch 51/100\n",
      "2/2 [==============================] - 0s 5ms/step - loss: 8.4625 - mae: 8.4625\n",
      "Epoch 52/100\n",
      "2/2 [==============================] - 0s 4ms/step - loss: 14.0450 - mae: 14.0450\n",
      "Epoch 53/100\n",
      "2/2 [==============================] - 0s 4ms/step - loss: 14.5554 - mae: 14.5554\n",
      "Epoch 54/100\n",
      "2/2 [==============================] - 0s 3ms/step - loss: 14.2558 - mae: 14.2558\n",
      "Epoch 55/100\n",
      "2/2 [==============================] - 0s 4ms/step - loss: 18.6464 - mae: 18.6464\n",
      "Epoch 56/100\n",
      "2/2 [==============================] - 0s 4ms/step - loss: 6.6216 - mae: 6.6216\n",
      "Epoch 57/100\n",
      "2/2 [==============================] - 0s 4ms/step - loss: 12.0951 - mae: 12.0951\n",
      "Epoch 58/100\n",
      "2/2 [==============================] - 0s 4ms/step - loss: 8.0495 - mae: 8.0495\n",
      "Epoch 59/100\n",
      "2/2 [==============================] - 0s 3ms/step - loss: 9.2815 - mae: 9.2815\n",
      "Epoch 60/100\n",
      "2/2 [==============================] - 0s 4ms/step - loss: 7.4609 - mae: 7.4609\n",
      "Epoch 61/100\n",
      "2/2 [==============================] - 0s 5ms/step - loss: 8.3113 - mae: 8.3113\n",
      "Epoch 62/100\n",
      "2/2 [==============================] - 0s 5ms/step - loss: 6.3022 - mae: 6.3022\n",
      "Epoch 63/100\n",
      "2/2 [==============================] - 0s 4ms/step - loss: 7.2973 - mae: 7.2973\n",
      "Epoch 64/100\n",
      "2/2 [==============================] - 0s 4ms/step - loss: 12.0741 - mae: 12.0741\n",
      "Epoch 65/100\n",
      "2/2 [==============================] - 0s 3ms/step - loss: 9.1399 - mae: 9.1399\n",
      "Epoch 66/100\n",
      "2/2 [==============================] - 0s 5ms/step - loss: 15.5147 - mae: 15.5147\n",
      "Epoch 67/100\n",
      "2/2 [==============================] - 0s 5ms/step - loss: 9.4476 - mae: 9.4476\n",
      "Epoch 68/100\n",
      "2/2 [==============================] - 0s 3ms/step - loss: 7.3239 - mae: 7.3239\n",
      "Epoch 69/100\n",
      "2/2 [==============================] - 0s 5ms/step - loss: 13.3084 - mae: 13.3084\n",
      "Epoch 70/100\n",
      "2/2 [==============================] - 0s 4ms/step - loss: 6.4797 - mae: 6.4797\n",
      "Epoch 71/100\n",
      "2/2 [==============================] - 0s 3ms/step - loss: 11.5637 - mae: 11.5637\n",
      "Epoch 72/100\n",
      "2/2 [==============================] - 0s 5ms/step - loss: 9.5934 - mae: 9.5934\n",
      "Epoch 73/100\n",
      "2/2 [==============================] - 0s 3ms/step - loss: 8.5341 - mae: 8.5341\n",
      "Epoch 74/100\n",
      "2/2 [==============================] - 0s 4ms/step - loss: 14.7763 - mae: 14.7763\n",
      "Epoch 75/100\n",
      "2/2 [==============================] - 0s 4ms/step - loss: 8.2250 - mae: 8.2250\n",
      "Epoch 76/100\n",
      "2/2 [==============================] - 0s 4ms/step - loss: 8.5696 - mae: 8.5696\n",
      "Epoch 77/100\n",
      "2/2 [==============================] - 0s 3ms/step - loss: 10.7127 - mae: 10.7127\n",
      "Epoch 78/100\n",
      "2/2 [==============================] - 0s 4ms/step - loss: 11.6618 - mae: 11.6618\n",
      "Epoch 79/100\n",
      "2/2 [==============================] - 0s 3ms/step - loss: 14.6059 - mae: 14.6059\n",
      "Epoch 80/100\n",
      "2/2 [==============================] - 0s 3ms/step - loss: 11.0439 - mae: 11.0439\n",
      "Epoch 81/100\n",
      "2/2 [==============================] - 0s 4ms/step - loss: 10.1890 - mae: 10.1890\n",
      "Epoch 82/100\n",
      "2/2 [==============================] - 0s 4ms/step - loss: 7.0869 - mae: 7.0869\n",
      "Epoch 83/100\n",
      "2/2 [==============================] - 0s 4ms/step - loss: 8.1014 - mae: 8.1014\n",
      "Epoch 84/100\n",
      "2/2 [==============================] - 0s 4ms/step - loss: 7.3014 - mae: 7.3014\n",
      "Epoch 85/100\n",
      "2/2 [==============================] - 0s 4ms/step - loss: 14.2203 - mae: 14.2203\n",
      "Epoch 86/100\n",
      "2/2 [==============================] - 0s 4ms/step - loss: 12.9251 - mae: 12.9251\n",
      "Epoch 87/100\n",
      "2/2 [==============================] - 0s 4ms/step - loss: 12.3914 - mae: 12.3914\n",
      "Epoch 88/100\n"
     ]
    },
    {
     "name": "stdout",
     "output_type": "stream",
     "text": [
      "2/2 [==============================] - 0s 4ms/step - loss: 10.7006 - mae: 10.7006\n",
      "Epoch 89/100\n",
      "2/2 [==============================] - 0s 4ms/step - loss: 6.0201 - mae: 6.0201\n",
      "Epoch 90/100\n",
      "2/2 [==============================] - 0s 5ms/step - loss: 12.9366 - mae: 12.9366\n",
      "Epoch 91/100\n",
      "2/2 [==============================] - 0s 3ms/step - loss: 6.8834 - mae: 6.8834\n",
      "Epoch 92/100\n",
      "2/2 [==============================] - 0s 4ms/step - loss: 7.1080 - mae: 7.1080\n",
      "Epoch 93/100\n",
      "2/2 [==============================] - 0s 5ms/step - loss: 8.5357 - mae: 8.5357\n",
      "Epoch 94/100\n",
      "2/2 [==============================] - 0s 4ms/step - loss: 7.8858 - mae: 7.8858\n",
      "Epoch 95/100\n",
      "2/2 [==============================] - 0s 3ms/step - loss: 11.3676 - mae: 11.3676\n",
      "Epoch 96/100\n",
      "2/2 [==============================] - 0s 4ms/step - loss: 8.3992 - mae: 8.3992\n",
      "Epoch 97/100\n",
      "2/2 [==============================] - 0s 4ms/step - loss: 12.1466 - mae: 12.1466\n",
      "Epoch 98/100\n",
      "2/2 [==============================] - 0s 4ms/step - loss: 7.4631 - mae: 7.4631\n",
      "Epoch 99/100\n",
      "2/2 [==============================] - 0s 4ms/step - loss: 8.2081 - mae: 8.2081\n",
      "Epoch 100/100\n",
      "2/2 [==============================] - 0s 3ms/step - loss: 9.6786 - mae: 9.6786\n"
     ]
    },
    {
     "data": {
      "text/plain": [
       "<keras.callbacks.History at 0x1d96d2c2ac0>"
      ]
     },
     "execution_count": 39,
     "metadata": {},
     "output_type": "execute_result"
    }
   ],
   "source": [
    "# Fit the model again, for another 100 epochs (so for a total of 200 epochs)\n",
    "model.fit(X_train, y_train, epochs=100, verbose=1)"
   ]
  },
  {
   "cell_type": "markdown",
   "id": "7798ca6b",
   "metadata": {},
   "source": [
    "🔑 Every time model.fit() is called, it's going to fit for the extra epochs provided as parameters : the epochs are cumulative."
   ]
  },
  {
   "cell_type": "code",
   "execution_count": null,
   "id": "378fe5b7",
   "metadata": {},
   "outputs": [],
   "source": []
  },
  {
   "cell_type": "markdown",
   "id": "8cd35a1b",
   "metadata": {},
   "source": [
    "### Visualizing a model's layers"
   ]
  },
  {
   "cell_type": "code",
   "execution_count": 40,
   "id": "64f49ee8",
   "metadata": {},
   "outputs": [
    {
     "name": "stdout",
     "output_type": "stream",
     "text": [
      "Model: \"sequential_8\"\n",
      "_________________________________________________________________\n",
      " Layer (type)                Output Shape              Param #   \n",
      "=================================================================\n",
      " dense_13 (Dense)            (None, 10)                20        \n",
      "                                                                 \n",
      "=================================================================\n",
      "Total params: 20\n",
      "Trainable params: 20\n",
      "Non-trainable params: 0\n",
      "_________________________________________________________________\n"
     ]
    }
   ],
   "source": [
    "# Creating a new model, with 10 units in the hidden layers\n",
    "\n",
    "tf.random.set_seed(42)\n",
    "\n",
    "# 1. Create a model (same as above)\n",
    "model = tf.keras.Sequential([\n",
    "    tf.keras.layers.Dense(10, input_shape= [X.ndim] )  \n",
    "]) \n",
    "\n",
    "# 2. Compile the model \n",
    "model.compile(loss=tf.keras.losses.mae,\n",
    "             optimizer = tf.keras.optimizers.SGD(),\n",
    "             metrics=[\"mae\"])\n",
    "\n",
    "\n",
    "model.summary()\n"
   ]
  },
  {
   "cell_type": "code",
   "execution_count": 41,
   "id": "967d66d9",
   "metadata": {},
   "outputs": [
    {
     "data": {
      "text/plain": [
       "<keras.callbacks.History at 0x1d96d352fa0>"
      ]
     },
     "execution_count": 41,
     "metadata": {},
     "output_type": "execute_result"
    }
   ],
   "source": [
    "# Fit the model to the training data\n",
    "model.fit(X_train, y_train, epochs=100, verbose=0)"
   ]
  },
  {
   "cell_type": "code",
   "execution_count": 42,
   "id": "8641da1e",
   "metadata": {},
   "outputs": [
    {
     "data": {
      "image/png": "[encoded data removed]",
      "text/plain": [
       "<IPython.core.display.Image object>"
      ]
     },
     "execution_count": 42,
     "metadata": {},
     "output_type": "execute_result"
    }
   ],
   "source": [
    "# Looking at the layers of the model\n",
    "plot_model(model=model)"
   ]
  },
  {
   "cell_type": "code",
   "execution_count": 43,
   "id": "51112f96",
   "metadata": {},
   "outputs": [
    {
     "data": {
      "image/png": "[encoded data removed]",
      "text/plain": [
       "<IPython.core.display.Image object>"
      ]
     },
     "execution_count": 43,
     "metadata": {},
     "output_type": "execute_result"
    }
   ],
   "source": [
    "# Looking at the layers of the model, with it's shape\n",
    "plot_model(model=model, show_shapes=True)"
   ]
  },
  {
   "cell_type": "markdown",
   "id": "8720dbcb",
   "metadata": {},
   "source": [
    "The plot_model() above will be very handy later on when we start creating more complex models with more hidden layers. \n",
    "   \n",
    "Let's observe the plot of a little more complex model"
   ]
  },
  {
   "cell_type": "code",
   "execution_count": 44,
   "id": "d6a9f617",
   "metadata": {},
   "outputs": [
    {
     "name": "stdout",
     "output_type": "stream",
     "text": [
      "Model: \"amazing_model\"\n",
      "_________________________________________________________________\n",
      " Layer (type)                Output Shape              Param #   \n",
      "=================================================================\n",
      " input_layer (Dense)         (None, 10)                20        \n",
      "                                                                 \n",
      " output_layer (Dense)        (None, 1)                 11        \n",
      "                                                                 \n",
      "=================================================================\n",
      "Total params: 31\n",
      "Trainable params: 31\n",
      "Non-trainable params: 0\n",
      "_________________________________________________________________\n"
     ]
    }
   ],
   "source": [
    "# Creating a model, with 10 units in the hidden layers, and an output layer\n",
    "\n",
    "tf.random.set_seed(42)\n",
    "\n",
    "# 1. Create a model (same as above)\n",
    "model = tf.keras.Sequential([\n",
    "    tf.keras.layers.Dense(10, input_shape= [X.ndim], name=\"input_layer\" ), \n",
    "    tf.keras.layers.Dense(1, name=\"output_layer\")\n",
    "], name=\"amazing_model\") \n",
    "\n",
    "# 2. Compile the model \n",
    "model.compile(loss=tf.keras.losses.mae,\n",
    "             optimizer = tf.keras.optimizers.SGD(),\n",
    "             metrics=[\"mae\"])\n",
    "\n",
    "\n",
    "model.summary()\n"
   ]
  },
  {
   "cell_type": "code",
   "execution_count": 45,
   "id": "69b4b0ca",
   "metadata": {},
   "outputs": [
    {
     "data": {
      "text/plain": [
       "<keras.callbacks.History at 0x1d96d2ba970>"
      ]
     },
     "execution_count": 45,
     "metadata": {},
     "output_type": "execute_result"
    }
   ],
   "source": [
    "# Fit the model to the training data\n",
    "model.fit(X_train, y_train, epochs=100, verbose=0)"
   ]
  },
  {
   "cell_type": "code",
   "execution_count": 46,
   "id": "bc62aa47",
   "metadata": {},
   "outputs": [
    {
     "name": "stdout",
     "output_type": "stream",
     "text": [
      "Model: \"amazing_model\"\n",
      "_________________________________________________________________\n",
      " Layer (type)                Output Shape              Param #   \n",
      "=================================================================\n",
      " input_layer (Dense)         (None, 10)                20        \n",
      "                                                                 \n",
      " output_layer (Dense)        (None, 1)                 11        \n",
      "                                                                 \n",
      "=================================================================\n",
      "Total params: 31\n",
      "Trainable params: 31\n",
      "Non-trainable params: 0\n",
      "_________________________________________________________________\n"
     ]
    }
   ],
   "source": [
    "model.summary()"
   ]
  },
  {
   "cell_type": "code",
   "execution_count": 47,
   "id": "06d885f8",
   "metadata": {},
   "outputs": [
    {
     "data": {
      "image/png": "[encoded data removed]",
      "text/plain": [
       "<IPython.core.display.Image object>"
      ]
     },
     "execution_count": 47,
     "metadata": {},
     "output_type": "execute_result"
    }
   ],
   "source": [
    "# Looking at the layers of the model, with it's shape\n",
    "plot_model(model=model, show_shapes=True)"
   ]
  },
  {
   "cell_type": "code",
   "execution_count": null,
   "id": "955333a7",
   "metadata": {},
   "outputs": [],
   "source": []
  },
  {
   "cell_type": "markdown",
   "id": "ab607c02",
   "metadata": {},
   "source": [
    "### Visualizing the model's predictions  \n",
    "  \n",
    "To visualize predictions, it's a good idea to plot them against the ground truth labels.  \n",
    "  \n",
    "Often, one will see this in the form of `y_test` or `y_true` versus `y_pred` (ground truth versus the model's predictions)."
   ]
  },
  {
   "cell_type": "code",
   "execution_count": 48,
   "id": "6274fe28",
   "metadata": {},
   "outputs": [
    {
     "name": "stdout",
     "output_type": "stream",
     "text": [
      "WARNING:tensorflow:5 out of the last 6 calls to <function Model.make_predict_function.<locals>.predict_function at 0x000001D96D4B69D0> triggered tf.function retracing. Tracing is expensive and the excessive number of tracings could be due to (1) creating @tf.function repeatedly in a loop, (2) passing tensors with different shapes, (3) passing Python objects instead of tensors. For (1), please define your @tf.function outside of the loop. For (2), @tf.function has reduce_retracing=True option that can avoid unnecessary retracing. For (3), please refer to https://www.tensorflow.org/guide/function#controlling_retracing and https://www.tensorflow.org/api_docs/python/tf/function for  more details.\n",
      "1/1 [==============================] - 0s 93ms/step\n"
     ]
    },
    {
     "data": {
      "text/plain": [
       "array([[ 70.39513 ],\n",
       "       [ 74.97403 ],\n",
       "       [ 79.552956],\n",
       "       [ 84.13186 ],\n",
       "       [ 88.71077 ],\n",
       "       [ 93.28969 ],\n",
       "       [ 97.86859 ],\n",
       "       [102.44751 ],\n",
       "       [107.026405],\n",
       "       [111.60534 ]], dtype=float32)"
      ]
     },
     "execution_count": 48,
     "metadata": {},
     "output_type": "execute_result"
    }
   ],
   "source": [
    "# Make some predictions\n",
    "y_pred = model.predict(X_test)\n",
    "y_pred"
   ]
  },
  {
   "cell_type": "code",
   "execution_count": 49,
   "id": "2693f03d",
   "metadata": {},
   "outputs": [
    {
     "data": {
      "text/plain": [
       "<tf.Tensor: shape=(10,), dtype=int32, numpy=array([ 70,  74,  78,  82,  86,  90,  94,  98, 102, 106])>"
      ]
     },
     "execution_count": 49,
     "metadata": {},
     "output_type": "execute_result"
    }
   ],
   "source": [
    "# Looking at the content of y_test (the real value)\n",
    "y_test"
   ]
  },
  {
   "cell_type": "code",
   "execution_count": null,
   "id": "ceb2b008",
   "metadata": {},
   "outputs": [],
   "source": []
  },
  {
   "cell_type": "code",
   "execution_count": 51,
   "id": "eeba611f",
   "metadata": {},
   "outputs": [],
   "source": [
    "# Creating a plotting function\n",
    "def plot_predictions(train_data=X_train, train_labels=y_train,\n",
    "                    test_data=X_test, test_labels=y_test,\n",
    "                    predictions=y_pred):\n",
    "    \"\"\"\n",
    "        Plots training data, test data, and compares predictions to ground truth labels.\n",
    "    \"\"\"\n",
    "    plt.figure( figsize=(10,7) )\n",
    "\n",
    "    # Plot training data in blue \n",
    "    plt.scatter(train_data, train_labels, c=\"b\", label=\"Training data\")\n",
    "\n",
    "    # Plot test data in green\n",
    "    plt.scatter(test_data, test_labels, c=\"g\", label=\"Test data\")\n",
    "    \n",
    "    # Plot prediction data\n",
    "    plt.scatter(test_data,predictions,c=\"r\", label=\"Predictions\")\n",
    "\n",
    "    #Show a legend\n",
    "    plt.legend() "
   ]
  },
  {
   "cell_type": "code",
   "execution_count": 52,
   "id": "e17e0774",
   "metadata": {},
   "outputs": [
    {
     "data": {
      "image/png": "[encoded data removed]",
      "text/plain": [
       "<Figure size 720x504 with 1 Axes>"
      ]
     },
     "metadata": {
      "needs_background": "light"
     },
     "output_type": "display_data"
    }
   ],
   "source": [
    "plot_predictions()"
   ]
  },
  {
   "cell_type": "markdown",
   "id": "79873f53",
   "metadata": {},
   "source": [
    "Looking at the plots, the model appear to be good since the distance between test data and the predictions is small. But depending on the scale of the plot, that seemingly short distance can in fact represent a fairly large error.   \n",
    "So the way that be figured out is by some evaluation metrics.\n"
   ]
  },
  {
   "cell_type": "code",
   "execution_count": null,
   "id": "42f63d4e",
   "metadata": {},
   "outputs": [],
   "source": []
  },
  {
   "cell_type": "markdown",
   "id": "ebb4edeb",
   "metadata": {},
   "source": [
    "### Evaluation a model's predictions with regression evaluation metrics"
   ]
  },
  {
   "cell_type": "code",
   "execution_count": null,
   "id": "77cb3ab7",
   "metadata": {},
   "outputs": [],
   "source": []
  },
  {
   "cell_type": "code",
   "execution_count": null,
   "id": "96cfe7ab",
   "metadata": {},
   "outputs": [],
   "source": []
  },
  {
   "cell_type": "code",
   "execution_count": null,
   "id": "5ac85ce2",
   "metadata": {},
   "outputs": [],
   "source": []
  }
 ],
 "metadata": {
  "kernelspec": {
   "display_name": "Python 3",
   "language": "python",
   "name": "python3"
  },
  "language_info": {
   "codemirror_mode": {
    "name": "ipython",
    "version": 3
   },
   "file_extension": ".py",
   "mimetype": "text/x-python",
   "name": "python",
   "nbconvert_exporter": "python",
   "pygments_lexer": "ipython3",
   "version": "3.8.8"
  }
 },
 "nbformat": 4,
 "nbformat_minor": 5
}
