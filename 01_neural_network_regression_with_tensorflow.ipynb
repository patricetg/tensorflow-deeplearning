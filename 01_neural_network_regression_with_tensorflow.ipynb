{
 "cells": [
  {
   "cell_type": "code",
   "execution_count": null,
   "id": "d1d332c5",
   "metadata": {},
   "outputs": [],
   "source": []
  },
  {
   "cell_type": "markdown",
   "id": "ae1f3f01",
   "metadata": {},
   "source": [
    "# Introduction to Regression with Neural Networks in TensorFlow\n",
    "\n",
    "There are many definitions for a regression problem, but to make it simple : predicting a continuous (numerical) variable based on some other combination of variables."
   ]
  },
  {
   "cell_type": "code",
   "execution_count": 1,
   "id": "3ebcab60",
   "metadata": {},
   "outputs": [
    {
     "name": "stdout",
     "output_type": "stream",
     "text": [
      "2.10.0\n"
     ]
    }
   ],
   "source": [
    "# Import TensorFlow\n",
    "import tensorflow as tf\n",
    "print(tf.__version__)"
   ]
  },
  {
   "cell_type": "code",
   "execution_count": 2,
   "id": "46175302",
   "metadata": {},
   "outputs": [],
   "source": [
    "import pandas as pd\n",
    "import numpy as np\n",
    "import matplotlib.pyplot as plt\n",
    "\n",
    "from sklearn.model_selection import train_test_split\n",
    "\n",
    "%matplotlib inline"
   ]
  },
  {
   "cell_type": "code",
   "execution_count": 3,
   "id": "b73583b4",
   "metadata": {},
   "outputs": [],
   "source": [
    "from tensorflow.keras.utils import plot_model"
   ]
  },
  {
   "cell_type": "markdown",
   "id": "5b304915",
   "metadata": {},
   "source": [
    "Note : in order to use plot_model, one must install pydot (`pip install pydot`) and install graphviz (see instructions at https://graphviz.gitlab.io/download/) for plot_model to work."
   ]
  },
  {
   "cell_type": "code",
   "execution_count": null,
   "id": "d2218843",
   "metadata": {},
   "outputs": [],
   "source": []
  },
  {
   "cell_type": "code",
   "execution_count": 4,
   "id": "d42d2039",
   "metadata": {},
   "outputs": [],
   "source": [
    "from sklearn.compose import make_column_transformer\n",
    "from sklearn.preprocessing import MinMaxScaler, OneHotEncoder"
   ]
  },
  {
   "cell_type": "code",
   "execution_count": null,
   "id": "99283640",
   "metadata": {},
   "outputs": [],
   "source": []
  },
  {
   "cell_type": "markdown",
   "id": "3ea9cdd1",
   "metadata": {},
   "source": [
    "### Creating data to view and fit"
   ]
  },
  {
   "cell_type": "code",
   "execution_count": 5,
   "id": "dc6c9d96",
   "metadata": {},
   "outputs": [
    {
     "data": {
      "text/plain": [
       "<matplotlib.collections.PathCollection at 0x20f34d86130>"
      ]
     },
     "execution_count": 5,
     "metadata": {},
     "output_type": "execute_result"
    },
    {
     "data": {
      "image/png": "[encoded data removed]",
      "text/plain": [
       "<Figure size 432x288 with 1 Axes>"
      ]
     },
     "metadata": {
      "needs_background": "light"
     },
     "output_type": "display_data"
    }
   ],
   "source": [
    "# Create features\n",
    "X = np.array([-7., -4, -1, 2, 5, 8, 11, 14])\n",
    "\n",
    "# Create labels\n",
    "y = np.array([3., 6, 9, 12, 15, 18, 21, 24])\n",
    "\n",
    "# Visualize it\n",
    "plt.scatter(X,y)"
   ]
  },
  {
   "cell_type": "code",
   "execution_count": 6,
   "id": "2e244a47",
   "metadata": {},
   "outputs": [
    {
     "data": {
      "text/plain": [
       "array([ 3.,  6.,  9., 12., 15., 18., 21., 24.])"
      ]
     },
     "execution_count": 6,
     "metadata": {},
     "output_type": "execute_result"
    }
   ],
   "source": [
    "X+10"
   ]
  },
  {
   "cell_type": "code",
   "execution_count": 7,
   "id": "fb87b2bc",
   "metadata": {},
   "outputs": [
    {
     "data": {
      "text/plain": [
       "array([ True,  True,  True,  True,  True,  True,  True,  True])"
      ]
     },
     "execution_count": 7,
     "metadata": {},
     "output_type": "execute_result"
    }
   ],
   "source": [
    "y == X+10"
   ]
  },
  {
   "cell_type": "code",
   "execution_count": 8,
   "id": "e18c377b",
   "metadata": {},
   "outputs": [
    {
     "data": {
      "text/plain": [
       "(TensorShape([8]), TensorShape([8]))"
      ]
     },
     "execution_count": 8,
     "metadata": {},
     "output_type": "execute_result"
    }
   ],
   "source": [
    "# Turning the NumPy arrays into tensors\n",
    "X = tf.constant(X)\n",
    "y = tf.constant(y)\n",
    "X.shape, y.shape"
   ]
  },
  {
   "cell_type": "code",
   "execution_count": 9,
   "id": "f4485d20",
   "metadata": {},
   "outputs": [
    {
     "data": {
      "text/plain": [
       "<tf.Tensor: shape=(8,), dtype=float64, numpy=array([-7., -4., -1.,  2.,  5.,  8., 11., 14.])>"
      ]
     },
     "execution_count": 9,
     "metadata": {},
     "output_type": "execute_result"
    }
   ],
   "source": [
    "X"
   ]
  },
  {
   "cell_type": "code",
   "execution_count": 10,
   "id": "5e0fe4a9",
   "metadata": {},
   "outputs": [
    {
     "data": {
      "text/plain": [
       "<tf.Tensor: shape=(8, 1), dtype=float64, numpy=\n",
       "array([[-7.],\n",
       "       [-4.],\n",
       "       [-1.],\n",
       "       [ 2.],\n",
       "       [ 5.],\n",
       "       [ 8.],\n",
       "       [11.],\n",
       "       [14.]])>"
      ]
     },
     "execution_count": 10,
     "metadata": {},
     "output_type": "execute_result"
    }
   ],
   "source": [
    "# Expand the dimension of a tensor : https://www.geeksforgeeks.org/python-tensorflow-expand_dims/\n",
    "tf.expand_dims(X, axis=-1)"
   ]
  },
  {
   "cell_type": "code",
   "execution_count": null,
   "id": "f5304102",
   "metadata": {},
   "outputs": [],
   "source": []
  },
  {
   "cell_type": "markdown",
   "id": "612e394c",
   "metadata": {},
   "source": [
    "### Steps in modeling in TensorFlow\n",
    "\n",
    "1. **Creating the model** - define the input and output layers, as well as the hidden layers of a deep learning model.\n",
    "2. **Compiling the model** - define the `loss function` (the function which will tells our model how far it's from performing well), the `optimizer` (tells the model how to update its internal patterns to better its predictions) and the `evaluation metrics` (human interpretable values for how well the model is doing).\n",
    "3. **Fitting the model** - letting the model try to find patterns between features and labels.\n",
    "4. **Evaluation** - Evaluate the model on the test data (in order to know how reliable are the model's predictions)\n",
    "\n",
    "\n",
    "In TensorFlow, there are two main way of creating a model :\n",
    "* Sequential API\n",
    "* Functional API"
   ]
  },
  {
   "cell_type": "code",
   "execution_count": 11,
   "id": "6f72d001",
   "metadata": {},
   "outputs": [
    {
     "name": "stdout",
     "output_type": "stream",
     "text": [
      "Epoch 1/5\n",
      "1/1 [==============================] - 1s 507ms/step - loss: 17.8189 - mae: 17.8189\n",
      "Epoch 2/5\n",
      "1/1 [==============================] - 0s 5ms/step - loss: 17.5377 - mae: 17.5377\n",
      "Epoch 3/5\n",
      "1/1 [==============================] - 0s 5ms/step - loss: 17.2564 - mae: 17.2564\n",
      "Epoch 4/5\n",
      "1/1 [==============================] - 0s 5ms/step - loss: 16.9752 - mae: 16.9752\n",
      "Epoch 5/5\n",
      "1/1 [==============================] - 0s 5ms/step - loss: 16.6939 - mae: 16.6939\n"
     ]
    },
    {
     "data": {
      "text/plain": [
       "<keras.callbacks.History at 0x20f36026a00>"
      ]
     },
     "execution_count": 11,
     "metadata": {},
     "output_type": "execute_result"
    }
   ],
   "source": [
    "# Set a random seed (in order to have some reproducibility)\n",
    "tf.random.set_seed(42)\n",
    "\n",
    "# 1. Create a model using the Sequential API\n",
    "model = tf.keras.Sequential([\n",
    "    tf.keras.layers.Dense(1)\n",
    "])\n",
    "\n",
    "# 2. Compile the model\n",
    "model.compile(loss=tf.keras.losses.mae, # MAE : Mean Absolute Error\n",
    "              optimizer=tf.keras.optimizers.SGD(), # SGD : Stochastic Gradient Descent\n",
    "              metrics=[\"mae\"]\n",
    "             )\n",
    "\n",
    "# 3. Fit the model \n",
    "model.fit(tf.expand_dims(X, axis=-1),y, epochs=5)\n"
   ]
  },
  {
   "cell_type": "markdown",
   "id": "2f2af8b2",
   "metadata": {},
   "source": [
    "**Note**  \n",
    "A lot of function in TensorFlow, if they have a shortcut name (e.g. mae or SGD), can be replaced by a string variable to define the fact it is wished to used that specific function. For e.g., the step 2 in the above cell( Compile the model), can also be written as such : \n",
    "\n",
    "model.compile(loss=\"mae\",  \n",
    "              optimizer=\"sgd\",  \n",
    "              metrics=[\"mae\"]  \n",
    "             )"
   ]
  },
  {
   "cell_type": "code",
   "execution_count": 12,
   "id": "9949ba02",
   "metadata": {},
   "outputs": [
    {
     "data": {
      "text/plain": [
       "(<tf.Tensor: shape=(8,), dtype=float64, numpy=array([-7., -4., -1.,  2.,  5.,  8., 11., 14.])>,\n",
       " <tf.Tensor: shape=(8,), dtype=float64, numpy=array([ 3.,  6.,  9., 12., 15., 18., 21., 24.])>)"
      ]
     },
     "execution_count": 12,
     "metadata": {},
     "output_type": "execute_result"
    }
   ],
   "source": [
    "# Check out X and y\n",
    "X, y"
   ]
  },
  {
   "cell_type": "code",
   "execution_count": 13,
   "id": "d35d1023",
   "metadata": {},
   "outputs": [
    {
     "name": "stdout",
     "output_type": "stream",
     "text": [
      "1/1 [==============================] - 0s 165ms/step\n"
     ]
    },
    {
     "data": {
      "text/plain": [
       "array([[-11.913604]], dtype=float32)"
      ]
     },
     "execution_count": 13,
     "metadata": {},
     "output_type": "execute_result"
    }
   ],
   "source": [
    "# Trying to make a prediction using our model\n",
    "model.predict([17.])"
   ]
  },
  {
   "cell_type": "markdown",
   "id": "9eefcc9e",
   "metadata": {},
   "source": [
    "The predicted value (y) should be 27 when X is 17. But we got -13.89, which is pretty far off. This is no surprising because the current MAE of our model is 17.3050, which means : on average, our model predict something that is 17.3050 points off where is should be (MAE)."
   ]
  },
  {
   "cell_type": "code",
   "execution_count": 14,
   "id": "27107469",
   "metadata": {},
   "outputs": [
    {
     "name": "stdout",
     "output_type": "stream",
     "text": [
      "1/1 [==============================] - 0s 58ms/step\n"
     ]
    },
    {
     "data": {
      "text/plain": [
       "array([[-11.913604]], dtype=float32)"
      ]
     },
     "execution_count": 14,
     "metadata": {},
     "output_type": "execute_result"
    }
   ],
   "source": [
    "y_pred = model.predict([17.])\n",
    "y_pred"
   ]
  },
  {
   "cell_type": "code",
   "execution_count": 15,
   "id": "65c6bb1b",
   "metadata": {},
   "outputs": [
    {
     "data": {
      "text/plain": [
       "array([[5.3913965]], dtype=float32)"
      ]
     },
     "execution_count": 15,
     "metadata": {},
     "output_type": "execute_result"
    }
   ],
   "source": [
    "y_pred + 17.3050"
   ]
  },
  {
   "cell_type": "markdown",
   "id": "a759cf25",
   "metadata": {},
   "source": [
    "The value is still off, our model is performing poorly.   \n",
    "Now, we need to improve our model."
   ]
  },
  {
   "cell_type": "code",
   "execution_count": null,
   "id": "7eecc354",
   "metadata": {},
   "outputs": [],
   "source": []
  },
  {
   "cell_type": "markdown",
   "id": "f47b7fed",
   "metadata": {},
   "source": [
    "### Improving our model\n",
    "\n",
    "We can improve our model by altering the steps we took to create a model.  \n",
    "\n",
    "1. **Creating a model** - Here, we might :\n",
    "* add more layers, \n",
    "* increase the number of hidden units (also called neurons) within each of th hidden layers, \n",
    "* change the activation function of each layer\n",
    "\n",
    "2. **Compiling the model** - Here, we might :\n",
    "* change the optimization function,\n",
    "* or perhaps changes the **learning rate** of the optimization function\n",
    "\n",
    "3. **Fitting the model** - Here, we might :\n",
    "* fit the model for more epochs (make it train for longer)\n",
    "* fit the model on more data (give the model more examples to learn from)"
   ]
  },
  {
   "cell_type": "code",
   "execution_count": 16,
   "id": "0900b32c",
   "metadata": {},
   "outputs": [
    {
     "name": "stdout",
     "output_type": "stream",
     "text": [
      "Epoch 1/100\n",
      "1/1 [==============================] - 0s 450ms/step - loss: 16.1144 - mae: 16.1144\n",
      "Epoch 2/100\n",
      "1/1 [==============================] - 0s 4ms/step - loss: 15.5141 - mae: 15.5141\n",
      "Epoch 3/100\n",
      "1/1 [==============================] - 0s 7ms/step - loss: 14.9464 - mae: 14.9464\n",
      "Epoch 4/100\n",
      "1/1 [==============================] - 0s 4ms/step - loss: 14.3946 - mae: 14.3946\n",
      "Epoch 5/100\n",
      "1/1 [==============================] - 0s 5ms/step - loss: 13.8544 - mae: 13.8544\n",
      "Epoch 6/100\n",
      "1/1 [==============================] - 0s 5ms/step - loss: 13.3219 - mae: 13.3219\n",
      "Epoch 7/100\n",
      "1/1 [==============================] - 0s 7ms/step - loss: 12.7935 - mae: 12.7935\n",
      "Epoch 8/100\n",
      "1/1 [==============================] - 0s 4ms/step - loss: 12.2620 - mae: 12.2620\n",
      "Epoch 9/100\n",
      "1/1 [==============================] - 0s 6ms/step - loss: 11.7282 - mae: 11.7282\n",
      "Epoch 10/100\n",
      "1/1 [==============================] - 0s 5ms/step - loss: 11.1831 - mae: 11.1831\n",
      "Epoch 11/100\n",
      "1/1 [==============================] - 0s 5ms/step - loss: 10.6223 - mae: 10.6223\n",
      "Epoch 12/100\n",
      "1/1 [==============================] - 0s 3ms/step - loss: 10.0423 - mae: 10.0423\n",
      "Epoch 13/100\n",
      "1/1 [==============================] - 0s 4ms/step - loss: 9.4431 - mae: 9.4431\n",
      "Epoch 14/100\n",
      "1/1 [==============================] - 0s 4ms/step - loss: 8.8124 - mae: 8.8124\n",
      "Epoch 15/100\n",
      "1/1 [==============================] - 0s 4ms/step - loss: 8.1463 - mae: 8.1463\n",
      "Epoch 16/100\n",
      "1/1 [==============================] - 0s 4ms/step - loss: 7.4398 - mae: 7.4398\n",
      "Epoch 17/100\n",
      "1/1 [==============================] - 0s 5ms/step - loss: 6.6847 - mae: 6.6847\n",
      "Epoch 18/100\n",
      "1/1 [==============================] - 0s 6ms/step - loss: 5.8724 - mae: 5.8724\n",
      "Epoch 19/100\n",
      "1/1 [==============================] - 0s 4ms/step - loss: 5.0145 - mae: 5.0145\n",
      "Epoch 20/100\n",
      "1/1 [==============================] - 0s 5ms/step - loss: 4.1430 - mae: 4.1430\n",
      "Epoch 21/100\n",
      "1/1 [==============================] - 0s 5ms/step - loss: 4.0496 - mae: 4.0496\n",
      "Epoch 22/100\n",
      "1/1 [==============================] - 0s 4ms/step - loss: 3.9539 - mae: 3.9539\n",
      "Epoch 23/100\n",
      "1/1 [==============================] - 0s 4ms/step - loss: 3.8690 - mae: 3.8690\n",
      "Epoch 24/100\n",
      "1/1 [==============================] - 0s 3ms/step - loss: 3.9354 - mae: 3.9354\n",
      "Epoch 25/100\n",
      "1/1 [==============================] - 0s 5ms/step - loss: 3.8791 - mae: 3.8791\n",
      "Epoch 26/100\n",
      "1/1 [==============================] - 0s 5ms/step - loss: 3.9105 - mae: 3.9105\n",
      "Epoch 27/100\n",
      "1/1 [==============================] - 0s 4ms/step - loss: 3.8863 - mae: 3.8863\n",
      "Epoch 28/100\n",
      "1/1 [==============================] - 0s 4ms/step - loss: 3.8853 - mae: 3.8853\n",
      "Epoch 29/100\n",
      "1/1 [==============================] - 0s 4ms/step - loss: 3.8936 - mae: 3.8936\n",
      "Epoch 30/100\n",
      "1/1 [==============================] - 0s 4ms/step - loss: 3.8600 - mae: 3.8600\n",
      "Epoch 31/100\n",
      "1/1 [==============================] - 0s 4ms/step - loss: 3.9010 - mae: 3.9010\n",
      "Epoch 32/100\n",
      "1/1 [==============================] - 0s 6ms/step - loss: 3.8412 - mae: 3.8412\n",
      "Epoch 33/100\n",
      "1/1 [==============================] - 0s 5ms/step - loss: 3.9153 - mae: 3.9153\n",
      "Epoch 34/100\n",
      "1/1 [==============================] - 0s 6ms/step - loss: 3.8481 - mae: 3.8481\n",
      "Epoch 35/100\n",
      "1/1 [==============================] - 0s 4ms/step - loss: 3.8890 - mae: 3.8890\n",
      "Epoch 36/100\n",
      "1/1 [==============================] - 0s 3ms/step - loss: 3.8554 - mae: 3.8554\n",
      "Epoch 37/100\n",
      "1/1 [==============================] - 0s 4ms/step - loss: 3.8636 - mae: 3.8636\n",
      "Epoch 38/100\n",
      "1/1 [==============================] - 0s 4ms/step - loss: 3.8630 - mae: 3.8630\n",
      "Epoch 39/100\n",
      "1/1 [==============================] - 0s 3ms/step - loss: 3.8379 - mae: 3.8379\n",
      "Epoch 40/100\n",
      "1/1 [==============================] - 0s 3ms/step - loss: 3.8736 - mae: 3.8736\n",
      "Epoch 41/100\n",
      "1/1 [==============================] - 0s 5ms/step - loss: 3.8183 - mae: 3.8183\n",
      "Epoch 42/100\n",
      "1/1 [==============================] - 0s 5ms/step - loss: 3.8851 - mae: 3.8851\n",
      "Epoch 43/100\n",
      "1/1 [==============================] - 0s 5ms/step - loss: 3.8183 - mae: 3.8183\n",
      "Epoch 44/100\n",
      "1/1 [==============================] - 0s 4ms/step - loss: 3.8661 - mae: 3.8661\n",
      "Epoch 45/100\n",
      "1/1 [==============================] - 0s 3ms/step - loss: 3.8260 - mae: 3.8260\n",
      "Epoch 46/100\n",
      "1/1 [==============================] - 0s 4ms/step - loss: 3.8404 - mae: 3.8404\n",
      "Epoch 47/100\n",
      "1/1 [==============================] - 0s 3ms/step - loss: 3.8338 - mae: 3.8338\n",
      "Epoch 48/100\n",
      "1/1 [==============================] - 0s 4ms/step - loss: 3.8144 - mae: 3.8144\n",
      "Epoch 49/100\n",
      "1/1 [==============================] - 0s 5ms/step - loss: 3.8476 - mae: 3.8476\n",
      "Epoch 50/100\n",
      "1/1 [==============================] - 0s 5ms/step - loss: 3.7944 - mae: 3.7944\n",
      "Epoch 51/100\n",
      "1/1 [==============================] - 0s 4ms/step - loss: 3.8564 - mae: 3.8564\n",
      "Epoch 52/100\n",
      "1/1 [==============================] - 0s 5ms/step - loss: 3.7899 - mae: 3.7899\n",
      "Epoch 53/100\n",
      "1/1 [==============================] - 0s 6ms/step - loss: 3.8417 - mae: 3.8417\n",
      "Epoch 54/100\n",
      "1/1 [==============================] - 0s 3ms/step - loss: 3.7978 - mae: 3.7978\n",
      "Epoch 55/100\n",
      "1/1 [==============================] - 0s 5ms/step - loss: 3.8155 - mae: 3.8155\n",
      "Epoch 56/100\n",
      "1/1 [==============================] - 0s 4ms/step - loss: 3.8059 - mae: 3.8059\n",
      "Epoch 57/100\n",
      "1/1 [==============================] - 0s 5ms/step - loss: 3.7920 - mae: 3.7920\n",
      "Epoch 58/100\n",
      "1/1 [==============================] - 0s 3ms/step - loss: 3.8207 - mae: 3.8207\n",
      "Epoch 59/100\n",
      "1/1 [==============================] - 0s 4ms/step - loss: 3.7690 - mae: 3.7690\n",
      "Epoch 60/100\n",
      "1/1 [==============================] - 0s 5ms/step - loss: 3.8289 - mae: 3.8289\n",
      "Epoch 61/100\n",
      "1/1 [==============================] - 0s 5ms/step - loss: 3.7627 - mae: 3.7627\n",
      "Epoch 62/100\n",
      "1/1 [==============================] - 0s 4ms/step - loss: 3.8159 - mae: 3.8159\n",
      "Epoch 63/100\n",
      "1/1 [==============================] - 0s 4ms/step - loss: 3.7708 - mae: 3.7708\n",
      "Epoch 64/100\n",
      "1/1 [==============================] - 0s 4ms/step - loss: 3.7894 - mae: 3.7894\n",
      "Epoch 65/100\n",
      "1/1 [==============================] - 0s 4ms/step - loss: 3.7791 - mae: 3.7791\n",
      "Epoch 66/100\n",
      "1/1 [==============================] - 0s 4ms/step - loss: 3.7682 - mae: 3.7682\n",
      "Epoch 67/100\n",
      "1/1 [==============================] - 0s 4ms/step - loss: 3.7941 - mae: 3.7941\n",
      "Epoch 68/100\n",
      "1/1 [==============================] - 0s 3ms/step - loss: 3.7423 - mae: 3.7423\n",
      "Epoch 69/100\n",
      "1/1 [==============================] - 0s 4ms/step - loss: 3.8025 - mae: 3.8025\n",
      "Epoch 70/100\n",
      "1/1 [==============================] - 0s 4ms/step - loss: 3.7365 - mae: 3.7365\n",
      "Epoch 71/100\n",
      "1/1 [==============================] - 0s 3ms/step - loss: 3.7888 - mae: 3.7888\n",
      "Epoch 72/100\n",
      "1/1 [==============================] - 0s 4ms/step - loss: 3.7449 - mae: 3.7449\n",
      "Epoch 73/100\n",
      "1/1 [==============================] - 0s 4ms/step - loss: 3.7621 - mae: 3.7621\n",
      "Epoch 74/100\n",
      "1/1 [==============================] - 0s 4ms/step - loss: 3.7545 - mae: 3.7545\n",
      "Epoch 75/100\n",
      "1/1 [==============================] - 0s 5ms/step - loss: 3.7413 - mae: 3.7413\n",
      "Epoch 76/100\n",
      "1/1 [==============================] - 0s 5ms/step - loss: 3.7684 - mae: 3.7684\n",
      "Epoch 77/100\n",
      "1/1 [==============================] - 0s 4ms/step - loss: 3.7143 - mae: 3.7143\n",
      "Epoch 78/100\n",
      "1/1 [==============================] - 0s 5ms/step - loss: 3.7770 - mae: 3.7770\n",
      "Epoch 79/100\n",
      "1/1 [==============================] - 0s 5ms/step - loss: 3.7113 - mae: 3.7113\n",
      "Epoch 80/100\n",
      "1/1 [==============================] - 0s 5ms/step - loss: 3.7605 - mae: 3.7605\n",
      "Epoch 81/100\n",
      "1/1 [==============================] - 0s 4ms/step - loss: 3.7199 - mae: 3.7199\n",
      "Epoch 82/100\n",
      "1/1 [==============================] - 0s 6ms/step - loss: 3.7334 - mae: 3.7334\n",
      "Epoch 83/100\n",
      "1/1 [==============================] - 0s 4ms/step - loss: 3.7321 - mae: 3.7321\n",
      "Epoch 84/100\n",
      "1/1 [==============================] - 0s 5ms/step - loss: 3.7123 - mae: 3.7123\n",
      "Epoch 85/100\n",
      "1/1 [==============================] - 0s 4ms/step - loss: 3.7438 - mae: 3.7438\n",
      "Epoch 86/100\n",
      "1/1 [==============================] - 0s 5ms/step - loss: 3.6850 - mae: 3.6850\n",
      "Epoch 87/100\n",
      "1/1 [==============================] - 0s 3ms/step - loss: 3.7526 - mae: 3.7526\n",
      "Epoch 88/100\n"
     ]
    },
    {
     "name": "stdout",
     "output_type": "stream",
     "text": [
      "1/1 [==============================] - 0s 6ms/step - loss: 3.6871 - mae: 3.6871\n",
      "Epoch 89/100\n",
      "1/1 [==============================] - 0s 4ms/step - loss: 3.7309 - mae: 3.7309\n",
      "Epoch 90/100\n",
      "1/1 [==============================] - 0s 5ms/step - loss: 3.6958 - mae: 3.6958\n",
      "Epoch 91/100\n",
      "1/1 [==============================] - 0s 4ms/step - loss: 3.7035 - mae: 3.7035\n",
      "Epoch 92/100\n",
      "1/1 [==============================] - 0s 4ms/step - loss: 3.7105 - mae: 3.7105\n",
      "Epoch 93/100\n",
      "1/1 [==============================] - 0s 4ms/step - loss: 3.6819 - mae: 3.6819\n",
      "Epoch 94/100\n",
      "1/1 [==============================] - 0s 3ms/step - loss: 3.7203 - mae: 3.7203\n",
      "Epoch 95/100\n",
      "1/1 [==============================] - 0s 4ms/step - loss: 3.6553 - mae: 3.6553\n",
      "Epoch 96/100\n",
      "1/1 [==============================] - 0s 5ms/step - loss: 3.7272 - mae: 3.7272\n",
      "Epoch 97/100\n",
      "1/1 [==============================] - 0s 4ms/step - loss: 3.6641 - mae: 3.6641\n",
      "Epoch 98/100\n",
      "1/1 [==============================] - 0s 3ms/step - loss: 3.6996 - mae: 3.6996\n",
      "Epoch 99/100\n",
      "1/1 [==============================] - 0s 3ms/step - loss: 3.6730 - mae: 3.6730\n",
      "Epoch 100/100\n",
      "1/1 [==============================] - 0s 4ms/step - loss: 3.6739 - mae: 3.6739\n"
     ]
    },
    {
     "data": {
      "text/plain": [
       "<keras.callbacks.History at 0x20f36459370>"
      ]
     },
     "execution_count": 16,
     "metadata": {},
     "output_type": "execute_result"
    }
   ],
   "source": [
    "# 1st experiment : add a hidden layer, and more epochs, as an improvement to the model\n",
    "\n",
    "# Set a random seed (in order to have some reproducibility)\n",
    "tf.random.set_seed(42)\n",
    "\n",
    "# 1. Create a model using the Sequential API\n",
    "model = tf.keras.Sequential([\n",
    "    \n",
    "    # Adding more hidden layers, more neurons, and activation function \n",
    "    tf.keras.layers.Dense(100, activation=\"relu\"),\n",
    "    \n",
    "    tf.keras.layers.Dense(1)\n",
    "])\n",
    "\n",
    "# 2. Compile the model\n",
    "model.compile(loss=tf.keras.losses.mae, # MAE : Mean Absolute Error\n",
    "              optimizer=tf.keras.optimizers.SGD(),\n",
    "              metrics=[\"mae\"]\n",
    "             )\n",
    "\n",
    "# 3. Fit the model \n",
    "model.fit(tf.expand_dims(X, axis=-1),y, epochs=100) # Increasing the number of epochs\n"
   ]
  },
  {
   "cell_type": "markdown",
   "id": "ac7a663c",
   "metadata": {},
   "source": [
    "The 1st experiment has resulted in a good improvement of the model"
   ]
  },
  {
   "cell_type": "code",
   "execution_count": 17,
   "id": "debaf8ee",
   "metadata": {},
   "outputs": [
    {
     "name": "stdout",
     "output_type": "stream",
     "text": [
      "1/1 [==============================] - 0s 73ms/step\n"
     ]
    },
    {
     "data": {
      "text/plain": [
       "array([[32.5745]], dtype=float32)"
      ]
     },
     "execution_count": 17,
     "metadata": {},
     "output_type": "execute_result"
    }
   ],
   "source": [
    "# Check how the model's prediction has improved...\n",
    "model.predict([17.])"
   ]
  },
  {
   "cell_type": "code",
   "execution_count": null,
   "id": "edec4f02",
   "metadata": {},
   "outputs": [],
   "source": []
  },
  {
   "cell_type": "code",
   "execution_count": null,
   "id": "af2206a9",
   "metadata": {},
   "outputs": [],
   "source": []
  },
  {
   "cell_type": "code",
   "execution_count": 18,
   "id": "ab3f76fa",
   "metadata": {},
   "outputs": [
    {
     "name": "stdout",
     "output_type": "stream",
     "text": [
      "Epoch 1/300\n"
     ]
    },
    {
     "name": "stderr",
     "output_type": "stream",
     "text": [
      "C:\\ProgramData\\Anaconda3\\lib\\site-packages\\keras\\optimizers\\optimizer_v2\\adam.py:114: UserWarning: The `lr` argument is deprecated, use `learning_rate` instead.\n",
      "  super().__init__(name, **kwargs)\n"
     ]
    },
    {
     "name": "stdout",
     "output_type": "stream",
     "text": [
      "1/1 [==============================] - 1s 521ms/step - loss: 13.3484 - mae: 13.3484\n",
      "Epoch 2/300\n",
      "1/1 [==============================] - 0s 5ms/step - loss: 13.3054 - mae: 13.3054\n",
      "Epoch 3/300\n",
      "1/1 [==============================] - 0s 4ms/step - loss: 13.2633 - mae: 13.2633\n",
      "Epoch 4/300\n",
      "1/1 [==============================] - 0s 4ms/step - loss: 13.2218 - mae: 13.2218\n",
      "Epoch 5/300\n",
      "1/1 [==============================] - 0s 3ms/step - loss: 13.1813 - mae: 13.1813\n",
      "Epoch 6/300\n",
      "1/1 [==============================] - 0s 5ms/step - loss: 13.1422 - mae: 13.1422\n",
      "Epoch 7/300\n",
      "1/1 [==============================] - 0s 3ms/step - loss: 13.1031 - mae: 13.1031\n",
      "Epoch 8/300\n",
      "1/1 [==============================] - 0s 4ms/step - loss: 13.0643 - mae: 13.0643\n",
      "Epoch 9/300\n",
      "1/1 [==============================] - 0s 6ms/step - loss: 13.0253 - mae: 13.0253\n",
      "Epoch 10/300\n",
      "1/1 [==============================] - 0s 3ms/step - loss: 12.9864 - mae: 12.9864\n",
      "Epoch 11/300\n",
      "1/1 [==============================] - 0s 4ms/step - loss: 12.9474 - mae: 12.9474\n",
      "Epoch 12/300\n",
      "1/1 [==============================] - 0s 4ms/step - loss: 12.9084 - mae: 12.9084\n",
      "Epoch 13/300\n",
      "1/1 [==============================] - 0s 4ms/step - loss: 12.8694 - mae: 12.8694\n",
      "Epoch 14/300\n",
      "1/1 [==============================] - 0s 3ms/step - loss: 12.8305 - mae: 12.8305\n",
      "Epoch 15/300\n",
      "1/1 [==============================] - 0s 4ms/step - loss: 12.7920 - mae: 12.7920\n",
      "Epoch 16/300\n",
      "1/1 [==============================] - 0s 4ms/step - loss: 12.7530 - mae: 12.7530\n",
      "Epoch 17/300\n",
      "1/1 [==============================] - 0s 4ms/step - loss: 12.7138 - mae: 12.7138\n",
      "Epoch 18/300\n",
      "1/1 [==============================] - 0s 4ms/step - loss: 12.6744 - mae: 12.6744\n",
      "Epoch 19/300\n",
      "1/1 [==============================] - 0s 3ms/step - loss: 12.6349 - mae: 12.6349\n",
      "Epoch 20/300\n",
      "1/1 [==============================] - 0s 3ms/step - loss: 12.5954 - mae: 12.5954\n",
      "Epoch 21/300\n",
      "1/1 [==============================] - 0s 3ms/step - loss: 12.5563 - mae: 12.5563\n",
      "Epoch 22/300\n",
      "1/1 [==============================] - 0s 4ms/step - loss: 12.5171 - mae: 12.5171\n",
      "Epoch 23/300\n",
      "1/1 [==============================] - 0s 4ms/step - loss: 12.4779 - mae: 12.4779\n",
      "Epoch 24/300\n",
      "1/1 [==============================] - 0s 4ms/step - loss: 12.4393 - mae: 12.4393\n",
      "Epoch 25/300\n",
      "1/1 [==============================] - 0s 3ms/step - loss: 12.4009 - mae: 12.4009\n",
      "Epoch 26/300\n",
      "1/1 [==============================] - 0s 4ms/step - loss: 12.3629 - mae: 12.3629\n",
      "Epoch 27/300\n",
      "1/1 [==============================] - 0s 3ms/step - loss: 12.3252 - mae: 12.3252\n",
      "Epoch 28/300\n",
      "1/1 [==============================] - 0s 4ms/step - loss: 12.2873 - mae: 12.2873\n",
      "Epoch 29/300\n",
      "1/1 [==============================] - 0s 4ms/step - loss: 12.2493 - mae: 12.2493\n",
      "Epoch 30/300\n",
      "1/1 [==============================] - 0s 5ms/step - loss: 12.2110 - mae: 12.2110\n",
      "Epoch 31/300\n",
      "1/1 [==============================] - 0s 5ms/step - loss: 12.1728 - mae: 12.1728\n",
      "Epoch 32/300\n",
      "1/1 [==============================] - 0s 5ms/step - loss: 12.1344 - mae: 12.1344\n",
      "Epoch 33/300\n",
      "1/1 [==============================] - 0s 3ms/step - loss: 12.0959 - mae: 12.0959\n",
      "Epoch 34/300\n",
      "1/1 [==============================] - 0s 4ms/step - loss: 12.0571 - mae: 12.0571\n",
      "Epoch 35/300\n",
      "1/1 [==============================] - 0s 4ms/step - loss: 12.0181 - mae: 12.0181\n",
      "Epoch 36/300\n",
      "1/1 [==============================] - 0s 5ms/step - loss: 11.9785 - mae: 11.9785\n",
      "Epoch 37/300\n",
      "1/1 [==============================] - 0s 4ms/step - loss: 11.9387 - mae: 11.9387\n",
      "Epoch 38/300\n",
      "1/1 [==============================] - 0s 5ms/step - loss: 11.8987 - mae: 11.8987\n",
      "Epoch 39/300\n",
      "1/1 [==============================] - 0s 4ms/step - loss: 11.8586 - mae: 11.8586\n",
      "Epoch 40/300\n",
      "1/1 [==============================] - 0s 5ms/step - loss: 11.8182 - mae: 11.8182\n",
      "Epoch 41/300\n",
      "1/1 [==============================] - 0s 5ms/step - loss: 11.7775 - mae: 11.7775\n",
      "Epoch 42/300\n",
      "1/1 [==============================] - 0s 4ms/step - loss: 11.7371 - mae: 11.7371\n",
      "Epoch 43/300\n",
      "1/1 [==============================] - 0s 4ms/step - loss: 11.6963 - mae: 11.6963\n",
      "Epoch 44/300\n",
      "1/1 [==============================] - 0s 3ms/step - loss: 11.6552 - mae: 11.6552\n",
      "Epoch 45/300\n",
      "1/1 [==============================] - 0s 4ms/step - loss: 11.6137 - mae: 11.6137\n",
      "Epoch 46/300\n",
      "1/1 [==============================] - 0s 4ms/step - loss: 11.5716 - mae: 11.5716\n",
      "Epoch 47/300\n",
      "1/1 [==============================] - 0s 4ms/step - loss: 11.5293 - mae: 11.5293\n",
      "Epoch 48/300\n",
      "1/1 [==============================] - 0s 6ms/step - loss: 11.4866 - mae: 11.4866\n",
      "Epoch 49/300\n",
      "1/1 [==============================] - 0s 5ms/step - loss: 11.4439 - mae: 11.4439\n",
      "Epoch 50/300\n",
      "1/1 [==============================] - 0s 5ms/step - loss: 11.4008 - mae: 11.4008\n",
      "Epoch 51/300\n",
      "1/1 [==============================] - 0s 4ms/step - loss: 11.3576 - mae: 11.3576\n",
      "Epoch 52/300\n",
      "1/1 [==============================] - 0s 5ms/step - loss: 11.3140 - mae: 11.3140\n",
      "Epoch 53/300\n",
      "1/1 [==============================] - 0s 4ms/step - loss: 11.2699 - mae: 11.2699\n",
      "Epoch 54/300\n",
      "1/1 [==============================] - 0s 4ms/step - loss: 11.2254 - mae: 11.2254\n",
      "Epoch 55/300\n",
      "1/1 [==============================] - 0s 3ms/step - loss: 11.1805 - mae: 11.1805\n",
      "Epoch 56/300\n",
      "1/1 [==============================] - 0s 3ms/step - loss: 11.1353 - mae: 11.1353\n",
      "Epoch 57/300\n",
      "1/1 [==============================] - 0s 5ms/step - loss: 11.0898 - mae: 11.0898\n",
      "Epoch 58/300\n",
      "1/1 [==============================] - 0s 3ms/step - loss: 11.0440 - mae: 11.0440\n",
      "Epoch 59/300\n",
      "1/1 [==============================] - 0s 3ms/step - loss: 10.9979 - mae: 10.9979\n",
      "Epoch 60/300\n",
      "1/1 [==============================] - 0s 4ms/step - loss: 10.9516 - mae: 10.9516\n",
      "Epoch 61/300\n",
      "1/1 [==============================] - 0s 3ms/step - loss: 10.9049 - mae: 10.9049\n",
      "Epoch 62/300\n",
      "1/1 [==============================] - 0s 2ms/step - loss: 10.8578 - mae: 10.8578\n",
      "Epoch 63/300\n",
      "1/1 [==============================] - 0s 4ms/step - loss: 10.8103 - mae: 10.8103\n",
      "Epoch 64/300\n",
      "1/1 [==============================] - 0s 3ms/step - loss: 10.7620 - mae: 10.7620\n",
      "Epoch 65/300\n",
      "1/1 [==============================] - 0s 3ms/step - loss: 10.7189 - mae: 10.7189\n",
      "Epoch 66/300\n",
      "1/1 [==============================] - 0s 4ms/step - loss: 10.6836 - mae: 10.6836\n",
      "Epoch 67/300\n",
      "1/1 [==============================] - 0s 3ms/step - loss: 10.6479 - mae: 10.6479\n",
      "Epoch 68/300\n",
      "1/1 [==============================] - 0s 3ms/step - loss: 10.6113 - mae: 10.6113\n",
      "Epoch 69/300\n",
      "1/1 [==============================] - 0s 4ms/step - loss: 10.5741 - mae: 10.5741\n",
      "Epoch 70/300\n",
      "1/1 [==============================] - 0s 4ms/step - loss: 10.5365 - mae: 10.5365\n",
      "Epoch 71/300\n",
      "1/1 [==============================] - 0s 4ms/step - loss: 10.4986 - mae: 10.4986\n",
      "Epoch 72/300\n",
      "1/1 [==============================] - 0s 3ms/step - loss: 10.4605 - mae: 10.4605\n",
      "Epoch 73/300\n",
      "1/1 [==============================] - 0s 4ms/step - loss: 10.4221 - mae: 10.4221\n",
      "Epoch 74/300\n",
      "1/1 [==============================] - 0s 3ms/step - loss: 10.3833 - mae: 10.3833\n",
      "Epoch 75/300\n",
      "1/1 [==============================] - 0s 3ms/step - loss: 10.3440 - mae: 10.3440\n",
      "Epoch 76/300\n",
      "1/1 [==============================] - 0s 5ms/step - loss: 10.3033 - mae: 10.3033\n",
      "Epoch 77/300\n",
      "1/1 [==============================] - 0s 3ms/step - loss: 10.2620 - mae: 10.2620\n",
      "Epoch 78/300\n",
      "1/1 [==============================] - 0s 4ms/step - loss: 10.2201 - mae: 10.2201\n",
      "Epoch 79/300\n",
      "1/1 [==============================] - 0s 3ms/step - loss: 10.1782 - mae: 10.1782\n",
      "Epoch 80/300\n",
      "1/1 [==============================] - 0s 3ms/step - loss: 10.1369 - mae: 10.1369\n",
      "Epoch 81/300\n",
      "1/1 [==============================] - 0s 3ms/step - loss: 10.0953 - mae: 10.0953\n",
      "Epoch 82/300\n",
      "1/1 [==============================] - 0s 3ms/step - loss: 10.0534 - mae: 10.0534\n",
      "Epoch 83/300\n",
      "1/1 [==============================] - 0s 3ms/step - loss: 10.0114 - mae: 10.0114\n",
      "Epoch 84/300\n",
      "1/1 [==============================] - 0s 3ms/step - loss: 9.9689 - mae: 9.9689\n",
      "Epoch 85/300\n",
      "1/1 [==============================] - 0s 3ms/step - loss: 9.9259 - mae: 9.9259\n",
      "Epoch 86/300\n",
      "1/1 [==============================] - 0s 3ms/step - loss: 9.8826 - mae: 9.8826\n",
      "Epoch 87/300\n"
     ]
    },
    {
     "name": "stdout",
     "output_type": "stream",
     "text": [
      "1/1 [==============================] - 0s 3ms/step - loss: 9.8389 - mae: 9.8389\n",
      "Epoch 88/300\n",
      "1/1 [==============================] - 0s 3ms/step - loss: 9.7949 - mae: 9.7949\n",
      "Epoch 89/300\n",
      "1/1 [==============================] - 0s 3ms/step - loss: 9.7508 - mae: 9.7508\n",
      "Epoch 90/300\n",
      "1/1 [==============================] - 0s 4ms/step - loss: 9.7063 - mae: 9.7063\n",
      "Epoch 91/300\n",
      "1/1 [==============================] - 0s 4ms/step - loss: 9.6613 - mae: 9.6613\n",
      "Epoch 92/300\n",
      "1/1 [==============================] - 0s 3ms/step - loss: 9.6158 - mae: 9.6158\n",
      "Epoch 93/300\n",
      "1/1 [==============================] - 0s 3ms/step - loss: 9.5704 - mae: 9.5704\n",
      "Epoch 94/300\n",
      "1/1 [==============================] - 0s 3ms/step - loss: 9.5250 - mae: 9.5250\n",
      "Epoch 95/300\n",
      "1/1 [==============================] - 0s 4ms/step - loss: 9.4792 - mae: 9.4792\n",
      "Epoch 96/300\n",
      "1/1 [==============================] - 0s 3ms/step - loss: 9.4327 - mae: 9.4327\n",
      "Epoch 97/300\n",
      "1/1 [==============================] - 0s 3ms/step - loss: 9.3856 - mae: 9.3856\n",
      "Epoch 98/300\n",
      "1/1 [==============================] - 0s 3ms/step - loss: 9.3381 - mae: 9.3381\n",
      "Epoch 99/300\n",
      "1/1 [==============================] - 0s 3ms/step - loss: 9.2903 - mae: 9.2903\n",
      "Epoch 100/300\n",
      "1/1 [==============================] - 0s 3ms/step - loss: 9.2421 - mae: 9.2421\n",
      "Epoch 101/300\n",
      "1/1 [==============================] - 0s 3ms/step - loss: 9.1934 - mae: 9.1934\n",
      "Epoch 102/300\n",
      "1/1 [==============================] - 0s 3ms/step - loss: 9.1443 - mae: 9.1443\n",
      "Epoch 103/300\n",
      "1/1 [==============================] - 0s 3ms/step - loss: 9.0947 - mae: 9.0947\n",
      "Epoch 104/300\n",
      "1/1 [==============================] - 0s 3ms/step - loss: 9.0448 - mae: 9.0448\n",
      "Epoch 105/300\n",
      "1/1 [==============================] - 0s 2ms/step - loss: 8.9947 - mae: 8.9947\n",
      "Epoch 106/300\n",
      "1/1 [==============================] - 0s 3ms/step - loss: 8.9442 - mae: 8.9442\n",
      "Epoch 107/300\n",
      "1/1 [==============================] - 0s 3ms/step - loss: 8.8932 - mae: 8.8932\n",
      "Epoch 108/300\n",
      "1/1 [==============================] - 0s 3ms/step - loss: 8.8417 - mae: 8.8417\n",
      "Epoch 109/300\n",
      "1/1 [==============================] - 0s 4ms/step - loss: 8.7900 - mae: 8.7900\n",
      "Epoch 110/300\n",
      "1/1 [==============================] - 0s 4ms/step - loss: 8.7379 - mae: 8.7379\n",
      "Epoch 111/300\n",
      "1/1 [==============================] - 0s 3ms/step - loss: 8.6856 - mae: 8.6856\n",
      "Epoch 112/300\n",
      "1/1 [==============================] - 0s 3ms/step - loss: 8.6329 - mae: 8.6329\n",
      "Epoch 113/300\n",
      "1/1 [==============================] - 0s 3ms/step - loss: 8.5799 - mae: 8.5799\n",
      "Epoch 114/300\n",
      "1/1 [==============================] - 0s 3ms/step - loss: 8.5265 - mae: 8.5265\n",
      "Epoch 115/300\n",
      "1/1 [==============================] - 0s 4ms/step - loss: 8.4727 - mae: 8.4727\n",
      "Epoch 116/300\n",
      "1/1 [==============================] - 0s 3ms/step - loss: 8.4183 - mae: 8.4183\n",
      "Epoch 117/300\n",
      "1/1 [==============================] - 0s 4ms/step - loss: 8.3635 - mae: 8.3635\n",
      "Epoch 118/300\n",
      "1/1 [==============================] - 0s 4ms/step - loss: 8.3082 - mae: 8.3082\n",
      "Epoch 119/300\n",
      "1/1 [==============================] - 0s 2ms/step - loss: 8.2523 - mae: 8.2523\n",
      "Epoch 120/300\n",
      "1/1 [==============================] - 0s 4ms/step - loss: 8.1961 - mae: 8.1961\n",
      "Epoch 121/300\n",
      "1/1 [==============================] - 0s 5ms/step - loss: 8.1393 - mae: 8.1393\n",
      "Epoch 122/300\n",
      "1/1 [==============================] - 0s 3ms/step - loss: 8.0819 - mae: 8.0819\n",
      "Epoch 123/300\n",
      "1/1 [==============================] - 0s 3ms/step - loss: 8.0241 - mae: 8.0241\n",
      "Epoch 124/300\n",
      "1/1 [==============================] - 0s 4ms/step - loss: 7.9660 - mae: 7.9660\n",
      "Epoch 125/300\n",
      "1/1 [==============================] - 0s 3ms/step - loss: 7.9074 - mae: 7.9074\n",
      "Epoch 126/300\n",
      "1/1 [==============================] - 0s 3ms/step - loss: 7.8483 - mae: 7.8483\n",
      "Epoch 127/300\n",
      "1/1 [==============================] - 0s 3ms/step - loss: 7.7887 - mae: 7.7887\n",
      "Epoch 128/300\n",
      "1/1 [==============================] - 0s 3ms/step - loss: 7.7287 - mae: 7.7287\n",
      "Epoch 129/300\n",
      "1/1 [==============================] - 0s 2ms/step - loss: 7.6683 - mae: 7.6683\n",
      "Epoch 130/300\n",
      "1/1 [==============================] - 0s 3ms/step - loss: 7.6077 - mae: 7.6077\n",
      "Epoch 131/300\n",
      "1/1 [==============================] - 0s 3ms/step - loss: 7.5476 - mae: 7.5476\n",
      "Epoch 132/300\n",
      "1/1 [==============================] - 0s 4ms/step - loss: 7.4873 - mae: 7.4873\n",
      "Epoch 133/300\n",
      "1/1 [==============================] - 0s 3ms/step - loss: 7.4264 - mae: 7.4264\n",
      "Epoch 134/300\n",
      "1/1 [==============================] - 0s 3ms/step - loss: 7.3649 - mae: 7.3649\n",
      "Epoch 135/300\n",
      "1/1 [==============================] - 0s 3ms/step - loss: 7.3029 - mae: 7.3029\n",
      "Epoch 136/300\n",
      "1/1 [==============================] - 0s 3ms/step - loss: 7.2402 - mae: 7.2402\n",
      "Epoch 137/300\n",
      "1/1 [==============================] - 0s 4ms/step - loss: 7.1770 - mae: 7.1770\n",
      "Epoch 138/300\n",
      "1/1 [==============================] - 0s 4ms/step - loss: 7.1133 - mae: 7.1133\n",
      "Epoch 139/300\n",
      "1/1 [==============================] - 0s 3ms/step - loss: 7.0489 - mae: 7.0489\n",
      "Epoch 140/300\n",
      "1/1 [==============================] - 0s 2ms/step - loss: 6.9839 - mae: 6.9839\n",
      "Epoch 141/300\n",
      "1/1 [==============================] - 0s 5ms/step - loss: 6.9184 - mae: 6.9184\n",
      "Epoch 142/300\n",
      "1/1 [==============================] - 0s 3ms/step - loss: 6.8523 - mae: 6.8523\n",
      "Epoch 143/300\n",
      "1/1 [==============================] - 0s 3ms/step - loss: 6.7856 - mae: 6.7856\n",
      "Epoch 144/300\n",
      "1/1 [==============================] - 0s 4ms/step - loss: 6.7184 - mae: 6.7184\n",
      "Epoch 145/300\n",
      "1/1 [==============================] - 0s 4ms/step - loss: 6.6505 - mae: 6.6505\n",
      "Epoch 146/300\n",
      "1/1 [==============================] - 0s 4ms/step - loss: 6.5820 - mae: 6.5820\n",
      "Epoch 147/300\n",
      "1/1 [==============================] - 0s 4ms/step - loss: 6.5129 - mae: 6.5129\n",
      "Epoch 148/300\n",
      "1/1 [==============================] - 0s 3ms/step - loss: 6.4432 - mae: 6.4432\n",
      "Epoch 149/300\n",
      "1/1 [==============================] - 0s 3ms/step - loss: 6.3729 - mae: 6.3729\n",
      "Epoch 150/300\n",
      "1/1 [==============================] - 0s 3ms/step - loss: 6.3019 - mae: 6.3019\n",
      "Epoch 151/300\n",
      "1/1 [==============================] - 0s 3ms/step - loss: 6.2302 - mae: 6.2302\n",
      "Epoch 152/300\n",
      "1/1 [==============================] - 0s 4ms/step - loss: 6.1578 - mae: 6.1578\n",
      "Epoch 153/300\n",
      "1/1 [==============================] - 0s 3ms/step - loss: 6.0842 - mae: 6.0842\n",
      "Epoch 154/300\n",
      "1/1 [==============================] - 0s 4ms/step - loss: 6.0098 - mae: 6.0098\n",
      "Epoch 155/300\n",
      "1/1 [==============================] - 0s 4ms/step - loss: 5.9345 - mae: 5.9345\n",
      "Epoch 156/300\n",
      "1/1 [==============================] - 0s 4ms/step - loss: 5.8583 - mae: 5.8583\n",
      "Epoch 157/300\n",
      "1/1 [==============================] - 0s 3ms/step - loss: 5.7813 - mae: 5.7813\n",
      "Epoch 158/300\n",
      "1/1 [==============================] - 0s 4ms/step - loss: 5.7036 - mae: 5.7036\n",
      "Epoch 159/300\n",
      "1/1 [==============================] - 0s 4ms/step - loss: 5.6251 - mae: 5.6251\n",
      "Epoch 160/300\n",
      "1/1 [==============================] - 0s 3ms/step - loss: 5.5456 - mae: 5.5456\n",
      "Epoch 161/300\n",
      "1/1 [==============================] - 0s 4ms/step - loss: 5.4653 - mae: 5.4653\n",
      "Epoch 162/300\n",
      "1/1 [==============================] - 0s 4ms/step - loss: 5.3842 - mae: 5.3842\n",
      "Epoch 163/300\n",
      "1/1 [==============================] - 0s 3ms/step - loss: 5.3023 - mae: 5.3023\n",
      "Epoch 164/300\n",
      "1/1 [==============================] - 0s 3ms/step - loss: 5.2194 - mae: 5.2194\n",
      "Epoch 165/300\n",
      "1/1 [==============================] - 0s 3ms/step - loss: 5.1358 - mae: 5.1358\n",
      "Epoch 166/300\n",
      "1/1 [==============================] - 0s 3ms/step - loss: 5.0514 - mae: 5.0514\n",
      "Epoch 167/300\n",
      "1/1 [==============================] - 0s 4ms/step - loss: 4.9662 - mae: 4.9662\n",
      "Epoch 168/300\n",
      "1/1 [==============================] - 0s 3ms/step - loss: 4.8801 - mae: 4.8801\n",
      "Epoch 169/300\n",
      "1/1 [==============================] - 0s 3ms/step - loss: 4.7932 - mae: 4.7932\n",
      "Epoch 170/300\n",
      "1/1 [==============================] - 0s 3ms/step - loss: 4.7053 - mae: 4.7053\n",
      "Epoch 171/300\n",
      "1/1 [==============================] - 0s 3ms/step - loss: 4.6168 - mae: 4.6168\n",
      "Epoch 172/300\n",
      "1/1 [==============================] - 0s 3ms/step - loss: 4.5274 - mae: 4.5274\n",
      "Epoch 173/300\n",
      "1/1 [==============================] - 0s 4ms/step - loss: 4.4372 - mae: 4.4372\n",
      "Epoch 174/300\n"
     ]
    },
    {
     "name": "stdout",
     "output_type": "stream",
     "text": [
      "1/1 [==============================] - 0s 2ms/step - loss: 4.3461 - mae: 4.3461\n",
      "Epoch 175/300\n",
      "1/1 [==============================] - 0s 4ms/step - loss: 4.2542 - mae: 4.2542\n",
      "Epoch 176/300\n",
      "1/1 [==============================] - 0s 3ms/step - loss: 4.1615 - mae: 4.1615\n",
      "Epoch 177/300\n",
      "1/1 [==============================] - 0s 3ms/step - loss: 4.0971 - mae: 4.0971\n",
      "Epoch 178/300\n",
      "1/1 [==============================] - 0s 3ms/step - loss: 4.0690 - mae: 4.0690\n",
      "Epoch 179/300\n",
      "1/1 [==============================] - 0s 3ms/step - loss: 4.0423 - mae: 4.0423\n",
      "Epoch 180/300\n",
      "1/1 [==============================] - 0s 4ms/step - loss: 4.0167 - mae: 4.0167\n",
      "Epoch 181/300\n",
      "1/1 [==============================] - 0s 3ms/step - loss: 3.9924 - mae: 3.9924\n",
      "Epoch 182/300\n",
      "1/1 [==============================] - 0s 4ms/step - loss: 3.9695 - mae: 3.9695\n",
      "Epoch 183/300\n",
      "1/1 [==============================] - 0s 3ms/step - loss: 3.9476 - mae: 3.9476\n",
      "Epoch 184/300\n",
      "1/1 [==============================] - 0s 3ms/step - loss: 3.9265 - mae: 3.9265\n",
      "Epoch 185/300\n",
      "1/1 [==============================] - 0s 4ms/step - loss: 3.9063 - mae: 3.9063\n",
      "Epoch 186/300\n",
      "1/1 [==============================] - 0s 4ms/step - loss: 3.8867 - mae: 3.8867\n",
      "Epoch 187/300\n",
      "1/1 [==============================] - 0s 3ms/step - loss: 3.8677 - mae: 3.8677\n",
      "Epoch 188/300\n",
      "1/1 [==============================] - 0s 3ms/step - loss: 3.8492 - mae: 3.8492\n",
      "Epoch 189/300\n",
      "1/1 [==============================] - 0s 4ms/step - loss: 3.8313 - mae: 3.8313\n",
      "Epoch 190/300\n",
      "1/1 [==============================] - 0s 3ms/step - loss: 3.8147 - mae: 3.8147\n",
      "Epoch 191/300\n",
      "1/1 [==============================] - 0s 3ms/step - loss: 3.8064 - mae: 3.8064\n",
      "Epoch 192/300\n",
      "1/1 [==============================] - 0s 3ms/step - loss: 3.8155 - mae: 3.8155\n",
      "Epoch 193/300\n",
      "1/1 [==============================] - 0s 3ms/step - loss: 3.8229 - mae: 3.8229\n",
      "Epoch 194/300\n",
      "1/1 [==============================] - 0s 3ms/step - loss: 3.8285 - mae: 3.8285\n",
      "Epoch 195/300\n",
      "1/1 [==============================] - 0s 3ms/step - loss: 3.8336 - mae: 3.8336\n",
      "Epoch 196/300\n",
      "1/1 [==============================] - 0s 3ms/step - loss: 3.8365 - mae: 3.8365\n",
      "Epoch 197/300\n",
      "1/1 [==============================] - 0s 3ms/step - loss: 3.8389 - mae: 3.8389\n",
      "Epoch 198/300\n",
      "1/1 [==============================] - 0s 3ms/step - loss: 3.8403 - mae: 3.8403\n",
      "Epoch 199/300\n",
      "1/1 [==============================] - 0s 4ms/step - loss: 3.8406 - mae: 3.8406\n",
      "Epoch 200/300\n",
      "1/1 [==============================] - 0s 4ms/step - loss: 3.8399 - mae: 3.8399\n",
      "Epoch 201/300\n",
      "1/1 [==============================] - 0s 2ms/step - loss: 3.8384 - mae: 3.8384\n",
      "Epoch 202/300\n",
      "1/1 [==============================] - 0s 4ms/step - loss: 3.8360 - mae: 3.8360\n",
      "Epoch 203/300\n",
      "1/1 [==============================] - 0s 3ms/step - loss: 3.8339 - mae: 3.8339\n",
      "Epoch 204/300\n",
      "1/1 [==============================] - 0s 3ms/step - loss: 3.8301 - mae: 3.8301\n",
      "Epoch 205/300\n",
      "1/1 [==============================] - 0s 4ms/step - loss: 3.8269 - mae: 3.8269\n",
      "Epoch 206/300\n",
      "1/1 [==============================] - 0s 4ms/step - loss: 3.8230 - mae: 3.8230\n",
      "Epoch 207/300\n",
      "1/1 [==============================] - 0s 3ms/step - loss: 3.8186 - mae: 3.8186\n",
      "Epoch 208/300\n",
      "1/1 [==============================] - 0s 4ms/step - loss: 3.8137 - mae: 3.8137\n",
      "Epoch 209/300\n",
      "1/1 [==============================] - 0s 2ms/step - loss: 3.8083 - mae: 3.8083\n",
      "Epoch 210/300\n",
      "1/1 [==============================] - 0s 4ms/step - loss: 3.8047 - mae: 3.8047\n",
      "Epoch 211/300\n",
      "1/1 [==============================] - 0s 3ms/step - loss: 3.7973 - mae: 3.7973\n",
      "Epoch 212/300\n",
      "1/1 [==============================] - 0s 3ms/step - loss: 3.7917 - mae: 3.7917\n",
      "Epoch 213/300\n",
      "1/1 [==============================] - 0s 5ms/step - loss: 3.7858 - mae: 3.7858\n",
      "Epoch 214/300\n",
      "1/1 [==============================] - 0s 6ms/step - loss: 3.7865 - mae: 3.7865\n",
      "Epoch 215/300\n",
      "1/1 [==============================] - 0s 4ms/step - loss: 3.7909 - mae: 3.7909\n",
      "Epoch 216/300\n",
      "1/1 [==============================] - 0s 4ms/step - loss: 3.7941 - mae: 3.7941\n",
      "Epoch 217/300\n",
      "1/1 [==============================] - 0s 4ms/step - loss: 3.7948 - mae: 3.7948\n",
      "Epoch 218/300\n",
      "1/1 [==============================] - 0s 4ms/step - loss: 3.7947 - mae: 3.7947\n",
      "Epoch 219/300\n",
      "1/1 [==============================] - 0s 3ms/step - loss: 3.7931 - mae: 3.7931\n",
      "Epoch 220/300\n",
      "1/1 [==============================] - 0s 4ms/step - loss: 3.7903 - mae: 3.7903\n",
      "Epoch 221/300\n",
      "1/1 [==============================] - 0s 4ms/step - loss: 3.7863 - mae: 3.7863\n",
      "Epoch 222/300\n",
      "1/1 [==============================] - 0s 3ms/step - loss: 3.7812 - mae: 3.7812\n",
      "Epoch 223/300\n",
      "1/1 [==============================] - 0s 4ms/step - loss: 3.7766 - mae: 3.7766\n",
      "Epoch 224/300\n",
      "1/1 [==============================] - 0s 3ms/step - loss: 3.7782 - mae: 3.7782\n",
      "Epoch 225/300\n",
      "1/1 [==============================] - 0s 3ms/step - loss: 3.7787 - mae: 3.7787\n",
      "Epoch 226/300\n",
      "1/1 [==============================] - 0s 3ms/step - loss: 3.7783 - mae: 3.7783\n",
      "Epoch 227/300\n",
      "1/1 [==============================] - 0s 4ms/step - loss: 3.7790 - mae: 3.7790\n",
      "Epoch 228/300\n",
      "1/1 [==============================] - 0s 4ms/step - loss: 3.7759 - mae: 3.7759\n",
      "Epoch 229/300\n",
      "1/1 [==============================] - 0s 4ms/step - loss: 3.7745 - mae: 3.7745\n",
      "Epoch 230/300\n",
      "1/1 [==============================] - 0s 4ms/step - loss: 3.7725 - mae: 3.7725\n",
      "Epoch 231/300\n",
      "1/1 [==============================] - 0s 4ms/step - loss: 3.7709 - mae: 3.7709\n",
      "Epoch 232/300\n",
      "1/1 [==============================] - 0s 4ms/step - loss: 3.7720 - mae: 3.7720\n",
      "Epoch 233/300\n",
      "1/1 [==============================] - 0s 4ms/step - loss: 3.7715 - mae: 3.7715\n",
      "Epoch 234/300\n",
      "1/1 [==============================] - 0s 3ms/step - loss: 3.7696 - mae: 3.7696\n",
      "Epoch 235/300\n",
      "1/1 [==============================] - 0s 4ms/step - loss: 3.7685 - mae: 3.7685\n",
      "Epoch 236/300\n",
      "1/1 [==============================] - 0s 3ms/step - loss: 3.7684 - mae: 3.7684\n",
      "Epoch 237/300\n",
      "1/1 [==============================] - 0s 4ms/step - loss: 3.7673 - mae: 3.7673\n",
      "Epoch 238/300\n",
      "1/1 [==============================] - 0s 4ms/step - loss: 3.7655 - mae: 3.7655\n",
      "Epoch 239/300\n",
      "1/1 [==============================] - 0s 5ms/step - loss: 3.7639 - mae: 3.7639\n",
      "Epoch 240/300\n",
      "1/1 [==============================] - 0s 4ms/step - loss: 3.7630 - mae: 3.7630\n",
      "Epoch 241/300\n",
      "1/1 [==============================] - 0s 4ms/step - loss: 3.7608 - mae: 3.7608\n",
      "Epoch 242/300\n",
      "1/1 [==============================] - 0s 4ms/step - loss: 3.7595 - mae: 3.7595\n",
      "Epoch 243/300\n",
      "1/1 [==============================] - 0s 3ms/step - loss: 3.7588 - mae: 3.7588\n",
      "Epoch 244/300\n",
      "1/1 [==============================] - 0s 4ms/step - loss: 3.7615 - mae: 3.7615\n",
      "Epoch 245/300\n",
      "1/1 [==============================] - 0s 3ms/step - loss: 3.7591 - mae: 3.7591\n",
      "Epoch 246/300\n",
      "1/1 [==============================] - 0s 3ms/step - loss: 3.7570 - mae: 3.7570\n",
      "Epoch 247/300\n",
      "1/1 [==============================] - 0s 5ms/step - loss: 3.7568 - mae: 3.7568\n",
      "Epoch 248/300\n",
      "1/1 [==============================] - 0s 3ms/step - loss: 3.7553 - mae: 3.7553\n",
      "Epoch 249/300\n",
      "1/1 [==============================] - 0s 4ms/step - loss: 3.7549 - mae: 3.7549\n",
      "Epoch 250/300\n",
      "1/1 [==============================] - 0s 4ms/step - loss: 3.7547 - mae: 3.7547\n",
      "Epoch 251/300\n",
      "1/1 [==============================] - 0s 3ms/step - loss: 3.7534 - mae: 3.7534\n",
      "Epoch 252/300\n",
      "1/1 [==============================] - 0s 5ms/step - loss: 3.7534 - mae: 3.7534\n",
      "Epoch 253/300\n",
      "1/1 [==============================] - 0s 3ms/step - loss: 3.7528 - mae: 3.7528\n",
      "Epoch 254/300\n",
      "1/1 [==============================] - 0s 4ms/step - loss: 3.7514 - mae: 3.7514\n",
      "Epoch 255/300\n",
      "1/1 [==============================] - 0s 4ms/step - loss: 3.7492 - mae: 3.7492\n",
      "Epoch 256/300\n",
      "1/1 [==============================] - 0s 3ms/step - loss: 3.7490 - mae: 3.7490\n",
      "Epoch 257/300\n",
      "1/1 [==============================] - 0s 4ms/step - loss: 3.7483 - mae: 3.7483\n",
      "Epoch 258/300\n",
      "1/1 [==============================] - 0s 3ms/step - loss: 3.7464 - mae: 3.7464\n",
      "Epoch 259/300\n",
      "1/1 [==============================] - 0s 3ms/step - loss: 3.7445 - mae: 3.7445\n",
      "Epoch 260/300\n",
      "1/1 [==============================] - 0s 3ms/step - loss: 3.7444 - mae: 3.7444\n",
      "Epoch 261/300\n"
     ]
    },
    {
     "name": "stdout",
     "output_type": "stream",
     "text": [
      "1/1 [==============================] - 0s 3ms/step - loss: 3.7434 - mae: 3.7434\n",
      "Epoch 262/300\n",
      "1/1 [==============================] - 0s 4ms/step - loss: 3.7414 - mae: 3.7414\n",
      "Epoch 263/300\n",
      "1/1 [==============================] - 0s 4ms/step - loss: 3.7427 - mae: 3.7427\n",
      "Epoch 264/300\n",
      "1/1 [==============================] - 0s 5ms/step - loss: 3.7419 - mae: 3.7419\n",
      "Epoch 265/300\n",
      "1/1 [==============================] - 0s 4ms/step - loss: 3.7403 - mae: 3.7403\n",
      "Epoch 266/300\n",
      "1/1 [==============================] - 0s 4ms/step - loss: 3.7392 - mae: 3.7392\n",
      "Epoch 267/300\n",
      "1/1 [==============================] - 0s 3ms/step - loss: 3.7391 - mae: 3.7391\n",
      "Epoch 268/300\n",
      "1/1 [==============================] - 0s 3ms/step - loss: 3.7380 - mae: 3.7380\n",
      "Epoch 269/300\n",
      "1/1 [==============================] - 0s 3ms/step - loss: 3.7359 - mae: 3.7359\n",
      "Epoch 270/300\n",
      "1/1 [==============================] - 0s 4ms/step - loss: 3.7352 - mae: 3.7352\n",
      "Epoch 271/300\n",
      "1/1 [==============================] - 0s 4ms/step - loss: 3.7343 - mae: 3.7343\n",
      "Epoch 272/300\n",
      "1/1 [==============================] - 0s 3ms/step - loss: 3.7330 - mae: 3.7330\n",
      "Epoch 273/300\n",
      "1/1 [==============================] - 0s 3ms/step - loss: 3.7323 - mae: 3.7323\n",
      "Epoch 274/300\n",
      "1/1 [==============================] - 0s 4ms/step - loss: 3.7325 - mae: 3.7325\n",
      "Epoch 275/300\n",
      "1/1 [==============================] - 0s 3ms/step - loss: 3.7317 - mae: 3.7317\n",
      "Epoch 276/300\n",
      "1/1 [==============================] - 0s 4ms/step - loss: 3.7300 - mae: 3.7300\n",
      "Epoch 277/300\n",
      "1/1 [==============================] - 0s 3ms/step - loss: 3.7274 - mae: 3.7274\n",
      "Epoch 278/300\n",
      "1/1 [==============================] - 0s 3ms/step - loss: 3.7289 - mae: 3.7289\n",
      "Epoch 279/300\n",
      "1/1 [==============================] - 0s 3ms/step - loss: 3.7313 - mae: 3.7313\n",
      "Epoch 280/300\n",
      "1/1 [==============================] - 0s 4ms/step - loss: 3.7278 - mae: 3.7278\n",
      "Epoch 281/300\n",
      "1/1 [==============================] - 0s 3ms/step - loss: 3.7253 - mae: 3.7253\n",
      "Epoch 282/300\n",
      "1/1 [==============================] - 0s 4ms/step - loss: 3.7243 - mae: 3.7243\n",
      "Epoch 283/300\n",
      "1/1 [==============================] - 0s 4ms/step - loss: 3.7247 - mae: 3.7247\n",
      "Epoch 284/300\n",
      "1/1 [==============================] - 0s 3ms/step - loss: 3.7241 - mae: 3.7241\n",
      "Epoch 285/300\n",
      "1/1 [==============================] - 0s 4ms/step - loss: 3.7225 - mae: 3.7225\n",
      "Epoch 286/300\n",
      "1/1 [==============================] - 0s 2ms/step - loss: 3.7201 - mae: 3.7201\n",
      "Epoch 287/300\n",
      "1/1 [==============================] - 0s 3ms/step - loss: 3.7213 - mae: 3.7213\n",
      "Epoch 288/300\n",
      "1/1 [==============================] - 0s 3ms/step - loss: 3.7188 - mae: 3.7188\n",
      "Epoch 289/300\n",
      "1/1 [==============================] - 0s 5ms/step - loss: 3.7177 - mae: 3.7177\n",
      "Epoch 290/300\n",
      "1/1 [==============================] - 0s 3ms/step - loss: 3.7181 - mae: 3.7181\n",
      "Epoch 291/300\n",
      "1/1 [==============================] - 0s 4ms/step - loss: 3.7186 - mae: 3.7186\n",
      "Epoch 292/300\n",
      "1/1 [==============================] - 0s 2ms/step - loss: 3.7179 - mae: 3.7179\n",
      "Epoch 293/300\n",
      "1/1 [==============================] - 0s 2ms/step - loss: 3.7162 - mae: 3.7162\n",
      "Epoch 294/300\n",
      "1/1 [==============================] - 0s 4ms/step - loss: 3.7154 - mae: 3.7154\n",
      "Epoch 295/300\n",
      "1/1 [==============================] - 0s 2ms/step - loss: 3.7150 - mae: 3.7150\n",
      "Epoch 296/300\n",
      "1/1 [==============================] - 0s 4ms/step - loss: 3.7130 - mae: 3.7130\n",
      "Epoch 297/300\n",
      "1/1 [==============================] - 0s 2ms/step - loss: 3.7125 - mae: 3.7125\n",
      "Epoch 298/300\n",
      "1/1 [==============================] - 0s 2ms/step - loss: 3.7119 - mae: 3.7119\n",
      "Epoch 299/300\n",
      "1/1 [==============================] - 0s 4ms/step - loss: 3.7099 - mae: 3.7099\n",
      "Epoch 300/300\n",
      "1/1 [==============================] - 0s 3ms/step - loss: 3.7078 - mae: 3.7078\n"
     ]
    },
    {
     "data": {
      "text/plain": [
       "<keras.callbacks.History at 0x20f37506460>"
      ]
     },
     "execution_count": 18,
     "metadata": {},
     "output_type": "execute_result"
    }
   ],
   "source": [
    "# 2nd experiment : buil a larger model, as an improvement to the model\n",
    "\n",
    "# Set a random seed (in order to have some reproducibility)\n",
    "tf.random.set_seed(42)\n",
    "\n",
    "# 1. Create a model using the Sequential API\n",
    "model = tf.keras.Sequential([\n",
    "    \n",
    "    # Adding more hidden layers, more neurons, and activation function \n",
    "    tf.keras.layers.Dense(100, activation=\"relu\"),\n",
    "    tf.keras.layers.Dense(100, activation=\"relu\"),\n",
    "    tf.keras.layers.Dense(100, activation=\"relu\"),\n",
    "    \n",
    "    tf.keras.layers.Dense(1)\n",
    "])\n",
    "\n",
    "# 2. Compile the model\n",
    "model.compile(loss=tf.keras.losses.mae, # MAE : Mean Absolute Error\n",
    "              optimizer=tf.keras.optimizers.Adam(lr=0.0001), # lr = Learning Rate\n",
    "              metrics=[\"mae\"]\n",
    "             )\n",
    "\n",
    "# 3. Fit the model \n",
    "model.fit(tf.expand_dims(X, axis=-1),y, epochs=300) # Increasing the number of epochs\n"
   ]
  },
  {
   "cell_type": "markdown",
   "id": "673624a9",
   "metadata": {},
   "source": [
    "The 2nd model, although more larger, don't provide a better training result compared to the previously built one."
   ]
  },
  {
   "cell_type": "code",
   "execution_count": 19,
   "id": "533e0fa1",
   "metadata": {},
   "outputs": [
    {
     "data": {
      "text/plain": [
       "(<tf.Tensor: shape=(8,), dtype=float64, numpy=array([-7., -4., -1.,  2.,  5.,  8., 11., 14.])>,\n",
       " <tf.Tensor: shape=(8,), dtype=float64, numpy=array([ 3.,  6.,  9., 12., 15., 18., 21., 24.])>)"
      ]
     },
     "execution_count": 19,
     "metadata": {},
     "output_type": "execute_result"
    }
   ],
   "source": [
    "# Remind ourselves of the data\n",
    "X, y"
   ]
  },
  {
   "cell_type": "code",
   "execution_count": 20,
   "id": "9e130a20",
   "metadata": {},
   "outputs": [
    {
     "name": "stdout",
     "output_type": "stream",
     "text": [
      "1/1 [==============================] - 0s 99ms/step\n"
     ]
    },
    {
     "data": {
      "text/plain": [
       "array([[32.026924]], dtype=float32)"
      ]
     },
     "execution_count": 20,
     "metadata": {},
     "output_type": "execute_result"
    }
   ],
   "source": [
    "# Check if the model's prediction has improved...\n",
    "model.predict([17.])"
   ]
  },
  {
   "cell_type": "code",
   "execution_count": null,
   "id": "883941b4",
   "metadata": {},
   "outputs": [],
   "source": []
  },
  {
   "cell_type": "code",
   "execution_count": 21,
   "id": "0cc87495",
   "metadata": {},
   "outputs": [
    {
     "name": "stdout",
     "output_type": "stream",
     "text": [
      "Epoch 1/100\n",
      "1/1 [==============================] - 0s 454ms/step - loss: 14.0080 - mae: 14.0080\n",
      "Epoch 2/100\n",
      "1/1 [==============================] - 0s 4ms/step - loss: 13.2126 - mae: 13.2126\n",
      "Epoch 3/100\n",
      "1/1 [==============================] - 0s 6ms/step - loss: 12.4182 - mae: 12.4182\n",
      "Epoch 4/100\n",
      "1/1 [==============================] - 0s 5ms/step - loss: 11.8102 - mae: 11.8102\n",
      "Epoch 5/100\n",
      "1/1 [==============================] - 0s 3ms/step - loss: 11.2751 - mae: 11.2751\n",
      "Epoch 6/100\n",
      "1/1 [==============================] - 0s 3ms/step - loss: 10.7251 - mae: 10.7251\n",
      "Epoch 7/100\n",
      "1/1 [==============================] - 0s 3ms/step - loss: 10.1576 - mae: 10.1576\n",
      "Epoch 8/100\n",
      "1/1 [==============================] - 0s 3ms/step - loss: 9.5774 - mae: 9.5774\n",
      "Epoch 9/100\n",
      "1/1 [==============================] - 0s 3ms/step - loss: 8.9857 - mae: 8.9857\n",
      "Epoch 10/100\n",
      "1/1 [==============================] - 0s 3ms/step - loss: 8.3740 - mae: 8.3740\n",
      "Epoch 11/100\n",
      "1/1 [==============================] - 0s 3ms/step - loss: 7.7423 - mae: 7.7423\n",
      "Epoch 12/100\n",
      "1/1 [==============================] - 0s 4ms/step - loss: 7.0912 - mae: 7.0912\n",
      "Epoch 13/100\n",
      "1/1 [==============================] - 0s 4ms/step - loss: 6.4166 - mae: 6.4166\n",
      "Epoch 14/100\n",
      "1/1 [==============================] - 0s 3ms/step - loss: 5.7145 - mae: 5.7145\n",
      "Epoch 15/100\n",
      "1/1 [==============================] - 0s 4ms/step - loss: 4.9828 - mae: 4.9828\n",
      "Epoch 16/100\n",
      "1/1 [==============================] - 0s 2ms/step - loss: 4.2218 - mae: 4.2218\n",
      "Epoch 17/100\n",
      "1/1 [==============================] - 0s 4ms/step - loss: 3.7568 - mae: 3.7568\n",
      "Epoch 18/100\n",
      "1/1 [==============================] - 0s 4ms/step - loss: 3.6914 - mae: 3.6914\n",
      "Epoch 19/100\n",
      "1/1 [==============================] - 0s 5ms/step - loss: 3.8146 - mae: 3.8146\n",
      "Epoch 20/100\n",
      "1/1 [==============================] - 0s 4ms/step - loss: 4.0000 - mae: 4.0000\n",
      "Epoch 21/100\n",
      "1/1 [==============================] - 0s 3ms/step - loss: 4.2474 - mae: 4.2474\n",
      "Epoch 22/100\n",
      "1/1 [==============================] - 0s 3ms/step - loss: 4.4027 - mae: 4.4027\n",
      "Epoch 23/100\n",
      "1/1 [==============================] - 0s 4ms/step - loss: 4.4735 - mae: 4.4735\n",
      "Epoch 24/100\n",
      "1/1 [==============================] - 0s 3ms/step - loss: 4.4712 - mae: 4.4712\n",
      "Epoch 25/100\n",
      "1/1 [==============================] - 0s 4ms/step - loss: 4.4085 - mae: 4.4085\n",
      "Epoch 26/100\n",
      "1/1 [==============================] - 0s 3ms/step - loss: 4.2875 - mae: 4.2875\n",
      "Epoch 27/100\n",
      "1/1 [==============================] - 0s 4ms/step - loss: 4.1113 - mae: 4.1113\n",
      "Epoch 28/100\n",
      "1/1 [==============================] - 0s 3ms/step - loss: 3.8951 - mae: 3.8951\n",
      "Epoch 29/100\n",
      "1/1 [==============================] - 0s 3ms/step - loss: 3.6562 - mae: 3.6562\n",
      "Epoch 30/100\n",
      "1/1 [==============================] - 0s 3ms/step - loss: 3.4097 - mae: 3.4097\n",
      "Epoch 31/100\n",
      "1/1 [==============================] - 0s 3ms/step - loss: 3.3080 - mae: 3.3080\n",
      "Epoch 32/100\n",
      "1/1 [==============================] - 0s 3ms/step - loss: 3.1828 - mae: 3.1828\n",
      "Epoch 33/100\n",
      "1/1 [==============================] - 0s 4ms/step - loss: 3.0691 - mae: 3.0691\n",
      "Epoch 34/100\n",
      "1/1 [==============================] - 0s 4ms/step - loss: 2.9768 - mae: 2.9768\n",
      "Epoch 35/100\n",
      "1/1 [==============================] - 0s 3ms/step - loss: 2.9940 - mae: 2.9940\n",
      "Epoch 36/100\n",
      "1/1 [==============================] - 0s 2ms/step - loss: 2.9630 - mae: 2.9630\n",
      "Epoch 37/100\n",
      "1/1 [==============================] - 0s 3ms/step - loss: 2.9057 - mae: 2.9057\n",
      "Epoch 38/100\n",
      "1/1 [==============================] - 0s 3ms/step - loss: 2.8139 - mae: 2.8139\n",
      "Epoch 39/100\n",
      "1/1 [==============================] - 0s 3ms/step - loss: 2.6890 - mae: 2.6890\n",
      "Epoch 40/100\n",
      "1/1 [==============================] - 0s 4ms/step - loss: 2.5483 - mae: 2.5483\n",
      "Epoch 41/100\n",
      "1/1 [==============================] - 0s 3ms/step - loss: 2.4978 - mae: 2.4978\n",
      "Epoch 42/100\n",
      "1/1 [==============================] - 0s 3ms/step - loss: 2.4845 - mae: 2.4845\n",
      "Epoch 43/100\n",
      "1/1 [==============================] - 0s 3ms/step - loss: 2.3721 - mae: 2.3721\n",
      "Epoch 44/100\n",
      "1/1 [==============================] - 0s 3ms/step - loss: 2.2894 - mae: 2.2894\n",
      "Epoch 45/100\n",
      "1/1 [==============================] - 0s 4ms/step - loss: 2.1934 - mae: 2.1934\n",
      "Epoch 46/100\n",
      "1/1 [==============================] - 0s 3ms/step - loss: 2.0833 - mae: 2.0833\n",
      "Epoch 47/100\n",
      "1/1 [==============================] - 0s 3ms/step - loss: 1.9794 - mae: 1.9794\n",
      "Epoch 48/100\n",
      "1/1 [==============================] - 0s 4ms/step - loss: 1.8904 - mae: 1.8904\n",
      "Epoch 49/100\n",
      "1/1 [==============================] - 0s 4ms/step - loss: 1.7463 - mae: 1.7463\n",
      "Epoch 50/100\n",
      "1/1 [==============================] - 0s 4ms/step - loss: 1.6490 - mae: 1.6490\n",
      "Epoch 51/100\n",
      "1/1 [==============================] - 0s 4ms/step - loss: 1.5478 - mae: 1.5478\n",
      "Epoch 52/100\n",
      "1/1 [==============================] - 0s 4ms/step - loss: 1.4328 - mae: 1.4328\n",
      "Epoch 53/100\n",
      "1/1 [==============================] - 0s 3ms/step - loss: 1.3030 - mae: 1.3030\n",
      "Epoch 54/100\n",
      "1/1 [==============================] - 0s 3ms/step - loss: 1.1937 - mae: 1.1937\n",
      "Epoch 55/100\n",
      "1/1 [==============================] - 0s 4ms/step - loss: 1.0550 - mae: 1.0550\n",
      "Epoch 56/100\n",
      "1/1 [==============================] - 0s 4ms/step - loss: 0.8863 - mae: 0.8863\n",
      "Epoch 57/100\n",
      "1/1 [==============================] - 0s 4ms/step - loss: 0.6873 - mae: 0.6873\n",
      "Epoch 58/100\n",
      "1/1 [==============================] - 0s 4ms/step - loss: 0.4952 - mae: 0.4952\n",
      "Epoch 59/100\n",
      "1/1 [==============================] - 0s 3ms/step - loss: 0.2992 - mae: 0.2992\n",
      "Epoch 60/100\n",
      "1/1 [==============================] - 0s 3ms/step - loss: 0.3105 - mae: 0.3105\n",
      "Epoch 61/100\n",
      "1/1 [==============================] - 0s 2ms/step - loss: 0.3502 - mae: 0.3502\n",
      "Epoch 62/100\n",
      "1/1 [==============================] - 0s 3ms/step - loss: 0.2857 - mae: 0.2857\n",
      "Epoch 63/100\n",
      "1/1 [==============================] - 0s 3ms/step - loss: 0.3266 - mae: 0.3266\n",
      "Epoch 64/100\n",
      "1/1 [==============================] - 0s 3ms/step - loss: 0.3120 - mae: 0.3120\n",
      "Epoch 65/100\n",
      "1/1 [==============================] - 0s 4ms/step - loss: 0.4557 - mae: 0.4557\n",
      "Epoch 66/100\n",
      "1/1 [==============================] - 0s 3ms/step - loss: 0.6135 - mae: 0.6135\n",
      "Epoch 67/100\n",
      "1/1 [==============================] - 0s 4ms/step - loss: 0.5181 - mae: 0.5181\n",
      "Epoch 68/100\n",
      "1/1 [==============================] - 0s 3ms/step - loss: 0.3378 - mae: 0.3378\n",
      "Epoch 69/100\n",
      "1/1 [==============================] - 0s 2ms/step - loss: 0.6566 - mae: 0.6566\n",
      "Epoch 70/100\n",
      "1/1 [==============================] - 0s 3ms/step - loss: 0.5708 - mae: 0.5708\n",
      "Epoch 71/100\n",
      "1/1 [==============================] - 0s 3ms/step - loss: 0.3939 - mae: 0.3939\n",
      "Epoch 72/100\n",
      "1/1 [==============================] - 0s 3ms/step - loss: 0.4181 - mae: 0.4181\n",
      "Epoch 73/100\n",
      "1/1 [==============================] - 0s 3ms/step - loss: 0.3081 - mae: 0.3081\n",
      "Epoch 74/100\n",
      "1/1 [==============================] - 0s 3ms/step - loss: 0.2370 - mae: 0.2370\n",
      "Epoch 75/100\n",
      "1/1 [==============================] - 0s 3ms/step - loss: 0.2997 - mae: 0.2997\n",
      "Epoch 76/100\n",
      "1/1 [==============================] - 0s 3ms/step - loss: 0.2327 - mae: 0.2327\n",
      "Epoch 77/100\n",
      "1/1 [==============================] - 0s 2ms/step - loss: 0.2585 - mae: 0.2585\n",
      "Epoch 78/100\n",
      "1/1 [==============================] - 0s 3ms/step - loss: 0.3057 - mae: 0.3057\n",
      "Epoch 79/100\n",
      "1/1 [==============================] - 0s 2ms/step - loss: 0.2673 - mae: 0.2673\n",
      "Epoch 80/100\n",
      "1/1 [==============================] - 0s 4ms/step - loss: 0.3223 - mae: 0.3223\n",
      "Epoch 81/100\n",
      "1/1 [==============================] - 0s 2ms/step - loss: 0.3137 - mae: 0.3137\n",
      "Epoch 82/100\n",
      "1/1 [==============================] - 0s 4ms/step - loss: 0.2270 - mae: 0.2270\n",
      "Epoch 83/100\n",
      "1/1 [==============================] - 0s 3ms/step - loss: 0.2175 - mae: 0.2175\n",
      "Epoch 84/100\n",
      "1/1 [==============================] - 0s 3ms/step - loss: 0.1630 - mae: 0.1630\n",
      "Epoch 85/100\n",
      "1/1 [==============================] - 0s 3ms/step - loss: 0.1739 - mae: 0.1739\n",
      "Epoch 86/100\n",
      "1/1 [==============================] - 0s 3ms/step - loss: 0.1787 - mae: 0.1787\n",
      "Epoch 87/100\n",
      "1/1 [==============================] - 0s 4ms/step - loss: 0.2766 - mae: 0.2766\n",
      "Epoch 88/100\n",
      "1/1 [==============================] - 0s 4ms/step - loss: 0.3070 - mae: 0.3070\n",
      "Epoch 89/100\n"
     ]
    },
    {
     "name": "stdout",
     "output_type": "stream",
     "text": [
      "1/1 [==============================] - 0s 3ms/step - loss: 0.1665 - mae: 0.1665\n",
      "Epoch 90/100\n",
      "1/1 [==============================] - 0s 5ms/step - loss: 0.2838 - mae: 0.2838\n",
      "Epoch 91/100\n",
      "1/1 [==============================] - 0s 4ms/step - loss: 0.1659 - mae: 0.1659\n",
      "Epoch 92/100\n",
      "1/1 [==============================] - 0s 5ms/step - loss: 0.3256 - mae: 0.3256\n",
      "Epoch 93/100\n",
      "1/1 [==============================] - 0s 4ms/step - loss: 0.4358 - mae: 0.4358\n",
      "Epoch 94/100\n",
      "1/1 [==============================] - 0s 4ms/step - loss: 0.3167 - mae: 0.3167\n",
      "Epoch 95/100\n",
      "1/1 [==============================] - 0s 4ms/step - loss: 0.1262 - mae: 0.1262\n",
      "Epoch 96/100\n",
      "1/1 [==============================] - 0s 4ms/step - loss: 0.2589 - mae: 0.2589\n",
      "Epoch 97/100\n",
      "1/1 [==============================] - 0s 3ms/step - loss: 0.1560 - mae: 0.1560\n",
      "Epoch 98/100\n",
      "1/1 [==============================] - 0s 3ms/step - loss: 0.3310 - mae: 0.3310\n",
      "Epoch 99/100\n",
      "1/1 [==============================] - 0s 3ms/step - loss: 0.3912 - mae: 0.3912\n",
      "Epoch 100/100\n",
      "1/1 [==============================] - 0s 3ms/step - loss: 0.2127 - mae: 0.2127\n"
     ]
    },
    {
     "data": {
      "text/plain": [
       "<keras.callbacks.History at 0x20f385f6a00>"
      ]
     },
     "execution_count": 21,
     "metadata": {},
     "output_type": "execute_result"
    }
   ],
   "source": [
    "# 3rd experiment : add a hidden layer, more epochs, and review the learning rate, as an improvement to the model\n",
    "\n",
    "# Set a random seed (in order to have some reproducibility)\n",
    "tf.random.set_seed(42)\n",
    "\n",
    "# 1. Create a model using the Sequential API\n",
    "model = tf.keras.Sequential([\n",
    "    \n",
    "    # Adding more hidden layers, more neurons, and activation function \n",
    "    tf.keras.layers.Dense(100, activation=\"relu\"),\n",
    "    \n",
    "    tf.keras.layers.Dense(1)\n",
    "])\n",
    "\n",
    "# 2. Compile the model\n",
    "model.compile(loss=tf.keras.losses.mae, # MAE : Mean Absolute Error\n",
    "              optimizer=tf.keras.optimizers.Adam(lr=0.01),\n",
    "              metrics=[\"mae\"]\n",
    "             )\n",
    "\n",
    "# 3. Fit the model \n",
    "model.fit(tf.expand_dims(X, axis=-1),y, epochs=100) # Increasing the number of epochs\n"
   ]
  },
  {
   "cell_type": "markdown",
   "id": "94b6ecb8",
   "metadata": {},
   "source": [
    "The loss is 0.1750; this model should perform really well."
   ]
  },
  {
   "cell_type": "code",
   "execution_count": 22,
   "id": "57f0d41b",
   "metadata": {},
   "outputs": [
    {
     "data": {
      "text/plain": [
       "(<tf.Tensor: shape=(8,), dtype=float64, numpy=array([-7., -4., -1.,  2.,  5.,  8., 11., 14.])>,\n",
       " <tf.Tensor: shape=(8,), dtype=float64, numpy=array([ 3.,  6.,  9., 12., 15., 18., 21., 24.])>)"
      ]
     },
     "execution_count": 22,
     "metadata": {},
     "output_type": "execute_result"
    }
   ],
   "source": [
    "# Remind ourselves of the data\n",
    "X, y"
   ]
  },
  {
   "cell_type": "code",
   "execution_count": 23,
   "id": "c898e1c6",
   "metadata": {},
   "outputs": [
    {
     "name": "stdout",
     "output_type": "stream",
     "text": [
      "1/1 [==============================] - 0s 92ms/step\n"
     ]
    },
    {
     "data": {
      "text/plain": [
       "array([[28.121338]], dtype=float32)"
      ]
     },
     "execution_count": 23,
     "metadata": {},
     "output_type": "execute_result"
    }
   ],
   "source": [
    "# Check if the model's prediction has improved...\n",
    "model.predict([17.])"
   ]
  },
  {
   "cell_type": "markdown",
   "id": "a39358dc",
   "metadata": {},
   "source": [
    "The model has predicted 26.918, while the real value is 27. We can conclude that the prediction is pretty well.  \n",
    "**Observation** : adjusting the learning rate of our model has result in the best improvement so far."
   ]
  },
  {
   "cell_type": "code",
   "execution_count": null,
   "id": "b2408c94",
   "metadata": {},
   "outputs": [],
   "source": []
  },
  {
   "cell_type": "markdown",
   "id": "93827ad7",
   "metadata": {},
   "source": [
    "**Model improvement rules** - When improving a model :\n",
    "* **make many small changes** (experiments) and **test each one**, rather than always doing extremely large changes, because otherwise, if one does too big of a change, he might not be sure what caused the improvement or know improvement of the model.\n",
    "* **the learning rate is potentially the most important hyper-parameter that can be changed** on a neural networks in order to improve it"
   ]
  },
  {
   "cell_type": "code",
   "execution_count": null,
   "id": "fe87eb6f",
   "metadata": {},
   "outputs": [],
   "source": []
  },
  {
   "cell_type": "code",
   "execution_count": null,
   "id": "e2c5c066",
   "metadata": {},
   "outputs": [],
   "source": []
  },
  {
   "cell_type": "markdown",
   "id": "a2f52266",
   "metadata": {},
   "source": [
    "## Evaluating a model\n",
    "\n",
    "\n",
    "In practice, a typical workflow one goes through when buidling neural networks is :    \n",
    "``` Build a model -> fit it -> evaluate it -> tweak a model -> fit it evaluate it -> tweak a model -> fit it -> evaluate it -> ... ```\n",
    "\n"
   ]
  },
  {
   "cell_type": "markdown",
   "id": "5be2462e",
   "metadata": {},
   "source": [
    "When it comes to evaluation, there is one words one should memorize, and remember : **visualize**.\n",
    "\n",
    "It's a good idea to visualize : \n",
    "* `The data` - what data are we working with ? What does it look like ?\n",
    "* `The model` itself - what does our model look like ?\n",
    "* `The training` of the model - how does the model perform while it learns ?\n",
    "* `The predictions` of the model - how do the predictions of the model line up agains the real values ?\n",
    "\n",
    "\n",
    "Let us dig into these steps here a bit further by working on a little bit of a larger problem."
   ]
  },
  {
   "cell_type": "code",
   "execution_count": 24,
   "id": "2e38f664",
   "metadata": {},
   "outputs": [
    {
     "data": {
      "text/plain": [
       "<tf.Tensor: shape=(50,), dtype=int32, numpy=\n",
       "array([-100,  -96,  -92,  -88,  -84,  -80,  -76,  -72,  -68,  -64,  -60,\n",
       "        -56,  -52,  -48,  -44,  -40,  -36,  -32,  -28,  -24,  -20,  -16,\n",
       "        -12,   -8,   -4,    0,    4,    8,   12,   16,   20,   24,   28,\n",
       "         32,   36,   40,   44,   48,   52,   56,   60,   64,   68,   72,\n",
       "         76,   80,   84,   88,   92,   96])>"
      ]
     },
     "execution_count": 24,
     "metadata": {},
     "output_type": "execute_result"
    }
   ],
   "source": [
    "# Make a bigger dataset\n",
    "X = tf.range(-100, 100, 4)\n",
    "X"
   ]
  },
  {
   "cell_type": "code",
   "execution_count": 25,
   "id": "fe6189cb",
   "metadata": {},
   "outputs": [
    {
     "data": {
      "text/plain": [
       "<tf.Tensor: shape=(50,), dtype=int32, numpy=\n",
       "array([-90, -86, -82, -78, -74, -70, -66, -62, -58, -54, -50, -46, -42,\n",
       "       -38, -34, -30, -26, -22, -18, -14, -10,  -6,  -2,   2,   6,  10,\n",
       "        14,  18,  22,  26,  30,  34,  38,  42,  46,  50,  54,  58,  62,\n",
       "        66,  70,  74,  78,  82,  86,  90,  94,  98, 102, 106])>"
      ]
     },
     "execution_count": 25,
     "metadata": {},
     "output_type": "execute_result"
    }
   ],
   "source": [
    "# Make labels for the dataset\n",
    "\n",
    "y = X + 10   # y = X + 10 is the formula(pattern) we want the model to learn\n",
    "y"
   ]
  },
  {
   "cell_type": "code",
   "execution_count": 26,
   "id": "49a40371",
   "metadata": {},
   "outputs": [
    {
     "data": {
      "text/plain": [
       "<matplotlib.collections.PathCollection at 0x20f386e2eb0>"
      ]
     },
     "execution_count": 26,
     "metadata": {},
     "output_type": "execute_result"
    },
    {
     "data": {
      "image/png": "[encoded data removed]",
      "text/plain": [
       "<Figure size 432x288 with 1 Axes>"
      ]
     },
     "metadata": {
      "needs_background": "light"
     },
     "output_type": "display_data"
    }
   ],
   "source": [
    "# Visualize the data\n",
    "\n",
    "plt.scatter(X, y)"
   ]
  },
  {
   "cell_type": "code",
   "execution_count": null,
   "id": "56654807",
   "metadata": {},
   "outputs": [],
   "source": []
  },
  {
   "cell_type": "markdown",
   "id": "0dc0cfa7",
   "metadata": {},
   "source": [
    "### The 03 set of data\n",
    "\n",
    "* **Training set** - the model learns from this data, which is typically 70-80% of the total data available.\n",
    "* **Validation set** - the model gets tuned on this data (it is the above mentionned *tweak the model*), which is typically 10-15% of the total data available.\n",
    "* **Test set** - the model gets evaluated on this data to test what is has learned (to check how it performs on data is hasn't see before); this set is typically 10-15% of the available data."
   ]
  },
  {
   "cell_type": "code",
   "execution_count": 27,
   "id": "e1f8ed25",
   "metadata": {},
   "outputs": [
    {
     "data": {
      "text/plain": [
       "50"
      ]
     },
     "execution_count": 27,
     "metadata": {},
     "output_type": "execute_result"
    }
   ],
   "source": [
    "# Check how many samples we have\n",
    "nb_data = len(X)\n",
    "nb_data"
   ]
  },
  {
   "cell_type": "code",
   "execution_count": 28,
   "id": "9dc7d4f2",
   "metadata": {},
   "outputs": [
    {
     "data": {
      "text/plain": [
       "(40, 10, 40, 10)"
      ]
     },
     "execution_count": 28,
     "metadata": {},
     "output_type": "execute_result"
    }
   ],
   "source": [
    "# Split the data into train and test sets\n",
    "\n",
    "X_train = X[: int(nb_data*.8)] # 80% of the data\n",
    "y_train = y[: int(nb_data*.8)] # 80% of the data\n",
    "\n",
    "X_test = X[int(nb_data*.8):] # 20% of the data\n",
    "y_test = y[int(nb_data*.8):] # 20% of the data\n",
    "\n",
    "\n",
    "len(X_train), len(X_test), len(y_train), len(y_test)"
   ]
  },
  {
   "cell_type": "markdown",
   "id": "e9603622",
   "metadata": {},
   "source": [
    "### Visualizing the data\n",
    "\n",
    "Now that data was divided in training and testing sets, let's visualize it again."
   ]
  },
  {
   "cell_type": "code",
   "execution_count": 29,
   "id": "a805227d",
   "metadata": {},
   "outputs": [
    {
     "data": {
      "image/png": "[encoded data removed]",
      "text/plain": [
       "<Figure size 720x504 with 1 Axes>"
      ]
     },
     "metadata": {
      "needs_background": "light"
     },
     "output_type": "display_data"
    }
   ],
   "source": [
    "plt.figure( figsize=(10,7) )\n",
    "\n",
    "# Plot training data in blue\n",
    "plt.scatter(X_train, y_train, c=\"b\", label=\"Training data\")\n",
    "\n",
    "# Plot test data in green\n",
    "plt.scatter(X_test, y_test, c=\"g\", label=\"Test data\")\n",
    "\n",
    "#Show a legend\n",
    "plt.legend();"
   ]
  },
  {
   "cell_type": "code",
   "execution_count": null,
   "id": "82c45ed8",
   "metadata": {},
   "outputs": [],
   "source": []
  },
  {
   "cell_type": "markdown",
   "id": "6e2f8628",
   "metadata": {},
   "source": [
    "### Building a neural network"
   ]
  },
  {
   "cell_type": "code",
   "execution_count": 30,
   "id": "8a1f31b0",
   "metadata": {},
   "outputs": [],
   "source": [
    "# 1. Create a model\n",
    "model = tf.keras.Sequential([\n",
    "    tf.keras.layers.Dense(1)\n",
    "])\n",
    "\n",
    "# 2. Compile the model\n",
    "model.compile(loss=tf.keras.losses.mae,\n",
    "             optimizer= tf.keras.optimizers.SGD(),\n",
    "             metrics=[\"mae\"])\n",
    "\n"
   ]
  },
  {
   "cell_type": "markdown",
   "id": "c43d95e1",
   "metadata": {},
   "source": [
    "#### Visualizing the model"
   ]
  },
  {
   "cell_type": "code",
   "execution_count": null,
   "id": "86569e88",
   "metadata": {},
   "outputs": [],
   "source": []
  },
  {
   "cell_type": "code",
   "execution_count": 31,
   "id": "fe7036b7",
   "metadata": {},
   "outputs": [],
   "source": [
    "# TODO: uncomment the code in this cell to let it generate its error\n",
    "\n",
    "# # Get an idea of what the model looks like before running it\n",
    "# model.summary()"
   ]
  },
  {
   "cell_type": "code",
   "execution_count": 32,
   "id": "afbc8917",
   "metadata": {},
   "outputs": [
    {
     "data": {
      "text/plain": [
       "<tf.Tensor: shape=(50,), dtype=int32, numpy=\n",
       "array([-100,  -96,  -92,  -88,  -84,  -80,  -76,  -72,  -68,  -64,  -60,\n",
       "        -56,  -52,  -48,  -44,  -40,  -36,  -32,  -28,  -24,  -20,  -16,\n",
       "        -12,   -8,   -4,    0,    4,    8,   12,   16,   20,   24,   28,\n",
       "         32,   36,   40,   44,   48,   52,   56,   60,   64,   68,   72,\n",
       "         76,   80,   84,   88,   92,   96])>"
      ]
     },
     "execution_count": 32,
     "metadata": {},
     "output_type": "execute_result"
    }
   ],
   "source": [
    "X"
   ]
  },
  {
   "cell_type": "code",
   "execution_count": 33,
   "id": "c7634b89",
   "metadata": {},
   "outputs": [
    {
     "data": {
      "text/plain": [
       "1"
      ]
     },
     "execution_count": 33,
     "metadata": {},
     "output_type": "execute_result"
    }
   ],
   "source": [
    "X.ndim"
   ]
  },
  {
   "cell_type": "code",
   "execution_count": 34,
   "id": "987713a6",
   "metadata": {},
   "outputs": [
    {
     "data": {
      "text/plain": [
       "(<tf.Tensor: shape=(), dtype=int32, numpy=-100>,\n",
       " <tf.Tensor: shape=(), dtype=int32, numpy=-90>)"
      ]
     },
     "execution_count": 34,
     "metadata": {},
     "output_type": "execute_result"
    }
   ],
   "source": [
    "X[0],y[0]"
   ]
  },
  {
   "cell_type": "markdown",
   "id": "f296c106",
   "metadata": {},
   "source": [
    "* The explanation of the Prof : X[0] contains a scalar, so the input_shape of our model is 1; in case X[0] contain for example 3 different numbers, then input_shape would be 3.    \n",
    "* My own deduction : Another way to analyze it is based on the number of dimensions of X : X.ndim return 1, which means X is represented on one dimension, so the input shape is 1."
   ]
  },
  {
   "cell_type": "code",
   "execution_count": 35,
   "id": "b1a53531",
   "metadata": {},
   "outputs": [],
   "source": [
    "# Let's create a model which builds automatically by \n",
    "#    defining the input_shape argument in the first layer (that is what is usually done in practice)\n",
    "\n",
    "tf.random.set_seed(42)\n",
    "\n",
    "# 1. Create a model (same as above)\n",
    "model = tf.keras.Sequential([\n",
    "    tf.keras.layers.Dense(1, input_shape= [X.ndim] ) # tf.keras.layers.Dense(1, input_shape= [1] )\n",
    "                                                     #     refer to the previous cell to get \n",
    "                                                     #      explanations on why input_shape= [1]   \n",
    "]) \n",
    "\n",
    "# 2. COmpile the model \n",
    "model.compile(loss=tf.keras.losses.mae,\n",
    "             optimizer = tf.keras.optimizers.SGD(),\n",
    "             metrics=[\"mae\"])\n",
    "\n",
    "\n"
   ]
  },
  {
   "cell_type": "code",
   "execution_count": 36,
   "id": "a6e064a1",
   "metadata": {},
   "outputs": [
    {
     "name": "stdout",
     "output_type": "stream",
     "text": [
      "Model: \"sequential_5\"\n",
      "_________________________________________________________________\n",
      " Layer (type)                Output Shape              Param #   \n",
      "=================================================================\n",
      " dense_10 (Dense)            (None, 1)                 2         \n",
      "                                                                 \n",
      "=================================================================\n",
      "Total params: 2\n",
      "Trainable params: 2\n",
      "Non-trainable params: 0\n",
      "_________________________________________________________________\n"
     ]
    }
   ],
   "source": [
    "model.summary()"
   ]
  },
  {
   "cell_type": "markdown",
   "id": "b7c23bc7",
   "metadata": {},
   "source": [
    ".summary() on a model show the layers it contains, the output shape, and the number of parameters of each layer.   \n",
    "   \n",
    "* The **Ouput Shape** here (None, 1) : the representation here is something I personnally need to do more research on\n",
    "* The **Layer Type** `Dense` : it is another word for `fully connected`. A fully connected layer means each neuron in the said layer connects to all neurons in the next layer.\n",
    "* There are 2 **Params** :  \n",
    " - **Total params** : total number of parameters in the model; these are the patterns that the model is going to learn\n",
    " - **Trainable parameters** : these are the parameters (patterns) the model can update as it trains\n",
    " - **Non-trainable params** : these are the patterns the model cannot update as it trains; when we import a model that has already learned patterns in data (**transfer learning**), we might freeze those learned patterns so that the model retains what it already knows"
   ]
  },
  {
   "cell_type": "markdown",
   "id": "dd0bebde",
   "metadata": {},
   "source": [
    "📖 **Resource**: For a more in-depth overview of the trainable parameters within a layer, check out MIT's introduction to deep learning video at http://introtodeeplearning.com/ "
   ]
  },
  {
   "cell_type": "markdown",
   "id": "4a3aa920",
   "metadata": {},
   "source": [
    "🛠️**Exercise**: Try playing around with the number of hdden units in the dense layer, see how that effects the number of parameters (total and trainable) by calling `model.summary()`"
   ]
  },
  {
   "cell_type": "code",
   "execution_count": 37,
   "id": "f9bb768b",
   "metadata": {},
   "outputs": [
    {
     "name": "stdout",
     "output_type": "stream",
     "text": [
      "Model: \"sequential_6\"\n",
      "_________________________________________________________________\n",
      " Layer (type)                Output Shape              Param #   \n",
      "=================================================================\n",
      " dense_11 (Dense)            (None, 3)                 6         \n",
      "                                                                 \n",
      "=================================================================\n",
      "Total params: 6\n",
      "Trainable params: 6\n",
      "Non-trainable params: 0\n",
      "_________________________________________________________________\n"
     ]
    }
   ],
   "source": [
    "tf.random.set_seed(42)\n",
    "\n",
    "# 1. Create a model (same as above)\n",
    "model = tf.keras.Sequential([\n",
    "    tf.keras.layers.Dense(3, input_shape= [1] )  \n",
    "]) \n",
    "\n",
    "# 2. COmpile the model \n",
    "model.compile(loss=tf.keras.losses.mae,\n",
    "             optimizer = tf.keras.optimizers.SGD(),\n",
    "             metrics=[\"mae\"])\n",
    "\n",
    "\n",
    "model.summary()"
   ]
  },
  {
   "cell_type": "code",
   "execution_count": null,
   "id": "257f63ee",
   "metadata": {},
   "outputs": [],
   "source": []
  },
  {
   "cell_type": "code",
   "execution_count": null,
   "id": "5f285645",
   "metadata": {},
   "outputs": [],
   "source": []
  },
  {
   "cell_type": "code",
   "execution_count": 38,
   "id": "7dec1a2f",
   "metadata": {},
   "outputs": [
    {
     "name": "stdout",
     "output_type": "stream",
     "text": [
      "Model: \"sequential_7\"\n",
      "_________________________________________________________________\n",
      " Layer (type)                Output Shape              Param #   \n",
      "=================================================================\n",
      " dense_12 (Dense)            (None, 1)                 2         \n",
      "                                                                 \n",
      "=================================================================\n",
      "Total params: 2\n",
      "Trainable params: 2\n",
      "Non-trainable params: 0\n",
      "_________________________________________________________________\n"
     ]
    }
   ],
   "source": [
    "# Let us change the number of neuro from 3 to 1\n",
    "\n",
    "tf.random.set_seed(42)\n",
    "\n",
    "# 1. Create a model (same as above)\n",
    "model = tf.keras.Sequential([\n",
    "    tf.keras.layers.Dense(1, input_shape= [1] )  \n",
    "]) \n",
    "\n",
    "# 2. COmpile the model \n",
    "model.compile(loss=tf.keras.losses.mae,\n",
    "             optimizer = tf.keras.optimizers.SGD(),\n",
    "             metrics=[\"mae\"])\n",
    "\n",
    "\n",
    "model.summary()"
   ]
  },
  {
   "cell_type": "code",
   "execution_count": 39,
   "id": "5d2f8b23",
   "metadata": {},
   "outputs": [
    {
     "name": "stdout",
     "output_type": "stream",
     "text": [
      "Epoch 1/100\n",
      "2/2 [==============================] - 0s 5ms/step - loss: 31.6607 - mae: 31.6607\n",
      "Epoch 2/100\n",
      "2/2 [==============================] - 0s 4ms/step - loss: 8.1611 - mae: 8.1611\n",
      "Epoch 3/100\n",
      "2/2 [==============================] - 0s 4ms/step - loss: 10.2235 - mae: 10.2235\n",
      "Epoch 4/100\n",
      "2/2 [==============================] - 0s 3ms/step - loss: 12.5943 - mae: 12.5943\n",
      "Epoch 5/100\n",
      "2/2 [==============================] - 0s 4ms/step - loss: 11.6431 - mae: 11.6431\n",
      "Epoch 6/100\n",
      "2/2 [==============================] - 0s 3ms/step - loss: 10.7486 - mae: 10.7486\n",
      "Epoch 7/100\n",
      "2/2 [==============================] - 0s 4ms/step - loss: 8.8135 - mae: 8.8135\n",
      "Epoch 8/100\n",
      "2/2 [==============================] - 0s 2ms/step - loss: 8.1149 - mae: 8.1149\n",
      "Epoch 9/100\n",
      "2/2 [==============================] - 0s 3ms/step - loss: 18.7228 - mae: 18.7228\n",
      "Epoch 10/100\n",
      "2/2 [==============================] - 0s 3ms/step - loss: 14.4542 - mae: 14.4542\n",
      "Epoch 11/100\n",
      "2/2 [==============================] - 0s 3ms/step - loss: 11.7853 - mae: 11.7853\n",
      "Epoch 12/100\n",
      "2/2 [==============================] - 0s 2ms/step - loss: 16.4039 - mae: 16.4039\n",
      "Epoch 13/100\n",
      "2/2 [==============================] - 0s 3ms/step - loss: 11.9427 - mae: 11.9427\n",
      "Epoch 14/100\n",
      "2/2 [==============================] - 0s 2ms/step - loss: 13.8706 - mae: 13.8706\n",
      "Epoch 15/100\n",
      "2/2 [==============================] - 0s 3ms/step - loss: 11.2583 - mae: 11.2583\n",
      "Epoch 16/100\n",
      "2/2 [==============================] - 0s 2ms/step - loss: 8.5908 - mae: 8.5908\n",
      "Epoch 17/100\n",
      "2/2 [==============================] - 0s 2ms/step - loss: 13.7470 - mae: 13.7470\n",
      "Epoch 18/100\n",
      "2/2 [==============================] - 0s 3ms/step - loss: 11.6016 - mae: 11.6016\n",
      "Epoch 19/100\n",
      "2/2 [==============================] - 0s 3ms/step - loss: 17.7595 - mae: 17.7595\n",
      "Epoch 20/100\n",
      "2/2 [==============================] - 0s 3ms/step - loss: 14.8953 - mae: 14.8953\n",
      "Epoch 21/100\n",
      "2/2 [==============================] - 0s 2ms/step - loss: 10.7942 - mae: 10.7942\n",
      "Epoch 22/100\n",
      "2/2 [==============================] - 0s 2ms/step - loss: 8.5386 - mae: 8.5386\n",
      "Epoch 23/100\n",
      "2/2 [==============================] - 0s 2ms/step - loss: 9.7659 - mae: 9.7659\n",
      "Epoch 24/100\n",
      "2/2 [==============================] - 0s 3ms/step - loss: 10.8986 - mae: 10.8986\n",
      "Epoch 25/100\n",
      "2/2 [==============================] - 0s 3ms/step - loss: 9.1401 - mae: 9.1401\n",
      "Epoch 26/100\n",
      "2/2 [==============================] - 0s 3ms/step - loss: 13.1315 - mae: 13.1315\n",
      "Epoch 27/100\n",
      "2/2 [==============================] - 0s 3ms/step - loss: 10.4424 - mae: 10.4424\n",
      "Epoch 28/100\n",
      "2/2 [==============================] - 0s 3ms/step - loss: 13.4747 - mae: 13.4747\n",
      "Epoch 29/100\n",
      "2/2 [==============================] - 0s 3ms/step - loss: 9.6302 - mae: 9.6302\n",
      "Epoch 30/100\n",
      "2/2 [==============================] - 0s 2ms/step - loss: 17.3287 - mae: 17.3287\n",
      "Epoch 31/100\n",
      "2/2 [==============================] - 0s 1ms/step - loss: 22.7499 - mae: 22.7499\n",
      "Epoch 32/100\n",
      "2/2 [==============================] - 0s 2ms/step - loss: 7.9212 - mae: 7.9212\n",
      "Epoch 33/100\n",
      "2/2 [==============================] - 0s 3ms/step - loss: 14.2201 - mae: 14.2201\n",
      "Epoch 34/100\n",
      "2/2 [==============================] - 0s 2ms/step - loss: 12.4846 - mae: 12.4846\n",
      "Epoch 35/100\n",
      "2/2 [==============================] - 0s 3ms/step - loss: 8.2363 - mae: 8.2363\n",
      "Epoch 36/100\n",
      "2/2 [==============================] - 0s 3ms/step - loss: 10.4341 - mae: 10.4341\n",
      "Epoch 37/100\n",
      "2/2 [==============================] - 0s 3ms/step - loss: 10.0903 - mae: 10.0903\n",
      "Epoch 38/100\n",
      "2/2 [==============================] - 0s 2ms/step - loss: 11.2497 - mae: 11.2497\n",
      "Epoch 39/100\n",
      "2/2 [==============================] - 0s 3ms/step - loss: 14.8422 - mae: 14.8422\n",
      "Epoch 40/100\n",
      "2/2 [==============================] - 0s 3ms/step - loss: 12.9718 - mae: 12.9718\n",
      "Epoch 41/100\n",
      "2/2 [==============================] - 0s 3ms/step - loss: 9.3722 - mae: 9.3722\n",
      "Epoch 42/100\n",
      "2/2 [==============================] - 0s 2ms/step - loss: 10.9463 - mae: 10.9463\n",
      "Epoch 43/100\n",
      "2/2 [==============================] - 0s 3ms/step - loss: 8.3266 - mae: 8.3266\n",
      "Epoch 44/100\n",
      "2/2 [==============================] - 0s 2ms/step - loss: 12.9469 - mae: 12.9469\n",
      "Epoch 45/100\n",
      "2/2 [==============================] - 0s 2ms/step - loss: 13.7741 - mae: 13.7741\n",
      "Epoch 46/100\n",
      "2/2 [==============================] - 0s 3ms/step - loss: 8.4554 - mae: 8.4554\n",
      "Epoch 47/100\n",
      "2/2 [==============================] - 0s 4ms/step - loss: 9.1506 - mae: 9.1506\n",
      "Epoch 48/100\n",
      "2/2 [==============================] - 0s 3ms/step - loss: 10.6429 - mae: 10.6429\n",
      "Epoch 49/100\n",
      "2/2 [==============================] - 0s 3ms/step - loss: 7.7660 - mae: 7.7660\n",
      "Epoch 50/100\n",
      "2/2 [==============================] - 0s 4ms/step - loss: 9.5628 - mae: 9.5628\n",
      "Epoch 51/100\n",
      "2/2 [==============================] - 0s 3ms/step - loss: 9.1673 - mae: 9.1673\n",
      "Epoch 52/100\n",
      "2/2 [==============================] - 0s 2ms/step - loss: 16.4017 - mae: 16.4017\n",
      "Epoch 53/100\n",
      "2/2 [==============================] - 0s 2ms/step - loss: 14.1175 - mae: 14.1175\n",
      "Epoch 54/100\n",
      "2/2 [==============================] - 0s 3ms/step - loss: 21.0861 - mae: 21.0861\n",
      "Epoch 55/100\n",
      "2/2 [==============================] - 0s 3ms/step - loss: 16.4323 - mae: 16.4323\n",
      "Epoch 56/100\n",
      "2/2 [==============================] - 0s 3ms/step - loss: 9.9150 - mae: 9.9150\n",
      "Epoch 57/100\n",
      "2/2 [==============================] - 0s 2ms/step - loss: 9.6342 - mae: 9.6342\n",
      "Epoch 58/100\n",
      "2/2 [==============================] - 0s 3ms/step - loss: 8.9628 - mae: 8.9628\n",
      "Epoch 59/100\n",
      "2/2 [==============================] - 0s 3ms/step - loss: 10.1561 - mae: 10.1561\n",
      "Epoch 60/100\n",
      "2/2 [==============================] - 0s 2ms/step - loss: 8.4467 - mae: 8.4467\n",
      "Epoch 61/100\n",
      "2/2 [==============================] - 0s 3ms/step - loss: 9.2961 - mae: 9.2961\n",
      "Epoch 62/100\n",
      "2/2 [==============================] - 0s 2ms/step - loss: 7.0786 - mae: 7.0786\n",
      "Epoch 63/100\n",
      "2/2 [==============================] - 0s 2ms/step - loss: 8.6385 - mae: 8.6385\n",
      "Epoch 64/100\n",
      "2/2 [==============================] - 0s 2ms/step - loss: 9.2170 - mae: 9.2170\n",
      "Epoch 65/100\n",
      "2/2 [==============================] - 0s 2ms/step - loss: 10.4606 - mae: 10.4606\n",
      "Epoch 66/100\n",
      "2/2 [==============================] - 0s 2ms/step - loss: 15.6824 - mae: 15.6824\n",
      "Epoch 67/100\n",
      "2/2 [==============================] - 0s 2ms/step - loss: 10.0687 - mae: 10.0687\n",
      "Epoch 68/100\n",
      "2/2 [==============================] - 0s 2ms/step - loss: 9.0354 - mae: 9.0354\n",
      "Epoch 69/100\n",
      "2/2 [==============================] - 0s 2ms/step - loss: 12.5536 - mae: 12.5536\n",
      "Epoch 70/100\n",
      "2/2 [==============================] - 0s 3ms/step - loss: 8.9683 - mae: 8.9683\n",
      "Epoch 71/100\n",
      "2/2 [==============================] - 0s 3ms/step - loss: 9.9439 - mae: 9.9439\n",
      "Epoch 72/100\n",
      "2/2 [==============================] - 0s 2ms/step - loss: 9.9814 - mae: 9.9814\n",
      "Epoch 73/100\n",
      "2/2 [==============================] - 0s 3ms/step - loss: 12.4540 - mae: 12.4540\n",
      "Epoch 74/100\n",
      "2/2 [==============================] - 0s 3ms/step - loss: 10.5683 - mae: 10.5683\n",
      "Epoch 75/100\n",
      "2/2 [==============================] - 0s 2ms/step - loss: 9.6408 - mae: 9.6408\n",
      "Epoch 76/100\n",
      "2/2 [==============================] - 0s 3ms/step - loss: 11.1090 - mae: 11.1090\n",
      "Epoch 77/100\n",
      "2/2 [==============================] - 0s 3ms/step - loss: 8.2887 - mae: 8.2887\n",
      "Epoch 78/100\n",
      "2/2 [==============================] - 0s 3ms/step - loss: 8.9836 - mae: 8.9836\n",
      "Epoch 79/100\n",
      "2/2 [==============================] - 0s 2ms/step - loss: 19.7746 - mae: 19.7746\n",
      "Epoch 80/100\n",
      "2/2 [==============================] - 0s 3ms/step - loss: 17.8339 - mae: 17.8339\n",
      "Epoch 81/100\n",
      "2/2 [==============================] - 0s 2ms/step - loss: 7.0785 - mae: 7.0785\n",
      "Epoch 82/100\n",
      "2/2 [==============================] - 0s 3ms/step - loss: 10.4197 - mae: 10.4197\n",
      "Epoch 83/100\n",
      "2/2 [==============================] - 0s 2ms/step - loss: 9.8448 - mae: 9.8448\n",
      "Epoch 84/100\n",
      "2/2 [==============================] - 0s 3ms/step - loss: 7.9380 - mae: 7.9380\n",
      "Epoch 85/100\n",
      "2/2 [==============================] - 0s 3ms/step - loss: 9.4443 - mae: 9.4443\n",
      "Epoch 86/100\n",
      "2/2 [==============================] - 0s 3ms/step - loss: 9.4897 - mae: 9.4897\n",
      "Epoch 87/100\n",
      "2/2 [==============================] - 0s 3ms/step - loss: 11.4301 - mae: 11.4301\n",
      "Epoch 88/100\n"
     ]
    },
    {
     "name": "stdout",
     "output_type": "stream",
     "text": [
      "2/2 [==============================] - 0s 2ms/step - loss: 9.9297 - mae: 9.9297\n",
      "Epoch 89/100\n",
      "2/2 [==============================] - 0s 2ms/step - loss: 7.2569 - mae: 7.2569\n",
      "Epoch 90/100\n",
      "2/2 [==============================] - 0s 3ms/step - loss: 12.6871 - mae: 12.6871\n",
      "Epoch 91/100\n",
      "2/2 [==============================] - 0s 3ms/step - loss: 7.3127 - mae: 7.3127\n",
      "Epoch 92/100\n",
      "2/2 [==============================] - 0s 2ms/step - loss: 7.6752 - mae: 7.6752\n",
      "Epoch 93/100\n",
      "2/2 [==============================] - 0s 3ms/step - loss: 7.1240 - mae: 7.1240\n",
      "Epoch 94/100\n",
      "2/2 [==============================] - 0s 2ms/step - loss: 12.5362 - mae: 12.5362\n",
      "Epoch 95/100\n",
      "2/2 [==============================] - 0s 2ms/step - loss: 9.9131 - mae: 9.9131\n",
      "Epoch 96/100\n",
      "2/2 [==============================] - 0s 2ms/step - loss: 9.1512 - mae: 9.1512\n",
      "Epoch 97/100\n",
      "2/2 [==============================] - 0s 3ms/step - loss: 12.1041 - mae: 12.1041\n",
      "Epoch 98/100\n",
      "2/2 [==============================] - 0s 3ms/step - loss: 9.0588 - mae: 9.0588\n",
      "Epoch 99/100\n",
      "2/2 [==============================] - 0s 3ms/step - loss: 8.5062 - mae: 8.5062\n",
      "Epoch 100/100\n",
      "2/2 [==============================] - 0s 4ms/step - loss: 14.4817 - mae: 14.4817\n"
     ]
    },
    {
     "data": {
      "text/plain": [
       "<keras.callbacks.History at 0x20f387ce790>"
      ]
     },
     "execution_count": 39,
     "metadata": {},
     "output_type": "execute_result"
    }
   ],
   "source": [
    "# 3. Fit the model to the training data for 100 epochs\n",
    "model.fit(X_train, y_train, epochs=100, verbose=1)"
   ]
  },
  {
   "cell_type": "code",
   "execution_count": 40,
   "id": "2f299920",
   "metadata": {},
   "outputs": [
    {
     "name": "stdout",
     "output_type": "stream",
     "text": [
      "Epoch 1/100\n",
      "2/2 [==============================] - 0s 5ms/step - loss: 11.3377 - mae: 11.3377\n",
      "Epoch 2/100\n",
      "2/2 [==============================] - 0s 4ms/step - loss: 7.2253 - mae: 7.2253\n",
      "Epoch 3/100\n",
      "2/2 [==============================] - 0s 3ms/step - loss: 14.3195 - mae: 14.3195\n",
      "Epoch 4/100\n",
      "2/2 [==============================] - 0s 3ms/step - loss: 6.9053 - mae: 6.9053\n",
      "Epoch 5/100\n",
      "2/2 [==============================] - 0s 4ms/step - loss: 9.4546 - mae: 9.4546\n",
      "Epoch 6/100\n",
      "2/2 [==============================] - 0s 3ms/step - loss: 8.6629 - mae: 8.6629\n",
      "Epoch 7/100\n",
      "2/2 [==============================] - 0s 3ms/step - loss: 7.8025 - mae: 7.8025\n",
      "Epoch 8/100\n",
      "2/2 [==============================] - 0s 3ms/step - loss: 8.1015 - mae: 8.1015\n",
      "Epoch 9/100\n",
      "2/2 [==============================] - 0s 2ms/step - loss: 18.5750 - mae: 18.5750\n",
      "Epoch 10/100\n",
      "2/2 [==============================] - 0s 3ms/step - loss: 9.0930 - mae: 9.0930\n",
      "Epoch 11/100\n",
      "2/2 [==============================] - 0s 3ms/step - loss: 7.4442 - mae: 7.4442\n",
      "Epoch 12/100\n",
      "2/2 [==============================] - 0s 3ms/step - loss: 9.6659 - mae: 9.6659\n",
      "Epoch 13/100\n",
      "2/2 [==============================] - 0s 3ms/step - loss: 8.8293 - mae: 8.8293\n",
      "Epoch 14/100\n",
      "2/2 [==============================] - 0s 3ms/step - loss: 15.3827 - mae: 15.3827\n",
      "Epoch 15/100\n",
      "2/2 [==============================] - 0s 2ms/step - loss: 11.2606 - mae: 11.2606\n",
      "Epoch 16/100\n",
      "2/2 [==============================] - 0s 3ms/step - loss: 7.6823 - mae: 7.6823\n",
      "Epoch 17/100\n",
      "2/2 [==============================] - 0s 4ms/step - loss: 12.6660 - mae: 12.6660\n",
      "Epoch 18/100\n",
      "2/2 [==============================] - 0s 4ms/step - loss: 10.1881 - mae: 10.1881\n",
      "Epoch 19/100\n",
      "2/2 [==============================] - 0s 4ms/step - loss: 18.3687 - mae: 18.3687\n",
      "Epoch 20/100\n",
      "2/2 [==============================] - 0s 3ms/step - loss: 15.0698 - mae: 15.0698\n",
      "Epoch 21/100\n",
      "2/2 [==============================] - 0s 3ms/step - loss: 10.5701 - mae: 10.5701\n",
      "Epoch 22/100\n",
      "2/2 [==============================] - 0s 3ms/step - loss: 7.0828 - mae: 7.0828\n",
      "Epoch 23/100\n",
      "2/2 [==============================] - 0s 2ms/step - loss: 8.7138 - mae: 8.7138\n",
      "Epoch 24/100\n",
      "2/2 [==============================] - 0s 3ms/step - loss: 7.6032 - mae: 7.6032\n",
      "Epoch 25/100\n",
      "2/2 [==============================] - 0s 3ms/step - loss: 10.0802 - mae: 10.0802\n",
      "Epoch 26/100\n",
      "2/2 [==============================] - 0s 3ms/step - loss: 16.4319 - mae: 16.4319\n",
      "Epoch 27/100\n",
      "2/2 [==============================] - 0s 3ms/step - loss: 12.6241 - mae: 12.6241\n",
      "Epoch 28/100\n",
      "2/2 [==============================] - 0s 4ms/step - loss: 13.8117 - mae: 13.8117\n",
      "Epoch 29/100\n",
      "2/2 [==============================] - 0s 2ms/step - loss: 9.1199 - mae: 9.1199\n",
      "Epoch 30/100\n",
      "2/2 [==============================] - 0s 3ms/step - loss: 15.4972 - mae: 15.4972\n",
      "Epoch 31/100\n",
      "2/2 [==============================] - 0s 3ms/step - loss: 23.6741 - mae: 23.6741\n",
      "Epoch 32/100\n",
      "2/2 [==============================] - 0s 3ms/step - loss: 6.6624 - mae: 6.6624\n",
      "Epoch 33/100\n",
      "2/2 [==============================] - 0s 3ms/step - loss: 9.3425 - mae: 9.3425\n",
      "Epoch 34/100\n",
      "2/2 [==============================] - 0s 3ms/step - loss: 8.9135 - mae: 8.9135\n",
      "Epoch 35/100\n",
      "2/2 [==============================] - 0s 2ms/step - loss: 7.0395 - mae: 7.0395\n",
      "Epoch 36/100\n",
      "2/2 [==============================] - 0s 3ms/step - loss: 8.9842 - mae: 8.9842\n",
      "Epoch 37/100\n",
      "2/2 [==============================] - 0s 3ms/step - loss: 8.7651 - mae: 8.7651\n",
      "Epoch 38/100\n",
      "2/2 [==============================] - 0s 3ms/step - loss: 9.5428 - mae: 9.5428\n",
      "Epoch 39/100\n",
      "2/2 [==============================] - 0s 2ms/step - loss: 15.0863 - mae: 15.0863\n",
      "Epoch 40/100\n",
      "2/2 [==============================] - 0s 3ms/step - loss: 12.8356 - mae: 12.8356\n",
      "Epoch 41/100\n",
      "2/2 [==============================] - 0s 3ms/step - loss: 8.6128 - mae: 8.6128\n",
      "Epoch 42/100\n",
      "2/2 [==============================] - 0s 2ms/step - loss: 10.3850 - mae: 10.3850\n",
      "Epoch 43/100\n",
      "2/2 [==============================] - 0s 4ms/step - loss: 10.9896 - mae: 10.9896\n",
      "Epoch 44/100\n",
      "2/2 [==============================] - 0s 2ms/step - loss: 15.5016 - mae: 15.5016\n",
      "Epoch 45/100\n",
      "2/2 [==============================] - 0s 3ms/step - loss: 11.2367 - mae: 11.2367\n",
      "Epoch 46/100\n",
      "2/2 [==============================] - 0s 3ms/step - loss: 6.3289 - mae: 6.3289\n",
      "Epoch 47/100\n",
      "2/2 [==============================] - 0s 3ms/step - loss: 8.5160 - mae: 8.5160\n",
      "Epoch 48/100\n",
      "2/2 [==============================] - 0s 3ms/step - loss: 7.9958 - mae: 7.9958\n",
      "Epoch 49/100\n",
      "2/2 [==============================] - 0s 3ms/step - loss: 6.8800 - mae: 6.8800\n",
      "Epoch 50/100\n",
      "2/2 [==============================] - 0s 3ms/step - loss: 8.6554 - mae: 8.6554\n",
      "Epoch 51/100\n",
      "2/2 [==============================] - 0s 3ms/step - loss: 8.6205 - mae: 8.6205\n",
      "Epoch 52/100\n",
      "2/2 [==============================] - 0s 2ms/step - loss: 14.8350 - mae: 14.8350\n",
      "Epoch 53/100\n",
      "2/2 [==============================] - 0s 2ms/step - loss: 14.3718 - mae: 14.3718\n",
      "Epoch 54/100\n",
      "2/2 [==============================] - 0s 3ms/step - loss: 21.9991 - mae: 21.9991\n",
      "Epoch 55/100\n",
      "2/2 [==============================] - 0s 2ms/step - loss: 14.7824 - mae: 14.7824\n",
      "Epoch 56/100\n",
      "2/2 [==============================] - 0s 3ms/step - loss: 10.7161 - mae: 10.7161\n",
      "Epoch 57/100\n",
      "2/2 [==============================] - 0s 3ms/step - loss: 8.5695 - mae: 8.5695\n",
      "Epoch 58/100\n",
      "2/2 [==============================] - 0s 2ms/step - loss: 7.9326 - mae: 7.9326\n",
      "Epoch 59/100\n",
      "2/2 [==============================] - 0s 2ms/step - loss: 9.0506 - mae: 9.0506\n",
      "Epoch 60/100\n",
      "2/2 [==============================] - 0s 2ms/step - loss: 7.6560 - mae: 7.6560\n",
      "Epoch 61/100\n",
      "2/2 [==============================] - 0s 3ms/step - loss: 8.6884 - mae: 8.6884\n",
      "Epoch 62/100\n",
      "2/2 [==============================] - 0s 2ms/step - loss: 7.0544 - mae: 7.0544\n",
      "Epoch 63/100\n",
      "2/2 [==============================] - 0s 3ms/step - loss: 7.6867 - mae: 7.6867\n",
      "Epoch 64/100\n",
      "2/2 [==============================] - 0s 2ms/step - loss: 10.2342 - mae: 10.2342\n",
      "Epoch 65/100\n",
      "2/2 [==============================] - 0s 3ms/step - loss: 9.5325 - mae: 9.5325\n",
      "Epoch 66/100\n",
      "2/2 [==============================] - 0s 2ms/step - loss: 15.0417 - mae: 15.0417\n",
      "Epoch 67/100\n",
      "2/2 [==============================] - 0s 2ms/step - loss: 8.9567 - mae: 8.9567\n",
      "Epoch 68/100\n",
      "2/2 [==============================] - 0s 2ms/step - loss: 7.7124 - mae: 7.7124\n",
      "Epoch 69/100\n",
      "2/2 [==============================] - 0s 2ms/step - loss: 12.4122 - mae: 12.4122\n",
      "Epoch 70/100\n",
      "2/2 [==============================] - 0s 2ms/step - loss: 7.3165 - mae: 7.3165\n",
      "Epoch 71/100\n",
      "2/2 [==============================] - 0s 3ms/step - loss: 9.5614 - mae: 9.5614\n",
      "Epoch 72/100\n",
      "2/2 [==============================] - 0s 3ms/step - loss: 9.4952 - mae: 9.4952\n",
      "Epoch 73/100\n",
      "2/2 [==============================] - 0s 2ms/step - loss: 9.6165 - mae: 9.6165\n",
      "Epoch 74/100\n",
      "2/2 [==============================] - 0s 2ms/step - loss: 15.4805 - mae: 15.4805\n",
      "Epoch 75/100\n",
      "2/2 [==============================] - 0s 2ms/step - loss: 8.0928 - mae: 8.0928\n",
      "Epoch 76/100\n",
      "2/2 [==============================] - 0s 2ms/step - loss: 8.6634 - mae: 8.6634\n",
      "Epoch 77/100\n",
      "2/2 [==============================] - 0s 3ms/step - loss: 10.9097 - mae: 10.9097\n",
      "Epoch 78/100\n",
      "2/2 [==============================] - 0s 3ms/step - loss: 11.5575 - mae: 11.5575\n",
      "Epoch 79/100\n",
      "2/2 [==============================] - 0s 2ms/step - loss: 14.3964 - mae: 14.3964\n",
      "Epoch 80/100\n",
      "2/2 [==============================] - 0s 2ms/step - loss: 7.8964 - mae: 7.8964\n",
      "Epoch 81/100\n",
      "2/2 [==============================] - 0s 2ms/step - loss: 9.5909 - mae: 9.5909\n",
      "Epoch 82/100\n",
      "2/2 [==============================] - 0s 3ms/step - loss: 6.0820 - mae: 6.0820\n",
      "Epoch 83/100\n",
      "2/2 [==============================] - 0s 3ms/step - loss: 9.1736 - mae: 9.1736\n",
      "Epoch 84/100\n",
      "2/2 [==============================] - 0s 4ms/step - loss: 10.1821 - mae: 10.1821\n",
      "Epoch 85/100\n",
      "2/2 [==============================] - 0s 4ms/step - loss: 8.3152 - mae: 8.3152\n",
      "Epoch 86/100\n",
      "2/2 [==============================] - 0s 4ms/step - loss: 8.2138 - mae: 8.2138\n",
      "Epoch 87/100\n",
      "2/2 [==============================] - 0s 3ms/step - loss: 11.0227 - mae: 11.0227\n",
      "Epoch 88/100\n"
     ]
    },
    {
     "name": "stdout",
     "output_type": "stream",
     "text": [
      "2/2 [==============================] - 0s 5ms/step - loss: 9.5407 - mae: 9.5407\n",
      "Epoch 89/100\n",
      "2/2 [==============================] - 0s 4ms/step - loss: 6.0371 - mae: 6.0371\n",
      "Epoch 90/100\n",
      "2/2 [==============================] - 0s 3ms/step - loss: 12.9026 - mae: 12.9026\n",
      "Epoch 91/100\n",
      "2/2 [==============================] - 0s 3ms/step - loss: 6.8721 - mae: 6.8721\n",
      "Epoch 92/100\n",
      "2/2 [==============================] - 0s 4ms/step - loss: 7.1395 - mae: 7.1395\n",
      "Epoch 93/100\n",
      "2/2 [==============================] - 0s 4ms/step - loss: 8.5734 - mae: 8.5734\n",
      "Epoch 94/100\n",
      "2/2 [==============================] - 0s 4ms/step - loss: 7.9151 - mae: 7.9151\n",
      "Epoch 95/100\n",
      "2/2 [==============================] - 0s 2ms/step - loss: 11.4180 - mae: 11.4180\n",
      "Epoch 96/100\n",
      "2/2 [==============================] - 0s 3ms/step - loss: 8.4301 - mae: 8.4301\n",
      "Epoch 97/100\n",
      "2/2 [==============================] - 0s 4ms/step - loss: 12.1994 - mae: 12.1994\n",
      "Epoch 98/100\n",
      "2/2 [==============================] - 0s 3ms/step - loss: 7.4972 - mae: 7.4972\n",
      "Epoch 99/100\n",
      "2/2 [==============================] - 0s 4ms/step - loss: 8.2409 - mae: 8.2409\n",
      "Epoch 100/100\n",
      "2/2 [==============================] - 0s 4ms/step - loss: 9.7183 - mae: 9.7183\n"
     ]
    },
    {
     "data": {
      "text/plain": [
       "<keras.callbacks.History at 0x20f387d7130>"
      ]
     },
     "execution_count": 40,
     "metadata": {},
     "output_type": "execute_result"
    }
   ],
   "source": [
    "# Fit the model again, for another 100 epochs (so for a total of 200 epochs)\n",
    "model.fit(X_train, y_train, epochs=100, verbose=1)"
   ]
  },
  {
   "cell_type": "markdown",
   "id": "7798ca6b",
   "metadata": {},
   "source": [
    "🔑 Every time model.fit() is called, it's going to fit for the extra epochs provided as parameters : the epochs are cumulative."
   ]
  },
  {
   "cell_type": "code",
   "execution_count": null,
   "id": "378fe5b7",
   "metadata": {},
   "outputs": [],
   "source": []
  },
  {
   "cell_type": "markdown",
   "id": "8cd35a1b",
   "metadata": {},
   "source": [
    "### Visualizing a model's layers"
   ]
  },
  {
   "cell_type": "code",
   "execution_count": 41,
   "id": "64f49ee8",
   "metadata": {},
   "outputs": [
    {
     "name": "stdout",
     "output_type": "stream",
     "text": [
      "Model: \"sequential_8\"\n",
      "_________________________________________________________________\n",
      " Layer (type)                Output Shape              Param #   \n",
      "=================================================================\n",
      " dense_13 (Dense)            (None, 10)                20        \n",
      "                                                                 \n",
      "=================================================================\n",
      "Total params: 20\n",
      "Trainable params: 20\n",
      "Non-trainable params: 0\n",
      "_________________________________________________________________\n"
     ]
    }
   ],
   "source": [
    "# Creating a new model, with 10 units in the hidden layers\n",
    "\n",
    "tf.random.set_seed(42)\n",
    "\n",
    "# 1. Create a model (same as above)\n",
    "model = tf.keras.Sequential([\n",
    "    tf.keras.layers.Dense(10, input_shape= [1] )  \n",
    "]) \n",
    "\n",
    "# 2. Compile the model \n",
    "model.compile(loss=tf.keras.losses.mae,\n",
    "             optimizer = tf.keras.optimizers.SGD(),\n",
    "             metrics=[\"mae\"])\n",
    "\n",
    "\n",
    "model.summary()\n"
   ]
  },
  {
   "cell_type": "code",
   "execution_count": 42,
   "id": "967d66d9",
   "metadata": {},
   "outputs": [
    {
     "data": {
      "text/plain": [
       "<keras.callbacks.History at 0x20f387c7d90>"
      ]
     },
     "execution_count": 42,
     "metadata": {},
     "output_type": "execute_result"
    }
   ],
   "source": [
    "# Fit the model to the training data\n",
    "model.fit(X_train, y_train, epochs=100, verbose=0)"
   ]
  },
  {
   "cell_type": "code",
   "execution_count": 43,
   "id": "8641da1e",
   "metadata": {},
   "outputs": [
    {
     "data": {
      "image/png": "[encoded data removed]",
      "text/plain": [
       "<IPython.core.display.Image object>"
      ]
     },
     "execution_count": 43,
     "metadata": {},
     "output_type": "execute_result"
    }
   ],
   "source": [
    "# Looking at the layers of the model\n",
    "plot_model(model=model)"
   ]
  },
  {
   "cell_type": "code",
   "execution_count": 44,
   "id": "51112f96",
   "metadata": {},
   "outputs": [
    {
     "data": {
      "image/png": "[encoded data removed]",
      "text/plain": [
       "<IPython.core.display.Image object>"
      ]
     },
     "execution_count": 44,
     "metadata": {},
     "output_type": "execute_result"
    }
   ],
   "source": [
    "# Looking at the layers of the model, with it's shape\n",
    "plot_model(model=model, show_shapes=True)"
   ]
  },
  {
   "cell_type": "markdown",
   "id": "8720dbcb",
   "metadata": {},
   "source": [
    "The plot_model() above will be very handy later on when we start creating more complex models with more hidden layers. \n",
    "   \n",
    "Let's observe the plot of a little more complex model"
   ]
  },
  {
   "cell_type": "code",
   "execution_count": 45,
   "id": "d6a9f617",
   "metadata": {},
   "outputs": [
    {
     "name": "stdout",
     "output_type": "stream",
     "text": [
      "Model: \"amazing_model\"\n",
      "_________________________________________________________________\n",
      " Layer (type)                Output Shape              Param #   \n",
      "=================================================================\n",
      " input_layer (Dense)         (None, 10)                20        \n",
      "                                                                 \n",
      " output_layer (Dense)        (None, 1)                 11        \n",
      "                                                                 \n",
      "=================================================================\n",
      "Total params: 31\n",
      "Trainable params: 31\n",
      "Non-trainable params: 0\n",
      "_________________________________________________________________\n"
     ]
    }
   ],
   "source": [
    "# Creating a model, with 10 units in the hidden layers, and an output layer\n",
    "\n",
    "tf.random.set_seed(42)\n",
    "\n",
    "# 1. Create a model (same as above)\n",
    "model = tf.keras.Sequential([\n",
    "    tf.keras.layers.Dense(10, input_shape= [1], name=\"input_layer\" ), \n",
    "    tf.keras.layers.Dense(1, name=\"output_layer\")\n",
    "], name=\"amazing_model\") \n",
    "\n",
    "# 2. Compile the model \n",
    "model.compile(loss=tf.keras.losses.mae,\n",
    "             optimizer = tf.keras.optimizers.SGD(),\n",
    "             metrics=[\"mae\"])\n",
    "\n",
    "\n",
    "model.summary()\n"
   ]
  },
  {
   "cell_type": "code",
   "execution_count": 46,
   "id": "69b4b0ca",
   "metadata": {},
   "outputs": [
    {
     "data": {
      "text/plain": [
       "<keras.callbacks.History at 0x20f3879b670>"
      ]
     },
     "execution_count": 46,
     "metadata": {},
     "output_type": "execute_result"
    }
   ],
   "source": [
    "# Fit the model to the training data\n",
    "model.fit(X_train, y_train, epochs=100, verbose=0)"
   ]
  },
  {
   "cell_type": "code",
   "execution_count": 47,
   "id": "bc62aa47",
   "metadata": {},
   "outputs": [
    {
     "name": "stdout",
     "output_type": "stream",
     "text": [
      "Model: \"amazing_model\"\n",
      "_________________________________________________________________\n",
      " Layer (type)                Output Shape              Param #   \n",
      "=================================================================\n",
      " input_layer (Dense)         (None, 10)                20        \n",
      "                                                                 \n",
      " output_layer (Dense)        (None, 1)                 11        \n",
      "                                                                 \n",
      "=================================================================\n",
      "Total params: 31\n",
      "Trainable params: 31\n",
      "Non-trainable params: 0\n",
      "_________________________________________________________________\n"
     ]
    }
   ],
   "source": [
    "model.summary()"
   ]
  },
  {
   "cell_type": "code",
   "execution_count": 48,
   "id": "06d885f8",
   "metadata": {},
   "outputs": [
    {
     "data": {
      "image/png": "[encoded data removed]",
      "text/plain": [
       "<IPython.core.display.Image object>"
      ]
     },
     "execution_count": 48,
     "metadata": {},
     "output_type": "execute_result"
    }
   ],
   "source": [
    "# Looking at the layers of the model, with it's shape\n",
    "plot_model(model=model, show_shapes=True)"
   ]
  },
  {
   "cell_type": "code",
   "execution_count": null,
   "id": "955333a7",
   "metadata": {},
   "outputs": [],
   "source": []
  },
  {
   "cell_type": "markdown",
   "id": "ab607c02",
   "metadata": {},
   "source": [
    "### Visualizing the model's predictions  \n",
    "  \n",
    "To visualize predictions, it's a good idea to plot them against the ground truth labels.  \n",
    "  \n",
    "Often, one will see this in the form of `y_test` or `y_true` versus `y_pred` (ground truth versus the model's predictions)."
   ]
  },
  {
   "cell_type": "code",
   "execution_count": 49,
   "id": "6274fe28",
   "metadata": {},
   "outputs": [
    {
     "name": "stdout",
     "output_type": "stream",
     "text": [
      "WARNING:tensorflow:5 out of the last 6 calls to <function Model.make_predict_function.<locals>.predict_function at 0x0000020F3999B430> triggered tf.function retracing. Tracing is expensive and the excessive number of tracings could be due to (1) creating @tf.function repeatedly in a loop, (2) passing tensors with different shapes, (3) passing Python objects instead of tensors. For (1), please define your @tf.function outside of the loop. For (2), @tf.function has reduce_retracing=True option that can avoid unnecessary retracing. For (3), please refer to https://www.tensorflow.org/guide/function#controlling_retracing and https://www.tensorflow.org/api_docs/python/tf/function for  more details.\n",
      "1/1 [==============================] - 0s 79ms/step\n"
     ]
    },
    {
     "data": {
      "text/plain": [
       "array([[ 88.63138 ],\n",
       "       [ 94.4153  ],\n",
       "       [100.19922 ],\n",
       "       [105.983154],\n",
       "       [111.76709 ],\n",
       "       [117.551025],\n",
       "       [123.334946],\n",
       "       [129.11887 ],\n",
       "       [134.9028  ],\n",
       "       [140.68674 ]], dtype=float32)"
      ]
     },
     "execution_count": 49,
     "metadata": {},
     "output_type": "execute_result"
    }
   ],
   "source": [
    "# Make some predictions\n",
    "y_pred = model.predict(X_test)\n",
    "y_pred"
   ]
  },
  {
   "cell_type": "code",
   "execution_count": 50,
   "id": "2693f03d",
   "metadata": {},
   "outputs": [
    {
     "data": {
      "text/plain": [
       "<tf.Tensor: shape=(10,), dtype=int32, numpy=array([ 70,  74,  78,  82,  86,  90,  94,  98, 102, 106])>"
      ]
     },
     "execution_count": 50,
     "metadata": {},
     "output_type": "execute_result"
    }
   ],
   "source": [
    "# Looking at the content of y_test (the real value)\n",
    "y_test"
   ]
  },
  {
   "cell_type": "code",
   "execution_count": null,
   "id": "ceb2b008",
   "metadata": {},
   "outputs": [],
   "source": []
  },
  {
   "cell_type": "code",
   "execution_count": 51,
   "id": "eeba611f",
   "metadata": {},
   "outputs": [],
   "source": [
    "# Creating a plotting function\n",
    "def plot_predictions(train_data=X_train, train_labels=y_train,\n",
    "                    test_data=X_test, test_labels=y_test,\n",
    "                    predictions=y_pred):\n",
    "    \"\"\"\n",
    "        Plots training data, test data, and compares predictions to ground truth labels.\n",
    "    \"\"\"\n",
    "    plt.figure( figsize=(10,7) )\n",
    "\n",
    "    # Plot training data in blue \n",
    "    plt.scatter(train_data, train_labels, c=\"b\", label=\"Training data\")\n",
    "\n",
    "    # Plot test data in green\n",
    "    plt.scatter(test_data, test_labels, c=\"g\", label=\"Test data\")\n",
    "    \n",
    "    # Plot prediction data\n",
    "    plt.scatter(test_data,predictions,c=\"r\", label=\"Predictions\")\n",
    "\n",
    "    #Show a legend\n",
    "    plt.legend() "
   ]
  },
  {
   "cell_type": "code",
   "execution_count": 52,
   "id": "e17e0774",
   "metadata": {},
   "outputs": [
    {
     "data": {
      "image/png": "[encoded data removed]",
      "text/plain": [
       "<Figure size 720x504 with 1 Axes>"
      ]
     },
     "metadata": {
      "needs_background": "light"
     },
     "output_type": "display_data"
    }
   ],
   "source": [
    "plot_predictions()"
   ]
  },
  {
   "cell_type": "markdown",
   "id": "bf87ee45",
   "metadata": {},
   "source": [
    "Looking at the plots, the model appear to be good since the distance between test data and the predictions is small. But depending on the scale of the plot, that seemingly short distance can in fact represent a fairly large error.   \n",
    "So the way that can be figured out is by some evaluation metrics.\n"
   ]
  },
  {
   "cell_type": "markdown",
   "id": "cef52248",
   "metadata": {},
   "source": [
    "🛠️ **Exercise** : Try to improve the ploted model performance."
   ]
  },
  {
   "cell_type": "code",
   "execution_count": null,
   "id": "42f63d4e",
   "metadata": {},
   "outputs": [],
   "source": []
  },
  {
   "cell_type": "markdown",
   "id": "3465cb74",
   "metadata": {},
   "source": [
    "### Evaluation a model's predictions with regression evaluation metrics  \n",
    "  \n",
    "The best way to evaluate a model's predictions is by using evaluation metrics. Depending on the problem one is working on, there will be different evaluation metrics to evaluate a model's performance.\n",
    "   \n",
    "   \n",
    "Since the current work is a regression, three of the main metrics are :\n",
    "* **MAE** - Mean Absolute Error : \"On evareage, how wrong is each of the model's predictions ?\" . It is a great starter metric for any regression problem.\n",
    "* **MSE** - Mean Square Error : \"Square the average errors\" (take the errors from the model predictions, square them, and find the average). It is great to use it when larger errors are more significant than smaller errors.   \n",
    "* **Huber** : It is a combination of MSE and MAE; it's less sensitive to outliers than MSE."
   ]
  },
  {
   "cell_type": "code",
   "execution_count": 53,
   "id": "00c2f28d",
   "metadata": {},
   "outputs": [
    {
     "name": "stdout",
     "output_type": "stream",
     "text": [
      "1/1 [==============================] - 0s 245ms/step - loss: 26.6591 - mae: 26.6591\n"
     ]
    },
    {
     "data": {
      "text/plain": [
       "[26.6590518951416, 26.6590518951416]"
      ]
     },
     "execution_count": 53,
     "metadata": {},
     "output_type": "execute_result"
    }
   ],
   "source": [
    "# Evaluate the model on the test \n",
    "model.evaluate(X_test, y_test)"
   ]
  },
  {
   "cell_type": "markdown",
   "id": "777142f7",
   "metadata": {},
   "source": [
    "In the evaluation's result above, there are values for `loss` and `mae`. They came from the hyper-parameters (loss and metrics) provided when building the model."
   ]
  },
  {
   "cell_type": "markdown",
   "id": "9805df4d",
   "metadata": {},
   "source": [
    "#### Manually calculate the MAE (as an exercise)"
   ]
  },
  {
   "cell_type": "code",
   "execution_count": 54,
   "id": "5ec1db76",
   "metadata": {},
   "outputs": [
    {
     "data": {
      "text/plain": [
       "<tf.Tensor: shape=(10,), dtype=float32, numpy=\n",
       "array([10.      , 10.96612 , 13.719531, 17.986523, 23.76709 , 29.551025,\n",
       "       35.334946, 41.118866, 46.9028  , 52.686737], dtype=float32)>"
      ]
     },
     "execution_count": 54,
     "metadata": {},
     "output_type": "execute_result"
    }
   ],
   "source": [
    "mae = tf.metrics.mean_absolute_error(y_true = y_test, y_pred=y_pred)\n",
    "mae"
   ]
  },
  {
   "cell_type": "markdown",
   "id": "1cd1446f",
   "metadata": {},
   "source": [
    "The result above does not make sense, because the result should be scalar, not an array . Let us observe y_test and y_pred to understand what is going on in the data."
   ]
  },
  {
   "cell_type": "code",
   "execution_count": 55,
   "id": "75792e15",
   "metadata": {},
   "outputs": [
    {
     "data": {
      "text/plain": [
       "<tf.Tensor: shape=(10,), dtype=int32, numpy=array([ 70,  74,  78,  82,  86,  90,  94,  98, 102, 106])>"
      ]
     },
     "execution_count": 55,
     "metadata": {},
     "output_type": "execute_result"
    }
   ],
   "source": [
    "y_test"
   ]
  },
  {
   "cell_type": "code",
   "execution_count": 56,
   "id": "12019b8c",
   "metadata": {},
   "outputs": [
    {
     "data": {
      "text/plain": [
       "array([[ 88.63138 ],\n",
       "       [ 94.4153  ],\n",
       "       [100.19922 ],\n",
       "       [105.983154],\n",
       "       [111.76709 ],\n",
       "       [117.551025],\n",
       "       [123.334946],\n",
       "       [129.11887 ],\n",
       "       [134.9028  ],\n",
       "       [140.68674 ]], dtype=float32)"
      ]
     },
     "execution_count": 56,
     "metadata": {},
     "output_type": "execute_result"
    }
   ],
   "source": [
    "y_pred"
   ]
  },
  {
   "cell_type": "code",
   "execution_count": 57,
   "id": "af13faf2",
   "metadata": {},
   "outputs": [
    {
     "data": {
      "text/plain": [
       "(10, 1)"
      ]
     },
     "execution_count": 57,
     "metadata": {},
     "output_type": "execute_result"
    }
   ],
   "source": [
    "y_pred.shape"
   ]
  },
  {
   "cell_type": "markdown",
   "id": "12d65db9",
   "metadata": {},
   "source": [
    "y_pred has one more dimension than y_test, so we need to remove its last dimension in order to have the same dimension for the two of them."
   ]
  },
  {
   "cell_type": "code",
   "execution_count": 58,
   "id": "17da45da",
   "metadata": {},
   "outputs": [
    {
     "data": {
      "text/plain": [
       "<tf.Tensor: shape=(10,), dtype=float32, numpy=\n",
       "array([ 88.63138 ,  94.4153  , 100.19922 , 105.983154, 111.76709 ,\n",
       "       117.551025, 123.334946, 129.11887 , 134.9028  , 140.68674 ],\n",
       "      dtype=float32)>"
      ]
     },
     "execution_count": 58,
     "metadata": {},
     "output_type": "execute_result"
    }
   ],
   "source": [
    "# remove the last dimension from y_pred\n",
    "tf.squeeze(y_pred)"
   ]
  },
  {
   "cell_type": "code",
   "execution_count": 59,
   "id": "1e73ed10",
   "metadata": {},
   "outputs": [
    {
     "data": {
      "text/plain": [
       "<tf.Tensor: shape=(), dtype=float32, numpy=26.659052>"
      ]
     },
     "execution_count": 59,
     "metadata": {},
     "output_type": "execute_result"
    }
   ],
   "source": [
    "mae = tf.metrics.mean_absolute_error(y_true=y_test, y_pred = tf.squeeze(y_pred))\n",
    "mae"
   ]
  },
  {
   "cell_type": "markdown",
   "id": "b0ad45e6",
   "metadata": {},
   "source": [
    "The MAE manually computed here is the same as the one computed automatically before."
   ]
  },
  {
   "cell_type": "markdown",
   "id": "3cf402e6",
   "metadata": {},
   "source": [
    "#### Manually calculate the MSE (as an exercise)"
   ]
  },
  {
   "cell_type": "code",
   "execution_count": 60,
   "id": "c90b3e84",
   "metadata": {},
   "outputs": [
    {
     "data": {
      "text/plain": [
       "<tf.Tensor: shape=(10,), dtype=float32, numpy=\n",
       "array([ 132.39864,  173.15607,  280.82092,  455.3938 ,  696.8745 ,\n",
       "       1005.2632 , 1380.5585 , 1822.761  , 2331.8728 , 2907.8923 ],\n",
       "      dtype=float32)>"
      ]
     },
     "execution_count": 60,
     "metadata": {},
     "output_type": "execute_result"
    }
   ],
   "source": [
    "mse = tf.metrics.mean_squared_error(y_true=y_test, y_pred=y_pred)\n",
    "mse"
   ]
  },
  {
   "cell_type": "markdown",
   "id": "422c2ed0",
   "metadata": {},
   "source": [
    "We have the same situation as when manually calculing MAE. We will use `tf.squeeze()` to solve the issue."
   ]
  },
  {
   "cell_type": "code",
   "execution_count": 61,
   "id": "98097d29",
   "metadata": {},
   "outputs": [
    {
     "data": {
      "text/plain": [
       "<tf.Tensor: shape=(), dtype=float32, numpy=736.95984>"
      ]
     },
     "execution_count": 61,
     "metadata": {},
     "output_type": "execute_result"
    }
   ],
   "source": [
    "mse = tf.metrics.mean_squared_error(y_true=y_test, y_pred= tf.squeeze(y_pred) )\n",
    "mse"
   ]
  },
  {
   "cell_type": "markdown",
   "id": "cc16b67b",
   "metadata": {},
   "source": [
    "MSE will typically be higher than MAE because, if we look at their formula, there is a square operation in MSE."
   ]
  },
  {
   "cell_type": "code",
   "execution_count": null,
   "id": "804b9b8b",
   "metadata": {},
   "outputs": [],
   "source": []
  },
  {
   "cell_type": "markdown",
   "id": "dcfe3cf7",
   "metadata": {},
   "source": [
    "#### Define a function for MAE and MSE\n",
    "It is so that the two of them can be used later"
   ]
  },
  {
   "cell_type": "code",
   "execution_count": 62,
   "id": "12fde13f",
   "metadata": {},
   "outputs": [],
   "source": [
    "def mae(y_true, y_pred):\n",
    "    return tf.metrics.mean_absolute_error(y_true=y_true, y_pred = y_pred)\n",
    "\n",
    "def mse(y_true, y_pred):\n",
    "    return tf.metrics.mean_squared_error(y_true=y_test, y_pred=y_pred)"
   ]
  },
  {
   "cell_type": "code",
   "execution_count": null,
   "id": "84618df1",
   "metadata": {},
   "outputs": [],
   "source": []
  },
  {
   "cell_type": "markdown",
   "id": "970c90c1",
   "metadata": {},
   "source": [
    "### Running experiments to improve a model\n",
    "\n",
    "So far :\n",
    "* some predictions where made with a trained model, \n",
    "* the predictions where compared to test data set, and the comparaison was visualized,\n",
    "* the predictions where where evaluated with regression evaluation metrics, such as MAE and MSE.\n",
    "\n",
    "The next question is : \"**How do we get the error values lower ?** (How do we minimize the difference between the model's predictions and the test labels)\". \n",
    "\n",
    "Remembering the workflow discussed before : `Build a model -> fit it -> evaluate it -> tweak it -> fit it -> tweak it -> ... `\n",
    "\n",
    "If the Machine Learning explorer's motto is `visualize, visualize, visualize`, in other words :\n",
    "* Visualizing our data\n",
    "* Visualizing our model\n",
    "* Visualizing our training\n",
    "* Visualizing our prediction\n",
    "\n",
    "Then, the Machine Learning practitioner's motto is `experiment, experiment, experiment, ...`. That is what we are going to do : try to run a few series of experiments to see if we can improve our model following the above mentioned workflow.\n",
    "\n",
    "Recalling some ways that we can improve our model :\n",
    "1. **Get more data** - get more examples for your model to train on (in other words, more opportunities to learn patterns/relationships between features and labels).\n",
    "1. **Make the model larger** (using a more complex model) -  this might come in the form of more layers, or more hidden units in each layer, or both.\n",
    "1. **Train for longer** - give the model more of a chance to find patterns in the data\n",
    "1. **Review how the model is compiled** - change the optimization function, or learning rate of the optimization function"
   ]
  },
  {
   "cell_type": "code",
   "execution_count": 63,
   "id": "5dab5076",
   "metadata": {},
   "outputs": [
    {
     "data": {
      "text/plain": [
       "(<tf.Tensor: shape=(40,), dtype=int32, numpy=\n",
       " array([-100,  -96,  -92,  -88,  -84,  -80,  -76,  -72,  -68,  -64,  -60,\n",
       "         -56,  -52,  -48,  -44,  -40,  -36,  -32,  -28,  -24,  -20,  -16,\n",
       "         -12,   -8,   -4,    0,    4,    8,   12,   16,   20,   24,   28,\n",
       "          32,   36,   40,   44,   48,   52,   56])>,\n",
       " <tf.Tensor: shape=(40,), dtype=int32, numpy=\n",
       " array([-90, -86, -82, -78, -74, -70, -66, -62, -58, -54, -50, -46, -42,\n",
       "        -38, -34, -30, -26, -22, -18, -14, -10,  -6,  -2,   2,   6,  10,\n",
       "         14,  18,  22,  26,  30,  34,  38,  42,  46,  50,  54,  58,  62,\n",
       "         66])>)"
      ]
     },
     "execution_count": 63,
     "metadata": {},
     "output_type": "execute_result"
    }
   ],
   "source": [
    "# Recalling our dataset\n",
    "X_train, y_train"
   ]
  },
  {
   "cell_type": "markdown",
   "id": "3676c1da",
   "metadata": {},
   "source": [
    "The question now is `Looking at our datas, how can we improve our model ?`. Let us review our options :   \n",
    "\n",
    "1. Get more data ? We can't really get more data unless we just artificially make our datasest bigger, so this option is ruled out.\n",
    "1. Make the model larger ? Yes we can\n",
    "1. Train for longer ? Yes, we can\n",
    "1. Review how the model is compiled ? Yes we can\n",
    "\n",
    "In regard for this, let's design 03 experiments that we could do: \n",
    "1. `model_1` - same as the original model, 1 layer, trained for 100 epochs.\n",
    "1. `model_2` - 2 layers, trained for 100 epochs.\n",
    "1. `model_3` - 2 layers, trained for 500 epochs.\n",
    "\n",
    "The mindset of a Machine Learning practitioner is to start with a baseline model, and then change one of the parameters for his next experiment, then do the same for the next experiment, and so on."
   ]
  },
  {
   "cell_type": "code",
   "execution_count": null,
   "id": "603a60ba",
   "metadata": {},
   "outputs": [],
   "source": []
  },
  {
   "cell_type": "markdown",
   "id": "3c6d23e7",
   "metadata": {},
   "source": [
    "**Creating model_1**: 1 layer, trained for 100 epochs"
   ]
  },
  {
   "cell_type": "code",
   "execution_count": 64,
   "id": "99dd78e1",
   "metadata": {},
   "outputs": [
    {
     "name": "stdout",
     "output_type": "stream",
     "text": [
      "Epoch 1/100\n",
      "2/2 [==============================] - 1s 5ms/step - loss: 25.5926 - mae: 25.5926\n",
      "Epoch 2/100\n",
      "2/2 [==============================] - 0s 6ms/step - loss: 8.3546 - mae: 8.3546\n",
      "Epoch 3/100\n",
      "2/2 [==============================] - 0s 5ms/step - loss: 10.4861 - mae: 10.4861\n",
      "Epoch 4/100\n",
      "2/2 [==============================] - 0s 4ms/step - loss: 12.9766 - mae: 12.9766\n",
      "Epoch 5/100\n",
      "2/2 [==============================] - 0s 4ms/step - loss: 12.0257 - mae: 12.0257\n",
      "Epoch 6/100\n",
      "2/2 [==============================] - 0s 4ms/step - loss: 9.3017 - mae: 9.3017\n",
      "Epoch 7/100\n",
      "2/2 [==============================] - 0s 5ms/step - loss: 8.4621 - mae: 8.4621\n",
      "Epoch 8/100\n",
      "2/2 [==============================] - 0s 4ms/step - loss: 9.0298 - mae: 9.0298\n",
      "Epoch 9/100\n",
      "2/2 [==============================] - 0s 4ms/step - loss: 18.4910 - mae: 18.4910\n",
      "Epoch 10/100\n",
      "2/2 [==============================] - 0s 4ms/step - loss: 9.9653 - mae: 9.9653\n",
      "Epoch 11/100\n",
      "2/2 [==============================] - 0s 5ms/step - loss: 8.3367 - mae: 8.3367\n",
      "Epoch 12/100\n",
      "2/2 [==============================] - 0s 5ms/step - loss: 10.5436 - mae: 10.5436\n",
      "Epoch 13/100\n",
      "2/2 [==============================] - 0s 4ms/step - loss: 9.7463 - mae: 9.7463\n",
      "Epoch 14/100\n",
      "2/2 [==============================] - 0s 5ms/step - loss: 15.7334 - mae: 15.7334\n",
      "Epoch 15/100\n",
      "2/2 [==============================] - 0s 5ms/step - loss: 11.6170 - mae: 11.6170\n",
      "Epoch 16/100\n",
      "2/2 [==============================] - 0s 8ms/step - loss: 8.4701 - mae: 8.4701\n",
      "Epoch 17/100\n",
      "2/2 [==============================] - 0s 5ms/step - loss: 13.4809 - mae: 13.4809\n",
      "Epoch 18/100\n",
      "2/2 [==============================] - 0s 5ms/step - loss: 11.2721 - mae: 11.2721\n",
      "Epoch 19/100\n",
      "2/2 [==============================] - 0s 5ms/step - loss: 18.2287 - mae: 18.2287\n",
      "Epoch 20/100\n",
      "2/2 [==============================] - 0s 5ms/step - loss: 14.9372 - mae: 14.9372\n",
      "Epoch 21/100\n",
      "2/2 [==============================] - 0s 4ms/step - loss: 10.8222 - mae: 10.8222\n",
      "Epoch 22/100\n",
      "2/2 [==============================] - 0s 4ms/step - loss: 8.5707 - mae: 8.5707\n",
      "Epoch 23/100\n",
      "2/2 [==============================] - 0s 4ms/step - loss: 9.7193 - mae: 9.7193\n",
      "Epoch 24/100\n",
      "2/2 [==============================] - 0s 5ms/step - loss: 10.9330 - mae: 10.9330\n",
      "Epoch 25/100\n",
      "2/2 [==============================] - 0s 5ms/step - loss: 9.1464 - mae: 9.1464\n",
      "Epoch 26/100\n",
      "2/2 [==============================] - 0s 6ms/step - loss: 13.1698 - mae: 13.1698\n",
      "Epoch 27/100\n",
      "2/2 [==============================] - 0s 5ms/step - loss: 10.6462 - mae: 10.6462\n",
      "Epoch 28/100\n",
      "2/2 [==============================] - 0s 6ms/step - loss: 12.8598 - mae: 12.8598\n",
      "Epoch 29/100\n",
      "2/2 [==============================] - 0s 5ms/step - loss: 9.4989 - mae: 9.4989\n",
      "Epoch 30/100\n",
      "2/2 [==============================] - 0s 5ms/step - loss: 16.3746 - mae: 16.3746\n",
      "Epoch 31/100\n",
      "2/2 [==============================] - 0s 4ms/step - loss: 23.6069 - mae: 23.6069\n",
      "Epoch 32/100\n",
      "2/2 [==============================] - 0s 5ms/step - loss: 7.6070 - mae: 7.6070\n",
      "Epoch 33/100\n",
      "2/2 [==============================] - 0s 6ms/step - loss: 9.3060 - mae: 9.3060\n",
      "Epoch 34/100\n",
      "2/2 [==============================] - 0s 7ms/step - loss: 13.6981 - mae: 13.6981\n",
      "Epoch 35/100\n",
      "2/2 [==============================] - 0s 5ms/step - loss: 11.1346 - mae: 11.1346\n",
      "Epoch 36/100\n",
      "2/2 [==============================] - 0s 7ms/step - loss: 13.3461 - mae: 13.3461\n",
      "Epoch 37/100\n",
      "2/2 [==============================] - 0s 6ms/step - loss: 9.4560 - mae: 9.4560\n",
      "Epoch 38/100\n",
      "2/2 [==============================] - 0s 5ms/step - loss: 10.1122 - mae: 10.1122\n",
      "Epoch 39/100\n",
      "2/2 [==============================] - 0s 5ms/step - loss: 10.1864 - mae: 10.1864\n",
      "Epoch 40/100\n",
      "2/2 [==============================] - 0s 6ms/step - loss: 10.9274 - mae: 10.9274\n",
      "Epoch 41/100\n",
      "2/2 [==============================] - 0s 6ms/step - loss: 7.9144 - mae: 7.9144\n",
      "Epoch 42/100\n",
      "2/2 [==============================] - 0s 4ms/step - loss: 10.0684 - mae: 10.0684\n",
      "Epoch 43/100\n",
      "2/2 [==============================] - 0s 8ms/step - loss: 8.6859 - mae: 8.6859\n",
      "Epoch 44/100\n",
      "2/2 [==============================] - 0s 5ms/step - loss: 12.1713 - mae: 12.1713\n",
      "Epoch 45/100\n",
      "2/2 [==============================] - 0s 5ms/step - loss: 13.8159 - mae: 13.8159\n",
      "Epoch 46/100\n",
      "2/2 [==============================] - 0s 7ms/step - loss: 8.4776 - mae: 8.4776\n",
      "Epoch 47/100\n",
      "2/2 [==============================] - 0s 5ms/step - loss: 9.1124 - mae: 9.1124\n",
      "Epoch 48/100\n",
      "2/2 [==============================] - 0s 4ms/step - loss: 10.5921 - mae: 10.5921\n",
      "Epoch 49/100\n",
      "2/2 [==============================] - 0s 5ms/step - loss: 7.7316 - mae: 7.7316\n",
      "Epoch 50/100\n",
      "2/2 [==============================] - 0s 5ms/step - loss: 9.5158 - mae: 9.5158\n",
      "Epoch 51/100\n",
      "2/2 [==============================] - 0s 5ms/step - loss: 9.1462 - mae: 9.1462\n",
      "Epoch 52/100\n",
      "2/2 [==============================] - 0s 6ms/step - loss: 16.3248 - mae: 16.3248\n",
      "Epoch 53/100\n",
      "2/2 [==============================] - 0s 4ms/step - loss: 14.1389 - mae: 14.1389\n",
      "Epoch 54/100\n",
      "2/2 [==============================] - 0s 4ms/step - loss: 21.1596 - mae: 21.1596\n",
      "Epoch 55/100\n",
      "2/2 [==============================] - 0s 5ms/step - loss: 16.3595 - mae: 16.3595\n",
      "Epoch 56/100\n",
      "2/2 [==============================] - 0s 6ms/step - loss: 9.9990 - mae: 9.9990\n",
      "Epoch 57/100\n",
      "2/2 [==============================] - 0s 5ms/step - loss: 9.9370 - mae: 9.9370\n",
      "Epoch 58/100\n",
      "2/2 [==============================] - 0s 4ms/step - loss: 9.1990 - mae: 9.1990\n",
      "Epoch 59/100\n",
      "2/2 [==============================] - 0s 5ms/step - loss: 8.4033 - mae: 8.4033\n",
      "Epoch 60/100\n",
      "2/2 [==============================] - 0s 7ms/step - loss: 9.4681 - mae: 9.4681\n",
      "Epoch 61/100\n",
      "2/2 [==============================] - 0s 5ms/step - loss: 11.4052 - mae: 11.4052\n",
      "Epoch 62/100\n",
      "2/2 [==============================] - 0s 5ms/step - loss: 11.7062 - mae: 11.7062\n",
      "Epoch 63/100\n",
      "2/2 [==============================] - 0s 5ms/step - loss: 7.0671 - mae: 7.0671\n",
      "Epoch 64/100\n",
      "2/2 [==============================] - 0s 5ms/step - loss: 16.9880 - mae: 16.9880\n",
      "Epoch 65/100\n",
      "2/2 [==============================] - 0s 7ms/step - loss: 12.4721 - mae: 12.4721\n",
      "Epoch 66/100\n",
      "2/2 [==============================] - 0s 6ms/step - loss: 13.0370 - mae: 13.0370\n",
      "Epoch 67/100\n",
      "2/2 [==============================] - 0s 5ms/step - loss: 8.0609 - mae: 8.0609\n",
      "Epoch 68/100\n",
      "2/2 [==============================] - 0s 4ms/step - loss: 10.1967 - mae: 10.1967\n",
      "Epoch 69/100\n",
      "2/2 [==============================] - 0s 6ms/step - loss: 12.3834 - mae: 12.3834\n",
      "Epoch 70/100\n",
      "2/2 [==============================] - 0s 5ms/step - loss: 9.0300 - mae: 9.0300\n",
      "Epoch 71/100\n",
      "2/2 [==============================] - 0s 4ms/step - loss: 10.0149 - mae: 10.0149\n",
      "Epoch 72/100\n",
      "2/2 [==============================] - 0s 5ms/step - loss: 10.0322 - mae: 10.0322\n",
      "Epoch 73/100\n",
      "2/2 [==============================] - 0s 5ms/step - loss: 12.5834 - mae: 12.5834\n",
      "Epoch 74/100\n",
      "2/2 [==============================] - 0s 3ms/step - loss: 10.4009 - mae: 10.4009\n",
      "Epoch 75/100\n",
      "2/2 [==============================] - 0s 5ms/step - loss: 9.7021 - mae: 9.7021\n",
      "Epoch 76/100\n",
      "2/2 [==============================] - 0s 4ms/step - loss: 11.1990 - mae: 11.1990\n",
      "Epoch 77/100\n",
      "2/2 [==============================] - 0s 4ms/step - loss: 8.3449 - mae: 8.3449\n",
      "Epoch 78/100\n",
      "2/2 [==============================] - 0s 4ms/step - loss: 9.0972 - mae: 9.0972\n",
      "Epoch 79/100\n",
      "2/2 [==============================] - 0s 6ms/step - loss: 19.5366 - mae: 19.5366\n",
      "Epoch 80/100\n",
      "2/2 [==============================] - 0s 4ms/step - loss: 14.8594 - mae: 14.8594\n",
      "Epoch 81/100\n",
      "2/2 [==============================] - 0s 4ms/step - loss: 9.0261 - mae: 9.0261\n",
      "Epoch 82/100\n",
      "2/2 [==============================] - 0s 5ms/step - loss: 12.9898 - mae: 12.9898\n",
      "Epoch 83/100\n",
      "2/2 [==============================] - 0s 4ms/step - loss: 7.9051 - mae: 7.9051\n",
      "Epoch 84/100\n",
      "2/2 [==============================] - 0s 4ms/step - loss: 7.6868 - mae: 7.6868\n",
      "Epoch 85/100\n",
      "2/2 [==============================] - 0s 4ms/step - loss: 10.0436 - mae: 10.0436\n",
      "Epoch 86/100\n",
      "2/2 [==============================] - 0s 6ms/step - loss: 9.2476 - mae: 9.2476\n",
      "Epoch 87/100\n",
      "2/2 [==============================] - 0s 5ms/step - loss: 12.0361 - mae: 12.0361\n",
      "Epoch 88/100\n"
     ]
    },
    {
     "name": "stdout",
     "output_type": "stream",
     "text": [
      "2/2 [==============================] - 0s 4ms/step - loss: 10.6545 - mae: 10.6545\n",
      "Epoch 89/100\n",
      "2/2 [==============================] - 0s 5ms/step - loss: 7.2600 - mae: 7.2600\n",
      "Epoch 90/100\n",
      "2/2 [==============================] - 0s 5ms/step - loss: 12.7971 - mae: 12.7971\n",
      "Epoch 91/100\n",
      "2/2 [==============================] - 0s 6ms/step - loss: 7.4719 - mae: 7.4719\n",
      "Epoch 92/100\n",
      "2/2 [==============================] - 0s 5ms/step - loss: 6.7436 - mae: 6.7436\n",
      "Epoch 93/100\n",
      "2/2 [==============================] - 0s 5ms/step - loss: 11.9465 - mae: 11.9465\n",
      "Epoch 94/100\n",
      "2/2 [==============================] - 0s 4ms/step - loss: 8.8764 - mae: 8.8764\n",
      "Epoch 95/100\n",
      "2/2 [==============================] - 0s 6ms/step - loss: 7.7139 - mae: 7.7139\n",
      "Epoch 96/100\n",
      "2/2 [==============================] - 0s 4ms/step - loss: 6.7426 - mae: 6.7426\n",
      "Epoch 97/100\n",
      "2/2 [==============================] - 0s 4ms/step - loss: 8.6284 - mae: 8.6284\n",
      "Epoch 98/100\n",
      "2/2 [==============================] - 0s 5ms/step - loss: 9.3826 - mae: 9.3826\n",
      "Epoch 99/100\n",
      "2/2 [==============================] - 0s 5ms/step - loss: 9.1190 - mae: 9.1190\n",
      "Epoch 100/100\n",
      "2/2 [==============================] - 0s 5ms/step - loss: 10.4746 - mae: 10.4746\n"
     ]
    }
   ],
   "source": [
    "# Set random seed\n",
    "tf.random.set_seed(42)\n",
    "\n",
    "# 1. Create the model\n",
    "model_1 = tf.keras.Sequential([\n",
    "    tf.keras.layers.Dense(1)\n",
    "])\n",
    "\n",
    "# 2. Compile the model\n",
    "model_1.compile(loss=tf.keras.losses.mae,\n",
    "               optimizer=tf.keras.optimizers.SGD(),\n",
    "               metrics=[\"mae\"])\n",
    "\n",
    "# 3. Fit the model\n",
    "model_1.fit(tf.expand_dims(X_train,axis=-1), y_train, epochs=100);"
   ]
  },
  {
   "cell_type": "code",
   "execution_count": 65,
   "id": "a4bc8d7f",
   "metadata": {},
   "outputs": [
    {
     "name": "stdout",
     "output_type": "stream",
     "text": [
      "WARNING:tensorflow:6 out of the last 7 calls to <function Model.make_predict_function.<locals>.predict_function at 0x0000020F39A92550> triggered tf.function retracing. Tracing is expensive and the excessive number of tracings could be due to (1) creating @tf.function repeatedly in a loop, (2) passing tensors with different shapes, (3) passing Python objects instead of tensors. For (1), please define your @tf.function outside of the loop. For (2), @tf.function has reduce_retracing=True option that can avoid unnecessary retracing. For (3), please refer to https://www.tensorflow.org/guide/function#controlling_retracing and https://www.tensorflow.org/api_docs/python/tf/function for  more details.\n",
      "1/1 [==============================] - 0s 83ms/step\n"
     ]
    },
    {
     "data": {
      "image/png": "[encoded data removed]",
      "text/plain": [
       "<Figure size 720x504 with 1 Axes>"
      ]
     },
     "metadata": {
      "needs_background": "light"
     },
     "output_type": "display_data"
    }
   ],
   "source": [
    "# Make and plot predictions for model_1\n",
    "y_preds_1 = model_1.predict(tf.expand_dims(X_test,axis=-1))\n",
    "plot_predictions(train_data=X_train,train_labels=y_train,test_data=X_test, test_labels=y_test,predictions=y_preds_1)"
   ]
  },
  {
   "cell_type": "code",
   "execution_count": 66,
   "id": "3ca03c4b",
   "metadata": {},
   "outputs": [
    {
     "data": {
      "text/plain": [
       "(<tf.Tensor: shape=(), dtype=float32, numpy=14.891912>,\n",
       " <tf.Tensor: shape=(), dtype=float32, numpy=222.6033>)"
      ]
     },
     "execution_count": 66,
     "metadata": {},
     "output_type": "execute_result"
    }
   ],
   "source": [
    "# Calculate model_1 evaluation metrics\n",
    "mae_1 = mae(y_test, tf.squeeze(y_preds_1))\n",
    "mse_1 = mse(y_test, tf.squeeze(y_preds_1))\n",
    "mae_1, mse_1"
   ]
  },
  {
   "cell_type": "code",
   "execution_count": null,
   "id": "9a1be0e4",
   "metadata": {},
   "outputs": [],
   "source": []
  },
  {
   "cell_type": "markdown",
   "id": "a70ad7e6",
   "metadata": {},
   "source": [
    "**Creating model_2**: 2 dense layers, trained for 100 epochs"
   ]
  },
  {
   "cell_type": "code",
   "execution_count": 67,
   "id": "cbb34ae4",
   "metadata": {},
   "outputs": [
    {
     "name": "stdout",
     "output_type": "stream",
     "text": [
      "Epoch 1/100\n",
      "2/2 [==============================] - 1s 7ms/step - loss: 35.8197 - mse: 1777.5830\n",
      "Epoch 2/100\n",
      "2/2 [==============================] - 0s 7ms/step - loss: 28.6293 - mse: 1069.2483\n",
      "Epoch 3/100\n",
      "2/2 [==============================] - 0s 4ms/step - loss: 33.5858 - mse: 1697.6067\n",
      "Epoch 4/100\n",
      "2/2 [==============================] - 0s 11ms/step - loss: 28.1647 - mse: 1168.1885\n",
      "Epoch 5/100\n",
      "2/2 [==============================] - 0s 5ms/step - loss: 15.3141 - mse: 299.4932\n",
      "Epoch 6/100\n",
      "2/2 [==============================] - 0s 6ms/step - loss: 12.1601 - mse: 182.4700\n",
      "Epoch 7/100\n",
      "2/2 [==============================] - 0s 5ms/step - loss: 11.4580 - mse: 159.5411\n",
      "Epoch 8/100\n",
      "2/2 [==============================] - 0s 4ms/step - loss: 11.1976 - mse: 173.9873\n",
      "Epoch 9/100\n",
      "2/2 [==============================] - 0s 5ms/step - loss: 41.7090 - mse: 2771.1450\n",
      "Epoch 10/100\n",
      "2/2 [==============================] - 0s 5ms/step - loss: 28.9441 - mse: 1183.9849\n",
      "Epoch 11/100\n",
      "2/2 [==============================] - 0s 4ms/step - loss: 8.5443 - mse: 96.4047\n",
      "Epoch 12/100\n",
      "2/2 [==============================] - 0s 4ms/step - loss: 27.4290 - mse: 1034.2625\n",
      "Epoch 13/100\n",
      "2/2 [==============================] - 0s 4ms/step - loss: 12.1258 - mse: 175.0704\n",
      "Epoch 14/100\n",
      "2/2 [==============================] - 0s 5ms/step - loss: 34.8796 - mse: 2000.7058\n",
      "Epoch 15/100\n",
      "2/2 [==============================] - 0s 5ms/step - loss: 22.7048 - mse: 732.5835\n",
      "Epoch 16/100\n",
      "2/2 [==============================] - 0s 4ms/step - loss: 9.9504 - mse: 125.0923\n",
      "Epoch 17/100\n",
      "2/2 [==============================] - 0s 4ms/step - loss: 17.9257 - mse: 427.0069\n",
      "Epoch 18/100\n",
      "2/2 [==============================] - 0s 5ms/step - loss: 14.4004 - mse: 329.5067\n",
      "Epoch 19/100\n",
      "2/2 [==============================] - 0s 4ms/step - loss: 14.5145 - mse: 331.9250\n",
      "Epoch 20/100\n",
      "2/2 [==============================] - 0s 5ms/step - loss: 10.4959 - mse: 148.3217\n",
      "Epoch 21/100\n",
      "2/2 [==============================] - 0s 4ms/step - loss: 15.2826 - mse: 317.2576\n",
      "Epoch 22/100\n",
      "2/2 [==============================] - 0s 6ms/step - loss: 15.6324 - mse: 337.1950\n",
      "Epoch 23/100\n",
      "2/2 [==============================] - 0s 4ms/step - loss: 9.2327 - mse: 118.7716\n",
      "Epoch 24/100\n",
      "2/2 [==============================] - 0s 4ms/step - loss: 17.2196 - mse: 405.7751\n",
      "Epoch 25/100\n",
      "2/2 [==============================] - 0s 4ms/step - loss: 15.9074 - mse: 332.1636\n",
      "Epoch 26/100\n",
      "2/2 [==============================] - 0s 5ms/step - loss: 20.8548 - mse: 645.6979\n",
      "Epoch 27/100\n",
      "2/2 [==============================] - 0s 4ms/step - loss: 26.1328 - mse: 1067.2172\n",
      "Epoch 28/100\n",
      "2/2 [==============================] - 0s 4ms/step - loss: 18.6086 - mse: 548.4351\n",
      "Epoch 29/100\n",
      "2/2 [==============================] - 0s 4ms/step - loss: 9.2488 - mse: 96.9790\n",
      "Epoch 30/100\n",
      "2/2 [==============================] - 0s 4ms/step - loss: 29.2337 - mse: 1531.1700\n",
      "Epoch 31/100\n",
      "2/2 [==============================] - 0s 4ms/step - loss: 52.9644 - mse: 5018.7979\n",
      "Epoch 32/100\n",
      "2/2 [==============================] - 0s 5ms/step - loss: 11.9869 - mse: 210.9781\n",
      "Epoch 33/100\n",
      "2/2 [==============================] - 0s 4ms/step - loss: 15.6184 - mse: 336.5069\n",
      "Epoch 34/100\n",
      "2/2 [==============================] - 0s 4ms/step - loss: 12.6827 - mse: 213.7937\n",
      "Epoch 35/100\n",
      "2/2 [==============================] - 0s 5ms/step - loss: 9.2372 - mse: 92.7801\n",
      "Epoch 36/100\n",
      "2/2 [==============================] - 0s 5ms/step - loss: 16.6276 - mse: 402.4323\n",
      "Epoch 37/100\n",
      "2/2 [==============================] - 0s 4ms/step - loss: 11.0467 - mse: 192.4241\n",
      "Epoch 38/100\n",
      "2/2 [==============================] - 0s 4ms/step - loss: 18.1721 - mse: 434.2182\n",
      "Epoch 39/100\n",
      "2/2 [==============================] - 0s 4ms/step - loss: 19.1091 - mse: 530.2935\n",
      "Epoch 40/100\n",
      "2/2 [==============================] - 0s 3ms/step - loss: 20.4452 - mse: 610.8204\n",
      "Epoch 41/100\n",
      "2/2 [==============================] - 0s 5ms/step - loss: 14.8990 - mse: 278.9252\n",
      "Epoch 42/100\n",
      "2/2 [==============================] - 0s 4ms/step - loss: 12.2732 - mse: 186.0226\n",
      "Epoch 43/100\n",
      "2/2 [==============================] - 0s 3ms/step - loss: 10.7307 - mse: 166.5657\n",
      "Epoch 44/100\n",
      "2/2 [==============================] - 0s 4ms/step - loss: 22.9936 - mse: 827.9622\n",
      "Epoch 45/100\n",
      "2/2 [==============================] - 0s 4ms/step - loss: 10.3839 - mse: 128.9463\n",
      "Epoch 46/100\n",
      "2/2 [==============================] - 0s 4ms/step - loss: 11.7801 - mse: 181.2138\n",
      "Epoch 47/100\n",
      "2/2 [==============================] - 0s 4ms/step - loss: 9.6517 - mse: 153.8663\n",
      "Epoch 48/100\n",
      "2/2 [==============================] - 0s 4ms/step - loss: 17.2473 - mse: 403.4876\n",
      "Epoch 49/100\n",
      "2/2 [==============================] - 0s 5ms/step - loss: 9.5679 - mse: 99.7143\n",
      "Epoch 50/100\n",
      "2/2 [==============================] - 0s 4ms/step - loss: 13.8071 - mse: 259.5929\n",
      "Epoch 51/100\n",
      "2/2 [==============================] - 0s 6ms/step - loss: 11.5936 - mse: 154.6215\n",
      "Epoch 52/100\n",
      "2/2 [==============================] - 0s 5ms/step - loss: 30.5147 - mse: 1608.6428\n",
      "Epoch 53/100\n",
      "2/2 [==============================] - 0s 5ms/step - loss: 14.3384 - mse: 301.7655\n",
      "Epoch 54/100\n",
      "2/2 [==============================] - 0s 4ms/step - loss: 23.9416 - mse: 857.0946\n",
      "Epoch 55/100\n",
      "2/2 [==============================] - 0s 5ms/step - loss: 23.1623 - mse: 803.2367\n",
      "Epoch 56/100\n",
      "2/2 [==============================] - 0s 4ms/step - loss: 10.8773 - mse: 171.0953\n",
      "Epoch 57/100\n",
      "2/2 [==============================] - 0s 4ms/step - loss: 12.7344 - mse: 198.2442\n",
      "Epoch 58/100\n",
      "2/2 [==============================] - 0s 5ms/step - loss: 9.5954 - mse: 102.5510\n",
      "Epoch 59/100\n",
      "2/2 [==============================] - 0s 4ms/step - loss: 12.5077 - mse: 215.6116\n",
      "Epoch 60/100\n",
      "2/2 [==============================] - 0s 5ms/step - loss: 12.3113 - mse: 208.0461\n",
      "Epoch 61/100\n",
      "2/2 [==============================] - 0s 2ms/step - loss: 17.4386 - mse: 427.4675\n",
      "Epoch 62/100\n",
      "2/2 [==============================] - 0s 5ms/step - loss: 10.5987 - mse: 136.7427\n",
      "Epoch 63/100\n",
      "2/2 [==============================] - 0s 4ms/step - loss: 10.4861 - mse: 151.8924\n",
      "Epoch 64/100\n",
      "2/2 [==============================] - 0s 4ms/step - loss: 24.8136 - mse: 909.2889\n",
      "Epoch 65/100\n",
      "2/2 [==============================] - 0s 4ms/step - loss: 10.6727 - mse: 142.3456\n",
      "Epoch 66/100\n",
      "2/2 [==============================] - 0s 4ms/step - loss: 21.7538 - mse: 702.4357\n",
      "Epoch 67/100\n",
      "2/2 [==============================] - 0s 3ms/step - loss: 10.7078 - mse: 135.7241\n",
      "Epoch 68/100\n",
      "2/2 [==============================] - 0s 5ms/step - loss: 10.6363 - mse: 148.7340\n",
      "Epoch 69/100\n",
      "2/2 [==============================] - 0s 5ms/step - loss: 22.6582 - mse: 739.9089\n",
      "Epoch 70/100\n",
      "2/2 [==============================] - 0s 4ms/step - loss: 9.3400 - mse: 166.0369\n",
      "Epoch 71/100\n",
      "2/2 [==============================] - 0s 6ms/step - loss: 15.4482 - mse: 323.5857\n",
      "Epoch 72/100\n",
      "2/2 [==============================] - 0s 4ms/step - loss: 7.0195 - mse: 67.5279\n",
      "Epoch 73/100\n",
      "2/2 [==============================] - 0s 4ms/step - loss: 12.2122 - mse: 216.0827\n",
      "Epoch 74/100\n",
      "2/2 [==============================] - 0s 4ms/step - loss: 17.3516 - mse: 407.6971\n",
      "Epoch 75/100\n",
      "2/2 [==============================] - 0s 6ms/step - loss: 7.2194 - mse: 71.4400\n",
      "Epoch 76/100\n",
      "2/2 [==============================] - 0s 4ms/step - loss: 9.4564 - mse: 149.0086\n",
      "Epoch 77/100\n",
      "2/2 [==============================] - 0s 4ms/step - loss: 22.1781 - mse: 734.2449\n",
      "Epoch 78/100\n",
      "2/2 [==============================] - 0s 5ms/step - loss: 17.4704 - mse: 463.9640\n",
      "Epoch 79/100\n",
      "2/2 [==============================] - 0s 3ms/step - loss: 14.7072 - mse: 316.4896\n",
      "Epoch 80/100\n",
      "2/2 [==============================] - 0s 5ms/step - loss: 24.8796 - mse: 942.7936\n",
      "Epoch 81/100\n",
      "2/2 [==============================] - 0s 6ms/step - loss: 10.7836 - mse: 136.5644\n",
      "Epoch 82/100\n",
      "2/2 [==============================] - 0s 5ms/step - loss: 12.8235 - mse: 233.8852\n",
      "Epoch 83/100\n",
      "2/2 [==============================] - 0s 5ms/step - loss: 17.6202 - mse: 405.1496\n",
      "Epoch 84/100\n",
      "2/2 [==============================] - 0s 5ms/step - loss: 7.2957 - mse: 73.0930\n",
      "Epoch 85/100\n",
      "2/2 [==============================] - 0s 5ms/step - loss: 15.1119 - mse: 318.7125\n",
      "Epoch 86/100\n"
     ]
    },
    {
     "name": "stdout",
     "output_type": "stream",
     "text": [
      "2/2 [==============================] - 0s 5ms/step - loss: 15.4022 - mse: 318.4391\n",
      "Epoch 87/100\n",
      "2/2 [==============================] - 0s 3ms/step - loss: 19.3426 - mse: 532.0236\n",
      "Epoch 88/100\n",
      "2/2 [==============================] - 0s 5ms/step - loss: 29.2097 - mse: 1231.2147\n",
      "Epoch 89/100\n",
      "2/2 [==============================] - 0s 5ms/step - loss: 10.0808 - mse: 124.0341\n",
      "Epoch 90/100\n",
      "2/2 [==============================] - 0s 4ms/step - loss: 21.0274 - mse: 632.9257\n",
      "Epoch 91/100\n",
      "2/2 [==============================] - 0s 4ms/step - loss: 10.4492 - mse: 163.8430\n",
      "Epoch 92/100\n",
      "2/2 [==============================] - 0s 4ms/step - loss: 17.9567 - mse: 441.0785\n",
      "Epoch 93/100\n",
      "2/2 [==============================] - 0s 4ms/step - loss: 6.5479 - mse: 61.3406\n",
      "Epoch 94/100\n",
      "2/2 [==============================] - 0s 4ms/step - loss: 11.1091 - mse: 152.3876\n",
      "Epoch 95/100\n",
      "2/2 [==============================] - 0s 4ms/step - loss: 24.3554 - mse: 889.5782\n",
      "Epoch 96/100\n",
      "2/2 [==============================] - 0s 5ms/step - loss: 10.7161 - mse: 172.4158\n",
      "Epoch 97/100\n",
      "2/2 [==============================] - 0s 5ms/step - loss: 15.3485 - mse: 357.0646\n",
      "Epoch 98/100\n",
      "2/2 [==============================] - 0s 7ms/step - loss: 8.2364 - mse: 110.8955\n",
      "Epoch 99/100\n",
      "2/2 [==============================] - 0s 8ms/step - loss: 16.5305 - mse: 383.7495\n",
      "Epoch 100/100\n",
      "2/2 [==============================] - 0s 7ms/step - loss: 14.3043 - mse: 295.6261\n"
     ]
    },
    {
     "data": {
      "text/plain": [
       "<keras.callbacks.History at 0x20f375a4a30>"
      ]
     },
     "execution_count": 67,
     "metadata": {},
     "output_type": "execute_result"
    }
   ],
   "source": [
    "# Set the random seed\n",
    "tf.random.set_seed(42)\n",
    "\n",
    "# 1. Create the model\n",
    "model_2 = tf.keras.Sequential([\n",
    "    tf.keras.layers.Dense(10, input_shape=[1], name=\"input_layer\"), # the number of unit (10) here is arbitrary, can be \n",
    "                                                                    #   set to anything\n",
    "    tf.keras.layers.Dense(1)\n",
    "])\n",
    "\n",
    "# 2. Compiling the model\n",
    "model_2.compile(loss=tf.keras.losses.mae,\n",
    "               optimizer= tf.keras.optimizers.SGD(),\n",
    "               metrics=[\"mse\"])\n",
    "\n",
    "# 3. Fit the model\n",
    "model_2.fit(X_train, y_train, epochs=100)"
   ]
  },
  {
   "cell_type": "code",
   "execution_count": 68,
   "id": "66520bba",
   "metadata": {},
   "outputs": [
    {
     "data": {
      "text/plain": [
       "<tf.Tensor: shape=(10,), dtype=int32, numpy=array([60, 64, 68, 72, 76, 80, 84, 88, 92, 96])>"
      ]
     },
     "execution_count": 68,
     "metadata": {},
     "output_type": "execute_result"
    }
   ],
   "source": [
    "X_test"
   ]
  },
  {
   "cell_type": "code",
   "execution_count": 69,
   "id": "dd823c5a",
   "metadata": {},
   "outputs": [
    {
     "name": "stdout",
     "output_type": "stream",
     "text": [
      "1/1 [==============================] - 0s 110ms/step\n"
     ]
    },
    {
     "data": {
      "image/png": "[encoded data removed]",
      "text/plain": [
       "<Figure size 720x504 with 1 Axes>"
      ]
     },
     "metadata": {
      "needs_background": "light"
     },
     "output_type": "display_data"
    }
   ],
   "source": [
    "# Make and plot predictions of model_2\n",
    "y_preds_2 = model_2.predict(X_test)\n",
    "plot_predictions(predictions=y_preds_2) #train_data=X_train,train_labels=y_train,test_data=X_test, test_labels=y_test,"
   ]
  },
  {
   "cell_type": "markdown",
   "id": "da9172b2",
   "metadata": {},
   "source": [
    "Our red dots (predictions) are a lot closer to the green dots (test label). This model is much better than the previous one."
   ]
  },
  {
   "cell_type": "code",
   "execution_count": 70,
   "id": "e546497e",
   "metadata": {},
   "outputs": [
    {
     "data": {
      "text/plain": [
       "(<tf.Tensor: shape=(), dtype=float32, numpy=10.877043>,\n",
       " <tf.Tensor: shape=(), dtype=float32, numpy=126.246925>)"
      ]
     },
     "execution_count": 70,
     "metadata": {},
     "output_type": "execute_result"
    }
   ],
   "source": [
    "# Calculate model_2 evaluation metrics\n",
    "mae_2 = mae(y_test, tf.squeeze(y_preds_2))\n",
    "mse_2 = mse(y_test, tf.squeeze(y_preds_2))\n",
    "\n",
    "mae_2, mse_2"
   ]
  },
  {
   "cell_type": "code",
   "execution_count": 71,
   "id": "c8bdb12d",
   "metadata": {},
   "outputs": [
    {
     "data": {
      "text/plain": [
       "(<tf.Tensor: shape=(), dtype=float32, numpy=14.891912>,\n",
       " <tf.Tensor: shape=(), dtype=float32, numpy=222.6033>)"
      ]
     },
     "execution_count": 71,
     "metadata": {},
     "output_type": "execute_result"
    }
   ],
   "source": [
    "# Let's compare the above metrics with mae_1 & mse_1\n",
    "mae_1, mse_1"
   ]
  },
  {
   "cell_type": "markdown",
   "id": "87641eb8",
   "metadata": {},
   "source": [
    "We can confirm that model_2 is doing much better than model_1"
   ]
  },
  {
   "cell_type": "code",
   "execution_count": null,
   "id": "598ee01d",
   "metadata": {},
   "outputs": [],
   "source": []
  },
  {
   "cell_type": "markdown",
   "id": "3ea78437",
   "metadata": {},
   "source": [
    "**Build `model_3`** - 2 layers, trained for 500 epochs   \n",
    "\n",
    "The only thing we will change here, compared to model_2, is the number of epochs."
   ]
  },
  {
   "cell_type": "code",
   "execution_count": 72,
   "id": "53aed91f",
   "metadata": {},
   "outputs": [
    {
     "name": "stdout",
     "output_type": "stream",
     "text": [
      "Epoch 1/500\n",
      "2/2 [==============================] - 1s 6ms/step - loss: 69.5917 - mae: 69.5917\n",
      "Epoch 2/500\n",
      "2/2 [==============================] - 0s 5ms/step - loss: 34.7992 - mae: 34.7992\n",
      "Epoch 3/500\n",
      "2/2 [==============================] - 0s 3ms/step - loss: 24.9690 - mae: 24.9690\n",
      "Epoch 4/500\n",
      "2/2 [==============================] - 0s 5ms/step - loss: 12.9600 - mae: 12.9600\n",
      "Epoch 5/500\n",
      "2/2 [==============================] - 0s 5ms/step - loss: 16.4789 - mae: 16.4789\n",
      "Epoch 6/500\n",
      "2/2 [==============================] - 0s 3ms/step - loss: 11.2135 - mae: 11.2135\n",
      "Epoch 7/500\n",
      "2/2 [==============================] - 0s 5ms/step - loss: 12.2477 - mae: 12.2477\n",
      "Epoch 8/500\n",
      "2/2 [==============================] - 0s 4ms/step - loss: 10.9625 - mae: 10.9625\n",
      "Epoch 9/500\n",
      "2/2 [==============================] - 0s 4ms/step - loss: 38.3999 - mae: 38.3999\n",
      "Epoch 10/500\n",
      "2/2 [==============================] - 0s 4ms/step - loss: 25.9242 - mae: 25.9242\n",
      "Epoch 11/500\n",
      "2/2 [==============================] - 0s 5ms/step - loss: 10.2653 - mae: 10.2653\n",
      "Epoch 12/500\n",
      "2/2 [==============================] - 0s 5ms/step - loss: 25.2061 - mae: 25.2061\n",
      "Epoch 13/500\n",
      "2/2 [==============================] - 0s 5ms/step - loss: 17.1918 - mae: 17.1918\n",
      "Epoch 14/500\n",
      "2/2 [==============================] - 0s 4ms/step - loss: 26.4550 - mae: 26.4550\n",
      "Epoch 15/500\n",
      "2/2 [==============================] - 0s 7ms/step - loss: 16.9255 - mae: 16.9255\n",
      "Epoch 16/500\n",
      "2/2 [==============================] - 0s 5ms/step - loss: 9.8539 - mae: 9.8539\n",
      "Epoch 17/500\n",
      "2/2 [==============================] - 0s 8ms/step - loss: 17.6544 - mae: 17.6544\n",
      "Epoch 18/500\n",
      "2/2 [==============================] - 0s 6ms/step - loss: 14.1161 - mae: 14.1161\n",
      "Epoch 19/500\n",
      "2/2 [==============================] - 0s 4ms/step - loss: 13.9564 - mae: 13.9564\n",
      "Epoch 20/500\n",
      "2/2 [==============================] - 0s 7ms/step - loss: 11.2198 - mae: 11.2198\n",
      "Epoch 21/500\n",
      "2/2 [==============================] - 0s 4ms/step - loss: 17.2667 - mae: 17.2667\n",
      "Epoch 22/500\n",
      "2/2 [==============================] - 0s 6ms/step - loss: 15.5044 - mae: 15.5044\n",
      "Epoch 23/500\n",
      "2/2 [==============================] - 0s 4ms/step - loss: 9.2596 - mae: 9.2596\n",
      "Epoch 24/500\n",
      "2/2 [==============================] - 0s 5ms/step - loss: 17.2868 - mae: 17.2868\n",
      "Epoch 25/500\n",
      "2/2 [==============================] - 0s 5ms/step - loss: 15.9610 - mae: 15.9610\n",
      "Epoch 26/500\n",
      "2/2 [==============================] - 0s 4ms/step - loss: 20.9680 - mae: 20.9680\n",
      "Epoch 27/500\n",
      "2/2 [==============================] - 0s 4ms/step - loss: 25.8853 - mae: 25.8853\n",
      "Epoch 28/500\n",
      "2/2 [==============================] - 0s 6ms/step - loss: 18.3952 - mae: 18.3952\n",
      "Epoch 29/500\n",
      "2/2 [==============================] - 0s 4ms/step - loss: 9.2588 - mae: 9.2588\n",
      "Epoch 30/500\n",
      "2/2 [==============================] - 0s 4ms/step - loss: 28.9908 - mae: 28.9908\n",
      "Epoch 31/500\n",
      "2/2 [==============================] - 0s 4ms/step - loss: 52.4995 - mae: 52.4995\n",
      "Epoch 32/500\n",
      "2/2 [==============================] - 0s 6ms/step - loss: 11.9071 - mae: 11.9071\n",
      "Epoch 33/500\n",
      "2/2 [==============================] - 0s 4ms/step - loss: 15.4647 - mae: 15.4647\n",
      "Epoch 34/500\n",
      "2/2 [==============================] - 0s 4ms/step - loss: 12.5824 - mae: 12.5824\n",
      "Epoch 35/500\n",
      "2/2 [==============================] - 0s 4ms/step - loss: 9.1984 - mae: 9.1984\n",
      "Epoch 36/500\n",
      "2/2 [==============================] - 0s 3ms/step - loss: 16.4188 - mae: 16.4188\n",
      "Epoch 37/500\n",
      "2/2 [==============================] - 0s 6ms/step - loss: 11.1155 - mae: 11.1155\n",
      "Epoch 38/500\n",
      "2/2 [==============================] - 0s 5ms/step - loss: 18.2463 - mae: 18.2463\n",
      "Epoch 39/500\n",
      "2/2 [==============================] - 0s 5ms/step - loss: 19.1771 - mae: 19.1771\n",
      "Epoch 40/500\n",
      "2/2 [==============================] - 0s 5ms/step - loss: 20.5661 - mae: 20.5661\n",
      "Epoch 41/500\n",
      "2/2 [==============================] - 0s 4ms/step - loss: 14.7659 - mae: 14.7659\n",
      "Epoch 42/500\n",
      "2/2 [==============================] - 0s 5ms/step - loss: 12.1727 - mae: 12.1727\n",
      "Epoch 43/500\n",
      "2/2 [==============================] - 0s 4ms/step - loss: 10.6924 - mae: 10.6924\n",
      "Epoch 44/500\n",
      "2/2 [==============================] - 0s 5ms/step - loss: 32.0792 - mae: 32.0792\n",
      "Epoch 45/500\n",
      "2/2 [==============================] - 0s 5ms/step - loss: 12.4352 - mae: 12.4352\n",
      "Epoch 46/500\n",
      "2/2 [==============================] - 0s 4ms/step - loss: 17.3679 - mae: 17.3679\n",
      "Epoch 47/500\n",
      "2/2 [==============================] - 0s 4ms/step - loss: 15.8219 - mae: 15.8219\n",
      "Epoch 48/500\n",
      "2/2 [==============================] - 0s 4ms/step - loss: 8.4234 - mae: 8.4234\n",
      "Epoch 49/500\n",
      "2/2 [==============================] - 0s 4ms/step - loss: 14.2804 - mae: 14.2804\n",
      "Epoch 50/500\n",
      "2/2 [==============================] - 0s 4ms/step - loss: 15.2088 - mae: 15.2088\n",
      "Epoch 51/500\n",
      "2/2 [==============================] - 0s 5ms/step - loss: 13.7215 - mae: 13.7215\n",
      "Epoch 52/500\n",
      "2/2 [==============================] - 0s 4ms/step - loss: 18.1338 - mae: 18.1338\n",
      "Epoch 53/500\n",
      "2/2 [==============================] - 0s 4ms/step - loss: 22.8156 - mae: 22.8156\n",
      "Epoch 54/500\n",
      "2/2 [==============================] - 0s 6ms/step - loss: 26.6965 - mae: 26.6965\n",
      "Epoch 55/500\n",
      "2/2 [==============================] - 0s 5ms/step - loss: 26.3192 - mae: 26.3192\n",
      "Epoch 56/500\n",
      "2/2 [==============================] - 0s 5ms/step - loss: 11.3411 - mae: 11.3411\n",
      "Epoch 57/500\n",
      "2/2 [==============================] - 0s 4ms/step - loss: 13.3472 - mae: 13.3472\n",
      "Epoch 58/500\n",
      "2/2 [==============================] - 0s 5ms/step - loss: 9.9466 - mae: 9.9466\n",
      "Epoch 59/500\n",
      "2/2 [==============================] - 0s 4ms/step - loss: 13.8719 - mae: 13.8719\n",
      "Epoch 60/500\n",
      "2/2 [==============================] - 0s 4ms/step - loss: 9.9849 - mae: 9.9849\n",
      "Epoch 61/500\n",
      "2/2 [==============================] - 0s 5ms/step - loss: 14.9163 - mae: 14.9163\n",
      "Epoch 62/500\n",
      "2/2 [==============================] - 0s 5ms/step - loss: 11.9007 - mae: 11.9007\n",
      "Epoch 63/500\n",
      "2/2 [==============================] - 0s 4ms/step - loss: 10.2803 - mae: 10.2803\n",
      "Epoch 64/500\n",
      "2/2 [==============================] - 0s 5ms/step - loss: 23.7462 - mae: 23.7462\n",
      "Epoch 65/500\n",
      "2/2 [==============================] - 0s 6ms/step - loss: 10.4537 - mae: 10.4537\n",
      "Epoch 66/500\n",
      "2/2 [==============================] - 0s 5ms/step - loss: 20.8009 - mae: 20.8009\n",
      "Epoch 67/500\n",
      "2/2 [==============================] - 0s 5ms/step - loss: 10.4180 - mae: 10.4180\n",
      "Epoch 68/500\n",
      "2/2 [==============================] - 0s 4ms/step - loss: 14.0790 - mae: 14.0790\n",
      "Epoch 69/500\n",
      "2/2 [==============================] - 0s 5ms/step - loss: 10.4733 - mae: 10.4733\n",
      "Epoch 70/500\n",
      "2/2 [==============================] - 0s 5ms/step - loss: 12.5358 - mae: 12.5358\n",
      "Epoch 71/500\n",
      "2/2 [==============================] - 0s 5ms/step - loss: 12.9599 - mae: 12.9599\n",
      "Epoch 72/500\n",
      "2/2 [==============================] - 0s 5ms/step - loss: 19.1885 - mae: 19.1885\n",
      "Epoch 73/500\n",
      "2/2 [==============================] - 0s 3ms/step - loss: 11.1013 - mae: 11.1013\n",
      "Epoch 74/500\n",
      "2/2 [==============================] - 0s 4ms/step - loss: 21.2341 - mae: 21.2341\n",
      "Epoch 75/500\n",
      "2/2 [==============================] - 0s 5ms/step - loss: 9.4137 - mae: 9.4137\n",
      "Epoch 76/500\n",
      "2/2 [==============================] - 0s 4ms/step - loss: 12.2234 - mae: 12.2234\n",
      "Epoch 77/500\n",
      "2/2 [==============================] - 0s 4ms/step - loss: 16.1506 - mae: 16.1506\n",
      "Epoch 78/500\n",
      "2/2 [==============================] - 0s 4ms/step - loss: 9.0031 - mae: 9.0031\n",
      "Epoch 79/500\n",
      "2/2 [==============================] - 0s 4ms/step - loss: 29.2378 - mae: 29.2378\n",
      "Epoch 80/500\n",
      "2/2 [==============================] - 0s 5ms/step - loss: 31.6636 - mae: 31.6636\n",
      "Epoch 81/500\n",
      "2/2 [==============================] - 0s 4ms/step - loss: 13.9016 - mae: 13.9016\n",
      "Epoch 82/500\n",
      "2/2 [==============================] - 0s 5ms/step - loss: 15.7017 - mae: 15.7017\n",
      "Epoch 83/500\n",
      "2/2 [==============================] - 0s 5ms/step - loss: 11.1894 - mae: 11.1894\n",
      "Epoch 84/500\n",
      "2/2 [==============================] - 0s 5ms/step - loss: 7.3080 - mae: 7.3080\n",
      "Epoch 85/500\n",
      "2/2 [==============================] - 0s 6ms/step - loss: 15.1266 - mae: 15.1266\n",
      "Epoch 86/500\n",
      "2/2 [==============================] - 0s 6ms/step - loss: 15.4160 - mae: 15.4160\n",
      "Epoch 87/500\n"
     ]
    },
    {
     "name": "stdout",
     "output_type": "stream",
     "text": [
      "2/2 [==============================] - 0s 7ms/step - loss: 19.3665 - mae: 19.3665\n",
      "Epoch 88/500\n",
      "2/2 [==============================] - 0s 4ms/step - loss: 29.1531 - mae: 29.1531\n",
      "Epoch 89/500\n",
      "2/2 [==============================] - 0s 6ms/step - loss: 10.0832 - mae: 10.0832\n",
      "Epoch 90/500\n",
      "2/2 [==============================] - 0s 6ms/step - loss: 20.9727 - mae: 20.9727\n",
      "Epoch 91/500\n",
      "2/2 [==============================] - 0s 7ms/step - loss: 10.4455 - mae: 10.4455\n",
      "Epoch 92/500\n",
      "2/2 [==============================] - 0s 5ms/step - loss: 17.9016 - mae: 17.9016\n",
      "Epoch 93/500\n",
      "2/2 [==============================] - 0s 6ms/step - loss: 6.5624 - mae: 6.5624\n",
      "Epoch 94/500\n",
      "2/2 [==============================] - 0s 5ms/step - loss: 11.1003 - mae: 11.1003\n",
      "Epoch 95/500\n",
      "2/2 [==============================] - 0s 5ms/step - loss: 24.2612 - mae: 24.2612\n",
      "Epoch 96/500\n",
      "2/2 [==============================] - 0s 6ms/step - loss: 10.7046 - mae: 10.7046\n",
      "Epoch 97/500\n",
      "2/2 [==============================] - 0s 7ms/step - loss: 15.2858 - mae: 15.2858\n",
      "Epoch 98/500\n",
      "2/2 [==============================] - 0s 5ms/step - loss: 8.2323 - mae: 8.2323\n",
      "Epoch 99/500\n",
      "2/2 [==============================] - 0s 8ms/step - loss: 16.4605 - mae: 16.4605\n",
      "Epoch 100/500\n",
      "2/2 [==============================] - 0s 7ms/step - loss: 14.2538 - mae: 14.2538\n",
      "Epoch 101/500\n",
      "2/2 [==============================] - 0s 8ms/step - loss: 15.2332 - mae: 15.2332\n",
      "Epoch 102/500\n",
      "2/2 [==============================] - 0s 8ms/step - loss: 10.7362 - mae: 10.7362\n",
      "Epoch 103/500\n",
      "2/2 [==============================] - 0s 5ms/step - loss: 9.1679 - mae: 9.1679\n",
      "Epoch 104/500\n",
      "2/2 [==============================] - 0s 5ms/step - loss: 23.7505 - mae: 23.7505\n",
      "Epoch 105/500\n",
      "2/2 [==============================] - 0s 5ms/step - loss: 10.8207 - mae: 10.8207\n",
      "Epoch 106/500\n",
      "2/2 [==============================] - 0s 5ms/step - loss: 11.2766 - mae: 11.2766\n",
      "Epoch 107/500\n",
      "2/2 [==============================] - 0s 4ms/step - loss: 21.3053 - mae: 21.3053\n",
      "Epoch 108/500\n",
      "2/2 [==============================] - 0s 7ms/step - loss: 6.3207 - mae: 6.3207\n",
      "Epoch 109/500\n",
      "2/2 [==============================] - 0s 5ms/step - loss: 10.6083 - mae: 10.6083\n",
      "Epoch 110/500\n",
      "2/2 [==============================] - 0s 4ms/step - loss: 10.5473 - mae: 10.5473\n",
      "Epoch 111/500\n",
      "2/2 [==============================] - 0s 4ms/step - loss: 16.7283 - mae: 16.7283\n",
      "Epoch 112/500\n",
      "2/2 [==============================] - 0s 4ms/step - loss: 9.5250 - mae: 9.5250\n",
      "Epoch 113/500\n",
      "2/2 [==============================] - 0s 6ms/step - loss: 17.6120 - mae: 17.6120\n",
      "Epoch 114/500\n",
      "2/2 [==============================] - 0s 5ms/step - loss: 16.9822 - mae: 16.9822\n",
      "Epoch 115/500\n",
      "2/2 [==============================] - 0s 4ms/step - loss: 11.0624 - mae: 11.0624\n",
      "Epoch 116/500\n",
      "2/2 [==============================] - 0s 5ms/step - loss: 23.0359 - mae: 23.0359\n",
      "Epoch 117/500\n",
      "2/2 [==============================] - 0s 4ms/step - loss: 9.5412 - mae: 9.5412\n",
      "Epoch 118/500\n",
      "2/2 [==============================] - 0s 4ms/step - loss: 10.5994 - mae: 10.5994\n",
      "Epoch 119/500\n",
      "2/2 [==============================] - 0s 5ms/step - loss: 8.0347 - mae: 8.0347\n",
      "Epoch 120/500\n",
      "2/2 [==============================] - 0s 4ms/step - loss: 29.3220 - mae: 29.3220\n",
      "Epoch 121/500\n",
      "2/2 [==============================] - 0s 4ms/step - loss: 8.0726 - mae: 8.0726\n",
      "Epoch 122/500\n",
      "2/2 [==============================] - 0s 4ms/step - loss: 28.0034 - mae: 28.0034\n",
      "Epoch 123/500\n",
      "2/2 [==============================] - 0s 4ms/step - loss: 32.5230 - mae: 32.5230\n",
      "Epoch 124/500\n",
      "2/2 [==============================] - 0s 5ms/step - loss: 19.3489 - mae: 19.3489\n",
      "Epoch 125/500\n",
      "2/2 [==============================] - 0s 3ms/step - loss: 9.5165 - mae: 9.5165\n",
      "Epoch 126/500\n",
      "2/2 [==============================] - 0s 4ms/step - loss: 9.5910 - mae: 9.5910\n",
      "Epoch 127/500\n",
      "2/2 [==============================] - 0s 4ms/step - loss: 12.7093 - mae: 12.7093\n",
      "Epoch 128/500\n",
      "2/2 [==============================] - 0s 4ms/step - loss: 12.8083 - mae: 12.8083\n",
      "Epoch 129/500\n",
      "2/2 [==============================] - 0s 4ms/step - loss: 13.9376 - mae: 13.9376\n",
      "Epoch 130/500\n",
      "2/2 [==============================] - 0s 5ms/step - loss: 10.2320 - mae: 10.2320\n",
      "Epoch 131/500\n",
      "2/2 [==============================] - 0s 4ms/step - loss: 21.6972 - mae: 21.6972\n",
      "Epoch 132/500\n",
      "2/2 [==============================] - 0s 5ms/step - loss: 8.2749 - mae: 8.2749\n",
      "Epoch 133/500\n",
      "2/2 [==============================] - 0s 3ms/step - loss: 9.0558 - mae: 9.0558\n",
      "Epoch 134/500\n",
      "2/2 [==============================] - 0s 4ms/step - loss: 16.8953 - mae: 16.8953\n",
      "Epoch 135/500\n",
      "2/2 [==============================] - 0s 5ms/step - loss: 10.6496 - mae: 10.6496\n",
      "Epoch 136/500\n",
      "2/2 [==============================] - 0s 3ms/step - loss: 18.5049 - mae: 18.5049\n",
      "Epoch 137/500\n",
      "2/2 [==============================] - 0s 4ms/step - loss: 23.4912 - mae: 23.4912\n",
      "Epoch 138/500\n",
      "2/2 [==============================] - 0s 4ms/step - loss: 9.2734 - mae: 9.2734\n",
      "Epoch 139/500\n",
      "2/2 [==============================] - 0s 4ms/step - loss: 9.0074 - mae: 9.0074\n",
      "Epoch 140/500\n",
      "2/2 [==============================] - 0s 3ms/step - loss: 16.9579 - mae: 16.9579\n",
      "Epoch 141/500\n",
      "2/2 [==============================] - 0s 4ms/step - loss: 8.3173 - mae: 8.3173\n",
      "Epoch 142/500\n",
      "2/2 [==============================] - 0s 3ms/step - loss: 34.0242 - mae: 34.0242\n",
      "Epoch 143/500\n",
      "2/2 [==============================] - 0s 4ms/step - loss: 23.0834 - mae: 23.0834\n",
      "Epoch 144/500\n",
      "2/2 [==============================] - 0s 4ms/step - loss: 11.3336 - mae: 11.3336\n",
      "Epoch 145/500\n",
      "2/2 [==============================] - 0s 4ms/step - loss: 25.0381 - mae: 25.0381\n",
      "Epoch 146/500\n",
      "2/2 [==============================] - 0s 4ms/step - loss: 11.1440 - mae: 11.1440\n",
      "Epoch 147/500\n",
      "2/2 [==============================] - 0s 4ms/step - loss: 14.0863 - mae: 14.0863\n",
      "Epoch 148/500\n",
      "2/2 [==============================] - 0s 3ms/step - loss: 16.9375 - mae: 16.9375\n",
      "Epoch 149/500\n",
      "2/2 [==============================] - 0s 4ms/step - loss: 9.2446 - mae: 9.2446\n",
      "Epoch 150/500\n",
      "2/2 [==============================] - 0s 4ms/step - loss: 7.9336 - mae: 7.9336\n",
      "Epoch 151/500\n",
      "2/2 [==============================] - 0s 4ms/step - loss: 16.4865 - mae: 16.4865\n",
      "Epoch 152/500\n",
      "2/2 [==============================] - 0s 4ms/step - loss: 9.7923 - mae: 9.7923\n",
      "Epoch 153/500\n",
      "2/2 [==============================] - 0s 4ms/step - loss: 26.8156 - mae: 26.8156\n",
      "Epoch 154/500\n",
      "2/2 [==============================] - 0s 3ms/step - loss: 11.9255 - mae: 11.9255\n",
      "Epoch 155/500\n",
      "2/2 [==============================] - 0s 5ms/step - loss: 15.2903 - mae: 15.2903\n",
      "Epoch 156/500\n",
      "2/2 [==============================] - 0s 3ms/step - loss: 16.6673 - mae: 16.6673\n",
      "Epoch 157/500\n",
      "2/2 [==============================] - 0s 5ms/step - loss: 19.2503 - mae: 19.2503\n",
      "Epoch 158/500\n",
      "2/2 [==============================] - 0s 4ms/step - loss: 8.2467 - mae: 8.2467\n",
      "Epoch 159/500\n",
      "2/2 [==============================] - 0s 5ms/step - loss: 7.9863 - mae: 7.9863\n",
      "Epoch 160/500\n",
      "2/2 [==============================] - 0s 5ms/step - loss: 20.9749 - mae: 20.9749\n",
      "Epoch 161/500\n",
      "2/2 [==============================] - 0s 5ms/step - loss: 23.7491 - mae: 23.7491\n",
      "Epoch 162/500\n",
      "2/2 [==============================] - 0s 4ms/step - loss: 18.6749 - mae: 18.6749\n",
      "Epoch 163/500\n",
      "2/2 [==============================] - 0s 4ms/step - loss: 17.6285 - mae: 17.6285\n",
      "Epoch 164/500\n",
      "2/2 [==============================] - 0s 3ms/step - loss: 11.0534 - mae: 11.0534\n",
      "Epoch 165/500\n",
      "2/2 [==============================] - 0s 5ms/step - loss: 9.6191 - mae: 9.6191\n",
      "Epoch 166/500\n",
      "2/2 [==============================] - 0s 5ms/step - loss: 21.5783 - mae: 21.5783\n",
      "Epoch 167/500\n",
      "2/2 [==============================] - 0s 5ms/step - loss: 26.3238 - mae: 26.3238\n",
      "Epoch 168/500\n",
      "2/2 [==============================] - 0s 4ms/step - loss: 9.8749 - mae: 9.8749\n",
      "Epoch 169/500\n",
      "2/2 [==============================] - 0s 4ms/step - loss: 22.5887 - mae: 22.5887\n",
      "Epoch 170/500\n",
      "2/2 [==============================] - 0s 4ms/step - loss: 10.1536 - mae: 10.1536\n",
      "Epoch 171/500\n",
      "2/2 [==============================] - 0s 3ms/step - loss: 18.0405 - mae: 18.0405\n",
      "Epoch 172/500\n",
      "2/2 [==============================] - 0s 3ms/step - loss: 28.8542 - mae: 28.8542\n",
      "Epoch 173/500\n"
     ]
    },
    {
     "name": "stdout",
     "output_type": "stream",
     "text": [
      "2/2 [==============================] - 0s 3ms/step - loss: 16.5457 - mae: 16.5457\n",
      "Epoch 174/500\n",
      "2/2 [==============================] - 0s 4ms/step - loss: 11.2171 - mae: 11.2171\n",
      "Epoch 175/500\n",
      "2/2 [==============================] - 0s 4ms/step - loss: 27.5817 - mae: 27.5817\n",
      "Epoch 176/500\n",
      "2/2 [==============================] - 0s 3ms/step - loss: 8.2851 - mae: 8.2851\n",
      "Epoch 177/500\n",
      "2/2 [==============================] - 0s 6ms/step - loss: 9.2746 - mae: 9.2746\n",
      "Epoch 178/500\n",
      "2/2 [==============================] - 0s 4ms/step - loss: 18.1464 - mae: 18.1464\n",
      "Epoch 179/500\n",
      "2/2 [==============================] - 0s 6ms/step - loss: 10.6033 - mae: 10.6033\n",
      "Epoch 180/500\n",
      "2/2 [==============================] - 0s 5ms/step - loss: 7.9126 - mae: 7.9126\n",
      "Epoch 181/500\n",
      "2/2 [==============================] - 0s 3ms/step - loss: 17.3951 - mae: 17.3951\n",
      "Epoch 182/500\n",
      "2/2 [==============================] - 0s 5ms/step - loss: 11.0190 - mae: 11.0190\n",
      "Epoch 183/500\n",
      "2/2 [==============================] - 0s 4ms/step - loss: 11.7013 - mae: 11.7013\n",
      "Epoch 184/500\n",
      "2/2 [==============================] - 0s 4ms/step - loss: 30.3763 - mae: 30.3763\n",
      "Epoch 185/500\n",
      "2/2 [==============================] - 0s 5ms/step - loss: 8.1813 - mae: 8.1813\n",
      "Epoch 186/500\n",
      "2/2 [==============================] - 0s 3ms/step - loss: 22.6868 - mae: 22.6868\n",
      "Epoch 187/500\n",
      "2/2 [==============================] - 0s 5ms/step - loss: 19.2525 - mae: 19.2525\n",
      "Epoch 188/500\n",
      "2/2 [==============================] - 0s 3ms/step - loss: 13.6742 - mae: 13.6742\n",
      "Epoch 189/500\n",
      "2/2 [==============================] - 0s 4ms/step - loss: 15.0637 - mae: 15.0637\n",
      "Epoch 190/500\n",
      "2/2 [==============================] - 0s 3ms/step - loss: 20.6027 - mae: 20.6027\n",
      "Epoch 191/500\n",
      "2/2 [==============================] - 0s 5ms/step - loss: 22.2631 - mae: 22.2631\n",
      "Epoch 192/500\n",
      "2/2 [==============================] - 0s 3ms/step - loss: 10.0332 - mae: 10.0332\n",
      "Epoch 193/500\n",
      "2/2 [==============================] - 0s 5ms/step - loss: 28.6092 - mae: 28.6092\n",
      "Epoch 194/500\n",
      "2/2 [==============================] - 0s 4ms/step - loss: 7.0732 - mae: 7.0732\n",
      "Epoch 195/500\n",
      "2/2 [==============================] - 0s 4ms/step - loss: 7.8074 - mae: 7.8074\n",
      "Epoch 196/500\n",
      "2/2 [==============================] - 0s 4ms/step - loss: 26.0437 - mae: 26.0437\n",
      "Epoch 197/500\n",
      "2/2 [==============================] - 0s 3ms/step - loss: 11.5884 - mae: 11.5884\n",
      "Epoch 198/500\n",
      "2/2 [==============================] - 0s 4ms/step - loss: 18.8886 - mae: 18.8886\n",
      "Epoch 199/500\n",
      "2/2 [==============================] - 0s 5ms/step - loss: 16.6881 - mae: 16.6881\n",
      "Epoch 200/500\n",
      "2/2 [==============================] - 0s 5ms/step - loss: 12.3805 - mae: 12.3805\n",
      "Epoch 201/500\n",
      "2/2 [==============================] - 0s 6ms/step - loss: 7.1259 - mae: 7.1259\n",
      "Epoch 202/500\n",
      "2/2 [==============================] - 0s 4ms/step - loss: 22.9035 - mae: 22.9035\n",
      "Epoch 203/500\n",
      "2/2 [==============================] - 0s 4ms/step - loss: 9.0067 - mae: 9.0067\n",
      "Epoch 204/500\n",
      "2/2 [==============================] - 0s 4ms/step - loss: 18.8523 - mae: 18.8523\n",
      "Epoch 205/500\n",
      "2/2 [==============================] - 0s 3ms/step - loss: 9.4048 - mae: 9.4048\n",
      "Epoch 206/500\n",
      "2/2 [==============================] - 0s 4ms/step - loss: 10.4667 - mae: 10.4667\n",
      "Epoch 207/500\n",
      "2/2 [==============================] - 0s 5ms/step - loss: 21.0729 - mae: 21.0729\n",
      "Epoch 208/500\n",
      "2/2 [==============================] - 0s 4ms/step - loss: 16.4708 - mae: 16.4708\n",
      "Epoch 209/500\n",
      "2/2 [==============================] - 0s 5ms/step - loss: 14.3496 - mae: 14.3496\n",
      "Epoch 210/500\n",
      "2/2 [==============================] - 0s 4ms/step - loss: 17.3148 - mae: 17.3148\n",
      "Epoch 211/500\n",
      "2/2 [==============================] - 0s 4ms/step - loss: 10.2785 - mae: 10.2785\n",
      "Epoch 212/500\n",
      "2/2 [==============================] - 0s 5ms/step - loss: 19.8048 - mae: 19.8048\n",
      "Epoch 213/500\n",
      "2/2 [==============================] - 0s 3ms/step - loss: 14.6615 - mae: 14.6615\n",
      "Epoch 214/500\n",
      "2/2 [==============================] - 0s 3ms/step - loss: 14.3494 - mae: 14.3494\n",
      "Epoch 215/500\n",
      "2/2 [==============================] - 0s 4ms/step - loss: 22.8033 - mae: 22.8033\n",
      "Epoch 216/500\n",
      "2/2 [==============================] - 0s 4ms/step - loss: 14.5209 - mae: 14.5209\n",
      "Epoch 217/500\n",
      "2/2 [==============================] - 0s 3ms/step - loss: 9.2545 - mae: 9.2545\n",
      "Epoch 218/500\n",
      "2/2 [==============================] - 0s 5ms/step - loss: 11.8475 - mae: 11.8475\n",
      "Epoch 219/500\n",
      "2/2 [==============================] - 0s 5ms/step - loss: 6.8294 - mae: 6.8294\n",
      "Epoch 220/500\n",
      "2/2 [==============================] - 0s 4ms/step - loss: 7.1290 - mae: 7.1290\n",
      "Epoch 221/500\n",
      "2/2 [==============================] - 0s 5ms/step - loss: 38.6178 - mae: 38.6178\n",
      "Epoch 222/500\n",
      "2/2 [==============================] - 0s 5ms/step - loss: 38.6675 - mae: 38.6675\n",
      "Epoch 223/500\n",
      "2/2 [==============================] - 0s 4ms/step - loss: 5.0804 - mae: 5.0804\n",
      "Epoch 224/500\n",
      "2/2 [==============================] - 0s 4ms/step - loss: 11.2524 - mae: 11.2524\n",
      "Epoch 225/500\n",
      "2/2 [==============================] - 0s 5ms/step - loss: 31.0968 - mae: 31.0968\n",
      "Epoch 226/500\n",
      "2/2 [==============================] - 0s 4ms/step - loss: 12.2792 - mae: 12.2792\n",
      "Epoch 227/500\n",
      "2/2 [==============================] - 0s 4ms/step - loss: 19.2421 - mae: 19.2421\n",
      "Epoch 228/500\n",
      "2/2 [==============================] - 0s 4ms/step - loss: 11.2973 - mae: 11.2973\n",
      "Epoch 229/500\n",
      "2/2 [==============================] - 0s 4ms/step - loss: 13.7266 - mae: 13.7266\n",
      "Epoch 230/500\n",
      "2/2 [==============================] - 0s 3ms/step - loss: 9.6063 - mae: 9.6063\n",
      "Epoch 231/500\n",
      "2/2 [==============================] - 0s 4ms/step - loss: 19.2501 - mae: 19.2501\n",
      "Epoch 232/500\n",
      "2/2 [==============================] - 0s 4ms/step - loss: 15.8122 - mae: 15.8122\n",
      "Epoch 233/500\n",
      "2/2 [==============================] - 0s 3ms/step - loss: 11.3094 - mae: 11.3094\n",
      "Epoch 234/500\n",
      "2/2 [==============================] - 0s 4ms/step - loss: 11.5274 - mae: 11.5274\n",
      "Epoch 235/500\n",
      "2/2 [==============================] - 0s 4ms/step - loss: 8.5912 - mae: 8.5912\n",
      "Epoch 236/500\n",
      "2/2 [==============================] - 0s 3ms/step - loss: 10.0769 - mae: 10.0769\n",
      "Epoch 237/500\n",
      "2/2 [==============================] - 0s 6ms/step - loss: 7.9423 - mae: 7.9423\n",
      "Epoch 238/500\n",
      "2/2 [==============================] - 0s 4ms/step - loss: 7.4217 - mae: 7.4217\n",
      "Epoch 239/500\n",
      "2/2 [==============================] - 0s 4ms/step - loss: 14.0638 - mae: 14.0638\n",
      "Epoch 240/500\n",
      "2/2 [==============================] - 0s 4ms/step - loss: 9.1768 - mae: 9.1768\n",
      "Epoch 241/500\n",
      "2/2 [==============================] - 0s 4ms/step - loss: 13.6550 - mae: 13.6550\n",
      "Epoch 242/500\n",
      "2/2 [==============================] - 0s 5ms/step - loss: 9.0287 - mae: 9.0287\n",
      "Epoch 243/500\n",
      "2/2 [==============================] - 0s 4ms/step - loss: 19.6002 - mae: 19.6002\n",
      "Epoch 244/500\n",
      "2/2 [==============================] - 0s 4ms/step - loss: 14.3932 - mae: 14.3932\n",
      "Epoch 245/500\n",
      "2/2 [==============================] - 0s 5ms/step - loss: 14.9796 - mae: 14.9796\n",
      "Epoch 246/500\n",
      "2/2 [==============================] - 0s 4ms/step - loss: 16.0897 - mae: 16.0897\n",
      "Epoch 247/500\n",
      "2/2 [==============================] - 0s 4ms/step - loss: 18.0576 - mae: 18.0576\n",
      "Epoch 248/500\n",
      "2/2 [==============================] - 0s 5ms/step - loss: 13.5944 - mae: 13.5944\n",
      "Epoch 249/500\n",
      "2/2 [==============================] - 0s 4ms/step - loss: 14.7361 - mae: 14.7361\n",
      "Epoch 250/500\n",
      "2/2 [==============================] - 0s 4ms/step - loss: 23.6563 - mae: 23.6563\n",
      "Epoch 251/500\n",
      "2/2 [==============================] - 0s 4ms/step - loss: 13.7918 - mae: 13.7918\n",
      "Epoch 252/500\n",
      "2/2 [==============================] - 0s 5ms/step - loss: 22.9080 - mae: 22.9080\n",
      "Epoch 253/500\n",
      "2/2 [==============================] - 0s 5ms/step - loss: 10.4107 - mae: 10.4107\n",
      "Epoch 254/500\n",
      "2/2 [==============================] - 0s 5ms/step - loss: 12.3369 - mae: 12.3369\n",
      "Epoch 255/500\n",
      "2/2 [==============================] - 0s 4ms/step - loss: 16.7330 - mae: 16.7330\n",
      "Epoch 256/500\n",
      "2/2 [==============================] - 0s 5ms/step - loss: 9.4038 - mae: 9.4038\n",
      "Epoch 257/500\n",
      "2/2 [==============================] - 0s 5ms/step - loss: 13.2404 - mae: 13.2404\n",
      "Epoch 258/500\n"
     ]
    },
    {
     "name": "stdout",
     "output_type": "stream",
     "text": [
      "2/2 [==============================] - 0s 4ms/step - loss: 7.4889 - mae: 7.4889\n",
      "Epoch 259/500\n",
      "2/2 [==============================] - 0s 4ms/step - loss: 18.3773 - mae: 18.3773\n",
      "Epoch 260/500\n",
      "2/2 [==============================] - 0s 4ms/step - loss: 25.8954 - mae: 25.8954\n",
      "Epoch 261/500\n",
      "2/2 [==============================] - 0s 4ms/step - loss: 9.4921 - mae: 9.4921\n",
      "Epoch 262/500\n",
      "2/2 [==============================] - 0s 4ms/step - loss: 8.5821 - mae: 8.5821\n",
      "Epoch 263/500\n",
      "2/2 [==============================] - 0s 4ms/step - loss: 8.0836 - mae: 8.0836\n",
      "Epoch 264/500\n",
      "2/2 [==============================] - 0s 5ms/step - loss: 17.8882 - mae: 17.8882\n",
      "Epoch 265/500\n",
      "2/2 [==============================] - 0s 5ms/step - loss: 12.2507 - mae: 12.2507\n",
      "Epoch 266/500\n",
      "2/2 [==============================] - 0s 5ms/step - loss: 13.6306 - mae: 13.6306\n",
      "Epoch 267/500\n",
      "2/2 [==============================] - 0s 8ms/step - loss: 11.2659 - mae: 11.2659\n",
      "Epoch 268/500\n",
      "2/2 [==============================] - 0s 5ms/step - loss: 19.5877 - mae: 19.5877\n",
      "Epoch 269/500\n",
      "2/2 [==============================] - 0s 6ms/step - loss: 39.3812 - mae: 39.3812\n",
      "Epoch 270/500\n",
      "2/2 [==============================] - 0s 5ms/step - loss: 12.0730 - mae: 12.0730\n",
      "Epoch 271/500\n",
      "2/2 [==============================] - 0s 5ms/step - loss: 14.1511 - mae: 14.1511\n",
      "Epoch 272/500\n",
      "2/2 [==============================] - 0s 4ms/step - loss: 28.0125 - mae: 28.0125\n",
      "Epoch 273/500\n",
      "2/2 [==============================] - 0s 4ms/step - loss: 7.9863 - mae: 7.9863\n",
      "Epoch 274/500\n",
      "2/2 [==============================] - 0s 3ms/step - loss: 6.4519 - mae: 6.4519\n",
      "Epoch 275/500\n",
      "2/2 [==============================] - 0s 4ms/step - loss: 33.7263 - mae: 33.7263\n",
      "Epoch 276/500\n",
      "2/2 [==============================] - 0s 5ms/step - loss: 7.9648 - mae: 7.9648\n",
      "Epoch 277/500\n",
      "2/2 [==============================] - 0s 6ms/step - loss: 25.0830 - mae: 25.0830\n",
      "Epoch 278/500\n",
      "2/2 [==============================] - 0s 4ms/step - loss: 11.5721 - mae: 11.5721\n",
      "Epoch 279/500\n",
      "2/2 [==============================] - 0s 4ms/step - loss: 16.2994 - mae: 16.2994\n",
      "Epoch 280/500\n",
      "2/2 [==============================] - 0s 4ms/step - loss: 21.6439 - mae: 21.6439\n",
      "Epoch 281/500\n",
      "2/2 [==============================] - 0s 3ms/step - loss: 22.8227 - mae: 22.8227\n",
      "Epoch 282/500\n",
      "2/2 [==============================] - 0s 4ms/step - loss: 7.9937 - mae: 7.9937\n",
      "Epoch 283/500\n",
      "2/2 [==============================] - 0s 4ms/step - loss: 8.3003 - mae: 8.3003\n",
      "Epoch 284/500\n",
      "2/2 [==============================] - 0s 6ms/step - loss: 25.5614 - mae: 25.5614\n",
      "Epoch 285/500\n",
      "2/2 [==============================] - 0s 4ms/step - loss: 14.1710 - mae: 14.1710\n",
      "Epoch 286/500\n",
      "2/2 [==============================] - 0s 5ms/step - loss: 6.0311 - mae: 6.0311\n",
      "Epoch 287/500\n",
      "2/2 [==============================] - 0s 5ms/step - loss: 18.9972 - mae: 18.9972\n",
      "Epoch 288/500\n",
      "2/2 [==============================] - 0s 5ms/step - loss: 32.8836 - mae: 32.8836\n",
      "Epoch 289/500\n",
      "2/2 [==============================] - 0s 5ms/step - loss: 8.3915 - mae: 8.3915\n",
      "Epoch 290/500\n",
      "2/2 [==============================] - 0s 5ms/step - loss: 16.8807 - mae: 16.8807\n",
      "Epoch 291/500\n",
      "2/2 [==============================] - 0s 4ms/step - loss: 17.2537 - mae: 17.2537\n",
      "Epoch 292/500\n",
      "2/2 [==============================] - 0s 5ms/step - loss: 10.8989 - mae: 10.8989\n",
      "Epoch 293/500\n",
      "2/2 [==============================] - 0s 4ms/step - loss: 14.5851 - mae: 14.5851\n",
      "Epoch 294/500\n",
      "2/2 [==============================] - 0s 4ms/step - loss: 21.8209 - mae: 21.8209\n",
      "Epoch 295/500\n",
      "2/2 [==============================] - 0s 4ms/step - loss: 19.9464 - mae: 19.9464\n",
      "Epoch 296/500\n",
      "2/2 [==============================] - 0s 4ms/step - loss: 7.0128 - mae: 7.0128\n",
      "Epoch 297/500\n",
      "2/2 [==============================] - 0s 4ms/step - loss: 9.0260 - mae: 9.0260\n",
      "Epoch 298/500\n",
      "2/2 [==============================] - 0s 5ms/step - loss: 24.2792 - mae: 24.2792\n",
      "Epoch 299/500\n",
      "2/2 [==============================] - 0s 3ms/step - loss: 17.8272 - mae: 17.8272\n",
      "Epoch 300/500\n",
      "2/2 [==============================] - 0s 8ms/step - loss: 7.0307 - mae: 7.0307\n",
      "Epoch 301/500\n",
      "2/2 [==============================] - 0s 7ms/step - loss: 25.2995 - mae: 25.2995\n",
      "Epoch 302/500\n",
      "2/2 [==============================] - 0s 7ms/step - loss: 9.4492 - mae: 9.4492\n",
      "Epoch 303/500\n",
      "2/2 [==============================] - 0s 9ms/step - loss: 14.3944 - mae: 14.3944\n",
      "Epoch 304/500\n",
      "2/2 [==============================] - 0s 7ms/step - loss: 10.8327 - mae: 10.8327\n",
      "Epoch 305/500\n",
      "2/2 [==============================] - 0s 6ms/step - loss: 12.6191 - mae: 12.6191\n",
      "Epoch 306/500\n",
      "2/2 [==============================] - 0s 6ms/step - loss: 8.2755 - mae: 8.2755\n",
      "Epoch 307/500\n",
      "2/2 [==============================] - 0s 7ms/step - loss: 13.0591 - mae: 13.0591\n",
      "Epoch 308/500\n",
      "2/2 [==============================] - 0s 5ms/step - loss: 8.1343 - mae: 8.1343\n",
      "Epoch 309/500\n",
      "2/2 [==============================] - 0s 4ms/step - loss: 11.6972 - mae: 11.6972\n",
      "Epoch 310/500\n",
      "2/2 [==============================] - 0s 5ms/step - loss: 6.3353 - mae: 6.3353\n",
      "Epoch 311/500\n",
      "2/2 [==============================] - 0s 4ms/step - loss: 4.9864 - mae: 4.9864\n",
      "Epoch 312/500\n",
      "2/2 [==============================] - 0s 5ms/step - loss: 29.3137 - mae: 29.3137\n",
      "Epoch 313/500\n",
      "2/2 [==============================] - 0s 4ms/step - loss: 8.9275 - mae: 8.9275\n",
      "Epoch 314/500\n",
      "2/2 [==============================] - 0s 6ms/step - loss: 6.5196 - mae: 6.5196\n",
      "Epoch 315/500\n",
      "2/2 [==============================] - 0s 5ms/step - loss: 23.9500 - mae: 23.9500\n",
      "Epoch 316/500\n",
      "2/2 [==============================] - 0s 5ms/step - loss: 16.1710 - mae: 16.1710\n",
      "Epoch 317/500\n",
      "2/2 [==============================] - 0s 4ms/step - loss: 20.6571 - mae: 20.6571\n",
      "Epoch 318/500\n",
      "2/2 [==============================] - 0s 5ms/step - loss: 8.7077 - mae: 8.7077\n",
      "Epoch 319/500\n",
      "2/2 [==============================] - 0s 5ms/step - loss: 15.2667 - mae: 15.2667\n",
      "Epoch 320/500\n",
      "2/2 [==============================] - 0s 4ms/step - loss: 8.3339 - mae: 8.3339\n",
      "Epoch 321/500\n",
      "2/2 [==============================] - 0s 4ms/step - loss: 14.6876 - mae: 14.6876\n",
      "Epoch 322/500\n",
      "2/2 [==============================] - 0s 6ms/step - loss: 12.8060 - mae: 12.8060\n",
      "Epoch 323/500\n",
      "2/2 [==============================] - 0s 5ms/step - loss: 19.0753 - mae: 19.0753\n",
      "Epoch 324/500\n",
      "2/2 [==============================] - 0s 4ms/step - loss: 17.0556 - mae: 17.0556\n",
      "Epoch 325/500\n",
      "2/2 [==============================] - 0s 5ms/step - loss: 9.2841 - mae: 9.2841\n",
      "Epoch 326/500\n",
      "2/2 [==============================] - 0s 4ms/step - loss: 19.9086 - mae: 19.9086\n",
      "Epoch 327/500\n",
      "2/2 [==============================] - 0s 5ms/step - loss: 28.1567 - mae: 28.1567\n",
      "Epoch 328/500\n",
      "2/2 [==============================] - 0s 5ms/step - loss: 11.6957 - mae: 11.6957\n",
      "Epoch 329/500\n",
      "2/2 [==============================] - 0s 6ms/step - loss: 16.3645 - mae: 16.3645\n",
      "Epoch 330/500\n",
      "2/2 [==============================] - 0s 5ms/step - loss: 7.3098 - mae: 7.3098\n",
      "Epoch 331/500\n",
      "2/2 [==============================] - 0s 5ms/step - loss: 22.6122 - mae: 22.6122\n",
      "Epoch 332/500\n",
      "2/2 [==============================] - 0s 5ms/step - loss: 13.3649 - mae: 13.3649\n",
      "Epoch 333/500\n",
      "2/2 [==============================] - 0s 4ms/step - loss: 10.1798 - mae: 10.1798\n",
      "Epoch 334/500\n",
      "2/2 [==============================] - 0s 6ms/step - loss: 6.6196 - mae: 6.6196\n",
      "Epoch 335/500\n",
      "2/2 [==============================] - 0s 7ms/step - loss: 6.2492 - mae: 6.2492\n",
      "Epoch 336/500\n",
      "2/2 [==============================] - 0s 5ms/step - loss: 34.5911 - mae: 34.5911\n",
      "Epoch 337/500\n",
      "2/2 [==============================] - 0s 3ms/step - loss: 27.0081 - mae: 27.0081\n",
      "Epoch 338/500\n",
      "2/2 [==============================] - 0s 3ms/step - loss: 14.0254 - mae: 14.0254\n",
      "Epoch 339/500\n",
      "2/2 [==============================] - 0s 4ms/step - loss: 11.5761 - mae: 11.5761\n",
      "Epoch 340/500\n",
      "2/2 [==============================] - 0s 4ms/step - loss: 8.8101 - mae: 8.8101\n",
      "Epoch 341/500\n",
      "2/2 [==============================] - 0s 4ms/step - loss: 23.4341 - mae: 23.4341\n",
      "Epoch 342/500\n",
      "2/2 [==============================] - 0s 5ms/step - loss: 13.9550 - mae: 13.9550\n",
      "Epoch 343/500\n",
      "2/2 [==============================] - 0s 5ms/step - loss: 14.8019 - mae: 14.8019\n",
      "Epoch 344/500\n"
     ]
    },
    {
     "name": "stdout",
     "output_type": "stream",
     "text": [
      "2/2 [==============================] - 0s 6ms/step - loss: 13.3738 - mae: 13.3738\n",
      "Epoch 345/500\n",
      "2/2 [==============================] - 0s 6ms/step - loss: 31.0088 - mae: 31.0088\n",
      "Epoch 346/500\n",
      "2/2 [==============================] - 0s 7ms/step - loss: 10.6878 - mae: 10.6878\n",
      "Epoch 347/500\n",
      "2/2 [==============================] - 0s 5ms/step - loss: 25.7006 - mae: 25.7006\n",
      "Epoch 348/500\n",
      "2/2 [==============================] - 0s 6ms/step - loss: 12.9483 - mae: 12.9483\n",
      "Epoch 349/500\n",
      "2/2 [==============================] - 0s 6ms/step - loss: 13.1330 - mae: 13.1330\n",
      "Epoch 350/500\n",
      "2/2 [==============================] - 0s 5ms/step - loss: 15.4260 - mae: 15.4260\n",
      "Epoch 351/500\n",
      "2/2 [==============================] - 0s 5ms/step - loss: 32.9459 - mae: 32.9459\n",
      "Epoch 352/500\n",
      "2/2 [==============================] - 0s 4ms/step - loss: 14.1763 - mae: 14.1763\n",
      "Epoch 353/500\n",
      "2/2 [==============================] - 0s 4ms/step - loss: 15.8982 - mae: 15.8982\n",
      "Epoch 354/500\n",
      "2/2 [==============================] - 0s 5ms/step - loss: 19.0426 - mae: 19.0426\n",
      "Epoch 355/500\n",
      "2/2 [==============================] - 0s 4ms/step - loss: 34.2467 - mae: 34.2467\n",
      "Epoch 356/500\n",
      "2/2 [==============================] - 0s 4ms/step - loss: 8.2730 - mae: 8.2730\n",
      "Epoch 357/500\n",
      "2/2 [==============================] - 0s 4ms/step - loss: 21.7930 - mae: 21.7930\n",
      "Epoch 358/500\n",
      "2/2 [==============================] - 0s 4ms/step - loss: 19.9201 - mae: 19.9201\n",
      "Epoch 359/500\n",
      "2/2 [==============================] - 0s 5ms/step - loss: 11.0608 - mae: 11.0608\n",
      "Epoch 360/500\n",
      "2/2 [==============================] - 0s 4ms/step - loss: 20.3086 - mae: 20.3086\n",
      "Epoch 361/500\n",
      "2/2 [==============================] - 0s 4ms/step - loss: 10.9485 - mae: 10.9485\n",
      "Epoch 362/500\n",
      "2/2 [==============================] - 0s 5ms/step - loss: 6.7973 - mae: 6.7973\n",
      "Epoch 363/500\n",
      "2/2 [==============================] - 0s 3ms/step - loss: 23.9180 - mae: 23.9180\n",
      "Epoch 364/500\n",
      "2/2 [==============================] - 0s 4ms/step - loss: 29.6515 - mae: 29.6515\n",
      "Epoch 365/500\n",
      "2/2 [==============================] - 0s 4ms/step - loss: 8.3028 - mae: 8.3028\n",
      "Epoch 366/500\n",
      "2/2 [==============================] - 0s 5ms/step - loss: 6.0795 - mae: 6.0795\n",
      "Epoch 367/500\n",
      "2/2 [==============================] - 0s 4ms/step - loss: 34.8015 - mae: 34.8015\n",
      "Epoch 368/500\n",
      "2/2 [==============================] - 0s 5ms/step - loss: 7.3696 - mae: 7.3696\n",
      "Epoch 369/500\n",
      "2/2 [==============================] - 0s 5ms/step - loss: 9.1849 - mae: 9.1849\n",
      "Epoch 370/500\n",
      "2/2 [==============================] - 0s 5ms/step - loss: 10.8877 - mae: 10.8877\n",
      "Epoch 371/500\n",
      "2/2 [==============================] - 0s 9ms/step - loss: 8.9521 - mae: 8.9521\n",
      "Epoch 372/500\n",
      "2/2 [==============================] - 0s 4ms/step - loss: 7.6912 - mae: 7.6912\n",
      "Epoch 373/500\n",
      "2/2 [==============================] - 0s 7ms/step - loss: 25.0727 - mae: 25.0727\n",
      "Epoch 374/500\n",
      "2/2 [==============================] - 0s 7ms/step - loss: 13.1870 - mae: 13.1870\n",
      "Epoch 375/500\n",
      "2/2 [==============================] - 0s 7ms/step - loss: 11.8629 - mae: 11.8629\n",
      "Epoch 376/500\n",
      "2/2 [==============================] - 0s 8ms/step - loss: 14.1432 - mae: 14.1432\n",
      "Epoch 377/500\n",
      "2/2 [==============================] - 0s 12ms/step - loss: 15.7213 - mae: 15.7213\n",
      "Epoch 378/500\n",
      "2/2 [==============================] - 0s 27ms/step - loss: 17.0502 - mae: 17.0502\n",
      "Epoch 379/500\n",
      "2/2 [==============================] - 0s 6ms/step - loss: 19.3727 - mae: 19.3727\n",
      "Epoch 380/500\n",
      "2/2 [==============================] - 0s 5ms/step - loss: 15.7276 - mae: 15.7276\n",
      "Epoch 381/500\n",
      "2/2 [==============================] - 0s 5ms/step - loss: 11.4644 - mae: 11.4644\n",
      "Epoch 382/500\n",
      "2/2 [==============================] - 0s 5ms/step - loss: 16.3395 - mae: 16.3395\n",
      "Epoch 383/500\n",
      "2/2 [==============================] - 0s 6ms/step - loss: 22.1013 - mae: 22.1013\n",
      "Epoch 384/500\n",
      "2/2 [==============================] - 0s 7ms/step - loss: 7.7322 - mae: 7.7322\n",
      "Epoch 385/500\n",
      "2/2 [==============================] - 0s 6ms/step - loss: 10.6101 - mae: 10.6101\n",
      "Epoch 386/500\n",
      "2/2 [==============================] - 0s 7ms/step - loss: 19.0958 - mae: 19.0958\n",
      "Epoch 387/500\n",
      "2/2 [==============================] - 0s 8ms/step - loss: 26.4887 - mae: 26.4887\n",
      "Epoch 388/500\n",
      "2/2 [==============================] - 0s 7ms/step - loss: 10.0960 - mae: 10.0960\n",
      "Epoch 389/500\n",
      "2/2 [==============================] - 0s 5ms/step - loss: 5.1618 - mae: 5.1618\n",
      "Epoch 390/500\n",
      "2/2 [==============================] - 0s 4ms/step - loss: 18.8239 - mae: 18.8239\n",
      "Epoch 391/500\n",
      "2/2 [==============================] - 0s 3ms/step - loss: 9.3261 - mae: 9.3261\n",
      "Epoch 392/500\n",
      "2/2 [==============================] - 0s 16ms/step - loss: 14.4009 - mae: 14.4009\n",
      "Epoch 393/500\n",
      "2/2 [==============================] - 0s 6ms/step - loss: 15.4056 - mae: 15.4056\n",
      "Epoch 394/500\n",
      "2/2 [==============================] - 0s 5ms/step - loss: 14.7425 - mae: 14.7425\n",
      "Epoch 395/500\n",
      "2/2 [==============================] - 0s 5ms/step - loss: 24.9744 - mae: 24.9744\n",
      "Epoch 396/500\n",
      "2/2 [==============================] - 0s 5ms/step - loss: 19.1491 - mae: 19.1491\n",
      "Epoch 397/500\n",
      "2/2 [==============================] - 0s 5ms/step - loss: 11.5735 - mae: 11.5735\n",
      "Epoch 398/500\n",
      "2/2 [==============================] - 0s 5ms/step - loss: 19.2228 - mae: 19.2228\n",
      "Epoch 399/500\n",
      "2/2 [==============================] - 0s 12ms/step - loss: 25.9380 - mae: 25.9380\n",
      "Epoch 400/500\n",
      "2/2 [==============================] - 0s 4ms/step - loss: 15.5979 - mae: 15.5979\n",
      "Epoch 401/500\n",
      "2/2 [==============================] - 0s 4ms/step - loss: 14.6563 - mae: 14.6563\n",
      "Epoch 402/500\n",
      "2/2 [==============================] - 0s 5ms/step - loss: 24.2781 - mae: 24.2781\n",
      "Epoch 403/500\n",
      "2/2 [==============================] - 0s 5ms/step - loss: 16.2784 - mae: 16.2784\n",
      "Epoch 404/500\n",
      "2/2 [==============================] - 0s 4ms/step - loss: 10.4378 - mae: 10.4378\n",
      "Epoch 405/500\n",
      "2/2 [==============================] - 0s 4ms/step - loss: 6.3884 - mae: 6.3884\n",
      "Epoch 406/500\n",
      "2/2 [==============================] - 0s 6ms/step - loss: 17.7583 - mae: 17.7583\n",
      "Epoch 407/500\n",
      "2/2 [==============================] - 0s 6ms/step - loss: 11.0275 - mae: 11.0275\n",
      "Epoch 408/500\n",
      "2/2 [==============================] - 0s 5ms/step - loss: 21.0836 - mae: 21.0836\n",
      "Epoch 409/500\n",
      "2/2 [==============================] - 0s 6ms/step - loss: 30.2852 - mae: 30.2852\n",
      "Epoch 410/500\n",
      "2/2 [==============================] - 0s 5ms/step - loss: 9.8388 - mae: 9.8388\n",
      "Epoch 411/500\n",
      "2/2 [==============================] - 0s 6ms/step - loss: 14.7141 - mae: 14.7141\n",
      "Epoch 412/500\n",
      "2/2 [==============================] - 0s 5ms/step - loss: 21.4644 - mae: 21.4644\n",
      "Epoch 413/500\n",
      "2/2 [==============================] - 0s 7ms/step - loss: 13.3046 - mae: 13.3046\n",
      "Epoch 414/500\n",
      "2/2 [==============================] - 0s 6ms/step - loss: 7.8069 - mae: 7.8069\n",
      "Epoch 415/500\n",
      "2/2 [==============================] - 0s 5ms/step - loss: 12.2053 - mae: 12.2053\n",
      "Epoch 416/500\n",
      "2/2 [==============================] - 0s 7ms/step - loss: 25.8936 - mae: 25.8936\n",
      "Epoch 417/500\n",
      "2/2 [==============================] - 0s 4ms/step - loss: 14.9922 - mae: 14.9922\n",
      "Epoch 418/500\n",
      "2/2 [==============================] - 0s 4ms/step - loss: 12.7995 - mae: 12.7995\n",
      "Epoch 419/500\n",
      "2/2 [==============================] - 0s 5ms/step - loss: 15.8671 - mae: 15.8671\n",
      "Epoch 420/500\n",
      "2/2 [==============================] - 0s 4ms/step - loss: 24.7202 - mae: 24.7202\n",
      "Epoch 421/500\n",
      "2/2 [==============================] - 0s 5ms/step - loss: 17.5519 - mae: 17.5519\n",
      "Epoch 422/500\n",
      "2/2 [==============================] - 0s 4ms/step - loss: 8.7240 - mae: 8.7240\n",
      "Epoch 423/500\n",
      "2/2 [==============================] - 0s 4ms/step - loss: 24.9201 - mae: 24.9201\n",
      "Epoch 424/500\n",
      "2/2 [==============================] - 0s 6ms/step - loss: 16.1066 - mae: 16.1066\n",
      "Epoch 425/500\n",
      "2/2 [==============================] - 0s 5ms/step - loss: 7.4689 - mae: 7.4689\n",
      "Epoch 426/500\n",
      "2/2 [==============================] - 0s 5ms/step - loss: 21.5243 - mae: 21.5243\n",
      "Epoch 427/500\n",
      "2/2 [==============================] - 0s 5ms/step - loss: 6.6538 - mae: 6.6538\n",
      "Epoch 428/500\n",
      "2/2 [==============================] - 0s 4ms/step - loss: 13.7995 - mae: 13.7995\n",
      "Epoch 429/500\n"
     ]
    },
    {
     "name": "stdout",
     "output_type": "stream",
     "text": [
      "2/2 [==============================] - 0s 4ms/step - loss: 11.7520 - mae: 11.7520\n",
      "Epoch 430/500\n",
      "2/2 [==============================] - 0s 5ms/step - loss: 10.4984 - mae: 10.4984\n",
      "Epoch 431/500\n",
      "2/2 [==============================] - 0s 4ms/step - loss: 12.0399 - mae: 12.0399\n",
      "Epoch 432/500\n",
      "2/2 [==============================] - 0s 5ms/step - loss: 7.6067 - mae: 7.6067\n",
      "Epoch 433/500\n",
      "2/2 [==============================] - 0s 5ms/step - loss: 14.8074 - mae: 14.8074\n",
      "Epoch 434/500\n",
      "2/2 [==============================] - 0s 4ms/step - loss: 17.9187 - mae: 17.9187\n",
      "Epoch 435/500\n",
      "2/2 [==============================] - 0s 7ms/step - loss: 9.7215 - mae: 9.7215\n",
      "Epoch 436/500\n",
      "2/2 [==============================] - 0s 6ms/step - loss: 27.7281 - mae: 27.7281\n",
      "Epoch 437/500\n",
      "2/2 [==============================] - 0s 5ms/step - loss: 5.4062 - mae: 5.4062\n",
      "Epoch 438/500\n",
      "2/2 [==============================] - 0s 13ms/step - loss: 5.5514 - mae: 5.5514\n",
      "Epoch 439/500\n",
      "2/2 [==============================] - 0s 4ms/step - loss: 42.9943 - mae: 42.9943\n",
      "Epoch 440/500\n",
      "2/2 [==============================] - 0s 4ms/step - loss: 23.9382 - mae: 23.9382\n",
      "Epoch 441/500\n",
      "2/2 [==============================] - 0s 4ms/step - loss: 5.6620 - mae: 5.6620\n",
      "Epoch 442/500\n",
      "2/2 [==============================] - 0s 6ms/step - loss: 21.3615 - mae: 21.3615\n",
      "Epoch 443/500\n",
      "2/2 [==============================] - 0s 11ms/step - loss: 6.5673 - mae: 6.5673\n",
      "Epoch 444/500\n",
      "2/2 [==============================] - 0s 7ms/step - loss: 18.8691 - mae: 18.8691\n",
      "Epoch 445/500\n",
      "2/2 [==============================] - 0s 11ms/step - loss: 14.2461 - mae: 14.2461\n",
      "Epoch 446/500\n",
      "2/2 [==============================] - 0s 15ms/step - loss: 17.0249 - mae: 17.0249\n",
      "Epoch 447/500\n",
      "2/2 [==============================] - 0s 8ms/step - loss: 6.4903 - mae: 6.4903\n",
      "Epoch 448/500\n",
      "2/2 [==============================] - 0s 4ms/step - loss: 7.5013 - mae: 7.5013\n",
      "Epoch 449/500\n",
      "2/2 [==============================] - 0s 4ms/step - loss: 15.0752 - mae: 15.0752\n",
      "Epoch 450/500\n",
      "2/2 [==============================] - 0s 4ms/step - loss: 17.8101 - mae: 17.8101\n",
      "Epoch 451/500\n",
      "2/2 [==============================] - 0s 5ms/step - loss: 14.7250 - mae: 14.7250\n",
      "Epoch 452/500\n",
      "2/2 [==============================] - 0s 4ms/step - loss: 31.5328 - mae: 31.5328\n",
      "Epoch 453/500\n",
      "2/2 [==============================] - 0s 4ms/step - loss: 11.0783 - mae: 11.0783\n",
      "Epoch 454/500\n",
      "2/2 [==============================] - 0s 5ms/step - loss: 26.7786 - mae: 26.7786\n",
      "Epoch 455/500\n",
      "2/2 [==============================] - 0s 3ms/step - loss: 12.5450 - mae: 12.5450\n",
      "Epoch 456/500\n",
      "2/2 [==============================] - 0s 4ms/step - loss: 15.2688 - mae: 15.2688\n",
      "Epoch 457/500\n",
      "2/2 [==============================] - 0s 5ms/step - loss: 18.9152 - mae: 18.9152\n",
      "Epoch 458/500\n",
      "2/2 [==============================] - 0s 5ms/step - loss: 23.7927 - mae: 23.7927\n",
      "Epoch 459/500\n",
      "2/2 [==============================] - 0s 4ms/step - loss: 17.1881 - mae: 17.1881\n",
      "Epoch 460/500\n",
      "2/2 [==============================] - 0s 5ms/step - loss: 5.3933 - mae: 5.3933\n",
      "Epoch 461/500\n",
      "2/2 [==============================] - 0s 5ms/step - loss: 17.5804 - mae: 17.5804\n",
      "Epoch 462/500\n",
      "2/2 [==============================] - 0s 5ms/step - loss: 14.2522 - mae: 14.2522\n",
      "Epoch 463/500\n",
      "2/2 [==============================] - 0s 5ms/step - loss: 21.3719 - mae: 21.3719\n",
      "Epoch 464/500\n",
      "2/2 [==============================] - 0s 4ms/step - loss: 22.9555 - mae: 22.9555\n",
      "Epoch 465/500\n",
      "2/2 [==============================] - 0s 4ms/step - loss: 12.4396 - mae: 12.4396\n",
      "Epoch 466/500\n",
      "2/2 [==============================] - 0s 6ms/step - loss: 9.3792 - mae: 9.3792\n",
      "Epoch 467/500\n",
      "2/2 [==============================] - 0s 5ms/step - loss: 21.5273 - mae: 21.5273\n",
      "Epoch 468/500\n",
      "2/2 [==============================] - 0s 4ms/step - loss: 23.8672 - mae: 23.8672\n",
      "Epoch 469/500\n",
      "2/2 [==============================] - 0s 5ms/step - loss: 21.2888 - mae: 21.2888\n",
      "Epoch 470/500\n",
      "2/2 [==============================] - 0s 6ms/step - loss: 9.6996 - mae: 9.6996\n",
      "Epoch 471/500\n",
      "2/2 [==============================] - 0s 7ms/step - loss: 16.0237 - mae: 16.0237\n",
      "Epoch 472/500\n",
      "2/2 [==============================] - 0s 6ms/step - loss: 14.9168 - mae: 14.9168\n",
      "Epoch 473/500\n",
      "2/2 [==============================] - 0s 7ms/step - loss: 18.2618 - mae: 18.2618\n",
      "Epoch 474/500\n",
      "2/2 [==============================] - 0s 5ms/step - loss: 42.0578 - mae: 42.0578\n",
      "Epoch 475/500\n",
      "2/2 [==============================] - 0s 5ms/step - loss: 17.9187 - mae: 17.9187\n",
      "Epoch 476/500\n",
      "2/2 [==============================] - 0s 5ms/step - loss: 13.2168 - mae: 13.2168\n",
      "Epoch 477/500\n",
      "2/2 [==============================] - 0s 5ms/step - loss: 29.2816 - mae: 29.2816\n",
      "Epoch 478/500\n",
      "2/2 [==============================] - 0s 5ms/step - loss: 5.7898 - mae: 5.7898\n",
      "Epoch 479/500\n",
      "2/2 [==============================] - 0s 8ms/step - loss: 7.1321 - mae: 7.1321\n",
      "Epoch 480/500\n",
      "2/2 [==============================] - 0s 6ms/step - loss: 19.1188 - mae: 19.1188\n",
      "Epoch 481/500\n",
      "2/2 [==============================] - 0s 4ms/step - loss: 13.4234 - mae: 13.4234\n",
      "Epoch 482/500\n",
      "2/2 [==============================] - 0s 5ms/step - loss: 6.4180 - mae: 6.4180\n",
      "Epoch 483/500\n",
      "2/2 [==============================] - 0s 6ms/step - loss: 12.3499 - mae: 12.3499\n",
      "Epoch 484/500\n",
      "2/2 [==============================] - 0s 4ms/step - loss: 12.9161 - mae: 12.9161\n",
      "Epoch 485/500\n",
      "2/2 [==============================] - 0s 5ms/step - loss: 8.6480 - mae: 8.6480\n",
      "Epoch 486/500\n",
      "2/2 [==============================] - 0s 5ms/step - loss: 18.8950 - mae: 18.8950\n",
      "Epoch 487/500\n",
      "2/2 [==============================] - 0s 6ms/step - loss: 13.2798 - mae: 13.2798\n",
      "Epoch 488/500\n",
      "2/2 [==============================] - 0s 4ms/step - loss: 11.9895 - mae: 11.9895\n",
      "Epoch 489/500\n",
      "2/2 [==============================] - 0s 6ms/step - loss: 16.3034 - mae: 16.3034\n",
      "Epoch 490/500\n",
      "2/2 [==============================] - 0s 5ms/step - loss: 14.4061 - mae: 14.4061\n",
      "Epoch 491/500\n",
      "2/2 [==============================] - 0s 4ms/step - loss: 26.6199 - mae: 26.6199\n",
      "Epoch 492/500\n",
      "2/2 [==============================] - 0s 7ms/step - loss: 13.0329 - mae: 13.0329\n",
      "Epoch 493/500\n",
      "2/2 [==============================] - 0s 4ms/step - loss: 9.7268 - mae: 9.7268\n",
      "Epoch 494/500\n",
      "2/2 [==============================] - 0s 4ms/step - loss: 13.0317 - mae: 13.0317\n",
      "Epoch 495/500\n",
      "2/2 [==============================] - 0s 9ms/step - loss: 14.0387 - mae: 14.0387\n",
      "Epoch 496/500\n",
      "2/2 [==============================] - 0s 3ms/step - loss: 12.2533 - mae: 12.2533\n",
      "Epoch 497/500\n",
      "2/2 [==============================] - 0s 6ms/step - loss: 17.4078 - mae: 17.4078\n",
      "Epoch 498/500\n",
      "2/2 [==============================] - 0s 5ms/step - loss: 24.0366 - mae: 24.0366\n",
      "Epoch 499/500\n",
      "2/2 [==============================] - 0s 7ms/step - loss: 9.7643 - mae: 9.7643\n",
      "Epoch 500/500\n",
      "2/2 [==============================] - 0s 7ms/step - loss: 14.5868 - mae: 14.5868\n"
     ]
    },
    {
     "data": {
      "text/plain": [
       "<keras.callbacks.History at 0x20f37604430>"
      ]
     },
     "execution_count": 72,
     "metadata": {},
     "output_type": "execute_result"
    }
   ],
   "source": [
    "# Set random seed\n",
    "tf.random.set_seed(42)\n",
    "\n",
    "# 1. Create the model\n",
    "model_3 = tf.keras.Sequential([\n",
    "    tf.keras.layers.Dense(10, input_shape=[1], name=\"input_layer\"),\n",
    "    tf.keras.layers.Dense(1, name=\"output_layer\")\n",
    "])\n",
    "\n",
    "# 2. Compile the model\n",
    "model_3.compile(loss=tf.keras.losses.mae,\n",
    "               optimizer=tf.keras.optimizers.SGD(),\n",
    "               metrics=[\"mae\"])\n",
    "\n",
    "# 3. Fit the model\n",
    "model_3.fit(X_train, y_train, epochs=500)"
   ]
  },
  {
   "cell_type": "code",
   "execution_count": 73,
   "id": "1c49346c",
   "metadata": {},
   "outputs": [
    {
     "name": "stdout",
     "output_type": "stream",
     "text": [
      "1/1 [==============================] - 0s 88ms/step\n"
     ]
    },
    {
     "data": {
      "image/png": "[encoded data removed]",
      "text/plain": [
       "<Figure size 720x504 with 1 Axes>"
      ]
     },
     "metadata": {
      "needs_background": "light"
     },
     "output_type": "display_data"
    }
   ],
   "source": [
    "# Make and plot predictions\n",
    "y_preds_3 = model_3.predict(X_test)\n",
    "plot_predictions(predictions=y_preds_3)"
   ]
  },
  {
   "cell_type": "markdown",
   "id": "6577b4b6",
   "metadata": {},
   "source": [
    "This model is even worse than the first model.\n",
    "The reason for such a bad result should be that our model was trained for too long (500 epochs), so it is overfitting (this is a very important concept in Machine Learning, but we will not be cover it in this lesson).    \n",
    "This is a prime example of tweaking some hyper-parameters, even ones that you intuitively think should result in a better result, actually lead to a poor result."
   ]
  },
  {
   "cell_type": "code",
   "execution_count": 74,
   "id": "db92c5b8",
   "metadata": {},
   "outputs": [
    {
     "data": {
      "text/plain": [
       "(<tf.Tensor: shape=(), dtype=float32, numpy=58.568073>,\n",
       " <tf.Tensor: shape=(), dtype=float32, numpy=4787.6523>)"
      ]
     },
     "execution_count": 74,
     "metadata": {},
     "output_type": "execute_result"
    }
   ],
   "source": [
    "# model_3 evaluation metrics\n",
    "mae_3 = mae(X_test, tf.squeeze(y_preds_3))\n",
    "mse_3 = mse(y_test, tf.squeeze(y_preds_3))\n",
    "mae_3, mse_3"
   ]
  },
  {
   "cell_type": "code",
   "execution_count": null,
   "id": "7e03cda5",
   "metadata": {},
   "outputs": [],
   "source": []
  },
  {
   "cell_type": "markdown",
   "id": "deb2a077",
   "metadata": {},
   "source": [
    "🔑**Note** : It is good practice to start by small experiments (small models) and make sure they work, and then increase their scale when necessary."
   ]
  },
  {
   "cell_type": "code",
   "execution_count": null,
   "id": "37a7691e",
   "metadata": {},
   "outputs": [],
   "source": []
  },
  {
   "cell_type": "markdown",
   "id": "74304c21",
   "metadata": {},
   "source": [
    "### Comparing the results of our modelling experiments"
   ]
  },
  {
   "cell_type": "code",
   "execution_count": 75,
   "id": "55749623",
   "metadata": {},
   "outputs": [
    {
     "data": {
      "text/html": [
       "<div>\n",
       "<style scoped>\n",
       "    .dataframe tbody tr th:only-of-type {\n",
       "        vertical-align: middle;\n",
       "    }\n",
       "\n",
       "    .dataframe tbody tr th {\n",
       "        vertical-align: top;\n",
       "    }\n",
       "\n",
       "    .dataframe thead th {\n",
       "        text-align: right;\n",
       "    }\n",
       "</style>\n",
       "<table border=\"1\" class=\"dataframe\">\n",
       "  <thead>\n",
       "    <tr style=\"text-align: right;\">\n",
       "      <th></th>\n",
       "      <th>model</th>\n",
       "      <th>MAE</th>\n",
       "      <th>MSE</th>\n",
       "    </tr>\n",
       "  </thead>\n",
       "  <tbody>\n",
       "    <tr>\n",
       "      <th>0</th>\n",
       "      <td>model_1</td>\n",
       "      <td>tf.Tensor(14.891912, shape=(), dtype=float32)</td>\n",
       "      <td>tf.Tensor(222.6033, shape=(), dtype=float32)</td>\n",
       "    </tr>\n",
       "    <tr>\n",
       "      <th>1</th>\n",
       "      <td>model_2</td>\n",
       "      <td>tf.Tensor(10.877043, shape=(), dtype=float32)</td>\n",
       "      <td>tf.Tensor(126.246925, shape=(), dtype=float32)</td>\n",
       "    </tr>\n",
       "    <tr>\n",
       "      <th>2</th>\n",
       "      <td>model_3</td>\n",
       "      <td>tf.Tensor(58.568073, shape=(), dtype=float32)</td>\n",
       "      <td>tf.Tensor(4787.6523, shape=(), dtype=float32)</td>\n",
       "    </tr>\n",
       "  </tbody>\n",
       "</table>\n",
       "</div>"
      ],
      "text/plain": [
       "     model                                            MAE  \\\n",
       "0  model_1  tf.Tensor(14.891912, shape=(), dtype=float32)   \n",
       "1  model_2  tf.Tensor(10.877043, shape=(), dtype=float32)   \n",
       "2  model_3  tf.Tensor(58.568073, shape=(), dtype=float32)   \n",
       "\n",
       "                                              MSE  \n",
       "0    tf.Tensor(222.6033, shape=(), dtype=float32)  \n",
       "1  tf.Tensor(126.246925, shape=(), dtype=float32)  \n",
       "2   tf.Tensor(4787.6523, shape=(), dtype=float32)  "
      ]
     },
     "execution_count": 75,
     "metadata": {},
     "output_type": "execute_result"
    }
   ],
   "source": [
    "# Let's compare the result of our models using a dataframe\n",
    "\n",
    "model_results = [[\"model_1\", mae_1, mse_1], \n",
    "                 [\"model_2\", mae_2, mse_2],\n",
    "                 [\"model_3\", mae_3, mse_3]]\n",
    "# model_results = {\n",
    "#     \"model_1\": [ mae_1, mse_1],\n",
    "#     \"model_2\": [mae_2, mse_2],\n",
    "#     \"model_3\": [mae_3, mse_3],\n",
    "# }\n",
    "\n",
    "results_df = pd.DataFrame(model_results, columns=[\"model\",\"MAE\",\"MSE\"])\n",
    "results_df"
   ]
  },
  {
   "cell_type": "markdown",
   "id": "2b2be887",
   "metadata": {},
   "source": [
    "This result is not easily readable. So we will get the numpy value of the MAEs and MSEs"
   ]
  },
  {
   "cell_type": "code",
   "execution_count": 76,
   "id": "30be1716",
   "metadata": {},
   "outputs": [
    {
     "data": {
      "text/html": [
       "<div>\n",
       "<style scoped>\n",
       "    .dataframe tbody tr th:only-of-type {\n",
       "        vertical-align: middle;\n",
       "    }\n",
       "\n",
       "    .dataframe tbody tr th {\n",
       "        vertical-align: top;\n",
       "    }\n",
       "\n",
       "    .dataframe thead th {\n",
       "        text-align: right;\n",
       "    }\n",
       "</style>\n",
       "<table border=\"1\" class=\"dataframe\">\n",
       "  <thead>\n",
       "    <tr style=\"text-align: right;\">\n",
       "      <th></th>\n",
       "      <th>model</th>\n",
       "      <th>MAE</th>\n",
       "      <th>MSE</th>\n",
       "    </tr>\n",
       "  </thead>\n",
       "  <tbody>\n",
       "    <tr>\n",
       "      <th>0</th>\n",
       "      <td>model_1</td>\n",
       "      <td>14.891912</td>\n",
       "      <td>222.603302</td>\n",
       "    </tr>\n",
       "    <tr>\n",
       "      <th>1</th>\n",
       "      <td>model_2</td>\n",
       "      <td>10.877043</td>\n",
       "      <td>126.246925</td>\n",
       "    </tr>\n",
       "    <tr>\n",
       "      <th>2</th>\n",
       "      <td>model_3</td>\n",
       "      <td>58.568073</td>\n",
       "      <td>4787.652344</td>\n",
       "    </tr>\n",
       "  </tbody>\n",
       "</table>\n",
       "</div>"
      ],
      "text/plain": [
       "     model        MAE          MSE\n",
       "0  model_1  14.891912   222.603302\n",
       "1  model_2  10.877043   126.246925\n",
       "2  model_3  58.568073  4787.652344"
      ]
     },
     "execution_count": 76,
     "metadata": {},
     "output_type": "execute_result"
    }
   ],
   "source": [
    "model_results = [[\"model_1\", mae_1.numpy(), mse_1.numpy()], \n",
    "                 [\"model_2\", mae_2.numpy(), mse_2.numpy()],\n",
    "                 [\"model_3\", mae_3.numpy(), mse_3.numpy()]]\n",
    "\n",
    "results_df = pd.DataFrame(model_results, columns=[\"model\",\"MAE\",\"MSE\"])\n",
    "results_df"
   ]
  },
  {
   "cell_type": "markdown",
   "id": "63410c67",
   "metadata": {},
   "source": [
    "From the content of our dataframe, we can observe that model_2 perform the best. So we will look at its content."
   ]
  },
  {
   "cell_type": "code",
   "execution_count": 77,
   "id": "846ebbff",
   "metadata": {},
   "outputs": [
    {
     "name": "stdout",
     "output_type": "stream",
     "text": [
      "Model: \"sequential_10\"\n",
      "_________________________________________________________________\n",
      " Layer (type)                Output Shape              Param #   \n",
      "=================================================================\n",
      " input_layer (Dense)         (None, 10)                20        \n",
      "                                                                 \n",
      " dense_15 (Dense)            (None, 1)                 11        \n",
      "                                                                 \n",
      "=================================================================\n",
      "Total params: 31\n",
      "Trainable params: 31\n",
      "Non-trainable params: 0\n",
      "_________________________________________________________________\n"
     ]
    }
   ],
   "source": [
    "model_2.summary()"
   ]
  },
  {
   "cell_type": "markdown",
   "id": "317ff74b",
   "metadata": {},
   "source": [
    "> 🔑 **Notes** :\n",
    "> * One of our main goal should be to minimize the time between each experiment (so that we don't have to wait, say, 10min before runing the next modelling experiment). \n",
    "> * The more experiments ones does, the more things one will figure out which don't work, and in turn get closer to figure out what does work : it is a lot of trials and errors. Remember the ML practionner motto : experiment, experiment, experiment."
   ]
  },
  {
   "cell_type": "code",
   "execution_count": null,
   "id": "be5903ec",
   "metadata": {},
   "outputs": [],
   "source": []
  },
  {
   "cell_type": "markdown",
   "id": "72c6a165",
   "metadata": {},
   "source": [
    "### Tracking modelling experiments\n",
    "\n",
    "One good habit in ML modelling is to tracks experiments results.    \n",
    "\n",
    "Introducing tools that can help track results of experiments :\n",
    "* [**TensorBoard**](https://www.tensorflow.org/tensorboard) - a component of the TensorFlow library to help track modelling experiments.\n",
    "* [**Weights & Biases**](https://wandb.ai/site) - a tool for tracking all kind of ML experiments; it can be plugged into TensorBoard. \n",
    "\n",
    "TensorBoard's usage will be covered later."
   ]
  },
  {
   "cell_type": "code",
   "execution_count": null,
   "id": "3eedb62e",
   "metadata": {},
   "outputs": [],
   "source": []
  },
  {
   "cell_type": "markdown",
   "id": "2f3c0d83",
   "metadata": {},
   "source": [
    "### Save a model      \n",
    "Saving a model allow us to use it outside our notebook in place such as a web/mobile application.                  \n",
    "There are two main format we can save our model to :\n",
    "* SaveModel format : it is used when the saved model will only be used in the TensorFlow environement      \n",
    "* HDF5 format : it used when the saved model will be used outside of TensorFlow environement"
   ]
  },
  {
   "cell_type": "code",
   "execution_count": 78,
   "id": "4c736d88",
   "metadata": {},
   "outputs": [
    {
     "name": "stdout",
     "output_type": "stream",
     "text": [
      "INFO:tensorflow:Assets written to: ./saved-models/model_2_SaveModel_format\\assets\n"
     ]
    }
   ],
   "source": [
    "# Save a model using SaveModel format\n",
    "model_2.save(\"./saved-models/model_2_SaveModel_format\")"
   ]
  },
  {
   "cell_type": "code",
   "execution_count": 79,
   "id": "26dd5350",
   "metadata": {},
   "outputs": [],
   "source": [
    "# Save model using HDF5 format\n",
    "model_2.save(\"./saved-models/model_2_HDF5_format.h5\")"
   ]
  },
  {
   "cell_type": "code",
   "execution_count": null,
   "id": "1949574d",
   "metadata": {},
   "outputs": [],
   "source": []
  },
  {
   "cell_type": "markdown",
   "id": "e364a2f2",
   "metadata": {},
   "source": [
    "### Load a saved model   \n",
    "\n"
   ]
  },
  {
   "cell_type": "code",
   "execution_count": 80,
   "id": "dab2ffb8",
   "metadata": {},
   "outputs": [
    {
     "name": "stdout",
     "output_type": "stream",
     "text": [
      "Model: \"sequential_10\"\n",
      "_________________________________________________________________\n",
      " Layer (type)                Output Shape              Param #   \n",
      "=================================================================\n",
      " input_layer (Dense)         (None, 10)                20        \n",
      "                                                                 \n",
      " dense_15 (Dense)            (None, 1)                 11        \n",
      "                                                                 \n",
      "=================================================================\n",
      "Total params: 31\n",
      "Trainable params: 31\n",
      "Non-trainable params: 0\n",
      "_________________________________________________________________\n"
     ]
    }
   ],
   "source": [
    "# Recall the structure of our saved model\n",
    "model_2.summary()"
   ]
  },
  {
   "cell_type": "code",
   "execution_count": null,
   "id": "a6b13391",
   "metadata": {},
   "outputs": [],
   "source": []
  },
  {
   "cell_type": "code",
   "execution_count": 81,
   "id": "98a5dade",
   "metadata": {},
   "outputs": [
    {
     "name": "stdout",
     "output_type": "stream",
     "text": [
      "Model: \"sequential_10\"\n",
      "_________________________________________________________________\n",
      " Layer (type)                Output Shape              Param #   \n",
      "=================================================================\n",
      " input_layer (Dense)         (None, 10)                20        \n",
      "                                                                 \n",
      " dense_15 (Dense)            (None, 1)                 11        \n",
      "                                                                 \n",
      "=================================================================\n",
      "Total params: 31\n",
      "Trainable params: 31\n",
      "Non-trainable params: 0\n",
      "_________________________________________________________________\n"
     ]
    }
   ],
   "source": [
    "# Load the SaveModel format model\n",
    "loaded_SaveModel_format = tf.keras.models.load_model(\"./saved-models/model_2_SaveModel_format\")\n",
    "loaded_SaveModel_format.summary()"
   ]
  },
  {
   "cell_type": "markdown",
   "id": "9bedb2a3",
   "metadata": {},
   "source": [
    "We can confirm that loaded_SaveModel_format has the same structure as model_2, by looking at their .summary().      \n",
    "Now we will also confirm that their patterns (weights and biases) are the same, by checking that they are doing the same predictions."
   ]
  },
  {
   "cell_type": "code",
   "execution_count": 82,
   "id": "bb989a74",
   "metadata": {},
   "outputs": [
    {
     "name": "stdout",
     "output_type": "stream",
     "text": [
      "1/1 [==============================] - 0s 52ms/step\n",
      "1/1 [==============================] - 0s 108ms/step\n"
     ]
    },
    {
     "data": {
      "text/plain": [
       "array([[ True],\n",
       "       [ True],\n",
       "       [ True],\n",
       "       [ True],\n",
       "       [ True],\n",
       "       [ True],\n",
       "       [ True],\n",
       "       [ True],\n",
       "       [ True],\n",
       "       [ True]])"
      ]
     },
     "execution_count": 82,
     "metadata": {},
     "output_type": "execute_result"
    }
   ],
   "source": [
    "# Compare model_2 predictions with loaded_SaveModel_format predictions\n",
    "model_2_preds = model_2.predict(X_test)\n",
    "loaded_SaveModel_format_preds = loaded_SaveModel_format.predict(X_test)\n",
    "\n",
    "model_2_preds == loaded_SaveModel_format_preds"
   ]
  },
  {
   "cell_type": "code",
   "execution_count": null,
   "id": "d9dc7545",
   "metadata": {},
   "outputs": [],
   "source": []
  },
  {
   "cell_type": "code",
   "execution_count": 83,
   "id": "12d76241",
   "metadata": {},
   "outputs": [
    {
     "name": "stdout",
     "output_type": "stream",
     "text": [
      "Model: \"sequential_10\"\n",
      "_________________________________________________________________\n",
      " Layer (type)                Output Shape              Param #   \n",
      "=================================================================\n",
      " input_layer (Dense)         (None, 10)                20        \n",
      "                                                                 \n",
      " dense_15 (Dense)            (None, 1)                 11        \n",
      "                                                                 \n",
      "=================================================================\n",
      "Total params: 31\n",
      "Trainable params: 31\n",
      "Non-trainable params: 0\n",
      "_________________________________________________________________\n"
     ]
    }
   ],
   "source": [
    "# Load the HDF5 format model\n",
    "loaded_h5_model = tf.keras.models.load_model(\"./saved-models/model_2_HDF5_format.h5\")\n",
    "loaded_h5_model.summary()"
   ]
  },
  {
   "cell_type": "markdown",
   "id": "b14033c2",
   "metadata": {},
   "source": [
    "We can confirm through .summary() that the architecture of loaded_h5_model is the same as model_2. \n",
    "\n",
    "Now we will make sure that model_2 predictions match loaded_h5_model predictions."
   ]
  },
  {
   "cell_type": "code",
   "execution_count": 84,
   "id": "a7936835",
   "metadata": {},
   "outputs": [
    {
     "name": "stdout",
     "output_type": "stream",
     "text": [
      "1/1 [==============================] - 0s 35ms/step\n",
      "1/1 [==============================] - 0s 101ms/step\n"
     ]
    },
    {
     "data": {
      "text/plain": [
       "array([[ True],\n",
       "       [ True],\n",
       "       [ True],\n",
       "       [ True],\n",
       "       [ True],\n",
       "       [ True],\n",
       "       [ True],\n",
       "       [ True],\n",
       "       [ True],\n",
       "       [ True]])"
      ]
     },
     "execution_count": 84,
     "metadata": {},
     "output_type": "execute_result"
    }
   ],
   "source": [
    "# Compare model_2 predictions with loaded_h5_model predictions\n",
    "model_2_preds = model_2.predict(X_test)\n",
    "loaded_h5_model_preds = loaded_h5_model.predict(X_test)\n",
    "model_2_preds == loaded_h5_model_preds"
   ]
  },
  {
   "cell_type": "code",
   "execution_count": null,
   "id": "9b7eadbe",
   "metadata": {},
   "outputs": [],
   "source": []
  },
  {
   "cell_type": "markdown",
   "id": "2c9c6f28",
   "metadata": {},
   "source": [
    "## Puttting together what was learned so far\n",
    "\n",
    "Now it is time to build a model for a more feature rich dataset."
   ]
  },
  {
   "cell_type": "code",
   "execution_count": null,
   "id": "016cb7d8",
   "metadata": {},
   "outputs": [],
   "source": []
  },
  {
   "cell_type": "markdown",
   "id": "b85f0a42",
   "metadata": {},
   "source": [
    "### Preparing the dataset\n",
    "\n",
    "We are going to have a look at the publicly available [Medical Cost Personal Datasets - Insurance Forecast by using Linear Regression](https://www.kaggle.com/datasets/mirichoi0218/insurance) from Kaggle\n",
    "\n",
    "**Columns**\n",
    "\n",
    "* **age**: age of primary beneficiary\n",
    "* **sex**: insurance contractor gender, female, male\n",
    "* **bmi**: Body mass index, providing an understanding of body, weights that are relatively high or low relative to height,\n",
    "objective index of body weight (kg / m ^ 2) using the ratio of height to weight, ideally 18.5 to 24.9\n",
    "* **children**: Number of children covered by health insurance / Number of dependents\n",
    "* **smoker**: Smoking\n",
    "* **region**: the beneficiary's residential area in the US, northeast, southeast, southwest, northwest.\n",
    "* **charges**: Individual medical costs billed by health insurance     \n",
    "\n",
    "The dataset can be downloaded from [here](https://github.com/stedy/Machine-Learning-with-R-datasets/blob/master/insurance.csv)          \n",
    "\n",
    "\n",
    "The goal is to use the above columns from age to region to predict what someone's medical costs billed by health insurance will be."
   ]
  },
  {
   "cell_type": "code",
   "execution_count": 85,
   "id": "70030320",
   "metadata": {},
   "outputs": [
    {
     "data": {
      "text/html": [
       "<div>\n",
       "<style scoped>\n",
       "    .dataframe tbody tr th:only-of-type {\n",
       "        vertical-align: middle;\n",
       "    }\n",
       "\n",
       "    .dataframe tbody tr th {\n",
       "        vertical-align: top;\n",
       "    }\n",
       "\n",
       "    .dataframe thead th {\n",
       "        text-align: right;\n",
       "    }\n",
       "</style>\n",
       "<table border=\"1\" class=\"dataframe\">\n",
       "  <thead>\n",
       "    <tr style=\"text-align: right;\">\n",
       "      <th></th>\n",
       "      <th>age</th>\n",
       "      <th>sex</th>\n",
       "      <th>bmi</th>\n",
       "      <th>children</th>\n",
       "      <th>smoker</th>\n",
       "      <th>region</th>\n",
       "      <th>charges</th>\n",
       "    </tr>\n",
       "  </thead>\n",
       "  <tbody>\n",
       "    <tr>\n",
       "      <th>0</th>\n",
       "      <td>19</td>\n",
       "      <td>female</td>\n",
       "      <td>27.900</td>\n",
       "      <td>0</td>\n",
       "      <td>yes</td>\n",
       "      <td>southwest</td>\n",
       "      <td>16884.92400</td>\n",
       "    </tr>\n",
       "    <tr>\n",
       "      <th>1</th>\n",
       "      <td>18</td>\n",
       "      <td>male</td>\n",
       "      <td>33.770</td>\n",
       "      <td>1</td>\n",
       "      <td>no</td>\n",
       "      <td>southeast</td>\n",
       "      <td>1725.55230</td>\n",
       "    </tr>\n",
       "    <tr>\n",
       "      <th>2</th>\n",
       "      <td>28</td>\n",
       "      <td>male</td>\n",
       "      <td>33.000</td>\n",
       "      <td>3</td>\n",
       "      <td>no</td>\n",
       "      <td>southeast</td>\n",
       "      <td>4449.46200</td>\n",
       "    </tr>\n",
       "    <tr>\n",
       "      <th>3</th>\n",
       "      <td>33</td>\n",
       "      <td>male</td>\n",
       "      <td>22.705</td>\n",
       "      <td>0</td>\n",
       "      <td>no</td>\n",
       "      <td>northwest</td>\n",
       "      <td>21984.47061</td>\n",
       "    </tr>\n",
       "    <tr>\n",
       "      <th>4</th>\n",
       "      <td>32</td>\n",
       "      <td>male</td>\n",
       "      <td>28.880</td>\n",
       "      <td>0</td>\n",
       "      <td>no</td>\n",
       "      <td>northwest</td>\n",
       "      <td>3866.85520</td>\n",
       "    </tr>\n",
       "  </tbody>\n",
       "</table>\n",
       "</div>"
      ],
      "text/plain": [
       "   age     sex     bmi  children smoker     region      charges\n",
       "0   19  female  27.900         0    yes  southwest  16884.92400\n",
       "1   18    male  33.770         1     no  southeast   1725.55230\n",
       "2   28    male  33.000         3     no  southeast   4449.46200\n",
       "3   33    male  22.705         0     no  northwest  21984.47061\n",
       "4   32    male  28.880         0     no  northwest   3866.85520"
      ]
     },
     "execution_count": 85,
     "metadata": {},
     "output_type": "execute_result"
    }
   ],
   "source": [
    "insurance_df = pd.read_csv(\"data/insurance.csv\")\n",
    "insurance_df.head()"
   ]
  },
  {
   "cell_type": "markdown",
   "id": "2ce70add",
   "metadata": {},
   "source": [
    "Looking at the above dataset:\n",
    "* `charges`, the variable to be predicted, is called : `label`, or `output feature`, or `output variable`\n",
    "* all variables other than `charges`, are the variables used to predict; they are called: `features`, or `input features`, or `input variables`"
   ]
  },
  {
   "cell_type": "code",
   "execution_count": null,
   "id": "b24f07b5",
   "metadata": {},
   "outputs": [],
   "source": []
  },
  {
   "cell_type": "code",
   "execution_count": 86,
   "id": "bb8d4147",
   "metadata": {},
   "outputs": [
    {
     "data": {
      "text/plain": [
       "(1338, 7)"
      ]
     },
     "execution_count": 86,
     "metadata": {},
     "output_type": "execute_result"
    }
   ],
   "source": [
    "insurance_df.shape"
   ]
  },
  {
   "cell_type": "code",
   "execution_count": 87,
   "id": "795031f7",
   "metadata": {},
   "outputs": [
    {
     "name": "stdout",
     "output_type": "stream",
     "text": [
      "<class 'pandas.core.frame.DataFrame'>\n",
      "RangeIndex: 1338 entries, 0 to 1337\n",
      "Data columns (total 7 columns):\n",
      " #   Column    Non-Null Count  Dtype  \n",
      "---  ------    --------------  -----  \n",
      " 0   age       1338 non-null   int64  \n",
      " 1   sex       1338 non-null   object \n",
      " 2   bmi       1338 non-null   float64\n",
      " 3   children  1338 non-null   int64  \n",
      " 4   smoker    1338 non-null   object \n",
      " 5   region    1338 non-null   object \n",
      " 6   charges   1338 non-null   float64\n",
      "dtypes: float64(2), int64(2), object(3)\n",
      "memory usage: 73.3+ KB\n"
     ]
    }
   ],
   "source": [
    "insurance_df.info()"
   ]
  },
  {
   "cell_type": "markdown",
   "id": "c594b415",
   "metadata": {},
   "source": [
    "Now we will work on our first step in getting our data ready to pass into our machine/deep learning models : all our categorical features should be encoded to numerical values. Here, it is the one-hot encoding technique that will be used.  \n",
    "\n",
    "We can one-hot encode our variables manually, but it will take a lot of work. So we will use the `pandas.get_dummies()` function. Here is [an example](https://queirozf.com/entries/one-hot-encoding-a-feature-on-a-pandas-dataframe-an-example) on how to proceed."
   ]
  },
  {
   "cell_type": "code",
   "execution_count": 88,
   "id": "1aa8b000",
   "metadata": {},
   "outputs": [
    {
     "data": {
      "text/html": [
       "<div>\n",
       "<style scoped>\n",
       "    .dataframe tbody tr th:only-of-type {\n",
       "        vertical-align: middle;\n",
       "    }\n",
       "\n",
       "    .dataframe tbody tr th {\n",
       "        vertical-align: top;\n",
       "    }\n",
       "\n",
       "    .dataframe thead th {\n",
       "        text-align: right;\n",
       "    }\n",
       "</style>\n",
       "<table border=\"1\" class=\"dataframe\">\n",
       "  <thead>\n",
       "    <tr style=\"text-align: right;\">\n",
       "      <th></th>\n",
       "      <th>0</th>\n",
       "      <th>1</th>\n",
       "      <th>2</th>\n",
       "      <th>3</th>\n",
       "      <th>4</th>\n",
       "    </tr>\n",
       "  </thead>\n",
       "  <tbody>\n",
       "    <tr>\n",
       "      <th>age</th>\n",
       "      <td>19.000</td>\n",
       "      <td>18.0000</td>\n",
       "      <td>28.000</td>\n",
       "      <td>33.00000</td>\n",
       "      <td>32.0000</td>\n",
       "    </tr>\n",
       "    <tr>\n",
       "      <th>bmi</th>\n",
       "      <td>27.900</td>\n",
       "      <td>33.7700</td>\n",
       "      <td>33.000</td>\n",
       "      <td>22.70500</td>\n",
       "      <td>28.8800</td>\n",
       "    </tr>\n",
       "    <tr>\n",
       "      <th>children</th>\n",
       "      <td>0.000</td>\n",
       "      <td>1.0000</td>\n",
       "      <td>3.000</td>\n",
       "      <td>0.00000</td>\n",
       "      <td>0.0000</td>\n",
       "    </tr>\n",
       "    <tr>\n",
       "      <th>charges</th>\n",
       "      <td>16884.924</td>\n",
       "      <td>1725.5523</td>\n",
       "      <td>4449.462</td>\n",
       "      <td>21984.47061</td>\n",
       "      <td>3866.8552</td>\n",
       "    </tr>\n",
       "    <tr>\n",
       "      <th>sex_female</th>\n",
       "      <td>1.000</td>\n",
       "      <td>0.0000</td>\n",
       "      <td>0.000</td>\n",
       "      <td>0.00000</td>\n",
       "      <td>0.0000</td>\n",
       "    </tr>\n",
       "    <tr>\n",
       "      <th>sex_male</th>\n",
       "      <td>0.000</td>\n",
       "      <td>1.0000</td>\n",
       "      <td>1.000</td>\n",
       "      <td>1.00000</td>\n",
       "      <td>1.0000</td>\n",
       "    </tr>\n",
       "    <tr>\n",
       "      <th>smoker_no</th>\n",
       "      <td>0.000</td>\n",
       "      <td>1.0000</td>\n",
       "      <td>1.000</td>\n",
       "      <td>1.00000</td>\n",
       "      <td>1.0000</td>\n",
       "    </tr>\n",
       "    <tr>\n",
       "      <th>smoker_yes</th>\n",
       "      <td>1.000</td>\n",
       "      <td>0.0000</td>\n",
       "      <td>0.000</td>\n",
       "      <td>0.00000</td>\n",
       "      <td>0.0000</td>\n",
       "    </tr>\n",
       "    <tr>\n",
       "      <th>region_northeast</th>\n",
       "      <td>0.000</td>\n",
       "      <td>0.0000</td>\n",
       "      <td>0.000</td>\n",
       "      <td>0.00000</td>\n",
       "      <td>0.0000</td>\n",
       "    </tr>\n",
       "    <tr>\n",
       "      <th>region_northwest</th>\n",
       "      <td>0.000</td>\n",
       "      <td>0.0000</td>\n",
       "      <td>0.000</td>\n",
       "      <td>1.00000</td>\n",
       "      <td>1.0000</td>\n",
       "    </tr>\n",
       "    <tr>\n",
       "      <th>region_southeast</th>\n",
       "      <td>0.000</td>\n",
       "      <td>1.0000</td>\n",
       "      <td>1.000</td>\n",
       "      <td>0.00000</td>\n",
       "      <td>0.0000</td>\n",
       "    </tr>\n",
       "    <tr>\n",
       "      <th>region_southwest</th>\n",
       "      <td>1.000</td>\n",
       "      <td>0.0000</td>\n",
       "      <td>0.000</td>\n",
       "      <td>0.00000</td>\n",
       "      <td>0.0000</td>\n",
       "    </tr>\n",
       "  </tbody>\n",
       "</table>\n",
       "</div>"
      ],
      "text/plain": [
       "                          0          1         2            3          4\n",
       "age                  19.000    18.0000    28.000     33.00000    32.0000\n",
       "bmi                  27.900    33.7700    33.000     22.70500    28.8800\n",
       "children              0.000     1.0000     3.000      0.00000     0.0000\n",
       "charges           16884.924  1725.5523  4449.462  21984.47061  3866.8552\n",
       "sex_female            1.000     0.0000     0.000      0.00000     0.0000\n",
       "sex_male              0.000     1.0000     1.000      1.00000     1.0000\n",
       "smoker_no             0.000     1.0000     1.000      1.00000     1.0000\n",
       "smoker_yes            1.000     0.0000     0.000      0.00000     0.0000\n",
       "region_northeast      0.000     0.0000     0.000      0.00000     0.0000\n",
       "region_northwest      0.000     0.0000     0.000      1.00000     1.0000\n",
       "region_southeast      0.000     1.0000     1.000      0.00000     0.0000\n",
       "region_southwest      1.000     0.0000     0.000      0.00000     0.0000"
      ]
     },
     "execution_count": 88,
     "metadata": {},
     "output_type": "execute_result"
    }
   ],
   "source": [
    "# One-hot encode dataframe so that it is all numbers\n",
    "insurance_onehot_df = pd.get_dummies(insurance_df)\n",
    "insurance_onehot_df.head().T"
   ]
  },
  {
   "cell_type": "code",
   "execution_count": 89,
   "id": "4011de41",
   "metadata": {},
   "outputs": [],
   "source": [
    "# insurance_onehot_df.isnull().sum()"
   ]
  },
  {
   "cell_type": "markdown",
   "id": "73760872",
   "metadata": {},
   "source": [
    "### Building the regression model"
   ]
  },
  {
   "cell_type": "code",
   "execution_count": 90,
   "id": "62cf3b62",
   "metadata": {},
   "outputs": [
    {
     "data": {
      "text/html": [
       "<div>\n",
       "<style scoped>\n",
       "    .dataframe tbody tr th:only-of-type {\n",
       "        vertical-align: middle;\n",
       "    }\n",
       "\n",
       "    .dataframe tbody tr th {\n",
       "        vertical-align: top;\n",
       "    }\n",
       "\n",
       "    .dataframe thead th {\n",
       "        text-align: right;\n",
       "    }\n",
       "</style>\n",
       "<table border=\"1\" class=\"dataframe\">\n",
       "  <thead>\n",
       "    <tr style=\"text-align: right;\">\n",
       "      <th></th>\n",
       "      <th>age</th>\n",
       "      <th>bmi</th>\n",
       "      <th>children</th>\n",
       "      <th>sex_female</th>\n",
       "      <th>sex_male</th>\n",
       "      <th>smoker_no</th>\n",
       "      <th>smoker_yes</th>\n",
       "      <th>region_northeast</th>\n",
       "      <th>region_northwest</th>\n",
       "      <th>region_southeast</th>\n",
       "      <th>region_southwest</th>\n",
       "    </tr>\n",
       "  </thead>\n",
       "  <tbody>\n",
       "    <tr>\n",
       "      <th>0</th>\n",
       "      <td>19</td>\n",
       "      <td>27.900</td>\n",
       "      <td>0</td>\n",
       "      <td>1</td>\n",
       "      <td>0</td>\n",
       "      <td>0</td>\n",
       "      <td>1</td>\n",
       "      <td>0</td>\n",
       "      <td>0</td>\n",
       "      <td>0</td>\n",
       "      <td>1</td>\n",
       "    </tr>\n",
       "    <tr>\n",
       "      <th>1</th>\n",
       "      <td>18</td>\n",
       "      <td>33.770</td>\n",
       "      <td>1</td>\n",
       "      <td>0</td>\n",
       "      <td>1</td>\n",
       "      <td>1</td>\n",
       "      <td>0</td>\n",
       "      <td>0</td>\n",
       "      <td>0</td>\n",
       "      <td>1</td>\n",
       "      <td>0</td>\n",
       "    </tr>\n",
       "    <tr>\n",
       "      <th>2</th>\n",
       "      <td>28</td>\n",
       "      <td>33.000</td>\n",
       "      <td>3</td>\n",
       "      <td>0</td>\n",
       "      <td>1</td>\n",
       "      <td>1</td>\n",
       "      <td>0</td>\n",
       "      <td>0</td>\n",
       "      <td>0</td>\n",
       "      <td>1</td>\n",
       "      <td>0</td>\n",
       "    </tr>\n",
       "    <tr>\n",
       "      <th>3</th>\n",
       "      <td>33</td>\n",
       "      <td>22.705</td>\n",
       "      <td>0</td>\n",
       "      <td>0</td>\n",
       "      <td>1</td>\n",
       "      <td>1</td>\n",
       "      <td>0</td>\n",
       "      <td>0</td>\n",
       "      <td>1</td>\n",
       "      <td>0</td>\n",
       "      <td>0</td>\n",
       "    </tr>\n",
       "    <tr>\n",
       "      <th>4</th>\n",
       "      <td>32</td>\n",
       "      <td>28.880</td>\n",
       "      <td>0</td>\n",
       "      <td>0</td>\n",
       "      <td>1</td>\n",
       "      <td>1</td>\n",
       "      <td>0</td>\n",
       "      <td>0</td>\n",
       "      <td>1</td>\n",
       "      <td>0</td>\n",
       "      <td>0</td>\n",
       "    </tr>\n",
       "  </tbody>\n",
       "</table>\n",
       "</div>"
      ],
      "text/plain": [
       "   age     bmi  children  sex_female  sex_male  smoker_no  smoker_yes  \\\n",
       "0   19  27.900         0           1         0          0           1   \n",
       "1   18  33.770         1           0         1          1           0   \n",
       "2   28  33.000         3           0         1          1           0   \n",
       "3   33  22.705         0           0         1          1           0   \n",
       "4   32  28.880         0           0         1          1           0   \n",
       "\n",
       "   region_northeast  region_northwest  region_southeast  region_southwest  \n",
       "0                 0                 0                 0                 1  \n",
       "1                 0                 0                 1                 0  \n",
       "2                 0                 0                 1                 0  \n",
       "3                 0                 1                 0                 0  \n",
       "4                 0                 1                 0                 0  "
      ]
     },
     "execution_count": 90,
     "metadata": {},
     "output_type": "execute_result"
    }
   ],
   "source": [
    "# Create features (X)\n",
    "X = insurance_onehot_df.drop(\"charges\",axis=1)\n",
    "X.head()"
   ]
  },
  {
   "cell_type": "code",
   "execution_count": 91,
   "id": "0e221709",
   "metadata": {},
   "outputs": [
    {
     "data": {
      "text/plain": [
       "0    16884.92400\n",
       "1     1725.55230\n",
       "2     4449.46200\n",
       "3    21984.47061\n",
       "4     3866.85520\n",
       "Name: charges, dtype: float64"
      ]
     },
     "execution_count": 91,
     "metadata": {},
     "output_type": "execute_result"
    }
   ],
   "source": [
    "# Create labels (y)\n",
    "y = insurance_onehot_df[\"charges\"]\n",
    "y.head()"
   ]
  },
  {
   "cell_type": "code",
   "execution_count": 92,
   "id": "016a5066",
   "metadata": {},
   "outputs": [
    {
     "data": {
      "text/plain": [
       "(1070, 268, 1070, 268)"
      ]
     },
     "execution_count": 92,
     "metadata": {},
     "output_type": "execute_result"
    }
   ],
   "source": [
    "# Create training and testing sets\n",
    "\n",
    "random_seed=42\n",
    "X_train, X_test, y_train, y_test = train_test_split(X,y, test_size=.2, random_state=random_seed)\n",
    "\n",
    "len(X_train), len(X_test), len(y_train), len(y_test)"
   ]
  },
  {
   "cell_type": "code",
   "execution_count": 93,
   "id": "e0420518",
   "metadata": {},
   "outputs": [
    {
     "name": "stdout",
     "output_type": "stream",
     "text": [
      "Epoch 1/100\n",
      "34/34 [==============================] - 1s 2ms/step - loss: 8710.4150 - mae: 8710.4150\n",
      "Epoch 2/100\n",
      "34/34 [==============================] - 0s 2ms/step - loss: 7874.5542 - mae: 7874.5542\n",
      "Epoch 3/100\n",
      "34/34 [==============================] - 0s 2ms/step - loss: 7477.2690 - mae: 7477.2690\n",
      "Epoch 4/100\n",
      "34/34 [==============================] - 0s 2ms/step - loss: 7708.2593 - mae: 7708.2593\n",
      "Epoch 5/100\n",
      "34/34 [==============================] - 0s 2ms/step - loss: 7725.3779 - mae: 7725.3779\n",
      "Epoch 6/100\n",
      "34/34 [==============================] - 0s 2ms/step - loss: 7640.9141 - mae: 7640.9141\n",
      "Epoch 7/100\n",
      "34/34 [==============================] - 0s 2ms/step - loss: 7546.4985 - mae: 7546.4985\n",
      "Epoch 8/100\n",
      "34/34 [==============================] - 0s 3ms/step - loss: 7773.7822 - mae: 7773.7822\n",
      "Epoch 9/100\n",
      "34/34 [==============================] - 0s 2ms/step - loss: 7644.7949 - mae: 7644.7949\n",
      "Epoch 10/100\n",
      "34/34 [==============================] - 0s 2ms/step - loss: 7676.9033 - mae: 7676.9033\n",
      "Epoch 11/100\n",
      "34/34 [==============================] - 0s 2ms/step - loss: 7456.4390 - mae: 7456.4390\n",
      "Epoch 12/100\n",
      "34/34 [==============================] - 0s 2ms/step - loss: 7571.9355 - mae: 7571.9355\n",
      "Epoch 13/100\n",
      "34/34 [==============================] - 0s 2ms/step - loss: 7675.1226 - mae: 7675.1226\n",
      "Epoch 14/100\n",
      "34/34 [==============================] - 0s 2ms/step - loss: 7678.4976 - mae: 7678.4976\n",
      "Epoch 15/100\n",
      "34/34 [==============================] - 0s 2ms/step - loss: 7586.3042 - mae: 7586.3042\n",
      "Epoch 16/100\n",
      "34/34 [==============================] - 0s 2ms/step - loss: 7685.9414 - mae: 7685.9414\n",
      "Epoch 17/100\n",
      "34/34 [==============================] - 0s 2ms/step - loss: 7489.3550 - mae: 7489.3550\n",
      "Epoch 18/100\n",
      "34/34 [==============================] - 0s 2ms/step - loss: 7811.2891 - mae: 7811.2891\n",
      "Epoch 19/100\n",
      "34/34 [==============================] - 0s 2ms/step - loss: 7812.3042 - mae: 7812.3042\n",
      "Epoch 20/100\n",
      "34/34 [==============================] - 0s 2ms/step - loss: 7869.1309 - mae: 7869.1309\n",
      "Epoch 21/100\n",
      "34/34 [==============================] - 0s 2ms/step - loss: 7522.6318 - mae: 7522.6318\n",
      "Epoch 22/100\n",
      "34/34 [==============================] - 0s 2ms/step - loss: 7852.4292 - mae: 7852.4292\n",
      "Epoch 23/100\n",
      "34/34 [==============================] - 0s 2ms/step - loss: 7638.8120 - mae: 7638.8120\n",
      "Epoch 24/100\n",
      "34/34 [==============================] - 0s 2ms/step - loss: 7537.7266 - mae: 7537.7266\n",
      "Epoch 25/100\n",
      "34/34 [==============================] - 0s 2ms/step - loss: 7626.2988 - mae: 7626.2988\n",
      "Epoch 26/100\n",
      "34/34 [==============================] - 0s 3ms/step - loss: 7589.0532 - mae: 7589.0532\n",
      "Epoch 27/100\n",
      "34/34 [==============================] - 0s 3ms/step - loss: 7641.3745 - mae: 7641.3745\n",
      "Epoch 28/100\n",
      "34/34 [==============================] - 0s 2ms/step - loss: 7484.7407 - mae: 7484.7407\n",
      "Epoch 29/100\n",
      "34/34 [==============================] - 0s 2ms/step - loss: 7687.1768 - mae: 7687.1768\n",
      "Epoch 30/100\n",
      "34/34 [==============================] - 0s 2ms/step - loss: 7515.6694 - mae: 7515.6694\n",
      "Epoch 31/100\n",
      "34/34 [==============================] - 0s 2ms/step - loss: 7468.3457 - mae: 7468.3457\n",
      "Epoch 32/100\n",
      "34/34 [==============================] - 0s 2ms/step - loss: 7496.9204 - mae: 7496.9204\n",
      "Epoch 33/100\n",
      "34/34 [==============================] - 0s 2ms/step - loss: 7432.0225 - mae: 7432.0225\n",
      "Epoch 34/100\n",
      "34/34 [==============================] - 0s 2ms/step - loss: 7390.5786 - mae: 7390.5786\n",
      "Epoch 35/100\n",
      "34/34 [==============================] - 0s 2ms/step - loss: 7276.4248 - mae: 7276.4248\n",
      "Epoch 36/100\n",
      "34/34 [==============================] - 0s 2ms/step - loss: 7571.5869 - mae: 7571.5869\n",
      "Epoch 37/100\n",
      "34/34 [==============================] - 0s 3ms/step - loss: 7745.4854 - mae: 7745.4854\n",
      "Epoch 38/100\n",
      "34/34 [==============================] - 0s 3ms/step - loss: 7366.4058 - mae: 7366.4058\n",
      "Epoch 39/100\n",
      "34/34 [==============================] - 0s 2ms/step - loss: 7534.6250 - mae: 7534.6250\n",
      "Epoch 40/100\n",
      "34/34 [==============================] - 0s 3ms/step - loss: 7473.6030 - mae: 7473.6030\n",
      "Epoch 41/100\n",
      "34/34 [==============================] - 0s 2ms/step - loss: 7661.8594 - mae: 7661.8594\n",
      "Epoch 42/100\n",
      "34/34 [==============================] - 0s 2ms/step - loss: 7473.2202 - mae: 7473.2202\n",
      "Epoch 43/100\n",
      "34/34 [==============================] - 0s 2ms/step - loss: 7636.9180 - mae: 7636.9180\n",
      "Epoch 44/100\n",
      "34/34 [==============================] - 0s 3ms/step - loss: 7479.5679 - mae: 7479.5679\n",
      "Epoch 45/100\n",
      "34/34 [==============================] - 0s 3ms/step - loss: 7485.8691 - mae: 7485.8691\n",
      "Epoch 46/100\n",
      "34/34 [==============================] - 0s 3ms/step - loss: 7414.1919 - mae: 7414.1919\n",
      "Epoch 47/100\n",
      "34/34 [==============================] - 0s 2ms/step - loss: 7439.8491 - mae: 7439.8491\n",
      "Epoch 48/100\n",
      "34/34 [==============================] - 0s 2ms/step - loss: 7331.6685 - mae: 7331.6685\n",
      "Epoch 49/100\n",
      "34/34 [==============================] - 0s 2ms/step - loss: 7533.5645 - mae: 7533.5645\n",
      "Epoch 50/100\n",
      "34/34 [==============================] - 0s 2ms/step - loss: 7494.4404 - mae: 7494.4404\n",
      "Epoch 51/100\n",
      "34/34 [==============================] - 0s 2ms/step - loss: 7315.9678 - mae: 7315.9678\n",
      "Epoch 52/100\n",
      "34/34 [==============================] - 0s 2ms/step - loss: 7269.4268 - mae: 7269.4268\n",
      "Epoch 53/100\n",
      "34/34 [==============================] - 0s 2ms/step - loss: 7420.4790 - mae: 7420.4790\n",
      "Epoch 54/100\n",
      "34/34 [==============================] - 0s 2ms/step - loss: 7325.0811 - mae: 7325.0811\n",
      "Epoch 55/100\n",
      "34/34 [==============================] - 0s 3ms/step - loss: 7313.4814 - mae: 7313.4814\n",
      "Epoch 56/100\n",
      "34/34 [==============================] - 0s 3ms/step - loss: 7263.3838 - mae: 7263.3838\n",
      "Epoch 57/100\n",
      "34/34 [==============================] - 0s 3ms/step - loss: 7303.7988 - mae: 7303.7988\n",
      "Epoch 58/100\n",
      "34/34 [==============================] - 0s 3ms/step - loss: 7405.6470 - mae: 7405.6470\n",
      "Epoch 59/100\n",
      "34/34 [==============================] - 0s 3ms/step - loss: 7364.0913 - mae: 7364.0913\n",
      "Epoch 60/100\n",
      "34/34 [==============================] - 0s 2ms/step - loss: 7481.0830 - mae: 7481.0830\n",
      "Epoch 61/100\n",
      "34/34 [==============================] - 0s 2ms/step - loss: 7588.7476 - mae: 7588.7476\n",
      "Epoch 62/100\n",
      "34/34 [==============================] - 0s 2ms/step - loss: 7337.0366 - mae: 7337.0366\n",
      "Epoch 63/100\n",
      "34/34 [==============================] - 0s 2ms/step - loss: 7387.6860 - mae: 7387.6860\n",
      "Epoch 64/100\n",
      "34/34 [==============================] - 0s 2ms/step - loss: 7432.2710 - mae: 7432.2710\n",
      "Epoch 65/100\n",
      "34/34 [==============================] - 0s 2ms/step - loss: 7526.6758 - mae: 7526.6758\n",
      "Epoch 66/100\n",
      "34/34 [==============================] - 0s 2ms/step - loss: 7512.1333 - mae: 7512.1333\n",
      "Epoch 67/100\n",
      "34/34 [==============================] - 0s 2ms/step - loss: 7325.9727 - mae: 7325.9727\n",
      "Epoch 68/100\n",
      "34/34 [==============================] - 0s 4ms/step - loss: 7483.1333 - mae: 7483.1333\n",
      "Epoch 69/100\n",
      "34/34 [==============================] - 0s 3ms/step - loss: 7417.3530 - mae: 7417.3530\n",
      "Epoch 70/100\n",
      "34/34 [==============================] - 0s 2ms/step - loss: 7590.2563 - mae: 7590.2563\n",
      "Epoch 71/100\n",
      "34/34 [==============================] - 0s 2ms/step - loss: 7241.4873 - mae: 7241.4873\n",
      "Epoch 72/100\n",
      "34/34 [==============================] - 0s 2ms/step - loss: 7358.6514 - mae: 7358.6514\n",
      "Epoch 73/100\n",
      "34/34 [==============================] - 0s 2ms/step - loss: 7193.2041 - mae: 7193.2041\n",
      "Epoch 74/100\n",
      "34/34 [==============================] - 0s 2ms/step - loss: 7376.9683 - mae: 7376.9683\n",
      "Epoch 75/100\n",
      "34/34 [==============================] - 0s 2ms/step - loss: 7292.3301 - mae: 7292.3301\n",
      "Epoch 76/100\n",
      "34/34 [==============================] - 0s 2ms/step - loss: 7269.5527 - mae: 7269.5527\n",
      "Epoch 77/100\n",
      "34/34 [==============================] - 0s 2ms/step - loss: 7426.1953 - mae: 7426.1953\n",
      "Epoch 78/100\n",
      "34/34 [==============================] - 0s 2ms/step - loss: 7370.6333 - mae: 7370.6333\n",
      "Epoch 79/100\n",
      "34/34 [==============================] - 0s 3ms/step - loss: 7398.7812 - mae: 7398.7812\n",
      "Epoch 80/100\n",
      "34/34 [==============================] - 0s 2ms/step - loss: 7464.4570 - mae: 7464.4570\n",
      "Epoch 81/100\n",
      "34/34 [==============================] - 0s 3ms/step - loss: 7240.3750 - mae: 7240.3750\n",
      "Epoch 82/100\n"
     ]
    },
    {
     "name": "stdout",
     "output_type": "stream",
     "text": [
      "34/34 [==============================] - 0s 2ms/step - loss: 7178.8062 - mae: 7178.8062\n",
      "Epoch 83/100\n",
      "34/34 [==============================] - 0s 2ms/step - loss: 7565.7148 - mae: 7565.7148\n",
      "Epoch 84/100\n",
      "34/34 [==============================] - 0s 2ms/step - loss: 7183.5303 - mae: 7183.5303\n",
      "Epoch 85/100\n",
      "34/34 [==============================] - 0s 4ms/step - loss: 7450.8594 - mae: 7450.8594\n",
      "Epoch 86/100\n",
      "34/34 [==============================] - 0s 2ms/step - loss: 7461.1587 - mae: 7461.1587\n",
      "Epoch 87/100\n",
      "34/34 [==============================] - 0s 2ms/step - loss: 7184.7241 - mae: 7184.7241\n",
      "Epoch 88/100\n",
      "34/34 [==============================] - 0s 2ms/step - loss: 7401.3115 - mae: 7401.3115\n",
      "Epoch 89/100\n",
      "34/34 [==============================] - 0s 2ms/step - loss: 7348.4121 - mae: 7348.4121\n",
      "Epoch 90/100\n",
      "34/34 [==============================] - 0s 2ms/step - loss: 7281.7681 - mae: 7281.7681\n",
      "Epoch 91/100\n",
      "34/34 [==============================] - 0s 2ms/step - loss: 7155.1865 - mae: 7155.1865\n",
      "Epoch 92/100\n",
      "34/34 [==============================] - 0s 2ms/step - loss: 7272.9800 - mae: 7272.9800\n",
      "Epoch 93/100\n",
      "34/34 [==============================] - 0s 2ms/step - loss: 7489.9434 - mae: 7489.9434\n",
      "Epoch 94/100\n",
      "34/34 [==============================] - 0s 2ms/step - loss: 7350.7500 - mae: 7350.7500\n",
      "Epoch 95/100\n",
      "34/34 [==============================] - 0s 2ms/step - loss: 7468.5830 - mae: 7468.5830\n",
      "Epoch 96/100\n",
      "34/34 [==============================] - 0s 2ms/step - loss: 7115.5303 - mae: 7115.5303\n",
      "Epoch 97/100\n",
      "34/34 [==============================] - 0s 2ms/step - loss: 7261.8208 - mae: 7261.8208\n",
      "Epoch 98/100\n",
      "34/34 [==============================] - 0s 2ms/step - loss: 7458.0020 - mae: 7458.0020\n",
      "Epoch 99/100\n",
      "34/34 [==============================] - 0s 2ms/step - loss: 7389.4766 - mae: 7389.4766\n",
      "Epoch 100/100\n",
      "34/34 [==============================] - 0s 3ms/step - loss: 7110.9126 - mae: 7110.9126\n"
     ]
    },
    {
     "data": {
      "text/plain": [
       "<keras.callbacks.History at 0x20f3adc09d0>"
      ]
     },
     "execution_count": 93,
     "metadata": {},
     "output_type": "execute_result"
    }
   ],
   "source": [
    "# Build neural network (sort of like model_2 above)\n",
    "\n",
    "# Set a random seed (in order to have some reproducibility)\n",
    "tf.random.set_seed(42)\n",
    "\n",
    "# 1. Create a model\n",
    "insurance_model = tf.keras.Sequential([\n",
    "    tf.keras.layers.Dense(10),\n",
    "    tf.keras.layers.Dense(1)\n",
    "])\n",
    "\n",
    "# 2. Compile the model\n",
    "insurance_model.compile(\n",
    "    loss=tf.keras.losses.mae,\n",
    "    optimizer= tf.keras.optimizers.SGD(),\n",
    "    metrics=[\"mae\"]\n",
    ")\n",
    "\n",
    "# 3. Fit the model\n",
    "insurance_model.fit(X_train, y_train,  epochs=100)"
   ]
  },
  {
   "cell_type": "markdown",
   "id": "ff8bdd4e",
   "metadata": {},
   "source": [
    "**Note**: We didn't have to reformat the input variable into tensors. The reason being, pandas is built on top of numpy: it is a big numpy matrix, and when we pass that to TensorFlow, it automatically knows how to deal with numpy arrays (we have seen that TensorFlow works with numpy arrays)."
   ]
  },
  {
   "cell_type": "code",
   "execution_count": 94,
   "id": "42b1faf8",
   "metadata": {},
   "outputs": [
    {
     "name": "stdout",
     "output_type": "stream",
     "text": [
      "9/9 [==============================] - 0s 2ms/step - loss: 8807.8662 - mae: 8807.8662\n"
     ]
    },
    {
     "data": {
      "text/plain": [
       "[8807.8662109375, 8807.8662109375]"
      ]
     },
     "execution_count": 94,
     "metadata": {},
     "output_type": "execute_result"
    }
   ],
   "source": [
    "# Evaluate the model\n",
    "insurance_model.evaluate(X_test, y_test)"
   ]
  },
  {
   "cell_type": "markdown",
   "id": "083d3525",
   "metadata": {},
   "source": [
    "The MAE of the model is 7021.52; this tell that on average, the model is wrong by about 7021.52            \n",
    "That amount is to high, so the model need to be improved. "
   ]
  },
  {
   "cell_type": "markdown",
   "id": "963e4a81",
   "metadata": {},
   "source": [
    "To (try) improve the model, we will run 02 experiments. \n",
    "<br/><br/>\n",
    "**Experiments**:\n",
    "1. Add an extra layer with more hidden units\n",
    "1. Train for longer\n",
    "1. *Insert your own experiment here, up to your imagination/experience*"
   ]
  },
  {
   "cell_type": "code",
   "execution_count": null,
   "id": "b5ce936c",
   "metadata": {},
   "outputs": [],
   "source": []
  },
  {
   "cell_type": "code",
   "execution_count": 95,
   "id": "efe3dcec",
   "metadata": {},
   "outputs": [
    {
     "name": "stdout",
     "output_type": "stream",
     "text": [
      "Epoch 1/100\n",
      "34/34 [==============================] - 1s 2ms/step - loss: nan - mae: nan          \n",
      "Epoch 2/100\n",
      "34/34 [==============================] - 0s 2ms/step - loss: nan - mae: nan\n",
      "Epoch 3/100\n",
      "34/34 [==============================] - 0s 2ms/step - loss: nan - mae: nan\n",
      "Epoch 4/100\n",
      "34/34 [==============================] - 0s 2ms/step - loss: nan - mae: nan\n",
      "Epoch 5/100\n",
      "34/34 [==============================] - 0s 2ms/step - loss: nan - mae: nan\n",
      "Epoch 6/100\n",
      "34/34 [==============================] - 0s 3ms/step - loss: nan - mae: nan\n",
      "Epoch 7/100\n",
      "34/34 [==============================] - 0s 3ms/step - loss: nan - mae: nan\n",
      "Epoch 8/100\n",
      "34/34 [==============================] - 0s 2ms/step - loss: nan - mae: nan\n",
      "Epoch 9/100\n",
      "34/34 [==============================] - 0s 2ms/step - loss: nan - mae: nan\n",
      "Epoch 10/100\n",
      "34/34 [==============================] - 0s 2ms/step - loss: nan - mae: nan\n",
      "Epoch 11/100\n",
      "34/34 [==============================] - 0s 2ms/step - loss: nan - mae: nan\n",
      "Epoch 12/100\n",
      "34/34 [==============================] - 0s 2ms/step - loss: nan - mae: nan\n",
      "Epoch 13/100\n",
      "34/34 [==============================] - 0s 2ms/step - loss: nan - mae: nan\n",
      "Epoch 14/100\n",
      "34/34 [==============================] - 0s 2ms/step - loss: nan - mae: nan\n",
      "Epoch 15/100\n",
      "34/34 [==============================] - 0s 2ms/step - loss: nan - mae: nan\n",
      "Epoch 16/100\n",
      "34/34 [==============================] - 0s 2ms/step - loss: nan - mae: nan\n",
      "Epoch 17/100\n",
      "34/34 [==============================] - 0s 2ms/step - loss: nan - mae: nan\n",
      "Epoch 18/100\n",
      "34/34 [==============================] - 0s 2ms/step - loss: nan - mae: nan\n",
      "Epoch 19/100\n",
      "34/34 [==============================] - 0s 2ms/step - loss: nan - mae: nan\n",
      "Epoch 20/100\n",
      "34/34 [==============================] - 0s 2ms/step - loss: nan - mae: nan\n",
      "Epoch 21/100\n",
      "34/34 [==============================] - 0s 2ms/step - loss: nan - mae: nan\n",
      "Epoch 22/100\n",
      "34/34 [==============================] - 0s 2ms/step - loss: nan - mae: nan\n",
      "Epoch 23/100\n",
      "34/34 [==============================] - 0s 2ms/step - loss: nan - mae: nan\n",
      "Epoch 24/100\n",
      "34/34 [==============================] - 0s 2ms/step - loss: nan - mae: nan\n",
      "Epoch 25/100\n",
      "34/34 [==============================] - 0s 2ms/step - loss: nan - mae: nan\n",
      "Epoch 26/100\n",
      "34/34 [==============================] - 0s 2ms/step - loss: nan - mae: nan\n",
      "Epoch 27/100\n",
      "34/34 [==============================] - 0s 2ms/step - loss: nan - mae: nan\n",
      "Epoch 28/100\n",
      "34/34 [==============================] - 0s 2ms/step - loss: nan - mae: nan\n",
      "Epoch 29/100\n",
      "34/34 [==============================] - 0s 2ms/step - loss: nan - mae: nan\n",
      "Epoch 30/100\n",
      "34/34 [==============================] - 0s 2ms/step - loss: nan - mae: nan\n",
      "Epoch 31/100\n",
      "34/34 [==============================] - 0s 2ms/step - loss: nan - mae: nan\n",
      "Epoch 32/100\n",
      "34/34 [==============================] - 0s 2ms/step - loss: nan - mae: nan\n",
      "Epoch 33/100\n",
      "34/34 [==============================] - 0s 2ms/step - loss: nan - mae: nan\n",
      "Epoch 34/100\n",
      "34/34 [==============================] - 0s 1ms/step - loss: nan - mae: nan\n",
      "Epoch 35/100\n",
      "34/34 [==============================] - 0s 2ms/step - loss: nan - mae: nan\n",
      "Epoch 36/100\n",
      "34/34 [==============================] - 0s 2ms/step - loss: nan - mae: nan\n",
      "Epoch 37/100\n",
      "34/34 [==============================] - 0s 2ms/step - loss: nan - mae: nan\n",
      "Epoch 38/100\n",
      "34/34 [==============================] - 0s 2ms/step - loss: nan - mae: nan\n",
      "Epoch 39/100\n",
      "34/34 [==============================] - 0s 2ms/step - loss: nan - mae: nan\n",
      "Epoch 40/100\n",
      "34/34 [==============================] - 0s 1ms/step - loss: nan - mae: nan\n",
      "Epoch 41/100\n",
      "34/34 [==============================] - 0s 2ms/step - loss: nan - mae: nan\n",
      "Epoch 42/100\n",
      "34/34 [==============================] - 0s 2ms/step - loss: nan - mae: nan\n",
      "Epoch 43/100\n",
      "34/34 [==============================] - 0s 2ms/step - loss: nan - mae: nan\n",
      "Epoch 44/100\n",
      "34/34 [==============================] - 0s 2ms/step - loss: nan - mae: nan\n",
      "Epoch 45/100\n",
      "34/34 [==============================] - 0s 2ms/step - loss: nan - mae: nan\n",
      "Epoch 46/100\n",
      "34/34 [==============================] - 0s 2ms/step - loss: nan - mae: nan\n",
      "Epoch 47/100\n",
      "34/34 [==============================] - 0s 2ms/step - loss: nan - mae: nan\n",
      "Epoch 48/100\n",
      "34/34 [==============================] - 0s 2ms/step - loss: nan - mae: nan\n",
      "Epoch 49/100\n",
      "34/34 [==============================] - 0s 2ms/step - loss: nan - mae: nan\n",
      "Epoch 50/100\n",
      "34/34 [==============================] - 0s 2ms/step - loss: nan - mae: nan\n",
      "Epoch 51/100\n",
      "34/34 [==============================] - 0s 2ms/step - loss: nan - mae: nan\n",
      "Epoch 52/100\n",
      "34/34 [==============================] - 0s 1ms/step - loss: nan - mae: nan\n",
      "Epoch 53/100\n",
      "34/34 [==============================] - 0s 1ms/step - loss: nan - mae: nan\n",
      "Epoch 54/100\n",
      "34/34 [==============================] - 0s 1ms/step - loss: nan - mae: nan\n",
      "Epoch 55/100\n",
      "34/34 [==============================] - 0s 1ms/step - loss: nan - mae: nan\n",
      "Epoch 56/100\n",
      "34/34 [==============================] - 0s 1ms/step - loss: nan - mae: nan\n",
      "Epoch 57/100\n",
      "34/34 [==============================] - 0s 1ms/step - loss: nan - mae: nan\n",
      "Epoch 58/100\n",
      "34/34 [==============================] - 0s 1ms/step - loss: nan - mae: nan\n",
      "Epoch 59/100\n",
      "34/34 [==============================] - 0s 1ms/step - loss: nan - mae: nan\n",
      "Epoch 60/100\n",
      "34/34 [==============================] - 0s 2ms/step - loss: nan - mae: nan\n",
      "Epoch 61/100\n",
      "34/34 [==============================] - 0s 2ms/step - loss: nan - mae: nan\n",
      "Epoch 62/100\n",
      "34/34 [==============================] - 0s 2ms/step - loss: nan - mae: nan\n",
      "Epoch 63/100\n",
      "34/34 [==============================] - 0s 2ms/step - loss: nan - mae: nan\n",
      "Epoch 64/100\n",
      "34/34 [==============================] - 0s 4ms/step - loss: nan - mae: nan\n",
      "Epoch 65/100\n",
      "34/34 [==============================] - 0s 3ms/step - loss: nan - mae: nan\n",
      "Epoch 66/100\n",
      "34/34 [==============================] - 0s 2ms/step - loss: nan - mae: nan\n",
      "Epoch 67/100\n",
      "34/34 [==============================] - 0s 2ms/step - loss: nan - mae: nan\n",
      "Epoch 68/100\n",
      "34/34 [==============================] - 0s 2ms/step - loss: nan - mae: nan\n",
      "Epoch 69/100\n",
      "34/34 [==============================] - 0s 2ms/step - loss: nan - mae: nan\n",
      "Epoch 70/100\n",
      "34/34 [==============================] - 0s 2ms/step - loss: nan - mae: nan\n",
      "Epoch 71/100\n",
      "34/34 [==============================] - 0s 2ms/step - loss: nan - mae: nan\n",
      "Epoch 72/100\n",
      "34/34 [==============================] - 0s 2ms/step - loss: nan - mae: nan\n",
      "Epoch 73/100\n",
      "34/34 [==============================] - 0s 2ms/step - loss: nan - mae: nan\n",
      "Epoch 74/100\n",
      "34/34 [==============================] - 0s 2ms/step - loss: nan - mae: nan\n",
      "Epoch 75/100\n",
      "34/34 [==============================] - 0s 2ms/step - loss: nan - mae: nan\n",
      "Epoch 76/100\n",
      "34/34 [==============================] - 0s 2ms/step - loss: nan - mae: nan\n",
      "Epoch 77/100\n",
      "34/34 [==============================] - 0s 2ms/step - loss: nan - mae: nan\n",
      "Epoch 78/100\n",
      "34/34 [==============================] - 0s 3ms/step - loss: nan - mae: nan\n",
      "Epoch 79/100\n",
      "34/34 [==============================] - 0s 2ms/step - loss: nan - mae: nan\n",
      "Epoch 80/100\n",
      "34/34 [==============================] - 0s 2ms/step - loss: nan - mae: nan\n",
      "Epoch 81/100\n",
      "34/34 [==============================] - 0s 4ms/step - loss: nan - mae: nan\n",
      "Epoch 82/100\n",
      "34/34 [==============================] - 0s 3ms/step - loss: nan - mae: nan\n",
      "Epoch 83/100\n",
      "34/34 [==============================] - 0s 2ms/step - loss: nan - mae: nan\n",
      "Epoch 84/100\n",
      "34/34 [==============================] - 0s 2ms/step - loss: nan - mae: nan\n",
      "Epoch 85/100\n",
      "34/34 [==============================] - 0s 2ms/step - loss: nan - mae: nan\n",
      "Epoch 86/100\n",
      "34/34 [==============================] - 0s 3ms/step - loss: nan - mae: nan\n",
      "Epoch 87/100\n",
      "34/34 [==============================] - 0s 2ms/step - loss: nan - mae: nan\n",
      "Epoch 88/100\n",
      "34/34 [==============================] - 0s 2ms/step - loss: nan - mae: nan\n",
      "Epoch 89/100\n",
      "34/34 [==============================] - 0s 2ms/step - loss: nan - mae: nan\n",
      "Epoch 90/100\n",
      "34/34 [==============================] - 0s 2ms/step - loss: nan - mae: nan\n",
      "Epoch 91/100\n",
      "34/34 [==============================] - 0s 2ms/step - loss: nan - mae: nan\n",
      "Epoch 92/100\n",
      "34/34 [==============================] - 0s 2ms/step - loss: nan - mae: nan\n",
      "Epoch 93/100\n"
     ]
    },
    {
     "name": "stdout",
     "output_type": "stream",
     "text": [
      "34/34 [==============================] - 0s 2ms/step - loss: nan - mae: nan\n",
      "Epoch 94/100\n",
      "34/34 [==============================] - 0s 2ms/step - loss: nan - mae: nan\n",
      "Epoch 95/100\n",
      "34/34 [==============================] - 0s 2ms/step - loss: nan - mae: nan\n",
      "Epoch 96/100\n",
      "34/34 [==============================] - 0s 2ms/step - loss: nan - mae: nan\n",
      "Epoch 97/100\n",
      "34/34 [==============================] - 0s 2ms/step - loss: nan - mae: nan\n",
      "Epoch 98/100\n",
      "34/34 [==============================] - 0s 2ms/step - loss: nan - mae: nan\n",
      "Epoch 99/100\n",
      "34/34 [==============================] - 0s 2ms/step - loss: nan - mae: nan\n",
      "Epoch 100/100\n",
      "34/34 [==============================] - 0s 2ms/step - loss: nan - mae: nan\n"
     ]
    },
    {
     "data": {
      "text/plain": [
       "<keras.callbacks.History at 0x20f3beccfa0>"
      ]
     },
     "execution_count": 95,
     "metadata": {},
     "output_type": "execute_result"
    }
   ],
   "source": [
    "# 1st experiment: add extra layer with more hidden units\n",
    "\n",
    "# Set random seed\n",
    "tf.random.set_seed(42)\n",
    "\n",
    "# 1. Create the model\n",
    "insurance_model_2 = tf.keras.Sequential([\n",
    "    tf.keras.layers.Dense(100),\n",
    "    tf.keras.layers.Dense(10),\n",
    "    tf.keras.layers.Dense(1)\n",
    "])\n",
    "\n",
    "# 2. Compile the model\n",
    "insurance_model_2.compile(loss=tf.keras.losses.mae,\n",
    "                         optimizer=tf.keras.optimizers.SGD(),\n",
    "                         metrics=[\"mae\"])\n",
    "\n",
    "# 3. Fit the model\n",
    "insurance_model_2.fit(X_train, y_train, epochs=100, verbose=1)"
   ]
  },
  {
   "cell_type": "markdown",
   "id": "7c30ff6b",
   "metadata": {},
   "source": [
    "**💡 Personal note**                \n",
    "\n",
    "Our model is outputing NAN as value. If we remove the first layer of 100 units, we would remark that the model we be trained fine. So we can theorize that the model is too large, and the dataset too small, for the model to learn anything.\n",
    "There are a few workaround such a case:\n",
    "1. Make the model a little smaller (the unit in the first layer can be reduced)\n",
    "1. The learning rate of the model can be reduced (so that the model learn better)\n",
    "1. The optimizer of the model can be chandeg."
   ]
  },
  {
   "cell_type": "code",
   "execution_count": null,
   "id": "e3be9852",
   "metadata": {},
   "outputs": [],
   "source": []
  },
  {
   "cell_type": "code",
   "execution_count": 96,
   "id": "2c78396e",
   "metadata": {},
   "outputs": [
    {
     "name": "stdout",
     "output_type": "stream",
     "text": [
      "Epoch 1/100\n",
      "34/34 [==============================] - 1s 3ms/step - loss: 13275.5166 - mae: 13275.5166\n",
      "Epoch 2/100\n",
      "34/34 [==============================] - 0s 2ms/step - loss: 13105.5723 - mae: 13105.5723\n",
      "Epoch 3/100\n",
      "34/34 [==============================] - 0s 2ms/step - loss: 12754.0322 - mae: 12754.0322\n",
      "Epoch 4/100\n",
      "34/34 [==============================] - 0s 2ms/step - loss: 12077.4121 - mae: 12077.4121\n",
      "Epoch 5/100\n",
      "34/34 [==============================] - 0s 2ms/step - loss: 10960.8350 - mae: 10960.8350\n",
      "Epoch 6/100\n",
      "34/34 [==============================] - 0s 2ms/step - loss: 9538.8604 - mae: 9538.8604\n",
      "Epoch 7/100\n",
      "34/34 [==============================] - 0s 3ms/step - loss: 8217.3184 - mae: 8217.3184\n",
      "Epoch 8/100\n",
      "34/34 [==============================] - 0s 3ms/step - loss: 7549.7520 - mae: 7549.7520\n",
      "Epoch 9/100\n",
      "34/34 [==============================] - 0s 2ms/step - loss: 7431.3359 - mae: 7431.3359\n",
      "Epoch 10/100\n",
      "34/34 [==============================] - 0s 2ms/step - loss: 7410.1411 - mae: 7410.1411\n",
      "Epoch 11/100\n",
      "34/34 [==============================] - 0s 2ms/step - loss: 7391.5005 - mae: 7391.5005\n",
      "Epoch 12/100\n",
      "34/34 [==============================] - 0s 2ms/step - loss: 7369.5630 - mae: 7369.5630\n",
      "Epoch 13/100\n",
      "34/34 [==============================] - 0s 2ms/step - loss: 7349.1592 - mae: 7349.1592\n",
      "Epoch 14/100\n",
      "34/34 [==============================] - 0s 3ms/step - loss: 7326.8525 - mae: 7326.8525\n",
      "Epoch 15/100\n",
      "34/34 [==============================] - 0s 2ms/step - loss: 7307.9971 - mae: 7307.9971\n",
      "Epoch 16/100\n",
      "34/34 [==============================] - 0s 2ms/step - loss: 7285.8247 - mae: 7285.8247\n",
      "Epoch 17/100\n",
      "34/34 [==============================] - 0s 2ms/step - loss: 7265.6787 - mae: 7265.6787\n",
      "Epoch 18/100\n",
      "34/34 [==============================] - 0s 3ms/step - loss: 7242.4404 - mae: 7242.4404\n",
      "Epoch 19/100\n",
      "34/34 [==============================] - 0s 2ms/step - loss: 7219.9946 - mae: 7219.9946\n",
      "Epoch 20/100\n",
      "34/34 [==============================] - 0s 2ms/step - loss: 7196.4351 - mae: 7196.4351\n",
      "Epoch 21/100\n",
      "34/34 [==============================] - 0s 2ms/step - loss: 7178.1582 - mae: 7178.1582\n",
      "Epoch 22/100\n",
      "34/34 [==============================] - 0s 2ms/step - loss: 7149.6230 - mae: 7149.6230\n",
      "Epoch 23/100\n",
      "34/34 [==============================] - 0s 2ms/step - loss: 7124.3682 - mae: 7124.3682\n",
      "Epoch 24/100\n",
      "34/34 [==============================] - 0s 2ms/step - loss: 7099.6226 - mae: 7099.6226\n",
      "Epoch 25/100\n",
      "34/34 [==============================] - 0s 2ms/step - loss: 7081.5928 - mae: 7081.5928\n",
      "Epoch 26/100\n",
      "34/34 [==============================] - 0s 2ms/step - loss: 7048.8794 - mae: 7048.8794\n",
      "Epoch 27/100\n",
      "34/34 [==============================] - 0s 2ms/step - loss: 7020.5576 - mae: 7020.5576\n",
      "Epoch 28/100\n",
      "34/34 [==============================] - 0s 2ms/step - loss: 6992.1865 - mae: 6992.1865\n",
      "Epoch 29/100\n",
      "34/34 [==============================] - 0s 2ms/step - loss: 6963.6538 - mae: 6963.6538\n",
      "Epoch 30/100\n",
      "34/34 [==============================] - 0s 3ms/step - loss: 6936.0674 - mae: 6936.0674\n",
      "Epoch 31/100\n",
      "34/34 [==============================] - 0s 2ms/step - loss: 6904.8682 - mae: 6904.8682\n",
      "Epoch 32/100\n",
      "34/34 [==============================] - 0s 2ms/step - loss: 6876.8076 - mae: 6876.8076\n",
      "Epoch 33/100\n",
      "34/34 [==============================] - 0s 2ms/step - loss: 6845.1904 - mae: 6845.1904\n",
      "Epoch 34/100\n",
      "34/34 [==============================] - 0s 2ms/step - loss: 6813.0132 - mae: 6813.0132\n",
      "Epoch 35/100\n",
      "34/34 [==============================] - 0s 2ms/step - loss: 6779.0723 - mae: 6779.0723\n",
      "Epoch 36/100\n",
      "34/34 [==============================] - 0s 2ms/step - loss: 6744.4629 - mae: 6744.4629\n",
      "Epoch 37/100\n",
      "34/34 [==============================] - 0s 2ms/step - loss: 6708.4297 - mae: 6708.4297\n",
      "Epoch 38/100\n",
      "34/34 [==============================] - 0s 2ms/step - loss: 6677.1108 - mae: 6677.1108\n",
      "Epoch 39/100\n",
      "34/34 [==============================] - 0s 2ms/step - loss: 6640.1763 - mae: 6640.1763\n",
      "Epoch 40/100\n",
      "34/34 [==============================] - 0s 2ms/step - loss: 6605.4395 - mae: 6605.4395\n",
      "Epoch 41/100\n",
      "34/34 [==============================] - 0s 2ms/step - loss: 6573.7534 - mae: 6573.7534\n",
      "Epoch 42/100\n",
      "34/34 [==============================] - 0s 2ms/step - loss: 6550.0747 - mae: 6550.0747\n",
      "Epoch 43/100\n",
      "34/34 [==============================] - 0s 1ms/step - loss: 6521.8135 - mae: 6521.8135\n",
      "Epoch 44/100\n",
      "34/34 [==============================] - 0s 2ms/step - loss: 6500.2939 - mae: 6500.2939\n",
      "Epoch 45/100\n",
      "34/34 [==============================] - 0s 2ms/step - loss: 6490.1255 - mae: 6490.1255\n",
      "Epoch 46/100\n",
      "34/34 [==============================] - 0s 2ms/step - loss: 6471.5723 - mae: 6471.5723\n",
      "Epoch 47/100\n",
      "34/34 [==============================] - 0s 2ms/step - loss: 6455.0190 - mae: 6455.0190\n",
      "Epoch 48/100\n",
      "34/34 [==============================] - 0s 2ms/step - loss: 6441.9565 - mae: 6441.9565\n",
      "Epoch 49/100\n",
      "34/34 [==============================] - 0s 2ms/step - loss: 6428.7695 - mae: 6428.7695\n",
      "Epoch 50/100\n",
      "34/34 [==============================] - 0s 2ms/step - loss: 6415.0317 - mae: 6415.0317\n",
      "Epoch 51/100\n",
      "34/34 [==============================] - 0s 2ms/step - loss: 6401.0601 - mae: 6401.0601\n",
      "Epoch 52/100\n",
      "34/34 [==============================] - 0s 2ms/step - loss: 6390.0435 - mae: 6390.0435\n",
      "Epoch 53/100\n",
      "34/34 [==============================] - 0s 2ms/step - loss: 6375.6064 - mae: 6375.6064\n",
      "Epoch 54/100\n",
      "34/34 [==============================] - 0s 2ms/step - loss: 6362.0161 - mae: 6362.0161\n",
      "Epoch 55/100\n",
      "34/34 [==============================] - 0s 2ms/step - loss: 6348.5024 - mae: 6348.5024\n",
      "Epoch 56/100\n",
      "34/34 [==============================] - 0s 2ms/step - loss: 6333.8018 - mae: 6333.8018\n",
      "Epoch 57/100\n",
      "34/34 [==============================] - 0s 2ms/step - loss: 6321.1787 - mae: 6321.1787\n",
      "Epoch 58/100\n",
      "34/34 [==============================] - 0s 2ms/step - loss: 6306.8003 - mae: 6306.8003\n",
      "Epoch 59/100\n",
      "34/34 [==============================] - 0s 2ms/step - loss: 6292.2207 - mae: 6292.2207\n",
      "Epoch 60/100\n",
      "34/34 [==============================] - 0s 2ms/step - loss: 6281.1973 - mae: 6281.1973\n",
      "Epoch 61/100\n",
      "34/34 [==============================] - 0s 2ms/step - loss: 6261.3398 - mae: 6261.3398\n",
      "Epoch 62/100\n",
      "34/34 [==============================] - 0s 2ms/step - loss: 6248.7295 - mae: 6248.7295\n",
      "Epoch 63/100\n",
      "34/34 [==============================] - 0s 2ms/step - loss: 6230.2778 - mae: 6230.2778\n",
      "Epoch 64/100\n",
      "34/34 [==============================] - 0s 2ms/step - loss: 6213.7607 - mae: 6213.7607\n",
      "Epoch 65/100\n",
      "34/34 [==============================] - 0s 1ms/step - loss: 6196.2964 - mae: 6196.2964\n",
      "Epoch 66/100\n",
      "34/34 [==============================] - 0s 2ms/step - loss: 6178.9585 - mae: 6178.9585\n",
      "Epoch 67/100\n",
      "34/34 [==============================] - 0s 2ms/step - loss: 6166.2983 - mae: 6166.2983\n",
      "Epoch 68/100\n",
      "34/34 [==============================] - 0s 2ms/step - loss: 6143.4097 - mae: 6143.4097\n",
      "Epoch 69/100\n",
      "34/34 [==============================] - 0s 2ms/step - loss: 6127.0366 - mae: 6127.0366\n",
      "Epoch 70/100\n",
      "34/34 [==============================] - 0s 2ms/step - loss: 6106.4521 - mae: 6106.4521\n",
      "Epoch 71/100\n",
      "34/34 [==============================] - 0s 2ms/step - loss: 6086.6138 - mae: 6086.6138\n",
      "Epoch 72/100\n",
      "34/34 [==============================] - 0s 2ms/step - loss: 6067.7266 - mae: 6067.7266\n",
      "Epoch 73/100\n",
      "34/34 [==============================] - 0s 2ms/step - loss: 6052.6914 - mae: 6052.6914\n",
      "Epoch 74/100\n",
      "34/34 [==============================] - 0s 2ms/step - loss: 6024.5605 - mae: 6024.5605\n",
      "Epoch 75/100\n",
      "34/34 [==============================] - 0s 2ms/step - loss: 6001.3530 - mae: 6001.3530\n",
      "Epoch 76/100\n",
      "34/34 [==============================] - 0s 2ms/step - loss: 5989.2568 - mae: 5989.2568\n",
      "Epoch 77/100\n",
      "34/34 [==============================] - 0s 2ms/step - loss: 5955.4561 - mae: 5955.4561\n",
      "Epoch 78/100\n",
      "34/34 [==============================] - 0s 2ms/step - loss: 5932.0654 - mae: 5932.0654\n",
      "Epoch 79/100\n",
      "34/34 [==============================] - 0s 2ms/step - loss: 5906.8193 - mae: 5906.8193\n",
      "Epoch 80/100\n",
      "34/34 [==============================] - 0s 2ms/step - loss: 5879.2603 - mae: 5879.2603\n",
      "Epoch 81/100\n",
      "34/34 [==============================] - 0s 2ms/step - loss: 5852.9536 - mae: 5852.9536\n",
      "Epoch 82/100\n"
     ]
    },
    {
     "name": "stdout",
     "output_type": "stream",
     "text": [
      "34/34 [==============================] - 0s 2ms/step - loss: 5824.2993 - mae: 5824.2993\n",
      "Epoch 83/100\n",
      "34/34 [==============================] - 0s 2ms/step - loss: 5795.7266 - mae: 5795.7266\n",
      "Epoch 84/100\n",
      "34/34 [==============================] - 0s 3ms/step - loss: 5761.8442 - mae: 5761.8442\n",
      "Epoch 85/100\n",
      "34/34 [==============================] - 0s 2ms/step - loss: 5734.3848 - mae: 5734.3848\n",
      "Epoch 86/100\n",
      "34/34 [==============================] - 0s 2ms/step - loss: 5699.4194 - mae: 5699.4194\n",
      "Epoch 87/100\n",
      "34/34 [==============================] - 0s 2ms/step - loss: 5662.8496 - mae: 5662.8496\n",
      "Epoch 88/100\n",
      "34/34 [==============================] - 0s 2ms/step - loss: 5628.1782 - mae: 5628.1782\n",
      "Epoch 89/100\n",
      "34/34 [==============================] - 0s 2ms/step - loss: 5587.9800 - mae: 5587.9800\n",
      "Epoch 90/100\n",
      "34/34 [==============================] - 0s 2ms/step - loss: 5546.3989 - mae: 5546.3989\n",
      "Epoch 91/100\n",
      "34/34 [==============================] - 0s 2ms/step - loss: 5510.2090 - mae: 5510.2090\n",
      "Epoch 92/100\n",
      "34/34 [==============================] - 0s 1ms/step - loss: 5460.2974 - mae: 5460.2969\n",
      "Epoch 93/100\n",
      "34/34 [==============================] - 0s 2ms/step - loss: 5417.4185 - mae: 5417.4185\n",
      "Epoch 94/100\n",
      "34/34 [==============================] - 0s 2ms/step - loss: 5371.2046 - mae: 5371.2046\n",
      "Epoch 95/100\n",
      "34/34 [==============================] - 0s 2ms/step - loss: 5318.2881 - mae: 5318.2881\n",
      "Epoch 96/100\n",
      "34/34 [==============================] - 0s 2ms/step - loss: 5273.3105 - mae: 5273.3105\n",
      "Epoch 97/100\n",
      "34/34 [==============================] - 0s 2ms/step - loss: 5218.2119 - mae: 5218.2119\n",
      "Epoch 98/100\n",
      "34/34 [==============================] - 0s 2ms/step - loss: 5155.0742 - mae: 5155.0742\n",
      "Epoch 99/100\n",
      "34/34 [==============================] - 0s 2ms/step - loss: 5097.2700 - mae: 5097.2700\n",
      "Epoch 100/100\n",
      "34/34 [==============================] - 0s 2ms/step - loss: 5040.6924 - mae: 5040.6924\n"
     ]
    },
    {
     "data": {
      "text/plain": [
       "<keras.callbacks.History at 0x20f3bedae20>"
      ]
     },
     "execution_count": 96,
     "metadata": {},
     "output_type": "execute_result"
    }
   ],
   "source": [
    "# 1st experiment (updated): add extra layer with more hidden units, while using Adam optimizer\n",
    "\n",
    "# Set random seed\n",
    "tf.random.set_seed(42)\n",
    "\n",
    "# 1. Create the model\n",
    "insurance_model_2 = tf.keras.Sequential([\n",
    "    tf.keras.layers.Dense(100),\n",
    "    tf.keras.layers.Dense(10),\n",
    "    tf.keras.layers.Dense(1)\n",
    "])\n",
    "\n",
    "# 2. Compile the model\n",
    "insurance_model_2.compile(loss=tf.keras.losses.mae,\n",
    "                         optimizer=tf.keras.optimizers.Adam(),\n",
    "                         metrics=[\"mae\"])\n",
    "\n",
    "# 3. Fit the model\n",
    "insurance_model_2.fit(X_train, y_train, epochs=100, verbose=1)"
   ]
  },
  {
   "cell_type": "markdown",
   "id": "d26894a7",
   "metadata": {},
   "source": [
    "Two remarks:\n",
    "1. Now the model is not outputing NAN when we updated its optimizer\n",
    "1. This model is performing better (the loss now is 4943) in training compared to the first one"
   ]
  },
  {
   "cell_type": "code",
   "execution_count": 97,
   "id": "e791e747",
   "metadata": {},
   "outputs": [
    {
     "name": "stdout",
     "output_type": "stream",
     "text": [
      "9/9 [==============================] - 0s 2ms/step - loss: 4908.3740 - mae: 4908.3740\n"
     ]
    },
    {
     "data": {
      "text/plain": [
       "[4908.3740234375, 4908.3740234375]"
      ]
     },
     "execution_count": 97,
     "metadata": {},
     "output_type": "execute_result"
    }
   ],
   "source": [
    "# Evaluate the 2nd model\n",
    "insurance_model_2.evaluate(X_test, y_test)"
   ]
  },
  {
   "cell_type": "code",
   "execution_count": 98,
   "id": "ad4f9156",
   "metadata": {},
   "outputs": [
    {
     "name": "stdout",
     "output_type": "stream",
     "text": [
      "9/9 [==============================] - 0s 2ms/step - loss: 8807.8662 - mae: 8807.8662\n"
     ]
    },
    {
     "data": {
      "text/plain": [
       "[8807.8662109375, 8807.8662109375]"
      ]
     },
     "execution_count": 98,
     "metadata": {},
     "output_type": "execute_result"
    }
   ],
   "source": [
    "# Evaluate the 1st model\n",
    "insurance_model.evaluate(X_test, y_test)"
   ]
  },
  {
   "cell_type": "markdown",
   "id": "9629f9fe",
   "metadata": {},
   "source": [
    "The 2nd model is indeed better than the 1st one, by a distance of 3000. Recall that only two things were tweaked: an extra layer was added, and the optimizer was changed; this might not always work, but it is good to remember they are one of the levers than can be turned to try to improve a model."
   ]
  },
  {
   "cell_type": "code",
   "execution_count": null,
   "id": "171d6ae0",
   "metadata": {},
   "outputs": [],
   "source": []
  },
  {
   "cell_type": "markdown",
   "id": "5d7497bd",
   "metadata": {},
   "source": [
    "We will update our experiments (the experiments can be updated according to how each of them proceed).\n",
    " \n",
    "<br/><br/>\n",
    "**Experiments (update)**:\n",
    "1. Add an extra layer with more hidden units, and use Adam optimizer\n",
    "1. Same as above, but train for longer\n",
    "1. *Insert your own experiment here, up to your imagination/experience*\n",
    "\n",
    "The second experiment was updated to \"Same as above,...\" because we saw that the 1st experiment give us a better result than the original model; thus we choose to try to improve the model of the 1st experiment during the 2nd experiment."
   ]
  },
  {
   "cell_type": "code",
   "execution_count": 99,
   "id": "58b2e547",
   "metadata": {},
   "outputs": [
    {
     "name": "stdout",
     "output_type": "stream",
     "text": [
      "Epoch 1/200\n",
      "34/34 [==============================] - 1s 2ms/step - loss: 13304.8047 - mae: 13304.8047\n",
      "Epoch 2/200\n",
      "34/34 [==============================] - 0s 2ms/step - loss: 13141.3184 - mae: 13141.3184\n",
      "Epoch 3/200\n",
      "34/34 [==============================] - 0s 2ms/step - loss: 12802.4287 - mae: 12802.4287\n",
      "Epoch 4/200\n",
      "34/34 [==============================] - 0s 2ms/step - loss: 12135.0010 - mae: 12135.0010\n",
      "Epoch 5/200\n",
      "34/34 [==============================] - 0s 2ms/step - loss: 11012.0947 - mae: 11012.0947\n",
      "Epoch 6/200\n",
      "34/34 [==============================] - 0s 2ms/step - loss: 9566.3711 - mae: 9566.3711\n",
      "Epoch 7/200\n",
      "34/34 [==============================] - 0s 2ms/step - loss: 8223.4287 - mae: 8223.4287\n",
      "Epoch 8/200\n",
      "34/34 [==============================] - 0s 2ms/step - loss: 7554.9395 - mae: 7554.9395\n",
      "Epoch 9/200\n",
      "34/34 [==============================] - 0s 2ms/step - loss: 7439.1777 - mae: 7439.1777\n",
      "Epoch 10/200\n",
      "34/34 [==============================] - 0s 2ms/step - loss: 7417.1938 - mae: 7417.1938\n",
      "Epoch 11/200\n",
      "34/34 [==============================] - 0s 2ms/step - loss: 7397.8203 - mae: 7397.8203\n",
      "Epoch 12/200\n",
      "34/34 [==============================] - 0s 2ms/step - loss: 7375.1484 - mae: 7375.1484\n",
      "Epoch 13/200\n",
      "34/34 [==============================] - 0s 2ms/step - loss: 7353.7847 - mae: 7353.7847\n",
      "Epoch 14/200\n",
      "34/34 [==============================] - 0s 2ms/step - loss: 7330.6992 - mae: 7330.6992\n",
      "Epoch 15/200\n",
      "34/34 [==============================] - 0s 2ms/step - loss: 7310.6123 - mae: 7310.6123\n",
      "Epoch 16/200\n",
      "34/34 [==============================] - 0s 2ms/step - loss: 7287.4165 - mae: 7287.4165\n",
      "Epoch 17/200\n",
      "34/34 [==============================] - 0s 2ms/step - loss: 7266.4292 - mae: 7266.4292\n",
      "Epoch 18/200\n",
      "34/34 [==============================] - 0s 2ms/step - loss: 7241.9341 - mae: 7241.9341\n",
      "Epoch 19/200\n",
      "34/34 [==============================] - 0s 2ms/step - loss: 7218.2729 - mae: 7218.2729\n",
      "Epoch 20/200\n",
      "34/34 [==============================] - 0s 2ms/step - loss: 7193.4551 - mae: 7193.4551\n",
      "Epoch 21/200\n",
      "34/34 [==============================] - 0s 2ms/step - loss: 7173.8916 - mae: 7173.8916\n",
      "Epoch 22/200\n",
      "34/34 [==============================] - 0s 2ms/step - loss: 7144.0586 - mae: 7144.0586\n",
      "Epoch 23/200\n",
      "34/34 [==============================] - 0s 2ms/step - loss: 7117.3643 - mae: 7117.3643\n",
      "Epoch 24/200\n",
      "34/34 [==============================] - 0s 2ms/step - loss: 7090.8408 - mae: 7090.8408\n",
      "Epoch 25/200\n",
      "34/34 [==============================] - 0s 2ms/step - loss: 7069.8955 - mae: 7069.8955\n",
      "Epoch 26/200\n",
      "34/34 [==============================] - 0s 2ms/step - loss: 7037.2100 - mae: 7037.2100\n",
      "Epoch 27/200\n",
      "34/34 [==============================] - 0s 2ms/step - loss: 7006.6748 - mae: 7006.6748\n",
      "Epoch 28/200\n",
      "34/34 [==============================] - 0s 2ms/step - loss: 6976.2466 - mae: 6976.2466\n",
      "Epoch 29/200\n",
      "34/34 [==============================] - 0s 2ms/step - loss: 6945.6694 - mae: 6945.6694\n",
      "Epoch 30/200\n",
      "34/34 [==============================] - 0s 1ms/step - loss: 6915.7290 - mae: 6915.7290\n",
      "Epoch 31/200\n",
      "34/34 [==============================] - 0s 2ms/step - loss: 6882.9634 - mae: 6882.9634\n",
      "Epoch 32/200\n",
      "34/34 [==============================] - 0s 1ms/step - loss: 6851.7632 - mae: 6851.7632\n",
      "Epoch 33/200\n",
      "34/34 [==============================] - 0s 2ms/step - loss: 6817.8042 - mae: 6817.8042\n",
      "Epoch 34/200\n",
      "34/34 [==============================] - 0s 2ms/step - loss: 6785.2495 - mae: 6785.2495\n",
      "Epoch 35/200\n",
      "34/34 [==============================] - 0s 2ms/step - loss: 6747.0420 - mae: 6747.0420\n",
      "Epoch 36/200\n",
      "34/34 [==============================] - 0s 2ms/step - loss: 6711.0620 - mae: 6711.0620\n",
      "Epoch 37/200\n",
      "34/34 [==============================] - 0s 2ms/step - loss: 6673.2153 - mae: 6673.2153\n",
      "Epoch 38/200\n",
      "34/34 [==============================] - 0s 2ms/step - loss: 6642.9219 - mae: 6642.9219\n",
      "Epoch 39/200\n",
      "34/34 [==============================] - 0s 2ms/step - loss: 6603.0171 - mae: 6603.0171\n",
      "Epoch 40/200\n",
      "34/34 [==============================] - 0s 2ms/step - loss: 6570.7554 - mae: 6570.7554\n",
      "Epoch 41/200\n",
      "34/34 [==============================] - 0s 2ms/step - loss: 6543.6362 - mae: 6543.6362\n",
      "Epoch 42/200\n",
      "34/34 [==============================] - 0s 2ms/step - loss: 6521.9473 - mae: 6521.9473\n",
      "Epoch 43/200\n",
      "34/34 [==============================] - 0s 2ms/step - loss: 6499.5552 - mae: 6499.5552\n",
      "Epoch 44/200\n",
      "34/34 [==============================] - 0s 2ms/step - loss: 6479.6948 - mae: 6479.6948\n",
      "Epoch 45/200\n",
      "34/34 [==============================] - 0s 2ms/step - loss: 6470.9727 - mae: 6470.9727\n",
      "Epoch 46/200\n",
      "34/34 [==============================] - 0s 2ms/step - loss: 6454.2056 - mae: 6454.2056\n",
      "Epoch 47/200\n",
      "34/34 [==============================] - 0s 2ms/step - loss: 6438.8945 - mae: 6438.8945\n",
      "Epoch 48/200\n",
      "34/34 [==============================] - 0s 2ms/step - loss: 6424.1519 - mae: 6424.1519\n",
      "Epoch 49/200\n",
      "34/34 [==============================] - 0s 2ms/step - loss: 6412.7910 - mae: 6412.7910\n",
      "Epoch 50/200\n",
      "34/34 [==============================] - 0s 1ms/step - loss: 6398.3403 - mae: 6398.3403\n",
      "Epoch 51/200\n",
      "34/34 [==============================] - 0s 2ms/step - loss: 6384.6382 - mae: 6384.6382\n",
      "Epoch 52/200\n",
      "34/34 [==============================] - 0s 2ms/step - loss: 6372.0972 - mae: 6372.0972\n",
      "Epoch 53/200\n",
      "34/34 [==============================] - 0s 2ms/step - loss: 6357.4316 - mae: 6357.4316\n",
      "Epoch 54/200\n",
      "34/34 [==============================] - 0s 2ms/step - loss: 6343.6611 - mae: 6343.6611\n",
      "Epoch 55/200\n",
      "34/34 [==============================] - 0s 2ms/step - loss: 6329.8716 - mae: 6329.8716\n",
      "Epoch 56/200\n",
      "34/34 [==============================] - 0s 2ms/step - loss: 6315.3477 - mae: 6315.3477\n",
      "Epoch 57/200\n",
      "34/34 [==============================] - 0s 2ms/step - loss: 6301.6577 - mae: 6301.6577\n",
      "Epoch 58/200\n",
      "34/34 [==============================] - 0s 1ms/step - loss: 6288.1543 - mae: 6288.1543\n",
      "Epoch 59/200\n",
      "34/34 [==============================] - 0s 2ms/step - loss: 6271.6782 - mae: 6271.6782\n",
      "Epoch 60/200\n",
      "34/34 [==============================] - 0s 2ms/step - loss: 6260.2881 - mae: 6260.2881\n",
      "Epoch 61/200\n",
      "34/34 [==============================] - 0s 2ms/step - loss: 6240.1104 - mae: 6240.1104\n",
      "Epoch 62/200\n",
      "34/34 [==============================] - 0s 2ms/step - loss: 6227.5190 - mae: 6227.5190\n",
      "Epoch 63/200\n",
      "34/34 [==============================] - 0s 2ms/step - loss: 6208.4189 - mae: 6208.4189\n",
      "Epoch 64/200\n",
      "34/34 [==============================] - 0s 2ms/step - loss: 6190.4102 - mae: 6190.4102\n",
      "Epoch 65/200\n",
      "34/34 [==============================] - 0s 2ms/step - loss: 6172.5039 - mae: 6172.5039\n",
      "Epoch 66/200\n",
      "34/34 [==============================] - 0s 2ms/step - loss: 6154.5933 - mae: 6154.5933\n",
      "Epoch 67/200\n",
      "34/34 [==============================] - 0s 2ms/step - loss: 6141.7119 - mae: 6141.7119\n",
      "Epoch 68/200\n",
      "34/34 [==============================] - 0s 2ms/step - loss: 6118.6387 - mae: 6118.6387\n",
      "Epoch 69/200\n",
      "34/34 [==============================] - 0s 2ms/step - loss: 6100.7026 - mae: 6100.7026\n",
      "Epoch 70/200\n",
      "34/34 [==============================] - 0s 2ms/step - loss: 6079.6743 - mae: 6079.6743\n",
      "Epoch 71/200\n",
      "34/34 [==============================] - 0s 2ms/step - loss: 6058.7563 - mae: 6058.7563\n",
      "Epoch 72/200\n",
      "34/34 [==============================] - 0s 2ms/step - loss: 6038.2051 - mae: 6038.2051\n",
      "Epoch 73/200\n",
      "34/34 [==============================] - 0s 2ms/step - loss: 6022.7217 - mae: 6022.7217\n",
      "Epoch 74/200\n",
      "34/34 [==============================] - 0s 2ms/step - loss: 5992.6440 - mae: 5992.6440\n",
      "Epoch 75/200\n",
      "34/34 [==============================] - 0s 2ms/step - loss: 5970.3940 - mae: 5970.3940\n",
      "Epoch 76/200\n",
      "34/34 [==============================] - 0s 2ms/step - loss: 5954.0044 - mae: 5954.0044\n",
      "Epoch 77/200\n",
      "34/34 [==============================] - 0s 2ms/step - loss: 5920.7266 - mae: 5920.7266\n",
      "Epoch 78/200\n",
      "34/34 [==============================] - 0s 2ms/step - loss: 5895.4771 - mae: 5895.4771\n",
      "Epoch 79/200\n",
      "34/34 [==============================] - 0s 2ms/step - loss: 5869.1650 - mae: 5869.1650\n",
      "Epoch 80/200\n",
      "34/34 [==============================] - 0s 2ms/step - loss: 5839.5239 - mae: 5839.5239\n",
      "Epoch 81/200\n",
      "34/34 [==============================] - 0s 2ms/step - loss: 5812.9048 - mae: 5812.9048\n",
      "Epoch 82/200\n"
     ]
    },
    {
     "name": "stdout",
     "output_type": "stream",
     "text": [
      "34/34 [==============================] - 0s 2ms/step - loss: 5781.3208 - mae: 5781.3208\n",
      "Epoch 83/200\n",
      "34/34 [==============================] - 0s 2ms/step - loss: 5751.4741 - mae: 5751.4741\n",
      "Epoch 84/200\n",
      "34/34 [==============================] - 0s 2ms/step - loss: 5716.3857 - mae: 5716.3857\n",
      "Epoch 85/200\n",
      "34/34 [==============================] - 0s 1ms/step - loss: 5688.1084 - mae: 5688.1084\n",
      "Epoch 86/200\n",
      "34/34 [==============================] - 0s 2ms/step - loss: 5651.7427 - mae: 5651.7427\n",
      "Epoch 87/200\n",
      "34/34 [==============================] - 0s 2ms/step - loss: 5612.6567 - mae: 5612.6567\n",
      "Epoch 88/200\n",
      "34/34 [==============================] - 0s 2ms/step - loss: 5574.6436 - mae: 5574.6436\n",
      "Epoch 89/200\n",
      "34/34 [==============================] - 0s 2ms/step - loss: 5532.0610 - mae: 5532.0610\n",
      "Epoch 90/200\n",
      "34/34 [==============================] - 0s 2ms/step - loss: 5486.9658 - mae: 5486.9658\n",
      "Epoch 91/200\n",
      "34/34 [==============================] - 0s 1ms/step - loss: 5447.7607 - mae: 5447.7607\n",
      "Epoch 92/200\n",
      "34/34 [==============================] - 0s 2ms/step - loss: 5396.4995 - mae: 5396.4995\n",
      "Epoch 93/200\n",
      "34/34 [==============================] - 0s 2ms/step - loss: 5350.1738 - mae: 5350.1738\n",
      "Epoch 94/200\n",
      "34/34 [==============================] - 0s 2ms/step - loss: 5300.2705 - mae: 5300.2705\n",
      "Epoch 95/200\n",
      "34/34 [==============================] - 0s 3ms/step - loss: 5245.2437 - mae: 5245.2437\n",
      "Epoch 96/200\n",
      "34/34 [==============================] - 0s 2ms/step - loss: 5196.4800 - mae: 5196.4800\n",
      "Epoch 97/200\n",
      "34/34 [==============================] - 0s 2ms/step - loss: 5140.7090 - mae: 5140.7090\n",
      "Epoch 98/200\n",
      "34/34 [==============================] - 0s 2ms/step - loss: 5073.3311 - mae: 5073.3311\n",
      "Epoch 99/200\n",
      "34/34 [==============================] - 0s 2ms/step - loss: 5009.6816 - mae: 5009.6816\n",
      "Epoch 100/200\n",
      "34/34 [==============================] - 0s 2ms/step - loss: 4952.7295 - mae: 4952.7295\n",
      "Epoch 101/200\n",
      "34/34 [==============================] - 0s 2ms/step - loss: 4875.7227 - mae: 4875.7227\n",
      "Epoch 102/200\n",
      "34/34 [==============================] - 0s 2ms/step - loss: 4798.1992 - mae: 4798.1992\n",
      "Epoch 103/200\n",
      "34/34 [==============================] - 0s 2ms/step - loss: 4726.2158 - mae: 4726.2158\n",
      "Epoch 104/200\n",
      "34/34 [==============================] - 0s 2ms/step - loss: 4642.4878 - mae: 4642.4878\n",
      "Epoch 105/200\n",
      "34/34 [==============================] - 0s 2ms/step - loss: 4552.3643 - mae: 4552.3643\n",
      "Epoch 106/200\n",
      "34/34 [==============================] - 0s 2ms/step - loss: 4468.3398 - mae: 4468.3398\n",
      "Epoch 107/200\n",
      "34/34 [==============================] - 0s 2ms/step - loss: 4387.2256 - mae: 4387.2256\n",
      "Epoch 108/200\n",
      "34/34 [==============================] - 0s 2ms/step - loss: 4301.2896 - mae: 4301.2896\n",
      "Epoch 109/200\n",
      "34/34 [==============================] - 0s 2ms/step - loss: 4219.7241 - mae: 4219.7241\n",
      "Epoch 110/200\n",
      "34/34 [==============================] - 0s 2ms/step - loss: 4140.8789 - mae: 4140.8789\n",
      "Epoch 111/200\n",
      "34/34 [==============================] - 0s 2ms/step - loss: 4074.0327 - mae: 4074.0327\n",
      "Epoch 112/200\n",
      "34/34 [==============================] - 0s 2ms/step - loss: 4013.2500 - mae: 4013.2500\n",
      "Epoch 113/200\n",
      "34/34 [==============================] - 0s 2ms/step - loss: 3970.0247 - mae: 3970.0247\n",
      "Epoch 114/200\n",
      "34/34 [==============================] - 0s 2ms/step - loss: 3941.2192 - mae: 3941.2192\n",
      "Epoch 115/200\n",
      "34/34 [==============================] - 0s 3ms/step - loss: 3899.3794 - mae: 3899.3794\n",
      "Epoch 116/200\n",
      "34/34 [==============================] - 0s 2ms/step - loss: 3888.3259 - mae: 3888.3259\n",
      "Epoch 117/200\n",
      "34/34 [==============================] - 0s 2ms/step - loss: 3873.9067 - mae: 3873.9067\n",
      "Epoch 118/200\n",
      "34/34 [==============================] - 0s 2ms/step - loss: 3856.8831 - mae: 3856.8831\n",
      "Epoch 119/200\n",
      "34/34 [==============================] - 0s 2ms/step - loss: 3839.8857 - mae: 3839.8857\n",
      "Epoch 120/200\n",
      "34/34 [==============================] - 0s 2ms/step - loss: 3826.5605 - mae: 3826.5605\n",
      "Epoch 121/200\n",
      "34/34 [==============================] - 0s 2ms/step - loss: 3817.1768 - mae: 3817.1768\n",
      "Epoch 122/200\n",
      "34/34 [==============================] - 0s 2ms/step - loss: 3814.1360 - mae: 3814.1360\n",
      "Epoch 123/200\n",
      "34/34 [==============================] - 0s 2ms/step - loss: 3807.1052 - mae: 3807.1052\n",
      "Epoch 124/200\n",
      "34/34 [==============================] - 0s 2ms/step - loss: 3800.3601 - mae: 3800.3601\n",
      "Epoch 125/200\n",
      "34/34 [==============================] - 0s 2ms/step - loss: 3790.4919 - mae: 3790.4919\n",
      "Epoch 126/200\n",
      "34/34 [==============================] - 0s 2ms/step - loss: 3799.1199 - mae: 3799.1199\n",
      "Epoch 127/200\n",
      "34/34 [==============================] - 0s 2ms/step - loss: 3794.4321 - mae: 3794.4321\n",
      "Epoch 128/200\n",
      "34/34 [==============================] - 0s 2ms/step - loss: 3789.3657 - mae: 3789.3657\n",
      "Epoch 129/200\n",
      "34/34 [==============================] - 0s 2ms/step - loss: 3798.1462 - mae: 3798.1462\n",
      "Epoch 130/200\n",
      "34/34 [==============================] - 0s 2ms/step - loss: 3789.4895 - mae: 3789.4895\n",
      "Epoch 131/200\n",
      "34/34 [==============================] - 0s 2ms/step - loss: 3779.4854 - mae: 3779.4854\n",
      "Epoch 132/200\n",
      "34/34 [==============================] - 0s 2ms/step - loss: 3773.5872 - mae: 3773.5872\n",
      "Epoch 133/200\n",
      "34/34 [==============================] - 0s 2ms/step - loss: 3768.8083 - mae: 3768.8083\n",
      "Epoch 134/200\n",
      "34/34 [==============================] - 0s 2ms/step - loss: 3769.1272 - mae: 3769.1272\n",
      "Epoch 135/200\n",
      "34/34 [==============================] - 0s 2ms/step - loss: 3765.2148 - mae: 3765.2148\n",
      "Epoch 136/200\n",
      "34/34 [==============================] - 0s 2ms/step - loss: 3764.2227 - mae: 3764.2227\n",
      "Epoch 137/200\n",
      "34/34 [==============================] - 0s 1ms/step - loss: 3772.2441 - mae: 3772.2441\n",
      "Epoch 138/200\n",
      "34/34 [==============================] - 0s 2ms/step - loss: 3781.5144 - mae: 3781.5144\n",
      "Epoch 139/200\n",
      "34/34 [==============================] - 0s 2ms/step - loss: 3759.7498 - mae: 3759.7498\n",
      "Epoch 140/200\n",
      "34/34 [==============================] - 0s 2ms/step - loss: 3761.5410 - mae: 3761.5410\n",
      "Epoch 141/200\n",
      "34/34 [==============================] - 0s 2ms/step - loss: 3763.0332 - mae: 3763.0332\n",
      "Epoch 142/200\n",
      "34/34 [==============================] - 0s 2ms/step - loss: 3764.1345 - mae: 3764.1345\n",
      "Epoch 143/200\n",
      "34/34 [==============================] - 0s 2ms/step - loss: 3752.7661 - mae: 3752.7661\n",
      "Epoch 144/200\n",
      "34/34 [==============================] - 0s 2ms/step - loss: 3749.3823 - mae: 3749.3823\n",
      "Epoch 145/200\n",
      "34/34 [==============================] - 0s 2ms/step - loss: 3749.3372 - mae: 3749.3372\n",
      "Epoch 146/200\n",
      "34/34 [==============================] - 0s 2ms/step - loss: 3753.8679 - mae: 3753.8679\n",
      "Epoch 147/200\n",
      "34/34 [==============================] - 0s 2ms/step - loss: 3750.2942 - mae: 3750.2942\n",
      "Epoch 148/200\n",
      "34/34 [==============================] - 0s 2ms/step - loss: 3754.9746 - mae: 3754.9746\n",
      "Epoch 149/200\n",
      "34/34 [==============================] - 0s 2ms/step - loss: 3742.2363 - mae: 3742.2363\n",
      "Epoch 150/200\n",
      "34/34 [==============================] - 0s 2ms/step - loss: 3737.0237 - mae: 3737.0237\n",
      "Epoch 151/200\n",
      "34/34 [==============================] - 0s 2ms/step - loss: 3740.2327 - mae: 3740.2327\n",
      "Epoch 152/200\n",
      "34/34 [==============================] - 0s 2ms/step - loss: 3741.5676 - mae: 3741.5676\n",
      "Epoch 153/200\n",
      "34/34 [==============================] - 0s 2ms/step - loss: 3742.8694 - mae: 3742.8694\n",
      "Epoch 154/200\n",
      "34/34 [==============================] - 0s 2ms/step - loss: 3736.0288 - mae: 3736.0288\n",
      "Epoch 155/200\n",
      "34/34 [==============================] - 0s 2ms/step - loss: 3738.7896 - mae: 3738.7896\n",
      "Epoch 156/200\n",
      "34/34 [==============================] - 0s 2ms/step - loss: 3736.1165 - mae: 3736.1165\n",
      "Epoch 157/200\n",
      "34/34 [==============================] - 0s 2ms/step - loss: 3732.5732 - mae: 3732.5732\n",
      "Epoch 158/200\n",
      "34/34 [==============================] - 0s 2ms/step - loss: 3728.5276 - mae: 3728.5276\n",
      "Epoch 159/200\n",
      "34/34 [==============================] - 0s 2ms/step - loss: 3725.3115 - mae: 3725.3115\n",
      "Epoch 160/200\n",
      "34/34 [==============================] - 0s 2ms/step - loss: 3732.2053 - mae: 3732.2053\n",
      "Epoch 161/200\n",
      "34/34 [==============================] - 0s 2ms/step - loss: 3727.3701 - mae: 3727.3701\n",
      "Epoch 162/200\n"
     ]
    },
    {
     "name": "stdout",
     "output_type": "stream",
     "text": [
      "34/34 [==============================] - 0s 2ms/step - loss: 3723.7288 - mae: 3723.7288\n",
      "Epoch 163/200\n",
      "34/34 [==============================] - 0s 2ms/step - loss: 3720.8047 - mae: 3720.8047\n",
      "Epoch 164/200\n",
      "34/34 [==============================] - 0s 2ms/step - loss: 3726.3872 - mae: 3726.3872\n",
      "Epoch 165/200\n",
      "34/34 [==============================] - 0s 2ms/step - loss: 3715.5720 - mae: 3715.5720\n",
      "Epoch 166/200\n",
      "34/34 [==============================] - 0s 2ms/step - loss: 3721.4331 - mae: 3721.4331\n",
      "Epoch 167/200\n",
      "34/34 [==============================] - 0s 2ms/step - loss: 3719.6218 - mae: 3719.6218\n",
      "Epoch 168/200\n",
      "34/34 [==============================] - 0s 2ms/step - loss: 3714.1365 - mae: 3714.1365\n",
      "Epoch 169/200\n",
      "34/34 [==============================] - 0s 1ms/step - loss: 3712.4836 - mae: 3712.4836\n",
      "Epoch 170/200\n",
      "34/34 [==============================] - 0s 1ms/step - loss: 3707.1658 - mae: 3707.1658\n",
      "Epoch 171/200\n",
      "34/34 [==============================] - 0s 2ms/step - loss: 3706.8245 - mae: 3706.8245\n",
      "Epoch 172/200\n",
      "34/34 [==============================] - 0s 2ms/step - loss: 3707.9976 - mae: 3707.9976\n",
      "Epoch 173/200\n",
      "34/34 [==============================] - 0s 2ms/step - loss: 3705.2109 - mae: 3705.2109\n",
      "Epoch 174/200\n",
      "34/34 [==============================] - 0s 2ms/step - loss: 3709.4895 - mae: 3709.4895\n",
      "Epoch 175/200\n",
      "34/34 [==============================] - 0s 1ms/step - loss: 3709.6919 - mae: 3709.6919\n",
      "Epoch 176/200\n",
      "34/34 [==============================] - 0s 2ms/step - loss: 3705.3943 - mae: 3705.3943\n",
      "Epoch 177/200\n",
      "34/34 [==============================] - 0s 1ms/step - loss: 3699.8428 - mae: 3699.8428\n",
      "Epoch 178/200\n",
      "34/34 [==============================] - 0s 2ms/step - loss: 3696.6467 - mae: 3696.6467\n",
      "Epoch 179/200\n",
      "34/34 [==============================] - 0s 1ms/step - loss: 3706.6531 - mae: 3706.6531\n",
      "Epoch 180/200\n",
      "34/34 [==============================] - 0s 2ms/step - loss: 3711.1365 - mae: 3711.1365\n",
      "Epoch 181/200\n",
      "34/34 [==============================] - 0s 1ms/step - loss: 3695.6294 - mae: 3695.6294\n",
      "Epoch 182/200\n",
      "34/34 [==============================] - 0s 1ms/step - loss: 3692.5479 - mae: 3692.5479\n",
      "Epoch 183/200\n",
      "34/34 [==============================] - 0s 1ms/step - loss: 3690.7473 - mae: 3690.7473\n",
      "Epoch 184/200\n",
      "34/34 [==============================] - 0s 2ms/step - loss: 3698.2312 - mae: 3698.2312\n",
      "Epoch 185/200\n",
      "34/34 [==============================] - 0s 2ms/step - loss: 3694.7827 - mae: 3694.7827\n",
      "Epoch 186/200\n",
      "34/34 [==============================] - 0s 1ms/step - loss: 3695.8279 - mae: 3695.8279\n",
      "Epoch 187/200\n",
      "34/34 [==============================] - 0s 1ms/step - loss: 3686.2886 - mae: 3686.2886\n",
      "Epoch 188/200\n",
      "34/34 [==============================] - 0s 1ms/step - loss: 3691.8564 - mae: 3691.8564\n",
      "Epoch 189/200\n",
      "34/34 [==============================] - 0s 1ms/step - loss: 3682.4485 - mae: 3682.4485\n",
      "Epoch 190/200\n",
      "34/34 [==============================] - 0s 1ms/step - loss: 3682.6877 - mae: 3682.6877\n",
      "Epoch 191/200\n",
      "34/34 [==============================] - 0s 1ms/step - loss: 3700.8999 - mae: 3700.8999\n",
      "Epoch 192/200\n",
      "34/34 [==============================] - 0s 2ms/step - loss: 3684.6060 - mae: 3684.6060\n",
      "Epoch 193/200\n",
      "34/34 [==============================] - 0s 3ms/step - loss: 3675.2092 - mae: 3675.2092\n",
      "Epoch 194/200\n",
      "34/34 [==============================] - 0s 3ms/step - loss: 3675.2866 - mae: 3675.2866\n",
      "Epoch 195/200\n",
      "34/34 [==============================] - 0s 3ms/step - loss: 3672.9751 - mae: 3672.9751\n",
      "Epoch 196/200\n",
      "34/34 [==============================] - 0s 2ms/step - loss: 3681.7788 - mae: 3681.7788\n",
      "Epoch 197/200\n",
      "34/34 [==============================] - 0s 2ms/step - loss: 3665.9104 - mae: 3665.9104\n",
      "Epoch 198/200\n",
      "34/34 [==============================] - 0s 2ms/step - loss: 3671.3918 - mae: 3671.3918\n",
      "Epoch 199/200\n",
      "34/34 [==============================] - 0s 2ms/step - loss: 3679.7615 - mae: 3679.7615\n",
      "Epoch 200/200\n",
      "34/34 [==============================] - 0s 2ms/step - loss: 3667.5461 - mae: 3667.5461\n"
     ]
    }
   ],
   "source": [
    "# 2nd experiment : train longer on the model of the 1st experiment\n",
    "\n",
    "# Set random seed\n",
    "tf.random.set_seed(42)\n",
    "\n",
    "# 1. Create the model\n",
    "insurance_model_3 = tf.keras.Sequential([\n",
    "    tf.keras.layers.Dense(100),\n",
    "    tf.keras.layers.Dense(10),\n",
    "    tf.keras.layers.Dense(1),\n",
    "])\n",
    "\n",
    "# 2. Compile the model\n",
    "insurance_model_3.compile(loss=tf.keras.losses.mae,\n",
    "                         optimizer=tf.keras.optimizers.Adam(),\n",
    "                         metrics=[\"mae\"])\n",
    "\n",
    "# 3. Fit the model\n",
    "history = insurance_model_3.fit(X_train, y_train, epochs=200, verbose=1)"
   ]
  },
  {
   "cell_type": "markdown",
   "id": "8b0af912",
   "metadata": {},
   "source": [
    "The loss in training is now 3658.0659, an improvement"
   ]
  },
  {
   "cell_type": "code",
   "execution_count": 100,
   "id": "a5861cc6",
   "metadata": {},
   "outputs": [
    {
     "name": "stdout",
     "output_type": "stream",
     "text": [
      "9/9 [==============================] - 0s 2ms/step - loss: 3491.5759 - mae: 3491.5759\n"
     ]
    },
    {
     "data": {
      "text/plain": [
       "[3491.575927734375, 3491.575927734375]"
      ]
     },
     "execution_count": 100,
     "metadata": {},
     "output_type": "execute_result"
    }
   ],
   "source": [
    "# Evaluate the third model\n",
    "insurance_model_3.evaluate(X_test, y_test)"
   ]
  },
  {
   "cell_type": "code",
   "execution_count": 101,
   "id": "4ce164c3",
   "metadata": {},
   "outputs": [
    {
     "name": "stdout",
     "output_type": "stream",
     "text": [
      "9/9 [==============================] - 0s 2ms/step - loss: 4908.3740 - mae: 4908.3740\n"
     ]
    },
    {
     "data": {
      "text/plain": [
       "[4908.3740234375, 4908.3740234375]"
      ]
     },
     "execution_count": 101,
     "metadata": {},
     "output_type": "execute_result"
    }
   ],
   "source": [
    "# Evaluate the 2nd model\n",
    "insurance_model_2.evaluate(X_test, y_test)"
   ]
  },
  {
   "cell_type": "code",
   "execution_count": 102,
   "id": "eb2403ff",
   "metadata": {},
   "outputs": [
    {
     "name": "stdout",
     "output_type": "stream",
     "text": [
      "9/9 [==============================] - 0s 2ms/step - loss: 8807.8662 - mae: 8807.8662\n"
     ]
    },
    {
     "data": {
      "text/plain": [
       "[8807.8662109375, 8807.8662109375]"
      ]
     },
     "execution_count": 102,
     "metadata": {},
     "output_type": "execute_result"
    }
   ],
   "source": [
    "# Evaluate the 1st model\n",
    "insurance_model.evaluate(X_test, y_test)"
   ]
  },
  {
   "cell_type": "markdown",
   "id": "785e742c",
   "metadata": {},
   "source": [
    "The 3rd model is performing better than the previous ones."
   ]
  },
  {
   "cell_type": "code",
   "execution_count": null,
   "id": "4921f492",
   "metadata": {},
   "outputs": [],
   "source": []
  },
  {
   "cell_type": "markdown",
   "id": "8202c718",
   "metadata": {},
   "source": [
    "Now we will plot the **`history`** (also known as a **`loss curve`** or a **`training curve`**)"
   ]
  },
  {
   "cell_type": "code",
   "execution_count": 103,
   "id": "8a0a5afc",
   "metadata": {},
   "outputs": [
    {
     "data": {
      "image/png": "[encoded data removed]",
      "text/plain": [
       "<Figure size 432x288 with 1 Axes>"
      ]
     },
     "metadata": {
      "needs_background": "light"
     },
     "output_type": "display_data"
    }
   ],
   "source": [
    "# Plot history\n",
    "history_df = pd.DataFrame(history.history)\n",
    "history_df.plot(kind=\"line\",y=\"loss\")\n",
    "plt.ylabel(\"Loss\")\n",
    "plt.xlabel(\"Epochs\");"
   ]
  },
  {
   "cell_type": "markdown",
   "id": "e3fc474f",
   "metadata": {},
   "source": [
    "Looking at the plot, the decrease in the loss is originally steep until the models to train to around 110 epochs; from here, the decrease in the loss is small."
   ]
  },
  {
   "cell_type": "markdown",
   "id": "ddaa91ac",
   "metadata": {},
   "source": [
    "> 🤔 **Question:** How long should we train for ? <br/>\n",
    "> 🫢 **Answer:** It depends.\n",
    "\n",
    "The duration of the training depends on the problem we are working on.         \n",
    "However, many people have asked this question before, so TensorFlow has a solution: the [**EarlyStopping Callback**](https://www.tensorflow.org/api_docs/python/tf/keras/callbacks/EarlyStopping). It is a TensorFlow component we can add to a model to stop training once it stops improving a certain metric. For example, in our insurance_model_3, if we wanted to train it for 1000 epochs, we could want our model to stop training once its loss stops decreasing for say, 03, 05, or 10 epochs in a row, which means our model stopped improving."
   ]
  },
  {
   "cell_type": "code",
   "execution_count": 104,
   "id": "3dd6f9ba",
   "metadata": {},
   "outputs": [],
   "source": [
    "# dir(history)"
   ]
  },
  {
   "cell_type": "code",
   "execution_count": 105,
   "id": "11f52b8e",
   "metadata": {},
   "outputs": [
    {
     "data": {
      "text/html": [
       "<div>\n",
       "<style scoped>\n",
       "    .dataframe tbody tr th:only-of-type {\n",
       "        vertical-align: middle;\n",
       "    }\n",
       "\n",
       "    .dataframe tbody tr th {\n",
       "        vertical-align: top;\n",
       "    }\n",
       "\n",
       "    .dataframe thead th {\n",
       "        text-align: right;\n",
       "    }\n",
       "</style>\n",
       "<table border=\"1\" class=\"dataframe\">\n",
       "  <thead>\n",
       "    <tr style=\"text-align: right;\">\n",
       "      <th></th>\n",
       "      <th>loss</th>\n",
       "      <th>mae</th>\n",
       "    </tr>\n",
       "  </thead>\n",
       "  <tbody>\n",
       "    <tr>\n",
       "      <th>0</th>\n",
       "      <td>13304.804688</td>\n",
       "      <td>13304.804688</td>\n",
       "    </tr>\n",
       "    <tr>\n",
       "      <th>1</th>\n",
       "      <td>13141.318359</td>\n",
       "      <td>13141.318359</td>\n",
       "    </tr>\n",
       "    <tr>\n",
       "      <th>2</th>\n",
       "      <td>12802.428711</td>\n",
       "      <td>12802.428711</td>\n",
       "    </tr>\n",
       "    <tr>\n",
       "      <th>3</th>\n",
       "      <td>12135.000977</td>\n",
       "      <td>12135.000977</td>\n",
       "    </tr>\n",
       "    <tr>\n",
       "      <th>4</th>\n",
       "      <td>11012.094727</td>\n",
       "      <td>11012.094727</td>\n",
       "    </tr>\n",
       "    <tr>\n",
       "      <th>...</th>\n",
       "      <td>...</td>\n",
       "      <td>...</td>\n",
       "    </tr>\n",
       "    <tr>\n",
       "      <th>195</th>\n",
       "      <td>3681.778809</td>\n",
       "      <td>3681.778809</td>\n",
       "    </tr>\n",
       "    <tr>\n",
       "      <th>196</th>\n",
       "      <td>3665.910400</td>\n",
       "      <td>3665.910400</td>\n",
       "    </tr>\n",
       "    <tr>\n",
       "      <th>197</th>\n",
       "      <td>3671.391846</td>\n",
       "      <td>3671.391846</td>\n",
       "    </tr>\n",
       "    <tr>\n",
       "      <th>198</th>\n",
       "      <td>3679.761475</td>\n",
       "      <td>3679.761475</td>\n",
       "    </tr>\n",
       "    <tr>\n",
       "      <th>199</th>\n",
       "      <td>3667.546143</td>\n",
       "      <td>3667.546143</td>\n",
       "    </tr>\n",
       "  </tbody>\n",
       "</table>\n",
       "<p>200 rows × 2 columns</p>\n",
       "</div>"
      ],
      "text/plain": [
       "             loss           mae\n",
       "0    13304.804688  13304.804688\n",
       "1    13141.318359  13141.318359\n",
       "2    12802.428711  12802.428711\n",
       "3    12135.000977  12135.000977\n",
       "4    11012.094727  11012.094727\n",
       "..            ...           ...\n",
       "195   3681.778809   3681.778809\n",
       "196   3665.910400   3665.910400\n",
       "197   3671.391846   3671.391846\n",
       "198   3679.761475   3679.761475\n",
       "199   3667.546143   3667.546143\n",
       "\n",
       "[200 rows x 2 columns]"
      ]
     },
     "execution_count": 105,
     "metadata": {},
     "output_type": "execute_result"
    }
   ],
   "source": [
    "# Taking a look at history_df\n",
    "history_df"
   ]
  },
  {
   "cell_type": "code",
   "execution_count": null,
   "id": "d5a9bf6e",
   "metadata": {},
   "outputs": [],
   "source": []
  },
  {
   "cell_type": "markdown",
   "id": "265edbb2",
   "metadata": {},
   "source": [
    "## Preprocessing data: normalization and standardization\n",
    "\n",
    "**Normalization**: Normalization is a technique often applied as part of data preparation for machine learning. The goal of normalization is to change the values of numeric columns in the dataset to use a common scale, without distorting differences in the ranges of values or losing information. [Read more about Normalization...](https://learn.microsoft.com/en-us/azure/machine-learning/component-reference/normalize-data)   \n",
    "\n",
    "\n",
    "Note: `Normalize` can be used to mean either Standardize or Rescale; in the above definition, it stands for Rescale.\n",
    "\n",
    "\n",
    "In terms of scaling values, neural networks tend to prefer normalization to standardization. If one is not sure on which to use, it is okay to try both and see which performs better.\n",
    "\n",
    "📖 : [Scale, Standardize, or Normalize with Scikit-Learn: When to use MinMaxScaler, RobustScaler, StandardScaler, and Normalizer, by Jeff Hale](https://towardsdatascience.com/scale-standardize-or-normalize-with-scikit-learn-6ccc7d176a02)"
   ]
  },
  {
   "cell_type": "markdown",
   "id": "6389b900",
   "metadata": {},
   "source": []
  },
  {
   "cell_type": "markdown",
   "id": "0cfb2726",
   "metadata": {},
   "source": [
    "Based on what we learned so far, we will restart our model building process."
   ]
  },
  {
   "cell_type": "code",
   "execution_count": 106,
   "id": "78fc8818",
   "metadata": {},
   "outputs": [
    {
     "data": {
      "text/html": [
       "<div>\n",
       "<style scoped>\n",
       "    .dataframe tbody tr th:only-of-type {\n",
       "        vertical-align: middle;\n",
       "    }\n",
       "\n",
       "    .dataframe tbody tr th {\n",
       "        vertical-align: top;\n",
       "    }\n",
       "\n",
       "    .dataframe thead th {\n",
       "        text-align: right;\n",
       "    }\n",
       "</style>\n",
       "<table border=\"1\" class=\"dataframe\">\n",
       "  <thead>\n",
       "    <tr style=\"text-align: right;\">\n",
       "      <th></th>\n",
       "      <th>age</th>\n",
       "      <th>sex</th>\n",
       "      <th>bmi</th>\n",
       "      <th>children</th>\n",
       "      <th>smoker</th>\n",
       "      <th>region</th>\n",
       "      <th>charges</th>\n",
       "    </tr>\n",
       "  </thead>\n",
       "  <tbody>\n",
       "    <tr>\n",
       "      <th>0</th>\n",
       "      <td>19</td>\n",
       "      <td>female</td>\n",
       "      <td>27.900</td>\n",
       "      <td>0</td>\n",
       "      <td>yes</td>\n",
       "      <td>southwest</td>\n",
       "      <td>16884.92400</td>\n",
       "    </tr>\n",
       "    <tr>\n",
       "      <th>1</th>\n",
       "      <td>18</td>\n",
       "      <td>male</td>\n",
       "      <td>33.770</td>\n",
       "      <td>1</td>\n",
       "      <td>no</td>\n",
       "      <td>southeast</td>\n",
       "      <td>1725.55230</td>\n",
       "    </tr>\n",
       "    <tr>\n",
       "      <th>2</th>\n",
       "      <td>28</td>\n",
       "      <td>male</td>\n",
       "      <td>33.000</td>\n",
       "      <td>3</td>\n",
       "      <td>no</td>\n",
       "      <td>southeast</td>\n",
       "      <td>4449.46200</td>\n",
       "    </tr>\n",
       "    <tr>\n",
       "      <th>3</th>\n",
       "      <td>33</td>\n",
       "      <td>male</td>\n",
       "      <td>22.705</td>\n",
       "      <td>0</td>\n",
       "      <td>no</td>\n",
       "      <td>northwest</td>\n",
       "      <td>21984.47061</td>\n",
       "    </tr>\n",
       "    <tr>\n",
       "      <th>4</th>\n",
       "      <td>32</td>\n",
       "      <td>male</td>\n",
       "      <td>28.880</td>\n",
       "      <td>0</td>\n",
       "      <td>no</td>\n",
       "      <td>northwest</td>\n",
       "      <td>3866.85520</td>\n",
       "    </tr>\n",
       "  </tbody>\n",
       "</table>\n",
       "</div>"
      ],
      "text/plain": [
       "   age     sex     bmi  children smoker     region      charges\n",
       "0   19  female  27.900         0    yes  southwest  16884.92400\n",
       "1   18    male  33.770         1     no  southeast   1725.55230\n",
       "2   28    male  33.000         3     no  southeast   4449.46200\n",
       "3   33    male  22.705         0     no  northwest  21984.47061\n",
       "4   32    male  28.880         0     no  northwest   3866.85520"
      ]
     },
     "execution_count": 106,
     "metadata": {},
     "output_type": "execute_result"
    }
   ],
   "source": [
    "insurance_df = pd.read_csv(\"data/insurance.csv\")\n",
    "insurance_df.head()"
   ]
  },
  {
   "cell_type": "code",
   "execution_count": 107,
   "id": "9aeaf6bb",
   "metadata": {},
   "outputs": [
    {
     "data": {
      "text/plain": [
       "(1338, 7)"
      ]
     },
     "execution_count": 107,
     "metadata": {},
     "output_type": "execute_result"
    }
   ],
   "source": [
    "insurance_df.shape"
   ]
  },
  {
   "cell_type": "code",
   "execution_count": 108,
   "id": "16487fee",
   "metadata": {},
   "outputs": [
    {
     "name": "stdout",
     "output_type": "stream",
     "text": [
      "<class 'pandas.core.frame.DataFrame'>\n",
      "RangeIndex: 1338 entries, 0 to 1337\n",
      "Data columns (total 7 columns):\n",
      " #   Column    Non-Null Count  Dtype  \n",
      "---  ------    --------------  -----  \n",
      " 0   age       1338 non-null   int64  \n",
      " 1   sex       1338 non-null   object \n",
      " 2   bmi       1338 non-null   float64\n",
      " 3   children  1338 non-null   int64  \n",
      " 4   smoker    1338 non-null   object \n",
      " 5   region    1338 non-null   object \n",
      " 6   charges   1338 non-null   float64\n",
      "dtypes: float64(2), int64(2), object(3)\n",
      "memory usage: 73.3+ KB\n"
     ]
    }
   ],
   "source": [
    "insurance_df.info()"
   ]
  },
  {
   "cell_type": "code",
   "execution_count": null,
   "id": "a5c5ff5e",
   "metadata": {},
   "outputs": [],
   "source": []
  },
  {
   "cell_type": "markdown",
   "id": "e7c97b25",
   "metadata": {},
   "source": [
    "We are going to build a neural network to learn on the features once they have been normalized."
   ]
  },
  {
   "cell_type": "markdown",
   "id": "468cac0f",
   "metadata": {},
   "source": [
    "**Note**: `Column transformer` is a tool in Scikit-Learn that allows to build a pipeline to preprocess data before passing it to the model"
   ]
  },
  {
   "cell_type": "code",
   "execution_count": 109,
   "id": "2e681ff7",
   "metadata": {},
   "outputs": [],
   "source": [
    "# Create a column transformer\n",
    "column_transformer = make_column_transformer(\n",
    "    (MinMaxScaler(),[\"age\",\"bmi\",\"children\"]), # The features indicated in the list are those that will be rescaled at this stage of the preprocessing\n",
    "    (OneHotEncoder(handle_unknown=\"ignore\"), [\"sex\",\"smoker\",\"region\"]), # handle_unknown=\"ignore\" will make the OneHotEncoder() ignore any column it doesn't know about\n",
    ")\n",
    "\n",
    "# Create X and y values\n",
    "X = insurance_df.drop(\"charges\",axis=1)\n",
    "y = insurance_df.loc[:,\"charges\"]\n",
    "\n",
    "# Build train and test sets\n",
    "X_train, X_test, y_train, y_test = train_test_split(X, y, test_size=.2, random_state=42)"
   ]
  },
  {
   "cell_type": "markdown",
   "id": "73516483",
   "metadata": {},
   "source": [
    "Now we will fit the column transformer to the training data. Whenever we have a column transformer, we need to fit it the training data and then use that fit column transformer to transform the test data."
   ]
  },
  {
   "cell_type": "code",
   "execution_count": 110,
   "id": "32ee3a63",
   "metadata": {},
   "outputs": [
    {
     "data": {
      "text/plain": [
       "ColumnTransformer(transformers=[('minmaxscaler', MinMaxScaler(),\n",
       "                                 ['age', 'bmi', 'children']),\n",
       "                                ('onehotencoder',\n",
       "                                 OneHotEncoder(handle_unknown='ignore'),\n",
       "                                 ['sex', 'smoker', 'region'])])"
      ]
     },
     "execution_count": 110,
     "metadata": {},
     "output_type": "execute_result"
    }
   ],
   "source": [
    "# Fit the column transformer to the training data\n",
    "column_transformer.fit(X_train)"
   ]
  },
  {
   "cell_type": "markdown",
   "id": "7115b7ae",
   "metadata": {},
   "source": [
    "Now will take what we have learned from the training data to transform the training and test data"
   ]
  },
  {
   "cell_type": "code",
   "execution_count": 111,
   "id": "3dbd4f6b",
   "metadata": {},
   "outputs": [],
   "source": [
    "# Tranform training and test data with normalization (MinMaxScaler) and OneHotEncoder\n",
    "X_train_normal = column_transformer.transform(X_train)\n",
    "X_test_normal = column_transformer.transform(X_test)"
   ]
  },
  {
   "cell_type": "code",
   "execution_count": 112,
   "id": "5fc808d2",
   "metadata": {},
   "outputs": [
    {
     "data": {
      "text/plain": [
       "age                19\n",
       "sex            female\n",
       "bmi              27.9\n",
       "children            0\n",
       "smoker            yes\n",
       "region      southwest\n",
       "Name: 0, dtype: object"
      ]
     },
     "execution_count": 112,
     "metadata": {},
     "output_type": "execute_result"
    }
   ],
   "source": [
    "# Check how the data that we started with look like\n",
    "X_train.loc[0,:]"
   ]
  },
  {
   "cell_type": "code",
   "execution_count": 114,
   "id": "d2b78592",
   "metadata": {},
   "outputs": [
    {
     "data": {
      "text/plain": [
       "array([0.60869565, 0.10734463, 0.4       , 1.        , 0.        ,\n",
       "       1.        , 0.        , 0.        , 1.        , 0.        ,\n",
       "       0.        ])"
      ]
     },
     "execution_count": 114,
     "metadata": {},
     "output_type": "execute_result"
    }
   ],
   "source": [
    "# Check how the data look like now\n",
    "X_train_normal[0]"
   ]
  },
  {
   "cell_type": "code",
   "execution_count": 115,
   "id": "40ac551f",
   "metadata": {},
   "outputs": [
    {
     "data": {
      "text/plain": [
       "array([[0.60869565, 0.10734463, 0.4       , ..., 1.        , 0.        ,\n",
       "        0.        ],\n",
       "       [0.63043478, 0.22491256, 0.        , ..., 0.        , 0.        ,\n",
       "        0.        ],\n",
       "       [0.73913043, 0.23944041, 0.        , ..., 0.        , 1.        ,\n",
       "        0.        ],\n",
       "       ...,\n",
       "       [0.86956522, 0.24791499, 0.        , ..., 0.        , 0.        ,\n",
       "        0.        ],\n",
       "       [0.41304348, 0.85122411, 0.4       , ..., 0.        , 0.        ,\n",
       "        1.        ],\n",
       "       [0.80434783, 0.37503363, 0.        , ..., 0.        , 0.        ,\n",
       "        1.        ]])"
      ]
     },
     "execution_count": 115,
     "metadata": {},
     "output_type": "execute_result"
    }
   ],
   "source": [
    "# Check how the data look like now\n",
    "X_train_normal"
   ]
  },
  {
   "cell_type": "code",
   "execution_count": 116,
   "id": "e16285d2",
   "metadata": {},
   "outputs": [
    {
     "data": {
      "text/plain": [
       "((1070, 6), (1070, 11))"
      ]
     },
     "execution_count": 116,
     "metadata": {},
     "output_type": "execute_result"
    }
   ],
   "source": [
    "# Comparing the shape of the original data against the preprocessed data\n",
    "X_train.shape, X_train_normal.shape"
   ]
  },
  {
   "cell_type": "code",
   "execution_count": null,
   "id": "ec71c175",
   "metadata": {},
   "outputs": [],
   "source": []
  },
  {
   "cell_type": "markdown",
   "id": "688f02eb",
   "metadata": {},
   "source": [
    "Our data has been rescaled and one hot encoded. Now let's build a neural network model on it and see how it goes."
   ]
  },
  {
   "cell_type": "code",
   "execution_count": 119,
   "id": "2665dfe7",
   "metadata": {},
   "outputs": [
    {
     "name": "stdout",
     "output_type": "stream",
     "text": [
      "Epoch 1/100\n",
      "34/34 [==============================] - 1s 3ms/step - loss: 13343.3965 - mae: 13343.3965\n",
      "Epoch 2/100\n",
      "34/34 [==============================] - 0s 3ms/step - loss: 13333.9297 - mae: 13333.9297\n",
      "Epoch 3/100\n",
      "34/34 [==============================] - 0s 3ms/step - loss: 13311.2939 - mae: 13311.2939\n",
      "Epoch 4/100\n",
      "34/34 [==============================] - 0s 3ms/step - loss: 13264.8242 - mae: 13264.8242\n",
      "Epoch 5/100\n",
      "34/34 [==============================] - 0s 3ms/step - loss: 13183.1494 - mae: 13183.1494\n",
      "Epoch 6/100\n",
      "34/34 [==============================] - 0s 3ms/step - loss: 13055.1455 - mae: 13055.1455\n",
      "Epoch 7/100\n",
      "34/34 [==============================] - 0s 3ms/step - loss: 12870.6279 - mae: 12870.6279\n",
      "Epoch 8/100\n",
      "34/34 [==============================] - 0s 3ms/step - loss: 12619.5723 - mae: 12619.5723\n",
      "Epoch 9/100\n",
      "34/34 [==============================] - 0s 3ms/step - loss: 12291.8584 - mae: 12291.8584\n",
      "Epoch 10/100\n",
      "34/34 [==============================] - 0s 3ms/step - loss: 11884.4297 - mae: 11884.4297\n",
      "Epoch 11/100\n",
      "34/34 [==============================] - 0s 3ms/step - loss: 11408.6416 - mae: 11408.6416\n",
      "Epoch 12/100\n",
      "34/34 [==============================] - 0s 3ms/step - loss: 10903.1475 - mae: 10903.1475\n",
      "Epoch 13/100\n",
      "34/34 [==============================] - 0s 3ms/step - loss: 10401.9961 - mae: 10401.9961\n",
      "Epoch 14/100\n",
      "34/34 [==============================] - 0s 3ms/step - loss: 9909.8945 - mae: 9909.8945\n",
      "Epoch 15/100\n",
      "34/34 [==============================] - 0s 3ms/step - loss: 9446.2578 - mae: 9446.2578\n",
      "Epoch 16/100\n",
      "34/34 [==============================] - 0s 3ms/step - loss: 9035.2100 - mae: 9035.2100\n",
      "Epoch 17/100\n",
      "34/34 [==============================] - 0s 3ms/step - loss: 8697.8926 - mae: 8697.8926\n",
      "Epoch 18/100\n",
      "34/34 [==============================] - 0s 3ms/step - loss: 8422.2676 - mae: 8422.2676\n",
      "Epoch 19/100\n",
      "34/34 [==============================] - 0s 3ms/step - loss: 8217.0000 - mae: 8217.0000\n",
      "Epoch 20/100\n",
      "34/34 [==============================] - 0s 3ms/step - loss: 8074.9624 - mae: 8074.9624\n",
      "Epoch 21/100\n",
      "34/34 [==============================] - 0s 3ms/step - loss: 7968.6157 - mae: 7968.6157\n",
      "Epoch 22/100\n",
      "34/34 [==============================] - 0s 3ms/step - loss: 7895.0645 - mae: 7895.0645\n",
      "Epoch 23/100\n",
      "34/34 [==============================] - 0s 3ms/step - loss: 7837.3667 - mae: 7837.3667\n",
      "Epoch 24/100\n",
      "34/34 [==============================] - 0s 3ms/step - loss: 7785.2754 - mae: 7785.2754\n",
      "Epoch 25/100\n",
      "34/34 [==============================] - 0s 3ms/step - loss: 7746.2749 - mae: 7746.2749\n",
      "Epoch 26/100\n",
      "34/34 [==============================] - 0s 3ms/step - loss: 7694.7871 - mae: 7694.7871\n",
      "Epoch 27/100\n",
      "34/34 [==============================] - 0s 3ms/step - loss: 7652.1260 - mae: 7652.1260\n",
      "Epoch 28/100\n",
      "34/34 [==============================] - 0s 3ms/step - loss: 7609.1968 - mae: 7609.1968\n",
      "Epoch 29/100\n",
      "34/34 [==============================] - 0s 3ms/step - loss: 7566.2666 - mae: 7566.2666\n",
      "Epoch 30/100\n",
      "34/34 [==============================] - 0s 3ms/step - loss: 7522.1362 - mae: 7522.1362\n",
      "Epoch 31/100\n",
      "34/34 [==============================] - 0s 3ms/step - loss: 7477.6479 - mae: 7477.6479\n",
      "Epoch 32/100\n",
      "34/34 [==============================] - 0s 3ms/step - loss: 7432.8633 - mae: 7432.8633\n",
      "Epoch 33/100\n",
      "34/34 [==============================] - 0s 3ms/step - loss: 7387.9150 - mae: 7387.9150\n",
      "Epoch 34/100\n",
      "34/34 [==============================] - 0s 3ms/step - loss: 7338.9810 - mae: 7338.9810\n",
      "Epoch 35/100\n",
      "34/34 [==============================] - 0s 3ms/step - loss: 7291.4326 - mae: 7291.4326\n",
      "Epoch 36/100\n",
      "34/34 [==============================] - 0s 3ms/step - loss: 7240.4136 - mae: 7240.4136\n",
      "Epoch 37/100\n",
      "34/34 [==============================] - 0s 3ms/step - loss: 7189.1401 - mae: 7189.1401\n",
      "Epoch 38/100\n",
      "34/34 [==============================] - 0s 3ms/step - loss: 7137.2505 - mae: 7137.2505\n",
      "Epoch 39/100\n",
      "34/34 [==============================] - 0s 3ms/step - loss: 7081.4380 - mae: 7081.4380\n",
      "Epoch 40/100\n",
      "34/34 [==============================] - 0s 3ms/step - loss: 7024.9209 - mae: 7024.9209\n",
      "Epoch 41/100\n",
      "34/34 [==============================] - 0s 3ms/step - loss: 6967.2866 - mae: 6967.2866\n",
      "Epoch 42/100\n",
      "34/34 [==============================] - 0s 3ms/step - loss: 6907.0405 - mae: 6907.0405\n",
      "Epoch 43/100\n",
      "34/34 [==============================] - 0s 3ms/step - loss: 6843.1235 - mae: 6843.1235\n",
      "Epoch 44/100\n",
      "34/34 [==============================] - 0s 3ms/step - loss: 6775.3989 - mae: 6775.3989\n",
      "Epoch 45/100\n",
      "34/34 [==============================] - 0s 3ms/step - loss: 6706.6475 - mae: 6706.6475\n",
      "Epoch 46/100\n",
      "34/34 [==============================] - 0s 3ms/step - loss: 6635.5205 - mae: 6635.5205\n",
      "Epoch 47/100\n",
      "34/34 [==============================] - 0s 3ms/step - loss: 6562.5625 - mae: 6562.5625\n",
      "Epoch 48/100\n",
      "34/34 [==============================] - 0s 3ms/step - loss: 6481.9971 - mae: 6481.9971\n",
      "Epoch 49/100\n",
      "34/34 [==============================] - 0s 3ms/step - loss: 6401.3521 - mae: 6401.3521\n",
      "Epoch 50/100\n",
      "34/34 [==============================] - 0s 3ms/step - loss: 6313.3076 - mae: 6313.3076\n",
      "Epoch 51/100\n",
      "34/34 [==============================] - 0s 3ms/step - loss: 6226.2520 - mae: 6226.2520\n",
      "Epoch 52/100\n",
      "34/34 [==============================] - 0s 3ms/step - loss: 6130.8984 - mae: 6130.8984\n",
      "Epoch 53/100\n",
      "34/34 [==============================] - 0s 3ms/step - loss: 6032.3613 - mae: 6032.3613\n",
      "Epoch 54/100\n",
      "34/34 [==============================] - 0s 3ms/step - loss: 5930.9644 - mae: 5930.9644\n",
      "Epoch 55/100\n",
      "34/34 [==============================] - 0s 3ms/step - loss: 5821.0171 - mae: 5821.0171\n",
      "Epoch 56/100\n",
      "34/34 [==============================] - 0s 3ms/step - loss: 5709.7939 - mae: 5709.7939\n",
      "Epoch 57/100\n",
      "34/34 [==============================] - 0s 3ms/step - loss: 5592.1860 - mae: 5592.1860\n",
      "Epoch 58/100\n",
      "34/34 [==============================] - 0s 3ms/step - loss: 5474.1084 - mae: 5474.1084\n",
      "Epoch 59/100\n",
      "34/34 [==============================] - 0s 3ms/step - loss: 5352.2324 - mae: 5352.2324\n",
      "Epoch 60/100\n",
      "34/34 [==============================] - 0s 3ms/step - loss: 5227.5820 - mae: 5227.5820\n",
      "Epoch 61/100\n",
      "34/34 [==============================] - 0s 3ms/step - loss: 5100.5161 - mae: 5100.5161\n",
      "Epoch 62/100\n",
      "34/34 [==============================] - 0s 3ms/step - loss: 4967.7070 - mae: 4967.7070\n",
      "Epoch 63/100\n",
      "34/34 [==============================] - 0s 3ms/step - loss: 4838.4556 - mae: 4838.4556\n",
      "Epoch 64/100\n",
      "34/34 [==============================] - 0s 3ms/step - loss: 4706.2808 - mae: 4706.2808\n",
      "Epoch 65/100\n",
      "34/34 [==============================] - 0s 3ms/step - loss: 4580.9902 - mae: 4580.9902\n",
      "Epoch 66/100\n",
      "34/34 [==============================] - 0s 3ms/step - loss: 4461.4004 - mae: 4461.4004\n",
      "Epoch 67/100\n",
      "34/34 [==============================] - 0s 3ms/step - loss: 4355.1855 - mae: 4355.1855\n",
      "Epoch 68/100\n",
      "34/34 [==============================] - 0s 3ms/step - loss: 4249.7305 - mae: 4249.7305\n",
      "Epoch 69/100\n",
      "34/34 [==============================] - 0s 2ms/step - loss: 4150.6904 - mae: 4150.6904\n",
      "Epoch 70/100\n",
      "34/34 [==============================] - 0s 3ms/step - loss: 4060.0037 - mae: 4060.0037\n",
      "Epoch 71/100\n",
      "34/34 [==============================] - 0s 3ms/step - loss: 3977.9019 - mae: 3977.9019\n",
      "Epoch 72/100\n",
      "34/34 [==============================] - 0s 3ms/step - loss: 3906.2393 - mae: 3906.2393\n",
      "Epoch 73/100\n",
      "34/34 [==============================] - 0s 3ms/step - loss: 3847.6494 - mae: 3847.6494\n",
      "Epoch 74/100\n",
      "34/34 [==============================] - 0s 3ms/step - loss: 3797.6567 - mae: 3797.6567\n",
      "Epoch 75/100\n",
      "34/34 [==============================] - 0s 3ms/step - loss: 3761.5723 - mae: 3761.5723\n",
      "Epoch 76/100\n",
      "34/34 [==============================] - 0s 3ms/step - loss: 3735.1370 - mae: 3735.1370\n",
      "Epoch 77/100\n",
      "34/34 [==============================] - 0s 3ms/step - loss: 3712.5273 - mae: 3712.5273\n",
      "Epoch 78/100\n",
      "34/34 [==============================] - 0s 2ms/step - loss: 3697.8474 - mae: 3697.8474\n",
      "Epoch 79/100\n",
      "34/34 [==============================] - 0s 2ms/step - loss: 3687.8552 - mae: 3687.8552\n",
      "Epoch 80/100\n",
      "34/34 [==============================] - 0s 2ms/step - loss: 3678.9529 - mae: 3678.9529\n",
      "Epoch 81/100\n"
     ]
    },
    {
     "name": "stdout",
     "output_type": "stream",
     "text": [
      "34/34 [==============================] - 0s 3ms/step - loss: 3673.5757 - mae: 3673.5757\n",
      "Epoch 82/100\n",
      "34/34 [==============================] - 0s 3ms/step - loss: 3670.5264 - mae: 3670.5264\n",
      "Epoch 83/100\n",
      "34/34 [==============================] - 0s 2ms/step - loss: 3664.8313 - mae: 3664.8313\n",
      "Epoch 84/100\n",
      "34/34 [==============================] - 0s 3ms/step - loss: 3662.0325 - mae: 3662.0325\n",
      "Epoch 85/100\n",
      "34/34 [==============================] - 0s 3ms/step - loss: 3659.8643 - mae: 3659.8643\n",
      "Epoch 86/100\n",
      "34/34 [==============================] - 0s 3ms/step - loss: 3658.5186 - mae: 3658.5186\n",
      "Epoch 87/100\n",
      "34/34 [==============================] - 0s 3ms/step - loss: 3655.5315 - mae: 3655.5315\n",
      "Epoch 88/100\n",
      "34/34 [==============================] - 0s 3ms/step - loss: 3653.0017 - mae: 3653.0017\n",
      "Epoch 89/100\n",
      "34/34 [==============================] - 0s 3ms/step - loss: 3651.8484 - mae: 3651.8484\n",
      "Epoch 90/100\n",
      "34/34 [==============================] - 0s 3ms/step - loss: 3650.0388 - mae: 3650.0388\n",
      "Epoch 91/100\n",
      "34/34 [==============================] - 0s 3ms/step - loss: 3646.9070 - mae: 3646.9070\n",
      "Epoch 92/100\n",
      "34/34 [==============================] - 0s 3ms/step - loss: 3646.2578 - mae: 3646.2578\n",
      "Epoch 93/100\n",
      "34/34 [==============================] - 0s 3ms/step - loss: 3644.0447 - mae: 3644.0447\n",
      "Epoch 94/100\n",
      "34/34 [==============================] - 0s 3ms/step - loss: 3642.2695 - mae: 3642.2695\n",
      "Epoch 95/100\n",
      "34/34 [==============================] - 0s 3ms/step - loss: 3643.2043 - mae: 3643.2043\n",
      "Epoch 96/100\n",
      "34/34 [==============================] - 0s 3ms/step - loss: 3640.2415 - mae: 3640.2415\n",
      "Epoch 97/100\n",
      "34/34 [==============================] - 0s 3ms/step - loss: 3637.8723 - mae: 3637.8723\n",
      "Epoch 98/100\n",
      "34/34 [==============================] - 0s 3ms/step - loss: 3635.8120 - mae: 3635.8120\n",
      "Epoch 99/100\n",
      "34/34 [==============================] - 0s 3ms/step - loss: 3634.8691 - mae: 3634.8691\n",
      "Epoch 100/100\n",
      "34/34 [==============================] - 0s 3ms/step - loss: 3633.8416 - mae: 3633.8416\n"
     ]
    }
   ],
   "source": [
    "# Build a neural network to fit on the preprocessed data\n",
    "\n",
    "\n",
    "# Set the seed\n",
    "tf.random.set_seed(42)\n",
    "\n",
    "# 1. Create the model\n",
    "insurance_model_4 = tf.keras.Sequential([\n",
    "    tf.keras.layers.Dense(100),\n",
    "    tf.keras.layers.Dense(10),\n",
    "    tf.keras.layers.Dense(1)\n",
    "])\n",
    "\n",
    "# 2. Compile the model\n",
    "insurance_model_4.compile(loss=tf.keras.losses.mae,\n",
    "                       optimizer=tf.keras.optimizers.Adam(),\n",
    "                       metrics=[\"mae\"])\n",
    "\n",
    "# 3. Fit the model\n",
    "history_4 = insurance_model_4.fit(X_train_normal,y_train, epochs=100, verbose=1)"
   ]
  },
  {
   "cell_type": "markdown",
   "id": "5f3129c4",
   "metadata": {},
   "source": [
    "Now we have to test the model on the same type of data it was trained on. Since it was trained on preprocessed data, it has to be evaluated on preprocessed data."
   ]
  },
  {
   "cell_type": "code",
   "execution_count": 120,
   "id": "9e3c2a5c",
   "metadata": {
    "scrolled": true
   },
   "outputs": [
    {
     "name": "stdout",
     "output_type": "stream",
     "text": [
      "9/9 [==============================] - 0s 2ms/step - loss: 3435.7075 - mae: 3435.7075\n"
     ]
    },
    {
     "data": {
      "text/plain": [
       "[3435.70751953125, 3435.70751953125]"
      ]
     },
     "execution_count": 120,
     "metadata": {},
     "output_type": "execute_result"
    }
   ],
   "source": [
    "# Evaluate the 4th model on normalized data (recall that it was trained 100 epochs)\n",
    "insurance_model_4.evaluate(X_test_normal,y_test)"
   ]
  },
  {
   "cell_type": "code",
   "execution_count": 122,
   "id": "f12a82ad",
   "metadata": {},
   "outputs": [],
   "source": [
    "# Third model evaluation result (recall that 3rd model was trained 200 epochs)\n",
    "\n",
    "# 9/9 [==============================] - 0s 2ms/step - loss: 3491.5759 - mae: 3491.5759"
   ]
  },
  {
   "cell_type": "markdown",
   "id": "6e17e61d",
   "metadata": {},
   "source": [
    "When the data is normalized, the model has a faster convergence time."
   ]
  },
  {
   "cell_type": "code",
   "execution_count": null,
   "id": "223cb4c2",
   "metadata": {},
   "outputs": [],
   "source": []
  },
  {
   "cell_type": "code",
   "execution_count": null,
   "id": "ffeec8ab",
   "metadata": {},
   "outputs": [],
   "source": []
  }
 ],
 "metadata": {
  "kernelspec": {
   "display_name": "Python 3",
   "language": "python",
   "name": "python3"
  },
  "language_info": {
   "codemirror_mode": {
    "name": "ipython",
    "version": 3
   },
   "file_extension": ".py",
   "mimetype": "text/x-python",
   "name": "python",
   "nbconvert_exporter": "python",
   "pygments_lexer": "ipython3",
   "version": "3.8.8"
  }
 },
 "nbformat": 4,
 "nbformat_minor": 5
}
