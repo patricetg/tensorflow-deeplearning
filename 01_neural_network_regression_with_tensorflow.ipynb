{
 "cells": [
  {
   "cell_type": "code",
   "execution_count": null,
   "id": "d1d332c5",
   "metadata": {},
   "outputs": [],
   "source": []
  },
  {
   "cell_type": "markdown",
   "id": "ae1f3f01",
   "metadata": {},
   "source": [
    "# Introduction to Regression with Neural Networks in TensorFlow\n",
    "\n",
    "There are many definitions for a regression problem, but to make it simple : predicting a continuous (numerical) variable based on some other combination of variables."
   ]
  },
  {
   "cell_type": "code",
   "execution_count": 1,
   "id": "3ebcab60",
   "metadata": {},
   "outputs": [
    {
     "name": "stdout",
     "output_type": "stream",
     "text": [
      "2.10.0\n"
     ]
    }
   ],
   "source": [
    "# Import TensorFlow\n",
    "import tensorflow as tf\n",
    "print(tf.__version__)"
   ]
  },
  {
   "cell_type": "code",
   "execution_count": 2,
   "id": "46175302",
   "metadata": {},
   "outputs": [],
   "source": [
    "import pandas as pd\n",
    "import numpy as np\n",
    "import matplotlib.pyplot as plt\n",
    "\n",
    "%matplotlib inline"
   ]
  },
  {
   "cell_type": "code",
   "execution_count": 3,
   "id": "b73583b4",
   "metadata": {},
   "outputs": [],
   "source": [
    "from tensorflow.keras.utils import plot_model"
   ]
  },
  {
   "cell_type": "markdown",
   "id": "5b304915",
   "metadata": {},
   "source": [
    "Note : in order to use plot_model, one must install pydot (`pip install pydot`) and install graphviz (see instructions at https://graphviz.gitlab.io/download/) for plot_model to work."
   ]
  },
  {
   "cell_type": "code",
   "execution_count": null,
   "id": "99283640",
   "metadata": {},
   "outputs": [],
   "source": []
  },
  {
   "cell_type": "markdown",
   "id": "3ea9cdd1",
   "metadata": {},
   "source": [
    "### Creating data to view and fit"
   ]
  },
  {
   "cell_type": "code",
   "execution_count": 4,
   "id": "dc6c9d96",
   "metadata": {},
   "outputs": [
    {
     "data": {
      "text/plain": [
       "<matplotlib.collections.PathCollection at 0x258f9809d00>"
      ]
     },
     "execution_count": 4,
     "metadata": {},
     "output_type": "execute_result"
    },
    {
     "data": {
      "image/png": "[encoded data removed]",
      "text/plain": [
       "<Figure size 432x288 with 1 Axes>"
      ]
     },
     "metadata": {
      "needs_background": "light"
     },
     "output_type": "display_data"
    }
   ],
   "source": [
    "# Create features\n",
    "X = np.array([-7., -4, -1, 2, 5, 8, 11, 14])\n",
    "\n",
    "# Create labels\n",
    "y = np.array([3., 6, 9, 12, 15, 18, 21, 24])\n",
    "\n",
    "# Visualize it\n",
    "plt.scatter(X,y)"
   ]
  },
  {
   "cell_type": "code",
   "execution_count": 5,
   "id": "2e244a47",
   "metadata": {},
   "outputs": [
    {
     "data": {
      "text/plain": [
       "array([ 3.,  6.,  9., 12., 15., 18., 21., 24.])"
      ]
     },
     "execution_count": 5,
     "metadata": {},
     "output_type": "execute_result"
    }
   ],
   "source": [
    "X+10"
   ]
  },
  {
   "cell_type": "code",
   "execution_count": 6,
   "id": "fb87b2bc",
   "metadata": {},
   "outputs": [
    {
     "data": {
      "text/plain": [
       "array([ True,  True,  True,  True,  True,  True,  True,  True])"
      ]
     },
     "execution_count": 6,
     "metadata": {},
     "output_type": "execute_result"
    }
   ],
   "source": [
    "y == X+10"
   ]
  },
  {
   "cell_type": "code",
   "execution_count": 7,
   "id": "e18c377b",
   "metadata": {},
   "outputs": [
    {
     "data": {
      "text/plain": [
       "(TensorShape([8]), TensorShape([8]))"
      ]
     },
     "execution_count": 7,
     "metadata": {},
     "output_type": "execute_result"
    }
   ],
   "source": [
    "# Turning the NumPy arrays into tensors\n",
    "X = tf.constant(X)\n",
    "y = tf.constant(y)\n",
    "X.shape, y.shape"
   ]
  },
  {
   "cell_type": "code",
   "execution_count": 8,
   "id": "f4485d20",
   "metadata": {},
   "outputs": [
    {
     "data": {
      "text/plain": [
       "<tf.Tensor: shape=(8,), dtype=float64, numpy=array([-7., -4., -1.,  2.,  5.,  8., 11., 14.])>"
      ]
     },
     "execution_count": 8,
     "metadata": {},
     "output_type": "execute_result"
    }
   ],
   "source": [
    "X"
   ]
  },
  {
   "cell_type": "code",
   "execution_count": 9,
   "id": "5e0fe4a9",
   "metadata": {},
   "outputs": [
    {
     "data": {
      "text/plain": [
       "<tf.Tensor: shape=(8, 1), dtype=float64, numpy=\n",
       "array([[-7.],\n",
       "       [-4.],\n",
       "       [-1.],\n",
       "       [ 2.],\n",
       "       [ 5.],\n",
       "       [ 8.],\n",
       "       [11.],\n",
       "       [14.]])>"
      ]
     },
     "execution_count": 9,
     "metadata": {},
     "output_type": "execute_result"
    }
   ],
   "source": [
    "# Expand the dimension of a tensor : https://www.geeksforgeeks.org/python-tensorflow-expand_dims/\n",
    "tf.expand_dims(X, axis=-1)"
   ]
  },
  {
   "cell_type": "code",
   "execution_count": null,
   "id": "f5304102",
   "metadata": {},
   "outputs": [],
   "source": []
  },
  {
   "cell_type": "markdown",
   "id": "612e394c",
   "metadata": {},
   "source": [
    "### Steps in modeling in TensorFlow\n",
    "\n",
    "1. **Creating the model** - define the input and output layers, as well as the hidden layers of a deep learning model.\n",
    "2. **Compiling the model** - define the `loss function` (the function which will tells our model how far it's from performing well), the `optimizer` (tells the model how to update its internal patterns to better its predictions) and the `evaluation metrics` (human interpretable values for how well the model is doing).\n",
    "3. **Fitting the model** - letting the model try to find patterns between features and labels.\n",
    "4. **Evaluation** - Evaluate the model on the test data (in order to know how reliable are the model's predictions)\n",
    "\n",
    "\n",
    "In TensorFlow, there are two main way of creating a model :\n",
    "* Sequential API\n",
    "* Functional API"
   ]
  },
  {
   "cell_type": "code",
   "execution_count": 10,
   "id": "6f72d001",
   "metadata": {},
   "outputs": [
    {
     "name": "stdout",
     "output_type": "stream",
     "text": [
      "Epoch 1/5\n",
      "1/1 [==============================] - 1s 699ms/step - loss: 7.5888 - mae: 7.5888\n",
      "Epoch 2/5\n",
      "1/1 [==============================] - 0s 5ms/step - loss: 7.4925 - mae: 7.4925\n",
      "Epoch 3/5\n",
      "1/1 [==============================] - 0s 5ms/step - loss: 7.4869 - mae: 7.4869\n",
      "Epoch 4/5\n",
      "1/1 [==============================] - 0s 6ms/step - loss: 7.4812 - mae: 7.4812\n",
      "Epoch 5/5\n",
      "1/1 [==============================] - 0s 6ms/step - loss: 7.4756 - mae: 7.4756\n"
     ]
    },
    {
     "data": {
      "text/plain": [
       "<keras.callbacks.History at 0x258fa1c73a0>"
      ]
     },
     "execution_count": 10,
     "metadata": {},
     "output_type": "execute_result"
    }
   ],
   "source": [
    "# Set a random seed (in order to have some reproducibility)\n",
    "tf.random.set_seed(42)\n",
    "\n",
    "# 1. Create a model using the Sequential API\n",
    "model = tf.keras.Sequential([\n",
    "    tf.keras.layers.Dense(1)\n",
    "])\n",
    "\n",
    "# 2. Compile the model\n",
    "model.compile(loss=tf.keras.losses.mae, # MAE : Mean Absolute Error\n",
    "              optimizer=tf.keras.optimizers.SGD(), # SGD : Stochastic Gradient Descent\n",
    "              metrics=[\"mae\"]\n",
    "             )\n",
    "\n",
    "# 3. Fit the model \n",
    "model.fit(tf.expand_dims(X, axis=-1),y, epochs=5)\n"
   ]
  },
  {
   "cell_type": "markdown",
   "id": "2f2af8b2",
   "metadata": {},
   "source": [
    "**Note**  \n",
    "A lot of function in TensorFlow, if they have a shortcut name (e.g. mae or SGD), can be replaced by a string variable to define the fact it is wished to used that specific function. For e.g., the step 2 in the above cell( Compile the model), can also be written as such : \n",
    "\n",
    "model.compile(loss=\"mae\",  \n",
    "              optimizer=\"sgd\",  \n",
    "              metrics=[\"mae\"]  \n",
    "             )"
   ]
  },
  {
   "cell_type": "code",
   "execution_count": 11,
   "id": "9949ba02",
   "metadata": {},
   "outputs": [
    {
     "data": {
      "text/plain": [
       "(<tf.Tensor: shape=(8,), dtype=float64, numpy=array([-7., -4., -1.,  2.,  5.,  8., 11., 14.])>,\n",
       " <tf.Tensor: shape=(8,), dtype=float64, numpy=array([ 3.,  6.,  9., 12., 15., 18., 21., 24.])>)"
      ]
     },
     "execution_count": 11,
     "metadata": {},
     "output_type": "execute_result"
    }
   ],
   "source": [
    "# Check out X and y\n",
    "X, y"
   ]
  },
  {
   "cell_type": "code",
   "execution_count": 12,
   "id": "d35d1023",
   "metadata": {},
   "outputs": [
    {
     "name": "stdout",
     "output_type": "stream",
     "text": [
      "1/1 [==============================] - 0s 247ms/step\n"
     ]
    },
    {
     "data": {
      "text/plain": [
       "array([[29.346521]], dtype=float32)"
      ]
     },
     "execution_count": 12,
     "metadata": {},
     "output_type": "execute_result"
    }
   ],
   "source": [
    "# Trying to make a prediction using our model\n",
    "model.predict([17.])"
   ]
  },
  {
   "cell_type": "markdown",
   "id": "9eefcc9e",
   "metadata": {},
   "source": [
    "The predicted value (y) should be 27 when X is 17. But we got -13.89, which is pretty far off. This is no surprising because the current MAE of our model is 17.3050, which means : on average, our model predict something that is 17.3050 points off where is should be (MAE)."
   ]
  },
  {
   "cell_type": "code",
   "execution_count": 13,
   "id": "27107469",
   "metadata": {},
   "outputs": [
    {
     "name": "stdout",
     "output_type": "stream",
     "text": [
      "1/1 [==============================] - 0s 96ms/step\n"
     ]
    },
    {
     "data": {
      "text/plain": [
       "array([[29.346521]], dtype=float32)"
      ]
     },
     "execution_count": 13,
     "metadata": {},
     "output_type": "execute_result"
    }
   ],
   "source": [
    "y_pred = model.predict([17.])\n",
    "y_pred"
   ]
  },
  {
   "cell_type": "code",
   "execution_count": 14,
   "id": "65c6bb1b",
   "metadata": {},
   "outputs": [
    {
     "data": {
      "text/plain": [
       "array([[46.65152]], dtype=float32)"
      ]
     },
     "execution_count": 14,
     "metadata": {},
     "output_type": "execute_result"
    }
   ],
   "source": [
    "y_pred + 17.3050"
   ]
  },
  {
   "cell_type": "markdown",
   "id": "a759cf25",
   "metadata": {},
   "source": [
    "The value is still off, our model is performing poorly.   \n",
    "Now, we need to improve our model."
   ]
  },
  {
   "cell_type": "code",
   "execution_count": null,
   "id": "7eecc354",
   "metadata": {},
   "outputs": [],
   "source": []
  },
  {
   "cell_type": "markdown",
   "id": "f47b7fed",
   "metadata": {},
   "source": [
    "### Improving our model\n",
    "\n",
    "We can improve our model by altering the steps we took to create a model.  \n",
    "\n",
    "1. **Creating a model** - Here, we might :\n",
    "* add more layers, \n",
    "* increase the number of hidden units (also called neurons) within each of th hidden layers, \n",
    "* change the activation function of each layer\n",
    "\n",
    "2. **Compiling the model** - Here, we might :\n",
    "* change the optimization function,\n",
    "* or perhaps changes the **learning rate** of the optimization function\n",
    "\n",
    "3. **Fitting the model** - Here, we might :\n",
    "* fit the model for more epochs (make it train for longer)\n",
    "* fit the model on more data (give the model more examples to learn from)"
   ]
  },
  {
   "cell_type": "code",
   "execution_count": 15,
   "id": "0900b32c",
   "metadata": {},
   "outputs": [
    {
     "name": "stdout",
     "output_type": "stream",
     "text": [
      "Epoch 1/100\n",
      "1/1 [==============================] - 1s 652ms/step - loss: 12.8968 - mae: 12.8968\n",
      "Epoch 2/100\n",
      "1/1 [==============================] - 0s 7ms/step - loss: 12.3472 - mae: 12.3472\n",
      "Epoch 3/100\n",
      "1/1 [==============================] - 0s 5ms/step - loss: 11.7901 - mae: 11.7901\n",
      "Epoch 4/100\n",
      "1/1 [==============================] - 0s 8ms/step - loss: 11.2322 - mae: 11.2322\n",
      "Epoch 5/100\n",
      "1/1 [==============================] - 0s 6ms/step - loss: 10.6570 - mae: 10.6570\n",
      "Epoch 6/100\n",
      "1/1 [==============================] - 0s 7ms/step - loss: 10.0536 - mae: 10.0536\n",
      "Epoch 7/100\n",
      "1/1 [==============================] - 0s 10ms/step - loss: 9.4236 - mae: 9.4236\n",
      "Epoch 8/100\n",
      "1/1 [==============================] - 0s 7ms/step - loss: 8.7602 - mae: 8.7602\n",
      "Epoch 9/100\n",
      "1/1 [==============================] - 0s 6ms/step - loss: 8.0587 - mae: 8.0587\n",
      "Epoch 10/100\n",
      "1/1 [==============================] - 0s 6ms/step - loss: 7.3066 - mae: 7.3066\n",
      "Epoch 11/100\n",
      "1/1 [==============================] - 0s 5ms/step - loss: 6.5110 - mae: 6.5110\n",
      "Epoch 12/100\n",
      "1/1 [==============================] - 0s 7ms/step - loss: 5.6552 - mae: 5.6552\n",
      "Epoch 13/100\n",
      "1/1 [==============================] - 0s 7ms/step - loss: 4.7322 - mae: 4.7322\n",
      "Epoch 14/100\n",
      "1/1 [==============================] - 0s 7ms/step - loss: 4.0947 - mae: 4.0947\n",
      "Epoch 15/100\n",
      "1/1 [==============================] - 0s 5ms/step - loss: 3.9485 - mae: 3.9485\n",
      "Epoch 16/100\n",
      "1/1 [==============================] - 0s 6ms/step - loss: 3.9507 - mae: 3.9507\n",
      "Epoch 17/100\n",
      "1/1 [==============================] - 0s 6ms/step - loss: 3.9170 - mae: 3.9170\n",
      "Epoch 18/100\n",
      "1/1 [==============================] - 0s 6ms/step - loss: 3.9576 - mae: 3.9576\n",
      "Epoch 19/100\n",
      "1/1 [==============================] - 0s 8ms/step - loss: 3.8913 - mae: 3.8913\n",
      "Epoch 20/100\n",
      "1/1 [==============================] - 0s 6ms/step - loss: 3.9647 - mae: 3.9647\n",
      "Epoch 21/100\n",
      "1/1 [==============================] - 0s 5ms/step - loss: 3.8968 - mae: 3.8968\n",
      "Epoch 22/100\n",
      "1/1 [==============================] - 0s 9ms/step - loss: 3.9430 - mae: 3.9430\n",
      "Epoch 23/100\n",
      "1/1 [==============================] - 0s 6ms/step - loss: 3.9116 - mae: 3.9116\n",
      "Epoch 24/100\n",
      "1/1 [==============================] - 0s 6ms/step - loss: 3.9213 - mae: 3.9213\n",
      "Epoch 25/100\n",
      "1/1 [==============================] - 0s 8ms/step - loss: 3.9187 - mae: 3.9187\n",
      "Epoch 26/100\n",
      "1/1 [==============================] - 0s 6ms/step - loss: 3.8956 - mae: 3.8956\n",
      "Epoch 27/100\n",
      "1/1 [==============================] - 0s 8ms/step - loss: 3.9259 - mae: 3.9259\n",
      "Epoch 28/100\n",
      "1/1 [==============================] - 0s 7ms/step - loss: 3.8697 - mae: 3.8697\n",
      "Epoch 29/100\n",
      "1/1 [==============================] - 0s 8ms/step - loss: 3.9332 - mae: 3.9332\n",
      "Epoch 30/100\n",
      "1/1 [==============================] - 0s 6ms/step - loss: 3.8661 - mae: 3.8661\n",
      "Epoch 31/100\n",
      "1/1 [==============================] - 0s 7ms/step - loss: 3.9248 - mae: 3.9248\n",
      "Epoch 32/100\n",
      "1/1 [==============================] - 0s 9ms/step - loss: 3.8807 - mae: 3.8807\n",
      "Epoch 33/100\n",
      "1/1 [==============================] - 0s 7ms/step - loss: 3.8989 - mae: 3.8989\n",
      "Epoch 34/100\n",
      "1/1 [==============================] - 0s 7ms/step - loss: 3.8879 - mae: 3.8879\n",
      "Epoch 35/100\n",
      "1/1 [==============================] - 0s 6ms/step - loss: 3.8729 - mae: 3.8729\n",
      "Epoch 36/100\n",
      "1/1 [==============================] - 0s 8ms/step - loss: 3.8953 - mae: 3.8953\n",
      "Epoch 37/100\n",
      "1/1 [==============================] - 0s 9ms/step - loss: 3.8468 - mae: 3.8468\n",
      "Epoch 38/100\n",
      "1/1 [==============================] - 0s 8ms/step - loss: 3.9028 - mae: 3.9028\n",
      "Epoch 39/100\n",
      "1/1 [==============================] - 0s 10ms/step - loss: 3.8408 - mae: 3.8408\n",
      "Epoch 40/100\n",
      "1/1 [==============================] - 0s 7ms/step - loss: 3.9014 - mae: 3.9014\n",
      "Epoch 41/100\n",
      "1/1 [==============================] - 0s 7ms/step - loss: 3.8509 - mae: 3.8509\n",
      "Epoch 42/100\n",
      "1/1 [==============================] - 0s 7ms/step - loss: 3.8753 - mae: 3.8753\n",
      "Epoch 43/100\n",
      "1/1 [==============================] - 0s 6ms/step - loss: 3.8583 - mae: 3.8583\n",
      "Epoch 44/100\n",
      "1/1 [==============================] - 0s 7ms/step - loss: 3.8490 - mae: 3.8490\n",
      "Epoch 45/100\n",
      "1/1 [==============================] - 0s 6ms/step - loss: 3.8659 - mae: 3.8659\n",
      "Epoch 46/100\n",
      "1/1 [==============================] - 0s 6ms/step - loss: 3.8226 - mae: 3.8226\n",
      "Epoch 47/100\n",
      "1/1 [==============================] - 0s 5ms/step - loss: 3.8755 - mae: 3.8755\n",
      "Epoch 48/100\n",
      "1/1 [==============================] - 0s 7ms/step - loss: 3.8146 - mae: 3.8146\n",
      "Epoch 49/100\n",
      "1/1 [==============================] - 0s 6ms/step - loss: 3.8767 - mae: 3.8767\n",
      "Epoch 50/100\n",
      "1/1 [==============================] - 0s 8ms/step - loss: 3.8222 - mae: 3.8222\n",
      "Epoch 51/100\n",
      "1/1 [==============================] - 0s 7ms/step - loss: 3.8503 - mae: 3.8503\n",
      "Epoch 52/100\n",
      "1/1 [==============================] - 0s 10ms/step - loss: 3.8298 - mae: 3.8298\n",
      "Epoch 53/100\n",
      "1/1 [==============================] - 0s 9ms/step - loss: 3.8238 - mae: 3.8238\n",
      "Epoch 54/100\n",
      "1/1 [==============================] - 0s 7ms/step - loss: 3.8376 - mae: 3.8376\n",
      "Epoch 55/100\n",
      "1/1 [==============================] - 0s 8ms/step - loss: 3.7971 - mae: 3.7971\n",
      "Epoch 56/100\n",
      "1/1 [==============================] - 0s 7ms/step - loss: 3.8518 - mae: 3.8518\n",
      "Epoch 57/100\n",
      "1/1 [==============================] - 0s 8ms/step - loss: 3.7869 - mae: 3.7869\n",
      "Epoch 58/100\n",
      "1/1 [==============================] - 0s 9ms/step - loss: 3.8508 - mae: 3.8508\n",
      "Epoch 59/100\n",
      "1/1 [==============================] - 0s 8ms/step - loss: 3.7946 - mae: 3.7946\n",
      "Epoch 60/100\n",
      "1/1 [==============================] - 0s 8ms/step - loss: 3.8241 - mae: 3.8241\n",
      "Epoch 61/100\n",
      "1/1 [==============================] - 0s 11ms/step - loss: 3.8024 - mae: 3.8024\n",
      "Epoch 62/100\n",
      "1/1 [==============================] - 0s 10ms/step - loss: 3.7973 - mae: 3.7973\n",
      "Epoch 63/100\n",
      "1/1 [==============================] - 0s 11ms/step - loss: 3.8104 - mae: 3.8104\n",
      "Epoch 64/100\n",
      "1/1 [==============================] - 0s 12ms/step - loss: 3.7739 - mae: 3.7739\n",
      "Epoch 65/100\n",
      "1/1 [==============================] - 0s 14ms/step - loss: 3.8262 - mae: 3.8262\n",
      "Epoch 66/100\n",
      "1/1 [==============================] - 0s 9ms/step - loss: 3.7601 - mae: 3.7601\n",
      "Epoch 67/100\n",
      "1/1 [==============================] - 0s 10ms/step - loss: 3.8235 - mae: 3.8235\n",
      "Epoch 68/100\n",
      "1/1 [==============================] - 0s 6ms/step - loss: 3.7680 - mae: 3.7680\n",
      "Epoch 69/100\n",
      "1/1 [==============================] - 0s 7ms/step - loss: 3.7966 - mae: 3.7966\n",
      "Epoch 70/100\n",
      "1/1 [==============================] - 0s 8ms/step - loss: 3.7761 - mae: 3.7761\n",
      "Epoch 71/100\n",
      "1/1 [==============================] - 0s 6ms/step - loss: 3.7695 - mae: 3.7695\n",
      "Epoch 72/100\n",
      "1/1 [==============================] - 0s 7ms/step - loss: 3.7843 - mae: 3.7843\n",
      "Epoch 73/100\n",
      "1/1 [==============================] - 0s 5ms/step - loss: 3.7493 - mae: 3.7493\n",
      "Epoch 74/100\n",
      "1/1 [==============================] - 0s 7ms/step - loss: 3.8002 - mae: 3.8002\n",
      "Epoch 75/100\n",
      "1/1 [==============================] - 0s 6ms/step - loss: 3.7344 - mae: 3.7344\n",
      "Epoch 76/100\n",
      "1/1 [==============================] - 0s 6ms/step - loss: 3.7950 - mae: 3.7950\n",
      "Epoch 77/100\n",
      "1/1 [==============================] - 0s 7ms/step - loss: 3.7426 - mae: 3.7426\n",
      "Epoch 78/100\n",
      "1/1 [==============================] - 0s 7ms/step - loss: 3.7678 - mae: 3.7678\n",
      "Epoch 79/100\n",
      "1/1 [==============================] - 0s 7ms/step - loss: 3.7508 - mae: 3.7508\n",
      "Epoch 80/100\n",
      "1/1 [==============================] - 0s 7ms/step - loss: 3.7403 - mae: 3.7403\n",
      "Epoch 81/100\n",
      "1/1 [==============================] - 0s 6ms/step - loss: 3.7632 - mae: 3.7632\n",
      "Epoch 82/100\n",
      "1/1 [==============================] - 0s 7ms/step - loss: 3.7198 - mae: 3.7198\n",
      "Epoch 83/100\n",
      "1/1 [==============================] - 0s 6ms/step - loss: 3.7753 - mae: 3.7753\n",
      "Epoch 84/100\n",
      "1/1 [==============================] - 0s 6ms/step - loss: 3.7097 - mae: 3.7097\n",
      "Epoch 85/100\n",
      "1/1 [==============================] - 0s 6ms/step - loss: 3.7652 - mae: 3.7652\n",
      "Epoch 86/100\n",
      "1/1 [==============================] - 0s 7ms/step - loss: 3.7181 - mae: 3.7181\n",
      "Epoch 87/100\n",
      "1/1 [==============================] - 0s 8ms/step - loss: 3.7376 - mae: 3.7376\n",
      "Epoch 88/100\n"
     ]
    },
    {
     "name": "stdout",
     "output_type": "stream",
     "text": [
      "1/1 [==============================] - 0s 5ms/step - loss: 3.7265 - mae: 3.7265\n",
      "Epoch 89/100\n",
      "1/1 [==============================] - 0s 8ms/step - loss: 3.7108 - mae: 3.7108\n",
      "Epoch 90/100\n",
      "1/1 [==============================] - 0s 9ms/step - loss: 3.7428 - mae: 3.7428\n",
      "Epoch 91/100\n",
      "1/1 [==============================] - 0s 7ms/step - loss: 3.6889 - mae: 3.6889\n",
      "Epoch 92/100\n",
      "1/1 [==============================] - 0s 9ms/step - loss: 3.7514 - mae: 3.7514\n",
      "Epoch 93/100\n",
      "1/1 [==============================] - 0s 8ms/step - loss: 3.6860 - mae: 3.6860\n",
      "Epoch 94/100\n",
      "1/1 [==============================] - 0s 7ms/step - loss: 3.7340 - mae: 3.7340\n",
      "Epoch 95/100\n",
      "1/1 [==============================] - 0s 8ms/step - loss: 3.6946 - mae: 3.6946\n",
      "Epoch 96/100\n",
      "1/1 [==============================] - 0s 9ms/step - loss: 3.7061 - mae: 3.7061\n",
      "Epoch 97/100\n",
      "1/1 [==============================] - 0s 9ms/step - loss: 3.7032 - mae: 3.7032\n",
      "Epoch 98/100\n",
      "1/1 [==============================] - 0s 5ms/step - loss: 3.6827 - mae: 3.6827\n",
      "Epoch 99/100\n",
      "1/1 [==============================] - 0s 6ms/step - loss: 3.7196 - mae: 3.7196\n",
      "Epoch 100/100\n",
      "1/1 [==============================] - 0s 8ms/step - loss: 3.6567 - mae: 3.6567\n"
     ]
    },
    {
     "data": {
      "text/plain": [
       "<keras.callbacks.History at 0x258fa266910>"
      ]
     },
     "execution_count": 15,
     "metadata": {},
     "output_type": "execute_result"
    }
   ],
   "source": [
    "# 1st experiment : add a hidden layer, and more epochs, as an improvement to the model\n",
    "\n",
    "# Set a random seed (in order to have some reproducibility)\n",
    "tf.random.set_seed(42)\n",
    "\n",
    "# 1. Create a model using the Sequential API\n",
    "model = tf.keras.Sequential([\n",
    "    \n",
    "    # Adding more hidden layers, more neurons, and activation function \n",
    "    tf.keras.layers.Dense(100, activation=\"relu\"),\n",
    "    \n",
    "    tf.keras.layers.Dense(1)\n",
    "])\n",
    "\n",
    "# 2. Compile the model\n",
    "model.compile(loss=tf.keras.losses.mae, # MAE : Mean Absolute Error\n",
    "              optimizer=tf.keras.optimizers.SGD(),\n",
    "              metrics=[\"mae\"]\n",
    "             )\n",
    "\n",
    "# 3. Fit the model \n",
    "model.fit(tf.expand_dims(X, axis=-1),y, epochs=100) # Increasing the number of epochs\n"
   ]
  },
  {
   "cell_type": "markdown",
   "id": "ac7a663c",
   "metadata": {},
   "source": [
    "The 1st experiment has resulted in a good improvement of the model"
   ]
  },
  {
   "cell_type": "code",
   "execution_count": 16,
   "id": "debaf8ee",
   "metadata": {},
   "outputs": [
    {
     "name": "stdout",
     "output_type": "stream",
     "text": [
      "1/1 [==============================] - 0s 141ms/step\n"
     ]
    },
    {
     "data": {
      "text/plain": [
       "array([[32.98623]], dtype=float32)"
      ]
     },
     "execution_count": 16,
     "metadata": {},
     "output_type": "execute_result"
    }
   ],
   "source": [
    "# Check how the model's prediction has improved...\n",
    "model.predict([17.])"
   ]
  },
  {
   "cell_type": "code",
   "execution_count": null,
   "id": "edec4f02",
   "metadata": {},
   "outputs": [],
   "source": []
  },
  {
   "cell_type": "code",
   "execution_count": null,
   "id": "af2206a9",
   "metadata": {},
   "outputs": [],
   "source": []
  },
  {
   "cell_type": "code",
   "execution_count": 17,
   "id": "ab3f76fa",
   "metadata": {},
   "outputs": [
    {
     "name": "stderr",
     "output_type": "stream",
     "text": [
      "C:\\ProgramData\\Anaconda3\\lib\\site-packages\\keras\\optimizers\\optimizer_v2\\adam.py:114: UserWarning: The `lr` argument is deprecated, use `learning_rate` instead.\n",
      "  super().__init__(name, **kwargs)\n"
     ]
    },
    {
     "name": "stdout",
     "output_type": "stream",
     "text": [
      "Epoch 1/300\n",
      "1/1 [==============================] - 1s 1s/step - loss: 13.0306 - mae: 13.0306\n",
      "Epoch 2/300\n",
      "1/1 [==============================] - 0s 6ms/step - loss: 12.9904 - mae: 12.9904\n",
      "Epoch 3/300\n",
      "1/1 [==============================] - 0s 7ms/step - loss: 12.9502 - mae: 12.9502\n",
      "Epoch 4/300\n",
      "1/1 [==============================] - 0s 9ms/step - loss: 12.9099 - mae: 12.9099\n",
      "Epoch 5/300\n",
      "1/1 [==============================] - 0s 7ms/step - loss: 12.8703 - mae: 12.8703\n",
      "Epoch 6/300\n",
      "1/1 [==============================] - 0s 7ms/step - loss: 12.8310 - mae: 12.8310\n",
      "Epoch 7/300\n",
      "1/1 [==============================] - 0s 8ms/step - loss: 12.7921 - mae: 12.7921\n",
      "Epoch 8/300\n",
      "1/1 [==============================] - 0s 7ms/step - loss: 12.7536 - mae: 12.7536\n",
      "Epoch 9/300\n",
      "1/1 [==============================] - 0s 7ms/step - loss: 12.7169 - mae: 12.7169\n",
      "Epoch 10/300\n",
      "1/1 [==============================] - 0s 7ms/step - loss: 12.6805 - mae: 12.6805\n",
      "Epoch 11/300\n",
      "1/1 [==============================] - 0s 8ms/step - loss: 12.6442 - mae: 12.6442\n",
      "Epoch 12/300\n",
      "1/1 [==============================] - 0s 8ms/step - loss: 12.6076 - mae: 12.6076\n",
      "Epoch 13/300\n",
      "1/1 [==============================] - 0s 9ms/step - loss: 12.5708 - mae: 12.5708\n",
      "Epoch 14/300\n",
      "1/1 [==============================] - 0s 6ms/step - loss: 12.5340 - mae: 12.5340\n",
      "Epoch 15/300\n",
      "1/1 [==============================] - 0s 9ms/step - loss: 12.4968 - mae: 12.4968\n",
      "Epoch 16/300\n",
      "1/1 [==============================] - 0s 7ms/step - loss: 12.4588 - mae: 12.4588\n",
      "Epoch 17/300\n",
      "1/1 [==============================] - 0s 6ms/step - loss: 12.4204 - mae: 12.4204\n",
      "Epoch 18/300\n",
      "1/1 [==============================] - 0s 6ms/step - loss: 12.3818 - mae: 12.3818\n",
      "Epoch 19/300\n",
      "1/1 [==============================] - 0s 10ms/step - loss: 12.3427 - mae: 12.3427\n",
      "Epoch 20/300\n",
      "1/1 [==============================] - 0s 8ms/step - loss: 12.3031 - mae: 12.3031\n",
      "Epoch 21/300\n",
      "1/1 [==============================] - 0s 7ms/step - loss: 12.2620 - mae: 12.2620\n",
      "Epoch 22/300\n",
      "1/1 [==============================] - 0s 7ms/step - loss: 12.2203 - mae: 12.2203\n",
      "Epoch 23/300\n",
      "1/1 [==============================] - 0s 7ms/step - loss: 12.1781 - mae: 12.1781\n",
      "Epoch 24/300\n",
      "1/1 [==============================] - 0s 9ms/step - loss: 12.1360 - mae: 12.1360\n",
      "Epoch 25/300\n",
      "1/1 [==============================] - 0s 8ms/step - loss: 12.0936 - mae: 12.0936\n",
      "Epoch 26/300\n",
      "1/1 [==============================] - 0s 8ms/step - loss: 12.0507 - mae: 12.0507\n",
      "Epoch 27/300\n",
      "1/1 [==============================] - 0s 7ms/step - loss: 12.0076 - mae: 12.0076\n",
      "Epoch 28/300\n",
      "1/1 [==============================] - 0s 9ms/step - loss: 11.9642 - mae: 11.9642\n",
      "Epoch 29/300\n",
      "1/1 [==============================] - 0s 10ms/step - loss: 11.9207 - mae: 11.9207\n",
      "Epoch 30/300\n",
      "1/1 [==============================] - 0s 8ms/step - loss: 11.8774 - mae: 11.8774\n",
      "Epoch 31/300\n",
      "1/1 [==============================] - 0s 6ms/step - loss: 11.8343 - mae: 11.8343\n",
      "Epoch 32/300\n",
      "1/1 [==============================] - 0s 8ms/step - loss: 11.7908 - mae: 11.7908\n",
      "Epoch 33/300\n",
      "1/1 [==============================] - 0s 9ms/step - loss: 11.7470 - mae: 11.7470\n",
      "Epoch 34/300\n",
      "1/1 [==============================] - 0s 9ms/step - loss: 11.7028 - mae: 11.7028\n",
      "Epoch 35/300\n",
      "1/1 [==============================] - 0s 8ms/step - loss: 11.6581 - mae: 11.6581\n",
      "Epoch 36/300\n",
      "1/1 [==============================] - 0s 8ms/step - loss: 11.6134 - mae: 11.6134\n",
      "Epoch 37/300\n",
      "1/1 [==============================] - 0s 6ms/step - loss: 11.5693 - mae: 11.5693\n",
      "Epoch 38/300\n",
      "1/1 [==============================] - 0s 7ms/step - loss: 11.5255 - mae: 11.5255\n",
      "Epoch 39/300\n",
      "1/1 [==============================] - 0s 8ms/step - loss: 11.4815 - mae: 11.4815\n",
      "Epoch 40/300\n",
      "1/1 [==============================] - 0s 7ms/step - loss: 11.4378 - mae: 11.4378\n",
      "Epoch 41/300\n",
      "1/1 [==============================] - 0s 7ms/step - loss: 11.3945 - mae: 11.3945\n",
      "Epoch 42/300\n",
      "1/1 [==============================] - 0s 10ms/step - loss: 11.3509 - mae: 11.3509\n",
      "Epoch 43/300\n",
      "1/1 [==============================] - 0s 9ms/step - loss: 11.3068 - mae: 11.3068\n",
      "Epoch 44/300\n",
      "1/1 [==============================] - 0s 8ms/step - loss: 11.2625 - mae: 11.2625\n",
      "Epoch 45/300\n",
      "1/1 [==============================] - 0s 6ms/step - loss: 11.2185 - mae: 11.2185\n",
      "Epoch 46/300\n",
      "1/1 [==============================] - 0s 6ms/step - loss: 11.1744 - mae: 11.1744\n",
      "Epoch 47/300\n",
      "1/1 [==============================] - 0s 6ms/step - loss: 11.1301 - mae: 11.1301\n",
      "Epoch 48/300\n",
      "1/1 [==============================] - 0s 6ms/step - loss: 11.0852 - mae: 11.0852\n",
      "Epoch 49/300\n",
      "1/1 [==============================] - 0s 7ms/step - loss: 11.0398 - mae: 11.0398\n",
      "Epoch 50/300\n",
      "1/1 [==============================] - 0s 7ms/step - loss: 10.9940 - mae: 10.9940\n",
      "Epoch 51/300\n",
      "1/1 [==============================] - 0s 7ms/step - loss: 10.9478 - mae: 10.9478\n",
      "Epoch 52/300\n",
      "1/1 [==============================] - 0s 7ms/step - loss: 10.9012 - mae: 10.9012\n",
      "Epoch 53/300\n",
      "1/1 [==============================] - 0s 8ms/step - loss: 10.8544 - mae: 10.8544\n",
      "Epoch 54/300\n",
      "1/1 [==============================] - 0s 6ms/step - loss: 10.8071 - mae: 10.8071\n",
      "Epoch 55/300\n",
      "1/1 [==============================] - 0s 7ms/step - loss: 10.7596 - mae: 10.7596\n",
      "Epoch 56/300\n",
      "1/1 [==============================] - 0s 10ms/step - loss: 10.7113 - mae: 10.7113\n",
      "Epoch 57/300\n",
      "1/1 [==============================] - 0s 6ms/step - loss: 10.6618 - mae: 10.6618\n",
      "Epoch 58/300\n",
      "1/1 [==============================] - 0s 6ms/step - loss: 10.6117 - mae: 10.6117\n",
      "Epoch 59/300\n",
      "1/1 [==============================] - 0s 7ms/step - loss: 10.5611 - mae: 10.5611\n",
      "Epoch 60/300\n",
      "1/1 [==============================] - 0s 7ms/step - loss: 10.5100 - mae: 10.5100\n",
      "Epoch 61/300\n",
      "1/1 [==============================] - 0s 8ms/step - loss: 10.4580 - mae: 10.4580\n",
      "Epoch 62/300\n",
      "1/1 [==============================] - 0s 8ms/step - loss: 10.4056 - mae: 10.4056\n",
      "Epoch 63/300\n",
      "1/1 [==============================] - 0s 9ms/step - loss: 10.3532 - mae: 10.3532\n",
      "Epoch 64/300\n",
      "1/1 [==============================] - 0s 8ms/step - loss: 10.3003 - mae: 10.3003\n",
      "Epoch 65/300\n",
      "1/1 [==============================] - 0s 8ms/step - loss: 10.2476 - mae: 10.2476\n",
      "Epoch 66/300\n",
      "1/1 [==============================] - 0s 9ms/step - loss: 10.1944 - mae: 10.1944\n",
      "Epoch 67/300\n",
      "1/1 [==============================] - 0s 9ms/step - loss: 10.1408 - mae: 10.1408\n",
      "Epoch 68/300\n",
      "1/1 [==============================] - 0s 8ms/step - loss: 10.0869 - mae: 10.0869\n",
      "Epoch 69/300\n",
      "1/1 [==============================] - 0s 9ms/step - loss: 10.0328 - mae: 10.0328\n",
      "Epoch 70/300\n",
      "1/1 [==============================] - 0s 7ms/step - loss: 9.9786 - mae: 9.9786\n",
      "Epoch 71/300\n",
      "1/1 [==============================] - 0s 6ms/step - loss: 9.9243 - mae: 9.9243\n",
      "Epoch 72/300\n",
      "1/1 [==============================] - 0s 6ms/step - loss: 9.8791 - mae: 9.8791\n",
      "Epoch 73/300\n",
      "1/1 [==============================] - 0s 8ms/step - loss: 9.8384 - mae: 9.8384\n",
      "Epoch 74/300\n",
      "1/1 [==============================] - 0s 7ms/step - loss: 9.7974 - mae: 9.7974\n",
      "Epoch 75/300\n",
      "1/1 [==============================] - 0s 8ms/step - loss: 9.7560 - mae: 9.7560\n",
      "Epoch 76/300\n",
      "1/1 [==============================] - 0s 10ms/step - loss: 9.7140 - mae: 9.7140\n",
      "Epoch 77/300\n",
      "1/1 [==============================] - 0s 8ms/step - loss: 9.6718 - mae: 9.6718\n",
      "Epoch 78/300\n",
      "1/1 [==============================] - 0s 11ms/step - loss: 9.6293 - mae: 9.6293\n",
      "Epoch 79/300\n",
      "1/1 [==============================] - 0s 8ms/step - loss: 9.5867 - mae: 9.5867\n",
      "Epoch 80/300\n",
      "1/1 [==============================] - 0s 8ms/step - loss: 9.5437 - mae: 9.5437\n",
      "Epoch 81/300\n",
      "1/1 [==============================] - 0s 6ms/step - loss: 9.5003 - mae: 9.5003\n",
      "Epoch 82/300\n",
      "1/1 [==============================] - 0s 9ms/step - loss: 9.4564 - mae: 9.4564\n",
      "Epoch 83/300\n",
      "1/1 [==============================] - 0s 10ms/step - loss: 9.4121 - mae: 9.4121\n",
      "Epoch 84/300\n",
      "1/1 [==============================] - 0s 8ms/step - loss: 9.3673 - mae: 9.3673\n",
      "Epoch 85/300\n",
      "1/1 [==============================] - 0s 9ms/step - loss: 9.3220 - mae: 9.3220\n",
      "Epoch 86/300\n",
      "1/1 [==============================] - 0s 9ms/step - loss: 9.2764 - mae: 9.2764\n",
      "Epoch 87/300\n"
     ]
    },
    {
     "name": "stdout",
     "output_type": "stream",
     "text": [
      "1/1 [==============================] - 0s 9ms/step - loss: 9.2301 - mae: 9.2301\n",
      "Epoch 88/300\n",
      "1/1 [==============================] - 0s 10ms/step - loss: 9.1834 - mae: 9.1834\n",
      "Epoch 89/300\n",
      "1/1 [==============================] - 0s 10ms/step - loss: 9.1363 - mae: 9.1363\n",
      "Epoch 90/300\n",
      "1/1 [==============================] - 0s 8ms/step - loss: 9.0889 - mae: 9.0889\n",
      "Epoch 91/300\n",
      "1/1 [==============================] - 0s 7ms/step - loss: 9.0411 - mae: 9.0411\n",
      "Epoch 92/300\n",
      "1/1 [==============================] - 0s 9ms/step - loss: 8.9928 - mae: 8.9928\n",
      "Epoch 93/300\n",
      "1/1 [==============================] - 0s 10ms/step - loss: 8.9439 - mae: 8.9439\n",
      "Epoch 94/300\n",
      "1/1 [==============================] - 0s 10ms/step - loss: 8.8947 - mae: 8.8947\n",
      "Epoch 95/300\n",
      "1/1 [==============================] - 0s 8ms/step - loss: 8.8452 - mae: 8.8452\n",
      "Epoch 96/300\n",
      "1/1 [==============================] - 0s 7ms/step - loss: 8.7956 - mae: 8.7956\n",
      "Epoch 97/300\n",
      "1/1 [==============================] - 0s 9ms/step - loss: 8.7454 - mae: 8.7454\n",
      "Epoch 98/300\n",
      "1/1 [==============================] - 0s 8ms/step - loss: 8.6948 - mae: 8.6948\n",
      "Epoch 99/300\n",
      "1/1 [==============================] - 0s 7ms/step - loss: 8.6437 - mae: 8.6437\n",
      "Epoch 100/300\n",
      "1/1 [==============================] - 0s 9ms/step - loss: 8.5922 - mae: 8.5922\n",
      "Epoch 101/300\n",
      "1/1 [==============================] - 0s 11ms/step - loss: 8.5402 - mae: 8.5402\n",
      "Epoch 102/300\n",
      "1/1 [==============================] - 0s 8ms/step - loss: 8.4878 - mae: 8.4878\n",
      "Epoch 103/300\n",
      "1/1 [==============================] - 0s 8ms/step - loss: 8.4349 - mae: 8.4349\n",
      "Epoch 104/300\n",
      "1/1 [==============================] - 0s 8ms/step - loss: 8.3815 - mae: 8.3815\n",
      "Epoch 105/300\n",
      "1/1 [==============================] - 0s 9ms/step - loss: 8.3277 - mae: 8.3277\n",
      "Epoch 106/300\n",
      "1/1 [==============================] - 0s 9ms/step - loss: 8.2734 - mae: 8.2734\n",
      "Epoch 107/300\n",
      "1/1 [==============================] - 0s 7ms/step - loss: 8.2187 - mae: 8.2187\n",
      "Epoch 108/300\n",
      "1/1 [==============================] - 0s 7ms/step - loss: 8.1639 - mae: 8.1639\n",
      "Epoch 109/300\n",
      "1/1 [==============================] - 0s 8ms/step - loss: 8.1092 - mae: 8.1092\n",
      "Epoch 110/300\n",
      "1/1 [==============================] - 0s 8ms/step - loss: 8.0540 - mae: 8.0540\n",
      "Epoch 111/300\n",
      "1/1 [==============================] - 0s 7ms/step - loss: 7.9988 - mae: 7.9988\n",
      "Epoch 112/300\n",
      "1/1 [==============================] - 0s 9ms/step - loss: 7.9433 - mae: 7.9433\n",
      "Epoch 113/300\n",
      "1/1 [==============================] - 0s 8ms/step - loss: 7.8873 - mae: 7.8873\n",
      "Epoch 114/300\n",
      "1/1 [==============================] - 0s 9ms/step - loss: 7.8307 - mae: 7.8307\n",
      "Epoch 115/300\n",
      "1/1 [==============================] - 0s 10ms/step - loss: 7.7736 - mae: 7.7736\n",
      "Epoch 116/300\n",
      "1/1 [==============================] - 0s 9ms/step - loss: 7.7161 - mae: 7.7161\n",
      "Epoch 117/300\n",
      "1/1 [==============================] - 0s 9ms/step - loss: 7.6581 - mae: 7.6581\n",
      "Epoch 118/300\n",
      "1/1 [==============================] - 0s 8ms/step - loss: 7.5995 - mae: 7.5995\n",
      "Epoch 119/300\n",
      "1/1 [==============================] - 0s 8ms/step - loss: 7.5400 - mae: 7.5400\n",
      "Epoch 120/300\n",
      "1/1 [==============================] - 0s 7ms/step - loss: 7.4798 - mae: 7.4798\n",
      "Epoch 121/300\n",
      "1/1 [==============================] - 0s 8ms/step - loss: 7.4189 - mae: 7.4189\n",
      "Epoch 122/300\n",
      "1/1 [==============================] - 0s 9ms/step - loss: 7.3575 - mae: 7.3575\n",
      "Epoch 123/300\n",
      "1/1 [==============================] - 0s 6ms/step - loss: 7.2954 - mae: 7.2954\n",
      "Epoch 124/300\n",
      "1/1 [==============================] - 0s 8ms/step - loss: 7.2327 - mae: 7.2327\n",
      "Epoch 125/300\n",
      "1/1 [==============================] - 0s 8ms/step - loss: 7.1692 - mae: 7.1692\n",
      "Epoch 126/300\n",
      "1/1 [==============================] - 0s 8ms/step - loss: 7.1052 - mae: 7.1052\n",
      "Epoch 127/300\n",
      "1/1 [==============================] - 0s 7ms/step - loss: 7.0405 - mae: 7.0405\n",
      "Epoch 128/300\n",
      "1/1 [==============================] - 0s 7ms/step - loss: 6.9752 - mae: 6.9752\n",
      "Epoch 129/300\n",
      "1/1 [==============================] - 0s 10ms/step - loss: 6.9093 - mae: 6.9093\n",
      "Epoch 130/300\n",
      "1/1 [==============================] - 0s 8ms/step - loss: 6.8428 - mae: 6.8428\n",
      "Epoch 131/300\n",
      "1/1 [==============================] - 0s 8ms/step - loss: 6.7757 - mae: 6.7757\n",
      "Epoch 132/300\n",
      "1/1 [==============================] - 0s 9ms/step - loss: 6.7083 - mae: 6.7083\n",
      "Epoch 133/300\n",
      "1/1 [==============================] - 0s 6ms/step - loss: 6.6406 - mae: 6.6406\n",
      "Epoch 134/300\n",
      "1/1 [==============================] - 0s 9ms/step - loss: 6.5722 - mae: 6.5722\n",
      "Epoch 135/300\n",
      "1/1 [==============================] - 0s 9ms/step - loss: 6.5031 - mae: 6.5031\n",
      "Epoch 136/300\n",
      "1/1 [==============================] - 0s 11ms/step - loss: 6.4333 - mae: 6.4333\n",
      "Epoch 137/300\n",
      "1/1 [==============================] - 0s 11ms/step - loss: 6.3629 - mae: 6.3629\n",
      "Epoch 138/300\n",
      "1/1 [==============================] - 0s 9ms/step - loss: 6.2919 - mae: 6.2919\n",
      "Epoch 139/300\n",
      "1/1 [==============================] - 0s 9ms/step - loss: 6.2200 - mae: 6.2200\n",
      "Epoch 140/300\n",
      "1/1 [==============================] - 0s 9ms/step - loss: 6.1476 - mae: 6.1476\n",
      "Epoch 141/300\n",
      "1/1 [==============================] - 0s 10ms/step - loss: 6.0744 - mae: 6.0744\n",
      "Epoch 142/300\n",
      "1/1 [==============================] - 0s 9ms/step - loss: 6.0005 - mae: 6.0005\n",
      "Epoch 143/300\n",
      "1/1 [==============================] - 0s 9ms/step - loss: 5.9258 - mae: 5.9258\n",
      "Epoch 144/300\n",
      "1/1 [==============================] - 0s 9ms/step - loss: 5.8504 - mae: 5.8504\n",
      "Epoch 145/300\n",
      "1/1 [==============================] - 0s 8ms/step - loss: 5.7743 - mae: 5.7743\n",
      "Epoch 146/300\n",
      "1/1 [==============================] - 0s 9ms/step - loss: 5.6975 - mae: 5.6975\n",
      "Epoch 147/300\n",
      "1/1 [==============================] - 0s 8ms/step - loss: 5.6198 - mae: 5.6198\n",
      "Epoch 148/300\n",
      "1/1 [==============================] - 0s 8ms/step - loss: 5.5415 - mae: 5.5415\n",
      "Epoch 149/300\n",
      "1/1 [==============================] - 0s 7ms/step - loss: 5.4624 - mae: 5.4624\n",
      "Epoch 150/300\n",
      "1/1 [==============================] - 0s 8ms/step - loss: 5.3826 - mae: 5.3826\n",
      "Epoch 151/300\n",
      "1/1 [==============================] - 0s 9ms/step - loss: 5.3019 - mae: 5.3019\n",
      "Epoch 152/300\n",
      "1/1 [==============================] - 0s 8ms/step - loss: 5.2205 - mae: 5.2205\n",
      "Epoch 153/300\n",
      "1/1 [==============================] - 0s 10ms/step - loss: 5.1383 - mae: 5.1383\n",
      "Epoch 154/300\n",
      "1/1 [==============================] - 0s 10ms/step - loss: 5.0552 - mae: 5.0552\n",
      "Epoch 155/300\n",
      "1/1 [==============================] - 0s 8ms/step - loss: 4.9712 - mae: 4.9712\n",
      "Epoch 156/300\n",
      "1/1 [==============================] - 0s 8ms/step - loss: 4.8865 - mae: 4.8865\n",
      "Epoch 157/300\n",
      "1/1 [==============================] - 0s 8ms/step - loss: 4.8012 - mae: 4.8012\n",
      "Epoch 158/300\n",
      "1/1 [==============================] - 0s 10ms/step - loss: 4.7150 - mae: 4.7150\n",
      "Epoch 159/300\n",
      "1/1 [==============================] - 0s 7ms/step - loss: 4.6280 - mae: 4.6280\n",
      "Epoch 160/300\n",
      "1/1 [==============================] - 0s 8ms/step - loss: 4.5402 - mae: 4.5402\n",
      "Epoch 161/300\n",
      "1/1 [==============================] - 0s 6ms/step - loss: 4.4515 - mae: 4.4515\n",
      "Epoch 162/300\n",
      "1/1 [==============================] - 0s 7ms/step - loss: 4.3619 - mae: 4.3619\n",
      "Epoch 163/300\n",
      "1/1 [==============================] - 0s 8ms/step - loss: 4.2715 - mae: 4.2715\n",
      "Epoch 164/300\n",
      "1/1 [==============================] - 0s 7ms/step - loss: 4.1802 - mae: 4.1802\n",
      "Epoch 165/300\n",
      "1/1 [==============================] - 0s 8ms/step - loss: 4.1193 - mae: 4.1193\n",
      "Epoch 166/300\n",
      "1/1 [==============================] - 0s 8ms/step - loss: 4.0918 - mae: 4.0918\n",
      "Epoch 167/300\n",
      "1/1 [==============================] - 0s 8ms/step - loss: 4.0656 - mae: 4.0656\n",
      "Epoch 168/300\n",
      "1/1 [==============================] - 0s 10ms/step - loss: 4.0408 - mae: 4.0408\n",
      "Epoch 169/300\n",
      "1/1 [==============================] - 0s 5ms/step - loss: 4.0172 - mae: 4.0172\n",
      "Epoch 170/300\n",
      "1/1 [==============================] - 0s 6ms/step - loss: 3.9947 - mae: 3.9947\n",
      "Epoch 171/300\n",
      "1/1 [==============================] - 0s 8ms/step - loss: 3.9731 - mae: 3.9731\n",
      "Epoch 172/300\n",
      "1/1 [==============================] - 0s 7ms/step - loss: 3.9523 - mae: 3.9523\n",
      "Epoch 173/300\n",
      "1/1 [==============================] - 0s 7ms/step - loss: 3.9323 - mae: 3.9323\n",
      "Epoch 174/300\n"
     ]
    },
    {
     "name": "stdout",
     "output_type": "stream",
     "text": [
      "1/1 [==============================] - 0s 7ms/step - loss: 3.9131 - mae: 3.9131\n",
      "Epoch 175/300\n",
      "1/1 [==============================] - 0s 8ms/step - loss: 3.8943 - mae: 3.8943\n",
      "Epoch 176/300\n",
      "1/1 [==============================] - 0s 8ms/step - loss: 3.8761 - mae: 3.8761\n",
      "Epoch 177/300\n",
      "1/1 [==============================] - 0s 7ms/step - loss: 3.8585 - mae: 3.8585\n",
      "Epoch 178/300\n",
      "1/1 [==============================] - 0s 7ms/step - loss: 3.8414 - mae: 3.8414\n",
      "Epoch 179/300\n",
      "1/1 [==============================] - 0s 7ms/step - loss: 3.8311 - mae: 3.8311\n",
      "Epoch 180/300\n",
      "1/1 [==============================] - 0s 9ms/step - loss: 3.8400 - mae: 3.8400\n",
      "Epoch 181/300\n",
      "1/1 [==============================] - 0s 7ms/step - loss: 3.8471 - mae: 3.8471\n",
      "Epoch 182/300\n",
      "1/1 [==============================] - 0s 6ms/step - loss: 3.8527 - mae: 3.8527\n",
      "Epoch 183/300\n",
      "1/1 [==============================] - 0s 10ms/step - loss: 3.8570 - mae: 3.8570\n",
      "Epoch 184/300\n",
      "1/1 [==============================] - 0s 10ms/step - loss: 3.8601 - mae: 3.8601\n",
      "Epoch 185/300\n",
      "1/1 [==============================] - 0s 8ms/step - loss: 3.8620 - mae: 3.8620\n",
      "Epoch 186/300\n",
      "1/1 [==============================] - 0s 7ms/step - loss: 3.8630 - mae: 3.8630\n",
      "Epoch 187/300\n",
      "1/1 [==============================] - 0s 8ms/step - loss: 3.8629 - mae: 3.8629\n",
      "Epoch 188/300\n",
      "1/1 [==============================] - 0s 7ms/step - loss: 3.8621 - mae: 3.8621\n",
      "Epoch 189/300\n",
      "1/1 [==============================] - 0s 6ms/step - loss: 3.8604 - mae: 3.8604\n",
      "Epoch 190/300\n",
      "1/1 [==============================] - 0s 7ms/step - loss: 3.8581 - mae: 3.8581\n",
      "Epoch 191/300\n",
      "1/1 [==============================] - 0s 7ms/step - loss: 3.8552 - mae: 3.8552\n",
      "Epoch 192/300\n",
      "1/1 [==============================] - 0s 6ms/step - loss: 3.8518 - mae: 3.8518\n",
      "Epoch 193/300\n",
      "1/1 [==============================] - 0s 7ms/step - loss: 3.8478 - mae: 3.8478\n",
      "Epoch 194/300\n",
      "1/1 [==============================] - 0s 7ms/step - loss: 3.8433 - mae: 3.8433\n",
      "Epoch 195/300\n",
      "1/1 [==============================] - 0s 8ms/step - loss: 3.8385 - mae: 3.8385\n",
      "Epoch 196/300\n",
      "1/1 [==============================] - 0s 6ms/step - loss: 3.8334 - mae: 3.8334\n",
      "Epoch 197/300\n",
      "1/1 [==============================] - 0s 9ms/step - loss: 3.8280 - mae: 3.8280\n",
      "Epoch 198/300\n",
      "1/1 [==============================] - 0s 9ms/step - loss: 3.8222 - mae: 3.8222\n",
      "Epoch 199/300\n",
      "1/1 [==============================] - 0s 7ms/step - loss: 3.8162 - mae: 3.8162\n",
      "Epoch 200/300\n",
      "1/1 [==============================] - 0s 7ms/step - loss: 3.8100 - mae: 3.8100\n",
      "Epoch 201/300\n",
      "1/1 [==============================] - 0s 8ms/step - loss: 3.8035 - mae: 3.8035\n",
      "Epoch 202/300\n",
      "1/1 [==============================] - 0s 7ms/step - loss: 3.8036 - mae: 3.8036\n",
      "Epoch 203/300\n",
      "1/1 [==============================] - 0s 9ms/step - loss: 3.8076 - mae: 3.8076\n",
      "Epoch 204/300\n",
      "1/1 [==============================] - 0s 7ms/step - loss: 3.8097 - mae: 3.8097\n",
      "Epoch 205/300\n",
      "1/1 [==============================] - 0s 7ms/step - loss: 3.8103 - mae: 3.8103\n",
      "Epoch 206/300\n",
      "1/1 [==============================] - 0s 7ms/step - loss: 3.8094 - mae: 3.8094\n",
      "Epoch 207/300\n",
      "1/1 [==============================] - 0s 9ms/step - loss: 3.8073 - mae: 3.8073\n",
      "Epoch 208/300\n",
      "1/1 [==============================] - 0s 9ms/step - loss: 3.8039 - mae: 3.8039\n",
      "Epoch 209/300\n",
      "1/1 [==============================] - 0s 9ms/step - loss: 3.7994 - mae: 3.7994\n",
      "Epoch 210/300\n",
      "1/1 [==============================] - 0s 10ms/step - loss: 3.7940 - mae: 3.7940\n",
      "Epoch 211/300\n",
      "1/1 [==============================] - 0s 15ms/step - loss: 3.7886 - mae: 3.7886\n",
      "Epoch 212/300\n",
      "1/1 [==============================] - 0s 18ms/step - loss: 3.7899 - mae: 3.7899\n",
      "Epoch 213/300\n",
      "1/1 [==============================] - 0s 10ms/step - loss: 3.7903 - mae: 3.7903\n",
      "Epoch 214/300\n",
      "1/1 [==============================] - 0s 10ms/step - loss: 3.7924 - mae: 3.7924\n",
      "Epoch 215/300\n",
      "1/1 [==============================] - 0s 9ms/step - loss: 3.7904 - mae: 3.7904\n",
      "Epoch 216/300\n",
      "1/1 [==============================] - 0s 12ms/step - loss: 3.7888 - mae: 3.7888\n",
      "Epoch 217/300\n",
      "1/1 [==============================] - 0s 8ms/step - loss: 3.7874 - mae: 3.7874\n",
      "Epoch 218/300\n",
      "1/1 [==============================] - 0s 10ms/step - loss: 3.7853 - mae: 3.7853\n",
      "Epoch 219/300\n",
      "1/1 [==============================] - 0s 10ms/step - loss: 3.7836 - mae: 3.7836\n",
      "Epoch 220/300\n",
      "1/1 [==============================] - 0s 9ms/step - loss: 3.7847 - mae: 3.7847\n",
      "Epoch 221/300\n",
      "1/1 [==============================] - 0s 10ms/step - loss: 3.7842 - mae: 3.7842\n",
      "Epoch 222/300\n",
      "1/1 [==============================] - 0s 10ms/step - loss: 3.7822 - mae: 3.7822\n",
      "Epoch 223/300\n",
      "1/1 [==============================] - 0s 9ms/step - loss: 3.7808 - mae: 3.7808\n",
      "Epoch 224/300\n",
      "1/1 [==============================] - 0s 6ms/step - loss: 3.7807 - mae: 3.7807\n",
      "Epoch 225/300\n",
      "1/1 [==============================] - 0s 8ms/step - loss: 3.7796 - mae: 3.7796\n",
      "Epoch 226/300\n",
      "1/1 [==============================] - 0s 7ms/step - loss: 3.7777 - mae: 3.7777\n",
      "Epoch 227/300\n",
      "1/1 [==============================] - 0s 8ms/step - loss: 3.7764 - mae: 3.7764\n",
      "Epoch 228/300\n",
      "1/1 [==============================] - 0s 6ms/step - loss: 3.7755 - mae: 3.7755\n",
      "Epoch 229/300\n",
      "1/1 [==============================] - 0s 9ms/step - loss: 3.7749 - mae: 3.7749\n",
      "Epoch 230/300\n",
      "1/1 [==============================] - 0s 8ms/step - loss: 3.7743 - mae: 3.7743\n",
      "Epoch 231/300\n",
      "1/1 [==============================] - 0s 8ms/step - loss: 3.7750 - mae: 3.7750\n",
      "Epoch 232/300\n",
      "1/1 [==============================] - 0s 7ms/step - loss: 3.7750 - mae: 3.7750\n",
      "Epoch 233/300\n",
      "1/1 [==============================] - 0s 7ms/step - loss: 3.7740 - mae: 3.7740\n",
      "Epoch 234/300\n",
      "1/1 [==============================] - 0s 8ms/step - loss: 3.7721 - mae: 3.7721\n",
      "Epoch 235/300\n",
      "1/1 [==============================] - 0s 6ms/step - loss: 3.7725 - mae: 3.7725\n",
      "Epoch 236/300\n",
      "1/1 [==============================] - 0s 8ms/step - loss: 3.7728 - mae: 3.7728\n",
      "Epoch 237/300\n",
      "1/1 [==============================] - 0s 9ms/step - loss: 3.7716 - mae: 3.7716\n",
      "Epoch 238/300\n",
      "1/1 [==============================] - 0s 6ms/step - loss: 3.7690 - mae: 3.7690\n",
      "Epoch 239/300\n",
      "1/1 [==============================] - 0s 7ms/step - loss: 3.7690 - mae: 3.7690\n",
      "Epoch 240/300\n",
      "1/1 [==============================] - 0s 8ms/step - loss: 3.7690 - mae: 3.7690\n",
      "Epoch 241/300\n",
      "1/1 [==============================] - 0s 9ms/step - loss: 3.7682 - mae: 3.7682\n",
      "Epoch 242/300\n",
      "1/1 [==============================] - 0s 8ms/step - loss: 3.7664 - mae: 3.7664\n",
      "Epoch 243/300\n",
      "1/1 [==============================] - 0s 7ms/step - loss: 3.7639 - mae: 3.7639\n",
      "Epoch 244/300\n",
      "1/1 [==============================] - 0s 6ms/step - loss: 3.7639 - mae: 3.7639\n",
      "Epoch 245/300\n",
      "1/1 [==============================] - 0s 7ms/step - loss: 3.7629 - mae: 3.7629\n",
      "Epoch 246/300\n",
      "1/1 [==============================] - 0s 7ms/step - loss: 3.7612 - mae: 3.7612\n",
      "Epoch 247/300\n",
      "1/1 [==============================] - 0s 8ms/step - loss: 3.7615 - mae: 3.7615\n",
      "Epoch 248/300\n",
      "1/1 [==============================] - 0s 7ms/step - loss: 3.7618 - mae: 3.7618\n",
      "Epoch 249/300\n",
      "1/1 [==============================] - 0s 9ms/step - loss: 3.7611 - mae: 3.7611\n",
      "Epoch 250/300\n",
      "1/1 [==============================] - 0s 10ms/step - loss: 3.7596 - mae: 3.7596\n",
      "Epoch 251/300\n",
      "1/1 [==============================] - 0s 8ms/step - loss: 3.7593 - mae: 3.7593\n",
      "Epoch 252/300\n",
      "1/1 [==============================] - 0s 8ms/step - loss: 3.7590 - mae: 3.7590\n",
      "Epoch 253/300\n",
      "1/1 [==============================] - 0s 6ms/step - loss: 3.7572 - mae: 3.7572\n",
      "Epoch 254/300\n",
      "1/1 [==============================] - 0s 9ms/step - loss: 3.7563 - mae: 3.7563\n",
      "Epoch 255/300\n",
      "1/1 [==============================] - 0s 7ms/step - loss: 3.7558 - mae: 3.7558\n",
      "Epoch 256/300\n",
      "1/1 [==============================] - 0s 7ms/step - loss: 3.7545 - mae: 3.7545\n",
      "Epoch 257/300\n",
      "1/1 [==============================] - 0s 7ms/step - loss: 3.7523 - mae: 3.7523\n",
      "Epoch 258/300\n",
      "1/1 [==============================] - 0s 9ms/step - loss: 3.7522 - mae: 3.7522\n",
      "Epoch 259/300\n",
      "1/1 [==============================] - 0s 9ms/step - loss: 3.7535 - mae: 3.7535\n",
      "Epoch 260/300\n",
      "1/1 [==============================] - 0s 7ms/step - loss: 3.7505 - mae: 3.7505\n",
      "Epoch 261/300\n"
     ]
    },
    {
     "name": "stdout",
     "output_type": "stream",
     "text": [
      "1/1 [==============================] - 0s 8ms/step - loss: 3.7496 - mae: 3.7496\n",
      "Epoch 262/300\n",
      "1/1 [==============================] - 0s 8ms/step - loss: 3.7502 - mae: 3.7502\n",
      "Epoch 263/300\n",
      "1/1 [==============================] - 0s 8ms/step - loss: 3.7499 - mae: 3.7499\n",
      "Epoch 264/300\n",
      "1/1 [==============================] - 0s 10ms/step - loss: 3.7486 - mae: 3.7486\n",
      "Epoch 265/300\n",
      "1/1 [==============================] - 0s 7ms/step - loss: 3.7472 - mae: 3.7472\n",
      "Epoch 266/300\n",
      "1/1 [==============================] - 0s 7ms/step - loss: 3.7469 - mae: 3.7469\n",
      "Epoch 267/300\n",
      "1/1 [==============================] - 0s 8ms/step - loss: 3.7454 - mae: 3.7454\n",
      "Epoch 268/300\n",
      "1/1 [==============================] - 0s 10ms/step - loss: 3.7443 - mae: 3.7443\n",
      "Epoch 269/300\n",
      "1/1 [==============================] - 0s 7ms/step - loss: 3.7443 - mae: 3.7443\n",
      "Epoch 270/300\n",
      "1/1 [==============================] - 0s 7ms/step - loss: 3.7429 - mae: 3.7429\n",
      "Epoch 271/300\n",
      "1/1 [==============================] - 0s 8ms/step - loss: 3.7418 - mae: 3.7418\n",
      "Epoch 272/300\n",
      "1/1 [==============================] - 0s 11ms/step - loss: 3.7409 - mae: 3.7409\n",
      "Epoch 273/300\n",
      "1/1 [==============================] - 0s 9ms/step - loss: 3.7392 - mae: 3.7392\n",
      "Epoch 274/300\n",
      "1/1 [==============================] - 0s 8ms/step - loss: 3.7390 - mae: 3.7390\n",
      "Epoch 275/300\n",
      "1/1 [==============================] - 0s 7ms/step - loss: 3.7372 - mae: 3.7372\n",
      "Epoch 276/300\n",
      "1/1 [==============================] - 0s 7ms/step - loss: 3.7365 - mae: 3.7365\n",
      "Epoch 277/300\n",
      "1/1 [==============================] - 0s 9ms/step - loss: 3.7358 - mae: 3.7358\n",
      "Epoch 278/300\n",
      "1/1 [==============================] - 0s 6ms/step - loss: 3.7349 - mae: 3.7349\n",
      "Epoch 279/300\n",
      "1/1 [==============================] - 0s 7ms/step - loss: 3.7348 - mae: 3.7348\n",
      "Epoch 280/300\n",
      "1/1 [==============================] - 0s 11ms/step - loss: 3.7343 - mae: 3.7343\n",
      "Epoch 281/300\n",
      "1/1 [==============================] - 0s 8ms/step - loss: 3.7327 - mae: 3.7327\n",
      "Epoch 282/300\n",
      "1/1 [==============================] - 0s 9ms/step - loss: 3.7320 - mae: 3.7320\n",
      "Epoch 283/300\n",
      "1/1 [==============================] - 0s 8ms/step - loss: 3.7313 - mae: 3.7313\n",
      "Epoch 284/300\n",
      "1/1 [==============================] - 0s 9ms/step - loss: 3.7300 - mae: 3.7300\n",
      "Epoch 285/300\n",
      "1/1 [==============================] - 0s 8ms/step - loss: 3.7292 - mae: 3.7292\n",
      "Epoch 286/300\n",
      "1/1 [==============================] - 0s 10ms/step - loss: 3.7281 - mae: 3.7281\n",
      "Epoch 287/300\n",
      "1/1 [==============================] - 0s 9ms/step - loss: 3.7266 - mae: 3.7266\n",
      "Epoch 288/300\n",
      "1/1 [==============================] - 0s 10ms/step - loss: 3.7261 - mae: 3.7261\n",
      "Epoch 289/300\n",
      "1/1 [==============================] - 0s 12ms/step - loss: 3.7243 - mae: 3.7243\n",
      "Epoch 290/300\n",
      "1/1 [==============================] - 0s 9ms/step - loss: 3.7238 - mae: 3.7238\n",
      "Epoch 291/300\n",
      "1/1 [==============================] - 0s 9ms/step - loss: 3.7233 - mae: 3.7233\n",
      "Epoch 292/300\n",
      "1/1 [==============================] - 0s 9ms/step - loss: 3.7223 - mae: 3.7223\n",
      "Epoch 293/300\n",
      "1/1 [==============================] - 0s 12ms/step - loss: 3.7215 - mae: 3.7215\n",
      "Epoch 294/300\n",
      "1/1 [==============================] - 0s 11ms/step - loss: 3.7202 - mae: 3.7202\n",
      "Epoch 295/300\n",
      "1/1 [==============================] - 0s 9ms/step - loss: 3.7208 - mae: 3.7208\n",
      "Epoch 296/300\n",
      "1/1 [==============================] - 0s 10ms/step - loss: 3.7199 - mae: 3.7199\n",
      "Epoch 297/300\n",
      "1/1 [==============================] - 0s 7ms/step - loss: 3.7189 - mae: 3.7189\n",
      "Epoch 298/300\n",
      "1/1 [==============================] - 0s 8ms/step - loss: 3.7170 - mae: 3.7170\n",
      "Epoch 299/300\n",
      "1/1 [==============================] - 0s 7ms/step - loss: 3.7187 - mae: 3.7187\n",
      "Epoch 300/300\n",
      "1/1 [==============================] - 0s 8ms/step - loss: 3.7186 - mae: 3.7186\n"
     ]
    },
    {
     "data": {
      "text/plain": [
       "<keras.callbacks.History at 0x258fc67f640>"
      ]
     },
     "execution_count": 17,
     "metadata": {},
     "output_type": "execute_result"
    }
   ],
   "source": [
    "# 2nd experiment : buil a larger model, as an improvement to the model\n",
    "\n",
    "# Set a random seed (in order to have some reproducibility)\n",
    "tf.random.set_seed(42)\n",
    "\n",
    "# 1. Create a model using the Sequential API\n",
    "model = tf.keras.Sequential([\n",
    "    \n",
    "    # Adding more hidden layers, more neurons, and activation function \n",
    "    tf.keras.layers.Dense(100, activation=\"relu\"),\n",
    "    tf.keras.layers.Dense(100, activation=\"relu\"),\n",
    "    tf.keras.layers.Dense(100, activation=\"relu\"),\n",
    "    \n",
    "    tf.keras.layers.Dense(1)\n",
    "])\n",
    "\n",
    "# 2. Compile the model\n",
    "model.compile(loss=tf.keras.losses.mae, # MAE : Mean Absolute Error\n",
    "              optimizer=tf.keras.optimizers.Adam(lr=0.0001), # lr = Learning Rate\n",
    "              metrics=[\"mae\"]\n",
    "             )\n",
    "\n",
    "# 3. Fit the model \n",
    "model.fit(tf.expand_dims(X, axis=-1),y, epochs=300) # Increasing the number of epochs\n"
   ]
  },
  {
   "cell_type": "markdown",
   "id": "673624a9",
   "metadata": {},
   "source": [
    "The 2nd model, although more larger, don't provide a better training result compared to the previously built one."
   ]
  },
  {
   "cell_type": "code",
   "execution_count": 18,
   "id": "533e0fa1",
   "metadata": {},
   "outputs": [
    {
     "data": {
      "text/plain": [
       "(<tf.Tensor: shape=(8,), dtype=float64, numpy=array([-7., -4., -1.,  2.,  5.,  8., 11., 14.])>,\n",
       " <tf.Tensor: shape=(8,), dtype=float64, numpy=array([ 3.,  6.,  9., 12., 15., 18., 21., 24.])>)"
      ]
     },
     "execution_count": 18,
     "metadata": {},
     "output_type": "execute_result"
    }
   ],
   "source": [
    "# Remind ourselves of the data\n",
    "X, y"
   ]
  },
  {
   "cell_type": "code",
   "execution_count": 19,
   "id": "9e130a20",
   "metadata": {},
   "outputs": [
    {
     "name": "stdout",
     "output_type": "stream",
     "text": [
      "1/1 [==============================] - 0s 263ms/step\n"
     ]
    },
    {
     "data": {
      "text/plain": [
       "array([[31.992716]], dtype=float32)"
      ]
     },
     "execution_count": 19,
     "metadata": {},
     "output_type": "execute_result"
    }
   ],
   "source": [
    "# Check if the model's prediction has improved...\n",
    "model.predict([17.])"
   ]
  },
  {
   "cell_type": "code",
   "execution_count": null,
   "id": "883941b4",
   "metadata": {},
   "outputs": [],
   "source": []
  },
  {
   "cell_type": "code",
   "execution_count": 20,
   "id": "0cc87495",
   "metadata": {},
   "outputs": [
    {
     "name": "stdout",
     "output_type": "stream",
     "text": [
      "Epoch 1/100\n",
      "1/1 [==============================] - 1s 632ms/step - loss: 13.0158 - mae: 13.0158\n",
      "Epoch 2/100\n",
      "1/1 [==============================] - 0s 5ms/step - loss: 12.2054 - mae: 12.2054\n",
      "Epoch 3/100\n",
      "1/1 [==============================] - 0s 6ms/step - loss: 11.4017 - mae: 11.4017\n",
      "Epoch 4/100\n",
      "1/1 [==============================] - 0s 5ms/step - loss: 10.6495 - mae: 10.6495\n",
      "Epoch 5/100\n",
      "1/1 [==============================] - 0s 5ms/step - loss: 10.0846 - mae: 10.0846\n",
      "Epoch 6/100\n",
      "1/1 [==============================] - 0s 8ms/step - loss: 9.5035 - mae: 9.5035\n",
      "Epoch 7/100\n",
      "1/1 [==============================] - 0s 6ms/step - loss: 8.9134 - mae: 8.9134\n",
      "Epoch 8/100\n",
      "1/1 [==============================] - 0s 4ms/step - loss: 8.3137 - mae: 8.3137\n",
      "Epoch 9/100\n",
      "1/1 [==============================] - 0s 7ms/step - loss: 7.7036 - mae: 7.7036\n",
      "Epoch 10/100\n",
      "1/1 [==============================] - 0s 5ms/step - loss: 7.0777 - mae: 7.0777\n",
      "Epoch 11/100\n",
      "1/1 [==============================] - 0s 6ms/step - loss: 6.4283 - mae: 6.4283\n",
      "Epoch 12/100\n",
      "1/1 [==============================] - 0s 5ms/step - loss: 5.7522 - mae: 5.7522\n",
      "Epoch 13/100\n",
      "1/1 [==============================] - 0s 5ms/step - loss: 5.0494 - mae: 5.0494\n",
      "Epoch 14/100\n",
      "1/1 [==============================] - 0s 6ms/step - loss: 4.3165 - mae: 4.3165\n",
      "Epoch 15/100\n",
      "1/1 [==============================] - 0s 6ms/step - loss: 3.8518 - mae: 3.8518\n",
      "Epoch 16/100\n",
      "1/1 [==============================] - 0s 7ms/step - loss: 3.7514 - mae: 3.7514\n",
      "Epoch 17/100\n",
      "1/1 [==============================] - 0s 5ms/step - loss: 3.8743 - mae: 3.8743\n",
      "Epoch 18/100\n",
      "1/1 [==============================] - 0s 6ms/step - loss: 3.9822 - mae: 3.9822\n",
      "Epoch 19/100\n",
      "1/1 [==============================] - 0s 7ms/step - loss: 4.2184 - mae: 4.2184\n",
      "Epoch 20/100\n",
      "1/1 [==============================] - 0s 6ms/step - loss: 4.3644 - mae: 4.3644\n",
      "Epoch 21/100\n",
      "1/1 [==============================] - 0s 6ms/step - loss: 4.4296 - mae: 4.4296\n",
      "Epoch 22/100\n",
      "1/1 [==============================] - 0s 8ms/step - loss: 4.4217 - mae: 4.4217\n",
      "Epoch 23/100\n",
      "1/1 [==============================] - 0s 6ms/step - loss: 4.3530 - mae: 4.3530\n",
      "Epoch 24/100\n",
      "1/1 [==============================] - 0s 7ms/step - loss: 4.2362 - mae: 4.2362\n",
      "Epoch 25/100\n",
      "1/1 [==============================] - 0s 7ms/step - loss: 4.0714 - mae: 4.0714\n",
      "Epoch 26/100\n",
      "1/1 [==============================] - 0s 6ms/step - loss: 3.8648 - mae: 3.8648\n",
      "Epoch 27/100\n",
      "1/1 [==============================] - 0s 7ms/step - loss: 3.6349 - mae: 3.6349\n",
      "Epoch 28/100\n",
      "1/1 [==============================] - 0s 9ms/step - loss: 3.5279 - mae: 3.5279\n",
      "Epoch 29/100\n",
      "1/1 [==============================] - 0s 7ms/step - loss: 3.4356 - mae: 3.4356\n",
      "Epoch 30/100\n",
      "1/1 [==============================] - 0s 7ms/step - loss: 3.3159 - mae: 3.3159\n",
      "Epoch 31/100\n",
      "1/1 [==============================] - 0s 7ms/step - loss: 3.2145 - mae: 3.2145\n",
      "Epoch 32/100\n",
      "1/1 [==============================] - 0s 6ms/step - loss: 3.1821 - mae: 3.1821\n",
      "Epoch 33/100\n",
      "1/1 [==============================] - 0s 6ms/step - loss: 3.1885 - mae: 3.1885\n",
      "Epoch 34/100\n",
      "1/1 [==============================] - 0s 8ms/step - loss: 3.1597 - mae: 3.1597\n",
      "Epoch 35/100\n",
      "1/1 [==============================] - 0s 8ms/step - loss: 3.1044 - mae: 3.1044\n",
      "Epoch 36/100\n",
      "1/1 [==============================] - 0s 7ms/step - loss: 3.0154 - mae: 3.0154\n",
      "Epoch 37/100\n",
      "1/1 [==============================] - 0s 7ms/step - loss: 2.8972 - mae: 2.8972\n",
      "Epoch 38/100\n",
      "1/1 [==============================] - 0s 7ms/step - loss: 2.7826 - mae: 2.7826\n",
      "Epoch 39/100\n",
      "1/1 [==============================] - 0s 8ms/step - loss: 2.7467 - mae: 2.7467\n",
      "Epoch 40/100\n",
      "1/1 [==============================] - 0s 7ms/step - loss: 2.6978 - mae: 2.6978\n",
      "Epoch 41/100\n",
      "1/1 [==============================] - 0s 8ms/step - loss: 2.6323 - mae: 2.6323\n",
      "Epoch 42/100\n",
      "1/1 [==============================] - 0s 6ms/step - loss: 2.5527 - mae: 2.5527\n",
      "Epoch 43/100\n",
      "1/1 [==============================] - 0s 7ms/step - loss: 2.4583 - mae: 2.4583\n",
      "Epoch 44/100\n",
      "1/1 [==============================] - 0s 7ms/step - loss: 2.3506 - mae: 2.3506\n",
      "Epoch 45/100\n",
      "1/1 [==============================] - 0s 7ms/step - loss: 2.2301 - mae: 2.2301\n",
      "Epoch 46/100\n",
      "1/1 [==============================] - 0s 7ms/step - loss: 2.0993 - mae: 2.0993\n",
      "Epoch 47/100\n",
      "1/1 [==============================] - 0s 5ms/step - loss: 2.0091 - mae: 2.0091\n",
      "Epoch 48/100\n",
      "1/1 [==============================] - 0s 7ms/step - loss: 1.8932 - mae: 1.8932\n",
      "Epoch 49/100\n",
      "1/1 [==============================] - 0s 6ms/step - loss: 1.7382 - mae: 1.7382\n",
      "Epoch 50/100\n",
      "1/1 [==============================] - 0s 8ms/step - loss: 1.6123 - mae: 1.6123\n",
      "Epoch 51/100\n",
      "1/1 [==============================] - 0s 7ms/step - loss: 1.4686 - mae: 1.4686\n",
      "Epoch 52/100\n",
      "1/1 [==============================] - 0s 10ms/step - loss: 1.3203 - mae: 1.3203\n",
      "Epoch 53/100\n",
      "1/1 [==============================] - 0s 8ms/step - loss: 1.1608 - mae: 1.1608\n",
      "Epoch 54/100\n",
      "1/1 [==============================] - 0s 8ms/step - loss: 1.0272 - mae: 1.0272\n",
      "Epoch 55/100\n",
      "1/1 [==============================] - 0s 8ms/step - loss: 0.8319 - mae: 0.8319\n",
      "Epoch 56/100\n",
      "1/1 [==============================] - 0s 7ms/step - loss: 0.7068 - mae: 0.7068\n",
      "Epoch 57/100\n",
      "1/1 [==============================] - 0s 6ms/step - loss: 0.5551 - mae: 0.5551\n",
      "Epoch 58/100\n",
      "1/1 [==============================] - 0s 7ms/step - loss: 0.3361 - mae: 0.3361\n",
      "Epoch 59/100\n",
      "1/1 [==============================] - 0s 7ms/step - loss: 0.4192 - mae: 0.4192\n",
      "Epoch 60/100\n",
      "1/1 [==============================] - 0s 7ms/step - loss: 0.4614 - mae: 0.4614\n",
      "Epoch 61/100\n",
      "1/1 [==============================] - 0s 8ms/step - loss: 0.3420 - mae: 0.3420\n",
      "Epoch 62/100\n",
      "1/1 [==============================] - 0s 7ms/step - loss: 0.4470 - mae: 0.4470\n",
      "Epoch 63/100\n",
      "1/1 [==============================] - 0s 6ms/step - loss: 0.6095 - mae: 0.6095\n",
      "Epoch 64/100\n",
      "1/1 [==============================] - 0s 6ms/step - loss: 0.5306 - mae: 0.5306\n",
      "Epoch 65/100\n",
      "1/1 [==============================] - 0s 7ms/step - loss: 0.6174 - mae: 0.6174\n",
      "Epoch 66/100\n",
      "1/1 [==============================] - 0s 6ms/step - loss: 0.5256 - mae: 0.5256\n",
      "Epoch 67/100\n",
      "1/1 [==============================] - 0s 6ms/step - loss: 0.4726 - mae: 0.4726\n",
      "Epoch 68/100\n",
      "1/1 [==============================] - 0s 8ms/step - loss: 0.5892 - mae: 0.5892\n",
      "Epoch 69/100\n",
      "1/1 [==============================] - 0s 6ms/step - loss: 0.3905 - mae: 0.3905\n",
      "Epoch 70/100\n",
      "1/1 [==============================] - 0s 6ms/step - loss: 0.4631 - mae: 0.4631\n",
      "Epoch 71/100\n",
      "1/1 [==============================] - 0s 6ms/step - loss: 0.4553 - mae: 0.4553\n",
      "Epoch 72/100\n",
      "1/1 [==============================] - 0s 7ms/step - loss: 0.4432 - mae: 0.4432\n",
      "Epoch 73/100\n",
      "1/1 [==============================] - 0s 5ms/step - loss: 0.4566 - mae: 0.4566\n",
      "Epoch 74/100\n",
      "1/1 [==============================] - 0s 6ms/step - loss: 0.3070 - mae: 0.3070\n",
      "Epoch 75/100\n",
      "1/1 [==============================] - 0s 8ms/step - loss: 0.2167 - mae: 0.2167\n",
      "Epoch 76/100\n",
      "1/1 [==============================] - 0s 6ms/step - loss: 0.3056 - mae: 0.3056\n",
      "Epoch 77/100\n",
      "1/1 [==============================] - 0s 7ms/step - loss: 0.2171 - mae: 0.2171\n",
      "Epoch 78/100\n",
      "1/1 [==============================] - 0s 6ms/step - loss: 0.2758 - mae: 0.2758\n",
      "Epoch 79/100\n",
      "1/1 [==============================] - 0s 8ms/step - loss: 0.2263 - mae: 0.2263\n",
      "Epoch 80/100\n",
      "1/1 [==============================] - 0s 7ms/step - loss: 0.2623 - mae: 0.2623\n",
      "Epoch 81/100\n",
      "1/1 [==============================] - 0s 8ms/step - loss: 0.2677 - mae: 0.2677\n",
      "Epoch 82/100\n",
      "1/1 [==============================] - 0s 8ms/step - loss: 0.2318 - mae: 0.2318\n",
      "Epoch 83/100\n",
      "1/1 [==============================] - 0s 6ms/step - loss: 0.2145 - mae: 0.2145\n",
      "Epoch 84/100\n",
      "1/1 [==============================] - 0s 7ms/step - loss: 0.2535 - mae: 0.2535\n",
      "Epoch 85/100\n",
      "1/1 [==============================] - 0s 7ms/step - loss: 0.2525 - mae: 0.2525\n",
      "Epoch 86/100\n",
      "1/1 [==============================] - 0s 6ms/step - loss: 0.2156 - mae: 0.2156\n",
      "Epoch 87/100\n",
      "1/1 [==============================] - 0s 7ms/step - loss: 0.2439 - mae: 0.2439\n",
      "Epoch 88/100\n",
      "1/1 [==============================] - 0s 8ms/step - loss: 0.1346 - mae: 0.1346\n",
      "Epoch 89/100\n"
     ]
    },
    {
     "name": "stdout",
     "output_type": "stream",
     "text": [
      "1/1 [==============================] - 0s 6ms/step - loss: 0.2830 - mae: 0.2830\n",
      "Epoch 90/100\n",
      "1/1 [==============================] - 0s 7ms/step - loss: 0.2370 - mae: 0.2370\n",
      "Epoch 91/100\n",
      "1/1 [==============================] - 0s 7ms/step - loss: 0.1249 - mae: 0.1249\n",
      "Epoch 92/100\n",
      "1/1 [==============================] - 0s 7ms/step - loss: 0.1788 - mae: 0.1788\n",
      "Epoch 93/100\n",
      "1/1 [==============================] - 0s 6ms/step - loss: 0.2273 - mae: 0.2273\n",
      "Epoch 94/100\n",
      "1/1 [==============================] - 0s 8ms/step - loss: 0.1697 - mae: 0.1697\n",
      "Epoch 95/100\n",
      "1/1 [==============================] - 0s 7ms/step - loss: 0.2194 - mae: 0.2194\n",
      "Epoch 96/100\n",
      "1/1 [==============================] - 0s 8ms/step - loss: 0.2191 - mae: 0.2191\n",
      "Epoch 97/100\n",
      "1/1 [==============================] - 0s 7ms/step - loss: 0.2107 - mae: 0.2107\n",
      "Epoch 98/100\n",
      "1/1 [==============================] - 0s 6ms/step - loss: 0.2047 - mae: 0.2047\n",
      "Epoch 99/100\n",
      "1/1 [==============================] - 0s 7ms/step - loss: 0.1041 - mae: 0.1041\n",
      "Epoch 100/100\n",
      "1/1 [==============================] - 0s 8ms/step - loss: 0.1253 - mae: 0.1253\n"
     ]
    },
    {
     "data": {
      "text/plain": [
       "<keras.callbacks.History at 0x258fc6c10d0>"
      ]
     },
     "execution_count": 20,
     "metadata": {},
     "output_type": "execute_result"
    }
   ],
   "source": [
    "# 3rd experiment : add a hidden layer, more epochs, and review the learning rate, as an improvement to the model\n",
    "\n",
    "# Set a random seed (in order to have some reproducibility)\n",
    "tf.random.set_seed(42)\n",
    "\n",
    "# 1. Create a model using the Sequential API\n",
    "model = tf.keras.Sequential([\n",
    "    \n",
    "    # Adding more hidden layers, more neurons, and activation function \n",
    "    tf.keras.layers.Dense(100, activation=\"relu\"),\n",
    "    \n",
    "    tf.keras.layers.Dense(1)\n",
    "])\n",
    "\n",
    "# 2. Compile the model\n",
    "model.compile(loss=tf.keras.losses.mae, # MAE : Mean Absolute Error\n",
    "              optimizer=tf.keras.optimizers.Adam(lr=0.01),\n",
    "              metrics=[\"mae\"]\n",
    "             )\n",
    "\n",
    "# 3. Fit the model \n",
    "model.fit(tf.expand_dims(X, axis=-1),y, epochs=100) # Increasing the number of epochs\n"
   ]
  },
  {
   "cell_type": "markdown",
   "id": "94b6ecb8",
   "metadata": {},
   "source": [
    "The loss is 0.1750; this model should perform really well."
   ]
  },
  {
   "cell_type": "code",
   "execution_count": 21,
   "id": "57f0d41b",
   "metadata": {},
   "outputs": [
    {
     "data": {
      "text/plain": [
       "(<tf.Tensor: shape=(8,), dtype=float64, numpy=array([-7., -4., -1.,  2.,  5.,  8., 11., 14.])>,\n",
       " <tf.Tensor: shape=(8,), dtype=float64, numpy=array([ 3.,  6.,  9., 12., 15., 18., 21., 24.])>)"
      ]
     },
     "execution_count": 21,
     "metadata": {},
     "output_type": "execute_result"
    }
   ],
   "source": [
    "# Remind ourselves of the data\n",
    "X, y"
   ]
  },
  {
   "cell_type": "code",
   "execution_count": 22,
   "id": "c898e1c6",
   "metadata": {},
   "outputs": [
    {
     "name": "stdout",
     "output_type": "stream",
     "text": [
      "1/1 [==============================] - 0s 136ms/step\n"
     ]
    },
    {
     "data": {
      "text/plain": [
       "array([[26.811335]], dtype=float32)"
      ]
     },
     "execution_count": 22,
     "metadata": {},
     "output_type": "execute_result"
    }
   ],
   "source": [
    "# Check if the model's prediction has improved...\n",
    "model.predict([17.])"
   ]
  },
  {
   "cell_type": "markdown",
   "id": "a39358dc",
   "metadata": {},
   "source": [
    "The model has predicted 26.918, while the real value is 27. We can conclude that the prediction is pretty well.  \n",
    "**Observation** : adjusting the learning rate of our model has result in the best improvement so far."
   ]
  },
  {
   "cell_type": "code",
   "execution_count": null,
   "id": "b2408c94",
   "metadata": {},
   "outputs": [],
   "source": []
  },
  {
   "cell_type": "markdown",
   "id": "93827ad7",
   "metadata": {},
   "source": [
    "**Model improvement rules** - When improving a model :\n",
    "* **make many small changes** (experiments) and **test each one**, rather than always doing extremely large changes, because otherwise, if one does too big of a change, he might not be sure what caused the improvement or know improvement of the model.\n",
    "* **the learning rate is potentially the most important hyper-parameter that can be changed** on a neural networks in order to improve it"
   ]
  },
  {
   "cell_type": "code",
   "execution_count": null,
   "id": "fe87eb6f",
   "metadata": {},
   "outputs": [],
   "source": []
  },
  {
   "cell_type": "code",
   "execution_count": null,
   "id": "e2c5c066",
   "metadata": {},
   "outputs": [],
   "source": []
  },
  {
   "cell_type": "markdown",
   "id": "a2f52266",
   "metadata": {},
   "source": [
    "## Evaluating a model\n",
    "\n",
    "\n",
    "In practice, a typical workflow one goes through when buidling neural networks is :    \n",
    "``` Build a model -> fit it -> evaluate it -> tweak a model -> fit it evaluate it -> tweak a model -> fit it -> evaluate it -> ... ```\n",
    "\n"
   ]
  },
  {
   "cell_type": "markdown",
   "id": "5be2462e",
   "metadata": {},
   "source": [
    "When it comes to evaluation, there is one words one should memorize, and remember : **visualize**.\n",
    "\n",
    "It's a good idea to visualize : \n",
    "* `The data` - what data are we working with ? What does it look like ?\n",
    "* `The model` itself - what does our model look like ?\n",
    "* `The training` of the model - how does the model perform while it learns ?\n",
    "* `The predictions` of the model - how do the predictions of the model line up agains the real values ?\n",
    "\n",
    "\n",
    "Let us dig into these steps here a bit further by working on a little bit of a larger problem."
   ]
  },
  {
   "cell_type": "code",
   "execution_count": 23,
   "id": "2e38f664",
   "metadata": {},
   "outputs": [
    {
     "data": {
      "text/plain": [
       "<tf.Tensor: shape=(50,), dtype=int32, numpy=\n",
       "array([-100,  -96,  -92,  -88,  -84,  -80,  -76,  -72,  -68,  -64,  -60,\n",
       "        -56,  -52,  -48,  -44,  -40,  -36,  -32,  -28,  -24,  -20,  -16,\n",
       "        -12,   -8,   -4,    0,    4,    8,   12,   16,   20,   24,   28,\n",
       "         32,   36,   40,   44,   48,   52,   56,   60,   64,   68,   72,\n",
       "         76,   80,   84,   88,   92,   96])>"
      ]
     },
     "execution_count": 23,
     "metadata": {},
     "output_type": "execute_result"
    }
   ],
   "source": [
    "# Make a bigger dataset\n",
    "X = tf.range(-100, 100, 4)\n",
    "X"
   ]
  },
  {
   "cell_type": "code",
   "execution_count": 24,
   "id": "fe6189cb",
   "metadata": {},
   "outputs": [
    {
     "data": {
      "text/plain": [
       "<tf.Tensor: shape=(50,), dtype=int32, numpy=\n",
       "array([-90, -86, -82, -78, -74, -70, -66, -62, -58, -54, -50, -46, -42,\n",
       "       -38, -34, -30, -26, -22, -18, -14, -10,  -6,  -2,   2,   6,  10,\n",
       "        14,  18,  22,  26,  30,  34,  38,  42,  46,  50,  54,  58,  62,\n",
       "        66,  70,  74,  78,  82,  86,  90,  94,  98, 102, 106])>"
      ]
     },
     "execution_count": 24,
     "metadata": {},
     "output_type": "execute_result"
    }
   ],
   "source": [
    "# Make labels for the dataset\n",
    "\n",
    "y = X + 10   # y = X + 10 is the formula(pattern) we want the model to learn\n",
    "y"
   ]
  },
  {
   "cell_type": "code",
   "execution_count": 25,
   "id": "49a40371",
   "metadata": {},
   "outputs": [
    {
     "data": {
      "text/plain": [
       "<matplotlib.collections.PathCollection at 0x258fc840460>"
      ]
     },
     "execution_count": 25,
     "metadata": {},
     "output_type": "execute_result"
    },
    {
     "data": {
      "image/png": "[encoded data removed]",
      "text/plain": [
       "<Figure size 432x288 with 1 Axes>"
      ]
     },
     "metadata": {
      "needs_background": "light"
     },
     "output_type": "display_data"
    }
   ],
   "source": [
    "# Visualize the data\n",
    "\n",
    "plt.scatter(X, y)"
   ]
  },
  {
   "cell_type": "code",
   "execution_count": null,
   "id": "56654807",
   "metadata": {},
   "outputs": [],
   "source": []
  },
  {
   "cell_type": "markdown",
   "id": "0dc0cfa7",
   "metadata": {},
   "source": [
    "### The 03 set of data\n",
    "\n",
    "* **Training set** - the model learns from this data, which is typically 70-80% of the total data available.\n",
    "* **Validation set** - the model gets tuned on this data (it is the above mentionned *tweak the model*), which is typically 10-15% of the total data available.\n",
    "* **Test set** - the model gets evaluated on this data to test what is has learned (to check how it performs on data is hasn't see before); this set is typically 10-15% of the available data."
   ]
  },
  {
   "cell_type": "code",
   "execution_count": 26,
   "id": "e1f8ed25",
   "metadata": {},
   "outputs": [
    {
     "data": {
      "text/plain": [
       "50"
      ]
     },
     "execution_count": 26,
     "metadata": {},
     "output_type": "execute_result"
    }
   ],
   "source": [
    "# Check how many samples we have\n",
    "nb_data = len(X)\n",
    "nb_data"
   ]
  },
  {
   "cell_type": "code",
   "execution_count": 27,
   "id": "9dc7d4f2",
   "metadata": {},
   "outputs": [
    {
     "data": {
      "text/plain": [
       "(40, 10, 40, 10)"
      ]
     },
     "execution_count": 27,
     "metadata": {},
     "output_type": "execute_result"
    }
   ],
   "source": [
    "# Split the data into train and test sets\n",
    "\n",
    "X_train = X[: int(nb_data*.8)] # 80% of the data\n",
    "y_train = y[: int(nb_data*.8)] # 80% of the data\n",
    "\n",
    "X_test = X[int(nb_data*.8):] # 20% of the data\n",
    "y_test = y[int(nb_data*.8):] # 20% of the data\n",
    "\n",
    "\n",
    "len(X_train), len(X_test), len(y_train), len(y_test)"
   ]
  },
  {
   "cell_type": "markdown",
   "id": "e9603622",
   "metadata": {},
   "source": [
    "### Visualizing the data\n",
    "\n",
    "Now that data was divided in training and testing sets, let's visualize it again."
   ]
  },
  {
   "cell_type": "code",
   "execution_count": 28,
   "id": "a805227d",
   "metadata": {},
   "outputs": [
    {
     "data": {
      "image/png": "[encoded data removed]",
      "text/plain": [
       "<Figure size 720x504 with 1 Axes>"
      ]
     },
     "metadata": {
      "needs_background": "light"
     },
     "output_type": "display_data"
    }
   ],
   "source": [
    "plt.figure( figsize=(10,7) )\n",
    "\n",
    "# Plot training data in blue\n",
    "plt.scatter(X_train, y_train, c=\"b\", label=\"Training data\")\n",
    "\n",
    "# Plot test data in green\n",
    "plt.scatter(X_test, y_test, c=\"g\", label=\"Test data\")\n",
    "\n",
    "#Show a legend\n",
    "plt.legend();"
   ]
  },
  {
   "cell_type": "code",
   "execution_count": null,
   "id": "82c45ed8",
   "metadata": {},
   "outputs": [],
   "source": []
  },
  {
   "cell_type": "markdown",
   "id": "6e2f8628",
   "metadata": {},
   "source": [
    "### Building a neural network"
   ]
  },
  {
   "cell_type": "code",
   "execution_count": 29,
   "id": "8a1f31b0",
   "metadata": {},
   "outputs": [],
   "source": [
    "# 1. Create a model\n",
    "model = tf.keras.Sequential([\n",
    "    tf.keras.layers.Dense(1)\n",
    "])\n",
    "\n",
    "# 2. Compile the model\n",
    "model.compile(loss=tf.keras.losses.mae,\n",
    "             optimizer= tf.keras.optimizers.SGD(),\n",
    "             metrics=[\"mae\"])\n",
    "\n"
   ]
  },
  {
   "cell_type": "markdown",
   "id": "c43d95e1",
   "metadata": {},
   "source": [
    "#### Visualizing the model"
   ]
  },
  {
   "cell_type": "code",
   "execution_count": null,
   "id": "86569e88",
   "metadata": {},
   "outputs": [],
   "source": []
  },
  {
   "cell_type": "code",
   "execution_count": 30,
   "id": "fe7036b7",
   "metadata": {},
   "outputs": [
    {
     "ename": "ValueError",
     "evalue": "This model has not yet been built. Build the model first by calling `build()` or by calling the model on a batch of data.",
     "output_type": "error",
     "traceback": [
      "\u001b[1;31m---------------------------------------------------------------------------\u001b[0m",
      "\u001b[1;31mValueError\u001b[0m                                Traceback (most recent call last)",
      "\u001b[1;32m<ipython-input-30-cdfdfbb4254b>\u001b[0m in \u001b[0;36m<module>\u001b[1;34m\u001b[0m\n\u001b[0;32m      1\u001b[0m \u001b[1;31m# Get an idea of what the model looks like before running it\u001b[0m\u001b[1;33m\u001b[0m\u001b[1;33m\u001b[0m\u001b[1;33m\u001b[0m\u001b[0m\n\u001b[1;32m----> 2\u001b[1;33m \u001b[0mmodel\u001b[0m\u001b[1;33m.\u001b[0m\u001b[0msummary\u001b[0m\u001b[1;33m(\u001b[0m\u001b[1;33m)\u001b[0m\u001b[1;33m\u001b[0m\u001b[1;33m\u001b[0m\u001b[0m\n\u001b[0m",
      "\u001b[1;32mC:\\ProgramData\\Anaconda3\\lib\\site-packages\\keras\\engine\\training.py\u001b[0m in \u001b[0;36msummary\u001b[1;34m(self, line_length, positions, print_fn, expand_nested, show_trainable, layer_range)\u001b[0m\n\u001b[0;32m   3212\u001b[0m         \"\"\"\n\u001b[0;32m   3213\u001b[0m         \u001b[1;32mif\u001b[0m \u001b[1;32mnot\u001b[0m \u001b[0mself\u001b[0m\u001b[1;33m.\u001b[0m\u001b[0mbuilt\u001b[0m\u001b[1;33m:\u001b[0m\u001b[1;33m\u001b[0m\u001b[1;33m\u001b[0m\u001b[0m\n\u001b[1;32m-> 3214\u001b[1;33m             raise ValueError(\n\u001b[0m\u001b[0;32m   3215\u001b[0m                 \u001b[1;34m\"This model has not yet been built. \"\u001b[0m\u001b[1;33m\u001b[0m\u001b[1;33m\u001b[0m\u001b[0m\n\u001b[0;32m   3216\u001b[0m                 \u001b[1;34m\"Build the model first by calling `build()` or by calling \"\u001b[0m\u001b[1;33m\u001b[0m\u001b[1;33m\u001b[0m\u001b[0m\n",
      "\u001b[1;31mValueError\u001b[0m: This model has not yet been built. Build the model first by calling `build()` or by calling the model on a batch of data."
     ]
    }
   ],
   "source": [
    "# Get an idea of what the model looks like before running it\n",
    "model.summary()"
   ]
  },
  {
   "cell_type": "code",
   "execution_count": 31,
   "id": "afbc8917",
   "metadata": {},
   "outputs": [
    {
     "data": {
      "text/plain": [
       "<tf.Tensor: shape=(50,), dtype=int32, numpy=\n",
       "array([-100,  -96,  -92,  -88,  -84,  -80,  -76,  -72,  -68,  -64,  -60,\n",
       "        -56,  -52,  -48,  -44,  -40,  -36,  -32,  -28,  -24,  -20,  -16,\n",
       "        -12,   -8,   -4,    0,    4,    8,   12,   16,   20,   24,   28,\n",
       "         32,   36,   40,   44,   48,   52,   56,   60,   64,   68,   72,\n",
       "         76,   80,   84,   88,   92,   96])>"
      ]
     },
     "execution_count": 31,
     "metadata": {},
     "output_type": "execute_result"
    }
   ],
   "source": [
    "X"
   ]
  },
  {
   "cell_type": "code",
   "execution_count": 32,
   "id": "c7634b89",
   "metadata": {},
   "outputs": [
    {
     "data": {
      "text/plain": [
       "1"
      ]
     },
     "execution_count": 32,
     "metadata": {},
     "output_type": "execute_result"
    }
   ],
   "source": [
    "X.ndim"
   ]
  },
  {
   "cell_type": "code",
   "execution_count": 33,
   "id": "987713a6",
   "metadata": {},
   "outputs": [
    {
     "data": {
      "text/plain": [
       "(<tf.Tensor: shape=(), dtype=int32, numpy=-100>,\n",
       " <tf.Tensor: shape=(), dtype=int32, numpy=-90>)"
      ]
     },
     "execution_count": 33,
     "metadata": {},
     "output_type": "execute_result"
    }
   ],
   "source": [
    "X[0],y[0]"
   ]
  },
  {
   "cell_type": "markdown",
   "id": "f296c106",
   "metadata": {},
   "source": [
    "* The explanation of the Prof : X[0] contains a scalar, so the input_shape of our model is 1; in case X[0] contain for example 3 different numbers, then input_shape would be 3.    \n",
    "* My own deduction : Another way to analyze it is based on the number of dimensions of X : X.ndim return 1, which means X is represented on one dimension, so the input shape is 1."
   ]
  },
  {
   "cell_type": "code",
   "execution_count": 34,
   "id": "b1a53531",
   "metadata": {},
   "outputs": [],
   "source": [
    "# Let's create a model which builds automatically by \n",
    "#    defining the input_shape argument in the first layer (that is what is usually done in practice)\n",
    "\n",
    "tf.random.set_seed(42)\n",
    "\n",
    "# 1. Create a model (same as above)\n",
    "model = tf.keras.Sequential([\n",
    "    tf.keras.layers.Dense(1, input_shape= [X.ndim] ) # tf.keras.layers.Dense(1, input_shape= [1] )\n",
    "                                                     #     refer to the previous cell to get \n",
    "                                                     #      explanations on why input_shape= [1]   \n",
    "]) \n",
    "\n",
    "# 2. COmpile the model \n",
    "model.compile(loss=tf.keras.losses.mae,\n",
    "             optimizer = tf.keras.optimizers.SGD(),\n",
    "             metrics=[\"mae\"])\n",
    "\n",
    "\n"
   ]
  },
  {
   "cell_type": "code",
   "execution_count": 35,
   "id": "a6e064a1",
   "metadata": {},
   "outputs": [
    {
     "name": "stdout",
     "output_type": "stream",
     "text": [
      "Model: \"sequential_5\"\n",
      "_________________________________________________________________\n",
      " Layer (type)                Output Shape              Param #   \n",
      "=================================================================\n",
      " dense_10 (Dense)            (None, 1)                 2         \n",
      "                                                                 \n",
      "=================================================================\n",
      "Total params: 2\n",
      "Trainable params: 2\n",
      "Non-trainable params: 0\n",
      "_________________________________________________________________\n"
     ]
    }
   ],
   "source": [
    "model.summary()"
   ]
  },
  {
   "cell_type": "markdown",
   "id": "b7c23bc7",
   "metadata": {},
   "source": [
    ".summary() on a model show the layers it contains, the output shape, and the number of parameters of each layer.   \n",
    "   \n",
    "* The **Ouput Shape** here (None, 1) : the representation here is something I personnally need to do more research on\n",
    "* The **Layer Type** `Dense` : it is another word for `fully connected`. A fully connected layer means each neuron in the said layer connects to all neurons in the next layer.\n",
    "* There are 2 **Params** :  \n",
    " - **Total params** : total number of parameters in the model; these are the patterns that the model is going to learn\n",
    " - **Trainable parameters** : these are the parameters (patterns) the model can update as it trains\n",
    " - **Non-trainable params** : these are the patterns the model cannot update as it trains; when we import a model that has already learned patterns in data (**transfer learning**), we might freeze those learned patterns so that the model retains what it already knows"
   ]
  },
  {
   "cell_type": "markdown",
   "id": "dd0bebde",
   "metadata": {},
   "source": [
    "📖 **Resource**: For a more in-depth overview of the trainable parameters within a layer, check out MIT's introduction to deep learning video at http://introtodeeplearning.com/ "
   ]
  },
  {
   "cell_type": "markdown",
   "id": "4a3aa920",
   "metadata": {},
   "source": [
    "🛠️**Exercise**: Try playing around with the number of hdden units in the dense layer, see how that effects the number of parameters (total and trainable) by calling `model.summary()`"
   ]
  },
  {
   "cell_type": "code",
   "execution_count": 36,
   "id": "f9bb768b",
   "metadata": {},
   "outputs": [
    {
     "name": "stdout",
     "output_type": "stream",
     "text": [
      "Model: \"sequential_6\"\n",
      "_________________________________________________________________\n",
      " Layer (type)                Output Shape              Param #   \n",
      "=================================================================\n",
      " dense_11 (Dense)            (None, 3)                 6         \n",
      "                                                                 \n",
      "=================================================================\n",
      "Total params: 6\n",
      "Trainable params: 6\n",
      "Non-trainable params: 0\n",
      "_________________________________________________________________\n"
     ]
    }
   ],
   "source": [
    "tf.random.set_seed(42)\n",
    "\n",
    "# 1. Create a model (same as above)\n",
    "model = tf.keras.Sequential([\n",
    "    tf.keras.layers.Dense(3, input_shape= [1] )  \n",
    "]) \n",
    "\n",
    "# 2. COmpile the model \n",
    "model.compile(loss=tf.keras.losses.mae,\n",
    "             optimizer = tf.keras.optimizers.SGD(),\n",
    "             metrics=[\"mae\"])\n",
    "\n",
    "\n",
    "model.summary()"
   ]
  },
  {
   "cell_type": "code",
   "execution_count": null,
   "id": "257f63ee",
   "metadata": {},
   "outputs": [],
   "source": []
  },
  {
   "cell_type": "code",
   "execution_count": null,
   "id": "5f285645",
   "metadata": {},
   "outputs": [],
   "source": []
  },
  {
   "cell_type": "code",
   "execution_count": 37,
   "id": "7dec1a2f",
   "metadata": {},
   "outputs": [
    {
     "name": "stdout",
     "output_type": "stream",
     "text": [
      "Model: \"sequential_7\"\n",
      "_________________________________________________________________\n",
      " Layer (type)                Output Shape              Param #   \n",
      "=================================================================\n",
      " dense_12 (Dense)            (None, 1)                 2         \n",
      "                                                                 \n",
      "=================================================================\n",
      "Total params: 2\n",
      "Trainable params: 2\n",
      "Non-trainable params: 0\n",
      "_________________________________________________________________\n"
     ]
    }
   ],
   "source": [
    "# Let us change the number of neuro from 3 to 1\n",
    "\n",
    "tf.random.set_seed(42)\n",
    "\n",
    "# 1. Create a model (same as above)\n",
    "model = tf.keras.Sequential([\n",
    "    tf.keras.layers.Dense(1, input_shape= [1] )  \n",
    "]) \n",
    "\n",
    "# 2. COmpile the model \n",
    "model.compile(loss=tf.keras.losses.mae,\n",
    "             optimizer = tf.keras.optimizers.SGD(),\n",
    "             metrics=[\"mae\"])\n",
    "\n",
    "\n",
    "model.summary()"
   ]
  },
  {
   "cell_type": "code",
   "execution_count": 38,
   "id": "5d2f8b23",
   "metadata": {},
   "outputs": [
    {
     "name": "stdout",
     "output_type": "stream",
     "text": [
      "Epoch 1/100\n",
      "2/2 [==============================] - 1s 7ms/step - loss: 42.7757 - mae: 42.7757\n",
      "Epoch 2/100\n",
      "2/2 [==============================] - 0s 5ms/step - loss: 13.3981 - mae: 13.3981\n",
      "Epoch 3/100\n",
      "2/2 [==============================] - 0s 5ms/step - loss: 12.0921 - mae: 12.0921\n",
      "Epoch 4/100\n",
      "2/2 [==============================] - 0s 5ms/step - loss: 8.7514 - mae: 8.7514\n",
      "Epoch 5/100\n",
      "2/2 [==============================] - 0s 4ms/step - loss: 10.9577 - mae: 10.9577\n",
      "Epoch 6/100\n",
      "2/2 [==============================] - 0s 5ms/step - loss: 10.1266 - mae: 10.1266\n",
      "Epoch 7/100\n",
      "2/2 [==============================] - 0s 4ms/step - loss: 9.1536 - mae: 9.1536\n",
      "Epoch 8/100\n",
      "2/2 [==============================] - 0s 5ms/step - loss: 9.1189 - mae: 9.1189\n",
      "Epoch 9/100\n",
      "2/2 [==============================] - 0s 4ms/step - loss: 15.1528 - mae: 15.1528\n",
      "Epoch 10/100\n",
      "2/2 [==============================] - 0s 4ms/step - loss: 7.5729 - mae: 7.5729\n",
      "Epoch 11/100\n",
      "2/2 [==============================] - 0s 4ms/step - loss: 11.4798 - mae: 11.4798\n",
      "Epoch 12/100\n",
      "2/2 [==============================] - 0s 4ms/step - loss: 16.8355 - mae: 16.8355\n",
      "Epoch 13/100\n",
      "2/2 [==============================] - 0s 6ms/step - loss: 11.9726 - mae: 11.9726\n",
      "Epoch 14/100\n",
      "2/2 [==============================] - 0s 5ms/step - loss: 13.9098 - mae: 13.9098\n",
      "Epoch 15/100\n",
      "2/2 [==============================] - 0s 5ms/step - loss: 11.2995 - mae: 11.2995\n",
      "Epoch 16/100\n",
      "2/2 [==============================] - 0s 5ms/step - loss: 8.5822 - mae: 8.5822\n",
      "Epoch 17/100\n",
      "2/2 [==============================] - 0s 6ms/step - loss: 13.7238 - mae: 13.7238\n",
      "Epoch 18/100\n",
      "2/2 [==============================] - 0s 5ms/step - loss: 11.5717 - mae: 11.5717\n",
      "Epoch 19/100\n",
      "2/2 [==============================] - 0s 6ms/step - loss: 17.8018 - mae: 17.8018\n",
      "Epoch 20/100\n",
      "2/2 [==============================] - 0s 5ms/step - loss: 14.9373 - mae: 14.9373\n",
      "Epoch 21/100\n",
      "2/2 [==============================] - 0s 3ms/step - loss: 10.8274 - mae: 10.8274\n",
      "Epoch 22/100\n",
      "2/2 [==============================] - 0s 4ms/step - loss: 8.5756 - mae: 8.5756\n",
      "Epoch 23/100\n",
      "2/2 [==============================] - 0s 5ms/step - loss: 9.7416 - mae: 9.7416\n",
      "Epoch 24/100\n",
      "2/2 [==============================] - 0s 4ms/step - loss: 10.9357 - mae: 10.9357\n",
      "Epoch 25/100\n",
      "2/2 [==============================] - 0s 6ms/step - loss: 9.1573 - mae: 9.1573\n",
      "Epoch 26/100\n",
      "2/2 [==============================] - 0s 5ms/step - loss: 13.1712 - mae: 13.1712\n",
      "Epoch 27/100\n",
      "2/2 [==============================] - 0s 6ms/step - loss: 10.6529 - mae: 10.6529\n",
      "Epoch 28/100\n",
      "2/2 [==============================] - 0s 6ms/step - loss: 12.8620 - mae: 12.8620\n",
      "Epoch 29/100\n",
      "2/2 [==============================] - 0s 6ms/step - loss: 9.5116 - mae: 9.5116\n",
      "Epoch 30/100\n",
      "2/2 [==============================] - 0s 5ms/step - loss: 16.3674 - mae: 16.3674\n",
      "Epoch 31/100\n",
      "2/2 [==============================] - 0s 6ms/step - loss: 23.6249 - mae: 23.6249\n",
      "Epoch 32/100\n",
      "2/2 [==============================] - 0s 5ms/step - loss: 7.6243 - mae: 7.6243\n",
      "Epoch 33/100\n",
      "2/2 [==============================] - 0s 7ms/step - loss: 9.3236 - mae: 9.3236\n",
      "Epoch 34/100\n",
      "2/2 [==============================] - 0s 5ms/step - loss: 13.7208 - mae: 13.7208\n",
      "Epoch 35/100\n",
      "2/2 [==============================] - 0s 6ms/step - loss: 11.1424 - mae: 11.1424\n",
      "Epoch 36/100\n",
      "2/2 [==============================] - 0s 6ms/step - loss: 13.3444 - mae: 13.3444\n",
      "Epoch 37/100\n",
      "2/2 [==============================] - 0s 3ms/step - loss: 9.4753 - mae: 9.4753\n",
      "Epoch 38/100\n",
      "2/2 [==============================] - 0s 4ms/step - loss: 10.1345 - mae: 10.1345\n",
      "Epoch 39/100\n",
      "2/2 [==============================] - 0s 6ms/step - loss: 10.1942 - mae: 10.1942\n",
      "Epoch 40/100\n",
      "2/2 [==============================] - 0s 5ms/step - loss: 10.9312 - mae: 10.9312\n",
      "Epoch 41/100\n",
      "2/2 [==============================] - 0s 5ms/step - loss: 7.9220 - mae: 7.9220\n",
      "Epoch 42/100\n",
      "2/2 [==============================] - 0s 6ms/step - loss: 10.0891 - mae: 10.0891\n",
      "Epoch 43/100\n",
      "2/2 [==============================] - 0s 5ms/step - loss: 8.7033 - mae: 8.7033\n",
      "Epoch 44/100\n",
      "2/2 [==============================] - 0s 5ms/step - loss: 12.1940 - mae: 12.1940\n",
      "Epoch 45/100\n",
      "2/2 [==============================] - 0s 6ms/step - loss: 13.8169 - mae: 13.8169\n",
      "Epoch 46/100\n",
      "2/2 [==============================] - 0s 6ms/step - loss: 8.4851 - mae: 8.4851\n",
      "Epoch 47/100\n",
      "2/2 [==============================] - 0s 5ms/step - loss: 9.1318 - mae: 9.1318\n",
      "Epoch 48/100\n",
      "2/2 [==============================] - 0s 5ms/step - loss: 10.6145 - mae: 10.6145\n",
      "Epoch 49/100\n",
      "2/2 [==============================] - 0s 6ms/step - loss: 7.7497 - mae: 7.7497\n",
      "Epoch 50/100\n",
      "2/2 [==============================] - 0s 5ms/step - loss: 9.5369 - mae: 9.5369\n",
      "Epoch 51/100\n",
      "2/2 [==============================] - 0s 4ms/step - loss: 9.1622 - mae: 9.1622\n",
      "Epoch 52/100\n",
      "2/2 [==============================] - 0s 3ms/step - loss: 16.3438 - mae: 16.3438\n",
      "Epoch 53/100\n",
      "2/2 [==============================] - 0s 3ms/step - loss: 14.1436 - mae: 14.1436\n",
      "Epoch 54/100\n",
      "2/2 [==============================] - 0s 5ms/step - loss: 21.1512 - mae: 21.1512\n",
      "Epoch 55/100\n",
      "2/2 [==============================] - 0s 5ms/step - loss: 16.3801 - mae: 16.3801\n",
      "Epoch 56/100\n",
      "2/2 [==============================] - 0s 5ms/step - loss: 10.0001 - mae: 10.0001\n",
      "Epoch 57/100\n",
      "2/2 [==============================] - 0s 5ms/step - loss: 9.9578 - mae: 9.9578\n",
      "Epoch 58/100\n",
      "2/2 [==============================] - 0s 6ms/step - loss: 9.2195 - mae: 9.2195\n",
      "Epoch 59/100\n",
      "2/2 [==============================] - 0s 7ms/step - loss: 8.4218 - mae: 8.4218\n",
      "Epoch 60/100\n",
      "2/2 [==============================] - 0s 6ms/step - loss: 9.4871 - mae: 9.4871\n",
      "Epoch 61/100\n",
      "2/2 [==============================] - 0s 5ms/step - loss: 11.4292 - mae: 11.4292\n",
      "Epoch 62/100\n",
      "2/2 [==============================] - 0s 5ms/step - loss: 11.7084 - mae: 11.7084\n",
      "Epoch 63/100\n",
      "2/2 [==============================] - 0s 5ms/step - loss: 7.0857 - mae: 7.0857\n",
      "Epoch 64/100\n",
      "2/2 [==============================] - 0s 6ms/step - loss: 16.9869 - mae: 16.9869\n",
      "Epoch 65/100\n",
      "2/2 [==============================] - 0s 4ms/step - loss: 12.4762 - mae: 12.4762\n",
      "Epoch 66/100\n",
      "2/2 [==============================] - 0s 4ms/step - loss: 13.0381 - mae: 13.0381\n",
      "Epoch 67/100\n",
      "2/2 [==============================] - 0s 3ms/step - loss: 8.0717 - mae: 8.0717\n",
      "Epoch 68/100\n",
      "2/2 [==============================] - 0s 4ms/step - loss: 10.2035 - mae: 10.2035\n",
      "Epoch 69/100\n",
      "2/2 [==============================] - 0s 3ms/step - loss: 12.3842 - mae: 12.3842\n",
      "Epoch 70/100\n",
      "2/2 [==============================] - 0s 5ms/step - loss: 9.0505 - mae: 9.0505\n",
      "Epoch 71/100\n",
      "2/2 [==============================] - 0s 5ms/step - loss: 10.0357 - mae: 10.0357\n",
      "Epoch 72/100\n",
      "2/2 [==============================] - 0s 4ms/step - loss: 10.0514 - mae: 10.0514\n",
      "Epoch 73/100\n",
      "2/2 [==============================] - 0s 6ms/step - loss: 12.6067 - mae: 12.6067\n",
      "Epoch 74/100\n",
      "2/2 [==============================] - 0s 5ms/step - loss: 10.4028 - mae: 10.4028\n",
      "Epoch 75/100\n",
      "2/2 [==============================] - 0s 8ms/step - loss: 9.7215 - mae: 9.7215\n",
      "Epoch 76/100\n",
      "2/2 [==============================] - 0s 6ms/step - loss: 11.2213 - mae: 11.2213\n",
      "Epoch 77/100\n",
      "2/2 [==============================] - 0s 6ms/step - loss: 8.3631 - mae: 8.3631\n",
      "Epoch 78/100\n",
      "2/2 [==============================] - 0s 5ms/step - loss: 9.1212 - mae: 9.1212\n",
      "Epoch 79/100\n",
      "2/2 [==============================] - 0s 4ms/step - loss: 19.5295 - mae: 19.5295\n",
      "Epoch 80/100\n",
      "2/2 [==============================] - 0s 5ms/step - loss: 14.8806 - mae: 14.8806\n",
      "Epoch 81/100\n",
      "2/2 [==============================] - 0s 6ms/step - loss: 9.0264 - mae: 9.0264\n",
      "Epoch 82/100\n",
      "2/2 [==============================] - 0s 3ms/step - loss: 13.0102 - mae: 13.0102\n",
      "Epoch 83/100\n",
      "2/2 [==============================] - 0s 4ms/step - loss: 7.9262 - mae: 7.9262\n",
      "Epoch 84/100\n",
      "2/2 [==============================] - 0s 4ms/step - loss: 7.6979 - mae: 7.6979\n",
      "Epoch 85/100\n",
      "2/2 [==============================] - 0s 4ms/step - loss: 10.0489 - mae: 10.0489\n",
      "Epoch 86/100\n",
      "2/2 [==============================] - 0s 6ms/step - loss: 9.2559 - mae: 9.2559\n",
      "Epoch 87/100\n",
      "2/2 [==============================] - 0s 5ms/step - loss: 12.0378 - mae: 12.0378\n",
      "Epoch 88/100\n"
     ]
    },
    {
     "name": "stdout",
     "output_type": "stream",
     "text": [
      "2/2 [==============================] - 0s 4ms/step - loss: 10.6570 - mae: 10.6570\n",
      "Epoch 89/100\n",
      "2/2 [==============================] - 0s 6ms/step - loss: 7.2740 - mae: 7.2740\n",
      "Epoch 90/100\n",
      "2/2 [==============================] - 0s 5ms/step - loss: 12.7982 - mae: 12.7982\n",
      "Epoch 91/100\n",
      "2/2 [==============================] - 0s 5ms/step - loss: 7.4813 - mae: 7.4813\n",
      "Epoch 92/100\n",
      "2/2 [==============================] - 0s 6ms/step - loss: 6.7606 - mae: 6.7606\n",
      "Epoch 93/100\n",
      "2/2 [==============================] - 0s 5ms/step - loss: 11.9489 - mae: 11.9489\n",
      "Epoch 94/100\n",
      "2/2 [==============================] - 0s 4ms/step - loss: 8.8829 - mae: 8.8829\n",
      "Epoch 95/100\n",
      "2/2 [==============================] - 0s 4ms/step - loss: 7.7244 - mae: 7.7244\n",
      "Epoch 96/100\n",
      "2/2 [==============================] - 0s 6ms/step - loss: 6.7566 - mae: 6.7566\n",
      "Epoch 97/100\n",
      "2/2 [==============================] - 0s 5ms/step - loss: 8.6332 - mae: 8.6332\n",
      "Epoch 98/100\n",
      "2/2 [==============================] - 0s 8ms/step - loss: 9.4032 - mae: 9.4032\n",
      "Epoch 99/100\n",
      "2/2 [==============================] - 0s 8ms/step - loss: 9.1382 - mae: 9.1382\n",
      "Epoch 100/100\n",
      "2/2 [==============================] - 0s 8ms/step - loss: 10.4968 - mae: 10.4968\n"
     ]
    },
    {
     "data": {
      "text/plain": [
       "<keras.callbacks.History at 0x258fdae7220>"
      ]
     },
     "execution_count": 38,
     "metadata": {},
     "output_type": "execute_result"
    }
   ],
   "source": [
    "# 3. Fit the model to the training data for 100 epochs\n",
    "model.fit(X_train, y_train, epochs=100, verbose=1)"
   ]
  },
  {
   "cell_type": "code",
   "execution_count": 39,
   "id": "2f299920",
   "metadata": {},
   "outputs": [
    {
     "name": "stdout",
     "output_type": "stream",
     "text": [
      "Epoch 1/100\n",
      "2/2 [==============================] - 0s 7ms/step - loss: 7.9239 - mae: 7.9239\n",
      "Epoch 2/100\n",
      "2/2 [==============================] - 0s 7ms/step - loss: 8.2404 - mae: 8.2404\n",
      "Epoch 3/100\n",
      "2/2 [==============================] - 0s 6ms/step - loss: 7.0129 - mae: 7.0129\n",
      "Epoch 4/100\n",
      "2/2 [==============================] - 0s 5ms/step - loss: 7.0789 - mae: 7.0789\n",
      "Epoch 5/100\n",
      "2/2 [==============================] - 0s 5ms/step - loss: 9.9245 - mae: 9.9245\n",
      "Epoch 6/100\n",
      "2/2 [==============================] - 0s 4ms/step - loss: 9.0760 - mae: 9.0760\n",
      "Epoch 7/100\n",
      "2/2 [==============================] - 0s 4ms/step - loss: 8.1474 - mae: 8.1474\n",
      "Epoch 8/100\n",
      "2/2 [==============================] - 0s 5ms/step - loss: 8.1280 - mae: 8.1280\n",
      "Epoch 9/100\n",
      "2/2 [==============================] - 0s 5ms/step - loss: 19.4776 - mae: 19.4776\n",
      "Epoch 10/100\n",
      "2/2 [==============================] - 0s 6ms/step - loss: 9.5741 - mae: 9.5741\n",
      "Epoch 11/100\n",
      "2/2 [==============================] - 0s 5ms/step - loss: 7.6300 - mae: 7.6300\n",
      "Epoch 12/100\n",
      "2/2 [==============================] - 0s 5ms/step - loss: 10.0806 - mae: 10.0806\n",
      "Epoch 13/100\n",
      "2/2 [==============================] - 0s 4ms/step - loss: 6.6146 - mae: 6.6146\n",
      "Epoch 14/100\n",
      "2/2 [==============================] - 0s 6ms/step - loss: 15.2918 - mae: 15.2918\n",
      "Epoch 15/100\n",
      "2/2 [==============================] - 0s 6ms/step - loss: 11.9142 - mae: 11.9142\n",
      "Epoch 16/100\n",
      "2/2 [==============================] - 0s 5ms/step - loss: 7.6477 - mae: 7.6477\n",
      "Epoch 17/100\n",
      "2/2 [==============================] - 0s 6ms/step - loss: 12.5899 - mae: 12.5899\n",
      "Epoch 18/100\n",
      "2/2 [==============================] - 0s 7ms/step - loss: 10.0827 - mae: 10.0827\n",
      "Epoch 19/100\n",
      "2/2 [==============================] - 0s 6ms/step - loss: 18.4799 - mae: 18.4799\n",
      "Epoch 20/100\n",
      "2/2 [==============================] - 0s 4ms/step - loss: 15.1803 - mae: 15.1803\n",
      "Epoch 21/100\n",
      "2/2 [==============================] - 0s 5ms/step - loss: 10.6643 - mae: 10.6643\n",
      "Epoch 22/100\n",
      "2/2 [==============================] - 0s 7ms/step - loss: 7.1617 - mae: 7.1617\n",
      "Epoch 23/100\n",
      "2/2 [==============================] - 0s 6ms/step - loss: 8.6501 - mae: 8.6501\n",
      "Epoch 24/100\n",
      "2/2 [==============================] - 0s 6ms/step - loss: 7.1187 - mae: 7.1187\n",
      "Epoch 25/100\n",
      "2/2 [==============================] - 0s 5ms/step - loss: 11.1685 - mae: 11.1685\n",
      "Epoch 26/100\n",
      "2/2 [==============================] - 0s 5ms/step - loss: 8.0259 - mae: 8.0259\n",
      "Epoch 27/100\n",
      "2/2 [==============================] - 0s 6ms/step - loss: 10.4180 - mae: 10.4180\n",
      "Epoch 28/100\n",
      "2/2 [==============================] - 0s 6ms/step - loss: 15.8714 - mae: 15.8714\n",
      "Epoch 29/100\n",
      "2/2 [==============================] - 0s 6ms/step - loss: 10.3104 - mae: 10.3104\n",
      "Epoch 30/100\n",
      "2/2 [==============================] - 0s 6ms/step - loss: 16.3458 - mae: 16.3458\n",
      "Epoch 31/100\n",
      "2/2 [==============================] - 0s 5ms/step - loss: 23.1375 - mae: 23.1375\n",
      "Epoch 32/100\n",
      "2/2 [==============================] - 0s 5ms/step - loss: 6.5821 - mae: 6.5821\n",
      "Epoch 33/100\n",
      "2/2 [==============================] - 0s 4ms/step - loss: 14.8344 - mae: 14.8344\n",
      "Epoch 34/100\n",
      "2/2 [==============================] - 0s 4ms/step - loss: 12.2232 - mae: 12.2232\n",
      "Epoch 35/100\n",
      "2/2 [==============================] - 0s 3ms/step - loss: 7.3471 - mae: 7.3471\n",
      "Epoch 36/100\n",
      "2/2 [==============================] - 0s 6ms/step - loss: 9.5288 - mae: 9.5288\n",
      "Epoch 37/100\n",
      "2/2 [==============================] - 0s 5ms/step - loss: 9.1948 - mae: 9.1948\n",
      "Epoch 38/100\n",
      "2/2 [==============================] - 0s 5ms/step - loss: 10.1139 - mae: 10.1139\n",
      "Epoch 39/100\n",
      "2/2 [==============================] - 0s 6ms/step - loss: 15.0620 - mae: 15.0620\n",
      "Epoch 40/100\n",
      "2/2 [==============================] - 0s 5ms/step - loss: 12.8114 - mae: 12.8114\n",
      "Epoch 41/100\n",
      "2/2 [==============================] - 0s 5ms/step - loss: 8.5854 - mae: 8.5854\n",
      "Epoch 42/100\n",
      "2/2 [==============================] - 0s 5ms/step - loss: 10.4044 - mae: 10.4044\n",
      "Epoch 43/100\n",
      "2/2 [==============================] - 0s 5ms/step - loss: 10.9732 - mae: 10.9732\n",
      "Epoch 44/100\n",
      "2/2 [==============================] - 0s 6ms/step - loss: 15.4754 - mae: 15.4754\n",
      "Epoch 45/100\n",
      "2/2 [==============================] - 0s 6ms/step - loss: 11.2119 - mae: 11.2119\n",
      "Epoch 46/100\n",
      "2/2 [==============================] - 0s 7ms/step - loss: 6.3271 - mae: 6.3271\n",
      "Epoch 47/100\n",
      "2/2 [==============================] - 0s 6ms/step - loss: 8.4944 - mae: 8.4944\n",
      "Epoch 48/100\n",
      "2/2 [==============================] - 0s 5ms/step - loss: 8.0103 - mae: 8.0103\n",
      "Epoch 49/100\n",
      "2/2 [==============================] - 0s 5ms/step - loss: 6.8892 - mae: 6.8892\n",
      "Epoch 50/100\n",
      "2/2 [==============================] - 0s 7ms/step - loss: 8.6688 - mae: 8.6688\n",
      "Epoch 51/100\n",
      "2/2 [==============================] - 0s 7ms/step - loss: 8.6249 - mae: 8.6249\n",
      "Epoch 52/100\n",
      "2/2 [==============================] - 0s 7ms/step - loss: 14.8706 - mae: 14.8706\n",
      "Epoch 53/100\n",
      "2/2 [==============================] - 0s 6ms/step - loss: 14.3548 - mae: 14.3548\n",
      "Epoch 54/100\n",
      "2/2 [==============================] - 0s 6ms/step - loss: 21.9598 - mae: 21.9598\n",
      "Epoch 55/100\n",
      "2/2 [==============================] - 0s 7ms/step - loss: 14.8147 - mae: 14.8147\n",
      "Epoch 56/100\n",
      "2/2 [==============================] - 0s 7ms/step - loss: 10.6891 - mae: 10.6891\n",
      "Epoch 57/100\n",
      "2/2 [==============================] - 0s 7ms/step - loss: 8.5829 - mae: 8.5829\n",
      "Epoch 58/100\n",
      "2/2 [==============================] - 0s 7ms/step - loss: 7.9415 - mae: 7.9415\n",
      "Epoch 59/100\n",
      "2/2 [==============================] - 0s 6ms/step - loss: 9.0675 - mae: 9.0675\n",
      "Epoch 60/100\n",
      "2/2 [==============================] - 0s 7ms/step - loss: 7.6430 - mae: 7.6430\n",
      "Epoch 61/100\n",
      "2/2 [==============================] - 0s 7ms/step - loss: 8.5741 - mae: 8.5741\n",
      "Epoch 62/100\n",
      "2/2 [==============================] - 0s 7ms/step - loss: 6.0644 - mae: 6.0644\n",
      "Epoch 63/100\n",
      "2/2 [==============================] - 0s 8ms/step - loss: 12.0633 - mae: 12.0633\n",
      "Epoch 64/100\n",
      "2/2 [==============================] - 0s 7ms/step - loss: 11.4743 - mae: 11.4743\n",
      "Epoch 65/100\n",
      "2/2 [==============================] - 0s 7ms/step - loss: 8.3321 - mae: 8.3321\n",
      "Epoch 66/100\n",
      "2/2 [==============================] - 0s 8ms/step - loss: 10.3181 - mae: 10.3181\n",
      "Epoch 67/100\n",
      "2/2 [==============================] - 0s 8ms/step - loss: 7.3006 - mae: 7.3006\n",
      "Epoch 68/100\n",
      "2/2 [==============================] - 0s 6ms/step - loss: 7.7682 - mae: 7.7682\n",
      "Epoch 69/100\n",
      "2/2 [==============================] - 0s 6ms/step - loss: 9.1903 - mae: 9.1903\n",
      "Epoch 70/100\n",
      "2/2 [==============================] - 0s 6ms/step - loss: 9.2119 - mae: 9.2119\n",
      "Epoch 71/100\n",
      "2/2 [==============================] - 0s 5ms/step - loss: 10.4598 - mae: 10.4598\n",
      "Epoch 72/100\n",
      "2/2 [==============================] - 0s 4ms/step - loss: 8.6640 - mae: 8.6640\n",
      "Epoch 73/100\n",
      "2/2 [==============================] - 0s 5ms/step - loss: 10.7649 - mae: 10.7649\n",
      "Epoch 74/100\n",
      "2/2 [==============================] - 0s 5ms/step - loss: 11.6286 - mae: 11.6286\n",
      "Epoch 75/100\n",
      "2/2 [==============================] - 0s 8ms/step - loss: 6.3828 - mae: 6.3828\n",
      "Epoch 76/100\n",
      "2/2 [==============================] - 0s 9ms/step - loss: 10.1114 - mae: 10.1114\n",
      "Epoch 77/100\n",
      "2/2 [==============================] - 0s 7ms/step - loss: 10.0803 - mae: 10.0803\n",
      "Epoch 78/100\n",
      "2/2 [==============================] - 0s 9ms/step - loss: 11.7177 - mae: 11.7177\n",
      "Epoch 79/100\n",
      "2/2 [==============================] - 0s 7ms/step - loss: 14.7006 - mae: 14.7006\n",
      "Epoch 80/100\n",
      "2/2 [==============================] - 0s 7ms/step - loss: 11.0081 - mae: 11.0081\n",
      "Epoch 81/100\n",
      "2/2 [==============================] - 0s 6ms/step - loss: 10.1511 - mae: 10.1511\n",
      "Epoch 82/100\n",
      "2/2 [==============================] - 0s 3ms/step - loss: 7.1519 - mae: 7.1519\n",
      "Epoch 83/100\n",
      "2/2 [==============================] - 0s 5ms/step - loss: 8.0753 - mae: 8.0753\n",
      "Epoch 84/100\n",
      "2/2 [==============================] - 0s 5ms/step - loss: 6.7140 - mae: 6.7140\n",
      "Epoch 85/100\n",
      "2/2 [==============================] - 0s 5ms/step - loss: 16.1595 - mae: 16.1595\n",
      "Epoch 86/100\n",
      "2/2 [==============================] - 0s 7ms/step - loss: 11.6130 - mae: 11.6130\n",
      "Epoch 87/100\n",
      "2/2 [==============================] - 0s 8ms/step - loss: 11.5003 - mae: 11.5003\n",
      "Epoch 88/100\n"
     ]
    },
    {
     "name": "stdout",
     "output_type": "stream",
     "text": [
      "2/2 [==============================] - 0s 7ms/step - loss: 9.5778 - mae: 9.5778\n",
      "Epoch 89/100\n",
      "2/2 [==============================] - 0s 6ms/step - loss: 6.0350 - mae: 6.0350\n",
      "Epoch 90/100\n",
      "2/2 [==============================] - 0s 5ms/step - loss: 12.9460 - mae: 12.9460\n",
      "Epoch 91/100\n",
      "2/2 [==============================] - 0s 5ms/step - loss: 6.8964 - mae: 6.8964\n",
      "Epoch 92/100\n",
      "2/2 [==============================] - 0s 7ms/step - loss: 7.1220 - mae: 7.1220\n",
      "Epoch 93/100\n",
      "2/2 [==============================] - 0s 5ms/step - loss: 8.5511 - mae: 8.5511\n",
      "Epoch 94/100\n",
      "2/2 [==============================] - 0s 4ms/step - loss: 7.9000 - mae: 7.9000\n",
      "Epoch 95/100\n",
      "2/2 [==============================] - 0s 5ms/step - loss: 11.3200 - mae: 11.3200\n",
      "Epoch 96/100\n",
      "2/2 [==============================] - 0s 5ms/step - loss: 8.6253 - mae: 8.6253\n",
      "Epoch 97/100\n",
      "2/2 [==============================] - 0s 8ms/step - loss: 12.8103 - mae: 12.8103\n",
      "Epoch 98/100\n",
      "2/2 [==============================] - 0s 8ms/step - loss: 7.5073 - mae: 7.5073\n",
      "Epoch 99/100\n",
      "2/2 [==============================] - 0s 6ms/step - loss: 8.2500 - mae: 8.2500\n",
      "Epoch 100/100\n",
      "2/2 [==============================] - 0s 6ms/step - loss: 9.7321 - mae: 9.7321\n"
     ]
    },
    {
     "data": {
      "text/plain": [
       "<keras.callbacks.History at 0x258fdb7d2e0>"
      ]
     },
     "execution_count": 39,
     "metadata": {},
     "output_type": "execute_result"
    }
   ],
   "source": [
    "# Fit the model again, for another 100 epochs (so for a total of 200 epochs)\n",
    "model.fit(X_train, y_train, epochs=100, verbose=1)"
   ]
  },
  {
   "cell_type": "markdown",
   "id": "7798ca6b",
   "metadata": {},
   "source": [
    "🔑 Every time model.fit() is called, it's going to fit for the extra epochs provided as parameters : the epochs are cumulative."
   ]
  },
  {
   "cell_type": "code",
   "execution_count": null,
   "id": "378fe5b7",
   "metadata": {},
   "outputs": [],
   "source": []
  },
  {
   "cell_type": "markdown",
   "id": "8cd35a1b",
   "metadata": {},
   "source": [
    "### Visualizing a model's layers"
   ]
  },
  {
   "cell_type": "code",
   "execution_count": 40,
   "id": "64f49ee8",
   "metadata": {},
   "outputs": [
    {
     "name": "stdout",
     "output_type": "stream",
     "text": [
      "Model: \"sequential_8\"\n",
      "_________________________________________________________________\n",
      " Layer (type)                Output Shape              Param #   \n",
      "=================================================================\n",
      " dense_13 (Dense)            (None, 10)                20        \n",
      "                                                                 \n",
      "=================================================================\n",
      "Total params: 20\n",
      "Trainable params: 20\n",
      "Non-trainable params: 0\n",
      "_________________________________________________________________\n"
     ]
    }
   ],
   "source": [
    "# Creating a new model, with 10 units in the hidden layers\n",
    "\n",
    "tf.random.set_seed(42)\n",
    "\n",
    "# 1. Create a model (same as above)\n",
    "model = tf.keras.Sequential([\n",
    "    tf.keras.layers.Dense(10, input_shape= [1] )  \n",
    "]) \n",
    "\n",
    "# 2. Compile the model \n",
    "model.compile(loss=tf.keras.losses.mae,\n",
    "             optimizer = tf.keras.optimizers.SGD(),\n",
    "             metrics=[\"mae\"])\n",
    "\n",
    "\n",
    "model.summary()\n"
   ]
  },
  {
   "cell_type": "code",
   "execution_count": 41,
   "id": "967d66d9",
   "metadata": {},
   "outputs": [
    {
     "data": {
      "text/plain": [
       "<keras.callbacks.History at 0x258fdba0580>"
      ]
     },
     "execution_count": 41,
     "metadata": {},
     "output_type": "execute_result"
    }
   ],
   "source": [
    "# Fit the model to the training data\n",
    "model.fit(X_train, y_train, epochs=100, verbose=0)"
   ]
  },
  {
   "cell_type": "code",
   "execution_count": 42,
   "id": "8641da1e",
   "metadata": {},
   "outputs": [
    {
     "data": {
      "image/png": "[encoded data removed]",
      "text/plain": [
       "<IPython.core.display.Image object>"
      ]
     },
     "execution_count": 42,
     "metadata": {},
     "output_type": "execute_result"
    }
   ],
   "source": [
    "# Looking at the layers of the model\n",
    "plot_model(model=model)"
   ]
  },
  {
   "cell_type": "code",
   "execution_count": 43,
   "id": "51112f96",
   "metadata": {},
   "outputs": [
    {
     "data": {
      "image/png": "[encoded data removed]",
      "text/plain": [
       "<IPython.core.display.Image object>"
      ]
     },
     "execution_count": 43,
     "metadata": {},
     "output_type": "execute_result"
    }
   ],
   "source": [
    "# Looking at the layers of the model, with it's shape\n",
    "plot_model(model=model, show_shapes=True)"
   ]
  },
  {
   "cell_type": "markdown",
   "id": "8720dbcb",
   "metadata": {},
   "source": [
    "The plot_model() above will be very handy later on when we start creating more complex models with more hidden layers. \n",
    "   \n",
    "Let's observe the plot of a little more complex model"
   ]
  },
  {
   "cell_type": "code",
   "execution_count": 44,
   "id": "d6a9f617",
   "metadata": {},
   "outputs": [
    {
     "name": "stdout",
     "output_type": "stream",
     "text": [
      "Model: \"amazing_model\"\n",
      "_________________________________________________________________\n",
      " Layer (type)                Output Shape              Param #   \n",
      "=================================================================\n",
      " input_layer (Dense)         (None, 10)                20        \n",
      "                                                                 \n",
      " output_layer (Dense)        (None, 1)                 11        \n",
      "                                                                 \n",
      "=================================================================\n",
      "Total params: 31\n",
      "Trainable params: 31\n",
      "Non-trainable params: 0\n",
      "_________________________________________________________________\n"
     ]
    }
   ],
   "source": [
    "# Creating a model, with 10 units in the hidden layers, and an output layer\n",
    "\n",
    "tf.random.set_seed(42)\n",
    "\n",
    "# 1. Create a model (same as above)\n",
    "model = tf.keras.Sequential([\n",
    "    tf.keras.layers.Dense(10, input_shape= [1], name=\"input_layer\" ), \n",
    "    tf.keras.layers.Dense(1, name=\"output_layer\")\n",
    "], name=\"amazing_model\") \n",
    "\n",
    "# 2. Compile the model \n",
    "model.compile(loss=tf.keras.losses.mae,\n",
    "             optimizer = tf.keras.optimizers.SGD(),\n",
    "             metrics=[\"mae\"])\n",
    "\n",
    "\n",
    "model.summary()\n"
   ]
  },
  {
   "cell_type": "code",
   "execution_count": 45,
   "id": "69b4b0ca",
   "metadata": {},
   "outputs": [
    {
     "data": {
      "text/plain": [
       "<keras.callbacks.History at 0x258fdc21f70>"
      ]
     },
     "execution_count": 45,
     "metadata": {},
     "output_type": "execute_result"
    }
   ],
   "source": [
    "# Fit the model to the training data\n",
    "model.fit(X_train, y_train, epochs=100, verbose=0)"
   ]
  },
  {
   "cell_type": "code",
   "execution_count": 46,
   "id": "bc62aa47",
   "metadata": {},
   "outputs": [
    {
     "name": "stdout",
     "output_type": "stream",
     "text": [
      "Model: \"amazing_model\"\n",
      "_________________________________________________________________\n",
      " Layer (type)                Output Shape              Param #   \n",
      "=================================================================\n",
      " input_layer (Dense)         (None, 10)                20        \n",
      "                                                                 \n",
      " output_layer (Dense)        (None, 1)                 11        \n",
      "                                                                 \n",
      "=================================================================\n",
      "Total params: 31\n",
      "Trainable params: 31\n",
      "Non-trainable params: 0\n",
      "_________________________________________________________________\n"
     ]
    }
   ],
   "source": [
    "model.summary()"
   ]
  },
  {
   "cell_type": "code",
   "execution_count": 47,
   "id": "06d885f8",
   "metadata": {},
   "outputs": [
    {
     "data": {
      "image/png": "[encoded data removed]",
      "text/plain": [
       "<IPython.core.display.Image object>"
      ]
     },
     "execution_count": 47,
     "metadata": {},
     "output_type": "execute_result"
    }
   ],
   "source": [
    "# Looking at the layers of the model, with it's shape\n",
    "plot_model(model=model, show_shapes=True)"
   ]
  },
  {
   "cell_type": "code",
   "execution_count": null,
   "id": "955333a7",
   "metadata": {},
   "outputs": [],
   "source": []
  },
  {
   "cell_type": "markdown",
   "id": "ab607c02",
   "metadata": {},
   "source": [
    "### Visualizing the model's predictions  \n",
    "  \n",
    "To visualize predictions, it's a good idea to plot them against the ground truth labels.  \n",
    "  \n",
    "Often, one will see this in the form of `y_test` or `y_true` versus `y_pred` (ground truth versus the model's predictions)."
   ]
  },
  {
   "cell_type": "code",
   "execution_count": 48,
   "id": "6274fe28",
   "metadata": {},
   "outputs": [
    {
     "name": "stdout",
     "output_type": "stream",
     "text": [
      "WARNING:tensorflow:5 out of the last 6 calls to <function Model.make_predict_function.<locals>.predict_function at 0x00000258FDCECAF0> triggered tf.function retracing. Tracing is expensive and the excessive number of tracings could be due to (1) creating @tf.function repeatedly in a loop, (2) passing tensors with different shapes, (3) passing Python objects instead of tensors. For (1), please define your @tf.function outside of the loop. For (2), @tf.function has reduce_retracing=True option that can avoid unnecessary retracing. For (3), please refer to https://www.tensorflow.org/guide/function#controlling_retracing and https://www.tensorflow.org/api_docs/python/tf/function for  more details.\n",
      "1/1 [==============================] - 0s 112ms/step\n"
     ]
    },
    {
     "data": {
      "text/plain": [
       "array([[ 88.4003  ],\n",
       "       [ 94.16981 ],\n",
       "       [ 99.939316],\n",
       "       [105.70884 ],\n",
       "       [111.47833 ],\n",
       "       [117.24784 ],\n",
       "       [123.01735 ],\n",
       "       [128.78687 ],\n",
       "       [134.55637 ],\n",
       "       [140.32588 ]], dtype=float32)"
      ]
     },
     "execution_count": 48,
     "metadata": {},
     "output_type": "execute_result"
    }
   ],
   "source": [
    "# Make some predictions\n",
    "y_pred = model.predict(X_test)\n",
    "y_pred"
   ]
  },
  {
   "cell_type": "code",
   "execution_count": 49,
   "id": "2693f03d",
   "metadata": {},
   "outputs": [
    {
     "data": {
      "text/plain": [
       "<tf.Tensor: shape=(10,), dtype=int32, numpy=array([ 70,  74,  78,  82,  86,  90,  94,  98, 102, 106])>"
      ]
     },
     "execution_count": 49,
     "metadata": {},
     "output_type": "execute_result"
    }
   ],
   "source": [
    "# Looking at the content of y_test (the real value)\n",
    "y_test"
   ]
  },
  {
   "cell_type": "code",
   "execution_count": null,
   "id": "ceb2b008",
   "metadata": {},
   "outputs": [],
   "source": []
  },
  {
   "cell_type": "code",
   "execution_count": 50,
   "id": "eeba611f",
   "metadata": {},
   "outputs": [],
   "source": [
    "# Creating a plotting function\n",
    "def plot_predictions(train_data=X_train, train_labels=y_train,\n",
    "                    test_data=X_test, test_labels=y_test,\n",
    "                    predictions=y_pred):\n",
    "    \"\"\"\n",
    "        Plots training data, test data, and compares predictions to ground truth labels.\n",
    "    \"\"\"\n",
    "    plt.figure( figsize=(10,7) )\n",
    "\n",
    "    # Plot training data in blue \n",
    "    plt.scatter(train_data, train_labels, c=\"b\", label=\"Training data\")\n",
    "\n",
    "    # Plot test data in green\n",
    "    plt.scatter(test_data, test_labels, c=\"g\", label=\"Test data\")\n",
    "    \n",
    "    # Plot prediction data\n",
    "    plt.scatter(test_data,predictions,c=\"r\", label=\"Predictions\")\n",
    "\n",
    "    #Show a legend\n",
    "    plt.legend() "
   ]
  },
  {
   "cell_type": "code",
   "execution_count": 51,
   "id": "e17e0774",
   "metadata": {},
   "outputs": [
    {
     "data": {
      "image/png": "[encoded data removed]",
      "text/plain": [
       "<Figure size 720x504 with 1 Axes>"
      ]
     },
     "metadata": {
      "needs_background": "light"
     },
     "output_type": "display_data"
    }
   ],
   "source": [
    "plot_predictions()"
   ]
  },
  {
   "cell_type": "markdown",
   "id": "bf87ee45",
   "metadata": {},
   "source": [
    "Looking at the plots, the model appear to be good since the distance between test data and the predictions is small. But depending on the scale of the plot, that seemingly short distance can in fact represent a fairly large error.   \n",
    "So the way that can be figured out is by some evaluation metrics.\n"
   ]
  },
  {
   "cell_type": "markdown",
   "id": "cef52248",
   "metadata": {},
   "source": [
    "🛠️ **Exercise** : Try to improve the ploted model performance."
   ]
  },
  {
   "cell_type": "code",
   "execution_count": null,
   "id": "42f63d4e",
   "metadata": {},
   "outputs": [],
   "source": []
  },
  {
   "cell_type": "markdown",
   "id": "3465cb74",
   "metadata": {},
   "source": [
    "### Evaluation a model's predictions with regression evaluation metrics  \n",
    "  \n",
    "The best way to evaluate a model's predictions is by using evaluation metrics. Depending on the problem one is working on, there will be different evaluation metrics to evaluate a model's performance.\n",
    "   \n",
    "   \n",
    "Since the current work is a regression, three of the main metrics are :\n",
    "* **MAE** - Mean Absolute Error : \"On evareage, how wrong is each of the model's predictions ?\" . It is a great starter metric for any regression problem.\n",
    "* **MSE** - Mean Square Error : \"Square the average errors\" (take the errors from the model predictions, square them, and find the average). It is great to use it when larger errors are more significant than smaller errors.   \n",
    "* **Huber** : It is a combination of MSE and MAE; it's less sensitive to outliers than MSE."
   ]
  },
  {
   "cell_type": "code",
   "execution_count": 52,
   "id": "00c2f28d",
   "metadata": {},
   "outputs": [
    {
     "name": "stdout",
     "output_type": "stream",
     "text": [
      "1/1 [==============================] - 0s 286ms/step - loss: 26.3631 - mae: 26.3631\n"
     ]
    },
    {
     "data": {
      "text/plain": [
       "[26.363088607788086, 26.363088607788086]"
      ]
     },
     "execution_count": 52,
     "metadata": {},
     "output_type": "execute_result"
    }
   ],
   "source": [
    "# Evaluate the model on the test \n",
    "model.evaluate(X_test, y_test)"
   ]
  },
  {
   "cell_type": "markdown",
   "id": "777142f7",
   "metadata": {},
   "source": [
    "In the evaluation's result above, there are values for `loss` and `mae`. They came from the hyper-parameters (loss and metrics) provided when building the model."
   ]
  },
  {
   "cell_type": "markdown",
   "id": "9805df4d",
   "metadata": {},
   "source": [
    "#### Manually calculate the MAE (as an exercise)"
   ]
  },
  {
   "cell_type": "code",
   "execution_count": 53,
   "id": "5ec1db76",
   "metadata": {},
   "outputs": [
    {
     "data": {
      "text/plain": [
       "<tf.Tensor: shape=(10,), dtype=float32, numpy=\n",
       "array([10.      , 10.867923, 13.563589, 17.76707 , 23.478333, 29.247839,\n",
       "       35.01735 , 40.786865, 46.556366, 52.32588 ], dtype=float32)>"
      ]
     },
     "execution_count": 53,
     "metadata": {},
     "output_type": "execute_result"
    }
   ],
   "source": [
    "mae = tf.metrics.mean_absolute_error(y_true = y_test, y_pred=y_pred)\n",
    "mae"
   ]
  },
  {
   "cell_type": "markdown",
   "id": "1cd1446f",
   "metadata": {},
   "source": [
    "The result above does not make sense, because the result should be scalar, not an array . Let us observe y_test and y_pred to understand what is going on in the data."
   ]
  },
  {
   "cell_type": "code",
   "execution_count": 54,
   "id": "75792e15",
   "metadata": {},
   "outputs": [
    {
     "data": {
      "text/plain": [
       "<tf.Tensor: shape=(10,), dtype=int32, numpy=array([ 70,  74,  78,  82,  86,  90,  94,  98, 102, 106])>"
      ]
     },
     "execution_count": 54,
     "metadata": {},
     "output_type": "execute_result"
    }
   ],
   "source": [
    "y_test"
   ]
  },
  {
   "cell_type": "code",
   "execution_count": 55,
   "id": "12019b8c",
   "metadata": {},
   "outputs": [
    {
     "data": {
      "text/plain": [
       "array([[ 88.4003  ],\n",
       "       [ 94.16981 ],\n",
       "       [ 99.939316],\n",
       "       [105.70884 ],\n",
       "       [111.47833 ],\n",
       "       [117.24784 ],\n",
       "       [123.01735 ],\n",
       "       [128.78687 ],\n",
       "       [134.55637 ],\n",
       "       [140.32588 ]], dtype=float32)"
      ]
     },
     "execution_count": 55,
     "metadata": {},
     "output_type": "execute_result"
    }
   ],
   "source": [
    "y_pred"
   ]
  },
  {
   "cell_type": "code",
   "execution_count": 56,
   "id": "af13faf2",
   "metadata": {},
   "outputs": [
    {
     "data": {
      "text/plain": [
       "(10, 1)"
      ]
     },
     "execution_count": 56,
     "metadata": {},
     "output_type": "execute_result"
    }
   ],
   "source": [
    "y_pred.shape"
   ]
  },
  {
   "cell_type": "markdown",
   "id": "12d65db9",
   "metadata": {},
   "source": [
    "y_pred has one more dimension than y_test, so we need to remove its last dimension in order to have the same dimension for the two of them."
   ]
  },
  {
   "cell_type": "code",
   "execution_count": 57,
   "id": "17da45da",
   "metadata": {},
   "outputs": [
    {
     "data": {
      "text/plain": [
       "<tf.Tensor: shape=(10,), dtype=float32, numpy=\n",
       "array([ 88.4003  ,  94.16981 ,  99.939316, 105.70884 , 111.47833 ,\n",
       "       117.24784 , 123.01735 , 128.78687 , 134.55637 , 140.32588 ],\n",
       "      dtype=float32)>"
      ]
     },
     "execution_count": 57,
     "metadata": {},
     "output_type": "execute_result"
    }
   ],
   "source": [
    "# remove the last dimension from y_pred\n",
    "tf.squeeze(y_pred)"
   ]
  },
  {
   "cell_type": "code",
   "execution_count": 58,
   "id": "1e73ed10",
   "metadata": {},
   "outputs": [
    {
     "data": {
      "text/plain": [
       "<tf.Tensor: shape=(), dtype=float32, numpy=26.363092>"
      ]
     },
     "execution_count": 58,
     "metadata": {},
     "output_type": "execute_result"
    }
   ],
   "source": [
    "mae = tf.metrics.mean_absolute_error(y_true=y_test, y_pred = tf.squeeze(y_pred))\n",
    "mae"
   ]
  },
  {
   "cell_type": "markdown",
   "id": "b0ad45e6",
   "metadata": {},
   "source": [
    "The MAE manually computed here is the same as the one computed automatically before."
   ]
  },
  {
   "cell_type": "markdown",
   "id": "3cf402e6",
   "metadata": {},
   "source": [
    "#### Manually calculate the MSE (as an exercise)"
   ]
  },
  {
   "cell_type": "code",
   "execution_count": 59,
   "id": "c90b3e84",
   "metadata": {},
   "outputs": [
    {
     "data": {
      "text/plain": [
       "<tf.Tensor: shape=(10,), dtype=float32, numpy=\n",
       "array([ 132.16025,  170.06653,  274.54724,  445.60297,  683.23206,\n",
       "        987.4362 , 1358.2147 , 1795.5684 , 2299.4954 , 2869.9978 ],\n",
       "      dtype=float32)>"
      ]
     },
     "execution_count": 59,
     "metadata": {},
     "output_type": "execute_result"
    }
   ],
   "source": [
    "mse = tf.metrics.mean_squared_error(y_true=y_test, y_pred=y_pred)\n",
    "mse"
   ]
  },
  {
   "cell_type": "markdown",
   "id": "422c2ed0",
   "metadata": {},
   "source": [
    "We have the same situation as when manually calculing MAE. We will use `tf.squeeze()` to solve the issue."
   ]
  },
  {
   "cell_type": "code",
   "execution_count": 60,
   "id": "98097d29",
   "metadata": {},
   "outputs": [
    {
     "data": {
      "text/plain": [
       "<tf.Tensor: shape=(), dtype=float32, numpy=720.8446>"
      ]
     },
     "execution_count": 60,
     "metadata": {},
     "output_type": "execute_result"
    }
   ],
   "source": [
    "mse = tf.metrics.mean_squared_error(y_true=y_test, y_pred= tf.squeeze(y_pred) )\n",
    "mse"
   ]
  },
  {
   "cell_type": "markdown",
   "id": "cc16b67b",
   "metadata": {},
   "source": [
    "MSE will typically be higher than MAE because, if we look at their formula, there is a square operation in MSE."
   ]
  },
  {
   "cell_type": "code",
   "execution_count": null,
   "id": "804b9b8b",
   "metadata": {},
   "outputs": [],
   "source": []
  },
  {
   "cell_type": "markdown",
   "id": "dcfe3cf7",
   "metadata": {},
   "source": [
    "#### Define a function for MAE and MSE\n",
    "It is so that the two of them can be used later"
   ]
  },
  {
   "cell_type": "code",
   "execution_count": 61,
   "id": "12fde13f",
   "metadata": {},
   "outputs": [],
   "source": [
    "def mae(y_true, y_pred):\n",
    "    return tf.metrics.mean_absolute_error(y_true=y_true, y_pred = y_pred)\n",
    "\n",
    "def mse(y_true, y_pred):\n",
    "    return tf.metrics.mean_squared_error(y_true=y_test, y_pred=y_pred)"
   ]
  },
  {
   "cell_type": "code",
   "execution_count": null,
   "id": "84618df1",
   "metadata": {},
   "outputs": [],
   "source": []
  },
  {
   "cell_type": "markdown",
   "id": "970c90c1",
   "metadata": {},
   "source": [
    "### Running experiments to improve a model\n",
    "\n",
    "So far :\n",
    "* some predictions where made with a trained model, \n",
    "* the predictions where compared to test data set, and the comparaison was visualized,\n",
    "* the predictions where where evaluated with regression evaluation metrics, such as MAE and MSE.\n",
    "\n",
    "The next question is : \"**How do we get the error values lower ?** (How do we minimize the difference between the model's predictions and the test labels)\". \n",
    "\n",
    "Remembering the workflow discussed before : `Build a model -> fit it -> evaluate it -> tweak it -> fit it -> tweak it -> ... `\n",
    "\n",
    "If the Machine Learning explorer's motto is `visualize, visualize, visualize`, in other words :\n",
    "* Visualizing our data\n",
    "* Visualizing our model\n",
    "* Visualizing our training\n",
    "* Visualizing our prediction\n",
    "\n",
    "Then, the Machine Learning practitioner's motto is `experiment, experiment, experiment, ...`. That is what we are going to do : try to run a few series of experiments to see if we can improve our model following the above mentioned workflow.\n",
    "\n",
    "Recalling some ways that we can improve our model :\n",
    "1. **Get more data** - get more examples for your model to train on (in other words, more opportunities to learn patterns/relationships between features and labels).\n",
    "1. **Make the model larger** (using a more complex model) -  this might come in the form of more layers, or more hidden units in each layer, or both.\n",
    "1. **Train for longer** - give the model more of a chance to find patterns in the data\n",
    "1. **Review how the model is compiled** - change the optimization function, or learning rate of the optimization function"
   ]
  },
  {
   "cell_type": "code",
   "execution_count": 62,
   "id": "5dab5076",
   "metadata": {},
   "outputs": [
    {
     "data": {
      "text/plain": [
       "(<tf.Tensor: shape=(40,), dtype=int32, numpy=\n",
       " array([-100,  -96,  -92,  -88,  -84,  -80,  -76,  -72,  -68,  -64,  -60,\n",
       "         -56,  -52,  -48,  -44,  -40,  -36,  -32,  -28,  -24,  -20,  -16,\n",
       "         -12,   -8,   -4,    0,    4,    8,   12,   16,   20,   24,   28,\n",
       "          32,   36,   40,   44,   48,   52,   56])>,\n",
       " <tf.Tensor: shape=(40,), dtype=int32, numpy=\n",
       " array([-90, -86, -82, -78, -74, -70, -66, -62, -58, -54, -50, -46, -42,\n",
       "        -38, -34, -30, -26, -22, -18, -14, -10,  -6,  -2,   2,   6,  10,\n",
       "         14,  18,  22,  26,  30,  34,  38,  42,  46,  50,  54,  58,  62,\n",
       "         66])>)"
      ]
     },
     "execution_count": 62,
     "metadata": {},
     "output_type": "execute_result"
    }
   ],
   "source": [
    "# Recalling our dataset\n",
    "X_train, y_train"
   ]
  },
  {
   "cell_type": "markdown",
   "id": "3676c1da",
   "metadata": {},
   "source": [
    "The question now is `Looking at our datas, how can we improve our model ?`. Let us review our options :   \n",
    "\n",
    "1. Get more data ? We can't really get more data unless we just artificially make our datasest bigger, so this option is ruled out.\n",
    "1. Make the model larger ? Yes we can\n",
    "1. Train for longer ? Yes, we can\n",
    "1. Review how the model is compiled ? Yes we can\n",
    "\n",
    "In regard for this, let's design 03 experiments that we could do: \n",
    "1. `model_1` - same as the original model, 1 layer, trained for 100 epochs.\n",
    "1. `model_2` - 2 layers, trained for 100 epochs.\n",
    "1. `model_3` - 2 layers, trained for 500 epochs.\n",
    "\n",
    "The mindset of a Machine Learning practitioner is to start with a baseline model, and then change one of the parameters for his next experiment, then do the same for the next experiment, and so on."
   ]
  },
  {
   "cell_type": "code",
   "execution_count": null,
   "id": "603a60ba",
   "metadata": {},
   "outputs": [],
   "source": []
  },
  {
   "cell_type": "markdown",
   "id": "3c6d23e7",
   "metadata": {},
   "source": [
    "**Creating model_1**: 1 layer, trained for 100 epochs"
   ]
  },
  {
   "cell_type": "code",
   "execution_count": 63,
   "id": "99dd78e1",
   "metadata": {},
   "outputs": [
    {
     "name": "stdout",
     "output_type": "stream",
     "text": [
      "Epoch 1/100\n",
      "2/2 [==============================] - 1s 7ms/step - loss: 63.0238 - mae: 63.0238\n",
      "Epoch 2/100\n",
      "2/2 [==============================] - 0s 4ms/step - loss: 28.1007 - mae: 28.1007\n",
      "Epoch 3/100\n",
      "2/2 [==============================] - 0s 4ms/step - loss: 10.8675 - mae: 10.8675\n",
      "Epoch 4/100\n",
      "2/2 [==============================] - 0s 5ms/step - loss: 11.3270 - mae: 11.3270\n",
      "Epoch 5/100\n",
      "2/2 [==============================] - 0s 4ms/step - loss: 12.5783 - mae: 12.5783\n",
      "Epoch 6/100\n",
      "2/2 [==============================] - 0s 5ms/step - loss: 9.7318 - mae: 9.7318\n",
      "Epoch 7/100\n",
      "2/2 [==============================] - 0s 5ms/step - loss: 8.8246 - mae: 8.8246\n",
      "Epoch 8/100\n",
      "2/2 [==============================] - 0s 6ms/step - loss: 9.0812 - mae: 9.0812\n",
      "Epoch 9/100\n",
      "2/2 [==============================] - 0s 6ms/step - loss: 19.3578 - mae: 19.3578\n",
      "Epoch 10/100\n",
      "2/2 [==============================] - 0s 5ms/step - loss: 10.4630 - mae: 10.4630\n",
      "Epoch 11/100\n",
      "2/2 [==============================] - 0s 5ms/step - loss: 8.5436 - mae: 8.5436\n",
      "Epoch 12/100\n",
      "2/2 [==============================] - 0s 6ms/step - loss: 10.9566 - mae: 10.9566\n",
      "Epoch 13/100\n",
      "2/2 [==============================] - 0s 5ms/step - loss: 7.5797 - mae: 7.5797\n",
      "Epoch 14/100\n",
      "2/2 [==============================] - 0s 5ms/step - loss: 16.0167 - mae: 16.0167\n",
      "Epoch 15/100\n",
      "2/2 [==============================] - 0s 5ms/step - loss: 13.0975 - mae: 13.0975\n",
      "Epoch 16/100\n",
      "2/2 [==============================] - 0s 6ms/step - loss: 7.9504 - mae: 7.9504\n",
      "Epoch 17/100\n",
      "2/2 [==============================] - 0s 5ms/step - loss: 11.3002 - mae: 11.3002\n",
      "Epoch 18/100\n",
      "2/2 [==============================] - 0s 5ms/step - loss: 10.2538 - mae: 10.2538\n",
      "Epoch 19/100\n",
      "2/2 [==============================] - 0s 5ms/step - loss: 19.5440 - mae: 19.5440\n",
      "Epoch 20/100\n",
      "2/2 [==============================] - 0s 5ms/step - loss: 16.1968 - mae: 16.1968\n",
      "Epoch 21/100\n",
      "2/2 [==============================] - 0s 4ms/step - loss: 12.0947 - mae: 12.0947\n",
      "Epoch 22/100\n",
      "2/2 [==============================] - 0s 6ms/step - loss: 8.7168 - mae: 8.7168\n",
      "Epoch 23/100\n",
      "2/2 [==============================] - 0s 5ms/step - loss: 10.2763 - mae: 10.2763\n",
      "Epoch 24/100\n",
      "2/2 [==============================] - 0s 5ms/step - loss: 15.3878 - mae: 15.3878\n",
      "Epoch 25/100\n",
      "2/2 [==============================] - 0s 6ms/step - loss: 11.9357 - mae: 11.9357\n",
      "Epoch 26/100\n",
      "2/2 [==============================] - 0s 6ms/step - loss: 12.8993 - mae: 12.8993\n",
      "Epoch 27/100\n",
      "2/2 [==============================] - 0s 6ms/step - loss: 10.8278 - mae: 10.8278\n",
      "Epoch 28/100\n",
      "2/2 [==============================] - 0s 5ms/step - loss: 13.1310 - mae: 13.1310\n",
      "Epoch 29/100\n",
      "2/2 [==============================] - 0s 5ms/step - loss: 9.5705 - mae: 9.5705\n",
      "Epoch 30/100\n",
      "2/2 [==============================] - 0s 6ms/step - loss: 16.7834 - mae: 16.7834\n",
      "Epoch 31/100\n",
      "2/2 [==============================] - 0s 4ms/step - loss: 23.2526 - mae: 23.2526\n",
      "Epoch 32/100\n",
      "2/2 [==============================] - 0s 4ms/step - loss: 7.3240 - mae: 7.3240\n",
      "Epoch 33/100\n",
      "2/2 [==============================] - 0s 5ms/step - loss: 10.4654 - mae: 10.4654\n",
      "Epoch 34/100\n",
      "2/2 [==============================] - 0s 5ms/step - loss: 9.7452 - mae: 9.7452\n",
      "Epoch 35/100\n",
      "2/2 [==============================] - 0s 7ms/step - loss: 8.4035 - mae: 8.4035\n",
      "Epoch 36/100\n",
      "2/2 [==============================] - 0s 5ms/step - loss: 8.5544 - mae: 8.5544\n",
      "Epoch 37/100\n",
      "2/2 [==============================] - 0s 5ms/step - loss: 8.6076 - mae: 8.6076\n",
      "Epoch 38/100\n",
      "2/2 [==============================] - 0s 5ms/step - loss: 9.2491 - mae: 9.2491\n",
      "Epoch 39/100\n",
      "2/2 [==============================] - 0s 4ms/step - loss: 10.1629 - mae: 10.1629\n",
      "Epoch 40/100\n",
      "2/2 [==============================] - 0s 3ms/step - loss: 9.7174 - mae: 9.7174\n",
      "Epoch 41/100\n",
      "2/2 [==============================] - 0s 3ms/step - loss: 8.0685 - mae: 8.0685\n",
      "Epoch 42/100\n",
      "2/2 [==============================] - 0s 5ms/step - loss: 10.4826 - mae: 10.4826\n",
      "Epoch 43/100\n",
      "2/2 [==============================] - 0s 4ms/step - loss: 7.5368 - mae: 7.5368\n",
      "Epoch 44/100\n",
      "2/2 [==============================] - 0s 5ms/step - loss: 18.8099 - mae: 18.8099\n",
      "Epoch 45/100\n",
      "2/2 [==============================] - 0s 5ms/step - loss: 14.7024 - mae: 14.7024\n",
      "Epoch 46/100\n",
      "2/2 [==============================] - 0s 7ms/step - loss: 8.8908 - mae: 8.8908\n",
      "Epoch 47/100\n",
      "2/2 [==============================] - 0s 6ms/step - loss: 9.3826 - mae: 9.3826\n",
      "Epoch 48/100\n",
      "2/2 [==============================] - 0s 4ms/step - loss: 10.9889 - mae: 10.9889\n",
      "Epoch 49/100\n",
      "2/2 [==============================] - 0s 5ms/step - loss: 7.9685 - mae: 7.9685\n",
      "Epoch 50/100\n",
      "2/2 [==============================] - 0s 5ms/step - loss: 9.8793 - mae: 9.8793\n",
      "Epoch 51/100\n",
      "2/2 [==============================] - 0s 4ms/step - loss: 9.2378 - mae: 9.2378\n",
      "Epoch 52/100\n",
      "2/2 [==============================] - 0s 6ms/step - loss: 17.0895 - mae: 17.0895\n",
      "Epoch 53/100\n",
      "2/2 [==============================] - 0s 5ms/step - loss: 13.8162 - mae: 13.8162\n",
      "Epoch 54/100\n",
      "2/2 [==============================] - 0s 6ms/step - loss: 20.3213 - mae: 20.3213\n",
      "Epoch 55/100\n",
      "2/2 [==============================] - 0s 6ms/step - loss: 16.9947 - mae: 16.9947\n",
      "Epoch 56/100\n",
      "2/2 [==============================] - 0s 5ms/step - loss: 9.8975 - mae: 9.8975\n",
      "Epoch 57/100\n",
      "2/2 [==============================] - 0s 5ms/step - loss: 9.6525 - mae: 9.6525\n",
      "Epoch 58/100\n",
      "2/2 [==============================] - 0s 4ms/step - loss: 8.9770 - mae: 8.9770\n",
      "Epoch 59/100\n",
      "2/2 [==============================] - 0s 4ms/step - loss: 10.1777 - mae: 10.1777\n",
      "Epoch 60/100\n",
      "2/2 [==============================] - 0s 5ms/step - loss: 8.4403 - mae: 8.4403\n",
      "Epoch 61/100\n",
      "2/2 [==============================] - 0s 6ms/step - loss: 9.2839 - mae: 9.2839\n",
      "Epoch 62/100\n",
      "2/2 [==============================] - 0s 4ms/step - loss: 7.0837 - mae: 7.0837\n",
      "Epoch 63/100\n",
      "2/2 [==============================] - 0s 5ms/step - loss: 8.6532 - mae: 8.6532\n",
      "Epoch 64/100\n",
      "2/2 [==============================] - 0s 5ms/step - loss: 9.2310 - mae: 9.2310\n",
      "Epoch 65/100\n",
      "2/2 [==============================] - 0s 4ms/step - loss: 10.4847 - mae: 10.4847\n",
      "Epoch 66/100\n",
      "2/2 [==============================] - 0s 5ms/step - loss: 15.6617 - mae: 15.6617\n",
      "Epoch 67/100\n",
      "2/2 [==============================] - 0s 6ms/step - loss: 10.0552 - mae: 10.0552\n",
      "Epoch 68/100\n",
      "2/2 [==============================] - 0s 5ms/step - loss: 9.0296 - mae: 9.0296\n",
      "Epoch 69/100\n",
      "2/2 [==============================] - 0s 4ms/step - loss: 12.5328 - mae: 12.5328\n",
      "Epoch 70/100\n",
      "2/2 [==============================] - 0s 6ms/step - loss: 8.9845 - mae: 8.9845\n",
      "Epoch 71/100\n",
      "2/2 [==============================] - 0s 7ms/step - loss: 9.9614 - mae: 9.9614\n",
      "Epoch 72/100\n",
      "2/2 [==============================] - 0s 8ms/step - loss: 9.9957 - mae: 9.9957\n",
      "Epoch 73/100\n",
      "2/2 [==============================] - 0s 6ms/step - loss: 12.4798 - mae: 12.4798\n",
      "Epoch 74/100\n",
      "2/2 [==============================] - 0s 6ms/step - loss: 10.5483 - mae: 10.5483\n",
      "Epoch 75/100\n",
      "2/2 [==============================] - 0s 5ms/step - loss: 9.6565 - mae: 9.6565\n",
      "Epoch 76/100\n",
      "2/2 [==============================] - 0s 6ms/step - loss: 11.1294 - mae: 11.1294\n",
      "Epoch 77/100\n",
      "2/2 [==============================] - 0s 5ms/step - loss: 8.3033 - mae: 8.3033\n",
      "Epoch 78/100\n",
      "2/2 [==============================] - 0s 4ms/step - loss: 9.0077 - mae: 9.0077\n",
      "Epoch 79/100\n",
      "2/2 [==============================] - 0s 6ms/step - loss: 19.7412 - mae: 19.7412\n",
      "Epoch 80/100\n",
      "2/2 [==============================] - 0s 7ms/step - loss: 17.8645 - mae: 17.8645\n",
      "Epoch 81/100\n",
      "2/2 [==============================] - 0s 6ms/step - loss: 7.0700 - mae: 7.0700\n",
      "Epoch 82/100\n",
      "2/2 [==============================] - 0s 5ms/step - loss: 10.4377 - mae: 10.4377\n",
      "Epoch 83/100\n",
      "2/2 [==============================] - 0s 6ms/step - loss: 9.8663 - mae: 9.8663\n",
      "Epoch 84/100\n",
      "2/2 [==============================] - 0s 6ms/step - loss: 7.9329 - mae: 7.9329\n",
      "Epoch 85/100\n",
      "2/2 [==============================] - 0s 8ms/step - loss: 9.4336 - mae: 9.4336\n",
      "Epoch 86/100\n",
      "2/2 [==============================] - 0s 8ms/step - loss: 9.2567 - mae: 9.2567\n",
      "Epoch 87/100\n",
      "2/2 [==============================] - 0s 7ms/step - loss: 12.0408 - mae: 12.0408\n",
      "Epoch 88/100\n"
     ]
    },
    {
     "name": "stdout",
     "output_type": "stream",
     "text": [
      "2/2 [==============================] - 0s 5ms/step - loss: 10.6601 - mae: 10.6601\n",
      "Epoch 89/100\n",
      "2/2 [==============================] - 0s 3ms/step - loss: 7.2727 - mae: 7.2727\n",
      "Epoch 90/100\n",
      "2/2 [==============================] - 0s 4ms/step - loss: 12.8018 - mae: 12.8018\n",
      "Epoch 91/100\n",
      "2/2 [==============================] - 0s 6ms/step - loss: 7.4820 - mae: 7.4820\n",
      "Epoch 92/100\n",
      "2/2 [==============================] - 0s 4ms/step - loss: 6.7581 - mae: 6.7581\n",
      "Epoch 93/100\n",
      "2/2 [==============================] - 0s 6ms/step - loss: 11.9521 - mae: 11.9521\n",
      "Epoch 94/100\n",
      "2/2 [==============================] - 0s 6ms/step - loss: 8.8847 - mae: 8.8847\n",
      "Epoch 95/100\n",
      "2/2 [==============================] - 0s 5ms/step - loss: 7.7248 - mae: 7.7248\n",
      "Epoch 96/100\n",
      "2/2 [==============================] - 0s 6ms/step - loss: 6.7553 - mae: 6.7553\n",
      "Epoch 97/100\n",
      "2/2 [==============================] - 0s 5ms/step - loss: 8.6359 - mae: 8.6359\n",
      "Epoch 98/100\n",
      "2/2 [==============================] - 0s 6ms/step - loss: 9.3988 - mae: 9.3988\n",
      "Epoch 99/100\n",
      "2/2 [==============================] - 0s 5ms/step - loss: 9.1343 - mae: 9.1343\n",
      "Epoch 100/100\n",
      "2/2 [==============================] - 0s 6ms/step - loss: 10.4917 - mae: 10.4917\n"
     ]
    }
   ],
   "source": [
    "# Set random seed\n",
    "tf.random.set_seed(42)\n",
    "\n",
    "# 1. Create the model\n",
    "model_1 = tf.keras.Sequential([\n",
    "    tf.keras.layers.Dense(1)\n",
    "])\n",
    "\n",
    "# 2. Compile the model\n",
    "model_1.compile(loss=tf.keras.losses.mae,\n",
    "               optimizer=tf.keras.optimizers.SGD(),\n",
    "               metrics=[\"mae\"])\n",
    "\n",
    "# 3. Fit the model\n",
    "model_1.fit(tf.expand_dims(X_train,axis=-1), y_train, epochs=100);"
   ]
  },
  {
   "cell_type": "code",
   "execution_count": 64,
   "id": "a4bc8d7f",
   "metadata": {},
   "outputs": [
    {
     "name": "stdout",
     "output_type": "stream",
     "text": [
      "WARNING:tensorflow:6 out of the last 7 calls to <function Model.make_predict_function.<locals>.predict_function at 0x00000258FDC64280> triggered tf.function retracing. Tracing is expensive and the excessive number of tracings could be due to (1) creating @tf.function repeatedly in a loop, (2) passing tensors with different shapes, (3) passing Python objects instead of tensors. For (1), please define your @tf.function outside of the loop. For (2), @tf.function has reduce_retracing=True option that can avoid unnecessary retracing. For (3), please refer to https://www.tensorflow.org/guide/function#controlling_retracing and https://www.tensorflow.org/api_docs/python/tf/function for  more details.\n",
      "1/1 [==============================] - 0s 114ms/step\n"
     ]
    },
    {
     "data": {
      "image/png": "[encoded data removed]",
      "text/plain": [
       "<Figure size 720x504 with 1 Axes>"
      ]
     },
     "metadata": {
      "needs_background": "light"
     },
     "output_type": "display_data"
    }
   ],
   "source": [
    "# Make and plot predictions for model_1\n",
    "y_preds_1 = model_1.predict(tf.expand_dims(X_test,axis=-1))\n",
    "plot_predictions(train_data=X_train,train_labels=y_train,test_data=X_test, test_labels=y_test,predictions=y_preds_1)"
   ]
  },
  {
   "cell_type": "code",
   "execution_count": 65,
   "id": "3ca03c4b",
   "metadata": {},
   "outputs": [
    {
     "data": {
      "text/plain": [
       "(<tf.Tensor: shape=(), dtype=float32, numpy=14.91065>,\n",
       " <tf.Tensor: shape=(), dtype=float32, numpy=223.16182>)"
      ]
     },
     "execution_count": 65,
     "metadata": {},
     "output_type": "execute_result"
    }
   ],
   "source": [
    "# Calculate model_1 evaluation metrics\n",
    "mae_1 = mae(y_test, tf.squeeze(y_preds_1))\n",
    "mse_1 = mse(y_test, tf.squeeze(y_preds_1))\n",
    "mae_1, mse_1"
   ]
  },
  {
   "cell_type": "code",
   "execution_count": null,
   "id": "9a1be0e4",
   "metadata": {},
   "outputs": [],
   "source": []
  },
  {
   "cell_type": "markdown",
   "id": "a70ad7e6",
   "metadata": {},
   "source": [
    "**Creating model_2**: 2 dense layers, trained for 100 epochs"
   ]
  },
  {
   "cell_type": "code",
   "execution_count": 66,
   "id": "cbb34ae4",
   "metadata": {},
   "outputs": [
    {
     "name": "stdout",
     "output_type": "stream",
     "text": [
      "Epoch 1/100\n",
      "2/2 [==============================] - 1s 7ms/step - loss: 49.5974 - mse: 3797.6235\n",
      "Epoch 2/100\n",
      "2/2 [==============================] - 0s 8ms/step - loss: 27.6977 - mse: 992.4058\n",
      "Epoch 3/100\n",
      "2/2 [==============================] - 0s 7ms/step - loss: 32.5263 - mse: 1596.9846\n",
      "Epoch 4/100\n",
      "2/2 [==============================] - 0s 6ms/step - loss: 28.8800 - mse: 1236.5923\n",
      "Epoch 5/100\n",
      "2/2 [==============================] - 0s 7ms/step - loss: 15.6465 - mse: 318.7550\n",
      "Epoch 6/100\n",
      "2/2 [==============================] - 0s 7ms/step - loss: 12.4000 - mse: 196.6293\n",
      "Epoch 7/100\n",
      "2/2 [==============================] - 0s 6ms/step - loss: 11.6650 - mse: 167.1158\n",
      "Epoch 8/100\n",
      "2/2 [==============================] - 0s 4ms/step - loss: 12.0438 - mse: 198.3944\n",
      "Epoch 9/100\n",
      "2/2 [==============================] - 0s 5ms/step - loss: 37.6803 - mse: 2188.2642\n",
      "Epoch 10/100\n",
      "2/2 [==============================] - 0s 5ms/step - loss: 25.3202 - mse: 899.5889\n",
      "Epoch 11/100\n",
      "2/2 [==============================] - 0s 6ms/step - loss: 10.2414 - mse: 146.9402\n",
      "Epoch 12/100\n",
      "2/2 [==============================] - 0s 4ms/step - loss: 25.3697 - mse: 896.3057\n",
      "Epoch 13/100\n",
      "2/2 [==============================] - 0s 6ms/step - loss: 16.8867 - mse: 394.0861\n",
      "Epoch 14/100\n",
      "2/2 [==============================] - 0s 6ms/step - loss: 25.7451 - mse: 1033.6515\n",
      "Epoch 15/100\n",
      "2/2 [==============================] - 0s 6ms/step - loss: 17.5964 - mse: 428.7201\n",
      "Epoch 16/100\n",
      "2/2 [==============================] - 0s 6ms/step - loss: 10.0484 - mse: 124.1056\n",
      "Epoch 17/100\n",
      "2/2 [==============================] - 0s 7ms/step - loss: 18.6114 - mse: 463.3218\n",
      "Epoch 18/100\n",
      "2/2 [==============================] - 0s 6ms/step - loss: 11.7581 - mse: 211.8540\n",
      "Epoch 19/100\n",
      "2/2 [==============================] - 0s 6ms/step - loss: 16.4490 - mse: 434.0354\n",
      "Epoch 20/100\n",
      "2/2 [==============================] - 0s 5ms/step - loss: 8.2342 - mse: 93.1562\n",
      "Epoch 21/100\n",
      "2/2 [==============================] - 0s 6ms/step - loss: 14.4243 - mse: 288.5909\n",
      "Epoch 22/100\n",
      "2/2 [==============================] - 0s 7ms/step - loss: 12.8410 - mse: 245.7590\n",
      "Epoch 23/100\n",
      "2/2 [==============================] - 0s 6ms/step - loss: 15.4731 - mse: 314.7679\n",
      "Epoch 24/100\n",
      "2/2 [==============================] - 0s 5ms/step - loss: 15.2628 - mse: 315.7627\n",
      "Epoch 25/100\n",
      "2/2 [==============================] - 0s 5ms/step - loss: 14.3330 - mse: 272.5080\n",
      "Epoch 26/100\n",
      "2/2 [==============================] - 0s 4ms/step - loss: 19.3379 - mse: 567.5797\n",
      "Epoch 27/100\n",
      "2/2 [==============================] - 0s 4ms/step - loss: 11.4451 - mse: 169.0958\n",
      "Epoch 28/100\n",
      "2/2 [==============================] - 0s 8ms/step - loss: 29.1204 - mse: 1378.3584\n",
      "Epoch 29/100\n",
      "2/2 [==============================] - 0s 5ms/step - loss: 9.2420 - mse: 94.2301\n",
      "Epoch 30/100\n",
      "2/2 [==============================] - 0s 6ms/step - loss: 29.8559 - mse: 1615.0380\n",
      "Epoch 31/100\n",
      "2/2 [==============================] - 0s 6ms/step - loss: 54.1766 - mse: 5258.5884\n",
      "Epoch 32/100\n",
      "2/2 [==============================] - 0s 6ms/step - loss: 9.5655 - mse: 101.0353\n",
      "Epoch 33/100\n",
      "2/2 [==============================] - 0s 6ms/step - loss: 12.1587 - mse: 181.3570\n",
      "Epoch 34/100\n",
      "2/2 [==============================] - 0s 6ms/step - loss: 23.9300 - mse: 867.6812\n",
      "Epoch 35/100\n",
      "2/2 [==============================] - 0s 6ms/step - loss: 12.6110 - mse: 242.7061\n",
      "Epoch 36/100\n",
      "2/2 [==============================] - 0s 5ms/step - loss: 21.5187 - mse: 660.5298\n",
      "Epoch 37/100\n",
      "2/2 [==============================] - 0s 6ms/step - loss: 11.3778 - mse: 150.0649\n",
      "Epoch 38/100\n",
      "2/2 [==============================] - 0s 6ms/step - loss: 13.4726 - mse: 269.7895\n",
      "Epoch 39/100\n",
      "2/2 [==============================] - 0s 4ms/step - loss: 10.7892 - mse: 139.4864\n",
      "Epoch 40/100\n",
      "2/2 [==============================] - 0s 5ms/step - loss: 16.6239 - mse: 400.9106\n",
      "Epoch 41/100\n",
      "2/2 [==============================] - 0s 5ms/step - loss: 10.9795 - mse: 179.6420\n",
      "Epoch 42/100\n",
      "2/2 [==============================] - 0s 4ms/step - loss: 9.3054 - mse: 114.7663\n",
      "Epoch 43/100\n",
      "2/2 [==============================] - 0s 5ms/step - loss: 9.5889 - mse: 110.5183\n",
      "Epoch 44/100\n",
      "2/2 [==============================] - 0s 7ms/step - loss: 28.0657 - mse: 1263.6635\n",
      "Epoch 45/100\n",
      "2/2 [==============================] - 0s 6ms/step - loss: 11.2949 - mse: 147.3854\n",
      "Epoch 46/100\n",
      "2/2 [==============================] - 0s 4ms/step - loss: 14.1140 - mse: 291.1382\n",
      "Epoch 47/100\n",
      "2/2 [==============================] - 0s 5ms/step - loss: 13.4800 - mse: 256.0024\n",
      "Epoch 48/100\n",
      "2/2 [==============================] - 0s 5ms/step - loss: 17.3055 - mse: 406.3476\n",
      "Epoch 49/100\n",
      "2/2 [==============================] - 0s 7ms/step - loss: 9.5277 - mse: 98.8573\n",
      "Epoch 50/100\n",
      "2/2 [==============================] - 0s 6ms/step - loss: 13.7356 - mse: 255.5425\n",
      "Epoch 51/100\n",
      "2/2 [==============================] - 0s 6ms/step - loss: 11.5661 - mse: 153.4742\n",
      "Epoch 52/100\n",
      "2/2 [==============================] - 0s 6ms/step - loss: 30.3372 - mse: 1588.1615\n",
      "Epoch 53/100\n",
      "2/2 [==============================] - 0s 5ms/step - loss: 14.2602 - mse: 298.0455\n",
      "Epoch 54/100\n",
      "2/2 [==============================] - 0s 5ms/step - loss: 23.5807 - mse: 837.0116\n",
      "Epoch 55/100\n",
      "2/2 [==============================] - 0s 5ms/step - loss: 24.5005 - mse: 905.9411\n",
      "Epoch 56/100\n",
      "2/2 [==============================] - 0s 5ms/step - loss: 11.3074 - mse: 171.5113\n",
      "Epoch 57/100\n",
      "2/2 [==============================] - 0s 7ms/step - loss: 13.3179 - mse: 223.4037\n",
      "Epoch 58/100\n",
      "2/2 [==============================] - 0s 7ms/step - loss: 9.9235 - mse: 108.8857\n",
      "Epoch 59/100\n",
      "2/2 [==============================] - 0s 7ms/step - loss: 13.8688 - mse: 273.3326\n",
      "Epoch 60/100\n",
      "2/2 [==============================] - 0s 7ms/step - loss: 9.9681 - mse: 118.5483\n",
      "Epoch 61/100\n",
      "2/2 [==============================] - 0s 9ms/step - loss: 14.9296 - mse: 306.1770\n",
      "Epoch 62/100\n",
      "2/2 [==============================] - 0s 9ms/step - loss: 11.8969 - mse: 195.1205\n",
      "Epoch 63/100\n",
      "2/2 [==============================] - 0s 7ms/step - loss: 10.2696 - mse: 133.8695\n",
      "Epoch 64/100\n",
      "2/2 [==============================] - 0s 7ms/step - loss: 23.8319 - mse: 834.5026\n",
      "Epoch 65/100\n",
      "2/2 [==============================] - 0s 7ms/step - loss: 10.4464 - mse: 129.4828\n",
      "Epoch 66/100\n",
      "2/2 [==============================] - 0s 5ms/step - loss: 20.8880 - mse: 641.4409\n",
      "Epoch 67/100\n",
      "2/2 [==============================] - 0s 6ms/step - loss: 10.4235 - mse: 125.7913\n",
      "Epoch 68/100\n",
      "2/2 [==============================] - 0s 4ms/step - loss: 14.1472 - mse: 301.3218\n",
      "Epoch 69/100\n",
      "2/2 [==============================] - 0s 4ms/step - loss: 10.4944 - mse: 125.4656\n",
      "Epoch 70/100\n",
      "2/2 [==============================] - 0s 6ms/step - loss: 12.5648 - mse: 200.2769\n",
      "Epoch 71/100\n",
      "2/2 [==============================] - 0s 6ms/step - loss: 12.9972 - mse: 225.2677\n",
      "Epoch 72/100\n",
      "2/2 [==============================] - 0s 6ms/step - loss: 19.3354 - mse: 530.4744\n",
      "Epoch 73/100\n",
      "2/2 [==============================] - 0s 6ms/step - loss: 11.1179 - mse: 193.2795\n",
      "Epoch 74/100\n",
      "2/2 [==============================] - 0s 5ms/step - loss: 21.4287 - mse: 716.6339\n",
      "Epoch 75/100\n",
      "2/2 [==============================] - 0s 5ms/step - loss: 9.4502 - mse: 151.4806\n",
      "Epoch 76/100\n",
      "2/2 [==============================] - 0s 6ms/step - loss: 12.2736 - mse: 182.7282\n",
      "Epoch 77/100\n",
      "2/2 [==============================] - 0s 7ms/step - loss: 16.3156 - mse: 410.0313\n",
      "Epoch 78/100\n",
      "2/2 [==============================] - 0s 5ms/step - loss: 9.0024 - mse: 91.9208\n",
      "Epoch 79/100\n",
      "2/2 [==============================] - 0s 7ms/step - loss: 23.5697 - mse: 831.9244\n",
      "Epoch 80/100\n",
      "2/2 [==============================] - 0s 5ms/step - loss: 26.2664 - mse: 1061.2325\n",
      "Epoch 81/100\n",
      "2/2 [==============================] - 0s 6ms/step - loss: 11.4382 - mse: 160.9550\n",
      "Epoch 82/100\n",
      "2/2 [==============================] - 0s 5ms/step - loss: 12.4370 - mse: 226.4776\n",
      "Epoch 83/100\n",
      "2/2 [==============================] - 0s 5ms/step - loss: 17.1000 - mse: 380.4538\n",
      "Epoch 84/100\n",
      "2/2 [==============================] - 0s 4ms/step - loss: 7.2489 - mse: 75.9000\n",
      "Epoch 85/100\n",
      "2/2 [==============================] - 0s 4ms/step - loss: 37.1978 - mse: 2224.9468\n",
      "Epoch 86/100\n"
     ]
    },
    {
     "name": "stdout",
     "output_type": "stream",
     "text": [
      "2/2 [==============================] - 0s 5ms/step - loss: 21.2131 - mse: 646.6641\n",
      "Epoch 87/100\n",
      "2/2 [==============================] - 0s 5ms/step - loss: 11.0185 - mse: 147.9129\n",
      "Epoch 88/100\n",
      "2/2 [==============================] - 0s 5ms/step - loss: 25.0818 - mse: 895.2028\n",
      "Epoch 89/100\n",
      "2/2 [==============================] - 0s 5ms/step - loss: 9.3526 - mse: 136.6081\n",
      "Epoch 90/100\n",
      "2/2 [==============================] - 0s 6ms/step - loss: 17.3834 - mse: 433.6305\n",
      "Epoch 91/100\n",
      "2/2 [==============================] - 0s 4ms/step - loss: 10.7967 - mse: 160.3223\n",
      "Epoch 92/100\n",
      "2/2 [==============================] - 0s 5ms/step - loss: 19.0787 - mse: 501.6391\n",
      "Epoch 93/100\n",
      "2/2 [==============================] - 0s 5ms/step - loss: 8.3153 - mse: 102.3061\n",
      "Epoch 94/100\n",
      "2/2 [==============================] - 0s 4ms/step - loss: 11.5569 - mse: 178.7046\n",
      "Epoch 95/100\n",
      "2/2 [==============================] - 0s 6ms/step - loss: 26.1326 - mse: 1036.3469\n",
      "Epoch 96/100\n",
      "2/2 [==============================] - 0s 6ms/step - loss: 11.1863 - mse: 169.5853\n",
      "Epoch 97/100\n",
      "2/2 [==============================] - 0s 5ms/step - loss: 16.7993 - mse: 430.8365\n",
      "Epoch 98/100\n",
      "2/2 [==============================] - 0s 7ms/step - loss: 6.5830 - mse: 60.5859\n",
      "Epoch 99/100\n",
      "2/2 [==============================] - 0s 6ms/step - loss: 12.5947 - mse: 229.4146\n",
      "Epoch 100/100\n",
      "2/2 [==============================] - 0s 4ms/step - loss: 19.4027 - mse: 552.8858\n"
     ]
    },
    {
     "data": {
      "text/plain": [
       "<keras.callbacks.History at 0x258fdba0190>"
      ]
     },
     "execution_count": 66,
     "metadata": {},
     "output_type": "execute_result"
    }
   ],
   "source": [
    "# Set the random seed\n",
    "tf.random.set_seed(42)\n",
    "\n",
    "# 1. Create the model\n",
    "model_2 = tf.keras.Sequential([\n",
    "    tf.keras.layers.Dense(10, input_shape=[1], name=\"input_layer\"), # the number of unit (10) here is arbitrary, can be \n",
    "                                                                    #   set to anything\n",
    "    tf.keras.layers.Dense(1)\n",
    "])\n",
    "\n",
    "# 2. Compiling the model\n",
    "model_2.compile(loss=tf.keras.losses.mae,\n",
    "               optimizer= tf.keras.optimizers.SGD(),\n",
    "               metrics=[\"mse\"])\n",
    "\n",
    "# 3. Fit the model\n",
    "model_2.fit(X_train, y_train, epochs=100)"
   ]
  },
  {
   "cell_type": "code",
   "execution_count": 67,
   "id": "66520bba",
   "metadata": {},
   "outputs": [
    {
     "data": {
      "text/plain": [
       "<tf.Tensor: shape=(10,), dtype=int32, numpy=array([60, 64, 68, 72, 76, 80, 84, 88, 92, 96])>"
      ]
     },
     "execution_count": 67,
     "metadata": {},
     "output_type": "execute_result"
    }
   ],
   "source": [
    "X_test"
   ]
  },
  {
   "cell_type": "code",
   "execution_count": 68,
   "id": "dd823c5a",
   "metadata": {},
   "outputs": [
    {
     "name": "stdout",
     "output_type": "stream",
     "text": [
      "1/1 [==============================] - 0s 145ms/step\n"
     ]
    },
    {
     "data": {
      "image/png": "[encoded data removed]",
      "text/plain": [
       "<Figure size 720x504 with 1 Axes>"
      ]
     },
     "metadata": {
      "needs_background": "light"
     },
     "output_type": "display_data"
    }
   ],
   "source": [
    "# Make and plot predictions of model_2\n",
    "y_preds_2 = model_2.predict(X_test)\n",
    "plot_predictions(predictions=y_preds_2) #train_data=X_train,train_labels=y_train,test_data=X_test, test_labels=y_test,"
   ]
  },
  {
   "cell_type": "markdown",
   "id": "da9172b2",
   "metadata": {},
   "source": [
    "Our red dots (predictions) are a lot closer to the green dots (test label). This model is much better than the previous one."
   ]
  },
  {
   "cell_type": "code",
   "execution_count": 69,
   "id": "e546497e",
   "metadata": {},
   "outputs": [
    {
     "data": {
      "text/plain": [
       "(<tf.Tensor: shape=(), dtype=float32, numpy=13.304468>,\n",
       " <tf.Tensor: shape=(), dtype=float32, numpy=187.06578>)"
      ]
     },
     "execution_count": 69,
     "metadata": {},
     "output_type": "execute_result"
    }
   ],
   "source": [
    "# Calculate model_2 evaluation metrics\n",
    "mae_2 = mae(y_test, tf.squeeze(y_preds_2))\n",
    "mse_2 = mse(y_test, tf.squeeze(y_preds_2))\n",
    "\n",
    "mae_2, mse_2"
   ]
  },
  {
   "cell_type": "code",
   "execution_count": 70,
   "id": "c8bdb12d",
   "metadata": {},
   "outputs": [
    {
     "data": {
      "text/plain": [
       "(<tf.Tensor: shape=(), dtype=float32, numpy=14.91065>,\n",
       " <tf.Tensor: shape=(), dtype=float32, numpy=223.16182>)"
      ]
     },
     "execution_count": 70,
     "metadata": {},
     "output_type": "execute_result"
    }
   ],
   "source": [
    "# Let's compare the above metrics with mae_1 & mse_1\n",
    "mae_1, mse_1"
   ]
  },
  {
   "cell_type": "markdown",
   "id": "87641eb8",
   "metadata": {},
   "source": [
    "We can confirm that model_2 is doing much better than model_1"
   ]
  },
  {
   "cell_type": "code",
   "execution_count": null,
   "id": "598ee01d",
   "metadata": {},
   "outputs": [],
   "source": []
  },
  {
   "cell_type": "markdown",
   "id": "3ea78437",
   "metadata": {},
   "source": [
    "**Build `model_3`** - 2 layers, trained for 500 epochs   \n",
    "\n",
    "The only thing we will change here, compared to model_2, is the number of epochs."
   ]
  },
  {
   "cell_type": "code",
   "execution_count": 71,
   "id": "53aed91f",
   "metadata": {},
   "outputs": [
    {
     "name": "stdout",
     "output_type": "stream",
     "text": [
      "Epoch 1/500\n",
      "2/2 [==============================] - 1s 5ms/step - loss: 48.5907 - mae: 48.5907\n",
      "Epoch 2/500\n",
      "2/2 [==============================] - 0s 6ms/step - loss: 35.1241 - mae: 35.1241\n",
      "Epoch 3/500\n",
      "2/2 [==============================] - 0s 4ms/step - loss: 39.2905 - mae: 39.2905\n",
      "Epoch 4/500\n",
      "2/2 [==============================] - 0s 4ms/step - loss: 26.8313 - mae: 26.8313\n",
      "Epoch 5/500\n",
      "2/2 [==============================] - 0s 4ms/step - loss: 14.6905 - mae: 14.6905\n",
      "Epoch 6/500\n",
      "2/2 [==============================] - 0s 4ms/step - loss: 11.7294 - mae: 11.7294\n",
      "Epoch 7/500\n",
      "2/2 [==============================] - 0s 5ms/step - loss: 12.8200 - mae: 12.8200\n",
      "Epoch 8/500\n",
      "2/2 [==============================] - 0s 5ms/step - loss: 11.1128 - mae: 11.1128\n",
      "Epoch 9/500\n",
      "2/2 [==============================] - 0s 6ms/step - loss: 40.4820 - mae: 40.4820\n",
      "Epoch 10/500\n",
      "2/2 [==============================] - 0s 7ms/step - loss: 27.8754 - mae: 27.8754\n",
      "Epoch 11/500\n",
      "2/2 [==============================] - 0s 7ms/step - loss: 10.2528 - mae: 10.2528\n",
      "Epoch 12/500\n",
      "2/2 [==============================] - 0s 5ms/step - loss: 25.3312 - mae: 25.3312\n",
      "Epoch 13/500\n",
      "2/2 [==============================] - 0s 5ms/step - loss: 17.0054 - mae: 17.0054\n",
      "Epoch 14/500\n",
      "2/2 [==============================] - 0s 6ms/step - loss: 25.9531 - mae: 25.9531\n",
      "Epoch 15/500\n",
      "2/2 [==============================] - 0s 6ms/step - loss: 18.0208 - mae: 18.0208\n",
      "Epoch 16/500\n",
      "2/2 [==============================] - 0s 5ms/step - loss: 7.3527 - mae: 7.3527\n",
      "Epoch 17/500\n",
      "2/2 [==============================] - 0s 6ms/step - loss: 10.8568 - mae: 10.8568\n",
      "Epoch 18/500\n",
      "2/2 [==============================] - 0s 6ms/step - loss: 19.5194 - mae: 19.5194\n",
      "Epoch 19/500\n",
      "2/2 [==============================] - 0s 5ms/step - loss: 10.3421 - mae: 10.3421\n",
      "Epoch 20/500\n",
      "2/2 [==============================] - 0s 4ms/step - loss: 17.6886 - mae: 17.6886\n",
      "Epoch 21/500\n",
      "2/2 [==============================] - 0s 5ms/step - loss: 15.8869 - mae: 15.8869\n",
      "Epoch 22/500\n",
      "2/2 [==============================] - 0s 4ms/step - loss: 14.1821 - mae: 14.1821\n",
      "Epoch 23/500\n",
      "2/2 [==============================] - 0s 6ms/step - loss: 8.7821 - mae: 8.7821\n",
      "Epoch 24/500\n",
      "2/2 [==============================] - 0s 6ms/step - loss: 11.0684 - mae: 11.0684\n",
      "Epoch 25/500\n",
      "2/2 [==============================] - 0s 6ms/step - loss: 12.6999 - mae: 12.6999\n",
      "Epoch 26/500\n",
      "2/2 [==============================] - 0s 5ms/step - loss: 26.2372 - mae: 26.2372\n",
      "Epoch 27/500\n",
      "2/2 [==============================] - 0s 6ms/step - loss: 11.7543 - mae: 11.7543\n",
      "Epoch 28/500\n",
      "2/2 [==============================] - 0s 5ms/step - loss: 22.9252 - mae: 22.9252\n",
      "Epoch 29/500\n",
      "2/2 [==============================] - 0s 6ms/step - loss: 9.2459 - mae: 9.2459\n",
      "Epoch 30/500\n",
      "2/2 [==============================] - 0s 6ms/step - loss: 29.3127 - mae: 29.3127\n",
      "Epoch 31/500\n",
      "2/2 [==============================] - 0s 5ms/step - loss: 53.1157 - mae: 53.1157\n",
      "Epoch 32/500\n",
      "2/2 [==============================] - 0s 6ms/step - loss: 12.3736 - mae: 12.3736\n",
      "Epoch 33/500\n",
      "2/2 [==============================] - 0s 4ms/step - loss: 12.1864 - mae: 12.1864\n",
      "Epoch 34/500\n",
      "2/2 [==============================] - 0s 4ms/step - loss: 23.9544 - mae: 23.9544\n",
      "Epoch 35/500\n",
      "2/2 [==============================] - 0s 4ms/step - loss: 12.6236 - mae: 12.6236\n",
      "Epoch 36/500\n",
      "2/2 [==============================] - 0s 4ms/step - loss: 21.5211 - mae: 21.5211\n",
      "Epoch 37/500\n",
      "2/2 [==============================] - 0s 4ms/step - loss: 11.3969 - mae: 11.3969\n",
      "Epoch 38/500\n",
      "2/2 [==============================] - 0s 6ms/step - loss: 13.4822 - mae: 13.4822\n",
      "Epoch 39/500\n",
      "2/2 [==============================] - 0s 6ms/step - loss: 10.8052 - mae: 10.8052\n",
      "Epoch 40/500\n",
      "2/2 [==============================] - 0s 6ms/step - loss: 16.6149 - mae: 16.6149\n",
      "Epoch 41/500\n",
      "2/2 [==============================] - 0s 5ms/step - loss: 10.9889 - mae: 10.9889\n",
      "Epoch 42/500\n",
      "2/2 [==============================] - 0s 6ms/step - loss: 9.3133 - mae: 9.3133\n",
      "Epoch 43/500\n",
      "2/2 [==============================] - 0s 4ms/step - loss: 9.6028 - mae: 9.6028\n",
      "Epoch 44/500\n",
      "2/2 [==============================] - 0s 5ms/step - loss: 28.0004 - mae: 28.0004\n",
      "Epoch 45/500\n",
      "2/2 [==============================] - 0s 4ms/step - loss: 11.2961 - mae: 11.2961\n",
      "Epoch 46/500\n",
      "2/2 [==============================] - 0s 7ms/step - loss: 14.0772 - mae: 14.0772\n",
      "Epoch 47/500\n",
      "2/2 [==============================] - 0s 7ms/step - loss: 13.5052 - mae: 13.5052\n",
      "Epoch 48/500\n",
      "2/2 [==============================] - 0s 7ms/step - loss: 17.3432 - mae: 17.3432\n",
      "Epoch 49/500\n",
      "2/2 [==============================] - 0s 5ms/step - loss: 9.5240 - mae: 9.5240\n",
      "Epoch 50/500\n",
      "2/2 [==============================] - 0s 6ms/step - loss: 13.7130 - mae: 13.7130\n",
      "Epoch 51/500\n",
      "2/2 [==============================] - 0s 5ms/step - loss: 11.5682 - mae: 11.5682\n",
      "Epoch 52/500\n",
      "2/2 [==============================] - 0s 3ms/step - loss: 30.2080 - mae: 30.2080\n",
      "Epoch 53/500\n",
      "2/2 [==============================] - 0s 3ms/step - loss: 13.7302 - mae: 13.7302\n",
      "Epoch 54/500\n",
      "2/2 [==============================] - 0s 3ms/step - loss: 26.4314 - mae: 26.4314\n",
      "Epoch 55/500\n",
      "2/2 [==============================] - 0s 6ms/step - loss: 26.0212 - mae: 26.0212\n",
      "Epoch 56/500\n",
      "2/2 [==============================] - 0s 5ms/step - loss: 11.2449 - mae: 11.2449\n",
      "Epoch 57/500\n",
      "2/2 [==============================] - 0s 6ms/step - loss: 13.2219 - mae: 13.2219\n",
      "Epoch 58/500\n",
      "2/2 [==============================] - 0s 4ms/step - loss: 9.8750 - mae: 9.8750\n",
      "Epoch 59/500\n",
      "2/2 [==============================] - 0s 4ms/step - loss: 13.4095 - mae: 13.4095\n",
      "Epoch 60/500\n",
      "2/2 [==============================] - 0s 4ms/step - loss: 10.9392 - mae: 10.9392\n",
      "Epoch 61/500\n",
      "2/2 [==============================] - 0s 6ms/step - loss: 13.5585 - mae: 13.5585\n",
      "Epoch 62/500\n",
      "2/2 [==============================] - 0s 7ms/step - loss: 17.6383 - mae: 17.6383\n",
      "Epoch 63/500\n",
      "2/2 [==============================] - 0s 6ms/step - loss: 9.2047 - mae: 9.2047\n",
      "Epoch 64/500\n",
      "2/2 [==============================] - 0s 5ms/step - loss: 18.5037 - mae: 18.5037\n",
      "Epoch 65/500\n",
      "2/2 [==============================] - 0s 6ms/step - loss: 10.1596 - mae: 10.1596\n",
      "Epoch 66/500\n",
      "2/2 [==============================] - 0s 5ms/step - loss: 24.3864 - mae: 24.3864\n",
      "Epoch 67/500\n",
      "2/2 [==============================] - 0s 5ms/step - loss: 10.9449 - mae: 10.9449\n",
      "Epoch 68/500\n",
      "2/2 [==============================] - 0s 5ms/step - loss: 10.8151 - mae: 10.8151\n",
      "Epoch 69/500\n",
      "2/2 [==============================] - 0s 6ms/step - loss: 23.3691 - mae: 23.3691\n",
      "Epoch 70/500\n",
      "2/2 [==============================] - 0s 6ms/step - loss: 8.8050 - mae: 8.8050\n",
      "Epoch 71/500\n",
      "2/2 [==============================] - 0s 4ms/step - loss: 15.9530 - mae: 15.9530\n",
      "Epoch 72/500\n",
      "2/2 [==============================] - 0s 5ms/step - loss: 8.1384 - mae: 8.1384\n",
      "Epoch 73/500\n",
      "2/2 [==============================] - 0s 5ms/step - loss: 9.4662 - mae: 9.4662\n",
      "Epoch 74/500\n",
      "2/2 [==============================] - 0s 5ms/step - loss: 28.1314 - mae: 28.1314\n",
      "Epoch 75/500\n",
      "2/2 [==============================] - 0s 4ms/step - loss: 10.2397 - mae: 10.2397\n",
      "Epoch 76/500\n",
      "2/2 [==============================] - 0s 3ms/step - loss: 13.1940 - mae: 13.1940\n",
      "Epoch 77/500\n",
      "2/2 [==============================] - 0s 5ms/step - loss: 18.4549 - mae: 18.4549\n",
      "Epoch 78/500\n",
      "2/2 [==============================] - 0s 4ms/step - loss: 9.0406 - mae: 9.0406\n",
      "Epoch 79/500\n",
      "2/2 [==============================] - 0s 6ms/step - loss: 23.4995 - mae: 23.4995\n",
      "Epoch 80/500\n",
      "2/2 [==============================] - 0s 7ms/step - loss: 26.1839 - mae: 26.1839\n",
      "Epoch 81/500\n",
      "2/2 [==============================] - 0s 6ms/step - loss: 11.4388 - mae: 11.4388\n",
      "Epoch 82/500\n",
      "2/2 [==============================] - 0s 5ms/step - loss: 12.4819 - mae: 12.4819\n",
      "Epoch 83/500\n",
      "2/2 [==============================] - 0s 6ms/step - loss: 17.1676 - mae: 17.1676\n",
      "Epoch 84/500\n",
      "2/2 [==============================] - 0s 5ms/step - loss: 6.6044 - mae: 6.6044\n",
      "Epoch 85/500\n",
      "2/2 [==============================] - 0s 5ms/step - loss: 20.3387 - mae: 20.3387\n",
      "Epoch 86/500\n",
      "2/2 [==============================] - 0s 5ms/step - loss: 10.1923 - mae: 10.1923\n",
      "Epoch 87/500\n"
     ]
    },
    {
     "name": "stdout",
     "output_type": "stream",
     "text": [
      "2/2 [==============================] - 0s 7ms/step - loss: 24.3766 - mae: 24.3766\n",
      "Epoch 88/500\n",
      "2/2 [==============================] - 0s 6ms/step - loss: 19.0400 - mae: 19.0400\n",
      "Epoch 89/500\n",
      "2/2 [==============================] - 0s 7ms/step - loss: 7.1798 - mae: 7.1798\n",
      "Epoch 90/500\n",
      "2/2 [==============================] - 0s 7ms/step - loss: 18.2569 - mae: 18.2569\n",
      "Epoch 91/500\n",
      "2/2 [==============================] - 0s 7ms/step - loss: 13.3079 - mae: 13.3079\n",
      "Epoch 92/500\n",
      "2/2 [==============================] - 0s 8ms/step - loss: 14.8596 - mae: 14.8596\n",
      "Epoch 93/500\n",
      "2/2 [==============================] - 0s 6ms/step - loss: 11.6570 - mae: 11.6570\n",
      "Epoch 94/500\n",
      "2/2 [==============================] - 0s 6ms/step - loss: 16.2115 - mae: 16.2115\n",
      "Epoch 95/500\n",
      "2/2 [==============================] - 0s 5ms/step - loss: 15.5551 - mae: 15.5551\n",
      "Epoch 96/500\n",
      "2/2 [==============================] - 0s 5ms/step - loss: 15.0896 - mae: 15.0896\n",
      "Epoch 97/500\n",
      "2/2 [==============================] - 0s 4ms/step - loss: 10.9219 - mae: 10.9219\n",
      "Epoch 98/500\n",
      "2/2 [==============================] - 0s 5ms/step - loss: 14.3820 - mae: 14.3820\n",
      "Epoch 99/500\n",
      "2/2 [==============================] - 0s 8ms/step - loss: 13.3979 - mae: 13.3979\n",
      "Epoch 100/500\n",
      "2/2 [==============================] - 0s 8ms/step - loss: 20.0242 - mae: 20.0242\n",
      "Epoch 101/500\n",
      "2/2 [==============================] - 0s 8ms/step - loss: 22.4658 - mae: 22.4658\n",
      "Epoch 102/500\n",
      "2/2 [==============================] - 0s 8ms/step - loss: 11.2719 - mae: 11.2719\n",
      "Epoch 103/500\n",
      "2/2 [==============================] - 0s 6ms/step - loss: 9.3678 - mae: 9.3678\n",
      "Epoch 104/500\n",
      "2/2 [==============================] - 0s 6ms/step - loss: 25.0744 - mae: 25.0744\n",
      "Epoch 105/500\n",
      "2/2 [==============================] - 0s 7ms/step - loss: 12.0551 - mae: 12.0551\n",
      "Epoch 106/500\n",
      "2/2 [==============================] - 0s 6ms/step - loss: 10.1327 - mae: 10.1327\n",
      "Epoch 107/500\n",
      "2/2 [==============================] - 0s 6ms/step - loss: 22.6144 - mae: 22.6144\n",
      "Epoch 108/500\n",
      "2/2 [==============================] - 0s 7ms/step - loss: 8.1716 - mae: 8.1716\n",
      "Epoch 109/500\n",
      "2/2 [==============================] - 0s 6ms/step - loss: 13.4073 - mae: 13.4073\n",
      "Epoch 110/500\n",
      "2/2 [==============================] - 0s 7ms/step - loss: 7.9938 - mae: 7.9938\n",
      "Epoch 111/500\n",
      "2/2 [==============================] - 0s 5ms/step - loss: 15.7416 - mae: 15.7416\n",
      "Epoch 112/500\n",
      "2/2 [==============================] - 0s 5ms/step - loss: 8.7848 - mae: 8.7848\n",
      "Epoch 113/500\n",
      "2/2 [==============================] - 0s 4ms/step - loss: 22.7197 - mae: 22.7197\n",
      "Epoch 114/500\n",
      "2/2 [==============================] - 0s 5ms/step - loss: 19.0739 - mae: 19.0739\n",
      "Epoch 115/500\n",
      "2/2 [==============================] - 0s 4ms/step - loss: 11.1317 - mae: 11.1317\n",
      "Epoch 116/500\n",
      "2/2 [==============================] - 0s 5ms/step - loss: 23.1688 - mae: 23.1688\n",
      "Epoch 117/500\n",
      "2/2 [==============================] - 0s 5ms/step - loss: 9.6118 - mae: 9.6118\n",
      "Epoch 118/500\n",
      "2/2 [==============================] - 0s 4ms/step - loss: 10.6716 - mae: 10.6716\n",
      "Epoch 119/500\n",
      "2/2 [==============================] - 0s 4ms/step - loss: 8.0741 - mae: 8.0741\n",
      "Epoch 120/500\n",
      "2/2 [==============================] - 0s 3ms/step - loss: 29.4285 - mae: 29.4285\n",
      "Epoch 121/500\n",
      "2/2 [==============================] - 0s 5ms/step - loss: 8.1080 - mae: 8.1080\n",
      "Epoch 122/500\n",
      "2/2 [==============================] - 0s 6ms/step - loss: 28.0780 - mae: 28.0780\n",
      "Epoch 123/500\n",
      "2/2 [==============================] - 0s 6ms/step - loss: 32.6134 - mae: 32.6134\n",
      "Epoch 124/500\n",
      "2/2 [==============================] - 0s 5ms/step - loss: 19.4248 - mae: 19.4248\n",
      "Epoch 125/500\n",
      "2/2 [==============================] - 0s 5ms/step - loss: 6.4353 - mae: 6.4353\n",
      "Epoch 126/500\n",
      "2/2 [==============================] - 0s 5ms/step - loss: 26.6765 - mae: 26.6765\n",
      "Epoch 127/500\n",
      "2/2 [==============================] - 0s 6ms/step - loss: 8.5874 - mae: 8.5874\n",
      "Epoch 128/500\n",
      "2/2 [==============================] - 0s 5ms/step - loss: 13.7753 - mae: 13.7753\n",
      "Epoch 129/500\n",
      "2/2 [==============================] - 0s 6ms/step - loss: 10.9016 - mae: 10.9016\n",
      "Epoch 130/500\n",
      "2/2 [==============================] - 0s 5ms/step - loss: 15.4235 - mae: 15.4235\n",
      "Epoch 131/500\n",
      "2/2 [==============================] - 0s 5ms/step - loss: 8.8725 - mae: 8.8725\n",
      "Epoch 132/500\n",
      "2/2 [==============================] - 0s 6ms/step - loss: 14.9308 - mae: 14.9308\n",
      "Epoch 133/500\n",
      "2/2 [==============================] - 0s 7ms/step - loss: 7.9427 - mae: 7.9427\n",
      "Epoch 134/500\n",
      "2/2 [==============================] - 0s 7ms/step - loss: 22.4025 - mae: 22.4025\n",
      "Epoch 135/500\n",
      "2/2 [==============================] - 0s 5ms/step - loss: 20.0804 - mae: 20.0804\n",
      "Epoch 136/500\n",
      "2/2 [==============================] - 0s 3ms/step - loss: 13.9113 - mae: 13.9113\n",
      "Epoch 137/500\n",
      "2/2 [==============================] - 0s 4ms/step - loss: 25.5438 - mae: 25.5438\n",
      "Epoch 138/500\n",
      "2/2 [==============================] - 0s 4ms/step - loss: 10.0833 - mae: 10.0833\n",
      "Epoch 139/500\n",
      "2/2 [==============================] - 0s 3ms/step - loss: 9.5183 - mae: 9.5183\n",
      "Epoch 140/500\n",
      "2/2 [==============================] - 0s 6ms/step - loss: 18.7494 - mae: 18.7494\n",
      "Epoch 141/500\n",
      "2/2 [==============================] - 0s 3ms/step - loss: 8.3175 - mae: 8.3175\n",
      "Epoch 142/500\n",
      "2/2 [==============================] - 0s 6ms/step - loss: 33.5440 - mae: 33.5440\n",
      "Epoch 143/500\n",
      "2/2 [==============================] - 0s 5ms/step - loss: 23.6056 - mae: 23.6056\n",
      "Epoch 144/500\n",
      "2/2 [==============================] - 0s 4ms/step - loss: 9.5685 - mae: 9.5685\n",
      "Epoch 145/500\n",
      "2/2 [==============================] - 0s 5ms/step - loss: 26.6563 - mae: 26.6563\n",
      "Epoch 146/500\n",
      "2/2 [==============================] - 0s 5ms/step - loss: 8.6866 - mae: 8.6866\n",
      "Epoch 147/500\n",
      "2/2 [==============================] - 0s 5ms/step - loss: 15.6787 - mae: 15.6787\n",
      "Epoch 148/500\n",
      "2/2 [==============================] - 0s 4ms/step - loss: 18.3813 - mae: 18.3813\n",
      "Epoch 149/500\n",
      "2/2 [==============================] - 0s 8ms/step - loss: 8.1688 - mae: 8.1688\n",
      "Epoch 150/500\n",
      "2/2 [==============================] - 0s 4ms/step - loss: 7.5027 - mae: 7.5027\n",
      "Epoch 151/500\n",
      "2/2 [==============================] - 0s 6ms/step - loss: 18.1830 - mae: 18.1830\n",
      "Epoch 152/500\n",
      "2/2 [==============================] - 0s 6ms/step - loss: 10.2756 - mae: 10.2756\n",
      "Epoch 153/500\n",
      "2/2 [==============================] - 0s 5ms/step - loss: 29.3813 - mae: 29.3813\n",
      "Epoch 154/500\n",
      "2/2 [==============================] - 0s 6ms/step - loss: 10.6224 - mae: 10.6224\n",
      "Epoch 155/500\n",
      "2/2 [==============================] - 0s 3ms/step - loss: 15.5138 - mae: 15.5138\n",
      "Epoch 156/500\n",
      "2/2 [==============================] - 0s 5ms/step - loss: 17.1397 - mae: 17.1397\n",
      "Epoch 157/500\n",
      "2/2 [==============================] - 0s 3ms/step - loss: 32.5099 - mae: 32.5099\n",
      "Epoch 158/500\n",
      "2/2 [==============================] - 0s 3ms/step - loss: 10.6421 - mae: 10.6421\n",
      "Epoch 159/500\n",
      "2/2 [==============================] - 0s 7ms/step - loss: 8.8894 - mae: 8.8894\n",
      "Epoch 160/500\n",
      "2/2 [==============================] - 0s 8ms/step - loss: 21.8970 - mae: 21.8970\n",
      "Epoch 161/500\n",
      "2/2 [==============================] - 0s 7ms/step - loss: 11.1086 - mae: 11.1086\n",
      "Epoch 162/500\n",
      "2/2 [==============================] - 0s 8ms/step - loss: 21.4260 - mae: 21.4260\n",
      "Epoch 163/500\n",
      "2/2 [==============================] - 0s 10ms/step - loss: 18.9038 - mae: 18.9038\n",
      "Epoch 164/500\n",
      "2/2 [==============================] - 0s 7ms/step - loss: 12.7441 - mae: 12.7441\n",
      "Epoch 165/500\n",
      "2/2 [==============================] - 0s 7ms/step - loss: 12.7198 - mae: 12.7198\n",
      "Epoch 166/500\n",
      "2/2 [==============================] - 0s 6ms/step - loss: 18.8834 - mae: 18.8834\n",
      "Epoch 167/500\n",
      "2/2 [==============================] - 0s 6ms/step - loss: 26.8706 - mae: 26.8706\n",
      "Epoch 168/500\n",
      "2/2 [==============================] - 0s 5ms/step - loss: 10.0003 - mae: 10.0003\n",
      "Epoch 169/500\n",
      "2/2 [==============================] - 0s 6ms/step - loss: 23.1215 - mae: 23.1215\n",
      "Epoch 170/500\n",
      "2/2 [==============================] - 0s 6ms/step - loss: 9.5936 - mae: 9.5936\n",
      "Epoch 171/500\n",
      "2/2 [==============================] - 0s 5ms/step - loss: 15.8595 - mae: 15.8595\n",
      "Epoch 172/500\n",
      "2/2 [==============================] - 0s 5ms/step - loss: 13.8906 - mae: 13.8906\n",
      "Epoch 173/500\n"
     ]
    },
    {
     "name": "stdout",
     "output_type": "stream",
     "text": [
      "2/2 [==============================] - 0s 5ms/step - loss: 22.5838 - mae: 22.5838\n",
      "Epoch 174/500\n",
      "2/2 [==============================] - 0s 5ms/step - loss: 11.3522 - mae: 11.3522\n",
      "Epoch 175/500\n",
      "2/2 [==============================] - 0s 5ms/step - loss: 20.0853 - mae: 20.0853\n",
      "Epoch 176/500\n",
      "2/2 [==============================] - 0s 4ms/step - loss: 7.4114 - mae: 7.4114\n",
      "Epoch 177/500\n",
      "2/2 [==============================] - 0s 6ms/step - loss: 8.5997 - mae: 8.5997\n",
      "Epoch 178/500\n",
      "2/2 [==============================] - 0s 7ms/step - loss: 15.4913 - mae: 15.4913\n",
      "Epoch 179/500\n",
      "2/2 [==============================] - 0s 6ms/step - loss: 9.2945 - mae: 9.2945\n",
      "Epoch 180/500\n",
      "2/2 [==============================] - 0s 7ms/step - loss: 8.1349 - mae: 8.1349\n",
      "Epoch 181/500\n",
      "2/2 [==============================] - 0s 7ms/step - loss: 18.7321 - mae: 18.7321\n",
      "Epoch 182/500\n",
      "2/2 [==============================] - 0s 6ms/step - loss: 10.7861 - mae: 10.7861\n",
      "Epoch 183/500\n",
      "2/2 [==============================] - 0s 6ms/step - loss: 10.9127 - mae: 10.9127\n",
      "Epoch 184/500\n",
      "2/2 [==============================] - 0s 6ms/step - loss: 33.7434 - mae: 33.7434\n",
      "Epoch 185/500\n",
      "2/2 [==============================] - 0s 5ms/step - loss: 7.6315 - mae: 7.6315\n",
      "Epoch 186/500\n",
      "2/2 [==============================] - 0s 6ms/step - loss: 16.7980 - mae: 16.7980\n",
      "Epoch 187/500\n",
      "2/2 [==============================] - 0s 4ms/step - loss: 10.1838 - mae: 10.1838\n",
      "Epoch 188/500\n",
      "2/2 [==============================] - 0s 5ms/step - loss: 23.0230 - mae: 23.0230\n",
      "Epoch 189/500\n",
      "2/2 [==============================] - 0s 6ms/step - loss: 9.8913 - mae: 9.8913\n",
      "Epoch 190/500\n",
      "2/2 [==============================] - 0s 5ms/step - loss: 15.3368 - mae: 15.3368\n",
      "Epoch 191/500\n",
      "2/2 [==============================] - 0s 5ms/step - loss: 9.9412 - mae: 9.9412\n",
      "Epoch 192/500\n",
      "2/2 [==============================] - 0s 4ms/step - loss: 14.9848 - mae: 14.9848\n",
      "Epoch 193/500\n",
      "2/2 [==============================] - 0s 5ms/step - loss: 29.6565 - mae: 29.6565\n",
      "Epoch 194/500\n",
      "2/2 [==============================] - 0s 3ms/step - loss: 8.3572 - mae: 8.3572\n",
      "Epoch 195/500\n",
      "2/2 [==============================] - 0s 4ms/step - loss: 12.8933 - mae: 12.8933\n",
      "Epoch 196/500\n",
      "2/2 [==============================] - 0s 4ms/step - loss: 23.9186 - mae: 23.9186\n",
      "Epoch 197/500\n",
      "2/2 [==============================] - 0s 5ms/step - loss: 16.8252 - mae: 16.8252\n",
      "Epoch 198/500\n",
      "2/2 [==============================] - 0s 6ms/step - loss: 11.4938 - mae: 11.4938\n",
      "Epoch 199/500\n",
      "2/2 [==============================] - 0s 7ms/step - loss: 19.6346 - mae: 19.6346\n",
      "Epoch 200/500\n",
      "2/2 [==============================] - 0s 5ms/step - loss: 15.8047 - mae: 15.8047\n",
      "Epoch 201/500\n",
      "2/2 [==============================] - 0s 6ms/step - loss: 10.5732 - mae: 10.5732\n",
      "Epoch 202/500\n",
      "2/2 [==============================] - 0s 7ms/step - loss: 22.4062 - mae: 22.4062\n",
      "Epoch 203/500\n",
      "2/2 [==============================] - 0s 6ms/step - loss: 21.7498 - mae: 21.7498\n",
      "Epoch 204/500\n",
      "2/2 [==============================] - 0s 8ms/step - loss: 17.3590 - mae: 17.3590\n",
      "Epoch 205/500\n",
      "2/2 [==============================] - 0s 7ms/step - loss: 9.5133 - mae: 9.5133\n",
      "Epoch 206/500\n",
      "2/2 [==============================] - 0s 5ms/step - loss: 11.1523 - mae: 11.1523\n",
      "Epoch 207/500\n",
      "2/2 [==============================] - 0s 6ms/step - loss: 17.6961 - mae: 17.6961\n",
      "Epoch 208/500\n",
      "2/2 [==============================] - 0s 5ms/step - loss: 14.3957 - mae: 14.3957\n",
      "Epoch 209/500\n",
      "2/2 [==============================] - 0s 5ms/step - loss: 16.7250 - mae: 16.7250\n",
      "Epoch 210/500\n",
      "2/2 [==============================] - 0s 5ms/step - loss: 18.2432 - mae: 18.2432\n",
      "Epoch 211/500\n",
      "2/2 [==============================] - 0s 4ms/step - loss: 9.9623 - mae: 9.9623\n",
      "Epoch 212/500\n",
      "2/2 [==============================] - 0s 3ms/step - loss: 18.7302 - mae: 18.7302\n",
      "Epoch 213/500\n",
      "2/2 [==============================] - 0s 4ms/step - loss: 14.9419 - mae: 14.9419\n",
      "Epoch 214/500\n",
      "2/2 [==============================] - 0s 4ms/step - loss: 14.5273 - mae: 14.5273\n",
      "Epoch 215/500\n",
      "2/2 [==============================] - 0s 4ms/step - loss: 23.1700 - mae: 23.1700\n",
      "Epoch 216/500\n",
      "2/2 [==============================] - 0s 4ms/step - loss: 13.5968 - mae: 13.5968\n",
      "Epoch 217/500\n",
      "2/2 [==============================] - 0s 7ms/step - loss: 10.0598 - mae: 10.0598\n",
      "Epoch 218/500\n",
      "2/2 [==============================] - 0s 5ms/step - loss: 12.4128 - mae: 12.4128\n",
      "Epoch 219/500\n",
      "2/2 [==============================] - 0s 6ms/step - loss: 5.8628 - mae: 5.8628\n",
      "Epoch 220/500\n",
      "2/2 [==============================] - 0s 6ms/step - loss: 10.2028 - mae: 10.2028\n",
      "Epoch 221/500\n",
      "2/2 [==============================] - 0s 5ms/step - loss: 28.8971 - mae: 28.8971\n",
      "Epoch 222/500\n",
      "2/2 [==============================] - 0s 5ms/step - loss: 28.0924 - mae: 28.0924\n",
      "Epoch 223/500\n",
      "2/2 [==============================] - 0s 6ms/step - loss: 10.0722 - mae: 10.0722\n",
      "Epoch 224/500\n",
      "2/2 [==============================] - 0s 4ms/step - loss: 14.6197 - mae: 14.6197\n",
      "Epoch 225/500\n",
      "2/2 [==============================] - 0s 6ms/step - loss: 16.6337 - mae: 16.6337\n",
      "Epoch 226/500\n",
      "2/2 [==============================] - 0s 7ms/step - loss: 15.8553 - mae: 15.8553\n",
      "Epoch 227/500\n",
      "2/2 [==============================] - 0s 4ms/step - loss: 16.0731 - mae: 16.0731\n",
      "Epoch 228/500\n",
      "2/2 [==============================] - 0s 5ms/step - loss: 13.8536 - mae: 13.8536\n",
      "Epoch 229/500\n",
      "2/2 [==============================] - 0s 6ms/step - loss: 17.9692 - mae: 17.9692\n",
      "Epoch 230/500\n",
      "2/2 [==============================] - 0s 5ms/step - loss: 15.5640 - mae: 15.5640\n",
      "Epoch 231/500\n",
      "2/2 [==============================] - 0s 5ms/step - loss: 21.0781 - mae: 21.0781\n",
      "Epoch 232/500\n",
      "2/2 [==============================] - 0s 5ms/step - loss: 25.5570 - mae: 25.5570\n",
      "Epoch 233/500\n",
      "2/2 [==============================] - 0s 5ms/step - loss: 16.5454 - mae: 16.5454\n",
      "Epoch 234/500\n",
      "2/2 [==============================] - 0s 5ms/step - loss: 7.3630 - mae: 7.3630\n",
      "Epoch 235/500\n",
      "2/2 [==============================] - 0s 6ms/step - loss: 17.1893 - mae: 17.1893\n",
      "Epoch 236/500\n",
      "2/2 [==============================] - 0s 4ms/step - loss: 7.2297 - mae: 7.2297\n",
      "Epoch 237/500\n",
      "2/2 [==============================] - 0s 5ms/step - loss: 9.3364 - mae: 9.3364\n",
      "Epoch 238/500\n",
      "2/2 [==============================] - 0s 5ms/step - loss: 8.1831 - mae: 8.1831\n",
      "Epoch 239/500\n",
      "2/2 [==============================] - 0s 3ms/step - loss: 17.2271 - mae: 17.2271\n",
      "Epoch 240/500\n",
      "2/2 [==============================] - 0s 6ms/step - loss: 8.9650 - mae: 8.9650\n",
      "Epoch 241/500\n",
      "2/2 [==============================] - 0s 6ms/step - loss: 13.3057 - mae: 13.3057\n",
      "Epoch 242/500\n",
      "2/2 [==============================] - 0s 4ms/step - loss: 8.8706 - mae: 8.8706\n",
      "Epoch 243/500\n",
      "2/2 [==============================] - 0s 4ms/step - loss: 18.9849 - mae: 18.9849\n",
      "Epoch 244/500\n",
      "2/2 [==============================] - 0s 6ms/step - loss: 14.0217 - mae: 14.0217\n",
      "Epoch 245/500\n",
      "2/2 [==============================] - 0s 6ms/step - loss: 14.6536 - mae: 14.6536\n",
      "Epoch 246/500\n",
      "2/2 [==============================] - 0s 4ms/step - loss: 15.7866 - mae: 15.7866\n",
      "Epoch 247/500\n",
      "2/2 [==============================] - 0s 5ms/step - loss: 17.6558 - mae: 17.6558\n",
      "Epoch 248/500\n",
      "2/2 [==============================] - 0s 4ms/step - loss: 13.2138 - mae: 13.2138\n",
      "Epoch 249/500\n",
      "2/2 [==============================] - 0s 5ms/step - loss: 14.5011 - mae: 14.5011\n",
      "Epoch 250/500\n",
      "2/2 [==============================] - 0s 6ms/step - loss: 23.2059 - mae: 23.2059\n",
      "Epoch 251/500\n",
      "2/2 [==============================] - 0s 4ms/step - loss: 9.3478 - mae: 9.3478\n",
      "Epoch 252/500\n",
      "2/2 [==============================] - 0s 5ms/step - loss: 36.7547 - mae: 36.7547\n",
      "Epoch 253/500\n",
      "2/2 [==============================] - 0s 5ms/step - loss: 21.9051 - mae: 21.9051\n",
      "Epoch 254/500\n",
      "2/2 [==============================] - 0s 5ms/step - loss: 7.3231 - mae: 7.3231\n",
      "Epoch 255/500\n",
      "2/2 [==============================] - 0s 5ms/step - loss: 24.7798 - mae: 24.7798\n",
      "Epoch 256/500\n",
      "2/2 [==============================] - 0s 4ms/step - loss: 12.4820 - mae: 12.4820\n",
      "Epoch 257/500\n",
      "2/2 [==============================] - 0s 4ms/step - loss: 10.6327 - mae: 10.6327\n",
      "Epoch 258/500\n"
     ]
    },
    {
     "name": "stdout",
     "output_type": "stream",
     "text": [
      "2/2 [==============================] - 0s 5ms/step - loss: 14.2778 - mae: 14.2778\n",
      "Epoch 259/500\n",
      "2/2 [==============================] - 0s 5ms/step - loss: 11.3020 - mae: 11.3020\n",
      "Epoch 260/500\n",
      "2/2 [==============================] - 0s 6ms/step - loss: 31.7551 - mae: 31.7551\n",
      "Epoch 261/500\n",
      "2/2 [==============================] - 0s 5ms/step - loss: 11.2418 - mae: 11.2418\n",
      "Epoch 262/500\n",
      "2/2 [==============================] - 0s 6ms/step - loss: 10.0897 - mae: 10.0897\n",
      "Epoch 263/500\n",
      "2/2 [==============================] - 0s 6ms/step - loss: 8.9836 - mae: 8.9836\n",
      "Epoch 264/500\n",
      "2/2 [==============================] - 0s 5ms/step - loss: 21.6177 - mae: 21.6177\n",
      "Epoch 265/500\n",
      "2/2 [==============================] - 0s 5ms/step - loss: 11.4097 - mae: 11.4097\n",
      "Epoch 266/500\n",
      "2/2 [==============================] - 0s 4ms/step - loss: 13.2424 - mae: 13.2424\n",
      "Epoch 267/500\n",
      "2/2 [==============================] - 0s 6ms/step - loss: 11.0589 - mae: 11.0589\n",
      "Epoch 268/500\n",
      "2/2 [==============================] - 0s 5ms/step - loss: 21.6856 - mae: 21.6856\n",
      "Epoch 269/500\n",
      "2/2 [==============================] - 0s 6ms/step - loss: 33.0076 - mae: 33.0076\n",
      "Epoch 270/500\n",
      "2/2 [==============================] - 0s 6ms/step - loss: 9.7874 - mae: 9.7874\n",
      "Epoch 271/500\n",
      "2/2 [==============================] - 0s 4ms/step - loss: 7.7253 - mae: 7.7253\n",
      "Epoch 272/500\n",
      "2/2 [==============================] - 0s 4ms/step - loss: 28.4915 - mae: 28.4915\n",
      "Epoch 273/500\n",
      "2/2 [==============================] - 0s 7ms/step - loss: 7.4157 - mae: 7.4157\n",
      "Epoch 274/500\n",
      "2/2 [==============================] - 0s 6ms/step - loss: 6.3444 - mae: 6.3444\n",
      "Epoch 275/500\n",
      "2/2 [==============================] - 0s 7ms/step - loss: 37.2193 - mae: 37.2193\n",
      "Epoch 276/500\n",
      "2/2 [==============================] - 0s 5ms/step - loss: 8.3096 - mae: 8.3096\n",
      "Epoch 277/500\n",
      "2/2 [==============================] - 0s 5ms/step - loss: 27.9932 - mae: 27.9932\n",
      "Epoch 278/500\n",
      "2/2 [==============================] - 0s 5ms/step - loss: 10.6166 - mae: 10.6166\n",
      "Epoch 279/500\n",
      "2/2 [==============================] - 0s 5ms/step - loss: 16.0593 - mae: 16.0593\n",
      "Epoch 280/500\n",
      "2/2 [==============================] - 0s 5ms/step - loss: 21.1273 - mae: 21.1273\n",
      "Epoch 281/500\n",
      "2/2 [==============================] - 0s 5ms/step - loss: 24.0584 - mae: 24.0584\n",
      "Epoch 282/500\n",
      "2/2 [==============================] - 0s 4ms/step - loss: 8.3315 - mae: 8.3315\n",
      "Epoch 283/500\n",
      "2/2 [==============================] - 0s 6ms/step - loss: 9.0675 - mae: 9.0675\n",
      "Epoch 284/500\n",
      "2/2 [==============================] - 0s 6ms/step - loss: 22.9901 - mae: 22.9901\n",
      "Epoch 285/500\n",
      "2/2 [==============================] - 0s 5ms/step - loss: 11.8350 - mae: 11.8350\n",
      "Epoch 286/500\n",
      "2/2 [==============================] - 0s 5ms/step - loss: 6.7533 - mae: 6.7533\n",
      "Epoch 287/500\n",
      "2/2 [==============================] - 0s 5ms/step - loss: 20.9544 - mae: 20.9544\n",
      "Epoch 288/500\n",
      "2/2 [==============================] - 0s 6ms/step - loss: 11.2114 - mae: 11.2114\n",
      "Epoch 289/500\n",
      "2/2 [==============================] - 0s 5ms/step - loss: 12.4206 - mae: 12.4206\n",
      "Epoch 290/500\n",
      "2/2 [==============================] - 0s 5ms/step - loss: 16.9571 - mae: 16.9571\n",
      "Epoch 291/500\n",
      "2/2 [==============================] - 0s 5ms/step - loss: 17.3546 - mae: 17.3546\n",
      "Epoch 292/500\n",
      "2/2 [==============================] - 0s 5ms/step - loss: 11.4648 - mae: 11.4648\n",
      "Epoch 293/500\n",
      "2/2 [==============================] - 0s 6ms/step - loss: 14.2792 - mae: 14.2792\n",
      "Epoch 294/500\n",
      "2/2 [==============================] - 0s 8ms/step - loss: 21.2000 - mae: 21.2000\n",
      "Epoch 295/500\n",
      "2/2 [==============================] - 0s 6ms/step - loss: 15.7484 - mae: 15.7484\n",
      "Epoch 296/500\n",
      "2/2 [==============================] - 0s 5ms/step - loss: 5.8902 - mae: 5.8902\n",
      "Epoch 297/500\n",
      "2/2 [==============================] - 0s 5ms/step - loss: 11.8235 - mae: 11.8235\n",
      "Epoch 298/500\n",
      "2/2 [==============================] - 0s 5ms/step - loss: 23.6547 - mae: 23.6547\n",
      "Epoch 299/500\n",
      "2/2 [==============================] - 0s 5ms/step - loss: 16.6262 - mae: 16.6262\n",
      "Epoch 300/500\n",
      "2/2 [==============================] - 0s 9ms/step - loss: 6.7780 - mae: 6.7780\n",
      "Epoch 301/500\n",
      "2/2 [==============================] - 0s 9ms/step - loss: 23.8702 - mae: 23.8702\n",
      "Epoch 302/500\n",
      "2/2 [==============================] - 0s 7ms/step - loss: 8.0101 - mae: 8.0101\n",
      "Epoch 303/500\n",
      "2/2 [==============================] - 0s 6ms/step - loss: 20.3872 - mae: 20.3872\n",
      "Epoch 304/500\n",
      "2/2 [==============================] - 0s 6ms/step - loss: 13.1637 - mae: 13.1637\n",
      "Epoch 305/500\n",
      "2/2 [==============================] - 0s 8ms/step - loss: 6.9328 - mae: 6.9328\n",
      "Epoch 306/500\n",
      "2/2 [==============================] - 0s 7ms/step - loss: 18.5112 - mae: 18.5112\n",
      "Epoch 307/500\n",
      "2/2 [==============================] - 0s 8ms/step - loss: 9.6580 - mae: 9.6580\n",
      "Epoch 308/500\n",
      "2/2 [==============================] - 0s 6ms/step - loss: 20.2554 - mae: 20.2554\n",
      "Epoch 309/500\n",
      "2/2 [==============================] - 0s 7ms/step - loss: 14.2320 - mae: 14.2320\n",
      "Epoch 310/500\n",
      "2/2 [==============================] - 0s 6ms/step - loss: 5.1128 - mae: 5.1128\n",
      "Epoch 311/500\n",
      "2/2 [==============================] - 0s 5ms/step - loss: 13.8339 - mae: 13.8339\n",
      "Epoch 312/500\n",
      "2/2 [==============================] - 0s 6ms/step - loss: 30.4027 - mae: 30.4027\n",
      "Epoch 313/500\n",
      "2/2 [==============================] - 0s 5ms/step - loss: 6.9138 - mae: 6.9138\n",
      "Epoch 314/500\n",
      "2/2 [==============================] - 0s 5ms/step - loss: 11.1082 - mae: 11.1082\n",
      "Epoch 315/500\n",
      "2/2 [==============================] - 0s 5ms/step - loss: 23.3680 - mae: 23.3680\n",
      "Epoch 316/500\n",
      "2/2 [==============================] - 0s 5ms/step - loss: 14.7721 - mae: 14.7721\n",
      "Epoch 317/500\n",
      "2/2 [==============================] - 0s 8ms/step - loss: 20.4519 - mae: 20.4519\n",
      "Epoch 318/500\n",
      "2/2 [==============================] - 0s 7ms/step - loss: 8.6418 - mae: 8.6418\n",
      "Epoch 319/500\n",
      "2/2 [==============================] - 0s 6ms/step - loss: 15.1012 - mae: 15.1012\n",
      "Epoch 320/500\n",
      "2/2 [==============================] - 0s 5ms/step - loss: 8.2828 - mae: 8.2828\n",
      "Epoch 321/500\n",
      "2/2 [==============================] - 0s 5ms/step - loss: 14.4991 - mae: 14.4991\n",
      "Epoch 322/500\n",
      "2/2 [==============================] - 0s 6ms/step - loss: 12.8629 - mae: 12.8629\n",
      "Epoch 323/500\n",
      "2/2 [==============================] - 0s 5ms/step - loss: 17.4789 - mae: 17.4789\n",
      "Epoch 324/500\n",
      "2/2 [==============================] - 0s 5ms/step - loss: 15.7446 - mae: 15.7446\n",
      "Epoch 325/500\n",
      "2/2 [==============================] - 0s 4ms/step - loss: 17.3089 - mae: 17.3089\n",
      "Epoch 326/500\n",
      "2/2 [==============================] - 0s 3ms/step - loss: 13.1238 - mae: 13.1238\n",
      "Epoch 327/500\n",
      "2/2 [==============================] - 0s 5ms/step - loss: 20.9953 - mae: 20.9953\n",
      "Epoch 328/500\n",
      "2/2 [==============================] - 0s 6ms/step - loss: 15.4009 - mae: 15.4009\n",
      "Epoch 329/500\n",
      "2/2 [==============================] - 0s 5ms/step - loss: 9.6252 - mae: 9.6252\n",
      "Epoch 330/500\n",
      "2/2 [==============================] - 0s 7ms/step - loss: 13.7656 - mae: 13.7656\n",
      "Epoch 331/500\n",
      "2/2 [==============================] - 0s 6ms/step - loss: 25.1386 - mae: 25.1386\n",
      "Epoch 332/500\n",
      "2/2 [==============================] - 0s 5ms/step - loss: 18.6349 - mae: 18.6349\n",
      "Epoch 333/500\n",
      "2/2 [==============================] - 0s 6ms/step - loss: 10.7317 - mae: 10.7317\n",
      "Epoch 334/500\n",
      "2/2 [==============================] - 0s 5ms/step - loss: 7.0048 - mae: 7.0048\n",
      "Epoch 335/500\n",
      "2/2 [==============================] - 0s 5ms/step - loss: 12.9995 - mae: 12.9995\n",
      "Epoch 336/500\n",
      "2/2 [==============================] - 0s 6ms/step - loss: 32.3407 - mae: 32.3407\n",
      "Epoch 337/500\n",
      "2/2 [==============================] - 0s 6ms/step - loss: 10.5881 - mae: 10.5881\n",
      "Epoch 338/500\n",
      "2/2 [==============================] - 0s 5ms/step - loss: 20.0048 - mae: 20.0048\n",
      "Epoch 339/500\n",
      "2/2 [==============================] - 0s 4ms/step - loss: 34.1736 - mae: 34.1736\n",
      "Epoch 340/500\n",
      "2/2 [==============================] - 0s 5ms/step - loss: 8.7059 - mae: 8.7059\n",
      "Epoch 341/500\n",
      "2/2 [==============================] - 0s 5ms/step - loss: 21.8360 - mae: 21.8360\n",
      "Epoch 342/500\n",
      "2/2 [==============================] - 0s 5ms/step - loss: 13.8823 - mae: 13.8823\n",
      "Epoch 343/500\n"
     ]
    },
    {
     "name": "stdout",
     "output_type": "stream",
     "text": [
      "2/2 [==============================] - 0s 7ms/step - loss: 11.7350 - mae: 11.7350\n",
      "Epoch 344/500\n",
      "2/2 [==============================] - 0s 6ms/step - loss: 10.7061 - mae: 10.7061\n",
      "Epoch 345/500\n",
      "2/2 [==============================] - 0s 5ms/step - loss: 30.9289 - mae: 30.9289\n",
      "Epoch 346/500\n",
      "2/2 [==============================] - 0s 5ms/step - loss: 10.6597 - mae: 10.6597\n",
      "Epoch 347/500\n",
      "2/2 [==============================] - 0s 4ms/step - loss: 25.6004 - mae: 25.6004\n",
      "Epoch 348/500\n",
      "2/2 [==============================] - 0s 4ms/step - loss: 13.2023 - mae: 13.2023\n",
      "Epoch 349/500\n",
      "2/2 [==============================] - 0s 7ms/step - loss: 13.0703 - mae: 13.0703\n",
      "Epoch 350/500\n",
      "2/2 [==============================] - 0s 6ms/step - loss: 15.4156 - mae: 15.4156\n",
      "Epoch 351/500\n",
      "2/2 [==============================] - 0s 5ms/step - loss: 32.8922 - mae: 32.8922\n",
      "Epoch 352/500\n",
      "2/2 [==============================] - 0s 6ms/step - loss: 14.1146 - mae: 14.1146\n",
      "Epoch 353/500\n",
      "2/2 [==============================] - 0s 6ms/step - loss: 15.8484 - mae: 15.8484\n",
      "Epoch 354/500\n",
      "2/2 [==============================] - 0s 6ms/step - loss: 18.9331 - mae: 18.9331\n",
      "Epoch 355/500\n",
      "2/2 [==============================] - 0s 6ms/step - loss: 34.5588 - mae: 34.5588\n",
      "Epoch 356/500\n",
      "2/2 [==============================] - 0s 5ms/step - loss: 8.3680 - mae: 8.3680\n",
      "Epoch 357/500\n",
      "2/2 [==============================] - 0s 5ms/step - loss: 21.9902 - mae: 21.9902\n",
      "Epoch 358/500\n",
      "2/2 [==============================] - 0s 5ms/step - loss: 20.1529 - mae: 20.1529\n",
      "Epoch 359/500\n",
      "2/2 [==============================] - 0s 6ms/step - loss: 11.0423 - mae: 11.0423\n",
      "Epoch 360/500\n",
      "2/2 [==============================] - 0s 7ms/step - loss: 20.2357 - mae: 20.2357\n",
      "Epoch 361/500\n",
      "2/2 [==============================] - 0s 7ms/step - loss: 11.0906 - mae: 11.0906\n",
      "Epoch 362/500\n",
      "2/2 [==============================] - 0s 6ms/step - loss: 6.8603 - mae: 6.8603\n",
      "Epoch 363/500\n",
      "2/2 [==============================] - 0s 8ms/step - loss: 24.0763 - mae: 24.0763\n",
      "Epoch 364/500\n",
      "2/2 [==============================] - 0s 8ms/step - loss: 29.8732 - mae: 29.8732\n",
      "Epoch 365/500\n",
      "2/2 [==============================] - 0s 7ms/step - loss: 8.4172 - mae: 8.4172\n",
      "Epoch 366/500\n",
      "2/2 [==============================] - 0s 8ms/step - loss: 6.1245 - mae: 6.1245\n",
      "Epoch 367/500\n",
      "2/2 [==============================] - 0s 6ms/step - loss: 35.0012 - mae: 35.0012\n",
      "Epoch 368/500\n",
      "2/2 [==============================] - 0s 6ms/step - loss: 7.4614 - mae: 7.4614\n",
      "Epoch 369/500\n",
      "2/2 [==============================] - 0s 8ms/step - loss: 9.2784 - mae: 9.2784\n",
      "Epoch 370/500\n",
      "2/2 [==============================] - 0s 7ms/step - loss: 10.9823 - mae: 10.9823\n",
      "Epoch 371/500\n",
      "2/2 [==============================] - 0s 7ms/step - loss: 9.0451 - mae: 9.0451\n",
      "Epoch 372/500\n",
      "2/2 [==============================] - 0s 6ms/step - loss: 7.7162 - mae: 7.7162\n",
      "Epoch 373/500\n",
      "2/2 [==============================] - 0s 6ms/step - loss: 25.0374 - mae: 25.0374\n",
      "Epoch 374/500\n",
      "2/2 [==============================] - 0s 5ms/step - loss: 13.2749 - mae: 13.2749\n",
      "Epoch 375/500\n",
      "2/2 [==============================] - 0s 5ms/step - loss: 11.8418 - mae: 11.8418\n",
      "Epoch 376/500\n",
      "2/2 [==============================] - 0s 7ms/step - loss: 14.1123 - mae: 14.1123\n",
      "Epoch 377/500\n",
      "2/2 [==============================] - 0s 7ms/step - loss: 15.7131 - mae: 15.7131\n",
      "Epoch 378/500\n",
      "2/2 [==============================] - 0s 6ms/step - loss: 17.0268 - mae: 17.0268\n",
      "Epoch 379/500\n",
      "2/2 [==============================] - 0s 5ms/step - loss: 19.4307 - mae: 19.4307\n",
      "Epoch 380/500\n",
      "2/2 [==============================] - 0s 5ms/step - loss: 15.7952 - mae: 15.7952\n",
      "Epoch 381/500\n",
      "2/2 [==============================] - 0s 4ms/step - loss: 11.4538 - mae: 11.4538\n",
      "Epoch 382/500\n",
      "2/2 [==============================] - 0s 6ms/step - loss: 16.3383 - mae: 16.3383\n",
      "Epoch 383/500\n",
      "2/2 [==============================] - 0s 6ms/step - loss: 22.0867 - mae: 22.0867\n",
      "Epoch 384/500\n",
      "2/2 [==============================] - 0s 4ms/step - loss: 7.7962 - mae: 7.7962\n",
      "Epoch 385/500\n",
      "2/2 [==============================] - 0s 5ms/step - loss: 10.6177 - mae: 10.6177\n",
      "Epoch 386/500\n",
      "2/2 [==============================] - 0s 6ms/step - loss: 19.0862 - mae: 19.0862\n",
      "Epoch 387/500\n",
      "2/2 [==============================] - 0s 6ms/step - loss: 26.5104 - mae: 26.5104\n",
      "Epoch 388/500\n",
      "2/2 [==============================] - 0s 6ms/step - loss: 10.1317 - mae: 10.1317\n",
      "Epoch 389/500\n",
      "2/2 [==============================] - 0s 6ms/step - loss: 5.1988 - mae: 5.1988\n",
      "Epoch 390/500\n",
      "2/2 [==============================] - 0s 5ms/step - loss: 18.8348 - mae: 18.8348\n",
      "Epoch 391/500\n",
      "2/2 [==============================] - 0s 4ms/step - loss: 9.3414 - mae: 9.3414\n",
      "Epoch 392/500\n",
      "2/2 [==============================] - 0s 6ms/step - loss: 14.4024 - mae: 14.4024\n",
      "Epoch 393/500\n",
      "2/2 [==============================] - 0s 6ms/step - loss: 15.4136 - mae: 15.4136\n",
      "Epoch 394/500\n",
      "2/2 [==============================] - 0s 5ms/step - loss: 14.7545 - mae: 14.7545\n",
      "Epoch 395/500\n",
      "2/2 [==============================] - 0s 5ms/step - loss: 24.9785 - mae: 24.9785\n",
      "Epoch 396/500\n",
      "2/2 [==============================] - 0s 6ms/step - loss: 19.1414 - mae: 19.1414\n",
      "Epoch 397/500\n",
      "2/2 [==============================] - 0s 5ms/step - loss: 11.5959 - mae: 11.5959\n",
      "Epoch 398/500\n",
      "2/2 [==============================] - 0s 6ms/step - loss: 19.2395 - mae: 19.2395\n",
      "Epoch 399/500\n",
      "2/2 [==============================] - 0s 5ms/step - loss: 25.8988 - mae: 25.8988\n",
      "Epoch 400/500\n",
      "2/2 [==============================] - 0s 5ms/step - loss: 15.5705 - mae: 15.5705\n",
      "Epoch 401/500\n",
      "2/2 [==============================] - 0s 5ms/step - loss: 14.6823 - mae: 14.6823\n",
      "Epoch 402/500\n",
      "2/2 [==============================] - 0s 6ms/step - loss: 24.2947 - mae: 24.2947\n",
      "Epoch 403/500\n",
      "2/2 [==============================] - 0s 7ms/step - loss: 16.2372 - mae: 16.2372\n",
      "Epoch 404/500\n",
      "2/2 [==============================] - 0s 5ms/step - loss: 10.4296 - mae: 10.4296\n",
      "Epoch 405/500\n",
      "2/2 [==============================] - 0s 7ms/step - loss: 6.4203 - mae: 6.4203\n",
      "Epoch 406/500\n",
      "2/2 [==============================] - 0s 6ms/step - loss: 17.7005 - mae: 17.7005\n",
      "Epoch 407/500\n",
      "2/2 [==============================] - 0s 6ms/step - loss: 11.0535 - mae: 11.0535\n",
      "Epoch 408/500\n",
      "2/2 [==============================] - 0s 7ms/step - loss: 21.1132 - mae: 21.1132\n",
      "Epoch 409/500\n",
      "2/2 [==============================] - 0s 6ms/step - loss: 30.1857 - mae: 30.1857\n",
      "Epoch 410/500\n",
      "2/2 [==============================] - 0s 6ms/step - loss: 9.8792 - mae: 9.8792\n",
      "Epoch 411/500\n",
      "2/2 [==============================] - 0s 8ms/step - loss: 14.7419 - mae: 14.7419\n",
      "Epoch 412/500\n",
      "2/2 [==============================] - 0s 8ms/step - loss: 21.4992 - mae: 21.4992\n",
      "Epoch 413/500\n",
      "2/2 [==============================] - 0s 6ms/step - loss: 13.2524 - mae: 13.2524\n",
      "Epoch 414/500\n",
      "2/2 [==============================] - 0s 6ms/step - loss: 8.2543 - mae: 8.2543\n",
      "Epoch 415/500\n",
      "2/2 [==============================] - 0s 7ms/step - loss: 11.6808 - mae: 11.6808\n",
      "Epoch 416/500\n",
      "2/2 [==============================] - 0s 6ms/step - loss: 25.5719 - mae: 25.5719\n",
      "Epoch 417/500\n",
      "2/2 [==============================] - 0s 5ms/step - loss: 15.8697 - mae: 15.8697\n",
      "Epoch 418/500\n",
      "2/2 [==============================] - 0s 6ms/step - loss: 12.5501 - mae: 12.5501\n",
      "Epoch 419/500\n",
      "2/2 [==============================] - 0s 5ms/step - loss: 15.7194 - mae: 15.7194\n",
      "Epoch 420/500\n",
      "2/2 [==============================] - 0s 4ms/step - loss: 24.3903 - mae: 24.3903\n",
      "Epoch 421/500\n",
      "2/2 [==============================] - 0s 5ms/step - loss: 18.3724 - mae: 18.3724\n",
      "Epoch 422/500\n",
      "2/2 [==============================] - 0s 5ms/step - loss: 8.6769 - mae: 8.6769\n",
      "Epoch 423/500\n",
      "2/2 [==============================] - 0s 5ms/step - loss: 24.6094 - mae: 24.6094\n",
      "Epoch 424/500\n",
      "2/2 [==============================] - 0s 5ms/step - loss: 16.9364 - mae: 16.9364\n",
      "Epoch 425/500\n",
      "2/2 [==============================] - 0s 5ms/step - loss: 7.4069 - mae: 7.4069\n",
      "Epoch 426/500\n",
      "2/2 [==============================] - 0s 5ms/step - loss: 21.1336 - mae: 21.1336\n",
      "Epoch 427/500\n",
      "2/2 [==============================] - 0s 6ms/step - loss: 6.5793 - mae: 6.5793\n",
      "Epoch 428/500\n"
     ]
    },
    {
     "name": "stdout",
     "output_type": "stream",
     "text": [
      "2/2 [==============================] - 0s 7ms/step - loss: 13.5256 - mae: 13.5256\n",
      "Epoch 429/500\n",
      "2/2 [==============================] - 0s 5ms/step - loss: 11.2453 - mae: 11.2453\n",
      "Epoch 430/500\n",
      "2/2 [==============================] - 0s 6ms/step - loss: 12.1476 - mae: 12.1476\n",
      "Epoch 431/500\n",
      "2/2 [==============================] - 0s 5ms/step - loss: 9.1558 - mae: 9.1558\n",
      "Epoch 432/500\n",
      "2/2 [==============================] - 0s 6ms/step - loss: 15.6841 - mae: 15.6841\n",
      "Epoch 433/500\n",
      "2/2 [==============================] - 0s 6ms/step - loss: 11.9761 - mae: 11.9761\n",
      "Epoch 434/500\n",
      "2/2 [==============================] - 0s 4ms/step - loss: 30.4634 - mae: 30.4634\n",
      "Epoch 435/500\n",
      "2/2 [==============================] - 0s 7ms/step - loss: 10.5559 - mae: 10.5559\n",
      "Epoch 436/500\n",
      "2/2 [==============================] - 0s 5ms/step - loss: 28.9614 - mae: 28.9614\n",
      "Epoch 437/500\n",
      "2/2 [==============================] - 0s 5ms/step - loss: 8.7160 - mae: 8.7160\n",
      "Epoch 438/500\n",
      "2/2 [==============================] - 0s 5ms/step - loss: 12.7699 - mae: 12.7699\n",
      "Epoch 439/500\n",
      "2/2 [==============================] - 0s 6ms/step - loss: 33.7245 - mae: 33.7245\n",
      "Epoch 440/500\n",
      "2/2 [==============================] - 0s 5ms/step - loss: 15.1925 - mae: 15.1925\n",
      "Epoch 441/500\n",
      "2/2 [==============================] - 0s 4ms/step - loss: 17.5548 - mae: 17.5548\n",
      "Epoch 442/500\n",
      "2/2 [==============================] - 0s 4ms/step - loss: 22.4446 - mae: 22.4446\n",
      "Epoch 443/500\n",
      "2/2 [==============================] - 0s 4ms/step - loss: 23.2518 - mae: 23.2518\n",
      "Epoch 444/500\n",
      "2/2 [==============================] - 0s 6ms/step - loss: 10.7429 - mae: 10.7429\n",
      "Epoch 445/500\n",
      "2/2 [==============================] - 0s 5ms/step - loss: 15.0071 - mae: 15.0071\n",
      "Epoch 446/500\n",
      "2/2 [==============================] - 0s 5ms/step - loss: 18.1270 - mae: 18.1270\n",
      "Epoch 447/500\n",
      "2/2 [==============================] - 0s 6ms/step - loss: 5.3503 - mae: 5.3503\n",
      "Epoch 448/500\n",
      "2/2 [==============================] - 0s 6ms/step - loss: 10.1806 - mae: 10.1806\n",
      "Epoch 449/500\n",
      "2/2 [==============================] - 0s 5ms/step - loss: 14.1067 - mae: 14.1067\n",
      "Epoch 450/500\n",
      "2/2 [==============================] - 0s 6ms/step - loss: 16.8807 - mae: 16.8807\n",
      "Epoch 451/500\n",
      "2/2 [==============================] - 0s 5ms/step - loss: 14.3450 - mae: 14.3450\n",
      "Epoch 452/500\n",
      "2/2 [==============================] - 0s 5ms/step - loss: 30.7020 - mae: 30.7020\n",
      "Epoch 453/500\n",
      "2/2 [==============================] - 0s 8ms/step - loss: 8.4279 - mae: 8.4279\n",
      "Epoch 454/500\n",
      "2/2 [==============================] - 0s 6ms/step - loss: 27.6208 - mae: 27.6208\n",
      "Epoch 455/500\n",
      "2/2 [==============================] - 0s 5ms/step - loss: 10.0239 - mae: 10.0239\n",
      "Epoch 456/500\n",
      "2/2 [==============================] - 0s 6ms/step - loss: 14.5854 - mae: 14.5854\n",
      "Epoch 457/500\n",
      "2/2 [==============================] - 0s 4ms/step - loss: 17.7380 - mae: 17.7380\n",
      "Epoch 458/500\n",
      "2/2 [==============================] - 0s 5ms/step - loss: 14.0464 - mae: 14.0464\n",
      "Epoch 459/500\n",
      "2/2 [==============================] - 0s 6ms/step - loss: 25.9379 - mae: 25.9379\n",
      "Epoch 460/500\n",
      "2/2 [==============================] - 0s 6ms/step - loss: 14.9429 - mae: 14.9429\n",
      "Epoch 461/500\n",
      "2/2 [==============================] - 0s 7ms/step - loss: 11.9793 - mae: 11.9793\n",
      "Epoch 462/500\n",
      "2/2 [==============================] - 0s 8ms/step - loss: 13.2896 - mae: 13.2896\n",
      "Epoch 463/500\n",
      "2/2 [==============================] - 0s 5ms/step - loss: 29.4845 - mae: 29.4845\n",
      "Epoch 464/500\n",
      "2/2 [==============================] - 0s 5ms/step - loss: 3.2650 - mae: 3.2650\n",
      "Epoch 465/500\n",
      "2/2 [==============================] - 0s 5ms/step - loss: 7.6279 - mae: 7.6279\n",
      "Epoch 466/500\n",
      "2/2 [==============================] - 0s 5ms/step - loss: 16.5480 - mae: 16.5480\n",
      "Epoch 467/500\n",
      "2/2 [==============================] - 0s 5ms/step - loss: 17.5305 - mae: 17.5305\n",
      "Epoch 468/500\n",
      "2/2 [==============================] - 0s 6ms/step - loss: 12.9377 - mae: 12.9377\n",
      "Epoch 469/500\n",
      "2/2 [==============================] - 0s 6ms/step - loss: 29.2372 - mae: 29.2372\n",
      "Epoch 470/500\n",
      "2/2 [==============================] - 0s 6ms/step - loss: 7.2786 - mae: 7.2786\n",
      "Epoch 471/500\n",
      "2/2 [==============================] - 0s 5ms/step - loss: 26.1230 - mae: 26.1230\n",
      "Epoch 472/500\n",
      "2/2 [==============================] - 0s 5ms/step - loss: 12.4749 - mae: 12.4749\n",
      "Epoch 473/500\n",
      "2/2 [==============================] - 0s 4ms/step - loss: 14.8191 - mae: 14.8191\n",
      "Epoch 474/500\n",
      "2/2 [==============================] - 0s 5ms/step - loss: 18.7919 - mae: 18.7919\n",
      "Epoch 475/500\n",
      "2/2 [==============================] - 0s 6ms/step - loss: 12.0885 - mae: 12.0885\n",
      "Epoch 476/500\n",
      "2/2 [==============================] - 0s 6ms/step - loss: 13.7483 - mae: 13.7483\n",
      "Epoch 477/500\n",
      "2/2 [==============================] - 0s 5ms/step - loss: 30.4004 - mae: 30.4004\n",
      "Epoch 478/500\n",
      "2/2 [==============================] - 0s 5ms/step - loss: 7.5309 - mae: 7.5309\n",
      "Epoch 479/500\n",
      "2/2 [==============================] - 0s 4ms/step - loss: 11.3776 - mae: 11.3776\n",
      "Epoch 480/500\n",
      "2/2 [==============================] - 0s 5ms/step - loss: 18.0466 - mae: 18.0466\n",
      "Epoch 481/500\n",
      "2/2 [==============================] - 0s 5ms/step - loss: 15.9217 - mae: 15.9217\n",
      "Epoch 482/500\n",
      "2/2 [==============================] - 0s 5ms/step - loss: 21.5367 - mae: 21.5367\n",
      "Epoch 483/500\n",
      "2/2 [==============================] - 0s 6ms/step - loss: 24.8804 - mae: 24.8804\n",
      "Epoch 484/500\n",
      "2/2 [==============================] - 0s 7ms/step - loss: 23.4519 - mae: 23.4519\n",
      "Epoch 485/500\n",
      "2/2 [==============================] - 0s 6ms/step - loss: 5.6992 - mae: 5.6992\n",
      "Epoch 486/500\n",
      "2/2 [==============================] - 0s 5ms/step - loss: 19.3969 - mae: 19.3969\n",
      "Epoch 487/500\n",
      "2/2 [==============================] - 0s 5ms/step - loss: 13.9839 - mae: 13.9839\n",
      "Epoch 488/500\n",
      "2/2 [==============================] - 0s 5ms/step - loss: 30.4947 - mae: 30.4947\n",
      "Epoch 489/500\n",
      "2/2 [==============================] - 0s 6ms/step - loss: 11.7640 - mae: 11.7640\n",
      "Epoch 490/500\n",
      "2/2 [==============================] - 0s 6ms/step - loss: 12.4692 - mae: 12.4692\n",
      "Epoch 491/500\n",
      "2/2 [==============================] - 0s 4ms/step - loss: 23.6573 - mae: 23.6573\n",
      "Epoch 492/500\n",
      "2/2 [==============================] - 0s 6ms/step - loss: 20.4344 - mae: 20.4344\n",
      "Epoch 493/500\n",
      "2/2 [==============================] - 0s 6ms/step - loss: 4.9883 - mae: 4.9883\n",
      "Epoch 494/500\n",
      "2/2 [==============================] - 0s 5ms/step - loss: 12.7149 - mae: 12.7149\n",
      "Epoch 495/500\n",
      "2/2 [==============================] - 0s 5ms/step - loss: 13.4190 - mae: 13.4190\n",
      "Epoch 496/500\n",
      "2/2 [==============================] - 0s 6ms/step - loss: 12.7025 - mae: 12.7025\n",
      "Epoch 497/500\n",
      "2/2 [==============================] - 0s 6ms/step - loss: 17.6745 - mae: 17.6745\n",
      "Epoch 498/500\n",
      "2/2 [==============================] - 0s 5ms/step - loss: 23.4460 - mae: 23.4460\n",
      "Epoch 499/500\n",
      "2/2 [==============================] - 0s 6ms/step - loss: 9.1781 - mae: 9.1781\n",
      "Epoch 500/500\n",
      "2/2 [==============================] - 0s 6ms/step - loss: 14.3804 - mae: 14.3804\n"
     ]
    },
    {
     "data": {
      "text/plain": [
       "<keras.callbacks.History at 0x258fee7e6a0>"
      ]
     },
     "execution_count": 71,
     "metadata": {},
     "output_type": "execute_result"
    }
   ],
   "source": [
    "# Set random seed\n",
    "tf.random.set_seed(42)\n",
    "\n",
    "# 1. Create the model\n",
    "model_3 = tf.keras.Sequential([\n",
    "    tf.keras.layers.Dense(10, input_shape=[1], name=\"input_layer\"),\n",
    "    tf.keras.layers.Dense(1, name=\"output_layer\")\n",
    "])\n",
    "\n",
    "# 2. Compile the model\n",
    "model_3.compile(loss=tf.keras.losses.mae,\n",
    "               optimizer=tf.keras.optimizers.SGD(),\n",
    "               metrics=[\"mae\"])\n",
    "\n",
    "# 3. Fit the model\n",
    "model_3.fit(X_train, y_train, epochs=500)"
   ]
  },
  {
   "cell_type": "code",
   "execution_count": 72,
   "id": "1c49346c",
   "metadata": {},
   "outputs": [
    {
     "name": "stdout",
     "output_type": "stream",
     "text": [
      "1/1 [==============================] - 0s 113ms/step\n"
     ]
    },
    {
     "data": {
      "image/png": "[encoded data removed]",
      "text/plain": [
       "<Figure size 720x504 with 1 Axes>"
      ]
     },
     "metadata": {
      "needs_background": "light"
     },
     "output_type": "display_data"
    }
   ],
   "source": [
    "# Make and plot predictions\n",
    "y_preds_3 = model_3.predict(X_test)\n",
    "plot_predictions(predictions=y_preds_3)"
   ]
  },
  {
   "cell_type": "markdown",
   "id": "6577b4b6",
   "metadata": {},
   "source": [
    "This model is even worse than the first model.\n",
    "The reason for such a bad result should be that our model was trained for too long (500 epochs), so it is overfitting (this is a very important concept in Machine Learning, but we will not be cover it in this lesson).    \n",
    "This is a prime example of tweaking some hyper-parameters, even ones that you intuitively think should result in a better result, actually lead to a poor result."
   ]
  },
  {
   "cell_type": "code",
   "execution_count": 73,
   "id": "db92c5b8",
   "metadata": {},
   "outputs": [
    {
     "data": {
      "text/plain": [
       "(<tf.Tensor: shape=(), dtype=float32, numpy=57.9074>,\n",
       " <tf.Tensor: shape=(), dtype=float32, numpy=4695.7456>)"
      ]
     },
     "execution_count": 73,
     "metadata": {},
     "output_type": "execute_result"
    }
   ],
   "source": [
    "# model_3 evaluation metrics\n",
    "mae_3 = mae(X_test, tf.squeeze(y_preds_3))\n",
    "mse_3 = mse(y_test, tf.squeeze(y_preds_3))\n",
    "mae_3, mse_3"
   ]
  },
  {
   "cell_type": "code",
   "execution_count": null,
   "id": "7e03cda5",
   "metadata": {},
   "outputs": [],
   "source": []
  },
  {
   "cell_type": "markdown",
   "id": "deb2a077",
   "metadata": {},
   "source": [
    "🔑**Note** : It is good practice to start by small experiments (small models) and make sure they work, and then increase their scale when necessary."
   ]
  },
  {
   "cell_type": "code",
   "execution_count": null,
   "id": "37a7691e",
   "metadata": {},
   "outputs": [],
   "source": []
  },
  {
   "cell_type": "markdown",
   "id": "74304c21",
   "metadata": {},
   "source": [
    "### Comparing the results of our modelling experiments"
   ]
  },
  {
   "cell_type": "code",
   "execution_count": 74,
   "id": "55749623",
   "metadata": {},
   "outputs": [
    {
     "data": {
      "text/html": [
       "<div>\n",
       "<style scoped>\n",
       "    .dataframe tbody tr th:only-of-type {\n",
       "        vertical-align: middle;\n",
       "    }\n",
       "\n",
       "    .dataframe tbody tr th {\n",
       "        vertical-align: top;\n",
       "    }\n",
       "\n",
       "    .dataframe thead th {\n",
       "        text-align: right;\n",
       "    }\n",
       "</style>\n",
       "<table border=\"1\" class=\"dataframe\">\n",
       "  <thead>\n",
       "    <tr style=\"text-align: right;\">\n",
       "      <th></th>\n",
       "      <th>model</th>\n",
       "      <th>MAE</th>\n",
       "      <th>MSE</th>\n",
       "    </tr>\n",
       "  </thead>\n",
       "  <tbody>\n",
       "    <tr>\n",
       "      <th>0</th>\n",
       "      <td>model_1</td>\n",
       "      <td>tf.Tensor(14.91065, shape=(), dtype=float32)</td>\n",
       "      <td>tf.Tensor(223.16182, shape=(), dtype=float32)</td>\n",
       "    </tr>\n",
       "    <tr>\n",
       "      <th>1</th>\n",
       "      <td>model_2</td>\n",
       "      <td>tf.Tensor(13.304468, shape=(), dtype=float32)</td>\n",
       "      <td>tf.Tensor(187.06578, shape=(), dtype=float32)</td>\n",
       "    </tr>\n",
       "    <tr>\n",
       "      <th>2</th>\n",
       "      <td>model_3</td>\n",
       "      <td>tf.Tensor(57.9074, shape=(), dtype=float32)</td>\n",
       "      <td>tf.Tensor(4695.7456, shape=(), dtype=float32)</td>\n",
       "    </tr>\n",
       "  </tbody>\n",
       "</table>\n",
       "</div>"
      ],
      "text/plain": [
       "     model                                            MAE  \\\n",
       "0  model_1   tf.Tensor(14.91065, shape=(), dtype=float32)   \n",
       "1  model_2  tf.Tensor(13.304468, shape=(), dtype=float32)   \n",
       "2  model_3    tf.Tensor(57.9074, shape=(), dtype=float32)   \n",
       "\n",
       "                                             MSE  \n",
       "0  tf.Tensor(223.16182, shape=(), dtype=float32)  \n",
       "1  tf.Tensor(187.06578, shape=(), dtype=float32)  \n",
       "2  tf.Tensor(4695.7456, shape=(), dtype=float32)  "
      ]
     },
     "execution_count": 74,
     "metadata": {},
     "output_type": "execute_result"
    }
   ],
   "source": [
    "# Let's compare the result of our models using a dataframe\n",
    "\n",
    "model_results = [[\"model_1\", mae_1, mse_1], \n",
    "                 [\"model_2\", mae_2, mse_2],\n",
    "                 [\"model_3\", mae_3, mse_3]]\n",
    "# model_results = {\n",
    "#     \"model_1\": [ mae_1, mse_1],\n",
    "#     \"model_2\": [mae_2, mse_2],\n",
    "#     \"model_3\": [mae_3, mse_3],\n",
    "# }\n",
    "\n",
    "results_df = pd.DataFrame(model_results, columns=[\"model\",\"MAE\",\"MSE\"])\n",
    "results_df"
   ]
  },
  {
   "cell_type": "markdown",
   "id": "2b2be887",
   "metadata": {},
   "source": [
    "This result is not easily readable. So we will get the numpy value of the MAEs and MSEs"
   ]
  },
  {
   "cell_type": "code",
   "execution_count": 75,
   "id": "30be1716",
   "metadata": {},
   "outputs": [
    {
     "data": {
      "text/html": [
       "<div>\n",
       "<style scoped>\n",
       "    .dataframe tbody tr th:only-of-type {\n",
       "        vertical-align: middle;\n",
       "    }\n",
       "\n",
       "    .dataframe tbody tr th {\n",
       "        vertical-align: top;\n",
       "    }\n",
       "\n",
       "    .dataframe thead th {\n",
       "        text-align: right;\n",
       "    }\n",
       "</style>\n",
       "<table border=\"1\" class=\"dataframe\">\n",
       "  <thead>\n",
       "    <tr style=\"text-align: right;\">\n",
       "      <th></th>\n",
       "      <th>model</th>\n",
       "      <th>MAE</th>\n",
       "      <th>MSE</th>\n",
       "    </tr>\n",
       "  </thead>\n",
       "  <tbody>\n",
       "    <tr>\n",
       "      <th>0</th>\n",
       "      <td>model_1</td>\n",
       "      <td>14.910650</td>\n",
       "      <td>223.161819</td>\n",
       "    </tr>\n",
       "    <tr>\n",
       "      <th>1</th>\n",
       "      <td>model_2</td>\n",
       "      <td>13.304468</td>\n",
       "      <td>187.065781</td>\n",
       "    </tr>\n",
       "    <tr>\n",
       "      <th>2</th>\n",
       "      <td>model_3</td>\n",
       "      <td>57.907398</td>\n",
       "      <td>4695.745605</td>\n",
       "    </tr>\n",
       "  </tbody>\n",
       "</table>\n",
       "</div>"
      ],
      "text/plain": [
       "     model        MAE          MSE\n",
       "0  model_1  14.910650   223.161819\n",
       "1  model_2  13.304468   187.065781\n",
       "2  model_3  57.907398  4695.745605"
      ]
     },
     "execution_count": 75,
     "metadata": {},
     "output_type": "execute_result"
    }
   ],
   "source": [
    "model_results = [[\"model_1\", mae_1.numpy(), mse_1.numpy()], \n",
    "                 [\"model_2\", mae_2.numpy(), mse_2.numpy()],\n",
    "                 [\"model_3\", mae_3.numpy(), mse_3.numpy()]]\n",
    "\n",
    "results_df = pd.DataFrame(model_results, columns=[\"model\",\"MAE\",\"MSE\"])\n",
    "results_df"
   ]
  },
  {
   "cell_type": "markdown",
   "id": "63410c67",
   "metadata": {},
   "source": [
    "From the content of our dataframe, we can observe that model_2 perform the best. So we will look at its content."
   ]
  },
  {
   "cell_type": "code",
   "execution_count": 76,
   "id": "846ebbff",
   "metadata": {},
   "outputs": [
    {
     "name": "stdout",
     "output_type": "stream",
     "text": [
      "Model: \"sequential_10\"\n",
      "_________________________________________________________________\n",
      " Layer (type)                Output Shape              Param #   \n",
      "=================================================================\n",
      " input_layer (Dense)         (None, 10)                20        \n",
      "                                                                 \n",
      " dense_15 (Dense)            (None, 1)                 11        \n",
      "                                                                 \n",
      "=================================================================\n",
      "Total params: 31\n",
      "Trainable params: 31\n",
      "Non-trainable params: 0\n",
      "_________________________________________________________________\n"
     ]
    }
   ],
   "source": [
    "model_2.summary()"
   ]
  },
  {
   "cell_type": "markdown",
   "id": "317ff74b",
   "metadata": {},
   "source": [
    "> 🔑 **Notes** :\n",
    "> * One of our main goal should be to minimize the time between each experiment (so that we don't have to wait, say, 10min before runing the next modelling experiment). \n",
    "> * The more experiments ones does, the more things one will figure out which don't work, and in turn get closer to figure out what does work : it is a lot of trials and errors. Remember the ML practionner motto : experiment, experiment, experiment."
   ]
  },
  {
   "cell_type": "code",
   "execution_count": null,
   "id": "be5903ec",
   "metadata": {},
   "outputs": [],
   "source": []
  },
  {
   "cell_type": "markdown",
   "id": "72c6a165",
   "metadata": {},
   "source": [
    "### Tracking modelling experiments\n",
    "\n",
    "One good habit in ML modelling is to tracks experiments results.    \n",
    "\n",
    "Introducing tools that can help track results of experiments :\n",
    "* [**TensorBoard**](https://www.tensorflow.org/tensorboard) - a component of the TensorFlow library to help track modelling experiments.\n",
    "* [**Weights & Biases**](https://wandb.ai/site) - a tool for tracking all kind of ML experiments; it can be plugged into TensorBoard. \n",
    "\n",
    "TensorBoard's usage will be covered later."
   ]
  },
  {
   "cell_type": "code",
   "execution_count": null,
   "id": "3eedb62e",
   "metadata": {},
   "outputs": [],
   "source": []
  },
  {
   "cell_type": "markdown",
   "id": "2f3c0d83",
   "metadata": {},
   "source": [
    "### Save a model      \n",
    "Saving a model allow us to use it outside our notebook in place such as a web/mobile application.                  \n",
    "There are two main format we can save our model to :\n",
    "* SaveModel format : it is used when the saved model will only be used in the TensorFlow environement      \n",
    "* HDF5 format : it used when the saved model will be used outside of TensorFlow environement"
   ]
  },
  {
   "cell_type": "code",
   "execution_count": 77,
   "id": "4c736d88",
   "metadata": {},
   "outputs": [
    {
     "name": "stdout",
     "output_type": "stream",
     "text": [
      "INFO:tensorflow:Assets written to: ./saved-models/model_2_SaveModel_format\\assets\n"
     ]
    }
   ],
   "source": [
    "# Save a model using SaveModel format\n",
    "model_2.save(\"./saved-models/model_2_SaveModel_format\")"
   ]
  },
  {
   "cell_type": "code",
   "execution_count": 78,
   "id": "26dd5350",
   "metadata": {},
   "outputs": [],
   "source": [
    "# Save model using HDF5 format\n",
    "model_2.save(\"./saved-models/model_2_HDF5_format.h5\")"
   ]
  },
  {
   "cell_type": "code",
   "execution_count": null,
   "id": "1949574d",
   "metadata": {},
   "outputs": [],
   "source": []
  },
  {
   "cell_type": "markdown",
   "id": "e364a2f2",
   "metadata": {},
   "source": [
    "### Load a saved model   \n",
    "\n"
   ]
  },
  {
   "cell_type": "code",
   "execution_count": 79,
   "id": "dab2ffb8",
   "metadata": {},
   "outputs": [
    {
     "name": "stdout",
     "output_type": "stream",
     "text": [
      "Model: \"sequential_10\"\n",
      "_________________________________________________________________\n",
      " Layer (type)                Output Shape              Param #   \n",
      "=================================================================\n",
      " input_layer (Dense)         (None, 10)                20        \n",
      "                                                                 \n",
      " dense_15 (Dense)            (None, 1)                 11        \n",
      "                                                                 \n",
      "=================================================================\n",
      "Total params: 31\n",
      "Trainable params: 31\n",
      "Non-trainable params: 0\n",
      "_________________________________________________________________\n"
     ]
    }
   ],
   "source": [
    "# Recall the structure of our saved model\n",
    "model_2.summary()"
   ]
  },
  {
   "cell_type": "code",
   "execution_count": null,
   "id": "a6b13391",
   "metadata": {},
   "outputs": [],
   "source": []
  },
  {
   "cell_type": "code",
   "execution_count": 80,
   "id": "98a5dade",
   "metadata": {},
   "outputs": [
    {
     "name": "stdout",
     "output_type": "stream",
     "text": [
      "Model: \"sequential_10\"\n",
      "_________________________________________________________________\n",
      " Layer (type)                Output Shape              Param #   \n",
      "=================================================================\n",
      " input_layer (Dense)         (None, 10)                20        \n",
      "                                                                 \n",
      " dense_15 (Dense)            (None, 1)                 11        \n",
      "                                                                 \n",
      "=================================================================\n",
      "Total params: 31\n",
      "Trainable params: 31\n",
      "Non-trainable params: 0\n",
      "_________________________________________________________________\n"
     ]
    }
   ],
   "source": [
    "# Load the SaveModel format model\n",
    "loaded_SaveModel_format = tf.keras.models.load_model(\"./saved-models/model_2_SaveModel_format\")\n",
    "loaded_SaveModel_format.summary()"
   ]
  },
  {
   "cell_type": "markdown",
   "id": "9bedb2a3",
   "metadata": {},
   "source": [
    "We can confirm that loaded_SaveModel_format has the same structure as model_2, by looking at their .summary().      \n",
    "Now we will also confirm that their patterns (weights and biases) are the same, by checking that they are doing the same predictions."
   ]
  },
  {
   "cell_type": "code",
   "execution_count": 81,
   "id": "bb989a74",
   "metadata": {},
   "outputs": [
    {
     "name": "stdout",
     "output_type": "stream",
     "text": [
      "1/1 [==============================] - 0s 62ms/step\n",
      "1/1 [==============================] - 0s 99ms/step\n"
     ]
    },
    {
     "data": {
      "text/plain": [
       "array([[ True],\n",
       "       [ True],\n",
       "       [ True],\n",
       "       [ True],\n",
       "       [ True],\n",
       "       [ True],\n",
       "       [ True],\n",
       "       [ True],\n",
       "       [ True],\n",
       "       [ True]])"
      ]
     },
     "execution_count": 81,
     "metadata": {},
     "output_type": "execute_result"
    }
   ],
   "source": [
    "# Compare model_2 predictions with loaded_SaveModel_format predictions\n",
    "model_2_preds = model_2.predict(X_test)\n",
    "loaded_SaveModel_format_preds = loaded_SaveModel_format.predict(X_test)\n",
    "\n",
    "model_2_preds == loaded_SaveModel_format_preds"
   ]
  },
  {
   "cell_type": "code",
   "execution_count": null,
   "id": "986df27f",
   "metadata": {},
   "outputs": [],
   "source": []
  },
  {
   "cell_type": "code",
   "execution_count": 82,
   "id": "12d76241",
   "metadata": {},
   "outputs": [
    {
     "name": "stdout",
     "output_type": "stream",
     "text": [
      "Model: \"sequential_10\"\n",
      "_________________________________________________________________\n",
      " Layer (type)                Output Shape              Param #   \n",
      "=================================================================\n",
      " input_layer (Dense)         (None, 10)                20        \n",
      "                                                                 \n",
      " dense_15 (Dense)            (None, 1)                 11        \n",
      "                                                                 \n",
      "=================================================================\n",
      "Total params: 31\n",
      "Trainable params: 31\n",
      "Non-trainable params: 0\n",
      "_________________________________________________________________\n"
     ]
    }
   ],
   "source": [
    "# Load the HDF5 format model\n",
    "loaded_h5_model = tf.keras.models.load_model(\"./saved-models/model_2_HDF5_format.h5\")\n",
    "loaded_h5_model.summary()"
   ]
  },
  {
   "cell_type": "markdown",
   "id": "3f8a23bd",
   "metadata": {},
   "source": [
    "We can confirm through .summary() that the architecture of loaded_h5_model is the same as model_2. \n",
    "\n",
    "Now we will make sure that model_2 predictions match loaded_h5_model predictions."
   ]
  },
  {
   "cell_type": "code",
   "execution_count": 83,
   "id": "a7936835",
   "metadata": {},
   "outputs": [
    {
     "name": "stdout",
     "output_type": "stream",
     "text": [
      "1/1 [==============================] - 0s 51ms/step\n",
      "1/1 [==============================] - 0s 95ms/step\n"
     ]
    },
    {
     "data": {
      "text/plain": [
       "array([[ True],\n",
       "       [ True],\n",
       "       [ True],\n",
       "       [ True],\n",
       "       [ True],\n",
       "       [ True],\n",
       "       [ True],\n",
       "       [ True],\n",
       "       [ True],\n",
       "       [ True]])"
      ]
     },
     "execution_count": 83,
     "metadata": {},
     "output_type": "execute_result"
    }
   ],
   "source": [
    "# Compare model_2 predictions with loaded_h5_model predictions\n",
    "model_2_preds = model_2.predict(X_test)\n",
    "loaded_h5_model_preds = loaded_h5_model.predict(X_test)\n",
    "model_2_preds == loaded_h5_model_preds"
   ]
  },
  {
   "cell_type": "code",
   "execution_count": null,
   "id": "9b7eadbe",
   "metadata": {},
   "outputs": [],
   "source": []
  },
  {
   "cell_type": "code",
   "execution_count": null,
   "id": "62fee723",
   "metadata": {},
   "outputs": [],
   "source": []
  },
  {
   "cell_type": "code",
   "execution_count": null,
   "id": "fbb846e8",
   "metadata": {},
   "outputs": [],
   "source": []
  },
  {
   "cell_type": "code",
   "execution_count": null,
   "id": "9a64dac6",
   "metadata": {},
   "outputs": [],
   "source": []
  }
 ],
 "metadata": {
  "kernelspec": {
   "display_name": "Python 3",
   "language": "python",
   "name": "python3"
  },
  "language_info": {
   "codemirror_mode": {
    "name": "ipython",
    "version": 3
   },
   "file_extension": ".py",
   "mimetype": "text/x-python",
   "name": "python",
   "nbconvert_exporter": "python",
   "pygments_lexer": "ipython3",
   "version": "3.8.8"
  }
 },
 "nbformat": 4,
 "nbformat_minor": 5
}
