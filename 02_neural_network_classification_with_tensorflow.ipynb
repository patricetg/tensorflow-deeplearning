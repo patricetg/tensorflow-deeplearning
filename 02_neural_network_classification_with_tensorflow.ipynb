{
 "cells": [
  {
   "cell_type": "code",
   "execution_count": null,
   "id": "3447e8b3",
   "metadata": {},
   "outputs": [],
   "source": []
  },
  {
   "cell_type": "markdown",
   "id": "2800478a",
   "metadata": {},
   "source": [
    "# Introduction to Neural Network classification with TensorFlow\n",
    "\n",
    "A classification problem is where you try to classify something as one thing or another.   \n",
    "We have:\n",
    "* Binary Classification: we have two labels (e.g. spam or not spam)\n",
    "* Multiclass Classification: we have more than two labels (eg. dog, human, flower)\n",
    "* Multilabel Classification: we need to associate many labels to a predication (eg. associate tags to a given text)\n"
   ]
  },
  {
   "cell_type": "code",
   "execution_count": null,
   "id": "a6a0aa0f",
   "metadata": {},
   "outputs": [],
   "source": []
  },
  {
   "cell_type": "code",
   "execution_count": 1,
   "id": "49d980a2",
   "metadata": {},
   "outputs": [],
   "source": [
    "from sklearn.datasets import make_circles\n",
    "import pandas as pd\n",
    "import numpy as np\n",
    "\n",
    "import matplotlib.pyplot as plt\n",
    "import seaborn as sb\n",
    "\n",
    "%matplotlib inline"
   ]
  },
  {
   "cell_type": "code",
   "execution_count": 2,
   "id": "fb00d2f3",
   "metadata": {},
   "outputs": [
    {
     "data": {
      "text/plain": [
       "'2.10.0'"
      ]
     },
     "execution_count": 2,
     "metadata": {},
     "output_type": "execute_result"
    }
   ],
   "source": [
    "import tensorflow as tf\n",
    "tf.__version__"
   ]
  },
  {
   "cell_type": "code",
   "execution_count": null,
   "id": "05ca92c4",
   "metadata": {},
   "outputs": [],
   "source": []
  },
  {
   "cell_type": "markdown",
   "id": "0d54956d",
   "metadata": {},
   "source": [
    "## Creating binary dataset to work on"
   ]
  },
  {
   "cell_type": "code",
   "execution_count": 3,
   "id": "7bdbe7b0",
   "metadata": {},
   "outputs": [],
   "source": [
    "n_samples = 1000\n",
    "X,y = make_circles(n_samples,noise=.03,random_state=42)"
   ]
  },
  {
   "cell_type": "code",
   "execution_count": 4,
   "id": "2fb626fc",
   "metadata": {},
   "outputs": [
    {
     "data": {
      "text/plain": [
       "array([[ 0.75424625,  0.23148074],\n",
       "       [-0.75615888,  0.15325888],\n",
       "       [-0.81539193,  0.17328203],\n",
       "       ...,\n",
       "       [-0.13690036, -0.81001183],\n",
       "       [ 0.67036156, -0.76750154],\n",
       "       [ 0.28105665,  0.96382443]])"
      ]
     },
     "execution_count": 4,
     "metadata": {},
     "output_type": "execute_result"
    }
   ],
   "source": [
    "X"
   ]
  },
  {
   "cell_type": "code",
   "execution_count": 5,
   "id": "a698cf9f",
   "metadata": {},
   "outputs": [
    {
     "data": {
      "text/plain": [
       "array([1, 1, 1, 1, 0, 1, 1, 1, 1], dtype=int64)"
      ]
     },
     "execution_count": 5,
     "metadata": {},
     "output_type": "execute_result"
    }
   ],
   "source": [
    "y[:9]"
   ]
  },
  {
   "cell_type": "code",
   "execution_count": 6,
   "id": "f8cf5e35",
   "metadata": {},
   "outputs": [
    {
     "data": {
      "text/plain": [
       "((1000, 2), (1000,))"
      ]
     },
     "execution_count": 6,
     "metadata": {},
     "output_type": "execute_result"
    }
   ],
   "source": [
    "X.shape, y.shape"
   ]
  },
  {
   "cell_type": "code",
   "execution_count": 7,
   "id": "c0609c00",
   "metadata": {},
   "outputs": [
    {
     "data": {
      "text/plain": [
       "array([0.75424625, 0.23148074])"
      ]
     },
     "execution_count": 7,
     "metadata": {},
     "output_type": "execute_result"
    }
   ],
   "source": [
    "X[0]"
   ]
  },
  {
   "cell_type": "code",
   "execution_count": 8,
   "id": "d5f9e04e",
   "metadata": {},
   "outputs": [
    {
     "data": {
      "text/plain": [
       "1"
      ]
     },
     "execution_count": 8,
     "metadata": {},
     "output_type": "execute_result"
    }
   ],
   "source": [
    "y[0]"
   ]
  },
  {
   "cell_type": "code",
   "execution_count": null,
   "id": "4be3e553",
   "metadata": {},
   "outputs": [],
   "source": []
  },
  {
   "cell_type": "markdown",
   "id": "9caadd31",
   "metadata": {},
   "source": [
    "Let's visualize the data"
   ]
  },
  {
   "cell_type": "code",
   "execution_count": 9,
   "id": "c62f8cea",
   "metadata": {},
   "outputs": [
    {
     "data": {
      "text/html": [
       "<div>\n",
       "<style scoped>\n",
       "    .dataframe tbody tr th:only-of-type {\n",
       "        vertical-align: middle;\n",
       "    }\n",
       "\n",
       "    .dataframe tbody tr th {\n",
       "        vertical-align: top;\n",
       "    }\n",
       "\n",
       "    .dataframe thead th {\n",
       "        text-align: right;\n",
       "    }\n",
       "</style>\n",
       "<table border=\"1\" class=\"dataframe\">\n",
       "  <thead>\n",
       "    <tr style=\"text-align: right;\">\n",
       "      <th></th>\n",
       "      <th>X0</th>\n",
       "      <th>X1</th>\n",
       "      <th>label</th>\n",
       "    </tr>\n",
       "  </thead>\n",
       "  <tbody>\n",
       "    <tr>\n",
       "      <th>0</th>\n",
       "      <td>0.754246</td>\n",
       "      <td>0.231481</td>\n",
       "      <td>1</td>\n",
       "    </tr>\n",
       "    <tr>\n",
       "      <th>1</th>\n",
       "      <td>-0.756159</td>\n",
       "      <td>0.153259</td>\n",
       "      <td>1</td>\n",
       "    </tr>\n",
       "    <tr>\n",
       "      <th>2</th>\n",
       "      <td>-0.815392</td>\n",
       "      <td>0.173282</td>\n",
       "      <td>1</td>\n",
       "    </tr>\n",
       "    <tr>\n",
       "      <th>3</th>\n",
       "      <td>-0.393731</td>\n",
       "      <td>0.692883</td>\n",
       "      <td>1</td>\n",
       "    </tr>\n",
       "    <tr>\n",
       "      <th>4</th>\n",
       "      <td>0.442208</td>\n",
       "      <td>-0.896723</td>\n",
       "      <td>0</td>\n",
       "    </tr>\n",
       "  </tbody>\n",
       "</table>\n",
       "</div>"
      ],
      "text/plain": [
       "         X0        X1  label\n",
       "0  0.754246  0.231481      1\n",
       "1 -0.756159  0.153259      1\n",
       "2 -0.815392  0.173282      1\n",
       "3 -0.393731  0.692883      1\n",
       "4  0.442208 -0.896723      0"
      ]
     },
     "execution_count": 9,
     "metadata": {},
     "output_type": "execute_result"
    }
   ],
   "source": [
    "circle_df = pd.DataFrame({\n",
    "    \"X0\":X[:,0],\n",
    "    \"X1\":X[:,1],\n",
    "    \"label\":y\n",
    "})\n",
    "circle_df.head()"
   ]
  },
  {
   "cell_type": "code",
   "execution_count": 10,
   "id": "2f0a272d",
   "metadata": {},
   "outputs": [
    {
     "data": {
      "image/png": "[encoded data removed]",
      "text/plain": [
       "<Figure size 432x432 with 1 Axes>"
      ]
     },
     "metadata": {
      "needs_background": "light"
     },
     "output_type": "display_data"
    }
   ],
   "source": [
    "plt.figure(figsize=[6,6])\n",
    "\n",
    "plt.scatter(data=circle_df, x=\"X0\",y=\"X1\",c=\"label\", cmap=plt.cm.RdYlBu);"
   ]
  },
  {
   "cell_type": "markdown",
   "id": "ed4979b9",
   "metadata": {},
   "source": [
    "The model we want to build will tell wether a given point is red or blue"
   ]
  },
  {
   "cell_type": "markdown",
   "id": "1971f975",
   "metadata": {},
   "source": [
    "🛠️ **Exercise**: Spend some 20 minutes playing around with [https://playground.tensorflow.org](https://playground.tensorflow.org/#activation=tanh&batchSize=10&dataset=circle&regDataset=reg-plane&learningRate=0.03&regularizationRate=0&noise=0&networkShape=4,2&seed=0.14726&showTestData=false&discretize=false&percTrainData=50&x=true&y=true&xTimesY=false&xSquared=false&ySquared=false&cosX=false&sinX=false&cosY=false&sinY=false&collectStats=false&problem=classification&initZero=false&hideText=false) building and running different neural networks. See what happens when you change different hyperparameters."
   ]
  },
  {
   "cell_type": "code",
   "execution_count": null,
   "id": "89794833",
   "metadata": {},
   "outputs": [],
   "source": []
  },
  {
   "cell_type": "markdown",
   "id": "c77c901e",
   "metadata": {},
   "source": [
    "## Steps in creating a classification model\n",
    "Those steps are:\n",
    "1. Create or import a model\n",
    "1. Compile the model\n",
    "1. Fit the model\n",
    "1. Evaluate the model\n",
    "1. Tweak the model\n",
    "1. Evaluate the model\n",
    "1. An iteration of the previous two steps"
   ]
  },
  {
   "cell_type": "code",
   "execution_count": 11,
   "id": "c5622945",
   "metadata": {},
   "outputs": [
    {
     "name": "stdout",
     "output_type": "stream",
     "text": [
      "Epoch 1/5\n",
      "32/32 [==============================] - 0s 1ms/step - loss: 4.6955 - accuracy: 0.4850\n",
      "Epoch 2/5\n",
      "32/32 [==============================] - 0s 1ms/step - loss: 5.2826 - accuracy: 0.5550\n",
      "Epoch 3/5\n",
      "32/32 [==============================] - 0s 2ms/step - loss: 4.9352 - accuracy: 0.5510\n",
      "Epoch 4/5\n",
      "32/32 [==============================] - 0s 2ms/step - loss: 6.0908 - accuracy: 0.5030\n",
      "Epoch 5/5\n",
      "32/32 [==============================] - 0s 2ms/step - loss: 5.8534 - accuracy: 0.5140\n"
     ]
    },
    {
     "data": {
      "text/plain": [
       "<keras.callbacks.History at 0x250af73c9a0>"
      ]
     },
     "execution_count": 11,
     "metadata": {},
     "output_type": "execute_result"
    }
   ],
   "source": [
    "# Set the random seed\n",
    "tf.random.set_seed(42)\n",
    "\n",
    "# 1. Creating a model using the Sequential API\n",
    "model_1 = tf.keras.models.Sequential([\n",
    "    tf.keras.layers.Dense(1)\n",
    "])\n",
    "\n",
    "# 2. Compile the model\n",
    "model_1.compile(loss=tf.keras.losses.BinaryCrossentropy(), #.binary_crossentropy,\n",
    "                optimizer=tf.keras.optimizers.SGD(),\n",
    "               metrics=[\"accuracy\"])\n",
    "\n",
    "# 3. Fit the model\n",
    "model_1.fit(X,y, epochs=5, verbose=1)"
   ]
  },
  {
   "cell_type": "markdown",
   "id": "c92167a1",
   "metadata": {},
   "source": [
    "The accuracy is 0.4960, 49.6%. This means that on average, out of 100 examples, the model only gets 50 examples right. This in turn mean that the model is basically guessing."
   ]
  },
  {
   "cell_type": "markdown",
   "id": "18eeaf47",
   "metadata": {},
   "source": [
    "Let's try and improve the model by training for longer."
   ]
  },
  {
   "cell_type": "code",
   "execution_count": 12,
   "id": "df6ed7fb",
   "metadata": {},
   "outputs": [
    {
     "name": "stdout",
     "output_type": "stream",
     "text": [
      "Epoch 1/200\n",
      "32/32 [==============================] - 0s 2ms/step - loss: 4.8455 - accuracy: 0.5270\n",
      "Epoch 2/200\n",
      "32/32 [==============================] - 0s 1ms/step - loss: 4.5462 - accuracy: 0.5230\n",
      "Epoch 3/200\n",
      "32/32 [==============================] - 0s 1ms/step - loss: 4.5197 - accuracy: 0.5290\n",
      "Epoch 4/200\n",
      "32/32 [==============================] - 0s 1ms/step - loss: 4.9783 - accuracy: 0.5140\n",
      "Epoch 5/200\n",
      "32/32 [==============================] - 0s 2ms/step - loss: 5.2005 - accuracy: 0.5220\n",
      "Epoch 6/200\n",
      "32/32 [==============================] - 0s 2ms/step - loss: 4.1825 - accuracy: 0.5260\n",
      "Epoch 7/200\n",
      "32/32 [==============================] - 0s 2ms/step - loss: 3.8111 - accuracy: 0.5180\n",
      "Epoch 8/200\n",
      "32/32 [==============================] - 0s 2ms/step - loss: 3.4553 - accuracy: 0.5190\n",
      "Epoch 9/200\n",
      "32/32 [==============================] - 0s 2ms/step - loss: 1.9556 - accuracy: 0.5080\n",
      "Epoch 10/200\n",
      "32/32 [==============================] - 0s 2ms/step - loss: 0.7281 - accuracy: 0.4900\n",
      "Epoch 11/200\n",
      "32/32 [==============================] - 0s 3ms/step - loss: 0.7049 - accuracy: 0.4940\n",
      "Epoch 12/200\n",
      "32/32 [==============================] - 0s 3ms/step - loss: 0.6983 - accuracy: 0.4920\n",
      "Epoch 13/200\n",
      "32/32 [==============================] - 0s 2ms/step - loss: 0.6953 - accuracy: 0.4950\n",
      "Epoch 14/200\n",
      "32/32 [==============================] - 0s 2ms/step - loss: 0.6949 - accuracy: 0.5110\n",
      "Epoch 15/200\n",
      "32/32 [==============================] - 0s 3ms/step - loss: 0.6941 - accuracy: 0.4740\n",
      "Epoch 16/200\n",
      "32/32 [==============================] - 0s 3ms/step - loss: 0.6943 - accuracy: 0.4500\n",
      "Epoch 17/200\n",
      "32/32 [==============================] - 0s 3ms/step - loss: 0.6941 - accuracy: 0.5000\n",
      "Epoch 18/200\n",
      "32/32 [==============================] - 0s 3ms/step - loss: 0.6940 - accuracy: 0.4680\n",
      "Epoch 19/200\n",
      "32/32 [==============================] - 0s 3ms/step - loss: 0.6941 - accuracy: 0.4850\n",
      "Epoch 20/200\n",
      "32/32 [==============================] - 0s 3ms/step - loss: 0.6941 - accuracy: 0.4550\n",
      "Epoch 21/200\n",
      "32/32 [==============================] - 0s 3ms/step - loss: 0.6939 - accuracy: 0.4970\n",
      "Epoch 22/200\n",
      "32/32 [==============================] - 0s 3ms/step - loss: 0.6942 - accuracy: 0.4690\n",
      "Epoch 23/200\n",
      "32/32 [==============================] - 0s 3ms/step - loss: 0.6940 - accuracy: 0.4790\n",
      "Epoch 24/200\n",
      "32/32 [==============================] - 0s 3ms/step - loss: 0.6942 - accuracy: 0.4640\n",
      "Epoch 25/200\n",
      "32/32 [==============================] - 0s 3ms/step - loss: 0.6939 - accuracy: 0.4890\n",
      "Epoch 26/200\n",
      "32/32 [==============================] - 0s 3ms/step - loss: 0.6943 - accuracy: 0.4740\n",
      "Epoch 27/200\n",
      "32/32 [==============================] - 0s 3ms/step - loss: 0.6938 - accuracy: 0.5060\n",
      "Epoch 28/200\n",
      "32/32 [==============================] - 0s 3ms/step - loss: 0.6943 - accuracy: 0.4690\n",
      "Epoch 29/200\n",
      "32/32 [==============================] - 0s 3ms/step - loss: 0.6942 - accuracy: 0.4620\n",
      "Epoch 30/200\n",
      "32/32 [==============================] - 0s 3ms/step - loss: 0.6941 - accuracy: 0.4870\n",
      "Epoch 31/200\n",
      "32/32 [==============================] - 0s 3ms/step - loss: 0.6942 - accuracy: 0.5230\n",
      "Epoch 32/200\n",
      "32/32 [==============================] - 0s 3ms/step - loss: 0.6941 - accuracy: 0.4670\n",
      "Epoch 33/200\n",
      "32/32 [==============================] - 0s 3ms/step - loss: 0.6942 - accuracy: 0.4760\n",
      "Epoch 34/200\n",
      "32/32 [==============================] - 0s 3ms/step - loss: 0.6946 - accuracy: 0.4590\n",
      "Epoch 35/200\n",
      "32/32 [==============================] - 0s 3ms/step - loss: 0.6941 - accuracy: 0.5010\n",
      "Epoch 36/200\n",
      "32/32 [==============================] - 0s 3ms/step - loss: 0.6943 - accuracy: 0.4710\n",
      "Epoch 37/200\n",
      "32/32 [==============================] - 0s 2ms/step - loss: 0.6940 - accuracy: 0.5020\n",
      "Epoch 38/200\n",
      "32/32 [==============================] - 0s 2ms/step - loss: 0.6940 - accuracy: 0.4670\n",
      "Epoch 39/200\n",
      "32/32 [==============================] - 0s 2ms/step - loss: 0.6941 - accuracy: 0.4350\n",
      "Epoch 40/200\n",
      "32/32 [==============================] - 0s 2ms/step - loss: 0.6948 - accuracy: 0.4720\n",
      "Epoch 41/200\n",
      "32/32 [==============================] - 0s 2ms/step - loss: 0.6941 - accuracy: 0.4730\n",
      "Epoch 42/200\n",
      "32/32 [==============================] - 0s 2ms/step - loss: 0.6941 - accuracy: 0.4640\n",
      "Epoch 43/200\n",
      "32/32 [==============================] - 0s 2ms/step - loss: 0.6942 - accuracy: 0.4850\n",
      "Epoch 44/200\n",
      "32/32 [==============================] - 0s 2ms/step - loss: 0.6935 - accuracy: 0.5080\n",
      "Epoch 45/200\n",
      "32/32 [==============================] - 0s 2ms/step - loss: 0.6944 - accuracy: 0.4710\n",
      "Epoch 46/200\n",
      "32/32 [==============================] - 0s 3ms/step - loss: 0.6942 - accuracy: 0.4850\n",
      "Epoch 47/200\n",
      "32/32 [==============================] - 0s 3ms/step - loss: 0.6939 - accuracy: 0.4940\n",
      "Epoch 48/200\n",
      "32/32 [==============================] - 0s 3ms/step - loss: 0.6939 - accuracy: 0.4900\n",
      "Epoch 49/200\n",
      "32/32 [==============================] - 0s 3ms/step - loss: 0.6941 - accuracy: 0.4770\n",
      "Epoch 50/200\n",
      "32/32 [==============================] - 0s 3ms/step - loss: 0.6941 - accuracy: 0.4980\n",
      "Epoch 51/200\n",
      "32/32 [==============================] - 0s 3ms/step - loss: 0.6942 - accuracy: 0.4820\n",
      "Epoch 52/200\n",
      "32/32 [==============================] - 0s 3ms/step - loss: 0.6941 - accuracy: 0.4890\n",
      "Epoch 53/200\n",
      "32/32 [==============================] - 0s 3ms/step - loss: 0.6939 - accuracy: 0.4690\n",
      "Epoch 54/200\n",
      "32/32 [==============================] - 0s 3ms/step - loss: 0.6943 - accuracy: 0.4920\n",
      "Epoch 55/200\n",
      "32/32 [==============================] - 0s 3ms/step - loss: 0.6942 - accuracy: 0.4970\n",
      "Epoch 56/200\n",
      "32/32 [==============================] - 0s 3ms/step - loss: 0.6940 - accuracy: 0.4800\n",
      "Epoch 57/200\n",
      "32/32 [==============================] - 0s 3ms/step - loss: 0.6944 - accuracy: 0.4710\n",
      "Epoch 58/200\n",
      "32/32 [==============================] - 0s 3ms/step - loss: 0.6942 - accuracy: 0.4870\n",
      "Epoch 59/200\n",
      "32/32 [==============================] - 0s 3ms/step - loss: 0.6939 - accuracy: 0.5030\n",
      "Epoch 60/200\n",
      "32/32 [==============================] - 0s 3ms/step - loss: 0.6942 - accuracy: 0.5060\n",
      "Epoch 61/200\n",
      "32/32 [==============================] - 0s 3ms/step - loss: 0.6944 - accuracy: 0.4990\n",
      "Epoch 62/200\n",
      "32/32 [==============================] - 0s 2ms/step - loss: 0.6941 - accuracy: 0.4760\n",
      "Epoch 63/200\n",
      "32/32 [==============================] - 0s 3ms/step - loss: 0.6940 - accuracy: 0.4690\n",
      "Epoch 64/200\n",
      "32/32 [==============================] - 0s 2ms/step - loss: 0.6942 - accuracy: 0.4930\n",
      "Epoch 65/200\n",
      "32/32 [==============================] - 0s 3ms/step - loss: 0.6943 - accuracy: 0.4690\n",
      "Epoch 66/200\n",
      "32/32 [==============================] - 0s 3ms/step - loss: 0.6940 - accuracy: 0.4770\n",
      "Epoch 67/200\n",
      "32/32 [==============================] - 0s 2ms/step - loss: 0.6945 - accuracy: 0.4670\n",
      "Epoch 68/200\n",
      "32/32 [==============================] - 0s 3ms/step - loss: 0.6939 - accuracy: 0.4680\n",
      "Epoch 69/200\n",
      "32/32 [==============================] - 0s 3ms/step - loss: 0.6943 - accuracy: 0.5070\n",
      "Epoch 70/200\n",
      "32/32 [==============================] - 0s 3ms/step - loss: 0.6943 - accuracy: 0.4630\n",
      "Epoch 71/200\n",
      "32/32 [==============================] - 0s 3ms/step - loss: 0.6939 - accuracy: 0.4820\n",
      "Epoch 72/200\n",
      "32/32 [==============================] - 0s 3ms/step - loss: 0.6942 - accuracy: 0.4890\n",
      "Epoch 73/200\n",
      "32/32 [==============================] - 0s 2ms/step - loss: 0.6941 - accuracy: 0.4760\n",
      "Epoch 74/200\n",
      "32/32 [==============================] - 0s 3ms/step - loss: 0.6940 - accuracy: 0.5090\n",
      "Epoch 75/200\n",
      "32/32 [==============================] - 0s 3ms/step - loss: 0.6941 - accuracy: 0.4940\n",
      "Epoch 76/200\n",
      "32/32 [==============================] - 0s 3ms/step - loss: 0.6940 - accuracy: 0.5010\n",
      "Epoch 77/200\n",
      "32/32 [==============================] - 0s 3ms/step - loss: 0.6942 - accuracy: 0.4870\n",
      "Epoch 78/200\n",
      "32/32 [==============================] - 0s 3ms/step - loss: 0.6941 - accuracy: 0.4610\n",
      "Epoch 79/200\n",
      "32/32 [==============================] - 0s 3ms/step - loss: 0.6940 - accuracy: 0.4860\n",
      "Epoch 80/200\n",
      "32/32 [==============================] - 0s 3ms/step - loss: 0.6943 - accuracy: 0.5050\n",
      "Epoch 81/200\n",
      "32/32 [==============================] - 0s 3ms/step - loss: 0.6943 - accuracy: 0.5050\n",
      "Epoch 82/200\n",
      "32/32 [==============================] - 0s 3ms/step - loss: 0.6941 - accuracy: 0.4690\n",
      "Epoch 83/200\n"
     ]
    },
    {
     "name": "stdout",
     "output_type": "stream",
     "text": [
      "32/32 [==============================] - 0s 3ms/step - loss: 0.6941 - accuracy: 0.4930\n",
      "Epoch 84/200\n",
      "32/32 [==============================] - 0s 3ms/step - loss: 0.6942 - accuracy: 0.4960\n",
      "Epoch 85/200\n",
      "32/32 [==============================] - 0s 2ms/step - loss: 0.6939 - accuracy: 0.4930\n",
      "Epoch 86/200\n",
      "32/32 [==============================] - 0s 3ms/step - loss: 0.6940 - accuracy: 0.4880\n",
      "Epoch 87/200\n",
      "32/32 [==============================] - 0s 2ms/step - loss: 0.6942 - accuracy: 0.4720\n",
      "Epoch 88/200\n",
      "32/32 [==============================] - 0s 2ms/step - loss: 0.6944 - accuracy: 0.4470\n",
      "Epoch 89/200\n",
      "32/32 [==============================] - 0s 3ms/step - loss: 0.6945 - accuracy: 0.4720\n",
      "Epoch 90/200\n",
      "32/32 [==============================] - 0s 3ms/step - loss: 0.6941 - accuracy: 0.4820\n",
      "Epoch 91/200\n",
      "32/32 [==============================] - 0s 3ms/step - loss: 0.6944 - accuracy: 0.4860\n",
      "Epoch 92/200\n",
      "32/32 [==============================] - 0s 2ms/step - loss: 0.6941 - accuracy: 0.5050\n",
      "Epoch 93/200\n",
      "32/32 [==============================] - 0s 2ms/step - loss: 0.6941 - accuracy: 0.4720\n",
      "Epoch 94/200\n",
      "32/32 [==============================] - 0s 3ms/step - loss: 0.6946 - accuracy: 0.4770\n",
      "Epoch 95/200\n",
      "32/32 [==============================] - 0s 3ms/step - loss: 0.6940 - accuracy: 0.4760\n",
      "Epoch 96/200\n",
      "32/32 [==============================] - 0s 2ms/step - loss: 0.6945 - accuracy: 0.4610\n",
      "Epoch 97/200\n",
      "32/32 [==============================] - 0s 2ms/step - loss: 0.6942 - accuracy: 0.4690\n",
      "Epoch 98/200\n",
      "32/32 [==============================] - 0s 2ms/step - loss: 0.6942 - accuracy: 0.4840\n",
      "Epoch 99/200\n",
      "32/32 [==============================] - 0s 3ms/step - loss: 0.6944 - accuracy: 0.4980\n",
      "Epoch 100/200\n",
      "32/32 [==============================] - 0s 2ms/step - loss: 0.6943 - accuracy: 0.4850\n",
      "Epoch 101/200\n",
      "32/32 [==============================] - 0s 3ms/step - loss: 0.6939 - accuracy: 0.5060\n",
      "Epoch 102/200\n",
      "32/32 [==============================] - 0s 2ms/step - loss: 0.6946 - accuracy: 0.4750\n",
      "Epoch 103/200\n",
      "32/32 [==============================] - 0s 2ms/step - loss: 0.6944 - accuracy: 0.4760\n",
      "Epoch 104/200\n",
      "32/32 [==============================] - 0s 2ms/step - loss: 0.6941 - accuracy: 0.4900\n",
      "Epoch 105/200\n",
      "32/32 [==============================] - 0s 3ms/step - loss: 0.6939 - accuracy: 0.4960\n",
      "Epoch 106/200\n",
      "32/32 [==============================] - 0s 2ms/step - loss: 0.6940 - accuracy: 0.4950\n",
      "Epoch 107/200\n",
      "32/32 [==============================] - 0s 3ms/step - loss: 0.6938 - accuracy: 0.4690\n",
      "Epoch 108/200\n",
      "32/32 [==============================] - 0s 3ms/step - loss: 0.6943 - accuracy: 0.4940\n",
      "Epoch 109/200\n",
      "32/32 [==============================] - 0s 2ms/step - loss: 0.6942 - accuracy: 0.4510\n",
      "Epoch 110/200\n",
      "32/32 [==============================] - 0s 2ms/step - loss: 0.6944 - accuracy: 0.4570\n",
      "Epoch 111/200\n",
      "32/32 [==============================] - 0s 2ms/step - loss: 0.6943 - accuracy: 0.4820\n",
      "Epoch 112/200\n",
      "32/32 [==============================] - 0s 2ms/step - loss: 0.6946 - accuracy: 0.4770\n",
      "Epoch 113/200\n",
      "32/32 [==============================] - 0s 3ms/step - loss: 0.6944 - accuracy: 0.4740\n",
      "Epoch 114/200\n",
      "32/32 [==============================] - 0s 2ms/step - loss: 0.6944 - accuracy: 0.4660\n",
      "Epoch 115/200\n",
      "32/32 [==============================] - 0s 2ms/step - loss: 0.6941 - accuracy: 0.4690\n",
      "Epoch 116/200\n",
      "32/32 [==============================] - 0s 2ms/step - loss: 0.6942 - accuracy: 0.4830\n",
      "Epoch 117/200\n",
      "32/32 [==============================] - 0s 2ms/step - loss: 0.6943 - accuracy: 0.5000\n",
      "Epoch 118/200\n",
      "32/32 [==============================] - 0s 2ms/step - loss: 0.6939 - accuracy: 0.4990\n",
      "Epoch 119/200\n",
      "32/32 [==============================] - 0s 3ms/step - loss: 0.6944 - accuracy: 0.4750\n",
      "Epoch 120/200\n",
      "32/32 [==============================] - 0s 2ms/step - loss: 0.6940 - accuracy: 0.4980\n",
      "Epoch 121/200\n",
      "32/32 [==============================] - 0s 2ms/step - loss: 0.6942 - accuracy: 0.4740\n",
      "Epoch 122/200\n",
      "32/32 [==============================] - 0s 2ms/step - loss: 0.6941 - accuracy: 0.4920\n",
      "Epoch 123/200\n",
      "32/32 [==============================] - 0s 3ms/step - loss: 0.6944 - accuracy: 0.4640\n",
      "Epoch 124/200\n",
      "32/32 [==============================] - 0s 2ms/step - loss: 0.6943 - accuracy: 0.4660\n",
      "Epoch 125/200\n",
      "32/32 [==============================] - 0s 3ms/step - loss: 0.6940 - accuracy: 0.4800\n",
      "Epoch 126/200\n",
      "32/32 [==============================] - 0s 3ms/step - loss: 0.6941 - accuracy: 0.4960\n",
      "Epoch 127/200\n",
      "32/32 [==============================] - 0s 2ms/step - loss: 0.6942 - accuracy: 0.4760\n",
      "Epoch 128/200\n",
      "32/32 [==============================] - 0s 3ms/step - loss: 0.6943 - accuracy: 0.4920\n",
      "Epoch 129/200\n",
      "32/32 [==============================] - 0s 3ms/step - loss: 0.6939 - accuracy: 0.5100\n",
      "Epoch 130/200\n",
      "32/32 [==============================] - 0s 3ms/step - loss: 0.6936 - accuracy: 0.4840\n",
      "Epoch 131/200\n",
      "32/32 [==============================] - 0s 3ms/step - loss: 0.6944 - accuracy: 0.4780\n",
      "Epoch 132/200\n",
      "32/32 [==============================] - 0s 3ms/step - loss: 0.6939 - accuracy: 0.4760\n",
      "Epoch 133/200\n",
      "32/32 [==============================] - 0s 2ms/step - loss: 0.6942 - accuracy: 0.4800\n",
      "Epoch 134/200\n",
      "32/32 [==============================] - 0s 2ms/step - loss: 0.6944 - accuracy: 0.4740\n",
      "Epoch 135/200\n",
      "32/32 [==============================] - 0s 2ms/step - loss: 0.6943 - accuracy: 0.4670\n",
      "Epoch 136/200\n",
      "32/32 [==============================] - 0s 3ms/step - loss: 0.6944 - accuracy: 0.4590\n",
      "Epoch 137/200\n",
      "32/32 [==============================] - 0s 3ms/step - loss: 0.6943 - accuracy: 0.4840\n",
      "Epoch 138/200\n",
      "32/32 [==============================] - 0s 2ms/step - loss: 0.6943 - accuracy: 0.4610\n",
      "Epoch 139/200\n",
      "32/32 [==============================] - 0s 2ms/step - loss: 0.6942 - accuracy: 0.4810\n",
      "Epoch 140/200\n",
      "32/32 [==============================] - 0s 2ms/step - loss: 0.6942 - accuracy: 0.4610\n",
      "Epoch 141/200\n",
      "32/32 [==============================] - 0s 2ms/step - loss: 0.6941 - accuracy: 0.4630\n",
      "Epoch 142/200\n",
      "32/32 [==============================] - 0s 2ms/step - loss: 0.6941 - accuracy: 0.4790\n",
      "Epoch 143/200\n",
      "32/32 [==============================] - 0s 2ms/step - loss: 0.6943 - accuracy: 0.4790\n",
      "Epoch 144/200\n",
      "32/32 [==============================] - 0s 2ms/step - loss: 0.6943 - accuracy: 0.4650\n",
      "Epoch 145/200\n",
      "32/32 [==============================] - 0s 2ms/step - loss: 0.6943 - accuracy: 0.4990\n",
      "Epoch 146/200\n",
      "32/32 [==============================] - 0s 2ms/step - loss: 0.6945 - accuracy: 0.4570\n",
      "Epoch 147/200\n",
      "32/32 [==============================] - 0s 2ms/step - loss: 0.6943 - accuracy: 0.5110\n",
      "Epoch 148/200\n",
      "32/32 [==============================] - 0s 3ms/step - loss: 0.6943 - accuracy: 0.4880\n",
      "Epoch 149/200\n",
      "32/32 [==============================] - 0s 3ms/step - loss: 0.6941 - accuracy: 0.4500\n",
      "Epoch 150/200\n",
      "32/32 [==============================] - 0s 2ms/step - loss: 0.6943 - accuracy: 0.4700\n",
      "Epoch 151/200\n",
      "32/32 [==============================] - 0s 2ms/step - loss: 0.6938 - accuracy: 0.4620\n",
      "Epoch 152/200\n",
      "32/32 [==============================] - 0s 2ms/step - loss: 0.6940 - accuracy: 0.4990\n",
      "Epoch 153/200\n",
      "32/32 [==============================] - 0s 2ms/step - loss: 0.6942 - accuracy: 0.4870\n",
      "Epoch 154/200\n",
      "32/32 [==============================] - 0s 2ms/step - loss: 0.6936 - accuracy: 0.4810\n",
      "Epoch 155/200\n",
      "32/32 [==============================] - 0s 2ms/step - loss: 0.6944 - accuracy: 0.4780\n",
      "Epoch 156/200\n",
      "32/32 [==============================] - 0s 2ms/step - loss: 0.6944 - accuracy: 0.4680\n",
      "Epoch 157/200\n",
      "32/32 [==============================] - 0s 2ms/step - loss: 0.6944 - accuracy: 0.4990\n",
      "Epoch 158/200\n",
      "32/32 [==============================] - 0s 2ms/step - loss: 0.6940 - accuracy: 0.4940\n",
      "Epoch 159/200\n",
      "32/32 [==============================] - 0s 3ms/step - loss: 0.6943 - accuracy: 0.4710\n",
      "Epoch 160/200\n",
      "32/32 [==============================] - 0s 3ms/step - loss: 0.6943 - accuracy: 0.4880\n",
      "Epoch 161/200\n",
      "32/32 [==============================] - 0s 3ms/step - loss: 0.6942 - accuracy: 0.4770\n",
      "Epoch 162/200\n",
      "32/32 [==============================] - 0s 2ms/step - loss: 0.6943 - accuracy: 0.4920\n",
      "Epoch 163/200\n",
      "32/32 [==============================] - 0s 2ms/step - loss: 0.6946 - accuracy: 0.4690\n",
      "Epoch 164/200\n"
     ]
    },
    {
     "name": "stdout",
     "output_type": "stream",
     "text": [
      "32/32 [==============================] - 0s 2ms/step - loss: 0.6943 - accuracy: 0.4610\n",
      "Epoch 165/200\n",
      "32/32 [==============================] - 0s 2ms/step - loss: 0.6939 - accuracy: 0.4970\n",
      "Epoch 166/200\n",
      "32/32 [==============================] - 0s 2ms/step - loss: 0.6942 - accuracy: 0.4800\n",
      "Epoch 167/200\n",
      "32/32 [==============================] - 0s 2ms/step - loss: 0.6948 - accuracy: 0.4930\n",
      "Epoch 168/200\n",
      "32/32 [==============================] - 0s 2ms/step - loss: 0.6941 - accuracy: 0.4690\n",
      "Epoch 169/200\n",
      "32/32 [==============================] - 0s 2ms/step - loss: 0.6940 - accuracy: 0.4880\n",
      "Epoch 170/200\n",
      "32/32 [==============================] - 0s 2ms/step - loss: 0.6938 - accuracy: 0.4850\n",
      "Epoch 171/200\n",
      "32/32 [==============================] - 0s 3ms/step - loss: 0.6939 - accuracy: 0.4980\n",
      "Epoch 172/200\n",
      "32/32 [==============================] - 0s 3ms/step - loss: 0.6942 - accuracy: 0.4770\n",
      "Epoch 173/200\n",
      "32/32 [==============================] - 0s 3ms/step - loss: 0.6942 - accuracy: 0.4730\n",
      "Epoch 174/200\n",
      "32/32 [==============================] - 0s 3ms/step - loss: 0.6943 - accuracy: 0.4950\n",
      "Epoch 175/200\n",
      "32/32 [==============================] - 0s 3ms/step - loss: 0.6946 - accuracy: 0.4900\n",
      "Epoch 176/200\n",
      "32/32 [==============================] - 0s 3ms/step - loss: 0.6942 - accuracy: 0.4770\n",
      "Epoch 177/200\n",
      "32/32 [==============================] - 0s 2ms/step - loss: 0.6941 - accuracy: 0.4670\n",
      "Epoch 178/200\n",
      "32/32 [==============================] - 0s 3ms/step - loss: 0.6941 - accuracy: 0.4840\n",
      "Epoch 179/200\n",
      "32/32 [==============================] - 0s 3ms/step - loss: 0.6943 - accuracy: 0.4880\n",
      "Epoch 180/200\n",
      "32/32 [==============================] - 0s 3ms/step - loss: 0.6942 - accuracy: 0.4960\n",
      "Epoch 181/200\n",
      "32/32 [==============================] - 0s 2ms/step - loss: 0.6943 - accuracy: 0.4890\n",
      "Epoch 182/200\n",
      "32/32 [==============================] - 0s 2ms/step - loss: 0.6941 - accuracy: 0.4760\n",
      "Epoch 183/200\n",
      "32/32 [==============================] - 0s 3ms/step - loss: 0.6942 - accuracy: 0.5030\n",
      "Epoch 184/200\n",
      "32/32 [==============================] - 0s 3ms/step - loss: 0.6943 - accuracy: 0.4890\n",
      "Epoch 185/200\n",
      "32/32 [==============================] - 0s 2ms/step - loss: 0.6944 - accuracy: 0.4890\n",
      "Epoch 186/200\n",
      "32/32 [==============================] - 0s 2ms/step - loss: 0.6945 - accuracy: 0.4810\n",
      "Epoch 187/200\n",
      "32/32 [==============================] - 0s 2ms/step - loss: 0.6943 - accuracy: 0.4760\n",
      "Epoch 188/200\n",
      "32/32 [==============================] - 0s 2ms/step - loss: 0.6943 - accuracy: 0.4910\n",
      "Epoch 189/200\n",
      "32/32 [==============================] - 0s 2ms/step - loss: 0.6940 - accuracy: 0.5120\n",
      "Epoch 190/200\n",
      "32/32 [==============================] - 0s 3ms/step - loss: 0.6943 - accuracy: 0.4720\n",
      "Epoch 191/200\n",
      "32/32 [==============================] - 0s 3ms/step - loss: 0.6941 - accuracy: 0.4770\n",
      "Epoch 192/200\n",
      "32/32 [==============================] - 0s 3ms/step - loss: 0.6940 - accuracy: 0.4970\n",
      "Epoch 193/200\n",
      "32/32 [==============================] - 0s 3ms/step - loss: 0.6939 - accuracy: 0.4720\n",
      "Epoch 194/200\n",
      "32/32 [==============================] - 0s 3ms/step - loss: 0.6941 - accuracy: 0.4940\n",
      "Epoch 195/200\n",
      "32/32 [==============================] - 0s 3ms/step - loss: 0.6942 - accuracy: 0.4660\n",
      "Epoch 196/200\n",
      "32/32 [==============================] - 0s 3ms/step - loss: 0.6943 - accuracy: 0.4740\n",
      "Epoch 197/200\n",
      "32/32 [==============================] - 0s 3ms/step - loss: 0.6942 - accuracy: 0.4890\n",
      "Epoch 198/200\n",
      "32/32 [==============================] - 0s 3ms/step - loss: 0.6943 - accuracy: 0.4830\n",
      "Epoch 199/200\n",
      "32/32 [==============================] - 0s 3ms/step - loss: 0.6937 - accuracy: 0.5120\n",
      "Epoch 200/200\n",
      "32/32 [==============================] - 0s 2ms/step - loss: 0.6941 - accuracy: 0.4810\n"
     ]
    }
   ],
   "source": [
    "# Let's train for 200 more epochs (for a total of 205 epochs)\n",
    "history = model_1.fit(X,y, epochs=200, verbose=1)"
   ]
  },
  {
   "cell_type": "markdown",
   "id": "d8de8a71",
   "metadata": {},
   "source": [
    "The accuracy here is 0.4810, 48%. The model performance did not improved that much."
   ]
  },
  {
   "cell_type": "code",
   "execution_count": 13,
   "id": "bc8d9d42",
   "metadata": {},
   "outputs": [
    {
     "data": {
      "image/png": "[encoded data removed]",
      "text/plain": [
       "<Figure size 432x288 with 1 Axes>"
      ]
     },
     "metadata": {
      "needs_background": "light"
     },
     "output_type": "display_data"
    }
   ],
   "source": [
    "# Plot history\n",
    "history_df = pd.DataFrame(history.history)\n",
    "history_df.plot(kind=\"line\",y=\"loss\")\n",
    "plt.ylabel(\"Loss\")\n",
    "plt.xlabel(\"Epochs\");"
   ]
  },
  {
   "cell_type": "markdown",
   "id": "dc720554",
   "metadata": {},
   "source": [
    "And looking at the plot, our model is performing really poorly and seems unable to converge."
   ]
  },
  {
   "cell_type": "markdown",
   "id": "4bf707f2",
   "metadata": {},
   "source": [
    "Let's try to improve the model by setting an extra layer."
   ]
  },
  {
   "cell_type": "code",
   "execution_count": 14,
   "id": "eca950fc",
   "metadata": {},
   "outputs": [
    {
     "name": "stdout",
     "output_type": "stream",
     "text": [
      "Epoch 1/100\n",
      "32/32 [==============================] - 1s 3ms/step - loss: 1.7806 - accuracy: 0.4850\n",
      "Epoch 2/100\n",
      "32/32 [==============================] - 0s 3ms/step - loss: 0.6998 - accuracy: 0.4930\n",
      "Epoch 3/100\n",
      "32/32 [==============================] - 0s 3ms/step - loss: 0.6972 - accuracy: 0.4690\n",
      "Epoch 4/100\n",
      "32/32 [==============================] - 0s 3ms/step - loss: 0.6951 - accuracy: 0.4790\n",
      "Epoch 5/100\n",
      "32/32 [==============================] - 0s 3ms/step - loss: 0.6949 - accuracy: 0.4740\n",
      "Epoch 6/100\n",
      "32/32 [==============================] - 0s 3ms/step - loss: 0.6941 - accuracy: 0.5210\n",
      "Epoch 7/100\n",
      "32/32 [==============================] - 0s 3ms/step - loss: 0.6961 - accuracy: 0.4780\n",
      "Epoch 8/100\n",
      "32/32 [==============================] - 0s 3ms/step - loss: 0.6951 - accuracy: 0.4830\n",
      "Epoch 9/100\n",
      "32/32 [==============================] - 0s 3ms/step - loss: 0.6955 - accuracy: 0.4840\n",
      "Epoch 10/100\n",
      "32/32 [==============================] - 0s 3ms/step - loss: 0.6947 - accuracy: 0.4850\n",
      "Epoch 11/100\n",
      "32/32 [==============================] - 0s 3ms/step - loss: 0.6963 - accuracy: 0.4470\n",
      "Epoch 12/100\n",
      "32/32 [==============================] - 0s 3ms/step - loss: 0.6963 - accuracy: 0.4990\n",
      "Epoch 13/100\n",
      "32/32 [==============================] - 0s 3ms/step - loss: 0.6963 - accuracy: 0.4730\n",
      "Epoch 14/100\n",
      "32/32 [==============================] - 0s 2ms/step - loss: 0.6963 - accuracy: 0.4910\n",
      "Epoch 15/100\n",
      "32/32 [==============================] - 0s 3ms/step - loss: 0.6954 - accuracy: 0.4660\n",
      "Epoch 16/100\n",
      "32/32 [==============================] - 0s 3ms/step - loss: 0.6964 - accuracy: 0.4800\n",
      "Epoch 17/100\n",
      "32/32 [==============================] - 0s 3ms/step - loss: 0.6951 - accuracy: 0.4980\n",
      "Epoch 18/100\n",
      "32/32 [==============================] - 0s 3ms/step - loss: 0.6951 - accuracy: 0.4950\n",
      "Epoch 19/100\n",
      "32/32 [==============================] - 0s 3ms/step - loss: 0.6952 - accuracy: 0.5000\n",
      "Epoch 20/100\n",
      "32/32 [==============================] - 0s 3ms/step - loss: 0.6953 - accuracy: 0.4770\n",
      "Epoch 21/100\n",
      "32/32 [==============================] - 0s 3ms/step - loss: 0.6946 - accuracy: 0.4900\n",
      "Epoch 22/100\n",
      "32/32 [==============================] - 0s 3ms/step - loss: 0.6957 - accuracy: 0.4900\n",
      "Epoch 23/100\n",
      "32/32 [==============================] - 0s 3ms/step - loss: 0.6950 - accuracy: 0.4800\n",
      "Epoch 24/100\n",
      "32/32 [==============================] - 0s 3ms/step - loss: 0.6956 - accuracy: 0.4790\n",
      "Epoch 25/100\n",
      "32/32 [==============================] - 0s 3ms/step - loss: 0.6945 - accuracy: 0.4870\n",
      "Epoch 26/100\n",
      "32/32 [==============================] - 0s 3ms/step - loss: 0.6960 - accuracy: 0.4680\n",
      "Epoch 27/100\n",
      "32/32 [==============================] - 0s 3ms/step - loss: 0.6941 - accuracy: 0.5000\n",
      "Epoch 28/100\n",
      "32/32 [==============================] - 0s 2ms/step - loss: 0.6964 - accuracy: 0.4520\n",
      "Epoch 29/100\n",
      "32/32 [==============================] - 0s 3ms/step - loss: 0.6952 - accuracy: 0.4840\n",
      "Epoch 30/100\n",
      "32/32 [==============================] - 0s 2ms/step - loss: 0.6955 - accuracy: 0.4960\n",
      "Epoch 31/100\n",
      "32/32 [==============================] - 0s 2ms/step - loss: 0.6956 - accuracy: 0.5050\n",
      "Epoch 32/100\n",
      "32/32 [==============================] - 0s 2ms/step - loss: 0.6951 - accuracy: 0.4970\n",
      "Epoch 33/100\n",
      "32/32 [==============================] - 0s 3ms/step - loss: 0.6955 - accuracy: 0.4650\n",
      "Epoch 34/100\n",
      "32/32 [==============================] - 0s 3ms/step - loss: 0.6964 - accuracy: 0.4750\n",
      "Epoch 35/100\n",
      "32/32 [==============================] - 0s 3ms/step - loss: 0.6952 - accuracy: 0.5140\n",
      "Epoch 36/100\n",
      "32/32 [==============================] - 0s 3ms/step - loss: 0.6961 - accuracy: 0.4740\n",
      "Epoch 37/100\n",
      "32/32 [==============================] - 0s 3ms/step - loss: 0.6954 - accuracy: 0.4960\n",
      "Epoch 38/100\n",
      "32/32 [==============================] - 0s 3ms/step - loss: 0.6950 - accuracy: 0.4920\n",
      "Epoch 39/100\n",
      "32/32 [==============================] - 0s 2ms/step - loss: 0.6954 - accuracy: 0.4440\n",
      "Epoch 40/100\n",
      "32/32 [==============================] - 0s 2ms/step - loss: 0.6971 - accuracy: 0.4740\n",
      "Epoch 41/100\n",
      "32/32 [==============================] - 0s 3ms/step - loss: 0.6952 - accuracy: 0.4950\n",
      "Epoch 42/100\n",
      "32/32 [==============================] - 0s 3ms/step - loss: 0.6951 - accuracy: 0.4790\n",
      "Epoch 43/100\n",
      "32/32 [==============================] - 0s 3ms/step - loss: 0.6958 - accuracy: 0.4880\n",
      "Epoch 44/100\n",
      "32/32 [==============================] - 0s 3ms/step - loss: 0.6935 - accuracy: 0.5150\n",
      "Epoch 45/100\n",
      "32/32 [==============================] - 0s 3ms/step - loss: 0.6965 - accuracy: 0.4820\n",
      "Epoch 46/100\n",
      "32/32 [==============================] - 0s 3ms/step - loss: 0.6957 - accuracy: 0.4790\n",
      "Epoch 47/100\n",
      "32/32 [==============================] - 0s 3ms/step - loss: 0.6943 - accuracy: 0.5170\n",
      "Epoch 48/100\n",
      "32/32 [==============================] - 0s 2ms/step - loss: 0.6946 - accuracy: 0.5010\n",
      "Epoch 49/100\n",
      "32/32 [==============================] - 0s 3ms/step - loss: 0.6955 - accuracy: 0.4790\n",
      "Epoch 50/100\n",
      "32/32 [==============================] - 0s 3ms/step - loss: 0.6953 - accuracy: 0.5000\n",
      "Epoch 51/100\n",
      "32/32 [==============================] - 0s 2ms/step - loss: 0.6959 - accuracy: 0.4980\n",
      "Epoch 52/100\n",
      "32/32 [==============================] - 0s 2ms/step - loss: 0.6952 - accuracy: 0.5080\n",
      "Epoch 53/100\n",
      "32/32 [==============================] - 0s 2ms/step - loss: 0.6946 - accuracy: 0.4810\n",
      "Epoch 54/100\n",
      "32/32 [==============================] - 0s 2ms/step - loss: 0.6962 - accuracy: 0.4930\n",
      "Epoch 55/100\n",
      "32/32 [==============================] - 0s 2ms/step - loss: 0.6951 - accuracy: 0.4990\n",
      "Epoch 56/100\n",
      "32/32 [==============================] - 0s 3ms/step - loss: 0.6950 - accuracy: 0.4760\n",
      "Epoch 57/100\n",
      "32/32 [==============================] - 0s 3ms/step - loss: 0.6962 - accuracy: 0.4850\n",
      "Epoch 58/100\n",
      "32/32 [==============================] - 0s 3ms/step - loss: 0.6955 - accuracy: 0.4760\n",
      "Epoch 59/100\n",
      "32/32 [==============================] - 0s 2ms/step - loss: 0.6943 - accuracy: 0.5230\n",
      "Epoch 60/100\n",
      "32/32 [==============================] - 0s 2ms/step - loss: 0.6956 - accuracy: 0.5040\n",
      "Epoch 61/100\n",
      "32/32 [==============================] - 0s 2ms/step - loss: 0.6961 - accuracy: 0.4620\n",
      "Epoch 62/100\n",
      "32/32 [==============================] - 0s 2ms/step - loss: 0.6952 - accuracy: 0.4830\n",
      "Epoch 63/100\n",
      "32/32 [==============================] - 0s 2ms/step - loss: 0.6952 - accuracy: 0.4520\n",
      "Epoch 64/100\n",
      "32/32 [==============================] - 0s 3ms/step - loss: 0.6955 - accuracy: 0.5050\n",
      "Epoch 65/100\n",
      "32/32 [==============================] - 0s 2ms/step - loss: 0.6961 - accuracy: 0.4840\n",
      "Epoch 66/100\n",
      "32/32 [==============================] - 0s 2ms/step - loss: 0.6951 - accuracy: 0.4850\n",
      "Epoch 67/100\n",
      "32/32 [==============================] - 0s 2ms/step - loss: 0.6966 - accuracy: 0.4680\n",
      "Epoch 68/100\n",
      "32/32 [==============================] - 0s 3ms/step - loss: 0.6949 - accuracy: 0.4660\n",
      "Epoch 69/100\n",
      "32/32 [==============================] - 0s 3ms/step - loss: 0.6962 - accuracy: 0.4990\n",
      "Epoch 70/100\n",
      "32/32 [==============================] - 0s 3ms/step - loss: 0.6959 - accuracy: 0.4790\n",
      "Epoch 71/100\n",
      "32/32 [==============================] - 0s 3ms/step - loss: 0.6951 - accuracy: 0.4760\n",
      "Epoch 72/100\n",
      "32/32 [==============================] - 0s 2ms/step - loss: 0.6955 - accuracy: 0.4780\n",
      "Epoch 73/100\n",
      "32/32 [==============================] - 0s 2ms/step - loss: 0.6953 - accuracy: 0.4990\n",
      "Epoch 74/100\n",
      "32/32 [==============================] - 0s 2ms/step - loss: 0.6950 - accuracy: 0.5090\n",
      "Epoch 75/100\n",
      "32/32 [==============================] - 0s 2ms/step - loss: 0.6952 - accuracy: 0.4910\n",
      "Epoch 76/100\n",
      "32/32 [==============================] - 0s 2ms/step - loss: 0.6951 - accuracy: 0.5010\n",
      "Epoch 77/100\n",
      "32/32 [==============================] - 0s 2ms/step - loss: 0.6955 - accuracy: 0.4950\n",
      "Epoch 78/100\n",
      "32/32 [==============================] - 0s 2ms/step - loss: 0.6952 - accuracy: 0.4750\n",
      "Epoch 79/100\n",
      "32/32 [==============================] - 0s 2ms/step - loss: 0.6951 - accuracy: 0.5000\n",
      "Epoch 80/100\n",
      "32/32 [==============================] - 0s 2ms/step - loss: 0.6959 - accuracy: 0.4870\n",
      "Epoch 81/100\n",
      "32/32 [==============================] - 0s 3ms/step - loss: 0.6954 - accuracy: 0.4910\n",
      "Epoch 82/100\n",
      "32/32 [==============================] - 0s 3ms/step - loss: 0.6950 - accuracy: 0.4740\n",
      "Epoch 83/100\n"
     ]
    },
    {
     "name": "stdout",
     "output_type": "stream",
     "text": [
      "32/32 [==============================] - 0s 3ms/step - loss: 0.6949 - accuracy: 0.4820\n",
      "Epoch 84/100\n",
      "32/32 [==============================] - 0s 3ms/step - loss: 0.6961 - accuracy: 0.4880\n",
      "Epoch 85/100\n",
      "32/32 [==============================] - 0s 3ms/step - loss: 0.6949 - accuracy: 0.4910\n",
      "Epoch 86/100\n",
      "32/32 [==============================] - 0s 2ms/step - loss: 0.6949 - accuracy: 0.5040\n",
      "Epoch 87/100\n",
      "32/32 [==============================] - 0s 3ms/step - loss: 0.6959 - accuracy: 0.4810\n",
      "Epoch 88/100\n",
      "32/32 [==============================] - 0s 3ms/step - loss: 0.6962 - accuracy: 0.4530\n",
      "Epoch 89/100\n",
      "32/32 [==============================] - 0s 3ms/step - loss: 0.6961 - accuracy: 0.4780\n",
      "Epoch 90/100\n",
      "32/32 [==============================] - 0s 2ms/step - loss: 0.6950 - accuracy: 0.5030\n",
      "Epoch 91/100\n",
      "32/32 [==============================] - 0s 3ms/step - loss: 0.6962 - accuracy: 0.4880\n",
      "Epoch 92/100\n",
      "32/32 [==============================] - 0s 3ms/step - loss: 0.6952 - accuracy: 0.4970\n",
      "Epoch 93/100\n",
      "32/32 [==============================] - 0s 3ms/step - loss: 0.6948 - accuracy: 0.4990\n",
      "Epoch 94/100\n",
      "32/32 [==============================] - 0s 3ms/step - loss: 0.6968 - accuracy: 0.4890\n",
      "Epoch 95/100\n",
      "32/32 [==============================] - 0s 3ms/step - loss: 0.6950 - accuracy: 0.4820\n",
      "Epoch 96/100\n",
      "32/32 [==============================] - 0s 3ms/step - loss: 0.6961 - accuracy: 0.4760\n",
      "Epoch 97/100\n",
      "32/32 [==============================] - 0s 3ms/step - loss: 0.6955 - accuracy: 0.4760\n",
      "Epoch 98/100\n",
      "32/32 [==============================] - 0s 3ms/step - loss: 0.6955 - accuracy: 0.4720\n",
      "Epoch 99/100\n",
      "32/32 [==============================] - 0s 3ms/step - loss: 0.6961 - accuracy: 0.5010\n",
      "Epoch 100/100\n",
      "32/32 [==============================] - 0s 3ms/step - loss: 0.6956 - accuracy: 0.4590\n"
     ]
    }
   ],
   "source": [
    "# Set the random seed\n",
    "tf.random.set_seed(42)\n",
    "\n",
    "# 1. Create the model\n",
    "model_2 = tf.keras.models.Sequential([\n",
    "    tf.keras.layers.Dense(10),\n",
    "    tf.keras.layers.Dense(1)\n",
    "])\n",
    "\n",
    "# 2. Compile the model\n",
    "model_2.compile(loss=tf.keras.losses.BinaryCrossentropy(),\n",
    "               optimizer=tf.keras.optimizers.SGD(),\n",
    "               metrics=[\"accuracy\"])\n",
    "\n",
    "# 3. Fit the model\n",
    "history_2 = model_2.fit(X,y,epochs=100,verbose=1)"
   ]
  },
  {
   "cell_type": "markdown",
   "id": "9ec98072",
   "metadata": {},
   "source": [
    "The accuracy of model_2 is about the same as model_1 even with an extra layer."
   ]
  },
  {
   "cell_type": "code",
   "execution_count": 15,
   "id": "da796347",
   "metadata": {},
   "outputs": [
    {
     "data": {
      "image/png": "[encoded data removed]",
      "text/plain": [
       "<Figure size 432x288 with 1 Axes>"
      ]
     },
     "metadata": {
      "needs_background": "light"
     },
     "output_type": "display_data"
    }
   ],
   "source": [
    "# Plot history\n",
    "history_df2 = pd.DataFrame(history_2.history)\n",
    "history_df2.plot(kind=\"line\",y=\"loss\")\n",
    "plt.ylabel(\"Loss\")\n",
    "plt.xlabel(\"Epochs\");"
   ]
  },
  {
   "cell_type": "markdown",
   "id": "de50b0c6",
   "metadata": {},
   "source": [
    "We can also see from the above plot that the model is no more improving after its first epoch."
   ]
  },
  {
   "cell_type": "code",
   "execution_count": 16,
   "id": "8c3a3c7e",
   "metadata": {},
   "outputs": [
    {
     "data": {
      "image/png": "[encoded data removed]",
      "text/plain": [
       "<Figure size 432x288 with 1 Axes>"
      ]
     },
     "metadata": {
      "needs_background": "light"
     },
     "output_type": "display_data"
    }
   ],
   "source": [
    "history_df2.plot(kind=\"line\",y=\"accuracy\")\n",
    "plt.ylabel(\"Loss\")\n",
    "plt.xlabel(\"Epochs\");"
   ]
  },
  {
   "cell_type": "code",
   "execution_count": null,
   "id": "195698e8",
   "metadata": {},
   "outputs": [],
   "source": []
  },
  {
   "cell_type": "code",
   "execution_count": null,
   "id": "24a25609",
   "metadata": {},
   "outputs": [],
   "source": []
  },
  {
   "cell_type": "markdown",
   "id": "dfd0f140",
   "metadata": {},
   "source": [
    "## Improving a model"
   ]
  },
  {
   "cell_type": "code",
   "execution_count": null,
   "id": "d795775e",
   "metadata": {},
   "outputs": [],
   "source": []
  },
  {
   "cell_type": "code",
   "execution_count": 17,
   "id": "5730a482",
   "metadata": {},
   "outputs": [
    {
     "name": "stdout",
     "output_type": "stream",
     "text": [
      "Epoch 1/100\n",
      "32/32 [==============================] - 1s 3ms/step - loss: 3.3602 - accuracy: 0.4660\n",
      "Epoch 2/100\n",
      "32/32 [==============================] - 0s 3ms/step - loss: 0.7765 - accuracy: 0.4670\n",
      "Epoch 3/100\n",
      "32/32 [==============================] - 0s 3ms/step - loss: 0.7219 - accuracy: 0.4620\n",
      "Epoch 4/100\n",
      "32/32 [==============================] - 0s 3ms/step - loss: 0.7064 - accuracy: 0.4610\n",
      "Epoch 5/100\n",
      "32/32 [==============================] - 0s 3ms/step - loss: 0.6988 - accuracy: 0.4360\n",
      "Epoch 6/100\n",
      "32/32 [==============================] - 0s 3ms/step - loss: 0.6953 - accuracy: 0.4600\n",
      "Epoch 7/100\n",
      "32/32 [==============================] - 0s 3ms/step - loss: 0.6940 - accuracy: 0.4280\n",
      "Epoch 8/100\n",
      "32/32 [==============================] - 0s 3ms/step - loss: 0.6939 - accuracy: 0.4600\n",
      "Epoch 9/100\n",
      "32/32 [==============================] - 0s 3ms/step - loss: 0.6936 - accuracy: 0.4630\n",
      "Epoch 10/100\n",
      "32/32 [==============================] - 0s 3ms/step - loss: 0.6938 - accuracy: 0.4640\n",
      "Epoch 11/100\n",
      "32/32 [==============================] - 0s 3ms/step - loss: 0.6940 - accuracy: 0.4390\n",
      "Epoch 12/100\n",
      "32/32 [==============================] - 0s 3ms/step - loss: 0.6939 - accuracy: 0.4860\n",
      "Epoch 13/100\n",
      "32/32 [==============================] - 0s 3ms/step - loss: 0.6942 - accuracy: 0.4670\n",
      "Epoch 14/100\n",
      "32/32 [==============================] - 0s 3ms/step - loss: 0.6941 - accuracy: 0.4960\n",
      "Epoch 15/100\n",
      "32/32 [==============================] - 0s 3ms/step - loss: 0.6939 - accuracy: 0.4710\n",
      "Epoch 16/100\n",
      "32/32 [==============================] - 0s 3ms/step - loss: 0.6937 - accuracy: 0.4940\n",
      "Epoch 17/100\n",
      "32/32 [==============================] - 0s 3ms/step - loss: 0.6949 - accuracy: 0.4730\n",
      "Epoch 18/100\n",
      "32/32 [==============================] - 0s 3ms/step - loss: 0.6938 - accuracy: 0.4790\n",
      "Epoch 19/100\n",
      "32/32 [==============================] - 0s 3ms/step - loss: 0.6941 - accuracy: 0.4930\n",
      "Epoch 20/100\n",
      "32/32 [==============================] - 0s 3ms/step - loss: 0.6942 - accuracy: 0.4720\n",
      "Epoch 21/100\n",
      "32/32 [==============================] - 0s 3ms/step - loss: 0.6942 - accuracy: 0.4800\n",
      "Epoch 22/100\n",
      "32/32 [==============================] - 0s 3ms/step - loss: 0.6939 - accuracy: 0.4500\n",
      "Epoch 23/100\n",
      "32/32 [==============================] - 0s 3ms/step - loss: 0.6938 - accuracy: 0.4840\n",
      "Epoch 24/100\n",
      "32/32 [==============================] - 0s 3ms/step - loss: 0.6950 - accuracy: 0.4840\n",
      "Epoch 25/100\n",
      "32/32 [==============================] - 0s 3ms/step - loss: 0.6954 - accuracy: 0.4890\n",
      "Epoch 26/100\n",
      "32/32 [==============================] - 0s 3ms/step - loss: 0.6943 - accuracy: 0.5050\n",
      "Epoch 27/100\n",
      "32/32 [==============================] - 0s 3ms/step - loss: 0.6949 - accuracy: 0.5120\n",
      "Epoch 28/100\n",
      "32/32 [==============================] - 0s 3ms/step - loss: 0.6936 - accuracy: 0.4980\n",
      "Epoch 29/100\n",
      "32/32 [==============================] - 0s 3ms/step - loss: 0.6957 - accuracy: 0.4600\n",
      "Epoch 30/100\n",
      "32/32 [==============================] - 0s 3ms/step - loss: 0.6955 - accuracy: 0.4810\n",
      "Epoch 31/100\n",
      "32/32 [==============================] - 0s 3ms/step - loss: 0.6950 - accuracy: 0.4930\n",
      "Epoch 32/100\n",
      "32/32 [==============================] - 0s 3ms/step - loss: 0.6949 - accuracy: 0.4780\n",
      "Epoch 33/100\n",
      "32/32 [==============================] - 0s 3ms/step - loss: 0.6943 - accuracy: 0.4680\n",
      "Epoch 34/100\n",
      "32/32 [==============================] - 0s 3ms/step - loss: 0.6951 - accuracy: 0.4800\n",
      "Epoch 35/100\n",
      "32/32 [==============================] - 0s 3ms/step - loss: 0.6950 - accuracy: 0.5070\n",
      "Epoch 36/100\n",
      "32/32 [==============================] - 0s 3ms/step - loss: 0.6938 - accuracy: 0.4770\n",
      "Epoch 37/100\n",
      "32/32 [==============================] - 0s 3ms/step - loss: 0.6941 - accuracy: 0.4900\n",
      "Epoch 38/100\n",
      "32/32 [==============================] - 0s 4ms/step - loss: 0.6955 - accuracy: 0.4900\n",
      "Epoch 39/100\n",
      "32/32 [==============================] - 0s 3ms/step - loss: 0.6938 - accuracy: 0.4740\n",
      "Epoch 40/100\n",
      "32/32 [==============================] - 0s 3ms/step - loss: 0.6953 - accuracy: 0.4980\n",
      "Epoch 41/100\n",
      "32/32 [==============================] - 0s 3ms/step - loss: 0.6964 - accuracy: 0.4980\n",
      "Epoch 42/100\n",
      "32/32 [==============================] - 0s 3ms/step - loss: 0.6958 - accuracy: 0.4640\n",
      "Epoch 43/100\n",
      "32/32 [==============================] - 0s 3ms/step - loss: 0.6945 - accuracy: 0.5120\n",
      "Epoch 44/100\n",
      "32/32 [==============================] - 0s 3ms/step - loss: 0.6957 - accuracy: 0.4810\n",
      "Epoch 45/100\n",
      "32/32 [==============================] - 0s 3ms/step - loss: 0.6941 - accuracy: 0.4980\n",
      "Epoch 46/100\n",
      "32/32 [==============================] - 0s 3ms/step - loss: 0.6941 - accuracy: 0.4920\n",
      "Epoch 47/100\n",
      "32/32 [==============================] - 0s 4ms/step - loss: 0.6958 - accuracy: 0.4870\n",
      "Epoch 48/100\n",
      "32/32 [==============================] - 0s 3ms/step - loss: 0.6950 - accuracy: 0.4950\n",
      "Epoch 49/100\n",
      "32/32 [==============================] - 0s 3ms/step - loss: 0.6954 - accuracy: 0.4750\n",
      "Epoch 50/100\n",
      "32/32 [==============================] - 0s 3ms/step - loss: 0.6944 - accuracy: 0.4650\n",
      "Epoch 51/100\n",
      "32/32 [==============================] - 0s 3ms/step - loss: 0.6955 - accuracy: 0.4880\n",
      "Epoch 52/100\n",
      "32/32 [==============================] - 0s 3ms/step - loss: 0.6951 - accuracy: 0.5270\n",
      "Epoch 53/100\n",
      "32/32 [==============================] - 0s 3ms/step - loss: 0.6969 - accuracy: 0.5000\n",
      "Epoch 54/100\n",
      "32/32 [==============================] - 0s 3ms/step - loss: 0.6958 - accuracy: 0.5140\n",
      "Epoch 55/100\n",
      "32/32 [==============================] - 0s 3ms/step - loss: 0.6955 - accuracy: 0.5170\n",
      "Epoch 56/100\n",
      "32/32 [==============================] - 0s 2ms/step - loss: 0.6959 - accuracy: 0.4840\n",
      "Epoch 57/100\n",
      "32/32 [==============================] - 0s 3ms/step - loss: 0.6959 - accuracy: 0.4790\n",
      "Epoch 58/100\n",
      "32/32 [==============================] - 0s 3ms/step - loss: 0.6956 - accuracy: 0.5030\n",
      "Epoch 59/100\n",
      "32/32 [==============================] - 0s 3ms/step - loss: 0.6980 - accuracy: 0.4940\n",
      "Epoch 60/100\n",
      "32/32 [==============================] - 0s 3ms/step - loss: 0.6969 - accuracy: 0.4760\n",
      "Epoch 61/100\n",
      "32/32 [==============================] - 0s 3ms/step - loss: 0.6970 - accuracy: 0.4350\n",
      "Epoch 62/100\n",
      "32/32 [==============================] - 0s 3ms/step - loss: 0.6955 - accuracy: 0.4760\n",
      "Epoch 63/100\n",
      "32/32 [==============================] - 0s 3ms/step - loss: 0.6945 - accuracy: 0.4750\n",
      "Epoch 64/100\n",
      "32/32 [==============================] - 0s 3ms/step - loss: 0.6958 - accuracy: 0.4800\n",
      "Epoch 65/100\n",
      "32/32 [==============================] - 0s 3ms/step - loss: 0.6965 - accuracy: 0.4760\n",
      "Epoch 66/100\n",
      "32/32 [==============================] - 0s 3ms/step - loss: 0.6951 - accuracy: 0.5110\n",
      "Epoch 67/100\n",
      "32/32 [==============================] - 0s 3ms/step - loss: 0.6963 - accuracy: 0.4540\n",
      "Epoch 68/100\n",
      "32/32 [==============================] - 0s 3ms/step - loss: 0.6953 - accuracy: 0.4840\n",
      "Epoch 69/100\n",
      "32/32 [==============================] - 0s 3ms/step - loss: 0.6947 - accuracy: 0.5270\n",
      "Epoch 70/100\n",
      "32/32 [==============================] - 0s 3ms/step - loss: 0.6967 - accuracy: 0.4780\n",
      "Epoch 71/100\n",
      "32/32 [==============================] - 0s 3ms/step - loss: 0.6952 - accuracy: 0.4620\n",
      "Epoch 72/100\n",
      "32/32 [==============================] - 0s 3ms/step - loss: 0.6956 - accuracy: 0.5060\n",
      "Epoch 73/100\n",
      "32/32 [==============================] - 0s 3ms/step - loss: 0.6959 - accuracy: 0.5050\n",
      "Epoch 74/100\n",
      "32/32 [==============================] - 0s 3ms/step - loss: 0.6955 - accuracy: 0.4950\n",
      "Epoch 75/100\n",
      "32/32 [==============================] - 0s 3ms/step - loss: 0.6957 - accuracy: 0.5160\n",
      "Epoch 76/100\n",
      "32/32 [==============================] - 0s 3ms/step - loss: 0.6970 - accuracy: 0.4670\n",
      "Epoch 77/100\n",
      "32/32 [==============================] - 0s 3ms/step - loss: 0.6959 - accuracy: 0.5120\n",
      "Epoch 78/100\n",
      "32/32 [==============================] - 0s 3ms/step - loss: 0.6964 - accuracy: 0.4460\n",
      "Epoch 79/100\n",
      "32/32 [==============================] - 0s 3ms/step - loss: 0.6982 - accuracy: 0.4940\n",
      "Epoch 80/100\n",
      "32/32 [==============================] - 0s 3ms/step - loss: 0.6957 - accuracy: 0.5150\n",
      "Epoch 81/100\n",
      "32/32 [==============================] - 0s 3ms/step - loss: 0.6970 - accuracy: 0.4870\n",
      "Epoch 82/100\n",
      "32/32 [==============================] - 0s 3ms/step - loss: 0.6960 - accuracy: 0.4940\n",
      "Epoch 83/100\n"
     ]
    },
    {
     "name": "stdout",
     "output_type": "stream",
     "text": [
      "32/32 [==============================] - 0s 3ms/step - loss: 0.6976 - accuracy: 0.4760\n",
      "Epoch 84/100\n",
      "32/32 [==============================] - 0s 3ms/step - loss: 0.6951 - accuracy: 0.5040\n",
      "Epoch 85/100\n",
      "32/32 [==============================] - 0s 3ms/step - loss: 0.6959 - accuracy: 0.4710\n",
      "Epoch 86/100\n",
      "32/32 [==============================] - 0s 3ms/step - loss: 0.6982 - accuracy: 0.5020\n",
      "Epoch 87/100\n",
      "32/32 [==============================] - 0s 3ms/step - loss: 0.6959 - accuracy: 0.4630\n",
      "Epoch 88/100\n",
      "32/32 [==============================] - 0s 3ms/step - loss: 0.6967 - accuracy: 0.4510\n",
      "Epoch 89/100\n",
      "32/32 [==============================] - 0s 3ms/step - loss: 0.6967 - accuracy: 0.4710\n",
      "Epoch 90/100\n",
      "32/32 [==============================] - 0s 3ms/step - loss: 0.6970 - accuracy: 0.4270\n",
      "Epoch 91/100\n",
      "32/32 [==============================] - 0s 3ms/step - loss: 0.6959 - accuracy: 0.5010\n",
      "Epoch 92/100\n",
      "32/32 [==============================] - 0s 3ms/step - loss: 0.6970 - accuracy: 0.4880\n",
      "Epoch 93/100\n",
      "32/32 [==============================] - 0s 4ms/step - loss: 0.6983 - accuracy: 0.4600\n",
      "Epoch 94/100\n",
      "32/32 [==============================] - 0s 3ms/step - loss: 0.6972 - accuracy: 0.4920\n",
      "Epoch 95/100\n",
      "32/32 [==============================] - 0s 3ms/step - loss: 0.6967 - accuracy: 0.4480\n",
      "Epoch 96/100\n",
      "32/32 [==============================] - 0s 3ms/step - loss: 0.6965 - accuracy: 0.4970\n",
      "Epoch 97/100\n",
      "32/32 [==============================] - 0s 3ms/step - loss: 0.6964 - accuracy: 0.4600\n",
      "Epoch 98/100\n",
      "32/32 [==============================] - 0s 3ms/step - loss: 0.6969 - accuracy: 0.4880\n",
      "Epoch 99/100\n",
      "32/32 [==============================] - 0s 3ms/step - loss: 0.6968 - accuracy: 0.5070\n",
      "Epoch 100/100\n",
      "32/32 [==============================] - 0s 3ms/step - loss: 0.6965 - accuracy: 0.4710\n"
     ]
    }
   ],
   "source": [
    "# Set random seed\n",
    "tf.random.set_seed(42)\n",
    "\n",
    "# 1. Creating a model\n",
    "model_3 = tf.keras.models.Sequential([\n",
    "    tf.keras.layers.Dense(100),\n",
    "    tf.keras.layers.Dense(10),\n",
    "    tf.keras.layers.Dense(1)\n",
    "])\n",
    "\n",
    "# 2. Improving the model\n",
    "model_3.compile(loss=tf.keras.losses.BinaryCrossentropy(),\n",
    "                optimizer=tf.keras.optimizers.Adam(),\n",
    "               metrics=[\"accuracy\"])\n",
    "\n",
    "# 3. Fit the model\n",
    "history_3 = model_3.fit(X,y,epochs=100,verbose=1)"
   ]
  },
  {
   "cell_type": "markdown",
   "id": "cacd317b",
   "metadata": {},
   "source": [
    "The accuracy, 0.4970 (49.7%), is still about the same as that of the old models."
   ]
  },
  {
   "cell_type": "code",
   "execution_count": 18,
   "id": "61fc330e",
   "metadata": {},
   "outputs": [
    {
     "data": {
      "image/png": "[encoded data removed]",
      "text/plain": [
       "<Figure size 432x288 with 1 Axes>"
      ]
     },
     "metadata": {
      "needs_background": "light"
     },
     "output_type": "display_data"
    }
   ],
   "source": [
    "# Plot history\n",
    "history_df3 = pd.DataFrame(history_3.history)\n",
    "history_df3.plot(kind=\"line\",y=\"loss\")\n",
    "plt.ylabel(\"Loss\")\n",
    "plt.xlabel(\"Epochs\");"
   ]
  },
  {
   "cell_type": "markdown",
   "id": "f094ea05",
   "metadata": {},
   "source": [
    "Looking at the loss evolution over the epochs, the model is not learning anything from the data after its first epoch."
   ]
  },
  {
   "cell_type": "markdown",
   "id": "a62c812d",
   "metadata": {},
   "source": [
    "Recalling our ML practioner motto: `visualize, visualize, visualize`. It is good idea to visualize the following as much as possible (specially whenever the model is not performing as wanted):\n",
    "* the data: to know what is look like\n",
    "* the model: to know its layers and its differents components\n",
    "* the training: observing the loss in a plot\n",
    "* the predictions"
   ]
  },
  {
   "cell_type": "markdown",
   "id": "97d80fa3",
   "metadata": {},
   "source": [
    "We will visualize our model predictions against the label. "
   ]
  },
  {
   "cell_type": "code",
   "execution_count": 19,
   "id": "58b75e03",
   "metadata": {},
   "outputs": [],
   "source": [
    "def plot_decision_boundary(model, X, y)->None:\n",
    "    \"\"\"\n",
    "        Plots the decision boundary craeted by a model predicting on X\n",
    "    \n",
    "        Params:\n",
    "            - trained model\n",
    "            - features (X)\n",
    "            - label (y)\n",
    "            \n",
    "        Do:\n",
    "            - Create a meshgrid of the different X values\n",
    "            - Make predictions acorss the meshgrid\n",
    "            - Plot the prediction as well as a line between the different zones (where each unique class falls)\n",
    "            \n",
    "            \n",
    "        numpy meshgrid: https://numpy.org/doc/stable/reference/generated/numpy.meshgrid.html\n",
    "        \n",
    "        Inspired by:\n",
    "            - https://cs231n.github.io/neural-networks-case-study/\n",
    "    \"\"\"\n",
    "    \n",
    "    # Define the axis boundaries of the plot and create a meshgrid\n",
    "    x_min = X[:,0].min() - .1  # -0.1 was done to give oursleves a little bit of margin in the future plot\n",
    "    x_max = X[:,0].max() + .1\n",
    "    y_min = X[:,1].min() - .1\n",
    "    y_max = X[:,1].max() + .1\n",
    "    \n",
    "    # Create the meshgrid\n",
    "    xx, yy = np.meshgrid( np.linspace(x_min,x_max,100),\n",
    "                          np.linspace(y_min,y_max,100))\n",
    "    \n",
    "    # Create new X values (predictions will be make on these)\n",
    "    x_in = np.c_[xx.ravel(), yy.ravel()] # stack 2D arrays together\n",
    "    \n",
    "    # Make predictions\n",
    "    y_pred = model.predict(x_in)\n",
    "    \n",
    "    # Check for multi-class or binary-class classification\n",
    "    if len(y_pred[0])>1:\n",
    "        print(\"Doing multi-class classification\")\n",
    "        # Reshape our prediction to get them ready for plotting\n",
    "        y_pred = np.argmax(y_pred, axis=1).reshape(xx.shape)\n",
    "    else:\n",
    "        print(\"Doing binary classification\")\n",
    "        y_pred = np.round(y_pred).reshape(xx.shape)\n",
    "        \n",
    "    # Plot the decision boundary\n",
    "    plt.contourf(xx, yy, y_pred, cmap=plt.cm.RdYlBu, alpha=.7)\n",
    "    plt.scatter(X[:,0], X[:,1], c=y, s=40, cmap=plt.cm.RdYlBu)\n",
    "    \n",
    "    plt.xlim(xx.min(), xx.max())\n",
    "    plt.ylim(yy.min(), yy.max())"
   ]
  },
  {
   "cell_type": "code",
   "execution_count": 20,
   "id": "af8d58d0",
   "metadata": {},
   "outputs": [
    {
     "name": "stdout",
     "output_type": "stream",
     "text": [
      "313/313 [==============================] - 1s 2ms/step\n",
      "Doing binary classification\n"
     ]
    },
    {
     "data": {
      "image/png": "[encoded data removed]",
      "text/plain": [
       "<Figure size 432x288 with 1 Axes>"
      ]
     },
     "metadata": {
      "needs_background": "light"
     },
     "output_type": "display_data"
    }
   ],
   "source": [
    "# Check out the predictons our model is making\n",
    "plot_decision_boundary(model=model_3, X=X, y=y)"
   ]
  },
  {
   "cell_type": "markdown",
   "id": "3723cd02",
   "metadata": {},
   "source": [
    "The above plot explains why the model is performing poorly: it looks like it's trying to draw straight line as a decision boundary to separate the data (the white line separating the red zone of the rectangle from the blue zone of the rectangle).      \n",
    "\n",
    "The issue here is that we have got a circular data (the red and blue points for two circles), so they are not separable by a straight line. If we were working on a regression problem, our current model might actually work, but for our current problem the model is inappropriate."
   ]
  },
  {
   "cell_type": "code",
   "execution_count": null,
   "id": "9853c6b9",
   "metadata": {},
   "outputs": [],
   "source": []
  },
  {
   "cell_type": "markdown",
   "id": "943f829c",
   "metadata": {},
   "source": [
    "## Non-linearity in a model"
   ]
  },
  {
   "cell_type": "markdown",
   "id": "2f38aaf3",
   "metadata": {},
   "source": [
    "Let's try to use a model based on a linear activation function to make predictions."
   ]
  },
  {
   "cell_type": "code",
   "execution_count": 21,
   "id": "b81d6ef6",
   "metadata": {},
   "outputs": [
    {
     "name": "stdout",
     "output_type": "stream",
     "text": [
      "Epoch 1/100\n"
     ]
    },
    {
     "name": "stderr",
     "output_type": "stream",
     "text": [
      "C:\\ProgramData\\Anaconda3\\lib\\site-packages\\keras\\optimizers\\optimizer_v2\\adam.py:114: UserWarning: The `lr` argument is deprecated, use `learning_rate` instead.\n",
      "  super().__init__(name, **kwargs)\n"
     ]
    },
    {
     "name": "stdout",
     "output_type": "stream",
     "text": [
      "32/32 [==============================] - 1s 2ms/step - loss: 6.1185 - accuracy: 0.4810\n",
      "Epoch 2/100\n",
      "32/32 [==============================] - 0s 3ms/step - loss: 6.0730 - accuracy: 0.4810\n",
      "Epoch 3/100\n",
      "32/32 [==============================] - 0s 3ms/step - loss: 6.0480 - accuracy: 0.4800\n",
      "Epoch 4/100\n",
      "32/32 [==============================] - 0s 3ms/step - loss: 6.0520 - accuracy: 0.4800\n",
      "Epoch 5/100\n",
      "32/32 [==============================] - 0s 3ms/step - loss: 6.0425 - accuracy: 0.4800\n",
      "Epoch 6/100\n",
      "32/32 [==============================] - 0s 3ms/step - loss: 6.0295 - accuracy: 0.4800\n",
      "Epoch 7/100\n",
      "32/32 [==============================] - 0s 3ms/step - loss: 6.0236 - accuracy: 0.4800\n",
      "Epoch 8/100\n",
      "32/32 [==============================] - 0s 3ms/step - loss: 6.0224 - accuracy: 0.4790\n",
      "Epoch 9/100\n",
      "32/32 [==============================] - 0s 3ms/step - loss: 6.0216 - accuracy: 0.4790\n",
      "Epoch 10/100\n",
      "32/32 [==============================] - 0s 3ms/step - loss: 6.0208 - accuracy: 0.4790\n",
      "Epoch 11/100\n",
      "32/32 [==============================] - 0s 3ms/step - loss: 6.0156 - accuracy: 0.4800\n",
      "Epoch 12/100\n",
      "32/32 [==============================] - 0s 3ms/step - loss: 5.9672 - accuracy: 0.4820\n",
      "Epoch 13/100\n",
      "32/32 [==============================] - 0s 3ms/step - loss: 5.9644 - accuracy: 0.4810\n",
      "Epoch 14/100\n",
      "32/32 [==============================] - 0s 2ms/step - loss: 5.9636 - accuracy: 0.4810\n",
      "Epoch 15/100\n",
      "32/32 [==============================] - 0s 4ms/step - loss: 5.9627 - accuracy: 0.4800\n",
      "Epoch 16/100\n",
      "32/32 [==============================] - 0s 2ms/step - loss: 5.9616 - accuracy: 0.4810\n",
      "Epoch 17/100\n",
      "32/32 [==============================] - 0s 1ms/step - loss: 5.9611 - accuracy: 0.4810\n",
      "Epoch 18/100\n",
      "32/32 [==============================] - 0s 2ms/step - loss: 5.9603 - accuracy: 0.4810\n",
      "Epoch 19/100\n",
      "32/32 [==============================] - 0s 1ms/step - loss: 5.9594 - accuracy: 0.4800\n",
      "Epoch 20/100\n",
      "32/32 [==============================] - 0s 1ms/step - loss: 5.9590 - accuracy: 0.4800\n",
      "Epoch 21/100\n",
      "32/32 [==============================] - 0s 2ms/step - loss: 5.9582 - accuracy: 0.4800\n",
      "Epoch 22/100\n",
      "32/32 [==============================] - 0s 2ms/step - loss: 5.9576 - accuracy: 0.4800\n",
      "Epoch 23/100\n",
      "32/32 [==============================] - 0s 2ms/step - loss: 5.9569 - accuracy: 0.4800\n",
      "Epoch 24/100\n",
      "32/32 [==============================] - 0s 3ms/step - loss: 5.9564 - accuracy: 0.4800\n",
      "Epoch 25/100\n",
      "32/32 [==============================] - 0s 3ms/step - loss: 5.9558 - accuracy: 0.4800\n",
      "Epoch 26/100\n",
      "32/32 [==============================] - 0s 3ms/step - loss: 5.9481 - accuracy: 0.4800\n",
      "Epoch 27/100\n",
      "32/32 [==============================] - 0s 3ms/step - loss: 5.9537 - accuracy: 0.4800\n",
      "Epoch 28/100\n",
      "32/32 [==============================] - 0s 3ms/step - loss: 5.9447 - accuracy: 0.4810\n",
      "Epoch 29/100\n",
      "32/32 [==============================] - 0s 2ms/step - loss: 5.9177 - accuracy: 0.4810\n",
      "Epoch 30/100\n",
      "32/32 [==============================] - 0s 2ms/step - loss: 5.9064 - accuracy: 0.4810\n",
      "Epoch 31/100\n",
      "32/32 [==============================] - 0s 2ms/step - loss: 5.9046 - accuracy: 0.4810\n",
      "Epoch 32/100\n",
      "32/32 [==============================] - 0s 3ms/step - loss: 5.9038 - accuracy: 0.4810\n",
      "Epoch 33/100\n",
      "32/32 [==============================] - 0s 3ms/step - loss: 5.9032 - accuracy: 0.4810\n",
      "Epoch 34/100\n",
      "32/32 [==============================] - 0s 3ms/step - loss: 5.8943 - accuracy: 0.4810\n",
      "Epoch 35/100\n",
      "32/32 [==============================] - 0s 3ms/step - loss: 5.8559 - accuracy: 0.4810\n",
      "Epoch 36/100\n",
      "32/32 [==============================] - 0s 3ms/step - loss: 5.8219 - accuracy: 0.4800\n",
      "Epoch 37/100\n",
      "32/32 [==============================] - 0s 4ms/step - loss: 5.8136 - accuracy: 0.4800\n",
      "Epoch 38/100\n",
      "32/32 [==============================] - 0s 3ms/step - loss: 5.8018 - accuracy: 0.4800\n",
      "Epoch 39/100\n",
      "32/32 [==============================] - 0s 3ms/step - loss: 5.7896 - accuracy: 0.4810\n",
      "Epoch 40/100\n",
      "32/32 [==============================] - 0s 3ms/step - loss: 5.7853 - accuracy: 0.4810\n",
      "Epoch 41/100\n",
      "32/32 [==============================] - 0s 3ms/step - loss: 5.7841 - accuracy: 0.4810\n",
      "Epoch 42/100\n",
      "32/32 [==============================] - 0s 3ms/step - loss: 5.7831 - accuracy: 0.4810\n",
      "Epoch 43/100\n",
      "32/32 [==============================] - 0s 3ms/step - loss: 5.7819 - accuracy: 0.4810\n",
      "Epoch 44/100\n",
      "32/32 [==============================] - 0s 3ms/step - loss: 5.7811 - accuracy: 0.4810\n",
      "Epoch 45/100\n",
      "32/32 [==============================] - 0s 3ms/step - loss: 5.7802 - accuracy: 0.4810\n",
      "Epoch 46/100\n",
      "32/32 [==============================] - 0s 3ms/step - loss: 5.7796 - accuracy: 0.4810\n",
      "Epoch 47/100\n",
      "32/32 [==============================] - 0s 2ms/step - loss: 5.7787 - accuracy: 0.4810\n",
      "Epoch 48/100\n",
      "32/32 [==============================] - 0s 2ms/step - loss: 5.7780 - accuracy: 0.4810\n",
      "Epoch 49/100\n",
      "32/32 [==============================] - 0s 2ms/step - loss: 5.7154 - accuracy: 0.4810\n",
      "Epoch 50/100\n",
      "32/32 [==============================] - 0s 3ms/step - loss: 5.6541 - accuracy: 0.4800\n",
      "Epoch 51/100\n",
      "32/32 [==============================] - 0s 3ms/step - loss: 5.6326 - accuracy: 0.4800\n",
      "Epoch 52/100\n",
      "32/32 [==============================] - 0s 3ms/step - loss: 5.6264 - accuracy: 0.4800\n",
      "Epoch 53/100\n",
      "32/32 [==============================] - 0s 3ms/step - loss: 5.6168 - accuracy: 0.4800\n",
      "Epoch 54/100\n",
      "32/32 [==============================] - 0s 3ms/step - loss: 5.6004 - accuracy: 0.4820\n",
      "Epoch 55/100\n",
      "32/32 [==============================] - 0s 3ms/step - loss: 5.5973 - accuracy: 0.4820\n",
      "Epoch 56/100\n",
      "32/32 [==============================] - 0s 3ms/step - loss: 5.5862 - accuracy: 0.4820\n",
      "Epoch 57/100\n",
      "32/32 [==============================] - 0s 3ms/step - loss: 5.5831 - accuracy: 0.4810\n",
      "Epoch 58/100\n",
      "32/32 [==============================] - 0s 3ms/step - loss: 5.5812 - accuracy: 0.4810\n",
      "Epoch 59/100\n",
      "32/32 [==============================] - 0s 2ms/step - loss: 5.5708 - accuracy: 0.4820\n",
      "Epoch 60/100\n",
      "32/32 [==============================] - 0s 3ms/step - loss: 5.5570 - accuracy: 0.4830\n",
      "Epoch 61/100\n",
      "32/32 [==============================] - 0s 3ms/step - loss: 5.5372 - accuracy: 0.4820\n",
      "Epoch 62/100\n",
      "32/32 [==============================] - 0s 3ms/step - loss: 5.5241 - accuracy: 0.4850\n",
      "Epoch 63/100\n",
      "32/32 [==============================] - 0s 3ms/step - loss: 5.4548 - accuracy: 0.4820\n",
      "Epoch 64/100\n",
      "32/32 [==============================] - 0s 3ms/step - loss: 5.3619 - accuracy: 0.4790\n",
      "Epoch 65/100\n",
      "32/32 [==============================] - 0s 3ms/step - loss: 5.3013 - accuracy: 0.4780\n",
      "Epoch 66/100\n",
      "32/32 [==============================] - 0s 3ms/step - loss: 4.9694 - accuracy: 0.4750\n",
      "Epoch 67/100\n",
      "32/32 [==============================] - 0s 3ms/step - loss: 4.8375 - accuracy: 0.4720\n",
      "Epoch 68/100\n",
      "32/32 [==============================] - 0s 3ms/step - loss: 4.8265 - accuracy: 0.4740\n",
      "Epoch 69/100\n",
      "32/32 [==============================] - 0s 3ms/step - loss: 4.8131 - accuracy: 0.4730\n",
      "Epoch 70/100\n",
      "32/32 [==============================] - 0s 5ms/step - loss: 4.8075 - accuracy: 0.4730\n",
      "Epoch 71/100\n",
      "32/32 [==============================] - 0s 3ms/step - loss: 4.7948 - accuracy: 0.4720\n",
      "Epoch 72/100\n",
      "32/32 [==============================] - 0s 3ms/step - loss: 4.7629 - accuracy: 0.4720\n",
      "Epoch 73/100\n",
      "32/32 [==============================] - 0s 3ms/step - loss: 4.7327 - accuracy: 0.4700\n",
      "Epoch 74/100\n",
      "32/32 [==============================] - 0s 3ms/step - loss: 4.7266 - accuracy: 0.4700\n",
      "Epoch 75/100\n",
      "32/32 [==============================] - 0s 3ms/step - loss: 4.7137 - accuracy: 0.4690\n",
      "Epoch 76/100\n",
      "32/32 [==============================] - 0s 3ms/step - loss: 4.7101 - accuracy: 0.4690\n",
      "Epoch 77/100\n",
      "32/32 [==============================] - 0s 3ms/step - loss: 4.6991 - accuracy: 0.4700\n",
      "Epoch 78/100\n",
      "32/32 [==============================] - 0s 3ms/step - loss: 4.6857 - accuracy: 0.4700\n",
      "Epoch 79/100\n",
      "32/32 [==============================] - 0s 3ms/step - loss: 4.6791 - accuracy: 0.4700\n",
      "Epoch 80/100\n",
      "32/32 [==============================] - 0s 3ms/step - loss: 4.6762 - accuracy: 0.4700\n",
      "Epoch 81/100\n",
      "32/32 [==============================] - 0s 3ms/step - loss: 4.6740 - accuracy: 0.4700\n",
      "Epoch 82/100\n",
      "32/32 [==============================] - 0s 2ms/step - loss: 4.6722 - accuracy: 0.4700\n",
      "Epoch 83/100\n"
     ]
    },
    {
     "name": "stdout",
     "output_type": "stream",
     "text": [
      "32/32 [==============================] - 0s 3ms/step - loss: 4.6705 - accuracy: 0.4700\n",
      "Epoch 84/100\n",
      "32/32 [==============================] - 0s 3ms/step - loss: 4.6689 - accuracy: 0.4700\n",
      "Epoch 85/100\n",
      "32/32 [==============================] - 0s 2ms/step - loss: 4.6674 - accuracy: 0.4690\n",
      "Epoch 86/100\n",
      "32/32 [==============================] - 0s 2ms/step - loss: 4.6661 - accuracy: 0.4690\n",
      "Epoch 87/100\n",
      "32/32 [==============================] - 0s 3ms/step - loss: 4.6648 - accuracy: 0.4700\n",
      "Epoch 88/100\n",
      "32/32 [==============================] - 0s 3ms/step - loss: 4.6635 - accuracy: 0.4710\n",
      "Epoch 89/100\n",
      "32/32 [==============================] - 0s 3ms/step - loss: 4.6623 - accuracy: 0.4710\n",
      "Epoch 90/100\n",
      "32/32 [==============================] - 0s 3ms/step - loss: 4.6612 - accuracy: 0.4710\n",
      "Epoch 91/100\n",
      "32/32 [==============================] - 0s 3ms/step - loss: 4.6601 - accuracy: 0.4710\n",
      "Epoch 92/100\n",
      "32/32 [==============================] - 0s 3ms/step - loss: 4.6591 - accuracy: 0.4700\n",
      "Epoch 93/100\n",
      "32/32 [==============================] - 0s 3ms/step - loss: 4.6581 - accuracy: 0.4700\n",
      "Epoch 94/100\n",
      "32/32 [==============================] - 0s 3ms/step - loss: 4.6571 - accuracy: 0.4700\n",
      "Epoch 95/100\n",
      "32/32 [==============================] - 0s 3ms/step - loss: 4.6562 - accuracy: 0.4700\n",
      "Epoch 96/100\n",
      "32/32 [==============================] - 0s 3ms/step - loss: 4.6468 - accuracy: 0.4700\n",
      "Epoch 97/100\n",
      "32/32 [==============================] - 0s 3ms/step - loss: 4.6441 - accuracy: 0.4700\n",
      "Epoch 98/100\n",
      "32/32 [==============================] - 0s 2ms/step - loss: 4.6425 - accuracy: 0.4700\n",
      "Epoch 99/100\n",
      "32/32 [==============================] - 0s 3ms/step - loss: 4.6414 - accuracy: 0.4690\n",
      "Epoch 100/100\n",
      "32/32 [==============================] - 0s 3ms/step - loss: 4.6402 - accuracy: 0.4690\n"
     ]
    }
   ],
   "source": [
    "# Set seed\n",
    "tf.random.set_seed(42)\n",
    "\n",
    "# 1. Create the model\n",
    "model_4 = tf.keras.models.Sequential([\n",
    "    tf.keras.layers.Dense(1, activation=tf.keras.activations.linear)\n",
    "])\n",
    "\n",
    "# 2. Compile the model\n",
    "model_4.compile(loss=tf.keras.losses.BinaryCrossentropy(),\n",
    "                optimizer=tf.keras.optimizers.Adam(lr=.001),\n",
    "               metrics=[\"accuracy\"])\n",
    "\n",
    "# 3. Fit the model\n",
    "history_4 = model_4.fit(X,y,epochs=100,verbose=1)"
   ]
  },
  {
   "cell_type": "markdown",
   "id": "e522eb3d",
   "metadata": {},
   "source": [
    "The accuracy is 0.4740 (47.4%), the model is still performing poorly."
   ]
  },
  {
   "cell_type": "markdown",
   "id": "f52c816f",
   "metadata": {},
   "source": [
    "Let's remind ourselves of what our data looks like, because whenever our model predictions are not working very well, we can evaluate our model by looking at the evaluation metrics or we can adhere to our ML practionner motto: visualize."
   ]
  },
  {
   "cell_type": "code",
   "execution_count": 22,
   "id": "e775f523",
   "metadata": {},
   "outputs": [
    {
     "data": {
      "image/png": "[encoded data removed]",
      "text/plain": [
       "<Figure size 432x288 with 1 Axes>"
      ]
     },
     "metadata": {
      "needs_background": "light"
     },
     "output_type": "display_data"
    }
   ],
   "source": [
    "# Reminding ourselve of what our data looks like\n",
    "plt.scatter(X[:,0], X[:,1], c=y, cmap=plt.cm.RdYlBu);"
   ]
  },
  {
   "cell_type": "code",
   "execution_count": 23,
   "id": "80451585",
   "metadata": {},
   "outputs": [
    {
     "name": "stdout",
     "output_type": "stream",
     "text": [
      "313/313 [==============================] - 1s 2ms/step\n",
      "Doing binary classification\n"
     ]
    },
    {
     "data": {
      "image/png": "[encoded data removed]",
      "text/plain": [
       "<Figure size 432x288 with 1 Axes>"
      ]
     },
     "metadata": {
      "needs_background": "light"
     },
     "output_type": "display_data"
    }
   ],
   "source": [
    "# Check the decision boundary for our latest model\n",
    "plot_decision_boundary(model=model_4,X=X, y=y)"
   ]
  },
  {
   "cell_type": "markdown",
   "id": "0c859679",
   "metadata": {},
   "source": [
    "* Everything in the yellow zone could be blue or red point (which is why the model is performing so poorly)\n",
    "* Everything in the red zone is classified as red point\n",
    "* Everything in the blue zone is classified as blue point"
   ]
  },
  {
   "cell_type": "code",
   "execution_count": null,
   "id": "d6b5aa15",
   "metadata": {},
   "outputs": [],
   "source": []
  },
  {
   "cell_type": "markdown",
   "id": "f9f68a16",
   "metadata": {},
   "source": [
    "Let's try to build a neural network with a non-linear activation function."
   ]
  },
  {
   "cell_type": "code",
   "execution_count": 24,
   "id": "0e0c6d46",
   "metadata": {},
   "outputs": [
    {
     "name": "stdout",
     "output_type": "stream",
     "text": [
      "Epoch 1/100\n",
      "32/32 [==============================] - 1s 3ms/step - loss: 6.2421 - accuracy: 0.4880\n",
      "Epoch 2/100\n",
      "32/32 [==============================] - 0s 3ms/step - loss: 6.2397 - accuracy: 0.4880\n",
      "Epoch 3/100\n",
      "32/32 [==============================] - 0s 3ms/step - loss: 6.2178 - accuracy: 0.4880\n",
      "Epoch 4/100\n",
      "32/32 [==============================] - 0s 3ms/step - loss: 6.2105 - accuracy: 0.4880\n",
      "Epoch 5/100\n",
      "32/32 [==============================] - 0s 3ms/step - loss: 6.2192 - accuracy: 0.4860\n",
      "Epoch 6/100\n",
      "32/32 [==============================] - 0s 3ms/step - loss: 6.2062 - accuracy: 0.4860\n",
      "Epoch 7/100\n",
      "32/32 [==============================] - 0s 3ms/step - loss: 6.2051 - accuracy: 0.4880\n",
      "Epoch 8/100\n",
      "32/32 [==============================] - 0s 3ms/step - loss: 6.2044 - accuracy: 0.4880\n",
      "Epoch 9/100\n",
      "32/32 [==============================] - 0s 3ms/step - loss: 6.1957 - accuracy: 0.4880\n",
      "Epoch 10/100\n",
      "32/32 [==============================] - 0s 3ms/step - loss: 6.1809 - accuracy: 0.4880\n",
      "Epoch 11/100\n",
      "32/32 [==============================] - 0s 3ms/step - loss: 6.1806 - accuracy: 0.4880\n",
      "Epoch 12/100\n",
      "32/32 [==============================] - 0s 2ms/step - loss: 6.1804 - accuracy: 0.4880\n",
      "Epoch 13/100\n",
      "32/32 [==============================] - 0s 3ms/step - loss: 6.1800 - accuracy: 0.4880\n",
      "Epoch 14/100\n",
      "32/32 [==============================] - 0s 2ms/step - loss: 6.1798 - accuracy: 0.4880\n",
      "Epoch 15/100\n",
      "32/32 [==============================] - 0s 4ms/step - loss: 6.1795 - accuracy: 0.4880\n",
      "Epoch 16/100\n",
      "32/32 [==============================] - 0s 3ms/step - loss: 6.1793 - accuracy: 0.4880\n",
      "Epoch 17/100\n",
      "32/32 [==============================] - 0s 3ms/step - loss: 6.1790 - accuracy: 0.4880\n",
      "Epoch 18/100\n",
      "32/32 [==============================] - 0s 3ms/step - loss: 6.1788 - accuracy: 0.4880\n",
      "Epoch 19/100\n",
      "32/32 [==============================] - 0s 3ms/step - loss: 6.1784 - accuracy: 0.4880\n",
      "Epoch 20/100\n",
      "32/32 [==============================] - 0s 3ms/step - loss: 6.1781 - accuracy: 0.4880\n",
      "Epoch 21/100\n",
      "32/32 [==============================] - 0s 3ms/step - loss: 6.1778 - accuracy: 0.4880\n",
      "Epoch 22/100\n",
      "32/32 [==============================] - 0s 3ms/step - loss: 6.1776 - accuracy: 0.4880\n",
      "Epoch 23/100\n",
      "32/32 [==============================] - 0s 3ms/step - loss: 6.1773 - accuracy: 0.4880\n",
      "Epoch 24/100\n",
      "32/32 [==============================] - 0s 3ms/step - loss: 6.1770 - accuracy: 0.4880\n",
      "Epoch 25/100\n",
      "32/32 [==============================] - 0s 3ms/step - loss: 6.1767 - accuracy: 0.4880\n",
      "Epoch 26/100\n",
      "32/32 [==============================] - 0s 3ms/step - loss: 6.1765 - accuracy: 0.4880\n",
      "Epoch 27/100\n",
      "32/32 [==============================] - 0s 3ms/step - loss: 6.1762 - accuracy: 0.4880\n",
      "Epoch 28/100\n",
      "32/32 [==============================] - 0s 3ms/step - loss: 6.1302 - accuracy: 0.4870\n",
      "Epoch 29/100\n",
      "32/32 [==============================] - 0s 3ms/step - loss: 6.1202 - accuracy: 0.4870\n",
      "Epoch 30/100\n",
      "32/32 [==============================] - 0s 3ms/step - loss: 6.1200 - accuracy: 0.4870\n",
      "Epoch 31/100\n",
      "32/32 [==============================] - 0s 3ms/step - loss: 6.1196 - accuracy: 0.4870\n",
      "Epoch 32/100\n",
      "32/32 [==============================] - 0s 3ms/step - loss: 6.1195 - accuracy: 0.4860\n",
      "Epoch 33/100\n",
      "32/32 [==============================] - 0s 3ms/step - loss: 6.1193 - accuracy: 0.4860\n",
      "Epoch 34/100\n",
      "32/32 [==============================] - 0s 3ms/step - loss: 6.1193 - accuracy: 0.4860\n",
      "Epoch 35/100\n",
      "32/32 [==============================] - 0s 3ms/step - loss: 6.1191 - accuracy: 0.4860\n",
      "Epoch 36/100\n",
      "32/32 [==============================] - 0s 3ms/step - loss: 6.1190 - accuracy: 0.4860\n",
      "Epoch 37/100\n",
      "32/32 [==============================] - 0s 3ms/step - loss: 6.1190 - accuracy: 0.4860\n",
      "Epoch 38/100\n",
      "32/32 [==============================] - 0s 3ms/step - loss: 6.1189 - accuracy: 0.4860\n",
      "Epoch 39/100\n",
      "32/32 [==============================] - 0s 3ms/step - loss: 6.1187 - accuracy: 0.4860\n",
      "Epoch 40/100\n",
      "32/32 [==============================] - 0s 3ms/step - loss: 6.1186 - accuracy: 0.4860\n",
      "Epoch 41/100\n",
      "32/32 [==============================] - 0s 3ms/step - loss: 6.1185 - accuracy: 0.4860\n",
      "Epoch 42/100\n",
      "32/32 [==============================] - 0s 3ms/step - loss: 6.1034 - accuracy: 0.4870\n",
      "Epoch 43/100\n",
      "32/32 [==============================] - 0s 3ms/step - loss: 6.0933 - accuracy: 0.4860\n",
      "Epoch 44/100\n",
      "32/32 [==============================] - 0s 3ms/step - loss: 6.0889 - accuracy: 0.4850\n",
      "Epoch 45/100\n",
      "32/32 [==============================] - 0s 3ms/step - loss: 6.0887 - accuracy: 0.4850\n",
      "Epoch 46/100\n",
      "32/32 [==============================] - 0s 3ms/step - loss: 6.0871 - accuracy: 0.4860\n",
      "Epoch 47/100\n",
      "32/32 [==============================] - 0s 3ms/step - loss: 6.0868 - accuracy: 0.4860\n",
      "Epoch 48/100\n",
      "32/32 [==============================] - 0s 3ms/step - loss: 6.0863 - accuracy: 0.4850\n",
      "Epoch 49/100\n",
      "32/32 [==============================] - 0s 3ms/step - loss: 6.0860 - accuracy: 0.4850\n",
      "Epoch 50/100\n",
      "32/32 [==============================] - 0s 3ms/step - loss: 6.0856 - accuracy: 0.4850\n",
      "Epoch 51/100\n",
      "32/32 [==============================] - 0s 3ms/step - loss: 6.0853 - accuracy: 0.4850\n",
      "Epoch 52/100\n",
      "32/32 [==============================] - 0s 3ms/step - loss: 6.0850 - accuracy: 0.4850\n",
      "Epoch 53/100\n",
      "32/32 [==============================] - 0s 3ms/step - loss: 6.0847 - accuracy: 0.4850\n",
      "Epoch 54/100\n",
      "32/32 [==============================] - 0s 3ms/step - loss: 6.0844 - accuracy: 0.4850\n",
      "Epoch 55/100\n",
      "32/32 [==============================] - 0s 3ms/step - loss: 6.0842 - accuracy: 0.4850\n",
      "Epoch 56/100\n",
      "32/32 [==============================] - 0s 3ms/step - loss: 6.0840 - accuracy: 0.4850\n",
      "Epoch 57/100\n",
      "32/32 [==============================] - 0s 3ms/step - loss: 6.0836 - accuracy: 0.4850\n",
      "Epoch 58/100\n",
      "32/32 [==============================] - 0s 3ms/step - loss: 6.0833 - accuracy: 0.4850\n",
      "Epoch 59/100\n",
      "32/32 [==============================] - 0s 3ms/step - loss: 6.0831 - accuracy: 0.4850\n",
      "Epoch 60/100\n",
      "32/32 [==============================] - 0s 3ms/step - loss: 6.0827 - accuracy: 0.4850\n",
      "Epoch 61/100\n",
      "32/32 [==============================] - 0s 3ms/step - loss: 6.0826 - accuracy: 0.4850\n",
      "Epoch 62/100\n",
      "32/32 [==============================] - 0s 3ms/step - loss: 6.0823 - accuracy: 0.4850\n",
      "Epoch 63/100\n",
      "32/32 [==============================] - 0s 3ms/step - loss: 6.0820 - accuracy: 0.4850\n",
      "Epoch 64/100\n",
      "32/32 [==============================] - 0s 3ms/step - loss: 6.0818 - accuracy: 0.4850\n",
      "Epoch 65/100\n",
      "32/32 [==============================] - 0s 4ms/step - loss: 6.0815 - accuracy: 0.4850\n",
      "Epoch 66/100\n",
      "32/32 [==============================] - 0s 4ms/step - loss: 6.0813 - accuracy: 0.4850\n",
      "Epoch 67/100\n",
      "32/32 [==============================] - 0s 3ms/step - loss: 6.0751 - accuracy: 0.4850\n",
      "Epoch 68/100\n",
      "32/32 [==============================] - 0s 3ms/step - loss: 6.0443 - accuracy: 0.4850\n",
      "Epoch 69/100\n",
      "32/32 [==============================] - 0s 2ms/step - loss: 6.0013 - accuracy: 0.4850\n",
      "Epoch 70/100\n",
      "32/32 [==============================] - 0s 3ms/step - loss: 6.0006 - accuracy: 0.4850\n",
      "Epoch 71/100\n",
      "32/32 [==============================] - 0s 3ms/step - loss: 6.0003 - accuracy: 0.4850\n",
      "Epoch 72/100\n",
      "32/32 [==============================] - 0s 3ms/step - loss: 6.0000 - accuracy: 0.4840\n",
      "Epoch 73/100\n",
      "32/32 [==============================] - 0s 3ms/step - loss: 5.9998 - accuracy: 0.4840\n",
      "Epoch 74/100\n",
      "32/32 [==============================] - 0s 3ms/step - loss: 5.9996 - accuracy: 0.4840\n",
      "Epoch 75/100\n",
      "32/32 [==============================] - 0s 3ms/step - loss: 5.9994 - accuracy: 0.4840\n",
      "Epoch 76/100\n",
      "32/32 [==============================] - 0s 3ms/step - loss: 5.9992 - accuracy: 0.4840\n",
      "Epoch 77/100\n",
      "32/32 [==============================] - 0s 3ms/step - loss: 5.9990 - accuracy: 0.4840\n",
      "Epoch 78/100\n",
      "32/32 [==============================] - 0s 3ms/step - loss: 5.9989 - accuracy: 0.4840\n",
      "Epoch 79/100\n",
      "32/32 [==============================] - 0s 3ms/step - loss: 5.9987 - accuracy: 0.4840\n",
      "Epoch 80/100\n",
      "32/32 [==============================] - 0s 3ms/step - loss: 5.9986 - accuracy: 0.4830\n",
      "Epoch 81/100\n",
      "32/32 [==============================] - 0s 3ms/step - loss: 5.9985 - accuracy: 0.4830\n",
      "Epoch 82/100\n",
      "32/32 [==============================] - 0s 3ms/step - loss: 5.9983 - accuracy: 0.4830\n",
      "Epoch 83/100\n"
     ]
    },
    {
     "name": "stdout",
     "output_type": "stream",
     "text": [
      "32/32 [==============================] - 0s 3ms/step - loss: 5.9907 - accuracy: 0.4830\n",
      "Epoch 84/100\n",
      "32/32 [==============================] - 0s 3ms/step - loss: 5.9778 - accuracy: 0.4830\n",
      "Epoch 85/100\n",
      "32/32 [==============================] - 0s 3ms/step - loss: 5.9770 - accuracy: 0.4830\n",
      "Epoch 86/100\n",
      "32/32 [==============================] - 0s 3ms/step - loss: 5.9765 - accuracy: 0.4840\n",
      "Epoch 87/100\n",
      "32/32 [==============================] - 0s 3ms/step - loss: 5.9762 - accuracy: 0.4840\n",
      "Epoch 88/100\n",
      "32/32 [==============================] - 0s 3ms/step - loss: 5.9758 - accuracy: 0.4840\n",
      "Epoch 89/100\n",
      "32/32 [==============================] - 0s 3ms/step - loss: 5.9756 - accuracy: 0.4840\n",
      "Epoch 90/100\n",
      "32/32 [==============================] - 0s 3ms/step - loss: 5.9753 - accuracy: 0.4840\n",
      "Epoch 91/100\n",
      "32/32 [==============================] - 0s 3ms/step - loss: 5.9751 - accuracy: 0.4840\n",
      "Epoch 92/100\n",
      "32/32 [==============================] - 0s 3ms/step - loss: 5.9749 - accuracy: 0.4840\n",
      "Epoch 93/100\n",
      "32/32 [==============================] - 0s 2ms/step - loss: 5.9747 - accuracy: 0.4840\n",
      "Epoch 94/100\n",
      "32/32 [==============================] - 0s 3ms/step - loss: 5.9746 - accuracy: 0.4840\n",
      "Epoch 95/100\n",
      "32/32 [==============================] - 0s 3ms/step - loss: 5.9743 - accuracy: 0.4840\n",
      "Epoch 96/100\n",
      "32/32 [==============================] - 0s 3ms/step - loss: 5.9741 - accuracy: 0.4840\n",
      "Epoch 97/100\n",
      "32/32 [==============================] - 0s 3ms/step - loss: 5.9740 - accuracy: 0.4840\n",
      "Epoch 98/100\n",
      "32/32 [==============================] - 0s 3ms/step - loss: 5.9739 - accuracy: 0.4840\n",
      "Epoch 99/100\n",
      "32/32 [==============================] - 0s 3ms/step - loss: 5.9738 - accuracy: 0.4840\n",
      "Epoch 100/100\n",
      "32/32 [==============================] - 0s 3ms/step - loss: 5.9737 - accuracy: 0.4840\n"
     ]
    }
   ],
   "source": [
    "# Set random seed\n",
    "tf.random.set_seed(42)\n",
    "\n",
    "# 1. Create the model\n",
    "model_5 = tf.keras.models.Sequential([\n",
    "    tf.keras.layers.Dense(1, activation=tf.keras.activations.relu)\n",
    "])\n",
    "\n",
    "# 2. Compile the model\n",
    "model_5.compile(loss=tf.keras.losses.BinaryCrossentropy(),\n",
    "               optimizer=tf.keras.optimizers.Adam(lr=.001),\n",
    "               metrics=[\"accuracy\"])\n",
    "\n",
    "# 3. Fit the model\n",
    "history_5 = model_5.fit(X,y,epochs=100,verbose=1)"
   ]
  },
  {
   "cell_type": "markdown",
   "id": "a35a4084",
   "metadata": {},
   "source": [
    "The accuracy is 0.4720 (47.2%). The model is still performing poorly."
   ]
  },
  {
   "cell_type": "code",
   "execution_count": null,
   "id": "b0268ce5",
   "metadata": {},
   "outputs": [],
   "source": []
  },
  {
   "cell_type": "markdown",
   "id": "a93074cf",
   "metadata": {},
   "source": [
    "We are going to build a more complex model, with a non-line"
   ]
  },
  {
   "cell_type": "code",
   "execution_count": 25,
   "id": "cf23981e",
   "metadata": {},
   "outputs": [
    {
     "name": "stdout",
     "output_type": "stream",
     "text": [
      "Epoch 1/200\n",
      "32/32 [==============================] - 1s 3ms/step - loss: 3.4304 - accuracy: 0.4630\n",
      "Epoch 2/200\n",
      "32/32 [==============================] - 0s 3ms/step - loss: 2.5486 - accuracy: 0.4590\n",
      "Epoch 3/200\n",
      "32/32 [==============================] - 0s 3ms/step - loss: 2.2073 - accuracy: 0.4520\n",
      "Epoch 4/200\n",
      "32/32 [==============================] - 0s 3ms/step - loss: 1.9890 - accuracy: 0.4470\n",
      "Epoch 5/200\n",
      "32/32 [==============================] - 0s 3ms/step - loss: 1.9362 - accuracy: 0.4470\n",
      "Epoch 6/200\n",
      "32/32 [==============================] - 0s 3ms/step - loss: 1.9046 - accuracy: 0.4370\n",
      "Epoch 7/200\n",
      "32/32 [==============================] - 0s 3ms/step - loss: 1.8445 - accuracy: 0.4150\n",
      "Epoch 8/200\n",
      "32/32 [==============================] - 0s 3ms/step - loss: 1.2160 - accuracy: 0.4340\n",
      "Epoch 9/200\n",
      "32/32 [==============================] - 0s 3ms/step - loss: 0.9386 - accuracy: 0.4380\n",
      "Epoch 10/200\n",
      "32/32 [==============================] - 0s 3ms/step - loss: 0.9146 - accuracy: 0.4120\n",
      "Epoch 11/200\n",
      "32/32 [==============================] - 0s 3ms/step - loss: 0.8994 - accuracy: 0.3900\n",
      "Epoch 12/200\n",
      "32/32 [==============================] - 0s 3ms/step - loss: 0.8873 - accuracy: 0.3960\n",
      "Epoch 13/200\n",
      "32/32 [==============================] - 0s 3ms/step - loss: 0.8770 - accuracy: 0.4030\n",
      "Epoch 14/200\n",
      "32/32 [==============================] - 0s 3ms/step - loss: 0.8680 - accuracy: 0.4070\n",
      "Epoch 15/200\n",
      "32/32 [==============================] - 0s 3ms/step - loss: 0.8601 - accuracy: 0.4140\n",
      "Epoch 16/200\n",
      "32/32 [==============================] - 0s 3ms/step - loss: 0.8528 - accuracy: 0.4160\n",
      "Epoch 17/200\n",
      "32/32 [==============================] - 0s 3ms/step - loss: 0.8461 - accuracy: 0.4190\n",
      "Epoch 18/200\n",
      "32/32 [==============================] - 0s 3ms/step - loss: 0.8399 - accuracy: 0.4200\n",
      "Epoch 19/200\n",
      "32/32 [==============================] - 0s 3ms/step - loss: 0.8346 - accuracy: 0.4160\n",
      "Epoch 20/200\n",
      "32/32 [==============================] - 0s 3ms/step - loss: 0.8295 - accuracy: 0.4180\n",
      "Epoch 21/200\n",
      "32/32 [==============================] - 0s 3ms/step - loss: 0.8251 - accuracy: 0.4120\n",
      "Epoch 22/200\n",
      "32/32 [==============================] - 0s 3ms/step - loss: 0.8207 - accuracy: 0.4140\n",
      "Epoch 23/200\n",
      "32/32 [==============================] - 0s 3ms/step - loss: 0.8167 - accuracy: 0.4090\n",
      "Epoch 24/200\n",
      "32/32 [==============================] - 0s 3ms/step - loss: 0.8128 - accuracy: 0.4110\n",
      "Epoch 25/200\n",
      "32/32 [==============================] - 0s 3ms/step - loss: 0.8093 - accuracy: 0.4080\n",
      "Epoch 26/200\n",
      "32/32 [==============================] - 0s 3ms/step - loss: 0.8057 - accuracy: 0.4000\n",
      "Epoch 27/200\n",
      "32/32 [==============================] - 0s 3ms/step - loss: 0.8027 - accuracy: 0.3900\n",
      "Epoch 28/200\n",
      "32/32 [==============================] - 0s 4ms/step - loss: 0.7990 - accuracy: 0.3940\n",
      "Epoch 29/200\n",
      "32/32 [==============================] - 0s 4ms/step - loss: 0.7959 - accuracy: 0.3890\n",
      "Epoch 30/200\n",
      "32/32 [==============================] - 0s 3ms/step - loss: 0.7928 - accuracy: 0.3870\n",
      "Epoch 31/200\n",
      "32/32 [==============================] - 0s 3ms/step - loss: 0.7900 - accuracy: 0.3880\n",
      "Epoch 32/200\n",
      "32/32 [==============================] - 0s 3ms/step - loss: 0.7870 - accuracy: 0.3830\n",
      "Epoch 33/200\n",
      "32/32 [==============================] - 0s 4ms/step - loss: 0.7842 - accuracy: 0.3810\n",
      "Epoch 34/200\n",
      "32/32 [==============================] - 0s 3ms/step - loss: 0.7816 - accuracy: 0.3810\n",
      "Epoch 35/200\n",
      "32/32 [==============================] - 0s 3ms/step - loss: 0.7790 - accuracy: 0.3770\n",
      "Epoch 36/200\n",
      "32/32 [==============================] - 0s 3ms/step - loss: 0.7763 - accuracy: 0.3790\n",
      "Epoch 37/200\n",
      "32/32 [==============================] - 0s 3ms/step - loss: 0.7738 - accuracy: 0.3760\n",
      "Epoch 38/200\n",
      "32/32 [==============================] - 0s 4ms/step - loss: 0.7715 - accuracy: 0.3790\n",
      "Epoch 39/200\n",
      "32/32 [==============================] - 0s 3ms/step - loss: 0.7691 - accuracy: 0.3760\n",
      "Epoch 40/200\n",
      "32/32 [==============================] - 0s 3ms/step - loss: 0.7669 - accuracy: 0.3780\n",
      "Epoch 41/200\n",
      "32/32 [==============================] - 0s 3ms/step - loss: 0.7647 - accuracy: 0.3750\n",
      "Epoch 42/200\n",
      "32/32 [==============================] - 0s 3ms/step - loss: 0.7624 - accuracy: 0.3760\n",
      "Epoch 43/200\n",
      "32/32 [==============================] - 0s 3ms/step - loss: 0.7601 - accuracy: 0.3780\n",
      "Epoch 44/200\n",
      "32/32 [==============================] - 0s 3ms/step - loss: 0.7582 - accuracy: 0.3750\n",
      "Epoch 45/200\n",
      "32/32 [==============================] - 0s 3ms/step - loss: 0.7560 - accuracy: 0.3780\n",
      "Epoch 46/200\n",
      "32/32 [==============================] - 0s 3ms/step - loss: 0.7541 - accuracy: 0.3790\n",
      "Epoch 47/200\n",
      "32/32 [==============================] - 0s 3ms/step - loss: 0.7525 - accuracy: 0.3810\n",
      "Epoch 48/200\n",
      "32/32 [==============================] - 0s 3ms/step - loss: 0.7505 - accuracy: 0.3800\n",
      "Epoch 49/200\n",
      "32/32 [==============================] - 0s 3ms/step - loss: 0.7487 - accuracy: 0.3770\n",
      "Epoch 50/200\n",
      "32/32 [==============================] - 0s 3ms/step - loss: 0.7469 - accuracy: 0.3750\n",
      "Epoch 51/200\n",
      "32/32 [==============================] - 0s 4ms/step - loss: 0.7450 - accuracy: 0.3740\n",
      "Epoch 52/200\n",
      "32/32 [==============================] - 0s 3ms/step - loss: 0.7434 - accuracy: 0.3800\n",
      "Epoch 53/200\n",
      "32/32 [==============================] - 0s 3ms/step - loss: 0.7419 - accuracy: 0.3740\n",
      "Epoch 54/200\n",
      "32/32 [==============================] - 0s 3ms/step - loss: 0.7401 - accuracy: 0.3800\n",
      "Epoch 55/200\n",
      "32/32 [==============================] - 0s 3ms/step - loss: 0.7387 - accuracy: 0.3820\n",
      "Epoch 56/200\n",
      "32/32 [==============================] - 0s 3ms/step - loss: 0.7371 - accuracy: 0.3840\n",
      "Epoch 57/200\n",
      "32/32 [==============================] - 0s 3ms/step - loss: 0.7355 - accuracy: 0.3870\n",
      "Epoch 58/200\n",
      "32/32 [==============================] - 0s 3ms/step - loss: 0.7341 - accuracy: 0.3840\n",
      "Epoch 59/200\n",
      "32/32 [==============================] - 0s 3ms/step - loss: 0.7327 - accuracy: 0.3840\n",
      "Epoch 60/200\n",
      "32/32 [==============================] - 0s 3ms/step - loss: 0.7313 - accuracy: 0.3810\n",
      "Epoch 61/200\n",
      "32/32 [==============================] - 0s 3ms/step - loss: 0.7299 - accuracy: 0.3950\n",
      "Epoch 62/200\n",
      "32/32 [==============================] - 0s 4ms/step - loss: 0.7285 - accuracy: 0.3950\n",
      "Epoch 63/200\n",
      "32/32 [==============================] - 0s 3ms/step - loss: 0.7271 - accuracy: 0.3910\n",
      "Epoch 64/200\n",
      "32/32 [==============================] - 0s 3ms/step - loss: 0.7257 - accuracy: 0.3910\n",
      "Epoch 65/200\n",
      "32/32 [==============================] - 0s 3ms/step - loss: 0.7244 - accuracy: 0.3950\n",
      "Epoch 66/200\n",
      "32/32 [==============================] - 0s 3ms/step - loss: 0.7231 - accuracy: 0.3970\n",
      "Epoch 67/200\n",
      "32/32 [==============================] - 0s 3ms/step - loss: 0.7218 - accuracy: 0.4050\n",
      "Epoch 68/200\n",
      "32/32 [==============================] - 0s 3ms/step - loss: 0.7205 - accuracy: 0.4100\n",
      "Epoch 69/200\n",
      "32/32 [==============================] - 0s 3ms/step - loss: 0.7193 - accuracy: 0.4030\n",
      "Epoch 70/200\n",
      "32/32 [==============================] - 0s 3ms/step - loss: 0.7182 - accuracy: 0.4010\n",
      "Epoch 71/200\n",
      "32/32 [==============================] - 0s 4ms/step - loss: 0.7171 - accuracy: 0.4110\n",
      "Epoch 72/200\n",
      "32/32 [==============================] - 0s 3ms/step - loss: 0.7160 - accuracy: 0.4080\n",
      "Epoch 73/200\n",
      "32/32 [==============================] - 0s 3ms/step - loss: 0.7149 - accuracy: 0.4090\n",
      "Epoch 74/200\n",
      "32/32 [==============================] - 0s 3ms/step - loss: 0.7137 - accuracy: 0.4080\n",
      "Epoch 75/200\n",
      "32/32 [==============================] - 0s 3ms/step - loss: 0.7126 - accuracy: 0.4110\n",
      "Epoch 76/200\n",
      "32/32 [==============================] - 0s 3ms/step - loss: 0.7116 - accuracy: 0.4270\n",
      "Epoch 77/200\n",
      "32/32 [==============================] - 0s 3ms/step - loss: 0.7107 - accuracy: 0.4060\n",
      "Epoch 78/200\n",
      "32/32 [==============================] - 0s 3ms/step - loss: 0.7096 - accuracy: 0.4180\n",
      "Epoch 79/200\n",
      "32/32 [==============================] - 0s 3ms/step - loss: 0.7086 - accuracy: 0.4240\n",
      "Epoch 80/200\n",
      "32/32 [==============================] - 0s 3ms/step - loss: 0.7075 - accuracy: 0.4190\n",
      "Epoch 81/200\n",
      "32/32 [==============================] - 0s 3ms/step - loss: 0.7069 - accuracy: 0.4160\n",
      "Epoch 82/200\n",
      "32/32 [==============================] - 0s 3ms/step - loss: 0.7058 - accuracy: 0.4260\n",
      "Epoch 83/200\n"
     ]
    },
    {
     "name": "stdout",
     "output_type": "stream",
     "text": [
      "32/32 [==============================] - 0s 3ms/step - loss: 0.7047 - accuracy: 0.4340\n",
      "Epoch 84/200\n",
      "32/32 [==============================] - 0s 3ms/step - loss: 0.7034 - accuracy: 0.4260\n",
      "Epoch 85/200\n",
      "32/32 [==============================] - 0s 3ms/step - loss: 0.7027 - accuracy: 0.4260\n",
      "Epoch 86/200\n",
      "32/32 [==============================] - 0s 3ms/step - loss: 0.7020 - accuracy: 0.4250\n",
      "Epoch 87/200\n",
      "32/32 [==============================] - 0s 3ms/step - loss: 0.7008 - accuracy: 0.4350\n",
      "Epoch 88/200\n",
      "32/32 [==============================] - 0s 3ms/step - loss: 0.6998 - accuracy: 0.4530\n",
      "Epoch 89/200\n",
      "32/32 [==============================] - 0s 3ms/step - loss: 0.6991 - accuracy: 0.4590\n",
      "Epoch 90/200\n",
      "32/32 [==============================] - 0s 3ms/step - loss: 0.6982 - accuracy: 0.4810\n",
      "Epoch 91/200\n",
      "32/32 [==============================] - 0s 3ms/step - loss: 0.6970 - accuracy: 0.4560\n",
      "Epoch 92/200\n",
      "32/32 [==============================] - 0s 3ms/step - loss: 0.6965 - accuracy: 0.4370\n",
      "Epoch 93/200\n",
      "32/32 [==============================] - 0s 3ms/step - loss: 0.6959 - accuracy: 0.4800\n",
      "Epoch 94/200\n",
      "32/32 [==============================] - 0s 3ms/step - loss: 0.6943 - accuracy: 0.4600\n",
      "Epoch 95/200\n",
      "32/32 [==============================] - 0s 3ms/step - loss: 0.6934 - accuracy: 0.4570\n",
      "Epoch 96/200\n",
      "32/32 [==============================] - 0s 3ms/step - loss: 0.6928 - accuracy: 0.4480\n",
      "Epoch 97/200\n",
      "32/32 [==============================] - 0s 3ms/step - loss: 0.6918 - accuracy: 0.4620\n",
      "Epoch 98/200\n",
      "32/32 [==============================] - 0s 3ms/step - loss: 0.6910 - accuracy: 0.4700\n",
      "Epoch 99/200\n",
      "32/32 [==============================] - 0s 3ms/step - loss: 0.6901 - accuracy: 0.4390\n",
      "Epoch 100/200\n",
      "32/32 [==============================] - 0s 3ms/step - loss: 0.6894 - accuracy: 0.4390\n",
      "Epoch 101/200\n",
      "32/32 [==============================] - 0s 3ms/step - loss: 0.6884 - accuracy: 0.4630\n",
      "Epoch 102/200\n",
      "32/32 [==============================] - 0s 3ms/step - loss: 0.6872 - accuracy: 0.4570\n",
      "Epoch 103/200\n",
      "32/32 [==============================] - 0s 3ms/step - loss: 0.6863 - accuracy: 0.4530\n",
      "Epoch 104/200\n",
      "32/32 [==============================] - 0s 3ms/step - loss: 0.6856 - accuracy: 0.4740\n",
      "Epoch 105/200\n",
      "32/32 [==============================] - 0s 3ms/step - loss: 0.6848 - accuracy: 0.4570\n",
      "Epoch 106/200\n",
      "32/32 [==============================] - 0s 3ms/step - loss: 0.6837 - accuracy: 0.4550\n",
      "Epoch 107/200\n",
      "32/32 [==============================] - 0s 3ms/step - loss: 0.6832 - accuracy: 0.4770\n",
      "Epoch 108/200\n",
      "32/32 [==============================] - 0s 3ms/step - loss: 0.6819 - accuracy: 0.4740\n",
      "Epoch 109/200\n",
      "32/32 [==============================] - 0s 3ms/step - loss: 0.6810 - accuracy: 0.4750\n",
      "Epoch 110/200\n",
      "32/32 [==============================] - 0s 3ms/step - loss: 0.6802 - accuracy: 0.4850\n",
      "Epoch 111/200\n",
      "32/32 [==============================] - 0s 3ms/step - loss: 0.6792 - accuracy: 0.5030\n",
      "Epoch 112/200\n",
      "32/32 [==============================] - 0s 3ms/step - loss: 0.6786 - accuracy: 0.5110\n",
      "Epoch 113/200\n",
      "32/32 [==============================] - 0s 3ms/step - loss: 0.6772 - accuracy: 0.5190\n",
      "Epoch 114/200\n",
      "32/32 [==============================] - 0s 3ms/step - loss: 0.6764 - accuracy: 0.5290\n",
      "Epoch 115/200\n",
      "32/32 [==============================] - 0s 3ms/step - loss: 0.6754 - accuracy: 0.5300\n",
      "Epoch 116/200\n",
      "32/32 [==============================] - 0s 3ms/step - loss: 0.6745 - accuracy: 0.5380\n",
      "Epoch 117/200\n",
      "32/32 [==============================] - 0s 3ms/step - loss: 0.6740 - accuracy: 0.5440\n",
      "Epoch 118/200\n",
      "32/32 [==============================] - 0s 2ms/step - loss: 0.6728 - accuracy: 0.5410\n",
      "Epoch 119/200\n",
      "32/32 [==============================] - 0s 3ms/step - loss: 0.6714 - accuracy: 0.5460\n",
      "Epoch 120/200\n",
      "32/32 [==============================] - 0s 3ms/step - loss: 0.6700 - accuracy: 0.5500\n",
      "Epoch 121/200\n",
      "32/32 [==============================] - 0s 3ms/step - loss: 0.6687 - accuracy: 0.5520\n",
      "Epoch 122/200\n",
      "32/32 [==============================] - 0s 3ms/step - loss: 0.6678 - accuracy: 0.5530\n",
      "Epoch 123/200\n",
      "32/32 [==============================] - 0s 3ms/step - loss: 0.6665 - accuracy: 0.5760\n",
      "Epoch 124/200\n",
      "32/32 [==============================] - 0s 3ms/step - loss: 0.6650 - accuracy: 0.5920\n",
      "Epoch 125/200\n",
      "32/32 [==============================] - 0s 3ms/step - loss: 0.6637 - accuracy: 0.5930\n",
      "Epoch 126/200\n",
      "32/32 [==============================] - 0s 3ms/step - loss: 0.6622 - accuracy: 0.6060\n",
      "Epoch 127/200\n",
      "32/32 [==============================] - 0s 3ms/step - loss: 0.6605 - accuracy: 0.5950\n",
      "Epoch 128/200\n",
      "32/32 [==============================] - 0s 3ms/step - loss: 0.6593 - accuracy: 0.5890\n",
      "Epoch 129/200\n",
      "32/32 [==============================] - 0s 3ms/step - loss: 0.6579 - accuracy: 0.6040\n",
      "Epoch 130/200\n",
      "32/32 [==============================] - 0s 3ms/step - loss: 0.6561 - accuracy: 0.5590\n",
      "Epoch 131/200\n",
      "32/32 [==============================] - 0s 3ms/step - loss: 0.6545 - accuracy: 0.5600\n",
      "Epoch 132/200\n",
      "32/32 [==============================] - 0s 3ms/step - loss: 0.6527 - accuracy: 0.5640\n",
      "Epoch 133/200\n",
      "32/32 [==============================] - 0s 3ms/step - loss: 0.6510 - accuracy: 0.5660\n",
      "Epoch 134/200\n",
      "32/32 [==============================] - 0s 3ms/step - loss: 0.6492 - accuracy: 0.5650\n",
      "Epoch 135/200\n",
      "32/32 [==============================] - 0s 3ms/step - loss: 0.6478 - accuracy: 0.5550\n",
      "Epoch 136/200\n",
      "32/32 [==============================] - 0s 3ms/step - loss: 0.6456 - accuracy: 0.5630\n",
      "Epoch 137/200\n",
      "32/32 [==============================] - 0s 3ms/step - loss: 0.6441 - accuracy: 0.5760\n",
      "Epoch 138/200\n",
      "32/32 [==============================] - 0s 3ms/step - loss: 0.6423 - accuracy: 0.5720\n",
      "Epoch 139/200\n",
      "32/32 [==============================] - 0s 3ms/step - loss: 0.6399 - accuracy: 0.5710\n",
      "Epoch 140/200\n",
      "32/32 [==============================] - 0s 3ms/step - loss: 0.6386 - accuracy: 0.5630\n",
      "Epoch 141/200\n",
      "32/32 [==============================] - 0s 3ms/step - loss: 0.6363 - accuracy: 0.5770\n",
      "Epoch 142/200\n",
      "32/32 [==============================] - 0s 3ms/step - loss: 0.6340 - accuracy: 0.5840\n",
      "Epoch 143/200\n",
      "32/32 [==============================] - 0s 2ms/step - loss: 0.6324 - accuracy: 0.5850\n",
      "Epoch 144/200\n",
      "32/32 [==============================] - 0s 2ms/step - loss: 0.6296 - accuracy: 0.5820\n",
      "Epoch 145/200\n",
      "32/32 [==============================] - 0s 3ms/step - loss: 0.6277 - accuracy: 0.5890\n",
      "Epoch 146/200\n",
      "32/32 [==============================] - 0s 3ms/step - loss: 0.6249 - accuracy: 0.5850\n",
      "Epoch 147/200\n",
      "32/32 [==============================] - 0s 3ms/step - loss: 0.6233 - accuracy: 0.6000\n",
      "Epoch 148/200\n",
      "32/32 [==============================] - 0s 3ms/step - loss: 0.6201 - accuracy: 0.6090\n",
      "Epoch 149/200\n",
      "32/32 [==============================] - 0s 3ms/step - loss: 0.6177 - accuracy: 0.5960\n",
      "Epoch 150/200\n",
      "32/32 [==============================] - 0s 3ms/step - loss: 0.6159 - accuracy: 0.6300\n",
      "Epoch 151/200\n",
      "32/32 [==============================] - 0s 3ms/step - loss: 0.6122 - accuracy: 0.6200\n",
      "Epoch 152/200\n",
      "32/32 [==============================] - 0s 3ms/step - loss: 0.6098 - accuracy: 0.6520\n",
      "Epoch 153/200\n",
      "32/32 [==============================] - 0s 3ms/step - loss: 0.6065 - accuracy: 0.6390\n",
      "Epoch 154/200\n",
      "32/32 [==============================] - 0s 3ms/step - loss: 0.6041 - accuracy: 0.6370\n",
      "Epoch 155/200\n",
      "32/32 [==============================] - 0s 3ms/step - loss: 0.5996 - accuracy: 0.6770\n",
      "Epoch 156/200\n",
      "32/32 [==============================] - 0s 3ms/step - loss: 0.5965 - accuracy: 0.6820\n",
      "Epoch 157/200\n",
      "32/32 [==============================] - 0s 3ms/step - loss: 0.5931 - accuracy: 0.7060\n",
      "Epoch 158/200\n",
      "32/32 [==============================] - 0s 3ms/step - loss: 0.5899 - accuracy: 0.7010\n",
      "Epoch 159/200\n",
      "32/32 [==============================] - 0s 3ms/step - loss: 0.5855 - accuracy: 0.7250\n",
      "Epoch 160/200\n",
      "32/32 [==============================] - 0s 3ms/step - loss: 0.5826 - accuracy: 0.7370\n",
      "Epoch 161/200\n",
      "32/32 [==============================] - 0s 3ms/step - loss: 0.5775 - accuracy: 0.7390\n",
      "Epoch 162/200\n",
      "32/32 [==============================] - 0s 3ms/step - loss: 0.5734 - accuracy: 0.7360\n",
      "Epoch 163/200\n",
      "32/32 [==============================] - 0s 3ms/step - loss: 0.5693 - accuracy: 0.7390\n",
      "Epoch 164/200\n"
     ]
    },
    {
     "name": "stdout",
     "output_type": "stream",
     "text": [
      "32/32 [==============================] - 0s 3ms/step - loss: 0.5647 - accuracy: 0.7500\n",
      "Epoch 165/200\n",
      "32/32 [==============================] - 0s 3ms/step - loss: 0.5610 - accuracy: 0.7830\n",
      "Epoch 166/200\n",
      "32/32 [==============================] - 0s 3ms/step - loss: 0.5556 - accuracy: 0.8030\n",
      "Epoch 167/200\n",
      "32/32 [==============================] - 0s 3ms/step - loss: 0.5515 - accuracy: 0.8230\n",
      "Epoch 168/200\n",
      "32/32 [==============================] - 0s 3ms/step - loss: 0.5456 - accuracy: 0.8270\n",
      "Epoch 169/200\n",
      "32/32 [==============================] - 0s 3ms/step - loss: 0.5406 - accuracy: 0.8410\n",
      "Epoch 170/200\n",
      "32/32 [==============================] - 0s 3ms/step - loss: 0.5352 - accuracy: 0.8580\n",
      "Epoch 171/200\n",
      "32/32 [==============================] - 0s 3ms/step - loss: 0.5292 - accuracy: 0.8710\n",
      "Epoch 172/200\n",
      "32/32 [==============================] - 0s 3ms/step - loss: 0.5244 - accuracy: 0.8590\n",
      "Epoch 173/200\n",
      "32/32 [==============================] - 0s 3ms/step - loss: 0.5186 - accuracy: 0.8750\n",
      "Epoch 174/200\n",
      "32/32 [==============================] - 0s 3ms/step - loss: 0.5125 - accuracy: 0.8690\n",
      "Epoch 175/200\n",
      "32/32 [==============================] - 0s 3ms/step - loss: 0.5062 - accuracy: 0.9060\n",
      "Epoch 176/200\n",
      "32/32 [==============================] - 0s 3ms/step - loss: 0.5009 - accuracy: 0.9020\n",
      "Epoch 177/200\n",
      "32/32 [==============================] - 0s 3ms/step - loss: 0.4937 - accuracy: 0.8920\n",
      "Epoch 178/200\n",
      "32/32 [==============================] - 0s 3ms/step - loss: 0.4883 - accuracy: 0.9090\n",
      "Epoch 179/200\n",
      "32/32 [==============================] - 0s 3ms/step - loss: 0.4810 - accuracy: 0.9150\n",
      "Epoch 180/200\n",
      "32/32 [==============================] - 0s 3ms/step - loss: 0.4744 - accuracy: 0.9150\n",
      "Epoch 181/200\n",
      "32/32 [==============================] - 0s 3ms/step - loss: 0.4673 - accuracy: 0.9110\n",
      "Epoch 182/200\n",
      "32/32 [==============================] - 0s 4ms/step - loss: 0.4606 - accuracy: 0.9220\n",
      "Epoch 183/200\n",
      "32/32 [==============================] - 0s 3ms/step - loss: 0.4542 - accuracy: 0.9290\n",
      "Epoch 184/200\n",
      "32/32 [==============================] - 0s 3ms/step - loss: 0.4461 - accuracy: 0.9290\n",
      "Epoch 185/200\n",
      "32/32 [==============================] - 0s 3ms/step - loss: 0.4391 - accuracy: 0.9300\n",
      "Epoch 186/200\n",
      "32/32 [==============================] - 0s 3ms/step - loss: 0.4317 - accuracy: 0.9430\n",
      "Epoch 187/200\n",
      "32/32 [==============================] - 0s 3ms/step - loss: 0.4233 - accuracy: 0.9370\n",
      "Epoch 188/200\n",
      "32/32 [==============================] - 0s 3ms/step - loss: 0.4157 - accuracy: 0.9490\n",
      "Epoch 189/200\n",
      "32/32 [==============================] - 0s 4ms/step - loss: 0.4078 - accuracy: 0.9470\n",
      "Epoch 190/200\n",
      "32/32 [==============================] - 0s 3ms/step - loss: 0.4006 - accuracy: 0.9380\n",
      "Epoch 191/200\n",
      "32/32 [==============================] - 0s 3ms/step - loss: 0.3919 - accuracy: 0.9460\n",
      "Epoch 192/200\n",
      "32/32 [==============================] - 0s 3ms/step - loss: 0.3844 - accuracy: 0.9510\n",
      "Epoch 193/200\n",
      "32/32 [==============================] - 0s 3ms/step - loss: 0.3752 - accuracy: 0.9450\n",
      "Epoch 194/200\n",
      "32/32 [==============================] - 0s 4ms/step - loss: 0.3674 - accuracy: 0.9510\n",
      "Epoch 195/200\n",
      "32/32 [==============================] - 0s 4ms/step - loss: 0.3580 - accuracy: 0.9590\n",
      "Epoch 196/200\n",
      "32/32 [==============================] - 0s 3ms/step - loss: 0.3488 - accuracy: 0.9600\n",
      "Epoch 197/200\n",
      "32/32 [==============================] - 0s 3ms/step - loss: 0.3405 - accuracy: 0.9610\n",
      "Epoch 198/200\n",
      "32/32 [==============================] - 0s 3ms/step - loss: 0.3323 - accuracy: 0.9600\n",
      "Epoch 199/200\n",
      "32/32 [==============================] - 0s 3ms/step - loss: 0.3236 - accuracy: 0.9570\n",
      "Epoch 200/200\n",
      "32/32 [==============================] - 0s 3ms/step - loss: 0.3145 - accuracy: 0.9520\n"
     ]
    }
   ],
   "source": [
    "# Set random seed\n",
    "tf.random.set_seed(42)\n",
    "\n",
    "# 1. Create the model\n",
    "model_6 = tf.keras.models.Sequential([\n",
    "    tf.keras.layers.Dense(4, activation=tf.keras.activations.relu),\n",
    "    tf.keras.layers.Dense(4, activation=tf.keras.activations.relu),\n",
    "    tf.keras.layers.Dense(1)\n",
    "])\n",
    "\n",
    "# 2. Compile the model\n",
    "model_6.compile(loss=tf.keras.losses.BinaryCrossentropy(),\n",
    "               optimizer=tf.keras.optimizers.Adam(lr=0.001),\n",
    "               metrics=[\"accuracy\"])\n",
    "\n",
    "# 3. Fit the model\n",
    "history_6= model_6.fit(X,y,epochs=200, verbose=1)"
   ]
  },
  {
   "cell_type": "markdown",
   "id": "10fdcb5f",
   "metadata": {},
   "source": [
    "The accuracy is 0.9620 (96%). This means that out of 100 predictions, 96 are made right."
   ]
  },
  {
   "cell_type": "code",
   "execution_count": 26,
   "id": "a234b41f",
   "metadata": {},
   "outputs": [
    {
     "name": "stdout",
     "output_type": "stream",
     "text": [
      "313/313 [==============================] - 1s 2ms/step\n",
      "Doing binary classification\n"
     ]
    },
    {
     "data": {
      "image/png": "[encoded data removed]",
      "text/plain": [
       "<Figure size 432x288 with 1 Axes>"
      ]
     },
     "metadata": {
      "needs_background": "light"
     },
     "output_type": "display_data"
    }
   ],
   "source": [
    "# Check the decision boundary for our latest model\n",
    "plot_decision_boundary(model=model_6,X=X, y=y)"
   ]
  },
  {
   "cell_type": "markdown",
   "id": "9415cc63",
   "metadata": {},
   "source": [
    "Looking at the plot, the model has a nearly perfect decision boundary (which explain the high accuracy), but it's in doubt about the position blue and right zones (we can see that by the fact there are hue in the zones). Let's try to resolve that by putting an activation function on the last layer."
   ]
  },
  {
   "cell_type": "code",
   "execution_count": null,
   "id": "4ef2da1a",
   "metadata": {},
   "outputs": [],
   "source": []
  },
  {
   "cell_type": "code",
   "execution_count": 27,
   "id": "96421f28",
   "metadata": {},
   "outputs": [
    {
     "name": "stdout",
     "output_type": "stream",
     "text": [
      "Epoch 1/200\n",
      "32/32 [==============================] - 1s 2ms/step - loss: 0.7262 - accuracy: 0.5010\n",
      "Epoch 2/200\n",
      "32/32 [==============================] - 0s 3ms/step - loss: 0.7039 - accuracy: 0.5130\n",
      "Epoch 3/200\n",
      "32/32 [==============================] - 0s 3ms/step - loss: 0.6920 - accuracy: 0.5090\n",
      "Epoch 4/200\n",
      "32/32 [==============================] - 0s 3ms/step - loss: 0.6868 - accuracy: 0.5160\n",
      "Epoch 5/200\n",
      "32/32 [==============================] - 0s 3ms/step - loss: 0.6839 - accuracy: 0.5270\n",
      "Epoch 6/200\n",
      "32/32 [==============================] - 0s 3ms/step - loss: 0.6821 - accuracy: 0.5350\n",
      "Epoch 7/200\n",
      "32/32 [==============================] - 0s 3ms/step - loss: 0.6809 - accuracy: 0.5430\n",
      "Epoch 8/200\n",
      "32/32 [==============================] - 0s 3ms/step - loss: 0.6803 - accuracy: 0.5490\n",
      "Epoch 9/200\n",
      "32/32 [==============================] - 0s 3ms/step - loss: 0.6797 - accuracy: 0.5480\n",
      "Epoch 10/200\n",
      "32/32 [==============================] - 0s 3ms/step - loss: 0.6791 - accuracy: 0.5420\n",
      "Epoch 11/200\n",
      "32/32 [==============================] - 0s 3ms/step - loss: 0.6785 - accuracy: 0.5430\n",
      "Epoch 12/200\n",
      "32/32 [==============================] - 0s 3ms/step - loss: 0.6780 - accuracy: 0.5460\n",
      "Epoch 13/200\n",
      "32/32 [==============================] - 0s 3ms/step - loss: 0.6772 - accuracy: 0.5470\n",
      "Epoch 14/200\n",
      "32/32 [==============================] - 0s 3ms/step - loss: 0.6766 - accuracy: 0.5510\n",
      "Epoch 15/200\n",
      "32/32 [==============================] - 0s 3ms/step - loss: 0.6759 - accuracy: 0.5430\n",
      "Epoch 16/200\n",
      "32/32 [==============================] - 0s 3ms/step - loss: 0.6751 - accuracy: 0.5450\n",
      "Epoch 17/200\n",
      "32/32 [==============================] - 0s 3ms/step - loss: 0.6745 - accuracy: 0.5440\n",
      "Epoch 18/200\n",
      "32/32 [==============================] - 0s 3ms/step - loss: 0.6737 - accuracy: 0.5410\n",
      "Epoch 19/200\n",
      "32/32 [==============================] - 0s 3ms/step - loss: 0.6730 - accuracy: 0.5470\n",
      "Epoch 20/200\n",
      "32/32 [==============================] - 0s 3ms/step - loss: 0.6721 - accuracy: 0.5450\n",
      "Epoch 21/200\n",
      "32/32 [==============================] - 0s 3ms/step - loss: 0.6711 - accuracy: 0.5380\n",
      "Epoch 22/200\n",
      "32/32 [==============================] - 0s 3ms/step - loss: 0.6701 - accuracy: 0.5370\n",
      "Epoch 23/200\n",
      "32/32 [==============================] - 0s 3ms/step - loss: 0.6693 - accuracy: 0.5430\n",
      "Epoch 24/200\n",
      "32/32 [==============================] - 0s 3ms/step - loss: 0.6685 - accuracy: 0.5370\n",
      "Epoch 25/200\n",
      "32/32 [==============================] - 0s 3ms/step - loss: 0.6673 - accuracy: 0.5400\n",
      "Epoch 26/200\n",
      "32/32 [==============================] - 0s 2ms/step - loss: 0.6660 - accuracy: 0.5530\n",
      "Epoch 27/200\n",
      "32/32 [==============================] - 0s 3ms/step - loss: 0.6652 - accuracy: 0.5670\n",
      "Epoch 28/200\n",
      "32/32 [==============================] - 0s 3ms/step - loss: 0.6635 - accuracy: 0.5600\n",
      "Epoch 29/200\n",
      "32/32 [==============================] - 0s 3ms/step - loss: 0.6625 - accuracy: 0.5430\n",
      "Epoch 30/200\n",
      "32/32 [==============================] - 0s 3ms/step - loss: 0.6611 - accuracy: 0.5600\n",
      "Epoch 31/200\n",
      "32/32 [==============================] - 0s 3ms/step - loss: 0.6598 - accuracy: 0.5790\n",
      "Epoch 32/200\n",
      "32/32 [==============================] - 0s 3ms/step - loss: 0.6585 - accuracy: 0.5700\n",
      "Epoch 33/200\n",
      "32/32 [==============================] - 0s 3ms/step - loss: 0.6569 - accuracy: 0.5740\n",
      "Epoch 34/200\n",
      "32/32 [==============================] - 0s 3ms/step - loss: 0.6557 - accuracy: 0.5690\n",
      "Epoch 35/200\n",
      "32/32 [==============================] - 0s 3ms/step - loss: 0.6541 - accuracy: 0.5890\n",
      "Epoch 36/200\n",
      "32/32 [==============================] - 0s 3ms/step - loss: 0.6525 - accuracy: 0.5810\n",
      "Epoch 37/200\n",
      "32/32 [==============================] - 0s 3ms/step - loss: 0.6510 - accuracy: 0.5970\n",
      "Epoch 38/200\n",
      "32/32 [==============================] - 0s 3ms/step - loss: 0.6496 - accuracy: 0.5910\n",
      "Epoch 39/200\n",
      "32/32 [==============================] - 0s 3ms/step - loss: 0.6479 - accuracy: 0.5930\n",
      "Epoch 40/200\n",
      "32/32 [==============================] - 0s 3ms/step - loss: 0.6467 - accuracy: 0.6180\n",
      "Epoch 41/200\n",
      "32/32 [==============================] - 0s 3ms/step - loss: 0.6444 - accuracy: 0.6020\n",
      "Epoch 42/200\n",
      "32/32 [==============================] - 0s 3ms/step - loss: 0.6418 - accuracy: 0.5990\n",
      "Epoch 43/200\n",
      "32/32 [==============================] - 0s 3ms/step - loss: 0.6393 - accuracy: 0.6150\n",
      "Epoch 44/200\n",
      "32/32 [==============================] - 0s 3ms/step - loss: 0.6372 - accuracy: 0.6060\n",
      "Epoch 45/200\n",
      "32/32 [==============================] - 0s 3ms/step - loss: 0.6346 - accuracy: 0.6200\n",
      "Epoch 46/200\n",
      "32/32 [==============================] - 0s 3ms/step - loss: 0.6327 - accuracy: 0.6280\n",
      "Epoch 47/200\n",
      "32/32 [==============================] - 0s 3ms/step - loss: 0.6311 - accuracy: 0.6380\n",
      "Epoch 48/200\n",
      "32/32 [==============================] - 0s 3ms/step - loss: 0.6287 - accuracy: 0.6360\n",
      "Epoch 49/200\n",
      "32/32 [==============================] - 0s 3ms/step - loss: 0.6268 - accuracy: 0.6170\n",
      "Epoch 50/200\n",
      "32/32 [==============================] - 0s 3ms/step - loss: 0.6244 - accuracy: 0.6250\n",
      "Epoch 51/200\n",
      "32/32 [==============================] - 0s 2ms/step - loss: 0.6225 - accuracy: 0.6500\n",
      "Epoch 52/200\n",
      "32/32 [==============================] - 0s 3ms/step - loss: 0.6201 - accuracy: 0.6450\n",
      "Epoch 53/200\n",
      "32/32 [==============================] - 0s 3ms/step - loss: 0.6181 - accuracy: 0.6480\n",
      "Epoch 54/200\n",
      "32/32 [==============================] - 0s 3ms/step - loss: 0.6153 - accuracy: 0.6540\n",
      "Epoch 55/200\n",
      "32/32 [==============================] - 0s 3ms/step - loss: 0.6130 - accuracy: 0.6670\n",
      "Epoch 56/200\n",
      "32/32 [==============================] - 0s 3ms/step - loss: 0.6107 - accuracy: 0.6480\n",
      "Epoch 57/200\n",
      "32/32 [==============================] - 0s 2ms/step - loss: 0.6082 - accuracy: 0.6690\n",
      "Epoch 58/200\n",
      "32/32 [==============================] - 0s 3ms/step - loss: 0.6056 - accuracy: 0.6710\n",
      "Epoch 59/200\n",
      "32/32 [==============================] - 0s 3ms/step - loss: 0.6034 - accuracy: 0.6840\n",
      "Epoch 60/200\n",
      "32/32 [==============================] - 0s 3ms/step - loss: 0.6008 - accuracy: 0.6930\n",
      "Epoch 61/200\n",
      "32/32 [==============================] - 0s 3ms/step - loss: 0.5985 - accuracy: 0.6590\n",
      "Epoch 62/200\n",
      "32/32 [==============================] - 0s 3ms/step - loss: 0.5952 - accuracy: 0.6900\n",
      "Epoch 63/200\n",
      "32/32 [==============================] - 0s 2ms/step - loss: 0.5925 - accuracy: 0.6750\n",
      "Epoch 64/200\n",
      "32/32 [==============================] - 0s 2ms/step - loss: 0.5898 - accuracy: 0.7000\n",
      "Epoch 65/200\n",
      "32/32 [==============================] - 0s 3ms/step - loss: 0.5872 - accuracy: 0.6790\n",
      "Epoch 66/200\n",
      "32/32 [==============================] - 0s 3ms/step - loss: 0.5838 - accuracy: 0.7050\n",
      "Epoch 67/200\n",
      "32/32 [==============================] - 0s 2ms/step - loss: 0.5809 - accuracy: 0.6990\n",
      "Epoch 68/200\n",
      "32/32 [==============================] - 0s 3ms/step - loss: 0.5781 - accuracy: 0.7030\n",
      "Epoch 69/200\n",
      "32/32 [==============================] - 0s 3ms/step - loss: 0.5749 - accuracy: 0.7250\n",
      "Epoch 70/200\n",
      "32/32 [==============================] - 0s 3ms/step - loss: 0.5719 - accuracy: 0.7240\n",
      "Epoch 71/200\n",
      "32/32 [==============================] - 0s 3ms/step - loss: 0.5690 - accuracy: 0.7140\n",
      "Epoch 72/200\n",
      "32/32 [==============================] - 0s 3ms/step - loss: 0.5662 - accuracy: 0.7260\n",
      "Epoch 73/200\n",
      "32/32 [==============================] - 0s 3ms/step - loss: 0.5631 - accuracy: 0.7310\n",
      "Epoch 74/200\n",
      "32/32 [==============================] - 0s 3ms/step - loss: 0.5595 - accuracy: 0.7430\n",
      "Epoch 75/200\n",
      "32/32 [==============================] - 0s 3ms/step - loss: 0.5563 - accuracy: 0.7360\n",
      "Epoch 76/200\n",
      "32/32 [==============================] - 0s 3ms/step - loss: 0.5526 - accuracy: 0.7390\n",
      "Epoch 77/200\n",
      "32/32 [==============================] - 0s 3ms/step - loss: 0.5496 - accuracy: 0.7530\n",
      "Epoch 78/200\n",
      "32/32 [==============================] - 0s 2ms/step - loss: 0.5462 - accuracy: 0.7460\n",
      "Epoch 79/200\n",
      "32/32 [==============================] - 0s 3ms/step - loss: 0.5435 - accuracy: 0.7490\n",
      "Epoch 80/200\n",
      "32/32 [==============================] - 0s 3ms/step - loss: 0.5394 - accuracy: 0.7590\n",
      "Epoch 81/200\n",
      "32/32 [==============================] - 0s 3ms/step - loss: 0.5363 - accuracy: 0.7580\n",
      "Epoch 82/200\n",
      "32/32 [==============================] - 0s 3ms/step - loss: 0.5326 - accuracy: 0.7600\n",
      "Epoch 83/200\n"
     ]
    },
    {
     "name": "stdout",
     "output_type": "stream",
     "text": [
      "32/32 [==============================] - 0s 3ms/step - loss: 0.5292 - accuracy: 0.7620\n",
      "Epoch 84/200\n",
      "32/32 [==============================] - 0s 3ms/step - loss: 0.5252 - accuracy: 0.7660\n",
      "Epoch 85/200\n",
      "32/32 [==============================] - 0s 3ms/step - loss: 0.5221 - accuracy: 0.7670\n",
      "Epoch 86/200\n",
      "32/32 [==============================] - 0s 3ms/step - loss: 0.5189 - accuracy: 0.7710\n",
      "Epoch 87/200\n",
      "32/32 [==============================] - 0s 3ms/step - loss: 0.5147 - accuracy: 0.7660\n",
      "Epoch 88/200\n",
      "32/32 [==============================] - 0s 3ms/step - loss: 0.5114 - accuracy: 0.7660\n",
      "Epoch 89/200\n",
      "32/32 [==============================] - 0s 2ms/step - loss: 0.5078 - accuracy: 0.7660\n",
      "Epoch 90/200\n",
      "32/32 [==============================] - 0s 3ms/step - loss: 0.5040 - accuracy: 0.7750\n",
      "Epoch 91/200\n",
      "32/32 [==============================] - 0s 3ms/step - loss: 0.5007 - accuracy: 0.7780\n",
      "Epoch 92/200\n",
      "32/32 [==============================] - 0s 3ms/step - loss: 0.4972 - accuracy: 0.7890\n",
      "Epoch 93/200\n",
      "32/32 [==============================] - 0s 3ms/step - loss: 0.4943 - accuracy: 0.7750\n",
      "Epoch 94/200\n",
      "32/32 [==============================] - 0s 3ms/step - loss: 0.4912 - accuracy: 0.7960\n",
      "Epoch 95/200\n",
      "32/32 [==============================] - 0s 3ms/step - loss: 0.4869 - accuracy: 0.7870\n",
      "Epoch 96/200\n",
      "32/32 [==============================] - 0s 3ms/step - loss: 0.4838 - accuracy: 0.7950\n",
      "Epoch 97/200\n",
      "32/32 [==============================] - 0s 3ms/step - loss: 0.4803 - accuracy: 0.7970\n",
      "Epoch 98/200\n",
      "32/32 [==============================] - 0s 2ms/step - loss: 0.4780 - accuracy: 0.8000\n",
      "Epoch 99/200\n",
      "32/32 [==============================] - 0s 2ms/step - loss: 0.4747 - accuracy: 0.8030\n",
      "Epoch 100/200\n",
      "32/32 [==============================] - 0s 2ms/step - loss: 0.4723 - accuracy: 0.8000\n",
      "Epoch 101/200\n",
      "32/32 [==============================] - 0s 3ms/step - loss: 0.4690 - accuracy: 0.7980\n",
      "Epoch 102/200\n",
      "32/32 [==============================] - 0s 2ms/step - loss: 0.4663 - accuracy: 0.8070\n",
      "Epoch 103/200\n",
      "32/32 [==============================] - 0s 3ms/step - loss: 0.4630 - accuracy: 0.8070\n",
      "Epoch 104/200\n",
      "32/32 [==============================] - 0s 2ms/step - loss: 0.4609 - accuracy: 0.8100\n",
      "Epoch 105/200\n",
      "32/32 [==============================] - 0s 2ms/step - loss: 0.4576 - accuracy: 0.8130\n",
      "Epoch 106/200\n",
      "32/32 [==============================] - 0s 2ms/step - loss: 0.4550 - accuracy: 0.8150\n",
      "Epoch 107/200\n",
      "32/32 [==============================] - 0s 2ms/step - loss: 0.4523 - accuracy: 0.8150\n",
      "Epoch 108/200\n",
      "32/32 [==============================] - 0s 2ms/step - loss: 0.4502 - accuracy: 0.8240\n",
      "Epoch 109/200\n",
      "32/32 [==============================] - 0s 2ms/step - loss: 0.4468 - accuracy: 0.8200\n",
      "Epoch 110/200\n",
      "32/32 [==============================] - 0s 3ms/step - loss: 0.4444 - accuracy: 0.8160\n",
      "Epoch 111/200\n",
      "32/32 [==============================] - 0s 3ms/step - loss: 0.4421 - accuracy: 0.8240\n",
      "Epoch 112/200\n",
      "32/32 [==============================] - 0s 3ms/step - loss: 0.4403 - accuracy: 0.8200\n",
      "Epoch 113/200\n",
      "32/32 [==============================] - 0s 3ms/step - loss: 0.4368 - accuracy: 0.8260\n",
      "Epoch 114/200\n",
      "32/32 [==============================] - 0s 3ms/step - loss: 0.4351 - accuracy: 0.8250\n",
      "Epoch 115/200\n",
      "32/32 [==============================] - 0s 3ms/step - loss: 0.4325 - accuracy: 0.8230\n",
      "Epoch 116/200\n",
      "32/32 [==============================] - 0s 3ms/step - loss: 0.4302 - accuracy: 0.8180\n",
      "Epoch 117/200\n",
      "32/32 [==============================] - 0s 3ms/step - loss: 0.4281 - accuracy: 0.8240\n",
      "Epoch 118/200\n",
      "32/32 [==============================] - 0s 3ms/step - loss: 0.4258 - accuracy: 0.8210\n",
      "Epoch 119/200\n",
      "32/32 [==============================] - 0s 3ms/step - loss: 0.4232 - accuracy: 0.8280\n",
      "Epoch 120/200\n",
      "32/32 [==============================] - 0s 3ms/step - loss: 0.4213 - accuracy: 0.8280\n",
      "Epoch 121/200\n",
      "32/32 [==============================] - 0s 3ms/step - loss: 0.4188 - accuracy: 0.8250\n",
      "Epoch 122/200\n",
      "32/32 [==============================] - 0s 3ms/step - loss: 0.4158 - accuracy: 0.8290\n",
      "Epoch 123/200\n",
      "32/32 [==============================] - 0s 3ms/step - loss: 0.4139 - accuracy: 0.8280\n",
      "Epoch 124/200\n",
      "32/32 [==============================] - 0s 3ms/step - loss: 0.4114 - accuracy: 0.8310\n",
      "Epoch 125/200\n",
      "32/32 [==============================] - 0s 3ms/step - loss: 0.4092 - accuracy: 0.8300\n",
      "Epoch 126/200\n",
      "32/32 [==============================] - 0s 3ms/step - loss: 0.4068 - accuracy: 0.8310\n",
      "Epoch 127/200\n",
      "32/32 [==============================] - 0s 3ms/step - loss: 0.4042 - accuracy: 0.8320\n",
      "Epoch 128/200\n",
      "32/32 [==============================] - 0s 3ms/step - loss: 0.4025 - accuracy: 0.8340\n",
      "Epoch 129/200\n",
      "32/32 [==============================] - 0s 3ms/step - loss: 0.3998 - accuracy: 0.8310\n",
      "Epoch 130/200\n",
      "32/32 [==============================] - 0s 3ms/step - loss: 0.3978 - accuracy: 0.8320\n",
      "Epoch 131/200\n",
      "32/32 [==============================] - 0s 3ms/step - loss: 0.3960 - accuracy: 0.8310\n",
      "Epoch 132/200\n",
      "32/32 [==============================] - 0s 2ms/step - loss: 0.3933 - accuracy: 0.8320\n",
      "Epoch 133/200\n",
      "32/32 [==============================] - 0s 3ms/step - loss: 0.3906 - accuracy: 0.8340\n",
      "Epoch 134/200\n",
      "32/32 [==============================] - 0s 3ms/step - loss: 0.3887 - accuracy: 0.8380\n",
      "Epoch 135/200\n",
      "32/32 [==============================] - 0s 2ms/step - loss: 0.3865 - accuracy: 0.8310\n",
      "Epoch 136/200\n",
      "32/32 [==============================] - 0s 2ms/step - loss: 0.3842 - accuracy: 0.8370\n",
      "Epoch 137/200\n",
      "32/32 [==============================] - 0s 3ms/step - loss: 0.3823 - accuracy: 0.8360\n",
      "Epoch 138/200\n",
      "32/32 [==============================] - 0s 3ms/step - loss: 0.3797 - accuracy: 0.8410\n",
      "Epoch 139/200\n",
      "32/32 [==============================] - 0s 2ms/step - loss: 0.3770 - accuracy: 0.8390\n",
      "Epoch 140/200\n",
      "32/32 [==============================] - 0s 3ms/step - loss: 0.3750 - accuracy: 0.8380\n",
      "Epoch 141/200\n",
      "32/32 [==============================] - 0s 3ms/step - loss: 0.3738 - accuracy: 0.8420\n",
      "Epoch 142/200\n",
      "32/32 [==============================] - 0s 2ms/step - loss: 0.3698 - accuracy: 0.8440\n",
      "Epoch 143/200\n",
      "32/32 [==============================] - 0s 3ms/step - loss: 0.3684 - accuracy: 0.8440\n",
      "Epoch 144/200\n",
      "32/32 [==============================] - 0s 3ms/step - loss: 0.3657 - accuracy: 0.8430\n",
      "Epoch 145/200\n",
      "32/32 [==============================] - 0s 3ms/step - loss: 0.3633 - accuracy: 0.8470\n",
      "Epoch 146/200\n",
      "32/32 [==============================] - 0s 2ms/step - loss: 0.3612 - accuracy: 0.8440\n",
      "Epoch 147/200\n",
      "32/32 [==============================] - 0s 2ms/step - loss: 0.3586 - accuracy: 0.8510\n",
      "Epoch 148/200\n",
      "32/32 [==============================] - 0s 2ms/step - loss: 0.3559 - accuracy: 0.8500\n",
      "Epoch 149/200\n",
      "32/32 [==============================] - 0s 3ms/step - loss: 0.3540 - accuracy: 0.8490\n",
      "Epoch 150/200\n",
      "32/32 [==============================] - 0s 2ms/step - loss: 0.3517 - accuracy: 0.8500\n",
      "Epoch 151/200\n",
      "32/32 [==============================] - 0s 2ms/step - loss: 0.3497 - accuracy: 0.8540\n",
      "Epoch 152/200\n",
      "32/32 [==============================] - 0s 3ms/step - loss: 0.3466 - accuracy: 0.8510\n",
      "Epoch 153/200\n",
      "32/32 [==============================] - 0s 3ms/step - loss: 0.3445 - accuracy: 0.8520\n",
      "Epoch 154/200\n",
      "32/32 [==============================] - 0s 3ms/step - loss: 0.3424 - accuracy: 0.8540\n",
      "Epoch 155/200\n",
      "32/32 [==============================] - 0s 3ms/step - loss: 0.3392 - accuracy: 0.8560\n",
      "Epoch 156/200\n",
      "32/32 [==============================] - 0s 3ms/step - loss: 0.3375 - accuracy: 0.8580\n",
      "Epoch 157/200\n",
      "32/32 [==============================] - 0s 3ms/step - loss: 0.3353 - accuracy: 0.8620\n",
      "Epoch 158/200\n",
      "32/32 [==============================] - 0s 2ms/step - loss: 0.3331 - accuracy: 0.8550\n",
      "Epoch 159/200\n",
      "32/32 [==============================] - 0s 3ms/step - loss: 0.3315 - accuracy: 0.8600\n",
      "Epoch 160/200\n",
      "32/32 [==============================] - 0s 3ms/step - loss: 0.3284 - accuracy: 0.8620\n",
      "Epoch 161/200\n",
      "32/32 [==============================] - 0s 3ms/step - loss: 0.3264 - accuracy: 0.8630\n",
      "Epoch 162/200\n",
      "32/32 [==============================] - 0s 2ms/step - loss: 0.3242 - accuracy: 0.8610\n",
      "Epoch 163/200\n",
      "32/32 [==============================] - 0s 2ms/step - loss: 0.3218 - accuracy: 0.8570\n",
      "Epoch 164/200\n"
     ]
    },
    {
     "name": "stdout",
     "output_type": "stream",
     "text": [
      "32/32 [==============================] - 0s 3ms/step - loss: 0.3199 - accuracy: 0.8630\n",
      "Epoch 165/200\n",
      "32/32 [==============================] - 0s 3ms/step - loss: 0.3178 - accuracy: 0.8630\n",
      "Epoch 166/200\n",
      "32/32 [==============================] - 0s 3ms/step - loss: 0.3160 - accuracy: 0.8600\n",
      "Epoch 167/200\n",
      "32/32 [==============================] - 0s 3ms/step - loss: 0.3136 - accuracy: 0.8650\n",
      "Epoch 168/200\n",
      "32/32 [==============================] - 0s 3ms/step - loss: 0.3118 - accuracy: 0.8620\n",
      "Epoch 169/200\n",
      "32/32 [==============================] - 0s 2ms/step - loss: 0.3098 - accuracy: 0.8640\n",
      "Epoch 170/200\n",
      "32/32 [==============================] - 0s 2ms/step - loss: 0.3070 - accuracy: 0.8680\n",
      "Epoch 171/200\n",
      "32/32 [==============================] - 0s 3ms/step - loss: 0.3054 - accuracy: 0.8680\n",
      "Epoch 172/200\n",
      "32/32 [==============================] - 0s 3ms/step - loss: 0.3034 - accuracy: 0.8670\n",
      "Epoch 173/200\n",
      "32/32 [==============================] - 0s 2ms/step - loss: 0.3007 - accuracy: 0.8700\n",
      "Epoch 174/200\n",
      "32/32 [==============================] - 0s 2ms/step - loss: 0.2965 - accuracy: 0.8740\n",
      "Epoch 175/200\n",
      "32/32 [==============================] - 0s 2ms/step - loss: 0.2937 - accuracy: 0.8670\n",
      "Epoch 176/200\n",
      "32/32 [==============================] - 0s 2ms/step - loss: 0.2910 - accuracy: 0.8750\n",
      "Epoch 177/200\n",
      "32/32 [==============================] - 0s 3ms/step - loss: 0.2877 - accuracy: 0.8710\n",
      "Epoch 178/200\n",
      "32/32 [==============================] - 0s 3ms/step - loss: 0.2861 - accuracy: 0.8760\n",
      "Epoch 179/200\n",
      "32/32 [==============================] - 0s 3ms/step - loss: 0.2834 - accuracy: 0.8790\n",
      "Epoch 180/200\n",
      "32/32 [==============================] - 0s 3ms/step - loss: 0.2818 - accuracy: 0.8780\n",
      "Epoch 181/200\n",
      "32/32 [==============================] - 0s 3ms/step - loss: 0.2785 - accuracy: 0.8780\n",
      "Epoch 182/200\n",
      "32/32 [==============================] - 0s 3ms/step - loss: 0.2758 - accuracy: 0.8800\n",
      "Epoch 183/200\n",
      "32/32 [==============================] - 0s 3ms/step - loss: 0.2739 - accuracy: 0.8790\n",
      "Epoch 184/200\n",
      "32/32 [==============================] - 0s 2ms/step - loss: 0.2703 - accuracy: 0.8880\n",
      "Epoch 185/200\n",
      "32/32 [==============================] - 0s 3ms/step - loss: 0.2680 - accuracy: 0.8940\n",
      "Epoch 186/200\n",
      "32/32 [==============================] - 0s 3ms/step - loss: 0.2660 - accuracy: 0.8990\n",
      "Epoch 187/200\n",
      "32/32 [==============================] - 0s 3ms/step - loss: 0.2634 - accuracy: 0.9010\n",
      "Epoch 188/200\n",
      "32/32 [==============================] - 0s 3ms/step - loss: 0.2608 - accuracy: 0.9000\n",
      "Epoch 189/200\n",
      "32/32 [==============================] - 0s 3ms/step - loss: 0.2588 - accuracy: 0.9030\n",
      "Epoch 190/200\n",
      "32/32 [==============================] - 0s 3ms/step - loss: 0.2567 - accuracy: 0.9020\n",
      "Epoch 191/200\n",
      "32/32 [==============================] - 0s 3ms/step - loss: 0.2544 - accuracy: 0.9030\n",
      "Epoch 192/200\n",
      "32/32 [==============================] - 0s 3ms/step - loss: 0.2539 - accuracy: 0.8980\n",
      "Epoch 193/200\n",
      "32/32 [==============================] - 0s 3ms/step - loss: 0.2510 - accuracy: 0.9020\n",
      "Epoch 194/200\n",
      "32/32 [==============================] - 0s 3ms/step - loss: 0.2490 - accuracy: 0.9040\n",
      "Epoch 195/200\n",
      "32/32 [==============================] - 0s 2ms/step - loss: 0.2468 - accuracy: 0.9050\n",
      "Epoch 196/200\n",
      "32/32 [==============================] - 0s 3ms/step - loss: 0.2456 - accuracy: 0.9040\n",
      "Epoch 197/200\n",
      "32/32 [==============================] - 0s 3ms/step - loss: 0.2438 - accuracy: 0.9080\n",
      "Epoch 198/200\n",
      "32/32 [==============================] - 0s 3ms/step - loss: 0.2415 - accuracy: 0.9110\n",
      "Epoch 199/200\n",
      "32/32 [==============================] - 0s 3ms/step - loss: 0.2403 - accuracy: 0.9000\n",
      "Epoch 200/200\n",
      "32/32 [==============================] - 0s 3ms/step - loss: 0.2383 - accuracy: 0.9070\n"
     ]
    }
   ],
   "source": [
    "# Set random seed\n",
    "tf.random.set_seed(42)\n",
    "\n",
    "# 1. Create the model\n",
    "model_7 = tf.keras.models.Sequential([\n",
    "    tf.keras.layers.Dense(4, activation=tf.keras.activations.relu),\n",
    "    tf.keras.layers.Dense(4, activation=tf.keras.activations.relu),\n",
    "    tf.keras.layers.Dense(1, activation=tf.keras.activations.sigmoid) # we are using sigmoid activation on the last layer because it is a binary classification problem\n",
    "])\n",
    "\n",
    "# 2. Compile the model\n",
    "model_7.compile(loss=tf.keras.losses.BinaryCrossentropy(),\n",
    "               optimizer=tf.keras.optimizers.Adam(lr=.001),\n",
    "               metrics=[\"accuracy\"])\n",
    "\n",
    "# 3. Fit the model\n",
    "history_7= model_7.fit(X,y,epochs=200, verbose=1)"
   ]
  },
  {
   "cell_type": "markdown",
   "id": "cd0a287d",
   "metadata": {},
   "source": [
    "The accuracy for our last model is 0.9980 (99.8%). This means that out 100 predictions, all of them are made right. This model is a good one."
   ]
  },
  {
   "cell_type": "markdown",
   "id": "a1e513ec",
   "metadata": {},
   "source": [
    "Let's visualize what how our model is performing on the data."
   ]
  },
  {
   "cell_type": "code",
   "execution_count": 28,
   "id": "53dd9a5b",
   "metadata": {},
   "outputs": [
    {
     "name": "stdout",
     "output_type": "stream",
     "text": [
      "313/313 [==============================] - 1s 2ms/step\n",
      "Doing binary classification\n"
     ]
    },
    {
     "data": {
      "image/png": "[encoded data removed]",
      "text/plain": [
       "<Figure size 432x288 with 1 Axes>"
      ]
     },
     "metadata": {
      "needs_background": "light"
     },
     "output_type": "display_data"
    }
   ],
   "source": [
    "# Check the decision boundary for our latest model\n",
    "plot_decision_boundary(model=model_7,X=X, y=y)"
   ]
  },
  {
   "cell_type": "markdown",
   "id": "ae820590",
   "metadata": {},
   "source": [
    "The model has an excellent decision boundary, which explain why it is performing so well on the data."
   ]
  },
  {
   "cell_type": "code",
   "execution_count": 29,
   "id": "3c404961",
   "metadata": {},
   "outputs": [
    {
     "data": {
      "image/png": "[encoded data removed]",
      "text/plain": [
       "<Figure size 432x288 with 1 Axes>"
      ]
     },
     "metadata": {
      "needs_background": "light"
     },
     "output_type": "display_data"
    }
   ],
   "source": [
    "# Plot history\n",
    "history_df7 = pd.DataFrame(history_7.history)\n",
    "\n",
    "sb.lineplot(data=history_df7, y=\"loss\", x=range(0,200),  label=\"Loss\" )\n",
    "sb.lineplot(data=history_df7, y=\"accuracy\", x=range(0,200), color=\"green\", label=\"Accuracy\" )\n",
    "\n",
    "plt.ylabel(\"Loss\")\n",
    "plt.xlabel(\"Epochs\")\n",
    "plt.legend(loc=\"upper left\")\n",
    "\n",
    "plt.title(\"Model performance\");"
   ]
  },
  {
   "cell_type": "code",
   "execution_count": null,
   "id": "76e16e88",
   "metadata": {},
   "outputs": [],
   "source": []
  },
  {
   "cell_type": "markdown",
   "id": "2ef62ab3",
   "metadata": {},
   "source": [
    "## Understanding how activation functions work\n",
    "\n",
    "The combination of linear (straight lines) and non-linear (non-straight lines) is one of the key fundamental of how a neural networks work.\n",
    "An activation function somewhat tells the neural network if a given layer should draw a straight or a non-straight line, and how it should draw it.\n",
    "\n",
    "Read [https://www.v7labs.com/blog/neural-networks-activation-functions](https://www.v7labs.com/blog/neural-networks-activation-functions) for further details.\n",
    "\n",
    "Let's see how activation functions work."
   ]
  },
  {
   "cell_type": "code",
   "execution_count": 30,
   "id": "95763937",
   "metadata": {},
   "outputs": [
    {
     "data": {
      "text/plain": [
       "<tf.Tensor: shape=(20,), dtype=float32, numpy=\n",
       "array([-10.,  -9.,  -8.,  -7.,  -6.,  -5.,  -4.,  -3.,  -2.,  -1.,   0.,\n",
       "         1.,   2.,   3.,   4.,   5.,   6.,   7.,   8.,   9.],\n",
       "      dtype=float32)>"
      ]
     },
     "execution_count": 30,
     "metadata": {},
     "output_type": "execute_result"
    }
   ],
   "source": [
    "# Create a toy tensor (similar to the data we pass to our models)\n",
    "A = tf.cast(tf.range(-10,10),tf.float32)\n",
    "A"
   ]
  },
  {
   "cell_type": "code",
   "execution_count": 31,
   "id": "5dce3eee",
   "metadata": {},
   "outputs": [
    {
     "data": {
      "image/png": "[encoded data removed]",
      "text/plain": [
       "<Figure size 432x288 with 1 Axes>"
      ]
     },
     "metadata": {
      "needs_background": "light"
     },
     "output_type": "display_data"
    }
   ],
   "source": [
    "# Visualize the toy tensor\n",
    "plt.plot(A);"
   ]
  },
  {
   "cell_type": "markdown",
   "id": "7cae33d7",
   "metadata": {},
   "source": [
    "Our tensor is a straight line. Let's try to apply a sigmoid function on it to see what it will become."
   ]
  },
  {
   "cell_type": "code",
   "execution_count": 32,
   "id": "8fd2f691",
   "metadata": {},
   "outputs": [
    {
     "data": {
      "text/plain": [
       "<tf.Tensor: shape=(20,), dtype=float32, numpy=\n",
       "array([4.5397872e-05, 1.2339458e-04, 3.3535014e-04, 9.1105117e-04,\n",
       "       2.4726233e-03, 6.6928510e-03, 1.7986210e-02, 4.7425874e-02,\n",
       "       1.1920292e-01, 2.6894143e-01, 5.0000000e-01, 7.3105860e-01,\n",
       "       8.8079703e-01, 9.5257413e-01, 9.8201376e-01, 9.9330717e-01,\n",
       "       9.9752742e-01, 9.9908900e-01, 9.9966466e-01, 9.9987662e-01],\n",
       "      dtype=float32)>"
      ]
     },
     "execution_count": 32,
     "metadata": {},
     "output_type": "execute_result"
    }
   ],
   "source": [
    "# Define a sigmoid function: sigmoid(x) = 1 / ( 1 + exp(-x) )\n",
    "def sigmoid(x):\n",
    "    return 1 / (1 + tf.exp(-x) )\n",
    "\n",
    "# Test the sigmoid function on our tensor\n",
    "sigmoid(A)"
   ]
  },
  {
   "cell_type": "markdown",
   "id": "6503a025",
   "metadata": {},
   "source": [
    "Now let us see what our data looks like after the sigmoid function is applied to it. Recall that the data was originally a straight line."
   ]
  },
  {
   "cell_type": "code",
   "execution_count": 33,
   "id": "176546da",
   "metadata": {},
   "outputs": [
    {
     "data": {
      "image/png": "[encoded data removed]",
      "text/plain": [
       "<Figure size 432x288 with 1 Axes>"
      ]
     },
     "metadata": {
      "needs_background": "light"
     },
     "output_type": "display_data"
    }
   ],
   "source": [
    "plt.plot(sigmoid(A));"
   ]
  },
  {
   "cell_type": "markdown",
   "id": "10d667b6",
   "metadata": {},
   "source": [
    "The data on which a sigmoid function is applied is now a non-straight line. That is what an activation function does: it introduce non-linearity in a model."
   ]
  },
  {
   "cell_type": "markdown",
   "id": "1c11d221",
   "metadata": {},
   "source": [
    "According to [https://www.v7labs.com/blog/neural-networks-activation-functions](https://www.v7labs.com/blog/neural-networks-activation-functions):\n",
    "\n",
    "*Activation functions introduce an additional step at each layer during the forward propagation, but its computation is worth it. Here is why—  <br/>\n",
    "Let’s suppose we have a neural network working without the activation functions.<br/>\n",
    "In that case, every neuron will only be performing a linear transformation on the inputs using the weights and biases. It’s because it doesn’t matter how many hidden layers we attach in the neural network; all layers will behave in the same way because the composition of two linear functions is a linear function itself. <br/>\n",
    "Although the neural network becomes simpler, learning any complex task is impossible, and our model would be just a linear regression model.*\n",
    "\n",
    "The same article talks about activation functions, and which type of straight or non-straight each line each one draws. "
   ]
  },
  {
   "cell_type": "code",
   "execution_count": 34,
   "id": "ac9cc9c9",
   "metadata": {},
   "outputs": [
    {
     "data": {
      "text/plain": [
       "<tf.Tensor: shape=(20,), dtype=float32, numpy=\n",
       "array([0., 0., 0., 0., 0., 0., 0., 0., 0., 0., 0., 1., 2., 3., 4., 5., 6.,\n",
       "       7., 8., 9.], dtype=float32)>"
      ]
     },
     "execution_count": 34,
     "metadata": {},
     "output_type": "execute_result"
    }
   ],
   "source": [
    "# Let's try to replicate relu function: relu(x)= max(0,X)\n",
    "def relu(x):\n",
    "    return tf.maximum(0,x)\n",
    "\n",
    "# Test relu function on our tensor\n",
    "relu(A)"
   ]
  },
  {
   "cell_type": "markdown",
   "id": "69c89cef",
   "metadata": {},
   "source": [
    "Now let us see what our data looks like after the relu function is applied to it. Recall that the data is originally a straight line."
   ]
  },
  {
   "cell_type": "code",
   "execution_count": 35,
   "id": "c8515f84",
   "metadata": {},
   "outputs": [
    {
     "data": {
      "image/png": "[encoded data removed]",
      "text/plain": [
       "<Figure size 432x288 with 1 Axes>"
      ]
     },
     "metadata": {
      "needs_background": "light"
     },
     "output_type": "display_data"
    }
   ],
   "source": [
    "plt.plot(relu(A));"
   ]
  },
  {
   "cell_type": "code",
   "execution_count": null,
   "id": "381236ee",
   "metadata": {},
   "outputs": [],
   "source": []
  },
  {
   "cell_type": "markdown",
   "id": "44598a7e",
   "metadata": {},
   "source": [
    "In conclusion, an activation function gives its layer the ability to draw a straight or a non-straight line. In the case of a non-straight line, the specific line is define by the activation function."
   ]
  },
  {
   "cell_type": "markdown",
   "id": "f18bcb04",
   "metadata": {},
   "source": [
    "📖 : [https://ml-cheatsheet.readthedocs.io/en/latest/activation_functions.html](https://ml-cheatsheet.readthedocs.io/en/latest/activation_functions.html)"
   ]
  },
  {
   "cell_type": "code",
   "execution_count": null,
   "id": "3058bfde",
   "metadata": {},
   "outputs": [],
   "source": []
  },
  {
   "cell_type": "markdown",
   "id": "29c22e2a",
   "metadata": {},
   "source": [
    "## Leveraging the learning rate to improve the model convergence time\n",
    "\n",
    "From here, we will create a training and a test set."
   ]
  },
  {
   "cell_type": "code",
   "execution_count": 36,
   "id": "628ef15b",
   "metadata": {},
   "outputs": [
    {
     "data": {
      "text/plain": [
       "1000"
      ]
     },
     "execution_count": 36,
     "metadata": {},
     "output_type": "execute_result"
    }
   ],
   "source": [
    "len(X)"
   ]
  },
  {
   "cell_type": "code",
   "execution_count": 37,
   "id": "db37a23f",
   "metadata": {},
   "outputs": [
    {
     "data": {
      "text/plain": [
       "(800, 800, 200, 200)"
      ]
     },
     "execution_count": 37,
     "metadata": {},
     "output_type": "execute_result"
    }
   ],
   "source": [
    "# Split manually into train and test sets\n",
    "X_train, y_train = X[:800,:], y[:800]\n",
    "X_test, y_test= X[800:,:], y[800:]\n",
    "len(X_train), len(y_train), len(X_test), len(y_test)"
   ]
  },
  {
   "cell_type": "code",
   "execution_count": 41,
   "id": "dfb04e16",
   "metadata": {},
   "outputs": [
    {
     "name": "stdout",
     "output_type": "stream",
     "text": [
      "Epoch 1/50\n",
      "25/25 [==============================] - 1s 3ms/step - loss: 0.6934 - accuracy: 0.4825\n",
      "Epoch 2/50\n",
      "25/25 [==============================] - 0s 3ms/step - loss: 0.6932 - accuracy: 0.4800\n",
      "Epoch 3/50\n",
      "25/25 [==============================] - 0s 3ms/step - loss: 0.6927 - accuracy: 0.4925\n",
      "Epoch 4/50\n",
      "25/25 [==============================] - 0s 3ms/step - loss: 0.6922 - accuracy: 0.5075\n",
      "Epoch 5/50\n",
      "25/25 [==============================] - 0s 3ms/step - loss: 0.6899 - accuracy: 0.5325\n",
      "Epoch 6/50\n",
      "25/25 [==============================] - 0s 3ms/step - loss: 0.6877 - accuracy: 0.5100\n",
      "Epoch 7/50\n",
      "25/25 [==============================] - 0s 3ms/step - loss: 0.6832 - accuracy: 0.5400\n",
      "Epoch 8/50\n",
      "25/25 [==============================] - 0s 3ms/step - loss: 0.6789 - accuracy: 0.5437\n",
      "Epoch 9/50\n",
      "25/25 [==============================] - 0s 2ms/step - loss: 0.6757 - accuracy: 0.5713\n",
      "Epoch 10/50\n",
      "25/25 [==============================] - 0s 3ms/step - loss: 0.6657 - accuracy: 0.5775\n",
      "Epoch 11/50\n",
      "25/25 [==============================] - 0s 3ms/step - loss: 0.6523 - accuracy: 0.5950\n",
      "Epoch 12/50\n",
      "25/25 [==============================] - 0s 2ms/step - loss: 0.6325 - accuracy: 0.6413\n",
      "Epoch 13/50\n",
      "25/25 [==============================] - 0s 3ms/step - loss: 0.6244 - accuracy: 0.6325\n",
      "Epoch 14/50\n",
      "25/25 [==============================] - 0s 3ms/step - loss: 0.6071 - accuracy: 0.6700\n",
      "Epoch 15/50\n",
      "25/25 [==============================] - 0s 3ms/step - loss: 0.5911 - accuracy: 0.6687\n",
      "Epoch 16/50\n",
      "25/25 [==============================] - 0s 3ms/step - loss: 0.5786 - accuracy: 0.6888\n",
      "Epoch 17/50\n",
      "25/25 [==============================] - 0s 3ms/step - loss: 0.5695 - accuracy: 0.6975\n",
      "Epoch 18/50\n",
      "25/25 [==============================] - 0s 3ms/step - loss: 0.5603 - accuracy: 0.6938\n",
      "Epoch 19/50\n",
      "25/25 [==============================] - 0s 3ms/step - loss: 0.5465 - accuracy: 0.7163\n",
      "Epoch 20/50\n",
      "25/25 [==============================] - 0s 3ms/step - loss: 0.5376 - accuracy: 0.7188\n",
      "Epoch 21/50\n",
      "25/25 [==============================] - 0s 3ms/step - loss: 0.5202 - accuracy: 0.7437\n",
      "Epoch 22/50\n",
      "25/25 [==============================] - 0s 2ms/step - loss: 0.5095 - accuracy: 0.7487\n",
      "Epoch 23/50\n",
      "25/25 [==============================] - 0s 3ms/step - loss: 0.4940 - accuracy: 0.7613\n",
      "Epoch 24/50\n",
      "25/25 [==============================] - 0s 3ms/step - loss: 0.4440 - accuracy: 0.8112\n",
      "Epoch 25/50\n",
      "25/25 [==============================] - 0s 3ms/step - loss: 0.4250 - accuracy: 0.8275\n",
      "Epoch 26/50\n",
      "25/25 [==============================] - 0s 3ms/step - loss: 0.4041 - accuracy: 0.8313\n",
      "Epoch 27/50\n",
      "25/25 [==============================] - 0s 3ms/step - loss: 0.3908 - accuracy: 0.8450\n",
      "Epoch 28/50\n",
      "25/25 [==============================] - 0s 3ms/step - loss: 0.3720 - accuracy: 0.8575\n",
      "Epoch 29/50\n",
      "25/25 [==============================] - 0s 3ms/step - loss: 0.3609 - accuracy: 0.8637\n",
      "Epoch 30/50\n",
      "25/25 [==============================] - 0s 3ms/step - loss: 0.3505 - accuracy: 0.8775\n",
      "Epoch 31/50\n",
      "25/25 [==============================] - 0s 3ms/step - loss: 0.3376 - accuracy: 0.8800\n",
      "Epoch 32/50\n",
      "25/25 [==============================] - 0s 3ms/step - loss: 0.3349 - accuracy: 0.8788\n",
      "Epoch 33/50\n",
      "25/25 [==============================] - 0s 3ms/step - loss: 0.3163 - accuracy: 0.8913\n",
      "Epoch 34/50\n",
      "25/25 [==============================] - 0s 3ms/step - loss: 0.3139 - accuracy: 0.8900\n",
      "Epoch 35/50\n",
      "25/25 [==============================] - 0s 2ms/step - loss: 0.3045 - accuracy: 0.8975\n",
      "Epoch 36/50\n",
      "25/25 [==============================] - 0s 3ms/step - loss: 0.2975 - accuracy: 0.8888\n",
      "Epoch 37/50\n",
      "25/25 [==============================] - 0s 3ms/step - loss: 0.2876 - accuracy: 0.9013\n",
      "Epoch 38/50\n",
      "25/25 [==============================] - 0s 3ms/step - loss: 0.2843 - accuracy: 0.8938\n",
      "Epoch 39/50\n",
      "25/25 [==============================] - 0s 3ms/step - loss: 0.2951 - accuracy: 0.8925\n",
      "Epoch 40/50\n",
      "25/25 [==============================] - 0s 3ms/step - loss: 0.2620 - accuracy: 0.9187\n",
      "Epoch 41/50\n",
      "25/25 [==============================] - 0s 3ms/step - loss: 0.2662 - accuracy: 0.9087\n",
      "Epoch 42/50\n",
      "25/25 [==============================] - 0s 3ms/step - loss: 0.2597 - accuracy: 0.9087\n",
      "Epoch 43/50\n",
      "25/25 [==============================] - 0s 3ms/step - loss: 0.2506 - accuracy: 0.9200\n",
      "Epoch 44/50\n",
      "25/25 [==============================] - 0s 3ms/step - loss: 0.2471 - accuracy: 0.9025\n",
      "Epoch 45/50\n",
      "25/25 [==============================] - 0s 3ms/step - loss: 0.1919 - accuracy: 0.9450\n",
      "Epoch 46/50\n",
      "25/25 [==============================] - 0s 3ms/step - loss: 0.1670 - accuracy: 0.9563\n",
      "Epoch 47/50\n",
      "25/25 [==============================] - 0s 3ms/step - loss: 0.1627 - accuracy: 0.9525\n",
      "Epoch 48/50\n",
      "25/25 [==============================] - 0s 3ms/step - loss: 0.1593 - accuracy: 0.9588\n",
      "Epoch 49/50\n",
      "25/25 [==============================] - 0s 2ms/step - loss: 0.1395 - accuracy: 0.9613\n",
      "Epoch 50/50\n",
      "25/25 [==============================] - 0s 3ms/step - loss: 0.1289 - accuracy: 0.9750\n"
     ]
    }
   ],
   "source": [
    "# Set random seed\n",
    "tf.random.set_seed(42)\n",
    "\n",
    "# 1. Create the model\n",
    "model_8 = tf.keras.models.Sequential([\n",
    "    tf.keras.layers.Dense(4,activation=tf.keras.activations.relu),\n",
    "    tf.keras.layers.Dense(4,activation=tf.keras.activations.relu),\n",
    "    tf.keras.layers.Dense(1,activation=tf.keras.activations.sigmoid)\n",
    "])\n",
    "\n",
    "# 2. Compile the model\n",
    "model_8.compile(loss=tf.keras.losses.BinaryCrossentropy(),\n",
    "               optimizer=tf.keras.optimizers.Adam(lr=.01), # We set the learning rate to 0.01 (it was 0.001). The learning rate tell by how much the model should update its weights and bias\n",
    "               metrics=[\"accuracy\"])\n",
    "\n",
    "# 3. Fit the model\n",
    "history_8 = model_8.fit(X_train, y_train, epochs=50, verbose=1) # We decrease the epochs to 50"
   ]
  },
  {
   "cell_type": "markdown",
   "id": "10bb62d1",
   "metadata": {},
   "source": [
    "Because we increase the learning rate, the model learned faster."
   ]
  },
  {
   "cell_type": "code",
   "execution_count": 43,
   "id": "735032fa",
   "metadata": {},
   "outputs": [
    {
     "name": "stdout",
     "output_type": "stream",
     "text": [
      "7/7 [==============================] - 0s 2ms/step - loss: 0.1469 - accuracy: 0.9650\n"
     ]
    },
    {
     "data": {
      "text/plain": [
       "[0.14694218337535858, 0.9649999737739563]"
      ]
     },
     "execution_count": 43,
     "metadata": {},
     "output_type": "execute_result"
    }
   ],
   "source": [
    "# 4. Evaluate the model\n",
    "model_8.evaluate(X_test,y_test)"
   ]
  },
  {
   "cell_type": "markdown",
   "id": "abcd479d",
   "metadata": {},
   "source": [
    "On the test set (data that the model has never seen before), we got an accuracy of 96.5% (over a 100 predictions, 96 were made right)"
   ]
  },
  {
   "cell_type": "code",
   "execution_count": null,
   "id": "dbc1a949",
   "metadata": {},
   "outputs": [],
   "source": []
  },
  {
   "cell_type": "code",
   "execution_count": 42,
   "id": "1db9fd2e",
   "metadata": {},
   "outputs": [
    {
     "data": {
      "image/png": "[encoded data removed]",
      "text/plain": [
       "<Figure size 432x288 with 1 Axes>"
      ]
     },
     "metadata": {
      "needs_background": "light"
     },
     "output_type": "display_data"
    }
   ],
   "source": [
    "# Plot history\n",
    "history_df8 = pd.DataFrame(history_8.history)\n",
    "\n",
    "sb.lineplot(data=history_df8, y=\"loss\", x=range(0,50),  label=\"Loss\" )\n",
    "sb.lineplot(data=history_df8, y=\"accuracy\", x=range(0,50), color=\"green\", label=\"Accuracy\" )\n",
    "\n",
    "plt.ylabel(\"Loss\")\n",
    "plt.xlabel(\"Epochs\")\n",
    "plt.legend(loc=\"upper left\")\n",
    "\n",
    "plt.title(\"Model performance\");"
   ]
  },
  {
   "cell_type": "code",
   "execution_count": 44,
   "id": "c1f12f9b",
   "metadata": {},
   "outputs": [
    {
     "name": "stdout",
     "output_type": "stream",
     "text": [
      "313/313 [==============================] - 1s 2ms/step\n",
      "Doing binary classification\n"
     ]
    },
    {
     "data": {
      "image/png": "[encoded data removed]",
      "text/plain": [
       "<Figure size 432x288 with 1 Axes>"
      ]
     },
     "metadata": {
      "needs_background": "light"
     },
     "output_type": "display_data"
    }
   ],
   "source": [
    "# Plot decision boundary for training set\n",
    "plot_decision_boundary(model=model_8,X=X_train, y=y_train)"
   ]
  },
  {
   "cell_type": "code",
   "execution_count": 45,
   "id": "b3c9e413",
   "metadata": {},
   "outputs": [
    {
     "name": "stdout",
     "output_type": "stream",
     "text": [
      "313/313 [==============================] - 1s 2ms/step\n",
      "Doing binary classification\n"
     ]
    },
    {
     "data": {
      "image/png": "[encoded data removed]",
      "text/plain": [
       "<Figure size 432x288 with 1 Axes>"
      ]
     },
     "metadata": {
      "needs_background": "light"
     },
     "output_type": "display_data"
    }
   ],
   "source": [
    "# Plot decision boundary for test set\n",
    "plot_decision_boundary(model=model_8,X=X_test, y=y_test)"
   ]
  },
  {
   "cell_type": "code",
   "execution_count": null,
   "id": "21198e6a",
   "metadata": {},
   "outputs": [],
   "source": []
  },
  {
   "cell_type": "markdown",
   "id": "2c4b4d5e",
   "metadata": {},
   "source": [
    "📕 The main takeaway is all we did was took `model_7`, increased its learning rate by 10 times (from 0.001 to 0.01), and the model converged faster."
   ]
  },
  {
   "cell_type": "code",
   "execution_count": null,
   "id": "4fac0567",
   "metadata": {},
   "outputs": [],
   "source": []
  },
  {
   "cell_type": "markdown",
   "id": "55b33d3b",
   "metadata": {},
   "source": [
    "## Find the ideal learning rate for a model"
   ]
  },
  {
   "cell_type": "code",
   "execution_count": null,
   "id": "8337fe45",
   "metadata": {},
   "outputs": [],
   "source": []
  },
  {
   "cell_type": "code",
   "execution_count": null,
   "id": "35ce7e81",
   "metadata": {},
   "outputs": [],
   "source": []
  }
 ],
 "metadata": {
  "kernelspec": {
   "display_name": "Python 3",
   "language": "python",
   "name": "python3"
  },
  "language_info": {
   "codemirror_mode": {
    "name": "ipython",
    "version": 3
   },
   "file_extension": ".py",
   "mimetype": "text/x-python",
   "name": "python",
   "nbconvert_exporter": "python",
   "pygments_lexer": "ipython3",
   "version": "3.8.8"
  }
 },
 "nbformat": 4,
 "nbformat_minor": 5
}
