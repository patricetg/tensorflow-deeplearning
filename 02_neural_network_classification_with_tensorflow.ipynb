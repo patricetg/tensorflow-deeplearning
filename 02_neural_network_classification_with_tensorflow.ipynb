{
 "cells": [
  {
   "cell_type": "code",
   "execution_count": null,
   "id": "3447e8b3",
   "metadata": {},
   "outputs": [],
   "source": []
  },
  {
   "cell_type": "markdown",
   "id": "2800478a",
   "metadata": {},
   "source": [
    "# Introduction to Neural Network classification with TensorFlow\n",
    "\n",
    "A classification problem is where you try to classify something as one thing or another.   \n",
    "We have:\n",
    "* Binary Classification: we have two labels (e.g. spam or not spam)\n",
    "* Multiclass Classification: we have more than two labels (eg. dog, human, flower)\n",
    "* Multilabel Classification: we need to associate many labels to a predication (eg. associate tags to a given text)\n"
   ]
  },
  {
   "cell_type": "code",
   "execution_count": null,
   "id": "a6a0aa0f",
   "metadata": {},
   "outputs": [],
   "source": []
  },
  {
   "cell_type": "code",
   "execution_count": 1,
   "id": "49d980a2",
   "metadata": {},
   "outputs": [],
   "source": [
    "from sklearn.datasets import make_circles\n",
    "import pandas as pd\n",
    "import numpy as np\n",
    "\n",
    "import matplotlib.pyplot as plt\n",
    "import seaborn as sb\n",
    "\n",
    "%matplotlib inline"
   ]
  },
  {
   "cell_type": "code",
   "execution_count": 2,
   "id": "fb00d2f3",
   "metadata": {},
   "outputs": [
    {
     "data": {
      "text/plain": [
       "'2.10.0'"
      ]
     },
     "execution_count": 2,
     "metadata": {},
     "output_type": "execute_result"
    }
   ],
   "source": [
    "import tensorflow as tf\n",
    "tf.__version__"
   ]
  },
  {
   "cell_type": "code",
   "execution_count": null,
   "id": "05ca92c4",
   "metadata": {},
   "outputs": [],
   "source": []
  },
  {
   "cell_type": "markdown",
   "id": "0d54956d",
   "metadata": {},
   "source": [
    "## Creating binary dataset to work on"
   ]
  },
  {
   "cell_type": "code",
   "execution_count": 3,
   "id": "7bdbe7b0",
   "metadata": {},
   "outputs": [],
   "source": [
    "n_samples = 1000\n",
    "X,y = make_circles(n_samples,noise=.03,random_state=42)"
   ]
  },
  {
   "cell_type": "code",
   "execution_count": 4,
   "id": "2fb626fc",
   "metadata": {},
   "outputs": [
    {
     "data": {
      "text/plain": [
       "array([[ 0.75424625,  0.23148074],\n",
       "       [-0.75615888,  0.15325888],\n",
       "       [-0.81539193,  0.17328203],\n",
       "       ...,\n",
       "       [-0.13690036, -0.81001183],\n",
       "       [ 0.67036156, -0.76750154],\n",
       "       [ 0.28105665,  0.96382443]])"
      ]
     },
     "execution_count": 4,
     "metadata": {},
     "output_type": "execute_result"
    }
   ],
   "source": [
    "X"
   ]
  },
  {
   "cell_type": "code",
   "execution_count": 5,
   "id": "a698cf9f",
   "metadata": {},
   "outputs": [
    {
     "data": {
      "text/plain": [
       "array([1, 1, 1, 1, 0, 1, 1, 1, 1], dtype=int64)"
      ]
     },
     "execution_count": 5,
     "metadata": {},
     "output_type": "execute_result"
    }
   ],
   "source": [
    "y[:9]"
   ]
  },
  {
   "cell_type": "code",
   "execution_count": 6,
   "id": "f8cf5e35",
   "metadata": {},
   "outputs": [
    {
     "data": {
      "text/plain": [
       "((1000, 2), (1000,))"
      ]
     },
     "execution_count": 6,
     "metadata": {},
     "output_type": "execute_result"
    }
   ],
   "source": [
    "X.shape, y.shape"
   ]
  },
  {
   "cell_type": "code",
   "execution_count": 7,
   "id": "c0609c00",
   "metadata": {},
   "outputs": [
    {
     "data": {
      "text/plain": [
       "array([0.75424625, 0.23148074])"
      ]
     },
     "execution_count": 7,
     "metadata": {},
     "output_type": "execute_result"
    }
   ],
   "source": [
    "X[0]"
   ]
  },
  {
   "cell_type": "code",
   "execution_count": 8,
   "id": "d5f9e04e",
   "metadata": {},
   "outputs": [
    {
     "data": {
      "text/plain": [
       "1"
      ]
     },
     "execution_count": 8,
     "metadata": {},
     "output_type": "execute_result"
    }
   ],
   "source": [
    "y[0]"
   ]
  },
  {
   "cell_type": "code",
   "execution_count": null,
   "id": "4be3e553",
   "metadata": {},
   "outputs": [],
   "source": []
  },
  {
   "cell_type": "markdown",
   "id": "9caadd31",
   "metadata": {},
   "source": [
    "Let's visualize the data"
   ]
  },
  {
   "cell_type": "code",
   "execution_count": 9,
   "id": "c62f8cea",
   "metadata": {},
   "outputs": [
    {
     "data": {
      "text/html": [
       "<div>\n",
       "<style scoped>\n",
       "    .dataframe tbody tr th:only-of-type {\n",
       "        vertical-align: middle;\n",
       "    }\n",
       "\n",
       "    .dataframe tbody tr th {\n",
       "        vertical-align: top;\n",
       "    }\n",
       "\n",
       "    .dataframe thead th {\n",
       "        text-align: right;\n",
       "    }\n",
       "</style>\n",
       "<table border=\"1\" class=\"dataframe\">\n",
       "  <thead>\n",
       "    <tr style=\"text-align: right;\">\n",
       "      <th></th>\n",
       "      <th>X0</th>\n",
       "      <th>X1</th>\n",
       "      <th>label</th>\n",
       "    </tr>\n",
       "  </thead>\n",
       "  <tbody>\n",
       "    <tr>\n",
       "      <th>0</th>\n",
       "      <td>0.754246</td>\n",
       "      <td>0.231481</td>\n",
       "      <td>1</td>\n",
       "    </tr>\n",
       "    <tr>\n",
       "      <th>1</th>\n",
       "      <td>-0.756159</td>\n",
       "      <td>0.153259</td>\n",
       "      <td>1</td>\n",
       "    </tr>\n",
       "    <tr>\n",
       "      <th>2</th>\n",
       "      <td>-0.815392</td>\n",
       "      <td>0.173282</td>\n",
       "      <td>1</td>\n",
       "    </tr>\n",
       "    <tr>\n",
       "      <th>3</th>\n",
       "      <td>-0.393731</td>\n",
       "      <td>0.692883</td>\n",
       "      <td>1</td>\n",
       "    </tr>\n",
       "    <tr>\n",
       "      <th>4</th>\n",
       "      <td>0.442208</td>\n",
       "      <td>-0.896723</td>\n",
       "      <td>0</td>\n",
       "    </tr>\n",
       "  </tbody>\n",
       "</table>\n",
       "</div>"
      ],
      "text/plain": [
       "         X0        X1  label\n",
       "0  0.754246  0.231481      1\n",
       "1 -0.756159  0.153259      1\n",
       "2 -0.815392  0.173282      1\n",
       "3 -0.393731  0.692883      1\n",
       "4  0.442208 -0.896723      0"
      ]
     },
     "execution_count": 9,
     "metadata": {},
     "output_type": "execute_result"
    }
   ],
   "source": [
    "circle_df = pd.DataFrame({\n",
    "    \"X0\":X[:,0],\n",
    "    \"X1\":X[:,1],\n",
    "    \"label\":y\n",
    "})\n",
    "circle_df.head()"
   ]
  },
  {
   "cell_type": "code",
   "execution_count": 10,
   "id": "2f0a272d",
   "metadata": {},
   "outputs": [
    {
     "data": {
      "image/png": "[encoded data removed]",
      "text/plain": [
       "<Figure size 432x432 with 1 Axes>"
      ]
     },
     "metadata": {
      "needs_background": "light"
     },
     "output_type": "display_data"
    }
   ],
   "source": [
    "plt.figure(figsize=[6,6])\n",
    "\n",
    "plt.scatter(data=circle_df, x=\"X0\",y=\"X1\",c=\"label\", cmap=plt.cm.RdYlBu);"
   ]
  },
  {
   "cell_type": "markdown",
   "id": "ed4979b9",
   "metadata": {},
   "source": [
    "The model we want to build will tell wether a given point is red or blue"
   ]
  },
  {
   "cell_type": "markdown",
   "id": "1971f975",
   "metadata": {},
   "source": [
    "🛠️ **Exercise**: Spend some 20 minutes playing around with [https://playground.tensorflow.org](https://playground.tensorflow.org/#activation=tanh&batchSize=10&dataset=circle&regDataset=reg-plane&learningRate=0.03&regularizationRate=0&noise=0&networkShape=4,2&seed=0.14726&showTestData=false&discretize=false&percTrainData=50&x=true&y=true&xTimesY=false&xSquared=false&ySquared=false&cosX=false&sinX=false&cosY=false&sinY=false&collectStats=false&problem=classification&initZero=false&hideText=false) building and running different neural networks. See what happens when you change different hyperparameters."
   ]
  },
  {
   "cell_type": "code",
   "execution_count": null,
   "id": "89794833",
   "metadata": {},
   "outputs": [],
   "source": []
  },
  {
   "cell_type": "markdown",
   "id": "c77c901e",
   "metadata": {},
   "source": [
    "## Steps in creating a classification model\n",
    "Those steps are:\n",
    "1. Create or import a model\n",
    "1. Compile the model\n",
    "1. Fit the model\n",
    "1. Evaluate the model\n",
    "1. Tweak the model\n",
    "1. Evaluate the model\n",
    "1. An iteration of the previous two steps"
   ]
  },
  {
   "cell_type": "code",
   "execution_count": 11,
   "id": "c5622945",
   "metadata": {},
   "outputs": [
    {
     "name": "stdout",
     "output_type": "stream",
     "text": [
      "Epoch 1/5\n",
      "32/32 [==============================] - 0s 1ms/step - loss: 5.3446 - accuracy: 0.4960\n",
      "Epoch 2/5\n",
      "32/32 [==============================] - 0s 1ms/step - loss: 3.5502 - accuracy: 0.4980\n",
      "Epoch 3/5\n",
      "32/32 [==============================] - 0s 1ms/step - loss: 0.7960 - accuracy: 0.4930\n",
      "Epoch 4/5\n",
      "32/32 [==============================] - 0s 1ms/step - loss: 0.7183 - accuracy: 0.5000\n",
      "Epoch 5/5\n",
      "32/32 [==============================] - 0s 1ms/step - loss: 0.7020 - accuracy: 0.4980\n"
     ]
    },
    {
     "data": {
      "text/plain": [
       "<keras.callbacks.History at 0x1ee1ac3ea30>"
      ]
     },
     "execution_count": 11,
     "metadata": {},
     "output_type": "execute_result"
    }
   ],
   "source": [
    "# Set the random seed\n",
    "tf.random.set_seed(42)\n",
    "\n",
    "# 1. Creating a model using the Sequential API\n",
    "model_1 = tf.keras.models.Sequential([\n",
    "    tf.keras.layers.Dense(1)\n",
    "])\n",
    "\n",
    "# 2. Compile the model\n",
    "model_1.compile(loss=tf.keras.losses.BinaryCrossentropy(), #.binary_crossentropy,\n",
    "                optimizer=tf.keras.optimizers.SGD(),\n",
    "               metrics=[\"accuracy\"])\n",
    "\n",
    "# 3. Fit the model\n",
    "model_1.fit(X,y, epochs=5, verbose=1)"
   ]
  },
  {
   "cell_type": "markdown",
   "id": "c92167a1",
   "metadata": {},
   "source": [
    "The accuracy is 0.4960, 49.6%. This means that on average, out of 100 examples, the model only gets 50 examples right. This in turn mean that the model is basically guessing."
   ]
  },
  {
   "cell_type": "markdown",
   "id": "18eeaf47",
   "metadata": {},
   "source": [
    "Let's try and improve the model by training for longer."
   ]
  },
  {
   "cell_type": "code",
   "execution_count": 12,
   "id": "df6ed7fb",
   "metadata": {},
   "outputs": [
    {
     "name": "stdout",
     "output_type": "stream",
     "text": [
      "Epoch 1/200\n",
      "32/32 [==============================] - 0s 1ms/step - loss: 0.6964 - accuracy: 0.4970\n",
      "Epoch 2/200\n",
      "32/32 [==============================] - 0s 1ms/step - loss: 0.6947 - accuracy: 0.5010\n",
      "Epoch 3/200\n",
      "32/32 [==============================] - 0s 1ms/step - loss: 0.6947 - accuracy: 0.4620\n",
      "Epoch 4/200\n",
      "32/32 [==============================] - 0s 2ms/step - loss: 0.6941 - accuracy: 0.4680\n",
      "Epoch 5/200\n",
      "32/32 [==============================] - 0s 2ms/step - loss: 0.6940 - accuracy: 0.4770\n",
      "Epoch 6/200\n",
      "32/32 [==============================] - 0s 1ms/step - loss: 0.6936 - accuracy: 0.4990\n",
      "Epoch 7/200\n",
      "32/32 [==============================] - 0s 2ms/step - loss: 0.6943 - accuracy: 0.4960\n",
      "Epoch 8/200\n",
      "32/32 [==============================] - 0s 1ms/step - loss: 0.6941 - accuracy: 0.4820\n",
      "Epoch 9/200\n",
      "32/32 [==============================] - 0s 1ms/step - loss: 0.6940 - accuracy: 0.4770\n",
      "Epoch 10/200\n",
      "32/32 [==============================] - 0s 1ms/step - loss: 0.6938 - accuracy: 0.4780\n",
      "Epoch 11/200\n",
      "32/32 [==============================] - 0s 1ms/step - loss: 0.6944 - accuracy: 0.4580\n",
      "Epoch 12/200\n",
      "32/32 [==============================] - 0s 2ms/step - loss: 0.6945 - accuracy: 0.4740\n",
      "Epoch 13/200\n",
      "32/32 [==============================] - 0s 1ms/step - loss: 0.6943 - accuracy: 0.4900\n",
      "Epoch 14/200\n",
      "32/32 [==============================] - 0s 1ms/step - loss: 0.6944 - accuracy: 0.5030\n",
      "Epoch 15/200\n",
      "32/32 [==============================] - 0s 1ms/step - loss: 0.6941 - accuracy: 0.4480\n",
      "Epoch 16/200\n",
      "32/32 [==============================] - 0s 1ms/step - loss: 0.6944 - accuracy: 0.4890\n",
      "Epoch 17/200\n",
      "32/32 [==============================] - 0s 2ms/step - loss: 0.6941 - accuracy: 0.4910\n",
      "Epoch 18/200\n",
      "32/32 [==============================] - 0s 2ms/step - loss: 0.6940 - accuracy: 0.4760\n",
      "Epoch 19/200\n",
      "32/32 [==============================] - 0s 2ms/step - loss: 0.6941 - accuracy: 0.4820\n",
      "Epoch 20/200\n",
      "32/32 [==============================] - 0s 2ms/step - loss: 0.6941 - accuracy: 0.4550\n",
      "Epoch 21/200\n",
      "32/32 [==============================] - 0s 1ms/step - loss: 0.6939 - accuracy: 0.4900\n",
      "Epoch 22/200\n",
      "32/32 [==============================] - 0s 1ms/step - loss: 0.6942 - accuracy: 0.4690\n",
      "Epoch 23/200\n",
      "32/32 [==============================] - 0s 2ms/step - loss: 0.6940 - accuracy: 0.4840\n",
      "Epoch 24/200\n",
      "32/32 [==============================] - 0s 2ms/step - loss: 0.6942 - accuracy: 0.4680\n",
      "Epoch 25/200\n",
      "32/32 [==============================] - 0s 2ms/step - loss: 0.6939 - accuracy: 0.4890\n",
      "Epoch 26/200\n",
      "32/32 [==============================] - 0s 2ms/step - loss: 0.6943 - accuracy: 0.4740\n",
      "Epoch 27/200\n",
      "32/32 [==============================] - 0s 2ms/step - loss: 0.6938 - accuracy: 0.5060\n",
      "Epoch 28/200\n",
      "32/32 [==============================] - 0s 1ms/step - loss: 0.6943 - accuracy: 0.4690\n",
      "Epoch 29/200\n",
      "32/32 [==============================] - 0s 1ms/step - loss: 0.6942 - accuracy: 0.4620\n",
      "Epoch 30/200\n",
      "32/32 [==============================] - 0s 1ms/step - loss: 0.6941 - accuracy: 0.4870\n",
      "Epoch 31/200\n",
      "32/32 [==============================] - 0s 1ms/step - loss: 0.6942 - accuracy: 0.5230\n",
      "Epoch 32/200\n",
      "32/32 [==============================] - 0s 2ms/step - loss: 0.6941 - accuracy: 0.4670\n",
      "Epoch 33/200\n",
      "32/32 [==============================] - 0s 2ms/step - loss: 0.6942 - accuracy: 0.4760\n",
      "Epoch 34/200\n",
      "32/32 [==============================] - 0s 1ms/step - loss: 0.6946 - accuracy: 0.4590\n",
      "Epoch 35/200\n",
      "32/32 [==============================] - 0s 2ms/step - loss: 0.6941 - accuracy: 0.5010\n",
      "Epoch 36/200\n",
      "32/32 [==============================] - 0s 2ms/step - loss: 0.6943 - accuracy: 0.4710\n",
      "Epoch 37/200\n",
      "32/32 [==============================] - 0s 2ms/step - loss: 0.6940 - accuracy: 0.5020\n",
      "Epoch 38/200\n",
      "32/32 [==============================] - 0s 2ms/step - loss: 0.6940 - accuracy: 0.4670\n",
      "Epoch 39/200\n",
      "32/32 [==============================] - 0s 1ms/step - loss: 0.6941 - accuracy: 0.4350\n",
      "Epoch 40/200\n",
      "32/32 [==============================] - 0s 1ms/step - loss: 0.6948 - accuracy: 0.4720\n",
      "Epoch 41/200\n",
      "32/32 [==============================] - 0s 2ms/step - loss: 0.6941 - accuracy: 0.4730\n",
      "Epoch 42/200\n",
      "32/32 [==============================] - 0s 2ms/step - loss: 0.6941 - accuracy: 0.4640\n",
      "Epoch 43/200\n",
      "32/32 [==============================] - 0s 2ms/step - loss: 0.6942 - accuracy: 0.4850\n",
      "Epoch 44/200\n",
      "32/32 [==============================] - 0s 2ms/step - loss: 0.6935 - accuracy: 0.5080\n",
      "Epoch 45/200\n",
      "32/32 [==============================] - 0s 1ms/step - loss: 0.6944 - accuracy: 0.4710\n",
      "Epoch 46/200\n",
      "32/32 [==============================] - 0s 1ms/step - loss: 0.6942 - accuracy: 0.4850\n",
      "Epoch 47/200\n",
      "32/32 [==============================] - 0s 1ms/step - loss: 0.6939 - accuracy: 0.4940\n",
      "Epoch 48/200\n",
      "32/32 [==============================] - 0s 1ms/step - loss: 0.6939 - accuracy: 0.4900\n",
      "Epoch 49/200\n",
      "32/32 [==============================] - 0s 1ms/step - loss: 0.6941 - accuracy: 0.4770\n",
      "Epoch 50/200\n",
      "32/32 [==============================] - 0s 1ms/step - loss: 0.6941 - accuracy: 0.4980\n",
      "Epoch 51/200\n",
      "32/32 [==============================] - 0s 1ms/step - loss: 0.6942 - accuracy: 0.4820\n",
      "Epoch 52/200\n",
      "32/32 [==============================] - 0s 1ms/step - loss: 0.6941 - accuracy: 0.4890\n",
      "Epoch 53/200\n",
      "32/32 [==============================] - 0s 2ms/step - loss: 0.6939 - accuracy: 0.4690\n",
      "Epoch 54/200\n",
      "32/32 [==============================] - 0s 1ms/step - loss: 0.6943 - accuracy: 0.4920\n",
      "Epoch 55/200\n",
      "32/32 [==============================] - 0s 1ms/step - loss: 0.6942 - accuracy: 0.4970\n",
      "Epoch 56/200\n",
      "32/32 [==============================] - 0s 1ms/step - loss: 0.6940 - accuracy: 0.4800\n",
      "Epoch 57/200\n",
      "32/32 [==============================] - 0s 2ms/step - loss: 0.6944 - accuracy: 0.4710\n",
      "Epoch 58/200\n",
      "32/32 [==============================] - 0s 2ms/step - loss: 0.6942 - accuracy: 0.4870\n",
      "Epoch 59/200\n",
      "32/32 [==============================] - 0s 1ms/step - loss: 0.6939 - accuracy: 0.5030\n",
      "Epoch 60/200\n",
      "32/32 [==============================] - 0s 1ms/step - loss: 0.6942 - accuracy: 0.5060\n",
      "Epoch 61/200\n",
      "32/32 [==============================] - 0s 1ms/step - loss: 0.6944 - accuracy: 0.4990\n",
      "Epoch 62/200\n",
      "32/32 [==============================] - 0s 1ms/step - loss: 0.6941 - accuracy: 0.4760\n",
      "Epoch 63/200\n",
      "32/32 [==============================] - 0s 1ms/step - loss: 0.6940 - accuracy: 0.4690\n",
      "Epoch 64/200\n",
      "32/32 [==============================] - 0s 1ms/step - loss: 0.6942 - accuracy: 0.4930\n",
      "Epoch 65/200\n",
      "32/32 [==============================] - 0s 1ms/step - loss: 0.6943 - accuracy: 0.4690\n",
      "Epoch 66/200\n",
      "32/32 [==============================] - 0s 1ms/step - loss: 0.6940 - accuracy: 0.4770\n",
      "Epoch 67/200\n",
      "32/32 [==============================] - 0s 1ms/step - loss: 0.6945 - accuracy: 0.4670\n",
      "Epoch 68/200\n",
      "32/32 [==============================] - 0s 1ms/step - loss: 0.6939 - accuracy: 0.4680\n",
      "Epoch 69/200\n",
      "32/32 [==============================] - 0s 1ms/step - loss: 0.6943 - accuracy: 0.5070\n",
      "Epoch 70/200\n",
      "32/32 [==============================] - 0s 1ms/step - loss: 0.6943 - accuracy: 0.4630\n",
      "Epoch 71/200\n",
      "32/32 [==============================] - 0s 1ms/step - loss: 0.6939 - accuracy: 0.4820\n",
      "Epoch 72/200\n",
      "32/32 [==============================] - 0s 1ms/step - loss: 0.6942 - accuracy: 0.4890\n",
      "Epoch 73/200\n",
      "32/32 [==============================] - 0s 1ms/step - loss: 0.6941 - accuracy: 0.4760\n",
      "Epoch 74/200\n",
      "32/32 [==============================] - 0s 1ms/step - loss: 0.6940 - accuracy: 0.5090\n",
      "Epoch 75/200\n",
      "32/32 [==============================] - 0s 1ms/step - loss: 0.6941 - accuracy: 0.4940\n",
      "Epoch 76/200\n",
      "32/32 [==============================] - 0s 1ms/step - loss: 0.6940 - accuracy: 0.5010\n",
      "Epoch 77/200\n",
      "32/32 [==============================] - 0s 1ms/step - loss: 0.6942 - accuracy: 0.4870\n",
      "Epoch 78/200\n",
      "32/32 [==============================] - 0s 1ms/step - loss: 0.6941 - accuracy: 0.4610\n",
      "Epoch 79/200\n",
      "32/32 [==============================] - 0s 1ms/step - loss: 0.6940 - accuracy: 0.4860\n",
      "Epoch 80/200\n",
      "32/32 [==============================] - 0s 1ms/step - loss: 0.6943 - accuracy: 0.5050\n",
      "Epoch 81/200\n",
      "32/32 [==============================] - 0s 2ms/step - loss: 0.6943 - accuracy: 0.5050\n",
      "Epoch 82/200\n",
      "32/32 [==============================] - 0s 2ms/step - loss: 0.6941 - accuracy: 0.4690\n",
      "Epoch 83/200\n"
     ]
    },
    {
     "name": "stdout",
     "output_type": "stream",
     "text": [
      "32/32 [==============================] - 0s 1ms/step - loss: 0.6941 - accuracy: 0.4930\n",
      "Epoch 84/200\n",
      "32/32 [==============================] - 0s 1ms/step - loss: 0.6942 - accuracy: 0.4960\n",
      "Epoch 85/200\n",
      "32/32 [==============================] - 0s 1ms/step - loss: 0.6939 - accuracy: 0.4930\n",
      "Epoch 86/200\n",
      "32/32 [==============================] - 0s 1ms/step - loss: 0.6940 - accuracy: 0.4880\n",
      "Epoch 87/200\n",
      "32/32 [==============================] - 0s 1ms/step - loss: 0.6942 - accuracy: 0.4720\n",
      "Epoch 88/200\n",
      "32/32 [==============================] - 0s 1ms/step - loss: 0.6944 - accuracy: 0.4470\n",
      "Epoch 89/200\n",
      "32/32 [==============================] - 0s 1ms/step - loss: 0.6945 - accuracy: 0.4720\n",
      "Epoch 90/200\n",
      "32/32 [==============================] - 0s 1ms/step - loss: 0.6941 - accuracy: 0.4820\n",
      "Epoch 91/200\n",
      "32/32 [==============================] - 0s 1ms/step - loss: 0.6944 - accuracy: 0.4860\n",
      "Epoch 92/200\n",
      "32/32 [==============================] - 0s 1ms/step - loss: 0.6941 - accuracy: 0.5050\n",
      "Epoch 93/200\n",
      "32/32 [==============================] - 0s 1ms/step - loss: 0.6941 - accuracy: 0.4720\n",
      "Epoch 94/200\n",
      "32/32 [==============================] - 0s 1ms/step - loss: 0.6946 - accuracy: 0.4770\n",
      "Epoch 95/200\n",
      "32/32 [==============================] - 0s 1ms/step - loss: 0.6940 - accuracy: 0.4760\n",
      "Epoch 96/200\n",
      "32/32 [==============================] - 0s 1ms/step - loss: 0.6945 - accuracy: 0.4610\n",
      "Epoch 97/200\n",
      "32/32 [==============================] - 0s 1ms/step - loss: 0.6942 - accuracy: 0.4690\n",
      "Epoch 98/200\n",
      "32/32 [==============================] - 0s 1ms/step - loss: 0.6942 - accuracy: 0.4840\n",
      "Epoch 99/200\n",
      "32/32 [==============================] - 0s 1ms/step - loss: 0.6944 - accuracy: 0.4980\n",
      "Epoch 100/200\n",
      "32/32 [==============================] - 0s 1ms/step - loss: 0.6943 - accuracy: 0.4850\n",
      "Epoch 101/200\n",
      "32/32 [==============================] - 0s 1ms/step - loss: 0.6939 - accuracy: 0.5060\n",
      "Epoch 102/200\n",
      "32/32 [==============================] - 0s 2ms/step - loss: 0.6946 - accuracy: 0.4750\n",
      "Epoch 103/200\n",
      "32/32 [==============================] - 0s 1ms/step - loss: 0.6944 - accuracy: 0.4760\n",
      "Epoch 104/200\n",
      "32/32 [==============================] - 0s 1ms/step - loss: 0.6941 - accuracy: 0.4900\n",
      "Epoch 105/200\n",
      "32/32 [==============================] - 0s 1ms/step - loss: 0.6939 - accuracy: 0.4960\n",
      "Epoch 106/200\n",
      "32/32 [==============================] - 0s 1ms/step - loss: 0.6940 - accuracy: 0.4950\n",
      "Epoch 107/200\n",
      "32/32 [==============================] - 0s 1ms/step - loss: 0.6938 - accuracy: 0.4690\n",
      "Epoch 108/200\n",
      "32/32 [==============================] - 0s 1ms/step - loss: 0.6943 - accuracy: 0.4940\n",
      "Epoch 109/200\n",
      "32/32 [==============================] - 0s 1ms/step - loss: 0.6942 - accuracy: 0.4510\n",
      "Epoch 110/200\n",
      "32/32 [==============================] - 0s 1ms/step - loss: 0.6944 - accuracy: 0.4570\n",
      "Epoch 111/200\n",
      "32/32 [==============================] - 0s 1ms/step - loss: 0.6943 - accuracy: 0.4820\n",
      "Epoch 112/200\n",
      "32/32 [==============================] - 0s 1ms/step - loss: 0.6946 - accuracy: 0.4770\n",
      "Epoch 113/200\n",
      "32/32 [==============================] - 0s 1ms/step - loss: 0.6944 - accuracy: 0.4740\n",
      "Epoch 114/200\n",
      "32/32 [==============================] - 0s 1ms/step - loss: 0.6944 - accuracy: 0.4660\n",
      "Epoch 115/200\n",
      "32/32 [==============================] - 0s 1ms/step - loss: 0.6941 - accuracy: 0.4690\n",
      "Epoch 116/200\n",
      "32/32 [==============================] - 0s 1ms/step - loss: 0.6942 - accuracy: 0.4830\n",
      "Epoch 117/200\n",
      "32/32 [==============================] - 0s 1ms/step - loss: 0.6943 - accuracy: 0.5000\n",
      "Epoch 118/200\n",
      "32/32 [==============================] - 0s 1ms/step - loss: 0.6939 - accuracy: 0.4990\n",
      "Epoch 119/200\n",
      "32/32 [==============================] - 0s 1ms/step - loss: 0.6944 - accuracy: 0.4750\n",
      "Epoch 120/200\n",
      "32/32 [==============================] - 0s 1ms/step - loss: 0.6940 - accuracy: 0.4980\n",
      "Epoch 121/200\n",
      "32/32 [==============================] - 0s 1ms/step - loss: 0.6942 - accuracy: 0.4740\n",
      "Epoch 122/200\n",
      "32/32 [==============================] - 0s 1ms/step - loss: 0.6941 - accuracy: 0.4920\n",
      "Epoch 123/200\n",
      "32/32 [==============================] - 0s 1ms/step - loss: 0.6944 - accuracy: 0.4640\n",
      "Epoch 124/200\n",
      "32/32 [==============================] - 0s 1ms/step - loss: 0.6943 - accuracy: 0.4660\n",
      "Epoch 125/200\n",
      "32/32 [==============================] - 0s 2ms/step - loss: 0.6940 - accuracy: 0.4800\n",
      "Epoch 126/200\n",
      "32/32 [==============================] - 0s 2ms/step - loss: 0.6941 - accuracy: 0.4960\n",
      "Epoch 127/200\n",
      "32/32 [==============================] - 0s 2ms/step - loss: 0.6942 - accuracy: 0.4760\n",
      "Epoch 128/200\n",
      "32/32 [==============================] - 0s 2ms/step - loss: 0.6943 - accuracy: 0.4920\n",
      "Epoch 129/200\n",
      "32/32 [==============================] - 0s 2ms/step - loss: 0.6939 - accuracy: 0.5100\n",
      "Epoch 130/200\n",
      "32/32 [==============================] - 0s 1ms/step - loss: 0.6936 - accuracy: 0.4840\n",
      "Epoch 131/200\n",
      "32/32 [==============================] - 0s 1ms/step - loss: 0.6944 - accuracy: 0.4780\n",
      "Epoch 132/200\n",
      "32/32 [==============================] - 0s 1ms/step - loss: 0.6939 - accuracy: 0.4760\n",
      "Epoch 133/200\n",
      "32/32 [==============================] - 0s 1ms/step - loss: 0.6942 - accuracy: 0.4800\n",
      "Epoch 134/200\n",
      "32/32 [==============================] - 0s 1ms/step - loss: 0.6944 - accuracy: 0.4740\n",
      "Epoch 135/200\n",
      "32/32 [==============================] - 0s 1ms/step - loss: 0.6943 - accuracy: 0.4670\n",
      "Epoch 136/200\n",
      "32/32 [==============================] - 0s 1ms/step - loss: 0.6944 - accuracy: 0.4590\n",
      "Epoch 137/200\n",
      "32/32 [==============================] - 0s 1ms/step - loss: 0.6943 - accuracy: 0.4840\n",
      "Epoch 138/200\n",
      "32/32 [==============================] - 0s 1ms/step - loss: 0.6943 - accuracy: 0.4610\n",
      "Epoch 139/200\n",
      "32/32 [==============================] - 0s 1ms/step - loss: 0.6942 - accuracy: 0.4810\n",
      "Epoch 140/200\n",
      "32/32 [==============================] - 0s 1ms/step - loss: 0.6942 - accuracy: 0.4610\n",
      "Epoch 141/200\n",
      "32/32 [==============================] - 0s 1ms/step - loss: 0.6941 - accuracy: 0.4630\n",
      "Epoch 142/200\n",
      "32/32 [==============================] - 0s 1ms/step - loss: 0.6941 - accuracy: 0.4790\n",
      "Epoch 143/200\n",
      "32/32 [==============================] - 0s 1ms/step - loss: 0.6943 - accuracy: 0.4790\n",
      "Epoch 144/200\n",
      "32/32 [==============================] - 0s 1ms/step - loss: 0.6943 - accuracy: 0.4650\n",
      "Epoch 145/200\n",
      "32/32 [==============================] - 0s 1ms/step - loss: 0.6943 - accuracy: 0.4990\n",
      "Epoch 146/200\n",
      "32/32 [==============================] - 0s 1ms/step - loss: 0.6945 - accuracy: 0.4570\n",
      "Epoch 147/200\n",
      "32/32 [==============================] - 0s 1ms/step - loss: 0.6943 - accuracy: 0.5110\n",
      "Epoch 148/200\n",
      "32/32 [==============================] - 0s 1ms/step - loss: 0.6943 - accuracy: 0.4880\n",
      "Epoch 149/200\n",
      "32/32 [==============================] - 0s 1ms/step - loss: 0.6941 - accuracy: 0.4500\n",
      "Epoch 150/200\n",
      "32/32 [==============================] - 0s 1ms/step - loss: 0.6943 - accuracy: 0.4700\n",
      "Epoch 151/200\n",
      "32/32 [==============================] - 0s 1ms/step - loss: 0.6938 - accuracy: 0.4620\n",
      "Epoch 152/200\n",
      "32/32 [==============================] - 0s 1ms/step - loss: 0.6940 - accuracy: 0.4990\n",
      "Epoch 153/200\n",
      "32/32 [==============================] - 0s 1ms/step - loss: 0.6942 - accuracy: 0.4870\n",
      "Epoch 154/200\n",
      "32/32 [==============================] - 0s 1ms/step - loss: 0.6936 - accuracy: 0.4810\n",
      "Epoch 155/200\n",
      "32/32 [==============================] - 0s 1ms/step - loss: 0.6944 - accuracy: 0.4780\n",
      "Epoch 156/200\n",
      "32/32 [==============================] - 0s 1ms/step - loss: 0.6944 - accuracy: 0.4680\n",
      "Epoch 157/200\n",
      "32/32 [==============================] - 0s 1ms/step - loss: 0.6944 - accuracy: 0.4990\n",
      "Epoch 158/200\n",
      "32/32 [==============================] - 0s 1ms/step - loss: 0.6940 - accuracy: 0.4940\n",
      "Epoch 159/200\n",
      "32/32 [==============================] - 0s 1ms/step - loss: 0.6943 - accuracy: 0.4710\n",
      "Epoch 160/200\n",
      "32/32 [==============================] - 0s 1ms/step - loss: 0.6943 - accuracy: 0.4880\n",
      "Epoch 161/200\n",
      "32/32 [==============================] - 0s 1ms/step - loss: 0.6942 - accuracy: 0.4770\n",
      "Epoch 162/200\n",
      "32/32 [==============================] - 0s 1ms/step - loss: 0.6943 - accuracy: 0.4920\n",
      "Epoch 163/200\n",
      "32/32 [==============================] - 0s 1ms/step - loss: 0.6946 - accuracy: 0.4690\n",
      "Epoch 164/200\n"
     ]
    },
    {
     "name": "stdout",
     "output_type": "stream",
     "text": [
      "32/32 [==============================] - 0s 1ms/step - loss: 0.6943 - accuracy: 0.4610\n",
      "Epoch 165/200\n",
      "32/32 [==============================] - 0s 1ms/step - loss: 0.6939 - accuracy: 0.4970\n",
      "Epoch 166/200\n",
      "32/32 [==============================] - 0s 1ms/step - loss: 0.6942 - accuracy: 0.4800\n",
      "Epoch 167/200\n",
      "32/32 [==============================] - 0s 1ms/step - loss: 0.6948 - accuracy: 0.4930\n",
      "Epoch 168/200\n",
      "32/32 [==============================] - 0s 1ms/step - loss: 0.6941 - accuracy: 0.4690\n",
      "Epoch 169/200\n",
      "32/32 [==============================] - 0s 1ms/step - loss: 0.6940 - accuracy: 0.4880\n",
      "Epoch 170/200\n",
      "32/32 [==============================] - 0s 1ms/step - loss: 0.6938 - accuracy: 0.4850\n",
      "Epoch 171/200\n",
      "32/32 [==============================] - 0s 1ms/step - loss: 0.6939 - accuracy: 0.4980\n",
      "Epoch 172/200\n",
      "32/32 [==============================] - 0s 1ms/step - loss: 0.6942 - accuracy: 0.4770\n",
      "Epoch 173/200\n",
      "32/32 [==============================] - 0s 1ms/step - loss: 0.6942 - accuracy: 0.4730\n",
      "Epoch 174/200\n",
      "32/32 [==============================] - 0s 1ms/step - loss: 0.6943 - accuracy: 0.4950\n",
      "Epoch 175/200\n",
      "32/32 [==============================] - 0s 1ms/step - loss: 0.6946 - accuracy: 0.4900\n",
      "Epoch 176/200\n",
      "32/32 [==============================] - 0s 1ms/step - loss: 0.6942 - accuracy: 0.4770\n",
      "Epoch 177/200\n",
      "32/32 [==============================] - 0s 1ms/step - loss: 0.6941 - accuracy: 0.4670\n",
      "Epoch 178/200\n",
      "32/32 [==============================] - 0s 1ms/step - loss: 0.6941 - accuracy: 0.4840\n",
      "Epoch 179/200\n",
      "32/32 [==============================] - 0s 1ms/step - loss: 0.6943 - accuracy: 0.4880\n",
      "Epoch 180/200\n",
      "32/32 [==============================] - 0s 1ms/step - loss: 0.6942 - accuracy: 0.4960\n",
      "Epoch 181/200\n",
      "32/32 [==============================] - 0s 1ms/step - loss: 0.6943 - accuracy: 0.4890\n",
      "Epoch 182/200\n",
      "32/32 [==============================] - 0s 1ms/step - loss: 0.6941 - accuracy: 0.4760\n",
      "Epoch 183/200\n",
      "32/32 [==============================] - 0s 1ms/step - loss: 0.6942 - accuracy: 0.5030\n",
      "Epoch 184/200\n",
      "32/32 [==============================] - 0s 1ms/step - loss: 0.6943 - accuracy: 0.4890\n",
      "Epoch 185/200\n",
      "32/32 [==============================] - 0s 1ms/step - loss: 0.6944 - accuracy: 0.4890\n",
      "Epoch 186/200\n",
      "32/32 [==============================] - 0s 1ms/step - loss: 0.6945 - accuracy: 0.4810\n",
      "Epoch 187/200\n",
      "32/32 [==============================] - 0s 1ms/step - loss: 0.6943 - accuracy: 0.4760\n",
      "Epoch 188/200\n",
      "32/32 [==============================] - 0s 1ms/step - loss: 0.6943 - accuracy: 0.4910\n",
      "Epoch 189/200\n",
      "32/32 [==============================] - 0s 1ms/step - loss: 0.6940 - accuracy: 0.5120\n",
      "Epoch 190/200\n",
      "32/32 [==============================] - 0s 1ms/step - loss: 0.6943 - accuracy: 0.4720\n",
      "Epoch 191/200\n",
      "32/32 [==============================] - 0s 1ms/step - loss: 0.6941 - accuracy: 0.4770\n",
      "Epoch 192/200\n",
      "32/32 [==============================] - 0s 1ms/step - loss: 0.6940 - accuracy: 0.4970\n",
      "Epoch 193/200\n",
      "32/32 [==============================] - 0s 1ms/step - loss: 0.6939 - accuracy: 0.4720\n",
      "Epoch 194/200\n",
      "32/32 [==============================] - 0s 1ms/step - loss: 0.6941 - accuracy: 0.4940\n",
      "Epoch 195/200\n",
      "32/32 [==============================] - 0s 1ms/step - loss: 0.6942 - accuracy: 0.4660\n",
      "Epoch 196/200\n",
      "32/32 [==============================] - 0s 1ms/step - loss: 0.6943 - accuracy: 0.4740\n",
      "Epoch 197/200\n",
      "32/32 [==============================] - 0s 1ms/step - loss: 0.6942 - accuracy: 0.4890\n",
      "Epoch 198/200\n",
      "32/32 [==============================] - 0s 1ms/step - loss: 0.6943 - accuracy: 0.4830\n",
      "Epoch 199/200\n",
      "32/32 [==============================] - 0s 1ms/step - loss: 0.6937 - accuracy: 0.5120\n",
      "Epoch 200/200\n",
      "32/32 [==============================] - 0s 1ms/step - loss: 0.6941 - accuracy: 0.4810\n"
     ]
    }
   ],
   "source": [
    "# Let's train for 200 more epochs (for a total of 205 epochs)\n",
    "history = model_1.fit(X,y, epochs=200, verbose=1)"
   ]
  },
  {
   "cell_type": "markdown",
   "id": "d8de8a71",
   "metadata": {},
   "source": [
    "The accuracy here is 0.4810, 48%. The model performance did not improved that much."
   ]
  },
  {
   "cell_type": "code",
   "execution_count": 13,
   "id": "bc8d9d42",
   "metadata": {},
   "outputs": [
    {
     "data": {
      "image/png": "[encoded data removed]",
      "text/plain": [
       "<Figure size 432x288 with 1 Axes>"
      ]
     },
     "metadata": {
      "needs_background": "light"
     },
     "output_type": "display_data"
    }
   ],
   "source": [
    "# Plot history\n",
    "history_df = pd.DataFrame(history.history)\n",
    "history_df.plot(kind=\"line\",y=\"loss\")\n",
    "plt.ylabel(\"Loss\")\n",
    "plt.xlabel(\"Epochs\");"
   ]
  },
  {
   "cell_type": "markdown",
   "id": "dc720554",
   "metadata": {},
   "source": [
    "And looking at the plot, our model is performing really poorly and seems unable to converge."
   ]
  },
  {
   "cell_type": "markdown",
   "id": "4bf707f2",
   "metadata": {},
   "source": [
    "Let's try to improve the model by setting an extra layer."
   ]
  },
  {
   "cell_type": "code",
   "execution_count": 14,
   "id": "eca950fc",
   "metadata": {},
   "outputs": [
    {
     "name": "stdout",
     "output_type": "stream",
     "text": [
      "Epoch 1/100\n",
      "32/32 [==============================] - 0s 1ms/step - loss: 1.0320 - accuracy: 0.4860\n",
      "Epoch 2/100\n",
      "32/32 [==============================] - 0s 1ms/step - loss: 0.6994 - accuracy: 0.4970\n",
      "Epoch 3/100\n",
      "32/32 [==============================] - 0s 1ms/step - loss: 0.6968 - accuracy: 0.4520\n",
      "Epoch 4/100\n",
      "32/32 [==============================] - 0s 2ms/step - loss: 0.6949 - accuracy: 0.4760\n",
      "Epoch 5/100\n",
      "32/32 [==============================] - 0s 2ms/step - loss: 0.6945 - accuracy: 0.4710\n",
      "Epoch 6/100\n",
      "32/32 [==============================] - 0s 2ms/step - loss: 0.6941 - accuracy: 0.4990\n",
      "Epoch 7/100\n",
      "32/32 [==============================] - 0s 2ms/step - loss: 0.6954 - accuracy: 0.4910\n",
      "Epoch 8/100\n",
      "32/32 [==============================] - 0s 2ms/step - loss: 0.6947 - accuracy: 0.4810\n",
      "Epoch 9/100\n",
      "32/32 [==============================] - 0s 2ms/step - loss: 0.6948 - accuracy: 0.4800\n",
      "Epoch 10/100\n",
      "32/32 [==============================] - 0s 1ms/step - loss: 0.6943 - accuracy: 0.4810\n",
      "Epoch 11/100\n",
      "32/32 [==============================] - 0s 2ms/step - loss: 0.6954 - accuracy: 0.4700\n",
      "Epoch 12/100\n",
      "32/32 [==============================] - 0s 2ms/step - loss: 0.6955 - accuracy: 0.4810\n",
      "Epoch 13/100\n",
      "32/32 [==============================] - 0s 1ms/step - loss: 0.6955 - accuracy: 0.4760\n",
      "Epoch 14/100\n",
      "32/32 [==============================] - 0s 2ms/step - loss: 0.6953 - accuracy: 0.4930\n",
      "Epoch 15/100\n",
      "32/32 [==============================] - 0s 2ms/step - loss: 0.6949 - accuracy: 0.4660\n",
      "Epoch 16/100\n",
      "32/32 [==============================] - 0s 1ms/step - loss: 0.6954 - accuracy: 0.4860\n",
      "Epoch 17/100\n",
      "32/32 [==============================] - 0s 2ms/step - loss: 0.6949 - accuracy: 0.5000\n",
      "Epoch 18/100\n",
      "32/32 [==============================] - 0s 1ms/step - loss: 0.6945 - accuracy: 0.4690\n",
      "Epoch 19/100\n",
      "32/32 [==============================] - 0s 2ms/step - loss: 0.6947 - accuracy: 0.4850\n",
      "Epoch 20/100\n",
      "32/32 [==============================] - 0s 2ms/step - loss: 0.6947 - accuracy: 0.4790\n",
      "Epoch 21/100\n",
      "32/32 [==============================] - 0s 1ms/step - loss: 0.6944 - accuracy: 0.4830\n",
      "Epoch 22/100\n",
      "32/32 [==============================] - 0s 2ms/step - loss: 0.6949 - accuracy: 0.4730\n",
      "Epoch 23/100\n",
      "32/32 [==============================] - 0s 2ms/step - loss: 0.6946 - accuracy: 0.4880\n",
      "Epoch 24/100\n",
      "32/32 [==============================] - 0s 2ms/step - loss: 0.6945 - accuracy: 0.4750\n",
      "Epoch 25/100\n",
      "32/32 [==============================] - 0s 1ms/step - loss: 0.6944 - accuracy: 0.4920\n",
      "Epoch 26/100\n",
      "32/32 [==============================] - 0s 2ms/step - loss: 0.6951 - accuracy: 0.4750\n",
      "Epoch 27/100\n",
      "32/32 [==============================] - 0s 2ms/step - loss: 0.6943 - accuracy: 0.5090\n",
      "Epoch 28/100\n",
      "32/32 [==============================] - 0s 2ms/step - loss: 0.6953 - accuracy: 0.4560\n",
      "Epoch 29/100\n",
      "32/32 [==============================] - 0s 2ms/step - loss: 0.6949 - accuracy: 0.4830\n",
      "Epoch 30/100\n",
      "32/32 [==============================] - 0s 2ms/step - loss: 0.6947 - accuracy: 0.4930\n",
      "Epoch 31/100\n",
      "32/32 [==============================] - 0s 2ms/step - loss: 0.6949 - accuracy: 0.5110\n",
      "Epoch 32/100\n",
      "32/32 [==============================] - 0s 2ms/step - loss: 0.6948 - accuracy: 0.4690\n",
      "Epoch 33/100\n",
      "32/32 [==============================] - 0s 2ms/step - loss: 0.6949 - accuracy: 0.4720\n",
      "Epoch 34/100\n",
      "32/32 [==============================] - 0s 2ms/step - loss: 0.6955 - accuracy: 0.4760\n",
      "Epoch 35/100\n",
      "32/32 [==============================] - 0s 1ms/step - loss: 0.6947 - accuracy: 0.5090\n",
      "Epoch 36/100\n",
      "32/32 [==============================] - 0s 1ms/step - loss: 0.6951 - accuracy: 0.4660\n",
      "Epoch 37/100\n",
      "32/32 [==============================] - 0s 2ms/step - loss: 0.6948 - accuracy: 0.4780\n",
      "Epoch 38/100\n",
      "32/32 [==============================] - 0s 2ms/step - loss: 0.6946 - accuracy: 0.4820\n",
      "Epoch 39/100\n",
      "32/32 [==============================] - 0s 1ms/step - loss: 0.6949 - accuracy: 0.4620\n",
      "Epoch 40/100\n",
      "32/32 [==============================] - 0s 2ms/step - loss: 0.6957 - accuracy: 0.4710\n",
      "Epoch 41/100\n",
      "32/32 [==============================] - 0s 2ms/step - loss: 0.6946 - accuracy: 0.4950\n",
      "Epoch 42/100\n",
      "32/32 [==============================] - 0s 2ms/step - loss: 0.6946 - accuracy: 0.4550\n",
      "Epoch 43/100\n",
      "32/32 [==============================] - 0s 2ms/step - loss: 0.6949 - accuracy: 0.4820\n",
      "Epoch 44/100\n",
      "32/32 [==============================] - 0s 2ms/step - loss: 0.6938 - accuracy: 0.5070\n",
      "Epoch 45/100\n",
      "32/32 [==============================] - 0s 2ms/step - loss: 0.6953 - accuracy: 0.4850\n",
      "Epoch 46/100\n",
      "32/32 [==============================] - 0s 2ms/step - loss: 0.6949 - accuracy: 0.4700\n",
      "Epoch 47/100\n",
      "32/32 [==============================] - 0s 2ms/step - loss: 0.6944 - accuracy: 0.5260\n",
      "Epoch 48/100\n",
      "32/32 [==============================] - 0s 2ms/step - loss: 0.6944 - accuracy: 0.4950\n",
      "Epoch 49/100\n",
      "32/32 [==============================] - 0s 1ms/step - loss: 0.6947 - accuracy: 0.4630\n",
      "Epoch 50/100\n",
      "32/32 [==============================] - 0s 2ms/step - loss: 0.6948 - accuracy: 0.4880\n",
      "Epoch 51/100\n",
      "32/32 [==============================] - 0s 2ms/step - loss: 0.6952 - accuracy: 0.4740\n",
      "Epoch 52/100\n",
      "32/32 [==============================] - 0s 2ms/step - loss: 0.6949 - accuracy: 0.4810\n",
      "Epoch 53/100\n",
      "32/32 [==============================] - 0s 2ms/step - loss: 0.6939 - accuracy: 0.4850\n",
      "Epoch 54/100\n",
      "32/32 [==============================] - 0s 1ms/step - loss: 0.6954 - accuracy: 0.4920\n",
      "Epoch 55/100\n",
      "32/32 [==============================] - 0s 1ms/step - loss: 0.6947 - accuracy: 0.4980\n",
      "Epoch 56/100\n",
      "32/32 [==============================] - 0s 1ms/step - loss: 0.6944 - accuracy: 0.4950\n",
      "Epoch 57/100\n",
      "32/32 [==============================] - 0s 1ms/step - loss: 0.6954 - accuracy: 0.4770\n",
      "Epoch 58/100\n",
      "32/32 [==============================] - 0s 1ms/step - loss: 0.6948 - accuracy: 0.4890\n",
      "Epoch 59/100\n",
      "32/32 [==============================] - 0s 2ms/step - loss: 0.6945 - accuracy: 0.5330\n",
      "Epoch 60/100\n",
      "32/32 [==============================] - 0s 1ms/step - loss: 0.6949 - accuracy: 0.5050\n",
      "Epoch 61/100\n",
      "32/32 [==============================] - 0s 1ms/step - loss: 0.6953 - accuracy: 0.4560\n",
      "Epoch 62/100\n",
      "32/32 [==============================] - 0s 1ms/step - loss: 0.6949 - accuracy: 0.4730\n",
      "Epoch 63/100\n",
      "32/32 [==============================] - 0s 1ms/step - loss: 0.6946 - accuracy: 0.4500\n",
      "Epoch 64/100\n",
      "32/32 [==============================] - 0s 1ms/step - loss: 0.6949 - accuracy: 0.4980\n",
      "Epoch 65/100\n",
      "32/32 [==============================] - 0s 2ms/step - loss: 0.6953 - accuracy: 0.4800\n",
      "Epoch 66/100\n",
      "32/32 [==============================] - 0s 1ms/step - loss: 0.6946 - accuracy: 0.4750\n",
      "Epoch 67/100\n",
      "32/32 [==============================] - 0s 1ms/step - loss: 0.6954 - accuracy: 0.4740\n",
      "Epoch 68/100\n",
      "32/32 [==============================] - 0s 1ms/step - loss: 0.6944 - accuracy: 0.4840\n",
      "Epoch 69/100\n",
      "32/32 [==============================] - 0s 1ms/step - loss: 0.6952 - accuracy: 0.4910\n",
      "Epoch 70/100\n",
      "32/32 [==============================] - 0s 1ms/step - loss: 0.6949 - accuracy: 0.4750\n",
      "Epoch 71/100\n",
      "32/32 [==============================] - 0s 1ms/step - loss: 0.6946 - accuracy: 0.4950\n",
      "Epoch 72/100\n",
      "32/32 [==============================] - 0s 1ms/step - loss: 0.6949 - accuracy: 0.4970\n",
      "Epoch 73/100\n",
      "32/32 [==============================] - 0s 1ms/step - loss: 0.6948 - accuracy: 0.4940\n",
      "Epoch 74/100\n",
      "32/32 [==============================] - 0s 1ms/step - loss: 0.6946 - accuracy: 0.5070\n",
      "Epoch 75/100\n",
      "32/32 [==============================] - 0s 1ms/step - loss: 0.6947 - accuracy: 0.5040\n",
      "Epoch 76/100\n",
      "32/32 [==============================] - 0s 1ms/step - loss: 0.6947 - accuracy: 0.4890\n",
      "Epoch 77/100\n",
      "32/32 [==============================] - 0s 1ms/step - loss: 0.6949 - accuracy: 0.4810\n",
      "Epoch 78/100\n",
      "32/32 [==============================] - 0s 1ms/step - loss: 0.6948 - accuracy: 0.4660\n",
      "Epoch 79/100\n",
      "32/32 [==============================] - 0s 1ms/step - loss: 0.6947 - accuracy: 0.4950\n",
      "Epoch 80/100\n",
      "32/32 [==============================] - 0s 2ms/step - loss: 0.6951 - accuracy: 0.5020\n",
      "Epoch 81/100\n",
      "32/32 [==============================] - 0s 2ms/step - loss: 0.6948 - accuracy: 0.4960\n",
      "Epoch 82/100\n",
      "32/32 [==============================] - 0s 2ms/step - loss: 0.6947 - accuracy: 0.4690\n",
      "Epoch 83/100\n"
     ]
    },
    {
     "name": "stdout",
     "output_type": "stream",
     "text": [
      "32/32 [==============================] - 0s 2ms/step - loss: 0.6945 - accuracy: 0.4730\n",
      "Epoch 84/100\n",
      "32/32 [==============================] - 0s 2ms/step - loss: 0.6949 - accuracy: 0.4950\n",
      "Epoch 85/100\n",
      "32/32 [==============================] - 0s 1ms/step - loss: 0.6946 - accuracy: 0.4890\n",
      "Epoch 86/100\n",
      "32/32 [==============================] - 0s 1ms/step - loss: 0.6946 - accuracy: 0.4880\n",
      "Epoch 87/100\n",
      "32/32 [==============================] - 0s 1ms/step - loss: 0.6950 - accuracy: 0.4690\n",
      "Epoch 88/100\n",
      "32/32 [==============================] - 0s 1ms/step - loss: 0.6953 - accuracy: 0.4500\n",
      "Epoch 89/100\n",
      "32/32 [==============================] - 0s 1ms/step - loss: 0.6954 - accuracy: 0.4740\n",
      "Epoch 90/100\n",
      "32/32 [==============================] - 0s 1ms/step - loss: 0.6946 - accuracy: 0.4830\n",
      "Epoch 91/100\n",
      "32/32 [==============================] - 0s 1ms/step - loss: 0.6954 - accuracy: 0.4850\n",
      "Epoch 92/100\n",
      "32/32 [==============================] - 0s 1ms/step - loss: 0.6945 - accuracy: 0.4970\n",
      "Epoch 93/100\n",
      "32/32 [==============================] - 0s 1ms/step - loss: 0.6947 - accuracy: 0.4800\n",
      "Epoch 94/100\n",
      "32/32 [==============================] - 0s 1ms/step - loss: 0.6955 - accuracy: 0.4860\n",
      "Epoch 95/100\n",
      "32/32 [==============================] - 0s 1ms/step - loss: 0.6947 - accuracy: 0.4730\n",
      "Epoch 96/100\n",
      "32/32 [==============================] - 0s 1ms/step - loss: 0.6954 - accuracy: 0.4810\n",
      "Epoch 97/100\n",
      "32/32 [==============================] - 0s 1ms/step - loss: 0.6950 - accuracy: 0.4650\n",
      "Epoch 98/100\n",
      "32/32 [==============================] - 0s 1ms/step - loss: 0.6950 - accuracy: 0.4670\n",
      "Epoch 99/100\n",
      "32/32 [==============================] - 0s 1ms/step - loss: 0.6954 - accuracy: 0.4950\n",
      "Epoch 100/100\n",
      "32/32 [==============================] - 0s 1ms/step - loss: 0.6949 - accuracy: 0.4800\n"
     ]
    }
   ],
   "source": [
    "# Set the random seed\n",
    "tf.random.set_seed(42)\n",
    "\n",
    "# 1. Create the model\n",
    "model_2 = tf.keras.models.Sequential([\n",
    "    tf.keras.layers.Dense(10),\n",
    "    tf.keras.layers.Dense(1)\n",
    "])\n",
    "\n",
    "# 2. Compile the model\n",
    "model_2.compile(loss=tf.keras.losses.BinaryCrossentropy(),\n",
    "               optimizer=tf.keras.optimizers.SGD(),\n",
    "               metrics=[\"accuracy\"])\n",
    "\n",
    "# 3. Fit the model\n",
    "history_2 = model_2.fit(X,y,epochs=100,verbose=1)"
   ]
  },
  {
   "cell_type": "markdown",
   "id": "9ec98072",
   "metadata": {},
   "source": [
    "The accuracy of model_2 is about the same as model_1 even with an extra layer."
   ]
  },
  {
   "cell_type": "code",
   "execution_count": 15,
   "id": "da796347",
   "metadata": {},
   "outputs": [
    {
     "data": {
      "image/png": "[encoded data removed]",
      "text/plain": [
       "<Figure size 432x288 with 1 Axes>"
      ]
     },
     "metadata": {
      "needs_background": "light"
     },
     "output_type": "display_data"
    }
   ],
   "source": [
    "# Plot history\n",
    "history_df2 = pd.DataFrame(history_2.history)\n",
    "history_df2.plot(kind=\"line\",y=\"loss\")\n",
    "plt.ylabel(\"Loss\")\n",
    "plt.xlabel(\"Epochs\");"
   ]
  },
  {
   "cell_type": "markdown",
   "id": "de50b0c6",
   "metadata": {},
   "source": [
    "We can also see from the above plot that the model is no more improving after its first epoch."
   ]
  },
  {
   "cell_type": "code",
   "execution_count": 16,
   "id": "8c3a3c7e",
   "metadata": {},
   "outputs": [
    {
     "data": {
      "image/png": "[encoded data removed]",
      "text/plain": [
       "<Figure size 432x288 with 1 Axes>"
      ]
     },
     "metadata": {
      "needs_background": "light"
     },
     "output_type": "display_data"
    }
   ],
   "source": [
    "history_df2.plot(kind=\"line\",y=\"accuracy\")\n",
    "plt.ylabel(\"Loss\")\n",
    "plt.xlabel(\"Epochs\");"
   ]
  },
  {
   "cell_type": "code",
   "execution_count": null,
   "id": "195698e8",
   "metadata": {},
   "outputs": [],
   "source": []
  },
  {
   "cell_type": "code",
   "execution_count": null,
   "id": "24a25609",
   "metadata": {},
   "outputs": [],
   "source": []
  },
  {
   "cell_type": "markdown",
   "id": "dfd0f140",
   "metadata": {},
   "source": [
    "## Improving a model"
   ]
  },
  {
   "cell_type": "code",
   "execution_count": null,
   "id": "d795775e",
   "metadata": {},
   "outputs": [],
   "source": []
  },
  {
   "cell_type": "code",
   "execution_count": 17,
   "id": "5730a482",
   "metadata": {},
   "outputs": [
    {
     "name": "stdout",
     "output_type": "stream",
     "text": [
      "Epoch 1/100\n",
      "32/32 [==============================] - 0s 1ms/step - loss: 2.6035 - accuracy: 0.4590\n",
      "Epoch 2/100\n",
      "32/32 [==============================] - 0s 1ms/step - loss: 0.7096 - accuracy: 0.4820\n",
      "Epoch 3/100\n",
      "32/32 [==============================] - 0s 2ms/step - loss: 0.6957 - accuracy: 0.4860\n",
      "Epoch 4/100\n",
      "32/32 [==============================] - 0s 2ms/step - loss: 0.6992 - accuracy: 0.5020\n",
      "Epoch 5/100\n",
      "32/32 [==============================] - 0s 2ms/step - loss: 0.6971 - accuracy: 0.4870\n",
      "Epoch 6/100\n",
      "32/32 [==============================] - 0s 2ms/step - loss: 0.6985 - accuracy: 0.4640\n",
      "Epoch 7/100\n",
      "32/32 [==============================] - 0s 2ms/step - loss: 0.6967 - accuracy: 0.5140\n",
      "Epoch 8/100\n",
      "32/32 [==============================] - 0s 2ms/step - loss: 0.6953 - accuracy: 0.5210\n",
      "Epoch 9/100\n",
      "32/32 [==============================] - 0s 2ms/step - loss: 0.7001 - accuracy: 0.4990\n",
      "Epoch 10/100\n",
      "32/32 [==============================] - 0s 2ms/step - loss: 0.6952 - accuracy: 0.4810\n",
      "Epoch 11/100\n",
      "32/32 [==============================] - 0s 2ms/step - loss: 0.7049 - accuracy: 0.4700\n",
      "Epoch 12/100\n",
      "32/32 [==============================] - 0s 2ms/step - loss: 0.6973 - accuracy: 0.4890\n",
      "Epoch 13/100\n",
      "32/32 [==============================] - 0s 2ms/step - loss: 0.6988 - accuracy: 0.4730\n",
      "Epoch 14/100\n",
      "32/32 [==============================] - 0s 3ms/step - loss: 0.6967 - accuracy: 0.4920\n",
      "Epoch 15/100\n",
      "32/32 [==============================] - 0s 2ms/step - loss: 0.6985 - accuracy: 0.4740\n",
      "Epoch 16/100\n",
      "32/32 [==============================] - 0s 2ms/step - loss: 0.6957 - accuracy: 0.4940\n",
      "Epoch 17/100\n",
      "32/32 [==============================] - 0s 2ms/step - loss: 0.7051 - accuracy: 0.4910\n",
      "Epoch 18/100\n",
      "32/32 [==============================] - 0s 2ms/step - loss: 0.6969 - accuracy: 0.4850\n",
      "Epoch 19/100\n",
      "32/32 [==============================] - 0s 2ms/step - loss: 0.6987 - accuracy: 0.5250\n",
      "Epoch 20/100\n",
      "32/32 [==============================] - 0s 2ms/step - loss: 0.6996 - accuracy: 0.4940\n",
      "Epoch 21/100\n",
      "32/32 [==============================] - 0s 2ms/step - loss: 0.6986 - accuracy: 0.5060\n",
      "Epoch 22/100\n",
      "32/32 [==============================] - 0s 2ms/step - loss: 0.6981 - accuracy: 0.4810\n",
      "Epoch 23/100\n",
      "32/32 [==============================] - 0s 2ms/step - loss: 0.6962 - accuracy: 0.5170\n",
      "Epoch 24/100\n",
      "32/32 [==============================] - 0s 2ms/step - loss: 0.6988 - accuracy: 0.4850\n",
      "Epoch 25/100\n",
      "32/32 [==============================] - 0s 2ms/step - loss: 0.7023 - accuracy: 0.4990\n",
      "Epoch 26/100\n",
      "32/32 [==============================] - 0s 2ms/step - loss: 0.6985 - accuracy: 0.4880\n",
      "Epoch 27/100\n",
      "32/32 [==============================] - 0s 2ms/step - loss: 0.6992 - accuracy: 0.5220\n",
      "Epoch 28/100\n",
      "32/32 [==============================] - 0s 2ms/step - loss: 0.6993 - accuracy: 0.4800\n",
      "Epoch 29/100\n",
      "32/32 [==============================] - 0s 2ms/step - loss: 0.6998 - accuracy: 0.5010\n",
      "Epoch 30/100\n",
      "32/32 [==============================] - 0s 2ms/step - loss: 0.7119 - accuracy: 0.4820\n",
      "Epoch 31/100\n",
      "32/32 [==============================] - 0s 2ms/step - loss: 0.6944 - accuracy: 0.5440\n",
      "Epoch 32/100\n",
      "32/32 [==============================] - 0s 2ms/step - loss: 0.6983 - accuracy: 0.4660\n",
      "Epoch 33/100\n",
      "32/32 [==============================] - 0s 2ms/step - loss: 0.6990 - accuracy: 0.4730\n",
      "Epoch 34/100\n",
      "32/32 [==============================] - 0s 2ms/step - loss: 0.7023 - accuracy: 0.4850\n",
      "Epoch 35/100\n",
      "32/32 [==============================] - 0s 1ms/step - loss: 0.6983 - accuracy: 0.4990\n",
      "Epoch 36/100\n",
      "32/32 [==============================] - 0s 1ms/step - loss: 0.6959 - accuracy: 0.5000\n",
      "Epoch 37/100\n",
      "32/32 [==============================] - 0s 2ms/step - loss: 0.6977 - accuracy: 0.4760\n",
      "Epoch 38/100\n",
      "32/32 [==============================] - 0s 2ms/step - loss: 0.6992 - accuracy: 0.5070\n",
      "Epoch 39/100\n",
      "32/32 [==============================] - 0s 2ms/step - loss: 0.7016 - accuracy: 0.4590\n",
      "Epoch 40/100\n",
      "32/32 [==============================] - 0s 2ms/step - loss: 0.6979 - accuracy: 0.5050\n",
      "Epoch 41/100\n",
      "32/32 [==============================] - 0s 3ms/step - loss: 0.6986 - accuracy: 0.5240\n",
      "Epoch 42/100\n",
      "32/32 [==============================] - 0s 2ms/step - loss: 0.7037 - accuracy: 0.4850\n",
      "Epoch 43/100\n",
      "32/32 [==============================] - 0s 2ms/step - loss: 0.6970 - accuracy: 0.5190\n",
      "Epoch 44/100\n",
      "32/32 [==============================] - 0s 2ms/step - loss: 0.6984 - accuracy: 0.4870\n",
      "Epoch 45/100\n",
      "32/32 [==============================] - 0s 2ms/step - loss: 0.7037 - accuracy: 0.4940\n",
      "Epoch 46/100\n",
      "32/32 [==============================] - 0s 2ms/step - loss: 0.6957 - accuracy: 0.4670\n",
      "Epoch 47/100\n",
      "32/32 [==============================] - 0s 2ms/step - loss: 0.6984 - accuracy: 0.5010\n",
      "Epoch 48/100\n",
      "32/32 [==============================] - 0s 2ms/step - loss: 0.7000 - accuracy: 0.5040\n",
      "Epoch 49/100\n",
      "32/32 [==============================] - 0s 2ms/step - loss: 0.6989 - accuracy: 0.4750\n",
      "Epoch 50/100\n",
      "32/32 [==============================] - 0s 1ms/step - loss: 0.7009 - accuracy: 0.4680\n",
      "Epoch 51/100\n",
      "32/32 [==============================] - 0s 2ms/step - loss: 0.7027 - accuracy: 0.4880\n",
      "Epoch 52/100\n",
      "32/32 [==============================] - 0s 2ms/step - loss: 0.6974 - accuracy: 0.4940\n",
      "Epoch 53/100\n",
      "32/32 [==============================] - 0s 2ms/step - loss: 0.6972 - accuracy: 0.4800\n",
      "Epoch 54/100\n",
      "32/32 [==============================] - 0s 2ms/step - loss: 0.7026 - accuracy: 0.4970\n",
      "Epoch 55/100\n",
      "32/32 [==============================] - 0s 3ms/step - loss: 0.6972 - accuracy: 0.5180\n",
      "Epoch 56/100\n",
      "32/32 [==============================] - 0s 3ms/step - loss: 0.6975 - accuracy: 0.5050\n",
      "Epoch 57/100\n",
      "32/32 [==============================] - 0s 2ms/step - loss: 0.6994 - accuracy: 0.4760\n",
      "Epoch 58/100\n",
      "32/32 [==============================] - 0s 2ms/step - loss: 0.6992 - accuracy: 0.4840\n",
      "Epoch 59/100\n",
      "32/32 [==============================] - 0s 2ms/step - loss: 0.7032 - accuracy: 0.4910\n",
      "Epoch 60/100\n",
      "32/32 [==============================] - 0s 2ms/step - loss: 0.7037 - accuracy: 0.4870\n",
      "Epoch 61/100\n",
      "32/32 [==============================] - 0s 2ms/step - loss: 0.7018 - accuracy: 0.4720\n",
      "Epoch 62/100\n",
      "32/32 [==============================] - 0s 2ms/step - loss: 0.6967 - accuracy: 0.4940\n",
      "Epoch 63/100\n",
      "32/32 [==============================] - 0s 2ms/step - loss: 0.6950 - accuracy: 0.4700\n",
      "Epoch 64/100\n",
      "32/32 [==============================] - 0s 2ms/step - loss: 0.6958 - accuracy: 0.4950\n",
      "Epoch 65/100\n",
      "32/32 [==============================] - 0s 2ms/step - loss: 0.7015 - accuracy: 0.4840\n",
      "Epoch 66/100\n",
      "32/32 [==============================] - 0s 2ms/step - loss: 0.6977 - accuracy: 0.4950\n",
      "Epoch 67/100\n",
      "32/32 [==============================] - 0s 3ms/step - loss: 0.6990 - accuracy: 0.4520\n",
      "Epoch 68/100\n",
      "32/32 [==============================] - 0s 3ms/step - loss: 0.6958 - accuracy: 0.5010\n",
      "Epoch 69/100\n",
      "32/32 [==============================] - 0s 2ms/step - loss: 0.6968 - accuracy: 0.5180\n",
      "Epoch 70/100\n",
      "32/32 [==============================] - 0s 2ms/step - loss: 0.6996 - accuracy: 0.4900\n",
      "Epoch 71/100\n",
      "32/32 [==============================] - 0s 2ms/step - loss: 0.6996 - accuracy: 0.4510\n",
      "Epoch 72/100\n",
      "32/32 [==============================] - 0s 2ms/step - loss: 0.6978 - accuracy: 0.5010\n",
      "Epoch 73/100\n",
      "32/32 [==============================] - 0s 2ms/step - loss: 0.6967 - accuracy: 0.5040\n",
      "Epoch 74/100\n",
      "32/32 [==============================] - 0s 2ms/step - loss: 0.6967 - accuracy: 0.5110\n",
      "Epoch 75/100\n",
      "32/32 [==============================] - 0s 2ms/step - loss: 0.6968 - accuracy: 0.5160\n",
      "Epoch 76/100\n",
      "32/32 [==============================] - 0s 2ms/step - loss: 0.6979 - accuracy: 0.4860\n",
      "Epoch 77/100\n",
      "32/32 [==============================] - 0s 2ms/step - loss: 0.6977 - accuracy: 0.5020\n",
      "Epoch 78/100\n",
      "32/32 [==============================] - 0s 2ms/step - loss: 0.6977 - accuracy: 0.4760\n",
      "Epoch 79/100\n",
      "32/32 [==============================] - 0s 2ms/step - loss: 0.7019 - accuracy: 0.5020\n",
      "Epoch 80/100\n",
      "32/32 [==============================] - 0s 2ms/step - loss: 0.7001 - accuracy: 0.4900\n",
      "Epoch 81/100\n",
      "32/32 [==============================] - 0s 3ms/step - loss: 0.6987 - accuracy: 0.4970\n",
      "Epoch 82/100\n",
      "32/32 [==============================] - 0s 2ms/step - loss: 0.6974 - accuracy: 0.4920\n",
      "Epoch 83/100\n"
     ]
    },
    {
     "name": "stdout",
     "output_type": "stream",
     "text": [
      "32/32 [==============================] - 0s 2ms/step - loss: 0.7009 - accuracy: 0.4470\n",
      "Epoch 84/100\n",
      "32/32 [==============================] - 0s 2ms/step - loss: 0.6969 - accuracy: 0.5060\n",
      "Epoch 85/100\n",
      "32/32 [==============================] - 0s 2ms/step - loss: 0.6968 - accuracy: 0.4720\n",
      "Epoch 86/100\n",
      "32/32 [==============================] - 0s 2ms/step - loss: 0.7010 - accuracy: 0.4850\n",
      "Epoch 87/100\n",
      "32/32 [==============================] - 0s 2ms/step - loss: 0.6981 - accuracy: 0.4780\n",
      "Epoch 88/100\n",
      "32/32 [==============================] - 0s 2ms/step - loss: 0.6984 - accuracy: 0.4550\n",
      "Epoch 89/100\n",
      "32/32 [==============================] - 0s 1ms/step - loss: 0.6977 - accuracy: 0.4810\n",
      "Epoch 90/100\n",
      "32/32 [==============================] - 0s 2ms/step - loss: 0.6984 - accuracy: 0.4860\n",
      "Epoch 91/100\n",
      "32/32 [==============================] - 0s 1ms/step - loss: 0.6999 - accuracy: 0.5040\n",
      "Epoch 92/100\n",
      "32/32 [==============================] - 0s 1ms/step - loss: 0.6991 - accuracy: 0.4830\n",
      "Epoch 93/100\n",
      "32/32 [==============================] - 0s 2ms/step - loss: 0.6982 - accuracy: 0.4760\n",
      "Epoch 94/100\n",
      "32/32 [==============================] - 0s 2ms/step - loss: 0.7008 - accuracy: 0.4880\n",
      "Epoch 95/100\n",
      "32/32 [==============================] - 0s 2ms/step - loss: 0.6976 - accuracy: 0.4630\n",
      "Epoch 96/100\n",
      "32/32 [==============================] - 0s 2ms/step - loss: 0.6983 - accuracy: 0.4800\n",
      "Epoch 97/100\n",
      "32/32 [==============================] - 0s 2ms/step - loss: 0.6976 - accuracy: 0.4530\n",
      "Epoch 98/100\n",
      "32/32 [==============================] - 0s 2ms/step - loss: 0.6996 - accuracy: 0.4990\n",
      "Epoch 99/100\n",
      "32/32 [==============================] - 0s 2ms/step - loss: 0.6978 - accuracy: 0.5100\n",
      "Epoch 100/100\n",
      "32/32 [==============================] - 0s 2ms/step - loss: 0.6963 - accuracy: 0.4950\n"
     ]
    }
   ],
   "source": [
    "# Set random seed\n",
    "tf.random.set_seed(42)\n",
    "\n",
    "# 1. Creating a model\n",
    "model_3 = tf.keras.models.Sequential([\n",
    "    tf.keras.layers.Dense(100),\n",
    "    tf.keras.layers.Dense(10),\n",
    "    tf.keras.layers.Dense(1)\n",
    "])\n",
    "\n",
    "# 2. Improving the model\n",
    "model_3.compile(loss=tf.keras.losses.BinaryCrossentropy(),\n",
    "                optimizer=tf.keras.optimizers.Adam(),\n",
    "               metrics=[\"accuracy\"])\n",
    "\n",
    "# 3. Fit the model\n",
    "history_3 = model_3.fit(X,y,epochs=100,verbose=1)"
   ]
  },
  {
   "cell_type": "markdown",
   "id": "cacd317b",
   "metadata": {},
   "source": [
    "The accuracy, 0.4970 (49.7%), is still about the same as that of the old models."
   ]
  },
  {
   "cell_type": "code",
   "execution_count": 18,
   "id": "61fc330e",
   "metadata": {},
   "outputs": [
    {
     "data": {
      "image/png": "[encoded data removed]",
      "text/plain": [
       "<Figure size 432x288 with 1 Axes>"
      ]
     },
     "metadata": {
      "needs_background": "light"
     },
     "output_type": "display_data"
    }
   ],
   "source": [
    "# Plot history\n",
    "history_df3 = pd.DataFrame(history_3.history)\n",
    "history_df3.plot(kind=\"line\",y=\"loss\")\n",
    "plt.ylabel(\"Loss\")\n",
    "plt.xlabel(\"Epochs\");"
   ]
  },
  {
   "cell_type": "markdown",
   "id": "f094ea05",
   "metadata": {},
   "source": [
    "Looking at the loss evolution over the epochs, the model is not learning anything from the data after its first epoch."
   ]
  },
  {
   "cell_type": "markdown",
   "id": "a62c812d",
   "metadata": {},
   "source": [
    "Recalling our ML practioner motto: `visualize, visualize, visualize`. It is good idea to visualize the following as much as possible (specially whenever the model is not performing as wanted):\n",
    "* the data: to know what is look like\n",
    "* the model: to know its layers and its differents components\n",
    "* the training: observing the loss in a plot\n",
    "* the predictions"
   ]
  },
  {
   "cell_type": "markdown",
   "id": "97d80fa3",
   "metadata": {},
   "source": [
    "We will visualize our model predictions against the label. "
   ]
  },
  {
   "cell_type": "code",
   "execution_count": 19,
   "id": "58b75e03",
   "metadata": {},
   "outputs": [],
   "source": [
    "def plot_decision_boundary(model, X, y)->None:\n",
    "    \"\"\"\n",
    "        Plots the decision boundary craeted by a model predicting on X\n",
    "    \n",
    "        Params:\n",
    "            - trained model\n",
    "            - features (X)\n",
    "            - label (y)\n",
    "            \n",
    "        Do:\n",
    "            - Create a meshgrid of the different X values\n",
    "            - Make predictions acorss the meshgrid\n",
    "            - Plot the prediction as well as a line between the different zones (where each unique class falls)\n",
    "            \n",
    "            \n",
    "        numpy meshgrid: https://numpy.org/doc/stable/reference/generated/numpy.meshgrid.html\n",
    "        \n",
    "        Inspired by:\n",
    "            - https://cs231n.github.io/neural-networks-case-study/\n",
    "    \"\"\"\n",
    "    \n",
    "    # Define the axis boundaries of the plot and create a meshgrid\n",
    "    x_min = X[:,0].min() - .1  # -0.1 was done to give oursleves a little bit of margin in the future plot\n",
    "    x_max = X[:,0].max() + .1\n",
    "    y_min = X[:,1].min() - .1\n",
    "    y_max = X[:,1].max() + .1\n",
    "    \n",
    "    # Create the meshgrid\n",
    "    xx, yy = np.meshgrid( np.linspace(x_min,x_max,100),\n",
    "                          np.linspace(y_min,y_max,100))\n",
    "    \n",
    "    # Create new X values (predictions will be make on these)\n",
    "    x_in = np.c_[xx.ravel(), yy.ravel()] # stack 2D arrays together\n",
    "    \n",
    "    # Make predictions\n",
    "    y_pred = model.predict(x_in)\n",
    "    \n",
    "    # Check for multi-class or binary-class classification\n",
    "    if len(y_pred[0])>1:\n",
    "        print(\"Doing multi-class classification\")\n",
    "        # Reshape our prediction to get them ready for plotting\n",
    "        y_pred = np.argmax(y_pred, axis=1).reshape(xx.shape)\n",
    "    else:\n",
    "        print(\"Doing binary classification\")\n",
    "        y_pred = np.round(y_pred).reshape(xx.shape)\n",
    "        \n",
    "    # Plot the decision boundary\n",
    "    plt.contourf(xx, yy, y_pred, cmap=plt.cm.RdYlBu, alpha=.7)\n",
    "    plt.scatter(X[:,0], X[:,1], c=y, s=40, cmap=plt.cm.RdYlBu)\n",
    "    \n",
    "    plt.xlim(xx.min(), xx.max())\n",
    "    plt.ylim(yy.min(), yy.max())"
   ]
  },
  {
   "cell_type": "code",
   "execution_count": 20,
   "id": "af8d58d0",
   "metadata": {},
   "outputs": [
    {
     "name": "stdout",
     "output_type": "stream",
     "text": [
      "313/313 [==============================] - 0s 1ms/step\n",
      "Doing binary classification\n"
     ]
    },
    {
     "data": {
      "image/png": "[encoded data removed]",
      "text/plain": [
       "<Figure size 432x288 with 1 Axes>"
      ]
     },
     "metadata": {
      "needs_background": "light"
     },
     "output_type": "display_data"
    }
   ],
   "source": [
    "# Check out the predictons our model is making\n",
    "plot_decision_boundary(model=model_3, X=X, y=y)"
   ]
  },
  {
   "cell_type": "markdown",
   "id": "3723cd02",
   "metadata": {},
   "source": [
    "The above plot explains why the model is performing poorly: it looks like it's trying to draw straight line as a decision boundary to separate the data (the white line separating the red zone of the rectangle from the blue zone of the rectangle).      \n",
    "\n",
    "The issue here is that we have got a circular data (the red and blue points for two circles), so they are not separable by a straight line. If we were working on a regression problem, our current model might actually work, but for our current problem the model is inappropriate."
   ]
  },
  {
   "cell_type": "code",
   "execution_count": null,
   "id": "9853c6b9",
   "metadata": {},
   "outputs": [],
   "source": []
  },
  {
   "cell_type": "markdown",
   "id": "943f829c",
   "metadata": {},
   "source": [
    "## Non-linearity in a model"
   ]
  },
  {
   "cell_type": "markdown",
   "id": "2f38aaf3",
   "metadata": {},
   "source": [
    "Let's try to use a model based on a linear activation function to make predictions."
   ]
  },
  {
   "cell_type": "code",
   "execution_count": 21,
   "id": "b81d6ef6",
   "metadata": {},
   "outputs": [
    {
     "name": "stdout",
     "output_type": "stream",
     "text": [
      "Epoch 1/100\n"
     ]
    },
    {
     "name": "stderr",
     "output_type": "stream",
     "text": [
      "C:\\ProgramData\\Anaconda3\\lib\\site-packages\\keras\\optimizers\\optimizer_v2\\adam.py:114: UserWarning: The `lr` argument is deprecated, use `learning_rate` instead.\n",
      "  super().__init__(name, **kwargs)\n"
     ]
    },
    {
     "name": "stdout",
     "output_type": "stream",
     "text": [
      "32/32 [==============================] - 0s 1ms/step - loss: 4.3183 - accuracy: 0.4190\n",
      "Epoch 2/100\n",
      "32/32 [==============================] - 0s 1ms/step - loss: 4.2734 - accuracy: 0.4270\n",
      "Epoch 3/100\n",
      "32/32 [==============================] - 0s 1ms/step - loss: 4.2589 - accuracy: 0.4310\n",
      "Epoch 4/100\n",
      "32/32 [==============================] - 0s 1ms/step - loss: 4.2544 - accuracy: 0.4320\n",
      "Epoch 5/100\n",
      "32/32 [==============================] - 0s 1ms/step - loss: 4.2523 - accuracy: 0.4350\n",
      "Epoch 6/100\n",
      "32/32 [==============================] - 0s 2ms/step - loss: 4.2416 - accuracy: 0.4340\n",
      "Epoch 7/100\n",
      "32/32 [==============================] - 0s 2ms/step - loss: 4.2353 - accuracy: 0.4350\n",
      "Epoch 8/100\n",
      "32/32 [==============================] - 0s 2ms/step - loss: 4.2254 - accuracy: 0.4380\n",
      "Epoch 9/100\n",
      "32/32 [==============================] - 0s 2ms/step - loss: 4.1752 - accuracy: 0.4450\n",
      "Epoch 10/100\n",
      "32/32 [==============================] - 0s 1ms/step - loss: 4.0856 - accuracy: 0.4530\n",
      "Epoch 11/100\n",
      "32/32 [==============================] - 0s 1ms/step - loss: 4.0779 - accuracy: 0.4560\n",
      "Epoch 12/100\n",
      "32/32 [==============================] - 0s 2ms/step - loss: 4.0768 - accuracy: 0.4560\n",
      "Epoch 13/100\n",
      "32/32 [==============================] - 0s 3ms/step - loss: 4.0758 - accuracy: 0.4550\n",
      "Epoch 14/100\n",
      "32/32 [==============================] - 0s 2ms/step - loss: 4.0749 - accuracy: 0.4550\n",
      "Epoch 15/100\n",
      "32/32 [==============================] - 0s 2ms/step - loss: 4.0662 - accuracy: 0.4540\n",
      "Epoch 16/100\n",
      "32/32 [==============================] - 0s 2ms/step - loss: 4.0630 - accuracy: 0.4530\n",
      "Epoch 17/100\n",
      "32/32 [==============================] - 0s 2ms/step - loss: 4.0612 - accuracy: 0.4540\n",
      "Epoch 18/100\n",
      "32/32 [==============================] - 0s 2ms/step - loss: 4.0601 - accuracy: 0.4560\n",
      "Epoch 19/100\n",
      "32/32 [==============================] - 0s 2ms/step - loss: 4.0591 - accuracy: 0.4560\n",
      "Epoch 20/100\n",
      "32/32 [==============================] - 0s 2ms/step - loss: 4.0492 - accuracy: 0.4560\n",
      "Epoch 21/100\n",
      "32/32 [==============================] - 0s 2ms/step - loss: 4.0126 - accuracy: 0.4570\n",
      "Epoch 22/100\n",
      "32/32 [==============================] - 0s 2ms/step - loss: 3.9968 - accuracy: 0.4560\n",
      "Epoch 23/100\n",
      "32/32 [==============================] - 0s 2ms/step - loss: 3.9859 - accuracy: 0.4570\n",
      "Epoch 24/100\n",
      "32/32 [==============================] - 0s 2ms/step - loss: 3.9734 - accuracy: 0.4560\n",
      "Epoch 25/100\n",
      "32/32 [==============================] - 0s 2ms/step - loss: 3.9701 - accuracy: 0.4570\n",
      "Epoch 26/100\n",
      "32/32 [==============================] - 0s 2ms/step - loss: 3.9679 - accuracy: 0.4570\n",
      "Epoch 27/100\n",
      "32/32 [==============================] - 0s 2ms/step - loss: 3.9663 - accuracy: 0.4580\n",
      "Epoch 28/100\n",
      "32/32 [==============================] - 0s 2ms/step - loss: 3.9648 - accuracy: 0.4580\n",
      "Epoch 29/100\n",
      "32/32 [==============================] - 0s 2ms/step - loss: 3.9635 - accuracy: 0.4600\n",
      "Epoch 30/100\n",
      "32/32 [==============================] - 0s 2ms/step - loss: 3.9623 - accuracy: 0.4600\n",
      "Epoch 31/100\n",
      "32/32 [==============================] - 0s 2ms/step - loss: 3.9611 - accuracy: 0.4600\n",
      "Epoch 32/100\n",
      "32/32 [==============================] - 0s 2ms/step - loss: 3.9601 - accuracy: 0.4600\n",
      "Epoch 33/100\n",
      "32/32 [==============================] - 0s 2ms/step - loss: 3.9287 - accuracy: 0.4600\n",
      "Epoch 34/100\n",
      "32/32 [==============================] - 0s 2ms/step - loss: 3.8375 - accuracy: 0.4690\n",
      "Epoch 35/100\n",
      "32/32 [==============================] - 0s 2ms/step - loss: 3.8053 - accuracy: 0.4680\n",
      "Epoch 36/100\n",
      "32/32 [==============================] - 0s 2ms/step - loss: 3.7961 - accuracy: 0.4690\n",
      "Epoch 37/100\n",
      "32/32 [==============================] - 0s 2ms/step - loss: 3.7858 - accuracy: 0.4690\n",
      "Epoch 38/100\n",
      "32/32 [==============================] - 0s 2ms/step - loss: 3.7698 - accuracy: 0.4690\n",
      "Epoch 39/100\n",
      "32/32 [==============================] - 0s 2ms/step - loss: 3.7677 - accuracy: 0.4680\n",
      "Epoch 40/100\n",
      "32/32 [==============================] - 0s 2ms/step - loss: 3.7664 - accuracy: 0.4670\n",
      "Epoch 41/100\n",
      "32/32 [==============================] - 0s 1ms/step - loss: 3.7561 - accuracy: 0.4670\n",
      "Epoch 42/100\n",
      "32/32 [==============================] - 0s 2ms/step - loss: 3.7538 - accuracy: 0.4670\n",
      "Epoch 43/100\n",
      "32/32 [==============================] - 0s 2ms/step - loss: 3.7447 - accuracy: 0.4670\n",
      "Epoch 44/100\n",
      "32/32 [==============================] - 0s 2ms/step - loss: 3.7402 - accuracy: 0.4680\n",
      "Epoch 45/100\n",
      "32/32 [==============================] - 0s 2ms/step - loss: 3.7213 - accuracy: 0.4680\n",
      "Epoch 46/100\n",
      "32/32 [==============================] - 0s 2ms/step - loss: 3.6622 - accuracy: 0.4680\n",
      "Epoch 47/100\n",
      "32/32 [==============================] - 0s 1ms/step - loss: 3.6595 - accuracy: 0.4690\n",
      "Epoch 48/100\n",
      "32/32 [==============================] - 0s 2ms/step - loss: 3.6583 - accuracy: 0.4690\n",
      "Epoch 49/100\n",
      "32/32 [==============================] - 0s 2ms/step - loss: 3.6573 - accuracy: 0.4690\n",
      "Epoch 50/100\n",
      "32/32 [==============================] - 0s 2ms/step - loss: 3.6564 - accuracy: 0.4690\n",
      "Epoch 51/100\n",
      "32/32 [==============================] - 0s 2ms/step - loss: 3.6342 - accuracy: 0.4710\n",
      "Epoch 52/100\n",
      "32/32 [==============================] - 0s 1ms/step - loss: 3.5887 - accuracy: 0.4710\n",
      "Epoch 53/100\n",
      "32/32 [==============================] - 0s 1ms/step - loss: 3.5795 - accuracy: 0.4710\n",
      "Epoch 54/100\n",
      "32/32 [==============================] - 0s 1ms/step - loss: 3.5768 - accuracy: 0.4710\n",
      "Epoch 55/100\n",
      "32/32 [==============================] - 0s 1ms/step - loss: 3.5751 - accuracy: 0.4690\n",
      "Epoch 56/100\n",
      "32/32 [==============================] - 0s 1ms/step - loss: 3.5739 - accuracy: 0.4700\n",
      "Epoch 57/100\n",
      "32/32 [==============================] - 0s 2ms/step - loss: 3.5730 - accuracy: 0.4700\n",
      "Epoch 58/100\n",
      "32/32 [==============================] - 0s 1ms/step - loss: 3.5720 - accuracy: 0.4690\n",
      "Epoch 59/100\n",
      "32/32 [==============================] - 0s 2ms/step - loss: 3.5627 - accuracy: 0.4690\n",
      "Epoch 60/100\n",
      "32/32 [==============================] - 0s 2ms/step - loss: 3.5589 - accuracy: 0.4690\n",
      "Epoch 61/100\n",
      "32/32 [==============================] - 0s 2ms/step - loss: 3.5578 - accuracy: 0.4690\n",
      "Epoch 62/100\n",
      "32/32 [==============================] - 0s 1ms/step - loss: 3.5568 - accuracy: 0.4690\n",
      "Epoch 63/100\n",
      "32/32 [==============================] - 0s 1ms/step - loss: 3.5558 - accuracy: 0.4690\n",
      "Epoch 64/100\n",
      "32/32 [==============================] - 0s 1ms/step - loss: 3.5548 - accuracy: 0.4690\n",
      "Epoch 65/100\n",
      "32/32 [==============================] - 0s 1ms/step - loss: 3.5540 - accuracy: 0.4690\n",
      "Epoch 66/100\n",
      "32/32 [==============================] - 0s 1ms/step - loss: 3.5531 - accuracy: 0.4690\n",
      "Epoch 67/100\n",
      "32/32 [==============================] - 0s 1ms/step - loss: 3.5523 - accuracy: 0.4690\n",
      "Epoch 68/100\n",
      "32/32 [==============================] - 0s 2ms/step - loss: 3.5435 - accuracy: 0.4690\n",
      "Epoch 69/100\n",
      "32/32 [==============================] - 0s 2ms/step - loss: 3.5313 - accuracy: 0.4690\n",
      "Epoch 70/100\n",
      "32/32 [==============================] - 0s 1ms/step - loss: 3.5287 - accuracy: 0.4700\n",
      "Epoch 71/100\n",
      "32/32 [==============================] - 0s 2ms/step - loss: 3.5190 - accuracy: 0.4690\n",
      "Epoch 72/100\n",
      "32/32 [==============================] - 0s 1ms/step - loss: 3.5154 - accuracy: 0.4680\n",
      "Epoch 73/100\n",
      "32/32 [==============================] - 0s 1ms/step - loss: 3.5133 - accuracy: 0.4680\n",
      "Epoch 74/100\n",
      "32/32 [==============================] - 0s 2ms/step - loss: 3.5120 - accuracy: 0.4680\n",
      "Epoch 75/100\n",
      "32/32 [==============================] - 0s 1ms/step - loss: 3.5108 - accuracy: 0.4680\n",
      "Epoch 76/100\n",
      "32/32 [==============================] - 0s 1ms/step - loss: 3.5097 - accuracy: 0.4680\n",
      "Epoch 77/100\n",
      "32/32 [==============================] - 0s 2ms/step - loss: 3.5087 - accuracy: 0.4680\n",
      "Epoch 78/100\n",
      "32/32 [==============================] - 0s 1ms/step - loss: 3.4992 - accuracy: 0.4680\n",
      "Epoch 79/100\n",
      "32/32 [==============================] - 0s 1ms/step - loss: 3.4961 - accuracy: 0.4670\n",
      "Epoch 80/100\n",
      "32/32 [==============================] - 0s 2ms/step - loss: 3.4947 - accuracy: 0.4670\n",
      "Epoch 81/100\n",
      "32/32 [==============================] - 0s 2ms/step - loss: 3.4850 - accuracy: 0.4670\n",
      "Epoch 82/100\n",
      "32/32 [==============================] - 0s 2ms/step - loss: 3.4737 - accuracy: 0.4680\n",
      "Epoch 83/100\n"
     ]
    },
    {
     "name": "stdout",
     "output_type": "stream",
     "text": [
      "32/32 [==============================] - 0s 2ms/step - loss: 3.4410 - accuracy: 0.4670\n",
      "Epoch 84/100\n",
      "32/32 [==============================] - 0s 2ms/step - loss: 3.4174 - accuracy: 0.4670\n",
      "Epoch 85/100\n",
      "32/32 [==============================] - 0s 1ms/step - loss: 3.4086 - accuracy: 0.4680\n",
      "Epoch 86/100\n",
      "32/32 [==============================] - 0s 1ms/step - loss: 3.3972 - accuracy: 0.4680\n",
      "Epoch 87/100\n",
      "32/32 [==============================] - 0s 1ms/step - loss: 3.3522 - accuracy: 0.4670\n",
      "Epoch 88/100\n",
      "32/32 [==============================] - 0s 1ms/step - loss: 3.3037 - accuracy: 0.4660\n",
      "Epoch 89/100\n",
      "32/32 [==============================] - 0s 1ms/step - loss: 3.2687 - accuracy: 0.4680\n",
      "Epoch 90/100\n",
      "32/32 [==============================] - 0s 1ms/step - loss: 3.2638 - accuracy: 0.4680\n",
      "Epoch 91/100\n",
      "32/32 [==============================] - 0s 1ms/step - loss: 3.2420 - accuracy: 0.4670\n",
      "Epoch 92/100\n",
      "32/32 [==============================] - 0s 1ms/step - loss: 3.2346 - accuracy: 0.4670\n",
      "Epoch 93/100\n",
      "32/32 [==============================] - 0s 1ms/step - loss: 3.2296 - accuracy: 0.4680\n",
      "Epoch 94/100\n",
      "32/32 [==============================] - 0s 2ms/step - loss: 3.2085 - accuracy: 0.4680\n",
      "Epoch 95/100\n",
      "32/32 [==============================] - 0s 1ms/step - loss: 3.1909 - accuracy: 0.4680\n",
      "Epoch 96/100\n",
      "32/32 [==============================] - 0s 1ms/step - loss: 3.1550 - accuracy: 0.4680\n",
      "Epoch 97/100\n",
      "32/32 [==============================] - 0s 2ms/step - loss: 3.1385 - accuracy: 0.4680\n",
      "Epoch 98/100\n",
      "32/32 [==============================] - 0s 2ms/step - loss: 3.1321 - accuracy: 0.4680\n",
      "Epoch 99/100\n",
      "32/32 [==============================] - 0s 2ms/step - loss: 3.1108 - accuracy: 0.4680\n",
      "Epoch 100/100\n",
      "32/32 [==============================] - 0s 2ms/step - loss: 3.0166 - accuracy: 0.4660\n"
     ]
    }
   ],
   "source": [
    "# Set seed\n",
    "tf.random.set_seed(42)\n",
    "\n",
    "# 1. Create the model\n",
    "model_4 = tf.keras.models.Sequential([\n",
    "    tf.keras.layers.Dense(1, activation=tf.keras.activations.linear)\n",
    "])\n",
    "\n",
    "# 2. Compile the model\n",
    "model_4.compile(loss=tf.keras.losses.BinaryCrossentropy(),\n",
    "                optimizer=tf.keras.optimizers.Adam(lr=.001),\n",
    "               metrics=[\"accuracy\"])\n",
    "\n",
    "# 3. Fit the model\n",
    "history_4 = model_4.fit(X,y,epochs=100,verbose=1)"
   ]
  },
  {
   "cell_type": "markdown",
   "id": "e522eb3d",
   "metadata": {},
   "source": [
    "The accuracy is 0.4740 (47.4%), the model is still performing poorly."
   ]
  },
  {
   "cell_type": "markdown",
   "id": "f52c816f",
   "metadata": {},
   "source": [
    "Let's remind ourselves of what our data looks like, because whenever our model predictions are not working very well, we can evaluate our model by looking at the evaluation metrics or we can adhere to our ML practionner motto: visualize."
   ]
  },
  {
   "cell_type": "code",
   "execution_count": 22,
   "id": "e775f523",
   "metadata": {},
   "outputs": [
    {
     "data": {
      "image/png": "[encoded data removed]",
      "text/plain": [
       "<Figure size 432x288 with 1 Axes>"
      ]
     },
     "metadata": {
      "needs_background": "light"
     },
     "output_type": "display_data"
    }
   ],
   "source": [
    "# Reminding ourselve of what our data looks like\n",
    "plt.scatter(X[:,0], X[:,1], c=y, cmap=plt.cm.RdYlBu);"
   ]
  },
  {
   "cell_type": "code",
   "execution_count": 23,
   "id": "80451585",
   "metadata": {},
   "outputs": [
    {
     "name": "stdout",
     "output_type": "stream",
     "text": [
      "313/313 [==============================] - 0s 1ms/step\n",
      "Doing binary classification\n"
     ]
    },
    {
     "data": {
      "image/png": "[encoded data removed]",
      "text/plain": [
       "<Figure size 432x288 with 1 Axes>"
      ]
     },
     "metadata": {
      "needs_background": "light"
     },
     "output_type": "display_data"
    }
   ],
   "source": [
    "# Check the decision boundary for our latest model\n",
    "plot_decision_boundary(model=model_4,X=X, y=y)"
   ]
  },
  {
   "cell_type": "markdown",
   "id": "0c859679",
   "metadata": {},
   "source": [
    "* Everything in the yellow zone could be blue or red point (which is why the model is performing so poorly)\n",
    "* Everything in the red zone is classified as red point\n",
    "* Everything in the blue zone is classified as blue point"
   ]
  },
  {
   "cell_type": "code",
   "execution_count": null,
   "id": "d6b5aa15",
   "metadata": {},
   "outputs": [],
   "source": []
  },
  {
   "cell_type": "markdown",
   "id": "f9f68a16",
   "metadata": {},
   "source": [
    "Let's try to build a neural network with a non-linear activation function."
   ]
  },
  {
   "cell_type": "code",
   "execution_count": 24,
   "id": "0e0c6d46",
   "metadata": {},
   "outputs": [
    {
     "name": "stdout",
     "output_type": "stream",
     "text": [
      "Epoch 1/100\n",
      "32/32 [==============================] - 0s 1ms/step - loss: 6.0286 - accuracy: 0.4880\n",
      "Epoch 2/100\n",
      "32/32 [==============================] - 0s 1ms/step - loss: 5.9830 - accuracy: 0.4850\n",
      "Epoch 3/100\n",
      "32/32 [==============================] - 0s 1ms/step - loss: 5.9747 - accuracy: 0.4820\n",
      "Epoch 4/100\n",
      "32/32 [==============================] - 0s 2ms/step - loss: 5.9627 - accuracy: 0.4820\n",
      "Epoch 5/100\n",
      "32/32 [==============================] - 0s 2ms/step - loss: 5.9622 - accuracy: 0.4820\n",
      "Epoch 6/100\n",
      "32/32 [==============================] - 0s 1ms/step - loss: 5.9319 - accuracy: 0.4830\n",
      "Epoch 7/100\n",
      "32/32 [==============================] - 0s 2ms/step - loss: 5.9166 - accuracy: 0.4830\n",
      "Epoch 8/100\n",
      "32/32 [==============================] - 0s 2ms/step - loss: 5.9062 - accuracy: 0.4830\n",
      "Epoch 9/100\n",
      "32/32 [==============================] - 0s 2ms/step - loss: 5.9038 - accuracy: 0.4820\n",
      "Epoch 10/100\n",
      "32/32 [==============================] - 0s 2ms/step - loss: 5.9026 - accuracy: 0.4820\n",
      "Epoch 11/100\n",
      "32/32 [==============================] - 0s 2ms/step - loss: 5.8941 - accuracy: 0.4820\n",
      "Epoch 12/100\n",
      "32/32 [==============================] - 0s 2ms/step - loss: 5.8673 - accuracy: 0.4810\n",
      "Epoch 13/100\n",
      "32/32 [==============================] - 0s 2ms/step - loss: 5.8580 - accuracy: 0.4810\n",
      "Epoch 14/100\n",
      "32/32 [==============================] - 0s 2ms/step - loss: 5.8353 - accuracy: 0.4810\n",
      "Epoch 15/100\n",
      "32/32 [==============================] - 0s 2ms/step - loss: 5.8226 - accuracy: 0.4810\n",
      "Epoch 16/100\n",
      "32/32 [==============================] - 0s 2ms/step - loss: 5.8200 - accuracy: 0.4810\n",
      "Epoch 17/100\n",
      "32/32 [==============================] - 0s 2ms/step - loss: 5.7890 - accuracy: 0.4820\n",
      "Epoch 18/100\n",
      "32/32 [==============================] - 0s 2ms/step - loss: 5.7342 - accuracy: 0.4820\n",
      "Epoch 19/100\n",
      "32/32 [==============================] - 0s 2ms/step - loss: 5.7275 - accuracy: 0.4820\n",
      "Epoch 20/100\n",
      "32/32 [==============================] - 0s 2ms/step - loss: 5.7248 - accuracy: 0.4830\n",
      "Epoch 21/100\n",
      "32/32 [==============================] - 0s 2ms/step - loss: 5.7213 - accuracy: 0.4830\n",
      "Epoch 22/100\n",
      "32/32 [==============================] - 0s 1ms/step - loss: 5.7076 - accuracy: 0.4820\n",
      "Epoch 23/100\n",
      "32/32 [==============================] - 0s 2ms/step - loss: 5.7055 - accuracy: 0.4820\n",
      "Epoch 24/100\n",
      "32/32 [==============================] - 0s 1ms/step - loss: 5.6955 - accuracy: 0.4820\n",
      "Epoch 25/100\n",
      "32/32 [==============================] - 0s 2ms/step - loss: 5.6917 - accuracy: 0.4810\n",
      "Epoch 26/100\n",
      "32/32 [==============================] - 0s 2ms/step - loss: 5.6716 - accuracy: 0.4810\n",
      "Epoch 27/100\n",
      "32/32 [==============================] - 0s 1ms/step - loss: 5.6248 - accuracy: 0.4770\n",
      "Epoch 28/100\n",
      "32/32 [==============================] - 0s 1ms/step - loss: 5.5911 - accuracy: 0.4770\n",
      "Epoch 29/100\n",
      "32/32 [==============================] - 0s 1ms/step - loss: 5.5182 - accuracy: 0.4810\n",
      "Epoch 30/100\n",
      "32/32 [==============================] - 0s 1ms/step - loss: 5.4524 - accuracy: 0.4760\n",
      "Epoch 31/100\n",
      "32/32 [==============================] - 0s 1ms/step - loss: 5.4401 - accuracy: 0.4750\n",
      "Epoch 32/100\n",
      "32/32 [==============================] - 0s 1ms/step - loss: 5.2858 - accuracy: 0.4770\n",
      "Epoch 33/100\n",
      "32/32 [==============================] - 0s 2ms/step - loss: 5.1826 - accuracy: 0.4760\n",
      "Epoch 34/100\n",
      "32/32 [==============================] - 0s 1ms/step - loss: 4.9424 - accuracy: 0.4730\n",
      "Epoch 35/100\n",
      "32/32 [==============================] - 0s 1ms/step - loss: 4.7959 - accuracy: 0.4750\n",
      "Epoch 36/100\n",
      "32/32 [==============================] - 0s 2ms/step - loss: 4.6994 - accuracy: 0.4750\n",
      "Epoch 37/100\n",
      "32/32 [==============================] - 0s 2ms/step - loss: 4.7137 - accuracy: 0.4740\n",
      "Epoch 38/100\n",
      "32/32 [==============================] - 0s 2ms/step - loss: 4.7105 - accuracy: 0.4720\n",
      "Epoch 39/100\n",
      "32/32 [==============================] - 0s 2ms/step - loss: 4.6564 - accuracy: 0.4760\n",
      "Epoch 40/100\n",
      "32/32 [==============================] - 0s 2ms/step - loss: 4.6277 - accuracy: 0.4760\n",
      "Epoch 41/100\n",
      "32/32 [==============================] - 0s 2ms/step - loss: 4.6236 - accuracy: 0.4760\n",
      "Epoch 42/100\n",
      "32/32 [==============================] - 0s 2ms/step - loss: 4.6209 - accuracy: 0.4760\n",
      "Epoch 43/100\n",
      "32/32 [==============================] - 0s 2ms/step - loss: 4.6138 - accuracy: 0.4770\n",
      "Epoch 44/100\n",
      "32/32 [==============================] - 0s 1ms/step - loss: 4.5888 - accuracy: 0.4750\n",
      "Epoch 45/100\n",
      "32/32 [==============================] - 0s 2ms/step - loss: 4.5851 - accuracy: 0.4750\n",
      "Epoch 46/100\n",
      "32/32 [==============================] - 0s 2ms/step - loss: 4.5819 - accuracy: 0.4750\n",
      "Epoch 47/100\n",
      "32/32 [==============================] - 0s 2ms/step - loss: 4.5795 - accuracy: 0.4730\n",
      "Epoch 48/100\n",
      "32/32 [==============================] - 0s 2ms/step - loss: 4.5775 - accuracy: 0.4730\n",
      "Epoch 49/100\n",
      "32/32 [==============================] - 0s 2ms/step - loss: 4.5755 - accuracy: 0.4720\n",
      "Epoch 50/100\n",
      "32/32 [==============================] - 0s 2ms/step - loss: 4.5736 - accuracy: 0.4720\n",
      "Epoch 51/100\n",
      "32/32 [==============================] - 0s 2ms/step - loss: 4.5718 - accuracy: 0.4720\n",
      "Epoch 52/100\n",
      "32/32 [==============================] - 0s 2ms/step - loss: 4.5700 - accuracy: 0.4720\n",
      "Epoch 53/100\n",
      "32/32 [==============================] - 0s 2ms/step - loss: 4.5683 - accuracy: 0.4710\n",
      "Epoch 54/100\n",
      "32/32 [==============================] - 0s 2ms/step - loss: 4.5668 - accuracy: 0.4710\n",
      "Epoch 55/100\n",
      "32/32 [==============================] - 0s 2ms/step - loss: 4.5652 - accuracy: 0.4700\n",
      "Epoch 56/100\n",
      "32/32 [==============================] - 0s 2ms/step - loss: 4.5638 - accuracy: 0.4700\n",
      "Epoch 57/100\n",
      "32/32 [==============================] - 0s 2ms/step - loss: 4.5623 - accuracy: 0.4700\n",
      "Epoch 58/100\n",
      "32/32 [==============================] - 0s 2ms/step - loss: 4.5610 - accuracy: 0.4720\n",
      "Epoch 59/100\n",
      "32/32 [==============================] - 0s 2ms/step - loss: 4.5595 - accuracy: 0.4720\n",
      "Epoch 60/100\n",
      "32/32 [==============================] - 0s 1ms/step - loss: 4.5582 - accuracy: 0.4720\n",
      "Epoch 61/100\n",
      "32/32 [==============================] - 0s 2ms/step - loss: 4.5569 - accuracy: 0.4710\n",
      "Epoch 62/100\n",
      "32/32 [==============================] - 0s 2ms/step - loss: 4.5555 - accuracy: 0.4710\n",
      "Epoch 63/100\n",
      "32/32 [==============================] - 0s 2ms/step - loss: 4.5543 - accuracy: 0.4720\n",
      "Epoch 64/100\n",
      "32/32 [==============================] - 0s 2ms/step - loss: 4.5530 - accuracy: 0.4720\n",
      "Epoch 65/100\n",
      "32/32 [==============================] - 0s 2ms/step - loss: 4.5518 - accuracy: 0.4720\n",
      "Epoch 66/100\n",
      "32/32 [==============================] - 0s 2ms/step - loss: 4.5506 - accuracy: 0.4710\n",
      "Epoch 67/100\n",
      "32/32 [==============================] - 0s 2ms/step - loss: 4.5418 - accuracy: 0.4710\n",
      "Epoch 68/100\n",
      "32/32 [==============================] - 0s 1ms/step - loss: 4.5367 - accuracy: 0.4730\n",
      "Epoch 69/100\n",
      "32/32 [==============================] - 0s 2ms/step - loss: 4.5358 - accuracy: 0.4740\n",
      "Epoch 70/100\n",
      "32/32 [==============================] - 0s 2ms/step - loss: 4.5344 - accuracy: 0.4740\n",
      "Epoch 71/100\n",
      "32/32 [==============================] - 0s 2ms/step - loss: 4.5332 - accuracy: 0.4740\n",
      "Epoch 72/100\n",
      "32/32 [==============================] - 0s 2ms/step - loss: 4.5319 - accuracy: 0.4720\n",
      "Epoch 73/100\n",
      "32/32 [==============================] - 0s 2ms/step - loss: 4.5307 - accuracy: 0.4720\n",
      "Epoch 74/100\n",
      "32/32 [==============================] - 0s 2ms/step - loss: 4.5296 - accuracy: 0.4720\n",
      "Epoch 75/100\n",
      "32/32 [==============================] - 0s 2ms/step - loss: 4.5283 - accuracy: 0.4710\n",
      "Epoch 76/100\n",
      "32/32 [==============================] - 0s 2ms/step - loss: 4.5272 - accuracy: 0.4720\n",
      "Epoch 77/100\n",
      "32/32 [==============================] - 0s 2ms/step - loss: 4.5261 - accuracy: 0.4720\n",
      "Epoch 78/100\n",
      "32/32 [==============================] - 0s 2ms/step - loss: 4.5249 - accuracy: 0.4730\n",
      "Epoch 79/100\n",
      "32/32 [==============================] - 0s 2ms/step - loss: 4.5239 - accuracy: 0.4720\n",
      "Epoch 80/100\n",
      "32/32 [==============================] - 0s 2ms/step - loss: 4.5227 - accuracy: 0.4720\n",
      "Epoch 81/100\n",
      "32/32 [==============================] - 0s 2ms/step - loss: 4.5216 - accuracy: 0.4720\n",
      "Epoch 82/100\n",
      "32/32 [==============================] - 0s 2ms/step - loss: 4.5205 - accuracy: 0.4720\n",
      "Epoch 83/100\n"
     ]
    },
    {
     "name": "stdout",
     "output_type": "stream",
     "text": [
      "32/32 [==============================] - 0s 2ms/step - loss: 4.5195 - accuracy: 0.4720\n",
      "Epoch 84/100\n",
      "32/32 [==============================] - 0s 2ms/step - loss: 4.5183 - accuracy: 0.4710\n",
      "Epoch 85/100\n",
      "32/32 [==============================] - 0s 2ms/step - loss: 4.5172 - accuracy: 0.4710\n",
      "Epoch 86/100\n",
      "32/32 [==============================] - 0s 2ms/step - loss: 4.5162 - accuracy: 0.4710\n",
      "Epoch 87/100\n",
      "32/32 [==============================] - 0s 2ms/step - loss: 4.5152 - accuracy: 0.4710\n",
      "Epoch 88/100\n",
      "32/32 [==============================] - 0s 2ms/step - loss: 4.5141 - accuracy: 0.4700\n",
      "Epoch 89/100\n",
      "32/32 [==============================] - 0s 2ms/step - loss: 4.5131 - accuracy: 0.4710\n",
      "Epoch 90/100\n",
      "32/32 [==============================] - 0s 2ms/step - loss: 4.5120 - accuracy: 0.4710\n",
      "Epoch 91/100\n",
      "32/32 [==============================] - 0s 2ms/step - loss: 4.5111 - accuracy: 0.4710\n",
      "Epoch 92/100\n",
      "32/32 [==============================] - 0s 2ms/step - loss: 4.5101 - accuracy: 0.4710\n",
      "Epoch 93/100\n",
      "32/32 [==============================] - 0s 2ms/step - loss: 4.5091 - accuracy: 0.4720\n",
      "Epoch 94/100\n",
      "32/32 [==============================] - 0s 2ms/step - loss: 4.5082 - accuracy: 0.4720\n",
      "Epoch 95/100\n",
      "32/32 [==============================] - 0s 2ms/step - loss: 4.5072 - accuracy: 0.4710\n",
      "Epoch 96/100\n",
      "32/32 [==============================] - 0s 2ms/step - loss: 4.5062 - accuracy: 0.4710\n",
      "Epoch 97/100\n",
      "32/32 [==============================] - 0s 2ms/step - loss: 4.5052 - accuracy: 0.4710\n",
      "Epoch 98/100\n",
      "32/32 [==============================] - 0s 2ms/step - loss: 4.5043 - accuracy: 0.4710\n",
      "Epoch 99/100\n",
      "32/32 [==============================] - 0s 2ms/step - loss: 4.5033 - accuracy: 0.4720\n",
      "Epoch 100/100\n",
      "32/32 [==============================] - 0s 2ms/step - loss: 4.5024 - accuracy: 0.4720\n"
     ]
    }
   ],
   "source": [
    "# Set random seed\n",
    "tf.random.set_seed(42)\n",
    "\n",
    "# 1. Create the model\n",
    "model_5 = tf.keras.models.Sequential([\n",
    "    tf.keras.layers.Dense(1, activation=tf.keras.activations.relu)\n",
    "])\n",
    "\n",
    "# 2. Compile the model\n",
    "model_5.compile(loss=tf.keras.losses.BinaryCrossentropy(),\n",
    "               optimizer=tf.keras.optimizers.Adam(lr=.001),\n",
    "               metrics=[\"accuracy\"])\n",
    "\n",
    "# 3. Fit the model\n",
    "history_5 = model_5.fit(X,y,epochs=100,verbose=1)"
   ]
  },
  {
   "cell_type": "markdown",
   "id": "a35a4084",
   "metadata": {},
   "source": [
    "The accuracy is 0.4720 (47.2%). The model is still performing poorly."
   ]
  },
  {
   "cell_type": "code",
   "execution_count": null,
   "id": "b0268ce5",
   "metadata": {},
   "outputs": [],
   "source": []
  },
  {
   "cell_type": "markdown",
   "id": "a93074cf",
   "metadata": {},
   "source": [
    "We are going to build a more complex model, with a non-line"
   ]
  },
  {
   "cell_type": "code",
   "execution_count": 25,
   "id": "cf23981e",
   "metadata": {},
   "outputs": [
    {
     "name": "stdout",
     "output_type": "stream",
     "text": [
      "Epoch 1/200\n",
      "32/32 [==============================] - 1s 2ms/step - loss: 7.7125 - accuracy: 0.5000\n",
      "Epoch 2/200\n",
      "32/32 [==============================] - 0s 2ms/step - loss: 7.7125 - accuracy: 0.5000\n",
      "Epoch 3/200\n",
      "32/32 [==============================] - 0s 2ms/step - loss: 7.7125 - accuracy: 0.5000\n",
      "Epoch 4/200\n",
      "32/32 [==============================] - 0s 2ms/step - loss: 7.7125 - accuracy: 0.5000\n",
      "Epoch 5/200\n",
      "32/32 [==============================] - 0s 2ms/step - loss: 7.7125 - accuracy: 0.5000\n",
      "Epoch 6/200\n",
      "32/32 [==============================] - 0s 2ms/step - loss: 7.7125 - accuracy: 0.5000\n",
      "Epoch 7/200\n",
      "32/32 [==============================] - 0s 2ms/step - loss: 7.7125 - accuracy: 0.5000\n",
      "Epoch 8/200\n",
      "32/32 [==============================] - 0s 2ms/step - loss: 7.7125 - accuracy: 0.5000\n",
      "Epoch 9/200\n",
      "32/32 [==============================] - 0s 2ms/step - loss: 7.7125 - accuracy: 0.5000\n",
      "Epoch 10/200\n",
      "32/32 [==============================] - 0s 2ms/step - loss: 7.7125 - accuracy: 0.5000\n",
      "Epoch 11/200\n",
      "32/32 [==============================] - 0s 2ms/step - loss: 7.7125 - accuracy: 0.5000\n",
      "Epoch 12/200\n",
      "32/32 [==============================] - 0s 2ms/step - loss: 7.7125 - accuracy: 0.5000\n",
      "Epoch 13/200\n",
      "32/32 [==============================] - 0s 2ms/step - loss: 7.7125 - accuracy: 0.5000\n",
      "Epoch 14/200\n",
      "32/32 [==============================] - 0s 2ms/step - loss: 7.7125 - accuracy: 0.5000\n",
      "Epoch 15/200\n",
      "32/32 [==============================] - 0s 2ms/step - loss: 7.7125 - accuracy: 0.5000\n",
      "Epoch 16/200\n",
      "32/32 [==============================] - 0s 2ms/step - loss: 7.7125 - accuracy: 0.5000\n",
      "Epoch 17/200\n",
      "32/32 [==============================] - 0s 2ms/step - loss: 7.7125 - accuracy: 0.5000\n",
      "Epoch 18/200\n",
      "32/32 [==============================] - 0s 2ms/step - loss: 7.7125 - accuracy: 0.5000\n",
      "Epoch 19/200\n",
      "32/32 [==============================] - 0s 2ms/step - loss: 7.7125 - accuracy: 0.5000\n",
      "Epoch 20/200\n",
      "32/32 [==============================] - 0s 2ms/step - loss: 7.7125 - accuracy: 0.5000\n",
      "Epoch 21/200\n",
      "32/32 [==============================] - 0s 2ms/step - loss: 7.7125 - accuracy: 0.5000\n",
      "Epoch 22/200\n",
      "32/32 [==============================] - 0s 2ms/step - loss: 7.7125 - accuracy: 0.5000\n",
      "Epoch 23/200\n",
      "32/32 [==============================] - 0s 2ms/step - loss: 7.7125 - accuracy: 0.5000\n",
      "Epoch 24/200\n",
      "32/32 [==============================] - 0s 3ms/step - loss: 7.7125 - accuracy: 0.5000\n",
      "Epoch 25/200\n",
      "32/32 [==============================] - 0s 2ms/step - loss: 7.7125 - accuracy: 0.5000\n",
      "Epoch 26/200\n",
      "32/32 [==============================] - 0s 2ms/step - loss: 7.7125 - accuracy: 0.5000\n",
      "Epoch 27/200\n",
      "32/32 [==============================] - 0s 2ms/step - loss: 7.7125 - accuracy: 0.5000\n",
      "Epoch 28/200\n",
      "32/32 [==============================] - 0s 2ms/step - loss: 7.7125 - accuracy: 0.5000\n",
      "Epoch 29/200\n",
      "32/32 [==============================] - 0s 2ms/step - loss: 7.7125 - accuracy: 0.5000\n",
      "Epoch 30/200\n",
      "32/32 [==============================] - 0s 2ms/step - loss: 7.7125 - accuracy: 0.5000\n",
      "Epoch 31/200\n",
      "32/32 [==============================] - 0s 2ms/step - loss: 7.7125 - accuracy: 0.5000\n",
      "Epoch 32/200\n",
      "32/32 [==============================] - 0s 2ms/step - loss: 7.7125 - accuracy: 0.5000\n",
      "Epoch 33/200\n",
      "32/32 [==============================] - 0s 2ms/step - loss: 7.7125 - accuracy: 0.5000\n",
      "Epoch 34/200\n",
      "32/32 [==============================] - 0s 2ms/step - loss: 7.7125 - accuracy: 0.5000\n",
      "Epoch 35/200\n",
      "32/32 [==============================] - 0s 2ms/step - loss: 7.7125 - accuracy: 0.5000\n",
      "Epoch 36/200\n",
      "32/32 [==============================] - 0s 2ms/step - loss: 7.7125 - accuracy: 0.5000\n",
      "Epoch 37/200\n",
      "32/32 [==============================] - 0s 2ms/step - loss: 7.7125 - accuracy: 0.5000\n",
      "Epoch 38/200\n",
      "32/32 [==============================] - 0s 2ms/step - loss: 7.7125 - accuracy: 0.5000\n",
      "Epoch 39/200\n",
      "32/32 [==============================] - 0s 2ms/step - loss: 7.7125 - accuracy: 0.5000\n",
      "Epoch 40/200\n",
      "32/32 [==============================] - 0s 2ms/step - loss: 7.7125 - accuracy: 0.5000\n",
      "Epoch 41/200\n",
      "32/32 [==============================] - 0s 2ms/step - loss: 7.7125 - accuracy: 0.5000\n",
      "Epoch 42/200\n",
      "32/32 [==============================] - 0s 2ms/step - loss: 7.7125 - accuracy: 0.5000\n",
      "Epoch 43/200\n",
      "32/32 [==============================] - 0s 2ms/step - loss: 7.7125 - accuracy: 0.5000\n",
      "Epoch 44/200\n",
      "32/32 [==============================] - 0s 2ms/step - loss: 7.7125 - accuracy: 0.5000\n",
      "Epoch 45/200\n",
      "32/32 [==============================] - 0s 2ms/step - loss: 7.7125 - accuracy: 0.5000\n",
      "Epoch 46/200\n",
      "32/32 [==============================] - 0s 2ms/step - loss: 7.7125 - accuracy: 0.5000\n",
      "Epoch 47/200\n",
      "32/32 [==============================] - 0s 2ms/step - loss: 7.7125 - accuracy: 0.5000\n",
      "Epoch 48/200\n",
      "32/32 [==============================] - 0s 2ms/step - loss: 7.7125 - accuracy: 0.5000\n",
      "Epoch 49/200\n",
      "32/32 [==============================] - 0s 2ms/step - loss: 7.7125 - accuracy: 0.5000\n",
      "Epoch 50/200\n",
      "32/32 [==============================] - 0s 2ms/step - loss: 7.7125 - accuracy: 0.5000\n",
      "Epoch 51/200\n",
      "32/32 [==============================] - 0s 2ms/step - loss: 7.7125 - accuracy: 0.5000\n",
      "Epoch 52/200\n",
      "32/32 [==============================] - 0s 2ms/step - loss: 7.7125 - accuracy: 0.5000\n",
      "Epoch 53/200\n",
      "32/32 [==============================] - 0s 2ms/step - loss: 7.7125 - accuracy: 0.5000\n",
      "Epoch 54/200\n",
      "32/32 [==============================] - 0s 2ms/step - loss: 7.7125 - accuracy: 0.5000\n",
      "Epoch 55/200\n",
      "32/32 [==============================] - 0s 2ms/step - loss: 7.7125 - accuracy: 0.5000\n",
      "Epoch 56/200\n",
      "32/32 [==============================] - 0s 2ms/step - loss: 7.7125 - accuracy: 0.5000\n",
      "Epoch 57/200\n",
      "32/32 [==============================] - 0s 2ms/step - loss: 7.7125 - accuracy: 0.5000\n",
      "Epoch 58/200\n",
      "32/32 [==============================] - 0s 2ms/step - loss: 7.7125 - accuracy: 0.5000\n",
      "Epoch 59/200\n",
      "32/32 [==============================] - 0s 2ms/step - loss: 7.7125 - accuracy: 0.5000\n",
      "Epoch 60/200\n",
      "32/32 [==============================] - 0s 2ms/step - loss: 7.7125 - accuracy: 0.5000\n",
      "Epoch 61/200\n",
      "32/32 [==============================] - 0s 2ms/step - loss: 7.7125 - accuracy: 0.5000\n",
      "Epoch 62/200\n",
      "32/32 [==============================] - 0s 2ms/step - loss: 7.7125 - accuracy: 0.5000\n",
      "Epoch 63/200\n",
      "32/32 [==============================] - 0s 2ms/step - loss: 7.7125 - accuracy: 0.5000\n",
      "Epoch 64/200\n",
      "32/32 [==============================] - 0s 2ms/step - loss: 7.7125 - accuracy: 0.5000\n",
      "Epoch 65/200\n",
      "32/32 [==============================] - 0s 2ms/step - loss: 7.7125 - accuracy: 0.5000\n",
      "Epoch 66/200\n",
      "32/32 [==============================] - 0s 2ms/step - loss: 7.7125 - accuracy: 0.5000\n",
      "Epoch 67/200\n",
      "32/32 [==============================] - 0s 2ms/step - loss: 7.7125 - accuracy: 0.5000\n",
      "Epoch 68/200\n",
      "32/32 [==============================] - 0s 2ms/step - loss: 7.7125 - accuracy: 0.5000\n",
      "Epoch 69/200\n",
      "32/32 [==============================] - 0s 2ms/step - loss: 7.7125 - accuracy: 0.5000\n",
      "Epoch 70/200\n",
      "32/32 [==============================] - 0s 2ms/step - loss: 7.7125 - accuracy: 0.5000\n",
      "Epoch 71/200\n",
      "32/32 [==============================] - 0s 2ms/step - loss: 7.7125 - accuracy: 0.5000\n",
      "Epoch 72/200\n",
      "32/32 [==============================] - 0s 2ms/step - loss: 7.7125 - accuracy: 0.5000\n",
      "Epoch 73/200\n",
      "32/32 [==============================] - 0s 2ms/step - loss: 7.7125 - accuracy: 0.5000\n",
      "Epoch 74/200\n",
      "32/32 [==============================] - 0s 2ms/step - loss: 7.7125 - accuracy: 0.5000\n",
      "Epoch 75/200\n",
      "32/32 [==============================] - 0s 2ms/step - loss: 7.7125 - accuracy: 0.5000\n",
      "Epoch 76/200\n",
      "32/32 [==============================] - 0s 3ms/step - loss: 7.7125 - accuracy: 0.5000\n",
      "Epoch 77/200\n",
      "32/32 [==============================] - 0s 2ms/step - loss: 7.7125 - accuracy: 0.5000\n",
      "Epoch 78/200\n",
      "32/32 [==============================] - 0s 2ms/step - loss: 7.7125 - accuracy: 0.5000\n",
      "Epoch 79/200\n",
      "32/32 [==============================] - 0s 2ms/step - loss: 7.7125 - accuracy: 0.5000\n",
      "Epoch 80/200\n",
      "32/32 [==============================] - 0s 2ms/step - loss: 7.7125 - accuracy: 0.5000\n",
      "Epoch 81/200\n",
      "32/32 [==============================] - 0s 2ms/step - loss: 7.7125 - accuracy: 0.5000\n",
      "Epoch 82/200\n",
      "32/32 [==============================] - 0s 2ms/step - loss: 7.7125 - accuracy: 0.5000\n",
      "Epoch 83/200\n"
     ]
    },
    {
     "name": "stdout",
     "output_type": "stream",
     "text": [
      "32/32 [==============================] - 0s 2ms/step - loss: 7.7125 - accuracy: 0.5000\n",
      "Epoch 84/200\n",
      "32/32 [==============================] - 0s 2ms/step - loss: 7.7125 - accuracy: 0.5000\n",
      "Epoch 85/200\n",
      "32/32 [==============================] - 0s 2ms/step - loss: 7.7125 - accuracy: 0.5000\n",
      "Epoch 86/200\n",
      "32/32 [==============================] - 0s 3ms/step - loss: 7.7125 - accuracy: 0.5000\n",
      "Epoch 87/200\n",
      "32/32 [==============================] - 0s 2ms/step - loss: 7.7125 - accuracy: 0.5000\n",
      "Epoch 88/200\n",
      "32/32 [==============================] - 0s 2ms/step - loss: 7.7125 - accuracy: 0.5000\n",
      "Epoch 89/200\n",
      "32/32 [==============================] - 0s 2ms/step - loss: 7.7125 - accuracy: 0.5000\n",
      "Epoch 90/200\n",
      "32/32 [==============================] - 0s 2ms/step - loss: 7.7125 - accuracy: 0.5000\n",
      "Epoch 91/200\n",
      "32/32 [==============================] - 0s 2ms/step - loss: 7.7125 - accuracy: 0.5000\n",
      "Epoch 92/200\n",
      "32/32 [==============================] - 0s 2ms/step - loss: 7.7125 - accuracy: 0.5000\n",
      "Epoch 93/200\n",
      "32/32 [==============================] - 0s 2ms/step - loss: 7.7125 - accuracy: 0.5000\n",
      "Epoch 94/200\n",
      "32/32 [==============================] - 0s 2ms/step - loss: 7.7125 - accuracy: 0.5000\n",
      "Epoch 95/200\n",
      "32/32 [==============================] - 0s 2ms/step - loss: 7.7125 - accuracy: 0.5000\n",
      "Epoch 96/200\n",
      "32/32 [==============================] - 0s 2ms/step - loss: 7.7125 - accuracy: 0.5000\n",
      "Epoch 97/200\n",
      "32/32 [==============================] - 0s 2ms/step - loss: 7.7125 - accuracy: 0.5000\n",
      "Epoch 98/200\n",
      "32/32 [==============================] - 0s 2ms/step - loss: 7.7125 - accuracy: 0.5000\n",
      "Epoch 99/200\n",
      "32/32 [==============================] - 0s 2ms/step - loss: 7.7125 - accuracy: 0.5000\n",
      "Epoch 100/200\n",
      "32/32 [==============================] - 0s 2ms/step - loss: 7.7125 - accuracy: 0.5000\n",
      "Epoch 101/200\n",
      "32/32 [==============================] - 0s 2ms/step - loss: 7.7125 - accuracy: 0.5000\n",
      "Epoch 102/200\n",
      "32/32 [==============================] - 0s 2ms/step - loss: 7.7125 - accuracy: 0.5000\n",
      "Epoch 103/200\n",
      "32/32 [==============================] - 0s 2ms/step - loss: 7.7125 - accuracy: 0.5000\n",
      "Epoch 104/200\n",
      "32/32 [==============================] - 0s 2ms/step - loss: 7.7125 - accuracy: 0.5000\n",
      "Epoch 105/200\n",
      "32/32 [==============================] - 0s 2ms/step - loss: 7.7125 - accuracy: 0.5000\n",
      "Epoch 106/200\n",
      "32/32 [==============================] - 0s 2ms/step - loss: 7.7125 - accuracy: 0.5000\n",
      "Epoch 107/200\n",
      "32/32 [==============================] - 0s 2ms/step - loss: 7.7125 - accuracy: 0.5000\n",
      "Epoch 108/200\n",
      "32/32 [==============================] - 0s 2ms/step - loss: 7.7125 - accuracy: 0.5000\n",
      "Epoch 109/200\n",
      "32/32 [==============================] - 0s 2ms/step - loss: 7.7125 - accuracy: 0.5000\n",
      "Epoch 110/200\n",
      "32/32 [==============================] - 0s 2ms/step - loss: 7.7125 - accuracy: 0.5000\n",
      "Epoch 111/200\n",
      "32/32 [==============================] - 0s 2ms/step - loss: 7.7125 - accuracy: 0.5000\n",
      "Epoch 112/200\n",
      "32/32 [==============================] - 0s 2ms/step - loss: 7.7125 - accuracy: 0.5000\n",
      "Epoch 113/200\n",
      "32/32 [==============================] - 0s 3ms/step - loss: 7.7125 - accuracy: 0.5000\n",
      "Epoch 114/200\n",
      "32/32 [==============================] - 0s 2ms/step - loss: 7.7125 - accuracy: 0.5000\n",
      "Epoch 115/200\n",
      "32/32 [==============================] - 0s 2ms/step - loss: 7.7125 - accuracy: 0.5000\n",
      "Epoch 116/200\n",
      "32/32 [==============================] - 0s 2ms/step - loss: 7.7125 - accuracy: 0.5000\n",
      "Epoch 117/200\n",
      "32/32 [==============================] - 0s 2ms/step - loss: 7.7125 - accuracy: 0.5000\n",
      "Epoch 118/200\n",
      "32/32 [==============================] - 0s 2ms/step - loss: 7.7125 - accuracy: 0.5000\n",
      "Epoch 119/200\n",
      "32/32 [==============================] - 0s 2ms/step - loss: 7.7125 - accuracy: 0.5000\n",
      "Epoch 120/200\n",
      "32/32 [==============================] - 0s 2ms/step - loss: 7.7125 - accuracy: 0.5000\n",
      "Epoch 121/200\n",
      "32/32 [==============================] - 0s 2ms/step - loss: 7.7125 - accuracy: 0.5000\n",
      "Epoch 122/200\n",
      "32/32 [==============================] - 0s 2ms/step - loss: 7.7125 - accuracy: 0.5000\n",
      "Epoch 123/200\n",
      "32/32 [==============================] - 0s 2ms/step - loss: 7.7125 - accuracy: 0.5000\n",
      "Epoch 124/200\n",
      "32/32 [==============================] - 0s 1ms/step - loss: 7.7125 - accuracy: 0.5000\n",
      "Epoch 125/200\n",
      "32/32 [==============================] - 0s 2ms/step - loss: 7.7125 - accuracy: 0.5000\n",
      "Epoch 126/200\n",
      "32/32 [==============================] - 0s 2ms/step - loss: 7.7125 - accuracy: 0.5000\n",
      "Epoch 127/200\n",
      "32/32 [==============================] - 0s 3ms/step - loss: 7.7125 - accuracy: 0.5000\n",
      "Epoch 128/200\n",
      "32/32 [==============================] - 0s 3ms/step - loss: 7.7125 - accuracy: 0.5000\n",
      "Epoch 129/200\n",
      "32/32 [==============================] - 0s 2ms/step - loss: 7.7125 - accuracy: 0.5000\n",
      "Epoch 130/200\n",
      "32/32 [==============================] - 0s 2ms/step - loss: 7.7125 - accuracy: 0.5000\n",
      "Epoch 131/200\n",
      "32/32 [==============================] - 0s 2ms/step - loss: 7.7125 - accuracy: 0.5000\n",
      "Epoch 132/200\n",
      "32/32 [==============================] - 0s 2ms/step - loss: 7.7125 - accuracy: 0.5000\n",
      "Epoch 133/200\n",
      "32/32 [==============================] - 0s 2ms/step - loss: 7.7125 - accuracy: 0.5000\n",
      "Epoch 134/200\n",
      "32/32 [==============================] - 0s 2ms/step - loss: 7.7125 - accuracy: 0.5000\n",
      "Epoch 135/200\n",
      "32/32 [==============================] - 0s 2ms/step - loss: 7.7125 - accuracy: 0.5000\n",
      "Epoch 136/200\n",
      "32/32 [==============================] - 0s 2ms/step - loss: 7.7125 - accuracy: 0.5000\n",
      "Epoch 137/200\n",
      "32/32 [==============================] - 0s 2ms/step - loss: 7.7125 - accuracy: 0.5000\n",
      "Epoch 138/200\n",
      "32/32 [==============================] - 0s 2ms/step - loss: 7.7125 - accuracy: 0.5000\n",
      "Epoch 139/200\n",
      "32/32 [==============================] - 0s 2ms/step - loss: 7.7125 - accuracy: 0.5000\n",
      "Epoch 140/200\n",
      "32/32 [==============================] - 0s 2ms/step - loss: 7.7125 - accuracy: 0.5000\n",
      "Epoch 141/200\n",
      "32/32 [==============================] - 0s 2ms/step - loss: 7.7125 - accuracy: 0.5000\n",
      "Epoch 142/200\n",
      "32/32 [==============================] - 0s 2ms/step - loss: 7.7125 - accuracy: 0.5000\n",
      "Epoch 143/200\n",
      "32/32 [==============================] - 0s 2ms/step - loss: 7.7125 - accuracy: 0.5000\n",
      "Epoch 144/200\n",
      "32/32 [==============================] - 0s 2ms/step - loss: 7.7125 - accuracy: 0.5000\n",
      "Epoch 145/200\n",
      "32/32 [==============================] - 0s 2ms/step - loss: 7.7125 - accuracy: 0.5000\n",
      "Epoch 146/200\n",
      "32/32 [==============================] - 0s 2ms/step - loss: 7.7125 - accuracy: 0.5000\n",
      "Epoch 147/200\n",
      "32/32 [==============================] - 0s 2ms/step - loss: 7.7125 - accuracy: 0.5000\n",
      "Epoch 148/200\n",
      "32/32 [==============================] - 0s 2ms/step - loss: 7.7125 - accuracy: 0.5000\n",
      "Epoch 149/200\n",
      "32/32 [==============================] - 0s 2ms/step - loss: 7.7125 - accuracy: 0.5000\n",
      "Epoch 150/200\n",
      "32/32 [==============================] - 0s 2ms/step - loss: 7.7125 - accuracy: 0.5000\n",
      "Epoch 151/200\n",
      "32/32 [==============================] - 0s 2ms/step - loss: 7.7125 - accuracy: 0.5000\n",
      "Epoch 152/200\n",
      "32/32 [==============================] - 0s 2ms/step - loss: 7.7125 - accuracy: 0.5000\n",
      "Epoch 153/200\n",
      "32/32 [==============================] - 0s 2ms/step - loss: 7.7125 - accuracy: 0.5000\n",
      "Epoch 154/200\n",
      "32/32 [==============================] - 0s 2ms/step - loss: 7.7125 - accuracy: 0.5000\n",
      "Epoch 155/200\n",
      "32/32 [==============================] - 0s 2ms/step - loss: 7.7125 - accuracy: 0.5000\n",
      "Epoch 156/200\n",
      "32/32 [==============================] - 0s 2ms/step - loss: 7.7125 - accuracy: 0.5000\n",
      "Epoch 157/200\n",
      "32/32 [==============================] - 0s 3ms/step - loss: 7.7125 - accuracy: 0.5000\n",
      "Epoch 158/200\n",
      "32/32 [==============================] - 0s 3ms/step - loss: 7.7125 - accuracy: 0.5000\n",
      "Epoch 159/200\n",
      "32/32 [==============================] - 0s 3ms/step - loss: 7.7125 - accuracy: 0.5000\n",
      "Epoch 160/200\n",
      "32/32 [==============================] - 0s 2ms/step - loss: 7.7125 - accuracy: 0.5000\n",
      "Epoch 161/200\n",
      "32/32 [==============================] - 0s 2ms/step - loss: 7.7125 - accuracy: 0.5000\n",
      "Epoch 162/200\n",
      "32/32 [==============================] - 0s 2ms/step - loss: 7.7125 - accuracy: 0.5000\n",
      "Epoch 163/200\n",
      "32/32 [==============================] - 0s 2ms/step - loss: 7.7125 - accuracy: 0.5000\n",
      "Epoch 164/200\n"
     ]
    },
    {
     "name": "stdout",
     "output_type": "stream",
     "text": [
      "32/32 [==============================] - 0s 2ms/step - loss: 7.7125 - accuracy: 0.5000\n",
      "Epoch 165/200\n",
      "32/32 [==============================] - 0s 2ms/step - loss: 7.7125 - accuracy: 0.5000\n",
      "Epoch 166/200\n",
      "32/32 [==============================] - 0s 2ms/step - loss: 7.7125 - accuracy: 0.5000\n",
      "Epoch 167/200\n",
      "32/32 [==============================] - 0s 2ms/step - loss: 7.7125 - accuracy: 0.5000\n",
      "Epoch 168/200\n",
      "32/32 [==============================] - 0s 2ms/step - loss: 7.7125 - accuracy: 0.5000\n",
      "Epoch 169/200\n",
      "32/32 [==============================] - 0s 2ms/step - loss: 7.7125 - accuracy: 0.5000\n",
      "Epoch 170/200\n",
      "32/32 [==============================] - 0s 2ms/step - loss: 7.7125 - accuracy: 0.5000\n",
      "Epoch 171/200\n",
      "32/32 [==============================] - 0s 2ms/step - loss: 7.7125 - accuracy: 0.5000\n",
      "Epoch 172/200\n",
      "32/32 [==============================] - 0s 2ms/step - loss: 7.7125 - accuracy: 0.5000\n",
      "Epoch 173/200\n",
      "32/32 [==============================] - 0s 2ms/step - loss: 7.7125 - accuracy: 0.5000\n",
      "Epoch 174/200\n",
      "32/32 [==============================] - 0s 2ms/step - loss: 7.7125 - accuracy: 0.5000\n",
      "Epoch 175/200\n",
      "32/32 [==============================] - 0s 2ms/step - loss: 7.7125 - accuracy: 0.5000\n",
      "Epoch 176/200\n",
      "32/32 [==============================] - 0s 2ms/step - loss: 7.7125 - accuracy: 0.5000\n",
      "Epoch 177/200\n",
      "32/32 [==============================] - 0s 2ms/step - loss: 7.7125 - accuracy: 0.5000\n",
      "Epoch 178/200\n",
      "32/32 [==============================] - 0s 2ms/step - loss: 7.7125 - accuracy: 0.5000\n",
      "Epoch 179/200\n",
      "32/32 [==============================] - 0s 2ms/step - loss: 7.7125 - accuracy: 0.5000\n",
      "Epoch 180/200\n",
      "32/32 [==============================] - 0s 2ms/step - loss: 7.7125 - accuracy: 0.5000\n",
      "Epoch 181/200\n",
      "32/32 [==============================] - 0s 2ms/step - loss: 7.7125 - accuracy: 0.5000\n",
      "Epoch 182/200\n",
      "32/32 [==============================] - 0s 2ms/step - loss: 7.7125 - accuracy: 0.5000\n",
      "Epoch 183/200\n",
      "32/32 [==============================] - 0s 2ms/step - loss: 7.7125 - accuracy: 0.5000\n",
      "Epoch 184/200\n",
      "32/32 [==============================] - 0s 3ms/step - loss: 7.7125 - accuracy: 0.5000\n",
      "Epoch 185/200\n",
      "32/32 [==============================] - 0s 2ms/step - loss: 7.7125 - accuracy: 0.5000\n",
      "Epoch 186/200\n",
      "32/32 [==============================] - 0s 2ms/step - loss: 7.7125 - accuracy: 0.5000\n",
      "Epoch 187/200\n",
      "32/32 [==============================] - 0s 2ms/step - loss: 7.7125 - accuracy: 0.5000\n",
      "Epoch 188/200\n",
      "32/32 [==============================] - 0s 2ms/step - loss: 7.7125 - accuracy: 0.5000\n",
      "Epoch 189/200\n",
      "32/32 [==============================] - 0s 2ms/step - loss: 7.7125 - accuracy: 0.5000\n",
      "Epoch 190/200\n",
      "32/32 [==============================] - 0s 2ms/step - loss: 7.7125 - accuracy: 0.5000\n",
      "Epoch 191/200\n",
      "32/32 [==============================] - 0s 2ms/step - loss: 7.7125 - accuracy: 0.5000\n",
      "Epoch 192/200\n",
      "32/32 [==============================] - 0s 2ms/step - loss: 7.7125 - accuracy: 0.5000\n",
      "Epoch 193/200\n",
      "32/32 [==============================] - 0s 2ms/step - loss: 7.7125 - accuracy: 0.5000\n",
      "Epoch 194/200\n",
      "32/32 [==============================] - 0s 2ms/step - loss: 7.7125 - accuracy: 0.5000\n",
      "Epoch 195/200\n",
      "32/32 [==============================] - 0s 2ms/step - loss: 7.7125 - accuracy: 0.5000\n",
      "Epoch 196/200\n",
      "32/32 [==============================] - 0s 2ms/step - loss: 7.7125 - accuracy: 0.5000\n",
      "Epoch 197/200\n",
      "32/32 [==============================] - 0s 2ms/step - loss: 7.7125 - accuracy: 0.5000\n",
      "Epoch 198/200\n",
      "32/32 [==============================] - 0s 2ms/step - loss: 7.7125 - accuracy: 0.5000\n",
      "Epoch 199/200\n",
      "32/32 [==============================] - 0s 2ms/step - loss: 7.7125 - accuracy: 0.5000\n",
      "Epoch 200/200\n",
      "32/32 [==============================] - 0s 2ms/step - loss: 7.7125 - accuracy: 0.5000\n"
     ]
    }
   ],
   "source": [
    "# Set random seed\n",
    "tf.random.set_seed(42)\n",
    "\n",
    "# 1. Create the model\n",
    "model_6 = tf.keras.models.Sequential([\n",
    "    tf.keras.layers.Dense(4, activation=tf.keras.activations.relu),\n",
    "    tf.keras.layers.Dense(4, activation=tf.keras.activations.relu),\n",
    "    tf.keras.layers.Dense(1)\n",
    "])\n",
    "\n",
    "# 2. Compile the model\n",
    "model_6.compile(loss=tf.keras.losses.BinaryCrossentropy(),\n",
    "               optimizer=tf.keras.optimizers.Adam(lr=0.001),\n",
    "               metrics=[\"accuracy\"])\n",
    "\n",
    "# 3. Fit the model\n",
    "history_6= model_6.fit(X,y,epochs=200, verbose=1)"
   ]
  },
  {
   "cell_type": "markdown",
   "id": "10fdcb5f",
   "metadata": {},
   "source": [
    "The accuracy is 0.9620 (96%). This means that out of 100 predictions, 96 are made right."
   ]
  },
  {
   "cell_type": "code",
   "execution_count": 26,
   "id": "a234b41f",
   "metadata": {},
   "outputs": [
    {
     "name": "stdout",
     "output_type": "stream",
     "text": [
      "313/313 [==============================] - 0s 1ms/step\n",
      "Doing binary classification\n"
     ]
    },
    {
     "data": {
      "image/png": "[encoded data removed]",
      "text/plain": [
       "<Figure size 432x288 with 1 Axes>"
      ]
     },
     "metadata": {
      "needs_background": "light"
     },
     "output_type": "display_data"
    }
   ],
   "source": [
    "# Check the decision boundary for our latest model\n",
    "plot_decision_boundary(model=model_6,X=X, y=y)"
   ]
  },
  {
   "cell_type": "markdown",
   "id": "9415cc63",
   "metadata": {},
   "source": [
    "Looking at the plot, the model has a nearly perfect decision boundary (which explain the high accuracy), but it's in doubt about the position blue and right zones (we can see that by the fact there are hue in the zones). Let's try to resolve that by putting an activation function on the last layer."
   ]
  },
  {
   "cell_type": "code",
   "execution_count": null,
   "id": "4ef2da1a",
   "metadata": {},
   "outputs": [],
   "source": []
  },
  {
   "cell_type": "code",
   "execution_count": 27,
   "id": "96421f28",
   "metadata": {},
   "outputs": [
    {
     "name": "stdout",
     "output_type": "stream",
     "text": [
      "Epoch 1/200\n",
      "32/32 [==============================] - 0s 1ms/step - loss: 0.7249 - accuracy: 0.5020\n",
      "Epoch 2/200\n",
      "32/32 [==============================] - 0s 1ms/step - loss: 0.7159 - accuracy: 0.4990\n",
      "Epoch 3/200\n",
      "32/32 [==============================] - 0s 2ms/step - loss: 0.7099 - accuracy: 0.4990\n",
      "Epoch 4/200\n",
      "32/32 [==============================] - 0s 2ms/step - loss: 0.7059 - accuracy: 0.4920\n",
      "Epoch 5/200\n",
      "32/32 [==============================] - 0s 2ms/step - loss: 0.7033 - accuracy: 0.4850\n",
      "Epoch 6/200\n",
      "32/32 [==============================] - 0s 2ms/step - loss: 0.7014 - accuracy: 0.4820\n",
      "Epoch 7/200\n",
      "32/32 [==============================] - 0s 2ms/step - loss: 0.6992 - accuracy: 0.4810\n",
      "Epoch 8/200\n",
      "32/32 [==============================] - 0s 2ms/step - loss: 0.6976 - accuracy: 0.4830\n",
      "Epoch 9/200\n",
      "32/32 [==============================] - 0s 2ms/step - loss: 0.6960 - accuracy: 0.4740\n",
      "Epoch 10/200\n",
      "32/32 [==============================] - 0s 2ms/step - loss: 0.6946 - accuracy: 0.4480\n",
      "Epoch 11/200\n",
      "32/32 [==============================] - 0s 2ms/step - loss: 0.6932 - accuracy: 0.4440\n",
      "Epoch 12/200\n",
      "32/32 [==============================] - 0s 2ms/step - loss: 0.6919 - accuracy: 0.4310\n",
      "Epoch 13/200\n",
      "32/32 [==============================] - 0s 2ms/step - loss: 0.6907 - accuracy: 0.4490\n",
      "Epoch 14/200\n",
      "32/32 [==============================] - 0s 2ms/step - loss: 0.6896 - accuracy: 0.4690\n",
      "Epoch 15/200\n",
      "32/32 [==============================] - 0s 2ms/step - loss: 0.6885 - accuracy: 0.4740\n",
      "Epoch 16/200\n",
      "32/32 [==============================] - 0s 2ms/step - loss: 0.6873 - accuracy: 0.4510\n",
      "Epoch 17/200\n",
      "32/32 [==============================] - 0s 2ms/step - loss: 0.6863 - accuracy: 0.4930\n",
      "Epoch 18/200\n",
      "32/32 [==============================] - 0s 2ms/step - loss: 0.6852 - accuracy: 0.5030\n",
      "Epoch 19/200\n",
      "32/32 [==============================] - 0s 2ms/step - loss: 0.6841 - accuracy: 0.5300\n",
      "Epoch 20/200\n",
      "32/32 [==============================] - 0s 2ms/step - loss: 0.6826 - accuracy: 0.5580\n",
      "Epoch 21/200\n",
      "32/32 [==============================] - 0s 2ms/step - loss: 0.6810 - accuracy: 0.5960\n",
      "Epoch 22/200\n",
      "32/32 [==============================] - 0s 2ms/step - loss: 0.6789 - accuracy: 0.6050\n",
      "Epoch 23/200\n",
      "32/32 [==============================] - 0s 2ms/step - loss: 0.6770 - accuracy: 0.6200\n",
      "Epoch 24/200\n",
      "32/32 [==============================] - 0s 2ms/step - loss: 0.6761 - accuracy: 0.6260\n",
      "Epoch 25/200\n",
      "32/32 [==============================] - 0s 2ms/step - loss: 0.6748 - accuracy: 0.6320\n",
      "Epoch 26/200\n",
      "32/32 [==============================] - 0s 2ms/step - loss: 0.6734 - accuracy: 0.6230\n",
      "Epoch 27/200\n",
      "32/32 [==============================] - 0s 2ms/step - loss: 0.6725 - accuracy: 0.6230\n",
      "Epoch 28/200\n",
      "32/32 [==============================] - 0s 2ms/step - loss: 0.6708 - accuracy: 0.6370\n",
      "Epoch 29/200\n",
      "32/32 [==============================] - 0s 2ms/step - loss: 0.6697 - accuracy: 0.6400\n",
      "Epoch 30/200\n",
      "32/32 [==============================] - 0s 2ms/step - loss: 0.6683 - accuracy: 0.6350\n",
      "Epoch 31/200\n",
      "32/32 [==============================] - 0s 2ms/step - loss: 0.6667 - accuracy: 0.6430\n",
      "Epoch 32/200\n",
      "32/32 [==============================] - 0s 2ms/step - loss: 0.6652 - accuracy: 0.6510\n",
      "Epoch 33/200\n",
      "32/32 [==============================] - 0s 2ms/step - loss: 0.6634 - accuracy: 0.6550\n",
      "Epoch 34/200\n",
      "32/32 [==============================] - 0s 2ms/step - loss: 0.6618 - accuracy: 0.6610\n",
      "Epoch 35/200\n",
      "32/32 [==============================] - 0s 2ms/step - loss: 0.6598 - accuracy: 0.6540\n",
      "Epoch 36/200\n",
      "32/32 [==============================] - 0s 2ms/step - loss: 0.6576 - accuracy: 0.6560\n",
      "Epoch 37/200\n",
      "32/32 [==============================] - 0s 2ms/step - loss: 0.6555 - accuracy: 0.6670\n",
      "Epoch 38/200\n",
      "32/32 [==============================] - 0s 2ms/step - loss: 0.6534 - accuracy: 0.6500\n",
      "Epoch 39/200\n",
      "32/32 [==============================] - 0s 2ms/step - loss: 0.6507 - accuracy: 0.6450\n",
      "Epoch 40/200\n",
      "32/32 [==============================] - 0s 2ms/step - loss: 0.6483 - accuracy: 0.6640\n",
      "Epoch 41/200\n",
      "32/32 [==============================] - 0s 2ms/step - loss: 0.6457 - accuracy: 0.6790\n",
      "Epoch 42/200\n",
      "32/32 [==============================] - 0s 2ms/step - loss: 0.6430 - accuracy: 0.6810\n",
      "Epoch 43/200\n",
      "32/32 [==============================] - 0s 2ms/step - loss: 0.6398 - accuracy: 0.6970\n",
      "Epoch 44/200\n",
      "32/32 [==============================] - 0s 2ms/step - loss: 0.6369 - accuracy: 0.6700\n",
      "Epoch 45/200\n",
      "32/32 [==============================] - 0s 2ms/step - loss: 0.6328 - accuracy: 0.7100\n",
      "Epoch 46/200\n",
      "32/32 [==============================] - 0s 2ms/step - loss: 0.6293 - accuracy: 0.7460\n",
      "Epoch 47/200\n",
      "32/32 [==============================] - 0s 2ms/step - loss: 0.6264 - accuracy: 0.7900\n",
      "Epoch 48/200\n",
      "32/32 [==============================] - 0s 2ms/step - loss: 0.6218 - accuracy: 0.8070\n",
      "Epoch 49/200\n",
      "32/32 [==============================] - 0s 2ms/step - loss: 0.6174 - accuracy: 0.7960\n",
      "Epoch 50/200\n",
      "32/32 [==============================] - 0s 2ms/step - loss: 0.6126 - accuracy: 0.8010\n",
      "Epoch 51/200\n",
      "32/32 [==============================] - 0s 2ms/step - loss: 0.6076 - accuracy: 0.8280\n",
      "Epoch 52/200\n",
      "32/32 [==============================] - 0s 2ms/step - loss: 0.5991 - accuracy: 0.8590\n",
      "Epoch 53/200\n",
      "32/32 [==============================] - 0s 2ms/step - loss: 0.5916 - accuracy: 0.8320\n",
      "Epoch 54/200\n",
      "32/32 [==============================] - 0s 2ms/step - loss: 0.5848 - accuracy: 0.8540\n",
      "Epoch 55/200\n",
      "32/32 [==============================] - 0s 2ms/step - loss: 0.5796 - accuracy: 0.8690\n",
      "Epoch 56/200\n",
      "32/32 [==============================] - 0s 2ms/step - loss: 0.5735 - accuracy: 0.8450\n",
      "Epoch 57/200\n",
      "32/32 [==============================] - 0s 2ms/step - loss: 0.5675 - accuracy: 0.8740\n",
      "Epoch 58/200\n",
      "32/32 [==============================] - 0s 2ms/step - loss: 0.5616 - accuracy: 0.8960\n",
      "Epoch 59/200\n",
      "32/32 [==============================] - 0s 1ms/step - loss: 0.5556 - accuracy: 0.9140\n",
      "Epoch 60/200\n",
      "32/32 [==============================] - 0s 2ms/step - loss: 0.5485 - accuracy: 0.9230\n",
      "Epoch 61/200\n",
      "32/32 [==============================] - 0s 2ms/step - loss: 0.5428 - accuracy: 0.8750\n",
      "Epoch 62/200\n",
      "32/32 [==============================] - 0s 2ms/step - loss: 0.5352 - accuracy: 0.9330\n",
      "Epoch 63/200\n",
      "32/32 [==============================] - 0s 2ms/step - loss: 0.5282 - accuracy: 0.9330\n",
      "Epoch 64/200\n",
      "32/32 [==============================] - 0s 2ms/step - loss: 0.5216 - accuracy: 0.9430\n",
      "Epoch 65/200\n",
      "32/32 [==============================] - 0s 2ms/step - loss: 0.5143 - accuracy: 0.9460\n",
      "Epoch 66/200\n",
      "32/32 [==============================] - 0s 2ms/step - loss: 0.5067 - accuracy: 0.9570\n",
      "Epoch 67/200\n",
      "32/32 [==============================] - 0s 2ms/step - loss: 0.4995 - accuracy: 0.9530\n",
      "Epoch 68/200\n",
      "32/32 [==============================] - 0s 2ms/step - loss: 0.4918 - accuracy: 0.9640\n",
      "Epoch 69/200\n",
      "32/32 [==============================] - 0s 2ms/step - loss: 0.4839 - accuracy: 0.9700\n",
      "Epoch 70/200\n",
      "32/32 [==============================] - 0s 2ms/step - loss: 0.4762 - accuracy: 0.9720\n",
      "Epoch 71/200\n",
      "32/32 [==============================] - 0s 2ms/step - loss: 0.4678 - accuracy: 0.9770\n",
      "Epoch 72/200\n",
      "32/32 [==============================] - 0s 2ms/step - loss: 0.4599 - accuracy: 0.9780\n",
      "Epoch 73/200\n",
      "32/32 [==============================] - 0s 2ms/step - loss: 0.4511 - accuracy: 0.9880\n",
      "Epoch 74/200\n",
      "32/32 [==============================] - 0s 2ms/step - loss: 0.4420 - accuracy: 0.9850\n",
      "Epoch 75/200\n",
      "32/32 [==============================] - 0s 2ms/step - loss: 0.4303 - accuracy: 0.9890\n",
      "Epoch 76/200\n",
      "32/32 [==============================] - 0s 2ms/step - loss: 0.4137 - accuracy: 0.9830\n",
      "Epoch 77/200\n",
      "32/32 [==============================] - 0s 2ms/step - loss: 0.4026 - accuracy: 0.9900\n",
      "Epoch 78/200\n",
      "32/32 [==============================] - 0s 2ms/step - loss: 0.3931 - accuracy: 0.9900\n",
      "Epoch 79/200\n",
      "32/32 [==============================] - 0s 2ms/step - loss: 0.3845 - accuracy: 0.9920\n",
      "Epoch 80/200\n",
      "32/32 [==============================] - 0s 2ms/step - loss: 0.3741 - accuracy: 0.9940\n",
      "Epoch 81/200\n",
      "32/32 [==============================] - 0s 1ms/step - loss: 0.3658 - accuracy: 0.9930\n",
      "Epoch 82/200\n",
      "32/32 [==============================] - 0s 1ms/step - loss: 0.3571 - accuracy: 0.9930\n",
      "Epoch 83/200\n"
     ]
    },
    {
     "name": "stdout",
     "output_type": "stream",
     "text": [
      "32/32 [==============================] - 0s 2ms/step - loss: 0.3485 - accuracy: 0.9950\n",
      "Epoch 84/200\n",
      "32/32 [==============================] - 0s 2ms/step - loss: 0.3399 - accuracy: 0.9970\n",
      "Epoch 85/200\n",
      "32/32 [==============================] - 0s 2ms/step - loss: 0.3319 - accuracy: 0.9960\n",
      "Epoch 86/200\n",
      "32/32 [==============================] - 0s 2ms/step - loss: 0.3248 - accuracy: 0.9970\n",
      "Epoch 87/200\n",
      "32/32 [==============================] - 0s 2ms/step - loss: 0.3165 - accuracy: 0.9970\n",
      "Epoch 88/200\n",
      "32/32 [==============================] - 0s 2ms/step - loss: 0.3088 - accuracy: 0.9950\n",
      "Epoch 89/200\n",
      "32/32 [==============================] - 0s 2ms/step - loss: 0.3019 - accuracy: 0.9970\n",
      "Epoch 90/200\n",
      "32/32 [==============================] - 0s 2ms/step - loss: 0.2948 - accuracy: 0.9950\n",
      "Epoch 91/200\n",
      "32/32 [==============================] - 0s 2ms/step - loss: 0.2876 - accuracy: 0.9970\n",
      "Epoch 92/200\n",
      "32/32 [==============================] - 0s 2ms/step - loss: 0.2808 - accuracy: 0.9980\n",
      "Epoch 93/200\n",
      "32/32 [==============================] - 0s 2ms/step - loss: 0.2748 - accuracy: 0.9940\n",
      "Epoch 94/200\n",
      "32/32 [==============================] - 0s 2ms/step - loss: 0.2677 - accuracy: 0.9970\n",
      "Epoch 95/200\n",
      "32/32 [==============================] - 0s 2ms/step - loss: 0.2602 - accuracy: 0.9960\n",
      "Epoch 96/200\n",
      "32/32 [==============================] - 0s 2ms/step - loss: 0.2533 - accuracy: 0.9960\n",
      "Epoch 97/200\n",
      "32/32 [==============================] - 0s 2ms/step - loss: 0.2458 - accuracy: 0.9960\n",
      "Epoch 98/200\n",
      "32/32 [==============================] - 0s 2ms/step - loss: 0.2391 - accuracy: 0.9980\n",
      "Epoch 99/200\n",
      "32/32 [==============================] - 0s 2ms/step - loss: 0.2323 - accuracy: 0.9970\n",
      "Epoch 100/200\n",
      "32/32 [==============================] - 0s 2ms/step - loss: 0.2260 - accuracy: 0.9960\n",
      "Epoch 101/200\n",
      "32/32 [==============================] - 0s 2ms/step - loss: 0.2200 - accuracy: 0.9970\n",
      "Epoch 102/200\n",
      "32/32 [==============================] - 0s 2ms/step - loss: 0.2143 - accuracy: 0.9980\n",
      "Epoch 103/200\n",
      "32/32 [==============================] - 0s 2ms/step - loss: 0.2088 - accuracy: 0.9970\n",
      "Epoch 104/200\n",
      "32/32 [==============================] - 0s 2ms/step - loss: 0.2036 - accuracy: 0.9970\n",
      "Epoch 105/200\n",
      "32/32 [==============================] - 0s 2ms/step - loss: 0.1992 - accuracy: 0.9980\n",
      "Epoch 106/200\n",
      "32/32 [==============================] - 0s 2ms/step - loss: 0.1944 - accuracy: 0.9970\n",
      "Epoch 107/200\n",
      "32/32 [==============================] - 0s 2ms/step - loss: 0.1898 - accuracy: 0.9970\n",
      "Epoch 108/200\n",
      "32/32 [==============================] - 0s 2ms/step - loss: 0.1860 - accuracy: 0.9960\n",
      "Epoch 109/200\n",
      "32/32 [==============================] - 0s 2ms/step - loss: 0.1816 - accuracy: 0.9970\n",
      "Epoch 110/200\n",
      "32/32 [==============================] - 0s 2ms/step - loss: 0.1778 - accuracy: 0.9970\n",
      "Epoch 111/200\n",
      "32/32 [==============================] - 0s 2ms/step - loss: 0.1740 - accuracy: 0.9980\n",
      "Epoch 112/200\n",
      "32/32 [==============================] - 0s 1ms/step - loss: 0.1708 - accuracy: 0.9980\n",
      "Epoch 113/200\n",
      "32/32 [==============================] - 0s 2ms/step - loss: 0.1663 - accuracy: 0.9980\n",
      "Epoch 114/200\n",
      "32/32 [==============================] - 0s 2ms/step - loss: 0.1632 - accuracy: 0.9980\n",
      "Epoch 115/200\n",
      "32/32 [==============================] - 0s 2ms/step - loss: 0.1595 - accuracy: 0.9980\n",
      "Epoch 116/200\n",
      "32/32 [==============================] - 0s 2ms/step - loss: 0.1558 - accuracy: 0.9970\n",
      "Epoch 117/200\n",
      "32/32 [==============================] - 0s 2ms/step - loss: 0.1529 - accuracy: 0.9980\n",
      "Epoch 118/200\n",
      "32/32 [==============================] - 0s 2ms/step - loss: 0.1496 - accuracy: 0.9980\n",
      "Epoch 119/200\n",
      "32/32 [==============================] - 0s 2ms/step - loss: 0.1466 - accuracy: 0.9970\n",
      "Epoch 120/200\n",
      "32/32 [==============================] - 0s 2ms/step - loss: 0.1439 - accuracy: 0.9980\n",
      "Epoch 121/200\n",
      "32/32 [==============================] - 0s 2ms/step - loss: 0.1415 - accuracy: 0.9970\n",
      "Epoch 122/200\n",
      "32/32 [==============================] - 0s 2ms/step - loss: 0.1382 - accuracy: 0.9980\n",
      "Epoch 123/200\n",
      "32/32 [==============================] - 0s 1ms/step - loss: 0.1352 - accuracy: 0.9980\n",
      "Epoch 124/200\n",
      "32/32 [==============================] - 0s 2ms/step - loss: 0.1327 - accuracy: 0.9980\n",
      "Epoch 125/200\n",
      "32/32 [==============================] - 0s 2ms/step - loss: 0.1303 - accuracy: 0.9980\n",
      "Epoch 126/200\n",
      "32/32 [==============================] - 0s 2ms/step - loss: 0.1277 - accuracy: 0.9970\n",
      "Epoch 127/200\n",
      "32/32 [==============================] - 0s 2ms/step - loss: 0.1254 - accuracy: 0.9980\n",
      "Epoch 128/200\n",
      "32/32 [==============================] - 0s 2ms/step - loss: 0.1231 - accuracy: 0.9970\n",
      "Epoch 129/200\n",
      "32/32 [==============================] - 0s 2ms/step - loss: 0.1208 - accuracy: 0.9980\n",
      "Epoch 130/200\n",
      "32/32 [==============================] - 0s 2ms/step - loss: 0.1184 - accuracy: 0.9980\n",
      "Epoch 131/200\n",
      "32/32 [==============================] - 0s 2ms/step - loss: 0.1166 - accuracy: 0.9980\n",
      "Epoch 132/200\n",
      "32/32 [==============================] - 0s 2ms/step - loss: 0.1145 - accuracy: 0.9980\n",
      "Epoch 133/200\n",
      "32/32 [==============================] - 0s 2ms/step - loss: 0.1120 - accuracy: 0.9980\n",
      "Epoch 134/200\n",
      "32/32 [==============================] - 0s 2ms/step - loss: 0.1103 - accuracy: 0.9980\n",
      "Epoch 135/200\n",
      "32/32 [==============================] - 0s 2ms/step - loss: 0.1085 - accuracy: 0.9970\n",
      "Epoch 136/200\n",
      "32/32 [==============================] - 0s 2ms/step - loss: 0.1067 - accuracy: 0.9980\n",
      "Epoch 137/200\n",
      "32/32 [==============================] - 0s 2ms/step - loss: 0.1048 - accuracy: 0.9980\n",
      "Epoch 138/200\n",
      "32/32 [==============================] - 0s 2ms/step - loss: 0.1030 - accuracy: 0.9980\n",
      "Epoch 139/200\n",
      "32/32 [==============================] - 0s 2ms/step - loss: 0.1010 - accuracy: 0.9960\n",
      "Epoch 140/200\n",
      "32/32 [==============================] - 0s 2ms/step - loss: 0.0996 - accuracy: 0.9980\n",
      "Epoch 141/200\n",
      "32/32 [==============================] - 0s 2ms/step - loss: 0.0979 - accuracy: 0.9980\n",
      "Epoch 142/200\n",
      "32/32 [==============================] - 0s 2ms/step - loss: 0.0959 - accuracy: 0.9980\n",
      "Epoch 143/200\n",
      "32/32 [==============================] - 0s 2ms/step - loss: 0.0945 - accuracy: 0.9980\n",
      "Epoch 144/200\n",
      "32/32 [==============================] - 0s 2ms/step - loss: 0.0928 - accuracy: 0.9980\n",
      "Epoch 145/200\n",
      "32/32 [==============================] - 0s 2ms/step - loss: 0.0916 - accuracy: 0.9990\n",
      "Epoch 146/200\n",
      "32/32 [==============================] - 0s 2ms/step - loss: 0.0900 - accuracy: 0.9980\n",
      "Epoch 147/200\n",
      "32/32 [==============================] - 0s 2ms/step - loss: 0.0888 - accuracy: 0.9980\n",
      "Epoch 148/200\n",
      "32/32 [==============================] - 0s 2ms/step - loss: 0.0873 - accuracy: 0.9980\n",
      "Epoch 149/200\n",
      "32/32 [==============================] - 0s 2ms/step - loss: 0.0857 - accuracy: 0.9980\n",
      "Epoch 150/200\n",
      "32/32 [==============================] - 0s 2ms/step - loss: 0.0847 - accuracy: 0.9990\n",
      "Epoch 151/200\n",
      "32/32 [==============================] - 0s 2ms/step - loss: 0.0832 - accuracy: 0.9980\n",
      "Epoch 152/200\n",
      "32/32 [==============================] - 0s 2ms/step - loss: 0.0819 - accuracy: 0.9980\n",
      "Epoch 153/200\n",
      "32/32 [==============================] - 0s 2ms/step - loss: 0.0806 - accuracy: 0.9980\n",
      "Epoch 154/200\n",
      "32/32 [==============================] - 0s 2ms/step - loss: 0.0797 - accuracy: 0.9980\n",
      "Epoch 155/200\n",
      "32/32 [==============================] - 0s 2ms/step - loss: 0.0785 - accuracy: 0.9980\n",
      "Epoch 156/200\n",
      "32/32 [==============================] - 0s 2ms/step - loss: 0.0769 - accuracy: 0.9980\n",
      "Epoch 157/200\n",
      "32/32 [==============================] - 0s 2ms/step - loss: 0.0759 - accuracy: 0.9980\n",
      "Epoch 158/200\n",
      "32/32 [==============================] - 0s 1ms/step - loss: 0.0747 - accuracy: 0.9970\n",
      "Epoch 159/200\n",
      "32/32 [==============================] - 0s 3ms/step - loss: 0.0739 - accuracy: 0.9980\n",
      "Epoch 160/200\n",
      "32/32 [==============================] - 0s 2ms/step - loss: 0.0729 - accuracy: 0.9980\n",
      "Epoch 161/200\n",
      "32/32 [==============================] - 0s 2ms/step - loss: 0.0719 - accuracy: 0.9980\n",
      "Epoch 162/200\n",
      "32/32 [==============================] - 0s 2ms/step - loss: 0.0708 - accuracy: 0.9970\n",
      "Epoch 163/200\n",
      "32/32 [==============================] - 0s 2ms/step - loss: 0.0695 - accuracy: 0.9980\n",
      "Epoch 164/200\n"
     ]
    },
    {
     "name": "stdout",
     "output_type": "stream",
     "text": [
      "32/32 [==============================] - 0s 2ms/step - loss: 0.0688 - accuracy: 0.9980\n",
      "Epoch 165/200\n",
      "32/32 [==============================] - 0s 2ms/step - loss: 0.0678 - accuracy: 0.9980\n",
      "Epoch 166/200\n",
      "32/32 [==============================] - 0s 2ms/step - loss: 0.0671 - accuracy: 0.9980\n",
      "Epoch 167/200\n",
      "32/32 [==============================] - 0s 2ms/step - loss: 0.0662 - accuracy: 0.9980\n",
      "Epoch 168/200\n",
      "32/32 [==============================] - 0s 2ms/step - loss: 0.0654 - accuracy: 0.9980\n",
      "Epoch 169/200\n",
      "32/32 [==============================] - 0s 2ms/step - loss: 0.0643 - accuracy: 0.9980\n",
      "Epoch 170/200\n",
      "32/32 [==============================] - 0s 1ms/step - loss: 0.0633 - accuracy: 0.9980\n",
      "Epoch 171/200\n",
      "32/32 [==============================] - 0s 2ms/step - loss: 0.0623 - accuracy: 0.9980\n",
      "Epoch 172/200\n",
      "32/32 [==============================] - 0s 2ms/step - loss: 0.0614 - accuracy: 0.9980\n",
      "Epoch 173/200\n",
      "32/32 [==============================] - 0s 2ms/step - loss: 0.0608 - accuracy: 0.9980\n",
      "Epoch 174/200\n",
      "32/32 [==============================] - 0s 2ms/step - loss: 0.0601 - accuracy: 0.9980\n",
      "Epoch 175/200\n",
      "32/32 [==============================] - 0s 2ms/step - loss: 0.0592 - accuracy: 0.9980\n",
      "Epoch 176/200\n",
      "32/32 [==============================] - 0s 2ms/step - loss: 0.0589 - accuracy: 0.9980\n",
      "Epoch 177/200\n",
      "32/32 [==============================] - 0s 2ms/step - loss: 0.0576 - accuracy: 0.9980\n",
      "Epoch 178/200\n",
      "32/32 [==============================] - 0s 2ms/step - loss: 0.0571 - accuracy: 0.9980\n",
      "Epoch 179/200\n",
      "32/32 [==============================] - 0s 2ms/step - loss: 0.0563 - accuracy: 0.9980\n",
      "Epoch 180/200\n",
      "32/32 [==============================] - 0s 2ms/step - loss: 0.0556 - accuracy: 0.9980\n",
      "Epoch 181/200\n",
      "32/32 [==============================] - 0s 2ms/step - loss: 0.0548 - accuracy: 0.9980\n",
      "Epoch 182/200\n",
      "32/32 [==============================] - 0s 2ms/step - loss: 0.0543 - accuracy: 0.9980\n",
      "Epoch 183/200\n",
      "32/32 [==============================] - 0s 2ms/step - loss: 0.0538 - accuracy: 0.9990\n",
      "Epoch 184/200\n",
      "32/32 [==============================] - 0s 2ms/step - loss: 0.0533 - accuracy: 0.9990\n",
      "Epoch 185/200\n",
      "32/32 [==============================] - 0s 2ms/step - loss: 0.0524 - accuracy: 0.9980\n",
      "Epoch 186/200\n",
      "32/32 [==============================] - 0s 2ms/step - loss: 0.0517 - accuracy: 0.9980\n",
      "Epoch 187/200\n",
      "32/32 [==============================] - 0s 3ms/step - loss: 0.0512 - accuracy: 0.9980\n",
      "Epoch 188/200\n",
      "32/32 [==============================] - 0s 2ms/step - loss: 0.0508 - accuracy: 0.9980\n",
      "Epoch 189/200\n",
      "32/32 [==============================] - 0s 2ms/step - loss: 0.0500 - accuracy: 0.9980\n",
      "Epoch 190/200\n",
      "32/32 [==============================] - 0s 2ms/step - loss: 0.0495 - accuracy: 0.9970\n",
      "Epoch 191/200\n",
      "32/32 [==============================] - 0s 3ms/step - loss: 0.0485 - accuracy: 0.9980\n",
      "Epoch 192/200\n",
      "32/32 [==============================] - 0s 2ms/step - loss: 0.0482 - accuracy: 0.9980\n",
      "Epoch 193/200\n",
      "32/32 [==============================] - 0s 1ms/step - loss: 0.0476 - accuracy: 0.9980\n",
      "Epoch 194/200\n",
      "32/32 [==============================] - 0s 1ms/step - loss: 0.0475 - accuracy: 0.9980\n",
      "Epoch 195/200\n",
      "32/32 [==============================] - 0s 1ms/step - loss: 0.0468 - accuracy: 0.9980\n",
      "Epoch 196/200\n",
      "32/32 [==============================] - 0s 2ms/step - loss: 0.0461 - accuracy: 0.9970\n",
      "Epoch 197/200\n",
      "32/32 [==============================] - 0s 2ms/step - loss: 0.0458 - accuracy: 0.9980\n",
      "Epoch 198/200\n",
      "32/32 [==============================] - 0s 1ms/step - loss: 0.0451 - accuracy: 0.9980\n",
      "Epoch 199/200\n",
      "32/32 [==============================] - 0s 1ms/step - loss: 0.0448 - accuracy: 0.9980\n",
      "Epoch 200/200\n",
      "32/32 [==============================] - 0s 1ms/step - loss: 0.0446 - accuracy: 0.9980\n"
     ]
    }
   ],
   "source": [
    "# Set random seed\n",
    "tf.random.set_seed(42)\n",
    "\n",
    "# 1. Create the model\n",
    "model_7 = tf.keras.models.Sequential([\n",
    "    tf.keras.layers.Dense(4, activation=tf.keras.activations.relu),\n",
    "    tf.keras.layers.Dense(4, activation=tf.keras.activations.relu),\n",
    "    tf.keras.layers.Dense(1, activation=tf.keras.activations.sigmoid) # we are using sigmoid activation on the last layer because it is a binary classification problem\n",
    "])\n",
    "\n",
    "# 2. Compile the model\n",
    "model_7.compile(loss=tf.keras.losses.BinaryCrossentropy(),\n",
    "               optimizer=tf.keras.optimizers.Adam(lr=.001),\n",
    "               metrics=[\"accuracy\"])\n",
    "\n",
    "# 3. Fit the model\n",
    "history_7= model_7.fit(X,y,epochs=200, verbose=1)"
   ]
  },
  {
   "cell_type": "markdown",
   "id": "cd0a287d",
   "metadata": {},
   "source": [
    "The accuracy for our last model is 0.9980 (99.8%). This means that out 100 predictions, all of them are made right. This model is a good one."
   ]
  },
  {
   "cell_type": "markdown",
   "id": "a1e513ec",
   "metadata": {},
   "source": [
    "Let's visualize what how our model is performing on the data."
   ]
  },
  {
   "cell_type": "code",
   "execution_count": 28,
   "id": "53dd9a5b",
   "metadata": {},
   "outputs": [
    {
     "name": "stdout",
     "output_type": "stream",
     "text": [
      "313/313 [==============================] - 0s 1ms/step\n",
      "Doing binary classification\n"
     ]
    },
    {
     "data": {
      "image/png": "[encoded data removed]",
      "text/plain": [
       "<Figure size 432x288 with 1 Axes>"
      ]
     },
     "metadata": {
      "needs_background": "light"
     },
     "output_type": "display_data"
    }
   ],
   "source": [
    "# Check the decision boundary for our latest model\n",
    "plot_decision_boundary(model=model_7,X=X, y=y)"
   ]
  },
  {
   "cell_type": "markdown",
   "id": "ae820590",
   "metadata": {},
   "source": [
    "The model has an excellent decision boundary, which explain why it is performing so well on the data."
   ]
  },
  {
   "cell_type": "code",
   "execution_count": 29,
   "id": "3c404961",
   "metadata": {},
   "outputs": [
    {
     "data": {
      "image/png": "[encoded data removed]",
      "text/plain": [
       "<Figure size 432x288 with 1 Axes>"
      ]
     },
     "metadata": {
      "needs_background": "light"
     },
     "output_type": "display_data"
    }
   ],
   "source": [
    "# Plot history\n",
    "history_df7 = pd.DataFrame(history_7.history)\n",
    "\n",
    "sb.lineplot(data=history_df7, y=\"loss\", x=range(0,200),  label=\"Loss\" )\n",
    "sb.lineplot(data=history_df7, y=\"accuracy\", x=range(0,200), color=\"green\", label=\"Accuracy\" )\n",
    "\n",
    "plt.ylabel(\"Loss\")\n",
    "plt.xlabel(\"Epochs\")\n",
    "plt.legend(loc=\"upper left\")\n",
    "\n",
    "plt.title(\"Model performance\");"
   ]
  },
  {
   "cell_type": "code",
   "execution_count": null,
   "id": "76e16e88",
   "metadata": {},
   "outputs": [],
   "source": []
  },
  {
   "cell_type": "markdown",
   "id": "2ef62ab3",
   "metadata": {},
   "source": [
    "## Understanding how activation functions work\n",
    "\n",
    "The combination of linear (straight lines) and non-linear (non-straight lines) is one of the key fundamental of how a neural networks work.\n",
    "An activation function somewhat tells the neural network if a given layer should draw a straight or a non-straight line, and how it should draw it.\n",
    "\n",
    "Read [https://www.v7labs.com/blog/neural-networks-activation-functions](https://www.v7labs.com/blog/neural-networks-activation-functions) for further details.\n",
    "\n",
    "Let's see how activation functions work."
   ]
  },
  {
   "cell_type": "code",
   "execution_count": 30,
   "id": "95763937",
   "metadata": {},
   "outputs": [
    {
     "data": {
      "text/plain": [
       "<tf.Tensor: shape=(20,), dtype=float32, numpy=\n",
       "array([-10.,  -9.,  -8.,  -7.,  -6.,  -5.,  -4.,  -3.,  -2.,  -1.,   0.,\n",
       "         1.,   2.,   3.,   4.,   5.,   6.,   7.,   8.,   9.],\n",
       "      dtype=float32)>"
      ]
     },
     "execution_count": 30,
     "metadata": {},
     "output_type": "execute_result"
    }
   ],
   "source": [
    "# Create a toy tensor (similar to the data we pass to our models)\n",
    "A = tf.cast(tf.range(-10,10),tf.float32)\n",
    "A"
   ]
  },
  {
   "cell_type": "code",
   "execution_count": 31,
   "id": "5dce3eee",
   "metadata": {},
   "outputs": [
    {
     "data": {
      "image/png": "[encoded data removed]",
      "text/plain": [
       "<Figure size 432x288 with 1 Axes>"
      ]
     },
     "metadata": {
      "needs_background": "light"
     },
     "output_type": "display_data"
    }
   ],
   "source": [
    "# Visualize the toy tensor\n",
    "plt.plot(A);"
   ]
  },
  {
   "cell_type": "markdown",
   "id": "7cae33d7",
   "metadata": {},
   "source": [
    "Our tensor is a straight line. Let's try to apply a sigmoid function on it to see what it will become."
   ]
  },
  {
   "cell_type": "code",
   "execution_count": 32,
   "id": "8fd2f691",
   "metadata": {},
   "outputs": [
    {
     "data": {
      "text/plain": [
       "<tf.Tensor: shape=(20,), dtype=float32, numpy=\n",
       "array([4.5397872e-05, 1.2339458e-04, 3.3535014e-04, 9.1105117e-04,\n",
       "       2.4726233e-03, 6.6928510e-03, 1.7986210e-02, 4.7425874e-02,\n",
       "       1.1920292e-01, 2.6894143e-01, 5.0000000e-01, 7.3105860e-01,\n",
       "       8.8079703e-01, 9.5257413e-01, 9.8201376e-01, 9.9330717e-01,\n",
       "       9.9752742e-01, 9.9908900e-01, 9.9966466e-01, 9.9987662e-01],\n",
       "      dtype=float32)>"
      ]
     },
     "execution_count": 32,
     "metadata": {},
     "output_type": "execute_result"
    }
   ],
   "source": [
    "# Define a sigmoid function: sigmoid(x) = 1 / ( 1 + exp(-x) )\n",
    "def sigmoid(x):\n",
    "    return 1 / (1 + tf.exp(-x) )\n",
    "\n",
    "# Test the sigmoid function on our tensor\n",
    "sigmoid(A)"
   ]
  },
  {
   "cell_type": "markdown",
   "id": "6503a025",
   "metadata": {},
   "source": [
    "Now let us see what our data looks like after the sigmoid function is applied to it. Recall that the data was originally a straight line."
   ]
  },
  {
   "cell_type": "code",
   "execution_count": 33,
   "id": "176546da",
   "metadata": {},
   "outputs": [
    {
     "data": {
      "image/png": "[encoded data removed]",
      "text/plain": [
       "<Figure size 432x288 with 1 Axes>"
      ]
     },
     "metadata": {
      "needs_background": "light"
     },
     "output_type": "display_data"
    }
   ],
   "source": [
    "plt.plot(sigmoid(A));"
   ]
  },
  {
   "cell_type": "markdown",
   "id": "10d667b6",
   "metadata": {},
   "source": [
    "The data on which a sigmoid function is applied is now a non-straight line. That is what an activation function does: it introduce non-linearity in a model."
   ]
  },
  {
   "cell_type": "markdown",
   "id": "1c11d221",
   "metadata": {},
   "source": [
    "According to [https://www.v7labs.com/blog/neural-networks-activation-functions](https://www.v7labs.com/blog/neural-networks-activation-functions):\n",
    "\n",
    "*Activation functions introduce an additional step at each layer during the forward propagation, but its computation is worth it. Here is why—  <br/>\n",
    "Let’s suppose we have a neural network working without the activation functions.<br/>\n",
    "In that case, every neuron will only be performing a linear transformation on the inputs using the weights and biases. It’s because it doesn’t matter how many hidden layers we attach in the neural network; all layers will behave in the same way because the composition of two linear functions is a linear function itself. <br/>\n",
    "Although the neural network becomes simpler, learning any complex task is impossible, and our model would be just a linear regression model.*\n",
    "\n",
    "The same article talks about activation functions, and which type of straight or non-straight each line each one draws. "
   ]
  },
  {
   "cell_type": "code",
   "execution_count": 34,
   "id": "ac9cc9c9",
   "metadata": {},
   "outputs": [
    {
     "data": {
      "text/plain": [
       "<tf.Tensor: shape=(20,), dtype=float32, numpy=\n",
       "array([0., 0., 0., 0., 0., 0., 0., 0., 0., 0., 0., 1., 2., 3., 4., 5., 6.,\n",
       "       7., 8., 9.], dtype=float32)>"
      ]
     },
     "execution_count": 34,
     "metadata": {},
     "output_type": "execute_result"
    }
   ],
   "source": [
    "# Let's try to replicate relu function: relu(x)= max(0,X)\n",
    "def relu(x):\n",
    "    return tf.maximum(0,x)\n",
    "\n",
    "# Test relu function on our tensor\n",
    "relu(A)"
   ]
  },
  {
   "cell_type": "markdown",
   "id": "69c89cef",
   "metadata": {},
   "source": [
    "Now let us see what our data looks like after the relu function is applied to it. Recall that the data is originally a straight line."
   ]
  },
  {
   "cell_type": "code",
   "execution_count": 35,
   "id": "c8515f84",
   "metadata": {},
   "outputs": [
    {
     "data": {
      "image/png": "[encoded data removed]",
      "text/plain": [
       "<Figure size 432x288 with 1 Axes>"
      ]
     },
     "metadata": {
      "needs_background": "light"
     },
     "output_type": "display_data"
    }
   ],
   "source": [
    "plt.plot(relu(A));"
   ]
  },
  {
   "cell_type": "code",
   "execution_count": null,
   "id": "381236ee",
   "metadata": {},
   "outputs": [],
   "source": []
  },
  {
   "cell_type": "markdown",
   "id": "44598a7e",
   "metadata": {},
   "source": [
    "In conclusion, an activation function gives its layer the ability to draw a straight or a non-straight line. In the case of a non-straight line, the specific line is define by the activation function."
   ]
  },
  {
   "cell_type": "markdown",
   "id": "f18bcb04",
   "metadata": {},
   "source": [
    "📖 : [https://ml-cheatsheet.readthedocs.io/en/latest/activation_functions.html](https://ml-cheatsheet.readthedocs.io/en/latest/activation_functions.html)"
   ]
  },
  {
   "cell_type": "code",
   "execution_count": null,
   "id": "3058bfde",
   "metadata": {},
   "outputs": [],
   "source": []
  },
  {
   "cell_type": "markdown",
   "id": "29c22e2a",
   "metadata": {},
   "source": [
    "## Leveraging the learning rate to improve the model convergence time\n",
    "\n",
    "From here, we will create a training and a test set."
   ]
  },
  {
   "cell_type": "code",
   "execution_count": 36,
   "id": "628ef15b",
   "metadata": {},
   "outputs": [
    {
     "data": {
      "text/plain": [
       "1000"
      ]
     },
     "execution_count": 36,
     "metadata": {},
     "output_type": "execute_result"
    }
   ],
   "source": [
    "len(X)"
   ]
  },
  {
   "cell_type": "code",
   "execution_count": 37,
   "id": "db37a23f",
   "metadata": {},
   "outputs": [
    {
     "data": {
      "text/plain": [
       "(800, 800, 200, 200)"
      ]
     },
     "execution_count": 37,
     "metadata": {},
     "output_type": "execute_result"
    }
   ],
   "source": [
    "# Split manually into train and test sets\n",
    "X_train, y_train = X[:800,:], y[:800]\n",
    "X_test, y_test= X[800:,:], y[800:]\n",
    "len(X_train), len(y_train), len(X_test), len(y_test)"
   ]
  },
  {
   "cell_type": "code",
   "execution_count": 38,
   "id": "dfb04e16",
   "metadata": {},
   "outputs": [
    {
     "name": "stdout",
     "output_type": "stream",
     "text": [
      "Epoch 1/50\n"
     ]
    },
    {
     "name": "stderr",
     "output_type": "stream",
     "text": [
      "C:\\ProgramData\\Anaconda3\\lib\\site-packages\\keras\\optimizers\\optimizer_v2\\adam.py:114: UserWarning: The `lr` argument is deprecated, use `learning_rate` instead.\n",
      "  super().__init__(name, **kwargs)\n"
     ]
    },
    {
     "name": "stdout",
     "output_type": "stream",
     "text": [
      "25/25 [==============================] - 1s 2ms/step - loss: 0.6927 - accuracy: 0.5025\n",
      "Epoch 2/50\n",
      "25/25 [==============================] - 0s 2ms/step - loss: 0.6865 - accuracy: 0.5425\n",
      "Epoch 3/50\n",
      "25/25 [==============================] - 0s 2ms/step - loss: 0.6816 - accuracy: 0.5500\n",
      "Epoch 4/50\n",
      "25/25 [==============================] - 0s 2ms/step - loss: 0.6742 - accuracy: 0.6137\n",
      "Epoch 5/50\n",
      "25/25 [==============================] - 0s 2ms/step - loss: 0.6665 - accuracy: 0.6075\n",
      "Epoch 6/50\n",
      "25/25 [==============================] - 0s 2ms/step - loss: 0.6537 - accuracy: 0.5938\n",
      "Epoch 7/50\n",
      "25/25 [==============================] - 0s 2ms/step - loss: 0.6353 - accuracy: 0.6750\n",
      "Epoch 8/50\n",
      "25/25 [==============================] - 0s 2ms/step - loss: 0.6111 - accuracy: 0.7025\n",
      "Epoch 9/50\n",
      "25/25 [==============================] - 0s 2ms/step - loss: 0.5641 - accuracy: 0.7788\n",
      "Epoch 10/50\n",
      "25/25 [==============================] - 0s 2ms/step - loss: 0.5108 - accuracy: 0.8163\n",
      "Epoch 11/50\n",
      "25/25 [==============================] - 0s 2ms/step - loss: 0.4539 - accuracy: 0.8263\n",
      "Epoch 12/50\n",
      "25/25 [==============================] - 0s 2ms/step - loss: 0.3926 - accuracy: 0.8988\n",
      "Epoch 13/50\n",
      "25/25 [==============================] - 0s 2ms/step - loss: 0.3290 - accuracy: 0.9663\n",
      "Epoch 14/50\n",
      "25/25 [==============================] - 0s 2ms/step - loss: 0.2678 - accuracy: 0.9862\n",
      "Epoch 15/50\n",
      "25/25 [==============================] - 0s 2ms/step - loss: 0.2139 - accuracy: 0.9900\n",
      "Epoch 16/50\n",
      "25/25 [==============================] - 0s 2ms/step - loss: 0.1776 - accuracy: 0.9962\n",
      "Epoch 17/50\n",
      "25/25 [==============================] - 0s 2ms/step - loss: 0.1487 - accuracy: 0.9950\n",
      "Epoch 18/50\n",
      "25/25 [==============================] - 0s 2ms/step - loss: 0.1306 - accuracy: 0.9937\n",
      "Epoch 19/50\n",
      "25/25 [==============================] - 0s 2ms/step - loss: 0.1115 - accuracy: 0.9962\n",
      "Epoch 20/50\n",
      "25/25 [==============================] - 0s 2ms/step - loss: 0.1036 - accuracy: 0.9950\n",
      "Epoch 21/50\n",
      "25/25 [==============================] - 0s 2ms/step - loss: 0.0801 - accuracy: 0.9962\n",
      "Epoch 22/50\n",
      "25/25 [==============================] - 0s 2ms/step - loss: 0.0684 - accuracy: 0.9975\n",
      "Epoch 23/50\n",
      "25/25 [==============================] - 0s 2ms/step - loss: 0.0634 - accuracy: 0.9987\n",
      "Epoch 24/50\n",
      "25/25 [==============================] - 0s 2ms/step - loss: 0.0611 - accuracy: 0.9987\n",
      "Epoch 25/50\n",
      "25/25 [==============================] - 0s 2ms/step - loss: 0.0542 - accuracy: 0.9975\n",
      "Epoch 26/50\n",
      "25/25 [==============================] - 0s 2ms/step - loss: 0.0473 - accuracy: 0.9987\n",
      "Epoch 27/50\n",
      "25/25 [==============================] - 0s 2ms/step - loss: 0.0446 - accuracy: 0.9987\n",
      "Epoch 28/50\n",
      "25/25 [==============================] - 0s 2ms/step - loss: 0.0430 - accuracy: 0.9987\n",
      "Epoch 29/50\n",
      "25/25 [==============================] - 0s 2ms/step - loss: 0.0417 - accuracy: 0.9975\n",
      "Epoch 30/50\n",
      "25/25 [==============================] - 0s 2ms/step - loss: 0.0411 - accuracy: 0.9987\n",
      "Epoch 31/50\n",
      "25/25 [==============================] - 0s 2ms/step - loss: 0.0397 - accuracy: 0.9950\n",
      "Epoch 32/50\n",
      "25/25 [==============================] - 0s 2ms/step - loss: 0.0364 - accuracy: 0.9975\n",
      "Epoch 33/50\n",
      "25/25 [==============================] - 0s 2ms/step - loss: 0.0329 - accuracy: 0.9987\n",
      "Epoch 34/50\n",
      "25/25 [==============================] - 0s 2ms/step - loss: 0.0284 - accuracy: 1.0000\n",
      "Epoch 35/50\n",
      "25/25 [==============================] - 0s 2ms/step - loss: 0.0270 - accuracy: 0.9987\n",
      "Epoch 36/50\n",
      "25/25 [==============================] - 0s 1ms/step - loss: 0.0276 - accuracy: 0.9987\n",
      "Epoch 37/50\n",
      "25/25 [==============================] - 0s 1ms/step - loss: 0.0275 - accuracy: 0.9987\n",
      "Epoch 38/50\n",
      "25/25 [==============================] - 0s 2ms/step - loss: 0.0273 - accuracy: 1.0000\n",
      "Epoch 39/50\n",
      "25/25 [==============================] - 0s 2ms/step - loss: 0.0272 - accuracy: 0.9987\n",
      "Epoch 40/50\n",
      "25/25 [==============================] - 0s 2ms/step - loss: 0.0241 - accuracy: 0.9987\n",
      "Epoch 41/50\n",
      "25/25 [==============================] - 0s 2ms/step - loss: 0.0234 - accuracy: 1.0000\n",
      "Epoch 42/50\n",
      "25/25 [==============================] - 0s 2ms/step - loss: 0.0221 - accuracy: 1.0000\n",
      "Epoch 43/50\n",
      "25/25 [==============================] - 0s 2ms/step - loss: 0.0220 - accuracy: 0.9987\n",
      "Epoch 44/50\n",
      "25/25 [==============================] - 0s 2ms/step - loss: 0.0197 - accuracy: 1.0000\n",
      "Epoch 45/50\n",
      "25/25 [==============================] - 0s 2ms/step - loss: 0.0191 - accuracy: 0.9987\n",
      "Epoch 46/50\n",
      "25/25 [==============================] - 0s 2ms/step - loss: 0.0192 - accuracy: 1.0000\n",
      "Epoch 47/50\n",
      "25/25 [==============================] - 0s 2ms/step - loss: 0.0173 - accuracy: 1.0000\n",
      "Epoch 48/50\n",
      "25/25 [==============================] - 0s 2ms/step - loss: 0.0174 - accuracy: 1.0000\n",
      "Epoch 49/50\n",
      "25/25 [==============================] - 0s 2ms/step - loss: 0.0174 - accuracy: 1.0000\n",
      "Epoch 50/50\n",
      "25/25 [==============================] - 0s 2ms/step - loss: 0.0174 - accuracy: 1.0000\n"
     ]
    }
   ],
   "source": [
    "# Set random seed\n",
    "tf.random.set_seed(42)\n",
    "\n",
    "# 1. Create the model\n",
    "model_8 = tf.keras.models.Sequential([\n",
    "    tf.keras.layers.Dense(4,activation=tf.keras.activations.relu),\n",
    "    tf.keras.layers.Dense(4,activation=tf.keras.activations.relu),\n",
    "    tf.keras.layers.Dense(1,activation=tf.keras.activations.sigmoid)\n",
    "])\n",
    "\n",
    "# 2. Compile the model\n",
    "model_8.compile(loss=tf.keras.losses.BinaryCrossentropy(),\n",
    "               optimizer=tf.keras.optimizers.Adam(lr=.01), # We set the learning rate to 0.01 (it was 0.001). The learning rate tell by how much the model should update its weights and bias\n",
    "               metrics=[\"accuracy\"])\n",
    "\n",
    "# 3. Fit the model\n",
    "history_8 = model_8.fit(X_train, y_train, epochs=50, verbose=1) # We decrease the epochs to 50"
   ]
  },
  {
   "cell_type": "markdown",
   "id": "e5572e2f",
   "metadata": {},
   "source": [
    "Because we increase the learning rate, the model learned faster."
   ]
  },
  {
   "cell_type": "code",
   "execution_count": 39,
   "id": "33e82ef3",
   "metadata": {},
   "outputs": [
    {
     "name": "stdout",
     "output_type": "stream",
     "text": [
      "7/7 [==============================] - 0s 1ms/step - loss: 0.0245 - accuracy: 0.9950\n"
     ]
    },
    {
     "data": {
      "text/plain": [
       "[0.024531379342079163, 0.9950000047683716]"
      ]
     },
     "execution_count": 39,
     "metadata": {},
     "output_type": "execute_result"
    }
   ],
   "source": [
    "# 4. Evaluate the model\n",
    "model_8.evaluate(X_test,y_test)"
   ]
  },
  {
   "cell_type": "markdown",
   "id": "c9ff0206",
   "metadata": {},
   "source": [
    "On the test set (data that the model has never seen before), we got an accuracy of 96.5% (over a 100 predictions, 96 were made right)"
   ]
  },
  {
   "cell_type": "code",
   "execution_count": null,
   "id": "3c38966e",
   "metadata": {},
   "outputs": [],
   "source": []
  },
  {
   "cell_type": "code",
   "execution_count": 40,
   "id": "45d0d343",
   "metadata": {},
   "outputs": [
    {
     "data": {
      "image/png": "[encoded data removed]",
      "text/plain": [
       "<Figure size 432x288 with 1 Axes>"
      ]
     },
     "metadata": {
      "needs_background": "light"
     },
     "output_type": "display_data"
    }
   ],
   "source": [
    "# Plot history\n",
    "history_df8 = pd.DataFrame(history_8.history)\n",
    "\n",
    "sb.lineplot(data=history_df8, y=\"loss\", x=range(0,50),  label=\"Loss\" )\n",
    "sb.lineplot(data=history_df8, y=\"accuracy\", x=range(0,50), color=\"green\", label=\"Accuracy\" )\n",
    "\n",
    "plt.ylabel(\"Loss\")\n",
    "plt.xlabel(\"Epochs\")\n",
    "plt.legend(loc=\"upper left\")\n",
    "\n",
    "plt.title(\"Model performance\");"
   ]
  },
  {
   "cell_type": "code",
   "execution_count": 41,
   "id": "09802a56",
   "metadata": {},
   "outputs": [
    {
     "data": {
      "image/png": "[encoded data removed]",
      "text/plain": [
       "<Figure size 432x288 with 1 Axes>"
      ]
     },
     "metadata": {
      "needs_background": "light"
     },
     "output_type": "display_data"
    }
   ],
   "source": [
    "# Another way to make the above plot\n",
    "history_df8.plot()\n",
    "\n",
    "plt.title(\"Model performance\");"
   ]
  },
  {
   "cell_type": "code",
   "execution_count": null,
   "id": "eae6c410",
   "metadata": {},
   "outputs": [],
   "source": []
  },
  {
   "cell_type": "code",
   "execution_count": 42,
   "id": "ce81fe15",
   "metadata": {},
   "outputs": [
    {
     "name": "stdout",
     "output_type": "stream",
     "text": [
      "313/313 [==============================] - 0s 1ms/step\n",
      "Doing binary classification\n"
     ]
    },
    {
     "data": {
      "image/png": "[encoded data removed]",
      "text/plain": [
       "<Figure size 432x288 with 1 Axes>"
      ]
     },
     "metadata": {
      "needs_background": "light"
     },
     "output_type": "display_data"
    }
   ],
   "source": [
    "# Plot decision boundary for training set\n",
    "plot_decision_boundary(model=model_8,X=X_train, y=y_train)"
   ]
  },
  {
   "cell_type": "code",
   "execution_count": 43,
   "id": "4182e42d",
   "metadata": {},
   "outputs": [
    {
     "name": "stdout",
     "output_type": "stream",
     "text": [
      "313/313 [==============================] - 0s 1ms/step\n",
      "Doing binary classification\n"
     ]
    },
    {
     "data": {
      "image/png": "[encoded data removed]",
      "text/plain": [
       "<Figure size 432x288 with 1 Axes>"
      ]
     },
     "metadata": {
      "needs_background": "light"
     },
     "output_type": "display_data"
    }
   ],
   "source": [
    "# Plot decision boundary for test set\n",
    "plot_decision_boundary(model=model_8,X=X_test, y=y_test)"
   ]
  },
  {
   "cell_type": "code",
   "execution_count": null,
   "id": "7fc5db7b",
   "metadata": {},
   "outputs": [],
   "source": []
  },
  {
   "cell_type": "markdown",
   "id": "ae1ef4c8",
   "metadata": {},
   "source": [
    "📕 The main takeaway is all we did was took `model_7`, increased its learning rate by 10 times (from 0.001 to 0.01), and the model converged faster."
   ]
  },
  {
   "cell_type": "code",
   "execution_count": null,
   "id": "52866341",
   "metadata": {},
   "outputs": [],
   "source": []
  },
  {
   "cell_type": "markdown",
   "id": "3355f625",
   "metadata": {},
   "source": [
    "## Find a model ideal learning rate"
   ]
  },
  {
   "cell_type": "markdown",
   "id": "9c198af1",
   "metadata": {},
   "source": [
    "In order to find our model ideal learning rate, we are going to have to visualize our loss decreasing and potentially decrease our learning rate during training.     \n",
    "The plot in the next cell let's visualizing the loss deacreasing."
   ]
  },
  {
   "cell_type": "code",
   "execution_count": 44,
   "id": "ee062641",
   "metadata": {},
   "outputs": [
    {
     "data": {
      "image/png": "[encoded data removed]",
      "text/plain": [
       "<Figure size 432x288 with 1 Axes>"
      ]
     },
     "metadata": {
      "needs_background": "light"
     },
     "output_type": "display_data"
    }
   ],
   "source": [
    "# Observing a model performance in training\n",
    "history_df8.plot()\n",
    "\n",
    "plt.title(\"Model performance\");"
   ]
  },
  {
   "cell_type": "markdown",
   "id": "573ec68f",
   "metadata": {},
   "source": [
    "Now the objective is to update the learning rate during training."
   ]
  },
  {
   "cell_type": "markdown",
   "id": "50c52b07",
   "metadata": {},
   "source": [
    "To find the ideal learning rate (the learning rate where the loss decreases the most during training), we are going to use the following steps:\n",
    "* A **learning rate callback**: it an extra-piece of functionality that can be added to a model while it's training.\n",
    "* A **modified loss curves plot**: it is similar to the loss curve plotted previously, but we are going to have to modify it because we are going to set up a learning rate callback to start at a certain value of a learning rate and gradually decrease or increase that learning rate during training; and then, we will make another plot of \"the loss versus the learning rate\" to find out the learning rate value at which the loss decreases the most."
   ]
  },
  {
   "cell_type": "code",
   "execution_count": 45,
   "id": "d1c1885d",
   "metadata": {},
   "outputs": [
    {
     "name": "stdout",
     "output_type": "stream",
     "text": [
      "Epoch 1/100\n"
     ]
    },
    {
     "name": "stderr",
     "output_type": "stream",
     "text": [
      "C:\\ProgramData\\Anaconda3\\lib\\site-packages\\keras\\optimizers\\optimizer_v2\\adam.py:114: UserWarning: The `lr` argument is deprecated, use `learning_rate` instead.\n",
      "  super().__init__(name, **kwargs)\n"
     ]
    },
    {
     "name": "stdout",
     "output_type": "stream",
     "text": [
      "25/25 [==============================] - 1s 2ms/step - loss: 0.7063 - accuracy: 0.4950 - lr: 1.0000e-04\n",
      "Epoch 2/100\n",
      "25/25 [==============================] - 0s 2ms/step - loss: 0.7051 - accuracy: 0.4963 - lr: 1.1220e-04\n",
      "Epoch 3/100\n",
      "25/25 [==============================] - 0s 2ms/step - loss: 0.7039 - accuracy: 0.4975 - lr: 1.2589e-04\n",
      "Epoch 4/100\n",
      "25/25 [==============================] - 0s 1ms/step - loss: 0.7026 - accuracy: 0.4963 - lr: 1.4125e-04\n",
      "Epoch 5/100\n",
      "25/25 [==============================] - 0s 1ms/step - loss: 0.7013 - accuracy: 0.4950 - lr: 1.5849e-04\n",
      "Epoch 6/100\n",
      "25/25 [==============================] - 0s 2ms/step - loss: 0.6998 - accuracy: 0.4975 - lr: 1.7783e-04\n",
      "Epoch 7/100\n",
      "25/25 [==============================] - 0s 2ms/step - loss: 0.6984 - accuracy: 0.4975 - lr: 1.9953e-04\n",
      "Epoch 8/100\n",
      "25/25 [==============================] - 0s 1ms/step - loss: 0.6970 - accuracy: 0.4975 - lr: 2.2387e-04\n",
      "Epoch 9/100\n",
      "25/25 [==============================] - 0s 2ms/step - loss: 0.6956 - accuracy: 0.4988 - lr: 2.5119e-04\n",
      "Epoch 10/100\n",
      "25/25 [==============================] - 0s 1ms/step - loss: 0.6940 - accuracy: 0.5013 - lr: 2.8184e-04\n",
      "Epoch 11/100\n",
      "25/25 [==============================] - 0s 2ms/step - loss: 0.6926 - accuracy: 0.4988 - lr: 3.1623e-04\n",
      "Epoch 12/100\n",
      "25/25 [==============================] - 0s 1ms/step - loss: 0.6914 - accuracy: 0.5038 - lr: 3.5481e-04\n",
      "Epoch 13/100\n",
      "25/25 [==============================] - 0s 1ms/step - loss: 0.6898 - accuracy: 0.5063 - lr: 3.9811e-04\n",
      "Epoch 14/100\n",
      "25/25 [==============================] - 0s 1ms/step - loss: 0.6885 - accuracy: 0.5038 - lr: 4.4668e-04\n",
      "Epoch 15/100\n",
      "25/25 [==============================] - 0s 1ms/step - loss: 0.6872 - accuracy: 0.5075 - lr: 5.0119e-04\n",
      "Epoch 16/100\n",
      "25/25 [==============================] - 0s 2ms/step - loss: 0.6860 - accuracy: 0.5075 - lr: 5.6234e-04\n",
      "Epoch 17/100\n",
      "25/25 [==============================] - 0s 2ms/step - loss: 0.6851 - accuracy: 0.5063 - lr: 6.3096e-04\n",
      "Epoch 18/100\n",
      "25/25 [==============================] - 0s 1ms/step - loss: 0.6839 - accuracy: 0.5075 - lr: 7.0795e-04\n",
      "Epoch 19/100\n",
      "25/25 [==============================] - 0s 2ms/step - loss: 0.6829 - accuracy: 0.5113 - lr: 7.9433e-04\n",
      "Epoch 20/100\n",
      "25/25 [==============================] - 0s 1ms/step - loss: 0.6819 - accuracy: 0.5088 - lr: 8.9125e-04\n",
      "Epoch 21/100\n",
      "25/25 [==============================] - 0s 1ms/step - loss: 0.6809 - accuracy: 0.5100 - lr: 0.0010\n",
      "Epoch 22/100\n",
      "25/25 [==============================] - 0s 1ms/step - loss: 0.6799 - accuracy: 0.5150 - lr: 0.0011\n",
      "Epoch 23/100\n",
      "25/25 [==============================] - 0s 2ms/step - loss: 0.6788 - accuracy: 0.5263 - lr: 0.0013\n",
      "Epoch 24/100\n",
      "25/25 [==============================] - 0s 2ms/step - loss: 0.6778 - accuracy: 0.5387 - lr: 0.0014\n",
      "Epoch 25/100\n",
      "25/25 [==============================] - 0s 2ms/step - loss: 0.6766 - accuracy: 0.5537 - lr: 0.0016\n",
      "Epoch 26/100\n",
      "25/25 [==============================] - 0s 2ms/step - loss: 0.6754 - accuracy: 0.5562 - lr: 0.0018\n",
      "Epoch 27/100\n",
      "25/25 [==============================] - 0s 2ms/step - loss: 0.6742 - accuracy: 0.5462 - lr: 0.0020\n",
      "Epoch 28/100\n",
      "25/25 [==============================] - 0s 2ms/step - loss: 0.6719 - accuracy: 0.5725 - lr: 0.0022\n",
      "Epoch 29/100\n",
      "25/25 [==============================] - 0s 2ms/step - loss: 0.6702 - accuracy: 0.6037 - lr: 0.0025\n",
      "Epoch 30/100\n",
      "25/25 [==============================] - 0s 2ms/step - loss: 0.6677 - accuracy: 0.6463 - lr: 0.0028\n",
      "Epoch 31/100\n",
      "25/25 [==============================] - 0s 2ms/step - loss: 0.6648 - accuracy: 0.6263 - lr: 0.0032\n",
      "Epoch 32/100\n",
      "25/25 [==============================] - 0s 2ms/step - loss: 0.6605 - accuracy: 0.6288 - lr: 0.0035\n",
      "Epoch 33/100\n",
      "25/25 [==============================] - 0s 1ms/step - loss: 0.6545 - accuracy: 0.6413 - lr: 0.0040\n",
      "Epoch 34/100\n",
      "25/25 [==============================] - 0s 1ms/step - loss: 0.6464 - accuracy: 0.7188 - lr: 0.0045\n",
      "Epoch 35/100\n",
      "25/25 [==============================] - 0s 1ms/step - loss: 0.6351 - accuracy: 0.7850 - lr: 0.0050\n",
      "Epoch 36/100\n",
      "25/25 [==============================] - 0s 2ms/step - loss: 0.6207 - accuracy: 0.7100 - lr: 0.0056\n",
      "Epoch 37/100\n",
      "25/25 [==============================] - 0s 2ms/step - loss: 0.5986 - accuracy: 0.7600 - lr: 0.0063\n",
      "Epoch 38/100\n",
      "25/25 [==============================] - 0s 2ms/step - loss: 0.5756 - accuracy: 0.7500 - lr: 0.0071\n",
      "Epoch 39/100\n",
      "25/25 [==============================] - 0s 2ms/step - loss: 0.5499 - accuracy: 0.7837 - lr: 0.0079\n",
      "Epoch 40/100\n",
      "25/25 [==============================] - 0s 2ms/step - loss: 0.5039 - accuracy: 0.8388 - lr: 0.0089\n",
      "Epoch 41/100\n",
      "25/25 [==============================] - 0s 2ms/step - loss: 0.4357 - accuracy: 0.8988 - lr: 0.0100\n",
      "Epoch 42/100\n",
      "25/25 [==============================] - 0s 2ms/step - loss: 0.3639 - accuracy: 0.9450 - lr: 0.0112\n",
      "Epoch 43/100\n",
      "25/25 [==============================] - 0s 2ms/step - loss: 0.2899 - accuracy: 0.9650 - lr: 0.0126\n",
      "Epoch 44/100\n",
      "25/25 [==============================] - 0s 2ms/step - loss: 0.2406 - accuracy: 0.9563 - lr: 0.0141\n",
      "Epoch 45/100\n",
      "25/25 [==============================] - 0s 2ms/step - loss: 0.1883 - accuracy: 0.9737 - lr: 0.0158\n",
      "Epoch 46/100\n",
      "25/25 [==============================] - 0s 2ms/step - loss: 0.1256 - accuracy: 0.9850 - lr: 0.0178\n",
      "Epoch 47/100\n",
      "25/25 [==============================] - 0s 1ms/step - loss: 0.1042 - accuracy: 0.9875 - lr: 0.0200\n",
      "Epoch 48/100\n",
      "25/25 [==============================] - 0s 1ms/step - loss: 0.0915 - accuracy: 0.9850 - lr: 0.0224\n",
      "Epoch 49/100\n",
      "25/25 [==============================] - 0s 1ms/step - loss: 0.0685 - accuracy: 0.9912 - lr: 0.0251\n",
      "Epoch 50/100\n",
      "25/25 [==============================] - 0s 1ms/step - loss: 0.0531 - accuracy: 0.9937 - lr: 0.0282\n",
      "Epoch 51/100\n",
      "25/25 [==============================] - 0s 2ms/step - loss: 0.0630 - accuracy: 0.9850 - lr: 0.0316\n",
      "Epoch 52/100\n",
      "25/25 [==============================] - 0s 2ms/step - loss: 0.0996 - accuracy: 0.9525 - lr: 0.0355\n",
      "Epoch 53/100\n",
      "25/25 [==============================] - 0s 2ms/step - loss: 0.0567 - accuracy: 0.9825 - lr: 0.0398\n",
      "Epoch 54/100\n",
      "25/25 [==============================] - 0s 2ms/step - loss: 0.0445 - accuracy: 0.9875 - lr: 0.0447\n",
      "Epoch 55/100\n",
      "25/25 [==============================] - 0s 1ms/step - loss: 0.1707 - accuracy: 0.9312 - lr: 0.0501\n",
      "Epoch 56/100\n",
      "25/25 [==============================] - 0s 2ms/step - loss: 0.0979 - accuracy: 0.9638 - lr: 0.0562\n",
      "Epoch 57/100\n",
      "25/25 [==============================] - 0s 2ms/step - loss: 0.0331 - accuracy: 0.9912 - lr: 0.0631\n",
      "Epoch 58/100\n",
      "25/25 [==============================] - 0s 2ms/step - loss: 0.0428 - accuracy: 0.9862 - lr: 0.0708\n",
      "Epoch 59/100\n",
      "25/25 [==============================] - 0s 2ms/step - loss: 0.1646 - accuracy: 0.9375 - lr: 0.0794\n",
      "Epoch 60/100\n",
      "25/25 [==============================] - 0s 1ms/step - loss: 0.0948 - accuracy: 0.9638 - lr: 0.0891\n",
      "Epoch 61/100\n",
      "25/25 [==============================] - 0s 1ms/step - loss: 0.0400 - accuracy: 0.9862 - lr: 0.1000\n",
      "Epoch 62/100\n",
      "25/25 [==============================] - 0s 2ms/step - loss: 0.1130 - accuracy: 0.9513 - lr: 0.1122\n",
      "Epoch 63/100\n",
      "25/25 [==============================] - 0s 1ms/step - loss: 0.1618 - accuracy: 0.9425 - lr: 0.1259\n",
      "Epoch 64/100\n",
      "25/25 [==============================] - 0s 1ms/step - loss: 0.0798 - accuracy: 0.9663 - lr: 0.1413\n",
      "Epoch 65/100\n",
      "25/25 [==============================] - 0s 2ms/step - loss: 0.0637 - accuracy: 0.9812 - lr: 0.1585\n",
      "Epoch 66/100\n",
      "25/25 [==============================] - 0s 2ms/step - loss: 0.3602 - accuracy: 0.8938 - lr: 0.1778\n",
      "Epoch 67/100\n",
      "25/25 [==============================] - 0s 1ms/step - loss: 0.3169 - accuracy: 0.8550 - lr: 0.1995\n",
      "Epoch 68/100\n",
      "25/25 [==============================] - 0s 1ms/step - loss: 0.1160 - accuracy: 0.9550 - lr: 0.2239\n",
      "Epoch 69/100\n",
      "25/25 [==============================] - 0s 1ms/step - loss: 0.4019 - accuracy: 0.8525 - lr: 0.2512\n",
      "Epoch 70/100\n",
      "25/25 [==============================] - 0s 2ms/step - loss: 0.5790 - accuracy: 0.6775 - lr: 0.2818\n",
      "Epoch 71/100\n",
      "25/25 [==============================] - 0s 1ms/step - loss: 0.4651 - accuracy: 0.7688 - lr: 0.3162\n",
      "Epoch 72/100\n",
      "25/25 [==============================] - 0s 1ms/step - loss: 0.2126 - accuracy: 0.9287 - lr: 0.3548\n"
     ]
    },
    {
     "name": "stdout",
     "output_type": "stream",
     "text": [
      "Epoch 73/100\n",
      "25/25 [==============================] - 0s 1ms/step - loss: 0.4513 - accuracy: 0.8438 - lr: 0.3981\n",
      "Epoch 74/100\n",
      "25/25 [==============================] - 0s 2ms/step - loss: 0.5677 - accuracy: 0.6650 - lr: 0.4467\n",
      "Epoch 75/100\n",
      "25/25 [==============================] - 0s 1ms/step - loss: 0.5631 - accuracy: 0.6800 - lr: 0.5012\n",
      "Epoch 76/100\n",
      "25/25 [==============================] - 0s 1ms/step - loss: 0.6034 - accuracy: 0.6313 - lr: 0.5623\n",
      "Epoch 77/100\n",
      "25/25 [==============================] - 0s 1ms/step - loss: 0.6261 - accuracy: 0.5850 - lr: 0.6310\n",
      "Epoch 78/100\n",
      "25/25 [==============================] - 0s 1ms/step - loss: 0.6451 - accuracy: 0.6025 - lr: 0.7079\n",
      "Epoch 79/100\n",
      "25/25 [==============================] - 0s 1ms/step - loss: 0.7412 - accuracy: 0.5150 - lr: 0.7943\n",
      "Epoch 80/100\n",
      "25/25 [==============================] - 0s 2ms/step - loss: 0.6397 - accuracy: 0.6025 - lr: 0.8913\n",
      "Epoch 81/100\n",
      "25/25 [==============================] - 0s 2ms/step - loss: 0.7144 - accuracy: 0.5275 - lr: 1.0000\n",
      "Epoch 82/100\n",
      "25/25 [==============================] - 0s 1ms/step - loss: 0.7161 - accuracy: 0.5088 - lr: 1.1220\n",
      "Epoch 83/100\n",
      "25/25 [==============================] - 0s 2ms/step - loss: 0.7246 - accuracy: 0.4787 - lr: 1.2589\n",
      "Epoch 84/100\n",
      "25/25 [==============================] - 0s 1ms/step - loss: 0.7063 - accuracy: 0.5088 - lr: 1.4125\n",
      "Epoch 85/100\n",
      "25/25 [==============================] - 0s 1ms/step - loss: 0.7275 - accuracy: 0.5038 - lr: 1.5849\n",
      "Epoch 86/100\n",
      "25/25 [==============================] - 0s 1ms/step - loss: 0.7720 - accuracy: 0.5038 - lr: 1.7783\n",
      "Epoch 87/100\n",
      "25/25 [==============================] - 0s 1ms/step - loss: 0.7679 - accuracy: 0.5063 - lr: 1.9953\n",
      "Epoch 88/100\n",
      "25/25 [==============================] - 0s 1ms/step - loss: 0.7579 - accuracy: 0.5163 - lr: 2.2387\n",
      "Epoch 89/100\n",
      "25/25 [==============================] - 0s 1ms/step - loss: 0.7598 - accuracy: 0.4913 - lr: 2.5119\n",
      "Epoch 90/100\n",
      "25/25 [==============================] - 0s 1ms/step - loss: 0.7844 - accuracy: 0.5038 - lr: 2.8184\n",
      "Epoch 91/100\n",
      "25/25 [==============================] - 0s 1ms/step - loss: 0.8067 - accuracy: 0.5213 - lr: 3.1623\n",
      "Epoch 92/100\n",
      "25/25 [==============================] - 0s 1ms/step - loss: 0.7369 - accuracy: 0.4963 - lr: 3.5481\n",
      "Epoch 93/100\n",
      "25/25 [==============================] - 0s 1ms/step - loss: 0.7413 - accuracy: 0.4963 - lr: 3.9811\n",
      "Epoch 94/100\n",
      "25/25 [==============================] - 0s 1ms/step - loss: 0.7589 - accuracy: 0.4938 - lr: 4.4668\n",
      "Epoch 95/100\n",
      "25/25 [==============================] - 0s 1ms/step - loss: 0.8215 - accuracy: 0.4863 - lr: 5.0119\n",
      "Epoch 96/100\n",
      "25/25 [==============================] - 0s 1ms/step - loss: 0.7841 - accuracy: 0.4613 - lr: 5.6234\n",
      "Epoch 97/100\n",
      "25/25 [==============================] - 0s 1ms/step - loss: 0.8068 - accuracy: 0.5013 - lr: 6.3096\n",
      "Epoch 98/100\n",
      "25/25 [==============================] - 0s 1ms/step - loss: 0.9642 - accuracy: 0.4963 - lr: 7.0795\n",
      "Epoch 99/100\n",
      "25/25 [==============================] - 0s 1ms/step - loss: 0.9655 - accuracy: 0.4913 - lr: 7.9433\n",
      "Epoch 100/100\n",
      "25/25 [==============================] - 0s 2ms/step - loss: 0.8583 - accuracy: 0.4613 - lr: 8.9125\n"
     ]
    }
   ],
   "source": [
    "# Set random seed\n",
    "tf.random.set_seed(42)\n",
    "\n",
    "# 1. Create the model\n",
    "model_9 = tf.keras.models.Sequential([\n",
    "    tf.keras.layers.Dense(4, activation=tf.keras.activations.relu),\n",
    "    tf.keras.layers.Dense(4, activation=tf.keras.activations.relu),\n",
    "    tf.keras.layers.Dense(1, activation=tf.keras.activations.sigmoid),\n",
    "])\n",
    "\n",
    "# 2a. Compile the model\n",
    "model_9.compile(loss= tf.keras.losses.BinaryCrossentropy(),\n",
    "                optimizer= tf.keras.optimizers.Adam(lr=.01),\n",
    "               metrics=[\"accuracy\"])\n",
    "\n",
    "# 2b. Create a learning rate callback\n",
    "lr_scheduler = tf.keras.callbacks.LearningRateScheduler(lambda epoch: 1e-4 * 10**(epoch/20) )\n",
    "\n",
    "# The above plot is essentially saying to offer the learning rate scheduler every epcoh to traverse a set of\n",
    "# learning rate values, starting from 1e-4 and increasing by 10**(epoch/20) every epoch.\n",
    "\n",
    "\n",
    "# 3. Fit the model\n",
    "history_9 = model_9.fit(X_train, y_train, epochs=100, callbacks=[lr_scheduler], verbose=1)"
   ]
  },
  {
   "cell_type": "markdown",
   "id": "81e1a833",
   "metadata": {},
   "source": [
    "Our training appears to have gone as usual, except that this time we can notice in the output the learning rate at each epoch is different from the others."
   ]
  },
  {
   "cell_type": "code",
   "execution_count": 47,
   "id": "29cdf6a8",
   "metadata": {},
   "outputs": [
    {
     "data": {
      "text/html": [
       "<div>\n",
       "<style scoped>\n",
       "    .dataframe tbody tr th:only-of-type {\n",
       "        vertical-align: middle;\n",
       "    }\n",
       "\n",
       "    .dataframe tbody tr th {\n",
       "        vertical-align: top;\n",
       "    }\n",
       "\n",
       "    .dataframe thead th {\n",
       "        text-align: right;\n",
       "    }\n",
       "</style>\n",
       "<table border=\"1\" class=\"dataframe\">\n",
       "  <thead>\n",
       "    <tr style=\"text-align: right;\">\n",
       "      <th></th>\n",
       "      <th>loss</th>\n",
       "      <th>accuracy</th>\n",
       "      <th>lr</th>\n",
       "    </tr>\n",
       "  </thead>\n",
       "  <tbody>\n",
       "    <tr>\n",
       "      <th>0</th>\n",
       "      <td>0.706282</td>\n",
       "      <td>0.49500</td>\n",
       "      <td>0.000100</td>\n",
       "    </tr>\n",
       "    <tr>\n",
       "      <th>1</th>\n",
       "      <td>0.705088</td>\n",
       "      <td>0.49625</td>\n",
       "      <td>0.000112</td>\n",
       "    </tr>\n",
       "    <tr>\n",
       "      <th>2</th>\n",
       "      <td>0.703852</td>\n",
       "      <td>0.49750</td>\n",
       "      <td>0.000126</td>\n",
       "    </tr>\n",
       "    <tr>\n",
       "      <th>3</th>\n",
       "      <td>0.702610</td>\n",
       "      <td>0.49625</td>\n",
       "      <td>0.000141</td>\n",
       "    </tr>\n",
       "    <tr>\n",
       "      <th>4</th>\n",
       "      <td>0.701255</td>\n",
       "      <td>0.49500</td>\n",
       "      <td>0.000158</td>\n",
       "    </tr>\n",
       "  </tbody>\n",
       "</table>\n",
       "</div>"
      ],
      "text/plain": [
       "       loss  accuracy        lr\n",
       "0  0.706282   0.49500  0.000100\n",
       "1  0.705088   0.49625  0.000112\n",
       "2  0.703852   0.49750  0.000126\n",
       "3  0.702610   0.49625  0.000141\n",
       "4  0.701255   0.49500  0.000158"
      ]
     },
     "execution_count": 47,
     "metadata": {},
     "output_type": "execute_result"
    }
   ],
   "source": [
    "# Looking at the content of the model training history\n",
    "history_df9 = pd.DataFrame(history_9.history)\n",
    "history_df9.head()"
   ]
  },
  {
   "cell_type": "markdown",
   "id": "1c418e3a",
   "metadata": {},
   "source": [
    "Let us notice in that we also have a new column in the history dataframe: the learning rate (lr)."
   ]
  },
  {
   "cell_type": "code",
   "execution_count": 50,
   "id": "fef0fc14",
   "metadata": {},
   "outputs": [
    {
     "data": {
      "image/png": "[encoded data removed]",
      "text/plain": [
       "<Figure size 576x432 with 1 Axes>"
      ]
     },
     "metadata": {
      "needs_background": "light"
     },
     "output_type": "display_data"
    }
   ],
   "source": [
    "# Model 9 performance\n",
    "history_df9.plot(figsize=(8,6))\n",
    "\n",
    "plt.xlabel(\"Epochs\")\n",
    "plt.title(\"Model 9 performance per learning rate\");"
   ]
  },
  {
   "cell_type": "markdown",
   "id": "89fd31a9",
   "metadata": {},
   "source": [
    "The above plot looks a little bit different to the loss curves created before.     \n",
    "The accuracy started around 0.5, seems to go up slightly (around 1), then goes down.    \n",
    "The loss started a little higher than 0.5, then goes down fairly significantly, before increasing again.    \n",
    "\n",
    "Recall what we want: the learning rate where our loss decreases the fastest. This seems to be between 40-45. We have few ways to find an exact value:\n",
    "* redo the plot while zoom-in in the x-axis, and maybe defining custom xticks values.\n",
    "* plot the learning rate versus the loss"
   ]
  },
  {
   "cell_type": "code",
   "execution_count": 55,
   "id": "8cccdc4b",
   "metadata": {},
   "outputs": [
    {
     "data": {
      "image/png": "[encoded data removed]",
      "text/plain": [
       "<Figure size 576x432 with 1 Axes>"
      ]
     },
     "metadata": {
      "needs_background": "light"
     },
     "output_type": "display_data"
    }
   ],
   "source": [
    "# Plot the learning rate versus the loss\n",
    "\n",
    "n_epochs=100 # number of epochs we train\n",
    "\n",
    "# Relicating the formula that was passed to the learning rate scheduler\n",
    "lrs = 1e-4 * 10**( tf.range(n_epochs)/20 ) # This gives us the learning rate for each epoch\n",
    "# lrs\n",
    "\n",
    "plt.figure(figsize=[8,6])\n",
    "\n",
    "# Make a plot with log scaling on the X axis\n",
    "plt.semilogx(lrs, history_9.history[\"loss\"]) # the first argument is plotted on the x-axis, the second on the y-axis\n",
    "\n",
    "plt.xlabel(\"Learning rate\")\n",
    "plt.ylabel(\"Loss\")\n",
    "plt.title(\"Loss per learning rate\");"
   ]
  },
  {
   "cell_type": "markdown",
   "id": "1e30cb72",
   "metadata": {},
   "source": [
    "🔑 The methodology to figure out the ideal value for learning rate (or at least the ideal value to begin training our model):\n",
    "1. Take the learning rate value where the loss is still decreasing, but not quite flattened out \n",
    "1. It's usually about 10 times smaller than the bottom of the curve.\n",
    "\n",
    "Looking at the curve, the ideal value for the learning rate is between 0.01 (10e-2) and 0.02 (2*10e-2)"
   ]
  },
  {
   "cell_type": "code",
   "execution_count": 57,
   "id": "f55bdbfc",
   "metadata": {},
   "outputs": [
    {
     "data": {
      "text/plain": [
       "(1, 0.1, 0.01, 0.001, 0.0001)"
      ]
     },
     "execution_count": 57,
     "metadata": {},
     "output_type": "execute_result"
    }
   ],
   "source": [
    "# Examples of typical ideal learning rates values:\n",
    "10**0, 10**-1, 10**-2, 10**-3, 1e-4"
   ]
  },
  {
   "cell_type": "markdown",
   "id": "51486daf",
   "metadata": {},
   "source": [
    "One thing that all the above values have in common is that they are all multiple of 10"
   ]
  },
  {
   "cell_type": "code",
   "execution_count": null,
   "id": "5176413c",
   "metadata": {},
   "outputs": [],
   "source": []
  },
  {
   "cell_type": "code",
   "execution_count": null,
   "id": "2e70a818",
   "metadata": {},
   "outputs": [],
   "source": [
    "# 4. Evaluate the model\n",
    "model_9.evaluate(X_test, y_test)"
   ]
  },
  {
   "cell_type": "code",
   "execution_count": null,
   "id": "39e93f1f",
   "metadata": {},
   "outputs": [],
   "source": []
  },
  {
   "cell_type": "code",
   "execution_count": null,
   "id": "286eeaf4",
   "metadata": {},
   "outputs": [],
   "source": []
  },
  {
   "cell_type": "code",
   "execution_count": null,
   "id": "6950faee",
   "metadata": {},
   "outputs": [],
   "source": []
  }
 ],
 "metadata": {
  "kernelspec": {
   "display_name": "Python 3",
   "language": "python",
   "name": "python3"
  },
  "language_info": {
   "codemirror_mode": {
    "name": "ipython",
    "version": 3
   },
   "file_extension": ".py",
   "mimetype": "text/x-python",
   "name": "python",
   "nbconvert_exporter": "python",
   "pygments_lexer": "ipython3",
   "version": "3.8.8"
  }
 },
 "nbformat": 4,
 "nbformat_minor": 5
}
